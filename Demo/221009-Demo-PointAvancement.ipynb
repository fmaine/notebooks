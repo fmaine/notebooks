{
 "cells": [
  {
   "cell_type": "markdown",
   "id": "e3ec4689",
   "metadata": {},
   "source": [
    "# Plateforme Agnostique de Traitement et d'Analyse des Textes\n",
    "### Carnet d'expérimentation\n",
    "\n",
    "## Contexte\n",
    "- Pour notre projet de recherche sur une plateforme de classification d'articles textuels, d'actualité en français \n",
    "- Un jeu de données de qualité, et en quantité suffisante, est nécessaire.\n",
    "\n",
    "\n",
    "- Nous n'avons pas trouvé de jeu de données pertinent.\n",
    "- Nous avons travaillé 6 mois pour en constituer un\n",
    "\n",
    "\n",
    "- Cette expérience nous confirme qu'il est suffisant pour avancer\n",
    "- Et qu'on peut espérer de bonnes prédictions avec des algoritmes de machine learning supervisés\n",
    "\n",
    "\n",
    "---\n"
   ]
  },
  {
   "cell_type": "markdown",
   "id": "de6dc21a",
   "metadata": {},
   "source": [
    "## Contexte, Environnement et Observations\n",
    "---"
   ]
  },
  {
   "cell_type": "markdown",
   "id": "45ca1f7d",
   "metadata": {},
   "source": [
    "### Technologies utilisées\n",
    "\n",
    "Un environnement à l'état de l'art\n",
    "- *python 3.9.13* - https://www.python.org/\n",
    "- *jupyter notebook* - https://jupyter.org/\n",
    "- *pandas* - https://pandas.pydata.org/\n",
    "- *scikit-learn* - hhttps://scikit-learn.org/stable/index.html\n",
    "\n",
    "Et la plateforme que nous developons dans le cadre du projet\n",
    "- *patat* - https://github.com/fmaine/patat"
   ]
  },
  {
   "cell_type": "markdown",
   "id": "77335d15",
   "metadata": {},
   "source": [
    "### Initialisations"
   ]
  },
  {
   "cell_type": "code",
   "execution_count": 1,
   "id": "908b1c4e",
   "metadata": {},
   "outputs": [
    {
     "name": "stdout",
     "output_type": "stream",
     "text": [
      "/Users/fm/Desktop/Work/Patat\n"
     ]
    }
   ],
   "source": [
    "cd ../.."
   ]
  },
  {
   "cell_type": "code",
   "execution_count": 2,
   "id": "4a93e8c1",
   "metadata": {},
   "outputs": [],
   "source": [
    "import importlib\n",
    "import pandas as pd"
   ]
  },
  {
   "cell_type": "markdown",
   "id": "a4df5447",
   "metadata": {},
   "source": [
    "### Chargement des données\n",
    "\n",
    "Le dataset est composé :\n",
    "- De textes d'environ 87000 articles d'actualité en français\n",
    "- De labelisation sur une 20aie de labels d'un sous ensemble de 455 de ces articles\n",
    "\n"
   ]
  },
  {
   "cell_type": "markdown",
   "id": "d6a84595",
   "metadata": {},
   "source": [
    "#### Articles"
   ]
  },
  {
   "cell_type": "code",
   "execution_count": 3,
   "id": "fc1c1997",
   "metadata": {},
   "outputs": [],
   "source": [
    "article_filename = 'data/demo/221008-Article.csv'"
   ]
  },
  {
   "cell_type": "code",
   "execution_count": 4,
   "id": "594f6479",
   "metadata": {},
   "outputs": [
    {
     "data": {
      "text/html": [
       "<div>\n",
       "<style scoped>\n",
       "    .dataframe tbody tr th:only-of-type {\n",
       "        vertical-align: middle;\n",
       "    }\n",
       "\n",
       "    .dataframe tbody tr th {\n",
       "        vertical-align: top;\n",
       "    }\n",
       "\n",
       "    .dataframe thead th {\n",
       "        text-align: right;\n",
       "    }\n",
       "</style>\n",
       "<table border=\"1\" class=\"dataframe\">\n",
       "  <thead>\n",
       "    <tr style=\"text-align: right;\">\n",
       "      <th></th>\n",
       "      <th>url</th>\n",
       "      <th>title</th>\n",
       "      <th>article</th>\n",
       "      <th>site</th>\n",
       "      <th>author</th>\n",
       "      <th>date_iso</th>\n",
       "      <th>url_h</th>\n",
       "    </tr>\n",
       "  </thead>\n",
       "  <tbody>\n",
       "    <tr>\n",
       "      <th>0</th>\n",
       "      <td>https://reseauinternational.net/tous-les-jeune...</td>\n",
       "      <td>Tous les jeunes, portez la nouvelle (russe)</td>\n",
       "      <td>par Pepe Escobar.\\nL’OCS à Samarcande et l’Ass...</td>\n",
       "      <td>reseauinternational.net</td>\n",
       "      <td>NaN</td>\n",
       "      <td>2022-09-30T00:00:00</td>\n",
       "      <td>f95a294c94ff76cc9626ae06300a8b38067f89cf</td>\n",
       "    </tr>\n",
       "    <tr>\n",
       "      <th>1</th>\n",
       "      <td>https://reseauinternational.net/adhesion-a-la-...</td>\n",
       "      <td>Adhésion à la Russie : 93% pour le « oui » dan...</td>\n",
       "      <td>Dans les régions de Zaporijia et de Kherson, 9...</td>\n",
       "      <td>reseauinternational.net</td>\n",
       "      <td>NaN</td>\n",
       "      <td>2022-09-30T00:00:00</td>\n",
       "      <td>c924dab7ded47578d81c3ae46f8be0964b3c50f1</td>\n",
       "    </tr>\n",
       "    <tr>\n",
       "      <th>2</th>\n",
       "      <td>https://lemediaen442.fr/onu-le-premier-ministr...</td>\n",
       "      <td>ONU – Le Premier ministre de Nouvelle-Zélande ...</td>\n",
       "      <td>L’argument principal de la ministre est que le...</td>\n",
       "      <td>lemediaen442.fr</td>\n",
       "      <td>NaN</td>\n",
       "      <td>2022-09-29T00:00:00</td>\n",
       "      <td>3d47a59ef99274fd9ee96c209cc2ab41d6e1f6bb</td>\n",
       "    </tr>\n",
       "    <tr>\n",
       "      <th>3</th>\n",
       "      <td>https://www.francesoir.fr/societe-environnemen...</td>\n",
       "      <td>Compostage humain: les “funérailles vertes” ga...</td>\n",
       "      <td>Aux États-Unis, les différents gouvernements r...</td>\n",
       "      <td>www.francesoir.fr</td>\n",
       "      <td>Auteur(s)\\nFranceSoir</td>\n",
       "      <td>2022-09-28T13:15:00</td>\n",
       "      <td>0c0341a1f5fae820ee307cb54024df6b06a93d85</td>\n",
       "    </tr>\n",
       "    <tr>\n",
       "      <th>4</th>\n",
       "      <td>https://www.breizh-info.com/2022/09/27/208410/...</td>\n",
       "      <td>Donatello : génie de la Renaissance</td>\n",
       "      <td>Portrait du sculpteur Donatello (1386-1466), p...</td>\n",
       "      <td>www.breizh-info.com</td>\n",
       "      <td>NaN</td>\n",
       "      <td>2022-09-27T00:00:00</td>\n",
       "      <td>fcce819327d0302c4cf5e3a8a43b54327ffb8e63</td>\n",
       "    </tr>\n",
       "    <tr>\n",
       "      <th>...</th>\n",
       "      <td>...</td>\n",
       "      <td>...</td>\n",
       "      <td>...</td>\n",
       "      <td>...</td>\n",
       "      <td>...</td>\n",
       "      <td>...</td>\n",
       "      <td>...</td>\n",
       "    </tr>\n",
       "    <tr>\n",
       "      <th>87179</th>\n",
       "      <td>https://www.profession-gendarme.com/zelensky-e...</td>\n",
       "      <td>Zelensky est « une marionnette qui fait inutil...</td>\n",
       "      <td>Encore un journaliste surpris qu’un colonel am...</td>\n",
       "      <td>www.profession-gendarme.com</td>\n",
       "      <td>NaN</td>\n",
       "      <td>NaN</td>\n",
       "      <td>e346761c2a99d892b26c9388480e0ee6ad6b303b</td>\n",
       "    </tr>\n",
       "    <tr>\n",
       "      <th>87180</th>\n",
       "      <td>https://www.profession-gendarme.com/zelensky-l...</td>\n",
       "      <td>Zélensky : l’arnaque de la contre-offensive uk...</td>\n",
       "      <td>Le président Zelensky et ses alliés de l’Otan ...</td>\n",
       "      <td>www.profession-gendarme.com</td>\n",
       "      <td>NaN</td>\n",
       "      <td>NaN</td>\n",
       "      <td>77525354644316eadab53960efa8f5fd028c7f67</td>\n",
       "    </tr>\n",
       "    <tr>\n",
       "      <th>87181</th>\n",
       "      <td>https://www.profession-gendarme.com/zelensky-m...</td>\n",
       "      <td>Zelensky massacre maintenant des citoyens ukra...</td>\n",
       "      <td>ZELENSKY A ORDONNÉ QUE TOUTES LES PERSONNES FU...</td>\n",
       "      <td>www.profession-gendarme.com</td>\n",
       "      <td>NaN</td>\n",
       "      <td>NaN</td>\n",
       "      <td>fc6a074da5c02032bc9fc3f35f1044bc4029042c</td>\n",
       "    </tr>\n",
       "    <tr>\n",
       "      <th>87182</th>\n",
       "      <td>https://www.profession-gendarme.com/zero-mort-...</td>\n",
       "      <td>Zéro mort du coronavirus : comment expliquer l...</td>\n",
       "      <td>Le Vietnam est une exception dans le monde : a...</td>\n",
       "      <td>www.profession-gendarme.com</td>\n",
       "      <td>NaN</td>\n",
       "      <td>NaN</td>\n",
       "      <td>e4f0a8961d79c9a5f66c80d7aa4196cb679af2b0</td>\n",
       "    </tr>\n",
       "    <tr>\n",
       "      <th>87183</th>\n",
       "      <td>https://www.profession-gendarme.com/zoom-franc...</td>\n",
       "      <td>Zoom – Francis Cousin : « La grande explosion ...</td>\n",
       "      <td>Francis Cousin, docteur en philosophie, annonc...</td>\n",
       "      <td>www.profession-gendarme.com</td>\n",
       "      <td>NaN</td>\n",
       "      <td>NaN</td>\n",
       "      <td>36a0091795b15d56005a6b7b8963ada539f598eb</td>\n",
       "    </tr>\n",
       "  </tbody>\n",
       "</table>\n",
       "<p>87184 rows × 7 columns</p>\n",
       "</div>"
      ],
      "text/plain": [
       "                                                     url  \\\n",
       "0      https://reseauinternational.net/tous-les-jeune...   \n",
       "1      https://reseauinternational.net/adhesion-a-la-...   \n",
       "2      https://lemediaen442.fr/onu-le-premier-ministr...   \n",
       "3      https://www.francesoir.fr/societe-environnemen...   \n",
       "4      https://www.breizh-info.com/2022/09/27/208410/...   \n",
       "...                                                  ...   \n",
       "87179  https://www.profession-gendarme.com/zelensky-e...   \n",
       "87180  https://www.profession-gendarme.com/zelensky-l...   \n",
       "87181  https://www.profession-gendarme.com/zelensky-m...   \n",
       "87182  https://www.profession-gendarme.com/zero-mort-...   \n",
       "87183  https://www.profession-gendarme.com/zoom-franc...   \n",
       "\n",
       "                                                   title  \\\n",
       "0            Tous les jeunes, portez la nouvelle (russe)   \n",
       "1      Adhésion à la Russie : 93% pour le « oui » dan...   \n",
       "2      ONU – Le Premier ministre de Nouvelle-Zélande ...   \n",
       "3      Compostage humain: les “funérailles vertes” ga...   \n",
       "4                    Donatello : génie de la Renaissance   \n",
       "...                                                  ...   \n",
       "87179  Zelensky est « une marionnette qui fait inutil...   \n",
       "87180  Zélensky : l’arnaque de la contre-offensive uk...   \n",
       "87181  Zelensky massacre maintenant des citoyens ukra...   \n",
       "87182  Zéro mort du coronavirus : comment expliquer l...   \n",
       "87183  Zoom – Francis Cousin : « La grande explosion ...   \n",
       "\n",
       "                                                 article  \\\n",
       "0      par Pepe Escobar.\\nL’OCS à Samarcande et l’Ass...   \n",
       "1      Dans les régions de Zaporijia et de Kherson, 9...   \n",
       "2      L’argument principal de la ministre est que le...   \n",
       "3      Aux États-Unis, les différents gouvernements r...   \n",
       "4      Portrait du sculpteur Donatello (1386-1466), p...   \n",
       "...                                                  ...   \n",
       "87179  Encore un journaliste surpris qu’un colonel am...   \n",
       "87180  Le président Zelensky et ses alliés de l’Otan ...   \n",
       "87181  ZELENSKY A ORDONNÉ QUE TOUTES LES PERSONNES FU...   \n",
       "87182  Le Vietnam est une exception dans le monde : a...   \n",
       "87183  Francis Cousin, docteur en philosophie, annonc...   \n",
       "\n",
       "                              site                 author  \\\n",
       "0          reseauinternational.net                    NaN   \n",
       "1          reseauinternational.net                    NaN   \n",
       "2                  lemediaen442.fr                    NaN   \n",
       "3                www.francesoir.fr  Auteur(s)\\nFranceSoir   \n",
       "4              www.breizh-info.com                    NaN   \n",
       "...                            ...                    ...   \n",
       "87179  www.profession-gendarme.com                    NaN   \n",
       "87180  www.profession-gendarme.com                    NaN   \n",
       "87181  www.profession-gendarme.com                    NaN   \n",
       "87182  www.profession-gendarme.com                    NaN   \n",
       "87183  www.profession-gendarme.com                    NaN   \n",
       "\n",
       "                  date_iso                                     url_h  \n",
       "0      2022-09-30T00:00:00  f95a294c94ff76cc9626ae06300a8b38067f89cf  \n",
       "1      2022-09-30T00:00:00  c924dab7ded47578d81c3ae46f8be0964b3c50f1  \n",
       "2      2022-09-29T00:00:00  3d47a59ef99274fd9ee96c209cc2ab41d6e1f6bb  \n",
       "3      2022-09-28T13:15:00  0c0341a1f5fae820ee307cb54024df6b06a93d85  \n",
       "4      2022-09-27T00:00:00  fcce819327d0302c4cf5e3a8a43b54327ffb8e63  \n",
       "...                    ...                                       ...  \n",
       "87179                  NaN  e346761c2a99d892b26c9388480e0ee6ad6b303b  \n",
       "87180                  NaN  77525354644316eadab53960efa8f5fd028c7f67  \n",
       "87181                  NaN  fc6a074da5c02032bc9fc3f35f1044bc4029042c  \n",
       "87182                  NaN  e4f0a8961d79c9a5f66c80d7aa4196cb679af2b0  \n",
       "87183                  NaN  36a0091795b15d56005a6b7b8963ada539f598eb  \n",
       "\n",
       "[87184 rows x 7 columns]"
      ]
     },
     "execution_count": 4,
     "metadata": {},
     "output_type": "execute_result"
    }
   ],
   "source": [
    "import patat.db.article_db\n",
    "\n",
    "article_db = patat.db.article_db.ArticleDb(article_filename)\n",
    "\n",
    "article_db.df()"
   ]
  },
  {
   "cell_type": "markdown",
   "id": "4e8238cd",
   "metadata": {},
   "source": [
    "Base d'envion 87000 articles.\n",
    "\n",
    "On ne s'intéresse qu'aux textes des titres et du corps des articles\n",
    "\n",
    "Exemples d'articles :"
   ]
  },
  {
   "cell_type": "code",
   "execution_count": 5,
   "id": "c547e7eb",
   "metadata": {},
   "outputs": [
    {
     "name": "stdout",
     "output_type": "stream",
     "text": [
      "Sophie Conrad témoigne contre Laurent Bigorgne, le violeur cocaïnomane récidiviste, protégé par la macronie !\n",
      "https://www.lelibrepenseur.org/le-pr-jean-michel-claverie-alerte-sur-linefficacite-de-la-vaccination-covid-19/\n",
      "Excellente tribune du Professeur Jean-Michel Claverie concernant l’efficacité de la vaccination qui est en chute libre en prenant l’exemple de l’Israël et de l’Inde ! Il terminera sa tribune par un rappel utile, la science « officielle » n’a jamais fait bon ménage avec la vérité et il suffit de constater la censure de tout ceux qui sont contre le narratif officiel de la Doxa pour le constater.\n",
      "\n",
      "\n",
      "Triste rentrée. Le Covid est toujours là et nous accueille de retour de vacances dans un contexte de confusion grandissante. Israël, un des pays le mieux vaccinés (150 doses/100 habitants) et dont les contraintes sanitaires ont été parmi les plus sévères, se débat maintenant avec quatre fois plus d’infections journalières que la France (1.000/million), sans que personne ne comprenne pourquoi. Même incompréhension dans l’autre sens, avec l’Inde, qui dénombre cinq fois moins de décès par million d’habitants (0,36) que la France (2), avec un taux de vaccination de seulement 10 %. Le PDG de Pfizer, aussitôt suivi par la plupart des gouvernements occidentaux, assure que son vaccin est toujours efficace contre le variant Delta, mais recommande une troisième dose. Les rebonds épidémiques seraient dus à une (trop) faible persistance de l’immunité. Cette obsolescence (non programmée !?) ne devrait-elle pas entraîner une révision des contrats plutôt qu’une hausse des tarifs (actée) ? Elle est pourtant la conséquence d’un recul insuffisant des essais cliniques. Ce vaccin, qui n’empêche ni l’infection ni la contagion, doit-il rester la seule solution, alors que l’immunité naturelle beaucoup plus large et durable acquise par les jeunes au terme d’une infection souvent\n",
      "asymptomatique est maintenant avérée ? Et le « passe sanitaire », autorisant le mélange de vaccinés infectés avec des non-vaccinés sains, est-il encore justifié ? Face à cette situation complexe et chaotique, il semblerait raisonnable de prôner une réflexion aussi large que possible, réhabilitant la pratique contradictoire du doute, concept fondateur de la science moderne. Or on assiste au contraire.\n",
      "Dans un amalgame avec les tenants du complotisme et les ignorants, ceux qui doutent, de par leur expertise même, sont désormais censurés par les médias, vilipendés par les ministres, accusés de trahison par les sociétés savantes. Attention : la science « officielle » n’a jamais fait bon ménage avec la vérité !\n",
      "Jean-Michel Claverie est professeur émérite à Aix-Marseille Université.\n",
      "\n",
      "\n",
      "--------------------\n",
      "\n",
      "\n",
      "La Russie a fait une petite avancée face à l’OTAN\n",
      "https://lesakerfrancophone.fr/la-russie-a-fait-une-petite-avancee-face-a-lotan\n",
      "Dans l’état actuel des tensions, les deux parties savent au moins désormais à quoi s’en tenir.\n",
      "\n",
      "Par Fyodor Lukyanov − Le 30 janvier 2022 − Source RT\n",
      "La dégradation rapide des relations entre la Russie et l’Occident semble ne faire que commencer, mais elle a déjà apporté quelque chose. L’impasse sur l’expansion de l’OTAN pourrait finalement s’avérer être une bénédiction, car elle a fait disparaître la couche d’hypocrisie dont ces relations étaient recouvertes. Ce vernis était un mélange de double face, de double discours et d’illusion sur soi, avec une bonne part de dogme idéologique. La quantité des ingrédients de la recette était une question de goût, mais le mélange restait essentiellement le même.\n",
      "\n",
      "Lorsque Moscou a décidé de ne plus mâcher ses mots, cela a provoqué un choc. Soudain, cela n’avait plus de sens et ne servait plus à rien de continuer à tisser des récits politiquement corrects avec des déclarations encore plus vides de sens. Le revêtement s’est détaché de l’édifice, révélant sa structure sous-jacente ; une structure où les deux parties peuvent au moins voir l’état de délabrement tel qu’il est.\n",
      "Cette détérioration des liens bilatéraux a donné lieu à quelques découvertes curieuses. La plus intéressante d’entre elles est que l’expansion de l’OTAN au cours des 25 dernières années n’a en rien contribué à renforcer la puissance politique ou militaire du bloc. En termes de capacité militaire, elle a accueilli un certain nombre de pays qui n’ont pas eu grand-chose à apporter à la force conjointe mais qui, par contre, bénéficient des mêmes privilèges quant à l’assistance qu’ils peuvent recevoir, conformément à la charte. En termes politiques, la situation est encore plus compliquée.\n",
      "L’OTAN s’est développée au point que ses membres ne sont plus en phase sur le sujet des menaces. En effet, il est difficile d’imaginer une menace qui préoccupe autant le Canada que le Portugal, la Lituanie que la Grèce ou la Turquie que l’Islande, par exemple. La longue recherche par l’OTAN d’une mission unificatrice qui pouvait remplacer la guerre froide est restée infructueuse en raison d’une telle diversité d’intérêts entre ses États membres. Tant que la situation sur la scène mondiale restait calme, les désaccords étaient réglés au moyen de discussions, de sommet en sommet, et de beaucoup de paperasserie. Lorsqu’il s’agissait de l’engagement du bloc sur le terrain (en Yougoslavie et ailleurs), il y avait toujours un groupe de nations qui prenait l’initiative tandis que les autres apportaient un soutien symbolique.\n",
      "Lorsque la géopolitique de l’après-guerre froide s’est orientée vers un conflit avec la Russie post-soviétique, il a semblé que cela apportait enfin la solution à la recherche d’une mission par l’OTAN, qui durait depuis dix ans. La boucle était bouclée, les choses étaient revenues à l’ancien temps. Mais cela n’a pas fonctionné et ne peut plus fonctionner ainsi. Les « nouveaux anciens » adversaires dépendent beaucoup plus les uns des autres aujourd’hui qu’à l’époque de la guerre froide. L’impasse entre Moscou et l’OTAN concerne ces mêmes États qui relèvent de la politique d’élargissement de l’Union, qui vise à servir de fondement à la sécurité européenne. C’est cette même politique qui est le résultat de la guerre froide et qui a affecté ses perdants, notamment les républiques post-soviétiques et les États post-socialistes d’Europe. Les garanties de sécurité de l’OTAN indiquent que l’ensemble du bloc est prêt à s’opposer à la Russie si ses États membres d’Europe de l’Est le lui demandent ; ou du moins, c’est ainsi qu’il devrait en être.\n",
      "Cependant, c’est là que la diversité des intérêts entre en jeu, car trop d’États membres ne considèrent pas une telle situation comme une menace imminente pour eux-mêmes, même s’ils choisissent de soutenir officiellement la cause. Pour eux, ce qui se passe en Europe de l’Est est trop éloigné et trop ancré dans une histoire dont ils ne font pas partie, alors pourquoi prendre le risque ? Ce manque d’alignement entre les États membres n’a rien d’inquiétant dans les périodes calmes, mais dans les périodes difficiles, l’OTAN doit prendre position, d’autant plus que les États qui cherchent à se protéger de la prétendue agression russe exigent publiquement des preuves de la solidarité promise par l’organisation. Elle ne peut revenir publiquement sur ses promesses sans saper ses propres fondations.\n",
      "En d’autres termes, lorsque l’OTAN a formulé sa politique d’élargissement, elle ne s’attendait pas vraiment à ce que les garanties de sécurité qu’elle offrait soient mises à contribution par quiconque à long terme. Si cela se produit lorsqu’un État membre de l’OTAN appelle à l’aide, que dire des appels à l’aide des non-membres, même si la propagande massive leur a fait croire qu’ils n’étaient qu’à un pas d’être à bord ?\n",
      "L’incident récent au cours duquel le chef de la marine allemande a dû démissionner en raison de remarques qu’il a malencontreusement formulées lors d’une visite en Inde en dit long sur la situation. Les doutes qu’il a exprimés au sujet de l’impasse croissante étaient logiques, ce qui signifie qu’il n’est peut-être pas le seul à les avoir eus. Il s’agit plutôt d’une question de priorités et d’intérêts nationaux. Pourquoi alimenter le conflit avec la Russie alors que le monde change, et que ce changement n’est plus en faveur de l’Europe ou de l’Allemagne, tandis que la Chine s’impose comme une nouvelle force puissante et pas nécessairement amicale sur la scène mondiale ? Cela a encore moins de sens compte tenu de la situation sociale et économique difficile, alors pourquoi prendre la peine de l’aggraver en rompant les liens avec un fournisseur d’énergie clé et un partenaire économique important ?\n",
      "Au fil des décennies, l’OTAN a subi une transformation singulière. Pendant la guerre froide, l’organisation a parlé très fermement de sa volonté de faire face à la menace communiste alors qu’elle n’a jamais eu à le faire réellement. En conséquence, elle a développé une image très positive d’elle-même. Plus tard, elle s’est éloignée de sa rhétorique militariste et a commencé à se promouvoir comme un outil de stabilité et de transformation politique. Le paradoxe, c’est qu’elle a finalement dû accomplir des missions militaires – en Yougoslavie, puis en Irak et en Libye. Dès lors, tous les discours sur le caractère strictement défensif des politiques de l’OTAN n’avaient plus de raison d’être. Aujourd’hui, l’OTAN est arrivée à un point où certains de ses alliés effrayés lui demandent d’utiliser la force et de faire ses preuves en tant qu’organisation militaire, mais il semble qu’elle ne soit pas très enthousiaste.\n",
      "Les récentes actions de la Russie ont forcé l’OTAN à renoncer aux exercices de rhétorique et à commencer à revoir ses objectifs et ses intérêts, ainsi qu’à tester les limites jusqu’où elle est prête à aller, en termes réels et non pas en termes de relations publiques. Et cela est déjà une avancée.\n",
      "Fyodor Lukyanov, rédacteur en chef de Russia in Global Affairs, président du Conseil de politique étrangère et de défense et directeur de recherche du Valdai International Discussion Club.\n",
      "Traduit par Wayan, relu par Hervé, pour le Saker Francophone\n",
      "\n",
      "\n",
      "--------------------\n",
      "\n",
      "\n",
      "\"Arctique\", manifeste théâtral contre le réchauffement climatique\n",
      "https://www.francesoir.fr/culture-art-expo/arctique-manifeste-theatral-contre-le-rechauffement-climatique\n",
      "En 2025, le dernier ours polaire viendra se venger de nous: la metteuse en scène belge Anne-Cécile Vandalem offre une vision cauchemardesque de l'avenir dans sa pièce écolo-politique \"Arctique\", présentée au Festival d'Avignon.Comme pour sa précédente pièce \"Tristesses\" --un thriller qui mettait en avant la montée du populisme--, la Belge choisit la forme du polar pour parler de la situation actuelle au Groenland, île autonome danoise située entre l'océan Arctique et l'océan Atlantique.Riche en ressources naturelle mais sous-exploité, ce large territoire recouvert de glace aux trois quarts, est menacé par le réchauffement.Dans la pièce, située en 2025, sept personnages sont à bord de l'\"Arctic Serenity\", un ancien navire de croisière qui aurait dû contribuer au développement touristique du Groenland.Mais le paquebot fut victime dix ans plus tôt d'un accident, provoquant la mort d'une militante écologiste qui dénonçait l’exploitation du Groenland par des multinationales minières et pétrolières.Ayant répondu à une invitation mystérieuse, les personnages, qui portent tous une culpabilité dans l'accident, sont soudain abandonnés au milieu des eaux internationales et se rendent comptent qu'ils sont l'objet d'une vengeance.Vandalem réussit le tour de force de \"reconstituer\" le bateau: la scène représente sa salle principale, tandis que l'action sur le pont et dans les couloirs est filmée dans les coulisses et visionnée en même temps sur un écran.Le va-et-vient incessant des personnages entre les deux espaces crée une incroyable tension tout au long du spectacle non dénué d'humour et construit à la manière des \"Dix petits nègres\" d'Agatha Christie.A un moment de la pièce, un énorme ours polaire en peluche débarque sur scène, menaçant.\"C'est une métaphore de cette nature qui se venge; cet ours qui est censé ne plus exister, revient pour reprendre son territoire\", explique à l'AFP Anne-Cécile Vandalem, qui a visité le Groenland et interrogé habitants et chercheurs.\"La situation en Arctique est vraiment préoccupante, la répartition du territoire est en train de se faire entre les grandes puissances car c'est là que se trouvent les dernières richesses de la planète\", poursuit cette metteuse en scène.Elle révèle avoir été étonnée par le fait que certains habitants du Groenland voyaient le réchauffement climatique comme une aubaine, puisqu'il ouvrait la voie aux métiers de tourisme et de mine.Le Groenland suscite aussi bien les appétits occidentaux, russes que chinois du fait de sa position géographique.La pièce de Vandalem sera à l'affiche du théâtre parisien de l'Odéon en janvier.\n",
      "\n",
      "\n",
      "--------------------\n",
      "\n",
      "\n",
      "Sophie Conrad témoigne contre Laurent Bigorgne, le violeur cocaïnomane récidiviste, protégé par la macronie !\n",
      "https://www.lelibrepenseur.org/officiel-lisa-shaw-44-ans-presentatrice-a-la-bbc-est-decedee-a-la-suite-de-complications-du-vaccin-astrazeneca/\n",
      "On a pu croiser sur les réseaux sociaux ici et là des guignols qui nous expliquaient qu’il n’y avait aucun lien d’imputabilité entre la vaccination et le décès de cette présentatrice de la BBC. Nous avons eu encore une fois raison de l’affirmer car c’est le cas, c’est le constat réalisé par la médecine légale. Elle avait 44 ans, ne souffrait d’aucune maladie chronique, le covid-19 ne l’a pas tuée, le vaccin s’en est chargé.\n",
      "Cette dame a été assassinée par un système complètement fou est totalement déconnecté du réel, elle a été tuée par le covidisme.\n",
      "\n",
      "\n",
      "\n",
      "Lisa Shaw, 44 ans, est morte à l’Infirmerie royale Victoria de Newcastle trois semaines après la première dose, a déclaré la coroner.\n",
      "\n",
      "L’animatrice de la BBC, par ailleurs en bonne santé, s’est plainte de maux de tête. Les scanners ont ensuite révélé une hémorragie cérébrale, selon l’enquête.\n",
      "Sur près de 50 millions de doses administrées, 417 cas de coagulation sanguine ont été recensés après l’administration du vaccin d’AstraZeneca.\n",
      "La famille a rendu hommage à « la plus merveilleuse des épouses, mères, filles, sœurs et amies » dans une déclaration après l’audience.\n",
      "Lisa Shaw, présentatrice de la BBC, est décédée à la suite de complications liées au vaccin AstraZeneca, a conclu aujourd’hui un coroner dans ce qui semble être la première fois qu’un vaccin Covid est officiellement considéré comme la cause sous-jacente d’un décès au Royaume-Uni.\n",
      "Cette femme de 44 ans, par ailleurs en bonne santé, qui travaillait pour BBC Radio Newcastle, est décédée en mai après avoir souffert de maux de tête à la suite de sa première dose du vaccin fabriqué en Grande-Bretagne.\n",
      "La coroner Karen Dilks a appris que Mme Shaw souffrait de caillots sanguins dans le cerveau, ce qui a provoqué une attaque mortelle. Elle est décédée à l’Infirmerie royale Victoria de Newcastle trois semaines après l’injection.\n",
      "L’enquête, qui a duré moins d’une heure, a révélé que la maladie liée au vaccin d’AstraZeneca était extrêmement rare.\n",
      "Au total, 417 cas de coagulation sanguine ont été recensés après l’administration du vaccin AstraZeneca, sur près de 50 millions de doses administrées, selon l’organisme de surveillance médicale du Royaume-Uni.\n",
      "L’Agence de réglementation des médicaments et des produits de santé (MHRA) a déclaré que le taux de survenue de cet incident était d’environ 15 par million d’injections.\n",
      "Soixante-douze Britanniques sont décédés à la suite de cette complication, mais le cas de Mme Shaw serait le premier à être officiellement attribué au vaccin par un coroner.\n",
      "Le trouble de la coagulation, qui semble se produire à un taux plus élevé chez les jeunes, a incité les responsables de la santé du Royaume-Uni à recommander à tous les moins de 40 ans de recevoir le Pfizer ou le Moderna à la place.\n",
      "Mais les recherches menées depuis que la décision a été prise de restreindre l’utilisation du vaccin d’AstraZeneca suggèrent que le risque de caillots est en fait plus élevé du fait de l’infection Covid elle-même que du fait de la vaccination.\n",
      "\n",
      "\n",
      "\n",
      "\n",
      "Quel est le risque de contracter un caillot sanguin après le vaccin d’AstraZeneca ?\n",
      "\n",
      "Les autorités réglementaires britanniques ont recensé 417 cas de thrombocytopénie immunitaire et de thrombose induites par le vaccin AstraZeneca jusqu’au 18 août. Quarante-quatre cas sont survenus après une deuxième dose.\n",
      "À cette date, 24,8 millions de Britanniques avaient reçu leur premier vaccin d’AstraZeneca et 23,6 millions avaient déjà été complètement vaccinés.\n",
      "Le Dr Pavord a déclaré lors d’un point de presse destiné aux journalistes de la santé : « Il est important de souligner que ce type de réaction au vaccin Oxford-AstraZeneca est très rare. Chez les personnes âgées de moins de 50 ans, l’incidence est d’environ une sur 50 000 chez les personnes ayant reçu le vaccin ».\n",
      "Elle a également indiqué que les médecins n’avaient pas constaté de cas de TIV (thrombose intra-vasculaire) au cours des quatre dernières semaines, ce qui, selon elle, constitue « un énorme soulagement ».\n",
      "Leurs conclusions, publiées dans le New England Journal of Medicine, ont montré que le taux de mortalité global était d’environ 23 %.\n",
      "Les chercheurs ont évalué 294 patients âgés de 18 à 79 ans. Tous les patients avaient reçu la première dose du vaccin d’AstraZeneca.\n",
      "Selon eux, le traitement du TIV peut impliquer l’administration d’immunoglobulines par voie intraveineuse pour augmenter le nombre de plaquettes, de stéroïdes pour atténuer le système immunitaire et d’anticoagulants pour prévenir la formation de nouveaux caillots sanguins.\n",
      "Des traitements tels que l’échange de plasma, qui consiste à retirer du sang le liquide de couleur paille appelé plasma et à le remplacer par un nouveau liquide plasmatique, peuvent augmenter considérablement les chances de survie des personnes atteintes d’une maladie grave.\n",
      "Dans une déclaration publiée après l’audience, la famille de Shaw a déclaré : « C’est un autre jour difficile dans ce qui a été une période dévastatrice pour nous.\n",
      "La mort de notre chère Lisa a laissé un vide terrible dans notre famille et dans nos vies.\n",
      "Elle était vraiment la plus merveilleuse des épouses, mères, filles, sœurs et amies.\n",
      "Nous avons dit tout ce que nous voulions dire en public en ce moment et nous demandons à être laissés seuls pour faire notre deuil et reconstruire nos vies en privé. Merci.\n",
      "Shaw, qui n’était pas connu pour avoir des problèmes de santé sous-jacents, a développé des maux de tête « sévères » une semaine après avoir été vaccinée et est tombée gravement malade quelques jours plus tard.\n",
      "Ses proches ont déclaré : « Elle a été traitée par l’équipe de soins intensifs du RVI [Royal Victoria Infirmary] pour des caillots de sang et des saignements dans la tête.\n",
      "Tragiquement, elle est décédée, entourée de sa famille, vendredi après-midi. Nous sommes dévastés et il y a un trou en forme de Lisa dans nos vies qui ne pourra jamais être comblé. Nous l’aimerons et elle nous manquera toujours.\n",
      "C’est un grand réconfort de voir à quel point elle était aimée par tous ceux dont elle a touché la vie, et nous demandons de l’intimité en ce moment pour nous permettre de faire notre deuil en famille.\n",
      "Le mari de Shaw, Gareth Eve, a également assisté à l’enquête avec d’autres membres de la famille.\n",
      "Le coroner a déclaré : « Le 29 avril 2021, elle a reçu une première dose du vaccin AstraZeneca et, à la suite de cela, elle a développé une thrombose et une thrombocytopénie induites par le vaccin – une complication rare et agressive associée au vaccin AstraZeneca, qui a été la cause sous-jacente de son décès ».\n",
      "L’enquête a révélé que Mme Shaw, mère d’un enfant de Consett,  dans le comté de Durham, s’était rendue à l’hôpital universitaire de North Durham le 13 mai après s’être plainte d’un violent mal de tête, accompagné de douleurs fulgurantes sur le front et derrière les yeux.\n",
      "Le coroner a déclaré que Mme Shaw s’était auparavant plainte de douleurs dans toute la tête.\n",
      "Après qu’un scanner ait révélé une thrombose du sinus veineux, la décision a été prise de la transférer au Royal Victoria, a-t-on appris à l’audience.\n",
      "Le Dr Christopher Johnson, consultant en anesthésie et en soins intensifs à l’hôpital, a déclaré à l’enquête de la Cour du coroner de Newcastle que Mme Shaw a d’abord été traitée avec des anticoagulants, mais qu’une opération a été entreprise pour soulager la pression sur son cerveau après la détection d’un saignement.\n",
      "Mais le Dr Johnson a déclaré que l’opération n’avait pas permis de traiter la cause sous-jacente de l’hémorragie et que les risques étaient trop importants pour tenter de retirer le caillot « manuellement ».\n",
      "Le consultant a déclaré que le traitement de Mme Shaw avait été déterminé en consultation avec un groupe national d’experts qui se réunissait quotidiennement.\n",
      "C’est l’un des premiers cas de thrombocytopénie immunitaire et de thrombose induites par le vaccin que j’ai vu et qui ont été observés au niveau national », a-t-il déclaré.\n",
      "À la question de savoir si son équipe était d’avis que la « cause sous-jacente des événements qui ont tragiquement touché Lisa était des complications du vaccin AstraZeneca », le Dr Johnson a répondu : « Oui, nous l’étions ».\n",
      "\n",
      "\n",
      "\n",
      "Un tweet de BBC Radio Newcastle a été posté peu après le décès de Shaw. La station de radio a déclaré : « Elle était une brillante présentatrice, une amie merveilleuse, une épouse et une mère aimante ».\n",
      "Interrogé par le coroner sur le fait de savoir si l’équipe du Royal Victoria avait revu les soins prodigués à Mme Shaw, le consultant a répondu que les traitements administrés et leurs séquences étaient désormais des pratiques reconnues au niveau national.\n",
      "Il a ajouté : « Je ne pense pas qu’il y ait quoi que ce soit que quiconque aurait pu faire différemment. Si nous avions la même présentation demain, nous ferions la même chose ».\n",
      "Le pathologiste Tuomo Polvikoski a déclaré à l’enquête que Lisa était en bonne santé avant de recevoir le vaccin, et qu’il était « assez surprenant qu’elle ait développé ce type de thrombose ».\n",
      "Interrogé sur la cause sous-jacente de la coagulation fatale dans son cerveau, le Dr Polvikoski a déclaré que les preuves cliniques « soutiennent fortement l’idée qu’elle a été, en effet, induite par le vaccin ».\n",
      "Il a ajouté : « Sur la base des informations cliniques disponibles, cela semble être l’explication la plus probable ».\n",
      "\n",
      "Le coroner principal de Newcastle, Karen Dilks, a enregistré une conclusion narrative, qui disait : « Lisa est décédée suite à des complications d’un vaccin AstraZeneca Covid ».\n",
      "La BBC a déclaré : « Nous avons tous le cœur brisé, nous sommes incrédules, engourdis et attristés par le fait qu’il y a un trou en forme de Lisa dans nos vies qui ne sera jamais, jamais comblé.\n",
      "Nous sommes tellement reconnaissants pour le temps que nous avons passé avec elle, et il y a tellement de souvenirs heureux que nous garderons pour le reste de notre vie.\n",
      "Elle était la meilleure épouse et maman, sœur, fille, tante, amie et collègue que l’on puisse espérer ».\n",
      "La société a ajouté : « Elle aimait se connecter chaque jour avec les gens merveilleux du Nord-Est, et cela nous réconforte beaucoup de savoir combien de vies elle faisait partie intégrante de chaque jour.\n",
      "Nous tenons à remercier tout le monde pour l’immense amour et le soutien que nous avons reçus dans un moment aussi difficile, ce qui confirme à quel point elle était appréciée par tant de personnes. Nous l’aimerons et elle nous manquera toujours.\n",
      "Les chercheurs insistent sur le fait que le lien entre les caillots sanguins et le vaccin Covid d’AstraZeneca est rare, l’effet secondaire ne touchant qu’une personne sur 50 000 personnes de moins de 50 ans ayant reçu le vaccin britannique.\n",
      "Parmi ces personnes, 23 % sont décédées des suites d’une thrombocytopénie et d’une thrombose immunitaire induites par le vaccin (VITT) – le nom de cet effet secondaire.\n",
      "Les experts ont affirmé qu’il était plus mortel que d’autres troubles de la coagulation similaires.\n",
      "La thrombocytopénie est un état dans lequel le patient présente un faible nombre de cellules qui aident le sang à coaguler, appelées plaquettes. La thrombose se produit lorsque des caillots sanguins bloquent les veines ou les artères, et constitue une cause majeure d’accidents vasculaires cérébraux et de crises cardiaques.\n",
      "Les universitaires de l’Oxford University Hospitals NHS Foundation Trust ont également révélé qu’aucun caillot n’a été observé depuis plus d’un mois. Mais c’est surtout parce que plus personne ne reçoit la première dose du vaccin.\n",
      "Le risque de contracter le VITT à la suite de la deuxième injection – administrée huit à douze semaines après la première – est nettement plus faible.\n",
      "C’est pourquoi les chercheurs qui ont étudié le lien ont affirmé qu’une troisième dose comporterait probablement un risque encore plus faible de caillots sanguins.\n",
      "Le mois dernier, une étude a montré que le vaccin de Pfizer était tout aussi susceptible de déclencher des caillots sanguins que celui d’AstraZeneca, ce qui a suscité la colère des responsables du gouvernement britannique.\n",
      "Les scientifiques ont comparé les taux de thrombose parmi plus de 1,3 million de personnes ayant reçu l’un ou l’autre des vaccins en Espagne.\n",
      "\n",
      "\n",
      "\n",
      "\n",
      "\n",
      "\n",
      "\n",
      "\n",
      "\n",
      "Les vaccins Covid de Pfizer et Moderna liés à une maladie cardiaque très rare\n",
      "Les responsables britanniques de la santé ont averti que les vaccins contre le coronavirus de Pfizer et Moderna pouvaient provoquer des lésions cardiaques.\n",
      "Depuis que le déploiement du vaccin a été étendu aux enfants dans des pays comme les États-Unis et Israël, des cas extrêmement rares de myocardite et de péricardite ont été signalés.\n",
      "La myocardite est une inflammation du muscle cardiaque, tandis que la péricardite est une inflammation de la couche protectrice qui entoure le cœur.\n",
      "Il n’existe pas de causes spécifiques à ces affections, mais elles sont généralement déclenchées par un virus.\n",
      "Le Royaume-Uni devrait attendre d’autres données issues d’essais cliniques et d’autres pays qui vaccinent les enfants avant de prendre la décision d’offrir le vaccin à tous les jeunes.\n",
      "Les États-Unis, Israël et la France offrent déjà le vaccin aux plus de 12 ans.\n",
      "Au début du mois, le ministre des vaccins, Nadhim Zahawi, a déclaré que le gouvernement était préoccupé par de « très rares » cas d’inflammation cardiaque chez les jeunes après la vaccination.\n",
      "La Medicines and Healthcare products Regulatory Agency insiste sur le fait que cette complication – une inflammation du muscle cardiaque qui peut endommager l’organe au fil du temps – est encore « extrêmement rare » et « généralement bénigne ».\n",
      "Des données provenant des États-Unis – où des cas de myocardite ont été repérés – indiquent que la complication est plus fréquente chez les garçons et les jeunes hommes.\n",
      "Les deux vaccins présentent un risque minime de formation de caillots sanguins, les scientifiques qualifiant leurs profils de sécurité de « globalement similaires ». Les données suggèrent que le vaccin de Pfizer pourrait même être plus susceptible de déclencher la rare complication de la coagulation sanguine.\n",
      "En revanche, le virus lui-même était huit fois plus susceptible de provoquer une thrombo-embolie que les deux vaccins.\n",
      "Ces résultats vont à l’encontre de toute une série de recherches affirmant le contraire, les responsables de la santé n’ayant pas encore découvert de lien entre le vaccin de Pfizer et les caillots sanguins.\n",
      "Les inquiétudes concernant la sécurité du vaccin d’AstraZeneca sont apparues pour la première fois en janvier, et ont incité les pays de l’UE à rejeter en masse le vaccin fabriqué en Grande-Bretagne.\n",
      "Des scientifiques de haut niveau ont insisté sur le fait que le vaccin était sûr et permettrait de sauver des milliers de vies, ce qui a donné lieu à des allégations selon lesquelles les poids lourds de l’Union européenne utilisaient le vaccin pour faire de la politique post-Brexit.\n",
      "À la lumière des nouvelles découvertes, un représentant du gouvernement britannique a accusé les dirigeants européens d’avoir « du sang sur les mains » pour avoir mis à la poubelle le vaccin qui sauve des vies.\n",
      "Dans une déclaration antérieure, un porte-parole de la MHRA a déclaré : « Nous sommes attristés d’apprendre le décès de Lisa Shaw et nos pensées vont à sa famille.»\n",
      "Comme pour tout effet indésirable grave suspecté, les rapports ayant une issue fatale sont entièrement évalués par la MHRA, y compris une évaluation des détails post-mortem s’ils sont disponibles.\n",
      "Notre examen détaillé et rigoureux des rapports de caillots sanguins survenus en même temps que la thrombocytopénie est en cours.\n",
      "Shaw a précédemment travaillé dans une radio commerciale et a remporté un Sony Gold Award en 2012 pour l’émission de petit-déjeuner qu’elle a animée sur Real Radio avec le co-animateur Gary Philipson.\n",
      "Rik Martin, rédacteur en chef par intérim de BBC Radio Newcastle, a déclaré au moment de son décès : « Tout le monde à la station est dévasté et pense à l’adorable famille de Lisa.\n",
      "Elle était une collègue de confiance, une brillante présentatrice, une amie merveilleuse, une épouse et une mère aimante. Elle adorait être à la radio et était aimée par notre public.\n",
      "Nous avons perdu quelqu’un de spécial qui comptait beaucoup pour un grand nombre de personnes ».\n",
      "Chris Burns, directeur de BBC Local Radio, a ajouté : « Lisa était une présentatrice talentueuse qui avait déjà accompli beaucoup de choses et qui aurait pu en faire bien plus encore ».\n",
      "Les autorités réglementaires britanniques ont relevé 411 cas de thrombocytopénie immunitaire et de thrombose induites par le vaccin après le vaccin d’AstraZeneca jusqu’au 28 juillet.\n",
      "Au total, 43 cas sont survenus après une deuxième dose.\n",
      "À cette époque, 24,8 millions de Britanniques avaient reçu leur premier vaccin AstraZeneca et 23,6 millions avaient déjà été complètement vaccinés.\n",
      "\n",
      "Katie Weston et Joe Davies\n",
      "Mail Online\n",
      "26 août 2021\n",
      "\n",
      "Titre de l’article original en anglais : BBC presenter Lisa Shaw, 44, died due to incredibly rare blood clot complications caused by AstraZeneca covid vaccine three weeks after she had first jab, coroner rules\n",
      "\n",
      "Traduction : Lelibrepenseur.org avec DeepL Translator\n",
      "\n",
      "\n",
      "--------------------\n",
      "\n",
      "\n",
      "Durcissement contre la réforme des retraites: des actions locales ce jeudi\n",
      "https://www.francesoir.fr/actualites-france/une-journee-dactions-locales-contre-la-reforme-des-retraites-quoi-sattendre\n",
      "Ce jeudi, la contestation contre la réforme des retraites sera placée sous le signe des actions locales. Barrages filtrants, blocages, manifestations ou autres, elles prendront vraisemblablement diverses formes. Ce que l'on sait ce soir...\n",
      " \n",
      "Sans doute consciente qu’un rythme de deux journées de grève et de manifestation nationale par semaine ne serait pas tenable dans la durée, l’intersyndicale à la tête de la contestation contre la réforme des retraites a appelé à une « journée d’actions locales » ce jeudi. Que peut-on en attendre, en plus des grèves dans les transports ? \n",
      " \n",
      "Des blocages économiques… et énergétiques\n",
      " \n",
      "Les actions locales du jour pourraient adopter des formes variées, même si des manifestations classiques sont annoncées dans beaucoup de villes, de Saint-Etienne à Bordeaux et de Valenciennes à Toulouse. Mais il est également possible que le mouvement de contestation s’inspire des gilets jaunes pour investir des ronds-points et mettre en place des barrages filtrants, ou bien encore tenter le blocage de lieux stratégiques. \n",
      " \n",
      "Ainsi les blocages nocturnes de zones industrielles, empêchant tout camion d’entrer et de sortir, comme ce fut le cas la nuit dernière du côté de Bruges, dans la banlieue de Bordeaux. Avec cette action qui a duré quelques heures, « 35 000 colis, notamment d’Amazon, ont dû être détournés », raconte l’un des participants. \n",
      " \n",
      "À lire aussi: Retraites: Edouard Philippe, ça passe ou ça casse\n",
      "\n",
      " \n",
      " \n",
      "Dépôt pétrolier bloqué\n",
      " \n",
      "Des sites énergétiques pourraient eux aussi être ciblés, centrales nucléaires ou dépôts pétroliers par exemple. Cela dit, ce type de blocage ne dure jamais très longtemps, les forces de l’ordre intervenant systématiquement pour déloger les manifestants. Ainsi, ce matin, le dépôt pétrolier de Longvic, près de Dijon, a-t-il été bloqué durant 3h30, occasionnant quelques perturbations dans le secteur. \n",
      " \n",
      "La courte durée et le nombre limité de ces actions n’est d’ailleurs pas de nature, pour l’heure, à inquiéter quant à une éventuelle pénurie de carburants, et ce même si la CGT affirme que 7 des 8 raffineries françaises sont à l’arrêt. L’UFIP (Union française des industries pétrolières) rappelle à ce sujet que « la distribution est assurée par les stocks de réserves de 200 dépôts ». \n",
      " \n",
      "La main sur l’interrupteur\n",
      " \n",
      "Toujours dans le domaine de l’énergie, couper le courant sur des zones industrielles, voire même à des administrations fait partie des options possibles pour les grévistes. Mardi déjà, la préfecture de la Haute-Loire a été privée un long moment d’électricité, de même que les plateformes logistiques de Cdiscount, Carrefour, Decathlon et Lidl implantées sur une même zone industrielle de Bordeaux.\n",
      " \n",
      "A l’inverse, 80 000 foyers de la région lyonnaise ont été basculés en heures creuses au beau milieu de la journée. Un geste certes moins visible que les manifestations, mais qui aura certainement l’avantage de satisfaire ces clients EDF. \n",
      " \n",
      "Ce jeudi, la discrétion a également été choisie par certaines intersyndicales locales, qu’elles tiennent des assemblées générales, comme à Montpellier, ou qu’elles aillent à la rencontre de leurs députés, comme en Dordogne. Mais des surprises pourraient aussi attendre les Français ici et là, agréables (pour les automobilistes) comme un péage gratuit... ou moins agréables. \n",
      " \n",
      "À lire aussi: Pénurie d'essence en vue dans de nombreuses régions\n",
      "\n",
      "\n",
      "--------------------\n",
      "\n",
      "\n",
      "\"Ces meurtres auraient pu être évités\" : les familles et proches de 35 victimes de féminicide proposent des mesures contre les violences conjugales\n",
      "https://www.francetvinfo.fr/societe/violences-faites-aux-femmes/tribune-ces-meurtres-auraient-pu-etre-evites-les-familles-et-proches-de-34-victimes-de-feminicide-proposent-des-mesures-contre-les-violences-conjugales_3539625.html\n",
      "Les signataires veulent inscrire le terme de \"féminicide\" dans le code pénal, créer un statut de victime ou encore mettre en place des formations pour les forces de l'ordre.\n",
      "En 2018, 121 femmes ont été tuées par leur conjoint ou ex-compagnon, soit une tous les trois jours, selon les chiffres de la délégation aux victimes, qui relève du ministère de l'Intérieur. Pour enrayer ce fléau, le gouvernement a annoncé la tenue à la rentrée d'un Grenelle des violences conjugales et promis des mesures \"concrètes\". C'est justement du \"concret\" qu'attendent les familles de victimes de féminicide. Dans une tribune publiée vendredi 19 juillet sur le site de franceinfo, 35 d'entre elles proposent une série de mesures pour combattre plus efficacement ce phénomène. \"Il reste tant de femmes à sauver\", clament ces familles. Elles s'expriment ici librement.\n",
      "\n",
      "Elles s'appelaient Hélène, Johanna, Annie, Ghylaine, Marion, Evelyne... Elles sont nos mères, nos filles, nos sœurs, nos amies... Et elles ont été lâchement assassinées. La vie leur a été ôtée par leurs bourreaux, des hommes possessifs, pervers ou manipulateurs qui se sont joués d'elles. Ils laissent des familles entières dans un deuil insupportable. Ils laissent des enfants orphelins qui ont parfois assisté au pire et dont la vie est brisée à jamais.\n",
      "\n",
      "Nous, familles et proches de victimes de féminicide, voulons dire stop et le clamer haut et fort : ces meurtres, ces assassinats auraient pu être évités.\n",
      "Les signataires de la tribune\n",
      "\n",
      "Nous sommes aussi des victimes collatérales totalement oubliées des pouvoirs publics et souvent isolées, nous nous sentons méprisées. Nous pensons aussi à toutes ces femmes aujourd'hui victimes de violences conjugales. Nous le savons : elles vivent dans la peur du passage à l'acte et ne sont ni entendues ni soutenues.\n",
      "Aujourd'hui, nous prenons la parole et demandons au gouvernement d'être reçues lors du Grenelle des violences conjugales qui aura lieu en septembre. Nous proposons à cette occasion des mesures concrètes et rapides à mettre en place. Nous demandons l'inscription du terme \"féminicide\" dans le code pénal, en tant que crime machiste et systémique : ces femmes sont tuées parce qu'elles sont des femmes par des hommes qui pensent avoir un droit de vie ou de mort sur elles. Nous exigeons aussi la mise en place de sanctions pour les membres des forces de l'ordre qui manquent à leur devoir en ne prenant pas en compte la parole des femmes qui leur signalent des violences dans leur couple. \n",
      "Une formation pour les policiers et les gendarmes\n",
      "Nous proposons ensuite la création d'un module \"violence conjugale et féminicide\" lors de la formation initiale des policiers et des gendarmes, ainsi qu'une formation de rattrapage pour les membres des forces de l'ordre aujourd'hui en poste. Il faudrait également que la gendarmerie et la police échangent bien plus avec les associations sur ces questions. Nous proposons de réfléchir aussi à l'ouverture immédiate d'une procédure lorsqu'un témoin vient signaler qu'une femme subit des violences. Nous rappelons qu'il est extrêmement difficile pour ces femmes de se rendre dans un commissariat.\n",
      "Nous souhaiterions voir la création d'au moins une unité médico-judiciaire dans tous les départements français afin d'accompagner et soutenir les victimes. Il nous apparaît indispensable de mettre en place une mesure d'éloignement du domicile, avec port du bracelet électronique obligatoire, pour les auteurs de violences conjugales, et ce dès la première condamnation.\n",
      "\n",
      "C'est aux hommes violents de quitter le domicile conjugal et non à leurs victimes. \n",
      "Les signataires de la tribune\n",
      "\n",
      "Nous proposons donc la création de foyers destinés à ces hommes, où ils pourraient suivre des thérapies. Il faut aussi confisquer aux auteurs de violences conjugales leurs armes à feu ou armes blanches et faire des demandes de rapatriement immédiat des assassins qui quittent le territoire pour échapper à leur peine. En Espagne, des tribunaux spécifiquement dédiés aux violences conjugales ont été créés, pourquoi ne pas s'en inspirer ? \n",
      "La création d'un statut de victimes\n",
      "En ce qui concerne les enfants, plusieurs mesures, là encore, peuvent être appliquées : la déchéance de l'autorité parentale pour le conjoint assassin ; si les droits parentaux sont maintenus, les visites doivent être faites sous la surveillance d'une tierce personne ; relever les enfants majeurs de leur \"obligation alimentaire\" envers leur parent assassin.\n",
      "Il est également nécessaire, outre les enfants, de mieux prendre en charge les proches et cela passe par plusieurs mesures : la reconnaissance du statut de victime pour les familles de victimes de féminicide, au même titre que les familles de victimes d'attentat terroriste, et la création d'un service d'Etat dédié au soutien psychologique, à l'assistance juridique et administrative de ces familles.\n",
      "Enfin, c'est la société toute entière qu'il faut mobiliser sur ce sujet. Nous souhaitons une grande médiatisation autour de ces questions afin de mieux sensibiliser le public. L'éducation nationale doit prendre sa part et œuvrer à mieux prévenir les violences chez les jeunes. Les médias ont aussi un rôle pédagogique à jouer, il est inadmissible que ces meurtres soient traités comme des faits divers et banalisés. Il reste tant de femmes à sauver et nous le savons mieux que quiconque : cela n'arrive pas qu'aux autres.\n",
      "Le collectif Féminicides se tient à disposition des familles de victimes et peut être contacté à cette adresse e-mail : feminicidesfrance@gmail.com\n",
      "Les signataires : \n",
      "Mélanie Fabre, nièce de Yolande Azemar, tuée le 29 novembre 1998 ; Carine Adelina, nièce de Marie Ba, tuée le 15 novembre 2018 ; Emilie Jacob, sœur d'Hélène Bizieux, tuée le 5 août 2018 ; Sandrine Bouchait et Anthony Dalard, la famille de Ghylaine Bouchait, tuée le 24 septembre 2017 ; Céline, cousine de Julie Douib, tuée le 3 mars 2019 ; Lucia Bouchet, sœur de Sylvia Bouchet, tuée le 10 novembre 2018 ; Anne Tancre, fille de Françoise Coeugnet née Beugnet, tuée le 18 décembre 2016 ; Catherine Bargue, la mère de Marion Courty, retrouvée morte le 7 juin 2018 ; Christopher de Gaillande, frère de Christelle de Gaillande, tuée le 5 juillet 2019 ; Marine Dias, Delphine Jomat et Stéphanie Genois, la famille de Johanna Dias Gomes, tuée le 23 décembre 2018 ; Noujoud-Asia Ghemri, sœur de Dalila Ghemri, tuée le 6 avril 2019 ; Emilie Le Ray, fille de Gisèle Gicquel, tuée le 12 février 2017 ; Mélody Haughton et Coraline Bourret, les filles de Virgine Haughton, tuée le 15 juin 2017 ; Maud Garin, Fabienne et Laurent Facq, Isabelle Bernard, Amandine Arquillière, Sébastien Arquillière, Myriam Lira, Dorian Hinsinger et Maureen Jomard, la famille et les proches d'Evelyne Hinsinger, tuée le 1er avril 2015 ; Myriam Kabdani, sœur de Fouzia Kabdani, tuée avec ses trois enfants le 23 juin 2013 ; Annick Gauthier, Astrid Aublanc, Anne-Sophie Kahn et Céline Kahn, la famille et les proches d'Hélène Kahn, tuée le 22 mars 2017; Hauteclair Dessertine, amie de Hilal Karatas, tuée le 20 février 2019 ; Isabelle Ghilaci, sœur de Sylvie Labagnère, tuée le 25 octobre 2018 ; Françoise et Laurence Le Goff, filles de Josiane Le Goff, tuée le 11 décembre 1982 ; Anne-Sophie Weber et Emilie Mellerin, filles de Patricia Mellerin, tuée le 27 janvier 2019 ; Didier Maxel, neveu de Jeannine Mertz, tuée le 18 mars 2010 ; Emira Strasevic et Melissa Mujanovic, la famille d'Adelissa Mujanovic, tuée le 25 octobre 2018 ; Mélanie Lazzari Kruth, sœur de Johanna Lazzari, tuée le 28 juillet 2016 ; Marie-Joséphine Pastor, mère de Lisa Pastor, tuée le 16 décembre 2018 ; Manon Decombe, fille de Linda Ponsaa, tuée le 2 juillet 2018 ; Hélène de Ponsay, sœur de Marie-Alice Dibon, tuée le 22 avril 2019 ; Emmanuelle Claude, amie et mère de la filleule de Marie-Thérèse Roufosse, tuée le 15 juillet 2018 ; Aurélie Parvaud, la fille d'Annie Rouquette, tuée le 30 avril 2011 ; Sandra Roux Donato, nièce et filleule de Christiane Roux, tuée le 7 mai 1984 ; Lucie Schmitt, sœur de Laetitia Schmitt, tuée le 25 juin 2018 ; Isabelle Seva-Boismoreau, cousine de Stéphanie, tuée le 31 mars 2019 ; Cathy Thomas, sœur d'Isabelle Thomas, tuée avec ses parents le 4 août 2014 ; Jacquet Mylène, mère de Savannah Torrenti, tuée le 1er mai 2016 ; Giovanni Varlet, frère d'Aurelia Varlet, tuée le 14 août 2013 ; Aurore Zaba, fille de Laetitia Zaba, tuée le 17 novembre 2018.\n",
      "\n",
      "\n",
      "--------------------\n",
      "\n",
      "\n",
      "Le père de Meghan Markle souffre du silence de sa fille et du prince Harry\n",
      "https://www.francesoir.fr/culture-celebrites/le-pere-de-meghan-markle-souffre-du-silence-de-sa-fille-et-du-prince-harry\n",
      "A l'approche de Noël, sa douleur se fait grandissante. L'absence et le silence de sa fille sont devenus insupportables. C'est pourquoi il a une nouvelle fois décidé de se donner en spectacle dans les médias en accordant dimanche 9 une interview au Daily Mail: Thomas Markle, le père de Meghan Markle, souffre de ne plus voir sa fille autrement qu'à travers les journaux et la télévision. Il craint de ne même recevoir une carte pour les fêtes et surtout de ne jamais rencontrer son petit-fils ou sa petite-fille, qui doit naître au printemps prochain.\n",
      "\"Ils m'ont tourné le dos et je ne peux plus rester silencieux. J'ai tenté des douzaines de fois d'atteindre ma fille en lui écrivant mais elle et le prince Harry (qu'il n'a jamais rencontré, NDLR) ont construit un mur de silence autour d'eux. Ils font ce qu'ils m'ont dit de ne jamais faire: croire tous les mensonges qui sont racontés dans les journaux. Alors j'essaie encore une fois de les toucher, pour rétablir la vérité\", a-t-il ainsi confié au Daily Mail.\n",
      "Parmi les nombreux mensonges qu'il a évoqués figure notamment la rumeur selon laquelle il n'aurait jamais eu de crise cardiaque et qu'il avait délibérément manqué le mariage de sa fille, pour s'épargner les affres que lui a causées la famille royale d'Angleterre, suite au scandale de la fameuse paparazzade.\n",
      "Il a fourni au Daily Mail des documents médicaux prouvant qu'il avait bien été soigné pour une crise cardiaque dans un hôpital californien, et que ça lui avait coûté près de 129.000 dollars (environ 113.000 euros).\n",
      "Lire aussi: tensions entre les princes William et Harry, à cause de Meghan Markle?\n",
      "\n",
      "Thomas Markle a aussi rétabli une autre vérité. De nombreux tabloïds ont laissé croire ces derniers mois qu'il ne s'entendait pas bien avec sa fille au moment de son premier mariage (avec Trevor Engelson) et qu'il n'y avait pas assisté non plus.\n",
      "Il a fourni une photo de lui et Meghan Markle qui aurait été prise quelques minutes avant qu'il ne la conduise à son futur époux lors d'une cérémonie qui s'est déroulée sur une plage de Jamaïque.\n",
      "Si cette nouvelle interview montre à quel point Thomas Markle est désespéré et en manque de sa fille, elle ne risque pas d'émouvoir la famille royale d'Angleterre qui voudrait qu'il se taise et évite de donner une mauvaise image de la duchesse de Sussex.\n",
      "Et aussi:\n",
      "Meghan Markle jouerait-elle la comédie avec le prince Harry? (photo)\n",
      "Meghan Markle: une robe légèrement transparente en montre un peu trop (photos)\n",
      "Meghan Markle avait fait signer un \"contrat de grossesse\" à son premier mari\n",
      "\n",
      "\n",
      "--------------------\n",
      "\n",
      "\n",
      "Les célébrations de l’Achoura endeuillées au Pakistan et au Bangladesh\n",
      "https://www.dreuz.info/2015/10/les-celebrations-de-lachoura-endeuillees-au-pakistan-et-au-bangladesh-92480.html\n",
      "Plusieurs actes terroristes ont eu lieu à l’occasion de la fête chiite de l’Achoura.\n",
      " Cet article vous a intéressé ? Inscrivez-vous à notre newsletter pour recevoir les nouveaux articles de Dreuz, une fois par jour en fin d’après-midi.\n",
      "\n",
      "\n",
      "\n",
      "\n",
      "D’abord au Bangladesh, où des engins explosifs ont été lancés contre le principal lieu de culte de Dacca, tuant un garçon de 14 ans et faisant plusieurs blessés. Deux bombes n’ayant pas explosé ont été découvertes sur les lieux de l’attentat.\n",
      "Ensuite au Pakistan, un attentat suicide beaucoup plus meurtrier a fait seize morts et des dizaines de blessés contre une procession chiite à Jacobabad dans la province du Sind, dans le sud du pays. Apparemment la plupart des victimes seraient très jeunes.\n",
      "En Irak, c’est justement par crainte d’attentats que la sécurité a été renforcée, notamment à Kerbala, ville sainte chiite du pays, où des dizaines de milliers de personnes étaient attendues pour le deuil de l’Achoura, qui commémore le martyre de l’imam Hussein, petit-fils du prophète Mahomet.\n",
      "http://fr.euronews.com/2015/10/24/les-celebrations-de-l-achoura-endeuillees-au-pakistan-et-au-bangladesh/\n",
      "© Gaïa pour www.Dreuz.info\n",
      "\n",
      "\n",
      "--------------------\n",
      "\n",
      "\n",
      "Art africain: faire circuler les œuvres plutôt que de les restituer, prône le président du Quai Branly\n",
      "https://www.francesoir.fr/culture-art-expo/art-africain-faire-circuler-les-oeuvres-plutot-que-de-les-restituer-prone-le\n",
      "La meilleure réponse à la nécessaire réappropriation par les Africains de leur patrimoine est le soutien à de nouveaux musées et une large \"circulation\" des oeuvres, plutôt que des restitutions importantes comme préconisées dans un rapport, estime le président du Musée du Quai Branly.Pour Stéphane Martin, qui préside depuis 1998 aux destinées du Quai Branly-Jacques Chirac à Paris, où sont rassemblées 70.000 oeuvres d'art africain sur les quelque 90.000 des collections publiques françaises, le rapport remis la semaine dernière au président Macron a \"un problème principal\" : \"Il met beaucoup trop les musées sur la touche au profit des spécialistes de la réparation mémorielle\".A la demande d'Emmanuel Macron, les universitaires Bénédicte Savoy, du Collège de France, et Felwine Sarr, de l'Université de Saint-Louis au Sénégal, ont posé les jalons pour une restitution à l'Afrique subsaharienne d'oeuvres d'art transférées pendant la colonisation. Ils ont recensé des dizaines de milliers d'oeuvres potentiellement concernées.\"Il faut un droit au patrimoine pour toute l'humanité, pas juste pour les Européens qui ont le privilège de la mobilité, le privilège d'avoir hérité de situations de guerre qui leur ont permis d'avoir tous ces objets\", affirmait dimanche Bénédicte Savoy sur TV5 Monde.S'il reconnaît un intéressant travail historique, M. Martin regrette les conclusions du rapport, établissant selon lui que \"tout ce qui a été collecté, acheté dans le cadre colonial est touché par l'impureté du crime colonial\". Il \"ouvre un champ de +restituabilité+ complète. Ce sont des propositions maximalistes\", dit-il à l'AFP.Seraient ainsi susceptibles d'être restitués \"les dons aux musées provenant des personnes liées à la colonisation (administrateurs, médecins, militaires) et ceux de leurs descendants, et surtout tout ce qui a été collecté par des expéditions scientifiques\". Il y a eu des cadeaux faits librement, ajoute-t-il, citant ceux des grands chefs du Cameroun à un médecin, Pierre Harter, qui avait soigné leurs familles de la lèpre.Un autre point le chiffonne : l'idée d'une \"commission mixte\" pour chaque demande de restitution déposée par un Etat. \"En droit français, ce serait une très grande innovation qu'un Etat étranger soit à parité avec la nation française pour déterminer ce qui est à juste titre ou pas dans son patrimoine\".- Réflexions à l'étranger -Stéphane Martin estime que le communiqué de l'Elysée diffusé vendredi n'endosse pas l'idée de restitutions massives : \"Tel que je le lis, il ferme la porte au rapport Sarr-Savoy en insistant sur le fait que les musées, et surtout les musées universels, sont un élément important du patrimoine commun de l'humanité. Et que la circulation reste le moyen principal de la diffusion culturelle.\"Cette diffusion passe par des \"prêts, dépôts, circulation, expositions\", ajoute-t-il, citant ce communiqué.Emmanuel Macron, estime le patron du Quai Branly, dit aussi que les restitutions \"peuvent, dans des cas très précis, être envisagées\", comme pour les prises de guerre des statues du Bénin exposées au Quai Branly.\"Ces transferts de propriété d'Etat à Etat, il y en a toujours eu\", relève M. Martin. \"L'appareil juridique actuel\" lui semble suffire pour le déclassement de ces oeuvres.\"Le Getty a rendu des objets à l'Italie, le British Museum à l'Australie, le Musée Guimet à la Chine\". Mais \"ça ne peut être la voie unique. Sinon on va vider les musées européens et on entre dans une logique où le patrimoine devient l'otage de la mémoire\", redoute-t-il.A côté des restitutions, \"d'autres moyens sont à mettre en oeuvre qui passent par les musées\", poursuit-il. Il suggère \"l'aide à la construction de nouveaux lieux, le travail avec les collectionneurs privés, les fondations\", telle la Fondation Zinsou qui a organisé une première exposition Basquiat à Lomé. Le président \"invite donc les musées à jouer un rôle essentiel alors que le rapport dit qu'ils sont des captateurs\", selon M. Martin.Le ministère de la Culture a un rôle central à jouer juge-t-il : \"A lui de réfléchir avec ses collègues européens et organiser une réflexion de musée à musée, avec les musées africains, les autres musées français, les musées européens, sur cette circulation\".En Allemagne (avec le nouveau Humboldt Forum à Berlin) et au Royaume Uni, dit-il, des réflexions sont déjà menées.\n",
      "\n",
      "\n",
      "--------------------\n",
      "\n",
      "\n",
      "Un policier de Villeneuve-d’Ascq (59) se suicide\n",
      "https://www.profession-gendarme.com/un-policier-de-villeneuve-dascq-59-se-suicide/\n",
      "Marcel R. était affecté au Commissariat (#CSP) de Villeneuve-d’Ascq (59) et plus précisément au Groupe d’Appui Judiciaire (#GAJ).\n",
      "Cette nuit, il s’est donné la mort à proximité de son domicile.\n",
      "Âgé de 51 ans, il laisse son épouse et ses enfants dans le plus profond désarroi.\n",
      "Après l’Est et le Sud méditerranéen, la #Faucheuse est remontée dans le Nord et continue ainsi ses ravages dans le champ policier.\n",
      "Nos pensées de soutien vont vers la famille, les amis de Marcel. Ainsi-que vers ses collègues de service.\n",
      "La #PoliceNationale est à nouveau en #deuil, frappée par cette nouvelle tragédie qui nous attriste et nous exaspère dans une colère sourde et palpable. ????????????\n",
      "(Source UPNI)\n",
      "Source : Citoyen Solidaire\n",
      "\n",
      "Le compteur de la honte\n",
      "\n",
      "L’Association Professionnelle Gendarmerie (APG) présente  à sa famille et à ses camarades ses sincères condoléances.\n",
      "Depuis le 1er janvier 2020 à ce jour, 24 Policiers, 5 Gendarmes et 3 Policiers Municipaux se sont donné la mort.\n",
      "Rappelons qu’au cours de l’année 2019 nous aurons eu à déplorer le suicide de 59 Policiers,  10 Policiers municipaux et 17 gendarmes. \n",
      "Nous publions ci-dessous une liste qui, nous nous l’espérons, ne s’allongera pas comme l’année dernière. \n",
      "\n",
      "\n",
      "04/01/2020 – 1 policier, Thierry H., la quarantaine, Affecté au SDLP, ex SPH Paris (75)\n",
      "13/01/2020 – 1 policière, Marielle M. 52 ans, arme de service, commissariat de Saint-Nazaire (44)\n",
      "\n",
      "13/01/2020 – 1 Policier, Laurent P. 52 ans, affecté au Centre de Rétention Administratif  RENNES (35)\n",
      "\n",
      "23/01/2020 – 1 policier, William M. 47 ans, affecté à la Police aux frontières (PAF) d’Orly (94)\n",
      "25/01/2020 – 1 gendarme, Benjamin B. 38 ans – Gendarmerie nationale  Valenciennes (59)\n",
      "22/02/2020 – 1 policier, Mathias âgé de 26 ans, ADS affecté à la PAF de Nantes (44)\n",
      "09/03/2020 – 1 policier, Thomas S. 36 ans, BAC Nuit de Vitry sur Seine (94)\n",
      "10/03/2020, 1 policier, Jean-Marc 56 ans, Major de police à la CRS 48 à Chatel-Guyon (63)\n",
      "07/04/2020 1 policier, Lionel T. était Major de Police, FTSI de SENS (89)\n",
      "07/04/2020 1  Policier.  Thiérry  père de 2 enfants en poste à l’État-Major de Mayotte\n",
      "10/04/2020  – 1 policière,  Céline P.  45 ans, affectée au Service central du renseignement territorial (SCRT), Charenton-le-Pont (94)\n",
      "13/04/2020 – 1 gendarme, Meddy, femme gendarme en poste  brigade de DUMBEA (Nouvelle Calédonie)\n",
      "25/04/2020 – 1 policier, Christian V-Q, âgé de 51 ans,  Cie Musique Gardiens de la Paix à Paris Meudon(92)\n",
      "03/05/2020 – 1 policière, Naïma M., mariée mère de 4 enfants, affectée au HAVRE (76)\n",
      "02/06/2020 –   1 policier,  Olivier L. – Brigadier-Chef 49 ans – Commissariat de  Reims (51)\n",
      "05/06/2020 – 1 policier Municipal,   Mickaël M. 34 ans – Police municipale de Raon l’Etape (88)\n",
      "\n",
      "09/06/2020 – 1 policier, Jean-Baptiste C., arme de service, 3ème division de la DPJ, Paris (75)  \n",
      "10/06/2020 – 1 Policier, Frédéric D., 48 ans, 2 enfants, Police Aux Frontières de Chambéry (73)\n",
      "29/06/2020 – 1 policier,  âgé de 24 ans,  ADS en poste en Seine Maritime à ROUEN (76)\n",
      "30/06/2020 – 1 policier, il n’avait pas 21 ans, ADS en poste à Marseille centre (13)\n",
      "02/07/2020 – 1 policier, Ludo D, ancien motocycliste, en poste à NANCY (54)\n",
      "08/07/2020 – 1 policier, Pascal D., Major à la CRS 52 de Sancerre (18)\n",
      "15/07/2020 – 1 gendarme, affecté à la  brigade de recherche de Meylan (38)\n",
      "28/07/2020 – 1 policier municipal, Brigadier Chef Principal, affecté à Chartres de Bretagne (35)\n",
      "29/07/2020 – 1 Policier, âgé de 47 ans, brigadier chef à AGEN (47)\n",
      "18/08/2020 – 1 gendarme, âgé de 34 ans, arme de service, brigade de Tessy-Bocage (50)\n",
      "18/08/2020 – 1 policier municipal, Brigadier-Chef principal, 50 ans, police municipal de Nice (06)\n",
      "22/08/2020 – 1 policier, brigadier-chef de la police, CP de Thionville (57)\n",
      "23/08/2020 – 1 policier, Major âgé de 50 ans, service opérationnel à Marseille (13)\n",
      "25/08/2020 – 1 gendarme adjoint volontaire (GAV) de la brigade territoriale de Colmar (68)\n",
      "\n",
      "\n",
      "03/09/2020 – 1 policier, Marcel R., 51 ans, affecté au GAJ du CSP de Villeneuve-d’Ascq (59)\n",
      "\n",
      "\n",
      "\n",
      "\n",
      "What do you want to do ?\n",
      "New mailCopy\n",
      "\n",
      "\n",
      "--------------------\n",
      "\n",
      "\n"
     ]
    }
   ],
   "source": [
    "for index,row in article_db._df.sample(10).iterrows():\n",
    "    print(f\"{row['title']}\\n{row['url']}\\n{row['article']}\")\n",
    "    print('\\n\\n--------------------\\n\\n')"
   ]
  },
  {
   "cell_type": "markdown",
   "id": "919066c5",
   "metadata": {},
   "source": [
    "#### labels"
   ]
  },
  {
   "cell_type": "code",
   "execution_count": null,
   "id": "3d9b9547",
   "metadata": {},
   "outputs": [],
   "source": [
    "label_filename = 'data/demo/221008-Label.csv'"
   ]
  },
  {
   "cell_type": "code",
   "execution_count": null,
   "id": "e34b5ed7",
   "metadata": {},
   "outputs": [],
   "source": [
    "import patat.db.label_db\n",
    "\n",
    "label_db = patat.db.label_db.LabelDb(label_filename)\n",
    "\n",
    "label_db.df()"
   ]
  },
  {
   "cell_type": "markdown",
   "id": "dff4e652",
   "metadata": {},
   "source": [
    "### Mise en forme du corpus"
   ]
  },
  {
   "cell_type": "markdown",
   "id": "a0b48ac3",
   "metadata": {},
   "source": [
    "Concaténation : text = titre + article"
   ]
  },
  {
   "cell_type": "code",
   "execution_count": null,
   "id": "e90fcf23",
   "metadata": {},
   "outputs": [],
   "source": [
    "article_db.df()['text'] = article_db.df()['title'] + '\\n' + article_db.df()['article']"
   ]
  },
  {
   "cell_type": "code",
   "execution_count": null,
   "id": "8ac6efed",
   "metadata": {},
   "outputs": [],
   "source": [
    "df_corpus = article_db.df()"
   ]
  },
  {
   "cell_type": "code",
   "execution_count": null,
   "id": "c31dd4b5",
   "metadata": {},
   "outputs": [],
   "source": [
    "df_corpus.value_counts('site')"
   ]
  },
  {
   "cell_type": "code",
   "execution_count": null,
   "id": "f52329f4",
   "metadata": {},
   "outputs": [],
   "source": [
    "df_label = label_db._df\n",
    "df_recueil_label = df_label[df_label['owner']=='recueil'].pivot_table(index='url_h',values='value',columns='label')"
   ]
  },
  {
   "cell_type": "code",
   "execution_count": null,
   "id": "8441469d",
   "metadata": {},
   "outputs": [],
   "source": [
    "df_recueil_label = df_recueil_label.reset_index()\n",
    "df_recueil_label"
   ]
  },
  {
   "cell_type": "code",
   "execution_count": null,
   "id": "f7b900fe",
   "metadata": {},
   "outputs": [],
   "source": [
    "df_recueil=pd.merge(article_db._df,df_recueil_label)"
   ]
  },
  {
   "cell_type": "markdown",
   "id": "bf4b9225",
   "metadata": {},
   "source": [
    "Cette expérience est appliquée au label infox"
   ]
  },
  {
   "cell_type": "code",
   "execution_count": null,
   "id": "7b0dcbd2",
   "metadata": {
    "scrolled": true
   },
   "outputs": [],
   "source": [
    "df_recueil = df_recueil[['url','text','infox']]\n",
    "df_recueil"
   ]
  },
  {
   "cell_type": "markdown",
   "id": "e4afa03e",
   "metadata": {},
   "source": [
    "## Expérience 1\n",
    "- Bag of Words avec `sklearn.feature_extraction.text.CountVectorizer`\n",
    "- Regression logistique avec `sklearn.linear_model.LogisticRegression`\n",
    "\n",
    "---"
   ]
  },
  {
   "cell_type": "code",
   "execution_count": null,
   "id": "2fc7e218",
   "metadata": {},
   "outputs": [],
   "source": [
    "from sklearn.feature_extraction.text import CountVectorizer"
   ]
  },
  {
   "cell_type": "code",
   "execution_count": null,
   "id": "0c80758b",
   "metadata": {},
   "outputs": [],
   "source": [
    "vectorizer = CountVectorizer()\n",
    "X = vectorizer.fit_transform(df_recueil['text'])"
   ]
  },
  {
   "cell_type": "code",
   "execution_count": null,
   "id": "508a1365",
   "metadata": {},
   "outputs": [],
   "source": [
    "y = df_recueil['infox']"
   ]
  },
  {
   "cell_type": "code",
   "execution_count": null,
   "id": "45a75a5c",
   "metadata": {},
   "outputs": [],
   "source": [
    "X.shape"
   ]
  },
  {
   "cell_type": "code",
   "execution_count": null,
   "id": "5a0f9d92",
   "metadata": {},
   "outputs": [],
   "source": [
    "y.value_counts()"
   ]
  },
  {
   "cell_type": "markdown",
   "id": "29b5781d",
   "metadata": {},
   "source": [
    "### Construction des Datasets d'entrainement et de test"
   ]
  },
  {
   "cell_type": "code",
   "execution_count": null,
   "id": "b104a006",
   "metadata": {},
   "outputs": [],
   "source": [
    "import sklearn.model_selection\n",
    "\n",
    "#X_train,X_test,y_train,y_test = sklearn.model_selection.train_test_split(X,y,train_size=0.8,shuffle=True)\n",
    "#X_train,X_test,y_train,y_test = sklearn.model_selection.train_test_split(X,y,random_state=42,train_size=0.5)\n",
    "\n",
    "X_train,X_test,y_train,y_test = sklearn.model_selection.train_test_split(X,y,random_state=42,train_size=0.75)\n",
    "\n",
    "X_train.shape"
   ]
  },
  {
   "cell_type": "markdown",
   "id": "2f8ba0ef",
   "metadata": {},
   "source": [
    "### Entrainement du modele"
   ]
  },
  {
   "cell_type": "code",
   "execution_count": null,
   "id": "93a1492b",
   "metadata": {},
   "outputs": [],
   "source": [
    "from sklearn.linear_model import LogisticRegression\n",
    "from sklearn import metrics\n",
    "\n",
    "#classifier = LogisticRegression(C=100.0, random_state=42, solver='lbfgs', multi_class='ovr', max_iter=1000)\n",
    "classifier = LogisticRegression(max_iter=1000)\n",
    "\n",
    "# Fit the model\n",
    "classifier.fit(X_train, y_train)\n"
   ]
  },
  {
   "cell_type": "markdown",
   "id": "468f0dec",
   "metadata": {},
   "source": [
    "### Mesure des résultats"
   ]
  },
  {
   "cell_type": "code",
   "execution_count": null,
   "id": "e56cd1e0",
   "metadata": {},
   "outputs": [],
   "source": [
    "y_pred = classifier.predict(X_test)"
   ]
  },
  {
   "cell_type": "code",
   "execution_count": null,
   "id": "808f813c",
   "metadata": {},
   "outputs": [],
   "source": [
    "from sklearn import metrics\n",
    "cnf_matrix = metrics.confusion_matrix(y_test, y_pred)\n",
    "print('Matrice de confusion')\n",
    "print(cnf_matrix)\n",
    "print(f'Accuracy score {metrics.accuracy_score(y_test, y_pred)*100:.2f}%')\n",
    "print(f'Recall score {metrics.recall_score(y_test, y_pred)*100:.2f}%')"
   ]
  },
  {
   "cell_type": "code",
   "execution_count": null,
   "id": "db034125",
   "metadata": {},
   "outputs": [],
   "source": [
    "y_proba = classifier.predict_proba(X_test)\n",
    "y_score = y_proba.transpose()[1]\n",
    "fpr, tpr, _ = metrics.roc_curve(y_test, y_score)\n",
    "roc_display = metrics.RocCurveDisplay(fpr=fpr, tpr=tpr).plot()"
   ]
  },
  {
   "cell_type": "markdown",
   "id": "df152238",
   "metadata": {},
   "source": [
    "## Expérience 2\n",
    "- Suppression des mots rares et des mots communs\n",
    "- Comptage en fréquence TdIdf\n",
    "- Bag of Words avec `sklearn.feature_extraction.text.TdidfVectorizer` + stopwords \n",
    "- Regression logistique avec `sklearn.linear_model.LogisticRegression`\n",
    "\n",
    "---"
   ]
  },
  {
   "cell_type": "markdown",
   "id": "6ebcd5e7",
   "metadata": {},
   "source": [
    "### Comptage Mots pour label infox"
   ]
  },
  {
   "cell_type": "code",
   "execution_count": null,
   "id": "5770a62e",
   "metadata": {},
   "outputs": [],
   "source": [
    "import patat.ml.lex_analyser"
   ]
  },
  {
   "cell_type": "code",
   "execution_count": null,
   "id": "3f86694f",
   "metadata": {},
   "outputs": [],
   "source": [
    "lex = patat.ml.lex_analyser.LexAnalyser()"
   ]
  },
  {
   "cell_type": "code",
   "execution_count": null,
   "id": "31851bd4",
   "metadata": {},
   "outputs": [],
   "source": [
    "def merge_texts(texts):\n",
    "    result = ''\n",
    "    for text in texts:\n",
    "        result = result + text + '\\n'\n",
    "    return result"
   ]
  },
  {
   "cell_type": "code",
   "execution_count": null,
   "id": "8336edc1",
   "metadata": {},
   "outputs": [],
   "source": [
    "def count_words_label(df,label):\n",
    "    df = df[df[label].notna()]\n",
    "    df_texts = pd.pivot_table(df, values='text', index=None, columns=label, aggfunc=merge_texts)\n",
    "    wc = {}\n",
    "    word_analysis = {}\n",
    "    for key in df_texts.keys():\n",
    "        text = df_texts[key]['text']\n",
    "        count_colname = label+'_'+str(int(key))\n",
    "        wc[key] = lex.count_tokens(lex.get_words(text))\n",
    "        for word in wc[key]:\n",
    "            word_dic = word_analysis.get(word,{})\n",
    "            word_dic[count_colname]=wc[key][word]\n",
    "            word_analysis[word]=word_dic\n",
    "    return word_analysis"
   ]
  },
  {
   "cell_type": "code",
   "execution_count": null,
   "id": "2ca1bb49",
   "metadata": {},
   "outputs": [],
   "source": [
    "df = df_recueil\n",
    "label = 'infox'\n",
    "df_count = pd.DataFrame(count_words_label(df,'infox')).T\n",
    "df_count = df_count.fillna(0)"
   ]
  },
  {
   "cell_type": "code",
   "execution_count": null,
   "id": "f349d80e",
   "metadata": {},
   "outputs": [],
   "source": [
    "df_count"
   ]
  },
  {
   "cell_type": "code",
   "execution_count": null,
   "id": "0bb2bcc5",
   "metadata": {},
   "outputs": [],
   "source": [
    "df_count['words']=df_count.index"
   ]
  },
  {
   "cell_type": "markdown",
   "id": "f3857ad2",
   "metadata": {},
   "source": [
    "#### Identification des mots à ignorer"
   ]
  },
  {
   "cell_type": "code",
   "execution_count": null,
   "id": "b79fa1cb",
   "metadata": {},
   "outputs": [],
   "source": [
    "# Mots rares\n",
    "\n",
    "occ_rare = 3\n",
    "#occ_rare = 5\n",
    "def is_rare(row):\n",
    "    return row['infox_0'] < occ_rare and row['infox_1'] < occ_rare\n",
    "\n",
    "df_rare = df_count[df_count.apply(is_rare,axis=1)]\n",
    "\n",
    "rare_words = list(df_rare.index)\n",
    "len(rare_words)"
   ]
  },
  {
   "cell_type": "code",
   "execution_count": null,
   "id": "13f9f511",
   "metadata": {},
   "outputs": [],
   "source": [
    "# Mots communs\n",
    "\n",
    "common_size = 100\n",
    "#common_size = 300\n",
    "top_0 = df_count.sort_values('infox_0',ascending=False).head(common_size).index\n",
    "top_1 = df_count.sort_values('infox_1',ascending=False).head(common_size).index\n",
    "common_words = []\n",
    "for word in top_0:\n",
    "    if word in top_1:\n",
    "        common_words.append(word)\n",
    "len(common_words)\n"
   ]
  },
  {
   "cell_type": "code",
   "execution_count": null,
   "id": "2a5c88ee",
   "metadata": {},
   "outputs": [],
   "source": [
    "ignore_words = common_words + rare_words\n",
    "word_vocabulary = [word for word in df_count['words'] if word not in ignore_words]\n",
    "print(f'Vocabulaire = Total mots - mots communs - mots rares = {len(word_vocabulary)}')"
   ]
  },
  {
   "cell_type": "markdown",
   "id": "08e54064",
   "metadata": {},
   "source": [
    "### Vectorizer"
   ]
  },
  {
   "cell_type": "code",
   "execution_count": null,
   "id": "3760bef4",
   "metadata": {},
   "outputs": [],
   "source": [
    "from sklearn.feature_extraction.text import TfidfVectorizer"
   ]
  },
  {
   "cell_type": "code",
   "execution_count": null,
   "id": "311313c0",
   "metadata": {},
   "outputs": [],
   "source": [
    "vectorizer = TfidfVectorizer(stop_words=ignore_words)\n",
    "#vectorizer = TfidfVectorizer()\n",
    "X = vectorizer.fit_transform(df_recueil['text'])"
   ]
  },
  {
   "cell_type": "code",
   "execution_count": null,
   "id": "fd1b853b",
   "metadata": {},
   "outputs": [],
   "source": [
    "y = df_recueil['infox']"
   ]
  },
  {
   "cell_type": "code",
   "execution_count": null,
   "id": "55845334",
   "metadata": {},
   "outputs": [],
   "source": [
    "X.shape"
   ]
  },
  {
   "cell_type": "code",
   "execution_count": null,
   "id": "43a874f3",
   "metadata": {},
   "outputs": [],
   "source": [
    "y.value_counts()"
   ]
  },
  {
   "cell_type": "markdown",
   "id": "00f480cd",
   "metadata": {},
   "source": [
    "### Construction des Datasets d'entrainement et de test"
   ]
  },
  {
   "cell_type": "code",
   "execution_count": null,
   "id": "a59b4ba8",
   "metadata": {},
   "outputs": [],
   "source": [
    "import sklearn.model_selection\n",
    "\n",
    "#X_train,X_test,y_train,y_test = sklearn.model_selection.train_test_split(X,y,train_size=0.8,shuffle=True)\n",
    "X_train,X_test,y_train,y_test = sklearn.model_selection.train_test_split(X,y,random_state=42,train_size=0.75)\n",
    "#X_train,X_test,y_train,y_test = sklearn.model_selection.train_test_split(X,y,random_state=42,train_size=0.5)\n",
    "\n",
    "X_train.shape"
   ]
  },
  {
   "cell_type": "markdown",
   "id": "8df9935c",
   "metadata": {},
   "source": [
    "### Entrainement du modele"
   ]
  },
  {
   "cell_type": "code",
   "execution_count": null,
   "id": "a34e9e64",
   "metadata": {},
   "outputs": [],
   "source": [
    "from sklearn.linear_model import LogisticRegression\n",
    "from sklearn import metrics\n",
    "\n",
    "classifier = LogisticRegression(C=100.0, random_state=42, solver='lbfgs', multi_class='ovr', max_iter=1000)\n",
    "#classifier = LogisticRegression(max_iter=1000)\n",
    "\n",
    "# Fit the model\n",
    "classifier.fit(X_train, y_train)\n"
   ]
  },
  {
   "cell_type": "markdown",
   "id": "bc733066",
   "metadata": {},
   "source": [
    "### Mesure des résultats"
   ]
  },
  {
   "cell_type": "code",
   "execution_count": null,
   "id": "ffb2c083",
   "metadata": {},
   "outputs": [],
   "source": [
    "y_pred = classifier.predict(X_test)"
   ]
  },
  {
   "cell_type": "code",
   "execution_count": null,
   "id": "c5a4854d",
   "metadata": {},
   "outputs": [],
   "source": [
    "from sklearn import metrics\n",
    "cnf_matrix = metrics.confusion_matrix(y_test, y_pred)\n",
    "print('Matrice de confusion')\n",
    "print(cnf_matrix)\n",
    "print(f'Accuracy score {metrics.accuracy_score(y_test, y_pred)*100:.2f}%')\n",
    "print(f'Recall score {metrics.recall_score(y_test, y_pred)*100:.2f}%')"
   ]
  },
  {
   "cell_type": "code",
   "execution_count": null,
   "id": "2c7ca9be",
   "metadata": {
    "scrolled": true
   },
   "outputs": [],
   "source": [
    "y_proba = classifier.predict_proba(X_test)\n",
    "y_score = y_proba.transpose()[1]\n",
    "fpr, tpr, _ = metrics.roc_curve(y_test, y_score)\n",
    "roc_display = metrics.RocCurveDisplay(fpr=fpr, tpr=tpr).plot()"
   ]
  },
  {
   "cell_type": "markdown",
   "id": "5d937338",
   "metadata": {},
   "source": [
    "## Expérience 3\n",
    "- Benchmark de quelques algorithmes\n",
    "- sur la base des features produites à l'étape 2\n",
    "\n",
    "---"
   ]
  },
  {
   "cell_type": "code",
   "execution_count": null,
   "id": "4da1f2c9",
   "metadata": {},
   "outputs": [],
   "source": [
    "from sklearn.neural_network import MLPClassifier\n",
    "from sklearn.neighbors import KNeighborsClassifier\n",
    "from sklearn.svm import SVC\n",
    "from sklearn.gaussian_process import GaussianProcessClassifier\n",
    "from sklearn.gaussian_process.kernels import RBF\n",
    "from sklearn.tree import DecisionTreeClassifier\n",
    "from sklearn.ensemble import RandomForestClassifier, AdaBoostClassifier\n",
    "from sklearn.naive_bayes import GaussianNB\n",
    "from sklearn.discriminant_analysis import QuadraticDiscriminantAnalysis\n",
    "from sklearn.inspection import DecisionBoundaryDisplay"
   ]
  },
  {
   "cell_type": "code",
   "execution_count": null,
   "id": "d0022453",
   "metadata": {},
   "outputs": [],
   "source": [
    "names = [\n",
    "    \"Logistic Regression\",\n",
    "    \"Nearest Neighbors\",\n",
    "    \"Linear SVM\",\n",
    "    \"RBF SVM\",\n",
    "    \"Gaussian Process\",\n",
    "    \"Decision Tree\",\n",
    "    \"Random Forest\",\n",
    "    \"Neural Net\",\n",
    "    \"AdaBoost\",\n",
    "    \"Naive Bayes\",\n",
    "    \"QDA\",\n",
    "]\n",
    "\n",
    "classifiers = [\n",
    "    LogisticRegression(C=100.0, random_state=42, solver='lbfgs', multi_class='ovr', max_iter=1000),\n",
    "    KNeighborsClassifier(3),\n",
    "    SVC(kernel=\"linear\", C=0.025, random_state=42),\n",
    "    SVC(gamma=2, C=1, random_state=42),\n",
    "    GaussianProcessClassifier(1.0 * RBF(1.0), random_state=42),\n",
    "    DecisionTreeClassifier(max_depth=5, random_state=42),\n",
    "    RandomForestClassifier(max_depth=5, n_estimators=10, max_features=1, random_state=42),\n",
    "    MLPClassifier(alpha=1, max_iter=1000, random_state=42),\n",
    "    AdaBoostClassifier(random_state=42),\n",
    "    GaussianNB(),\n",
    "    QuadraticDiscriminantAnalysis(),\n",
    "]\n",
    "\n",
    "#X = X.toarray()\n",
    "\n",
    "X_train,X_test,y_train,y_test = sklearn.model_selection.train_test_split(X,y,random_state=42,train_size=0.75)\n",
    "\n",
    "results =[]\n",
    "for name, clf in zip(names, classifiers):\n",
    "    clf.fit(X_train, y_train)\n",
    "    y_pred = clf.predict(X_test)\n",
    "    cnf_matrix = metrics.confusion_matrix(y_test, y_pred)\n",
    "    print('------------------------------------')\n",
    "    print(f'Classifier : {name}')\n",
    "    print('Matrice de confusion')\n",
    "    print(cnf_matrix)\n",
    "    acc = metrics.accuracy_score(y_test, y_pred)\n",
    "    print(f'Accuracy score {acc*100:.2f}%')\n",
    "    recall = metrics.recall_score(y_test, y_pred)\n",
    "    print(f'Recall score {recall*100:.2f}%')\n",
    "    results.append({\n",
    "        'Classifier' : name,\n",
    "        'Accuracy' : round(acc*100),\n",
    "        'Recall' : round(recall*100),\n",
    "    })\n",
    "print('------------------------------------')"
   ]
  },
  {
   "cell_type": "markdown",
   "id": "8b0e75c3",
   "metadata": {},
   "source": [
    "### Synthèse"
   ]
  },
  {
   "cell_type": "code",
   "execution_count": null,
   "id": "7c495cc7",
   "metadata": {
    "scrolled": true
   },
   "outputs": [],
   "source": [
    "df = pd.DataFrame(results)\n",
    "df = df.sort_values(['Accuracy','Recall'],ascending=False)\n",
    "df"
   ]
  },
  {
   "cell_type": "markdown",
   "id": "ba0834f1",
   "metadata": {},
   "source": [
    "## Analyse des résultats et conclusions\n",
    "---\n",
    "\n",
    "- En utilisant les moyens les plus simples on arrive à un prédicteur qui a déjà des performances qui semblent intéressantes\n",
    "- La précision de presque 76% des prédictions doit être validée par l'observation manuelle\n",
    "- Les deux algorithmes qui sortent du lot sont Neural Network et Regression Logistique\n",
    "\n",
    "## Prochaines Etapes\n",
    "---\n",
    "- Tuning de chaque algo du benchmark pour arriver à de meilleur résultats\n",
    "- Continuer dans cette direction : utiliser les lemmes des textes\n",
    "\n",
    "---"
   ]
  },
  {
   "cell_type": "code",
   "execution_count": null,
   "id": "fb218f53",
   "metadata": {},
   "outputs": [],
   "source": [
    "from patat.util.file import pickle_save\n",
    "data = { 'X':X, 'y':y }\n",
    "pickle_save(data,'data/tmp/221009-Xy.p')"
   ]
  },
  {
   "cell_type": "markdown",
   "id": "b17f61be",
   "metadata": {},
   "source": [
    "## Point d'étape Septembre 2022\n",
    "Cette expérience :\n",
    "- S'appuie sur les *données* consituées précédement par le projet\n",
    "- Illustre la *démarche* de recherche sur le coeur du projet\n",
    "- Montre des *résultats* préliminaires\n",
    "\n",
    "Elle apporte des éléments de réponse aux questions :\n",
    "- *Est-il possible de prévoir si un article est une infox en utilisant les solutions les plus simples ?*\n",
    "- *Avons nous suffisament de données et des qualité suffisante pour avancer sur les phases suivantes ?*\n",
    "\n",
    "Les solutions étudiées s'appuient :\n",
    "- Un jeu de données de 455 articles labelisés manuellement\n",
    "- Représentation des textes sous forme de *Bag Od Words*\n",
    "- Machine learning supervisé : *Regression Logistique* et al.\n",
    "\n",
    "Nous sommes au début de ce projet de recherche et notre approche est de commencer par les approches les simples, d'en mesurer les résultats, puis d'améliorer l'approche dans le but d'obtenir de meilleurs résultats.\n",
    "\n",
    "Questions :\n",
    "- Est ce qu'avec plus de données on aurait de meilleurs résultats ?"
   ]
  },
  {
   "cell_type": "code",
   "execution_count": null,
   "id": "54fc94fc",
   "metadata": {},
   "outputs": [],
   "source": []
  }
 ],
 "metadata": {
  "kernelspec": {
   "display_name": "Python 3 (ipykernel)",
   "language": "python",
   "name": "python3"
  },
  "language_info": {
   "codemirror_mode": {
    "name": "ipython",
    "version": 3
   },
   "file_extension": ".py",
   "mimetype": "text/x-python",
   "name": "python",
   "nbconvert_exporter": "python",
   "pygments_lexer": "ipython3",
   "version": "3.9.13"
  }
 },
 "nbformat": 4,
 "nbformat_minor": 5
}
