{
 "cells": [
  {
   "cell_type": "code",
   "execution_count": 1,
   "id": "6488b5a3",
   "metadata": {},
   "outputs": [
    {
     "name": "stdout",
     "output_type": "stream",
     "text": [
      "/Users/fm/Desktop/Work/Patat\n"
     ]
    }
   ],
   "source": [
    "cd ../.."
   ]
  },
  {
   "cell_type": "code",
   "execution_count": 57,
   "id": "ab7396e4",
   "metadata": {},
   "outputs": [],
   "source": [
    "import importlib\n",
    "import re\n",
    "import statistics\n",
    "import pandas as pd"
   ]
  },
  {
   "cell_type": "code",
   "execution_count": 58,
   "id": "a0731b42",
   "metadata": {},
   "outputs": [],
   "source": [
    "filename = 'data/corpus/220531-RecueilComplet.csv'\n",
    "df_recueil = pd.read_csv(filename)"
   ]
  },
  {
   "cell_type": "code",
   "execution_count": 59,
   "id": "a60fbc44",
   "metadata": {},
   "outputs": [],
   "source": [
    "df_recueil['text'] = df_recueil['title']+'\\n'+df_recueil['article']"
   ]
  },
  {
   "cell_type": "code",
   "execution_count": 61,
   "id": "14b6ca83",
   "metadata": {},
   "outputs": [],
   "source": [
    "text = df_recueil['text'][0]"
   ]
  },
  {
   "cell_type": "code",
   "execution_count": 62,
   "id": "20bcc133",
   "metadata": {},
   "outputs": [],
   "source": [
    "def count_punct(text):\n",
    "    result = {}\n",
    "    words = len(text.split())\n",
    "    for sign in '.,;:!?':\n",
    "        result[sign]=text.count(sign)/words\n",
    "    result['...']=text.count('...')\n",
    "    return result"
   ]
  },
  {
   "cell_type": "code",
   "execution_count": 63,
   "id": "b480bfe7",
   "metadata": {},
   "outputs": [
    {
     "data": {
      "text/plain": [
       "{'.': 0.024608501118568233,\n",
       " ',': 0.06375838926174497,\n",
       " ';': 0.0,\n",
       " ':': 0.008948545861297539,\n",
       " '!': 0.0,\n",
       " '?': 0.0,\n",
       " '...': 0}"
      ]
     },
     "execution_count": 63,
     "metadata": {},
     "output_type": "execute_result"
    }
   ],
   "source": [
    "count_punct(text)"
   ]
  },
  {
   "cell_type": "code",
   "execution_count": 64,
   "id": "3c6bf8b4",
   "metadata": {},
   "outputs": [],
   "source": [
    "puncts = df_recueil['text'].apply(count_punct)"
   ]
  },
  {
   "cell_type": "code",
   "execution_count": 65,
   "id": "73954b30",
   "metadata": {},
   "outputs": [],
   "source": [
    "df_features = pd.concat([df_recueil,pd.DataFrame(list(puncts))],axis='columns')"
   ]
  },
  {
   "cell_type": "code",
   "execution_count": 66,
   "id": "3bea6c21",
   "metadata": {},
   "outputs": [],
   "source": [
    "df_infox = df_features[df_features['Infox']==1]\n",
    "df_noninfox = df_features[df_features['Infox']==0]"
   ]
  },
  {
   "cell_type": "code",
   "execution_count": 67,
   "id": "15fee4c4",
   "metadata": {},
   "outputs": [
    {
     "name": "stdout",
     "output_type": "stream",
     "text": [
      ". 0.04024853092325452 0.04072336284222885\n",
      ", 0.052757489052685964 0.05850989492574661\n",
      "; 0.0007254600641471647 0.00030243117551346626\n",
      ": 0.007258936989923072 0.006933075546809425\n",
      "! 0.0014921325830344755 0.001123142117123014\n",
      "? 0.003396089370670803 0.001713793890480241\n"
     ]
    }
   ],
   "source": [
    "for sign in '.,;:!?':\n",
    "    print(sign,df_infox[sign].mean(),df_noninfox[sign].mean())"
   ]
  },
  {
   "cell_type": "code",
   "execution_count": 68,
   "id": "48cb8716",
   "metadata": {},
   "outputs": [],
   "source": [
    "word_sizes=[]\n",
    "for word in text.split():\n",
    "    word_sizes.append(len(word))"
   ]
  },
  {
   "cell_type": "code",
   "execution_count": 69,
   "id": "aff6f5d2",
   "metadata": {},
   "outputs": [
    {
     "data": {
      "text/plain": [
       "5.473154362416107"
      ]
     },
     "execution_count": 69,
     "metadata": {},
     "output_type": "execute_result"
    }
   ],
   "source": [
    "statistics.mean(word_sizes)"
   ]
  },
  {
   "cell_type": "code",
   "execution_count": 70,
   "id": "c361166e",
   "metadata": {},
   "outputs": [],
   "source": [
    "def count_words(text):\n",
    "    result = {}\n",
    "    words = text.split()\n",
    "    sentences = text.split('.')\n",
    "    result['char_count']=len(text)\n",
    "    result['word_count']=len(words)\n",
    "    result['sent_count']=len(sentences)\n",
    "    word_sizes=[]\n",
    "    for word in words:\n",
    "        word_sizes.append(len(word))\n",
    "    result['mean_word']=statistics.mean(word_sizes)\n",
    "    return result"
   ]
  },
  {
   "cell_type": "code",
   "execution_count": 71,
   "id": "5c2a2a4c",
   "metadata": {},
   "outputs": [
    {
     "data": {
      "text/plain": [
       "{'char_count': 5795,\n",
       " 'word_count': 894,\n",
       " 'sent_count': 23,\n",
       " 'mean_word': 5.473154362416107}"
      ]
     },
     "execution_count": 71,
     "metadata": {},
     "output_type": "execute_result"
    }
   ],
   "source": [
    "count_words(text)"
   ]
  },
  {
   "cell_type": "code",
   "execution_count": 72,
   "id": "20808276",
   "metadata": {},
   "outputs": [],
   "source": [
    "word_counts = df_recueil['text'].apply(count_words)"
   ]
  },
  {
   "cell_type": "code",
   "execution_count": 73,
   "id": "6be8ac1c",
   "metadata": {},
   "outputs": [],
   "source": [
    "df_features = pd.concat([df_features,pd.DataFrame(list(word_counts))],axis='columns')"
   ]
  },
  {
   "cell_type": "code",
   "execution_count": 76,
   "id": "588954e9",
   "metadata": {},
   "outputs": [],
   "source": [
    "df_infox = df_features[df_features['Infox']==1]\n",
    "df_noninfox = df_features[df_features['Infox']==0]"
   ]
  },
  {
   "cell_type": "code",
   "execution_count": 77,
   "id": "77a68ed0",
   "metadata": {},
   "outputs": [
    {
     "name": "stdout",
     "output_type": "stream",
     "text": [
      "char_count 12639.910256410256 4491.2027027027025\n",
      "word_count 2003.9615384615386 711.7702702702703\n",
      "sent_count 77.52564102564102 30.10810810810811\n",
      "mean_word 5.375639502560069 5.295948868527621\n"
     ]
    }
   ],
   "source": [
    "for key in ['char_count','word_count','sent_count','mean_word']:\n",
    "    print(key,df_infox[key].mean(),df_noninfox[key].mean())"
   ]
  },
  {
   "cell_type": "code",
   "execution_count": 83,
   "id": "098bbe98",
   "metadata": {},
   "outputs": [],
   "source": [
    "import patat.ml.lex_analyser"
   ]
  },
  {
   "cell_type": "code",
   "execution_count": 86,
   "id": "683b1ca7",
   "metadata": {},
   "outputs": [
    {
     "data": {
      "text/plain": [
       "<module 'patat.ml.lex_analyser' from '/Users/fm/Desktop/Work/Patat/patat/ml/lex_analyser.py'>"
      ]
     },
     "execution_count": 86,
     "metadata": {},
     "output_type": "execute_result"
    }
   ],
   "source": [
    "importlib.reload(patat.ml.lex_analyser)"
   ]
  },
  {
   "cell_type": "code",
   "execution_count": 87,
   "id": "97378756",
   "metadata": {},
   "outputs": [],
   "source": [
    "analyser = patat.ml.lex_analyser.LexAnalyser()"
   ]
  },
  {
   "cell_type": "code",
   "execution_count": 88,
   "id": "946cfd08",
   "metadata": {},
   "outputs": [
    {
     "data": {
      "text/plain": [
       "{'char_count': 5795,\n",
       " 'word_count': 894,\n",
       " 'sent_count': 23,\n",
       " 'mean_word': 5.473154362416107,\n",
       " '.': 22,\n",
       " ',': 57,\n",
       " ';': 0,\n",
       " ':': 8,\n",
       " '!': 0,\n",
       " '?': 0,\n",
       " '...': 0}"
      ]
     },
     "execution_count": 88,
     "metadata": {},
     "output_type": "execute_result"
    }
   ],
   "source": [
    "analyser.analyse(text)"
   ]
  },
  {
   "cell_type": "code",
   "execution_count": null,
   "id": "28f34fbb",
   "metadata": {},
   "outputs": [],
   "source": []
  }
 ],
 "metadata": {
  "kernelspec": {
   "display_name": "Python 3 (ipykernel)",
   "language": "python",
   "name": "python3"
  },
  "language_info": {
   "codemirror_mode": {
    "name": "ipython",
    "version": 3
   },
   "file_extension": ".py",
   "mimetype": "text/x-python",
   "name": "python",
   "nbconvert_exporter": "python",
   "pygments_lexer": "ipython3",
   "version": "3.9.13"
  }
 },
 "nbformat": 4,
 "nbformat_minor": 5
}
