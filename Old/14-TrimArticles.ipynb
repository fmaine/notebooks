{
 "cells": [
  {
   "cell_type": "code",
   "execution_count": 1,
   "id": "8fed25b1",
   "metadata": {},
   "outputs": [
    {
     "name": "stdout",
     "output_type": "stream",
     "text": [
      "/Users/fm/Desktop/Work/Patat\n"
     ]
    }
   ],
   "source": [
    "cd ../.."
   ]
  },
  {
   "cell_type": "code",
   "execution_count": 2,
   "id": "84cb47ff",
   "metadata": {},
   "outputs": [],
   "source": [
    "import os\n",
    "import re\n",
    "import importlib"
   ]
  },
  {
   "cell_type": "code",
   "execution_count": 3,
   "id": "098d2f18",
   "metadata": {},
   "outputs": [],
   "source": [
    "import pandas as pd"
   ]
  },
  {
   "cell_type": "code",
   "execution_count": 4,
   "id": "0d199933",
   "metadata": {},
   "outputs": [],
   "source": [
    "corpus_existing_filename = 'data/corpus/CorpusNews.csv'\n",
    "corpus_new_filename = 'data/corpus/CorpusNews.csv'"
   ]
  },
  {
   "cell_type": "code",
   "execution_count": 5,
   "id": "2f9bb87b",
   "metadata": {},
   "outputs": [],
   "source": [
    "df_corpus = pd.read_csv(corpus_existing_filename)"
   ]
  },
  {
   "cell_type": "code",
   "execution_count": 6,
   "id": "706439a7",
   "metadata": {},
   "outputs": [
    {
     "data": {
      "text/plain": [
       "82062"
      ]
     },
     "execution_count": 6,
     "metadata": {},
     "output_type": "execute_result"
    }
   ],
   "source": [
    "len(df_corpus)"
   ]
  },
  {
   "cell_type": "code",
   "execution_count": 7,
   "id": "de53b332",
   "metadata": {},
   "outputs": [
    {
     "data": {
      "text/plain": [
       "Index(['url', 'article', 'author', 'date', 'tag', 'title', 'abstract',\n",
       "       'date_iso', 'site', 'article_orig'],\n",
       "      dtype='object')"
      ]
     },
     "execution_count": 7,
     "metadata": {},
     "output_type": "execute_result"
    }
   ],
   "source": [
    "df_corpus.keys()"
   ]
  },
  {
   "cell_type": "code",
   "execution_count": 8,
   "id": "d952fdfe",
   "metadata": {},
   "outputs": [
    {
     "data": {
      "text/plain": [
       "www.francesoir.fr              22656\n",
       "www.francetvinfo.fr            13735\n",
       "www.breizh-info.com             5427\n",
       "www.dreuz.info                  5292\n",
       "www.legorafi.fr                 4632\n",
       "www.profession-gendarme.com     3741\n",
       "www.wikistrike.com              3688\n",
       "www.lelibrepenseur.org          3359\n",
       "fr.sott.net                     2851\n",
       "actu.fr                         2780\n",
       "lemediaen442.fr                 2555\n",
       "lezarceleurs.blogspot.com       2345\n",
       "lesmoutonsrebelles.com          2298\n",
       "www.cnews.fr                    1275\n",
       "reseauinternational.net         1090\n",
       "theconversation.com              930\n",
       "lesakerfrancophone.fr            840\n",
       "fr.novopress.info                744\n",
       "www.polemia.com                  613\n",
       "infodujour.fr                    490\n",
       "www.lesalonbeige.fr              335\n",
       "lesobservateurs.ch               321\n",
       "lesdeqodeurs.fr                   65\n",
       "Name: site, dtype: int64"
      ]
     },
     "execution_count": 8,
     "metadata": {},
     "output_type": "execute_result"
    }
   ],
   "source": [
    "df_corpus['site'].value_counts()"
   ]
  },
  {
   "cell_type": "code",
   "execution_count": 9,
   "id": "505ab2fb",
   "metadata": {},
   "outputs": [],
   "source": [
    "df_corpus['article_orig']=df_corpus['article'].copy()"
   ]
  },
  {
   "cell_type": "code",
   "execution_count": 208,
   "id": "855dd386",
   "metadata": {},
   "outputs": [
    {
     "data": {
      "text/html": [
       "<div>\n",
       "<style scoped>\n",
       "    .dataframe tbody tr th:only-of-type {\n",
       "        vertical-align: middle;\n",
       "    }\n",
       "\n",
       "    .dataframe tbody tr th {\n",
       "        vertical-align: top;\n",
       "    }\n",
       "\n",
       "    .dataframe thead th {\n",
       "        text-align: right;\n",
       "    }\n",
       "</style>\n",
       "<table border=\"1\" class=\"dataframe\">\n",
       "  <thead>\n",
       "    <tr style=\"text-align: right;\">\n",
       "      <th></th>\n",
       "      <th>url</th>\n",
       "      <th>article</th>\n",
       "      <th>author</th>\n",
       "      <th>date</th>\n",
       "      <th>tag</th>\n",
       "      <th>title</th>\n",
       "      <th>abstract</th>\n",
       "      <th>date_iso</th>\n",
       "      <th>site</th>\n",
       "      <th>article_orig</th>\n",
       "    </tr>\n",
       "  </thead>\n",
       "  <tbody>\n",
       "    <tr>\n",
       "      <th>439</th>\n",
       "      <td>https://lesdeqodeurs.fr/la-chine-menace-de-det...</td>\n",
       "      <td>Article original datant du 30/08/22 par Zero H...</td>\n",
       "      <td>NaN</td>\n",
       "      <td>02/09/2022</td>\n",
       "      <td>['APL', 'Chine', 'Elon Musk', 'menace', 'Mykha...</td>\n",
       "      <td>La Chine menace de détruire les satellites Sta...</td>\n",
       "      <td>NaN</td>\n",
       "      <td>2022-09-02T00:00:00</td>\n",
       "      <td>lesdeqodeurs.fr</td>\n",
       "      <td>Article original datant du 30/08/22 par Zero H...</td>\n",
       "    </tr>\n",
       "    <tr>\n",
       "      <th>440</th>\n",
       "      <td>https://lesdeqodeurs.fr/hunter-biden-a-organis...</td>\n",
       "      <td>Article original datant du 01/09/22 par Fox Ne...</td>\n",
       "      <td>NaN</td>\n",
       "      <td>02/09/2022</td>\n",
       "      <td>['Chine', 'Deng Hongbo', 'Eric Schwerin', 'Fox...</td>\n",
       "      <td>Hunter Biden a organisé un dîner pour un clien...</td>\n",
       "      <td>NaN</td>\n",
       "      <td>2022-09-02T00:00:00</td>\n",
       "      <td>lesdeqodeurs.fr</td>\n",
       "      <td>Article original datant du 01/09/22 par Fox Ne...</td>\n",
       "    </tr>\n",
       "    <tr>\n",
       "      <th>446</th>\n",
       "      <td>https://lesdeqodeurs.fr/louverture-des-sceaux-...</td>\n",
       "      <td>Introduction nécessaireTout d’abord, une intro...</td>\n",
       "      <td>NaN</td>\n",
       "      <td>02/09/2022</td>\n",
       "      <td>[]</td>\n",
       "      <td>L’ouverture des sceaux de l’Apocalypse</td>\n",
       "      <td>NaN</td>\n",
       "      <td>2022-09-02T00:00:00</td>\n",
       "      <td>lesdeqodeurs.fr</td>\n",
       "      <td>Introduction nécessaireTout d’abord, une intro...</td>\n",
       "    </tr>\n",
       "    <tr>\n",
       "      <th>447</th>\n",
       "      <td>https://lesdeqodeurs.fr/obama-benghazi-uranium...</td>\n",
       "      <td>(Extrait du LIVE du 10/06/22)10/06/2022 – Ça n...</td>\n",
       "      <td>NaN</td>\n",
       "      <td>02/09/2022</td>\n",
       "      <td>['AIEA', 'ben laden', 'Benghazi', 'Canada', 'C...</td>\n",
       "      <td>Obama, Benghazi, Uranium One, Ben Laden… tout ...</td>\n",
       "      <td>NaN</td>\n",
       "      <td>2022-09-02T00:00:00</td>\n",
       "      <td>lesdeqodeurs.fr</td>\n",
       "      <td>(Extrait du LIVE du 10/06/22)10/06/2022 – Ça n...</td>\n",
       "    </tr>\n",
       "    <tr>\n",
       "      <th>463</th>\n",
       "      <td>https://lesdeqodeurs.fr/elon-musk-sen-prend-a-...</td>\n",
       "      <td>Article original datant du 01/09/22 par Mashab...</td>\n",
       "      <td>NaN</td>\n",
       "      <td>02/09/2022</td>\n",
       "      <td>['Bots', 'Dan Woods', 'DARPA', 'Elon Musk', 'F...</td>\n",
       "      <td>Elon Musk s’en prend à nouveau à Twitter alors...</td>\n",
       "      <td>NaN</td>\n",
       "      <td>2022-09-02T00:00:00</td>\n",
       "      <td>lesdeqodeurs.fr</td>\n",
       "      <td>Article original datant du 01/09/22 par Mashab...</td>\n",
       "    </tr>\n",
       "    <tr>\n",
       "      <th>...</th>\n",
       "      <td>...</td>\n",
       "      <td>...</td>\n",
       "      <td>...</td>\n",
       "      <td>...</td>\n",
       "      <td>...</td>\n",
       "      <td>...</td>\n",
       "      <td>...</td>\n",
       "      <td>...</td>\n",
       "      <td>...</td>\n",
       "      <td>...</td>\n",
       "    </tr>\n",
       "    <tr>\n",
       "      <th>28883</th>\n",
       "      <td>https://lesdeqodeurs.fr/les-affaires-benghazi/</td>\n",
       "      <td>Extrait du live du 13 octobre 2020« Benghazi? ...</td>\n",
       "      <td>NaN</td>\n",
       "      <td>15/10/2020</td>\n",
       "      <td>[]</td>\n",
       "      <td>Pilule Rouge : Les affaires Benghazi</td>\n",
       "      <td>NaN</td>\n",
       "      <td>2020-10-15T00:00:00</td>\n",
       "      <td>lesdeqodeurs.fr</td>\n",
       "      <td>Extrait du live du 13 octobre 2020« Benghazi? ...</td>\n",
       "    </tr>\n",
       "    <tr>\n",
       "      <th>50015</th>\n",
       "      <td>https://lesdeqodeurs.fr/contact/</td>\n",
       "      <td>Vous souhaitez nous contacter pour nous inform...</td>\n",
       "      <td>NaN</td>\n",
       "      <td>NaN</td>\n",
       "      <td>[]</td>\n",
       "      <td>Contact</td>\n",
       "      <td>NaN</td>\n",
       "      <td></td>\n",
       "      <td>lesdeqodeurs.fr</td>\n",
       "      <td>Vous souhaitez nous contacter pour nous inform...</td>\n",
       "    </tr>\n",
       "    <tr>\n",
       "      <th>50559</th>\n",
       "      <td>https://lesdeqodeurs.fr/le-reve-de-yared/</td>\n",
       "      <td>le rêve de YaredPlaylist complète de l’album «...</td>\n",
       "      <td>NaN</td>\n",
       "      <td>NaN</td>\n",
       "      <td>[]</td>\n",
       "      <td>Le rêve de Yared</td>\n",
       "      <td>NaN</td>\n",
       "      <td></td>\n",
       "      <td>lesdeqodeurs.fr</td>\n",
       "      <td>le rêve de YaredPlaylist complète de l’album «...</td>\n",
       "    </tr>\n",
       "    <tr>\n",
       "      <th>52542</th>\n",
       "      <td>https://lesdeqodeurs.fr/aidez-nous/</td>\n",
       "      <td>Vos dons servent à financer les différents ser...</td>\n",
       "      <td>NaN</td>\n",
       "      <td>NaN</td>\n",
       "      <td>[]</td>\n",
       "      <td>Aidez-nous</td>\n",
       "      <td>NaN</td>\n",
       "      <td></td>\n",
       "      <td>lesdeqodeurs.fr</td>\n",
       "      <td>Vos dons servent à financer les différents ser...</td>\n",
       "    </tr>\n",
       "    <tr>\n",
       "      <th>53340</th>\n",
       "      <td>https://lesdeqodeurs.fr/informations/</td>\n",
       "      <td>TousArticleLivePilules RougesRevue de presseLa...</td>\n",
       "      <td>NaN</td>\n",
       "      <td>NaN</td>\n",
       "      <td>[]</td>\n",
       "      <td>Informations</td>\n",
       "      <td>NaN</td>\n",
       "      <td></td>\n",
       "      <td>lesdeqodeurs.fr</td>\n",
       "      <td>TousArticleLivePilules RougesRevue de presseLa...</td>\n",
       "    </tr>\n",
       "  </tbody>\n",
       "</table>\n",
       "<p>65 rows × 10 columns</p>\n",
       "</div>"
      ],
      "text/plain": [
       "                                                     url  \\\n",
       "439    https://lesdeqodeurs.fr/la-chine-menace-de-det...   \n",
       "440    https://lesdeqodeurs.fr/hunter-biden-a-organis...   \n",
       "446    https://lesdeqodeurs.fr/louverture-des-sceaux-...   \n",
       "447    https://lesdeqodeurs.fr/obama-benghazi-uranium...   \n",
       "463    https://lesdeqodeurs.fr/elon-musk-sen-prend-a-...   \n",
       "...                                                  ...   \n",
       "28883     https://lesdeqodeurs.fr/les-affaires-benghazi/   \n",
       "50015                   https://lesdeqodeurs.fr/contact/   \n",
       "50559          https://lesdeqodeurs.fr/le-reve-de-yared/   \n",
       "52542                https://lesdeqodeurs.fr/aidez-nous/   \n",
       "53340              https://lesdeqodeurs.fr/informations/   \n",
       "\n",
       "                                                 article author        date  \\\n",
       "439    Article original datant du 30/08/22 par Zero H...    NaN  02/09/2022   \n",
       "440    Article original datant du 01/09/22 par Fox Ne...    NaN  02/09/2022   \n",
       "446    Introduction nécessaireTout d’abord, une intro...    NaN  02/09/2022   \n",
       "447    (Extrait du LIVE du 10/06/22)10/06/2022 – Ça n...    NaN  02/09/2022   \n",
       "463    Article original datant du 01/09/22 par Mashab...    NaN  02/09/2022   \n",
       "...                                                  ...    ...         ...   \n",
       "28883  Extrait du live du 13 octobre 2020« Benghazi? ...    NaN  15/10/2020   \n",
       "50015  Vous souhaitez nous contacter pour nous inform...    NaN         NaN   \n",
       "50559  le rêve de YaredPlaylist complète de l’album «...    NaN         NaN   \n",
       "52542  Vos dons servent à financer les différents ser...    NaN         NaN   \n",
       "53340  TousArticleLivePilules RougesRevue de presseLa...    NaN         NaN   \n",
       "\n",
       "                                                     tag  \\\n",
       "439    ['APL', 'Chine', 'Elon Musk', 'menace', 'Mykha...   \n",
       "440    ['Chine', 'Deng Hongbo', 'Eric Schwerin', 'Fox...   \n",
       "446                                                   []   \n",
       "447    ['AIEA', 'ben laden', 'Benghazi', 'Canada', 'C...   \n",
       "463    ['Bots', 'Dan Woods', 'DARPA', 'Elon Musk', 'F...   \n",
       "...                                                  ...   \n",
       "28883                                                 []   \n",
       "50015                                                 []   \n",
       "50559                                                 []   \n",
       "52542                                                 []   \n",
       "53340                                                 []   \n",
       "\n",
       "                                                   title abstract  \\\n",
       "439    La Chine menace de détruire les satellites Sta...      NaN   \n",
       "440    Hunter Biden a organisé un dîner pour un clien...      NaN   \n",
       "446               L’ouverture des sceaux de l’Apocalypse      NaN   \n",
       "447    Obama, Benghazi, Uranium One, Ben Laden… tout ...      NaN   \n",
       "463    Elon Musk s’en prend à nouveau à Twitter alors...      NaN   \n",
       "...                                                  ...      ...   \n",
       "28883               Pilule Rouge : Les affaires Benghazi      NaN   \n",
       "50015                                            Contact      NaN   \n",
       "50559                                   Le rêve de Yared      NaN   \n",
       "52542                                         Aidez-nous      NaN   \n",
       "53340                                       Informations      NaN   \n",
       "\n",
       "                  date_iso             site  \\\n",
       "439    2022-09-02T00:00:00  lesdeqodeurs.fr   \n",
       "440    2022-09-02T00:00:00  lesdeqodeurs.fr   \n",
       "446    2022-09-02T00:00:00  lesdeqodeurs.fr   \n",
       "447    2022-09-02T00:00:00  lesdeqodeurs.fr   \n",
       "463    2022-09-02T00:00:00  lesdeqodeurs.fr   \n",
       "...                    ...              ...   \n",
       "28883  2020-10-15T00:00:00  lesdeqodeurs.fr   \n",
       "50015                       lesdeqodeurs.fr   \n",
       "50559                       lesdeqodeurs.fr   \n",
       "52542                       lesdeqodeurs.fr   \n",
       "53340                       lesdeqodeurs.fr   \n",
       "\n",
       "                                            article_orig  \n",
       "439    Article original datant du 30/08/22 par Zero H...  \n",
       "440    Article original datant du 01/09/22 par Fox Ne...  \n",
       "446    Introduction nécessaireTout d’abord, une intro...  \n",
       "447    (Extrait du LIVE du 10/06/22)10/06/2022 – Ça n...  \n",
       "463    Article original datant du 01/09/22 par Mashab...  \n",
       "...                                                  ...  \n",
       "28883  Extrait du live du 13 octobre 2020« Benghazi? ...  \n",
       "50015  Vous souhaitez nous contacter pour nous inform...  \n",
       "50559  le rêve de YaredPlaylist complète de l’album «...  \n",
       "52542  Vos dons servent à financer les différents ser...  \n",
       "53340  TousArticleLivePilules RougesRevue de presseLa...  \n",
       "\n",
       "[65 rows x 10 columns]"
      ]
     },
     "execution_count": 208,
     "metadata": {},
     "output_type": "execute_result"
    }
   ],
   "source": [
    "df_corpus[df_corpus['site']=='lesdeqodeurs.fr']"
   ]
  },
  {
   "cell_type": "code",
   "execution_count": 213,
   "id": "68183522",
   "metadata": {},
   "outputs": [],
   "source": [
    "index = 82057\n",
    "article = df_corpus['article'][index]"
   ]
  },
  {
   "cell_type": "code",
   "execution_count": 214,
   "id": "0df4eae3",
   "metadata": {},
   "outputs": [],
   "source": [
    "trim_head_masks = [\n",
    "    'Voir mon actu\\nSuivre ce média',\n",
    "    'Facebook\\n\\n\\n\\nTwitter\\n\\n\\n\\nGmail\\n\\n\\n\\nPrint Friendly\\n\\n\\n\\n',\n",
    "    'Facebook\\n\\n\\n\\nTwitter\\n\\n\\n\\nLinkedIn\\n\\n\\n\\nPrint Friendly\\n\\n\\n\\n',\n",
    "]"
   ]
  },
  {
   "cell_type": "code",
   "execution_count": 215,
   "id": "1d353c33",
   "metadata": {},
   "outputs": [],
   "source": [
    "trim_tail_masks =[\n",
    "    'Veuillez laisser ce champ vide',\n",
    "    'Abonnez-vous sans tarder à notre chaîne Telegram',\n",
    "    'Rubriques connexes:',\n",
    "    'Partager cet article\\n',\n",
    "    'Articles similaires',\n",
    "    'Cet article vous a été utile ?',\n",
    "    'Sur le meme sujet \\n',\n",
    "    '\\nSur le même sujet',\n",
    "    '\\nCliquez pour partager',\n",
    "    'Imprimer ou envoyer à un ami',\n",
    "]"
   ]
  },
  {
   "cell_type": "code",
   "execution_count": 226,
   "id": "e1f04777",
   "metadata": {},
   "outputs": [],
   "source": [
    "remove_masks = [\n",
    "    r'Vue\\(s\\) :\\n[\\d ]+',\n",
    "    r'[\\n\\d ]+Envoyer l\\'article en PDF',\n",
    "]"
   ]
  },
  {
   "cell_type": "code",
   "execution_count": 230,
   "id": "d6ca8454",
   "metadata": {},
   "outputs": [],
   "source": [
    "def clean_article(article):\n",
    "    result = article\n",
    "    # Replace \\xa0\n",
    "    result = result.replace(u'\\xa0', u' ')\n",
    "    # Trim Head\n",
    "    for mask in trim_head_masks:\n",
    "        result = re.split(mask,result)[-1]\n",
    "    # Trim Tail\n",
    "    for mask in trim_tail_masks:\n",
    "        result = re.split(mask,result)[0]\n",
    "    for mask in remove_masks:\n",
    "        result = re.sub(mask,'',result)\n",
    "    return result.strip(' \\n')\n",
    "        "
   ]
  },
  {
   "cell_type": "code",
   "execution_count": 231,
   "id": "e33a5929",
   "metadata": {},
   "outputs": [
    {
     "name": "stdout",
     "output_type": "stream",
     "text": [
      "CPU times: user 7.13 s, sys: 24.3 ms, total: 7.16 s\n",
      "Wall time: 7.16 s\n"
     ]
    }
   ],
   "source": [
    "%%time\n",
    "df_corpus.loc[:,'article']=df_corpus['article'].apply(clean_article)"
   ]
  },
  {
   "cell_type": "code",
   "execution_count": 236,
   "id": "0c0f5266",
   "metadata": {},
   "outputs": [],
   "source": [
    "df_abstract = df_corpus[df_corpus['abstract'].notna()]"
   ]
  },
  {
   "cell_type": "code",
   "execution_count": 238,
   "id": "3b86a546",
   "metadata": {},
   "outputs": [
    {
     "name": "stderr",
     "output_type": "stream",
     "text": [
      "/var/folders/n0/92k02lss71s67fxfyc0qn84m0000gn/T/ipykernel_64364/1240536778.py:1: SettingWithCopyWarning: \n",
      "A value is trying to be set on a copy of a slice from a DataFrame.\n",
      "Try using .loc[row_indexer,col_indexer] = value instead\n",
      "\n",
      "See the caveats in the documentation: https://pandas.pydata.org/pandas-docs/stable/user_guide/indexing.html#returning-a-view-versus-a-copy\n",
      "  df_abstract.loc[:,'article'] = df_abstract['abstract']+'\\n'+df_abstract['article']\n"
     ]
    }
   ],
   "source": [
    "df_abstract.loc[:,'article'] = df_abstract['abstract']+'\\n'+df_abstract['article']"
   ]
  },
  {
   "cell_type": "code",
   "execution_count": 245,
   "id": "b2261f30",
   "metadata": {},
   "outputs": [],
   "source": [
    "df_corpus['article'].fillna(' ',inplace=True)"
   ]
  },
  {
   "cell_type": "code",
   "execution_count": 246,
   "id": "4ca04030",
   "metadata": {},
   "outputs": [],
   "source": [
    "df_corpus.to_csv('data/corpus/220908-CorpusNewsClean.csv',index=False)"
   ]
  },
  {
   "cell_type": "code",
   "execution_count": 242,
   "id": "b3784dd1",
   "metadata": {},
   "outputs": [],
   "source": [
    "df_corpus.drop(['article_orig'],axis=1,inplace=True)"
   ]
  },
  {
   "cell_type": "code",
   "execution_count": null,
   "id": "72f5ec97",
   "metadata": {},
   "outputs": [],
   "source": []
  },
  {
   "cell_type": "code",
   "execution_count": 225,
   "id": "14c1d45f",
   "metadata": {},
   "outputs": [
    {
     "data": {
      "text/plain": [
       "'*(s) :\\n1 970\\n\\n\\nValérie Bugault, docteur en droit, se consacre depuis quelques années à l’analyse des problématiques de géopolitique économique. Son deuxième tome des Raisons cachées du désordre mondial paru aux éditions Sigest mérite une lecture attentive. Et le simple fait que le Professeur Christian Perronne ait accepté d’en signer la préface témoigne de la qualité du travail de Valérie Bugault, bien connue de tous ceux qui résistent au Nouvel Ordre Mondial.\\nDans ce livre, Valérie Bugault propose des arguments étayés permettant d’établir un lien entre crise sanitaire « gonflée » et intérêts financiers. Son raisonnement est que nous sommes parvenus aux antipodes de la démocratie suite à la prise de pouvoir progressive des grands banquiers et autres financiers internationaux qui sont devenus les vrais maîtres de nos Etats.\\nPrésenté sous la forme d’un recueil d’articles et d’entretiens, cet ouvrage permet à Valérie Bugault de démontrer l’évolution d’un cycle historique dont elle estime le départ à l’année 1531, lorsque le roi d’Angleterre, Henry VIII, pour assouvir son désir d’épouser sa maîtresse Anne Boleyn, devant le refus du Pape d’annuler son mariage avec Catherine d’Aragon, rompt l’équilibre séculaire des pouvoirs de l’Europe médiévale. Le monarque décide de subordonner l’Eglise d’Angleterre à son autorité et introduit un schisme dans l’Eglise, conduisant son pays vers une évolution où le spirituel étant désormais soumis au temporel, le droit s’est mis au service des puissants, ces puissants devenant par la suite les financiers et les banquiers. A la faveur de prétextes sanitaires, le pouvoir financier mondial entend aujourd’hui accélérer son processus de domination sur les Etats et sur les individus, comme en attestent les recommandations du Forum économique mondial de Davos.\\nCette société préconisée par les hommes de Davos étant une utopie, Valérie Bugault reste persuadée qu’après un chaos généralisé viendra le temps de réinstaller des contre-pouvoirs pour s’affranchir de la tyrannie financière. Elle propose des pistes pour y arriver.\\nLes raisons cachées du désordre mondial – tome II, Valérie Bugault, préface de Christian Perronne, postface d’Olivier Frot, éditions Sigest, 254 pages, 22,90 euros\\nA commander en ligne sur le site de l’éditeur\\nSource : Medias Presse Info'"
      ]
     },
     "execution_count": 225,
     "metadata": {},
     "output_type": "execute_result"
    }
   ],
   "source": [
    "re.sub(r'Vue','*',article)"
   ]
  },
  {
   "cell_type": "code",
   "execution_count": 97,
   "id": "00017d8e",
   "metadata": {},
   "outputs": [
    {
     "data": {
      "text/plain": [
       "\"\\n\\n\\n\\n\\n\\nDes habitants emportent quelques biens dans une zone inondée de Shikarpur, le 31 août 2022 dans la province du Sind, au Pakistan,. (©AFP/Archives/Asif HASSAN)Les inondations dues aux pluies de mousson ont submergé un tiers du Pakistan, causant la mort de 1162 personnes selon un bilan publié ce mercredi 31 août 2022, dévastant de larges pans de terres agricoles essentielles à l’économie, et détruisant ou endommageant gravement plus d’un million d’habitations.«\\xa0Le Pakistan est inondé de souffrances. Le peuple pakistanais est confronté à une mousson cataclysmique\\xa0», a déclaré le secrétaire général des Nations unies, Antonio Guterres, en lançant un appel aux dons de 160 millions de dollars pour financer un plan d’urgence pour les six prochains mois.Plus de 33 millions de personnes – un Pakistanais sur sept – ont été affectées par ce que le Premier ministre pakistanais, Shehbaz Sharif, a qualifié « de pires inondations de l’histoire du Pakistan ».\\nÀ lire aussi\\nPakistan : les efforts s’accentuent pour venir en aide aux victimes des inondations\\nSon gouvernement estime qu’au moins 10 milliards de dollars seront nécessaires pour réparer les dégâts massifs causés aux infrastructures, en particulier dans le secteur des télécommunications, des routes et de l’agriculture.\\xa0La priorité toutefois pour l’instant reste d’atteindre les milliers de personnes bloquées dans les montagnes et vallées du nord, et dans les villages isolés du sud et de l’ouest.Il faut que l'eau soit enlevée d'ici immédiatement pour que nous puissions retourner dans nos maisons.Mohammad Safade\\xa0Habitant du sud du PakistanPhénomènes météorologiques extrêmes« Si vous survolez ce paysage, vous ne voyez aucune terre sèche, vous ne voyez que des kilomètres de champs inondés, de villages anéantis », a indiqué à l’AFP la ministre du Changement climatique, Sherry Rehman.Le Pakistan a reçu deux fois plus de précipitations qu’habituellement, selon le service météorologique. Dans les provinces du Sud (Baloutchistan et Sind), les plus touchées, les pluies ont été plus de quatre fois supérieures à la moyenne des 30 dernières années.\\n\\n\\n\\nInondations au Pakistan. (©AFP/Cléa PÉCULIER)La mousson, qui dure habituellement de juin à septembre, est essentielle à l’irrigation des plantations et à la reconstitution des ressources en eau du sous-continent indien. Il impute ces inondations dévastatrices au changement climatique, qui augmente la fréquence et l’intensité des phénomènes météorologiques extrêmes sur toute la planète.\\nÀ lire aussi\\nChangement climatique : inondations, incendies, canicules… ce n’est que le début, alerte le Giec\\nCette année, le pays a déjà été confronté à une vague de chaleur qui a parfois dépassé les 50°C, à des feux de forêts ravageurs et à des crues dévastatrices causées par la fonte rapide des glaciers.Le Pakistan est responsable de moins de 1% des émissions mondiales de gaz à effet de serre, mais il figure en 8e position des pays les plus menacés par les phénomènes météorologiques extrêmes, selon une étude de l’ONG Germanwatch.Avec AFP.#Inondations#Réchauffement climatique#VidéoCet article vous a été utile ? Sachez que vous pouvez suivre Actu dans l’espace Mon Actu . En un clic, après inscription, vous y retrouverez toute l’actualité de vos villes et marques favorites.\\n\\n\\nPartagez\\nPartagez\\n\\nPartagez sur Facebook\\nPartagez sur Twitter\\nPartagez par Mail\\n\\nCopiez/Collez le Lien\\nCopié !\\nhttps://actu.fr/monde/video-pakistan-les-inondations-gigantesques-submergent-des-millions-de-maisons_53474356.html\\n\\n\\n\\n\\nDécouvrez les newsletters\""
      ]
     },
     "execution_count": 97,
     "metadata": {},
     "output_type": "execute_result"
    }
   ],
   "source": [
    "re.split(trim_head_masks[0],article)[-1]"
   ]
  },
  {
   "cell_type": "code",
   "execution_count": null,
   "id": "43ad233b",
   "metadata": {},
   "outputs": [],
   "source": []
  }
 ],
 "metadata": {
  "kernelspec": {
   "display_name": "Python 3 (ipykernel)",
   "language": "python",
   "name": "python3"
  },
  "language_info": {
   "codemirror_mode": {
    "name": "ipython",
    "version": 3
   },
   "file_extension": ".py",
   "mimetype": "text/x-python",
   "name": "python",
   "nbconvert_exporter": "python",
   "pygments_lexer": "ipython3",
   "version": "3.9.13"
  }
 },
 "nbformat": 4,
 "nbformat_minor": 5
}
