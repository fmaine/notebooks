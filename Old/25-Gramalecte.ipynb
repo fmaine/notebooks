{
 "cells": [
  {
   "cell_type": "code",
   "execution_count": 2,
   "id": "dbbdd9b2",
   "metadata": {},
   "outputs": [
    {
     "name": "stdout",
     "output_type": "stream",
     "text": [
      "/Users/fm/Desktop/Work/Patat\n"
     ]
    }
   ],
   "source": [
    "cd ../.."
   ]
  },
  {
   "cell_type": "code",
   "execution_count": 25,
   "id": "ba14c77f",
   "metadata": {},
   "outputs": [],
   "source": [
    "import importlib\n",
    "import pickle\n",
    "import pandas as pd"
   ]
  },
  {
   "cell_type": "code",
   "execution_count": 6,
   "id": "565f466c",
   "metadata": {},
   "outputs": [],
   "source": [
    "with open('patat/etc/norm_lemme_gramma.p','rb') as file:\n",
    "    lemme_dic = pickle.load(file)"
   ]
  },
  {
   "cell_type": "code",
   "execution_count": 7,
   "id": "3834b048",
   "metadata": {},
   "outputs": [
    {
     "data": {
      "text/plain": [
       "257037"
      ]
     },
     "execution_count": 7,
     "metadata": {},
     "output_type": "execute_result"
    }
   ],
   "source": [
    "len(dic)"
   ]
  },
  {
   "cell_type": "code",
   "execution_count": 9,
   "id": "6b4f51dc",
   "metadata": {},
   "outputs": [],
   "source": [
    "df_recueil = pd.read_csv('data/corpus/220805-RecueilComplet.csv')"
   ]
  },
  {
   "cell_type": "code",
   "execution_count": 11,
   "id": "bc6c20a8",
   "metadata": {},
   "outputs": [],
   "source": [
    "text = df_recueil['text'][0]"
   ]
  },
  {
   "cell_type": "code",
   "execution_count": 12,
   "id": "0f7c5d3a",
   "metadata": {},
   "outputs": [
    {
     "data": {
      "text/plain": [
       "\"Essais Pfizer sur le vaccin anti-covid : le rapport explosif de Christine Cotton\\n\\nSkip to content\\n\\n\\nMenu\\n\\n\\n\\n \\n\\n\\n\\n\\nAccueil \\nMissions \\nActions   Etudes scientifiques \\n  Actions juridiques \\n  Interviews d’experts \\n  Sondages indépendants \\n\\nToutes les actualités Actualités et Communiqués de Presse \\nVidéos \\n\\n  Adhérer \\nInfos utiles Contact \\nDocuments juridiques Charte BonSens \\n\\nAdhésions \\nRéférents locaux \\n\\n \\n\\n\\nClose Menu\\n\\n\\n\\n\\n\\n\\n\\n\\n\\n\\n\\n\\n\\n\\n \\n\\n\\n\\n\\n\\n1 février 2022 \\n\\nEssais Pfizer sur le vaccin anti-covid : le rapport explosif de Christine Cotton\\n\\n\\n\\n\\n\\n\\n\\n\\n\\n\\n\\nDes résultats qui ne peuvent pas être considérés comme “fiables” et “intègres” au regard des bonnes pratiques cliniques, explique-t-elle. Nous avons de nouveau reçu la biostatisticienne Christine Cotton, pour qu’elle nous fasse part de son rapport d’expertise méthodologique réalisé à la demande d’une avocate qui plaide à la Cour d’appel du Québec. Son travail a consisté à réaliser une évaluation des pratiques méthodologique mises en œuvre dans les essais Pfizer pour le développement de son vaccin ARN messager contre la Covid-19, au regard des bonnes pratiques cliniques.\\n\\nVoir aussi\\xa0ses précédentes interventionsDebriefing :\\xa0Expertise des résultats des essais des quatre vaccinsTribune :\\xa0Vaccins Covid-19 : tout ce que je sais, c’est que personne ne sait rienDebriefing :\\xa0Alerte sur les données VAERS : “67% des décès enregistrés arrivent dans les 21 jours après l’injection”\\n\\n\\xa0\\nPour ce faire, elle a examiné tous les documents du laboratoire Pfizer enregistrés auprès des autorités américaines et européennes, ce qui comprend les protocoles, les rapports cliniques et les différents plans de gestion de risque. Un travail qui consiste essentiellement à repérer et déterminer les biais, c’est-à-dire des éléments susceptibles de faire dévier les résultats de leur vraie valeur.\\nAu fur et à mesure de son analyse, la biostatisticienne a repéré de très nombreux biais et en conclut qu’on ne pouvait pas faire confiance aux résultats de 95% d’efficacité annoncés par le géant pharmaceutique pour son critère principal, à savoir, première apparition de Covid-19 symptomatique à partir de 7 jours après la dose 2.\\nCette efficacité est faussée par le fait que le participant ait la responsabilité de signaler ses symptômes au site l’ayant recruté, afin de déterminer s’il est cas COVID-19 symptomatique. En effet, tout report incomplet ou mauvaise appréciation par le participant qui n’a pas la compétence de juger son état de santé, l’utilisation autorisée d’antipyrétiques qui suppriment les symptômes, fièvre et douleur, une absence de réponse du site, mènent à une sous-estimation du nombre de COVID-19 symptomatiques, puisque seuls les participants signalant des symptômes doivent réaliser un test PCR dans le cadre de cet essai.\\nAutrement, pas de symptôme signifie, pas de test PCR, et pas de test PCR, pas de Covid-19.\\nDe plus, il aurait été beaucoup plus approprié de réaliser des tests PCR, non seulement pour les participants déclarant des symptômes, mais pour l’ensemble de la population incluse dans l’essai clinique, ce qui aurait permis de détecter également les COVID-19 asymptomatiques, qui peuvent également être vecteurs de la maladie.\\n\\xa0\\n\\n\\xa0\\nPar conséquent, on comprend bien que toute la communication visant à promouvoir la vaccination avec l’argument qu’elle freine la transmission, n’était donc étayée par aucun résultat dans l’essai clinique.\\nUn autre problème qu’elle identifie est l’évaluation de la tolérance, puisque l’on a uniquement deux mois médians de suivi après la seconde dose, c’est-à-dire 50 % des participants à moins de deux mois et 50 % à plus de deux mois : une durée d’observation trop courte pour recueillir la tolérance à moyen et long terme.\\nEnfin, elle dénonce des manquements sur l’immunogénicité du vaccin, car le rapport du 10 décembre 2020 indiquait déjà une diminution de l’immunité à moins de deux mois après la seconde dose, et aucun dosage postérieur n’a été réalisé, puisque non prévu par le protocole avant 6 mois après la seconde dose.\\nÀ ces inconnues déjà très nombreuses viennent s’ajouter des informations capitales manquantes, puisque de l’aveu même du laboratoire, il n’existe aucune donnée sur l’utilisation pendant la grossesse et l’allaitement, sur les patients immunodéprimés ou présentant des comorbidités. Aucune information non plus sur les interactions avec d’autres vaccins et sur la sécurité à long terme.\\nAutre fait choquant : en octobre 2021, le CDC reconnaît enfin le risque de myocardites/péricardites liées au vaccin chez les 12-39 ans, alors qu’on vaccine en population générale déjà depuis plusieurs mois et qu’ils ont, par leur méthode de calcul des signaux, sous-estimé ce risque.\\nDernier point cité concernant les Bonnes Pratiques Cliniques (BPC) si chères à l’industrie pharmaceutique, elle fait référence à\\xa0l’affaire Ventavia (PfizerGate), et dénonce de graves manquements aux BPC dans la gestion des centres, et se demande si ce genre de problème a existé dans d’autres centres. L’audit de la FDA sur neuf centres seulement ne permet pas de lever le doute quant à la qualité des données, puisque, de leur propre aveu, « la partie sur l’intégrité des données et la vérification des inspections du BIMO (Bioresearch Monitoring) était limitée parce que l’étude était en cours et que les données requises pour la vérification et la comparaison n’étaient pas encore disponibles pour l’IND (Investigational New Drug). »\\nCompte tenu de tous les biais remontés et des informations toujours manquantes, Christine Cotton demande la suspension en urgence de toute vaccination par Comirnaty, non seulement pour les populations sur lesquelles nous n’avons pas d’information à ce jour, mais aussi pour l’ensemble de la population, en attendant les explications du laboratoire Pfizer sur le choix de son plan d’essai, de ses méthodes d’évaluation, sur l’algorithme de calcul des critères d’efficacité, l’absence de test PCR sur la population général, etc.\\nC’est donc un travail remarquable de précision, dont Christine Cotton espère qu’il permettra de revenir à des argumentaires qui soient démontrés et fiables.\\nUn debriefing proposé en partenariat avec\\xa0BonSens.org\\nReproduit à partir de l’article original de FranceSoir et avec son autorisation. \\n\\n \\n\\n\\n\\n\\n\\n\\n\\n\\n\\n\\n\\n\\n\\n\\n\\nRelated Posts\\n\\n\\n\\n \\n\\n\\n\\nSanté Humaine, Tous les Débriefings \\n“Tous les vaccins covid du monde entier devraient être retirés du marché” Peter McCullough \\n\\n\\n\\n\\n\\n\\n\\n \\n\\n\\n\\nSanté Sociétale, Tous les Débriefings \\n“Il y a un moyen de faire sauter l’immunité judiciaire des laboratoires pharmaceutique” Pr Werner Bergholz \\n\\n\\n\\n\\n\\n\\n\\n \\n\\n\\n\\nSanté Sociétale, Tous les Débriefings \\n“Un groupe d’oligarques a capturé les gouvernements de la même manière que les nazis” Vera Sharav – avec Ariane Bilheran, docteure en psychologie \\n\\n\\n\\n\\n\\n\\n\\n\\n\\nRechercher\\n\\n\\n\\n\\n\\nDerniers articlesDécouvrez les candidats labellisés ReCiProC de votre région 7 juin 2022 Samedi 28 mai\\xa0participez à «\\xa0Nos Enfants, quel A-Venir?\\xa0» avec le collectif “Tous unis pour nos enfants” 25 mai 2022 AG du 23 mai 2022 23 mai 2022 Derniers CommuniquésCommuniqué Spécial : Recours devant la Cour européenne des Droits de l’Homme 13 juin 2022 Communiqué pour l’association BonSens.org et le collectif Bon Sens Vital-e sur les procédures entamées à l’encontre des élections présidentielles françaises qui se sont déroulées les 10 et 14 avril 2022 7 mai 2022 Communiqué Spécial du 2 mai 2022 2 mai 2022 \\n\\n\\n\\n\\n\\n\\nBack To Top\\n\\n\\n\\nBonSens.org \\n\\n\\nSuivez-nous\\n\\n  Facebook\\n\\n\\n\\n  Twitter\\n\\n\\n\\n  Youtube\\n\\n \\n\\n\\n\\n\\nAccueil\\nMissions\\nRéférents locaux\\nMentions légales\\n\\nPolitique de confidentialité\\nPolitique de cookies (UE)\\n\\n\\nContact\\n \\n\\n\\n\\n\\n\\n\\n\\n\\n\\n\\n\\n\\n\\n\\n\\n\\n\\n\\n\\n\\n\\nGérer le consentement aux cookies\\n\\n\\n\\n\\n\\n\\nCe site utilise des cookies et vous donne le contrôle sur ceux que vous souhaitez activer. En autorisant ces services tiers, vous acceptez le dépôt et la lecture de cookies et l'utilisation de technologies de suivi nécessaires à leur bon fonctionnement. Vous pouvez choisir de n'accepter que les cookies fonctionnels. Les cookies sont conservés 7 jours.\\n\\n\\n\\n\\n\\nFonctionnel\\n\\n\\n\\nFonctionnel\\n\\n\\t\\t\\t\\t\\t\\t\\t\\tToujours activé\\t\\t\\t\\t\\t\\t\\t\\n\\n\\n\\n\\nLe stockage ou l’accès technique est strictement nécessaire dans la finalité d’intérêt légitime de permettre l’utilisation d’un service spécifique explicitement demandé par l’abonné ou l’utilisateur, ou dans le seul but d’effectuer la transmission d’une communication sur un réseau de communications électroniques.\\n\\n\\n\\n\\n\\nPréférences\\n\\n\\nPréférences\\n\\n\\n\\n\\n\\nLe stockage ou l’accès technique est nécessaire dans la finalité d’intérêt légitime de stocker des préférences qui ne sont pas demandées par l’abonné ou l’utilisateur.\\n\\n\\n\\n\\n\\nStatistiques\\n\\n\\nStatistiques\\n\\n\\n\\n\\n\\nLe stockage ou l’accès technique qui est utilisé exclusivement à des fins statistiques.\\nLe stockage ou l’accès technique qui est utilisé exclusivement dans des finalités statistiques anonymes. En l’absence d’une assignation à comparaître, d’une conformité volontaire de la part de votre fournisseur d’accès à internet ou d’enregistrements supplémentaires provenant d’une tierce partie, les informations stockées ou extraites à cette seule fin ne peuvent généralement pas être utilisées pour vous identifier.\\n\\n\\n\\n\\n\\nMarketing\\n\\n\\nMarketing\\n\\n\\n\\n\\n\\nLe stockage ou l’accès technique est nécessaire pour créer des profils d’utilisateurs afin d’envoyer des publicités, ou pour suivre l’utilisateur sur un site web ou sur plusieurs sites web ayant des finalités marketing similaires.\\n\\n\\n\\n\\n\\nGérer les options\\nGérer les services\\nGérer les fournisseurs\\nEn savoir plus sur ces finalités\\n\\n\\n\\nAccepter les cookies\\nRefuser\\nVoir les préférences\\nEnregistrer les préférences\\nVoir les préférences\\n\\n\\n{title}\\n{title}\\n{title}\\n\\n\\n\\nGérer le consentement\\n \\n\\n\\n\\n\\n\\n\\n\\n\\n\\n\\n\\n \""
      ]
     },
     "execution_count": 12,
     "metadata": {},
     "output_type": "execute_result"
    }
   ],
   "source": [
    "text"
   ]
  },
  {
   "cell_type": "code",
   "execution_count": 13,
   "id": "4e24f07c",
   "metadata": {},
   "outputs": [],
   "source": [
    "import patat.ml.lex_analyser"
   ]
  },
  {
   "cell_type": "code",
   "execution_count": 39,
   "id": "eeceb326",
   "metadata": {},
   "outputs": [
    {
     "data": {
      "text/plain": [
       "<module 'patat.ml.lex_analyser' from '/Users/fm/Desktop/Work/Patat/patat/ml/lex_analyser.py'>"
      ]
     },
     "execution_count": 39,
     "metadata": {},
     "output_type": "execute_result"
    }
   ],
   "source": [
    "importlib.reload(patat.ml.lex_analyser)"
   ]
  },
  {
   "cell_type": "code",
   "execution_count": 40,
   "id": "b0eaf194",
   "metadata": {},
   "outputs": [],
   "source": [
    "lex = patat.ml.lex_analyser.LexAnalyser()"
   ]
  },
  {
   "cell_type": "code",
   "execution_count": 41,
   "id": "935b2f41",
   "metadata": {},
   "outputs": [],
   "source": [
    "words = lex.get_words(text)"
   ]
  },
  {
   "cell_type": "code",
   "execution_count": 43,
   "id": "3db60e56",
   "metadata": {},
   "outputs": [],
   "source": [
    "lemmas = lex.get_lemmas(words)"
   ]
  },
  {
   "cell_type": "code",
   "execution_count": 47,
   "id": "36053d48",
   "metadata": {},
   "outputs": [
    {
     "data": {
      "text/plain": [
       "591"
      ]
     },
     "execution_count": 47,
     "metadata": {},
     "output_type": "execute_result"
    }
   ],
   "source": [
    "len(set(words))"
   ]
  },
  {
   "cell_type": "code",
   "execution_count": 48,
   "id": "1985d842",
   "metadata": {},
   "outputs": [
    {
     "data": {
      "text/plain": [
       "538"
      ]
     },
     "execution_count": 48,
     "metadata": {},
     "output_type": "execute_result"
    }
   ],
   "source": [
    "len(set(lemmas))"
   ]
  },
  {
   "cell_type": "code",
   "execution_count": null,
   "id": "5b323b23",
   "metadata": {},
   "outputs": [],
   "source": []
  }
 ],
 "metadata": {
  "kernelspec": {
   "display_name": "Python 3 (ipykernel)",
   "language": "python",
   "name": "python3"
  },
  "language_info": {
   "codemirror_mode": {
    "name": "ipython",
    "version": 3
   },
   "file_extension": ".py",
   "mimetype": "text/x-python",
   "name": "python",
   "nbconvert_exporter": "python",
   "pygments_lexer": "ipython3",
   "version": "3.9.13"
  }
 },
 "nbformat": 4,
 "nbformat_minor": 5
}
