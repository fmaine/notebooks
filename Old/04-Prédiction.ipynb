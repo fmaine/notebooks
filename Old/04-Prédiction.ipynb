{
 "cells": [
  {
   "cell_type": "markdown",
   "id": "4a673f2f",
   "metadata": {},
   "source": [
    "# Patat : Plateforme Agnostique de Traitement et d'Analyse des Textes\n",
    "\n",
    "### Notebook 4 : Predictions !\n",
    "Sur le Corpus\n",
    "\n",
    "En utilisant les prédicteurs précédement entraînés\n",
    "\n",
    "### Synopsis\n",
    "\n",
    "- Prédiction avec SpacyLogreg\n",
    "- Prédiction avec SpacyGnb\n",
    "- Comparaison sur le label Infox\n",
    "\n",
    "### To do\n",
    "- Regarder Cohen Kappa score dans sklearn\n",
    "\n",
    "## 0 - Préliminaires"
   ]
  },
  {
   "cell_type": "code",
   "execution_count": 1,
   "id": "d6d07d04",
   "metadata": {},
   "outputs": [
    {
     "name": "stdout",
     "output_type": "stream",
     "text": [
      "/Users/fm/Desktop/Work/Patat\n"
     ]
    }
   ],
   "source": [
    "cd ../.."
   ]
  },
  {
   "cell_type": "code",
   "execution_count": 2,
   "id": "ec55652f",
   "metadata": {},
   "outputs": [],
   "source": [
    "import importlib\n",
    "import pandas as pd"
   ]
  },
  {
   "cell_type": "markdown",
   "id": "ae9f93ad",
   "metadata": {},
   "source": [
    "## 1 - Chargement du corpus"
   ]
  },
  {
   "cell_type": "code",
   "execution_count": 3,
   "id": "f25898ac",
   "metadata": {},
   "outputs": [],
   "source": [
    "df_corpus = pd.read_csv('data/corpus/220531-SpacyCorpus.csv')"
   ]
  },
  {
   "cell_type": "markdown",
   "id": "a333e5c9",
   "metadata": {},
   "source": [
    "## 2 - Prédiction avec SpacyLogreg"
   ]
  },
  {
   "cell_type": "code",
   "execution_count": 4,
   "id": "d83b37f0",
   "metadata": {},
   "outputs": [],
   "source": [
    "import patat.ml.spacy_analyser\n",
    "analyser = patat.ml.spacy_analyser.SpacyAnalyser()"
   ]
  },
  {
   "cell_type": "code",
   "execution_count": 5,
   "id": "838fb9ba",
   "metadata": {},
   "outputs": [],
   "source": [
    "import patat.ml.logreg_predictor\n",
    "predictor = patat.ml.logreg_predictor.LogregPredictor()"
   ]
  },
  {
   "cell_type": "code",
   "execution_count": 6,
   "id": "7de47456",
   "metadata": {},
   "outputs": [],
   "source": [
    "predictor.load('data/predictor/220601-SpacyLogreg.pp')"
   ]
  },
  {
   "cell_type": "code",
   "execution_count": 7,
   "id": "4bcb76ef",
   "metadata": {},
   "outputs": [],
   "source": [
    "X_cols = analyser.feature_col_names()"
   ]
  },
  {
   "cell_type": "code",
   "execution_count": 8,
   "id": "40b5b7bc",
   "metadata": {},
   "outputs": [],
   "source": [
    "df_pred = predictor.predict(df_corpus,X_cols)"
   ]
  },
  {
   "cell_type": "code",
   "execution_count": 9,
   "id": "d4702267",
   "metadata": {},
   "outputs": [],
   "source": [
    "df_corpus_logreg = pd.concat([df_corpus.reset_index(), df_pred], axis=1)"
   ]
  },
  {
   "cell_type": "code",
   "execution_count": 10,
   "id": "2aa9e28a",
   "metadata": {},
   "outputs": [],
   "source": [
    " df_corpus_logreg = df_corpus_logreg.rename(columns={'infox': 'infox_logreg'})"
   ]
  },
  {
   "cell_type": "code",
   "execution_count": 11,
   "id": "cec833ea",
   "metadata": {},
   "outputs": [
    {
     "data": {
      "text/plain": [
       "0      https://www.lelibrepenseur.org/les-rassembleme...\n",
       "3      https://www.francesoir.fr/culture-celebrites/e...\n",
       "8      https://www.dreuz.info/2021/12/la-reconnaissan...\n",
       "12     https://www.francesoir.fr/opinions-societe/san...\n",
       "14     https:/lesmoutonsrebelles.com/un-homme-qui-a-f...\n",
       "                             ...                        \n",
       "781    https://www.francesoir.fr/culture-celebrites/a...\n",
       "787    https://www.francesoir.fr/politique-monde/rein...\n",
       "793    https:/www.wikistrike.com/2021/12/angleterre-c...\n",
       "797    https://www.dreuz.info/2022/01/linattendu-rebo...\n",
       "799    https://www.lelibrepenseur.org/algerie-manifes...\n",
       "Name: url, Length: 205, dtype: object"
      ]
     },
     "execution_count": 11,
     "metadata": {},
     "output_type": "execute_result"
    }
   ],
   "source": [
    "df_corpus_logreg[df_corpus_logreg['infox_logreg']==1]['url']"
   ]
  },
  {
   "cell_type": "markdown",
   "id": "a642c2a9",
   "metadata": {},
   "source": [
    "## 3 - Prédiction avec SpacyGnb"
   ]
  },
  {
   "cell_type": "code",
   "execution_count": 12,
   "id": "02183823",
   "metadata": {},
   "outputs": [],
   "source": [
    "import patat.ml.gnb_predictor\n",
    "predictor = patat.ml.gnb_predictor.GnbPredictor()"
   ]
  },
  {
   "cell_type": "code",
   "execution_count": 13,
   "id": "821587d9",
   "metadata": {},
   "outputs": [],
   "source": [
    "predictor.load('data/predictor/220601-SpacyGnb.pp')"
   ]
  },
  {
   "cell_type": "code",
   "execution_count": 14,
   "id": "132a4070",
   "metadata": {},
   "outputs": [],
   "source": [
    "X_cols = analyser.feature_col_names()"
   ]
  },
  {
   "cell_type": "code",
   "execution_count": 15,
   "id": "08ec0886",
   "metadata": {},
   "outputs": [],
   "source": [
    "df_pred = predictor.predict(df_corpus,X_cols)"
   ]
  },
  {
   "cell_type": "code",
   "execution_count": 16,
   "id": "045a11df",
   "metadata": {},
   "outputs": [],
   "source": [
    "df_corpus_gnb = pd.concat([df_corpus.reset_index(), df_pred], axis=1)"
   ]
  },
  {
   "cell_type": "code",
   "execution_count": 19,
   "id": "273e8092",
   "metadata": {},
   "outputs": [],
   "source": [
    " df_corpus_gnb = df_corpus_gnb.rename(columns={'infox': 'infox_gnb'})"
   ]
  },
  {
   "cell_type": "code",
   "execution_count": 20,
   "id": "3f7d70cd",
   "metadata": {},
   "outputs": [
    {
     "data": {
      "text/plain": [
       "(22,)"
      ]
     },
     "execution_count": 20,
     "metadata": {},
     "output_type": "execute_result"
    }
   ],
   "source": [
    "df_corpus_gnb[df_corpus_gnb['infox_gnb']==1]['url'].shape"
   ]
  },
  {
   "cell_type": "markdown",
   "id": "15b1a5b6",
   "metadata": {},
   "source": [
    "## 4 - Comparaison des prédictions"
   ]
  },
  {
   "cell_type": "code",
   "execution_count": 21,
   "id": "9a8055ec",
   "metadata": {},
   "outputs": [],
   "source": [
    "df_test = pd.concat([df_corpus_logreg,df_corpus_gnb['infox_gnb']],axis=1)"
   ]
  },
  {
   "cell_type": "code",
   "execution_count": 22,
   "id": "af2d2df2",
   "metadata": {},
   "outputs": [],
   "source": [
    "def pred_status(p1,p2):\n",
    "    if p1==p2:\n",
    "        if p1==1:\n",
    "            return 'positif'\n",
    "        else:\n",
    "            return 'negatif'\n",
    "    else:\n",
    "        return 'desaccord'"
   ]
  },
  {
   "cell_type": "code",
   "execution_count": 23,
   "id": "360d7c2b",
   "metadata": {},
   "outputs": [],
   "source": [
    "df_test['status'] = df_test.apply(lambda row: pred_status(row['infox_logreg'], row['infox_gnb']), axis=1)"
   ]
  },
  {
   "cell_type": "code",
   "execution_count": 24,
   "id": "e161a259",
   "metadata": {},
   "outputs": [
    {
     "name": "stdout",
     "output_type": "stream",
     "text": [
      "Positif : 16 Negatif : 589 Desaccord : 195\n"
     ]
    }
   ],
   "source": [
    "nb_positif = len(df_test[df_test['status']=='positif'])\n",
    "nb_negatif = len(df_test[df_test['status']=='negatif'])\n",
    "nb_desaccord = len(df_test[df_test['status']=='desaccord'])\n",
    "print(f'Positif : {nb_positif} Negatif : {nb_negatif} Desaccord : {nb_desaccord}')"
   ]
  },
  {
   "cell_type": "markdown",
   "id": "11fed90d",
   "metadata": {},
   "source": [
    "# Prédictions avec LexAnalyser"
   ]
  },
  {
   "cell_type": "code",
   "execution_count": null,
   "id": "cc485c95",
   "metadata": {},
   "outputs": [],
   "source": [
    "df_corpus = pd.read_csv('data/corpus/220531-LexCorpus.csv')"
   ]
  },
  {
   "cell_type": "code",
   "execution_count": null,
   "id": "c7a729a2",
   "metadata": {},
   "outputs": [],
   "source": [
    "import patat.ml.lex_analyser\n",
    "lex = patat.ml.lex_analyser.LexAnalyser()"
   ]
  },
  {
   "cell_type": "code",
   "execution_count": null,
   "id": "5f0d6c48",
   "metadata": {},
   "outputs": [],
   "source": [
    "logreg = patat.ml.logreg_predictor.LogregPredictor()\n",
    "gnb = patat.ml.gnb_predictor.GnbPredictor()"
   ]
  },
  {
   "cell_type": "code",
   "execution_count": null,
   "id": "07400edd",
   "metadata": {},
   "outputs": [],
   "source": [
    "logreg.load('data/predictor/220531-LexLogreg.pp')\n",
    "gnb.load('data/predictor/220531-LexGnb.pp')"
   ]
  },
  {
   "cell_type": "code",
   "execution_count": null,
   "id": "110f9d07",
   "metadata": {},
   "outputs": [],
   "source": [
    "X_cols = lex.feature_col_names()"
   ]
  },
  {
   "cell_type": "code",
   "execution_count": null,
   "id": "024e448b",
   "metadata": {},
   "outputs": [],
   "source": [
    "X_cols"
   ]
  },
  {
   "cell_type": "code",
   "execution_count": null,
   "id": "de9a4d14",
   "metadata": {},
   "outputs": [],
   "source": [
    "df_logreg_pred = logreg.predict(df_corpus,X_cols)\n",
    "df_logreg_pred=df_logreg_pred.rename(columns={'Infox': 'infox_logreg'})\n",
    "df_gnb_pred = gnb.predict(df_corpus,X_cols)\n",
    "df_gnb_pred = df_gnb_pred.rename(columns={'Infox': 'infox_gnb'})\n"
   ]
  },
  {
   "cell_type": "code",
   "execution_count": null,
   "id": "0e40a063",
   "metadata": {},
   "outputs": [],
   "source": [
    "df_corpus_pred = pd.concat([df_corpus.reset_index(), df_logreg_pred], axis=1)\n",
    "df_corpus_pred = pd.concat([df_corpus_pred, df_gnb_pred], axis=1)\n"
   ]
  },
  {
   "cell_type": "code",
   "execution_count": null,
   "id": "9f78f290",
   "metadata": {},
   "outputs": [],
   "source": [
    "def pred_status(p1,p2):\n",
    "    if p1==p2:\n",
    "        if p1==1:\n",
    "            return 'positif'\n",
    "        else:\n",
    "            return 'negatif'\n",
    "    else:\n",
    "        return 'desaccord'"
   ]
  },
  {
   "cell_type": "code",
   "execution_count": null,
   "id": "2b3c4799",
   "metadata": {},
   "outputs": [],
   "source": [
    "df_corpus_pred['status'] = df_corpus_pred.apply(lambda row: pred_status(row['infox_logreg'], row['infox_gnb']), axis=1)"
   ]
  },
  {
   "cell_type": "code",
   "execution_count": null,
   "id": "22c30beb",
   "metadata": {},
   "outputs": [],
   "source": [
    "nb_positif = len(df_corpus_pred[df_corpus_pred['status']=='positif'])\n",
    "nb_negatif = len(df_corpus_pred[df_corpus_pred['status']=='negatif'])\n",
    "nb_desaccord = len(df_corpus_pred[df_corpus_pred['status']=='desaccord'])\n",
    "print(f'Positif : {nb_positif} Negatif : {nb_negatif} Desaccord : {nb_desaccord}')"
   ]
  },
  {
   "cell_type": "code",
   "execution_count": null,
   "id": "170f5d8d",
   "metadata": {},
   "outputs": [],
   "source": [
    "df_gnb_pred[df_gnb_pred['infox_gnb']==1]"
   ]
  },
  {
   "cell_type": "code",
   "execution_count": null,
   "id": "18eab7b0",
   "metadata": {},
   "outputs": [],
   "source": [
    "df_logreg_pred[df_logreg_pred['infox_logreg']==1]"
   ]
  },
  {
   "cell_type": "code",
   "execution_count": null,
   "id": "5ef4d8e0",
   "metadata": {},
   "outputs": [],
   "source": [
    "df_test"
   ]
  },
  {
   "cell_type": "code",
   "execution_count": null,
   "id": "4415d2d1",
   "metadata": {},
   "outputs": [],
   "source": [
    "df_pred"
   ]
  },
  {
   "cell_type": "code",
   "execution_count": null,
   "id": "737b2512",
   "metadata": {},
   "outputs": [],
   "source": [
    "df_corpus"
   ]
  },
  {
   "cell_type": "code",
   "execution_count": null,
   "id": "c504b615",
   "metadata": {},
   "outputs": [],
   "source": [
    "cd Work/Patat/\n"
   ]
  },
  {
   "cell_type": "code",
   "execution_count": null,
   "id": "30957eae",
   "metadata": {},
   "outputs": [],
   "source": [
    "ls data/corpus"
   ]
  },
  {
   "cell_type": "code",
   "execution_count": null,
   "id": "bd9475d2",
   "metadata": {},
   "outputs": [],
   "source": [
    "df_save = df_test[['url','title','author','date_published','afp','infox_logreg','infox_gnb','status']]"
   ]
  },
  {
   "cell_type": "code",
   "execution_count": null,
   "id": "169b1be9",
   "metadata": {},
   "outputs": [],
   "source": [
    "df_save.to_csv('data/corpus/220601-FrancesoirPredictions.csv')"
   ]
  },
  {
   "cell_type": "code",
   "execution_count": null,
   "id": "836ad0e7",
   "metadata": {},
   "outputs": [],
   "source": [
    "df_save"
   ]
  },
  {
   "cell_type": "code",
   "execution_count": null,
   "id": "720627a2",
   "metadata": {},
   "outputs": [],
   "source": [
    "df_spacy=pd.read_csv('data/corpus/220530-SpacyLabels.csv')"
   ]
  },
  {
   "cell_type": "code",
   "execution_count": null,
   "id": "0c61c429",
   "metadata": {},
   "outputs": [],
   "source": [
    "df_spacy"
   ]
  },
  {
   "cell_type": "code",
   "execution_count": null,
   "id": "f14cc2af",
   "metadata": {},
   "outputs": [],
   "source": []
  }
 ],
 "metadata": {
  "kernelspec": {
   "display_name": "Python 3 (ipykernel)",
   "language": "python",
   "name": "python3"
  },
  "language_info": {
   "codemirror_mode": {
    "name": "ipython",
    "version": 3
   },
   "file_extension": ".py",
   "mimetype": "text/x-python",
   "name": "python",
   "nbconvert_exporter": "python",
   "pygments_lexer": "ipython3",
   "version": "3.9.13"
  }
 },
 "nbformat": 4,
 "nbformat_minor": 5
}
