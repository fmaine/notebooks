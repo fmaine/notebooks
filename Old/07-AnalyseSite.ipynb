{
 "cells": [
  {
   "cell_type": "code",
   "execution_count": 1,
   "id": "470697f6",
   "metadata": {},
   "outputs": [
    {
     "name": "stdout",
     "output_type": "stream",
     "text": [
      "/Users/fm/Desktop/Work/Patat\n"
     ]
    }
   ],
   "source": [
    "cd ../.."
   ]
  },
  {
   "cell_type": "code",
   "execution_count": 7,
   "id": "adb61bd6",
   "metadata": {},
   "outputs": [],
   "source": [
    "import importlib"
   ]
  },
  {
   "cell_type": "code",
   "execution_count": 8,
   "id": "a6a6355d",
   "metadata": {},
   "outputs": [],
   "source": [
    "import patat.imp.generic_importer"
   ]
  },
  {
   "cell_type": "code",
   "execution_count": 29,
   "id": "4802aed1",
   "metadata": {},
   "outputs": [
    {
     "data": {
      "text/plain": [
       "<module 'patat.imp.generic_importer' from '/Users/fm/Desktop/Work/Patat/patat/imp/generic_importer.py'>"
      ]
     },
     "execution_count": 29,
     "metadata": {},
     "output_type": "execute_result"
    }
   ],
   "source": [
    "importlib.reload(patat.imp.generic_importer)"
   ]
  },
  {
   "cell_type": "code",
   "execution_count": 30,
   "id": "d6ef9517",
   "metadata": {},
   "outputs": [],
   "source": [
    "imp = patat.imp.generic_importer.GenericImporter()"
   ]
  },
  {
   "cell_type": "code",
   "execution_count": 27,
   "id": "c1f5c542",
   "metadata": {},
   "outputs": [],
   "source": [
    "url = 'https://www.francesoir.fr'"
   ]
  },
  {
   "cell_type": "code",
   "execution_count": 28,
   "id": "d6f7d391",
   "metadata": {},
   "outputs": [
    {
     "data": {
      "text/plain": [
       "{'css_dict': {'article_link_css': ['views-field'],\n",
       "  'list_link_css': ['pager-item', 'menu__item'],\n",
       "  'title_css': ['pane-node-title'],\n",
       "  'article_css': ['field--name-body', 'field-name-body']},\n",
       " 'old_css': '',\n",
       " 'revisit_map': {'revisit_urls': ['https://www.francesoir.fr',\n",
       "   'https://www.francesoir.fr/info-en-direct',\n",
       "   'https://www.francesoir.fr/rubrique/societe',\n",
       "   'https://www.francesoir.fr/rubrique/politique',\n",
       "   'https://www.francesoir.fr/rubrique/culture',\n",
       "   'https://www.francesoir.fr/rubrique/lifestyle',\n",
       "   'https://www.francesoir.fr/rubrique/opinions'],\n",
       "  'revisit_css': ['pager-item']}}"
      ]
     },
     "execution_count": 28,
     "metadata": {},
     "output_type": "execute_result"
    }
   ],
   "source": [
    "imp.url_status(url)"
   ]
  },
  {
   "cell_type": "code",
   "execution_count": null,
   "id": "06365a71",
   "metadata": {},
   "outputs": [],
   "source": []
  }
 ],
 "metadata": {
  "kernelspec": {
   "display_name": "Python 3 (ipykernel)",
   "language": "python",
   "name": "python3"
  },
  "language_info": {
   "codemirror_mode": {
    "name": "ipython",
    "version": 3
   },
   "file_extension": ".py",
   "mimetype": "text/x-python",
   "name": "python",
   "nbconvert_exporter": "python",
   "pygments_lexer": "ipython3",
   "version": "3.9.13"
  }
 },
 "nbformat": 4,
 "nbformat_minor": 5
}
