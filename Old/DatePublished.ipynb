{
 "cells": [
  {
   "cell_type": "code",
   "execution_count": 1,
   "id": "dac630cf",
   "metadata": {},
   "outputs": [
    {
     "name": "stdout",
     "output_type": "stream",
     "text": [
      "/Users/fm/Desktop/Work/Patat\n"
     ]
    }
   ],
   "source": [
    "cd ../.."
   ]
  },
  {
   "cell_type": "code",
   "execution_count": 22,
   "id": "3dfe820f",
   "metadata": {},
   "outputs": [],
   "source": [
    "import importlib\n",
    "import re\n",
    "from bs4 import BeautifulSoup"
   ]
  },
  {
   "cell_type": "code",
   "execution_count": 24,
   "id": "d4ff1b7b",
   "metadata": {},
   "outputs": [],
   "source": [
    "import patat.imp.importer\n",
    "import patat.imp.crawler"
   ]
  },
  {
   "cell_type": "code",
   "execution_count": 28,
   "id": "6711461e",
   "metadata": {},
   "outputs": [
    {
     "data": {
      "text/plain": [
       "<module 'patat.imp.crawler' from '/Users/fm/Desktop/Work/Patat/patat/imp/crawler.py'>"
      ]
     },
     "execution_count": 28,
     "metadata": {},
     "output_type": "execute_result"
    }
   ],
   "source": [
    "importlib.reload(patat.imp.importer)\n",
    "importlib.reload(patat.imp.crawler)"
   ]
  },
  {
   "cell_type": "code",
   "execution_count": 29,
   "id": "d9f8d926",
   "metadata": {},
   "outputs": [],
   "source": [
    "crawler = patat.imp.crawler.Crawler()"
   ]
  },
  {
   "cell_type": "code",
   "execution_count": 13,
   "id": "920e9357",
   "metadata": {},
   "outputs": [],
   "source": [
    "url = 'https://www.breizh-info.com/2022/06/13/188038/les-retournes-un-reportage-sur-ces-migrants-qui-ont-compris-que-la-migration-clandestine-en-europe-etait-une-impasse/'"
   ]
  },
  {
   "cell_type": "code",
   "execution_count": 14,
   "id": "8903ec16",
   "metadata": {},
   "outputs": [],
   "source": [
    "html = crawler.get_webpage(url)"
   ]
  },
  {
   "cell_type": "code",
   "execution_count": 15,
   "id": "204ec485",
   "metadata": {},
   "outputs": [],
   "source": [
    "soup = BeautifulSoup(html,'lxml')"
   ]
  },
  {
   "cell_type": "code",
   "execution_count": 16,
   "id": "5c09b3c7",
   "metadata": {},
   "outputs": [
    {
     "data": {
      "text/plain": [
       "[<time datetime=\"2022-06-13T11:19:22+02:00\">11 : 19</time>,\n",
       " <time datetime=\"2022-06-13T10:39:29+02:00\">10 : 39</time>,\n",
       " <time datetime=\"2022-06-13T09:34:07+02:00\">9 : 34</time>,\n",
       " <time datetime=\"2022-06-13T09:19:47+02:00\">9 : 19</time>,\n",
       " <time datetime=\"2022-06-13T07:16:38+02:00\">7 : 16</time>,\n",
       " <time datetime=\"2022-06-13T06:31:35+02:00\">6 : 31</time>,\n",
       " <time datetime=\"2022-06-13T06:21:34+02:00\">6 : 21</time>,\n",
       " <time datetime=\"2022-06-13T06:07:27+02:00\">6 : 07</time>,\n",
       " <time datetime=\"2022-06-13T05:27:59+02:00\">5 : 27</time>,\n",
       " <time datetime=\"2022-06-13T05:11:48+02:00\">5 : 11</time>,\n",
       " <time datetime=\"2022-06-13T05:08:34+02:00\">5 : 08</time>,\n",
       " <time datetime=\"2022-06-13T05:08:13+02:00\">5 : 08</time>]"
      ]
     },
     "execution_count": 16,
     "metadata": {},
     "output_type": "execute_result"
    }
   ],
   "source": [
    "soup.find_all('time')"
   ]
  },
  {
   "cell_type": "code",
   "execution_count": 12,
   "id": "74a19191",
   "metadata": {},
   "outputs": [
    {
     "data": {
      "text/plain": [
       "['2004496072',\n",
       " '3986326785',\n",
       " '2022-03/00',\n",
       " '2022-03/00',\n",
       " '2022-03/00',\n",
       " '1264.00000',\n",
       " '2628.00000',\n",
       " '2591.00000',\n",
       " '1133.26296',\n",
       " '1122.50065',\n",
       " '1111.73704',\n",
       " '1109 39.73',\n",
       " '1119.76361',\n",
       " '5006452 11',\n",
       " '2629642 11',\n",
       " '3704 64 11',\n",
       " '0065 53.23',\n",
       " '1133.26296',\n",
       " '1136 61.26',\n",
       " '1125.23768',\n",
       " '5006452 11',\n",
       " '2022-03/00',\n",
       " '2022-03/00',\n",
       " '0752918262',\n",
       " '8699f90090',\n",
       " '1900335-92',\n",
       " '3153600000',\n",
       " '0752918262',\n",
       " '8699f90090',\n",
       " '0752918262',\n",
       " '8699f90090']"
      ]
     },
     "execution_count": 12,
     "metadata": {},
     "output_type": "execute_result"
    }
   ],
   "source": [
    "re.findall(r'\\d\\d\\d\\d.\\d\\d.\\d\\d',html)"
   ]
  },
  {
   "cell_type": "code",
   "execution_count": 18,
   "id": "a98a195c",
   "metadata": {},
   "outputs": [],
   "source": [
    "header='{\"Date\": \"Mon, 13 Jun 2022 09:36:04 GMT\", \"Content-Type\": \"text/html; charset=UTF-8\", \"Transfer-Encoding\": \"chunked\", \"Connection\": \"keep-alive\", \"Last-Modified\": \"Mon, 13 Jun 2022 09:19:45 GMT\", \"Cache-Control\": \"public, max-age=300\", \"Age\": \"0\", \"CF-Cache-Status\": \"DYNAMIC\", \"Expect-CT\": \"max-age=604800, report-uri=\\\"https://report-uri.cloudflare.com/cdn-cgi/beacon/expect-ct\\\"\", \"Report-To\": \"{\\\"endpoints\\\":[{\\\"url\\\":\\\"https:\\\\/\\\\/a.nel.cloudflare.com\\\\/report\\\\/v3?s=TsrUG3t36FWt7iAcmaLNhDMXQ%2FieDbzKed4dNx0ihI0vu6ANskNEgp%2BetqcVUusxxY8o2%2FZ%2BJex6y4upLQyqM0Xt19hrnhc6891Usy3qEmXG1X6dcxnrEBR7dC9bIJh3dALxp0RX\\\"}],\\\"group\\\":\\\"cf-nel\\\",\\\"max_age\\\":604800}\", \"NEL\": \"{\\\"success_fraction\\\":0,\\\"report_to\\\":\\\"cf-nel\\\",\\\"max_age\\\":604800}\", \"Server\": \"cloudflare\", \"CF-RAY\": \"71a9d6fa0ddd0fe2-MRS\", \"Content-Encoding\": \"gzip\", \"alt-svc\": \"h3=\\\":443\\\"; ma=86400, h3-29=\\\":443\\\"; ma=86400\"}'"
   ]
  },
  {
   "cell_type": "code",
   "execution_count": 19,
   "id": "6775a92b",
   "metadata": {},
   "outputs": [],
   "source": [
    "header = {\"Date\": \"Mon, 13 Jun 2022 09:36:04 GMT\", \"Content-Type\": \"text/html; charset=UTF-8\", \"Transfer-Encoding\": \"chunked\", \"Connection\": \"keep-alive\", \"Last-Modified\": \"Mon, 13 Jun 2022 09:19:45 GMT\", \"Cache-Control\": \"public, max-age=300\", \"Age\": \"0\", \"CF-Cache-Status\": \"DYNAMIC\", \"Expect-CT\": \"max-age=604800, report-uri=\\\"https://report-uri.cloudflare.com/cdn-cgi/beacon/expect-ct\\\"\", \"Report-To\": \"{\\\"endpoints\\\":[{\\\"url\\\":\\\"https:\\\\/\\\\/a.nel.cloudflare.com\\\\/report\\\\/v3?s=TsrUG3t36FWt7iAcmaLNhDMXQ%2FieDbzKed4dNx0ihI0vu6ANskNEgp%2BetqcVUusxxY8o2%2FZ%2BJex6y4upLQyqM0Xt19hrnhc6891Usy3qEmXG1X6dcxnrEBR7dC9bIJh3dALxp0RX\\\"}],\\\"group\\\":\\\"cf-nel\\\",\\\"max_age\\\":604800}\", \"NEL\": \"{\\\"success_fraction\\\":0,\\\"report_to\\\":\\\"cf-nel\\\",\\\"max_age\\\":604800}\", \"Server\": \"cloudflare\", \"CF-RAY\": \"71a9d6fa0ddd0fe2-MRS\", \"Content-Encoding\": \"gzip\", \"alt-svc\": \"h3=\\\":443\\\"; ma=86400, h3-29=\\\":443\\\"; ma=86400\"}"
   ]
  },
  {
   "cell_type": "code",
   "execution_count": 21,
   "id": "dcaedcad",
   "metadata": {},
   "outputs": [
    {
     "data": {
      "text/plain": [
       "'Mon, 13 Jun 2022 09:19:45 GMT'"
      ]
     },
     "execution_count": 21,
     "metadata": {},
     "output_type": "execute_result"
    }
   ],
   "source": [
    "header['Last-Modified']"
   ]
  },
  {
   "cell_type": "code",
   "execution_count": 37,
   "id": "d91d7d87",
   "metadata": {},
   "outputs": [
    {
     "data": {
      "text/plain": [
       "'Mon, 13 Jun 2022 09:57:04 GMT'"
      ]
     },
     "execution_count": 37,
     "metadata": {},
     "output_type": "execute_result"
    }
   ],
   "source": [
    "html = crawler.get_webpage(url,use_cache=False)\n",
    "crawler.get_date_header(url)"
   ]
  },
  {
   "cell_type": "code",
   "execution_count": 36,
   "id": "16332d73",
   "metadata": {},
   "outputs": [],
   "source": [
    "url='https://lesmoutonsrebelles.com/christine-lagarde-nous-sommes-en-presence-de-la-plus-enorme-crise-economique-que-nous-ayons-vecu-depuis-la-2nde-guerre-mondiale/'"
   ]
  },
  {
   "cell_type": "code",
   "execution_count": 38,
   "id": "3886d866",
   "metadata": {},
   "outputs": [
    {
     "data": {
      "text/plain": [
       "'2021-02-08T00:20:28'"
      ]
     },
     "execution_count": 38,
     "metadata": {},
     "output_type": "execute_result"
    }
   ],
   "source": [
    "crawler.get_date_published(html)"
   ]
  },
  {
   "cell_type": "code",
   "execution_count": null,
   "id": "0bbd7fe7",
   "metadata": {},
   "outputs": [],
   "source": []
  }
 ],
 "metadata": {
  "kernelspec": {
   "display_name": "Python 3 (ipykernel)",
   "language": "python",
   "name": "python3"
  },
  "language_info": {
   "codemirror_mode": {
    "name": "ipython",
    "version": 3
   },
   "file_extension": ".py",
   "mimetype": "text/x-python",
   "name": "python",
   "nbconvert_exporter": "python",
   "pygments_lexer": "ipython3",
   "version": "3.9.13"
  }
 },
 "nbformat": 4,
 "nbformat_minor": 5
}
