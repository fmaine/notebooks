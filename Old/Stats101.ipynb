{
 "cells": [
  {
   "cell_type": "markdown",
   "id": "e223f146",
   "metadata": {},
   "source": [
    "# numpy"
   ]
  },
  {
   "cell_type": "code",
   "execution_count": 1,
   "id": "d0debc22",
   "metadata": {},
   "outputs": [],
   "source": [
    "import numpy as np"
   ]
  },
  {
   "cell_type": "code",
   "execution_count": 2,
   "id": "0c343d04",
   "metadata": {},
   "outputs": [],
   "source": [
    "x = np.random.randint(1,7,size = (100,10))"
   ]
  },
  {
   "cell_type": "code",
   "execution_count": 3,
   "id": "fb1268b2",
   "metadata": {},
   "outputs": [
    {
     "data": {
      "text/plain": [
       "5"
      ]
     },
     "execution_count": 3,
     "metadata": {},
     "output_type": "execute_result"
    }
   ],
   "source": [
    "x[-43,1]"
   ]
  },
  {
   "cell_type": "code",
   "execution_count": null,
   "id": "d8d8459a",
   "metadata": {},
   "outputs": [],
   "source": [
    "x[::5,1::2]"
   ]
  },
  {
   "cell_type": "code",
   "execution_count": null,
   "id": "31cd744c",
   "metadata": {},
   "outputs": [],
   "source": [
    "np.arange(1,100,2)."
   ]
  },
  {
   "cell_type": "code",
   "execution_count": null,
   "id": "a050ffc7",
   "metadata": {},
   "outputs": [],
   "source": [
    "x = np.array([1, 2, 3, 4])\n",
    "\n",
    "# row vector via reshape\n",
    "x.reshape((2, 2))"
   ]
  },
  {
   "cell_type": "code",
   "execution_count": null,
   "id": "97af2a53",
   "metadata": {},
   "outputs": [],
   "source": [
    "dices = np.random.randint(1,7,size = 10)"
   ]
  },
  {
   "cell_type": "code",
   "execution_count": null,
   "id": "fffb145f",
   "metadata": {},
   "outputs": [],
   "source": [
    "np.mean(dices)"
   ]
  },
  {
   "cell_type": "code",
   "execution_count": null,
   "id": "a7a89b96",
   "metadata": {},
   "outputs": [],
   "source": [
    "np.var(dices)"
   ]
  },
  {
   "cell_type": "code",
   "execution_count": null,
   "id": "9f45cd67",
   "metadata": {},
   "outputs": [],
   "source": [
    "np.median(dices)"
   ]
  },
  {
   "cell_type": "code",
   "execution_count": null,
   "id": "1ea4d361",
   "metadata": {},
   "outputs": [],
   "source": [
    "np.percentile(dices,90)"
   ]
  },
  {
   "cell_type": "code",
   "execution_count": null,
   "id": "d88340b4",
   "metadata": {},
   "outputs": [],
   "source": [
    "%matplotlib inline\n",
    "import matplotlib.pyplot as plt"
   ]
  },
  {
   "cell_type": "code",
   "execution_count": null,
   "id": "03f68889",
   "metadata": {},
   "outputs": [],
   "source": [
    "plt.hist(dices)\n",
    "plt.title('Height Distribution of US Presidents')\n",
    "plt.xlabel('height (cm)')\n",
    "plt.ylabel('number');"
   ]
  },
  {
   "cell_type": "code",
   "execution_count": null,
   "id": "8a515da2",
   "metadata": {},
   "outputs": [],
   "source": [
    "x = np.linspace(0, 9, 50)"
   ]
  },
  {
   "cell_type": "code",
   "execution_count": null,
   "id": "8ee5ee42",
   "metadata": {},
   "outputs": [],
   "source": [
    "y = np.linspace(0, 9, 50)[:, np.newaxis]"
   ]
  },
  {
   "cell_type": "code",
   "execution_count": null,
   "id": "3403f088",
   "metadata": {},
   "outputs": [],
   "source": [
    "z = np.sin(x)*np.sin(y)**2 + np.cos(y) * np.cos(x)"
   ]
  },
  {
   "cell_type": "code",
   "execution_count": null,
   "id": "4f611bc4",
   "metadata": {},
   "outputs": [],
   "source": [
    "plt.imshow(z)\n",
    "plt.colorbar();"
   ]
  },
  {
   "cell_type": "code",
   "execution_count": null,
   "id": "e3c07f68",
   "metadata": {},
   "outputs": [],
   "source": [
    "import scipy.stats"
   ]
  },
  {
   "cell_type": "code",
   "execution_count": null,
   "id": "c2f7ce82",
   "metadata": {},
   "outputs": [],
   "source": [
    "chi2,p = scipy.stats.chisquare(dices)"
   ]
  },
  {
   "cell_type": "code",
   "execution_count": null,
   "id": "dbe59015",
   "metadata": {},
   "outputs": [],
   "source": [
    "chi2"
   ]
  },
  {
   "cell_type": "code",
   "execution_count": null,
   "id": "4836b09f",
   "metadata": {},
   "outputs": [],
   "source": [
    "p"
   ]
  },
  {
   "cell_type": "code",
   "execution_count": null,
   "id": "ba9bad0c",
   "metadata": {},
   "outputs": [],
   "source": [
    "for size in range(1,8):\n",
    "    dices = np.random.randint(1,7,size = 10**size)\n",
    "    distrib = np.unique(dices, return_counts=True)\n",
    "#    chi2,p,dof,expected = scipy.stats.chi2_contingency(dices)\n",
    "    chi2,p = scipy.stats.chi2(distrib)\n",
    "    dof = 0\n",
    "    print(f'size = {size} chi2 = {chi2} p = {p} dof= {dof}')"
   ]
  },
  {
   "cell_type": "code",
   "execution_count": null,
   "id": "12a7beac",
   "metadata": {},
   "outputs": [],
   "source": [
    "    dices = np.random.randint(1,7,size = 60000)\n",
    "    np.unique(dices, return_counts=True)"
   ]
  },
  {
   "cell_type": "markdown",
   "id": "9ddcf062",
   "metadata": {},
   "source": [
    "# scipy.stats"
   ]
  },
  {
   "cell_type": "code",
   "execution_count": null,
   "id": "fe606d66",
   "metadata": {},
   "outputs": [],
   "source": [
    "import scipy.stats"
   ]
  },
  {
   "cell_type": "code",
   "execution_count": null,
   "id": "483416f7",
   "metadata": {},
   "outputs": [],
   "source": [
    "scipy.stats.norm?"
   ]
  },
  {
   "cell_type": "code",
   "execution_count": null,
   "id": "03103a2c",
   "metadata": {},
   "outputs": [],
   "source": [
    ">>> from scipy.stats import norm\n",
    ">>> import matplotlib.pyplot as plt\n",
    ">>> fig, ax = plt.subplots(1, 1)\n",
    "\n",
    ">>> mean, var, skew, kurt = norm.stats(moments='mvsk')\n",
    "print(mean, var, skew, kurt)\n",
    "\n",
    "\n",
    ">>> x = np.linspace(norm.ppf(0.01),norm.ppf(0.99), 100)\n",
    ">>> ax.plot(x, norm.pdf(x),'r-', lw=5, alpha=0.6, label='norm pdf')"
   ]
  },
  {
   "cell_type": "code",
   "execution_count": null,
   "id": "866e345b",
   "metadata": {},
   "outputs": [],
   "source": [
    ">>> fig, ax = plt.subplots(1, 1)\n",
    "x = np.linspace(-2,+2, 100)\n",
    "ax.plot(x, norm.pdf(x),'r-', lw=5, alpha=0.6, label='norm pdf')\n",
    "plt.show()"
   ]
  },
  {
   "cell_type": "code",
   "execution_count": null,
   "id": "68a6d763",
   "metadata": {},
   "outputs": [],
   "source": [
    "norm.cdf(0.5)"
   ]
  },
  {
   "cell_type": "code",
   "execution_count": null,
   "id": "eb0f3c45",
   "metadata": {},
   "outputs": [],
   "source": [
    "from numpy.random import default_rng\n",
    "rng = default_rng()"
   ]
  },
  {
   "cell_type": "code",
   "execution_count": null,
   "id": "645fbd9b",
   "metadata": {},
   "outputs": [],
   "source": [
    "for i in rng[0,10]:\n",
    "    print(i)"
   ]
  },
  {
   "cell_type": "code",
   "execution_count": null,
   "id": "2331c94f",
   "metadata": {},
   "outputs": [],
   "source": [
    "norm.rvs(size=10, random_state=rng)"
   ]
  },
  {
   "cell_type": "code",
   "execution_count": null,
   "id": "ca564bb8",
   "metadata": {},
   "outputs": [],
   "source": [
    "norm.stats(loc=3, scale=4, moments=\"mv\")[1]"
   ]
  },
  {
   "cell_type": "code",
   "execution_count": null,
   "id": "3a9fe995",
   "metadata": {},
   "outputs": [],
   "source": [
    "help(scipy.stats.rv_discrete)"
   ]
  },
  {
   "cell_type": "code",
   "execution_count": null,
   "id": "4be19c67",
   "metadata": {},
   "outputs": [],
   "source": [
    "import pandas as pd"
   ]
  },
  {
   "cell_type": "code",
   "execution_count": null,
   "id": "4b777871",
   "metadata": {},
   "outputs": [],
   "source": [
    "df = pd.DataFrame([399284,381883], index=['Hommes','Femmes'], columns=['Naissances'])"
   ]
  },
  {
   "cell_type": "code",
   "execution_count": null,
   "id": "49eb6223",
   "metadata": {},
   "outputs": [],
   "source": [
    "df"
   ]
  },
  {
   "cell_type": "code",
   "execution_count": null,
   "id": "ac0b76dd",
   "metadata": {},
   "outputs": [],
   "source": [
    "scipy.stats.chisquare(df)"
   ]
  },
  {
   "cell_type": "code",
   "execution_count": 1,
   "id": "0cb3fa5d",
   "metadata": {},
   "outputs": [],
   "source": [
    "import pandas as pd"
   ]
  },
  {
   "cell_type": "code",
   "execution_count": 2,
   "id": "625de029",
   "metadata": {},
   "outputs": [],
   "source": [
    "df = pd.read_csv('../../data/corpus/220909-RecueilComplet.csv')"
   ]
  },
  {
   "cell_type": "code",
   "execution_count": 7,
   "id": "3386edf5",
   "metadata": {},
   "outputs": [
    {
     "data": {
      "text/plain": [
       "1      1.0\n",
       "2      1.0\n",
       "3      1.0\n",
       "4      1.0\n",
       "5      1.0\n",
       "      ... \n",
       "430    1.0\n",
       "433    1.0\n",
       "434    1.0\n",
       "435    0.0\n",
       "436    0.0\n",
       "Name: infox, Length: 434, dtype: float64"
      ]
     },
     "execution_count": 7,
     "metadata": {},
     "output_type": "execute_result"
    }
   ],
   "source": [
    "df['infox']"
   ]
  },
  {
   "cell_type": "code",
   "execution_count": 5,
   "id": "32dfa098",
   "metadata": {},
   "outputs": [],
   "source": [
    "label_columns = ['infox','signé',\n",
    "       'lieux, dates et personnes ', 'lieux, dates et personnes cohérentes',\n",
    "       'points de vue différents présentés', 'écriture de qualité',\n",
    "        'faits', 'opinions', 'fausse nouvelle', 'insinuations',\n",
    "       #'exagération',\n",
    "        'scientifique sulfureux', 'des pages et des pages',\n",
    "       'des chiffres et des tableaux', 'sophisme', 'inversion de la preuve',\n",
    "       'invérifiable', 'propos rapporté', 'sources citées', 'titre décalé',]"
   ]
  },
  {
   "cell_type": "code",
   "execution_count": 6,
   "id": "f8e246c9",
   "metadata": {},
   "outputs": [],
   "source": [
    "for col in label_columns:\n",
    "    df = df[df[col].notna()]"
   ]
  },
  {
   "cell_type": "code",
   "execution_count": 8,
   "id": "7864f32b",
   "metadata": {},
   "outputs": [
    {
     "data": {
      "text/html": [
       "<div>\n",
       "<style scoped>\n",
       "    .dataframe tbody tr th:only-of-type {\n",
       "        vertical-align: middle;\n",
       "    }\n",
       "\n",
       "    .dataframe tbody tr th {\n",
       "        vertical-align: top;\n",
       "    }\n",
       "\n",
       "    .dataframe thead th {\n",
       "        text-align: right;\n",
       "    }\n",
       "</style>\n",
       "<table border=\"1\" class=\"dataframe\">\n",
       "  <thead>\n",
       "    <tr style=\"text-align: right;\">\n",
       "      <th>signé</th>\n",
       "      <th>0.0</th>\n",
       "      <th>1.0</th>\n",
       "    </tr>\n",
       "    <tr>\n",
       "      <th>infox</th>\n",
       "      <th></th>\n",
       "      <th></th>\n",
       "    </tr>\n",
       "  </thead>\n",
       "  <tbody>\n",
       "    <tr>\n",
       "      <th>0.0</th>\n",
       "      <td>143</td>\n",
       "      <td>71</td>\n",
       "    </tr>\n",
       "    <tr>\n",
       "      <th>1.0</th>\n",
       "      <td>143</td>\n",
       "      <td>77</td>\n",
       "    </tr>\n",
       "  </tbody>\n",
       "</table>\n",
       "</div>"
      ],
      "text/plain": [
       "signé  0.0  1.0\n",
       "infox          \n",
       "0.0    143   71\n",
       "1.0    143   77"
      ]
     },
     "execution_count": 8,
     "metadata": {},
     "output_type": "execute_result"
    }
   ],
   "source": [
    "pd.crosstab(df['infox'],df['signé'])"
   ]
  },
  {
   "cell_type": "code",
   "execution_count": 28,
   "id": "8c79af60",
   "metadata": {},
   "outputs": [
    {
     "data": {
      "text/html": [
       "<div>\n",
       "<style scoped>\n",
       "    .dataframe tbody tr th:only-of-type {\n",
       "        vertical-align: middle;\n",
       "    }\n",
       "\n",
       "    .dataframe tbody tr th {\n",
       "        vertical-align: top;\n",
       "    }\n",
       "\n",
       "    .dataframe thead th {\n",
       "        text-align: right;\n",
       "    }\n",
       "</style>\n",
       "<table border=\"1\" class=\"dataframe\">\n",
       "  <thead>\n",
       "    <tr style=\"text-align: right;\">\n",
       "      <th></th>\n",
       "      <th></th>\n",
       "      <th>url</th>\n",
       "    </tr>\n",
       "    <tr>\n",
       "      <th>infox</th>\n",
       "      <th>signé</th>\n",
       "      <th></th>\n",
       "    </tr>\n",
       "  </thead>\n",
       "  <tbody>\n",
       "    <tr>\n",
       "      <th rowspan=\"2\" valign=\"top\">0.0</th>\n",
       "      <th>0.0</th>\n",
       "      <td>143</td>\n",
       "    </tr>\n",
       "    <tr>\n",
       "      <th>1.0</th>\n",
       "      <td>71</td>\n",
       "    </tr>\n",
       "    <tr>\n",
       "      <th rowspan=\"2\" valign=\"top\">1.0</th>\n",
       "      <th>0.0</th>\n",
       "      <td>143</td>\n",
       "    </tr>\n",
       "    <tr>\n",
       "      <th>1.0</th>\n",
       "      <td>77</td>\n",
       "    </tr>\n",
       "  </tbody>\n",
       "</table>\n",
       "</div>"
      ],
      "text/plain": [
       "             url\n",
       "infox signé     \n",
       "0.0   0.0    143\n",
       "      1.0     71\n",
       "1.0   0.0    143\n",
       "      1.0     77"
      ]
     },
     "execution_count": 28,
     "metadata": {},
     "output_type": "execute_result"
    }
   ],
   "source": [
    "df.pivot_table(index=['infox','signé'],values='url',aggfunc=len)"
   ]
  },
  {
   "cell_type": "code",
   "execution_count": 14,
   "id": "66b90ded",
   "metadata": {},
   "outputs": [
    {
     "data": {
      "text/plain": [
       "434"
      ]
     },
     "execution_count": 14,
     "metadata": {},
     "output_type": "execute_result"
    }
   ],
   "source": [
    "len(df)"
   ]
  },
  {
   "cell_type": "code",
   "execution_count": 15,
   "id": "c84bfc8a",
   "metadata": {},
   "outputs": [
    {
     "data": {
      "text/plain": [
       "214"
      ]
     },
     "execution_count": 15,
     "metadata": {},
     "output_type": "execute_result"
    }
   ],
   "source": [
    "143+71"
   ]
  },
  {
   "cell_type": "code",
   "execution_count": 16,
   "id": "44956523",
   "metadata": {},
   "outputs": [
    {
     "data": {
      "text/plain": [
       "220.0"
      ]
     },
     "execution_count": 16,
     "metadata": {},
     "output_type": "execute_result"
    }
   ],
   "source": [
    "df['infox'].sum()"
   ]
  },
  {
   "cell_type": "code",
   "execution_count": 22,
   "id": "544d651c",
   "metadata": {},
   "outputs": [],
   "source": [
    "def ecart(real,proba):\n",
    "    return (real - proba)**2/real**2"
   ]
  },
  {
   "cell_type": "code",
   "execution_count": 23,
   "id": "6b5a9294",
   "metadata": {},
   "outputs": [
    {
     "data": {
      "text/plain": [
       "0.28994082840236685"
      ]
     },
     "execution_count": 23,
     "metadata": {},
     "output_type": "execute_result"
    }
   ],
   "source": [
    "ecart(143,220)"
   ]
  },
  {
   "cell_type": "code",
   "execution_count": null,
   "id": "d7ef7525",
   "metadata": {},
   "outputs": [],
   "source": []
  }
 ],
 "metadata": {
  "kernelspec": {
   "display_name": "Python 3 (ipykernel)",
   "language": "python",
   "name": "python3"
  },
  "language_info": {
   "codemirror_mode": {
    "name": "ipython",
    "version": 3
   },
   "file_extension": ".py",
   "mimetype": "text/x-python",
   "name": "python",
   "nbconvert_exporter": "python",
   "pygments_lexer": "ipython3",
   "version": "3.9.13"
  }
 },
 "nbformat": 4,
 "nbformat_minor": 5
}
