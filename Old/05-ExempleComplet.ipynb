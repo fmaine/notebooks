{
 "cells": [
  {
   "cell_type": "markdown",
   "id": "b445aa29",
   "metadata": {},
   "source": [
    "# Patat : Plateforme Agnostique de Traitement et d'Analyse des Textes\n",
    "\n",
    "### Notebook 5 : Exemple complet\n",
    "Entrainement d'un prédicteur pour savoir si un article de France Soir vient de l'AFP ou pas.\n",
    "\n",
    "### To Do\n",
    "Ajouter identification des features qui ont permi la prédiction\n",
    "Tester sur des articles d'autres sources\n"
   ]
  },
  {
   "cell_type": "code",
   "execution_count": 1,
   "id": "f60e8899",
   "metadata": {},
   "outputs": [
    {
     "name": "stdout",
     "output_type": "stream",
     "text": [
      "/Users/fm/Desktop/Work/Patat\n"
     ]
    }
   ],
   "source": [
    "cd ../.."
   ]
  },
  {
   "cell_type": "code",
   "execution_count": 2,
   "id": "96bce902",
   "metadata": {},
   "outputs": [],
   "source": [
    "import importlib\n",
    "import pandas as pd"
   ]
  },
  {
   "cell_type": "markdown",
   "id": "ded46cb2",
   "metadata": {},
   "source": [
    "## Construction du corpus"
   ]
  },
  {
   "cell_type": "markdown",
   "id": "71509e05",
   "metadata": {},
   "source": [
    "### Récupération des articles de Francesoir sur corpus"
   ]
  },
  {
   "cell_type": "code",
   "execution_count": 3,
   "id": "a8915ae0",
   "metadata": {},
   "outputs": [],
   "source": [
    "df_corpus = pd.read_csv('data/corpus/220314-CorpusArticles.csv')"
   ]
  },
  {
   "cell_type": "code",
   "execution_count": 4,
   "id": "8ce70a0e",
   "metadata": {},
   "outputs": [],
   "source": [
    "df_francesoir = df_corpus[df_corpus['source']=='fsoir']"
   ]
  },
  {
   "cell_type": "code",
   "execution_count": 5,
   "id": "27b61a34",
   "metadata": {},
   "outputs": [
    {
     "data": {
      "text/plain": [
       "(13614, 9)"
      ]
     },
     "execution_count": 5,
     "metadata": {},
     "output_type": "execute_result"
    }
   ],
   "source": [
    "df_francesoir.shape"
   ]
  },
  {
   "cell_type": "code",
   "execution_count": 9,
   "id": "d2075f97",
   "metadata": {},
   "outputs": [
    {
     "data": {
      "text/plain": [
       "'https://www.francesoir.fr/afp-afp/france-legislatives-en-colombie-en-attendant-la-presidentielle'"
      ]
     },
     "execution_count": 9,
     "metadata": {},
     "output_type": "execute_result"
    }
   ],
   "source": [
    "df_francesoir['url'][13]"
   ]
  },
  {
   "cell_type": "code",
   "execution_count": 10,
   "id": "d5140c4f",
   "metadata": {},
   "outputs": [
    {
     "data": {
      "text/html": [
       "<div>\n",
       "<style scoped>\n",
       "    .dataframe tbody tr th:only-of-type {\n",
       "        vertical-align: middle;\n",
       "    }\n",
       "\n",
       "    .dataframe tbody tr th {\n",
       "        vertical-align: top;\n",
       "    }\n",
       "\n",
       "    .dataframe thead th {\n",
       "        text-align: right;\n",
       "    }\n",
       "</style>\n",
       "<table border=\"1\" class=\"dataframe\">\n",
       "  <thead>\n",
       "    <tr style=\"text-align: right;\">\n",
       "      <th></th>\n",
       "      <th>source</th>\n",
       "      <th>url</th>\n",
       "      <th>categories</th>\n",
       "      <th>title</th>\n",
       "      <th>author</th>\n",
       "      <th>date_published</th>\n",
       "      <th>article</th>\n",
       "      <th>category</th>\n",
       "      <th>origin_url</th>\n",
       "    </tr>\n",
       "  </thead>\n",
       "  <tbody>\n",
       "    <tr>\n",
       "      <th>13</th>\n",
       "      <td>fsoir</td>\n",
       "      <td>https://www.francesoir.fr/afp-afp/france-legis...</td>\n",
       "      <td>NaN</td>\n",
       "      <td>Législatives en Colombie, en attendant la prés...</td>\n",
       "      <td>Par Héctor Velasco - Bogota (AFP)</td>\n",
       "      <td>2022-03-13T02:14:46+01:00</td>\n",
       "      <td>© Juan BARRETO / AFP\\nPrès de 39 millions de C...</td>\n",
       "      <td>NaN</td>\n",
       "      <td>NaN</td>\n",
       "    </tr>\n",
       "    <tr>\n",
       "      <th>24</th>\n",
       "      <td>fsoir</td>\n",
       "      <td>https://www.francesoir.fr/afp-afp/france-chili...</td>\n",
       "      <td>NaN</td>\n",
       "      <td>Chili: le président Boric entame son mandat en...</td>\n",
       "      <td>Par AFP - Santiago du Chili</td>\n",
       "      <td>2022-03-12T21:20:59+01:00</td>\n",
       "      <td>© - / Presidencia de Chile/AFP\\nPour son premi...</td>\n",
       "      <td>NaN</td>\n",
       "      <td>NaN</td>\n",
       "    </tr>\n",
       "    <tr>\n",
       "      <th>25</th>\n",
       "      <td>fsoir</td>\n",
       "      <td>https://www.francesoir.fr/afp-afp/france-balad...</td>\n",
       "      <td>NaN</td>\n",
       "      <td>Balade en tramway par temps de guerre dans Kie...</td>\n",
       "      <td>Par Dmitry ZAKS - Kiev (AFP)</td>\n",
       "      <td>2022-03-12T21:17:08+01:00</td>\n",
       "      <td>© Aris Messinis / AFP\\nAu volant de son tramwa...</td>\n",
       "      <td>NaN</td>\n",
       "      <td>NaN</td>\n",
       "    </tr>\n",
       "    <tr>\n",
       "      <th>26</th>\n",
       "      <td>fsoir</td>\n",
       "      <td>https://www.francesoir.fr/afp-afp/france-dans-...</td>\n",
       "      <td>NaN</td>\n",
       "      <td>Dans le Sud-Ouest, Zemmour met en scène un ral...</td>\n",
       "      <td>Par Gregory DANEL - Agen (AFP)</td>\n",
       "      <td>2022-03-12T17:44:46+01:00</td>\n",
       "      <td>© Valentine CHAPUIS / AFP\\nVisé dès son arrivé...</td>\n",
       "      <td>NaN</td>\n",
       "      <td>NaN</td>\n",
       "    </tr>\n",
       "    <tr>\n",
       "      <th>27</th>\n",
       "      <td>fsoir</td>\n",
       "      <td>https://www.francesoir.fr/politique-monde/la-h...</td>\n",
       "      <td>NaN</td>\n",
       "      <td>La Hongrie compte maintenir ses importations d...</td>\n",
       "      <td>FranceSoir</td>\n",
       "      <td>2022-03-12T17:00:34+01:00</td>\n",
       "      <td>TOBIAS SCHWARZ / AFP\\nLa Hongrie ne compte pas...</td>\n",
       "      <td>NaN</td>\n",
       "      <td>NaN</td>\n",
       "    </tr>\n",
       "    <tr>\n",
       "      <th>...</th>\n",
       "      <td>...</td>\n",
       "      <td>...</td>\n",
       "      <td>...</td>\n",
       "      <td>...</td>\n",
       "      <td>...</td>\n",
       "      <td>...</td>\n",
       "      <td>...</td>\n",
       "      <td>...</td>\n",
       "      <td>...</td>\n",
       "    </tr>\n",
       "    <tr>\n",
       "      <th>28727</th>\n",
       "      <td>fsoir</td>\n",
       "      <td>https://www.francesoir.fr/lifestyle-vie/quotid...</td>\n",
       "      <td>NaN</td>\n",
       "      <td>Pourquoi \"toucher du bois\" porte-t-il chance?</td>\n",
       "      <td>VL</td>\n",
       "      <td>2015-01-02T17:06:29+01:00</td>\n",
       "      <td>©Flickr Creative Commons\\nToucher du bois de l...</td>\n",
       "      <td>NaN</td>\n",
       "      <td>NaN</td>\n",
       "    </tr>\n",
       "    <tr>\n",
       "      <th>28771</th>\n",
       "      <td>fsoir</td>\n",
       "      <td>https://www.francesoir.fr/culture-medias/novem...</td>\n",
       "      <td>NaN</td>\n",
       "      <td>Novembre 1954: Gaston Dominici condamné à mort...</td>\n",
       "      <td>Jean-Michel Comte</td>\n",
       "      <td>2014-11-25T18:26:41+01:00</td>\n",
       "      <td>©DR\\nLe 28 novembre 1954, Gaston Dominici est ...</td>\n",
       "      <td>NaN</td>\n",
       "      <td>NaN</td>\n",
       "    </tr>\n",
       "    <tr>\n",
       "      <th>28779</th>\n",
       "      <td>fsoir</td>\n",
       "      <td>https://www.francesoir.fr/culture-medias/le-22...</td>\n",
       "      <td>NaN</td>\n",
       "      <td>Le 22 novembre 1963, l'assassinat de Kennedy (...</td>\n",
       "      <td>Jean-Michel Comte</td>\n",
       "      <td>2014-11-19T18:58:58+01:00</td>\n",
       "      <td>©DR\\nLe 22 novembre 1963, John F. Kennedy étai...</td>\n",
       "      <td>NaN</td>\n",
       "      <td>NaN</td>\n",
       "    </tr>\n",
       "    <tr>\n",
       "      <th>28804</th>\n",
       "      <td>fsoir</td>\n",
       "      <td>https://www.francesoir.fr/lifestyle-tourisme/z...</td>\n",
       "      <td>NaN</td>\n",
       "      <td>Zoo d'Amnéville: le tigre comme moteur</td>\n",
       "      <td>Pierre Plottu</td>\n",
       "      <td>2014-10-27T14:38:07+01:00</td>\n",
       "      <td>test\\nNé il y a moins de trente ans de la pass...</td>\n",
       "      <td>NaN</td>\n",
       "      <td>NaN</td>\n",
       "    </tr>\n",
       "    <tr>\n",
       "      <th>29347</th>\n",
       "      <td>fsoir</td>\n",
       "      <td>https://www.francesoir.fr/culture-celebrites/c...</td>\n",
       "      <td>NaN</td>\n",
       "      <td>Constance Meyer : La femme cachée de Serge Gai...</td>\n",
       "      <td>France-Soir</td>\n",
       "      <td>2010-10-03T15:45:50+02:00</td>\n",
       "      <td>Impression écran @youtube editions Archipel\\nO...</td>\n",
       "      <td>NaN</td>\n",
       "      <td>NaN</td>\n",
       "    </tr>\n",
       "  </tbody>\n",
       "</table>\n",
       "<p>13614 rows × 9 columns</p>\n",
       "</div>"
      ],
      "text/plain": [
       "      source                                                url categories  \\\n",
       "13     fsoir  https://www.francesoir.fr/afp-afp/france-legis...        NaN   \n",
       "24     fsoir  https://www.francesoir.fr/afp-afp/france-chili...        NaN   \n",
       "25     fsoir  https://www.francesoir.fr/afp-afp/france-balad...        NaN   \n",
       "26     fsoir  https://www.francesoir.fr/afp-afp/france-dans-...        NaN   \n",
       "27     fsoir  https://www.francesoir.fr/politique-monde/la-h...        NaN   \n",
       "...      ...                                                ...        ...   \n",
       "28727  fsoir  https://www.francesoir.fr/lifestyle-vie/quotid...        NaN   \n",
       "28771  fsoir  https://www.francesoir.fr/culture-medias/novem...        NaN   \n",
       "28779  fsoir  https://www.francesoir.fr/culture-medias/le-22...        NaN   \n",
       "28804  fsoir  https://www.francesoir.fr/lifestyle-tourisme/z...        NaN   \n",
       "29347  fsoir  https://www.francesoir.fr/culture-celebrites/c...        NaN   \n",
       "\n",
       "                                                   title  \\\n",
       "13     Législatives en Colombie, en attendant la prés...   \n",
       "24     Chili: le président Boric entame son mandat en...   \n",
       "25     Balade en tramway par temps de guerre dans Kie...   \n",
       "26     Dans le Sud-Ouest, Zemmour met en scène un ral...   \n",
       "27     La Hongrie compte maintenir ses importations d...   \n",
       "...                                                  ...   \n",
       "28727      Pourquoi \"toucher du bois\" porte-t-il chance?   \n",
       "28771  Novembre 1954: Gaston Dominici condamné à mort...   \n",
       "28779  Le 22 novembre 1963, l'assassinat de Kennedy (...   \n",
       "28804             Zoo d'Amnéville: le tigre comme moteur   \n",
       "29347  Constance Meyer : La femme cachée de Serge Gai...   \n",
       "\n",
       "                                    author             date_published  \\\n",
       "13      Par Héctor Velasco - Bogota (AFP)   2022-03-13T02:14:46+01:00   \n",
       "24           Par AFP - Santiago du Chili    2022-03-12T21:20:59+01:00   \n",
       "25           Par Dmitry ZAKS - Kiev (AFP)   2022-03-12T21:17:08+01:00   \n",
       "26         Par Gregory DANEL - Agen (AFP)   2022-03-12T17:44:46+01:00   \n",
       "27                             FranceSoir   2022-03-12T17:00:34+01:00   \n",
       "...                                    ...                        ...   \n",
       "28727                                  VL   2015-01-02T17:06:29+01:00   \n",
       "28771                   Jean-Michel Comte   2014-11-25T18:26:41+01:00   \n",
       "28779                   Jean-Michel Comte   2014-11-19T18:58:58+01:00   \n",
       "28804                       Pierre Plottu   2014-10-27T14:38:07+01:00   \n",
       "29347                         France-Soir   2010-10-03T15:45:50+02:00   \n",
       "\n",
       "                                                 article  category origin_url  \n",
       "13     © Juan BARRETO / AFP\\nPrès de 39 millions de C...       NaN        NaN  \n",
       "24     © - / Presidencia de Chile/AFP\\nPour son premi...       NaN        NaN  \n",
       "25     © Aris Messinis / AFP\\nAu volant de son tramwa...       NaN        NaN  \n",
       "26     © Valentine CHAPUIS / AFP\\nVisé dès son arrivé...       NaN        NaN  \n",
       "27     TOBIAS SCHWARZ / AFP\\nLa Hongrie ne compte pas...       NaN        NaN  \n",
       "...                                                  ...       ...        ...  \n",
       "28727  ©Flickr Creative Commons\\nToucher du bois de l...       NaN        NaN  \n",
       "28771  ©DR\\nLe 28 novembre 1954, Gaston Dominici est ...       NaN        NaN  \n",
       "28779  ©DR\\nLe 22 novembre 1963, John F. Kennedy étai...       NaN        NaN  \n",
       "28804  test\\nNé il y a moins de trente ans de la pass...       NaN        NaN  \n",
       "29347  Impression écran @youtube editions Archipel\\nO...       NaN        NaN  \n",
       "\n",
       "[13614 rows x 9 columns]"
      ]
     },
     "execution_count": 10,
     "metadata": {},
     "output_type": "execute_result"
    }
   ],
   "source": [
    "df_francesoir"
   ]
  },
  {
   "cell_type": "markdown",
   "id": "e917acac",
   "metadata": {},
   "source": [
    "### Détection \"à la main\" des articles de l'AFP"
   ]
  },
  {
   "cell_type": "code",
   "execution_count": 11,
   "id": "69ac7a8e",
   "metadata": {},
   "outputs": [],
   "source": [
    "def is_afp(author):\n",
    "    return 'afp' in author.lower()"
   ]
  },
  {
   "cell_type": "code",
   "execution_count": 12,
   "id": "06f918d7",
   "metadata": {},
   "outputs": [],
   "source": [
    "df_afp = pd.DataFrame(df_francesoir['author'].apply(is_afp))\n",
    "df_afp.rename(columns = {'author':'afp'}, inplace = True)\n",
    "df_francesoir=pd.concat([df_francesoir,df_afp],axis='columns')"
   ]
  },
  {
   "cell_type": "code",
   "execution_count": 13,
   "id": "53bac254",
   "metadata": {},
   "outputs": [
    {
     "data": {
      "text/html": [
       "<div>\n",
       "<style scoped>\n",
       "    .dataframe tbody tr th:only-of-type {\n",
       "        vertical-align: middle;\n",
       "    }\n",
       "\n",
       "    .dataframe tbody tr th {\n",
       "        vertical-align: top;\n",
       "    }\n",
       "\n",
       "    .dataframe thead th {\n",
       "        text-align: right;\n",
       "    }\n",
       "</style>\n",
       "<table border=\"1\" class=\"dataframe\">\n",
       "  <thead>\n",
       "    <tr style=\"text-align: right;\">\n",
       "      <th></th>\n",
       "      <th>source</th>\n",
       "      <th>url</th>\n",
       "      <th>categories</th>\n",
       "      <th>title</th>\n",
       "      <th>author</th>\n",
       "      <th>date_published</th>\n",
       "      <th>article</th>\n",
       "      <th>category</th>\n",
       "      <th>origin_url</th>\n",
       "      <th>afp</th>\n",
       "    </tr>\n",
       "  </thead>\n",
       "  <tbody>\n",
       "    <tr>\n",
       "      <th>13</th>\n",
       "      <td>fsoir</td>\n",
       "      <td>https://www.francesoir.fr/afp-afp/france-legis...</td>\n",
       "      <td>NaN</td>\n",
       "      <td>Législatives en Colombie, en attendant la prés...</td>\n",
       "      <td>Par Héctor Velasco - Bogota (AFP)</td>\n",
       "      <td>2022-03-13T02:14:46+01:00</td>\n",
       "      <td>© Juan BARRETO / AFP\\nPrès de 39 millions de C...</td>\n",
       "      <td>NaN</td>\n",
       "      <td>NaN</td>\n",
       "      <td>True</td>\n",
       "    </tr>\n",
       "    <tr>\n",
       "      <th>24</th>\n",
       "      <td>fsoir</td>\n",
       "      <td>https://www.francesoir.fr/afp-afp/france-chili...</td>\n",
       "      <td>NaN</td>\n",
       "      <td>Chili: le président Boric entame son mandat en...</td>\n",
       "      <td>Par AFP - Santiago du Chili</td>\n",
       "      <td>2022-03-12T21:20:59+01:00</td>\n",
       "      <td>© - / Presidencia de Chile/AFP\\nPour son premi...</td>\n",
       "      <td>NaN</td>\n",
       "      <td>NaN</td>\n",
       "      <td>True</td>\n",
       "    </tr>\n",
       "    <tr>\n",
       "      <th>25</th>\n",
       "      <td>fsoir</td>\n",
       "      <td>https://www.francesoir.fr/afp-afp/france-balad...</td>\n",
       "      <td>NaN</td>\n",
       "      <td>Balade en tramway par temps de guerre dans Kie...</td>\n",
       "      <td>Par Dmitry ZAKS - Kiev (AFP)</td>\n",
       "      <td>2022-03-12T21:17:08+01:00</td>\n",
       "      <td>© Aris Messinis / AFP\\nAu volant de son tramwa...</td>\n",
       "      <td>NaN</td>\n",
       "      <td>NaN</td>\n",
       "      <td>True</td>\n",
       "    </tr>\n",
       "    <tr>\n",
       "      <th>26</th>\n",
       "      <td>fsoir</td>\n",
       "      <td>https://www.francesoir.fr/afp-afp/france-dans-...</td>\n",
       "      <td>NaN</td>\n",
       "      <td>Dans le Sud-Ouest, Zemmour met en scène un ral...</td>\n",
       "      <td>Par Gregory DANEL - Agen (AFP)</td>\n",
       "      <td>2022-03-12T17:44:46+01:00</td>\n",
       "      <td>© Valentine CHAPUIS / AFP\\nVisé dès son arrivé...</td>\n",
       "      <td>NaN</td>\n",
       "      <td>NaN</td>\n",
       "      <td>True</td>\n",
       "    </tr>\n",
       "    <tr>\n",
       "      <th>27</th>\n",
       "      <td>fsoir</td>\n",
       "      <td>https://www.francesoir.fr/politique-monde/la-h...</td>\n",
       "      <td>NaN</td>\n",
       "      <td>La Hongrie compte maintenir ses importations d...</td>\n",
       "      <td>FranceSoir</td>\n",
       "      <td>2022-03-12T17:00:34+01:00</td>\n",
       "      <td>TOBIAS SCHWARZ / AFP\\nLa Hongrie ne compte pas...</td>\n",
       "      <td>NaN</td>\n",
       "      <td>NaN</td>\n",
       "      <td>False</td>\n",
       "    </tr>\n",
       "    <tr>\n",
       "      <th>...</th>\n",
       "      <td>...</td>\n",
       "      <td>...</td>\n",
       "      <td>...</td>\n",
       "      <td>...</td>\n",
       "      <td>...</td>\n",
       "      <td>...</td>\n",
       "      <td>...</td>\n",
       "      <td>...</td>\n",
       "      <td>...</td>\n",
       "      <td>...</td>\n",
       "    </tr>\n",
       "    <tr>\n",
       "      <th>28727</th>\n",
       "      <td>fsoir</td>\n",
       "      <td>https://www.francesoir.fr/lifestyle-vie/quotid...</td>\n",
       "      <td>NaN</td>\n",
       "      <td>Pourquoi \"toucher du bois\" porte-t-il chance?</td>\n",
       "      <td>VL</td>\n",
       "      <td>2015-01-02T17:06:29+01:00</td>\n",
       "      <td>©Flickr Creative Commons\\nToucher du bois de l...</td>\n",
       "      <td>NaN</td>\n",
       "      <td>NaN</td>\n",
       "      <td>False</td>\n",
       "    </tr>\n",
       "    <tr>\n",
       "      <th>28771</th>\n",
       "      <td>fsoir</td>\n",
       "      <td>https://www.francesoir.fr/culture-medias/novem...</td>\n",
       "      <td>NaN</td>\n",
       "      <td>Novembre 1954: Gaston Dominici condamné à mort...</td>\n",
       "      <td>Jean-Michel Comte</td>\n",
       "      <td>2014-11-25T18:26:41+01:00</td>\n",
       "      <td>©DR\\nLe 28 novembre 1954, Gaston Dominici est ...</td>\n",
       "      <td>NaN</td>\n",
       "      <td>NaN</td>\n",
       "      <td>False</td>\n",
       "    </tr>\n",
       "    <tr>\n",
       "      <th>28779</th>\n",
       "      <td>fsoir</td>\n",
       "      <td>https://www.francesoir.fr/culture-medias/le-22...</td>\n",
       "      <td>NaN</td>\n",
       "      <td>Le 22 novembre 1963, l'assassinat de Kennedy (...</td>\n",
       "      <td>Jean-Michel Comte</td>\n",
       "      <td>2014-11-19T18:58:58+01:00</td>\n",
       "      <td>©DR\\nLe 22 novembre 1963, John F. Kennedy étai...</td>\n",
       "      <td>NaN</td>\n",
       "      <td>NaN</td>\n",
       "      <td>False</td>\n",
       "    </tr>\n",
       "    <tr>\n",
       "      <th>28804</th>\n",
       "      <td>fsoir</td>\n",
       "      <td>https://www.francesoir.fr/lifestyle-tourisme/z...</td>\n",
       "      <td>NaN</td>\n",
       "      <td>Zoo d'Amnéville: le tigre comme moteur</td>\n",
       "      <td>Pierre Plottu</td>\n",
       "      <td>2014-10-27T14:38:07+01:00</td>\n",
       "      <td>test\\nNé il y a moins de trente ans de la pass...</td>\n",
       "      <td>NaN</td>\n",
       "      <td>NaN</td>\n",
       "      <td>False</td>\n",
       "    </tr>\n",
       "    <tr>\n",
       "      <th>29347</th>\n",
       "      <td>fsoir</td>\n",
       "      <td>https://www.francesoir.fr/culture-celebrites/c...</td>\n",
       "      <td>NaN</td>\n",
       "      <td>Constance Meyer : La femme cachée de Serge Gai...</td>\n",
       "      <td>France-Soir</td>\n",
       "      <td>2010-10-03T15:45:50+02:00</td>\n",
       "      <td>Impression écran @youtube editions Archipel\\nO...</td>\n",
       "      <td>NaN</td>\n",
       "      <td>NaN</td>\n",
       "      <td>False</td>\n",
       "    </tr>\n",
       "  </tbody>\n",
       "</table>\n",
       "<p>13614 rows × 10 columns</p>\n",
       "</div>"
      ],
      "text/plain": [
       "      source                                                url categories  \\\n",
       "13     fsoir  https://www.francesoir.fr/afp-afp/france-legis...        NaN   \n",
       "24     fsoir  https://www.francesoir.fr/afp-afp/france-chili...        NaN   \n",
       "25     fsoir  https://www.francesoir.fr/afp-afp/france-balad...        NaN   \n",
       "26     fsoir  https://www.francesoir.fr/afp-afp/france-dans-...        NaN   \n",
       "27     fsoir  https://www.francesoir.fr/politique-monde/la-h...        NaN   \n",
       "...      ...                                                ...        ...   \n",
       "28727  fsoir  https://www.francesoir.fr/lifestyle-vie/quotid...        NaN   \n",
       "28771  fsoir  https://www.francesoir.fr/culture-medias/novem...        NaN   \n",
       "28779  fsoir  https://www.francesoir.fr/culture-medias/le-22...        NaN   \n",
       "28804  fsoir  https://www.francesoir.fr/lifestyle-tourisme/z...        NaN   \n",
       "29347  fsoir  https://www.francesoir.fr/culture-celebrites/c...        NaN   \n",
       "\n",
       "                                                   title  \\\n",
       "13     Législatives en Colombie, en attendant la prés...   \n",
       "24     Chili: le président Boric entame son mandat en...   \n",
       "25     Balade en tramway par temps de guerre dans Kie...   \n",
       "26     Dans le Sud-Ouest, Zemmour met en scène un ral...   \n",
       "27     La Hongrie compte maintenir ses importations d...   \n",
       "...                                                  ...   \n",
       "28727      Pourquoi \"toucher du bois\" porte-t-il chance?   \n",
       "28771  Novembre 1954: Gaston Dominici condamné à mort...   \n",
       "28779  Le 22 novembre 1963, l'assassinat de Kennedy (...   \n",
       "28804             Zoo d'Amnéville: le tigre comme moteur   \n",
       "29347  Constance Meyer : La femme cachée de Serge Gai...   \n",
       "\n",
       "                                    author             date_published  \\\n",
       "13      Par Héctor Velasco - Bogota (AFP)   2022-03-13T02:14:46+01:00   \n",
       "24           Par AFP - Santiago du Chili    2022-03-12T21:20:59+01:00   \n",
       "25           Par Dmitry ZAKS - Kiev (AFP)   2022-03-12T21:17:08+01:00   \n",
       "26         Par Gregory DANEL - Agen (AFP)   2022-03-12T17:44:46+01:00   \n",
       "27                             FranceSoir   2022-03-12T17:00:34+01:00   \n",
       "...                                    ...                        ...   \n",
       "28727                                  VL   2015-01-02T17:06:29+01:00   \n",
       "28771                   Jean-Michel Comte   2014-11-25T18:26:41+01:00   \n",
       "28779                   Jean-Michel Comte   2014-11-19T18:58:58+01:00   \n",
       "28804                       Pierre Plottu   2014-10-27T14:38:07+01:00   \n",
       "29347                         France-Soir   2010-10-03T15:45:50+02:00   \n",
       "\n",
       "                                                 article  category origin_url  \\\n",
       "13     © Juan BARRETO / AFP\\nPrès de 39 millions de C...       NaN        NaN   \n",
       "24     © - / Presidencia de Chile/AFP\\nPour son premi...       NaN        NaN   \n",
       "25     © Aris Messinis / AFP\\nAu volant de son tramwa...       NaN        NaN   \n",
       "26     © Valentine CHAPUIS / AFP\\nVisé dès son arrivé...       NaN        NaN   \n",
       "27     TOBIAS SCHWARZ / AFP\\nLa Hongrie ne compte pas...       NaN        NaN   \n",
       "...                                                  ...       ...        ...   \n",
       "28727  ©Flickr Creative Commons\\nToucher du bois de l...       NaN        NaN   \n",
       "28771  ©DR\\nLe 28 novembre 1954, Gaston Dominici est ...       NaN        NaN   \n",
       "28779  ©DR\\nLe 22 novembre 1963, John F. Kennedy étai...       NaN        NaN   \n",
       "28804  test\\nNé il y a moins de trente ans de la pass...       NaN        NaN   \n",
       "29347  Impression écran @youtube editions Archipel\\nO...       NaN        NaN   \n",
       "\n",
       "         afp  \n",
       "13      True  \n",
       "24      True  \n",
       "25      True  \n",
       "26      True  \n",
       "27     False  \n",
       "...      ...  \n",
       "28727  False  \n",
       "28771  False  \n",
       "28779  False  \n",
       "28804  False  \n",
       "29347  False  \n",
       "\n",
       "[13614 rows x 10 columns]"
      ]
     },
     "execution_count": 13,
     "metadata": {},
     "output_type": "execute_result"
    }
   ],
   "source": [
    "df_francesoir"
   ]
  },
  {
   "cell_type": "markdown",
   "id": "20487137",
   "metadata": {},
   "source": [
    "### Réduction de la taille du dataset pour les performances"
   ]
  },
  {
   "cell_type": "code",
   "execution_count": null,
   "id": "3f80bfdc",
   "metadata": {},
   "outputs": [],
   "source": [
    "max_articles = 2000\n",
    "df_francesoir = df_francesoir.sample(n=max_articles)"
   ]
  },
  {
   "cell_type": "code",
   "execution_count": null,
   "id": "042bfbdc",
   "metadata": {},
   "outputs": [],
   "source": [
    "df_francesoir[df_francesoir['afp']].shape"
   ]
  },
  {
   "cell_type": "code",
   "execution_count": null,
   "id": "b47101bc",
   "metadata": {},
   "outputs": [],
   "source": [
    "df_francesoir['text'] = df_francesoir['title']+'\\n'+df_francesoir['article']"
   ]
  },
  {
   "cell_type": "markdown",
   "id": "b42cc85b",
   "metadata": {},
   "source": [
    "## Analyse - Création des features"
   ]
  },
  {
   "cell_type": "code",
   "execution_count": 18,
   "id": "0d50debc",
   "metadata": {},
   "outputs": [],
   "source": [
    "import patat.ml.spacy_analyser"
   ]
  },
  {
   "cell_type": "code",
   "execution_count": 19,
   "id": "a349c680",
   "metadata": {},
   "outputs": [
    {
     "data": {
      "text/plain": [
       "<module 'patat.ml.spacy_analyser' from '/Users/fm/Desktop/Work/Patat/patat/ml/spacy_analyser.py'>"
      ]
     },
     "execution_count": 19,
     "metadata": {},
     "output_type": "execute_result"
    }
   ],
   "source": [
    "importlib.reload(patat.ml.spacy_analyser)"
   ]
  },
  {
   "cell_type": "code",
   "execution_count": 20,
   "id": "2c4172b1",
   "metadata": {},
   "outputs": [],
   "source": [
    "analyser = patat.ml.spacy_analyser.SpacyAnalyser()"
   ]
  },
  {
   "cell_type": "markdown",
   "id": "af126633",
   "metadata": {},
   "source": [
    "Très long ! Presque 8 mn pour 2000 articles 50 minutes pour le corpus de 13000 articles\n",
    "\n",
    "Sauter les deux lignes pour charger un fichier déjà calculé"
   ]
  },
  {
   "cell_type": "code",
   "execution_count": null,
   "id": "2691bcff",
   "metadata": {},
   "outputs": [],
   "source": [
    "%%time\n",
    "df_features = analyser.analyse_df(df_francesoir,'text')"
   ]
  },
  {
   "cell_type": "code",
   "execution_count": null,
   "id": "17c0460b",
   "metadata": {},
   "outputs": [],
   "source": [
    "df_features.to_csv('data/corpus/220531-SpacyCorpusAfpComplet.csv',index=False)"
   ]
  },
  {
   "cell_type": "code",
   "execution_count": 14,
   "id": "3857deb0",
   "metadata": {},
   "outputs": [],
   "source": [
    "df_features = pd.read_csv('data/corpus/220531-SpacyCorpusAfpComplet.csv')"
   ]
  },
  {
   "cell_type": "code",
   "execution_count": 15,
   "id": "ec529b8b",
   "metadata": {},
   "outputs": [
    {
     "data": {
      "text/html": [
       "<div>\n",
       "<style scoped>\n",
       "    .dataframe tbody tr th:only-of-type {\n",
       "        vertical-align: middle;\n",
       "    }\n",
       "\n",
       "    .dataframe tbody tr th {\n",
       "        vertical-align: top;\n",
       "    }\n",
       "\n",
       "    .dataframe thead th {\n",
       "        text-align: right;\n",
       "    }\n",
       "</style>\n",
       "<table border=\"1\" class=\"dataframe\">\n",
       "  <thead>\n",
       "    <tr style=\"text-align: right;\">\n",
       "      <th></th>\n",
       "      <th>index</th>\n",
       "      <th>source</th>\n",
       "      <th>url</th>\n",
       "      <th>categories</th>\n",
       "      <th>title</th>\n",
       "      <th>author</th>\n",
       "      <th>date_published</th>\n",
       "      <th>article</th>\n",
       "      <th>category</th>\n",
       "      <th>origin_url</th>\n",
       "      <th>...</th>\n",
       "      <th>CCONJ</th>\n",
       "      <th>PRON</th>\n",
       "      <th>NUM</th>\n",
       "      <th>AUX</th>\n",
       "      <th>ADV</th>\n",
       "      <th>ADJ</th>\n",
       "      <th>SCONJ</th>\n",
       "      <th>SYM</th>\n",
       "      <th>X</th>\n",
       "      <th>INTJ</th>\n",
       "    </tr>\n",
       "  </thead>\n",
       "  <tbody>\n",
       "    <tr>\n",
       "      <th>0</th>\n",
       "      <td>13</td>\n",
       "      <td>fsoir</td>\n",
       "      <td>https://www.francesoir.fr/afp-afp/france-legis...</td>\n",
       "      <td>NaN</td>\n",
       "      <td>Législatives en Colombie, en attendant la prés...</td>\n",
       "      <td>Par Héctor Velasco - Bogota (AFP)</td>\n",
       "      <td>2022-03-13T02:14:46+01:00</td>\n",
       "      <td>© Juan BARRETO / AFP\\nPrès de 39 millions de C...</td>\n",
       "      <td>NaN</td>\n",
       "      <td>NaN</td>\n",
       "      <td>...</td>\n",
       "      <td>17</td>\n",
       "      <td>20</td>\n",
       "      <td>24</td>\n",
       "      <td>28</td>\n",
       "      <td>36</td>\n",
       "      <td>66</td>\n",
       "      <td>4</td>\n",
       "      <td>0</td>\n",
       "      <td>1</td>\n",
       "      <td>0</td>\n",
       "    </tr>\n",
       "    <tr>\n",
       "      <th>1</th>\n",
       "      <td>24</td>\n",
       "      <td>fsoir</td>\n",
       "      <td>https://www.francesoir.fr/afp-afp/france-chili...</td>\n",
       "      <td>NaN</td>\n",
       "      <td>Chili: le président Boric entame son mandat en...</td>\n",
       "      <td>Par AFP - Santiago du Chili</td>\n",
       "      <td>2022-03-12T21:20:59+01:00</td>\n",
       "      <td>© - / Presidencia de Chile/AFP\\nPour son premi...</td>\n",
       "      <td>NaN</td>\n",
       "      <td>NaN</td>\n",
       "      <td>...</td>\n",
       "      <td>19</td>\n",
       "      <td>10</td>\n",
       "      <td>6</td>\n",
       "      <td>11</td>\n",
       "      <td>8</td>\n",
       "      <td>36</td>\n",
       "      <td>1</td>\n",
       "      <td>2</td>\n",
       "      <td>1</td>\n",
       "      <td>0</td>\n",
       "    </tr>\n",
       "    <tr>\n",
       "      <th>2</th>\n",
       "      <td>25</td>\n",
       "      <td>fsoir</td>\n",
       "      <td>https://www.francesoir.fr/afp-afp/france-balad...</td>\n",
       "      <td>NaN</td>\n",
       "      <td>Balade en tramway par temps de guerre dans Kie...</td>\n",
       "      <td>Par Dmitry ZAKS - Kiev (AFP)</td>\n",
       "      <td>2022-03-12T21:17:08+01:00</td>\n",
       "      <td>© Aris Messinis / AFP\\nAu volant de son tramwa...</td>\n",
       "      <td>NaN</td>\n",
       "      <td>NaN</td>\n",
       "      <td>...</td>\n",
       "      <td>20</td>\n",
       "      <td>73</td>\n",
       "      <td>9</td>\n",
       "      <td>18</td>\n",
       "      <td>33</td>\n",
       "      <td>34</td>\n",
       "      <td>11</td>\n",
       "      <td>0</td>\n",
       "      <td>1</td>\n",
       "      <td>0</td>\n",
       "    </tr>\n",
       "    <tr>\n",
       "      <th>3</th>\n",
       "      <td>26</td>\n",
       "      <td>fsoir</td>\n",
       "      <td>https://www.francesoir.fr/afp-afp/france-dans-...</td>\n",
       "      <td>NaN</td>\n",
       "      <td>Dans le Sud-Ouest, Zemmour met en scène un ral...</td>\n",
       "      <td>Par Gregory DANEL - Agen (AFP)</td>\n",
       "      <td>2022-03-12T17:44:46+01:00</td>\n",
       "      <td>© Valentine CHAPUIS / AFP\\nVisé dès son arrivé...</td>\n",
       "      <td>NaN</td>\n",
       "      <td>NaN</td>\n",
       "      <td>...</td>\n",
       "      <td>17</td>\n",
       "      <td>32</td>\n",
       "      <td>9</td>\n",
       "      <td>26</td>\n",
       "      <td>27</td>\n",
       "      <td>31</td>\n",
       "      <td>4</td>\n",
       "      <td>0</td>\n",
       "      <td>1</td>\n",
       "      <td>0</td>\n",
       "    </tr>\n",
       "    <tr>\n",
       "      <th>4</th>\n",
       "      <td>27</td>\n",
       "      <td>fsoir</td>\n",
       "      <td>https://www.francesoir.fr/politique-monde/la-h...</td>\n",
       "      <td>NaN</td>\n",
       "      <td>La Hongrie compte maintenir ses importations d...</td>\n",
       "      <td>FranceSoir</td>\n",
       "      <td>2022-03-12T17:00:34+01:00</td>\n",
       "      <td>TOBIAS SCHWARZ / AFP\\nLa Hongrie ne compte pas...</td>\n",
       "      <td>NaN</td>\n",
       "      <td>NaN</td>\n",
       "      <td>...</td>\n",
       "      <td>9</td>\n",
       "      <td>19</td>\n",
       "      <td>14</td>\n",
       "      <td>18</td>\n",
       "      <td>16</td>\n",
       "      <td>20</td>\n",
       "      <td>6</td>\n",
       "      <td>0</td>\n",
       "      <td>1</td>\n",
       "      <td>0</td>\n",
       "    </tr>\n",
       "    <tr>\n",
       "      <th>...</th>\n",
       "      <td>...</td>\n",
       "      <td>...</td>\n",
       "      <td>...</td>\n",
       "      <td>...</td>\n",
       "      <td>...</td>\n",
       "      <td>...</td>\n",
       "      <td>...</td>\n",
       "      <td>...</td>\n",
       "      <td>...</td>\n",
       "      <td>...</td>\n",
       "      <td>...</td>\n",
       "      <td>...</td>\n",
       "      <td>...</td>\n",
       "      <td>...</td>\n",
       "      <td>...</td>\n",
       "      <td>...</td>\n",
       "      <td>...</td>\n",
       "      <td>...</td>\n",
       "      <td>...</td>\n",
       "      <td>...</td>\n",
       "      <td>...</td>\n",
       "    </tr>\n",
       "    <tr>\n",
       "      <th>13609</th>\n",
       "      <td>28727</td>\n",
       "      <td>fsoir</td>\n",
       "      <td>https://www.francesoir.fr/lifestyle-vie/quotid...</td>\n",
       "      <td>NaN</td>\n",
       "      <td>Pourquoi \"toucher du bois\" porte-t-il chance?</td>\n",
       "      <td>VL</td>\n",
       "      <td>2015-01-02T17:06:29+01:00</td>\n",
       "      <td>©Flickr Creative Commons\\nToucher du bois de l...</td>\n",
       "      <td>NaN</td>\n",
       "      <td>NaN</td>\n",
       "      <td>...</td>\n",
       "      <td>9</td>\n",
       "      <td>39</td>\n",
       "      <td>0</td>\n",
       "      <td>18</td>\n",
       "      <td>20</td>\n",
       "      <td>15</td>\n",
       "      <td>6</td>\n",
       "      <td>0</td>\n",
       "      <td>0</td>\n",
       "      <td>0</td>\n",
       "    </tr>\n",
       "    <tr>\n",
       "      <th>13610</th>\n",
       "      <td>28771</td>\n",
       "      <td>fsoir</td>\n",
       "      <td>https://www.francesoir.fr/culture-medias/novem...</td>\n",
       "      <td>NaN</td>\n",
       "      <td>Novembre 1954: Gaston Dominici condamné à mort...</td>\n",
       "      <td>Jean-Michel Comte</td>\n",
       "      <td>2014-11-25T18:26:41+01:00</td>\n",
       "      <td>©DR\\nLe 28 novembre 1954, Gaston Dominici est ...</td>\n",
       "      <td>NaN</td>\n",
       "      <td>NaN</td>\n",
       "      <td>...</td>\n",
       "      <td>26</td>\n",
       "      <td>39</td>\n",
       "      <td>39</td>\n",
       "      <td>41</td>\n",
       "      <td>38</td>\n",
       "      <td>61</td>\n",
       "      <td>2</td>\n",
       "      <td>0</td>\n",
       "      <td>1</td>\n",
       "      <td>0</td>\n",
       "    </tr>\n",
       "    <tr>\n",
       "      <th>13611</th>\n",
       "      <td>28779</td>\n",
       "      <td>fsoir</td>\n",
       "      <td>https://www.francesoir.fr/culture-medias/le-22...</td>\n",
       "      <td>NaN</td>\n",
       "      <td>Le 22 novembre 1963, l'assassinat de Kennedy (...</td>\n",
       "      <td>Jean-Michel Comte</td>\n",
       "      <td>2014-11-19T18:58:58+01:00</td>\n",
       "      <td>©DR\\nLe 22 novembre 1963, John F. Kennedy étai...</td>\n",
       "      <td>NaN</td>\n",
       "      <td>NaN</td>\n",
       "      <td>...</td>\n",
       "      <td>16</td>\n",
       "      <td>50</td>\n",
       "      <td>30</td>\n",
       "      <td>31</td>\n",
       "      <td>35</td>\n",
       "      <td>35</td>\n",
       "      <td>9</td>\n",
       "      <td>1</td>\n",
       "      <td>0</td>\n",
       "      <td>0</td>\n",
       "    </tr>\n",
       "    <tr>\n",
       "      <th>13612</th>\n",
       "      <td>28804</td>\n",
       "      <td>fsoir</td>\n",
       "      <td>https://www.francesoir.fr/lifestyle-tourisme/z...</td>\n",
       "      <td>NaN</td>\n",
       "      <td>Zoo d'Amnéville: le tigre comme moteur</td>\n",
       "      <td>Pierre Plottu</td>\n",
       "      <td>2014-10-27T14:38:07+01:00</td>\n",
       "      <td>test\\nNé il y a moins de trente ans de la pass...</td>\n",
       "      <td>NaN</td>\n",
       "      <td>NaN</td>\n",
       "      <td>...</td>\n",
       "      <td>29</td>\n",
       "      <td>59</td>\n",
       "      <td>33</td>\n",
       "      <td>37</td>\n",
       "      <td>69</td>\n",
       "      <td>60</td>\n",
       "      <td>9</td>\n",
       "      <td>0</td>\n",
       "      <td>0</td>\n",
       "      <td>0</td>\n",
       "    </tr>\n",
       "    <tr>\n",
       "      <th>13613</th>\n",
       "      <td>29347</td>\n",
       "      <td>fsoir</td>\n",
       "      <td>https://www.francesoir.fr/culture-celebrites/c...</td>\n",
       "      <td>NaN</td>\n",
       "      <td>Constance Meyer : La femme cachée de Serge Gai...</td>\n",
       "      <td>France-Soir</td>\n",
       "      <td>2010-10-03T15:45:50+02:00</td>\n",
       "      <td>Impression écran @youtube editions Archipel\\nO...</td>\n",
       "      <td>NaN</td>\n",
       "      <td>NaN</td>\n",
       "      <td>...</td>\n",
       "      <td>12</td>\n",
       "      <td>86</td>\n",
       "      <td>25</td>\n",
       "      <td>41</td>\n",
       "      <td>56</td>\n",
       "      <td>48</td>\n",
       "      <td>18</td>\n",
       "      <td>0</td>\n",
       "      <td>0</td>\n",
       "      <td>0</td>\n",
       "    </tr>\n",
       "  </tbody>\n",
       "</table>\n",
       "<p>13614 rows × 32 columns</p>\n",
       "</div>"
      ],
      "text/plain": [
       "       index source                                                url  \\\n",
       "0         13  fsoir  https://www.francesoir.fr/afp-afp/france-legis...   \n",
       "1         24  fsoir  https://www.francesoir.fr/afp-afp/france-chili...   \n",
       "2         25  fsoir  https://www.francesoir.fr/afp-afp/france-balad...   \n",
       "3         26  fsoir  https://www.francesoir.fr/afp-afp/france-dans-...   \n",
       "4         27  fsoir  https://www.francesoir.fr/politique-monde/la-h...   \n",
       "...      ...    ...                                                ...   \n",
       "13609  28727  fsoir  https://www.francesoir.fr/lifestyle-vie/quotid...   \n",
       "13610  28771  fsoir  https://www.francesoir.fr/culture-medias/novem...   \n",
       "13611  28779  fsoir  https://www.francesoir.fr/culture-medias/le-22...   \n",
       "13612  28804  fsoir  https://www.francesoir.fr/lifestyle-tourisme/z...   \n",
       "13613  29347  fsoir  https://www.francesoir.fr/culture-celebrites/c...   \n",
       "\n",
       "       categories                                              title  \\\n",
       "0             NaN  Législatives en Colombie, en attendant la prés...   \n",
       "1             NaN  Chili: le président Boric entame son mandat en...   \n",
       "2             NaN  Balade en tramway par temps de guerre dans Kie...   \n",
       "3             NaN  Dans le Sud-Ouest, Zemmour met en scène un ral...   \n",
       "4             NaN  La Hongrie compte maintenir ses importations d...   \n",
       "...           ...                                                ...   \n",
       "13609         NaN      Pourquoi \"toucher du bois\" porte-t-il chance?   \n",
       "13610         NaN  Novembre 1954: Gaston Dominici condamné à mort...   \n",
       "13611         NaN  Le 22 novembre 1963, l'assassinat de Kennedy (...   \n",
       "13612         NaN             Zoo d'Amnéville: le tigre comme moteur   \n",
       "13613         NaN  Constance Meyer : La femme cachée de Serge Gai...   \n",
       "\n",
       "                                    author             date_published  \\\n",
       "0       Par Héctor Velasco - Bogota (AFP)   2022-03-13T02:14:46+01:00   \n",
       "1            Par AFP - Santiago du Chili    2022-03-12T21:20:59+01:00   \n",
       "2            Par Dmitry ZAKS - Kiev (AFP)   2022-03-12T21:17:08+01:00   \n",
       "3          Par Gregory DANEL - Agen (AFP)   2022-03-12T17:44:46+01:00   \n",
       "4                              FranceSoir   2022-03-12T17:00:34+01:00   \n",
       "...                                    ...                        ...   \n",
       "13609                                  VL   2015-01-02T17:06:29+01:00   \n",
       "13610                   Jean-Michel Comte   2014-11-25T18:26:41+01:00   \n",
       "13611                   Jean-Michel Comte   2014-11-19T18:58:58+01:00   \n",
       "13612                       Pierre Plottu   2014-10-27T14:38:07+01:00   \n",
       "13613                         France-Soir   2010-10-03T15:45:50+02:00   \n",
       "\n",
       "                                                 article  category  \\\n",
       "0      © Juan BARRETO / AFP\\nPrès de 39 millions de C...       NaN   \n",
       "1      © - / Presidencia de Chile/AFP\\nPour son premi...       NaN   \n",
       "2      © Aris Messinis / AFP\\nAu volant de son tramwa...       NaN   \n",
       "3      © Valentine CHAPUIS / AFP\\nVisé dès son arrivé...       NaN   \n",
       "4      TOBIAS SCHWARZ / AFP\\nLa Hongrie ne compte pas...       NaN   \n",
       "...                                                  ...       ...   \n",
       "13609  ©Flickr Creative Commons\\nToucher du bois de l...       NaN   \n",
       "13610  ©DR\\nLe 28 novembre 1954, Gaston Dominici est ...       NaN   \n",
       "13611  ©DR\\nLe 22 novembre 1963, John F. Kennedy étai...       NaN   \n",
       "13612  test\\nNé il y a moins de trente ans de la pass...       NaN   \n",
       "13613  Impression écran @youtube editions Archipel\\nO...       NaN   \n",
       "\n",
       "       origin_url  ...  CCONJ PRON  NUM  AUX  ADV  ADJ  SCONJ  SYM  X  INTJ  \n",
       "0             NaN  ...     17   20   24   28   36   66      4    0  1     0  \n",
       "1             NaN  ...     19   10    6   11    8   36      1    2  1     0  \n",
       "2             NaN  ...     20   73    9   18   33   34     11    0  1     0  \n",
       "3             NaN  ...     17   32    9   26   27   31      4    0  1     0  \n",
       "4             NaN  ...      9   19   14   18   16   20      6    0  1     0  \n",
       "...           ...  ...    ...  ...  ...  ...  ...  ...    ...  ... ..   ...  \n",
       "13609         NaN  ...      9   39    0   18   20   15      6    0  0     0  \n",
       "13610         NaN  ...     26   39   39   41   38   61      2    0  1     0  \n",
       "13611         NaN  ...     16   50   30   31   35   35      9    1  0     0  \n",
       "13612         NaN  ...     29   59   33   37   69   60      9    0  0     0  \n",
       "13613         NaN  ...     12   86   25   41   56   48     18    0  0     0  \n",
       "\n",
       "[13614 rows x 32 columns]"
      ]
     },
     "execution_count": 15,
     "metadata": {},
     "output_type": "execute_result"
    }
   ],
   "source": [
    "df_features"
   ]
  },
  {
   "cell_type": "code",
   "execution_count": 21,
   "id": "cec668a4",
   "metadata": {},
   "outputs": [],
   "source": [
    "feature_cols = analyser.feature_col_names()"
   ]
  },
  {
   "cell_type": "code",
   "execution_count": 22,
   "id": "a0cd1bff",
   "metadata": {},
   "outputs": [
    {
     "data": {
      "text/plain": [
       "['char_count',\n",
       " 'word_count',\n",
       " 'sentence_count',\n",
       " 'PROPN',\n",
       " 'PUNCT',\n",
       " 'DET',\n",
       " 'NOUN',\n",
       " 'VERB',\n",
       " 'ADP',\n",
       " 'SPACE',\n",
       " 'CCONJ',\n",
       " 'PRON',\n",
       " 'NUM',\n",
       " 'AUX',\n",
       " 'ADV',\n",
       " 'ADJ',\n",
       " 'SCONJ',\n",
       " 'SYM',\n",
       " 'X',\n",
       " 'INTJ']"
      ]
     },
     "execution_count": 22,
     "metadata": {},
     "output_type": "execute_result"
    }
   ],
   "source": [
    "feature_cols"
   ]
  },
  {
   "cell_type": "code",
   "execution_count": 23,
   "id": "2f6a719a",
   "metadata": {},
   "outputs": [],
   "source": [
    "# A étudier : Mise à l'échelle des features par rapport au nombre de mots"
   ]
  },
  {
   "cell_type": "code",
   "execution_count": 24,
   "id": "4ea1905a",
   "metadata": {},
   "outputs": [],
   "source": [
    "# scale_features = [ 'PROPN','PUNCT','DET','NOUN','VERB','ADP','SPACE','CCONJ','PRON','NUM','AUX','ADV','ADJ','SCONJ','SYM','X','INTJ']\n"
   ]
  },
  {
   "cell_type": "code",
   "execution_count": 25,
   "id": "533e3ec2",
   "metadata": {},
   "outputs": [],
   "source": [
    "#for feature in scale_features:\n",
    "#    df_features[feature]=df_features[feature]/df_features['word_count']"
   ]
  },
  {
   "cell_type": "markdown",
   "id": "b6e20128",
   "metadata": {},
   "source": [
    "### Construction des Datasets d'entrainement et de test"
   ]
  },
  {
   "cell_type": "code",
   "execution_count": 26,
   "id": "ff7f2b49",
   "metadata": {},
   "outputs": [],
   "source": [
    "import sklearn.model_selection"
   ]
  },
  {
   "cell_type": "code",
   "execution_count": 28,
   "id": "ae7f15b8",
   "metadata": {},
   "outputs": [],
   "source": [
    "X_train,X_test,y_train,y_test = sklearn.model_selection.train_test_split(df_features,\n",
    "                                             df_features['afp'],test_size=0.50,random_state=0)"
   ]
  },
  {
   "cell_type": "markdown",
   "id": "cf630b7b",
   "metadata": {},
   "source": [
    "### LogregPredictor"
   ]
  },
  {
   "cell_type": "code",
   "execution_count": 29,
   "id": "63a2fd35",
   "metadata": {},
   "outputs": [],
   "source": [
    "import patat.ml.predictor\n",
    "import patat.ml.logreg_predictor"
   ]
  },
  {
   "cell_type": "code",
   "execution_count": 30,
   "id": "99cf788e",
   "metadata": {},
   "outputs": [
    {
     "data": {
      "text/plain": [
       "<module 'patat.ml.logreg_predictor' from '/Users/fm/Desktop/Work/Patat/patat/ml/logreg_predictor.py'>"
      ]
     },
     "execution_count": 30,
     "metadata": {},
     "output_type": "execute_result"
    }
   ],
   "source": [
    "importlib.reload(patat.ml.predictor)\n",
    "importlib.reload(patat.ml.logreg_predictor)"
   ]
  },
  {
   "cell_type": "code",
   "execution_count": 31,
   "id": "7e5599e4",
   "metadata": {},
   "outputs": [],
   "source": [
    "logreg = patat.ml.logreg_predictor.LogregPredictor()"
   ]
  },
  {
   "cell_type": "markdown",
   "id": "699324ec",
   "metadata": {},
   "source": [
    "#### Entrainement du prédicteur"
   ]
  },
  {
   "cell_type": "code",
   "execution_count": 32,
   "id": "e2c6f26b",
   "metadata": {},
   "outputs": [
    {
     "name": "stdout",
     "output_type": "stream",
     "text": [
      "Training on afp\n"
     ]
    }
   ],
   "source": [
    "logreg.train(X_train,feature_cols,['afp'])"
   ]
  },
  {
   "cell_type": "markdown",
   "id": "197814ae",
   "metadata": {},
   "source": [
    "#### Prédictions"
   ]
  },
  {
   "cell_type": "code",
   "execution_count": 33,
   "id": "9f7eae42",
   "metadata": {},
   "outputs": [],
   "source": [
    "y_pred = logreg.predict_label(X_test,feature_cols,'afp')"
   ]
  },
  {
   "cell_type": "code",
   "execution_count": 35,
   "id": "e00ee349",
   "metadata": {},
   "outputs": [],
   "source": [
    "y_proba = logreg.predict_proba_label(X_test,feature_cols,'afp')"
   ]
  },
  {
   "cell_type": "markdown",
   "id": "713f1993",
   "metadata": {},
   "source": [
    "#### Mesure des performances"
   ]
  },
  {
   "cell_type": "code",
   "execution_count": 36,
   "id": "8250dc2c",
   "metadata": {},
   "outputs": [
    {
     "name": "stdout",
     "output_type": "stream",
     "text": [
      "Matrice de confusion\n",
      "[[4886  184]\n",
      " [ 256 1481]]\n",
      "Accuracy score 93.54%\n",
      "Recall score 85.26%\n"
     ]
    }
   ],
   "source": [
    "from sklearn import metrics\n",
    "cnf_matrix = metrics.confusion_matrix(X_test['afp'], y_pred)\n",
    "print('Matrice de confusion')\n",
    "print(cnf_matrix)\n",
    "print(f'Accuracy score {metrics.accuracy_score(y_test, y_pred)*100:.2f}%')\n",
    "print(f'Recall score {metrics.recall_score(y_test, y_pred)*100:.2f}%')"
   ]
  },
  {
   "cell_type": "code",
   "execution_count": 37,
   "id": "024975ce",
   "metadata": {},
   "outputs": [
    {
     "data": {
      "image/png": "[encoded data removed]",
      "text/plain": [
       "<Figure size 432x288 with 1 Axes>"
      ]
     },
     "metadata": {
      "needs_background": "light"
     },
     "output_type": "display_data"
    }
   ],
   "source": [
    "y_score = y_proba.transpose()[1]\n",
    "\n",
    "fpr, tpr, _ = metrics.roc_curve(y_test, y_score)\n",
    "roc_display = metrics.RocCurveDisplay(fpr=fpr, tpr=tpr).plot()"
   ]
  },
  {
   "cell_type": "markdown",
   "id": "59d3a285",
   "metadata": {},
   "source": [
    "### Gaussian Naive Bayes Predictor"
   ]
  },
  {
   "cell_type": "code",
   "execution_count": null,
   "id": "ff7bf45d",
   "metadata": {},
   "outputs": [],
   "source": [
    "import patat.ml.gnb_predictor\n",
    "\n",
    "importlib.reload(patat.ml.gnb_predictor)\n",
    "\n",
    "gnb = patat.ml.gnb_predictor.GnbPredictor()\n",
    "\n",
    "gnb.train(X_train,feature_cols,['afp'])\n",
    "\n",
    "y_pred = gnb.predict_label(X_test,feature_cols,'afp')\n",
    "\n",
    "y_proba = gnb.predict_proba_label(X_test,feature_cols,'afp')"
   ]
  },
  {
   "cell_type": "code",
   "execution_count": null,
   "id": "909ef832",
   "metadata": {},
   "outputs": [],
   "source": [
    "from sklearn import metrics\n",
    "cnf_matrix = metrics.confusion_matrix(X_test['afp'], y_pred)\n",
    "print('Matrice de confusion')\n",
    "print(cnf_matrix)\n",
    "print(f'Accuracy score {metrics.accuracy_score(y_test, y_pred)*100:.2f}%')\n",
    "print(f'Recall score {metrics.recall_score(y_test, y_pred)*100:.2f}%')\n",
    "y_score = y_proba.transpose()[1]\n",
    "fpr, tpr, _ = metrics.roc_curve(y_test, y_score)\n",
    "roc_display = metrics.RocCurveDisplay(fpr=fpr, tpr=tpr).plot()"
   ]
  },
  {
   "cell_type": "markdown",
   "id": "329ccac0",
   "metadata": {},
   "source": [
    "### Structured Vector Classifier Predictor"
   ]
  },
  {
   "cell_type": "code",
   "execution_count": null,
   "id": "49dd60a3",
   "metadata": {},
   "outputs": [],
   "source": [
    "import patat.ml.svc_predictor\n",
    "importlib.reload(patat.ml.svc_predictor)\n",
    "svc = patat.ml.svc_predictor.SvcPredictor()\n",
    "svc.train(X_train,feature_cols,['afp'])\n",
    "y_pred = gnb.predict_label(X_test,feature_cols,'afp')"
   ]
  },
  {
   "cell_type": "code",
   "execution_count": null,
   "id": "5acc56d4",
   "metadata": {},
   "outputs": [],
   "source": [
    "from sklearn import metrics\n",
    "cnf_matrix = metrics.confusion_matrix(X_test['afp'], y_pred)\n",
    "print('Matrice de confusion')\n",
    "print(cnf_matrix)\n",
    "print(f'Accuracy score {metrics.accuracy_score(y_test, y_pred)*100:.2f}%')\n",
    "print(f'Recall score {metrics.recall_score(y_test, y_pred)*100:.2f}%')"
   ]
  },
  {
   "cell_type": "markdown",
   "id": "cfbe43f7",
   "metadata": {},
   "source": [
    "## Bricolages"
   ]
  },
  {
   "cell_type": "code",
   "execution_count": null,
   "id": "d5bf7861",
   "metadata": {},
   "outputs": [],
   "source": [
    "df_features"
   ]
  },
  {
   "cell_type": "code",
   "execution_count": null,
   "id": "83941686",
   "metadata": {},
   "outputs": [],
   "source": [
    "cd Work/Patat/"
   ]
  },
  {
   "cell_type": "code",
   "execution_count": null,
   "id": "739720c7",
   "metadata": {},
   "outputs": [],
   "source": []
  },
  {
   "cell_type": "code",
   "execution_count": null,
   "id": "a693ff84",
   "metadata": {},
   "outputs": [],
   "source": []
  }
 ],
 "metadata": {
  "kernelspec": {
   "display_name": "Python 3 (ipykernel)",
   "language": "python",
   "name": "python3"
  },
  "language_info": {
   "codemirror_mode": {
    "name": "ipython",
    "version": 3
   },
   "file_extension": ".py",
   "mimetype": "text/x-python",
   "name": "python",
   "nbconvert_exporter": "python",
   "pygments_lexer": "ipython3",
   "version": "3.9.15"
  }
 },
 "nbformat": 4,
 "nbformat_minor": 5
}
