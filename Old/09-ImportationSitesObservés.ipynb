{
 "cells": [
  {
   "cell_type": "markdown",
   "id": "f4470801",
   "metadata": {},
   "source": [
    "# Patat : Plateforme Agnostique de Traitement et d'Analyse des Textes\n",
    "\n",
    "## Notebook 9 : Importation des Sites sous Observation\n",
    "\n",
    "## Préliminaires"
   ]
  },
  {
   "cell_type": "code",
   "execution_count": 2,
   "id": "71b18532",
   "metadata": {},
   "outputs": [
    {
     "name": "stdout",
     "output_type": "stream",
     "text": [
      "/Users/fm/Desktop/Work/Patat\n"
     ]
    }
   ],
   "source": [
    "cd ../.."
   ]
  },
  {
   "cell_type": "code",
   "execution_count": 3,
   "id": "e192637b",
   "metadata": {},
   "outputs": [],
   "source": [
    "import importlib\n",
    "import urllib"
   ]
  },
  {
   "cell_type": "markdown",
   "id": "04833cb7",
   "metadata": {},
   "source": [
    "## Choix des Sites Observés"
   ]
  },
  {
   "cell_type": "code",
   "execution_count": 4,
   "id": "3602451e",
   "metadata": {},
   "outputs": [],
   "source": [
    "sso_urls=[\n",
    "    'www.mondialisation.ca',\n",
    "    'www.voltairenet.org',\n",
    "    'www.polemia.com',\n",
    "    'infodujour.fr',\n",
    "    'www.lesalonbeige.fr',\n",
    "    'www.les-crises.fr',\n",
    "    'lesobservateurs.ch',\n",
    "    'lesakerfrancophone.fr',\n",
    "    'lalettrepatriote.com',\n",
    "    'www.cnews.fr',\n",
    "    'fr.novopress.info',\n",
    "]"
   ]
  },
  {
   "cell_type": "code",
   "execution_count": 5,
   "id": "5599a7a5",
   "metadata": {},
   "outputs": [],
   "source": [
    "sso_urls=[\n",
    "    'https://www.breizh-info.com',\n",
    "    'https://www.francesoir.fr',\n",
    "    'https://www.lelibrepenseur.org',\n",
    "    'https://lesdeqodeurs.fr',\n",
    "    'https://lezarceleurs.blogspot.com',\n",
    "    'https://lesmoutonsrebelles.com',\n",
    "    'https://www.wikistrike.com',\n",
    "    'https://lemediaen442.fr',\n",
    "    'https://www.dreuz.info',\n",
    "    'https://fr.sott.net',\n",
    "    'https://www.profession-gendarme.com/',\n",
    "    'https://www.legorafi.fr/',\n",
    "]"
   ]
  },
  {
   "cell_type": "code",
   "execution_count": 5,
   "id": "6df23fd2",
   "metadata": {},
   "outputs": [
    {
     "data": {
      "text/plain": [
       "11"
      ]
     },
     "execution_count": 5,
     "metadata": {},
     "output_type": "execute_result"
    }
   ],
   "source": [
    "len(sso_urls)"
   ]
  },
  {
   "cell_type": "markdown",
   "id": "16bcb63f",
   "metadata": {},
   "source": [
    "# Lancement du crawler\n",
    "Consitution de 2 listes sur les SSO :\n",
    "- Liste d'url de listes d'articles\n",
    "- Liste d'url d'articles"
   ]
  },
  {
   "cell_type": "code",
   "execution_count": 6,
   "id": "92880938",
   "metadata": {},
   "outputs": [],
   "source": [
    "import patat.imp.parser_params\n",
    "import patat.imp.parser\n",
    "import patat.imp.crawler"
   ]
  },
  {
   "cell_type": "code",
   "execution_count": 7,
   "id": "7e775bf3",
   "metadata": {},
   "outputs": [
    {
     "data": {
      "text/plain": [
       "<module 'patat.imp.crawler' from '/Users/fm/Desktop/Work/Patat/patat/imp/crawler.py'>"
      ]
     },
     "execution_count": 7,
     "metadata": {},
     "output_type": "execute_result"
    }
   ],
   "source": [
    "importlib.reload(patat.imp.parser_params)\n",
    "importlib.reload(patat.imp.parser)\n",
    "importlib.reload(patat.imp.crawler)"
   ]
  },
  {
   "cell_type": "code",
   "execution_count": 8,
   "id": "432d39a1",
   "metadata": {},
   "outputs": [],
   "source": [
    "crawler = patat.imp.crawler.Crawler()"
   ]
  },
  {
   "cell_type": "code",
   "execution_count": 9,
   "id": "68ddc6fd",
   "metadata": {},
   "outputs": [
    {
     "ename": "AttributeError",
     "evalue": "module 'patat.imp.parser_params' has no attribute 'revisit_maps'",
     "output_type": "error",
     "traceback": [
      "\u001b[0;31m---------------------------------------------------------------------------\u001b[0m",
      "\u001b[0;31mAttributeError\u001b[0m                            Traceback (most recent call last)",
      "Input \u001b[0;32mIn [9]\u001b[0m, in \u001b[0;36m<cell line: 2>\u001b[0;34m()\u001b[0m\n\u001b[1;32m      2\u001b[0m \u001b[38;5;28;01mfor\u001b[39;00m url \u001b[38;5;129;01min\u001b[39;00m sso_urls:\n\u001b[1;32m      3\u001b[0m     site \u001b[38;5;241m=\u001b[39m urllib\u001b[38;5;241m.\u001b[39mparse\u001b[38;5;241m.\u001b[39murlsplit(url)\u001b[38;5;241m.\u001b[39mnetloc\n\u001b[0;32m----> 4\u001b[0m     site_urls \u001b[38;5;241m=\u001b[39m \u001b[43mpatat\u001b[49m\u001b[38;5;241;43m.\u001b[39;49m\u001b[43mimp\u001b[49m\u001b[38;5;241;43m.\u001b[39;49m\u001b[43mparser_params\u001b[49m\u001b[38;5;241;43m.\u001b[39;49m\u001b[43mrevisit_maps\u001b[49m[site]\n\u001b[1;32m      5\u001b[0m     \u001b[38;5;28;01mif\u001b[39;00m site_urls:\n\u001b[1;32m      6\u001b[0m         crawl_urls \u001b[38;5;241m=\u001b[39m crawl_urls \u001b[38;5;241m+\u001b[39m site_urls[\u001b[38;5;124m'\u001b[39m\u001b[38;5;124mrevisit_urls\u001b[39m\u001b[38;5;124m'\u001b[39m]\n",
      "\u001b[0;31mAttributeError\u001b[0m: module 'patat.imp.parser_params' has no attribute 'revisit_maps'"
     ]
    }
   ],
   "source": [
    "crawl_urls = []\n",
    "for url in sso_urls:\n",
    "    site = urllib.parse.urlsplit(url).netloc\n",
    "    site_urls = patat.imp.parser_params.revisit_maps[site]\n",
    "    if site_urls:\n",
    "        crawl_urls = crawl_urls + site_urls['revisit_urls']\n",
    "len(crawl_urls)"
   ]
  },
  {
   "cell_type": "code",
   "execution_count": 12,
   "id": "a1ea4a3e",
   "metadata": {},
   "outputs": [
    {
     "data": {
      "text/plain": [
       "['https://www.profession-gendarme.com/']"
      ]
     },
     "execution_count": 12,
     "metadata": {},
     "output_type": "execute_result"
    }
   ],
   "source": [
    "crawl_urls"
   ]
  },
  {
   "cell_type": "code",
   "execution_count": 13,
   "id": "f38b2e43",
   "metadata": {},
   "outputs": [
    {
     "name": "stdout",
     "output_type": "stream",
     "text": [
      "Crawling : https://www.profession-gendarme.com/\n",
      "Crawling : https://www.profession-gendarme.com/\n"
     ]
    }
   ],
   "source": [
    "crawler.reset_crawl_map()\n",
    "for url in crawl_urls:\n",
    "    print(f'Crawling : {url}')\n",
    "    crawler.crawl_page(url,use_cache=False)"
   ]
  },
  {
   "cell_type": "code",
   "execution_count": 36,
   "id": "39f912e0",
   "metadata": {},
   "outputs": [
    {
     "data": {
      "text/plain": [
       "28"
      ]
     },
     "execution_count": 36,
     "metadata": {},
     "output_type": "execute_result"
    }
   ],
   "source": [
    "len(crawler._crawl_map['list_links'])"
   ]
  },
  {
   "cell_type": "code",
   "execution_count": 41,
   "id": "017f3e10",
   "metadata": {},
   "outputs": [
    {
     "name": "stdout",
     "output_type": "stream",
     "text": [
      "Crawling : https://www.profession-gendarme.com/category/faits-divers/page/4/\n",
      "Crawling : https://www.profession-gendarme.com/category/lassociation/page/4/\n",
      "Crawling : https://www.profession-gendarme.com/category/tribune/page/4/\n",
      "Crawling : https://www.profession-gendarme.com/category/non-classe/page/4/\n",
      "Crawling : https://www.profession-gendarme.com/category/textes-reglementaires/page/4/\n",
      "Crawling : https://www.profession-gendarme.com/category/actualites/page/4/\n",
      "Crawling : https://www.profession-gendarme.com/category/insolite/page/4/\n"
     ]
    },
    {
     "data": {
      "text/plain": [
       "{'article_links': {'https://www.profession-gendarme.com/103664-2/',\n",
       "  'https://www.profession-gendarme.com/15eme-rapport-du-haut-comite-devaluation-de-la-condition-militaire/',\n",
       "  'https://www.profession-gendarme.com/18-juillet-2021-appel-a-lunion-citoyenne-non-a-la-discrimination-sanitaire/',\n",
       "  'https://www.profession-gendarme.com/1ere-plateforme-francaise-independante-de-recensement-des-temoignages-deffets-secondaires-des-vaccins-covid-19/',\n",
       "  'https://www.profession-gendarme.com/31-mai-1er-juin-suicides-de-deux-gendarmes/',\n",
       "  'https://www.profession-gendarme.com/93438-2/',\n",
       "  'https://www.profession-gendarme.com/a-berlin-des-allemands-soutiennent-la-russie/',\n",
       "  'https://www.profession-gendarme.com/a-brest-un-policier-soupconne-de-tags-provocateurs-a-pontanezen/',\n",
       "  'https://www.profession-gendarme.com/a-mayotte-la-police-aux-frontieres-interpelle-une-trentaine-de-clandestins-chaque-jour-2/',\n",
       "  'https://www.profession-gendarme.com/affaire-assu-2000-qui-est-lancien-gendarme-place-en-detention-provisoire/',\n",
       "  'https://www.profession-gendarme.com/al-jazeera-filme-par-hasard-des-soldats-ukrainiens-utilisant-des-ambulances-de-la-croix-rouge-pour-se-deplacer-video/',\n",
       "  'https://www.profession-gendarme.com/alert-21-le-dernier-message-pour-lhumanite-the-last-message-for-humanity-english-subtitles-3/',\n",
       "  'https://www.profession-gendarme.com/alerte-lisez-la-composition-des-vaccins-que-notre-gouvernement-genocidaire-veut-rendre-obligatoire/',\n",
       "  'https://www.profession-gendarme.com/alerte-mail-frauduleux-de-la-gendarmerie/',\n",
       "  'https://www.profession-gendarme.com/alerte-projet-de-loi-no-3714-instituant-un-regime-perenne-de-gestion-des-urgences-sanitaires/',\n",
       "  'https://www.profession-gendarme.com/allemagne-echec-du-miracle-du-transport-electrique/',\n",
       "  'https://www.profession-gendarme.com/alors-ca-gaze/',\n",
       "  'https://www.profession-gendarme.com/analyse-de-lactivite-hospitaliere-2020-covid19/',\n",
       "  'https://www.profession-gendarme.com/annecy-il-grille-un-feu-rouge-devant-les-policiers-mais-ne-sera-pas-verbalise/',\n",
       "  'https://www.profession-gendarme.com/antiseche-en-10-points-pour-reinformer-les-complotosceptiques/',\n",
       "  'https://www.profession-gendarme.com/application-sauvlife/',\n",
       "  'https://www.profession-gendarme.com/arrete-du-8-juin-2021-fixant-les-conditions-physiques-et-medicales-daptitude-exigees-des-personnels-militaires-de-la-gendarmerie-nationale-et-des-candidats-a-ladmission-en-gendarmerie/',\n",
       "  'https://www.profession-gendarme.com/assemblee-franco-italienne-du-29-janvier-a-paris/',\n",
       "  'https://www.profession-gendarme.com/attali-souhaite-que-les-complotistes-soient-pourchasses-pour-les-mensonges-quils-vehiculent/',\n",
       "  'https://www.profession-gendarme.com/avis-sur-les-rapports-entre-la-police-et-la-population-cncdh/',\n",
       "  'https://www.profession-gendarme.com/bataclan-vont-ils-oser-empecher-de-plaider-librement-mon-avocat/',\n",
       "  'https://www.profession-gendarme.com/belle-reussite-du-doctothon/',\n",
       "  'https://www.profession-gendarme.com/blanquer-rigole-face-a-une-maman-qui-a-perdu-son-mari-suite-a-injection-covid-19/',\n",
       "  'https://www.profession-gendarme.com/canada-des-agriculteurs-se-joignent-au-convoi-de-la-liberte-et-franchissent-les-barricades-de-la-police/',\n",
       "  'https://www.profession-gendarme.com/candidats-admis-au-concours-og-univ-session-2021/',\n",
       "  'https://www.profession-gendarme.com/candidats-admis-au-concours-portant-statut-particulier-du-corps-des-officiers-de-gendarmerie-og-rang/',\n",
       "  'https://www.profession-gendarme.com/carte-communique-convoy-france/',\n",
       "  'https://www.profession-gendarme.com/carte-electorale-un-qr-code-pour-acceder-a-toutes-vos-demarches/',\n",
       "  'https://www.profession-gendarme.com/cest-une-obsession-tous-les-jours-de-trouver-de-la-place-pour-les-malades/',\n",
       "  'https://www.profession-gendarme.com/chambourcy-un-policier-municipal-se-suicide-avec-son-arme-de-service/',\n",
       "  'https://www.profession-gendarme.com/chanteurs-a-gages-deux-videos-musicales-parodiques-avec-humour/',\n",
       "  'https://www.profession-gendarme.com/chaos-au-stade-de-france-je-nai-jamais-eu-aussi-peur-le-temoignage-horrifie-du-combattant-ufc-paddy-pimblett/',\n",
       "  'https://www.profession-gendarme.com/charte-de-bonne-conduite/',\n",
       "  'https://www.profession-gendarme.com/chateaudun-un-individu-de-nationalite-albanaise-agresse-sexuellement-une-gendarme-jetais-en-mode-dragueur/',\n",
       "  'https://www.profession-gendarme.com/chers-amis-desolee-dannoncer-un-genocide-naomi-wolf-sur-le-rapport-confidentiel-de-pfizer/',\n",
       "  'https://www.profession-gendarme.com/christian-perronne-au-defi-de-la-verite-publie-par-le-nejm/',\n",
       "  'https://www.profession-gendarme.com/christian-perronne-est-ce-la-variole-du-singe-la-nouvelle-variole-annoncee-par-bill-gates/',\n",
       "  'https://www.profession-gendarme.com/comment-on-a-condamne-mon-pere-a-mort/',\n",
       "  'https://www.profession-gendarme.com/compte-rendu-dun-gendarme-a-son-general-a-la-suite-du-refus-de-vaccination-covid-19/',\n",
       "  'https://www.profession-gendarme.com/concours-officier-de-gendarmerie-og-cat-a-session-2021/',\n",
       "  'https://www.profession-gendarme.com/condamne-par-la-justice-apres-une-interpellation-difficile-un-policier-decrit-sans-langue-de-bois-son-intervention/',\n",
       "  'https://www.profession-gendarme.com/congres-national-citoyen-arreter-la-trajectoire-decadente/',\n",
       "  'https://www.profession-gendarme.com/coronavirus-2-ans-de-mensonges-de-trouille-de-delires/',\n",
       "  'https://www.profession-gendarme.com/creation-de-lassociation-police-pour-la-verite/',\n",
       "  'https://www.profession-gendarme.com/damien-abad-accuse-de-viols-elisabeth-borne-assure-quelle-netait-pas-au-courant/',\n",
       "  'https://www.profession-gendarme.com/decision-n-2021-823-dc-du-13-aout-2021/',\n",
       "  'https://www.profession-gendarme.com/decision-portant-attribution-de-la-prime-de-haute-technicite-aux-sous-officiers-de-gendarmerie/',\n",
       "  'https://www.profession-gendarme.com/declaration-dengagement-de-responsabilite-civile-et-penale-pour-ladministration-du-vaccin-pfizerbiontech-ou-moderna-dans-le-cadre-de-la-covid-19/',\n",
       "  'https://www.profession-gendarme.com/decret-n-2020-1690-du-25-decembre-2020-autorisant-la-creation-dun-traitement-de-donnees-a-caractere-personnel-relatif-aux-vaccinations-contre-la-covid-19/',\n",
       "  'https://www.profession-gendarme.com/decret-n-2021-269-du-10-mars-2021-relatif-au-recours-a-la-video-intelligente-pour-mesurer-le-taux-de-port-de-masque-dans-les-transports/',\n",
       "  'https://www.profession-gendarme.com/dernieres-nouvelles-apres-analyse-medicale-les-tests-pcr-saverent-etre-un-outil-de-genocide/',\n",
       "  'https://www.profession-gendarme.com/des-fraudes-en-direct-sur-france-2/',\n",
       "  'https://www.profession-gendarme.com/diana-une-policiere-de-35-ans-et-maman-de-deux-enfants-a-mis-fin-a-ses-jours/',\n",
       "  'https://www.profession-gendarme.com/didier-raoult-fait-commandeur-de-lordre-national-du-lion-par-le-president-du-senegal/',\n",
       "  'https://www.profession-gendarme.com/directive-europeenne-sur-le-temps-de-travail/',\n",
       "  'https://www.profession-gendarme.com/discussion-hallucinante-hors-antenne-entre-un-medecin-et-un-journaliste/',\n",
       "  'https://www.profession-gendarme.com/disparition-de-vanille-a-angers-la-mere-avoue-lui-avoir-donne-la-mort-son-corps-retrouve/',\n",
       "  'https://www.profession-gendarme.com/donbass-une-defaite-ukrainienne-previsible/',\n",
       "  'https://www.profession-gendarme.com/dr-chris-shoemaker-les-enfants-vaxx-meurent-81-fois-plus/',\n",
       "  'https://www.profession-gendarme.com/drome-le-monde-sest-ecroule-pour-les-membres-de-la-famille-de-ce-policier-mais-ils-se-battent-pour-tiya/',\n",
       "  'https://www.profession-gendarme.com/en-relisant-aragon-a-nos-poilus/',\n",
       "  'https://www.profession-gendarme.com/enquete-les-consulting-boys-de-la-macronie/',\n",
       "  'https://www.profession-gendarme.com/epouville-nouveau-drame-dans-la-gendarmerie-nationale-un-militaire-sest-donne-la-mort-pres-du-havre/',\n",
       "  'https://www.profession-gendarme.com/esclaves-sexuelles-silence-a-1-million-deuros-les-sordides-secrets-du-pdg-dassu2000-ecroue-pour-viols/',\n",
       "  'https://www.profession-gendarme.com/essonne-une-policiere-devry-a-mis-fin-a-ses-jours/',\n",
       "  'https://www.profession-gendarme.com/et-des-fois-meme-en-te-pincant-tres-fort-tu-te-dis-non-ils-nont-pas-ose-et-bien-si/',\n",
       "  'https://www.profession-gendarme.com/face-aux-suicides-des-policiers-des-sentinelles-sont-formees-dans-les-yvelines-a-detecter-les-agents-en-detresse/',\n",
       "  'https://www.profession-gendarme.com/feed/',\n",
       "  'https://www.profession-gendarme.com/football-la-gardienne-de-but-aurelie-hans-decede-dun-arret-cardiaque/',\n",
       "  'https://www.profession-gendarme.com/forces-de-lordre-presentes-a-paris/',\n",
       "  'https://www.profession-gendarme.com/formulaire-de-contact/',\n",
       "  'https://www.profession-gendarme.com/frejus-il-se-presente-a-la-gendarmerie-avec-un-sac-contenant-une-tete-et-des-testicules/',\n",
       "  'https://www.profession-gendarme.com/gard-les-gendarmes-interceptent-une-voiture-roulant-a-174-km-h-les-militaires-effares-par-lage-du-conducteur/',\n",
       "  'https://www.profession-gendarme.com/gendarmerie-nationale-recrutement-en-ligne/',\n",
       "  'https://www.profession-gendarme.com/gendarmerie-nomination-et-promotion-dans-la-reserve-operationnelle/',\n",
       "  'https://www.profession-gendarme.com/gendarmerie-prime-de-haute-technicite/',\n",
       "  'https://www.profession-gendarme.com/gendarmerie-tableaux-davancement-annee-2021/',\n",
       "  'https://www.profession-gendarme.com/gendarmes-militaires-vous-netes-pas-seuls-non-a-votre-vaccination-obligatoire/',\n",
       "  'https://www.profession-gendarme.com/gironde-suicide-dun-policier-qui-etait-affecte-a-bordeaux/',\n",
       "  'https://www.profession-gendarme.com/guerre-de-france-preparation-des-citoyens-soldats-francais-au-combat-sur-le-territoire-national/',\n",
       "  'https://www.profession-gendarme.com/guerre-en-ukraine-tortures-de-prisonniers-russes-prouvees-par-des-videos-verifiees/',\n",
       "  'https://www.profession-gendarme.com/harcelement-moral-au-commissariat-de-tours-deux-policieres-deposent-plainte-contre-leur-hierarchie/',\n",
       "  'https://www.profession-gendarme.com/herault-le-maire-de-cers-qui-avait-annonce-sa-mort-prochaine-sur-facebook-est-decede/',\n",
       "  'https://www.profession-gendarme.com/hommage-a-luc-montagnier-prix-nobel-francais/',\n",
       "  'https://www.profession-gendarme.com/hopital-au-bord-de-lexplosion-nous-demandons-la-reintegration-des-15-000-soignants-suspendus/',\n",
       "  'https://www.profession-gendarme.com/hopital-saint-anne-segregation-sanitaire/',\n",
       "  'https://www.profession-gendarme.com/huit-ans-apres-le-gendarme-qui-avait-tue-un-detenu-a-colmar-innocente/',\n",
       "  'https://www.profession-gendarme.com/humour-et-rigolades/',\n",
       "  'https://www.profession-gendarme.com/il-affirme-savoir-ou-se-trouve-le-corps-de-delphine-jubillar-et-fait-une-description-des-lieux/',\n",
       "  'https://www.profession-gendarme.com/il-nest-jamais-trop-tard-pour-bien-faire/',\n",
       "  'https://www.profession-gendarme.com/impensable/',\n",
       "  'https://www.profession-gendarme.com/important-une-arme-juridique-pour-les-parents-source-magazine-nexus/',\n",
       "  'https://www.profession-gendarme.com/indochine-et-la-garde-republicaine-en-repetition/',\n",
       "  'https://www.profession-gendarme.com/info-la-depeche-toulouse-trois-jeunes-femmes-agressees-sexuellement-aux-minimes-ce-mercredi-le-predateur-sexuel-recherche/',\n",
       "  'https://www.profession-gendarme.com/jai-vu-des-femmes-se-faire-toucher-des-temoins-denoncent-des-agressions-sexuelles-au-stade-de-france/',\n",
       "  'https://www.profession-gendarme.com/je-suis-un-gendarme-refractaire-condamne-a-de-la-prison-avec-sursis/',\n",
       "  'https://www.profession-gendarme.com/jean-marie-bigard-complotiste-remix/',\n",
       "  'https://www.profession-gendarme.com/karim-ou-toufik-ou-karim-toufik-grande-vedette-de-la-tele-realite/',\n",
       "  'https://www.profession-gendarme.com/la-bretagne-piquee-au-vif-chaines-et-videos-sur-rumble-pour-la-bpav-cdmr-collectif-plouer/',\n",
       "  'https://www.profession-gendarme.com/la-bretagne-piquee-au-vif-temoignages-video-et-audio/',\n",
       "  'https://www.profession-gendarme.com/la-lettre-du-docteur-schmitz/',\n",
       "  'https://www.profession-gendarme.com/la-perte-de-confiance-du-procureur-de-la-republique-a-legard-dun-officier-de-police-judiciaire-justifie-la-mutation-doffice-dans-linteret-du-service-du-grade-en-cau/',\n",
       "  'https://www.profession-gendarme.com/la-pleine-lune-du-16-fevrier-2022-a-nice-et-la-mysterieuse-sphere-bleue-volante/',\n",
       "  'https://www.profession-gendarme.com/la-psychologue-clinicienne-ariane-bilheran-seuls-3-types-de-profils-resistent-au-deferlement-totalitaire/',\n",
       "  'https://www.profession-gendarme.com/la-tres-mauvaise-idee-de-la-troisieme-injection-anti-covid-sans-essai-prealable/',\n",
       "  'https://www.profession-gendarme.com/la-verite-sur-le-bataclan-patrick-jardin-ronald-guillaumont-et-alexandre-juving-brunet/',\n",
       "  'https://www.profession-gendarme.com/la-vie-hospitaliere-alerte-covid-19-et-d-dimeres/',\n",
       "  'https://www.profession-gendarme.com/la-vulnerabilite-dun-candidat-a-lengagement-de-nature-a-faire-peser-un-risque-sur-linstitution-militaire-et-resultant-de-son-environnement-proche-et-de-ses-frequentations/',\n",
       "  'https://www.profession-gendarme.com/laffaire-roukia-ou-les-ombres-de-mayotte/',\n",
       "  'https://www.profession-gendarme.com/lassociation-professionnelle-gendarmerie-est-en-deuil/',\n",
       "  'https://www.profession-gendarme.com/le-26-mars-des-militaires-dans-la-rue/',\n",
       "  'https://www.profession-gendarme.com/le-bilan-du-rattachement-de-la-gendarmerie-nationale-au-ministere-de-linterieur/',\n",
       "  'https://www.profession-gendarme.com/le-camping-des-abers-a-landeda-dans-le-finistere/',\n",
       "  'https://www.profession-gendarme.com/le-deuxieme-confinement-aura-lieu-entre-le-26-et-28-octobre-selon-des-emails-recus-par-des-entreprises/',\n",
       "  'https://www.profession-gendarme.com/le-dr-udo-ulfkotte-journaliste-allemand-parle-de-la-presse-occidentale-achetee-et-infiltree-par-la-cia/',\n",
       "  'https://www.profession-gendarme.com/le-passe-trouble-dedouard-leclerc-pendant-loccupation/',\n",
       "  'https://www.profession-gendarme.com/le-syndicat-de-police-alliance-depose-une-plainte-contre-jean-luc-melenchon-apres-son-tweet/',\n",
       "  'https://www.profession-gendarme.com/legislative-linfirmiere-qui-avait-caillasse-des-policiers-est-candidate-pour-la-france-insoumise/',\n",
       "  'https://www.profession-gendarme.com/legislatives-de-lukraine-a-le-pen-francis-lalanne-connait-par-coeur-les-refrains-complotistes/',\n",
       "  'https://www.profession-gendarme.com/legislatives-le-depeceur-de-montauban-veut-etre-depute-apres-24-ans-passe-en-prison/',\n",
       "  'https://www.profession-gendarme.com/lequitherapie-en-soutien-des-gendarmes-traumatises/',\n",
       "  'https://www.profession-gendarme.com/les-dernieres-revelations-sur-les-laboratoires-en-ukraine/',\n",
       "  'https://www.profession-gendarme.com/les-sanglots-longs-des-violons-de-lautomne/',\n",
       "  'https://www.profession-gendarme.com/les-voleurs-de-bijoux-se-faisaient-passer-pour-des-agents-des-eaux/',\n",
       "  'https://www.profession-gendarme.com/lespagne-admet-avoir-pulverise-des-chemtrails-dans-le-cadre-dun-programme-secret-de-lonu/',\n",
       "  'https://www.profession-gendarme.com/lettre-a-un-ami-ukrainien/',\n",
       "  'https://www.profession-gendarme.com/lettre-ouverte-a-la-france-et-aux-nations/',\n",
       "  'https://www.profession-gendarme.com/lettres-ouvertes-de-police-pour-la-verite/',\n",
       "  'https://www.profession-gendarme.com/liberte/',\n",
       "  'https://www.profession-gendarme.com/livre-dor/',\n",
       "  'https://www.profession-gendarme.com/loi-lagleize-un-nouveau-droit-de-propriete/',\n",
       "  'https://www.profession-gendarme.com/loms-reconnait-officiellement-que-ses-gros-chiffres-sur-la-mortalite-covid-etaient-faux/',\n",
       "  'https://www.profession-gendarme.com/lorganisme-deagel-prevoit-la-depopulation-mondiale-massive-de-50-a-80-dici-2025/',\n",
       "  'https://www.profession-gendarme.com/lotan-veut-mener-une-guerre-contre-la-russie-en-afrique-et-chasser-la-chine-hors-de-ce-continent/',\n",
       "  'https://www.profession-gendarme.com/lyon-un-homme-avec-son-bebe-de-2-mois-demande-a-un-individu-darreter-de-fumer-dans-le-tram-il-se-fait-violemment-agresser-regardez/',\n",
       "  'https://www.profession-gendarme.com/macron-une-interview-completement-dingue-ecoutez-ce-qu-il-dit-a-propos-des-soignants-suspendus-c-est-a-vomir-ce-type-est-dangereux/',\n",
       "  'https://www.profession-gendarme.com/manifestation-organisee-par-des-forces-de-lordre-de-toute-leurope/',\n",
       "  'https://www.profession-gendarme.com/manifestations-les-policiers-pries-de-mieux-sidentifier/',\n",
       "  'https://www.profession-gendarme.com/mantes-la-jolie-le-policier-municipal-se-jette-dans-la-seine-pour-sauver-une-jeune-femme/',\n",
       "  'https://www.profession-gendarme.com/marioupol-interview-du-journaliste-laurent-brayard-16-mai-2022/',\n",
       "  'https://www.profession-gendarme.com/marseille-le-medecin-militaire-poignarde-au-nom-de-dieu-devant-un-college-est-mort/',\n",
       "  'https://www.profession-gendarme.com/massif-du-semnoz-deux-gendarmes-en-repos-sauvent-la-vie-dun-randonneur-disparu/',\n",
       "  'https://www.profession-gendarme.com/mauvaise-nouvelle-pour-macron-lordre-des-medecins-dit-non-au-pass-sanitaire-obligatoire-dans-les-hopitaux/',\n",
       "  'https://www.profession-gendarme.com/me-virginie-de-araujo-recchia-communique-suite-a-sa-mise-en-garde-a-vue-par-la-dgsi/',\n",
       "  'https://www.profession-gendarme.com/medecin-poursuivi-pour-avoir-soigne-un-patient-covid/',\n",
       "  'https://www.profession-gendarme.com/menace-de-suspension-de-salaire-les-parades-existent/',\n",
       "  'https://www.profession-gendarme.com/mentions-legales/',\n",
       "  'https://www.profession-gendarme.com/message-du-csape-collectif-des-syndicats-et-associations-professionnels-europeens/',\n",
       "  'https://www.profession-gendarme.com/modification-pass-sanitaire-opj-16-automne-2021/',\n",
       "  'https://www.profession-gendarme.com/monsieur-melenchon-par-maitre-laurent-franck-lienard/',\n",
       "  'https://www.profession-gendarme.com/mont-de-marsan-une-femme-condamnee-pour-avoir-fait-ecouter-du-michel-sardou-a-son-ex-mari-pour-se-venger/',\n",
       "  'https://www.profession-gendarme.com/municipales-2020-lancienne-gilet-jaune-jacline-mouraud-rejetee-dans-la-liste-pour-son-village/',\n",
       "  'https://www.profession-gendarme.com/nice-age-de-9-ans-il-alerte-la-police-il-vient-de-voir-sa-mere-se-faire-tuer-a-larme-blanche-par-son-beau-pere/',\n",
       "  'https://www.profession-gendarme.com/non-a-la-vaccination-des-gendarmes/',\n",
       "  'https://www.profession-gendarme.com/non-aux-guerres-de-lotan/',\n",
       "  'https://www.profession-gendarme.com/nouveau-delire-totalitaire-un-an-de-prison-a-leur-frais-pour-les-nonvax-en-autriche/',\n",
       "  'https://www.profession-gendarme.com/nouvelle-categorie-de-maladie-de-peau/',\n",
       "  'https://www.profession-gendarme.com/objet-la-5g-le-virus-et-leffet-immunodepresseur-de-lexposition-prolongee-aux-ondes-electromagnetiques-de-radiofrequence/',\n",
       "  'https://www.profession-gendarme.com/omicron-ba-2-le-test-anal-pourrait-il-mieux-detecter-les-nouveaux-variants-du-covid-19/',\n",
       "  'https://www.profession-gendarme.com/operation-de-securite-en-mer-au-large-de-granville-dans-la-manche/',\n",
       "  'https://www.profession-gendarme.com/par-le-general-dominique-delawarde-aujourdhui-3-documents-que-vous-ne-trouverez-pas-dans-nos-medias-mainstream/',\n",
       "  'https://www.profession-gendarme.com/paris-verbalises-pour-possession-de-drapeau-francais/',\n",
       "  'https://www.profession-gendarme.com/parlement-europeen-proposition-de-resolution/',\n",
       "  'https://www.profession-gendarme.com/parthenay-89-gendarmes-sous-ses-ordres/',\n",
       "  'https://www.profession-gendarme.com/persistance-de-la-proteine-s1-du-cov-2-du-sras-dans-les-monocytes-cd16-des-sequelles-post-aigues-du-covid-19-pasc-jusqua-15-mois-apres-linfection/',\n",
       "  'https://www.profession-gendarme.com/personnes-suspendues-du-secteur-de-la-sante-le-scandale-sanitaire-supplementaire-francais/',\n",
       "  'https://www.profession-gendarme.com/petit-poeme-pour-vous-amis-policiers-et-gendarmes-bonne-journee/',\n",
       "  'https://www.profession-gendarme.com/police-pour-la-verite-manifestation-apolitique-et-internationale/',\n",
       "  'https://www.profession-gendarme.com/police-pour-la-verite-pplv/',\n",
       "  'https://www.profession-gendarme.com/policier-disparu-une-cagnotte-de-soutien-a-sa-famille-ouverte-par-ses-amis-et-collegues/',\n",
       "  'https://www.profession-gendarme.com/pour-les-enfants-de-diana-apres-le-drame-et-la-perte-de-cette-jeune-policiere-une-cagnotte-de-soutien-est-en-ligne/',\n",
       "  'https://www.profession-gendarme.com/pourquoi-les-mondialistes-veulent-ils-un-taux-de-vaccination-de-100/',\n",
       "  'https://www.profession-gendarme.com/presidentielle-2022-le-1er-tour-cetait-notre-vote-a-marseille-des-electeurs-radies-doffice-des-listes/',\n",
       "  'https://www.profession-gendarme.com/prime-de-haute-technicite-aux-sous-officiers-de-gendarmerie-3/',\n",
       "  'https://www.profession-gendarme.com/prime-de-qualification-superieure-aux-sous-officiers-de-la-gendarmerie-2/',\n",
       "  'https://www.profession-gendarme.com/prime-inflation-versee-aux-detenus/',\n",
       "  'https://www.profession-gendarme.com/professeur-christian-perronne-le-vaccin-covide-nest-pas-un-veritable-vaccin/',\n",
       "  'https://www.profession-gendarme.com/profession-gendarme-et-les-commentaires/',\n",
       "  'https://www.profession-gendarme.com/quand-le-ministere-des-armees-et-la-gendarmerie-nationale-deviennent-complice-de-la-plandemie-nationale-et-mondiale/',\n",
       "  'https://www.profession-gendarme.com/quand-les-beaux-parleurs-tombent-sur-un-cerveau-rappel/',\n",
       "  'https://www.profession-gendarme.com/qui-sommes-nous/',\n",
       "  'https://www.profession-gendarme.com/rand-paul-lelite-de-davos-veut-un-gouvernement-mondial-ce-nest-pas-une-theorie-complotiste/',\n",
       "  'https://www.profession-gendarme.com/rappel-a-la-loi-deuxieme-version/',\n",
       "  'https://www.profession-gendarme.com/rappel-a-la-loi/',\n",
       "  'https://www.profession-gendarme.com/rapport-annuel-dactivite-de-liggn-2020/',\n",
       "  'https://www.profession-gendarme.com/rapport-annuel-du-referent-deontologue-ministeriel-2019/',\n",
       "  'https://www.profession-gendarme.com/rapport-pfizer-la-bombe-dont-vous-ne-deviez-pas-entendre-parler/',\n",
       "  'https://www.profession-gendarme.com/rassemblement-des-militaires-marche-de-la-fierte-francaise/',\n",
       "  'https://www.profession-gendarme.com/recit-cauchemardesque-dune-famille-espagnole-a-saint-denis/',\n",
       "  'https://www.profession-gendarme.com/rectificatif-du-conseil-constitutionnel-1er-tour-des-elections-presidentielles/',\n",
       "  'https://www.profession-gendarme.com/rencontre-entre-le-general-coustou-et-les-responsables-du-site-profession-gendarme-et-de-lassociation-professionnelle-gendarmerie-apg/',\n",
       "  'https://www.profession-gendarme.com/renforcement-des-controles-relatifs-au-passe-sanitaire-telegramme-du-ministre-de-linterieur/',\n",
       "  'https://www.profession-gendarme.com/requiem-pour-leurope/',\n",
       "  'https://www.profession-gendarme.com/resolution-no-513-adoptee-par-lassemblee-nationale-pour-lacces-universel-rapide-et-equitable-du-vaccin-contre-le-covid-19/',\n",
       "  'https://www.profession-gendarme.com/ron-paul-la-guerre-en-ukraine-est-un-racket/',\n",
       "  'https://www.profession-gendarme.com/royaume-uni-la-police-formee-a-ne-plus-utiliser-des-termes-genres-ou-sexistes-tels-que-madame-mari-femme/',\n",
       "  'https://www.profession-gendarme.com/saint-etienne-la-police-nationale-lance-un-appel-a-temoins-apres-linquietante-disparition-dune-fille-de-14-ans/',\n",
       "  'https://www.profession-gendarme.com/sans-soignants-ni-medecins-pas-de-soins/',\n",
       "  'https://www.profession-gendarme.com/seine-et-marne-le-cortege-dun-mariage-bloque-la-francilienne-lun-des-individus-tente-decraser-un-policier/',\n",
       "  'https://www.profession-gendarme.com/sensass-un-amiral-us-capture-a-marioupol/',\n",
       "  'https://www.profession-gendarme.com/service-de-renseignement-grande-nation-cherche-arabisant-libre-de-suite/',\n",
       "  'https://www.profession-gendarme.com/silence-criminel-des-medias-sur-la-torture-en-ukraine-temoignage-accablant/',\n",
       "  'https://www.profession-gendarme.com/soutien-aux-resistants-suspendus/',\n",
       "  'https://www.profession-gendarme.com/strasbourg-une-femme-enceinte-accompagnee-de-son-conjoint-glisse-un-sos-a-la-pharmacienne-la-police-intervient/',\n",
       "  'https://www.profession-gendarme.com/suicide-gendarmerie-lettre-dadieu-du-major-jose-tesan/',\n",
       "  'https://www.profession-gendarme.com/tarbes-lors-de-son-mariage-il-insulte-et-donne-un-coup-de-tete-a-sa-femme/',\n",
       "  'https://www.profession-gendarme.com/teletravail-vous-en-revez-une-solution-inattendue/',\n",
       "  'https://www.profession-gendarme.com/temoignage-dun-medecin-dentiste-version-courte/',\n",
       "  'https://www.profession-gendarme.com/tenez-bon-message-de-noel/',\n",
       "  'https://www.profession-gendarme.com/trahi-par-son-adn-un-homme-accuse-dun-viol-commis-il-y-a-21-ans/',\n",
       "  'https://www.profession-gendarme.com/tristan-edelman-les-indomptables/',\n",
       "  'https://www.profession-gendarme.com/tueur-en-serie-un-ex-policier-soupconne-detre-le-grele-sest-suicide/',\n",
       "  'https://www.profession-gendarme.com/ukraine-bulletin-de-situation-86-de-xavier-moreau-et-laboratoires-biologiques/',\n",
       "  'https://www.profession-gendarme.com/un-adolescent-tue-19-ecoliers-et-deux-adultes-au-texas-lamerique-sous-le-choc/',\n",
       "  'https://www.profession-gendarme.com/un-article-dinteret-general-de-lassociation-professionnelle-gendarmerie-mensonges-et-complots-ou-recherche-de-la-verite-2/',\n",
       "  'https://www.profession-gendarme.com/un-document-pfizer-admet-que-les-personnes-vaccinees-repandent-des-particules-infectieuses/',\n",
       "  'https://www.profession-gendarme.com/un-gendarme-de-la-compagnie-de-securite-de-la-presidence-de-la-republique-sest-suicide-a-lelysee/',\n",
       "  'https://www.profession-gendarme.com/un-homme-en-etat-debriete-touche-les-parties-intimes-dun-gendarme-et-ecope-dun-an-de-prison/',\n",
       "  'https://www.profession-gendarme.com/un-policier-de-hazebrouck-a-mis-fin-a-ses-jours/',\n",
       "  'https://www.profession-gendarme.com/un-policier-de-perpignan-a-mis-fin-a-ses-jours/',\n",
       "  'https://www.profession-gendarme.com/un-policier-sauve-de-justesse-un-bebe-de-4-mois-grace-a-un-massage-cardiaque-regardez/',\n",
       "  'https://www.profession-gendarme.com/un-retraite-en-difficulte-ne-peut-pas-payer-ses-courses-une-cliente-les-lui-offre/',\n",
       "  'https://www.profession-gendarme.com/une-obligation-vaccinale-de-facto-alors-que-non-prevue-par-la-loi/',\n",
       "  'https://www.profession-gendarme.com/une-ong-vient-de-se-creer-recemment-et-se-propose-de-soigner-des-personnes-sorties-du-circuit-classique-de-soin/',\n",
       "  'https://www.profession-gendarme.com/urgent-paris-trois-policiers-en-garde-a-vue-apres-les-tirs-lors-dun-refus-dobtemperer/',\n",
       "  'https://www.profession-gendarme.com/urgent-solidarite-envers-les-personnels-suspendus/',\n",
       "  'https://www.profession-gendarme.com/vaccins-contre-la-covid-19-considerations-ethiques-juridiques-et-pratiques-3/',\n",
       "  'https://www.profession-gendarme.com/val-de-marne-un-policier-affecte-a-vincennes-sest-suicide/',\n",
       "  'https://www.profession-gendarme.com/var-ll-abime-sa-voiture-sur-un-dos-dane-et-envoie-la-facture-de-2-500-e-au-conseil-departemental/',\n",
       "  'https://www.profession-gendarme.com/variole-du-singe-vers-une-nouvelle-pandemie/',\n",
       "  'https://www.profession-gendarme.com/villiers-sur-marne-les-policiers-interpellent-un-forcene-arme-dans-un-appartement/',\n",
       "  'https://www.profession-gendarme.com/y-a-t-il-eu-une-hecatombe-quelque-part/'},\n",
       " 'list_links': {'https://www.profession-gendarme.com/category/actualites/',\n",
       "  'https://www.profession-gendarme.com/category/actualites/page/2/',\n",
       "  'https://www.profession-gendarme.com/category/actualites/page/3/',\n",
       "  'https://www.profession-gendarme.com/category/actualites/page/4/',\n",
       "  'https://www.profession-gendarme.com/category/actualites/page/5/',\n",
       "  'https://www.profession-gendarme.com/category/faits-divers/',\n",
       "  'https://www.profession-gendarme.com/category/faits-divers/page/2/',\n",
       "  'https://www.profession-gendarme.com/category/faits-divers/page/3/',\n",
       "  'https://www.profession-gendarme.com/category/faits-divers/page/4/',\n",
       "  'https://www.profession-gendarme.com/category/faits-divers/page/5/',\n",
       "  'https://www.profession-gendarme.com/category/insolite/',\n",
       "  'https://www.profession-gendarme.com/category/insolite/page/2/',\n",
       "  'https://www.profession-gendarme.com/category/insolite/page/3/',\n",
       "  'https://www.profession-gendarme.com/category/insolite/page/4/',\n",
       "  'https://www.profession-gendarme.com/category/insolite/page/5/',\n",
       "  'https://www.profession-gendarme.com/category/lassociation/',\n",
       "  'https://www.profession-gendarme.com/category/lassociation/page/2/',\n",
       "  'https://www.profession-gendarme.com/category/lassociation/page/3/',\n",
       "  'https://www.profession-gendarme.com/category/lassociation/page/4/',\n",
       "  'https://www.profession-gendarme.com/category/lassociation/page/5/',\n",
       "  'https://www.profession-gendarme.com/category/non-classe/',\n",
       "  'https://www.profession-gendarme.com/category/non-classe/page/2/',\n",
       "  'https://www.profession-gendarme.com/category/non-classe/page/3/',\n",
       "  'https://www.profession-gendarme.com/category/non-classe/page/4/',\n",
       "  'https://www.profession-gendarme.com/category/textes-reglementaires/',\n",
       "  'https://www.profession-gendarme.com/category/textes-reglementaires/page/2/',\n",
       "  'https://www.profession-gendarme.com/category/textes-reglementaires/page/3/',\n",
       "  'https://www.profession-gendarme.com/category/textes-reglementaires/page/4/',\n",
       "  'https://www.profession-gendarme.com/category/textes-reglementaires/page/5/',\n",
       "  'https://www.profession-gendarme.com/category/tribune/',\n",
       "  'https://www.profession-gendarme.com/category/tribune/page/2/',\n",
       "  'https://www.profession-gendarme.com/category/tribune/page/3/',\n",
       "  'https://www.profession-gendarme.com/category/tribune/page/4/',\n",
       "  'https://www.profession-gendarme.com/category/tribune/page/5/'},\n",
       " 'crawled_links': {'https://www.profession-gendarme.com/',\n",
       "  'https://www.profession-gendarme.com/category/actualites/',\n",
       "  'https://www.profession-gendarme.com/category/actualites/page/2/',\n",
       "  'https://www.profession-gendarme.com/category/actualites/page/3/',\n",
       "  'https://www.profession-gendarme.com/category/actualites/page/4/',\n",
       "  'https://www.profession-gendarme.com/category/faits-divers/',\n",
       "  'https://www.profession-gendarme.com/category/faits-divers/page/2/',\n",
       "  'https://www.profession-gendarme.com/category/faits-divers/page/3/',\n",
       "  'https://www.profession-gendarme.com/category/faits-divers/page/4/',\n",
       "  'https://www.profession-gendarme.com/category/insolite/',\n",
       "  'https://www.profession-gendarme.com/category/insolite/page/2/',\n",
       "  'https://www.profession-gendarme.com/category/insolite/page/3/',\n",
       "  'https://www.profession-gendarme.com/category/insolite/page/4/',\n",
       "  'https://www.profession-gendarme.com/category/lassociation/',\n",
       "  'https://www.profession-gendarme.com/category/lassociation/page/2/',\n",
       "  'https://www.profession-gendarme.com/category/lassociation/page/3/',\n",
       "  'https://www.profession-gendarme.com/category/lassociation/page/4/',\n",
       "  'https://www.profession-gendarme.com/category/non-classe/',\n",
       "  'https://www.profession-gendarme.com/category/non-classe/page/2/',\n",
       "  'https://www.profession-gendarme.com/category/non-classe/page/3/',\n",
       "  'https://www.profession-gendarme.com/category/non-classe/page/4/',\n",
       "  'https://www.profession-gendarme.com/category/textes-reglementaires/',\n",
       "  'https://www.profession-gendarme.com/category/textes-reglementaires/page/2/',\n",
       "  'https://www.profession-gendarme.com/category/textes-reglementaires/page/3/',\n",
       "  'https://www.profession-gendarme.com/category/textes-reglementaires/page/4/',\n",
       "  'https://www.profession-gendarme.com/category/tribune/',\n",
       "  'https://www.profession-gendarme.com/category/tribune/page/2/',\n",
       "  'https://www.profession-gendarme.com/category/tribune/page/3/',\n",
       "  'https://www.profession-gendarme.com/category/tribune/page/4/'}}"
      ]
     },
     "execution_count": 41,
     "metadata": {},
     "output_type": "execute_result"
    }
   ],
   "source": []
  },
  {
   "cell_type": "code",
   "execution_count": 40,
   "id": "4a1b278d",
   "metadata": {},
   "outputs": [
    {
     "data": {
      "text/plain": [
       "['https://www.profession-gendarme.com/category/faits-divers/page/4/',\n",
       " 'https://www.profession-gendarme.com/category/lassociation/page/4/',\n",
       " 'https://www.profession-gendarme.com/category/tribune/page/4/',\n",
       " 'https://www.profession-gendarme.com/category/non-classe/page/4/',\n",
       " 'https://www.profession-gendarme.com/category/textes-reglementaires/page/4/',\n",
       " 'https://www.profession-gendarme.com/category/actualites/page/4/',\n",
       " 'https://www.profession-gendarme.com/category/insolite/page/4/']"
      ]
     },
     "execution_count": 40,
     "metadata": {},
     "output_type": "execute_result"
    }
   ],
   "source": [
    "visit_next =[]\n",
    "for url in crawler._crawl_map['list_links']:\n",
    "    if url not in crawler._crawl_map['crawled_links']:\n",
    "        visit_next.append(url)\n",
    "visit_next"
   ]
  },
  {
   "cell_type": "markdown",
   "id": "67442f3d",
   "metadata": {},
   "source": [
    "# Importation et parsing des nouveaux articles"
   ]
  },
  {
   "cell_type": "code",
   "execution_count": 19,
   "id": "aae1bcf7",
   "metadata": {},
   "outputs": [
    {
     "data": {
      "text/plain": [
       "188"
      ]
     },
     "execution_count": 19,
     "metadata": {},
     "output_type": "execute_result"
    }
   ],
   "source": [
    "len(crawler._crawl_map['article_links'])"
   ]
  },
  {
   "cell_type": "code",
   "execution_count": 20,
   "id": "0f5d7419",
   "metadata": {},
   "outputs": [],
   "source": [
    "import patat.imp.parser"
   ]
  },
  {
   "cell_type": "code",
   "execution_count": 21,
   "id": "fbd8a9d7",
   "metadata": {},
   "outputs": [],
   "source": [
    "parser = patat.imp.parser.Parser()"
   ]
  },
  {
   "cell_type": "code",
   "execution_count": 22,
   "id": "07e3a409",
   "metadata": {},
   "outputs": [
    {
     "name": "stdout",
     "output_type": "stream",
     "text": [
      "1 https://www.profession-gendarme.com/policier-disparu-une-cagnotte-de-soutien-a-sa-famille-ouverte-par-ses-amis-et-collegues/\n",
      "2 https://www.profession-gendarme.com/blanquer-rigole-face-a-une-maman-qui-a-perdu-son-mari-suite-a-injection-covid-19/\n",
      "3 https://www.profession-gendarme.com/la-pleine-lune-du-16-fevrier-2022-a-nice-et-la-mysterieuse-sphere-bleue-volante/\n",
      "4 https://www.profession-gendarme.com/pour-les-enfants-de-diana-apres-le-drame-et-la-perte-de-cette-jeune-policiere-une-cagnotte-de-soutien-est-en-ligne/\n",
      "5 https://www.profession-gendarme.com/rappel-a-la-loi/\n",
      "6 https://www.profession-gendarme.com/un-gendarme-de-la-compagnie-de-securite-de-la-presidence-de-la-republique-sest-suicide-a-lelysee/\n",
      "7 https://www.profession-gendarme.com/esclaves-sexuelles-silence-a-1-million-deuros-les-sordides-secrets-du-pdg-dassu2000-ecroue-pour-viols/\n",
      "8 https://www.profession-gendarme.com/hommage-a-luc-montagnier-prix-nobel-francais/\n",
      "9 https://www.profession-gendarme.com/ukraine-bulletin-de-situation-86-de-xavier-moreau-et-laboratoires-biologiques/\n",
      "10 https://www.profession-gendarme.com/il-nest-jamais-trop-tard-pour-bien-faire/\n",
      "11 https://www.profession-gendarme.com/me-virginie-de-araujo-recchia-communique-suite-a-sa-mise-en-garde-a-vue-par-la-dgsi/\n",
      "12 https://www.profession-gendarme.com/strasbourg-une-femme-enceinte-accompagnee-de-son-conjoint-glisse-un-sos-a-la-pharmacienne-la-police-intervient/\n",
      "13 https://www.profession-gendarme.com/police-pour-la-verite-pplv/\n",
      "14 https://www.profession-gendarme.com/avis-sur-les-rapports-entre-la-police-et-la-population-cncdh/\n",
      "15 https://www.profession-gendarme.com/tueur-en-serie-un-ex-policier-soupconne-detre-le-grele-sest-suicide/\n",
      "16 https://www.profession-gendarme.com/petit-poeme-pour-vous-amis-policiers-et-gendarmes-bonne-journee/\n",
      "17 https://www.profession-gendarme.com/une-ong-vient-de-se-creer-recemment-et-se-propose-de-soigner-des-personnes-sorties-du-circuit-classique-de-soin/\n",
      "18 https://www.profession-gendarme.com/service-de-renseignement-grande-nation-cherche-arabisant-libre-de-suite/\n",
      "19 https://www.profession-gendarme.com/macron-une-interview-completement-dingue-ecoutez-ce-qu-il-dit-a-propos-des-soignants-suspendus-c-est-a-vomir-ce-type-est-dangereux/\n",
      "20 https://www.profession-gendarme.com/police-pour-la-verite-manifestation-apolitique-et-internationale/\n",
      "21 https://www.profession-gendarme.com/le-deuxieme-confinement-aura-lieu-entre-le-26-et-28-octobre-selon-des-emails-recus-par-des-entreprises/\n",
      "22 https://www.profession-gendarme.com/decision-n-2021-823-dc-du-13-aout-2021/\n",
      "23 https://www.profession-gendarme.com/annecy-il-grille-un-feu-rouge-devant-les-policiers-mais-ne-sera-pas-verbalise/\n",
      "24 https://www.profession-gendarme.com/manifestation-organisee-par-des-forces-de-lordre-de-toute-leurope/\n",
      "25 https://www.profession-gendarme.com/epouville-nouveau-drame-dans-la-gendarmerie-nationale-un-militaire-sest-donne-la-mort-pres-du-havre/\n",
      "26 https://www.profession-gendarme.com/didier-raoult-fait-commandeur-de-lordre-national-du-lion-par-le-president-du-senegal/\n",
      "27 https://www.profession-gendarme.com/lettre-ouverte-a-la-france-et-aux-nations/\n",
      "28 https://www.profession-gendarme.com/ron-paul-la-guerre-en-ukraine-est-un-racket/\n",
      "29 https://www.profession-gendarme.com/le-26-mars-des-militaires-dans-la-rue/\n",
      "30 https://www.profession-gendarme.com/professeur-christian-perronne-le-vaccin-covide-nest-pas-un-veritable-vaccin/\n",
      "31 https://www.profession-gendarme.com/indochine-et-la-garde-republicaine-en-repetition/\n",
      "32 https://www.profession-gendarme.com/allemagne-echec-du-miracle-du-transport-electrique/\n",
      "33 https://www.profession-gendarme.com/guerre-de-france-preparation-des-citoyens-soldats-francais-au-combat-sur-le-territoire-national/\n",
      "34 https://www.profession-gendarme.com/lorganisme-deagel-prevoit-la-depopulation-mondiale-massive-de-50-a-80-dici-2025/\n",
      "35 https://www.profession-gendarme.com/cest-une-obsession-tous-les-jours-de-trouver-de-la-place-pour-les-malades/\n",
      "36 https://www.profession-gendarme.com/carte-electorale-un-qr-code-pour-acceder-a-toutes-vos-demarches/\n",
      "37 https://www.profession-gendarme.com/mentions-legales/\n",
      "38 https://www.profession-gendarme.com/le-dr-udo-ulfkotte-journaliste-allemand-parle-de-la-presse-occidentale-achetee-et-infiltree-par-la-cia/\n",
      "39 https://www.profession-gendarme.com/prime-de-qualification-superieure-aux-sous-officiers-de-la-gendarmerie-2/\n",
      "40 https://www.profession-gendarme.com/prime-inflation-versee-aux-detenus/\n",
      "41 https://www.profession-gendarme.com/par-le-general-dominique-delawarde-aujourdhui-3-documents-que-vous-ne-trouverez-pas-dans-nos-medias-mainstream/\n",
      "42 https://www.profession-gendarme.com/concours-officier-de-gendarmerie-og-cat-a-session-2021/\n",
      "43 https://www.profession-gendarme.com/discussion-hallucinante-hors-antenne-entre-un-medecin-et-un-journaliste/\n",
      "44 https://www.profession-gendarme.com/mauvaise-nouvelle-pour-macron-lordre-des-medecins-dit-non-au-pass-sanitaire-obligatoire-dans-les-hopitaux/\n",
      "45 https://www.profession-gendarme.com/rapport-annuel-dactivite-de-liggn-2020/\n",
      "46 https://www.profession-gendarme.com/urgent-paris-trois-policiers-en-garde-a-vue-apres-les-tirs-lors-dun-refus-dobtemperer/\n",
      "47 https://www.profession-gendarme.com/herault-le-maire-de-cers-qui-avait-annonce-sa-mort-prochaine-sur-facebook-est-decede/\n",
      "48 https://www.profession-gendarme.com/formulaire-de-contact/\n",
      "49 https://www.profession-gendarme.com/tarbes-lors-de-son-mariage-il-insulte-et-donne-un-coup-de-tete-a-sa-femme/\n",
      "50 https://www.profession-gendarme.com/frejus-il-se-presente-a-la-gendarmerie-avec-un-sac-contenant-une-tete-et-des-testicules/\n",
      "51 https://www.profession-gendarme.com/impensable/\n",
      "52 https://www.profession-gendarme.com/canada-des-agriculteurs-se-joignent-au-convoi-de-la-liberte-et-franchissent-les-barricades-de-la-police/\n",
      "53 https://www.profession-gendarme.com/presidentielle-2022-le-1er-tour-cetait-notre-vote-a-marseille-des-electeurs-radies-doffice-des-listes/\n",
      "54 https://www.profession-gendarme.com/compte-rendu-dun-gendarme-a-son-general-a-la-suite-du-refus-de-vaccination-covid-19/\n",
      "55 https://www.profession-gendarme.com/menace-de-suspension-de-salaire-les-parades-existent/\n",
      "56 https://www.profession-gendarme.com/condamne-par-la-justice-apres-une-interpellation-difficile-un-policier-decrit-sans-langue-de-bois-son-intervention/\n",
      "57 https://www.profession-gendarme.com/analyse-de-lactivite-hospitaliere-2020-covid19/\n",
      "58 https://www.profession-gendarme.com/rapport-pfizer-la-bombe-dont-vous-ne-deviez-pas-entendre-parler/\n",
      "59 https://www.profession-gendarme.com/rectificatif-du-conseil-constitutionnel-1er-tour-des-elections-presidentielles/\n",
      "60 https://www.profession-gendarme.com/lassociation-professionnelle-gendarmerie-est-en-deuil/\n",
      "61 https://www.profession-gendarme.com/congres-national-citoyen-arreter-la-trajectoire-decadente/\n",
      "62 https://www.profession-gendarme.com/essonne-une-policiere-devry-a-mis-fin-a-ses-jours/\n",
      "63 https://www.profession-gendarme.com/loms-reconnait-officiellement-que-ses-gros-chiffres-sur-la-mortalite-covid-etaient-faux/\n",
      "64 https://www.profession-gendarme.com/assemblee-franco-italienne-du-29-janvier-a-paris/\n",
      "65 https://www.profession-gendarme.com/lettres-ouvertes-de-police-pour-la-verite/\n",
      "66 https://www.profession-gendarme.com/suicide-gendarmerie-lettre-dadieu-du-major-jose-tesan/\n",
      "67 https://www.profession-gendarme.com/villiers-sur-marne-les-policiers-interpellent-un-forcene-arme-dans-un-appartement/\n",
      "68 https://www.profession-gendarme.com/seine-et-marne-le-cortege-dun-mariage-bloque-la-francilienne-lun-des-individus-tente-decraser-un-policier/\n",
      "69 https://www.profession-gendarme.com/objet-la-5g-le-virus-et-leffet-immunodepresseur-de-lexposition-prolongee-aux-ondes-electromagnetiques-de-radiofrequence/\n",
      "70 https://www.profession-gendarme.com/arrete-du-8-juin-2021-fixant-les-conditions-physiques-et-medicales-daptitude-exigees-des-personnels-militaires-de-la-gendarmerie-nationale-et-des-candidats-a-ladmission-en-gendarmerie/\n",
      "71 https://www.profession-gendarme.com/chateaudun-un-individu-de-nationalite-albanaise-agresse-sexuellement-une-gendarme-jetais-en-mode-dragueur/\n",
      "72 https://www.profession-gendarme.com/al-jazeera-filme-par-hasard-des-soldats-ukrainiens-utilisant-des-ambulances-de-la-croix-rouge-pour-se-deplacer-video/\n"
     ]
    },
    {
     "name": "stdout",
     "output_type": "stream",
     "text": [
      "73 https://www.profession-gendarme.com/gironde-suicide-dun-policier-qui-etait-affecte-a-bordeaux/\n",
      "74 https://www.profession-gendarme.com/persistance-de-la-proteine-s1-du-cov-2-du-sras-dans-les-monocytes-cd16-des-sequelles-post-aigues-du-covid-19-pasc-jusqua-15-mois-apres-linfection/\n",
      "75 https://www.profession-gendarme.com/gendarmes-militaires-vous-netes-pas-seuls-non-a-votre-vaccination-obligatoire/\n",
      "76 https://www.profession-gendarme.com/chers-amis-desolee-dannoncer-un-genocide-naomi-wolf-sur-le-rapport-confidentiel-de-pfizer/\n",
      "77 https://www.profession-gendarme.com/la-bretagne-piquee-au-vif-temoignages-video-et-audio/\n",
      "78 https://www.profession-gendarme.com/humour-et-rigolades/\n",
      "79 https://www.profession-gendarme.com/marseille-le-medecin-militaire-poignarde-au-nom-de-dieu-devant-un-college-est-mort/\n",
      "80 https://www.profession-gendarme.com/gard-les-gendarmes-interceptent-une-voiture-roulant-a-174-km-h-les-militaires-effares-par-lage-du-conducteur/\n",
      "81 https://www.profession-gendarme.com/royaume-uni-la-police-formee-a-ne-plus-utiliser-des-termes-genres-ou-sexistes-tels-que-madame-mari-femme/\n",
      "82 https://www.profession-gendarme.com/feed/\n",
      "83 https://www.profession-gendarme.com/vaccins-contre-la-covid-19-considerations-ethiques-juridiques-et-pratiques-3/\n"
     ]
    },
    {
     "name": "stderr",
     "output_type": "stream",
     "text": [
      "/Users/fm/Desktop/Work/Patat/patat-env/lib/python3.9/site-packages/bs4/builder/__init__.py:545: XMLParsedAsHTMLWarning: It looks like you're parsing an XML document using an HTML parser. If this really is an HTML document (maybe it's XHTML?), you can ignore or filter this warning. If it's XML, you should know that using an XML parser will be more reliable. To parse this document as XML, make sure you have the lxml package installed, and pass the keyword argument `features=\"xml\"` into the BeautifulSoup constructor.\n",
      "  warnings.warn(\n"
     ]
    },
    {
     "name": "stdout",
     "output_type": "stream",
     "text": [
      "84 https://www.profession-gendarme.com/la-vie-hospitaliere-alerte-covid-19-et-d-dimeres/\n",
      "85 https://www.profession-gendarme.com/un-retraite-en-difficulte-ne-peut-pas-payer-ses-courses-une-cliente-les-lui-offre/\n",
      "86 https://www.profession-gendarme.com/declaration-dengagement-de-responsabilite-civile-et-penale-pour-ladministration-du-vaccin-pfizerbiontech-ou-moderna-dans-le-cadre-de-la-covid-19/\n",
      "87 https://www.profession-gendarme.com/dernieres-nouvelles-apres-analyse-medicale-les-tests-pcr-saverent-etre-un-outil-de-genocide/\n",
      "88 https://www.profession-gendarme.com/tristan-edelman-les-indomptables/\n",
      "89 https://www.profession-gendarme.com/saint-etienne-la-police-nationale-lance-un-appel-a-temoins-apres-linquietante-disparition-dune-fille-de-14-ans/\n",
      "90 https://www.profession-gendarme.com/je-suis-un-gendarme-refractaire-condamne-a-de-la-prison-avec-sursis/\n",
      "91 https://www.profession-gendarme.com/chambourcy-un-policier-municipal-se-suicide-avec-son-arme-de-service/\n",
      "92 https://www.profession-gendarme.com/dr-chris-shoemaker-les-enfants-vaxx-meurent-81-fois-plus/\n",
      "93 https://www.profession-gendarme.com/personnes-suspendues-du-secteur-de-la-sante-le-scandale-sanitaire-supplementaire-francais/\n",
      "94 https://www.profession-gendarme.com/jai-vu-des-femmes-se-faire-toucher-des-temoins-denoncent-des-agressions-sexuelles-au-stade-de-france/\n",
      "95 https://www.profession-gendarme.com/quand-le-ministere-des-armees-et-la-gendarmerie-nationale-deviennent-complice-de-la-plandemie-nationale-et-mondiale/\n",
      "96 https://www.profession-gendarme.com/les-voleurs-de-bijoux-se-faisaient-passer-pour-des-agents-des-eaux/\n",
      "97 https://www.profession-gendarme.com/des-fraudes-en-direct-sur-france-2/\n",
      "98 https://www.profession-gendarme.com/un-article-dinteret-general-de-lassociation-professionnelle-gendarmerie-mensonges-et-complots-ou-recherche-de-la-verite-2/\n",
      "99 https://www.profession-gendarme.com/lyon-un-homme-avec-son-bebe-de-2-mois-demande-a-un-individu-darreter-de-fumer-dans-le-tram-il-se-fait-violemment-agresser-regardez/\n",
      "100 https://www.profession-gendarme.com/forces-de-lordre-presentes-a-paris/\n",
      "101 https://www.profession-gendarme.com/renforcement-des-controles-relatifs-au-passe-sanitaire-telegramme-du-ministre-de-linterieur/\n",
      "102 https://www.profession-gendarme.com/legislatives-de-lukraine-a-le-pen-francis-lalanne-connait-par-coeur-les-refrains-complotistes/\n",
      "103 https://www.profession-gendarme.com/la-lettre-du-docteur-schmitz/\n",
      "104 https://www.profession-gendarme.com/profession-gendarme-et-les-commentaires/\n",
      "105 https://www.profession-gendarme.com/var-ll-abime-sa-voiture-sur-un-dos-dane-et-envoie-la-facture-de-2-500-e-au-conseil-departemental/\n",
      "106 https://www.profession-gendarme.com/qui-sommes-nous/\n",
      "107 https://www.profession-gendarme.com/le-syndicat-de-police-alliance-depose-une-plainte-contre-jean-luc-melenchon-apres-son-tweet/\n",
      "108 https://www.profession-gendarme.com/il-affirme-savoir-ou-se-trouve-le-corps-de-delphine-jubillar-et-fait-une-description-des-lieux/\n",
      "109 https://www.profession-gendarme.com/loi-lagleize-un-nouveau-droit-de-propriete/\n",
      "110 https://www.profession-gendarme.com/marioupol-interview-du-journaliste-laurent-brayard-16-mai-2022/\n",
      "111 https://www.profession-gendarme.com/mont-de-marsan-une-femme-condamnee-pour-avoir-fait-ecouter-du-michel-sardou-a-son-ex-mari-pour-se-venger/\n",
      "112 https://www.profession-gendarme.com/candidats-admis-au-concours-og-univ-session-2021/\n",
      "113 https://www.profession-gendarme.com/creation-de-lassociation-police-pour-la-verite/\n",
      "114 https://www.profession-gendarme.com/trahi-par-son-adn-un-homme-accuse-dun-viol-commis-il-y-a-21-ans/\n",
      "115 https://www.profession-gendarme.com/manifestations-les-policiers-pries-de-mieux-sidentifier/\n",
      "116 https://www.profession-gendarme.com/christian-perronne-au-defi-de-la-verite-publie-par-le-nejm/\n",
      "117 https://www.profession-gendarme.com/omicron-ba-2-le-test-anal-pourrait-il-mieux-detecter-les-nouveaux-variants-du-covid-19/\n",
      "118 https://www.profession-gendarme.com/huit-ans-apres-le-gendarme-qui-avait-tue-un-detenu-a-colmar-innocente/\n",
      "119 https://www.profession-gendarme.com/sans-soignants-ni-medecins-pas-de-soins/\n",
      "120 https://www.profession-gendarme.com/teletravail-vous-en-revez-une-solution-inattendue/\n",
      "121 https://www.profession-gendarme.com/decret-n-2021-269-du-10-mars-2021-relatif-au-recours-a-la-video-intelligente-pour-mesurer-le-taux-de-port-de-masque-dans-les-transports/\n",
      "122 https://www.profession-gendarme.com/15eme-rapport-du-haut-comite-devaluation-de-la-condition-militaire/\n",
      "123 https://www.profession-gendarme.com/antiseche-en-10-points-pour-reinformer-les-complotosceptiques/\n",
      "124 https://www.profession-gendarme.com/medecin-poursuivi-pour-avoir-soigne-un-patient-covid/\n",
      "125 https://www.profession-gendarme.com/rappel-a-la-loi-deuxieme-version/\n",
      "126 https://www.profession-gendarme.com/a-brest-un-policier-soupconne-de-tags-provocateurs-a-pontanezen/\n",
      "127 https://www.profession-gendarme.com/charte-de-bonne-conduite/\n",
      "128 https://www.profession-gendarme.com/mantes-la-jolie-le-policier-municipal-se-jette-dans-la-seine-pour-sauver-une-jeune-femme/\n",
      "129 https://www.profession-gendarme.com/le-bilan-du-rattachement-de-la-gendarmerie-nationale-au-ministere-de-linterieur/\n",
      "130 https://www.profession-gendarme.com/modification-pass-sanitaire-opj-16-automne-2021/\n",
      "131 https://www.profession-gendarme.com/gendarmerie-nationale-recrutement-en-ligne/\n",
      "132 https://www.profession-gendarme.com/disparition-de-vanille-a-angers-la-mere-avoue-lui-avoir-donne-la-mort-son-corps-retrouve/\n",
      "133 https://www.profession-gendarme.com/les-sanglots-longs-des-violons-de-lautomne/\n",
      "134 https://www.profession-gendarme.com/diana-une-policiere-de-35-ans-et-maman-de-deux-enfants-a-mis-fin-a-ses-jours/\n",
      "135 https://www.profession-gendarme.com/la-psychologue-clinicienne-ariane-bilheran-seuls-3-types-de-profils-resistent-au-deferlement-totalitaire/\n",
      "136 https://www.profession-gendarme.com/une-obligation-vaccinale-de-facto-alors-que-non-prevue-par-la-loi/\n",
      "137 https://www.profession-gendarme.com/affaire-assu-2000-qui-est-lancien-gendarme-place-en-detention-provisoire/\n",
      "138 https://www.profession-gendarme.com/face-aux-suicides-des-policiers-des-sentinelles-sont-formees-dans-les-yvelines-a-detecter-les-agents-en-detresse/\n",
      "139 https://www.profession-gendarme.com/christian-perronne-est-ce-la-variole-du-singe-la-nouvelle-variole-annoncee-par-bill-gates/\n",
      "140 https://www.profession-gendarme.com/municipales-2020-lancienne-gilet-jaune-jacline-mouraud-rejetee-dans-la-liste-pour-son-village/\n",
      "141 https://www.profession-gendarme.com/parlement-europeen-proposition-de-resolution/\n",
      "142 https://www.profession-gendarme.com/jean-marie-bigard-complotiste-remix/\n",
      "143 https://www.profession-gendarme.com/le-camping-des-abers-a-landeda-dans-le-finistere/\n",
      "144 https://www.profession-gendarme.com/laffaire-roukia-ou-les-ombres-de-mayotte/\n",
      "145 https://www.profession-gendarme.com/103664-2/\n",
      "146 https://www.profession-gendarme.com/rapport-annuel-du-referent-deontologue-ministeriel-2019/\n",
      "147 https://www.profession-gendarme.com/massif-du-semnoz-deux-gendarmes-en-repos-sauvent-la-vie-dun-randonneur-disparu/\n",
      "148 https://www.profession-gendarme.com/alors-ca-gaze/\n",
      "149 https://www.profession-gendarme.com/attali-souhaite-que-les-complotistes-soient-pourchasses-pour-les-mensonges-quils-vehiculent/\n",
      "150 https://www.profession-gendarme.com/carte-communique-convoy-france/\n",
      "151 https://www.profession-gendarme.com/chaos-au-stade-de-france-je-nai-jamais-eu-aussi-peur-le-temoignage-horrifie-du-combattant-ufc-paddy-pimblett/\n",
      "152 https://www.profession-gendarme.com/damien-abad-accuse-de-viols-elisabeth-borne-assure-quelle-netait-pas-au-courant/\n",
      "153 https://www.profession-gendarme.com/un-policier-de-perpignan-a-mis-fin-a-ses-jours/\n",
      "154 https://www.profession-gendarme.com/nouvelle-categorie-de-maladie-de-peau/\n",
      "155 https://www.profession-gendarme.com/important-une-arme-juridique-pour-les-parents-source-magazine-nexus/\n",
      "156 https://www.profession-gendarme.com/paris-verbalises-pour-possession-de-drapeau-francais/\n",
      "157 https://www.profession-gendarme.com/31-mai-1er-juin-suicides-de-deux-gendarmes/\n",
      "158 https://www.profession-gendarme.com/monsieur-melenchon-par-maitre-laurent-franck-lienard/\n",
      "159 https://www.profession-gendarme.com/la-tres-mauvaise-idee-de-la-troisieme-injection-anti-covid-sans-essai-prealable/\n"
     ]
    },
    {
     "name": "stdout",
     "output_type": "stream",
     "text": [
      "160 https://www.profession-gendarme.com/non-a-la-vaccination-des-gendarmes/\n",
      "161 https://www.profession-gendarme.com/lotan-veut-mener-une-guerre-contre-la-russie-en-afrique-et-chasser-la-chine-hors-de-ce-continent/\n",
      "162 https://www.profession-gendarme.com/legislatives-le-depeceur-de-montauban-veut-etre-depute-apres-24-ans-passe-en-prison/\n",
      "163 https://www.profession-gendarme.com/nice-age-de-9-ans-il-alerte-la-police-il-vient-de-voir-sa-mere-se-faire-tuer-a-larme-blanche-par-son-beau-pere/\n",
      "164 https://www.profession-gendarme.com/directive-europeenne-sur-le-temps-de-travail/\n",
      "165 https://www.profession-gendarme.com/lespagne-admet-avoir-pulverise-des-chemtrails-dans-le-cadre-dun-programme-secret-de-lonu/\n",
      "166 https://www.profession-gendarme.com/un-document-pfizer-admet-que-les-personnes-vaccinees-repandent-des-particules-infectieuses/\n",
      "167 https://www.profession-gendarme.com/recit-cauchemardesque-dune-famille-espagnole-a-saint-denis/\n",
      "168 https://www.profession-gendarme.com/chanteurs-a-gages-deux-videos-musicales-parodiques-avec-humour/\n",
      "169 https://www.profession-gendarme.com/non-aux-guerres-de-lotan/\n",
      "170 https://www.profession-gendarme.com/livre-dor/\n",
      "171 https://www.profession-gendarme.com/silence-criminel-des-medias-sur-la-torture-en-ukraine-temoignage-accablant/\n",
      "172 https://www.profession-gendarme.com/un-homme-en-etat-debriete-touche-les-parties-intimes-dun-gendarme-et-ecope-dun-an-de-prison/\n",
      "173 https://www.profession-gendarme.com/un-adolescent-tue-19-ecoliers-et-deux-adultes-au-texas-lamerique-sous-le-choc/\n",
      "174 https://www.profession-gendarme.com/message-du-csape-collectif-des-syndicats-et-associations-professionnels-europeens/\n",
      "175 https://www.profession-gendarme.com/18-juillet-2021-appel-a-lunion-citoyenne-non-a-la-discrimination-sanitaire/\n",
      "176 https://www.profession-gendarme.com/enquete-les-consulting-boys-de-la-macronie/\n",
      "177 https://www.profession-gendarme.com/le-passe-trouble-dedouard-leclerc-pendant-loccupation/\n",
      "178 https://www.profession-gendarme.com/hopital-saint-anne-segregation-sanitaire/\n",
      "179 https://www.profession-gendarme.com/comment-on-a-condamne-mon-pere-a-mort/\n",
      "180 https://www.profession-gendarme.com/93438-2/\n",
      "181 https://www.profession-gendarme.com/alerte-mail-frauduleux-de-la-gendarmerie/\n",
      "182 https://www.profession-gendarme.com/bataclan-vont-ils-oser-empecher-de-plaider-librement-mon-avocat/\n",
      "183 https://www.profession-gendarme.com/alert-21-le-dernier-message-pour-lhumanite-the-last-message-for-humanity-english-subtitles-3/\n",
      "184 https://www.profession-gendarme.com/alerte-lisez-la-composition-des-vaccins-que-notre-gouvernement-genocidaire-veut-rendre-obligatoire/\n",
      "185 https://www.profession-gendarme.com/rassemblement-des-militaires-marche-de-la-fierte-francaise/\n",
      "186 https://www.profession-gendarme.com/rand-paul-lelite-de-davos-veut-un-gouvernement-mondial-ce-nest-pas-une-theorie-complotiste/\n",
      "187 https://www.profession-gendarme.com/a-berlin-des-allemands-soutiennent-la-russie/\n",
      "188 https://www.profession-gendarme.com/candidats-admis-au-concours-portant-statut-particulier-du-corps-des-officiers-de-gendarmerie-og-rang/\n"
     ]
    }
   ],
   "source": [
    "counter = 0\n",
    "articles = []\n",
    "for article_url in crawler._crawl_map['article_links']:\n",
    "    counter += 1\n",
    "    print(counter,article_url)\n",
    "    html = crawler.get_webpage(article_url)\n",
    "    articles.append(parser.parse(article_url,html))"
   ]
  },
  {
   "cell_type": "code",
   "execution_count": 23,
   "id": "96d983c7",
   "metadata": {},
   "outputs": [],
   "source": [
    "import pandas as pd"
   ]
  },
  {
   "cell_type": "code",
   "execution_count": 24,
   "id": "7c51d8e4",
   "metadata": {},
   "outputs": [],
   "source": [
    "df_articles=pd.DataFrame(articles)"
   ]
  },
  {
   "cell_type": "code",
   "execution_count": 32,
   "id": "b7f434ca",
   "metadata": {},
   "outputs": [],
   "source": [
    "df_articles.to_csv('data/220607-CrawlArticles.csv')"
   ]
  },
  {
   "cell_type": "code",
   "execution_count": 8,
   "id": "677587b4",
   "metadata": {},
   "outputs": [],
   "source": [
    "form = 'le nombre est {nombre}'"
   ]
  },
  {
   "cell_type": "code",
   "execution_count": 10,
   "id": "d1257363",
   "metadata": {},
   "outputs": [
    {
     "data": {
      "text/plain": [
       "'le nombre est3'"
      ]
     },
     "execution_count": 10,
     "metadata": {},
     "output_type": "execute_result"
    }
   ],
   "source": [
    "form.format(nombre=3)"
   ]
  },
  {
   "cell_type": "code",
   "execution_count": 31,
   "id": "007e185c",
   "metadata": {},
   "outputs": [
    {
     "name": "stdout",
     "output_type": "stream",
     "text": [
      "Vue(s) :\n",
      "531\n",
      "\n",
      "\n",
      "Une jeune policière de 35 ans s’est suicidé ce lundi 30 mai en Seine-et-Marne. Diana était en détachement syndical pour Alliance Police Nationale, à Roissy. Une cagnotte en ligne est disponible pour venir en aide à ses enfants.\n",
      "Cette jeune policière de 35 ans s’est donné la mort ce lundi dans la Seine-et-Marne. Diana était détachée permanente pour le syndicat Alliance Police Nationale à la police aux frontières (PAF), à Roissy, et avait par le passé travaillé dans le département de la Seine-Saint-Denis.\n",
      "Mère de deux enfants, elle était appréciée de tous et connue pour sa gentillesse, son dévouement et son énergie.\n",
      "Elle était maman de deux enfants. Une cagnotte en ligne a été ouverte par ses collègues. Les dons seront transmis à ses enfants.\n",
      "Source : Actu Forces de l’ordre\n",
      "\n",
      "\n",
      "DIANA\n",
      "Manifestez votre soutien pour cette cagnotte\n",
      "\n",
      "Bienvenue sur cette cagnotte\n",
      "Ici vous pouvez directement et en un clic, participer à cette cagnotte.\n",
      "Chacun participe du montant qu’il souhaite.Tous les paiements sont sécurisés.\n",
      "Merci à tous.\n",
      "https://www.leetchi.com/c/diana-lxzxgarj?utm_source=whatsapp&utm_medium=social_sharing&fbclid=IwAR3uXWKVExdPAMPlJaJt9laBMSX1KAau4hOeFI7GP535dwrPxupf0OiAT7Q\n"
     ]
    }
   ],
   "source": [
    "print(df_articles['article'][3])"
   ]
  },
  {
   "cell_type": "code",
   "execution_count": null,
   "id": "fa53a067",
   "metadata": {},
   "outputs": [],
   "source": []
  }
 ],
 "metadata": {
  "kernelspec": {
   "display_name": "Python 3 (ipykernel)",
   "language": "python",
   "name": "python3"
  },
  "language_info": {
   "codemirror_mode": {
    "name": "ipython",
    "version": 3
   },
   "file_extension": ".py",
   "mimetype": "text/x-python",
   "name": "python",
   "nbconvert_exporter": "python",
   "pygments_lexer": "ipython3",
   "version": "3.9.13"
  }
 },
 "nbformat": 4,
 "nbformat_minor": 5
}
