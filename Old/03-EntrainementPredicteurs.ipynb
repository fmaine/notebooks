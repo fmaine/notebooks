{
 "cells": [
  {
   "cell_type": "markdown",
   "id": "4a673f2f",
   "metadata": {},
   "source": [
    "# Patat : Plateforme Agnostique de Traitement et d'Analyse des Textes\n",
    "\n",
    "### Notebook 3 : Entrainement des Prédicteurs\n",
    "Entrainement d'un modele de prédiction\n",
    "\n",
    "Sous-classes de `patat.ml.predictor.Predictor`\n",
    "\n",
    "A partir des articles labelisés\n",
    "\n",
    "Dans le but de prédire un l'ensemble de ces labels sur n'importe quel texte\n",
    "\n",
    "Pour l'instant deux classes sont disponibles : \n",
    "* `LogregPredictor` Régression Logistique\n",
    "* `GnbPredictor` Gaussian Naive Bayes Classifier\n",
    "\n",
    "To do :\n",
    "* Neural Network\n",
    "* XGBoost\n",
    "\n",
    "Later :\n",
    "* Nearest Neighbors\n",
    "* Linear SVM\n",
    "* RBF SVM\n",
    "* Gaussian Process\n",
    "* Decision Tree\n",
    "* Random Forest\n",
    "* AdaBoost\n",
    "* QDA\n",
    "\n",
    "Synopsis :\n",
    "\n",
    "- Chargement du Recueil analysé\n",
    "- Entrainement sur le recueil de l'ensemble des prédicteurs\n",
    "- Sauvegarde des prédicteurs\n",
    "\n",
    "## 0 - Préliminaires"
   ]
  },
  {
   "cell_type": "code",
   "execution_count": 1,
   "id": "d6d07d04",
   "metadata": {},
   "outputs": [
    {
     "name": "stdout",
     "output_type": "stream",
     "text": [
      "/Users/fm/Desktop/Work/Patat\n"
     ]
    }
   ],
   "source": [
    "cd ../.."
   ]
  },
  {
   "cell_type": "code",
   "execution_count": 2,
   "id": "ec55652f",
   "metadata": {},
   "outputs": [],
   "source": [
    "import importlib\n",
    "import pandas as pd"
   ]
  },
  {
   "cell_type": "markdown",
   "id": "e0c95897",
   "metadata": {},
   "source": [
    "## 1 - Chargement du recueil : AAMMJJ-SpacyRecueil.csv"
   ]
  },
  {
   "cell_type": "code",
   "execution_count": 3,
   "id": "f26c23b4",
   "metadata": {},
   "outputs": [],
   "source": [
    "# Chargement d'un fichier analysé par SpacyAnalyser\n",
    "df_labels = pd.read_csv('data/corpus/220620-SpacyRecueil.csv')"
   ]
  },
  {
   "cell_type": "code",
   "execution_count": 4,
   "id": "3ab12c94",
   "metadata": {},
   "outputs": [],
   "source": [
    "Y_cols = ['infox',\n",
    "       'non infox', 'parodique', 'signé', 'lieux, dates et personnes ',\n",
    "       'lieux, dates et personnes cohérentes',\n",
    "       'points de vue différents présentés', 'écriture de qualité',\n",
    "       'intention', 'faits', 'opinions', 'fausse nouvelle', 'insinuations',\n",
    "       'scientifique sulfureux', 'des pages et des pages',\n",
    "       'des chiffres et des tableaux', 'sophisme', 'inversion de la preuve',\n",
    "       'invérifiable', 'propos rapporté', 'sources citées', 'titre décalé',\n",
    "       ]"
   ]
  },
  {
   "cell_type": "markdown",
   "id": "bd47f8dd",
   "metadata": {},
   "source": [
    "## 2 - Prédicteur de Logistic Regression sur `SpacyAnalyser`"
   ]
  },
  {
   "cell_type": "code",
   "execution_count": 5,
   "id": "75a2b611",
   "metadata": {},
   "outputs": [],
   "source": [
    "import patat.ml.predictor\n",
    "import patat.ml.logreg_predictor\n",
    "import patat.ml.spacy_analyser"
   ]
  },
  {
   "cell_type": "code",
   "execution_count": 6,
   "id": "d6970cf8",
   "metadata": {},
   "outputs": [
    {
     "data": {
      "text/plain": [
       "<module 'patat.ml.logreg_predictor' from '/Users/fm/Desktop/Work/Patat/patat/ml/logreg_predictor.py'>"
      ]
     },
     "execution_count": 6,
     "metadata": {},
     "output_type": "execute_result"
    }
   ],
   "source": [
    "importlib.reload(patat.ml.predictor)\n",
    "importlib.reload(patat.ml.logreg_predictor)"
   ]
  },
  {
   "cell_type": "code",
   "execution_count": 19,
   "id": "543dd788",
   "metadata": {},
   "outputs": [],
   "source": [
    "predictor = patat.ml.logreg_predictor.LogregPredictor()"
   ]
  },
  {
   "cell_type": "markdown",
   "id": "5a00713a",
   "metadata": {},
   "source": [
    "Nous avons besoin de l'analyseur pour connaitre les noms des descripteurs"
   ]
  },
  {
   "cell_type": "code",
   "execution_count": 20,
   "id": "b2500c9b",
   "metadata": {},
   "outputs": [],
   "source": [
    "analyser = patat.ml.spacy_analyser.SpacyAnalyser()"
   ]
  },
  {
   "cell_type": "code",
   "execution_count": 21,
   "id": "dd428417",
   "metadata": {},
   "outputs": [],
   "source": [
    "df = df_labels\n",
    "X_cols = analyser.feature_col_names()\n",
    "Y_cols = ['infox']"
   ]
  },
  {
   "cell_type": "markdown",
   "id": "2ec4ee63",
   "metadata": {},
   "source": [
    "Entrainement du modele"
   ]
  },
  {
   "cell_type": "code",
   "execution_count": 22,
   "id": "6eb9ed99",
   "metadata": {},
   "outputs": [
    {
     "name": "stdout",
     "output_type": "stream",
     "text": [
      "Training on infox\n"
     ]
    }
   ],
   "source": [
    "predictor.train(df,X_cols,Y_cols)"
   ]
  },
  {
   "cell_type": "code",
   "execution_count": 23,
   "id": "71aac799",
   "metadata": {},
   "outputs": [
    {
     "data": {
      "text/plain": [
       "['infox']"
      ]
     },
     "execution_count": 23,
     "metadata": {},
     "output_type": "execute_result"
    }
   ],
   "source": [
    "predictor.labels()"
   ]
  },
  {
   "cell_type": "markdown",
   "id": "23d8b40c",
   "metadata": {},
   "source": [
    "Sauvegarde du modèle dans un fichier *AAMMJJ-AnalyserPredictor.pp*"
   ]
  },
  {
   "cell_type": "code",
   "execution_count": 24,
   "id": "e300184c",
   "metadata": {},
   "outputs": [],
   "source": [
    "predictor.save('data/predictor/220620-SpacyLogreg.pp')"
   ]
  },
  {
   "cell_type": "markdown",
   "id": "b3b8caa8",
   "metadata": {},
   "source": [
    "## 2 - Prédicteur Gaussian Naive Bayes sur `SpacyAnalyser`"
   ]
  },
  {
   "cell_type": "code",
   "execution_count": 25,
   "id": "39b6dd25",
   "metadata": {},
   "outputs": [],
   "source": [
    "import patat.ml.gnb_predictor"
   ]
  },
  {
   "cell_type": "code",
   "execution_count": 26,
   "id": "f6f5c258",
   "metadata": {},
   "outputs": [
    {
     "data": {
      "text/plain": [
       "<module 'patat.ml.gnb_predictor' from '/Users/fm/Desktop/Work/Patat/patat/ml/gnb_predictor.py'>"
      ]
     },
     "execution_count": 26,
     "metadata": {},
     "output_type": "execute_result"
    }
   ],
   "source": [
    "importlib.reload(patat.ml.gnb_predictor)"
   ]
  },
  {
   "cell_type": "code",
   "execution_count": 27,
   "id": "dfa08622",
   "metadata": {},
   "outputs": [],
   "source": [
    "predictor = patat.ml.gnb_predictor.GnbPredictor()"
   ]
  },
  {
   "cell_type": "code",
   "execution_count": 28,
   "id": "b10a5412",
   "metadata": {},
   "outputs": [
    {
     "name": "stdout",
     "output_type": "stream",
     "text": [
      "Training on infox\n"
     ]
    }
   ],
   "source": [
    "predictor.train(df,X_cols,Y_cols)"
   ]
  },
  {
   "cell_type": "code",
   "execution_count": 29,
   "id": "0de32d64",
   "metadata": {},
   "outputs": [],
   "source": [
    "predictor.save('data/predictor/220620-SpacyGnb.pp')"
   ]
  },
  {
   "cell_type": "markdown",
   "id": "ff63c649",
   "metadata": {},
   "source": [
    "# 3 - Prédicteurs sur `LexAnalyser`"
   ]
  },
  {
   "cell_type": "code",
   "execution_count": null,
   "id": "e509b04e",
   "metadata": {},
   "outputs": [],
   "source": [
    "df_labels = pd.read_csv('data/corpus/220531-LexRecueil.csv')"
   ]
  },
  {
   "cell_type": "code",
   "execution_count": null,
   "id": "8f3d1465",
   "metadata": {},
   "outputs": [],
   "source": [
    "import patat.ml.lex_analyser\n",
    "importlib.reload(patat.ml.lex_analyser)"
   ]
  },
  {
   "cell_type": "code",
   "execution_count": null,
   "id": "365acccb",
   "metadata": {},
   "outputs": [],
   "source": [
    "lex = patat.ml.lex_analyser.LexAnalyser()\n",
    "X_cols = lex.feature_col_names()\n",
    "df = df_labels"
   ]
  },
  {
   "cell_type": "code",
   "execution_count": null,
   "id": "73e14eaa",
   "metadata": {},
   "outputs": [],
   "source": [
    "logreg = patat.ml.logreg_predictor.LogregPredictor()\n",
    "gnb = patat.ml.gnb_predictor.GnbPredictor()\n",
    "logreg.train(df,X_cols,Y_cols)\n",
    "gnb.train(df,X_cols,Y_cols)"
   ]
  },
  {
   "cell_type": "code",
   "execution_count": null,
   "id": "55242266",
   "metadata": {},
   "outputs": [],
   "source": [
    "logreg.save('data/predictor/220601-LexLogreg.pp')\n",
    "gnb.save('data/predictor/220601-LexGnb.pp')"
   ]
  },
  {
   "cell_type": "markdown",
   "id": "15b1a5b6",
   "metadata": {},
   "source": [
    "## Bricolages"
   ]
  },
  {
   "cell_type": "code",
   "execution_count": null,
   "id": "9b66cd76",
   "metadata": {},
   "outputs": [],
   "source": [
    "df_labels"
   ]
  },
  {
   "cell_type": "code",
   "execution_count": null,
   "id": "3f3ce230",
   "metadata": {},
   "outputs": [],
   "source": []
  }
 ],
 "metadata": {
  "kernelspec": {
   "display_name": "Python 3 (ipykernel)",
   "language": "python",
   "name": "python3"
  },
  "language_info": {
   "codemirror_mode": {
    "name": "ipython",
    "version": 3
   },
   "file_extension": ".py",
   "mimetype": "text/x-python",
   "name": "python",
   "nbconvert_exporter": "python",
   "pygments_lexer": "ipython3",
   "version": "3.9.13"
  }
 },
 "nbformat": 4,
 "nbformat_minor": 5
}
