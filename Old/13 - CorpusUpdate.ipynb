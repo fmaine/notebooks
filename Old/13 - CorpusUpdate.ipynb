{
 "cells": [
  {
   "cell_type": "code",
   "execution_count": 1,
   "id": "2db60c6d",
   "metadata": {},
   "outputs": [
    {
     "name": "stdout",
     "output_type": "stream",
     "text": [
      "/Users/fm/Desktop/Work/Patat\n"
     ]
    }
   ],
   "source": [
    "cd ../.."
   ]
  },
  {
   "cell_type": "code",
   "execution_count": 2,
   "id": "86778b29",
   "metadata": {},
   "outputs": [],
   "source": [
    "import os\n",
    "import re\n",
    "import importlib"
   ]
  },
  {
   "cell_type": "code",
   "execution_count": 3,
   "id": "4aa4317a",
   "metadata": {},
   "outputs": [],
   "source": [
    "import pandas as pd"
   ]
  },
  {
   "cell_type": "markdown",
   "id": "a0b539ef",
   "metadata": {},
   "source": [
    "# Chargement du corpus complet"
   ]
  },
  {
   "cell_type": "code",
   "execution_count": 7,
   "id": "a22d8243",
   "metadata": {},
   "outputs": [],
   "source": [
    "corpus_existing_filename = 'data/corpus/220908-CorpusNews.csv'"
   ]
  },
  {
   "cell_type": "code",
   "execution_count": 8,
   "id": "18487baa",
   "metadata": {},
   "outputs": [],
   "source": [
    "corpus_new_filename = 'data/corpus/220908-CorpusNews.csv'"
   ]
  },
  {
   "cell_type": "code",
   "execution_count": 9,
   "id": "6cc00fe3",
   "metadata": {},
   "outputs": [],
   "source": [
    "df_corpus = pd.read_csv(corpus_existing_filename)"
   ]
  },
  {
   "cell_type": "code",
   "execution_count": 10,
   "id": "89ac6493",
   "metadata": {},
   "outputs": [
    {
     "data": {
      "text/plain": [
       "www.francesoir.fr              22672\n",
       "www.francetvinfo.fr            13828\n",
       "www.breizh-info.com             5471\n",
       "www.dreuz.info                  5307\n",
       "www.legorafi.fr                 4538\n",
       "www.profession-gendarme.com     3743\n",
       "www.wikistrike.com              3699\n",
       "www.lelibrepenseur.org          3298\n",
       "fr.sott.net                     2878\n",
       "actu.fr                         2801\n",
       "lezarceleurs.blogspot.com       2366\n",
       "lesmoutonsrebelles.com          2303\n",
       "lemediaen442.fr                 2241\n",
       "www.cnews.fr                    1330\n",
       "reseauinternational.net         1131\n",
       "theconversation.com              956\n",
       "lesakerfrancophone.fr            851\n",
       "fr.novopress.info                760\n",
       "www.polemia.com                  616\n",
       "infodujour.fr                    490\n",
       "lesobservateurs.ch               365\n",
       "www.lesalonbeige.fr              345\n",
       "lesdeqodeurs.fr                   73\n",
       "Name: site, dtype: int64"
      ]
     },
     "execution_count": 10,
     "metadata": {},
     "output_type": "execute_result"
    }
   ],
   "source": [
    "df_corpus['site'].value_counts()"
   ]
  },
  {
   "cell_type": "markdown",
   "id": "3433faf7",
   "metadata": {},
   "source": [
    "# Initialisations"
   ]
  },
  {
   "cell_type": "code",
   "execution_count": null,
   "id": "9c71a985",
   "metadata": {},
   "outputs": [],
   "source": [
    "import patat.imp.importer\n",
    "import patat.imp.crawler\n",
    "import patat.imp.parser"
   ]
  },
  {
   "cell_type": "code",
   "execution_count": null,
   "id": "d63e3f6e",
   "metadata": {},
   "outputs": [],
   "source": [
    "importlib.reload(patat.imp.parser_params)\n",
    "importlib.reload(patat.imp.crawler)\n",
    "importlib.reload(patat.imp.parser)"
   ]
  },
  {
   "cell_type": "code",
   "execution_count": null,
   "id": "47efff04",
   "metadata": {},
   "outputs": [],
   "source": [
    "imp = patat.imp.importer.Importer()\n",
    "parser = patat.imp.parser.Parser()\n",
    "crawler = patat.imp.crawler.Crawler()"
   ]
  },
  {
   "cell_type": "code",
   "execution_count": null,
   "id": "d1d46be7",
   "metadata": {},
   "outputs": [],
   "source": [
    "importlib.reload(patat.imp.importer)\n",
    "imp = patat.imp.importer.Importer()"
   ]
  },
  {
   "cell_type": "markdown",
   "id": "fa31c2eb",
   "metadata": {},
   "source": [
    "# 1 - Crawling"
   ]
  },
  {
   "cell_type": "code",
   "execution_count": null,
   "id": "44fe5549",
   "metadata": {},
   "outputs": [],
   "source": [
    "list(parser._css_classes.keys())"
   ]
  },
  {
   "cell_type": "code",
   "execution_count": null,
   "id": "8146b196",
   "metadata": {},
   "outputs": [],
   "source": [
    "sites = ['www.francesoir.fr',\n",
    " 'www.breizh-info.com',\n",
    " 'www.lelibrepenseur.org',\n",
    " 'lesdeqodeurs.fr',\n",
    " 'lezarceleurs.blogspot.com',\n",
    " 'www.dreuz.info',\n",
    " 'lesmoutonsrebelles.com',\n",
    " 'www.wikistrike.com',\n",
    " 'fr.sott.net',\n",
    " 'lemediaen442.fr',\n",
    " 'www.profession-gendarme.com',\n",
    " 'www.legorafi.fr',\n",
    " 'theconversation.com',\n",
    " 'actu.fr',\n",
    " 'www.francetvinfo.fr',\n",
    " 'www.voltairenet.org',\n",
    " 'www.mondialisation.ca',\n",
    " 'www.polemia.com',\n",
    " 'infodujour.fr',\n",
    " 'www.lesalonbeige.fr',\n",
    " 'www.les-crises.fr',\n",
    " 'www.cnews.fr',\n",
    " 'lalettrepatriote.com',\n",
    " 'lesakerfrancophone.fr',\n",
    " 'lesobservateurs.ch',\n",
    " 'fr.novopress.info',\n",
    " 'reseauinternational.net']"
   ]
  },
  {
   "cell_type": "code",
   "execution_count": null,
   "id": "85e0c962",
   "metadata": {},
   "outputs": [],
   "source": [
    "sites = ['www.francesoir.fr',\n",
    " 'www.breizh-info.com',\n",
    " 'www.lelibrepenseur.org',\n",
    " 'lesdeqodeurs.fr',\n",
    " 'lezarceleurs.blogspot.com',\n",
    " 'www.dreuz.info',\n",
    " 'lesmoutonsrebelles.com',\n",
    " 'www.wikistrike.com',\n",
    " 'fr.sott.net',\n",
    " 'lemediaen442.fr',\n",
    " 'www.profession-gendarme.com',\n",
    " 'www.legorafi.fr',\n",
    " 'theconversation.com',\n",
    " 'actu.fr',\n",
    " 'www.francetvinfo.fr',\n",
    " 'www.voltairenet.org',\n",
    " 'www.mondialisation.ca',\n",
    " 'www.polemia.com',\n",
    " 'infodujour.fr',\n",
    " 'www.lesalonbeige.fr',\n",
    " 'www.les-crises.fr',\n",
    " 'www.cnews.fr',\n",
    " 'lalettrepatriote.com',\n",
    " 'lesakerfrancophone.fr',\n",
    " 'lesobservateurs.ch',\n",
    " 'fr.novopress.info',\n",
    " 'reseauinternational.net']"
   ]
  },
  {
   "cell_type": "code",
   "execution_count": null,
   "id": "c66df155",
   "metadata": {},
   "outputs": [],
   "source": [
    "for site in sites:\n",
    "    url = 'https://'+site\n",
    "    crawler.crawl_page(url, use_cache=False)"
   ]
  },
  {
   "cell_type": "code",
   "execution_count": null,
   "id": "29f865e1",
   "metadata": {},
   "outputs": [],
   "source": [
    "len(crawler._crawl_map['list_links'])"
   ]
  },
  {
   "cell_type": "code",
   "execution_count": null,
   "id": "09bc884b",
   "metadata": {},
   "outputs": [],
   "source": [
    "len(crawler._crawl_map['article_links'])"
   ]
  },
  {
   "cell_type": "code",
   "execution_count": null,
   "id": "27233319",
   "metadata": {},
   "outputs": [],
   "source": [
    "crawler.crawl_links(crawler._crawl_map['list_links'],max=1000,use_cache=False)"
   ]
  },
  {
   "cell_type": "markdown",
   "id": "51413a04",
   "metadata": {},
   "source": [
    "## Import et Parsing"
   ]
  },
  {
   "cell_type": "code",
   "execution_count": null,
   "id": "038c833f",
   "metadata": {
    "scrolled": true
   },
   "outputs": [],
   "source": [
    "%%time\n",
    "n = 1\n",
    "pages = {}\n",
    "parsed_articles = []\n",
    "for url in crawler._crawl_map['article_links']:\n",
    "    print(str(n)+' '+url)\n",
    "    if imp.page_in_cache(url)==False:\n",
    "        pages[url] = imp.get_webpage(url)\n",
    "        if pages[url]:\n",
    "            parsed_articles.append(parser.parse(url,pages[url]))\n",
    "    n+=1\n"
   ]
  },
  {
   "cell_type": "code",
   "execution_count": null,
   "id": "0beb81c2",
   "metadata": {},
   "outputs": [],
   "source": [
    "len(parsed_articles)"
   ]
  },
  {
   "cell_type": "code",
   "execution_count": null,
   "id": "b5542814",
   "metadata": {},
   "outputs": [],
   "source": [
    "df_new = pd.DataFrame(parsed_articles)"
   ]
  },
  {
   "cell_type": "code",
   "execution_count": null,
   "id": "d178ca01",
   "metadata": {},
   "outputs": [],
   "source": [
    "import urllib\n",
    "def get_site(url):\n",
    "    return urllib.parse.urlsplit(url).netloc"
   ]
  },
  {
   "cell_type": "code",
   "execution_count": null,
   "id": "4a2616c7",
   "metadata": {},
   "outputs": [],
   "source": [
    "df_new.loc[:,'site'] = df_new['url'].apply(get_site)"
   ]
  },
  {
   "cell_type": "code",
   "execution_count": null,
   "id": "31d0a6f9",
   "metadata": {},
   "outputs": [],
   "source": [
    "counts = df_new['site'].value_counts()"
   ]
  },
  {
   "cell_type": "code",
   "execution_count": null,
   "id": "a6a7f72e",
   "metadata": {},
   "outputs": [],
   "source": [
    "counts"
   ]
  },
  {
   "cell_type": "code",
   "execution_count": null,
   "id": "8131fb5e",
   "metadata": {},
   "outputs": [],
   "source": [
    "df_new"
   ]
  },
  {
   "cell_type": "markdown",
   "id": "6ebed010",
   "metadata": {},
   "source": [
    "## Merge and save"
   ]
  },
  {
   "cell_type": "code",
   "execution_count": null,
   "id": "f37f0b94",
   "metadata": {},
   "outputs": [],
   "source": [
    "len(df_corpus)"
   ]
  },
  {
   "cell_type": "code",
   "execution_count": null,
   "id": "34890218",
   "metadata": {},
   "outputs": [],
   "source": [
    "df_merge = pd.concat([df_new,df_corpus],axis=0)"
   ]
  },
  {
   "cell_type": "code",
   "execution_count": null,
   "id": "36eceb05",
   "metadata": {},
   "outputs": [],
   "source": [
    "df_merge['site'].value_counts()"
   ]
  },
  {
   "cell_type": "code",
   "execution_count": null,
   "id": "687c575d",
   "metadata": {},
   "outputs": [],
   "source": [
    "len(df_merge)"
   ]
  },
  {
   "cell_type": "code",
   "execution_count": null,
   "id": "127ba4d3",
   "metadata": {},
   "outputs": [],
   "source": [
    "df_merge = df_merge.drop_duplicates(subset=['url'])"
   ]
  },
  {
   "cell_type": "code",
   "execution_count": null,
   "id": "a0fab1c8",
   "metadata": {},
   "outputs": [],
   "source": [
    "df_merge['site'].value_counts()"
   ]
  },
  {
   "cell_type": "code",
   "execution_count": null,
   "id": "7ee504fe",
   "metadata": {},
   "outputs": [],
   "source": [
    "df_merge = df_merge.drop(['article_links', 'list_links', 'local_links', 'external_links',],axis=1)"
   ]
  },
  {
   "cell_type": "code",
   "execution_count": null,
   "id": "8912dd77",
   "metadata": {},
   "outputs": [],
   "source": [
    "df_merge = df_merge[df_merge['article'].notna()]"
   ]
  },
  {
   "cell_type": "code",
   "execution_count": null,
   "id": "188bfc9e",
   "metadata": {},
   "outputs": [],
   "source": [
    "df_merge.to_csv(corpus_new_filename,index=False)"
   ]
  },
  {
   "cell_type": "code",
   "execution_count": null,
   "id": "84cb89d4",
   "metadata": {},
   "outputs": [],
   "source": [
    "df_merge.loc[:,'date_iso'] = df_merge['date_iso'].fillna('')"
   ]
  },
  {
   "cell_type": "markdown",
   "id": "e5be8c93",
   "metadata": {},
   "source": [
    "# Lecture du cache"
   ]
  },
  {
   "cell_type": "code",
   "execution_count": null,
   "id": "28de5c9c",
   "metadata": {},
   "outputs": [],
   "source": [
    "sites"
   ]
  },
  {
   "cell_type": "code",
   "execution_count": null,
   "id": "385e10ac",
   "metadata": {},
   "outputs": [],
   "source": [
    "html_files = {}\n",
    "pages = {}\n",
    "for site in sites:\n",
    "    html_files[site] = os.listdir('data/html/'+site)\n",
    "    pages[site] = []\n",
    "    for filename in html_files[site]:\n",
    "        pages[site].append(re.sub(r'\\|','/','https://'+site+filename))\n",
    "        "
   ]
  },
  {
   "cell_type": "code",
   "execution_count": null,
   "id": "cd9199dc",
   "metadata": {},
   "outputs": [],
   "source": [
    "article_urls = {}\n",
    "for site in pages:\n",
    "    article_urls[site]=[]\n",
    "    for page in pages[site]:\n",
    "        if parser.is_article_url(page,site):\n",
    "            article_urls[site].append(page)"
   ]
  },
  {
   "cell_type": "code",
   "execution_count": null,
   "id": "456b5642",
   "metadata": {},
   "outputs": [],
   "source": [
    "len(article_urls)"
   ]
  },
  {
   "cell_type": "code",
   "execution_count": null,
   "id": "086a14cc",
   "metadata": {},
   "outputs": [],
   "source": [
    "article_urls"
   ]
  },
  {
   "cell_type": "code",
   "execution_count": null,
   "id": "c4755f62",
   "metadata": {},
   "outputs": [],
   "source": [
    "i = 1\n",
    "parsed_articles = []\n",
    "for site in article_urls:\n",
    "    for article_url in article_urls[site]:\n",
    "        print(i,article_url)\n",
    "        html = imp.get_webpage(article_url)\n",
    "        parsed_articles.append(parser.parse_article(article_url,html,site))\n",
    "        i = i+1"
   ]
  },
  {
   "cell_type": "code",
   "execution_count": null,
   "id": "daf02fe9",
   "metadata": {},
   "outputs": [],
   "source": [
    "df_new = pd.DataFrame(parsed_articles)"
   ]
  },
  {
   "cell_type": "code",
   "execution_count": null,
   "id": "849b84f7",
   "metadata": {},
   "outputs": [],
   "source": [
    "df_new"
   ]
  },
  {
   "cell_type": "code",
   "execution_count": null,
   "id": "b187e1f7",
   "metadata": {},
   "outputs": [],
   "source": [
    "import urllib\n",
    "def get_site(url):\n",
    "    return urllib.parse.urlsplit(url).netloc"
   ]
  },
  {
   "cell_type": "code",
   "execution_count": null,
   "id": "8ac2952c",
   "metadata": {},
   "outputs": [],
   "source": [
    "df_new.loc[:,'site'] = df_corpus['url'].apply(get_site)"
   ]
  },
  {
   "cell_type": "code",
   "execution_count": null,
   "id": "90f2c48e",
   "metadata": {},
   "outputs": [],
   "source": [
    "df_new['site'].value_counts()"
   ]
  },
  {
   "cell_type": "markdown",
   "id": "038a4e9a",
   "metadata": {},
   "source": [
    "## Merge Corpus"
   ]
  },
  {
   "cell_type": "code",
   "execution_count": null,
   "id": "48f10213",
   "metadata": {},
   "outputs": [],
   "source": [
    "df_merge = pd.concat([df_new,df_corpus],axis=0)"
   ]
  },
  {
   "cell_type": "code",
   "execution_count": null,
   "id": "8a576827",
   "metadata": {},
   "outputs": [],
   "source": [
    "df_merge['site'].value_counts()"
   ]
  },
  {
   "cell_type": "code",
   "execution_count": null,
   "id": "6a144e98",
   "metadata": {},
   "outputs": [],
   "source": [
    "df_merge = df_merge.drop_duplicates(subset=['url'])"
   ]
  },
  {
   "cell_type": "code",
   "execution_count": null,
   "id": "41fc2127",
   "metadata": {},
   "outputs": [],
   "source": [
    "df_merge['site'].value_counts()"
   ]
  },
  {
   "cell_type": "code",
   "execution_count": null,
   "id": "7f60d7e0",
   "metadata": {},
   "outputs": [],
   "source": [
    "df_merge.to_csv(corpus_new_filename,index=False)"
   ]
  },
  {
   "cell_type": "markdown",
   "id": "6a22deb7",
   "metadata": {},
   "source": [
    "# Bricolages"
   ]
  },
  {
   "cell_type": "code",
   "execution_count": null,
   "id": "02501bef",
   "metadata": {},
   "outputs": [],
   "source": []
  },
  {
   "cell_type": "code",
   "execution_count": null,
   "id": "5e3c576e",
   "metadata": {},
   "outputs": [],
   "source": [
    "parser.is_article_url('https://theconversation.com/institutions/graduate-institute-institut-de-hautes-etudes-internationales-et-du-developpement-iheid-2905','theconversation.com')"
   ]
  },
  {
   "cell_type": "code",
   "execution_count": null,
   "id": "ee16902f",
   "metadata": {},
   "outputs": [],
   "source": [
    "html = imp.get_webpage('https://theconversation.com')"
   ]
  },
  {
   "cell_type": "code",
   "execution_count": null,
   "id": "33f72680",
   "metadata": {},
   "outputs": [],
   "source": [
    "from bs4 import BeautifulSoup"
   ]
  },
  {
   "cell_type": "code",
   "execution_count": null,
   "id": "50006fd8",
   "metadata": {},
   "outputs": [],
   "source": [
    "soup = BeautifulSoup(html,parser='lxml')"
   ]
  },
  {
   "cell_type": "code",
   "execution_count": null,
   "id": "044ab9d6",
   "metadata": {},
   "outputs": [],
   "source": [
    "for a in soup.find_all('a'):\n",
    "    print(a.get('href'))"
   ]
  },
  {
   "cell_type": "code",
   "execution_count": null,
   "id": "4f49aaa9",
   "metadata": {},
   "outputs": [],
   "source": [
    "parser.parse('https://fr.novopress.info',html,'fr.novopress.info')"
   ]
  },
  {
   "cell_type": "code",
   "execution_count": null,
   "id": "fc393c4b",
   "metadata": {},
   "outputs": [],
   "source": [
    "parse_data = parser.parse('https://theconversation.com',html)"
   ]
  },
  {
   "cell_type": "code",
   "execution_count": null,
   "id": "e79a3cc6",
   "metadata": {},
   "outputs": [],
   "source": [
    "parse_data['list_links']"
   ]
  },
  {
   "cell_type": "code",
   "execution_count": null,
   "id": "407c1c0e",
   "metadata": {},
   "outputs": [],
   "source": [
    "for article in df_corpus[df_corpus['site']=='actu.fr']['article']:\n",
    "    print(article)"
   ]
  },
  {
   "cell_type": "code",
   "execution_count": null,
   "id": "03ebb6ed",
   "metadata": {},
   "outputs": [],
   "source": [
    "df_corpus.loc[:,'date_iso']=df_corpus.apply(lambda row : parser.text_to_date(row['date'],row['site']),axis=1)"
   ]
  },
  {
   "cell_type": "code",
   "execution_count": null,
   "id": "3780ec32",
   "metadata": {},
   "outputs": [],
   "source": [
    "df_corpus['date'].fillna('',inplace=True)"
   ]
  },
  {
   "cell_type": "code",
   "execution_count": null,
   "id": "6bc9969a",
   "metadata": {},
   "outputs": [],
   "source": [
    "df_corpus"
   ]
  },
  {
   "cell_type": "code",
   "execution_count": null,
   "id": "453aee1f",
   "metadata": {},
   "outputs": [],
   "source": [
    "df_corpus.to_csv(corpus_new_filename,index=False)"
   ]
  },
  {
   "cell_type": "code",
   "execution_count": null,
   "id": "42246126",
   "metadata": {},
   "outputs": [],
   "source": []
  }
 ],
 "metadata": {
  "kernelspec": {
   "display_name": "Python 3 (ipykernel)",
   "language": "python",
   "name": "python3"
  },
  "language_info": {
   "codemirror_mode": {
    "name": "ipython",
    "version": 3
   },
   "file_extension": ".py",
   "mimetype": "text/x-python",
   "name": "python",
   "nbconvert_exporter": "python",
   "pygments_lexer": "ipython3",
   "version": "3.9.13"
  }
 },
 "nbformat": 4,
 "nbformat_minor": 5
}
