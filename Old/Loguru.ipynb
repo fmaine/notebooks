{
 "cells": [
  {
   "cell_type": "code",
   "execution_count": 7,
   "id": "30bf2bc6",
   "metadata": {},
   "outputs": [
    {
     "name": "stderr",
     "output_type": "stream",
     "text": [
      "2022-09-07 22:40:41.459 | DEBUG    | __main__:<cell line: 3>:3 - That's it, beautiful and simple logging!\n"
     ]
    },
    {
     "name": "stdout",
     "output_type": "stream",
     "text": [
      "\u001b[32m2022-09-07T22:40:41.459033+0200\u001b[0m \u001b[34m\u001b[1mThat's it, beautiful and simple logging!\u001b[0m\n"
     ]
    }
   ],
   "source": [
    "from loguru import logger\n",
    "\n",
    "logger.debug(\"That's it, beautiful and simple logging!\")"
   ]
  },
  {
   "cell_type": "code",
   "execution_count": 3,
   "id": "24fdd509",
   "metadata": {},
   "outputs": [
    {
     "data": {
      "text/plain": [
       "1"
      ]
     },
     "execution_count": 3,
     "metadata": {},
     "output_type": "execute_result"
    }
   ],
   "source": [
    "import sys\n",
    "logger.add(sys.stderr, format=\"{time} {level} {message}\", filter=\"my_module\", level=\"INFO\")"
   ]
  },
  {
   "cell_type": "code",
   "execution_count": 4,
   "id": "788a569d",
   "metadata": {},
   "outputs": [
    {
     "name": "stderr",
     "output_type": "stream",
     "text": [
      "2022-09-07 22:39:05.996 | INFO     | __main__:<cell line: 1>:1 - If you're using Python 3.6, prefer f-strings of course!\n"
     ]
    }
   ],
   "source": [
    "logger.info(\"If you're using Python {}, prefer {feature} of course!\", 3.6, feature=\"f-strings\")"
   ]
  },
  {
   "cell_type": "code",
   "execution_count": 5,
   "id": "69fb14e1",
   "metadata": {},
   "outputs": [
    {
     "data": {
      "text/plain": [
       "2"
      ]
     },
     "execution_count": 5,
     "metadata": {},
     "output_type": "execute_result"
    }
   ],
   "source": [
    "logger.add(sys.stdout, colorize=True, format=\"<green>{time}</green> <level>{message}</level>\")"
   ]
  },
  {
   "cell_type": "code",
   "execution_count": 6,
   "id": "64466b3c",
   "metadata": {},
   "outputs": [
    {
     "name": "stderr",
     "output_type": "stream",
     "text": [
      "2022-09-07 22:40:16.409 | INFO     | __main__:<cell line: 1>:1 - If you're using Python 3.6, prefer f-strings of course!\n"
     ]
    },
    {
     "name": "stdout",
     "output_type": "stream",
     "text": [
      "\u001b[32m2022-09-07T22:40:16.409297+0200\u001b[0m \u001b[1mIf you're using Python 3.6, prefer f-strings of course!\u001b[0m\n"
     ]
    }
   ],
   "source": [
    "logger.info(\"If you're using Python {}, prefer {feature} of course!\", 3.6, feature=\"f-strings\")"
   ]
  },
  {
   "cell_type": "code",
   "execution_count": null,
   "id": "672e0bac",
   "metadata": {},
   "outputs": [],
   "source": []
  }
 ],
 "metadata": {
  "kernelspec": {
   "display_name": "Python 3 (ipykernel)",
   "language": "python",
   "name": "python3"
  },
  "language_info": {
   "codemirror_mode": {
    "name": "ipython",
    "version": 3
   },
   "file_extension": ".py",
   "mimetype": "text/x-python",
   "name": "python",
   "nbconvert_exporter": "python",
   "pygments_lexer": "ipython3",
   "version": "3.9.13"
  }
 },
 "nbformat": 4,
 "nbformat_minor": 5
}
