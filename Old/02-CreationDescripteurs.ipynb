{
 "cells": [
  {
   "cell_type": "markdown",
   "id": "4a673f2f",
   "metadata": {},
   "source": [
    "# Patat : Plateforme Agnostique de Traitement et d'Analyse des Textes\n",
    "\n",
    "### Notebook 2 : Création des descripteurs\n",
    "En partant du Recueil Brut issu de la google spreadsheet observateurs\n",
    "\n",
    "### Analyse de Textes\n",
    "Création des descripteurs (features) pour un ensemble de textes\n",
    "\n",
    "Par l'utilisation de sous-classes de `patat.ml.analyser.Analyser`\n",
    "\n",
    "Dans le but d'entrainer des prédicteurs\n",
    "\n",
    "Patat fournit plusieurs analyseurs :\n",
    "\n",
    "Présents aujourd'hui :\n",
    "* `SpacyAnalyser` : \n",
    "    Analyseur basé sur Spacy\n",
    "    __[https://spacy.io/](https://spacy.io/)__ \n",
    "* `LexicalAnalyser` : \n",
    "    Analyseur lexical de la Patat\n",
    "    \n",
    "En cours de développement :\n",
    "* `TextblobAnalyser` : \n",
    "    Analyseur basé sur Textblob\n",
    "    __[https://textblob.readthedocs.io/en/dev/](https://textblob.readthedocs.io/en/dev/)__\n",
    "* `BowAnalyser` : \n",
    "    Analyseur Bag of Words de la Patat\n",
    "* `GramAnalyser` : \n",
    "    Analyseur basé sur Grammalecte \n",
    "* `OpenaiAnalyser` : \n",
    "    Analyseur basé sur Open AI\n",
    "* `HFAnalyser` : \n",
    "    Analyseur basé sur Hugging Face\n",
    "\n",
    "### Synopsis\n",
    "Pour à la fois le recueil et le corpus :\n",
    "- Chargement et mise en forme\n",
    "- Analyse avec les analyseurs disponibles\n",
    "- Nettoyage et Sauvegarde des données analysées : un fichier par analyseur et type de données\n",
    "\n",
    "### To do\n",
    "- SpacyAnalyser et LexAnanlyser : Essayer la mise à l'échelle des features en fonction du nombre de mots ou nombre de phrases\n",
    "- Exploration des données sur la base de ces features\n",
    "- Exploration des données sur le vocabulaire : existe-t-il un vocabulaire spécifique de tel ou tel label\n"
   ]
  },
  {
   "cell_type": "markdown",
   "id": "44270e88",
   "metadata": {},
   "source": [
    "## 0 - Préliminaires"
   ]
  },
  {
   "cell_type": "code",
   "execution_count": null,
   "id": "d6d07d04",
   "metadata": {},
   "outputs": [],
   "source": [
    "cd ../.."
   ]
  },
  {
   "cell_type": "code",
   "execution_count": null,
   "id": "ec55652f",
   "metadata": {},
   "outputs": [],
   "source": [
    "import importlib\n",
    "import pandas as pd"
   ]
  },
  {
   "cell_type": "markdown",
   "id": "391badcd",
   "metadata": {},
   "source": [
    "\n",
    "    "
   ]
  },
  {
   "cell_type": "markdown",
   "id": "6ec77e07",
   "metadata": {},
   "source": [
    "## 1 - Chargement des données\n",
    "Traitement de deux jeux de données :\n",
    "- AAMMJJ-RecueilComplet.csv : Recueil labelisé\n",
    "- AAMMJJ-CorpusArticles.csv : Corpus d'articles importé des sites d'intérèt"
   ]
  },
  {
   "cell_type": "code",
   "execution_count": null,
   "id": "f78403fd",
   "metadata": {},
   "outputs": [],
   "source": [
    "%%time\n",
    "df_recueil = pd.read_csv('data/corpus/220621-RecueilComplet.csv')\n",
    "df_corpus = pd.read_csv('data/corpus/220314-CorpusArticles.csv')"
   ]
  },
  {
   "cell_type": "code",
   "execution_count": null,
   "id": "96097b9f",
   "metadata": {},
   "outputs": [],
   "source": [
    "# Supression des articles vides\n",
    "df_corpus=df_corpus[df_corpus['article'].isna()==False]"
   ]
  },
  {
   "cell_type": "code",
   "execution_count": null,
   "id": "d410750c",
   "metadata": {},
   "outputs": [],
   "source": [
    "df_corpus.shape"
   ]
  },
  {
   "cell_type": "code",
   "execution_count": null,
   "id": "19f9c55c",
   "metadata": {},
   "outputs": [],
   "source": [
    "df_recueil.shape"
   ]
  },
  {
   "cell_type": "markdown",
   "id": "0a921192",
   "metadata": {},
   "source": [
    "### Réduction du corpus d'articles"
   ]
  },
  {
   "cell_type": "code",
   "execution_count": null,
   "id": "22819793",
   "metadata": {},
   "outputs": [],
   "source": [
    "max_articles = 500\n",
    "\n",
    "df_corpus = df_corpus.sample(n=max_articles)\n",
    "df_corpus.shape"
   ]
  },
  {
   "cell_type": "markdown",
   "id": "709dd03a",
   "metadata": {},
   "source": [
    "### Fusion text = titre + article"
   ]
  },
  {
   "cell_type": "code",
   "execution_count": null,
   "id": "49a16bfc",
   "metadata": {},
   "outputs": [],
   "source": [
    "df_recueil['text'] = df_recueil['title']+'\\n'+df_recueil['article']\n",
    "df_corpus['text'] = df_corpus['title']+'\\n'+df_corpus['article']"
   ]
  },
  {
   "cell_type": "markdown",
   "id": "1957f1ed",
   "metadata": {},
   "source": [
    "## 2 - Analyse recueil et corpus\n",
    "### 2.1 Spacy Analyser"
   ]
  },
  {
   "cell_type": "code",
   "execution_count": null,
   "id": "dfc16863",
   "metadata": {},
   "outputs": [],
   "source": [
    "import patat.ml.spacy_analyser"
   ]
  },
  {
   "cell_type": "code",
   "execution_count": null,
   "id": "f4ea7dee",
   "metadata": {},
   "outputs": [],
   "source": [
    "importlib.reload(patat.ml.spacy_analyser)"
   ]
  },
  {
   "cell_type": "markdown",
   "id": "1212a57b",
   "metadata": {},
   "source": [
    "Instanciation de l'analyseur"
   ]
  },
  {
   "cell_type": "code",
   "execution_count": null,
   "id": "82b9f685",
   "metadata": {},
   "outputs": [],
   "source": [
    "analyser = patat.ml.spacy_analyser.SpacyAnalyser()"
   ]
  },
  {
   "cell_type": "markdown",
   "id": "773be8fa",
   "metadata": {},
   "source": [
    "#### Analyse du recueil labelisé\n",
    "C'est long !..."
   ]
  },
  {
   "cell_type": "code",
   "execution_count": null,
   "id": "67209545",
   "metadata": {},
   "outputs": [],
   "source": [
    "%%time\n",
    "df_spacy_recueil = analyser.analyse_df(df_recueil,'text')"
   ]
  },
  {
   "cell_type": "markdown",
   "id": "00bb6f88",
   "metadata": {},
   "source": [
    "#### Sauvegarde des articles labelisés avec ses descripteurs \n",
    "dans *AAMMJJ-SpacyRecueil.csv*"
   ]
  },
  {
   "cell_type": "code",
   "execution_count": null,
   "id": "89f1d53e",
   "metadata": {},
   "outputs": [],
   "source": [
    "df_spacy_recueil.to_csv('data/corpus/220621-SpacyRecueil.csv',index=False)"
   ]
  },
  {
   "cell_type": "markdown",
   "id": "019f5b0d",
   "metadata": {},
   "source": [
    "Analyse du corpus d'articles -> Très long : ~290 articles par minute"
   ]
  },
  {
   "cell_type": "code",
   "execution_count": null,
   "id": "2282fc4a",
   "metadata": {},
   "outputs": [],
   "source": [
    "%%time\n",
    "df_spacy_corpus = analyser.analyse_df(df_corpus,'text')"
   ]
  },
  {
   "cell_type": "markdown",
   "id": "69f8f170",
   "metadata": {},
   "source": [
    "Sauvegarde du corpus avec ses descripteurs\n",
    "dans *AAMMJJ-SpacyCorpus.csv*"
   ]
  },
  {
   "cell_type": "code",
   "execution_count": null,
   "id": "7de89abf",
   "metadata": {},
   "outputs": [],
   "source": [
    "df_spacy_corpus.to_csv('data/corpus/220531-SpacyCorpus.csv',index=False)"
   ]
  },
  {
   "cell_type": "markdown",
   "id": "31cef753",
   "metadata": {},
   "source": [
    "### 2.2 Lexical Analyser"
   ]
  },
  {
   "cell_type": "code",
   "execution_count": null,
   "id": "df03a12e",
   "metadata": {},
   "outputs": [],
   "source": [
    "import patat.ml.lex_analyser"
   ]
  },
  {
   "cell_type": "code",
   "execution_count": null,
   "id": "a7e20958",
   "metadata": {},
   "outputs": [],
   "source": [
    "lex = patat.ml.lex_analyser.LexAnalyser()"
   ]
  },
  {
   "cell_type": "code",
   "execution_count": null,
   "id": "284c9280",
   "metadata": {},
   "outputs": [],
   "source": [
    "%%time\n",
    "df_lex_recueil = lex.analyse_df(df_recueil,'text')"
   ]
  },
  {
   "cell_type": "code",
   "execution_count": null,
   "id": "67a9c2f3",
   "metadata": {},
   "outputs": [],
   "source": [
    "df_lex_recueil.to_csv('data/corpus/220621-LexRecueil.csv',index=False)"
   ]
  },
  {
   "cell_type": "code",
   "execution_count": null,
   "id": "d8c1562c",
   "metadata": {},
   "outputs": [],
   "source": [
    "%%time\n",
    "df_lex_corpus = lex.analyse_df(df_corpus,'text')"
   ]
  },
  {
   "cell_type": "code",
   "execution_count": null,
   "id": "7aa04335",
   "metadata": {},
   "outputs": [],
   "source": [
    "df_lex_corpus.to_csv('data/corpus/220531-LexCorpus.csv',index=False)"
   ]
  },
  {
   "cell_type": "markdown",
   "id": "15b1a5b6",
   "metadata": {},
   "source": [
    "## Bricolages"
   ]
  },
  {
   "cell_type": "code",
   "execution_count": null,
   "id": "c060f56c",
   "metadata": {},
   "outputs": [],
   "source": [
    "df_spacy_recueil[df_spacy_recueil['infox'].isna()]"
   ]
  },
  {
   "cell_type": "code",
   "execution_count": null,
   "id": "ef7b56c3",
   "metadata": {},
   "outputs": [],
   "source": []
  }
 ],
 "metadata": {
  "kernelspec": {
   "display_name": "Python 3 (ipykernel)",
   "language": "python",
   "name": "python3"
  },
  "language_info": {
   "codemirror_mode": {
    "name": "ipython",
    "version": 3
   },
   "file_extension": ".py",
   "mimetype": "text/x-python",
   "name": "python",
   "nbconvert_exporter": "python",
   "pygments_lexer": "ipython3",
   "version": "3.10.2"
  }
 },
 "nbformat": 4,
 "nbformat_minor": 5
}
