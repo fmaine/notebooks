{
 "cells": [
  {
   "cell_type": "code",
   "execution_count": 1,
   "id": "8cc1b5d0",
   "metadata": {},
   "outputs": [
    {
     "name": "stdout",
     "output_type": "stream",
     "text": [
      "/Users/fm/Desktop/Work/Patat\n"
     ]
    }
   ],
   "source": [
    "cd ../.."
   ]
  },
  {
   "cell_type": "code",
   "execution_count": 2,
   "id": "973c3900",
   "metadata": {},
   "outputs": [],
   "source": [
    "import pandas as pd"
   ]
  },
  {
   "cell_type": "code",
   "execution_count": 3,
   "id": "f886b01e",
   "metadata": {},
   "outputs": [
    {
     "name": "stdout",
     "output_type": "stream",
     "text": [
      "\u001b[31m220314-CorpusArticles.csv\u001b[m\u001b[m*              220609-www.legorafi.fr.csv\r\n",
      "220523-RecueilLabels.csv                220610-RecueilBrut.csv\r\n",
      "220526-ArticlesFeatures.csv             220613-BreizhInfo.csv\r\n",
      "220526-LabelsFeatures.csv               220613-CorpusArticles.csv\r\n",
      "220528-SpacyCorpus.csv                  220613-CorpusTheconversation.csv\r\n",
      "220528-SpacyLabels.csv                  220613-fr.sott.net.csv\r\n",
      "220529-Corpus.csv                       220613-lemediaen442.fr.csv\r\n",
      "220529-RecueilLabels.csv                220613-lesdeqodeurs.fr.csv\r\n",
      "220529-RecueilRaw.csv                   220613-lesmoutonsrebelles.com.csv\r\n",
      "220529-SpacyCorpus.csv                  220613-lezarceleurs.blogspot.com.csv\r\n",
      "220529-SpacyLabels.csv                  220613-www.dreuz.info.csv\r\n",
      "220530-RecueilBrut.csv                  220613-www.francesoir.fr.csv\r\n",
      "220530-RecueilComplet.csv               220613-www.francetvinfo.fr.csv\r\n",
      "220530-SpacyCorpus.csv                  220613-www.legorafi.fr.csv.old.csv\r\n",
      "220530-SpacyLabels.csv                  220613-www.lelibrepenseur.org.csv\r\n",
      "220530-SpacyRecueil.csv                 220613-www.profession-gendarme.com.csv\r\n",
      "220531-LexCorpus.csv                    220613-www.wikistrike.com.csv\r\n",
      "220531-LexRecueil.csv                   220614-CorpusArticles.csv\r\n",
      "220531-RecueilBrut.csv                  220614-CorpusComplet.csv\r\n",
      "220531-RecueilComplet.csv               220614-RecueilBrut.csv\r\n",
      "220531-SpacyCorpus.csv                  220614-RecueilComplet.csv\r\n",
      "220531-SpacyCorpusAfpComplet.csv        220617-CorpusArticles.csv\r\n",
      "220531-SpacyRecueil.csv                 220620-CorpusArticles.csv\r\n",
      "220531SpacyCorpusAfp2000.csv            220620-LexCorpus.csv\r\n",
      "220531SpacyCorpusAfpComplet.csv         220620-LexRecueil.csv\r\n",
      "220601-FrancesoirPredictions.csv        220620-RecueilBrut.csv\r\n",
      "220601-RecueilBrut.csv                  220620-RecueilComplet.csv\r\n",
      "220601-RecueilComplet.csv               220620-SpacyRecueil.csv\r\n",
      "220601-SpacyRecueil.csv                 220620-lezarceleurs.blogspot.com.csv\r\n",
      "220605-Import.csv                       220620-www.francetvinfo.fr.csv\r\n",
      "220609-legorafi\r\n"
     ]
    }
   ],
   "source": [
    "ls data/corpus"
   ]
  },
  {
   "cell_type": "code",
   "execution_count": 4,
   "id": "7570e402",
   "metadata": {},
   "outputs": [],
   "source": [
    "filenames = [ '220620-www.francetvinfo.fr.csv',\n",
    "    '220613-www.lelibrepenseur.org.csv','220609-www.legorafi.fr.csv','220613-www.dreuz.info.csv',\n",
    "    '220620-lezarceleurs.blogspot.com.csv',\n",
    "    '220613-lemediaen442.fr.csv','220613-fr.sott.net.csv',\n",
    "    '220613-CorpusTheconversation.csv','220613-BreizhInfo.csv','220613-www.francesoir.fr.csv',\n",
    "    '220613-www.wikistrike.com.csv','220613-lesdeqodeurs.fr.csv','220613-www.profession-gendarme.com.csv'\n",
    "]\n",
    "cols = ['url','title','abstract','article','date','author','tag']"
   ]
  },
  {
   "cell_type": "code",
   "execution_count": 5,
   "id": "aae9e84e",
   "metadata": {},
   "outputs": [
    {
     "name": "stdout",
     "output_type": "stream",
     "text": [
      "220620-www.francetvinfo.fr.csv\n",
      "(11633, 7)\n",
      "220613-www.lelibrepenseur.org.csv\n",
      "(822, 10)\n",
      "220609-www.legorafi.fr.csv\n",
      "(5610, 11)\n",
      "220613-www.dreuz.info.csv\n",
      "(2609, 8)\n",
      "220620-lezarceleurs.blogspot.com.csv\n",
      "(2020, 5)\n",
      "220613-lemediaen442.fr.csv\n",
      "(2435, 9)\n",
      "220613-fr.sott.net.csv\n",
      "(2713, 4)\n",
      "220613-CorpusTheconversation.csv\n",
      "(5017, 10)\n",
      "220613-BreizhInfo.csv\n",
      "(5375, 9)\n",
      "220613-www.francesoir.fr.csv\n",
      "(11066, 6)\n",
      "220613-www.wikistrike.com.csv\n",
      "(1228, 5)\n",
      "220613-lesdeqodeurs.fr.csv\n",
      "(23, 5)\n",
      "220613-www.profession-gendarme.com.csv\n",
      "(3707, 4)\n"
     ]
    }
   ],
   "source": [
    "df_corpus = pd.DataFrame()\n",
    "for filename in filenames:\n",
    "    print(filename)\n",
    "    df_new = pd.read_csv('data/corpus/'+filename)\n",
    "    print(df_new.shape)\n",
    "    df_corpus = pd.concat([df_corpus,df_new],ignore_index=True)"
   ]
  },
  {
   "cell_type": "code",
   "execution_count": 6,
   "id": "004a3ea9",
   "metadata": {},
   "outputs": [],
   "source": [
    "df_corpus = df_corpus[cols]"
   ]
  },
  {
   "cell_type": "code",
   "execution_count": 7,
   "id": "edd141d7",
   "metadata": {},
   "outputs": [],
   "source": [
    "import urllib\n",
    "def get_site(url):\n",
    "    return urllib.parse.urlparse(url).netloc"
   ]
  },
  {
   "cell_type": "code",
   "execution_count": 8,
   "id": "45756e71",
   "metadata": {},
   "outputs": [],
   "source": [
    "df_corpus['site']=df_corpus['url'].apply(get_site)"
   ]
  },
  {
   "cell_type": "code",
   "execution_count": 9,
   "id": "0ba4bb37",
   "metadata": {},
   "outputs": [],
   "source": [
    "df_corpus=df_corpus[df_corpus['title'].notna() & df_corpus['article'].notna()]"
   ]
  },
  {
   "cell_type": "code",
   "execution_count": 11,
   "id": "20206fb9",
   "metadata": {},
   "outputs": [],
   "source": [
    "df_corpus.to_csv('data/corpus/220620-CorpusArticles.csv',index=False)"
   ]
  },
  {
   "cell_type": "code",
   "execution_count": null,
   "id": "69f6ad5b",
   "metadata": {},
   "outputs": [],
   "source": [
    "df_sample = df_corpus.sample(150)"
   ]
  },
  {
   "cell_type": "code",
   "execution_count": null,
   "id": "40e46287",
   "metadata": {},
   "outputs": [],
   "source": [
    "import patat.imp.importer\n",
    "import patat.imp.parser"
   ]
  },
  {
   "cell_type": "code",
   "execution_count": null,
   "id": "4ce7ec13",
   "metadata": {},
   "outputs": [],
   "source": [
    "importer = patat.imp.importer.Importer()\n",
    "parser = patat.imp.parser.Parser()"
   ]
  },
  {
   "cell_type": "code",
   "execution_count": null,
   "id": "911a0c0a",
   "metadata": {},
   "outputs": [],
   "source": [
    "df_sample['date_published']="
   ]
  },
  {
   "cell_type": "code",
   "execution_count": null,
   "id": "e92f48b3",
   "metadata": {},
   "outputs": [],
   "source": [
    "def get_dp(url):\n",
    "    html = importer.get_webpage(url)\n",
    "    date = parser.\n",
    "    "
   ]
  },
  {
   "cell_type": "code",
   "execution_count": null,
   "id": "deae736e",
   "metadata": {},
   "outputs": [],
   "source": []
  },
  {
   "cell_type": "code",
   "execution_count": null,
   "id": "6f11d2a2",
   "metadata": {},
   "outputs": [],
   "source": [
    "import patat.imp.parser"
   ]
  },
  {
   "cell_type": "code",
   "execution_count": 12,
   "id": "4139f38d",
   "metadata": {},
   "outputs": [
    {
     "data": {
      "text/plain": [
       "(53143, 8)"
      ]
     },
     "execution_count": 12,
     "metadata": {},
     "output_type": "execute_result"
    }
   ],
   "source": [
    "df_corpus.shape"
   ]
  },
  {
   "cell_type": "code",
   "execution_count": null,
   "id": "23931426",
   "metadata": {},
   "outputs": [],
   "source": []
  }
 ],
 "metadata": {
  "kernelspec": {
   "display_name": "Python 3 (ipykernel)",
   "language": "python",
   "name": "python3"
  },
  "language_info": {
   "codemirror_mode": {
    "name": "ipython",
    "version": 3
   },
   "file_extension": ".py",
   "mimetype": "text/x-python",
   "name": "python",
   "nbconvert_exporter": "python",
   "pygments_lexer": "ipython3",
   "version": "3.9.13"
  }
 },
 "nbformat": 4,
 "nbformat_minor": 5
}
