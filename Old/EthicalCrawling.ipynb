{
 "cells": [
  {
   "cell_type": "code",
   "execution_count": null,
   "id": "1c44e1d1",
   "metadata": {},
   "outputs": [],
   "source": [
    "cd ../.."
   ]
  },
  {
   "cell_type": "markdown",
   "id": "9626b2e5",
   "metadata": {},
   "source": [
    "# Etude des SSO"
   ]
  },
  {
   "cell_type": "code",
   "execution_count": null,
   "id": "980e9786",
   "metadata": {},
   "outputs": [],
   "source": [
    "import urllib.robotparser\n",
    "rp = urllib.robotparser.RobotFileParser()\n",
    "rp.set_url(\"http://www.francesoir.fr/robots.txt\")\n",
    "rp.read()\n",
    "rrate = rp.request_rate(\"*\")\n"
   ]
  },
  {
   "cell_type": "code",
   "execution_count": null,
   "id": "8f699990",
   "metadata": {},
   "outputs": [],
   "source": [
    "rp.can_fetch('patat-bot','https://www.francesoir.fr/README.txt')"
   ]
  },
  {
   "cell_type": "code",
   "execution_count": null,
   "id": "256f070f",
   "metadata": {},
   "outputs": [],
   "source": [
    "import urllib"
   ]
  },
  {
   "cell_type": "code",
   "execution_count": null,
   "id": "978c53bc",
   "metadata": {},
   "outputs": [],
   "source": [
    "def can_fetch(url):\n",
    "    url = url.strip()\n",
    "    rp = urllib.robotparser.RobotFileParser()\n",
    "    url_split = urllib.parse.urlsplit(url)\n",
    "    robots_txt_url = f'{url_split.scheme}://{url_split.netloc}/robots.txt'\n",
    "    rp.set_url(robots_txt_url)\n",
    "    rp.read()\n",
    "    return rp.can_fetch('patat-bot',url)"
   ]
  },
  {
   "cell_type": "code",
   "execution_count": null,
   "id": "22d767af",
   "metadata": {},
   "outputs": [],
   "source": [
    "def crawl_delay(url):\n",
    "    url = url.strip()\n",
    "    rp = urllib.robotparser.RobotFileParser()\n",
    "    url_split = urllib.parse.urlsplit(url)\n",
    "    robots_txt_url = f'{url_split.scheme}://{url_split.netloc}/robots.txt'\n",
    "    rp.set_url(robots_txt_url)\n",
    "    rp.read()\n",
    "    rrate = rp.request_rate(\"*\")\n",
    "    if rrate:\n",
    "        return rrate.seconds\n",
    "    else:\n",
    "        return 0"
   ]
  },
  {
   "cell_type": "code",
   "execution_count": null,
   "id": "6f7dbd36",
   "metadata": {},
   "outputs": [],
   "source": [
    "can_fetch('https://docs.python.org/fr/3/library/urllib.parse.html#urllib.parse.urlsplit')"
   ]
  },
  {
   "cell_type": "code",
   "execution_count": null,
   "id": "18b1794f",
   "metadata": {},
   "outputs": [],
   "source": [
    "import pandas as pd"
   ]
  },
  {
   "cell_type": "code",
   "execution_count": null,
   "id": "3f97635a",
   "metadata": {},
   "outputs": [],
   "source": [
    "df_recueil = pd.read_csv('data/corpus/220621-RecueilBrut.csv')"
   ]
  },
  {
   "cell_type": "code",
   "execution_count": null,
   "id": "142968a0",
   "metadata": {},
   "outputs": [],
   "source": [
    "df_recueil['can_crawl']=df_recueil['url'].apply(can_fetch)"
   ]
  },
  {
   "cell_type": "code",
   "execution_count": null,
   "id": "db85b3f5",
   "metadata": {},
   "outputs": [],
   "source": [
    "urls = list(df_recueil['url'])"
   ]
  },
  {
   "cell_type": "code",
   "execution_count": null,
   "id": "69ee8865",
   "metadata": {},
   "outputs": [],
   "source": [
    "for url in urls:\n",
    "    print (url)\n",
    "    print (can_fetch(url))"
   ]
  },
  {
   "cell_type": "code",
   "execution_count": null,
   "id": "5c76dcb4",
   "metadata": {},
   "outputs": [],
   "source": [
    "import requests"
   ]
  },
  {
   "cell_type": "code",
   "execution_count": null,
   "id": "f86b8859",
   "metadata": {},
   "outputs": [],
   "source": [
    "response = requests.get('https://dreuz.info/robots.txt',headers = headers)"
   ]
  },
  {
   "cell_type": "code",
   "execution_count": null,
   "id": "37ec4375",
   "metadata": {},
   "outputs": [],
   "source": [
    "print(response.text)"
   ]
  },
  {
   "cell_type": "code",
   "execution_count": null,
   "id": "ad82bb79",
   "metadata": {},
   "outputs": [],
   "source": [
    "headers = {'User-Agent': 'patat-bot', 'From': 'contact@observatoire.media'}\n"
   ]
  },
  {
   "cell_type": "code",
   "execution_count": null,
   "id": "288ae442",
   "metadata": {},
   "outputs": [],
   "source": [
    "df_sso = pd.read_csv('data/tmp/sso.csv')"
   ]
  },
  {
   "cell_type": "code",
   "execution_count": null,
   "id": "29bb90f9",
   "metadata": {},
   "outputs": [],
   "source": [
    "df_sso = df_sso[df_sso['sso']=='oui']"
   ]
  },
  {
   "cell_type": "code",
   "execution_count": null,
   "id": "e2d824c1",
   "metadata": {},
   "outputs": [],
   "source": [
    "def get_robots_txt(url):\n",
    "    url = url.strip()\n",
    "    url_split = urllib.parse.urlsplit(url)\n",
    "    robots_txt_url = f'{url_split.scheme}://{url_split.netloc}/robots.txt'\n",
    "    headers = {'User-Agent': 'patat-bot', 'From': 'contact@observatoire.media'}\n",
    "    try:\n",
    "        response = requests.get(robots_txt_url,headers = headers)\n",
    "    except:\n",
    "        return 'Exception requests.get'\n",
    "    if response.status_code == 200:\n",
    "        return response.text\n",
    "    else:\n",
    "        return f'Error {response.status_code}'"
   ]
  },
  {
   "cell_type": "code",
   "execution_count": null,
   "id": "51448033",
   "metadata": {},
   "outputs": [],
   "source": [
    "df_sso['robots_txt'] = df_sso['site'].apply(get_robots_txt)"
   ]
  },
  {
   "cell_type": "code",
   "execution_count": null,
   "id": "443472f7",
   "metadata": {},
   "outputs": [],
   "source": [
    "df_sso['can_fetch'] = df_sso['site'].apply(can_fetch)"
   ]
  },
  {
   "cell_type": "code",
   "execution_count": null,
   "id": "e4620804",
   "metadata": {},
   "outputs": [],
   "source": [
    "import re"
   ]
  },
  {
   "cell_type": "code",
   "execution_count": null,
   "id": "82af600f",
   "metadata": {},
   "outputs": [],
   "source": [
    "def crawl_delay(robot_txt):\n",
    "    result = 0\n",
    "    if robot_txt:\n",
    "        exp = r'Crawl-delay:\\s+(\\d+)'\n",
    "        tokens = re.split(exp,robot_txt)\n",
    "        if len(tokens)>1:\n",
    "            result = int(tokens[1])\n",
    "    return result"
   ]
  },
  {
   "cell_type": "code",
   "execution_count": null,
   "id": "5f0849bc",
   "metadata": {},
   "outputs": [],
   "source": [
    "df_sso['crawl_delay'] = df_sso['robots_txt'].apply(crawl_delay)"
   ]
  },
  {
   "cell_type": "code",
   "execution_count": null,
   "id": "dcd95f6c",
   "metadata": {},
   "outputs": [],
   "source": [
    "for index,row in df_sso[df_sso['can_fetch']==False].iterrows():\n",
    "    print(row['site'])\n",
    "    print(row['robots_txt'])\n",
    "    print('-------------------------')"
   ]
  },
  {
   "cell_type": "code",
   "execution_count": null,
   "id": "5f50ec32",
   "metadata": {},
   "outputs": [],
   "source": [
    "df_sso.to_csv('data/tmp/robots_txt.csv',index='False')"
   ]
  },
  {
   "cell_type": "code",
   "execution_count": null,
   "id": "fac63183",
   "metadata": {},
   "outputs": [],
   "source": [
    "df_sso[df_sso['can_fetch']==False]"
   ]
  },
  {
   "cell_type": "code",
   "execution_count": null,
   "id": "184243a0",
   "metadata": {},
   "outputs": [],
   "source": [
    "txt = df_sso['robots_txt'][0]\n",
    "txt"
   ]
  },
  {
   "cell_type": "code",
   "execution_count": null,
   "id": "c135e2d4",
   "metadata": {},
   "outputs": [],
   "source": [
    "exp = r'Crawl-delay:\\s+(\\d+)'"
   ]
  },
  {
   "cell_type": "code",
   "execution_count": null,
   "id": "29cd848f",
   "metadata": {},
   "outputs": [],
   "source": [
    "df_sso = df_sso.rename(columns={'site':'url'})"
   ]
  },
  {
   "cell_type": "code",
   "execution_count": null,
   "id": "5c0cabbe",
   "metadata": {},
   "outputs": [],
   "source": [
    "def get_site(url):\n",
    "    return urllib.parse.urlparse(url).netloc"
   ]
  },
  {
   "cell_type": "code",
   "execution_count": null,
   "id": "beb88223",
   "metadata": {},
   "outputs": [],
   "source": [
    "df_sso['site'] = df_sso['url'].apply(get_site)"
   ]
  },
  {
   "cell_type": "code",
   "execution_count": null,
   "id": "b823ecc9",
   "metadata": {},
   "outputs": [],
   "source": [
    "df = df_sso[df_sso['sso'] =='oui'][['site','crawl_delay']]"
   ]
  },
  {
   "cell_type": "code",
   "execution_count": null,
   "id": "53dfd571",
   "metadata": {},
   "outputs": [],
   "source": [
    "df.set_index('site').to_dict('index')"
   ]
  },
  {
   "cell_type": "markdown",
   "id": "4b57240f",
   "metadata": {},
   "source": [
    "# Tests de crawling poli"
   ]
  },
  {
   "cell_type": "code",
   "execution_count": 156,
   "id": "8893f029",
   "metadata": {},
   "outputs": [],
   "source": [
    "import importlib\n",
    "import patat.imp.importer"
   ]
  },
  {
   "cell_type": "code",
   "execution_count": 216,
   "id": "3bd2fb99",
   "metadata": {},
   "outputs": [],
   "source": [
    "importlib.reload(patat.imp.importer)\n",
    "imp = patat.imp.importer.Importer()"
   ]
  },
  {
   "cell_type": "code",
   "execution_count": 217,
   "id": "7ff0c466",
   "metadata": {},
   "outputs": [],
   "source": [
    "url = 'https://lesmoutonsrebelles.com/'"
   ]
  },
  {
   "cell_type": "code",
   "execution_count": 218,
   "id": "c5585595",
   "metadata": {},
   "outputs": [
    {
     "data": {
      "text/plain": [
       "'<!DOCTYPE html>\\n<!--[if IE 8]><html\\nclass=\"no-js g1-off-outside lt-ie10 lt-ie9\" id=ie8 lang=fr-FR prefix=\"og: http://ogp.me/ns#\"><![endif]-->\\n<!--[if IE 9]><html\\nclass=\"no-js g1-off-outside lt-ie10\" id=ie9 lang=fr-FR prefix=\"og: http://ogp.me/ns#\"><![endif]-->\\n<!--[if !IE]><!--><html class=\"no-js g1-off-outside\" lang=fr-FR prefix=\"og: http://ogp.me/ns#\"><!--<![endif]--><head><meta charset=\"UTF-8\"><link rel=profile href=\"https://gmpg.org/xfn/11\"><link rel=pingback href=https://lesmoutonsrebelles.com/xmlrpc.php><meta name=\\'robots\\' content=\\'max-image-preview:large\\'><meta name=\"viewport\" content=\"initial-scale=1.0, minimum-scale=1.0, height=device-height, width=device-width\"><meta property=\"og:locale\" content=\"fr_FR\"><meta property=\"og:type\" content=\"website\"><meta property=\"og:title\" content=\"Les Moutons Rebelles\"><meta property=\"og:description\" content=\"Média de réflexion &amp; de réinformation\"><meta property=\"og:url\" content=\"https://lesmoutonsrebelles.com\"><meta property=\"og:site_name\" content=\"Les Moutons Rebelles\"><meta property=\"og:image:width\" content=\"1300\"><meta property=\"og:image:height\" content=\"657\"><title>Les Moutons Rebelles | Média de réflexion &amp; de réinformation</title><meta name=\"description\" content=\"Les Moutons rebelles est un site de réflexion &amp; de réinformation indépendant.\"><meta name=\"robots\" content=\"index\"><link rel=canonical href=https://lesmoutonsrebelles.com/><link rel=next href=https://lesmoutonsrebelles.com/page/2/><meta property=\"og:locale\" content=\"fr_FR\"><meta property=\"og:type\" content=\"website\"><meta property=\"og:title\" content=\"Les Moutons Rebelles | Média de réflexion &amp; de réinformation\"><meta property=\"og:description\" content=\"Les Moutons rebelles est un site de réflexion &amp; de réinformation indépendant.\"><meta property=\"og:url\" content=\"https://lesmoutonsrebelles.com/\"><meta property=\"og:site_name\" content=\"Les Moutons Rebelles\"><meta name=\"twitter:card\" content=\"summary\"> <script type=application/ld+json class=yoast-schema-graph>{\"@context\":\"https://schema.org\",\"@graph\":[{\"@type\":\"Organization\",\"@id\":\"https://lesmoutonsrebelles.com/#organization\",\"name\":\"Les Moutons Rebelles\",\"url\":\"https://lesmoutonsrebelles.com/\",\"sameAs\":[\"https://www.facebook.com/lesmoutonsrebelless/\"],\"logo\":{\"@type\":\"ImageObject\",\"@id\":\"https://lesmoutonsrebelles.com/#logo\",\"inLanguage\":\"fr-FR\",\"url\":\"https://lesmoutonsrebelles.com/wp-content/uploads/2016/06/cropped-mlml.jpg\",\"width\":512,\"height\":512,\"caption\":\"Les Moutons Rebelles\"},\"image\":{\"@id\":\"https://lesmoutonsrebelles.com/#logo\"}},{\"@type\":\"WebSite\",\"@id\":\"https://lesmoutonsrebelles.com/#website\",\"url\":\"https://lesmoutonsrebelles.com/\",\"name\":\"Les Moutons Rebelles\",\"description\":\"M\\\\u00e9dia de r\\\\u00e9flexion &amp; de r\\\\u00e9information\",\"publisher\":{\"@id\":\"https://lesmoutonsrebelles.com/#organization\"},\"potentialAction\":[{\"@type\":\"SearchAction\",\"target\":\"https://lesmoutonsrebelles.com/?s={search_term_string}\",\"query-input\":\"required name=search_term_string\"}],\"inLanguage\":\"fr-FR\"},{\"@type\":\"CollectionPage\",\"@id\":\"https://lesmoutonsrebelles.com/#webpage\",\"url\":\"https://lesmoutonsrebelles.com/\",\"name\":\"Les Moutons Rebelles | M\\\\u00e9dia de r\\\\u00e9flexion & de r\\\\u00e9information\",\"isPartOf\":{\"@id\":\"https://lesmoutonsrebelles.com/#website\"},\"about\":{\"@id\":\"https://lesmoutonsrebelles.com/#organization\"},\"description\":\"Les Moutons rebelles est un site de r\\\\u00e9flexion & de r\\\\u00e9information ind\\\\u00e9pendant.\",\"inLanguage\":\"fr-FR\",\"potentialAction\":[{\"@type\":\"ReadAction\",\"target\":[\"https://lesmoutonsrebelles.com/\"]}]}]}</script> <meta name=\"google-site-verification\" content=\"yqyO52p476KSK76z3jaRbcR549j8sKuQb94kmpOV-dw\"><link rel=amphtml href=https://lesmoutonsrebelles.com/amp/><meta name=\"generator\" content=\"AMP for WP 1.0.77.43\"><link rel=dns-prefetch href=//fonts.googleapis.com><link rel=dns-prefetch href=//s.w.org><link rel=preconnect href=https://fonts.gstatic.com><link rel=alternate type=application/rss+xml title=\"Les Moutons Rebelles &raquo; Flux\" href=https://lesmoutonsrebelles.com/feed/><link rel=alternate type=application/rss+xml title=\"Les Moutons Rebelles &raquo; Flux des commentaires\" href=https://lesmoutonsrebelles.com/comments/feed/> <script>window._wpemojiSettings={\"baseUrl\":\"https:\\\\/\\\\/s.w.org\\\\/images\\\\/core\\\\/emoji\\\\/13.1.0\\\\/72x72\\\\/\",\"ext\":\".png\",\"svgUrl\":\"https:\\\\/\\\\/s.w.org\\\\/images\\\\/core\\\\/emoji\\\\/13.1.0\\\\/svg\\\\/\",\"svgExt\":\".svg\",\"source\":{\"concatemoji\":\"https:\\\\/\\\\/lesmoutonsrebelles.com\\\\/wp-includes\\\\/js\\\\/wp-emoji-release.min.js?ver=c6a9d7dd57bb1abce4a68668f8f4800a\"}};\\n/*! This file is auto-generated */\\n!function(e,a,t){var n,r,o,i=a.createElement(\"canvas\"),p=i.getContext&&i.getContext(\"2d\");function s(e,t){var a=String.fromCharCode;p.clearRect(0,0,i.width,i.height),p.fillText(a.apply(this,e),0,0);e=i.toDataURL();return p.clearRect(0,0,i.width,i.height),p.fillText(a.apply(this,t),0,0),e===i.toDataURL()}function c(e){var t=a.createElement(\"script\");t.src=e,t.defer=t.type=\"text/javascript\",a.getElementsByTagName(\"head\")[0].appendChild(t)}for(o=Array(\"flag\",\"emoji\"),t.supports={everything:!0,everythingExceptFlag:!0},r=0;r<o.length;r++)t.supports[o[r]]=function(e){if(!p||!p.fillText)return!1;switch(p.textBaseline=\"top\",p.font=\"600 32px Arial\",e){case\"flag\":return s([127987,65039,8205,9895,65039],[127987,65039,8203,9895,65039])?!1:!s([55356,56826,55356,56819],[55356,56826,8203,55356,56819])&&!s([55356,57332,56128,56423,56128,56418,56128,56421,56128,56430,56128,56423,56128,56447],[55356,57332,8203,56128,56423,8203,56128,56418,8203,56128,56421,8203,56128,56430,8203,56128,56423,8203,56128,56447]);case\"emoji\":return!s([10084,65039,8205,55357,56613],[10084,65039,8203,55357,56613])}return!1}(o[r]),t.supports.everything=t.supports.everything&&t.supports[o[r]],\"flag\"!==o[r]&&(t.supports.everythingExceptFlag=t.supports.everythingExceptFlag&&t.supports[o[r]]);t.supports.everythingExceptFlag=t.supports.everythingExceptFlag&&!t.supports.flag,t.DOMReady=!1,t.readyCallback=function(){t.DOMReady=!0},t.supports.everything||(n=function(){t.readyCallback()},a.addEventListener?(a.addEventListener(\"DOMContentLoaded\",n,!1),e.addEventListener(\"load\",n,!1)):(e.attachEvent(\"onload\",n),a.attachEvent(\"onreadystatechange\",function(){\"complete\"===a.readyState&&t.readyCallback()})),(n=t.source||{}).concatemoji?c(n.concatemoji):n.wpemoji&&n.twemoji&&(c(n.twemoji),c(n.wpemoji)))}(window,document,window._wpemojiSettings);</script> <style>img.wp-smiley,img.emoji{display:inline !important;border:none !important;box-shadow:none !important;height:1em !important;width:1em !important;margin:0\\n0.07em !important;vertical-align:-0.1em !important;background:none !important;padding:0\\n!important}</style><link rel=stylesheet id=contact-form-7-css href=\\'https://lesmoutonsrebelles.com/wp-content/plugins/contact-form-7/includes/css/styles.css?x67247\\' type=text/css media=all><link rel=stylesheet id=g1-main-css href=\\'https://lesmoutonsrebelles.com/wp-content/themes/bimber1/css/8.6.1/styles/original/all-light.min.css?x67247\\' type=text/css media=all><link rel=stylesheet id=bimber-google-fonts-css href=\\'//fonts.googleapis.com/css?family=Roboto%3A400%2C300%2C500%2C600%2C700%2C900%7CPoppins%3A400%2C300%2C500%2C600%2C700&#038;subset=latin%2Clatin-ext%2Ccyrillic%2Ccyrillic-ext&#038;display=swap&#038;ver=8.6.1\\' type=text/css media=all><link rel=stylesheet id=bimber-dynamic-style-css href=https://lesmoutonsrebelles.com/wp-content/uploads/dynamic-style-1638440586.css?x67247 type=text/css media=all><link rel=stylesheet id=easy-social-share-buttons-subscribe-css href=\\'https://lesmoutonsrebelles.com/wp-content/plugins/easy-social-share-buttons3/assets/css/essb-subscribe.min.css?x67247\\' type=text/css media=all><link rel=stylesheet id=easy-social-share-buttons-css href=\\'https://lesmoutonsrebelles.com/wp-content/plugins/easy-social-share-buttons3/assets/css/easy-social-share-buttons.min.css?x67247\\' type=text/css media=all><style id=easy-social-share-buttons-inline-css>.essb_topbar\\n.essb_topbar_inner{max-width:1152px;margin:0\\nauto;padding-left:0;padding-right:0}.essb_topbar{margin-top:-200px}</style><link rel=stylesheet id=bimber-essb-css href=\\'https://lesmoutonsrebelles.com/wp-content/themes/bimber1/css/8.6.1/styles/original/essb-light.min.css?x67247\\' type=text/css media=all><link rel=stylesheet id=bimber-mashshare-css href=\\'https://lesmoutonsrebelles.com/wp-content/themes/bimber1/css/8.6.1/styles/original/mashshare-light.min.css?x67247\\' type=text/css media=all> <script src=\\'https://lesmoutonsrebelles.com/wp-includes/js/jquery/jquery.min.js?x67247\\' id=jquery-core-js></script> <script src=\\'https://lesmoutonsrebelles.com/wp-includes/js/jquery/jquery-migrate.min.js?x67247\\' id=jquery-migrate-js></script> <script src=\\'https://lesmoutonsrebelles.com/wp-content/themes/bimber1/js/modernizr/modernizr-custom.min.js?x67247\\' id=modernizr-js></script> <link rel=https://api.w.org/ href=https://lesmoutonsrebelles.com/wp-json/><link rel=EditURI type=application/rsd+xml title=RSD href=https://lesmoutonsrebelles.com/xmlrpc.php?rsd><link rel=wlwmanifest type=application/wlwmanifest+xml href=https://lesmoutonsrebelles.com/wp-includes/wlwmanifest.xml> <script>(function(i,s,o,g,r,a,m){i[\\'GoogleAnalyticsObject\\']=r;i[r]=i[r]||function(){(i[r].q=i[r].q||[]).push(arguments)},i[r].l=1*new Date();a=s.createElement(o),m=s.getElementsByTagName(o)[0];a.async=1;a.src=g;m.parentNode.insertBefore(a,m)})(window,document,\\'script\\',\\'https://www.google-analytics.com/analytics.js\\',\\'ga\\');ga(\\'create\\',\\'UA-78826811-2\\',\\'auto\\');ga(\\'send\\',\\'pageview\\');</script> <meta property=\"fb:pages\" content=\"406631173151308\"><script>(function(url){if(/(?:Chrome\\\\/26\\\\.0\\\\.1410\\\\.63 Safari\\\\/537\\\\.31|WordfenceTestMonBot)/.test(navigator.userAgent)){return;}\\nvar addEvent=function(evt,handler){if(window.addEventListener){document.addEventListener(evt,handler,false);}else if(window.attachEvent){document.attachEvent(\\'on\\'+evt,handler);}};var removeEvent=function(evt,handler){if(window.removeEventListener){document.removeEventListener(evt,handler,false);}else if(window.detachEvent){document.detachEvent(\\'on\\'+evt,handler);}};var evts=\\'contextmenu dblclick drag dragend dragenter dragleave dragover dragstart drop keydown keypress keyup mousedown mousemove mouseout mouseover mouseup mousewheel scroll\\'.split(\\' \\');var logHuman=function(){if(window.wfLogHumanRan){return;}\\nwindow.wfLogHumanRan=true;var wfscr=document.createElement(\\'script\\');wfscr.type=\\'text/javascript\\';wfscr.async=true;wfscr.src=url+\\'&r=\\'+Math.random();(document.getElementsByTagName(\\'head\\')[0]||document.getElementsByTagName(\\'body\\')[0]).appendChild(wfscr);for(var i=0;i<evts.length;i++){removeEvent(evts[i],logHuman);}};for(var i=0;i<evts.length;i++){addEvent(evts[i],logHuman);}})(\\'//lesmoutonsrebelles.com/?wordfence_lh=1&hid=BED7D3BD97AA958294A8BA12DB422D44\\');</script><link rel=apple-touch-icon sizes=180x180 href=/wp-content/uploads/fbrfg/apple-touch-icon.png?x67247><link rel=icon type=image/png sizes=32x32 href=/wp-content/uploads/fbrfg/favicon-32x32.png?x67247><link rel=icon type=image/png sizes=16x16 href=/wp-content/uploads/fbrfg/favicon-16x16.png?x67247><link rel=manifest href=/wp-content/uploads/fbrfg/site.webmanifest><link rel=mask-icon href=/wp-content/uploads/fbrfg/safari-pinned-tab.svg?x67247 color=#5bbad5><link rel=\"shortcut icon\" href=/wp-content/uploads/fbrfg/favicon.ico?x67247><meta name=\"msapplication-TileColor\" content=\"#da532c\"><meta name=\"msapplication-config\" content=\"/wp-content/uploads/fbrfg/browserconfig.xml\"><meta name=\"theme-color\" content=\"#ffffff\"><style>@font-face{font-family:\"bimber\";src:url(\"https://lesmoutonsrebelles.com/wp-content/themes/bimber1/css/8.6.1/bimber/fonts/bimber.eot\");src:url(\"https://lesmoutonsrebelles.com/wp-content/themes/bimber1/css/8.6.1/bimber/fonts/bimber.eot?#iefix\") format(\"embedded-opentype\"),\\nurl(\"https://lesmoutonsrebelles.com/wp-content/themes/bimber1/css/8.6.1/bimber/fonts/bimber.woff\") format(\"woff\"),\\nurl(\"https://lesmoutonsrebelles.com/wp-content/themes/bimber1/css/8.6.1/bimber/fonts/bimber.ttf\") format(\"truetype\"),\\nurl(\"https://lesmoutonsrebelles.com/wp-content/themes/bimber1/css/8.6.1/bimber/fonts/bimber.svg#bimber\") format(\"svg\");font-weight:normal;font-style:normal;font-display:block}</style><meta name=\"theme-color\" content=\"#000000\"> <script>if(\"undefined\"!=typeof localStorage){var nsfwItemId=document.getElementsByName(\"g1:nsfw-item-id\");nsfwItemId=nsfwItemId.length>0?nsfwItemId[0].getAttribute(\"content\"):\"g1_nsfw_off\",window.g1SwitchNSFW=function(e){e?(localStorage.setItem(nsfwItemId,1),document.documentElement.classList.add(\"g1-nsfw-off\")):(localStorage.removeItem(nsfwItemId),document.documentElement.classList.remove(\"g1-nsfw-off\"))};try{var nsfwmode=localStorage.getItem(nsfwItemId);window.g1SwitchNSFW(nsfwmode)}catch(e){}}</script> <script async custom-element=amp-auto-ads src=https://cdn.ampproject.org/v0/amp-auto-ads-0.1.js></script> </head><body class=\"home blog wp-embed-responsive g1-layout-stretched g1-hoverable g1-has-mobile-logo g1-sidebar-normal essb-7.6\" itemscope itemtype=http://schema.org/WebPage>\\n<amp-auto-ads type=adsense data-ad-client=ca-pub-6394199692387615>\\n</amp-auto-ads><div class=g1-body-inner><div id=page><div class=\"g1-row g1-row-layout-page g1-hb-row g1-hb-row-normal g1-hb-row-a g1-hb-row-1 g1-hb-full g1-hb-sticky-off g1-hb-shadow-off\"><div class=g1-row-inner><div class=\"g1-column g1-dropable\"><div class=\"g1-bin-1 g1-bin-grow-off\"><div class=\"g1-bin g1-bin-align-left\"></div></div><div class=\"g1-bin-2 g1-bin-grow-off\"><div class=\"g1-bin g1-bin-align-center\"></div></div><div class=\"g1-bin-3 g1-bin-grow-off\"><div class=\"g1-bin g1-bin-align-right\"></div></div></div></div><div class=g1-row-background></div></div><div class=\"g1-sticky-top-wrapper g1-hb-row-2\"><div class=\"g1-row g1-row-layout-page g1-hb-row g1-hb-row-normal g1-hb-row-b g1-hb-row-2 g1-hb-full g1-hb-sticky-on g1-hb-shadow-off\"><div class=g1-row-inner><div class=\"g1-column g1-dropable\"><div class=\"g1-bin-1 g1-bin-grow-off\"><div class=\"g1-bin g1-bin-align-left\"></div></div><div class=\"g1-bin-2 g1-bin-grow-off\"><div class=\"g1-bin g1-bin-align-center\"><div class=\"g1-id g1-id-desktop\"><h1 class=\"g1-mega g1-mega-1st site-title\">\\n<a class=g1-logo-wrapper href=https://lesmoutonsrebelles.com/ rel=home>\\n<picture class=\"g1-logo g1-logo-default\">\\n<source media=\"(min-width: 1025px)\" srcset=\"https://lesmoutonsrebelles.com/wp-content/uploads/2021/03/12821468_701299089973611_59x07940545231897658_n-min.png 2x,https://lesmoutonsrebelles.com/wp-content/uploads/2021/03/12821468_701299089973611_59x07940545231897658_n-min.png 1x\">\\n<source media=\"(max-width: 1024px)\" srcset=data:image/svg+xml,%3Csvg%20xmlns%3D%27http%3A%2F%2Fwww.w3.org%2F2000%2Fsvg%27%20viewBox%3D%270%200%20150%2020%27%2F%3E>\\n<img src=https://lesmoutonsrebelles.com/wp-content/uploads/2021/03/12821468_701299089973611_59x07940545231897658_n-min.png?x67247 width=150 height=20 alt=\"Les Moutons Rebelles\">\\n</picture></a></h1></div><nav id=g1-primary-nav class=g1-primary-nav><ul id=g1-primary-nav-menu class=\"g1-primary-nav-menu g1-menu-h\"><li id=menu-item-18676 class=\"menu-item menu-item-type-taxonomy menu-item-object-category menu-item-g1-standard menu-item-18676\"><a href=https://lesmoutonsrebelles.com/societe/>Société</a></li>\\n<li id=menu-item-18677 class=\"menu-item menu-item-type-taxonomy menu-item-object-category menu-item-g1-standard menu-item-18677\"><a href=https://lesmoutonsrebelles.com/sante/>Santé</a></li>\\n<li id=menu-item-32165 class=\"menu-item menu-item-type-taxonomy menu-item-object-category menu-item-g1-standard menu-item-32165\"><a href=https://lesmoutonsrebelles.com/economie/>Économie</a></li>\\n<li id=menu-item-18681 class=\"menu-item menu-item-type-post_type menu-item-object-page menu-item-g1-standard menu-item-18681\"><a href=https://lesmoutonsrebelles.com/france/>France</a></li>\\n<li id=menu-item-18678 class=\"menu-item menu-item-type-taxonomy menu-item-object-category menu-item-g1-standard menu-item-18678\"><a href=https://lesmoutonsrebelles.com/science-tech/>Science &amp; Tech</a></li>\\n<li id=menu-item-32166 class=\"menu-item menu-item-type-taxonomy menu-item-object-category menu-item-g1-standard menu-item-32166\"><a href=https://lesmoutonsrebelles.com/europe/>Europe</a></li>\\n<li id=menu-item-18979 class=\"menu-item menu-item-type-post_type menu-item-object-page menu-item-g1-standard menu-item-18979\"><a href=https://lesmoutonsrebelles.com/contact/>Contact</a></li></ul></nav></div></div><div class=\"g1-bin-3 g1-bin-grow-off\"><div class=\"g1-bin g1-bin-align-right\"><div class=\"g1-drop g1-drop-with-anim g1-drop-before g1-drop-the-search  g1-drop-s g1-drop-icon \">\\n<a class=g1-drop-toggle href=\"https://lesmoutonsrebelles.com/?s=\">\\n<span class=g1-drop-toggle-icon></span><span class=g1-drop-toggle-text>Search</span>\\n<span class=g1-drop-toggle-arrow></span>\\n</a><div class=g1-drop-content><div role=search class=search-form-wrapper><form method=get class=\"g1-searchform-tpl-default g1-searchform-ajax search-form\" action=https://lesmoutonsrebelles.com/>\\n<label>\\n<span class=screen-reader-text>Search for:</span>\\n<input type=search class=search-field placeholder=\"Search &hellip;\" value name=s title=\"Search for:\">\\n</label>\\n<button class=search-submit>Search</button></form><div class=\"g1-searches g1-searches-ajax\"></div></div></div></div></div></div></div></div><div class=g1-row-background></div></div></div><div class=\"g1-row g1-row-layout-page g1-hb-row g1-hb-row-normal g1-hb-row-c g1-hb-row-3 g1-hb-full g1-hb-sticky-off g1-hb-shadow-off\"><div class=g1-row-inner><div class=\"g1-column g1-dropable\"><div class=\"g1-bin-1 g1-bin-grow-off\"><div class=\"g1-bin g1-bin-align-left\"></div></div><div class=\"g1-bin-2 g1-bin-grow-off\"><div class=\"g1-bin g1-bin-align-center\"></div></div><div class=\"g1-bin-3 g1-bin-grow-off\"><div class=\"g1-bin g1-bin-align-right\"></div></div></div></div><div class=g1-row-background></div></div><div class=\"g1-sticky-top-wrapper g1-hb-row-1\"><div class=\"g1-row g1-row-layout-page g1-hb-row g1-hb-row-mobile g1-hb-row-a g1-hb-row-1 g1-hb-boxed g1-hb-sticky-on g1-hb-shadow-off\"><div class=g1-row-inner><div class=\"g1-column g1-dropable\"><div class=\"g1-bin-1 g1-bin-grow-off\"><div class=\"g1-bin g1-bin-align-left\"></div></div><div class=\"g1-bin-2 g1-bin-grow-off\"><div class=\"g1-bin g1-bin-align-center\"></div></div><div class=\"g1-bin-3 g1-bin-grow-off\"><div class=\"g1-bin g1-bin-align-right\"></div></div></div></div><div class=g1-row-background></div></div></div><div class=\"g1-row g1-row-layout-page g1-hb-row g1-hb-row-mobile g1-hb-row-b g1-hb-row-2 g1-hb-boxed g1-hb-sticky-off g1-hb-shadow-off\"><div class=g1-row-inner><div class=\"g1-column g1-dropable\"><div class=\"g1-bin-1 g1-bin-grow-off\"><div class=\"g1-bin g1-bin-align-left\"></div></div><div class=\"g1-bin-2 g1-bin-grow-on\"><div class=\"g1-bin g1-bin-align-center\"></div></div><div class=\"g1-bin-3 g1-bin-grow-off\"><div class=\"g1-bin g1-bin-align-right\"></div></div></div></div><div class=g1-row-background></div></div><div class=\"g1-row g1-row-layout-page g1-hb-row g1-hb-row-mobile g1-hb-row-c g1-hb-row-3 g1-hb-boxed g1-hb-sticky-off g1-hb-shadow-off\"><div class=g1-row-inner><div class=\"g1-column g1-dropable\"><div class=\"g1-bin-1 g1-bin-grow-off\"><div class=\"g1-bin g1-bin-align-left\">\\n<a class=\"g1-hamburger g1-hamburger-show g1-hamburger-s  \" href=#>\\n<span class=g1-hamburger-icon></span>\\n<span class=\"g1-hamburger-label\\ng1-hamburger-label-hidden\\t\\t\\t\">Menu</span>\\n</a></div></div><div class=\"g1-bin-2 g1-bin-grow-on\"><div class=\"g1-bin g1-bin-align-center\"><div class=\"g1-id g1-id-mobile\"><p class=\"g1-mega g1-mega-1st site-title\">\\n<a class=g1-logo-wrapper href=https://lesmoutonsrebelles.com/ rel=home>\\n<picture class=\"g1-logo g1-logo-default\">\\n<source media=\"(max-width: 1024px)\" srcset=\"https://lesmoutonsrebelles.com/wp-content/uploads/2019/06/LOGOn.png 2x,https://lesmoutonsrebelles.com/wp-content/uploads/2019/06/LOGOn.png 1x\">\\n<source media=\"(min-width: 1025px)\" srcset=data:image/svg+xml,%3Csvg%20xmlns%3D%27http%3A%2F%2Fwww.w3.org%2F2000%2Fsvg%27%20viewBox%3D%270%200%20150%2010%27%2F%3E>\\n<img src=https://lesmoutonsrebelles.com/wp-content/uploads/2019/06/LOGOn.png?x67247 width=150 height=10 alt=\"Les Moutons Rebelles\">\\n</picture></a></p></div></div></div><div class=\"g1-bin-3 g1-bin-grow-off\"><div class=\"g1-bin g1-bin-align-right\"></div></div></div></div><div class=g1-row-background></div></div><section class=\"g1-row g1-row-fluid g1-row-nogutter g1-row-layout-page archive-featured archive-featured-stretched\"><div class=g1-row-inner><div class=g1-column><h2 class=\"g1-delta g1-delta-2nd screen-reader-text archive-featured-title\"><span><strong>Latest stories</strong></span></h2><div class=\"g1-mosaic g1-mosaic-3-3v-3v-3v-3v\"><div class=\"g1-mosaic-item g1-mosaic-item-1\"><article class=\"entry-tpl-tile g1-dark post-37443 post type-post status-publish format-standard has-post-thumbnail category-france\"><div class=\"entry-featured-media \"><a title=\"Éric Zemmour veut proposer une loi pour l&rsquo;interdiction des associations «\\xa0LGBT, féministes, antiracistes\\xa0» dans les écoles publiques\" class=g1-frame href=https://lesmoutonsrebelles.com/eric-zemmour-veut-proposer-une-loi-pour-linterdiction-des-associations-lgbt-feministes-antiracistes-dans-les-ecoles-publiques/><div class=g1-frame-inner><img width=758 height=426 src=https://lesmoutonsrebelles.com/wp-content/uploads/2022/06/brave_0lpANSkPTS-758x426.jpg?x67247 class=\"attachment-bimber-tile size-bimber-tile wp-post-image\" alt loading=lazy srcset=\"https://lesmoutonsrebelles.com/wp-content/uploads/2022/06/brave_0lpANSkPTS-758x426.jpg 758w, https://lesmoutonsrebelles.com/wp-content/uploads/2022/06/brave_0lpANSkPTS-192x108.jpg 192w, https://lesmoutonsrebelles.com/wp-content/uploads/2022/06/brave_0lpANSkPTS-384x216.jpg 384w, https://lesmoutonsrebelles.com/wp-content/uploads/2022/06/brave_0lpANSkPTS-364x205.jpg 364w, https://lesmoutonsrebelles.com/wp-content/uploads/2022/06/brave_0lpANSkPTS-728x409.jpg 728w, https://lesmoutonsrebelles.com/wp-content/uploads/2022/06/brave_0lpANSkPTS-561x316.jpg 561w\" sizes=\"(max-width: 758px) 100vw, 758px\"><span class=\"g1-frame-icon g1-frame-icon-\"></span></div></a></div><div class=entry-body><header class=entry-header><div class=entry-before-title></div><h3 class=\"g1-gamma g1-gamma-1st entry-title\"><a href=https://lesmoutonsrebelles.com/eric-zemmour-veut-proposer-une-loi-pour-linterdiction-des-associations-lgbt-feministes-antiracistes-dans-les-ecoles-publiques/ rel=bookmark>Éric Zemmour veut proposer une loi pour l&rsquo;interdiction des associations «\\xa0LGBT, féministes, antiracistes\\xa0» dans les écoles publiques</a></h3></header></div></article></div><div class=\"g1-mosaic-item g1-mosaic-item-2\"><article class=\"entry-tpl-tile g1-dark post-37438 post type-post status-publish format-standard has-post-thumbnail category-guerre\"><div class=\"entry-featured-media \"><a title=\"Quand la TV russe se moque de Macron [VIDEO]\" class=g1-frame href=https://lesmoutonsrebelles.com/quand-la-tv-russe-se-moque-de-macron-video/><div class=g1-frame-inner><img width=758 height=426 src=https://lesmoutonsrebelles.com/wp-content/uploads/2022/06/RwO2wvC5-J_fsb1d-758x426.jpg?x67247 class=\"attachment-bimber-tile size-bimber-tile wp-post-image\" alt loading=lazy srcset=\"https://lesmoutonsrebelles.com/wp-content/uploads/2022/06/RwO2wvC5-J_fsb1d-758x426.jpg 758w, https://lesmoutonsrebelles.com/wp-content/uploads/2022/06/RwO2wvC5-J_fsb1d-300x169.jpg 300w, https://lesmoutonsrebelles.com/wp-content/uploads/2022/06/RwO2wvC5-J_fsb1d-1024x576.jpg 1024w, https://lesmoutonsrebelles.com/wp-content/uploads/2022/06/RwO2wvC5-J_fsb1d-768x432.jpg 768w, https://lesmoutonsrebelles.com/wp-content/uploads/2022/06/RwO2wvC5-J_fsb1d-192x108.jpg 192w, https://lesmoutonsrebelles.com/wp-content/uploads/2022/06/RwO2wvC5-J_fsb1d-384x216.jpg 384w, https://lesmoutonsrebelles.com/wp-content/uploads/2022/06/RwO2wvC5-J_fsb1d-364x205.jpg 364w, https://lesmoutonsrebelles.com/wp-content/uploads/2022/06/RwO2wvC5-J_fsb1d-728x409.jpg 728w, https://lesmoutonsrebelles.com/wp-content/uploads/2022/06/RwO2wvC5-J_fsb1d-561x316.jpg 561w, https://lesmoutonsrebelles.com/wp-content/uploads/2022/06/RwO2wvC5-J_fsb1d-1122x631.jpg 1122w, https://lesmoutonsrebelles.com/wp-content/uploads/2022/06/RwO2wvC5-J_fsb1d-608x342.jpg 608w, https://lesmoutonsrebelles.com/wp-content/uploads/2022/06/RwO2wvC5-J_fsb1d-1152x648.jpg 1152w, https://lesmoutonsrebelles.com/wp-content/uploads/2022/06/RwO2wvC5-J_fsb1d.jpg 1200w\" sizes=\"(max-width: 758px) 100vw, 758px\"><span class=\"g1-frame-icon g1-frame-icon-\"></span></div></a></div><div class=entry-body><header class=entry-header><div class=entry-before-title></div><h3 class=\"g1-gamma g1-gamma-1st entry-title\"><a href=https://lesmoutonsrebelles.com/quand-la-tv-russe-se-moque-de-macron-video/ rel=bookmark>Quand la TV russe se moque de Macron [VIDEO]</a></h3></header></div></article></div><div class=\"g1-mosaic-item g1-mosaic-item-3\"><article class=\"entry-tpl-tile g1-dark post-37434 post type-post status-publish format-standard has-post-thumbnail category-non-classe-es\"><div class=\"entry-featured-media \"><a title=\"Les vers ronds, comment s&rsquo;en débarrasser?\" class=g1-frame href=https://lesmoutonsrebelles.com/les-vers-ronds-comment-sen-debarrasser/><div class=g1-frame-inner><img width=758 height=426 src=https://lesmoutonsrebelles.com/wp-content/uploads/2022/06/d5a748cc662ee2c650ec7f3249b57de4-758x426.png?x67247 class=\"attachment-bimber-tile size-bimber-tile wp-post-image\" alt loading=lazy srcset=\"https://lesmoutonsrebelles.com/wp-content/uploads/2022/06/d5a748cc662ee2c650ec7f3249b57de4-758x426.png 758w, https://lesmoutonsrebelles.com/wp-content/uploads/2022/06/d5a748cc662ee2c650ec7f3249b57de4-192x108.png 192w, https://lesmoutonsrebelles.com/wp-content/uploads/2022/06/d5a748cc662ee2c650ec7f3249b57de4-384x216.png 384w, https://lesmoutonsrebelles.com/wp-content/uploads/2022/06/d5a748cc662ee2c650ec7f3249b57de4-364x205.png 364w, https://lesmoutonsrebelles.com/wp-content/uploads/2022/06/d5a748cc662ee2c650ec7f3249b57de4-728x409.png 728w, https://lesmoutonsrebelles.com/wp-content/uploads/2022/06/d5a748cc662ee2c650ec7f3249b57de4-561x316.png 561w, https://lesmoutonsrebelles.com/wp-content/uploads/2022/06/d5a748cc662ee2c650ec7f3249b57de4-1122x631.png 1122w, https://lesmoutonsrebelles.com/wp-content/uploads/2022/06/d5a748cc662ee2c650ec7f3249b57de4-1152x648.png 1152w\" sizes=\"(max-width: 758px) 100vw, 758px\"><span class=\"g1-frame-icon g1-frame-icon-\"></span></div></a></div><div class=entry-body><header class=entry-header><div class=entry-before-title></div><h3 class=\"g1-gamma g1-gamma-1st entry-title\"><a href=https://lesmoutonsrebelles.com/les-vers-ronds-comment-sen-debarrasser/ rel=bookmark>Les vers ronds, comment s&rsquo;en débarrasser?</a></h3></header></div></article></div><div class=\"g1-mosaic-item g1-mosaic-item-4\"><article class=\"entry-tpl-tile g1-dark post-37429 post type-post status-publish format-standard has-post-thumbnail category-politique\"><div class=\"entry-featured-media \"><a title=\"Comment la Russie peut (et va ?) débarrasser l’Europe de l’OTAN ?\" class=g1-frame href=https://lesmoutonsrebelles.com/comment-la-russie-peut-et-va-debarrasser-leurope-de-lotan/><div class=g1-frame-inner><img width=758 height=426 src=https://lesmoutonsrebelles.com/wp-content/uploads/2022/06/brave_odigVYldGz-758x426.jpg?x67247 class=\"attachment-bimber-tile size-bimber-tile wp-post-image\" alt loading=lazy srcset=\"https://lesmoutonsrebelles.com/wp-content/uploads/2022/06/brave_odigVYldGz-758x426.jpg 758w, https://lesmoutonsrebelles.com/wp-content/uploads/2022/06/brave_odigVYldGz-192x108.jpg 192w, https://lesmoutonsrebelles.com/wp-content/uploads/2022/06/brave_odigVYldGz-384x216.jpg 384w, https://lesmoutonsrebelles.com/wp-content/uploads/2022/06/brave_odigVYldGz-364x205.jpg 364w, https://lesmoutonsrebelles.com/wp-content/uploads/2022/06/brave_odigVYldGz-728x409.jpg 728w, https://lesmoutonsrebelles.com/wp-content/uploads/2022/06/brave_odigVYldGz-561x316.jpg 561w\" sizes=\"(max-width: 758px) 100vw, 758px\"><span class=\"g1-frame-icon g1-frame-icon-\"></span></div></a></div><div class=entry-body><header class=entry-header><div class=entry-before-title></div><h3 class=\"g1-gamma g1-gamma-1st entry-title\"><a href=https://lesmoutonsrebelles.com/comment-la-russie-peut-et-va-debarrasser-leurope-de-lotan/ rel=bookmark>Comment la Russie peut (et va ?) débarrasser l’Europe de l’OTAN ?</a></h3></header></div></article></div><div class=\"g1-mosaic-item g1-mosaic-item-5\"><article class=\"entry-tpl-tile g1-dark post-37426 post type-post status-publish format-standard has-post-thumbnail category-france\"><div class=\"entry-featured-media \"><a title=\"Jean-Michel Blanquer rigole face à une femme qui lui annonce la mort de son mari suite à la 3e dose\" class=g1-frame href=https://lesmoutonsrebelles.com/jean-michel-blanquer-rigole-face-a-une-femme-qui-lui-annonce-la-mort-de-son-mari-suite-a-la-3e-dose/><div class=g1-frame-inner><img width=758 height=426 src=https://lesmoutonsrebelles.com/wp-content/uploads/2022/06/bl_edited_edited-758x426.jpg?x67247 class=\"attachment-bimber-tile size-bimber-tile wp-post-image\" alt loading=lazy srcset=\"https://lesmoutonsrebelles.com/wp-content/uploads/2022/06/bl_edited_edited-758x426.jpg 758w, https://lesmoutonsrebelles.com/wp-content/uploads/2022/06/bl_edited_edited-300x169.jpg 300w, https://lesmoutonsrebelles.com/wp-content/uploads/2022/06/bl_edited_edited-1024x576.jpg 1024w, https://lesmoutonsrebelles.com/wp-content/uploads/2022/06/bl_edited_edited-768x432.jpg 768w, https://lesmoutonsrebelles.com/wp-content/uploads/2022/06/bl_edited_edited-1536x864.jpg 1536w, https://lesmoutonsrebelles.com/wp-content/uploads/2022/06/bl_edited_edited-192x108.jpg 192w, https://lesmoutonsrebelles.com/wp-content/uploads/2022/06/bl_edited_edited-384x216.jpg 384w, https://lesmoutonsrebelles.com/wp-content/uploads/2022/06/bl_edited_edited-364x205.jpg 364w, https://lesmoutonsrebelles.com/wp-content/uploads/2022/06/bl_edited_edited-728x409.jpg 728w, https://lesmoutonsrebelles.com/wp-content/uploads/2022/06/bl_edited_edited-561x316.jpg 561w, https://lesmoutonsrebelles.com/wp-content/uploads/2022/06/bl_edited_edited-1122x631.jpg 1122w, https://lesmoutonsrebelles.com/wp-content/uploads/2022/06/bl_edited_edited-608x342.jpg 608w, https://lesmoutonsrebelles.com/wp-content/uploads/2022/06/bl_edited_edited-1152x648.jpg 1152w, https://lesmoutonsrebelles.com/wp-content/uploads/2022/06/bl_edited_edited.jpg 1920w\" sizes=\"(max-width: 758px) 100vw, 758px\"><span class=\"g1-frame-icon g1-frame-icon-\"></span></div></a></div><div class=entry-body><header class=entry-header><div class=entry-before-title></div><h3 class=\"g1-gamma g1-gamma-1st entry-title\"><a href=https://lesmoutonsrebelles.com/jean-michel-blanquer-rigole-face-a-une-femme-qui-lui-annonce-la-mort-de-son-mari-suite-a-la-3e-dose/ rel=bookmark>Jean-Michel Blanquer rigole face à une femme qui lui annonce la mort de son mari suite à la 3e dose</a></h3></header></div></article></div></div></div></div><div class=g1-row-background></div></section><div class=\"page-body archive-body g1-row g1-row-layout-page g1-row-padding-m\"><div class=g1-row-inner><div id=primary class=\"g1-column g1-column-2of3\"><div class=\"g1-collection g1-collection-columns-2\"><h2 class=\"g1-delta g1-delta-2nd screen-reader-text g1-collection-title\"><span>More stories</span></h2><div class=g1-collection-viewport><ul class=g1-collection-items>\\n<li class=\"g1-collection-item g1-collection-item-1of3\"><article class=\"entry-tpl-grid entry-tpl-grid-m post-37423 post type-post status-publish format-standard has-post-thumbnail category-nouvel-ordre-mondial\"><div class=\"entry-featured-media \"><a title=\"Rand Paul: «\\xa0L’élite [de Davos] veut un gouvernement mondial, ce n’est pas une théorie du complot\\xa0»\" class=g1-frame href=https://lesmoutonsrebelles.com/rand-paul-lelite-de-davos-veut-un-gouvernement-mondial-ce-nest-pas-une-theorie-du-complot/><div class=g1-frame-inner><img width=364 height=205 src=https://lesmoutonsrebelles.com/wp-content/uploads/2022/06/image_1044304_20220606_ob_1248d2_fddfr-0-364x205.jpg?x67247 class=\"attachment-bimber-grid-standard size-bimber-grid-standard wp-post-image\" alt srcset=\"https://lesmoutonsrebelles.com/wp-content/uploads/2022/06/image_1044304_20220606_ob_1248d2_fddfr-0-364x205.jpg 364w, https://lesmoutonsrebelles.com/wp-content/uploads/2022/06/image_1044304_20220606_ob_1248d2_fddfr-0-192x108.jpg 192w, https://lesmoutonsrebelles.com/wp-content/uploads/2022/06/image_1044304_20220606_ob_1248d2_fddfr-0-384x216.jpg 384w, https://lesmoutonsrebelles.com/wp-content/uploads/2022/06/image_1044304_20220606_ob_1248d2_fddfr-0-728x409.jpg 728w, https://lesmoutonsrebelles.com/wp-content/uploads/2022/06/image_1044304_20220606_ob_1248d2_fddfr-0-561x316.jpg 561w, https://lesmoutonsrebelles.com/wp-content/uploads/2022/06/image_1044304_20220606_ob_1248d2_fddfr-0-1122x631.jpg 1122w, https://lesmoutonsrebelles.com/wp-content/uploads/2022/06/image_1044304_20220606_ob_1248d2_fddfr-0-758x426.jpg 758w, https://lesmoutonsrebelles.com/wp-content/uploads/2022/06/image_1044304_20220606_ob_1248d2_fddfr-0-1152x648.jpg 1152w\" sizes=\"(max-width: 364px) 100vw, 364px\"><span class=\"g1-frame-icon g1-frame-icon-\"></span></div></a></div><div class=entry-body><header class=entry-header><div class=entry-before-title><p class=\"entry-meta entry-stats g1-meta g1-meta g1-current-background\"><span class=entry-shares><strong>120</strong><span> Shares</span></span></p>\\n<span class=\"entry-categories \"><span class=entry-categories-inner><span class=entry-categories-label>in</span> <a href=https://lesmoutonsrebelles.com/nouvel-ordre-mondial/ class=\"entry-category entry-category-item-104\">Nouvel Ordre Mondial</a></span></span></div><h3 class=\"g1-gamma g1-gamma-1st entry-title\"><a href=https://lesmoutonsrebelles.com/rand-paul-lelite-de-davos-veut-un-gouvernement-mondial-ce-nest-pas-une-theorie-du-complot/ rel=bookmark>Rand Paul: «\\xa0L’élite [de Davos] veut un gouvernement mondial, ce n’est pas une théorie du complot\\xa0»</a></h3></header><footer><p class=\"g1-meta entry-meta entry-byline \">\\n<span class=entry-author>\\n<span class=entry-meta-label>by</span>\\n<a href=https://lesmoutonsrebelles.com/author/lerebelle/ title=\"Posts by Durden\" rel=author>\\n<strong>Durden</strong>\\n</a>\\n</span>\\n<time class=entry-date datetime=2022-06-07T01:43:35+02:00>juin 7, 2022, 1 h 43 min</time></p></footer></div></article>\\n</li>\\n<li class=\"g1-collection-item g1-collection-item-1of3\"><article class=\"entry-tpl-grid entry-tpl-grid-m post-37420 post type-post status-publish format-standard has-post-thumbnail category-guerre\"><div class=\"entry-featured-media \"><a title=\"La Russie menace de « frapper l’Occident » si des roquettes fournies par les États-Unis tombent sur son territoire\" class=g1-frame href=https://lesmoutonsrebelles.com/la-russie-menace-de-frapper-loccident-si-des-roquettes-fournies-par-les-etats-unis-tombent-sur-son-territoire/><div class=g1-frame-inner><img width=364 height=205 src=https://lesmoutonsrebelles.com/wp-content/uploads/2022/06/image_1044304_20220606_ob_707145_roquette-biden-364x205.jpg?x67247 class=\"attachment-bimber-grid-standard size-bimber-grid-standard wp-post-image\" alt loading=lazy srcset=\"https://lesmoutonsrebelles.com/wp-content/uploads/2022/06/image_1044304_20220606_ob_707145_roquette-biden-364x205.jpg 364w, https://lesmoutonsrebelles.com/wp-content/uploads/2022/06/image_1044304_20220606_ob_707145_roquette-biden-192x108.jpg 192w, https://lesmoutonsrebelles.com/wp-content/uploads/2022/06/image_1044304_20220606_ob_707145_roquette-biden-384x216.jpg 384w, https://lesmoutonsrebelles.com/wp-content/uploads/2022/06/image_1044304_20220606_ob_707145_roquette-biden-728x409.jpg 728w, https://lesmoutonsrebelles.com/wp-content/uploads/2022/06/image_1044304_20220606_ob_707145_roquette-biden-561x316.jpg 561w, https://lesmoutonsrebelles.com/wp-content/uploads/2022/06/image_1044304_20220606_ob_707145_roquette-biden-758x426.jpg 758w\" sizes=\"(max-width: 364px) 100vw, 364px\"><span class=\"g1-frame-icon g1-frame-icon-\"></span></div></a></div><div class=entry-body><header class=entry-header><div class=entry-before-title><p class=\"entry-meta entry-stats g1-meta g1-meta g1-current-background\"><span class=entry-shares><strong>120</strong><span> Shares</span></span></p>\\n<span class=\"entry-categories \"><span class=entry-categories-inner><span class=entry-categories-label>in</span> <a href=https://lesmoutonsrebelles.com/guerre/ class=\"entry-category entry-category-item-385\">Guerre</a></span></span></div><h3 class=\"g1-gamma g1-gamma-1st entry-title\"><a href=https://lesmoutonsrebelles.com/la-russie-menace-de-frapper-loccident-si-des-roquettes-fournies-par-les-etats-unis-tombent-sur-son-territoire/ rel=bookmark>La Russie menace de « frapper l’Occident » si des roquettes fournies par les États-Unis tombent sur son territoire</a></h3></header><footer><p class=\"g1-meta entry-meta entry-byline \">\\n<span class=entry-author>\\n<span class=entry-meta-label>by</span>\\n<a href=https://lesmoutonsrebelles.com/author/lerebelle/ title=\"Posts by Durden\" rel=author>\\n<strong>Durden</strong>\\n</a>\\n</span>\\n<time class=entry-date datetime=2022-06-07T01:41:07+02:00>juin 7, 2022, 1 h 41 min</time></p></footer></div></article>\\n</li>\\n<li class=\"g1-collection-item g1-collection-item-1of3\"><article class=\"entry-tpl-grid entry-tpl-grid-m post-37417 post type-post status-publish format-standard has-post-thumbnail category-france\"><div class=\"entry-featured-media \"><a title=\"L&rsquo;édito de Pascal Praud : «Le président ne répond plus»\" class=g1-frame href=https://lesmoutonsrebelles.com/ledito-de-pascal-praud-le-president-ne-repond-plus/><div class=g1-frame-inner><img width=364 height=205 src=https://lesmoutonsrebelles.com/wp-content/uploads/2022/06/brave_sTYoJEcx5H-364x205.jpg?x67247 class=\"attachment-bimber-grid-standard size-bimber-grid-standard wp-post-image\" alt loading=lazy srcset=\"https://lesmoutonsrebelles.com/wp-content/uploads/2022/06/brave_sTYoJEcx5H-364x205.jpg 364w, https://lesmoutonsrebelles.com/wp-content/uploads/2022/06/brave_sTYoJEcx5H-192x108.jpg 192w, https://lesmoutonsrebelles.com/wp-content/uploads/2022/06/brave_sTYoJEcx5H-384x216.jpg 384w, https://lesmoutonsrebelles.com/wp-content/uploads/2022/06/brave_sTYoJEcx5H-728x409.jpg 728w, https://lesmoutonsrebelles.com/wp-content/uploads/2022/06/brave_sTYoJEcx5H-561x316.jpg 561w, https://lesmoutonsrebelles.com/wp-content/uploads/2022/06/brave_sTYoJEcx5H-1122x631.jpg 1122w, https://lesmoutonsrebelles.com/wp-content/uploads/2022/06/brave_sTYoJEcx5H-758x426.jpg 758w, https://lesmoutonsrebelles.com/wp-content/uploads/2022/06/brave_sTYoJEcx5H-1152x648.jpg 1152w\" sizes=\"(max-width: 364px) 100vw, 364px\"><span class=\"g1-frame-icon g1-frame-icon-\"></span></div></a></div><div class=entry-body><header class=entry-header><div class=entry-before-title><p class=\"entry-meta entry-stats g1-meta g1-meta g1-current-background\"><span class=entry-shares><strong>121</strong><span> Shares</span></span></p>\\n<span class=\"entry-categories \"><span class=entry-categories-inner><span class=entry-categories-label>in</span> <a href=https://lesmoutonsrebelles.com/france/ class=\"entry-category entry-category-item-119\">France</a></span></span></div><h3 class=\"g1-gamma g1-gamma-1st entry-title\"><a href=https://lesmoutonsrebelles.com/ledito-de-pascal-praud-le-president-ne-repond-plus/ rel=bookmark>L&rsquo;édito de Pascal Praud : «Le président ne répond plus»</a></h3></header><footer><p class=\"g1-meta entry-meta entry-byline \">\\n<span class=entry-author>\\n<span class=entry-meta-label>by</span>\\n<a href=https://lesmoutonsrebelles.com/author/lerebelle/ title=\"Posts by Durden\" rel=author>\\n<strong>Durden</strong>\\n</a>\\n</span>\\n<time class=entry-date datetime=2022-06-06T13:14:20+02:00>juin 6, 2022, 13 h 14 min</time></p></footer></div></article>\\n</li>\\n<li class=\"g1-collection-item g1-collection-item-1of3\"><article class=\"entry-tpl-grid entry-tpl-grid-m post-37414 post type-post status-publish format-standard has-post-thumbnail category-europe\"><div class=\"entry-featured-media \"><a title=\"Berlusconi : la situation en Ukraine montre l’isolement de l’Occident\" class=g1-frame href=https://lesmoutonsrebelles.com/berlusconi-la-situation-en-ukraine-montre-lisolement-de-loccident/><div class=g1-frame-inner><img width=364 height=205 src=https://lesmoutonsrebelles.com/wp-content/uploads/2022/06/brave_0cn8YwqYzw-364x205.jpg?x67247 class=\"attachment-bimber-grid-standard size-bimber-grid-standard wp-post-image\" alt loading=lazy srcset=\"https://lesmoutonsrebelles.com/wp-content/uploads/2022/06/brave_0cn8YwqYzw-364x205.jpg 364w, https://lesmoutonsrebelles.com/wp-content/uploads/2022/06/brave_0cn8YwqYzw-192x108.jpg 192w, https://lesmoutonsrebelles.com/wp-content/uploads/2022/06/brave_0cn8YwqYzw-384x216.jpg 384w, https://lesmoutonsrebelles.com/wp-content/uploads/2022/06/brave_0cn8YwqYzw-728x409.jpg 728w, https://lesmoutonsrebelles.com/wp-content/uploads/2022/06/brave_0cn8YwqYzw-561x316.jpg 561w, https://lesmoutonsrebelles.com/wp-content/uploads/2022/06/brave_0cn8YwqYzw-758x426.jpg 758w\" sizes=\"(max-width: 364px) 100vw, 364px\"><span class=\"g1-frame-icon g1-frame-icon-\"></span></div></a></div><div class=entry-body><header class=entry-header><div class=entry-before-title><p class=\"entry-meta entry-stats g1-meta g1-meta g1-current-background\"><span class=entry-shares><strong>121</strong><span> Shares</span></span></p>\\n<span class=\"entry-categories \"><span class=entry-categories-inner><span class=entry-categories-label>in</span> <a href=https://lesmoutonsrebelles.com/europe/ class=\"entry-category entry-category-item-120\">Europe</a></span></span></div><h3 class=\"g1-gamma g1-gamma-1st entry-title\"><a href=https://lesmoutonsrebelles.com/berlusconi-la-situation-en-ukraine-montre-lisolement-de-loccident/ rel=bookmark>Berlusconi : la situation en Ukraine montre l’isolement de l’Occident</a></h3></header><footer><p class=\"g1-meta entry-meta entry-byline \">\\n<span class=entry-author>\\n<span class=entry-meta-label>by</span>\\n<a href=https://lesmoutonsrebelles.com/author/lerebelle/ title=\"Posts by Durden\" rel=author>\\n<strong>Durden</strong>\\n</a>\\n</span>\\n<time class=entry-date datetime=2022-06-06T02:39:24+02:00>juin 6, 2022, 2 h 39 min</time></p></footer></div></article>\\n</li>\\n<li class=\"g1-collection-item g1-collection-item-1of3\"><article class=\"entry-tpl-grid entry-tpl-grid-m post-37411 post type-post status-publish format-standard has-post-thumbnail category-societe\"><div class=\"entry-featured-media \"><a title=\"La psychologue clinicienne Ariane Bilheran : « Seuls 3 types de profils résistent au déferlement totalitaire »\" class=g1-frame href=https://lesmoutonsrebelles.com/la-psychologue-clinicienne-ariane-bilheran-seuls-3-types-de-profils-resistent-au-deferlement-totalitaire/><div class=g1-frame-inner><img width=364 height=205 src=https://lesmoutonsrebelles.com/wp-content/uploads/2022/06/maxresdefault-364x205.jpg?x67247 class=\"attachment-bimber-grid-standard size-bimber-grid-standard wp-post-image\" alt loading=lazy srcset=\"https://lesmoutonsrebelles.com/wp-content/uploads/2022/06/maxresdefault-364x205.jpg 364w, https://lesmoutonsrebelles.com/wp-content/uploads/2022/06/maxresdefault-300x169.jpg 300w, https://lesmoutonsrebelles.com/wp-content/uploads/2022/06/maxresdefault-1024x576.jpg 1024w, https://lesmoutonsrebelles.com/wp-content/uploads/2022/06/maxresdefault-768x432.jpg 768w, https://lesmoutonsrebelles.com/wp-content/uploads/2022/06/maxresdefault-192x108.jpg 192w, https://lesmoutonsrebelles.com/wp-content/uploads/2022/06/maxresdefault-384x216.jpg 384w, https://lesmoutonsrebelles.com/wp-content/uploads/2022/06/maxresdefault-728x409.jpg 728w, https://lesmoutonsrebelles.com/wp-content/uploads/2022/06/maxresdefault-561x316.jpg 561w, https://lesmoutonsrebelles.com/wp-content/uploads/2022/06/maxresdefault-1122x631.jpg 1122w, https://lesmoutonsrebelles.com/wp-content/uploads/2022/06/maxresdefault-608x342.jpg 608w, https://lesmoutonsrebelles.com/wp-content/uploads/2022/06/maxresdefault-758x426.jpg 758w, https://lesmoutonsrebelles.com/wp-content/uploads/2022/06/maxresdefault-1152x648.jpg 1152w, https://lesmoutonsrebelles.com/wp-content/uploads/2022/06/maxresdefault.jpg 1280w\" sizes=\"(max-width: 364px) 100vw, 364px\"><span class=\"g1-frame-icon g1-frame-icon-\"></span></div></a></div><div class=entry-body><header class=entry-header><div class=entry-before-title><p class=\"entry-meta entry-stats g1-meta g1-meta g1-current-background\"><span class=entry-shares><strong>120</strong><span> Shares</span></span></p>\\n<span class=\"entry-categories \"><span class=entry-categories-inner><span class=entry-categories-label>in</span> <a href=https://lesmoutonsrebelles.com/societe/ class=\"entry-category entry-category-item-40\">Société</a></span></span></div><h3 class=\"g1-gamma g1-gamma-1st entry-title\"><a href=https://lesmoutonsrebelles.com/la-psychologue-clinicienne-ariane-bilheran-seuls-3-types-de-profils-resistent-au-deferlement-totalitaire/ rel=bookmark>La psychologue clinicienne Ariane Bilheran : « Seuls 3 types de profils résistent au déferlement totalitaire »</a></h3></header><footer><p class=\"g1-meta entry-meta entry-byline \">\\n<span class=entry-author>\\n<span class=entry-meta-label>by</span>\\n<a href=https://lesmoutonsrebelles.com/author/lerebelle/ title=\"Posts by Durden\" rel=author>\\n<strong>Durden</strong>\\n</a>\\n</span>\\n<time class=entry-date datetime=2022-06-06T02:38:22+02:00>juin 6, 2022, 2 h 38 min</time></p></footer></div></article>\\n</li>\\n<li class=\"g1-collection-item g1-collection-item-1of3\"><article class=\"entry-tpl-grid entry-tpl-grid-m post-37408 post type-post status-publish format-standard has-post-thumbnail category-france\"><div class=\"entry-featured-media \"><a title=\"La ministre de la Transition écologique appelle «\\xa0tous les Français à ne pas surutiliser leur climatisation\\xa0» qui «\\xa0consomme beaucoup d&rsquo;énergie\\xa0»\" class=g1-frame href=https://lesmoutonsrebelles.com/la-ministre-de-la-transition-ecologique-appelle-tous-les-francais-a-ne-pas-surutiliser-leur-climatisation-qui-consomme-beaucoup-denergie/><div class=g1-frame-inner><img width=364 height=205 src=https://lesmoutonsrebelles.com/wp-content/uploads/2022/06/4b1788e_1652880223390-527632-364x205.jpg?x67247 class=\"attachment-bimber-grid-standard size-bimber-grid-standard wp-post-image\" alt loading=lazy srcset=\"https://lesmoutonsrebelles.com/wp-content/uploads/2022/06/4b1788e_1652880223390-527632-364x205.jpg 364w, https://lesmoutonsrebelles.com/wp-content/uploads/2022/06/4b1788e_1652880223390-527632-192x108.jpg 192w, https://lesmoutonsrebelles.com/wp-content/uploads/2022/06/4b1788e_1652880223390-527632-384x216.jpg 384w, https://lesmoutonsrebelles.com/wp-content/uploads/2022/06/4b1788e_1652880223390-527632-561x316.jpg 561w\" sizes=\"(max-width: 364px) 100vw, 364px\"><span class=\"g1-frame-icon g1-frame-icon-\"></span></div></a></div><div class=entry-body><header class=entry-header><div class=entry-before-title><p class=\"entry-meta entry-stats g1-meta g1-meta g1-current-background\"><span class=entry-shares><strong>123</strong><span> Shares</span></span></p>\\n<span class=\"entry-categories \"><span class=entry-categories-inner><span class=entry-categories-label>in</span> <a href=https://lesmoutonsrebelles.com/france/ class=\"entry-category entry-category-item-119\">France</a></span></span></div><h3 class=\"g1-gamma g1-gamma-1st entry-title\"><a href=https://lesmoutonsrebelles.com/la-ministre-de-la-transition-ecologique-appelle-tous-les-francais-a-ne-pas-surutiliser-leur-climatisation-qui-consomme-beaucoup-denergie/ rel=bookmark>La ministre de la Transition écologique appelle «\\xa0tous les Français à ne pas surutiliser leur climatisation\\xa0» qui «\\xa0consomme beaucoup d&rsquo;énergie\\xa0»</a></h3></header><footer><p class=\"g1-meta entry-meta entry-byline \">\\n<span class=entry-author>\\n<span class=entry-meta-label>by</span>\\n<a href=https://lesmoutonsrebelles.com/author/lerebelle/ title=\"Posts by Durden\" rel=author>\\n<strong>Durden</strong>\\n</a>\\n</span>\\n<time class=entry-date datetime=2022-06-05T14:40:57+02:00>juin 5, 2022, 14 h 40 min</time></p></footer></div></article>\\n</li>\\n<li class=\"g1-collection-item g1-collection-item-1of3\"><article class=\"entry-tpl-grid entry-tpl-grid-m post-37405 post type-post status-publish format-standard has-post-thumbnail category-france\"><div class=\"entry-featured-media \"><a title=\"[VIDEO] Jean-Michel Blanquer a été aspergé de mousse blanche et insulté par 2 enseignants sur un marché à Montargis\" class=g1-frame href=https://lesmoutonsrebelles.com/video-jean-michel-blanquer-a-ete-asperge-de-mousse-blanche-et-insulte-par-2-enseignants-sur-un-marche-a-montargis/><div class=g1-frame-inner><img width=364 height=205 src=https://lesmoutonsrebelles.com/wp-content/uploads/2022/06/brave_UPms9F1aHP-364x205.jpg?x67247 class=\"attachment-bimber-grid-standard size-bimber-grid-standard wp-post-image\" alt loading=lazy srcset=\"https://lesmoutonsrebelles.com/wp-content/uploads/2022/06/brave_UPms9F1aHP-364x205.jpg 364w, https://lesmoutonsrebelles.com/wp-content/uploads/2022/06/brave_UPms9F1aHP-192x108.jpg 192w, https://lesmoutonsrebelles.com/wp-content/uploads/2022/06/brave_UPms9F1aHP-384x216.jpg 384w, https://lesmoutonsrebelles.com/wp-content/uploads/2022/06/brave_UPms9F1aHP-561x316.jpg 561w\" sizes=\"(max-width: 364px) 100vw, 364px\"><span class=\"g1-frame-icon g1-frame-icon-\"></span></div></a></div><div class=entry-body><header class=entry-header><div class=entry-before-title><p class=\"entry-meta entry-stats g1-meta g1-meta g1-current-background\"><span class=entry-shares><strong>121</strong><span> Shares</span></span></p>\\n<span class=\"entry-categories \"><span class=entry-categories-inner><span class=entry-categories-label>in</span> <a href=https://lesmoutonsrebelles.com/france/ class=\"entry-category entry-category-item-119\">France</a></span></span></div><h3 class=\"g1-gamma g1-gamma-1st entry-title\"><a href=https://lesmoutonsrebelles.com/video-jean-michel-blanquer-a-ete-asperge-de-mousse-blanche-et-insulte-par-2-enseignants-sur-un-marche-a-montargis/ rel=bookmark>[VIDEO] Jean-Michel Blanquer a été aspergé de mousse blanche et insulté par 2 enseignants sur un marché à Montargis</a></h3></header><footer><p class=\"g1-meta entry-meta entry-byline \">\\n<span class=entry-author>\\n<span class=entry-meta-label>by</span>\\n<a href=https://lesmoutonsrebelles.com/author/lerebelle/ title=\"Posts by Durden\" rel=author>\\n<strong>Durden</strong>\\n</a>\\n</span>\\n<time class=entry-date datetime=2022-06-04T14:12:45+02:00>juin 4, 2022, 14 h 12 min</time></p></footer></div></article>\\n</li>\\n<li class=\"g1-collection-item g1-collection-item-1of3\"><article class=\"entry-tpl-grid entry-tpl-grid-m post-37402 post type-post status-publish format-standard has-post-thumbnail category-politique\"><div class=\"entry-featured-media \"><a title=\"Medvedev : la Russie frappera les centres de décision en cas d’attaques de Kiev\" class=g1-frame href=https://lesmoutonsrebelles.com/medvedev-la-russie-frappera-les-centres-de-decision-en-cas-dattaques-de-kiev/><div class=g1-frame-inner><img width=364 height=205 src=https://lesmoutonsrebelles.com/wp-content/uploads/2022/06/brave_xzk85FYf7z-364x205.jpg?x67247 class=\"attachment-bimber-grid-standard size-bimber-grid-standard wp-post-image\" alt loading=lazy srcset=\"https://lesmoutonsrebelles.com/wp-content/uploads/2022/06/brave_xzk85FYf7z-364x205.jpg 364w, https://lesmoutonsrebelles.com/wp-content/uploads/2022/06/brave_xzk85FYf7z-192x108.jpg 192w, https://lesmoutonsrebelles.com/wp-content/uploads/2022/06/brave_xzk85FYf7z-384x216.jpg 384w, https://lesmoutonsrebelles.com/wp-content/uploads/2022/06/brave_xzk85FYf7z-728x409.jpg 728w, https://lesmoutonsrebelles.com/wp-content/uploads/2022/06/brave_xzk85FYf7z-561x316.jpg 561w, https://lesmoutonsrebelles.com/wp-content/uploads/2022/06/brave_xzk85FYf7z-758x426.jpg 758w\" sizes=\"(max-width: 364px) 100vw, 364px\"><span class=\"g1-frame-icon g1-frame-icon-\"></span></div></a></div><div class=entry-body><header class=entry-header><div class=entry-before-title><p class=\"entry-meta entry-stats g1-meta g1-meta g1-current-background\"><span class=entry-shares><strong>122</strong><span> Shares</span></span></p>\\n<span class=\"entry-categories \"><span class=entry-categories-inner><span class=entry-categories-label>in</span> <a href=https://lesmoutonsrebelles.com/politique/ class=\"entry-category entry-category-item-1\">Politique</a></span></span></div><h3 class=\"g1-gamma g1-gamma-1st entry-title\"><a href=https://lesmoutonsrebelles.com/medvedev-la-russie-frappera-les-centres-de-decision-en-cas-dattaques-de-kiev/ rel=bookmark>Medvedev : la Russie frappera les centres de décision en cas d’attaques de Kiev</a></h3></header><footer><p class=\"g1-meta entry-meta entry-byline \">\\n<span class=entry-author>\\n<span class=entry-meta-label>by</span>\\n<a href=https://lesmoutonsrebelles.com/author/lerebelle/ title=\"Posts by Durden\" rel=author>\\n<strong>Durden</strong>\\n</a>\\n</span>\\n<time class=entry-date datetime=2022-06-04T01:55:06+02:00>juin 4, 2022, 1 h 55 min</time></p></footer></div></article>\\n</li>\\n<li class=\"g1-collection-item g1-collection-item-1of3\"><article class=\"entry-tpl-grid entry-tpl-grid-m post-37399 post type-post status-publish format-standard has-post-thumbnail category-europe\"><div class=\"entry-featured-media \"><a title=\"La Turquie interdit le franchissement des détroits à l’Otan\" class=g1-frame href=https://lesmoutonsrebelles.com/la-turquie-interdit-le-franchissement-des-detroits-a-lotan/><div class=g1-frame-inner><img width=364 height=205 src=https://lesmoutonsrebelles.com/wp-content/uploads/2022/06/16457337905500-364x205.jpg?x67247 class=\"attachment-bimber-grid-standard size-bimber-grid-standard wp-post-image\" alt loading=lazy srcset=\"https://lesmoutonsrebelles.com/wp-content/uploads/2022/06/16457337905500-364x205.jpg 364w, https://lesmoutonsrebelles.com/wp-content/uploads/2022/06/16457337905500-300x169.jpg 300w, https://lesmoutonsrebelles.com/wp-content/uploads/2022/06/16457337905500-1024x576.jpg 1024w, https://lesmoutonsrebelles.com/wp-content/uploads/2022/06/16457337905500-768x432.jpg 768w, https://lesmoutonsrebelles.com/wp-content/uploads/2022/06/16457337905500-192x108.jpg 192w, https://lesmoutonsrebelles.com/wp-content/uploads/2022/06/16457337905500-384x216.jpg 384w, https://lesmoutonsrebelles.com/wp-content/uploads/2022/06/16457337905500-728x409.jpg 728w, https://lesmoutonsrebelles.com/wp-content/uploads/2022/06/16457337905500-561x316.jpg 561w, https://lesmoutonsrebelles.com/wp-content/uploads/2022/06/16457337905500-1122x632.jpg 1122w, https://lesmoutonsrebelles.com/wp-content/uploads/2022/06/16457337905500-608x342.jpg 608w, https://lesmoutonsrebelles.com/wp-content/uploads/2022/06/16457337905500-758x426.jpg 758w, https://lesmoutonsrebelles.com/wp-content/uploads/2022/06/16457337905500-1152x648.jpg 1152w, https://lesmoutonsrebelles.com/wp-content/uploads/2022/06/16457337905500.jpg 1320w\" sizes=\"(max-width: 364px) 100vw, 364px\"><span class=\"g1-frame-icon g1-frame-icon-\"></span></div></a></div><div class=entry-body><header class=entry-header><div class=entry-before-title><p class=\"entry-meta entry-stats g1-meta g1-meta g1-current-background\"><span class=entry-shares><strong>123</strong><span> Shares</span></span></p>\\n<span class=\"entry-categories \"><span class=entry-categories-inner><span class=entry-categories-label>in</span> <a href=https://lesmoutonsrebelles.com/europe/ class=\"entry-category entry-category-item-120\">Europe</a></span></span></div><h3 class=\"g1-gamma g1-gamma-1st entry-title\"><a href=https://lesmoutonsrebelles.com/la-turquie-interdit-le-franchissement-des-detroits-a-lotan/ rel=bookmark>La Turquie interdit le franchissement des détroits à l’Otan</a></h3></header><footer><p class=\"g1-meta entry-meta entry-byline \">\\n<span class=entry-author>\\n<span class=entry-meta-label>by</span>\\n<a href=https://lesmoutonsrebelles.com/author/lerebelle/ title=\"Posts by Durden\" rel=author>\\n<strong>Durden</strong>\\n</a>\\n</span>\\n<time class=entry-date datetime=2022-06-02T20:09:04+02:00>juin 2, 2022, 20 h 09 min</time></p></footer></div></article>\\n</li>\\n<li class=\"g1-collection-item g1-collection-item-1of3\"><article class=\"entry-tpl-grid entry-tpl-grid-m post-37393 post type-post status-publish format-standard has-post-thumbnail category-sante\"><div class=\"entry-featured-media \"><a title=\"9 exemples de désinformation des autorités de la santé sur la COVID\" class=g1-frame href=https://lesmoutonsrebelles.com/9-exemples-de-desinformation-des-autorites-de-la-sante-sur-la-covid/><div class=g1-frame-inner><img width=364 height=205 src=https://lesmoutonsrebelles.com/wp-content/uploads/2022/06/image_1044304_20220601_ob_9aad0a_qmbalet5-364x205.jpg?x67247 class=\"attachment-bimber-grid-standard size-bimber-grid-standard wp-post-image\" alt loading=lazy srcset=\"https://lesmoutonsrebelles.com/wp-content/uploads/2022/06/image_1044304_20220601_ob_9aad0a_qmbalet5-364x205.jpg 364w, https://lesmoutonsrebelles.com/wp-content/uploads/2022/06/image_1044304_20220601_ob_9aad0a_qmbalet5-192x108.jpg 192w, https://lesmoutonsrebelles.com/wp-content/uploads/2022/06/image_1044304_20220601_ob_9aad0a_qmbalet5-384x216.jpg 384w, https://lesmoutonsrebelles.com/wp-content/uploads/2022/06/image_1044304_20220601_ob_9aad0a_qmbalet5-561x316.jpg 561w\" sizes=\"(max-width: 364px) 100vw, 364px\"><span class=\"g1-frame-icon g1-frame-icon-\"></span></div></a></div><div class=entry-body><header class=entry-header><div class=entry-before-title><p class=\"entry-meta entry-stats g1-meta g1-meta g1-current-background\"><span class=entry-shares><strong>124</strong><span> Shares</span></span></p>\\n<span class=\"entry-categories \"><span class=entry-categories-inner><span class=entry-categories-label>in</span> <a href=https://lesmoutonsrebelles.com/sante/ class=\"entry-category entry-category-item-43\">Santé</a></span></span></div><h3 class=\"g1-gamma g1-gamma-1st entry-title\"><a href=https://lesmoutonsrebelles.com/9-exemples-de-desinformation-des-autorites-de-la-sante-sur-la-covid/ rel=bookmark>9 exemples de désinformation des autorités de la santé sur la COVID</a></h3></header><footer><p class=\"g1-meta entry-meta entry-byline \">\\n<span class=entry-author>\\n<span class=entry-meta-label>by</span>\\n<a href=https://lesmoutonsrebelles.com/author/lerebelle/ title=\"Posts by Durden\" rel=author>\\n<strong>Durden</strong>\\n</a>\\n</span>\\n<time class=entry-date datetime=2022-06-02T01:43:48+02:00>juin 2, 2022, 1 h 43 min</time></p></footer></div></article>\\n</li>\\n<li class=\"g1-collection-item g1-collection-item-1of3\"><article class=\"entry-tpl-grid entry-tpl-grid-m post-37386 post type-post status-publish format-standard has-post-thumbnail category-sante\"><div class=\"entry-featured-media \"><a title=\"Selon le Pr Perronne l’apparition de la variole du singe n’est pas naturelle\" class=g1-frame href=https://lesmoutonsrebelles.com/selon-le-pr-perronne-lapparition-de-la-variole-du-singe-nest-pas-naturelle/><div class=g1-frame-inner><img width=364 height=205 src=https://lesmoutonsrebelles.com/wp-content/uploads/2022/06/Perronne-364x205.jpg?x67247 class=\"attachment-bimber-grid-standard size-bimber-grid-standard wp-post-image\" alt loading=lazy srcset=\"https://lesmoutonsrebelles.com/wp-content/uploads/2022/06/Perronne-364x205.jpg 364w, https://lesmoutonsrebelles.com/wp-content/uploads/2022/06/Perronne-300x169.jpg 300w, https://lesmoutonsrebelles.com/wp-content/uploads/2022/06/Perronne-1024x576.jpg 1024w, https://lesmoutonsrebelles.com/wp-content/uploads/2022/06/Perronne-768x432.jpg 768w, https://lesmoutonsrebelles.com/wp-content/uploads/2022/06/Perronne-1536x864.jpg 1536w, https://lesmoutonsrebelles.com/wp-content/uploads/2022/06/Perronne-192x108.jpg 192w, https://lesmoutonsrebelles.com/wp-content/uploads/2022/06/Perronne-384x216.jpg 384w, https://lesmoutonsrebelles.com/wp-content/uploads/2022/06/Perronne-728x409.jpg 728w, https://lesmoutonsrebelles.com/wp-content/uploads/2022/06/Perronne-561x316.jpg 561w, https://lesmoutonsrebelles.com/wp-content/uploads/2022/06/Perronne-1122x631.jpg 1122w, https://lesmoutonsrebelles.com/wp-content/uploads/2022/06/Perronne-608x342.jpg 608w, https://lesmoutonsrebelles.com/wp-content/uploads/2022/06/Perronne-758x426.jpg 758w, https://lesmoutonsrebelles.com/wp-content/uploads/2022/06/Perronne-1152x648.jpg 1152w, https://lesmoutonsrebelles.com/wp-content/uploads/2022/06/Perronne.jpg 1920w\" sizes=\"(max-width: 364px) 100vw, 364px\"><span class=\"g1-frame-icon g1-frame-icon-\"></span></div></a></div><div class=entry-body><header class=entry-header><div class=entry-before-title><p class=\"entry-meta entry-stats g1-meta g1-meta g1-current-background\"><span class=entry-shares><strong>125</strong><span> Shares</span></span></p>\\n<span class=\"entry-categories \"><span class=entry-categories-inner><span class=entry-categories-label>in</span> <a href=https://lesmoutonsrebelles.com/sante/ class=\"entry-category entry-category-item-43\">Santé</a></span></span></div><h3 class=\"g1-gamma g1-gamma-1st entry-title\"><a href=https://lesmoutonsrebelles.com/selon-le-pr-perronne-lapparition-de-la-variole-du-singe-nest-pas-naturelle/ rel=bookmark>Selon le Pr Perronne l’apparition de la variole du singe n’est pas naturelle</a></h3></header><footer><p class=\"g1-meta entry-meta entry-byline \">\\n<span class=entry-author>\\n<span class=entry-meta-label>by</span>\\n<a href=https://lesmoutonsrebelles.com/author/lerebelle/ title=\"Posts by Durden\" rel=author>\\n<strong>Durden</strong>\\n</a>\\n</span>\\n<time class=entry-date datetime=2022-06-01T18:22:38+02:00>juin 1, 2022, 18 h 22 min</time></p></footer></div></article>\\n</li>\\n<li class=\"g1-collection-item g1-collection-item-1of3\"><article class=\"entry-tpl-grid entry-tpl-grid-m post-37379 post type-post status-publish format-standard has-post-thumbnail category-science-tech\"><div class=\"entry-featured-media \"><a title=\"La réalité virtuelle continue de charmer l&rsquo;industrie vidéoludique\" class=g1-frame href=https://lesmoutonsrebelles.com/la-realite-virtuelle-continue-de-charmer-lindustrie-videoludique/><div class=g1-frame-inner><img width=364 height=205 src=https://lesmoutonsrebelles.com/wp-content/uploads/2022/05/future-visual-hi-tech-vr-millennial-background-blue-copy-space-man-virtual-reality-headset-glasses_t20_oR997x-scaled-e1585920340879-364x205.jpg?x67247 class=\"attachment-bimber-grid-standard size-bimber-grid-standard wp-post-image\" alt loading=lazy srcset=\"https://lesmoutonsrebelles.com/wp-content/uploads/2022/05/future-visual-hi-tech-vr-millennial-background-blue-copy-space-man-virtual-reality-headset-glasses_t20_oR997x-scaled-e1585920340879-364x205.jpg 364w, https://lesmoutonsrebelles.com/wp-content/uploads/2022/05/future-visual-hi-tech-vr-millennial-background-blue-copy-space-man-virtual-reality-headset-glasses_t20_oR997x-scaled-e1585920340879-192x108.jpg 192w, https://lesmoutonsrebelles.com/wp-content/uploads/2022/05/future-visual-hi-tech-vr-millennial-background-blue-copy-space-man-virtual-reality-headset-glasses_t20_oR997x-scaled-e1585920340879-384x216.jpg 384w, https://lesmoutonsrebelles.com/wp-content/uploads/2022/05/future-visual-hi-tech-vr-millennial-background-blue-copy-space-man-virtual-reality-headset-glasses_t20_oR997x-scaled-e1585920340879-728x409.jpg 728w, https://lesmoutonsrebelles.com/wp-content/uploads/2022/05/future-visual-hi-tech-vr-millennial-background-blue-copy-space-man-virtual-reality-headset-glasses_t20_oR997x-scaled-e1585920340879-561x316.jpg 561w, https://lesmoutonsrebelles.com/wp-content/uploads/2022/05/future-visual-hi-tech-vr-millennial-background-blue-copy-space-man-virtual-reality-headset-glasses_t20_oR997x-scaled-e1585920340879-1122x631.jpg 1122w, https://lesmoutonsrebelles.com/wp-content/uploads/2022/05/future-visual-hi-tech-vr-millennial-background-blue-copy-space-man-virtual-reality-headset-glasses_t20_oR997x-scaled-e1585920340879-758x426.jpg 758w, https://lesmoutonsrebelles.com/wp-content/uploads/2022/05/future-visual-hi-tech-vr-millennial-background-blue-copy-space-man-virtual-reality-headset-glasses_t20_oR997x-scaled-e1585920340879-1152x648.jpg 1152w\" sizes=\"(max-width: 364px) 100vw, 364px\"><span class=\"g1-frame-icon g1-frame-icon-\"></span></div></a></div><div class=entry-body><header class=entry-header><div class=entry-before-title><p class=\"entry-meta entry-stats g1-meta g1-meta g1-current-background\"><span class=entry-shares><strong>120</strong><span> Shares</span></span></p>\\n<span class=\"entry-categories \"><span class=entry-categories-inner><span class=entry-categories-label>in</span> <a href=https://lesmoutonsrebelles.com/science-tech/ class=\"entry-category entry-category-item-45\">Science &amp; Tech</a></span></span></div><h3 class=\"g1-gamma g1-gamma-1st entry-title\"><a href=https://lesmoutonsrebelles.com/la-realite-virtuelle-continue-de-charmer-lindustrie-videoludique/ rel=bookmark>La réalité virtuelle continue de charmer l&rsquo;industrie vidéoludique</a></h3></header><footer><p class=\"g1-meta entry-meta entry-byline \">\\n<span class=entry-author>\\n<span class=entry-meta-label>by</span>\\n<a href=https://lesmoutonsrebelles.com/author/lerebelle/ title=\"Posts by Durden\" rel=author>\\n<strong>Durden</strong>\\n</a>\\n</span>\\n<time class=entry-date datetime=2022-05-31T20:08:26+02:00>mai 31, 2022, 20 h 08 min</time></p></footer></div></article>\\n</li>\\n<li class=\"g1-collection-item g1-collection-item-1of3\"><article class=\"entry-tpl-grid entry-tpl-grid-m post-37375 post type-post status-publish format-standard has-post-thumbnail category-sante\"><div class=\"entry-featured-media \"><a title=\"Professeur Christian sur les vaccins anti-covid : « Ça sert à quoi ce truc là à part faire du fric et des effets secondaires ! »\" class=g1-frame href=https://lesmoutonsrebelles.com/professeur-christian-sur-les-vaccins-anti-covid-ca-sert-a-quoi-ce-truc-la-a-part-faire-du-fric-et-des-effets-secondaires/><div class=g1-frame-inner><img width=364 height=205 src=https://lesmoutonsrebelles.com/wp-content/uploads/2022/05/image_1044304_20220531_ob_df6c78_um6t1xqk-364x205.jpg?x67247 class=\"attachment-bimber-grid-standard size-bimber-grid-standard wp-post-image\" alt loading=lazy srcset=\"https://lesmoutonsrebelles.com/wp-content/uploads/2022/05/image_1044304_20220531_ob_df6c78_um6t1xqk-364x205.jpg 364w, https://lesmoutonsrebelles.com/wp-content/uploads/2022/05/image_1044304_20220531_ob_df6c78_um6t1xqk-192x108.jpg 192w, https://lesmoutonsrebelles.com/wp-content/uploads/2022/05/image_1044304_20220531_ob_df6c78_um6t1xqk-384x216.jpg 384w, https://lesmoutonsrebelles.com/wp-content/uploads/2022/05/image_1044304_20220531_ob_df6c78_um6t1xqk-561x316.jpg 561w\" sizes=\"(max-width: 364px) 100vw, 364px\"><span class=\"g1-frame-icon g1-frame-icon-\"></span></div></a></div><div class=entry-body><header class=entry-header><div class=entry-before-title><p class=\"entry-meta entry-stats g1-meta g1-meta g1-current-background\"><span class=entry-shares><strong>123</strong><span> Shares</span></span></p>\\n<span class=\"entry-categories \"><span class=entry-categories-inner><span class=entry-categories-label>in</span> <a href=https://lesmoutonsrebelles.com/sante/ class=\"entry-category entry-category-item-43\">Santé</a></span></span></div><h3 class=\"g1-gamma g1-gamma-1st entry-title\"><a href=https://lesmoutonsrebelles.com/professeur-christian-sur-les-vaccins-anti-covid-ca-sert-a-quoi-ce-truc-la-a-part-faire-du-fric-et-des-effets-secondaires/ rel=bookmark>Professeur Christian sur les vaccins anti-covid : « Ça sert à quoi ce truc là à part faire du fric et des effets secondaires ! »</a></h3></header><footer><p class=\"g1-meta entry-meta entry-byline \">\\n<span class=entry-author>\\n<span class=entry-meta-label>by</span>\\n<a href=https://lesmoutonsrebelles.com/author/lerebelle/ title=\"Posts by Durden\" rel=author>\\n<strong>Durden</strong>\\n</a>\\n</span>\\n<time class=entry-date datetime=2022-05-31T18:28:49+02:00>mai 31, 2022, 18 h 28 min</time></p></footer></div></article>\\n</li>\\n<li class=\"g1-collection-item g1-collection-item-1of3\"><article class=\"entry-tpl-grid entry-tpl-grid-m post-37370 post type-post status-publish format-standard has-post-thumbnail category-france\"><div class=\"entry-featured-media \"><a title=\"Pascal Praud accuse Benzema pour les débordements lors de la finale\" class=g1-frame href=https://lesmoutonsrebelles.com/pascal-praud-accuse-benzema-pour-les-debordements-lors-de-la-finale/><div class=g1-frame-inner><img width=364 height=205 src=https://lesmoutonsrebelles.com/wp-content/uploads/2022/05/pascal-praud-accuse-benzema-apres-les-incidents_2757482-364x205.jpg?x67247 class=\"attachment-bimber-grid-standard size-bimber-grid-standard wp-post-image\" alt loading=lazy srcset=\"https://lesmoutonsrebelles.com/wp-content/uploads/2022/05/pascal-praud-accuse-benzema-apres-les-incidents_2757482-364x205.jpg 364w, https://lesmoutonsrebelles.com/wp-content/uploads/2022/05/pascal-praud-accuse-benzema-apres-les-incidents_2757482-192x108.jpg 192w, https://lesmoutonsrebelles.com/wp-content/uploads/2022/05/pascal-praud-accuse-benzema-apres-les-incidents_2757482-384x216.jpg 384w, https://lesmoutonsrebelles.com/wp-content/uploads/2022/05/pascal-praud-accuse-benzema-apres-les-incidents_2757482-728x409.jpg 728w, https://lesmoutonsrebelles.com/wp-content/uploads/2022/05/pascal-praud-accuse-benzema-apres-les-incidents_2757482-561x316.jpg 561w, https://lesmoutonsrebelles.com/wp-content/uploads/2022/05/pascal-praud-accuse-benzema-apres-les-incidents_2757482-1122x630.jpg 1122w, https://lesmoutonsrebelles.com/wp-content/uploads/2022/05/pascal-praud-accuse-benzema-apres-les-incidents_2757482-758x426.jpg 758w\" sizes=\"(max-width: 364px) 100vw, 364px\"><span class=\"g1-frame-icon g1-frame-icon-\"></span></div></a></div><div class=entry-body><header class=entry-header><div class=entry-before-title><p class=\"entry-meta entry-stats g1-meta g1-meta g1-current-background\"><span class=entry-shares><strong>120</strong><span> Shares</span></span></p>\\n<span class=\"entry-categories \"><span class=entry-categories-inner><span class=entry-categories-label>in</span> <a href=https://lesmoutonsrebelles.com/france/ class=\"entry-category entry-category-item-119\">France</a></span></span></div><h3 class=\"g1-gamma g1-gamma-1st entry-title\"><a href=https://lesmoutonsrebelles.com/pascal-praud-accuse-benzema-pour-les-debordements-lors-de-la-finale/ rel=bookmark>Pascal Praud accuse Benzema pour les débordements lors de la finale</a></h3></header><footer><p class=\"g1-meta entry-meta entry-byline \">\\n<span class=entry-author>\\n<span class=entry-meta-label>by</span>\\n<a href=https://lesmoutonsrebelles.com/author/lerebelle/ title=\"Posts by Durden\" rel=author>\\n<strong>Durden</strong>\\n</a>\\n</span>\\n<time class=entry-date datetime=2022-05-31T02:02:52+02:00>mai 31, 2022, 2 h 02 min</time></p></footer></div></article>\\n</li>\\n<li class=\"g1-collection-item g1-collection-item-1of3\"><article class=\"entry-tpl-grid entry-tpl-grid-m post-37365 post type-post status-publish format-standard has-post-thumbnail category-societe\"><div class=\"entry-featured-media \"><a title=\"Wikipédia est-il une encyclopédie ouverte ou une opération secrète de désinformation ?\" class=g1-frame href=https://lesmoutonsrebelles.com/wikipedia-est-il-une-encyclopedie-ouverte-ou-une-operation-secrete-de-desinformation/><div class=g1-frame-inner><img width=364 height=205 src=https://lesmoutonsrebelles.com/wp-content/uploads/2022/05/brave_2MGdiG9ftt-364x205.jpg?x67247 class=\"attachment-bimber-grid-standard size-bimber-grid-standard wp-post-image\" alt loading=lazy srcset=\"https://lesmoutonsrebelles.com/wp-content/uploads/2022/05/brave_2MGdiG9ftt-364x205.jpg 364w, https://lesmoutonsrebelles.com/wp-content/uploads/2022/05/brave_2MGdiG9ftt-192x108.jpg 192w, https://lesmoutonsrebelles.com/wp-content/uploads/2022/05/brave_2MGdiG9ftt-384x216.jpg 384w, https://lesmoutonsrebelles.com/wp-content/uploads/2022/05/brave_2MGdiG9ftt-728x409.jpg 728w, https://lesmoutonsrebelles.com/wp-content/uploads/2022/05/brave_2MGdiG9ftt-561x316.jpg 561w, https://lesmoutonsrebelles.com/wp-content/uploads/2022/05/brave_2MGdiG9ftt-758x426.jpg 758w\" sizes=\"(max-width: 364px) 100vw, 364px\"><span class=\"g1-frame-icon g1-frame-icon-\"></span></div></a></div><div class=entry-body><header class=entry-header><div class=entry-before-title><p class=\"entry-meta entry-stats g1-meta g1-meta g1-current-background\"><span class=entry-shares><strong>120</strong><span> Shares</span></span></p>\\n<span class=\"entry-categories \"><span class=entry-categories-inner><span class=entry-categories-label>in</span> <a href=https://lesmoutonsrebelles.com/societe/ class=\"entry-category entry-category-item-40\">Société</a></span></span></div><h3 class=\"g1-gamma g1-gamma-1st entry-title\"><a href=https://lesmoutonsrebelles.com/wikipedia-est-il-une-encyclopedie-ouverte-ou-une-operation-secrete-de-desinformation/ rel=bookmark>Wikipédia est-il une encyclopédie ouverte ou une opération secrète de désinformation ?</a></h3></header><footer><p class=\"g1-meta entry-meta entry-byline \">\\n<span class=entry-author>\\n<span class=entry-meta-label>by</span>\\n<a href=https://lesmoutonsrebelles.com/author/lerebelle/ title=\"Posts by Durden\" rel=author>\\n<strong>Durden</strong>\\n</a>\\n</span>\\n<time class=entry-date datetime=2022-05-31T01:56:51+02:00>mai 31, 2022, 1 h 56 min</time></p></footer></div></article>\\n</li>\\n<li class=\"g1-collection-item g1-collection-item-1of3\"><article class=\"entry-tpl-grid entry-tpl-grid-m post-37361 post type-post status-publish format-standard has-post-thumbnail category-france\"><div class=\"entry-featured-media \"><a title=\"« Pauvre France » la colère de Pascal Praud en DIRECT sur CNEWS\" class=g1-frame href=https://lesmoutonsrebelles.com/pauvre-france-la-colere-de-pascal-praud-en-direct-sur-cnews/><div class=g1-frame-inner><img width=364 height=205 src=https://lesmoutonsrebelles.com/wp-content/uploads/2022/05/brave_gCOYtccIV9-364x205.jpg?x67247 class=\"attachment-bimber-grid-standard size-bimber-grid-standard wp-post-image\" alt loading=lazy srcset=\"https://lesmoutonsrebelles.com/wp-content/uploads/2022/05/brave_gCOYtccIV9-364x205.jpg 364w, https://lesmoutonsrebelles.com/wp-content/uploads/2022/05/brave_gCOYtccIV9-192x108.jpg 192w, https://lesmoutonsrebelles.com/wp-content/uploads/2022/05/brave_gCOYtccIV9-384x216.jpg 384w, https://lesmoutonsrebelles.com/wp-content/uploads/2022/05/brave_gCOYtccIV9-728x409.jpg 728w, https://lesmoutonsrebelles.com/wp-content/uploads/2022/05/brave_gCOYtccIV9-561x316.jpg 561w, https://lesmoutonsrebelles.com/wp-content/uploads/2022/05/brave_gCOYtccIV9-758x426.jpg 758w\" sizes=\"(max-width: 364px) 100vw, 364px\"><span class=\"g1-frame-icon g1-frame-icon-\"></span></div></a></div><div class=entry-body><header class=entry-header><div class=entry-before-title><p class=\"entry-meta entry-stats g1-meta g1-meta g1-current-background\"><span class=entry-shares><strong>121</strong><span> Shares</span></span></p>\\n<span class=\"entry-categories \"><span class=entry-categories-inner><span class=entry-categories-label>in</span> <a href=https://lesmoutonsrebelles.com/france/ class=\"entry-category entry-category-item-119\">France</a></span></span></div><h3 class=\"g1-gamma g1-gamma-1st entry-title\"><a href=https://lesmoutonsrebelles.com/pauvre-france-la-colere-de-pascal-praud-en-direct-sur-cnews/ rel=bookmark>« Pauvre France » la colère de Pascal Praud en DIRECT sur CNEWS</a></h3></header><footer><p class=\"g1-meta entry-meta entry-byline \">\\n<span class=entry-author>\\n<span class=entry-meta-label>by</span>\\n<a href=https://lesmoutonsrebelles.com/author/lerebelle/ title=\"Posts by Durden\" rel=author>\\n<strong>Durden</strong>\\n</a>\\n</span>\\n<time class=entry-date datetime=2022-05-30T17:49:18+02:00>mai 30, 2022, 17 h 49 min</time></p></footer></div></article>\\n</li></ul></div><div class=\"g1-collection-more infinite-scroll\"><div class=g1-collection-more-inner>\\n<a href=# class=\"g1-button g1-button-m g1-button-solid g1-load-more\" data-g1-next-page-url=https://lesmoutonsrebelles.com/page/2/>\\nLoad More\\t</a>\\n<i class=g1-collection-more-spinner></i><div class=g1-pagination-end>\\nCongratulations. You&#039;ve reached the end of the internet.</div></div></div></div></div><div id=secondary class=\"g1-sidebar g1-sidebar-padded g1-column g1-column-1of3\"><aside id=bimber_widget_posts-3 class=\"widget widget_bimber_widget_posts\"><header><h2 class=\"g1-delta g1-delta-2nd widgettitle\"><span>France</span></h2></header><div id=g1-widget-posts-1 class=\" g1-widget-posts\"><div class=\"g1-collection g1-collection-txtlist-mod11\"><div class=g1-collection-viewport><ul class=g1-collection-items>\\n<li class=g1-collection-item><article class=\"entry-tpl-listxxs post-37443 post type-post status-publish format-standard has-post-thumbnail category-france\"><div class=\"entry-featured-media \"><a title=\"Éric Zemmour veut proposer une loi pour l&rsquo;interdiction des associations «\\xa0LGBT, féministes, antiracistes\\xa0» dans les écoles publiques\" class=g1-frame href=https://lesmoutonsrebelles.com/eric-zemmour-veut-proposer-une-loi-pour-linterdiction-des-associations-lgbt-feministes-antiracistes-dans-les-ecoles-publiques/><div class=g1-frame-inner><img width=90 height=67 src=https://lesmoutonsrebelles.com/wp-content/uploads/2022/06/brave_0lpANSkPTS-90x67.jpg?x67247 class=\"attachment-bimber-list-xxs size-bimber-list-xxs wp-post-image\" alt loading=lazy srcset=\"https://lesmoutonsrebelles.com/wp-content/uploads/2022/06/brave_0lpANSkPTS-90x67.jpg 90w, https://lesmoutonsrebelles.com/wp-content/uploads/2022/06/brave_0lpANSkPTS-192x144.jpg 192w, https://lesmoutonsrebelles.com/wp-content/uploads/2022/06/brave_0lpANSkPTS-384x288.jpg 384w, https://lesmoutonsrebelles.com/wp-content/uploads/2022/06/brave_0lpANSkPTS-180x135.jpg 180w, https://lesmoutonsrebelles.com/wp-content/uploads/2022/06/brave_0lpANSkPTS-561x421.jpg 561w\" sizes=\"(max-width: 90px) 100vw, 90px\"><span class=\"g1-frame-icon g1-frame-icon-\"></span></div></a></div><header class=entry-header><h3 class=\"g1-epsilon g1-epsilon-1st entry-title\"><a href=https://lesmoutonsrebelles.com/eric-zemmour-veut-proposer-une-loi-pour-linterdiction-des-associations-lgbt-feministes-antiracistes-dans-les-ecoles-publiques/ rel=bookmark>Éric Zemmour veut proposer une loi pour l&rsquo;interdiction des associations «\\xa0LGBT, féministes, antiracistes\\xa0» dans les écoles publiques</a></h3></header></article>\\n</li>\\n<li class=\"g1-collection-item g1-collection-item-txtlist\"><article class=\"entry-tpl-txtlist post-37426 post type-post status-publish format-standard has-post-thumbnail category-france\"><div class=entry-body><header class=entry-header><h3 class=\"g1-epsilon g1-epsilon-1st entry-title\"><a href=https://lesmoutonsrebelles.com/jean-michel-blanquer-rigole-face-a-une-femme-qui-lui-annonce-la-mort-de-son-mari-suite-a-la-3e-dose/ rel=bookmark>Jean-Michel Blanquer rigole face à une femme qui lui annonce la mort de son mari suite à la 3e dose</a></h3></header></div></article>\\n</li>\\n<li class=\"g1-collection-item g1-collection-item-txtlist\"><article class=\"entry-tpl-txtlist post-37417 post type-post status-publish format-standard has-post-thumbnail category-france\"><div class=entry-body><header class=entry-header><h3 class=\"g1-epsilon g1-epsilon-1st entry-title\"><a href=https://lesmoutonsrebelles.com/ledito-de-pascal-praud-le-president-ne-repond-plus/ rel=bookmark>L&rsquo;édito de Pascal Praud : «Le président ne répond plus»</a></h3></header></div></article>\\n</li></ul></div></div></div></aside></div></div><div class=g1-row-background></div></div><div class=\"g1-footer g1-row g1-row-layout-page\"><div class=g1-row-inner><div class=g1-column><p class=g1-footer-text></p></div></div><div class=g1-row-background></div></div><a href=#page class=g1-back-to-top>Back to Top</a></div><div class=g1-canvas-overlay></div></div><div id=g1-breakpoint-desktop></div><div class=\"g1-canvas g1-canvas-global g1-canvas-no-js\"><div class=g1-canvas-inner><div class=g1-canvas-content>\\n<a class=g1-canvas-toggle href=#>Close</a><nav id=g1-canvas-primary-nav class=g1-primary-nav><ul id=g1-canvas-primary-nav-menu class=\"g1-primary-nav-menu g1-menu-v\"><li class=\"menu-item menu-item-type-taxonomy menu-item-object-category menu-item-18676\"><a href=https://lesmoutonsrebelles.com/societe/>Société</a></li>\\n<li class=\"menu-item menu-item-type-taxonomy menu-item-object-category menu-item-18677\"><a href=https://lesmoutonsrebelles.com/sante/>Santé</a></li>\\n<li class=\"menu-item menu-item-type-taxonomy menu-item-object-category menu-item-32165\"><a href=https://lesmoutonsrebelles.com/economie/>Économie</a></li>\\n<li class=\"menu-item menu-item-type-post_type menu-item-object-page menu-item-18681\"><a href=https://lesmoutonsrebelles.com/france/>France</a></li>\\n<li class=\"menu-item menu-item-type-taxonomy menu-item-object-category menu-item-18678\"><a href=https://lesmoutonsrebelles.com/science-tech/>Science &amp; Tech</a></li>\\n<li class=\"menu-item menu-item-type-taxonomy menu-item-object-category menu-item-32166\"><a href=https://lesmoutonsrebelles.com/europe/>Europe</a></li>\\n<li class=\"menu-item menu-item-type-post_type menu-item-object-page menu-item-18979\"><a href=https://lesmoutonsrebelles.com/contact/>Contact</a></li></ul></nav><nav class=\"g1-quick-nav g1-quick-nav-short\"><ul class=\"g1-quick-nav-menu g1-menu g1-menu-v g1-menu-with-icons\">\\n<li class=\"menu-item menu-item-type-g1-latest current-menu-item\">\\n<a href=https://lesmoutonsrebelles.com>\\n<span class=\"entry-flag entry-flag-latest\"></span>\\nLatest\\t</a>\\n</li></ul></nav><div role=search class=search-form-wrapper><form method=get class=\"g1-searchform-tpl-default search-form\" action=https://lesmoutonsrebelles.com/>\\n<label>\\n<span class=screen-reader-text>Search for:</span>\\n<input type=search class=search-field placeholder=\"Search &hellip;\" value name=s title=\"Search for:\">\\n</label>\\n<button class=search-submit>Search</button></form></div></div><div class=g1-canvas-background></div></div></div> <script src=\\'https://lesmoutonsrebelles.com/wp-includes/js/dist/vendor/regenerator-runtime.min.js?x67247\\' id=regenerator-runtime-js></script> <script src=\\'https://lesmoutonsrebelles.com/wp-includes/js/dist/vendor/wp-polyfill.min.js?x67247\\' id=wp-polyfill-js></script> <script id=contact-form-7-js-extra>var wpcf7={\"api\":{\"root\":\"https:\\\\/\\\\/lesmoutonsrebelles.com\\\\/wp-json\\\\/\",\"namespace\":\"contact-form-7\\\\/v1\"},\"cached\":\"1\"};</script> <script src=\\'https://lesmoutonsrebelles.com/wp-content/plugins/contact-form-7/includes/js/index.js?x67247\\' id=contact-form-7-js></script> <script src=\\'https://lesmoutonsrebelles.com/wp-content/themes/bimber1/js/stickyfill/stickyfill.min.js?x67247\\' id=stickyfill-js></script> <script src=\\'https://lesmoutonsrebelles.com/wp-content/themes/bimber1/js/jquery.placeholder/placeholders.jquery.min.js?x67247\\' id=jquery-placeholder-js></script> <script src=\\'https://lesmoutonsrebelles.com/wp-content/themes/bimber1/js/jquery.timeago/jquery.timeago.js?x67247\\' id=jquery-timeago-js></script> <script src=https://lesmoutonsrebelles.com/wp-content/themes/bimber1/js/jquery.timeago/locales/jquery.timeago.fr.js?x67247 id=jquery-timeago-fr-js></script> <script src=https://lesmoutonsrebelles.com/wp-content/themes/bimber1/js/matchmedia/matchmedia.js?x67247 id=match-media-js></script> <script src=https://lesmoutonsrebelles.com/wp-content/themes/bimber1/js/matchmedia/matchmedia.addlistener.js?x67247 id=match-media-add-listener-js></script> <script src=\\'https://lesmoutonsrebelles.com/wp-content/themes/bimber1/js/picturefill/picturefill.min.js?x67247\\' id=picturefill-js></script> <script src=\\'https://lesmoutonsrebelles.com/wp-content/themes/bimber1/js/jquery.waypoints/jquery.waypoints.min.js?x67247\\' id=jquery-waypoints-js></script> <script src=\\'https://lesmoutonsrebelles.com/wp-content/themes/bimber1/js/enquire/enquire.min.js?x67247\\' id=enquire-js></script> <script id=bimber-global-js-extra>var bimber_front_config=\"{\\\\\"debug_mode\\\\\":false,\\\\\"ajax_url\\\\\":\\\\\"https:\\\\\\\\\\\\/\\\\\\\\\\\\/lesmoutonsrebelles.com\\\\\\\\\\\\/wp-admin\\\\\\\\\\\\/admin-ajax.php\\\\\",\\\\\"timeago\\\\\":\\\\\"on\\\\\",\\\\\"sharebar\\\\\":\\\\\"off\\\\\",\\\\\"i18n\\\\\":{\\\\\"menu\\\\\":{\\\\\"go_to\\\\\":\\\\\"Go to\\\\\"},\\\\\"newsletter\\\\\":{\\\\\"subscribe_mail_subject_tpl\\\\\":\\\\\"Check out this great article: %subject%\\\\\"},\\\\\"bp_profile_nav\\\\\":{\\\\\"more_link\\\\\":\\\\\"More\\\\\"}},\\\\\"comment_types\\\\\":[],\\\\\"auto_load_limit\\\\\":\\\\\"0\\\\\",\\\\\"auto_play_videos\\\\\":false,\\\\\"use_gif_player\\\\\":true,\\\\\"setTargetBlank\\\\\":true,\\\\\"useWaypoints\\\\\":true,\\\\\"stack\\\\\":\\\\\"original\\\\\"}\";</script> <script src=\\'https://lesmoutonsrebelles.com/wp-content/themes/bimber1/js/global.js?x67247\\' id=bimber-global-js></script> <script src=\\'https://lesmoutonsrebelles.com/wp-includes/js/jquery/ui/core.min.js?x67247\\' id=jquery-ui-core-js></script> <script src=\\'https://lesmoutonsrebelles.com/wp-includes/js/jquery/ui/menu.min.js?x67247\\' id=jquery-ui-menu-js></script> <script src=\\'https://lesmoutonsrebelles.com/wp-includes/js/dist/dom-ready.min.js?x67247\\' id=wp-dom-ready-js></script> <script src=\\'https://lesmoutonsrebelles.com/wp-includes/js/dist/hooks.min.js?x67247\\' id=wp-hooks-js></script> <script src=\\'https://lesmoutonsrebelles.com/wp-includes/js/dist/i18n.min.js?x67247\\' id=wp-i18n-js></script> <script id=wp-i18n-js-after>wp.i18n.setLocaleData({\\'text direction\\\\u0004ltr\\':[\\'ltr\\']});</script> <script id=wp-a11y-js-translations>(function(domain,translations){var localeData=translations.locale_data[domain]||translations.locale_data.messages;localeData[\"\"].domain=domain;wp.i18n.setLocaleData(localeData,domain);})(\"default\",{\"translation-revision-date\":\"2022-05-12 13:28:11+0000\",\"generator\":\"GlotPress\\\\/4.0.0-alpha.1\",\"domain\":\"messages\",\"locale_data\":{\"messages\":{\"\":{\"domain\":\"messages\",\"plural-forms\":\"nplurals=2; plural=n > 1;\",\"lang\":\"fr\"},\"Notifications\":[\"Notifications\"]}},\"comment\":{\"reference\":\"wp-includes\\\\/js\\\\/dist\\\\/a11y.js\"}});</script> <script src=\\'https://lesmoutonsrebelles.com/wp-includes/js/dist/a11y.min.js?x67247\\' id=wp-a11y-js></script> <script id=jquery-ui-autocomplete-js-extra>var uiAutocompleteL10n={\"noResults\":\"Aucun r\\\\u00e9sultat.\",\"oneResult\":\"Un r\\\\u00e9sultat trouv\\\\u00e9. Utilisez les fl\\\\u00e8ches haut et bas du clavier pour les parcourir.\",\"manyResults\":\"%d r\\\\u00e9sultats trouv\\\\u00e9s. Utilisez les fl\\\\u00e8ches haut et bas du clavier pour les parcourir.\",\"itemSelected\":\"\\\\u00c9l\\\\u00e9ment s\\\\u00e9lectionn\\\\u00e9.\"};</script> <script src=\\'https://lesmoutonsrebelles.com/wp-includes/js/jquery/ui/autocomplete.min.js?x67247\\' id=jquery-ui-autocomplete-js></script> <script src=\\'https://lesmoutonsrebelles.com/wp-content/themes/bimber1/js/ajax-search.js?x67247\\' id=bimber-ajax-search-js></script> <script src=\\'https://lesmoutonsrebelles.com/wp-content/plugins/easy-social-share-buttons3/assets/js/essb-core.min.js?x67247\\' id=easy-social-share-buttons-core-js></script> <script id=easy-social-share-buttons-core-js-after>var essb_settings={\"ajax_url\":\"https:\\\\/\\\\/lesmoutonsrebelles.com\\\\/wp-admin\\\\/admin-ajax.php\",\"essb3_nonce\":\"cbcc744bbc\",\"essb3_plugin_url\":\"https:\\\\/\\\\/lesmoutonsrebelles.com\\\\/wp-content\\\\/plugins\\\\/easy-social-share-buttons3\",\"essb3_stats\":false,\"essb3_ga\":false,\"blog_url\":\"https:\\\\/\\\\/lesmoutonsrebelles.com\\\\/\",\"post_id\":\"37423\"};</script> <script src=\\'https://lesmoutonsrebelles.com/wp-content/themes/bimber1/js/back-to-top.js?x67247\\' id=bimber-back-to-top-js></script> <script></script><script id=webpushr-script>(function(w,d,s,id){w.webpushr=w.webpushr||function(){(w.webpushr.q=w.webpushr.q||[]).push(arguments)};var js,fjs=d.getElementsByTagName(s)[0];js=d.createElement(s);js.async=1;js.id=id;js.src=\"https://cdn.webpushr.com/app.min.js\";d.body.appendChild(js);}(window,document,\\'script\\',\\'webpushr-jssdk\\'));webpushr(\\'setup\\',{\\'key\\':\\'BPtppSQ-F2aw8U8NqRH4P6DbvVh8TDqTIbPB_Qp8TuoEAsTBWGc6ZrH3DdWvVKg3HRZVHV4l_XzFGFGcD9bYmQA\\',\\'sw\\':\\'https://lesmoutonsrebelles.com/wp-content/plugins/webpushr-web-push-notifications/sdk_files/webpushr-sw.js.php\\'});</script> </body></html>'"
      ]
     },
     "execution_count": 218,
     "metadata": {},
     "output_type": "execute_result"
    }
   ],
   "source": [
    "imp.polite_get(url)"
   ]
  },
  {
   "cell_type": "code",
   "execution_count": 206,
   "id": "bedfdab9",
   "metadata": {},
   "outputs": [],
   "source": [
    "import patat.imp.sso_params"
   ]
  },
  {
   "cell_type": "code",
   "execution_count": 207,
   "id": "63199433",
   "metadata": {},
   "outputs": [],
   "source": [
    "params = patat.imp.sso_params.params"
   ]
  },
  {
   "cell_type": "code",
   "execution_count": 208,
   "id": "9abcbff1",
   "metadata": {},
   "outputs": [
    {
     "data": {
      "text/plain": [
       "''"
      ]
     },
     "execution_count": 208,
     "metadata": {},
     "output_type": "execute_result"
    }
   ],
   "source": [
    "site = imp.get_site(url)\n",
    "html = ''\n",
    "if url in imp._sso_params:\n",
    "    crawl_delay = imp._sso_params[site].get('crawl_delay',0)\n",
    "    html = imp.get_webpage(url, use_cache = use_cache, crawl_delay = crawl_delay)\n",
    "html"
   ]
  },
  {
   "cell_type": "code",
   "execution_count": 215,
   "id": "31a87edf",
   "metadata": {},
   "outputs": [
    {
     "data": {
      "text/plain": [
       "'lesmoutonsrebelles.com'"
      ]
     },
     "execution_count": 215,
     "metadata": {},
     "output_type": "execute_result"
    }
   ],
   "source": [
    "site = imp.get_site(url)\n",
    "site"
   ]
  },
  {
   "cell_type": "code",
   "execution_count": null,
   "id": "06f2fd84",
   "metadata": {},
   "outputs": [],
   "source": [
    "if url in self._sso_params:\n",
    "    crawl_delay = self._sso_params[site].get('crawl_delay',0)"
   ]
  }
 ],
 "metadata": {
  "kernelspec": {
   "display_name": "Python 3 (ipykernel)",
   "language": "python",
   "name": "python3"
  },
  "language_info": {
   "codemirror_mode": {
    "name": "ipython",
    "version": 3
   },
   "file_extension": ".py",
   "mimetype": "text/x-python",
   "name": "python",
   "nbconvert_exporter": "python",
   "pygments_lexer": "ipython3",
   "version": "3.9.13"
  }
 },
 "nbformat": 4,
 "nbformat_minor": 5
}
