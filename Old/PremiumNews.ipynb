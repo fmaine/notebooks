{
 "cells": [
  {
   "cell_type": "code",
   "execution_count": 1,
   "id": "eb0e8018",
   "metadata": {},
   "outputs": [
    {
     "name": "stdout",
     "output_type": "stream",
     "text": [
      "/Users/fm/Desktop/Work/Patat\n"
     ]
    }
   ],
   "source": [
    "cd ../.."
   ]
  },
  {
   "cell_type": "code",
   "execution_count": 11,
   "id": "766d38eb",
   "metadata": {},
   "outputs": [],
   "source": [
    "import re\n",
    "from bs4 import BeautifulSoup"
   ]
  },
  {
   "cell_type": "code",
   "execution_count": 3,
   "id": "0bdbc214",
   "metadata": {},
   "outputs": [],
   "source": [
    "import patat.imp.importer"
   ]
  },
  {
   "cell_type": "code",
   "execution_count": 4,
   "id": "10564a20",
   "metadata": {},
   "outputs": [],
   "source": [
    "imp = patat.imp.importer.Importer()"
   ]
  },
  {
   "cell_type": "code",
   "execution_count": 5,
   "id": "3bef0a05",
   "metadata": {},
   "outputs": [],
   "source": [
    "url = 'https://www.lemonde.fr/archives-du-monde/14-06-2022/'"
   ]
  },
  {
   "cell_type": "code",
   "execution_count": 6,
   "id": "a8db8484",
   "metadata": {},
   "outputs": [],
   "source": [
    "html = imp.get_webpage(url)"
   ]
  },
  {
   "cell_type": "code",
   "execution_count": 8,
   "id": "e414ce3f",
   "metadata": {},
   "outputs": [],
   "source": [
    "soup = BeautifulSoup(html,'lxml')"
   ]
  },
  {
   "cell_type": "code",
   "execution_count": 34,
   "id": "faeffc85",
   "metadata": {},
   "outputs": [
    {
     "name": "stdout",
     "output_type": "stream",
     "text": [
      "https://www.lemonde.fr/international/article/2022/06/14/la-lituanie-a-passe-commande-pour-acquerir-18-canons-caesar-francais_6130287_3210.html\n",
      "https://www.lemonde.fr/politique/article/2022/06/14/legislatives-2022-des-voix-de-plus-en-plus-nombreuses-demandent-l-instauration-d-un-systeme-proportionnel_6130286_823448.html\n",
      "Premium\n",
      "https://www.lemonde.fr/politique/article/2022/06/14/une-nuit-en-garde-a-vue-pour-avoir-alerte-d-une-confusion-possible-avec-l-homonyme-de-sandrine-rousseau_6130284_823448.html\n",
      "https://www.lemonde.fr/idees/article/2022/06/14/vu-par-herrmann_6130282_3232.html\n",
      "https://www.lemonde.fr/planete/article/2022/06/14/vague-de-chaleur-le-gouvernement-annonce-une-enveloppe-de-500-millions-d-euros-pour-la-renaturation-des-villes_6130281_3244.html\n",
      "https://www.lemonde.fr/campus/article/2022/06/14/bac-philo-2022-comment-des-series-televisees-peuvent-illustrer-des-notions-au-programme_6130280_4401467.html\n",
      "Premium\n",
      "https://www.lemonde.fr/international/article/2022/06/14/kiev-reclame-de-nouvelles-armes-pour-tenir-le-front-contre-l-armee-russe_6130279_3210.html\n",
      "Premium\n",
      "https://www.lemonde.fr/campus/article/2022/06/14/bac-de-philo-maintenir-la-philosophie-comme-seule-epreuve-commune-conforte-son-statut-symbolique_6130277_4401467.html\n",
      "Premium\n",
      "https://www.lemonde.fr/international/article/2022/06/14/le-passe-esclavagiste-de-volkswagen-devant-la-justice-bresilienne_6130278_3210.html\n",
      "https://www.lemonde.fr/afrique/article/2022/06/14/disco-maghreb-le-mythique-label-de-rai-algerien-mis-a-l-honneur-par-dj-snake-veut-se-relancer_6130276_3212.html\n",
      "https://www.lemonde.fr/disparitions/article/2022/06/14/l-ecrivain-israelien-avraham-yehoshua-est-mort_6130275_3382.html\n",
      "Premium\n",
      "https://www.lemonde.fr/idees/article/2022/06/14/supprimer-la-redevance-marine-le-pen-et-eric-zemmour-en-avaient-reve-emmanuel-macron-le-fait_6130274_3232.html\n",
      "https://www.lemonde.fr/societe/article/2022/06/14/l-offre-et-la-consommation-de-drogues-en-europe-de-retour-a-leur-niveau-d-avant-pandemie-selon-un-rapport_6130271_3224.html\n",
      "Premium\n",
      "https://www.lemonde.fr/planete/article/2022/06/14/comment-les-scientifiques-travaillent-sur-l-attribution-des-evenements-extremes-au-changement-climatique_6130270_3244.html\n",
      "Premium\n",
      "https://www.lemonde.fr/politique/article/2022/06/14/legislatives-2022-en-outre-mer-la-politique-locale-reprend-ses-droits_6130269_823448.html\n",
      "https://www.lemonde.fr/idees/article/2022/06/14/amazonie-deux-disparitions-et-une-catastrophe_6130268_3232.html\n",
      "Premium\n",
      "https://www.lemonde.fr/culture/article/2022/06/14/for-all-mankind-sur-apple-tv-un-petit-pas-sur-la-lune-un-grand-pas-vers-mars_6130267_3246.html\n",
      "Premium\n",
      "https://www.lemonde.fr/international/article/2022/06/14/en-colombie-deux-afro-descendantes-en-competition-pour-la-vice-presidence_6130266_3210.html\n",
      "Premium\n",
      "https://www.lemonde.fr/culture/article/2022/06/14/le-reste-est-ombre-au-centre-pompidou-les-ombres-portees-de-trois-artistes-portugais_6130265_3246.html\n",
      "Premium\n",
      "https://www.lemonde.fr/sciences/article/2022/06/14/un-sanctuaire-gallo-romain-decouvert-pres-de-rennes_6130264_1650684.html\n",
      "Premium\n",
      "https://www.lemonde.fr/economie/article/2022/06/14/tarif-reglemente-du-gaz-chronique-d-une-fin-annoncee_6130263_3234.html\n",
      "https://www.lemonde.fr/societe/article/2022/06/14/le-proprietaire-du-site-pornographique-jacquie-et-michel-en-garde-a-vue-dans-une-enquete-pour-complicite-de-viol-et-proxenetisme_6130258_3224.html\n",
      "Premium\n",
      "https://www.lemonde.fr/afrique/article/2022/06/14/mobilisation-au-royaume-uni-contre-les-envois-de-demandeurs-d-asile-au-rwanda_6130257_3212.html\n",
      "Premium\n",
      "https://www.lemonde.fr/international/article/2022/06/14/guerre-en-ukraine-le-dilemme-des-europeens-face-a-la-demande-d-adhesion-de-kiev_6130253_3210.html\n",
      "Premium\n",
      "https://www.lemonde.fr/economie/article/2022/06/14/finance-responsable-blackrock-est-taxe-de-gauchisme-par-le-camp-republicain-americain_6130252_3234.html\n",
      "Premium\n",
      "https://www.lemonde.fr/international/article/2022/06/14/guerre-en-ukraine-emmanuel-macron-souhaite-une-reevaluation-de-la-loi-de-programmation-militaire_6130251_3210.html\n",
      "https://www.lemonde.fr/podcasts/article/2022/06/14/crise-climatique-faut-il-faire-payer-les-riches_6130249_5463015.html\n",
      "Premium\n",
      "https://www.lemonde.fr/afrique/article/2022/06/14/un-nouveau-carnage-attribue-a-l-etat-islamique-au-burkina-faso_6130248_3212.html\n",
      "Premium\n",
      "https://www.lemonde.fr/international/article/2022/06/14/la-demission-des-deputes-sadristes-aggrave-la-crise-politique_6130247_3210.html\n",
      "https://www.lemonde.fr/campus/article/2022/06/14/bac-de-francais-2022-derniers-conseils-pour-bien-reussir-l-epreuve-ecrite_6130246_4401467.html\n",
      "Premium\n",
      "https://www.lemonde.fr/international/article/2022/06/14/michelle-bachelet-va-quitter-son-poste-aux-nations-unies_6130243_3210.html\n",
      "Premium\n",
      "https://www.lemonde.fr/politique/article/2022/06/14/la-cfdt-tente-de-retrouver-une-place-centrale-dans-le-dialogue-avec-l-executif_6130241_823448.html\n",
      "Premium\n",
      "https://www.lemonde.fr/politique/article/2022/06/14/legislatives-2022-du-ni-ni-au-cas-par-cas_6130239_823448.html\n",
      "https://www.lemonde.fr/culture/article/2022/06/14/quiz-bac-etes-vous-au-niveau-en-francais_6085037_3248.html\n",
      "https://www.lemonde.fr/afrique/article/2022/06/14/genocide-au-rwanda-felicien-kabuga-apte-a-etre-juge-selon-un-tribunal-de-l-onu_6130238_3212.html\n",
      "https://www.lemonde.fr/afrique/article/2022/06/14/au-togo-les-autorites-decretent-l-etat-d-urgence-dans-le-nord-apres-deux-attaques-djihadistes_6130236_3212.html\n"
     ]
    }
   ],
   "source": [
    "for a in soup.find_all(class_='teaser__link'):\n",
    "    link = a.get('href')\n",
    "    if re.match(article_url_mask,link):\n",
    "        if a.find(class_='icon__premium'):\n",
    "            print('Premium')\n",
    "        print(link)"
   ]
  },
  {
   "cell_type": "code",
   "execution_count": 32,
   "id": "932e0887",
   "metadata": {},
   "outputs": [],
   "source": [
    "article_url_mask = r'^https://www.lemonde.fr/[\\w]+/article/\\d+/\\d+/\\d+/[\\w_-]+.html$'\n",
    "\n",
    "\n"
   ]
  },
  {
   "cell_type": "code",
   "execution_count": 40,
   "id": "bce62346",
   "metadata": {},
   "outputs": [],
   "source": [
    "def free_article_links(html):\n",
    "    results = []\n",
    "    soup = BeautifulSoup(html,'lxml')\n",
    "    article_url_mask = r'^https://www.lemonde.fr/[\\w]+/article/\\d+/\\d+/\\d+/[\\w_-]+.html$'\n",
    "    article_link_class = 'teaser__link'\n",
    "    premium_class = 'icon__premium'\n",
    "    for a in soup.find_all(class_=article_link_class):\n",
    "        link = a.get('href')\n",
    "        if re.match(article_url_mask,link):\n",
    "            if a.find(class_=premium_class):\n",
    "                pass\n",
    "            else:\n",
    "                results.append(link)\n",
    "    return results"
   ]
  },
  {
   "cell_type": "code",
   "execution_count": 41,
   "id": "e5ced734",
   "metadata": {},
   "outputs": [
    {
     "data": {
      "text/plain": [
       "['https://www.lemonde.fr/international/article/2022/06/14/la-lituanie-a-passe-commande-pour-acquerir-18-canons-caesar-francais_6130287_3210.html',\n",
       " 'https://www.lemonde.fr/politique/article/2022/06/14/legislatives-2022-des-voix-de-plus-en-plus-nombreuses-demandent-l-instauration-d-un-systeme-proportionnel_6130286_823448.html',\n",
       " 'https://www.lemonde.fr/idees/article/2022/06/14/vu-par-herrmann_6130282_3232.html',\n",
       " 'https://www.lemonde.fr/planete/article/2022/06/14/vague-de-chaleur-le-gouvernement-annonce-une-enveloppe-de-500-millions-d-euros-pour-la-renaturation-des-villes_6130281_3244.html',\n",
       " 'https://www.lemonde.fr/campus/article/2022/06/14/bac-philo-2022-comment-des-series-televisees-peuvent-illustrer-des-notions-au-programme_6130280_4401467.html',\n",
       " 'https://www.lemonde.fr/afrique/article/2022/06/14/disco-maghreb-le-mythique-label-de-rai-algerien-mis-a-l-honneur-par-dj-snake-veut-se-relancer_6130276_3212.html',\n",
       " 'https://www.lemonde.fr/disparitions/article/2022/06/14/l-ecrivain-israelien-avraham-yehoshua-est-mort_6130275_3382.html',\n",
       " 'https://www.lemonde.fr/societe/article/2022/06/14/l-offre-et-la-consommation-de-drogues-en-europe-de-retour-a-leur-niveau-d-avant-pandemie-selon-un-rapport_6130271_3224.html',\n",
       " 'https://www.lemonde.fr/idees/article/2022/06/14/amazonie-deux-disparitions-et-une-catastrophe_6130268_3232.html',\n",
       " 'https://www.lemonde.fr/societe/article/2022/06/14/le-proprietaire-du-site-pornographique-jacquie-et-michel-en-garde-a-vue-dans-une-enquete-pour-complicite-de-viol-et-proxenetisme_6130258_3224.html',\n",
       " 'https://www.lemonde.fr/podcasts/article/2022/06/14/crise-climatique-faut-il-faire-payer-les-riches_6130249_5463015.html',\n",
       " 'https://www.lemonde.fr/campus/article/2022/06/14/bac-de-francais-2022-derniers-conseils-pour-bien-reussir-l-epreuve-ecrite_6130246_4401467.html',\n",
       " 'https://www.lemonde.fr/culture/article/2022/06/14/quiz-bac-etes-vous-au-niveau-en-francais_6085037_3248.html',\n",
       " 'https://www.lemonde.fr/afrique/article/2022/06/14/genocide-au-rwanda-felicien-kabuga-apte-a-etre-juge-selon-un-tribunal-de-l-onu_6130238_3212.html',\n",
       " 'https://www.lemonde.fr/afrique/article/2022/06/14/au-togo-les-autorites-decretent-l-etat-d-urgence-dans-le-nord-apres-deux-attaques-djihadistes_6130236_3212.html']"
      ]
     },
     "execution_count": 41,
     "metadata": {},
     "output_type": "execute_result"
    }
   ],
   "source": [
    "free_article_links(html)"
   ]
  },
  {
   "cell_type": "code",
   "execution_count": 42,
   "id": "291f9581",
   "metadata": {},
   "outputs": [],
   "source": [
    "import datetime"
   ]
  },
  {
   "cell_type": "code",
   "execution_count": 44,
   "id": "81dc0743",
   "metadata": {},
   "outputs": [
    {
     "data": {
      "text/plain": [
       "'14-06-2022'"
      ]
     },
     "execution_count": 44,
     "metadata": {},
     "output_type": "execute_result"
    }
   ],
   "source": [
    "datetime.datetime.now().strftime('%d-%m-%Y')"
   ]
  },
  {
   "cell_type": "code",
   "execution_count": 45,
   "id": "cbd8e292",
   "metadata": {},
   "outputs": [],
   "source": [
    "archive_date = datetime.datetime.now()"
   ]
  },
  {
   "cell_type": "code",
   "execution_count": 49,
   "id": "71530949",
   "metadata": {},
   "outputs": [
    {
     "name": "stdout",
     "output_type": "stream",
     "text": [
      "14-06-2022\n",
      "13-06-2022\n",
      "12-06-2022\n",
      "11-06-2022\n",
      "10-06-2022\n",
      "09-06-2022\n",
      "08-06-2022\n",
      "07-06-2022\n",
      "06-06-2022\n",
      "05-06-2022\n",
      "04-06-2022\n",
      "03-06-2022\n",
      "02-06-2022\n",
      "01-06-2022\n",
      "31-05-2022\n",
      "30-05-2022\n",
      "29-05-2022\n",
      "28-05-2022\n",
      "27-05-2022\n",
      "26-05-2022\n"
     ]
    }
   ],
   "source": [
    "for i in range(0,20):\n",
    "    print(archive_date.strftime('%d-%m-%Y'))\n",
    "    archive_date = archive_date - datetime.timedelta(days = 1 )"
   ]
  },
  {
   "cell_type": "code",
   "execution_count": null,
   "id": "c382a822",
   "metadata": {},
   "outputs": [],
   "source": []
  }
 ],
 "metadata": {
  "kernelspec": {
   "display_name": "Python 3 (ipykernel)",
   "language": "python",
   "name": "python3"
  },
  "language_info": {
   "codemirror_mode": {
    "name": "ipython",
    "version": 3
   },
   "file_extension": ".py",
   "mimetype": "text/x-python",
   "name": "python",
   "nbconvert_exporter": "python",
   "pygments_lexer": "ipython3",
   "version": "3.9.13"
  }
 },
 "nbformat": 4,
 "nbformat_minor": 5
}
