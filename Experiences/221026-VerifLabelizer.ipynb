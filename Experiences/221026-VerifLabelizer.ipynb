{
 "cells": [
  {
   "cell_type": "markdown",
   "id": "ae6b0a62",
   "metadata": {},
   "source": [
    "## Plateforme Agnostique de Traitement et d'Analyse des Textes\n",
    "### Carnet d'expérimentation\n",
    "---\n",
    "\n",
    "## Sujet : Vérification Labelizer\n",
    "\n",
    "---"
   ]
  },
  {
   "cell_type": "markdown",
   "id": "2601e626",
   "metadata": {},
   "source": [
    "## Observations et environnement\n",
    "---"
   ]
  },
  {
   "cell_type": "code",
   "execution_count": 1,
   "id": "5d0de4d7",
   "metadata": {},
   "outputs": [
    {
     "name": "stdout",
     "output_type": "stream",
     "text": [
      "/Users/fm/Desktop/Work/Patat\n"
     ]
    }
   ],
   "source": [
    "cd ../.."
   ]
  },
  {
   "cell_type": "code",
   "execution_count": 2,
   "id": "32256b0d",
   "metadata": {},
   "outputs": [],
   "source": [
    "import importlib\n",
    "import pandas as pd\n",
    "import seaborn as sns"
   ]
  },
  {
   "cell_type": "markdown",
   "id": "29618668",
   "metadata": {},
   "source": [
    "### Chargement des données"
   ]
  },
  {
   "cell_type": "code",
   "execution_count": 3,
   "id": "2f80b2c0",
   "metadata": {},
   "outputs": [],
   "source": [
    "article_filename = ''"
   ]
  },
  {
   "cell_type": "code",
   "execution_count": 4,
   "id": "05cde00c",
   "metadata": {},
   "outputs": [
    {
     "data": {
      "text/html": [
       "<div>\n",
       "<style scoped>\n",
       "    .dataframe tbody tr th:only-of-type {\n",
       "        vertical-align: middle;\n",
       "    }\n",
       "\n",
       "    .dataframe tbody tr th {\n",
       "        vertical-align: top;\n",
       "    }\n",
       "\n",
       "    .dataframe thead th {\n",
       "        text-align: right;\n",
       "    }\n",
       "</style>\n",
       "<table border=\"1\" class=\"dataframe\">\n",
       "  <thead>\n",
       "    <tr style=\"text-align: right;\">\n",
       "      <th></th>\n",
       "      <th>url</th>\n",
       "      <th>title</th>\n",
       "      <th>article</th>\n",
       "      <th>site</th>\n",
       "      <th>author</th>\n",
       "      <th>date_iso</th>\n",
       "      <th>url_h</th>\n",
       "      <th>c_count</th>\n",
       "    </tr>\n",
       "  </thead>\n",
       "  <tbody>\n",
       "    <tr>\n",
       "      <th>0</th>\n",
       "      <td>https://reseauinternational.net/tous-les-jeune...</td>\n",
       "      <td>Tous les jeunes, portez la nouvelle (russe)</td>\n",
       "      <td>par Pepe Escobar.\\nL’OCS à Samarcande et l’Ass...</td>\n",
       "      <td>reseauinternational.net</td>\n",
       "      <td>NaN</td>\n",
       "      <td>2022-09-30T00:00:00</td>\n",
       "      <td>f95a294c94ff76cc9626ae06300a8b38067f89cf</td>\n",
       "      <td>10366.0</td>\n",
       "    </tr>\n",
       "    <tr>\n",
       "      <th>1</th>\n",
       "      <td>https://reseauinternational.net/adhesion-a-la-...</td>\n",
       "      <td>Adhésion à la Russie : 93% pour le « oui » dan...</td>\n",
       "      <td>Dans les régions de Zaporijia et de Kherson, 9...</td>\n",
       "      <td>reseauinternational.net</td>\n",
       "      <td>NaN</td>\n",
       "      <td>2022-09-30T00:00:00</td>\n",
       "      <td>c924dab7ded47578d81c3ae46f8be0964b3c50f1</td>\n",
       "      <td>1607.0</td>\n",
       "    </tr>\n",
       "    <tr>\n",
       "      <th>2</th>\n",
       "      <td>https://lemediaen442.fr/onu-le-premier-ministr...</td>\n",
       "      <td>ONU – Le Premier ministre de Nouvelle-Zélande ...</td>\n",
       "      <td>L’argument principal de la ministre est que le...</td>\n",
       "      <td>lemediaen442.fr</td>\n",
       "      <td>NaN</td>\n",
       "      <td>2022-09-29T00:00:00</td>\n",
       "      <td>3d47a59ef99274fd9ee96c209cc2ab41d6e1f6bb</td>\n",
       "      <td>1444.0</td>\n",
       "    </tr>\n",
       "    <tr>\n",
       "      <th>3</th>\n",
       "      <td>https://www.francesoir.fr/societe-environnemen...</td>\n",
       "      <td>Compostage humain: les “funérailles vertes” ga...</td>\n",
       "      <td>Aux États-Unis, les différents gouvernements r...</td>\n",
       "      <td>www.francesoir.fr</td>\n",
       "      <td>Auteur(s)\\nFranceSoir</td>\n",
       "      <td>2022-09-28T13:15:00</td>\n",
       "      <td>0c0341a1f5fae820ee307cb54024df6b06a93d85</td>\n",
       "      <td>4040.0</td>\n",
       "    </tr>\n",
       "    <tr>\n",
       "      <th>4</th>\n",
       "      <td>https://www.breizh-info.com/2022/09/27/208410/...</td>\n",
       "      <td>Donatello : génie de la Renaissance</td>\n",
       "      <td>Portrait du sculpteur Donatello (1386-1466), p...</td>\n",
       "      <td>www.breizh-info.com</td>\n",
       "      <td>NaN</td>\n",
       "      <td>2022-09-27T00:00:00</td>\n",
       "      <td>fcce819327d0302c4cf5e3a8a43b54327ffb8e63</td>\n",
       "      <td>1145.0</td>\n",
       "    </tr>\n",
       "    <tr>\n",
       "      <th>...</th>\n",
       "      <td>...</td>\n",
       "      <td>...</td>\n",
       "      <td>...</td>\n",
       "      <td>...</td>\n",
       "      <td>...</td>\n",
       "      <td>...</td>\n",
       "      <td>...</td>\n",
       "      <td>...</td>\n",
       "    </tr>\n",
       "    <tr>\n",
       "      <th>77906</th>\n",
       "      <td>https://www.lelibrepenseur.org/une-histoire-vi...</td>\n",
       "      <td>Une histoire vieille comme le monde !</td>\n",
       "      <td>Certains veulent des preuves ! Ils ont raison....</td>\n",
       "      <td>www.lelibrepenseur.org</td>\n",
       "      <td>Par\\nAdmin</td>\n",
       "      <td>2010-05-04T00:00:00</td>\n",
       "      <td>8c7a6ecf46d47da1912884a0c0a2837c69f7ad19</td>\n",
       "      <td>NaN</td>\n",
       "    </tr>\n",
       "    <tr>\n",
       "      <th>77907</th>\n",
       "      <td>https://www.lelibrepenseur.org/actus/</td>\n",
       "      <td>Actus</td>\n",
       "      <td>Dernière vidéo !\\nIl était temps, enfin ! Je v...</td>\n",
       "      <td>www.lelibrepenseur.org</td>\n",
       "      <td>Par\\nuser</td>\n",
       "      <td>2007-07-07T00:00:00</td>\n",
       "      <td>d4d5a37a8ff545664bea75664c8d8695e70d0941</td>\n",
       "      <td>NaN</td>\n",
       "    </tr>\n",
       "    <tr>\n",
       "      <th>77908</th>\n",
       "      <td>https://www.lelibrepenseur.org/affiche-des-dec...</td>\n",
       "      <td>Affiche des décès et malaises de sportifs de h...</td>\n",
       "      <td>Un nombre inquiétant de sportifs de haut nivea...</td>\n",
       "      <td>www.lelibrepenseur.org</td>\n",
       "      <td>NaN</td>\n",
       "      <td>NaN</td>\n",
       "      <td>a175027896cf79e76dfad6409694fafacf1919b3</td>\n",
       "      <td>NaN</td>\n",
       "    </tr>\n",
       "    <tr>\n",
       "      <th>77909</th>\n",
       "      <td>https://www.lelibrepenseur.org/communaute/</td>\n",
       "      <td>Communauté</td>\n",
       "      <td>Notre Réseau Telegram et ses Groupes Secondair...</td>\n",
       "      <td>www.lelibrepenseur.org</td>\n",
       "      <td>NaN</td>\n",
       "      <td>NaN</td>\n",
       "      <td>6ba257c7b15dd68cadf7dc5d6d8c584db0f1792e</td>\n",
       "      <td>NaN</td>\n",
       "    </tr>\n",
       "    <tr>\n",
       "      <th>77910</th>\n",
       "      <td>https://www.lelibrepenseur.org/utilisation-des...</td>\n",
       "      <td>Utilisation des cookies sur notre site</td>\n",
       "      <td>Que sont les cookies ?\\n\\n\\nLes cookies sont d...</td>\n",
       "      <td>www.lelibrepenseur.org</td>\n",
       "      <td>NaN</td>\n",
       "      <td>NaN</td>\n",
       "      <td>7c725113f0c9a95c8269c8d7a271d253ae5ede99</td>\n",
       "      <td>NaN</td>\n",
       "    </tr>\n",
       "  </tbody>\n",
       "</table>\n",
       "<p>77911 rows × 8 columns</p>\n",
       "</div>"
      ],
      "text/plain": [
       "                                                     url  \\\n",
       "0      https://reseauinternational.net/tous-les-jeune...   \n",
       "1      https://reseauinternational.net/adhesion-a-la-...   \n",
       "2      https://lemediaen442.fr/onu-le-premier-ministr...   \n",
       "3      https://www.francesoir.fr/societe-environnemen...   \n",
       "4      https://www.breizh-info.com/2022/09/27/208410/...   \n",
       "...                                                  ...   \n",
       "77906  https://www.lelibrepenseur.org/une-histoire-vi...   \n",
       "77907              https://www.lelibrepenseur.org/actus/   \n",
       "77908  https://www.lelibrepenseur.org/affiche-des-dec...   \n",
       "77909         https://www.lelibrepenseur.org/communaute/   \n",
       "77910  https://www.lelibrepenseur.org/utilisation-des...   \n",
       "\n",
       "                                                   title  \\\n",
       "0            Tous les jeunes, portez la nouvelle (russe)   \n",
       "1      Adhésion à la Russie : 93% pour le « oui » dan...   \n",
       "2      ONU – Le Premier ministre de Nouvelle-Zélande ...   \n",
       "3      Compostage humain: les “funérailles vertes” ga...   \n",
       "4                    Donatello : génie de la Renaissance   \n",
       "...                                                  ...   \n",
       "77906              Une histoire vieille comme le monde !   \n",
       "77907                                              Actus   \n",
       "77908  Affiche des décès et malaises de sportifs de h...   \n",
       "77909                                         Communauté   \n",
       "77910             Utilisation des cookies sur notre site   \n",
       "\n",
       "                                                 article  \\\n",
       "0      par Pepe Escobar.\\nL’OCS à Samarcande et l’Ass...   \n",
       "1      Dans les régions de Zaporijia et de Kherson, 9...   \n",
       "2      L’argument principal de la ministre est que le...   \n",
       "3      Aux États-Unis, les différents gouvernements r...   \n",
       "4      Portrait du sculpteur Donatello (1386-1466), p...   \n",
       "...                                                  ...   \n",
       "77906  Certains veulent des preuves ! Ils ont raison....   \n",
       "77907  Dernière vidéo !\\nIl était temps, enfin ! Je v...   \n",
       "77908  Un nombre inquiétant de sportifs de haut nivea...   \n",
       "77909  Notre Réseau Telegram et ses Groupes Secondair...   \n",
       "77910  Que sont les cookies ?\\n\\n\\nLes cookies sont d...   \n",
       "\n",
       "                          site                 author             date_iso  \\\n",
       "0      reseauinternational.net                    NaN  2022-09-30T00:00:00   \n",
       "1      reseauinternational.net                    NaN  2022-09-30T00:00:00   \n",
       "2              lemediaen442.fr                    NaN  2022-09-29T00:00:00   \n",
       "3            www.francesoir.fr  Auteur(s)\\nFranceSoir  2022-09-28T13:15:00   \n",
       "4          www.breizh-info.com                    NaN  2022-09-27T00:00:00   \n",
       "...                        ...                    ...                  ...   \n",
       "77906   www.lelibrepenseur.org             Par\\nAdmin  2010-05-04T00:00:00   \n",
       "77907   www.lelibrepenseur.org              Par\\nuser  2007-07-07T00:00:00   \n",
       "77908   www.lelibrepenseur.org                    NaN                  NaN   \n",
       "77909   www.lelibrepenseur.org                    NaN                  NaN   \n",
       "77910   www.lelibrepenseur.org                    NaN                  NaN   \n",
       "\n",
       "                                          url_h  c_count  \n",
       "0      f95a294c94ff76cc9626ae06300a8b38067f89cf  10366.0  \n",
       "1      c924dab7ded47578d81c3ae46f8be0964b3c50f1   1607.0  \n",
       "2      3d47a59ef99274fd9ee96c209cc2ab41d6e1f6bb   1444.0  \n",
       "3      0c0341a1f5fae820ee307cb54024df6b06a93d85   4040.0  \n",
       "4      fcce819327d0302c4cf5e3a8a43b54327ffb8e63   1145.0  \n",
       "...                                         ...      ...  \n",
       "77906  8c7a6ecf46d47da1912884a0c0a2837c69f7ad19      NaN  \n",
       "77907  d4d5a37a8ff545664bea75664c8d8695e70d0941      NaN  \n",
       "77908  a175027896cf79e76dfad6409694fafacf1919b3      NaN  \n",
       "77909  6ba257c7b15dd68cadf7dc5d6d8c584db0f1792e      NaN  \n",
       "77910  7c725113f0c9a95c8269c8d7a271d253ae5ede99      NaN  \n",
       "\n",
       "[77911 rows x 8 columns]"
      ]
     },
     "execution_count": 4,
     "metadata": {},
     "output_type": "execute_result"
    }
   ],
   "source": [
    "import patat.db.article_db\n",
    "article_db = patat.db.article_db.ArticleDb(article_filename)\n",
    "article_db.df()"
   ]
  },
  {
   "cell_type": "code",
   "execution_count": 5,
   "id": "7627f3dc",
   "metadata": {},
   "outputs": [],
   "source": [
    "label_filename = ''"
   ]
  },
  {
   "cell_type": "code",
   "execution_count": 6,
   "id": "55511a34",
   "metadata": {},
   "outputs": [
    {
     "data": {
      "text/html": [
       "<div>\n",
       "<style scoped>\n",
       "    .dataframe tbody tr th:only-of-type {\n",
       "        vertical-align: middle;\n",
       "    }\n",
       "\n",
       "    .dataframe tbody tr th {\n",
       "        vertical-align: top;\n",
       "    }\n",
       "\n",
       "    .dataframe thead th {\n",
       "        text-align: right;\n",
       "    }\n",
       "</style>\n",
       "<table border=\"1\" class=\"dataframe\">\n",
       "  <thead>\n",
       "    <tr style=\"text-align: right;\">\n",
       "      <th></th>\n",
       "      <th>url</th>\n",
       "      <th>value</th>\n",
       "      <th>label</th>\n",
       "      <th>owner</th>\n",
       "      <th>url_h</th>\n",
       "      <th>type</th>\n",
       "    </tr>\n",
       "  </thead>\n",
       "  <tbody>\n",
       "    <tr>\n",
       "      <th>0</th>\n",
       "      <td>https://reseauinternational.net/tous-les-jeune...</td>\n",
       "      <td>0.049183</td>\n",
       "      <td>infox</td>\n",
       "      <td>221013-InfoxPred</td>\n",
       "      <td>f95a294c94ff76cc9626ae06300a8b38067f89cf</td>\n",
       "      <td>pred</td>\n",
       "    </tr>\n",
       "    <tr>\n",
       "      <th>1</th>\n",
       "      <td>https://reseauinternational.net/adhesion-a-la-...</td>\n",
       "      <td>0.022365</td>\n",
       "      <td>infox</td>\n",
       "      <td>221013-InfoxPred</td>\n",
       "      <td>c924dab7ded47578d81c3ae46f8be0964b3c50f1</td>\n",
       "      <td>pred</td>\n",
       "    </tr>\n",
       "    <tr>\n",
       "      <th>2</th>\n",
       "      <td>https://lemediaen442.fr/onu-le-premier-ministr...</td>\n",
       "      <td>0.967536</td>\n",
       "      <td>infox</td>\n",
       "      <td>221013-InfoxPred</td>\n",
       "      <td>3d47a59ef99274fd9ee96c209cc2ab41d6e1f6bb</td>\n",
       "      <td>pred</td>\n",
       "    </tr>\n",
       "    <tr>\n",
       "      <th>3</th>\n",
       "      <td>https://www.francesoir.fr/societe-environnemen...</td>\n",
       "      <td>0.254574</td>\n",
       "      <td>infox</td>\n",
       "      <td>221013-InfoxPred</td>\n",
       "      <td>0c0341a1f5fae820ee307cb54024df6b06a93d85</td>\n",
       "      <td>pred</td>\n",
       "    </tr>\n",
       "    <tr>\n",
       "      <th>4</th>\n",
       "      <td>https://www.breizh-info.com/2022/09/27/208410/...</td>\n",
       "      <td>0.074594</td>\n",
       "      <td>infox</td>\n",
       "      <td>221013-InfoxPred</td>\n",
       "      <td>fcce819327d0302c4cf5e3a8a43b54327ffb8e63</td>\n",
       "      <td>pred</td>\n",
       "    </tr>\n",
       "    <tr>\n",
       "      <th>...</th>\n",
       "      <td>...</td>\n",
       "      <td>...</td>\n",
       "      <td>...</td>\n",
       "      <td>...</td>\n",
       "      <td>...</td>\n",
       "      <td>...</td>\n",
       "    </tr>\n",
       "    <tr>\n",
       "      <th>186181</th>\n",
       "      <td>https://www.profession-gendarme.com/zelensky-e...</td>\n",
       "      <td>0.556761</td>\n",
       "      <td>infox</td>\n",
       "      <td>220930-tf_lr.pp</td>\n",
       "      <td>e346761c2a99d892b26c9388480e0ee6ad6b303b</td>\n",
       "      <td>pred</td>\n",
       "    </tr>\n",
       "    <tr>\n",
       "      <th>186182</th>\n",
       "      <td>https://www.profession-gendarme.com/zelensky-l...</td>\n",
       "      <td>0.164531</td>\n",
       "      <td>infox</td>\n",
       "      <td>220930-tf_lr.pp</td>\n",
       "      <td>77525354644316eadab53960efa8f5fd028c7f67</td>\n",
       "      <td>pred</td>\n",
       "    </tr>\n",
       "    <tr>\n",
       "      <th>186183</th>\n",
       "      <td>https://www.profession-gendarme.com/zelensky-m...</td>\n",
       "      <td>0.673791</td>\n",
       "      <td>infox</td>\n",
       "      <td>220930-tf_lr.pp</td>\n",
       "      <td>fc6a074da5c02032bc9fc3f35f1044bc4029042c</td>\n",
       "      <td>pred</td>\n",
       "    </tr>\n",
       "    <tr>\n",
       "      <th>186184</th>\n",
       "      <td>https://www.profession-gendarme.com/zero-mort-...</td>\n",
       "      <td>0.103192</td>\n",
       "      <td>infox</td>\n",
       "      <td>220930-tf_lr.pp</td>\n",
       "      <td>e4f0a8961d79c9a5f66c80d7aa4196cb679af2b0</td>\n",
       "      <td>pred</td>\n",
       "    </tr>\n",
       "    <tr>\n",
       "      <th>186185</th>\n",
       "      <td>https://www.profession-gendarme.com/zoom-franc...</td>\n",
       "      <td>0.303205</td>\n",
       "      <td>infox</td>\n",
       "      <td>220930-tf_lr.pp</td>\n",
       "      <td>36a0091795b15d56005a6b7b8963ada539f598eb</td>\n",
       "      <td>pred</td>\n",
       "    </tr>\n",
       "  </tbody>\n",
       "</table>\n",
       "<p>186186 rows × 6 columns</p>\n",
       "</div>"
      ],
      "text/plain": [
       "                                                      url     value  label  \\\n",
       "0       https://reseauinternational.net/tous-les-jeune...  0.049183  infox   \n",
       "1       https://reseauinternational.net/adhesion-a-la-...  0.022365  infox   \n",
       "2       https://lemediaen442.fr/onu-le-premier-ministr...  0.967536  infox   \n",
       "3       https://www.francesoir.fr/societe-environnemen...  0.254574  infox   \n",
       "4       https://www.breizh-info.com/2022/09/27/208410/...  0.074594  infox   \n",
       "...                                                   ...       ...    ...   \n",
       "186181  https://www.profession-gendarme.com/zelensky-e...  0.556761  infox   \n",
       "186182  https://www.profession-gendarme.com/zelensky-l...  0.164531  infox   \n",
       "186183  https://www.profession-gendarme.com/zelensky-m...  0.673791  infox   \n",
       "186184  https://www.profession-gendarme.com/zero-mort-...  0.103192  infox   \n",
       "186185  https://www.profession-gendarme.com/zoom-franc...  0.303205  infox   \n",
       "\n",
       "                   owner                                     url_h  type  \n",
       "0       221013-InfoxPred  f95a294c94ff76cc9626ae06300a8b38067f89cf  pred  \n",
       "1       221013-InfoxPred  c924dab7ded47578d81c3ae46f8be0964b3c50f1  pred  \n",
       "2       221013-InfoxPred  3d47a59ef99274fd9ee96c209cc2ab41d6e1f6bb  pred  \n",
       "3       221013-InfoxPred  0c0341a1f5fae820ee307cb54024df6b06a93d85  pred  \n",
       "4       221013-InfoxPred  fcce819327d0302c4cf5e3a8a43b54327ffb8e63  pred  \n",
       "...                  ...                                       ...   ...  \n",
       "186181   220930-tf_lr.pp  e346761c2a99d892b26c9388480e0ee6ad6b303b  pred  \n",
       "186182   220930-tf_lr.pp  77525354644316eadab53960efa8f5fd028c7f67  pred  \n",
       "186183   220930-tf_lr.pp  fc6a074da5c02032bc9fc3f35f1044bc4029042c  pred  \n",
       "186184   220930-tf_lr.pp  e4f0a8961d79c9a5f66c80d7aa4196cb679af2b0  pred  \n",
       "186185   220930-tf_lr.pp  36a0091795b15d56005a6b7b8963ada539f598eb  pred  \n",
       "\n",
       "[186186 rows x 6 columns]"
      ]
     },
     "execution_count": 6,
     "metadata": {},
     "output_type": "execute_result"
    }
   ],
   "source": [
    "import patat.db.label_db\n",
    "label_db = patat.db.label_db.LabelDb(label_filename)\n",
    "label_db.df()"
   ]
  },
  {
   "cell_type": "markdown",
   "id": "26de4d29",
   "metadata": {},
   "source": [
    "## Expérience\n",
    "---"
   ]
  },
  {
   "cell_type": "markdown",
   "id": "f29d6c3a",
   "metadata": {},
   "source": [
    "### Etape 1"
   ]
  },
  {
   "cell_type": "code",
   "execution_count": 8,
   "id": "e6a2fe9e",
   "metadata": {},
   "outputs": [],
   "source": [
    "df_verif = pd.read_csv('data/imports/221026-VerifOi.csv')"
   ]
  },
  {
   "cell_type": "code",
   "execution_count": 10,
   "id": "cf7ad5ef",
   "metadata": {},
   "outputs": [],
   "source": [
    "df_verif = df_verif.loc[2:]"
   ]
  },
  {
   "cell_type": "code",
   "execution_count": 12,
   "id": "59503562",
   "metadata": {},
   "outputs": [],
   "source": [
    "df_verif = df_verif[['url','infox']]"
   ]
  },
  {
   "cell_type": "code",
   "execution_count": 14,
   "id": "ff67c1af",
   "metadata": {},
   "outputs": [
    {
     "data": {
      "text/plain": [
       "count      59\n",
       "unique      2\n",
       "top       oui\n",
       "freq       34\n",
       "Name: infox, dtype: object"
      ]
     },
     "execution_count": 14,
     "metadata": {},
     "output_type": "execute_result"
    }
   ],
   "source": [
    "df_verif['infox']"
   ]
  },
  {
   "cell_type": "code",
   "execution_count": 15,
   "id": "782d3c4d",
   "metadata": {},
   "outputs": [],
   "source": [
    "df_label = label_db.df()"
   ]
  },
  {
   "cell_type": "code",
   "execution_count": 38,
   "id": "8b78363f",
   "metadata": {},
   "outputs": [],
   "source": [
    "df_pred = df_label[df_label['owner']=='221013-InfoxPred'][['url','value']]"
   ]
  },
  {
   "cell_type": "code",
   "execution_count": 39,
   "id": "220403ea",
   "metadata": {},
   "outputs": [],
   "source": [
    "df_221013 = pd.merge(df_verif,df_pred)"
   ]
  },
  {
   "cell_type": "code",
   "execution_count": 40,
   "id": "7d9bbee0",
   "metadata": {},
   "outputs": [],
   "source": [
    "def normalize(text):\n",
    "    if text=='oui':\n",
    "        return 1.0\n",
    "    else:\n",
    "        return 0.0"
   ]
  },
  {
   "cell_type": "code",
   "execution_count": 42,
   "id": "9433b8f2",
   "metadata": {},
   "outputs": [],
   "source": [
    "df_221013['infox'] = df_221013['infox'].apply(normalize)"
   ]
  },
  {
   "cell_type": "code",
   "execution_count": 43,
   "id": "f71b2980",
   "metadata": {},
   "outputs": [],
   "source": [
    "def is_infox(x):\n",
    "    return 1.0 if x>0.5 else 0.0"
   ]
  },
  {
   "cell_type": "code",
   "execution_count": 44,
   "id": "78e34ea9",
   "metadata": {},
   "outputs": [],
   "source": [
    "df_221013['infox_pred']=df_221013['value'].apply(is_infox)"
   ]
  },
  {
   "cell_type": "code",
   "execution_count": 45,
   "id": "3b29611e",
   "metadata": {},
   "outputs": [],
   "source": [
    "y_test = df_221013['infox']\n",
    "y_pred = df_221013['infox_pred']"
   ]
  },
  {
   "cell_type": "code",
   "execution_count": 47,
   "id": "388d3ca3",
   "metadata": {},
   "outputs": [],
   "source": [
    "df_221013.to_csv('data/tmp/Verif-221013.csv')"
   ]
  },
  {
   "cell_type": "code",
   "execution_count": 46,
   "id": "dbd179c7",
   "metadata": {},
   "outputs": [
    {
     "name": "stdout",
     "output_type": "stream",
     "text": [
      "Matrice de confusion\n",
      "[[19  5]\n",
      " [ 2 29]]\n",
      "Accuracy score 87.27%\n",
      "Recall score 93.55%\n"
     ]
    }
   ],
   "source": [
    "from sklearn import metrics\n",
    "cnf_matrix = metrics.confusion_matrix(y_test, y_pred)\n",
    "print('Matrice de confusion')\n",
    "print(cnf_matrix)\n",
    "print(f'Accuracy score {metrics.accuracy_score(y_test, y_pred)*100:.2f}%')\n",
    "print(f'Recall score {metrics.recall_score(y_test, y_pred)*100:.2f}%')"
   ]
  },
  {
   "cell_type": "markdown",
   "id": "ba0834f1",
   "metadata": {},
   "source": [
    "## Mesure et observation des résultats\n",
    "---"
   ]
  },
  {
   "cell_type": "code",
   "execution_count": null,
   "id": "2a4d001a",
   "metadata": {},
   "outputs": [],
   "source": []
  },
  {
   "cell_type": "markdown",
   "id": "76996d3a",
   "metadata": {},
   "source": [
    "## Sauvegarde des résultats\n",
    "---"
   ]
  },
  {
   "cell_type": "code",
   "execution_count": null,
   "id": "827f60e3",
   "metadata": {},
   "outputs": [],
   "source": []
  },
  {
   "cell_type": "markdown",
   "id": "fb7949bc",
   "metadata": {},
   "source": [
    "## Conclusions\n",
    "---"
   ]
  },
  {
   "cell_type": "markdown",
   "id": "bd06b261",
   "metadata": {},
   "source": [
    "- Résultat : OK"
   ]
  },
  {
   "cell_type": "markdown",
   "id": "bd360655",
   "metadata": {},
   "source": [
    "## Bricolages\n",
    "---"
   ]
  },
  {
   "cell_type": "code",
   "execution_count": null,
   "id": "3076f1c3",
   "metadata": {},
   "outputs": [],
   "source": []
  }
 ],
 "metadata": {
  "kernelspec": {
   "display_name": "Python 3 (ipykernel)",
   "language": "python",
   "name": "python3"
  },
  "language_info": {
   "codemirror_mode": {
    "name": "ipython",
    "version": 3
   },
   "file_extension": ".py",
   "mimetype": "text/x-python",
   "name": "python",
   "nbconvert_exporter": "python",
   "pygments_lexer": "ipython3",
   "version": "3.9.13"
  }
 },
 "nbformat": 4,
 "nbformat_minor": 5
}
