{
 "cells": [
  {
   "cell_type": "markdown",
   "id": "e3ec4689",
   "metadata": {},
   "source": [
    "# Plateforme Agnostique de Traitement et d'Analyse des Textes\n",
    "### Carnet d'expérimentation\n",
    "---\n",
    "\n",
    "## Sujet : Stats sur les paragraphes\n",
    "\n",
    "---"
   ]
  },
  {
   "cell_type": "markdown",
   "id": "2601e626",
   "metadata": {},
   "source": [
    "# Observations et environnement\n",
    "---"
   ]
  },
  {
   "cell_type": "markdown",
   "id": "60389b3d",
   "metadata": {},
   "source": [
    "## Environnement"
   ]
  },
  {
   "cell_type": "code",
   "execution_count": 1,
   "id": "525fef74",
   "metadata": {},
   "outputs": [],
   "source": [
    "random_state = 42"
   ]
  },
  {
   "cell_type": "code",
   "execution_count": 2,
   "id": "5d0de4d7",
   "metadata": {},
   "outputs": [
    {
     "name": "stdout",
     "output_type": "stream",
     "text": [
      "/Volumes/Geek/Work/Patat\n"
     ]
    }
   ],
   "source": [
    "cd ../.."
   ]
  },
  {
   "cell_type": "code",
   "execution_count": 3,
   "id": "32256b0d",
   "metadata": {},
   "outputs": [],
   "source": [
    "import ast\n",
    "import importlib\n",
    "import pandas as pd\n",
    "import seaborn as sns\n",
    "from tqdm.notebook import tqdm\n",
    "tqdm.pandas()"
   ]
  },
  {
   "cell_type": "markdown",
   "id": "60c2c9c4",
   "metadata": {},
   "source": [
    "## Données"
   ]
  },
  {
   "cell_type": "code",
   "execution_count": 4,
   "id": "d491fcb3",
   "metadata": {},
   "outputs": [],
   "source": [
    "filename = 'data/prod/230510-OIDS-Label.csv'"
   ]
  },
  {
   "cell_type": "code",
   "execution_count": 5,
   "id": "f4cc8fc9",
   "metadata": {},
   "outputs": [],
   "source": [
    "df_label = pd.read_csv(filename)\n",
    "df_label['paragraphs'] = df_label['paragraphs'].apply(ast.literal_eval)\n",
    "df_label['abstract'].fillna('',inplace=True)"
   ]
  },
  {
   "cell_type": "code",
   "execution_count": 6,
   "id": "73feab00",
   "metadata": {},
   "outputs": [
    {
     "data": {
      "text/plain": [
       "36"
      ]
     },
     "execution_count": 6,
     "metadata": {},
     "output_type": "execute_result"
    }
   ],
   "source": [
    "df_label['infox'].isna().sum()"
   ]
  },
  {
   "cell_type": "code",
   "execution_count": 7,
   "id": "5e535748",
   "metadata": {},
   "outputs": [],
   "source": [
    "df_label = df_label[df_label['infox'].notna()]"
   ]
  },
  {
   "cell_type": "markdown",
   "id": "61a52065",
   "metadata": {},
   "source": [
    "## Prédicteur"
   ]
  },
  {
   "cell_type": "code",
   "execution_count": 8,
   "id": "c4eb1e2d",
   "metadata": {},
   "outputs": [],
   "source": [
    "import patat.util.file\n",
    "#predfile = 'data/tmp/230425-PredInfox.pickle'\n",
    "predfile = 'data/prod/230510-LogRegInfox.pickle'\n",
    "predictor = patat.util.file.pickle_load(predfile)"
   ]
  },
  {
   "cell_type": "markdown",
   "id": "6b548bc6",
   "metadata": {},
   "source": [
    "# Experience\n",
    "---"
   ]
  },
  {
   "cell_type": "code",
   "execution_count": 13,
   "id": "ca545d96",
   "metadata": {},
   "outputs": [],
   "source": [
    "text = df_label.sample(1).iloc[0]['text']"
   ]
  },
  {
   "cell_type": "code",
   "execution_count": 14,
   "id": "ec582b83",
   "metadata": {},
   "outputs": [
    {
     "name": "stdout",
     "output_type": "stream",
     "text": [
      "Un demi-million d'Allemands ont subi de graves blessures causées par le vaccin COVID-19\n",
      "De : https://www.naturalnews.com/2022-05-12-survey-finds-germans-suffered-severe-vaccine-injuries.html\n",
      "Jeudi 12 mai 2022 par : Cassie B.\n",
      "Une\n",
      " enquête portant sur près de 40 000 Allemands dans l'un des plus grands \n",
      "hôpitaux d'Europe a révélé un taux élevé d'effets secondaires graves des\n",
      " vaccins COVID-19 qui durent des mois, voire plus.\n",
      "Parmi\n",
      " les résultats de l'étude, il y avait un taux de 8 effets secondaires \n",
      "graves pour 1 000 personnes vaccinées, soit 40 fois les 0,2 estimés par \n",
      "l'organisme allemand de surveillance des vaccins, l'Institut Paul \n",
      "Ehrlich.\n",
      "Le\n",
      " chercheur principal de l'étude, le Dr Harald Matthes, estime qu'environ\n",
      " un demi-million d'Allemands ont subi de graves effets secondaires après\n",
      " avoir reçu les piqûres basées sur ces statistiques. Alors\n",
      " que 80 % des personnes ayant des réactions graves se sont rétablies en \n",
      "trois à six mois, 20 % continuent de présenter des symptômes.\n",
      "En\n",
      " d'autres termes, 100 000 Allemands sont actuellement confrontés aux \n",
      "effets secondaires graves à long terme des vaccins COVID-19. Cette\n",
      " découverte a incité Matthes à demander au gouvernement de prendre plus \n",
      "au sérieux ceux qui prétendent avoir été blessés par les vaccins et de \n",
      "leur offrir des soins ambulatoires dédiés.\n",
      "Selon\n",
      " le chercheur, la plupart des Allemands n'ont pas été en mesure \n",
      "d'obtenir beaucoup d'aide dans le climat médical actuel du pays, où \n",
      "discuter des blessures causées par les vaccins est fortement déconseillé\n",
      " et les médecins ignorent largement comment aider ceux qui souffrent de \n",
      "ces effets. Il pense que \n",
      "permettre aux médecins de parler ouvertement des blessures causées par \n",
      "les vaccins les aidera à développer de meilleurs traitements sans avoir à\n",
      " craindre d'être ostracisés en tant qu'\"anti-vaccins\".\n",
      "Un\n",
      " bon point de départ, estime Matthes, consiste à explorer la forte \n",
      "similitude entre de nombreux symptômes de blessure par le vaccin et ce \n",
      "que beaucoup appellent le COVID long car il pense que les \n",
      "traitements qui sont actuellement utilisés pour  le COVID long   pourraient aider à traiter les blessures par le vaccin.\n",
      "En\n",
      " fait, l'Allemagne a déjà mis en place des cliniques ambulatoires qui se\n",
      " consacrent à aider les personnes présentant des symptômes de  COVID long . Bien que la personne   blessée  par la vaccination puisse théoriquement demander de l'aide à ces cliniques, il y en a\n",
      " tout simplement trop pour que cela soit faisable. À\n",
      " l'hôpital universitaire de la clinique externe spéciale de Marburg, les\n",
      " chercheurs espéraient étudier le  COVID  long chez les patients. Au\n",
      " lieu de cela, ils  sont débordés  par des \n",
      "patients qui éprouvent des effets secondaires graves de leurs vaccins. Matthes\n",
      " dit qu'ils reçoivent des centaines de courriels chaque jour à la \n",
      "clinique et qu'ils ont une liste d'attente d'environ 800 patients.\n",
      "Les ramifications de cela sont importantes. Écrivant pour The Defender\n",
      " , le Dr Josh Guetzkow compare cela à ce qui pourrait arriver si les \n",
      "chercheurs de la Harvard Medical School annonçaient que les blessures \n",
      "causées par les vaccins sont réelles, le CDC a sous-déclaré les \n",
      "événements indésirables graves d'un facteur 40, et ceux qui ont des \n",
      "blessures causées par les vaccins doivent être pris au sérieux - et que \n",
      "les médecins devraient être autorisés à exprimer ouvertement leurs \n",
      "opinions sans se soucier des représailles afin qu'ils puissent aider ces\n",
      " personnes. Bien sûr, les chances que cela se produise semblent assez faibles pour le moment.\n",
      "Fait\n",
      " intéressant, le facteur de sous-déclaration de 40 fois qui a été \n",
      "identifié dans l'étude allemande est le même facteur de sous-déclaration\n",
      " que des analystes comme Steve Kirsch  ( analysts like Steve Kirsch) et d'autres ont utilisé lors de l'extrapolation des données basées sur \n",
      "les rapports du système américain de notification des événements \n",
      "indésirables liés aux vaccins. À\n",
      " la mi-décembre, Kirsch a estimé le nombre de décès excédentaires \n",
      "pouvant être attribués au vaccin à 388 000 – soit près de 400 000 \n",
      "Américains vraisemblablement par ailleurs relativement en bonne santé \n",
      "qui pourraient être morts de quelque chose dont ils ont été amenés à \n",
      "croire qu'il les sauverait.\n",
      "Malheureusement,\n",
      " ces chiffres ne sont susceptibles d'augmenter qu'avec le temps, car ces\n",
      " effets prennent toute leur force chez un plus grand nombre de personnes\n",
      " et leurs liens avec les injections  deviennent plus évidents . ( connections to the jabs become more obvious.)\n",
      "Les sources de cet article incluent :\n",
      "ChildrensHealthDefense.org\n",
      "SteveKirsch.Substack.com\n",
      "\n"
     ]
    }
   ],
   "source": [
    "print(text)"
   ]
  },
  {
   "cell_type": "code",
   "execution_count": 15,
   "id": "613eac35",
   "metadata": {},
   "outputs": [],
   "source": [
    "import numpy as np"
   ]
  },
  {
   "cell_type": "code",
   "execution_count": 16,
   "id": "f9c0c2cf",
   "metadata": {},
   "outputs": [],
   "source": [
    "df_label['predict_infox']=np.round(predictor.predict_proba(df_label['text'])[:,1],3)"
   ]
  },
  {
   "cell_type": "code",
   "execution_count": 17,
   "id": "df7e2817",
   "metadata": {},
   "outputs": [
    {
     "data": {
      "text/plain": [
       "<seaborn.axisgrid.FacetGrid at 0x1690b4510>"
      ]
     },
     "execution_count": 17,
     "metadata": {},
     "output_type": "execute_result"
    },
    {
     "data": {
      "image/png": "[encoded data removed]",
      "text/plain": [
       "<Figure size 500x500 with 1 Axes>"
      ]
     },
     "metadata": {},
     "output_type": "display_data"
    }
   ],
   "source": [
    "sns.displot(df_label,x='predict_infox')"
   ]
  },
  {
   "cell_type": "code",
   "execution_count": 18,
   "id": "1f559a15",
   "metadata": {},
   "outputs": [
    {
     "data": {
      "application/vnd.jupyter.widget-view+json": {
       "model_id": "729bf2fef7a248ac9dc39e25eacf5090",
       "version_major": 2,
       "version_minor": 0
      },
      "text/plain": [
       "  0%|          | 0/895 [00:00<?, ?it/s]"
      ]
     },
     "metadata": {},
     "output_type": "display_data"
    }
   ],
   "source": [
    "df_label['predict_parags']=df_label['paragraphs'].progress_apply(lambda ps: predictor.predict_proba(ps)[:,1])\n"
   ]
  },
  {
   "cell_type": "code",
   "execution_count": 21,
   "id": "bce28221",
   "metadata": {},
   "outputs": [],
   "source": [
    "from termcolor import colored"
   ]
  },
  {
   "cell_type": "code",
   "execution_count": 22,
   "id": "b6fd4504",
   "metadata": {},
   "outputs": [],
   "source": [
    "\n",
    "def print_parags(index):\n",
    "    print(df_label['title'][index])\n",
    "    print(f'Infox level : {df_label[\"predict_infox\"][index]}\\n')\n",
    "    parags = df_label['paragraphs'][index]\n",
    "    for i in range(0,len(parags)):\n",
    "        proba = df_label['predict_parags'][index][i]\n",
    "        if proba < .3:\n",
    "            print (colored(parags[i], 'green'))\n",
    "        elif proba > .7:\n",
    "            print (colored(parags[i], 'red'))\n",
    "        else:\n",
    "            print(parags[i])\n",
    "        "
   ]
  },
  {
   "cell_type": "code",
   "execution_count": 24,
   "id": "0057c2eb",
   "metadata": {},
   "outputs": [
    {
     "name": "stdout",
     "output_type": "stream",
     "text": [
      "Ne vous inquiétez pas, nous ne manquerons jamais de pétrole\n",
      "Infox level : 0.727\n",
      "\n",
      "Le pétrole brut est l’une des ressources les plus importantes que nous ayons jamais découvertes. Le pétrole et les nombreux produits fabriqués à partir de celui-ci ont littéralement et figurativement transformé le monde au-delà de toute reconnaissance. Cependant, comme on nous le rappelle constamment, le pétrole brut n’est pas disponible en quantité infinie. Après tout, il a fallu des millions d’années pour le « brasser ».\n",
      "\u001b[32mLes estimations varient, mais si notre consommation actuelle se poursuit à un rythme soutenu, il se pourrait bien que, dans un avenir proche, nous soyons complètement épuisés. Mais ces affirmations sont-elles vraies ? Avons-nous atteint ce que l’on appelle communément le « pic pétrolier » ?\u001b[0m\n",
      "\u001b[32mOu, peut-être, juste peut-être, regardons-nous le problème sous le mauvais angle ?\u001b[0m\n",
      "Mais avant de s’interroger sur l’avenir du pétrole, prenons le temps de discuter de la nature d’une ressource « finie ».\n",
      "Les humains aiment construire des choses. Nous le faisons depuis que notre espèce existe, et nous continuerons à le faire dans un avenir lointain.\n",
      "Pour fabriquer des objets, il faut des matériaux, et selon ce que nous fabriquons, et en quelle quantité, cela peut consommer de grandes quantités de cette ou ces ressources brutes. Pour tout produit auquel vous pouvez penser, des matières premières ont été extraites à un moment donné de la chaîne d’approvisionnement et « utilisées » dans le produit final.\n",
      "Étant donné que l’on fabrique de plus en plus de choses au fil du temps, il semblerait logique qu’il y ait un moment où la réserve de n’importe quel matériau est épuisée ? Mais est-ce vraiment le cas ?\n",
      "\u001b[32mSource : Nestle/Flickr\u001b[0m\n",
      "Votre façon de voir les choses peut, en fin de compte, dépendre du fait que vous soyez pessimiste ou optimiste dans l’âme. Les pessimistes croient fermement qu’étant donné qu’il n’y a qu’une quantité limitée de choses que les humains peuvent toucher (comme toute la masse de la Terre, par exemple), les ressources doivent, par définition, être limitées. C’est particulièrement vrai si notre consommation d’un matériau dépasse le taux de reconstitution de celui-ci. C’est ce fait qui détermine essentiellement si une ressource est considérée comme « renouvelable » ou non.\n",
      "\u001b[32mLes plus optimistes réalisent toutefois qu’il existe un vaste univers rempli de toutes les sources potentielles de substances dont nous pourrions avoir besoin. Si nous venions un jour à manquer d’un produit comme le cuivre sur Terre, nous pourrions, avec suffisamment d’efforts, « sortir » dans l’espace et nous en procurer sur une autre planète ou un astéroïde.\u001b[0m\n",
      "Bien sûr, ce « matériel spatial » est également limité par définition, mais il s’agit d’une quantité tellement énorme qu’elle est, en fait, infinie. Tout ce que nous devons faire, c’est aller les chercher. Mais jusqu’à ce que nous puissions le faire, nous devrons nous contenter de ce que nous avons ici sur Terre. Heureusement, les humains ont le don de s’améliorer au fil du temps.\n",
      "Lorsqu’on nous le demande, nous parvenons à trouver des moyens d’utiliser les choses plus efficacement, à trouver des alternatives tout aussi efficaces ou à développer des moyens de recycler ou de récupérer des choses à partir d’autres choses si nécessaire. Nous avons également trouvé des moyens d’utiliser des matériaux à des fins totalement différentes de celles auxquelles nous sommes habitués.\n",
      "\u001b[32mPrenez l’or, par exemple. Depuis que l’homme est capable de l’extraire et de le raffiner, l’or est surtout utilisé comme bijou ou comme moyen d’échange. Cependant, avec l’avènement de l’ère électronique, on a découvert que l’or était également un fantastique conducteur électrique.\u001b[0m\n",
      "Bien que cela augmente évidemment la consommation relative de ce métal, l’homme a trouvé des moyens de l’utiliser avec plus de parcimonie au fil du temps, ou d’utiliser des alternatives. Nous avons même trouvé de nouvelles sources pour ce métal précieux autrefois considéré comme impossible – « l’or des fous ».\n",
      "\u001b[32mDe plus, nous avons également trouvé des moyens de récupérer l’or des vieux appareils électroniques usagés. Ainsi, si l’or, en tant que ressource, est « épuisé », dans un sens, il n’est pas détruit pour autant.\u001b[0m\n",
      "\u001b[32mLes courbes noires ascendantes dans la roche sont des filons de charbon. Source : fireballsedai/Flickr\u001b[0m\n",
      "\u001b[32mElle est simplement « stockée » dans la matière dont nous nous servons pour la fabriquer. Théoriquement, nous pourrions tout récupérer à l’avenir si nous le voulions.\u001b[0m\n",
      "Ainsi, à toutes fins utiles, l’or est effectivement disponible en quantité infinie, bien que rare. La même chose est probablement vraie pour des choses comme le pétrole brut.\n",
      "\u001b[32mEn réalité, lorsqu’on dit qu’une ressource s’épuise, c’est qu’elle devient plus chère ou que son extraction et son traitement nécessitent plus d’énergie qu’elle n’en vaut la peine, ou encore qu’il est impossible d’en extraire suffisamment pour que cela ne vaille pas la peine, et non qu’elle disparaisse littéralement pour toujours. C’est également vrai pour le pétrole brut.\u001b[0m\n",
      "\u001b[32mÀ moins que ses produits ne soient brûlés, le pétrole brut peut être « stocké » sous la forme de choses comme le plastique et les sacs en plastique. Dans un avenir où l’extraction du pétrole brut deviendrait excessivement coûteuse, pourrait-on envisager que les décharges deviennent une source d’hydrocarbures pour le carburant ?\u001b[0m\n",
      "Étonnamment, ce n’est pas de la pure science-fiction. Certains chercheurs travaillent déjà sur des moyens de reconvertir les sacs en plastique en pétrole. Si cela s’avère un jour économiquement viable, notre tendance à enterrer nos vieux déchets pourrait peut-être être considérée comme un moyen de « sauver » du carburant potentiel pour l’avenir.\n",
      "\u001b[32mUne idée fascinante.\u001b[0m\n",
      "\u001b[32mMais qu’en est-il de l’or contenu dans les sondes spatiales, les satellites, etc. Si les matériaux d’origine terrestre sont en quelque sorte « perdus » lorsqu’ils sont envoyés dans l’espace sous la forme de sondes, même les matériaux qui s’y trouvent pourraient être récupérés à l’avenir si nous nous y mettons.\u001b[0m\n",
      "\u001b[32mEn ce qui concerne le lancement de matériel dans l’espace, certaines innovations, comme les lanceurs cinétiques, sont en cours de développement. En cas de succès, cela pourrait « alléger » la pression sur les matières premières nécessaires à la fabrication des fusées.\u001b[0m\n",
      "L’essentiel est de comprendre que les ressources ne sont réellement limitées que par notre imagination. Après tout, la masse (et l’énergie) ne peut être ni créée ni détruite, mais seulement convertie. Même des processus tels que la fission nucléaire ou la fusion peuvent, en théorie, être inversés, même s’il faut beaucoup d’énergie pour y parvenir.\n",
      "\u001b[32mTant que l’investissement en énergie et en efforts est jugé rentable d’une manière ou d’une autre, bien sûr. Il n’y aurait guère d’intérêt à consommer plus d’énergie pour créer un combustible potentiel si l’on ne devait pas en obtenir autant. Vous devez obtenir un retour sur votre investissement.\u001b[0m\n",
      "\u001b[32mMais il y a encore plus que cela. Même la masse de notre planète n’est pas constante non plus. En fait, elle change quotidiennement.\u001b[0m\n",
      "\u001b[32mLa Terre, et les autres planètes, agissent comme des sortes d’aspirateurs géants lorsqu’elles voyagent dans le cosmos. Les astéroïdes, la poussière spatiale et les comètes occasionnelles sont tous « mangés » par la Terre au fil du temps.\u001b[0m\n",
      "Selon certaines estimations, la masse de la Terre augmente d’environ 43 tonnes chaque jour. Une bonne nouvelle, non ?\n",
      "Mais attendez, c’est un peu plus compliqué que cela. La Terre perd également de la masse au fil du temps, principalement à cause de la « fuite » de son atmosphère. L’énorme masse de la Terre fait un excellent travail pour maintenir un mince voile de gaz autour de sa croûte, mais ce n’est pas parfait.\n",
      "\u001b[32mLes sacs en plastique pourraient-ils être une source de carburant à l’avenir ? Source : Kate Ter Haar/Flickr\u001b[0m\n",
      "\u001b[32mLes éléments plus légers comme l’hydrogène, l’hélium et l’oxygène s’échappent continuellement dans l’espace. Ce phénomène est aggravé par l’« arrachage » constant des gaz de la Terre grâce à des phénomènes comme les vents solaires. En conséquence, la Terre perd jusqu’à plusieurs centaines de tonnes de masse chaque jour – une perte nette.\u001b[0m\n",
      "\u001b[32mMais ne vous inquiétez pas, il faudra plusieurs billions d’années pour que la Terre s’évapore complètement à ce rythme. À ce moment-là, le Soleil (et la Terre) seront de toute façon morts depuis longtemps.\u001b[0m\n",
      "\u001b[32mMais qu’en est-il des ressources organiques « brutes » comme les arbres ou les animaux ? Si nous faisons disparaître une espèce par surconsommation, cela signifie-t-il que cette ressource est perdue à jamais ?\u001b[0m\n",
      "Peut-être pas. Les plantes sont un peu plus simples, car tant que nous avons accès à des graines viables, nous pouvons, en théorie, ramener une espèce d’entre les morts. Pour les animaux, bien sûr, les choses sont un peu plus complexes.\n",
      "Tant que nous avons accès à de l’ADN viable d’une créature en question, nous pourrions éventuellement, en utilisant la bio-ingénierie, les recréer aussi. Les scientifiques, par exemple, tentent actuellement de « dé-extraire » certains animaux, comme le mammouth laineux.\n",
      "\u001b[32mUn hamburger à base de boeuf cultivé. Photo : David Parry / PA Wire\u001b[0m\n",
      "Plus intéressant encore, les humains ont même trouvé le moyen de créer des versions artificielles, ou des alternatives, de ressources naturelles « vivantes ». La viande synthétique en est un bon exemple. Nous vous laissons décider si de telles choses sont techniquement identiques à l’original ou non.\n",
      "Alors, les ressources sont-elles limitées ? Par définition, techniquement oui, mais pratiquement non. Pédant peut-être, mais gardez toujours à l’esprit que les ressources brutes ne changent jamais de forme et ne sont pas détruites lorsque nous les utilisons – du point de vue de la conservation de la masse. Les aspects techniques de l’inversion des réactions chimiques mis à part (pensez aux composés par opposition aux mélanges et aux éléments), nous ne pouvons jamais vraiment manquer de quoi que ce soit, jamais. Il suffirait de trouver un moyen de récupérer ou de « reconvertir » quelque chose pour récupérer une ressource brute à l’avenir. Mais que l’on développe ou non un tel procédé, cela dépend en fin de compte de son rapport coût-bénéfice.\n",
      "\u001b[32mL’estimation des réserves de pétrole restantes de la planète est notoirement difficile et, franchement, sujette à des changements constants. Les raisons en sont diverses, mais sont principalement dictées par notre capacité technologique à exploiter les réserves de pétrole et par la difficulté d’estimer la demande future.\u001b[0m\n",
      "Cela étant dit, au rythme de la consommation actuelle, on estime qu’il nous reste 47 ans de pétrole à extraire. Cela équivaut à environ 1,65 trillion de barils de réserves prouvées de pétrole. D’autres sources augmentent un peu cette estimation, mais la plupart s’accordent à dire qu’il nous reste environ 50 ans, plus ou moins.\n",
      "À titre de référence, un baril de pétrole brut correspond à environ 42 gallons ou 159 litres.\n",
      "\u001b[32mEn ce qui concerne les autres combustibles fossiles, on estime qu’il nous reste 53 ans de gaz naturel et 114 ans de charbon à extraire du sol.\u001b[0m\n",
      "\u001b[32mSource : Eric Kounce/Wikimedia Commons\u001b[0m\n",
      "Bien que cela semble beaucoup, les estimations de 47 ans sont basées sur le maintien de la consommation de pétrole à environ 35 milliards et demi de barils par an, soit 97 millions de barils de pétrole par jour. Sur la base de la population mondiale de 2016, cela représente environ 5 barils par personne et par an, ou 0,5 gallon par personne et par jour.\n",
      "Les principaux producteurs de pétrole à ce jour sont des pays comme le Venezuela, qui détient environ 18 % de la part mondiale de pétrole, l’Arabie saoudite avec environ 16 %, le Canada avec environ 10,5 %, l’Iran et l’Irak avec environ 9,5 % et 8,7 % respectivement.\n",
      "Une fois extrait, le pétrole a plusieurs usages, mais la grande majorité est distillée pour fabriquer des carburants liquides comme l’essence ou est utilisée pour fabriquer du plastique ou des produits chimiques. Tant que les sociétés du monde entier maintiennent leur demande de carburant, de plastique et d’autres produits fabriqués, en partie, à partir du pétrole brut, une estimation de 47 ans est probablement assez prudente.\n",
      "Surtout si la population mondiale, et la demande, augmentent au fil du temps.\n",
      "\u001b[32mToutefois, si la pression mondiale en faveur de la décarbonisation s’accélère, voire si elle est couronnée de succès, cette estimation se révélera être une sous-estimation grossière des réserves restantes. Un autre problème avec les estimations des réserves de pétrole restantes est le fait qu’elles sont nécessairement aveugles à ce que nous ne savons pas. De nouvelles réserves potentielles de pétrole sont découvertes en permanence.\u001b[0m\n",
      "Il est également important de noter que les réserves mondiales prouvées ont augmenté au fil du temps. Comme nous l’avons déjà évoqué, cela est principalement dû à l’amélioration des technologies et des méthodes d’extraction qui ont rendu économiquement et physiquement viables des réserves de pétrole auparavant inexploitables.\n",
      "Étant donné que le pétrole devient de plus en plus difficile à extraire et que la demande de pétrole reste élevée, des méthodes améliorées et innovantes d’extraction du pétrole sont inévitablement étudiées et maîtrisées. Par exemple, le forage directionnel, ou la capacité de diriger une tête de forage sous la surface, était autrefois considéré comme trop difficile à rendre économiquement viable, mais il est aujourd’hui devenu une pratique courante.\n",
      "\u001b[32mIl est fort probable que quelque chose d’aussi innovant sera conçu à l’avenir, pour autant que la demande des consommateurs reste suffisamment élevée. Mais nous y reviendrons plus tard.\u001b[0m\n",
      "\u001b[32mSource : PIF/YouTube\u001b[0m\n",
      "\u001b[32mAvant de répondre à cette question, nous devons développer le terme « prouvé » que nous avons mentionné précédemment. Il est important de le comprendre car il nous aidera à déterminer honnêtement si le pétrole sera un jour épuisé ou non.\u001b[0m\n",
      "Les réserves de pétrole « prouvées » sont les réserves de pétrole qu’une région donnée peut théoriquement extraire sur la base de l’infrastructure qu’elle a en place ou qu’elle prévoit d’avoir dans un avenir proche. Cela dépend évidemment, comme nous l’avons dit précédemment, des méthodes et de la technologie d’extraction du pétrole.\n",
      "\u001b[32mCependant, il est important de noter que tout le pétrole restant dans les réserves déjà exploitées n’est pas nécessairement utilisable. Souvent appelé « lourd » ou « acide », ce type de pétrole est de très mauvaise qualité. Il n’est pas toujours sous forme liquide et peut contenir de grandes quantités de contaminants comme le soufre.\u001b[0m\n",
      "Le soufre est un élément important car il est très corrosif pour l’acier, ce qui n’est évidemment pas une bonne nouvelle pour les équipements tels que ceux utilisés dans les raffineries. Le traitement du pétrole riche en soufre est très complexe et consomme beaucoup d’énergie, ce qui augmente évidemment le coût de sa mise sur le marché.\n",
      "L’un de ces matériaux est le bitume. Il s’agit d’une forme très visqueuse (collante) de pétrole brut de qualité inférieure qui peut être distillée pour produire du pétrole. Il peut également être utilisé « tel quel » comme liant pour de nombreux autres produits tels que l’asphalte, les produits de toiture, les produits anti-humidité, etc.\n",
      "\u001b[32mIl est si collant que l’Association canadienne des producteurs pétroliers (ACPP) le compare souvent à de la « mélasse froide ». Les producteurs comme l’ACPP ont considérablement amélioré leur capacité technologique au cours des dernières décennies, ce qui, par extension, a nécessairement augmenté les réserves prouvées du Canada.\u001b[0m\n",
      "\u001b[32mD’autres développements technologiques, comme la fracturation hydraulique (fracking), ont également contribué à augmenter les réserves prouvées mondiales malgré une augmentation de la consommation mondiale (et en suscitant la controverse).\u001b[0m\n",
      "Une autre innovation plus récente est notre capacité à traiter et à extraire le pétrole de schiste, plus précisément un matériau appelé kérogène (un mélange cireux de composés hydrocarbonés). Ce matériau se trouve généralement dans les dépôts de schiste et doit être chauffé à environ 500 degrés Celsius pour être extrait et traité. Ce processus convertit le kérogène solide en quelque chose de similaire au pétrole. Qui plus est, il y a une surabondance absolue de ce produit dans des pays comme les États-Unis.\n",
      "Selon certaines estimations, il y a des « trillions » de barils de pétrole de schiste rien qu’aux États-Unis. Cependant, le rendement énergétique réel de l’énergie investie (EROEI) pour extraire et raffiner le pétrole de schiste est si faible qu’il n’y a pas eu d’exploitation commerciale sérieuse du pétrole de schiste à ce jour.\n",
      "Un autre terme important à connaître est celui de « ressources techniquement récupérables », ou TRR en abrégé. Ce terme désigne les réserves de pétrole qui peuvent être extraites à l’aide des méthodes et technologies actuelles, mais dont l’exploitation n’est pas forcément rentable. En d’autres termes, le pétrole peut être extrait, mais toute entreprise qui le fait perdra probablement de l’argent, ce qui rend l’opération inutile.\n",
      "\u001b[32mSource : jp26jp/Pixabay\u001b[0m\n",
      "Alors pourquoi s’en préoccuper ?\n",
      "En fait, selon l’Energy Information Authority (EIA), les États-Unis possèdent environ 373 milliards de barils de pétrole TRR. En revanche, ils ne disposent que d’environ 47 milliards de barils de réserves « prouvées ».\n",
      "\u001b[32mLe pétrole techniquement récupérable est également susceptible de fluctuer fortement en quantité.\u001b[0m\n",
      "\u001b[32m« Les estimations du TRR sont très incertaines, en particulier dans les zones émergentes où relativement peu de puits ont été forés », explique l’EIA. « Les premières estimations ont tendance à varier et à se déplacer de manière significative au fil du temps parce que de nouvelles informations géologiques sont obtenues grâce à des forages supplémentaires, parce que la productivité à long terme est clarifiée pour les puits existants, et parce que la productivité des nouveaux puits augmente avec les améliorations technologiques et les meilleures pratiques de gestion. »\u001b[0m\n",
      "À titre de comparaison, la quantité de pétrole techniquement récupérable était d’environ 143,5 milliards de barils en 1990. Les chiffres actuels de l’EIA doublent effectivement ce chiffre aujourd’hui.\n",
      "« La technologie et les connaissances géologiques ont augmenté plus rapidement que la production américaine, ce qui a donc permis d’augmenter les estimations des ressources techniquement récupérables au fil du temps », explique Scott Lauermann, porte-parole de l’American Petroleum Institute.\n",
      "« Vous ne pouvez pas prendre les estimations des ressources techniquement récupérables d’aujourd’hui et estimer quand nous serons « épuisés, car ces estimations sont basées sur la technologie d’aujourd’hui et les formations connues, pas sur celles de demain. »\n",
      "Mais, comme toute chose dans la vie, on ne sait que ce que l’on sait. Il existe potentiellement une quantité encore plus importante de ressources techniquement récupérables non découvertes, c’est-à-dire des ressources dont l’U.S. Geological Survey (USGS) prévoit l’existence.\n",
      "\u001b[32m« Les ressources non découvertes sont celles dont on estime l’existence en se basant sur la géologie, la géophysique, la géochimie et notre familiarité avec des bassins et des formations rocheuses similaires. Leur existence n’a pas encore été prouvée par des forages », explique Alex Demas, porte-parole de l’USGS.\u001b[0m\n",
      "\u001b[32mSource : Divulgação Petrobras/Wikimedia Commons\u001b[0m\n",
      "Qui sait, il pourrait y avoir un approvisionnement effectivement illimité là-bas. Nous ne le savons simplement pas encore.\n",
      "\u001b[32mEn bref, non. Nous avons expliqué les principales raisons ci-dessus, mais il y a un autre facteur à prendre en compte : la rareté relative d’une ressource.\u001b[0m\n",
      "Pensez aux objets les plus précieux auxquels vous pouvez penser aujourd’hui. Quelle a été votre réponse ? De l’or ? Du platine ? L’argent ? Des diamants ?\n",
      "\u001b[32mToutes ces suggestions sont bonnes et leur prix est relativement élevé en raison de leur rareté (bien que l’argent soit souvent sous-évalué). Ces métaux sont également considérés comme des « réserves de valeur » en soi, et ce depuis très longtemps.\u001b[0m\n",
      "Mais il existe quelque chose d’encore plus rare que ces métaux : la painite.\n",
      "\u001b[32mLa painite, croyez-le ou non, est l’une des pierres précieuses les plus rares de la planète. C’est aussi l’un des minéraux les plus rares de la planète. Elle a même un record mondial Guinness pour le prouver.\u001b[0m\n",
      "Après sa découverte en Birmanie en 1951, il n’existait que 2 ou 3 spécimens de Painite pendant les cinq décennies suivantes. Bien que plus de 1 000 spécimens aient été retrouvés à ce jour, la plupart de ce matériau n’est pas facetable et ne peut donc pas être utilisé comme bijou.\n",
      "Pour cette raison, la painite est l’un des matériaux les plus précieux de la planète – elle vaut actuellement entre 50 000 et 60 000 dollars par carat. Pour les pierres précieuses, un carat, au cas où vous ne le sauriez pas, est une unité de masse utilisée pour mesurer le poids des diamants et autres pierres précieuses. Il est égal à 200 mg ou 0,00643 oz troy.\n",
      "\u001b[32mMais il existe quelque chose d’encore plus rare qui fait que ce prix semble être une aubaine : l’antimatière.\u001b[0m\n",
      "\u001b[32mLa création d’antimatière nécessite d’énormes quantités d’énergie et ne peut être réalisée que de manière synthétique pour le moment. La production nécessite également des équipements très spécialisés qui ne peuvent produire qu’environ 10 milliardièmes de gramme par an.\u001b[0m\n",
      "\u001b[32mPour cette raison, l’antimatière est largement considérée comme l’élément le plus cher en poids sur Terre, coûtant, selon certaines estimations, environ 62,5 trillions de dollars par gramme.\u001b[0m\n",
      "\u001b[32mTout cela est très intéressant, mais quel est le rapport avec le « prix du poisson », ou plutôt du pétrole ? Faisons une petite expérience de pensée.\u001b[0m\n",
      "Faisons un saut dans le temps d’environ 50 ans. Toutes les réserves prouvées de pétrole ont été épuisées, et des solutions ont été trouvées pour exploiter les réserves techniquement récupérables (ou peut-être ont-elles déjà été exploitées).\n",
      "Si, de tout le pétrole qui a jamais existé, il ne nous reste soudain plus qu’un seul seau, quel serait le coût de son utilisation ? Tant qu’il est encore apprécié en tant que tel, et compte tenu du fait qu’il est désormais incroyablement rare, son prix d’achat serait probablement exorbitant.\n",
      "Si nous utilisons certains des chiffres ci-dessus pour les substances les plus précieuses de la planète, il faudrait probablement compter des millions ou des milliards pour une si petite quantité.\n",
      "\u001b[32mAvec un tel prix, et tant qu’il y a une demande, et que les clients sont prêts à payer pour l’avoir, vous pouvez plus ou moins garantir qu’une étincelle brillante trouvera un moyen de la fournir. Mais, à un prix aussi élevé que celui des métaux précieux, quelqu’un de sensé le distillerait-il pour l’utiliser dans sa voiture (en supposant que les moteurs à combustion existent encore) ?\u001b[0m\n",
      "Ou serait-il plus enclin à l’exposer, peut-être, à le contenir dans des fioles et à le porter comme un bijou ? Qui sait, peut-être verrons-nous un avenir où les diamants seront remplacés par de minuscules fioles de pétrole ? L’expression « le pétrole est le meilleur ami de la femme » est certainement intéressante.\n",
      "\u001b[32mSi l’or et l’argent sont consommés dans des équipements tels que les appareils électroniques (bien qu’ils soient considérés comme « précieux »), c’est parce qu’ils sont d’excellents conducteurs électriques par rapport à d’autres matériaux moins chers. En ce qui concerne le pétrole (et ses dérivés), il existe des carburants alternatifs viables qui fonctionnent tout aussi bien, voire mieux.\u001b[0m\n",
      "\u001b[32mSource : ResoneTIC/Pixabay\u001b[0m\n",
      "\u001b[32mMais nous allons un peu vite en besogne. De toute façon, les réserves de pétrole brut ne seront peut-être jamais près d’être épuisées.\u001b[0m\n",
      "\u001b[32mLe pétrole devenant de plus en plus difficile à extraire et son prix augmentant inévitablement, nous devrions atteindre un point de basculement où les carburants alternatifs deviendront soudainement beaucoup plus attractifs.\u001b[0m\n",
      "\u001b[32mEt les gens voteront avec leurs pieds et leur porte-monnaie.\u001b[0m\n",
      "\u001b[32mD’ores et déjà, d’autres modes de transport, comme les véhicules électriques, sont souvent plus économiques à utiliser qu’un moteur à combustion interne (à condition que l’électricité soit produite à partir de combustibles non fossiles, bien sûr). Cette tendance s’accentuera avec l’augmentation du prix de l’essence.\u001b[0m\n",
      "Donc si, et probablement quand, le pétrole commence à devenir encore plus restrictivement coûteux à l’avenir, les consommateurs vont de plus en plus chercher des alternatives. Si cela ne se produit pas, ce qui est peu probable, des innovations apparaîtront bientôt pour utiliser les combustibles fossiles de manière toujours plus efficace.\n",
      "\u001b[32mComme, par exemple, des moyens innovants de brûler le combustible plus efficacement – comme l’allumage transitoire par plasma. Qui sait, nous pourrions même avoir des voitures viables fonctionnant avec des réacteurs nucléaires ?\u001b[0m\n",
      "\u001b[32mAlors, serons-nous un jour complètement à court de pétrole, au point de ne plus en avoir du tout ? En bref, non, cela n’est pas faisable d’un point de vue pratique et économique.\u001b[0m\n",
      "L’extraction du pétrole brut ne se poursuivra que tant qu’elle sera rentable. Les pressions réelles et artificielles qui s’exercent sur l’industrie (comme les réglementations environnementales, les taxes, etc.) nous amèneront inévitablement à un point où le pétrole deviendra trop cher pour être utilisé comme carburant ou comme matière première, bien avant que les ressources ne soient presque épuisées.\n",
      "\u001b[32mLe pétrole est vital pour notre monde moderne.\u001b[0m\n",
      "\u001b[32mC’est juste une question de temps.\u001b[0m\n",
      "\u001b[32mÀ moins, bien sûr, qu’on ne découvre une nouvelle méga ressource de ce produit. Mais l’élan vers la décarbonisation scellera probablement le destin du pétrole brut à long terme. Nous devrons tous attendre et voir.\u001b[0m\n",
      "Je le répète, il est peu probable que cela se produise pour les raisons que nous avons expliquées ci-dessus. Cependant, d’un point de vue pratique, nous atteindrons probablement un point où toutes les réserves de pétrole disponibles seront effectivement épuisées.\n",
      "À ce moment-là, les prix du pétrole auront augmenté suffisamment pour rendre son utilisation non rentable pour la plupart des usages. Après tout, c’est ce que nous voulons vraiment dire lorsque nous disons « épuisé » – s’il en coûte 10 000 dollars pour remplir un réservoir, ou 100 dollars par sac en plastique, pour presque tout le monde, c’est effectivement la même chose que de ne plus avoir de pétrole.\n",
      "Si la société et la technologie n’ont pas suffisamment évolué pour se passer complètement du pétrole au moment où cela se produira, les effets seront énormes. Le pétrole a littéralement et figurativement alimenté la plupart des économies modernes du monde.\n",
      "\u001b[32mPour chaque produit et service auquel vous pouvez penser, le pétrole est impliqué d’une manière ou d’une autre dans la chaîne d’approvisionnement. Il peut s’agir de la ressource brute pour la fabrication de pièces, comme des composants en plastique ou des produits chimiques, ou de dérivés du pétrole (comme l’essence ou le diesel) qui transporteront certaines pièces depuis les fournisseurs ou le client final.\u001b[0m\n",
      "\u001b[32mLe monde pourrait-il vivre sans pétrole ?\u001b[0m\n",
      "Le pétrole est utilisé pour de nombreuses autres choses que le carburant. Sur un baril de pétrole typique, environ la moitié est utilisée pour les carburants, tandis que le reste sert à fabriquer des produits comme l’asphalte et le bitume, les lubrifiants, le naphte, les cires et une grande variété de produits chimiques. Certains de ces produits comprennent des médicaments comme les antihistaminiques, les antiseptiques et d’autres produits essentiels comme les insecticides et les engrais pour l’agriculture.\n",
      "\u001b[32mSans compter les innombrables emplois directement ou indirectement liés à l’extraction, au traitement et au transport de la substance noire.\u001b[0m\n",
      "Le pétrole ne sert pas seulement à faire fonctionner nos voitures et nos avions.\n",
      "Sa disparition totale aurait un impact sur de nombreux aspects de notre vie et ramènerait la civilisation des centaines d’années en arrière. Il suffit de jeter un coup d’œil rapide à l’impact de la suppression d’éléments comme les engrais ou les antiseptiques sur les populations pour ne pas y penser.\n",
      "Les taux de mortalité de la population seraient frappés des deux côtés, les gens luttant pour nourrir leurs enfants et les personnes âgées devenant plus sensibles à des maladies autrefois traitables.\n",
      "\u001b[32mC’est particulièrement le cas dans notre monde moderne, interconnecté et globalisé, si les matériaux et les produits doivent être expédiés entre les continents et les pays sur de longues distances. Si une substance alternative pouvait remplacer chaque étape à l’identique, l’impact sur le monde entier serait catastrophique à tous points de vue.\u001b[0m\n",
      "Le pétrole n’est pas seulement utilisé comme carburant.\n",
      "Cela est particulièrement vrai pour les économies qui dépendent de l’importation de produits de base comme les céréales ou d’autres biens essentiels. Nous en avons eu un avant-goût, pour ainsi dire, avec le conflit actuel en Ukraine, par exemple. Au cas où vous l’ignoriez, l’Ukraine fournit quelque 45 millions de tonnes de céréales au monde chaque année.\n",
      "Il s’agit d’une denrée alimentaire de base, dont des millions de personnes dans le monde dépendent pour leur subsistance. Historiquement, les graves perturbations de ce type de produit ont mis à genoux même les civilisations les plus remarquables, comme l’Empire romain.\n",
      "\u001b[32mEn raison d’une réduction marquée de l’offre, les prix de la denrée concernée s’envoleraient, et seuls les pays les plus riches pourraient se permettre de l’acheter. Cela pourrait conduire au rationnement, à la famine et finalement à des troubles civils dans de nombreuses régions du monde en raison du manque d’aliments essentiels.\u001b[0m\n",
      "\u001b[32mFinalement, l’inflation s’aggraverait probablement et la qualité de vie, même dans les pays les plus riches, se dégraderait à un niveau jamais atteint depuis des centaines d’années.\u001b[0m\n",
      "\u001b[32mNe vous faites pas d’illusions, cela ne déstabiliserait pas de nombreux États-nations dans le monde. Il est également probable que cela provoquerait davantage de guerres et de migrations massives, aggravant ainsi le problème.\u001b[0m\n",
      "La période stable et relativement paisible que nous avons connue depuis la fin de la Seconde Guerre mondiale pourrait être brisée à jamais, et la vie, telle que nous nous y sommes habitués, changerait au-delà de toute reconnaissance.\n",
      "\u001b[32mSi le pétrole disparaissait soudainement, le monde changerait au-delà de toute reconnaissance, et pas dans le bon sens.\u001b[0m\n",
      "\u001b[32mPour ces raisons, entre autres, une transition raisonnable et planifiée des combustibles fossiles, comme le pétrole, vers des ressources alternatives sera vitale pour la paix et la prospérité futures dans le monde. Cette transition doit être traitée avec le plus grand soin.\u001b[0m\n",
      "Malgré toute la volonté du monde, les humains ne peuvent pas prédire l’avenir et ont l’habitude d’empirer les choses en modifiant des systèmes très complexes comme le commerce mondial. C’est pourquoi certains pensent que la meilleure solution est de permettre aux milliards d’habitants de la planète de procéder à des changements progressifs au fil du temps afin de nous sevrer tous de la nécessité de consommer du pétrole. D’autres soutiennent que si des changements ne sont pas imposés, ils n’auront jamais lieu.\n",
      "\u001b[32mLa hausse des prix, la réduction de l’offre et l’esprit d’entreprise pourraient nous y conduire si on les laisse suivre leur cours naturel. Certains pensent que le contrôle central d’une telle transition serait catastrophique pour nous tous. D’autres affirment que cela pourrait conduire à une mêlée générale désastreuse dans laquelle seuls les plus forts (ou les mieux armés) survivraient.\u001b[0m\n",
      "Cela étant dit, il est concevable que le monde puisse se passer du pétrole à long terme. Le pétrole étant, par définition, une ressource limitée, nous, en tant qu’espèce, devrons probablement le remplacer un jour ou l’autre.\n",
      "\u001b[32mToutefois, il est essentiel de ne pas exagérer le problème. Sans pétrole brut, notre espèce survivrait, tout comme nous le faisions avant le pétrole brut. La plupart des centaines de milliers d’années d’existence des êtres humains se sont déroulées sans pétrole brut, et il ne fait aucun doute que nous survivrons à l’avenir sans lui.\u001b[0m\n",
      "Nos vies deviendraient probablement différentes de celles d’aujourd’hui, mais on ne sait pas si ce sera mieux ou pire. Alors comment et avec quoi pourrions-nous remplacer le pétrole brut ?\n",
      "\u001b[32mPeut-on vivre sans pétrole ?\u001b[0m\n",
      "Il est difficile de répondre à cette question, car un substitut exact du pétrole n’est pas à l’horizon. Pour s’en détourner, il faudra probablement développer ou découvrir une série d’autres matières premières capables de combler le vide laissé par le pétrole.\n",
      "Toutefois, étant donné qu’environ 50 % de l’ensemble du pétrole est utilisé comme carburant, des solutions de développement potentiel sont déjà en place. Les centrales nucléaires, les sources d’énergie renouvelables et les biocarburants existent déjà et peuvent facilement être utilisés pour fournir du chauffage et de l’électricité à de nombreuses nations dans le monde.\n",
      "Bien qu’ils n’en soient encore qu’à leurs débuts, les biocarburants ou les carburants synthétiques peuvent être utilisés pour remplacer directement les carburants dérivés du pétrole, avec peu ou pas de conversion d’un moteur à combustion interne. Bien que leur fabrication pose ses propres problèmes d’impact sur l’environnement. Mais, du point de vue de l’approvisionnement en ressources, les biocarburants sont, en théorie du moins, inépuisables.\n",
      "\u001b[32mTant que les plantes peuvent pousser sur cette planète, nous pouvons toujours disposer d’un approvisionnement en carburants liquides pour nos machines.\u001b[0m\n",
      "Mais, comme nous l’avons mentionné plus haut, le carburant n’est qu’une partie de l’histoire. Examinons le développement actuel des substituts du pétrole dans diverses industries.\n",
      "\u001b[32mLa médecine dépend fortement de l’industrie pétrolière.\u001b[0m\n",
      "Croyez-le ou non, l’huile est essentielle à la création de certains médicaments. Mais pourquoi ?\n",
      "Eh bien, la plupart des médicaments pharmaceutiques sont créés par des processus chimiques impliquant des composés organiques. Le pétrole est une source riche en composés organiques qui sont utilisés dans la fabrication des médicaments. Selon certains rapports, 99 % des matières premières et des réactifs utilisés dans la production de produits pharmaceutiques proviennent de sources pétrochimiques.\n",
      "\u001b[32mMême les produits pharmaceutiques dérivés de matières organiques comme les plantes sont souvent raffinés à l’aide de produits pétrochimiques, ce qui rend le processus de production plus efficace et moins coûteux. D’autres, comme la pénicilline, un antibiotique fabriqué à partir de champignons et de micro-organismes naturels, utilisent fréquemment le phénol et le cumène comme conservateurs.\u001b[0m\n",
      "Les blisters, les flacons et autres emballages de pilules ont également tendance à utiliser de grandes quantités de plastique. La plupart des équipements médicaux utilisés aujourd’hui, tels que les valves cardiaques et les membres artificiels, ainsi qu’une grande partie des produits de nettoyage et de sécurité utilisés par le personnel médical, sont également dérivés de produits pétroliers.\n",
      "La vérité est que la fabrication et la production de masse de produits pharmaceutiques et d’appareils médicaux seraient compliquées sans les produits pétrochimiques, surtout à l’échelle requise pour répondre à la demande mondiale.\n",
      "\u001b[32mLa plupart du temps, les enrobages et les capsules des pilules sont constitués de polymères. En réalité, les médicaments à libération prolongée reposent sur un polymère composé d’acide tartrique qui se dissout lentement pour délivrer la dose précise de médicament.\u001b[0m\n",
      "\u001b[32mC’est donc assez important. Peut-on les remplacer par des substituts non dérivés du pétrole ?\u001b[0m\n",
      "Les dérivés du pétrole brut sont utilisés pour fabriquer des médicaments et leurs emballages.\n",
      "\u001b[32mIl se trouve que oui. Selon Forbes, plusieurs entreprises travaillent déjà sur des substituts à base de plantes pour alimenter des produits pétrochimiques plus traditionnels.\u001b[0m\n",
      "Un exemple, le Bio-BDO (1,4-butanediol), a été développé par Genomatica (une société de biotechnologie) comme substitut naturel et durable des produits pétrochimiques actuels. Genomatica utilise des matières premières renouvelables comme la canne à sucre, la betterave sucrière et d’autres sources d’hydrates de carbone comme le maïs pour remplacer les produits pétrochimiques.\n",
      "\u001b[32mL’entreprise a ouvert un nouveau campus de biotechnologie aux États-Unis, qui sera le premier à fabriquer du BDO renouvelable à l’échelle commerciale grâce au procédé GENO BDO de Genomatica. L’installation sera en mesure de produire plus de 65 000 tonnes de BDO par an après son achèvement en 2024. La capacité de production de bioBDO sera ainsi multipliée par trois.\u001b[0m\n",
      "\u001b[32mBien qu’ils aient été créés à l’origine pour remplacer le plastique, le spandex et les polymères synthétiques, des produits chimiques similaires pourraient être modifiés pour approvisionner l’industrie médicale. Avec un intérêt et un développement plus répandus, l’utilisation de plantes et de bactéries vivantes (plutôt que les restes de leurs ancêtres morts depuis longtemps) est une voie prometteuse à explorer.\u001b[0m\n",
      "\u001b[32mCes mêmes produits chimiques d’origine végétale pourraient également être utilisés dans d’autres domaines où les produits pétrochimiques sont actuellement essentiels, comme la fabrication de plastiques, etc.\u001b[0m\n",
      "Une autre voie à explorer consiste à recycler d’une manière ou d’une autre ou à réutiliser les produits dérivés du pétrole existants. Comme les décharges recèlent un trésor potentiel considérable de matières premières, cela pourrait s’avérer un moyen très utile d’utiliser le pétrole sans avoir à en extraire le pétrole brut « vierge ».\n",
      "\u001b[32mPrenez les sacs en plastique, par exemple. Dans le monde entier (et malheureusement dans la mer), il y a des millions de tonnes de « déchets » en plastique qui pourraient, en théorie, être utilisés comme matière première pour la pétrochimie et d’autres nouveaux plastiques, etc.\u001b[0m\n",
      "\u001b[32mSelon la BBC, c’est exactement ce que tente de faire une entreprise britannique. Appelée Recylkcing Technologies, cette société développe actuellement une machine capable de traiter les plastiques non recyclables pour les ramener à l’état d’huile liquide.\u001b[0m\n",
      "\u001b[32mEn cas de succès, ce type d’initiative ferait d’une pierre deux coups, en traitant les déchets et en réduisant la dépendance de la société vis-à-vis du pétrole brut. Cette initiative ne pourrait pas tomber mieux, puisque 88 % de tout le plastique utilisé dans le monde est soit jeté, soit brûlé, soit rejeté dans l’environnement. Cela signifie que seulement 12 des 359 millions de tonnes de plastique produites chaque année dans le monde sont recyclées.\u001b[0m\n",
      "\u001b[32mRecycling Technologies a créé une technologie de pointe appelée RT7000 qui convertit les plastiques difficiles à recycler, tels que les films, les sacs et les plastiques laminés, en une huile appelée Plaxx® qui est utilisée comme matière première pour la création de nouveaux plastiques.\u001b[0m\n",
      "\u001b[32mLe RT7000 offre une méthode évolutive pour recycler les déchets plastiques partout dans le monde. Modulaire et de petite taille, elle est conçue pour s’intégrer facilement aux opérations de traitement et de recyclage des déchets existantes.\u001b[0m\n",
      "Les choses semblent aller bien pour l’entreprise, qui a déjà obtenu des fonds de recherche pour développer sa technologie. Si elle parvient à étendre cette opération, elle pourrait changer la donne.\n",
      "Plus important encore, cela inciterait d’autres entreprises à développer des technologies similaires pour faire face à la concurrence. Qui sait, un jour, les décharges pourraient devenir une « propriété chaude » pour un nouveau type d’exploitation des sacs en plastique ?\n",
      "\u001b[32mLes sacs en plastique pourraient-ils être les gisements de pétrole du futur ?\u001b[0m\n",
      "Et c’est votre lot pour aujourd’hui.\n",
      "\u001b[32mNous avons couvert beaucoup de terrain ci-dessus, et nous espérons que vous comprendrez mieux la taille et l’ampleur du rôle du pétrole brut dans notre vie quotidienne.\u001b[0m\n",
      "\u001b[32mFranchement, il s’agit d’une ressource vitale et d’une ressource dont nous dépendrons pendant un certain temps. Même si, techniquement, il ne s’épuisera jamais, il deviendra si rare à un moment donné qu’il sera effectivement épuisé.\u001b[0m\n",
      "Bien que nous ne puissions jamais savoir quand ce jour viendra, il est prudent que de nombreuses industries explorent des méthodes de remplacement des matières premières à base de pétrole brut avant d’y être contraintes.\n",
      "\u001b[32mLire aussi : Les usines d’éthanol polluent plus que les raffineries de pétrole : rapport\u001b[0m\n",
      "\u001b[32mSource : Interesting Engineering – Traduit par Anguille sous roche\u001b[0m\n"
     ]
    }
   ],
   "source": [
    "print_parags(12)"
   ]
  },
  {
   "cell_type": "markdown",
   "id": "cf4b3cf6",
   "metadata": {},
   "source": [
    "## Stats Paragraphes"
   ]
  },
  {
   "cell_type": "markdown",
   "id": "c9395109",
   "metadata": {},
   "source": [
    "### Calcul des textes"
   ]
  },
  {
   "cell_type": "code",
   "execution_count": 29,
   "id": "ecb0f1c2",
   "metadata": {},
   "outputs": [
    {
     "name": "stderr",
     "output_type": "stream",
     "text": [
      "/var/folders/fr/mhrqmk5n1xs49b7jl3tgs2r00000gn/T/ipykernel_4336/2173199030.py:1: FutureWarning: The default value of numeric_only in DataFrame.sum is deprecated. In a future version, it will default to False. In addition, specifying 'numeric_only=None' is deprecated. Select only valid columns or specify the value of numeric_only to silence this warning.\n",
      "  df_label[['paragraphs','predict_parags']].sum()\n"
     ]
    },
    {
     "data": {
      "text/plain": [
       "paragraphs    [L’Arabie saoudite a organisé un événement pou...\n",
       "dtype: object"
      ]
     },
     "execution_count": 29,
     "metadata": {},
     "output_type": "execute_result"
    }
   ],
   "source": [
    "paragraphs = df_label['paragraphs'].sum()"
   ]
  },
  {
   "cell_type": "code",
   "execution_count": 30,
   "id": "04f6dc9e",
   "metadata": {},
   "outputs": [
    {
     "ename": "TypeError",
     "evalue": "operands could not be broadcast together with shapes (8,) (15,) ",
     "output_type": "error",
     "traceback": [
      "\u001b[0;31m---------------------------------------------------------------------------\u001b[0m",
      "\u001b[0;31mValueError\u001b[0m                                Traceback (most recent call last)",
      "File \u001b[0;32m/opt/homebrew/Caskroom/miniforge/base/envs/p311/lib/python3.11/site-packages/pandas/core/nanops.py:93\u001b[0m, in \u001b[0;36mdisallow.__call__.<locals>._f\u001b[0;34m(*args, **kwargs)\u001b[0m\n\u001b[1;32m     92\u001b[0m     \u001b[38;5;28;01mwith\u001b[39;00m np\u001b[38;5;241m.\u001b[39merrstate(invalid\u001b[38;5;241m=\u001b[39m\u001b[38;5;124m\"\u001b[39m\u001b[38;5;124mignore\u001b[39m\u001b[38;5;124m\"\u001b[39m):\n\u001b[0;32m---> 93\u001b[0m         \u001b[38;5;28;01mreturn\u001b[39;00m \u001b[43mf\u001b[49m\u001b[43m(\u001b[49m\u001b[38;5;241;43m*\u001b[39;49m\u001b[43margs\u001b[49m\u001b[43m,\u001b[49m\u001b[43m \u001b[49m\u001b[38;5;241;43m*\u001b[39;49m\u001b[38;5;241;43m*\u001b[39;49m\u001b[43mkwargs\u001b[49m\u001b[43m)\u001b[49m\n\u001b[1;32m     94\u001b[0m \u001b[38;5;28;01mexcept\u001b[39;00m \u001b[38;5;167;01mValueError\u001b[39;00m \u001b[38;5;28;01mas\u001b[39;00m e:\n\u001b[1;32m     95\u001b[0m     \u001b[38;5;66;03m# we want to transform an object array\u001b[39;00m\n\u001b[1;32m     96\u001b[0m     \u001b[38;5;66;03m# ValueError message to the more typical TypeError\u001b[39;00m\n\u001b[1;32m     97\u001b[0m     \u001b[38;5;66;03m# e.g. this is normally a disallowed function on\u001b[39;00m\n\u001b[1;32m     98\u001b[0m     \u001b[38;5;66;03m# object arrays that contain strings\u001b[39;00m\n",
      "File \u001b[0;32m/opt/homebrew/Caskroom/miniforge/base/envs/p311/lib/python3.11/site-packages/pandas/core/nanops.py:418\u001b[0m, in \u001b[0;36m_datetimelike_compat.<locals>.new_func\u001b[0;34m(values, axis, skipna, mask, **kwargs)\u001b[0m\n\u001b[1;32m    416\u001b[0m     mask \u001b[38;5;241m=\u001b[39m isna(values)\n\u001b[0;32m--> 418\u001b[0m result \u001b[38;5;241m=\u001b[39m \u001b[43mfunc\u001b[49m\u001b[43m(\u001b[49m\u001b[43mvalues\u001b[49m\u001b[43m,\u001b[49m\u001b[43m \u001b[49m\u001b[43maxis\u001b[49m\u001b[38;5;241;43m=\u001b[39;49m\u001b[43maxis\u001b[49m\u001b[43m,\u001b[49m\u001b[43m \u001b[49m\u001b[43mskipna\u001b[49m\u001b[38;5;241;43m=\u001b[39;49m\u001b[43mskipna\u001b[49m\u001b[43m,\u001b[49m\u001b[43m \u001b[49m\u001b[43mmask\u001b[49m\u001b[38;5;241;43m=\u001b[39;49m\u001b[43mmask\u001b[49m\u001b[43m,\u001b[49m\u001b[43m \u001b[49m\u001b[38;5;241;43m*\u001b[39;49m\u001b[38;5;241;43m*\u001b[39;49m\u001b[43mkwargs\u001b[49m\u001b[43m)\u001b[49m\n\u001b[1;32m    420\u001b[0m \u001b[38;5;28;01mif\u001b[39;00m datetimelike:\n",
      "File \u001b[0;32m/opt/homebrew/Caskroom/miniforge/base/envs/p311/lib/python3.11/site-packages/pandas/core/nanops.py:491\u001b[0m, in \u001b[0;36mmaybe_operate_rowwise.<locals>.newfunc\u001b[0;34m(values, axis, **kwargs)\u001b[0m\n\u001b[1;32m    489\u001b[0m     \u001b[38;5;28;01mreturn\u001b[39;00m np\u001b[38;5;241m.\u001b[39marray(results)\n\u001b[0;32m--> 491\u001b[0m \u001b[38;5;28;01mreturn\u001b[39;00m \u001b[43mfunc\u001b[49m\u001b[43m(\u001b[49m\u001b[43mvalues\u001b[49m\u001b[43m,\u001b[49m\u001b[43m \u001b[49m\u001b[43maxis\u001b[49m\u001b[38;5;241;43m=\u001b[39;49m\u001b[43maxis\u001b[49m\u001b[43m,\u001b[49m\u001b[43m \u001b[49m\u001b[38;5;241;43m*\u001b[39;49m\u001b[38;5;241;43m*\u001b[39;49m\u001b[43mkwargs\u001b[49m\u001b[43m)\u001b[49m\n",
      "File \u001b[0;32m/opt/homebrew/Caskroom/miniforge/base/envs/p311/lib/python3.11/site-packages/pandas/core/nanops.py:631\u001b[0m, in \u001b[0;36mnansum\u001b[0;34m(values, axis, skipna, min_count, mask)\u001b[0m\n\u001b[1;32m    629\u001b[0m     dtype_sum \u001b[38;5;241m=\u001b[39m np\u001b[38;5;241m.\u001b[39mdtype(np\u001b[38;5;241m.\u001b[39mfloat64)\n\u001b[0;32m--> 631\u001b[0m the_sum \u001b[38;5;241m=\u001b[39m \u001b[43mvalues\u001b[49m\u001b[38;5;241;43m.\u001b[39;49m\u001b[43msum\u001b[49m\u001b[43m(\u001b[49m\u001b[43maxis\u001b[49m\u001b[43m,\u001b[49m\u001b[43m \u001b[49m\u001b[43mdtype\u001b[49m\u001b[38;5;241;43m=\u001b[39;49m\u001b[43mdtype_sum\u001b[49m\u001b[43m)\u001b[49m\n\u001b[1;32m    632\u001b[0m the_sum \u001b[38;5;241m=\u001b[39m _maybe_null_out(the_sum, axis, mask, values\u001b[38;5;241m.\u001b[39mshape, min_count\u001b[38;5;241m=\u001b[39mmin_count)\n",
      "File \u001b[0;32m/opt/homebrew/Caskroom/miniforge/base/envs/p311/lib/python3.11/site-packages/numpy/core/_methods.py:49\u001b[0m, in \u001b[0;36m_sum\u001b[0;34m(a, axis, dtype, out, keepdims, initial, where)\u001b[0m\n\u001b[1;32m     47\u001b[0m \u001b[38;5;28;01mdef\u001b[39;00m \u001b[38;5;21m_sum\u001b[39m(a, axis\u001b[38;5;241m=\u001b[39m\u001b[38;5;28;01mNone\u001b[39;00m, dtype\u001b[38;5;241m=\u001b[39m\u001b[38;5;28;01mNone\u001b[39;00m, out\u001b[38;5;241m=\u001b[39m\u001b[38;5;28;01mNone\u001b[39;00m, keepdims\u001b[38;5;241m=\u001b[39m\u001b[38;5;28;01mFalse\u001b[39;00m,\n\u001b[1;32m     48\u001b[0m          initial\u001b[38;5;241m=\u001b[39m_NoValue, where\u001b[38;5;241m=\u001b[39m\u001b[38;5;28;01mTrue\u001b[39;00m):\n\u001b[0;32m---> 49\u001b[0m     \u001b[38;5;28;01mreturn\u001b[39;00m umr_sum(a, axis, dtype, out, keepdims, initial, where)\n",
      "\u001b[0;31mValueError\u001b[0m: operands could not be broadcast together with shapes (8,) (15,) ",
      "\nThe above exception was the direct cause of the following exception:\n",
      "\u001b[0;31mTypeError\u001b[0m                                 Traceback (most recent call last)",
      "Cell \u001b[0;32mIn[30], line 1\u001b[0m\n\u001b[0;32m----> 1\u001b[0m predict \u001b[38;5;241m=\u001b[39m \u001b[43mdf_label\u001b[49m\u001b[43m[\u001b[49m\u001b[38;5;124;43m'\u001b[39;49m\u001b[38;5;124;43mpredict_parags\u001b[39;49m\u001b[38;5;124;43m'\u001b[39;49m\u001b[43m]\u001b[49m\u001b[38;5;241;43m.\u001b[39;49m\u001b[43msum\u001b[49m\u001b[43m(\u001b[49m\u001b[43m)\u001b[49m\n",
      "File \u001b[0;32m/opt/homebrew/Caskroom/miniforge/base/envs/p311/lib/python3.11/site-packages/pandas/core/generic.py:11797\u001b[0m, in \u001b[0;36mNDFrame._add_numeric_operations.<locals>.sum\u001b[0;34m(self, axis, skipna, level, numeric_only, min_count, **kwargs)\u001b[0m\n\u001b[1;32m  11777\u001b[0m \u001b[38;5;129m@doc\u001b[39m(\n\u001b[1;32m  11778\u001b[0m     _num_doc,\n\u001b[1;32m  11779\u001b[0m     desc\u001b[38;5;241m=\u001b[39m\u001b[38;5;124m\"\u001b[39m\u001b[38;5;124mReturn the sum of the values over the requested axis.\u001b[39m\u001b[38;5;130;01m\\n\u001b[39;00m\u001b[38;5;130;01m\\n\u001b[39;00m\u001b[38;5;124m\"\u001b[39m\n\u001b[0;32m   (...)\u001b[0m\n\u001b[1;32m  11795\u001b[0m     \u001b[38;5;241m*\u001b[39m\u001b[38;5;241m*\u001b[39mkwargs,\n\u001b[1;32m  11796\u001b[0m ):\n\u001b[0;32m> 11797\u001b[0m     \u001b[38;5;28;01mreturn\u001b[39;00m \u001b[43mNDFrame\u001b[49m\u001b[38;5;241;43m.\u001b[39;49m\u001b[43msum\u001b[49m\u001b[43m(\u001b[49m\n\u001b[1;32m  11798\u001b[0m \u001b[43m        \u001b[49m\u001b[38;5;28;43mself\u001b[39;49m\u001b[43m,\u001b[49m\u001b[43m \u001b[49m\u001b[43maxis\u001b[49m\u001b[43m,\u001b[49m\u001b[43m \u001b[49m\u001b[43mskipna\u001b[49m\u001b[43m,\u001b[49m\u001b[43m \u001b[49m\u001b[43mlevel\u001b[49m\u001b[43m,\u001b[49m\u001b[43m \u001b[49m\u001b[43mnumeric_only\u001b[49m\u001b[43m,\u001b[49m\u001b[43m \u001b[49m\u001b[43mmin_count\u001b[49m\u001b[43m,\u001b[49m\u001b[43m \u001b[49m\u001b[38;5;241;43m*\u001b[39;49m\u001b[38;5;241;43m*\u001b[39;49m\u001b[43mkwargs\u001b[49m\n\u001b[1;32m  11799\u001b[0m \u001b[43m    \u001b[49m\u001b[43m)\u001b[49m\n",
      "File \u001b[0;32m/opt/homebrew/Caskroom/miniforge/base/envs/p311/lib/python3.11/site-packages/pandas/core/generic.py:11501\u001b[0m, in \u001b[0;36mNDFrame.sum\u001b[0;34m(self, axis, skipna, level, numeric_only, min_count, **kwargs)\u001b[0m\n\u001b[1;32m  11492\u001b[0m \u001b[38;5;28;01mdef\u001b[39;00m \u001b[38;5;21msum\u001b[39m(\n\u001b[1;32m  11493\u001b[0m     \u001b[38;5;28mself\u001b[39m,\n\u001b[1;32m  11494\u001b[0m     axis: Axis \u001b[38;5;241m|\u001b[39m \u001b[38;5;28;01mNone\u001b[39;00m \u001b[38;5;241m=\u001b[39m \u001b[38;5;28;01mNone\u001b[39;00m,\n\u001b[0;32m   (...)\u001b[0m\n\u001b[1;32m  11499\u001b[0m     \u001b[38;5;241m*\u001b[39m\u001b[38;5;241m*\u001b[39mkwargs,\n\u001b[1;32m  11500\u001b[0m ):\n\u001b[0;32m> 11501\u001b[0m     \u001b[38;5;28;01mreturn\u001b[39;00m \u001b[38;5;28;43mself\u001b[39;49m\u001b[38;5;241;43m.\u001b[39;49m\u001b[43m_min_count_stat_function\u001b[49m\u001b[43m(\u001b[49m\n\u001b[1;32m  11502\u001b[0m \u001b[43m        \u001b[49m\u001b[38;5;124;43m\"\u001b[39;49m\u001b[38;5;124;43msum\u001b[39;49m\u001b[38;5;124;43m\"\u001b[39;49m\u001b[43m,\u001b[49m\u001b[43m \u001b[49m\u001b[43mnanops\u001b[49m\u001b[38;5;241;43m.\u001b[39;49m\u001b[43mnansum\u001b[49m\u001b[43m,\u001b[49m\u001b[43m \u001b[49m\u001b[43maxis\u001b[49m\u001b[43m,\u001b[49m\u001b[43m \u001b[49m\u001b[43mskipna\u001b[49m\u001b[43m,\u001b[49m\u001b[43m \u001b[49m\u001b[43mlevel\u001b[49m\u001b[43m,\u001b[49m\u001b[43m \u001b[49m\u001b[43mnumeric_only\u001b[49m\u001b[43m,\u001b[49m\u001b[43m \u001b[49m\u001b[43mmin_count\u001b[49m\u001b[43m,\u001b[49m\u001b[43m \u001b[49m\u001b[38;5;241;43m*\u001b[39;49m\u001b[38;5;241;43m*\u001b[39;49m\u001b[43mkwargs\u001b[49m\n\u001b[1;32m  11503\u001b[0m \u001b[43m    \u001b[49m\u001b[43m)\u001b[49m\n",
      "File \u001b[0;32m/opt/homebrew/Caskroom/miniforge/base/envs/p311/lib/python3.11/site-packages/pandas/core/generic.py:11483\u001b[0m, in \u001b[0;36mNDFrame._min_count_stat_function\u001b[0;34m(self, name, func, axis, skipna, level, numeric_only, min_count, **kwargs)\u001b[0m\n\u001b[1;32m  11467\u001b[0m     warnings\u001b[38;5;241m.\u001b[39mwarn(\n\u001b[1;32m  11468\u001b[0m         \u001b[38;5;124m\"\u001b[39m\u001b[38;5;124mUsing the level keyword in DataFrame and Series aggregations is \u001b[39m\u001b[38;5;124m\"\u001b[39m\n\u001b[1;32m  11469\u001b[0m         \u001b[38;5;124m\"\u001b[39m\u001b[38;5;124mdeprecated and will be removed in a future version. Use groupby \u001b[39m\u001b[38;5;124m\"\u001b[39m\n\u001b[0;32m   (...)\u001b[0m\n\u001b[1;32m  11472\u001b[0m         stacklevel\u001b[38;5;241m=\u001b[39mfind_stack_level(),\n\u001b[1;32m  11473\u001b[0m     )\n\u001b[1;32m  11474\u001b[0m     \u001b[38;5;28;01mreturn\u001b[39;00m \u001b[38;5;28mself\u001b[39m\u001b[38;5;241m.\u001b[39m_agg_by_level(\n\u001b[1;32m  11475\u001b[0m         name,\n\u001b[1;32m  11476\u001b[0m         axis\u001b[38;5;241m=\u001b[39maxis,\n\u001b[0;32m   (...)\u001b[0m\n\u001b[1;32m  11480\u001b[0m         numeric_only\u001b[38;5;241m=\u001b[39mnumeric_only,\n\u001b[1;32m  11481\u001b[0m     )\n\u001b[0;32m> 11483\u001b[0m \u001b[38;5;28;01mreturn\u001b[39;00m \u001b[38;5;28;43mself\u001b[39;49m\u001b[38;5;241;43m.\u001b[39;49m\u001b[43m_reduce\u001b[49m\u001b[43m(\u001b[49m\n\u001b[1;32m  11484\u001b[0m \u001b[43m    \u001b[49m\u001b[43mfunc\u001b[49m\u001b[43m,\u001b[49m\n\u001b[1;32m  11485\u001b[0m \u001b[43m    \u001b[49m\u001b[43mname\u001b[49m\u001b[38;5;241;43m=\u001b[39;49m\u001b[43mname\u001b[49m\u001b[43m,\u001b[49m\n\u001b[1;32m  11486\u001b[0m \u001b[43m    \u001b[49m\u001b[43maxis\u001b[49m\u001b[38;5;241;43m=\u001b[39;49m\u001b[43maxis\u001b[49m\u001b[43m,\u001b[49m\n\u001b[1;32m  11487\u001b[0m \u001b[43m    \u001b[49m\u001b[43mskipna\u001b[49m\u001b[38;5;241;43m=\u001b[39;49m\u001b[43mskipna\u001b[49m\u001b[43m,\u001b[49m\n\u001b[1;32m  11488\u001b[0m \u001b[43m    \u001b[49m\u001b[43mnumeric_only\u001b[49m\u001b[38;5;241;43m=\u001b[39;49m\u001b[43mnumeric_only\u001b[49m\u001b[43m,\u001b[49m\n\u001b[1;32m  11489\u001b[0m \u001b[43m    \u001b[49m\u001b[43mmin_count\u001b[49m\u001b[38;5;241;43m=\u001b[39;49m\u001b[43mmin_count\u001b[49m\u001b[43m,\u001b[49m\n\u001b[1;32m  11490\u001b[0m \u001b[43m\u001b[49m\u001b[43m)\u001b[49m\n",
      "File \u001b[0;32m/opt/homebrew/Caskroom/miniforge/base/envs/p311/lib/python3.11/site-packages/pandas/core/series.py:4816\u001b[0m, in \u001b[0;36mSeries._reduce\u001b[0;34m(self, op, name, axis, skipna, numeric_only, filter_type, **kwds)\u001b[0m\n\u001b[1;32m   4812\u001b[0m     \u001b[38;5;28;01mraise\u001b[39;00m \u001b[38;5;167;01mNotImplementedError\u001b[39;00m(\n\u001b[1;32m   4813\u001b[0m         \u001b[38;5;124mf\u001b[39m\u001b[38;5;124m\"\u001b[39m\u001b[38;5;124mSeries.\u001b[39m\u001b[38;5;132;01m{\u001b[39;00mname\u001b[38;5;132;01m}\u001b[39;00m\u001b[38;5;124m does not implement \u001b[39m\u001b[38;5;132;01m{\u001b[39;00mkwd_name\u001b[38;5;132;01m}\u001b[39;00m\u001b[38;5;124m.\u001b[39m\u001b[38;5;124m\"\u001b[39m\n\u001b[1;32m   4814\u001b[0m     )\n\u001b[1;32m   4815\u001b[0m \u001b[38;5;28;01mwith\u001b[39;00m np\u001b[38;5;241m.\u001b[39merrstate(\u001b[38;5;28mall\u001b[39m\u001b[38;5;241m=\u001b[39m\u001b[38;5;124m\"\u001b[39m\u001b[38;5;124mignore\u001b[39m\u001b[38;5;124m\"\u001b[39m):\n\u001b[0;32m-> 4816\u001b[0m     \u001b[38;5;28;01mreturn\u001b[39;00m \u001b[43mop\u001b[49m\u001b[43m(\u001b[49m\u001b[43mdelegate\u001b[49m\u001b[43m,\u001b[49m\u001b[43m \u001b[49m\u001b[43mskipna\u001b[49m\u001b[38;5;241;43m=\u001b[39;49m\u001b[43mskipna\u001b[49m\u001b[43m,\u001b[49m\u001b[43m \u001b[49m\u001b[38;5;241;43m*\u001b[39;49m\u001b[38;5;241;43m*\u001b[39;49m\u001b[43mkwds\u001b[49m\u001b[43m)\u001b[49m\n",
      "File \u001b[0;32m/opt/homebrew/Caskroom/miniforge/base/envs/p311/lib/python3.11/site-packages/pandas/core/nanops.py:100\u001b[0m, in \u001b[0;36mdisallow.__call__.<locals>._f\u001b[0;34m(*args, **kwargs)\u001b[0m\n\u001b[1;32m     94\u001b[0m \u001b[38;5;28;01mexcept\u001b[39;00m \u001b[38;5;167;01mValueError\u001b[39;00m \u001b[38;5;28;01mas\u001b[39;00m e:\n\u001b[1;32m     95\u001b[0m     \u001b[38;5;66;03m# we want to transform an object array\u001b[39;00m\n\u001b[1;32m     96\u001b[0m     \u001b[38;5;66;03m# ValueError message to the more typical TypeError\u001b[39;00m\n\u001b[1;32m     97\u001b[0m     \u001b[38;5;66;03m# e.g. this is normally a disallowed function on\u001b[39;00m\n\u001b[1;32m     98\u001b[0m     \u001b[38;5;66;03m# object arrays that contain strings\u001b[39;00m\n\u001b[1;32m     99\u001b[0m     \u001b[38;5;28;01mif\u001b[39;00m is_object_dtype(args[\u001b[38;5;241m0\u001b[39m]):\n\u001b[0;32m--> 100\u001b[0m         \u001b[38;5;28;01mraise\u001b[39;00m \u001b[38;5;167;01mTypeError\u001b[39;00m(e) \u001b[38;5;28;01mfrom\u001b[39;00m \u001b[38;5;21;01me\u001b[39;00m\n\u001b[1;32m    101\u001b[0m     \u001b[38;5;28;01mraise\u001b[39;00m\n",
      "\u001b[0;31mTypeError\u001b[0m: operands could not be broadcast together with shapes (8,) (15,) "
     ]
    }
   ],
   "source": [
    "predict = df_label['predict_parags'].sum()"
   ]
  },
  {
   "cell_type": "code",
   "execution_count": 32,
   "id": "a80f1c90",
   "metadata": {},
   "outputs": [
    {
     "data": {
      "text/plain": [
       "(895, 45)"
      ]
     },
     "execution_count": 32,
     "metadata": {},
     "output_type": "execute_result"
    }
   ],
   "source": [
    "df_label.shape"
   ]
  },
  {
   "cell_type": "code",
   "execution_count": 31,
   "id": "f119bbe0",
   "metadata": {},
   "outputs": [
    {
     "data": {
      "text/html": [
       "<div>\n",
       "<style scoped>\n",
       "    .dataframe tbody tr th:only-of-type {\n",
       "        vertical-align: middle;\n",
       "    }\n",
       "\n",
       "    .dataframe tbody tr th {\n",
       "        vertical-align: top;\n",
       "    }\n",
       "\n",
       "    .dataframe thead th {\n",
       "        text-align: right;\n",
       "    }\n",
       "</style>\n",
       "<table border=\"1\" class=\"dataframe\">\n",
       "  <thead>\n",
       "    <tr style=\"text-align: right;\">\n",
       "      <th></th>\n",
       "      <th>paragraphs</th>\n",
       "      <th>predict_parags</th>\n",
       "    </tr>\n",
       "  </thead>\n",
       "  <tbody>\n",
       "    <tr>\n",
       "      <th>0</th>\n",
       "      <td>[L’Arabie saoudite a organisé un événement pou...</td>\n",
       "      <td>[0.1326685191263782, 0.12816675891313328, 0.17...</td>\n",
       "    </tr>\n",
       "    <tr>\n",
       "      <th>1</th>\n",
       "      <td>[Une professeure de droit a partagé sur Twitte...</td>\n",
       "      <td>[0.22197167250009972, 0.19054390055435694, 0.2...</td>\n",
       "    </tr>\n",
       "    <tr>\n",
       "      <th>2</th>\n",
       "      <td>[Le gouvernement israélien a qualifié la posit...</td>\n",
       "      <td>[0.2791761086852806, 0.04611973304498042, 0.12...</td>\n",
       "    </tr>\n",
       "    <tr>\n",
       "      <th>3</th>\n",
       "      <td>[NANTES – Une enquête pour « homicide volontai...</td>\n",
       "      <td>[0.15815738229224816, 0.18136618237091937, 0.1...</td>\n",
       "    </tr>\n",
       "    <tr>\n",
       "      <th>4</th>\n",
       "      <td>[La Cour européenne des droits de l’Homme (CED...</td>\n",
       "      <td>[0.14253450532453302, 0.16886300901548232, 0.1...</td>\n",
       "    </tr>\n",
       "    <tr>\n",
       "      <th>...</th>\n",
       "      <td>...</td>\n",
       "      <td>...</td>\n",
       "    </tr>\n",
       "    <tr>\n",
       "      <th>895</th>\n",
       "      <td>[Voile, femme, alimentation ou djihad… Il a ré...</td>\n",
       "      <td>[0.18556535219100584, 0.333042960579129, 0.187...</td>\n",
       "    </tr>\n",
       "    <tr>\n",
       "      <th>896</th>\n",
       "      <td>[Plus de la moitié des Américains qui ont voté...</td>\n",
       "      <td>[0.15661202652403422, 0.12687287004717515, 0.2...</td>\n",
       "    </tr>\n",
       "    <tr>\n",
       "      <th>897</th>\n",
       "      <td>[La loi du 11 février 2005 prévoyait que les é...</td>\n",
       "      <td>[0.22402715975863888, 0.21342573808474058, 0.1...</td>\n",
       "    </tr>\n",
       "    <tr>\n",
       "      <th>898</th>\n",
       "      <td>[On connait la musique depuis deux ans : les h...</td>\n",
       "      <td>[0.257502861257735, 0.314734578546719, 0.20139...</td>\n",
       "    </tr>\n",
       "    <tr>\n",
       "      <th>899</th>\n",
       "      <td>[\"L'objectif, c'est que ce ne soit pas un éniè...</td>\n",
       "      <td>[0.1555473256070239, 0.1664224194257982, 0.125...</td>\n",
       "    </tr>\n",
       "  </tbody>\n",
       "</table>\n",
       "<p>895 rows × 2 columns</p>\n",
       "</div>"
      ],
      "text/plain": [
       "                                            paragraphs  \\\n",
       "0    [L’Arabie saoudite a organisé un événement pou...   \n",
       "1    [Une professeure de droit a partagé sur Twitte...   \n",
       "2    [Le gouvernement israélien a qualifié la posit...   \n",
       "3    [NANTES – Une enquête pour « homicide volontai...   \n",
       "4    [La Cour européenne des droits de l’Homme (CED...   \n",
       "..                                                 ...   \n",
       "895  [Voile, femme, alimentation ou djihad… Il a ré...   \n",
       "896  [Plus de la moitié des Américains qui ont voté...   \n",
       "897  [La loi du 11 février 2005 prévoyait que les é...   \n",
       "898  [On connait la musique depuis deux ans : les h...   \n",
       "899  [\"L'objectif, c'est que ce ne soit pas un éniè...   \n",
       "\n",
       "                                        predict_parags  \n",
       "0    [0.1326685191263782, 0.12816675891313328, 0.17...  \n",
       "1    [0.22197167250009972, 0.19054390055435694, 0.2...  \n",
       "2    [0.2791761086852806, 0.04611973304498042, 0.12...  \n",
       "3    [0.15815738229224816, 0.18136618237091937, 0.1...  \n",
       "4    [0.14253450532453302, 0.16886300901548232, 0.1...  \n",
       "..                                                 ...  \n",
       "895  [0.18556535219100584, 0.333042960579129, 0.187...  \n",
       "896  [0.15661202652403422, 0.12687287004717515, 0.2...  \n",
       "897  [0.22402715975863888, 0.21342573808474058, 0.1...  \n",
       "898  [0.257502861257735, 0.314734578546719, 0.20139...  \n",
       "899  [0.1555473256070239, 0.1664224194257982, 0.125...  \n",
       "\n",
       "[895 rows x 2 columns]"
      ]
     },
     "execution_count": 31,
     "metadata": {},
     "output_type": "execute_result"
    }
   ],
   "source": [
    "compil = []\n",
    "for i in df_label.shape[0]:\n",
    "    compil.append({\n",
    "        'text'\n",
    "    })"
   ]
  },
  {
   "cell_type": "code",
   "execution_count": 33,
   "id": "24de9ffb",
   "metadata": {},
   "outputs": [
    {
     "data": {
      "text/html": [
       "<div>\n",
       "<style scoped>\n",
       "    .dataframe tbody tr th:only-of-type {\n",
       "        vertical-align: middle;\n",
       "    }\n",
       "\n",
       "    .dataframe tbody tr th {\n",
       "        vertical-align: top;\n",
       "    }\n",
       "\n",
       "    .dataframe thead th {\n",
       "        text-align: right;\n",
       "    }\n",
       "</style>\n",
       "<table border=\"1\" class=\"dataframe\">\n",
       "  <thead>\n",
       "    <tr style=\"text-align: right;\">\n",
       "      <th></th>\n",
       "      <th>paragraphs</th>\n",
       "      <th>predict_parags</th>\n",
       "    </tr>\n",
       "  </thead>\n",
       "  <tbody>\n",
       "    <tr>\n",
       "      <th>0</th>\n",
       "      <td>[L’Arabie saoudite a organisé un événement pou...</td>\n",
       "      <td>[0.1326685191263782, 0.12816675891313328, 0.17...</td>\n",
       "    </tr>\n",
       "    <tr>\n",
       "      <th>1</th>\n",
       "      <td>[Une professeure de droit a partagé sur Twitte...</td>\n",
       "      <td>[0.22197167250009972, 0.19054390055435694, 0.2...</td>\n",
       "    </tr>\n",
       "    <tr>\n",
       "      <th>2</th>\n",
       "      <td>[Le gouvernement israélien a qualifié la posit...</td>\n",
       "      <td>[0.2791761086852806, 0.04611973304498042, 0.12...</td>\n",
       "    </tr>\n",
       "    <tr>\n",
       "      <th>3</th>\n",
       "      <td>[NANTES – Une enquête pour « homicide volontai...</td>\n",
       "      <td>[0.15815738229224816, 0.18136618237091937, 0.1...</td>\n",
       "    </tr>\n",
       "    <tr>\n",
       "      <th>4</th>\n",
       "      <td>[La Cour européenne des droits de l’Homme (CED...</td>\n",
       "      <td>[0.14253450532453302, 0.16886300901548232, 0.1...</td>\n",
       "    </tr>\n",
       "    <tr>\n",
       "      <th>...</th>\n",
       "      <td>...</td>\n",
       "      <td>...</td>\n",
       "    </tr>\n",
       "    <tr>\n",
       "      <th>895</th>\n",
       "      <td>[Voile, femme, alimentation ou djihad… Il a ré...</td>\n",
       "      <td>[0.18556535219100584, 0.333042960579129, 0.187...</td>\n",
       "    </tr>\n",
       "    <tr>\n",
       "      <th>896</th>\n",
       "      <td>[Plus de la moitié des Américains qui ont voté...</td>\n",
       "      <td>[0.15661202652403422, 0.12687287004717515, 0.2...</td>\n",
       "    </tr>\n",
       "    <tr>\n",
       "      <th>897</th>\n",
       "      <td>[La loi du 11 février 2005 prévoyait que les é...</td>\n",
       "      <td>[0.22402715975863888, 0.21342573808474058, 0.1...</td>\n",
       "    </tr>\n",
       "    <tr>\n",
       "      <th>898</th>\n",
       "      <td>[On connait la musique depuis deux ans : les h...</td>\n",
       "      <td>[0.257502861257735, 0.314734578546719, 0.20139...</td>\n",
       "    </tr>\n",
       "    <tr>\n",
       "      <th>899</th>\n",
       "      <td>[\"L'objectif, c'est que ce ne soit pas un éniè...</td>\n",
       "      <td>[0.1555473256070239, 0.1664224194257982, 0.125...</td>\n",
       "    </tr>\n",
       "  </tbody>\n",
       "</table>\n",
       "<p>895 rows × 2 columns</p>\n",
       "</div>"
      ],
      "text/plain": [
       "                                            paragraphs  \\\n",
       "0    [L’Arabie saoudite a organisé un événement pou...   \n",
       "1    [Une professeure de droit a partagé sur Twitte...   \n",
       "2    [Le gouvernement israélien a qualifié la posit...   \n",
       "3    [NANTES – Une enquête pour « homicide volontai...   \n",
       "4    [La Cour européenne des droits de l’Homme (CED...   \n",
       "..                                                 ...   \n",
       "895  [Voile, femme, alimentation ou djihad… Il a ré...   \n",
       "896  [Plus de la moitié des Américains qui ont voté...   \n",
       "897  [La loi du 11 février 2005 prévoyait que les é...   \n",
       "898  [On connait la musique depuis deux ans : les h...   \n",
       "899  [\"L'objectif, c'est que ce ne soit pas un éniè...   \n",
       "\n",
       "                                        predict_parags  \n",
       "0    [0.1326685191263782, 0.12816675891313328, 0.17...  \n",
       "1    [0.22197167250009972, 0.19054390055435694, 0.2...  \n",
       "2    [0.2791761086852806, 0.04611973304498042, 0.12...  \n",
       "3    [0.15815738229224816, 0.18136618237091937, 0.1...  \n",
       "4    [0.14253450532453302, 0.16886300901548232, 0.1...  \n",
       "..                                                 ...  \n",
       "895  [0.18556535219100584, 0.333042960579129, 0.187...  \n",
       "896  [0.15661202652403422, 0.12687287004717515, 0.2...  \n",
       "897  [0.22402715975863888, 0.21342573808474058, 0.1...  \n",
       "898  [0.257502861257735, 0.314734578546719, 0.20139...  \n",
       "899  [0.1555473256070239, 0.1664224194257982, 0.125...  \n",
       "\n",
       "[895 rows x 2 columns]"
      ]
     },
     "execution_count": 33,
     "metadata": {},
     "output_type": "execute_result"
    }
   ],
   "source": [
    "df_label[['paragraphs','predict_parags']]"
   ]
  },
  {
   "cell_type": "code",
   "execution_count": 39,
   "id": "f8d7f970",
   "metadata": {},
   "outputs": [],
   "source": [
    "def merge_predict(parags,predicts):\n",
    "    parags_infox = []\n",
    "    for i in range(0,len(parags)):\n",
    "        parags_infox.append({\n",
    "            'text': parags[i],\n",
    "            'infox' : predicts[i]\n",
    "        })\n",
    "    return parags_infox"
   ]
  },
  {
   "cell_type": "code",
   "execution_count": 40,
   "id": "cd7a7459",
   "metadata": {},
   "outputs": [],
   "source": [
    "df_label['pp']=df_label[['paragraphs','predict_parags']].apply(lambda row: merge_predict(row['paragraphs'],row['predict_parags']),axis=1)\n",
    "\n",
    "\n",
    "\n",
    "\n",
    "\n"
   ]
  },
  {
   "cell_type": "code",
   "execution_count": 45,
   "id": "b738a889",
   "metadata": {},
   "outputs": [],
   "source": [
    "df_parags = pd.DataFrame(df_label['pp'].sum())"
   ]
  },
  {
   "cell_type": "code",
   "execution_count": 46,
   "id": "78128714",
   "metadata": {},
   "outputs": [
    {
     "data": {
      "text/plain": [
       "<seaborn.axisgrid.FacetGrid at 0x28414fc90>"
      ]
     },
     "execution_count": 46,
     "metadata": {},
     "output_type": "execute_result"
    },
    {
     "data": {
      "image/png": "[encoded data removed]",
      "text/plain": [
       "<Figure size 500x500 with 1 Axes>"
      ]
     },
     "metadata": {},
     "output_type": "display_data"
    }
   ],
   "source": [
    "sns.displot(df_parags,x='infox')"
   ]
  },
  {
   "cell_type": "code",
   "execution_count": 49,
   "id": "c4728792",
   "metadata": {},
   "outputs": [],
   "source": [
    "df_parags['c_count']=df_parags['text'].apply(len)"
   ]
  },
  {
   "cell_type": "code",
   "execution_count": 56,
   "id": "aac9ebc2",
   "metadata": {},
   "outputs": [
    {
     "data": {
      "text/html": [
       "<div>\n",
       "<style scoped>\n",
       "    .dataframe tbody tr th:only-of-type {\n",
       "        vertical-align: middle;\n",
       "    }\n",
       "\n",
       "    .dataframe tbody tr th {\n",
       "        vertical-align: top;\n",
       "    }\n",
       "\n",
       "    .dataframe thead th {\n",
       "        text-align: right;\n",
       "    }\n",
       "</style>\n",
       "<table border=\"1\" class=\"dataframe\">\n",
       "  <thead>\n",
       "    <tr style=\"text-align: right;\">\n",
       "      <th></th>\n",
       "      <th>text</th>\n",
       "      <th>infox</th>\n",
       "      <th>c_count</th>\n",
       "    </tr>\n",
       "  </thead>\n",
       "  <tbody>\n",
       "    <tr>\n",
       "      <th>15444</th>\n",
       "      <td>Après\\n avoir nié l'existence de laboratoires ...</td>\n",
       "      <td>0.962866</td>\n",
       "      <td>8072</td>\n",
       "    </tr>\n",
       "    <tr>\n",
       "      <th>7305</th>\n",
       "      <td>Le\\n rêve de Bill Gates de contrôler la planèt...</td>\n",
       "      <td>0.951398</td>\n",
       "      <td>20846</td>\n",
       "    </tr>\n",
       "    <tr>\n",
       "      <th>7209</th>\n",
       "      <td>Une\\n vidéo époustouflante de médecins canadie...</td>\n",
       "      <td>0.940364</td>\n",
       "      <td>7982</td>\n",
       "    </tr>\n",
       "    <tr>\n",
       "      <th>15723</th>\n",
       "      <td>Par Prof Michel Chossudovsky et Caroline Maill...</td>\n",
       "      <td>0.921018</td>\n",
       "      <td>5506</td>\n",
       "    </tr>\n",
       "    <tr>\n",
       "      <th>7519</th>\n",
       "      <td>mercredi 18 mai 2022 par : Arsenio  ToledoLes ...</td>\n",
       "      <td>0.913142</td>\n",
       "      <td>7524</td>\n",
       "    </tr>\n",
       "    <tr>\n",
       "      <th>18148</th>\n",
       "      <td>(Publié par Nicole Delépine) 2022-02-15 Chaque...</td>\n",
       "      <td>0.892535</td>\n",
       "      <td>10888</td>\n",
       "    </tr>\n",
       "    <tr>\n",
       "      <th>19664</th>\n",
       "      <td>Amy Mek\\n\\n\\n22 mars 2022\\nL'Ukraine transfère...</td>\n",
       "      <td>0.878844</td>\n",
       "      <td>14013</td>\n",
       "    </tr>\n",
       "    <tr>\n",
       "      <th>7982</th>\n",
       "      <td>Catherine Watt 19 septembre 2022Dans\\n le cadr...</td>\n",
       "      <td>0.875612</td>\n",
       "      <td>9038</td>\n",
       "    </tr>\n",
       "    <tr>\n",
       "      <th>16676</th>\n",
       "      <td>Fort\\n Bragg a perdu plus de 80 soldats de cau...</td>\n",
       "      <td>0.873816</td>\n",
       "      <td>6404</td>\n",
       "    </tr>\n",
       "    <tr>\n",
       "      <th>15457</th>\n",
       "      <td>Il\\n est également difficile de croire le gouv...</td>\n",
       "      <td>0.869463</td>\n",
       "      <td>792</td>\n",
       "    </tr>\n",
       "    <tr>\n",
       "      <th>7637</th>\n",
       "      <td>\"J'ai découvert qu'il y avait une augmentation...</td>\n",
       "      <td>0.867657</td>\n",
       "      <td>6457</td>\n",
       "    </tr>\n",
       "    <tr>\n",
       "      <th>8662</th>\n",
       "      <td>Aujourd’hui, ce contrôle de la santé publique ...</td>\n",
       "      <td>0.862223</td>\n",
       "      <td>1173</td>\n",
       "    </tr>\n",
       "    <tr>\n",
       "      <th>15785</th>\n",
       "      <td>ENQUETE — L'épidémie du Covid-19 a été le théâ...</td>\n",
       "      <td>0.858761</td>\n",
       "      <td>9017</td>\n",
       "    </tr>\n",
       "    <tr>\n",
       "      <th>8141</th>\n",
       "      <td>De : Dr Paul Alexandrehttps://www.thegatewaypu...</td>\n",
       "      <td>0.856841</td>\n",
       "      <td>1897</td>\n",
       "    </tr>\n",
       "    <tr>\n",
       "      <th>16630</th>\n",
       "      <td>Le nombre de décès enregistrés à l'hôpital ent...</td>\n",
       "      <td>0.851677</td>\n",
       "      <td>766</td>\n",
       "    </tr>\n",
       "    <tr>\n",
       "      <th>2377</th>\n",
       "      <td>- Contrats signés en 2018 et 2019, notamment c...</td>\n",
       "      <td>0.839562</td>\n",
       "      <td>2568</td>\n",
       "    </tr>\n",
       "    <tr>\n",
       "      <th>17656</th>\n",
       "      <td>CHRONIQUE - Le 24 septembre, le rapport d’audi...</td>\n",
       "      <td>0.838512</td>\n",
       "      <td>9150</td>\n",
       "    </tr>\n",
       "    <tr>\n",
       "      <th>16875</th>\n",
       "      <td>- Décès</td>\n",
       "      <td>0.836297</td>\n",
       "      <td>7</td>\n",
       "    </tr>\n",
       "    <tr>\n",
       "      <th>7250</th>\n",
       "      <td>Lundi 2 mai 2022Hier,\\n une centaine de civils...</td>\n",
       "      <td>0.834578</td>\n",
       "      <td>3792</td>\n",
       "    </tr>\n",
       "    <tr>\n",
       "      <th>14270</th>\n",
       "      <td>Cet article fait suite à :\\n– 1. « La Russie v...</td>\n",
       "      <td>0.834154</td>\n",
       "      <td>1850</td>\n",
       "    </tr>\n",
       "    <tr>\n",
       "      <th>7287</th>\n",
       "      <td>Zelensky est-il corrompu ? Il a amassé une for...</td>\n",
       "      <td>0.829843</td>\n",
       "      <td>4937</td>\n",
       "    </tr>\n",
       "    <tr>\n",
       "      <th>14200</th>\n",
       "      <td>Cet article fait suite à :\\n– 1. « La Russie v...</td>\n",
       "      <td>0.824983</td>\n",
       "      <td>1678</td>\n",
       "    </tr>\n",
       "    <tr>\n",
       "      <th>7007</th>\n",
       "      <td>Pour la première fois, il vous montre le résea...</td>\n",
       "      <td>0.823752</td>\n",
       "      <td>1609</td>\n",
       "    </tr>\n",
       "    <tr>\n",
       "      <th>7676</th>\n",
       "      <td>Les enfants de 2 et 3 ans qui ont des convulsi...</td>\n",
       "      <td>0.818910</td>\n",
       "      <td>1361</td>\n",
       "    </tr>\n",
       "    <tr>\n",
       "      <th>9517</th>\n",
       "      <td>Les chiffres officiels du CDC pour les décès e...</td>\n",
       "      <td>0.816589</td>\n",
       "      <td>444</td>\n",
       "    </tr>\n",
       "    <tr>\n",
       "      <th>7730</th>\n",
       "      <td>Pfizer\\n demande au tribunal de rejeter le pro...</td>\n",
       "      <td>0.816429</td>\n",
       "      <td>5032</td>\n",
       "    </tr>\n",
       "    <tr>\n",
       "      <th>2430</th>\n",
       "      <td>Est-ce que si les crimes de guerre commis par ...</td>\n",
       "      <td>0.814649</td>\n",
       "      <td>1059</td>\n",
       "    </tr>\n",
       "    <tr>\n",
       "      <th>7437</th>\n",
       "      <td>Cette semaine, l’Union européenne devrait anno...</td>\n",
       "      <td>0.808790</td>\n",
       "      <td>19231</td>\n",
       "    </tr>\n",
       "    <tr>\n",
       "      <th>16686</th>\n",
       "      <td>Le\\n système de santé militaire a commencé à a...</td>\n",
       "      <td>0.802468</td>\n",
       "      <td>529</td>\n",
       "    </tr>\n",
       "    <tr>\n",
       "      <th>15687</th>\n",
       "      <td>Une étude sans précédent sur l'immunité nature...</td>\n",
       "      <td>0.800211</td>\n",
       "      <td>5022</td>\n",
       "    </tr>\n",
       "    <tr>\n",
       "      <th>6481</th>\n",
       "      <td>Supposons que les injections contre le COVID-1...</td>\n",
       "      <td>0.798925</td>\n",
       "      <td>515</td>\n",
       "    </tr>\n",
       "    <tr>\n",
       "      <th>8106</th>\n",
       "      <td>Kingston est un analyste en biotechnologie ave...</td>\n",
       "      <td>0.798898</td>\n",
       "      <td>8092</td>\n",
       "    </tr>\n",
       "    <tr>\n",
       "      <th>4734</th>\n",
       "      <td>Autrement dit, au 24 décembre 2022, la France ...</td>\n",
       "      <td>0.795322</td>\n",
       "      <td>453</td>\n",
       "    </tr>\n",
       "    <tr>\n",
       "      <th>16056</th>\n",
       "      <td>Le point 56 stipule : « Que votre avis trompeu...</td>\n",
       "      <td>0.792091</td>\n",
       "      <td>3388</td>\n",
       "    </tr>\n",
       "    <tr>\n",
       "      <th>2636</th>\n",
       "      <td>Mercredi 11 mai 2022Mon Général,Aux dires du P...</td>\n",
       "      <td>0.788406</td>\n",
       "      <td>7254</td>\n",
       "    </tr>\n",
       "    <tr>\n",
       "      <th>11693</th>\n",
       "      <td>Vous avez été amené à croire que c’était à cau...</td>\n",
       "      <td>0.787334</td>\n",
       "      <td>337</td>\n",
       "    </tr>\n",
       "    <tr>\n",
       "      <th>4562</th>\n",
       "      <td>J.-M. S.- Les vaccins utilisés doivent répondr...</td>\n",
       "      <td>0.787328</td>\n",
       "      <td>815</td>\n",
       "    </tr>\n",
       "    <tr>\n",
       "      <th>9377</th>\n",
       "      <td>Selon le professeur Riessinger, au cours de l’...</td>\n",
       "      <td>0.787211</td>\n",
       "      <td>514</td>\n",
       "    </tr>\n",
       "    <tr>\n",
       "      <th>5084</th>\n",
       "      <td>Le ministère de la Santé continue donc à nous ...</td>\n",
       "      <td>0.785730</td>\n",
       "      <td>1331</td>\n",
       "    </tr>\n",
       "    <tr>\n",
       "      <th>15456</th>\n",
       "      <td>D'un\\n autre côté, la Russie cherche-t-elle à ...</td>\n",
       "      <td>0.785247</td>\n",
       "      <td>791</td>\n",
       "    </tr>\n",
       "    <tr>\n",
       "      <th>18772</th>\n",
       "      <td>L’autre point soulevé par ces scientifiques es...</td>\n",
       "      <td>0.783679</td>\n",
       "      <td>1704</td>\n",
       "    </tr>\n",
       "    <tr>\n",
       "      <th>17750</th>\n",
       "      <td>Les rues désolées de Bakhmut où d'intenses com...</td>\n",
       "      <td>0.779589</td>\n",
       "      <td>8661</td>\n",
       "    </tr>\n",
       "    <tr>\n",
       "      <th>16725</th>\n",
       "      <td>L'enregistrement audio de cette émission se tr...</td>\n",
       "      <td>0.778034</td>\n",
       "      <td>4068</td>\n",
       "    </tr>\n",
       "    <tr>\n",
       "      <th>8029</th>\n",
       "      <td>334\\nActions\\n\\n\\n\\n\\n\\n\\n334\\n\\n\\n\\n\\n\\n\\n\\n\\...</td>\n",
       "      <td>0.776887</td>\n",
       "      <td>2211</td>\n",
       "    </tr>\n",
       "    <tr>\n",
       "      <th>7894</th>\n",
       "      <td>L'ivermectine\\n réduit la mortalité due au cov...</td>\n",
       "      <td>0.776432</td>\n",
       "      <td>6078</td>\n",
       "    </tr>\n",
       "    <tr>\n",
       "      <th>7603</th>\n",
       "      <td>Le médecin de famille, le Dr Vladimir \"Zev\" Ze...</td>\n",
       "      <td>0.775290</td>\n",
       "      <td>5650</td>\n",
       "    </tr>\n",
       "    <tr>\n",
       "      <th>7340</th>\n",
       "      <td>Le Dr Debra Birx\\n , l'autre médecin du groupe...</td>\n",
       "      <td>0.773081</td>\n",
       "      <td>249</td>\n",
       "    </tr>\n",
       "    <tr>\n",
       "      <th>2411</th>\n",
       "      <td>Dès qu’on fait valoir un autre point de vue sc...</td>\n",
       "      <td>0.771420</td>\n",
       "      <td>1843</td>\n",
       "    </tr>\n",
       "    <tr>\n",
       "      <th>7263</th>\n",
       "      <td>Après\\n une longue réflexion, le Courrier a dé...</td>\n",
       "      <td>0.768219</td>\n",
       "      <td>7946</td>\n",
       "    </tr>\n",
       "    <tr>\n",
       "      <th>11477</th>\n",
       "      <td>Le tableau 1 du dernier ensemble de données co...</td>\n",
       "      <td>0.764667</td>\n",
       "      <td>369</td>\n",
       "    </tr>\n",
       "  </tbody>\n",
       "</table>\n",
       "</div>"
      ],
      "text/plain": [
       "                                                    text     infox  c_count\n",
       "15444  Après\\n avoir nié l'existence de laboratoires ...  0.962866     8072\n",
       "7305   Le\\n rêve de Bill Gates de contrôler la planèt...  0.951398    20846\n",
       "7209   Une\\n vidéo époustouflante de médecins canadie...  0.940364     7982\n",
       "15723  Par Prof Michel Chossudovsky et Caroline Maill...  0.921018     5506\n",
       "7519   mercredi 18 mai 2022 par : Arsenio  ToledoLes ...  0.913142     7524\n",
       "18148  (Publié par Nicole Delépine) 2022-02-15 Chaque...  0.892535    10888\n",
       "19664  Amy Mek\\n\\n\\n22 mars 2022\\nL'Ukraine transfère...  0.878844    14013\n",
       "7982   Catherine Watt 19 septembre 2022Dans\\n le cadr...  0.875612     9038\n",
       "16676  Fort\\n Bragg a perdu plus de 80 soldats de cau...  0.873816     6404\n",
       "15457  Il\\n est également difficile de croire le gouv...  0.869463      792\n",
       "7637   \"J'ai découvert qu'il y avait une augmentation...  0.867657     6457\n",
       "8662   Aujourd’hui, ce contrôle de la santé publique ...  0.862223     1173\n",
       "15785  ENQUETE — L'épidémie du Covid-19 a été le théâ...  0.858761     9017\n",
       "8141   De : Dr Paul Alexandrehttps://www.thegatewaypu...  0.856841     1897\n",
       "16630  Le nombre de décès enregistrés à l'hôpital ent...  0.851677      766\n",
       "2377   - Contrats signés en 2018 et 2019, notamment c...  0.839562     2568\n",
       "17656  CHRONIQUE - Le 24 septembre, le rapport d’audi...  0.838512     9150\n",
       "16875                                            - Décès  0.836297        7\n",
       "7250   Lundi 2 mai 2022Hier,\\n une centaine de civils...  0.834578     3792\n",
       "14270  Cet article fait suite à :\\n– 1. « La Russie v...  0.834154     1850\n",
       "7287   Zelensky est-il corrompu ? Il a amassé une for...  0.829843     4937\n",
       "14200  Cet article fait suite à :\\n– 1. « La Russie v...  0.824983     1678\n",
       "7007   Pour la première fois, il vous montre le résea...  0.823752     1609\n",
       "7676   Les enfants de 2 et 3 ans qui ont des convulsi...  0.818910     1361\n",
       "9517   Les chiffres officiels du CDC pour les décès e...  0.816589      444\n",
       "7730   Pfizer\\n demande au tribunal de rejeter le pro...  0.816429     5032\n",
       "2430   Est-ce que si les crimes de guerre commis par ...  0.814649     1059\n",
       "7437   Cette semaine, l’Union européenne devrait anno...  0.808790    19231\n",
       "16686  Le\\n système de santé militaire a commencé à a...  0.802468      529\n",
       "15687  Une étude sans précédent sur l'immunité nature...  0.800211     5022\n",
       "6481   Supposons que les injections contre le COVID-1...  0.798925      515\n",
       "8106   Kingston est un analyste en biotechnologie ave...  0.798898     8092\n",
       "4734   Autrement dit, au 24 décembre 2022, la France ...  0.795322      453\n",
       "16056  Le point 56 stipule : « Que votre avis trompeu...  0.792091     3388\n",
       "2636   Mercredi 11 mai 2022Mon Général,Aux dires du P...  0.788406     7254\n",
       "11693  Vous avez été amené à croire que c’était à cau...  0.787334      337\n",
       "4562   J.-M. S.- Les vaccins utilisés doivent répondr...  0.787328      815\n",
       "9377   Selon le professeur Riessinger, au cours de l’...  0.787211      514\n",
       "5084   Le ministère de la Santé continue donc à nous ...  0.785730     1331\n",
       "15456  D'un\\n autre côté, la Russie cherche-t-elle à ...  0.785247      791\n",
       "18772  L’autre point soulevé par ces scientifiques es...  0.783679     1704\n",
       "17750  Les rues désolées de Bakhmut où d'intenses com...  0.779589     8661\n",
       "16725  L'enregistrement audio de cette émission se tr...  0.778034     4068\n",
       "8029   334\\nActions\\n\\n\\n\\n\\n\\n\\n334\\n\\n\\n\\n\\n\\n\\n\\n\\...  0.776887     2211\n",
       "7894   L'ivermectine\\n réduit la mortalité due au cov...  0.776432     6078\n",
       "7603   Le médecin de famille, le Dr Vladimir \"Zev\" Ze...  0.775290     5650\n",
       "7340   Le Dr Debra Birx\\n , l'autre médecin du groupe...  0.773081      249\n",
       "2411   Dès qu’on fait valoir un autre point de vue sc...  0.771420     1843\n",
       "7263   Après\\n une longue réflexion, le Courrier a dé...  0.768219     7946\n",
       "11477  Le tableau 1 du dernier ensemble de données co...  0.764667      369"
      ]
     },
     "execution_count": 56,
     "metadata": {},
     "output_type": "execute_result"
    }
   ],
   "source": [
    "df_parags.sort_values('infox',ascending=False).head(50)"
   ]
  },
  {
   "cell_type": "code",
   "execution_count": 53,
   "id": "ef101461",
   "metadata": {},
   "outputs": [
    {
     "data": {
      "text/plain": [
       "count     20024.000000\n",
       "mean        321.902167\n",
       "std        1374.161987\n",
       "min           1.000000\n",
       "25%         105.000000\n",
       "50%         233.000000\n",
       "75%         397.000000\n",
       "max      178207.000000\n",
       "Name: c_count, dtype: float64"
      ]
     },
     "execution_count": 53,
     "metadata": {},
     "output_type": "execute_result"
    }
   ],
   "source": [
    "df_parags['c_count'].describe()"
   ]
  },
  {
   "cell_type": "code",
   "execution_count": 90,
   "id": "1a2b1e5a",
   "metadata": {},
   "outputs": [],
   "source": [
    "df = df_parags[df_parags['c_count']<5000]"
   ]
  },
  {
   "cell_type": "code",
   "execution_count": 91,
   "id": "f23a800e",
   "metadata": {},
   "outputs": [],
   "source": [
    "df = df[df['c_count']>500]"
   ]
  },
  {
   "cell_type": "code",
   "execution_count": 92,
   "id": "943be0d2",
   "metadata": {},
   "outputs": [
    {
     "data": {
      "text/plain": [
       "<AxesSubplot: xlabel='infox', ylabel='c_count'>"
      ]
     },
     "execution_count": 92,
     "metadata": {},
     "output_type": "execute_result"
    },
    {
     "data": {
      "image/png": "[encoded data removed]",
      "text/plain": [
       "<Figure size 640x480 with 1 Axes>"
      ]
     },
     "metadata": {},
     "output_type": "display_data"
    }
   ],
   "source": [
    "sns.scatterplot(df,x='infox',y='c_count')"
   ]
  },
  {
   "cell_type": "code",
   "execution_count": 93,
   "id": "f02eebc2",
   "metadata": {},
   "outputs": [
    {
     "data": {
      "text/plain": [
       "<AxesSubplot: xlabel='infox', ylabel='Count'>"
      ]
     },
     "execution_count": 93,
     "metadata": {},
     "output_type": "execute_result"
    },
    {
     "data": {
      "image/png": "[encoded data removed]",
      "text/plain": [
       "<Figure size 640x480 with 1 Axes>"
      ]
     },
     "metadata": {},
     "output_type": "display_data"
    }
   ],
   "source": [
    "sns.histplot(df,x='infox')"
   ]
  },
  {
   "cell_type": "markdown",
   "id": "76996d3a",
   "metadata": {},
   "source": [
    "# Sauvegarde des résultats\n",
    "---"
   ]
  },
  {
   "cell_type": "code",
   "execution_count": null,
   "id": "4a88846a",
   "metadata": {},
   "outputs": [],
   "source": [
    "df_corpus['predict_parags_json']=df_corpus['predict_parags'].apply(lambda x: json.dumps(list(x)))"
   ]
  },
  {
   "cell_type": "code",
   "execution_count": null,
   "id": "f085c4b9",
   "metadata": {},
   "outputs": [],
   "source": [
    "df_corpus = df_corpus.drop(columns=['text'])"
   ]
  },
  {
   "cell_type": "code",
   "execution_count": null,
   "id": "14dea9f2",
   "metadata": {},
   "outputs": [],
   "source": [
    "corpus_filename = 'data/prod/230510-OIDS-Corpus.csv'"
   ]
  },
  {
   "cell_type": "code",
   "execution_count": null,
   "id": "313ffa5d",
   "metadata": {},
   "outputs": [],
   "source": [
    "df_corpus.to_csv(corpus_filename)"
   ]
  },
  {
   "cell_type": "markdown",
   "id": "fb7949bc",
   "metadata": {},
   "source": [
    "# Conclusions\n",
    "---"
   ]
  },
  {
   "cell_type": "markdown",
   "id": "bd360655",
   "metadata": {},
   "source": [
    "# Bricolages\n",
    "---"
   ]
  },
  {
   "cell_type": "code",
   "execution_count": null,
   "id": "ec9d7877",
   "metadata": {},
   "outputs": [],
   "source": [
    "round(df_corpus['predict_infox'][0],3)"
   ]
  },
  {
   "cell_type": "code",
   "execution_count": null,
   "id": "52f8964a",
   "metadata": {},
   "outputs": [],
   "source": [
    "df_corpus"
   ]
  },
  {
   "cell_type": "code",
   "execution_count": null,
   "id": "0e8de0cf",
   "metadata": {},
   "outputs": [],
   "source": []
  }
 ],
 "metadata": {
  "kernelspec": {
   "display_name": "Python 3 (ipykernel)",
   "language": "python",
   "name": "python3"
  },
  "language_info": {
   "codemirror_mode": {
    "name": "ipython",
    "version": 3
   },
   "file_extension": ".py",
   "mimetype": "text/x-python",
   "name": "python",
   "nbconvert_exporter": "python",
   "pygments_lexer": "ipython3",
   "version": "3.11.0"
  }
 },
 "nbformat": 4,
 "nbformat_minor": 5
}
