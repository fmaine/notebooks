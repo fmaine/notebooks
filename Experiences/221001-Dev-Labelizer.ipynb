{
 "cells": [
  {
   "cell_type": "markdown",
   "id": "e3ec4689",
   "metadata": {},
   "source": [
    "# Plateforme Agnostique de Traitement et d'Analyse des Textes\n",
    "### Paillasse d'expérimentation\n",
    "---\n",
    "\n",
    "## Sujet : Labelizer visualisation et saisie des labels\n",
    "\n",
    "---\n"
   ]
  },
  {
   "cell_type": "markdown",
   "id": "ad77a9d6",
   "metadata": {},
   "source": [
    "## Initialisation de la paillasse \n",
    "---"
   ]
  },
  {
   "cell_type": "code",
   "execution_count": 1,
   "id": "5d0de4d7",
   "metadata": {},
   "outputs": [
    {
     "name": "stdout",
     "output_type": "stream",
     "text": [
      "/Users/fm/Desktop/Work/Patat\n"
     ]
    }
   ],
   "source": [
    "cd ../.."
   ]
  },
  {
   "cell_type": "code",
   "execution_count": 2,
   "id": "32256b0d",
   "metadata": {},
   "outputs": [],
   "source": [
    "import importlib\n",
    "import pandas as pd"
   ]
  },
  {
   "cell_type": "markdown",
   "id": "de6dc21a",
   "metadata": {},
   "source": [
    "## Observations et environnement\n",
    "---"
   ]
  },
  {
   "cell_type": "markdown",
   "id": "29618668",
   "metadata": {},
   "source": [
    "### Chargement du corpus"
   ]
  },
  {
   "cell_type": "code",
   "execution_count": 3,
   "id": "05cde00c",
   "metadata": {},
   "outputs": [],
   "source": [
    "corpus_filename = '221002-CorpusNewsLabelPred.csv'"
   ]
  },
  {
   "cell_type": "code",
   "execution_count": 4,
   "id": "82c08337",
   "metadata": {
    "scrolled": true
   },
   "outputs": [
    {
     "name": "stderr",
     "output_type": "stream",
     "text": [
      "/var/folders/n0/92k02lss71s67fxfyc0qn84m0000gn/T/ipykernel_75291/533564688.py:1: DtypeWarning: Columns (6) have mixed types. Specify dtype option on import or set low_memory=False.\n",
      "  df_corpus = pd.read_csv(f'data/corpus/{corpus_filename}')\n"
     ]
    }
   ],
   "source": [
    "df_corpus = pd.read_csv(f'data/corpus/{corpus_filename}')"
   ]
  },
  {
   "cell_type": "markdown",
   "id": "d0348c99",
   "metadata": {},
   "source": [
    "### Chargement du corpus viewer"
   ]
  },
  {
   "cell_type": "code",
   "execution_count": 5,
   "id": "200fe703",
   "metadata": {},
   "outputs": [],
   "source": [
    "import patat.util.file\n",
    "import patat.app.corpus_viewer\n",
    "import patat.app.labelizer"
   ]
  },
  {
   "cell_type": "code",
   "execution_count": 6,
   "id": "812ab15b",
   "metadata": {},
   "outputs": [
    {
     "data": {
      "text/plain": [
       "<module 'patat.app.labelizer' from '/Users/fm/Desktop/Work/Patat/patat/app/labelizer.py'>"
      ]
     },
     "execution_count": 6,
     "metadata": {},
     "output_type": "execute_result"
    }
   ],
   "source": [
    "importlib.reload(patat.util.file)\n",
    "importlib.reload (patat.app.corpus_viewer)\n",
    "importlib.reload (patat.app.labelizer)"
   ]
  },
  {
   "cell_type": "code",
   "execution_count": 7,
   "id": "c5bacef0",
   "metadata": {
    "scrolled": true
   },
   "outputs": [],
   "source": [
    "cw = patat.app.corpus_viewer.CorpusViewer()"
   ]
  },
  {
   "cell_type": "code",
   "execution_count": null,
   "id": "424bea72",
   "metadata": {},
   "outputs": [],
   "source": []
  },
  {
   "cell_type": "code",
   "execution_count": 8,
   "id": "ca249f87",
   "metadata": {},
   "outputs": [],
   "source": [
    "labelizer = patat.app.labelizer.Labelizer(cw)"
   ]
  },
  {
   "cell_type": "code",
   "execution_count": 9,
   "id": "d0bc88eb",
   "metadata": {},
   "outputs": [
    {
     "data": {
      "text/plain": [
       "{0: '221002-CorpusNewsLabelPred.csv',\n",
       " 1: '220930-RecueilComplet.csv',\n",
       " 2: '220915-RecueilComplet.csv',\n",
       " 3: '221001-CorpusNewsLabelPred.csv',\n",
       " 4: '220908-CorpusNews.csv',\n",
       " 5: '220916-RecueilComplet.csv',\n",
       " 6: '220926-CorpusNews.csv',\n",
       " 7: '220927-CorpusNews.csv',\n",
       " 8: '220919-RecueilComplet.csv',\n",
       " 9: '220909-RecueilComplet.csv',\n",
       " 10: '220908-CorpusNewsClean.csv',\n",
       " 11: '221001-CorpusNewsLabel.csv',\n",
       " 12: '221001-CorpusNews.csv'}"
      ]
     },
     "execution_count": 9,
     "metadata": {},
     "output_type": "execute_result"
    }
   ],
   "source": [
    "cw.get_corpus_index()"
   ]
  },
  {
   "cell_type": "code",
   "execution_count": 10,
   "id": "8916e090",
   "metadata": {},
   "outputs": [],
   "source": [
    "df = cw.get_corpus_df(0)"
   ]
  },
  {
   "cell_type": "markdown",
   "id": "26de4d29",
   "metadata": {},
   "source": [
    "## Expérience\n",
    "---"
   ]
  },
  {
   "cell_type": "markdown",
   "id": "f29d6c3a",
   "metadata": {},
   "source": [
    "### Tests unitaires"
   ]
  },
  {
   "cell_type": "code",
   "execution_count": 13,
   "id": "e6a2fe9e",
   "metadata": {},
   "outputs": [
    {
     "data": {
      "text/plain": [
       "'f95a294c94ff76cc9626ae06300a8b38067f89cf'"
      ]
     },
     "execution_count": 13,
     "metadata": {},
     "output_type": "execute_result"
    }
   ],
   "source": [
    "cw.random_url_h(0)"
   ]
  },
  {
   "cell_type": "code",
   "execution_count": null,
   "id": "f5d20d03",
   "metadata": {},
   "outputs": [],
   "source": [
    "labelizer._obs"
   ]
  },
  {
   "cell_type": "code",
   "execution_count": null,
   "id": "8a58f657",
   "metadata": {},
   "outputs": [],
   "source": [
    "obs={\n",
    "    'labels':'Lab1 Label2 Label33333',\n",
    "    'comments':'qsfdqsdfq qsdf qsdf q sdf q sdf ',\n",
    "}\n",
    "labelizer.add_obs('fm@freedom-partners.com','d8b64e3e1de145cfeb15b385b4f22d54665a7381',obs)"
   ]
  },
  {
   "cell_type": "code",
   "execution_count": null,
   "id": "1fc3b8e5",
   "metadata": {},
   "outputs": [],
   "source": [
    "labelizer.get_obs('test','d8b64e3e1de145cfeb15b385b4f22d54665a7381')"
   ]
  },
  {
   "cell_type": "code",
   "execution_count": null,
   "id": "e03d1b2a",
   "metadata": {},
   "outputs": [],
   "source": [
    "labelizer.get_data(0,'d8b64e3e1de145cfeb15b385b4f22d54665a7381')"
   ]
  },
  {
   "cell_type": "code",
   "execution_count": null,
   "id": "300c4301",
   "metadata": {},
   "outputs": [],
   "source": [
    "get_obs(self,email,url_h)"
   ]
  },
  {
   "cell_type": "code",
   "execution_count": null,
   "id": "cceadbdf",
   "metadata": {},
   "outputs": [],
   "source": [
    "filename = 'data/observations.pickle'"
   ]
  },
  {
   "cell_type": "code",
   "execution_count": null,
   "id": "84568cff",
   "metadata": {},
   "outputs": [],
   "source": [
    "labelizer.get_data(0,url_h)"
   ]
  },
  {
   "cell_type": "code",
   "execution_count": null,
   "id": "57ec8e38",
   "metadata": {},
   "outputs": [],
   "source": [
    "import patat.util.file"
   ]
  },
  {
   "cell_type": "code",
   "execution_count": null,
   "id": "e7ac94f1",
   "metadata": {},
   "outputs": [],
   "source": [
    "patat.util.file.pickle_save(labelizer._obs,filename)"
   ]
  },
  {
   "cell_type": "code",
   "execution_count": null,
   "id": "cac7cc66",
   "metadata": {},
   "outputs": [],
   "source": [
    "cw."
   ]
  },
  {
   "cell_type": "markdown",
   "id": "ba0834f1",
   "metadata": {},
   "source": [
    "## Mesure et observation des résultats"
   ]
  },
  {
   "cell_type": "markdown",
   "id": "76996d3a",
   "metadata": {},
   "source": [
    "## Sauvegarde des résultats\n",
    "---"
   ]
  },
  {
   "cell_type": "code",
   "execution_count": null,
   "id": "827f60e3",
   "metadata": {},
   "outputs": [],
   "source": [
    "predict_filename = '221001-CorpusNewsLabelPred.csv'\n",
    "df_predict.to_csv(f'data/predictions/{predict_filename}',index=False)"
   ]
  },
  {
   "cell_type": "markdown",
   "id": "fb7949bc",
   "metadata": {},
   "source": [
    "## Conclusions\n",
    "---"
   ]
  },
  {
   "cell_type": "markdown",
   "id": "bd06b261",
   "metadata": {},
   "source": [
    "- Production Corpus Labelisé avec prédictions : OK"
   ]
  },
  {
   "cell_type": "markdown",
   "id": "bd360655",
   "metadata": {},
   "source": [
    "## Bricolages\n",
    "---"
   ]
  },
  {
   "cell_type": "code",
   "execution_count": null,
   "id": "39697b37",
   "metadata": {},
   "outputs": [],
   "source": [
    "ls data/predictions"
   ]
  },
  {
   "cell_type": "code",
   "execution_count": null,
   "id": "df7a53fa",
   "metadata": {},
   "outputs": [],
   "source": [
    "ls data/predictions/221001-CorpusNewsPredLabel.csv"
   ]
  },
  {
   "cell_type": "code",
   "execution_count": 17,
   "id": "8970477c",
   "metadata": {},
   "outputs": [
    {
     "data": {
      "text/html": [
       "<div>\n",
       "<style scoped>\n",
       "    .dataframe tbody tr th:only-of-type {\n",
       "        vertical-align: middle;\n",
       "    }\n",
       "\n",
       "    .dataframe tbody tr th {\n",
       "        vertical-align: top;\n",
       "    }\n",
       "\n",
       "    .dataframe thead th {\n",
       "        text-align: right;\n",
       "    }\n",
       "</style>\n",
       "<table border=\"1\" class=\"dataframe\">\n",
       "  <thead>\n",
       "    <tr style=\"text-align: right;\">\n",
       "      <th></th>\n",
       "      <th>title</th>\n",
       "      <th>article</th>\n",
       "      <th>tag</th>\n",
       "      <th>abstract</th>\n",
       "      <th>author</th>\n",
       "      <th>date</th>\n",
       "      <th>date_iso</th>\n",
       "      <th>site</th>\n",
       "      <th>text</th>\n",
       "      <th>infox</th>\n",
       "      <th>url</th>\n",
       "      <th>y</th>\n",
       "      <th>y_proba</th>\n",
       "    </tr>\n",
       "  </thead>\n",
       "  <tbody>\n",
       "    <tr>\n",
       "      <th>0</th>\n",
       "      <td>Tous les jeunes, portez la nouvelle (russe)</td>\n",
       "      <td>par Pepe Escobar.\\nL’OCS à Samarcande et l’Ass...</td>\n",
       "      <td>[\"Faits d'actu\", \"Faits d'actu\", \"Faits d'actu...</td>\n",
       "      <td>NaN</td>\n",
       "      <td>NaN</td>\n",
       "      <td>30 septembre 2022</td>\n",
       "      <td>2022-09-30T00:00:00</td>\n",
       "      <td>reseauinternational.net</td>\n",
       "      <td>Tous les jeunes, portez la nouvelle (russe)\\np...</td>\n",
       "      <td>0.0</td>\n",
       "      <td>https://reseauinternational.net/tous-les-jeune...</td>\n",
       "      <td>0.0</td>\n",
       "      <td>0.002944</td>\n",
       "    </tr>\n",
       "    <tr>\n",
       "      <th>1</th>\n",
       "      <td>Adhésion à la Russie : 93% pour le « oui » dan...</td>\n",
       "      <td>Dans les régions de Zaporijia et de Kherson, 9...</td>\n",
       "      <td>[\"Faits d'actu\", \"Faits d'actu\", \"Faits d'actu...</td>\n",
       "      <td>NaN</td>\n",
       "      <td>NaN</td>\n",
       "      <td>30 septembre 2022</td>\n",
       "      <td>2022-09-30T00:00:00</td>\n",
       "      <td>reseauinternational.net</td>\n",
       "      <td>Adhésion à la Russie : 93% pour le « oui » dan...</td>\n",
       "      <td>0.0</td>\n",
       "      <td>https://reseauinternational.net/adhesion-a-la-...</td>\n",
       "      <td>0.0</td>\n",
       "      <td>0.012630</td>\n",
       "    </tr>\n",
       "    <tr>\n",
       "      <th>2</th>\n",
       "      <td>ONU – Le Premier ministre de Nouvelle-Zélande ...</td>\n",
       "      <td>L’argument principal de la ministre est que le...</td>\n",
       "      <td>['Mot-clés : censure, jacinda ardern, ONU', 'P...</td>\n",
       "      <td>NaN</td>\n",
       "      <td>NaN</td>\n",
       "      <td>29 septembre 2022</td>\n",
       "      <td>2022-09-29T00:00:00</td>\n",
       "      <td>lemediaen442.fr</td>\n",
       "      <td>ONU – Le Premier ministre de Nouvelle-Zélande ...</td>\n",
       "      <td>1.0</td>\n",
       "      <td>https://lemediaen442.fr/onu-le-premier-ministr...</td>\n",
       "      <td>1.0</td>\n",
       "      <td>0.963768</td>\n",
       "    </tr>\n",
       "    <tr>\n",
       "      <th>3</th>\n",
       "      <td>Compostage humain: les “funérailles vertes” ga...</td>\n",
       "      <td>Aux États-Unis, les différents gouvernements r...</td>\n",
       "      <td>[]</td>\n",
       "      <td>NaN</td>\n",
       "      <td>Auteur(s)\\nFranceSoir</td>\n",
       "      <td>Publié le 28 septembre 2022 - 13:15</td>\n",
       "      <td>2022-09-28T13:15:00</td>\n",
       "      <td>www.francesoir.fr</td>\n",
       "      <td>Compostage humain: les “funérailles vertes” ga...</td>\n",
       "      <td>0.0</td>\n",
       "      <td>https://www.francesoir.fr/societe-environnemen...</td>\n",
       "      <td>0.0</td>\n",
       "      <td>0.007914</td>\n",
       "    </tr>\n",
       "    <tr>\n",
       "      <th>4</th>\n",
       "      <td>Donatello : génie de la Renaissance</td>\n",
       "      <td>Portrait du sculpteur Donatello (1386-1466), p...</td>\n",
       "      <td>['Culture', 'Culture &amp; Patrimoine', 'Histoire'...</td>\n",
       "      <td>NaN</td>\n",
       "      <td>NaN</td>\n",
       "      <td>Le \\n\\t\\t\\t\\t\\t\\t\\t\\t\\t\\t27 septembre 2022</td>\n",
       "      <td>2022-09-27T00:00:00</td>\n",
       "      <td>www.breizh-info.com</td>\n",
       "      <td>Donatello : génie de la Renaissance\\nPortrait ...</td>\n",
       "      <td>NaN</td>\n",
       "      <td>https://www.breizh-info.com/2022/09/27/208410/...</td>\n",
       "      <td>0.0</td>\n",
       "      <td>0.075435</td>\n",
       "    </tr>\n",
       "    <tr>\n",
       "      <th>...</th>\n",
       "      <td>...</td>\n",
       "      <td>...</td>\n",
       "      <td>...</td>\n",
       "      <td>...</td>\n",
       "      <td>...</td>\n",
       "      <td>...</td>\n",
       "      <td>...</td>\n",
       "      <td>...</td>\n",
       "      <td>...</td>\n",
       "      <td>...</td>\n",
       "      <td>...</td>\n",
       "      <td>...</td>\n",
       "      <td>...</td>\n",
       "    </tr>\n",
       "    <tr>\n",
       "      <th>89157</th>\n",
       "      <td>Zelensky est « une marionnette qui fait inutil...</td>\n",
       "      <td>Encore un journaliste surpris qu’un colonel am...</td>\n",
       "      <td>['30 mars 2022 | \\n\\t\\t\\t\\t\\t\\t\\t\\tCatégorie: ...</td>\n",
       "      <td>NaN</td>\n",
       "      <td>NaN</td>\n",
       "      <td>NaN</td>\n",
       "      <td>NaN</td>\n",
       "      <td>www.profession-gendarme.com</td>\n",
       "      <td>Zelensky est « une marionnette qui fait inutil...</td>\n",
       "      <td>NaN</td>\n",
       "      <td>https://www.profession-gendarme.com/zelensky-e...</td>\n",
       "      <td>1.0</td>\n",
       "      <td>0.556761</td>\n",
       "    </tr>\n",
       "    <tr>\n",
       "      <th>89158</th>\n",
       "      <td>Zélensky : l’arnaque de la contre-offensive uk...</td>\n",
       "      <td>Le président Zelensky et ses alliés de l’Otan ...</td>\n",
       "      <td>['26 septembre 2022 | \\n\\t\\t\\t\\t\\t\\t\\t\\tCatégo...</td>\n",
       "      <td>NaN</td>\n",
       "      <td>NaN</td>\n",
       "      <td>NaN</td>\n",
       "      <td>NaN</td>\n",
       "      <td>www.profession-gendarme.com</td>\n",
       "      <td>Zélensky : l’arnaque de la contre-offensive uk...</td>\n",
       "      <td>NaN</td>\n",
       "      <td>https://www.profession-gendarme.com/zelensky-l...</td>\n",
       "      <td>0.0</td>\n",
       "      <td>0.164531</td>\n",
       "    </tr>\n",
       "    <tr>\n",
       "      <th>89159</th>\n",
       "      <td>Zelensky massacre maintenant des citoyens ukra...</td>\n",
       "      <td>ZELENSKY A ORDONNÉ QUE TOUTES LES PERSONNES FU...</td>\n",
       "      <td>['6 mars 2022 | \\n\\t\\t\\t\\t\\t\\t\\t\\tCatégorie: A...</td>\n",
       "      <td>NaN</td>\n",
       "      <td>NaN</td>\n",
       "      <td>NaN</td>\n",
       "      <td>NaN</td>\n",
       "      <td>www.profession-gendarme.com</td>\n",
       "      <td>Zelensky massacre maintenant des citoyens ukra...</td>\n",
       "      <td>NaN</td>\n",
       "      <td>https://www.profession-gendarme.com/zelensky-m...</td>\n",
       "      <td>1.0</td>\n",
       "      <td>0.673791</td>\n",
       "    </tr>\n",
       "    <tr>\n",
       "      <th>89160</th>\n",
       "      <td>Zéro mort du coronavirus : comment expliquer l...</td>\n",
       "      <td>Le Vietnam est une exception dans le monde : a...</td>\n",
       "      <td>['23 avril 2020 | \\n\\t\\t\\t\\t\\t\\t\\t\\tCatégorie:...</td>\n",
       "      <td>NaN</td>\n",
       "      <td>NaN</td>\n",
       "      <td>NaN</td>\n",
       "      <td>NaN</td>\n",
       "      <td>www.profession-gendarme.com</td>\n",
       "      <td>Zéro mort du coronavirus : comment expliquer l...</td>\n",
       "      <td>NaN</td>\n",
       "      <td>https://www.profession-gendarme.com/zero-mort-...</td>\n",
       "      <td>0.0</td>\n",
       "      <td>0.103192</td>\n",
       "    </tr>\n",
       "    <tr>\n",
       "      <th>89161</th>\n",
       "      <td>Zoom – Francis Cousin : « La grande explosion ...</td>\n",
       "      <td>Francis Cousin, docteur en philosophie, annonc...</td>\n",
       "      <td>['28 mai 2022 | \\n\\t\\t\\t\\t\\t\\t\\t\\tCatégorie: A...</td>\n",
       "      <td>NaN</td>\n",
       "      <td>NaN</td>\n",
       "      <td>NaN</td>\n",
       "      <td>NaN</td>\n",
       "      <td>www.profession-gendarme.com</td>\n",
       "      <td>Zoom – Francis Cousin : « La grande explosion ...</td>\n",
       "      <td>NaN</td>\n",
       "      <td>https://www.profession-gendarme.com/zoom-franc...</td>\n",
       "      <td>0.0</td>\n",
       "      <td>0.303205</td>\n",
       "    </tr>\n",
       "  </tbody>\n",
       "</table>\n",
       "<p>89162 rows × 13 columns</p>\n",
       "</div>"
      ],
      "text/plain": [
       "                                                   title  \\\n",
       "0            Tous les jeunes, portez la nouvelle (russe)   \n",
       "1      Adhésion à la Russie : 93% pour le « oui » dan...   \n",
       "2      ONU – Le Premier ministre de Nouvelle-Zélande ...   \n",
       "3      Compostage humain: les “funérailles vertes” ga...   \n",
       "4                    Donatello : génie de la Renaissance   \n",
       "...                                                  ...   \n",
       "89157  Zelensky est « une marionnette qui fait inutil...   \n",
       "89158  Zélensky : l’arnaque de la contre-offensive uk...   \n",
       "89159  Zelensky massacre maintenant des citoyens ukra...   \n",
       "89160  Zéro mort du coronavirus : comment expliquer l...   \n",
       "89161  Zoom – Francis Cousin : « La grande explosion ...   \n",
       "\n",
       "                                                 article  \\\n",
       "0      par Pepe Escobar.\\nL’OCS à Samarcande et l’Ass...   \n",
       "1      Dans les régions de Zaporijia et de Kherson, 9...   \n",
       "2      L’argument principal de la ministre est que le...   \n",
       "3      Aux États-Unis, les différents gouvernements r...   \n",
       "4      Portrait du sculpteur Donatello (1386-1466), p...   \n",
       "...                                                  ...   \n",
       "89157  Encore un journaliste surpris qu’un colonel am...   \n",
       "89158  Le président Zelensky et ses alliés de l’Otan ...   \n",
       "89159  ZELENSKY A ORDONNÉ QUE TOUTES LES PERSONNES FU...   \n",
       "89160  Le Vietnam est une exception dans le monde : a...   \n",
       "89161  Francis Cousin, docteur en philosophie, annonc...   \n",
       "\n",
       "                                                     tag abstract  \\\n",
       "0      [\"Faits d'actu\", \"Faits d'actu\", \"Faits d'actu...      NaN   \n",
       "1      [\"Faits d'actu\", \"Faits d'actu\", \"Faits d'actu...      NaN   \n",
       "2      ['Mot-clés : censure, jacinda ardern, ONU', 'P...      NaN   \n",
       "3                                                     []      NaN   \n",
       "4      ['Culture', 'Culture & Patrimoine', 'Histoire'...      NaN   \n",
       "...                                                  ...      ...   \n",
       "89157  ['30 mars 2022 | \\n\\t\\t\\t\\t\\t\\t\\t\\tCatégorie: ...      NaN   \n",
       "89158  ['26 septembre 2022 | \\n\\t\\t\\t\\t\\t\\t\\t\\tCatégo...      NaN   \n",
       "89159  ['6 mars 2022 | \\n\\t\\t\\t\\t\\t\\t\\t\\tCatégorie: A...      NaN   \n",
       "89160  ['23 avril 2020 | \\n\\t\\t\\t\\t\\t\\t\\t\\tCatégorie:...      NaN   \n",
       "89161  ['28 mai 2022 | \\n\\t\\t\\t\\t\\t\\t\\t\\tCatégorie: A...      NaN   \n",
       "\n",
       "                      author                                        date  \\\n",
       "0                        NaN                           30 septembre 2022   \n",
       "1                        NaN                           30 septembre 2022   \n",
       "2                        NaN                           29 septembre 2022   \n",
       "3      Auteur(s)\\nFranceSoir         Publié le 28 septembre 2022 - 13:15   \n",
       "4                        NaN  Le \\n\\t\\t\\t\\t\\t\\t\\t\\t\\t\\t27 septembre 2022   \n",
       "...                      ...                                         ...   \n",
       "89157                    NaN                                         NaN   \n",
       "89158                    NaN                                         NaN   \n",
       "89159                    NaN                                         NaN   \n",
       "89160                    NaN                                         NaN   \n",
       "89161                    NaN                                         NaN   \n",
       "\n",
       "                  date_iso                         site  \\\n",
       "0      2022-09-30T00:00:00      reseauinternational.net   \n",
       "1      2022-09-30T00:00:00      reseauinternational.net   \n",
       "2      2022-09-29T00:00:00              lemediaen442.fr   \n",
       "3      2022-09-28T13:15:00            www.francesoir.fr   \n",
       "4      2022-09-27T00:00:00          www.breizh-info.com   \n",
       "...                    ...                          ...   \n",
       "89157                  NaN  www.profession-gendarme.com   \n",
       "89158                  NaN  www.profession-gendarme.com   \n",
       "89159                  NaN  www.profession-gendarme.com   \n",
       "89160                  NaN  www.profession-gendarme.com   \n",
       "89161                  NaN  www.profession-gendarme.com   \n",
       "\n",
       "                                                    text  infox  \\\n",
       "0      Tous les jeunes, portez la nouvelle (russe)\\np...    0.0   \n",
       "1      Adhésion à la Russie : 93% pour le « oui » dan...    0.0   \n",
       "2      ONU – Le Premier ministre de Nouvelle-Zélande ...    1.0   \n",
       "3      Compostage humain: les “funérailles vertes” ga...    0.0   \n",
       "4      Donatello : génie de la Renaissance\\nPortrait ...    NaN   \n",
       "...                                                  ...    ...   \n",
       "89157  Zelensky est « une marionnette qui fait inutil...    NaN   \n",
       "89158  Zélensky : l’arnaque de la contre-offensive uk...    NaN   \n",
       "89159  Zelensky massacre maintenant des citoyens ukra...    NaN   \n",
       "89160  Zéro mort du coronavirus : comment expliquer l...    NaN   \n",
       "89161  Zoom – Francis Cousin : « La grande explosion ...    NaN   \n",
       "\n",
       "                                                     url    y   y_proba  \n",
       "0      https://reseauinternational.net/tous-les-jeune...  0.0  0.002944  \n",
       "1      https://reseauinternational.net/adhesion-a-la-...  0.0  0.012630  \n",
       "2      https://lemediaen442.fr/onu-le-premier-ministr...  1.0  0.963768  \n",
       "3      https://www.francesoir.fr/societe-environnemen...  0.0  0.007914  \n",
       "4      https://www.breizh-info.com/2022/09/27/208410/...  0.0  0.075435  \n",
       "...                                                  ...  ...       ...  \n",
       "89157  https://www.profession-gendarme.com/zelensky-e...  1.0  0.556761  \n",
       "89158  https://www.profession-gendarme.com/zelensky-l...  0.0  0.164531  \n",
       "89159  https://www.profession-gendarme.com/zelensky-m...  1.0  0.673791  \n",
       "89160  https://www.profession-gendarme.com/zero-mort-...  0.0  0.103192  \n",
       "89161  https://www.profession-gendarme.com/zoom-franc...  0.0  0.303205  \n",
       "\n",
       "[89162 rows x 13 columns]"
      ]
     },
     "execution_count": 17,
     "metadata": {},
     "output_type": "execute_result"
    }
   ],
   "source": [
    "df_corpus"
   ]
  },
  {
   "cell_type": "code",
   "execution_count": null,
   "id": "f4d6769e",
   "metadata": {},
   "outputs": [],
   "source": [
    "obs = {}"
   ]
  },
  {
   "cell_type": "code",
   "execution_count": null,
   "id": "7072af34",
   "metadata": {},
   "outputs": [],
   "source": [
    "user_obs = obs.get('fmaine',{})\n"
   ]
  },
  {
   "cell_type": "code",
   "execution_count": null,
   "id": "0270d3d8",
   "metadata": {},
   "outputs": [],
   "source": [
    "obs['fmaine']['12345']='dflgjsdlfgjl'"
   ]
  },
  {
   "cell_type": "code",
   "execution_count": 14,
   "id": "ac995084",
   "metadata": {},
   "outputs": [],
   "source": [
    "import numpy as np"
   ]
  },
  {
   "cell_type": "code",
   "execution_count": 15,
   "id": "ac496eda",
   "metadata": {},
   "outputs": [
    {
     "data": {
      "text/plain": [
       "numpy.random._generator.Generator"
      ]
     },
     "execution_count": 15,
     "metadata": {},
     "output_type": "execute_result"
    }
   ],
   "source": [
    "np.random.Generator."
   ]
  },
  {
   "cell_type": "code",
   "execution_count": 16,
   "id": "936331ef",
   "metadata": {},
   "outputs": [],
   "source": [
    "import random"
   ]
  },
  {
   "cell_type": "code",
   "execution_count": 24,
   "id": "eef34c85",
   "metadata": {},
   "outputs": [
    {
     "data": {
      "text/plain": [
       "72860"
      ]
     },
     "execution_count": 24,
     "metadata": {},
     "output_type": "execute_result"
    }
   ],
   "source": [
    "n = random.randrange(len(df_corpus))\n",
    "n"
   ]
  },
  {
   "cell_type": "code",
   "execution_count": 43,
   "id": "6252a316",
   "metadata": {},
   "outputs": [
    {
     "data": {
      "text/plain": [
       "'https://www.francesoir.fr/afp-afp/france-proces-fillon-en-appel-place-laccusation'"
      ]
     },
     "execution_count": 43,
     "metadata": {},
     "output_type": "execute_result"
    }
   ],
   "source": [
    "df_corpus.loc[n]['url']"
   ]
  },
  {
   "cell_type": "code",
   "execution_count": 40,
   "id": "7c1b396f",
   "metadata": {},
   "outputs": [
    {
     "ename": "KeyError",
     "evalue": "0",
     "output_type": "error",
     "traceback": [
      "\u001b[0;31m---------------------------------------------------------------------------\u001b[0m",
      "\u001b[0;31mKeyError\u001b[0m                                  Traceback (most recent call last)",
      "File \u001b[0;32m~/Desktop/Work/Patat/patat-env/lib/python3.9/site-packages/pandas/core/indexes/base.py:3621\u001b[0m, in \u001b[0;36mIndex.get_loc\u001b[0;34m(self, key, method, tolerance)\u001b[0m\n\u001b[1;32m   3620\u001b[0m \u001b[38;5;28;01mtry\u001b[39;00m:\n\u001b[0;32m-> 3621\u001b[0m     \u001b[38;5;28;01mreturn\u001b[39;00m \u001b[38;5;28;43mself\u001b[39;49m\u001b[38;5;241;43m.\u001b[39;49m\u001b[43m_engine\u001b[49m\u001b[38;5;241;43m.\u001b[39;49m\u001b[43mget_loc\u001b[49m\u001b[43m(\u001b[49m\u001b[43mcasted_key\u001b[49m\u001b[43m)\u001b[49m\n\u001b[1;32m   3622\u001b[0m \u001b[38;5;28;01mexcept\u001b[39;00m \u001b[38;5;167;01mKeyError\u001b[39;00m \u001b[38;5;28;01mas\u001b[39;00m err:\n",
      "File \u001b[0;32mpandas/_libs/index.pyx:136\u001b[0m, in \u001b[0;36mpandas._libs.index.IndexEngine.get_loc\u001b[0;34m()\u001b[0m\n",
      "File \u001b[0;32mpandas/_libs/index.pyx:163\u001b[0m, in \u001b[0;36mpandas._libs.index.IndexEngine.get_loc\u001b[0;34m()\u001b[0m\n",
      "File \u001b[0;32mpandas/_libs/hashtable_class_helper.pxi:2131\u001b[0m, in \u001b[0;36mpandas._libs.hashtable.Int64HashTable.get_item\u001b[0;34m()\u001b[0m\n",
      "File \u001b[0;32mpandas/_libs/hashtable_class_helper.pxi:2140\u001b[0m, in \u001b[0;36mpandas._libs.hashtable.Int64HashTable.get_item\u001b[0;34m()\u001b[0m\n",
      "\u001b[0;31mKeyError\u001b[0m: 0",
      "\nThe above exception was the direct cause of the following exception:\n",
      "\u001b[0;31mKeyError\u001b[0m                                  Traceback (most recent call last)",
      "Input \u001b[0;32mIn [40]\u001b[0m, in \u001b[0;36m<cell line: 3>\u001b[0;34m()\u001b[0m\n\u001b[1;32m      1\u001b[0m df \u001b[38;5;241m=\u001b[39m cw\u001b[38;5;241m.\u001b[39mget_corpus_df(\u001b[38;5;241m0\u001b[39m)\n\u001b[1;32m      2\u001b[0m df_row \u001b[38;5;241m=\u001b[39m df\u001b[38;5;241m.\u001b[39msample(\u001b[38;5;241m1\u001b[39m)\n\u001b[0;32m----> 3\u001b[0m \u001b[43mdf_row\u001b[49m\u001b[43m[\u001b[49m\u001b[38;5;124;43m'\u001b[39;49m\u001b[38;5;124;43murl_h\u001b[39;49m\u001b[38;5;124;43m'\u001b[39;49m\u001b[43m]\u001b[49m\u001b[43m[\u001b[49m\u001b[38;5;241;43m0\u001b[39;49m\u001b[43m]\u001b[49m\n",
      "File \u001b[0;32m~/Desktop/Work/Patat/patat-env/lib/python3.9/site-packages/pandas/core/series.py:958\u001b[0m, in \u001b[0;36mSeries.__getitem__\u001b[0;34m(self, key)\u001b[0m\n\u001b[1;32m    955\u001b[0m     \u001b[38;5;28;01mreturn\u001b[39;00m \u001b[38;5;28mself\u001b[39m\u001b[38;5;241m.\u001b[39m_values[key]\n\u001b[1;32m    957\u001b[0m \u001b[38;5;28;01melif\u001b[39;00m key_is_scalar:\n\u001b[0;32m--> 958\u001b[0m     \u001b[38;5;28;01mreturn\u001b[39;00m \u001b[38;5;28;43mself\u001b[39;49m\u001b[38;5;241;43m.\u001b[39;49m\u001b[43m_get_value\u001b[49m\u001b[43m(\u001b[49m\u001b[43mkey\u001b[49m\u001b[43m)\u001b[49m\n\u001b[1;32m    960\u001b[0m \u001b[38;5;28;01mif\u001b[39;00m is_hashable(key):\n\u001b[1;32m    961\u001b[0m     \u001b[38;5;66;03m# Otherwise index.get_value will raise InvalidIndexError\u001b[39;00m\n\u001b[1;32m    962\u001b[0m     \u001b[38;5;28;01mtry\u001b[39;00m:\n\u001b[1;32m    963\u001b[0m         \u001b[38;5;66;03m# For labels that don't resolve as scalars like tuples and frozensets\u001b[39;00m\n",
      "File \u001b[0;32m~/Desktop/Work/Patat/patat-env/lib/python3.9/site-packages/pandas/core/series.py:1069\u001b[0m, in \u001b[0;36mSeries._get_value\u001b[0;34m(self, label, takeable)\u001b[0m\n\u001b[1;32m   1066\u001b[0m     \u001b[38;5;28;01mreturn\u001b[39;00m \u001b[38;5;28mself\u001b[39m\u001b[38;5;241m.\u001b[39m_values[label]\n\u001b[1;32m   1068\u001b[0m \u001b[38;5;66;03m# Similar to Index.get_value, but we do not fall back to positional\u001b[39;00m\n\u001b[0;32m-> 1069\u001b[0m loc \u001b[38;5;241m=\u001b[39m \u001b[38;5;28;43mself\u001b[39;49m\u001b[38;5;241;43m.\u001b[39;49m\u001b[43mindex\u001b[49m\u001b[38;5;241;43m.\u001b[39;49m\u001b[43mget_loc\u001b[49m\u001b[43m(\u001b[49m\u001b[43mlabel\u001b[49m\u001b[43m)\u001b[49m\n\u001b[1;32m   1070\u001b[0m \u001b[38;5;28;01mreturn\u001b[39;00m \u001b[38;5;28mself\u001b[39m\u001b[38;5;241m.\u001b[39mindex\u001b[38;5;241m.\u001b[39m_get_values_for_loc(\u001b[38;5;28mself\u001b[39m, loc, label)\n",
      "File \u001b[0;32m~/Desktop/Work/Patat/patat-env/lib/python3.9/site-packages/pandas/core/indexes/base.py:3623\u001b[0m, in \u001b[0;36mIndex.get_loc\u001b[0;34m(self, key, method, tolerance)\u001b[0m\n\u001b[1;32m   3621\u001b[0m     \u001b[38;5;28;01mreturn\u001b[39;00m \u001b[38;5;28mself\u001b[39m\u001b[38;5;241m.\u001b[39m_engine\u001b[38;5;241m.\u001b[39mget_loc(casted_key)\n\u001b[1;32m   3622\u001b[0m \u001b[38;5;28;01mexcept\u001b[39;00m \u001b[38;5;167;01mKeyError\u001b[39;00m \u001b[38;5;28;01mas\u001b[39;00m err:\n\u001b[0;32m-> 3623\u001b[0m     \u001b[38;5;28;01mraise\u001b[39;00m \u001b[38;5;167;01mKeyError\u001b[39;00m(key) \u001b[38;5;28;01mfrom\u001b[39;00m \u001b[38;5;21;01merr\u001b[39;00m\n\u001b[1;32m   3624\u001b[0m \u001b[38;5;28;01mexcept\u001b[39;00m \u001b[38;5;167;01mTypeError\u001b[39;00m:\n\u001b[1;32m   3625\u001b[0m     \u001b[38;5;66;03m# If we have a listlike key, _check_indexing_error will raise\u001b[39;00m\n\u001b[1;32m   3626\u001b[0m     \u001b[38;5;66;03m#  InvalidIndexError. Otherwise we fall through and re-raise\u001b[39;00m\n\u001b[1;32m   3627\u001b[0m     \u001b[38;5;66;03m#  the TypeError.\u001b[39;00m\n\u001b[1;32m   3628\u001b[0m     \u001b[38;5;28mself\u001b[39m\u001b[38;5;241m.\u001b[39m_check_indexing_error(key)\n",
      "\u001b[0;31mKeyError\u001b[0m: 0"
     ]
    }
   ],
   "source": [
    "df = cw.get_corpus_df(0)\n",
    "df_row = df.sample(1)\n",
    "df_row['url_h'][0]"
   ]
  },
  {
   "cell_type": "code",
   "execution_count": null,
   "id": "3076f1c3",
   "metadata": {},
   "outputs": [],
   "source": []
  }
 ],
 "metadata": {
  "kernelspec": {
   "display_name": "Python 3 (ipykernel)",
   "language": "python",
   "name": "python3"
  },
  "language_info": {
   "codemirror_mode": {
    "name": "ipython",
    "version": 3
   },
   "file_extension": ".py",
   "mimetype": "text/x-python",
   "name": "python",
   "nbconvert_exporter": "python",
   "pygments_lexer": "ipython3",
   "version": "3.9.13"
  }
 },
 "nbformat": 4,
 "nbformat_minor": 5
}
