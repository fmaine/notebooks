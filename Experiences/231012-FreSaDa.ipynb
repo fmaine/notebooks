{
 "cells": [
  {
   "cell_type": "markdown",
   "id": "e3ec4689",
   "metadata": {},
   "source": [
    "# Plateforme d'Acquisition et de Traitement Automatisé des Textes\n",
    "### Carnet d'expérimentation\n",
    "---\n",
    "\n",
    "## Sujet : Dataset FreSaDa\n",
    "\n",
    "---"
   ]
  },
  {
   "cell_type": "markdown",
   "id": "2601e626",
   "metadata": {},
   "source": [
    "# Observations et Environnement\n",
    "---"
   ]
  },
  {
   "cell_type": "code",
   "execution_count": 1,
   "id": "5d0de4d7",
   "metadata": {},
   "outputs": [
    {
     "name": "stdout",
     "output_type": "stream",
     "text": [
      "/Volumes/Geek/Work/Patat\n"
     ]
    }
   ],
   "source": [
    "cd ../.."
   ]
  },
  {
   "cell_type": "code",
   "execution_count": 2,
   "id": "32256b0d",
   "metadata": {},
   "outputs": [],
   "source": [
    "import importlib\n",
    "import pandas as pd\n",
    "import seaborn as sns\n",
    "from tqdm.notebook import tqdm\n",
    "tqdm.pandas()"
   ]
  },
  {
   "cell_type": "markdown",
   "id": "ba0834f1",
   "metadata": {},
   "source": [
    "# Chargement Dataset\n",
    "---"
   ]
  },
  {
   "cell_type": "code",
   "execution_count": 3,
   "id": "6e20becb",
   "metadata": {},
   "outputs": [],
   "source": [
    "import os"
   ]
  },
  {
   "cell_type": "code",
   "execution_count": 4,
   "id": "7da40bd8",
   "metadata": {},
   "outputs": [],
   "source": [
    "base_dir = 'data/FreSaDa/data/'"
   ]
  },
  {
   "cell_type": "code",
   "execution_count": 5,
   "id": "8b2c8d66",
   "metadata": {},
   "outputs": [],
   "source": [
    "def read_text(text_dir,filename):\n",
    "    with open(text_dir+filename,'r') as file:\n",
    "        return file.read()"
   ]
  },
  {
   "cell_type": "code",
   "execution_count": 6,
   "id": "16d9b410",
   "metadata": {},
   "outputs": [],
   "source": [
    "def read_dir(dir_name):\n",
    "    text_dir = f'data/FreSaDa/data/{dir_name}/texts/'\n",
    "    summary_filename = f'data/FreSaDa/data/{dir_name}/summary.tsv'\n",
    "    doc_files = os.listdir(text_dir)\n",
    "    df = pd.read_csv(summary_filename,sep='\\t')\n",
    "    df['text'] = df['text_id'].apply(lambda filename: read_text(text_dir,filename))\n",
    "    df['set']=dir_name\n",
    "    return df"
   ]
  },
  {
   "cell_type": "code",
   "execution_count": 7,
   "id": "5e899e5c",
   "metadata": {},
   "outputs": [],
   "source": [
    "df_train = read_dir('train')"
   ]
  },
  {
   "cell_type": "code",
   "execution_count": 8,
   "id": "43bd923e",
   "metadata": {},
   "outputs": [
    {
     "data": {
      "text/html": [
       "<div>\n",
       "<style scoped>\n",
       "    .dataframe tbody tr th:only-of-type {\n",
       "        vertical-align: middle;\n",
       "    }\n",
       "\n",
       "    .dataframe tbody tr th {\n",
       "        vertical-align: top;\n",
       "    }\n",
       "\n",
       "    .dataframe thead th {\n",
       "        text-align: right;\n",
       "    }\n",
       "</style>\n",
       "<table border=\"1\" class=\"dataframe\">\n",
       "  <thead>\n",
       "    <tr style=\"text-align: right;\">\n",
       "      <th></th>\n",
       "      <th>text_id</th>\n",
       "      <th>title</th>\n",
       "      <th>label</th>\n",
       "      <th>text</th>\n",
       "      <th>set</th>\n",
       "    </tr>\n",
       "  </thead>\n",
       "  <tbody>\n",
       "    <tr>\n",
       "      <th>0</th>\n",
       "      <td>000000001.txt</td>\n",
       "      <td>Les dossiers du Gorafi : Le chat de la mère Mi...</td>\n",
       "      <td>1</td>\n",
       "      <td>Le mystère de la disparition du chat de la mèr...</td>\n",
       "      <td>train</td>\n",
       "    </tr>\n",
       "    <tr>\n",
       "      <th>1</th>\n",
       "      <td>000000002.txt</td>\n",
       "      <td>Les dossiers du “Gorafi” : Le chat de la mère ...</td>\n",
       "      <td>1</td>\n",
       "      <td>Toute la semaine, « Le Gorafi » revient sur l’...</td>\n",
       "      <td>train</td>\n",
       "    </tr>\n",
       "    <tr>\n",
       "      <th>2</th>\n",
       "      <td>000000003.txt</td>\n",
       "      <td>Montauban : Son téléphone glisse derrière son lit</td>\n",
       "      <td>1</td>\n",
       "      <td>Montauban – Un habitant de Montauban a vécu un...</td>\n",
       "      <td>train</td>\n",
       "    </tr>\n",
       "    <tr>\n",
       "      <th>3</th>\n",
       "      <td>000000004.txt</td>\n",
       "      <td>Le gouvernement confirme que le bug de l’an 20...</td>\n",
       "      <td>1</td>\n",
       "      <td>Il aura fallu plus de 13 ans. Treize longues a...</td>\n",
       "      <td>train</td>\n",
       "    </tr>\n",
       "    <tr>\n",
       "      <th>4</th>\n",
       "      <td>000000005.txt</td>\n",
       "      <td>Un homme sauve une famille de la noyade avant ...</td>\n",
       "      <td>1</td>\n",
       "      <td>Cela fait partie des petites histoires qui éga...</td>\n",
       "      <td>train</td>\n",
       "    </tr>\n",
       "    <tr>\n",
       "      <th>...</th>\n",
       "      <td>...</td>\n",
       "      <td>...</td>\n",
       "      <td>...</td>\n",
       "      <td>...</td>\n",
       "      <td>...</td>\n",
       "    </tr>\n",
       "    <tr>\n",
       "      <th>8711</th>\n",
       "      <td>000008712.txt</td>\n",
       "      <td>Après son clash avec Macron, le chef d'état-ma...</td>\n",
       "      <td>-1</td>\n",
       "      <td>POLEMIQUE - La décision n'aura pas attendu la ...</td>\n",
       "      <td>train</td>\n",
       "    </tr>\n",
       "    <tr>\n",
       "      <th>8712</th>\n",
       "      <td>000008713.txt</td>\n",
       "      <td>Anna Wintour surprise en train de se déhancher...</td>\n",
       "      <td>-1</td>\n",
       "      <td>INSOLITE - D'ordinaire si stricte, Anna Wintou...</td>\n",
       "      <td>train</td>\n",
       "    </tr>\n",
       "    <tr>\n",
       "      <th>8713</th>\n",
       "      <td>000008714.txt</td>\n",
       "      <td>Anna Wintour surprise en train de se déhancher...</td>\n",
       "      <td>-1</td>\n",
       "      <td>INSOLITE - D'ordinaire si stricte, Anna Wintou...</td>\n",
       "      <td>train</td>\n",
       "    </tr>\n",
       "    <tr>\n",
       "      <th>8714</th>\n",
       "      <td>000008715.txt</td>\n",
       "      <td>Tour de France 2017, étape 16: Cette photo pri...</td>\n",
       "      <td>-1</td>\n",
       "      <td>TOUR DE FRANCE - L'image fait froid dans le do...</td>\n",
       "      <td>train</td>\n",
       "    </tr>\n",
       "    <tr>\n",
       "      <th>8715</th>\n",
       "      <td>000008716.txt</td>\n",
       "      <td>Attendre son conjoint, s'occuper des enfants, ...</td>\n",
       "      <td>-1</td>\n",
       "      <td>VIE DE FAMILLE - Déjà 17h30. Vous avez encore ...</td>\n",
       "      <td>train</td>\n",
       "    </tr>\n",
       "  </tbody>\n",
       "</table>\n",
       "<p>8716 rows × 5 columns</p>\n",
       "</div>"
      ],
      "text/plain": [
       "            text_id                                              title  label   \n",
       "0     000000001.txt  Les dossiers du Gorafi : Le chat de la mère Mi...      1  \\\n",
       "1     000000002.txt  Les dossiers du “Gorafi” : Le chat de la mère ...      1   \n",
       "2     000000003.txt  Montauban : Son téléphone glisse derrière son lit      1   \n",
       "3     000000004.txt  Le gouvernement confirme que le bug de l’an 20...      1   \n",
       "4     000000005.txt  Un homme sauve une famille de la noyade avant ...      1   \n",
       "...             ...                                                ...    ...   \n",
       "8711  000008712.txt  Après son clash avec Macron, le chef d'état-ma...     -1   \n",
       "8712  000008713.txt  Anna Wintour surprise en train de se déhancher...     -1   \n",
       "8713  000008714.txt  Anna Wintour surprise en train de se déhancher...     -1   \n",
       "8714  000008715.txt  Tour de France 2017, étape 16: Cette photo pri...     -1   \n",
       "8715  000008716.txt  Attendre son conjoint, s'occuper des enfants, ...     -1   \n",
       "\n",
       "                                                   text    set  \n",
       "0     Le mystère de la disparition du chat de la mèr...  train  \n",
       "1     Toute la semaine, « Le Gorafi » revient sur l’...  train  \n",
       "2     Montauban – Un habitant de Montauban a vécu un...  train  \n",
       "3     Il aura fallu plus de 13 ans. Treize longues a...  train  \n",
       "4     Cela fait partie des petites histoires qui éga...  train  \n",
       "...                                                 ...    ...  \n",
       "8711  POLEMIQUE - La décision n'aura pas attendu la ...  train  \n",
       "8712  INSOLITE - D'ordinaire si stricte, Anna Wintou...  train  \n",
       "8713  INSOLITE - D'ordinaire si stricte, Anna Wintou...  train  \n",
       "8714  TOUR DE FRANCE - L'image fait froid dans le do...  train  \n",
       "8715  VIE DE FAMILLE - Déjà 17h30. Vous avez encore ...  train  \n",
       "\n",
       "[8716 rows x 5 columns]"
      ]
     },
     "execution_count": 8,
     "metadata": {},
     "output_type": "execute_result"
    }
   ],
   "source": [
    "df_train"
   ]
  },
  {
   "cell_type": "code",
   "execution_count": 9,
   "id": "52fc4a94",
   "metadata": {},
   "outputs": [],
   "source": [
    "df_test = read_dir('test')"
   ]
  },
  {
   "cell_type": "code",
   "execution_count": 10,
   "id": "05a952bb",
   "metadata": {},
   "outputs": [
    {
     "data": {
      "text/html": [
       "<div>\n",
       "<style scoped>\n",
       "    .dataframe tbody tr th:only-of-type {\n",
       "        vertical-align: middle;\n",
       "    }\n",
       "\n",
       "    .dataframe tbody tr th {\n",
       "        vertical-align: top;\n",
       "    }\n",
       "\n",
       "    .dataframe thead th {\n",
       "        text-align: right;\n",
       "    }\n",
       "</style>\n",
       "<table border=\"1\" class=\"dataframe\">\n",
       "  <thead>\n",
       "    <tr style=\"text-align: right;\">\n",
       "      <th></th>\n",
       "      <th>text_id</th>\n",
       "      <th>title</th>\n",
       "      <th>label</th>\n",
       "      <th>text</th>\n",
       "      <th>set</th>\n",
       "    </tr>\n",
       "  </thead>\n",
       "  <tbody>\n",
       "    <tr>\n",
       "      <th>0</th>\n",
       "      <td>000008717.txt</td>\n",
       "      <td>Courrier des lecteurs 7 : Est-ce bien ma fille...</td>\n",
       "      <td>1</td>\n",
       "      <td>Bonjour docteur,\\nje suis circonspecte. Ma pet...</td>\n",
       "      <td>test</td>\n",
       "    </tr>\n",
       "    <tr>\n",
       "      <th>1</th>\n",
       "      <td>000008718.txt</td>\n",
       "      <td>Santé. La très spectaculaire maladie des gross...</td>\n",
       "      <td>1</td>\n",
       "      <td>Sydney : C’est une de ces maladies génétiques ...</td>\n",
       "      <td>test</td>\n",
       "    </tr>\n",
       "    <tr>\n",
       "      <th>2</th>\n",
       "      <td>000008719.txt</td>\n",
       "      <td>Un permis obligatoire pour les poussettes mult...</td>\n",
       "      <td>1</td>\n",
       "      <td>La 4eme directive relative aux permis de condu...</td>\n",
       "      <td>test</td>\n",
       "    </tr>\n",
       "    <tr>\n",
       "      <th>3</th>\n",
       "      <td>000008720.txt</td>\n",
       "      <td>Courrier des lecteurs 5 : Les Réponses du Doct...</td>\n",
       "      <td>1</td>\n",
       "      <td>Bonjour docteur.\\nNotre petite Élise est ce qu...</td>\n",
       "      <td>test</td>\n",
       "    </tr>\n",
       "    <tr>\n",
       "      <th>4</th>\n",
       "      <td>000008721.txt</td>\n",
       "      <td>Interview exclusive de l’écrivain Manuel Demon...</td>\n",
       "      <td>1</td>\n",
       "      <td>Il a vendu plus que JK Rowling et son Harry Po...</td>\n",
       "      <td>test</td>\n",
       "    </tr>\n",
       "    <tr>\n",
       "      <th>...</th>\n",
       "      <td>...</td>\n",
       "      <td>...</td>\n",
       "      <td>...</td>\n",
       "      <td>...</td>\n",
       "      <td>...</td>\n",
       "    </tr>\n",
       "    <tr>\n",
       "      <th>2849</th>\n",
       "      <td>000011566.txt</td>\n",
       "      <td>Affaire Benalla: Corbière s'interroge sur l'ex...</td>\n",
       "      <td>-1</td>\n",
       "      <td>Invité mercredi matin sur BFMTV, Alexis Corbiè...</td>\n",
       "      <td>test</td>\n",
       "    </tr>\n",
       "    <tr>\n",
       "      <th>2850</th>\n",
       "      <td>000011567.txt</td>\n",
       "      <td>Municipales : qui sont les maires élus dès le ...</td>\n",
       "      <td>-1</td>\n",
       "      <td>Le point sur ces maires élus dès le premier to...</td>\n",
       "      <td>test</td>\n",
       "    </tr>\n",
       "    <tr>\n",
       "      <th>2851</th>\n",
       "      <td>000011568.txt</td>\n",
       "      <td>FN: Louis Aliot a voté contre l'exclusion de J...</td>\n",
       "      <td>-1</td>\n",
       "      <td>Cela le consolera-t-il? Non, le compagnon de s...</td>\n",
       "      <td>test</td>\n",
       "    </tr>\n",
       "    <tr>\n",
       "      <th>2852</th>\n",
       "      <td>000011569.txt</td>\n",
       "      <td>Européennes à EELV: une campagne sous l'oeil d...</td>\n",
       "      <td>-1</td>\n",
       "      <td>En 2009, Europe Ecologie-Les Verts avait réali...</td>\n",
       "      <td>test</td>\n",
       "    </tr>\n",
       "    <tr>\n",
       "      <th>2853</th>\n",
       "      <td>000011570.txt</td>\n",
       "      <td>Mieux vaut lutter contre le proxénétisme que c...</td>\n",
       "      <td>-1</td>\n",
       "      <td>Au cœur de ce débat facilement caricatural, il...</td>\n",
       "      <td>test</td>\n",
       "    </tr>\n",
       "  </tbody>\n",
       "</table>\n",
       "<p>2854 rows × 5 columns</p>\n",
       "</div>"
      ],
      "text/plain": [
       "            text_id                                              title  label   \n",
       "0     000008717.txt  Courrier des lecteurs 7 : Est-ce bien ma fille...      1  \\\n",
       "1     000008718.txt  Santé. La très spectaculaire maladie des gross...      1   \n",
       "2     000008719.txt  Un permis obligatoire pour les poussettes mult...      1   \n",
       "3     000008720.txt  Courrier des lecteurs 5 : Les Réponses du Doct...      1   \n",
       "4     000008721.txt  Interview exclusive de l’écrivain Manuel Demon...      1   \n",
       "...             ...                                                ...    ...   \n",
       "2849  000011566.txt  Affaire Benalla: Corbière s'interroge sur l'ex...     -1   \n",
       "2850  000011567.txt  Municipales : qui sont les maires élus dès le ...     -1   \n",
       "2851  000011568.txt  FN: Louis Aliot a voté contre l'exclusion de J...     -1   \n",
       "2852  000011569.txt  Européennes à EELV: une campagne sous l'oeil d...     -1   \n",
       "2853  000011570.txt  Mieux vaut lutter contre le proxénétisme que c...     -1   \n",
       "\n",
       "                                                   text   set  \n",
       "0     Bonjour docteur,\\nje suis circonspecte. Ma pet...  test  \n",
       "1     Sydney : C’est une de ces maladies génétiques ...  test  \n",
       "2     La 4eme directive relative aux permis de condu...  test  \n",
       "3     Bonjour docteur.\\nNotre petite Élise est ce qu...  test  \n",
       "4     Il a vendu plus que JK Rowling et son Harry Po...  test  \n",
       "...                                                 ...   ...  \n",
       "2849  Invité mercredi matin sur BFMTV, Alexis Corbiè...  test  \n",
       "2850  Le point sur ces maires élus dès le premier to...  test  \n",
       "2851  Cela le consolera-t-il? Non, le compagnon de s...  test  \n",
       "2852  En 2009, Europe Ecologie-Les Verts avait réali...  test  \n",
       "2853  Au cœur de ce débat facilement caricatural, il...  test  \n",
       "\n",
       "[2854 rows x 5 columns]"
      ]
     },
     "execution_count": 10,
     "metadata": {},
     "output_type": "execute_result"
    }
   ],
   "source": [
    "df_test"
   ]
  },
  {
   "cell_type": "code",
   "execution_count": 11,
   "id": "5dbe09c9",
   "metadata": {},
   "outputs": [],
   "source": [
    "df_corpus = pd.concat([df_train,df_test],ignore_index=True)"
   ]
  },
  {
   "cell_type": "code",
   "execution_count": 12,
   "id": "a0744362",
   "metadata": {},
   "outputs": [
    {
     "data": {
      "text/html": [
       "<div>\n",
       "<style scoped>\n",
       "    .dataframe tbody tr th:only-of-type {\n",
       "        vertical-align: middle;\n",
       "    }\n",
       "\n",
       "    .dataframe tbody tr th {\n",
       "        vertical-align: top;\n",
       "    }\n",
       "\n",
       "    .dataframe thead th {\n",
       "        text-align: right;\n",
       "    }\n",
       "</style>\n",
       "<table border=\"1\" class=\"dataframe\">\n",
       "  <thead>\n",
       "    <tr style=\"text-align: right;\">\n",
       "      <th></th>\n",
       "      <th>text_id</th>\n",
       "      <th>title</th>\n",
       "      <th>label</th>\n",
       "      <th>text</th>\n",
       "      <th>set</th>\n",
       "    </tr>\n",
       "  </thead>\n",
       "  <tbody>\n",
       "    <tr>\n",
       "      <th>0</th>\n",
       "      <td>000000001.txt</td>\n",
       "      <td>Les dossiers du Gorafi : Le chat de la mère Mi...</td>\n",
       "      <td>1</td>\n",
       "      <td>Le mystère de la disparition du chat de la mèr...</td>\n",
       "      <td>train</td>\n",
       "    </tr>\n",
       "    <tr>\n",
       "      <th>1</th>\n",
       "      <td>000000002.txt</td>\n",
       "      <td>Les dossiers du “Gorafi” : Le chat de la mère ...</td>\n",
       "      <td>1</td>\n",
       "      <td>Toute la semaine, « Le Gorafi » revient sur l’...</td>\n",
       "      <td>train</td>\n",
       "    </tr>\n",
       "    <tr>\n",
       "      <th>2</th>\n",
       "      <td>000000003.txt</td>\n",
       "      <td>Montauban : Son téléphone glisse derrière son lit</td>\n",
       "      <td>1</td>\n",
       "      <td>Montauban – Un habitant de Montauban a vécu un...</td>\n",
       "      <td>train</td>\n",
       "    </tr>\n",
       "    <tr>\n",
       "      <th>3</th>\n",
       "      <td>000000004.txt</td>\n",
       "      <td>Le gouvernement confirme que le bug de l’an 20...</td>\n",
       "      <td>1</td>\n",
       "      <td>Il aura fallu plus de 13 ans. Treize longues a...</td>\n",
       "      <td>train</td>\n",
       "    </tr>\n",
       "    <tr>\n",
       "      <th>4</th>\n",
       "      <td>000000005.txt</td>\n",
       "      <td>Un homme sauve une famille de la noyade avant ...</td>\n",
       "      <td>1</td>\n",
       "      <td>Cela fait partie des petites histoires qui éga...</td>\n",
       "      <td>train</td>\n",
       "    </tr>\n",
       "    <tr>\n",
       "      <th>...</th>\n",
       "      <td>...</td>\n",
       "      <td>...</td>\n",
       "      <td>...</td>\n",
       "      <td>...</td>\n",
       "      <td>...</td>\n",
       "    </tr>\n",
       "    <tr>\n",
       "      <th>11565</th>\n",
       "      <td>000011566.txt</td>\n",
       "      <td>Affaire Benalla: Corbière s'interroge sur l'ex...</td>\n",
       "      <td>-1</td>\n",
       "      <td>Invité mercredi matin sur BFMTV, Alexis Corbiè...</td>\n",
       "      <td>test</td>\n",
       "    </tr>\n",
       "    <tr>\n",
       "      <th>11566</th>\n",
       "      <td>000011567.txt</td>\n",
       "      <td>Municipales : qui sont les maires élus dès le ...</td>\n",
       "      <td>-1</td>\n",
       "      <td>Le point sur ces maires élus dès le premier to...</td>\n",
       "      <td>test</td>\n",
       "    </tr>\n",
       "    <tr>\n",
       "      <th>11567</th>\n",
       "      <td>000011568.txt</td>\n",
       "      <td>FN: Louis Aliot a voté contre l'exclusion de J...</td>\n",
       "      <td>-1</td>\n",
       "      <td>Cela le consolera-t-il? Non, le compagnon de s...</td>\n",
       "      <td>test</td>\n",
       "    </tr>\n",
       "    <tr>\n",
       "      <th>11568</th>\n",
       "      <td>000011569.txt</td>\n",
       "      <td>Européennes à EELV: une campagne sous l'oeil d...</td>\n",
       "      <td>-1</td>\n",
       "      <td>En 2009, Europe Ecologie-Les Verts avait réali...</td>\n",
       "      <td>test</td>\n",
       "    </tr>\n",
       "    <tr>\n",
       "      <th>11569</th>\n",
       "      <td>000011570.txt</td>\n",
       "      <td>Mieux vaut lutter contre le proxénétisme que c...</td>\n",
       "      <td>-1</td>\n",
       "      <td>Au cœur de ce débat facilement caricatural, il...</td>\n",
       "      <td>test</td>\n",
       "    </tr>\n",
       "  </tbody>\n",
       "</table>\n",
       "<p>11570 rows × 5 columns</p>\n",
       "</div>"
      ],
      "text/plain": [
       "             text_id                                              title   \n",
       "0      000000001.txt  Les dossiers du Gorafi : Le chat de la mère Mi...  \\\n",
       "1      000000002.txt  Les dossiers du “Gorafi” : Le chat de la mère ...   \n",
       "2      000000003.txt  Montauban : Son téléphone glisse derrière son lit   \n",
       "3      000000004.txt  Le gouvernement confirme que le bug de l’an 20...   \n",
       "4      000000005.txt  Un homme sauve une famille de la noyade avant ...   \n",
       "...              ...                                                ...   \n",
       "11565  000011566.txt  Affaire Benalla: Corbière s'interroge sur l'ex...   \n",
       "11566  000011567.txt  Municipales : qui sont les maires élus dès le ...   \n",
       "11567  000011568.txt  FN: Louis Aliot a voté contre l'exclusion de J...   \n",
       "11568  000011569.txt  Européennes à EELV: une campagne sous l'oeil d...   \n",
       "11569  000011570.txt  Mieux vaut lutter contre le proxénétisme que c...   \n",
       "\n",
       "       label                                               text    set  \n",
       "0          1  Le mystère de la disparition du chat de la mèr...  train  \n",
       "1          1  Toute la semaine, « Le Gorafi » revient sur l’...  train  \n",
       "2          1  Montauban – Un habitant de Montauban a vécu un...  train  \n",
       "3          1  Il aura fallu plus de 13 ans. Treize longues a...  train  \n",
       "4          1  Cela fait partie des petites histoires qui éga...  train  \n",
       "...      ...                                                ...    ...  \n",
       "11565     -1  Invité mercredi matin sur BFMTV, Alexis Corbiè...   test  \n",
       "11566     -1  Le point sur ces maires élus dès le premier to...   test  \n",
       "11567     -1  Cela le consolera-t-il? Non, le compagnon de s...   test  \n",
       "11568     -1  En 2009, Europe Ecologie-Les Verts avait réali...   test  \n",
       "11569     -1  Au cœur de ce débat facilement caricatural, il...   test  \n",
       "\n",
       "[11570 rows x 5 columns]"
      ]
     },
     "execution_count": 12,
     "metadata": {},
     "output_type": "execute_result"
    }
   ],
   "source": [
    "df_corpus"
   ]
  },
  {
   "cell_type": "code",
   "execution_count": 13,
   "id": "533aa180",
   "metadata": {},
   "outputs": [],
   "source": [
    "df_corpus['c_count']=df_corpus['text'].apply(len)"
   ]
  },
  {
   "cell_type": "code",
   "execution_count": 14,
   "id": "1a31fad6",
   "metadata": {},
   "outputs": [
    {
     "data": {
      "text/plain": [
       "<seaborn.axisgrid.FacetGrid at 0x1059d6cb0>"
      ]
     },
     "execution_count": 14,
     "metadata": {},
     "output_type": "execute_result"
    },
    {
     "data": {
      "image/png": "[encoded data removed]",
      "text/plain": [
       "<Figure size 500x500 with 1 Axes>"
      ]
     },
     "metadata": {},
     "output_type": "display_data"
    }
   ],
   "source": [
    "sns.displot(df_corpus,x='c_count')"
   ]
  },
  {
   "cell_type": "markdown",
   "id": "dd1c7520",
   "metadata": {},
   "source": [
    "# Entrainement prédicteur"
   ]
  },
  {
   "cell_type": "markdown",
   "id": "7babb5de",
   "metadata": {},
   "source": [
    "## Equilibrage Dataset"
   ]
  },
  {
   "cell_type": "code",
   "execution_count": 17,
   "id": "975cfadf",
   "metadata": {},
   "outputs": [
    {
     "name": "stderr",
     "output_type": "stream",
     "text": [
      "/var/folders/fr/mhrqmk5n1xs49b7jl3tgs2r00000gn/T/ipykernel_65964/1161970311.py:2: SettingWithCopyWarning: \n",
      "A value is trying to be set on a copy of a slice from a DataFrame.\n",
      "Try using .loc[row_indexer,col_indexer] = value instead\n",
      "\n",
      "See the caveats in the documentation: https://pandas.pydata.org/pandas-docs/stable/user_guide/indexing.html#returning-a-view-versus-a-copy\n",
      "  df_corpus[df_corpus['label']==-1]['label']=0\n"
     ]
    }
   ],
   "source": [
    "# Remplacer le label -1 par 0\n",
    "df_corpus[df_corpus['label']==-1]['label']=0"
   ]
  },
  {
   "cell_type": "code",
   "execution_count": 18,
   "id": "e9b1d068",
   "metadata": {},
   "outputs": [
    {
     "data": {
      "text/plain": [
       "<Axes: xlabel='label', ylabel='count'>"
      ]
     },
     "execution_count": 18,
     "metadata": {},
     "output_type": "execute_result"
    },
    {
     "data": {
      "image/png": "[encoded data removed]",
      "text/plain": [
       "<Figure size 640x480 with 1 Axes>"
      ]
     },
     "metadata": {},
     "output_type": "display_data"
    }
   ],
   "source": [
    "label_count = df_corpus['label'].value_counts()\n",
    "sns.barplot(x=label_count.index, y=label_count)"
   ]
  },
  {
   "cell_type": "code",
   "execution_count": 19,
   "id": "1e3ea0bd",
   "metadata": {},
   "outputs": [
    {
     "data": {
      "text/html": [
       "<div>\n",
       "<style scoped>\n",
       "    .dataframe tbody tr th:only-of-type {\n",
       "        vertical-align: middle;\n",
       "    }\n",
       "\n",
       "    .dataframe tbody tr th {\n",
       "        vertical-align: top;\n",
       "    }\n",
       "\n",
       "    .dataframe thead th {\n",
       "        text-align: right;\n",
       "    }\n",
       "</style>\n",
       "<table border=\"1\" class=\"dataframe\">\n",
       "  <thead>\n",
       "    <tr style=\"text-align: right;\">\n",
       "      <th></th>\n",
       "      <th>text_id</th>\n",
       "      <th>title</th>\n",
       "      <th>label</th>\n",
       "      <th>text</th>\n",
       "      <th>set</th>\n",
       "      <th>c_count</th>\n",
       "    </tr>\n",
       "  </thead>\n",
       "  <tbody>\n",
       "    <tr>\n",
       "      <th>0</th>\n",
       "      <td>000000001.txt</td>\n",
       "      <td>Les dossiers du Gorafi : Le chat de la mère Mi...</td>\n",
       "      <td>1</td>\n",
       "      <td>Le mystère de la disparition du chat de la mèr...</td>\n",
       "      <td>train</td>\n",
       "      <td>5376</td>\n",
       "    </tr>\n",
       "    <tr>\n",
       "      <th>1</th>\n",
       "      <td>000000002.txt</td>\n",
       "      <td>Les dossiers du “Gorafi” : Le chat de la mère ...</td>\n",
       "      <td>1</td>\n",
       "      <td>Toute la semaine, « Le Gorafi » revient sur l’...</td>\n",
       "      <td>train</td>\n",
       "      <td>3925</td>\n",
       "    </tr>\n",
       "    <tr>\n",
       "      <th>2</th>\n",
       "      <td>000000003.txt</td>\n",
       "      <td>Montauban : Son téléphone glisse derrière son lit</td>\n",
       "      <td>1</td>\n",
       "      <td>Montauban – Un habitant de Montauban a vécu un...</td>\n",
       "      <td>train</td>\n",
       "      <td>1669</td>\n",
       "    </tr>\n",
       "    <tr>\n",
       "      <th>3</th>\n",
       "      <td>000000004.txt</td>\n",
       "      <td>Le gouvernement confirme que le bug de l’an 20...</td>\n",
       "      <td>1</td>\n",
       "      <td>Il aura fallu plus de 13 ans. Treize longues a...</td>\n",
       "      <td>train</td>\n",
       "      <td>2964</td>\n",
       "    </tr>\n",
       "    <tr>\n",
       "      <th>4</th>\n",
       "      <td>000000005.txt</td>\n",
       "      <td>Un homme sauve une famille de la noyade avant ...</td>\n",
       "      <td>1</td>\n",
       "      <td>Cela fait partie des petites histoires qui éga...</td>\n",
       "      <td>train</td>\n",
       "      <td>3888</td>\n",
       "    </tr>\n",
       "    <tr>\n",
       "      <th>...</th>\n",
       "      <td>...</td>\n",
       "      <td>...</td>\n",
       "      <td>...</td>\n",
       "      <td>...</td>\n",
       "      <td>...</td>\n",
       "      <td>...</td>\n",
       "    </tr>\n",
       "    <tr>\n",
       "      <th>11565</th>\n",
       "      <td>000011566.txt</td>\n",
       "      <td>Affaire Benalla: Corbière s'interroge sur l'ex...</td>\n",
       "      <td>-1</td>\n",
       "      <td>Invité mercredi matin sur BFMTV, Alexis Corbiè...</td>\n",
       "      <td>test</td>\n",
       "      <td>3462</td>\n",
       "    </tr>\n",
       "    <tr>\n",
       "      <th>11566</th>\n",
       "      <td>000011567.txt</td>\n",
       "      <td>Municipales : qui sont les maires élus dès le ...</td>\n",
       "      <td>-1</td>\n",
       "      <td>Le point sur ces maires élus dès le premier to...</td>\n",
       "      <td>test</td>\n",
       "      <td>3598</td>\n",
       "    </tr>\n",
       "    <tr>\n",
       "      <th>11567</th>\n",
       "      <td>000011568.txt</td>\n",
       "      <td>FN: Louis Aliot a voté contre l'exclusion de J...</td>\n",
       "      <td>-1</td>\n",
       "      <td>Cela le consolera-t-il? Non, le compagnon de s...</td>\n",
       "      <td>test</td>\n",
       "      <td>1513</td>\n",
       "    </tr>\n",
       "    <tr>\n",
       "      <th>11568</th>\n",
       "      <td>000011569.txt</td>\n",
       "      <td>Européennes à EELV: une campagne sous l'oeil d...</td>\n",
       "      <td>-1</td>\n",
       "      <td>En 2009, Europe Ecologie-Les Verts avait réali...</td>\n",
       "      <td>test</td>\n",
       "      <td>2389</td>\n",
       "    </tr>\n",
       "    <tr>\n",
       "      <th>11569</th>\n",
       "      <td>000011570.txt</td>\n",
       "      <td>Mieux vaut lutter contre le proxénétisme que c...</td>\n",
       "      <td>-1</td>\n",
       "      <td>Au cœur de ce débat facilement caricatural, il...</td>\n",
       "      <td>test</td>\n",
       "      <td>3111</td>\n",
       "    </tr>\n",
       "  </tbody>\n",
       "</table>\n",
       "<p>11570 rows × 6 columns</p>\n",
       "</div>"
      ],
      "text/plain": [
       "             text_id                                              title   \n",
       "0      000000001.txt  Les dossiers du Gorafi : Le chat de la mère Mi...  \\\n",
       "1      000000002.txt  Les dossiers du “Gorafi” : Le chat de la mère ...   \n",
       "2      000000003.txt  Montauban : Son téléphone glisse derrière son lit   \n",
       "3      000000004.txt  Le gouvernement confirme que le bug de l’an 20...   \n",
       "4      000000005.txt  Un homme sauve une famille de la noyade avant ...   \n",
       "...              ...                                                ...   \n",
       "11565  000011566.txt  Affaire Benalla: Corbière s'interroge sur l'ex...   \n",
       "11566  000011567.txt  Municipales : qui sont les maires élus dès le ...   \n",
       "11567  000011568.txt  FN: Louis Aliot a voté contre l'exclusion de J...   \n",
       "11568  000011569.txt  Européennes à EELV: une campagne sous l'oeil d...   \n",
       "11569  000011570.txt  Mieux vaut lutter contre le proxénétisme que c...   \n",
       "\n",
       "       label                                               text    set   \n",
       "0          1  Le mystère de la disparition du chat de la mèr...  train  \\\n",
       "1          1  Toute la semaine, « Le Gorafi » revient sur l’...  train   \n",
       "2          1  Montauban – Un habitant de Montauban a vécu un...  train   \n",
       "3          1  Il aura fallu plus de 13 ans. Treize longues a...  train   \n",
       "4          1  Cela fait partie des petites histoires qui éga...  train   \n",
       "...      ...                                                ...    ...   \n",
       "11565     -1  Invité mercredi matin sur BFMTV, Alexis Corbiè...   test   \n",
       "11566     -1  Le point sur ces maires élus dès le premier to...   test   \n",
       "11567     -1  Cela le consolera-t-il? Non, le compagnon de s...   test   \n",
       "11568     -1  En 2009, Europe Ecologie-Les Verts avait réali...   test   \n",
       "11569     -1  Au cœur de ce débat facilement caricatural, il...   test   \n",
       "\n",
       "       c_count  \n",
       "0         5376  \n",
       "1         3925  \n",
       "2         1669  \n",
       "3         2964  \n",
       "4         3888  \n",
       "...        ...  \n",
       "11565     3462  \n",
       "11566     3598  \n",
       "11567     1513  \n",
       "11568     2389  \n",
       "11569     3111  \n",
       "\n",
       "[11570 rows x 6 columns]"
      ]
     },
     "execution_count": 19,
     "metadata": {},
     "output_type": "execute_result"
    }
   ],
   "source": [
    "df_corpus"
   ]
  },
  {
   "cell_type": "markdown",
   "id": "96a0d4d1",
   "metadata": {},
   "source": [
    "## Expérience de cross validation pour mesurer la performance des modeles\n",
    "`scores = cross_validate(classifier, X, y, cv=5, scoring = metriques)`\n",
    "\n",
    "- `classifier` : Classifier\n",
    "- `X` : Features\n",
    "- `y` : Label cible\n",
    "- `cv` : Nombre de cycle d'entrainement/test\n",
    "- `scoring` : Métriques"
   ]
  },
  {
   "cell_type": "code",
   "execution_count": 25,
   "id": "d6354bcc",
   "metadata": {},
   "outputs": [],
   "source": [
    "_rs=42"
   ]
  },
  {
   "cell_type": "code",
   "execution_count": 26,
   "id": "660d5505",
   "metadata": {},
   "outputs": [],
   "source": [
    "cv=5\n",
    "y = df_corpus['label']"
   ]
  },
  {
   "cell_type": "markdown",
   "id": "6b228cef",
   "metadata": {},
   "source": [
    "## Tfidf \n",
    "Features : `X_tfidf`"
   ]
  },
  {
   "cell_type": "code",
   "execution_count": 27,
   "id": "ee895a79",
   "metadata": {},
   "outputs": [],
   "source": [
    "import re\n",
    "from sklearn.feature_extraction.text import TfidfVectorizer\n",
    "\n",
    "def tokenizer(t):\n",
    "    return re.findall(r'[^\\W\\d][^\\W\\d]+',t)"
   ]
  },
  {
   "cell_type": "code",
   "execution_count": 28,
   "id": "9afd22c2",
   "metadata": {},
   "outputs": [],
   "source": [
    "df_corpus = df_corpus.sample(frac=1,random_state=_rs)"
   ]
  },
  {
   "cell_type": "code",
   "execution_count": 29,
   "id": "ab8cca39",
   "metadata": {},
   "outputs": [],
   "source": [
    "#vectorizer = TfidfVectorizer(stop_words=stopwords, token_pattern=r'[^\\W\\d][^\\W\\d]+')\n",
    "vectorizer = TfidfVectorizer()\n",
    "\n",
    "X_tfidf = vectorizer.fit_transform(df_corpus['text'])"
   ]
  },
  {
   "cell_type": "markdown",
   "id": "ceb37a44",
   "metadata": {},
   "source": [
    "## SKLearn Logistic Regression cross validation"
   ]
  },
  {
   "cell_type": "code",
   "execution_count": 33,
   "id": "2ec0894b",
   "metadata": {},
   "outputs": [],
   "source": [
    "from sklearn.model_selection import cross_validate\n",
    "from sklearn.linear_model import LogisticRegression\n",
    "from sklearn import metrics\n",
    "\n",
    "logreg = LogisticRegression(C=150, random_state=_rs, solver='lbfgs', multi_class='ovr', max_iter=1000)\n",
    "\n",
    "X = X_tfidf\n",
    "\n",
    "pd.set_option('display.precision',4)\n",
    "y = df_corpus['label']\n",
    "scores = cross_validate(logreg, X, y, cv=cv,\n",
    "                    scoring=('accuracy','f1','recall','precision','roc_auc'))    \n",
    "df_scores=pd.DataFrame(scores)\n"
   ]
  },
  {
   "cell_type": "code",
   "execution_count": 34,
   "id": "4bf05a5f",
   "metadata": {},
   "outputs": [
    {
     "data": {
      "text/html": [
       "<div>\n",
       "<style scoped>\n",
       "    .dataframe tbody tr th:only-of-type {\n",
       "        vertical-align: middle;\n",
       "    }\n",
       "\n",
       "    .dataframe tbody tr th {\n",
       "        vertical-align: top;\n",
       "    }\n",
       "\n",
       "    .dataframe thead th {\n",
       "        text-align: right;\n",
       "    }\n",
       "</style>\n",
       "<table border=\"1\" class=\"dataframe\">\n",
       "  <thead>\n",
       "    <tr style=\"text-align: right;\">\n",
       "      <th></th>\n",
       "      <th>fit_time</th>\n",
       "      <th>score_time</th>\n",
       "      <th>test_accuracy</th>\n",
       "      <th>test_f1</th>\n",
       "      <th>test_recall</th>\n",
       "      <th>test_precision</th>\n",
       "      <th>test_roc_auc</th>\n",
       "    </tr>\n",
       "  </thead>\n",
       "  <tbody>\n",
       "    <tr>\n",
       "      <th>0</th>\n",
       "      <td>1.4039</td>\n",
       "      <td>0.0050</td>\n",
       "      <td>0.9650</td>\n",
       "      <td>0.9654</td>\n",
       "      <td>0.9527</td>\n",
       "      <td>0.9783</td>\n",
       "      <td>0.9947</td>\n",
       "    </tr>\n",
       "    <tr>\n",
       "      <th>1</th>\n",
       "      <td>1.0469</td>\n",
       "      <td>0.0053</td>\n",
       "      <td>0.9663</td>\n",
       "      <td>0.9669</td>\n",
       "      <td>0.9620</td>\n",
       "      <td>0.9719</td>\n",
       "      <td>0.9944</td>\n",
       "    </tr>\n",
       "    <tr>\n",
       "      <th>2</th>\n",
       "      <td>1.7340</td>\n",
       "      <td>0.0049</td>\n",
       "      <td>0.9667</td>\n",
       "      <td>0.9674</td>\n",
       "      <td>0.9662</td>\n",
       "      <td>0.9687</td>\n",
       "      <td>0.9948</td>\n",
       "    </tr>\n",
       "    <tr>\n",
       "      <th>3</th>\n",
       "      <td>1.6247</td>\n",
       "      <td>0.0050</td>\n",
       "      <td>0.9672</td>\n",
       "      <td>0.9676</td>\n",
       "      <td>0.9578</td>\n",
       "      <td>0.9776</td>\n",
       "      <td>0.9956</td>\n",
       "    </tr>\n",
       "    <tr>\n",
       "      <th>4</th>\n",
       "      <td>2.0363</td>\n",
       "      <td>0.0050</td>\n",
       "      <td>0.9624</td>\n",
       "      <td>0.9630</td>\n",
       "      <td>0.9569</td>\n",
       "      <td>0.9692</td>\n",
       "      <td>0.9949</td>\n",
       "    </tr>\n",
       "  </tbody>\n",
       "</table>\n",
       "</div>"
      ],
      "text/plain": [
       "   fit_time  score_time  test_accuracy  test_f1  test_recall  test_precision   \n",
       "0    1.4039      0.0050         0.9650   0.9654       0.9527          0.9783  \\\n",
       "1    1.0469      0.0053         0.9663   0.9669       0.9620          0.9719   \n",
       "2    1.7340      0.0049         0.9667   0.9674       0.9662          0.9687   \n",
       "3    1.6247      0.0050         0.9672   0.9676       0.9578          0.9776   \n",
       "4    2.0363      0.0050         0.9624   0.9630       0.9569          0.9692   \n",
       "\n",
       "   test_roc_auc  \n",
       "0        0.9947  \n",
       "1        0.9944  \n",
       "2        0.9948  \n",
       "3        0.9956  \n",
       "4        0.9949  "
      ]
     },
     "execution_count": 34,
     "metadata": {},
     "output_type": "execute_result"
    }
   ],
   "source": [
    "df_scores"
   ]
  },
  {
   "cell_type": "code",
   "execution_count": 41,
   "id": "b05b28c7",
   "metadata": {},
   "outputs": [
    {
     "data": {
      "text/plain": [
       "<Axes: >"
      ]
     },
     "execution_count": 41,
     "metadata": {},
     "output_type": "execute_result"
    },
    {
     "data": {
      "image/png": "[encoded data removed]",
      "text/plain": [
       "<Figure size 640x480 with 1 Axes>"
      ]
     },
     "metadata": {},
     "output_type": "display_data"
    }
   ],
   "source": [
    "sns.scatterplot(df_scores[['test_accuracy','test_f1','test_recall','test_precision','test_roc_auc']].T)"
   ]
  },
  {
   "cell_type": "code",
   "execution_count": 35,
   "id": "3e610420",
   "metadata": {},
   "outputs": [
    {
     "data": {
      "text/plain": [
       "fit_time          1.5691\n",
       "score_time        0.0050\n",
       "test_accuracy     0.9655\n",
       "test_f1           0.9661\n",
       "test_recall       0.9591\n",
       "test_precision    0.9731\n",
       "test_roc_auc      0.9949\n",
       "dtype: float64"
      ]
     },
     "execution_count": 35,
     "metadata": {},
     "output_type": "execute_result"
    }
   ],
   "source": [
    "df_scores.mean()"
   ]
  },
  {
   "cell_type": "markdown",
   "id": "48291636",
   "metadata": {},
   "source": [
    "## Patat Benchmark"
   ]
  },
  {
   "cell_type": "code",
   "execution_count": 42,
   "id": "042ed173",
   "metadata": {},
   "outputs": [],
   "source": [
    "import logging"
   ]
  },
  {
   "cell_type": "code",
   "execution_count": 44,
   "id": "fa9d6003",
   "metadata": {},
   "outputs": [],
   "source": [
    "logging.getLogger().setLevel(logging.INFO)"
   ]
  },
  {
   "cell_type": "code",
   "execution_count": 45,
   "id": "87ae1ecc",
   "metadata": {},
   "outputs": [],
   "source": [
    "import patat.ml.benchmark"
   ]
  },
  {
   "cell_type": "code",
   "execution_count": 46,
   "id": "bb5ec85a",
   "metadata": {},
   "outputs": [],
   "source": [
    "bench = patat.ml.benchmark.Benchmark()"
   ]
  },
  {
   "cell_type": "code",
   "execution_count": 47,
   "id": "cdb03b8c",
   "metadata": {},
   "outputs": [
    {
     "name": "stderr",
     "output_type": "stream",
     "text": [
      "INFO:root:Training Logistic Regression\n",
      "INFO:root:Training time : 0.620936393737793 s\n",
      "INFO:root:Training Neural Network\n",
      "INFO:root:Training time : 42.134769916534424 s\n",
      "INFO:root:Training RBF SVM\n",
      "INFO:root:Training time : 440.7806520462036 s\n",
      "INFO:root:Training Gaussian Naive Bayes\n"
     ]
    },
    {
     "ename": "TypeError",
     "evalue": "A sparse matrix was passed, but dense data is required. Use X.toarray() to convert to a dense numpy array.",
     "output_type": "error",
     "traceback": [
      "\u001b[0;31m---------------------------------------------------------------------------\u001b[0m",
      "\u001b[0;31mTypeError\u001b[0m                                 Traceback (most recent call last)",
      "Cell \u001b[0;32mIn[47], line 1\u001b[0m\n\u001b[0;32m----> 1\u001b[0m bench_results \u001b[38;5;241m=\u001b[39m \u001b[43mbench\u001b[49m\u001b[38;5;241;43m.\u001b[39;49m\u001b[43mbenchmark\u001b[49m\u001b[43m(\u001b[49m\u001b[43mX_tfidf\u001b[49m\u001b[43m,\u001b[49m\u001b[43my\u001b[49m\u001b[43m)\u001b[49m\n",
      "File \u001b[0;32m/Volumes/Geek/Work/Patat/patat/ml/benchmark.py:74\u001b[0m, in \u001b[0;36mBenchmark.benchmark\u001b[0;34m(self, df_X, y, train_size, predictors, random_state)\u001b[0m\n\u001b[1;32m     72\u001b[0m logging\u001b[38;5;241m.\u001b[39minfo(\u001b[38;5;124mf\u001b[39m\u001b[38;5;124m'\u001b[39m\u001b[38;5;124mTraining \u001b[39m\u001b[38;5;132;01m{\u001b[39;00mname\u001b[38;5;132;01m}\u001b[39;00m\u001b[38;5;124m'\u001b[39m)            \n\u001b[1;32m     73\u001b[0m start \u001b[38;5;241m=\u001b[39m time\u001b[38;5;241m.\u001b[39mtime()\n\u001b[0;32m---> 74\u001b[0m \u001b[43mclassifier\u001b[49m\u001b[38;5;241;43m.\u001b[39;49m\u001b[43mfit\u001b[49m\u001b[43m(\u001b[49m\u001b[43mX_train\u001b[49m\u001b[43m,\u001b[49m\u001b[43m \u001b[49m\u001b[43my_train\u001b[49m\u001b[43m)\u001b[49m\n\u001b[1;32m     75\u001b[0m stop \u001b[38;5;241m=\u001b[39m time\u001b[38;5;241m.\u001b[39mtime()\n\u001b[1;32m     76\u001b[0m fit_times[name] \u001b[38;5;241m=\u001b[39m stop \u001b[38;5;241m-\u001b[39m start\n",
      "File \u001b[0;32m/opt/homebrew/Caskroom/miniforge/base/envs/pt310/lib/python3.10/site-packages/sklearn/naive_bayes.py:267\u001b[0m, in \u001b[0;36mGaussianNB.fit\u001b[0;34m(self, X, y, sample_weight)\u001b[0m\n\u001b[1;32m    265\u001b[0m \u001b[38;5;28mself\u001b[39m\u001b[38;5;241m.\u001b[39m_validate_params()\n\u001b[1;32m    266\u001b[0m y \u001b[38;5;241m=\u001b[39m \u001b[38;5;28mself\u001b[39m\u001b[38;5;241m.\u001b[39m_validate_data(y\u001b[38;5;241m=\u001b[39my)\n\u001b[0;32m--> 267\u001b[0m \u001b[38;5;28;01mreturn\u001b[39;00m \u001b[38;5;28;43mself\u001b[39;49m\u001b[38;5;241;43m.\u001b[39;49m\u001b[43m_partial_fit\u001b[49m\u001b[43m(\u001b[49m\n\u001b[1;32m    268\u001b[0m \u001b[43m    \u001b[49m\u001b[43mX\u001b[49m\u001b[43m,\u001b[49m\u001b[43m \u001b[49m\u001b[43my\u001b[49m\u001b[43m,\u001b[49m\u001b[43m \u001b[49m\u001b[43mnp\u001b[49m\u001b[38;5;241;43m.\u001b[39;49m\u001b[43munique\u001b[49m\u001b[43m(\u001b[49m\u001b[43my\u001b[49m\u001b[43m)\u001b[49m\u001b[43m,\u001b[49m\u001b[43m \u001b[49m\u001b[43m_refit\u001b[49m\u001b[38;5;241;43m=\u001b[39;49m\u001b[38;5;28;43;01mTrue\u001b[39;49;00m\u001b[43m,\u001b[49m\u001b[43m \u001b[49m\u001b[43msample_weight\u001b[49m\u001b[38;5;241;43m=\u001b[39;49m\u001b[43msample_weight\u001b[49m\n\u001b[1;32m    269\u001b[0m \u001b[43m\u001b[49m\u001b[43m)\u001b[49m\n",
      "File \u001b[0;32m/opt/homebrew/Caskroom/miniforge/base/envs/pt310/lib/python3.10/site-packages/sklearn/naive_bayes.py:428\u001b[0m, in \u001b[0;36mGaussianNB._partial_fit\u001b[0;34m(self, X, y, classes, _refit, sample_weight)\u001b[0m\n\u001b[1;32m    425\u001b[0m     \u001b[38;5;28mself\u001b[39m\u001b[38;5;241m.\u001b[39mclasses_ \u001b[38;5;241m=\u001b[39m \u001b[38;5;28;01mNone\u001b[39;00m\n\u001b[1;32m    427\u001b[0m first_call \u001b[38;5;241m=\u001b[39m _check_partial_fit_first_call(\u001b[38;5;28mself\u001b[39m, classes)\n\u001b[0;32m--> 428\u001b[0m X, y \u001b[38;5;241m=\u001b[39m \u001b[38;5;28;43mself\u001b[39;49m\u001b[38;5;241;43m.\u001b[39;49m\u001b[43m_validate_data\u001b[49m\u001b[43m(\u001b[49m\u001b[43mX\u001b[49m\u001b[43m,\u001b[49m\u001b[43m \u001b[49m\u001b[43my\u001b[49m\u001b[43m,\u001b[49m\u001b[43m \u001b[49m\u001b[43mreset\u001b[49m\u001b[38;5;241;43m=\u001b[39;49m\u001b[43mfirst_call\u001b[49m\u001b[43m)\u001b[49m\n\u001b[1;32m    429\u001b[0m \u001b[38;5;28;01mif\u001b[39;00m sample_weight \u001b[38;5;129;01mis\u001b[39;00m \u001b[38;5;129;01mnot\u001b[39;00m \u001b[38;5;28;01mNone\u001b[39;00m:\n\u001b[1;32m    430\u001b[0m     sample_weight \u001b[38;5;241m=\u001b[39m _check_sample_weight(sample_weight, X)\n",
      "File \u001b[0;32m/opt/homebrew/Caskroom/miniforge/base/envs/pt310/lib/python3.10/site-packages/sklearn/base.py:584\u001b[0m, in \u001b[0;36mBaseEstimator._validate_data\u001b[0;34m(self, X, y, reset, validate_separately, **check_params)\u001b[0m\n\u001b[1;32m    582\u001b[0m         y \u001b[38;5;241m=\u001b[39m check_array(y, input_name\u001b[38;5;241m=\u001b[39m\u001b[38;5;124m\"\u001b[39m\u001b[38;5;124my\u001b[39m\u001b[38;5;124m\"\u001b[39m, \u001b[38;5;241m*\u001b[39m\u001b[38;5;241m*\u001b[39mcheck_y_params)\n\u001b[1;32m    583\u001b[0m     \u001b[38;5;28;01melse\u001b[39;00m:\n\u001b[0;32m--> 584\u001b[0m         X, y \u001b[38;5;241m=\u001b[39m \u001b[43mcheck_X_y\u001b[49m\u001b[43m(\u001b[49m\u001b[43mX\u001b[49m\u001b[43m,\u001b[49m\u001b[43m \u001b[49m\u001b[43my\u001b[49m\u001b[43m,\u001b[49m\u001b[43m \u001b[49m\u001b[38;5;241;43m*\u001b[39;49m\u001b[38;5;241;43m*\u001b[39;49m\u001b[43mcheck_params\u001b[49m\u001b[43m)\u001b[49m\n\u001b[1;32m    585\u001b[0m     out \u001b[38;5;241m=\u001b[39m X, y\n\u001b[1;32m    587\u001b[0m \u001b[38;5;28;01mif\u001b[39;00m \u001b[38;5;129;01mnot\u001b[39;00m no_val_X \u001b[38;5;129;01mand\u001b[39;00m check_params\u001b[38;5;241m.\u001b[39mget(\u001b[38;5;124m\"\u001b[39m\u001b[38;5;124mensure_2d\u001b[39m\u001b[38;5;124m\"\u001b[39m, \u001b[38;5;28;01mTrue\u001b[39;00m):\n",
      "File \u001b[0;32m/opt/homebrew/Caskroom/miniforge/base/envs/pt310/lib/python3.10/site-packages/sklearn/utils/validation.py:1106\u001b[0m, in \u001b[0;36mcheck_X_y\u001b[0;34m(X, y, accept_sparse, accept_large_sparse, dtype, order, copy, force_all_finite, ensure_2d, allow_nd, multi_output, ensure_min_samples, ensure_min_features, y_numeric, estimator)\u001b[0m\n\u001b[1;32m   1101\u001b[0m         estimator_name \u001b[38;5;241m=\u001b[39m _check_estimator_name(estimator)\n\u001b[1;32m   1102\u001b[0m     \u001b[38;5;28;01mraise\u001b[39;00m \u001b[38;5;167;01mValueError\u001b[39;00m(\n\u001b[1;32m   1103\u001b[0m         \u001b[38;5;124mf\u001b[39m\u001b[38;5;124m\"\u001b[39m\u001b[38;5;132;01m{\u001b[39;00mestimator_name\u001b[38;5;132;01m}\u001b[39;00m\u001b[38;5;124m requires y to be passed, but the target y is None\u001b[39m\u001b[38;5;124m\"\u001b[39m\n\u001b[1;32m   1104\u001b[0m     )\n\u001b[0;32m-> 1106\u001b[0m X \u001b[38;5;241m=\u001b[39m \u001b[43mcheck_array\u001b[49m\u001b[43m(\u001b[49m\n\u001b[1;32m   1107\u001b[0m \u001b[43m    \u001b[49m\u001b[43mX\u001b[49m\u001b[43m,\u001b[49m\n\u001b[1;32m   1108\u001b[0m \u001b[43m    \u001b[49m\u001b[43maccept_sparse\u001b[49m\u001b[38;5;241;43m=\u001b[39;49m\u001b[43maccept_sparse\u001b[49m\u001b[43m,\u001b[49m\n\u001b[1;32m   1109\u001b[0m \u001b[43m    \u001b[49m\u001b[43maccept_large_sparse\u001b[49m\u001b[38;5;241;43m=\u001b[39;49m\u001b[43maccept_large_sparse\u001b[49m\u001b[43m,\u001b[49m\n\u001b[1;32m   1110\u001b[0m \u001b[43m    \u001b[49m\u001b[43mdtype\u001b[49m\u001b[38;5;241;43m=\u001b[39;49m\u001b[43mdtype\u001b[49m\u001b[43m,\u001b[49m\n\u001b[1;32m   1111\u001b[0m \u001b[43m    \u001b[49m\u001b[43morder\u001b[49m\u001b[38;5;241;43m=\u001b[39;49m\u001b[43morder\u001b[49m\u001b[43m,\u001b[49m\n\u001b[1;32m   1112\u001b[0m \u001b[43m    \u001b[49m\u001b[43mcopy\u001b[49m\u001b[38;5;241;43m=\u001b[39;49m\u001b[43mcopy\u001b[49m\u001b[43m,\u001b[49m\n\u001b[1;32m   1113\u001b[0m \u001b[43m    \u001b[49m\u001b[43mforce_all_finite\u001b[49m\u001b[38;5;241;43m=\u001b[39;49m\u001b[43mforce_all_finite\u001b[49m\u001b[43m,\u001b[49m\n\u001b[1;32m   1114\u001b[0m \u001b[43m    \u001b[49m\u001b[43mensure_2d\u001b[49m\u001b[38;5;241;43m=\u001b[39;49m\u001b[43mensure_2d\u001b[49m\u001b[43m,\u001b[49m\n\u001b[1;32m   1115\u001b[0m \u001b[43m    \u001b[49m\u001b[43mallow_nd\u001b[49m\u001b[38;5;241;43m=\u001b[39;49m\u001b[43mallow_nd\u001b[49m\u001b[43m,\u001b[49m\n\u001b[1;32m   1116\u001b[0m \u001b[43m    \u001b[49m\u001b[43mensure_min_samples\u001b[49m\u001b[38;5;241;43m=\u001b[39;49m\u001b[43mensure_min_samples\u001b[49m\u001b[43m,\u001b[49m\n\u001b[1;32m   1117\u001b[0m \u001b[43m    \u001b[49m\u001b[43mensure_min_features\u001b[49m\u001b[38;5;241;43m=\u001b[39;49m\u001b[43mensure_min_features\u001b[49m\u001b[43m,\u001b[49m\n\u001b[1;32m   1118\u001b[0m \u001b[43m    \u001b[49m\u001b[43mestimator\u001b[49m\u001b[38;5;241;43m=\u001b[39;49m\u001b[43mestimator\u001b[49m\u001b[43m,\u001b[49m\n\u001b[1;32m   1119\u001b[0m \u001b[43m    \u001b[49m\u001b[43minput_name\u001b[49m\u001b[38;5;241;43m=\u001b[39;49m\u001b[38;5;124;43m\"\u001b[39;49m\u001b[38;5;124;43mX\u001b[39;49m\u001b[38;5;124;43m\"\u001b[39;49m\u001b[43m,\u001b[49m\n\u001b[1;32m   1120\u001b[0m \u001b[43m\u001b[49m\u001b[43m)\u001b[49m\n\u001b[1;32m   1122\u001b[0m y \u001b[38;5;241m=\u001b[39m _check_y(y, multi_output\u001b[38;5;241m=\u001b[39mmulti_output, y_numeric\u001b[38;5;241m=\u001b[39my_numeric, estimator\u001b[38;5;241m=\u001b[39mestimator)\n\u001b[1;32m   1124\u001b[0m check_consistent_length(X, y)\n",
      "File \u001b[0;32m/opt/homebrew/Caskroom/miniforge/base/envs/pt310/lib/python3.10/site-packages/sklearn/utils/validation.py:845\u001b[0m, in \u001b[0;36mcheck_array\u001b[0;34m(array, accept_sparse, accept_large_sparse, dtype, order, copy, force_all_finite, ensure_2d, allow_nd, ensure_min_samples, ensure_min_features, estimator, input_name)\u001b[0m\n\u001b[1;32m    843\u001b[0m \u001b[38;5;28;01mif\u001b[39;00m sp\u001b[38;5;241m.\u001b[39missparse(array):\n\u001b[1;32m    844\u001b[0m     _ensure_no_complex_data(array)\n\u001b[0;32m--> 845\u001b[0m     array \u001b[38;5;241m=\u001b[39m \u001b[43m_ensure_sparse_format\u001b[49m\u001b[43m(\u001b[49m\n\u001b[1;32m    846\u001b[0m \u001b[43m        \u001b[49m\u001b[43marray\u001b[49m\u001b[43m,\u001b[49m\n\u001b[1;32m    847\u001b[0m \u001b[43m        \u001b[49m\u001b[43maccept_sparse\u001b[49m\u001b[38;5;241;43m=\u001b[39;49m\u001b[43maccept_sparse\u001b[49m\u001b[43m,\u001b[49m\n\u001b[1;32m    848\u001b[0m \u001b[43m        \u001b[49m\u001b[43mdtype\u001b[49m\u001b[38;5;241;43m=\u001b[39;49m\u001b[43mdtype\u001b[49m\u001b[43m,\u001b[49m\n\u001b[1;32m    849\u001b[0m \u001b[43m        \u001b[49m\u001b[43mcopy\u001b[49m\u001b[38;5;241;43m=\u001b[39;49m\u001b[43mcopy\u001b[49m\u001b[43m,\u001b[49m\n\u001b[1;32m    850\u001b[0m \u001b[43m        \u001b[49m\u001b[43mforce_all_finite\u001b[49m\u001b[38;5;241;43m=\u001b[39;49m\u001b[43mforce_all_finite\u001b[49m\u001b[43m,\u001b[49m\n\u001b[1;32m    851\u001b[0m \u001b[43m        \u001b[49m\u001b[43maccept_large_sparse\u001b[49m\u001b[38;5;241;43m=\u001b[39;49m\u001b[43maccept_large_sparse\u001b[49m\u001b[43m,\u001b[49m\n\u001b[1;32m    852\u001b[0m \u001b[43m        \u001b[49m\u001b[43mestimator_name\u001b[49m\u001b[38;5;241;43m=\u001b[39;49m\u001b[43mestimator_name\u001b[49m\u001b[43m,\u001b[49m\n\u001b[1;32m    853\u001b[0m \u001b[43m        \u001b[49m\u001b[43minput_name\u001b[49m\u001b[38;5;241;43m=\u001b[39;49m\u001b[43minput_name\u001b[49m\u001b[43m,\u001b[49m\n\u001b[1;32m    854\u001b[0m \u001b[43m    \u001b[49m\u001b[43m)\u001b[49m\n\u001b[1;32m    855\u001b[0m \u001b[38;5;28;01melse\u001b[39;00m:\n\u001b[1;32m    856\u001b[0m     \u001b[38;5;66;03m# If np.array(..) gives ComplexWarning, then we convert the warning\u001b[39;00m\n\u001b[1;32m    857\u001b[0m     \u001b[38;5;66;03m# to an error. This is needed because specifying a non complex\u001b[39;00m\n\u001b[1;32m    858\u001b[0m     \u001b[38;5;66;03m# dtype to the function converts complex to real dtype,\u001b[39;00m\n\u001b[1;32m    859\u001b[0m     \u001b[38;5;66;03m# thereby passing the test made in the lines following the scope\u001b[39;00m\n\u001b[1;32m    860\u001b[0m     \u001b[38;5;66;03m# of warnings context manager.\u001b[39;00m\n\u001b[1;32m    861\u001b[0m     \u001b[38;5;28;01mwith\u001b[39;00m warnings\u001b[38;5;241m.\u001b[39mcatch_warnings():\n",
      "File \u001b[0;32m/opt/homebrew/Caskroom/miniforge/base/envs/pt310/lib/python3.10/site-packages/sklearn/utils/validation.py:522\u001b[0m, in \u001b[0;36m_ensure_sparse_format\u001b[0;34m(spmatrix, accept_sparse, dtype, copy, force_all_finite, accept_large_sparse, estimator_name, input_name)\u001b[0m\n\u001b[1;32m    519\u001b[0m _check_large_sparse(spmatrix, accept_large_sparse)\n\u001b[1;32m    521\u001b[0m \u001b[38;5;28;01mif\u001b[39;00m accept_sparse \u001b[38;5;129;01mis\u001b[39;00m \u001b[38;5;28;01mFalse\u001b[39;00m:\n\u001b[0;32m--> 522\u001b[0m     \u001b[38;5;28;01mraise\u001b[39;00m \u001b[38;5;167;01mTypeError\u001b[39;00m(\n\u001b[1;32m    523\u001b[0m         \u001b[38;5;124m\"\u001b[39m\u001b[38;5;124mA sparse matrix was passed, but dense \u001b[39m\u001b[38;5;124m\"\u001b[39m\n\u001b[1;32m    524\u001b[0m         \u001b[38;5;124m\"\u001b[39m\u001b[38;5;124mdata is required. Use X.toarray() to \u001b[39m\u001b[38;5;124m\"\u001b[39m\n\u001b[1;32m    525\u001b[0m         \u001b[38;5;124m\"\u001b[39m\u001b[38;5;124mconvert to a dense numpy array.\u001b[39m\u001b[38;5;124m\"\u001b[39m\n\u001b[1;32m    526\u001b[0m     )\n\u001b[1;32m    527\u001b[0m \u001b[38;5;28;01melif\u001b[39;00m \u001b[38;5;28misinstance\u001b[39m(accept_sparse, (\u001b[38;5;28mlist\u001b[39m, \u001b[38;5;28mtuple\u001b[39m)):\n\u001b[1;32m    528\u001b[0m     \u001b[38;5;28;01mif\u001b[39;00m \u001b[38;5;28mlen\u001b[39m(accept_sparse) \u001b[38;5;241m==\u001b[39m \u001b[38;5;241m0\u001b[39m:\n",
      "\u001b[0;31mTypeError\u001b[0m: A sparse matrix was passed, but dense data is required. Use X.toarray() to convert to a dense numpy array."
     ]
    }
   ],
   "source": [
    "bench_results = bench.benchmark(X_tfidf,y)"
   ]
  },
  {
   "cell_type": "markdown",
   "id": "76996d3a",
   "metadata": {},
   "source": [
    "# Sauvegarde des résultats\n",
    "---"
   ]
  },
  {
   "cell_type": "code",
   "execution_count": null,
   "id": "7aa2f92b",
   "metadata": {},
   "outputs": [],
   "source": []
  },
  {
   "cell_type": "markdown",
   "id": "fb7949bc",
   "metadata": {},
   "source": [
    "# Conclusions\n",
    "---"
   ]
  },
  {
   "cell_type": "markdown",
   "id": "bd360655",
   "metadata": {},
   "source": [
    "# Bricolages\n",
    "---"
   ]
  },
  {
   "cell_type": "code",
   "execution_count": null,
   "id": "7dcb07b2",
   "metadata": {},
   "outputs": [],
   "source": []
  }
 ],
 "metadata": {
  "kernelspec": {
   "display_name": "Python 3 (ipykernel)",
   "language": "python",
   "name": "python3"
  },
  "language_info": {
   "codemirror_mode": {
    "name": "ipython",
    "version": 3
   },
   "file_extension": ".py",
   "mimetype": "text/x-python",
   "name": "python",
   "nbconvert_exporter": "python",
   "pygments_lexer": "ipython3",
   "version": "3.10.11"
  }
 },
 "nbformat": 4,
 "nbformat_minor": 5
}
