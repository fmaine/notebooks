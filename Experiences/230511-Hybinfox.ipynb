{
 "cells": [
  {
   "cell_type": "markdown",
   "id": "e3ec4689",
   "metadata": {},
   "source": [
    "# Plateforme Agnostique de Traitement et d'Analyse des Textes\n",
    "### Carnet d'expérimentation\n",
    "---\n",
    "\n",
    "## Sujet : Hybrinfox\n",
    "\n",
    "---"
   ]
  },
  {
   "cell_type": "markdown",
   "id": "2601e626",
   "metadata": {},
   "source": [
    "# Observations et environnement\n",
    "---"
   ]
  },
  {
   "cell_type": "markdown",
   "id": "85c0f3b8",
   "metadata": {},
   "source": [
    "## Environnement"
   ]
  },
  {
   "cell_type": "code",
   "execution_count": 1,
   "id": "525fef74",
   "metadata": {},
   "outputs": [],
   "source": [
    "random_state = 42"
   ]
  },
  {
   "cell_type": "code",
   "execution_count": 2,
   "id": "5d0de4d7",
   "metadata": {},
   "outputs": [
    {
     "name": "stdout",
     "output_type": "stream",
     "text": [
      "/Volumes/Geek/Work/Patat\n"
     ]
    }
   ],
   "source": [
    "cd ../.."
   ]
  },
  {
   "cell_type": "code",
   "execution_count": 3,
   "id": "32256b0d",
   "metadata": {},
   "outputs": [],
   "source": [
    "import ast\n",
    "import importlib\n",
    "import pandas as pd\n",
    "import seaborn as sns\n",
    "from tqdm.notebook import tqdm\n",
    "tqdm.pandas()"
   ]
  },
  {
   "cell_type": "markdown",
   "id": "4b0b7201",
   "metadata": {},
   "source": [
    "## Données"
   ]
  },
  {
   "cell_type": "code",
   "execution_count": 6,
   "id": "d491fcb3",
   "metadata": {},
   "outputs": [],
   "source": [
    "df_sobrevol = pd.read_csv('data/Corpus_VAGO/sobrevol.csv')\n",
    "\n",
    "df_oulimon = pd.read_csv('data/Corpus_VAGO/oulimon.csv')"
   ]
  },
  {
   "cell_type": "markdown",
   "id": "6b548bc6",
   "metadata": {},
   "source": [
    "# Experience\n",
    "---"
   ]
  },
  {
   "cell_type": "markdown",
   "id": "a306ba37",
   "metadata": {},
   "source": [
    "## Parsing Oulimon"
   ]
  },
  {
   "cell_type": "code",
   "execution_count": 18,
   "id": "99a0d671",
   "metadata": {},
   "outputs": [
    {
     "data": {
      "text/html": [
       "<div>\n",
       "<style scoped>\n",
       "    .dataframe tbody tr th:only-of-type {\n",
       "        vertical-align: middle;\n",
       "    }\n",
       "\n",
       "    .dataframe tbody tr th {\n",
       "        vertical-align: top;\n",
       "    }\n",
       "\n",
       "    .dataframe thead th {\n",
       "        text-align: right;\n",
       "    }\n",
       "</style>\n",
       "<table border=\"1\" class=\"dataframe\">\n",
       "  <thead>\n",
       "    <tr style=\"text-align: right;\">\n",
       "      <th></th>\n",
       "      <th>Unnamed: 0</th>\n",
       "      <th>Source</th>\n",
       "      <th>Type</th>\n",
       "      <th>Titre</th>\n",
       "      <th>Description</th>\n",
       "      <th>URL</th>\n",
       "      <th>Contenu</th>\n",
       "      <th>Unnamed: 6</th>\n",
       "      <th>Resultats bruts</th>\n",
       "      <th>Nb_phrase_CAM</th>\n",
       "      <th>meanratiopv</th>\n",
       "      <th>meanratiovague</th>\n",
       "      <th>meanratioopinion</th>\n",
       "      <th>Nb_phrase_pre</th>\n",
       "    </tr>\n",
       "  </thead>\n",
       "  <tbody>\n",
       "    <tr>\n",
       "      <th>0</th>\n",
       "      <td>0</td>\n",
       "      <td>LeMonde</td>\n",
       "      <td>Actualités</td>\n",
       "      <td>La CGT devance FO et la CFDT dans la fonction ...</td>\n",
       "      <td>Les élections professionnelles, du 1er au 8 dé...</td>\n",
       "      <td>https://www.lemonde.fr/politique/article/2022/...</td>\n",
       "      <td>La CGT devance FO et la CFDT dans la fonction ...</td>\n",
       "      <td>NaN</td>\n",
       "      <td>\"document\": { \"vagueSentencesCounter\": \"11\", \"...</td>\n",
       "      <td>19</td>\n",
       "      <td>0.226316</td>\n",
       "      <td>0.578947</td>\n",
       "      <td>0.421053</td>\n",
       "      <td>20.0</td>\n",
       "    </tr>\n",
       "    <tr>\n",
       "      <th>1</th>\n",
       "      <td>1</td>\n",
       "      <td>LeMonde</td>\n",
       "      <td>Actualités</td>\n",
       "      <td>A Paris, les tiers-lieux permettent aux artist...</td>\n",
       "      <td>L’ouverture d’une friche culturelle baptisée C...</td>\n",
       "      <td>https://www.lemonde.fr/culture/article/2022/12...</td>\n",
       "      <td>A Paris, les tiers-lieux permettent aux artist...</td>\n",
       "      <td>NaN</td>\n",
       "      <td>document\": { \"vagueSentencesCounter\": \"10\", \"o...</td>\n",
       "      <td>18</td>\n",
       "      <td>0.200337</td>\n",
       "      <td>0.555556</td>\n",
       "      <td>0.388889</td>\n",
       "      <td>20.0</td>\n",
       "    </tr>\n",
       "    <tr>\n",
       "      <th>2</th>\n",
       "      <td>2</td>\n",
       "      <td>LeMonde</td>\n",
       "      <td>Actualités</td>\n",
       "      <td>« L’organisation de La France insoumise permet...</td>\n",
       "      <td>Les critiques internes sur le « verrouillage »...</td>\n",
       "      <td>https://www.lemonde.fr/politique/article/2022/...</td>\n",
       "      <td>« L’organisation de La France insoumise permet...</td>\n",
       "      <td>NaN</td>\n",
       "      <td>document\": { \"vagueSentencesCounter\": \"11\", \"o...</td>\n",
       "      <td>17</td>\n",
       "      <td>0.279412</td>\n",
       "      <td>0.647059</td>\n",
       "      <td>0.470588</td>\n",
       "      <td>20.0</td>\n",
       "    </tr>\n",
       "    <tr>\n",
       "      <th>3</th>\n",
       "      <td>3</td>\n",
       "      <td>LeMonde</td>\n",
       "      <td>Actualités</td>\n",
       "      <td>Les grandes lignes de la future loi de program...</td>\n",
       "      <td>Emmanuel Macron s’apprête à rendre des arbitra...</td>\n",
       "      <td>https://www.lemonde.fr/politique/article/2022/...</td>\n",
       "      <td>Les grandes lignes de la future loi de program...</td>\n",
       "      <td>NaN</td>\n",
       "      <td>\"document\": { \"vagueSentencesCounter\": \"12\", \"...</td>\n",
       "      <td>18</td>\n",
       "      <td>0.169192</td>\n",
       "      <td>0.666667</td>\n",
       "      <td>0.444444</td>\n",
       "      <td>20.0</td>\n",
       "    </tr>\n",
       "    <tr>\n",
       "      <th>4</th>\n",
       "      <td>4</td>\n",
       "      <td>LeMonde</td>\n",
       "      <td>Actualités</td>\n",
       "      <td>Denys Chmyhal, premier ministre ukrainien : « ...</td>\n",
       "      <td>Le dirigeant était à Paris à l’occasion de deu...</td>\n",
       "      <td>https://www.lemonde.fr/international/article/2...</td>\n",
       "      <td>Denys Chmyhal, premier ministre ukrainien : « ...</td>\n",
       "      <td>NaN</td>\n",
       "      <td>document\": { \"vagueSentencesCounter\": \"12\", \"o...</td>\n",
       "      <td>17</td>\n",
       "      <td>0.331232</td>\n",
       "      <td>0.705882</td>\n",
       "      <td>0.647059</td>\n",
       "      <td>21.0</td>\n",
       "    </tr>\n",
       "    <tr>\n",
       "      <th>...</th>\n",
       "      <td>...</td>\n",
       "      <td>...</td>\n",
       "      <td>...</td>\n",
       "      <td>...</td>\n",
       "      <td>...</td>\n",
       "      <td>...</td>\n",
       "      <td>...</td>\n",
       "      <td>...</td>\n",
       "      <td>...</td>\n",
       "      <td>...</td>\n",
       "      <td>...</td>\n",
       "      <td>...</td>\n",
       "      <td>...</td>\n",
       "      <td>...</td>\n",
       "    </tr>\n",
       "    <tr>\n",
       "      <th>115</th>\n",
       "      <td>115</td>\n",
       "      <td>OuestFrance</td>\n",
       "      <td>Actualités</td>\n",
       "      <td>Pourquoi la Chine ne deviendra pas la plus gra...</td>\n",
       "      <td>Le PIB chinois pourrait finalement ne pas dépa...</td>\n",
       "      <td>https://www.ouest-france.fr/economie/pourquoi-...</td>\n",
       "      <td>Les économistes ne savaient pas exactement qua...</td>\n",
       "      <td>NaN</td>\n",
       "      <td>document\": { \"vagueSentencesCounter\": \"9\", \"op...</td>\n",
       "      <td>17</td>\n",
       "      <td>0.290196</td>\n",
       "      <td>0.529412</td>\n",
       "      <td>0.411765</td>\n",
       "      <td>NaN</td>\n",
       "    </tr>\n",
       "    <tr>\n",
       "      <th>116</th>\n",
       "      <td>116</td>\n",
       "      <td>OuestFrance</td>\n",
       "      <td>Actualités</td>\n",
       "      <td>Allemagne. Une ex-secrétaire de camp nazi réce...</td>\n",
       "      <td>En Allemagne, une ancienne secrétaire d’un cam...</td>\n",
       "      <td>https://www.ouest-france.fr/europe/allemagne/a...</td>\n",
       "      <td>Une ancienne secrétaire d’un camp de concentra...</td>\n",
       "      <td>NaN</td>\n",
       "      <td>document\": { \"vagueSentencesCounter\": \"7\", \"op...</td>\n",
       "      <td>15</td>\n",
       "      <td>0.223175</td>\n",
       "      <td>0.466667</td>\n",
       "      <td>0.333333</td>\n",
       "      <td>NaN</td>\n",
       "    </tr>\n",
       "    <tr>\n",
       "      <th>117</th>\n",
       "      <td>117</td>\n",
       "      <td>OuestFrance</td>\n",
       "      <td>Actualités</td>\n",
       "      <td>La chanteuse Linda de Suza est morte à l’âge d...</td>\n",
       "      <td>L’agent de la star d’origine portugaise Linda ...</td>\n",
       "      <td>https://www.ouest-france.fr/culture/musiques/l...</td>\n",
       "      <td>La chanteuse populaire Linda de Suza est morte...</td>\n",
       "      <td>NaN</td>\n",
       "      <td>\"document\": { \"vagueSentencesCounter\": \"8\", \"o...</td>\n",
       "      <td>15</td>\n",
       "      <td>0.312937</td>\n",
       "      <td>0.533333</td>\n",
       "      <td>0.400000</td>\n",
       "      <td>NaN</td>\n",
       "    </tr>\n",
       "    <tr>\n",
       "      <th>118</th>\n",
       "      <td>118</td>\n",
       "      <td>OuestFrance</td>\n",
       "      <td>Actualités</td>\n",
       "      <td>La SNCF devrait réaliser un bénéfice record de...</td>\n",
       "      <td>La compagnie ferroviaire devrait engranger un ...</td>\n",
       "      <td>https://www.ouest-france.fr/economie/transport...</td>\n",
       "      <td>La compagnie ferroviaire publique française de...</td>\n",
       "      <td>NaN</td>\n",
       "      <td>document\": { \"vagueSentencesCounter\": \"10\", \"o...</td>\n",
       "      <td>17</td>\n",
       "      <td>0.293557</td>\n",
       "      <td>0.588235</td>\n",
       "      <td>0.411765</td>\n",
       "      <td>NaN</td>\n",
       "    </tr>\n",
       "    <tr>\n",
       "      <th>119</th>\n",
       "      <td>119</td>\n",
       "      <td>OuestFrance</td>\n",
       "      <td>Actualités</td>\n",
       "      <td>Chèque énergie bois : les Français peuvent dem...</td>\n",
       "      <td>La plateforme pour demander le chèque énergie ...</td>\n",
       "      <td>https://www.ouest-france.fr/economie/energie/c...</td>\n",
       "      <td>Les Français qui se chauffent au bois peuvent,...</td>\n",
       "      <td>NaN</td>\n",
       "      <td>document\":   {\\n    \"vagueSentencesCounter\": \"...</td>\n",
       "      <td>17</td>\n",
       "      <td>0.102941</td>\n",
       "      <td>0.470588</td>\n",
       "      <td>0.352941</td>\n",
       "      <td>NaN</td>\n",
       "    </tr>\n",
       "  </tbody>\n",
       "</table>\n",
       "<p>120 rows × 14 columns</p>\n",
       "</div>"
      ],
      "text/plain": [
       "     Unnamed: 0       Source        Type  \\\n",
       "0             0      LeMonde  Actualités   \n",
       "1             1      LeMonde  Actualités   \n",
       "2             2      LeMonde  Actualités   \n",
       "3             3      LeMonde  Actualités   \n",
       "4             4      LeMonde  Actualités   \n",
       "..          ...          ...         ...   \n",
       "115         115  OuestFrance  Actualités   \n",
       "116         116  OuestFrance  Actualités   \n",
       "117         117  OuestFrance  Actualités   \n",
       "118         118  OuestFrance  Actualités   \n",
       "119         119  OuestFrance  Actualités   \n",
       "\n",
       "                                                 Titre  \\\n",
       "0    La CGT devance FO et la CFDT dans la fonction ...   \n",
       "1    A Paris, les tiers-lieux permettent aux artist...   \n",
       "2    « L’organisation de La France insoumise permet...   \n",
       "3    Les grandes lignes de la future loi de program...   \n",
       "4    Denys Chmyhal, premier ministre ukrainien : « ...   \n",
       "..                                                 ...   \n",
       "115  Pourquoi la Chine ne deviendra pas la plus gra...   \n",
       "116  Allemagne. Une ex-secrétaire de camp nazi réce...   \n",
       "117  La chanteuse Linda de Suza est morte à l’âge d...   \n",
       "118  La SNCF devrait réaliser un bénéfice record de...   \n",
       "119  Chèque énergie bois : les Français peuvent dem...   \n",
       "\n",
       "                                           Description  \\\n",
       "0    Les élections professionnelles, du 1er au 8 dé...   \n",
       "1    L’ouverture d’une friche culturelle baptisée C...   \n",
       "2    Les critiques internes sur le « verrouillage »...   \n",
       "3    Emmanuel Macron s’apprête à rendre des arbitra...   \n",
       "4    Le dirigeant était à Paris à l’occasion de deu...   \n",
       "..                                                 ...   \n",
       "115  Le PIB chinois pourrait finalement ne pas dépa...   \n",
       "116  En Allemagne, une ancienne secrétaire d’un cam...   \n",
       "117  L’agent de la star d’origine portugaise Linda ...   \n",
       "118  La compagnie ferroviaire devrait engranger un ...   \n",
       "119  La plateforme pour demander le chèque énergie ...   \n",
       "\n",
       "                                                   URL  \\\n",
       "0    https://www.lemonde.fr/politique/article/2022/...   \n",
       "1    https://www.lemonde.fr/culture/article/2022/12...   \n",
       "2    https://www.lemonde.fr/politique/article/2022/...   \n",
       "3    https://www.lemonde.fr/politique/article/2022/...   \n",
       "4    https://www.lemonde.fr/international/article/2...   \n",
       "..                                                 ...   \n",
       "115  https://www.ouest-france.fr/economie/pourquoi-...   \n",
       "116  https://www.ouest-france.fr/europe/allemagne/a...   \n",
       "117  https://www.ouest-france.fr/culture/musiques/l...   \n",
       "118  https://www.ouest-france.fr/economie/transport...   \n",
       "119  https://www.ouest-france.fr/economie/energie/c...   \n",
       "\n",
       "                                               Contenu  Unnamed: 6  \\\n",
       "0    La CGT devance FO et la CFDT dans la fonction ...         NaN   \n",
       "1    A Paris, les tiers-lieux permettent aux artist...         NaN   \n",
       "2    « L’organisation de La France insoumise permet...         NaN   \n",
       "3    Les grandes lignes de la future loi de program...         NaN   \n",
       "4    Denys Chmyhal, premier ministre ukrainien : « ...         NaN   \n",
       "..                                                 ...         ...   \n",
       "115  Les économistes ne savaient pas exactement qua...         NaN   \n",
       "116  Une ancienne secrétaire d’un camp de concentra...         NaN   \n",
       "117  La chanteuse populaire Linda de Suza est morte...         NaN   \n",
       "118  La compagnie ferroviaire publique française de...         NaN   \n",
       "119  Les Français qui se chauffent au bois peuvent,...         NaN   \n",
       "\n",
       "                                       Resultats bruts  Nb_phrase_CAM  \\\n",
       "0    \"document\": { \"vagueSentencesCounter\": \"11\", \"...             19   \n",
       "1    document\": { \"vagueSentencesCounter\": \"10\", \"o...             18   \n",
       "2    document\": { \"vagueSentencesCounter\": \"11\", \"o...             17   \n",
       "3    \"document\": { \"vagueSentencesCounter\": \"12\", \"...             18   \n",
       "4    document\": { \"vagueSentencesCounter\": \"12\", \"o...             17   \n",
       "..                                                 ...            ...   \n",
       "115  document\": { \"vagueSentencesCounter\": \"9\", \"op...             17   \n",
       "116  document\": { \"vagueSentencesCounter\": \"7\", \"op...             15   \n",
       "117  \"document\": { \"vagueSentencesCounter\": \"8\", \"o...             15   \n",
       "118  document\": { \"vagueSentencesCounter\": \"10\", \"o...             17   \n",
       "119  document\":   {\\n    \"vagueSentencesCounter\": \"...             17   \n",
       "\n",
       "     meanratiopv  meanratiovague  meanratioopinion  Nb_phrase_pre  \n",
       "0       0.226316        0.578947          0.421053           20.0  \n",
       "1       0.200337        0.555556          0.388889           20.0  \n",
       "2       0.279412        0.647059          0.470588           20.0  \n",
       "3       0.169192        0.666667          0.444444           20.0  \n",
       "4       0.331232        0.705882          0.647059           21.0  \n",
       "..           ...             ...               ...            ...  \n",
       "115     0.290196        0.529412          0.411765            NaN  \n",
       "116     0.223175        0.466667          0.333333            NaN  \n",
       "117     0.312937        0.533333          0.400000            NaN  \n",
       "118     0.293557        0.588235          0.411765            NaN  \n",
       "119     0.102941        0.470588          0.352941            NaN  \n",
       "\n",
       "[120 rows x 14 columns]"
      ]
     },
     "execution_count": 18,
     "metadata": {},
     "output_type": "execute_result"
    }
   ],
   "source": [
    "df_oulimon"
   ]
  },
  {
   "cell_type": "code",
   "execution_count": null,
   "id": "ed65a6c4",
   "metadata": {},
   "outputs": [],
   "source": [
    "import patat.imp.importer\n",
    "imp = patat.imp.importer.Importer()"
   ]
  },
  {
   "cell_type": "code",
   "execution_count": 23,
   "id": "5ffac365",
   "metadata": {},
   "outputs": [],
   "source": [
    "df_oulimon['site']=df_oulimon['URL'].apply(imp.get_site)"
   ]
  },
  {
   "cell_type": "code",
   "execution_count": 24,
   "id": "00895f9d",
   "metadata": {},
   "outputs": [],
   "source": [
    "site = 'www.ouest-france.fr'"
   ]
  },
  {
   "cell_type": "code",
   "execution_count": 25,
   "id": "c114ef80",
   "metadata": {},
   "outputs": [],
   "source": [
    "df_site = df_oulimon[df_oulimon['site']==site]"
   ]
  },
  {
   "cell_type": "code",
   "execution_count": 26,
   "id": "32c6a696",
   "metadata": {},
   "outputs": [],
   "source": [
    "import time"
   ]
  },
  {
   "cell_type": "code",
   "execution_count": 27,
   "id": "86cae2a4",
   "metadata": {},
   "outputs": [],
   "source": [
    "time.sleep(5)"
   ]
  },
  {
   "cell_type": "code",
   "execution_count": 30,
   "id": "c3adc6c2",
   "metadata": {},
   "outputs": [],
   "source": [
    "imp._http_headersp_headers = {'User-Agent': 'Googlebot'}"
   ]
  },
  {
   "cell_type": "code",
   "execution_count": null,
   "id": "12af0c16",
   "metadata": {},
   "outputs": [
    {
     "name": "stdout",
     "output_type": "stream",
     "text": [
      "https://www.ouest-france.fr/monde/guerre-en-ukraine/guerre-en-ukraine-450-enfants-morts-un-quart-de-kiev-prive-de-chauffage-le-point-sur-la-nuit-9e28d2c1-1978-4597-8291-afe1cfec0e67\n"
     ]
    },
    {
     "name": "stderr",
     "output_type": "stream",
     "text": [
      "ERROR:root:Importer.get_webpage:https://www.ouest-france.fr/monde/guerre-en-ukraine/guerre-en-ukraine-450-enfants-morts-un-quart-de-kiev-prive-de-chauffage-le-point-sur-la-nuit-9e28d2c1-1978-4597-8291-afe1cfec0e67\n",
      "ERROR:root:Importer.get_webpage:https://www.ouest-france.fr/monde/guerre-en-ukraine/guerre-en-ukraine-aux-abris-le-point-au-297e-jour-entre-alertes-et-frappes-mortelles-43eead74-7e2a-11ed-9d68-6024f01da5c4\n"
     ]
    },
    {
     "name": "stdout",
     "output_type": "stream",
     "text": [
      "https://www.ouest-france.fr/monde/guerre-en-ukraine/guerre-en-ukraine-aux-abris-le-point-au-297e-jour-entre-alertes-et-frappes-mortelles-43eead74-7e2a-11ed-9d68-6024f01da5c4\n"
     ]
    },
    {
     "name": "stderr",
     "output_type": "stream",
     "text": [
      "ERROR:root:Importer.get_webpage:https://www.ouest-france.fr/monde/guerre-en-ukraine/guerre-en-ukraine-kiev-tente-de-retablir-le-courant-poutine-en-bielorussie-le-point-sur-la-nuit-1a25abc4-4bee-45a8-9166-e95167371366\n"
     ]
    },
    {
     "name": "stdout",
     "output_type": "stream",
     "text": [
      "https://www.ouest-france.fr/monde/guerre-en-ukraine/guerre-en-ukraine-kiev-tente-de-retablir-le-courant-poutine-en-bielorussie-le-point-sur-la-nuit-1a25abc4-4bee-45a8-9166-e95167371366\n"
     ]
    },
    {
     "name": "stderr",
     "output_type": "stream",
     "text": [
      "ERROR:root:Importer.get_webpage:https://www.ouest-france.fr/monde/guerre-en-ukraine/guerre-en-ukraine-des-explosions-a-kiev-des-frappes-privent-kharkiv-d-electricite-54c9ddb8-7d16-11ed-a4bb-2b42c3ad45c9\n"
     ]
    },
    {
     "name": "stdout",
     "output_type": "stream",
     "text": [
      "Error : https://www.ouest-france.fr/monde/guerre-en-ukraine/guerre-en-ukraine-kiev-tente-de-retablir-le-courant-poutine-en-bielorussie-le-point-sur-la-nuit-1a25abc4-4bee-45a8-9166-e95167371366\n",
      "https://www.ouest-france.fr/monde/guerre-en-ukraine/guerre-en-ukraine-des-explosions-a-kiev-des-frappes-privent-kharkiv-d-electricite-54c9ddb8-7d16-11ed-a4bb-2b42c3ad45c9\n",
      "Error : https://www.ouest-france.fr/monde/guerre-en-ukraine/guerre-en-ukraine-des-explosions-a-kiev-des-frappes-privent-kharkiv-d-electricite-54c9ddb8-7d16-11ed-a4bb-2b42c3ad45c9\n",
      "https://www.ouest-france.fr/environnement/nucleaire/nucleaire-l-epr-reporte-a-2024-une-facture-de-plus-de-20-milliards-en-vue-73a25c76-7d64-11ed-a4bb-2b42c3ad45c9\n"
     ]
    },
    {
     "name": "stderr",
     "output_type": "stream",
     "text": [
      "ERROR:root:Importer.get_webpage:https://www.ouest-france.fr/environnement/nucleaire/nucleaire-l-epr-reporte-a-2024-une-facture-de-plus-de-20-milliards-en-vue-73a25c76-7d64-11ed-a4bb-2b42c3ad45c9\n",
      "ERROR:root:Importer.get_webpage:https://www.ouest-france.fr/bretagne/ce-college-breton-est-champion-de-france-des-economies-d-energie-9b1855f2-7d29-11ed-bd42-a5077fc75000\n"
     ]
    },
    {
     "name": "stdout",
     "output_type": "stream",
     "text": [
      "https://www.ouest-france.fr/bretagne/ce-college-breton-est-champion-de-france-des-economies-d-energie-9b1855f2-7d29-11ed-bd42-a5077fc75000\n",
      "https://www.ouest-france.fr/bretagne/vezin-le-coquet-35132/la-ville-de-vezin-le-coquet-passe-en-mode-economies-d-energie-831d57da-7d48-11ed-a4bb-2b42c3ad45c9\n"
     ]
    },
    {
     "name": "stderr",
     "output_type": "stream",
     "text": [
      "ERROR:root:Importer.get_webpage:https://www.ouest-france.fr/bretagne/vezin-le-coquet-35132/la-ville-de-vezin-le-coquet-passe-en-mode-economies-d-energie-831d57da-7d48-11ed-a4bb-2b42c3ad45c9\n"
     ]
    },
    {
     "name": "stdout",
     "output_type": "stream",
     "text": [
      "https://www.ouest-france.fr/culture/people/miss-france/la-guadeloupeenne-indira-ampiot-devient-la-nouvelle-miss-france-2023-e6649173-5713-41e1-bbda-6ecd19c19bfe\n"
     ]
    },
    {
     "name": "stderr",
     "output_type": "stream",
     "text": [
      "ERROR:root:Importer.get_webpage:https://www.ouest-france.fr/culture/people/miss-france/la-guadeloupeenne-indira-ampiot-devient-la-nouvelle-miss-france-2023-e6649173-5713-41e1-bbda-6ecd19c19bfe\n",
      "ERROR:root:Importer.get_webpage:https://www.ouest-france.fr/culture/people/miss-france/qui-est-indira-ampiot-elue-miss-france-2023-63ed93b1-aa83-41fa-b4f5-327b989f5a13\n"
     ]
    },
    {
     "name": "stdout",
     "output_type": "stream",
     "text": [
      "https://www.ouest-france.fr/culture/people/miss-france/qui-est-indira-ampiot-elue-miss-france-2023-63ed93b1-aa83-41fa-b4f5-327b989f5a13\n",
      "Error : https://www.ouest-france.fr/culture/people/miss-france/qui-est-indira-ampiot-elue-miss-france-2023-63ed93b1-aa83-41fa-b4f5-327b989f5a13\n",
      "https://www.ouest-france.fr/economie/la-justice-se-penche-sur-les-finances-de-go-sport-vive-inquietude-des-syndicats-5e11475c-7ec0-11ed-be05-5a19d74be6cc\n"
     ]
    },
    {
     "name": "stderr",
     "output_type": "stream",
     "text": [
      "ERROR:root:Importer.get_webpage:https://www.ouest-france.fr/economie/la-justice-se-penche-sur-les-finances-de-go-sport-vive-inquietude-des-syndicats-5e11475c-7ec0-11ed-be05-5a19d74be6cc\n",
      "ERROR:root:Importer.get_webpage:https://www.ouest-france.fr/pays-de-la-loire/laval-53000/a-laval-le-castel-neuf-teste-les-reservations-avant-la-retransmission-des-matches-de-coupe-du-monde-3404b8c2-7d44-11ed-a4bb-2b42c3ad45c9\n"
     ]
    },
    {
     "name": "stdout",
     "output_type": "stream",
     "text": [
      "Error : https://www.ouest-france.fr/economie/la-justice-se-penche-sur-les-finances-de-go-sport-vive-inquietude-des-syndicats-5e11475c-7ec0-11ed-be05-5a19d74be6cc\n",
      "https://www.ouest-france.fr/pays-de-la-loire/laval-53000/a-laval-le-castel-neuf-teste-les-reservations-avant-la-retransmission-des-matches-de-coupe-du-monde-3404b8c2-7d44-11ed-a4bb-2b42c3ad45c9\n"
     ]
    },
    {
     "name": "stderr",
     "output_type": "stream",
     "text": [
      "ERROR:root:Importer.get_webpage:https://www.ouest-france.fr/sante/vaccin/covid-19-les-enfants-vaccines-sont-ils-aussi-concernes-par-un-rappel-6d8db0f6-7c88-11ed-9ce8-d142ab264f7c\n"
     ]
    },
    {
     "name": "stdout",
     "output_type": "stream",
     "text": [
      "Error : https://www.ouest-france.fr/pays-de-la-loire/laval-53000/a-laval-le-castel-neuf-teste-les-reservations-avant-la-retransmission-des-matches-de-coupe-du-monde-3404b8c2-7d44-11ed-a4bb-2b42c3ad45c9\n",
      "https://www.ouest-france.fr/sante/vaccin/covid-19-les-enfants-vaccines-sont-ils-aussi-concernes-par-un-rappel-6d8db0f6-7c88-11ed-9ce8-d142ab264f7c\n"
     ]
    },
    {
     "name": "stderr",
     "output_type": "stream",
     "text": [
      "ERROR:root:Importer.get_webpage:https://www.ouest-france.fr/environnement/biodiversite/cop15-sur-la-biodiversite-les-etats-trouvent-un-accord-historique-a-montreal-efbe90f2-7f78-11ed-b1ab-ff73490998e4\n"
     ]
    },
    {
     "name": "stdout",
     "output_type": "stream",
     "text": [
      "Error : https://www.ouest-france.fr/sante/vaccin/covid-19-les-enfants-vaccines-sont-ils-aussi-concernes-par-un-rappel-6d8db0f6-7c88-11ed-9ce8-d142ab264f7c\n",
      "https://www.ouest-france.fr/environnement/biodiversite/cop15-sur-la-biodiversite-les-etats-trouvent-un-accord-historique-a-montreal-efbe90f2-7f78-11ed-b1ab-ff73490998e4\n"
     ]
    },
    {
     "name": "stderr",
     "output_type": "stream",
     "text": [
      "ERROR:root:Importer.get_webpage:https://www.ouest-france.fr/monde/guerre-en-ukraine/guerre-en-ukraine-missiles-hypersoniques-hausse-des-effectifs-poutine-en-demonstration-de-force-08ff484e-8132-11ed-a33c-a84555e230e2\n"
     ]
    },
    {
     "name": "stdout",
     "output_type": "stream",
     "text": [
      "Error : https://www.ouest-france.fr/environnement/biodiversite/cop15-sur-la-biodiversite-les-etats-trouvent-un-accord-historique-a-montreal-efbe90f2-7f78-11ed-b1ab-ff73490998e4\n",
      "https://www.ouest-france.fr/monde/guerre-en-ukraine/guerre-en-ukraine-missiles-hypersoniques-hausse-des-effectifs-poutine-en-demonstration-de-force-08ff484e-8132-11ed-a33c-a84555e230e2\n"
     ]
    },
    {
     "name": "stderr",
     "output_type": "stream",
     "text": [
      "ERROR:root:Importer.get_webpage:https://www.ouest-france.fr/monde/guerre-en-ukraine/guerre-en-ukraine-volodymyr-zelensky-s-est-envole-pour-washington-pour-une-visite-historique-632e4da6-80f6-11ed-a33c-a84555e230e2\n"
     ]
    },
    {
     "name": "stdout",
     "output_type": "stream",
     "text": [
      "Error : https://www.ouest-france.fr/monde/guerre-en-ukraine/guerre-en-ukraine-missiles-hypersoniques-hausse-des-effectifs-poutine-en-demonstration-de-force-08ff484e-8132-11ed-a33c-a84555e230e2\n",
      "https://www.ouest-france.fr/monde/guerre-en-ukraine/guerre-en-ukraine-volodymyr-zelensky-s-est-envole-pour-washington-pour-une-visite-historique-632e4da6-80f6-11ed-a33c-a84555e230e2\n"
     ]
    },
    {
     "name": "stderr",
     "output_type": "stream",
     "text": [
      "ERROR:root:Importer.get_webpage:https://www.ouest-france.fr/sciences/espace/quatre-questions-sur-l-echec-du-premier-vol-commercial-de-la-fusee-vega-c-5d5cca78-8106-11ed-a33c-a84555e230e2\n"
     ]
    },
    {
     "name": "stdout",
     "output_type": "stream",
     "text": [
      "Error : https://www.ouest-france.fr/monde/guerre-en-ukraine/guerre-en-ukraine-volodymyr-zelensky-s-est-envole-pour-washington-pour-une-visite-historique-632e4da6-80f6-11ed-a33c-a84555e230e2\n",
      "https://www.ouest-france.fr/sciences/espace/quatre-questions-sur-l-echec-du-premier-vol-commercial-de-la-fusee-vega-c-5d5cca78-8106-11ed-a33c-a84555e230e2\n"
     ]
    },
    {
     "name": "stderr",
     "output_type": "stream",
     "text": [
      "ERROR:root:Importer.get_webpage:https://www.ouest-france.fr/sante/grippe/l-epidemie-de-grippe-monte-en-france-mettant-l-hopital-encore-plus-sous-pression-1092527c-8119-11ed-a33c-a84555e230e2\n"
     ]
    },
    {
     "name": "stdout",
     "output_type": "stream",
     "text": [
      "Error : https://www.ouest-france.fr/sciences/espace/quatre-questions-sur-l-echec-du-premier-vol-commercial-de-la-fusee-vega-c-5d5cca78-8106-11ed-a33c-a84555e230e2\n",
      "https://www.ouest-france.fr/sante/grippe/l-epidemie-de-grippe-monte-en-france-mettant-l-hopital-encore-plus-sous-pression-1092527c-8119-11ed-a33c-a84555e230e2\n"
     ]
    }
   ],
   "source": [
    "pages = []\n",
    "for url in df_site['URL']:\n",
    "    print(url)\n",
    "    try:\n",
    "        html = imp.get_webpage(url)\n",
    "        pages.append({\n",
    "            'url' : url,\n",
    "            'html' : html,\n",
    "        })\n",
    "        time.sleep(5)\n",
    "    except:\n",
    "        print(f'Error : {url}')"
   ]
  },
  {
   "cell_type": "markdown",
   "id": "76996d3a",
   "metadata": {},
   "source": [
    "# Sauvegarde des résultats\n",
    "---"
   ]
  },
  {
   "cell_type": "code",
   "execution_count": null,
   "id": "f39f8729",
   "metadata": {},
   "outputs": [],
   "source": []
  },
  {
   "cell_type": "markdown",
   "id": "fb7949bc",
   "metadata": {},
   "source": [
    "# Conclusions\n",
    "---"
   ]
  },
  {
   "cell_type": "markdown",
   "id": "bd360655",
   "metadata": {},
   "source": [
    "# Bricolages\n",
    "---"
   ]
  },
  {
   "cell_type": "code",
   "execution_count": null,
   "id": "f9862890",
   "metadata": {},
   "outputs": [],
   "source": []
  }
 ],
 "metadata": {
  "kernelspec": {
   "display_name": "Python 3 (ipykernel)",
   "language": "python",
   "name": "python3"
  },
  "language_info": {
   "codemirror_mode": {
    "name": "ipython",
    "version": 3
   },
   "file_extension": ".py",
   "mimetype": "text/x-python",
   "name": "python",
   "nbconvert_exporter": "python",
   "pygments_lexer": "ipython3",
   "version": "3.11.0"
  }
 },
 "nbformat": 4,
 "nbformat_minor": 5
}
