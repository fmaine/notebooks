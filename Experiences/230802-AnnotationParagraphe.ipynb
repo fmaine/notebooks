{
 "cells": [
  {
   "cell_type": "markdown",
   "id": "e3ec4689",
   "metadata": {},
   "source": [
    "\n",
    "\n",
    "\n",
    "# Plateforme Automatisée de Traitement et d'Analyse des Textes\n",
    "### Carnet d'expérimentation\n",
    "---\n",
    "\n",
    "## Sujet : Annotation niveau paragraphe\n",
    "\n",
    "---"
   ]
  },
  {
   "cell_type": "markdown",
   "id": "2601e626",
   "metadata": {},
   "source": [
    "# Observations et environnement\n",
    "---"
   ]
  },
  {
   "cell_type": "markdown",
   "id": "85c0f3b8",
   "metadata": {},
   "source": [
    "## Environnement"
   ]
  },
  {
   "cell_type": "code",
   "execution_count": 1,
   "id": "525fef74",
   "metadata": {},
   "outputs": [],
   "source": [
    "_rs = 42"
   ]
  },
  {
   "cell_type": "code",
   "execution_count": 2,
   "id": "5d0de4d7",
   "metadata": {},
   "outputs": [
    {
     "name": "stdout",
     "output_type": "stream",
     "text": [
      "/Volumes/Geek/Work/Patat\n"
     ]
    }
   ],
   "source": [
    "cd ../.."
   ]
  },
  {
   "cell_type": "code",
   "execution_count": 3,
   "id": "32256b0d",
   "metadata": {},
   "outputs": [],
   "source": [
    "import ast\n",
    "import importlib\n",
    "import pandas as pd\n",
    "import seaborn as sns\n",
    "from tqdm.notebook import tqdm\n",
    "tqdm.pandas()"
   ]
  },
  {
   "cell_type": "markdown",
   "id": "4b0b7201",
   "metadata": {},
   "source": [
    "## Données"
   ]
  },
  {
   "cell_type": "code",
   "execution_count": 4,
   "id": "361593c6",
   "metadata": {},
   "outputs": [],
   "source": [
    "import patat.util.gsheet\n",
    "\n",
    "gs = patat.util.gsheet.GoogleSheet()"
   ]
  },
  {
   "cell_type": "code",
   "execution_count": 5,
   "id": "bd142643",
   "metadata": {},
   "outputs": [
    {
     "data": {
      "text/html": [
       "<div>\n",
       "<style scoped>\n",
       "    .dataframe tbody tr th:only-of-type {\n",
       "        vertical-align: middle;\n",
       "    }\n",
       "\n",
       "    .dataframe tbody tr th {\n",
       "        vertical-align: top;\n",
       "    }\n",
       "\n",
       "    .dataframe thead th {\n",
       "        text-align: right;\n",
       "    }\n",
       "</style>\n",
       "<table border=\"1\" class=\"dataframe\">\n",
       "  <thead>\n",
       "    <tr style=\"text-align: right;\">\n",
       "      <th></th>\n",
       "      <th>url_h</th>\n",
       "      <th>url_labelizer</th>\n",
       "      <th>title</th>\n",
       "      <th>comment</th>\n",
       "    </tr>\n",
       "  </thead>\n",
       "  <tbody>\n",
       "    <tr>\n",
       "      <th>0</th>\n",
       "      <td>c13175936764a345ec21bc398fe750a41496078e</td>\n",
       "      <td>https://app.observatoire.info/labelize?url_h=c...</td>\n",
       "      <td>La relation entre la technologie et la religion</td>\n",
       "      <td>très long mais bien formaté</td>\n",
       "    </tr>\n",
       "    <tr>\n",
       "      <th>1</th>\n",
       "      <td>0552561b3c46f64febfbc3a77c301f085a98b966</td>\n",
       "      <td>https://app.observatoire.info/labelize?url_h=0...</td>\n",
       "      <td>Confinement. Les habitants de Brest, Morlaix e...</td>\n",
       "      <td>source visible</td>\n",
       "    </tr>\n",
       "    <tr>\n",
       "      <th>2</th>\n",
       "      <td>361a904687dd4b1abb189717de7341ce162d21c7</td>\n",
       "      <td>https://app.observatoire.info/labelize?url_h=3...</td>\n",
       "      <td>La Chine : Le premier marché mondial de Smartp...</td>\n",
       "      <td>ok</td>\n",
       "    </tr>\n",
       "    <tr>\n",
       "      <th>3</th>\n",
       "      <td>433b403d386d5eba5dff7d45044cdb0fe7862972</td>\n",
       "      <td>https://app.observatoire.info/labelize?url_h=4...</td>\n",
       "      <td>Emmanuel à Olivier : « Tiens bon, on les aura ...</td>\n",
       "      <td>source visible</td>\n",
       "    </tr>\n",
       "    <tr>\n",
       "      <th>4</th>\n",
       "      <td>3494ad0901a73fc6ceb2f74ac4ac1930af42b363</td>\n",
       "      <td>https://app.observatoire.info/labelize?url_h=3...</td>\n",
       "      <td>Selon UBS, les « propriétés d’assurance tant d...</td>\n",
       "      <td>ok</td>\n",
       "    </tr>\n",
       "    <tr>\n",
       "      <th>...</th>\n",
       "      <td>...</td>\n",
       "      <td>...</td>\n",
       "      <td>...</td>\n",
       "      <td>...</td>\n",
       "    </tr>\n",
       "    <tr>\n",
       "      <th>95</th>\n",
       "      <td>d04a526d60fa6d67f61c7abcaf45092b8217a24d</td>\n",
       "      <td>https://app.observatoire.info/labelize?url_h=d...</td>\n",
       "      <td>Loi climat : le gouvernement va exempter Amazo...</td>\n",
       "      <td>bizarre</td>\n",
       "    </tr>\n",
       "    <tr>\n",
       "      <th>96</th>\n",
       "      <td>14ed4715949dc7767359674df1a076bb1e0e417b</td>\n",
       "      <td>https://app.observatoire.info/labelize?url_h=1...</td>\n",
       "      <td>Le QI peut-il être augmenté par l’éducation ? ...</td>\n",
       "      <td>donne la source</td>\n",
       "    </tr>\n",
       "    <tr>\n",
       "      <th>97</th>\n",
       "      <td>2841a1db742a25419c20d4a56eb65d8c05d92f65</td>\n",
       "      <td>https://app.observatoire.info/labelize?url_h=2...</td>\n",
       "      <td>Secte sexuelle : l’ex-star de Smallville Aliso...</td>\n",
       "      <td>ok</td>\n",
       "    </tr>\n",
       "    <tr>\n",
       "      <th>98</th>\n",
       "      <td>7f8a6372ed4084fc88263c03e3b9186f082e2162</td>\n",
       "      <td>https://app.observatoire.info/labelize?url_h=7...</td>\n",
       "      <td>Sacre de Charles III par SAR le Prince Charles...</td>\n",
       "      <td>donne la source</td>\n",
       "    </tr>\n",
       "    <tr>\n",
       "      <th>99</th>\n",
       "      <td>1c4c0f87d734ce85798487b6083220e7092b3ffe</td>\n",
       "      <td>https://app.observatoire.info/labelize?url_h=1...</td>\n",
       "      <td>Bac 2019: appel à poursuivre la grève jusqu'au...</td>\n",
       "      <td>ok</td>\n",
       "    </tr>\n",
       "  </tbody>\n",
       "</table>\n",
       "<p>100 rows × 4 columns</p>\n",
       "</div>"
      ],
      "text/plain": [
       "                                       url_h  \\\n",
       "0   c13175936764a345ec21bc398fe750a41496078e   \n",
       "1   0552561b3c46f64febfbc3a77c301f085a98b966   \n",
       "2   361a904687dd4b1abb189717de7341ce162d21c7   \n",
       "3   433b403d386d5eba5dff7d45044cdb0fe7862972   \n",
       "4   3494ad0901a73fc6ceb2f74ac4ac1930af42b363   \n",
       "..                                       ...   \n",
       "95  d04a526d60fa6d67f61c7abcaf45092b8217a24d   \n",
       "96  14ed4715949dc7767359674df1a076bb1e0e417b   \n",
       "97  2841a1db742a25419c20d4a56eb65d8c05d92f65   \n",
       "98  7f8a6372ed4084fc88263c03e3b9186f082e2162   \n",
       "99  1c4c0f87d734ce85798487b6083220e7092b3ffe   \n",
       "\n",
       "                                        url_labelizer  \\\n",
       "0   https://app.observatoire.info/labelize?url_h=c...   \n",
       "1   https://app.observatoire.info/labelize?url_h=0...   \n",
       "2   https://app.observatoire.info/labelize?url_h=3...   \n",
       "3   https://app.observatoire.info/labelize?url_h=4...   \n",
       "4   https://app.observatoire.info/labelize?url_h=3...   \n",
       "..                                                ...   \n",
       "95  https://app.observatoire.info/labelize?url_h=d...   \n",
       "96  https://app.observatoire.info/labelize?url_h=1...   \n",
       "97  https://app.observatoire.info/labelize?url_h=2...   \n",
       "98  https://app.observatoire.info/labelize?url_h=7...   \n",
       "99  https://app.observatoire.info/labelize?url_h=1...   \n",
       "\n",
       "                                                title  \\\n",
       "0     La relation entre la technologie et la religion   \n",
       "1   Confinement. Les habitants de Brest, Morlaix e...   \n",
       "2   La Chine : Le premier marché mondial de Smartp...   \n",
       "3   Emmanuel à Olivier : « Tiens bon, on les aura ...   \n",
       "4   Selon UBS, les « propriétés d’assurance tant d...   \n",
       "..                                                ...   \n",
       "95  Loi climat : le gouvernement va exempter Amazo...   \n",
       "96  Le QI peut-il être augmenté par l’éducation ? ...   \n",
       "97  Secte sexuelle : l’ex-star de Smallville Aliso...   \n",
       "98  Sacre de Charles III par SAR le Prince Charles...   \n",
       "99  Bac 2019: appel à poursuivre la grève jusqu'au...   \n",
       "\n",
       "                        comment  \n",
       "0   très long mais bien formaté  \n",
       "1                source visible  \n",
       "2                            ok  \n",
       "3                source visible  \n",
       "4                            ok  \n",
       "..                          ...  \n",
       "95                      bizarre  \n",
       "96              donne la source  \n",
       "97                           ok  \n",
       "98              donne la source  \n",
       "99                           ok  \n",
       "\n",
       "[100 rows x 4 columns]"
      ]
     },
     "execution_count": 5,
     "metadata": {},
     "output_type": "execute_result"
    }
   ],
   "source": [
    "sheet_id = '1rVgAnv7FwFqWUUmjE72AP_YEmf9v6DaZ-_20jZ6MKTg'\n",
    "range_name = 'Sélection'\n",
    "\n",
    "df_obsinfo2307 = gs.read_df(sheet_id,range_name)\n",
    "df_obsinfo2307"
   ]
  },
  {
   "cell_type": "code",
   "execution_count": 6,
   "id": "94420655",
   "metadata": {},
   "outputs": [],
   "source": [
    "import patat.util.file\n",
    "\n",
    "filename = 'data/prod/230713-Corpus.pickle'\n",
    "\n",
    "df_corpus = patat.util.file.pickle_load(filename)"
   ]
  },
  {
   "cell_type": "code",
   "execution_count": 7,
   "id": "68ada2f1",
   "metadata": {},
   "outputs": [],
   "source": [
    "import patat.db.article_db\n",
    "article_db = patat.db.article_db.ArticleDb()\n",
    "df_corpus = article_db.df().copy()"
   ]
  },
  {
   "cell_type": "code",
   "execution_count": 8,
   "id": "4e29789d",
   "metadata": {},
   "outputs": [],
   "source": [
    "import patat.util.text"
   ]
  },
  {
   "cell_type": "code",
   "execution_count": 9,
   "id": "25ab3e4a",
   "metadata": {},
   "outputs": [
    {
     "data": {
      "text/plain": [
       "{'url': 'https://lesakerfrancophone.fr/selon-ubs-les-proprietes-dassurance-tant-de-fois-eprouvees-brillent-plus-que-jamais',\n",
       " 'site': 'lesakerfrancophone.fr',\n",
       " 'title': 'Selon UBS, les «\\xa0propriétés d’assurance tant de fois éprouvées\\xa0» de l’or brillent plus que jamais',\n",
       " 'article': '',\n",
       " 'author': 'jmarti',\n",
       " 'date': 'mars 23, 2022',\n",
       " 'tags': '[]',\n",
       " 'paragraphs': ['Par Birch Gold Group − Le 17 février 2022 − Source birchgold.com',\n",
       "  'Il y a peu, Elliot Smith, de CNBC, a exploré la résilience du prix de l’or au cours des dernières semaines de volatilité sur le marché des actions et les hausses des taux du Trésor. En règle générale, les niveaux de prix de l’or sont fortement affectés par deux forces — les taux des obligations, et le dollar index.',\n",
       "  'Il y a peu, les taux de Trésor sur une durée de 10 ans ainsi que le dollar index ont monté par rapport à leur position restée basse des mois durant. Si l’on s’en fie à l’historique, une montée des taux pratiqués par le Trésor présente un impact négatif sur le prix de l’or. Car les investisseurs qui veulent mettre leurs fonds en sûreté préfèrent en général toucher des intérêts. (L’une des plaintes les plus courantes sur l’or en tant qu’investissement est qu’il ne paye ni dividendes, ni intérêts). Cette plainte perd de son sens dans un environnement économique où l’obligation du Trésor étasunien sur 10 ans rapporte un rendement négatif une fois corrigé de l’inflation.',\n",
       "  'Le dollar index (DXY) est un autre sujet. Le dollar index étasunien suit à la trace le pouvoir d’achat, ou la force du dollar, face à un panier pondéré composé de six autres monnaies (l’euro, le yen, la livre sterling, le dollar canadien, la couronne suédoise et le franc suisse). Lorsque le pouvoir d’achat du dollar baisse, il faut davantage de dollars pour acheter la même quantité d’or, et vice-versa.',\n",
       "  'Le problème que Smith essaye de régler est le suivant : Comment le prix de l’or peut-il aussi bien résister alors que deux forces économiques des plus puissantes essayent de le pousser vers le bas ?',\n",
       "  'Les stratèges de marché de deux banques différentes apportent des indices à ce sujet.',\n",
       "  'Les stratèges de Bank of America ont rapporté que les flux d’investissements vers l’or ont été constants, malgré une hausse des taux du Trésor et des percées du dollar index. Pourquoi ? Selon leur rapport :',\n",
       "  'On assiste à des dislocations importantes enterrées derrière les gros titres traitant de l’inflation, des taux d’intérêts et des mouvements monétaires, ce qui fait monter l’attrait du métal jaune pour un portefeuille, et ce qui étaye notre prévision d’un prix moyen de l’or à 1925 $ l’once pour 2022.',\n",
       "  'UBS, la plus importante banque de Suisse, propose une perspective différente. Leurs analystes de marché estiment que le prix de l’or est soutenu par « une demande élevée de la part des couvertures des portefeuilles ».',\n",
       "  'Note: le mot « couverture » est souvent lancé à la cantonade par les analystes marchés et les investisseurs. Investopedia définit une couverture comme « un investissement fait dans l’intention de réduire le risque de mouvements de prix adverses sur un actif. » En d’autres termes, « la couverture est relativement analogue à souscrire à une police d’assurance ».',\n",
       "  'Avec ceci en tête, l’analyse qui suit, pratiquée par le principal Bureau d’investissement d’UBS, prend tout son sens. Les stratèges ont affirmé que les « propriétés d’assurance tant éprouvées » de l’or s’étaient de nouveau mises à briller de mille feux, surtout en comparaison avec d’autres produits de diversification habituellement ajoutés aux portefeuilles, parmi lesquels les actifs numériques comme le bitcoin. (Récemment, le prix du bitcoin s’est corrélé avec les actions davantage qu’auparavant, ce qui a réduit son efficacité en tant que couverture.)',\n",
       "  'Alors, qu’est-ce qui manque pour que le prix de l’or se mette à monter ? Selon Russ Mould, directeur d’investissement pour AJ Bell, une plateforme d’échanges d’actions britannique, il ne manquerait pas grand-chose. La perte de confiance envers les politiques menées par les banques centrales pour lutter contre l’inflation pourrait suffire (voir les exemples posés par l’Argentine, la Turquie, le Venezuela). En outre, une récession pourrait provoquer une montée des prix de l’or :',\n",
       "  'À mesure que la combinaison de dettes globales et de taux d’intérêts plus élevés s’avère trop importante, et que les décideurs doivent revenir à des baisses des coûts de l’emprunt et d’adjonction de nouveaux QE (quantitative easing, ou planche à billets) bien avant que l’inflation soit contenue.',\n",
       "  'Ainsi, si la Fed prend du retard dans la lutte contre l’inflation, ou capitule complètement et revient à des politiques d’argent facile pour soutenir les marchés d’actions, Mould pense que l’or pourrait facilement monter au-delà de ses plus hauts historiques.',\n",
       "  'Christopher Helman, de Forbes, pose une question spécifique : « Comment Poutine peut-il se payer une guerre en Ukraine ?«  La réponse : l’or dont dispose la Russie, valant 130 milliards de dollars (c’est l’équivalent de 72 millions de pièces d’une once, comme le gold American eagle, la quatrième réserve d’or nationale au monde.)',\n",
       "  'Cela peut sembler une manière étrange d’évoquer les bénéfices de l’investissement sur l’or, mais Helman nous fait part de points des plus intéressants.',\n",
       "  'Tout d’abord, la Russie a réussi à séparer son économie presque complètement du dollar étasunien :',\n",
       "  'En 2013, la Russie se faisait payer en dollars 95% de ses exportations vers le Brésil, l’Inde, l’Afrique du Sud et la Chine. De nos jours, selon le Congressional Research Service, à l’issue d’une décennie de dédollarisation, c’est à peine 10% de ces échanges qui sont versés en billets verts.',\n",
       "  'Cela signifie que le destin économique de la Russie est presque totalement divorcé des lubies de la Réserve Fédérale, et fait chuter le pouvoir d’achat du dollar.',\n",
       "  'Dans l’autre colonne du livre de comptes, la Russie n’a pas émis autant de reconnaissances de dette que les États-Unis. Helman nous informe que la dette extérieure totale de la Russie est inférieure à 30% de son PIB. En comparaison, le taux des États-Unis dépasse les 100%.',\n",
       "  'Enfin, la Russie a édifié ses propres systèmes de paiement, qui permettent des transactions internationales non-sujettes aux sanctions étasuniennes.',\n",
       "  'Il s’agit d’un cas d’étude intéressant des bénéfices d’un éloignement progressif d’une économie dépendant du dollar, vers une économie dépendant de l’or. À l’instar d’un individu, une nation qui évite d’utiliser les dollars, qui établit un investissement en or robuste et qui trouve des moyens alternatifs de faire transiter des fonds dispose d’options bien plus nombreuses — d’une liberté d’action bien plus importante — que ceux dont la richesse fluctue au gré des caprices de la Réserve Fédérale.',\n",
       "  'Pour être limpide, nous n’excusons pas les actions agressives menées par la Russie contre l’Ukraine, ni ses menaces contre les anciens satellites d’Europe de l’Est. Cependant, si la Russie était toujours en dépendance économique vis-à-vis du dollar étasunien, elle ne disposerait tout bonnement pas de la liberté de faire ces (mauvais) choix.',\n",
       "  'Un éditorial paru récemment dans le Idaho Statesman a signalé des changements économiques intéressants au sein même des États-Unis. Divers États ont récemment supprimé leurs impôts sur les achats de métaux précieux. Cela parait sensé. La plupart des Étasuniens qui achètent de l’or ou de l’argent le font dans l’optique d’empêcher l’inflation de détruire leur pouvoir d’achat. En un sens, ils ont déjà payé l’impôt sous forme de perte de pouvoir d’achat. Leur faire payer un nouvel impôt en sus de l’inflation ne fait qu’ajouter de l’insulte aux dégâts.',\n",
       "  'De manière encore plus intéressante, l’Ohio et le Texas ont diversifié leurs fonds de pension avec des investissements en or. Plusieurs États, comme le New Hampshire, l’Oklahoma, le Wyoming et l’Idaho, examinent des projets de loi permettant aux trésoriers de ces États d’investir dans l’or et l’argent comme actifs de réserve.',\n",
       "  'Des États comme l’Idaho pourraient décider d’investir dans l’or et l’argent pour les mêmes raisons que celles d’une famille étasunienne :',\n",
       "  'Cela résulte du fait que les réserves de l’État sont principalement investies sous forme de dette papier à faible taux d’intérêt, comme les bons du Trésor des États-Unis, des fonds monétaires du marché, des accords de rachat, et d’autres vecteurs de dette libellés en dollars. Les dettes papier importantes détenues par l’Idaho portent à la fois des risques de contre-parties et de faibles taux d’intérêt. Avec l’inflation qui s’établit désormais (au moins) à 7%, le vrai taux de retour pour le contribuable de l’Idaho est strictement négatif, peut-être négatif de plus de 5%.',\n",
       "  'La législation spécifique à l’Idaho qui est ici en cours de discussion demande des investissements en or et en argent physique plutôt que dans leurs équivalents papier : « L’autorité est confinée à l’or et à l’argent physique, directement détenu par l’État d’Idaho, disponible sans contrainte, et conservé de manière sécurisée en Idaho ou dans un État voisin. »',\n",
       "  'Pourrions-nous assister à un mouvement de plus grande ampleur de la part d’États membres des États-Unis pour s’éloigner des actifs libellés en dollars, vers des actifs de réserve disposant d’une valeur intrinsèque ? Cela constituerait un développement extrêmement intéressant. Comment le gouvernement fédéral pourrait-il répondre à un tel mouvement ?',\n",
       "  'Cet article se termine sur un appel à agir stimulant :',\n",
       "  'Il est aussi prudent que jamais d’accorder au trésorier de l’État d’Idaho les options de se couvrir contre l’inflation galopante qui a été infligée aux épargnants, aux travailleurs, aux retraités, et à l’État joyau lui-même par des hommes politiques à courte vue et les banquiers centraux de Washington, D.C… L’inflation est l’allumette qui menace de mettre le feu au grand tas de dette papier à taux négatif détenu par l’Idaho.',\n",
       "  'Ce déplacement par l’État vers l’indépendance économique est un développement extrêmement intéressant. Il s’agit d’un sujet que nous allons suivre au cours des mois à venir.'],\n",
       " 'date_iso': '2022-03-23T10:00:25+01:00',\n",
       " 'abstract': '',\n",
       " 'c_count': 9706,\n",
       " 'p_count': 33.0,\n",
       " 'url_h': '3494ad0901a73fc6ceb2f74ac4ac1930af42b363',\n",
       " 'predict_infox': 0.5}"
      ]
     },
     "execution_count": 9,
     "metadata": {},
     "output_type": "execute_result"
    }
   ],
   "source": [
    "article_db.get_article_data_h('3494ad0901a73fc6ceb2f74ac4ac1930af42b363')"
   ]
  },
  {
   "cell_type": "code",
   "execution_count": 10,
   "id": "af21c786",
   "metadata": {},
   "outputs": [
    {
     "data": {
      "text/html": [
       "<div>\n",
       "<style scoped>\n",
       "    .dataframe tbody tr th:only-of-type {\n",
       "        vertical-align: middle;\n",
       "    }\n",
       "\n",
       "    .dataframe tbody tr th {\n",
       "        vertical-align: top;\n",
       "    }\n",
       "\n",
       "    .dataframe thead th {\n",
       "        text-align: right;\n",
       "    }\n",
       "</style>\n",
       "<table border=\"1\" class=\"dataframe\">\n",
       "  <thead>\n",
       "    <tr style=\"text-align: right;\">\n",
       "      <th></th>\n",
       "      <th>url</th>\n",
       "      <th>site</th>\n",
       "      <th>title</th>\n",
       "      <th>article</th>\n",
       "      <th>author</th>\n",
       "      <th>date</th>\n",
       "      <th>tags</th>\n",
       "      <th>paragraphs</th>\n",
       "      <th>date_iso</th>\n",
       "      <th>abstract</th>\n",
       "      <th>c_count</th>\n",
       "      <th>p_count</th>\n",
       "      <th>url_h</th>\n",
       "      <th>predict_infox</th>\n",
       "    </tr>\n",
       "  </thead>\n",
       "  <tbody>\n",
       "    <tr>\n",
       "      <th>40242</th>\n",
       "      <td>https://lesakerfrancophone.fr/selon-ubs-les-pr...</td>\n",
       "      <td>lesakerfrancophone.fr</td>\n",
       "      <td>Selon UBS, les « propriétés d’assurance tant d...</td>\n",
       "      <td>NaN</td>\n",
       "      <td>jmarti</td>\n",
       "      <td>mars 23, 2022</td>\n",
       "      <td>[]</td>\n",
       "      <td>[Par Birch Gold Group − Le 17 février 2022 − S...</td>\n",
       "      <td>2022-03-23T10:00:25+01:00</td>\n",
       "      <td>NaN</td>\n",
       "      <td>10070.0</td>\n",
       "      <td>33.0</td>\n",
       "      <td>3494ad0901a73fc6ceb2f74ac4ac1930af42b363</td>\n",
       "      <td>0.5</td>\n",
       "    </tr>\n",
       "  </tbody>\n",
       "</table>\n",
       "</div>"
      ],
      "text/plain": [
       "                                                     url  \\\n",
       "40242  https://lesakerfrancophone.fr/selon-ubs-les-pr...   \n",
       "\n",
       "                        site  \\\n",
       "40242  lesakerfrancophone.fr   \n",
       "\n",
       "                                                   title article  author  \\\n",
       "40242  Selon UBS, les « propriétés d’assurance tant d...     NaN  jmarti   \n",
       "\n",
       "                date tags                                         paragraphs  \\\n",
       "40242  mars 23, 2022   []  [Par Birch Gold Group − Le 17 février 2022 − S...   \n",
       "\n",
       "                        date_iso abstract  c_count  p_count  \\\n",
       "40242  2022-03-23T10:00:25+01:00      NaN  10070.0     33.0   \n",
       "\n",
       "                                          url_h  predict_infox  \n",
       "40242  3494ad0901a73fc6ceb2f74ac4ac1930af42b363            0.5  "
      ]
     },
     "execution_count": 10,
     "metadata": {},
     "output_type": "execute_result"
    }
   ],
   "source": [
    "df_corpus[df_corpus['url_h']=='3494ad0901a73fc6ceb2f74ac4ac1930af42b363']"
   ]
  },
  {
   "cell_type": "code",
   "execution_count": 11,
   "id": "da5a35ce",
   "metadata": {},
   "outputs": [],
   "source": [
    "df_obsinfo2307 = pd.merge(df_obsinfo2307['url_h'],df_corpus)"
   ]
  },
  {
   "cell_type": "code",
   "execution_count": 12,
   "id": "8d4e2966",
   "metadata": {},
   "outputs": [
    {
     "data": {
      "text/html": [
       "<div>\n",
       "<style scoped>\n",
       "    .dataframe tbody tr th:only-of-type {\n",
       "        vertical-align: middle;\n",
       "    }\n",
       "\n",
       "    .dataframe tbody tr th {\n",
       "        vertical-align: top;\n",
       "    }\n",
       "\n",
       "    .dataframe thead th {\n",
       "        text-align: right;\n",
       "    }\n",
       "</style>\n",
       "<table border=\"1\" class=\"dataframe\">\n",
       "  <thead>\n",
       "    <tr style=\"text-align: right;\">\n",
       "      <th></th>\n",
       "      <th>url_h</th>\n",
       "      <th>url</th>\n",
       "      <th>site</th>\n",
       "      <th>title</th>\n",
       "      <th>article</th>\n",
       "      <th>author</th>\n",
       "      <th>date</th>\n",
       "      <th>tags</th>\n",
       "      <th>paragraphs</th>\n",
       "      <th>date_iso</th>\n",
       "      <th>abstract</th>\n",
       "      <th>c_count</th>\n",
       "      <th>p_count</th>\n",
       "      <th>predict_infox</th>\n",
       "    </tr>\n",
       "  </thead>\n",
       "  <tbody>\n",
       "    <tr>\n",
       "      <th>0</th>\n",
       "      <td>c13175936764a345ec21bc398fe750a41496078e</td>\n",
       "      <td>https://lesakerfrancophone.fr/la-relation-entr...</td>\n",
       "      <td>lesakerfrancophone.fr</td>\n",
       "      <td>La relation entre la technologie et la religion</td>\n",
       "      <td>NaN</td>\n",
       "      <td>Le Saker Francophone</td>\n",
       "      <td>juillet 3, 2022</td>\n",
       "      <td>[]</td>\n",
       "      <td>[Par Austin Cline − Le 27 fevrier 2019 − Sourc...</td>\n",
       "      <td>2022-07-03T10:00:27+02:00</td>\n",
       "      <td>NaN</td>\n",
       "      <td>29274.0</td>\n",
       "      <td>66.0</td>\n",
       "      <td>0.5</td>\n",
       "    </tr>\n",
       "    <tr>\n",
       "      <th>1</th>\n",
       "      <td>0552561b3c46f64febfbc3a77c301f085a98b966</td>\n",
       "      <td>https://www.breizh-info.com/2021/01/27/157958/...</td>\n",
       "      <td>www.breizh-info.com</td>\n",
       "      <td>Confinement. Les habitants de Brest, Morlaix e...</td>\n",
       "      <td>NaN</td>\n",
       "      <td>NaN</td>\n",
       "      <td>Le \\n\\t\\t\\t\\t\\t\\t\\t\\t\\t\\t27 janvier 2021</td>\n",
       "      <td>['BREST', 'CARHAIX', 'MORLAIX', 'alcool', 'bre...</td>\n",
       "      <td>[Dans le cadre du Dry January, opération comme...</td>\n",
       "      <td>2021-01-27T00:00:00</td>\n",
       "      <td>NaN</td>\n",
       "      <td>2669.0</td>\n",
       "      <td>13.0</td>\n",
       "      <td>0.5</td>\n",
       "    </tr>\n",
       "    <tr>\n",
       "      <th>2</th>\n",
       "      <td>361a904687dd4b1abb189717de7341ce162d21c7</td>\n",
       "      <td>https://reseauinternational.net/la-chine-le-pr...</td>\n",
       "      <td>reseauinternational.net</td>\n",
       "      <td>La Chine : Le premier marché mondial de Smartp...</td>\n",
       "      <td>NaN</td>\n",
       "      <td>NaN</td>\n",
       "      <td>NaN</td>\n",
       "      <td>[\"Faits d'actu\", \"Faits d'actu\", \"Faits d'actu...</td>\n",
       "      <td>[Le marché des GSM Chinois a évolué en quelque...</td>\n",
       "      <td>NaN</td>\n",
       "      <td>NaN</td>\n",
       "      <td>2993.0</td>\n",
       "      <td>9.0</td>\n",
       "      <td>0.5</td>\n",
       "    </tr>\n",
       "    <tr>\n",
       "      <th>3</th>\n",
       "      <td>433b403d386d5eba5dff7d45044cdb0fe7862972</td>\n",
       "      <td>https://lezarceleurs.blogspot.com/2021/12/emma...</td>\n",
       "      <td>lezarceleurs.blogspot.com</td>\n",
       "      <td>Emmanuel à Olivier : « Tiens bon, on les aura ...</td>\n",
       "      <td>NaN</td>\n",
       "      <td>NaN</td>\n",
       "      <td>NaN</td>\n",
       "      <td>[]</td>\n",
       "      <td>[De : https://lemediaen442.fr/emmanuel-a-olivi...</td>\n",
       "      <td>NaN</td>\n",
       "      <td>NaN</td>\n",
       "      <td>3202.0</td>\n",
       "      <td>10.0</td>\n",
       "      <td>0.5</td>\n",
       "    </tr>\n",
       "    <tr>\n",
       "      <th>4</th>\n",
       "      <td>3494ad0901a73fc6ceb2f74ac4ac1930af42b363</td>\n",
       "      <td>https://lesakerfrancophone.fr/selon-ubs-les-pr...</td>\n",
       "      <td>lesakerfrancophone.fr</td>\n",
       "      <td>Selon UBS, les « propriétés d’assurance tant d...</td>\n",
       "      <td>NaN</td>\n",
       "      <td>jmarti</td>\n",
       "      <td>mars 23, 2022</td>\n",
       "      <td>[]</td>\n",
       "      <td>[Par Birch Gold Group − Le 17 février 2022 − S...</td>\n",
       "      <td>2022-03-23T10:00:25+01:00</td>\n",
       "      <td>NaN</td>\n",
       "      <td>10070.0</td>\n",
       "      <td>33.0</td>\n",
       "      <td>0.5</td>\n",
       "    </tr>\n",
       "    <tr>\n",
       "      <th>...</th>\n",
       "      <td>...</td>\n",
       "      <td>...</td>\n",
       "      <td>...</td>\n",
       "      <td>...</td>\n",
       "      <td>...</td>\n",
       "      <td>...</td>\n",
       "      <td>...</td>\n",
       "      <td>...</td>\n",
       "      <td>...</td>\n",
       "      <td>...</td>\n",
       "      <td>...</td>\n",
       "      <td>...</td>\n",
       "      <td>...</td>\n",
       "      <td>...</td>\n",
       "    </tr>\n",
       "    <tr>\n",
       "      <th>95</th>\n",
       "      <td>d04a526d60fa6d67f61c7abcaf45092b8217a24d</td>\n",
       "      <td>https://lemediaen442.fr/loi-climat-le-gouverne...</td>\n",
       "      <td>lemediaen442.fr</td>\n",
       "      <td>Loi climat : le gouvernement va exempter Amazo...</td>\n",
       "      <td>NaN</td>\n",
       "      <td>NaN</td>\n",
       "      <td>22 juin 2021</td>\n",
       "      <td>['Mot-clés : amazon', 'Posté dans Économie, En...</td>\n",
       "      <td>[La majorité LREM s’apprête une fois de plus à...</td>\n",
       "      <td>2021-06-22T13:35:07+02:00</td>\n",
       "      <td>NaN</td>\n",
       "      <td>2766.0</td>\n",
       "      <td>10.0</td>\n",
       "      <td>0.5</td>\n",
       "    </tr>\n",
       "    <tr>\n",
       "      <th>96</th>\n",
       "      <td>14ed4715949dc7767359674df1a076bb1e0e417b</td>\n",
       "      <td>https://www.breizh-info.com/2017/11/10/81481/q...</td>\n",
       "      <td>www.breizh-info.com</td>\n",
       "      <td>Le QI peut-il être augmenté par l’éducation ? ...</td>\n",
       "      <td>NaN</td>\n",
       "      <td>NaN</td>\n",
       "      <td>Le \\n\\t\\t\\t\\t\\t\\t\\t\\t\\t\\t10 novembre 2017</td>\n",
       "      <td>['Santé', 'Intelligence', 'Intelligence humain...</td>\n",
       "      <td>[10/11/2017 – 08h00 Édimbourg (Breizh-Info.com...</td>\n",
       "      <td>2017-11-10T00:00:00</td>\n",
       "      <td>NaN</td>\n",
       "      <td>3885.0</td>\n",
       "      <td>10.0</td>\n",
       "      <td>0.5</td>\n",
       "    </tr>\n",
       "    <tr>\n",
       "      <th>97</th>\n",
       "      <td>2841a1db742a25419c20d4a56eb65d8c05d92f65</td>\n",
       "      <td>https://lesmoutonsrebelles.com/secte-sexuelle-...</td>\n",
       "      <td>lesmoutonsrebelles.com</td>\n",
       "      <td>Secte sexuelle : l’ex-star de Smallville Aliso...</td>\n",
       "      <td>NaN</td>\n",
       "      <td>NaN</td>\n",
       "      <td>NaN</td>\n",
       "      <td>[]</td>\n",
       "      <td>[Ce mercredi 15 septembre, le site américain T...</td>\n",
       "      <td>NaN</td>\n",
       "      <td>NaN</td>\n",
       "      <td>1903.0</td>\n",
       "      <td>5.0</td>\n",
       "      <td>0.5</td>\n",
       "    </tr>\n",
       "    <tr>\n",
       "      <th>98</th>\n",
       "      <td>7f8a6372ed4084fc88263c03e3b9186f082e2162</td>\n",
       "      <td>https://lesalonbeige.fr/sacre-de-charles-iii-p...</td>\n",
       "      <td>lesalonbeige.fr</td>\n",
       "      <td>Sacre de Charles III par SAR le Prince Charles...</td>\n",
       "      <td>Cet article est une tribune libre, non rédigée...</td>\n",
       "      <td>Par aquart61</td>\n",
       "      <td>9 mai 2023</td>\n",
       "      <td>[Tribune libre]</td>\n",
       "      <td>[Cet article est une tribune libre, non rédigé...</td>\n",
       "      <td>2023-05-09T08:35:20+02:00</td>\n",
       "      <td></td>\n",
       "      <td>NaN</td>\n",
       "      <td>NaN</td>\n",
       "      <td>0.5</td>\n",
       "    </tr>\n",
       "    <tr>\n",
       "      <th>99</th>\n",
       "      <td>1c4c0f87d734ce85798487b6083220e7092b3ffe</td>\n",
       "      <td>https://www.francesoir.fr/politique-france/bac...</td>\n",
       "      <td>www.francesoir.fr</td>\n",
       "      <td>Bac 2019: appel à poursuivre la grève jusqu'au...</td>\n",
       "      <td>NaN</td>\n",
       "      <td>Auteur(s)\\nLa rédaction de France-Soir</td>\n",
       "      <td>Publié le 18 juin 2019 - 09:38</td>\n",
       "      <td>[]</td>\n",
       "      <td>[L'intersyndicale d'enseignants qui avait appe...</td>\n",
       "      <td>2019-06-18T09:38:00</td>\n",
       "      <td>NaN</td>\n",
       "      <td>2166.0</td>\n",
       "      <td>10.0</td>\n",
       "      <td>0.5</td>\n",
       "    </tr>\n",
       "  </tbody>\n",
       "</table>\n",
       "<p>100 rows × 14 columns</p>\n",
       "</div>"
      ],
      "text/plain": [
       "                                       url_h  \\\n",
       "0   c13175936764a345ec21bc398fe750a41496078e   \n",
       "1   0552561b3c46f64febfbc3a77c301f085a98b966   \n",
       "2   361a904687dd4b1abb189717de7341ce162d21c7   \n",
       "3   433b403d386d5eba5dff7d45044cdb0fe7862972   \n",
       "4   3494ad0901a73fc6ceb2f74ac4ac1930af42b363   \n",
       "..                                       ...   \n",
       "95  d04a526d60fa6d67f61c7abcaf45092b8217a24d   \n",
       "96  14ed4715949dc7767359674df1a076bb1e0e417b   \n",
       "97  2841a1db742a25419c20d4a56eb65d8c05d92f65   \n",
       "98  7f8a6372ed4084fc88263c03e3b9186f082e2162   \n",
       "99  1c4c0f87d734ce85798487b6083220e7092b3ffe   \n",
       "\n",
       "                                                  url  \\\n",
       "0   https://lesakerfrancophone.fr/la-relation-entr...   \n",
       "1   https://www.breizh-info.com/2021/01/27/157958/...   \n",
       "2   https://reseauinternational.net/la-chine-le-pr...   \n",
       "3   https://lezarceleurs.blogspot.com/2021/12/emma...   \n",
       "4   https://lesakerfrancophone.fr/selon-ubs-les-pr...   \n",
       "..                                                ...   \n",
       "95  https://lemediaen442.fr/loi-climat-le-gouverne...   \n",
       "96  https://www.breizh-info.com/2017/11/10/81481/q...   \n",
       "97  https://lesmoutonsrebelles.com/secte-sexuelle-...   \n",
       "98  https://lesalonbeige.fr/sacre-de-charles-iii-p...   \n",
       "99  https://www.francesoir.fr/politique-france/bac...   \n",
       "\n",
       "                         site  \\\n",
       "0       lesakerfrancophone.fr   \n",
       "1         www.breizh-info.com   \n",
       "2     reseauinternational.net   \n",
       "3   lezarceleurs.blogspot.com   \n",
       "4       lesakerfrancophone.fr   \n",
       "..                        ...   \n",
       "95            lemediaen442.fr   \n",
       "96        www.breizh-info.com   \n",
       "97     lesmoutonsrebelles.com   \n",
       "98            lesalonbeige.fr   \n",
       "99          www.francesoir.fr   \n",
       "\n",
       "                                                title  \\\n",
       "0     La relation entre la technologie et la religion   \n",
       "1   Confinement. Les habitants de Brest, Morlaix e...   \n",
       "2   La Chine : Le premier marché mondial de Smartp...   \n",
       "3   Emmanuel à Olivier : « Tiens bon, on les aura ...   \n",
       "4   Selon UBS, les « propriétés d’assurance tant d...   \n",
       "..                                                ...   \n",
       "95  Loi climat : le gouvernement va exempter Amazo...   \n",
       "96  Le QI peut-il être augmenté par l’éducation ? ...   \n",
       "97  Secte sexuelle : l’ex-star de Smallville Aliso...   \n",
       "98  Sacre de Charles III par SAR le Prince Charles...   \n",
       "99  Bac 2019: appel à poursuivre la grève jusqu'au...   \n",
       "\n",
       "                                              article  \\\n",
       "0                                                 NaN   \n",
       "1                                                 NaN   \n",
       "2                                                 NaN   \n",
       "3                                                 NaN   \n",
       "4                                                 NaN   \n",
       "..                                                ...   \n",
       "95                                                NaN   \n",
       "96                                                NaN   \n",
       "97                                                NaN   \n",
       "98  Cet article est une tribune libre, non rédigée...   \n",
       "99                                                NaN   \n",
       "\n",
       "                                    author  \\\n",
       "0                     Le Saker Francophone   \n",
       "1                                      NaN   \n",
       "2                                      NaN   \n",
       "3                                      NaN   \n",
       "4                                   jmarti   \n",
       "..                                     ...   \n",
       "95                                     NaN   \n",
       "96                                     NaN   \n",
       "97                                     NaN   \n",
       "98                            Par aquart61   \n",
       "99  Auteur(s)\\nLa rédaction de France-Soir   \n",
       "\n",
       "                                         date  \\\n",
       "0                             juillet 3, 2022   \n",
       "1    Le \\n\\t\\t\\t\\t\\t\\t\\t\\t\\t\\t27 janvier 2021   \n",
       "2                                         NaN   \n",
       "3                                         NaN   \n",
       "4                               mars 23, 2022   \n",
       "..                                        ...   \n",
       "95                               22 juin 2021   \n",
       "96  Le \\n\\t\\t\\t\\t\\t\\t\\t\\t\\t\\t10 novembre 2017   \n",
       "97                                        NaN   \n",
       "98                                 9 mai 2023   \n",
       "99             Publié le 18 juin 2019 - 09:38   \n",
       "\n",
       "                                                 tags  \\\n",
       "0                                                  []   \n",
       "1   ['BREST', 'CARHAIX', 'MORLAIX', 'alcool', 'bre...   \n",
       "2   [\"Faits d'actu\", \"Faits d'actu\", \"Faits d'actu...   \n",
       "3                                                  []   \n",
       "4                                                  []   \n",
       "..                                                ...   \n",
       "95  ['Mot-clés : amazon', 'Posté dans Économie, En...   \n",
       "96  ['Santé', 'Intelligence', 'Intelligence humain...   \n",
       "97                                                 []   \n",
       "98                                    [Tribune libre]   \n",
       "99                                                 []   \n",
       "\n",
       "                                           paragraphs  \\\n",
       "0   [Par Austin Cline − Le 27 fevrier 2019 − Sourc...   \n",
       "1   [Dans le cadre du Dry January, opération comme...   \n",
       "2   [Le marché des GSM Chinois a évolué en quelque...   \n",
       "3   [De : https://lemediaen442.fr/emmanuel-a-olivi...   \n",
       "4   [Par Birch Gold Group − Le 17 février 2022 − S...   \n",
       "..                                                ...   \n",
       "95  [La majorité LREM s’apprête une fois de plus à...   \n",
       "96  [10/11/2017 – 08h00 Édimbourg (Breizh-Info.com...   \n",
       "97  [Ce mercredi 15 septembre, le site américain T...   \n",
       "98  [Cet article est une tribune libre, non rédigé...   \n",
       "99  [L'intersyndicale d'enseignants qui avait appe...   \n",
       "\n",
       "                     date_iso abstract  c_count  p_count  predict_infox  \n",
       "0   2022-07-03T10:00:27+02:00      NaN  29274.0     66.0            0.5  \n",
       "1         2021-01-27T00:00:00      NaN   2669.0     13.0            0.5  \n",
       "2                         NaN      NaN   2993.0      9.0            0.5  \n",
       "3                         NaN      NaN   3202.0     10.0            0.5  \n",
       "4   2022-03-23T10:00:25+01:00      NaN  10070.0     33.0            0.5  \n",
       "..                        ...      ...      ...      ...            ...  \n",
       "95  2021-06-22T13:35:07+02:00      NaN   2766.0     10.0            0.5  \n",
       "96        2017-11-10T00:00:00      NaN   3885.0     10.0            0.5  \n",
       "97                        NaN      NaN   1903.0      5.0            0.5  \n",
       "98  2023-05-09T08:35:20+02:00               NaN      NaN            0.5  \n",
       "99        2019-06-18T09:38:00      NaN   2166.0     10.0            0.5  \n",
       "\n",
       "[100 rows x 14 columns]"
      ]
     },
     "execution_count": 12,
     "metadata": {},
     "output_type": "execute_result"
    }
   ],
   "source": [
    "df_obsinfo2307"
   ]
  },
  {
   "cell_type": "code",
   "execution_count": 22,
   "id": "a3e8fd54",
   "metadata": {},
   "outputs": [],
   "source": [
    "parags=[] \n",
    "for index,row in df_obsinfo2307.iterrows():\n",
    "    parags.append({\n",
    "        'url': row['url'],\n",
    "        'paragraph': row['title'],\n",
    "    })\n",
    "    for p in row['paragraphs']:\n",
    "        parags.append({\n",
    "            'url': row['url'],\n",
    "            'paragraph': p,\n",
    "        })"
   ]
  },
  {
   "cell_type": "code",
   "execution_count": 23,
   "id": "62bd8f1b",
   "metadata": {},
   "outputs": [],
   "source": [
    "df_parag = pd.DataFrame(parags)"
   ]
  },
  {
   "cell_type": "code",
   "execution_count": 31,
   "id": "24b714f6",
   "metadata": {},
   "outputs": [
    {
     "data": {
      "text/html": [
       "<div>\n",
       "<style scoped>\n",
       "    .dataframe tbody tr th:only-of-type {\n",
       "        vertical-align: middle;\n",
       "    }\n",
       "\n",
       "    .dataframe tbody tr th {\n",
       "        vertical-align: top;\n",
       "    }\n",
       "\n",
       "    .dataframe thead th {\n",
       "        text-align: right;\n",
       "    }\n",
       "</style>\n",
       "<table border=\"1\" class=\"dataframe\">\n",
       "  <thead>\n",
       "    <tr style=\"text-align: right;\">\n",
       "      <th></th>\n",
       "      <th>url</th>\n",
       "      <th>paragraph</th>\n",
       "      <th>c_count</th>\n",
       "    </tr>\n",
       "  </thead>\n",
       "  <tbody>\n",
       "    <tr>\n",
       "      <th>0</th>\n",
       "      <td>https://lesakerfrancophone.fr/la-relation-entr...</td>\n",
       "      <td>La relation entre la technologie et la religion</td>\n",
       "      <td>47</td>\n",
       "    </tr>\n",
       "    <tr>\n",
       "      <th>1</th>\n",
       "      <td>https://lesakerfrancophone.fr/la-relation-entr...</td>\n",
       "      <td>Par Austin Cline − Le 27 fevrier 2019 − Source...</td>\n",
       "      <td>62</td>\n",
       "    </tr>\n",
       "    <tr>\n",
       "      <th>2</th>\n",
       "      <td>https://lesakerfrancophone.fr/la-relation-entr...</td>\n",
       "      <td>De nombreux laïcs et non-croyants de toutes so...</td>\n",
       "      <td>629</td>\n",
       "    </tr>\n",
       "    <tr>\n",
       "      <th>3</th>\n",
       "      <td>https://lesakerfrancophone.fr/la-relation-entr...</td>\n",
       "      <td>Pourquoi assistons-nous à un enchantement géné...</td>\n",
       "      <td>510</td>\n",
       "    </tr>\n",
       "    <tr>\n",
       "      <th>4</th>\n",
       "      <td>https://lesakerfrancophone.fr/la-relation-entr...</td>\n",
       "      <td>Les athées sont souvent prêts à critiquer les ...</td>\n",
       "      <td>167</td>\n",
       "    </tr>\n",
       "    <tr>\n",
       "      <th>...</th>\n",
       "      <td>...</td>\n",
       "      <td>...</td>\n",
       "      <td>...</td>\n",
       "    </tr>\n",
       "    <tr>\n",
       "      <th>1930</th>\n",
       "      <td>https://www.francesoir.fr/politique-france/bac...</td>\n",
       "      <td>Voir: Comment tricher au bac risque de vous co...</td>\n",
       "      <td>61</td>\n",
       "    </tr>\n",
       "    <tr>\n",
       "      <th>1931</th>\n",
       "      <td>https://www.francesoir.fr/politique-france/bac...</td>\n",
       "      <td>L'intersyndicale qui regroupe également la CGT...</td>\n",
       "      <td>488</td>\n",
       "    </tr>\n",
       "    <tr>\n",
       "      <th>1932</th>\n",
       "      <td>https://www.francesoir.fr/politique-france/bac...</td>\n",
       "      <td>Toutefois selon le ministère de l'Education, l...</td>\n",
       "      <td>267</td>\n",
       "    </tr>\n",
       "    <tr>\n",
       "      <th>1933</th>\n",
       "      <td>https://www.francesoir.fr/politique-france/bac...</td>\n",
       "      <td>Lire aussi:</td>\n",
       "      <td>11</td>\n",
       "    </tr>\n",
       "    <tr>\n",
       "      <th>1934</th>\n",
       "      <td>https://www.francesoir.fr/politique-france/bac...</td>\n",
       "      <td>Blanquer: \"le baccalauréat se passera de façon...</td>\n",
       "      <td>81</td>\n",
       "    </tr>\n",
       "  </tbody>\n",
       "</table>\n",
       "<p>1935 rows × 3 columns</p>\n",
       "</div>"
      ],
      "text/plain": [
       "                                                    url  \\\n",
       "0     https://lesakerfrancophone.fr/la-relation-entr...   \n",
       "1     https://lesakerfrancophone.fr/la-relation-entr...   \n",
       "2     https://lesakerfrancophone.fr/la-relation-entr...   \n",
       "3     https://lesakerfrancophone.fr/la-relation-entr...   \n",
       "4     https://lesakerfrancophone.fr/la-relation-entr...   \n",
       "...                                                 ...   \n",
       "1930  https://www.francesoir.fr/politique-france/bac...   \n",
       "1931  https://www.francesoir.fr/politique-france/bac...   \n",
       "1932  https://www.francesoir.fr/politique-france/bac...   \n",
       "1933  https://www.francesoir.fr/politique-france/bac...   \n",
       "1934  https://www.francesoir.fr/politique-france/bac...   \n",
       "\n",
       "                                              paragraph  c_count  \n",
       "0       La relation entre la technologie et la religion       47  \n",
       "1     Par Austin Cline − Le 27 fevrier 2019 − Source...       62  \n",
       "2     De nombreux laïcs et non-croyants de toutes so...      629  \n",
       "3     Pourquoi assistons-nous à un enchantement géné...      510  \n",
       "4     Les athées sont souvent prêts à critiquer les ...      167  \n",
       "...                                                 ...      ...  \n",
       "1930  Voir: Comment tricher au bac risque de vous co...       61  \n",
       "1931  L'intersyndicale qui regroupe également la CGT...      488  \n",
       "1932  Toutefois selon le ministère de l'Education, l...      267  \n",
       "1933                                        Lire aussi:       11  \n",
       "1934  Blanquer: \"le baccalauréat se passera de façon...       81  \n",
       "\n",
       "[1935 rows x 3 columns]"
      ]
     },
     "execution_count": 31,
     "metadata": {},
     "output_type": "execute_result"
    }
   ],
   "source": [
    "df_parag"
   ]
  },
  {
   "cell_type": "code",
   "execution_count": 25,
   "id": "015a6ce4",
   "metadata": {},
   "outputs": [],
   "source": [
    "df_parag['c_count']=df_parag['paragraph'].apply(len)"
   ]
  },
  {
   "cell_type": "code",
   "execution_count": 27,
   "id": "3ddf1828",
   "metadata": {},
   "outputs": [],
   "source": [
    "df_parag.to_csv('data/tmp/230802-paragraphs.csv',index=False)"
   ]
  },
  {
   "cell_type": "code",
   "execution_count": 26,
   "id": "bb67e85b",
   "metadata": {},
   "outputs": [
    {
     "data": {
      "text/plain": [
       "<seaborn.axisgrid.FacetGrid at 0x167ddc130>"
      ]
     },
     "execution_count": 26,
     "metadata": {},
     "output_type": "execute_result"
    },
    {
     "data": {
      "image/png": "[encoded data removed]",
      "text/plain": [
       "<Figure size 500x500 with 1 Axes>"
      ]
     },
     "metadata": {},
     "output_type": "display_data"
    }
   ],
   "source": [
    "sns.displot(df_parag,x='c_count')"
   ]
  },
  {
   "cell_type": "code",
   "execution_count": 32,
   "id": "a3da239f",
   "metadata": {},
   "outputs": [],
   "source": [
    "sents=[] \n",
    "for index,row in df_obsinfo2307.iterrows():\n",
    "    sents.append({\n",
    "        'url': row['url'],\n",
    "        'sentence': row['title'],\n",
    "    })\n",
    "    for p in row['paragraphs']:\n",
    "        for s in p.split('.'):\n",
    "            sents.append({\n",
    "                'url': row['url'],\n",
    "                'sentence': s,\n",
    "            })"
   ]
  },
  {
   "cell_type": "code",
   "execution_count": 33,
   "id": "d05f2391",
   "metadata": {},
   "outputs": [],
   "source": [
    "df_sent = pd.DataFrame(sents)"
   ]
  },
  {
   "cell_type": "code",
   "execution_count": 34,
   "id": "546b2f37",
   "metadata": {
    "scrolled": true
   },
   "outputs": [
    {
     "data": {
      "text/html": [
       "<div>\n",
       "<style scoped>\n",
       "    .dataframe tbody tr th:only-of-type {\n",
       "        vertical-align: middle;\n",
       "    }\n",
       "\n",
       "    .dataframe tbody tr th {\n",
       "        vertical-align: top;\n",
       "    }\n",
       "\n",
       "    .dataframe thead th {\n",
       "        text-align: right;\n",
       "    }\n",
       "</style>\n",
       "<table border=\"1\" class=\"dataframe\">\n",
       "  <thead>\n",
       "    <tr style=\"text-align: right;\">\n",
       "      <th></th>\n",
       "      <th>url</th>\n",
       "      <th>sentence</th>\n",
       "    </tr>\n",
       "  </thead>\n",
       "  <tbody>\n",
       "    <tr>\n",
       "      <th>0</th>\n",
       "      <td>https://lesakerfrancophone.fr/la-relation-entr...</td>\n",
       "      <td>La relation entre la technologie et la religion</td>\n",
       "    </tr>\n",
       "    <tr>\n",
       "      <th>1</th>\n",
       "      <td>https://lesakerfrancophone.fr/la-relation-entr...</td>\n",
       "      <td>Par Austin Cline − Le 27 fevrier 2019 − Source...</td>\n",
       "    </tr>\n",
       "    <tr>\n",
       "      <th>2</th>\n",
       "      <td>https://lesakerfrancophone.fr/la-relation-entr...</td>\n",
       "      <td>De nombreux laïcs et non-croyants de toutes so...</td>\n",
       "    </tr>\n",
       "    <tr>\n",
       "      <th>3</th>\n",
       "      <td>https://lesakerfrancophone.fr/la-relation-entr...</td>\n",
       "      <td>Cette incompatibilité est également imaginée ...</td>\n",
       "    </tr>\n",
       "    <tr>\n",
       "      <th>4</th>\n",
       "      <td>https://lesakerfrancophone.fr/la-relation-entr...</td>\n",
       "      <td>Ainsi, bon nombre d’athées s’émerveillent ave...</td>\n",
       "    </tr>\n",
       "    <tr>\n",
       "      <th>...</th>\n",
       "      <td>...</td>\n",
       "      <td>...</td>\n",
       "    </tr>\n",
       "    <tr>\n",
       "      <th>5951</th>\n",
       "      <td>https://www.francesoir.fr/politique-france/bac...</td>\n",
       "      <td>Toutefois selon le ministère de l'Education, l...</td>\n",
       "    </tr>\n",
       "    <tr>\n",
       "      <th>5952</th>\n",
       "      <td>https://www.francesoir.fr/politique-france/bac...</td>\n",
       "      <td>Jean-Michel Blanquer a assuré que l'examen se...</td>\n",
       "    </tr>\n",
       "    <tr>\n",
       "      <th>5953</th>\n",
       "      <td>https://www.francesoir.fr/politique-france/bac...</td>\n",
       "      <td></td>\n",
       "    </tr>\n",
       "    <tr>\n",
       "      <th>5954</th>\n",
       "      <td>https://www.francesoir.fr/politique-france/bac...</td>\n",
       "      <td>Lire aussi:</td>\n",
       "    </tr>\n",
       "    <tr>\n",
       "      <th>5955</th>\n",
       "      <td>https://www.francesoir.fr/politique-france/bac...</td>\n",
       "      <td>Blanquer: \"le baccalauréat se passera de façon...</td>\n",
       "    </tr>\n",
       "  </tbody>\n",
       "</table>\n",
       "<p>5956 rows × 2 columns</p>\n",
       "</div>"
      ],
      "text/plain": [
       "                                                    url  \\\n",
       "0     https://lesakerfrancophone.fr/la-relation-entr...   \n",
       "1     https://lesakerfrancophone.fr/la-relation-entr...   \n",
       "2     https://lesakerfrancophone.fr/la-relation-entr...   \n",
       "3     https://lesakerfrancophone.fr/la-relation-entr...   \n",
       "4     https://lesakerfrancophone.fr/la-relation-entr...   \n",
       "...                                                 ...   \n",
       "5951  https://www.francesoir.fr/politique-france/bac...   \n",
       "5952  https://www.francesoir.fr/politique-france/bac...   \n",
       "5953  https://www.francesoir.fr/politique-france/bac...   \n",
       "5954  https://www.francesoir.fr/politique-france/bac...   \n",
       "5955  https://www.francesoir.fr/politique-france/bac...   \n",
       "\n",
       "                                               sentence  \n",
       "0       La relation entre la technologie et la religion  \n",
       "1     Par Austin Cline − Le 27 fevrier 2019 − Source...  \n",
       "2     De nombreux laïcs et non-croyants de toutes so...  \n",
       "3      Cette incompatibilité est également imaginée ...  \n",
       "4      Ainsi, bon nombre d’athées s’émerveillent ave...  \n",
       "...                                                 ...  \n",
       "5951  Toutefois selon le ministère de l'Education, l...  \n",
       "5952   Jean-Michel Blanquer a assuré que l'examen se...  \n",
       "5953                                                     \n",
       "5954                                        Lire aussi:  \n",
       "5955  Blanquer: \"le baccalauréat se passera de façon...  \n",
       "\n",
       "[5956 rows x 2 columns]"
      ]
     },
     "execution_count": 34,
     "metadata": {},
     "output_type": "execute_result"
    }
   ],
   "source": [
    "df_sent"
   ]
  },
  {
   "cell_type": "code",
   "execution_count": 36,
   "id": "5f42c281",
   "metadata": {},
   "outputs": [],
   "source": [
    "df_sent['c_count']=df_sent['sentence'].apply(len)"
   ]
  },
  {
   "cell_type": "code",
   "execution_count": 39,
   "id": "eb2c38ab",
   "metadata": {},
   "outputs": [],
   "source": [
    "df_sent = df_sent[df_sent['c_count']>0]"
   ]
  },
  {
   "cell_type": "code",
   "execution_count": 40,
   "id": "1ef20919",
   "metadata": {},
   "outputs": [
    {
     "data": {
      "text/plain": [
       "<seaborn.axisgrid.FacetGrid at 0x1695a12e0>"
      ]
     },
     "execution_count": 40,
     "metadata": {},
     "output_type": "execute_result"
    },
    {
     "data": {
      "image/png": "[encoded data removed]",
      "text/plain": [
       "<Figure size 500x500 with 1 Axes>"
      ]
     },
     "metadata": {},
     "output_type": "display_data"
    }
   ],
   "source": [
    "sns.displot(df_sent,x='c_count')"
   ]
  },
  {
   "cell_type": "code",
   "execution_count": 41,
   "id": "1957af67",
   "metadata": {},
   "outputs": [],
   "source": [
    "df_sent.to_csv('data/tmp/230802-sentences.csv',index=False)"
   ]
  },
  {
   "cell_type": "markdown",
   "id": "ec590c2b",
   "metadata": {},
   "source": [
    "## Reduction des textes à 13 paragraphes"
   ]
  },
  {
   "cell_type": "code",
   "execution_count": null,
   "id": "8fd2b553",
   "metadata": {},
   "outputs": [],
   "source": [
    "p_count = 13\n",
    "def partial_texts(text):\n",
    "    parags = text.split('\\n')\n",
    "    result='\\n'.join(parags[:p_count])\n",
    "    return result\n",
    "\n",
    "df_obsinfo2307['p_text'] = df_obsinfo2307['text'].apply(partial_texts)\n",
    "\n",
    "df_obsinfo2307['p_c_count']=df_obsinfo2307['p_text'].apply(len)\n",
    "\n",
    "sns.displot(df_obsinfo2307['p_c_count'])"
   ]
  },
  {
   "cell_type": "markdown",
   "id": "6b548bc6",
   "metadata": {},
   "source": [
    "# Experience\n",
    "---"
   ]
  },
  {
   "cell_type": "markdown",
   "id": "a306ba37",
   "metadata": {},
   "source": [
    "## Test Gpt class"
   ]
  },
  {
   "cell_type": "code",
   "execution_count": null,
   "id": "40cc3fbc",
   "metadata": {},
   "outputs": [],
   "source": [
    "import patat.model.gpt"
   ]
  },
  {
   "cell_type": "code",
   "execution_count": null,
   "id": "978d6d30",
   "metadata": {},
   "outputs": [],
   "source": [
    "importlib.reload(patat.model.gpt)"
   ]
  },
  {
   "cell_type": "code",
   "execution_count": null,
   "id": "0e3ab776",
   "metadata": {},
   "outputs": [],
   "source": [
    "gpt = patat.model.gpt.Gpt()"
   ]
  },
  {
   "cell_type": "code",
   "execution_count": null,
   "id": "97a2e58c",
   "metadata": {},
   "outputs": [],
   "source": [
    "gpt.get_embeddings('Ceci est une première phrase')"
   ]
  },
  {
   "cell_type": "markdown",
   "id": "2048ac63",
   "metadata": {},
   "source": [
    "## Tests de prompts"
   ]
  },
  {
   "cell_type": "code",
   "execution_count": null,
   "id": "1a23a7ed",
   "metadata": {},
   "outputs": [],
   "source": [
    "def ask_gpt_completion(prompt):\n",
    "    response = openai.Completion.create(\n",
    "            engine=\"text-davinci-003\",\n",
    "            prompt=prompt,\n",
    "            temperature=0,\n",
    "            max_tokens=512,\n",
    "            top_p=1,\n",
    "            frequency_penalty=0,\n",
    "            presence_penalty=0,\n",
    "        )\n",
    "    return response['choices'][0]['text']\n"
   ]
  },
  {
   "cell_type": "code",
   "execution_count": null,
   "id": "c7d0251c",
   "metadata": {},
   "outputs": [],
   "source": [
    "def ask_gpt_chat(prompt, system_context=''):\n",
    "    messages = []\n",
    "    if system_context :\n",
    "        messages.append({\"role\": \"system\", \"content\": system_context})\n",
    "    question = {}\n",
    "    question['role'] = 'user'\n",
    "    question['content'] = prompt\n",
    "    messages.append(question)\n",
    "    response =  openai.ChatCompletion.create(model=\"gpt-3.5-turbo\",messages=messages,\n",
    "            temperature=0,\n",
    "            max_tokens=512,\n",
    "            top_p=1,\n",
    "            frequency_penalty=0,\n",
    "            presence_penalty=0,\n",
    "        )\n",
    "    return response['choices'][0]['message']['content']"
   ]
  },
  {
   "cell_type": "code",
   "execution_count": null,
   "id": "920db95a",
   "metadata": {},
   "outputs": [],
   "source": [
    "prompt = 'Raconte moi une blague'"
   ]
  },
  {
   "cell_type": "code",
   "execution_count": null,
   "id": "9a547885",
   "metadata": {},
   "outputs": [],
   "source": [
    "ask_gpt_chat(prompt)"
   ]
  },
  {
   "cell_type": "code",
   "execution_count": null,
   "id": "a36f35dd",
   "metadata": {},
   "outputs": [],
   "source": [
    "consigne = \"\"\"\n",
    "Nous allons te poser des questions dans le cadre d'une expérience où tes réponses seront comparées à des réponses humaines.\n",
    "Il s'agit de classifer des textes selon une liste de labels prédéfinis.\n",
    "Pour chacun tes labels, tu répondras 1 pour oui ou 0 pour non.\n",
    "Les labels sont les suivants :\n",
    "- infox : contient au moins un fait qui est décrit ou insinué, et qui est faux ou dont la description est exagérée\n",
    "- lieux, dates et personnes : Mentionne au moins un lieu, une date ou une personne \n",
    "- faits : Décrit au moins un fait (un état de chose ou événement, qui peut être vrai ou faux)\n",
    "- opinions : Formule au moins une opinion \n",
    "- subjectif : L’article présente plus des opinions que des faits, \n",
    "- propos rapporté : Le contenu de l'article est rapporté par une autre personne ou une autre source, donc l’article est “indirect”, \n",
    "- sources citées : Une source d'information (identifiable) est citée, pour un fait au moins\n",
    "- fausse nouvelle : Un fait décrit dans l’article est faux \n",
    "- insinuations : L'article laisse à penser un fait sans le dire explicitement \n",
    "- exagération : L’article exagère un fait réel, \n",
    "- titre décalé : Le titre est trompeur et ne reflète pas correctement le contenu de l’article\n",
    "\"\"\""
   ]
  },
  {
   "cell_type": "code",
   "execution_count": null,
   "id": "008232b2",
   "metadata": {},
   "outputs": [],
   "source": [
    "def gpt35_annotate(text):\n",
    "    prompt = f'{consigne}\\nVoici le texte à analyser :\\n{text}'\n",
    "    return ask_gpt_chat(prompt)"
   ]
  },
  {
   "cell_type": "markdown",
   "id": "ed443bd8",
   "metadata": {},
   "source": [
    "## Annotation par gpt-3.5"
   ]
  },
  {
   "cell_type": "code",
   "execution_count": null,
   "id": "a4ce8a5f",
   "metadata": {},
   "outputs": [],
   "source": [
    "gpt35_text = []"
   ]
  },
  {
   "cell_type": "code",
   "execution_count": null,
   "id": "1586b01f",
   "metadata": {},
   "outputs": [],
   "source": [
    "for index,row in df_obsinfo2307.iterrows():\n",
    "    if index>89:\n",
    "        print(index,row['title'])\n",
    "        gpt35_text.append({\n",
    "            'url_h':row['url_h'],\n",
    "            'title':row['title'],\n",
    "            'gpt35-labels': gpt35_annotate(row['p_text']),\n",
    "        })"
   ]
  },
  {
   "cell_type": "code",
   "execution_count": null,
   "id": "9225a16c",
   "metadata": {},
   "outputs": [],
   "source": [
    "df_gpt = pd.DataFrame(gpt35_text)"
   ]
  },
  {
   "cell_type": "code",
   "execution_count": null,
   "id": "3c8e8303",
   "metadata": {},
   "outputs": [],
   "source": [
    "def split_gpt_response(text):\n",
    "    text = normalize_gpt_text(text)\n",
    "    lines = text.split('\\n')\n",
    "    response = {}\n",
    "    for line in lines:\n",
    "        items = line.split(':')\n",
    "        if len(items)==2:\n",
    "            if items[1]!='':\n",
    "                response[items[0].strip()]=float(items[1].strip(' '))\n",
    "    return response"
   ]
  },
  {
   "cell_type": "code",
   "execution_count": null,
   "id": "fd23fdac",
   "metadata": {},
   "outputs": [],
   "source": [
    "gpt_labels = df_gpt['gpt35-labels'].apply(split_gpt_response)"
   ]
  },
  {
   "cell_type": "code",
   "execution_count": null,
   "id": "e5798bf8",
   "metadata": {},
   "outputs": [],
   "source": [
    "def normalize_gpt_text(text):\n",
    "    text = text.replace('Voici les réponses pour chaque label :\\n\\n- ','')\n",
    "    text = text.replace('les informations fournies, voici les réponses aux différentes questions','')  \n",
    "    text = text.replace('-','')\n",
    "    return text"
   ]
  },
  {
   "cell_type": "code",
   "execution_count": null,
   "id": "d019993f",
   "metadata": {},
   "outputs": [],
   "source": [
    "df_obs_gpt = pd.concat([df_obsinfo2307,pd.DataFrame(list(gpt_labels))],axis=1)"
   ]
  },
  {
   "cell_type": "code",
   "execution_count": null,
   "id": "754216b9",
   "metadata": {},
   "outputs": [],
   "source": [
    "df_obs_gpt.to_csv('data/tmp/230718-Gpt.csv')"
   ]
  },
  {
   "cell_type": "markdown",
   "id": "76996d3a",
   "metadata": {},
   "source": [
    "# Sauvegarde des résultats\n",
    "---"
   ]
  },
  {
   "cell_type": "code",
   "execution_count": null,
   "id": "b9dd7c9f",
   "metadata": {},
   "outputs": [],
   "source": []
  },
  {
   "cell_type": "code",
   "execution_count": null,
   "id": "f39f8729",
   "metadata": {},
   "outputs": [],
   "source": []
  },
  {
   "cell_type": "markdown",
   "id": "fb7949bc",
   "metadata": {},
   "source": [
    "# Conclusions\n",
    "---"
   ]
  },
  {
   "cell_type": "markdown",
   "id": "bd360655",
   "metadata": {},
   "source": [
    "# Bricolages\n",
    "---"
   ]
  },
  {
   "cell_type": "code",
   "execution_count": null,
   "id": "f9862890",
   "metadata": {},
   "outputs": [],
   "source": [
    "import os\n",
    "import openai"
   ]
  },
  {
   "cell_type": "code",
   "execution_count": null,
   "id": "6ab100d2",
   "metadata": {},
   "outputs": [],
   "source": [
    "openai.organization = os.getenv(\"OPENAI_ORG_ID\")\n",
    "openai.api_key = os.getenv(\"OPENAI_API_KEY\")\n"
   ]
  },
  {
   "cell_type": "code",
   "execution_count": null,
   "id": "6f056497",
   "metadata": {},
   "outputs": [],
   "source": [
    "model_list = openai.Model.list()"
   ]
  },
  {
   "cell_type": "code",
   "execution_count": null,
   "id": "838f2633",
   "metadata": {},
   "outputs": [],
   "source": [
    "[model['id'] for model in model_list['data']]"
   ]
  },
  {
   "cell_type": "code",
   "execution_count": null,
   "id": "3917c692",
   "metadata": {},
   "outputs": [],
   "source": []
  }
 ],
 "metadata": {
  "kernelspec": {
   "display_name": "Python 3 (ipykernel)",
   "language": "python",
   "name": "python3"
  },
  "language_info": {
   "codemirror_mode": {
    "name": "ipython",
    "version": 3
   },
   "file_extension": ".py",
   "mimetype": "text/x-python",
   "name": "python",
   "nbconvert_exporter": "python",
   "pygments_lexer": "ipython3",
   "version": "3.9.16"
  }
 },
 "nbformat": 4,
 "nbformat_minor": 5
}
