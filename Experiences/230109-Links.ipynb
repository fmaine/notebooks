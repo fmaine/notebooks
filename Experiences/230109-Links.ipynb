{
 "cells": [
  {
   "cell_type": "markdown",
   "id": "e3ec4689",
   "metadata": {},
   "source": [
    "# Plateforme Agnostique de Traitement et d'Analyse des Textes\n",
    "### Carnet d'expérimentation\n",
    "---\n",
    "\n",
    "## Sujet : Liens entre sites sous observation\n",
    "\n",
    "---"
   ]
  },
  {
   "cell_type": "markdown",
   "id": "2601e626",
   "metadata": {},
   "source": [
    "# Observations et environnement\n",
    "---"
   ]
  },
  {
   "cell_type": "code",
   "execution_count": 1,
   "id": "5d0de4d7",
   "metadata": {},
   "outputs": [
    {
     "name": "stdout",
     "output_type": "stream",
     "text": [
      "/Users/fm/Desktop/Work/Patat\n"
     ]
    }
   ],
   "source": [
    "cd ../.."
   ]
  },
  {
   "cell_type": "code",
   "execution_count": 2,
   "id": "32256b0d",
   "metadata": {},
   "outputs": [],
   "source": [
    "import importlib\n",
    "import pandas as pd\n",
    "import seaborn as sns"
   ]
  },
  {
   "cell_type": "markdown",
   "id": "1041ca5c",
   "metadata": {},
   "source": [
    "## Liens"
   ]
  },
  {
   "cell_type": "code",
   "execution_count": 8,
   "id": "e15a81cc",
   "metadata": {},
   "outputs": [],
   "source": [
    "df_links = pd.read_csv('data/tmp/230105-ExtLinks.csv')"
   ]
  },
  {
   "cell_type": "code",
   "execution_count": 9,
   "id": "f39830f7",
   "metadata": {},
   "outputs": [],
   "source": [
    "df_links = df_links.drop(columns = 'Unnamed: 0')"
   ]
  },
  {
   "cell_type": "code",
   "execution_count": 10,
   "id": "6800a89c",
   "metadata": {},
   "outputs": [
    {
     "data": {
      "text/html": [
       "<div>\n",
       "<style scoped>\n",
       "    .dataframe tbody tr th:only-of-type {\n",
       "        vertical-align: middle;\n",
       "    }\n",
       "\n",
       "    .dataframe tbody tr th {\n",
       "        vertical-align: top;\n",
       "    }\n",
       "\n",
       "    .dataframe thead th {\n",
       "        text-align: right;\n",
       "    }\n",
       "</style>\n",
       "<table border=\"1\" class=\"dataframe\">\n",
       "  <thead>\n",
       "    <tr style=\"text-align: right;\">\n",
       "      <th></th>\n",
       "      <th>source_site</th>\n",
       "      <th>link_site</th>\n",
       "      <th>nb_links</th>\n",
       "    </tr>\n",
       "  </thead>\n",
       "  <tbody>\n",
       "    <tr>\n",
       "      <th>0</th>\n",
       "      <td>www.dreuz.info</td>\n",
       "      <td>www.addtoany.com</td>\n",
       "      <td>55024</td>\n",
       "    </tr>\n",
       "    <tr>\n",
       "      <th>1</th>\n",
       "      <td>reseauinternational.net</td>\n",
       "      <td>twitter.com</td>\n",
       "      <td>29542</td>\n",
       "    </tr>\n",
       "    <tr>\n",
       "      <th>2</th>\n",
       "      <td>reseauinternational.net</td>\n",
       "      <td>www.facebook.com</td>\n",
       "      <td>27773</td>\n",
       "    </tr>\n",
       "    <tr>\n",
       "      <th>3</th>\n",
       "      <td>reseauinternational.net</td>\n",
       "      <td>linkedin.com</td>\n",
       "      <td>27740</td>\n",
       "    </tr>\n",
       "    <tr>\n",
       "      <th>4</th>\n",
       "      <td>www.francesoir.fr</td>\n",
       "      <td>videos.francesoir.fr</td>\n",
       "      <td>23729</td>\n",
       "    </tr>\n",
       "    <tr>\n",
       "      <th>...</th>\n",
       "      <td>...</td>\n",
       "      <td>...</td>\n",
       "      <td>...</td>\n",
       "    </tr>\n",
       "    <tr>\n",
       "      <th>38646</th>\n",
       "      <td>reseauinternational.net</td>\n",
       "      <td>www.spaceweatherlive.com</td>\n",
       "      <td>1</td>\n",
       "    </tr>\n",
       "    <tr>\n",
       "      <th>38647</th>\n",
       "      <td>reseauinternational.net</td>\n",
       "      <td>www.spacedoc.com</td>\n",
       "      <td>1</td>\n",
       "    </tr>\n",
       "    <tr>\n",
       "      <th>38648</th>\n",
       "      <td>reseauinternational.net</td>\n",
       "      <td>www.sott.net</td>\n",
       "      <td>1</td>\n",
       "    </tr>\n",
       "    <tr>\n",
       "      <th>38649</th>\n",
       "      <td>reseauinternational.net</td>\n",
       "      <td>www.soros.md</td>\n",
       "      <td>1</td>\n",
       "    </tr>\n",
       "    <tr>\n",
       "      <th>38650</th>\n",
       "      <td>www.wikistrike.com</td>\n",
       "      <td>’issue d’une réunion des ministres de la Défen...</td>\n",
       "      <td>1</td>\n",
       "    </tr>\n",
       "  </tbody>\n",
       "</table>\n",
       "<p>38651 rows × 3 columns</p>\n",
       "</div>"
      ],
      "text/plain": [
       "                   source_site  \\\n",
       "0               www.dreuz.info   \n",
       "1      reseauinternational.net   \n",
       "2      reseauinternational.net   \n",
       "3      reseauinternational.net   \n",
       "4            www.francesoir.fr   \n",
       "...                        ...   \n",
       "38646  reseauinternational.net   \n",
       "38647  reseauinternational.net   \n",
       "38648  reseauinternational.net   \n",
       "38649  reseauinternational.net   \n",
       "38650       www.wikistrike.com   \n",
       "\n",
       "                                               link_site  nb_links  \n",
       "0                                       www.addtoany.com     55024  \n",
       "1                                            twitter.com     29542  \n",
       "2                                       www.facebook.com     27773  \n",
       "3                                           linkedin.com     27740  \n",
       "4                                   videos.francesoir.fr     23729  \n",
       "...                                                  ...       ...  \n",
       "38646                           www.spaceweatherlive.com         1  \n",
       "38647                                   www.spacedoc.com         1  \n",
       "38648                                       www.sott.net         1  \n",
       "38649                                       www.soros.md         1  \n",
       "38650  ’issue d’une réunion des ministres de la Défen...         1  \n",
       "\n",
       "[38651 rows x 3 columns]"
      ]
     },
     "execution_count": 10,
     "metadata": {},
     "output_type": "execute_result"
    }
   ],
   "source": [
    "df_links"
   ]
  },
  {
   "cell_type": "code",
   "execution_count": null,
   "id": "c77ec74d",
   "metadata": {},
   "outputs": [],
   "source": [
    "importlib.reload(patat.db.article_db)\n",
    "article_filename = ''\n",
    "\n",
    "article_db = patat.db.article_db.ArticleDb(article_filename)\n",
    "article_db.df()"
   ]
  },
  {
   "cell_type": "markdown",
   "id": "f32351c1",
   "metadata": {},
   "source": [
    "# Experience\n",
    "---"
   ]
  },
  {
   "cell_type": "markdown",
   "id": "442eac71",
   "metadata": {},
   "source": [
    "## Matrice"
   ]
  },
  {
   "cell_type": "code",
   "execution_count": 12,
   "id": "fb4b76e0",
   "metadata": {},
   "outputs": [],
   "source": [
    "sites_parses = ['www.dreuz.info', 'reseauinternational.net', 'www.francesoir.fr',\n",
    "       'fr.sott.net', 'www.wikistrike.com', 'lezarceleurs.blogspot.com',\n",
    "       'www.lelibrepenseur.org', 'www.breizh-info.com',\n",
    "       'www.profession-gendarme.com', 'lemediaen442.fr', 'www.cnews.fr',\n",
    "       'www.lesalonbeige.fr', 'lesakerfrancophone.fr',\n",
    "       'lesmoutonsrebelles.com', 'lesobservateurs.ch', 'www.polemia.com',\n",
    "       'infodujour.fr', 'fr.novopress.info', 'www.nouvelordremondial.cc',\n",
    "       'lesdeqodeurs.fr', 'lecourrier-du-soir.com', 'www.voltairenet.org',\n",
    "       'www.bvoltaire.fr', 'www.anguillesousroche.com', 'www.alnas.fr',\n",
    "       'www.les-crises.fr', 'lalettrepatriote.com']"
   ]
  },
  {
   "cell_type": "code",
   "execution_count": 13,
   "id": "0f53552e",
   "metadata": {},
   "outputs": [
    {
     "data": {
      "text/plain": [
       "27"
      ]
     },
     "execution_count": 13,
     "metadata": {},
     "output_type": "execute_result"
    }
   ],
   "source": [
    "len(sites_parses)"
   ]
  },
  {
   "cell_type": "code",
   "execution_count": 15,
   "id": "e2828331",
   "metadata": {},
   "outputs": [],
   "source": [
    "df_sso = df_links[df_links['link_site'].isin(sites_parses)]"
   ]
  },
  {
   "cell_type": "code",
   "execution_count": 16,
   "id": "02673b1f",
   "metadata": {},
   "outputs": [
    {
     "data": {
      "text/html": [
       "<div>\n",
       "<style scoped>\n",
       "    .dataframe tbody tr th:only-of-type {\n",
       "        vertical-align: middle;\n",
       "    }\n",
       "\n",
       "    .dataframe tbody tr th {\n",
       "        vertical-align: top;\n",
       "    }\n",
       "\n",
       "    .dataframe thead th {\n",
       "        text-align: right;\n",
       "    }\n",
       "</style>\n",
       "<table border=\"1\" class=\"dataframe\">\n",
       "  <thead>\n",
       "    <tr style=\"text-align: right;\">\n",
       "      <th></th>\n",
       "      <th>source_site</th>\n",
       "      <th>link_site</th>\n",
       "      <th>nb_links</th>\n",
       "    </tr>\n",
       "  </thead>\n",
       "  <tbody>\n",
       "    <tr>\n",
       "      <th>47</th>\n",
       "      <td>www.profession-gendarme.com</td>\n",
       "      <td>www.francesoir.fr</td>\n",
       "      <td>3441</td>\n",
       "    </tr>\n",
       "    <tr>\n",
       "      <th>118</th>\n",
       "      <td>lezarceleurs.blogspot.com</td>\n",
       "      <td>www.francesoir.fr</td>\n",
       "      <td>2168</td>\n",
       "    </tr>\n",
       "    <tr>\n",
       "      <th>144</th>\n",
       "      <td>www.wikistrike.com</td>\n",
       "      <td>www.voltairenet.org</td>\n",
       "      <td>1385</td>\n",
       "    </tr>\n",
       "    <tr>\n",
       "      <th>149</th>\n",
       "      <td>reseauinternational.net</td>\n",
       "      <td>www.voltairenet.org</td>\n",
       "      <td>1230</td>\n",
       "    </tr>\n",
       "    <tr>\n",
       "      <th>161</th>\n",
       "      <td>reseauinternational.net</td>\n",
       "      <td>www.wikistrike.com</td>\n",
       "      <td>1156</td>\n",
       "    </tr>\n",
       "    <tr>\n",
       "      <th>...</th>\n",
       "      <td>...</td>\n",
       "      <td>...</td>\n",
       "      <td>...</td>\n",
       "    </tr>\n",
       "    <tr>\n",
       "      <th>34980</th>\n",
       "      <td>reseauinternational.net</td>\n",
       "      <td>fr.novopress.info</td>\n",
       "      <td>1</td>\n",
       "    </tr>\n",
       "    <tr>\n",
       "      <th>35540</th>\n",
       "      <td>reseauinternational.net</td>\n",
       "      <td>lesmoutonsrebelles.com</td>\n",
       "      <td>1</td>\n",
       "    </tr>\n",
       "    <tr>\n",
       "      <th>36201</th>\n",
       "      <td>lezarceleurs.blogspot.com</td>\n",
       "      <td>www.alnas.fr</td>\n",
       "      <td>1</td>\n",
       "    </tr>\n",
       "    <tr>\n",
       "      <th>36931</th>\n",
       "      <td>www.breizh-info.com</td>\n",
       "      <td>infodujour.fr</td>\n",
       "      <td>1</td>\n",
       "    </tr>\n",
       "    <tr>\n",
       "      <th>37981</th>\n",
       "      <td>reseauinternational.net</td>\n",
       "      <td>www.cnews.fr</td>\n",
       "      <td>1</td>\n",
       "    </tr>\n",
       "  </tbody>\n",
       "</table>\n",
       "<p>255 rows × 3 columns</p>\n",
       "</div>"
      ],
      "text/plain": [
       "                       source_site               link_site  nb_links\n",
       "47     www.profession-gendarme.com       www.francesoir.fr      3441\n",
       "118      lezarceleurs.blogspot.com       www.francesoir.fr      2168\n",
       "144             www.wikistrike.com     www.voltairenet.org      1385\n",
       "149        reseauinternational.net     www.voltairenet.org      1230\n",
       "161        reseauinternational.net      www.wikistrike.com      1156\n",
       "...                            ...                     ...       ...\n",
       "34980      reseauinternational.net       fr.novopress.info         1\n",
       "35540      reseauinternational.net  lesmoutonsrebelles.com         1\n",
       "36201    lezarceleurs.blogspot.com            www.alnas.fr         1\n",
       "36931          www.breizh-info.com           infodujour.fr         1\n",
       "37981      reseauinternational.net            www.cnews.fr         1\n",
       "\n",
       "[255 rows x 3 columns]"
      ]
     },
     "execution_count": 16,
     "metadata": {},
     "output_type": "execute_result"
    }
   ],
   "source": [
    "df_sso"
   ]
  },
  {
   "cell_type": "code",
   "execution_count": 20,
   "id": "a5b2dd38",
   "metadata": {},
   "outputs": [],
   "source": [
    "df_matrix = pd.pivot_table(df_sso, values='nb_links', index='source_site',columns=['link_site'])"
   ]
  },
  {
   "cell_type": "code",
   "execution_count": 22,
   "id": "a9a8d4c9",
   "metadata": {},
   "outputs": [],
   "source": [
    "df_matrix.fillna(0,inplace=True)"
   ]
  },
  {
   "cell_type": "code",
   "execution_count": 25,
   "id": "c1e7ef7b",
   "metadata": {},
   "outputs": [],
   "source": [
    "df_matrix = df_matrix.astype(int)"
   ]
  },
  {
   "cell_type": "code",
   "execution_count": 27,
   "id": "e6774348",
   "metadata": {},
   "outputs": [],
   "source": [
    "df_non_sso = df_links[~df_links['link_site'].isin(sites_parses)]"
   ]
  },
  {
   "cell_type": "code",
   "execution_count": 29,
   "id": "d4dc39e0",
   "metadata": {},
   "outputs": [],
   "source": [
    "df_matrix_non_sso = pd.pivot_table(df_non_sso, values='nb_links', index='source_site',columns=['link_site'])"
   ]
  },
  {
   "cell_type": "code",
   "execution_count": 32,
   "id": "ecf483bb",
   "metadata": {},
   "outputs": [
    {
     "data": {
      "text/plain": [
       "23020"
      ]
     },
     "execution_count": 32,
     "metadata": {},
     "output_type": "execute_result"
    }
   ],
   "source": [
    "len(df_links['link_site'].unique())"
   ]
  },
  {
   "cell_type": "code",
   "execution_count": 35,
   "id": "2b6d635a",
   "metadata": {},
   "outputs": [],
   "source": [
    "df_links = df_links[df_links['link_site'].notna()]"
   ]
  },
  {
   "cell_type": "code",
   "execution_count": 40,
   "id": "e001a452",
   "metadata": {},
   "outputs": [],
   "source": [
    "import re"
   ]
  },
  {
   "cell_type": "code",
   "execution_count": 46,
   "id": "0fffc3d0",
   "metadata": {},
   "outputs": [],
   "source": [
    "re_site = r'[\\w\\.\\-]+'\n",
    "re_site = r'^((?!-)[A-Za-z0-9-]{1, 63}(?<!-)\\\\.)+[A-Za-z]{2, 6}$'"
   ]
  },
  {
   "cell_type": "code",
   "execution_count": 49,
   "id": "dea43710",
   "metadata": {},
   "outputs": [],
   "source": [
    "re.match(re_site,df_links['link_site'][1])"
   ]
  },
  {
   "cell_type": "code",
   "execution_count": 50,
   "id": "ecf0aa57",
   "metadata": {},
   "outputs": [
    {
     "data": {
      "text/html": [
       "<div>\n",
       "<style scoped>\n",
       "    .dataframe tbody tr th:only-of-type {\n",
       "        vertical-align: middle;\n",
       "    }\n",
       "\n",
       "    .dataframe tbody tr th {\n",
       "        vertical-align: top;\n",
       "    }\n",
       "\n",
       "    .dataframe thead th {\n",
       "        text-align: right;\n",
       "    }\n",
       "</style>\n",
       "<table border=\"1\" class=\"dataframe\">\n",
       "  <thead>\n",
       "    <tr style=\"text-align: right;\">\n",
       "      <th></th>\n",
       "      <th>source_site</th>\n",
       "      <th>link_site</th>\n",
       "      <th>nb_links</th>\n",
       "    </tr>\n",
       "  </thead>\n",
       "  <tbody>\n",
       "    <tr>\n",
       "      <th>104</th>\n",
       "      <td>fr.sott.net</td>\n",
       "      <td>antialiasfactory.deviantart.com</td>\n",
       "      <td>2602</td>\n",
       "    </tr>\n",
       "    <tr>\n",
       "      <th>139</th>\n",
       "      <td>lezarceleurs.blogspot.com</td>\n",
       "      <td>www-naturalnews-com.translate.goog</td>\n",
       "      <td>1492</td>\n",
       "    </tr>\n",
       "    <tr>\n",
       "      <th>322</th>\n",
       "      <td>lezarceleurs.blogspot.com</td>\n",
       "      <td>childrenshealthdefense-org.translate.goog</td>\n",
       "      <td>155</td>\n",
       "    </tr>\n",
       "    <tr>\n",
       "      <th>435</th>\n",
       "      <td>www.nouvelordremondial.cc</td>\n",
       "      <td>www.2012un-nouveau-paradigme.com</td>\n",
       "      <td>97</td>\n",
       "    </tr>\n",
       "    <tr>\n",
       "      <th>441</th>\n",
       "      <td>www.nouvelordremondial.cc</td>\n",
       "      <td>ufosightingshotspot.blogspot.com</td>\n",
       "      <td>97</td>\n",
       "    </tr>\n",
       "    <tr>\n",
       "      <th>...</th>\n",
       "      <td>...</td>\n",
       "      <td>...</td>\n",
       "      <td>...</td>\n",
       "    </tr>\n",
       "    <tr>\n",
       "      <th>38380</th>\n",
       "      <td>www.breizh-info.com</td>\n",
       "      <td>Réservations sur le site citoyens-bretons.org</td>\n",
       "      <td>1</td>\n",
       "    </tr>\n",
       "    <tr>\n",
       "      <th>38391</th>\n",
       "      <td>www.breizh-info.com</td>\n",
       "      <td>actualitechretienne.wordpress.com</td>\n",
       "      <td>1</td>\n",
       "    </tr>\n",
       "    <tr>\n",
       "      <th>38404</th>\n",
       "      <td>www.breizh-info.com</td>\n",
       "      <td>Zemmour,%20danger%20pour%20la%20démocratie%20</td>\n",
       "      <td>1</td>\n",
       "    </tr>\n",
       "    <tr>\n",
       "      <th>38553</th>\n",
       "      <td>reseauinternational.net</td>\n",
       "      <td>www.thecanadianencyclopedia.com</td>\n",
       "      <td>1</td>\n",
       "    </tr>\n",
       "    <tr>\n",
       "      <th>38650</th>\n",
       "      <td>www.wikistrike.com</td>\n",
       "      <td>’issue d’une réunion des ministres de la Défen...</td>\n",
       "      <td>1</td>\n",
       "    </tr>\n",
       "  </tbody>\n",
       "</table>\n",
       "<p>1730 rows × 3 columns</p>\n",
       "</div>"
      ],
      "text/plain": [
       "                     source_site  \\\n",
       "104                  fr.sott.net   \n",
       "139    lezarceleurs.blogspot.com   \n",
       "322    lezarceleurs.blogspot.com   \n",
       "435    www.nouvelordremondial.cc   \n",
       "441    www.nouvelordremondial.cc   \n",
       "...                          ...   \n",
       "38380        www.breizh-info.com   \n",
       "38391        www.breizh-info.com   \n",
       "38404        www.breizh-info.com   \n",
       "38553    reseauinternational.net   \n",
       "38650         www.wikistrike.com   \n",
       "\n",
       "                                               link_site  nb_links  \n",
       "104                      antialiasfactory.deviantart.com      2602  \n",
       "139                   www-naturalnews-com.translate.goog      1492  \n",
       "322            childrenshealthdefense-org.translate.goog       155  \n",
       "435                     www.2012un-nouveau-paradigme.com        97  \n",
       "441                     ufosightingshotspot.blogspot.com        97  \n",
       "...                                                  ...       ...  \n",
       "38380      Réservations sur le site citoyens-bretons.org         1  \n",
       "38391                  actualitechretienne.wordpress.com         1  \n",
       "38404      Zemmour,%20danger%20pour%20la%20démocratie%20         1  \n",
       "38553                    www.thecanadianencyclopedia.com         1  \n",
       "38650  ’issue d’une réunion des ministres de la Défen...         1  \n",
       "\n",
       "[1730 rows x 3 columns]"
      ]
     },
     "execution_count": 50,
     "metadata": {},
     "output_type": "execute_result"
    }
   ],
   "source": [
    "df_links[df_links['link_site'].apply(lambda s : len(s)>30)]"
   ]
  },
  {
   "cell_type": "code",
   "execution_count": 54,
   "id": "8968914f",
   "metadata": {},
   "outputs": [
    {
     "name": "stderr",
     "output_type": "stream",
     "text": [
      "/var/folders/fr/mhrqmk5n1xs49b7jl3tgs2r00000gn/T/ipykernel_9112/3367316997.py:1: FutureWarning: The default value of numeric_only in DataFrameGroupBy.sum is deprecated. In a future version, numeric_only will default to False. Either specify numeric_only or select only columns which should be valid for the function.\n",
      "  target_sites = df_links.groupby('link_site').sum().sort_values('nb_links',ascending=False)\n"
     ]
    }
   ],
   "source": [
    "target_sites = df_links.groupby('link_site').sum().sort_values('nb_links',ascending=False)"
   ]
  },
  {
   "cell_type": "code",
   "execution_count": 61,
   "id": "ae525a3a",
   "metadata": {},
   "outputs": [],
   "source": [
    "target_sites.to_csv('data/tmp/230109-TargetSites.csv')"
   ]
  },
  {
   "cell_type": "markdown",
   "id": "ba0834f1",
   "metadata": {},
   "source": [
    "# Mesure et observation des résultats\n",
    "---"
   ]
  },
  {
   "cell_type": "code",
   "execution_count": 26,
   "id": "2a4d001a",
   "metadata": {},
   "outputs": [],
   "source": [
    "df_matrix.to_csv('data/tmp/230109-SsoLinks.csv')"
   ]
  },
  {
   "cell_type": "markdown",
   "id": "76996d3a",
   "metadata": {},
   "source": [
    "# Sauvegarde des résultats\n",
    "---"
   ]
  },
  {
   "cell_type": "markdown",
   "id": "fb7949bc",
   "metadata": {},
   "source": [
    "# Conclusions\n",
    "---"
   ]
  },
  {
   "cell_type": "markdown",
   "id": "bd06b261",
   "metadata": {},
   "source": [
    "- ..."
   ]
  },
  {
   "cell_type": "markdown",
   "id": "bd360655",
   "metadata": {},
   "source": [
    "# Bricolages\n",
    "---"
   ]
  },
  {
   "cell_type": "code",
   "execution_count": null,
   "id": "97a4bb41",
   "metadata": {},
   "outputs": [],
   "source": []
  }
 ],
 "metadata": {
  "kernelspec": {
   "display_name": "Python 3 (ipykernel)",
   "language": "python",
   "name": "python3"
  },
  "language_info": {
   "codemirror_mode": {
    "name": "ipython",
    "version": 3
   },
   "file_extension": ".py",
   "mimetype": "text/x-python",
   "name": "python",
   "nbconvert_exporter": "python",
   "pygments_lexer": "ipython3",
   "version": "3.11.0"
  }
 },
 "nbformat": 4,
 "nbformat_minor": 5
}
