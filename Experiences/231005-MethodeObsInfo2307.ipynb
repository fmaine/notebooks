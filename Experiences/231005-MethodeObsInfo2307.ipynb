{
 "cells": [
  {
   "cell_type": "markdown",
   "id": "e3ec4689",
   "metadata": {},
   "source": [
    "# Plateforme Agnostique de Traitement et d'Analyse des Textes\n",
    "### Carnet d'expérimentation\n",
    "---\n",
    "\n",
    "## Sujet : Sélection d'articles pour expérience d'annotation\n",
    "\n",
    "---"
   ]
  },
  {
   "cell_type": "markdown",
   "id": "2601e626",
   "metadata": {},
   "source": [
    "# Observations et environnement\n",
    "---"
   ]
  },
  {
   "cell_type": "markdown",
   "id": "85c0f3b8",
   "metadata": {},
   "source": [
    "## Environnement"
   ]
  },
  {
   "cell_type": "code",
   "execution_count": 1,
   "id": "525fef74",
   "metadata": {},
   "outputs": [],
   "source": [
    "random_state = 17"
   ]
  },
  {
   "cell_type": "code",
   "execution_count": 2,
   "id": "5d0de4d7",
   "metadata": {},
   "outputs": [
    {
     "name": "stdout",
     "output_type": "stream",
     "text": [
      "/Volumes/Geek/Work/Patat\n"
     ]
    }
   ],
   "source": [
    "cd ../.."
   ]
  },
  {
   "cell_type": "code",
   "execution_count": 3,
   "id": "32256b0d",
   "metadata": {},
   "outputs": [],
   "source": [
    "import importlib\n",
    "import pandas as pd\n",
    "import seaborn as sns\n",
    "from tqdm.notebook import tqdm\n",
    "tqdm.pandas()"
   ]
  },
  {
   "cell_type": "markdown",
   "id": "6495ffd5",
   "metadata": {},
   "source": [
    "# Données de l'expérience"
   ]
  },
  {
   "cell_type": "code",
   "execution_count": 5,
   "id": "38ebfe56",
   "metadata": {},
   "outputs": [],
   "source": [
    "import patat.util.gsheet\n",
    "\n",
    "gs = patat.util.gsheet.GoogleSheet()"
   ]
  },
  {
   "cell_type": "code",
   "execution_count": 6,
   "id": "1ad382ab",
   "metadata": {},
   "outputs": [
    {
     "data": {
      "text/html": [
       "<div>\n",
       "<style scoped>\n",
       "    .dataframe tbody tr th:only-of-type {\n",
       "        vertical-align: middle;\n",
       "    }\n",
       "\n",
       "    .dataframe tbody tr th {\n",
       "        vertical-align: top;\n",
       "    }\n",
       "\n",
       "    .dataframe thead th {\n",
       "        text-align: right;\n",
       "    }\n",
       "</style>\n",
       "<table border=\"1\" class=\"dataframe\">\n",
       "  <thead>\n",
       "    <tr style=\"text-align: right;\">\n",
       "      <th></th>\n",
       "      <th>url_h</th>\n",
       "      <th>url_labelizer</th>\n",
       "      <th>title</th>\n",
       "      <th>comment</th>\n",
       "    </tr>\n",
       "  </thead>\n",
       "  <tbody>\n",
       "    <tr>\n",
       "      <th>0</th>\n",
       "      <td>c13175936764a345ec21bc398fe750a41496078e</td>\n",
       "      <td>https://app.observatoire.info/labelize?url_h=c...</td>\n",
       "      <td>La relation entre la technologie et la religion</td>\n",
       "      <td>très long mais bien formaté</td>\n",
       "    </tr>\n",
       "    <tr>\n",
       "      <th>1</th>\n",
       "      <td>0552561b3c46f64febfbc3a77c301f085a98b966</td>\n",
       "      <td>https://app.observatoire.info/labelize?url_h=0...</td>\n",
       "      <td>Confinement. Les habitants de Brest, Morlaix e...</td>\n",
       "      <td>source visible</td>\n",
       "    </tr>\n",
       "    <tr>\n",
       "      <th>2</th>\n",
       "      <td>361a904687dd4b1abb189717de7341ce162d21c7</td>\n",
       "      <td>https://app.observatoire.info/labelize?url_h=3...</td>\n",
       "      <td>La Chine : Le premier marché mondial de Smartp...</td>\n",
       "      <td>ok</td>\n",
       "    </tr>\n",
       "    <tr>\n",
       "      <th>3</th>\n",
       "      <td>433b403d386d5eba5dff7d45044cdb0fe7862972</td>\n",
       "      <td>https://app.observatoire.info/labelize?url_h=4...</td>\n",
       "      <td>Emmanuel à Olivier : « Tiens bon, on les aura ...</td>\n",
       "      <td>source visible</td>\n",
       "    </tr>\n",
       "    <tr>\n",
       "      <th>4</th>\n",
       "      <td>3494ad0901a73fc6ceb2f74ac4ac1930af42b363</td>\n",
       "      <td>https://app.observatoire.info/labelize?url_h=3...</td>\n",
       "      <td>Selon UBS, les « propriétés d’assurance tant d...</td>\n",
       "      <td>ok</td>\n",
       "    </tr>\n",
       "    <tr>\n",
       "      <th>...</th>\n",
       "      <td>...</td>\n",
       "      <td>...</td>\n",
       "      <td>...</td>\n",
       "      <td>...</td>\n",
       "    </tr>\n",
       "    <tr>\n",
       "      <th>95</th>\n",
       "      <td>d04a526d60fa6d67f61c7abcaf45092b8217a24d</td>\n",
       "      <td>https://app.observatoire.info/labelize?url_h=d...</td>\n",
       "      <td>Loi climat : le gouvernement va exempter Amazo...</td>\n",
       "      <td>bizarre</td>\n",
       "    </tr>\n",
       "    <tr>\n",
       "      <th>96</th>\n",
       "      <td>14ed4715949dc7767359674df1a076bb1e0e417b</td>\n",
       "      <td>https://app.observatoire.info/labelize?url_h=1...</td>\n",
       "      <td>Le QI peut-il être augmenté par l’éducation ? ...</td>\n",
       "      <td>donne la source</td>\n",
       "    </tr>\n",
       "    <tr>\n",
       "      <th>97</th>\n",
       "      <td>2841a1db742a25419c20d4a56eb65d8c05d92f65</td>\n",
       "      <td>https://app.observatoire.info/labelize?url_h=2...</td>\n",
       "      <td>Secte sexuelle : l’ex-star de Smallville Aliso...</td>\n",
       "      <td>ok</td>\n",
       "    </tr>\n",
       "    <tr>\n",
       "      <th>98</th>\n",
       "      <td>7f8a6372ed4084fc88263c03e3b9186f082e2162</td>\n",
       "      <td>https://app.observatoire.info/labelize?url_h=7...</td>\n",
       "      <td>Sacre de Charles III par SAR le Prince Charles...</td>\n",
       "      <td>donne la source</td>\n",
       "    </tr>\n",
       "    <tr>\n",
       "      <th>99</th>\n",
       "      <td>1c4c0f87d734ce85798487b6083220e7092b3ffe</td>\n",
       "      <td>https://app.observatoire.info/labelize?url_h=1...</td>\n",
       "      <td>Bac 2019: appel à poursuivre la grève jusqu'au...</td>\n",
       "      <td>ok</td>\n",
       "    </tr>\n",
       "  </tbody>\n",
       "</table>\n",
       "<p>100 rows × 4 columns</p>\n",
       "</div>"
      ],
      "text/plain": [
       "                                       url_h   \n",
       "0   c13175936764a345ec21bc398fe750a41496078e  \\\n",
       "1   0552561b3c46f64febfbc3a77c301f085a98b966   \n",
       "2   361a904687dd4b1abb189717de7341ce162d21c7   \n",
       "3   433b403d386d5eba5dff7d45044cdb0fe7862972   \n",
       "4   3494ad0901a73fc6ceb2f74ac4ac1930af42b363   \n",
       "..                                       ...   \n",
       "95  d04a526d60fa6d67f61c7abcaf45092b8217a24d   \n",
       "96  14ed4715949dc7767359674df1a076bb1e0e417b   \n",
       "97  2841a1db742a25419c20d4a56eb65d8c05d92f65   \n",
       "98  7f8a6372ed4084fc88263c03e3b9186f082e2162   \n",
       "99  1c4c0f87d734ce85798487b6083220e7092b3ffe   \n",
       "\n",
       "                                        url_labelizer   \n",
       "0   https://app.observatoire.info/labelize?url_h=c...  \\\n",
       "1   https://app.observatoire.info/labelize?url_h=0...   \n",
       "2   https://app.observatoire.info/labelize?url_h=3...   \n",
       "3   https://app.observatoire.info/labelize?url_h=4...   \n",
       "4   https://app.observatoire.info/labelize?url_h=3...   \n",
       "..                                                ...   \n",
       "95  https://app.observatoire.info/labelize?url_h=d...   \n",
       "96  https://app.observatoire.info/labelize?url_h=1...   \n",
       "97  https://app.observatoire.info/labelize?url_h=2...   \n",
       "98  https://app.observatoire.info/labelize?url_h=7...   \n",
       "99  https://app.observatoire.info/labelize?url_h=1...   \n",
       "\n",
       "                                                title   \n",
       "0     La relation entre la technologie et la religion  \\\n",
       "1   Confinement. Les habitants de Brest, Morlaix e...   \n",
       "2   La Chine : Le premier marché mondial de Smartp...   \n",
       "3   Emmanuel à Olivier : « Tiens bon, on les aura ...   \n",
       "4   Selon UBS, les « propriétés d’assurance tant d...   \n",
       "..                                                ...   \n",
       "95  Loi climat : le gouvernement va exempter Amazo...   \n",
       "96  Le QI peut-il être augmenté par l’éducation ? ...   \n",
       "97  Secte sexuelle : l’ex-star de Smallville Aliso...   \n",
       "98  Sacre de Charles III par SAR le Prince Charles...   \n",
       "99  Bac 2019: appel à poursuivre la grève jusqu'au...   \n",
       "\n",
       "                        comment  \n",
       "0   très long mais bien formaté  \n",
       "1                source visible  \n",
       "2                            ok  \n",
       "3                source visible  \n",
       "4                            ok  \n",
       "..                          ...  \n",
       "95                      bizarre  \n",
       "96              donne la source  \n",
       "97                           ok  \n",
       "98              donne la source  \n",
       "99                           ok  \n",
       "\n",
       "[100 rows x 4 columns]"
      ]
     },
     "execution_count": 6,
     "metadata": {},
     "output_type": "execute_result"
    }
   ],
   "source": [
    "sheet_id = '1rVgAnv7FwFqWUUmjE72AP_YEmf9v6DaZ-_20jZ6MKTg'\n",
    "range_name = 'Sélection'\n",
    "\n",
    "df_obsinfo2307 = gs.read_df(sheet_id,range_name)\n",
    "df_obsinfo2307"
   ]
  },
  {
   "cell_type": "markdown",
   "id": "e35e45da",
   "metadata": {},
   "source": [
    "## URLS"
   ]
  },
  {
   "cell_type": "code",
   "execution_count": 7,
   "id": "305b3194",
   "metadata": {},
   "outputs": [],
   "source": [
    "import patat.db.article_db\n",
    "article_db = patat.db.article_db.ArticleDb()\n",
    "df_corpus = article_db.df().copy()\n",
    "\n",
    "import patat.util.text\n",
    "\n",
    "article_db.get_article_data_h('3494ad0901a73fc6ceb2f74ac4ac1930af42b363')\n",
    "\n",
    "df_corpus[df_corpus['url_h']=='3494ad0901a73fc6ceb2f74ac4ac1930af42b363']\n",
    "\n",
    "df_obsinfo2307 = pd.merge(df_obsinfo2307['url_h'],df_corpus)"
   ]
  },
  {
   "cell_type": "markdown",
   "id": "0271cd55",
   "metadata": {},
   "source": [
    "## Répartition sites"
   ]
  },
  {
   "cell_type": "code",
   "execution_count": 9,
   "id": "e61ca045",
   "metadata": {},
   "outputs": [
    {
     "data": {
      "text/plain": [
       "site\n",
       "www.francesoir.fr              11\n",
       "www.profession-gendarme.com     8\n",
       "lemediaen442.fr                 8\n",
       "www.bvoltaire.fr                7\n",
       "www.lelibrepenseur.org          6\n",
       "www.dreuz.info                  6\n",
       "lalettrepatriote.com            6\n",
       "lesmoutonsrebelles.com          6\n",
       "reseauinternational.net         6\n",
       "lezarceleurs.blogspot.com       5\n",
       "ripostelaique.com               5\n",
       "lesdeqodeurs.fr                 5\n",
       "lesalonbeige.fr                 5\n",
       "www.polemia.com                 5\n",
       "www.breizh-info.com             4\n",
       "lesakerfrancophone.fr           4\n",
       "lesobservateurs.ch              3\n",
       "Name: count, dtype: int64"
      ]
     },
     "execution_count": 9,
     "metadata": {},
     "output_type": "execute_result"
    }
   ],
   "source": [
    "df_obsinfo2307.value_counts('site')"
   ]
  },
  {
   "cell_type": "markdown",
   "id": "09a03ce9",
   "metadata": {},
   "source": [
    "## Textes"
   ]
  },
  {
   "cell_type": "code",
   "execution_count": 13,
   "id": "ff4fc56c",
   "metadata": {},
   "outputs": [],
   "source": [
    "df_obsinfo2307['text']=df_obsinfo2307['paragraphs'].apply('\\n'.join)"
   ]
  },
  {
   "cell_type": "code",
   "execution_count": 14,
   "id": "ca7460de",
   "metadata": {},
   "outputs": [
    {
     "data": {
      "text/html": [
       "<div>\n",
       "<style scoped>\n",
       "    .dataframe tbody tr th:only-of-type {\n",
       "        vertical-align: middle;\n",
       "    }\n",
       "\n",
       "    .dataframe tbody tr th {\n",
       "        vertical-align: top;\n",
       "    }\n",
       "\n",
       "    .dataframe thead th {\n",
       "        text-align: right;\n",
       "    }\n",
       "</style>\n",
       "<table border=\"1\" class=\"dataframe\">\n",
       "  <thead>\n",
       "    <tr style=\"text-align: right;\">\n",
       "      <th></th>\n",
       "      <th>url_h</th>\n",
       "      <th>url</th>\n",
       "      <th>site</th>\n",
       "      <th>title</th>\n",
       "      <th>article</th>\n",
       "      <th>author</th>\n",
       "      <th>date</th>\n",
       "      <th>tags</th>\n",
       "      <th>paragraphs</th>\n",
       "      <th>date_iso</th>\n",
       "      <th>abstract</th>\n",
       "      <th>c_count</th>\n",
       "      <th>p_count</th>\n",
       "      <th>predict_infox</th>\n",
       "      <th>text</th>\n",
       "    </tr>\n",
       "  </thead>\n",
       "  <tbody>\n",
       "    <tr>\n",
       "      <th>0</th>\n",
       "      <td>c13175936764a345ec21bc398fe750a41496078e</td>\n",
       "      <td>https://lesakerfrancophone.fr/la-relation-entr...</td>\n",
       "      <td>lesakerfrancophone.fr</td>\n",
       "      <td>La relation entre la technologie et la religion</td>\n",
       "      <td>NaN</td>\n",
       "      <td>Le Saker Francophone</td>\n",
       "      <td>juillet 3, 2022</td>\n",
       "      <td>[]</td>\n",
       "      <td>[Par Austin Cline − Le 27 fevrier 2019 − Sourc...</td>\n",
       "      <td>2022-07-03T10:00:27+02:00</td>\n",
       "      <td>NaN</td>\n",
       "      <td>29274.0</td>\n",
       "      <td>66.0</td>\n",
       "      <td>0.5</td>\n",
       "      <td>Par Austin Cline − Le 27 fevrier 2019 − Source...</td>\n",
       "    </tr>\n",
       "    <tr>\n",
       "      <th>1</th>\n",
       "      <td>0552561b3c46f64febfbc3a77c301f085a98b966</td>\n",
       "      <td>https://www.breizh-info.com/2021/01/27/157958/...</td>\n",
       "      <td>www.breizh-info.com</td>\n",
       "      <td>Confinement. Les habitants de Brest, Morlaix e...</td>\n",
       "      <td>NaN</td>\n",
       "      <td>NaN</td>\n",
       "      <td>Le \\n\\t\\t\\t\\t\\t\\t\\t\\t\\t\\t27 janvier 2021</td>\n",
       "      <td>['BREST', 'CARHAIX', 'MORLAIX', 'alcool', 'bre...</td>\n",
       "      <td>[Dans le cadre du Dry January, opération comme...</td>\n",
       "      <td>2021-01-27T00:00:00</td>\n",
       "      <td>NaN</td>\n",
       "      <td>2669.0</td>\n",
       "      <td>13.0</td>\n",
       "      <td>0.5</td>\n",
       "      <td>Dans le cadre du Dry January, opération commer...</td>\n",
       "    </tr>\n",
       "    <tr>\n",
       "      <th>2</th>\n",
       "      <td>361a904687dd4b1abb189717de7341ce162d21c7</td>\n",
       "      <td>https://reseauinternational.net/la-chine-le-pr...</td>\n",
       "      <td>reseauinternational.net</td>\n",
       "      <td>La Chine : Le premier marché mondial de Smartp...</td>\n",
       "      <td>NaN</td>\n",
       "      <td>NaN</td>\n",
       "      <td>NaN</td>\n",
       "      <td>[\"Faits d'actu\", \"Faits d'actu\", \"Faits d'actu...</td>\n",
       "      <td>[Le marché des GSM Chinois a évolué en quelque...</td>\n",
       "      <td>NaN</td>\n",
       "      <td>NaN</td>\n",
       "      <td>2993.0</td>\n",
       "      <td>9.0</td>\n",
       "      <td>0.5</td>\n",
       "      <td>Le marché des GSM Chinois a évolué en quelques...</td>\n",
       "    </tr>\n",
       "    <tr>\n",
       "      <th>3</th>\n",
       "      <td>433b403d386d5eba5dff7d45044cdb0fe7862972</td>\n",
       "      <td>https://lezarceleurs.blogspot.com/2021/12/emma...</td>\n",
       "      <td>lezarceleurs.blogspot.com</td>\n",
       "      <td>Emmanuel à Olivier : « Tiens bon, on les aura ...</td>\n",
       "      <td>NaN</td>\n",
       "      <td>NaN</td>\n",
       "      <td>NaN</td>\n",
       "      <td>[]</td>\n",
       "      <td>[De : https://lemediaen442.fr/emmanuel-a-olivi...</td>\n",
       "      <td>NaN</td>\n",
       "      <td>NaN</td>\n",
       "      <td>3202.0</td>\n",
       "      <td>10.0</td>\n",
       "      <td>0.5</td>\n",
       "      <td>De : https://lemediaen442.fr/emmanuel-a-olivie...</td>\n",
       "    </tr>\n",
       "    <tr>\n",
       "      <th>4</th>\n",
       "      <td>3494ad0901a73fc6ceb2f74ac4ac1930af42b363</td>\n",
       "      <td>https://lesakerfrancophone.fr/selon-ubs-les-pr...</td>\n",
       "      <td>lesakerfrancophone.fr</td>\n",
       "      <td>Selon UBS, les « propriétés d’assurance tant d...</td>\n",
       "      <td>NaN</td>\n",
       "      <td>jmarti</td>\n",
       "      <td>mars 23, 2022</td>\n",
       "      <td>[]</td>\n",
       "      <td>[Par Birch Gold Group − Le 17 février 2022 − S...</td>\n",
       "      <td>2022-03-23T10:00:25+01:00</td>\n",
       "      <td>NaN</td>\n",
       "      <td>10070.0</td>\n",
       "      <td>33.0</td>\n",
       "      <td>0.5</td>\n",
       "      <td>Par Birch Gold Group − Le 17 février 2022 − So...</td>\n",
       "    </tr>\n",
       "    <tr>\n",
       "      <th>...</th>\n",
       "      <td>...</td>\n",
       "      <td>...</td>\n",
       "      <td>...</td>\n",
       "      <td>...</td>\n",
       "      <td>...</td>\n",
       "      <td>...</td>\n",
       "      <td>...</td>\n",
       "      <td>...</td>\n",
       "      <td>...</td>\n",
       "      <td>...</td>\n",
       "      <td>...</td>\n",
       "      <td>...</td>\n",
       "      <td>...</td>\n",
       "      <td>...</td>\n",
       "      <td>...</td>\n",
       "    </tr>\n",
       "    <tr>\n",
       "      <th>95</th>\n",
       "      <td>d04a526d60fa6d67f61c7abcaf45092b8217a24d</td>\n",
       "      <td>https://lemediaen442.fr/loi-climat-le-gouverne...</td>\n",
       "      <td>lemediaen442.fr</td>\n",
       "      <td>Loi climat : le gouvernement va exempter Amazo...</td>\n",
       "      <td>NaN</td>\n",
       "      <td>NaN</td>\n",
       "      <td>22 juin 2021</td>\n",
       "      <td>['Mot-clés : amazon', 'Posté dans Économie, En...</td>\n",
       "      <td>[La majorité LREM s’apprête une fois de plus à...</td>\n",
       "      <td>2021-06-22T13:35:07+02:00</td>\n",
       "      <td>NaN</td>\n",
       "      <td>2766.0</td>\n",
       "      <td>10.0</td>\n",
       "      <td>0.5</td>\n",
       "      <td>La majorité LREM s’apprête une fois de plus à ...</td>\n",
       "    </tr>\n",
       "    <tr>\n",
       "      <th>96</th>\n",
       "      <td>14ed4715949dc7767359674df1a076bb1e0e417b</td>\n",
       "      <td>https://www.breizh-info.com/2017/11/10/81481/q...</td>\n",
       "      <td>www.breizh-info.com</td>\n",
       "      <td>Le QI peut-il être augmenté par l’éducation ? ...</td>\n",
       "      <td>NaN</td>\n",
       "      <td>NaN</td>\n",
       "      <td>Le \\n\\t\\t\\t\\t\\t\\t\\t\\t\\t\\t10 novembre 2017</td>\n",
       "      <td>['Santé', 'Intelligence', 'Intelligence humain...</td>\n",
       "      <td>[10/11/2017 – 08h00 Édimbourg (Breizh-Info.com...</td>\n",
       "      <td>2017-11-10T00:00:00</td>\n",
       "      <td>NaN</td>\n",
       "      <td>3885.0</td>\n",
       "      <td>10.0</td>\n",
       "      <td>0.5</td>\n",
       "      <td>10/11/2017 – 08h00 Édimbourg (Breizh-Info.com)...</td>\n",
       "    </tr>\n",
       "    <tr>\n",
       "      <th>97</th>\n",
       "      <td>2841a1db742a25419c20d4a56eb65d8c05d92f65</td>\n",
       "      <td>https://lesmoutonsrebelles.com/secte-sexuelle-...</td>\n",
       "      <td>lesmoutonsrebelles.com</td>\n",
       "      <td>Secte sexuelle : l’ex-star de Smallville Aliso...</td>\n",
       "      <td>NaN</td>\n",
       "      <td>NaN</td>\n",
       "      <td>NaN</td>\n",
       "      <td>[]</td>\n",
       "      <td>[Ce mercredi 15 septembre, le site américain T...</td>\n",
       "      <td>NaN</td>\n",
       "      <td>NaN</td>\n",
       "      <td>1903.0</td>\n",
       "      <td>5.0</td>\n",
       "      <td>0.5</td>\n",
       "      <td>Ce mercredi 15 septembre, le site américain TM...</td>\n",
       "    </tr>\n",
       "    <tr>\n",
       "      <th>98</th>\n",
       "      <td>7f8a6372ed4084fc88263c03e3b9186f082e2162</td>\n",
       "      <td>https://lesalonbeige.fr/sacre-de-charles-iii-p...</td>\n",
       "      <td>lesalonbeige.fr</td>\n",
       "      <td>Sacre de Charles III par SAR le Prince Charles...</td>\n",
       "      <td>Cet article est une tribune libre, non rédigée...</td>\n",
       "      <td>Par aquart61</td>\n",
       "      <td>9 mai 2023</td>\n",
       "      <td>[Tribune libre]</td>\n",
       "      <td>[Cet article est une tribune libre, non rédigé...</td>\n",
       "      <td>2023-05-09T08:35:20+02:00</td>\n",
       "      <td></td>\n",
       "      <td>NaN</td>\n",
       "      <td>NaN</td>\n",
       "      <td>0.5</td>\n",
       "      <td>Cet article est une tribune libre, non rédigée...</td>\n",
       "    </tr>\n",
       "    <tr>\n",
       "      <th>99</th>\n",
       "      <td>1c4c0f87d734ce85798487b6083220e7092b3ffe</td>\n",
       "      <td>https://www.francesoir.fr/politique-france/bac...</td>\n",
       "      <td>www.francesoir.fr</td>\n",
       "      <td>Bac 2019: appel à poursuivre la grève jusqu'au...</td>\n",
       "      <td>NaN</td>\n",
       "      <td>Auteur(s)\\nLa rédaction de France-Soir</td>\n",
       "      <td>Publié le 18 juin 2019 - 09:38</td>\n",
       "      <td>[]</td>\n",
       "      <td>[L'intersyndicale d'enseignants qui avait appe...</td>\n",
       "      <td>2019-06-18T09:38:00</td>\n",
       "      <td>NaN</td>\n",
       "      <td>2166.0</td>\n",
       "      <td>10.0</td>\n",
       "      <td>0.5</td>\n",
       "      <td>L'intersyndicale d'enseignants qui avait appel...</td>\n",
       "    </tr>\n",
       "  </tbody>\n",
       "</table>\n",
       "<p>100 rows × 15 columns</p>\n",
       "</div>"
      ],
      "text/plain": [
       "                                       url_h   \n",
       "0   c13175936764a345ec21bc398fe750a41496078e  \\\n",
       "1   0552561b3c46f64febfbc3a77c301f085a98b966   \n",
       "2   361a904687dd4b1abb189717de7341ce162d21c7   \n",
       "3   433b403d386d5eba5dff7d45044cdb0fe7862972   \n",
       "4   3494ad0901a73fc6ceb2f74ac4ac1930af42b363   \n",
       "..                                       ...   \n",
       "95  d04a526d60fa6d67f61c7abcaf45092b8217a24d   \n",
       "96  14ed4715949dc7767359674df1a076bb1e0e417b   \n",
       "97  2841a1db742a25419c20d4a56eb65d8c05d92f65   \n",
       "98  7f8a6372ed4084fc88263c03e3b9186f082e2162   \n",
       "99  1c4c0f87d734ce85798487b6083220e7092b3ffe   \n",
       "\n",
       "                                                  url   \n",
       "0   https://lesakerfrancophone.fr/la-relation-entr...  \\\n",
       "1   https://www.breizh-info.com/2021/01/27/157958/...   \n",
       "2   https://reseauinternational.net/la-chine-le-pr...   \n",
       "3   https://lezarceleurs.blogspot.com/2021/12/emma...   \n",
       "4   https://lesakerfrancophone.fr/selon-ubs-les-pr...   \n",
       "..                                                ...   \n",
       "95  https://lemediaen442.fr/loi-climat-le-gouverne...   \n",
       "96  https://www.breizh-info.com/2017/11/10/81481/q...   \n",
       "97  https://lesmoutonsrebelles.com/secte-sexuelle-...   \n",
       "98  https://lesalonbeige.fr/sacre-de-charles-iii-p...   \n",
       "99  https://www.francesoir.fr/politique-france/bac...   \n",
       "\n",
       "                         site   \n",
       "0       lesakerfrancophone.fr  \\\n",
       "1         www.breizh-info.com   \n",
       "2     reseauinternational.net   \n",
       "3   lezarceleurs.blogspot.com   \n",
       "4       lesakerfrancophone.fr   \n",
       "..                        ...   \n",
       "95            lemediaen442.fr   \n",
       "96        www.breizh-info.com   \n",
       "97     lesmoutonsrebelles.com   \n",
       "98            lesalonbeige.fr   \n",
       "99          www.francesoir.fr   \n",
       "\n",
       "                                                title   \n",
       "0     La relation entre la technologie et la religion  \\\n",
       "1   Confinement. Les habitants de Brest, Morlaix e...   \n",
       "2   La Chine : Le premier marché mondial de Smartp...   \n",
       "3   Emmanuel à Olivier : « Tiens bon, on les aura ...   \n",
       "4   Selon UBS, les « propriétés d’assurance tant d...   \n",
       "..                                                ...   \n",
       "95  Loi climat : le gouvernement va exempter Amazo...   \n",
       "96  Le QI peut-il être augmenté par l’éducation ? ...   \n",
       "97  Secte sexuelle : l’ex-star de Smallville Aliso...   \n",
       "98  Sacre de Charles III par SAR le Prince Charles...   \n",
       "99  Bac 2019: appel à poursuivre la grève jusqu'au...   \n",
       "\n",
       "                                              article   \n",
       "0                                                 NaN  \\\n",
       "1                                                 NaN   \n",
       "2                                                 NaN   \n",
       "3                                                 NaN   \n",
       "4                                                 NaN   \n",
       "..                                                ...   \n",
       "95                                                NaN   \n",
       "96                                                NaN   \n",
       "97                                                NaN   \n",
       "98  Cet article est une tribune libre, non rédigée...   \n",
       "99                                                NaN   \n",
       "\n",
       "                                    author   \n",
       "0                     Le Saker Francophone  \\\n",
       "1                                      NaN   \n",
       "2                                      NaN   \n",
       "3                                      NaN   \n",
       "4                                   jmarti   \n",
       "..                                     ...   \n",
       "95                                     NaN   \n",
       "96                                     NaN   \n",
       "97                                     NaN   \n",
       "98                            Par aquart61   \n",
       "99  Auteur(s)\\nLa rédaction de France-Soir   \n",
       "\n",
       "                                         date   \n",
       "0                             juillet 3, 2022  \\\n",
       "1    Le \\n\\t\\t\\t\\t\\t\\t\\t\\t\\t\\t27 janvier 2021   \n",
       "2                                         NaN   \n",
       "3                                         NaN   \n",
       "4                               mars 23, 2022   \n",
       "..                                        ...   \n",
       "95                               22 juin 2021   \n",
       "96  Le \\n\\t\\t\\t\\t\\t\\t\\t\\t\\t\\t10 novembre 2017   \n",
       "97                                        NaN   \n",
       "98                                 9 mai 2023   \n",
       "99             Publié le 18 juin 2019 - 09:38   \n",
       "\n",
       "                                                 tags   \n",
       "0                                                  []  \\\n",
       "1   ['BREST', 'CARHAIX', 'MORLAIX', 'alcool', 'bre...   \n",
       "2   [\"Faits d'actu\", \"Faits d'actu\", \"Faits d'actu...   \n",
       "3                                                  []   \n",
       "4                                                  []   \n",
       "..                                                ...   \n",
       "95  ['Mot-clés : amazon', 'Posté dans Économie, En...   \n",
       "96  ['Santé', 'Intelligence', 'Intelligence humain...   \n",
       "97                                                 []   \n",
       "98                                    [Tribune libre]   \n",
       "99                                                 []   \n",
       "\n",
       "                                           paragraphs   \n",
       "0   [Par Austin Cline − Le 27 fevrier 2019 − Sourc...  \\\n",
       "1   [Dans le cadre du Dry January, opération comme...   \n",
       "2   [Le marché des GSM Chinois a évolué en quelque...   \n",
       "3   [De : https://lemediaen442.fr/emmanuel-a-olivi...   \n",
       "4   [Par Birch Gold Group − Le 17 février 2022 − S...   \n",
       "..                                                ...   \n",
       "95  [La majorité LREM s’apprête une fois de plus à...   \n",
       "96  [10/11/2017 – 08h00 Édimbourg (Breizh-Info.com...   \n",
       "97  [Ce mercredi 15 septembre, le site américain T...   \n",
       "98  [Cet article est une tribune libre, non rédigé...   \n",
       "99  [L'intersyndicale d'enseignants qui avait appe...   \n",
       "\n",
       "                     date_iso abstract  c_count  p_count  predict_infox   \n",
       "0   2022-07-03T10:00:27+02:00      NaN  29274.0     66.0            0.5  \\\n",
       "1         2021-01-27T00:00:00      NaN   2669.0     13.0            0.5   \n",
       "2                         NaN      NaN   2993.0      9.0            0.5   \n",
       "3                         NaN      NaN   3202.0     10.0            0.5   \n",
       "4   2022-03-23T10:00:25+01:00      NaN  10070.0     33.0            0.5   \n",
       "..                        ...      ...      ...      ...            ...   \n",
       "95  2021-06-22T13:35:07+02:00      NaN   2766.0     10.0            0.5   \n",
       "96        2017-11-10T00:00:00      NaN   3885.0     10.0            0.5   \n",
       "97                        NaN      NaN   1903.0      5.0            0.5   \n",
       "98  2023-05-09T08:35:20+02:00               NaN      NaN            0.5   \n",
       "99        2019-06-18T09:38:00      NaN   2166.0     10.0            0.5   \n",
       "\n",
       "                                                 text  \n",
       "0   Par Austin Cline − Le 27 fevrier 2019 − Source...  \n",
       "1   Dans le cadre du Dry January, opération commer...  \n",
       "2   Le marché des GSM Chinois a évolué en quelques...  \n",
       "3   De : https://lemediaen442.fr/emmanuel-a-olivie...  \n",
       "4   Par Birch Gold Group − Le 17 février 2022 − So...  \n",
       "..                                                ...  \n",
       "95  La majorité LREM s’apprête une fois de plus à ...  \n",
       "96  10/11/2017 – 08h00 Édimbourg (Breizh-Info.com)...  \n",
       "97  Ce mercredi 15 septembre, le site américain TM...  \n",
       "98  Cet article est une tribune libre, non rédigée...  \n",
       "99  L'intersyndicale d'enseignants qui avait appel...  \n",
       "\n",
       "[100 rows x 15 columns]"
      ]
     },
     "execution_count": 14,
     "metadata": {},
     "output_type": "execute_result"
    }
   ],
   "source": [
    "df_obsinfo2307"
   ]
  },
  {
   "cell_type": "markdown",
   "id": "7188d463",
   "metadata": {},
   "source": [
    "## infox_proba"
   ]
  },
  {
   "cell_type": "code",
   "execution_count": 20,
   "id": "e98f5c45",
   "metadata": {},
   "outputs": [],
   "source": [
    "import patat.util.file"
   ]
  },
  {
   "cell_type": "code",
   "execution_count": 21,
   "id": "504e6bc5",
   "metadata": {},
   "outputs": [],
   "source": [
    "predictor = patat.util.file.pickle_load('data/prod/230705-PredInfox.pkl')"
   ]
  },
  {
   "cell_type": "code",
   "execution_count": 22,
   "id": "40214343",
   "metadata": {},
   "outputs": [],
   "source": [
    "X = df_obsinfo2307['text'].values"
   ]
  },
  {
   "cell_type": "code",
   "execution_count": 23,
   "id": "acb6db14",
   "metadata": {},
   "outputs": [],
   "source": [
    "y=predictor.predict_proba(X)"
   ]
  },
  {
   "cell_type": "code",
   "execution_count": 25,
   "id": "0872f96c",
   "metadata": {},
   "outputs": [],
   "source": [
    "df_obsinfo2307['infox_proba']=y[:,1]"
   ]
  },
  {
   "cell_type": "code",
   "execution_count": 28,
   "id": "f20c3477",
   "metadata": {},
   "outputs": [],
   "source": [
    "df_obsinfo2307['infox_pred']=df_obsinfo2307['infox_proba'].apply(lambda p: 1 if p>0.5 else 0)"
   ]
  },
  {
   "cell_type": "code",
   "execution_count": 38,
   "id": "fdf6d0cc",
   "metadata": {},
   "outputs": [],
   "source": [
    "df_obsinfo2307[['url_h','url','site','title','infox_proba','infox_pred']].to_csv('data/tmp/231006-ObsInfoPredInfox.csv',decimal=',')"
   ]
  },
  {
   "cell_type": "markdown",
   "id": "4b0b7201",
   "metadata": {},
   "source": [
    "## Données"
   ]
  },
  {
   "cell_type": "code",
   "execution_count": null,
   "id": "d491fcb3",
   "metadata": {},
   "outputs": [],
   "source": [
    "import patat.util.file\n",
    "filename = 'data/prod/230517-OIDS-Label.pickle'\n",
    "df_label = patat.util.file.pickle_load(filename)"
   ]
  },
  {
   "cell_type": "code",
   "execution_count": null,
   "id": "d4b65545",
   "metadata": {},
   "outputs": [],
   "source": [
    "df_corpus = patat.util.file.pickle_load('data/prod/Corpus.pickle')"
   ]
  },
  {
   "cell_type": "code",
   "execution_count": null,
   "id": "ff3408ac",
   "metadata": {},
   "outputs": [],
   "source": [
    "df_corpus"
   ]
  },
  {
   "cell_type": "markdown",
   "id": "6b548bc6",
   "metadata": {},
   "source": [
    "# Experience\n",
    "---"
   ]
  },
  {
   "cell_type": "markdown",
   "id": "aeeabd05",
   "metadata": {},
   "source": [
    "## url_h"
   ]
  },
  {
   "cell_type": "code",
   "execution_count": null,
   "id": "35afa181",
   "metadata": {},
   "outputs": [],
   "source": [
    "import patat.util.text"
   ]
  },
  {
   "cell_type": "code",
   "execution_count": null,
   "id": "4b0641c4",
   "metadata": {},
   "outputs": [],
   "source": [
    "df_corpus['url_h']=df_corpus['url'].apply(patat.util.text.compress)"
   ]
  },
  {
   "cell_type": "code",
   "execution_count": null,
   "id": "3ad06ab2",
   "metadata": {},
   "outputs": [],
   "source": [
    "df_corpus['url_labelizer']=\"http://localhost:8000/labelize?url_h=\"+df_corpus['url_h']"
   ]
  },
  {
   "cell_type": "markdown",
   "id": "a306ba37",
   "metadata": {},
   "source": [
    "## Filtrage Corpus"
   ]
  },
  {
   "cell_type": "code",
   "execution_count": null,
   "id": "99a0d671",
   "metadata": {},
   "outputs": [],
   "source": [
    "df_label['url']"
   ]
  },
  {
   "cell_type": "code",
   "execution_count": null,
   "id": "fbb4ebdc",
   "metadata": {},
   "outputs": [],
   "source": [
    "df_corpus['keep']=True"
   ]
  },
  {
   "cell_type": "markdown",
   "id": "c48db16c",
   "metadata": {},
   "source": [
    "### Urls déjà annotées"
   ]
  },
  {
   "cell_type": "code",
   "execution_count": null,
   "id": "79d8f776",
   "metadata": {},
   "outputs": [],
   "source": [
    "df_corpus['keep'][df_corpus['url'].isin(df_label['url'])]=False"
   ]
  },
  {
   "cell_type": "markdown",
   "id": "546f7314",
   "metadata": {},
   "source": [
    "### Sites média alternatifs"
   ]
  },
  {
   "cell_type": "code",
   "execution_count": null,
   "id": "19c17342",
   "metadata": {},
   "outputs": [],
   "source": [
    "df_corpus.value_counts('site')"
   ]
  },
  {
   "cell_type": "code",
   "execution_count": null,
   "id": "fe6c40ea",
   "metadata": {},
   "outputs": [],
   "source": [
    "df_corpus['site'].unique()"
   ]
  },
  {
   "cell_type": "code",
   "execution_count": null,
   "id": "39e17c21",
   "metadata": {},
   "outputs": [],
   "source": [
    "prio_sites =[\n",
    "    'www.francesoir.fr',\n",
    "'www.breizh-info.com',\n",
    "'lesmoutonsrebelles.com',\n",
    "'lemediaen442.fr',\n",
    "'www.profession-gendarme.com',\n",
    "'www.dreuz.info',\n",
    "'www.lelibrepenseur.org',\n",
    "'www.polemia.com',\n",
    "'reseauinternational.net',\n",
    "'lesakerfrancophone.fr',\n",
    "'lesalonbeige.fr',\n",
    "'lesobservateurs.ch',\n",
    "'www.bvoltaire.fr',\n",
    "'ripostelaique.com',\n",
    "'lalettrepatriote.com',\n",
    "'lezarceleurs.blogspot.com',\n",
    "'lesdeqodeurs.fr',\n",
    "]"
   ]
  },
  {
   "cell_type": "code",
   "execution_count": null,
   "id": "40a21bdf",
   "metadata": {},
   "outputs": [],
   "source": [
    "df_corpus['keep'][~df_corpus['site'].isin(prio_sites)]=False"
   ]
  },
  {
   "cell_type": "code",
   "execution_count": null,
   "id": "d3514297",
   "metadata": {},
   "outputs": [],
   "source": [
    "df_corpus[df_corpus['keep']]"
   ]
  },
  {
   "cell_type": "markdown",
   "id": "8634bf13",
   "metadata": {},
   "source": [
    "## Prédiction infox"
   ]
  },
  {
   "cell_type": "markdown",
   "id": "70914c86",
   "metadata": {},
   "source": [
    "### Construction des textes"
   ]
  },
  {
   "cell_type": "code",
   "execution_count": null,
   "id": "915a4a12",
   "metadata": {},
   "outputs": [],
   "source": [
    "def text_from_row(row):\n",
    "    result = ''\n",
    "    title = str(row['title'])\n",
    "    abstract = str(row['abstract'])\n",
    "    if title:\n",
    "        result += title + '\\n'\n",
    "    if abstract:\n",
    "        result += abstract + '\\n'\n",
    "    for paragraph in row['paragraphs']:\n",
    "        result += paragraph + '\\n'\n",
    "    return result"
   ]
  },
  {
   "cell_type": "code",
   "execution_count": null,
   "id": "0ac8996d",
   "metadata": {},
   "outputs": [],
   "source": [
    "df_corpus['text']=df_corpus.apply(text_from_row,axis=1)"
   ]
  },
  {
   "cell_type": "code",
   "execution_count": null,
   "id": "0cdf641b",
   "metadata": {},
   "outputs": [],
   "source": [
    "df_corpus"
   ]
  },
  {
   "cell_type": "code",
   "execution_count": null,
   "id": "ed15c5b5",
   "metadata": {},
   "outputs": [],
   "source": [
    "df_corpus['c_count']=df_corpus['text'].apply(len)"
   ]
  },
  {
   "cell_type": "code",
   "execution_count": null,
   "id": "86a5be41",
   "metadata": {},
   "outputs": [],
   "source": [
    "df_corpus = df_corpus[df_corpus['c_count']>500]"
   ]
  },
  {
   "cell_type": "markdown",
   "id": "8d5dc9b1",
   "metadata": {},
   "source": [
    "### Prédictions"
   ]
  },
  {
   "cell_type": "code",
   "execution_count": null,
   "id": "3b1ca306",
   "metadata": {},
   "outputs": [],
   "source": [
    "import patat.util.file"
   ]
  },
  {
   "cell_type": "code",
   "execution_count": null,
   "id": "1c37441e",
   "metadata": {},
   "outputs": [],
   "source": [
    "predictor = patat.util.file.pickle_load('data/prod/230705-PredInfox.pkl')"
   ]
  },
  {
   "cell_type": "code",
   "execution_count": null,
   "id": "f82838ed",
   "metadata": {},
   "outputs": [],
   "source": [
    "X = df_corpus['text'].values"
   ]
  },
  {
   "cell_type": "code",
   "execution_count": null,
   "id": "a7f0c745",
   "metadata": {},
   "outputs": [],
   "source": [
    "X[1]"
   ]
  },
  {
   "cell_type": "code",
   "execution_count": null,
   "id": "d18c2915",
   "metadata": {},
   "outputs": [],
   "source": [
    "y=predictor.predict_proba(X)"
   ]
  },
  {
   "cell_type": "code",
   "execution_count": null,
   "id": "24aa970b",
   "metadata": {},
   "outputs": [],
   "source": [
    "df_corpus['infox_proba']=y[:,1]"
   ]
  },
  {
   "cell_type": "code",
   "execution_count": null,
   "id": "2c41896e",
   "metadata": {},
   "outputs": [],
   "source": [
    "df_corpus"
   ]
  },
  {
   "cell_type": "markdown",
   "id": "1892f8d8",
   "metadata": {},
   "source": [
    "## Sélections données de test"
   ]
  },
  {
   "cell_type": "markdown",
   "id": "128ab956",
   "metadata": {},
   "source": [
    "### Méthode standard"
   ]
  },
  {
   "cell_type": "raw",
   "id": "f90d3650",
   "metadata": {},
   "source": [
    "df_keep = df_corpus[df_corpus['keep']]"
   ]
  },
  {
   "cell_type": "raw",
   "id": "053ae77e",
   "metadata": {},
   "source": [
    "random_state=10"
   ]
  },
  {
   "cell_type": "raw",
   "id": "30b7cc2b",
   "metadata": {},
   "source": [
    "df_infox = df_keep[df_keep['infox_proba']>0.8].sample(50,random_state=random_state)"
   ]
  },
  {
   "cell_type": "raw",
   "id": "e125f22b",
   "metadata": {},
   "source": [
    "df_noninfox = df_keep[df_keep['infox_proba']<0.2].sample(50,random_state=random_state)"
   ]
  },
  {
   "cell_type": "raw",
   "id": "b5421f5c",
   "metadata": {},
   "source": [
    "df_test = pd.concat([df_infox,df_noninfox]).sample(frac=1,random_state=random_state)"
   ]
  },
  {
   "cell_type": "raw",
   "id": "28ddfabe",
   "metadata": {},
   "source": [
    "df_test.value_counts('site')"
   ]
  },
  {
   "cell_type": "markdown",
   "id": "152f2751",
   "metadata": {},
   "source": [
    "### Méthode équilibrée"
   ]
  },
  {
   "cell_type": "code",
   "execution_count": null,
   "id": "e3f9a150",
   "metadata": {},
   "outputs": [],
   "source": [
    "df_keep = df_corpus[df_corpus['keep']]"
   ]
  },
  {
   "cell_type": "code",
   "execution_count": null,
   "id": "a5554ee2",
   "metadata": {},
   "outputs": [],
   "source": [
    "df_infox = df_keep[df_keep['infox_proba']>0.8]"
   ]
  },
  {
   "cell_type": "code",
   "execution_count": null,
   "id": "4b294c5a",
   "metadata": {},
   "outputs": [],
   "source": [
    "df_infox.value_counts('site')"
   ]
  },
  {
   "cell_type": "code",
   "execution_count": null,
   "id": "e7a2fc25",
   "metadata": {},
   "outputs": [],
   "source": [
    "df_noninfox = df_keep[df_keep['infox_proba']<0.2]"
   ]
  },
  {
   "cell_type": "code",
   "execution_count": null,
   "id": "2530b1f3",
   "metadata": {},
   "outputs": [],
   "source": [
    "df_noninfox.value_counts('site')"
   ]
  },
  {
   "cell_type": "code",
   "execution_count": null,
   "id": "024cf206",
   "metadata": {},
   "outputs": [],
   "source": [
    "list_dfs = []\n",
    "for site in prio_sites:\n",
    "    print(site)\n",
    "    list_dfs.append(df_infox[df_infox['site']==site].sample(2,random_state=random_state))\n",
    "    list_dfs.append(df_noninfox[df_noninfox['site']==site].sample(2,random_state=random_state))"
   ]
  },
  {
   "cell_type": "code",
   "execution_count": null,
   "id": "881b0989",
   "metadata": {},
   "outputs": [],
   "source": [
    "df_balanced = pd.concat(list_dfs)"
   ]
  },
  {
   "cell_type": "code",
   "execution_count": null,
   "id": "33f92fe6",
   "metadata": {},
   "outputs": [],
   "source": [
    "df_sup_infox = df_infox[~df_infox['url'].isin(df_balanced['url'])].sample(16,random_state=random_state)"
   ]
  },
  {
   "cell_type": "code",
   "execution_count": null,
   "id": "ba1220cd",
   "metadata": {},
   "outputs": [],
   "source": [
    "df_sup_noninfox = df_noninfox[~df_noninfox['url'].isin(df_balanced['url'])].sample(16,random_state=random_state)"
   ]
  },
  {
   "cell_type": "code",
   "execution_count": null,
   "id": "be5d01db",
   "metadata": {},
   "outputs": [],
   "source": [
    "df_test = pd.concat([df_balanced,df_sup_infox,df_sup_noninfox]).sample(frac=1,random_state=random_state)"
   ]
  },
  {
   "cell_type": "markdown",
   "id": "d35e4c66",
   "metadata": {},
   "source": [
    "## Méthode Equilibrée 2"
   ]
  },
  {
   "cell_type": "code",
   "execution_count": null,
   "id": "352467fa",
   "metadata": {},
   "outputs": [],
   "source": [
    "list_dfs = []\n",
    "for site in prio_sites:\n",
    "    print(site)\n",
    "    list_dfs.append(df_infox[df_infox['site']==site].sample(3,random_state=random_state))\n",
    "    list_dfs.append(df_noninfox[df_noninfox['site']==site].sample(3,random_state=random_state))"
   ]
  },
  {
   "cell_type": "code",
   "execution_count": null,
   "id": "e0ea8348",
   "metadata": {},
   "outputs": [],
   "source": [
    "df_balanced = pd.concat(list_dfs)"
   ]
  },
  {
   "cell_type": "code",
   "execution_count": null,
   "id": "9af96e26",
   "metadata": {},
   "outputs": [],
   "source": [
    "df_sup_infox = df_infox[~df_infox['url'].isin(df_balanced['url'])].sample(9,random_state=random_state)\n",
    "\n",
    "df_sup_noninfox = df_noninfox[~df_noninfox['url'].isin(df_balanced['url'])].sample(9,random_state=random_state)\n",
    "\n",
    "df_test = pd.concat([df_balanced,df_sup_infox,df_sup_noninfox]).sample(frac=1,random_state=random_state)"
   ]
  },
  {
   "cell_type": "code",
   "execution_count": null,
   "id": "61aba775",
   "metadata": {},
   "outputs": [],
   "source": [
    "df_test"
   ]
  },
  {
   "cell_type": "markdown",
   "id": "cc75dbbc",
   "metadata": {},
   "source": [
    "# Vérification du jeu de données"
   ]
  },
  {
   "cell_type": "code",
   "execution_count": null,
   "id": "4d3a78d5",
   "metadata": {},
   "outputs": [],
   "source": [
    "pd.DataFrame(df_test.value_counts('site'))"
   ]
  },
  {
   "cell_type": "code",
   "execution_count": null,
   "id": "d019fd05",
   "metadata": {},
   "outputs": [],
   "source": [
    "df_test['url_labelizer']=\"https://app.observatoire.info/labelize?url_h=\"+df_test['url_h']"
   ]
  },
  {
   "cell_type": "code",
   "execution_count": null,
   "id": "a9b5435c",
   "metadata": {},
   "outputs": [],
   "source": [
    "for url in df_test[df_test['site']=='lemediaen442.fr ']['url_labelizer']:\n",
    "    print(url)"
   ]
  },
  {
   "cell_type": "code",
   "execution_count": null,
   "id": "a610237d",
   "metadata": {},
   "outputs": [],
   "source": [
    "for i,url in enumerate(df_test['url_labelizer']):\n",
    "    print(i,url)"
   ]
  },
  {
   "cell_type": "code",
   "execution_count": null,
   "id": "1bcaaef7",
   "metadata": {},
   "outputs": [],
   "source": [
    "df_test.iloc[1]['paragraphs']"
   ]
  },
  {
   "cell_type": "markdown",
   "id": "76996d3a",
   "metadata": {},
   "source": [
    "# Sauvegarde des résultats\n",
    "---"
   ]
  },
  {
   "cell_type": "code",
   "execution_count": null,
   "id": "f39f8729",
   "metadata": {},
   "outputs": [],
   "source": [
    "df_test[['url_h','url_labelizer','title']].to_csv('data/tmp/230713-Experience.csv',index=False)"
   ]
  },
  {
   "cell_type": "markdown",
   "id": "fb7949bc",
   "metadata": {},
   "source": [
    "# Conclusions\n",
    "---"
   ]
  },
  {
   "cell_type": "markdown",
   "id": "bd360655",
   "metadata": {},
   "source": [
    "# Bricolages\n",
    "---"
   ]
  },
  {
   "cell_type": "code",
   "execution_count": null,
   "id": "3fbfc62a",
   "metadata": {},
   "outputs": [],
   "source": [
    "import patat.imp.clean_params"
   ]
  },
  {
   "cell_type": "code",
   "execution_count": null,
   "id": "ffa0284d",
   "metadata": {},
   "outputs": [],
   "source": [
    "patat.imp.clean_params.remove_paragraphs"
   ]
  },
  {
   "cell_type": "code",
   "execution_count": null,
   "id": "c0f29faa",
   "metadata": {},
   "outputs": [],
   "source": [
    "'toto'.replace('o','u')"
   ]
  },
  {
   "cell_type": "code",
   "execution_count": null,
   "id": "d3424c78",
   "metadata": {},
   "outputs": [],
   "source": [
    "cd Work/Patat"
   ]
  },
  {
   "cell_type": "code",
   "execution_count": null,
   "id": "8358c872",
   "metadata": {},
   "outputs": [],
   "source": []
  }
 ],
 "metadata": {
  "kernelspec": {
   "display_name": "Python 3 (ipykernel)",
   "language": "python",
   "name": "python3"
  },
  "language_info": {
   "codemirror_mode": {
    "name": "ipython",
    "version": 3
   },
   "file_extension": ".py",
   "mimetype": "text/x-python",
   "name": "python",
   "nbconvert_exporter": "python",
   "pygments_lexer": "ipython3",
   "version": "3.10.11"
  }
 },
 "nbformat": 4,
 "nbformat_minor": 5
}
