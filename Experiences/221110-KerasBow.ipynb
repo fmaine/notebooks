{
 "cells": [
  {
   "cell_type": "markdown",
   "id": "e3ec4689",
   "metadata": {},
   "source": [
    "# Plateforme Agnostique de Traitement et d'Analyse des Textes\n",
    "### Carnet d'expérimentation\n",
    "---\n",
    "\n",
    "## Sujet : Prédicteur infox tfidf + pytorch\n",
    "\n",
    "---"
   ]
  },
  {
   "cell_type": "markdown",
   "id": "2601e626",
   "metadata": {},
   "source": [
    "# Observations et environnement\n",
    "---"
   ]
  },
  {
   "cell_type": "code",
   "execution_count": 1,
   "id": "5d0de4d7",
   "metadata": {},
   "outputs": [
    {
     "name": "stdout",
     "output_type": "stream",
     "text": [
      "/Users/fm/Desktop/Work/Patat\n"
     ]
    }
   ],
   "source": [
    "cd ../.."
   ]
  },
  {
   "cell_type": "code",
   "execution_count": 2,
   "id": "32256b0d",
   "metadata": {},
   "outputs": [],
   "source": [
    "import importlib\n",
    "import pandas as pd\n",
    "import seaborn as sns"
   ]
  },
  {
   "cell_type": "markdown",
   "id": "29618668",
   "metadata": {},
   "source": [
    "## Labels et Articles"
   ]
  },
  {
   "cell_type": "code",
   "execution_count": 3,
   "id": "3b357704",
   "metadata": {},
   "outputs": [],
   "source": [
    "import patat.db.label_db"
   ]
  },
  {
   "cell_type": "code",
   "execution_count": 4,
   "id": "7c25908f",
   "metadata": {},
   "outputs": [
    {
     "data": {
      "text/html": [
       "<div>\n",
       "<style scoped>\n",
       "    .dataframe tbody tr th:only-of-type {\n",
       "        vertical-align: middle;\n",
       "    }\n",
       "\n",
       "    .dataframe tbody tr th {\n",
       "        vertical-align: top;\n",
       "    }\n",
       "\n",
       "    .dataframe thead th {\n",
       "        text-align: right;\n",
       "    }\n",
       "</style>\n",
       "<table border=\"1\" class=\"dataframe\">\n",
       "  <thead>\n",
       "    <tr style=\"text-align: right;\">\n",
       "      <th></th>\n",
       "      <th>url</th>\n",
       "      <th>value</th>\n",
       "      <th>label</th>\n",
       "      <th>owner</th>\n",
       "      <th>type</th>\n",
       "      <th>url_h</th>\n",
       "    </tr>\n",
       "  </thead>\n",
       "  <tbody>\n",
       "    <tr>\n",
       "      <th>0</th>\n",
       "      <td>https://www.breizh-info.com/2022/09/30/208531/...</td>\n",
       "      <td>0.002348</td>\n",
       "      <td>infox</td>\n",
       "      <td>221028-InfoxPipe</td>\n",
       "      <td>pred</td>\n",
       "      <td>7a183e0e5a2d7643350d9cb3fe655cb8e05d2892</td>\n",
       "    </tr>\n",
       "    <tr>\n",
       "      <th>1</th>\n",
       "      <td>https://www.breizh-info.com/2022/10/02/208574/...</td>\n",
       "      <td>0.024418</td>\n",
       "      <td>infox</td>\n",
       "      <td>221028-InfoxPipe</td>\n",
       "      <td>pred</td>\n",
       "      <td>242c9ea99be61b3e67d040b9a15423556b0a226c</td>\n",
       "    </tr>\n",
       "    <tr>\n",
       "      <th>2</th>\n",
       "      <td>https://www.dreuz.info/2022/10/elections-de-mi...</td>\n",
       "      <td>0.025664</td>\n",
       "      <td>infox</td>\n",
       "      <td>221028-InfoxPipe</td>\n",
       "      <td>pred</td>\n",
       "      <td>6294a8e958f020eb3d151176bdd437626d490b43</td>\n",
       "    </tr>\n",
       "    <tr>\n",
       "      <th>3</th>\n",
       "      <td>https://www.dreuz.info/2022/10/lukraine-est-en...</td>\n",
       "      <td>0.052985</td>\n",
       "      <td>infox</td>\n",
       "      <td>221028-InfoxPipe</td>\n",
       "      <td>pred</td>\n",
       "      <td>3f2abdc980e4fc88f3b62503e4cfccf2923686f5</td>\n",
       "    </tr>\n",
       "    <tr>\n",
       "      <th>4</th>\n",
       "      <td>https://www.dreuz.info/2022/10/la-fda-va-publi...</td>\n",
       "      <td>0.055427</td>\n",
       "      <td>infox</td>\n",
       "      <td>221028-InfoxPipe</td>\n",
       "      <td>pred</td>\n",
       "      <td>1f3dc0cd32405aadd908368395533886a5e13fe2</td>\n",
       "    </tr>\n",
       "    <tr>\n",
       "      <th>...</th>\n",
       "      <td>...</td>\n",
       "      <td>...</td>\n",
       "      <td>...</td>\n",
       "      <td>...</td>\n",
       "      <td>...</td>\n",
       "      <td>...</td>\n",
       "    </tr>\n",
       "    <tr>\n",
       "      <th>264236</th>\n",
       "      <td>https://www.profession-gendarme.com/zelensky-e...</td>\n",
       "      <td>0.556761</td>\n",
       "      <td>infox</td>\n",
       "      <td>220930-tf_lr.pp</td>\n",
       "      <td>pred</td>\n",
       "      <td>e346761c2a99d892b26c9388480e0ee6ad6b303b</td>\n",
       "    </tr>\n",
       "    <tr>\n",
       "      <th>264237</th>\n",
       "      <td>https://www.profession-gendarme.com/zelensky-l...</td>\n",
       "      <td>0.164531</td>\n",
       "      <td>infox</td>\n",
       "      <td>220930-tf_lr.pp</td>\n",
       "      <td>pred</td>\n",
       "      <td>77525354644316eadab53960efa8f5fd028c7f67</td>\n",
       "    </tr>\n",
       "    <tr>\n",
       "      <th>264238</th>\n",
       "      <td>https://www.profession-gendarme.com/zelensky-m...</td>\n",
       "      <td>0.673791</td>\n",
       "      <td>infox</td>\n",
       "      <td>220930-tf_lr.pp</td>\n",
       "      <td>pred</td>\n",
       "      <td>fc6a074da5c02032bc9fc3f35f1044bc4029042c</td>\n",
       "    </tr>\n",
       "    <tr>\n",
       "      <th>264239</th>\n",
       "      <td>https://www.profession-gendarme.com/zero-mort-...</td>\n",
       "      <td>0.103192</td>\n",
       "      <td>infox</td>\n",
       "      <td>220930-tf_lr.pp</td>\n",
       "      <td>pred</td>\n",
       "      <td>e4f0a8961d79c9a5f66c80d7aa4196cb679af2b0</td>\n",
       "    </tr>\n",
       "    <tr>\n",
       "      <th>264240</th>\n",
       "      <td>https://www.profession-gendarme.com/zoom-franc...</td>\n",
       "      <td>0.303205</td>\n",
       "      <td>infox</td>\n",
       "      <td>220930-tf_lr.pp</td>\n",
       "      <td>pred</td>\n",
       "      <td>36a0091795b15d56005a6b7b8963ada539f598eb</td>\n",
       "    </tr>\n",
       "  </tbody>\n",
       "</table>\n",
       "<p>264241 rows × 6 columns</p>\n",
       "</div>"
      ],
      "text/plain": [
       "                                                      url     value  label  \\\n",
       "0       https://www.breizh-info.com/2022/09/30/208531/...  0.002348  infox   \n",
       "1       https://www.breizh-info.com/2022/10/02/208574/...  0.024418  infox   \n",
       "2       https://www.dreuz.info/2022/10/elections-de-mi...  0.025664  infox   \n",
       "3       https://www.dreuz.info/2022/10/lukraine-est-en...  0.052985  infox   \n",
       "4       https://www.dreuz.info/2022/10/la-fda-va-publi...  0.055427  infox   \n",
       "...                                                   ...       ...    ...   \n",
       "264236  https://www.profession-gendarme.com/zelensky-e...  0.556761  infox   \n",
       "264237  https://www.profession-gendarme.com/zelensky-l...  0.164531  infox   \n",
       "264238  https://www.profession-gendarme.com/zelensky-m...  0.673791  infox   \n",
       "264239  https://www.profession-gendarme.com/zero-mort-...  0.103192  infox   \n",
       "264240  https://www.profession-gendarme.com/zoom-franc...  0.303205  infox   \n",
       "\n",
       "                   owner  type                                     url_h  \n",
       "0       221028-InfoxPipe  pred  7a183e0e5a2d7643350d9cb3fe655cb8e05d2892  \n",
       "1       221028-InfoxPipe  pred  242c9ea99be61b3e67d040b9a15423556b0a226c  \n",
       "2       221028-InfoxPipe  pred  6294a8e958f020eb3d151176bdd437626d490b43  \n",
       "3       221028-InfoxPipe  pred  3f2abdc980e4fc88f3b62503e4cfccf2923686f5  \n",
       "4       221028-InfoxPipe  pred  1f3dc0cd32405aadd908368395533886a5e13fe2  \n",
       "...                  ...   ...                                       ...  \n",
       "264236   220930-tf_lr.pp  pred  e346761c2a99d892b26c9388480e0ee6ad6b303b  \n",
       "264237   220930-tf_lr.pp  pred  77525354644316eadab53960efa8f5fd028c7f67  \n",
       "264238   220930-tf_lr.pp  pred  fc6a074da5c02032bc9fc3f35f1044bc4029042c  \n",
       "264239   220930-tf_lr.pp  pred  e4f0a8961d79c9a5f66c80d7aa4196cb679af2b0  \n",
       "264240   220930-tf_lr.pp  pred  36a0091795b15d56005a6b7b8963ada539f598eb  \n",
       "\n",
       "[264241 rows x 6 columns]"
      ]
     },
     "execution_count": 4,
     "metadata": {},
     "output_type": "execute_result"
    }
   ],
   "source": [
    "importlib.reload(patat.db.label_db)\n",
    "label_filename = ''\n",
    "\n",
    "label_db = patat.db.label_db.LabelDb(label_filename)\n",
    "label_db.df()"
   ]
  },
  {
   "cell_type": "code",
   "execution_count": 5,
   "id": "96710531",
   "metadata": {},
   "outputs": [],
   "source": [
    "import patat.db.article_db"
   ]
  },
  {
   "cell_type": "code",
   "execution_count": 6,
   "id": "c77ec74d",
   "metadata": {},
   "outputs": [
    {
     "data": {
      "text/html": [
       "<div>\n",
       "<style scoped>\n",
       "    .dataframe tbody tr th:only-of-type {\n",
       "        vertical-align: middle;\n",
       "    }\n",
       "\n",
       "    .dataframe tbody tr th {\n",
       "        vertical-align: top;\n",
       "    }\n",
       "\n",
       "    .dataframe thead th {\n",
       "        text-align: right;\n",
       "    }\n",
       "</style>\n",
       "<table border=\"1\" class=\"dataframe\">\n",
       "  <thead>\n",
       "    <tr style=\"text-align: right;\">\n",
       "      <th></th>\n",
       "      <th>url</th>\n",
       "      <th>site</th>\n",
       "      <th>title</th>\n",
       "      <th>article</th>\n",
       "      <th>abstract</th>\n",
       "      <th>author</th>\n",
       "      <th>date_iso</th>\n",
       "      <th>url_h</th>\n",
       "      <th>c_count</th>\n",
       "    </tr>\n",
       "  </thead>\n",
       "  <tbody>\n",
       "    <tr>\n",
       "      <th>0</th>\n",
       "      <td>https://www.breizh-info.com/2022/09/30/208531/...</td>\n",
       "      <td>www.breizh-info.com</td>\n",
       "      <td>Réunification. Les six « insoumis » de Bretagne</td>\n",
       "      <td>Dans l’opération que prépare Bretagne réunie, ...</td>\n",
       "      <td>NaN</td>\n",
       "      <td>NaN</td>\n",
       "      <td>2022-09-30T00:00:00</td>\n",
       "      <td>7a183e0e5a2d7643350d9cb3fe655cb8e05d2892</td>\n",
       "      <td>2292.0</td>\n",
       "    </tr>\n",
       "    <tr>\n",
       "      <th>1</th>\n",
       "      <td>https://www.breizh-info.com/2022/10/02/208574/...</td>\n",
       "      <td>www.breizh-info.com</td>\n",
       "      <td>Stonehenge, patrimoine africain ? Ben voyons…</td>\n",
       "      <td>Ces dernières années, l’Histoire toute entière...</td>\n",
       "      <td>NaN</td>\n",
       "      <td>NaN</td>\n",
       "      <td>2022-10-02T00:00:00</td>\n",
       "      <td>242c9ea99be61b3e67d040b9a15423556b0a226c</td>\n",
       "      <td>5111.0</td>\n",
       "    </tr>\n",
       "    <tr>\n",
       "      <th>2</th>\n",
       "      <td>https://www.dreuz.info/2022/10/elections-de-mi...</td>\n",
       "      <td>www.dreuz.info</td>\n",
       "      <td>Elections américaines de mi-mandat : suivi quo...</td>\n",
       "      <td>Voici le suivi quotidien des élections des mid...</td>\n",
       "      <td>NaN</td>\n",
       "      <td>Publié par  Team 100 jours le 3 octobre 2022</td>\n",
       "      <td>2022-10-03T00:00:00</td>\n",
       "      <td>6294a8e958f020eb3d151176bdd437626d490b43</td>\n",
       "      <td>5900.0</td>\n",
       "    </tr>\n",
       "    <tr>\n",
       "      <th>3</th>\n",
       "      <td>https://www.dreuz.info/2022/10/lukraine-est-en...</td>\n",
       "      <td>www.dreuz.info</td>\n",
       "      <td>L’Ukraine est en train de gagner la guerre</td>\n",
       "      <td>On ne saura sans doute jamais exactement qui a...</td>\n",
       "      <td>NaN</td>\n",
       "      <td>Publié par  Guy Millière le 4 octobre 2022</td>\n",
       "      <td>2022-10-04T00:00:00</td>\n",
       "      <td>3f2abdc980e4fc88f3b62503e4cfccf2923686f5</td>\n",
       "      <td>9598.0</td>\n",
       "    </tr>\n",
       "    <tr>\n",
       "      <th>4</th>\n",
       "      <td>https://www.dreuz.info/2022/10/la-fda-va-publi...</td>\n",
       "      <td>www.dreuz.info</td>\n",
       "      <td>La FDA va publier une étude sur les effets ind...</td>\n",
       "      <td>Première réflexion : J’ai toujours été pro-cho...</td>\n",
       "      <td>NaN</td>\n",
       "      <td>Publié par  Jean-Patrick Grumberg le 6 octobre...</td>\n",
       "      <td>2022-10-06T00:00:00</td>\n",
       "      <td>1f3dc0cd32405aadd908368395533886a5e13fe2</td>\n",
       "      <td>4264.0</td>\n",
       "    </tr>\n",
       "    <tr>\n",
       "      <th>...</th>\n",
       "      <td>...</td>\n",
       "      <td>...</td>\n",
       "      <td>...</td>\n",
       "      <td>...</td>\n",
       "      <td>...</td>\n",
       "      <td>...</td>\n",
       "      <td>...</td>\n",
       "      <td>...</td>\n",
       "      <td>...</td>\n",
       "    </tr>\n",
       "    <tr>\n",
       "      <th>77945</th>\n",
       "      <td>https://www.lelibrepenseur.org/une-histoire-vi...</td>\n",
       "      <td>www.lelibrepenseur.org</td>\n",
       "      <td>Une histoire vieille comme le monde !</td>\n",
       "      <td>Certains veulent des preuves ! Ils ont raison....</td>\n",
       "      <td>NaN</td>\n",
       "      <td>Par\\nAdmin</td>\n",
       "      <td>2010-05-04T00:00:00</td>\n",
       "      <td>8c7a6ecf46d47da1912884a0c0a2837c69f7ad19</td>\n",
       "      <td>7889.0</td>\n",
       "    </tr>\n",
       "    <tr>\n",
       "      <th>77946</th>\n",
       "      <td>https://www.lelibrepenseur.org/actus/</td>\n",
       "      <td>www.lelibrepenseur.org</td>\n",
       "      <td>Actus</td>\n",
       "      <td>Dernière vidéo !\\nIl était temps, enfin ! Je v...</td>\n",
       "      <td>NaN</td>\n",
       "      <td>Par\\nuser</td>\n",
       "      <td>2007-07-07T00:00:00</td>\n",
       "      <td>d4d5a37a8ff545664bea75664c8d8695e70d0941</td>\n",
       "      <td>2179.0</td>\n",
       "    </tr>\n",
       "    <tr>\n",
       "      <th>77947</th>\n",
       "      <td>https://www.lelibrepenseur.org/affiche-des-dec...</td>\n",
       "      <td>www.lelibrepenseur.org</td>\n",
       "      <td>Affiche des décès et malaises de sportifs de h...</td>\n",
       "      <td>Un nombre inquiétant de sportifs de haut nivea...</td>\n",
       "      <td>NaN</td>\n",
       "      <td>NaN</td>\n",
       "      <td>NaN</td>\n",
       "      <td>a175027896cf79e76dfad6409694fafacf1919b3</td>\n",
       "      <td>2250.0</td>\n",
       "    </tr>\n",
       "    <tr>\n",
       "      <th>77948</th>\n",
       "      <td>https://www.lelibrepenseur.org/communaute/</td>\n",
       "      <td>www.lelibrepenseur.org</td>\n",
       "      <td>Communauté</td>\n",
       "      <td>Notre Réseau Telegram et ses Groupes Secondair...</td>\n",
       "      <td>NaN</td>\n",
       "      <td>NaN</td>\n",
       "      <td>NaN</td>\n",
       "      <td>6ba257c7b15dd68cadf7dc5d6d8c584db0f1792e</td>\n",
       "      <td>2937.0</td>\n",
       "    </tr>\n",
       "    <tr>\n",
       "      <th>77949</th>\n",
       "      <td>https://www.lelibrepenseur.org/utilisation-des...</td>\n",
       "      <td>www.lelibrepenseur.org</td>\n",
       "      <td>Utilisation des cookies sur notre site</td>\n",
       "      <td>Que sont les cookies ?\\n\\n\\nLes cookies sont d...</td>\n",
       "      <td>NaN</td>\n",
       "      <td>NaN</td>\n",
       "      <td>NaN</td>\n",
       "      <td>7c725113f0c9a95c8269c8d7a271d253ae5ede99</td>\n",
       "      <td>7702.0</td>\n",
       "    </tr>\n",
       "  </tbody>\n",
       "</table>\n",
       "<p>77950 rows × 9 columns</p>\n",
       "</div>"
      ],
      "text/plain": [
       "                                                     url  \\\n",
       "0      https://www.breizh-info.com/2022/09/30/208531/...   \n",
       "1      https://www.breizh-info.com/2022/10/02/208574/...   \n",
       "2      https://www.dreuz.info/2022/10/elections-de-mi...   \n",
       "3      https://www.dreuz.info/2022/10/lukraine-est-en...   \n",
       "4      https://www.dreuz.info/2022/10/la-fda-va-publi...   \n",
       "...                                                  ...   \n",
       "77945  https://www.lelibrepenseur.org/une-histoire-vi...   \n",
       "77946              https://www.lelibrepenseur.org/actus/   \n",
       "77947  https://www.lelibrepenseur.org/affiche-des-dec...   \n",
       "77948         https://www.lelibrepenseur.org/communaute/   \n",
       "77949  https://www.lelibrepenseur.org/utilisation-des...   \n",
       "\n",
       "                         site  \\\n",
       "0         www.breizh-info.com   \n",
       "1         www.breizh-info.com   \n",
       "2              www.dreuz.info   \n",
       "3              www.dreuz.info   \n",
       "4              www.dreuz.info   \n",
       "...                       ...   \n",
       "77945  www.lelibrepenseur.org   \n",
       "77946  www.lelibrepenseur.org   \n",
       "77947  www.lelibrepenseur.org   \n",
       "77948  www.lelibrepenseur.org   \n",
       "77949  www.lelibrepenseur.org   \n",
       "\n",
       "                                                   title  \\\n",
       "0        Réunification. Les six « insoumis » de Bretagne   \n",
       "1          Stonehenge, patrimoine africain ? Ben voyons…   \n",
       "2      Elections américaines de mi-mandat : suivi quo...   \n",
       "3             L’Ukraine est en train de gagner la guerre   \n",
       "4      La FDA va publier une étude sur les effets ind...   \n",
       "...                                                  ...   \n",
       "77945              Une histoire vieille comme le monde !   \n",
       "77946                                              Actus   \n",
       "77947  Affiche des décès et malaises de sportifs de h...   \n",
       "77948                                         Communauté   \n",
       "77949             Utilisation des cookies sur notre site   \n",
       "\n",
       "                                                 article  abstract  \\\n",
       "0      Dans l’opération que prépare Bretagne réunie, ...       NaN   \n",
       "1      Ces dernières années, l’Histoire toute entière...       NaN   \n",
       "2      Voici le suivi quotidien des élections des mid...       NaN   \n",
       "3      On ne saura sans doute jamais exactement qui a...       NaN   \n",
       "4      Première réflexion : J’ai toujours été pro-cho...       NaN   \n",
       "...                                                  ...       ...   \n",
       "77945  Certains veulent des preuves ! Ils ont raison....       NaN   \n",
       "77946  Dernière vidéo !\\nIl était temps, enfin ! Je v...       NaN   \n",
       "77947  Un nombre inquiétant de sportifs de haut nivea...       NaN   \n",
       "77948  Notre Réseau Telegram et ses Groupes Secondair...       NaN   \n",
       "77949  Que sont les cookies ?\\n\\n\\nLes cookies sont d...       NaN   \n",
       "\n",
       "                                                  author             date_iso  \\\n",
       "0                                                    NaN  2022-09-30T00:00:00   \n",
       "1                                                    NaN  2022-10-02T00:00:00   \n",
       "2           Publié par  Team 100 jours le 3 octobre 2022  2022-10-03T00:00:00   \n",
       "3             Publié par  Guy Millière le 4 octobre 2022  2022-10-04T00:00:00   \n",
       "4      Publié par  Jean-Patrick Grumberg le 6 octobre...  2022-10-06T00:00:00   \n",
       "...                                                  ...                  ...   \n",
       "77945                                         Par\\nAdmin  2010-05-04T00:00:00   \n",
       "77946                                          Par\\nuser  2007-07-07T00:00:00   \n",
       "77947                                                NaN                  NaN   \n",
       "77948                                                NaN                  NaN   \n",
       "77949                                                NaN                  NaN   \n",
       "\n",
       "                                          url_h  c_count  \n",
       "0      7a183e0e5a2d7643350d9cb3fe655cb8e05d2892   2292.0  \n",
       "1      242c9ea99be61b3e67d040b9a15423556b0a226c   5111.0  \n",
       "2      6294a8e958f020eb3d151176bdd437626d490b43   5900.0  \n",
       "3      3f2abdc980e4fc88f3b62503e4cfccf2923686f5   9598.0  \n",
       "4      1f3dc0cd32405aadd908368395533886a5e13fe2   4264.0  \n",
       "...                                         ...      ...  \n",
       "77945  8c7a6ecf46d47da1912884a0c0a2837c69f7ad19   7889.0  \n",
       "77946  d4d5a37a8ff545664bea75664c8d8695e70d0941   2179.0  \n",
       "77947  a175027896cf79e76dfad6409694fafacf1919b3   2250.0  \n",
       "77948  6ba257c7b15dd68cadf7dc5d6d8c584db0f1792e   2937.0  \n",
       "77949  7c725113f0c9a95c8269c8d7a271d253ae5ede99   7702.0  \n",
       "\n",
       "[77950 rows x 9 columns]"
      ]
     },
     "execution_count": 6,
     "metadata": {},
     "output_type": "execute_result"
    }
   ],
   "source": [
    "importlib.reload(patat.db.article_db)\n",
    "article_filename = ''\n",
    "\n",
    "article_db = patat.db.article_db.ArticleDb(article_filename)\n",
    "article_db.df()"
   ]
  },
  {
   "cell_type": "code",
   "execution_count": 7,
   "id": "e44bbe72",
   "metadata": {},
   "outputs": [
    {
     "data": {
      "text/plain": [
       "site\n",
       "www.francesoir.fr              18451\n",
       "www.francetvinfo.fr            14597\n",
       "www.breizh-info.com             6069\n",
       "www.dreuz.info                  5140\n",
       "www.legorafi.fr                 4488\n",
       "www.wikistrike.com              3896\n",
       "www.profession-gendarme.com     3192\n",
       "actu.fr                         2874\n",
       "www.lelibrepenseur.org          2615\n",
       "fr.sott.net                     2602\n",
       "lesmoutonsrebelles.com          2174\n",
       "lezarceleurs.blogspot.com       2130\n",
       "lemediaen442.fr                 1875\n",
       "www.cnews.fr                    1519\n",
       "reseauinternational.net         1146\n",
       "theconversation.com             1049\n",
       "www.lesalonbeige.fr              994\n",
       "lesakerfrancophone.fr            872\n",
       "www.polemia.com                  623\n",
       "fr.novopress.info                611\n",
       "infodujour.fr                    492\n",
       "lesobservateurs.ch               338\n",
       "www.nouvelordremondial.cc         97\n",
       "lesdeqodeurs.fr                   89\n",
       "www.voltairenet.org                9\n",
       "www.les-crises.fr                  5\n",
       "lalettrepatriote.com               3\n",
       "dtype: int64"
      ]
     },
     "execution_count": 7,
     "metadata": {},
     "output_type": "execute_result"
    }
   ],
   "source": [
    "article_db.df().value_counts('site')"
   ]
  },
  {
   "cell_type": "markdown",
   "id": "f32351c1",
   "metadata": {},
   "source": [
    "# Experience\n",
    "---"
   ]
  },
  {
   "cell_type": "markdown",
   "id": "70ad9088",
   "metadata": {},
   "source": [
    "## Données d'entrainement"
   ]
  },
  {
   "cell_type": "code",
   "execution_count": 8,
   "id": "e1ade36f",
   "metadata": {},
   "outputs": [],
   "source": [
    "df_labels = label_db.df()"
   ]
  },
  {
   "cell_type": "code",
   "execution_count": 9,
   "id": "44e3f714",
   "metadata": {},
   "outputs": [],
   "source": [
    "df_labels = df_labels[df_labels['owner']=='recueil']"
   ]
  },
  {
   "cell_type": "code",
   "execution_count": 10,
   "id": "16ef028d",
   "metadata": {},
   "outputs": [],
   "source": [
    "df_labels = df_labels[df_labels['label']=='infox'][['url','value']]"
   ]
  },
  {
   "cell_type": "code",
   "execution_count": 11,
   "id": "4c45c214",
   "metadata": {},
   "outputs": [],
   "source": [
    "df_labels = df_labels.rename(columns={'value':'infox'})"
   ]
  },
  {
   "cell_type": "code",
   "execution_count": 12,
   "id": "faf9c558",
   "metadata": {},
   "outputs": [
    {
     "data": {
      "text/html": [
       "<div>\n",
       "<style scoped>\n",
       "    .dataframe tbody tr th:only-of-type {\n",
       "        vertical-align: middle;\n",
       "    }\n",
       "\n",
       "    .dataframe tbody tr th {\n",
       "        vertical-align: top;\n",
       "    }\n",
       "\n",
       "    .dataframe thead th {\n",
       "        text-align: right;\n",
       "    }\n",
       "</style>\n",
       "<table border=\"1\" class=\"dataframe\">\n",
       "  <thead>\n",
       "    <tr style=\"text-align: right;\">\n",
       "      <th></th>\n",
       "      <th>url</th>\n",
       "      <th>infox</th>\n",
       "    </tr>\n",
       "  </thead>\n",
       "  <tbody>\n",
       "    <tr>\n",
       "      <th>77950</th>\n",
       "      <td>https://www.anguillesousroche.com/actualite/ou...</td>\n",
       "      <td>0.0</td>\n",
       "    </tr>\n",
       "    <tr>\n",
       "      <th>77971</th>\n",
       "      <td>https://www.anguillesousroche.com/technologie/...</td>\n",
       "      <td>1.0</td>\n",
       "    </tr>\n",
       "    <tr>\n",
       "      <th>77992</th>\n",
       "      <td>https://www.anguillesousroche.com/actualite/ju...</td>\n",
       "      <td>0.0</td>\n",
       "    </tr>\n",
       "    <tr>\n",
       "      <th>78014</th>\n",
       "      <td>https://bonsens.info/essais-pfizer-sur-le-vacc...</td>\n",
       "      <td>1.0</td>\n",
       "    </tr>\n",
       "    <tr>\n",
       "      <th>78033</th>\n",
       "      <td>https://www.breizh-info.com/2022/02/23/180457/...</td>\n",
       "      <td>1.0</td>\n",
       "    </tr>\n",
       "    <tr>\n",
       "      <th>...</th>\n",
       "      <td>...</td>\n",
       "      <td>...</td>\n",
       "    </tr>\n",
       "    <tr>\n",
       "      <th>87754</th>\n",
       "      <td>https://www.wikistrike.com/2022/08/l-un-des-pl...</td>\n",
       "      <td>0.0</td>\n",
       "    </tr>\n",
       "    <tr>\n",
       "      <th>87775</th>\n",
       "      <td>https://www.wikistrike.com/2022/09/les-command...</td>\n",
       "      <td>1.0</td>\n",
       "    </tr>\n",
       "    <tr>\n",
       "      <th>87796</th>\n",
       "      <td>https://www.wikistrike.com/2022/09/coupures-el...</td>\n",
       "      <td>1.0</td>\n",
       "    </tr>\n",
       "    <tr>\n",
       "      <th>87817</th>\n",
       "      <td>https://www.wikistrike.com/2022/09/11-septembr...</td>\n",
       "      <td>1.0</td>\n",
       "    </tr>\n",
       "    <tr>\n",
       "      <th>87838</th>\n",
       "      <td>https://www.wikistrike.com/2022/10/selon-un-an...</td>\n",
       "      <td>1.0</td>\n",
       "    </tr>\n",
       "  </tbody>\n",
       "</table>\n",
       "<p>499 rows × 2 columns</p>\n",
       "</div>"
      ],
      "text/plain": [
       "                                                     url  infox\n",
       "77950  https://www.anguillesousroche.com/actualite/ou...    0.0\n",
       "77971  https://www.anguillesousroche.com/technologie/...    1.0\n",
       "77992  https://www.anguillesousroche.com/actualite/ju...    0.0\n",
       "78014  https://bonsens.info/essais-pfizer-sur-le-vacc...    1.0\n",
       "78033  https://www.breizh-info.com/2022/02/23/180457/...    1.0\n",
       "...                                                  ...    ...\n",
       "87754  https://www.wikistrike.com/2022/08/l-un-des-pl...    0.0\n",
       "87775  https://www.wikistrike.com/2022/09/les-command...    1.0\n",
       "87796  https://www.wikistrike.com/2022/09/coupures-el...    1.0\n",
       "87817  https://www.wikistrike.com/2022/09/11-septembr...    1.0\n",
       "87838  https://www.wikistrike.com/2022/10/selon-un-an...    1.0\n",
       "\n",
       "[499 rows x 2 columns]"
      ]
     },
     "execution_count": 12,
     "metadata": {},
     "output_type": "execute_result"
    }
   ],
   "source": [
    "df_labels"
   ]
  },
  {
   "cell_type": "code",
   "execution_count": 13,
   "id": "1d63d3bd",
   "metadata": {},
   "outputs": [],
   "source": [
    "df_corpus = article_db.df()"
   ]
  },
  {
   "cell_type": "code",
   "execution_count": 14,
   "id": "9930531a",
   "metadata": {},
   "outputs": [],
   "source": [
    "df_corpus['text'] = df_corpus['title']+'\\n'+df_corpus['article']"
   ]
  },
  {
   "cell_type": "code",
   "execution_count": 15,
   "id": "3147e883",
   "metadata": {},
   "outputs": [],
   "source": [
    "df_corpus=df_corpus[['url','text']]"
   ]
  },
  {
   "cell_type": "code",
   "execution_count": 16,
   "id": "1b9141bf",
   "metadata": {},
   "outputs": [],
   "source": [
    "df_texts = pd.merge(df_corpus,df_labels)"
   ]
  },
  {
   "cell_type": "code",
   "execution_count": 17,
   "id": "7a49f80f",
   "metadata": {},
   "outputs": [
    {
     "data": {
      "text/html": [
       "<div>\n",
       "<style scoped>\n",
       "    .dataframe tbody tr th:only-of-type {\n",
       "        vertical-align: middle;\n",
       "    }\n",
       "\n",
       "    .dataframe tbody tr th {\n",
       "        vertical-align: top;\n",
       "    }\n",
       "\n",
       "    .dataframe thead th {\n",
       "        text-align: right;\n",
       "    }\n",
       "</style>\n",
       "<table border=\"1\" class=\"dataframe\">\n",
       "  <thead>\n",
       "    <tr style=\"text-align: right;\">\n",
       "      <th></th>\n",
       "      <th>url</th>\n",
       "      <th>text</th>\n",
       "      <th>infox</th>\n",
       "    </tr>\n",
       "  </thead>\n",
       "  <tbody>\n",
       "    <tr>\n",
       "      <th>0</th>\n",
       "      <td>https://www.breizh-info.com/2022/09/30/208531/...</td>\n",
       "      <td>Réunification. Les six « insoumis » de Bretagn...</td>\n",
       "      <td>0.0</td>\n",
       "    </tr>\n",
       "    <tr>\n",
       "      <th>1</th>\n",
       "      <td>https://www.breizh-info.com/2022/10/02/208574/...</td>\n",
       "      <td>Stonehenge, patrimoine africain ? Ben voyons…\\...</td>\n",
       "      <td>0.0</td>\n",
       "    </tr>\n",
       "    <tr>\n",
       "      <th>2</th>\n",
       "      <td>https://www.dreuz.info/2022/10/elections-de-mi...</td>\n",
       "      <td>Elections américaines de mi-mandat : suivi quo...</td>\n",
       "      <td>0.0</td>\n",
       "    </tr>\n",
       "    <tr>\n",
       "      <th>3</th>\n",
       "      <td>https://www.dreuz.info/2022/10/lukraine-est-en...</td>\n",
       "      <td>L’Ukraine est en train de gagner la guerre\\nOn...</td>\n",
       "      <td>0.0</td>\n",
       "    </tr>\n",
       "    <tr>\n",
       "      <th>4</th>\n",
       "      <td>https://www.dreuz.info/2022/10/la-fda-va-publi...</td>\n",
       "      <td>La FDA va publier une étude sur les effets ind...</td>\n",
       "      <td>0.0</td>\n",
       "    </tr>\n",
       "    <tr>\n",
       "      <th>...</th>\n",
       "      <td>...</td>\n",
       "      <td>...</td>\n",
       "      <td>...</td>\n",
       "    </tr>\n",
       "    <tr>\n",
       "      <th>450</th>\n",
       "      <td>https://www.lelibrepenseur.org/sanna-marine-la...</td>\n",
       "      <td>Sanna Marin, la Première ministre finlandaise,...</td>\n",
       "      <td>0.0</td>\n",
       "    </tr>\n",
       "    <tr>\n",
       "      <th>451</th>\n",
       "      <td>https://www.lelibrepenseur.org/manifestations-...</td>\n",
       "      <td>Manifestations importantes d’agriculteurs aux ...</td>\n",
       "      <td>1.0</td>\n",
       "    </tr>\n",
       "    <tr>\n",
       "      <th>452</th>\n",
       "      <td>https://www.lelibrepenseur.org/les-deces-exces...</td>\n",
       "      <td>Les décès excessifs sont en augmentation mais ...</td>\n",
       "      <td>1.0</td>\n",
       "    </tr>\n",
       "    <tr>\n",
       "      <th>453</th>\n",
       "      <td>https://www.lelibrepenseur.org/1-milliard-de-c...</td>\n",
       "      <td>1 milliard de Chinois touchés par un piratage ...</td>\n",
       "      <td>1.0</td>\n",
       "    </tr>\n",
       "    <tr>\n",
       "      <th>454</th>\n",
       "      <td>https://www.lelibrepenseur.org/bill-gates-cont...</td>\n",
       "      <td>Bill Gates continue de manipuler l’OMS avec se...</td>\n",
       "      <td>1.0</td>\n",
       "    </tr>\n",
       "  </tbody>\n",
       "</table>\n",
       "<p>455 rows × 3 columns</p>\n",
       "</div>"
      ],
      "text/plain": [
       "                                                   url  \\\n",
       "0    https://www.breizh-info.com/2022/09/30/208531/...   \n",
       "1    https://www.breizh-info.com/2022/10/02/208574/...   \n",
       "2    https://www.dreuz.info/2022/10/elections-de-mi...   \n",
       "3    https://www.dreuz.info/2022/10/lukraine-est-en...   \n",
       "4    https://www.dreuz.info/2022/10/la-fda-va-publi...   \n",
       "..                                                 ...   \n",
       "450  https://www.lelibrepenseur.org/sanna-marine-la...   \n",
       "451  https://www.lelibrepenseur.org/manifestations-...   \n",
       "452  https://www.lelibrepenseur.org/les-deces-exces...   \n",
       "453  https://www.lelibrepenseur.org/1-milliard-de-c...   \n",
       "454  https://www.lelibrepenseur.org/bill-gates-cont...   \n",
       "\n",
       "                                                  text  infox  \n",
       "0    Réunification. Les six « insoumis » de Bretagn...    0.0  \n",
       "1    Stonehenge, patrimoine africain ? Ben voyons…\\...    0.0  \n",
       "2    Elections américaines de mi-mandat : suivi quo...    0.0  \n",
       "3    L’Ukraine est en train de gagner la guerre\\nOn...    0.0  \n",
       "4    La FDA va publier une étude sur les effets ind...    0.0  \n",
       "..                                                 ...    ...  \n",
       "450  Sanna Marin, la Première ministre finlandaise,...    0.0  \n",
       "451  Manifestations importantes d’agriculteurs aux ...    1.0  \n",
       "452  Les décès excessifs sont en augmentation mais ...    1.0  \n",
       "453  1 milliard de Chinois touchés par un piratage ...    1.0  \n",
       "454  Bill Gates continue de manipuler l’OMS avec se...    1.0  \n",
       "\n",
       "[455 rows x 3 columns]"
      ]
     },
     "execution_count": 17,
     "metadata": {},
     "output_type": "execute_result"
    }
   ],
   "source": [
    "df_texts"
   ]
  },
  {
   "cell_type": "markdown",
   "id": "692002bb",
   "metadata": {},
   "source": [
    "## Pipeline"
   ]
  },
  {
   "cell_type": "markdown",
   "id": "cc4d845f",
   "metadata": {},
   "source": [
    "### Preprocessor"
   ]
  },
  {
   "cell_type": "code",
   "execution_count": 18,
   "id": "2e6efc6d",
   "metadata": {},
   "outputs": [],
   "source": [
    "import patat.util.text\n",
    "\n",
    "importlib.reload(patat.util.text)\n",
    "preprocessor = patat.util.text.get_latin\n",
    "#preprocessor=None"
   ]
  },
  {
   "cell_type": "markdown",
   "id": "685b5cbb",
   "metadata": {},
   "source": [
    "### Tokenizer"
   ]
  },
  {
   "cell_type": "code",
   "execution_count": 19,
   "id": "52367d50",
   "metadata": {},
   "outputs": [],
   "source": [
    "from nltk.tokenize import word_tokenize, wordpunct_tokenize, sent_tokenize\n",
    "from patat.ml.lex_analyser import LexAnalyser\n",
    "\n",
    "lex = LexAnalyser()\n",
    "\n",
    "tokenizer = lex.get_lemmas_from_text\n",
    "#tokenizer = toklematize\n",
    "#tokenizer = word_tokenize\n",
    "#tokenizer = lex.get_words"
   ]
  },
  {
   "cell_type": "markdown",
   "id": "f9f6fb12",
   "metadata": {},
   "source": [
    "### Ignore words"
   ]
  },
  {
   "cell_type": "code",
   "execution_count": 20,
   "id": "05445019",
   "metadata": {},
   "outputs": [],
   "source": [
    "from sklearn.feature_extraction.text import CountVectorizer"
   ]
  },
  {
   "cell_type": "code",
   "execution_count": 21,
   "id": "fcb08c83",
   "metadata": {},
   "outputs": [
    {
     "name": "stdout",
     "output_type": "stream",
     "text": [
      "CPU times: user 312 ms, sys: 14.5 ms, total: 327 ms\n",
      "Wall time: 326 ms\n"
     ]
    },
    {
     "data": {
      "text/plain": [
       "(23482, 3)"
      ]
     },
     "execution_count": 21,
     "metadata": {},
     "output_type": "execute_result"
    }
   ],
   "source": [
    "%%time\n",
    "vectorizer = CountVectorizer(lowercase=True, preprocessor=preprocessor, tokenizer=tokenizer)\n",
    "count_matrix = vectorizer.fit_transform(df_texts['text'])\n",
    "count_array = count_matrix.toarray()\n",
    "df_count = pd.DataFrame(data=count_array,columns = vectorizer.get_feature_names_out())\n",
    "df_words_0 = pd.DataFrame(df_count[df_texts['infox']==0].sum(),columns=['count_0']).sort_values('count_0',ascending=False)\n",
    "df_words_1 = pd.DataFrame(df_count[df_texts['infox']==1].sum(),columns=['count_1']).sort_values('count_1',ascending=False)\n",
    "df_words = pd.concat([df_words_0,df_words_1],axis=1).fillna(0)\n",
    "df_words['count']=df_words['count_0']+df_words['count_1']\n",
    "df_words.shape"
   ]
  },
  {
   "cell_type": "code",
   "execution_count": 22,
   "id": "746aa347",
   "metadata": {},
   "outputs": [
    {
     "data": {
      "text/plain": [
       "(15134, 4)"
      ]
     },
     "execution_count": 22,
     "metadata": {},
     "output_type": "execute_result"
    }
   ],
   "source": [
    "occ_rare = 2\n",
    "df_words['rare']=(df_words['count_0']<=occ_rare)&(df_words['count_1']<=occ_rare)\n",
    "df_words[df_words['rare']].shape"
   ]
  },
  {
   "cell_type": "code",
   "execution_count": 23,
   "id": "9c440ffb",
   "metadata": {},
   "outputs": [
    {
     "data": {
      "text/plain": [
       "(69, 5)"
      ]
     },
     "execution_count": 23,
     "metadata": {},
     "output_type": "execute_result"
    }
   ],
   "source": [
    "common_size = 80\n",
    "common_0 = df_words.sort_values('count_0',ascending=False).head(common_size).index\n",
    "common_1 = df_words.sort_values('count_1',ascending=False).head(common_size).index\n",
    "df_words['common']=(df_words.index.isin(common_0))&(df_words.index.isin(common_1))\n",
    "df_words[df_words['common']].shape"
   ]
  },
  {
   "cell_type": "code",
   "execution_count": 24,
   "id": "25063876",
   "metadata": {},
   "outputs": [],
   "source": [
    "ignore_words = list(df_words[df_words['common']].index)+list(df_words[df_words['rare']].index)"
   ]
  },
  {
   "cell_type": "code",
   "execution_count": 25,
   "id": "f48fbb7f",
   "metadata": {},
   "outputs": [
    {
     "data": {
      "text/plain": [
       "15203"
      ]
     },
     "execution_count": 25,
     "metadata": {},
     "output_type": "execute_result"
    }
   ],
   "source": [
    "len(ignore_words)"
   ]
  },
  {
   "cell_type": "markdown",
   "id": "414fb32f",
   "metadata": {},
   "source": [
    "### TfIdfVectorizer"
   ]
  },
  {
   "cell_type": "code",
   "execution_count": 26,
   "id": "4f2e5c3b",
   "metadata": {},
   "outputs": [],
   "source": [
    "from sklearn.feature_extraction.text import TfidfVectorizer"
   ]
  },
  {
   "cell_type": "code",
   "execution_count": 27,
   "id": "9c31a944",
   "metadata": {},
   "outputs": [
    {
     "name": "stderr",
     "output_type": "stream",
     "text": [
      "/Users/fm/opt/anaconda3/lib/python3.9/site-packages/sklearn/feature_extraction/text.py:404: UserWarning: Your stop_words may be inconsistent with your preprocessing. Tokenizing the stop words generated tokens ['aboutir', 'abrutir', 'ambitieux', 'bouillir', 'coordonner', 'croire', 'décombrer', 'démoraliser', 'déplaire', 'désordonner', 'florir', 'joindre', 'matcher', 'maudire', 'menacer', 'mol', 'oxygéner', 'personnaliser', 'presser', 'précieux', 'présumer', 'recroître', 'saisir', 'satisfaire', 'subventionner', 'teindre', 'tracter', 'émerger', 'énoncer', 'équivaloir'] not in stop_words.\n",
      "  warnings.warn(\n"
     ]
    },
    {
     "name": "stdout",
     "output_type": "stream",
     "text": [
      "CPU times: user 301 ms, sys: 5.37 ms, total: 307 ms\n",
      "Wall time: 306 ms\n"
     ]
    },
    {
     "data": {
      "text/plain": [
       "8279"
      ]
     },
     "execution_count": 27,
     "metadata": {},
     "output_type": "execute_result"
    }
   ],
   "source": [
    "%%time\n",
    "vectorizer = TfidfVectorizer(lowercase=True, preprocessor=preprocessor, tokenizer=tokenizer, stop_words=ignore_words)\n",
    "#vectorizer = CountVectorizer(lowercase=True, preprocessor=preprocessor, tokenizer=tokenizer, stop_words=ignore_words)\n",
    "count_matrix = vectorizer.fit_transform(df_texts['text'])\n",
    "count_array = count_matrix.toarray()\n",
    "df_tf = pd.DataFrame(data=count_array,columns = vectorizer.get_feature_names_out())\n",
    "df_tf.shape\n",
    "\n",
    "df_X = df_tf\n",
    "\n",
    "len(df_X.keys())"
   ]
  },
  {
   "cell_type": "markdown",
   "id": "0986e9dc",
   "metadata": {},
   "source": [
    "### Approche sklearn"
   ]
  },
  {
   "cell_type": "code",
   "execution_count": 28,
   "id": "1de04b32",
   "metadata": {},
   "outputs": [],
   "source": [
    "from sklearn.linear_model import LogisticRegression\n",
    "from sklearn.neural_network import MLPClassifier\n",
    "from sklearn.model_selection import train_test_split\n",
    "from sklearn.model_selection import cross_val_score\n",
    "from sklearn import metrics"
   ]
  },
  {
   "cell_type": "code",
   "execution_count": 64,
   "id": "0e295bab",
   "metadata": {},
   "outputs": [],
   "source": [
    "X = df_X\n",
    "y=df_texts['infox']"
   ]
  },
  {
   "cell_type": "markdown",
   "id": "ec164f08",
   "metadata": {},
   "source": [
    "#### LogisticRegression"
   ]
  },
  {
   "cell_type": "code",
   "execution_count": 30,
   "id": "52493983",
   "metadata": {},
   "outputs": [
    {
     "name": "stdout",
     "output_type": "stream",
     "text": [
      "Mean CV Score : 77.58%\n",
      "[0.78021978 0.8021978  0.73626374 0.82417582 0.73626374]\n"
     ]
    }
   ],
   "source": [
    "max_iter=500\n",
    "#C=0.40\n",
    "C=30\n",
    "solver = 'lbfgs'\n",
    "random_state = 42\n",
    "classifier = LogisticRegression(C=C, random_state=random_state, solver=solver, max_iter=max_iter)\n",
    "cvm = cross_val_score(classifier, X, y, cv=5).mean()\n",
    "print(f'Mean CV Score : {cvm*100:.2f}%')\n",
    "print(cross_val_score(classifier, X, y, cv=5))"
   ]
  },
  {
   "cell_type": "markdown",
   "id": "ece468c8",
   "metadata": {},
   "source": [
    "#### MLPClassifier"
   ]
  },
  {
   "cell_type": "code",
   "execution_count": 34,
   "id": "7a890384",
   "metadata": {},
   "outputs": [],
   "source": [
    "alpha=1e-4\n",
    "hidden_layer_sizes=(192,3)\n",
    "solver = 'lbfgs'\n",
    "random_state = 42\n",
    "classifier = MLPClassifier(solver='lbfgs', alpha=alpha, hidden_layer_sizes=hidden_layer_sizes, random_state=random_state)\n"
   ]
  },
  {
   "cell_type": "code",
   "execution_count": 35,
   "id": "d024b101",
   "metadata": {},
   "outputs": [
    {
     "name": "stdout",
     "output_type": "stream",
     "text": [
      "Classifier :\tMLPClassifier(hidden_layer_sizes=(192, 3), random_state=42, solver='lbfgs')\n",
      "Accuracy :\t74.73\n",
      "Recall :\t75.00\n",
      "CPU times: user 9min 7s, sys: 56.6 s, total: 10min 3s\n",
      "Wall time: 1min 2s\n"
     ]
    }
   ],
   "source": [
    "%%time\n",
    "X_train,X_test,y_train,y_test = train_test_split(X,y,random_state=random_state,train_size=0.8)\n",
    "\n",
    "# Preprocessing of training data, fit model \n",
    "classifier.fit(X_train, y_train)\n",
    "\n",
    "# Preprocessing of validation data, get predictions\n",
    "y_pred = classifier.predict(X_test)\n",
    "\n",
    "print(f'Classifier :\\t{classifier}')\n",
    "print(f'Accuracy :\\t{metrics.accuracy_score(y_test, y_pred)*100:.2f}')\n",
    "print(f'Recall :\\t{metrics.recall_score(y_test, y_pred)*100:.2f}')"
   ]
  },
  {
   "cell_type": "code",
   "execution_count": 36,
   "id": "4763faa9",
   "metadata": {},
   "outputs": [
    {
     "ename": "KeyboardInterrupt",
     "evalue": "",
     "output_type": "error",
     "traceback": [
      "\u001b[0;31m---------------------------------------------------------------------------\u001b[0m",
      "\u001b[0;31mKeyboardInterrupt\u001b[0m                         Traceback (most recent call last)",
      "File \u001b[0;32m<timed exec>:1\u001b[0m, in \u001b[0;36m<module>\u001b[0;34m\u001b[0m\n",
      "File \u001b[0;32m~/opt/anaconda3/lib/python3.9/site-packages/sklearn/model_selection/_validation.py:515\u001b[0m, in \u001b[0;36mcross_val_score\u001b[0;34m(estimator, X, y, groups, scoring, cv, n_jobs, verbose, fit_params, pre_dispatch, error_score)\u001b[0m\n\u001b[1;32m    512\u001b[0m \u001b[38;5;66;03m# To ensure multimetric format is not supported\u001b[39;00m\n\u001b[1;32m    513\u001b[0m scorer \u001b[38;5;241m=\u001b[39m check_scoring(estimator, scoring\u001b[38;5;241m=\u001b[39mscoring)\n\u001b[0;32m--> 515\u001b[0m cv_results \u001b[38;5;241m=\u001b[39m \u001b[43mcross_validate\u001b[49m\u001b[43m(\u001b[49m\n\u001b[1;32m    516\u001b[0m \u001b[43m    \u001b[49m\u001b[43mestimator\u001b[49m\u001b[38;5;241;43m=\u001b[39;49m\u001b[43mestimator\u001b[49m\u001b[43m,\u001b[49m\n\u001b[1;32m    517\u001b[0m \u001b[43m    \u001b[49m\u001b[43mX\u001b[49m\u001b[38;5;241;43m=\u001b[39;49m\u001b[43mX\u001b[49m\u001b[43m,\u001b[49m\n\u001b[1;32m    518\u001b[0m \u001b[43m    \u001b[49m\u001b[43my\u001b[49m\u001b[38;5;241;43m=\u001b[39;49m\u001b[43my\u001b[49m\u001b[43m,\u001b[49m\n\u001b[1;32m    519\u001b[0m \u001b[43m    \u001b[49m\u001b[43mgroups\u001b[49m\u001b[38;5;241;43m=\u001b[39;49m\u001b[43mgroups\u001b[49m\u001b[43m,\u001b[49m\n\u001b[1;32m    520\u001b[0m \u001b[43m    \u001b[49m\u001b[43mscoring\u001b[49m\u001b[38;5;241;43m=\u001b[39;49m\u001b[43m{\u001b[49m\u001b[38;5;124;43m\"\u001b[39;49m\u001b[38;5;124;43mscore\u001b[39;49m\u001b[38;5;124;43m\"\u001b[39;49m\u001b[43m:\u001b[49m\u001b[43m \u001b[49m\u001b[43mscorer\u001b[49m\u001b[43m}\u001b[49m\u001b[43m,\u001b[49m\n\u001b[1;32m    521\u001b[0m \u001b[43m    \u001b[49m\u001b[43mcv\u001b[49m\u001b[38;5;241;43m=\u001b[39;49m\u001b[43mcv\u001b[49m\u001b[43m,\u001b[49m\n\u001b[1;32m    522\u001b[0m \u001b[43m    \u001b[49m\u001b[43mn_jobs\u001b[49m\u001b[38;5;241;43m=\u001b[39;49m\u001b[43mn_jobs\u001b[49m\u001b[43m,\u001b[49m\n\u001b[1;32m    523\u001b[0m \u001b[43m    \u001b[49m\u001b[43mverbose\u001b[49m\u001b[38;5;241;43m=\u001b[39;49m\u001b[43mverbose\u001b[49m\u001b[43m,\u001b[49m\n\u001b[1;32m    524\u001b[0m \u001b[43m    \u001b[49m\u001b[43mfit_params\u001b[49m\u001b[38;5;241;43m=\u001b[39;49m\u001b[43mfit_params\u001b[49m\u001b[43m,\u001b[49m\n\u001b[1;32m    525\u001b[0m \u001b[43m    \u001b[49m\u001b[43mpre_dispatch\u001b[49m\u001b[38;5;241;43m=\u001b[39;49m\u001b[43mpre_dispatch\u001b[49m\u001b[43m,\u001b[49m\n\u001b[1;32m    526\u001b[0m \u001b[43m    \u001b[49m\u001b[43merror_score\u001b[49m\u001b[38;5;241;43m=\u001b[39;49m\u001b[43merror_score\u001b[49m\u001b[43m,\u001b[49m\n\u001b[1;32m    527\u001b[0m \u001b[43m\u001b[49m\u001b[43m)\u001b[49m\n\u001b[1;32m    528\u001b[0m \u001b[38;5;28;01mreturn\u001b[39;00m cv_results[\u001b[38;5;124m\"\u001b[39m\u001b[38;5;124mtest_score\u001b[39m\u001b[38;5;124m\"\u001b[39m]\n",
      "File \u001b[0;32m~/opt/anaconda3/lib/python3.9/site-packages/sklearn/model_selection/_validation.py:266\u001b[0m, in \u001b[0;36mcross_validate\u001b[0;34m(estimator, X, y, groups, scoring, cv, n_jobs, verbose, fit_params, pre_dispatch, return_train_score, return_estimator, error_score)\u001b[0m\n\u001b[1;32m    263\u001b[0m \u001b[38;5;66;03m# We clone the estimator to make sure that all the folds are\u001b[39;00m\n\u001b[1;32m    264\u001b[0m \u001b[38;5;66;03m# independent, and that it is pickle-able.\u001b[39;00m\n\u001b[1;32m    265\u001b[0m parallel \u001b[38;5;241m=\u001b[39m Parallel(n_jobs\u001b[38;5;241m=\u001b[39mn_jobs, verbose\u001b[38;5;241m=\u001b[39mverbose, pre_dispatch\u001b[38;5;241m=\u001b[39mpre_dispatch)\n\u001b[0;32m--> 266\u001b[0m results \u001b[38;5;241m=\u001b[39m \u001b[43mparallel\u001b[49m\u001b[43m(\u001b[49m\n\u001b[1;32m    267\u001b[0m \u001b[43m    \u001b[49m\u001b[43mdelayed\u001b[49m\u001b[43m(\u001b[49m\u001b[43m_fit_and_score\u001b[49m\u001b[43m)\u001b[49m\u001b[43m(\u001b[49m\n\u001b[1;32m    268\u001b[0m \u001b[43m        \u001b[49m\u001b[43mclone\u001b[49m\u001b[43m(\u001b[49m\u001b[43mestimator\u001b[49m\u001b[43m)\u001b[49m\u001b[43m,\u001b[49m\n\u001b[1;32m    269\u001b[0m \u001b[43m        \u001b[49m\u001b[43mX\u001b[49m\u001b[43m,\u001b[49m\n\u001b[1;32m    270\u001b[0m \u001b[43m        \u001b[49m\u001b[43my\u001b[49m\u001b[43m,\u001b[49m\n\u001b[1;32m    271\u001b[0m \u001b[43m        \u001b[49m\u001b[43mscorers\u001b[49m\u001b[43m,\u001b[49m\n\u001b[1;32m    272\u001b[0m \u001b[43m        \u001b[49m\u001b[43mtrain\u001b[49m\u001b[43m,\u001b[49m\n\u001b[1;32m    273\u001b[0m \u001b[43m        \u001b[49m\u001b[43mtest\u001b[49m\u001b[43m,\u001b[49m\n\u001b[1;32m    274\u001b[0m \u001b[43m        \u001b[49m\u001b[43mverbose\u001b[49m\u001b[43m,\u001b[49m\n\u001b[1;32m    275\u001b[0m \u001b[43m        \u001b[49m\u001b[38;5;28;43;01mNone\u001b[39;49;00m\u001b[43m,\u001b[49m\n\u001b[1;32m    276\u001b[0m \u001b[43m        \u001b[49m\u001b[43mfit_params\u001b[49m\u001b[43m,\u001b[49m\n\u001b[1;32m    277\u001b[0m \u001b[43m        \u001b[49m\u001b[43mreturn_train_score\u001b[49m\u001b[38;5;241;43m=\u001b[39;49m\u001b[43mreturn_train_score\u001b[49m\u001b[43m,\u001b[49m\n\u001b[1;32m    278\u001b[0m \u001b[43m        \u001b[49m\u001b[43mreturn_times\u001b[49m\u001b[38;5;241;43m=\u001b[39;49m\u001b[38;5;28;43;01mTrue\u001b[39;49;00m\u001b[43m,\u001b[49m\n\u001b[1;32m    279\u001b[0m \u001b[43m        \u001b[49m\u001b[43mreturn_estimator\u001b[49m\u001b[38;5;241;43m=\u001b[39;49m\u001b[43mreturn_estimator\u001b[49m\u001b[43m,\u001b[49m\n\u001b[1;32m    280\u001b[0m \u001b[43m        \u001b[49m\u001b[43merror_score\u001b[49m\u001b[38;5;241;43m=\u001b[39;49m\u001b[43merror_score\u001b[49m\u001b[43m,\u001b[49m\n\u001b[1;32m    281\u001b[0m \u001b[43m    \u001b[49m\u001b[43m)\u001b[49m\n\u001b[1;32m    282\u001b[0m \u001b[43m    \u001b[49m\u001b[38;5;28;43;01mfor\u001b[39;49;00m\u001b[43m \u001b[49m\u001b[43mtrain\u001b[49m\u001b[43m,\u001b[49m\u001b[43m \u001b[49m\u001b[43mtest\u001b[49m\u001b[43m \u001b[49m\u001b[38;5;129;43;01min\u001b[39;49;00m\u001b[43m \u001b[49m\u001b[43mcv\u001b[49m\u001b[38;5;241;43m.\u001b[39;49m\u001b[43msplit\u001b[49m\u001b[43m(\u001b[49m\u001b[43mX\u001b[49m\u001b[43m,\u001b[49m\u001b[43m \u001b[49m\u001b[43my\u001b[49m\u001b[43m,\u001b[49m\u001b[43m \u001b[49m\u001b[43mgroups\u001b[49m\u001b[43m)\u001b[49m\n\u001b[1;32m    283\u001b[0m \u001b[43m\u001b[49m\u001b[43m)\u001b[49m\n\u001b[1;32m    285\u001b[0m _warn_or_raise_about_fit_failures(results, error_score)\n\u001b[1;32m    287\u001b[0m \u001b[38;5;66;03m# For callabe scoring, the return type is only know after calling. If the\u001b[39;00m\n\u001b[1;32m    288\u001b[0m \u001b[38;5;66;03m# return type is a dictionary, the error scores can now be inserted with\u001b[39;00m\n\u001b[1;32m    289\u001b[0m \u001b[38;5;66;03m# the correct key.\u001b[39;00m\n",
      "File \u001b[0;32m~/opt/anaconda3/lib/python3.9/site-packages/joblib/parallel.py:1043\u001b[0m, in \u001b[0;36mParallel.__call__\u001b[0;34m(self, iterable)\u001b[0m\n\u001b[1;32m   1034\u001b[0m \u001b[38;5;28;01mtry\u001b[39;00m:\n\u001b[1;32m   1035\u001b[0m     \u001b[38;5;66;03m# Only set self._iterating to True if at least a batch\u001b[39;00m\n\u001b[1;32m   1036\u001b[0m     \u001b[38;5;66;03m# was dispatched. In particular this covers the edge\u001b[39;00m\n\u001b[0;32m   (...)\u001b[0m\n\u001b[1;32m   1040\u001b[0m     \u001b[38;5;66;03m# was very quick and its callback already dispatched all the\u001b[39;00m\n\u001b[1;32m   1041\u001b[0m     \u001b[38;5;66;03m# remaining jobs.\u001b[39;00m\n\u001b[1;32m   1042\u001b[0m     \u001b[38;5;28mself\u001b[39m\u001b[38;5;241m.\u001b[39m_iterating \u001b[38;5;241m=\u001b[39m \u001b[38;5;28;01mFalse\u001b[39;00m\n\u001b[0;32m-> 1043\u001b[0m     \u001b[38;5;28;01mif\u001b[39;00m \u001b[38;5;28;43mself\u001b[39;49m\u001b[38;5;241;43m.\u001b[39;49m\u001b[43mdispatch_one_batch\u001b[49m\u001b[43m(\u001b[49m\u001b[43miterator\u001b[49m\u001b[43m)\u001b[49m:\n\u001b[1;32m   1044\u001b[0m         \u001b[38;5;28mself\u001b[39m\u001b[38;5;241m.\u001b[39m_iterating \u001b[38;5;241m=\u001b[39m \u001b[38;5;28mself\u001b[39m\u001b[38;5;241m.\u001b[39m_original_iterator \u001b[38;5;129;01mis\u001b[39;00m \u001b[38;5;129;01mnot\u001b[39;00m \u001b[38;5;28;01mNone\u001b[39;00m\n\u001b[1;32m   1046\u001b[0m     \u001b[38;5;28;01mwhile\u001b[39;00m \u001b[38;5;28mself\u001b[39m\u001b[38;5;241m.\u001b[39mdispatch_one_batch(iterator):\n",
      "File \u001b[0;32m~/opt/anaconda3/lib/python3.9/site-packages/joblib/parallel.py:861\u001b[0m, in \u001b[0;36mParallel.dispatch_one_batch\u001b[0;34m(self, iterator)\u001b[0m\n\u001b[1;32m    859\u001b[0m     \u001b[38;5;28;01mreturn\u001b[39;00m \u001b[38;5;28;01mFalse\u001b[39;00m\n\u001b[1;32m    860\u001b[0m \u001b[38;5;28;01melse\u001b[39;00m:\n\u001b[0;32m--> 861\u001b[0m     \u001b[38;5;28;43mself\u001b[39;49m\u001b[38;5;241;43m.\u001b[39;49m\u001b[43m_dispatch\u001b[49m\u001b[43m(\u001b[49m\u001b[43mtasks\u001b[49m\u001b[43m)\u001b[49m\n\u001b[1;32m    862\u001b[0m     \u001b[38;5;28;01mreturn\u001b[39;00m \u001b[38;5;28;01mTrue\u001b[39;00m\n",
      "File \u001b[0;32m~/opt/anaconda3/lib/python3.9/site-packages/joblib/parallel.py:779\u001b[0m, in \u001b[0;36mParallel._dispatch\u001b[0;34m(self, batch)\u001b[0m\n\u001b[1;32m    777\u001b[0m \u001b[38;5;28;01mwith\u001b[39;00m \u001b[38;5;28mself\u001b[39m\u001b[38;5;241m.\u001b[39m_lock:\n\u001b[1;32m    778\u001b[0m     job_idx \u001b[38;5;241m=\u001b[39m \u001b[38;5;28mlen\u001b[39m(\u001b[38;5;28mself\u001b[39m\u001b[38;5;241m.\u001b[39m_jobs)\n\u001b[0;32m--> 779\u001b[0m     job \u001b[38;5;241m=\u001b[39m \u001b[38;5;28;43mself\u001b[39;49m\u001b[38;5;241;43m.\u001b[39;49m\u001b[43m_backend\u001b[49m\u001b[38;5;241;43m.\u001b[39;49m\u001b[43mapply_async\u001b[49m\u001b[43m(\u001b[49m\u001b[43mbatch\u001b[49m\u001b[43m,\u001b[49m\u001b[43m \u001b[49m\u001b[43mcallback\u001b[49m\u001b[38;5;241;43m=\u001b[39;49m\u001b[43mcb\u001b[49m\u001b[43m)\u001b[49m\n\u001b[1;32m    780\u001b[0m     \u001b[38;5;66;03m# A job can complete so quickly than its callback is\u001b[39;00m\n\u001b[1;32m    781\u001b[0m     \u001b[38;5;66;03m# called before we get here, causing self._jobs to\u001b[39;00m\n\u001b[1;32m    782\u001b[0m     \u001b[38;5;66;03m# grow. To ensure correct results ordering, .insert is\u001b[39;00m\n\u001b[1;32m    783\u001b[0m     \u001b[38;5;66;03m# used (rather than .append) in the following line\u001b[39;00m\n\u001b[1;32m    784\u001b[0m     \u001b[38;5;28mself\u001b[39m\u001b[38;5;241m.\u001b[39m_jobs\u001b[38;5;241m.\u001b[39minsert(job_idx, job)\n",
      "File \u001b[0;32m~/opt/anaconda3/lib/python3.9/site-packages/joblib/_parallel_backends.py:208\u001b[0m, in \u001b[0;36mSequentialBackend.apply_async\u001b[0;34m(self, func, callback)\u001b[0m\n\u001b[1;32m    206\u001b[0m \u001b[38;5;28;01mdef\u001b[39;00m \u001b[38;5;21mapply_async\u001b[39m(\u001b[38;5;28mself\u001b[39m, func, callback\u001b[38;5;241m=\u001b[39m\u001b[38;5;28;01mNone\u001b[39;00m):\n\u001b[1;32m    207\u001b[0m     \u001b[38;5;124;03m\"\"\"Schedule a func to be run\"\"\"\u001b[39;00m\n\u001b[0;32m--> 208\u001b[0m     result \u001b[38;5;241m=\u001b[39m \u001b[43mImmediateResult\u001b[49m\u001b[43m(\u001b[49m\u001b[43mfunc\u001b[49m\u001b[43m)\u001b[49m\n\u001b[1;32m    209\u001b[0m     \u001b[38;5;28;01mif\u001b[39;00m callback:\n\u001b[1;32m    210\u001b[0m         callback(result)\n",
      "File \u001b[0;32m~/opt/anaconda3/lib/python3.9/site-packages/joblib/_parallel_backends.py:572\u001b[0m, in \u001b[0;36mImmediateResult.__init__\u001b[0;34m(self, batch)\u001b[0m\n\u001b[1;32m    569\u001b[0m \u001b[38;5;28;01mdef\u001b[39;00m \u001b[38;5;21m__init__\u001b[39m(\u001b[38;5;28mself\u001b[39m, batch):\n\u001b[1;32m    570\u001b[0m     \u001b[38;5;66;03m# Don't delay the application, to avoid keeping the input\u001b[39;00m\n\u001b[1;32m    571\u001b[0m     \u001b[38;5;66;03m# arguments in memory\u001b[39;00m\n\u001b[0;32m--> 572\u001b[0m     \u001b[38;5;28mself\u001b[39m\u001b[38;5;241m.\u001b[39mresults \u001b[38;5;241m=\u001b[39m \u001b[43mbatch\u001b[49m\u001b[43m(\u001b[49m\u001b[43m)\u001b[49m\n",
      "File \u001b[0;32m~/opt/anaconda3/lib/python3.9/site-packages/joblib/parallel.py:262\u001b[0m, in \u001b[0;36mBatchedCalls.__call__\u001b[0;34m(self)\u001b[0m\n\u001b[1;32m    258\u001b[0m \u001b[38;5;28;01mdef\u001b[39;00m \u001b[38;5;21m__call__\u001b[39m(\u001b[38;5;28mself\u001b[39m):\n\u001b[1;32m    259\u001b[0m     \u001b[38;5;66;03m# Set the default nested backend to self._backend but do not set the\u001b[39;00m\n\u001b[1;32m    260\u001b[0m     \u001b[38;5;66;03m# change the default number of processes to -1\u001b[39;00m\n\u001b[1;32m    261\u001b[0m     \u001b[38;5;28;01mwith\u001b[39;00m parallel_backend(\u001b[38;5;28mself\u001b[39m\u001b[38;5;241m.\u001b[39m_backend, n_jobs\u001b[38;5;241m=\u001b[39m\u001b[38;5;28mself\u001b[39m\u001b[38;5;241m.\u001b[39m_n_jobs):\n\u001b[0;32m--> 262\u001b[0m         \u001b[38;5;28;01mreturn\u001b[39;00m [func(\u001b[38;5;241m*\u001b[39margs, \u001b[38;5;241m*\u001b[39m\u001b[38;5;241m*\u001b[39mkwargs)\n\u001b[1;32m    263\u001b[0m                 \u001b[38;5;28;01mfor\u001b[39;00m func, args, kwargs \u001b[38;5;129;01min\u001b[39;00m \u001b[38;5;28mself\u001b[39m\u001b[38;5;241m.\u001b[39mitems]\n",
      "File \u001b[0;32m~/opt/anaconda3/lib/python3.9/site-packages/joblib/parallel.py:262\u001b[0m, in \u001b[0;36m<listcomp>\u001b[0;34m(.0)\u001b[0m\n\u001b[1;32m    258\u001b[0m \u001b[38;5;28;01mdef\u001b[39;00m \u001b[38;5;21m__call__\u001b[39m(\u001b[38;5;28mself\u001b[39m):\n\u001b[1;32m    259\u001b[0m     \u001b[38;5;66;03m# Set the default nested backend to self._backend but do not set the\u001b[39;00m\n\u001b[1;32m    260\u001b[0m     \u001b[38;5;66;03m# change the default number of processes to -1\u001b[39;00m\n\u001b[1;32m    261\u001b[0m     \u001b[38;5;28;01mwith\u001b[39;00m parallel_backend(\u001b[38;5;28mself\u001b[39m\u001b[38;5;241m.\u001b[39m_backend, n_jobs\u001b[38;5;241m=\u001b[39m\u001b[38;5;28mself\u001b[39m\u001b[38;5;241m.\u001b[39m_n_jobs):\n\u001b[0;32m--> 262\u001b[0m         \u001b[38;5;28;01mreturn\u001b[39;00m [\u001b[43mfunc\u001b[49m\u001b[43m(\u001b[49m\u001b[38;5;241;43m*\u001b[39;49m\u001b[43margs\u001b[49m\u001b[43m,\u001b[49m\u001b[43m \u001b[49m\u001b[38;5;241;43m*\u001b[39;49m\u001b[38;5;241;43m*\u001b[39;49m\u001b[43mkwargs\u001b[49m\u001b[43m)\u001b[49m\n\u001b[1;32m    263\u001b[0m                 \u001b[38;5;28;01mfor\u001b[39;00m func, args, kwargs \u001b[38;5;129;01min\u001b[39;00m \u001b[38;5;28mself\u001b[39m\u001b[38;5;241m.\u001b[39mitems]\n",
      "File \u001b[0;32m~/opt/anaconda3/lib/python3.9/site-packages/sklearn/utils/fixes.py:117\u001b[0m, in \u001b[0;36m_FuncWrapper.__call__\u001b[0;34m(self, *args, **kwargs)\u001b[0m\n\u001b[1;32m    115\u001b[0m \u001b[38;5;28;01mdef\u001b[39;00m \u001b[38;5;21m__call__\u001b[39m(\u001b[38;5;28mself\u001b[39m, \u001b[38;5;241m*\u001b[39margs, \u001b[38;5;241m*\u001b[39m\u001b[38;5;241m*\u001b[39mkwargs):\n\u001b[1;32m    116\u001b[0m     \u001b[38;5;28;01mwith\u001b[39;00m config_context(\u001b[38;5;241m*\u001b[39m\u001b[38;5;241m*\u001b[39m\u001b[38;5;28mself\u001b[39m\u001b[38;5;241m.\u001b[39mconfig):\n\u001b[0;32m--> 117\u001b[0m         \u001b[38;5;28;01mreturn\u001b[39;00m \u001b[38;5;28;43mself\u001b[39;49m\u001b[38;5;241;43m.\u001b[39;49m\u001b[43mfunction\u001b[49m\u001b[43m(\u001b[49m\u001b[38;5;241;43m*\u001b[39;49m\u001b[43margs\u001b[49m\u001b[43m,\u001b[49m\u001b[43m \u001b[49m\u001b[38;5;241;43m*\u001b[39;49m\u001b[38;5;241;43m*\u001b[39;49m\u001b[43mkwargs\u001b[49m\u001b[43m)\u001b[49m\n",
      "File \u001b[0;32m~/opt/anaconda3/lib/python3.9/site-packages/sklearn/model_selection/_validation.py:686\u001b[0m, in \u001b[0;36m_fit_and_score\u001b[0;34m(estimator, X, y, scorer, train, test, verbose, parameters, fit_params, return_train_score, return_parameters, return_n_test_samples, return_times, return_estimator, split_progress, candidate_progress, error_score)\u001b[0m\n\u001b[1;32m    684\u001b[0m         estimator\u001b[38;5;241m.\u001b[39mfit(X_train, \u001b[38;5;241m*\u001b[39m\u001b[38;5;241m*\u001b[39mfit_params)\n\u001b[1;32m    685\u001b[0m     \u001b[38;5;28;01melse\u001b[39;00m:\n\u001b[0;32m--> 686\u001b[0m         \u001b[43mestimator\u001b[49m\u001b[38;5;241;43m.\u001b[39;49m\u001b[43mfit\u001b[49m\u001b[43m(\u001b[49m\u001b[43mX_train\u001b[49m\u001b[43m,\u001b[49m\u001b[43m \u001b[49m\u001b[43my_train\u001b[49m\u001b[43m,\u001b[49m\u001b[43m \u001b[49m\u001b[38;5;241;43m*\u001b[39;49m\u001b[38;5;241;43m*\u001b[39;49m\u001b[43mfit_params\u001b[49m\u001b[43m)\u001b[49m\n\u001b[1;32m    688\u001b[0m \u001b[38;5;28;01mexcept\u001b[39;00m \u001b[38;5;167;01mException\u001b[39;00m:\n\u001b[1;32m    689\u001b[0m     \u001b[38;5;66;03m# Note fit time as time until error\u001b[39;00m\n\u001b[1;32m    690\u001b[0m     fit_time \u001b[38;5;241m=\u001b[39m time\u001b[38;5;241m.\u001b[39mtime() \u001b[38;5;241m-\u001b[39m start_time\n",
      "File \u001b[0;32m~/opt/anaconda3/lib/python3.9/site-packages/sklearn/neural_network/_multilayer_perceptron.py:762\u001b[0m, in \u001b[0;36mBaseMultilayerPerceptron.fit\u001b[0;34m(self, X, y)\u001b[0m\n\u001b[1;32m    745\u001b[0m \u001b[38;5;28;01mdef\u001b[39;00m \u001b[38;5;21mfit\u001b[39m(\u001b[38;5;28mself\u001b[39m, X, y):\n\u001b[1;32m    746\u001b[0m     \u001b[38;5;124;03m\"\"\"Fit the model to data matrix X and target(s) y.\u001b[39;00m\n\u001b[1;32m    747\u001b[0m \n\u001b[1;32m    748\u001b[0m \u001b[38;5;124;03m    Parameters\u001b[39;00m\n\u001b[0;32m   (...)\u001b[0m\n\u001b[1;32m    760\u001b[0m \u001b[38;5;124;03m        Returns a trained MLP model.\u001b[39;00m\n\u001b[1;32m    761\u001b[0m \u001b[38;5;124;03m    \"\"\"\u001b[39;00m\n\u001b[0;32m--> 762\u001b[0m     \u001b[38;5;28;01mreturn\u001b[39;00m \u001b[38;5;28;43mself\u001b[39;49m\u001b[38;5;241;43m.\u001b[39;49m\u001b[43m_fit\u001b[49m\u001b[43m(\u001b[49m\u001b[43mX\u001b[49m\u001b[43m,\u001b[49m\u001b[43m \u001b[49m\u001b[43my\u001b[49m\u001b[43m,\u001b[49m\u001b[43m \u001b[49m\u001b[43mincremental\u001b[49m\u001b[38;5;241;43m=\u001b[39;49m\u001b[38;5;28;43;01mFalse\u001b[39;49;00m\u001b[43m)\u001b[49m\n",
      "File \u001b[0;32m~/opt/anaconda3/lib/python3.9/site-packages/sklearn/neural_network/_multilayer_perceptron.py:441\u001b[0m, in \u001b[0;36mBaseMultilayerPerceptron._fit\u001b[0;34m(self, X, y, incremental)\u001b[0m\n\u001b[1;32m    439\u001b[0m \u001b[38;5;66;03m# Run the LBFGS solver\u001b[39;00m\n\u001b[1;32m    440\u001b[0m \u001b[38;5;28;01melif\u001b[39;00m \u001b[38;5;28mself\u001b[39m\u001b[38;5;241m.\u001b[39msolver \u001b[38;5;241m==\u001b[39m \u001b[38;5;124m\"\u001b[39m\u001b[38;5;124mlbfgs\u001b[39m\u001b[38;5;124m\"\u001b[39m:\n\u001b[0;32m--> 441\u001b[0m     \u001b[38;5;28;43mself\u001b[39;49m\u001b[38;5;241;43m.\u001b[39;49m\u001b[43m_fit_lbfgs\u001b[49m\u001b[43m(\u001b[49m\n\u001b[1;32m    442\u001b[0m \u001b[43m        \u001b[49m\u001b[43mX\u001b[49m\u001b[43m,\u001b[49m\u001b[43m \u001b[49m\u001b[43my\u001b[49m\u001b[43m,\u001b[49m\u001b[43m \u001b[49m\u001b[43mactivations\u001b[49m\u001b[43m,\u001b[49m\u001b[43m \u001b[49m\u001b[43mdeltas\u001b[49m\u001b[43m,\u001b[49m\u001b[43m \u001b[49m\u001b[43mcoef_grads\u001b[49m\u001b[43m,\u001b[49m\u001b[43m \u001b[49m\u001b[43mintercept_grads\u001b[49m\u001b[43m,\u001b[49m\u001b[43m \u001b[49m\u001b[43mlayer_units\u001b[49m\n\u001b[1;32m    443\u001b[0m \u001b[43m    \u001b[49m\u001b[43m)\u001b[49m\n\u001b[1;32m    445\u001b[0m \u001b[38;5;66;03m# validate parameter weights\u001b[39;00m\n\u001b[1;32m    446\u001b[0m weights \u001b[38;5;241m=\u001b[39m chain(\u001b[38;5;28mself\u001b[39m\u001b[38;5;241m.\u001b[39mcoefs_, \u001b[38;5;28mself\u001b[39m\u001b[38;5;241m.\u001b[39mintercepts_)\n",
      "File \u001b[0;32m~/opt/anaconda3/lib/python3.9/site-packages/sklearn/neural_network/_multilayer_perceptron.py:546\u001b[0m, in \u001b[0;36mBaseMultilayerPerceptron._fit_lbfgs\u001b[0;34m(self, X, y, activations, deltas, coef_grads, intercept_grads, layer_units)\u001b[0m\n\u001b[1;32m    543\u001b[0m \u001b[38;5;28;01melse\u001b[39;00m:\n\u001b[1;32m    544\u001b[0m     iprint \u001b[38;5;241m=\u001b[39m \u001b[38;5;241m-\u001b[39m\u001b[38;5;241m1\u001b[39m\n\u001b[0;32m--> 546\u001b[0m opt_res \u001b[38;5;241m=\u001b[39m \u001b[43mscipy\u001b[49m\u001b[38;5;241;43m.\u001b[39;49m\u001b[43moptimize\u001b[49m\u001b[38;5;241;43m.\u001b[39;49m\u001b[43mminimize\u001b[49m\u001b[43m(\u001b[49m\n\u001b[1;32m    547\u001b[0m \u001b[43m    \u001b[49m\u001b[38;5;28;43mself\u001b[39;49m\u001b[38;5;241;43m.\u001b[39;49m\u001b[43m_loss_grad_lbfgs\u001b[49m\u001b[43m,\u001b[49m\n\u001b[1;32m    548\u001b[0m \u001b[43m    \u001b[49m\u001b[43mpacked_coef_inter\u001b[49m\u001b[43m,\u001b[49m\n\u001b[1;32m    549\u001b[0m \u001b[43m    \u001b[49m\u001b[43mmethod\u001b[49m\u001b[38;5;241;43m=\u001b[39;49m\u001b[38;5;124;43m\"\u001b[39;49m\u001b[38;5;124;43mL-BFGS-B\u001b[39;49m\u001b[38;5;124;43m\"\u001b[39;49m\u001b[43m,\u001b[49m\n\u001b[1;32m    550\u001b[0m \u001b[43m    \u001b[49m\u001b[43mjac\u001b[49m\u001b[38;5;241;43m=\u001b[39;49m\u001b[38;5;28;43;01mTrue\u001b[39;49;00m\u001b[43m,\u001b[49m\n\u001b[1;32m    551\u001b[0m \u001b[43m    \u001b[49m\u001b[43moptions\u001b[49m\u001b[38;5;241;43m=\u001b[39;49m\u001b[43m{\u001b[49m\n\u001b[1;32m    552\u001b[0m \u001b[43m        \u001b[49m\u001b[38;5;124;43m\"\u001b[39;49m\u001b[38;5;124;43mmaxfun\u001b[39;49m\u001b[38;5;124;43m\"\u001b[39;49m\u001b[43m:\u001b[49m\u001b[43m \u001b[49m\u001b[38;5;28;43mself\u001b[39;49m\u001b[38;5;241;43m.\u001b[39;49m\u001b[43mmax_fun\u001b[49m\u001b[43m,\u001b[49m\n\u001b[1;32m    553\u001b[0m \u001b[43m        \u001b[49m\u001b[38;5;124;43m\"\u001b[39;49m\u001b[38;5;124;43mmaxiter\u001b[39;49m\u001b[38;5;124;43m\"\u001b[39;49m\u001b[43m:\u001b[49m\u001b[43m \u001b[49m\u001b[38;5;28;43mself\u001b[39;49m\u001b[38;5;241;43m.\u001b[39;49m\u001b[43mmax_iter\u001b[49m\u001b[43m,\u001b[49m\n\u001b[1;32m    554\u001b[0m \u001b[43m        \u001b[49m\u001b[38;5;124;43m\"\u001b[39;49m\u001b[38;5;124;43miprint\u001b[39;49m\u001b[38;5;124;43m\"\u001b[39;49m\u001b[43m:\u001b[49m\u001b[43m \u001b[49m\u001b[43miprint\u001b[49m\u001b[43m,\u001b[49m\n\u001b[1;32m    555\u001b[0m \u001b[43m        \u001b[49m\u001b[38;5;124;43m\"\u001b[39;49m\u001b[38;5;124;43mgtol\u001b[39;49m\u001b[38;5;124;43m\"\u001b[39;49m\u001b[43m:\u001b[49m\u001b[43m \u001b[49m\u001b[38;5;28;43mself\u001b[39;49m\u001b[38;5;241;43m.\u001b[39;49m\u001b[43mtol\u001b[49m\u001b[43m,\u001b[49m\n\u001b[1;32m    556\u001b[0m \u001b[43m    \u001b[49m\u001b[43m}\u001b[49m\u001b[43m,\u001b[49m\n\u001b[1;32m    557\u001b[0m \u001b[43m    \u001b[49m\u001b[43margs\u001b[49m\u001b[38;5;241;43m=\u001b[39;49m\u001b[43m(\u001b[49m\u001b[43mX\u001b[49m\u001b[43m,\u001b[49m\u001b[43m \u001b[49m\u001b[43my\u001b[49m\u001b[43m,\u001b[49m\u001b[43m \u001b[49m\u001b[43mactivations\u001b[49m\u001b[43m,\u001b[49m\u001b[43m \u001b[49m\u001b[43mdeltas\u001b[49m\u001b[43m,\u001b[49m\u001b[43m \u001b[49m\u001b[43mcoef_grads\u001b[49m\u001b[43m,\u001b[49m\u001b[43m \u001b[49m\u001b[43mintercept_grads\u001b[49m\u001b[43m)\u001b[49m\u001b[43m,\u001b[49m\n\u001b[1;32m    558\u001b[0m \u001b[43m\u001b[49m\u001b[43m)\u001b[49m\n\u001b[1;32m    559\u001b[0m \u001b[38;5;28mself\u001b[39m\u001b[38;5;241m.\u001b[39mn_iter_ \u001b[38;5;241m=\u001b[39m _check_optimize_result(\u001b[38;5;124m\"\u001b[39m\u001b[38;5;124mlbfgs\u001b[39m\u001b[38;5;124m\"\u001b[39m, opt_res, \u001b[38;5;28mself\u001b[39m\u001b[38;5;241m.\u001b[39mmax_iter)\n\u001b[1;32m    560\u001b[0m \u001b[38;5;28mself\u001b[39m\u001b[38;5;241m.\u001b[39mloss_ \u001b[38;5;241m=\u001b[39m opt_res\u001b[38;5;241m.\u001b[39mfun\n",
      "File \u001b[0;32m~/opt/anaconda3/lib/python3.9/site-packages/scipy/optimize/_minimize.py:699\u001b[0m, in \u001b[0;36mminimize\u001b[0;34m(fun, x0, args, method, jac, hess, hessp, bounds, constraints, tol, callback, options)\u001b[0m\n\u001b[1;32m    696\u001b[0m     res \u001b[38;5;241m=\u001b[39m _minimize_newtoncg(fun, x0, args, jac, hess, hessp, callback,\n\u001b[1;32m    697\u001b[0m                              \u001b[38;5;241m*\u001b[39m\u001b[38;5;241m*\u001b[39moptions)\n\u001b[1;32m    698\u001b[0m \u001b[38;5;28;01melif\u001b[39;00m meth \u001b[38;5;241m==\u001b[39m \u001b[38;5;124m'\u001b[39m\u001b[38;5;124ml-bfgs-b\u001b[39m\u001b[38;5;124m'\u001b[39m:\n\u001b[0;32m--> 699\u001b[0m     res \u001b[38;5;241m=\u001b[39m \u001b[43m_minimize_lbfgsb\u001b[49m\u001b[43m(\u001b[49m\u001b[43mfun\u001b[49m\u001b[43m,\u001b[49m\u001b[43m \u001b[49m\u001b[43mx0\u001b[49m\u001b[43m,\u001b[49m\u001b[43m \u001b[49m\u001b[43margs\u001b[49m\u001b[43m,\u001b[49m\u001b[43m \u001b[49m\u001b[43mjac\u001b[49m\u001b[43m,\u001b[49m\u001b[43m \u001b[49m\u001b[43mbounds\u001b[49m\u001b[43m,\u001b[49m\n\u001b[1;32m    700\u001b[0m \u001b[43m                           \u001b[49m\u001b[43mcallback\u001b[49m\u001b[38;5;241;43m=\u001b[39;49m\u001b[43mcallback\u001b[49m\u001b[43m,\u001b[49m\u001b[43m \u001b[49m\u001b[38;5;241;43m*\u001b[39;49m\u001b[38;5;241;43m*\u001b[39;49m\u001b[43moptions\u001b[49m\u001b[43m)\u001b[49m\n\u001b[1;32m    701\u001b[0m \u001b[38;5;28;01melif\u001b[39;00m meth \u001b[38;5;241m==\u001b[39m \u001b[38;5;124m'\u001b[39m\u001b[38;5;124mtnc\u001b[39m\u001b[38;5;124m'\u001b[39m:\n\u001b[1;32m    702\u001b[0m     res \u001b[38;5;241m=\u001b[39m _minimize_tnc(fun, x0, args, jac, bounds, callback\u001b[38;5;241m=\u001b[39mcallback,\n\u001b[1;32m    703\u001b[0m                         \u001b[38;5;241m*\u001b[39m\u001b[38;5;241m*\u001b[39moptions)\n",
      "File \u001b[0;32m~/opt/anaconda3/lib/python3.9/site-packages/scipy/optimize/_lbfgsb_py.py:353\u001b[0m, in \u001b[0;36m_minimize_lbfgsb\u001b[0;34m(fun, x0, args, jac, bounds, disp, maxcor, ftol, gtol, eps, maxfun, maxiter, iprint, callback, maxls, finite_diff_rel_step, **unknown_options)\u001b[0m\n\u001b[1;32m    349\u001b[0m n_iterations \u001b[38;5;241m=\u001b[39m \u001b[38;5;241m0\u001b[39m\n\u001b[1;32m    351\u001b[0m \u001b[38;5;28;01mwhile\u001b[39;00m \u001b[38;5;241m1\u001b[39m:\n\u001b[1;32m    352\u001b[0m     \u001b[38;5;66;03m# x, f, g, wa, iwa, task, csave, lsave, isave, dsave = \\\u001b[39;00m\n\u001b[0;32m--> 353\u001b[0m     \u001b[43m_lbfgsb\u001b[49m\u001b[38;5;241;43m.\u001b[39;49m\u001b[43msetulb\u001b[49m\u001b[43m(\u001b[49m\u001b[43mm\u001b[49m\u001b[43m,\u001b[49m\u001b[43m \u001b[49m\u001b[43mx\u001b[49m\u001b[43m,\u001b[49m\u001b[43m \u001b[49m\u001b[43mlow_bnd\u001b[49m\u001b[43m,\u001b[49m\u001b[43m \u001b[49m\u001b[43mupper_bnd\u001b[49m\u001b[43m,\u001b[49m\u001b[43m \u001b[49m\u001b[43mnbd\u001b[49m\u001b[43m,\u001b[49m\u001b[43m \u001b[49m\u001b[43mf\u001b[49m\u001b[43m,\u001b[49m\u001b[43m \u001b[49m\u001b[43mg\u001b[49m\u001b[43m,\u001b[49m\u001b[43m \u001b[49m\u001b[43mfactr\u001b[49m\u001b[43m,\u001b[49m\n\u001b[1;32m    354\u001b[0m \u001b[43m                   \u001b[49m\u001b[43mpgtol\u001b[49m\u001b[43m,\u001b[49m\u001b[43m \u001b[49m\u001b[43mwa\u001b[49m\u001b[43m,\u001b[49m\u001b[43m \u001b[49m\u001b[43miwa\u001b[49m\u001b[43m,\u001b[49m\u001b[43m \u001b[49m\u001b[43mtask\u001b[49m\u001b[43m,\u001b[49m\u001b[43m \u001b[49m\u001b[43miprint\u001b[49m\u001b[43m,\u001b[49m\u001b[43m \u001b[49m\u001b[43mcsave\u001b[49m\u001b[43m,\u001b[49m\u001b[43m \u001b[49m\u001b[43mlsave\u001b[49m\u001b[43m,\u001b[49m\n\u001b[1;32m    355\u001b[0m \u001b[43m                   \u001b[49m\u001b[43misave\u001b[49m\u001b[43m,\u001b[49m\u001b[43m \u001b[49m\u001b[43mdsave\u001b[49m\u001b[43m,\u001b[49m\u001b[43m \u001b[49m\u001b[43mmaxls\u001b[49m\u001b[43m)\u001b[49m\n\u001b[1;32m    356\u001b[0m     task_str \u001b[38;5;241m=\u001b[39m task\u001b[38;5;241m.\u001b[39mtobytes()\n\u001b[1;32m    357\u001b[0m     \u001b[38;5;28;01mif\u001b[39;00m task_str\u001b[38;5;241m.\u001b[39mstartswith(\u001b[38;5;124mb\u001b[39m\u001b[38;5;124m'\u001b[39m\u001b[38;5;124mFG\u001b[39m\u001b[38;5;124m'\u001b[39m):\n\u001b[1;32m    358\u001b[0m         \u001b[38;5;66;03m# The minimization routine wants f and g at the current x.\u001b[39;00m\n\u001b[1;32m    359\u001b[0m         \u001b[38;5;66;03m# Note that interruptions due to maxfun are postponed\u001b[39;00m\n\u001b[1;32m    360\u001b[0m         \u001b[38;5;66;03m# until the completion of the current minimization iteration.\u001b[39;00m\n\u001b[1;32m    361\u001b[0m         \u001b[38;5;66;03m# Overwrite f and g:\u001b[39;00m\n",
      "\u001b[0;31mKeyboardInterrupt\u001b[0m: "
     ]
    }
   ],
   "source": [
    "%%time\n",
    "cvm = cross_val_score(classifier, X, y, cv=5).mean()\n",
    "print(f'Mean CV Score : {cvm*100:.2f}%')\n",
    "print(cross_val_score(classifier, X, y, cv=5))"
   ]
  },
  {
   "cell_type": "markdown",
   "id": "2eb57ac2",
   "metadata": {},
   "source": [
    "### Keras"
   ]
  },
  {
   "cell_type": "markdown",
   "id": "e8ee59e3",
   "metadata": {},
   "source": [
    "#### Préliminaires"
   ]
  },
  {
   "cell_type": "code",
   "execution_count": 49,
   "id": "549f8c7e",
   "metadata": {},
   "outputs": [],
   "source": [
    "from sklearn.preprocessing import LabelEncoder"
   ]
  },
  {
   "cell_type": "code",
   "execution_count": 65,
   "id": "289d84cb",
   "metadata": {},
   "outputs": [],
   "source": [
    "import numpy as np\n",
    "X = np.asarray(X)\n",
    "y = np.asarray(y)"
   ]
  },
  {
   "cell_type": "code",
   "execution_count": 67,
   "id": "e722445e",
   "metadata": {},
   "outputs": [
    {
     "data": {
      "text/plain": [
       "array([[0., 0., 0., ..., 0., 0., 0.],\n",
       "       [0., 0., 0., ..., 0., 0., 0.],\n",
       "       [0., 0., 0., ..., 0., 0., 0.],\n",
       "       ...,\n",
       "       [0., 0., 0., ..., 0., 0., 0.],\n",
       "       [0., 0., 0., ..., 0., 0., 0.],\n",
       "       [0., 0., 0., ..., 0., 0., 0.]])"
      ]
     },
     "execution_count": 67,
     "metadata": {},
     "output_type": "execute_result"
    }
   ],
   "source": [
    "X"
   ]
  },
  {
   "cell_type": "code",
   "execution_count": 178,
   "id": "eecb355d",
   "metadata": {},
   "outputs": [],
   "source": [
    "X_train,X_test,y_train,y_test = train_test_split(X,y,random_state=42,train_size=0.8)"
   ]
  },
  {
   "cell_type": "code",
   "execution_count": 192,
   "id": "adffcbce",
   "metadata": {},
   "outputs": [],
   "source": [
    "from tensorflow import keras\n",
    "from tensorflow.keras import layers\n",
    "\n",
    "model = keras.Sequential([\n",
    "#    layers.BatchNormalization(input_shape=[X_train.shape[1]]),\n",
    "    layers.Dense(512, activation='relu',input_shape=[X_train.shape[1]]),\n",
    "#    layers.BatchNormalization(),\n",
    "    layers.Dropout(0.1),\n",
    "    layers.Dense(4, activation='relu'), \n",
    "#    layers.BatchNormalization(),\n",
    "    layers.Dropout(0.1),\n",
    "    layers.Dense(1, activation='sigmoid'),\n",
    "])"
   ]
  },
  {
   "cell_type": "code",
   "execution_count": 193,
   "id": "21888e21",
   "metadata": {},
   "outputs": [],
   "source": [
    "model.compile(\n",
    "    optimizer='adam',\n",
    "    loss='binary_crossentropy',\n",
    "    metrics=['binary_accuracy'],\n",
    ")"
   ]
  },
  {
   "cell_type": "code",
   "execution_count": 194,
   "id": "4f28f0f9",
   "metadata": {},
   "outputs": [
    {
     "data": {
      "text/plain": [
       "array([[0.        , 0.        , 0.        , ..., 0.        , 0.        ,\n",
       "        0.        ],\n",
       "       [0.        , 0.        , 0.        , ..., 0.        , 0.        ,\n",
       "        0.        ],\n",
       "       [0.        , 0.        , 0.        , ..., 0.        , 0.        ,\n",
       "        0.        ],\n",
       "       ...,\n",
       "       [0.        , 0.        , 0.        , ..., 0.        , 0.        ,\n",
       "        0.        ],\n",
       "       [0.        , 0.        , 0.        , ..., 0.        , 0.01923596,\n",
       "        0.        ],\n",
       "       [0.        , 0.        , 0.        , ..., 0.        , 0.        ,\n",
       "        0.        ]])"
      ]
     },
     "execution_count": 194,
     "metadata": {},
     "output_type": "execute_result"
    }
   ],
   "source": [
    "X_train"
   ]
  },
  {
   "cell_type": "code",
   "execution_count": 195,
   "id": "0f99db69",
   "metadata": {},
   "outputs": [
    {
     "name": "stdout",
     "output_type": "stream",
     "text": [
      "Epoch 1/15\n"
     ]
    },
    {
     "name": "stderr",
     "output_type": "stream",
     "text": [
      "2022-11-10 23:56:58.241362: I tensorflow/core/grappler/optimizers/custom_graph_optimizer_registry.cc:114] Plugin optimizer for device_type GPU is enabled.\n"
     ]
    },
    {
     "name": "stdout",
     "output_type": "stream",
     "text": [
      "6/6 [==============================] - 1s 76ms/step - loss: 0.6867 - binary_accuracy: 0.5659 - val_loss: 0.6798 - val_binary_accuracy: 0.5824\n",
      "Epoch 2/15\n",
      "1/6 [====>.........................] - ETA: 0s - loss: 0.6368 - binary_accuracy: 0.7500"
     ]
    },
    {
     "name": "stderr",
     "output_type": "stream",
     "text": [
      "2022-11-10 23:56:58.747671: I tensorflow/core/grappler/optimizers/custom_graph_optimizer_registry.cc:114] Plugin optimizer for device_type GPU is enabled.\n"
     ]
    },
    {
     "name": "stdout",
     "output_type": "stream",
     "text": [
      "6/6 [==============================] - 0s 15ms/step - loss: 0.6225 - binary_accuracy: 0.7033 - val_loss: 0.6577 - val_binary_accuracy: 0.5934\n",
      "Epoch 3/15\n",
      "6/6 [==============================] - 0s 15ms/step - loss: 0.5133 - binary_accuracy: 0.8709 - val_loss: 0.6028 - val_binary_accuracy: 0.7473\n",
      "Epoch 4/15\n",
      "6/6 [==============================] - 0s 14ms/step - loss: 0.3798 - binary_accuracy: 0.9615 - val_loss: 0.5697 - val_binary_accuracy: 0.7363\n",
      "Epoch 5/15\n",
      "6/6 [==============================] - 0s 12ms/step - loss: 0.2569 - binary_accuracy: 0.9780 - val_loss: 0.5213 - val_binary_accuracy: 0.7692\n",
      "Epoch 6/15\n",
      "6/6 [==============================] - 0s 13ms/step - loss: 0.1760 - binary_accuracy: 0.9835 - val_loss: 0.5152 - val_binary_accuracy: 0.7582\n",
      "Epoch 7/15\n",
      "6/6 [==============================] - 0s 14ms/step - loss: 0.1105 - binary_accuracy: 0.9945 - val_loss: 0.5303 - val_binary_accuracy: 0.7582\n",
      "Epoch 8/15\n",
      "6/6 [==============================] - 0s 13ms/step - loss: 0.0836 - binary_accuracy: 0.9890 - val_loss: 0.5122 - val_binary_accuracy: 0.7692\n",
      "Epoch 9/15\n",
      "6/6 [==============================] - 0s 12ms/step - loss: 0.0634 - binary_accuracy: 0.9863 - val_loss: 0.5368 - val_binary_accuracy: 0.7912\n",
      "Epoch 10/15\n",
      "6/6 [==============================] - 0s 12ms/step - loss: 0.0410 - binary_accuracy: 0.9945 - val_loss: 0.5552 - val_binary_accuracy: 0.7912\n",
      "Epoch 11/15\n",
      "6/6 [==============================] - 0s 12ms/step - loss: 0.0411 - binary_accuracy: 0.9918 - val_loss: 0.5582 - val_binary_accuracy: 0.7912\n",
      "Epoch 12/15\n",
      "6/6 [==============================] - 0s 12ms/step - loss: 0.0435 - binary_accuracy: 0.9863 - val_loss: 0.5650 - val_binary_accuracy: 0.7802\n",
      "Epoch 13/15\n",
      "6/6 [==============================] - 0s 12ms/step - loss: 0.0325 - binary_accuracy: 0.9918 - val_loss: 0.5841 - val_binary_accuracy: 0.7912\n",
      "Epoch 14/15\n",
      "6/6 [==============================] - 0s 12ms/step - loss: 0.0267 - binary_accuracy: 0.9918 - val_loss: 0.5772 - val_binary_accuracy: 0.7912\n",
      "Epoch 15/15\n",
      "6/6 [==============================] - 0s 12ms/step - loss: 0.0203 - binary_accuracy: 0.9973 - val_loss: 0.5680 - val_binary_accuracy: 0.7802\n"
     ]
    },
    {
     "data": {
      "text/plain": [
       "<AxesSubplot:title={'center':'Accuracy'}>"
      ]
     },
     "execution_count": 195,
     "metadata": {},
     "output_type": "execute_result"
    },
    {
     "data": {
      "image/png": "[encoded data removed]",
      "text/plain": [
       "<Figure size 640x480 with 1 Axes>"
      ]
     },
     "metadata": {},
     "output_type": "display_data"
    },
    {
     "data": {
      "image/png": "[encoded data removed]",
      "text/plain": [
       "<Figure size 640x480 with 1 Axes>"
      ]
     },
     "metadata": {},
     "output_type": "display_data"
    }
   ],
   "source": [
    "early_stopping = keras.callbacks.EarlyStopping(\n",
    "    patience=5,\n",
    "    min_delta=0.1,\n",
    "    restore_best_weights=True,\n",
    ")\n",
    "\n",
    "history = model.fit(\n",
    "    X_train, y_train,\n",
    "    validation_data=(X_test, y_test),\n",
    "    batch_size=64,\n",
    "    epochs=15,\n",
    "#    callbacks=[early_stopping],\n",
    ")\n",
    "\n",
    "history_df = pd.DataFrame(history.history)\n",
    "history_df.loc[:, ['loss', 'val_loss']].plot(title=\"Cross-entropy\")\n",
    "history_df.loc[:, ['binary_accuracy', 'val_binary_accuracy']].plot(title=\"Accuracy\")"
   ]
  },
  {
   "cell_type": "code",
   "execution_count": 170,
   "id": "bfe129b3",
   "metadata": {},
   "outputs": [
    {
     "name": "stdout",
     "output_type": "stream",
     "text": [
      "4/4 [==============================] - 0s 10ms/step\n"
     ]
    },
    {
     "name": "stderr",
     "output_type": "stream",
     "text": [
      "2022-11-10 23:52:23.807266: I tensorflow/core/grappler/optimizers/custom_graph_optimizer_registry.cc:114] Plugin optimizer for device_type GPU is enabled.\n"
     ]
    },
    {
     "data": {
      "image/png": "[encoded data removed]",
      "text/plain": [
       "<Figure size 640x480 with 1 Axes>"
      ]
     },
     "metadata": {},
     "output_type": "display_data"
    }
   ],
   "source": [
    "from sklearn import metrics\n",
    "fpr, tpr, _ = metrics.roc_curve(y_test, model.predict(X_test))\n",
    "roc_display = metrics.RocCurveDisplay(fpr=fpr, tpr=tpr).plot()"
   ]
  },
  {
   "cell_type": "code",
   "execution_count": 138,
   "id": "68cb54f1",
   "metadata": {},
   "outputs": [
    {
     "ename": "TypeError",
     "evalue": "in user code:\n\n\n    TypeError: tf__predict_function() missing 1 required positional argument: 'iterator'\n",
     "output_type": "error",
     "traceback": [
      "\u001b[0;31m---------------------------------------------------------------------------\u001b[0m",
      "\u001b[0;31mTypeError\u001b[0m                                 Traceback (most recent call last)",
      "Input \u001b[0;32mIn [138]\u001b[0m, in \u001b[0;36m<cell line: 1>\u001b[0;34m()\u001b[0m\n\u001b[0;32m----> 1\u001b[0m \u001b[43mmodel\u001b[49m\u001b[38;5;241;43m.\u001b[39;49m\u001b[43mpredict_function\u001b[49m\u001b[43m(\u001b[49m\u001b[43m)\u001b[49m\n",
      "File \u001b[0;32m~/opt/anaconda3/lib/python3.9/site-packages/tensorflow/python/util/traceback_utils.py:153\u001b[0m, in \u001b[0;36mfilter_traceback.<locals>.error_handler\u001b[0;34m(*args, **kwargs)\u001b[0m\n\u001b[1;32m    151\u001b[0m \u001b[38;5;28;01mexcept\u001b[39;00m \u001b[38;5;167;01mException\u001b[39;00m \u001b[38;5;28;01mas\u001b[39;00m e:\n\u001b[1;32m    152\u001b[0m   filtered_tb \u001b[38;5;241m=\u001b[39m _process_traceback_frames(e\u001b[38;5;241m.\u001b[39m__traceback__)\n\u001b[0;32m--> 153\u001b[0m   \u001b[38;5;28;01mraise\u001b[39;00m e\u001b[38;5;241m.\u001b[39mwith_traceback(filtered_tb) \u001b[38;5;28;01mfrom\u001b[39;00m \u001b[38;5;28mNone\u001b[39m\n\u001b[1;32m    154\u001b[0m \u001b[38;5;28;01mfinally\u001b[39;00m:\n\u001b[1;32m    155\u001b[0m   \u001b[38;5;28;01mdel\u001b[39;00m filtered_tb\n",
      "File \u001b[0;32m~/opt/anaconda3/lib/python3.9/site-packages/tensorflow/python/autograph/impl/api.py:439\u001b[0m, in \u001b[0;36mconverted_call\u001b[0;34m(f, args, kwargs, caller_fn_scope, options)\u001b[0m\n\u001b[1;32m    437\u001b[0m \u001b[38;5;28;01mtry\u001b[39;00m:\n\u001b[1;32m    438\u001b[0m   \u001b[38;5;28;01mif\u001b[39;00m kwargs \u001b[38;5;129;01mis\u001b[39;00m \u001b[38;5;129;01mnot\u001b[39;00m \u001b[38;5;28;01mNone\u001b[39;00m:\n\u001b[0;32m--> 439\u001b[0m     result \u001b[38;5;241m=\u001b[39m converted_f(\u001b[38;5;241m*\u001b[39meffective_args, \u001b[38;5;241m*\u001b[39m\u001b[38;5;241m*\u001b[39mkwargs)\n\u001b[1;32m    440\u001b[0m   \u001b[38;5;28;01melse\u001b[39;00m:\n\u001b[1;32m    441\u001b[0m     result \u001b[38;5;241m=\u001b[39m converted_f(\u001b[38;5;241m*\u001b[39meffective_args)\n",
      "\u001b[0;31mTypeError\u001b[0m: in user code:\n\n\n    TypeError: tf__predict_function() missing 1 required positional argument: 'iterator'\n"
     ]
    }
   ],
   "source": []
  },
  {
   "cell_type": "markdown",
   "id": "76996d3a",
   "metadata": {},
   "source": [
    "# Sauvegarde des résultats\n",
    "---"
   ]
  },
  {
   "cell_type": "markdown",
   "id": "fb7949bc",
   "metadata": {},
   "source": [
    "# Conclusions\n",
    "---"
   ]
  },
  {
   "cell_type": "markdown",
   "id": "bd06b261",
   "metadata": {},
   "source": [
    "- "
   ]
  },
  {
   "cell_type": "markdown",
   "id": "bd360655",
   "metadata": {},
   "source": [
    "# Bricolages\n",
    "---"
   ]
  },
  {
   "cell_type": "code",
   "execution_count": null,
   "id": "eb4bd6ba",
   "metadata": {},
   "outputs": [],
   "source": [
    "import tensorflow as tf\n",
    "\n",
    "cifar = tf.keras.datasets.cifar100\n",
    "(x_train, y_train), (x_test, y_test) = cifar.load_data()\n",
    "model = tf.keras.applications.ResNet50(\n",
    "    include_top=True,\n",
    "    weights=None,\n",
    "    input_shape=(32, 32, 3),\n",
    "    classes=100,)\n",
    "\n",
    "loss_fn = tf.keras.losses.SparseCategoricalCrossentropy(from_logits=True)\n",
    "model.compile(optimizer=\"adam\", loss=loss_fn, metrics=[\"accuracy\"])\n",
    "model.fit(x_train, y_train, epochs=5, batch_size=64)"
   ]
  },
  {
   "cell_type": "code",
   "execution_count": null,
   "id": "11f19073",
   "metadata": {},
   "outputs": [],
   "source": [
    "len(ignore_words)"
   ]
  },
  {
   "cell_type": "code",
   "execution_count": null,
   "id": "8e1b7e82",
   "metadata": {},
   "outputs": [],
   "source": [
    "import re"
   ]
  },
  {
   "cell_type": "code",
   "execution_count": null,
   "id": "b0416c9c",
   "metadata": {},
   "outputs": [],
   "source": [
    "for word in ignore_words:\n",
    "    if re.match(r'dépl',word):\n",
    "        print(word)"
   ]
  },
  {
   "cell_type": "code",
   "execution_count": null,
   "id": "c7da48d9",
   "metadata": {},
   "outputs": [],
   "source": [
    "iw2 = []\n",
    "for word in ignore_words:\n",
    "    iw2.append(tokenizer(word))"
   ]
  },
  {
   "cell_type": "code",
   "execution_count": null,
   "id": "37a58cbb",
   "metadata": {},
   "outputs": [],
   "source": [
    "len(iw2)"
   ]
  },
  {
   "cell_type": "code",
   "execution_count": null,
   "id": "045b38e4",
   "metadata": {},
   "outputs": [],
   "source": []
  }
 ],
 "metadata": {
  "kernelspec": {
   "display_name": "Python 3 (ipykernel)",
   "language": "python",
   "name": "python3"
  },
  "language_info": {
   "codemirror_mode": {
    "name": "ipython",
    "version": 3
   },
   "file_extension": ".py",
   "mimetype": "text/x-python",
   "name": "python",
   "nbconvert_exporter": "python",
   "pygments_lexer": "ipython3",
   "version": "3.9.13"
  }
 },
 "nbformat": 4,
 "nbformat_minor": 5
}
