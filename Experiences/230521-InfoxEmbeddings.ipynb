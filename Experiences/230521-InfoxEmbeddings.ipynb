{
 "cells": [
  {
   "cell_type": "markdown",
   "id": "e3ec4689",
   "metadata": {},
   "source": [
    "# Plateforme Agnostique de Traitement et d'Analyse des Textes\n",
    "### Carnet d'expérimentation\n",
    "---\n",
    "\n",
    "## Sujet : Infox Embeddings\n",
    "\n",
    "\n",
    "---"
   ]
  },
  {
   "cell_type": "markdown",
   "id": "2601e626",
   "metadata": {},
   "source": [
    "# Initialisations\n",
    "---"
   ]
  },
  {
   "cell_type": "code",
   "execution_count": 1,
   "id": "525fef74",
   "metadata": {},
   "outputs": [],
   "source": [
    "_rs = 42"
   ]
  },
  {
   "cell_type": "code",
   "execution_count": 2,
   "id": "5d0de4d7",
   "metadata": {},
   "outputs": [
    {
     "name": "stdout",
     "output_type": "stream",
     "text": [
      "/Volumes/Geek/Work/Patat\n"
     ]
    }
   ],
   "source": [
    "cd ../.."
   ]
  },
  {
   "cell_type": "code",
   "execution_count": 3,
   "id": "32256b0d",
   "metadata": {},
   "outputs": [],
   "source": [
    "import ast\n",
    "import importlib\n",
    "import pandas as pd\n",
    "import seaborn as sns\n",
    "from tqdm.notebook import tqdm\n",
    "tqdm.pandas()"
   ]
  },
  {
   "cell_type": "markdown",
   "id": "b9b13f54",
   "metadata": {},
   "source": [
    "# Préparation Données\n",
    "\n",
    "---"
   ]
  },
  {
   "cell_type": "markdown",
   "id": "18533365",
   "metadata": {},
   "source": [
    "## Chargement"
   ]
  },
  {
   "cell_type": "code",
   "execution_count": 4,
   "id": "b435d360",
   "metadata": {},
   "outputs": [],
   "source": [
    "import patat.util.file\n",
    "\n",
    "filename = 'data/prod/230517-OIDS-Label.pickle'\n",
    "\n",
    "df_label = patat.util.file.pickle_load(filename)"
   ]
  },
  {
   "cell_type": "markdown",
   "id": "394eb154",
   "metadata": {},
   "source": [
    "## Labels ou textes Nuls"
   ]
  },
  {
   "cell_type": "code",
   "execution_count": 5,
   "id": "62f6f1ca",
   "metadata": {},
   "outputs": [
    {
     "data": {
      "text/plain": [
       "0"
      ]
     },
     "execution_count": 5,
     "metadata": {},
     "output_type": "execute_result"
    }
   ],
   "source": [
    "df_label['text'].isna().sum()"
   ]
  },
  {
   "cell_type": "code",
   "execution_count": 6,
   "id": "73feab00",
   "metadata": {},
   "outputs": [
    {
     "data": {
      "text/plain": [
       "4"
      ]
     },
     "execution_count": 6,
     "metadata": {},
     "output_type": "execute_result"
    }
   ],
   "source": [
    "df_label['infox'].isna().sum()"
   ]
  },
  {
   "cell_type": "code",
   "execution_count": 7,
   "id": "5e535748",
   "metadata": {},
   "outputs": [],
   "source": [
    "df_label = df_label[df_label['infox'].notna()]"
   ]
  },
  {
   "cell_type": "code",
   "execution_count": 8,
   "id": "11d454d1",
   "metadata": {},
   "outputs": [],
   "source": [
    "df_label.reset_index(inplace=True)"
   ]
  },
  {
   "cell_type": "markdown",
   "id": "06e71e98",
   "metadata": {},
   "source": [
    "## Données dupliquées"
   ]
  },
  {
   "cell_type": "code",
   "execution_count": 9,
   "id": "bc6b9499",
   "metadata": {},
   "outputs": [
    {
     "data": {
      "text/plain": [
       "0"
      ]
     },
     "execution_count": 9,
     "metadata": {},
     "output_type": "execute_result"
    }
   ],
   "source": [
    "df_label.duplicated(subset='text').sum()"
   ]
  },
  {
   "cell_type": "code",
   "execution_count": 10,
   "id": "d8c481ad",
   "metadata": {
    "scrolled": true
   },
   "outputs": [
    {
     "data": {
      "text/plain": [
       "0"
      ]
     },
     "execution_count": 10,
     "metadata": {},
     "output_type": "execute_result"
    }
   ],
   "source": [
    "df_label.duplicated(subset='url').sum()"
   ]
  },
  {
   "cell_type": "markdown",
   "id": "418e89ed",
   "metadata": {},
   "source": [
    "# Experience\n",
    "---"
   ]
  },
  {
   "cell_type": "markdown",
   "id": "68eb6f1a",
   "metadata": {},
   "source": [
    "## Preprocessing textes"
   ]
  },
  {
   "cell_type": "code",
   "execution_count": 11,
   "id": "ea09efdb",
   "metadata": {},
   "outputs": [],
   "source": [
    "import patat.util.text"
   ]
  },
  {
   "cell_type": "code",
   "execution_count": 12,
   "id": "70046596",
   "metadata": {},
   "outputs": [],
   "source": [
    "df_label['pp_text']=df_label['text'].apply(patat.util.text.preprocess)"
   ]
  },
  {
   "cell_type": "markdown",
   "id": "2e07aeac",
   "metadata": {},
   "source": [
    "## Paragraphes"
   ]
  },
  {
   "cell_type": "code",
   "execution_count": 13,
   "id": "3266354d",
   "metadata": {
    "scrolled": true
   },
   "outputs": [
    {
     "data": {
      "text/plain": [
       "count    900.000000\n",
       "mean      21.756667\n",
       "std       29.650424\n",
       "min        1.000000\n",
       "25%        8.000000\n",
       "50%       14.000000\n",
       "75%       25.000000\n",
       "max      512.000000\n",
       "Name: p_count, dtype: float64"
      ]
     },
     "execution_count": 13,
     "metadata": {},
     "output_type": "execute_result"
    }
   ],
   "source": [
    "df_label['p_count'].describe()"
   ]
  },
  {
   "cell_type": "code",
   "execution_count": 14,
   "id": "b6e16fd2",
   "metadata": {},
   "outputs": [
    {
     "data": {
      "text/plain": [
       "<seaborn.axisgrid.FacetGrid at 0x15ac0cd30>"
      ]
     },
     "execution_count": 14,
     "metadata": {},
     "output_type": "execute_result"
    },
    {
     "data": {
      "image/png": "[encoded data removed]",
      "text/plain": [
       "<Figure size 500x500 with 1 Axes>"
      ]
     },
     "metadata": {},
     "output_type": "display_data"
    }
   ],
   "source": [
    "sns.displot(df_label,x='p_count')"
   ]
  },
  {
   "cell_type": "markdown",
   "id": "03e56e6c",
   "metadata": {},
   "source": [
    "## Equilibrage Dataset"
   ]
  },
  {
   "cell_type": "code",
   "execution_count": 15,
   "id": "38c59b58",
   "metadata": {},
   "outputs": [
    {
     "data": {
      "text/plain": [
       "<Axes: xlabel='infox', ylabel='count'>"
      ]
     },
     "execution_count": 15,
     "metadata": {},
     "output_type": "execute_result"
    },
    {
     "data": {
      "image/png": "[encoded data removed]",
      "text/plain": [
       "<Figure size 640x480 with 1 Axes>"
      ]
     },
     "metadata": {},
     "output_type": "display_data"
    }
   ],
   "source": [
    "label_count = df_label['infox'].value_counts()\n",
    "sns.barplot(x=label_count.index, y=label_count)"
   ]
  },
  {
   "cell_type": "code",
   "execution_count": 16,
   "id": "babd8a09",
   "metadata": {},
   "outputs": [
    {
     "data": {
      "text/html": [
       "<div>\n",
       "<style scoped>\n",
       "    .dataframe tbody tr th:only-of-type {\n",
       "        vertical-align: middle;\n",
       "    }\n",
       "\n",
       "    .dataframe tbody tr th {\n",
       "        vertical-align: top;\n",
       "    }\n",
       "\n",
       "    .dataframe thead th {\n",
       "        text-align: right;\n",
       "    }\n",
       "</style>\n",
       "<table border=\"1\" class=\"dataframe\">\n",
       "  <thead>\n",
       "    <tr style=\"text-align: right;\">\n",
       "      <th></th>\n",
       "      <th>index</th>\n",
       "      <th>url</th>\n",
       "      <th>site</th>\n",
       "      <th>title</th>\n",
       "      <th>article</th>\n",
       "      <th>tags</th>\n",
       "      <th>paragraphs</th>\n",
       "      <th>date_iso</th>\n",
       "      <th>abstract</th>\n",
       "      <th>Auteur</th>\n",
       "      <th>...</th>\n",
       "      <th>denigrement</th>\n",
       "      <th>degre_infox</th>\n",
       "      <th>observateur</th>\n",
       "      <th>source</th>\n",
       "      <th>p_count</th>\n",
       "      <th>text</th>\n",
       "      <th>c_count</th>\n",
       "      <th>p_size</th>\n",
       "      <th>url_h</th>\n",
       "      <th>pp_text</th>\n",
       "    </tr>\n",
       "  </thead>\n",
       "  <tbody>\n",
       "    <tr>\n",
       "      <th>609</th>\n",
       "      <td>610</td>\n",
       "      <td>https://www.francesoir.fr/politique-france/gue...</td>\n",
       "      <td>www.francesoir.fr</td>\n",
       "      <td>Guerre en Ukraine: Emmanuel Macron prévient le...</td>\n",
       "      <td>À l’occasion de la cérémonie pour le 78e anniv...</td>\n",
       "      <td>[Accueil, Politique]</td>\n",
       "      <td>[À l’occasion de la cérémonie pour le 78e anni...</td>\n",
       "      <td>2022-08-20T00:00:00</td>\n",
       "      <td></td>\n",
       "      <td></td>\n",
       "      <td>...</td>\n",
       "      <td>0.0</td>\n",
       "      <td></td>\n",
       "      <td>CN</td>\n",
       "      <td>Recueil</td>\n",
       "      <td>11</td>\n",
       "      <td>Guerre en Ukraine: Emmanuel Macron prévient le...</td>\n",
       "      <td>2629</td>\n",
       "      <td>239.000000</td>\n",
       "      <td>857bfacdd98e36dda26f1f92cf40c992904d6386</td>\n",
       "      <td>guerre en ukraine: emmanuel macron prévient le...</td>\n",
       "    </tr>\n",
       "    <tr>\n",
       "      <th>705</th>\n",
       "      <td>708</td>\n",
       "      <td>https://www.profession-gendarme.com/la-vaccina...</td>\n",
       "      <td>www.profession-gendarme.com</td>\n",
       "      <td>La vaccination Covid : un marquage de « type b...</td>\n",
       "      <td>De: Dr R Date: 16 avril 2022 à 08:17:22 ﻿bonjo...</td>\n",
       "      <td>[Actualités, Tribune]</td>\n",
       "      <td>[De: Dr R Date: 16 avril 2022 à 08:17:22 ﻿bonj...</td>\n",
       "      <td></td>\n",
       "      <td></td>\n",
       "      <td>NaN</td>\n",
       "      <td>...</td>\n",
       "      <td>NaN</td>\n",
       "      <td>NaN</td>\n",
       "      <td>NaN</td>\n",
       "      <td>Test1</td>\n",
       "      <td>17</td>\n",
       "      <td>La vaccination Covid : un marquage de « type b...</td>\n",
       "      <td>6252</td>\n",
       "      <td>367.764706</td>\n",
       "      <td>166d32300f4d7766a82fe39a1185f35bc347c05f</td>\n",
       "      <td>la vaccination covid : un marquage de « type b...</td>\n",
       "    </tr>\n",
       "    <tr>\n",
       "      <th>26</th>\n",
       "      <td>26</td>\n",
       "      <td>https://www.mondialisation.ca/colonialisme-ene...</td>\n",
       "      <td>www.mondialisation.ca</td>\n",
       "      <td>Colonialisme énergétique</td>\n",
       "      <td>Visite d’État du président de la République it...</td>\n",
       "      <td>[Moyen-Orient et Afrique du Nord, Guerre USA O...</td>\n",
       "      <td>[Visite d’État du président de la République i...</td>\n",
       "      <td>2022-07-09T00:00:00</td>\n",
       "      <td></td>\n",
       "      <td>Pangea Grandangolo</td>\n",
       "      <td>...</td>\n",
       "      <td>NaN</td>\n",
       "      <td></td>\n",
       "      <td>GP</td>\n",
       "      <td>Recueil</td>\n",
       "      <td>8</td>\n",
       "      <td>Colonialisme énergétique\\nVisite d’État du pré...</td>\n",
       "      <td>2794</td>\n",
       "      <td>349.250000</td>\n",
       "      <td>2a39a60fd5e2c6df0f6ec8ce9fedc2ee2eb4ab4d</td>\n",
       "      <td>colonialisme énergétique\\nvisite d état du pré...</td>\n",
       "    </tr>\n",
       "    <tr>\n",
       "      <th>565</th>\n",
       "      <td>566</td>\n",
       "      <td>https://www.francesoir.fr/opinions-editos/de-l...</td>\n",
       "      <td>www.francesoir.fr</td>\n",
       "      <td>De l’importance d’une Assemblée vraiment natio...</td>\n",
       "      <td>Depuis hier soir, ne serions-nous pas en train...</td>\n",
       "      <td>[Accueil, Opinions]</td>\n",
       "      <td>[Depuis hier soir, ne serions-nous pas en trai...</td>\n",
       "      <td>2022-06-20T19:46:00</td>\n",
       "      <td></td>\n",
       "      <td>Xavier Azalbert</td>\n",
       "      <td>...</td>\n",
       "      <td>NaN</td>\n",
       "      <td></td>\n",
       "      <td>GP</td>\n",
       "      <td>Recueil</td>\n",
       "      <td>16</td>\n",
       "      <td>De l’importance d’une Assemblée vraiment natio...</td>\n",
       "      <td>4582</td>\n",
       "      <td>286.375000</td>\n",
       "      <td>93b25370fea82c7039f7e2b00c0bd73151101af3</td>\n",
       "      <td>de l importance d une assemblée vraiment natio...</td>\n",
       "    </tr>\n",
       "    <tr>\n",
       "      <th>231</th>\n",
       "      <td>232</td>\n",
       "      <td>https://www.polemia.com/quelle-politique-migra...</td>\n",
       "      <td>www.polemia.com</td>\n",
       "      <td>Quelle politique migratoire pour la France ? –...</td>\n",
       "      <td>Par André-Victor Robert, haut fonctionnaire ♦ ...</td>\n",
       "      <td>[Accueil, Géopolitique, Afrique, analyse, Andr...</td>\n",
       "      <td>[Facebook, Twitter, LinkedIn, Print Friendly, ...</td>\n",
       "      <td></td>\n",
       "      <td>Par André-Victor Robert, haut fonctionnaire ♦ ...</td>\n",
       "      <td>André Victor Robert</td>\n",
       "      <td>...</td>\n",
       "      <td>0.0</td>\n",
       "      <td></td>\n",
       "      <td>FB</td>\n",
       "      <td>Recueil</td>\n",
       "      <td>31</td>\n",
       "      <td>Quelle politique migratoire pour la France ? –...</td>\n",
       "      <td>9123</td>\n",
       "      <td>294.290323</td>\n",
       "      <td>c12a81bb99810b5c13fba93abc5f9cea077a873d</td>\n",
       "      <td>quelle politique migratoire pour la france ?  ...</td>\n",
       "    </tr>\n",
       "    <tr>\n",
       "      <th>...</th>\n",
       "      <td>...</td>\n",
       "      <td>...</td>\n",
       "      <td>...</td>\n",
       "      <td>...</td>\n",
       "      <td>...</td>\n",
       "      <td>...</td>\n",
       "      <td>...</td>\n",
       "      <td>...</td>\n",
       "      <td>...</td>\n",
       "      <td>...</td>\n",
       "      <td>...</td>\n",
       "      <td>...</td>\n",
       "      <td>...</td>\n",
       "      <td>...</td>\n",
       "      <td>...</td>\n",
       "      <td>...</td>\n",
       "      <td>...</td>\n",
       "      <td>...</td>\n",
       "      <td>...</td>\n",
       "      <td>...</td>\n",
       "      <td>...</td>\n",
       "    </tr>\n",
       "    <tr>\n",
       "      <th>112</th>\n",
       "      <td>112</td>\n",
       "      <td>https://lesdeqodeurs.fr/des-scientifiques-de-h...</td>\n",
       "      <td>lesdeqodeurs.fr</td>\n",
       "      <td>Des scientifiques de Harvard et de Johns Hopki...</td>\n",
       "      <td>Article original datant du 31/08/22 par SSRNCO...</td>\n",
       "      <td>[ARNm, COVID, effets secondaires, étude, Harva...</td>\n",
       "      <td>[Les étudiants des universités nord-américaine...</td>\n",
       "      <td>2022-09-23T00:00:00</td>\n",
       "      <td></td>\n",
       "      <td></td>\n",
       "      <td>...</td>\n",
       "      <td>0.0</td>\n",
       "      <td>1</td>\n",
       "      <td>FB</td>\n",
       "      <td>Recueil</td>\n",
       "      <td>5</td>\n",
       "      <td>Des scientifiques de Harvard et de Johns Hopki...</td>\n",
       "      <td>1803</td>\n",
       "      <td>360.600000</td>\n",
       "      <td>1f56ed5fa54de7c492154ac8ee0d8d10724f1aa4</td>\n",
       "      <td>des scientifiques de harvard et de johns hopki...</td>\n",
       "    </tr>\n",
       "    <tr>\n",
       "      <th>157</th>\n",
       "      <td>158</td>\n",
       "      <td>https://www.voltairenet.org/article217546.html</td>\n",
       "      <td>www.voltairenet.org</td>\n",
       "      <td>L’armée russe achète des exemplaires d’armemen...</td>\n",
       "      <td>L’achat de deux canons automoteurs CAESAR fran...</td>\n",
       "      <td>[]</td>\n",
       "      <td>[L’achat de deux canons automoteurs CAESAR fra...</td>\n",
       "      <td>1900-01-01T00:00:00</td>\n",
       "      <td></td>\n",
       "      <td></td>\n",
       "      <td>...</td>\n",
       "      <td>NaN</td>\n",
       "      <td>1</td>\n",
       "      <td>FB</td>\n",
       "      <td>Recueil</td>\n",
       "      <td>3</td>\n",
       "      <td>L’armée russe achète des exemplaires d’armemen...</td>\n",
       "      <td>718</td>\n",
       "      <td>239.333333</td>\n",
       "      <td>b3153ba0ad9e32c02a8d49c99a6748e0764b20b5</td>\n",
       "      <td>l armée russe achète des exemplaires d armemen...</td>\n",
       "    </tr>\n",
       "    <tr>\n",
       "      <th>522</th>\n",
       "      <td>523</td>\n",
       "      <td>https://lemediaen442.fr/onu-le-premier-ministr...</td>\n",
       "      <td>lemediaen442.fr</td>\n",
       "      <td>ONU – Le Premier ministre de Nouvelle-Zélande ...</td>\n",
       "      <td>L’argument principal de la ministre est que le...</td>\n",
       "      <td>[Politique, Vidéos, censure, jacinda ardern, ONU]</td>\n",
       "      <td>[L’argument principal de la ministre est que l...</td>\n",
       "      <td>2022-09-29T09:56:31+02:00</td>\n",
       "      <td>Le terrible discours de Jacinda Ardern, Premie...</td>\n",
       "      <td></td>\n",
       "      <td>...</td>\n",
       "      <td>0.0</td>\n",
       "      <td>1</td>\n",
       "      <td>FB</td>\n",
       "      <td>Recueil</td>\n",
       "      <td>7</td>\n",
       "      <td>ONU – Le Premier ministre de Nouvelle-Zélande ...</td>\n",
       "      <td>2420</td>\n",
       "      <td>345.714286</td>\n",
       "      <td>3d47a59ef99274fd9ee96c209cc2ab41d6e1f6bb</td>\n",
       "      <td>onu   le premier ministre de nouvelle-zélande ...</td>\n",
       "    </tr>\n",
       "    <tr>\n",
       "      <th>847</th>\n",
       "      <td>853</td>\n",
       "      <td>https://fr.sott.net/article/36258-Pandemie-ou-...</td>\n",
       "      <td>fr.sott.net</td>\n",
       "      <td>Pandémie ou le retour du grand Pan</td>\n",
       "      <td>Au cours des deux dernières décennies, les pub...</td>\n",
       "      <td>[La Science de l'Esprit]</td>\n",
       "      <td>[Au cours des deux dernières décennies, les pu...</td>\n",
       "      <td></td>\n",
       "      <td></td>\n",
       "      <td>NaN</td>\n",
       "      <td>...</td>\n",
       "      <td>NaN</td>\n",
       "      <td>NaN</td>\n",
       "      <td>NaN</td>\n",
       "      <td>Verif</td>\n",
       "      <td>59</td>\n",
       "      <td>Pandémie ou le retour du grand Pan\\nAu cours d...</td>\n",
       "      <td>19227</td>\n",
       "      <td>325.881356</td>\n",
       "      <td>fd203102bf61c0cfc0387c3db38685556dc9aa0e</td>\n",
       "      <td>pandémie ou le retour du grand pan\\nau cours d...</td>\n",
       "    </tr>\n",
       "    <tr>\n",
       "      <th>151</th>\n",
       "      <td>152</td>\n",
       "      <td>https://lesdeqodeurs.fr/le-president-trump-dec...</td>\n",
       "      <td>lesdeqodeurs.fr</td>\n",
       "      <td>Le président Trump dénonce la corruption de la...</td>\n",
       "      <td>Article original datant du 28/04/22Donald Trum...</td>\n",
       "      <td>[2016, 2020, Barack Obama, CNN, Donald Trump, ...</td>\n",
       "      <td>[Article original datant du 28/04/22, Le prési...</td>\n",
       "      <td>2022-05-01T00:00:00</td>\n",
       "      <td></td>\n",
       "      <td></td>\n",
       "      <td>...</td>\n",
       "      <td>NaN</td>\n",
       "      <td>1</td>\n",
       "      <td>FB</td>\n",
       "      <td>Recueil</td>\n",
       "      <td>15</td>\n",
       "      <td>Le président Trump dénonce la corruption de la...</td>\n",
       "      <td>4512</td>\n",
       "      <td>300.800000</td>\n",
       "      <td>a118d6a98c00f504fad2544531bd63b2267f1244</td>\n",
       "      <td>le président trump dénonce la corruption de la...</td>\n",
       "    </tr>\n",
       "  </tbody>\n",
       "</table>\n",
       "<p>746 rows × 46 columns</p>\n",
       "</div>"
      ],
      "text/plain": [
       "     index                                                url   \n",
       "609    610  https://www.francesoir.fr/politique-france/gue...  \\\n",
       "705    708  https://www.profession-gendarme.com/la-vaccina...   \n",
       "26      26  https://www.mondialisation.ca/colonialisme-ene...   \n",
       "565    566  https://www.francesoir.fr/opinions-editos/de-l...   \n",
       "231    232  https://www.polemia.com/quelle-politique-migra...   \n",
       "..     ...                                                ...   \n",
       "112    112  https://lesdeqodeurs.fr/des-scientifiques-de-h...   \n",
       "157    158     https://www.voltairenet.org/article217546.html   \n",
       "522    523  https://lemediaen442.fr/onu-le-premier-ministr...   \n",
       "847    853  https://fr.sott.net/article/36258-Pandemie-ou-...   \n",
       "151    152  https://lesdeqodeurs.fr/le-president-trump-dec...   \n",
       "\n",
       "                            site   \n",
       "609            www.francesoir.fr  \\\n",
       "705  www.profession-gendarme.com   \n",
       "26         www.mondialisation.ca   \n",
       "565            www.francesoir.fr   \n",
       "231              www.polemia.com   \n",
       "..                           ...   \n",
       "112              lesdeqodeurs.fr   \n",
       "157          www.voltairenet.org   \n",
       "522              lemediaen442.fr   \n",
       "847                  fr.sott.net   \n",
       "151              lesdeqodeurs.fr   \n",
       "\n",
       "                                                 title   \n",
       "609  Guerre en Ukraine: Emmanuel Macron prévient le...  \\\n",
       "705  La vaccination Covid : un marquage de « type b...   \n",
       "26                            Colonialisme énergétique   \n",
       "565  De l’importance d’une Assemblée vraiment natio...   \n",
       "231  Quelle politique migratoire pour la France ? –...   \n",
       "..                                                 ...   \n",
       "112  Des scientifiques de Harvard et de Johns Hopki...   \n",
       "157  L’armée russe achète des exemplaires d’armemen...   \n",
       "522  ONU – Le Premier ministre de Nouvelle-Zélande ...   \n",
       "847                 Pandémie ou le retour du grand Pan   \n",
       "151  Le président Trump dénonce la corruption de la...   \n",
       "\n",
       "                                               article   \n",
       "609  À l’occasion de la cérémonie pour le 78e anniv...  \\\n",
       "705  De: Dr R Date: 16 avril 2022 à 08:17:22 ﻿bonjo...   \n",
       "26   Visite d’État du président de la République it...   \n",
       "565  Depuis hier soir, ne serions-nous pas en train...   \n",
       "231  Par André-Victor Robert, haut fonctionnaire ♦ ...   \n",
       "..                                                 ...   \n",
       "112  Article original datant du 31/08/22 par SSRNCO...   \n",
       "157  L’achat de deux canons automoteurs CAESAR fran...   \n",
       "522  L’argument principal de la ministre est que le...   \n",
       "847  Au cours des deux dernières décennies, les pub...   \n",
       "151  Article original datant du 28/04/22Donald Trum...   \n",
       "\n",
       "                                                  tags   \n",
       "609                               [Accueil, Politique]  \\\n",
       "705                              [Actualités, Tribune]   \n",
       "26   [Moyen-Orient et Afrique du Nord, Guerre USA O...   \n",
       "565                                [Accueil, Opinions]   \n",
       "231  [Accueil, Géopolitique, Afrique, analyse, Andr...   \n",
       "..                                                 ...   \n",
       "112  [ARNm, COVID, effets secondaires, étude, Harva...   \n",
       "157                                                 []   \n",
       "522  [Politique, Vidéos, censure, jacinda ardern, ONU]   \n",
       "847                           [La Science de l'Esprit]   \n",
       "151  [2016, 2020, Barack Obama, CNN, Donald Trump, ...   \n",
       "\n",
       "                                            paragraphs   \n",
       "609  [À l’occasion de la cérémonie pour le 78e anni...  \\\n",
       "705  [De: Dr R Date: 16 avril 2022 à 08:17:22 ﻿bonj...   \n",
       "26   [Visite d’État du président de la République i...   \n",
       "565  [Depuis hier soir, ne serions-nous pas en trai...   \n",
       "231  [Facebook, Twitter, LinkedIn, Print Friendly, ...   \n",
       "..                                                 ...   \n",
       "112  [Les étudiants des universités nord-américaine...   \n",
       "157  [L’achat de deux canons automoteurs CAESAR fra...   \n",
       "522  [L’argument principal de la ministre est que l...   \n",
       "847  [Au cours des deux dernières décennies, les pu...   \n",
       "151  [Article original datant du 28/04/22, Le prési...   \n",
       "\n",
       "                      date_iso   \n",
       "609        2022-08-20T00:00:00  \\\n",
       "705                              \n",
       "26         2022-07-09T00:00:00   \n",
       "565        2022-06-20T19:46:00   \n",
       "231                              \n",
       "..                         ...   \n",
       "112        2022-09-23T00:00:00   \n",
       "157        1900-01-01T00:00:00   \n",
       "522  2022-09-29T09:56:31+02:00   \n",
       "847                              \n",
       "151        2022-05-01T00:00:00   \n",
       "\n",
       "                                              abstract               Auteur   \n",
       "609                                                                          \\\n",
       "705                                                                     NaN   \n",
       "26                                                       Pangea Grandangolo   \n",
       "565                                                         Xavier Azalbert   \n",
       "231  Par André-Victor Robert, haut fonctionnaire ♦ ...  André Victor Robert   \n",
       "..                                                 ...                  ...   \n",
       "112                                                                           \n",
       "157                                                                           \n",
       "522  Le terrible discours de Jacinda Ardern, Premie...                        \n",
       "847                                                                     NaN   \n",
       "151                                                                           \n",
       "\n",
       "     ... denigrement degre_infox  observateur   source  p_count   \n",
       "609  ...         0.0                       CN  Recueil       11  \\\n",
       "705  ...         NaN         NaN          NaN    Test1       17   \n",
       "26   ...         NaN                       GP  Recueil        8   \n",
       "565  ...         NaN                       GP  Recueil       16   \n",
       "231  ...         0.0                       FB  Recueil       31   \n",
       "..   ...         ...         ...          ...      ...      ...   \n",
       "112  ...         0.0           1           FB  Recueil        5   \n",
       "157  ...         NaN           1           FB  Recueil        3   \n",
       "522  ...         0.0           1           FB  Recueil        7   \n",
       "847  ...         NaN         NaN          NaN    Verif       59   \n",
       "151  ...         NaN           1           FB  Recueil       15   \n",
       "\n",
       "                                                  text  c_count      p_size   \n",
       "609  Guerre en Ukraine: Emmanuel Macron prévient le...     2629  239.000000  \\\n",
       "705  La vaccination Covid : un marquage de « type b...     6252  367.764706   \n",
       "26   Colonialisme énergétique\\nVisite d’État du pré...     2794  349.250000   \n",
       "565  De l’importance d’une Assemblée vraiment natio...     4582  286.375000   \n",
       "231  Quelle politique migratoire pour la France ? –...     9123  294.290323   \n",
       "..                                                 ...      ...         ...   \n",
       "112  Des scientifiques de Harvard et de Johns Hopki...     1803  360.600000   \n",
       "157  L’armée russe achète des exemplaires d’armemen...      718  239.333333   \n",
       "522  ONU – Le Premier ministre de Nouvelle-Zélande ...     2420  345.714286   \n",
       "847  Pandémie ou le retour du grand Pan\\nAu cours d...    19227  325.881356   \n",
       "151  Le président Trump dénonce la corruption de la...     4512  300.800000   \n",
       "\n",
       "                                        url_h   \n",
       "609  857bfacdd98e36dda26f1f92cf40c992904d6386  \\\n",
       "705  166d32300f4d7766a82fe39a1185f35bc347c05f   \n",
       "26   2a39a60fd5e2c6df0f6ec8ce9fedc2ee2eb4ab4d   \n",
       "565  93b25370fea82c7039f7e2b00c0bd73151101af3   \n",
       "231  c12a81bb99810b5c13fba93abc5f9cea077a873d   \n",
       "..                                        ...   \n",
       "112  1f56ed5fa54de7c492154ac8ee0d8d10724f1aa4   \n",
       "157  b3153ba0ad9e32c02a8d49c99a6748e0764b20b5   \n",
       "522  3d47a59ef99274fd9ee96c209cc2ab41d6e1f6bb   \n",
       "847  fd203102bf61c0cfc0387c3db38685556dc9aa0e   \n",
       "151  a118d6a98c00f504fad2544531bd63b2267f1244   \n",
       "\n",
       "                                               pp_text  \n",
       "609  guerre en ukraine: emmanuel macron prévient le...  \n",
       "705  la vaccination covid : un marquage de « type b...  \n",
       "26   colonialisme énergétique\\nvisite d état du pré...  \n",
       "565  de l importance d une assemblée vraiment natio...  \n",
       "231  quelle politique migratoire pour la france ?  ...  \n",
       "..                                                 ...  \n",
       "112  des scientifiques de harvard et de johns hopki...  \n",
       "157  l armée russe achète des exemplaires d armemen...  \n",
       "522  onu   le premier ministre de nouvelle-zélande ...  \n",
       "847  pandémie ou le retour du grand pan\\nau cours d...  \n",
       "151  le président trump dénonce la corruption de la...  \n",
       "\n",
       "[746 rows x 46 columns]"
      ]
     },
     "execution_count": 16,
     "metadata": {},
     "output_type": "execute_result"
    }
   ],
   "source": [
    "df_0 = df_label[df_label['infox'] == 0]\n",
    "df_1 = df_label[df_label['infox'] == 1]\n",
    "\n",
    "min_sample = min(len(df_0),len(df_1))\n",
    "\n",
    "df_0=df_0.sample(min_sample,random_state=_rs)\n",
    "df_1=df_1.sample(min_sample,random_state=_rs)\n",
    "df_ml = pd.concat([df_0,df_1])\n",
    "\n",
    "df_ml"
   ]
  },
  {
   "cell_type": "markdown",
   "id": "1ddb93da",
   "metadata": {},
   "source": [
    "## Textes partiels"
   ]
  },
  {
   "cell_type": "code",
   "execution_count": 17,
   "id": "7d9a39d3",
   "metadata": {},
   "outputs": [],
   "source": [
    "def partial_texts(text,p_count):\n",
    "    parags = text.split('\\n')\n",
    "    result='\\n'.join(parags[:p_count])\n",
    "    return result"
   ]
  },
  {
   "cell_type": "code",
   "execution_count": 18,
   "id": "a15f1542",
   "metadata": {},
   "outputs": [],
   "source": [
    "text = df_ml.sample(frac=1).iloc[0]['text']"
   ]
  },
  {
   "cell_type": "code",
   "execution_count": 19,
   "id": "ea7c8d11",
   "metadata": {},
   "outputs": [
    {
     "name": "stdout",
     "output_type": "stream",
     "text": [
      "Les masques pourraient générer des cancers : l'avocat Jean-Pierre Joseph lance une procédure\n",
      "ENTRETIEN — Avec l’avocat au barreau de Grenoble et doyen de l’Ordre, Jean-Pierre Joseph, cette fois au sujet de la procédure qu’il a lancée contre le défaut de marquage de la composition sur les boîtes de masques commercialisées. Certains masques ne présenteraient pas leur composition et ceux contenant du graphène pourraient être extrêmement nocifs pour la santé.\n",
      "Pourquoi lancez-vous cette procédure ?\n",
      "Il y a quelques jours, des Grenoblois achetaient des boîtes de masques dans une grande surface de l'agglomération de Grenoble. Comme ils ont entendu dire que certains masques contenaient des nanoparticules d'un produit toxique, lorsqu'ils sont rentrés chez eux, ils examinaient les boites et leur contenu : à leur grande surprise, ils constataient qu'il n'existait aucune étiquette concernant la composition de ces masques. Il était donc impossible de savoir si ceux-ci contenaient un produit toxique ou non. Ils m'ont donc demandé d'intervenir en justice, afin de contraindre les vendeurs à indiquer la composition des produits sur les emballages.\n",
      "Sur quel fondement juridique vous appuyez-vous ?\n",
      "Il existe aujourd'hui une réglementation concernant l'étiquetage et le marquage des produits textiles : le règlement U.E. n° 1007/2011 du Parlement européen et du Conseil du 27 sept. 2011, ayant donné lieu à une communication de la Direction générale de la concurrence du 9 octobre 2020 : \"[...] L’étiquette de composition est obligatoire et doit être fixée sur le produit. Elle doit être lisible et rédigée en langue française. Elle donnera le pourcentage des différentes fibres textiles composant le vêtement, voire des différentes parties si elles sont de compositions différentes...\"\n",
      "Cette question n'est pas sans intérêt : les acheteurs m'ayant contacté ont appris qu'il y aurait des nanoparticules de graphène dans les masques.\n",
      "Si les fabricants de masques révèlent la présence de graphène dans leurs produits, ce composant est-il vraiment dangereux pour la santé notamment celle des enfants ?\n",
      "De nombreux scientifiques tentent depuis plus d'un an, d'alerter les médias et les autorités sur la présence de graphène dans les masques, et sa toxicité.\n",
      "Ainsi, le chercheur Michael White écrit :\n",
      "Les chercheurs ont étudié les impacts négatifs potentiels de l'inhalation de graphène microscopique sur les mammifères. Dans une expérience de 2016, des souris avec du graphène placé dans leurs poumons ont subi des lésions localisées du tissu pulmonaire, une inflammation, la formation de granulomes (où le corps essaie de murer le graphène) et des lésions pulmonaires persistantes, similaires à ce qui se produit lorsque les humains inhalent de l'amiante. Une étude différente de 2013 a révélé que lorsque des cellules humaines étaient liées au graphène, les cellules étaient endommagées.\n",
      "Afin d'imiter les poumons humains, les scientifiques ont développé des modèles biologiques conçus pour simuler l'impact du graphène en aérosol à haute concentration-graphène sous forme de pulvérisation fine ou de suspension dans l'air à haute concentration- sur les travailleurs industriels. Une de ces études publiée en mars 2020 a révélé qu'une exposition industrielle à vie au graphène induisait une inflammation et affaiblissait la barrière protectrice des poumons simulés...\"\n",
      "Dans une expérience de 2016, des souris avec du graphène placé dans leurs poumons, ont subi des lésions localisées du tissu pulmonaire, une inflammation, la formation de granulomes et des lésions pulmonaires persistantes, similaires à ce qui se produit lorsque les humains inhalent de l'amiante.\n",
      "Une autre étude de 2013 révèle que lorsque les cellules humaines étaient liées au graphène, les cellules étaient endommagées.\n",
      "Le graphène est un matériau extrêmement fin, avec une épaisseur d'un atome, et il est également incroyablement résistant - environ 200 fois plus résistant que l'acier. Il s’agit d’un excellent conducteur de chaleur et d'électricité et possède des capacités d'absorption de la lumière. Il possède un potentiel d'intégration illimité dans presque toutes les industries.\n",
      "Le graphène qui, au microscope, se présente sous la forme de nanoparticules coupantes, lacère les alvéoles pulmonaires.\n",
      "Le graphène est un matériau extrêmement diversifié, qui peut être combiné avec d'autres éléments (notamment des gaz et des métaux) pour produire différents matériaux aux propriétés supérieures variées. Les chercheurs du monde entier poursuivent leurs recherches et déposent des brevets sur le graphène afin d'en connaître les diverses propriétés et les applications possibles, dont les suivantes : les batteries, transistors, les puces d'ordinateur, la production d'énergie, supercondensateurs,- séquençage de l'ADN\n",
      "Le graphène est un matériau qui suscite énormément d’attention depuis que le prix Nobel de physique 2010 a été attribué à André Geim et Konstantin Novosleov, lesquels ont isolé le graphène pour la première fois en 2004.\n",
      "Même l'A.N.S.E.S. (Agence nationale de sécurité sanitaire, de l'alimentation, de l'environnement et du travail) dans un rapport d'octobre 2021, mentionne la présence de graphène dans certains masques et indique que ce graphène est toxique.\n",
      "Ainsi, outre que le fait d'obliger un enfant à respirer incomplètement, et à ne pas voir l'expression du visage des adultes, est considéré par de nombreux psychologues, comme une véritable maltraitance, la présence du graphène dans certains masques, ajoute une atteinte grave à la santé, surtout celle des enfants dont on va lacérer les poumons.\n",
      "Alors que l'on nous affirmait que les enfants contractaient rarement ou pas du tout la maladie, et qu'ils n'étaient pas contagieux, comment les parents ont-ils pu ne pas réagir à l'obligation du port du masque pour leurs enfants ? Cela parait ahurissant.\n",
      "Serions-nous devenus un peuple de moutons peureux ?\n",
      "Donc on ne connaît pas la composition des masques, ni celle des injections de substances génétiques soi-disant anti-Covid, que nous cache-t-on d'autre ?\n",
      "Je serais tenté de dire qu'aujourd'hui, les choses sont tellement évidentes qu'on ne nous cache plus rien : plus c'est gros, moins on le voit !\n",
      "- Contrats signés en 2018 et 2019, notamment concernant des nanoparticules injectables,- Achat d'actions Pfizer pour 65 millions de dollars par Bill Gates en automne 2019 (ce Monsieur, principal organisateur des campagnes de vaccinations dans le monde, aurait-il des dons de voyance extralucide ?)- Simulation de pandémie \"due à un coronavirus\", organisée aux U.S.A. par Bill Gates en automne 2019 (M. Gates a réellement des dons de voyance !)- Interdiction aux médecins de prescrire les traitements connus efficaces, déclenchée avant même le 1er confinement. Donc officiellement \"il n'y a pas de traitement\".- Gonflement énorme des chiffres officiels, alors que, d'après l'A.T.I.H. (l'agence technique de l'information sur l'hospitalisation), organisme officiel, les hospitalisations COVID auraient représenté seulement 2% des hospitalisations en France en 2020 !)- Trucage des chiffres : Un accidenté grave de la route qui décède de ses blessures à l'hôpital, mais qui a été testé positif, sera déclaré \"mort du covid\". Tout comme une personne hospitalisée après une dose de \"vaccin\" qui, vraisemblablement souffre d'une réaction à celui-ci, sera déclarée \"Covid, non vaccinée\", car elle n'a pas le schéma complet. Ceci diminue donc les chiffres pourtant énormes, des effets indésirables graves.- Entretien de la peur en égrenant tous les jours le nombre de \"cas\" (en les additionnant tous les jours, il semblerait qu'il y ait eu plus de \"cas\" que d'habitants en France !) et en inventant un nouveau vocabulaire : les porteurs sains qui ne seront ni malades ni contagieux sont appelés \"malades asymptomatiques\". Donc, des malades qui ne sont pas malades...- Contrats signés entre la Commission européenne et les laboratoires contenant une clause d'exclusion de responsabilité de ceux-ci, et précisant que les parties \"ignorent l'efficacité et la non-toxicité des vaccins\".- Déclarations dès 2020, indiquant que seul le vaccin nous \"sauvera\", avec un matraquage publicitaire inédit.- Masques imposés aux enfants dont on nous disait qu'ils ne risquaient pas de formes graves de la maladie, et qu'ils n'étaient pas contagieux. Ces masques n'avaient donc pas d'autre fonction que d'entretenir la peur,- \"Vaccin qui, pour la première fois dans l'Histoire de la vaccination :- est appelé \"vaccin\", alors qu'il ne s'agit que d'un médicament génique en période d'essai. (nous sommes tous des cobayes)- ne protège que pendant quelques mois. Donc, rappels plusieurs fois par an et à vie !- rend le \"vacciné\" potentiellement contagieux,- n'empêche pas de contracter la maladie.\n",
      "Officiellement, on ne connait pas la composition des injections. Mais des scientifiques dans plusieurs pays ont découvert qu'ils contenaient de l'oxyde de graphène, produit hautement toxique, mais qui a la grande qualité d'être un des meilleurs conducteurs connus des ondes électromagnétiques. Que fait donc ce métal dans un \"vaccin\" ?\n",
      "Vu le nombre impressionnant d'effets indésirables graves, rapportés par l'ANSM (Agence nationale de sécurité du médicament) ou EudraVigilance, vu le nombre d'hospitalisés Covid \"vaccinés\", faudra-t-il remplacer le slogan \"tous vaccinés, tous protégés\" par \"Tous vaccinés, tous contaminés\" ?\n",
      "À moins que le véritable but de tout ce cirque, soit : \"Tous vaccinés, tous identifiés\"...\n",
      "Voir aussi : \"Comment agir en cas de refus de soin ? Entretien avec Me Jean-Pierre Joseph\"\n",
      "Faites un don\n",
      "> Le manifeste\n",
      "Les «aimants» de l’information. De Théophraste Renaudot à Victor Hugo, en passant par Emile de Girardin et Pierre Lazareff, l’histoire de la presse française est jalonnée d’initiatives et de renoncements, de tâtonnements et de critiques, d’échecs et de grands succès. FranceSoir est un rendez-vous journalistique incontournable [...] Lire la suite\n",
      "\n"
     ]
    }
   ],
   "source": [
    "print(text)"
   ]
  },
  {
   "cell_type": "code",
   "execution_count": 20,
   "id": "e90f1270",
   "metadata": {},
   "outputs": [
    {
     "name": "stdout",
     "output_type": "stream",
     "text": [
      "Les masques pourraient générer des cancers : l'avocat Jean-Pierre Joseph lance une procédure\n",
      "ENTRETIEN — Avec l’avocat au barreau de Grenoble et doyen de l’Ordre, Jean-Pierre Joseph, cette fois au sujet de la procédure qu’il a lancée contre le défaut de marquage de la composition sur les boîtes de masques commercialisées. Certains masques ne présenteraient pas leur composition et ceux contenant du graphène pourraient être extrêmement nocifs pour la santé.\n"
     ]
    }
   ],
   "source": [
    "pt = partial_texts(text,2)\n",
    "print(pt)"
   ]
  },
  {
   "cell_type": "code",
   "execution_count": 49,
   "id": "4f36d024",
   "metadata": {},
   "outputs": [],
   "source": [
    "stop_words = ['de',\n",
    " 'la',\n",
    " 'le',\n",
    " 'et',\n",
    " 'les',\n",
    " 'des',\n",
    " 'en',\n",
    " 'un',\n",
    " 'que',\n",
    " 'est',\n",
    " 'du',\n",
    " 'avoir',\n",
    " 'une',\n",
    " 'être',\n",
    " 'pour',\n",
    " 'qui',\n",
    " 'dans',\n",
    " 'il',\n",
    " 'par',\n",
    " 'pas',\n",
    " 'sur',\n",
    " 'au',\n",
    " 'ce',\n",
    " 'plaire',\n",
    " 'qu',\n",
    " 'faire',\n",
    " 'ne',\n",
    " 'pouvoir',\n",
    " 'avec',\n",
    " 'été',\n",
    " 'se',\n",
    " 'tout',\n",
    " 'ou',\n",
    " 'mais',\n",
    " 'nous',\n",
    " 'comme',\n",
    " 'aux',\n",
    " 'son',\n",
    " 'ils',\n",
    " 'cette',\n",
    " 'on',\n",
    " 'elle',\n",
    " 'ces',\n",
    " 'même',\n",
    " 'vous',\n",
    " 'autre',\n",
    " 'état',\n",
    " 'leur',\n",
    " 'si',\n",
    " 'covid',\n",
    " 'sa',\n",
    " 'bien',\n",
    " 'je',\n",
    " 'devoir',\n",
    " 'ses',\n",
    " 'grand',\n",
    " 'personne',\n",
    " 'dire',\n",
    " 'vaccin',\n",
    " 'contre',\n",
    " 'russie',\n",
    " 'après',\n",
    " 'donner',\n",
    " 'cela',\n",
    " 'voir',\n",
    " 'sans',\n",
    " 'pays',\n",
    " 'mettre',\n",
    " 'an',\n",
    " 'aussi',\n",
    " 'monde',\n",
    " 'france',\n",
    " 'depuis',\n",
    " 'uni',\n",
    " 'entre',\n",
    " 'non',\n",
    " 'nouveau',\n",
    " 'russe',\n",
    " 'aller',\n",
    " 'premier',\n",
    " 'deux',\n",
    " 'utiliser',\n",
    " 'leurs',\n",
    " 'politique',\n",
    " 'tous',\n",
    " 'très',\n",
    " 'français',\n",
    " 'selon',\n",
    " 'également',\n",
    " 'prendre',\n",
    " 'dont',\n",
    " 'où',\n",
    " 'guerre']"
   ]
  },
  {
   "cell_type": "markdown",
   "id": "3298b2bd",
   "metadata": {},
   "source": [
    "## Tests Entrainement Logistic regression avec Tf/Idf"
   ]
  },
  {
   "cell_type": "code",
   "execution_count": 50,
   "id": "53283aad",
   "metadata": {},
   "outputs": [],
   "source": [
    "df_ml=df_ml.sample(frac=1,random_state=_rs+1)"
   ]
  },
  {
   "cell_type": "code",
   "execution_count": 51,
   "id": "63f0bbd4",
   "metadata": {},
   "outputs": [],
   "source": [
    "from sklearn.feature_extraction.text import CountVectorizer, TfidfVectorizer\n",
    "from sklearn.model_selection import cross_validate, train_test_split\n",
    "from sklearn.linear_model import LogisticRegression\n",
    "from sklearn.neural_network import MLPClassifier\n",
    "from sklearn.pipeline import Pipeline"
   ]
  },
  {
   "cell_type": "code",
   "execution_count": 180,
   "id": "9a43bbd4",
   "metadata": {},
   "outputs": [],
   "source": [
    "logreg = LogisticRegression(C=10, random_state=_rs, solver='lbfgs', multi_class='ovr', max_iter=1000)"
   ]
  },
  {
   "cell_type": "code",
   "execution_count": 181,
   "id": "d6ac45f9",
   "metadata": {},
   "outputs": [],
   "source": [
    "iw=None\n",
    "pipelineLR = Pipeline(steps = [\n",
    "    ('vectorizer',TfidfVectorizer(preprocessor=None, tokenizer=None, stop_words=iw)), \n",
    "    ('classifier',logreg)\n",
    "                  ])\n"
   ]
  },
  {
   "cell_type": "code",
   "execution_count": 182,
   "id": "3733efdd",
   "metadata": {},
   "outputs": [
    {
     "name": "stdout",
     "output_type": "stream",
     "text": [
      "Crossvalidating nb_parags=1\n",
      "Crossvalidating nb_parags=2\n",
      "Crossvalidating nb_parags=3\n",
      "Crossvalidating nb_parags=5\n",
      "Crossvalidating nb_parags=8\n",
      "Crossvalidating nb_parags=13\n",
      "Crossvalidating nb_parags=21\n",
      "Crossvalidating nb_parags=34\n"
     ]
    }
   ],
   "source": [
    "df_means = {}\n",
    "for nb_parags in [1,2,3,5,8,13,21,34]:\n",
    "    \n",
    "    print(f'Crossvalidating nb_parags={nb_parags}')\n",
    "\n",
    "    X = df_ml['text'].apply(lambda text: partial_texts(text,nb_parags) )\n",
    "    y = df_ml['infox']\n",
    "\n",
    "    classifier = pipelineLR\n",
    "    scores = cross_validate(classifier, X, y, cv=5,scoring=('roc_auc','f1','accuracy','precision','recall'))\n",
    "    df_scores=pd.DataFrame(scores)\n",
    "    df_means[nb_parags] = df_scores.describe().loc['mean']\n"
   ]
  },
  {
   "cell_type": "code",
   "execution_count": 183,
   "id": "5b48527e",
   "metadata": {
    "scrolled": true
   },
   "outputs": [
    {
     "data": {
      "text/html": [
       "<div>\n",
       "<style scoped>\n",
       "    .dataframe tbody tr th:only-of-type {\n",
       "        vertical-align: middle;\n",
       "    }\n",
       "\n",
       "    .dataframe tbody tr th {\n",
       "        vertical-align: top;\n",
       "    }\n",
       "\n",
       "    .dataframe thead th {\n",
       "        text-align: right;\n",
       "    }\n",
       "</style>\n",
       "<table border=\"1\" class=\"dataframe\">\n",
       "  <thead>\n",
       "    <tr style=\"text-align: right;\">\n",
       "      <th></th>\n",
       "      <th>5</th>\n",
       "      <th>8</th>\n",
       "      <th>13</th>\n",
       "    </tr>\n",
       "  </thead>\n",
       "  <tbody>\n",
       "    <tr>\n",
       "      <th>test_accuracy</th>\n",
       "      <td>0.759</td>\n",
       "      <td>0.755</td>\n",
       "      <td>0.778</td>\n",
       "    </tr>\n",
       "    <tr>\n",
       "      <th>test_f1</th>\n",
       "      <td>0.762</td>\n",
       "      <td>0.760</td>\n",
       "      <td>0.778</td>\n",
       "    </tr>\n",
       "  </tbody>\n",
       "</table>\n",
       "</div>"
      ],
      "text/plain": [
       "                  5      8      13\n",
       "test_accuracy  0.759  0.755  0.778\n",
       "test_f1        0.762  0.760  0.778"
      ]
     },
     "execution_count": 183,
     "metadata": {},
     "output_type": "execute_result"
    }
   ],
   "source": [
    "pd.set_option('display.precision',3)\n",
    "bench = pd.DataFrame(df_means)\n",
    "bench.loc[['test_accuracy','test_f1'],[5,8,13]]"
   ]
  },
  {
   "cell_type": "code",
   "execution_count": 184,
   "id": "6066c4dc",
   "metadata": {},
   "outputs": [
    {
     "data": {
      "text/plain": [
       "<Axes: >"
      ]
     },
     "execution_count": 184,
     "metadata": {},
     "output_type": "execute_result"
    },
    {
     "data": {
      "image/png": "[encoded data removed]",
      "text/plain": [
       "<Figure size 640x480 with 1 Axes>"
      ]
     },
     "metadata": {},
     "output_type": "display_data"
    }
   ],
   "source": [
    "sns.lineplot(data=bench.T[['test_accuracy','test_f1','test_recall']])"
   ]
  },
  {
   "cell_type": "code",
   "execution_count": 185,
   "id": "8b575c02",
   "metadata": {},
   "outputs": [
    {
     "data": {
      "text/plain": [
       "<Axes: xlabel='test_accuracy', ylabel='test_recall'>"
      ]
     },
     "execution_count": 185,
     "metadata": {},
     "output_type": "execute_result"
    },
    {
     "data": {
      "image/png": "[encoded data removed]",
      "text/plain": [
       "<Figure size 640x480 with 1 Axes>"
      ]
     },
     "metadata": {},
     "output_type": "display_data"
    }
   ],
   "source": [
    "sns.scatterplot(data=bench.T,x='test_accuracy',y='test_recall',hue=bench.T.index)"
   ]
  },
  {
   "cell_type": "code",
   "execution_count": 186,
   "id": "f5258fac",
   "metadata": {},
   "outputs": [
    {
     "data": {
      "text/html": [
       "<div>\n",
       "<style scoped>\n",
       "    .dataframe tbody tr th:only-of-type {\n",
       "        vertical-align: middle;\n",
       "    }\n",
       "\n",
       "    .dataframe tbody tr th {\n",
       "        vertical-align: top;\n",
       "    }\n",
       "\n",
       "    .dataframe thead th {\n",
       "        text-align: right;\n",
       "    }\n",
       "</style>\n",
       "<table border=\"1\" class=\"dataframe\">\n",
       "  <thead>\n",
       "    <tr style=\"text-align: right;\">\n",
       "      <th></th>\n",
       "      <th>1</th>\n",
       "      <th>2</th>\n",
       "      <th>3</th>\n",
       "      <th>5</th>\n",
       "      <th>8</th>\n",
       "      <th>13</th>\n",
       "      <th>21</th>\n",
       "      <th>34</th>\n",
       "    </tr>\n",
       "  </thead>\n",
       "  <tbody>\n",
       "    <tr>\n",
       "      <th>fit_time</th>\n",
       "      <td>0.019</td>\n",
       "      <td>0.043</td>\n",
       "      <td>0.067</td>\n",
       "      <td>0.114</td>\n",
       "      <td>0.147</td>\n",
       "      <td>0.224</td>\n",
       "      <td>0.270</td>\n",
       "      <td>0.298</td>\n",
       "    </tr>\n",
       "    <tr>\n",
       "      <th>score_time</th>\n",
       "      <td>0.005</td>\n",
       "      <td>0.009</td>\n",
       "      <td>0.015</td>\n",
       "      <td>0.025</td>\n",
       "      <td>0.036</td>\n",
       "      <td>0.051</td>\n",
       "      <td>0.066</td>\n",
       "      <td>0.079</td>\n",
       "    </tr>\n",
       "    <tr>\n",
       "      <th>test_roc_auc</th>\n",
       "      <td>0.700</td>\n",
       "      <td>0.805</td>\n",
       "      <td>0.798</td>\n",
       "      <td>0.820</td>\n",
       "      <td>0.828</td>\n",
       "      <td>0.842</td>\n",
       "      <td>0.847</td>\n",
       "      <td>0.847</td>\n",
       "    </tr>\n",
       "    <tr>\n",
       "      <th>test_f1</th>\n",
       "      <td>0.665</td>\n",
       "      <td>0.724</td>\n",
       "      <td>0.741</td>\n",
       "      <td>0.762</td>\n",
       "      <td>0.760</td>\n",
       "      <td>0.778</td>\n",
       "      <td>0.783</td>\n",
       "      <td>0.780</td>\n",
       "    </tr>\n",
       "    <tr>\n",
       "      <th>test_accuracy</th>\n",
       "      <td>0.654</td>\n",
       "      <td>0.719</td>\n",
       "      <td>0.735</td>\n",
       "      <td>0.759</td>\n",
       "      <td>0.755</td>\n",
       "      <td>0.778</td>\n",
       "      <td>0.782</td>\n",
       "      <td>0.779</td>\n",
       "    </tr>\n",
       "    <tr>\n",
       "      <th>test_precision</th>\n",
       "      <td>0.647</td>\n",
       "      <td>0.713</td>\n",
       "      <td>0.725</td>\n",
       "      <td>0.752</td>\n",
       "      <td>0.742</td>\n",
       "      <td>0.775</td>\n",
       "      <td>0.777</td>\n",
       "      <td>0.773</td>\n",
       "    </tr>\n",
       "    <tr>\n",
       "      <th>test_recall</th>\n",
       "      <td>0.686</td>\n",
       "      <td>0.737</td>\n",
       "      <td>0.759</td>\n",
       "      <td>0.775</td>\n",
       "      <td>0.780</td>\n",
       "      <td>0.783</td>\n",
       "      <td>0.791</td>\n",
       "      <td>0.791</td>\n",
       "    </tr>\n",
       "  </tbody>\n",
       "</table>\n",
       "</div>"
      ],
      "text/plain": [
       "                   1      2      3      5      8      13     21     34\n",
       "fit_time        0.019  0.043  0.067  0.114  0.147  0.224  0.270  0.298\n",
       "score_time      0.005  0.009  0.015  0.025  0.036  0.051  0.066  0.079\n",
       "test_roc_auc    0.700  0.805  0.798  0.820  0.828  0.842  0.847  0.847\n",
       "test_f1         0.665  0.724  0.741  0.762  0.760  0.778  0.783  0.780\n",
       "test_accuracy   0.654  0.719  0.735  0.759  0.755  0.778  0.782  0.779\n",
       "test_precision  0.647  0.713  0.725  0.752  0.742  0.775  0.777  0.773\n",
       "test_recall     0.686  0.737  0.759  0.775  0.780  0.783  0.791  0.791"
      ]
     },
     "execution_count": 186,
     "metadata": {},
     "output_type": "execute_result"
    }
   ],
   "source": [
    "bench"
   ]
  },
  {
   "cell_type": "markdown",
   "id": "ba6cf885",
   "metadata": {},
   "source": [
    "# Embedings\n",
    "---"
   ]
  },
  {
   "cell_type": "code",
   "execution_count": 63,
   "id": "31ffcc00",
   "metadata": {},
   "outputs": [
    {
     "name": "stdout",
     "output_type": "stream",
     "text": [
      "device : mps\n"
     ]
    }
   ],
   "source": [
    "import torch\n",
    "device = 'mps' if torch.backends.mps.is_available() else 'cpu'\n",
    "print(f'device : {device}')"
   ]
  },
  {
   "cell_type": "code",
   "execution_count": 89,
   "id": "b471d3b8",
   "metadata": {},
   "outputs": [
    {
     "name": "stderr",
     "output_type": "stream",
     "text": [
      "Some weights of the model checkpoint at camembert-base were not used when initializing CamembertModel: ['lm_head.layer_norm.weight', 'lm_head.decoder.weight', 'lm_head.dense.bias', 'lm_head.bias', 'lm_head.layer_norm.bias', 'lm_head.dense.weight']\n",
      "- This IS expected if you are initializing CamembertModel from the checkpoint of a model trained on another task or with another architecture (e.g. initializing a BertForSequenceClassification model from a BertForPreTraining model).\n",
      "- This IS NOT expected if you are initializing CamembertModel from the checkpoint of a model that you expect to be exactly identical (initializing a BertForSequenceClassification model from a BertForSequenceClassification model).\n"
     ]
    }
   ],
   "source": [
    "from transformers import AutoTokenizer, AutoModel\n",
    "\n",
    "tokenizer = AutoTokenizer.from_pretrained('camembert-base')\n",
    "model = AutoModel.from_pretrained('camembert-base').to(device)"
   ]
  },
  {
   "cell_type": "markdown",
   "id": "dd6a5b0b",
   "metadata": {},
   "source": [
    "### Nombre de tokens"
   ]
  },
  {
   "cell_type": "code",
   "execution_count": 187,
   "id": "b90b04ba",
   "metadata": {},
   "outputs": [],
   "source": [
    "def token_count(text):\n",
    "    input_ids = tokenizer.encode(text,add_special_tokens=True,return_tensors='pt').to(device)\n",
    "    return input_ids.shape[1]"
   ]
  },
  {
   "cell_type": "code",
   "execution_count": 188,
   "id": "721f93bf",
   "metadata": {},
   "outputs": [
    {
     "name": "stdout",
     "output_type": "stream",
     "text": [
      "huggingface/tokenizers: The current process just got forked, after parallelism has already been used. Disabling parallelism to avoid deadlocks...\n",
      "To disable this warning, you can either:\n",
      "\t- Avoid using `tokenizers` before the fork if possible\n",
      "\t- Explicitly set the environment variable TOKENIZERS_PARALLELISM=(true | false)\n"
     ]
    },
    {
     "data": {
      "application/vnd.jupyter.widget-view+json": {
       "model_id": "39acefc17662445d86bbefa62103a301",
       "version_major": 2,
       "version_minor": 0
      },
      "text/plain": [
       "  0%|          | 0/900 [00:00<?, ?it/s]"
      ]
     },
     "metadata": {},
     "output_type": "display_data"
    }
   ],
   "source": [
    "df_label['token_count']=df_label['text'].progress_apply(token_count)"
   ]
  },
  {
   "cell_type": "code",
   "execution_count": 198,
   "id": "f12a29bd",
   "metadata": {},
   "outputs": [
    {
     "data": {
      "text/plain": [
       "<seaborn.axisgrid.FacetGrid at 0x53b2e9190>"
      ]
     },
     "execution_count": 198,
     "metadata": {},
     "output_type": "execute_result"
    },
    {
     "data": {
      "image/png": "[encoded data removed]",
      "text/plain": [
       "<Figure size 500x500 with 1 Axes>"
      ]
     },
     "metadata": {},
     "output_type": "display_data"
    }
   ],
   "source": [
    "max_tokens = 2000\n",
    "sns.displot(df_label[df_label['token_count']<max_tokens],x='token_count')"
   ]
  },
  {
   "cell_type": "code",
   "execution_count": 199,
   "id": "3c422dc3",
   "metadata": {},
   "outputs": [
    {
     "data": {
      "text/plain": [
       "<Axes: xlabel='infox', ylabel='count'>"
      ]
     },
     "execution_count": 199,
     "metadata": {},
     "output_type": "execute_result"
    },
    {
     "data": {
      "image/png": "[encoded data removed]",
      "text/plain": [
       "<Figure size 640x480 with 1 Axes>"
      ]
     },
     "metadata": {},
     "output_type": "display_data"
    }
   ],
   "source": [
    "label_count = df_label[df_label['token_count']>max_tokens]['infox'].value_counts()\n",
    "sns.barplot(x=label_count.index, y=label_count)"
   ]
  },
  {
   "cell_type": "code",
   "execution_count": 153,
   "id": "19346167",
   "metadata": {},
   "outputs": [],
   "source": [
    "## function to generate BERT embeddings\n",
    "def get_bert_embeddings(text):\n",
    "    input_ids = tokenizer.encode(text,add_special_tokens=True,return_tensors='pt').to(device)\n",
    "    input_ids = input_ids[:,:512]\n",
    "    with torch.inference_mode():\n",
    "        last_hidden_state = model(input_ids)[0].to(device)\n",
    "        embeddings = torch.mean(last_hidden_state,dim=1).squeeze().to(device)\n",
    "        \n",
    "    return embeddings.cpu().numpy()"
   ]
  },
  {
   "cell_type": "code",
   "execution_count": 154,
   "id": "fc031517",
   "metadata": {},
   "outputs": [
    {
     "data": {
      "text/plain": [
       "'Les réseaux sociaux coupés volontairement ? Que s’est-il passé ?\\nIl semblerait que la panne mondiale des réseaux sociaux liés en partie à Facebook ait été volontairement décidée, en effet, tout ne peut sauter au même moment. 1,5 milliards d’utilisateurs down, du jamais vu. était-ce un test ?\\nPendant environ sept heures, les réseaux sociaux Facebook et Instagram mais aussi les messageries WhatsApp ou Messenger étaient totalement inaccessibles. Ce mardi matin, tout est revenu à la normale. Facebook a expliqué par un «\\xa0changement de configuration erroné\\xa0» la panne d’envergure mondiale.\\nPlus de trois milliards d’utilisateurs impactés. Le géant américain du numérique, qui a fait cette annonce dans un message sur son blog lundi soir, n’a pas précisé qui a opéré le changement de configuration et si celui-ci était planifié.\\nPlus tôt, plusieurs employés de Facebook, qui ont refusé d’être identifiés et avaient perdu accès à leurs propres outils en raison de la panne, ont déclaré à Reuters que la panne provenait selon eux d’une erreur interne sur l’acheminement du trafic vers les serveurs DNS (Domain Name System). Des experts en sécurité informatique ont estimé que\\xa0la panne était probablement imputable à une erreur de configuration, sans doute en interne, sans écarter l’hypothèse théorique d’un sabotage.\\xa0Une attaque venant de l’extérieur leur semblait beaucoup moins plausible, car supposant une coordination massive ou une technique très innovante.\\nIl s’agit de\\xa0la panne la plus importante jamais connue par Facebook, selon le site spécialisé Downdetector, qui recense les messages d’alertes diffusés par les utilisateurs.\\nCette panne\\xa0est survenue au lendemain de la prise de parole sur CBS d’une lanceuse d’alerte, ancienne employée de Facebook, accusant le réseau social aux près de 2 milliards d’utilisateurs actifs d’avoir privilégié ses intérêts aux dépens de ses abonnés et du contrôle des contenus haineux et de la désinformation.\\nL’action Facebook, déjà à la baisse à l’ouverture de Wall Street à la suite de ces propos, a perdu 4,90 % à la Bourse de New York, où l’ensemble des valeurs technologiques a été malmené dans un contexte de hausse des rendements obligataires. «\\xa0A toutes les petites et grandes entreprises, familles et personnes qui dépendent de nous, je suis désolé\\xa0», a écrit sur Twitter le directeur de la technologie de Facebook, Mike Schroepfer, ajoutant qu’il pourrait falloir du temps pour «\\xa0revenir à 100%\\xa0».\\nFacebook perdrait 160 millions de dollars par heure depuis le début de la panne, et Zuckerberg aurait déjà perdu 7 milliards de dollars, explique la journaliste US Joyce Karam de «\\xa0The National News\\xa0». Le cours en bourse décroche… #facebookdown #SocialMediaDown pic.twitter.com/7upc0MrUHa\\n— Nils Wilcke (@paul_denton) October 4, 2021\\nFacebook, deuxième plus grande plate-forme publicitaire en ligne au monde, perdait environ 545 000 dollars (469 000 euros) par heure de revenus publicitaires pendant la panne, selon les estimations de la société Standard Media Index. Le réseau social avait déjà subi des pannes de grande ampleur en mars et juillet derniers. Ces pannes avaient eu un impact très relatif à long-terme sur la croissance des revenus du groupe.\\nL’accès à Facebook, à Instagram, et à WhatsApp a été affecté lundi 4 octobre vers 16 h GMT, avant que certains utilisateurs parviennent de nouveau à accéder au réseau social vers 21 h 45 GMT.\\nPeu après le début de la panne, Facebook a admis les difficultés de ses utilisateurs, sans toutefois donner de précisions sur la nature du problème ni le nombre d’utilisateurs affectés.\\nhttps://www.midilibre.fr/2021/10/05/fin-de-la-panne-mondiale-chez-facebook-instagram-whatsapp-et-messenger-une-erreur-interne-9831871.php\\n'"
      ]
     },
     "execution_count": 154,
     "metadata": {},
     "output_type": "execute_result"
    }
   ],
   "source": [
    "text = df_ml['text'][1]\n",
    "text"
   ]
  },
  {
   "cell_type": "code",
   "execution_count": 155,
   "id": "aee256c4",
   "metadata": {},
   "outputs": [],
   "source": [
    "t = tokenizer.encode(text,add_special_tokens=True,return_tensors='pt')"
   ]
  },
  {
   "cell_type": "code",
   "execution_count": 156,
   "id": "bfc3e90f",
   "metadata": {},
   "outputs": [
    {
     "data": {
      "text/plain": [
       "818"
      ]
     },
     "execution_count": 156,
     "metadata": {},
     "output_type": "execute_result"
    }
   ],
   "source": [
    "t.shape[1]"
   ]
  },
  {
   "cell_type": "code",
   "execution_count": 157,
   "id": "5439237a",
   "metadata": {},
   "outputs": [
    {
     "data": {
      "text/plain": [
       "torch.Size([1, 512])"
      ]
     },
     "execution_count": 157,
     "metadata": {},
     "output_type": "execute_result"
    }
   ],
   "source": [
    "t[:,:512].shape"
   ]
  },
  {
   "cell_type": "code",
   "execution_count": 175,
   "id": "6f123548",
   "metadata": {},
   "outputs": [],
   "source": [
    "nb_parags = 13\n",
    "def cut_text(text):\n",
    "    result = partial_texts(text,nb_parags)\n",
    "    return result"
   ]
  },
  {
   "cell_type": "code",
   "execution_count": 169,
   "id": "82a4a93c",
   "metadata": {},
   "outputs": [
    {
     "data": {
      "text/plain": [
       "<seaborn.axisgrid.FacetGrid at 0x41b12ff10>"
      ]
     },
     "execution_count": 169,
     "metadata": {},
     "output_type": "execute_result"
    },
    {
     "data": {
      "image/png": "[encoded data removed]",
      "text/plain": [
       "<Figure size 500x500 with 1 Axes>"
      ]
     },
     "metadata": {},
     "output_type": "display_data"
    }
   ],
   "source": [
    "sns.displot(df_ml,x=df_ml['text'].apply(lambda text: len(partial_texts(text,nb_parags))))"
   ]
  },
  {
   "cell_type": "code",
   "execution_count": 170,
   "id": "d8c984b6",
   "metadata": {},
   "outputs": [],
   "source": [
    "df_ml['text_cut']=df_ml['text'].apply(cut_text)"
   ]
  },
  {
   "cell_type": "code",
   "execution_count": 176,
   "id": "7a6247eb",
   "metadata": {},
   "outputs": [
    {
     "name": "stdout",
     "output_type": "stream",
     "text": [
      "CPU times: user 27.5 s, sys: 2.82 s, total: 30.4 s\n",
      "Wall time: 33.5 s\n"
     ]
    }
   ],
   "source": [
    "%%time\n",
    "import numpy as np\n",
    "## Generate embeddings for the text data using BERT\n",
    "embeddings = np.array([get_bert_embeddings(text) for text in df_ml['text']])\n",
    "labels = df_ml['infox']"
   ]
  },
  {
   "cell_type": "markdown",
   "id": "e93f3cb2",
   "metadata": {},
   "source": [
    "## Crossvalidation Logistic Regression"
   ]
  },
  {
   "cell_type": "code",
   "execution_count": 177,
   "id": "d5755907",
   "metadata": {},
   "outputs": [],
   "source": [
    "from sklearn.feature_extraction.text import CountVectorizer, TfidfVectorizer\n",
    "from sklearn.model_selection import cross_validate, train_test_split\n",
    "from sklearn.linear_model import LogisticRegression\n",
    "from sklearn.pipeline import Pipeline"
   ]
  },
  {
   "cell_type": "code",
   "execution_count": 179,
   "id": "57326eb3",
   "metadata": {},
   "outputs": [
    {
     "name": "stdout",
     "output_type": "stream",
     "text": [
      "CPU times: user 260 ms, sys: 65.7 ms, total: 326 ms\n",
      "Wall time: 152 ms\n"
     ]
    },
    {
     "data": {
      "text/plain": [
       "fit_time          0.021\n",
       "score_time        0.003\n",
       "test_accuracy     0.770\n",
       "test_f1           0.770\n",
       "test_recall       0.778\n",
       "test_precision    0.765\n",
       "test_roc_auc      0.850\n",
       "dtype: float64"
      ]
     },
     "execution_count": 179,
     "metadata": {},
     "output_type": "execute_result"
    }
   ],
   "source": [
    "%%time\n",
    "classifier = LogisticRegression(C=1, random_state=_rs, solver='lbfgs', multi_class='ovr', max_iter=1000)\n",
    "#classifier = MLPClassifier(alpha=1, max_iter=1000, hidden_layer_sizes=(8,8), random_state=_rs)\n",
    "scores = cross_validate(classifier, embeddings, labels, cv=6,scoring=('accuracy','f1','recall','precision','roc_auc'))\n",
    "df_scores=pd.DataFrame(scores)\n",
    "df_scores.mean()"
   ]
  },
  {
   "cell_type": "markdown",
   "id": "fe82d17c",
   "metadata": {},
   "source": [
    "## Algo Benchmark"
   ]
  },
  {
   "cell_type": "code",
   "execution_count": 118,
   "id": "24988090",
   "metadata": {},
   "outputs": [],
   "source": [
    "import patat.ml.benchmark"
   ]
  },
  {
   "cell_type": "code",
   "execution_count": 119,
   "id": "1211bf12",
   "metadata": {},
   "outputs": [
    {
     "data": {
      "text/plain": [
       "<module 'patat.ml.benchmark' from '/Volumes/Geek/Work/Patat/patat/ml/benchmark.py'>"
      ]
     },
     "execution_count": 119,
     "metadata": {},
     "output_type": "execute_result"
    }
   ],
   "source": [
    "importlib.reload(patat.ml.benchmark)"
   ]
  },
  {
   "cell_type": "code",
   "execution_count": 120,
   "id": "cf1d3c13",
   "metadata": {},
   "outputs": [],
   "source": [
    "bench = patat.ml.benchmark.Benchmark()"
   ]
  },
  {
   "cell_type": "code",
   "execution_count": 121,
   "id": "7bdfd4df",
   "metadata": {},
   "outputs": [
    {
     "name": "stderr",
     "output_type": "stream",
     "text": [
      "INFO:root:Training Logistic Regression\n",
      "INFO:root:Training time : 0.019084930419921875 s\n",
      "INFO:root:Training Neural Network\n",
      "INFO:root:Training time : 1.393956184387207 s\n",
      "INFO:root:Training RBF SVM\n",
      "INFO:root:Training time : 0.31381821632385254 s\n",
      "INFO:root:Training Gaussian Naive Bayes\n",
      "INFO:root:Training time : 0.0016489028930664062 s\n",
      "INFO:root:Training Nearest Neighbors\n",
      "INFO:root:Training time : 0.0004489421844482422 s\n",
      "INFO:root:Training Linear SVM\n",
      "INFO:root:Training time : 0.2600109577178955 s\n",
      "INFO:root:Training Gaussian Process\n",
      "INFO:root:Training time : 1.2370100021362305 s\n",
      "INFO:root:Training Decision Tree\n",
      "INFO:root:Training time : 0.12503695487976074 s\n",
      "INFO:root:Training Random Forest\n",
      "INFO:root:Training time : 0.007836103439331055 s\n",
      "INFO:root:Training AdaBoost\n",
      "INFO:root:Training time : 1.5137488842010498 s\n",
      "INFO:root:Training QDA\n",
      "/opt/homebrew/Caskroom/miniforge/base/envs/pt39/lib/python3.9/site-packages/sklearn/discriminant_analysis.py:926: UserWarning: Variables are collinear\n",
      "  warnings.warn(\"Variables are collinear\")\n",
      "INFO:root:Training time : 0.3556947708129883 s\n",
      "INFO:root:Training Gradient Boosting\n",
      "INFO:root:Training time : 3.411015748977661 s\n",
      "INFO:root:Training Dummy\n",
      "INFO:root:Training time : 0.0002377033233642578 s\n",
      "INFO:root:Training Done !\n",
      "INFO:root:Best ROC AUC : 0.8784074605451937\n"
     ]
    }
   ],
   "source": [
    "df_bench=bench.benchmark(embeddings,labels)"
   ]
  },
  {
   "cell_type": "code",
   "execution_count": 122,
   "id": "332c932f",
   "metadata": {},
   "outputs": [
    {
     "data": {
      "text/html": [
       "<div>\n",
       "<style scoped>\n",
       "    .dataframe tbody tr th:only-of-type {\n",
       "        vertical-align: middle;\n",
       "    }\n",
       "\n",
       "    .dataframe tbody tr th {\n",
       "        vertical-align: top;\n",
       "    }\n",
       "\n",
       "    .dataframe thead th {\n",
       "        text-align: right;\n",
       "    }\n",
       "</style>\n",
       "<table border=\"1\" class=\"dataframe\">\n",
       "  <thead>\n",
       "    <tr style=\"text-align: right;\">\n",
       "      <th></th>\n",
       "      <th>roc_auc</th>\n",
       "      <th>f1</th>\n",
       "      <th>accuracy</th>\n",
       "      <th>recall</th>\n",
       "      <th>log_loss</th>\n",
       "      <th>false_positive</th>\n",
       "      <th>false_negative</th>\n",
       "      <th>fit_time</th>\n",
       "      <th>proba_time</th>\n",
       "    </tr>\n",
       "  </thead>\n",
       "  <tbody>\n",
       "    <tr>\n",
       "      <th>Logistic Regression</th>\n",
       "      <td>0.868</td>\n",
       "      <td>0.766</td>\n",
       "      <td>0.780</td>\n",
       "      <td>0.794</td>\n",
       "      <td>7.930</td>\n",
       "      <td>0.127</td>\n",
       "      <td>0.093</td>\n",
       "      <td>1.908e-02</td>\n",
       "      <td>2.732e-04</td>\n",
       "    </tr>\n",
       "    <tr>\n",
       "      <th>Neural Network</th>\n",
       "      <td>0.877</td>\n",
       "      <td>0.803</td>\n",
       "      <td>0.820</td>\n",
       "      <td>0.809</td>\n",
       "      <td>6.488</td>\n",
       "      <td>0.093</td>\n",
       "      <td>0.087</td>\n",
       "      <td>1.394e+00</td>\n",
       "      <td>4.222e-04</td>\n",
       "    </tr>\n",
       "    <tr>\n",
       "      <th>RBF SVM</th>\n",
       "      <td>0.872</td>\n",
       "      <td>0.767</td>\n",
       "      <td>0.773</td>\n",
       "      <td>0.824</td>\n",
       "      <td>8.170</td>\n",
       "      <td>0.147</td>\n",
       "      <td>0.080</td>\n",
       "      <td>3.138e-01</td>\n",
       "      <td>2.178e-02</td>\n",
       "    </tr>\n",
       "    <tr>\n",
       "      <th>Gaussian Naive Bayes</th>\n",
       "      <td>0.816</td>\n",
       "      <td>0.738</td>\n",
       "      <td>0.753</td>\n",
       "      <td>0.765</td>\n",
       "      <td>8.891</td>\n",
       "      <td>0.140</td>\n",
       "      <td>0.107</td>\n",
       "      <td>1.649e-03</td>\n",
       "      <td>4.199e-04</td>\n",
       "    </tr>\n",
       "    <tr>\n",
       "      <th>Nearest Neighbors</th>\n",
       "      <td>0.813</td>\n",
       "      <td>0.745</td>\n",
       "      <td>0.753</td>\n",
       "      <td>0.794</td>\n",
       "      <td>8.891</td>\n",
       "      <td>0.153</td>\n",
       "      <td>0.093</td>\n",
       "      <td>4.489e-04</td>\n",
       "      <td>5.445e-03</td>\n",
       "    </tr>\n",
       "    <tr>\n",
       "      <th>Linear SVM</th>\n",
       "      <td>0.809</td>\n",
       "      <td>0.723</td>\n",
       "      <td>0.713</td>\n",
       "      <td>0.824</td>\n",
       "      <td>10.333</td>\n",
       "      <td>0.207</td>\n",
       "      <td>0.080</td>\n",
       "      <td>2.600e-01</td>\n",
       "      <td>1.194e-02</td>\n",
       "    </tr>\n",
       "    <tr>\n",
       "      <th>Gaussian Process</th>\n",
       "      <td>0.878</td>\n",
       "      <td>0.774</td>\n",
       "      <td>0.793</td>\n",
       "      <td>0.779</td>\n",
       "      <td>7.449</td>\n",
       "      <td>0.107</td>\n",
       "      <td>0.100</td>\n",
       "      <td>1.237e+00</td>\n",
       "      <td>2.490e-02</td>\n",
       "    </tr>\n",
       "    <tr>\n",
       "      <th>Decision Tree</th>\n",
       "      <td>0.654</td>\n",
       "      <td>0.688</td>\n",
       "      <td>0.680</td>\n",
       "      <td>0.779</td>\n",
       "      <td>11.534</td>\n",
       "      <td>0.220</td>\n",
       "      <td>0.100</td>\n",
       "      <td>1.250e-01</td>\n",
       "      <td>8.106e-05</td>\n",
       "    </tr>\n",
       "    <tr>\n",
       "      <th>Random Forest</th>\n",
       "      <td>0.701</td>\n",
       "      <td>0.667</td>\n",
       "      <td>0.653</td>\n",
       "      <td>0.765</td>\n",
       "      <td>12.495</td>\n",
       "      <td>0.240</td>\n",
       "      <td>0.107</td>\n",
       "      <td>7.836e-03</td>\n",
       "      <td>7.610e-04</td>\n",
       "    </tr>\n",
       "    <tr>\n",
       "      <th>AdaBoost</th>\n",
       "      <td>0.803</td>\n",
       "      <td>0.707</td>\n",
       "      <td>0.740</td>\n",
       "      <td>0.691</td>\n",
       "      <td>9.371</td>\n",
       "      <td>0.120</td>\n",
       "      <td>0.140</td>\n",
       "      <td>1.514e+00</td>\n",
       "      <td>3.067e-03</td>\n",
       "    </tr>\n",
       "    <tr>\n",
       "      <th>QDA</th>\n",
       "      <td>0.516</td>\n",
       "      <td>0.503</td>\n",
       "      <td>0.513</td>\n",
       "      <td>0.544</td>\n",
       "      <td>17.541</td>\n",
       "      <td>0.280</td>\n",
       "      <td>0.207</td>\n",
       "      <td>3.557e-01</td>\n",
       "      <td>7.001e-03</td>\n",
       "    </tr>\n",
       "    <tr>\n",
       "      <th>Gradient Boosting</th>\n",
       "      <td>0.852</td>\n",
       "      <td>0.743</td>\n",
       "      <td>0.760</td>\n",
       "      <td>0.765</td>\n",
       "      <td>8.650</td>\n",
       "      <td>0.133</td>\n",
       "      <td>0.107</td>\n",
       "      <td>3.411e+00</td>\n",
       "      <td>1.269e-02</td>\n",
       "    </tr>\n",
       "    <tr>\n",
       "      <th>Dummy</th>\n",
       "      <td>0.500</td>\n",
       "      <td>0.427</td>\n",
       "      <td>0.427</td>\n",
       "      <td>0.471</td>\n",
       "      <td>20.665</td>\n",
       "      <td>0.333</td>\n",
       "      <td>0.240</td>\n",
       "      <td>2.377e-04</td>\n",
       "      <td>1.471e-04</td>\n",
       "    </tr>\n",
       "  </tbody>\n",
       "</table>\n",
       "</div>"
      ],
      "text/plain": [
       "                      roc_auc     f1  accuracy  recall  log_loss   \n",
       "Logistic Regression     0.868  0.766     0.780   0.794     7.930  \\\n",
       "Neural Network          0.877  0.803     0.820   0.809     6.488   \n",
       "RBF SVM                 0.872  0.767     0.773   0.824     8.170   \n",
       "Gaussian Naive Bayes    0.816  0.738     0.753   0.765     8.891   \n",
       "Nearest Neighbors       0.813  0.745     0.753   0.794     8.891   \n",
       "Linear SVM              0.809  0.723     0.713   0.824    10.333   \n",
       "Gaussian Process        0.878  0.774     0.793   0.779     7.449   \n",
       "Decision Tree           0.654  0.688     0.680   0.779    11.534   \n",
       "Random Forest           0.701  0.667     0.653   0.765    12.495   \n",
       "AdaBoost                0.803  0.707     0.740   0.691     9.371   \n",
       "QDA                     0.516  0.503     0.513   0.544    17.541   \n",
       "Gradient Boosting       0.852  0.743     0.760   0.765     8.650   \n",
       "Dummy                   0.500  0.427     0.427   0.471    20.665   \n",
       "\n",
       "                      false_positive  false_negative   fit_time  proba_time  \n",
       "Logistic Regression            0.127           0.093  1.908e-02   2.732e-04  \n",
       "Neural Network                 0.093           0.087  1.394e+00   4.222e-04  \n",
       "RBF SVM                        0.147           0.080  3.138e-01   2.178e-02  \n",
       "Gaussian Naive Bayes           0.140           0.107  1.649e-03   4.199e-04  \n",
       "Nearest Neighbors              0.153           0.093  4.489e-04   5.445e-03  \n",
       "Linear SVM                     0.207           0.080  2.600e-01   1.194e-02  \n",
       "Gaussian Process               0.107           0.100  1.237e+00   2.490e-02  \n",
       "Decision Tree                  0.220           0.100  1.250e-01   8.106e-05  \n",
       "Random Forest                  0.240           0.107  7.836e-03   7.610e-04  \n",
       "AdaBoost                       0.120           0.140  1.514e+00   3.067e-03  \n",
       "QDA                            0.280           0.207  3.557e-01   7.001e-03  \n",
       "Gradient Boosting              0.133           0.107  3.411e+00   1.269e-02  \n",
       "Dummy                          0.333           0.240  2.377e-04   1.471e-04  "
      ]
     },
     "execution_count": 122,
     "metadata": {},
     "output_type": "execute_result"
    }
   ],
   "source": [
    "df_bench"
   ]
  },
  {
   "cell_type": "code",
   "execution_count": 123,
   "id": "7404db4e",
   "metadata": {},
   "outputs": [
    {
     "data": {
      "text/plain": [
       "<Axes: xlabel='f1', ylabel='accuracy'>"
      ]
     },
     "execution_count": 123,
     "metadata": {},
     "output_type": "execute_result"
    },
    {
     "data": {
      "image/png": "[encoded data removed]",
      "text/plain": [
       "<Figure size 640x480 with 1 Axes>"
      ]
     },
     "metadata": {},
     "output_type": "display_data"
    }
   ],
   "source": [
    "sns.scatterplot(df_bench,y='accuracy',x='f1',hue=df_bench.index)"
   ]
  },
  {
   "cell_type": "markdown",
   "id": "b26df330",
   "metadata": {},
   "source": [
    "# Fine Tuning\n",
    "---"
   ]
  },
  {
   "cell_type": "code",
   "execution_count": 205,
   "id": "c26aeaba",
   "metadata": {},
   "outputs": [
    {
     "name": "stderr",
     "output_type": "stream",
     "text": [
      "Some weights of the model checkpoint at camembert-base were not used when initializing CamembertForSequenceClassification: ['lm_head.layer_norm.weight', 'lm_head.decoder.weight', 'lm_head.dense.bias', 'roberta.pooler.dense.weight', 'roberta.pooler.dense.bias', 'lm_head.bias', 'lm_head.layer_norm.bias', 'lm_head.dense.weight']\n",
      "- This IS expected if you are initializing CamembertForSequenceClassification from the checkpoint of a model trained on another task or with another architecture (e.g. initializing a BertForSequenceClassification model from a BertForPreTraining model).\n",
      "- This IS NOT expected if you are initializing CamembertForSequenceClassification from the checkpoint of a model that you expect to be exactly identical (initializing a BertForSequenceClassification model from a BertForSequenceClassification model).\n",
      "Some weights of CamembertForSequenceClassification were not initialized from the model checkpoint at camembert-base and are newly initialized: ['classifier.out_proj.weight', 'classifier.dense.weight', 'classifier.out_proj.bias', 'classifier.dense.bias']\n",
      "You should probably TRAIN this model on a down-stream task to be able to use it for predictions and inference.\n"
     ]
    }
   ],
   "source": [
    "from transformers import AutoModelForSequenceClassification\n",
    "\n",
    "model = AutoModelForSequenceClassification.from_pretrained(\"camembert-base\", num_labels=2)"
   ]
  },
  {
   "cell_type": "code",
   "execution_count": 203,
   "id": "87116eac",
   "metadata": {},
   "outputs": [],
   "source": [
    "from transformers import TrainingArguments\n",
    "\n",
    "#training_args = TrainingArguments(output_dir=\"test_trainer\")\n",
    "training_args = TrainingArguments(output_dir=\"test_230521\",use_mps_device=True)"
   ]
  },
  {
   "cell_type": "code",
   "execution_count": 204,
   "id": "546ba039",
   "metadata": {},
   "outputs": [],
   "source": [
    "import numpy as np\n",
    "import evaluate\n",
    "\n",
    "metric = evaluate.load(\"accuracy\")"
   ]
  },
  {
   "cell_type": "code",
   "execution_count": 206,
   "id": "642e17d2",
   "metadata": {},
   "outputs": [],
   "source": [
    "def compute_metrics(eval_pred):\n",
    "    logits, labels = eval_pred\n",
    "    predictions = np.argmax(logits, axis=-1)\n",
    "    return metric.compute(predictions=predictions, references=labels)"
   ]
  },
  {
   "cell_type": "code",
   "execution_count": 208,
   "id": "e666eabb",
   "metadata": {},
   "outputs": [],
   "source": [
    "from transformers import TrainingArguments, Trainer\n",
    "\n",
    "training_args = TrainingArguments(output_dir=\"test_trainer\", evaluation_strategy=\"epoch\")"
   ]
  },
  {
   "cell_type": "code",
   "execution_count": 247,
   "id": "fb3f2781",
   "metadata": {},
   "outputs": [],
   "source": [
    "from sklearn.model_selection import train_test_split\n",
    "from datasets import Dataset\n",
    "\n",
    "X = df_ml['text']\n",
    "y= df_ml['infox']\n",
    "X_train, X_test, y_train, y_test = train_test_split(X, y, train_size=0.8, random_state=_rs)\n",
    "df_train = pd.concat([X_train,y_train],axis=1)\n",
    "df_test = pd.concat([X_test,y_test],axis=1)"
   ]
  },
  {
   "cell_type": "code",
   "execution_count": 249,
   "id": "b95b2ab7",
   "metadata": {},
   "outputs": [
    {
     "data": {
      "text/html": [
       "<div>\n",
       "<style scoped>\n",
       "    .dataframe tbody tr th:only-of-type {\n",
       "        vertical-align: middle;\n",
       "    }\n",
       "\n",
       "    .dataframe tbody tr th {\n",
       "        vertical-align: top;\n",
       "    }\n",
       "\n",
       "    .dataframe thead th {\n",
       "        text-align: right;\n",
       "    }\n",
       "</style>\n",
       "<table border=\"1\" class=\"dataframe\">\n",
       "  <thead>\n",
       "    <tr style=\"text-align: right;\">\n",
       "      <th></th>\n",
       "      <th>level_0</th>\n",
       "      <th>index</th>\n",
       "      <th>url</th>\n",
       "      <th>site</th>\n",
       "      <th>title</th>\n",
       "      <th>article</th>\n",
       "      <th>tags</th>\n",
       "      <th>paragraphs</th>\n",
       "      <th>date_iso</th>\n",
       "      <th>abstract</th>\n",
       "      <th>...</th>\n",
       "      <th>degre_infox</th>\n",
       "      <th>observateur</th>\n",
       "      <th>source</th>\n",
       "      <th>p_count</th>\n",
       "      <th>text</th>\n",
       "      <th>c_count</th>\n",
       "      <th>p_size</th>\n",
       "      <th>url_h</th>\n",
       "      <th>pp_text</th>\n",
       "      <th>text_cut</th>\n",
       "    </tr>\n",
       "  </thead>\n",
       "  <tbody>\n",
       "    <tr>\n",
       "      <th>0</th>\n",
       "      <td>64</td>\n",
       "      <td>64</td>\n",
       "      <td>https://lesmoutonsrebelles.com/des-milliers-de...</td>\n",
       "      <td>lesmoutonsrebelles.com</td>\n",
       "      <td>Des milliers de personnes disent «non» à l’OTA...</td>\n",
       "      <td>Plusieurs milliers de personnes ont manifesté ...</td>\n",
       "      <td>[]</td>\n",
       "      <td>[Plusieurs milliers de personnes ont manifesté...</td>\n",
       "      <td></td>\n",
       "      <td></td>\n",
       "      <td>...</td>\n",
       "      <td></td>\n",
       "      <td>FB</td>\n",
       "      <td>Recueil</td>\n",
       "      <td>16</td>\n",
       "      <td>Des milliers de personnes disent «non» à l’OTA...</td>\n",
       "      <td>2804</td>\n",
       "      <td>175.250</td>\n",
       "      <td>9b030fc4445808fbe1036c555471250cd3505f42</td>\n",
       "      <td>des milliers de personnes disent «non» à l ota...</td>\n",
       "      <td>Des milliers de personnes disent «non» à l’OTA...</td>\n",
       "    </tr>\n",
       "    <tr>\n",
       "      <th>1</th>\n",
       "      <td>20</td>\n",
       "      <td>20</td>\n",
       "      <td>https://www.medias-presse.info/genderofolie-un...</td>\n",
       "      <td>www.medias-presse.info</td>\n",
       "      <td>Genderofolie : une adolescente ex-trans poursu...</td>\n",
       "      <td>C’est un premier procès dans le monde de la ge...</td>\n",
       "      <td>[Société, Francesca de Villasmundo]</td>\n",
       "      <td>[C’est un premier procès dans le monde de la g...</td>\n",
       "      <td></td>\n",
       "      <td></td>\n",
       "      <td>...</td>\n",
       "      <td></td>\n",
       "      <td>FB</td>\n",
       "      <td>Recueil</td>\n",
       "      <td>21</td>\n",
       "      <td>Genderofolie : une adolescente ex-trans poursu...</td>\n",
       "      <td>6162</td>\n",
       "      <td>293.429</td>\n",
       "      <td>312f555af98b9d62e8c245be501fec76af5cb8d4</td>\n",
       "      <td>genderofolie : une adolescente ex-trans poursu...</td>\n",
       "      <td>Genderofolie : une adolescente ex-trans poursu...</td>\n",
       "    </tr>\n",
       "    <tr>\n",
       "      <th>2</th>\n",
       "      <td>630</td>\n",
       "      <td>632</td>\n",
       "      <td>https://infodujour.fr/sante/4984-deserts-medic...</td>\n",
       "      <td>infodujour.fr</td>\n",
       "      <td>Déserts médicaux : les députés vont-ils céder ?</td>\n",
       "      <td>Après son adoption en Commission des affaires ...</td>\n",
       "      <td>[Santé]</td>\n",
       "      <td>[Après son adoption en Commission des affaires...</td>\n",
       "      <td>2016-10-25T14:14:34+01:00</td>\n",
       "      <td></td>\n",
       "      <td>...</td>\n",
       "      <td>NaN</td>\n",
       "      <td>NaN</td>\n",
       "      <td>Test1</td>\n",
       "      <td>7</td>\n",
       "      <td>Déserts médicaux : les députés vont-ils céder ...</td>\n",
       "      <td>3322</td>\n",
       "      <td>474.571</td>\n",
       "      <td>9329caf31c5634056693f7c08edf6c4eb143c3f9</td>\n",
       "      <td>déserts médicaux : les députés vont-ils céder ...</td>\n",
       "      <td>Déserts médicaux : les députés vont-ils céder ...</td>\n",
       "    </tr>\n",
       "    <tr>\n",
       "      <th>3</th>\n",
       "      <td>844</td>\n",
       "      <td>850</td>\n",
       "      <td>https://lezarceleurs.blogspot.com/2022/08/usa-...</td>\n",
       "      <td>lezarceleurs.blogspot.com</td>\n",
       "      <td>USA- Fin des quarantaines et mesures de distan...</td>\n",
       "      <td>De : https://childrenshealthdefense.org/defend...</td>\n",
       "      <td>[blessés par les vaccins, CDC, mesures de dist...</td>\n",
       "      <td>[ De : https://childrenshealthdefense.org/defe...</td>\n",
       "      <td></td>\n",
       "      <td></td>\n",
       "      <td>...</td>\n",
       "      <td>NaN</td>\n",
       "      <td>NaN</td>\n",
       "      <td>Verif</td>\n",
       "      <td>44</td>\n",
       "      <td>USA- Fin des quarantaines et mesures de distan...</td>\n",
       "      <td>13630</td>\n",
       "      <td>309.773</td>\n",
       "      <td>48dae905a8c9416b1ff1dc26c72e858909826287</td>\n",
       "      <td>usa- fin des quarantaines et mesures de distan...</td>\n",
       "      <td>USA- Fin des quarantaines et mesures de distan...</td>\n",
       "    </tr>\n",
       "    <tr>\n",
       "      <th>4</th>\n",
       "      <td>879</td>\n",
       "      <td>885</td>\n",
       "      <td>https://www.francesoir.fr/opinions-tribunes/ce...</td>\n",
       "      <td>www.francesoir.fr</td>\n",
       "      <td>Censurer le projet de loi pour le passe vaccin...</td>\n",
       "      <td>Ce jour à 14 h 30, le Sénat entame les débats ...</td>\n",
       "      <td>[Accueil, Opinions]</td>\n",
       "      <td>[Ce jour à 14 h 30, le Sénat entame les débats...</td>\n",
       "      <td>2021-12-31T18:12:00</td>\n",
       "      <td></td>\n",
       "      <td>...</td>\n",
       "      <td>NaN</td>\n",
       "      <td>NaN</td>\n",
       "      <td>Verif</td>\n",
       "      <td>17</td>\n",
       "      <td>Censurer le projet de loi pour le passe vaccin...</td>\n",
       "      <td>5620</td>\n",
       "      <td>330.588</td>\n",
       "      <td>d3538af6f048803b66d112abe262ee6f57b1edeb</td>\n",
       "      <td>censurer le projet de loi pour le passe vaccin...</td>\n",
       "      <td>Censurer le projet de loi pour le passe vaccin...</td>\n",
       "    </tr>\n",
       "    <tr>\n",
       "      <th>...</th>\n",
       "      <td>...</td>\n",
       "      <td>...</td>\n",
       "      <td>...</td>\n",
       "      <td>...</td>\n",
       "      <td>...</td>\n",
       "      <td>...</td>\n",
       "      <td>...</td>\n",
       "      <td>...</td>\n",
       "      <td>...</td>\n",
       "      <td>...</td>\n",
       "      <td>...</td>\n",
       "      <td>...</td>\n",
       "      <td>...</td>\n",
       "      <td>...</td>\n",
       "      <td>...</td>\n",
       "      <td>...</td>\n",
       "      <td>...</td>\n",
       "      <td>...</td>\n",
       "      <td>...</td>\n",
       "      <td>...</td>\n",
       "      <td>...</td>\n",
       "    </tr>\n",
       "    <tr>\n",
       "      <th>741</th>\n",
       "      <td>91</td>\n",
       "      <td>91</td>\n",
       "      <td>https://lezarceleurs.blogspot.com/2021/12/mort...</td>\n",
       "      <td>lezarceleurs.blogspot.com</td>\n",
       "      <td>MORTS PAR VACCIN  PFIZER -  La  FDA  le  savai...</td>\n",
       "      <td>De : https://www.naturalnews.com/2021-12-02-sm...</td>\n",
       "      <td>[blessures par vaccins, décès, dissimulations,...</td>\n",
       "      <td>[ De : https://www.naturalnews.com/2021-12-02-...</td>\n",
       "      <td></td>\n",
       "      <td></td>\n",
       "      <td>...</td>\n",
       "      <td>2</td>\n",
       "      <td>FB</td>\n",
       "      <td>Recueil</td>\n",
       "      <td>30</td>\n",
       "      <td>MORTS PAR VACCIN  PFIZER -  La  FDA  le  savai...</td>\n",
       "      <td>7241</td>\n",
       "      <td>241.367</td>\n",
       "      <td>03ce5709ddc859530205f735d15df89dc84b7a1d</td>\n",
       "      <td>morts par vaccin  pfizer -  la  fda  le  savai...</td>\n",
       "      <td>MORTS PAR VACCIN  PFIZER -  La  FDA  le  savai...</td>\n",
       "    </tr>\n",
       "    <tr>\n",
       "      <th>742</th>\n",
       "      <td>470</td>\n",
       "      <td>471</td>\n",
       "      <td>https://lemediaen442.fr/les-sanctions-contre-l...</td>\n",
       "      <td>lemediaen442.fr</td>\n",
       "      <td>Les sanctions contre la Russie provoquent l’ef...</td>\n",
       "      <td>« Nous allons provoquer l’effondrement de l’éc...</td>\n",
       "      <td>[Décryptage, Économie, Géopolitique, euro, inf...</td>\n",
       "      <td>[« Nous allons provoquer l’effondrement de l’é...</td>\n",
       "      <td>2022-07-09T09:42:25+02:00</td>\n",
       "      <td></td>\n",
       "      <td>...</td>\n",
       "      <td>2</td>\n",
       "      <td>GP</td>\n",
       "      <td>Recueil</td>\n",
       "      <td>18</td>\n",
       "      <td>Les sanctions contre la Russie provoquent l’ef...</td>\n",
       "      <td>6253</td>\n",
       "      <td>347.389</td>\n",
       "      <td>ab9275fd6e87ab8ed911ceb9b7241fc47e2edead</td>\n",
       "      <td>les sanctions contre la russie provoquent l ef...</td>\n",
       "      <td>Les sanctions contre la Russie provoquent l’ef...</td>\n",
       "    </tr>\n",
       "    <tr>\n",
       "      <th>743</th>\n",
       "      <td>80</td>\n",
       "      <td>80</td>\n",
       "      <td>https://lesdeqodeurs.fr/antifa-et-factcheckeur...</td>\n",
       "      <td>lesdeqodeurs.fr</td>\n",
       "      <td>Antifa et Factcheckeurs, même combat !</td>\n",
       "      <td>Intro et précisionsIl est clair que les antifa...</td>\n",
       "      <td>[Antifa, Big Pharma, Black Block, Black Lives ...</td>\n",
       "      <td>[Il est clair que les antifas sont un organism...</td>\n",
       "      <td>2022-12-05T00:00:00</td>\n",
       "      <td></td>\n",
       "      <td>...</td>\n",
       "      <td>1</td>\n",
       "      <td>FB</td>\n",
       "      <td>Recueil</td>\n",
       "      <td>21</td>\n",
       "      <td>Antifa et Factcheckeurs, même combat !\\nIl est...</td>\n",
       "      <td>6795</td>\n",
       "      <td>323.571</td>\n",
       "      <td>5a262774572f02d6c5bac5b0ae32cecd2dd155a7</td>\n",
       "      <td>antifa et factcheckeurs, même combat !\\nil est...</td>\n",
       "      <td>Antifa et Factcheckeurs, même combat !\\nIl est...</td>\n",
       "    </tr>\n",
       "    <tr>\n",
       "      <th>744</th>\n",
       "      <td>716</td>\n",
       "      <td>719</td>\n",
       "      <td>https://www.francetvinfo.fr/monde/moyen-orient...</td>\n",
       "      <td>www.francetvinfo.fr</td>\n",
       "      <td>Zakir Naik, prédicateur indien ambigu, récompe...</td>\n",
       "      <td>Voile, femme, alimentation ou djihad… Il a rép...</td>\n",
       "      <td>[]</td>\n",
       "      <td>[Voile, femme, alimentation ou djihad… Il a ré...</td>\n",
       "      <td>2015-03-05T09:44:00</td>\n",
       "      <td>Zakir Naik, qui avait mis en doute l’implicati...</td>\n",
       "      <td>...</td>\n",
       "      <td>NaN</td>\n",
       "      <td>NaN</td>\n",
       "      <td>Test2</td>\n",
       "      <td>9</td>\n",
       "      <td>Zakir Naik, prédicateur indien ambigu, récompe...</td>\n",
       "      <td>2404</td>\n",
       "      <td>267.111</td>\n",
       "      <td>09c6fe0f66232e67d73ffcd5339c765dbc7e1e7e</td>\n",
       "      <td>zakir naik, prédicateur indien ambigu, récompe...</td>\n",
       "      <td>Zakir Naik, prédicateur indien ambigu, récompe...</td>\n",
       "    </tr>\n",
       "    <tr>\n",
       "      <th>745</th>\n",
       "      <td>518</td>\n",
       "      <td>519</td>\n",
       "      <td>https://www.lesalonbeige.fr/combat-politique-o...</td>\n",
       "      <td>www.lesalonbeige.fr</td>\n",
       "      <td>Combat politique ou combat religieux ?</td>\n",
       "      <td>Article proposé par l’abbé Pagès :\\nIl s’agit ...</td>\n",
       "      <td>[France : L'Islam en France]</td>\n",
       "      <td>[Article proposé par l’abbé Pagès :, Il s’agit...</td>\n",
       "      <td>2022-07-12T18:32:38+02:00</td>\n",
       "      <td></td>\n",
       "      <td>...</td>\n",
       "      <td></td>\n",
       "      <td>GP</td>\n",
       "      <td>Recueil</td>\n",
       "      <td>12</td>\n",
       "      <td>Combat politique ou combat religieux ?\\nArticl...</td>\n",
       "      <td>18124</td>\n",
       "      <td>1510.333</td>\n",
       "      <td>7dcba122d51917fb5ed9b0f4ae04ce11bbd8e0bd</td>\n",
       "      <td>combat politique ou combat religieux ?\\narticl...</td>\n",
       "      <td>Combat politique ou combat religieux ?\\nArticl...</td>\n",
       "    </tr>\n",
       "  </tbody>\n",
       "</table>\n",
       "<p>746 rows × 48 columns</p>\n",
       "</div>"
      ],
      "text/plain": [
       "     level_0  index                                                url   \n",
       "0         64     64  https://lesmoutonsrebelles.com/des-milliers-de...  \\\n",
       "1         20     20  https://www.medias-presse.info/genderofolie-un...   \n",
       "2        630    632  https://infodujour.fr/sante/4984-deserts-medic...   \n",
       "3        844    850  https://lezarceleurs.blogspot.com/2022/08/usa-...   \n",
       "4        879    885  https://www.francesoir.fr/opinions-tribunes/ce...   \n",
       "..       ...    ...                                                ...   \n",
       "741       91     91  https://lezarceleurs.blogspot.com/2021/12/mort...   \n",
       "742      470    471  https://lemediaen442.fr/les-sanctions-contre-l...   \n",
       "743       80     80  https://lesdeqodeurs.fr/antifa-et-factcheckeur...   \n",
       "744      716    719  https://www.francetvinfo.fr/monde/moyen-orient...   \n",
       "745      518    519  https://www.lesalonbeige.fr/combat-politique-o...   \n",
       "\n",
       "                          site   \n",
       "0       lesmoutonsrebelles.com  \\\n",
       "1       www.medias-presse.info   \n",
       "2                infodujour.fr   \n",
       "3    lezarceleurs.blogspot.com   \n",
       "4            www.francesoir.fr   \n",
       "..                         ...   \n",
       "741  lezarceleurs.blogspot.com   \n",
       "742            lemediaen442.fr   \n",
       "743            lesdeqodeurs.fr   \n",
       "744        www.francetvinfo.fr   \n",
       "745        www.lesalonbeige.fr   \n",
       "\n",
       "                                                 title   \n",
       "0    Des milliers de personnes disent «non» à l’OTA...  \\\n",
       "1    Genderofolie : une adolescente ex-trans poursu...   \n",
       "2      Déserts médicaux : les députés vont-ils céder ?   \n",
       "3    USA- Fin des quarantaines et mesures de distan...   \n",
       "4    Censurer le projet de loi pour le passe vaccin...   \n",
       "..                                                 ...   \n",
       "741  MORTS PAR VACCIN  PFIZER -  La  FDA  le  savai...   \n",
       "742  Les sanctions contre la Russie provoquent l’ef...   \n",
       "743             Antifa et Factcheckeurs, même combat !   \n",
       "744  Zakir Naik, prédicateur indien ambigu, récompe...   \n",
       "745             Combat politique ou combat religieux ?   \n",
       "\n",
       "                                               article   \n",
       "0    Plusieurs milliers de personnes ont manifesté ...  \\\n",
       "1    C’est un premier procès dans le monde de la ge...   \n",
       "2    Après son adoption en Commission des affaires ...   \n",
       "3    De : https://childrenshealthdefense.org/defend...   \n",
       "4    Ce jour à 14 h 30, le Sénat entame les débats ...   \n",
       "..                                                 ...   \n",
       "741  De : https://www.naturalnews.com/2021-12-02-sm...   \n",
       "742  « Nous allons provoquer l’effondrement de l’éc...   \n",
       "743  Intro et précisionsIl est clair que les antifa...   \n",
       "744  Voile, femme, alimentation ou djihad… Il a rép...   \n",
       "745  Article proposé par l’abbé Pagès :\\nIl s’agit ...   \n",
       "\n",
       "                                                  tags   \n",
       "0                                                   []  \\\n",
       "1                  [Société, Francesca de Villasmundo]   \n",
       "2                                              [Santé]   \n",
       "3    [blessés par les vaccins, CDC, mesures de dist...   \n",
       "4                                  [Accueil, Opinions]   \n",
       "..                                                 ...   \n",
       "741  [blessures par vaccins, décès, dissimulations,...   \n",
       "742  [Décryptage, Économie, Géopolitique, euro, inf...   \n",
       "743  [Antifa, Big Pharma, Black Block, Black Lives ...   \n",
       "744                                                 []   \n",
       "745                       [France : L'Islam en France]   \n",
       "\n",
       "                                            paragraphs   \n",
       "0    [Plusieurs milliers de personnes ont manifesté...  \\\n",
       "1    [C’est un premier procès dans le monde de la g...   \n",
       "2    [Après son adoption en Commission des affaires...   \n",
       "3    [ De : https://childrenshealthdefense.org/defe...   \n",
       "4    [Ce jour à 14 h 30, le Sénat entame les débats...   \n",
       "..                                                 ...   \n",
       "741  [ De : https://www.naturalnews.com/2021-12-02-...   \n",
       "742  [« Nous allons provoquer l’effondrement de l’é...   \n",
       "743  [Il est clair que les antifas sont un organism...   \n",
       "744  [Voile, femme, alimentation ou djihad… Il a ré...   \n",
       "745  [Article proposé par l’abbé Pagès :, Il s’agit...   \n",
       "\n",
       "                      date_iso   \n",
       "0                               \\\n",
       "1                                \n",
       "2    2016-10-25T14:14:34+01:00   \n",
       "3                                \n",
       "4          2021-12-31T18:12:00   \n",
       "..                         ...   \n",
       "741                              \n",
       "742  2022-07-09T09:42:25+02:00   \n",
       "743        2022-12-05T00:00:00   \n",
       "744        2015-03-05T09:44:00   \n",
       "745  2022-07-12T18:32:38+02:00   \n",
       "\n",
       "                                              abstract  ... degre_infox   \n",
       "0                                                       ...              \\\n",
       "1                                                       ...               \n",
       "2                                                       ...         NaN   \n",
       "3                                                       ...         NaN   \n",
       "4                                                       ...         NaN   \n",
       "..                                                 ...  ...         ...   \n",
       "741                                                     ...           2   \n",
       "742                                                     ...           2   \n",
       "743                                                     ...           1   \n",
       "744  Zakir Naik, qui avait mis en doute l’implicati...  ...         NaN   \n",
       "745                                                     ...               \n",
       "\n",
       "    observateur   source  p_count   \n",
       "0            FB  Recueil       16  \\\n",
       "1            FB  Recueil       21   \n",
       "2           NaN    Test1        7   \n",
       "3           NaN    Verif       44   \n",
       "4           NaN    Verif       17   \n",
       "..          ...      ...      ...   \n",
       "741          FB  Recueil       30   \n",
       "742          GP  Recueil       18   \n",
       "743          FB  Recueil       21   \n",
       "744         NaN    Test2        9   \n",
       "745          GP  Recueil       12   \n",
       "\n",
       "                                                  text  c_count    p_size   \n",
       "0    Des milliers de personnes disent «non» à l’OTA...     2804   175.250  \\\n",
       "1    Genderofolie : une adolescente ex-trans poursu...     6162   293.429   \n",
       "2    Déserts médicaux : les députés vont-ils céder ...     3322   474.571   \n",
       "3    USA- Fin des quarantaines et mesures de distan...    13630   309.773   \n",
       "4    Censurer le projet de loi pour le passe vaccin...     5620   330.588   \n",
       "..                                                 ...      ...       ...   \n",
       "741  MORTS PAR VACCIN  PFIZER -  La  FDA  le  savai...     7241   241.367   \n",
       "742  Les sanctions contre la Russie provoquent l’ef...     6253   347.389   \n",
       "743  Antifa et Factcheckeurs, même combat !\\nIl est...     6795   323.571   \n",
       "744  Zakir Naik, prédicateur indien ambigu, récompe...     2404   267.111   \n",
       "745  Combat politique ou combat religieux ?\\nArticl...    18124  1510.333   \n",
       "\n",
       "                                        url_h   \n",
       "0    9b030fc4445808fbe1036c555471250cd3505f42  \\\n",
       "1    312f555af98b9d62e8c245be501fec76af5cb8d4   \n",
       "2    9329caf31c5634056693f7c08edf6c4eb143c3f9   \n",
       "3    48dae905a8c9416b1ff1dc26c72e858909826287   \n",
       "4    d3538af6f048803b66d112abe262ee6f57b1edeb   \n",
       "..                                        ...   \n",
       "741  03ce5709ddc859530205f735d15df89dc84b7a1d   \n",
       "742  ab9275fd6e87ab8ed911ceb9b7241fc47e2edead   \n",
       "743  5a262774572f02d6c5bac5b0ae32cecd2dd155a7   \n",
       "744  09c6fe0f66232e67d73ffcd5339c765dbc7e1e7e   \n",
       "745  7dcba122d51917fb5ed9b0f4ae04ce11bbd8e0bd   \n",
       "\n",
       "                                               pp_text   \n",
       "0    des milliers de personnes disent «non» à l ota...  \\\n",
       "1    genderofolie : une adolescente ex-trans poursu...   \n",
       "2    déserts médicaux : les députés vont-ils céder ...   \n",
       "3    usa- fin des quarantaines et mesures de distan...   \n",
       "4    censurer le projet de loi pour le passe vaccin...   \n",
       "..                                                 ...   \n",
       "741  morts par vaccin  pfizer -  la  fda  le  savai...   \n",
       "742  les sanctions contre la russie provoquent l ef...   \n",
       "743  antifa et factcheckeurs, même combat !\\nil est...   \n",
       "744  zakir naik, prédicateur indien ambigu, récompe...   \n",
       "745  combat politique ou combat religieux ?\\narticl...   \n",
       "\n",
       "                                              text_cut  \n",
       "0    Des milliers de personnes disent «non» à l’OTA...  \n",
       "1    Genderofolie : une adolescente ex-trans poursu...  \n",
       "2    Déserts médicaux : les députés vont-ils céder ...  \n",
       "3    USA- Fin des quarantaines et mesures de distan...  \n",
       "4    Censurer le projet de loi pour le passe vaccin...  \n",
       "..                                                 ...  \n",
       "741  MORTS PAR VACCIN  PFIZER -  La  FDA  le  savai...  \n",
       "742  Les sanctions contre la Russie provoquent l’ef...  \n",
       "743  Antifa et Factcheckeurs, même combat !\\nIl est...  \n",
       "744  Zakir Naik, prédicateur indien ambigu, récompe...  \n",
       "745  Combat politique ou combat religieux ?\\nArticl...  \n",
       "\n",
       "[746 rows x 48 columns]"
      ]
     },
     "execution_count": 249,
     "metadata": {},
     "output_type": "execute_result"
    }
   ],
   "source": [
    "df_ml"
   ]
  },
  {
   "cell_type": "code",
   "execution_count": 251,
   "id": "93c07e01",
   "metadata": {},
   "outputs": [
    {
     "data": {
      "text/html": [
       "<div>\n",
       "<style scoped>\n",
       "    .dataframe tbody tr th:only-of-type {\n",
       "        vertical-align: middle;\n",
       "    }\n",
       "\n",
       "    .dataframe tbody tr th {\n",
       "        vertical-align: top;\n",
       "    }\n",
       "\n",
       "    .dataframe thead th {\n",
       "        text-align: right;\n",
       "    }\n",
       "</style>\n",
       "<table border=\"1\" class=\"dataframe\">\n",
       "  <thead>\n",
       "    <tr style=\"text-align: right;\">\n",
       "      <th></th>\n",
       "      <th>level_0</th>\n",
       "      <th>index</th>\n",
       "      <th>url</th>\n",
       "      <th>site</th>\n",
       "      <th>title</th>\n",
       "      <th>article</th>\n",
       "      <th>tags</th>\n",
       "      <th>paragraphs</th>\n",
       "      <th>date_iso</th>\n",
       "      <th>abstract</th>\n",
       "      <th>...</th>\n",
       "      <th>degre_infox</th>\n",
       "      <th>observateur</th>\n",
       "      <th>source</th>\n",
       "      <th>p_count</th>\n",
       "      <th>text</th>\n",
       "      <th>c_count</th>\n",
       "      <th>p_size</th>\n",
       "      <th>url_h</th>\n",
       "      <th>pp_text</th>\n",
       "      <th>text_cut</th>\n",
       "    </tr>\n",
       "  </thead>\n",
       "  <tbody>\n",
       "    <tr>\n",
       "      <th>2</th>\n",
       "      <td>630</td>\n",
       "      <td>632</td>\n",
       "      <td>https://infodujour.fr/sante/4984-deserts-medic...</td>\n",
       "      <td>infodujour.fr</td>\n",
       "      <td>Déserts médicaux : les députés vont-ils céder ?</td>\n",
       "      <td>Après son adoption en Commission des affaires ...</td>\n",
       "      <td>[Santé]</td>\n",
       "      <td>[Après son adoption en Commission des affaires...</td>\n",
       "      <td>2016-10-25T14:14:34+01:00</td>\n",
       "      <td></td>\n",
       "      <td>...</td>\n",
       "      <td>NaN</td>\n",
       "      <td>NaN</td>\n",
       "      <td>Test1</td>\n",
       "      <td>7</td>\n",
       "      <td>Déserts médicaux : les députés vont-ils céder ...</td>\n",
       "      <td>3322</td>\n",
       "      <td>474.571</td>\n",
       "      <td>9329caf31c5634056693f7c08edf6c4eb143c3f9</td>\n",
       "      <td>déserts médicaux : les députés vont-ils céder ...</td>\n",
       "      <td>Déserts médicaux : les députés vont-ils céder ...</td>\n",
       "    </tr>\n",
       "    <tr>\n",
       "      <th>10</th>\n",
       "      <td>340</td>\n",
       "      <td>341</td>\n",
       "      <td>https://www.dreuz.info/2022/10/la-fda-va-publi...</td>\n",
       "      <td>www.dreuz.info</td>\n",
       "      <td>La FDA va publier une étude sur les effets ind...</td>\n",
       "      <td>Première réflexion : J’ai toujours été pro-cho...</td>\n",
       "      <td>[Home, International, coronavirus]</td>\n",
       "      <td>[Dreuz a besoin de votre soutien financier. Po...</td>\n",
       "      <td>2022-10-06T00:00:00</td>\n",
       "      <td></td>\n",
       "      <td>...</td>\n",
       "      <td></td>\n",
       "      <td>FB</td>\n",
       "      <td>Recueil</td>\n",
       "      <td>17</td>\n",
       "      <td>La FDA va publier une étude sur les effets ind...</td>\n",
       "      <td>4372</td>\n",
       "      <td>257.176</td>\n",
       "      <td>1f3dc0cd32405aadd908368395533886a5e13fe2</td>\n",
       "      <td>la fda va publier une étude sur les effets ind...</td>\n",
       "      <td>La FDA va publier une étude sur les effets ind...</td>\n",
       "    </tr>\n",
       "    <tr>\n",
       "      <th>23</th>\n",
       "      <td>193</td>\n",
       "      <td>194</td>\n",
       "      <td>https://www.wikistrike.com/2022/08/washington-...</td>\n",
       "      <td>www.wikistrike.com</td>\n",
       "      <td>Washington enverrait des mercenaires afghans c...</td>\n",
       "      <td>Des spécialistes originaires d'Afghanistan par...</td>\n",
       "      <td>[#Politique internationale]</td>\n",
       "      <td>[Des spécialistes originaires d'Afghanistan pa...</td>\n",
       "      <td>2022-08-20T00:00:00</td>\n",
       "      <td></td>\n",
       "      <td>...</td>\n",
       "      <td>2</td>\n",
       "      <td>CN</td>\n",
       "      <td>Recueil</td>\n",
       "      <td>10</td>\n",
       "      <td>Washington enverrait des mercenaires afghans c...</td>\n",
       "      <td>2276</td>\n",
       "      <td>227.600</td>\n",
       "      <td>b4dbb3acce78642a72c77f1d11676cec763dafd9</td>\n",
       "      <td>washington enverrait des mercenaires afghans c...</td>\n",
       "      <td>Washington enverrait des mercenaires afghans c...</td>\n",
       "    </tr>\n",
       "    <tr>\n",
       "      <th>30</th>\n",
       "      <td>628</td>\n",
       "      <td>630</td>\n",
       "      <td>https://actu.fr/insolite/les-cinq-infos-insoli...</td>\n",
       "      <td>actu.fr</td>\n",
       "      <td>Les cinq infos insolites de la semaine qu'il n...</td>\n",
       "      <td>Une Youtubeuse qui se maquille avec un préserv...</td>\n",
       "      <td>[Actu, Insolite]</td>\n",
       "      <td>[Cette semaine aura été marquée par diverses i...</td>\n",
       "      <td>2017-03-11T12:32:00</td>\n",
       "      <td></td>\n",
       "      <td>...</td>\n",
       "      <td>NaN</td>\n",
       "      <td>NaN</td>\n",
       "      <td>Test1</td>\n",
       "      <td>9</td>\n",
       "      <td>Les cinq infos insolites de la semaine qu'il n...</td>\n",
       "      <td>2123</td>\n",
       "      <td>235.889</td>\n",
       "      <td>f1e80744d46fc4ed520a1a1ca822e43732023ce0</td>\n",
       "      <td>les cinq infos insolites de la semaine qu'il n...</td>\n",
       "      <td>Les cinq infos insolites de la semaine qu'il n...</td>\n",
       "    </tr>\n",
       "    <tr>\n",
       "      <th>31</th>\n",
       "      <td>499</td>\n",
       "      <td>500</td>\n",
       "      <td>https://lemediaen442.fr/cest-la-rentree-pour-l...</td>\n",
       "      <td>lemediaen442.fr</td>\n",
       "      <td>C’est la rentrée pour les « vaccins » contre l...</td>\n",
       "      <td>Variole du singe, énergie en berne, dette de 2...</td>\n",
       "      <td>[Santé, ministère de la santé, moderna, pass s...</td>\n",
       "      <td>[Variole du singe, énergie en berne, dette de ...</td>\n",
       "      <td>2022-09-01T15:31:41+02:00</td>\n",
       "      <td></td>\n",
       "      <td>...</td>\n",
       "      <td>1</td>\n",
       "      <td>FB</td>\n",
       "      <td>Recueil</td>\n",
       "      <td>12</td>\n",
       "      <td>C’est la rentrée pour les « vaccins » contre l...</td>\n",
       "      <td>5474</td>\n",
       "      <td>456.167</td>\n",
       "      <td>3ce98cbc896fea9094211b874ad40c51f848e819</td>\n",
       "      <td>c est la rentrée pour les « vaccins » contre l...</td>\n",
       "      <td>C’est la rentrée pour les « vaccins » contre l...</td>\n",
       "    </tr>\n",
       "    <tr>\n",
       "      <th>...</th>\n",
       "      <td>...</td>\n",
       "      <td>...</td>\n",
       "      <td>...</td>\n",
       "      <td>...</td>\n",
       "      <td>...</td>\n",
       "      <td>...</td>\n",
       "      <td>...</td>\n",
       "      <td>...</td>\n",
       "      <td>...</td>\n",
       "      <td>...</td>\n",
       "      <td>...</td>\n",
       "      <td>...</td>\n",
       "      <td>...</td>\n",
       "      <td>...</td>\n",
       "      <td>...</td>\n",
       "      <td>...</td>\n",
       "      <td>...</td>\n",
       "      <td>...</td>\n",
       "      <td>...</td>\n",
       "      <td>...</td>\n",
       "      <td>...</td>\n",
       "    </tr>\n",
       "    <tr>\n",
       "      <th>724</th>\n",
       "      <td>719</td>\n",
       "      <td>722</td>\n",
       "      <td>https://lemediaen442.fr/un-cadre-de-pfizer-aff...</td>\n",
       "      <td>lemediaen442.fr</td>\n",
       "      <td>Un cadre de Pfizer affirme qu’Israël est un la...</td>\n",
       "      <td>« Au début de la pandémie, nous avons établi u...</td>\n",
       "      <td>[Politique, Santé, Société, covid-19, israël, ...</td>\n",
       "      <td>[« Au début de la pandémie, nous avons établi ...</td>\n",
       "      <td>2021-09-13T12:27:36+02:00</td>\n",
       "      <td></td>\n",
       "      <td>...</td>\n",
       "      <td>NaN</td>\n",
       "      <td>NaN</td>\n",
       "      <td>Test2</td>\n",
       "      <td>9</td>\n",
       "      <td>Un cadre de Pfizer affirme qu’Israël est un la...</td>\n",
       "      <td>2506</td>\n",
       "      <td>278.444</td>\n",
       "      <td>fef67817b8226c68a5661553a8337501719a648a</td>\n",
       "      <td>un cadre de pfizer affirme qu israël est un la...</td>\n",
       "      <td>Un cadre de Pfizer affirme qu’Israël est un la...</td>\n",
       "    </tr>\n",
       "    <tr>\n",
       "      <th>732</th>\n",
       "      <td>57</td>\n",
       "      <td>57</td>\n",
       "      <td>https://lesmoutonsrebelles.com/piers-corbyn-as...</td>\n",
       "      <td>lesmoutonsrebelles.com</td>\n",
       "      <td>Piers Corbyn, astrophysicien et météorologue, ...</td>\n",
       "      <td>L’écologie, c’est le socle du pur et dur mondi...</td>\n",
       "      <td>[]</td>\n",
       "      <td>[L’écologie, c’est le socle du pur et dur mond...</td>\n",
       "      <td></td>\n",
       "      <td></td>\n",
       "      <td>...</td>\n",
       "      <td>1</td>\n",
       "      <td>FB</td>\n",
       "      <td>Recueil</td>\n",
       "      <td>16</td>\n",
       "      <td>Piers Corbyn, astrophysicien et météorologue, ...</td>\n",
       "      <td>2019</td>\n",
       "      <td>126.188</td>\n",
       "      <td>01e00af96b5a2ba1c0e932d41796f79dd8ce283b</td>\n",
       "      <td>piers corbyn, astrophysicien et météorologue, ...</td>\n",
       "      <td>Piers Corbyn, astrophysicien et météorologue, ...</td>\n",
       "    </tr>\n",
       "    <tr>\n",
       "      <th>741</th>\n",
       "      <td>91</td>\n",
       "      <td>91</td>\n",
       "      <td>https://lezarceleurs.blogspot.com/2021/12/mort...</td>\n",
       "      <td>lezarceleurs.blogspot.com</td>\n",
       "      <td>MORTS PAR VACCIN  PFIZER -  La  FDA  le  savai...</td>\n",
       "      <td>De : https://www.naturalnews.com/2021-12-02-sm...</td>\n",
       "      <td>[blessures par vaccins, décès, dissimulations,...</td>\n",
       "      <td>[ De : https://www.naturalnews.com/2021-12-02-...</td>\n",
       "      <td></td>\n",
       "      <td></td>\n",
       "      <td>...</td>\n",
       "      <td>2</td>\n",
       "      <td>FB</td>\n",
       "      <td>Recueil</td>\n",
       "      <td>30</td>\n",
       "      <td>MORTS PAR VACCIN  PFIZER -  La  FDA  le  savai...</td>\n",
       "      <td>7241</td>\n",
       "      <td>241.367</td>\n",
       "      <td>03ce5709ddc859530205f735d15df89dc84b7a1d</td>\n",
       "      <td>morts par vaccin  pfizer -  la  fda  le  savai...</td>\n",
       "      <td>MORTS PAR VACCIN  PFIZER -  La  FDA  le  savai...</td>\n",
       "    </tr>\n",
       "    <tr>\n",
       "      <th>742</th>\n",
       "      <td>470</td>\n",
       "      <td>471</td>\n",
       "      <td>https://lemediaen442.fr/les-sanctions-contre-l...</td>\n",
       "      <td>lemediaen442.fr</td>\n",
       "      <td>Les sanctions contre la Russie provoquent l’ef...</td>\n",
       "      <td>« Nous allons provoquer l’effondrement de l’éc...</td>\n",
       "      <td>[Décryptage, Économie, Géopolitique, euro, inf...</td>\n",
       "      <td>[« Nous allons provoquer l’effondrement de l’é...</td>\n",
       "      <td>2022-07-09T09:42:25+02:00</td>\n",
       "      <td></td>\n",
       "      <td>...</td>\n",
       "      <td>2</td>\n",
       "      <td>GP</td>\n",
       "      <td>Recueil</td>\n",
       "      <td>18</td>\n",
       "      <td>Les sanctions contre la Russie provoquent l’ef...</td>\n",
       "      <td>6253</td>\n",
       "      <td>347.389</td>\n",
       "      <td>ab9275fd6e87ab8ed911ceb9b7241fc47e2edead</td>\n",
       "      <td>les sanctions contre la russie provoquent l ef...</td>\n",
       "      <td>Les sanctions contre la Russie provoquent l’ef...</td>\n",
       "    </tr>\n",
       "    <tr>\n",
       "      <th>744</th>\n",
       "      <td>716</td>\n",
       "      <td>719</td>\n",
       "      <td>https://www.francetvinfo.fr/monde/moyen-orient...</td>\n",
       "      <td>www.francetvinfo.fr</td>\n",
       "      <td>Zakir Naik, prédicateur indien ambigu, récompe...</td>\n",
       "      <td>Voile, femme, alimentation ou djihad… Il a rép...</td>\n",
       "      <td>[]</td>\n",
       "      <td>[Voile, femme, alimentation ou djihad… Il a ré...</td>\n",
       "      <td>2015-03-05T09:44:00</td>\n",
       "      <td>Zakir Naik, qui avait mis en doute l’implicati...</td>\n",
       "      <td>...</td>\n",
       "      <td>NaN</td>\n",
       "      <td>NaN</td>\n",
       "      <td>Test2</td>\n",
       "      <td>9</td>\n",
       "      <td>Zakir Naik, prédicateur indien ambigu, récompe...</td>\n",
       "      <td>2404</td>\n",
       "      <td>267.111</td>\n",
       "      <td>09c6fe0f66232e67d73ffcd5339c765dbc7e1e7e</td>\n",
       "      <td>zakir naik, prédicateur indien ambigu, récompe...</td>\n",
       "      <td>Zakir Naik, prédicateur indien ambigu, récompe...</td>\n",
       "    </tr>\n",
       "  </tbody>\n",
       "</table>\n",
       "<p>150 rows × 48 columns</p>\n",
       "</div>"
      ],
      "text/plain": [
       "     level_0  index                                                url   \n",
       "2        630    632  https://infodujour.fr/sante/4984-deserts-medic...  \\\n",
       "10       340    341  https://www.dreuz.info/2022/10/la-fda-va-publi...   \n",
       "23       193    194  https://www.wikistrike.com/2022/08/washington-...   \n",
       "30       628    630  https://actu.fr/insolite/les-cinq-infos-insoli...   \n",
       "31       499    500  https://lemediaen442.fr/cest-la-rentree-pour-l...   \n",
       "..       ...    ...                                                ...   \n",
       "724      719    722  https://lemediaen442.fr/un-cadre-de-pfizer-aff...   \n",
       "732       57     57  https://lesmoutonsrebelles.com/piers-corbyn-as...   \n",
       "741       91     91  https://lezarceleurs.blogspot.com/2021/12/mort...   \n",
       "742      470    471  https://lemediaen442.fr/les-sanctions-contre-l...   \n",
       "744      716    719  https://www.francetvinfo.fr/monde/moyen-orient...   \n",
       "\n",
       "                          site   \n",
       "2                infodujour.fr  \\\n",
       "10              www.dreuz.info   \n",
       "23          www.wikistrike.com   \n",
       "30                     actu.fr   \n",
       "31             lemediaen442.fr   \n",
       "..                         ...   \n",
       "724            lemediaen442.fr   \n",
       "732     lesmoutonsrebelles.com   \n",
       "741  lezarceleurs.blogspot.com   \n",
       "742            lemediaen442.fr   \n",
       "744        www.francetvinfo.fr   \n",
       "\n",
       "                                                 title   \n",
       "2      Déserts médicaux : les députés vont-ils céder ?  \\\n",
       "10   La FDA va publier une étude sur les effets ind...   \n",
       "23   Washington enverrait des mercenaires afghans c...   \n",
       "30   Les cinq infos insolites de la semaine qu'il n...   \n",
       "31   C’est la rentrée pour les « vaccins » contre l...   \n",
       "..                                                 ...   \n",
       "724  Un cadre de Pfizer affirme qu’Israël est un la...   \n",
       "732  Piers Corbyn, astrophysicien et météorologue, ...   \n",
       "741  MORTS PAR VACCIN  PFIZER -  La  FDA  le  savai...   \n",
       "742  Les sanctions contre la Russie provoquent l’ef...   \n",
       "744  Zakir Naik, prédicateur indien ambigu, récompe...   \n",
       "\n",
       "                                               article   \n",
       "2    Après son adoption en Commission des affaires ...  \\\n",
       "10   Première réflexion : J’ai toujours été pro-cho...   \n",
       "23   Des spécialistes originaires d'Afghanistan par...   \n",
       "30   Une Youtubeuse qui se maquille avec un préserv...   \n",
       "31   Variole du singe, énergie en berne, dette de 2...   \n",
       "..                                                 ...   \n",
       "724  « Au début de la pandémie, nous avons établi u...   \n",
       "732  L’écologie, c’est le socle du pur et dur mondi...   \n",
       "741  De : https://www.naturalnews.com/2021-12-02-sm...   \n",
       "742  « Nous allons provoquer l’effondrement de l’éc...   \n",
       "744  Voile, femme, alimentation ou djihad… Il a rép...   \n",
       "\n",
       "                                                  tags   \n",
       "2                                              [Santé]  \\\n",
       "10                  [Home, International, coronavirus]   \n",
       "23                         [#Politique internationale]   \n",
       "30                                    [Actu, Insolite]   \n",
       "31   [Santé, ministère de la santé, moderna, pass s...   \n",
       "..                                                 ...   \n",
       "724  [Politique, Santé, Société, covid-19, israël, ...   \n",
       "732                                                 []   \n",
       "741  [blessures par vaccins, décès, dissimulations,...   \n",
       "742  [Décryptage, Économie, Géopolitique, euro, inf...   \n",
       "744                                                 []   \n",
       "\n",
       "                                            paragraphs   \n",
       "2    [Après son adoption en Commission des affaires...  \\\n",
       "10   [Dreuz a besoin de votre soutien financier. Po...   \n",
       "23   [Des spécialistes originaires d'Afghanistan pa...   \n",
       "30   [Cette semaine aura été marquée par diverses i...   \n",
       "31   [Variole du singe, énergie en berne, dette de ...   \n",
       "..                                                 ...   \n",
       "724  [« Au début de la pandémie, nous avons établi ...   \n",
       "732  [L’écologie, c’est le socle du pur et dur mond...   \n",
       "741  [ De : https://www.naturalnews.com/2021-12-02-...   \n",
       "742  [« Nous allons provoquer l’effondrement de l’é...   \n",
       "744  [Voile, femme, alimentation ou djihad… Il a ré...   \n",
       "\n",
       "                      date_iso   \n",
       "2    2016-10-25T14:14:34+01:00  \\\n",
       "10         2022-10-06T00:00:00   \n",
       "23         2022-08-20T00:00:00   \n",
       "30         2017-03-11T12:32:00   \n",
       "31   2022-09-01T15:31:41+02:00   \n",
       "..                         ...   \n",
       "724  2021-09-13T12:27:36+02:00   \n",
       "732                              \n",
       "741                              \n",
       "742  2022-07-09T09:42:25+02:00   \n",
       "744        2015-03-05T09:44:00   \n",
       "\n",
       "                                              abstract  ... degre_infox   \n",
       "2                                                       ...         NaN  \\\n",
       "10                                                      ...               \n",
       "23                                                      ...           2   \n",
       "30                                                      ...         NaN   \n",
       "31                                                      ...           1   \n",
       "..                                                 ...  ...         ...   \n",
       "724                                                     ...         NaN   \n",
       "732                                                     ...           1   \n",
       "741                                                     ...           2   \n",
       "742                                                     ...           2   \n",
       "744  Zakir Naik, qui avait mis en doute l’implicati...  ...         NaN   \n",
       "\n",
       "    observateur   source  p_count   \n",
       "2           NaN    Test1        7  \\\n",
       "10           FB  Recueil       17   \n",
       "23           CN  Recueil       10   \n",
       "30          NaN    Test1        9   \n",
       "31           FB  Recueil       12   \n",
       "..          ...      ...      ...   \n",
       "724         NaN    Test2        9   \n",
       "732          FB  Recueil       16   \n",
       "741          FB  Recueil       30   \n",
       "742          GP  Recueil       18   \n",
       "744         NaN    Test2        9   \n",
       "\n",
       "                                                  text  c_count   p_size   \n",
       "2    Déserts médicaux : les députés vont-ils céder ...     3322  474.571  \\\n",
       "10   La FDA va publier une étude sur les effets ind...     4372  257.176   \n",
       "23   Washington enverrait des mercenaires afghans c...     2276  227.600   \n",
       "30   Les cinq infos insolites de la semaine qu'il n...     2123  235.889   \n",
       "31   C’est la rentrée pour les « vaccins » contre l...     5474  456.167   \n",
       "..                                                 ...      ...      ...   \n",
       "724  Un cadre de Pfizer affirme qu’Israël est un la...     2506  278.444   \n",
       "732  Piers Corbyn, astrophysicien et météorologue, ...     2019  126.188   \n",
       "741  MORTS PAR VACCIN  PFIZER -  La  FDA  le  savai...     7241  241.367   \n",
       "742  Les sanctions contre la Russie provoquent l’ef...     6253  347.389   \n",
       "744  Zakir Naik, prédicateur indien ambigu, récompe...     2404  267.111   \n",
       "\n",
       "                                        url_h   \n",
       "2    9329caf31c5634056693f7c08edf6c4eb143c3f9  \\\n",
       "10   1f3dc0cd32405aadd908368395533886a5e13fe2   \n",
       "23   b4dbb3acce78642a72c77f1d11676cec763dafd9   \n",
       "30   f1e80744d46fc4ed520a1a1ca822e43732023ce0   \n",
       "31   3ce98cbc896fea9094211b874ad40c51f848e819   \n",
       "..                                        ...   \n",
       "724  fef67817b8226c68a5661553a8337501719a648a   \n",
       "732  01e00af96b5a2ba1c0e932d41796f79dd8ce283b   \n",
       "741  03ce5709ddc859530205f735d15df89dc84b7a1d   \n",
       "742  ab9275fd6e87ab8ed911ceb9b7241fc47e2edead   \n",
       "744  09c6fe0f66232e67d73ffcd5339c765dbc7e1e7e   \n",
       "\n",
       "                                               pp_text   \n",
       "2    déserts médicaux : les députés vont-ils céder ...  \\\n",
       "10   la fda va publier une étude sur les effets ind...   \n",
       "23   washington enverrait des mercenaires afghans c...   \n",
       "30   les cinq infos insolites de la semaine qu'il n...   \n",
       "31   c est la rentrée pour les « vaccins » contre l...   \n",
       "..                                                 ...   \n",
       "724  un cadre de pfizer affirme qu israël est un la...   \n",
       "732  piers corbyn, astrophysicien et météorologue, ...   \n",
       "741  morts par vaccin  pfizer -  la  fda  le  savai...   \n",
       "742  les sanctions contre la russie provoquent l ef...   \n",
       "744  zakir naik, prédicateur indien ambigu, récompe...   \n",
       "\n",
       "                                              text_cut  \n",
       "2    Déserts médicaux : les députés vont-ils céder ...  \n",
       "10   La FDA va publier une étude sur les effets ind...  \n",
       "23   Washington enverrait des mercenaires afghans c...  \n",
       "30   Les cinq infos insolites de la semaine qu'il n...  \n",
       "31   C’est la rentrée pour les « vaccins » contre l...  \n",
       "..                                                 ...  \n",
       "724  Un cadre de Pfizer affirme qu’Israël est un la...  \n",
       "732  Piers Corbyn, astrophysicien et météorologue, ...  \n",
       "741  MORTS PAR VACCIN  PFIZER -  La  FDA  le  savai...  \n",
       "742  Les sanctions contre la Russie provoquent l’ef...  \n",
       "744  Zakir Naik, prédicateur indien ambigu, récompe...  \n",
       "\n",
       "[150 rows x 48 columns]"
      ]
     },
     "execution_count": 251,
     "metadata": {},
     "output_type": "execute_result"
    }
   ],
   "source": [
    "df_ml.loc[~df_ml.index.isin(df_train.index)]"
   ]
  },
  {
   "cell_type": "code",
   "execution_count": 253,
   "id": "a9abf316",
   "metadata": {},
   "outputs": [],
   "source": [
    "df_train = df_ml.sample(frac=0.8)\n",
    "df_test = df_ml.loc[~df_ml.index.isin(df_train.index)]"
   ]
  },
  {
   "cell_type": "markdown",
   "id": "c32a1152",
   "metadata": {},
   "source": [
    "## PyTorch Dataset"
   ]
  },
  {
   "cell_type": "code",
   "execution_count": 2,
   "id": "2deda63e",
   "metadata": {},
   "outputs": [],
   "source": [
    "import numpy as np"
   ]
  },
  {
   "cell_type": "code",
   "execution_count": 3,
   "id": "2798bbfb",
   "metadata": {},
   "outputs": [
    {
     "ename": "NameError",
     "evalue": "name 'X_train' is not defined",
     "output_type": "error",
     "traceback": [
      "\u001b[0;31m---------------------------------------------------------------------------\u001b[0m",
      "\u001b[0;31mNameError\u001b[0m                                 Traceback (most recent call last)",
      "Cell \u001b[0;32mIn[3], line 1\u001b[0m\n\u001b[0;32m----> 1\u001b[0m embeddings_train \u001b[38;5;241m=\u001b[39m np\u001b[38;5;241m.\u001b[39marray([tokenizer\u001b[38;5;241m.\u001b[39mencode(text,add_special_tokens\u001b[38;5;241m=\u001b[39m\u001b[38;5;28;01mTrue\u001b[39;00m,return_tensors\u001b[38;5;241m=\u001b[39m\u001b[38;5;124m'\u001b[39m\u001b[38;5;124mpt\u001b[39m\u001b[38;5;124m'\u001b[39m) \u001b[38;5;28;01mfor\u001b[39;00m text \u001b[38;5;129;01min\u001b[39;00m \u001b[43mX_train\u001b[49m])\u001b[38;5;241m.\u001b[39mcpu()\n",
      "\u001b[0;31mNameError\u001b[0m: name 'X_train' is not defined"
     ]
    }
   ],
   "source": [
    "embeddings_train = np.array([tokenizer.encode(text,add_special_tokens=True,return_tensors='pt') for text in X_train]).cpu()\n",
    "\n"
   ]
  },
  {
   "cell_type": "code",
   "execution_count": 260,
   "id": "db7f77d3",
   "metadata": {},
   "outputs": [
    {
     "ename": "TypeError",
     "evalue": "TextEncodeInput must be Union[TextInputSequence, Tuple[InputSequence, InputSequence]]",
     "output_type": "error",
     "traceback": [
      "\u001b[0;31m---------------------------------------------------------------------------\u001b[0m",
      "\u001b[0;31mTypeError\u001b[0m                                 Traceback (most recent call last)",
      "Cell \u001b[0;32mIn[260], line 16\u001b[0m\n\u001b[1;32m     13\u001b[0m     \u001b[38;5;28;01mdef\u001b[39;00m \u001b[38;5;21m__len__\u001b[39m(\u001b[38;5;28mself\u001b[39m):\n\u001b[1;32m     14\u001b[0m         \u001b[38;5;28;01mreturn\u001b[39;00m \u001b[38;5;28mlen\u001b[39m(\u001b[38;5;28mself\u001b[39m\u001b[38;5;241m.\u001b[39mlabels)\n\u001b[0;32m---> 16\u001b[0m train_dataset \u001b[38;5;241m=\u001b[39m InfoxDataset(\u001b[43mget_bert_embeddings\u001b[49m\u001b[43m(\u001b[49m\u001b[43mX_train\u001b[49m\u001b[43m)\u001b[49m, y_train)\n\u001b[1;32m     17\u001b[0m val_dataset \u001b[38;5;241m=\u001b[39m InfoxDataset(get_bert_embeddings(X_test), y_test)\n",
      "Cell \u001b[0;32mIn[153], line 3\u001b[0m, in \u001b[0;36mget_bert_embeddings\u001b[0;34m(text)\u001b[0m\n\u001b[1;32m      2\u001b[0m \u001b[38;5;28;01mdef\u001b[39;00m \u001b[38;5;21mget_bert_embeddings\u001b[39m(text):\n\u001b[0;32m----> 3\u001b[0m     input_ids \u001b[38;5;241m=\u001b[39m \u001b[43mtokenizer\u001b[49m\u001b[38;5;241;43m.\u001b[39;49m\u001b[43mencode\u001b[49m\u001b[43m(\u001b[49m\u001b[43mtext\u001b[49m\u001b[43m,\u001b[49m\u001b[43madd_special_tokens\u001b[49m\u001b[38;5;241;43m=\u001b[39;49m\u001b[38;5;28;43;01mTrue\u001b[39;49;00m\u001b[43m,\u001b[49m\u001b[43mreturn_tensors\u001b[49m\u001b[38;5;241;43m=\u001b[39;49m\u001b[38;5;124;43m'\u001b[39;49m\u001b[38;5;124;43mpt\u001b[39;49m\u001b[38;5;124;43m'\u001b[39;49m\u001b[43m)\u001b[49m\u001b[38;5;241m.\u001b[39mto(device)\n\u001b[1;32m      4\u001b[0m     input_ids \u001b[38;5;241m=\u001b[39m input_ids[:,:\u001b[38;5;241m512\u001b[39m]\n\u001b[1;32m      5\u001b[0m     \u001b[38;5;28;01mwith\u001b[39;00m torch\u001b[38;5;241m.\u001b[39minference_mode():\n",
      "File \u001b[0;32m/opt/homebrew/Caskroom/miniforge/base/envs/pt39/lib/python3.9/site-packages/transformers/tokenization_utils_base.py:2319\u001b[0m, in \u001b[0;36mPreTrainedTokenizerBase.encode\u001b[0;34m(self, text, text_pair, add_special_tokens, padding, truncation, max_length, stride, return_tensors, **kwargs)\u001b[0m\n\u001b[1;32m   2282\u001b[0m \u001b[38;5;129m@add_end_docstrings\u001b[39m(\n\u001b[1;32m   2283\u001b[0m     ENCODE_KWARGS_DOCSTRING,\n\u001b[1;32m   2284\u001b[0m \u001b[38;5;250m    \u001b[39m\u001b[38;5;124;03m\"\"\"\u001b[39;00m\n\u001b[0;32m   (...)\u001b[0m\n\u001b[1;32m   2302\u001b[0m     \u001b[38;5;241m*\u001b[39m\u001b[38;5;241m*\u001b[39mkwargs,\n\u001b[1;32m   2303\u001b[0m ) \u001b[38;5;241m-\u001b[39m\u001b[38;5;241m>\u001b[39m List[\u001b[38;5;28mint\u001b[39m]:\n\u001b[1;32m   2304\u001b[0m \u001b[38;5;250m    \u001b[39m\u001b[38;5;124;03m\"\"\"\u001b[39;00m\n\u001b[1;32m   2305\u001b[0m \u001b[38;5;124;03m    Converts a string to a sequence of ids (integer), using the tokenizer and vocabulary.\u001b[39;00m\n\u001b[1;32m   2306\u001b[0m \n\u001b[0;32m   (...)\u001b[0m\n\u001b[1;32m   2317\u001b[0m \u001b[38;5;124;03m            method).\u001b[39;00m\n\u001b[1;32m   2318\u001b[0m \u001b[38;5;124;03m    \"\"\"\u001b[39;00m\n\u001b[0;32m-> 2319\u001b[0m     encoded_inputs \u001b[38;5;241m=\u001b[39m \u001b[38;5;28;43mself\u001b[39;49m\u001b[38;5;241;43m.\u001b[39;49m\u001b[43mencode_plus\u001b[49m\u001b[43m(\u001b[49m\n\u001b[1;32m   2320\u001b[0m \u001b[43m        \u001b[49m\u001b[43mtext\u001b[49m\u001b[43m,\u001b[49m\n\u001b[1;32m   2321\u001b[0m \u001b[43m        \u001b[49m\u001b[43mtext_pair\u001b[49m\u001b[38;5;241;43m=\u001b[39;49m\u001b[43mtext_pair\u001b[49m\u001b[43m,\u001b[49m\n\u001b[1;32m   2322\u001b[0m \u001b[43m        \u001b[49m\u001b[43madd_special_tokens\u001b[49m\u001b[38;5;241;43m=\u001b[39;49m\u001b[43madd_special_tokens\u001b[49m\u001b[43m,\u001b[49m\n\u001b[1;32m   2323\u001b[0m \u001b[43m        \u001b[49m\u001b[43mpadding\u001b[49m\u001b[38;5;241;43m=\u001b[39;49m\u001b[43mpadding\u001b[49m\u001b[43m,\u001b[49m\n\u001b[1;32m   2324\u001b[0m \u001b[43m        \u001b[49m\u001b[43mtruncation\u001b[49m\u001b[38;5;241;43m=\u001b[39;49m\u001b[43mtruncation\u001b[49m\u001b[43m,\u001b[49m\n\u001b[1;32m   2325\u001b[0m \u001b[43m        \u001b[49m\u001b[43mmax_length\u001b[49m\u001b[38;5;241;43m=\u001b[39;49m\u001b[43mmax_length\u001b[49m\u001b[43m,\u001b[49m\n\u001b[1;32m   2326\u001b[0m \u001b[43m        \u001b[49m\u001b[43mstride\u001b[49m\u001b[38;5;241;43m=\u001b[39;49m\u001b[43mstride\u001b[49m\u001b[43m,\u001b[49m\n\u001b[1;32m   2327\u001b[0m \u001b[43m        \u001b[49m\u001b[43mreturn_tensors\u001b[49m\u001b[38;5;241;43m=\u001b[39;49m\u001b[43mreturn_tensors\u001b[49m\u001b[43m,\u001b[49m\n\u001b[1;32m   2328\u001b[0m \u001b[43m        \u001b[49m\u001b[38;5;241;43m*\u001b[39;49m\u001b[38;5;241;43m*\u001b[39;49m\u001b[43mkwargs\u001b[49m\u001b[43m,\u001b[49m\n\u001b[1;32m   2329\u001b[0m \u001b[43m    \u001b[49m\u001b[43m)\u001b[49m\n\u001b[1;32m   2331\u001b[0m     \u001b[38;5;28;01mreturn\u001b[39;00m encoded_inputs[\u001b[38;5;124m\"\u001b[39m\u001b[38;5;124minput_ids\u001b[39m\u001b[38;5;124m\"\u001b[39m]\n",
      "File \u001b[0;32m/opt/homebrew/Caskroom/miniforge/base/envs/pt39/lib/python3.9/site-packages/transformers/tokenization_utils_base.py:2727\u001b[0m, in \u001b[0;36mPreTrainedTokenizerBase.encode_plus\u001b[0;34m(self, text, text_pair, add_special_tokens, padding, truncation, max_length, stride, is_split_into_words, pad_to_multiple_of, return_tensors, return_token_type_ids, return_attention_mask, return_overflowing_tokens, return_special_tokens_mask, return_offsets_mapping, return_length, verbose, **kwargs)\u001b[0m\n\u001b[1;32m   2717\u001b[0m \u001b[38;5;66;03m# Backward compatibility for 'truncation_strategy', 'pad_to_max_length'\u001b[39;00m\n\u001b[1;32m   2718\u001b[0m padding_strategy, truncation_strategy, max_length, kwargs \u001b[38;5;241m=\u001b[39m \u001b[38;5;28mself\u001b[39m\u001b[38;5;241m.\u001b[39m_get_padding_truncation_strategies(\n\u001b[1;32m   2719\u001b[0m     padding\u001b[38;5;241m=\u001b[39mpadding,\n\u001b[1;32m   2720\u001b[0m     truncation\u001b[38;5;241m=\u001b[39mtruncation,\n\u001b[0;32m   (...)\u001b[0m\n\u001b[1;32m   2724\u001b[0m     \u001b[38;5;241m*\u001b[39m\u001b[38;5;241m*\u001b[39mkwargs,\n\u001b[1;32m   2725\u001b[0m )\n\u001b[0;32m-> 2727\u001b[0m \u001b[38;5;28;01mreturn\u001b[39;00m \u001b[38;5;28;43mself\u001b[39;49m\u001b[38;5;241;43m.\u001b[39;49m\u001b[43m_encode_plus\u001b[49m\u001b[43m(\u001b[49m\n\u001b[1;32m   2728\u001b[0m \u001b[43m    \u001b[49m\u001b[43mtext\u001b[49m\u001b[38;5;241;43m=\u001b[39;49m\u001b[43mtext\u001b[49m\u001b[43m,\u001b[49m\n\u001b[1;32m   2729\u001b[0m \u001b[43m    \u001b[49m\u001b[43mtext_pair\u001b[49m\u001b[38;5;241;43m=\u001b[39;49m\u001b[43mtext_pair\u001b[49m\u001b[43m,\u001b[49m\n\u001b[1;32m   2730\u001b[0m \u001b[43m    \u001b[49m\u001b[43madd_special_tokens\u001b[49m\u001b[38;5;241;43m=\u001b[39;49m\u001b[43madd_special_tokens\u001b[49m\u001b[43m,\u001b[49m\n\u001b[1;32m   2731\u001b[0m \u001b[43m    \u001b[49m\u001b[43mpadding_strategy\u001b[49m\u001b[38;5;241;43m=\u001b[39;49m\u001b[43mpadding_strategy\u001b[49m\u001b[43m,\u001b[49m\n\u001b[1;32m   2732\u001b[0m \u001b[43m    \u001b[49m\u001b[43mtruncation_strategy\u001b[49m\u001b[38;5;241;43m=\u001b[39;49m\u001b[43mtruncation_strategy\u001b[49m\u001b[43m,\u001b[49m\n\u001b[1;32m   2733\u001b[0m \u001b[43m    \u001b[49m\u001b[43mmax_length\u001b[49m\u001b[38;5;241;43m=\u001b[39;49m\u001b[43mmax_length\u001b[49m\u001b[43m,\u001b[49m\n\u001b[1;32m   2734\u001b[0m \u001b[43m    \u001b[49m\u001b[43mstride\u001b[49m\u001b[38;5;241;43m=\u001b[39;49m\u001b[43mstride\u001b[49m\u001b[43m,\u001b[49m\n\u001b[1;32m   2735\u001b[0m \u001b[43m    \u001b[49m\u001b[43mis_split_into_words\u001b[49m\u001b[38;5;241;43m=\u001b[39;49m\u001b[43mis_split_into_words\u001b[49m\u001b[43m,\u001b[49m\n\u001b[1;32m   2736\u001b[0m \u001b[43m    \u001b[49m\u001b[43mpad_to_multiple_of\u001b[49m\u001b[38;5;241;43m=\u001b[39;49m\u001b[43mpad_to_multiple_of\u001b[49m\u001b[43m,\u001b[49m\n\u001b[1;32m   2737\u001b[0m \u001b[43m    \u001b[49m\u001b[43mreturn_tensors\u001b[49m\u001b[38;5;241;43m=\u001b[39;49m\u001b[43mreturn_tensors\u001b[49m\u001b[43m,\u001b[49m\n\u001b[1;32m   2738\u001b[0m \u001b[43m    \u001b[49m\u001b[43mreturn_token_type_ids\u001b[49m\u001b[38;5;241;43m=\u001b[39;49m\u001b[43mreturn_token_type_ids\u001b[49m\u001b[43m,\u001b[49m\n\u001b[1;32m   2739\u001b[0m \u001b[43m    \u001b[49m\u001b[43mreturn_attention_mask\u001b[49m\u001b[38;5;241;43m=\u001b[39;49m\u001b[43mreturn_attention_mask\u001b[49m\u001b[43m,\u001b[49m\n\u001b[1;32m   2740\u001b[0m \u001b[43m    \u001b[49m\u001b[43mreturn_overflowing_tokens\u001b[49m\u001b[38;5;241;43m=\u001b[39;49m\u001b[43mreturn_overflowing_tokens\u001b[49m\u001b[43m,\u001b[49m\n\u001b[1;32m   2741\u001b[0m \u001b[43m    \u001b[49m\u001b[43mreturn_special_tokens_mask\u001b[49m\u001b[38;5;241;43m=\u001b[39;49m\u001b[43mreturn_special_tokens_mask\u001b[49m\u001b[43m,\u001b[49m\n\u001b[1;32m   2742\u001b[0m \u001b[43m    \u001b[49m\u001b[43mreturn_offsets_mapping\u001b[49m\u001b[38;5;241;43m=\u001b[39;49m\u001b[43mreturn_offsets_mapping\u001b[49m\u001b[43m,\u001b[49m\n\u001b[1;32m   2743\u001b[0m \u001b[43m    \u001b[49m\u001b[43mreturn_length\u001b[49m\u001b[38;5;241;43m=\u001b[39;49m\u001b[43mreturn_length\u001b[49m\u001b[43m,\u001b[49m\n\u001b[1;32m   2744\u001b[0m \u001b[43m    \u001b[49m\u001b[43mverbose\u001b[49m\u001b[38;5;241;43m=\u001b[39;49m\u001b[43mverbose\u001b[49m\u001b[43m,\u001b[49m\n\u001b[1;32m   2745\u001b[0m \u001b[43m    \u001b[49m\u001b[38;5;241;43m*\u001b[39;49m\u001b[38;5;241;43m*\u001b[39;49m\u001b[43mkwargs\u001b[49m\u001b[43m,\u001b[49m\n\u001b[1;32m   2746\u001b[0m \u001b[43m\u001b[49m\u001b[43m)\u001b[49m\n",
      "File \u001b[0;32m/opt/homebrew/Caskroom/miniforge/base/envs/pt39/lib/python3.9/site-packages/transformers/tokenization_utils_fast.py:500\u001b[0m, in \u001b[0;36mPreTrainedTokenizerFast._encode_plus\u001b[0;34m(self, text, text_pair, add_special_tokens, padding_strategy, truncation_strategy, max_length, stride, is_split_into_words, pad_to_multiple_of, return_tensors, return_token_type_ids, return_attention_mask, return_overflowing_tokens, return_special_tokens_mask, return_offsets_mapping, return_length, verbose, **kwargs)\u001b[0m\n\u001b[1;32m    478\u001b[0m \u001b[38;5;28;01mdef\u001b[39;00m \u001b[38;5;21m_encode_plus\u001b[39m(\n\u001b[1;32m    479\u001b[0m     \u001b[38;5;28mself\u001b[39m,\n\u001b[1;32m    480\u001b[0m     text: Union[TextInput, PreTokenizedInput],\n\u001b[0;32m   (...)\u001b[0m\n\u001b[1;32m    497\u001b[0m     \u001b[38;5;241m*\u001b[39m\u001b[38;5;241m*\u001b[39mkwargs,\n\u001b[1;32m    498\u001b[0m ) \u001b[38;5;241m-\u001b[39m\u001b[38;5;241m>\u001b[39m BatchEncoding:\n\u001b[1;32m    499\u001b[0m     batched_input \u001b[38;5;241m=\u001b[39m [(text, text_pair)] \u001b[38;5;28;01mif\u001b[39;00m text_pair \u001b[38;5;28;01melse\u001b[39;00m [text]\n\u001b[0;32m--> 500\u001b[0m     batched_output \u001b[38;5;241m=\u001b[39m \u001b[38;5;28;43mself\u001b[39;49m\u001b[38;5;241;43m.\u001b[39;49m\u001b[43m_batch_encode_plus\u001b[49m\u001b[43m(\u001b[49m\n\u001b[1;32m    501\u001b[0m \u001b[43m        \u001b[49m\u001b[43mbatched_input\u001b[49m\u001b[43m,\u001b[49m\n\u001b[1;32m    502\u001b[0m \u001b[43m        \u001b[49m\u001b[43mis_split_into_words\u001b[49m\u001b[38;5;241;43m=\u001b[39;49m\u001b[43mis_split_into_words\u001b[49m\u001b[43m,\u001b[49m\n\u001b[1;32m    503\u001b[0m \u001b[43m        \u001b[49m\u001b[43madd_special_tokens\u001b[49m\u001b[38;5;241;43m=\u001b[39;49m\u001b[43madd_special_tokens\u001b[49m\u001b[43m,\u001b[49m\n\u001b[1;32m    504\u001b[0m \u001b[43m        \u001b[49m\u001b[43mpadding_strategy\u001b[49m\u001b[38;5;241;43m=\u001b[39;49m\u001b[43mpadding_strategy\u001b[49m\u001b[43m,\u001b[49m\n\u001b[1;32m    505\u001b[0m \u001b[43m        \u001b[49m\u001b[43mtruncation_strategy\u001b[49m\u001b[38;5;241;43m=\u001b[39;49m\u001b[43mtruncation_strategy\u001b[49m\u001b[43m,\u001b[49m\n\u001b[1;32m    506\u001b[0m \u001b[43m        \u001b[49m\u001b[43mmax_length\u001b[49m\u001b[38;5;241;43m=\u001b[39;49m\u001b[43mmax_length\u001b[49m\u001b[43m,\u001b[49m\n\u001b[1;32m    507\u001b[0m \u001b[43m        \u001b[49m\u001b[43mstride\u001b[49m\u001b[38;5;241;43m=\u001b[39;49m\u001b[43mstride\u001b[49m\u001b[43m,\u001b[49m\n\u001b[1;32m    508\u001b[0m \u001b[43m        \u001b[49m\u001b[43mpad_to_multiple_of\u001b[49m\u001b[38;5;241;43m=\u001b[39;49m\u001b[43mpad_to_multiple_of\u001b[49m\u001b[43m,\u001b[49m\n\u001b[1;32m    509\u001b[0m \u001b[43m        \u001b[49m\u001b[43mreturn_tensors\u001b[49m\u001b[38;5;241;43m=\u001b[39;49m\u001b[43mreturn_tensors\u001b[49m\u001b[43m,\u001b[49m\n\u001b[1;32m    510\u001b[0m \u001b[43m        \u001b[49m\u001b[43mreturn_token_type_ids\u001b[49m\u001b[38;5;241;43m=\u001b[39;49m\u001b[43mreturn_token_type_ids\u001b[49m\u001b[43m,\u001b[49m\n\u001b[1;32m    511\u001b[0m \u001b[43m        \u001b[49m\u001b[43mreturn_attention_mask\u001b[49m\u001b[38;5;241;43m=\u001b[39;49m\u001b[43mreturn_attention_mask\u001b[49m\u001b[43m,\u001b[49m\n\u001b[1;32m    512\u001b[0m \u001b[43m        \u001b[49m\u001b[43mreturn_overflowing_tokens\u001b[49m\u001b[38;5;241;43m=\u001b[39;49m\u001b[43mreturn_overflowing_tokens\u001b[49m\u001b[43m,\u001b[49m\n\u001b[1;32m    513\u001b[0m \u001b[43m        \u001b[49m\u001b[43mreturn_special_tokens_mask\u001b[49m\u001b[38;5;241;43m=\u001b[39;49m\u001b[43mreturn_special_tokens_mask\u001b[49m\u001b[43m,\u001b[49m\n\u001b[1;32m    514\u001b[0m \u001b[43m        \u001b[49m\u001b[43mreturn_offsets_mapping\u001b[49m\u001b[38;5;241;43m=\u001b[39;49m\u001b[43mreturn_offsets_mapping\u001b[49m\u001b[43m,\u001b[49m\n\u001b[1;32m    515\u001b[0m \u001b[43m        \u001b[49m\u001b[43mreturn_length\u001b[49m\u001b[38;5;241;43m=\u001b[39;49m\u001b[43mreturn_length\u001b[49m\u001b[43m,\u001b[49m\n\u001b[1;32m    516\u001b[0m \u001b[43m        \u001b[49m\u001b[43mverbose\u001b[49m\u001b[38;5;241;43m=\u001b[39;49m\u001b[43mverbose\u001b[49m\u001b[43m,\u001b[49m\n\u001b[1;32m    517\u001b[0m \u001b[43m        \u001b[49m\u001b[38;5;241;43m*\u001b[39;49m\u001b[38;5;241;43m*\u001b[39;49m\u001b[43mkwargs\u001b[49m\u001b[43m,\u001b[49m\n\u001b[1;32m    518\u001b[0m \u001b[43m    \u001b[49m\u001b[43m)\u001b[49m\n\u001b[1;32m    520\u001b[0m     \u001b[38;5;66;03m# Return tensor is None, then we can remove the leading batch axis\u001b[39;00m\n\u001b[1;32m    521\u001b[0m     \u001b[38;5;66;03m# Overflowing tokens are returned as a batch of output so we keep them in this case\u001b[39;00m\n\u001b[1;32m    522\u001b[0m     \u001b[38;5;28;01mif\u001b[39;00m return_tensors \u001b[38;5;129;01mis\u001b[39;00m \u001b[38;5;28;01mNone\u001b[39;00m \u001b[38;5;129;01mand\u001b[39;00m \u001b[38;5;129;01mnot\u001b[39;00m return_overflowing_tokens:\n",
      "File \u001b[0;32m/opt/homebrew/Caskroom/miniforge/base/envs/pt39/lib/python3.9/site-packages/transformers/tokenization_utils_fast.py:428\u001b[0m, in \u001b[0;36mPreTrainedTokenizerFast._batch_encode_plus\u001b[0;34m(self, batch_text_or_text_pairs, add_special_tokens, padding_strategy, truncation_strategy, max_length, stride, is_split_into_words, pad_to_multiple_of, return_tensors, return_token_type_ids, return_attention_mask, return_overflowing_tokens, return_special_tokens_mask, return_offsets_mapping, return_length, verbose)\u001b[0m\n\u001b[1;32m    419\u001b[0m \u001b[38;5;66;03m# Set the truncation and padding strategy and restore the initial configuration\u001b[39;00m\n\u001b[1;32m    420\u001b[0m \u001b[38;5;28mself\u001b[39m\u001b[38;5;241m.\u001b[39mset_truncation_and_padding(\n\u001b[1;32m    421\u001b[0m     padding_strategy\u001b[38;5;241m=\u001b[39mpadding_strategy,\n\u001b[1;32m    422\u001b[0m     truncation_strategy\u001b[38;5;241m=\u001b[39mtruncation_strategy,\n\u001b[0;32m   (...)\u001b[0m\n\u001b[1;32m    425\u001b[0m     pad_to_multiple_of\u001b[38;5;241m=\u001b[39mpad_to_multiple_of,\n\u001b[1;32m    426\u001b[0m )\n\u001b[0;32m--> 428\u001b[0m encodings \u001b[38;5;241m=\u001b[39m \u001b[38;5;28;43mself\u001b[39;49m\u001b[38;5;241;43m.\u001b[39;49m\u001b[43m_tokenizer\u001b[49m\u001b[38;5;241;43m.\u001b[39;49m\u001b[43mencode_batch\u001b[49m\u001b[43m(\u001b[49m\n\u001b[1;32m    429\u001b[0m \u001b[43m    \u001b[49m\u001b[43mbatch_text_or_text_pairs\u001b[49m\u001b[43m,\u001b[49m\n\u001b[1;32m    430\u001b[0m \u001b[43m    \u001b[49m\u001b[43madd_special_tokens\u001b[49m\u001b[38;5;241;43m=\u001b[39;49m\u001b[43madd_special_tokens\u001b[49m\u001b[43m,\u001b[49m\n\u001b[1;32m    431\u001b[0m \u001b[43m    \u001b[49m\u001b[43mis_pretokenized\u001b[49m\u001b[38;5;241;43m=\u001b[39;49m\u001b[43mis_split_into_words\u001b[49m\u001b[43m,\u001b[49m\n\u001b[1;32m    432\u001b[0m \u001b[43m\u001b[49m\u001b[43m)\u001b[49m\n\u001b[1;32m    434\u001b[0m \u001b[38;5;66;03m# Convert encoding to dict\u001b[39;00m\n\u001b[1;32m    435\u001b[0m \u001b[38;5;66;03m# `Tokens` has type: Tuple[\u001b[39;00m\n\u001b[1;32m    436\u001b[0m \u001b[38;5;66;03m#                       List[Dict[str, List[List[int]]]] or List[Dict[str, 2D-Tensor]],\u001b[39;00m\n\u001b[1;32m    437\u001b[0m \u001b[38;5;66;03m#                       List[EncodingFast]\u001b[39;00m\n\u001b[1;32m    438\u001b[0m \u001b[38;5;66;03m#                    ]\u001b[39;00m\n\u001b[1;32m    439\u001b[0m \u001b[38;5;66;03m# with nested dimensions corresponding to batch, overflows, sequence length\u001b[39;00m\n\u001b[1;32m    440\u001b[0m tokens_and_encodings \u001b[38;5;241m=\u001b[39m [\n\u001b[1;32m    441\u001b[0m     \u001b[38;5;28mself\u001b[39m\u001b[38;5;241m.\u001b[39m_convert_encoding(\n\u001b[1;32m    442\u001b[0m         encoding\u001b[38;5;241m=\u001b[39mencoding,\n\u001b[0;32m   (...)\u001b[0m\n\u001b[1;32m    451\u001b[0m     \u001b[38;5;28;01mfor\u001b[39;00m encoding \u001b[38;5;129;01min\u001b[39;00m encodings\n\u001b[1;32m    452\u001b[0m ]\n",
      "\u001b[0;31mTypeError\u001b[0m: TextEncodeInput must be Union[TextInputSequence, Tuple[InputSequence, InputSequence]]"
     ]
    }
   ],
   "source": [
    "import torch\n",
    "\n",
    "class InfoxDataset(torch.utils.data.Dataset):\n",
    "    def __init__(self, encodings, labels):\n",
    "        self.encodings = encodings\n",
    "        self.labels = labels\n",
    "\n",
    "    def __getitem__(self, idx):\n",
    "        item = {key: torch.tensor(val[idx]) for key, val in self.encodings.items()}\n",
    "        item['labels'] = torch.tensor(self.labels[idx])\n",
    "        return item\n",
    "\n",
    "    def __len__(self):\n",
    "        return len(self.labels)\n",
    "\n",
    "train_dataset = InfoxDataset(get_bert_embeddings(X_train), y_train)\n",
    "val_dataset = InfoxDataset(get_bert_embeddings(X_test), y_test)"
   ]
  },
  {
   "cell_type": "code",
   "execution_count": 258,
   "id": "b6ed9283",
   "metadata": {},
   "outputs": [],
   "source": [
    "trainer = Trainer(\n",
    "    model=model,\n",
    "    args=training_args,\n",
    "    train_dataset=train_dataset,\n",
    "    eval_dataset=val_dataset,\n",
    "    compute_metrics=compute_metrics,\n",
    ")"
   ]
  },
  {
   "cell_type": "code",
   "execution_count": 259,
   "id": "1e2b7bdf",
   "metadata": {},
   "outputs": [
    {
     "name": "stderr",
     "output_type": "stream",
     "text": [
      "/opt/homebrew/Caskroom/miniforge/base/envs/pt39/lib/python3.9/site-packages/transformers/optimization.py:407: FutureWarning: This implementation of AdamW is deprecated and will be removed in a future version. Use the PyTorch implementation torch.optim.AdamW instead, or set `no_deprecation_warning=True` to disable this warning\n",
      "  warnings.warn(\n"
     ]
    },
    {
     "ename": "TypeError",
     "evalue": "new(): invalid data type 'str'",
     "output_type": "error",
     "traceback": [
      "\u001b[0;31m---------------------------------------------------------------------------\u001b[0m",
      "\u001b[0;31mTypeError\u001b[0m                                 Traceback (most recent call last)",
      "Cell \u001b[0;32mIn[259], line 1\u001b[0m\n\u001b[0;32m----> 1\u001b[0m \u001b[43mtrainer\u001b[49m\u001b[38;5;241;43m.\u001b[39;49m\u001b[43mtrain\u001b[49m\u001b[43m(\u001b[49m\u001b[43m)\u001b[49m\n",
      "File \u001b[0;32m/opt/homebrew/Caskroom/miniforge/base/envs/pt39/lib/python3.9/site-packages/transformers/trainer.py:1664\u001b[0m, in \u001b[0;36mTrainer.train\u001b[0;34m(self, resume_from_checkpoint, trial, ignore_keys_for_eval, **kwargs)\u001b[0m\n\u001b[1;32m   1659\u001b[0m     \u001b[38;5;28mself\u001b[39m\u001b[38;5;241m.\u001b[39mmodel_wrapped \u001b[38;5;241m=\u001b[39m \u001b[38;5;28mself\u001b[39m\u001b[38;5;241m.\u001b[39mmodel\n\u001b[1;32m   1661\u001b[0m inner_training_loop \u001b[38;5;241m=\u001b[39m find_executable_batch_size(\n\u001b[1;32m   1662\u001b[0m     \u001b[38;5;28mself\u001b[39m\u001b[38;5;241m.\u001b[39m_inner_training_loop, \u001b[38;5;28mself\u001b[39m\u001b[38;5;241m.\u001b[39m_train_batch_size, args\u001b[38;5;241m.\u001b[39mauto_find_batch_size\n\u001b[1;32m   1663\u001b[0m )\n\u001b[0;32m-> 1664\u001b[0m \u001b[38;5;28;01mreturn\u001b[39;00m \u001b[43minner_training_loop\u001b[49m\u001b[43m(\u001b[49m\n\u001b[1;32m   1665\u001b[0m \u001b[43m    \u001b[49m\u001b[43margs\u001b[49m\u001b[38;5;241;43m=\u001b[39;49m\u001b[43margs\u001b[49m\u001b[43m,\u001b[49m\n\u001b[1;32m   1666\u001b[0m \u001b[43m    \u001b[49m\u001b[43mresume_from_checkpoint\u001b[49m\u001b[38;5;241;43m=\u001b[39;49m\u001b[43mresume_from_checkpoint\u001b[49m\u001b[43m,\u001b[49m\n\u001b[1;32m   1667\u001b[0m \u001b[43m    \u001b[49m\u001b[43mtrial\u001b[49m\u001b[38;5;241;43m=\u001b[39;49m\u001b[43mtrial\u001b[49m\u001b[43m,\u001b[49m\n\u001b[1;32m   1668\u001b[0m \u001b[43m    \u001b[49m\u001b[43mignore_keys_for_eval\u001b[49m\u001b[38;5;241;43m=\u001b[39;49m\u001b[43mignore_keys_for_eval\u001b[49m\u001b[43m,\u001b[49m\n\u001b[1;32m   1669\u001b[0m \u001b[43m\u001b[49m\u001b[43m)\u001b[49m\n",
      "File \u001b[0;32m/opt/homebrew/Caskroom/miniforge/base/envs/pt39/lib/python3.9/site-packages/transformers/trainer.py:1909\u001b[0m, in \u001b[0;36mTrainer._inner_training_loop\u001b[0;34m(self, batch_size, args, resume_from_checkpoint, trial, ignore_keys_for_eval)\u001b[0m\n\u001b[1;32m   1906\u001b[0m     rng_to_sync \u001b[38;5;241m=\u001b[39m \u001b[38;5;28;01mTrue\u001b[39;00m\n\u001b[1;32m   1908\u001b[0m step \u001b[38;5;241m=\u001b[39m \u001b[38;5;241m-\u001b[39m\u001b[38;5;241m1\u001b[39m\n\u001b[0;32m-> 1909\u001b[0m \u001b[38;5;28;01mfor\u001b[39;00m step, inputs \u001b[38;5;129;01min\u001b[39;00m \u001b[38;5;28menumerate\u001b[39m(epoch_iterator):\n\u001b[1;32m   1910\u001b[0m     total_batched_samples \u001b[38;5;241m+\u001b[39m\u001b[38;5;241m=\u001b[39m \u001b[38;5;241m1\u001b[39m\n\u001b[1;32m   1911\u001b[0m     \u001b[38;5;28;01mif\u001b[39;00m rng_to_sync:\n",
      "File \u001b[0;32m/opt/homebrew/Caskroom/miniforge/base/envs/pt39/lib/python3.9/site-packages/torch/utils/data/dataloader.py:634\u001b[0m, in \u001b[0;36m_BaseDataLoaderIter.__next__\u001b[0;34m(self)\u001b[0m\n\u001b[1;32m    631\u001b[0m \u001b[38;5;28;01mif\u001b[39;00m \u001b[38;5;28mself\u001b[39m\u001b[38;5;241m.\u001b[39m_sampler_iter \u001b[38;5;129;01mis\u001b[39;00m \u001b[38;5;28;01mNone\u001b[39;00m:\n\u001b[1;32m    632\u001b[0m     \u001b[38;5;66;03m# TODO(https://github.com/pytorch/pytorch/issues/76750)\u001b[39;00m\n\u001b[1;32m    633\u001b[0m     \u001b[38;5;28mself\u001b[39m\u001b[38;5;241m.\u001b[39m_reset()  \u001b[38;5;66;03m# type: ignore[call-arg]\u001b[39;00m\n\u001b[0;32m--> 634\u001b[0m data \u001b[38;5;241m=\u001b[39m \u001b[38;5;28;43mself\u001b[39;49m\u001b[38;5;241;43m.\u001b[39;49m\u001b[43m_next_data\u001b[49m\u001b[43m(\u001b[49m\u001b[43m)\u001b[49m\n\u001b[1;32m    635\u001b[0m \u001b[38;5;28mself\u001b[39m\u001b[38;5;241m.\u001b[39m_num_yielded \u001b[38;5;241m+\u001b[39m\u001b[38;5;241m=\u001b[39m \u001b[38;5;241m1\u001b[39m\n\u001b[1;32m    636\u001b[0m \u001b[38;5;28;01mif\u001b[39;00m \u001b[38;5;28mself\u001b[39m\u001b[38;5;241m.\u001b[39m_dataset_kind \u001b[38;5;241m==\u001b[39m _DatasetKind\u001b[38;5;241m.\u001b[39mIterable \u001b[38;5;129;01mand\u001b[39;00m \\\n\u001b[1;32m    637\u001b[0m         \u001b[38;5;28mself\u001b[39m\u001b[38;5;241m.\u001b[39m_IterableDataset_len_called \u001b[38;5;129;01mis\u001b[39;00m \u001b[38;5;129;01mnot\u001b[39;00m \u001b[38;5;28;01mNone\u001b[39;00m \u001b[38;5;129;01mand\u001b[39;00m \\\n\u001b[1;32m    638\u001b[0m         \u001b[38;5;28mself\u001b[39m\u001b[38;5;241m.\u001b[39m_num_yielded \u001b[38;5;241m>\u001b[39m \u001b[38;5;28mself\u001b[39m\u001b[38;5;241m.\u001b[39m_IterableDataset_len_called:\n",
      "File \u001b[0;32m/opt/homebrew/Caskroom/miniforge/base/envs/pt39/lib/python3.9/site-packages/torch/utils/data/dataloader.py:678\u001b[0m, in \u001b[0;36m_SingleProcessDataLoaderIter._next_data\u001b[0;34m(self)\u001b[0m\n\u001b[1;32m    676\u001b[0m \u001b[38;5;28;01mdef\u001b[39;00m \u001b[38;5;21m_next_data\u001b[39m(\u001b[38;5;28mself\u001b[39m):\n\u001b[1;32m    677\u001b[0m     index \u001b[38;5;241m=\u001b[39m \u001b[38;5;28mself\u001b[39m\u001b[38;5;241m.\u001b[39m_next_index()  \u001b[38;5;66;03m# may raise StopIteration\u001b[39;00m\n\u001b[0;32m--> 678\u001b[0m     data \u001b[38;5;241m=\u001b[39m \u001b[38;5;28;43mself\u001b[39;49m\u001b[38;5;241;43m.\u001b[39;49m\u001b[43m_dataset_fetcher\u001b[49m\u001b[38;5;241;43m.\u001b[39;49m\u001b[43mfetch\u001b[49m\u001b[43m(\u001b[49m\u001b[43mindex\u001b[49m\u001b[43m)\u001b[49m  \u001b[38;5;66;03m# may raise StopIteration\u001b[39;00m\n\u001b[1;32m    679\u001b[0m     \u001b[38;5;28;01mif\u001b[39;00m \u001b[38;5;28mself\u001b[39m\u001b[38;5;241m.\u001b[39m_pin_memory:\n\u001b[1;32m    680\u001b[0m         data \u001b[38;5;241m=\u001b[39m _utils\u001b[38;5;241m.\u001b[39mpin_memory\u001b[38;5;241m.\u001b[39mpin_memory(data, \u001b[38;5;28mself\u001b[39m\u001b[38;5;241m.\u001b[39m_pin_memory_device)\n",
      "File \u001b[0;32m/opt/homebrew/Caskroom/miniforge/base/envs/pt39/lib/python3.9/site-packages/torch/utils/data/_utils/fetch.py:51\u001b[0m, in \u001b[0;36m_MapDatasetFetcher.fetch\u001b[0;34m(self, possibly_batched_index)\u001b[0m\n\u001b[1;32m     49\u001b[0m         data \u001b[38;5;241m=\u001b[39m \u001b[38;5;28mself\u001b[39m\u001b[38;5;241m.\u001b[39mdataset\u001b[38;5;241m.\u001b[39m__getitems__(possibly_batched_index)\n\u001b[1;32m     50\u001b[0m     \u001b[38;5;28;01melse\u001b[39;00m:\n\u001b[0;32m---> 51\u001b[0m         data \u001b[38;5;241m=\u001b[39m [\u001b[38;5;28mself\u001b[39m\u001b[38;5;241m.\u001b[39mdataset[idx] \u001b[38;5;28;01mfor\u001b[39;00m idx \u001b[38;5;129;01min\u001b[39;00m possibly_batched_index]\n\u001b[1;32m     52\u001b[0m \u001b[38;5;28;01melse\u001b[39;00m:\n\u001b[1;32m     53\u001b[0m     data \u001b[38;5;241m=\u001b[39m \u001b[38;5;28mself\u001b[39m\u001b[38;5;241m.\u001b[39mdataset[possibly_batched_index]\n",
      "File \u001b[0;32m/opt/homebrew/Caskroom/miniforge/base/envs/pt39/lib/python3.9/site-packages/torch/utils/data/_utils/fetch.py:51\u001b[0m, in \u001b[0;36m<listcomp>\u001b[0;34m(.0)\u001b[0m\n\u001b[1;32m     49\u001b[0m         data \u001b[38;5;241m=\u001b[39m \u001b[38;5;28mself\u001b[39m\u001b[38;5;241m.\u001b[39mdataset\u001b[38;5;241m.\u001b[39m__getitems__(possibly_batched_index)\n\u001b[1;32m     50\u001b[0m     \u001b[38;5;28;01melse\u001b[39;00m:\n\u001b[0;32m---> 51\u001b[0m         data \u001b[38;5;241m=\u001b[39m [\u001b[38;5;28;43mself\u001b[39;49m\u001b[38;5;241;43m.\u001b[39;49m\u001b[43mdataset\u001b[49m\u001b[43m[\u001b[49m\u001b[43midx\u001b[49m\u001b[43m]\u001b[49m \u001b[38;5;28;01mfor\u001b[39;00m idx \u001b[38;5;129;01min\u001b[39;00m possibly_batched_index]\n\u001b[1;32m     52\u001b[0m \u001b[38;5;28;01melse\u001b[39;00m:\n\u001b[1;32m     53\u001b[0m     data \u001b[38;5;241m=\u001b[39m \u001b[38;5;28mself\u001b[39m\u001b[38;5;241m.\u001b[39mdataset[possibly_batched_index]\n",
      "Cell \u001b[0;32mIn[257], line 9\u001b[0m, in \u001b[0;36mInfoxDataset.__getitem__\u001b[0;34m(self, idx)\u001b[0m\n\u001b[1;32m      8\u001b[0m \u001b[38;5;28;01mdef\u001b[39;00m \u001b[38;5;21m__getitem__\u001b[39m(\u001b[38;5;28mself\u001b[39m, idx):\n\u001b[0;32m----> 9\u001b[0m     item \u001b[38;5;241m=\u001b[39m {key: torch\u001b[38;5;241m.\u001b[39mtensor(val[idx]) \u001b[38;5;28;01mfor\u001b[39;00m key, val \u001b[38;5;129;01min\u001b[39;00m \u001b[38;5;28mself\u001b[39m\u001b[38;5;241m.\u001b[39mencodings\u001b[38;5;241m.\u001b[39mitems()}\n\u001b[1;32m     10\u001b[0m     item[\u001b[38;5;124m'\u001b[39m\u001b[38;5;124mlabels\u001b[39m\u001b[38;5;124m'\u001b[39m] \u001b[38;5;241m=\u001b[39m torch\u001b[38;5;241m.\u001b[39mtensor(\u001b[38;5;28mself\u001b[39m\u001b[38;5;241m.\u001b[39mlabels[idx])\n\u001b[1;32m     11\u001b[0m     \u001b[38;5;28;01mreturn\u001b[39;00m item\n",
      "Cell \u001b[0;32mIn[257], line 9\u001b[0m, in \u001b[0;36m<dictcomp>\u001b[0;34m(.0)\u001b[0m\n\u001b[1;32m      8\u001b[0m \u001b[38;5;28;01mdef\u001b[39;00m \u001b[38;5;21m__getitem__\u001b[39m(\u001b[38;5;28mself\u001b[39m, idx):\n\u001b[0;32m----> 9\u001b[0m     item \u001b[38;5;241m=\u001b[39m {key: \u001b[43mtorch\u001b[49m\u001b[38;5;241;43m.\u001b[39;49m\u001b[43mtensor\u001b[49m\u001b[43m(\u001b[49m\u001b[43mval\u001b[49m\u001b[43m[\u001b[49m\u001b[43midx\u001b[49m\u001b[43m]\u001b[49m\u001b[43m)\u001b[49m \u001b[38;5;28;01mfor\u001b[39;00m key, val \u001b[38;5;129;01min\u001b[39;00m \u001b[38;5;28mself\u001b[39m\u001b[38;5;241m.\u001b[39mencodings\u001b[38;5;241m.\u001b[39mitems()}\n\u001b[1;32m     10\u001b[0m     item[\u001b[38;5;124m'\u001b[39m\u001b[38;5;124mlabels\u001b[39m\u001b[38;5;124m'\u001b[39m] \u001b[38;5;241m=\u001b[39m torch\u001b[38;5;241m.\u001b[39mtensor(\u001b[38;5;28mself\u001b[39m\u001b[38;5;241m.\u001b[39mlabels[idx])\n\u001b[1;32m     11\u001b[0m     \u001b[38;5;28;01mreturn\u001b[39;00m item\n",
      "\u001b[0;31mTypeError\u001b[0m: new(): invalid data type 'str'"
     ]
    }
   ],
   "source": [
    "trainer.train()"
   ]
  },
  {
   "cell_type": "markdown",
   "id": "76996d3a",
   "metadata": {},
   "source": [
    "# Sauvegarde des résultats\n",
    "---"
   ]
  },
  {
   "cell_type": "markdown",
   "id": "fb7949bc",
   "metadata": {},
   "source": [
    "# Conclusions\n",
    "---"
   ]
  },
  {
   "cell_type": "markdown",
   "id": "bd360655",
   "metadata": {},
   "source": [
    "# Bricolages\n",
    "---"
   ]
  },
  {
   "cell_type": "code",
   "execution_count": null,
   "id": "dbffc877",
   "metadata": {},
   "outputs": [],
   "source": []
  }
 ],
 "metadata": {
  "kernelspec": {
   "display_name": "Python 3 (ipykernel)",
   "language": "python",
   "name": "python3"
  },
  "language_info": {
   "codemirror_mode": {
    "name": "ipython",
    "version": 3
   },
   "file_extension": ".py",
   "mimetype": "text/x-python",
   "name": "python",
   "nbconvert_exporter": "python",
   "pygments_lexer": "ipython3",
   "version": "3.9.16"
  }
 },
 "nbformat": 4,
 "nbformat_minor": 5
}
