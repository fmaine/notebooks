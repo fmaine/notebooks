{
 "cells": [
  {
   "cell_type": "markdown",
   "id": "e3ec4689",
   "metadata": {},
   "source": [
    "# Plateforme Agnostique de Traitement et d'Analyse des Textes\n",
    "### Carnet d'expérimentation\n",
    "---\n",
    "\n",
    "## Sujet : Expérience ObsInfo2307\n",
    "### Comparaison labelisation humaine et chatgpt\n",
    "\n",
    "---"
   ]
  },
  {
   "cell_type": "markdown",
   "id": "2601e626",
   "metadata": {},
   "source": [
    "# Imports"
   ]
  },
  {
   "cell_type": "code",
   "execution_count": 1,
   "id": "5d0de4d7",
   "metadata": {},
   "outputs": [
    {
     "name": "stdout",
     "output_type": "stream",
     "text": [
      "/Volumes/Geek/Work/Patat\n"
     ]
    }
   ],
   "source": [
    "cd ../.."
   ]
  },
  {
   "cell_type": "code",
   "execution_count": 2,
   "id": "32256b0d",
   "metadata": {},
   "outputs": [],
   "source": [
    "import importlib\n",
    "import pandas as pd\n",
    "import seaborn as sns\n",
    "from tqdm.notebook import tqdm\n",
    "tqdm.pandas()"
   ]
  },
  {
   "cell_type": "markdown",
   "id": "a4a05a2d",
   "metadata": {},
   "source": [
    "# Chargement Données"
   ]
  },
  {
   "cell_type": "markdown",
   "id": "6f41607b",
   "metadata": {},
   "source": [
    "### Annotations Manuelles"
   ]
  },
  {
   "cell_type": "code",
   "execution_count": 3,
   "id": "fabbb845",
   "metadata": {},
   "outputs": [],
   "source": [
    "import patat.util.gsheet\n",
    "\n",
    "gs = patat.util.gsheet.GoogleSheet()\n",
    "\n",
    "sheet_id = '1bEXdqyD7so-xm54_k-FMZchVVIcO8HjPSY1mA-wGW-w'\n",
    "range_name = 'Data'\n",
    "\n",
    "df_obsinfo = gs.read_df(sheet_id,range_name)"
   ]
  },
  {
   "cell_type": "code",
   "execution_count": 4,
   "id": "9b49c880",
   "metadata": {},
   "outputs": [],
   "source": [
    "labels = [\n",
    "    'infox',\n",
    "    'lieux, dates et personnes',\n",
    "    'faits',\n",
    "    'opinions',\n",
    "    'subjectif',\n",
    "    'propos rapporté',\n",
    "    'sources citées',\n",
    "    'fausse nouvelle',\n",
    "    'insinuation',\n",
    "    'exagération',\n",
    "    'titre décalé',\n",
    "]"
   ]
  },
  {
   "cell_type": "code",
   "execution_count": 5,
   "id": "2b414c74",
   "metadata": {},
   "outputs": [],
   "source": [
    "import numpy as np"
   ]
  },
  {
   "cell_type": "code",
   "execution_count": 6,
   "id": "b89dd377",
   "metadata": {},
   "outputs": [],
   "source": [
    "def normalize(x):\n",
    "    if x == '0':\n",
    "        return 0.0\n",
    "    elif x== '1':\n",
    "        return 1.0\n",
    "    else:\n",
    "        return np.NaN"
   ]
  },
  {
   "cell_type": "code",
   "execution_count": 7,
   "id": "99bd4a0a",
   "metadata": {},
   "outputs": [],
   "source": [
    "for label in labels:\n",
    "    df_obsinfo[label]=df_obsinfo[label].apply(normalize)"
   ]
  },
  {
   "cell_type": "code",
   "execution_count": 8,
   "id": "26ba805f",
   "metadata": {},
   "outputs": [],
   "source": [
    "df_obsinfo['url_h'] = df_obsinfo['url_labelizer'].apply(lambda s: s[-40:])"
   ]
  },
  {
   "cell_type": "markdown",
   "id": "678bb535",
   "metadata": {},
   "source": [
    "### Annotations ChatGpt"
   ]
  },
  {
   "cell_type": "code",
   "execution_count": 9,
   "id": "2dc237e1",
   "metadata": {},
   "outputs": [],
   "source": [
    "import patat.util.gsheet\n",
    "\n",
    "gs = patat.util.gsheet.GoogleSheet()\n",
    "\n",
    "sheet_id = '1cfuBc61rK7BlNog19Aq7atqlau8GfV8a3B3b5QzH8Xs'\n",
    "range_name = 'Annotations'\n",
    "\n",
    "df_gpt = gs.read_df(sheet_id,range_name)"
   ]
  },
  {
   "cell_type": "code",
   "execution_count": 10,
   "id": "9fe5ba91",
   "metadata": {},
   "outputs": [],
   "source": [
    "for label in labels:\n",
    "    df_gpt[label]=df_gpt[label].apply(normalize)"
   ]
  },
  {
   "cell_type": "code",
   "execution_count": 11,
   "id": "a5409200",
   "metadata": {},
   "outputs": [],
   "source": [
    "df_gpt['url_h'] = df_gpt['url_labelizer'].apply(lambda s: s[-40:])"
   ]
  },
  {
   "cell_type": "markdown",
   "id": "3e8fb0cc",
   "metadata": {},
   "source": [
    "# Moyennes et accords"
   ]
  },
  {
   "cell_type": "code",
   "execution_count": 12,
   "id": "940beba0",
   "metadata": {},
   "outputs": [],
   "source": [
    "df_mean = df_obsinfo.pivot_table(index='url_h',values=labels,aggfunc='mean')"
   ]
  },
  {
   "cell_type": "code",
   "execution_count": 13,
   "id": "74f037b7",
   "metadata": {},
   "outputs": [],
   "source": [
    "df_accord = df_mean.apply(lambda x : abs(2*x-1))"
   ]
  },
  {
   "cell_type": "code",
   "execution_count": 14,
   "id": "8e58fa52",
   "metadata": {},
   "outputs": [],
   "source": [
    "df_accord['sum']=df_accord[labels].apply(sum)"
   ]
  },
  {
   "cell_type": "code",
   "execution_count": 16,
   "id": "b81274f6",
   "metadata": {},
   "outputs": [
    {
     "data": {
      "text/html": [
       "<div>\n",
       "<style scoped>\n",
       "    .dataframe tbody tr th:only-of-type {\n",
       "        vertical-align: middle;\n",
       "    }\n",
       "\n",
       "    .dataframe tbody tr th {\n",
       "        vertical-align: top;\n",
       "    }\n",
       "\n",
       "    .dataframe thead th {\n",
       "        text-align: right;\n",
       "    }\n",
       "</style>\n",
       "<table border=\"1\" class=\"dataframe\">\n",
       "  <thead>\n",
       "    <tr style=\"text-align: right;\">\n",
       "      <th></th>\n",
       "      <th>exagération</th>\n",
       "      <th>faits</th>\n",
       "      <th>fausse nouvelle</th>\n",
       "      <th>infox</th>\n",
       "      <th>insinuation</th>\n",
       "      <th>lieux, dates et personnes</th>\n",
       "      <th>opinions</th>\n",
       "      <th>propos rapporté</th>\n",
       "      <th>sources citées</th>\n",
       "      <th>subjectif</th>\n",
       "      <th>titre décalé</th>\n",
       "      <th>sum</th>\n",
       "    </tr>\n",
       "    <tr>\n",
       "      <th>url_h</th>\n",
       "      <th></th>\n",
       "      <th></th>\n",
       "      <th></th>\n",
       "      <th></th>\n",
       "      <th></th>\n",
       "      <th></th>\n",
       "      <th></th>\n",
       "      <th></th>\n",
       "      <th></th>\n",
       "      <th></th>\n",
       "      <th></th>\n",
       "      <th></th>\n",
       "    </tr>\n",
       "  </thead>\n",
       "  <tbody>\n",
       "    <tr>\n",
       "      <th>03421f2a299defdad375ed0cdc406f51f04b4432</th>\n",
       "      <td>0.333333</td>\n",
       "      <td>1.000000</td>\n",
       "      <td>0.333333</td>\n",
       "      <td>1.000000</td>\n",
       "      <td>1.000000</td>\n",
       "      <td>1.000000</td>\n",
       "      <td>0.777778</td>\n",
       "      <td>0.777778</td>\n",
       "      <td>1.000000</td>\n",
       "      <td>1.000000</td>\n",
       "      <td>1.000000</td>\n",
       "      <td>NaN</td>\n",
       "    </tr>\n",
       "    <tr>\n",
       "      <th>0552561b3c46f64febfbc3a77c301f085a98b966</th>\n",
       "      <td>1.000000</td>\n",
       "      <td>1.000000</td>\n",
       "      <td>1.000000</td>\n",
       "      <td>1.000000</td>\n",
       "      <td>1.000000</td>\n",
       "      <td>0.777778</td>\n",
       "      <td>1.000000</td>\n",
       "      <td>0.555556</td>\n",
       "      <td>1.000000</td>\n",
       "      <td>1.000000</td>\n",
       "      <td>1.000000</td>\n",
       "      <td>NaN</td>\n",
       "    </tr>\n",
       "    <tr>\n",
       "      <th>05e64933166d209c18233ba8970a65f578732cc4</th>\n",
       "      <td>0.555556</td>\n",
       "      <td>0.777778</td>\n",
       "      <td>0.555556</td>\n",
       "      <td>0.555556</td>\n",
       "      <td>0.111111</td>\n",
       "      <td>0.555556</td>\n",
       "      <td>0.555556</td>\n",
       "      <td>0.555556</td>\n",
       "      <td>0.555556</td>\n",
       "      <td>1.000000</td>\n",
       "      <td>0.777778</td>\n",
       "      <td>NaN</td>\n",
       "    </tr>\n",
       "    <tr>\n",
       "      <th>0633ca2c900b4c3a7bdd9d3228dd9716ba44920c</th>\n",
       "      <td>0.000000</td>\n",
       "      <td>0.111111</td>\n",
       "      <td>0.333333</td>\n",
       "      <td>0.250000</td>\n",
       "      <td>0.250000</td>\n",
       "      <td>0.111111</td>\n",
       "      <td>0.777778</td>\n",
       "      <td>0.777778</td>\n",
       "      <td>0.111111</td>\n",
       "      <td>0.777778</td>\n",
       "      <td>0.750000</td>\n",
       "      <td>NaN</td>\n",
       "    </tr>\n",
       "    <tr>\n",
       "      <th>0a386f54436dfb47169d1cb0557dfc37782e0824</th>\n",
       "      <td>0.111111</td>\n",
       "      <td>0.777778</td>\n",
       "      <td>0.333333</td>\n",
       "      <td>0.111111</td>\n",
       "      <td>0.111111</td>\n",
       "      <td>0.555556</td>\n",
       "      <td>1.000000</td>\n",
       "      <td>1.000000</td>\n",
       "      <td>0.333333</td>\n",
       "      <td>0.333333</td>\n",
       "      <td>0.777778</td>\n",
       "      <td>NaN</td>\n",
       "    </tr>\n",
       "    <tr>\n",
       "      <th>...</th>\n",
       "      <td>...</td>\n",
       "      <td>...</td>\n",
       "      <td>...</td>\n",
       "      <td>...</td>\n",
       "      <td>...</td>\n",
       "      <td>...</td>\n",
       "      <td>...</td>\n",
       "      <td>...</td>\n",
       "      <td>...</td>\n",
       "      <td>...</td>\n",
       "      <td>...</td>\n",
       "      <td>...</td>\n",
       "    </tr>\n",
       "    <tr>\n",
       "      <th>f236dfa94a48623ad448ffa4e58266480b213e3b</th>\n",
       "      <td>0.555556</td>\n",
       "      <td>1.000000</td>\n",
       "      <td>0.333333</td>\n",
       "      <td>0.333333</td>\n",
       "      <td>0.111111</td>\n",
       "      <td>1.000000</td>\n",
       "      <td>1.000000</td>\n",
       "      <td>0.555556</td>\n",
       "      <td>1.000000</td>\n",
       "      <td>1.000000</td>\n",
       "      <td>1.000000</td>\n",
       "      <td>NaN</td>\n",
       "    </tr>\n",
       "    <tr>\n",
       "      <th>f2654cd190c3c9cbd663d735bf3352e813597066</th>\n",
       "      <td>1.000000</td>\n",
       "      <td>1.000000</td>\n",
       "      <td>0.111111</td>\n",
       "      <td>0.777778</td>\n",
       "      <td>0.111111</td>\n",
       "      <td>1.000000</td>\n",
       "      <td>0.555556</td>\n",
       "      <td>0.555556</td>\n",
       "      <td>1.000000</td>\n",
       "      <td>0.111111</td>\n",
       "      <td>0.777778</td>\n",
       "      <td>NaN</td>\n",
       "    </tr>\n",
       "    <tr>\n",
       "      <th>f72f7386954cf484505760c40e4948f8f274f0df</th>\n",
       "      <td>0.555556</td>\n",
       "      <td>1.000000</td>\n",
       "      <td>1.000000</td>\n",
       "      <td>1.000000</td>\n",
       "      <td>0.333333</td>\n",
       "      <td>1.000000</td>\n",
       "      <td>0.777778</td>\n",
       "      <td>0.555556</td>\n",
       "      <td>1.000000</td>\n",
       "      <td>0.555556</td>\n",
       "      <td>1.000000</td>\n",
       "      <td>NaN</td>\n",
       "    </tr>\n",
       "    <tr>\n",
       "      <th>f8b3eb61e9f34c05b1a77ee8954244db993492d7</th>\n",
       "      <td>0.111111</td>\n",
       "      <td>1.000000</td>\n",
       "      <td>0.555556</td>\n",
       "      <td>0.111111</td>\n",
       "      <td>0.555556</td>\n",
       "      <td>1.000000</td>\n",
       "      <td>1.000000</td>\n",
       "      <td>0.555556</td>\n",
       "      <td>1.000000</td>\n",
       "      <td>0.555556</td>\n",
       "      <td>0.777778</td>\n",
       "      <td>NaN</td>\n",
       "    </tr>\n",
       "    <tr>\n",
       "      <th>f99613c721b4e16c6c64fec1af752fbc76de08df</th>\n",
       "      <td>0.333333</td>\n",
       "      <td>1.000000</td>\n",
       "      <td>0.555556</td>\n",
       "      <td>0.333333</td>\n",
       "      <td>0.111111</td>\n",
       "      <td>1.000000</td>\n",
       "      <td>1.000000</td>\n",
       "      <td>0.111111</td>\n",
       "      <td>0.333333</td>\n",
       "      <td>0.777778</td>\n",
       "      <td>1.000000</td>\n",
       "      <td>NaN</td>\n",
       "    </tr>\n",
       "  </tbody>\n",
       "</table>\n",
       "<p>100 rows × 12 columns</p>\n",
       "</div>"
      ],
      "text/plain": [
       "                                          exagération     faits   \n",
       "url_h                                                             \n",
       "03421f2a299defdad375ed0cdc406f51f04b4432     0.333333  1.000000  \\\n",
       "0552561b3c46f64febfbc3a77c301f085a98b966     1.000000  1.000000   \n",
       "05e64933166d209c18233ba8970a65f578732cc4     0.555556  0.777778   \n",
       "0633ca2c900b4c3a7bdd9d3228dd9716ba44920c     0.000000  0.111111   \n",
       "0a386f54436dfb47169d1cb0557dfc37782e0824     0.111111  0.777778   \n",
       "...                                               ...       ...   \n",
       "f236dfa94a48623ad448ffa4e58266480b213e3b     0.555556  1.000000   \n",
       "f2654cd190c3c9cbd663d735bf3352e813597066     1.000000  1.000000   \n",
       "f72f7386954cf484505760c40e4948f8f274f0df     0.555556  1.000000   \n",
       "f8b3eb61e9f34c05b1a77ee8954244db993492d7     0.111111  1.000000   \n",
       "f99613c721b4e16c6c64fec1af752fbc76de08df     0.333333  1.000000   \n",
       "\n",
       "                                          fausse nouvelle     infox   \n",
       "url_h                                                                 \n",
       "03421f2a299defdad375ed0cdc406f51f04b4432         0.333333  1.000000  \\\n",
       "0552561b3c46f64febfbc3a77c301f085a98b966         1.000000  1.000000   \n",
       "05e64933166d209c18233ba8970a65f578732cc4         0.555556  0.555556   \n",
       "0633ca2c900b4c3a7bdd9d3228dd9716ba44920c         0.333333  0.250000   \n",
       "0a386f54436dfb47169d1cb0557dfc37782e0824         0.333333  0.111111   \n",
       "...                                                   ...       ...   \n",
       "f236dfa94a48623ad448ffa4e58266480b213e3b         0.333333  0.333333   \n",
       "f2654cd190c3c9cbd663d735bf3352e813597066         0.111111  0.777778   \n",
       "f72f7386954cf484505760c40e4948f8f274f0df         1.000000  1.000000   \n",
       "f8b3eb61e9f34c05b1a77ee8954244db993492d7         0.555556  0.111111   \n",
       "f99613c721b4e16c6c64fec1af752fbc76de08df         0.555556  0.333333   \n",
       "\n",
       "                                          insinuation   \n",
       "url_h                                                   \n",
       "03421f2a299defdad375ed0cdc406f51f04b4432     1.000000  \\\n",
       "0552561b3c46f64febfbc3a77c301f085a98b966     1.000000   \n",
       "05e64933166d209c18233ba8970a65f578732cc4     0.111111   \n",
       "0633ca2c900b4c3a7bdd9d3228dd9716ba44920c     0.250000   \n",
       "0a386f54436dfb47169d1cb0557dfc37782e0824     0.111111   \n",
       "...                                               ...   \n",
       "f236dfa94a48623ad448ffa4e58266480b213e3b     0.111111   \n",
       "f2654cd190c3c9cbd663d735bf3352e813597066     0.111111   \n",
       "f72f7386954cf484505760c40e4948f8f274f0df     0.333333   \n",
       "f8b3eb61e9f34c05b1a77ee8954244db993492d7     0.555556   \n",
       "f99613c721b4e16c6c64fec1af752fbc76de08df     0.111111   \n",
       "\n",
       "                                          lieux, dates et personnes  opinions   \n",
       "url_h                                                                           \n",
       "03421f2a299defdad375ed0cdc406f51f04b4432                   1.000000  0.777778  \\\n",
       "0552561b3c46f64febfbc3a77c301f085a98b966                   0.777778  1.000000   \n",
       "05e64933166d209c18233ba8970a65f578732cc4                   0.555556  0.555556   \n",
       "0633ca2c900b4c3a7bdd9d3228dd9716ba44920c                   0.111111  0.777778   \n",
       "0a386f54436dfb47169d1cb0557dfc37782e0824                   0.555556  1.000000   \n",
       "...                                                             ...       ...   \n",
       "f236dfa94a48623ad448ffa4e58266480b213e3b                   1.000000  1.000000   \n",
       "f2654cd190c3c9cbd663d735bf3352e813597066                   1.000000  0.555556   \n",
       "f72f7386954cf484505760c40e4948f8f274f0df                   1.000000  0.777778   \n",
       "f8b3eb61e9f34c05b1a77ee8954244db993492d7                   1.000000  1.000000   \n",
       "f99613c721b4e16c6c64fec1af752fbc76de08df                   1.000000  1.000000   \n",
       "\n",
       "                                          propos rapporté  sources citées   \n",
       "url_h                                                                       \n",
       "03421f2a299defdad375ed0cdc406f51f04b4432         0.777778        1.000000  \\\n",
       "0552561b3c46f64febfbc3a77c301f085a98b966         0.555556        1.000000   \n",
       "05e64933166d209c18233ba8970a65f578732cc4         0.555556        0.555556   \n",
       "0633ca2c900b4c3a7bdd9d3228dd9716ba44920c         0.777778        0.111111   \n",
       "0a386f54436dfb47169d1cb0557dfc37782e0824         1.000000        0.333333   \n",
       "...                                                   ...             ...   \n",
       "f236dfa94a48623ad448ffa4e58266480b213e3b         0.555556        1.000000   \n",
       "f2654cd190c3c9cbd663d735bf3352e813597066         0.555556        1.000000   \n",
       "f72f7386954cf484505760c40e4948f8f274f0df         0.555556        1.000000   \n",
       "f8b3eb61e9f34c05b1a77ee8954244db993492d7         0.555556        1.000000   \n",
       "f99613c721b4e16c6c64fec1af752fbc76de08df         0.111111        0.333333   \n",
       "\n",
       "                                          subjectif  titre décalé  sum  \n",
       "url_h                                                                   \n",
       "03421f2a299defdad375ed0cdc406f51f04b4432   1.000000      1.000000  NaN  \n",
       "0552561b3c46f64febfbc3a77c301f085a98b966   1.000000      1.000000  NaN  \n",
       "05e64933166d209c18233ba8970a65f578732cc4   1.000000      0.777778  NaN  \n",
       "0633ca2c900b4c3a7bdd9d3228dd9716ba44920c   0.777778      0.750000  NaN  \n",
       "0a386f54436dfb47169d1cb0557dfc37782e0824   0.333333      0.777778  NaN  \n",
       "...                                             ...           ...  ...  \n",
       "f236dfa94a48623ad448ffa4e58266480b213e3b   1.000000      1.000000  NaN  \n",
       "f2654cd190c3c9cbd663d735bf3352e813597066   0.111111      0.777778  NaN  \n",
       "f72f7386954cf484505760c40e4948f8f274f0df   0.555556      1.000000  NaN  \n",
       "f8b3eb61e9f34c05b1a77ee8954244db993492d7   0.555556      0.777778  NaN  \n",
       "f99613c721b4e16c6c64fec1af752fbc76de08df   0.777778      1.000000  NaN  \n",
       "\n",
       "[100 rows x 12 columns]"
      ]
     },
     "execution_count": 16,
     "metadata": {},
     "output_type": "execute_result"
    }
   ],
   "source": [
    "df_accord"
   ]
  },
  {
   "cell_type": "code",
   "execution_count": 15,
   "id": "ee37e1a2",
   "metadata": {},
   "outputs": [
    {
     "name": "stderr",
     "output_type": "stream",
     "text": [
      "/opt/homebrew/Caskroom/miniforge/base/envs/pt310/lib/python3.10/site-packages/seaborn/algorithms.py:98: RuntimeWarning: Mean of empty slice\n",
      "  boot_dist.append(f(*sample, **func_kwargs))\n",
      "/opt/homebrew/Caskroom/miniforge/base/envs/pt310/lib/python3.10/site-packages/numpy/lib/nanfunctions.py:1556: RuntimeWarning: All-NaN slice encountered\n",
      "  return function_base._ureduce(a,\n"
     ]
    },
    {
     "data": {
      "text/plain": [
       "<Axes: >"
      ]
     },
     "execution_count": 15,
     "metadata": {},
     "output_type": "execute_result"
    },
    {
     "data": {
      "image/png": "[encoded data removed]",
      "text/plain": [
       "<Figure size 640x480 with 1 Axes>"
      ]
     },
     "metadata": {},
     "output_type": "display_data"
    }
   ],
   "source": [
    "sns.barplot(df_accord['sum'])"
   ]
  },
  {
   "cell_type": "markdown",
   "id": "e6b16729",
   "metadata": {},
   "source": [
    "## Performances ChatGpt - Moyenne\n",
    "- On ne considère que les labels pour lesquels accord >= seuil_accord."
   ]
  },
  {
   "cell_type": "code",
   "execution_count": null,
   "id": "fafd27c2",
   "metadata": {},
   "outputs": [],
   "source": [
    "#seuil_accord = 1 # 8/8 observateurs\n",
    "#seuil_accord = 0.75 # 7/8 observateurs\n",
    "seuil_accord = 0.50 # 6/8 observateurs\n",
    "#seuil_accord = 0.25 # 5/8 observateurs\n",
    "#seuil_accord = 0 # toutes observations prises en compte"
   ]
  },
  {
   "cell_type": "code",
   "execution_count": null,
   "id": "8ae0b8d7",
   "metadata": {},
   "outputs": [],
   "source": [
    "gpt_score = []\n",
    "mean_pred = []\n",
    "for index,row in df_gpt.iterrows():\n",
    "    url_h=row['url_h']\n",
    "    score_item = {'url_h':url_h}\n",
    "    pred_item = {'url_h':url_h}\n",
    "    for label in labels:\n",
    "        if df_accord [label][index] >= seuil_accord:\n",
    "            score_item[label]=row[label]-df_mean[label][url_h]\n",
    "            pred_item[label] = round(df_mean[label][url_h])\n",
    "    gpt_score.append(score_item)\n",
    "    mean_pred.append(pred_item)\n",
    "        "
   ]
  },
  {
   "cell_type": "code",
   "execution_count": null,
   "id": "53e575d6",
   "metadata": {},
   "outputs": [],
   "source": [
    "df_gpt_score = pd.DataFrame(gpt_score)\n",
    "df_mean_pred = pd.DataFrame(mean_pred)"
   ]
  },
  {
   "cell_type": "code",
   "execution_count": null,
   "id": "afa7e677",
   "metadata": {},
   "outputs": [],
   "source": [
    "from sklearn import metrics"
   ]
  },
  {
   "cell_type": "code",
   "execution_count": null,
   "id": "d97afdb7",
   "metadata": {},
   "outputs": [],
   "source": [
    "results = {}\n",
    "for label in labels:\n",
    "    indexes = df_mean_pred[label].notna()\n",
    "    y_test = df_mean_pred[label][indexes]\n",
    "    y_pred = df_gpt[label][indexes]  \n",
    "    results[label] = {}\n",
    "    results[label]['accuracy']=metrics.accuracy_score(y_test, y_pred)\n",
    "    results[label]['precision']=metrics.precision_score(y_test, y_pred)\n",
    "    results[label]['f1']=metrics.f1_score(y_test, y_pred)\n",
    "    results[label]['recall']=metrics.recall_score(y_test, y_pred)\n",
    "    cnf_matrix = metrics.confusion_matrix(y_test, y_pred,normalize='all')\n",
    "    results[label]['false_positive']=cnf_matrix[0,1]\n",
    "    results[label]['false_negative']=cnf_matrix[1,0]\n",
    "    results[label]['count']=len(y_test)\n"
   ]
  },
  {
   "cell_type": "code",
   "execution_count": null,
   "id": "a1a6a32b",
   "metadata": {},
   "outputs": [],
   "source": [
    "pd.set_option('display.precision',3)"
   ]
  },
  {
   "cell_type": "code",
   "execution_count": null,
   "id": "46c772f0",
   "metadata": {},
   "outputs": [],
   "source": [
    "df_results = pd.DataFrame(results).T\n",
    "df_results"
   ]
  },
  {
   "cell_type": "code",
   "execution_count": null,
   "id": "60e58dec",
   "metadata": {},
   "outputs": [],
   "source": [
    "plot = sns.scatterplot(df_results[['accuracy']])\n",
    "plot.set_xticklabels(plot.get_xticklabels(), rotation=90)"
   ]
  },
  {
   "cell_type": "code",
   "execution_count": null,
   "id": "5ee57d4a",
   "metadata": {},
   "outputs": [],
   "source": [
    "plot = sns.scatterplot(df_results[['precision','recall']])\n",
    "plot.set_xticklabels(plot.get_xticklabels(), rotation=90)"
   ]
  },
  {
   "cell_type": "code",
   "execution_count": null,
   "id": "f3fc5410",
   "metadata": {},
   "outputs": [],
   "source": [
    "plot = sns.scatterplot(df_results[['false_positive','false_negative']])\n",
    "plot.set_xticklabels(plot.get_xticklabels(), rotation=45)"
   ]
  },
  {
   "cell_type": "markdown",
   "id": "7cee6f6b",
   "metadata": {},
   "source": [
    "# Comparaisons observateurs"
   ]
  },
  {
   "cell_type": "code",
   "execution_count": null,
   "id": "51a27655",
   "metadata": {},
   "outputs": [],
   "source": [
    "df_obs = df_obsinfo.pivot_table(index='observateur',aggfunc='sum')[labels]"
   ]
  },
  {
   "cell_type": "code",
   "execution_count": null,
   "id": "17963e09",
   "metadata": {},
   "outputs": [],
   "source": [
    "df_obs = df_obs.reset_index()"
   ]
  },
  {
   "cell_type": "code",
   "execution_count": null,
   "id": "780ce94a",
   "metadata": {},
   "outputs": [],
   "source": [
    "df_obs"
   ]
  },
  {
   "cell_type": "code",
   "execution_count": null,
   "id": "22787fae",
   "metadata": {},
   "outputs": [],
   "source": [
    "sns.barplot(df_obs,x='observateur',y='infox')"
   ]
  },
  {
   "cell_type": "code",
   "execution_count": null,
   "id": "0e7e35a2",
   "metadata": {},
   "outputs": [],
   "source": [
    "sns.barplot(df_obs,x='observateur',y='fausse nouvelle')"
   ]
  },
  {
   "cell_type": "markdown",
   "id": "0dab48d8",
   "metadata": {},
   "source": [
    "## Ecarts par label"
   ]
  },
  {
   "cell_type": "code",
   "execution_count": null,
   "id": "22803edb",
   "metadata": {},
   "outputs": [],
   "source": [
    "df_std = pd.DataFrame(df_obs[labels].std(),columns=['std']).sort_values('std')\n",
    "df_std"
   ]
  },
  {
   "cell_type": "code",
   "execution_count": null,
   "id": "1d57293d",
   "metadata": {},
   "outputs": [],
   "source": [
    "sns.barplot(df_std.T,orient='h')"
   ]
  },
  {
   "cell_type": "markdown",
   "id": "fb7949bc",
   "metadata": {},
   "source": [
    "# Prochaines étapes\n",
    "---\n",
    "\n",
    "- Nombre d'accord par valeur 0/1, à comparer avec nombre moyen\n",
    "- Distance entre couples d'annotateurs\n",
    "- Kappa de Fleiss\n",
    "- Proposer un modele d'annotation de paragraphes"
   ]
  },
  {
   "cell_type": "markdown",
   "id": "bd06b261",
   "metadata": {},
   "source": []
  },
  {
   "cell_type": "markdown",
   "id": "bd360655",
   "metadata": {},
   "source": [
    "# Bricolages\n",
    "---"
   ]
  },
  {
   "cell_type": "code",
   "execution_count": null,
   "id": "e016c0e7",
   "metadata": {},
   "outputs": [],
   "source": []
  },
  {
   "cell_type": "code",
   "execution_count": null,
   "id": "06ebe7f5",
   "metadata": {},
   "outputs": [],
   "source": []
  }
 ],
 "metadata": {
  "kernelspec": {
   "display_name": "Python 3 (ipykernel)",
   "language": "python",
   "name": "python3"
  },
  "language_info": {
   "codemirror_mode": {
    "name": "ipython",
    "version": 3
   },
   "file_extension": ".py",
   "mimetype": "text/x-python",
   "name": "python",
   "nbconvert_exporter": "python",
   "pygments_lexer": "ipython3",
   "version": "3.10.11"
  }
 },
 "nbformat": 4,
 "nbformat_minor": 5
}
