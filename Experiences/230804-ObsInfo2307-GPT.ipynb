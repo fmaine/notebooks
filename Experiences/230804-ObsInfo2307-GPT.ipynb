{
 "cells": [
  {
   "cell_type": "markdown",
   "id": "e3ec4689",
   "metadata": {},
   "source": [
    "# Plateforme Agnostique de Traitement et d'Analyse des Textes\n",
    "### Carnet d'expérimentation\n",
    "---\n",
    "\n",
    "## Sujet : Expérience ObsInfo2307\n",
    "### Comparaison labelisation humaine et chatgpt\n",
    "\n",
    "---"
   ]
  },
  {
   "cell_type": "markdown",
   "id": "2601e626",
   "metadata": {},
   "source": [
    "# Imports"
   ]
  },
  {
   "cell_type": "code",
   "execution_count": 1,
   "id": "5d0de4d7",
   "metadata": {},
   "outputs": [
    {
     "name": "stdout",
     "output_type": "stream",
     "text": [
      "/Volumes/Geek/Work/Patat\n"
     ]
    }
   ],
   "source": [
    "cd ../.."
   ]
  },
  {
   "cell_type": "code",
   "execution_count": 2,
   "id": "32256b0d",
   "metadata": {},
   "outputs": [],
   "source": [
    "import importlib\n",
    "import pandas as pd\n",
    "import seaborn as sns\n",
    "from tqdm.notebook import tqdm\n",
    "tqdm.pandas()"
   ]
  },
  {
   "cell_type": "markdown",
   "id": "a4a05a2d",
   "metadata": {},
   "source": [
    "# Chargement Données"
   ]
  },
  {
   "cell_type": "markdown",
   "id": "6f41607b",
   "metadata": {},
   "source": [
    "### Annotations Manuelles"
   ]
  },
  {
   "cell_type": "code",
   "execution_count": 3,
   "id": "fabbb845",
   "metadata": {},
   "outputs": [],
   "source": [
    "import patat.util.gsheet\n",
    "\n",
    "gs = patat.util.gsheet.GoogleSheet()\n",
    "\n",
    "sheet_id = '1bEXdqyD7so-xm54_k-FMZchVVIcO8HjPSY1mA-wGW-w'\n",
    "range_name = 'Data'\n",
    "\n",
    "df_obsinfo = gs.read_df(sheet_id,range_name)"
   ]
  },
  {
   "cell_type": "code",
   "execution_count": 4,
   "id": "9b49c880",
   "metadata": {},
   "outputs": [],
   "source": [
    "labels = [\n",
    "    'infox',\n",
    "    'lieux, dates et personnes',\n",
    "    'faits',\n",
    "    'opinions',\n",
    "    'subjectif',\n",
    "    'propos rapporté',\n",
    "    'sources citées',\n",
    "    'fausse nouvelle',\n",
    "    'insinuation',\n",
    "    'exagération',\n",
    "    'titre décalé',\n",
    "]"
   ]
  },
  {
   "cell_type": "code",
   "execution_count": 5,
   "id": "2b414c74",
   "metadata": {},
   "outputs": [],
   "source": [
    "import numpy as np"
   ]
  },
  {
   "cell_type": "code",
   "execution_count": 6,
   "id": "b89dd377",
   "metadata": {},
   "outputs": [],
   "source": [
    "def normalize(x):\n",
    "    if x == '0':\n",
    "        return 0.0\n",
    "    elif x== '1':\n",
    "        return 1.0\n",
    "    else:\n",
    "        return np.NaN"
   ]
  },
  {
   "cell_type": "code",
   "execution_count": 7,
   "id": "99bd4a0a",
   "metadata": {},
   "outputs": [],
   "source": [
    "for label in labels:\n",
    "    df_obsinfo[label]=df_obsinfo[label].apply(normalize)"
   ]
  },
  {
   "cell_type": "code",
   "execution_count": 9,
   "id": "26ba805f",
   "metadata": {},
   "outputs": [],
   "source": [
    "df_obsinfo['url_h'] = df_obsinfo['url_labelizer'].apply(lambda s: s[-40:])"
   ]
  },
  {
   "cell_type": "markdown",
   "id": "678bb535",
   "metadata": {},
   "source": [
    "### Annotations ChatGpt"
   ]
  },
  {
   "cell_type": "code",
   "execution_count": 10,
   "id": "2dc237e1",
   "metadata": {},
   "outputs": [],
   "source": [
    "import patat.util.gsheet\n",
    "\n",
    "gs = patat.util.gsheet.GoogleSheet()\n",
    "\n",
    "sheet_id = '1cfuBc61rK7BlNog19Aq7atqlau8GfV8a3B3b5QzH8Xs'\n",
    "range_name = 'Annotations'\n",
    "\n",
    "df_gpt = gs.read_df(sheet_id,range_name)"
   ]
  },
  {
   "cell_type": "code",
   "execution_count": 11,
   "id": "9fe5ba91",
   "metadata": {},
   "outputs": [],
   "source": [
    "for label in labels:\n",
    "    df_gpt[label]=df_gpt[label].apply(normalize)"
   ]
  },
  {
   "cell_type": "code",
   "execution_count": 13,
   "id": "a5409200",
   "metadata": {},
   "outputs": [],
   "source": [
    "df_gpt['url_h'] = df_gpt['url_labelizer'].apply(lambda s: s[-40:])"
   ]
  },
  {
   "cell_type": "markdown",
   "id": "3e8fb0cc",
   "metadata": {},
   "source": [
    "# Moyennes et accords"
   ]
  },
  {
   "cell_type": "code",
   "execution_count": 14,
   "id": "940beba0",
   "metadata": {},
   "outputs": [],
   "source": [
    "df_mean = df_obsinfo.pivot_table(index='url_h',values=labels,aggfunc='mean')"
   ]
  },
  {
   "cell_type": "code",
   "execution_count": 26,
   "id": "74f037b7",
   "metadata": {},
   "outputs": [],
   "source": [
    "df_accord = df_mean.apply(lambda x : abs(2*x-1))"
   ]
  },
  {
   "cell_type": "code",
   "execution_count": 33,
   "id": "8e58fa52",
   "metadata": {},
   "outputs": [],
   "source": [
    "df_accord['sum']=df_accord[labels].apply(sum)"
   ]
  },
  {
   "cell_type": "code",
   "execution_count": 35,
   "id": "ee37e1a2",
   "metadata": {},
   "outputs": [
    {
     "data": {
      "text/plain": [
       "<Axes: >"
      ]
     },
     "execution_count": 35,
     "metadata": {},
     "output_type": "execute_result"
    },
    {
     "data": {
      "image/png": "[encoded data removed]",
      "text/plain": [
       "<Figure size 640x480 with 1 Axes>"
      ]
     },
     "metadata": {},
     "output_type": "display_data"
    }
   ],
   "source": [
    "sns.barplot(df_accord['sum'])"
   ]
  },
  {
   "cell_type": "markdown",
   "id": "e6b16729",
   "metadata": {},
   "source": [
    "## Performances ChatGpt - Moyenne\n",
    "- On ne considère que les labels pour lesquels accord >= seuil_accord."
   ]
  },
  {
   "cell_type": "code",
   "execution_count": 16,
   "id": "fafd27c2",
   "metadata": {},
   "outputs": [],
   "source": [
    "#seuil_accord = 1 # 8/8 observateurs\n",
    "#seuil_accord = 0.75 # 7/8 observateurs\n",
    "seuil_accord = 0.50 # 6/8 observateurs\n",
    "#seuil_accord = 0.25 # 5/8 observateurs\n",
    "#seuil_accord = 0 # toutes observations prises en compte"
   ]
  },
  {
   "cell_type": "code",
   "execution_count": 17,
   "id": "8ae0b8d7",
   "metadata": {},
   "outputs": [],
   "source": [
    "gpt_score = []\n",
    "mean_pred = []\n",
    "for index,row in df_gpt.iterrows():\n",
    "    url_h=row['url_h']\n",
    "    score_item = {'url_h':url_h}\n",
    "    pred_item = {'url_h':url_h}\n",
    "    for label in labels:\n",
    "        if df_accord [label][index] >= seuil_accord:\n",
    "            score_item[label]=row[label]-df_mean[label][url_h]\n",
    "            pred_item[label] = round(df_mean[label][url_h])\n",
    "    gpt_score.append(score_item)\n",
    "    mean_pred.append(pred_item)\n",
    "        "
   ]
  },
  {
   "cell_type": "code",
   "execution_count": 18,
   "id": "53e575d6",
   "metadata": {},
   "outputs": [],
   "source": [
    "df_gpt_score = pd.DataFrame(gpt_score)\n",
    "df_mean_pred = pd.DataFrame(mean_pred)"
   ]
  },
  {
   "cell_type": "code",
   "execution_count": 19,
   "id": "afa7e677",
   "metadata": {},
   "outputs": [],
   "source": [
    "from sklearn import metrics"
   ]
  },
  {
   "cell_type": "code",
   "execution_count": 23,
   "id": "d97afdb7",
   "metadata": {},
   "outputs": [],
   "source": [
    "results = {}\n",
    "for label in labels:\n",
    "    indexes = df_mean_pred[label].notna()\n",
    "    y_test = df_mean_pred[label][indexes]\n",
    "    y_pred = df_gpt[label][indexes]  \n",
    "    results[label] = {}\n",
    "    results[label]['accuracy']=metrics.accuracy_score(y_test, y_pred)\n",
    "    results[label]['precision']=metrics.precision_score(y_test, y_pred)\n",
    "    results[label]['f1']=metrics.f1_score(y_test, y_pred)\n",
    "    results[label]['recall']=metrics.recall_score(y_test, y_pred)\n",
    "    cnf_matrix = metrics.confusion_matrix(y_test, y_pred,normalize='all')\n",
    "    results[label]['false_positive']=cnf_matrix[0,1]\n",
    "    results[label]['false_negative']=cnf_matrix[1,0]\n",
    "    results[label]['count']=len(y_test)\n"
   ]
  },
  {
   "cell_type": "code",
   "execution_count": 24,
   "id": "a1a6a32b",
   "metadata": {},
   "outputs": [],
   "source": [
    "pd.set_option('display.precision',3)"
   ]
  },
  {
   "cell_type": "code",
   "execution_count": 28,
   "id": "46c772f0",
   "metadata": {},
   "outputs": [
    {
     "data": {
      "text/html": [
       "<div>\n",
       "<style scoped>\n",
       "    .dataframe tbody tr th:only-of-type {\n",
       "        vertical-align: middle;\n",
       "    }\n",
       "\n",
       "    .dataframe tbody tr th {\n",
       "        vertical-align: top;\n",
       "    }\n",
       "\n",
       "    .dataframe thead th {\n",
       "        text-align: right;\n",
       "    }\n",
       "</style>\n",
       "<table border=\"1\" class=\"dataframe\">\n",
       "  <thead>\n",
       "    <tr style=\"text-align: right;\">\n",
       "      <th></th>\n",
       "      <th>accuracy</th>\n",
       "      <th>precision</th>\n",
       "      <th>f1</th>\n",
       "      <th>recall</th>\n",
       "      <th>false_positive</th>\n",
       "      <th>false_negative</th>\n",
       "      <th>count</th>\n",
       "    </tr>\n",
       "  </thead>\n",
       "  <tbody>\n",
       "    <tr>\n",
       "      <th>infox</th>\n",
       "      <td>0.764</td>\n",
       "      <td>1.000</td>\n",
       "      <td>0.452</td>\n",
       "      <td>0.292</td>\n",
       "      <td>0.000</td>\n",
       "      <td>0.236</td>\n",
       "      <td>72.0</td>\n",
       "    </tr>\n",
       "    <tr>\n",
       "      <th>lieux, dates et personnes</th>\n",
       "      <td>0.812</td>\n",
       "      <td>1.000</td>\n",
       "      <td>0.895</td>\n",
       "      <td>0.811</td>\n",
       "      <td>0.000</td>\n",
       "      <td>0.188</td>\n",
       "      <td>96.0</td>\n",
       "    </tr>\n",
       "    <tr>\n",
       "      <th>faits</th>\n",
       "      <td>0.948</td>\n",
       "      <td>0.989</td>\n",
       "      <td>0.973</td>\n",
       "      <td>0.958</td>\n",
       "      <td>0.010</td>\n",
       "      <td>0.041</td>\n",
       "      <td>97.0</td>\n",
       "    </tr>\n",
       "    <tr>\n",
       "      <th>opinions</th>\n",
       "      <td>0.821</td>\n",
       "      <td>0.976</td>\n",
       "      <td>0.851</td>\n",
       "      <td>0.755</td>\n",
       "      <td>0.013</td>\n",
       "      <td>0.167</td>\n",
       "      <td>78.0</td>\n",
       "    </tr>\n",
       "    <tr>\n",
       "      <th>subjectif</th>\n",
       "      <td>0.696</td>\n",
       "      <td>0.962</td>\n",
       "      <td>0.676</td>\n",
       "      <td>0.521</td>\n",
       "      <td>0.013</td>\n",
       "      <td>0.291</td>\n",
       "      <td>79.0</td>\n",
       "    </tr>\n",
       "    <tr>\n",
       "      <th>propos rapporté</th>\n",
       "      <td>0.792</td>\n",
       "      <td>0.286</td>\n",
       "      <td>0.211</td>\n",
       "      <td>0.167</td>\n",
       "      <td>0.069</td>\n",
       "      <td>0.139</td>\n",
       "      <td>72.0</td>\n",
       "    </tr>\n",
       "    <tr>\n",
       "      <th>sources citées</th>\n",
       "      <td>0.544</td>\n",
       "      <td>1.000</td>\n",
       "      <td>0.523</td>\n",
       "      <td>0.354</td>\n",
       "      <td>0.000</td>\n",
       "      <td>0.456</td>\n",
       "      <td>68.0</td>\n",
       "    </tr>\n",
       "    <tr>\n",
       "      <th>fausse nouvelle</th>\n",
       "      <td>0.873</td>\n",
       "      <td>1.000</td>\n",
       "      <td>0.286</td>\n",
       "      <td>0.167</td>\n",
       "      <td>0.000</td>\n",
       "      <td>0.127</td>\n",
       "      <td>79.0</td>\n",
       "    </tr>\n",
       "    <tr>\n",
       "      <th>insinuation</th>\n",
       "      <td>0.593</td>\n",
       "      <td>0.750</td>\n",
       "      <td>0.200</td>\n",
       "      <td>0.115</td>\n",
       "      <td>0.017</td>\n",
       "      <td>0.390</td>\n",
       "      <td>59.0</td>\n",
       "    </tr>\n",
       "    <tr>\n",
       "      <th>exagération</th>\n",
       "      <td>0.685</td>\n",
       "      <td>0.733</td>\n",
       "      <td>0.489</td>\n",
       "      <td>0.367</td>\n",
       "      <td>0.055</td>\n",
       "      <td>0.260</td>\n",
       "      <td>73.0</td>\n",
       "    </tr>\n",
       "    <tr>\n",
       "      <th>titre décalé</th>\n",
       "      <td>0.967</td>\n",
       "      <td>0.000</td>\n",
       "      <td>0.000</td>\n",
       "      <td>0.000</td>\n",
       "      <td>0.011</td>\n",
       "      <td>0.022</td>\n",
       "      <td>90.0</td>\n",
       "    </tr>\n",
       "  </tbody>\n",
       "</table>\n",
       "</div>"
      ],
      "text/plain": [
       "                           accuracy  precision     f1  recall  false_positive  \\\n",
       "infox                         0.764      1.000  0.452   0.292           0.000   \n",
       "lieux, dates et personnes     0.812      1.000  0.895   0.811           0.000   \n",
       "faits                         0.948      0.989  0.973   0.958           0.010   \n",
       "opinions                      0.821      0.976  0.851   0.755           0.013   \n",
       "subjectif                     0.696      0.962  0.676   0.521           0.013   \n",
       "propos rapporté               0.792      0.286  0.211   0.167           0.069   \n",
       "sources citées                0.544      1.000  0.523   0.354           0.000   \n",
       "fausse nouvelle               0.873      1.000  0.286   0.167           0.000   \n",
       "insinuation                   0.593      0.750  0.200   0.115           0.017   \n",
       "exagération                   0.685      0.733  0.489   0.367           0.055   \n",
       "titre décalé                  0.967      0.000  0.000   0.000           0.011   \n",
       "\n",
       "                           false_negative  count  \n",
       "infox                               0.236   72.0  \n",
       "lieux, dates et personnes           0.188   96.0  \n",
       "faits                               0.041   97.0  \n",
       "opinions                            0.167   78.0  \n",
       "subjectif                           0.291   79.0  \n",
       "propos rapporté                     0.139   72.0  \n",
       "sources citées                      0.456   68.0  \n",
       "fausse nouvelle                     0.127   79.0  \n",
       "insinuation                         0.390   59.0  \n",
       "exagération                         0.260   73.0  \n",
       "titre décalé                        0.022   90.0  "
      ]
     },
     "execution_count": 28,
     "metadata": {},
     "output_type": "execute_result"
    }
   ],
   "source": [
    "df_results = pd.DataFrame(results).T\n",
    "df_results"
   ]
  },
  {
   "cell_type": "code",
   "execution_count": 29,
   "id": "60e58dec",
   "metadata": {},
   "outputs": [
    {
     "name": "stderr",
     "output_type": "stream",
     "text": [
      "/var/folders/fr/mhrqmk5n1xs49b7jl3tgs2r00000gn/T/ipykernel_4465/1796772995.py:2: UserWarning: FixedFormatter should only be used together with FixedLocator\n",
      "  plot.set_xticklabels(plot.get_xticklabels(), rotation=90)\n"
     ]
    },
    {
     "data": {
      "text/plain": [
       "[Text(0, 0, 'infox'),\n",
       " Text(1, 0, 'lieux, dates et personnes'),\n",
       " Text(2, 0, 'faits'),\n",
       " Text(3, 0, 'opinions'),\n",
       " Text(4, 0, 'subjectif'),\n",
       " Text(5, 0, 'propos rapporté'),\n",
       " Text(6, 0, 'sources citées'),\n",
       " Text(7, 0, 'fausse nouvelle'),\n",
       " Text(8, 0, 'insinuation'),\n",
       " Text(9, 0, 'exagération'),\n",
       " Text(10, 0, 'titre décalé')]"
      ]
     },
     "execution_count": 29,
     "metadata": {},
     "output_type": "execute_result"
    },
    {
     "data": {
      "image/png": "[encoded data removed]",
      "text/plain": [
       "<Figure size 640x480 with 1 Axes>"
      ]
     },
     "metadata": {},
     "output_type": "display_data"
    }
   ],
   "source": [
    "plot = sns.scatterplot(df_results[['accuracy']])\n",
    "plot.set_xticklabels(plot.get_xticklabels(), rotation=90)"
   ]
  },
  {
   "cell_type": "code",
   "execution_count": 31,
   "id": "5ee57d4a",
   "metadata": {},
   "outputs": [
    {
     "name": "stderr",
     "output_type": "stream",
     "text": [
      "/var/folders/fr/mhrqmk5n1xs49b7jl3tgs2r00000gn/T/ipykernel_4465/774940859.py:2: UserWarning: FixedFormatter should only be used together with FixedLocator\n",
      "  plot.set_xticklabels(plot.get_xticklabels(), rotation=90)\n"
     ]
    },
    {
     "data": {
      "text/plain": [
       "[Text(0, 0, 'infox'),\n",
       " Text(1, 0, 'lieux, dates et personnes'),\n",
       " Text(2, 0, 'faits'),\n",
       " Text(3, 0, 'opinions'),\n",
       " Text(4, 0, 'subjectif'),\n",
       " Text(5, 0, 'propos rapporté'),\n",
       " Text(6, 0, 'sources citées'),\n",
       " Text(7, 0, 'fausse nouvelle'),\n",
       " Text(8, 0, 'insinuation'),\n",
       " Text(9, 0, 'exagération'),\n",
       " Text(10, 0, 'titre décalé')]"
      ]
     },
     "execution_count": 31,
     "metadata": {},
     "output_type": "execute_result"
    },
    {
     "data": {
      "image/png": "[encoded data removed]",
      "text/plain": [
       "<Figure size 640x480 with 1 Axes>"
      ]
     },
     "metadata": {},
     "output_type": "display_data"
    }
   ],
   "source": [
    "plot = sns.scatterplot(df_results[['precision','recall']])\n",
    "plot.set_xticklabels(plot.get_xticklabels(), rotation=90)"
   ]
  },
  {
   "cell_type": "code",
   "execution_count": null,
   "id": "f3fc5410",
   "metadata": {},
   "outputs": [],
   "source": [
    "plot = sns.scatterplot(df_results[['false_positive','false_negative']])\n",
    "plot.set_xticklabels(plot.get_xticklabels(), rotation=45)"
   ]
  },
  {
   "cell_type": "markdown",
   "id": "7cee6f6b",
   "metadata": {},
   "source": [
    "# Comparaisons observateurs"
   ]
  },
  {
   "cell_type": "code",
   "execution_count": null,
   "id": "51a27655",
   "metadata": {},
   "outputs": [],
   "source": [
    "df_obs = df_obsinfo.pivot_table(index='observateur',aggfunc='sum')[labels]"
   ]
  },
  {
   "cell_type": "code",
   "execution_count": null,
   "id": "17963e09",
   "metadata": {},
   "outputs": [],
   "source": [
    "df_obs = df_obs.reset_index()"
   ]
  },
  {
   "cell_type": "code",
   "execution_count": null,
   "id": "780ce94a",
   "metadata": {},
   "outputs": [],
   "source": [
    "df_obs"
   ]
  },
  {
   "cell_type": "code",
   "execution_count": null,
   "id": "22787fae",
   "metadata": {},
   "outputs": [],
   "source": [
    "sns.barplot(df_obs,x='observateur',y='infox')"
   ]
  },
  {
   "cell_type": "code",
   "execution_count": null,
   "id": "0e7e35a2",
   "metadata": {},
   "outputs": [],
   "source": [
    "sns.barplot(df_obs,x='observateur',y='fausse nouvelle')"
   ]
  },
  {
   "cell_type": "markdown",
   "id": "0dab48d8",
   "metadata": {},
   "source": [
    "## Ecarts par label"
   ]
  },
  {
   "cell_type": "code",
   "execution_count": null,
   "id": "22803edb",
   "metadata": {},
   "outputs": [],
   "source": [
    "df_std = pd.DataFrame(df_obs[labels].std(),columns=['std']).sort_values('std')\n",
    "df_std"
   ]
  },
  {
   "cell_type": "code",
   "execution_count": null,
   "id": "1d57293d",
   "metadata": {},
   "outputs": [],
   "source": [
    "sns.barplot(df_std.T,orient='h')"
   ]
  },
  {
   "cell_type": "markdown",
   "id": "fb7949bc",
   "metadata": {},
   "source": [
    "# Prochaines étapes\n",
    "---\n",
    "\n",
    "- Nombre d'accord par valeur 0/1, à comparer avec nombre moyen\n",
    "- Distance entre couples d'annotateurs\n",
    "- Kappa de Fleiss\n",
    "- Proposer un modele d'annotation de paragraphes"
   ]
  },
  {
   "cell_type": "markdown",
   "id": "bd06b261",
   "metadata": {},
   "source": []
  },
  {
   "cell_type": "markdown",
   "id": "bd360655",
   "metadata": {},
   "source": [
    "# Bricolages\n",
    "---"
   ]
  },
  {
   "cell_type": "code",
   "execution_count": null,
   "id": "e016c0e7",
   "metadata": {},
   "outputs": [],
   "source": []
  },
  {
   "cell_type": "code",
   "execution_count": null,
   "id": "06ebe7f5",
   "metadata": {},
   "outputs": [],
   "source": []
  }
 ],
 "metadata": {
  "kernelspec": {
   "display_name": "Python 3 (ipykernel)",
   "language": "python",
   "name": "python3"
  },
  "language_info": {
   "codemirror_mode": {
    "name": "ipython",
    "version": 3
   },
   "file_extension": ".py",
   "mimetype": "text/x-python",
   "name": "python",
   "nbconvert_exporter": "python",
   "pygments_lexer": "ipython3",
   "version": "3.9.16"
  }
 },
 "nbformat": 4,
 "nbformat_minor": 5
}
