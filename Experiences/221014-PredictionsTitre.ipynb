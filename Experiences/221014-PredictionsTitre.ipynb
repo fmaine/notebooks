{
 "cells": [
  {
   "cell_type": "markdown",
   "id": "e3ec4689",
   "metadata": {},
   "source": [
    "# Plateforme Agnostique de Traitement et d'Analyse des Textes\n",
    "### Notebook d'expérimentation\n",
    "---\n",
    "\n",
    "## Sujet : Prédictions à partir du titre\n",
    "\n",
    "\n",
    "---\n"
   ]
  },
  {
   "cell_type": "markdown",
   "id": "de6dc21a",
   "metadata": {},
   "source": [
    "## Observations et environnement\n",
    "---"
   ]
  },
  {
   "cell_type": "code",
   "execution_count": 1,
   "id": "908b1c4e",
   "metadata": {},
   "outputs": [
    {
     "name": "stdout",
     "output_type": "stream",
     "text": [
      "/Users/fm/Desktop/Work/Patat\n"
     ]
    }
   ],
   "source": [
    "cd ../.."
   ]
  },
  {
   "cell_type": "code",
   "execution_count": 2,
   "id": "4a93e8c1",
   "metadata": {},
   "outputs": [],
   "source": [
    "import importlib\n",
    "import pandas as pd"
   ]
  },
  {
   "cell_type": "markdown",
   "id": "a4df5447",
   "metadata": {},
   "source": [
    "### Chargement des données"
   ]
  },
  {
   "cell_type": "code",
   "execution_count": 3,
   "id": "f148f33e",
   "metadata": {},
   "outputs": [
    {
     "name": "stderr",
     "output_type": "stream",
     "text": [
      "/Users/fm/Desktop/Work/Patat/patat/db/article_db.py:30: DtypeWarning: Columns (6) have mixed types. Specify dtype option on import or set low_memory=False.\n",
      "  df = pd.read_csv(filename)\n"
     ]
    }
   ],
   "source": [
    "import patat.db.article_db\n",
    "import patat.db.label_db\n",
    "\n",
    "article_db = patat.db.article_db.ArticleDb()\n",
    "label_db = patat.db.label_db.LabelDb()"
   ]
  },
  {
   "cell_type": "markdown",
   "id": "26de4d29",
   "metadata": {},
   "source": [
    "## Expérience\n",
    "---"
   ]
  },
  {
   "cell_type": "markdown",
   "id": "e2829392",
   "metadata": {},
   "source": [
    "### Lemmatization du corpus"
   ]
  },
  {
   "cell_type": "code",
   "execution_count": 5,
   "id": "5ab1db06",
   "metadata": {},
   "outputs": [
    {
     "data": {
      "text/html": [
       "<div>\n",
       "<style scoped>\n",
       "    .dataframe tbody tr th:only-of-type {\n",
       "        vertical-align: middle;\n",
       "    }\n",
       "\n",
       "    .dataframe tbody tr th {\n",
       "        vertical-align: top;\n",
       "    }\n",
       "\n",
       "    .dataframe thead th {\n",
       "        text-align: right;\n",
       "    }\n",
       "</style>\n",
       "<table border=\"1\" class=\"dataframe\">\n",
       "  <thead>\n",
       "    <tr style=\"text-align: right;\">\n",
       "      <th></th>\n",
       "      <th>url</th>\n",
       "      <th>value</th>\n",
       "    </tr>\n",
       "  </thead>\n",
       "  <tbody>\n",
       "    <tr>\n",
       "      <th>0</th>\n",
       "      <td>http://www.reopen911.info/11-septembre/une-att...</td>\n",
       "      <td>1.0</td>\n",
       "    </tr>\n",
       "    <tr>\n",
       "      <th>1</th>\n",
       "      <td>https://bonsens.info/essais-pfizer-sur-le-vacc...</td>\n",
       "      <td>1.0</td>\n",
       "    </tr>\n",
       "    <tr>\n",
       "      <th>2</th>\n",
       "      <td>https://fr.novopress.info/227346/immigration-c...</td>\n",
       "      <td>0.0</td>\n",
       "    </tr>\n",
       "    <tr>\n",
       "      <th>3</th>\n",
       "      <td>https://fr.novopress.info/227381/lalgerie-un-p...</td>\n",
       "      <td>0.0</td>\n",
       "    </tr>\n",
       "    <tr>\n",
       "      <th>4</th>\n",
       "      <td>https://fr.novopress.info/227410/un-president-...</td>\n",
       "      <td>0.0</td>\n",
       "    </tr>\n",
       "    <tr>\n",
       "      <th>...</th>\n",
       "      <td>...</td>\n",
       "      <td>...</td>\n",
       "    </tr>\n",
       "    <tr>\n",
       "      <th>489</th>\n",
       "      <td>https://www.wikistrike.com/2022/08/washington-...</td>\n",
       "      <td>1.0</td>\n",
       "    </tr>\n",
       "    <tr>\n",
       "      <th>490</th>\n",
       "      <td>https://www.wikistrike.com/2022/09/11-septembr...</td>\n",
       "      <td>1.0</td>\n",
       "    </tr>\n",
       "    <tr>\n",
       "      <th>491</th>\n",
       "      <td>https://www.wikistrike.com/2022/09/coupures-el...</td>\n",
       "      <td>1.0</td>\n",
       "    </tr>\n",
       "    <tr>\n",
       "      <th>492</th>\n",
       "      <td>https://www.wikistrike.com/2022/09/les-command...</td>\n",
       "      <td>1.0</td>\n",
       "    </tr>\n",
       "    <tr>\n",
       "      <th>493</th>\n",
       "      <td>https://www.wikistrike.com/2022/10/selon-un-an...</td>\n",
       "      <td>1.0</td>\n",
       "    </tr>\n",
       "  </tbody>\n",
       "</table>\n",
       "<p>494 rows × 2 columns</p>\n",
       "</div>"
      ],
      "text/plain": [
       "                                                   url  value\n",
       "0    http://www.reopen911.info/11-septembre/une-att...    1.0\n",
       "1    https://bonsens.info/essais-pfizer-sur-le-vacc...    1.0\n",
       "2    https://fr.novopress.info/227346/immigration-c...    0.0\n",
       "3    https://fr.novopress.info/227381/lalgerie-un-p...    0.0\n",
       "4    https://fr.novopress.info/227410/un-president-...    0.0\n",
       "..                                                 ...    ...\n",
       "489  https://www.wikistrike.com/2022/08/washington-...    1.0\n",
       "490  https://www.wikistrike.com/2022/09/11-septembr...    1.0\n",
       "491  https://www.wikistrike.com/2022/09/coupures-el...    1.0\n",
       "492  https://www.wikistrike.com/2022/09/les-command...    1.0\n",
       "493  https://www.wikistrike.com/2022/10/selon-un-an...    1.0\n",
       "\n",
       "[494 rows x 2 columns]"
      ]
     },
     "execution_count": 5,
     "metadata": {},
     "output_type": "execute_result"
    }
   ],
   "source": [
    "df_label = label_db.df()\n",
    "df_label_recueil = df_label[(df_label['owner']=='recueil')&(df_label['label']=='infox')].pivot_table(values='value',index='url')\n",
    "df_label_recueil.reset_index()"
   ]
  },
  {
   "cell_type": "code",
   "execution_count": 6,
   "id": "c779132f",
   "metadata": {},
   "outputs": [],
   "source": [
    "df_recueil = pd.merge(article_db.df(),df_label_recueil, on='url')"
   ]
  },
  {
   "cell_type": "markdown",
   "id": "6085b6d2",
   "metadata": {},
   "source": [
    "### Lemmatisation"
   ]
  },
  {
   "cell_type": "code",
   "execution_count": 134,
   "id": "6cb182b5",
   "metadata": {},
   "outputs": [],
   "source": [
    "import patat.ml.lex_analyser\n",
    "importlib.reload(patat.ml.lex_analyser)\n",
    "lex = patat.ml.lex_analyser.LexAnalyser()"
   ]
  },
  {
   "cell_type": "code",
   "execution_count": 135,
   "id": "c4f08a69",
   "metadata": {},
   "outputs": [],
   "source": [
    "df_recueil['title_lemmas']=df_recueil['title'].apply(lambda text : ' '.join(lex.get_lemmas_from_text(text)))"
   ]
  },
  {
   "cell_type": "code",
   "execution_count": 136,
   "id": "11e3e249",
   "metadata": {},
   "outputs": [
    {
     "data": {
      "text/html": [
       "<div>\n",
       "<style scoped>\n",
       "    .dataframe tbody tr th:only-of-type {\n",
       "        vertical-align: middle;\n",
       "    }\n",
       "\n",
       "    .dataframe tbody tr th {\n",
       "        vertical-align: top;\n",
       "    }\n",
       "\n",
       "    .dataframe thead th {\n",
       "        text-align: right;\n",
       "    }\n",
       "</style>\n",
       "<table border=\"1\" class=\"dataframe\">\n",
       "  <thead>\n",
       "    <tr style=\"text-align: right;\">\n",
       "      <th></th>\n",
       "      <th>url</th>\n",
       "      <th>title</th>\n",
       "      <th>article</th>\n",
       "      <th>site</th>\n",
       "      <th>author</th>\n",
       "      <th>date_iso</th>\n",
       "      <th>url_h</th>\n",
       "      <th>value</th>\n",
       "      <th>title_lemmas</th>\n",
       "    </tr>\n",
       "  </thead>\n",
       "  <tbody>\n",
       "    <tr>\n",
       "      <th>0</th>\n",
       "      <td>https://reseauinternational.net/tous-les-jeune...</td>\n",
       "      <td>Tous les jeunes, portez la nouvelle (russe)</td>\n",
       "      <td>par Pepe Escobar.\\nL’OCS à Samarcande et l’Ass...</td>\n",
       "      <td>reseauinternational.net</td>\n",
       "      <td>NaN</td>\n",
       "      <td>2022-09-30T00:00:00</td>\n",
       "      <td>f95a294c94ff76cc9626ae06300a8b38067f89cf</td>\n",
       "      <td>0.0</td>\n",
       "      <td>tous les jeune porter la nouveau russe</td>\n",
       "    </tr>\n",
       "    <tr>\n",
       "      <th>1</th>\n",
       "      <td>https://reseauinternational.net/adhesion-a-la-...</td>\n",
       "      <td>Adhésion à la Russie : 93% pour le « oui » dan...</td>\n",
       "      <td>Dans les régions de Zaporijia et de Kherson, 9...</td>\n",
       "      <td>reseauinternational.net</td>\n",
       "      <td>NaN</td>\n",
       "      <td>2022-09-30T00:00:00</td>\n",
       "      <td>c924dab7ded47578d81c3ae46f8be0964b3c50f1</td>\n",
       "      <td>0.0</td>\n",
       "      <td>adhésion la russie pour le oui dans la région ...</td>\n",
       "    </tr>\n",
       "    <tr>\n",
       "      <th>2</th>\n",
       "      <td>https://lemediaen442.fr/onu-le-premier-ministr...</td>\n",
       "      <td>ONU – Le Premier ministre de Nouvelle-Zélande ...</td>\n",
       "      <td>L’argument principal de la ministre est que le...</td>\n",
       "      <td>lemediaen442.fr</td>\n",
       "      <td>NaN</td>\n",
       "      <td>2022-09-29T00:00:00</td>\n",
       "      <td>3d47a59ef99274fd9ee96c209cc2ab41d6e1f6bb</td>\n",
       "      <td>1.0</td>\n",
       "      <td>onu le premier ministre de nouveau zélande dem...</td>\n",
       "    </tr>\n",
       "    <tr>\n",
       "      <th>3</th>\n",
       "      <td>https://www.francesoir.fr/societe-environnemen...</td>\n",
       "      <td>Compostage humain: les “funérailles vertes” ga...</td>\n",
       "      <td>Aux États-Unis, les différents gouvernements r...</td>\n",
       "      <td>www.francesoir.fr</td>\n",
       "      <td>Auteur(s)\\nFranceSoir</td>\n",
       "      <td>2022-09-28T13:15:00</td>\n",
       "      <td>0c0341a1f5fae820ee307cb54024df6b06a93d85</td>\n",
       "      <td>0.0</td>\n",
       "      <td>compostage humain les funérailles vert gagner ...</td>\n",
       "    </tr>\n",
       "    <tr>\n",
       "      <th>4</th>\n",
       "      <td>https://www.dreuz.info/2022/09/qui-est-elle-an...</td>\n",
       "      <td>Qui est-elle ? Anti-UE, pro-Otan, pro-Ukraine,...</td>\n",
       "      <td>Les journalistes ont le cerveau bloqué sur 193...</td>\n",
       "      <td>www.dreuz.info</td>\n",
       "      <td>Publié par  Jean-Patrick Grumberg le 27 septem...</td>\n",
       "      <td>2022-09-27T00:00:00</td>\n",
       "      <td>fa85922e4634eafe350347108f476b6b00b6e0cc</td>\n",
       "      <td>0.0</td>\n",
       "      <td>qui est elle anti ue pro otan pro ukraine pro ...</td>\n",
       "    </tr>\n",
       "    <tr>\n",
       "      <th>...</th>\n",
       "      <td>...</td>\n",
       "      <td>...</td>\n",
       "      <td>...</td>\n",
       "      <td>...</td>\n",
       "      <td>...</td>\n",
       "      <td>...</td>\n",
       "      <td>...</td>\n",
       "      <td>...</td>\n",
       "      <td>...</td>\n",
       "    </tr>\n",
       "    <tr>\n",
       "      <th>440</th>\n",
       "      <td>https://www.profession-gendarme.com/leffet-kis...</td>\n",
       "      <td>L’effet Kiss Coll de la guerre</td>\n",
       "      <td>Par WD\\n\\n\\nNous sommes imbriqués dans l’Otan....</td>\n",
       "      <td>www.profession-gendarme.com</td>\n",
       "      <td>NaN</td>\n",
       "      <td>NaN</td>\n",
       "      <td>534d88118c1f7aa505320cd7acf4a66baee5e758</td>\n",
       "      <td>1.0</td>\n",
       "      <td>effet kiss coll de la guerre</td>\n",
       "    </tr>\n",
       "    <tr>\n",
       "      <th>441</th>\n",
       "      <td>https://www.profession-gendarme.com/les-labora...</td>\n",
       "      <td>Les laboratoires du Pentagone et la dépopulation</td>\n",
       "      <td>par Dragomir Bojkov.\\nLa vice-présidente de la...</td>\n",
       "      <td>www.profession-gendarme.com</td>\n",
       "      <td>NaN</td>\n",
       "      <td>NaN</td>\n",
       "      <td>f0b3503380903a04bdaccba2624a9ce8af4d5e7a</td>\n",
       "      <td>1.0</td>\n",
       "      <td>les laboratoire du pentagone et la dépopulation</td>\n",
       "    </tr>\n",
       "    <tr>\n",
       "      <th>442</th>\n",
       "      <td>https://www.profession-gendarme.com/lettre-ouv...</td>\n",
       "      <td>« LETTRE OUVERTE A LA FRANCE ET AUX NATIONS »</td>\n",
       "      <td>L’un de nos lecteurs (ou l’une de nos lectrice...</td>\n",
       "      <td>www.profession-gendarme.com</td>\n",
       "      <td>NaN</td>\n",
       "      <td>NaN</td>\n",
       "      <td>b061ae5372ea42553cdd40717225f70e371a4d0b</td>\n",
       "      <td>1.0</td>\n",
       "      <td>lettre ouvert la france et aux nation</td>\n",
       "    </tr>\n",
       "    <tr>\n",
       "      <th>443</th>\n",
       "      <td>https://www.profession-gendarme.com/tour-de-fr...</td>\n",
       "      <td>Tour de France – Abandon de Victor Lafay :« On...</td>\n",
       "      <td>Un mal étrange traverse le peloton du tour de ...</td>\n",
       "      <td>www.profession-gendarme.com</td>\n",
       "      <td>NaN</td>\n",
       "      <td>NaN</td>\n",
       "      <td>7323a1b2c03cb962035c61d73d8e91556e8aed62</td>\n",
       "      <td>1.0</td>\n",
       "      <td>tour de france abandon de victor lafay on est ...</td>\n",
       "    </tr>\n",
       "    <tr>\n",
       "      <th>444</th>\n",
       "      <td>https://www.profession-gendarme.com/un-rapport...</td>\n",
       "      <td>Un rapport du gouvernement britannique admet q...</td>\n",
       "      <td>Source : ns217.wordpress.com – 17 juillet 2022...</td>\n",
       "      <td>www.profession-gendarme.com</td>\n",
       "      <td>NaN</td>\n",
       "      <td>NaN</td>\n",
       "      <td>efaa5d012c9ca584eece0d91a76da6355b89812b</td>\n",
       "      <td>1.0</td>\n",
       "      <td>un rapport du gouvernement britannique admettr...</td>\n",
       "    </tr>\n",
       "  </tbody>\n",
       "</table>\n",
       "<p>445 rows × 9 columns</p>\n",
       "</div>"
      ],
      "text/plain": [
       "                                                   url  \\\n",
       "0    https://reseauinternational.net/tous-les-jeune...   \n",
       "1    https://reseauinternational.net/adhesion-a-la-...   \n",
       "2    https://lemediaen442.fr/onu-le-premier-ministr...   \n",
       "3    https://www.francesoir.fr/societe-environnemen...   \n",
       "4    https://www.dreuz.info/2022/09/qui-est-elle-an...   \n",
       "..                                                 ...   \n",
       "440  https://www.profession-gendarme.com/leffet-kis...   \n",
       "441  https://www.profession-gendarme.com/les-labora...   \n",
       "442  https://www.profession-gendarme.com/lettre-ouv...   \n",
       "443  https://www.profession-gendarme.com/tour-de-fr...   \n",
       "444  https://www.profession-gendarme.com/un-rapport...   \n",
       "\n",
       "                                                 title  \\\n",
       "0          Tous les jeunes, portez la nouvelle (russe)   \n",
       "1    Adhésion à la Russie : 93% pour le « oui » dan...   \n",
       "2    ONU – Le Premier ministre de Nouvelle-Zélande ...   \n",
       "3    Compostage humain: les “funérailles vertes” ga...   \n",
       "4    Qui est-elle ? Anti-UE, pro-Otan, pro-Ukraine,...   \n",
       "..                                                 ...   \n",
       "440                     L’effet Kiss Coll de la guerre   \n",
       "441   Les laboratoires du Pentagone et la dépopulation   \n",
       "442      « LETTRE OUVERTE A LA FRANCE ET AUX NATIONS »   \n",
       "443  Tour de France – Abandon de Victor Lafay :« On...   \n",
       "444  Un rapport du gouvernement britannique admet q...   \n",
       "\n",
       "                                               article  \\\n",
       "0    par Pepe Escobar.\\nL’OCS à Samarcande et l’Ass...   \n",
       "1    Dans les régions de Zaporijia et de Kherson, 9...   \n",
       "2    L’argument principal de la ministre est que le...   \n",
       "3    Aux États-Unis, les différents gouvernements r...   \n",
       "4    Les journalistes ont le cerveau bloqué sur 193...   \n",
       "..                                                 ...   \n",
       "440  Par WD\\n\\n\\nNous sommes imbriqués dans l’Otan....   \n",
       "441  par Dragomir Bojkov.\\nLa vice-présidente de la...   \n",
       "442  L’un de nos lecteurs (ou l’une de nos lectrice...   \n",
       "443  Un mal étrange traverse le peloton du tour de ...   \n",
       "444  Source : ns217.wordpress.com – 17 juillet 2022...   \n",
       "\n",
       "                            site  \\\n",
       "0        reseauinternational.net   \n",
       "1        reseauinternational.net   \n",
       "2                lemediaen442.fr   \n",
       "3              www.francesoir.fr   \n",
       "4                 www.dreuz.info   \n",
       "..                           ...   \n",
       "440  www.profession-gendarme.com   \n",
       "441  www.profession-gendarme.com   \n",
       "442  www.profession-gendarme.com   \n",
       "443  www.profession-gendarme.com   \n",
       "444  www.profession-gendarme.com   \n",
       "\n",
       "                                                author             date_iso  \\\n",
       "0                                                  NaN  2022-09-30T00:00:00   \n",
       "1                                                  NaN  2022-09-30T00:00:00   \n",
       "2                                                  NaN  2022-09-29T00:00:00   \n",
       "3                                Auteur(s)\\nFranceSoir  2022-09-28T13:15:00   \n",
       "4    Publié par  Jean-Patrick Grumberg le 27 septem...  2022-09-27T00:00:00   \n",
       "..                                                 ...                  ...   \n",
       "440                                                NaN                  NaN   \n",
       "441                                                NaN                  NaN   \n",
       "442                                                NaN                  NaN   \n",
       "443                                                NaN                  NaN   \n",
       "444                                                NaN                  NaN   \n",
       "\n",
       "                                        url_h  value  \\\n",
       "0    f95a294c94ff76cc9626ae06300a8b38067f89cf    0.0   \n",
       "1    c924dab7ded47578d81c3ae46f8be0964b3c50f1    0.0   \n",
       "2    3d47a59ef99274fd9ee96c209cc2ab41d6e1f6bb    1.0   \n",
       "3    0c0341a1f5fae820ee307cb54024df6b06a93d85    0.0   \n",
       "4    fa85922e4634eafe350347108f476b6b00b6e0cc    0.0   \n",
       "..                                        ...    ...   \n",
       "440  534d88118c1f7aa505320cd7acf4a66baee5e758    1.0   \n",
       "441  f0b3503380903a04bdaccba2624a9ce8af4d5e7a    1.0   \n",
       "442  b061ae5372ea42553cdd40717225f70e371a4d0b    1.0   \n",
       "443  7323a1b2c03cb962035c61d73d8e91556e8aed62    1.0   \n",
       "444  efaa5d012c9ca584eece0d91a76da6355b89812b    1.0   \n",
       "\n",
       "                                          title_lemmas  \n",
       "0               tous les jeune porter la nouveau russe  \n",
       "1    adhésion la russie pour le oui dans la région ...  \n",
       "2    onu le premier ministre de nouveau zélande dem...  \n",
       "3    compostage humain les funérailles vert gagner ...  \n",
       "4    qui est elle anti ue pro otan pro ukraine pro ...  \n",
       "..                                                 ...  \n",
       "440                       effet kiss coll de la guerre  \n",
       "441    les laboratoire du pentagone et la dépopulation  \n",
       "442              lettre ouvert la france et aux nation  \n",
       "443  tour de france abandon de victor lafay on est ...  \n",
       "444  un rapport du gouvernement britannique admettr...  \n",
       "\n",
       "[445 rows x 9 columns]"
      ]
     },
     "execution_count": 136,
     "metadata": {},
     "output_type": "execute_result"
    }
   ],
   "source": [
    "df_recueil"
   ]
  },
  {
   "cell_type": "markdown",
   "id": "61d0be5d",
   "metadata": {},
   "source": [
    "### Ignore Words"
   ]
  },
  {
   "cell_type": "code",
   "execution_count": 137,
   "id": "139bd58b",
   "metadata": {},
   "outputs": [],
   "source": [
    "text_0 = '\\n'.join(df_recueil[df_recueil['value']==0]['title'])"
   ]
  },
  {
   "cell_type": "code",
   "execution_count": 138,
   "id": "0760eb69",
   "metadata": {},
   "outputs": [],
   "source": [
    "text_1 = '\\n'.join(df_recueil[df_recueil['value']==1]['title'])"
   ]
  },
  {
   "cell_type": "code",
   "execution_count": 139,
   "id": "b713a4c6",
   "metadata": {},
   "outputs": [],
   "source": [
    "lemmas_0 = lex.get_words(text_0)"
   ]
  },
  {
   "cell_type": "code",
   "execution_count": 140,
   "id": "6800b4ff",
   "metadata": {},
   "outputs": [],
   "source": [
    "lemmas_1 = lex.get_words(text_1)"
   ]
  },
  {
   "cell_type": "code",
   "execution_count": 159,
   "id": "6a2e583f",
   "metadata": {},
   "outputs": [],
   "source": [
    "ignore_words = lex.get_ignore_words(lemmas_0,lemmas_1,occ_rare=1,common_size=50)"
   ]
  },
  {
   "cell_type": "code",
   "execution_count": 160,
   "id": "82d7c4e1",
   "metadata": {},
   "outputs": [
    {
     "data": {
      "text/plain": [
       "31"
      ]
     },
     "execution_count": 160,
     "metadata": {},
     "output_type": "execute_result"
    }
   ],
   "source": [
    "len(ignore_words)"
   ]
  },
  {
   "cell_type": "markdown",
   "id": "08e54064",
   "metadata": {},
   "source": [
    "### Vectorizer"
   ]
  },
  {
   "cell_type": "code",
   "execution_count": 161,
   "id": "3760bef4",
   "metadata": {},
   "outputs": [],
   "source": [
    "from sklearn.feature_extraction.text import TfidfVectorizer\n",
    "from sklearn.feature_extraction.text import CountVectorizer"
   ]
  },
  {
   "cell_type": "code",
   "execution_count": null,
   "id": "179ac7b7",
   "metadata": {},
   "outputs": [],
   "source": []
  },
  {
   "cell_type": "code",
   "execution_count": 174,
   "id": "d7ae3d8b",
   "metadata": {},
   "outputs": [],
   "source": [
    "vectorizer = TfidfVectorizer(stop_words=ignore_words)\n",
    "#vectorizer = CountVectorizer(stop_words=ignore_words)\n",
    "X = vectorizer.fit_transform(df_recueil['title'])"
   ]
  },
  {
   "cell_type": "code",
   "execution_count": 27,
   "id": "fd1b853b",
   "metadata": {},
   "outputs": [],
   "source": [
    "y_test = df_recueil['value']"
   ]
  },
  {
   "cell_type": "code",
   "execution_count": 7,
   "id": "d409d6d1",
   "metadata": {},
   "outputs": [],
   "source": [
    "df_recueil['char_count']=df_recueil['article'].apply(len)"
   ]
  },
  {
   "cell_type": "code",
   "execution_count": 9,
   "id": "2e229b62",
   "metadata": {},
   "outputs": [
    {
     "data": {
      "text/plain": [
       "4466.0"
      ]
     },
     "execution_count": 9,
     "metadata": {},
     "output_type": "execute_result"
    }
   ],
   "source": [
    "df_recueil['char_count'].median()"
   ]
  },
  {
   "cell_type": "code",
   "execution_count": 36,
   "id": "cdc73555",
   "metadata": {},
   "outputs": [],
   "source": [
    "y_pred = df_recueil['char_count'].apply(lambda cc : 0.0 if cc < 3000 else 1.0)"
   ]
  },
  {
   "cell_type": "code",
   "execution_count": 24,
   "id": "55845334",
   "metadata": {},
   "outputs": [
    {
     "data": {
      "text/plain": [
       "0      1.0\n",
       "1      0.0\n",
       "2      0.0\n",
       "3      0.0\n",
       "4      1.0\n",
       "      ... \n",
       "360    1.0\n",
       "361    0.0\n",
       "362    1.0\n",
       "363    1.0\n",
       "364    1.0\n",
       "Name: char_count, Length: 365, dtype: float64"
      ]
     },
     "execution_count": 24,
     "metadata": {},
     "output_type": "execute_result"
    }
   ],
   "source": [
    "y_pred"
   ]
  },
  {
   "cell_type": "code",
   "execution_count": 18,
   "id": "0e11424e",
   "metadata": {},
   "outputs": [],
   "source": [
    "#X = X.toarray()"
   ]
  },
  {
   "cell_type": "code",
   "execution_count": 19,
   "id": "43a874f3",
   "metadata": {},
   "outputs": [
    {
     "ename": "NameError",
     "evalue": "name 'y' is not defined",
     "output_type": "error",
     "traceback": [
      "\u001b[0;31m---------------------------------------------------------------------------\u001b[0m",
      "\u001b[0;31mNameError\u001b[0m                                 Traceback (most recent call last)",
      "Input \u001b[0;32mIn [19]\u001b[0m, in \u001b[0;36m<cell line: 1>\u001b[0;34m()\u001b[0m\n\u001b[0;32m----> 1\u001b[0m \u001b[43my\u001b[49m\u001b[38;5;241m.\u001b[39mvalue_counts()\n",
      "\u001b[0;31mNameError\u001b[0m: name 'y' is not defined"
     ]
    }
   ],
   "source": [
    "y.value_counts()"
   ]
  },
  {
   "cell_type": "code",
   "execution_count": 20,
   "id": "d0289a57",
   "metadata": {},
   "outputs": [
    {
     "ename": "NameError",
     "evalue": "name 'y' is not defined",
     "output_type": "error",
     "traceback": [
      "\u001b[0;31m---------------------------------------------------------------------------\u001b[0m",
      "\u001b[0;31mNameError\u001b[0m                                 Traceback (most recent call last)",
      "Input \u001b[0;32mIn [20]\u001b[0m, in \u001b[0;36m<cell line: 1>\u001b[0;34m()\u001b[0m\n\u001b[0;32m----> 1\u001b[0m y \u001b[38;5;241m=\u001b[39m \u001b[43my\u001b[49m\u001b[38;5;241m.\u001b[39mastype(\u001b[38;5;28mfloat\u001b[39m)\n",
      "\u001b[0;31mNameError\u001b[0m: name 'y' is not defined"
     ]
    }
   ],
   "source": [
    "y = y.astype(float)"
   ]
  },
  {
   "cell_type": "markdown",
   "id": "00f480cd",
   "metadata": {},
   "source": [
    "### Construction des Datasets d'entrainement et de test"
   ]
  },
  {
   "cell_type": "code",
   "execution_count": 25,
   "id": "a59b4ba8",
   "metadata": {},
   "outputs": [
    {
     "data": {
      "text/plain": [
       "(273,)"
      ]
     },
     "execution_count": 25,
     "metadata": {},
     "output_type": "execute_result"
    }
   ],
   "source": [
    "import sklearn.model_selection\n",
    "\n",
    "#X_train,X_test,y_train,y_test = sklearn.model_selection.train_test_split(X,y,train_size=0.8,shuffle=True)\n",
    "X_train,X_test,y_train,y_test = sklearn.model_selection.train_test_split(X,y,random_state=17,train_size=0.75)\n",
    "\n",
    "X_train.shape"
   ]
  },
  {
   "cell_type": "markdown",
   "id": "8df9935c",
   "metadata": {},
   "source": [
    "### Entrainement du modele"
   ]
  },
  {
   "cell_type": "code",
   "execution_count": 181,
   "id": "a34e9e64",
   "metadata": {},
   "outputs": [
    {
     "data": {
      "text/html": [
       "<style>#sk-container-id-8 {color: black;background-color: white;}#sk-container-id-8 pre{padding: 0;}#sk-container-id-8 div.sk-toggleable {background-color: white;}#sk-container-id-8 label.sk-toggleable__label {cursor: pointer;display: block;width: 100%;margin-bottom: 0;padding: 0.3em;box-sizing: border-box;text-align: center;}#sk-container-id-8 label.sk-toggleable__label-arrow:before {content: \"▸\";float: left;margin-right: 0.25em;color: #696969;}#sk-container-id-8 label.sk-toggleable__label-arrow:hover:before {color: black;}#sk-container-id-8 div.sk-estimator:hover label.sk-toggleable__label-arrow:before {color: black;}#sk-container-id-8 div.sk-toggleable__content {max-height: 0;max-width: 0;overflow: hidden;text-align: left;background-color: #f0f8ff;}#sk-container-id-8 div.sk-toggleable__content pre {margin: 0.2em;color: black;border-radius: 0.25em;background-color: #f0f8ff;}#sk-container-id-8 input.sk-toggleable__control:checked~div.sk-toggleable__content {max-height: 200px;max-width: 100%;overflow: auto;}#sk-container-id-8 input.sk-toggleable__control:checked~label.sk-toggleable__label-arrow:before {content: \"▾\";}#sk-container-id-8 div.sk-estimator input.sk-toggleable__control:checked~label.sk-toggleable__label {background-color: #d4ebff;}#sk-container-id-8 div.sk-label input.sk-toggleable__control:checked~label.sk-toggleable__label {background-color: #d4ebff;}#sk-container-id-8 input.sk-hidden--visually {border: 0;clip: rect(1px 1px 1px 1px);clip: rect(1px, 1px, 1px, 1px);height: 1px;margin: -1px;overflow: hidden;padding: 0;position: absolute;width: 1px;}#sk-container-id-8 div.sk-estimator {font-family: monospace;background-color: #f0f8ff;border: 1px dotted black;border-radius: 0.25em;box-sizing: border-box;margin-bottom: 0.5em;}#sk-container-id-8 div.sk-estimator:hover {background-color: #d4ebff;}#sk-container-id-8 div.sk-parallel-item::after {content: \"\";width: 100%;border-bottom: 1px solid gray;flex-grow: 1;}#sk-container-id-8 div.sk-label:hover label.sk-toggleable__label {background-color: #d4ebff;}#sk-container-id-8 div.sk-serial::before {content: \"\";position: absolute;border-left: 1px solid gray;box-sizing: border-box;top: 0;bottom: 0;left: 50%;z-index: 0;}#sk-container-id-8 div.sk-serial {display: flex;flex-direction: column;align-items: center;background-color: white;padding-right: 0.2em;padding-left: 0.2em;position: relative;}#sk-container-id-8 div.sk-item {position: relative;z-index: 1;}#sk-container-id-8 div.sk-parallel {display: flex;align-items: stretch;justify-content: center;background-color: white;position: relative;}#sk-container-id-8 div.sk-item::before, #sk-container-id-8 div.sk-parallel-item::before {content: \"\";position: absolute;border-left: 1px solid gray;box-sizing: border-box;top: 0;bottom: 0;left: 50%;z-index: -1;}#sk-container-id-8 div.sk-parallel-item {display: flex;flex-direction: column;z-index: 1;position: relative;background-color: white;}#sk-container-id-8 div.sk-parallel-item:first-child::after {align-self: flex-end;width: 50%;}#sk-container-id-8 div.sk-parallel-item:last-child::after {align-self: flex-start;width: 50%;}#sk-container-id-8 div.sk-parallel-item:only-child::after {width: 0;}#sk-container-id-8 div.sk-dashed-wrapped {border: 1px dashed gray;margin: 0 0.4em 0.5em 0.4em;box-sizing: border-box;padding-bottom: 0.4em;background-color: white;}#sk-container-id-8 div.sk-label label {font-family: monospace;font-weight: bold;display: inline-block;line-height: 1.2em;}#sk-container-id-8 div.sk-label-container {text-align: center;}#sk-container-id-8 div.sk-container {/* jupyter's `normalize.less` sets `[hidden] { display: none; }` but bootstrap.min.css set `[hidden] { display: none !important; }` so we also need the `!important` here to be able to override the default hidden behavior on the sphinx rendered scikit-learn.org. See: https://github.com/scikit-learn/scikit-learn/issues/21755 */display: inline-block !important;position: relative;}#sk-container-id-8 div.sk-text-repr-fallback {display: none;}</style><div id=\"sk-container-id-8\" class=\"sk-top-container\"><div class=\"sk-text-repr-fallback\"><pre>LogisticRegression(C=100.0, max_iter=1000, multi_class=&#x27;ovr&#x27;, random_state=42)</pre><b>In a Jupyter environment, please rerun this cell to show the HTML representation or trust the notebook. <br />On GitHub, the HTML representation is unable to render, please try loading this page with nbviewer.org.</b></div><div class=\"sk-container\" hidden><div class=\"sk-item\"><div class=\"sk-estimator sk-toggleable\"><input class=\"sk-toggleable__control sk-hidden--visually\" id=\"sk-estimator-id-8\" type=\"checkbox\" checked><label for=\"sk-estimator-id-8\" class=\"sk-toggleable__label sk-toggleable__label-arrow\">LogisticRegression</label><div class=\"sk-toggleable__content\"><pre>LogisticRegression(C=100.0, max_iter=1000, multi_class=&#x27;ovr&#x27;, random_state=42)</pre></div></div></div></div></div>"
      ],
      "text/plain": [
       "LogisticRegression(C=100.0, max_iter=1000, multi_class='ovr', random_state=42)"
      ]
     },
     "execution_count": 181,
     "metadata": {},
     "output_type": "execute_result"
    }
   ],
   "source": [
    "from sklearn.linear_model import LogisticRegression\n",
    "from sklearn import metrics\n",
    "\n",
    "classifier = LogisticRegression(C=100.0, random_state=42, solver='lbfgs', multi_class='ovr', max_iter=1000)\n",
    "#classifier = LogisticRegression(max_iter=1000)\n",
    "\n",
    "# Fit the model\n",
    "classifier.fit(X_train, y_train)\n"
   ]
  },
  {
   "cell_type": "markdown",
   "id": "bc733066",
   "metadata": {},
   "source": [
    "### Mesure des résultats"
   ]
  },
  {
   "cell_type": "code",
   "execution_count": 182,
   "id": "ffb2c083",
   "metadata": {},
   "outputs": [],
   "source": [
    "y_pred = classifier.predict(X_test)"
   ]
  },
  {
   "cell_type": "code",
   "execution_count": 37,
   "id": "c5a4854d",
   "metadata": {},
   "outputs": [
    {
     "name": "stdout",
     "output_type": "stream",
     "text": [
      "Matrice de confusion\n",
      "[[ 70 132]\n",
      " [ 43 120]]\n",
      "Accuracy score 52.05%\n",
      "Recall score 73.62%\n"
     ]
    }
   ],
   "source": [
    "from sklearn import metrics\n",
    "cnf_matrix = metrics.confusion_matrix(y_test, y_pred)\n",
    "print('Matrice de confusion')\n",
    "print(cnf_matrix)\n",
    "print(f'Accuracy score {metrics.accuracy_score(y_test, y_pred)*100:.2f}%')\n",
    "print(f'Recall score {metrics.recall_score(y_test, y_pred)*100:.2f}%')"
   ]
  },
  {
   "cell_type": "markdown",
   "id": "f97170eb",
   "metadata": {},
   "source": [
    "### Cross Validation"
   ]
  },
  {
   "cell_type": "code",
   "execution_count": 172,
   "id": "8f39a618",
   "metadata": {},
   "outputs": [
    {
     "data": {
      "text/plain": [
       "array([0.57894737, 0.62162162, 0.72972973, 0.48648649, 0.54054054,\n",
       "       0.72972973, 0.54054054, 0.67567568, 0.64864865, 0.54054054,\n",
       "       0.62162162, 0.45945946])"
      ]
     },
     "execution_count": 172,
     "metadata": {},
     "output_type": "execute_result"
    }
   ],
   "source": [
    "from sklearn.model_selection import cross_val_score\n",
    "scores = cross_val_score(classifier, X, y, cv=12)\n",
    "scores"
   ]
  },
  {
   "cell_type": "code",
   "execution_count": 173,
   "id": "8771ace7",
   "metadata": {},
   "outputs": [
    {
     "name": "stdout",
     "output_type": "stream",
     "text": [
      "accuracy : 0.60 \n",
      "standard deviation : 0.08\n"
     ]
    }
   ],
   "source": [
    "print(\"accuracy : %0.2f \\nstandard deviation : %0.2f\" % (scores.mean(), scores.std()))"
   ]
  },
  {
   "cell_type": "code",
   "execution_count": 74,
   "id": "ba61e807",
   "metadata": {},
   "outputs": [
    {
     "data": {
      "text/html": [
       "<div>\n",
       "<style scoped>\n",
       "    .dataframe tbody tr th:only-of-type {\n",
       "        vertical-align: middle;\n",
       "    }\n",
       "\n",
       "    .dataframe tbody tr th {\n",
       "        vertical-align: top;\n",
       "    }\n",
       "\n",
       "    .dataframe thead th {\n",
       "        text-align: right;\n",
       "    }\n",
       "</style>\n",
       "<table border=\"1\" class=\"dataframe\">\n",
       "  <thead>\n",
       "    <tr style=\"text-align: right;\">\n",
       "      <th></th>\n",
       "      <th>fit_time</th>\n",
       "      <th>score_time</th>\n",
       "      <th>test_accuracy</th>\n",
       "      <th>test_recall</th>\n",
       "    </tr>\n",
       "  </thead>\n",
       "  <tbody>\n",
       "    <tr>\n",
       "      <th>0</th>\n",
       "      <td>0.113964</td>\n",
       "      <td>0.000919</td>\n",
       "      <td>0.605263</td>\n",
       "      <td>0.578947</td>\n",
       "    </tr>\n",
       "    <tr>\n",
       "      <th>1</th>\n",
       "      <td>0.095227</td>\n",
       "      <td>0.000583</td>\n",
       "      <td>0.675676</td>\n",
       "      <td>0.666667</td>\n",
       "    </tr>\n",
       "    <tr>\n",
       "      <th>2</th>\n",
       "      <td>0.118932</td>\n",
       "      <td>0.000590</td>\n",
       "      <td>0.567568</td>\n",
       "      <td>0.611111</td>\n",
       "    </tr>\n",
       "    <tr>\n",
       "      <th>3</th>\n",
       "      <td>0.097359</td>\n",
       "      <td>0.000713</td>\n",
       "      <td>0.513514</td>\n",
       "      <td>0.500000</td>\n",
       "    </tr>\n",
       "    <tr>\n",
       "      <th>4</th>\n",
       "      <td>0.098443</td>\n",
       "      <td>0.000538</td>\n",
       "      <td>0.540541</td>\n",
       "      <td>0.500000</td>\n",
       "    </tr>\n",
       "    <tr>\n",
       "      <th>5</th>\n",
       "      <td>0.110513</td>\n",
       "      <td>0.001003</td>\n",
       "      <td>0.783784</td>\n",
       "      <td>0.777778</td>\n",
       "    </tr>\n",
       "    <tr>\n",
       "      <th>6</th>\n",
       "      <td>0.055585</td>\n",
       "      <td>0.000799</td>\n",
       "      <td>0.486486</td>\n",
       "      <td>0.444444</td>\n",
       "    </tr>\n",
       "    <tr>\n",
       "      <th>7</th>\n",
       "      <td>0.087649</td>\n",
       "      <td>0.000579</td>\n",
       "      <td>0.594595</td>\n",
       "      <td>0.444444</td>\n",
       "    </tr>\n",
       "    <tr>\n",
       "      <th>8</th>\n",
       "      <td>0.075204</td>\n",
       "      <td>0.000602</td>\n",
       "      <td>0.594595</td>\n",
       "      <td>0.777778</td>\n",
       "    </tr>\n",
       "    <tr>\n",
       "      <th>9</th>\n",
       "      <td>0.093802</td>\n",
       "      <td>0.005958</td>\n",
       "      <td>0.621622</td>\n",
       "      <td>0.631579</td>\n",
       "    </tr>\n",
       "    <tr>\n",
       "      <th>10</th>\n",
       "      <td>0.121134</td>\n",
       "      <td>0.000934</td>\n",
       "      <td>0.675676</td>\n",
       "      <td>0.631579</td>\n",
       "    </tr>\n",
       "    <tr>\n",
       "      <th>11</th>\n",
       "      <td>0.109727</td>\n",
       "      <td>0.002602</td>\n",
       "      <td>0.567568</td>\n",
       "      <td>0.368421</td>\n",
       "    </tr>\n",
       "  </tbody>\n",
       "</table>\n",
       "</div>"
      ],
      "text/plain": [
       "    fit_time  score_time  test_accuracy  test_recall\n",
       "0   0.113964    0.000919       0.605263     0.578947\n",
       "1   0.095227    0.000583       0.675676     0.666667\n",
       "2   0.118932    0.000590       0.567568     0.611111\n",
       "3   0.097359    0.000713       0.513514     0.500000\n",
       "4   0.098443    0.000538       0.540541     0.500000\n",
       "5   0.110513    0.001003       0.783784     0.777778\n",
       "6   0.055585    0.000799       0.486486     0.444444\n",
       "7   0.087649    0.000579       0.594595     0.444444\n",
       "8   0.075204    0.000602       0.594595     0.777778\n",
       "9   0.093802    0.005958       0.621622     0.631579\n",
       "10  0.121134    0.000934       0.675676     0.631579\n",
       "11  0.109727    0.002602       0.567568     0.368421"
      ]
     },
     "execution_count": 74,
     "metadata": {},
     "output_type": "execute_result"
    }
   ],
   "source": [
    "from sklearn.model_selection import cross_validate\n",
    "scores = cross_validate(classifier, X, y, cv=12,scoring=['accuracy','recall'])\n",
    "scores\n",
    "df_scores = pd.DataFrame(scores)\n",
    "df_scores"
   ]
  },
  {
   "cell_type": "code",
   "execution_count": 75,
   "id": "f4fda48e",
   "metadata": {},
   "outputs": [
    {
     "name": "stdout",
     "output_type": "stream",
     "text": [
      "Accuracy : Mean = 0.60 Deviation = 0.08\n",
      "Recall : Mean = 0.58 Deviation = 0.13\n"
     ]
    }
   ],
   "source": [
    "print(f'Accuracy : Mean = {df_scores[\"test_accuracy\"].mean():.2f} \\\n",
    "Deviation = {df_scores[\"test_accuracy\"].std():.2f}')\n",
    "print(f'Recall : Mean = {df_scores[\"test_recall\"].mean():.2f} \\\n",
    "Deviation = {df_scores[\"test_recall\"].std():.2f}')"
   ]
  },
  {
   "cell_type": "markdown",
   "id": "6955bbb8",
   "metadata": {},
   "source": [
    "### Benchmark algos"
   ]
  },
  {
   "cell_type": "code",
   "execution_count": 76,
   "id": "f5762ad1",
   "metadata": {},
   "outputs": [
    {
     "name": "stdout",
     "output_type": "stream",
     "text": [
      "------------------------------------\n",
      "Classifier : Logistic Regression\n",
      "Matrice de confusion\n",
      "[[38 24]\n",
      " [16 34]]\n",
      "Accuracy score 64.29%\n",
      "Recall score 68.00%\n",
      "------------------------------------\n",
      "Classifier : Nearest Neighbors\n",
      "Matrice de confusion\n",
      "[[17 45]\n",
      " [ 5 45]]\n",
      "Accuracy score 55.36%\n",
      "Recall score 90.00%\n",
      "------------------------------------\n",
      "Classifier : Linear SVM\n",
      "Matrice de confusion\n",
      "[[44 18]\n",
      " [30 20]]\n",
      "Accuracy score 57.14%\n",
      "Recall score 40.00%\n",
      "------------------------------------\n",
      "Classifier : RBF SVM\n",
      "Matrice de confusion\n",
      "[[ 1 61]\n",
      " [ 0 50]]\n",
      "Accuracy score 45.54%\n",
      "Recall score 100.00%\n",
      "------------------------------------\n",
      "Classifier : Gaussian Process\n",
      "Matrice de confusion\n",
      "[[18 44]\n",
      " [11 39]]\n",
      "Accuracy score 50.89%\n",
      "Recall score 78.00%\n",
      "------------------------------------\n",
      "Classifier : Decision Tree\n",
      "Matrice de confusion\n",
      "[[55  7]\n",
      " [37 13]]\n",
      "Accuracy score 60.71%\n",
      "Recall score 26.00%\n",
      "------------------------------------\n",
      "Classifier : Random Forest\n",
      "Matrice de confusion\n",
      "[[61  1]\n",
      " [47  3]]\n",
      "Accuracy score 57.14%\n",
      "Recall score 6.00%\n",
      "------------------------------------\n",
      "Classifier : Neural Net\n",
      "Matrice de confusion\n",
      "[[38 24]\n",
      " [16 34]]\n",
      "Accuracy score 64.29%\n",
      "Recall score 68.00%\n",
      "------------------------------------\n",
      "Classifier : AdaBoost\n",
      "Matrice de confusion\n",
      "[[36 26]\n",
      " [21 29]]\n",
      "Accuracy score 58.04%\n",
      "Recall score 58.00%\n",
      "------------------------------------\n",
      "Classifier : Naive Bayes\n",
      "Matrice de confusion\n",
      "[[40 22]\n",
      " [22 28]]\n",
      "Accuracy score 60.71%\n",
      "Recall score 56.00%\n",
      "------------------------------------\n",
      "Classifier : QDA\n",
      "Matrice de confusion\n",
      "[[46 16]\n",
      " [35 15]]\n",
      "Accuracy score 54.46%\n",
      "Recall score 30.00%\n",
      "------------------------------------\n"
     ]
    },
    {
     "name": "stderr",
     "output_type": "stream",
     "text": [
      "/Users/fm/Desktop/Work/Patat/patat-env/lib/python3.9/site-packages/sklearn/discriminant_analysis.py:887: UserWarning: Variables are collinear\n",
      "  warnings.warn(\"Variables are collinear\")\n"
     ]
    }
   ],
   "source": [
    "from sklearn.neural_network import MLPClassifier\n",
    "from sklearn.neighbors import KNeighborsClassifier\n",
    "from sklearn.svm import SVC\n",
    "from sklearn.gaussian_process import GaussianProcessClassifier\n",
    "from sklearn.gaussian_process.kernels import RBF\n",
    "from sklearn.tree import DecisionTreeClassifier\n",
    "from sklearn.ensemble import RandomForestClassifier, AdaBoostClassifier\n",
    "from sklearn.naive_bayes import GaussianNB\n",
    "from sklearn.discriminant_analysis import QuadraticDiscriminantAnalysis\n",
    "from sklearn.inspection import DecisionBoundaryDisplay\n",
    "\n",
    "names = [\n",
    "    \"Logistic Regression\",\n",
    "    \"Nearest Neighbors\",\n",
    "    \"Linear SVM\",\n",
    "    \"RBF SVM\",\n",
    "    \"Gaussian Process\",\n",
    "    \"Decision Tree\",\n",
    "    \"Random Forest\",\n",
    "    \"Neural Net\",\n",
    "    \"AdaBoost\",\n",
    "    \"Naive Bayes\",\n",
    "    \"QDA\",\n",
    "]\n",
    "\n",
    "classifiers = [\n",
    "    LogisticRegression(C=100.0, random_state=42, solver='lbfgs', multi_class='ovr', max_iter=1000),\n",
    "    KNeighborsClassifier(3),\n",
    "    SVC(kernel=\"linear\", C=0.025, random_state=42),\n",
    "    SVC(gamma=2, C=1, random_state=42),\n",
    "    GaussianProcessClassifier(1.0 * RBF(1.0), random_state=42),\n",
    "    DecisionTreeClassifier(max_depth=5, random_state=42),\n",
    "    RandomForestClassifier(max_depth=5, n_estimators=10, max_features=1, random_state=42),\n",
    "    MLPClassifier(alpha=1, max_iter=1000, random_state=42),\n",
    "    AdaBoostClassifier(random_state=42),\n",
    "    GaussianNB(),\n",
    "    QuadraticDiscriminantAnalysis(),\n",
    "]\n",
    "\n",
    "results =[]\n",
    "for name, clf in zip(names, classifiers):\n",
    "    clf.fit(X_train, y_train)\n",
    "    y_pred = clf.predict(X_test)\n",
    "    cnf_matrix = metrics.confusion_matrix(y_test, y_pred)\n",
    "    print('------------------------------------')\n",
    "    print(f'Classifier : {name}')\n",
    "    print('Matrice de confusion')\n",
    "    print(cnf_matrix)\n",
    "    acc = metrics.accuracy_score(y_test, y_pred)\n",
    "    print(f'Accuracy score {acc*100:.2f}%')\n",
    "    recall = metrics.recall_score(y_test, y_pred)\n",
    "    print(f'Recall score {recall*100:.2f}%')\n",
    "    results.append({\n",
    "        'Classifier' : name,\n",
    "        'Accuracy' : round(acc*100),\n",
    "        'Recall' : round(recall*100),\n",
    "    })\n",
    "print('------------------------------------')"
   ]
  },
  {
   "cell_type": "code",
   "execution_count": 77,
   "id": "bbe5100a",
   "metadata": {},
   "outputs": [
    {
     "data": {
      "text/html": [
       "<div>\n",
       "<style scoped>\n",
       "    .dataframe tbody tr th:only-of-type {\n",
       "        vertical-align: middle;\n",
       "    }\n",
       "\n",
       "    .dataframe tbody tr th {\n",
       "        vertical-align: top;\n",
       "    }\n",
       "\n",
       "    .dataframe thead th {\n",
       "        text-align: right;\n",
       "    }\n",
       "</style>\n",
       "<table border=\"1\" class=\"dataframe\">\n",
       "  <thead>\n",
       "    <tr style=\"text-align: right;\">\n",
       "      <th></th>\n",
       "      <th>Classifier</th>\n",
       "      <th>Accuracy</th>\n",
       "      <th>Recall</th>\n",
       "    </tr>\n",
       "  </thead>\n",
       "  <tbody>\n",
       "    <tr>\n",
       "      <th>0</th>\n",
       "      <td>Logistic Regression</td>\n",
       "      <td>64</td>\n",
       "      <td>68</td>\n",
       "    </tr>\n",
       "    <tr>\n",
       "      <th>7</th>\n",
       "      <td>Neural Net</td>\n",
       "      <td>64</td>\n",
       "      <td>68</td>\n",
       "    </tr>\n",
       "    <tr>\n",
       "      <th>9</th>\n",
       "      <td>Naive Bayes</td>\n",
       "      <td>61</td>\n",
       "      <td>56</td>\n",
       "    </tr>\n",
       "    <tr>\n",
       "      <th>5</th>\n",
       "      <td>Decision Tree</td>\n",
       "      <td>61</td>\n",
       "      <td>26</td>\n",
       "    </tr>\n",
       "    <tr>\n",
       "      <th>8</th>\n",
       "      <td>AdaBoost</td>\n",
       "      <td>58</td>\n",
       "      <td>58</td>\n",
       "    </tr>\n",
       "    <tr>\n",
       "      <th>2</th>\n",
       "      <td>Linear SVM</td>\n",
       "      <td>57</td>\n",
       "      <td>40</td>\n",
       "    </tr>\n",
       "    <tr>\n",
       "      <th>6</th>\n",
       "      <td>Random Forest</td>\n",
       "      <td>57</td>\n",
       "      <td>6</td>\n",
       "    </tr>\n",
       "    <tr>\n",
       "      <th>1</th>\n",
       "      <td>Nearest Neighbors</td>\n",
       "      <td>55</td>\n",
       "      <td>90</td>\n",
       "    </tr>\n",
       "    <tr>\n",
       "      <th>10</th>\n",
       "      <td>QDA</td>\n",
       "      <td>54</td>\n",
       "      <td>30</td>\n",
       "    </tr>\n",
       "    <tr>\n",
       "      <th>4</th>\n",
       "      <td>Gaussian Process</td>\n",
       "      <td>51</td>\n",
       "      <td>78</td>\n",
       "    </tr>\n",
       "    <tr>\n",
       "      <th>3</th>\n",
       "      <td>RBF SVM</td>\n",
       "      <td>46</td>\n",
       "      <td>100</td>\n",
       "    </tr>\n",
       "  </tbody>\n",
       "</table>\n",
       "</div>"
      ],
      "text/plain": [
       "             Classifier  Accuracy  Recall\n",
       "0   Logistic Regression        64      68\n",
       "7            Neural Net        64      68\n",
       "9           Naive Bayes        61      56\n",
       "5         Decision Tree        61      26\n",
       "8              AdaBoost        58      58\n",
       "2            Linear SVM        57      40\n",
       "6         Random Forest        57       6\n",
       "1     Nearest Neighbors        55      90\n",
       "10                  QDA        54      30\n",
       "4      Gaussian Process        51      78\n",
       "3               RBF SVM        46     100"
      ]
     },
     "execution_count": 77,
     "metadata": {},
     "output_type": "execute_result"
    }
   ],
   "source": [
    "df = pd.DataFrame(results)\n",
    "df = df.sort_values(['Accuracy','Recall'],ascending=False)\n",
    "df"
   ]
  },
  {
   "cell_type": "markdown",
   "id": "99135e2e",
   "metadata": {},
   "source": [
    "### Prédictions sur le corpus"
   ]
  },
  {
   "cell_type": "code",
   "execution_count": null,
   "id": "33eb3dcc",
   "metadata": {},
   "outputs": [],
   "source": [
    "df_pred = df_corpus"
   ]
  },
  {
   "cell_type": "code",
   "execution_count": null,
   "id": "1bd37d3b",
   "metadata": {},
   "outputs": [],
   "source": [
    "%%time\n",
    "X = vectorizer.transform(df_pred['lemmas'])"
   ]
  },
  {
   "cell_type": "code",
   "execution_count": null,
   "id": "042105e1",
   "metadata": {},
   "outputs": [],
   "source": [
    "%%time\n",
    "y = classifier.predict(X)\n",
    "y_proba = classifier.predict_proba(X)[:,1]"
   ]
  },
  {
   "cell_type": "code",
   "execution_count": null,
   "id": "7c037744",
   "metadata": {},
   "outputs": [],
   "source": [
    "df_pred.loc[:,'infox_pred'] = y\n",
    "df_pred.loc[:,'infox_proba'] = y_proba"
   ]
  },
  {
   "cell_type": "code",
   "execution_count": null,
   "id": "362af487",
   "metadata": {},
   "outputs": [],
   "source": [
    "df_pred"
   ]
  },
  {
   "cell_type": "markdown",
   "id": "76996d3a",
   "metadata": {},
   "source": [
    "## Sauvegarde des résultats\n",
    "---"
   ]
  },
  {
   "cell_type": "markdown",
   "id": "e9619e41",
   "metadata": {},
   "source": [
    "### Sauvegarde du prédicteur"
   ]
  },
  {
   "cell_type": "code",
   "execution_count": null,
   "id": "f3bf1372",
   "metadata": {},
   "outputs": [],
   "source": [
    "import pickle\n",
    "def save_predictor(vectorizer,classifier,data='',filename=''):\n",
    "    predictor = {\n",
    "        'vectorizer' : vectorizer,\n",
    "        'classifier' : classifier,\n",
    "        'data' : data\n",
    "    }\n",
    "    if filename == '':\n",
    "        filename = f'data/predictors/{str(int(time.time()))}.pp'\n",
    "    with open(filename, 'wb') as file:\n",
    "        pickle.dump(predictor, file)"
   ]
  },
  {
   "cell_type": "code",
   "execution_count": null,
   "id": "c6fc4750",
   "metadata": {},
   "outputs": [],
   "source": [
    "save_predictor(vectorizer,classifier,filename='221013-InfoxPred.pp')"
   ]
  },
  {
   "cell_type": "code",
   "execution_count": null,
   "id": "03282ae5",
   "metadata": {},
   "outputs": [],
   "source": [
    "df_label_pred = df_pred[['url','infox_proba']].copy()"
   ]
  },
  {
   "cell_type": "code",
   "execution_count": null,
   "id": "e807f3c4",
   "metadata": {},
   "outputs": [],
   "source": [
    "df_label_pred['label']='infox'\n",
    "df_label_pred = df_label_pred.rename(columns={'infox_proba': 'value'})\n",
    "df_label_pred['owner']='221013-InfoxPred'\n",
    "df_label_pred['type']='pred'"
   ]
  },
  {
   "cell_type": "code",
   "execution_count": null,
   "id": "827f60e3",
   "metadata": {},
   "outputs": [],
   "source": [
    "df_label_pred"
   ]
  },
  {
   "cell_type": "code",
   "execution_count": null,
   "id": "4ba2c6e0",
   "metadata": {},
   "outputs": [],
   "source": [
    "label_db.merge_labels(df_label_pred)"
   ]
  },
  {
   "cell_type": "code",
   "execution_count": null,
   "id": "52000c94",
   "metadata": {},
   "outputs": [],
   "source": [
    "label_db.df()"
   ]
  },
  {
   "cell_type": "code",
   "execution_count": null,
   "id": "071a88ec",
   "metadata": {},
   "outputs": [],
   "source": [
    "label_db.save_prod()"
   ]
  },
  {
   "cell_type": "markdown",
   "id": "fb7949bc",
   "metadata": {},
   "source": [
    "## Conclusions\n",
    "---"
   ]
  },
  {
   "cell_type": "markdown",
   "id": "bd06b261",
   "metadata": {},
   "source": [
    "- Production Corpus Labelisé avec prédictions : OK"
   ]
  },
  {
   "cell_type": "markdown",
   "id": "bd360655",
   "metadata": {},
   "source": [
    "## Bricolages\n",
    "---"
   ]
  },
  {
   "cell_type": "code",
   "execution_count": null,
   "id": "39697b37",
   "metadata": {},
   "outputs": [],
   "source": [
    "df_pred"
   ]
  },
  {
   "cell_type": "code",
   "execution_count": null,
   "id": "199d7c76",
   "metadata": {},
   "outputs": [],
   "source": []
  }
 ],
 "metadata": {
  "kernelspec": {
   "display_name": "Python 3 (ipykernel)",
   "language": "python",
   "name": "python3"
  },
  "language_info": {
   "codemirror_mode": {
    "name": "ipython",
    "version": 3
   },
   "file_extension": ".py",
   "mimetype": "text/x-python",
   "name": "python",
   "nbconvert_exporter": "python",
   "pygments_lexer": "ipython3",
   "version": "3.9.13"
  }
 },
 "nbformat": 4,
 "nbformat_minor": 5
}
