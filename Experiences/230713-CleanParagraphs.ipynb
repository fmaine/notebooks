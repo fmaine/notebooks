{
 "cells": [
  {
   "cell_type": "markdown",
   "id": "e3ec4689",
   "metadata": {},
   "source": [
    "# Plateforme Agnostique de Traitement et d'Analyse des Textes\n",
    "### Carnet d'expérimentation\n",
    "---\n",
    "\n",
    "## Sujet : Suppression paragraphes inutiles dans le corpus\n",
    "\n",
    "---"
   ]
  },
  {
   "cell_type": "markdown",
   "id": "2601e626",
   "metadata": {},
   "source": [
    "# Observations et environnement\n",
    "---"
   ]
  },
  {
   "cell_type": "markdown",
   "id": "85c0f3b8",
   "metadata": {},
   "source": [
    "## Environnement"
   ]
  },
  {
   "cell_type": "code",
   "execution_count": 1,
   "id": "525fef74",
   "metadata": {},
   "outputs": [],
   "source": [
    "random_state = 42"
   ]
  },
  {
   "cell_type": "code",
   "execution_count": 2,
   "id": "5d0de4d7",
   "metadata": {},
   "outputs": [
    {
     "name": "stdout",
     "output_type": "stream",
     "text": [
      "/Volumes/Geek/Work/Patat\n"
     ]
    }
   ],
   "source": [
    "cd ../.."
   ]
  },
  {
   "cell_type": "code",
   "execution_count": 3,
   "id": "32256b0d",
   "metadata": {},
   "outputs": [],
   "source": [
    "import ast\n",
    "import importlib\n",
    "import pandas as pd\n",
    "import seaborn as sns\n",
    "from tqdm.notebook import tqdm\n",
    "tqdm.pandas()"
   ]
  },
  {
   "cell_type": "markdown",
   "id": "4b0b7201",
   "metadata": {},
   "source": [
    "## Données"
   ]
  },
  {
   "cell_type": "code",
   "execution_count": 4,
   "id": "d491fcb3",
   "metadata": {},
   "outputs": [],
   "source": [
    "import patat.util.file\n",
    "filename = 'data/prod/Corpus.pickle'\n",
    "df_corpus = patat.util.file.pickle_load(filename)"
   ]
  },
  {
   "cell_type": "markdown",
   "id": "6b548bc6",
   "metadata": {},
   "source": [
    "# Experience\n",
    "---"
   ]
  },
  {
   "cell_type": "markdown",
   "id": "a306ba37",
   "metadata": {},
   "source": [
    "## Etape 1"
   ]
  },
  {
   "cell_type": "code",
   "execution_count": 5,
   "id": "0f76814a",
   "metadata": {},
   "outputs": [],
   "source": [
    "import patat.imp.clean_params"
   ]
  },
  {
   "cell_type": "code",
   "execution_count": 50,
   "id": "886be4d5",
   "metadata": {},
   "outputs": [
    {
     "data": {
      "text/plain": [
       "<module 'patat.imp.clean_params' from '/Volumes/Geek/Work/Patat/patat/imp/clean_params.py'>"
      ]
     },
     "execution_count": 50,
     "metadata": {},
     "output_type": "execute_result"
    }
   ],
   "source": [
    "importlib.reload(patat.imp.clean_params)"
   ]
  },
  {
   "cell_type": "code",
   "execution_count": 51,
   "id": "047b2a42",
   "metadata": {},
   "outputs": [
    {
     "data": {
      "text/plain": [
       "{'lesakerfrancophone.fr': ['^Traduit par .*'],\n",
       " 'www.breizh-info.com': ['.*\\\\[cc\\\\] Breizh-info.com, \\\\d\\\\d\\\\d\\\\d.*'],\n",
       " 'www.dreuz.info': ['.* © [\\\\w-]+ pour Dreuz.info.'],\n",
       " 'lezarceleurs.blogspot.com': ['[\\\\w-]+ pour Le Média en 4-4-2']}"
      ]
     },
     "execution_count": 51,
     "metadata": {},
     "output_type": "execute_result"
    }
   ],
   "source": [
    "patat.imp.clean_params.remove_regex"
   ]
  },
  {
   "cell_type": "code",
   "execution_count": null,
   "id": "0c720c5a",
   "metadata": {},
   "outputs": [],
   "source": []
  },
  {
   "cell_type": "code",
   "execution_count": 52,
   "id": "22f0617f",
   "metadata": {},
   "outputs": [],
   "source": [
    "def clean_paragraphs(paragraphs,site):\n",
    "    parags_result = []\n",
    "    for p in paragraphs:\n",
    "        p = p.replace('\\xa0',' ')\n",
    "        keep = True\n",
    "        for regex in patat.imp.clean_params.remove_regex.get(site,[]):\n",
    "            if re.match(regex,p):\n",
    "                keep=False\n",
    "        if p in patat.imp.clean_params.remove_paragraphs.get(site,[]):\n",
    "            keep=False\n",
    "        if keep:\n",
    "            parags_result.append(p)\n",
    "    return parags_result"
   ]
  },
  {
   "cell_type": "code",
   "execution_count": 53,
   "id": "198c8e96",
   "metadata": {},
   "outputs": [],
   "source": [
    "def print_parags(paragraphs):\n",
    "    print('\\n'.join(paragraphs))"
   ]
  },
  {
   "cell_type": "code",
   "execution_count": 54,
   "id": "b2c53233",
   "metadata": {},
   "outputs": [],
   "source": [
    "def clean_parags_row(row):\n",
    "    return clean_paragraphs(row['paragraphs'],row['site'])"
   ]
  },
  {
   "cell_type": "code",
   "execution_count": 55,
   "id": "a859144e",
   "metadata": {},
   "outputs": [],
   "source": [
    "df_corpus['paragraphs'] = df_corpus.apply(clean_parags_row,axis=1)"
   ]
  },
  {
   "cell_type": "markdown",
   "id": "76996d3a",
   "metadata": {},
   "source": [
    "# Sauvegarde des résultats\n",
    "---"
   ]
  },
  {
   "cell_type": "code",
   "execution_count": 57,
   "id": "f39f8729",
   "metadata": {},
   "outputs": [],
   "source": [
    "df_corpus.to_pickle(filename)"
   ]
  },
  {
   "cell_type": "markdown",
   "id": "fb7949bc",
   "metadata": {},
   "source": [
    "# Conclusions\n",
    "---"
   ]
  },
  {
   "cell_type": "markdown",
   "id": "bd360655",
   "metadata": {},
   "source": [
    "# Bricolages\n",
    "---"
   ]
  },
  {
   "cell_type": "code",
   "execution_count": 18,
   "id": "f9862890",
   "metadata": {},
   "outputs": [],
   "source": [
    "text = 'Cette étude, aussi intéressante que frustrante – pourquoi avoir utilisé des données attaquables et quid de l’effet de plusieurs années d’éducation ? – sera certainement bientôt disséquée par les spécialistes de l’intelligence humaine. Nous ne manquerons pas d’y revenir.\\nPour aller plus loin, sur l’intelligence humaine :\\nSciences. 536 gènes liés à l’intelligence découverts, une percée majeure Les enfants réfugiés sud-soudanais auraient un QI extrêmement faible Taille du cerveau et intelligence seraient fortement liées Sciences. Quarante gènes de l’intelligence découverts Baisse du QI moyen en France : l’influence de l’immigration ? [20 an après] The Bell Curve : Le QI moyen diffère entre les groupes ethniques Danemark. Les conscrits extra-européens ont un QI inférieur à celui des conscrits européens Emil Kirkegaard : « Le quotient intellectuel mondial est à peu près de 85 » [Entretien]\\nCrédit photo : Allan Ajifo [CC BY 2.0] [cc] Breizh-info.com, 2017, dépêches libres de copie et de diffusion sous réserve de mention et de lien vers la source d’origine\\n'"
   ]
  },
  {
   "cell_type": "code",
   "execution_count": 28,
   "id": "3c433d4f",
   "metadata": {},
   "outputs": [],
   "source": [
    "text='Crédit photo : Allan Ajifo [CC BY 2.0] [cc] Breizh-info.com, 2017, dépêches libres de copie et de diffusion sous réserve de mention et de lien vers la source d’origine'"
   ]
  },
  {
   "cell_type": "code",
   "execution_count": 29,
   "id": "2d48f517",
   "metadata": {},
   "outputs": [],
   "source": [
    "import re"
   ]
  },
  {
   "cell_type": "code",
   "execution_count": 32,
   "id": "5946810a",
   "metadata": {},
   "outputs": [
    {
     "data": {
      "text/plain": [
       "<re.Match object; span=(0, 167), match='Crédit photo : Allan Ajifo [CC BY 2.0] [cc] Breiz>"
      ]
     },
     "execution_count": 32,
     "metadata": {},
     "output_type": "execute_result"
    }
   ],
   "source": [
    "re.match(r\".*\\[cc\\] Breizh-info.com, \\d\\d\\d\\d.*\",text)"
   ]
  },
  {
   "cell_type": "markdown",
   "id": "8761b324",
   "metadata": {},
   "source": []
  }
 ],
 "metadata": {
  "kernelspec": {
   "display_name": "Python 3 (ipykernel)",
   "language": "python",
   "name": "python3"
  },
  "language_info": {
   "codemirror_mode": {
    "name": "ipython",
    "version": 3
   },
   "file_extension": ".py",
   "mimetype": "text/x-python",
   "name": "python",
   "nbconvert_exporter": "python",
   "pygments_lexer": "ipython3",
   "version": "3.9.16"
  }
 },
 "nbformat": 4,
 "nbformat_minor": 5
}
