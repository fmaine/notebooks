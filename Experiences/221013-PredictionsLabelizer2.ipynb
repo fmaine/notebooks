{
 "cells": [
  {
   "cell_type": "markdown",
   "id": "e3ec4689",
   "metadata": {},
   "source": [
    "# Plateforme Agnostique de Traitement et d'Analyse des Textes\n",
    "### Notebook d'expérimentation\n",
    "---\n",
    "\n",
    "## Sujet : Prise en compte des observations labelizer\n",
    "\n",
    "\n",
    "---\n"
   ]
  },
  {
   "cell_type": "markdown",
   "id": "de6dc21a",
   "metadata": {},
   "source": [
    "## Observations et environnement\n",
    "---"
   ]
  },
  {
   "cell_type": "code",
   "execution_count": 1,
   "id": "908b1c4e",
   "metadata": {},
   "outputs": [
    {
     "name": "stdout",
     "output_type": "stream",
     "text": [
      "/Users/fm/Desktop/Work/Patat\n"
     ]
    }
   ],
   "source": [
    "cd ../.."
   ]
  },
  {
   "cell_type": "code",
   "execution_count": 2,
   "id": "4a93e8c1",
   "metadata": {},
   "outputs": [],
   "source": [
    "import importlib\n",
    "import pandas as pd"
   ]
  },
  {
   "cell_type": "markdown",
   "id": "a4df5447",
   "metadata": {},
   "source": [
    "### Chargement des données"
   ]
  },
  {
   "cell_type": "code",
   "execution_count": null,
   "id": "f148f33e",
   "metadata": {},
   "outputs": [],
   "source": []
  },
  {
   "cell_type": "markdown",
   "id": "26de4d29",
   "metadata": {},
   "source": [
    "## Expérience\n",
    "---"
   ]
  },
  {
   "cell_type": "markdown",
   "id": "e2829392",
   "metadata": {},
   "source": [
    "### Lemmatization du corpus"
   ]
  },
  {
   "cell_type": "code",
   "execution_count": null,
   "id": "b24bded5",
   "metadata": {},
   "outputs": [],
   "source": [
    "import patat.db.article_db\n",
    "import patat.db.label_db\n",
    "import patat.ml.lex_analyser\n",
    "\n",
    "importlib.reload(patat.db.article_db)\n",
    "importlib.reload(patat.db.label_db)\n",
    "importlib.reload(patat.ml.lex_analyser)\n",
    "\n",
    "article_db = patat.db.article_db.ArticleDb()\n",
    "label_db = patat.db.label_db.LabelDb()\n",
    "lex = patat.ml.lex_analyser.LexAnalyser()\n",
    "\n",
    "urls_0, urls_1 = label_db.get_obs_urls('infox')\n",
    "\n",
    "text_0,text_1 = article_db.get_texts(urls_0, urls_1)\n",
    "\n",
    "lemmas_0 = lex.get_lemmas_from_text(text_0)\n",
    "lemmas_1 = lex.get_lemmas_from_text(text_1)\n",
    "\n",
    "ignore_words = lex.get_ignore_words(lemmas_0,lemmas_1)\n",
    "\n",
    "len(ignore_words)"
   ]
  },
  {
   "cell_type": "markdown",
   "id": "08e54064",
   "metadata": {},
   "source": [
    "### Vectorizer"
   ]
  },
  {
   "cell_type": "code",
   "execution_count": 26,
   "id": "3760bef4",
   "metadata": {},
   "outputs": [],
   "source": [
    "from sklearn.feature_extraction.text import TfidfVectorizer"
   ]
  },
  {
   "cell_type": "code",
   "execution_count": 27,
   "id": "d7ae3d8b",
   "metadata": {},
   "outputs": [],
   "source": [
    "vectorizer = TfidfVectorizer(stop_words=ignore_words)\n",
    "#count_vectorizer = CountVectorizer()\n",
    "X = vectorizer.fit_transform(df_recueil['lemmas'])"
   ]
  },
  {
   "cell_type": "code",
   "execution_count": 28,
   "id": "fd1b853b",
   "metadata": {},
   "outputs": [],
   "source": [
    "y = df_recueil['infox']"
   ]
  },
  {
   "cell_type": "code",
   "execution_count": 29,
   "id": "55845334",
   "metadata": {},
   "outputs": [
    {
     "data": {
      "text/plain": [
       "(489, 9289)"
      ]
     },
     "execution_count": 29,
     "metadata": {},
     "output_type": "execute_result"
    }
   ],
   "source": [
    "X.shape"
   ]
  },
  {
   "cell_type": "code",
   "execution_count": 30,
   "id": "0e11424e",
   "metadata": {},
   "outputs": [],
   "source": [
    "X = X.toarray()"
   ]
  },
  {
   "cell_type": "code",
   "execution_count": 31,
   "id": "43a874f3",
   "metadata": {},
   "outputs": [
    {
     "data": {
      "text/plain": [
       "0.0    246\n",
       "1.0    243\n",
       "Name: infox, dtype: int64"
      ]
     },
     "execution_count": 31,
     "metadata": {},
     "output_type": "execute_result"
    }
   ],
   "source": [
    "y.value_counts()"
   ]
  },
  {
   "cell_type": "code",
   "execution_count": 32,
   "id": "d0289a57",
   "metadata": {},
   "outputs": [],
   "source": [
    "y = y.astype(float)"
   ]
  },
  {
   "cell_type": "markdown",
   "id": "00f480cd",
   "metadata": {},
   "source": [
    "### Construction des Datasets d'entrainement et de test"
   ]
  },
  {
   "cell_type": "code",
   "execution_count": 33,
   "id": "a59b4ba8",
   "metadata": {},
   "outputs": [
    {
     "data": {
      "text/plain": [
       "(342, 9289)"
      ]
     },
     "execution_count": 33,
     "metadata": {},
     "output_type": "execute_result"
    }
   ],
   "source": [
    "import sklearn.model_selection\n",
    "\n",
    "#X_train,X_test,y_train,y_test = sklearn.model_selection.train_test_split(X,y,train_size=0.8,shuffle=True)\n",
    "X_train,X_test,y_train,y_test = sklearn.model_selection.train_test_split(X,y,random_state=17,train_size=0.7)\n",
    "\n",
    "X_train.shape"
   ]
  },
  {
   "cell_type": "markdown",
   "id": "8df9935c",
   "metadata": {},
   "source": [
    "### Entrainement du modele"
   ]
  },
  {
   "cell_type": "code",
   "execution_count": 34,
   "id": "a34e9e64",
   "metadata": {},
   "outputs": [
    {
     "data": {
      "text/html": [
       "<style>#sk-container-id-1 {color: black;background-color: white;}#sk-container-id-1 pre{padding: 0;}#sk-container-id-1 div.sk-toggleable {background-color: white;}#sk-container-id-1 label.sk-toggleable__label {cursor: pointer;display: block;width: 100%;margin-bottom: 0;padding: 0.3em;box-sizing: border-box;text-align: center;}#sk-container-id-1 label.sk-toggleable__label-arrow:before {content: \"▸\";float: left;margin-right: 0.25em;color: #696969;}#sk-container-id-1 label.sk-toggleable__label-arrow:hover:before {color: black;}#sk-container-id-1 div.sk-estimator:hover label.sk-toggleable__label-arrow:before {color: black;}#sk-container-id-1 div.sk-toggleable__content {max-height: 0;max-width: 0;overflow: hidden;text-align: left;background-color: #f0f8ff;}#sk-container-id-1 div.sk-toggleable__content pre {margin: 0.2em;color: black;border-radius: 0.25em;background-color: #f0f8ff;}#sk-container-id-1 input.sk-toggleable__control:checked~div.sk-toggleable__content {max-height: 200px;max-width: 100%;overflow: auto;}#sk-container-id-1 input.sk-toggleable__control:checked~label.sk-toggleable__label-arrow:before {content: \"▾\";}#sk-container-id-1 div.sk-estimator input.sk-toggleable__control:checked~label.sk-toggleable__label {background-color: #d4ebff;}#sk-container-id-1 div.sk-label input.sk-toggleable__control:checked~label.sk-toggleable__label {background-color: #d4ebff;}#sk-container-id-1 input.sk-hidden--visually {border: 0;clip: rect(1px 1px 1px 1px);clip: rect(1px, 1px, 1px, 1px);height: 1px;margin: -1px;overflow: hidden;padding: 0;position: absolute;width: 1px;}#sk-container-id-1 div.sk-estimator {font-family: monospace;background-color: #f0f8ff;border: 1px dotted black;border-radius: 0.25em;box-sizing: border-box;margin-bottom: 0.5em;}#sk-container-id-1 div.sk-estimator:hover {background-color: #d4ebff;}#sk-container-id-1 div.sk-parallel-item::after {content: \"\";width: 100%;border-bottom: 1px solid gray;flex-grow: 1;}#sk-container-id-1 div.sk-label:hover label.sk-toggleable__label {background-color: #d4ebff;}#sk-container-id-1 div.sk-serial::before {content: \"\";position: absolute;border-left: 1px solid gray;box-sizing: border-box;top: 0;bottom: 0;left: 50%;z-index: 0;}#sk-container-id-1 div.sk-serial {display: flex;flex-direction: column;align-items: center;background-color: white;padding-right: 0.2em;padding-left: 0.2em;position: relative;}#sk-container-id-1 div.sk-item {position: relative;z-index: 1;}#sk-container-id-1 div.sk-parallel {display: flex;align-items: stretch;justify-content: center;background-color: white;position: relative;}#sk-container-id-1 div.sk-item::before, #sk-container-id-1 div.sk-parallel-item::before {content: \"\";position: absolute;border-left: 1px solid gray;box-sizing: border-box;top: 0;bottom: 0;left: 50%;z-index: -1;}#sk-container-id-1 div.sk-parallel-item {display: flex;flex-direction: column;z-index: 1;position: relative;background-color: white;}#sk-container-id-1 div.sk-parallel-item:first-child::after {align-self: flex-end;width: 50%;}#sk-container-id-1 div.sk-parallel-item:last-child::after {align-self: flex-start;width: 50%;}#sk-container-id-1 div.sk-parallel-item:only-child::after {width: 0;}#sk-container-id-1 div.sk-dashed-wrapped {border: 1px dashed gray;margin: 0 0.4em 0.5em 0.4em;box-sizing: border-box;padding-bottom: 0.4em;background-color: white;}#sk-container-id-1 div.sk-label label {font-family: monospace;font-weight: bold;display: inline-block;line-height: 1.2em;}#sk-container-id-1 div.sk-label-container {text-align: center;}#sk-container-id-1 div.sk-container {/* jupyter's `normalize.less` sets `[hidden] { display: none; }` but bootstrap.min.css set `[hidden] { display: none !important; }` so we also need the `!important` here to be able to override the default hidden behavior on the sphinx rendered scikit-learn.org. See: https://github.com/scikit-learn/scikit-learn/issues/21755 */display: inline-block !important;position: relative;}#sk-container-id-1 div.sk-text-repr-fallback {display: none;}</style><div id=\"sk-container-id-1\" class=\"sk-top-container\"><div class=\"sk-text-repr-fallback\"><pre>LogisticRegression(C=100.0, max_iter=1000, multi_class=&#x27;ovr&#x27;, random_state=42)</pre><b>In a Jupyter environment, please rerun this cell to show the HTML representation or trust the notebook. <br />On GitHub, the HTML representation is unable to render, please try loading this page with nbviewer.org.</b></div><div class=\"sk-container\" hidden><div class=\"sk-item\"><div class=\"sk-estimator sk-toggleable\"><input class=\"sk-toggleable__control sk-hidden--visually\" id=\"sk-estimator-id-1\" type=\"checkbox\" checked><label for=\"sk-estimator-id-1\" class=\"sk-toggleable__label sk-toggleable__label-arrow\">LogisticRegression</label><div class=\"sk-toggleable__content\"><pre>LogisticRegression(C=100.0, max_iter=1000, multi_class=&#x27;ovr&#x27;, random_state=42)</pre></div></div></div></div></div>"
      ],
      "text/plain": [
       "LogisticRegression(C=100.0, max_iter=1000, multi_class='ovr', random_state=42)"
      ]
     },
     "execution_count": 34,
     "metadata": {},
     "output_type": "execute_result"
    }
   ],
   "source": [
    "from sklearn.linear_model import LogisticRegression\n",
    "from sklearn import metrics\n",
    "\n",
    "classifier = LogisticRegression(C=100.0, random_state=42, solver='lbfgs', multi_class='ovr', max_iter=1000)\n",
    "#classifier = LogisticRegression(max_iter=1000)\n",
    "\n",
    "# Fit the model\n",
    "classifier.fit(X_train, y_train)\n"
   ]
  },
  {
   "cell_type": "markdown",
   "id": "bc733066",
   "metadata": {},
   "source": [
    "### Mesure des résultats"
   ]
  },
  {
   "cell_type": "code",
   "execution_count": 35,
   "id": "ffb2c083",
   "metadata": {},
   "outputs": [],
   "source": [
    "y_pred = classifier.predict(X_test)"
   ]
  },
  {
   "cell_type": "code",
   "execution_count": 36,
   "id": "c5a4854d",
   "metadata": {},
   "outputs": [
    {
     "name": "stdout",
     "output_type": "stream",
     "text": [
      "Matrice de confusion\n",
      "[[63 17]\n",
      " [13 54]]\n",
      "Accuracy score 79.59%\n",
      "Recall score 80.60%\n"
     ]
    }
   ],
   "source": [
    "from sklearn import metrics\n",
    "cnf_matrix = metrics.confusion_matrix(y_test, y_pred)\n",
    "print('Matrice de confusion')\n",
    "print(cnf_matrix)\n",
    "print(f'Accuracy score {metrics.accuracy_score(y_test, y_pred)*100:.2f}%')\n",
    "print(f'Recall score {metrics.recall_score(y_test, y_pred)*100:.2f}%')"
   ]
  },
  {
   "cell_type": "markdown",
   "id": "f97170eb",
   "metadata": {},
   "source": [
    "### Cross Validation"
   ]
  },
  {
   "cell_type": "code",
   "execution_count": 41,
   "id": "8f39a618",
   "metadata": {},
   "outputs": [
    {
     "data": {
      "text/plain": [
       "array([0.80487805, 0.87804878, 0.80487805, 0.75609756, 0.92682927,\n",
       "       0.7804878 , 0.85365854, 0.65853659, 0.73170732, 0.775     ,\n",
       "       0.85      , 0.775     ])"
      ]
     },
     "execution_count": 41,
     "metadata": {},
     "output_type": "execute_result"
    }
   ],
   "source": [
    "from sklearn.model_selection import cross_val_score\n",
    "scores = cross_val_score(classifier, X, y, cv=12)\n",
    "scores"
   ]
  },
  {
   "cell_type": "code",
   "execution_count": 42,
   "id": "8771ace7",
   "metadata": {},
   "outputs": [
    {
     "name": "stdout",
     "output_type": "stream",
     "text": [
      "accuracy : 0.80 \n",
      "standard deviation : 0.07\n"
     ]
    }
   ],
   "source": [
    "print(\"accuracy : %0.2f \\nstandard deviation : %0.2f\" % (scores.mean(), scores.std()))"
   ]
  },
  {
   "cell_type": "code",
   "execution_count": 43,
   "id": "ba61e807",
   "metadata": {},
   "outputs": [
    {
     "data": {
      "text/html": [
       "<div>\n",
       "<style scoped>\n",
       "    .dataframe tbody tr th:only-of-type {\n",
       "        vertical-align: middle;\n",
       "    }\n",
       "\n",
       "    .dataframe tbody tr th {\n",
       "        vertical-align: top;\n",
       "    }\n",
       "\n",
       "    .dataframe thead th {\n",
       "        text-align: right;\n",
       "    }\n",
       "</style>\n",
       "<table border=\"1\" class=\"dataframe\">\n",
       "  <thead>\n",
       "    <tr style=\"text-align: right;\">\n",
       "      <th></th>\n",
       "      <th>fit_time</th>\n",
       "      <th>score_time</th>\n",
       "      <th>test_accuracy</th>\n",
       "      <th>test_recall</th>\n",
       "    </tr>\n",
       "  </thead>\n",
       "  <tbody>\n",
       "    <tr>\n",
       "      <th>0</th>\n",
       "      <td>0.174136</td>\n",
       "      <td>0.000691</td>\n",
       "      <td>0.804878</td>\n",
       "      <td>0.900000</td>\n",
       "    </tr>\n",
       "    <tr>\n",
       "      <th>1</th>\n",
       "      <td>0.183455</td>\n",
       "      <td>0.000688</td>\n",
       "      <td>0.878049</td>\n",
       "      <td>0.850000</td>\n",
       "    </tr>\n",
       "    <tr>\n",
       "      <th>2</th>\n",
       "      <td>0.187381</td>\n",
       "      <td>0.000648</td>\n",
       "      <td>0.804878</td>\n",
       "      <td>0.800000</td>\n",
       "    </tr>\n",
       "    <tr>\n",
       "      <th>3</th>\n",
       "      <td>0.201525</td>\n",
       "      <td>0.000690</td>\n",
       "      <td>0.756098</td>\n",
       "      <td>0.850000</td>\n",
       "    </tr>\n",
       "    <tr>\n",
       "      <th>4</th>\n",
       "      <td>0.157928</td>\n",
       "      <td>0.000642</td>\n",
       "      <td>0.926829</td>\n",
       "      <td>0.900000</td>\n",
       "    </tr>\n",
       "    <tr>\n",
       "      <th>5</th>\n",
       "      <td>0.219782</td>\n",
       "      <td>0.007732</td>\n",
       "      <td>0.780488</td>\n",
       "      <td>0.650000</td>\n",
       "    </tr>\n",
       "    <tr>\n",
       "      <th>6</th>\n",
       "      <td>0.309208</td>\n",
       "      <td>0.000659</td>\n",
       "      <td>0.853659</td>\n",
       "      <td>0.761905</td>\n",
       "    </tr>\n",
       "    <tr>\n",
       "      <th>7</th>\n",
       "      <td>0.283839</td>\n",
       "      <td>0.000686</td>\n",
       "      <td>0.658537</td>\n",
       "      <td>0.619048</td>\n",
       "    </tr>\n",
       "    <tr>\n",
       "      <th>8</th>\n",
       "      <td>0.203458</td>\n",
       "      <td>0.000645</td>\n",
       "      <td>0.731707</td>\n",
       "      <td>0.761905</td>\n",
       "    </tr>\n",
       "    <tr>\n",
       "      <th>9</th>\n",
       "      <td>0.143816</td>\n",
       "      <td>0.000648</td>\n",
       "      <td>0.775000</td>\n",
       "      <td>0.950000</td>\n",
       "    </tr>\n",
       "    <tr>\n",
       "      <th>10</th>\n",
       "      <td>0.173928</td>\n",
       "      <td>0.000888</td>\n",
       "      <td>0.850000</td>\n",
       "      <td>0.800000</td>\n",
       "    </tr>\n",
       "    <tr>\n",
       "      <th>11</th>\n",
       "      <td>0.449661</td>\n",
       "      <td>0.009557</td>\n",
       "      <td>0.775000</td>\n",
       "      <td>0.650000</td>\n",
       "    </tr>\n",
       "  </tbody>\n",
       "</table>\n",
       "</div>"
      ],
      "text/plain": [
       "    fit_time  score_time  test_accuracy  test_recall\n",
       "0   0.174136    0.000691       0.804878     0.900000\n",
       "1   0.183455    0.000688       0.878049     0.850000\n",
       "2   0.187381    0.000648       0.804878     0.800000\n",
       "3   0.201525    0.000690       0.756098     0.850000\n",
       "4   0.157928    0.000642       0.926829     0.900000\n",
       "5   0.219782    0.007732       0.780488     0.650000\n",
       "6   0.309208    0.000659       0.853659     0.761905\n",
       "7   0.283839    0.000686       0.658537     0.619048\n",
       "8   0.203458    0.000645       0.731707     0.761905\n",
       "9   0.143816    0.000648       0.775000     0.950000\n",
       "10  0.173928    0.000888       0.850000     0.800000\n",
       "11  0.449661    0.009557       0.775000     0.650000"
      ]
     },
     "execution_count": 43,
     "metadata": {},
     "output_type": "execute_result"
    }
   ],
   "source": [
    "from sklearn.model_selection import cross_validate\n",
    "scores = cross_validate(classifier, X, y, cv=12,scoring=['accuracy','recall'])\n",
    "scores\n",
    "df_scores = pd.DataFrame(scores)\n",
    "df_scores"
   ]
  },
  {
   "cell_type": "code",
   "execution_count": 56,
   "id": "f4fda48e",
   "metadata": {},
   "outputs": [
    {
     "name": "stdout",
     "output_type": "stream",
     "text": [
      "Accuracy : Mean = 0.80 Deviation = 0.07\n",
      "Recall : Mean = 0.79 Deviation = 0.11\n"
     ]
    }
   ],
   "source": [
    "print(f'Accuracy : Mean = {df_scores[\"test_accuracy\"].mean():.2f} \\\n",
    "Deviation = {df_scores[\"test_accuracy\"].std():.2f}')\n",
    "print(f'Recall : Mean = {df_scores[\"test_recall\"].mean():.2f} \\\n",
    "Deviation = {df_scores[\"test_recall\"].std():.2f}')"
   ]
  },
  {
   "cell_type": "markdown",
   "id": "6955bbb8",
   "metadata": {},
   "source": [
    "### Benchmark algos"
   ]
  },
  {
   "cell_type": "code",
   "execution_count": null,
   "id": "f5762ad1",
   "metadata": {},
   "outputs": [],
   "source": [
    "from sklearn.neural_network import MLPClassifier\n",
    "from sklearn.neighbors import KNeighborsClassifier\n",
    "from sklearn.svm import SVC\n",
    "from sklearn.gaussian_process import GaussianProcessClassifier\n",
    "from sklearn.gaussian_process.kernels import RBF\n",
    "from sklearn.tree import DecisionTreeClassifier\n",
    "from sklearn.ensemble import RandomForestClassifier, AdaBoostClassifier\n",
    "from sklearn.naive_bayes import GaussianNB\n",
    "from sklearn.discriminant_analysis import QuadraticDiscriminantAnalysis\n",
    "from sklearn.inspection import DecisionBoundaryDisplay\n",
    "\n",
    "names = [\n",
    "    \"Logistic Regression\",\n",
    "    \"Nearest Neighbors\",\n",
    "    \"Linear SVM\",\n",
    "    \"RBF SVM\",\n",
    "    \"Gaussian Process\",\n",
    "    \"Decision Tree\",\n",
    "    \"Random Forest\",\n",
    "    \"Neural Net\",\n",
    "    \"AdaBoost\",\n",
    "    \"Naive Bayes\",\n",
    "    \"QDA\",\n",
    "]\n",
    "\n",
    "classifiers = [\n",
    "    LogisticRegression(C=100.0, random_state=42, solver='lbfgs', multi_class='ovr', max_iter=1000),\n",
    "    KNeighborsClassifier(3),\n",
    "    SVC(kernel=\"linear\", C=0.025, random_state=42),\n",
    "    SVC(gamma=2, C=1, random_state=42),\n",
    "    GaussianProcessClassifier(1.0 * RBF(1.0), random_state=42),\n",
    "    DecisionTreeClassifier(max_depth=5, random_state=42),\n",
    "    RandomForestClassifier(max_depth=5, n_estimators=10, max_features=1, random_state=42),\n",
    "    MLPClassifier(alpha=1, max_iter=1000, random_state=42),\n",
    "    AdaBoostClassifier(random_state=42),\n",
    "    GaussianNB(),\n",
    "    QuadraticDiscriminantAnalysis(),\n",
    "]\n",
    "\n",
    "results =[]\n",
    "for name, clf in zip(names, classifiers):\n",
    "    clf.fit(X_train, y_train)\n",
    "    y_pred = clf.predict(X_test)\n",
    "    cnf_matrix = metrics.confusion_matrix(y_test, y_pred)\n",
    "    print('------------------------------------')\n",
    "    print(f'Classifier : {name}')\n",
    "    print('Matrice de confusion')\n",
    "    print(cnf_matrix)\n",
    "    acc = metrics.accuracy_score(y_test, y_pred)\n",
    "    print(f'Accuracy score {acc*100:.2f}%')\n",
    "    recall = metrics.recall_score(y_test, y_pred)\n",
    "    print(f'Recall score {recall*100:.2f}%')\n",
    "    results.append({\n",
    "        'Classifier' : name,\n",
    "        'Accuracy' : round(acc*100),\n",
    "        'Recall' : round(recall*100),\n",
    "    })\n",
    "print('------------------------------------')"
   ]
  },
  {
   "cell_type": "code",
   "execution_count": null,
   "id": "bbe5100a",
   "metadata": {},
   "outputs": [],
   "source": [
    "df = pd.DataFrame(results)\n",
    "df = df.sort_values(['Accuracy','Recall'],ascending=False)\n",
    "df"
   ]
  },
  {
   "cell_type": "markdown",
   "id": "99135e2e",
   "metadata": {},
   "source": [
    "### Prédictions sur le corpus"
   ]
  },
  {
   "cell_type": "code",
   "execution_count": null,
   "id": "33eb3dcc",
   "metadata": {},
   "outputs": [],
   "source": [
    "df_pred = df_corpus"
   ]
  },
  {
   "cell_type": "code",
   "execution_count": null,
   "id": "1bd37d3b",
   "metadata": {},
   "outputs": [],
   "source": [
    "%%time\n",
    "X = vectorizer.transform(df_pred['lemmas'])"
   ]
  },
  {
   "cell_type": "code",
   "execution_count": null,
   "id": "042105e1",
   "metadata": {},
   "outputs": [],
   "source": [
    "%%time\n",
    "y = classifier.predict(X)\n",
    "y_proba = classifier.predict_proba(X)[:,1]"
   ]
  },
  {
   "cell_type": "code",
   "execution_count": null,
   "id": "7c037744",
   "metadata": {},
   "outputs": [],
   "source": [
    "df_pred.loc[:,'infox_pred'] = y\n",
    "df_pred.loc[:,'infox_proba'] = y_proba"
   ]
  },
  {
   "cell_type": "code",
   "execution_count": null,
   "id": "362af487",
   "metadata": {},
   "outputs": [],
   "source": [
    "df_pred"
   ]
  },
  {
   "cell_type": "markdown",
   "id": "76996d3a",
   "metadata": {},
   "source": [
    "## Sauvegarde des résultats\n",
    "---"
   ]
  },
  {
   "cell_type": "markdown",
   "id": "e9619e41",
   "metadata": {},
   "source": [
    "### Sauvegarde du prédicteur"
   ]
  },
  {
   "cell_type": "code",
   "execution_count": null,
   "id": "f3bf1372",
   "metadata": {},
   "outputs": [],
   "source": [
    "import pickle\n",
    "def save_predictor(vectorizer,classifier,data='',filename=''):\n",
    "    predictor = {\n",
    "        'vectorizer' : vectorizer,\n",
    "        'classifier' : classifier,\n",
    "        'data' : data\n",
    "    }\n",
    "    if filename == '':\n",
    "        filename = f'data/predictors/{str(int(time.time()))}.pp'\n",
    "    with open(filename, 'wb') as file:\n",
    "        pickle.dump(predictor, file)"
   ]
  },
  {
   "cell_type": "code",
   "execution_count": null,
   "id": "c6fc4750",
   "metadata": {},
   "outputs": [],
   "source": [
    "save_predictor(vectorizer,classifier,filename='221013-InfoxPred.pp')"
   ]
  },
  {
   "cell_type": "code",
   "execution_count": null,
   "id": "03282ae5",
   "metadata": {},
   "outputs": [],
   "source": [
    "df_label_pred = df_pred[['url','infox_proba']].copy()"
   ]
  },
  {
   "cell_type": "code",
   "execution_count": null,
   "id": "e807f3c4",
   "metadata": {},
   "outputs": [],
   "source": [
    "df_label_pred['label']='infox'\n",
    "df_label_pred = df_label_pred.rename(columns={'infox_proba': 'value'})\n",
    "df_label_pred['owner']='221013-InfoxPred'\n",
    "df_label_pred['type']='pred'"
   ]
  },
  {
   "cell_type": "code",
   "execution_count": null,
   "id": "827f60e3",
   "metadata": {},
   "outputs": [],
   "source": [
    "df_label_pred"
   ]
  },
  {
   "cell_type": "code",
   "execution_count": null,
   "id": "4ba2c6e0",
   "metadata": {},
   "outputs": [],
   "source": [
    "label_db.merge_labels(df_label_pred)"
   ]
  },
  {
   "cell_type": "code",
   "execution_count": null,
   "id": "52000c94",
   "metadata": {},
   "outputs": [],
   "source": [
    "label_db.df()"
   ]
  },
  {
   "cell_type": "code",
   "execution_count": null,
   "id": "071a88ec",
   "metadata": {},
   "outputs": [],
   "source": [
    "label_db.save_prod()"
   ]
  },
  {
   "cell_type": "markdown",
   "id": "fb7949bc",
   "metadata": {},
   "source": [
    "## Conclusions\n",
    "---"
   ]
  },
  {
   "cell_type": "markdown",
   "id": "bd06b261",
   "metadata": {},
   "source": [
    "- Production Corpus Labelisé avec prédictions : OK"
   ]
  },
  {
   "cell_type": "markdown",
   "id": "bd360655",
   "metadata": {},
   "source": [
    "## Bricolages\n",
    "---"
   ]
  },
  {
   "cell_type": "code",
   "execution_count": null,
   "id": "39697b37",
   "metadata": {},
   "outputs": [],
   "source": [
    "df_pred"
   ]
  },
  {
   "cell_type": "code",
   "execution_count": null,
   "id": "199d7c76",
   "metadata": {},
   "outputs": [],
   "source": []
  }
 ],
 "metadata": {
  "kernelspec": {
   "display_name": "Python 3 (ipykernel)",
   "language": "python",
   "name": "python3"
  },
  "language_info": {
   "codemirror_mode": {
    "name": "ipython",
    "version": 3
   },
   "file_extension": ".py",
   "mimetype": "text/x-python",
   "name": "python",
   "nbconvert_exporter": "python",
   "pygments_lexer": "ipython3",
   "version": "3.9.13"
  }
 },
 "nbformat": 4,
 "nbformat_minor": 5
}
