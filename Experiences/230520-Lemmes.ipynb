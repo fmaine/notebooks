{
 "cells": [
  {
   "cell_type": "markdown",
   "id": "e3ec4689",
   "metadata": {},
   "source": [
    "# Plateforme Agnostique de Traitement et d'Analyse des Textes\n",
    "### Carnet d'expérimentation\n",
    "---\n",
    "\n",
    "## Sujet : Pipeline classif infox supervisé dataset labels\n",
    "\n",
    "---"
   ]
  },
  {
   "cell_type": "markdown",
   "id": "2601e626",
   "metadata": {},
   "source": [
    "# Observations et environnement\n",
    "---"
   ]
  },
  {
   "cell_type": "code",
   "execution_count": 1,
   "id": "525fef74",
   "metadata": {},
   "outputs": [],
   "source": [
    "random_state = 42"
   ]
  },
  {
   "cell_type": "code",
   "execution_count": 2,
   "id": "5d0de4d7",
   "metadata": {},
   "outputs": [
    {
     "name": "stdout",
     "output_type": "stream",
     "text": [
      "/Volumes/Geek/Work/Patat\n"
     ]
    }
   ],
   "source": [
    "cd ../.."
   ]
  },
  {
   "cell_type": "code",
   "execution_count": 3,
   "id": "32256b0d",
   "metadata": {},
   "outputs": [],
   "source": [
    "import ast\n",
    "import importlib\n",
    "import pandas as pd\n",
    "import seaborn as sns\n",
    "from tqdm.notebook import tqdm\n",
    "tqdm.pandas()"
   ]
  },
  {
   "cell_type": "code",
   "execution_count": 4,
   "id": "f4cc8fc9",
   "metadata": {},
   "outputs": [],
   "source": [
    "import patat.util.pd\n",
    "\n",
    "filename = 'data/prod/230516-OIDS-Label.pickle'\n",
    "\n",
    "df_label = pd.read_pickle(filename)\n",
    "\n",
    "df_label['infox'].isna().sum()\n",
    "\n",
    "df_label = df_label[df_label['infox'].notna()]"
   ]
  },
  {
   "cell_type": "code",
   "execution_count": 5,
   "id": "73feab00",
   "metadata": {},
   "outputs": [
    {
     "data": {
      "text/plain": [
       "0"
      ]
     },
     "execution_count": 5,
     "metadata": {},
     "output_type": "execute_result"
    }
   ],
   "source": [
    "df_label['infox'].isna().sum()"
   ]
  },
  {
   "cell_type": "code",
   "execution_count": 6,
   "id": "5e535748",
   "metadata": {},
   "outputs": [],
   "source": [
    "df_label = df_label[df_label['infox'].notna()]"
   ]
  },
  {
   "cell_type": "code",
   "execution_count": 7,
   "id": "11d454d1",
   "metadata": {},
   "outputs": [],
   "source": [
    "df_label.reset_index(inplace=True)"
   ]
  },
  {
   "cell_type": "markdown",
   "id": "3a02c2c1",
   "metadata": {},
   "source": [
    "# Experience\n",
    "---"
   ]
  },
  {
   "cell_type": "markdown",
   "id": "cf805d4c",
   "metadata": {},
   "source": [
    "# Duplicates"
   ]
  },
  {
   "cell_type": "code",
   "execution_count": 25,
   "id": "fa9f4591",
   "metadata": {},
   "outputs": [
    {
     "data": {
      "text/html": [
       "<div>\n",
       "<style scoped>\n",
       "    .dataframe tbody tr th:only-of-type {\n",
       "        vertical-align: middle;\n",
       "    }\n",
       "\n",
       "    .dataframe tbody tr th {\n",
       "        vertical-align: top;\n",
       "    }\n",
       "\n",
       "    .dataframe thead th {\n",
       "        text-align: right;\n",
       "    }\n",
       "</style>\n",
       "<table border=\"1\" class=\"dataframe\">\n",
       "  <thead>\n",
       "    <tr style=\"text-align: right;\">\n",
       "      <th></th>\n",
       "      <th>level_0</th>\n",
       "      <th>index</th>\n",
       "      <th>url</th>\n",
       "      <th>site</th>\n",
       "      <th>title</th>\n",
       "      <th>article</th>\n",
       "      <th>tags</th>\n",
       "      <th>paragraphs</th>\n",
       "      <th>date_iso</th>\n",
       "      <th>abstract</th>\n",
       "      <th>...</th>\n",
       "      <th>inversion_preuve</th>\n",
       "      <th>denigrement</th>\n",
       "      <th>degre_infox</th>\n",
       "      <th>observateur</th>\n",
       "      <th>source</th>\n",
       "      <th>p_count</th>\n",
       "      <th>text</th>\n",
       "      <th>c_count</th>\n",
       "      <th>p_size</th>\n",
       "      <th>lemma_text</th>\n",
       "    </tr>\n",
       "  </thead>\n",
       "  <tbody>\n",
       "  </tbody>\n",
       "</table>\n",
       "<p>0 rows × 46 columns</p>\n",
       "</div>"
      ],
      "text/plain": [
       "Empty DataFrame\n",
       "Columns: [level_0, index, url, site, title, article, tags, paragraphs, date_iso, abstract, Auteur, author, date, infox, justification infox, entites_nommees, ouverture_esprit, faits, opinions, propos_raportes, sources_citees, fausse_nouvelle, insinuations, exageration, inverifiable, titre_decale, cherry_picking, remarque observatoire, signe, entites_coherentes, qualite_ecriture, intention, scientifique_sulfureux, trop_mots, trop_chiffres, sophisme, inversion_preuve, denigrement, degre_infox, observateur, source, p_count, text, c_count, p_size, lemma_text]\n",
       "Index: []\n",
       "\n",
       "[0 rows x 46 columns]"
      ]
     },
     "execution_count": 25,
     "metadata": {},
     "output_type": "execute_result"
    }
   ],
   "source": [
    "df_label[df_label['url'].duplicated()]"
   ]
  },
  {
   "cell_type": "markdown",
   "id": "ede3f986",
   "metadata": {},
   "source": [
    "# Balance Corpus"
   ]
  },
  {
   "cell_type": "code",
   "execution_count": 27,
   "id": "4ce0e2cc",
   "metadata": {},
   "outputs": [
    {
     "data": {
      "text/plain": [
       "<Axes: xlabel='infox', ylabel='count'>"
      ]
     },
     "execution_count": 27,
     "metadata": {},
     "output_type": "execute_result"
    },
    {
     "data": {
      "image/png": "[encoded data removed]",
      "text/plain": [
       "<Figure size 640x480 with 1 Axes>"
      ]
     },
     "metadata": {},
     "output_type": "display_data"
    }
   ],
   "source": [
    "label_count = df_label['infox'].value_counts()\n",
    "sns.barplot(x=label_count.index, y=label_count)"
   ]
  },
  {
   "cell_type": "code",
   "execution_count": 28,
   "id": "94cedc59",
   "metadata": {},
   "outputs": [
    {
     "data": {
      "text/html": [
       "<div>\n",
       "<style scoped>\n",
       "    .dataframe tbody tr th:only-of-type {\n",
       "        vertical-align: middle;\n",
       "    }\n",
       "\n",
       "    .dataframe tbody tr th {\n",
       "        vertical-align: top;\n",
       "    }\n",
       "\n",
       "    .dataframe thead th {\n",
       "        text-align: right;\n",
       "    }\n",
       "</style>\n",
       "<table border=\"1\" class=\"dataframe\">\n",
       "  <thead>\n",
       "    <tr style=\"text-align: right;\">\n",
       "      <th></th>\n",
       "      <th>level_0</th>\n",
       "      <th>index</th>\n",
       "      <th>url</th>\n",
       "      <th>site</th>\n",
       "      <th>title</th>\n",
       "      <th>article</th>\n",
       "      <th>tags</th>\n",
       "      <th>paragraphs</th>\n",
       "      <th>date_iso</th>\n",
       "      <th>abstract</th>\n",
       "      <th>...</th>\n",
       "      <th>inversion_preuve</th>\n",
       "      <th>denigrement</th>\n",
       "      <th>degre_infox</th>\n",
       "      <th>observateur</th>\n",
       "      <th>source</th>\n",
       "      <th>p_count</th>\n",
       "      <th>text</th>\n",
       "      <th>c_count</th>\n",
       "      <th>p_size</th>\n",
       "      <th>lemma_text</th>\n",
       "    </tr>\n",
       "  </thead>\n",
       "  <tbody>\n",
       "    <tr>\n",
       "      <th>608</th>\n",
       "      <td>609</td>\n",
       "      <td>610</td>\n",
       "      <td>https://www.francesoir.fr/politique-france/gue...</td>\n",
       "      <td>www.francesoir.fr</td>\n",
       "      <td>Guerre en Ukraine: Emmanuel Macron prévient le...</td>\n",
       "      <td>À l’occasion de la cérémonie pour le 78e anniv...</td>\n",
       "      <td>[Accueil, Politique]</td>\n",
       "      <td>[À l’occasion de la cérémonie pour le 78e anni...</td>\n",
       "      <td>2022-08-20T00:00:00</td>\n",
       "      <td></td>\n",
       "      <td>...</td>\n",
       "      <td>0.0</td>\n",
       "      <td>0.0</td>\n",
       "      <td></td>\n",
       "      <td>CN</td>\n",
       "      <td>Recueil</td>\n",
       "      <td>11</td>\n",
       "      <td>Guerre en Ukraine: Emmanuel Macron prévient le...</td>\n",
       "      <td>2629</td>\n",
       "      <td>239.000000</td>\n",
       "      <td>guerre en ukraine emmanuel macron prévenir les...</td>\n",
       "    </tr>\n",
       "    <tr>\n",
       "      <th>709</th>\n",
       "      <td>710</td>\n",
       "      <td>713</td>\n",
       "      <td>https://www.breizh-info.com/2020/10/15/152346/...</td>\n",
       "      <td>www.breizh-info.com</td>\n",
       "      <td>Palmarès du Wildlife Photographer of the Year ...</td>\n",
       "      <td>Les résultats de la 56ème édition du Wildlife ...</td>\n",
       "      <td>[Environnement, animaux, prix, Wildlife Photog...</td>\n",
       "      <td>[Les résultats de la 56ème édition du Wildlife...</td>\n",
       "      <td>2020-10-15T00:00:00</td>\n",
       "      <td></td>\n",
       "      <td>...</td>\n",
       "      <td>NaN</td>\n",
       "      <td>NaN</td>\n",
       "      <td>NaN</td>\n",
       "      <td>NaN</td>\n",
       "      <td>Test2</td>\n",
       "      <td>40</td>\n",
       "      <td>Palmarès du Wildlife Photographer of the Year ...</td>\n",
       "      <td>18519</td>\n",
       "      <td>462.975000</td>\n",
       "      <td>palmarès du wildlife photographer of the year ...</td>\n",
       "    </tr>\n",
       "    <tr>\n",
       "      <th>26</th>\n",
       "      <td>26</td>\n",
       "      <td>26</td>\n",
       "      <td>https://www.mondialisation.ca/colonialisme-ene...</td>\n",
       "      <td>www.mondialisation.ca</td>\n",
       "      <td>Colonialisme énergétique</td>\n",
       "      <td>Visite d’État du président de la République it...</td>\n",
       "      <td>[Moyen-Orient et Afrique du Nord, Guerre USA O...</td>\n",
       "      <td>[Visite d’État du président de la République i...</td>\n",
       "      <td>2022-07-09T00:00:00</td>\n",
       "      <td></td>\n",
       "      <td>...</td>\n",
       "      <td>0.0</td>\n",
       "      <td>NaN</td>\n",
       "      <td></td>\n",
       "      <td>GP</td>\n",
       "      <td>Recueil</td>\n",
       "      <td>8</td>\n",
       "      <td>Colonialisme énergétique\\nVisite d’État du pré...</td>\n",
       "      <td>2794</td>\n",
       "      <td>349.250000</td>\n",
       "      <td>colonialisme énergétique visite état du présid...</td>\n",
       "    </tr>\n",
       "    <tr>\n",
       "      <th>422</th>\n",
       "      <td>423</td>\n",
       "      <td>424</td>\n",
       "      <td>https://www.breizh-info.com/2022/07/25/193461/...</td>\n",
       "      <td>www.breizh-info.com</td>\n",
       "      <td>Tyrannie sanitaire. 450 personnes à la confére...</td>\n",
       "      <td>L’anesthésiste réanimateur Louis Fouché a tenu...</td>\n",
       "      <td>[A La Une, Sociétal, louis fouché, reinfocovid...</td>\n",
       "      <td>[L’anesthésiste réanimateur Louis Fouché a ten...</td>\n",
       "      <td>2022-07-25T00:00:00</td>\n",
       "      <td></td>\n",
       "      <td>...</td>\n",
       "      <td>0.0</td>\n",
       "      <td>NaN</td>\n",
       "      <td></td>\n",
       "      <td>FB</td>\n",
       "      <td>Recueil</td>\n",
       "      <td>4</td>\n",
       "      <td>Tyrannie sanitaire. 450 personnes à la confére...</td>\n",
       "      <td>1047</td>\n",
       "      <td>261.750000</td>\n",
       "      <td>tyrannie sanitaire personne la conférence donn...</td>\n",
       "    </tr>\n",
       "    <tr>\n",
       "      <th>231</th>\n",
       "      <td>231</td>\n",
       "      <td>232</td>\n",
       "      <td>https://www.polemia.com/quelle-politique-migra...</td>\n",
       "      <td>www.polemia.com</td>\n",
       "      <td>Quelle politique migratoire pour la France ? –...</td>\n",
       "      <td>Par André-Victor Robert, haut fonctionnaire ♦ ...</td>\n",
       "      <td>[Accueil, Géopolitique, Afrique, analyse, Andr...</td>\n",
       "      <td>[Facebook, Twitter, LinkedIn, Print Friendly, ...</td>\n",
       "      <td></td>\n",
       "      <td>Par André-Victor Robert, haut fonctionnaire ♦ ...</td>\n",
       "      <td>...</td>\n",
       "      <td>0.0</td>\n",
       "      <td>0.0</td>\n",
       "      <td></td>\n",
       "      <td>FB</td>\n",
       "      <td>Recueil</td>\n",
       "      <td>31</td>\n",
       "      <td>Quelle politique migratoire pour la France ? –...</td>\n",
       "      <td>9123</td>\n",
       "      <td>294.290323</td>\n",
       "      <td>quelle politique migratoire pour la france le ...</td>\n",
       "    </tr>\n",
       "    <tr>\n",
       "      <th>...</th>\n",
       "      <td>...</td>\n",
       "      <td>...</td>\n",
       "      <td>...</td>\n",
       "      <td>...</td>\n",
       "      <td>...</td>\n",
       "      <td>...</td>\n",
       "      <td>...</td>\n",
       "      <td>...</td>\n",
       "      <td>...</td>\n",
       "      <td>...</td>\n",
       "      <td>...</td>\n",
       "      <td>...</td>\n",
       "      <td>...</td>\n",
       "      <td>...</td>\n",
       "      <td>...</td>\n",
       "      <td>...</td>\n",
       "      <td>...</td>\n",
       "      <td>...</td>\n",
       "      <td>...</td>\n",
       "      <td>...</td>\n",
       "      <td>...</td>\n",
       "    </tr>\n",
       "    <tr>\n",
       "      <th>112</th>\n",
       "      <td>112</td>\n",
       "      <td>112</td>\n",
       "      <td>https://lesdeqodeurs.fr/des-scientifiques-de-h...</td>\n",
       "      <td>lesdeqodeurs.fr</td>\n",
       "      <td>Des scientifiques de Harvard et de Johns Hopki...</td>\n",
       "      <td>Article original datant du 31/08/22 par SSRNCO...</td>\n",
       "      <td>[ARNm, COVID, effets secondaires, étude, Harva...</td>\n",
       "      <td>[Les étudiants des universités nord-américaine...</td>\n",
       "      <td>2022-09-23T00:00:00</td>\n",
       "      <td></td>\n",
       "      <td>...</td>\n",
       "      <td>0.0</td>\n",
       "      <td>0.0</td>\n",
       "      <td>1</td>\n",
       "      <td>FB</td>\n",
       "      <td>Recueil</td>\n",
       "      <td>5</td>\n",
       "      <td>Des scientifiques de Harvard et de Johns Hopki...</td>\n",
       "      <td>1803</td>\n",
       "      <td>360.600000</td>\n",
       "      <td>des scientifique de harvard et de johns hopkin...</td>\n",
       "    </tr>\n",
       "    <tr>\n",
       "      <th>157</th>\n",
       "      <td>157</td>\n",
       "      <td>158</td>\n",
       "      <td>https://www.voltairenet.org/article217546.html</td>\n",
       "      <td>www.voltairenet.org</td>\n",
       "      <td>L’armée russe achète des exemplaires d’armemen...</td>\n",
       "      <td>L’achat de deux canons automoteurs CAESAR fran...</td>\n",
       "      <td>[]</td>\n",
       "      <td>[L’achat de deux canons automoteurs CAESAR fra...</td>\n",
       "      <td>1900-01-01T00:00:00</td>\n",
       "      <td></td>\n",
       "      <td>...</td>\n",
       "      <td>1.0</td>\n",
       "      <td>NaN</td>\n",
       "      <td>1</td>\n",
       "      <td>FB</td>\n",
       "      <td>Recueil</td>\n",
       "      <td>3</td>\n",
       "      <td>L’armée russe achète des exemplaires d’armemen...</td>\n",
       "      <td>718</td>\n",
       "      <td>239.333333</td>\n",
       "      <td>armer russe acheter des exemplaire armement de...</td>\n",
       "    </tr>\n",
       "    <tr>\n",
       "      <th>521</th>\n",
       "      <td>522</td>\n",
       "      <td>523</td>\n",
       "      <td>https://lemediaen442.fr/onu-le-premier-ministr...</td>\n",
       "      <td>lemediaen442.fr</td>\n",
       "      <td>ONU – Le Premier ministre de Nouvelle-Zélande ...</td>\n",
       "      <td>L’argument principal de la ministre est que le...</td>\n",
       "      <td>[Politique, Vidéos, censure, jacinda ardern, ONU]</td>\n",
       "      <td>[L’argument principal de la ministre est que l...</td>\n",
       "      <td>2022-09-29T09:56:31+02:00</td>\n",
       "      <td>Le terrible discours de Jacinda Ardern, Premie...</td>\n",
       "      <td>...</td>\n",
       "      <td>0.0</td>\n",
       "      <td>0.0</td>\n",
       "      <td>1</td>\n",
       "      <td>FB</td>\n",
       "      <td>Recueil</td>\n",
       "      <td>7</td>\n",
       "      <td>ONU – Le Premier ministre de Nouvelle-Zélande ...</td>\n",
       "      <td>2420</td>\n",
       "      <td>345.714286</td>\n",
       "      <td>onu le premier ministre de nouveau zélande dem...</td>\n",
       "    </tr>\n",
       "    <tr>\n",
       "      <th>846</th>\n",
       "      <td>848</td>\n",
       "      <td>854</td>\n",
       "      <td>https://www.lelibrepenseur.org/explosion-de-ca...</td>\n",
       "      <td>www.lelibrepenseur.org</td>\n",
       "      <td>Explosion de cas et de décès à Singapour malgr...</td>\n",
       "      <td>Comme vous pouvez le remarquer sur les capture...</td>\n",
       "      <td>[À la une, Santé, Vaccination]</td>\n",
       "      <td>[Comme vous pouvez le remarquer sur les captur...</td>\n",
       "      <td>2021-11-17T00:00:00</td>\n",
       "      <td></td>\n",
       "      <td>...</td>\n",
       "      <td>NaN</td>\n",
       "      <td>NaN</td>\n",
       "      <td>NaN</td>\n",
       "      <td>NaN</td>\n",
       "      <td>Verif</td>\n",
       "      <td>2</td>\n",
       "      <td>Explosion de cas et de décès à Singapour malgr...</td>\n",
       "      <td>1881</td>\n",
       "      <td>940.500000</td>\n",
       "      <td>explosion de cas et de décès singapour malgré ...</td>\n",
       "    </tr>\n",
       "    <tr>\n",
       "      <th>151</th>\n",
       "      <td>151</td>\n",
       "      <td>152</td>\n",
       "      <td>https://lesdeqodeurs.fr/le-president-trump-dec...</td>\n",
       "      <td>lesdeqodeurs.fr</td>\n",
       "      <td>Le président Trump dénonce la corruption de la...</td>\n",
       "      <td>Article original datant du 28/04/22Donald Trum...</td>\n",
       "      <td>[2016, 2020, Barack Obama, CNN, Donald Trump, ...</td>\n",
       "      <td>[Article original datant du 28/04/22, Le prési...</td>\n",
       "      <td>2022-05-01T00:00:00</td>\n",
       "      <td></td>\n",
       "      <td>...</td>\n",
       "      <td>1.0</td>\n",
       "      <td>NaN</td>\n",
       "      <td>1</td>\n",
       "      <td>FB</td>\n",
       "      <td>Recueil</td>\n",
       "      <td>15</td>\n",
       "      <td>Le président Trump dénonce la corruption de la...</td>\n",
       "      <td>4512</td>\n",
       "      <td>300.800000</td>\n",
       "      <td>le présider trump dénoncer la corruption de la...</td>\n",
       "    </tr>\n",
       "  </tbody>\n",
       "</table>\n",
       "<p>742 rows × 46 columns</p>\n",
       "</div>"
      ],
      "text/plain": [
       "     level_0  index                                                url   \n",
       "608      609    610  https://www.francesoir.fr/politique-france/gue...  \\\n",
       "709      710    713  https://www.breizh-info.com/2020/10/15/152346/...   \n",
       "26        26     26  https://www.mondialisation.ca/colonialisme-ene...   \n",
       "422      423    424  https://www.breizh-info.com/2022/07/25/193461/...   \n",
       "231      231    232  https://www.polemia.com/quelle-politique-migra...   \n",
       "..       ...    ...                                                ...   \n",
       "112      112    112  https://lesdeqodeurs.fr/des-scientifiques-de-h...   \n",
       "157      157    158     https://www.voltairenet.org/article217546.html   \n",
       "521      522    523  https://lemediaen442.fr/onu-le-premier-ministr...   \n",
       "846      848    854  https://www.lelibrepenseur.org/explosion-de-ca...   \n",
       "151      151    152  https://lesdeqodeurs.fr/le-president-trump-dec...   \n",
       "\n",
       "                       site   \n",
       "608       www.francesoir.fr  \\\n",
       "709     www.breizh-info.com   \n",
       "26    www.mondialisation.ca   \n",
       "422     www.breizh-info.com   \n",
       "231         www.polemia.com   \n",
       "..                      ...   \n",
       "112         lesdeqodeurs.fr   \n",
       "157     www.voltairenet.org   \n",
       "521         lemediaen442.fr   \n",
       "846  www.lelibrepenseur.org   \n",
       "151         lesdeqodeurs.fr   \n",
       "\n",
       "                                                 title   \n",
       "608  Guerre en Ukraine: Emmanuel Macron prévient le...  \\\n",
       "709  Palmarès du Wildlife Photographer of the Year ...   \n",
       "26                            Colonialisme énergétique   \n",
       "422  Tyrannie sanitaire. 450 personnes à la confére...   \n",
       "231  Quelle politique migratoire pour la France ? –...   \n",
       "..                                                 ...   \n",
       "112  Des scientifiques de Harvard et de Johns Hopki...   \n",
       "157  L’armée russe achète des exemplaires d’armemen...   \n",
       "521  ONU – Le Premier ministre de Nouvelle-Zélande ...   \n",
       "846  Explosion de cas et de décès à Singapour malgr...   \n",
       "151  Le président Trump dénonce la corruption de la...   \n",
       "\n",
       "                                               article   \n",
       "608  À l’occasion de la cérémonie pour le 78e anniv...  \\\n",
       "709  Les résultats de la 56ème édition du Wildlife ...   \n",
       "26   Visite d’État du président de la République it...   \n",
       "422  L’anesthésiste réanimateur Louis Fouché a tenu...   \n",
       "231  Par André-Victor Robert, haut fonctionnaire ♦ ...   \n",
       "..                                                 ...   \n",
       "112  Article original datant du 31/08/22 par SSRNCO...   \n",
       "157  L’achat de deux canons automoteurs CAESAR fran...   \n",
       "521  L’argument principal de la ministre est que le...   \n",
       "846  Comme vous pouvez le remarquer sur les capture...   \n",
       "151  Article original datant du 28/04/22Donald Trum...   \n",
       "\n",
       "                                                  tags   \n",
       "608                               [Accueil, Politique]  \\\n",
       "709  [Environnement, animaux, prix, Wildlife Photog...   \n",
       "26   [Moyen-Orient et Afrique du Nord, Guerre USA O...   \n",
       "422  [A La Une, Sociétal, louis fouché, reinfocovid...   \n",
       "231  [Accueil, Géopolitique, Afrique, analyse, Andr...   \n",
       "..                                                 ...   \n",
       "112  [ARNm, COVID, effets secondaires, étude, Harva...   \n",
       "157                                                 []   \n",
       "521  [Politique, Vidéos, censure, jacinda ardern, ONU]   \n",
       "846                     [À la une, Santé, Vaccination]   \n",
       "151  [2016, 2020, Barack Obama, CNN, Donald Trump, ...   \n",
       "\n",
       "                                            paragraphs   \n",
       "608  [À l’occasion de la cérémonie pour le 78e anni...  \\\n",
       "709  [Les résultats de la 56ème édition du Wildlife...   \n",
       "26   [Visite d’État du président de la République i...   \n",
       "422  [L’anesthésiste réanimateur Louis Fouché a ten...   \n",
       "231  [Facebook, Twitter, LinkedIn, Print Friendly, ...   \n",
       "..                                                 ...   \n",
       "112  [Les étudiants des universités nord-américaine...   \n",
       "157  [L’achat de deux canons automoteurs CAESAR fra...   \n",
       "521  [L’argument principal de la ministre est que l...   \n",
       "846  [Comme vous pouvez le remarquer sur les captur...   \n",
       "151  [Article original datant du 28/04/22, Le prési...   \n",
       "\n",
       "                      date_iso   \n",
       "608        2022-08-20T00:00:00  \\\n",
       "709        2020-10-15T00:00:00   \n",
       "26         2022-07-09T00:00:00   \n",
       "422        2022-07-25T00:00:00   \n",
       "231                              \n",
       "..                         ...   \n",
       "112        2022-09-23T00:00:00   \n",
       "157        1900-01-01T00:00:00   \n",
       "521  2022-09-29T09:56:31+02:00   \n",
       "846        2021-11-17T00:00:00   \n",
       "151        2022-05-01T00:00:00   \n",
       "\n",
       "                                              abstract  ... inversion_preuve   \n",
       "608                                                     ...              0.0  \\\n",
       "709                                                     ...              NaN   \n",
       "26                                                      ...              0.0   \n",
       "422                                                     ...              0.0   \n",
       "231  Par André-Victor Robert, haut fonctionnaire ♦ ...  ...              0.0   \n",
       "..                                                 ...  ...              ...   \n",
       "112                                                     ...              0.0   \n",
       "157                                                     ...              1.0   \n",
       "521  Le terrible discours de Jacinda Ardern, Premie...  ...              0.0   \n",
       "846                                                     ...              NaN   \n",
       "151                                                     ...              1.0   \n",
       "\n",
       "    denigrement degre_infox  observateur   source  p_count   \n",
       "608         0.0                       CN  Recueil       11  \\\n",
       "709         NaN         NaN          NaN    Test2       40   \n",
       "26          NaN                       GP  Recueil        8   \n",
       "422         NaN                       FB  Recueil        4   \n",
       "231         0.0                       FB  Recueil       31   \n",
       "..          ...         ...          ...      ...      ...   \n",
       "112         0.0           1           FB  Recueil        5   \n",
       "157         NaN           1           FB  Recueil        3   \n",
       "521         0.0           1           FB  Recueil        7   \n",
       "846         NaN         NaN          NaN    Verif        2   \n",
       "151         NaN           1           FB  Recueil       15   \n",
       "\n",
       "                                                  text  c_count      p_size   \n",
       "608  Guerre en Ukraine: Emmanuel Macron prévient le...     2629  239.000000  \\\n",
       "709  Palmarès du Wildlife Photographer of the Year ...    18519  462.975000   \n",
       "26   Colonialisme énergétique\\nVisite d’État du pré...     2794  349.250000   \n",
       "422  Tyrannie sanitaire. 450 personnes à la confére...     1047  261.750000   \n",
       "231  Quelle politique migratoire pour la France ? –...     9123  294.290323   \n",
       "..                                                 ...      ...         ...   \n",
       "112  Des scientifiques de Harvard et de Johns Hopki...     1803  360.600000   \n",
       "157  L’armée russe achète des exemplaires d’armemen...      718  239.333333   \n",
       "521  ONU – Le Premier ministre de Nouvelle-Zélande ...     2420  345.714286   \n",
       "846  Explosion de cas et de décès à Singapour malgr...     1881  940.500000   \n",
       "151  Le président Trump dénonce la corruption de la...     4512  300.800000   \n",
       "\n",
       "                                            lemma_text  \n",
       "608  guerre en ukraine emmanuel macron prévenir les...  \n",
       "709  palmarès du wildlife photographer of the year ...  \n",
       "26   colonialisme énergétique visite état du présid...  \n",
       "422  tyrannie sanitaire personne la conférence donn...  \n",
       "231  quelle politique migratoire pour la france le ...  \n",
       "..                                                 ...  \n",
       "112  des scientifique de harvard et de johns hopkin...  \n",
       "157  armer russe acheter des exemplaire armement de...  \n",
       "521  onu le premier ministre de nouveau zélande dem...  \n",
       "846  explosion de cas et de décès singapour malgré ...  \n",
       "151  le présider trump dénoncer la corruption de la...  \n",
       "\n",
       "[742 rows x 46 columns]"
      ]
     },
     "execution_count": 28,
     "metadata": {},
     "output_type": "execute_result"
    }
   ],
   "source": [
    "df_0 = df_label[df_label['infox'] == 0]\n",
    "df_1 = df_label[df_label['infox'] == 1]\n",
    "\n",
    "min_sample = min(len(df_0),len(df_1))\n",
    "\n",
    "\n",
    "df_0=df_0.sample(min_sample,random_state=random_state)\n",
    "df_1=df_1.sample(min_sample,random_state=random_state)\n",
    "df_ml = pd.concat([df_0,df_1])\n",
    "\n",
    "df_ml"
   ]
  },
  {
   "cell_type": "markdown",
   "id": "bc687995",
   "metadata": {},
   "source": [
    "## Ignore Words"
   ]
  },
  {
   "cell_type": "code",
   "execution_count": 29,
   "id": "f752e1b2",
   "metadata": {},
   "outputs": [],
   "source": [
    "import patat.util.text\n",
    "import patat.ml.lex_analyser\n",
    "lex = patat.ml.lex_analyser.LexAnalyser()"
   ]
  },
  {
   "cell_type": "markdown",
   "id": "f0ec27bf",
   "metadata": {},
   "source": [
    "### Lemmas"
   ]
  },
  {
   "cell_type": "code",
   "execution_count": 30,
   "id": "7ade0851",
   "metadata": {},
   "outputs": [],
   "source": [
    "def lemmatize(text):\n",
    "    return ' '.join(lex.get_lemmas_from_text(patat.util.text.preprocess(text)))"
   ]
  },
  {
   "cell_type": "code",
   "execution_count": 31,
   "id": "984e90ee",
   "metadata": {
    "scrolled": true
   },
   "outputs": [
    {
     "data": {
      "application/vnd.jupyter.widget-view+json": {
       "model_id": "a2d1929d83614787a7838ced80f2d112",
       "version_major": 2,
       "version_minor": 0
      },
      "text/plain": [
       "  0%|          | 0/897 [00:00<?, ?it/s]"
      ]
     },
     "metadata": {},
     "output_type": "display_data"
    }
   ],
   "source": [
    "df_label['lemma_text']=df_label['text'].progress_apply(lemmatize)"
   ]
  },
  {
   "cell_type": "code",
   "execution_count": 32,
   "id": "ff5f5703",
   "metadata": {},
   "outputs": [],
   "source": [
    "df_words = lex.get_df_words(texts= df_label['lemma_text'],values = df_label['infox'].astype(int), preprocessor=None, tokenizer= None)\n",
    "### Rare Words\n",
    "for occ_rare in [1,2,3,4,5,6,7]:\n",
    "    df_words['rare_'+str(occ_rare)]=(df_words['count_0']<=occ_rare)&(df_words['count_1']<=occ_rare)\n",
    "### Common words\n",
    "for common_size in [50,80,120,200,500]:\n",
    "    common_0 = df_words.sort_values('count_0',ascending=False).head(common_size).index\n",
    "    common_1 = df_words.sort_values('count_1',ascending=False).head(common_size).index\n",
    "    df_words['common_'+str(common_size)]=(df_words.index.isin(common_0))&(df_words.index.isin(common_1))\n",
    "### Ignore Lemmas\n",
    "ignore_lemmas={\n",
    "    'None' : None,\n",
    "    'small' : list(df_words[df_words['common_80']].index)+list(df_words[df_words['rare_1']].index),\n",
    "    'medium' : list(df_words[df_words['common_80']].index)+list(df_words[df_words['rare_2']].index),\n",
    "    'large' : list(df_words[df_words['common_200']].index)+list(df_words[df_words['rare_5']].index),\n",
    "    'xlarge' : list(df_words[df_words['common_500']].index)+list(df_words[df_words['rare_7']].index),\n",
    "}"
   ]
  },
  {
   "cell_type": "markdown",
   "id": "a0802578",
   "metadata": {},
   "source": [
    "# Entrainement"
   ]
  },
  {
   "cell_type": "code",
   "execution_count": 52,
   "id": "53283aad",
   "metadata": {},
   "outputs": [],
   "source": [
    "df_ml=df_ml.sample(frac=1,random_state=random_state+1)"
   ]
  },
  {
   "cell_type": "code",
   "execution_count": 58,
   "id": "63f0bbd4",
   "metadata": {},
   "outputs": [],
   "source": [
    "from sklearn.feature_extraction.text import CountVectorizer, TfidfVectorizer\n",
    "from sklearn.model_selection import cross_validate, train_test_split\n",
    "from sklearn.linear_model import LogisticRegression\n",
    "from sklearn.neural_network import MLPClassifier\n",
    "from sklearn.naive_bayes import MultinomialNB\n",
    "from sklearn.pipeline import Pipeline"
   ]
  },
  {
   "cell_type": "code",
   "execution_count": 59,
   "id": "9a43bbd4",
   "metadata": {},
   "outputs": [],
   "source": [
    "logreg = LogisticRegression(C=100, random_state=random_state, solver='lbfgs', multi_class='ovr', max_iter=1000)\n",
    "neuralnet = MLPClassifier(alpha=1, hidden_layer_sizes=(8,8), max_iter=2000, random_state=random_state)\n",
    "multi_nb= MultinomialNB(force_alpha=True)"
   ]
  },
  {
   "cell_type": "code",
   "execution_count": 60,
   "id": "d6ac45f9",
   "metadata": {},
   "outputs": [],
   "source": [
    "iw = ignore_lemmas['medium']\n",
    "preprocessor = lemmatize\n",
    "\n",
    "\n",
    "pipelineLR = Pipeline(steps = [\n",
    "    ('vectorizer',TfidfVectorizer(preprocessor=preprocessor, tokenizer=None, stop_words=iw)), \n",
    "    ('classifier',logreg)\n",
    "                  ])\n",
    "\n",
    "pipelineMLPC = Pipeline(steps = [\n",
    "    ('vectorizer',TfidfVectorizer(preprocessor=preprocessor, tokenizer=None, stop_words=iw)), \n",
    "    ('classifier',neuralnet)\n",
    "                  ])\n",
    "pipelineMNB = Pipeline(steps = [\n",
    "    ('vectorizer',TfidfVectorizer(preprocessor=preprocessor, tokenizer=None, stop_words=iw)), \n",
    "    ('classifier',multi_nb)\n",
    "                  ])"
   ]
  },
  {
   "cell_type": "code",
   "execution_count": null,
   "id": "902290cf",
   "metadata": {},
   "outputs": [],
   "source": []
  },
  {
   "cell_type": "code",
   "execution_count": 61,
   "id": "3733efdd",
   "metadata": {},
   "outputs": [
    {
     "data": {
      "text/plain": [
       "fit_time          0.467094\n",
       "score_time        0.292193\n",
       "test_accuracy     0.664400\n",
       "test_f1           0.744644\n",
       "test_recall       0.978378\n",
       "test_precision    0.601184\n",
       "test_roc_auc      0.855936\n",
       "dtype: float64"
      ]
     },
     "execution_count": 61,
     "metadata": {},
     "output_type": "execute_result"
    }
   ],
   "source": [
    "X = df_ml['lemma_text']\n",
    "y = df_ml['infox']\n",
    "\n",
    "#classifier = pipelineMLPC\n",
    "classifier = pipelineMNB\n",
    "scores = cross_validate(classifier, X, y, cv=4,scoring=('accuracy','f1','recall','precision','roc_auc'))\n",
    "df_scores=pd.DataFrame(scores)\n",
    "df_scores.mean()"
   ]
  },
  {
   "cell_type": "markdown",
   "id": "e95ee829",
   "metadata": {},
   "source": [
    "## Entrainement sur tout le dataset"
   ]
  },
  {
   "cell_type": "code",
   "execution_count": 30,
   "id": "78f95e77",
   "metadata": {},
   "outputs": [
    {
     "data": {
      "text/html": [
       "<style>#sk-container-id-1 {color: black;background-color: white;}#sk-container-id-1 pre{padding: 0;}#sk-container-id-1 div.sk-toggleable {background-color: white;}#sk-container-id-1 label.sk-toggleable__label {cursor: pointer;display: block;width: 100%;margin-bottom: 0;padding: 0.3em;box-sizing: border-box;text-align: center;}#sk-container-id-1 label.sk-toggleable__label-arrow:before {content: \"▸\";float: left;margin-right: 0.25em;color: #696969;}#sk-container-id-1 label.sk-toggleable__label-arrow:hover:before {color: black;}#sk-container-id-1 div.sk-estimator:hover label.sk-toggleable__label-arrow:before {color: black;}#sk-container-id-1 div.sk-toggleable__content {max-height: 0;max-width: 0;overflow: hidden;text-align: left;background-color: #f0f8ff;}#sk-container-id-1 div.sk-toggleable__content pre {margin: 0.2em;color: black;border-radius: 0.25em;background-color: #f0f8ff;}#sk-container-id-1 input.sk-toggleable__control:checked~div.sk-toggleable__content {max-height: 200px;max-width: 100%;overflow: auto;}#sk-container-id-1 input.sk-toggleable__control:checked~label.sk-toggleable__label-arrow:before {content: \"▾\";}#sk-container-id-1 div.sk-estimator input.sk-toggleable__control:checked~label.sk-toggleable__label {background-color: #d4ebff;}#sk-container-id-1 div.sk-label input.sk-toggleable__control:checked~label.sk-toggleable__label {background-color: #d4ebff;}#sk-container-id-1 input.sk-hidden--visually {border: 0;clip: rect(1px 1px 1px 1px);clip: rect(1px, 1px, 1px, 1px);height: 1px;margin: -1px;overflow: hidden;padding: 0;position: absolute;width: 1px;}#sk-container-id-1 div.sk-estimator {font-family: monospace;background-color: #f0f8ff;border: 1px dotted black;border-radius: 0.25em;box-sizing: border-box;margin-bottom: 0.5em;}#sk-container-id-1 div.sk-estimator:hover {background-color: #d4ebff;}#sk-container-id-1 div.sk-parallel-item::after {content: \"\";width: 100%;border-bottom: 1px solid gray;flex-grow: 1;}#sk-container-id-1 div.sk-label:hover label.sk-toggleable__label {background-color: #d4ebff;}#sk-container-id-1 div.sk-serial::before {content: \"\";position: absolute;border-left: 1px solid gray;box-sizing: border-box;top: 0;bottom: 0;left: 50%;z-index: 0;}#sk-container-id-1 div.sk-serial {display: flex;flex-direction: column;align-items: center;background-color: white;padding-right: 0.2em;padding-left: 0.2em;position: relative;}#sk-container-id-1 div.sk-item {position: relative;z-index: 1;}#sk-container-id-1 div.sk-parallel {display: flex;align-items: stretch;justify-content: center;background-color: white;position: relative;}#sk-container-id-1 div.sk-item::before, #sk-container-id-1 div.sk-parallel-item::before {content: \"\";position: absolute;border-left: 1px solid gray;box-sizing: border-box;top: 0;bottom: 0;left: 50%;z-index: -1;}#sk-container-id-1 div.sk-parallel-item {display: flex;flex-direction: column;z-index: 1;position: relative;background-color: white;}#sk-container-id-1 div.sk-parallel-item:first-child::after {align-self: flex-end;width: 50%;}#sk-container-id-1 div.sk-parallel-item:last-child::after {align-self: flex-start;width: 50%;}#sk-container-id-1 div.sk-parallel-item:only-child::after {width: 0;}#sk-container-id-1 div.sk-dashed-wrapped {border: 1px dashed gray;margin: 0 0.4em 0.5em 0.4em;box-sizing: border-box;padding-bottom: 0.4em;background-color: white;}#sk-container-id-1 div.sk-label label {font-family: monospace;font-weight: bold;display: inline-block;line-height: 1.2em;}#sk-container-id-1 div.sk-label-container {text-align: center;}#sk-container-id-1 div.sk-container {/* jupyter's `normalize.less` sets `[hidden] { display: none; }` but bootstrap.min.css set `[hidden] { display: none !important; }` so we also need the `!important` here to be able to override the default hidden behavior on the sphinx rendered scikit-learn.org. See: https://github.com/scikit-learn/scikit-learn/issues/21755 */display: inline-block !important;position: relative;}#sk-container-id-1 div.sk-text-repr-fallback {display: none;}</style><div id=\"sk-container-id-1\" class=\"sk-top-container\"><div class=\"sk-text-repr-fallback\"><pre>Pipeline(steps=[(&#x27;vectorizer&#x27;,\n",
       "                 TfidfVectorizer(preprocessor=&lt;function preprocess at 0x17c97b160&gt;,\n",
       "                                 stop_words=[&#x27;de&#x27;, &#x27;la&#x27;, &#x27;le&#x27;, &#x27;et&#x27;, &#x27;les&#x27;,\n",
       "                                             &#x27;des&#x27;, &#x27;en&#x27;, &#x27;un&#x27;, &#x27;est&#x27;, &#x27;que&#x27;,\n",
       "                                             &#x27;du&#x27;, &#x27;une&#x27;, &#x27;être&#x27;, &#x27;avoir&#x27;,\n",
       "                                             &#x27;pour&#x27;, &#x27;qui&#x27;, &#x27;dans&#x27;, &#x27;il&#x27;, &#x27;par&#x27;,\n",
       "                                             &#x27;pas&#x27;, &#x27;sur&#x27;, &#x27;au&#x27;, &#x27;ce&#x27;, &#x27;plaire&#x27;,\n",
       "                                             &#x27;faire&#x27;, &#x27;ne&#x27;, &#x27;qu&#x27;, &#x27;pouvoir&#x27;,\n",
       "                                             &#x27;se&#x27;, &#x27;avec&#x27;, ...])),\n",
       "                (&#x27;classifier&#x27;,\n",
       "                 LogisticRegression(C=5, max_iter=1000, multi_class=&#x27;ovr&#x27;,\n",
       "                                    random_state=42))])</pre><b>In a Jupyter environment, please rerun this cell to show the HTML representation or trust the notebook. <br />On GitHub, the HTML representation is unable to render, please try loading this page with nbviewer.org.</b></div><div class=\"sk-container\" hidden><div class=\"sk-item sk-dashed-wrapped\"><div class=\"sk-label-container\"><div class=\"sk-label sk-toggleable\"><input class=\"sk-toggleable__control sk-hidden--visually\" id=\"sk-estimator-id-1\" type=\"checkbox\" ><label for=\"sk-estimator-id-1\" class=\"sk-toggleable__label sk-toggleable__label-arrow\">Pipeline</label><div class=\"sk-toggleable__content\"><pre>Pipeline(steps=[(&#x27;vectorizer&#x27;,\n",
       "                 TfidfVectorizer(preprocessor=&lt;function preprocess at 0x17c97b160&gt;,\n",
       "                                 stop_words=[&#x27;de&#x27;, &#x27;la&#x27;, &#x27;le&#x27;, &#x27;et&#x27;, &#x27;les&#x27;,\n",
       "                                             &#x27;des&#x27;, &#x27;en&#x27;, &#x27;un&#x27;, &#x27;est&#x27;, &#x27;que&#x27;,\n",
       "                                             &#x27;du&#x27;, &#x27;une&#x27;, &#x27;être&#x27;, &#x27;avoir&#x27;,\n",
       "                                             &#x27;pour&#x27;, &#x27;qui&#x27;, &#x27;dans&#x27;, &#x27;il&#x27;, &#x27;par&#x27;,\n",
       "                                             &#x27;pas&#x27;, &#x27;sur&#x27;, &#x27;au&#x27;, &#x27;ce&#x27;, &#x27;plaire&#x27;,\n",
       "                                             &#x27;faire&#x27;, &#x27;ne&#x27;, &#x27;qu&#x27;, &#x27;pouvoir&#x27;,\n",
       "                                             &#x27;se&#x27;, &#x27;avec&#x27;, ...])),\n",
       "                (&#x27;classifier&#x27;,\n",
       "                 LogisticRegression(C=5, max_iter=1000, multi_class=&#x27;ovr&#x27;,\n",
       "                                    random_state=42))])</pre></div></div></div><div class=\"sk-serial\"><div class=\"sk-item\"><div class=\"sk-estimator sk-toggleable\"><input class=\"sk-toggleable__control sk-hidden--visually\" id=\"sk-estimator-id-2\" type=\"checkbox\" ><label for=\"sk-estimator-id-2\" class=\"sk-toggleable__label sk-toggleable__label-arrow\">TfidfVectorizer</label><div class=\"sk-toggleable__content\"><pre>TfidfVectorizer(preprocessor=&lt;function preprocess at 0x17c97b160&gt;,\n",
       "                stop_words=[&#x27;de&#x27;, &#x27;la&#x27;, &#x27;le&#x27;, &#x27;et&#x27;, &#x27;les&#x27;, &#x27;des&#x27;, &#x27;en&#x27;, &#x27;un&#x27;,\n",
       "                            &#x27;est&#x27;, &#x27;que&#x27;, &#x27;du&#x27;, &#x27;une&#x27;, &#x27;être&#x27;, &#x27;avoir&#x27;, &#x27;pour&#x27;,\n",
       "                            &#x27;qui&#x27;, &#x27;dans&#x27;, &#x27;il&#x27;, &#x27;par&#x27;, &#x27;pas&#x27;, &#x27;sur&#x27;, &#x27;au&#x27;,\n",
       "                            &#x27;ce&#x27;, &#x27;plaire&#x27;, &#x27;faire&#x27;, &#x27;ne&#x27;, &#x27;qu&#x27;, &#x27;pouvoir&#x27;,\n",
       "                            &#x27;se&#x27;, &#x27;avec&#x27;, ...])</pre></div></div></div><div class=\"sk-item\"><div class=\"sk-estimator sk-toggleable\"><input class=\"sk-toggleable__control sk-hidden--visually\" id=\"sk-estimator-id-3\" type=\"checkbox\" ><label for=\"sk-estimator-id-3\" class=\"sk-toggleable__label sk-toggleable__label-arrow\">LogisticRegression</label><div class=\"sk-toggleable__content\"><pre>LogisticRegression(C=5, max_iter=1000, multi_class=&#x27;ovr&#x27;, random_state=42)</pre></div></div></div></div></div></div></div>"
      ],
      "text/plain": [
       "Pipeline(steps=[('vectorizer',\n",
       "                 TfidfVectorizer(preprocessor=<function preprocess at 0x17c97b160>,\n",
       "                                 stop_words=['de', 'la', 'le', 'et', 'les',\n",
       "                                             'des', 'en', 'un', 'est', 'que',\n",
       "                                             'du', 'une', 'être', 'avoir',\n",
       "                                             'pour', 'qui', 'dans', 'il', 'par',\n",
       "                                             'pas', 'sur', 'au', 'ce', 'plaire',\n",
       "                                             'faire', 'ne', 'qu', 'pouvoir',\n",
       "                                             'se', 'avec', ...])),\n",
       "                ('classifier',\n",
       "                 LogisticRegression(C=5, max_iter=1000, multi_class='ovr',\n",
       "                                    random_state=42))])"
      ]
     },
     "execution_count": 30,
     "metadata": {},
     "output_type": "execute_result"
    }
   ],
   "source": [
    "predictor = pipelineLR\n",
    "predictor.fit(df_label['text'], df_label['infox'])"
   ]
  },
  {
   "cell_type": "code",
   "execution_count": 31,
   "id": "d1696fff",
   "metadata": {},
   "outputs": [
    {
     "data": {
      "text/plain": [
       "<seaborn.axisgrid.FacetGrid at 0x2893a2e50>"
      ]
     },
     "execution_count": 31,
     "metadata": {},
     "output_type": "execute_result"
    },
    {
     "data": {
      "image/png": "[encoded data removed]",
      "text/plain": [
       "<Figure size 500x500 with 1 Axes>"
      ]
     },
     "metadata": {},
     "output_type": "display_data"
    }
   ],
   "source": [
    "df_label['predict_infox']=predictor.predict_proba(df_label['text'])[:,1]\n",
    "sns.displot(df_label,x='predict_infox')"
   ]
  },
  {
   "cell_type": "markdown",
   "id": "76996d3a",
   "metadata": {},
   "source": [
    "# Sauvegarde des résultats\n",
    "---"
   ]
  },
  {
   "cell_type": "markdown",
   "id": "fb7949bc",
   "metadata": {},
   "source": [
    "# Conclusions\n",
    "---"
   ]
  },
  {
   "cell_type": "markdown",
   "id": "bd360655",
   "metadata": {},
   "source": [
    "# Bricolages\n",
    "---"
   ]
  },
  {
   "cell_type": "code",
   "execution_count": 25,
   "id": "2e5febd1",
   "metadata": {},
   "outputs": [],
   "source": [
    "import patat.util.file"
   ]
  },
  {
   "cell_type": "code",
   "execution_count": 27,
   "id": "815480d7",
   "metadata": {},
   "outputs": [],
   "source": [
    "patat.util.file.pickle_save(common_200,'data/tmp/common_200.pickle')"
   ]
  },
  {
   "cell_type": "code",
   "execution_count": null,
   "id": "db95eaac",
   "metadata": {},
   "outputs": [],
   "source": []
  }
 ],
 "metadata": {
  "kernelspec": {
   "display_name": "Python 3 (ipykernel)",
   "language": "python",
   "name": "python3"
  },
  "language_info": {
   "codemirror_mode": {
    "name": "ipython",
    "version": 3
   },
   "file_extension": ".py",
   "mimetype": "text/x-python",
   "name": "python",
   "nbconvert_exporter": "python",
   "pygments_lexer": "ipython3",
   "version": "3.9.16"
  }
 },
 "nbformat": 4,
 "nbformat_minor": 5
}
