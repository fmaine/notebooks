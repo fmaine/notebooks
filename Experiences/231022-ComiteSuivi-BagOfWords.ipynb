{
 "cells": [
  {
   "cell_type": "markdown",
   "id": "e3ec4689",
   "metadata": {},
   "source": [
    "# Plateforme Agnostique de Traitement et d'Analyse des Textes\n",
    "### Carnet d'expérimentation\n",
    "---\n",
    "\n",
    "## Sujet : Comité de Suivi - Bag of Words\n",
    "\n",
    "---"
   ]
  },
  {
   "cell_type": "markdown",
   "id": "2601e626",
   "metadata": {},
   "source": [
    "# Observations et environnement\n",
    "---"
   ]
  },
  {
   "cell_type": "markdown",
   "id": "85c0f3b8",
   "metadata": {},
   "source": [
    "## Environnement"
   ]
  },
  {
   "cell_type": "code",
   "execution_count": 1,
   "id": "525fef74",
   "metadata": {},
   "outputs": [],
   "source": [
    "_rs = 42"
   ]
  },
  {
   "cell_type": "code",
   "execution_count": 2,
   "id": "5d0de4d7",
   "metadata": {},
   "outputs": [
    {
     "name": "stdout",
     "output_type": "stream",
     "text": [
      "/Volumes/Geek/Work/Patat\n"
     ]
    }
   ],
   "source": [
    "cd ../.."
   ]
  },
  {
   "cell_type": "code",
   "execution_count": 3,
   "id": "32256b0d",
   "metadata": {},
   "outputs": [],
   "source": [
    "import ast\n",
    "import importlib\n",
    "import pandas as pd\n",
    "import seaborn as sns\n",
    "from tqdm.notebook import tqdm\n",
    "tqdm.pandas()"
   ]
  },
  {
   "cell_type": "markdown",
   "id": "4b0b7201",
   "metadata": {},
   "source": [
    "## Données"
   ]
  },
  {
   "cell_type": "code",
   "execution_count": 4,
   "id": "94420655",
   "metadata": {},
   "outputs": [],
   "source": [
    "import patat.util.file\n",
    "\n",
    "filename = 'data/prod/230517-OIDS-Label.pickle'\n",
    "\n",
    "df_label = patat.util.file.pickle_load(filename)"
   ]
  },
  {
   "cell_type": "code",
   "execution_count": 5,
   "id": "5245cc09",
   "metadata": {},
   "outputs": [],
   "source": [
    "labels = ['infox', 'entites_nommees', 'ouverture_esprit', 'faits', 'opinions',\n",
    "       'propos_raportes', 'sources_citees', 'fausse_nouvelle', 'insinuations',\n",
    "       'exageration', ]"
   ]
  },
  {
   "cell_type": "code",
   "execution_count": 6,
   "id": "07012a8c",
   "metadata": {},
   "outputs": [
    {
     "data": {
      "text/html": [
       "<div>\n",
       "<style scoped>\n",
       "    .dataframe tbody tr th:only-of-type {\n",
       "        vertical-align: middle;\n",
       "    }\n",
       "\n",
       "    .dataframe tbody tr th {\n",
       "        vertical-align: top;\n",
       "    }\n",
       "\n",
       "    .dataframe thead th {\n",
       "        text-align: right;\n",
       "    }\n",
       "</style>\n",
       "<table border=\"1\" class=\"dataframe\">\n",
       "  <thead>\n",
       "    <tr style=\"text-align: right;\">\n",
       "      <th></th>\n",
       "      <th>infox</th>\n",
       "      <th>entites_nommees</th>\n",
       "      <th>ouverture_esprit</th>\n",
       "      <th>faits</th>\n",
       "      <th>opinions</th>\n",
       "      <th>propos_raportes</th>\n",
       "      <th>sources_citees</th>\n",
       "      <th>fausse_nouvelle</th>\n",
       "      <th>insinuations</th>\n",
       "      <th>exageration</th>\n",
       "    </tr>\n",
       "  </thead>\n",
       "  <tbody>\n",
       "    <tr>\n",
       "      <th>count</th>\n",
       "      <td>900.000000</td>\n",
       "      <td>804.000000</td>\n",
       "      <td>803.000000</td>\n",
       "      <td>804.000000</td>\n",
       "      <td>804.000000</td>\n",
       "      <td>803.000000</td>\n",
       "      <td>803.000000</td>\n",
       "      <td>802.000000</td>\n",
       "      <td>802.000000</td>\n",
       "      <td>552.000000</td>\n",
       "    </tr>\n",
       "    <tr>\n",
       "      <th>mean</th>\n",
       "      <td>0.414444</td>\n",
       "      <td>0.618159</td>\n",
       "      <td>0.063512</td>\n",
       "      <td>0.717662</td>\n",
       "      <td>0.547264</td>\n",
       "      <td>0.244085</td>\n",
       "      <td>0.400996</td>\n",
       "      <td>0.152120</td>\n",
       "      <td>0.331671</td>\n",
       "      <td>0.317029</td>\n",
       "    </tr>\n",
       "    <tr>\n",
       "      <th>std</th>\n",
       "      <td>0.492900</td>\n",
       "      <td>0.486140</td>\n",
       "      <td>0.244033</td>\n",
       "      <td>0.450417</td>\n",
       "      <td>0.498071</td>\n",
       "      <td>0.429811</td>\n",
       "      <td>0.490406</td>\n",
       "      <td>0.359361</td>\n",
       "      <td>0.471107</td>\n",
       "      <td>0.465741</td>\n",
       "    </tr>\n",
       "    <tr>\n",
       "      <th>min</th>\n",
       "      <td>0.000000</td>\n",
       "      <td>0.000000</td>\n",
       "      <td>0.000000</td>\n",
       "      <td>0.000000</td>\n",
       "      <td>0.000000</td>\n",
       "      <td>0.000000</td>\n",
       "      <td>0.000000</td>\n",
       "      <td>0.000000</td>\n",
       "      <td>0.000000</td>\n",
       "      <td>0.000000</td>\n",
       "    </tr>\n",
       "    <tr>\n",
       "      <th>25%</th>\n",
       "      <td>0.000000</td>\n",
       "      <td>0.000000</td>\n",
       "      <td>0.000000</td>\n",
       "      <td>0.000000</td>\n",
       "      <td>0.000000</td>\n",
       "      <td>0.000000</td>\n",
       "      <td>0.000000</td>\n",
       "      <td>0.000000</td>\n",
       "      <td>0.000000</td>\n",
       "      <td>0.000000</td>\n",
       "    </tr>\n",
       "    <tr>\n",
       "      <th>50%</th>\n",
       "      <td>0.000000</td>\n",
       "      <td>1.000000</td>\n",
       "      <td>0.000000</td>\n",
       "      <td>1.000000</td>\n",
       "      <td>1.000000</td>\n",
       "      <td>0.000000</td>\n",
       "      <td>0.000000</td>\n",
       "      <td>0.000000</td>\n",
       "      <td>0.000000</td>\n",
       "      <td>0.000000</td>\n",
       "    </tr>\n",
       "    <tr>\n",
       "      <th>75%</th>\n",
       "      <td>1.000000</td>\n",
       "      <td>1.000000</td>\n",
       "      <td>0.000000</td>\n",
       "      <td>1.000000</td>\n",
       "      <td>1.000000</td>\n",
       "      <td>0.000000</td>\n",
       "      <td>1.000000</td>\n",
       "      <td>0.000000</td>\n",
       "      <td>1.000000</td>\n",
       "      <td>1.000000</td>\n",
       "    </tr>\n",
       "    <tr>\n",
       "      <th>max</th>\n",
       "      <td>1.000000</td>\n",
       "      <td>1.000000</td>\n",
       "      <td>1.000000</td>\n",
       "      <td>1.000000</td>\n",
       "      <td>1.000000</td>\n",
       "      <td>1.000000</td>\n",
       "      <td>1.000000</td>\n",
       "      <td>1.000000</td>\n",
       "      <td>1.000000</td>\n",
       "      <td>1.000000</td>\n",
       "    </tr>\n",
       "  </tbody>\n",
       "</table>\n",
       "</div>"
      ],
      "text/plain": [
       "            infox  entites_nommees  ouverture_esprit       faits    opinions   \n",
       "count  900.000000       804.000000        803.000000  804.000000  804.000000  \\\n",
       "mean     0.414444         0.618159          0.063512    0.717662    0.547264   \n",
       "std      0.492900         0.486140          0.244033    0.450417    0.498071   \n",
       "min      0.000000         0.000000          0.000000    0.000000    0.000000   \n",
       "25%      0.000000         0.000000          0.000000    0.000000    0.000000   \n",
       "50%      0.000000         1.000000          0.000000    1.000000    1.000000   \n",
       "75%      1.000000         1.000000          0.000000    1.000000    1.000000   \n",
       "max      1.000000         1.000000          1.000000    1.000000    1.000000   \n",
       "\n",
       "       propos_raportes  sources_citees  fausse_nouvelle  insinuations   \n",
       "count       803.000000      803.000000       802.000000    802.000000  \\\n",
       "mean          0.244085        0.400996         0.152120      0.331671   \n",
       "std           0.429811        0.490406         0.359361      0.471107   \n",
       "min           0.000000        0.000000         0.000000      0.000000   \n",
       "25%           0.000000        0.000000         0.000000      0.000000   \n",
       "50%           0.000000        0.000000         0.000000      0.000000   \n",
       "75%           0.000000        1.000000         0.000000      1.000000   \n",
       "max           1.000000        1.000000         1.000000      1.000000   \n",
       "\n",
       "       exageration  \n",
       "count   552.000000  \n",
       "mean      0.317029  \n",
       "std       0.465741  \n",
       "min       0.000000  \n",
       "25%       0.000000  \n",
       "50%       0.000000  \n",
       "75%       1.000000  \n",
       "max       1.000000  "
      ]
     },
     "execution_count": 6,
     "metadata": {},
     "output_type": "execute_result"
    }
   ],
   "source": [
    "df_label[labels].describe()"
   ]
  },
  {
   "cell_type": "markdown",
   "id": "1b5fbc2c",
   "metadata": {},
   "source": [
    "### Urls duppliquées"
   ]
  },
  {
   "cell_type": "code",
   "execution_count": 7,
   "id": "cd771182",
   "metadata": {},
   "outputs": [
    {
     "data": {
      "text/plain": [
       "0"
      ]
     },
     "execution_count": 7,
     "metadata": {},
     "output_type": "execute_result"
    }
   ],
   "source": [
    "df_label.duplicated(subset='url').sum()"
   ]
  },
  {
   "cell_type": "markdown",
   "id": "5aff2696",
   "metadata": {},
   "source": [
    "### Sites"
   ]
  },
  {
   "cell_type": "code",
   "execution_count": 8,
   "id": "8b1d4b2a",
   "metadata": {},
   "outputs": [
    {
     "data": {
      "text/plain": [
       "site\n",
       "www.francesoir.fr                    169\n",
       "www.francetvinfo.fr                   91\n",
       "www.breizh-info.com                   66\n",
       "www.wikistrike.com                    62\n",
       "lezarceleurs.blogspot.com             58\n",
       "lesmoutonsrebelles.com                47\n",
       "lemediaen442.fr                       32\n",
       "www.profession-gendarme.com           28\n",
       "lesdeqodeurs.fr                       28\n",
       "fr.sott.net                           26\n",
       "www.dreuz.info                        25\n",
       "www.lelibrepenseur.org                23\n",
       "www.polemia.com                       19\n",
       "reseauinternational.net               17\n",
       "actu.fr                               17\n",
       "www.mondialisation.ca                 16\n",
       "www.nouvelordremondial.cc             14\n",
       "lesakerfrancophone.fr                 13\n",
       "www.lesalonbeige.fr                   13\n",
       "www.voltairenet.org                   12\n",
       "lesobservateurs.ch                     9\n",
       "www.anguillesousroche.com              9\n",
       "lecourrier-du-soir.com                 9\n",
       "www.cnews.fr                           9\n",
       "www.preuvesduparanormal.fr             8\n",
       "www.les-crises.fr                      8\n",
       "infodujour.fr                          8\n",
       "www.medias-presse.info                 7\n",
       "fr.novopress.info                      7\n",
       "www.alnas.fr                           7\n",
       "www.bvoltaire.fr                       6\n",
       "ripostelaique.com                      5\n",
       "lalettrepatriote.com                   4\n",
       "theconversation.com                    4\n",
       "lumieresurgaia.com                     4\n",
       "francais.rt.com                        3\n",
       "www.la-petite-souris-normande.com      3\n",
       "www.revue-elements.com                 3\n",
       "www.epochtimes.fr                      2\n",
       "bonsens.info                           2\n",
       "lecourrierdesstrateges.fr              2\n",
       "qactus.fr                              2\n",
       "extime.fr                              2\n",
       "elucid.media                           2\n",
       "www.fdesouche.com                      2\n",
       "planetes360.fr                         1\n",
       "Name: count, dtype: int64"
      ]
     },
     "execution_count": 8,
     "metadata": {},
     "output_type": "execute_result"
    }
   ],
   "source": [
    "df_label.value_counts('site')"
   ]
  },
  {
   "cell_type": "markdown",
   "id": "6b548bc6",
   "metadata": {},
   "source": [
    "# Experience\n",
    "---"
   ]
  },
  {
   "cell_type": "markdown",
   "id": "c52d8756",
   "metadata": {},
   "source": [
    "## Tf Idf Vectorizer"
   ]
  },
  {
   "cell_type": "code",
   "execution_count": 35,
   "id": "c1256880",
   "metadata": {},
   "outputs": [],
   "source": [
    "import re\n",
    "from sklearn.feature_extraction.text import TfidfVectorizer\n",
    "\n",
    "def tokenizer(t):\n",
    "    return re.findall(r'[^\\W\\d][^\\W\\d]+',t)\n",
    "\n",
    "#vectorizer = TfidfVectorizer(stop_words=stopwords, token_pattern=r'[^\\W\\d][^\\W\\d]+')\n",
    "vectorizer = TfidfVectorizer()"
   ]
  },
  {
   "cell_type": "markdown",
   "id": "84a11f5e",
   "metadata": {},
   "source": [
    "## Prédiction liste de labels"
   ]
  },
  {
   "cell_type": "code",
   "execution_count": 21,
   "id": "6c92fd1f",
   "metadata": {},
   "outputs": [],
   "source": [
    "labels = ['infox', 'entites_nommees', 'ouverture_esprit', 'faits', 'opinions',\n",
    "       'propos_raportes', 'sources_citees', 'fausse_nouvelle', 'insinuations',\n",
    "       'exageration', ]"
   ]
  },
  {
   "cell_type": "code",
   "execution_count": 22,
   "id": "e621324d",
   "metadata": {},
   "outputs": [],
   "source": [
    "df_ml = df_label"
   ]
  },
  {
   "cell_type": "code",
   "execution_count": 23,
   "id": "48f4a605",
   "metadata": {},
   "outputs": [],
   "source": [
    "def get_df_ml(label,df_label):\n",
    "    return df_label[df_label[label].notna()]"
   ]
  },
  {
   "cell_type": "code",
   "execution_count": 24,
   "id": "d93cff9c",
   "metadata": {},
   "outputs": [],
   "source": [
    "def get_balanced_df_ml(label,df_label):\n",
    "    df_0 = df_label[df_label[label] == 0]\n",
    "    df_1 = df_label[df_label[label] == 1]\n",
    "    min_sample = min(len(df_0),len(df_1))\n",
    "    df_0=df_0.sample(min_sample,random_state=_rs)\n",
    "    df_1=df_1.sample(min_sample,random_state=_rs)\n",
    "    df_ml = pd.concat([df_0,df_1])\n",
    "    df_ml = df_ml.sample(frac=1,random_state=_rs)\n",
    "    return df_ml"
   ]
  },
  {
   "cell_type": "code",
   "execution_count": 25,
   "id": "52716c8d",
   "metadata": {},
   "outputs": [],
   "source": [
    "import numpy as np\n",
    "from sklearn.linear_model import LogisticRegression\n",
    "from sklearn.model_selection import cross_validate, train_test_split"
   ]
  },
  {
   "cell_type": "code",
   "execution_count": 28,
   "id": "cb677594",
   "metadata": {},
   "outputs": [],
   "source": [
    "def get_scores(label,df_ml):\n",
    "    logreg = LogisticRegression(C=100, random_state=_rs, solver='lbfgs', multi_class='ovr', max_iter=1000)\n",
    "    X = vectorizer.fit_transform(df_ml['text'])\n",
    "    y = df_ml[label]\n",
    "    classifier = logreg\n",
    "    scores = cross_validate(classifier, X, y, cv=4,scoring=('roc_auc','f1','accuracy','precision','recall'))\n",
    "    df_scores=pd.DataFrame(scores)\n",
    "    score_dic = df_scores.mean().to_dict()\n",
    "    score_dic['label']=label\n",
    "    score_dic['n_samples']=len(df_ml)\n",
    "    return score_dic"
   ]
  },
  {
   "cell_type": "code",
   "execution_count": 29,
   "id": "e1f48598",
   "metadata": {},
   "outputs": [
    {
     "name": "stdout",
     "output_type": "stream",
     "text": [
      "Processing infox\n",
      "Processing entites_nommees\n",
      "Processing ouverture_esprit\n",
      "Processing faits\n",
      "Processing opinions\n",
      "Processing propos_raportes\n",
      "Processing sources_citees\n",
      "Processing fausse_nouvelle\n",
      "Processing insinuations\n",
      "Processing exageration\n"
     ]
    }
   ],
   "source": [
    "score_list = []\n",
    "for label in labels:\n",
    "    print(f'Processing {label}')\n",
    "    df_ml = get_balanced_df_ml(label,df_label)\n",
    "    score_list.append(get_scores(label,df_ml))"
   ]
  },
  {
   "cell_type": "code",
   "execution_count": 30,
   "id": "0975c221",
   "metadata": {},
   "outputs": [],
   "source": [
    "df_results = pd.DataFrame(score_list).set_index('label')"
   ]
  },
  {
   "cell_type": "code",
   "execution_count": 31,
   "id": "9108f348",
   "metadata": {},
   "outputs": [],
   "source": [
    "pd.set_option('display.precision',3)"
   ]
  },
  {
   "cell_type": "code",
   "execution_count": 32,
   "id": "8269a77e",
   "metadata": {},
   "outputs": [
    {
     "data": {
      "text/html": [
       "<div>\n",
       "<style scoped>\n",
       "    .dataframe tbody tr th:only-of-type {\n",
       "        vertical-align: middle;\n",
       "    }\n",
       "\n",
       "    .dataframe tbody tr th {\n",
       "        vertical-align: top;\n",
       "    }\n",
       "\n",
       "    .dataframe thead th {\n",
       "        text-align: right;\n",
       "    }\n",
       "</style>\n",
       "<table border=\"1\" class=\"dataframe\">\n",
       "  <thead>\n",
       "    <tr style=\"text-align: right;\">\n",
       "      <th></th>\n",
       "      <th>test_roc_auc</th>\n",
       "      <th>test_f1</th>\n",
       "      <th>test_accuracy</th>\n",
       "      <th>test_precision</th>\n",
       "      <th>test_recall</th>\n",
       "      <th>n_samples</th>\n",
       "    </tr>\n",
       "    <tr>\n",
       "      <th>label</th>\n",
       "      <th></th>\n",
       "      <th></th>\n",
       "      <th></th>\n",
       "      <th></th>\n",
       "      <th></th>\n",
       "      <th></th>\n",
       "    </tr>\n",
       "  </thead>\n",
       "  <tbody>\n",
       "    <tr>\n",
       "      <th>infox</th>\n",
       "      <td>0.853</td>\n",
       "      <td>0.768</td>\n",
       "      <td>0.772</td>\n",
       "      <td>0.782</td>\n",
       "      <td>0.756</td>\n",
       "      <td>746</td>\n",
       "    </tr>\n",
       "    <tr>\n",
       "      <th>entites_nommees</th>\n",
       "      <td>0.751</td>\n",
       "      <td>0.699</td>\n",
       "      <td>0.708</td>\n",
       "      <td>0.727</td>\n",
       "      <td>0.677</td>\n",
       "      <td>614</td>\n",
       "    </tr>\n",
       "    <tr>\n",
       "      <th>ouverture_esprit</th>\n",
       "      <td>0.555</td>\n",
       "      <td>0.435</td>\n",
       "      <td>0.480</td>\n",
       "      <td>0.470</td>\n",
       "      <td>0.410</td>\n",
       "      <td>102</td>\n",
       "    </tr>\n",
       "    <tr>\n",
       "      <th>faits</th>\n",
       "      <td>0.668</td>\n",
       "      <td>0.618</td>\n",
       "      <td>0.619</td>\n",
       "      <td>0.620</td>\n",
       "      <td>0.617</td>\n",
       "      <td>454</td>\n",
       "    </tr>\n",
       "    <tr>\n",
       "      <th>opinions</th>\n",
       "      <td>0.757</td>\n",
       "      <td>0.683</td>\n",
       "      <td>0.692</td>\n",
       "      <td>0.706</td>\n",
       "      <td>0.662</td>\n",
       "      <td>728</td>\n",
       "    </tr>\n",
       "    <tr>\n",
       "      <th>propos_raportes</th>\n",
       "      <td>0.615</td>\n",
       "      <td>0.574</td>\n",
       "      <td>0.584</td>\n",
       "      <td>0.591</td>\n",
       "      <td>0.561</td>\n",
       "      <td>392</td>\n",
       "    </tr>\n",
       "    <tr>\n",
       "      <th>sources_citees</th>\n",
       "      <td>0.614</td>\n",
       "      <td>0.564</td>\n",
       "      <td>0.570</td>\n",
       "      <td>0.574</td>\n",
       "      <td>0.556</td>\n",
       "      <td>644</td>\n",
       "    </tr>\n",
       "    <tr>\n",
       "      <th>fausse_nouvelle</th>\n",
       "      <td>0.663</td>\n",
       "      <td>0.669</td>\n",
       "      <td>0.660</td>\n",
       "      <td>0.652</td>\n",
       "      <td>0.688</td>\n",
       "      <td>244</td>\n",
       "    </tr>\n",
       "    <tr>\n",
       "      <th>insinuations</th>\n",
       "      <td>0.772</td>\n",
       "      <td>0.698</td>\n",
       "      <td>0.703</td>\n",
       "      <td>0.708</td>\n",
       "      <td>0.691</td>\n",
       "      <td>532</td>\n",
       "    </tr>\n",
       "    <tr>\n",
       "      <th>exageration</th>\n",
       "      <td>0.754</td>\n",
       "      <td>0.659</td>\n",
       "      <td>0.671</td>\n",
       "      <td>0.684</td>\n",
       "      <td>0.647</td>\n",
       "      <td>350</td>\n",
       "    </tr>\n",
       "  </tbody>\n",
       "</table>\n",
       "</div>"
      ],
      "text/plain": [
       "                  test_roc_auc  test_f1  test_accuracy  test_precision   \n",
       "label                                                                    \n",
       "infox                    0.853    0.768          0.772           0.782  \\\n",
       "entites_nommees          0.751    0.699          0.708           0.727   \n",
       "ouverture_esprit         0.555    0.435          0.480           0.470   \n",
       "faits                    0.668    0.618          0.619           0.620   \n",
       "opinions                 0.757    0.683          0.692           0.706   \n",
       "propos_raportes          0.615    0.574          0.584           0.591   \n",
       "sources_citees           0.614    0.564          0.570           0.574   \n",
       "fausse_nouvelle          0.663    0.669          0.660           0.652   \n",
       "insinuations             0.772    0.698          0.703           0.708   \n",
       "exageration              0.754    0.659          0.671           0.684   \n",
       "\n",
       "                  test_recall  n_samples  \n",
       "label                                     \n",
       "infox                   0.756        746  \n",
       "entites_nommees         0.677        614  \n",
       "ouverture_esprit        0.410        102  \n",
       "faits                   0.617        454  \n",
       "opinions                0.662        728  \n",
       "propos_raportes         0.561        392  \n",
       "sources_citees          0.556        644  \n",
       "fausse_nouvelle         0.688        244  \n",
       "insinuations            0.691        532  \n",
       "exageration             0.647        350  "
      ]
     },
     "execution_count": 32,
     "metadata": {},
     "output_type": "execute_result"
    }
   ],
   "source": [
    "df_results.drop(columns=['fit_time','score_time'])"
   ]
  },
  {
   "cell_type": "code",
   "execution_count": 33,
   "id": "45eeea18",
   "metadata": {},
   "outputs": [
    {
     "name": "stderr",
     "output_type": "stream",
     "text": [
      "/var/folders/fr/mhrqmk5n1xs49b7jl3tgs2r00000gn/T/ipykernel_7708/1380019141.py:2: UserWarning: FixedFormatter should only be used together with FixedLocator\n",
      "  plot.set_xticklabels(plot.get_xticklabels(), rotation=90)\n"
     ]
    },
    {
     "data": {
      "text/plain": [
       "[Text(0, 0, 'infox'),\n",
       " Text(1, 0, 'entites_nommees'),\n",
       " Text(2, 0, 'ouverture_esprit'),\n",
       " Text(3, 0, 'faits'),\n",
       " Text(4, 0, 'opinions'),\n",
       " Text(5, 0, 'propos_raportes'),\n",
       " Text(6, 0, 'sources_citees'),\n",
       " Text(7, 0, 'fausse_nouvelle'),\n",
       " Text(8, 0, 'insinuations'),\n",
       " Text(9, 0, 'exageration')]"
      ]
     },
     "execution_count": 33,
     "metadata": {},
     "output_type": "execute_result"
    },
    {
     "data": {
      "image/png": "[encoded data removed]",
      "text/plain": [
       "<Figure size 640x480 with 1 Axes>"
      ]
     },
     "metadata": {},
     "output_type": "display_data"
    }
   ],
   "source": [
    "plot = sns.scatterplot(df_results[['test_accuracy','test_f1']])\n",
    "plot.set_xticklabels(plot.get_xticklabels(), rotation=90)"
   ]
  },
  {
   "cell_type": "code",
   "execution_count": 34,
   "id": "c13e71b7",
   "metadata": {},
   "outputs": [
    {
     "name": "stderr",
     "output_type": "stream",
     "text": [
      "/var/folders/fr/mhrqmk5n1xs49b7jl3tgs2r00000gn/T/ipykernel_7708/617114656.py:2: UserWarning: FixedFormatter should only be used together with FixedLocator\n",
      "  plot.set_xticklabels(plot.get_xticklabels(), rotation=90)\n"
     ]
    },
    {
     "data": {
      "text/plain": [
       "[Text(0, 0, 'infox'),\n",
       " Text(1, 0, 'entites_nommees'),\n",
       " Text(2, 0, 'ouverture_esprit'),\n",
       " Text(3, 0, 'faits'),\n",
       " Text(4, 0, 'opinions'),\n",
       " Text(5, 0, 'propos_raportes'),\n",
       " Text(6, 0, 'sources_citees'),\n",
       " Text(7, 0, 'fausse_nouvelle'),\n",
       " Text(8, 0, 'insinuations'),\n",
       " Text(9, 0, 'exageration')]"
      ]
     },
     "execution_count": 34,
     "metadata": {},
     "output_type": "execute_result"
    },
    {
     "data": {
      "image/png": "[encoded data removed]",
      "text/plain": [
       "<Figure size 640x480 with 1 Axes>"
      ]
     },
     "metadata": {},
     "output_type": "display_data"
    }
   ],
   "source": [
    "plot = sns.scatterplot(df_results[['test_precision','test_recall']])\n",
    "plot.set_xticklabels(plot.get_xticklabels(), rotation=90)"
   ]
  },
  {
   "cell_type": "markdown",
   "id": "76996d3a",
   "metadata": {},
   "source": [
    "# Sauvegarde des résultats\n",
    "---"
   ]
  },
  {
   "cell_type": "code",
   "execution_count": null,
   "id": "b9dd7c9f",
   "metadata": {},
   "outputs": [],
   "source": []
  },
  {
   "cell_type": "code",
   "execution_count": null,
   "id": "f39f8729",
   "metadata": {},
   "outputs": [],
   "source": []
  },
  {
   "cell_type": "markdown",
   "id": "fb7949bc",
   "metadata": {},
   "source": [
    "# Conclusions\n",
    "---"
   ]
  },
  {
   "cell_type": "markdown",
   "id": "bd360655",
   "metadata": {},
   "source": [
    "# Bricolages\n",
    "---"
   ]
  },
  {
   "cell_type": "code",
   "execution_count": null,
   "id": "f9862890",
   "metadata": {},
   "outputs": [],
   "source": []
  }
 ],
 "metadata": {
  "kernelspec": {
   "display_name": "Python 3 (ipykernel)",
   "language": "python",
   "name": "python3"
  },
  "language_info": {
   "codemirror_mode": {
    "name": "ipython",
    "version": 3
   },
   "file_extension": ".py",
   "mimetype": "text/x-python",
   "name": "python",
   "nbconvert_exporter": "python",
   "pygments_lexer": "ipython3",
   "version": "3.10.11"
  }
 },
 "nbformat": 4,
 "nbformat_minor": 5
}
