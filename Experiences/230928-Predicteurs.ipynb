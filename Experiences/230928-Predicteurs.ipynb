{
 "cells": [
  {
   "cell_type": "markdown",
   "id": "e3ec4689",
   "metadata": {},
   "source": [
    "# Plateforme Agnostique de Traitement et d'Analyse des Textes\n",
    "### Carnet d'expérimentation\n",
    "---\n",
    "\n",
    "## Sujet : Explainability\n",
    "\n",
    "\n",
    "---"
   ]
  },
  {
   "cell_type": "markdown",
   "id": "2601e626",
   "metadata": {},
   "source": [
    "# Initialisations\n",
    "---"
   ]
  },
  {
   "cell_type": "code",
   "execution_count": 1,
   "id": "525fef74",
   "metadata": {},
   "outputs": [],
   "source": [
    "_rs = 42"
   ]
  },
  {
   "cell_type": "code",
   "execution_count": 2,
   "id": "5d0de4d7",
   "metadata": {},
   "outputs": [
    {
     "name": "stdout",
     "output_type": "stream",
     "text": [
      "/Volumes/Geek/Work/Patat\n"
     ]
    }
   ],
   "source": [
    "cd ../.."
   ]
  },
  {
   "cell_type": "code",
   "execution_count": 3,
   "id": "32256b0d",
   "metadata": {},
   "outputs": [],
   "source": [
    "import ast\n",
    "import importlib\n",
    "import pandas as pd\n",
    "import seaborn as sns\n",
    "from tqdm.notebook import tqdm\n",
    "tqdm.pandas()"
   ]
  },
  {
   "cell_type": "markdown",
   "id": "b9b13f54",
   "metadata": {},
   "source": [
    "# Préparation Données\n",
    "\n",
    "---"
   ]
  },
  {
   "cell_type": "markdown",
   "id": "18533365",
   "metadata": {},
   "source": [
    "## Chargement"
   ]
  },
  {
   "cell_type": "code",
   "execution_count": 4,
   "id": "b435d360",
   "metadata": {},
   "outputs": [],
   "source": [
    "import patat.util.file\n",
    "\n",
    "filename = 'data/prod/230517-OIDS-Label.pickle'\n",
    "\n",
    "df_label = patat.util.file.pickle_load(filename)"
   ]
  },
  {
   "cell_type": "code",
   "execution_count": 5,
   "id": "c3b80ef4",
   "metadata": {},
   "outputs": [
    {
     "data": {
      "text/plain": [
       "Index(['url', 'site', 'title', 'article', 'tags', 'paragraphs', 'date_iso',\n",
       "       'abstract', 'Auteur', 'author', 'date', 'infox', 'justification infox',\n",
       "       'entites_nommees', 'ouverture_esprit', 'faits', 'opinions',\n",
       "       'propos_raportes', 'sources_citees', 'fausse_nouvelle', 'insinuations',\n",
       "       'exageration', 'inverifiable', 'titre_decale', 'cherry_picking',\n",
       "       'remarque observatoire', 'signe', 'entites_coherentes',\n",
       "       'qualite_ecriture', 'intention', 'scientifique_sulfureux', 'trop_mots',\n",
       "       'trop_chiffres', 'sophisme', 'inversion_preuve', 'denigrement',\n",
       "       'degre_infox', 'observateur', 'source', 'p_count', 'text', 'c_count',\n",
       "       'p_size', 'url_h'],\n",
       "      dtype='object')"
      ]
     },
     "execution_count": 5,
     "metadata": {},
     "output_type": "execute_result"
    }
   ],
   "source": [
    "df_label.columns"
   ]
  },
  {
   "cell_type": "code",
   "execution_count": 6,
   "id": "ce064a23",
   "metadata": {},
   "outputs": [],
   "source": [
    "labels = ['infox',\n",
    "       'justification infox', 'entites_nommees', 'ouverture_esprit', 'faits',\n",
    "       'opinions', 'propos_raportes', 'sources_citees', 'fausse_nouvelle',\n",
    "       'insinuations', 'exageration', 'inverifiable', 'titre_decale',\n",
    "       'signe',\n",
    "       'entites_coherentes', 'qualite_ecriture', 'intention',\n",
    "       'scientifique_sulfureux', 'trop_mots', 'trop_chiffres', 'sophisme',\n",
    "       'inversion_preuve']"
   ]
  },
  {
   "cell_type": "code",
   "execution_count": 7,
   "id": "552bae55",
   "metadata": {},
   "outputs": [],
   "source": [
    "selected_labels = ['infox','opinions','exageration','insinuations']"
   ]
  },
  {
   "cell_type": "code",
   "execution_count": 8,
   "id": "caca5ce1",
   "metadata": {},
   "outputs": [],
   "source": [
    "stopwords = patat.util.file.pickle_load('data/tmp/stopwords.pickle')"
   ]
  },
  {
   "cell_type": "markdown",
   "id": "394eb154",
   "metadata": {},
   "source": [
    "## Labels ou textes Nuls"
   ]
  },
  {
   "cell_type": "code",
   "execution_count": null,
   "id": "62f6f1ca",
   "metadata": {},
   "outputs": [],
   "source": [
    "df_label['text'].isna().sum()"
   ]
  },
  {
   "cell_type": "code",
   "execution_count": null,
   "id": "73feab00",
   "metadata": {},
   "outputs": [],
   "source": [
    "for label in selected_labels:\n",
    "    print(f'{label} : {df_label[label].isna().sum()}')"
   ]
  },
  {
   "cell_type": "markdown",
   "id": "06e71e98",
   "metadata": {},
   "source": [
    "## Données dupliquées"
   ]
  },
  {
   "cell_type": "code",
   "execution_count": null,
   "id": "bc6b9499",
   "metadata": {},
   "outputs": [],
   "source": [
    "df_label.duplicated(subset='text').sum()"
   ]
  },
  {
   "cell_type": "code",
   "execution_count": null,
   "id": "d8c481ad",
   "metadata": {
    "scrolled": true
   },
   "outputs": [],
   "source": [
    "df_label.duplicated(subset='url').sum()"
   ]
  },
  {
   "cell_type": "markdown",
   "id": "418e89ed",
   "metadata": {},
   "source": [
    "# Experience\n",
    "---"
   ]
  },
  {
   "cell_type": "markdown",
   "id": "03e56e6c",
   "metadata": {},
   "source": [
    "## Equilibrage Dataset"
   ]
  },
  {
   "cell_type": "code",
   "execution_count": null,
   "id": "38c59b58",
   "metadata": {},
   "outputs": [],
   "source": [
    "label_count = df_label['infox'].value_counts()\n",
    "sns.barplot(x=label_count.index, y=label_count)"
   ]
  },
  {
   "cell_type": "code",
   "execution_count": null,
   "id": "babd8a09",
   "metadata": {},
   "outputs": [],
   "source": [
    "df_0 = df_label[df_label['infox'] == 0]\n",
    "df_1 = df_label[df_label['infox'] == 1]\n",
    "\n",
    "min_sample = min(len(df_0),len(df_1))\n",
    "\n",
    "\n",
    "df_0=df_0.sample(min_sample,random_state=_rs)\n",
    "df_1=df_1.sample(min_sample,random_state=_rs)\n",
    "df_ml = pd.concat([df_0,df_1])[['text','infox']]\n",
    "\n",
    "df_ml"
   ]
  },
  {
   "cell_type": "code",
   "execution_count": null,
   "id": "c735944d",
   "metadata": {},
   "outputs": [],
   "source": [
    "print(df_ml['text'][15])"
   ]
  },
  {
   "cell_type": "code",
   "execution_count": null,
   "id": "5914114d",
   "metadata": {},
   "outputs": [],
   "source": [
    "df_ml = df_label"
   ]
  },
  {
   "cell_type": "markdown",
   "id": "04014933",
   "metadata": {},
   "source": [
    "# Experience\n",
    "---"
   ]
  },
  {
   "cell_type": "markdown",
   "id": "36585108",
   "metadata": {},
   "source": [
    "## Expérience de cross validation pour mesurer la performance des modeles\n",
    "\n",
    "\n",
    "`scores = cross_validate(classifier, X, y, cv=5, scoring = metriques)`\n",
    "\n",
    "- `classifier` : Classifier\n",
    "- `X` : Features\n",
    "- `y` : Label cible\n",
    "- `cv` : Nombre de cycle d'entrainement/test\n",
    "- `scoring` : Métriques\n",
    "\n",
    "\n",
    "\n"
   ]
  },
  {
   "cell_type": "code",
   "execution_count": null,
   "id": "b4bb2d5f",
   "metadata": {},
   "outputs": [],
   "source": [
    "cv=5\n",
    "y = df_ml['infox']"
   ]
  },
  {
   "cell_type": "markdown",
   "id": "71bf729b",
   "metadata": {},
   "source": [
    "## Tfidf \n",
    "Features : `X_tfidf`"
   ]
  },
  {
   "cell_type": "code",
   "execution_count": null,
   "id": "060b186e",
   "metadata": {},
   "outputs": [],
   "source": [
    "import re\n",
    "from sklearn.feature_extraction.text import TfidfVectorizer"
   ]
  },
  {
   "cell_type": "code",
   "execution_count": null,
   "id": "713af23e",
   "metadata": {},
   "outputs": [],
   "source": [
    "def tokenizer(t):\n",
    "    return re.findall(r'[^\\W\\d][^\\W\\d]+',t)"
   ]
  },
  {
   "cell_type": "code",
   "execution_count": null,
   "id": "eba70992",
   "metadata": {},
   "outputs": [],
   "source": [
    "#vectorizer = TfidfVectorizer(stop_words=stopwords, token_pattern=r'[^\\W\\d][^\\W\\d]+')\n",
    "vectorizer = TfidfVectorizer(stop_words=stopwords)"
   ]
  },
  {
   "cell_type": "code",
   "execution_count": null,
   "id": "6ed7bf8c",
   "metadata": {},
   "outputs": [],
   "source": [
    "X_tfidf = vectorizer.fit_transform(df_ml['text'])"
   ]
  },
  {
   "cell_type": "markdown",
   "id": "7c28c68b",
   "metadata": {},
   "source": [
    "## SKLearn Logistic Regression"
   ]
  },
  {
   "cell_type": "code",
   "execution_count": null,
   "id": "22c6c950",
   "metadata": {},
   "outputs": [],
   "source": [
    "from sklearn.model_selection import cross_validate\n",
    "from sklearn.linear_model import LogisticRegression\n",
    "from sklearn import metrics"
   ]
  },
  {
   "cell_type": "code",
   "execution_count": null,
   "id": "ffcae336",
   "metadata": {},
   "outputs": [],
   "source": [
    "logreg = LogisticRegression(C=150, random_state=_rs, solver='lbfgs', multi_class='ovr', max_iter=1000)"
   ]
  },
  {
   "cell_type": "code",
   "execution_count": null,
   "id": "c5802189",
   "metadata": {},
   "outputs": [],
   "source": [
    "#svd = TruncatedSVD(n_components=500, n_iter=7, random_state=42)\n",
    "#X = svd.fit_transform(X_tfidf)\n",
    "X = X_tfidf"
   ]
  },
  {
   "cell_type": "code",
   "execution_count": null,
   "id": "46996ac8",
   "metadata": {},
   "outputs": [],
   "source": []
  },
  {
   "cell_type": "code",
   "execution_count": null,
   "id": "8bcf6b36",
   "metadata": {},
   "outputs": [],
   "source": [
    "pd.set_option('display.precision',4)"
   ]
  },
  {
   "cell_type": "code",
   "execution_count": null,
   "id": "bb4f28cb",
   "metadata": {},
   "outputs": [],
   "source": [
    "df_results = []\n",
    "for label in selected_labels:\n",
    "    print(f'Processing : {label}')\n",
    "    y = df_ml[label]\n",
    "    y_label = y[y.notna()]\n",
    "    X_label = X[y_label.index]\n",
    "    scores = cross_validate(logreg, X_label, y_label, cv=cv,\n",
    "                        scoring=('accuracy','f1','recall','roc_auc'))    \n",
    "    df_scores=pd.DataFrame(scores)\n",
    "    df_means = pd.DataFrame(df_scores.describe().loc['mean'],columns=[label])\n",
    "    #df_results = df_results.append(df_means)\n",
    "    print(df_scores)\n",
    "pd.concat(df_results)"
   ]
  },
  {
   "cell_type": "code",
   "execution_count": null,
   "id": "fed0b0eb",
   "metadata": {},
   "outputs": [],
   "source": [
    "df_scores.describe().loc['mean']"
   ]
  },
  {
   "cell_type": "code",
   "execution_count": null,
   "id": "732a7946",
   "metadata": {},
   "outputs": [],
   "source": [
    "pd.DataFrame(df_scores.describe().loc['mean']).rename_axis(columns={'mean':})"
   ]
  },
  {
   "cell_type": "code",
   "execution_count": null,
   "id": "5ef77ec1",
   "metadata": {},
   "outputs": [],
   "source": [
    "df_scores=pd.DataFrame(scores)\n",
    "#df_means = pd.DataFrame(df_scores.describe().loc[['mean','std']])\n",
    "df_means = pd.DataFrame(df_scores.describe().loc['mean'])\n",
    "\n",
    "pd.set_option('display.precision',4)\n",
    "df_results = df_means\n",
    "df_results"
   ]
  },
  {
   "cell_type": "code",
   "execution_count": null,
   "id": "c06cd973",
   "metadata": {},
   "outputs": [],
   "source": []
  },
  {
   "cell_type": "code",
   "execution_count": null,
   "id": "4f21c869",
   "metadata": {},
   "outputs": [],
   "source": [
    "from matplotlib import pyplot as plt\n",
    "import seaborn as sns\n",
    "plt.figure(figsize=(8,6))\n",
    "ax = sns.barplot(df_results.T)"
   ]
  },
  {
   "cell_type": "code",
   "execution_count": null,
   "id": "ff8ad38c",
   "metadata": {},
   "outputs": [],
   "source": [
    "from matplotlib import pyplot as plt\n",
    "import seaborn as sns\n",
    "plt.figure(figsize=(8,6))\n",
    "ax = sns.catplot(df_scores[['test_accuracy','test_f1','test_recall','test_roc_auc']])"
   ]
  },
  {
   "cell_type": "markdown",
   "id": "22675d2a",
   "metadata": {},
   "source": [
    "### Pipeline"
   ]
  },
  {
   "cell_type": "code",
   "execution_count": null,
   "id": "25c15c41",
   "metadata": {},
   "outputs": [],
   "source": [
    "from sklearn.pipeline import Pipeline"
   ]
  },
  {
   "cell_type": "code",
   "execution_count": null,
   "id": "5f3b4524",
   "metadata": {},
   "outputs": [],
   "source": []
  },
  {
   "cell_type": "code",
   "execution_count": null,
   "id": "45914086",
   "metadata": {},
   "outputs": [],
   "source": [
    "predictor_pipe = Pipeline(steps = [\n",
    "    ('vectorizer',vectorizer), \n",
    "    ('classifier',logreg)\n",
    "                  ])\n",
    "predictor_pipe.fit(df_ml['text'], y)"
   ]
  },
  {
   "cell_type": "markdown",
   "id": "a082fb4b",
   "metadata": {},
   "source": [
    "# Bricolage"
   ]
  },
  {
   "cell_type": "code",
   "execution_count": 9,
   "id": "359c6bce",
   "metadata": {},
   "outputs": [
    {
     "data": {
      "text/html": [
       "<div>\n",
       "<style scoped>\n",
       "    .dataframe tbody tr th:only-of-type {\n",
       "        vertical-align: middle;\n",
       "    }\n",
       "\n",
       "    .dataframe tbody tr th {\n",
       "        vertical-align: top;\n",
       "    }\n",
       "\n",
       "    .dataframe thead th {\n",
       "        text-align: right;\n",
       "    }\n",
       "</style>\n",
       "<table border=\"1\" class=\"dataframe\">\n",
       "  <thead>\n",
       "    <tr style=\"text-align: right;\">\n",
       "      <th></th>\n",
       "      <th>url</th>\n",
       "      <th>site</th>\n",
       "      <th>title</th>\n",
       "      <th>article</th>\n",
       "      <th>tags</th>\n",
       "      <th>paragraphs</th>\n",
       "      <th>date_iso</th>\n",
       "      <th>abstract</th>\n",
       "      <th>Auteur</th>\n",
       "      <th>author</th>\n",
       "      <th>...</th>\n",
       "      <th>inversion_preuve</th>\n",
       "      <th>denigrement</th>\n",
       "      <th>degre_infox</th>\n",
       "      <th>observateur</th>\n",
       "      <th>source</th>\n",
       "      <th>p_count</th>\n",
       "      <th>text</th>\n",
       "      <th>c_count</th>\n",
       "      <th>p_size</th>\n",
       "      <th>url_h</th>\n",
       "    </tr>\n",
       "  </thead>\n",
       "  <tbody>\n",
       "    <tr>\n",
       "      <th>0</th>\n",
       "      <td>https://www.alnas.fr/actualite/communaute/lara...</td>\n",
       "      <td>www.alnas.fr</td>\n",
       "      <td>L’Arabie saoudite organise des célébrations d'...</td>\n",
       "      <td>L’Arabie saoudite a organisé un événement pour...</td>\n",
       "      <td>[Accueil, Actualités, Communauté]</td>\n",
       "      <td>[L’Arabie saoudite a organisé un événement pou...</td>\n",
       "      <td>2022-10-31T00:00:00</td>\n",
       "      <td></td>\n",
       "      <td></td>\n",
       "      <td>Par Youcef -</td>\n",
       "      <td>...</td>\n",
       "      <td>0.0</td>\n",
       "      <td>0.0</td>\n",
       "      <td></td>\n",
       "      <td>FB</td>\n",
       "      <td>Recueil</td>\n",
       "      <td>8</td>\n",
       "      <td>L’Arabie saoudite organise des célébrations d'...</td>\n",
       "      <td>2359</td>\n",
       "      <td>294.875000</td>\n",
       "      <td>ef05018ec0f5d637bceb4cef7004e8ee5fe48f6f</td>\n",
       "    </tr>\n",
       "    <tr>\n",
       "      <th>1</th>\n",
       "      <td>https://lesmoutonsrebelles.com/les-reseaux-soc...</td>\n",
       "      <td>lesmoutonsrebelles.com</td>\n",
       "      <td>Les réseaux sociaux coupés volontairement ? Qu...</td>\n",
       "      <td>Il semblerait que la panne mondiale des réseau...</td>\n",
       "      <td>[]</td>\n",
       "      <td>[Il semblerait que la panne mondiale des résea...</td>\n",
       "      <td></td>\n",
       "      <td></td>\n",
       "      <td></td>\n",
       "      <td></td>\n",
       "      <td>...</td>\n",
       "      <td>0.0</td>\n",
       "      <td>NaN</td>\n",
       "      <td>1</td>\n",
       "      <td>FB</td>\n",
       "      <td>Recueil</td>\n",
       "      <td>13</td>\n",
       "      <td>Les réseaux sociaux coupés volontairement ? Qu...</td>\n",
       "      <td>3723</td>\n",
       "      <td>286.384615</td>\n",
       "      <td>78521e5bf45d5d672a403958243a58fd95855660</td>\n",
       "    </tr>\n",
       "    <tr>\n",
       "      <th>2</th>\n",
       "      <td>https://lesmoutonsrebelles.com/un-rapport-du-p...</td>\n",
       "      <td>lesmoutonsrebelles.com</td>\n",
       "      <td>Un rapport du Pentagone affirme que les extrat...</td>\n",
       "      <td>Selon une énorme base de données de documents ...</td>\n",
       "      <td>[]</td>\n",
       "      <td>[Selon une énorme base de données de documents...</td>\n",
       "      <td></td>\n",
       "      <td></td>\n",
       "      <td></td>\n",
       "      <td></td>\n",
       "      <td>...</td>\n",
       "      <td>0.0</td>\n",
       "      <td>NaN</td>\n",
       "      <td>1</td>\n",
       "      <td>FB</td>\n",
       "      <td>Recueil</td>\n",
       "      <td>17</td>\n",
       "      <td>Un rapport du Pentagone affirme que les extrat...</td>\n",
       "      <td>3545</td>\n",
       "      <td>208.529412</td>\n",
       "      <td>db5f4fe97288e2cb2982f2f3f084f299b4bac7a0</td>\n",
       "    </tr>\n",
       "    <tr>\n",
       "      <th>3</th>\n",
       "      <td>https://lesmoutonsrebelles.com/un-sondage-defa...</td>\n",
       "      <td>lesmoutonsrebelles.com</td>\n",
       "      <td>Un sondage défavorable pour Emmanuel Macron su...</td>\n",
       "      <td>Des internautes, dont des politiques, ont affi...</td>\n",
       "      <td>[]</td>\n",
       "      <td>[Des internautes, dont des politiques, ont aff...</td>\n",
       "      <td></td>\n",
       "      <td></td>\n",
       "      <td></td>\n",
       "      <td></td>\n",
       "      <td>...</td>\n",
       "      <td>0.0</td>\n",
       "      <td>NaN</td>\n",
       "      <td>2</td>\n",
       "      <td>FB</td>\n",
       "      <td>Recueil</td>\n",
       "      <td>14</td>\n",
       "      <td>Un sondage défavorable pour Emmanuel Macron su...</td>\n",
       "      <td>1928</td>\n",
       "      <td>137.714286</td>\n",
       "      <td>8189af39fedefc6c901fc8b3a1717fdf5288d7fc</td>\n",
       "    </tr>\n",
       "    <tr>\n",
       "      <th>4</th>\n",
       "      <td>https://lemediaen442.fr/le-president-ukrainien...</td>\n",
       "      <td>lemediaen442.fr</td>\n",
       "      <td>Le président ukrainien Zelensky se cache dans ...</td>\n",
       "      <td>Le courage de Zelensky aura été de courte duré...</td>\n",
       "      <td>[Politique, ukraine, volodymyr zelensky]</td>\n",
       "      <td>[Le courage de Zelensky aura été de courte dur...</td>\n",
       "      <td>2022-03-05T14:55:48+01:00</td>\n",
       "      <td></td>\n",
       "      <td></td>\n",
       "      <td></td>\n",
       "      <td>...</td>\n",
       "      <td>0.0</td>\n",
       "      <td>NaN</td>\n",
       "      <td>3</td>\n",
       "      <td>FB</td>\n",
       "      <td>Recueil</td>\n",
       "      <td>8</td>\n",
       "      <td>Le président ukrainien Zelensky se cache dans ...</td>\n",
       "      <td>2045</td>\n",
       "      <td>255.625000</td>\n",
       "      <td>0c2e41f58ac869eb95865751caa3ab29a9f0cd13</td>\n",
       "    </tr>\n",
       "    <tr>\n",
       "      <th>...</th>\n",
       "      <td>...</td>\n",
       "      <td>...</td>\n",
       "      <td>...</td>\n",
       "      <td>...</td>\n",
       "      <td>...</td>\n",
       "      <td>...</td>\n",
       "      <td>...</td>\n",
       "      <td>...</td>\n",
       "      <td>...</td>\n",
       "      <td>...</td>\n",
       "      <td>...</td>\n",
       "      <td>...</td>\n",
       "      <td>...</td>\n",
       "      <td>...</td>\n",
       "      <td>...</td>\n",
       "      <td>...</td>\n",
       "      <td>...</td>\n",
       "      <td>...</td>\n",
       "      <td>...</td>\n",
       "      <td>...</td>\n",
       "      <td>...</td>\n",
       "    </tr>\n",
       "    <tr>\n",
       "      <th>901</th>\n",
       "      <td>https://lezarceleurs.blogspot.com/2022/04/des-...</td>\n",
       "      <td>lezarceleurs.blogspot.com</td>\n",
       "      <td>Des victimes de test PCR  témoignent</td>\n",
       "      <td>De : https://www.naturalnews.com/2022-04-21-vi...</td>\n",
       "      <td>[accidents, COVID-19, Test PCR, victimes]</td>\n",
       "      <td>[ De : https://www.naturalnews.com/2022-04-21-...</td>\n",
       "      <td></td>\n",
       "      <td></td>\n",
       "      <td>NaN</td>\n",
       "      <td></td>\n",
       "      <td>...</td>\n",
       "      <td>NaN</td>\n",
       "      <td>NaN</td>\n",
       "      <td>NaN</td>\n",
       "      <td>NaN</td>\n",
       "      <td>Verif</td>\n",
       "      <td>29</td>\n",
       "      <td>Des victimes de test PCR  témoignent\\n De : ht...</td>\n",
       "      <td>6042</td>\n",
       "      <td>208.344828</td>\n",
       "      <td>e6cf82ff921171ab67ac2b45ce27dca77a397c1a</td>\n",
       "    </tr>\n",
       "    <tr>\n",
       "      <th>902</th>\n",
       "      <td>https://www.francesoir.fr/politique-monde/resu...</td>\n",
       "      <td>www.francesoir.fr</td>\n",
       "      <td>Résultats de l’audit en Arizona : 54 000 bulle...</td>\n",
       "      <td>CHRONIQUE - Le 24 septembre, le rapport d’audi...</td>\n",
       "      <td>[Accueil, Politique]</td>\n",
       "      <td>[CHRONIQUE - Le 24 septembre, le rapport d’aud...</td>\n",
       "      <td>2021-09-29T13:37:00</td>\n",
       "      <td></td>\n",
       "      <td>NaN</td>\n",
       "      <td>Auteur(s)\\nElisabeth Dancet, pour FranceSoir</td>\n",
       "      <td>...</td>\n",
       "      <td>NaN</td>\n",
       "      <td>NaN</td>\n",
       "      <td>NaN</td>\n",
       "      <td>NaN</td>\n",
       "      <td>Verif</td>\n",
       "      <td>12</td>\n",
       "      <td>Résultats de l’audit en Arizona : 54 000 bulle...</td>\n",
       "      <td>10542</td>\n",
       "      <td>878.500000</td>\n",
       "      <td>c587dbcf33207a0a5c066bcf21cff88cd9fe1c9d</td>\n",
       "    </tr>\n",
       "    <tr>\n",
       "      <th>903</th>\n",
       "      <td>https://www.francetvinfo.fr/meteo/orages/tempe...</td>\n",
       "      <td>www.francetvinfo.fr</td>\n",
       "      <td>Tempête Aurore : de puissantes rafales de vent...</td>\n",
       "      <td>Le département du Finistère a été frappé par l...</td>\n",
       "      <td>[]</td>\n",
       "      <td>[Le département du Finistère a été frappé par ...</td>\n",
       "      <td>2021-10-21T22:53:00</td>\n",
       "      <td>La moitié nord de la France a été frappée par ...</td>\n",
       "      <td>NaN</td>\n",
       "      <td>H. Puffeney, A.Lay, J. Jonas, J. Chouquet, Fra...</td>\n",
       "      <td>...</td>\n",
       "      <td>NaN</td>\n",
       "      <td>NaN</td>\n",
       "      <td>NaN</td>\n",
       "      <td>NaN</td>\n",
       "      <td>Verif</td>\n",
       "      <td>2</td>\n",
       "      <td>Tempête Aurore : de puissantes rafales de vent...</td>\n",
       "      <td>1378</td>\n",
       "      <td>689.000000</td>\n",
       "      <td>6a77dfe2e50deec474b1373bb7180e39a98bbd0d</td>\n",
       "    </tr>\n",
       "    <tr>\n",
       "      <th>904</th>\n",
       "      <td>https://www.francetvinfo.fr/sports/directs/dir...</td>\n",
       "      <td>www.francetvinfo.fr</td>\n",
       "      <td>Euro 2021 : revivez la victoire des Belges sur...</td>\n",
       "      <td>Pour son quatrième tournoi majeur consécutif, ...</td>\n",
       "      <td>[]</td>\n",
       "      <td>[Pour son quatrième tournoi majeur consécutif,...</td>\n",
       "      <td>2021-06-27T20:14:00</td>\n",
       "      <td>Les tenants du titre portugais abandonnent leu...</td>\n",
       "      <td>NaN</td>\n",
       "      <td>franceinfo: sport</td>\n",
       "      <td>...</td>\n",
       "      <td>NaN</td>\n",
       "      <td>NaN</td>\n",
       "      <td>NaN</td>\n",
       "      <td>NaN</td>\n",
       "      <td>Verif</td>\n",
       "      <td>2</td>\n",
       "      <td>Euro 2021 : revivez la victoire des Belges sur...</td>\n",
       "      <td>828</td>\n",
       "      <td>414.000000</td>\n",
       "      <td>ec2b1e32cbac75d21b7ecfa1ea90d82a41300dd1</td>\n",
       "    </tr>\n",
       "    <tr>\n",
       "      <th>905</th>\n",
       "      <td>https://www.dreuz.info/2021/11/le-mensonge-du-...</td>\n",
       "      <td>www.dreuz.info</td>\n",
       "      <td>Le mensonge du « vivre-ensemble » et la réécri...</td>\n",
       "      <td>L’ouverture d’une exposition consacrée à « l’h...</td>\n",
       "      <td>[Home, Moyen-Orient]</td>\n",
       "      <td>[L’ouverture d’une exposition consacrée à « l’...</td>\n",
       "      <td>2021-11-27T00:00:00</td>\n",
       "      <td></td>\n",
       "      <td>NaN</td>\n",
       "      <td>Publié par  Pierre Lurçat le  27 novembre 2021</td>\n",
       "      <td>...</td>\n",
       "      <td>NaN</td>\n",
       "      <td>NaN</td>\n",
       "      <td>NaN</td>\n",
       "      <td>NaN</td>\n",
       "      <td>Verif</td>\n",
       "      <td>23</td>\n",
       "      <td>Le mensonge du « vivre-ensemble » et la réécri...</td>\n",
       "      <td>6166</td>\n",
       "      <td>268.086957</td>\n",
       "      <td>1dd378e8bf1352da6da75cab0a705f8753147d48</td>\n",
       "    </tr>\n",
       "  </tbody>\n",
       "</table>\n",
       "<p>904 rows × 44 columns</p>\n",
       "</div>"
      ],
      "text/plain": [
       "                                                   url   \n",
       "0    https://www.alnas.fr/actualite/communaute/lara...  \\\n",
       "1    https://lesmoutonsrebelles.com/les-reseaux-soc...   \n",
       "2    https://lesmoutonsrebelles.com/un-rapport-du-p...   \n",
       "3    https://lesmoutonsrebelles.com/un-sondage-defa...   \n",
       "4    https://lemediaen442.fr/le-president-ukrainien...   \n",
       "..                                                 ...   \n",
       "901  https://lezarceleurs.blogspot.com/2022/04/des-...   \n",
       "902  https://www.francesoir.fr/politique-monde/resu...   \n",
       "903  https://www.francetvinfo.fr/meteo/orages/tempe...   \n",
       "904  https://www.francetvinfo.fr/sports/directs/dir...   \n",
       "905  https://www.dreuz.info/2021/11/le-mensonge-du-...   \n",
       "\n",
       "                          site   \n",
       "0                 www.alnas.fr  \\\n",
       "1       lesmoutonsrebelles.com   \n",
       "2       lesmoutonsrebelles.com   \n",
       "3       lesmoutonsrebelles.com   \n",
       "4              lemediaen442.fr   \n",
       "..                         ...   \n",
       "901  lezarceleurs.blogspot.com   \n",
       "902          www.francesoir.fr   \n",
       "903        www.francetvinfo.fr   \n",
       "904        www.francetvinfo.fr   \n",
       "905             www.dreuz.info   \n",
       "\n",
       "                                                 title   \n",
       "0    L’Arabie saoudite organise des célébrations d'...  \\\n",
       "1    Les réseaux sociaux coupés volontairement ? Qu...   \n",
       "2    Un rapport du Pentagone affirme que les extrat...   \n",
       "3    Un sondage défavorable pour Emmanuel Macron su...   \n",
       "4    Le président ukrainien Zelensky se cache dans ...   \n",
       "..                                                 ...   \n",
       "901               Des victimes de test PCR  témoignent   \n",
       "902  Résultats de l’audit en Arizona : 54 000 bulle...   \n",
       "903  Tempête Aurore : de puissantes rafales de vent...   \n",
       "904  Euro 2021 : revivez la victoire des Belges sur...   \n",
       "905  Le mensonge du « vivre-ensemble » et la réécri...   \n",
       "\n",
       "                                               article   \n",
       "0    L’Arabie saoudite a organisé un événement pour...  \\\n",
       "1    Il semblerait que la panne mondiale des réseau...   \n",
       "2    Selon une énorme base de données de documents ...   \n",
       "3    Des internautes, dont des politiques, ont affi...   \n",
       "4    Le courage de Zelensky aura été de courte duré...   \n",
       "..                                                 ...   \n",
       "901  De : https://www.naturalnews.com/2022-04-21-vi...   \n",
       "902  CHRONIQUE - Le 24 septembre, le rapport d’audi...   \n",
       "903  Le département du Finistère a été frappé par l...   \n",
       "904  Pour son quatrième tournoi majeur consécutif, ...   \n",
       "905  L’ouverture d’une exposition consacrée à « l’h...   \n",
       "\n",
       "                                          tags   \n",
       "0            [Accueil, Actualités, Communauté]  \\\n",
       "1                                           []   \n",
       "2                                           []   \n",
       "3                                           []   \n",
       "4     [Politique, ukraine, volodymyr zelensky]   \n",
       "..                                         ...   \n",
       "901  [accidents, COVID-19, Test PCR, victimes]   \n",
       "902                       [Accueil, Politique]   \n",
       "903                                         []   \n",
       "904                                         []   \n",
       "905                       [Home, Moyen-Orient]   \n",
       "\n",
       "                                            paragraphs   \n",
       "0    [L’Arabie saoudite a organisé un événement pou...  \\\n",
       "1    [Il semblerait que la panne mondiale des résea...   \n",
       "2    [Selon une énorme base de données de documents...   \n",
       "3    [Des internautes, dont des politiques, ont aff...   \n",
       "4    [Le courage de Zelensky aura été de courte dur...   \n",
       "..                                                 ...   \n",
       "901  [ De : https://www.naturalnews.com/2022-04-21-...   \n",
       "902  [CHRONIQUE - Le 24 septembre, le rapport d’aud...   \n",
       "903  [Le département du Finistère a été frappé par ...   \n",
       "904  [Pour son quatrième tournoi majeur consécutif,...   \n",
       "905  [L’ouverture d’une exposition consacrée à « l’...   \n",
       "\n",
       "                      date_iso   \n",
       "0          2022-10-31T00:00:00  \\\n",
       "1                                \n",
       "2                                \n",
       "3                                \n",
       "4    2022-03-05T14:55:48+01:00   \n",
       "..                         ...   \n",
       "901                              \n",
       "902        2021-09-29T13:37:00   \n",
       "903        2021-10-21T22:53:00   \n",
       "904        2021-06-27T20:14:00   \n",
       "905        2021-11-27T00:00:00   \n",
       "\n",
       "                                              abstract Auteur   \n",
       "0                                                              \\\n",
       "1                                                               \n",
       "2                                                               \n",
       "3                                                               \n",
       "4                                                               \n",
       "..                                                 ...    ...   \n",
       "901                                                       NaN   \n",
       "902                                                       NaN   \n",
       "903  La moitié nord de la France a été frappée par ...    NaN   \n",
       "904  Les tenants du titre portugais abandonnent leu...    NaN   \n",
       "905                                                       NaN   \n",
       "\n",
       "                                                author  ... inversion_preuve   \n",
       "0                                         Par Youcef -  ...              0.0  \\\n",
       "1                                                       ...              0.0   \n",
       "2                                                       ...              0.0   \n",
       "3                                                       ...              0.0   \n",
       "4                                                       ...              0.0   \n",
       "..                                                 ...  ...              ...   \n",
       "901                                                     ...              NaN   \n",
       "902       Auteur(s)\\nElisabeth Dancet, pour FranceSoir  ...              NaN   \n",
       "903  H. Puffeney, A.Lay, J. Jonas, J. Chouquet, Fra...  ...              NaN   \n",
       "904                                  franceinfo: sport  ...              NaN   \n",
       "905     Publié par  Pierre Lurçat le  27 novembre 2021  ...              NaN   \n",
       "\n",
       "     denigrement degre_infox  observateur   source  p_count   \n",
       "0            0.0                       FB  Recueil        8  \\\n",
       "1            NaN           1           FB  Recueil       13   \n",
       "2            NaN           1           FB  Recueil       17   \n",
       "3            NaN           2           FB  Recueil       14   \n",
       "4            NaN           3           FB  Recueil        8   \n",
       "..           ...         ...          ...      ...      ...   \n",
       "901          NaN         NaN          NaN    Verif       29   \n",
       "902          NaN         NaN          NaN    Verif       12   \n",
       "903          NaN         NaN          NaN    Verif        2   \n",
       "904          NaN         NaN          NaN    Verif        2   \n",
       "905          NaN         NaN          NaN    Verif       23   \n",
       "\n",
       "                                                  text  c_count      p_size   \n",
       "0    L’Arabie saoudite organise des célébrations d'...     2359  294.875000  \\\n",
       "1    Les réseaux sociaux coupés volontairement ? Qu...     3723  286.384615   \n",
       "2    Un rapport du Pentagone affirme que les extrat...     3545  208.529412   \n",
       "3    Un sondage défavorable pour Emmanuel Macron su...     1928  137.714286   \n",
       "4    Le président ukrainien Zelensky se cache dans ...     2045  255.625000   \n",
       "..                                                 ...      ...         ...   \n",
       "901  Des victimes de test PCR  témoignent\\n De : ht...     6042  208.344828   \n",
       "902  Résultats de l’audit en Arizona : 54 000 bulle...    10542  878.500000   \n",
       "903  Tempête Aurore : de puissantes rafales de vent...     1378  689.000000   \n",
       "904  Euro 2021 : revivez la victoire des Belges sur...      828  414.000000   \n",
       "905  Le mensonge du « vivre-ensemble » et la réécri...     6166  268.086957   \n",
       "\n",
       "                                        url_h  \n",
       "0    ef05018ec0f5d637bceb4cef7004e8ee5fe48f6f  \n",
       "1    78521e5bf45d5d672a403958243a58fd95855660  \n",
       "2    db5f4fe97288e2cb2982f2f3f084f299b4bac7a0  \n",
       "3    8189af39fedefc6c901fc8b3a1717fdf5288d7fc  \n",
       "4    0c2e41f58ac869eb95865751caa3ab29a9f0cd13  \n",
       "..                                        ...  \n",
       "901  e6cf82ff921171ab67ac2b45ce27dca77a397c1a  \n",
       "902  c587dbcf33207a0a5c066bcf21cff88cd9fe1c9d  \n",
       "903  6a77dfe2e50deec474b1373bb7180e39a98bbd0d  \n",
       "904  ec2b1e32cbac75d21b7ecfa1ea90d82a41300dd1  \n",
       "905  1dd378e8bf1352da6da75cab0a705f8753147d48  \n",
       "\n",
       "[904 rows x 44 columns]"
      ]
     },
     "execution_count": 9,
     "metadata": {},
     "output_type": "execute_result"
    }
   ],
   "source": [
    "df_label"
   ]
  },
  {
   "cell_type": "code",
   "execution_count": null,
   "id": "559e4e8d",
   "metadata": {},
   "outputs": [],
   "source": []
  }
 ],
 "metadata": {
  "kernelspec": {
   "display_name": "Python 3 (ipykernel)",
   "language": "python",
   "name": "python3"
  },
  "language_info": {
   "codemirror_mode": {
    "name": "ipython",
    "version": 3
   },
   "file_extension": ".py",
   "mimetype": "text/x-python",
   "name": "python",
   "nbconvert_exporter": "python",
   "pygments_lexer": "ipython3",
   "version": "3.10.11"
  }
 },
 "nbformat": 4,
 "nbformat_minor": 5
}
