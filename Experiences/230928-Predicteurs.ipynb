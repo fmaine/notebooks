{
 "cells": [
  {
   "cell_type": "markdown",
   "id": "e3ec4689",
   "metadata": {},
   "source": [
    "# Plateforme Agnostique de Traitement et d'Analyse des Textes\n",
    "### Carnet d'expérimentation\n",
    "---\n",
    "\n",
    "## Sujet : Explainability\n",
    "\n",
    "\n",
    "---"
   ]
  },
  {
   "cell_type": "markdown",
   "id": "2601e626",
   "metadata": {},
   "source": [
    "# Initialisations\n",
    "---"
   ]
  },
  {
   "cell_type": "code",
   "execution_count": 1,
   "id": "525fef74",
   "metadata": {},
   "outputs": [],
   "source": [
    "_rs = 42"
   ]
  },
  {
   "cell_type": "code",
   "execution_count": 2,
   "id": "5d0de4d7",
   "metadata": {},
   "outputs": [
    {
     "name": "stdout",
     "output_type": "stream",
     "text": [
      "/Volumes/Geek/Work/Patat\n"
     ]
    }
   ],
   "source": [
    "cd ../.."
   ]
  },
  {
   "cell_type": "code",
   "execution_count": 3,
   "id": "32256b0d",
   "metadata": {},
   "outputs": [],
   "source": [
    "import ast\n",
    "import importlib\n",
    "import pandas as pd\n",
    "import seaborn as sns\n",
    "from tqdm.notebook import tqdm\n",
    "tqdm.pandas()"
   ]
  },
  {
   "cell_type": "markdown",
   "id": "b9b13f54",
   "metadata": {},
   "source": [
    "# Préparation Données\n",
    "\n",
    "---"
   ]
  },
  {
   "cell_type": "markdown",
   "id": "18533365",
   "metadata": {},
   "source": [
    "## Chargement"
   ]
  },
  {
   "cell_type": "code",
   "execution_count": 4,
   "id": "b435d360",
   "metadata": {},
   "outputs": [],
   "source": [
    "import patat.util.file\n",
    "\n",
    "filename = 'data/prod/230517-OIDS-Label.pickle'\n",
    "\n",
    "df_label = patat.util.file.pickle_load(filename)"
   ]
  },
  {
   "cell_type": "code",
   "execution_count": 48,
   "id": "c3b80ef4",
   "metadata": {},
   "outputs": [
    {
     "data": {
      "text/plain": [
       "Index(['index', 'url', 'site', 'title', 'article', 'tags', 'paragraphs',\n",
       "       'date_iso', 'abstract', 'Auteur', 'author', 'date', 'infox',\n",
       "       'justification infox', 'entites_nommees', 'ouverture_esprit', 'faits',\n",
       "       'opinions', 'propos_raportes', 'sources_citees', 'fausse_nouvelle',\n",
       "       'insinuations', 'exageration', 'inverifiable', 'titre_decale',\n",
       "       'cherry_picking', 'remarque observatoire', 'signe',\n",
       "       'entites_coherentes', 'qualite_ecriture', 'intention',\n",
       "       'scientifique_sulfureux', 'trop_mots', 'trop_chiffres', 'sophisme',\n",
       "       'inversion_preuve', 'denigrement', 'degre_infox', 'observateur',\n",
       "       'source', 'p_count', 'text', 'c_count', 'p_size', 'url_h'],\n",
       "      dtype='object')"
      ]
     },
     "execution_count": 48,
     "metadata": {},
     "output_type": "execute_result"
    }
   ],
   "source": [
    "df_label.columns"
   ]
  },
  {
   "cell_type": "code",
   "execution_count": 53,
   "id": "ce064a23",
   "metadata": {},
   "outputs": [],
   "source": [
    "labels = ['infox',\n",
    "       'justification infox', 'entites_nommees', 'ouverture_esprit', 'faits',\n",
    "       'opinions', 'propos_raportes', 'sources_citees', 'fausse_nouvelle',\n",
    "       'insinuations', 'exageration', 'inverifiable', 'titre_decale',\n",
    "       'signe',\n",
    "       'entites_coherentes', 'qualite_ecriture', 'intention',\n",
    "       'scientifique_sulfureux', 'trop_mots', 'trop_chiffres', 'sophisme',\n",
    "       'inversion_preuve']"
   ]
  },
  {
   "cell_type": "code",
   "execution_count": 72,
   "id": "552bae55",
   "metadata": {},
   "outputs": [],
   "source": [
    "selected_labels = ['infox','opinions','exageration','insinuations']"
   ]
  },
  {
   "cell_type": "code",
   "execution_count": 73,
   "id": "caca5ce1",
   "metadata": {},
   "outputs": [],
   "source": [
    "stopwords = patat.util.file.pickle_load('data/tmp/stopwords.pickle')"
   ]
  },
  {
   "cell_type": "markdown",
   "id": "394eb154",
   "metadata": {},
   "source": [
    "## Labels ou textes Nuls"
   ]
  },
  {
   "cell_type": "code",
   "execution_count": 74,
   "id": "62f6f1ca",
   "metadata": {},
   "outputs": [
    {
     "data": {
      "text/plain": [
       "0"
      ]
     },
     "execution_count": 74,
     "metadata": {},
     "output_type": "execute_result"
    }
   ],
   "source": [
    "df_label['text'].isna().sum()"
   ]
  },
  {
   "cell_type": "code",
   "execution_count": 75,
   "id": "73feab00",
   "metadata": {},
   "outputs": [
    {
     "name": "stdout",
     "output_type": "stream",
     "text": [
      "infox : 0\n",
      "opinions : 96\n",
      "exageration : 348\n",
      "insinuations : 98\n"
     ]
    }
   ],
   "source": [
    "for label in selected_labels:\n",
    "    print(f'{label} : {df_label[label].isna().sum()}')"
   ]
  },
  {
   "cell_type": "markdown",
   "id": "06e71e98",
   "metadata": {},
   "source": [
    "## Données dupliquées"
   ]
  },
  {
   "cell_type": "code",
   "execution_count": 11,
   "id": "bc6b9499",
   "metadata": {},
   "outputs": [
    {
     "data": {
      "text/plain": [
       "0"
      ]
     },
     "execution_count": 11,
     "metadata": {},
     "output_type": "execute_result"
    }
   ],
   "source": [
    "df_label.duplicated(subset='text').sum()"
   ]
  },
  {
   "cell_type": "code",
   "execution_count": 12,
   "id": "d8c481ad",
   "metadata": {
    "scrolled": true
   },
   "outputs": [
    {
     "data": {
      "text/plain": [
       "0"
      ]
     },
     "execution_count": 12,
     "metadata": {},
     "output_type": "execute_result"
    }
   ],
   "source": [
    "df_label.duplicated(subset='url').sum()"
   ]
  },
  {
   "cell_type": "markdown",
   "id": "418e89ed",
   "metadata": {},
   "source": [
    "# Experience\n",
    "---"
   ]
  },
  {
   "cell_type": "markdown",
   "id": "03e56e6c",
   "metadata": {},
   "source": [
    "## Equilibrage Dataset"
   ]
  },
  {
   "cell_type": "code",
   "execution_count": 13,
   "id": "38c59b58",
   "metadata": {},
   "outputs": [
    {
     "data": {
      "text/plain": [
       "<Axes: xlabel='infox', ylabel='count'>"
      ]
     },
     "execution_count": 13,
     "metadata": {},
     "output_type": "execute_result"
    },
    {
     "data": {
      "image/png": "[encoded data removed]",
      "text/plain": [
       "<Figure size 640x480 with 1 Axes>"
      ]
     },
     "metadata": {},
     "output_type": "display_data"
    }
   ],
   "source": [
    "label_count = df_label['infox'].value_counts()\n",
    "sns.barplot(x=label_count.index, y=label_count)"
   ]
  },
  {
   "cell_type": "code",
   "execution_count": 14,
   "id": "babd8a09",
   "metadata": {},
   "outputs": [
    {
     "data": {
      "text/html": [
       "<div>\n",
       "<style scoped>\n",
       "    .dataframe tbody tr th:only-of-type {\n",
       "        vertical-align: middle;\n",
       "    }\n",
       "\n",
       "    .dataframe tbody tr th {\n",
       "        vertical-align: top;\n",
       "    }\n",
       "\n",
       "    .dataframe thead th {\n",
       "        text-align: right;\n",
       "    }\n",
       "</style>\n",
       "<table border=\"1\" class=\"dataframe\">\n",
       "  <thead>\n",
       "    <tr style=\"text-align: right;\">\n",
       "      <th></th>\n",
       "      <th>text</th>\n",
       "      <th>infox</th>\n",
       "    </tr>\n",
       "  </thead>\n",
       "  <tbody>\n",
       "    <tr>\n",
       "      <th>609</th>\n",
       "      <td>Guerre en Ukraine: Emmanuel Macron prévient le...</td>\n",
       "      <td>0.0</td>\n",
       "    </tr>\n",
       "    <tr>\n",
       "      <th>705</th>\n",
       "      <td>La vaccination Covid : un marquage de « type b...</td>\n",
       "      <td>0.0</td>\n",
       "    </tr>\n",
       "    <tr>\n",
       "      <th>26</th>\n",
       "      <td>Colonialisme énergétique\\nVisite d’État du pré...</td>\n",
       "      <td>0.0</td>\n",
       "    </tr>\n",
       "    <tr>\n",
       "      <th>565</th>\n",
       "      <td>De l’importance d’une Assemblée vraiment natio...</td>\n",
       "      <td>0.0</td>\n",
       "    </tr>\n",
       "    <tr>\n",
       "      <th>231</th>\n",
       "      <td>Quelle politique migratoire pour la France ? –...</td>\n",
       "      <td>0.0</td>\n",
       "    </tr>\n",
       "    <tr>\n",
       "      <th>...</th>\n",
       "      <td>...</td>\n",
       "      <td>...</td>\n",
       "    </tr>\n",
       "    <tr>\n",
       "      <th>112</th>\n",
       "      <td>Des scientifiques de Harvard et de Johns Hopki...</td>\n",
       "      <td>1.0</td>\n",
       "    </tr>\n",
       "    <tr>\n",
       "      <th>157</th>\n",
       "      <td>L’armée russe achète des exemplaires d’armemen...</td>\n",
       "      <td>1.0</td>\n",
       "    </tr>\n",
       "    <tr>\n",
       "      <th>522</th>\n",
       "      <td>ONU – Le Premier ministre de Nouvelle-Zélande ...</td>\n",
       "      <td>1.0</td>\n",
       "    </tr>\n",
       "    <tr>\n",
       "      <th>847</th>\n",
       "      <td>Pandémie ou le retour du grand Pan\\nAu cours d...</td>\n",
       "      <td>1.0</td>\n",
       "    </tr>\n",
       "    <tr>\n",
       "      <th>151</th>\n",
       "      <td>Le président Trump dénonce la corruption de la...</td>\n",
       "      <td>1.0</td>\n",
       "    </tr>\n",
       "  </tbody>\n",
       "</table>\n",
       "<p>746 rows × 2 columns</p>\n",
       "</div>"
      ],
      "text/plain": [
       "                                                  text  infox\n",
       "609  Guerre en Ukraine: Emmanuel Macron prévient le...    0.0\n",
       "705  La vaccination Covid : un marquage de « type b...    0.0\n",
       "26   Colonialisme énergétique\\nVisite d’État du pré...    0.0\n",
       "565  De l’importance d’une Assemblée vraiment natio...    0.0\n",
       "231  Quelle politique migratoire pour la France ? –...    0.0\n",
       "..                                                 ...    ...\n",
       "112  Des scientifiques de Harvard et de Johns Hopki...    1.0\n",
       "157  L’armée russe achète des exemplaires d’armemen...    1.0\n",
       "522  ONU – Le Premier ministre de Nouvelle-Zélande ...    1.0\n",
       "847  Pandémie ou le retour du grand Pan\\nAu cours d...    1.0\n",
       "151  Le président Trump dénonce la corruption de la...    1.0\n",
       "\n",
       "[746 rows x 2 columns]"
      ]
     },
     "execution_count": 14,
     "metadata": {},
     "output_type": "execute_result"
    }
   ],
   "source": [
    "df_0 = df_label[df_label['infox'] == 0]\n",
    "df_1 = df_label[df_label['infox'] == 1]\n",
    "\n",
    "min_sample = min(len(df_0),len(df_1))\n",
    "\n",
    "\n",
    "df_0=df_0.sample(min_sample,random_state=_rs)\n",
    "df_1=df_1.sample(min_sample,random_state=_rs)\n",
    "df_ml = pd.concat([df_0,df_1])[['text','infox']]\n",
    "\n",
    "df_ml"
   ]
  },
  {
   "cell_type": "code",
   "execution_count": 15,
   "id": "c735944d",
   "metadata": {},
   "outputs": [
    {
     "name": "stdout",
     "output_type": "stream",
     "text": [
      "Selon le Pr Perronne l’apparition de la variole du singe n’est pas naturelle\n",
      "La variole du singe est une maladie extrêmement rare et limitée à l’Afrique. Soudain, on nous annonce que des cas ont été enregistrés aux États-Unis, au Canada, au Royaume-Uni, en Australie, en Suède, aux Pays-Bas, en Belgique, en France, en Espagne, en Italie et en Allemagne, tous en même temps. Son nom est monkeypox ou variole du singe, et c’est la panique !\n",
      "ttention à celui qui risque de faire perdre des milliards. Les milliards que les laboratoires encaissent grâce à l’interdiction des traitements contre le covid-19 et à l’obligation vaccinale pour avoir le droit de travailler et de se déplacer. Il a tenu « des propos considérés comme indignes de la fonction qu’il exerce ». Qui est ce pelé, ce galeux ? Le Pr Perronne, bien sûr !\n",
      "Depuis que ses critiques sur la pseudo épidémie de covid ont été confirmées. Avec la variole du singe, le scénario catastrophe recommence et Perronne, ce complotiste invétéré, recommence à se faire traiter de tous les noms et à dire la vérité (voir vidéo ci-dessous) !\n",
      "﻿\n",
      "Nous aurions pu avoir droit à la variole du cheval ou de la vache ou même du chameau. C’est très facile à faire en laboratoire. Mais des scientifiques ont préféré la variole du singe. Il faut revenir à mars 2021, à la Conférence de Munich sur la sécurité. Une épidémie de variole du singe a été un exercice de simulation sur la réduction des menaces biologiques à haute probabilité. Voici le scénario : une épidémie de variole du singe débute le 15 mai 2022 (vous avez dit bizarre ?) et entraîne 3,2 milliards de cas et 271 millions de décès au 1er décembre 2023 (ça c’est à voir, toutes les prédictions des mauvaises fées ne se réalisent pas). Toujours dans cet exercice dystopique, le virus modifié de la variole du singe a été développé de manière illicite dans le principal institut de virologie du pays fictif d’Anica par des scientifiques de laboratoire travaillant aux côtés d’un groupe terroriste arnica. Ce groupe terroriste a ensuite libéré l’agent pathogène « hautement contagieux et mortel » dans une gare bondée du pays fictif voisin, Brinia. Le responsable du casting n’a pas eu l’élégance de distribuer le rôle du terroriste à Bill Gates, pour remercier de sa participation le Dr Chris Elias, président de la division du développement mondial de la Fondation Bill & Melinda Gates.\n",
      "Le Dr Malone que les médias qualifient de « controversé », « peu pertinent » et même, pour faire bonne mesure, de « messie de la complosphère ». estime, comme le Pr Perronne, que la variole du singe « à moins qu’il n’y ait eu une altération génétique, soit par l’évolution, soit par une manipulation génétique intentionnelle, ne constitue pas une menace biologique importante et n’a jamais été considérée comme un agent pathogène à haut risque dans le passé ».\n",
      "Pour le Pr Caumes, cette maladie est peu contagieuse dans sa forme africaine, mais il constate que, dans sa forme actuelle, elle est devenue plus contagieuse. En homme prudent, il n’en dira pas plus.\n",
      "Y aurait-il eu manipulation pour « gain de fonction » comme avec le coronavirus à Wuhan ? Si, à partir d’une maladie rare, limitée géographiquement et bénigne, nous assistons à une véritable épidémie mondiale, c’est qu’elle a été délibérément libérée d’un laboratoire. Une hypothèse bien entendu complotiste.\n",
      "Source  : Le Média en 4-4-2\n",
      "\n"
     ]
    }
   ],
   "source": [
    "print(df_ml['text'][15])"
   ]
  },
  {
   "cell_type": "code",
   "execution_count": 76,
   "id": "5914114d",
   "metadata": {},
   "outputs": [],
   "source": [
    "df_ml = df_label"
   ]
  },
  {
   "cell_type": "markdown",
   "id": "04014933",
   "metadata": {},
   "source": [
    "# Experience\n",
    "---"
   ]
  },
  {
   "cell_type": "markdown",
   "id": "36585108",
   "metadata": {},
   "source": [
    "## Expérience de cross validation pour mesurer la performance des modeles\n",
    "\n",
    "\n",
    "`scores = cross_validate(classifier, X, y, cv=5, scoring = metriques)`\n",
    "\n",
    "- `classifier` : Classifier\n",
    "- `X` : Features\n",
    "- `y` : Label cible\n",
    "- `cv` : Nombre de cycle d'entrainement/test\n",
    "- `scoring` : Métriques\n",
    "\n",
    "\n",
    "\n"
   ]
  },
  {
   "cell_type": "code",
   "execution_count": 77,
   "id": "b4bb2d5f",
   "metadata": {},
   "outputs": [],
   "source": [
    "cv=5\n",
    "y = df_ml['infox']"
   ]
  },
  {
   "cell_type": "markdown",
   "id": "71bf729b",
   "metadata": {},
   "source": [
    "## Tfidf \n",
    "Features : `X_tfidf`"
   ]
  },
  {
   "cell_type": "code",
   "execution_count": 78,
   "id": "060b186e",
   "metadata": {},
   "outputs": [],
   "source": [
    "import re\n",
    "from sklearn.feature_extraction.text import TfidfVectorizer"
   ]
  },
  {
   "cell_type": "code",
   "execution_count": 79,
   "id": "713af23e",
   "metadata": {},
   "outputs": [],
   "source": [
    "def tokenizer(t):\n",
    "    return re.findall(r'[^\\W\\d][^\\W\\d]+',t)"
   ]
  },
  {
   "cell_type": "code",
   "execution_count": 80,
   "id": "eba70992",
   "metadata": {},
   "outputs": [],
   "source": [
    "#vectorizer = TfidfVectorizer(stop_words=stopwords, token_pattern=r'[^\\W\\d][^\\W\\d]+')\n",
    "vectorizer = TfidfVectorizer(stop_words=stopwords)"
   ]
  },
  {
   "cell_type": "code",
   "execution_count": 81,
   "id": "6ed7bf8c",
   "metadata": {},
   "outputs": [],
   "source": [
    "X_tfidf = vectorizer.fit_transform(df_ml['text'])"
   ]
  },
  {
   "cell_type": "markdown",
   "id": "7c28c68b",
   "metadata": {},
   "source": [
    "## SKLearn Logistic Regression"
   ]
  },
  {
   "cell_type": "code",
   "execution_count": 82,
   "id": "22c6c950",
   "metadata": {},
   "outputs": [],
   "source": [
    "from sklearn.model_selection import cross_validate\n",
    "from sklearn.linear_model import LogisticRegression\n",
    "from sklearn import metrics"
   ]
  },
  {
   "cell_type": "code",
   "execution_count": 83,
   "id": "ffcae336",
   "metadata": {},
   "outputs": [],
   "source": [
    "logreg = LogisticRegression(C=150, random_state=_rs, solver='lbfgs', multi_class='ovr', max_iter=1000)"
   ]
  },
  {
   "cell_type": "code",
   "execution_count": 84,
   "id": "c5802189",
   "metadata": {},
   "outputs": [],
   "source": [
    "#svd = TruncatedSVD(n_components=500, n_iter=7, random_state=42)\n",
    "#X = svd.fit_transform(X_tfidf)\n",
    "X = X_tfidf"
   ]
  },
  {
   "cell_type": "code",
   "execution_count": 85,
   "id": "46996ac8",
   "metadata": {},
   "outputs": [],
   "source": []
  },
  {
   "cell_type": "code",
   "execution_count": null,
   "id": "8bcf6b36",
   "metadata": {},
   "outputs": [],
   "source": [
    "pd.set_option('display.precision',4)"
   ]
  },
  {
   "cell_type": "code",
   "execution_count": 102,
   "id": "bb4f28cb",
   "metadata": {},
   "outputs": [
    {
     "name": "stdout",
     "output_type": "stream",
     "text": [
      "Processing : infox\n",
      "   fit_time  score_time  test_accuracy  test_f1  test_recall  test_roc_auc\n",
      "0    0.1656      0.0024         0.7278   0.6711       0.6757        0.8084\n",
      "1    0.0919      0.0024         0.7722   0.6822       0.5946        0.8516\n",
      "2    0.1616      0.0024         0.6611   0.5197       0.4400        0.7285\n",
      "3    0.0935      0.0022         0.7722   0.6372       0.4800        0.8757\n",
      "4    0.0843      0.0023         0.8056   0.7552       0.7200        0.9053\n",
      "Processing : opinions\n",
      "   fit_time  score_time  test_accuracy  test_f1  test_recall  test_roc_auc\n",
      "0    0.1831      0.0024         0.6149   0.7075       0.8523        0.6345\n",
      "1    0.1187      0.0022         0.6460   0.7273       0.8636        0.6935\n",
      "2    0.1719      0.0023         0.6708   0.7166       0.7614        0.6865\n",
      "3    0.0998      0.0022         0.6335   0.6811       0.7159        0.7176\n",
      "4    0.1120      0.0023         0.6250   0.5833       0.4773        0.6496\n",
      "Processing : exageration\n",
      "   fit_time  score_time  test_accuracy  test_f1  test_recall  test_roc_auc\n",
      "0    0.3263      0.0023         0.7117   0.3846       0.2857        0.6511\n",
      "1    0.1966      0.0023         0.7477   0.4400       0.3143        0.7756\n",
      "2    0.2276      0.0022         0.6727   0.1818       0.1143        0.6232\n",
      "3    0.2894      0.0021         0.7182   0.2051       0.1143        0.8030\n",
      "4    0.2350      0.0021         0.7000   0.2326       0.1429        0.7512\n",
      "Processing : insinuations\n",
      "   fit_time  score_time  test_accuracy  test_f1  test_recall  test_roc_auc\n",
      "0    0.3244      0.0023         0.7453   0.5495       0.4717        0.7552\n",
      "1    0.2785      0.0023         0.6646   0.3077       0.2222        0.7217\n",
      "2    0.2824      0.0022         0.6625   0.2059       0.1321        0.6456\n",
      "3    0.3371      0.0024         0.7063   0.3188       0.2075        0.7530\n",
      "4    0.3024      0.0026         0.7063   0.2985       0.1887        0.7489\n"
     ]
    },
    {
     "ename": "ValueError",
     "evalue": "No objects to concatenate",
     "output_type": "error",
     "traceback": [
      "\u001b[0;31m---------------------------------------------------------------------------\u001b[0m",
      "\u001b[0;31mValueError\u001b[0m                                Traceback (most recent call last)",
      "Cell \u001b[0;32mIn[102], line 13\u001b[0m\n\u001b[1;32m     11\u001b[0m     \u001b[38;5;66;03m#df_results = df_results.append(df_means)\u001b[39;00m\n\u001b[1;32m     12\u001b[0m     \u001b[38;5;28mprint\u001b[39m(df_scores)\n\u001b[0;32m---> 13\u001b[0m \u001b[43mpd\u001b[49m\u001b[38;5;241;43m.\u001b[39;49m\u001b[43mconcat\u001b[49m\u001b[43m(\u001b[49m\u001b[43mdf_results\u001b[49m\u001b[43m)\u001b[49m\n",
      "File \u001b[0;32m/opt/homebrew/Caskroom/miniforge/base/envs/pt310/lib/python3.10/site-packages/pandas/core/reshape/concat.py:372\u001b[0m, in \u001b[0;36mconcat\u001b[0;34m(objs, axis, join, ignore_index, keys, levels, names, verify_integrity, sort, copy)\u001b[0m\n\u001b[1;32m    369\u001b[0m \u001b[38;5;28;01melif\u001b[39;00m copy \u001b[38;5;129;01mand\u001b[39;00m using_copy_on_write():\n\u001b[1;32m    370\u001b[0m     copy \u001b[38;5;241m=\u001b[39m \u001b[38;5;28;01mFalse\u001b[39;00m\n\u001b[0;32m--> 372\u001b[0m op \u001b[38;5;241m=\u001b[39m \u001b[43m_Concatenator\u001b[49m\u001b[43m(\u001b[49m\n\u001b[1;32m    373\u001b[0m \u001b[43m    \u001b[49m\u001b[43mobjs\u001b[49m\u001b[43m,\u001b[49m\n\u001b[1;32m    374\u001b[0m \u001b[43m    \u001b[49m\u001b[43maxis\u001b[49m\u001b[38;5;241;43m=\u001b[39;49m\u001b[43maxis\u001b[49m\u001b[43m,\u001b[49m\n\u001b[1;32m    375\u001b[0m \u001b[43m    \u001b[49m\u001b[43mignore_index\u001b[49m\u001b[38;5;241;43m=\u001b[39;49m\u001b[43mignore_index\u001b[49m\u001b[43m,\u001b[49m\n\u001b[1;32m    376\u001b[0m \u001b[43m    \u001b[49m\u001b[43mjoin\u001b[49m\u001b[38;5;241;43m=\u001b[39;49m\u001b[43mjoin\u001b[49m\u001b[43m,\u001b[49m\n\u001b[1;32m    377\u001b[0m \u001b[43m    \u001b[49m\u001b[43mkeys\u001b[49m\u001b[38;5;241;43m=\u001b[39;49m\u001b[43mkeys\u001b[49m\u001b[43m,\u001b[49m\n\u001b[1;32m    378\u001b[0m \u001b[43m    \u001b[49m\u001b[43mlevels\u001b[49m\u001b[38;5;241;43m=\u001b[39;49m\u001b[43mlevels\u001b[49m\u001b[43m,\u001b[49m\n\u001b[1;32m    379\u001b[0m \u001b[43m    \u001b[49m\u001b[43mnames\u001b[49m\u001b[38;5;241;43m=\u001b[39;49m\u001b[43mnames\u001b[49m\u001b[43m,\u001b[49m\n\u001b[1;32m    380\u001b[0m \u001b[43m    \u001b[49m\u001b[43mverify_integrity\u001b[49m\u001b[38;5;241;43m=\u001b[39;49m\u001b[43mverify_integrity\u001b[49m\u001b[43m,\u001b[49m\n\u001b[1;32m    381\u001b[0m \u001b[43m    \u001b[49m\u001b[43mcopy\u001b[49m\u001b[38;5;241;43m=\u001b[39;49m\u001b[43mcopy\u001b[49m\u001b[43m,\u001b[49m\n\u001b[1;32m    382\u001b[0m \u001b[43m    \u001b[49m\u001b[43msort\u001b[49m\u001b[38;5;241;43m=\u001b[39;49m\u001b[43msort\u001b[49m\u001b[43m,\u001b[49m\n\u001b[1;32m    383\u001b[0m \u001b[43m\u001b[49m\u001b[43m)\u001b[49m\n\u001b[1;32m    385\u001b[0m \u001b[38;5;28;01mreturn\u001b[39;00m op\u001b[38;5;241m.\u001b[39mget_result()\n",
      "File \u001b[0;32m/opt/homebrew/Caskroom/miniforge/base/envs/pt310/lib/python3.10/site-packages/pandas/core/reshape/concat.py:429\u001b[0m, in \u001b[0;36m_Concatenator.__init__\u001b[0;34m(self, objs, axis, join, keys, levels, names, ignore_index, verify_integrity, copy, sort)\u001b[0m\n\u001b[1;32m    426\u001b[0m     objs \u001b[38;5;241m=\u001b[39m \u001b[38;5;28mlist\u001b[39m(objs)\n\u001b[1;32m    428\u001b[0m \u001b[38;5;28;01mif\u001b[39;00m \u001b[38;5;28mlen\u001b[39m(objs) \u001b[38;5;241m==\u001b[39m \u001b[38;5;241m0\u001b[39m:\n\u001b[0;32m--> 429\u001b[0m     \u001b[38;5;28;01mraise\u001b[39;00m \u001b[38;5;167;01mValueError\u001b[39;00m(\u001b[38;5;124m\"\u001b[39m\u001b[38;5;124mNo objects to concatenate\u001b[39m\u001b[38;5;124m\"\u001b[39m)\n\u001b[1;32m    431\u001b[0m \u001b[38;5;28;01mif\u001b[39;00m keys \u001b[38;5;129;01mis\u001b[39;00m \u001b[38;5;28;01mNone\u001b[39;00m:\n\u001b[1;32m    432\u001b[0m     objs \u001b[38;5;241m=\u001b[39m \u001b[38;5;28mlist\u001b[39m(com\u001b[38;5;241m.\u001b[39mnot_none(\u001b[38;5;241m*\u001b[39mobjs))\n",
      "\u001b[0;31mValueError\u001b[0m: No objects to concatenate"
     ]
    }
   ],
   "source": [
    "df_results = []\n",
    "for label in selected_labels:\n",
    "    print(f'Processing : {label}')\n",
    "    y = df_ml[label]\n",
    "    y_label = y[y.notna()]\n",
    "    X_label = X[y_label.index]\n",
    "    scores = cross_validate(logreg, X_label, y_label, cv=cv,\n",
    "                        scoring=('accuracy','f1','recall','roc_auc'))    \n",
    "    df_scores=pd.DataFrame(scores)\n",
    "    df_means = pd.DataFrame(df_scores.describe().loc['mean'],columns=[label])\n",
    "    #df_results = df_results.append(df_means)\n",
    "    print(df_scores)\n",
    "pd.concat(df_results)"
   ]
  },
  {
   "cell_type": "code",
   "execution_count": 108,
   "id": "fed0b0eb",
   "metadata": {},
   "outputs": [
    {
     "data": {
      "text/plain": [
       "fit_time         0.3050\n",
       "score_time       0.0024\n",
       "test_accuracy    0.6970\n",
       "test_f1          0.3361\n",
       "test_recall      0.2444\n",
       "test_roc_auc     0.7249\n",
       "Name: mean, dtype: float64"
      ]
     },
     "execution_count": 108,
     "metadata": {},
     "output_type": "execute_result"
    }
   ],
   "source": [
    "df_scores.describe().loc['mean']"
   ]
  },
  {
   "cell_type": "code",
   "execution_count": 109,
   "id": "732a7946",
   "metadata": {},
   "outputs": [
    {
     "data": {
      "text/html": [
       "<div>\n",
       "<style scoped>\n",
       "    .dataframe tbody tr th:only-of-type {\n",
       "        vertical-align: middle;\n",
       "    }\n",
       "\n",
       "    .dataframe tbody tr th {\n",
       "        vertical-align: top;\n",
       "    }\n",
       "\n",
       "    .dataframe thead th {\n",
       "        text-align: right;\n",
       "    }\n",
       "</style>\n",
       "<table border=\"1\" class=\"dataframe\">\n",
       "  <thead>\n",
       "    <tr style=\"text-align: right;\">\n",
       "      <th></th>\n",
       "      <th>mean</th>\n",
       "    </tr>\n",
       "  </thead>\n",
       "  <tbody>\n",
       "    <tr>\n",
       "      <th>fit_time</th>\n",
       "      <td>0.3050</td>\n",
       "    </tr>\n",
       "    <tr>\n",
       "      <th>score_time</th>\n",
       "      <td>0.0024</td>\n",
       "    </tr>\n",
       "    <tr>\n",
       "      <th>test_accuracy</th>\n",
       "      <td>0.6970</td>\n",
       "    </tr>\n",
       "    <tr>\n",
       "      <th>test_f1</th>\n",
       "      <td>0.3361</td>\n",
       "    </tr>\n",
       "    <tr>\n",
       "      <th>test_recall</th>\n",
       "      <td>0.2444</td>\n",
       "    </tr>\n",
       "    <tr>\n",
       "      <th>test_roc_auc</th>\n",
       "      <td>0.7249</td>\n",
       "    </tr>\n",
       "  </tbody>\n",
       "</table>\n",
       "</div>"
      ],
      "text/plain": [
       "                 mean\n",
       "fit_time       0.3050\n",
       "score_time     0.0024\n",
       "test_accuracy  0.6970\n",
       "test_f1        0.3361\n",
       "test_recall    0.2444\n",
       "test_roc_auc   0.7249"
      ]
     },
     "execution_count": 109,
     "metadata": {},
     "output_type": "execute_result"
    }
   ],
   "source": [
    "pd.DataFrame(df_scores.describe().loc['mean']).rename_axis(columns={'mean':})"
   ]
  },
  {
   "cell_type": "code",
   "execution_count": 86,
   "id": "5ef77ec1",
   "metadata": {},
   "outputs": [
    {
     "data": {
      "text/html": [
       "<div>\n",
       "<style scoped>\n",
       "    .dataframe tbody tr th:only-of-type {\n",
       "        vertical-align: middle;\n",
       "    }\n",
       "\n",
       "    .dataframe tbody tr th {\n",
       "        vertical-align: top;\n",
       "    }\n",
       "\n",
       "    .dataframe thead th {\n",
       "        text-align: right;\n",
       "    }\n",
       "</style>\n",
       "<table border=\"1\" class=\"dataframe\">\n",
       "  <thead>\n",
       "    <tr style=\"text-align: right;\">\n",
       "      <th></th>\n",
       "      <th>mean</th>\n",
       "    </tr>\n",
       "  </thead>\n",
       "  <tbody>\n",
       "    <tr>\n",
       "      <th>fit_time</th>\n",
       "      <td>0.1197</td>\n",
       "    </tr>\n",
       "    <tr>\n",
       "      <th>score_time</th>\n",
       "      <td>0.0024</td>\n",
       "    </tr>\n",
       "    <tr>\n",
       "      <th>test_accuracy</th>\n",
       "      <td>0.7478</td>\n",
       "    </tr>\n",
       "    <tr>\n",
       "      <th>test_f1</th>\n",
       "      <td>0.6531</td>\n",
       "    </tr>\n",
       "    <tr>\n",
       "      <th>test_recall</th>\n",
       "      <td>0.5821</td>\n",
       "    </tr>\n",
       "    <tr>\n",
       "      <th>test_roc_auc</th>\n",
       "      <td>0.8339</td>\n",
       "    </tr>\n",
       "  </tbody>\n",
       "</table>\n",
       "</div>"
      ],
      "text/plain": [
       "                 mean\n",
       "fit_time       0.1197\n",
       "score_time     0.0024\n",
       "test_accuracy  0.7478\n",
       "test_f1        0.6531\n",
       "test_recall    0.5821\n",
       "test_roc_auc   0.8339"
      ]
     },
     "execution_count": 86,
     "metadata": {},
     "output_type": "execute_result"
    }
   ],
   "source": [
    "df_scores=pd.DataFrame(scores)\n",
    "#df_means = pd.DataFrame(df_scores.describe().loc[['mean','std']])\n",
    "df_means = pd.DataFrame(df_scores.describe().loc['mean'])\n",
    "\n",
    "pd.set_option('display.precision',4)\n",
    "df_results = df_means\n",
    "df_results"
   ]
  },
  {
   "cell_type": "code",
   "execution_count": null,
   "id": "c06cd973",
   "metadata": {},
   "outputs": [],
   "source": []
  },
  {
   "cell_type": "code",
   "execution_count": 27,
   "id": "4f21c869",
   "metadata": {},
   "outputs": [
    {
     "data": {
      "image/png": "[encoded data removed]",
      "text/plain": [
       "<Figure size 800x600 with 1 Axes>"
      ]
     },
     "metadata": {},
     "output_type": "display_data"
    }
   ],
   "source": [
    "from matplotlib import pyplot as plt\n",
    "import seaborn as sns\n",
    "plt.figure(figsize=(8,6))\n",
    "ax = sns.barplot(df_results.T)"
   ]
  },
  {
   "cell_type": "code",
   "execution_count": 28,
   "id": "ff8ad38c",
   "metadata": {},
   "outputs": [
    {
     "data": {
      "text/plain": [
       "<Figure size 800x600 with 0 Axes>"
      ]
     },
     "metadata": {},
     "output_type": "display_data"
    },
    {
     "data": {
      "image/png": "[encoded data removed]",
      "text/plain": [
       "<Figure size 500x500 with 1 Axes>"
      ]
     },
     "metadata": {},
     "output_type": "display_data"
    }
   ],
   "source": [
    "from matplotlib import pyplot as plt\n",
    "import seaborn as sns\n",
    "plt.figure(figsize=(8,6))\n",
    "ax = sns.catplot(df_scores[['test_accuracy','test_f1','test_recall','test_roc_auc']])"
   ]
  },
  {
   "cell_type": "markdown",
   "id": "22675d2a",
   "metadata": {},
   "source": [
    "### Pipeline"
   ]
  },
  {
   "cell_type": "code",
   "execution_count": null,
   "id": "25c15c41",
   "metadata": {},
   "outputs": [],
   "source": [
    "from sklearn.pipeline import Pipeline"
   ]
  },
  {
   "cell_type": "code",
   "execution_count": 46,
   "id": "5f3b4524",
   "metadata": {},
   "outputs": [
    {
     "data": {
      "text/html": [
       "<div>\n",
       "<style scoped>\n",
       "    .dataframe tbody tr th:only-of-type {\n",
       "        vertical-align: middle;\n",
       "    }\n",
       "\n",
       "    .dataframe tbody tr th {\n",
       "        vertical-align: top;\n",
       "    }\n",
       "\n",
       "    .dataframe thead th {\n",
       "        text-align: right;\n",
       "    }\n",
       "</style>\n",
       "<table border=\"1\" class=\"dataframe\">\n",
       "  <thead>\n",
       "    <tr style=\"text-align: right;\">\n",
       "      <th></th>\n",
       "      <th>text</th>\n",
       "      <th>infox</th>\n",
       "    </tr>\n",
       "  </thead>\n",
       "  <tbody>\n",
       "    <tr>\n",
       "      <th>609</th>\n",
       "      <td>Guerre en Ukraine: Emmanuel Macron prévient le...</td>\n",
       "      <td>0.0</td>\n",
       "    </tr>\n",
       "    <tr>\n",
       "      <th>705</th>\n",
       "      <td>La vaccination Covid : un marquage de « type b...</td>\n",
       "      <td>0.0</td>\n",
       "    </tr>\n",
       "    <tr>\n",
       "      <th>26</th>\n",
       "      <td>Colonialisme énergétique\\nVisite d’État du pré...</td>\n",
       "      <td>0.0</td>\n",
       "    </tr>\n",
       "    <tr>\n",
       "      <th>565</th>\n",
       "      <td>De l’importance d’une Assemblée vraiment natio...</td>\n",
       "      <td>0.0</td>\n",
       "    </tr>\n",
       "    <tr>\n",
       "      <th>231</th>\n",
       "      <td>Quelle politique migratoire pour la France ? –...</td>\n",
       "      <td>0.0</td>\n",
       "    </tr>\n",
       "    <tr>\n",
       "      <th>...</th>\n",
       "      <td>...</td>\n",
       "      <td>...</td>\n",
       "    </tr>\n",
       "    <tr>\n",
       "      <th>112</th>\n",
       "      <td>Des scientifiques de Harvard et de Johns Hopki...</td>\n",
       "      <td>1.0</td>\n",
       "    </tr>\n",
       "    <tr>\n",
       "      <th>157</th>\n",
       "      <td>L’armée russe achète des exemplaires d’armemen...</td>\n",
       "      <td>1.0</td>\n",
       "    </tr>\n",
       "    <tr>\n",
       "      <th>522</th>\n",
       "      <td>ONU – Le Premier ministre de Nouvelle-Zélande ...</td>\n",
       "      <td>1.0</td>\n",
       "    </tr>\n",
       "    <tr>\n",
       "      <th>847</th>\n",
       "      <td>Pandémie ou le retour du grand Pan\\nAu cours d...</td>\n",
       "      <td>1.0</td>\n",
       "    </tr>\n",
       "    <tr>\n",
       "      <th>151</th>\n",
       "      <td>Le président Trump dénonce la corruption de la...</td>\n",
       "      <td>1.0</td>\n",
       "    </tr>\n",
       "  </tbody>\n",
       "</table>\n",
       "<p>746 rows × 2 columns</p>\n",
       "</div>"
      ],
      "text/plain": [
       "                                                  text  infox\n",
       "609  Guerre en Ukraine: Emmanuel Macron prévient le...    0.0\n",
       "705  La vaccination Covid : un marquage de « type b...    0.0\n",
       "26   Colonialisme énergétique\\nVisite d’État du pré...    0.0\n",
       "565  De l’importance d’une Assemblée vraiment natio...    0.0\n",
       "231  Quelle politique migratoire pour la France ? –...    0.0\n",
       "..                                                 ...    ...\n",
       "112  Des scientifiques de Harvard et de Johns Hopki...    1.0\n",
       "157  L’armée russe achète des exemplaires d’armemen...    1.0\n",
       "522  ONU – Le Premier ministre de Nouvelle-Zélande ...    1.0\n",
       "847  Pandémie ou le retour du grand Pan\\nAu cours d...    1.0\n",
       "151  Le président Trump dénonce la corruption de la...    1.0\n",
       "\n",
       "[746 rows x 2 columns]"
      ]
     },
     "execution_count": 46,
     "metadata": {},
     "output_type": "execute_result"
    }
   ],
   "source": []
  },
  {
   "cell_type": "code",
   "execution_count": 44,
   "id": "45914086",
   "metadata": {},
   "outputs": [
    {
     "data": {
      "text/html": [
       "<style>#sk-container-id-2 {color: black;background-color: white;}#sk-container-id-2 pre{padding: 0;}#sk-container-id-2 div.sk-toggleable {background-color: white;}#sk-container-id-2 label.sk-toggleable__label {cursor: pointer;display: block;width: 100%;margin-bottom: 0;padding: 0.3em;box-sizing: border-box;text-align: center;}#sk-container-id-2 label.sk-toggleable__label-arrow:before {content: \"▸\";float: left;margin-right: 0.25em;color: #696969;}#sk-container-id-2 label.sk-toggleable__label-arrow:hover:before {color: black;}#sk-container-id-2 div.sk-estimator:hover label.sk-toggleable__label-arrow:before {color: black;}#sk-container-id-2 div.sk-toggleable__content {max-height: 0;max-width: 0;overflow: hidden;text-align: left;background-color: #f0f8ff;}#sk-container-id-2 div.sk-toggleable__content pre {margin: 0.2em;color: black;border-radius: 0.25em;background-color: #f0f8ff;}#sk-container-id-2 input.sk-toggleable__control:checked~div.sk-toggleable__content {max-height: 200px;max-width: 100%;overflow: auto;}#sk-container-id-2 input.sk-toggleable__control:checked~label.sk-toggleable__label-arrow:before {content: \"▾\";}#sk-container-id-2 div.sk-estimator input.sk-toggleable__control:checked~label.sk-toggleable__label {background-color: #d4ebff;}#sk-container-id-2 div.sk-label input.sk-toggleable__control:checked~label.sk-toggleable__label {background-color: #d4ebff;}#sk-container-id-2 input.sk-hidden--visually {border: 0;clip: rect(1px 1px 1px 1px);clip: rect(1px, 1px, 1px, 1px);height: 1px;margin: -1px;overflow: hidden;padding: 0;position: absolute;width: 1px;}#sk-container-id-2 div.sk-estimator {font-family: monospace;background-color: #f0f8ff;border: 1px dotted black;border-radius: 0.25em;box-sizing: border-box;margin-bottom: 0.5em;}#sk-container-id-2 div.sk-estimator:hover {background-color: #d4ebff;}#sk-container-id-2 div.sk-parallel-item::after {content: \"\";width: 100%;border-bottom: 1px solid gray;flex-grow: 1;}#sk-container-id-2 div.sk-label:hover label.sk-toggleable__label {background-color: #d4ebff;}#sk-container-id-2 div.sk-serial::before {content: \"\";position: absolute;border-left: 1px solid gray;box-sizing: border-box;top: 0;bottom: 0;left: 50%;z-index: 0;}#sk-container-id-2 div.sk-serial {display: flex;flex-direction: column;align-items: center;background-color: white;padding-right: 0.2em;padding-left: 0.2em;position: relative;}#sk-container-id-2 div.sk-item {position: relative;z-index: 1;}#sk-container-id-2 div.sk-parallel {display: flex;align-items: stretch;justify-content: center;background-color: white;position: relative;}#sk-container-id-2 div.sk-item::before, #sk-container-id-2 div.sk-parallel-item::before {content: \"\";position: absolute;border-left: 1px solid gray;box-sizing: border-box;top: 0;bottom: 0;left: 50%;z-index: -1;}#sk-container-id-2 div.sk-parallel-item {display: flex;flex-direction: column;z-index: 1;position: relative;background-color: white;}#sk-container-id-2 div.sk-parallel-item:first-child::after {align-self: flex-end;width: 50%;}#sk-container-id-2 div.sk-parallel-item:last-child::after {align-self: flex-start;width: 50%;}#sk-container-id-2 div.sk-parallel-item:only-child::after {width: 0;}#sk-container-id-2 div.sk-dashed-wrapped {border: 1px dashed gray;margin: 0 0.4em 0.5em 0.4em;box-sizing: border-box;padding-bottom: 0.4em;background-color: white;}#sk-container-id-2 div.sk-label label {font-family: monospace;font-weight: bold;display: inline-block;line-height: 1.2em;}#sk-container-id-2 div.sk-label-container {text-align: center;}#sk-container-id-2 div.sk-container {/* jupyter's `normalize.less` sets `[hidden] { display: none; }` but bootstrap.min.css set `[hidden] { display: none !important; }` so we also need the `!important` here to be able to override the default hidden behavior on the sphinx rendered scikit-learn.org. See: https://github.com/scikit-learn/scikit-learn/issues/21755 */display: inline-block !important;position: relative;}#sk-container-id-2 div.sk-text-repr-fallback {display: none;}</style><div id=\"sk-container-id-2\" class=\"sk-top-container\"><div class=\"sk-text-repr-fallback\"><pre>Pipeline(steps=[(&#x27;vectorizer&#x27;,\n",
       "                 TfidfVectorizer(stop_words=[&#x27;de&#x27;, &#x27;la&#x27;, &#x27;le&#x27;, &#x27;et&#x27;, &#x27;les&#x27;,\n",
       "                                             &#x27;des&#x27;, &#x27;en&#x27;, &#x27;un&#x27;, &#x27;est&#x27;, &#x27;que&#x27;,\n",
       "                                             &#x27;du&#x27;, &#x27;une&#x27;, &#x27;pour&#x27;, &#x27;qui&#x27;, &#x27;dans&#x27;,\n",
       "                                             &#x27;il&#x27;, &#x27;par&#x27;, &#x27;pas&#x27;, &#x27;sur&#x27;, &#x27;ce&#x27;,\n",
       "                                             &#x27;plus&#x27;, &#x27;au&#x27;, &#x27;qu&#x27;, &#x27;ont&#x27;, &#x27;ne&#x27;,\n",
       "                                             &#x27;sont&#x27;, &#x27;avec&#x27;, &#x27;été&#x27;, &#x27;se&#x27;,\n",
       "                                             &#x27;nous&#x27;, ...])),\n",
       "                (&#x27;classifier&#x27;,\n",
       "                 LogisticRegression(C=150, max_iter=1000, multi_class=&#x27;ovr&#x27;,\n",
       "                                    random_state=42))])</pre><b>In a Jupyter environment, please rerun this cell to show the HTML representation or trust the notebook. <br />On GitHub, the HTML representation is unable to render, please try loading this page with nbviewer.org.</b></div><div class=\"sk-container\" hidden><div class=\"sk-item sk-dashed-wrapped\"><div class=\"sk-label-container\"><div class=\"sk-label sk-toggleable\"><input class=\"sk-toggleable__control sk-hidden--visually\" id=\"sk-estimator-id-4\" type=\"checkbox\" ><label for=\"sk-estimator-id-4\" class=\"sk-toggleable__label sk-toggleable__label-arrow\">Pipeline</label><div class=\"sk-toggleable__content\"><pre>Pipeline(steps=[(&#x27;vectorizer&#x27;,\n",
       "                 TfidfVectorizer(stop_words=[&#x27;de&#x27;, &#x27;la&#x27;, &#x27;le&#x27;, &#x27;et&#x27;, &#x27;les&#x27;,\n",
       "                                             &#x27;des&#x27;, &#x27;en&#x27;, &#x27;un&#x27;, &#x27;est&#x27;, &#x27;que&#x27;,\n",
       "                                             &#x27;du&#x27;, &#x27;une&#x27;, &#x27;pour&#x27;, &#x27;qui&#x27;, &#x27;dans&#x27;,\n",
       "                                             &#x27;il&#x27;, &#x27;par&#x27;, &#x27;pas&#x27;, &#x27;sur&#x27;, &#x27;ce&#x27;,\n",
       "                                             &#x27;plus&#x27;, &#x27;au&#x27;, &#x27;qu&#x27;, &#x27;ont&#x27;, &#x27;ne&#x27;,\n",
       "                                             &#x27;sont&#x27;, &#x27;avec&#x27;, &#x27;été&#x27;, &#x27;se&#x27;,\n",
       "                                             &#x27;nous&#x27;, ...])),\n",
       "                (&#x27;classifier&#x27;,\n",
       "                 LogisticRegression(C=150, max_iter=1000, multi_class=&#x27;ovr&#x27;,\n",
       "                                    random_state=42))])</pre></div></div></div><div class=\"sk-serial\"><div class=\"sk-item\"><div class=\"sk-estimator sk-toggleable\"><input class=\"sk-toggleable__control sk-hidden--visually\" id=\"sk-estimator-id-5\" type=\"checkbox\" ><label for=\"sk-estimator-id-5\" class=\"sk-toggleable__label sk-toggleable__label-arrow\">TfidfVectorizer</label><div class=\"sk-toggleable__content\"><pre>TfidfVectorizer(stop_words=[&#x27;de&#x27;, &#x27;la&#x27;, &#x27;le&#x27;, &#x27;et&#x27;, &#x27;les&#x27;, &#x27;des&#x27;, &#x27;en&#x27;, &#x27;un&#x27;,\n",
       "                            &#x27;est&#x27;, &#x27;que&#x27;, &#x27;du&#x27;, &#x27;une&#x27;, &#x27;pour&#x27;, &#x27;qui&#x27;, &#x27;dans&#x27;,\n",
       "                            &#x27;il&#x27;, &#x27;par&#x27;, &#x27;pas&#x27;, &#x27;sur&#x27;, &#x27;ce&#x27;, &#x27;plus&#x27;, &#x27;au&#x27;, &#x27;qu&#x27;,\n",
       "                            &#x27;ont&#x27;, &#x27;ne&#x27;, &#x27;sont&#x27;, &#x27;avec&#x27;, &#x27;été&#x27;, &#x27;se&#x27;, &#x27;nous&#x27;, ...])</pre></div></div></div><div class=\"sk-item\"><div class=\"sk-estimator sk-toggleable\"><input class=\"sk-toggleable__control sk-hidden--visually\" id=\"sk-estimator-id-6\" type=\"checkbox\" ><label for=\"sk-estimator-id-6\" class=\"sk-toggleable__label sk-toggleable__label-arrow\">LogisticRegression</label><div class=\"sk-toggleable__content\"><pre>LogisticRegression(C=150, max_iter=1000, multi_class=&#x27;ovr&#x27;, random_state=42)</pre></div></div></div></div></div></div></div>"
      ],
      "text/plain": [
       "Pipeline(steps=[('vectorizer',\n",
       "                 TfidfVectorizer(stop_words=['de', 'la', 'le', 'et', 'les',\n",
       "                                             'des', 'en', 'un', 'est', 'que',\n",
       "                                             'du', 'une', 'pour', 'qui', 'dans',\n",
       "                                             'il', 'par', 'pas', 'sur', 'ce',\n",
       "                                             'plus', 'au', 'qu', 'ont', 'ne',\n",
       "                                             'sont', 'avec', 'été', 'se',\n",
       "                                             'nous', ...])),\n",
       "                ('classifier',\n",
       "                 LogisticRegression(C=150, max_iter=1000, multi_class='ovr',\n",
       "                                    random_state=42))])"
      ]
     },
     "execution_count": 44,
     "metadata": {},
     "output_type": "execute_result"
    }
   ],
   "source": [
    "predictor_pipe = Pipeline(steps = [\n",
    "    ('vectorizer',vectorizer), \n",
    "    ('classifier',logreg)\n",
    "                  ])\n",
    "predictor_pipe.fit(df_ml['text'], y)"
   ]
  },
  {
   "cell_type": "code",
   "execution_count": null,
   "id": "cb590999",
   "metadata": {},
   "outputs": [],
   "source": []
  }
 ],
 "metadata": {
  "kernelspec": {
   "display_name": "Python 3 (ipykernel)",
   "language": "python",
   "name": "python3"
  },
  "language_info": {
   "codemirror_mode": {
    "name": "ipython",
    "version": 3
   },
   "file_extension": ".py",
   "mimetype": "text/x-python",
   "name": "python",
   "nbconvert_exporter": "python",
   "pygments_lexer": "ipython3",
   "version": "3.10.11"
  }
 },
 "nbformat": 4,
 "nbformat_minor": 5
}
