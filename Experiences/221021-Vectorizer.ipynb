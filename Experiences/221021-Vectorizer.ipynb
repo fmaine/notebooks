{
 "cells": [
  {
   "cell_type": "markdown",
   "id": "e3ec4689",
   "metadata": {},
   "source": [
    "# Plateforme Agnostique de Traitement et d'Analyse des Textes\n",
    "### Carnet d'expérimentation\n",
    "---\n",
    "\n",
    "## Sujet : Utilisation des Vectorizer sklearn pour ignore words.\n",
    "\n",
    "---"
   ]
  },
  {
   "cell_type": "markdown",
   "id": "2601e626",
   "metadata": {},
   "source": [
    "## Observations et environnement\n",
    "---"
   ]
  },
  {
   "cell_type": "code",
   "execution_count": 1,
   "id": "5d0de4d7",
   "metadata": {},
   "outputs": [
    {
     "name": "stdout",
     "output_type": "stream",
     "text": [
      "/Users/fm/Desktop/Work/Patat\n"
     ]
    }
   ],
   "source": [
    "cd ../.."
   ]
  },
  {
   "cell_type": "code",
   "execution_count": 2,
   "id": "32256b0d",
   "metadata": {},
   "outputs": [],
   "source": [
    "import importlib\n",
    "import pandas as pd\n",
    "import seaborn as sns"
   ]
  },
  {
   "cell_type": "markdown",
   "id": "29618668",
   "metadata": {},
   "source": [
    "### Chargement des données"
   ]
  },
  {
   "cell_type": "code",
   "execution_count": 3,
   "id": "2f80b2c0",
   "metadata": {},
   "outputs": [],
   "source": [
    "article_filename = ''"
   ]
  },
  {
   "cell_type": "code",
   "execution_count": 4,
   "id": "05cde00c",
   "metadata": {},
   "outputs": [
    {
     "data": {
      "text/html": [
       "<div>\n",
       "<style scoped>\n",
       "    .dataframe tbody tr th:only-of-type {\n",
       "        vertical-align: middle;\n",
       "    }\n",
       "\n",
       "    .dataframe tbody tr th {\n",
       "        vertical-align: top;\n",
       "    }\n",
       "\n",
       "    .dataframe thead th {\n",
       "        text-align: right;\n",
       "    }\n",
       "</style>\n",
       "<table border=\"1\" class=\"dataframe\">\n",
       "  <thead>\n",
       "    <tr style=\"text-align: right;\">\n",
       "      <th></th>\n",
       "      <th>url</th>\n",
       "      <th>title</th>\n",
       "      <th>article</th>\n",
       "      <th>site</th>\n",
       "      <th>author</th>\n",
       "      <th>date_iso</th>\n",
       "      <th>url_h</th>\n",
       "      <th>c_count</th>\n",
       "    </tr>\n",
       "  </thead>\n",
       "  <tbody>\n",
       "    <tr>\n",
       "      <th>0</th>\n",
       "      <td>https://reseauinternational.net/tous-les-jeune...</td>\n",
       "      <td>Tous les jeunes, portez la nouvelle (russe)</td>\n",
       "      <td>par Pepe Escobar.\\nL’OCS à Samarcande et l’Ass...</td>\n",
       "      <td>reseauinternational.net</td>\n",
       "      <td>NaN</td>\n",
       "      <td>2022-09-30T00:00:00</td>\n",
       "      <td>f95a294c94ff76cc9626ae06300a8b38067f89cf</td>\n",
       "      <td>10366.0</td>\n",
       "    </tr>\n",
       "    <tr>\n",
       "      <th>1</th>\n",
       "      <td>https://reseauinternational.net/adhesion-a-la-...</td>\n",
       "      <td>Adhésion à la Russie : 93% pour le « oui » dan...</td>\n",
       "      <td>Dans les régions de Zaporijia et de Kherson, 9...</td>\n",
       "      <td>reseauinternational.net</td>\n",
       "      <td>NaN</td>\n",
       "      <td>2022-09-30T00:00:00</td>\n",
       "      <td>c924dab7ded47578d81c3ae46f8be0964b3c50f1</td>\n",
       "      <td>1607.0</td>\n",
       "    </tr>\n",
       "    <tr>\n",
       "      <th>2</th>\n",
       "      <td>https://lemediaen442.fr/onu-le-premier-ministr...</td>\n",
       "      <td>ONU – Le Premier ministre de Nouvelle-Zélande ...</td>\n",
       "      <td>L’argument principal de la ministre est que le...</td>\n",
       "      <td>lemediaen442.fr</td>\n",
       "      <td>NaN</td>\n",
       "      <td>2022-09-29T00:00:00</td>\n",
       "      <td>3d47a59ef99274fd9ee96c209cc2ab41d6e1f6bb</td>\n",
       "      <td>1444.0</td>\n",
       "    </tr>\n",
       "    <tr>\n",
       "      <th>3</th>\n",
       "      <td>https://www.francesoir.fr/societe-environnemen...</td>\n",
       "      <td>Compostage humain: les “funérailles vertes” ga...</td>\n",
       "      <td>Aux États-Unis, les différents gouvernements r...</td>\n",
       "      <td>www.francesoir.fr</td>\n",
       "      <td>Auteur(s)\\nFranceSoir</td>\n",
       "      <td>2022-09-28T13:15:00</td>\n",
       "      <td>0c0341a1f5fae820ee307cb54024df6b06a93d85</td>\n",
       "      <td>4040.0</td>\n",
       "    </tr>\n",
       "    <tr>\n",
       "      <th>4</th>\n",
       "      <td>https://www.breizh-info.com/2022/09/27/208410/...</td>\n",
       "      <td>Donatello : génie de la Renaissance</td>\n",
       "      <td>Portrait du sculpteur Donatello (1386-1466), p...</td>\n",
       "      <td>www.breizh-info.com</td>\n",
       "      <td>NaN</td>\n",
       "      <td>2022-09-27T00:00:00</td>\n",
       "      <td>fcce819327d0302c4cf5e3a8a43b54327ffb8e63</td>\n",
       "      <td>1145.0</td>\n",
       "    </tr>\n",
       "    <tr>\n",
       "      <th>...</th>\n",
       "      <td>...</td>\n",
       "      <td>...</td>\n",
       "      <td>...</td>\n",
       "      <td>...</td>\n",
       "      <td>...</td>\n",
       "      <td>...</td>\n",
       "      <td>...</td>\n",
       "      <td>...</td>\n",
       "    </tr>\n",
       "    <tr>\n",
       "      <th>77906</th>\n",
       "      <td>https://www.lelibrepenseur.org/une-histoire-vi...</td>\n",
       "      <td>Une histoire vieille comme le monde !</td>\n",
       "      <td>Certains veulent des preuves ! Ils ont raison....</td>\n",
       "      <td>www.lelibrepenseur.org</td>\n",
       "      <td>Par\\nAdmin</td>\n",
       "      <td>2010-05-04T00:00:00</td>\n",
       "      <td>8c7a6ecf46d47da1912884a0c0a2837c69f7ad19</td>\n",
       "      <td>NaN</td>\n",
       "    </tr>\n",
       "    <tr>\n",
       "      <th>77907</th>\n",
       "      <td>https://www.lelibrepenseur.org/actus/</td>\n",
       "      <td>Actus</td>\n",
       "      <td>Dernière vidéo !\\nIl était temps, enfin ! Je v...</td>\n",
       "      <td>www.lelibrepenseur.org</td>\n",
       "      <td>Par\\nuser</td>\n",
       "      <td>2007-07-07T00:00:00</td>\n",
       "      <td>d4d5a37a8ff545664bea75664c8d8695e70d0941</td>\n",
       "      <td>NaN</td>\n",
       "    </tr>\n",
       "    <tr>\n",
       "      <th>77908</th>\n",
       "      <td>https://www.lelibrepenseur.org/affiche-des-dec...</td>\n",
       "      <td>Affiche des décès et malaises de sportifs de h...</td>\n",
       "      <td>Un nombre inquiétant de sportifs de haut nivea...</td>\n",
       "      <td>www.lelibrepenseur.org</td>\n",
       "      <td>NaN</td>\n",
       "      <td>NaN</td>\n",
       "      <td>a175027896cf79e76dfad6409694fafacf1919b3</td>\n",
       "      <td>NaN</td>\n",
       "    </tr>\n",
       "    <tr>\n",
       "      <th>77909</th>\n",
       "      <td>https://www.lelibrepenseur.org/communaute/</td>\n",
       "      <td>Communauté</td>\n",
       "      <td>Notre Réseau Telegram et ses Groupes Secondair...</td>\n",
       "      <td>www.lelibrepenseur.org</td>\n",
       "      <td>NaN</td>\n",
       "      <td>NaN</td>\n",
       "      <td>6ba257c7b15dd68cadf7dc5d6d8c584db0f1792e</td>\n",
       "      <td>NaN</td>\n",
       "    </tr>\n",
       "    <tr>\n",
       "      <th>77910</th>\n",
       "      <td>https://www.lelibrepenseur.org/utilisation-des...</td>\n",
       "      <td>Utilisation des cookies sur notre site</td>\n",
       "      <td>Que sont les cookies ?\\n\\n\\nLes cookies sont d...</td>\n",
       "      <td>www.lelibrepenseur.org</td>\n",
       "      <td>NaN</td>\n",
       "      <td>NaN</td>\n",
       "      <td>7c725113f0c9a95c8269c8d7a271d253ae5ede99</td>\n",
       "      <td>NaN</td>\n",
       "    </tr>\n",
       "  </tbody>\n",
       "</table>\n",
       "<p>77911 rows × 8 columns</p>\n",
       "</div>"
      ],
      "text/plain": [
       "                                                     url  \\\n",
       "0      https://reseauinternational.net/tous-les-jeune...   \n",
       "1      https://reseauinternational.net/adhesion-a-la-...   \n",
       "2      https://lemediaen442.fr/onu-le-premier-ministr...   \n",
       "3      https://www.francesoir.fr/societe-environnemen...   \n",
       "4      https://www.breizh-info.com/2022/09/27/208410/...   \n",
       "...                                                  ...   \n",
       "77906  https://www.lelibrepenseur.org/une-histoire-vi...   \n",
       "77907              https://www.lelibrepenseur.org/actus/   \n",
       "77908  https://www.lelibrepenseur.org/affiche-des-dec...   \n",
       "77909         https://www.lelibrepenseur.org/communaute/   \n",
       "77910  https://www.lelibrepenseur.org/utilisation-des...   \n",
       "\n",
       "                                                   title  \\\n",
       "0            Tous les jeunes, portez la nouvelle (russe)   \n",
       "1      Adhésion à la Russie : 93% pour le « oui » dan...   \n",
       "2      ONU – Le Premier ministre de Nouvelle-Zélande ...   \n",
       "3      Compostage humain: les “funérailles vertes” ga...   \n",
       "4                    Donatello : génie de la Renaissance   \n",
       "...                                                  ...   \n",
       "77906              Une histoire vieille comme le monde !   \n",
       "77907                                              Actus   \n",
       "77908  Affiche des décès et malaises de sportifs de h...   \n",
       "77909                                         Communauté   \n",
       "77910             Utilisation des cookies sur notre site   \n",
       "\n",
       "                                                 article  \\\n",
       "0      par Pepe Escobar.\\nL’OCS à Samarcande et l’Ass...   \n",
       "1      Dans les régions de Zaporijia et de Kherson, 9...   \n",
       "2      L’argument principal de la ministre est que le...   \n",
       "3      Aux États-Unis, les différents gouvernements r...   \n",
       "4      Portrait du sculpteur Donatello (1386-1466), p...   \n",
       "...                                                  ...   \n",
       "77906  Certains veulent des preuves ! Ils ont raison....   \n",
       "77907  Dernière vidéo !\\nIl était temps, enfin ! Je v...   \n",
       "77908  Un nombre inquiétant de sportifs de haut nivea...   \n",
       "77909  Notre Réseau Telegram et ses Groupes Secondair...   \n",
       "77910  Que sont les cookies ?\\n\\n\\nLes cookies sont d...   \n",
       "\n",
       "                          site                 author             date_iso  \\\n",
       "0      reseauinternational.net                    NaN  2022-09-30T00:00:00   \n",
       "1      reseauinternational.net                    NaN  2022-09-30T00:00:00   \n",
       "2              lemediaen442.fr                    NaN  2022-09-29T00:00:00   \n",
       "3            www.francesoir.fr  Auteur(s)\\nFranceSoir  2022-09-28T13:15:00   \n",
       "4          www.breizh-info.com                    NaN  2022-09-27T00:00:00   \n",
       "...                        ...                    ...                  ...   \n",
       "77906   www.lelibrepenseur.org             Par\\nAdmin  2010-05-04T00:00:00   \n",
       "77907   www.lelibrepenseur.org              Par\\nuser  2007-07-07T00:00:00   \n",
       "77908   www.lelibrepenseur.org                    NaN                  NaN   \n",
       "77909   www.lelibrepenseur.org                    NaN                  NaN   \n",
       "77910   www.lelibrepenseur.org                    NaN                  NaN   \n",
       "\n",
       "                                          url_h  c_count  \n",
       "0      f95a294c94ff76cc9626ae06300a8b38067f89cf  10366.0  \n",
       "1      c924dab7ded47578d81c3ae46f8be0964b3c50f1   1607.0  \n",
       "2      3d47a59ef99274fd9ee96c209cc2ab41d6e1f6bb   1444.0  \n",
       "3      0c0341a1f5fae820ee307cb54024df6b06a93d85   4040.0  \n",
       "4      fcce819327d0302c4cf5e3a8a43b54327ffb8e63   1145.0  \n",
       "...                                         ...      ...  \n",
       "77906  8c7a6ecf46d47da1912884a0c0a2837c69f7ad19      NaN  \n",
       "77907  d4d5a37a8ff545664bea75664c8d8695e70d0941      NaN  \n",
       "77908  a175027896cf79e76dfad6409694fafacf1919b3      NaN  \n",
       "77909  6ba257c7b15dd68cadf7dc5d6d8c584db0f1792e      NaN  \n",
       "77910  7c725113f0c9a95c8269c8d7a271d253ae5ede99      NaN  \n",
       "\n",
       "[77911 rows x 8 columns]"
      ]
     },
     "execution_count": 4,
     "metadata": {},
     "output_type": "execute_result"
    }
   ],
   "source": [
    "import patat.db.article_db\n",
    "article_db = patat.db.article_db.ArticleDb(article_filename)\n",
    "article_db.df()"
   ]
  },
  {
   "cell_type": "code",
   "execution_count": null,
   "id": "a83254f2",
   "metadata": {},
   "outputs": [],
   "source": []
  },
  {
   "cell_type": "markdown",
   "id": "26de4d29",
   "metadata": {},
   "source": [
    "## Expérience\n",
    "---"
   ]
  },
  {
   "cell_type": "markdown",
   "id": "f29d6c3a",
   "metadata": {},
   "source": [
    "### Réduction corpus"
   ]
  },
  {
   "cell_type": "code",
   "execution_count": 5,
   "id": "cbf49d63",
   "metadata": {},
   "outputs": [],
   "source": [
    "article_db._df['text'] = article_db._df['title'] + '\\n' + article_db._df['article']"
   ]
  },
  {
   "cell_type": "code",
   "execution_count": 6,
   "id": "bee9c73e",
   "metadata": {},
   "outputs": [],
   "source": [
    "import patat.util.text"
   ]
  },
  {
   "cell_type": "code",
   "execution_count": 7,
   "id": "54b8bae1",
   "metadata": {},
   "outputs": [],
   "source": [
    "# article_db._df['text'] = article_db._df['text'].apply(patat.util.text.get_latin)"
   ]
  },
  {
   "cell_type": "code",
   "execution_count": 8,
   "id": "15b4cd0b",
   "metadata": {},
   "outputs": [],
   "source": [
    "df_light = article_db.df()"
   ]
  },
  {
   "cell_type": "code",
   "execution_count": 9,
   "id": "92e7a119",
   "metadata": {},
   "outputs": [],
   "source": [
    "df_light = df_light[df_light['c_count']<20_000]"
   ]
  },
  {
   "cell_type": "code",
   "execution_count": 12,
   "id": "09548045",
   "metadata": {},
   "outputs": [],
   "source": [
    "df_light = article_db.df().sample(10_000, random_state=42)"
   ]
  },
  {
   "cell_type": "code",
   "execution_count": 11,
   "id": "27a1fa04",
   "metadata": {},
   "outputs": [],
   "source": [
    "df_light = article_db.df()"
   ]
  },
  {
   "cell_type": "markdown",
   "id": "cae03ad6",
   "metadata": {},
   "source": [
    "### Preprocessor"
   ]
  },
  {
   "cell_type": "code",
   "execution_count": 13,
   "id": "826d4feb",
   "metadata": {},
   "outputs": [],
   "source": [
    "import patat.util.text\n",
    "preprocessor = patat.util.text.get_latin\n",
    "#preprocessor=None"
   ]
  },
  {
   "cell_type": "markdown",
   "id": "5c510923",
   "metadata": {},
   "source": [
    "### Tokenizer"
   ]
  },
  {
   "cell_type": "code",
   "execution_count": 14,
   "id": "54b40586",
   "metadata": {},
   "outputs": [],
   "source": [
    "from nltk.tokenize import word_tokenize, wordpunct_tokenize, sent_tokenize\n",
    "from patat.ml.lex_analyser import LexAnalyser"
   ]
  },
  {
   "cell_type": "code",
   "execution_count": 15,
   "id": "2f81298d",
   "metadata": {},
   "outputs": [],
   "source": [
    "lex = LexAnalyser()"
   ]
  },
  {
   "cell_type": "code",
   "execution_count": 16,
   "id": "9a685e44",
   "metadata": {},
   "outputs": [],
   "source": [
    "def toklematize(text):\n",
    "    tokens = lex.get_lemmas_from_text(text)\n",
    "    return tokens   "
   ]
  },
  {
   "cell_type": "code",
   "execution_count": 17,
   "id": "56a7f4ae",
   "metadata": {},
   "outputs": [],
   "source": [
    "tokenizer = toklematize\n",
    "#tokenizer = word_tokenize\n",
    "#tokenizer = lex.get_words\n"
   ]
  },
  {
   "cell_type": "markdown",
   "id": "1a8c2438",
   "metadata": {},
   "source": [
    "### CountVectorizer"
   ]
  },
  {
   "cell_type": "code",
   "execution_count": 18,
   "id": "150b6a86",
   "metadata": {},
   "outputs": [],
   "source": [
    "from sklearn.feature_extraction.text import CountVectorizer"
   ]
  },
  {
   "cell_type": "code",
   "execution_count": 38,
   "id": "e6a2fe9e",
   "metadata": {},
   "outputs": [
    {
     "name": "stdout",
     "output_type": "stream",
     "text": [
      "CPU times: user 3.68 s, sys: 574 ms, total: 4.26 s\n",
      "Wall time: 4.36 s\n"
     ]
    },
    {
     "data": {
      "text/plain": [
       "(10000, 105548)"
      ]
     },
     "execution_count": 38,
     "metadata": {},
     "output_type": "execute_result"
    }
   ],
   "source": [
    "%%time\n",
    "vectorizer = CountVectorizer(lowercase=True, preprocessor=preprocessor, tokenizer=tokenizer)\n",
    "#vectorizer = CountVectorizer(lowercase=True,token_pattern=r'[^_\\d\\W][^_\\d\\W]+')\n",
    "count_matrix = vectorizer.fit_transform(df_light['text'])\n",
    "count_array = count_matrix.toarray()\n",
    "df_count = pd.DataFrame(data=count_array,columns = vectorizer.get_feature_names_out())\n",
    "df_count.shape"
   ]
  },
  {
   "cell_type": "code",
   "execution_count": 41,
   "id": "ec9cfa11",
   "metadata": {},
   "outputs": [
    {
     "name": "stdout",
     "output_type": "stream",
     "text": [
      "CPU times: user 469 ms, sys: 41.1 ms, total: 510 ms\n",
      "Wall time: 505 ms\n"
     ]
    },
    {
     "data": {
      "text/plain": [
       "(85273, 1)"
      ]
     },
     "execution_count": 41,
     "metadata": {},
     "output_type": "execute_result"
    }
   ],
   "source": [
    "%%time\n",
    "occ_rares = 10\n",
    "df_count_sum = pd.DataFrame(df_count.sum())\n",
    "df_count_sum[df_count_sum[0]<occ_rares].shape"
   ]
  },
  {
   "cell_type": "code",
   "execution_count": 42,
   "id": "3206a315",
   "metadata": {},
   "outputs": [
    {
     "data": {
      "text/plain": [
       "19188"
      ]
     },
     "execution_count": 42,
     "metadata": {},
     "output_type": "execute_result"
    }
   ],
   "source": [
    "keep_words = df_count_sum[df_count_sum[0]>occ_rares].index\n",
    "len(keep_words)"
   ]
  },
  {
   "cell_type": "code",
   "execution_count": 46,
   "id": "bde05c93",
   "metadata": {},
   "outputs": [
    {
     "data": {
      "text/plain": [
       "Index(['aa', 'aah', 'aaron', 'ab', 'abad', 'abaissement', 'abaisser',\n",
       "       'abandon', 'abandonner', 'abasourdi',\n",
       "       ...\n",
       "       'ôter', 'œcuménique', 'œil', 'œillères', 'œsophage', 'œuf', 'œufs',\n",
       "       'œuvre', 'œuvrer', 'œuvres'],\n",
       "      dtype='object', length=19188)"
      ]
     },
     "execution_count": 46,
     "metadata": {},
     "output_type": "execute_result"
    }
   ],
   "source": [
    "keep_words"
   ]
  },
  {
   "cell_type": "markdown",
   "id": "e124e83b",
   "metadata": {},
   "source": [
    "### TfIdfVectorizer"
   ]
  },
  {
   "cell_type": "code",
   "execution_count": 43,
   "id": "896f46cf",
   "metadata": {},
   "outputs": [],
   "source": [
    "from sklearn.feature_extraction.text import TfidfVectorizer"
   ]
  },
  {
   "cell_type": "code",
   "execution_count": 47,
   "id": "e15dcce6",
   "metadata": {},
   "outputs": [
    {
     "name": "stdout",
     "output_type": "stream",
     "text": [
      "CPU times: user 3.68 s, sys: 694 ms, total: 4.38 s\n",
      "Wall time: 4.87 s\n"
     ]
    },
    {
     "data": {
      "text/plain": [
       "(10000, 105548)"
      ]
     },
     "execution_count": 47,
     "metadata": {},
     "output_type": "execute_result"
    }
   ],
   "source": [
    "%%time\n",
    "vectorizer = TfidfVectorizer(lowercase=True, preprocessor=preprocessor, tokenizer=tokenizer)\n",
    "#vectorizer = CountVectorizer(lowercase=True,token_pattern=r'[^_\\d\\W][^_\\d\\W]+')\n",
    "count_matrix = vectorizer.fit_transform(df_light['text'])\n",
    "count_array = count_matrix.toarray()\n",
    "df_tf = pd.DataFrame(data=count_array,columns = vectorizer.get_feature_names_out())\n",
    "df_tf.shape"
   ]
  },
  {
   "cell_type": "code",
   "execution_count": 50,
   "id": "649d6144",
   "metadata": {},
   "outputs": [
    {
     "name": "stdout",
     "output_type": "stream",
     "text": [
      "CPU times: user 1.52 s, sys: 121 ms, total: 1.64 s\n",
      "Wall time: 1.64 s\n"
     ]
    },
    {
     "data": {
      "text/plain": [
       "(20771, 1)"
      ]
     },
     "execution_count": 50,
     "metadata": {},
     "output_type": "execute_result"
    }
   ],
   "source": [
    "%%time\n",
    "occ_rares = 0.4\n",
    "df_tf_sum = pd.DataFrame(df_tf.sum())\n",
    "df_tf_sum[df_tf_sum[0]>occ_rares].shape"
   ]
  },
  {
   "cell_type": "code",
   "execution_count": 52,
   "id": "4746c8ae",
   "metadata": {},
   "outputs": [
    {
     "data": {
      "text/plain": [
       "20771"
      ]
     },
     "execution_count": 52,
     "metadata": {},
     "output_type": "execute_result"
    }
   ],
   "source": [
    "keep_words = df_tf_sum[df_tf_sum[0]>occ_rares].index\n",
    "len(keep_words)"
   ]
  },
  {
   "cell_type": "code",
   "execution_count": 53,
   "id": "d1308f14",
   "metadata": {},
   "outputs": [],
   "source": [
    "df = df_tf[keep_words]"
   ]
  },
  {
   "cell_type": "code",
   "execution_count": 54,
   "id": "1ae21511",
   "metadata": {},
   "outputs": [
    {
     "data": {
      "text/plain": [
       "20771"
      ]
     },
     "execution_count": 54,
     "metadata": {},
     "output_type": "execute_result"
    }
   ],
   "source": [
    "len(df.keys())"
   ]
  },
  {
   "cell_type": "code",
   "execution_count": 55,
   "id": "67cebe53",
   "metadata": {},
   "outputs": [
    {
     "data": {
      "text/html": [
       "<div>\n",
       "<style scoped>\n",
       "    .dataframe tbody tr th:only-of-type {\n",
       "        vertical-align: middle;\n",
       "    }\n",
       "\n",
       "    .dataframe tbody tr th {\n",
       "        vertical-align: top;\n",
       "    }\n",
       "\n",
       "    .dataframe thead th {\n",
       "        text-align: right;\n",
       "    }\n",
       "</style>\n",
       "<table border=\"1\" class=\"dataframe\">\n",
       "  <thead>\n",
       "    <tr style=\"text-align: right;\">\n",
       "      <th></th>\n",
       "      <th>aa</th>\n",
       "      <th>aah</th>\n",
       "      <th>aaron</th>\n",
       "      <th>ab</th>\n",
       "      <th>abad</th>\n",
       "      <th>abaissement</th>\n",
       "      <th>abaisser</th>\n",
       "      <th>abandon</th>\n",
       "      <th>abandonner</th>\n",
       "      <th>abasourdi</th>\n",
       "      <th>...</th>\n",
       "      <th>ôter</th>\n",
       "      <th>ōmura</th>\n",
       "      <th>œcuménique</th>\n",
       "      <th>œil</th>\n",
       "      <th>œsophage</th>\n",
       "      <th>œuf</th>\n",
       "      <th>œufs</th>\n",
       "      <th>œuvre</th>\n",
       "      <th>œuvrer</th>\n",
       "      <th>œuvres</th>\n",
       "    </tr>\n",
       "  </thead>\n",
       "  <tbody>\n",
       "    <tr>\n",
       "      <th>0</th>\n",
       "      <td>0.0</td>\n",
       "      <td>0.0</td>\n",
       "      <td>0.0</td>\n",
       "      <td>0.0</td>\n",
       "      <td>0.0</td>\n",
       "      <td>0.0</td>\n",
       "      <td>0.0</td>\n",
       "      <td>0.0</td>\n",
       "      <td>0.0</td>\n",
       "      <td>0.0</td>\n",
       "      <td>...</td>\n",
       "      <td>0.0</td>\n",
       "      <td>0.0</td>\n",
       "      <td>0.0</td>\n",
       "      <td>0.0</td>\n",
       "      <td>0.0</td>\n",
       "      <td>0.0</td>\n",
       "      <td>0.0</td>\n",
       "      <td>0.000000</td>\n",
       "      <td>0.0</td>\n",
       "      <td>0.0</td>\n",
       "    </tr>\n",
       "    <tr>\n",
       "      <th>1</th>\n",
       "      <td>0.0</td>\n",
       "      <td>0.0</td>\n",
       "      <td>0.0</td>\n",
       "      <td>0.0</td>\n",
       "      <td>0.0</td>\n",
       "      <td>0.0</td>\n",
       "      <td>0.0</td>\n",
       "      <td>0.0</td>\n",
       "      <td>0.0</td>\n",
       "      <td>0.0</td>\n",
       "      <td>...</td>\n",
       "      <td>0.0</td>\n",
       "      <td>0.0</td>\n",
       "      <td>0.0</td>\n",
       "      <td>0.0</td>\n",
       "      <td>0.0</td>\n",
       "      <td>0.0</td>\n",
       "      <td>0.0</td>\n",
       "      <td>0.000000</td>\n",
       "      <td>0.0</td>\n",
       "      <td>0.0</td>\n",
       "    </tr>\n",
       "    <tr>\n",
       "      <th>2</th>\n",
       "      <td>0.0</td>\n",
       "      <td>0.0</td>\n",
       "      <td>0.0</td>\n",
       "      <td>0.0</td>\n",
       "      <td>0.0</td>\n",
       "      <td>0.0</td>\n",
       "      <td>0.0</td>\n",
       "      <td>0.0</td>\n",
       "      <td>0.0</td>\n",
       "      <td>0.0</td>\n",
       "      <td>...</td>\n",
       "      <td>0.0</td>\n",
       "      <td>0.0</td>\n",
       "      <td>0.0</td>\n",
       "      <td>0.0</td>\n",
       "      <td>0.0</td>\n",
       "      <td>0.0</td>\n",
       "      <td>0.0</td>\n",
       "      <td>0.001411</td>\n",
       "      <td>0.0</td>\n",
       "      <td>0.0</td>\n",
       "    </tr>\n",
       "    <tr>\n",
       "      <th>3</th>\n",
       "      <td>0.0</td>\n",
       "      <td>0.0</td>\n",
       "      <td>0.0</td>\n",
       "      <td>0.0</td>\n",
       "      <td>0.0</td>\n",
       "      <td>0.0</td>\n",
       "      <td>0.0</td>\n",
       "      <td>0.0</td>\n",
       "      <td>0.0</td>\n",
       "      <td>0.0</td>\n",
       "      <td>...</td>\n",
       "      <td>0.0</td>\n",
       "      <td>0.0</td>\n",
       "      <td>0.0</td>\n",
       "      <td>0.0</td>\n",
       "      <td>0.0</td>\n",
       "      <td>0.0</td>\n",
       "      <td>0.0</td>\n",
       "      <td>0.000000</td>\n",
       "      <td>0.0</td>\n",
       "      <td>0.0</td>\n",
       "    </tr>\n",
       "    <tr>\n",
       "      <th>4</th>\n",
       "      <td>0.0</td>\n",
       "      <td>0.0</td>\n",
       "      <td>0.0</td>\n",
       "      <td>0.0</td>\n",
       "      <td>0.0</td>\n",
       "      <td>0.0</td>\n",
       "      <td>0.0</td>\n",
       "      <td>0.0</td>\n",
       "      <td>0.0</td>\n",
       "      <td>0.0</td>\n",
       "      <td>...</td>\n",
       "      <td>0.0</td>\n",
       "      <td>0.0</td>\n",
       "      <td>0.0</td>\n",
       "      <td>0.0</td>\n",
       "      <td>0.0</td>\n",
       "      <td>0.0</td>\n",
       "      <td>0.0</td>\n",
       "      <td>0.000000</td>\n",
       "      <td>0.0</td>\n",
       "      <td>0.0</td>\n",
       "    </tr>\n",
       "    <tr>\n",
       "      <th>...</th>\n",
       "      <td>...</td>\n",
       "      <td>...</td>\n",
       "      <td>...</td>\n",
       "      <td>...</td>\n",
       "      <td>...</td>\n",
       "      <td>...</td>\n",
       "      <td>...</td>\n",
       "      <td>...</td>\n",
       "      <td>...</td>\n",
       "      <td>...</td>\n",
       "      <td>...</td>\n",
       "      <td>...</td>\n",
       "      <td>...</td>\n",
       "      <td>...</td>\n",
       "      <td>...</td>\n",
       "      <td>...</td>\n",
       "      <td>...</td>\n",
       "      <td>...</td>\n",
       "      <td>...</td>\n",
       "      <td>...</td>\n",
       "      <td>...</td>\n",
       "    </tr>\n",
       "    <tr>\n",
       "      <th>9995</th>\n",
       "      <td>0.0</td>\n",
       "      <td>0.0</td>\n",
       "      <td>0.0</td>\n",
       "      <td>0.0</td>\n",
       "      <td>0.0</td>\n",
       "      <td>0.0</td>\n",
       "      <td>0.0</td>\n",
       "      <td>0.0</td>\n",
       "      <td>0.0</td>\n",
       "      <td>0.0</td>\n",
       "      <td>...</td>\n",
       "      <td>0.0</td>\n",
       "      <td>0.0</td>\n",
       "      <td>0.0</td>\n",
       "      <td>0.0</td>\n",
       "      <td>0.0</td>\n",
       "      <td>0.0</td>\n",
       "      <td>0.0</td>\n",
       "      <td>0.000000</td>\n",
       "      <td>0.0</td>\n",
       "      <td>0.0</td>\n",
       "    </tr>\n",
       "    <tr>\n",
       "      <th>9996</th>\n",
       "      <td>0.0</td>\n",
       "      <td>0.0</td>\n",
       "      <td>0.0</td>\n",
       "      <td>0.0</td>\n",
       "      <td>0.0</td>\n",
       "      <td>0.0</td>\n",
       "      <td>0.0</td>\n",
       "      <td>0.0</td>\n",
       "      <td>0.0</td>\n",
       "      <td>0.0</td>\n",
       "      <td>...</td>\n",
       "      <td>0.0</td>\n",
       "      <td>0.0</td>\n",
       "      <td>0.0</td>\n",
       "      <td>0.0</td>\n",
       "      <td>0.0</td>\n",
       "      <td>0.0</td>\n",
       "      <td>0.0</td>\n",
       "      <td>0.000000</td>\n",
       "      <td>0.0</td>\n",
       "      <td>0.0</td>\n",
       "    </tr>\n",
       "    <tr>\n",
       "      <th>9997</th>\n",
       "      <td>0.0</td>\n",
       "      <td>0.0</td>\n",
       "      <td>0.0</td>\n",
       "      <td>0.0</td>\n",
       "      <td>0.0</td>\n",
       "      <td>0.0</td>\n",
       "      <td>0.0</td>\n",
       "      <td>0.0</td>\n",
       "      <td>0.0</td>\n",
       "      <td>0.0</td>\n",
       "      <td>...</td>\n",
       "      <td>0.0</td>\n",
       "      <td>0.0</td>\n",
       "      <td>0.0</td>\n",
       "      <td>0.0</td>\n",
       "      <td>0.0</td>\n",
       "      <td>0.0</td>\n",
       "      <td>0.0</td>\n",
       "      <td>0.000000</td>\n",
       "      <td>0.0</td>\n",
       "      <td>0.0</td>\n",
       "    </tr>\n",
       "    <tr>\n",
       "      <th>9998</th>\n",
       "      <td>0.0</td>\n",
       "      <td>0.0</td>\n",
       "      <td>0.0</td>\n",
       "      <td>0.0</td>\n",
       "      <td>0.0</td>\n",
       "      <td>0.0</td>\n",
       "      <td>0.0</td>\n",
       "      <td>0.0</td>\n",
       "      <td>0.0</td>\n",
       "      <td>0.0</td>\n",
       "      <td>...</td>\n",
       "      <td>0.0</td>\n",
       "      <td>0.0</td>\n",
       "      <td>0.0</td>\n",
       "      <td>0.0</td>\n",
       "      <td>0.0</td>\n",
       "      <td>0.0</td>\n",
       "      <td>0.0</td>\n",
       "      <td>0.000000</td>\n",
       "      <td>0.0</td>\n",
       "      <td>0.0</td>\n",
       "    </tr>\n",
       "    <tr>\n",
       "      <th>9999</th>\n",
       "      <td>0.0</td>\n",
       "      <td>0.0</td>\n",
       "      <td>0.0</td>\n",
       "      <td>0.0</td>\n",
       "      <td>0.0</td>\n",
       "      <td>0.0</td>\n",
       "      <td>0.0</td>\n",
       "      <td>0.0</td>\n",
       "      <td>0.0</td>\n",
       "      <td>0.0</td>\n",
       "      <td>...</td>\n",
       "      <td>0.0</td>\n",
       "      <td>0.0</td>\n",
       "      <td>0.0</td>\n",
       "      <td>0.0</td>\n",
       "      <td>0.0</td>\n",
       "      <td>0.0</td>\n",
       "      <td>0.0</td>\n",
       "      <td>0.000000</td>\n",
       "      <td>0.0</td>\n",
       "      <td>0.0</td>\n",
       "    </tr>\n",
       "  </tbody>\n",
       "</table>\n",
       "<p>10000 rows × 20771 columns</p>\n",
       "</div>"
      ],
      "text/plain": [
       "       aa  aah  aaron   ab  abad  abaissement  abaisser  abandon  abandonner  \\\n",
       "0     0.0  0.0    0.0  0.0   0.0          0.0       0.0      0.0         0.0   \n",
       "1     0.0  0.0    0.0  0.0   0.0          0.0       0.0      0.0         0.0   \n",
       "2     0.0  0.0    0.0  0.0   0.0          0.0       0.0      0.0         0.0   \n",
       "3     0.0  0.0    0.0  0.0   0.0          0.0       0.0      0.0         0.0   \n",
       "4     0.0  0.0    0.0  0.0   0.0          0.0       0.0      0.0         0.0   \n",
       "...   ...  ...    ...  ...   ...          ...       ...      ...         ...   \n",
       "9995  0.0  0.0    0.0  0.0   0.0          0.0       0.0      0.0         0.0   \n",
       "9996  0.0  0.0    0.0  0.0   0.0          0.0       0.0      0.0         0.0   \n",
       "9997  0.0  0.0    0.0  0.0   0.0          0.0       0.0      0.0         0.0   \n",
       "9998  0.0  0.0    0.0  0.0   0.0          0.0       0.0      0.0         0.0   \n",
       "9999  0.0  0.0    0.0  0.0   0.0          0.0       0.0      0.0         0.0   \n",
       "\n",
       "      abasourdi  ...  ôter  ōmura  œcuménique  œil  œsophage  œuf  œufs  \\\n",
       "0           0.0  ...   0.0    0.0         0.0  0.0       0.0  0.0   0.0   \n",
       "1           0.0  ...   0.0    0.0         0.0  0.0       0.0  0.0   0.0   \n",
       "2           0.0  ...   0.0    0.0         0.0  0.0       0.0  0.0   0.0   \n",
       "3           0.0  ...   0.0    0.0         0.0  0.0       0.0  0.0   0.0   \n",
       "4           0.0  ...   0.0    0.0         0.0  0.0       0.0  0.0   0.0   \n",
       "...         ...  ...   ...    ...         ...  ...       ...  ...   ...   \n",
       "9995        0.0  ...   0.0    0.0         0.0  0.0       0.0  0.0   0.0   \n",
       "9996        0.0  ...   0.0    0.0         0.0  0.0       0.0  0.0   0.0   \n",
       "9997        0.0  ...   0.0    0.0         0.0  0.0       0.0  0.0   0.0   \n",
       "9998        0.0  ...   0.0    0.0         0.0  0.0       0.0  0.0   0.0   \n",
       "9999        0.0  ...   0.0    0.0         0.0  0.0       0.0  0.0   0.0   \n",
       "\n",
       "         œuvre  œuvrer  œuvres  \n",
       "0     0.000000     0.0     0.0  \n",
       "1     0.000000     0.0     0.0  \n",
       "2     0.001411     0.0     0.0  \n",
       "3     0.000000     0.0     0.0  \n",
       "4     0.000000     0.0     0.0  \n",
       "...        ...     ...     ...  \n",
       "9995  0.000000     0.0     0.0  \n",
       "9996  0.000000     0.0     0.0  \n",
       "9997  0.000000     0.0     0.0  \n",
       "9998  0.000000     0.0     0.0  \n",
       "9999  0.000000     0.0     0.0  \n",
       "\n",
       "[10000 rows x 20771 columns]"
      ]
     },
     "execution_count": 55,
     "metadata": {},
     "output_type": "execute_result"
    }
   ],
   "source": [
    "df"
   ]
  },
  {
   "cell_type": "markdown",
   "id": "ba0834f1",
   "metadata": {},
   "source": [
    "## Mesure et observation des résultats\n",
    "---"
   ]
  },
  {
   "cell_type": "code",
   "execution_count": null,
   "id": "88b9ac63",
   "metadata": {},
   "outputs": [],
   "source": []
  },
  {
   "cell_type": "raw",
   "id": "6c4c9365",
   "metadata": {},
   "source": []
  },
  {
   "cell_type": "markdown",
   "id": "76996d3a",
   "metadata": {},
   "source": [
    "## Sauvegarde des résultats\n",
    "---"
   ]
  },
  {
   "cell_type": "code",
   "execution_count": null,
   "id": "827f60e3",
   "metadata": {},
   "outputs": [],
   "source": []
  },
  {
   "cell_type": "markdown",
   "id": "fb7949bc",
   "metadata": {},
   "source": [
    "## Conclusions\n",
    "---"
   ]
  },
  {
   "cell_type": "markdown",
   "id": "bd06b261",
   "metadata": {},
   "source": [
    "- CountVectorizer avec LexAnalyser en préprocessor et tokenizer = OK"
   ]
  },
  {
   "cell_type": "markdown",
   "id": "bd360655",
   "metadata": {},
   "source": [
    "## Bricolages\n",
    "---"
   ]
  },
  {
   "cell_type": "code",
   "execution_count": null,
   "id": "3076f1c3",
   "metadata": {},
   "outputs": [],
   "source": [
    "s = df.iloc[200:2000].sum()\n",
    "df[s.sort_values(ascending=False).index]"
   ]
  },
  {
   "cell_type": "code",
   "execution_count": null,
   "id": "c0da52f3",
   "metadata": {},
   "outputs": [],
   "source": [
    "regex = r'[^\\d\\W][\\w]+'"
   ]
  },
  {
   "cell_type": "code",
   "execution_count": null,
   "id": "155b1b61",
   "metadata": {},
   "outputs": [],
   "source": [
    "text=df_light['text'].iloc[0]"
   ]
  },
  {
   "cell_type": "code",
   "execution_count": null,
   "id": "260888cb",
   "metadata": {},
   "outputs": [],
   "source": [
    "lex.get_lemmas_from_text(text)"
   ]
  },
  {
   "cell_type": "code",
   "execution_count": null,
   "id": "78968d11",
   "metadata": {},
   "outputs": [],
   "source": [
    "text"
   ]
  },
  {
   "cell_type": "code",
   "execution_count": null,
   "id": "a192a8e7",
   "metadata": {},
   "outputs": [],
   "source": []
  }
 ],
 "metadata": {
  "kernelspec": {
   "display_name": "Python 3 (ipykernel)",
   "language": "python",
   "name": "python3"
  },
  "language_info": {
   "codemirror_mode": {
    "name": "ipython",
    "version": 3
   },
   "file_extension": ".py",
   "mimetype": "text/x-python",
   "name": "python",
   "nbconvert_exporter": "python",
   "pygments_lexer": "ipython3",
   "version": "3.9.13"
  }
 },
 "nbformat": 4,
 "nbformat_minor": 5
}
