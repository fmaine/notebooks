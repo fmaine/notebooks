{
 "cells": [
  {
   "cell_type": "markdown",
   "id": "e3ec4689",
   "metadata": {},
   "source": [
    "# Plateforme Agnostique de Traitement et d'Analyse des Textes\n",
    "### Carnet d'expérimentation\n",
    "---\n",
    "\n",
    "## Sujet : Patat Credentials\n",
    "\n",
    "---"
   ]
  },
  {
   "cell_type": "markdown",
   "id": "2601e626",
   "metadata": {},
   "source": [
    "# Observations et environnement\n",
    "---"
   ]
  },
  {
   "cell_type": "markdown",
   "id": "85c0f3b8",
   "metadata": {},
   "source": [
    "## Environnement"
   ]
  },
  {
   "cell_type": "code",
   "execution_count": 1,
   "id": "525fef74",
   "metadata": {},
   "outputs": [],
   "source": [
    "random_state = 42"
   ]
  },
  {
   "cell_type": "code",
   "execution_count": 2,
   "id": "5d0de4d7",
   "metadata": {},
   "outputs": [
    {
     "name": "stdout",
     "output_type": "stream",
     "text": [
      "/Volumes/Geek/Work/Patat\n"
     ]
    }
   ],
   "source": [
    "cd ../.."
   ]
  },
  {
   "cell_type": "code",
   "execution_count": 3,
   "id": "32256b0d",
   "metadata": {},
   "outputs": [],
   "source": [
    "import ast\n",
    "import importlib\n",
    "import pandas as pd\n",
    "import seaborn as sns\n",
    "from tqdm.notebook import tqdm\n",
    "tqdm.pandas()"
   ]
  },
  {
   "cell_type": "markdown",
   "id": "6b548bc6",
   "metadata": {},
   "source": [
    "# Experience\n",
    "---"
   ]
  },
  {
   "cell_type": "markdown",
   "id": "a306ba37",
   "metadata": {},
   "source": [
    "## Etape 1"
   ]
  },
  {
   "cell_type": "code",
   "execution_count": 4,
   "id": "99a0d671",
   "metadata": {},
   "outputs": [],
   "source": [
    "import patat.util.emailauth"
   ]
  },
  {
   "cell_type": "code",
   "execution_count": 5,
   "id": "29677a02",
   "metadata": {},
   "outputs": [],
   "source": [
    "import json"
   ]
  },
  {
   "cell_type": "code",
   "execution_count": null,
   "id": "b657e081",
   "metadata": {},
   "outputs": [],
   "source": [
    "benjaminicard@hotmail.com\n",
    "contact.louisleclerc@gmail.com\n",
    "francois.bancilhon@gmail.com\n",
    "ghislain.atemezing@mondeca.com\n",
    "Guy.Pujolle@gmail.com\n",
    "morgane.casanova1@gmail.com\n",
    "paulegre@gmail.co"
   ]
  },
  {
   "cell_type": "code",
   "execution_count": 6,
   "id": "124a31d4",
   "metadata": {},
   "outputs": [],
   "source": [
    "_credentials_filename='data/credentials.json'"
   ]
  },
  {
   "cell_type": "code",
   "execution_count": 15,
   "id": "03d07b99",
   "metadata": {},
   "outputs": [],
   "source": [
    "_credentials = {\n",
    "    'fm@freedom-partners.com':'admin',\n",
    "    'fmaine@gmail.com': 'modify',\n",
    "    'fm@francois-michel.com': 'read',\n",
    "    'francois.bancilhon@gmail.com': 'modify',\n",
    "    'guy.pujolle@lip6.fr': 'modify',\n",
    "    'contact.louisleclerc@gmail.com': 'modify',\n",
    "    '13c13r@gmail.com': 'modify',\n",
    "    'jean-gabriel.ganascia@lip6.fr': 'modify',\n",
    "    'benjaminicard@hotmail.com': 'read',\n",
    "    'contact.louisleclerc@gmail.com': 'read',\n",
    "    'francois.bancilhon@gmail.com': 'read',\n",
    "    'ghislain.atemezing@mondeca.com': 'read',\n",
    "    'Guy.Pujolle@gmail.com': 'read',\n",
    "    'morgane.casanova1@gmail.com': 'read',\n",
    "    'paulegre@gmail.com': 'read',\n",
    "}"
   ]
  },
  {
   "cell_type": "code",
   "execution_count": 16,
   "id": "6f9b1146",
   "metadata": {},
   "outputs": [],
   "source": [
    "with open(_credentials_filename,'w') as json_file:\n",
    "    json.dump(_credentials,json_file)"
   ]
  },
  {
   "cell_type": "code",
   "execution_count": 17,
   "id": "b607aad9",
   "metadata": {},
   "outputs": [],
   "source": [
    "with open(_credentials_filename,'r') as json_file:\n",
    "    ess = json.load(json_file)"
   ]
  },
  {
   "cell_type": "code",
   "execution_count": 18,
   "id": "a3a6b772",
   "metadata": {},
   "outputs": [
    {
     "data": {
      "text/plain": [
       "{'fm@freedom-partners.com': 'admin',\n",
       " 'fmaine@gmail.com': 'modify',\n",
       " 'fm@francois-michel.com': 'read',\n",
       " 'francois.bancilhon@gmail.com': 'read',\n",
       " 'guy.pujolle@lip6.fr': 'modify',\n",
       " 'contact.louisleclerc@gmail.com': 'read',\n",
       " '13c13r@gmail.com': 'modify',\n",
       " 'jean-gabriel.ganascia@lip6.fr': 'modify',\n",
       " 'benjaminicard@hotmail.com': 'read',\n",
       " 'ghislain.atemezing@mondeca.com': 'read',\n",
       " 'Guy.Pujolle@gmail.com': 'read',\n",
       " 'morgane.casanova1@gmail.com': 'read',\n",
       " 'paulegre@gmail.com': 'read'}"
      ]
     },
     "execution_count": 18,
     "metadata": {},
     "output_type": "execute_result"
    }
   ],
   "source": [
    "ess"
   ]
  },
  {
   "cell_type": "markdown",
   "id": "76996d3a",
   "metadata": {},
   "source": [
    "# Sauvegarde des résultats\n",
    "---"
   ]
  },
  {
   "cell_type": "code",
   "execution_count": 131,
   "id": "f39f8729",
   "metadata": {},
   "outputs": [],
   "source": []
  },
  {
   "cell_type": "markdown",
   "id": "fb7949bc",
   "metadata": {},
   "source": [
    "# Conclusions\n",
    "---"
   ]
  },
  {
   "cell_type": "markdown",
   "id": "bd360655",
   "metadata": {},
   "source": [
    "# Bricolages\n",
    "---"
   ]
  },
  {
   "cell_type": "code",
   "execution_count": null,
   "id": "f9862890",
   "metadata": {},
   "outputs": [],
   "source": []
  }
 ],
 "metadata": {
  "kernelspec": {
   "display_name": "Python 3 (ipykernel)",
   "language": "python",
   "name": "python3"
  },
  "language_info": {
   "codemirror_mode": {
    "name": "ipython",
    "version": 3
   },
   "file_extension": ".py",
   "mimetype": "text/x-python",
   "name": "python",
   "nbconvert_exporter": "python",
   "pygments_lexer": "ipython3",
   "version": "3.9.16"
  }
 },
 "nbformat": 4,
 "nbformat_minor": 5
}
