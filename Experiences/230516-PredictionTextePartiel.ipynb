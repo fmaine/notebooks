{
 "cells": [
  {
   "cell_type": "markdown",
   "id": "e3ec4689",
   "metadata": {},
   "source": [
    "# Plateforme Agnostique de Traitement et d'Analyse des Textes\n",
    "### Carnet d'expérimentation\n",
    "---\n",
    "\n",
    "## Sujet : Pipeline classif infox supervisé dataset labels\n",
    "\n",
    "---"
   ]
  },
  {
   "cell_type": "markdown",
   "id": "2601e626",
   "metadata": {},
   "source": [
    "# Observations et environnement\n",
    "---"
   ]
  },
  {
   "cell_type": "code",
   "execution_count": 1,
   "id": "525fef74",
   "metadata": {},
   "outputs": [],
   "source": [
    "random_state = 42"
   ]
  },
  {
   "cell_type": "code",
   "execution_count": 2,
   "id": "5d0de4d7",
   "metadata": {},
   "outputs": [
    {
     "name": "stdout",
     "output_type": "stream",
     "text": [
      "/Volumes/Geek/Work/Patat\n"
     ]
    }
   ],
   "source": [
    "cd ../.."
   ]
  },
  {
   "cell_type": "code",
   "execution_count": 3,
   "id": "32256b0d",
   "metadata": {},
   "outputs": [],
   "source": [
    "import ast\n",
    "import importlib\n",
    "import pandas as pd\n",
    "import seaborn as sns\n",
    "from tqdm.notebook import tqdm\n",
    "tqdm.pandas()"
   ]
  },
  {
   "cell_type": "code",
   "execution_count": 4,
   "id": "f4cc8fc9",
   "metadata": {},
   "outputs": [],
   "source": [
    "import patat.util.pd\n",
    "\n",
    "filename = 'data/prod/230516-OIDS-Label.pickle'\n",
    "\n",
    "df_label = pd.read_pickle(filename)\n",
    "\n",
    "df_label['infox'].isna().sum()\n",
    "\n",
    "df_label = df_label[df_label['infox'].notna()]"
   ]
  },
  {
   "cell_type": "code",
   "execution_count": 5,
   "id": "73feab00",
   "metadata": {},
   "outputs": [
    {
     "data": {
      "text/plain": [
       "0"
      ]
     },
     "execution_count": 5,
     "metadata": {},
     "output_type": "execute_result"
    }
   ],
   "source": [
    "df_label['infox'].isna().sum()"
   ]
  },
  {
   "cell_type": "code",
   "execution_count": 6,
   "id": "5e535748",
   "metadata": {},
   "outputs": [],
   "source": [
    "df_label = df_label[df_label['infox'].notna()]"
   ]
  },
  {
   "cell_type": "code",
   "execution_count": 7,
   "id": "11d454d1",
   "metadata": {},
   "outputs": [],
   "source": [
    "df_label.reset_index(inplace=True)"
   ]
  },
  {
   "cell_type": "markdown",
   "id": "3a02c2c1",
   "metadata": {},
   "source": [
    "# Experience\n",
    "---"
   ]
  },
  {
   "cell_type": "markdown",
   "id": "53788175",
   "metadata": {},
   "source": [
    "## Decompte paragraphes"
   ]
  },
  {
   "cell_type": "code",
   "execution_count": 8,
   "id": "b4a2f0a6",
   "metadata": {},
   "outputs": [
    {
     "data": {
      "text/plain": [
       "<seaborn.axisgrid.FacetGrid at 0x1580857c0>"
      ]
     },
     "execution_count": 8,
     "metadata": {},
     "output_type": "execute_result"
    },
    {
     "data": {
      "image/png": "[encoded data removed]",
      "text/plain": [
       "<Figure size 500x500 with 1 Axes>"
      ]
     },
     "metadata": {},
     "output_type": "display_data"
    }
   ],
   "source": [
    "sns.displot(df_label,x='p_count')"
   ]
  },
  {
   "cell_type": "code",
   "execution_count": 9,
   "id": "806a2cfa",
   "metadata": {},
   "outputs": [],
   "source": [
    "p_count_max = 200"
   ]
  },
  {
   "cell_type": "code",
   "execution_count": 10,
   "id": "c2a89d6e",
   "metadata": {},
   "outputs": [
    {
     "data": {
      "text/html": [
       "<div>\n",
       "<style scoped>\n",
       "    .dataframe tbody tr th:only-of-type {\n",
       "        vertical-align: middle;\n",
       "    }\n",
       "\n",
       "    .dataframe tbody tr th {\n",
       "        vertical-align: top;\n",
       "    }\n",
       "\n",
       "    .dataframe thead th {\n",
       "        text-align: right;\n",
       "    }\n",
       "</style>\n",
       "<table border=\"1\" class=\"dataframe\">\n",
       "  <thead>\n",
       "    <tr style=\"text-align: right;\">\n",
       "      <th></th>\n",
       "      <th>title</th>\n",
       "      <th>infox</th>\n",
       "      <th>p_count</th>\n",
       "    </tr>\n",
       "  </thead>\n",
       "  <tbody>\n",
       "    <tr>\n",
       "      <th>281</th>\n",
       "      <td>Georgia Meloni rafle la mise : un grand bravo ...</td>\n",
       "      <td>0.0</td>\n",
       "      <td>202</td>\n",
       "    </tr>\n",
       "    <tr>\n",
       "      <th>820</th>\n",
       "      <td>Le ginseng du pauvre contre le covid</td>\n",
       "      <td>1.0</td>\n",
       "      <td>512</td>\n",
       "    </tr>\n",
       "    <tr>\n",
       "      <th>883</th>\n",
       "      <td>Chronique N°46 – « Consentirez-vous à consenti...</td>\n",
       "      <td>1.0</td>\n",
       "      <td>221</td>\n",
       "    </tr>\n",
       "  </tbody>\n",
       "</table>\n",
       "</div>"
      ],
      "text/plain": [
       "                                                 title  infox  p_count\n",
       "281  Georgia Meloni rafle la mise : un grand bravo ...    0.0      202\n",
       "820               Le ginseng du pauvre contre le covid    1.0      512\n",
       "883  Chronique N°46 – « Consentirez-vous à consenti...    1.0      221"
      ]
     },
     "execution_count": 10,
     "metadata": {},
     "output_type": "execute_result"
    }
   ],
   "source": [
    "df_label[df_label['p_count']>=p_count_max][['title','infox','p_count']]"
   ]
  },
  {
   "cell_type": "code",
   "execution_count": 11,
   "id": "ff77e88d",
   "metadata": {},
   "outputs": [
    {
     "data": {
      "text/plain": [
       "<seaborn.axisgrid.FacetGrid at 0x1593b6820>"
      ]
     },
     "execution_count": 11,
     "metadata": {},
     "output_type": "execute_result"
    },
    {
     "data": {
      "image/png": "[encoded data removed]",
      "text/plain": [
       "<Figure size 500x500 with 1 Axes>"
      ]
     },
     "metadata": {},
     "output_type": "display_data"
    }
   ],
   "source": [
    "sns.displot(df_label[df_label['p_count']<p_count_max],x='p_count')"
   ]
  },
  {
   "cell_type": "code",
   "execution_count": 12,
   "id": "9b850680",
   "metadata": {},
   "outputs": [],
   "source": [
    "df_label = df_label[df_label['p_count']<p_count_max]"
   ]
  },
  {
   "cell_type": "code",
   "execution_count": 13,
   "id": "2c8304a6",
   "metadata": {},
   "outputs": [],
   "source": [
    "df_label.reset_index(inplace=True)"
   ]
  },
  {
   "cell_type": "markdown",
   "id": "bc687995",
   "metadata": {},
   "source": [
    "## Ignore Words"
   ]
  },
  {
   "cell_type": "code",
   "execution_count": 14,
   "id": "f752e1b2",
   "metadata": {},
   "outputs": [],
   "source": [
    "import patat.util.text\n",
    "import patat.ml.lex_analyser\n",
    "lex = patat.ml.lex_analyser.LexAnalyser()"
   ]
  },
  {
   "cell_type": "markdown",
   "id": "f0ec27bf",
   "metadata": {},
   "source": [
    "### Lemmas"
   ]
  },
  {
   "cell_type": "code",
   "execution_count": 15,
   "id": "7ade0851",
   "metadata": {},
   "outputs": [],
   "source": [
    "def lemmatize(text):\n",
    "    return ' '.join(lex.get_lemmas_from_text(patat.util.text.preprocess(text)))"
   ]
  },
  {
   "cell_type": "code",
   "execution_count": 16,
   "id": "984e90ee",
   "metadata": {
    "scrolled": true
   },
   "outputs": [
    {
     "data": {
      "application/vnd.jupyter.widget-view+json": {
       "model_id": "90fb7f940c7449318eefe4fab750fea6",
       "version_major": 2,
       "version_minor": 0
      },
      "text/plain": [
       "  0%|          | 0/897 [00:00<?, ?it/s]"
      ]
     },
     "metadata": {},
     "output_type": "display_data"
    }
   ],
   "source": [
    "df_label['lemma_text']=df_label['text'].progress_apply(lemmatize)"
   ]
  },
  {
   "cell_type": "code",
   "execution_count": 17,
   "id": "ff5f5703",
   "metadata": {},
   "outputs": [],
   "source": [
    "df_words = lex.get_df_words(texts= df_label['lemma_text'],values = df_label['infox'].astype(int), preprocessor=None, tokenizer= None)\n",
    "### Rare Words\n",
    "for occ_rare in [1,2,3,4,5,6,7]:\n",
    "    df_words['rare_'+str(occ_rare)]=(df_words['count_0']<=occ_rare)&(df_words['count_1']<=occ_rare)\n",
    "### Common words\n",
    "for common_size in [50,80,120,200,500]:\n",
    "    common_0 = df_words.sort_values('count_0',ascending=False).head(common_size).index\n",
    "    common_1 = df_words.sort_values('count_1',ascending=False).head(common_size).index\n",
    "    df_words['common_'+str(common_size)]=(df_words.index.isin(common_0))&(df_words.index.isin(common_1))\n",
    "### Ignore Lemmas\n",
    "ignore_lemmas={\n",
    "    'None' : None,\n",
    "    'small' : list(df_words[df_words['common_80']].index)+list(df_words[df_words['rare_1']].index),\n",
    "    'medium' : list(df_words[df_words['common_80']].index)+list(df_words[df_words['rare_2']].index),\n",
    "    'large' : list(df_words[df_words['common_200']].index)+list(df_words[df_words['rare_5']].index),\n",
    "    'xlarge' : list(df_words[df_words['common_500']].index)+list(df_words[df_words['rare_7']].index),\n",
    "}"
   ]
  },
  {
   "cell_type": "markdown",
   "id": "01e53e31",
   "metadata": {},
   "source": [
    "## Words"
   ]
  },
  {
   "cell_type": "code",
   "execution_count": 18,
   "id": "dd292ce2",
   "metadata": {},
   "outputs": [],
   "source": [
    "preprocessor = patat.util.text.preprocess\n",
    "#tokenizer = lex.get_lemmas_from_text\n",
    "tokenizer = lex.get_words\n",
    "#tokenizer=None"
   ]
  },
  {
   "cell_type": "code",
   "execution_count": 19,
   "id": "46fe5fb6",
   "metadata": {},
   "outputs": [
    {
     "name": "stderr",
     "output_type": "stream",
     "text": [
      "/opt/homebrew/Caskroom/miniforge/base/envs/pt39/lib/python3.9/site-packages/sklearn/feature_extraction/text.py:528: UserWarning: The parameter 'token_pattern' will not be used since 'tokenizer' is not None'\n",
      "  warnings.warn(\n"
     ]
    }
   ],
   "source": [
    "df_words = lex.get_df_words(texts= df_label['text'],values = df_label['infox'].astype(int), preprocessor=preprocessor, tokenizer= tokenizer)\n",
    "### Rare Words\n",
    "for occ_rare in [1,2,3,4,5,6,7]:\n",
    "    df_words['rare_'+str(occ_rare)]=(df_words['count_0']<=occ_rare)&(df_words['count_1']<=occ_rare)\n",
    "### Common words\n",
    "for common_size in [50,80,120,200,500]:\n",
    "    common_0 = df_words.sort_values('count_0',ascending=False).head(common_size).index\n",
    "    common_1 = df_words.sort_values('count_1',ascending=False).head(common_size).index\n",
    "    df_words['common_'+str(common_size)]=(df_words.index.isin(common_0))&(df_words.index.isin(common_1))\n",
    "### Ignore Lemmas\n",
    "ignore_words={\n",
    "    'None' : None,\n",
    "    'small' : list(df_words[df_words['common_80']].index)+list(df_words[df_words['rare_1']].index),\n",
    "    'medium' : list(df_words[df_words['common_80']].index)+list(df_words[df_words['rare_2']].index),\n",
    "    'large' : list(df_words[df_words['common_200']].index)+list(df_words[df_words['rare_5']].index),\n",
    "    'xlarge' : list(df_words[df_words['common_500']].index)+list(df_words[df_words['rare_7']].index),\n",
    "}"
   ]
  },
  {
   "cell_type": "code",
   "execution_count": 20,
   "id": "b8030438",
   "metadata": {},
   "outputs": [
    {
     "data": {
      "text/html": [
       "<div>\n",
       "<style scoped>\n",
       "    .dataframe tbody tr th:only-of-type {\n",
       "        vertical-align: middle;\n",
       "    }\n",
       "\n",
       "    .dataframe tbody tr th {\n",
       "        vertical-align: top;\n",
       "    }\n",
       "\n",
       "    .dataframe thead th {\n",
       "        text-align: right;\n",
       "    }\n",
       "</style>\n",
       "<table border=\"1\" class=\"dataframe\">\n",
       "  <thead>\n",
       "    <tr style=\"text-align: right;\">\n",
       "      <th></th>\n",
       "      <th>count_0</th>\n",
       "      <th>count_1</th>\n",
       "      <th>count</th>\n",
       "      <th>rare_1</th>\n",
       "      <th>rare_2</th>\n",
       "      <th>rare_3</th>\n",
       "      <th>rare_4</th>\n",
       "      <th>rare_5</th>\n",
       "      <th>rare_6</th>\n",
       "      <th>rare_7</th>\n",
       "      <th>common_50</th>\n",
       "      <th>common_80</th>\n",
       "      <th>common_120</th>\n",
       "      <th>common_200</th>\n",
       "      <th>common_500</th>\n",
       "    </tr>\n",
       "  </thead>\n",
       "  <tbody>\n",
       "    <tr>\n",
       "      <th>de</th>\n",
       "      <td>22419</td>\n",
       "      <td>28482</td>\n",
       "      <td>50901</td>\n",
       "      <td>False</td>\n",
       "      <td>False</td>\n",
       "      <td>False</td>\n",
       "      <td>False</td>\n",
       "      <td>False</td>\n",
       "      <td>False</td>\n",
       "      <td>False</td>\n",
       "      <td>True</td>\n",
       "      <td>True</td>\n",
       "      <td>True</td>\n",
       "      <td>True</td>\n",
       "      <td>True</td>\n",
       "    </tr>\n",
       "    <tr>\n",
       "      <th>la</th>\n",
       "      <td>12442</td>\n",
       "      <td>15288</td>\n",
       "      <td>27730</td>\n",
       "      <td>False</td>\n",
       "      <td>False</td>\n",
       "      <td>False</td>\n",
       "      <td>False</td>\n",
       "      <td>False</td>\n",
       "      <td>False</td>\n",
       "      <td>False</td>\n",
       "      <td>True</td>\n",
       "      <td>True</td>\n",
       "      <td>True</td>\n",
       "      <td>True</td>\n",
       "      <td>True</td>\n",
       "    </tr>\n",
       "    <tr>\n",
       "      <th>le</th>\n",
       "      <td>9256</td>\n",
       "      <td>12237</td>\n",
       "      <td>21493</td>\n",
       "      <td>False</td>\n",
       "      <td>False</td>\n",
       "      <td>False</td>\n",
       "      <td>False</td>\n",
       "      <td>False</td>\n",
       "      <td>False</td>\n",
       "      <td>False</td>\n",
       "      <td>True</td>\n",
       "      <td>True</td>\n",
       "      <td>True</td>\n",
       "      <td>True</td>\n",
       "      <td>True</td>\n",
       "    </tr>\n",
       "    <tr>\n",
       "      <th>et</th>\n",
       "      <td>8595</td>\n",
       "      <td>12090</td>\n",
       "      <td>20685</td>\n",
       "      <td>False</td>\n",
       "      <td>False</td>\n",
       "      <td>False</td>\n",
       "      <td>False</td>\n",
       "      <td>False</td>\n",
       "      <td>False</td>\n",
       "      <td>False</td>\n",
       "      <td>True</td>\n",
       "      <td>True</td>\n",
       "      <td>True</td>\n",
       "      <td>True</td>\n",
       "      <td>True</td>\n",
       "    </tr>\n",
       "    <tr>\n",
       "      <th>les</th>\n",
       "      <td>8367</td>\n",
       "      <td>12370</td>\n",
       "      <td>20737</td>\n",
       "      <td>False</td>\n",
       "      <td>False</td>\n",
       "      <td>False</td>\n",
       "      <td>False</td>\n",
       "      <td>False</td>\n",
       "      <td>False</td>\n",
       "      <td>False</td>\n",
       "      <td>True</td>\n",
       "      <td>True</td>\n",
       "      <td>True</td>\n",
       "      <td>True</td>\n",
       "      <td>True</td>\n",
       "    </tr>\n",
       "    <tr>\n",
       "      <th>...</th>\n",
       "      <td>...</td>\n",
       "      <td>...</td>\n",
       "      <td>...</td>\n",
       "      <td>...</td>\n",
       "      <td>...</td>\n",
       "      <td>...</td>\n",
       "      <td>...</td>\n",
       "      <td>...</td>\n",
       "      <td>...</td>\n",
       "      <td>...</td>\n",
       "      <td>...</td>\n",
       "      <td>...</td>\n",
       "      <td>...</td>\n",
       "      <td>...</td>\n",
       "      <td>...</td>\n",
       "    </tr>\n",
       "    <tr>\n",
       "      <th>joues</th>\n",
       "      <td>0</td>\n",
       "      <td>3</td>\n",
       "      <td>3</td>\n",
       "      <td>False</td>\n",
       "      <td>False</td>\n",
       "      <td>True</td>\n",
       "      <td>True</td>\n",
       "      <td>True</td>\n",
       "      <td>True</td>\n",
       "      <td>True</td>\n",
       "      <td>False</td>\n",
       "      <td>False</td>\n",
       "      <td>False</td>\n",
       "      <td>False</td>\n",
       "      <td>False</td>\n",
       "    </tr>\n",
       "    <tr>\n",
       "      <th>joueront</th>\n",
       "      <td>0</td>\n",
       "      <td>1</td>\n",
       "      <td>1</td>\n",
       "      <td>True</td>\n",
       "      <td>True</td>\n",
       "      <td>True</td>\n",
       "      <td>True</td>\n",
       "      <td>True</td>\n",
       "      <td>True</td>\n",
       "      <td>True</td>\n",
       "      <td>False</td>\n",
       "      <td>False</td>\n",
       "      <td>False</td>\n",
       "      <td>False</td>\n",
       "      <td>False</td>\n",
       "    </tr>\n",
       "    <tr>\n",
       "      <th>josiah</th>\n",
       "      <td>0</td>\n",
       "      <td>1</td>\n",
       "      <td>1</td>\n",
       "      <td>True</td>\n",
       "      <td>True</td>\n",
       "      <td>True</td>\n",
       "      <td>True</td>\n",
       "      <td>True</td>\n",
       "      <td>True</td>\n",
       "      <td>True</td>\n",
       "      <td>False</td>\n",
       "      <td>False</td>\n",
       "      <td>False</td>\n",
       "      <td>False</td>\n",
       "      <td>False</td>\n",
       "    </tr>\n",
       "    <tr>\n",
       "      <th>joshua</th>\n",
       "      <td>0</td>\n",
       "      <td>4</td>\n",
       "      <td>4</td>\n",
       "      <td>False</td>\n",
       "      <td>False</td>\n",
       "      <td>False</td>\n",
       "      <td>True</td>\n",
       "      <td>True</td>\n",
       "      <td>True</td>\n",
       "      <td>True</td>\n",
       "      <td>False</td>\n",
       "      <td>False</td>\n",
       "      <td>False</td>\n",
       "      <td>False</td>\n",
       "      <td>False</td>\n",
       "    </tr>\n",
       "    <tr>\n",
       "      <th>þórólfur</th>\n",
       "      <td>0</td>\n",
       "      <td>1</td>\n",
       "      <td>1</td>\n",
       "      <td>True</td>\n",
       "      <td>True</td>\n",
       "      <td>True</td>\n",
       "      <td>True</td>\n",
       "      <td>True</td>\n",
       "      <td>True</td>\n",
       "      <td>True</td>\n",
       "      <td>False</td>\n",
       "      <td>False</td>\n",
       "      <td>False</td>\n",
       "      <td>False</td>\n",
       "      <td>False</td>\n",
       "    </tr>\n",
       "  </tbody>\n",
       "</table>\n",
       "<p>45344 rows × 15 columns</p>\n",
       "</div>"
      ],
      "text/plain": [
       "          count_0  count_1  count  rare_1  rare_2  rare_3  rare_4  rare_5   \n",
       "de          22419    28482  50901   False   False   False   False   False  \\\n",
       "la          12442    15288  27730   False   False   False   False   False   \n",
       "le           9256    12237  21493   False   False   False   False   False   \n",
       "et           8595    12090  20685   False   False   False   False   False   \n",
       "les          8367    12370  20737   False   False   False   False   False   \n",
       "...           ...      ...    ...     ...     ...     ...     ...     ...   \n",
       "joues           0        3      3   False   False    True    True    True   \n",
       "joueront        0        1      1    True    True    True    True    True   \n",
       "josiah          0        1      1    True    True    True    True    True   \n",
       "joshua          0        4      4   False   False   False    True    True   \n",
       "þórólfur        0        1      1    True    True    True    True    True   \n",
       "\n",
       "          rare_6  rare_7  common_50  common_80  common_120  common_200   \n",
       "de         False   False       True       True        True        True  \\\n",
       "la         False   False       True       True        True        True   \n",
       "le         False   False       True       True        True        True   \n",
       "et         False   False       True       True        True        True   \n",
       "les        False   False       True       True        True        True   \n",
       "...          ...     ...        ...        ...         ...         ...   \n",
       "joues       True    True      False      False       False       False   \n",
       "joueront    True    True      False      False       False       False   \n",
       "josiah      True    True      False      False       False       False   \n",
       "joshua      True    True      False      False       False       False   \n",
       "þórólfur    True    True      False      False       False       False   \n",
       "\n",
       "          common_500  \n",
       "de              True  \n",
       "la              True  \n",
       "le              True  \n",
       "et              True  \n",
       "les             True  \n",
       "...              ...  \n",
       "joues          False  \n",
       "joueront       False  \n",
       "josiah         False  \n",
       "joshua         False  \n",
       "þórólfur       False  \n",
       "\n",
       "[45344 rows x 15 columns]"
      ]
     },
     "execution_count": 20,
     "metadata": {},
     "output_type": "execute_result"
    }
   ],
   "source": [
    "df_words"
   ]
  },
  {
   "cell_type": "code",
   "execution_count": 21,
   "id": "ba735138",
   "metadata": {},
   "outputs": [],
   "source": [
    "common_200 = list(df_words[df_words['common_200']].index)"
   ]
  },
  {
   "cell_type": "code",
   "execution_count": 22,
   "id": "9c561677",
   "metadata": {},
   "outputs": [],
   "source": [
    "common_80 = list(df_words[df_words['common_80']].index)"
   ]
  },
  {
   "cell_type": "markdown",
   "id": "1ddb93da",
   "metadata": {},
   "source": [
    "## Textes partiels"
   ]
  },
  {
   "cell_type": "code",
   "execution_count": 52,
   "id": "7d9a39d3",
   "metadata": {},
   "outputs": [],
   "source": [
    "def partial_texts(text,p_count):\n",
    "    parags = text.split('\\n')\n",
    "    result='\\n'.join(parags[:p_count])\n",
    "    return result"
   ]
  },
  {
   "cell_type": "code",
   "execution_count": 54,
   "id": "ea7c8d11",
   "metadata": {},
   "outputs": [
    {
     "data": {
      "text/plain": [
       "'Prenant acte d’un vote défavorable, Elon Musk annonce son départ prochain de la tête de Twitter\\nAprès avoir sondé les utilisateurs du réseau social, qui ont voté contre son maintien comme dirigeant de la plateforme, le milliardaire a annoncé se mettre en quête d’un successeur. La situation financière de l’entreprise reste difficile.\\nElon Musk a annoncé le 20 décembre sur Twitter son intention de quitter la tête du réseau social dès lors qu’il aura «trouvé quelqu’un d’assez fou» pour le remplacer, précisant qu’il consacrerait son énergie aux «équipes logiciel et serveurs» une fois que ce successeur aura été nommé.\\nLe propriétaire de la plateforme réagissait au résultat du sondage qu’il avait lui-même initié la veille sur Twitter, demandant s’il devait se retirer de la tête de l’entreprise ou non. Environ 57% des 17 millions de votant avaient répondu par l’affirmative, un résultat dont Elon Musk a finalement pris acte.\\nI will resign as CEO as soon as I find someone foolish enough to take the job! After that, I will just run the software & servers teams.\\n— Elon Musk (@elonmusk) December 21, 2022\\n«Intéressant, cela semble suggérer que nous avons bien un léger problème de bots sur Twitter» avait d’abord réagi le propriétaire de la plateforme en réponse au tweet d’un institut de sondage présentant ses propres résultats – différents du sondage en ligne – estimant également que tout nouveau sondage devrait désormais être réservé aux utilisateurs payants de Twitter.\\nUn peu plus tôt, Elon Musk avait en effet retweeté le résultat d’une enquête d’opinion réalisée par l’institut HarrisX, auprès de son propre échantillon d’utilisateurs de la plateforme, et qui donnait 61% des personnes interrogées en faveur de son maintien au poste de directeur général.\\nPlusieurs médias américains avaient de leur côté assuré qu’Elon Musk s’était mis en quête d’un remplaçant, citant des sources anonymes, allégations\\xa0que le propriétaire de Twitter avait alors rejetées par une simple émoticône moqueuse postée sur son réseau social.\\nDans le passé, l’homme d’affaires s’était déjà appuyé sur des sondages pour soutenir certaines de ses décisions faisant débat, telles que la réactivation du compte de l’ancien président américain Donald Trump, ainsi que d’autres utilisateurs ayant été suspendus.\\xa0«Vox Populi, Vox Dei», avait-il commenté\\xa0après qu’une majorité d’utilisateurs s’était prononcée pour le retour de Donald Trump.\\n\\xa0\\n'"
      ]
     },
     "execution_count": 54,
     "metadata": {},
     "output_type": "execute_result"
    }
   ],
   "source": [
    "text"
   ]
  },
  {
   "cell_type": "code",
   "execution_count": 55,
   "id": "e90f1270",
   "metadata": {},
   "outputs": [
    {
     "name": "stdout",
     "output_type": "stream",
     "text": [
      "Prenant acte d’un vote défavorable, Elon Musk annonce son départ prochain de la tête de Twitter\n",
      "Après avoir sondé les utilisateurs du réseau social, qui ont voté contre son maintien comme dirigeant de la plateforme, le milliardaire a annoncé se mettre en quête d’un successeur. La situation financière de l’entreprise reste difficile.\n"
     ]
    }
   ],
   "source": [
    "pt = partial_texts(text,2)\n",
    "print(pt)"
   ]
  },
  {
   "cell_type": "markdown",
   "id": "3298b2bd",
   "metadata": {},
   "source": [
    "## Tests Entrainement"
   ]
  },
  {
   "cell_type": "code",
   "execution_count": 100,
   "id": "53283aad",
   "metadata": {},
   "outputs": [],
   "source": [
    "df_label=df_label.sample(frac=1,random_state=random_state)"
   ]
  },
  {
   "cell_type": "code",
   "execution_count": 101,
   "id": "63f0bbd4",
   "metadata": {},
   "outputs": [],
   "source": [
    "from sklearn.feature_extraction.text import CountVectorizer, TfidfVectorizer\n",
    "from sklearn.model_selection import cross_validate, train_test_split\n",
    "from sklearn.linear_model import LogisticRegression\n",
    "from sklearn.neural_network import MLPClassifier\n",
    "from sklearn.pipeline import Pipeline"
   ]
  },
  {
   "cell_type": "code",
   "execution_count": 102,
   "id": "45eb4852",
   "metadata": {},
   "outputs": [],
   "source": [
    "nb_parags = 1\n",
    "\n",
    "def cut_text(text):\n",
    "    return partial_texts(text,nb_parags)"
   ]
  },
  {
   "cell_type": "code",
   "execution_count": null,
   "id": "4b1ba2ee",
   "metadata": {},
   "outputs": [],
   "source": []
  },
  {
   "cell_type": "code",
   "execution_count": 113,
   "id": "9a43bbd4",
   "metadata": {},
   "outputs": [],
   "source": [
    "logreg = LogisticRegression(C=100, random_state=random_state, solver='lbfgs', multi_class='ovr', max_iter=1000)\n",
    "neuralnet = MLPClassifier(alpha=1, max_iter=1000, hidden_layer_sizes=(8,8), max_iter=2000, random_state=random_state)\n"
   ]
  },
  {
   "cell_type": "code",
   "execution_count": 134,
   "id": "d6ac45f9",
   "metadata": {},
   "outputs": [],
   "source": [
    "iw = ignore_lemmas['small']\n",
    "preprocessor = lemmatize\n",
    "\n",
    "\n",
    "pipelineLR = Pipeline(steps = [\n",
    "    ('vectorizer',TfidfVectorizer(preprocessor=preprocessor, tokenizer=None, stop_words=iw)), \n",
    "    ('classifier',logreg)\n",
    "                  ])\n",
    "\n",
    "pipelineMLPC = Pipeline(steps = [\n",
    "    ('vectorizer',TfidfVectorizer(preprocessor=preprocessor, tokenizer=None, stop_words=iw)), \n",
    "    ('classifier',neuralnet)\n",
    "                  ])"
   ]
  },
  {
   "cell_type": "code",
   "execution_count": null,
   "id": "902290cf",
   "metadata": {},
   "outputs": [],
   "source": []
  },
  {
   "cell_type": "code",
   "execution_count": 139,
   "id": "3733efdd",
   "metadata": {},
   "outputs": [
    {
     "name": "stdout",
     "output_type": "stream",
     "text": [
      "Crossvalidating nb_parags=1\n",
      "Crossvalidating nb_parags=2\n",
      "Crossvalidating nb_parags=3\n",
      "Crossvalidating nb_parags=5\n",
      "Crossvalidating nb_parags=8\n",
      "Crossvalidating nb_parags=13\n",
      "Crossvalidating nb_parags=21\n",
      "Crossvalidating nb_parags=34\n"
     ]
    },
    {
     "name": "stderr",
     "output_type": "stream",
     "text": [
      "/opt/homebrew/Caskroom/miniforge/base/envs/gpu39/lib/python3.9/site-packages/sklearn/neural_network/_multilayer_perceptron.py:686: ConvergenceWarning: Stochastic Optimizer: Maximum iterations (1000) reached and the optimization hasn't converged yet.\n",
      "  warnings.warn(\n"
     ]
    }
   ],
   "source": [
    "df_means = {}\n",
    "for nb_parags in [1,2,3,5,8,13,21,34]:\n",
    "    \n",
    "    print(f'Crossvalidating nb_parags={nb_parags}')\n",
    "\n",
    "    X = df_label['text'].apply(cut_text)\n",
    "    y = df_label['infox']\n",
    "\n",
    "    classifier = pipelineMLPC\n",
    "    #classifier = pipelineLR\n",
    "    scores = cross_validate(classifier, X, y, cv=5,scoring=('roc_auc','f1','accuracy','precision','recall'))\n",
    "    df_scores=pd.DataFrame(scores)\n",
    "    df_means[nb_parags] = df_scores.describe().loc['mean']\n"
   ]
  },
  {
   "cell_type": "code",
   "execution_count": 140,
   "id": "08fe47c5",
   "metadata": {},
   "outputs": [
    {
     "data": {
      "text/html": [
       "<div>\n",
       "<style scoped>\n",
       "    .dataframe tbody tr th:only-of-type {\n",
       "        vertical-align: middle;\n",
       "    }\n",
       "\n",
       "    .dataframe tbody tr th {\n",
       "        vertical-align: top;\n",
       "    }\n",
       "\n",
       "    .dataframe thead th {\n",
       "        text-align: right;\n",
       "    }\n",
       "</style>\n",
       "<table border=\"1\" class=\"dataframe\">\n",
       "  <thead>\n",
       "    <tr style=\"text-align: right;\">\n",
       "      <th></th>\n",
       "      <th>1</th>\n",
       "      <th>2</th>\n",
       "      <th>3</th>\n",
       "      <th>5</th>\n",
       "      <th>8</th>\n",
       "      <th>13</th>\n",
       "      <th>21</th>\n",
       "      <th>34</th>\n",
       "    </tr>\n",
       "  </thead>\n",
       "  <tbody>\n",
       "    <tr>\n",
       "      <th>fit_time</th>\n",
       "      <td>0.942018</td>\n",
       "      <td>1.409623</td>\n",
       "      <td>1.837831</td>\n",
       "      <td>2.799151</td>\n",
       "      <td>3.928331</td>\n",
       "      <td>4.699085</td>\n",
       "      <td>5.934447</td>\n",
       "      <td>7.533497</td>\n",
       "    </tr>\n",
       "    <tr>\n",
       "      <th>score_time</th>\n",
       "      <td>0.008578</td>\n",
       "      <td>0.023559</td>\n",
       "      <td>0.040808</td>\n",
       "      <td>0.070105</td>\n",
       "      <td>0.104479</td>\n",
       "      <td>0.145799</td>\n",
       "      <td>0.192011</td>\n",
       "      <td>0.227825</td>\n",
       "    </tr>\n",
       "    <tr>\n",
       "      <th>test_roc_auc</th>\n",
       "      <td>0.716515</td>\n",
       "      <td>0.787648</td>\n",
       "      <td>0.802535</td>\n",
       "      <td>0.829397</td>\n",
       "      <td>0.842454</td>\n",
       "      <td>0.843508</td>\n",
       "      <td>0.853097</td>\n",
       "      <td>0.857044</td>\n",
       "    </tr>\n",
       "    <tr>\n",
       "      <th>test_f1</th>\n",
       "      <td>0.589511</td>\n",
       "      <td>0.634611</td>\n",
       "      <td>0.623185</td>\n",
       "      <td>0.698431</td>\n",
       "      <td>0.714293</td>\n",
       "      <td>0.692642</td>\n",
       "      <td>0.710990</td>\n",
       "      <td>0.737535</td>\n",
       "    </tr>\n",
       "    <tr>\n",
       "      <th>test_accuracy</th>\n",
       "      <td>0.684444</td>\n",
       "      <td>0.716667</td>\n",
       "      <td>0.714444</td>\n",
       "      <td>0.764444</td>\n",
       "      <td>0.775556</td>\n",
       "      <td>0.758889</td>\n",
       "      <td>0.775556</td>\n",
       "      <td>0.782222</td>\n",
       "    </tr>\n",
       "    <tr>\n",
       "      <th>test_precision</th>\n",
       "      <td>0.631456</td>\n",
       "      <td>0.677313</td>\n",
       "      <td>0.681463</td>\n",
       "      <td>0.740960</td>\n",
       "      <td>0.759141</td>\n",
       "      <td>0.734620</td>\n",
       "      <td>0.762435</td>\n",
       "      <td>0.739312</td>\n",
       "    </tr>\n",
       "    <tr>\n",
       "      <th>test_recall</th>\n",
       "      <td>0.560757</td>\n",
       "      <td>0.603495</td>\n",
       "      <td>0.582270</td>\n",
       "      <td>0.662270</td>\n",
       "      <td>0.678378</td>\n",
       "      <td>0.659568</td>\n",
       "      <td>0.667604</td>\n",
       "      <td>0.739964</td>\n",
       "    </tr>\n",
       "  </tbody>\n",
       "</table>\n",
       "</div>"
      ],
      "text/plain": [
       "                      1         2         3         5         8         13   \n",
       "fit_time        0.942018  1.409623  1.837831  2.799151  3.928331  4.699085  \\\n",
       "score_time      0.008578  0.023559  0.040808  0.070105  0.104479  0.145799   \n",
       "test_roc_auc    0.716515  0.787648  0.802535  0.829397  0.842454  0.843508   \n",
       "test_f1         0.589511  0.634611  0.623185  0.698431  0.714293  0.692642   \n",
       "test_accuracy   0.684444  0.716667  0.714444  0.764444  0.775556  0.758889   \n",
       "test_precision  0.631456  0.677313  0.681463  0.740960  0.759141  0.734620   \n",
       "test_recall     0.560757  0.603495  0.582270  0.662270  0.678378  0.659568   \n",
       "\n",
       "                      21        34  \n",
       "fit_time        5.934447  7.533497  \n",
       "score_time      0.192011  0.227825  \n",
       "test_roc_auc    0.853097  0.857044  \n",
       "test_f1         0.710990  0.737535  \n",
       "test_accuracy   0.775556  0.782222  \n",
       "test_precision  0.762435  0.739312  \n",
       "test_recall     0.667604  0.739964  "
      ]
     },
     "execution_count": 140,
     "metadata": {},
     "output_type": "execute_result"
    }
   ],
   "source": [
    "bench = pd.DataFrame(df_means)\n",
    "bench"
   ]
  },
  {
   "cell_type": "code",
   "execution_count": 141,
   "id": "f6312544",
   "metadata": {},
   "outputs": [
    {
     "data": {
      "text/plain": [
       "<Axes: >"
      ]
     },
     "execution_count": 141,
     "metadata": {},
     "output_type": "execute_result"
    },
    {
     "data": {
      "image/png": "[encoded data removed]",
      "text/plain": [
       "<Figure size 640x480 with 1 Axes>"
      ]
     },
     "metadata": {},
     "output_type": "display_data"
    }
   ],
   "source": [
    "sns.lineplot(data=bench.T[['test_accuracy','test_f1']])"
   ]
  },
  {
   "cell_type": "code",
   "execution_count": 142,
   "id": "6066c4dc",
   "metadata": {},
   "outputs": [
    {
     "data": {
      "text/plain": [
       "<Axes: >"
      ]
     },
     "execution_count": 142,
     "metadata": {},
     "output_type": "execute_result"
    },
    {
     "data": {
      "image/png": "[encoded data removed]",
      "text/plain": [
       "<Figure size 640x480 with 1 Axes>"
      ]
     },
     "metadata": {},
     "output_type": "display_data"
    }
   ],
   "source": [
    "sns.lineplot(data=bench.T.drop(columns=['fit_time','score_time']))"
   ]
  },
  {
   "cell_type": "code",
   "execution_count": 136,
   "id": "31d1eb03",
   "metadata": {},
   "outputs": [
    {
     "data": {
      "text/html": [
       "<div>\n",
       "<style scoped>\n",
       "    .dataframe tbody tr th:only-of-type {\n",
       "        vertical-align: middle;\n",
       "    }\n",
       "\n",
       "    .dataframe tbody tr th {\n",
       "        vertical-align: top;\n",
       "    }\n",
       "\n",
       "    .dataframe thead th {\n",
       "        text-align: right;\n",
       "    }\n",
       "</style>\n",
       "<table border=\"1\" class=\"dataframe\">\n",
       "  <thead>\n",
       "    <tr style=\"text-align: right;\">\n",
       "      <th></th>\n",
       "      <th>1</th>\n",
       "      <th>2</th>\n",
       "      <th>3</th>\n",
       "      <th>5</th>\n",
       "      <th>8</th>\n",
       "      <th>13</th>\n",
       "      <th>21</th>\n",
       "      <th>34</th>\n",
       "    </tr>\n",
       "  </thead>\n",
       "  <tbody>\n",
       "    <tr>\n",
       "      <th>fit_time</th>\n",
       "      <td>0.027199</td>\n",
       "      <td>0.063942</td>\n",
       "      <td>0.108765</td>\n",
       "      <td>0.207874</td>\n",
       "      <td>0.313039</td>\n",
       "      <td>0.364817</td>\n",
       "      <td>0.544717</td>\n",
       "      <td>0.627997</td>\n",
       "    </tr>\n",
       "    <tr>\n",
       "      <th>score_time</th>\n",
       "      <td>0.008207</td>\n",
       "      <td>0.022069</td>\n",
       "      <td>0.038516</td>\n",
       "      <td>0.068229</td>\n",
       "      <td>0.101681</td>\n",
       "      <td>0.142431</td>\n",
       "      <td>0.189877</td>\n",
       "      <td>0.221977</td>\n",
       "    </tr>\n",
       "    <tr>\n",
       "      <th>test_roc_auc</th>\n",
       "      <td>0.714239</td>\n",
       "      <td>0.785892</td>\n",
       "      <td>0.801491</td>\n",
       "      <td>0.829497</td>\n",
       "      <td>0.841994</td>\n",
       "      <td>0.843407</td>\n",
       "      <td>0.852818</td>\n",
       "      <td>0.859103</td>\n",
       "    </tr>\n",
       "    <tr>\n",
       "      <th>test_f1</th>\n",
       "      <td>0.596868</td>\n",
       "      <td>0.633293</td>\n",
       "      <td>0.627708</td>\n",
       "      <td>0.687528</td>\n",
       "      <td>0.712049</td>\n",
       "      <td>0.696478</td>\n",
       "      <td>0.722164</td>\n",
       "      <td>0.731711</td>\n",
       "    </tr>\n",
       "    <tr>\n",
       "      <th>test_accuracy</th>\n",
       "      <td>0.684444</td>\n",
       "      <td>0.716667</td>\n",
       "      <td>0.717778</td>\n",
       "      <td>0.758889</td>\n",
       "      <td>0.773333</td>\n",
       "      <td>0.763333</td>\n",
       "      <td>0.780000</td>\n",
       "      <td>0.785556</td>\n",
       "    </tr>\n",
       "    <tr>\n",
       "      <th>test_precision</th>\n",
       "      <td>0.629603</td>\n",
       "      <td>0.677701</td>\n",
       "      <td>0.685246</td>\n",
       "      <td>0.743290</td>\n",
       "      <td>0.754542</td>\n",
       "      <td>0.742529</td>\n",
       "      <td>0.758134</td>\n",
       "      <td>0.762821</td>\n",
       "    </tr>\n",
       "    <tr>\n",
       "      <th>test_recall</th>\n",
       "      <td>0.574090</td>\n",
       "      <td>0.600829</td>\n",
       "      <td>0.587640</td>\n",
       "      <td>0.640937</td>\n",
       "      <td>0.678342</td>\n",
       "      <td>0.659532</td>\n",
       "      <td>0.691928</td>\n",
       "      <td>0.705081</td>\n",
       "    </tr>\n",
       "  </tbody>\n",
       "</table>\n",
       "</div>"
      ],
      "text/plain": [
       "                      1         2         3         5         8         13   \n",
       "fit_time        0.027199  0.063942  0.108765  0.207874  0.313039  0.364817  \\\n",
       "score_time      0.008207  0.022069  0.038516  0.068229  0.101681  0.142431   \n",
       "test_roc_auc    0.714239  0.785892  0.801491  0.829497  0.841994  0.843407   \n",
       "test_f1         0.596868  0.633293  0.627708  0.687528  0.712049  0.696478   \n",
       "test_accuracy   0.684444  0.716667  0.717778  0.758889  0.773333  0.763333   \n",
       "test_precision  0.629603  0.677701  0.685246  0.743290  0.754542  0.742529   \n",
       "test_recall     0.574090  0.600829  0.587640  0.640937  0.678342  0.659532   \n",
       "\n",
       "                      21        34  \n",
       "fit_time        0.544717  0.627997  \n",
       "score_time      0.189877  0.221977  \n",
       "test_roc_auc    0.852818  0.859103  \n",
       "test_f1         0.722164  0.731711  \n",
       "test_accuracy   0.780000  0.785556  \n",
       "test_precision  0.758134  0.762821  \n",
       "test_recall     0.691928  0.705081  "
      ]
     },
     "execution_count": 136,
     "metadata": {},
     "output_type": "execute_result"
    }
   ],
   "source": [
    "bench = pd.DataFrame(df_means)\n",
    "bench"
   ]
  },
  {
   "cell_type": "markdown",
   "id": "e95ee829",
   "metadata": {},
   "source": [
    "## Entrainement sur tout le dataset"
   ]
  },
  {
   "cell_type": "code",
   "execution_count": 30,
   "id": "78f95e77",
   "metadata": {},
   "outputs": [
    {
     "data": {
      "text/html": [
       "<style>#sk-container-id-1 {color: black;background-color: white;}#sk-container-id-1 pre{padding: 0;}#sk-container-id-1 div.sk-toggleable {background-color: white;}#sk-container-id-1 label.sk-toggleable__label {cursor: pointer;display: block;width: 100%;margin-bottom: 0;padding: 0.3em;box-sizing: border-box;text-align: center;}#sk-container-id-1 label.sk-toggleable__label-arrow:before {content: \"▸\";float: left;margin-right: 0.25em;color: #696969;}#sk-container-id-1 label.sk-toggleable__label-arrow:hover:before {color: black;}#sk-container-id-1 div.sk-estimator:hover label.sk-toggleable__label-arrow:before {color: black;}#sk-container-id-1 div.sk-toggleable__content {max-height: 0;max-width: 0;overflow: hidden;text-align: left;background-color: #f0f8ff;}#sk-container-id-1 div.sk-toggleable__content pre {margin: 0.2em;color: black;border-radius: 0.25em;background-color: #f0f8ff;}#sk-container-id-1 input.sk-toggleable__control:checked~div.sk-toggleable__content {max-height: 200px;max-width: 100%;overflow: auto;}#sk-container-id-1 input.sk-toggleable__control:checked~label.sk-toggleable__label-arrow:before {content: \"▾\";}#sk-container-id-1 div.sk-estimator input.sk-toggleable__control:checked~label.sk-toggleable__label {background-color: #d4ebff;}#sk-container-id-1 div.sk-label input.sk-toggleable__control:checked~label.sk-toggleable__label {background-color: #d4ebff;}#sk-container-id-1 input.sk-hidden--visually {border: 0;clip: rect(1px 1px 1px 1px);clip: rect(1px, 1px, 1px, 1px);height: 1px;margin: -1px;overflow: hidden;padding: 0;position: absolute;width: 1px;}#sk-container-id-1 div.sk-estimator {font-family: monospace;background-color: #f0f8ff;border: 1px dotted black;border-radius: 0.25em;box-sizing: border-box;margin-bottom: 0.5em;}#sk-container-id-1 div.sk-estimator:hover {background-color: #d4ebff;}#sk-container-id-1 div.sk-parallel-item::after {content: \"\";width: 100%;border-bottom: 1px solid gray;flex-grow: 1;}#sk-container-id-1 div.sk-label:hover label.sk-toggleable__label {background-color: #d4ebff;}#sk-container-id-1 div.sk-serial::before {content: \"\";position: absolute;border-left: 1px solid gray;box-sizing: border-box;top: 0;bottom: 0;left: 50%;z-index: 0;}#sk-container-id-1 div.sk-serial {display: flex;flex-direction: column;align-items: center;background-color: white;padding-right: 0.2em;padding-left: 0.2em;position: relative;}#sk-container-id-1 div.sk-item {position: relative;z-index: 1;}#sk-container-id-1 div.sk-parallel {display: flex;align-items: stretch;justify-content: center;background-color: white;position: relative;}#sk-container-id-1 div.sk-item::before, #sk-container-id-1 div.sk-parallel-item::before {content: \"\";position: absolute;border-left: 1px solid gray;box-sizing: border-box;top: 0;bottom: 0;left: 50%;z-index: -1;}#sk-container-id-1 div.sk-parallel-item {display: flex;flex-direction: column;z-index: 1;position: relative;background-color: white;}#sk-container-id-1 div.sk-parallel-item:first-child::after {align-self: flex-end;width: 50%;}#sk-container-id-1 div.sk-parallel-item:last-child::after {align-self: flex-start;width: 50%;}#sk-container-id-1 div.sk-parallel-item:only-child::after {width: 0;}#sk-container-id-1 div.sk-dashed-wrapped {border: 1px dashed gray;margin: 0 0.4em 0.5em 0.4em;box-sizing: border-box;padding-bottom: 0.4em;background-color: white;}#sk-container-id-1 div.sk-label label {font-family: monospace;font-weight: bold;display: inline-block;line-height: 1.2em;}#sk-container-id-1 div.sk-label-container {text-align: center;}#sk-container-id-1 div.sk-container {/* jupyter's `normalize.less` sets `[hidden] { display: none; }` but bootstrap.min.css set `[hidden] { display: none !important; }` so we also need the `!important` here to be able to override the default hidden behavior on the sphinx rendered scikit-learn.org. See: https://github.com/scikit-learn/scikit-learn/issues/21755 */display: inline-block !important;position: relative;}#sk-container-id-1 div.sk-text-repr-fallback {display: none;}</style><div id=\"sk-container-id-1\" class=\"sk-top-container\"><div class=\"sk-text-repr-fallback\"><pre>Pipeline(steps=[(&#x27;vectorizer&#x27;,\n",
       "                 TfidfVectorizer(preprocessor=&lt;function preprocess at 0x17c97b160&gt;,\n",
       "                                 stop_words=[&#x27;de&#x27;, &#x27;la&#x27;, &#x27;le&#x27;, &#x27;et&#x27;, &#x27;les&#x27;,\n",
       "                                             &#x27;des&#x27;, &#x27;en&#x27;, &#x27;un&#x27;, &#x27;est&#x27;, &#x27;que&#x27;,\n",
       "                                             &#x27;du&#x27;, &#x27;une&#x27;, &#x27;être&#x27;, &#x27;avoir&#x27;,\n",
       "                                             &#x27;pour&#x27;, &#x27;qui&#x27;, &#x27;dans&#x27;, &#x27;il&#x27;, &#x27;par&#x27;,\n",
       "                                             &#x27;pas&#x27;, &#x27;sur&#x27;, &#x27;au&#x27;, &#x27;ce&#x27;, &#x27;plaire&#x27;,\n",
       "                                             &#x27;faire&#x27;, &#x27;ne&#x27;, &#x27;qu&#x27;, &#x27;pouvoir&#x27;,\n",
       "                                             &#x27;se&#x27;, &#x27;avec&#x27;, ...])),\n",
       "                (&#x27;classifier&#x27;,\n",
       "                 LogisticRegression(C=5, max_iter=1000, multi_class=&#x27;ovr&#x27;,\n",
       "                                    random_state=42))])</pre><b>In a Jupyter environment, please rerun this cell to show the HTML representation or trust the notebook. <br />On GitHub, the HTML representation is unable to render, please try loading this page with nbviewer.org.</b></div><div class=\"sk-container\" hidden><div class=\"sk-item sk-dashed-wrapped\"><div class=\"sk-label-container\"><div class=\"sk-label sk-toggleable\"><input class=\"sk-toggleable__control sk-hidden--visually\" id=\"sk-estimator-id-1\" type=\"checkbox\" ><label for=\"sk-estimator-id-1\" class=\"sk-toggleable__label sk-toggleable__label-arrow\">Pipeline</label><div class=\"sk-toggleable__content\"><pre>Pipeline(steps=[(&#x27;vectorizer&#x27;,\n",
       "                 TfidfVectorizer(preprocessor=&lt;function preprocess at 0x17c97b160&gt;,\n",
       "                                 stop_words=[&#x27;de&#x27;, &#x27;la&#x27;, &#x27;le&#x27;, &#x27;et&#x27;, &#x27;les&#x27;,\n",
       "                                             &#x27;des&#x27;, &#x27;en&#x27;, &#x27;un&#x27;, &#x27;est&#x27;, &#x27;que&#x27;,\n",
       "                                             &#x27;du&#x27;, &#x27;une&#x27;, &#x27;être&#x27;, &#x27;avoir&#x27;,\n",
       "                                             &#x27;pour&#x27;, &#x27;qui&#x27;, &#x27;dans&#x27;, &#x27;il&#x27;, &#x27;par&#x27;,\n",
       "                                             &#x27;pas&#x27;, &#x27;sur&#x27;, &#x27;au&#x27;, &#x27;ce&#x27;, &#x27;plaire&#x27;,\n",
       "                                             &#x27;faire&#x27;, &#x27;ne&#x27;, &#x27;qu&#x27;, &#x27;pouvoir&#x27;,\n",
       "                                             &#x27;se&#x27;, &#x27;avec&#x27;, ...])),\n",
       "                (&#x27;classifier&#x27;,\n",
       "                 LogisticRegression(C=5, max_iter=1000, multi_class=&#x27;ovr&#x27;,\n",
       "                                    random_state=42))])</pre></div></div></div><div class=\"sk-serial\"><div class=\"sk-item\"><div class=\"sk-estimator sk-toggleable\"><input class=\"sk-toggleable__control sk-hidden--visually\" id=\"sk-estimator-id-2\" type=\"checkbox\" ><label for=\"sk-estimator-id-2\" class=\"sk-toggleable__label sk-toggleable__label-arrow\">TfidfVectorizer</label><div class=\"sk-toggleable__content\"><pre>TfidfVectorizer(preprocessor=&lt;function preprocess at 0x17c97b160&gt;,\n",
       "                stop_words=[&#x27;de&#x27;, &#x27;la&#x27;, &#x27;le&#x27;, &#x27;et&#x27;, &#x27;les&#x27;, &#x27;des&#x27;, &#x27;en&#x27;, &#x27;un&#x27;,\n",
       "                            &#x27;est&#x27;, &#x27;que&#x27;, &#x27;du&#x27;, &#x27;une&#x27;, &#x27;être&#x27;, &#x27;avoir&#x27;, &#x27;pour&#x27;,\n",
       "                            &#x27;qui&#x27;, &#x27;dans&#x27;, &#x27;il&#x27;, &#x27;par&#x27;, &#x27;pas&#x27;, &#x27;sur&#x27;, &#x27;au&#x27;,\n",
       "                            &#x27;ce&#x27;, &#x27;plaire&#x27;, &#x27;faire&#x27;, &#x27;ne&#x27;, &#x27;qu&#x27;, &#x27;pouvoir&#x27;,\n",
       "                            &#x27;se&#x27;, &#x27;avec&#x27;, ...])</pre></div></div></div><div class=\"sk-item\"><div class=\"sk-estimator sk-toggleable\"><input class=\"sk-toggleable__control sk-hidden--visually\" id=\"sk-estimator-id-3\" type=\"checkbox\" ><label for=\"sk-estimator-id-3\" class=\"sk-toggleable__label sk-toggleable__label-arrow\">LogisticRegression</label><div class=\"sk-toggleable__content\"><pre>LogisticRegression(C=5, max_iter=1000, multi_class=&#x27;ovr&#x27;, random_state=42)</pre></div></div></div></div></div></div></div>"
      ],
      "text/plain": [
       "Pipeline(steps=[('vectorizer',\n",
       "                 TfidfVectorizer(preprocessor=<function preprocess at 0x17c97b160>,\n",
       "                                 stop_words=['de', 'la', 'le', 'et', 'les',\n",
       "                                             'des', 'en', 'un', 'est', 'que',\n",
       "                                             'du', 'une', 'être', 'avoir',\n",
       "                                             'pour', 'qui', 'dans', 'il', 'par',\n",
       "                                             'pas', 'sur', 'au', 'ce', 'plaire',\n",
       "                                             'faire', 'ne', 'qu', 'pouvoir',\n",
       "                                             'se', 'avec', ...])),\n",
       "                ('classifier',\n",
       "                 LogisticRegression(C=5, max_iter=1000, multi_class='ovr',\n",
       "                                    random_state=42))])"
      ]
     },
     "execution_count": 30,
     "metadata": {},
     "output_type": "execute_result"
    }
   ],
   "source": [
    "predictor = pipelineLR\n",
    "predictor.fit(df_label['text'], df_label['infox'])"
   ]
  },
  {
   "cell_type": "code",
   "execution_count": 31,
   "id": "d1696fff",
   "metadata": {},
   "outputs": [
    {
     "data": {
      "text/plain": [
       "<seaborn.axisgrid.FacetGrid at 0x2893a2e50>"
      ]
     },
     "execution_count": 31,
     "metadata": {},
     "output_type": "execute_result"
    },
    {
     "data": {
      "image/png": "[encoded data removed]",
      "text/plain": [
       "<Figure size 500x500 with 1 Axes>"
      ]
     },
     "metadata": {},
     "output_type": "display_data"
    }
   ],
   "source": [
    "df_label['predict_infox']=predictor.predict_proba(df_label['text'])[:,1]\n",
    "sns.displot(df_label,x='predict_infox')"
   ]
  },
  {
   "cell_type": "markdown",
   "id": "76996d3a",
   "metadata": {},
   "source": [
    "# Sauvegarde des résultats\n",
    "---"
   ]
  },
  {
   "cell_type": "markdown",
   "id": "fb7949bc",
   "metadata": {},
   "source": [
    "# Conclusions\n",
    "---"
   ]
  },
  {
   "cell_type": "markdown",
   "id": "bd360655",
   "metadata": {},
   "source": [
    "# Bricolages\n",
    "---"
   ]
  },
  {
   "cell_type": "code",
   "execution_count": 25,
   "id": "2e5febd1",
   "metadata": {},
   "outputs": [],
   "source": [
    "import patat.util.file"
   ]
  },
  {
   "cell_type": "code",
   "execution_count": 27,
   "id": "815480d7",
   "metadata": {},
   "outputs": [],
   "source": [
    "patat.util.file.pickle_save(common_200,'data/tmp/common_200.pickle')"
   ]
  },
  {
   "cell_type": "code",
   "execution_count": null,
   "id": "db95eaac",
   "metadata": {},
   "outputs": [],
   "source": []
  }
 ],
 "metadata": {
  "kernelspec": {
   "display_name": "Python 3 (ipykernel)",
   "language": "python",
   "name": "python3"
  },
  "language_info": {
   "codemirror_mode": {
    "name": "ipython",
    "version": 3
   },
   "file_extension": ".py",
   "mimetype": "text/x-python",
   "name": "python",
   "nbconvert_exporter": "python",
   "pygments_lexer": "ipython3",
   "version": "3.9.16"
  }
 },
 "nbformat": 4,
 "nbformat_minor": 5
}
