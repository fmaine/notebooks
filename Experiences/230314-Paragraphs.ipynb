{
 "cells": [
  {
   "cell_type": "markdown",
   "id": "e3ec4689",
   "metadata": {},
   "source": [
    "# Plateforme Agnostique de Traitement et d'Analyse des Textes\n",
    "### Carnet d'expérimentation\n",
    "---\n",
    "\n",
    "## Sujet : Dev - Parsing Pragraphes\n",
    "---"
   ]
  },
  {
   "cell_type": "markdown",
   "id": "2601e626",
   "metadata": {},
   "source": [
    "# Observations et environnement\n",
    "---"
   ]
  },
  {
   "cell_type": "code",
   "execution_count": 1,
   "id": "e6fbd80c",
   "metadata": {},
   "outputs": [],
   "source": [
    "random_state = 42"
   ]
  },
  {
   "cell_type": "code",
   "execution_count": 2,
   "id": "5d0de4d7",
   "metadata": {},
   "outputs": [
    {
     "name": "stdout",
     "output_type": "stream",
     "text": [
      "/Users/fm/Desktop/Work/Patat\n"
     ]
    }
   ],
   "source": [
    "cd ../.."
   ]
  },
  {
   "cell_type": "code",
   "execution_count": 3,
   "id": "32256b0d",
   "metadata": {},
   "outputs": [],
   "source": [
    "import importlib\n",
    "import pandas as pd\n",
    "import seaborn as sns"
   ]
  },
  {
   "cell_type": "markdown",
   "id": "29618668",
   "metadata": {},
   "source": [
    "## Labels et Articles"
   ]
  },
  {
   "cell_type": "code",
   "execution_count": 4,
   "id": "3b357704",
   "metadata": {},
   "outputs": [],
   "source": [
    "import patat.db.label_db"
   ]
  },
  {
   "cell_type": "code",
   "execution_count": 5,
   "id": "7c25908f",
   "metadata": {},
   "outputs": [
    {
     "data": {
      "text/html": [
       "<div>\n",
       "<style scoped>\n",
       "    .dataframe tbody tr th:only-of-type {\n",
       "        vertical-align: middle;\n",
       "    }\n",
       "\n",
       "    .dataframe tbody tr th {\n",
       "        vertical-align: top;\n",
       "    }\n",
       "\n",
       "    .dataframe thead th {\n",
       "        text-align: right;\n",
       "    }\n",
       "</style>\n",
       "<table border=\"1\" class=\"dataframe\">\n",
       "  <thead>\n",
       "    <tr style=\"text-align: right;\">\n",
       "      <th></th>\n",
       "      <th>url</th>\n",
       "      <th>label</th>\n",
       "      <th>value</th>\n",
       "      <th>owner</th>\n",
       "      <th>type</th>\n",
       "      <th>url_h</th>\n",
       "    </tr>\n",
       "  </thead>\n",
       "  <tbody>\n",
       "    <tr>\n",
       "      <th>0</th>\n",
       "      <td>https://www.alnas.fr/actualite/communaute/lara...</td>\n",
       "      <td>infox</td>\n",
       "      <td>0.000000</td>\n",
       "      <td>recueil</td>\n",
       "      <td>obs</td>\n",
       "      <td>ef05018ec0f5d637bceb4cef7004e8ee5fe48f6f</td>\n",
       "    </tr>\n",
       "    <tr>\n",
       "      <th>1</th>\n",
       "      <td>https://www.alnas.fr/actualite/communaute/lara...</td>\n",
       "      <td>signe</td>\n",
       "      <td>0.000000</td>\n",
       "      <td>recueil</td>\n",
       "      <td>obs</td>\n",
       "      <td>ef05018ec0f5d637bceb4cef7004e8ee5fe48f6f</td>\n",
       "    </tr>\n",
       "    <tr>\n",
       "      <th>2</th>\n",
       "      <td>https://www.alnas.fr/actualite/communaute/lara...</td>\n",
       "      <td>entites_nommees</td>\n",
       "      <td>1.000000</td>\n",
       "      <td>recueil</td>\n",
       "      <td>obs</td>\n",
       "      <td>ef05018ec0f5d637bceb4cef7004e8ee5fe48f6f</td>\n",
       "    </tr>\n",
       "    <tr>\n",
       "      <th>3</th>\n",
       "      <td>https://www.alnas.fr/actualite/communaute/lara...</td>\n",
       "      <td>entites_coherentes</td>\n",
       "      <td>1.000000</td>\n",
       "      <td>recueil</td>\n",
       "      <td>obs</td>\n",
       "      <td>ef05018ec0f5d637bceb4cef7004e8ee5fe48f6f</td>\n",
       "    </tr>\n",
       "    <tr>\n",
       "      <th>4</th>\n",
       "      <td>https://www.alnas.fr/actualite/communaute/lara...</td>\n",
       "      <td>ouverture_esprit</td>\n",
       "      <td>0.000000</td>\n",
       "      <td>recueil</td>\n",
       "      <td>obs</td>\n",
       "      <td>ef05018ec0f5d637bceb4cef7004e8ee5fe48f6f</td>\n",
       "    </tr>\n",
       "    <tr>\n",
       "      <th>...</th>\n",
       "      <td>...</td>\n",
       "      <td>...</td>\n",
       "      <td>...</td>\n",
       "      <td>...</td>\n",
       "      <td>...</td>\n",
       "      <td>...</td>\n",
       "    </tr>\n",
       "    <tr>\n",
       "      <th>266503</th>\n",
       "      <td>https://www.profession-gendarme.com/zelensky-e...</td>\n",
       "      <td>infox</td>\n",
       "      <td>0.556761</td>\n",
       "      <td>220930-tf_lr.pp</td>\n",
       "      <td>pred</td>\n",
       "      <td>e346761c2a99d892b26c9388480e0ee6ad6b303b</td>\n",
       "    </tr>\n",
       "    <tr>\n",
       "      <th>266504</th>\n",
       "      <td>https://www.profession-gendarme.com/zelensky-l...</td>\n",
       "      <td>infox</td>\n",
       "      <td>0.164531</td>\n",
       "      <td>220930-tf_lr.pp</td>\n",
       "      <td>pred</td>\n",
       "      <td>77525354644316eadab53960efa8f5fd028c7f67</td>\n",
       "    </tr>\n",
       "    <tr>\n",
       "      <th>266505</th>\n",
       "      <td>https://www.profession-gendarme.com/zelensky-m...</td>\n",
       "      <td>infox</td>\n",
       "      <td>0.673791</td>\n",
       "      <td>220930-tf_lr.pp</td>\n",
       "      <td>pred</td>\n",
       "      <td>fc6a074da5c02032bc9fc3f35f1044bc4029042c</td>\n",
       "    </tr>\n",
       "    <tr>\n",
       "      <th>266506</th>\n",
       "      <td>https://www.profession-gendarme.com/zero-mort-...</td>\n",
       "      <td>infox</td>\n",
       "      <td>0.103192</td>\n",
       "      <td>220930-tf_lr.pp</td>\n",
       "      <td>pred</td>\n",
       "      <td>e4f0a8961d79c9a5f66c80d7aa4196cb679af2b0</td>\n",
       "    </tr>\n",
       "    <tr>\n",
       "      <th>266507</th>\n",
       "      <td>https://www.profession-gendarme.com/zoom-franc...</td>\n",
       "      <td>infox</td>\n",
       "      <td>0.303205</td>\n",
       "      <td>220930-tf_lr.pp</td>\n",
       "      <td>pred</td>\n",
       "      <td>36a0091795b15d56005a6b7b8963ada539f598eb</td>\n",
       "    </tr>\n",
       "  </tbody>\n",
       "</table>\n",
       "<p>266508 rows × 6 columns</p>\n",
       "</div>"
      ],
      "text/plain": [
       "                                                      url               label  \\\n",
       "0       https://www.alnas.fr/actualite/communaute/lara...               infox   \n",
       "1       https://www.alnas.fr/actualite/communaute/lara...               signe   \n",
       "2       https://www.alnas.fr/actualite/communaute/lara...     entites_nommees   \n",
       "3       https://www.alnas.fr/actualite/communaute/lara...  entites_coherentes   \n",
       "4       https://www.alnas.fr/actualite/communaute/lara...    ouverture_esprit   \n",
       "...                                                   ...                 ...   \n",
       "266503  https://www.profession-gendarme.com/zelensky-e...               infox   \n",
       "266504  https://www.profession-gendarme.com/zelensky-l...               infox   \n",
       "266505  https://www.profession-gendarme.com/zelensky-m...               infox   \n",
       "266506  https://www.profession-gendarme.com/zero-mort-...               infox   \n",
       "266507  https://www.profession-gendarme.com/zoom-franc...               infox   \n",
       "\n",
       "           value            owner  type  \\\n",
       "0       0.000000          recueil   obs   \n",
       "1       0.000000          recueil   obs   \n",
       "2       1.000000          recueil   obs   \n",
       "3       1.000000          recueil   obs   \n",
       "4       0.000000          recueil   obs   \n",
       "...          ...              ...   ...   \n",
       "266503  0.556761  220930-tf_lr.pp  pred   \n",
       "266504  0.164531  220930-tf_lr.pp  pred   \n",
       "266505  0.673791  220930-tf_lr.pp  pred   \n",
       "266506  0.103192  220930-tf_lr.pp  pred   \n",
       "266507  0.303205  220930-tf_lr.pp  pred   \n",
       "\n",
       "                                           url_h  \n",
       "0       ef05018ec0f5d637bceb4cef7004e8ee5fe48f6f  \n",
       "1       ef05018ec0f5d637bceb4cef7004e8ee5fe48f6f  \n",
       "2       ef05018ec0f5d637bceb4cef7004e8ee5fe48f6f  \n",
       "3       ef05018ec0f5d637bceb4cef7004e8ee5fe48f6f  \n",
       "4       ef05018ec0f5d637bceb4cef7004e8ee5fe48f6f  \n",
       "...                                          ...  \n",
       "266503  e346761c2a99d892b26c9388480e0ee6ad6b303b  \n",
       "266504  77525354644316eadab53960efa8f5fd028c7f67  \n",
       "266505  fc6a074da5c02032bc9fc3f35f1044bc4029042c  \n",
       "266506  e4f0a8961d79c9a5f66c80d7aa4196cb679af2b0  \n",
       "266507  36a0091795b15d56005a6b7b8963ada539f598eb  \n",
       "\n",
       "[266508 rows x 6 columns]"
      ]
     },
     "execution_count": 5,
     "metadata": {},
     "output_type": "execute_result"
    }
   ],
   "source": [
    "importlib.reload(patat.db.label_db)\n",
    "label_filename = ''\n",
    "\n",
    "label_db = patat.db.label_db.LabelDb(label_filename)\n",
    "label_db.df()"
   ]
  },
  {
   "cell_type": "code",
   "execution_count": 6,
   "id": "96710531",
   "metadata": {},
   "outputs": [],
   "source": [
    "import patat.db.article_db"
   ]
  },
  {
   "cell_type": "code",
   "execution_count": 7,
   "id": "c77ec74d",
   "metadata": {},
   "outputs": [
    {
     "name": "stderr",
     "output_type": "stream",
     "text": [
      "/Users/fm/Desktop/Work/Patat/patat/db/article_db.py:37: DtypeWarning: Columns (4,5) have mixed types. Specify dtype option on import or set low_memory=False.\n",
      "  df = pd.read_csv(filename)\n"
     ]
    },
    {
     "data": {
      "text/html": [
       "<div>\n",
       "<style scoped>\n",
       "    .dataframe tbody tr th:only-of-type {\n",
       "        vertical-align: middle;\n",
       "    }\n",
       "\n",
       "    .dataframe tbody tr th {\n",
       "        vertical-align: top;\n",
       "    }\n",
       "\n",
       "    .dataframe thead th {\n",
       "        text-align: right;\n",
       "    }\n",
       "</style>\n",
       "<table border=\"1\" class=\"dataframe\">\n",
       "  <thead>\n",
       "    <tr style=\"text-align: right;\">\n",
       "      <th></th>\n",
       "      <th>url</th>\n",
       "      <th>title</th>\n",
       "      <th>article</th>\n",
       "      <th>author</th>\n",
       "      <th>tag</th>\n",
       "      <th>abstract</th>\n",
       "      <th>site</th>\n",
       "      <th>date_iso</th>\n",
       "      <th>url_h</th>\n",
       "      <th>c_count</th>\n",
       "    </tr>\n",
       "  </thead>\n",
       "  <tbody>\n",
       "    <tr>\n",
       "      <th>0</th>\n",
       "      <td>https://www.alnas.fr/actualite/communaute/lara...</td>\n",
       "      <td>L’Arabie saoudite organise des célébrations d'...</td>\n",
       "      <td>L’Arabie saoudite a organisé un événement pour...</td>\n",
       "      <td>Par Youcef -</td>\n",
       "      <td>['Actualités', 'Communauté']</td>\n",
       "      <td>NaN</td>\n",
       "      <td>www.alnas.fr</td>\n",
       "      <td>2022-10-31T00:00:00</td>\n",
       "      <td>ef05018ec0f5d637bceb4cef7004e8ee5fe48f6f</td>\n",
       "      <td>NaN</td>\n",
       "    </tr>\n",
       "    <tr>\n",
       "      <th>1</th>\n",
       "      <td>https://www.alnas.fr/actualite/en-vrac/quel-ar...</td>\n",
       "      <td>« Quel art ! » : un étudiant en droit invente ...</td>\n",
       "      <td>Une professeure de droit a partagé sur Twitter...</td>\n",
       "      <td>Par Oussama -</td>\n",
       "      <td>['Actualités', 'En vrac']</td>\n",
       "      <td>NaN</td>\n",
       "      <td>www.alnas.fr</td>\n",
       "      <td>2022-10-19T00:00:00</td>\n",
       "      <td>87a4fb33eda6f687b0fac707bf5f2e4fcf871420</td>\n",
       "      <td>NaN</td>\n",
       "    </tr>\n",
       "    <tr>\n",
       "      <th>2</th>\n",
       "      <td>https://www.alnas.fr/actualite/politique/laust...</td>\n",
       "      <td>L’Australie ne reconnaît plus Jérusalem comme ...</td>\n",
       "      <td>Le gouvernement israélien a qualifié la positi...</td>\n",
       "      <td>Par Oussama -</td>\n",
       "      <td>['Actualités', 'Politique']</td>\n",
       "      <td>NaN</td>\n",
       "      <td>www.alnas.fr</td>\n",
       "      <td>2022-10-18T00:00:00</td>\n",
       "      <td>8ca485af906f70b02317c62d6290dd089bdbc733</td>\n",
       "      <td>NaN</td>\n",
       "    </tr>\n",
       "    <tr>\n",
       "      <th>3</th>\n",
       "      <td>https://www.alnas.fr/actualite/communaute/nant...</td>\n",
       "      <td>Nantes : une mère musulmane meurt poignardée e...</td>\n",
       "      <td>NANTES – Une enquête pour « homicide volontair...</td>\n",
       "      <td>Par Sarah -</td>\n",
       "      <td>['Actualités', 'Communauté']</td>\n",
       "      <td>NaN</td>\n",
       "      <td>www.alnas.fr</td>\n",
       "      <td>2022-10-17T00:00:00</td>\n",
       "      <td>cf03698371b368f772c43c7c9bb77104afb56875</td>\n",
       "      <td>NaN</td>\n",
       "    </tr>\n",
       "    <tr>\n",
       "      <th>4</th>\n",
       "      <td>https://www.alnas.fr/actualite/en-vrac/la-fran...</td>\n",
       "      <td>La France condamnée pour avoir placé un enfant...</td>\n",
       "      <td>La Cour européenne des droits de l’Homme (CEDH...</td>\n",
       "      <td>Par Sarah -</td>\n",
       "      <td>['Actualités', 'En vrac']</td>\n",
       "      <td>NaN</td>\n",
       "      <td>www.alnas.fr</td>\n",
       "      <td>2022-11-10T00:00:00</td>\n",
       "      <td>9897ea7e1978c196268819dfccc4288d23f53cd5</td>\n",
       "      <td>NaN</td>\n",
       "    </tr>\n",
       "    <tr>\n",
       "      <th>...</th>\n",
       "      <td>...</td>\n",
       "      <td>...</td>\n",
       "      <td>...</td>\n",
       "      <td>...</td>\n",
       "      <td>...</td>\n",
       "      <td>...</td>\n",
       "      <td>...</td>\n",
       "      <td>...</td>\n",
       "      <td>...</td>\n",
       "      <td>...</td>\n",
       "    </tr>\n",
       "    <tr>\n",
       "      <th>78019</th>\n",
       "      <td>https://www.lelibrepenseur.org/une-histoire-vi...</td>\n",
       "      <td>Une histoire vieille comme le monde !</td>\n",
       "      <td>Certains veulent des preuves ! Ils ont raison....</td>\n",
       "      <td>Par\\nAdmin</td>\n",
       "      <td>NaN</td>\n",
       "      <td>NaN</td>\n",
       "      <td>www.lelibrepenseur.org</td>\n",
       "      <td>2010-05-04T00:00:00</td>\n",
       "      <td>8c7a6ecf46d47da1912884a0c0a2837c69f7ad19</td>\n",
       "      <td>7889.0</td>\n",
       "    </tr>\n",
       "    <tr>\n",
       "      <th>78020</th>\n",
       "      <td>https://www.lelibrepenseur.org/actus/</td>\n",
       "      <td>Actus</td>\n",
       "      <td>Dernière vidéo !\\nIl était temps, enfin ! Je v...</td>\n",
       "      <td>Par\\nuser</td>\n",
       "      <td>NaN</td>\n",
       "      <td>NaN</td>\n",
       "      <td>www.lelibrepenseur.org</td>\n",
       "      <td>2007-07-07T00:00:00</td>\n",
       "      <td>d4d5a37a8ff545664bea75664c8d8695e70d0941</td>\n",
       "      <td>2179.0</td>\n",
       "    </tr>\n",
       "    <tr>\n",
       "      <th>78021</th>\n",
       "      <td>https://www.lelibrepenseur.org/affiche-des-dec...</td>\n",
       "      <td>Affiche des décès et malaises de sportifs de h...</td>\n",
       "      <td>Un nombre inquiétant de sportifs de haut nivea...</td>\n",
       "      <td>NaN</td>\n",
       "      <td>NaN</td>\n",
       "      <td>NaN</td>\n",
       "      <td>www.lelibrepenseur.org</td>\n",
       "      <td>NaN</td>\n",
       "      <td>a175027896cf79e76dfad6409694fafacf1919b3</td>\n",
       "      <td>2250.0</td>\n",
       "    </tr>\n",
       "    <tr>\n",
       "      <th>78022</th>\n",
       "      <td>https://www.lelibrepenseur.org/communaute/</td>\n",
       "      <td>Communauté</td>\n",
       "      <td>Notre Réseau Telegram et ses Groupes Secondair...</td>\n",
       "      <td>NaN</td>\n",
       "      <td>NaN</td>\n",
       "      <td>NaN</td>\n",
       "      <td>www.lelibrepenseur.org</td>\n",
       "      <td>NaN</td>\n",
       "      <td>6ba257c7b15dd68cadf7dc5d6d8c584db0f1792e</td>\n",
       "      <td>2937.0</td>\n",
       "    </tr>\n",
       "    <tr>\n",
       "      <th>78023</th>\n",
       "      <td>https://www.lelibrepenseur.org/utilisation-des...</td>\n",
       "      <td>Utilisation des cookies sur notre site</td>\n",
       "      <td>Que sont les cookies ?\\n\\n\\nLes cookies sont d...</td>\n",
       "      <td>NaN</td>\n",
       "      <td>NaN</td>\n",
       "      <td>NaN</td>\n",
       "      <td>www.lelibrepenseur.org</td>\n",
       "      <td>NaN</td>\n",
       "      <td>7c725113f0c9a95c8269c8d7a271d253ae5ede99</td>\n",
       "      <td>7702.0</td>\n",
       "    </tr>\n",
       "  </tbody>\n",
       "</table>\n",
       "<p>78024 rows × 10 columns</p>\n",
       "</div>"
      ],
      "text/plain": [
       "                                                     url  \\\n",
       "0      https://www.alnas.fr/actualite/communaute/lara...   \n",
       "1      https://www.alnas.fr/actualite/en-vrac/quel-ar...   \n",
       "2      https://www.alnas.fr/actualite/politique/laust...   \n",
       "3      https://www.alnas.fr/actualite/communaute/nant...   \n",
       "4      https://www.alnas.fr/actualite/en-vrac/la-fran...   \n",
       "...                                                  ...   \n",
       "78019  https://www.lelibrepenseur.org/une-histoire-vi...   \n",
       "78020              https://www.lelibrepenseur.org/actus/   \n",
       "78021  https://www.lelibrepenseur.org/affiche-des-dec...   \n",
       "78022         https://www.lelibrepenseur.org/communaute/   \n",
       "78023  https://www.lelibrepenseur.org/utilisation-des...   \n",
       "\n",
       "                                                   title  \\\n",
       "0      L’Arabie saoudite organise des célébrations d'...   \n",
       "1      « Quel art ! » : un étudiant en droit invente ...   \n",
       "2      L’Australie ne reconnaît plus Jérusalem comme ...   \n",
       "3      Nantes : une mère musulmane meurt poignardée e...   \n",
       "4      La France condamnée pour avoir placé un enfant...   \n",
       "...                                                  ...   \n",
       "78019              Une histoire vieille comme le monde !   \n",
       "78020                                              Actus   \n",
       "78021  Affiche des décès et malaises de sportifs de h...   \n",
       "78022                                         Communauté   \n",
       "78023             Utilisation des cookies sur notre site   \n",
       "\n",
       "                                                 article         author  \\\n",
       "0      L’Arabie saoudite a organisé un événement pour...   Par Youcef -   \n",
       "1      Une professeure de droit a partagé sur Twitter...  Par Oussama -   \n",
       "2      Le gouvernement israélien a qualifié la positi...  Par Oussama -   \n",
       "3      NANTES – Une enquête pour « homicide volontair...    Par Sarah -   \n",
       "4      La Cour européenne des droits de l’Homme (CEDH...    Par Sarah -   \n",
       "...                                                  ...            ...   \n",
       "78019  Certains veulent des preuves ! Ils ont raison....     Par\\nAdmin   \n",
       "78020  Dernière vidéo !\\nIl était temps, enfin ! Je v...      Par\\nuser   \n",
       "78021  Un nombre inquiétant de sportifs de haut nivea...            NaN   \n",
       "78022  Notre Réseau Telegram et ses Groupes Secondair...            NaN   \n",
       "78023  Que sont les cookies ?\\n\\n\\nLes cookies sont d...            NaN   \n",
       "\n",
       "                                tag abstract                    site  \\\n",
       "0      ['Actualités', 'Communauté']      NaN            www.alnas.fr   \n",
       "1         ['Actualités', 'En vrac']      NaN            www.alnas.fr   \n",
       "2       ['Actualités', 'Politique']      NaN            www.alnas.fr   \n",
       "3      ['Actualités', 'Communauté']      NaN            www.alnas.fr   \n",
       "4         ['Actualités', 'En vrac']      NaN            www.alnas.fr   \n",
       "...                             ...      ...                     ...   \n",
       "78019                           NaN      NaN  www.lelibrepenseur.org   \n",
       "78020                           NaN      NaN  www.lelibrepenseur.org   \n",
       "78021                           NaN      NaN  www.lelibrepenseur.org   \n",
       "78022                           NaN      NaN  www.lelibrepenseur.org   \n",
       "78023                           NaN      NaN  www.lelibrepenseur.org   \n",
       "\n",
       "                  date_iso                                     url_h  c_count  \n",
       "0      2022-10-31T00:00:00  ef05018ec0f5d637bceb4cef7004e8ee5fe48f6f      NaN  \n",
       "1      2022-10-19T00:00:00  87a4fb33eda6f687b0fac707bf5f2e4fcf871420      NaN  \n",
       "2      2022-10-18T00:00:00  8ca485af906f70b02317c62d6290dd089bdbc733      NaN  \n",
       "3      2022-10-17T00:00:00  cf03698371b368f772c43c7c9bb77104afb56875      NaN  \n",
       "4      2022-11-10T00:00:00  9897ea7e1978c196268819dfccc4288d23f53cd5      NaN  \n",
       "...                    ...                                       ...      ...  \n",
       "78019  2010-05-04T00:00:00  8c7a6ecf46d47da1912884a0c0a2837c69f7ad19   7889.0  \n",
       "78020  2007-07-07T00:00:00  d4d5a37a8ff545664bea75664c8d8695e70d0941   2179.0  \n",
       "78021                  NaN  a175027896cf79e76dfad6409694fafacf1919b3   2250.0  \n",
       "78022                  NaN  6ba257c7b15dd68cadf7dc5d6d8c584db0f1792e   2937.0  \n",
       "78023                  NaN  7c725113f0c9a95c8269c8d7a271d253ae5ede99   7702.0  \n",
       "\n",
       "[78024 rows x 10 columns]"
      ]
     },
     "execution_count": 7,
     "metadata": {},
     "output_type": "execute_result"
    }
   ],
   "source": [
    "importlib.reload(patat.db.article_db)\n",
    "article_filename = ''\n",
    "\n",
    "article_db = patat.db.article_db.ArticleDb(article_filename)\n",
    "article_db.df()"
   ]
  },
  {
   "cell_type": "markdown",
   "id": "f32351c1",
   "metadata": {},
   "source": [
    "# Experience\n",
    "---"
   ]
  },
  {
   "cell_type": "code",
   "execution_count": 8,
   "id": "e2828331",
   "metadata": {},
   "outputs": [],
   "source": [
    "df_corpus = article_db.df()"
   ]
  },
  {
   "cell_type": "code",
   "execution_count": 9,
   "id": "f5aa6782",
   "metadata": {},
   "outputs": [
    {
     "data": {
      "text/plain": [
       "site\n",
       "www.francesoir.fr              18454\n",
       "www.francetvinfo.fr            14597\n",
       "www.breizh-info.com             6071\n",
       "www.dreuz.info                  5143\n",
       "www.legorafi.fr                 4488\n",
       "www.wikistrike.com              3899\n",
       "www.profession-gendarme.com     3196\n",
       "actu.fr                         2874\n",
       "www.lelibrepenseur.org          2618\n",
       "fr.sott.net                     2602\n",
       "lesmoutonsrebelles.com          2174\n",
       "lezarceleurs.blogspot.com       2134\n",
       "lemediaen442.fr                 1878\n",
       "www.cnews.fr                    1519\n",
       "reseauinternational.net         1149\n",
       "theconversation.com             1049\n",
       "www.lesalonbeige.fr              995\n",
       "lesakerfrancophone.fr            874\n",
       "www.polemia.com                  628\n",
       "fr.novopress.info                611\n",
       "infodujour.fr                    493\n",
       "lesobservateurs.ch               341\n",
       "www.nouvelordremondial.cc         97\n",
       "lesdeqodeurs.fr                   93\n",
       "www.voltairenet.org               11\n",
       "lecourrier-du-soir.com             9\n",
       "www.anguillesousroche.com          7\n",
       "www.alnas.fr                       6\n",
       "www.les-crises.fr                  5\n",
       "www.bvoltaire.fr                   5\n",
       "lalettrepatriote.com               4\n",
       "dtype: int64"
      ]
     },
     "execution_count": 9,
     "metadata": {},
     "output_type": "execute_result"
    }
   ],
   "source": [
    "df_corpus.value_counts('site')"
   ]
  },
  {
   "cell_type": "markdown",
   "id": "1c9c5c09",
   "metadata": {},
   "source": [
    "## Test Site"
   ]
  },
  {
   "cell_type": "code",
   "execution_count": 51,
   "id": "be8c279d",
   "metadata": {},
   "outputs": [],
   "source": [
    "site = 'www.legorafi.fr'"
   ]
  },
  {
   "cell_type": "code",
   "execution_count": 52,
   "id": "f8ac396b",
   "metadata": {},
   "outputs": [],
   "source": [
    "urls = list(df_corpus[df_corpus['site']==site]['url'].values)"
   ]
  },
  {
   "cell_type": "code",
   "execution_count": 53,
   "id": "fdca2954",
   "metadata": {},
   "outputs": [
    {
     "data": {
      "text/plain": [
       "'https://www.legorafi.fr/2022/09/26/horoscope-du-26-septembre-2022/'"
      ]
     },
     "execution_count": 53,
     "metadata": {},
     "output_type": "execute_result"
    }
   ],
   "source": [
    "urls[0]"
   ]
  },
  {
   "cell_type": "code",
   "execution_count": 54,
   "id": "8f86ee5e",
   "metadata": {},
   "outputs": [],
   "source": [
    "from patat.imp.importer import Importer\n",
    "from patat.imp.parser import Parser"
   ]
  },
  {
   "cell_type": "code",
   "execution_count": 55,
   "id": "a2de3d0a",
   "metadata": {},
   "outputs": [],
   "source": [
    "imp = Importer()\n",
    "parser = Parser()"
   ]
  },
  {
   "cell_type": "code",
   "execution_count": 56,
   "id": "94bfa6ec",
   "metadata": {},
   "outputs": [],
   "source": [
    "url = urls[0]"
   ]
  },
  {
   "cell_type": "code",
   "execution_count": 57,
   "id": "2f708d88",
   "metadata": {},
   "outputs": [],
   "source": [
    "html = imp.get_webpage(url)"
   ]
  },
  {
   "cell_type": "code",
   "execution_count": 58,
   "id": "381821fb",
   "metadata": {},
   "outputs": [],
   "source": [
    "data = parser.parse(url,html,site)"
   ]
  },
  {
   "cell_type": "code",
   "execution_count": 59,
   "id": "7517c064",
   "metadata": {},
   "outputs": [
    {
     "data": {
      "text/plain": [
       "{'url': 'https://www.legorafi.fr/2022/09/26/horoscope-du-26-septembre-2022/',\n",
       " 'site': 'www.legorafi.fr',\n",
       " 'title': 'Horoscope du 26 septembre 2022',\n",
       " 'article': 'Bélier : BHL portera plainte contre vous parce que vous avez mis une chemise blanche il n’y a pas si longtemps, et qu’il a déposé ce style.Taureau : Vous serez suivi(e) en permanence par un couple de touristes allemands (Karl et Kirsten) qui commenteront tout ce que vous faîtes dans leur langue infernale.Gémeaux : Si vous êtes l’enfant de quelqu’un de connu, on vous proposera de jouer dans un film sans passer de casting. Sinon, vous mangerez juste une boîte de haricots au beurre.Cancer : Vous vous couperez les ongles de pieds dans les transports en commun. Soyez maudit(e). Lion : Vous vous noierez dans l’étang le plus proche de chez vous. Notre conseil : achetez des petits flotteurs.Vierge : Un con vous dira que la France est un pays d’assistés parce qu’il a un cousin au RSA depuis 8 mois. Notre conseil : renversez-le avec votre véhicule.Balance : Si c’est la semaine de votre anniversaire, vos amis se cotiseront pour vous offrir un paquet de pain de mie 7 céréales (c’est la fin de l’abondance, vous vous attendiez à quoi ?).Scorpion : Vous déjeunerez toute la semaine avec le moins populaire de vos collègues (il a probablement un nom composé). Furet : Vous volerez 2 euros dans l’escarcelle d’un mendiant. Bien joué !Sagittaire : Adrien Quatennens vous collera une gifle. Au point où il en est, il n’a plus rien à perdre.Capricorne : Vous passerez par erreur une commande sur Amazon de 14 Avions Rafale.Verseau : Vous irez vous changer les idées au club de strip-tease grande taille « Mama Big Butt XXL ». Vous en aurez pour votre argent.Poissons : Pour préparer la fin du monde, vous ferez un stage de survie (facturé un SMIC) pour apprendre à faire du feu, tirer à l’arbalète et boire votre urine.',\n",
       " 'author': 'La Rédaction',\n",
       " 'date': '26 Sep 2022 à 09h30',\n",
       " 'tags': ['Rubriques connexes:featuredhoroscope'],\n",
       " 'paragraphs': [],\n",
       " 'abstract': '',\n",
       " 'date_iso': '2022-09-26T09:30:00',\n",
       " 'parse_method': 'parse',\n",
       " 'article_links': ['https://www.legorafi.fr/2022/08/09/les-5-meilleures-lecons-de-vie-du-dalai-lama/',\n",
       "  'https://www.legorafi.fr/2022/08/24/la-poste-annonce-que-raconter-sa-vie-au-guichet-de-ses-agences-devient-un-service-payant/',\n",
       "  'https://www.legorafi.fr/2022/09/16/gabriel-attal-les-francais-doivent-mesurer-leur-chance-que-notre-roi-emmanuel-soit-encore-en-vie/',\n",
       "  'https://www.legorafi.fr/2022/09/19/horoscope-du-19-septembre-2022/',\n",
       "  'https://www.legorafi.fr/2022/09/12/bfmtv-sexcuse-apres-avoir-parle-dautre-chose-que-de-la-mort-de-la-reine/',\n",
       "  'https://www.legorafi.fr/2022/09/13/les-5-matieres-dans-lesquelles-vous-risquez-denseigner-des-demain/',\n",
       "  'https://www.legorafi.fr/2022/07/18/lhomme-qui-dit-aimer-le-football-feminin-essaie-juste-davoir-un-rapport-sexuel/',\n",
       "  'https://www.legorafi.fr/2022/09/14/a-la-derniere-minute-editis-suspend-la-publication-du-calendrier-erotique-de-vincent-bollore/',\n",
       "  'https://www.legorafi.fr/2022/08/26/pour-toucher-le-rsa-il-faudra-desormais-gagner-un-smic/',\n",
       "  'https://www.legorafi.fr/2022/08/26/gorafi-magazine-comment-depenser-votre-allocation-rentree/',\n",
       "  'https://www.legorafi.fr/2022/09/09/diana-apercue-aux-portes-du-paradis-attendant-la-reine-une-batte-de-base-ball-a-la-main/',\n",
       "  'https://www.legorafi.fr/2022/06/07/les-5-conseils-sante-les-plus-controverses-de-michel-cymes/',\n",
       "  'https://www.legorafi.fr/2022/09/22/des-porcs-choques-par-une-video-insoutenable-dhumains-entasses-sur-la-ligne-13/',\n",
       "  'https://www.legorafi.fr/2022/09/06/le-marabout-de-paul-pogba-avoue-avoir-jete-un-sort-a-kylian-mbappe-pour-quil-voyage-en-ouigo/',\n",
       "  'https://www.legorafi.fr/2022/09/08/les-10-dates-a-retenir-du-regne-delizabeth-ii/',\n",
       "  'https://www.legorafi.fr/2022/08/24/pour-maintenir-sa-cote-de-popularite-elisabeth-borne-prolonge-ses-vacances-de-deux-semaines/',\n",
       "  'https://www.legorafi.fr/2022/09/08/christophe-galtier-oblige-desormais-les-joueurs-du-psg-a-uriner-sous-les-douches/',\n",
       "  'https://www.legorafi.fr/2022/07/06/nos-5-conseils-minceur-pour-etre-moins-gros-que-vos-amis-cet-ete-car-cest-ca-le-plus-important-au-final/',\n",
       "  'https://www.legorafi.fr/2022/04/25/jean-lassalle-envoie-un-cheque-a-vladimir-poutine-pour-aider-marine-le-pen/',\n",
       "  'https://www.legorafi.fr/2022/09/12/horoscope-du-12-septembre-2022/',\n",
       "  'https://www.legorafi.fr/2022/09/09/en-hommage-a-la-reine-la-nouvelle-premiere-ministre-liz-truss-fixe-lage-de-la-retraite-a-96-ans/',\n",
       "  'https://www.legorafi.fr/2022/04/24/jean-luc-melenchon-annonce-avoir-termine-la-redaction-de-son-discours-dinvestiture-de-premier-ministre/',\n",
       "  'https://www.legorafi.fr/2022/06/14/climat-des-chercheurs-developpent-une-creme-solaire-indice-450/',\n",
       "  'https://www.legorafi.fr/2022/09/06/pouvoir-dachat-lassemblee-autorise-lessence-coupee-a-lurine-de-cycliste-professionnel/',\n",
       "  'https://www.legorafi.fr/2022/08/16/horoscope-du-16-aout-2022/',\n",
       "  'https://www.legorafi.fr/2022/06/02/cannes-un-festivalier-se-repose-dune-semaine-de-fete-devant-un-bon-vieux-film/',\n",
       "  'https://www.legorafi.fr/2022/04/28/dans-un-dernier-instinct-de-survie-les-republicains-mettent-valerie-pecresse-dans-du-riz/',\n",
       "  'https://www.legorafi.fr/2022/08/25/paris-il-tente-un-rodeo-urbain-avec-un-velib-0-mort/',\n",
       "  'https://www.legorafi.fr/2022/08/04/le-nouvel-animal-observe-dans-la-seine-serait-un-electeur-socialiste/',\n",
       "  'https://www.legorafi.fr/2022/09/05/horoscope-du-5-septembre-2022/',\n",
       "  'https://www.legorafi.fr/2022/09/19/il-regarde-la-meteo-alors-quil-va-passer-les-3-prochains-jours-devant-le-pc-dun-open-space/',\n",
       "  'https://www.legorafi.fr/2022/09/09/les-anglais-terrorises-a-lidee-de-boire-leur-the-dans-des-mugs-a-leffigie-de-charles-iii/',\n",
       "  'https://www.legorafi.fr/2022/04/24/emmanuel-macron-demande-quon-applaudisse-sa-victoire-tous-les-soirs-a-20h/',\n",
       "  'https://www.legorafi.fr/2022/08/29/horoscope-du-29-aout-2022/',\n",
       "  'https://www.legorafi.fr/2022/08/22/horoscope-du-22-aout-2022/',\n",
       "  'https://www.legorafi.fr/2022/09/01/les-ministres-devront-utiliser-des-moyens-de-transport-durables-pour-se-rendre-a-laeroport/',\n",
       "  'https://www.legorafi.fr/2022/07/20/tour-de-france-pour-eviter-les-malaises-dus-aux-fortes-chaleurs-la-prochaine-etape-seffectuera-en-pedalo/',\n",
       "  'https://www.legorafi.fr/2022/09/26/horoscope-du-26-septembre-2022/',\n",
       "  'https://www.legorafi.fr/2022/09/21/les-benefices-de-ses-15-annees-de-meditation-aneantis-par-15-secondes-avec-le-standard-de-la-securite-sociale/',\n",
       "  'https://www.legorafi.fr/2022/07/12/gael-monfils-nest-plus-qua-21-titres-en-grand-chelem-de-novak-djokovic/',\n",
       "  'https://www.legorafi.fr/2022/07/22/fact-check-un-tiens-vaut-il-vraiment-mieux-que-deux-tu-lauras/',\n",
       "  'https://www.legorafi.fr/2022/09/13/pour-conserver-sa-popularite-charles-iii-change-son-nom-de-regne-en-elisabeth-iii/',\n",
       "  'https://www.legorafi.fr/2022/09/20/royaledegres/',\n",
       "  'https://www.legorafi.fr/2022/04/24/manuel-valls-apercu-dans-les-soirees-electorales-des-deux-candidats/',\n",
       "  'https://www.legorafi.fr/2022/08/31/penurie-de-profs-les-etablissements-autorises-a-recruter-les-eleves-qui-ont-la-moyenne-comme-contractuels/',\n",
       "  'https://www.legorafi.fr/2022/08/29/test-est-ce-que-tu-mentends-hey-ho/'],\n",
       " 'list_links': ['https://www.legorafi.fr/category/super-presidentielle-2022-premium-deluxe/',\n",
       "  'https://www.legorafi.fr/category/horoscope-2/',\n",
       "  'https://www.legorafi.fr/category/sciences/',\n",
       "  'https://www.legorafi.fr/category/monde-libre/',\n",
       "  'https://www.legorafi.fr/category/sports/',\n",
       "  'https://www.legorafi.fr/category/france/politique/',\n",
       "  'https://www.legorafi.fr/category/france/',\n",
       "  'https://www.legorafi.fr/',\n",
       "  'https://www.legorafi.fr/category/culture/',\n",
       "  'https://www.legorafi.fr/category/france/societe/'],\n",
       " 'local_links': ['https://www.legorafi.fr/tag/horoscope/',\n",
       "  'https://www.legorafi.fr/tag/featured/',\n",
       "  'https://www.legorafi.fr/cdn-cgi/l/email-protection#9ea1edebfcf4fbfdeaa3d6f1ecf1edfdf1eefbbefaebbeaca8beedfbeeeafbf3fcecfbbeacaeacacb8fff3eea5dcd1dac7a3d47c1e07fff7beeaecf1ebe85d37befdfbeabeffeceaf7fdf2fbbef7f0ea5d37ecfbededfff0eabefbeabef47c1e07fff7beeefbf0ed5d37be5d3ebef2fbbeeeffeceafff9fbecbeffe8fbfdbee8f1ebedb0bec85d37ecf7f8f7fbe4b3f2fba4bef6eaeaeeeda4b1b1e9e9e9b0f2fbf9f1ecfff8f7b0f8ecb1acaeacacb1aea7b1aca8b1f6f1ecf1edfdf1eefbb3faebb3aca8b3edfbeeeafbf3fcecfbb3acaeacacb1',\n",
       "  'https://www.legorafi.fr/author/la-redaction/',\n",
       "  'https://www.legorafi.fr/cdn-cgi/l/email-protection#82bdf1f7e0e8e7e1f6bfcaedf0edf1e1edf2e7a2e6f7a2b0b4a2f1e7f2f6e7efe0f0e7a2b0b2b0b0a4e3eff2b9c0cdc6dbbfc860021be3eba2f6f0edf7f4412ba2e1e7f6a2e3f0f6ebe1eee7a2ebecf6412bf0e7f1f1e3ecf6a2e7f6a2e860021be3eba2f2e7ecf1412ba24122a2eee7a2f2e3f0f6e3e5e7f0a2e3f4e7e1a2f4edf7f1aca2d4412bf0ebe4ebe7f8afeee7b8a2eaf6f6f2f1b8adadf5f5f5aceee7e5edf0e3e4ebace4f0adb0b2b0b0adb2bbadb0b4adeaedf0edf1e1edf2e7afe6f7afb0b4aff1e7f2f6e7efe0f0e7afb0b2b0b0ad',\n",
       "  'https://www.legorafi.fr/mentions-legales/',\n",
       "  'https://www.legorafi.fr/about/',\n",
       "  'https://www.legorafi.fr/cryptopolitics-collectionnez-les-cartes-des-personnalites-publiques-qui-font-lactualite/',\n",
       "  'https://www.legorafi.fr/contact/',\n",
       "  'https://www.legorafi.fr/cgu/'],\n",
       " 'external_links': ['https://www.instagram.com/le_gorafi/?hl=fr',\n",
       "  'https://www.facebook.com/legorafi',\n",
       "  'https://twitter.com/le_gorafi',\n",
       "  'whatsapp://send?text=Horoscope du 26 septembre 2022 https://www.legorafi.fr/2022/09/26/horoscope-du-26-septembre-2022/']}"
      ]
     },
     "execution_count": 59,
     "metadata": {},
     "output_type": "execute_result"
    }
   ],
   "source": [
    "data"
   ]
  },
  {
   "cell_type": "markdown",
   "id": "ba0834f1",
   "metadata": {},
   "source": [
    "# Mesure et observation des résultats\n",
    "---"
   ]
  },
  {
   "cell_type": "code",
   "execution_count": null,
   "id": "2a4d001a",
   "metadata": {},
   "outputs": [],
   "source": []
  },
  {
   "cell_type": "markdown",
   "id": "76996d3a",
   "metadata": {},
   "source": [
    "# Sauvegarde\n",
    "---"
   ]
  },
  {
   "cell_type": "markdown",
   "id": "fb7949bc",
   "metadata": {},
   "source": [
    "# Conclusions\n",
    "---"
   ]
  },
  {
   "cell_type": "markdown",
   "id": "bd06b261",
   "metadata": {},
   "source": [
    "- ..."
   ]
  },
  {
   "cell_type": "markdown",
   "id": "bd360655",
   "metadata": {},
   "source": [
    "# Bricolages\n",
    "---"
   ]
  },
  {
   "cell_type": "code",
   "execution_count": 20,
   "id": "d1edc4d0",
   "metadata": {},
   "outputs": [],
   "source": [
    "from bs4 import BeautifulSoup"
   ]
  },
  {
   "cell_type": "code",
   "execution_count": 60,
   "id": "828bf02a",
   "metadata": {},
   "outputs": [],
   "source": [
    "soup = BeautifulSoup(html,'lxml')"
   ]
  },
  {
   "cell_type": "code",
   "execution_count": 66,
   "id": "798fb8ca",
   "metadata": {},
   "outputs": [
    {
     "ename": "SelectorSyntaxError",
     "evalue": "The combinator '>' at postion 17, must have a selector before it\n  line 1:\n.mvp-post-soc-in>>>>p\n                 ^",
     "output_type": "error",
     "traceback": [
      "\u001b[0;31m---------------------------------------------------------------------------\u001b[0m",
      "\u001b[0;31mSelectorSyntaxError\u001b[0m                       Traceback (most recent call last)",
      "\u001b[0;32m/var/folders/rw/rpc5627d21ndbbg7qdx9x30h0000gn/T/ipykernel_22345/1245984447.py\u001b[0m in \u001b[0;36m<module>\u001b[0;34m\u001b[0m\n\u001b[0;32m----> 1\u001b[0;31m \u001b[0msoup\u001b[0m\u001b[0;34m.\u001b[0m\u001b[0mselect\u001b[0m\u001b[0;34m(\u001b[0m\u001b[0;34m'.mvp-post-soc-in>>>>p'\u001b[0m\u001b[0;34m)\u001b[0m\u001b[0;34m\u001b[0m\u001b[0;34m\u001b[0m\u001b[0m\n\u001b[0m",
      "\u001b[0;32m~/anaconda3/lib/python3.9/site-packages/bs4/element.py\u001b[0m in \u001b[0;36mselect\u001b[0;34m(self, selector, namespaces, limit, **kwargs)\u001b[0m\n\u001b[1;32m   1971\u001b[0m             )\n\u001b[1;32m   1972\u001b[0m \u001b[0;34m\u001b[0m\u001b[0m\n\u001b[0;32m-> 1973\u001b[0;31m         \u001b[0mresults\u001b[0m \u001b[0;34m=\u001b[0m \u001b[0msoupsieve\u001b[0m\u001b[0;34m.\u001b[0m\u001b[0mselect\u001b[0m\u001b[0;34m(\u001b[0m\u001b[0mselector\u001b[0m\u001b[0;34m,\u001b[0m \u001b[0mself\u001b[0m\u001b[0;34m,\u001b[0m \u001b[0mnamespaces\u001b[0m\u001b[0;34m,\u001b[0m \u001b[0mlimit\u001b[0m\u001b[0;34m,\u001b[0m \u001b[0;34m**\u001b[0m\u001b[0mkwargs\u001b[0m\u001b[0;34m)\u001b[0m\u001b[0;34m\u001b[0m\u001b[0;34m\u001b[0m\u001b[0m\n\u001b[0m\u001b[1;32m   1974\u001b[0m \u001b[0;34m\u001b[0m\u001b[0m\n\u001b[1;32m   1975\u001b[0m         \u001b[0;31m# We do this because it's more consistent and because\u001b[0m\u001b[0;34m\u001b[0m\u001b[0;34m\u001b[0m\u001b[0m\n",
      "\u001b[0;32m~/anaconda3/lib/python3.9/site-packages/soupsieve/__init__.py\u001b[0m in \u001b[0;36mselect\u001b[0;34m(select, tag, namespaces, limit, flags, custom, **kwargs)\u001b[0m\n\u001b[1;32m    142\u001b[0m     \u001b[0;34m\"\"\"Select the specified tags.\"\"\"\u001b[0m\u001b[0;34m\u001b[0m\u001b[0;34m\u001b[0m\u001b[0m\n\u001b[1;32m    143\u001b[0m \u001b[0;34m\u001b[0m\u001b[0m\n\u001b[0;32m--> 144\u001b[0;31m     \u001b[0;32mreturn\u001b[0m \u001b[0mcompile\u001b[0m\u001b[0;34m(\u001b[0m\u001b[0mselect\u001b[0m\u001b[0;34m,\u001b[0m \u001b[0mnamespaces\u001b[0m\u001b[0;34m,\u001b[0m \u001b[0mflags\u001b[0m\u001b[0;34m,\u001b[0m \u001b[0;34m**\u001b[0m\u001b[0mkwargs\u001b[0m\u001b[0;34m)\u001b[0m\u001b[0;34m.\u001b[0m\u001b[0mselect\u001b[0m\u001b[0;34m(\u001b[0m\u001b[0mtag\u001b[0m\u001b[0;34m,\u001b[0m \u001b[0mlimit\u001b[0m\u001b[0;34m)\u001b[0m\u001b[0;34m\u001b[0m\u001b[0;34m\u001b[0m\u001b[0m\n\u001b[0m\u001b[1;32m    145\u001b[0m \u001b[0;34m\u001b[0m\u001b[0m\n\u001b[1;32m    146\u001b[0m \u001b[0;34m\u001b[0m\u001b[0m\n",
      "\u001b[0;32m~/anaconda3/lib/python3.9/site-packages/soupsieve/__init__.py\u001b[0m in \u001b[0;36mcompile\u001b[0;34m(pattern, namespaces, flags, custom, **kwargs)\u001b[0m\n\u001b[1;32m     65\u001b[0m         \u001b[0;32mreturn\u001b[0m \u001b[0mpattern\u001b[0m\u001b[0;34m\u001b[0m\u001b[0;34m\u001b[0m\u001b[0m\n\u001b[1;32m     66\u001b[0m \u001b[0;34m\u001b[0m\u001b[0m\n\u001b[0;32m---> 67\u001b[0;31m     \u001b[0;32mreturn\u001b[0m \u001b[0mcp\u001b[0m\u001b[0;34m.\u001b[0m\u001b[0m_cached_css_compile\u001b[0m\u001b[0;34m(\u001b[0m\u001b[0mpattern\u001b[0m\u001b[0;34m,\u001b[0m \u001b[0mns\u001b[0m\u001b[0;34m,\u001b[0m \u001b[0mcs\u001b[0m\u001b[0;34m,\u001b[0m \u001b[0mflags\u001b[0m\u001b[0;34m)\u001b[0m\u001b[0;34m\u001b[0m\u001b[0;34m\u001b[0m\u001b[0m\n\u001b[0m\u001b[1;32m     68\u001b[0m \u001b[0;34m\u001b[0m\u001b[0m\n\u001b[1;32m     69\u001b[0m \u001b[0;34m\u001b[0m\u001b[0m\n",
      "\u001b[0;32m~/anaconda3/lib/python3.9/site-packages/soupsieve/css_parser.py\u001b[0m in \u001b[0;36m_cached_css_compile\u001b[0;34m(pattern, namespaces, custom, flags)\u001b[0m\n\u001b[1;32m    216\u001b[0m     return cm.SoupSieve(\n\u001b[1;32m    217\u001b[0m         \u001b[0mpattern\u001b[0m\u001b[0;34m,\u001b[0m\u001b[0;34m\u001b[0m\u001b[0;34m\u001b[0m\u001b[0m\n\u001b[0;32m--> 218\u001b[0;31m         CSSParser(\n\u001b[0m\u001b[1;32m    219\u001b[0m             \u001b[0mpattern\u001b[0m\u001b[0;34m,\u001b[0m\u001b[0;34m\u001b[0m\u001b[0;34m\u001b[0m\u001b[0m\n\u001b[1;32m    220\u001b[0m             \u001b[0mcustom\u001b[0m\u001b[0;34m=\u001b[0m\u001b[0mcustom_selectors\u001b[0m\u001b[0;34m,\u001b[0m\u001b[0;34m\u001b[0m\u001b[0;34m\u001b[0m\u001b[0m\n",
      "\u001b[0;32m~/anaconda3/lib/python3.9/site-packages/soupsieve/css_parser.py\u001b[0m in \u001b[0;36mprocess_selectors\u001b[0;34m(self, index, flags)\u001b[0m\n\u001b[1;32m   1157\u001b[0m         \u001b[0;34m\"\"\"Process selectors.\"\"\"\u001b[0m\u001b[0;34m\u001b[0m\u001b[0;34m\u001b[0m\u001b[0m\n\u001b[1;32m   1158\u001b[0m \u001b[0;34m\u001b[0m\u001b[0m\n\u001b[0;32m-> 1159\u001b[0;31m         \u001b[0;32mreturn\u001b[0m \u001b[0mself\u001b[0m\u001b[0;34m.\u001b[0m\u001b[0mparse_selectors\u001b[0m\u001b[0;34m(\u001b[0m\u001b[0mself\u001b[0m\u001b[0;34m.\u001b[0m\u001b[0mselector_iter\u001b[0m\u001b[0;34m(\u001b[0m\u001b[0mself\u001b[0m\u001b[0;34m.\u001b[0m\u001b[0mpattern\u001b[0m\u001b[0;34m)\u001b[0m\u001b[0;34m,\u001b[0m \u001b[0mindex\u001b[0m\u001b[0;34m,\u001b[0m \u001b[0mflags\u001b[0m\u001b[0;34m)\u001b[0m\u001b[0;34m\u001b[0m\u001b[0;34m\u001b[0m\u001b[0m\n\u001b[0m\u001b[1;32m   1160\u001b[0m \u001b[0;34m\u001b[0m\u001b[0m\n\u001b[1;32m   1161\u001b[0m \u001b[0;34m\u001b[0m\u001b[0m\n",
      "\u001b[0;32m~/anaconda3/lib/python3.9/site-packages/soupsieve/css_parser.py\u001b[0m in \u001b[0;36mparse_selectors\u001b[0;34m(self, iselector, index, flags)\u001b[0m\n\u001b[1;32m   1028\u001b[0m                         )\n\u001b[1;32m   1029\u001b[0m                     \u001b[0;32melse\u001b[0m\u001b[0;34m:\u001b[0m\u001b[0;34m\u001b[0m\u001b[0;34m\u001b[0m\u001b[0m\n\u001b[0;32m-> 1030\u001b[0;31m                         has_selector, sel = self.parse_combinator(\n\u001b[0m\u001b[1;32m   1031\u001b[0m                             \u001b[0msel\u001b[0m\u001b[0;34m,\u001b[0m \u001b[0mm\u001b[0m\u001b[0;34m,\u001b[0m \u001b[0mhas_selector\u001b[0m\u001b[0;34m,\u001b[0m \u001b[0mselectors\u001b[0m\u001b[0;34m,\u001b[0m \u001b[0mrelations\u001b[0m\u001b[0;34m,\u001b[0m \u001b[0mis_pseudo\u001b[0m\u001b[0;34m,\u001b[0m \u001b[0mis_forgive\u001b[0m\u001b[0;34m,\u001b[0m \u001b[0mindex\u001b[0m\u001b[0;34m\u001b[0m\u001b[0;34m\u001b[0m\u001b[0m\n\u001b[1;32m   1032\u001b[0m                         )\n",
      "\u001b[0;32m~/anaconda3/lib/python3.9/site-packages/soupsieve/css_parser.py\u001b[0m in \u001b[0;36mparse_combinator\u001b[0;34m(self, sel, m, has_selector, selectors, relations, is_pseudo, is_forgive, index)\u001b[0m\n\u001b[1;32m    828\u001b[0m         \u001b[0;32mif\u001b[0m \u001b[0;32mnot\u001b[0m \u001b[0mhas_selector\u001b[0m\u001b[0;34m:\u001b[0m\u001b[0;34m\u001b[0m\u001b[0;34m\u001b[0m\u001b[0m\n\u001b[1;32m    829\u001b[0m             \u001b[0;32mif\u001b[0m \u001b[0;32mnot\u001b[0m \u001b[0mis_forgive\u001b[0m \u001b[0;32mor\u001b[0m \u001b[0mcombinator\u001b[0m \u001b[0;34m!=\u001b[0m \u001b[0mCOMMA_COMBINATOR\u001b[0m\u001b[0;34m:\u001b[0m\u001b[0;34m\u001b[0m\u001b[0;34m\u001b[0m\u001b[0m\n\u001b[0;32m--> 830\u001b[0;31m                 raise SelectorSyntaxError(\n\u001b[0m\u001b[1;32m    831\u001b[0m                     \u001b[0;34m\"The combinator '{}' at postion {}, must have a selector before it\"\u001b[0m\u001b[0;34m.\u001b[0m\u001b[0mformat\u001b[0m\u001b[0;34m(\u001b[0m\u001b[0mcombinator\u001b[0m\u001b[0;34m,\u001b[0m \u001b[0mindex\u001b[0m\u001b[0;34m)\u001b[0m\u001b[0;34m,\u001b[0m\u001b[0;34m\u001b[0m\u001b[0;34m\u001b[0m\u001b[0m\n\u001b[1;32m    832\u001b[0m                     \u001b[0mself\u001b[0m\u001b[0;34m.\u001b[0m\u001b[0mpattern\u001b[0m\u001b[0;34m,\u001b[0m\u001b[0;34m\u001b[0m\u001b[0;34m\u001b[0m\u001b[0m\n",
      "\u001b[0;31mSelectorSyntaxError\u001b[0m: The combinator '>' at postion 17, must have a selector before it\n  line 1:\n.mvp-post-soc-in>>>>p\n                 ^"
     ]
    }
   ],
   "source": [
    "soup.select('.mvp-post-soc-in>*>*>*>p')"
   ]
  },
  {
   "cell_type": "code",
   "execution_count": null,
   "id": "ed503d5e",
   "metadata": {},
   "outputs": [],
   "source": []
  }
 ],
 "metadata": {
  "kernelspec": {
   "display_name": "Python 3 (ipykernel)",
   "language": "python",
   "name": "python3"
  },
  "language_info": {
   "codemirror_mode": {
    "name": "ipython",
    "version": 3
   },
   "file_extension": ".py",
   "mimetype": "text/x-python",
   "name": "python",
   "nbconvert_exporter": "python",
   "pygments_lexer": "ipython3",
   "version": "3.9.13"
  }
 },
 "nbformat": 4,
 "nbformat_minor": 5
}
