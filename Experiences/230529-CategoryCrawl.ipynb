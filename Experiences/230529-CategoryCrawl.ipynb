{
 "cells": [
  {
   "cell_type": "markdown",
   "id": "e3ec4689",
   "metadata": {},
   "source": [
    "# Plateforme Agnostique de Traitement et d'Analyse des Textes\n",
    "### Carnet d'expérimentation\n",
    "---\n",
    "\n",
    "## Sujet : Develeppement crawleur par catégorie\n",
    "\n",
    "---"
   ]
  },
  {
   "cell_type": "markdown",
   "id": "2601e626",
   "metadata": {},
   "source": [
    "# Observations et environnement\n",
    "---"
   ]
  },
  {
   "cell_type": "markdown",
   "id": "85c0f3b8",
   "metadata": {},
   "source": [
    "## Environnement"
   ]
  },
  {
   "cell_type": "code",
   "execution_count": 1,
   "id": "525fef74",
   "metadata": {},
   "outputs": [],
   "source": [
    "random_state = 42"
   ]
  },
  {
   "cell_type": "code",
   "execution_count": 2,
   "id": "5d0de4d7",
   "metadata": {},
   "outputs": [
    {
     "name": "stdout",
     "output_type": "stream",
     "text": [
      "/Volumes/Geek/Work/Patat\n"
     ]
    }
   ],
   "source": [
    "cd ../.."
   ]
  },
  {
   "cell_type": "code",
   "execution_count": 3,
   "id": "32256b0d",
   "metadata": {},
   "outputs": [],
   "source": [
    "import ast\n",
    "import importlib\n",
    "import pandas as pd\n",
    "import seaborn as sns\n",
    "from tqdm.notebook import tqdm\n",
    "tqdm.pandas()"
   ]
  },
  {
   "cell_type": "markdown",
   "id": "6b548bc6",
   "metadata": {},
   "source": [
    "# Developemment\n",
    "---"
   ]
  },
  {
   "cell_type": "code",
   "execution_count": 6,
   "id": "2cff5da5",
   "metadata": {},
   "outputs": [],
   "source": [
    "from patat.imp.parser_params import url_masks"
   ]
  },
  {
   "cell_type": "code",
   "execution_count": 8,
   "id": "67face3e",
   "metadata": {},
   "outputs": [],
   "source": [
    "category_masks = []\n",
    "for site in url_masks.keys():\n",
    "    masks = url_masks[site].get('paged_list_formats')\n",
    "    if masks:\n",
    "        category_masks += masks\n",
    "    "
   ]
  },
  {
   "cell_type": "code",
   "execution_count": 9,
   "id": "6f68930e",
   "metadata": {},
   "outputs": [
    {
     "data": {
      "text/plain": [
       "['https://www.breizh-info.com/category/actualite-politique/page/{}/',\n",
       " 'https://www.breizh-info.com/category/actualite-societale/page/{}/',\n",
       " 'https://www.breizh-info.com/category/actualite-economique/page/{}/',\n",
       " 'https://www.breizh-info.com/category/culture-histoire-patrimoine/page/{}/',\n",
       " 'https://www.breizh-info.com/category/local/page/{}/',\n",
       " 'https://www.breizh-info.com/category/actualite-environnementale/page/{}/',\n",
       " 'https://www.breizh-info.com/category/actualite-sportive/page/{}/',\n",
       " 'https://www.lelibrepenseur.org/categorie/actu-au-scalpel/page/{}/',\n",
       " 'https://www.lelibrepenseur.org/categorie/llp-theque/page/{}/',\n",
       " 'https://www.francesoir.fr/en-direct?page={}',\n",
       " 'https://www.francesoir.fr/opinions?page={}',\n",
       " 'https://www.francesoir.fr/rubrique/politique?page={}',\n",
       " 'https://www.francesoir.fr/rubrique/societe?page={}',\n",
       " 'https://www.francesoir.fr/rubrique/culture?page={}',\n",
       " 'https://www.francesoir.fr/rubrique/lifstyle?page={}',\n",
       " 'https://www.wikistrike.com/page/{}',\n",
       " 'https://lemediaen442.fr/rubrique/fait-en-4-4-2/page/{}/',\n",
       " 'https://lemediaen442.fr/categorie/marcel//page/{}/',\n",
       " 'https://lemediaen442.fr/categorie/actualites/societe//page/{}/',\n",
       " 'https://lemediaen442.fr/categorie/actualites/culture//page/{}/',\n",
       " 'https://lesmoutonsrebelles.com/societe/page/{}/',\n",
       " 'https://lesmoutonsrebelles.com/france/page/{}/',\n",
       " 'https://lesmoutonsrebelles.com/politique/page/{}/',\n",
       " 'https://lesmoutonsrebelles.com/europe/page/{}/',\n",
       " 'https://lesmoutonsrebelles.com/science-tech/page/{}/',\n",
       " 'https://lesmoutonsrebelles.com/economie/page/{}/',\n",
       " 'https://lesmoutonsrebelles.com/sante/page/{}/',\n",
       " 'https://www.dreuz.info/category/etats-unis/page/{}',\n",
       " 'https://www.dreuz.info/category/politique/page/{}',\n",
       " 'https://www.dreuz.info/category/moyen-orient/page/{}',\n",
       " 'https://www.dreuz.info/category/international/page/{}',\n",
       " 'https://www.dreuz.info/category/religion/page/{}',\n",
       " 'https://www.dreuz.info/category/guerre-contre-la-terreur/page/{}',\n",
       " 'https://profession-gendarme.com/page/{}/',\n",
       " 'https://www.mondialisation.ca/fr-latest-news-and-top-stories/page/{}',\n",
       " 'https://www.polemia.com/polemia/politique/page/{}/',\n",
       " 'https://www.polemia.com/polemia/societe/page/{}/',\n",
       " 'https://www.polemia.com/polemia/europe/page/{}/',\n",
       " 'https://www.polemia.com/polemia/economie/page/{}/',\n",
       " 'https://www.polemia.com/polemia/geopolitique/page/{}/',\n",
       " 'https://lesalonbeige.fr/page/{}/',\n",
       " 'https://lesalonbeige.fr/page/{}/',\n",
       " 'https://www.les-crises.fr/page/{}/',\n",
       " 'https://lalettrepatriote.com/rubrique/en-direct/page/{}/',\n",
       " 'https://lalettrepatriote.com/rubrique/opinions/page/{}/',\n",
       " 'https://lalettrepatriote.com/rubrique/economie/page/{}/',\n",
       " 'https://lalettrepatriote.com/rubrique/politique/page/{}/',\n",
       " 'https://lalettrepatriote.com/rubrique/societe/page/{}/',\n",
       " 'https://lalettrepatriote.com/rubrique/international/page/{}/',\n",
       " 'https://lalettrepatriote.com/rubrique/journalisme/page/{}/',\n",
       " 'https://lalettrepatriote.com/rubrique/justice/page/{}/',\n",
       " 'https://lalettrepatriote.com/rubrique/armees/page/{}/',\n",
       " 'https://lalettrepatriote.com/rubrique/union-europeenne/page/{}/',\n",
       " 'https://fr.novopress.info/page/{}/?et_blog',\n",
       " 'https://reseauinternational.net/category/articles/actu/page/{}/',\n",
       " 'https://reseauinternational.net/category/articles/ri-monde/page/{}/',\n",
       " 'https://reseauinternational.net/category/articles/geopolitique/page/{}/',\n",
       " 'https://reseauinternational.net/category/articles/idees-societe/page/{}/',\n",
       " 'https://reseauinternational.net/category/articles/mensonges-manipulation/page/{}/',\n",
       " 'https://reseauinternational.net/category/articles/technologie/sciences/page/{}/',\n",
       " 'https://reseauinternational.net/category/articles/divers/page/{}/',\n",
       " 'https://lecourrier-du-soir.com/category/international/page/{}/',\n",
       " 'https://lecourrier-du-soir.com/category/politique/page/{}/',\n",
       " 'https://lecourrier-du-soir.com/category/economie/page/{}/',\n",
       " 'https://lecourrier-du-soir.com/category/societe/page/{}/',\n",
       " 'https://lecourrier-du-soir.com/category/sport/page/{}/',\n",
       " 'https://lecourrier-du-soir.com/category/hi-tech/page/{}/',\n",
       " 'https://lecourrier-du-soir.com/category/lifestyle/page/{}/',\n",
       " 'https://lecourrier-du-soir.com/category/divers/page/{}/',\n",
       " 'https://www.anguillesousroche.com/page/{}/',\n",
       " 'https://www.alnas.fr/actualite/page/{}/',\n",
       " 'https://www.bvoltaire.fr/rubrique/politique/page/{}/',\n",
       " 'https://www.bvoltaire.fr/rubrique/societe/page/{}/',\n",
       " 'https://www.bvoltaire.fr/rubrique/international/page/{}/',\n",
       " 'https://www.bvoltaire.fr/rubrique/economie/page/{}/',\n",
       " 'https://www.bvoltaire.fr/rubrique/justice/page/{}/',\n",
       " 'https://www.bvoltaire.fr/rubrique/medias/page/{}/',\n",
       " 'https://www.bvoltaire.fr/rubrique/culture/page/{}/',\n",
       " 'https://www.bvoltaire.fr/rubrique/polemiques/page/{}/',\n",
       " 'https://www.bvoltaire.fr/rubrique/tribunes/page/{}/',\n",
       " '^https://www.preuvesduparanormal.fr/2022/page/{}/$',\n",
       " 'https://ripostelaique.com/tous-les-articles/page/{}',\n",
       " 'https://www.fdesouche.com/derniers-articles/page/{}/',\n",
       " 'https://planetes360.fr/page/{}/',\n",
       " 'https://qactus.fr/page/{}/',\n",
       " 'https://www.la-petite-souris-normande.com/page/{}',\n",
       " 'https://www.revue-elements.com/category/idees-debats/page/{}/',\n",
       " 'https://www.revue-elements.com/category/politique/page/{}/',\n",
       " 'https://www.revue-elements.com/category/culture/page/{}/',\n",
       " 'https://www.revue-elements.com/category/societe/page/{}/',\n",
       " 'https://www.revue-elements.com/category/entretiens/page/{}/']"
      ]
     },
     "execution_count": 9,
     "metadata": {},
     "output_type": "execute_result"
    }
   ],
   "source": [
    "category_masks"
   ]
  },
  {
   "cell_type": "code",
   "execution_count": null,
   "id": "ef9ebac7",
   "metadata": {},
   "outputs": [],
   "source": [
    "cat_masks = [\n",
    "    {\n",
    "    'site': 'www.breizh-info.com',\n",
    "    'mask': 'https://www.breizh-info.com/category/{category}/page/{numpage}/'\n",
    "    'categories' = ['actualite-politique/',\n",
    "                     'actualite-societale',\n",
    " 'actualite-economique',\n",
    " 'https://www.breizh-info.com/category/culture-histoire-patrimoine/page/{}/',\n",
    " 'https://www.breizh-info.com/category/local/page/{}/',\n",
    " 'https://www.breizh-info.com/category/actualite-environnementale/page/{}/',\n",
    " 'https://www.breizh-info.com/category/actualite-sportive']\n",
    "    },\n",
    "]"
   ]
  },
  {
   "cell_type": "code",
   "execution_count": null,
   "id": "99a0d671",
   "metadata": {},
   "outputs": [],
   "source": [
    "def crawl_paged_lists(self, site: str, nb_pages: int = 10, use_cache: bool = False):\n",
    "    paged_list_formats = self._url_masks[site].get('paged_list_formats', [])\n",
    "    for f in paged_list_formats:\n",
    "        for p in range(1, nb_pages+1):\n",
    "            self.crawl_page(f.format(p), use_cache)"
   ]
  },
  {
   "cell_type": "markdown",
   "id": "76996d3a",
   "metadata": {},
   "source": [
    "# Sauvegarde des résultats\n",
    "---"
   ]
  },
  {
   "cell_type": "code",
   "execution_count": 131,
   "id": "f39f8729",
   "metadata": {},
   "outputs": [],
   "source": []
  },
  {
   "cell_type": "markdown",
   "id": "fb7949bc",
   "metadata": {},
   "source": [
    "# Conclusions\n",
    "---"
   ]
  },
  {
   "cell_type": "markdown",
   "id": "bd360655",
   "metadata": {},
   "source": [
    "# Bricolages\n",
    "---"
   ]
  },
  {
   "cell_type": "code",
   "execution_count": null,
   "id": "f9862890",
   "metadata": {},
   "outputs": [],
   "source": []
  }
 ],
 "metadata": {
  "kernelspec": {
   "display_name": "Python 3 (ipykernel)",
   "language": "python",
   "name": "python3"
  },
  "language_info": {
   "codemirror_mode": {
    "name": "ipython",
    "version": 3
   },
   "file_extension": ".py",
   "mimetype": "text/x-python",
   "name": "python",
   "nbconvert_exporter": "python",
   "pygments_lexer": "ipython3",
   "version": "3.10.11"
  }
 },
 "nbformat": 4,
 "nbformat_minor": 5
}
