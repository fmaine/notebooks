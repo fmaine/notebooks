{
 "cells": [
  {
   "cell_type": "markdown",
   "id": "e3ec4689",
   "metadata": {},
   "source": [
    "# Plateforme d'Acquisition et de Traitement Automatisé des Textes\n",
    "### Carnet d'expérimentation\n",
    "---\n",
    "\n",
    "## Sujet : Expérience ObsInfo2307\n",
    "\n",
    "---"
   ]
  },
  {
   "cell_type": "markdown",
   "id": "2601e626",
   "metadata": {},
   "source": [
    "# Imports"
   ]
  },
  {
   "cell_type": "code",
   "execution_count": 1,
   "id": "5d0de4d7",
   "metadata": {},
   "outputs": [
    {
     "name": "stdout",
     "output_type": "stream",
     "text": [
      "/Volumes/Geek/Work/Patat\n"
     ]
    }
   ],
   "source": [
    "cd ../.."
   ]
  },
  {
   "cell_type": "code",
   "execution_count": 2,
   "id": "32256b0d",
   "metadata": {},
   "outputs": [],
   "source": [
    "import importlib\n",
    "import pandas as pd\n",
    "import seaborn as sns\n",
    "from tqdm.notebook import tqdm\n",
    "tqdm.pandas()"
   ]
  },
  {
   "cell_type": "code",
   "execution_count": 3,
   "id": "d1d8bfcb",
   "metadata": {},
   "outputs": [],
   "source": [
    "pd.set_option('display.precision',2)"
   ]
  },
  {
   "cell_type": "markdown",
   "id": "a4a05a2d",
   "metadata": {},
   "source": [
    "# Chargement Données"
   ]
  },
  {
   "cell_type": "code",
   "execution_count": 4,
   "id": "fabbb845",
   "metadata": {},
   "outputs": [],
   "source": [
    "import patat.util.gsheet\n",
    "\n",
    "gs = patat.util.gsheet.GoogleSheet()\n",
    "\n",
    "sheet_id = '1KOACo0zR52LZuT2wMSc2a4_vePWC5K2RAyw_0x2Hvjw'\n",
    "range_name = 'Data'\n",
    "\n",
    "df_obsinfo = gs.read_df(sheet_id,range_name)"
   ]
  },
  {
   "cell_type": "code",
   "execution_count": 5,
   "id": "934fc711",
   "metadata": {},
   "outputs": [
    {
     "data": {
      "text/html": [
       "<div>\n",
       "<style scoped>\n",
       "    .dataframe tbody tr th:only-of-type {\n",
       "        vertical-align: middle;\n",
       "    }\n",
       "\n",
       "    .dataframe tbody tr th {\n",
       "        vertical-align: top;\n",
       "    }\n",
       "\n",
       "    .dataframe thead th {\n",
       "        text-align: right;\n",
       "    }\n",
       "</style>\n",
       "<table border=\"1\" class=\"dataframe\">\n",
       "  <thead>\n",
       "    <tr style=\"text-align: right;\">\n",
       "      <th></th>\n",
       "      <th>url_labelizer</th>\n",
       "      <th>title</th>\n",
       "      <th>infox</th>\n",
       "      <th>lieux, dates et personnes</th>\n",
       "      <th>faits</th>\n",
       "      <th>opinions</th>\n",
       "      <th>subjectif</th>\n",
       "      <th>propos rapporté</th>\n",
       "      <th>sources citées</th>\n",
       "      <th>fausse nouvelle</th>\n",
       "      <th>insinuation</th>\n",
       "      <th>exagération</th>\n",
       "      <th>titre décalé</th>\n",
       "      <th>commentaires</th>\n",
       "      <th>observateur</th>\n",
       "    </tr>\n",
       "  </thead>\n",
       "  <tbody>\n",
       "    <tr>\n",
       "      <th>0</th>\n",
       "      <td>https://app.observatoire.info/labelize?url_h=c...</td>\n",
       "      <td>La relation entre la technologie et la religion</td>\n",
       "      <td>0</td>\n",
       "      <td>1</td>\n",
       "      <td>1</td>\n",
       "      <td>1</td>\n",
       "      <td>1</td>\n",
       "      <td>0</td>\n",
       "      <td>1</td>\n",
       "      <td>0</td>\n",
       "      <td>0</td>\n",
       "      <td>0</td>\n",
       "      <td>0</td>\n",
       "      <td>vraiment indigeste pour commencer !</td>\n",
       "      <td>FB</td>\n",
       "    </tr>\n",
       "    <tr>\n",
       "      <th>1</th>\n",
       "      <td>https://app.observatoire.info/labelize?url_h=0...</td>\n",
       "      <td>Confinement. Les habitants de Brest, Morlaix e...</td>\n",
       "      <td>0</td>\n",
       "      <td>1</td>\n",
       "      <td>1</td>\n",
       "      <td>0</td>\n",
       "      <td>0</td>\n",
       "      <td>0</td>\n",
       "      <td>1</td>\n",
       "      <td>0</td>\n",
       "      <td>0</td>\n",
       "      <td>0</td>\n",
       "      <td>0</td>\n",
       "      <td></td>\n",
       "      <td>FB</td>\n",
       "    </tr>\n",
       "    <tr>\n",
       "      <th>2</th>\n",
       "      <td>https://app.observatoire.info/labelize?url_h=3...</td>\n",
       "      <td>La Chine : Le premier marché mondial de Smartp...</td>\n",
       "      <td>0</td>\n",
       "      <td>1</td>\n",
       "      <td>1</td>\n",
       "      <td>0</td>\n",
       "      <td>0</td>\n",
       "      <td>0</td>\n",
       "      <td>1</td>\n",
       "      <td>0</td>\n",
       "      <td>0</td>\n",
       "      <td>0</td>\n",
       "      <td>0</td>\n",
       "      <td></td>\n",
       "      <td>FB</td>\n",
       "    </tr>\n",
       "    <tr>\n",
       "      <th>3</th>\n",
       "      <td>https://app.observatoire.info/labelize?url_h=4...</td>\n",
       "      <td>Emmanuel à Olivier : « Tiens bon, on les aura ...</td>\n",
       "      <td>1</td>\n",
       "      <td>1</td>\n",
       "      <td>1</td>\n",
       "      <td>1</td>\n",
       "      <td>1</td>\n",
       "      <td>0</td>\n",
       "      <td>0</td>\n",
       "      <td>1</td>\n",
       "      <td>0</td>\n",
       "      <td>1</td>\n",
       "      <td>0</td>\n",
       "      <td>Article dupliqué (je l'avais manqué)</td>\n",
       "      <td>FB</td>\n",
       "    </tr>\n",
       "    <tr>\n",
       "      <th>4</th>\n",
       "      <td>https://app.observatoire.info/labelize?url_h=3...</td>\n",
       "      <td>Selon UBS, les « propriétés d’assurance tant d...</td>\n",
       "      <td>0</td>\n",
       "      <td>1</td>\n",
       "      <td>1</td>\n",
       "      <td>1</td>\n",
       "      <td>1</td>\n",
       "      <td>0</td>\n",
       "      <td>1</td>\n",
       "      <td>0</td>\n",
       "      <td>0</td>\n",
       "      <td>0</td>\n",
       "      <td>0</td>\n",
       "      <td></td>\n",
       "      <td>FB</td>\n",
       "    </tr>\n",
       "    <tr>\n",
       "      <th>...</th>\n",
       "      <td>...</td>\n",
       "      <td>...</td>\n",
       "      <td>...</td>\n",
       "      <td>...</td>\n",
       "      <td>...</td>\n",
       "      <td>...</td>\n",
       "      <td>...</td>\n",
       "      <td>...</td>\n",
       "      <td>...</td>\n",
       "      <td>...</td>\n",
       "      <td>...</td>\n",
       "      <td>...</td>\n",
       "      <td>...</td>\n",
       "      <td>...</td>\n",
       "      <td>...</td>\n",
       "    </tr>\n",
       "    <tr>\n",
       "      <th>895</th>\n",
       "      <td>https://app.observatoire.info/labelize?url_h=d...</td>\n",
       "      <td>Loi climat : le gouvernement va exempter Amazo...</td>\n",
       "      <td>0</td>\n",
       "      <td>0</td>\n",
       "      <td>1</td>\n",
       "      <td>1</td>\n",
       "      <td>1</td>\n",
       "      <td>0</td>\n",
       "      <td>0</td>\n",
       "      <td>0</td>\n",
       "      <td>1</td>\n",
       "      <td>0</td>\n",
       "      <td>0</td>\n",
       "      <td></td>\n",
       "      <td>GP</td>\n",
       "    </tr>\n",
       "    <tr>\n",
       "      <th>896</th>\n",
       "      <td>https://app.observatoire.info/labelize?url_h=1...</td>\n",
       "      <td>Le QI peut-il être augmenté par l’éducation ? ...</td>\n",
       "      <td>0</td>\n",
       "      <td>1</td>\n",
       "      <td>1</td>\n",
       "      <td>0</td>\n",
       "      <td>0</td>\n",
       "      <td>0</td>\n",
       "      <td>1</td>\n",
       "      <td>0</td>\n",
       "      <td>0</td>\n",
       "      <td>0</td>\n",
       "      <td>0</td>\n",
       "      <td></td>\n",
       "      <td>GP</td>\n",
       "    </tr>\n",
       "    <tr>\n",
       "      <th>897</th>\n",
       "      <td>https://app.observatoire.info/labelize?url_h=2...</td>\n",
       "      <td>Secte sexuelle : l’ex-star de Smallville Aliso...</td>\n",
       "      <td>0</td>\n",
       "      <td>1</td>\n",
       "      <td>1</td>\n",
       "      <td>0</td>\n",
       "      <td>0</td>\n",
       "      <td>0</td>\n",
       "      <td>0</td>\n",
       "      <td>0</td>\n",
       "      <td>0</td>\n",
       "      <td>0</td>\n",
       "      <td>0</td>\n",
       "      <td></td>\n",
       "      <td>GP</td>\n",
       "    </tr>\n",
       "    <tr>\n",
       "      <th>898</th>\n",
       "      <td>https://app.observatoire.info/labelize?url_h=7...</td>\n",
       "      <td>Sacre de Charles III par SAR le Prince Charles...</td>\n",
       "      <td>0</td>\n",
       "      <td>1</td>\n",
       "      <td>1</td>\n",
       "      <td>1</td>\n",
       "      <td>1</td>\n",
       "      <td>0</td>\n",
       "      <td>0</td>\n",
       "      <td>0</td>\n",
       "      <td>1</td>\n",
       "      <td>0</td>\n",
       "      <td>0</td>\n",
       "      <td></td>\n",
       "      <td>GP</td>\n",
       "    </tr>\n",
       "    <tr>\n",
       "      <th>899</th>\n",
       "      <td>https://app.observatoire.info/labelize?url_h=1...</td>\n",
       "      <td>Bac 2019: appel à poursuivre la grève jusqu'au...</td>\n",
       "      <td>0</td>\n",
       "      <td>1</td>\n",
       "      <td>1</td>\n",
       "      <td>0</td>\n",
       "      <td>0</td>\n",
       "      <td>0</td>\n",
       "      <td>1</td>\n",
       "      <td>0</td>\n",
       "      <td>0</td>\n",
       "      <td>0</td>\n",
       "      <td>0</td>\n",
       "      <td></td>\n",
       "      <td>GP</td>\n",
       "    </tr>\n",
       "  </tbody>\n",
       "</table>\n",
       "<p>900 rows × 15 columns</p>\n",
       "</div>"
      ],
      "text/plain": [
       "                                         url_labelizer   \n",
       "0    https://app.observatoire.info/labelize?url_h=c...  \\\n",
       "1    https://app.observatoire.info/labelize?url_h=0...   \n",
       "2    https://app.observatoire.info/labelize?url_h=3...   \n",
       "3    https://app.observatoire.info/labelize?url_h=4...   \n",
       "4    https://app.observatoire.info/labelize?url_h=3...   \n",
       "..                                                 ...   \n",
       "895  https://app.observatoire.info/labelize?url_h=d...   \n",
       "896  https://app.observatoire.info/labelize?url_h=1...   \n",
       "897  https://app.observatoire.info/labelize?url_h=2...   \n",
       "898  https://app.observatoire.info/labelize?url_h=7...   \n",
       "899  https://app.observatoire.info/labelize?url_h=1...   \n",
       "\n",
       "                                                 title infox   \n",
       "0      La relation entre la technologie et la religion     0  \\\n",
       "1    Confinement. Les habitants de Brest, Morlaix e...     0   \n",
       "2    La Chine : Le premier marché mondial de Smartp...     0   \n",
       "3    Emmanuel à Olivier : « Tiens bon, on les aura ...     1   \n",
       "4    Selon UBS, les « propriétés d’assurance tant d...     0   \n",
       "..                                                 ...   ...   \n",
       "895  Loi climat : le gouvernement va exempter Amazo...     0   \n",
       "896  Le QI peut-il être augmenté par l’éducation ? ...     0   \n",
       "897  Secte sexuelle : l’ex-star de Smallville Aliso...     0   \n",
       "898  Sacre de Charles III par SAR le Prince Charles...     0   \n",
       "899  Bac 2019: appel à poursuivre la grève jusqu'au...     0   \n",
       "\n",
       "    lieux, dates et personnes faits opinions subjectif propos rapporté   \n",
       "0                           1     1        1         1               0  \\\n",
       "1                           1     1        0         0               0   \n",
       "2                           1     1        0         0               0   \n",
       "3                           1     1        1         1               0   \n",
       "4                           1     1        1         1               0   \n",
       "..                        ...   ...      ...       ...             ...   \n",
       "895                         0     1        1         1               0   \n",
       "896                         1     1        0         0               0   \n",
       "897                         1     1        0         0               0   \n",
       "898                         1     1        1         1               0   \n",
       "899                         1     1        0         0               0   \n",
       "\n",
       "    sources citées fausse nouvelle insinuation exagération titre décalé   \n",
       "0                1               0           0           0            0  \\\n",
       "1                1               0           0           0            0   \n",
       "2                1               0           0           0            0   \n",
       "3                0               1           0           1            0   \n",
       "4                1               0           0           0            0   \n",
       "..             ...             ...         ...         ...          ...   \n",
       "895              0               0           1           0            0   \n",
       "896              1               0           0           0            0   \n",
       "897              0               0           0           0            0   \n",
       "898              0               0           1           0            0   \n",
       "899              1               0           0           0            0   \n",
       "\n",
       "                             commentaires observateur  \n",
       "0     vraiment indigeste pour commencer !          FB  \n",
       "1                                                  FB  \n",
       "2                                                  FB  \n",
       "3    Article dupliqué (je l'avais manqué)          FB  \n",
       "4                                                  FB  \n",
       "..                                    ...         ...  \n",
       "895                                                GP  \n",
       "896                                                GP  \n",
       "897                                                GP  \n",
       "898                                                GP  \n",
       "899                                                GP  \n",
       "\n",
       "[900 rows x 15 columns]"
      ]
     },
     "execution_count": 5,
     "metadata": {},
     "output_type": "execute_result"
    }
   ],
   "source": [
    "df_obsinfo"
   ]
  },
  {
   "cell_type": "code",
   "execution_count": 6,
   "id": "9b49c880",
   "metadata": {},
   "outputs": [],
   "source": [
    "labels = [\n",
    "    'infox',\n",
    "    'lieux, dates et personnes',\n",
    "    'faits',\n",
    "    'opinions',\n",
    "    'subjectif',\n",
    "    'propos rapporté',\n",
    "    'sources citées',\n",
    "    'fausse nouvelle',\n",
    "    'insinuation',\n",
    "    'exagération',\n",
    "    'titre décalé',\n",
    "]"
   ]
  },
  {
   "cell_type": "code",
   "execution_count": 7,
   "id": "2b414c74",
   "metadata": {},
   "outputs": [],
   "source": [
    "import numpy as np"
   ]
  },
  {
   "cell_type": "code",
   "execution_count": 8,
   "id": "b89dd377",
   "metadata": {},
   "outputs": [],
   "source": [
    "def normalize(x):\n",
    "    if x == '0':\n",
    "        return 0.0\n",
    "    elif x== '1':\n",
    "        return 1.0\n",
    "    else:\n",
    "        return np.NaN"
   ]
  },
  {
   "cell_type": "code",
   "execution_count": 9,
   "id": "99bd4a0a",
   "metadata": {},
   "outputs": [],
   "source": [
    "for label in labels:\n",
    "    df_obsinfo[label]=df_obsinfo[label].apply(normalize)"
   ]
  },
  {
   "cell_type": "code",
   "execution_count": 10,
   "id": "26ba805f",
   "metadata": {},
   "outputs": [],
   "source": [
    "df_obsinfo['url_h'] = df_obsinfo['url_labelizer'].apply(lambda s: s[-40:])"
   ]
  },
  {
   "cell_type": "code",
   "execution_count": 11,
   "id": "4763039c",
   "metadata": {},
   "outputs": [
    {
     "data": {
      "text/html": [
       "<div>\n",
       "<style scoped>\n",
       "    .dataframe tbody tr th:only-of-type {\n",
       "        vertical-align: middle;\n",
       "    }\n",
       "\n",
       "    .dataframe tbody tr th {\n",
       "        vertical-align: top;\n",
       "    }\n",
       "\n",
       "    .dataframe thead th {\n",
       "        text-align: right;\n",
       "    }\n",
       "</style>\n",
       "<table border=\"1\" class=\"dataframe\">\n",
       "  <thead>\n",
       "    <tr style=\"text-align: right;\">\n",
       "      <th></th>\n",
       "      <th>url_labelizer</th>\n",
       "      <th>title</th>\n",
       "      <th>infox</th>\n",
       "      <th>lieux, dates et personnes</th>\n",
       "      <th>faits</th>\n",
       "      <th>opinions</th>\n",
       "      <th>subjectif</th>\n",
       "      <th>propos rapporté</th>\n",
       "      <th>sources citées</th>\n",
       "      <th>fausse nouvelle</th>\n",
       "      <th>insinuation</th>\n",
       "      <th>exagération</th>\n",
       "      <th>titre décalé</th>\n",
       "      <th>commentaires</th>\n",
       "      <th>observateur</th>\n",
       "      <th>url_h</th>\n",
       "    </tr>\n",
       "  </thead>\n",
       "  <tbody>\n",
       "    <tr>\n",
       "      <th>0</th>\n",
       "      <td>https://app.observatoire.info/labelize?url_h=c...</td>\n",
       "      <td>La relation entre la technologie et la religion</td>\n",
       "      <td>0.0</td>\n",
       "      <td>1.0</td>\n",
       "      <td>1.0</td>\n",
       "      <td>1.0</td>\n",
       "      <td>1.0</td>\n",
       "      <td>0.0</td>\n",
       "      <td>1.0</td>\n",
       "      <td>0.0</td>\n",
       "      <td>0.0</td>\n",
       "      <td>0.0</td>\n",
       "      <td>0.0</td>\n",
       "      <td>vraiment indigeste pour commencer !</td>\n",
       "      <td>FB</td>\n",
       "      <td>c13175936764a345ec21bc398fe750a41496078e</td>\n",
       "    </tr>\n",
       "    <tr>\n",
       "      <th>1</th>\n",
       "      <td>https://app.observatoire.info/labelize?url_h=0...</td>\n",
       "      <td>Confinement. Les habitants de Brest, Morlaix e...</td>\n",
       "      <td>0.0</td>\n",
       "      <td>1.0</td>\n",
       "      <td>1.0</td>\n",
       "      <td>0.0</td>\n",
       "      <td>0.0</td>\n",
       "      <td>0.0</td>\n",
       "      <td>1.0</td>\n",
       "      <td>0.0</td>\n",
       "      <td>0.0</td>\n",
       "      <td>0.0</td>\n",
       "      <td>0.0</td>\n",
       "      <td></td>\n",
       "      <td>FB</td>\n",
       "      <td>0552561b3c46f64febfbc3a77c301f085a98b966</td>\n",
       "    </tr>\n",
       "    <tr>\n",
       "      <th>2</th>\n",
       "      <td>https://app.observatoire.info/labelize?url_h=3...</td>\n",
       "      <td>La Chine : Le premier marché mondial de Smartp...</td>\n",
       "      <td>0.0</td>\n",
       "      <td>1.0</td>\n",
       "      <td>1.0</td>\n",
       "      <td>0.0</td>\n",
       "      <td>0.0</td>\n",
       "      <td>0.0</td>\n",
       "      <td>1.0</td>\n",
       "      <td>0.0</td>\n",
       "      <td>0.0</td>\n",
       "      <td>0.0</td>\n",
       "      <td>0.0</td>\n",
       "      <td></td>\n",
       "      <td>FB</td>\n",
       "      <td>361a904687dd4b1abb189717de7341ce162d21c7</td>\n",
       "    </tr>\n",
       "    <tr>\n",
       "      <th>3</th>\n",
       "      <td>https://app.observatoire.info/labelize?url_h=4...</td>\n",
       "      <td>Emmanuel à Olivier : « Tiens bon, on les aura ...</td>\n",
       "      <td>1.0</td>\n",
       "      <td>1.0</td>\n",
       "      <td>1.0</td>\n",
       "      <td>1.0</td>\n",
       "      <td>1.0</td>\n",
       "      <td>0.0</td>\n",
       "      <td>0.0</td>\n",
       "      <td>1.0</td>\n",
       "      <td>0.0</td>\n",
       "      <td>1.0</td>\n",
       "      <td>0.0</td>\n",
       "      <td>Article dupliqué (je l'avais manqué)</td>\n",
       "      <td>FB</td>\n",
       "      <td>433b403d386d5eba5dff7d45044cdb0fe7862972</td>\n",
       "    </tr>\n",
       "    <tr>\n",
       "      <th>4</th>\n",
       "      <td>https://app.observatoire.info/labelize?url_h=3...</td>\n",
       "      <td>Selon UBS, les « propriétés d’assurance tant d...</td>\n",
       "      <td>0.0</td>\n",
       "      <td>1.0</td>\n",
       "      <td>1.0</td>\n",
       "      <td>1.0</td>\n",
       "      <td>1.0</td>\n",
       "      <td>0.0</td>\n",
       "      <td>1.0</td>\n",
       "      <td>0.0</td>\n",
       "      <td>0.0</td>\n",
       "      <td>0.0</td>\n",
       "      <td>0.0</td>\n",
       "      <td></td>\n",
       "      <td>FB</td>\n",
       "      <td>3494ad0901a73fc6ceb2f74ac4ac1930af42b363</td>\n",
       "    </tr>\n",
       "    <tr>\n",
       "      <th>...</th>\n",
       "      <td>...</td>\n",
       "      <td>...</td>\n",
       "      <td>...</td>\n",
       "      <td>...</td>\n",
       "      <td>...</td>\n",
       "      <td>...</td>\n",
       "      <td>...</td>\n",
       "      <td>...</td>\n",
       "      <td>...</td>\n",
       "      <td>...</td>\n",
       "      <td>...</td>\n",
       "      <td>...</td>\n",
       "      <td>...</td>\n",
       "      <td>...</td>\n",
       "      <td>...</td>\n",
       "      <td>...</td>\n",
       "    </tr>\n",
       "    <tr>\n",
       "      <th>895</th>\n",
       "      <td>https://app.observatoire.info/labelize?url_h=d...</td>\n",
       "      <td>Loi climat : le gouvernement va exempter Amazo...</td>\n",
       "      <td>0.0</td>\n",
       "      <td>0.0</td>\n",
       "      <td>1.0</td>\n",
       "      <td>1.0</td>\n",
       "      <td>1.0</td>\n",
       "      <td>0.0</td>\n",
       "      <td>0.0</td>\n",
       "      <td>0.0</td>\n",
       "      <td>1.0</td>\n",
       "      <td>0.0</td>\n",
       "      <td>0.0</td>\n",
       "      <td></td>\n",
       "      <td>GP</td>\n",
       "      <td>d04a526d60fa6d67f61c7abcaf45092b8217a24d</td>\n",
       "    </tr>\n",
       "    <tr>\n",
       "      <th>896</th>\n",
       "      <td>https://app.observatoire.info/labelize?url_h=1...</td>\n",
       "      <td>Le QI peut-il être augmenté par l’éducation ? ...</td>\n",
       "      <td>0.0</td>\n",
       "      <td>1.0</td>\n",
       "      <td>1.0</td>\n",
       "      <td>0.0</td>\n",
       "      <td>0.0</td>\n",
       "      <td>0.0</td>\n",
       "      <td>1.0</td>\n",
       "      <td>0.0</td>\n",
       "      <td>0.0</td>\n",
       "      <td>0.0</td>\n",
       "      <td>0.0</td>\n",
       "      <td></td>\n",
       "      <td>GP</td>\n",
       "      <td>14ed4715949dc7767359674df1a076bb1e0e417b</td>\n",
       "    </tr>\n",
       "    <tr>\n",
       "      <th>897</th>\n",
       "      <td>https://app.observatoire.info/labelize?url_h=2...</td>\n",
       "      <td>Secte sexuelle : l’ex-star de Smallville Aliso...</td>\n",
       "      <td>0.0</td>\n",
       "      <td>1.0</td>\n",
       "      <td>1.0</td>\n",
       "      <td>0.0</td>\n",
       "      <td>0.0</td>\n",
       "      <td>0.0</td>\n",
       "      <td>0.0</td>\n",
       "      <td>0.0</td>\n",
       "      <td>0.0</td>\n",
       "      <td>0.0</td>\n",
       "      <td>0.0</td>\n",
       "      <td></td>\n",
       "      <td>GP</td>\n",
       "      <td>2841a1db742a25419c20d4a56eb65d8c05d92f65</td>\n",
       "    </tr>\n",
       "    <tr>\n",
       "      <th>898</th>\n",
       "      <td>https://app.observatoire.info/labelize?url_h=7...</td>\n",
       "      <td>Sacre de Charles III par SAR le Prince Charles...</td>\n",
       "      <td>0.0</td>\n",
       "      <td>1.0</td>\n",
       "      <td>1.0</td>\n",
       "      <td>1.0</td>\n",
       "      <td>1.0</td>\n",
       "      <td>0.0</td>\n",
       "      <td>0.0</td>\n",
       "      <td>0.0</td>\n",
       "      <td>1.0</td>\n",
       "      <td>0.0</td>\n",
       "      <td>0.0</td>\n",
       "      <td></td>\n",
       "      <td>GP</td>\n",
       "      <td>7f8a6372ed4084fc88263c03e3b9186f082e2162</td>\n",
       "    </tr>\n",
       "    <tr>\n",
       "      <th>899</th>\n",
       "      <td>https://app.observatoire.info/labelize?url_h=1...</td>\n",
       "      <td>Bac 2019: appel à poursuivre la grève jusqu'au...</td>\n",
       "      <td>0.0</td>\n",
       "      <td>1.0</td>\n",
       "      <td>1.0</td>\n",
       "      <td>0.0</td>\n",
       "      <td>0.0</td>\n",
       "      <td>0.0</td>\n",
       "      <td>1.0</td>\n",
       "      <td>0.0</td>\n",
       "      <td>0.0</td>\n",
       "      <td>0.0</td>\n",
       "      <td>0.0</td>\n",
       "      <td></td>\n",
       "      <td>GP</td>\n",
       "      <td>1c4c0f87d734ce85798487b6083220e7092b3ffe</td>\n",
       "    </tr>\n",
       "  </tbody>\n",
       "</table>\n",
       "<p>900 rows × 16 columns</p>\n",
       "</div>"
      ],
      "text/plain": [
       "                                         url_labelizer   \n",
       "0    https://app.observatoire.info/labelize?url_h=c...  \\\n",
       "1    https://app.observatoire.info/labelize?url_h=0...   \n",
       "2    https://app.observatoire.info/labelize?url_h=3...   \n",
       "3    https://app.observatoire.info/labelize?url_h=4...   \n",
       "4    https://app.observatoire.info/labelize?url_h=3...   \n",
       "..                                                 ...   \n",
       "895  https://app.observatoire.info/labelize?url_h=d...   \n",
       "896  https://app.observatoire.info/labelize?url_h=1...   \n",
       "897  https://app.observatoire.info/labelize?url_h=2...   \n",
       "898  https://app.observatoire.info/labelize?url_h=7...   \n",
       "899  https://app.observatoire.info/labelize?url_h=1...   \n",
       "\n",
       "                                                 title  infox   \n",
       "0      La relation entre la technologie et la religion    0.0  \\\n",
       "1    Confinement. Les habitants de Brest, Morlaix e...    0.0   \n",
       "2    La Chine : Le premier marché mondial de Smartp...    0.0   \n",
       "3    Emmanuel à Olivier : « Tiens bon, on les aura ...    1.0   \n",
       "4    Selon UBS, les « propriétés d’assurance tant d...    0.0   \n",
       "..                                                 ...    ...   \n",
       "895  Loi climat : le gouvernement va exempter Amazo...    0.0   \n",
       "896  Le QI peut-il être augmenté par l’éducation ? ...    0.0   \n",
       "897  Secte sexuelle : l’ex-star de Smallville Aliso...    0.0   \n",
       "898  Sacre de Charles III par SAR le Prince Charles...    0.0   \n",
       "899  Bac 2019: appel à poursuivre la grève jusqu'au...    0.0   \n",
       "\n",
       "     lieux, dates et personnes  faits  opinions  subjectif  propos rapporté   \n",
       "0                          1.0    1.0       1.0        1.0              0.0  \\\n",
       "1                          1.0    1.0       0.0        0.0              0.0   \n",
       "2                          1.0    1.0       0.0        0.0              0.0   \n",
       "3                          1.0    1.0       1.0        1.0              0.0   \n",
       "4                          1.0    1.0       1.0        1.0              0.0   \n",
       "..                         ...    ...       ...        ...              ...   \n",
       "895                        0.0    1.0       1.0        1.0              0.0   \n",
       "896                        1.0    1.0       0.0        0.0              0.0   \n",
       "897                        1.0    1.0       0.0        0.0              0.0   \n",
       "898                        1.0    1.0       1.0        1.0              0.0   \n",
       "899                        1.0    1.0       0.0        0.0              0.0   \n",
       "\n",
       "     sources citées  fausse nouvelle  insinuation  exagération  titre décalé   \n",
       "0               1.0              0.0          0.0          0.0           0.0  \\\n",
       "1               1.0              0.0          0.0          0.0           0.0   \n",
       "2               1.0              0.0          0.0          0.0           0.0   \n",
       "3               0.0              1.0          0.0          1.0           0.0   \n",
       "4               1.0              0.0          0.0          0.0           0.0   \n",
       "..              ...              ...          ...          ...           ...   \n",
       "895             0.0              0.0          1.0          0.0           0.0   \n",
       "896             1.0              0.0          0.0          0.0           0.0   \n",
       "897             0.0              0.0          0.0          0.0           0.0   \n",
       "898             0.0              0.0          1.0          0.0           0.0   \n",
       "899             1.0              0.0          0.0          0.0           0.0   \n",
       "\n",
       "                             commentaires observateur   \n",
       "0     vraiment indigeste pour commencer !          FB  \\\n",
       "1                                                  FB   \n",
       "2                                                  FB   \n",
       "3    Article dupliqué (je l'avais manqué)          FB   \n",
       "4                                                  FB   \n",
       "..                                    ...         ...   \n",
       "895                                                GP   \n",
       "896                                                GP   \n",
       "897                                                GP   \n",
       "898                                                GP   \n",
       "899                                                GP   \n",
       "\n",
       "                                        url_h  \n",
       "0    c13175936764a345ec21bc398fe750a41496078e  \n",
       "1    0552561b3c46f64febfbc3a77c301f085a98b966  \n",
       "2    361a904687dd4b1abb189717de7341ce162d21c7  \n",
       "3    433b403d386d5eba5dff7d45044cdb0fe7862972  \n",
       "4    3494ad0901a73fc6ceb2f74ac4ac1930af42b363  \n",
       "..                                        ...  \n",
       "895  d04a526d60fa6d67f61c7abcaf45092b8217a24d  \n",
       "896  14ed4715949dc7767359674df1a076bb1e0e417b  \n",
       "897  2841a1db742a25419c20d4a56eb65d8c05d92f65  \n",
       "898  7f8a6372ed4084fc88263c03e3b9186f082e2162  \n",
       "899  1c4c0f87d734ce85798487b6083220e7092b3ffe  \n",
       "\n",
       "[900 rows x 16 columns]"
      ]
     },
     "execution_count": 11,
     "metadata": {},
     "output_type": "execute_result"
    }
   ],
   "source": [
    "df_obsinfo"
   ]
  },
  {
   "cell_type": "code",
   "execution_count": 12,
   "id": "b1f51176",
   "metadata": {},
   "outputs": [
    {
     "data": {
      "text/plain": [
       "infox                        0\n",
       "lieux, dates et personnes    0\n",
       "faits                        0\n",
       "opinions                     0\n",
       "subjectif                    0\n",
       "propos rapporté              0\n",
       "sources citées               0\n",
       "fausse nouvelle              0\n",
       "insinuation                  0\n",
       "exagération                  0\n",
       "titre décalé                 0\n",
       "dtype: int64"
      ]
     },
     "execution_count": 12,
     "metadata": {},
     "output_type": "execute_result"
    }
   ],
   "source": [
    "df_obsinfo[labels].isna().sum()"
   ]
  },
  {
   "cell_type": "markdown",
   "id": "3c1058fe",
   "metadata": {},
   "source": [
    "### Constats\n",
    "- 100 articles\n",
    "- 11 labels\n",
    "- 9 observateurs\n",
    "- Tous les labels sont remplis pour tous les articles"
   ]
  },
  {
   "cell_type": "markdown",
   "id": "3e8fb0cc",
   "metadata": {},
   "source": [
    "# Introduction \n",
    "## Annotation moyenne et Accord\n",
    "Pour chaque label et chaque article on calcule :\n",
    "- L'**annotation moyenne** = moyenne des annonations de l'ensemble des observateurs\n",
    "- Le **score d'accord** = `abs(2*moyenne-1)`\n",
    "    - Vaut 1 si tous les observateurs donnent le meme label\n",
    "    - Vaut 0 si 50% de 0 et 50% de 1\n",
    "\n",
    "Scores d'Accord pour 9 observateurs\n",
    "- 5/9 -> 0.11\n",
    "- 6/9 -> 0.33\n",
    "- 7/9 -> 0.56\n",
    "- 8/9 -> 0.78\n",
    "- 9/9 -> 1.00\n",
    "\n",
    "Ces métriques servent de base à l'étude des résultats suivant 3 axes:\n",
    "- Analyse par Label\n",
    "- Analyse par Article\n",
    "- Analyse par Observateur"
   ]
  },
  {
   "cell_type": "code",
   "execution_count": 13,
   "id": "940beba0",
   "metadata": {},
   "outputs": [],
   "source": [
    "df_mean = df_obsinfo.pivot_table(index='title',values=labels,aggfunc='mean')"
   ]
  },
  {
   "cell_type": "code",
   "execution_count": 14,
   "id": "74f037b7",
   "metadata": {},
   "outputs": [],
   "source": [
    "df_accord = df_mean.apply(lambda x : abs(2*x-1))"
   ]
  },
  {
   "cell_type": "code",
   "execution_count": 15,
   "id": "5ee8cfb1",
   "metadata": {},
   "outputs": [
    {
     "data": {
      "text/html": [
       "<div>\n",
       "<style scoped>\n",
       "    .dataframe tbody tr th:only-of-type {\n",
       "        vertical-align: middle;\n",
       "    }\n",
       "\n",
       "    .dataframe tbody tr th {\n",
       "        vertical-align: top;\n",
       "    }\n",
       "\n",
       "    .dataframe thead th {\n",
       "        text-align: right;\n",
       "    }\n",
       "</style>\n",
       "<table border=\"1\" class=\"dataframe\">\n",
       "  <thead>\n",
       "    <tr style=\"text-align: right;\">\n",
       "      <th></th>\n",
       "      <th>exagération</th>\n",
       "      <th>faits</th>\n",
       "      <th>fausse nouvelle</th>\n",
       "      <th>infox</th>\n",
       "      <th>insinuation</th>\n",
       "      <th>lieux, dates et personnes</th>\n",
       "      <th>opinions</th>\n",
       "      <th>propos rapporté</th>\n",
       "      <th>sources citées</th>\n",
       "      <th>subjectif</th>\n",
       "      <th>titre décalé</th>\n",
       "    </tr>\n",
       "    <tr>\n",
       "      <th>title</th>\n",
       "      <th></th>\n",
       "      <th></th>\n",
       "      <th></th>\n",
       "      <th></th>\n",
       "      <th></th>\n",
       "      <th></th>\n",
       "      <th></th>\n",
       "      <th></th>\n",
       "      <th></th>\n",
       "      <th></th>\n",
       "      <th></th>\n",
       "    </tr>\n",
       "  </thead>\n",
       "  <tbody>\n",
       "    <tr>\n",
       "      <th>\"On ne peut plus accepter ces mensonges d'État\" Christian Perronne</th>\n",
       "      <td>0.78</td>\n",
       "      <td>1.00</td>\n",
       "      <td>0.33</td>\n",
       "      <td>1.00</td>\n",
       "      <td>0.33</td>\n",
       "      <td>1.00</td>\n",
       "      <td>1.00</td>\n",
       "      <td>0.11</td>\n",
       "      <td>0.78</td>\n",
       "      <td>1.00</td>\n",
       "      <td>0.78</td>\n",
       "    </tr>\n",
       "    <tr>\n",
       "      <th>\"Tully\": Charlize Theron super-maman (critique)</th>\n",
       "      <td>1.00</td>\n",
       "      <td>0.78</td>\n",
       "      <td>1.00</td>\n",
       "      <td>1.00</td>\n",
       "      <td>1.00</td>\n",
       "      <td>0.56</td>\n",
       "      <td>1.00</td>\n",
       "      <td>0.56</td>\n",
       "      <td>0.11</td>\n",
       "      <td>0.33</td>\n",
       "      <td>1.00</td>\n",
       "    </tr>\n",
       "    <tr>\n",
       "      <th>24 juillet : nouvelles manifestations nationales contre le passe sanitaire</th>\n",
       "      <td>0.11</td>\n",
       "      <td>1.00</td>\n",
       "      <td>0.78</td>\n",
       "      <td>0.56</td>\n",
       "      <td>0.11</td>\n",
       "      <td>1.00</td>\n",
       "      <td>0.78</td>\n",
       "      <td>0.56</td>\n",
       "      <td>0.11</td>\n",
       "      <td>0.78</td>\n",
       "      <td>1.00</td>\n",
       "    </tr>\n",
       "    <tr>\n",
       "      <th>70 000 personnes manifestent à Prague contre le gouvernement tchèque, l’UE et l’OTAN</th>\n",
       "      <td>1.00</td>\n",
       "      <td>1.00</td>\n",
       "      <td>1.00</td>\n",
       "      <td>1.00</td>\n",
       "      <td>0.78</td>\n",
       "      <td>1.00</td>\n",
       "      <td>0.33</td>\n",
       "      <td>0.56</td>\n",
       "      <td>0.78</td>\n",
       "      <td>1.00</td>\n",
       "      <td>1.00</td>\n",
       "    </tr>\n",
       "    <tr>\n",
       "      <th>Affluence en baisse au Carnaval de Nice, sept mois après un attentat très meurtrier</th>\n",
       "      <td>0.78</td>\n",
       "      <td>1.00</td>\n",
       "      <td>1.00</td>\n",
       "      <td>0.78</td>\n",
       "      <td>0.78</td>\n",
       "      <td>1.00</td>\n",
       "      <td>0.11</td>\n",
       "      <td>0.56</td>\n",
       "      <td>0.33</td>\n",
       "      <td>1.00</td>\n",
       "      <td>1.00</td>\n",
       "    </tr>\n",
       "    <tr>\n",
       "      <th>...</th>\n",
       "      <td>...</td>\n",
       "      <td>...</td>\n",
       "      <td>...</td>\n",
       "      <td>...</td>\n",
       "      <td>...</td>\n",
       "      <td>...</td>\n",
       "      <td>...</td>\n",
       "      <td>...</td>\n",
       "      <td>...</td>\n",
       "      <td>...</td>\n",
       "      <td>...</td>\n",
       "    </tr>\n",
       "    <tr>\n",
       "      <th>[Entretien exclusif] Helen Joyce : « Aujourd’hui, on demande aux enseignants d’apprendre aux enfants ce que signifie être un garçon ou une fille en les faisant se questionner sur leur identité de genre »</th>\n",
       "      <td>0.11</td>\n",
       "      <td>0.78</td>\n",
       "      <td>0.33</td>\n",
       "      <td>0.11</td>\n",
       "      <td>0.11</td>\n",
       "      <td>0.56</td>\n",
       "      <td>1.00</td>\n",
       "      <td>1.00</td>\n",
       "      <td>0.33</td>\n",
       "      <td>0.33</td>\n",
       "      <td>0.78</td>\n",
       "    </tr>\n",
       "    <tr>\n",
       "      <th>[Tribune] En pleine affaire Ocean Viking, le passeur Cédric Herrou va rencontrer des lycéens !</th>\n",
       "      <td>0.78</td>\n",
       "      <td>1.00</td>\n",
       "      <td>0.33</td>\n",
       "      <td>0.33</td>\n",
       "      <td>0.11</td>\n",
       "      <td>1.00</td>\n",
       "      <td>1.00</td>\n",
       "      <td>0.78</td>\n",
       "      <td>0.33</td>\n",
       "      <td>1.00</td>\n",
       "      <td>0.78</td>\n",
       "    </tr>\n",
       "    <tr>\n",
       "      <th>« Grand remplacement », « Français de papier »… Pécresse manque d’idées et pioche dans les idées de « l’extrême droite »</th>\n",
       "      <td>0.56</td>\n",
       "      <td>1.00</td>\n",
       "      <td>0.78</td>\n",
       "      <td>0.56</td>\n",
       "      <td>0.11</td>\n",
       "      <td>0.78</td>\n",
       "      <td>1.00</td>\n",
       "      <td>0.11</td>\n",
       "      <td>0.78</td>\n",
       "      <td>1.00</td>\n",
       "      <td>1.00</td>\n",
       "    </tr>\n",
       "    <tr>\n",
       "      <th>«Qu’il aille se faire foutre !» : Trump rompt avec Netanyahu</th>\n",
       "      <td>1.00</td>\n",
       "      <td>1.00</td>\n",
       "      <td>1.00</td>\n",
       "      <td>0.78</td>\n",
       "      <td>1.00</td>\n",
       "      <td>0.78</td>\n",
       "      <td>0.11</td>\n",
       "      <td>0.33</td>\n",
       "      <td>0.56</td>\n",
       "      <td>0.78</td>\n",
       "      <td>0.56</td>\n",
       "    </tr>\n",
       "    <tr>\n",
       "      <th>“Ces injections ont été faites pour blesser les gens, les mutiler et les tuer délibérément”</th>\n",
       "      <td>0.78</td>\n",
       "      <td>1.00</td>\n",
       "      <td>1.00</td>\n",
       "      <td>1.00</td>\n",
       "      <td>0.33</td>\n",
       "      <td>1.00</td>\n",
       "      <td>0.56</td>\n",
       "      <td>0.78</td>\n",
       "      <td>1.00</td>\n",
       "      <td>0.33</td>\n",
       "      <td>0.56</td>\n",
       "    </tr>\n",
       "  </tbody>\n",
       "</table>\n",
       "<p>100 rows × 11 columns</p>\n",
       "</div>"
      ],
      "text/plain": [
       "                                                    exagération  faits   \n",
       "title                                                                    \n",
       "\"On ne peut plus accepter ces mensonges d'État\"...         0.78   1.00  \\\n",
       "\"Tully\": Charlize Theron super-maman (critique)            1.00   0.78   \n",
       "24 juillet : nouvelles manifestations nationale...         0.11   1.00   \n",
       "70 000 personnes manifestent à Prague contre le...         1.00   1.00   \n",
       "Affluence en baisse au Carnaval de Nice, sept m...         0.78   1.00   \n",
       "...                                                         ...    ...   \n",
       "[Entretien exclusif] Helen Joyce : « Aujourd’hu...         0.11   0.78   \n",
       "[Tribune] En pleine affaire Ocean Viking, le pa...         0.78   1.00   \n",
       "« Grand remplacement », « Français de papier »…...         0.56   1.00   \n",
       "«Qu’il aille se faire foutre !» : Trump rompt a...         1.00   1.00   \n",
       "“Ces injections ont été faites pour blesser les...         0.78   1.00   \n",
       "\n",
       "                                                    fausse nouvelle  infox   \n",
       "title                                                                        \n",
       "\"On ne peut plus accepter ces mensonges d'État\"...             0.33   1.00  \\\n",
       "\"Tully\": Charlize Theron super-maman (critique)                1.00   1.00   \n",
       "24 juillet : nouvelles manifestations nationale...             0.78   0.56   \n",
       "70 000 personnes manifestent à Prague contre le...             1.00   1.00   \n",
       "Affluence en baisse au Carnaval de Nice, sept m...             1.00   0.78   \n",
       "...                                                             ...    ...   \n",
       "[Entretien exclusif] Helen Joyce : « Aujourd’hu...             0.33   0.11   \n",
       "[Tribune] En pleine affaire Ocean Viking, le pa...             0.33   0.33   \n",
       "« Grand remplacement », « Français de papier »…...             0.78   0.56   \n",
       "«Qu’il aille se faire foutre !» : Trump rompt a...             1.00   0.78   \n",
       "“Ces injections ont été faites pour blesser les...             1.00   1.00   \n",
       "\n",
       "                                                    insinuation   \n",
       "title                                                             \n",
       "\"On ne peut plus accepter ces mensonges d'État\"...         0.33  \\\n",
       "\"Tully\": Charlize Theron super-maman (critique)            1.00   \n",
       "24 juillet : nouvelles manifestations nationale...         0.11   \n",
       "70 000 personnes manifestent à Prague contre le...         0.78   \n",
       "Affluence en baisse au Carnaval de Nice, sept m...         0.78   \n",
       "...                                                         ...   \n",
       "[Entretien exclusif] Helen Joyce : « Aujourd’hu...         0.11   \n",
       "[Tribune] En pleine affaire Ocean Viking, le pa...         0.11   \n",
       "« Grand remplacement », « Français de papier »…...         0.11   \n",
       "«Qu’il aille se faire foutre !» : Trump rompt a...         1.00   \n",
       "“Ces injections ont été faites pour blesser les...         0.33   \n",
       "\n",
       "                                                    lieux, dates et personnes   \n",
       "title                                                                           \n",
       "\"On ne peut plus accepter ces mensonges d'État\"...                       1.00  \\\n",
       "\"Tully\": Charlize Theron super-maman (critique)                          0.56   \n",
       "24 juillet : nouvelles manifestations nationale...                       1.00   \n",
       "70 000 personnes manifestent à Prague contre le...                       1.00   \n",
       "Affluence en baisse au Carnaval de Nice, sept m...                       1.00   \n",
       "...                                                                       ...   \n",
       "[Entretien exclusif] Helen Joyce : « Aujourd’hu...                       0.56   \n",
       "[Tribune] En pleine affaire Ocean Viking, le pa...                       1.00   \n",
       "« Grand remplacement », « Français de papier »…...                       0.78   \n",
       "«Qu’il aille se faire foutre !» : Trump rompt a...                       0.78   \n",
       "“Ces injections ont été faites pour blesser les...                       1.00   \n",
       "\n",
       "                                                    opinions  propos rapporté   \n",
       "title                                                                           \n",
       "\"On ne peut plus accepter ces mensonges d'État\"...      1.00             0.11  \\\n",
       "\"Tully\": Charlize Theron super-maman (critique)         1.00             0.56   \n",
       "24 juillet : nouvelles manifestations nationale...      0.78             0.56   \n",
       "70 000 personnes manifestent à Prague contre le...      0.33             0.56   \n",
       "Affluence en baisse au Carnaval de Nice, sept m...      0.11             0.56   \n",
       "...                                                      ...              ...   \n",
       "[Entretien exclusif] Helen Joyce : « Aujourd’hu...      1.00             1.00   \n",
       "[Tribune] En pleine affaire Ocean Viking, le pa...      1.00             0.78   \n",
       "« Grand remplacement », « Français de papier »…...      1.00             0.11   \n",
       "«Qu’il aille se faire foutre !» : Trump rompt a...      0.11             0.33   \n",
       "“Ces injections ont été faites pour blesser les...      0.56             0.78   \n",
       "\n",
       "                                                    sources citées  subjectif   \n",
       "title                                                                           \n",
       "\"On ne peut plus accepter ces mensonges d'État\"...            0.78       1.00  \\\n",
       "\"Tully\": Charlize Theron super-maman (critique)               0.11       0.33   \n",
       "24 juillet : nouvelles manifestations nationale...            0.11       0.78   \n",
       "70 000 personnes manifestent à Prague contre le...            0.78       1.00   \n",
       "Affluence en baisse au Carnaval de Nice, sept m...            0.33       1.00   \n",
       "...                                                            ...        ...   \n",
       "[Entretien exclusif] Helen Joyce : « Aujourd’hu...            0.33       0.33   \n",
       "[Tribune] En pleine affaire Ocean Viking, le pa...            0.33       1.00   \n",
       "« Grand remplacement », « Français de papier »…...            0.78       1.00   \n",
       "«Qu’il aille se faire foutre !» : Trump rompt a...            0.56       0.78   \n",
       "“Ces injections ont été faites pour blesser les...            1.00       0.33   \n",
       "\n",
       "                                                    titre décalé  \n",
       "title                                                             \n",
       "\"On ne peut plus accepter ces mensonges d'État\"...          0.78  \n",
       "\"Tully\": Charlize Theron super-maman (critique)             1.00  \n",
       "24 juillet : nouvelles manifestations nationale...          1.00  \n",
       "70 000 personnes manifestent à Prague contre le...          1.00  \n",
       "Affluence en baisse au Carnaval de Nice, sept m...          1.00  \n",
       "...                                                          ...  \n",
       "[Entretien exclusif] Helen Joyce : « Aujourd’hu...          0.78  \n",
       "[Tribune] En pleine affaire Ocean Viking, le pa...          0.78  \n",
       "« Grand remplacement », « Français de papier »…...          1.00  \n",
       "«Qu’il aille se faire foutre !» : Trump rompt a...          0.56  \n",
       "“Ces injections ont été faites pour blesser les...          0.56  \n",
       "\n",
       "[100 rows x 11 columns]"
      ]
     },
     "execution_count": 15,
     "metadata": {},
     "output_type": "execute_result"
    }
   ],
   "source": [
    "df_accord"
   ]
  },
  {
   "cell_type": "markdown",
   "id": "5df61b16",
   "metadata": {},
   "source": [
    "# Analyse par labels"
   ]
  },
  {
   "cell_type": "markdown",
   "id": "e6b16729",
   "metadata": {},
   "source": [
    "## Sommes des Moyennes"
   ]
  },
  {
   "cell_type": "code",
   "execution_count": 16,
   "id": "53e575d6",
   "metadata": {},
   "outputs": [
    {
     "data": {
      "text/html": [
       "<div>\n",
       "<style scoped>\n",
       "    .dataframe tbody tr th:only-of-type {\n",
       "        vertical-align: middle;\n",
       "    }\n",
       "\n",
       "    .dataframe tbody tr th {\n",
       "        vertical-align: top;\n",
       "    }\n",
       "\n",
       "    .dataframe thead th {\n",
       "        text-align: right;\n",
       "    }\n",
       "</style>\n",
       "<table border=\"1\" class=\"dataframe\">\n",
       "  <thead>\n",
       "    <tr style=\"text-align: right;\">\n",
       "      <th></th>\n",
       "      <th>mean</th>\n",
       "    </tr>\n",
       "  </thead>\n",
       "  <tbody>\n",
       "    <tr>\n",
       "      <th>titre décalé</th>\n",
       "      <td>9.67</td>\n",
       "    </tr>\n",
       "    <tr>\n",
       "      <th>fausse nouvelle</th>\n",
       "      <td>22.22</td>\n",
       "    </tr>\n",
       "    <tr>\n",
       "      <th>propos rapporté</th>\n",
       "      <td>29.78</td>\n",
       "    </tr>\n",
       "    <tr>\n",
       "      <th>infox</th>\n",
       "      <td>37.44</td>\n",
       "    </tr>\n",
       "    <tr>\n",
       "      <th>exagération</th>\n",
       "      <td>45.33</td>\n",
       "    </tr>\n",
       "    <tr>\n",
       "      <th>insinuation</th>\n",
       "      <td>46.33</td>\n",
       "    </tr>\n",
       "    <tr>\n",
       "      <th>subjectif</th>\n",
       "      <td>60.56</td>\n",
       "    </tr>\n",
       "    <tr>\n",
       "      <th>sources citées</th>\n",
       "      <td>69.56</td>\n",
       "    </tr>\n",
       "    <tr>\n",
       "      <th>opinions</th>\n",
       "      <td>72.89</td>\n",
       "    </tr>\n",
       "    <tr>\n",
       "      <th>lieux, dates et personnes</th>\n",
       "      <td>90.33</td>\n",
       "    </tr>\n",
       "    <tr>\n",
       "      <th>faits</th>\n",
       "      <td>94.89</td>\n",
       "    </tr>\n",
       "  </tbody>\n",
       "</table>\n",
       "</div>"
      ],
      "text/plain": [
       "                            mean\n",
       "titre décalé                9.67\n",
       "fausse nouvelle            22.22\n",
       "propos rapporté            29.78\n",
       "infox                      37.44\n",
       "exagération                45.33\n",
       "insinuation                46.33\n",
       "subjectif                  60.56\n",
       "sources citées             69.56\n",
       "opinions                   72.89\n",
       "lieux, dates et personnes  90.33\n",
       "faits                      94.89"
      ]
     },
     "execution_count": 16,
     "metadata": {},
     "output_type": "execute_result"
    }
   ],
   "source": [
    "mean_sum = pd.DataFrame(df_mean.sum(),columns=['mean']).sort_values('mean')\n",
    "mean_sum"
   ]
  },
  {
   "cell_type": "code",
   "execution_count": 17,
   "id": "40369220",
   "metadata": {},
   "outputs": [
    {
     "data": {
      "text/plain": [
       "<Axes: >"
      ]
     },
     "execution_count": 17,
     "metadata": {},
     "output_type": "execute_result"
    },
    {
     "data": {
      "image/png": "[encoded data removed]",
      "text/plain": [
       "<Figure size 640x480 with 1 Axes>"
      ]
     },
     "metadata": {},
     "output_type": "display_data"
    }
   ],
   "source": [
    "sns.barplot(mean_sum.T,orient=\"h\")"
   ]
  },
  {
   "cell_type": "markdown",
   "id": "ee68592a",
   "metadata": {},
   "source": [
    "### Constats\n",
    "- Pas de répartition uniforme par label : Certains sont plus souvent à 0, d'autres plus souvent à 1\n",
    "    - titre décalé : 10% de 1\n",
    "    - fausse nouvelle : 23% de 1\n",
    "    - Lieux dates et personnes : 94% de 1\n",
    "    - faits : 95 %\n",
    "### Conclusions\n",
    "- Le label fait étant à 1 dans 95% des cas n'est peut être pas significatif, peut être faut il l'écarter\n"
   ]
  },
  {
   "cell_type": "markdown",
   "id": "99540f3d",
   "metadata": {},
   "source": [
    "## Moyennes des Accords"
   ]
  },
  {
   "cell_type": "code",
   "execution_count": 18,
   "id": "e51ff869",
   "metadata": {},
   "outputs": [
    {
     "data": {
      "text/html": [
       "<div>\n",
       "<style scoped>\n",
       "    .dataframe tbody tr th:only-of-type {\n",
       "        vertical-align: middle;\n",
       "    }\n",
       "\n",
       "    .dataframe tbody tr th {\n",
       "        vertical-align: top;\n",
       "    }\n",
       "\n",
       "    .dataframe thead th {\n",
       "        text-align: right;\n",
       "    }\n",
       "</style>\n",
       "<table border=\"1\" class=\"dataframe\">\n",
       "  <thead>\n",
       "    <tr style=\"text-align: right;\">\n",
       "      <th></th>\n",
       "      <th>sum</th>\n",
       "    </tr>\n",
       "  </thead>\n",
       "  <tbody>\n",
       "    <tr>\n",
       "      <th>insinuation</th>\n",
       "      <td>0.52</td>\n",
       "    </tr>\n",
       "    <tr>\n",
       "      <th>sources citées</th>\n",
       "      <td>0.57</td>\n",
       "    </tr>\n",
       "    <tr>\n",
       "      <th>propos rapporté</th>\n",
       "      <td>0.57</td>\n",
       "    </tr>\n",
       "    <tr>\n",
       "      <th>exagération</th>\n",
       "      <td>0.64</td>\n",
       "    </tr>\n",
       "    <tr>\n",
       "      <th>infox</th>\n",
       "      <td>0.65</td>\n",
       "    </tr>\n",
       "    <tr>\n",
       "      <th>opinions</th>\n",
       "      <td>0.69</td>\n",
       "    </tr>\n",
       "    <tr>\n",
       "      <th>fausse nouvelle</th>\n",
       "      <td>0.70</td>\n",
       "    </tr>\n",
       "    <tr>\n",
       "      <th>subjectif</th>\n",
       "      <td>0.72</td>\n",
       "    </tr>\n",
       "    <tr>\n",
       "      <th>lieux, dates et personnes</th>\n",
       "      <td>0.81</td>\n",
       "    </tr>\n",
       "    <tr>\n",
       "      <th>titre décalé</th>\n",
       "      <td>0.82</td>\n",
       "    </tr>\n",
       "    <tr>\n",
       "      <th>faits</th>\n",
       "      <td>0.90</td>\n",
       "    </tr>\n",
       "  </tbody>\n",
       "</table>\n",
       "</div>"
      ],
      "text/plain": [
       "                            sum\n",
       "insinuation                0.52\n",
       "sources citées             0.57\n",
       "propos rapporté            0.57\n",
       "exagération                0.64\n",
       "infox                      0.65\n",
       "opinions                   0.69\n",
       "fausse nouvelle            0.70\n",
       "subjectif                  0.72\n",
       "lieux, dates et personnes  0.81\n",
       "titre décalé               0.82\n",
       "faits                      0.90"
      ]
     },
     "execution_count": 18,
     "metadata": {},
     "output_type": "execute_result"
    }
   ],
   "source": [
    "accord_mean = pd.DataFrame(df_accord.mean(),columns=['sum']).sort_values('sum')\n",
    "accord_mean"
   ]
  },
  {
   "cell_type": "code",
   "execution_count": 19,
   "id": "83dd7bb3",
   "metadata": {},
   "outputs": [
    {
     "data": {
      "text/plain": [
       "<Axes: >"
      ]
     },
     "execution_count": 19,
     "metadata": {},
     "output_type": "execute_result"
    },
    {
     "data": {
      "image/png": "[encoded data removed]",
      "text/plain": [
       "<Figure size 640x480 with 1 Axes>"
      ]
     },
     "metadata": {},
     "output_type": "display_data"
    }
   ],
   "source": [
    "sns.barplot(accord_mean.T,orient=\"h\")"
   ]
  },
  {
   "cell_type": "markdown",
   "id": "416b3eea",
   "metadata": {},
   "source": [
    "### Constats\n",
    "- Les observateurs sont plus souvent en accord sur :\n",
    "    - faits : 0.90\n",
    "    - titre décalé : 0.82\n",
    "    - Lieu date personne : 0.81\n",
    "- Et plus souvent partagés sur :\n",
    "    - insinuation\t0.52\n",
    "    - sources citées\t0.57\n",
    "    - propos rapporté\t0.57\n",
    "\n",
    "### Conclusions\n",
    "- 2 observateurs ne vont pas forcément donner la meme valeur à un label donné pour un article donné.\n",
    "- La moyenne par label est plutot élevée, avec un minimum à 0.51 (7/9 : 0.56)\n"
   ]
  },
  {
   "cell_type": "markdown",
   "id": "61c266d5",
   "metadata": {},
   "source": [
    "## Comptage accords par nombre de voix pour atteindre la majorité\n"
   ]
  },
  {
   "cell_type": "code",
   "execution_count": 20,
   "id": "4dd37f01",
   "metadata": {},
   "outputs": [
    {
     "name": "stdout",
     "output_type": "stream",
     "text": [
      "Scores d'Accord pour 9 observateurs\n",
      "5/9 = 0.11\n",
      "6/9 = 0.33\n",
      "7/9 = 0.56\n",
      "8/9 = 0.78\n",
      "9/9 = 1.00\n"
     ]
    }
   ],
   "source": [
    "print(\"Scores d'Accord pour 9 observateurs\")\n",
    "for i in range(5,10):\n",
    "    print(f'{i}/9 = {(i/9-0.5)*2:.2f}')"
   ]
  },
  {
   "cell_type": "code",
   "execution_count": 21,
   "id": "2b8ca95e",
   "metadata": {},
   "outputs": [],
   "source": [
    "df_details = pd.DataFrame()\n",
    "for i in range(5,10):\n",
    "    threshold = (i/9-0.5)*2\n",
    "    df_details[i] = pd.DataFrame(df_accord.apply(lambda x: x==threshold).sum(),columns=['count']).sort_values('count')"
   ]
  },
  {
   "cell_type": "code",
   "execution_count": 23,
   "id": "22c78095",
   "metadata": {},
   "outputs": [
    {
     "data": {
      "text/html": [
       "<div>\n",
       "<style scoped>\n",
       "    .dataframe tbody tr th:only-of-type {\n",
       "        vertical-align: middle;\n",
       "    }\n",
       "\n",
       "    .dataframe tbody tr th {\n",
       "        vertical-align: top;\n",
       "    }\n",
       "\n",
       "    .dataframe thead th {\n",
       "        text-align: right;\n",
       "    }\n",
       "</style>\n",
       "<table border=\"1\" class=\"dataframe\">\n",
       "  <thead>\n",
       "    <tr style=\"text-align: right;\">\n",
       "      <th></th>\n",
       "      <th>5</th>\n",
       "      <th>6</th>\n",
       "      <th>7</th>\n",
       "      <th>8</th>\n",
       "      <th>9</th>\n",
       "    </tr>\n",
       "  </thead>\n",
       "  <tbody>\n",
       "    <tr>\n",
       "      <th>sources citées</th>\n",
       "      <td>23</td>\n",
       "      <td>13</td>\n",
       "      <td>12</td>\n",
       "      <td>17</td>\n",
       "      <td>27</td>\n",
       "    </tr>\n",
       "    <tr>\n",
       "      <th>insinuation</th>\n",
       "      <td>22</td>\n",
       "      <td>15</td>\n",
       "      <td>16</td>\n",
       "      <td>10</td>\n",
       "      <td>16</td>\n",
       "    </tr>\n",
       "    <tr>\n",
       "      <th>exagération</th>\n",
       "      <td>21</td>\n",
       "      <td>7</td>\n",
       "      <td>15</td>\n",
       "      <td>10</td>\n",
       "      <td>34</td>\n",
       "    </tr>\n",
       "    <tr>\n",
       "      <th>opinions</th>\n",
       "      <td>15</td>\n",
       "      <td>3</td>\n",
       "      <td>18</td>\n",
       "      <td>18</td>\n",
       "      <td>39</td>\n",
       "    </tr>\n",
       "    <tr>\n",
       "      <th>propos rapporté</th>\n",
       "      <td>14</td>\n",
       "      <td>2</td>\n",
       "      <td>40</td>\n",
       "      <td>2</td>\n",
       "      <td>18</td>\n",
       "    </tr>\n",
       "    <tr>\n",
       "      <th>infox</th>\n",
       "      <td>12</td>\n",
       "      <td>10</td>\n",
       "      <td>17</td>\n",
       "      <td>9</td>\n",
       "      <td>33</td>\n",
       "    </tr>\n",
       "    <tr>\n",
       "      <th>fausse nouvelle</th>\n",
       "      <td>11</td>\n",
       "      <td>3</td>\n",
       "      <td>17</td>\n",
       "      <td>3</td>\n",
       "      <td>39</td>\n",
       "    </tr>\n",
       "    <tr>\n",
       "      <th>subjectif</th>\n",
       "      <td>11</td>\n",
       "      <td>9</td>\n",
       "      <td>11</td>\n",
       "      <td>12</td>\n",
       "      <td>45</td>\n",
       "    </tr>\n",
       "    <tr>\n",
       "      <th>titre décalé</th>\n",
       "      <td>5</td>\n",
       "      <td>1</td>\n",
       "      <td>13</td>\n",
       "      <td>0</td>\n",
       "      <td>52</td>\n",
       "    </tr>\n",
       "    <tr>\n",
       "      <th>lieux, dates et personnes</th>\n",
       "      <td>4</td>\n",
       "      <td>6</td>\n",
       "      <td>19</td>\n",
       "      <td>14</td>\n",
       "      <td>57</td>\n",
       "    </tr>\n",
       "    <tr>\n",
       "      <th>faits</th>\n",
       "      <td>2</td>\n",
       "      <td>2</td>\n",
       "      <td>7</td>\n",
       "      <td>16</td>\n",
       "      <td>73</td>\n",
       "    </tr>\n",
       "  </tbody>\n",
       "</table>\n",
       "</div>"
      ],
      "text/plain": [
       "                            5   6   7   8   9\n",
       "sources citées             23  13  12  17  27\n",
       "insinuation                22  15  16  10  16\n",
       "exagération                21   7  15  10  34\n",
       "opinions                   15   3  18  18  39\n",
       "propos rapporté            14   2  40   2  18\n",
       "infox                      12  10  17   9  33\n",
       "fausse nouvelle            11   3  17   3  39\n",
       "subjectif                  11   9  11  12  45\n",
       "titre décalé                5   1  13   0  52\n",
       "lieux, dates et personnes   4   6  19  14  57\n",
       "faits                       2   2   7  16  73"
      ]
     },
     "execution_count": 23,
     "metadata": {},
     "output_type": "execute_result"
    }
   ],
   "source": [
    "df_details.sort_values(5,ascending=False)"
   ]
  },
  {
   "cell_type": "code",
   "execution_count": 24,
   "id": "ea90eddd",
   "metadata": {},
   "outputs": [],
   "source": [
    "df_details['low'] = df_details[5]+df_details[6]\n",
    "df_details['high'] = df_details[7]+df_details[8]+df_details[9]"
   ]
  },
  {
   "cell_type": "code",
   "execution_count": 26,
   "id": "d92ad8a8",
   "metadata": {},
   "outputs": [
    {
     "data": {
      "text/html": [
       "<div>\n",
       "<style scoped>\n",
       "    .dataframe tbody tr th:only-of-type {\n",
       "        vertical-align: middle;\n",
       "    }\n",
       "\n",
       "    .dataframe tbody tr th {\n",
       "        vertical-align: top;\n",
       "    }\n",
       "\n",
       "    .dataframe thead th {\n",
       "        text-align: right;\n",
       "    }\n",
       "</style>\n",
       "<table border=\"1\" class=\"dataframe\">\n",
       "  <thead>\n",
       "    <tr style=\"text-align: right;\">\n",
       "      <th></th>\n",
       "      <th>5</th>\n",
       "      <th>6</th>\n",
       "      <th>7</th>\n",
       "      <th>8</th>\n",
       "      <th>9</th>\n",
       "      <th>low</th>\n",
       "      <th>high</th>\n",
       "    </tr>\n",
       "  </thead>\n",
       "  <tbody>\n",
       "    <tr>\n",
       "      <th>faits</th>\n",
       "      <td>2</td>\n",
       "      <td>2</td>\n",
       "      <td>7</td>\n",
       "      <td>16</td>\n",
       "      <td>73</td>\n",
       "      <td>4</td>\n",
       "      <td>96</td>\n",
       "    </tr>\n",
       "    <tr>\n",
       "      <th>lieux, dates et personnes</th>\n",
       "      <td>4</td>\n",
       "      <td>6</td>\n",
       "      <td>19</td>\n",
       "      <td>14</td>\n",
       "      <td>57</td>\n",
       "      <td>10</td>\n",
       "      <td>90</td>\n",
       "    </tr>\n",
       "    <tr>\n",
       "      <th>opinions</th>\n",
       "      <td>15</td>\n",
       "      <td>3</td>\n",
       "      <td>18</td>\n",
       "      <td>18</td>\n",
       "      <td>39</td>\n",
       "      <td>18</td>\n",
       "      <td>75</td>\n",
       "    </tr>\n",
       "    <tr>\n",
       "      <th>subjectif</th>\n",
       "      <td>11</td>\n",
       "      <td>9</td>\n",
       "      <td>11</td>\n",
       "      <td>12</td>\n",
       "      <td>45</td>\n",
       "      <td>20</td>\n",
       "      <td>68</td>\n",
       "    </tr>\n",
       "    <tr>\n",
       "      <th>titre décalé</th>\n",
       "      <td>5</td>\n",
       "      <td>1</td>\n",
       "      <td>13</td>\n",
       "      <td>0</td>\n",
       "      <td>52</td>\n",
       "      <td>6</td>\n",
       "      <td>65</td>\n",
       "    </tr>\n",
       "    <tr>\n",
       "      <th>propos rapporté</th>\n",
       "      <td>14</td>\n",
       "      <td>2</td>\n",
       "      <td>40</td>\n",
       "      <td>2</td>\n",
       "      <td>18</td>\n",
       "      <td>16</td>\n",
       "      <td>60</td>\n",
       "    </tr>\n",
       "    <tr>\n",
       "      <th>fausse nouvelle</th>\n",
       "      <td>11</td>\n",
       "      <td>3</td>\n",
       "      <td>17</td>\n",
       "      <td>3</td>\n",
       "      <td>39</td>\n",
       "      <td>14</td>\n",
       "      <td>59</td>\n",
       "    </tr>\n",
       "    <tr>\n",
       "      <th>infox</th>\n",
       "      <td>12</td>\n",
       "      <td>10</td>\n",
       "      <td>17</td>\n",
       "      <td>9</td>\n",
       "      <td>33</td>\n",
       "      <td>22</td>\n",
       "      <td>59</td>\n",
       "    </tr>\n",
       "    <tr>\n",
       "      <th>exagération</th>\n",
       "      <td>21</td>\n",
       "      <td>7</td>\n",
       "      <td>15</td>\n",
       "      <td>10</td>\n",
       "      <td>34</td>\n",
       "      <td>28</td>\n",
       "      <td>59</td>\n",
       "    </tr>\n",
       "    <tr>\n",
       "      <th>sources citées</th>\n",
       "      <td>23</td>\n",
       "      <td>13</td>\n",
       "      <td>12</td>\n",
       "      <td>17</td>\n",
       "      <td>27</td>\n",
       "      <td>36</td>\n",
       "      <td>56</td>\n",
       "    </tr>\n",
       "    <tr>\n",
       "      <th>insinuation</th>\n",
       "      <td>22</td>\n",
       "      <td>15</td>\n",
       "      <td>16</td>\n",
       "      <td>10</td>\n",
       "      <td>16</td>\n",
       "      <td>37</td>\n",
       "      <td>42</td>\n",
       "    </tr>\n",
       "  </tbody>\n",
       "</table>\n",
       "</div>"
      ],
      "text/plain": [
       "                            5   6   7   8   9  low  high\n",
       "faits                       2   2   7  16  73    4    96\n",
       "lieux, dates et personnes   4   6  19  14  57   10    90\n",
       "opinions                   15   3  18  18  39   18    75\n",
       "subjectif                  11   9  11  12  45   20    68\n",
       "titre décalé                5   1  13   0  52    6    65\n",
       "propos rapporté            14   2  40   2  18   16    60\n",
       "fausse nouvelle            11   3  17   3  39   14    59\n",
       "infox                      12  10  17   9  33   22    59\n",
       "exagération                21   7  15  10  34   28    59\n",
       "sources citées             23  13  12  17  27   36    56\n",
       "insinuation                22  15  16  10  16   37    42"
      ]
     },
     "execution_count": 26,
     "metadata": {},
     "output_type": "execute_result"
    }
   ],
   "source": [
    "df_details.sort_values('high',ascending=False)"
   ]
  },
  {
   "cell_type": "markdown",
   "id": "c7f05387",
   "metadata": {},
   "source": [
    "### Constats\n",
    "#### Unanimité\n",
    "- Il n'y a unanimité sur aucun label\n",
    "- Le meilleur score d'unanimité est pour **faits** avec 73%\n",
    "- Les moins bon scores sont insinuation et propos raportés\n",
    "#### Accord relatif = high = 7/9 + 8/9 + 9/9\n",
    "- Bon scores high pour faits et lieux dates personnes\n",
    "- infox : Seulement 59% de high : la notion n'est pas clairement définie\n",
    "#### Division = low = 5/9 + 6/9\n",
    "- Les labels qui divisent le plus sont insinuation (37%) et sources citées (36%)\n",
    "### Conclusion\n",
    "- Biais de compréhension possible\n",
    "    - Pour le label source citées par exemple"
   ]
  },
  {
   "cell_type": "markdown",
   "id": "01afc872",
   "metadata": {},
   "source": [
    "## Polarité des accords"
   ]
  },
  {
   "cell_type": "code",
   "execution_count": 27,
   "id": "66761305",
   "metadata": {},
   "outputs": [],
   "source": [
    "df_details['moyenne']=df_mean.sum()\n",
    "df_details['accord']=df_accord.sum()\n",
    "df_details['label']=df_details.index"
   ]
  },
  {
   "cell_type": "code",
   "execution_count": 28,
   "id": "a904544b",
   "metadata": {},
   "outputs": [
    {
     "data": {
      "image/png": "[encoded data removed]",
      "text/plain": [
       "<Figure size 640x480 with 1 Axes>"
      ]
     },
     "metadata": {},
     "output_type": "display_data"
    }
   ],
   "source": [
    "ax = sns.scatterplot(df_details,x='moyenne',y='accord',hue='label')\n",
    "sns.move_legend(ax, \"upper left\", bbox_to_anchor=(1, 1))"
   ]
  },
  {
   "cell_type": "markdown",
   "id": "ebf6a997",
   "metadata": {},
   "source": [
    "### Constats\n",
    "La courbe a une forme de U :\n",
    "- L'accord est plus élevé pour les moyennes extrèmes\n",
    "- L'accord est plus bas pour les moyennes \"moyennes\"\n",
    "### Conclusions\n",
    "Les observateurs sont plus souvents en accord sur les labels qui ont plus souvent les meme valeurs"
   ]
  },
  {
   "cell_type": "markdown",
   "id": "1967b1d2",
   "metadata": {},
   "source": [
    "# Analyse par articles"
   ]
  },
  {
   "cell_type": "markdown",
   "id": "39d7f835",
   "metadata": {},
   "source": [
    "## Moyenne des accords des 11 labels"
   ]
  },
  {
   "cell_type": "code",
   "execution_count": 29,
   "id": "8528eb06",
   "metadata": {},
   "outputs": [],
   "source": [
    "df_accord_articles=pd.DataFrame(df_accord.T.mean().sort_values(),columns=['accord_mean'])"
   ]
  },
  {
   "cell_type": "code",
   "execution_count": 30,
   "id": "a26be2a9",
   "metadata": {},
   "outputs": [
    {
     "data": {
      "text/html": [
       "<div>\n",
       "<style scoped>\n",
       "    .dataframe tbody tr th:only-of-type {\n",
       "        vertical-align: middle;\n",
       "    }\n",
       "\n",
       "    .dataframe tbody tr th {\n",
       "        vertical-align: top;\n",
       "    }\n",
       "\n",
       "    .dataframe thead th {\n",
       "        text-align: right;\n",
       "    }\n",
       "</style>\n",
       "<table border=\"1\" class=\"dataframe\">\n",
       "  <thead>\n",
       "    <tr style=\"text-align: right;\">\n",
       "      <th></th>\n",
       "      <th>accord_mean</th>\n",
       "    </tr>\n",
       "    <tr>\n",
       "      <th>title</th>\n",
       "      <th></th>\n",
       "    </tr>\n",
       "  </thead>\n",
       "  <tbody>\n",
       "    <tr>\n",
       "      <th>Ursula von der Leyen menace les Italiens à la veille des élections</th>\n",
       "      <td>0.39</td>\n",
       "    </tr>\n",
       "    <tr>\n",
       "      <th>Un couple loge une famille de migrants : 36.000 € de dégâts</th>\n",
       "      <td>0.39</td>\n",
       "    </tr>\n",
       "    <tr>\n",
       "      <th>L’ouverture des sceaux de l’Apocalypse</th>\n",
       "      <td>0.41</td>\n",
       "    </tr>\n",
       "    <tr>\n",
       "      <th>L’avortement médicalement assisté ne sauve pas la vie des femmes</th>\n",
       "      <td>0.45</td>\n",
       "    </tr>\n",
       "    <tr>\n",
       "      <th>[Entretien exclusif] Helen Joyce : « Aujourd’hui, on demande aux enseignants d’apprendre aux enfants ce que signifie être un garçon ou une fille en les faisant se questionner sur leur identité de genre »</th>\n",
       "      <td>0.49</td>\n",
       "    </tr>\n",
       "    <tr>\n",
       "      <th>...</th>\n",
       "      <td>...</td>\n",
       "    </tr>\n",
       "    <tr>\n",
       "      <th>Un colonel de gendarmerie à la tête de la SPA pour ramener la paix</th>\n",
       "      <td>0.92</td>\n",
       "    </tr>\n",
       "    <tr>\n",
       "      <th>Suisse : une rentrée politique sous le signe du viol</th>\n",
       "      <td>0.92</td>\n",
       "    </tr>\n",
       "    <tr>\n",
       "      <th>Beyrouth: jusqu’à 300 000 personnes sans domicile après les explosions, la moitié de la ville touchée</th>\n",
       "      <td>0.94</td>\n",
       "    </tr>\n",
       "    <tr>\n",
       "      <th>Confinement. Les habitants de Brest, Morlaix et Carhaix invités à répondre à une étude sur leur consommation d’alcool</th>\n",
       "      <td>0.94</td>\n",
       "    </tr>\n",
       "    <tr>\n",
       "      <th>Essonne : Les voleurs tombent sur des membres du GIGN qui sortaient de leur entraînement</th>\n",
       "      <td>0.94</td>\n",
       "    </tr>\n",
       "  </tbody>\n",
       "</table>\n",
       "<p>100 rows × 1 columns</p>\n",
       "</div>"
      ],
      "text/plain": [
       "                                                    accord_mean\n",
       "title                                                          \n",
       "Ursula von der Leyen menace les Italiens à la v...         0.39\n",
       "Un couple loge une famille de migrants : 36.000...         0.39\n",
       "L’ouverture des sceaux de l’Apocalypse                     0.41\n",
       "L’avortement médicalement assisté ne sauve pas ...         0.45\n",
       "[Entretien exclusif] Helen Joyce : « Aujourd’hu...         0.49\n",
       "...                                                         ...\n",
       "Un colonel de gendarmerie à la tête de la SPA p...         0.92\n",
       "Suisse : une rentrée politique sous le signe du...         0.92\n",
       "Beyrouth: jusqu’à 300 000 personnes sans domici...         0.94\n",
       "Confinement. Les habitants de Brest, Morlaix et...         0.94\n",
       "Essonne : Les voleurs tombent sur des membres d...         0.94\n",
       "\n",
       "[100 rows x 1 columns]"
      ]
     },
     "execution_count": 30,
     "metadata": {},
     "output_type": "execute_result"
    }
   ],
   "source": [
    "df_accord_articles.sort_values('accord_mean')"
   ]
  },
  {
   "cell_type": "code",
   "execution_count": 31,
   "id": "99c9aeae",
   "metadata": {},
   "outputs": [
    {
     "data": {
      "text/plain": [
       "<seaborn.axisgrid.FacetGrid at 0x1691e3d60>"
      ]
     },
     "execution_count": 31,
     "metadata": {},
     "output_type": "execute_result"
    },
    {
     "data": {
      "image/png": "[encoded data removed]",
      "text/plain": [
       "<Figure size 643.125x500 with 1 Axes>"
      ]
     },
     "metadata": {},
     "output_type": "display_data"
    }
   ],
   "source": [
    "sns.displot(df_accord_articles,bins=30)"
   ]
  },
  {
   "cell_type": "code",
   "execution_count": 32,
   "id": "9d4698ab",
   "metadata": {},
   "outputs": [
    {
     "data": {
      "text/plain": [
       "<seaborn.axisgrid.FacetGrid at 0x169316f50>"
      ]
     },
     "execution_count": 32,
     "metadata": {},
     "output_type": "execute_result"
    },
    {
     "data": {
      "image/png": "[encoded data removed]",
      "text/plain": [
       "<Figure size 643.125x500 with 1 Axes>"
      ]
     },
     "metadata": {},
     "output_type": "display_data"
    }
   ],
   "source": [
    "sns.displot(df_accord_articles,bins=5)"
   ]
  },
  {
   "cell_type": "markdown",
   "id": "088a49ba",
   "metadata": {},
   "source": [
    "### Constats\n",
    "- Distribution clairement décalée vers l'accord\n",
    "- La plus petite moyenne est à 0.39, le minimum théorique est de 0.11\n",
    "- Le meilleur accord est à 0.93 pour trois articles\n",
    "### Conclusions\n",
    "- Les observateurs ne sont pas en désacord sur tous les labels en meme temps"
   ]
  },
  {
   "cell_type": "markdown",
   "id": "c25d2e75",
   "metadata": {},
   "source": [
    "## Sous-ensemble de labels\n",
    "On écarte volontairement les labels :\n",
    "- Non significatifs : Trop souvent la meme valeur\n",
    "- Observation biaisée : Le brief de lbelisation n'était pas clair"
   ]
  },
  {
   "cell_type": "code",
   "execution_count": 34,
   "id": "c4f3c4e7",
   "metadata": {},
   "outputs": [],
   "source": [
    "selected_labels = ['infox','opinions','subjectif','exagération','insinuation']"
   ]
  },
  {
   "cell_type": "code",
   "execution_count": 35,
   "id": "343ede34",
   "metadata": {},
   "outputs": [],
   "source": [
    "df_accord_articles = pd.DataFrame(df_accord[selected_labels].T.mean().sort_values(),columns=['accord'])"
   ]
  },
  {
   "cell_type": "code",
   "execution_count": 36,
   "id": "c137d388",
   "metadata": {},
   "outputs": [
    {
     "data": {
      "text/html": [
       "<div>\n",
       "<style scoped>\n",
       "    .dataframe tbody tr th:only-of-type {\n",
       "        vertical-align: middle;\n",
       "    }\n",
       "\n",
       "    .dataframe tbody tr th {\n",
       "        vertical-align: top;\n",
       "    }\n",
       "\n",
       "    .dataframe thead th {\n",
       "        text-align: right;\n",
       "    }\n",
       "</style>\n",
       "<table border=\"1\" class=\"dataframe\">\n",
       "  <thead>\n",
       "    <tr style=\"text-align: right;\">\n",
       "      <th></th>\n",
       "      <th>accord</th>\n",
       "    </tr>\n",
       "    <tr>\n",
       "      <th>title</th>\n",
       "      <th></th>\n",
       "    </tr>\n",
       "  </thead>\n",
       "  <tbody>\n",
       "    <tr>\n",
       "      <th>Ursula von der Leyen menace les Italiens à la veille des élections</th>\n",
       "      <td>0.16</td>\n",
       "    </tr>\n",
       "    <tr>\n",
       "      <th>L’avortement médicalement assisté ne sauve pas la vie des femmes</th>\n",
       "      <td>0.24</td>\n",
       "    </tr>\n",
       "    <tr>\n",
       "      <th>Mortalité du bétail et antenne-relais : une décision de justice inespérée</th>\n",
       "      <td>0.24</td>\n",
       "    </tr>\n",
       "    <tr>\n",
       "      <th>Vaccin anti-Covid : la descente aux enfers d’Eloïse</th>\n",
       "      <td>0.24</td>\n",
       "    </tr>\n",
       "    <tr>\n",
       "      <th>Les projets de démantèlement de la Russie</th>\n",
       "      <td>0.29</td>\n",
       "    </tr>\n",
       "    <tr>\n",
       "      <th>Covid-19 : Spike, ARN et \"vaccins\"… Et si on lançait les études préalables ?</th>\n",
       "      <td>0.29</td>\n",
       "    </tr>\n",
       "    <tr>\n",
       "      <th>Loi climat : le gouvernement va exempter Amazon et le e-commerce des fortes contraintes de la future loi</th>\n",
       "      <td>0.33</td>\n",
       "    </tr>\n",
       "    <tr>\n",
       "      <th>Un médecin de l’armée américaine révèle que les médecins ont reçu l’ordre de ne pas signaler les effets indésirables liés aux « vaccins » anti-Covid</th>\n",
       "      <td>0.33</td>\n",
       "    </tr>\n",
       "    <tr>\n",
       "      <th>[Entretien exclusif] Helen Joyce : « Aujourd’hui, on demande aux enseignants d’apprendre aux enfants ce que signifie être un garçon ou une fille en les faisant se questionner sur leur identité de genre »</th>\n",
       "      <td>0.33</td>\n",
       "    </tr>\n",
       "    <tr>\n",
       "      <th>La Grèce ne veut plus être le mouton noir de l’Europe</th>\n",
       "      <td>0.33</td>\n",
       "    </tr>\n",
       "  </tbody>\n",
       "</table>\n",
       "</div>"
      ],
      "text/plain": [
       "                                                    accord\n",
       "title                                                     \n",
       "Ursula von der Leyen menace les Italiens à la v...    0.16\n",
       "L’avortement médicalement assisté ne sauve pas ...    0.24\n",
       "Mortalité du bétail et antenne-relais : une déc...    0.24\n",
       "Vaccin anti-Covid : la descente aux enfers d’El...    0.24\n",
       "Les projets de démantèlement de la Russie             0.29\n",
       "Covid-19 : Spike, ARN et \"vaccins\"… Et si on la...    0.29\n",
       "Loi climat : le gouvernement va exempter Amazon...    0.33\n",
       "Un médecin de l’armée américaine révèle que les...    0.33\n",
       "[Entretien exclusif] Helen Joyce : « Aujourd’hu...    0.33\n",
       "La Grèce ne veut plus être le mouton noir de l’...    0.33"
      ]
     },
     "execution_count": 36,
     "metadata": {},
     "output_type": "execute_result"
    }
   ],
   "source": [
    "df_accord_articles.sort_values('accord').head(10)"
   ]
  },
  {
   "cell_type": "code",
   "execution_count": 37,
   "id": "9839d603",
   "metadata": {},
   "outputs": [
    {
     "data": {
      "text/html": [
       "<div>\n",
       "<style scoped>\n",
       "    .dataframe tbody tr th:only-of-type {\n",
       "        vertical-align: middle;\n",
       "    }\n",
       "\n",
       "    .dataframe tbody tr th {\n",
       "        vertical-align: top;\n",
       "    }\n",
       "\n",
       "    .dataframe thead th {\n",
       "        text-align: right;\n",
       "    }\n",
       "</style>\n",
       "<table border=\"1\" class=\"dataframe\">\n",
       "  <thead>\n",
       "    <tr style=\"text-align: right;\">\n",
       "      <th></th>\n",
       "      <th>accord</th>\n",
       "    </tr>\n",
       "    <tr>\n",
       "      <th>title</th>\n",
       "      <th></th>\n",
       "    </tr>\n",
       "  </thead>\n",
       "  <tbody>\n",
       "    <tr>\n",
       "      <th>Point de situation au 06/12/21 au Centre hospitalier de Haguenau : sur 8 patients en réanimation, 7 sont vaccinés !</th>\n",
       "      <td>0.91</td>\n",
       "    </tr>\n",
       "    <tr>\n",
       "      <th>Le Sinn Fein en tête en Irlande du Nord</th>\n",
       "      <td>0.91</td>\n",
       "    </tr>\n",
       "    <tr>\n",
       "      <th>Un colonel de gendarmerie à la tête de la SPA pour ramener la paix</th>\n",
       "      <td>0.91</td>\n",
       "    </tr>\n",
       "    <tr>\n",
       "      <th>Retraites: la CFDT-Cheminots appelle à la grève reconductible, faute d'engagements du gouvernement</th>\n",
       "      <td>0.91</td>\n",
       "    </tr>\n",
       "    <tr>\n",
       "      <th>Essonne : Les voleurs tombent sur des membres du GIGN qui sortaient de leur entraînement</th>\n",
       "      <td>0.96</td>\n",
       "    </tr>\n",
       "    <tr>\n",
       "      <th>Bilar : « Nous approchons bien de l’échec et mat, si rien ne vient les en empêcher »</th>\n",
       "      <td>0.96</td>\n",
       "    </tr>\n",
       "    <tr>\n",
       "      <th>Voir les corrompus bien en face</th>\n",
       "      <td>0.96</td>\n",
       "    </tr>\n",
       "    <tr>\n",
       "      <th>Beyrouth: jusqu’à 300 000 personnes sans domicile après les explosions, la moitié de la ville touchée</th>\n",
       "      <td>0.96</td>\n",
       "    </tr>\n",
       "    <tr>\n",
       "      <th>Confinement. Les habitants de Brest, Morlaix et Carhaix invités à répondre à une étude sur leur consommation d’alcool</th>\n",
       "      <td>1.00</td>\n",
       "    </tr>\n",
       "    <tr>\n",
       "      <th>Israël bombarde des cibles iraniennes et du Hezbollah en Syrie</th>\n",
       "      <td>1.00</td>\n",
       "    </tr>\n",
       "  </tbody>\n",
       "</table>\n",
       "</div>"
      ],
      "text/plain": [
       "                                                    accord\n",
       "title                                                     \n",
       "Point de situation au 06/12/21 au Centre hospit...    0.91\n",
       "Le Sinn Fein en tête en Irlande du Nord               0.91\n",
       "Un colonel de gendarmerie à la tête de la SPA p...    0.91\n",
       "Retraites: la CFDT-Cheminots appelle à la grève...    0.91\n",
       "Essonne : Les voleurs tombent sur des membres d...    0.96\n",
       "Bilar : « Nous approchons bien de l’échec et ma...    0.96\n",
       "Voir les corrompus bien en face                       0.96\n",
       "Beyrouth: jusqu’à 300 000 personnes sans domici...    0.96\n",
       "Confinement. Les habitants de Brest, Morlaix et...    1.00\n",
       "Israël bombarde des cibles iraniennes et du Hez...    1.00"
      ]
     },
     "execution_count": 37,
     "metadata": {},
     "output_type": "execute_result"
    }
   ],
   "source": [
    "df_accord_articles.sort_values('accord').tail(10)"
   ]
  },
  {
   "cell_type": "code",
   "execution_count": 38,
   "id": "fa3f2e65",
   "metadata": {},
   "outputs": [
    {
     "data": {
      "text/plain": [
       "<seaborn.axisgrid.FacetGrid at 0x169472890>"
      ]
     },
     "execution_count": 38,
     "metadata": {},
     "output_type": "execute_result"
    },
    {
     "data": {
      "image/png": "[encoded data removed]",
      "text/plain": [
       "<Figure size 596.75x500 with 1 Axes>"
      ]
     },
     "metadata": {},
     "output_type": "display_data"
    }
   ],
   "source": [
    "sns.displot(df_accord_articles,bins=20)"
   ]
  },
  {
   "cell_type": "code",
   "execution_count": 39,
   "id": "e724ef61",
   "metadata": {},
   "outputs": [
    {
     "data": {
      "text/plain": [
       "<seaborn.axisgrid.FacetGrid at 0x1694facb0>"
      ]
     },
     "execution_count": 39,
     "metadata": {},
     "output_type": "execute_result"
    },
    {
     "data": {
      "image/png": "[encoded data removed]",
      "text/plain": [
       "<Figure size 596.75x500 with 1 Axes>"
      ]
     },
     "metadata": {},
     "output_type": "display_data"
    }
   ],
   "source": [
    "sns.displot(df_accord_articles,bins=5)"
   ]
  },
  {
   "cell_type": "markdown",
   "id": "ac024b6d",
   "metadata": {},
   "source": [
    "### Constats\n",
    "- La plus petite moyenne est cette fois ci à 0.15, suivi de trois articles à 0.24\n",
    "- Les données sont mieux distribuées que précédement, avec toujours un décalage vers l'accord\n",
    "- Deux articles en accord parfait à 1, suivis de 4 articles à 0.95\n",
    "### Conclusions\n",
    "- Plus de valeurs extrèmes, la réduction du nombre de labels fait apparaitre plus de volatilité dans l'accord entre observateurs"
   ]
  },
  {
   "cell_type": "markdown",
   "id": "7cee6f6b",
   "metadata": {},
   "source": [
    "# Analyse par observateurs\n",
    "On compte pour chaque label, le nombre d'article à 1 pour chaque observateur"
   ]
  },
  {
   "cell_type": "code",
   "execution_count": 40,
   "id": "51a27655",
   "metadata": {},
   "outputs": [],
   "source": [
    "df_obs = df_obsinfo.pivot_table(index='observateur',aggfunc='sum')[labels]"
   ]
  },
  {
   "cell_type": "code",
   "execution_count": 41,
   "id": "fbff94e6",
   "metadata": {},
   "outputs": [],
   "source": [
    "df_obs = df_obs.sort_values('infox')"
   ]
  },
  {
   "cell_type": "code",
   "execution_count": 42,
   "id": "d1ac159e",
   "metadata": {},
   "outputs": [
    {
     "data": {
      "image/png": "[encoded data removed]",
      "text/plain": [
       "<Figure size 640x480 with 1 Axes>"
      ]
     },
     "metadata": {},
     "output_type": "display_data"
    }
   ],
   "source": [
    "ax = sns.scatterplot(df_obs.T)\n",
    "sns.move_legend(ax, \"upper left\", bbox_to_anchor=(1, 1))\n",
    "ax.tick_params(axis='x', rotation=90)"
   ]
  },
  {
   "cell_type": "code",
   "execution_count": 43,
   "id": "dd7a0615",
   "metadata": {},
   "outputs": [
    {
     "data": {
      "image/png": "[encoded data removed]",
      "text/plain": [
       "<Figure size 640x480 with 1 Axes>"
      ]
     },
     "metadata": {},
     "output_type": "display_data"
    }
   ],
   "source": [
    "ax = sns.lineplot(df_obs)\n",
    "sns.move_legend(ax, \"upper left\", bbox_to_anchor=(1, 1))"
   ]
  },
  {
   "cell_type": "code",
   "execution_count": 44,
   "id": "780ce94a",
   "metadata": {},
   "outputs": [],
   "source": [
    "df_stat = (df_obs.describe().T).drop(columns=['count','25%','50%','75%'])"
   ]
  },
  {
   "cell_type": "code",
   "execution_count": 45,
   "id": "e4692ed9",
   "metadata": {},
   "outputs": [
    {
     "data": {
      "text/html": [
       "<div>\n",
       "<style scoped>\n",
       "    .dataframe tbody tr th:only-of-type {\n",
       "        vertical-align: middle;\n",
       "    }\n",
       "\n",
       "    .dataframe tbody tr th {\n",
       "        vertical-align: top;\n",
       "    }\n",
       "\n",
       "    .dataframe thead th {\n",
       "        text-align: right;\n",
       "    }\n",
       "</style>\n",
       "<table border=\"1\" class=\"dataframe\">\n",
       "  <thead>\n",
       "    <tr style=\"text-align: right;\">\n",
       "      <th></th>\n",
       "      <th>mean</th>\n",
       "      <th>std</th>\n",
       "      <th>min</th>\n",
       "      <th>max</th>\n",
       "    </tr>\n",
       "  </thead>\n",
       "  <tbody>\n",
       "    <tr>\n",
       "      <th>infox</th>\n",
       "      <td>37.44</td>\n",
       "      <td>12.66</td>\n",
       "      <td>21.0</td>\n",
       "      <td>64.0</td>\n",
       "    </tr>\n",
       "    <tr>\n",
       "      <th>lieux, dates et personnes</th>\n",
       "      <td>90.33</td>\n",
       "      <td>13.65</td>\n",
       "      <td>61.0</td>\n",
       "      <td>100.0</td>\n",
       "    </tr>\n",
       "    <tr>\n",
       "      <th>faits</th>\n",
       "      <td>94.89</td>\n",
       "      <td>4.28</td>\n",
       "      <td>87.0</td>\n",
       "      <td>100.0</td>\n",
       "    </tr>\n",
       "    <tr>\n",
       "      <th>opinions</th>\n",
       "      <td>72.89</td>\n",
       "      <td>13.82</td>\n",
       "      <td>45.0</td>\n",
       "      <td>93.0</td>\n",
       "    </tr>\n",
       "    <tr>\n",
       "      <th>subjectif</th>\n",
       "      <td>60.56</td>\n",
       "      <td>9.74</td>\n",
       "      <td>47.0</td>\n",
       "      <td>74.0</td>\n",
       "    </tr>\n",
       "    <tr>\n",
       "      <th>propos rapporté</th>\n",
       "      <td>29.78</td>\n",
       "      <td>23.87</td>\n",
       "      <td>11.0</td>\n",
       "      <td>76.0</td>\n",
       "    </tr>\n",
       "    <tr>\n",
       "      <th>sources citées</th>\n",
       "      <td>69.56</td>\n",
       "      <td>13.66</td>\n",
       "      <td>46.0</td>\n",
       "      <td>87.0</td>\n",
       "    </tr>\n",
       "    <tr>\n",
       "      <th>fausse nouvelle</th>\n",
       "      <td>22.22</td>\n",
       "      <td>13.10</td>\n",
       "      <td>8.0</td>\n",
       "      <td>46.0</td>\n",
       "    </tr>\n",
       "    <tr>\n",
       "      <th>insinuation</th>\n",
       "      <td>46.33</td>\n",
       "      <td>16.24</td>\n",
       "      <td>22.0</td>\n",
       "      <td>73.0</td>\n",
       "    </tr>\n",
       "    <tr>\n",
       "      <th>exagération</th>\n",
       "      <td>45.33</td>\n",
       "      <td>9.07</td>\n",
       "      <td>35.0</td>\n",
       "      <td>61.0</td>\n",
       "    </tr>\n",
       "    <tr>\n",
       "      <th>titre décalé</th>\n",
       "      <td>9.67</td>\n",
       "      <td>7.42</td>\n",
       "      <td>1.0</td>\n",
       "      <td>21.0</td>\n",
       "    </tr>\n",
       "  </tbody>\n",
       "</table>\n",
       "</div>"
      ],
      "text/plain": [
       "                            mean    std   min    max\n",
       "infox                      37.44  12.66  21.0   64.0\n",
       "lieux, dates et personnes  90.33  13.65  61.0  100.0\n",
       "faits                      94.89   4.28  87.0  100.0\n",
       "opinions                   72.89  13.82  45.0   93.0\n",
       "subjectif                  60.56   9.74  47.0   74.0\n",
       "propos rapporté            29.78  23.87  11.0   76.0\n",
       "sources citées             69.56  13.66  46.0   87.0\n",
       "fausse nouvelle            22.22  13.10   8.0   46.0\n",
       "insinuation                46.33  16.24  22.0   73.0\n",
       "exagération                45.33   9.07  35.0   61.0\n",
       "titre décalé                9.67   7.42   1.0   21.0"
      ]
     },
     "execution_count": 45,
     "metadata": {},
     "output_type": "execute_result"
    }
   ],
   "source": [
    "df_stat"
   ]
  },
  {
   "cell_type": "markdown",
   "id": "9b99ee7c",
   "metadata": {},
   "source": [
    "## Ecarts par label"
   ]
  },
  {
   "cell_type": "code",
   "execution_count": 46,
   "id": "72821d04",
   "metadata": {},
   "outputs": [],
   "source": [
    "df_stat['spread']=df_stat['max']-df_stat['min']"
   ]
  },
  {
   "cell_type": "code",
   "execution_count": 47,
   "id": "4b259f62",
   "metadata": {},
   "outputs": [
    {
     "data": {
      "text/html": [
       "<div>\n",
       "<style scoped>\n",
       "    .dataframe tbody tr th:only-of-type {\n",
       "        vertical-align: middle;\n",
       "    }\n",
       "\n",
       "    .dataframe tbody tr th {\n",
       "        vertical-align: top;\n",
       "    }\n",
       "\n",
       "    .dataframe thead th {\n",
       "        text-align: right;\n",
       "    }\n",
       "</style>\n",
       "<table border=\"1\" class=\"dataframe\">\n",
       "  <thead>\n",
       "    <tr style=\"text-align: right;\">\n",
       "      <th></th>\n",
       "      <th>mean</th>\n",
       "      <th>std</th>\n",
       "      <th>min</th>\n",
       "      <th>max</th>\n",
       "      <th>spread</th>\n",
       "    </tr>\n",
       "  </thead>\n",
       "  <tbody>\n",
       "    <tr>\n",
       "      <th>faits</th>\n",
       "      <td>94.89</td>\n",
       "      <td>4.28</td>\n",
       "      <td>87.0</td>\n",
       "      <td>100.0</td>\n",
       "      <td>13.0</td>\n",
       "    </tr>\n",
       "    <tr>\n",
       "      <th>titre décalé</th>\n",
       "      <td>9.67</td>\n",
       "      <td>7.42</td>\n",
       "      <td>1.0</td>\n",
       "      <td>21.0</td>\n",
       "      <td>20.0</td>\n",
       "    </tr>\n",
       "    <tr>\n",
       "      <th>exagération</th>\n",
       "      <td>45.33</td>\n",
       "      <td>9.07</td>\n",
       "      <td>35.0</td>\n",
       "      <td>61.0</td>\n",
       "      <td>26.0</td>\n",
       "    </tr>\n",
       "    <tr>\n",
       "      <th>subjectif</th>\n",
       "      <td>60.56</td>\n",
       "      <td>9.74</td>\n",
       "      <td>47.0</td>\n",
       "      <td>74.0</td>\n",
       "      <td>27.0</td>\n",
       "    </tr>\n",
       "    <tr>\n",
       "      <th>fausse nouvelle</th>\n",
       "      <td>22.22</td>\n",
       "      <td>13.10</td>\n",
       "      <td>8.0</td>\n",
       "      <td>46.0</td>\n",
       "      <td>38.0</td>\n",
       "    </tr>\n",
       "    <tr>\n",
       "      <th>lieux, dates et personnes</th>\n",
       "      <td>90.33</td>\n",
       "      <td>13.65</td>\n",
       "      <td>61.0</td>\n",
       "      <td>100.0</td>\n",
       "      <td>39.0</td>\n",
       "    </tr>\n",
       "    <tr>\n",
       "      <th>sources citées</th>\n",
       "      <td>69.56</td>\n",
       "      <td>13.66</td>\n",
       "      <td>46.0</td>\n",
       "      <td>87.0</td>\n",
       "      <td>41.0</td>\n",
       "    </tr>\n",
       "    <tr>\n",
       "      <th>infox</th>\n",
       "      <td>37.44</td>\n",
       "      <td>12.66</td>\n",
       "      <td>21.0</td>\n",
       "      <td>64.0</td>\n",
       "      <td>43.0</td>\n",
       "    </tr>\n",
       "    <tr>\n",
       "      <th>opinions</th>\n",
       "      <td>72.89</td>\n",
       "      <td>13.82</td>\n",
       "      <td>45.0</td>\n",
       "      <td>93.0</td>\n",
       "      <td>48.0</td>\n",
       "    </tr>\n",
       "    <tr>\n",
       "      <th>insinuation</th>\n",
       "      <td>46.33</td>\n",
       "      <td>16.24</td>\n",
       "      <td>22.0</td>\n",
       "      <td>73.0</td>\n",
       "      <td>51.0</td>\n",
       "    </tr>\n",
       "    <tr>\n",
       "      <th>propos rapporté</th>\n",
       "      <td>29.78</td>\n",
       "      <td>23.87</td>\n",
       "      <td>11.0</td>\n",
       "      <td>76.0</td>\n",
       "      <td>65.0</td>\n",
       "    </tr>\n",
       "  </tbody>\n",
       "</table>\n",
       "</div>"
      ],
      "text/plain": [
       "                            mean    std   min    max  spread\n",
       "faits                      94.89   4.28  87.0  100.0    13.0\n",
       "titre décalé                9.67   7.42   1.0   21.0    20.0\n",
       "exagération                45.33   9.07  35.0   61.0    26.0\n",
       "subjectif                  60.56   9.74  47.0   74.0    27.0\n",
       "fausse nouvelle            22.22  13.10   8.0   46.0    38.0\n",
       "lieux, dates et personnes  90.33  13.65  61.0  100.0    39.0\n",
       "sources citées             69.56  13.66  46.0   87.0    41.0\n",
       "infox                      37.44  12.66  21.0   64.0    43.0\n",
       "opinions                   72.89  13.82  45.0   93.0    48.0\n",
       "insinuation                46.33  16.24  22.0   73.0    51.0\n",
       "propos rapporté            29.78  23.87  11.0   76.0    65.0"
      ]
     },
     "execution_count": 47,
     "metadata": {},
     "output_type": "execute_result"
    }
   ],
   "source": [
    "df_stat.sort_values('spread')"
   ]
  },
  {
   "cell_type": "code",
   "execution_count": 48,
   "id": "f30b8189",
   "metadata": {},
   "outputs": [
    {
     "data": {
      "text/plain": [
       "<Axes: >"
      ]
     },
     "execution_count": 48,
     "metadata": {},
     "output_type": "execute_result"
    },
    {
     "data": {
      "image/png": "[encoded data removed]",
      "text/plain": [
       "<Figure size 640x480 with 1 Axes>"
      ]
     },
     "metadata": {},
     "output_type": "display_data"
    }
   ],
   "source": [
    "sns.barplot(pd.DataFrame(df_stat['spread']).sort_values('spread').T,orient='h')"
   ]
  },
  {
   "cell_type": "markdown",
   "id": "ee0adb89",
   "metadata": {},
   "source": [
    "### Constats\n",
    "- Les écarts entre min et max peuvent aller jusqu'à 65%\n",
    "### Conclusions\n",
    "- Les observateurs ne labelisent pas de la meme manière pour la plupart des labels\n",
    "- Explications possibles à explorer :\n",
    "    - Sens différent apporté aux labels\n",
    "    - Subjectivité des labels\n",
    "    - Différence d'appréciation pour un texte complet, plutot qu'on paragraphe"
   ]
  },
  {
   "cell_type": "code",
   "execution_count": 49,
   "id": "c3dea8b5",
   "metadata": {},
   "outputs": [
    {
     "data": {
      "text/plain": [
       "<Axes: xlabel='observateur'>"
      ]
     },
     "execution_count": 49,
     "metadata": {},
     "output_type": "execute_result"
    },
    {
     "data": {
      "image/png": "[encoded data removed]",
      "text/plain": [
       "<Figure size 640x480 with 1 Axes>"
      ]
     },
     "metadata": {},
     "output_type": "display_data"
    }
   ],
   "source": [
    "label = 'propos rapporté'\n",
    "sns.barplot(pd.DataFrame(df_obs[label]).sort_values(label).T)"
   ]
  },
  {
   "cell_type": "markdown",
   "id": "98f9129d",
   "metadata": {},
   "source": [
    "### Constats \n",
    "Label Propos Raportés\n",
    "- LL et GG se démarquent clairement du reste du groupe qui semble relativement homogènes"
   ]
  },
  {
   "cell_type": "code",
   "execution_count": 50,
   "id": "c42f4627",
   "metadata": {},
   "outputs": [
    {
     "data": {
      "text/plain": [
       "<Axes: xlabel='observateur'>"
      ]
     },
     "execution_count": 50,
     "metadata": {},
     "output_type": "execute_result"
    },
    {
     "data": {
      "image/png": "[encoded data removed]",
      "text/plain": [
       "<Figure size 640x480 with 1 Axes>"
      ]
     },
     "metadata": {},
     "output_type": "display_data"
    }
   ],
   "source": [
    "label = 'insinuation'\n",
    "sns.barplot(pd.DataFrame(df_obs[label]).sort_values(label).T)"
   ]
  },
  {
   "cell_type": "markdown",
   "id": "4c03c666",
   "metadata": {},
   "source": [
    "### Constats \n",
    "Label Insinuiation\n",
    "- Un groupe moyen plus ou moins homogène\n",
    "- FB et BI d'un coté et GG de l'autre qui se démarquent"
   ]
  },
  {
   "cell_type": "code",
   "execution_count": 53,
   "id": "02683cf5",
   "metadata": {},
   "outputs": [
    {
     "data": {
      "text/plain": [
       "<Axes: xlabel='observateur'>"
      ]
     },
     "execution_count": 53,
     "metadata": {},
     "output_type": "execute_result"
    },
    {
     "data": {
      "image/png": "[encoded data removed]",
      "text/plain": [
       "<Figure size 640x480 with 1 Axes>"
      ]
     },
     "metadata": {},
     "output_type": "display_data"
    }
   ],
   "source": [
    "label = 'subjectif'\n",
    "sns.barplot(pd.DataFrame(df_obs[label]).sort_values(label).T)"
   ]
  },
  {
   "cell_type": "code",
   "execution_count": 52,
   "id": "5b6e7516",
   "metadata": {},
   "outputs": [
    {
     "data": {
      "text/plain": [
       "<Axes: xlabel='observateur'>"
      ]
     },
     "execution_count": 52,
     "metadata": {},
     "output_type": "execute_result"
    },
    {
     "data": {
      "image/png": "[encoded data removed]",
      "text/plain": [
       "<Figure size 640x480 with 1 Axes>"
      ]
     },
     "metadata": {},
     "output_type": "display_data"
    }
   ],
   "source": [
    "label = 'opinions'\n",
    "sns.barplot(pd.DataFrame(df_obs[label]).sort_values(label).T)"
   ]
  },
  {
   "cell_type": "markdown",
   "id": "7396f3db",
   "metadata": {},
   "source": [
    "### Constats \n",
    "Label Opinions\n",
    "- répartition relativement homogène des observations\n",
    "- LL se démarque sur la droite"
   ]
  },
  {
   "cell_type": "code",
   "execution_count": null,
   "id": "25cabdd3",
   "metadata": {},
   "outputs": [],
   "source": [
    "label = 'infox'\n",
    "sns.barplot(pd.DataFrame(df_obs[label]).sort_values(label).T)"
   ]
  },
  {
   "cell_type": "markdown",
   "id": "2814ccbe",
   "metadata": {},
   "source": [
    "### Constats \n",
    "Label Infox\n",
    "- PE se démarque sur la droite et FB sur la gauche"
   ]
  },
  {
   "cell_type": "markdown",
   "id": "96fb008f",
   "metadata": {},
   "source": [
    "# Conclusions\n",
    "## Résumé des constats\n",
    "\n",
    "## Enseignements et résultats de l'expérience\n",
    "\n",
    "## Prochaines étapes"
   ]
  },
  {
   "cell_type": "markdown",
   "id": "c3dd61e5",
   "metadata": {},
   "source": [
    "# ObsInfo2309"
   ]
  },
  {
   "cell_type": "markdown",
   "id": "809b9da3",
   "metadata": {},
   "source": [
    "## Selections des articles pour ObsInfo2309\n",
    "- Articles avec le meilleur accord\n",
    "- Articles avec le moins bon accord\n",
    "- Annotation niveau paragraphe"
   ]
  },
  {
   "cell_type": "code",
   "execution_count": null,
   "id": "1fdd4ab5",
   "metadata": {},
   "outputs": [],
   "source": [
    "df_urls=df_obsinfo[['title','url_h']][:100] "
   ]
  },
  {
   "cell_type": "code",
   "execution_count": null,
   "id": "3cc0f71e",
   "metadata": {},
   "outputs": [],
   "source": [
    "df_urls = pd.merge(df_accord_articles,df_urls,on='title')"
   ]
  },
  {
   "cell_type": "code",
   "execution_count": null,
   "id": "e5a92599",
   "metadata": {},
   "outputs": [],
   "source": [
    "import patat.db.article_db\n",
    "article_db = patat.db.article_db.ArticleDb()\n",
    "df_corpus = article_db.df().copy()\n",
    "\n",
    "df_articles = pd.merge(df_urls,df_corpus.drop(columns=['title']), on='url_h')\n",
    "\n",
    "df_articles"
   ]
  },
  {
   "cell_type": "code",
   "execution_count": null,
   "id": "ccbe961a",
   "metadata": {},
   "outputs": [],
   "source": [
    "df_articles['p_count']=df_articles['paragraphs'].apply(len)"
   ]
  },
  {
   "cell_type": "code",
   "execution_count": null,
   "id": "47412279",
   "metadata": {},
   "outputs": [],
   "source": [
    "sns.scatterplot(df_articles,x='accord',y='p_count')"
   ]
  },
  {
   "cell_type": "code",
   "execution_count": null,
   "id": "6ef16926",
   "metadata": {},
   "outputs": [],
   "source": [
    "size = 10"
   ]
  },
  {
   "cell_type": "code",
   "execution_count": null,
   "id": "75e0b900",
   "metadata": {},
   "outputs": [],
   "source": [
    "df_articles.sort_values('accord').head(size)['p_count'].sum()"
   ]
  },
  {
   "cell_type": "code",
   "execution_count": null,
   "id": "b9991f53",
   "metadata": {},
   "outputs": [],
   "source": [
    "df_articles.sort_values('accord').tail(size)['p_count'].sum()"
   ]
  },
  {
   "cell_type": "code",
   "execution_count": null,
   "id": "966bc125",
   "metadata": {},
   "outputs": [],
   "source": [
    "low_index = df_articles.sort_values('accord').head(10).index\n",
    "high_index = df_articles.sort_values('accord').tail(10).index\n",
    "df_selection = pd.concat([df_articles.loc[low_index],df_articles.loc[high_index]])"
   ]
  },
  {
   "cell_type": "code",
   "execution_count": null,
   "id": "ae6b7238",
   "metadata": {},
   "outputs": [],
   "source": [
    "df_selection"
   ]
  },
  {
   "cell_type": "code",
   "execution_count": null,
   "id": "7d18df46",
   "metadata": {},
   "outputs": [],
   "source": [
    "df_selection.to_pickle('data/tmp/230925-ObsInfo2309Selection.pkl')"
   ]
  },
  {
   "cell_type": "code",
   "execution_count": null,
   "id": "3ebd91b3",
   "metadata": {},
   "outputs": [],
   "source": []
  }
 ],
 "metadata": {
  "kernelspec": {
   "display_name": "Python 3 (ipykernel)",
   "language": "python",
   "name": "python3"
  },
  "language_info": {
   "codemirror_mode": {
    "name": "ipython",
    "version": 3
   },
   "file_extension": ".py",
   "mimetype": "text/x-python",
   "name": "python",
   "nbconvert_exporter": "python",
   "pygments_lexer": "ipython3",
   "version": "3.10.11"
  }
 },
 "nbformat": 4,
 "nbformat_minor": 5
}
