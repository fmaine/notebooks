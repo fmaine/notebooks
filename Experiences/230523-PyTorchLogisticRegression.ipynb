{
 "cells": [
  {
   "cell_type": "markdown",
   "id": "e3ec4689",
   "metadata": {},
   "source": [
    "# Plateforme Agnostique de Traitement et d'Analyse des Textes\n",
    "### Carnet d'expérimentation\n",
    "---\n",
    "\n",
    "## Sujet : PyTorch Regression Logistique\n",
    "\n",
    "\n",
    "---"
   ]
  },
  {
   "cell_type": "markdown",
   "id": "2601e626",
   "metadata": {},
   "source": [
    "# Initialisations\n",
    "---"
   ]
  },
  {
   "cell_type": "code",
   "execution_count": 1,
   "id": "525fef74",
   "metadata": {},
   "outputs": [],
   "source": [
    "_rs = 42"
   ]
  },
  {
   "cell_type": "code",
   "execution_count": 2,
   "id": "5d0de4d7",
   "metadata": {},
   "outputs": [
    {
     "name": "stdout",
     "output_type": "stream",
     "text": [
      "/Volumes/Geek/Work/Patat\n"
     ]
    }
   ],
   "source": [
    "cd ../.."
   ]
  },
  {
   "cell_type": "code",
   "execution_count": 3,
   "id": "32256b0d",
   "metadata": {},
   "outputs": [],
   "source": [
    "import ast\n",
    "import importlib\n",
    "import pandas as pd\n",
    "import seaborn as sns\n",
    "from tqdm.notebook import tqdm\n",
    "tqdm.pandas()"
   ]
  },
  {
   "cell_type": "markdown",
   "id": "b9b13f54",
   "metadata": {},
   "source": [
    "# Préparation Données\n",
    "\n",
    "---"
   ]
  },
  {
   "cell_type": "markdown",
   "id": "18533365",
   "metadata": {},
   "source": [
    "## Chargement"
   ]
  },
  {
   "cell_type": "code",
   "execution_count": 4,
   "id": "b435d360",
   "metadata": {},
   "outputs": [],
   "source": [
    "import patat.util.file\n",
    "\n",
    "filename = 'data/prod/230517-OIDS-Label.pickle'\n",
    "\n",
    "df_label = patat.util.file.pickle_load(filename)"
   ]
  },
  {
   "cell_type": "markdown",
   "id": "394eb154",
   "metadata": {},
   "source": [
    "## Labels ou textes Nuls"
   ]
  },
  {
   "cell_type": "code",
   "execution_count": 5,
   "id": "62f6f1ca",
   "metadata": {},
   "outputs": [
    {
     "data": {
      "text/plain": [
       "0"
      ]
     },
     "execution_count": 5,
     "metadata": {},
     "output_type": "execute_result"
    }
   ],
   "source": [
    "df_label['text'].isna().sum()"
   ]
  },
  {
   "cell_type": "code",
   "execution_count": 6,
   "id": "73feab00",
   "metadata": {},
   "outputs": [
    {
     "data": {
      "text/plain": [
       "4"
      ]
     },
     "execution_count": 6,
     "metadata": {},
     "output_type": "execute_result"
    }
   ],
   "source": [
    "df_label['infox'].isna().sum()"
   ]
  },
  {
   "cell_type": "code",
   "execution_count": 7,
   "id": "5e535748",
   "metadata": {},
   "outputs": [],
   "source": [
    "df_label = df_label[df_label['infox'].notna()]"
   ]
  },
  {
   "cell_type": "code",
   "execution_count": 8,
   "id": "11d454d1",
   "metadata": {},
   "outputs": [],
   "source": [
    "df_label.reset_index(inplace=True)"
   ]
  },
  {
   "cell_type": "markdown",
   "id": "06e71e98",
   "metadata": {},
   "source": [
    "## Données dupliquées"
   ]
  },
  {
   "cell_type": "code",
   "execution_count": 9,
   "id": "bc6b9499",
   "metadata": {},
   "outputs": [
    {
     "data": {
      "text/plain": [
       "0"
      ]
     },
     "execution_count": 9,
     "metadata": {},
     "output_type": "execute_result"
    }
   ],
   "source": [
    "df_label.duplicated(subset='text').sum()"
   ]
  },
  {
   "cell_type": "code",
   "execution_count": 10,
   "id": "d8c481ad",
   "metadata": {
    "scrolled": true
   },
   "outputs": [
    {
     "data": {
      "text/plain": [
       "0"
      ]
     },
     "execution_count": 10,
     "metadata": {},
     "output_type": "execute_result"
    }
   ],
   "source": [
    "df_label.duplicated(subset='url').sum()"
   ]
  },
  {
   "cell_type": "markdown",
   "id": "418e89ed",
   "metadata": {},
   "source": [
    "# Experience\n",
    "---"
   ]
  },
  {
   "cell_type": "markdown",
   "id": "bc687995",
   "metadata": {},
   "source": [
    "## Normalisation et Lemmisation des paragraphes"
   ]
  },
  {
   "cell_type": "code",
   "execution_count": 11,
   "id": "9a136060",
   "metadata": {},
   "outputs": [],
   "source": [
    "import patat.ml.lex_analyser\n",
    "lex = patat.ml.lex_analyser.LexAnalyser()"
   ]
  },
  {
   "cell_type": "code",
   "execution_count": 12,
   "id": "f752e1b2",
   "metadata": {},
   "outputs": [],
   "source": [
    "import patat.util.text\n",
    "\n",
    "def normalize_paragraphs(parags):\n",
    "    results = []\n",
    "    for p in parags:\n",
    "        p_result =  patat.util.text.preprocess(p)\n",
    "        p_result = ' '.join(lex.get_lemmas_from_text(p_result))\n",
    "        results.append(p_result)\n",
    "    return results"
   ]
  },
  {
   "cell_type": "code",
   "execution_count": 13,
   "id": "a403c543",
   "metadata": {},
   "outputs": [
    {
     "data": {
      "application/vnd.jupyter.widget-view+json": {
       "model_id": "c2348768891146c584885421dcbb4596",
       "version_major": 2,
       "version_minor": 0
      },
      "text/plain": [
       "  0%|          | 0/900 [00:00<?, ?it/s]"
      ]
     },
     "metadata": {},
     "output_type": "display_data"
    }
   ],
   "source": [
    "df_label['l_paragraphs']=df_label['paragraphs'].progress_apply(normalize_paragraphs)"
   ]
  },
  {
   "cell_type": "markdown",
   "id": "b3fcef53",
   "metadata": {},
   "source": [
    "## Normalisation et Lemmisation des textes"
   ]
  },
  {
   "cell_type": "code",
   "execution_count": 14,
   "id": "635091a5",
   "metadata": {},
   "outputs": [],
   "source": [
    "def join_l_parags(l_parags):\n",
    "    return '\\n'.join(l_parags)"
   ]
  },
  {
   "cell_type": "code",
   "execution_count": 15,
   "id": "81fed43e",
   "metadata": {},
   "outputs": [
    {
     "data": {
      "application/vnd.jupyter.widget-view+json": {
       "model_id": "05bcd55648ab431291eabac8b50e9d83",
       "version_major": 2,
       "version_minor": 0
      },
      "text/plain": [
       "  0%|          | 0/900 [00:00<?, ?it/s]"
      ]
     },
     "metadata": {},
     "output_type": "display_data"
    }
   ],
   "source": [
    "df_label['l_text']=df_label['l_paragraphs'].progress_apply(join_l_parags)"
   ]
  },
  {
   "cell_type": "markdown",
   "id": "03e56e6c",
   "metadata": {},
   "source": [
    "## Equilibrage Dataset"
   ]
  },
  {
   "cell_type": "code",
   "execution_count": 16,
   "id": "38c59b58",
   "metadata": {},
   "outputs": [
    {
     "data": {
      "text/plain": [
       "<Axes: xlabel='infox', ylabel='count'>"
      ]
     },
     "execution_count": 16,
     "metadata": {},
     "output_type": "execute_result"
    },
    {
     "data": {
      "image/png": "[encoded data removed]",
      "text/plain": [
       "<Figure size 640x480 with 1 Axes>"
      ]
     },
     "metadata": {},
     "output_type": "display_data"
    }
   ],
   "source": [
    "label_count = df_label['infox'].value_counts()\n",
    "sns.barplot(x=label_count.index, y=label_count)"
   ]
  },
  {
   "cell_type": "code",
   "execution_count": 17,
   "id": "babd8a09",
   "metadata": {},
   "outputs": [
    {
     "data": {
      "text/html": [
       "<div>\n",
       "<style scoped>\n",
       "    .dataframe tbody tr th:only-of-type {\n",
       "        vertical-align: middle;\n",
       "    }\n",
       "\n",
       "    .dataframe tbody tr th {\n",
       "        vertical-align: top;\n",
       "    }\n",
       "\n",
       "    .dataframe thead th {\n",
       "        text-align: right;\n",
       "    }\n",
       "</style>\n",
       "<table border=\"1\" class=\"dataframe\">\n",
       "  <thead>\n",
       "    <tr style=\"text-align: right;\">\n",
       "      <th></th>\n",
       "      <th>index</th>\n",
       "      <th>url</th>\n",
       "      <th>site</th>\n",
       "      <th>title</th>\n",
       "      <th>article</th>\n",
       "      <th>tags</th>\n",
       "      <th>paragraphs</th>\n",
       "      <th>date_iso</th>\n",
       "      <th>abstract</th>\n",
       "      <th>Auteur</th>\n",
       "      <th>...</th>\n",
       "      <th>degre_infox</th>\n",
       "      <th>observateur</th>\n",
       "      <th>source</th>\n",
       "      <th>p_count</th>\n",
       "      <th>text</th>\n",
       "      <th>c_count</th>\n",
       "      <th>p_size</th>\n",
       "      <th>url_h</th>\n",
       "      <th>l_paragraphs</th>\n",
       "      <th>l_text</th>\n",
       "    </tr>\n",
       "  </thead>\n",
       "  <tbody>\n",
       "    <tr>\n",
       "      <th>609</th>\n",
       "      <td>610</td>\n",
       "      <td>https://www.francesoir.fr/politique-france/gue...</td>\n",
       "      <td>www.francesoir.fr</td>\n",
       "      <td>Guerre en Ukraine: Emmanuel Macron prévient le...</td>\n",
       "      <td>À l’occasion de la cérémonie pour le 78e anniv...</td>\n",
       "      <td>[Accueil, Politique]</td>\n",
       "      <td>[À l’occasion de la cérémonie pour le 78e anni...</td>\n",
       "      <td>2022-08-20T00:00:00</td>\n",
       "      <td></td>\n",
       "      <td></td>\n",
       "      <td>...</td>\n",
       "      <td></td>\n",
       "      <td>CN</td>\n",
       "      <td>Recueil</td>\n",
       "      <td>11</td>\n",
       "      <td>Guerre en Ukraine: Emmanuel Macron prévient le...</td>\n",
       "      <td>2629</td>\n",
       "      <td>239.000000</td>\n",
       "      <td>857bfacdd98e36dda26f1f92cf40c992904d6386</td>\n",
       "      <td>[occasion de la cérémonie pour le anniversaire...</td>\n",
       "      <td>occasion de la cérémonie pour le anniversaire ...</td>\n",
       "    </tr>\n",
       "    <tr>\n",
       "      <th>705</th>\n",
       "      <td>708</td>\n",
       "      <td>https://www.profession-gendarme.com/la-vaccina...</td>\n",
       "      <td>www.profession-gendarme.com</td>\n",
       "      <td>La vaccination Covid : un marquage de « type b...</td>\n",
       "      <td>De: Dr R Date: 16 avril 2022 à 08:17:22 ﻿bonjo...</td>\n",
       "      <td>[Actualités, Tribune]</td>\n",
       "      <td>[De: Dr R Date: 16 avril 2022 à 08:17:22 ﻿bonj...</td>\n",
       "      <td></td>\n",
       "      <td></td>\n",
       "      <td>NaN</td>\n",
       "      <td>...</td>\n",
       "      <td>NaN</td>\n",
       "      <td>NaN</td>\n",
       "      <td>Test1</td>\n",
       "      <td>17</td>\n",
       "      <td>La vaccination Covid : un marquage de « type b...</td>\n",
       "      <td>6252</td>\n",
       "      <td>367.764706</td>\n",
       "      <td>166d32300f4d7766a82fe39a1185f35bc347c05f</td>\n",
       "      <td>[de dr date avril bonjour touspour les non méd...</td>\n",
       "      <td>de dr date avril bonjour touspour les non méde...</td>\n",
       "    </tr>\n",
       "    <tr>\n",
       "      <th>26</th>\n",
       "      <td>26</td>\n",
       "      <td>https://www.mondialisation.ca/colonialisme-ene...</td>\n",
       "      <td>www.mondialisation.ca</td>\n",
       "      <td>Colonialisme énergétique</td>\n",
       "      <td>Visite d’État du président de la République it...</td>\n",
       "      <td>[Moyen-Orient et Afrique du Nord, Guerre USA O...</td>\n",
       "      <td>[Visite d’État du président de la République i...</td>\n",
       "      <td>2022-07-09T00:00:00</td>\n",
       "      <td></td>\n",
       "      <td>Pangea Grandangolo</td>\n",
       "      <td>...</td>\n",
       "      <td></td>\n",
       "      <td>GP</td>\n",
       "      <td>Recueil</td>\n",
       "      <td>8</td>\n",
       "      <td>Colonialisme énergétique\\nVisite d’État du pré...</td>\n",
       "      <td>2794</td>\n",
       "      <td>349.250000</td>\n",
       "      <td>2a39a60fd5e2c6df0f6ec8ce9fedc2ee2eb4ab4d</td>\n",
       "      <td>[visite état du présider de la république ital...</td>\n",
       "      <td>visite état du présider de la république itali...</td>\n",
       "    </tr>\n",
       "    <tr>\n",
       "      <th>565</th>\n",
       "      <td>566</td>\n",
       "      <td>https://www.francesoir.fr/opinions-editos/de-l...</td>\n",
       "      <td>www.francesoir.fr</td>\n",
       "      <td>De l’importance d’une Assemblée vraiment natio...</td>\n",
       "      <td>Depuis hier soir, ne serions-nous pas en train...</td>\n",
       "      <td>[Accueil, Opinions]</td>\n",
       "      <td>[Depuis hier soir, ne serions-nous pas en trai...</td>\n",
       "      <td>2022-06-20T19:46:00</td>\n",
       "      <td></td>\n",
       "      <td>Xavier Azalbert</td>\n",
       "      <td>...</td>\n",
       "      <td></td>\n",
       "      <td>GP</td>\n",
       "      <td>Recueil</td>\n",
       "      <td>16</td>\n",
       "      <td>De l’importance d’une Assemblée vraiment natio...</td>\n",
       "      <td>4582</td>\n",
       "      <td>286.375000</td>\n",
       "      <td>93b25370fea82c7039f7e2b00c0bd73151101af3</td>\n",
       "      <td>[depuis hier soir ne être nous pas en train as...</td>\n",
       "      <td>depuis hier soir ne être nous pas en train ass...</td>\n",
       "    </tr>\n",
       "    <tr>\n",
       "      <th>231</th>\n",
       "      <td>232</td>\n",
       "      <td>https://www.polemia.com/quelle-politique-migra...</td>\n",
       "      <td>www.polemia.com</td>\n",
       "      <td>Quelle politique migratoire pour la France ? –...</td>\n",
       "      <td>Par André-Victor Robert, haut fonctionnaire ♦ ...</td>\n",
       "      <td>[Accueil, Géopolitique, Afrique, analyse, Andr...</td>\n",
       "      <td>[Facebook, Twitter, LinkedIn, Print Friendly, ...</td>\n",
       "      <td></td>\n",
       "      <td>Par André-Victor Robert, haut fonctionnaire ♦ ...</td>\n",
       "      <td>André Victor Robert</td>\n",
       "      <td>...</td>\n",
       "      <td></td>\n",
       "      <td>FB</td>\n",
       "      <td>Recueil</td>\n",
       "      <td>31</td>\n",
       "      <td>Quelle politique migratoire pour la France ? –...</td>\n",
       "      <td>9123</td>\n",
       "      <td>294.290323</td>\n",
       "      <td>c12a81bb99810b5c13fba93abc5f9cea077a873d</td>\n",
       "      <td>[facebook, twitter, linkedin, print friendly, ...</td>\n",
       "      <td>facebook\\ntwitter\\nlinkedin\\nprint friendly\\nl...</td>\n",
       "    </tr>\n",
       "    <tr>\n",
       "      <th>...</th>\n",
       "      <td>...</td>\n",
       "      <td>...</td>\n",
       "      <td>...</td>\n",
       "      <td>...</td>\n",
       "      <td>...</td>\n",
       "      <td>...</td>\n",
       "      <td>...</td>\n",
       "      <td>...</td>\n",
       "      <td>...</td>\n",
       "      <td>...</td>\n",
       "      <td>...</td>\n",
       "      <td>...</td>\n",
       "      <td>...</td>\n",
       "      <td>...</td>\n",
       "      <td>...</td>\n",
       "      <td>...</td>\n",
       "      <td>...</td>\n",
       "      <td>...</td>\n",
       "      <td>...</td>\n",
       "      <td>...</td>\n",
       "      <td>...</td>\n",
       "    </tr>\n",
       "    <tr>\n",
       "      <th>112</th>\n",
       "      <td>112</td>\n",
       "      <td>https://lesdeqodeurs.fr/des-scientifiques-de-h...</td>\n",
       "      <td>lesdeqodeurs.fr</td>\n",
       "      <td>Des scientifiques de Harvard et de Johns Hopki...</td>\n",
       "      <td>Article original datant du 31/08/22 par SSRNCO...</td>\n",
       "      <td>[ARNm, COVID, effets secondaires, étude, Harva...</td>\n",
       "      <td>[Les étudiants des universités nord-américaine...</td>\n",
       "      <td>2022-09-23T00:00:00</td>\n",
       "      <td></td>\n",
       "      <td></td>\n",
       "      <td>...</td>\n",
       "      <td>1</td>\n",
       "      <td>FB</td>\n",
       "      <td>Recueil</td>\n",
       "      <td>5</td>\n",
       "      <td>Des scientifiques de Harvard et de Johns Hopki...</td>\n",
       "      <td>1803</td>\n",
       "      <td>360.600000</td>\n",
       "      <td>1f56ed5fa54de7c492154ac8ee0d8d10724f1aa4</td>\n",
       "      <td>[les étudiant des université nord américain ri...</td>\n",
       "      <td>les étudiant des université nord américain ris...</td>\n",
       "    </tr>\n",
       "    <tr>\n",
       "      <th>157</th>\n",
       "      <td>158</td>\n",
       "      <td>https://www.voltairenet.org/article217546.html</td>\n",
       "      <td>www.voltairenet.org</td>\n",
       "      <td>L’armée russe achète des exemplaires d’armemen...</td>\n",
       "      <td>L’achat de deux canons automoteurs CAESAR fran...</td>\n",
       "      <td>[]</td>\n",
       "      <td>[L’achat de deux canons automoteurs CAESAR fra...</td>\n",
       "      <td>1900-01-01T00:00:00</td>\n",
       "      <td></td>\n",
       "      <td></td>\n",
       "      <td>...</td>\n",
       "      <td>1</td>\n",
       "      <td>FB</td>\n",
       "      <td>Recueil</td>\n",
       "      <td>3</td>\n",
       "      <td>L’armée russe achète des exemplaires d’armemen...</td>\n",
       "      <td>718</td>\n",
       "      <td>239.333333</td>\n",
       "      <td>b3153ba0ad9e32c02a8d49c99a6748e0764b20b5</td>\n",
       "      <td>[achat de deux caner automoteur caesar françai...</td>\n",
       "      <td>achat de deux caner automoteur caesar français...</td>\n",
       "    </tr>\n",
       "    <tr>\n",
       "      <th>522</th>\n",
       "      <td>523</td>\n",
       "      <td>https://lemediaen442.fr/onu-le-premier-ministr...</td>\n",
       "      <td>lemediaen442.fr</td>\n",
       "      <td>ONU – Le Premier ministre de Nouvelle-Zélande ...</td>\n",
       "      <td>L’argument principal de la ministre est que le...</td>\n",
       "      <td>[Politique, Vidéos, censure, jacinda ardern, ONU]</td>\n",
       "      <td>[L’argument principal de la ministre est que l...</td>\n",
       "      <td>2022-09-29T09:56:31+02:00</td>\n",
       "      <td>Le terrible discours de Jacinda Ardern, Premie...</td>\n",
       "      <td></td>\n",
       "      <td>...</td>\n",
       "      <td>1</td>\n",
       "      <td>FB</td>\n",
       "      <td>Recueil</td>\n",
       "      <td>7</td>\n",
       "      <td>ONU – Le Premier ministre de Nouvelle-Zélande ...</td>\n",
       "      <td>2420</td>\n",
       "      <td>345.714286</td>\n",
       "      <td>3d47a59ef99274fd9ee96c209cc2ab41d6e1f6bb</td>\n",
       "      <td>[argument principal de la ministre est que les...</td>\n",
       "      <td>argument principal de la ministre est que les ...</td>\n",
       "    </tr>\n",
       "    <tr>\n",
       "      <th>847</th>\n",
       "      <td>853</td>\n",
       "      <td>https://fr.sott.net/article/36258-Pandemie-ou-...</td>\n",
       "      <td>fr.sott.net</td>\n",
       "      <td>Pandémie ou le retour du grand Pan</td>\n",
       "      <td>Au cours des deux dernières décennies, les pub...</td>\n",
       "      <td>[La Science de l'Esprit]</td>\n",
       "      <td>[Au cours des deux dernières décennies, les pu...</td>\n",
       "      <td></td>\n",
       "      <td></td>\n",
       "      <td>NaN</td>\n",
       "      <td>...</td>\n",
       "      <td>NaN</td>\n",
       "      <td>NaN</td>\n",
       "      <td>Verif</td>\n",
       "      <td>59</td>\n",
       "      <td>Pandémie ou le retour du grand Pan\\nAu cours d...</td>\n",
       "      <td>19227</td>\n",
       "      <td>325.881356</td>\n",
       "      <td>fd203102bf61c0cfc0387c3db38685556dc9aa0e</td>\n",
       "      <td>[au courir des deux dernier décennie les publi...</td>\n",
       "      <td>au courir des deux dernier décennie les public...</td>\n",
       "    </tr>\n",
       "    <tr>\n",
       "      <th>151</th>\n",
       "      <td>152</td>\n",
       "      <td>https://lesdeqodeurs.fr/le-president-trump-dec...</td>\n",
       "      <td>lesdeqodeurs.fr</td>\n",
       "      <td>Le président Trump dénonce la corruption de la...</td>\n",
       "      <td>Article original datant du 28/04/22Donald Trum...</td>\n",
       "      <td>[2016, 2020, Barack Obama, CNN, Donald Trump, ...</td>\n",
       "      <td>[Article original datant du 28/04/22, Le prési...</td>\n",
       "      <td>2022-05-01T00:00:00</td>\n",
       "      <td></td>\n",
       "      <td></td>\n",
       "      <td>...</td>\n",
       "      <td>1</td>\n",
       "      <td>FB</td>\n",
       "      <td>Recueil</td>\n",
       "      <td>15</td>\n",
       "      <td>Le président Trump dénonce la corruption de la...</td>\n",
       "      <td>4512</td>\n",
       "      <td>300.800000</td>\n",
       "      <td>a118d6a98c00f504fad2544531bd63b2267f1244</td>\n",
       "      <td>[article original dater du, le présider trump ...</td>\n",
       "      <td>article original dater du\\nle présider trump d...</td>\n",
       "    </tr>\n",
       "  </tbody>\n",
       "</table>\n",
       "<p>746 rows × 47 columns</p>\n",
       "</div>"
      ],
      "text/plain": [
       "     index                                                url   \n",
       "609    610  https://www.francesoir.fr/politique-france/gue...  \\\n",
       "705    708  https://www.profession-gendarme.com/la-vaccina...   \n",
       "26      26  https://www.mondialisation.ca/colonialisme-ene...   \n",
       "565    566  https://www.francesoir.fr/opinions-editos/de-l...   \n",
       "231    232  https://www.polemia.com/quelle-politique-migra...   \n",
       "..     ...                                                ...   \n",
       "112    112  https://lesdeqodeurs.fr/des-scientifiques-de-h...   \n",
       "157    158     https://www.voltairenet.org/article217546.html   \n",
       "522    523  https://lemediaen442.fr/onu-le-premier-ministr...   \n",
       "847    853  https://fr.sott.net/article/36258-Pandemie-ou-...   \n",
       "151    152  https://lesdeqodeurs.fr/le-president-trump-dec...   \n",
       "\n",
       "                            site   \n",
       "609            www.francesoir.fr  \\\n",
       "705  www.profession-gendarme.com   \n",
       "26         www.mondialisation.ca   \n",
       "565            www.francesoir.fr   \n",
       "231              www.polemia.com   \n",
       "..                           ...   \n",
       "112              lesdeqodeurs.fr   \n",
       "157          www.voltairenet.org   \n",
       "522              lemediaen442.fr   \n",
       "847                  fr.sott.net   \n",
       "151              lesdeqodeurs.fr   \n",
       "\n",
       "                                                 title   \n",
       "609  Guerre en Ukraine: Emmanuel Macron prévient le...  \\\n",
       "705  La vaccination Covid : un marquage de « type b...   \n",
       "26                            Colonialisme énergétique   \n",
       "565  De l’importance d’une Assemblée vraiment natio...   \n",
       "231  Quelle politique migratoire pour la France ? –...   \n",
       "..                                                 ...   \n",
       "112  Des scientifiques de Harvard et de Johns Hopki...   \n",
       "157  L’armée russe achète des exemplaires d’armemen...   \n",
       "522  ONU – Le Premier ministre de Nouvelle-Zélande ...   \n",
       "847                 Pandémie ou le retour du grand Pan   \n",
       "151  Le président Trump dénonce la corruption de la...   \n",
       "\n",
       "                                               article   \n",
       "609  À l’occasion de la cérémonie pour le 78e anniv...  \\\n",
       "705  De: Dr R Date: 16 avril 2022 à 08:17:22 ﻿bonjo...   \n",
       "26   Visite d’État du président de la République it...   \n",
       "565  Depuis hier soir, ne serions-nous pas en train...   \n",
       "231  Par André-Victor Robert, haut fonctionnaire ♦ ...   \n",
       "..                                                 ...   \n",
       "112  Article original datant du 31/08/22 par SSRNCO...   \n",
       "157  L’achat de deux canons automoteurs CAESAR fran...   \n",
       "522  L’argument principal de la ministre est que le...   \n",
       "847  Au cours des deux dernières décennies, les pub...   \n",
       "151  Article original datant du 28/04/22Donald Trum...   \n",
       "\n",
       "                                                  tags   \n",
       "609                               [Accueil, Politique]  \\\n",
       "705                              [Actualités, Tribune]   \n",
       "26   [Moyen-Orient et Afrique du Nord, Guerre USA O...   \n",
       "565                                [Accueil, Opinions]   \n",
       "231  [Accueil, Géopolitique, Afrique, analyse, Andr...   \n",
       "..                                                 ...   \n",
       "112  [ARNm, COVID, effets secondaires, étude, Harva...   \n",
       "157                                                 []   \n",
       "522  [Politique, Vidéos, censure, jacinda ardern, ONU]   \n",
       "847                           [La Science de l'Esprit]   \n",
       "151  [2016, 2020, Barack Obama, CNN, Donald Trump, ...   \n",
       "\n",
       "                                            paragraphs   \n",
       "609  [À l’occasion de la cérémonie pour le 78e anni...  \\\n",
       "705  [De: Dr R Date: 16 avril 2022 à 08:17:22 ﻿bonj...   \n",
       "26   [Visite d’État du président de la République i...   \n",
       "565  [Depuis hier soir, ne serions-nous pas en trai...   \n",
       "231  [Facebook, Twitter, LinkedIn, Print Friendly, ...   \n",
       "..                                                 ...   \n",
       "112  [Les étudiants des universités nord-américaine...   \n",
       "157  [L’achat de deux canons automoteurs CAESAR fra...   \n",
       "522  [L’argument principal de la ministre est que l...   \n",
       "847  [Au cours des deux dernières décennies, les pu...   \n",
       "151  [Article original datant du 28/04/22, Le prési...   \n",
       "\n",
       "                      date_iso   \n",
       "609        2022-08-20T00:00:00  \\\n",
       "705                              \n",
       "26         2022-07-09T00:00:00   \n",
       "565        2022-06-20T19:46:00   \n",
       "231                              \n",
       "..                         ...   \n",
       "112        2022-09-23T00:00:00   \n",
       "157        1900-01-01T00:00:00   \n",
       "522  2022-09-29T09:56:31+02:00   \n",
       "847                              \n",
       "151        2022-05-01T00:00:00   \n",
       "\n",
       "                                              abstract               Auteur   \n",
       "609                                                                          \\\n",
       "705                                                                     NaN   \n",
       "26                                                       Pangea Grandangolo   \n",
       "565                                                         Xavier Azalbert   \n",
       "231  Par André-Victor Robert, haut fonctionnaire ♦ ...  André Victor Robert   \n",
       "..                                                 ...                  ...   \n",
       "112                                                                           \n",
       "157                                                                           \n",
       "522  Le terrible discours de Jacinda Ardern, Premie...                        \n",
       "847                                                                     NaN   \n",
       "151                                                                           \n",
       "\n",
       "     ... degre_infox observateur   source p_count   \n",
       "609  ...                      CN  Recueil      11  \\\n",
       "705  ...         NaN         NaN    Test1      17   \n",
       "26   ...                      GP  Recueil       8   \n",
       "565  ...                      GP  Recueil      16   \n",
       "231  ...                      FB  Recueil      31   \n",
       "..   ...         ...         ...      ...     ...   \n",
       "112  ...           1          FB  Recueil       5   \n",
       "157  ...           1          FB  Recueil       3   \n",
       "522  ...           1          FB  Recueil       7   \n",
       "847  ...         NaN         NaN    Verif      59   \n",
       "151  ...           1          FB  Recueil      15   \n",
       "\n",
       "                                                  text  c_count      p_size   \n",
       "609  Guerre en Ukraine: Emmanuel Macron prévient le...     2629  239.000000  \\\n",
       "705  La vaccination Covid : un marquage de « type b...     6252  367.764706   \n",
       "26   Colonialisme énergétique\\nVisite d’État du pré...     2794  349.250000   \n",
       "565  De l’importance d’une Assemblée vraiment natio...     4582  286.375000   \n",
       "231  Quelle politique migratoire pour la France ? –...     9123  294.290323   \n",
       "..                                                 ...      ...         ...   \n",
       "112  Des scientifiques de Harvard et de Johns Hopki...     1803  360.600000   \n",
       "157  L’armée russe achète des exemplaires d’armemen...      718  239.333333   \n",
       "522  ONU – Le Premier ministre de Nouvelle-Zélande ...     2420  345.714286   \n",
       "847  Pandémie ou le retour du grand Pan\\nAu cours d...    19227  325.881356   \n",
       "151  Le président Trump dénonce la corruption de la...     4512  300.800000   \n",
       "\n",
       "                                        url_h   \n",
       "609  857bfacdd98e36dda26f1f92cf40c992904d6386  \\\n",
       "705  166d32300f4d7766a82fe39a1185f35bc347c05f   \n",
       "26   2a39a60fd5e2c6df0f6ec8ce9fedc2ee2eb4ab4d   \n",
       "565  93b25370fea82c7039f7e2b00c0bd73151101af3   \n",
       "231  c12a81bb99810b5c13fba93abc5f9cea077a873d   \n",
       "..                                        ...   \n",
       "112  1f56ed5fa54de7c492154ac8ee0d8d10724f1aa4   \n",
       "157  b3153ba0ad9e32c02a8d49c99a6748e0764b20b5   \n",
       "522  3d47a59ef99274fd9ee96c209cc2ab41d6e1f6bb   \n",
       "847  fd203102bf61c0cfc0387c3db38685556dc9aa0e   \n",
       "151  a118d6a98c00f504fad2544531bd63b2267f1244   \n",
       "\n",
       "                                          l_paragraphs   \n",
       "609  [occasion de la cérémonie pour le anniversaire...  \\\n",
       "705  [de dr date avril bonjour touspour les non méd...   \n",
       "26   [visite état du présider de la république ital...   \n",
       "565  [depuis hier soir ne être nous pas en train as...   \n",
       "231  [facebook, twitter, linkedin, print friendly, ...   \n",
       "..                                                 ...   \n",
       "112  [les étudiant des université nord américain ri...   \n",
       "157  [achat de deux caner automoteur caesar françai...   \n",
       "522  [argument principal de la ministre est que les...   \n",
       "847  [au courir des deux dernier décennie les publi...   \n",
       "151  [article original dater du, le présider trump ...   \n",
       "\n",
       "                                                l_text  \n",
       "609  occasion de la cérémonie pour le anniversaire ...  \n",
       "705  de dr date avril bonjour touspour les non méde...  \n",
       "26   visite état du présider de la république itali...  \n",
       "565  depuis hier soir ne être nous pas en train ass...  \n",
       "231  facebook\\ntwitter\\nlinkedin\\nprint friendly\\nl...  \n",
       "..                                                 ...  \n",
       "112  les étudiant des université nord américain ris...  \n",
       "157  achat de deux caner automoteur caesar français...  \n",
       "522  argument principal de la ministre est que les ...  \n",
       "847  au courir des deux dernier décennie les public...  \n",
       "151  article original dater du\\nle présider trump d...  \n",
       "\n",
       "[746 rows x 47 columns]"
      ]
     },
     "execution_count": 17,
     "metadata": {},
     "output_type": "execute_result"
    }
   ],
   "source": [
    "df_0 = df_label[df_label['infox'] == 0]\n",
    "df_1 = df_label[df_label['infox'] == 1]\n",
    "\n",
    "min_sample = min(len(df_0),len(df_1))\n",
    "\n",
    "\n",
    "df_0=df_0.sample(min_sample,random_state=_rs)\n",
    "df_1=df_1.sample(min_sample,random_state=_rs)\n",
    "df_ml = pd.concat([df_0,df_1])\n",
    "\n",
    "df_ml"
   ]
  },
  {
   "cell_type": "markdown",
   "id": "1ddb93da",
   "metadata": {},
   "source": [
    "## Textes partiels"
   ]
  },
  {
   "cell_type": "code",
   "execution_count": 18,
   "id": "7d9a39d3",
   "metadata": {},
   "outputs": [],
   "source": [
    "def partial_texts(text,p_count):\n",
    "    parags = text.split('\\n')\n",
    "    result='\\n'.join(parags[:p_count])\n",
    "    return result"
   ]
  },
  {
   "cell_type": "code",
   "execution_count": 19,
   "id": "a15f1542",
   "metadata": {},
   "outputs": [],
   "source": [
    "text = df_ml.sample(frac=1).iloc[0]['l_text']"
   ]
  },
  {
   "cell_type": "code",
   "execution_count": 20,
   "id": "ea7c8d11",
   "metadata": {},
   "outputs": [
    {
     "data": {
      "text/plain": [
       "'chronique la nouveau de la chute de lougansk dimanche dernier inscrire dans ce qui apparait comme inexorable annexion de est de ukraine par la russie aucune action militaire ukrainien ce jour contrecarrer action des troupe russe malgré énormité de arsenal transférer ce pays depuis et singulièrement depuis février la vétusté de équipement et le manque de professionnalisme des combattant ukrainien est en jeu alors que volodymyr zelensky continue de réclamer des arme notamment que lui soit allouer de arsenal de otan se pose la question de savoir ce qui été faire de ce qui déjà été obtenir dans quelles main se trouver ces stock ainsi que les don milliardaire concéder aux fin équipement militaire\\nlugano une conférence sur la reconstruction de ukraine lieu ces et juillet en présence ursula von der leyen le premier ministre ukrainien denys schmigal le présider de la rader parlement ukrainien rouslan stefantchouk il agir de débloquer des fondre nouveau il est fort peu probable que la question de la traçabilité des fondre leur être poser aspect autant plaire crucial que la responsabilité des nation donatrices est en jeu\\nselon un papier de association de pénaliste européen eucrim guerre et corruption en ukraine le secteur de la défense principal vecteur industriel de ce pays suffire en soi pour garantir un niveau respectable de sécurité toujours été miner par la corruption les organe de lutte contre ce fléau déjà inefficients en temps de paix être définitivement aux abonner absent sou la pression international en ukraine un des pays les plaire corrompre du monde voir cette ukraine si européen être doter de trois corps anticorruption le nabu par ses sigle en anglais ou bureau national de la lutte contre la corruption le sapo procureur spécial contre la corruption et enfin la hacc haut cour spécial contre la corruption ces trois entité être surprenamment mettre travailler jusqu ce que les membre du parlement ukrainien la verkhovna rader dans lequel siège la majorité présidentiel de zelensky bloquer en décembre la nomination du procureur sap dont son présider est présent ce jour lugano pour demander davantage argent public occidental pour son pays ça est pour le contexte institutionnel dans lequel les aide stratosphérique et les arme être livrer\\nles aide arriver en vague celle qui démarrer partir de lors de la premier opération ukrainien de administration obama biden surgir en concomitance avec les événement de la place maiden opération qui intensifier partir de ouvrant autre donateur notamment français partir de janvier lorsque les relation entre ukraine et la russie être rompre et que le pilonnage du donbass par des batailler ukrainien redoubler le flux arme et aide financier exploser\\nle think thank économique allemand le kiel instituer créer un instrument de traçabilité des aide verser ukraine qui permettre de reconstituer une partie de celle ci entre les quinze principal donateur souverain au courir de la période allant du janvier au juin se trouver bien sûr en tête les état uni ce pays débourser milliard de dollar aide financier non spécifié laquelle ajouter milliard aide humanitaire et un peu moins de milliard euro en aide financier militaire titre de comparaison le total des réserve ukraine en selon la banque mondial être de milliard de dollar américain cette somme ajouter une nouveau enveloppe de million de dollar est le dernier engagement en date de joe biden prendre dans le cadre du sommet de otan de madrid du juin seulement au chapitre de aide public américain la somme dépasser de loin le benchmark des plaire gros enveloppe des plan de sauvetage du fondre monétaire international fmi et il agir de don non pas de crédit ce être des somme qui entrer nul part dans les compte public du pays récepteur union européen au travers de trois de ses institution la commission le conseil et la banque européen investissement pour sa part promettre milliard euro desquels milliard avoir effectivement été déboursés encore que information soit très difficile confirmer du faire de opacité des compte de tout ce qui venir de bruxelles est pratiquement la somme de tout les aide distribuer par ue en mais entre plusieurs pays dont la turquie le maroc inde la syrie éthiopie égypte la somalie afghanistan la colombie en moins un semestre ukraine consommer plaire aide européen que ce que plusieurs pays en guerre ou sortant un conflit armer voire affecter une importance stratégique immédiat pour europe avoir consommer en un an\\nla france est le septième donateur public avec un peu moins de milliard euro déboursés en ce qui aller de année mais la france été le plaire grand exportateur arme vers ukraine de pour une valeur de milliard euro aide en arme entre lesquelles se compter des hélicoptère des drone de reconnaissance et de armement lourd la différence des etats uni la france ne rendre pas public la liste des équipement fourni mais il agir arme offensif\\nle février cette aide est accroître équipement pour une valeur de million euro fourniture de milan javelin mistral etc la république offre en outre accès au système intelligence satellitaire hexagonal cso pléiade hélios le mai le ministre de la défense ukrainien dmitrov kuleba exprimer sa gratitude la france des arme français être aussi parvenir au travers de pays tiers tels que les mistral fourni par la norvège ukraine chose qui ne pouvoir se faire qu avec accord du pays producteur arsenal livrer par le royaume uni prendre la forme du catalogue un salon de armement il ne manque rien il convier de souligner une et autre fois le cadre financier stratégique contractuel totalement hermétique de ces livraison entre les grand puissance industriel militaire seul israël et le japon se être abstenir de répondre aux appel de pied de zelensky offrant autre chose que des casque et des gilet parer balle\\nces aide venir ajouter aux million euro promettre ukraine par union européen pour achat arme létal dans le cadre de european peace facility mettre en place en ce être milliard de prêt garanti entre et le février la liste des milliard qui pleuvoir depuis sur ukraine donne le tournis les institution de bretton woods ne être pas en reste la banque mondial pour sa part promettre en mars dernier milliard de dollar dont million urgence et le fmi autre milliard de crédit\\nalors oui où être passer ces aide humanitaire ces arme il un front de est qui faire office appel pour recevoir des fondre avec des soldat équiper arme dater de union soviétique et ensuite une vie ouest du dniepr qui se dérouler normalement qui aller les aide humanitaire la premier vague immigration après annonce de attribution office un visa communautaire de trois an est tari et les transfert de réfugier se faire désormais vers la russie il un office pour chuter ou du moins coordonner usage des fondre\\nles fonctionnaire de la cour européen auditeur avoir plaire émettre de rapport sur ukraine depuis pourtant institution se présent comme la gardien des finance de ue la seul mention sur leur site est celle du drapeau bleu et jaune et un message de solidarité au peuple ukraine selon eucrim au regard de la corruption la situation avant la guerre être pas brillant en ukraine aucune amélioration significatif avoir été réaliser falloir il en conclure que les auditeur de ue avoir pas vraiment impressionner oligarchie mafieux au pouvoir selon auteur du rapport de eucrim après la guerre le cadre de lutte contre la corruption être pire que ce qu il être avant la guerre dans la mesure où il devoir faire face de sérieux challenge spécialement ceux résultant du vaste influx de matériel et de support financier pour des objectif humanitaire\\nmais si ukraine est la bête noir des expert de la lutte contre la corruption et du crime organiser ils devoir commencer regarder ouest la massivité des fondre multimilliardaires qui se faire hors de tout contrôle et qui entrer pas dans les compte public de état ukrainien se prêter aussi des retour non négligeable en particulier au regard du passer corrompre de la famille biden en ukraine potentiellement tout les condition être donner pour créer les condition idéal un niveau de détournement de fondre anthologique ce en plein lumière du jour pendant que le monde se coupe les veine pour ukraine et se préparer une dépression économique qui faire histoire\\nfaire un don\\nle manifeste les aimant de information de théophraste renaudot victor hugo en passant par emile de girardin et pierre lazareff histoire de la presse français est jalonner initiative et de renoncement de tâtonnement et de critique échec et de grand succès francesoir est un rendre vous journalistique incontournable lire la suite'"
      ]
     },
     "execution_count": 20,
     "metadata": {},
     "output_type": "execute_result"
    }
   ],
   "source": [
    "text"
   ]
  },
  {
   "cell_type": "code",
   "execution_count": 21,
   "id": "e90f1270",
   "metadata": {},
   "outputs": [
    {
     "name": "stdout",
     "output_type": "stream",
     "text": [
      "chronique la nouveau de la chute de lougansk dimanche dernier inscrire dans ce qui apparait comme inexorable annexion de est de ukraine par la russie aucune action militaire ukrainien ce jour contrecarrer action des troupe russe malgré énormité de arsenal transférer ce pays depuis et singulièrement depuis février la vétusté de équipement et le manque de professionnalisme des combattant ukrainien est en jeu alors que volodymyr zelensky continue de réclamer des arme notamment que lui soit allouer de arsenal de otan se pose la question de savoir ce qui été faire de ce qui déjà été obtenir dans quelles main se trouver ces stock ainsi que les don milliardaire concéder aux fin équipement militaire\n",
      "lugano une conférence sur la reconstruction de ukraine lieu ces et juillet en présence ursula von der leyen le premier ministre ukrainien denys schmigal le présider de la rader parlement ukrainien rouslan stefantchouk il agir de débloquer des fondre nouveau il est fort peu probable que la question de la traçabilité des fondre leur être poser aspect autant plaire crucial que la responsabilité des nation donatrices est en jeu\n"
     ]
    }
   ],
   "source": [
    "pt = partial_texts(text,2)\n",
    "print(pt)"
   ]
  },
  {
   "cell_type": "markdown",
   "id": "3298b2bd",
   "metadata": {},
   "source": [
    "## Tests Entrainement"
   ]
  },
  {
   "cell_type": "code",
   "execution_count": 22,
   "id": "53283aad",
   "metadata": {},
   "outputs": [],
   "source": [
    "df_ml=df_ml.sample(frac=1,random_state=_rs)"
   ]
  },
  {
   "cell_type": "code",
   "execution_count": 23,
   "id": "63f0bbd4",
   "metadata": {},
   "outputs": [],
   "source": [
    "from sklearn.feature_extraction.text import CountVectorizer, TfidfVectorizer\n",
    "from sklearn.model_selection import cross_validate, train_test_split\n",
    "from sklearn.linear_model import LogisticRegression\n",
    "from sklearn.neural_network import MLPClassifier\n",
    "from sklearn.pipeline import Pipeline\n",
    "from sklearn import metrics"
   ]
  },
  {
   "cell_type": "code",
   "execution_count": 24,
   "id": "9a43bbd4",
   "metadata": {},
   "outputs": [],
   "source": [
    "logreg = LogisticRegression(C=200, random_state=_rs, solver='lbfgs', multi_class='ovr', max_iter=1000)"
   ]
  },
  {
   "cell_type": "code",
   "execution_count": 25,
   "id": "d6ac45f9",
   "metadata": {},
   "outputs": [],
   "source": [
    "#iw = get_common_words(20)\n",
    "#iw = get_rare_words(1)\n",
    "iw=None\n",
    "pipelineLR = Pipeline(steps = [\n",
    "    ('vectorizer',TfidfVectorizer(preprocessor=None, tokenizer=None, stop_words=iw)), \n",
    "    ('classifier',logreg)\n",
    "                  ])"
   ]
  },
  {
   "cell_type": "code",
   "execution_count": 26,
   "id": "902290cf",
   "metadata": {},
   "outputs": [],
   "source": [
    "def cut_text(text):\n",
    "    return partial_texts(text,nb_parags)"
   ]
  },
  {
   "cell_type": "code",
   "execution_count": 27,
   "id": "3733efdd",
   "metadata": {},
   "outputs": [
    {
     "name": "stdout",
     "output_type": "stream",
     "text": [
      "Crossvalidating nb_parags=1\n",
      "Crossvalidating nb_parags=2\n",
      "Crossvalidating nb_parags=3\n",
      "Crossvalidating nb_parags=5\n",
      "Crossvalidating nb_parags=8\n",
      "Crossvalidating nb_parags=13\n",
      "Crossvalidating nb_parags=21\n",
      "Crossvalidating nb_parags=34\n"
     ]
    }
   ],
   "source": [
    "df_means = {}\n",
    "for nb_parags in [1,2,3,5,8,13,21,34]:\n",
    "    \n",
    "    print(f'Crossvalidating nb_parags={nb_parags}')\n",
    "\n",
    "    X = df_ml['text'].apply(cut_text)\n",
    "    y = df_ml['infox']\n",
    "\n",
    "    #classifier = pipelineMLPC\n",
    "    classifier = pipelineLR\n",
    "    scores = cross_validate(classifier, X, y, cv=4,\n",
    "                            scoring=('roc_auc','f1','accuracy','precision','recall'))\n",
    "    df_scores=pd.DataFrame(scores)\n",
    "    df_means[nb_parags] = df_scores.describe().loc['mean']\n"
   ]
  },
  {
   "cell_type": "code",
   "execution_count": 28,
   "id": "5b48527e",
   "metadata": {
    "scrolled": true
   },
   "outputs": [
    {
     "data": {
      "text/html": [
       "<div>\n",
       "<style scoped>\n",
       "    .dataframe tbody tr th:only-of-type {\n",
       "        vertical-align: middle;\n",
       "    }\n",
       "\n",
       "    .dataframe tbody tr th {\n",
       "        vertical-align: top;\n",
       "    }\n",
       "\n",
       "    .dataframe thead th {\n",
       "        text-align: right;\n",
       "    }\n",
       "</style>\n",
       "<table border=\"1\" class=\"dataframe\">\n",
       "  <thead>\n",
       "    <tr style=\"text-align: right;\">\n",
       "      <th></th>\n",
       "      <th>1</th>\n",
       "      <th>2</th>\n",
       "      <th>3</th>\n",
       "      <th>5</th>\n",
       "      <th>8</th>\n",
       "      <th>13</th>\n",
       "      <th>21</th>\n",
       "      <th>34</th>\n",
       "    </tr>\n",
       "  </thead>\n",
       "  <tbody>\n",
       "    <tr>\n",
       "      <th>fit_time</th>\n",
       "      <td>0.024</td>\n",
       "      <td>0.048</td>\n",
       "      <td>0.087</td>\n",
       "      <td>0.125</td>\n",
       "      <td>0.198</td>\n",
       "      <td>0.252</td>\n",
       "      <td>0.332</td>\n",
       "      <td>0.375</td>\n",
       "    </tr>\n",
       "    <tr>\n",
       "      <th>score_time</th>\n",
       "      <td>0.005</td>\n",
       "      <td>0.011</td>\n",
       "      <td>0.018</td>\n",
       "      <td>0.030</td>\n",
       "      <td>0.045</td>\n",
       "      <td>0.063</td>\n",
       "      <td>0.082</td>\n",
       "      <td>0.097</td>\n",
       "    </tr>\n",
       "    <tr>\n",
       "      <th>test_roc_auc</th>\n",
       "      <td>0.662</td>\n",
       "      <td>0.783</td>\n",
       "      <td>0.774</td>\n",
       "      <td>0.812</td>\n",
       "      <td>0.821</td>\n",
       "      <td>0.838</td>\n",
       "      <td>0.844</td>\n",
       "      <td>0.849</td>\n",
       "    </tr>\n",
       "    <tr>\n",
       "      <th>test_f1</th>\n",
       "      <td>0.631</td>\n",
       "      <td>0.720</td>\n",
       "      <td>0.702</td>\n",
       "      <td>0.744</td>\n",
       "      <td>0.743</td>\n",
       "      <td>0.770</td>\n",
       "      <td>0.772</td>\n",
       "      <td>0.781</td>\n",
       "    </tr>\n",
       "    <tr>\n",
       "      <th>test_accuracy</th>\n",
       "      <td>0.615</td>\n",
       "      <td>0.714</td>\n",
       "      <td>0.696</td>\n",
       "      <td>0.740</td>\n",
       "      <td>0.735</td>\n",
       "      <td>0.765</td>\n",
       "      <td>0.764</td>\n",
       "      <td>0.775</td>\n",
       "    </tr>\n",
       "    <tr>\n",
       "      <th>test_precision</th>\n",
       "      <td>0.607</td>\n",
       "      <td>0.708</td>\n",
       "      <td>0.689</td>\n",
       "      <td>0.733</td>\n",
       "      <td>0.722</td>\n",
       "      <td>0.756</td>\n",
       "      <td>0.747</td>\n",
       "      <td>0.761</td>\n",
       "    </tr>\n",
       "    <tr>\n",
       "      <th>test_recall</th>\n",
       "      <td>0.657</td>\n",
       "      <td>0.732</td>\n",
       "      <td>0.716</td>\n",
       "      <td>0.756</td>\n",
       "      <td>0.767</td>\n",
       "      <td>0.785</td>\n",
       "      <td>0.799</td>\n",
       "      <td>0.802</td>\n",
       "    </tr>\n",
       "  </tbody>\n",
       "</table>\n",
       "</div>"
      ],
      "text/plain": [
       "                   1      2      3      5      8      13     21     34\n",
       "fit_time        0.024  0.048  0.087  0.125  0.198  0.252  0.332  0.375\n",
       "score_time      0.005  0.011  0.018  0.030  0.045  0.063  0.082  0.097\n",
       "test_roc_auc    0.662  0.783  0.774  0.812  0.821  0.838  0.844  0.849\n",
       "test_f1         0.631  0.720  0.702  0.744  0.743  0.770  0.772  0.781\n",
       "test_accuracy   0.615  0.714  0.696  0.740  0.735  0.765  0.764  0.775\n",
       "test_precision  0.607  0.708  0.689  0.733  0.722  0.756  0.747  0.761\n",
       "test_recall     0.657  0.732  0.716  0.756  0.767  0.785  0.799  0.802"
      ]
     },
     "execution_count": 28,
     "metadata": {},
     "output_type": "execute_result"
    }
   ],
   "source": [
    "pd.set_option('display.precision',3)\n",
    "bench = pd.DataFrame(df_means)\n",
    "bench"
   ]
  },
  {
   "cell_type": "code",
   "execution_count": 29,
   "id": "9afc254d",
   "metadata": {},
   "outputs": [
    {
     "data": {
      "text/html": [
       "<div>\n",
       "<style scoped>\n",
       "    .dataframe tbody tr th:only-of-type {\n",
       "        vertical-align: middle;\n",
       "    }\n",
       "\n",
       "    .dataframe tbody tr th {\n",
       "        vertical-align: top;\n",
       "    }\n",
       "\n",
       "    .dataframe thead th {\n",
       "        text-align: right;\n",
       "    }\n",
       "</style>\n",
       "<table border=\"1\" class=\"dataframe\">\n",
       "  <thead>\n",
       "    <tr style=\"text-align: right;\">\n",
       "      <th></th>\n",
       "      <th>5</th>\n",
       "      <th>8</th>\n",
       "      <th>13</th>\n",
       "    </tr>\n",
       "  </thead>\n",
       "  <tbody>\n",
       "    <tr>\n",
       "      <th>test_accuracy</th>\n",
       "      <td>0.740</td>\n",
       "      <td>0.735</td>\n",
       "      <td>0.765</td>\n",
       "    </tr>\n",
       "    <tr>\n",
       "      <th>test_f1</th>\n",
       "      <td>0.744</td>\n",
       "      <td>0.743</td>\n",
       "      <td>0.770</td>\n",
       "    </tr>\n",
       "  </tbody>\n",
       "</table>\n",
       "</div>"
      ],
      "text/plain": [
       "                  5      8      13\n",
       "test_accuracy  0.740  0.735  0.765\n",
       "test_f1        0.744  0.743  0.770"
      ]
     },
     "execution_count": 29,
     "metadata": {},
     "output_type": "execute_result"
    }
   ],
   "source": [
    "bench.loc[['test_accuracy','test_f1'],[5,8,13]]"
   ]
  },
  {
   "cell_type": "code",
   "execution_count": 30,
   "id": "c7434573",
   "metadata": {},
   "outputs": [
    {
     "data": {
      "text/html": [
       "<div>\n",
       "<style scoped>\n",
       "    .dataframe tbody tr th:only-of-type {\n",
       "        vertical-align: middle;\n",
       "    }\n",
       "\n",
       "    .dataframe tbody tr th {\n",
       "        vertical-align: top;\n",
       "    }\n",
       "\n",
       "    .dataframe thead th {\n",
       "        text-align: right;\n",
       "    }\n",
       "</style>\n",
       "<table border=\"1\" class=\"dataframe\">\n",
       "  <thead>\n",
       "    <tr style=\"text-align: right;\">\n",
       "      <th></th>\n",
       "      <th>5</th>\n",
       "      <th>8</th>\n",
       "      <th>13</th>\n",
       "    </tr>\n",
       "  </thead>\n",
       "  <tbody>\n",
       "    <tr>\n",
       "      <th>test_accuracy</th>\n",
       "      <td>0.740</td>\n",
       "      <td>0.735</td>\n",
       "      <td>0.765</td>\n",
       "    </tr>\n",
       "    <tr>\n",
       "      <th>test_f1</th>\n",
       "      <td>0.744</td>\n",
       "      <td>0.743</td>\n",
       "      <td>0.770</td>\n",
       "    </tr>\n",
       "  </tbody>\n",
       "</table>\n",
       "</div>"
      ],
      "text/plain": [
       "                  5      8      13\n",
       "test_accuracy  0.740  0.735  0.765\n",
       "test_f1        0.744  0.743  0.770"
      ]
     },
     "execution_count": 30,
     "metadata": {},
     "output_type": "execute_result"
    }
   ],
   "source": [
    "bench.loc[['test_accuracy','test_f1'],[5,8,13]]"
   ]
  },
  {
   "cell_type": "code",
   "execution_count": 31,
   "id": "6066c4dc",
   "metadata": {},
   "outputs": [
    {
     "data": {
      "text/plain": [
       "<Axes: >"
      ]
     },
     "execution_count": 31,
     "metadata": {},
     "output_type": "execute_result"
    },
    {
     "data": {
      "image/png": "[encoded data removed]",
      "text/plain": [
       "<Figure size 640x480 with 1 Axes>"
      ]
     },
     "metadata": {},
     "output_type": "display_data"
    }
   ],
   "source": [
    "sns.lineplot(data=bench.T[['test_accuracy','test_f1','test_recall']])"
   ]
  },
  {
   "cell_type": "code",
   "execution_count": 32,
   "id": "8b575c02",
   "metadata": {},
   "outputs": [
    {
     "data": {
      "text/plain": [
       "<Axes: xlabel='test_accuracy', ylabel='test_recall'>"
      ]
     },
     "execution_count": 32,
     "metadata": {},
     "output_type": "execute_result"
    },
    {
     "data": {
      "image/png": "[encoded data removed]",
      "text/plain": [
       "<Figure size 640x480 with 1 Axes>"
      ]
     },
     "metadata": {},
     "output_type": "display_data"
    }
   ],
   "source": [
    "sns.scatterplot(data=bench.T,x='test_accuracy',y='test_recall',hue=bench.T.index)"
   ]
  },
  {
   "cell_type": "markdown",
   "id": "a3800cc0",
   "metadata": {},
   "source": [
    "# PyTorch Logistic Regression"
   ]
  },
  {
   "cell_type": "code",
   "execution_count": 33,
   "id": "988f5f55",
   "metadata": {},
   "outputs": [],
   "source": [
    "import numpy as np\n",
    "import torch\n",
    "import torch.nn as nn"
   ]
  },
  {
   "cell_type": "markdown",
   "id": "e1e8c14b",
   "metadata": {},
   "source": [
    "### 0. Prepare data"
   ]
  },
  {
   "cell_type": "code",
   "execution_count": 34,
   "id": "82e96ea1",
   "metadata": {},
   "outputs": [
    {
     "data": {
      "text/plain": [
       "'mps'"
      ]
     },
     "execution_count": 34,
     "metadata": {},
     "output_type": "execute_result"
    }
   ],
   "source": [
    "device = 'mps' if torch.backends.mps.is_available else 'cpu'\n",
    "device"
   ]
  },
  {
   "cell_type": "code",
   "execution_count": 35,
   "id": "118decf9",
   "metadata": {},
   "outputs": [],
   "source": [
    "nb_parags = 10\n",
    "vectorizer=TfidfVectorizer()\n",
    "#X = vectorizer.fit_transform(df_ml['l_text'].progress_apply(cut_text))\n",
    "X = vectorizer.fit_transform(df_ml['text'])\n",
    "y = df_ml['infox']"
   ]
  },
  {
   "cell_type": "code",
   "execution_count": 36,
   "id": "e1881cf3",
   "metadata": {},
   "outputs": [],
   "source": [
    "n_samples, n_features = X.shape\n",
    "\n",
    "X_train, X_test, y_train, y_test = train_test_split(X, y, test_size=0.25, random_state=_rs)"
   ]
  },
  {
   "cell_type": "code",
   "execution_count": 37,
   "id": "418deb5d",
   "metadata": {},
   "outputs": [],
   "source": [
    "# scale\n",
    "#from sklearn.preprocessing import StandardScaler\n",
    "#sc = StandardScaler()\n",
    "#X_train = sc.fit_transform(X_train)\n",
    "#X_test = sc.transform(X_test)"
   ]
  },
  {
   "cell_type": "code",
   "execution_count": 38,
   "id": "d17961ea",
   "metadata": {},
   "outputs": [],
   "source": [
    "X_train = torch.from_numpy(X_train.toarray().astype(np.float32))\n",
    "X_test = torch.from_numpy(X_test.toarray().astype(np.float32))\n",
    "y_train = torch.from_numpy(y_train.values.astype(np.float32))\n",
    "y_test = torch.from_numpy(y_test.values.astype(np.float32))\n",
    "\n",
    "y_train = y_train.view(y_train.shape[0], 1)\n",
    "y_test = y_test.view(y_test.shape[0], 1)"
   ]
  },
  {
   "cell_type": "markdown",
   "id": "1536aba2",
   "metadata": {},
   "source": [
    "### 1. Model"
   ]
  },
  {
   "cell_type": "code",
   "execution_count": 39,
   "id": "a38d4c19",
   "metadata": {},
   "outputs": [
    {
     "data": {
      "text/plain": [
       "LRModel(\n",
       "  (linear): Linear(in_features=45807, out_features=8, bias=True)\n",
       "  (relu): ReLU(inplace=True)\n",
       "  (hidden): Linear(in_features=8, out_features=1, bias=True)\n",
       ")"
      ]
     },
     "execution_count": 39,
     "metadata": {},
     "output_type": "execute_result"
    }
   ],
   "source": [
    "# Linear model f = wx + b , sigmoid at the end\n",
    "class LRModel(nn.Module):\n",
    "    \n",
    "    _nb_hidden = 8\n",
    "    \n",
    "    def __init__(self, n_input_features):\n",
    "        super(LRModel, self).__init__()\n",
    "#        self.linear = nn.Linear(n_input_features, 1)\n",
    "        self.linear = nn.Linear(n_input_features, self._nb_hidden)\n",
    "        self.relu = nn.ReLU(self._nb_hidden)\n",
    "        self.hidden = nn.Linear(self._nb_hidden, 1)\n",
    "\n",
    "    def forward(self, x):\n",
    "        y_pred = self.linear(x)\n",
    "        y_pred = self.relu(y_pred)\n",
    "        y_pred = self.hidden(y_pred)\n",
    "        y_pred = torch.sigmoid(y_pred)\n",
    "        return y_pred\n",
    "\n",
    "model = LRModel(n_features)\n",
    "model.to(device)"
   ]
  },
  {
   "cell_type": "markdown",
   "id": "833c4923",
   "metadata": {},
   "source": [
    "### 2. Loss and optimizer"
   ]
  },
  {
   "cell_type": "code",
   "execution_count": 40,
   "id": "cb2249d1",
   "metadata": {},
   "outputs": [],
   "source": [
    "num_epochs = 1000\n",
    "learning_rate = 0.1\n",
    "criterion = nn.BCELoss()\n",
    "optimizer = torch.optim.SGD(model.parameters(), lr=learning_rate)"
   ]
  },
  {
   "cell_type": "markdown",
   "id": "172a721d",
   "metadata": {},
   "source": [
    "### 3. Training loop - MPS"
   ]
  },
  {
   "cell_type": "code",
   "execution_count": 41,
   "id": "e60c9386",
   "metadata": {},
   "outputs": [],
   "source": [
    "X_train=X_train.to(device)\n",
    "X_test=X_test.to(device)\n",
    "y_train=y_train.to(device)\n",
    "y_test=y_test.to(device)"
   ]
  },
  {
   "cell_type": "code",
   "execution_count": 42,
   "id": "1d672a99",
   "metadata": {},
   "outputs": [
    {
     "data": {
      "application/vnd.jupyter.widget-view+json": {
       "model_id": "ead8d62df0c64a71a1c7e9fef45a2830",
       "version_major": 2,
       "version_minor": 0
      },
      "text/plain": [
       "  0%|          | 0/1000 [00:00<?, ?it/s]"
      ]
     },
     "metadata": {},
     "output_type": "display_data"
    },
    {
     "name": "stdout",
     "output_type": "stream",
     "text": [
      "CPU times: user 1.04 s, sys: 170 ms, total: 1.21 s\n",
      "Wall time: 1.84 s\n"
     ]
    }
   ],
   "source": [
    "%%time\n",
    "scores=[]\n",
    "for epoch in tqdm(range(num_epochs)):\n",
    "    # Forward pass and loss\n",
    "    y_pred = model(X_train)\n",
    "    loss = criterion(y_pred, y_train)\n",
    "\n",
    "    # Backward pass and update\n",
    "    loss.backward()\n",
    "    optimizer.step()\n",
    "\n",
    "    # zero grad before new step\n",
    "    optimizer.zero_grad()\n",
    "\n",
    "    if (epoch+1) % 100 == 0:\n",
    "        with torch.no_grad():\n",
    "            y_predicted = model(X_test)\n",
    "            y_predicted_cls = y_predicted.round()\n",
    "            pred = y_predicted.to('cpu').T.numpy().round()[0]\n",
    "            proba = y_predicted.to('cpu').T.numpy()[0]\n",
    "            true = y_test.to('cpu').T.numpy()[0]\n",
    "\n",
    "            accuracy = metrics.accuracy_score(true,pred)\n",
    "            f1 = metrics.f1_score(true,pred)\n",
    "            recall = metrics.recall_score(true,pred)\n",
    "            roc_auc = metrics.roc_auc_score(true,proba)\n",
    "            scores.append({\n",
    "                'epoch': epoch+1,\n",
    "                'loss': float(loss),\n",
    "                'accuracy': accuracy,\n",
    "                'f1': f1,\n",
    "                'recall': recall,\n",
    "                'roc_auc': roc_auc,\n",
    "            })"
   ]
  },
  {
   "cell_type": "markdown",
   "id": "0e235ee4",
   "metadata": {},
   "source": [
    "### Metriques"
   ]
  },
  {
   "cell_type": "code",
   "execution_count": 43,
   "id": "e034d453",
   "metadata": {
    "scrolled": true
   },
   "outputs": [
    {
     "data": {
      "text/plain": [
       "<Axes: xlabel='epoch'>"
      ]
     },
     "execution_count": 43,
     "metadata": {},
     "output_type": "execute_result"
    },
    {
     "data": {
      "image/png": "[encoded data removed]",
      "text/plain": [
       "<Figure size 640x480 with 1 Axes>"
      ]
     },
     "metadata": {},
     "output_type": "display_data"
    }
   ],
   "source": [
    "df_scores = pd.DataFrame(scores).set_index('epoch')\n",
    "sns.lineplot(df_scores)"
   ]
  },
  {
   "cell_type": "code",
   "execution_count": 44,
   "id": "21431fd0",
   "metadata": {},
   "outputs": [
    {
     "data": {
      "text/html": [
       "<div>\n",
       "<style scoped>\n",
       "    .dataframe tbody tr th:only-of-type {\n",
       "        vertical-align: middle;\n",
       "    }\n",
       "\n",
       "    .dataframe tbody tr th {\n",
       "        vertical-align: top;\n",
       "    }\n",
       "\n",
       "    .dataframe thead th {\n",
       "        text-align: right;\n",
       "    }\n",
       "</style>\n",
       "<table border=\"1\" class=\"dataframe\">\n",
       "  <thead>\n",
       "    <tr style=\"text-align: right;\">\n",
       "      <th></th>\n",
       "      <th>loss</th>\n",
       "      <th>accuracy</th>\n",
       "      <th>f1</th>\n",
       "      <th>recall</th>\n",
       "      <th>roc_auc</th>\n",
       "    </tr>\n",
       "    <tr>\n",
       "      <th>epoch</th>\n",
       "      <th></th>\n",
       "      <th></th>\n",
       "      <th></th>\n",
       "      <th></th>\n",
       "      <th></th>\n",
       "    </tr>\n",
       "  </thead>\n",
       "  <tbody>\n",
       "    <tr>\n",
       "      <th>100</th>\n",
       "      <td>0.691</td>\n",
       "      <td>0.476</td>\n",
       "      <td>0.000</td>\n",
       "      <td>0.000</td>\n",
       "      <td>0.839</td>\n",
       "    </tr>\n",
       "    <tr>\n",
       "      <th>200</th>\n",
       "      <td>0.688</td>\n",
       "      <td>0.508</td>\n",
       "      <td>0.115</td>\n",
       "      <td>0.061</td>\n",
       "      <td>0.849</td>\n",
       "    </tr>\n",
       "    <tr>\n",
       "      <th>300</th>\n",
       "      <td>0.683</td>\n",
       "      <td>0.668</td>\n",
       "      <td>0.563</td>\n",
       "      <td>0.408</td>\n",
       "      <td>0.850</td>\n",
       "    </tr>\n",
       "    <tr>\n",
       "      <th>400</th>\n",
       "      <td>0.674</td>\n",
       "      <td>0.754</td>\n",
       "      <td>0.723</td>\n",
       "      <td>0.612</td>\n",
       "      <td>0.849</td>\n",
       "    </tr>\n",
       "    <tr>\n",
       "      <th>500</th>\n",
       "      <td>0.660</td>\n",
       "      <td>0.765</td>\n",
       "      <td>0.753</td>\n",
       "      <td>0.684</td>\n",
       "      <td>0.851</td>\n",
       "    </tr>\n",
       "    <tr>\n",
       "      <th>600</th>\n",
       "      <td>0.638</td>\n",
       "      <td>0.775</td>\n",
       "      <td>0.772</td>\n",
       "      <td>0.724</td>\n",
       "      <td>0.854</td>\n",
       "    </tr>\n",
       "    <tr>\n",
       "      <th>700</th>\n",
       "      <td>0.607</td>\n",
       "      <td>0.775</td>\n",
       "      <td>0.779</td>\n",
       "      <td>0.755</td>\n",
       "      <td>0.857</td>\n",
       "    </tr>\n",
       "    <tr>\n",
       "      <th>800</th>\n",
       "      <td>0.567</td>\n",
       "      <td>0.781</td>\n",
       "      <td>0.785</td>\n",
       "      <td>0.765</td>\n",
       "      <td>0.861</td>\n",
       "    </tr>\n",
       "    <tr>\n",
       "      <th>900</th>\n",
       "      <td>0.520</td>\n",
       "      <td>0.786</td>\n",
       "      <td>0.792</td>\n",
       "      <td>0.776</td>\n",
       "      <td>0.866</td>\n",
       "    </tr>\n",
       "    <tr>\n",
       "      <th>1000</th>\n",
       "      <td>0.471</td>\n",
       "      <td>0.807</td>\n",
       "      <td>0.812</td>\n",
       "      <td>0.796</td>\n",
       "      <td>0.872</td>\n",
       "    </tr>\n",
       "  </tbody>\n",
       "</table>\n",
       "</div>"
      ],
      "text/plain": [
       "        loss  accuracy     f1  recall  roc_auc\n",
       "epoch                                         \n",
       "100    0.691     0.476  0.000   0.000    0.839\n",
       "200    0.688     0.508  0.115   0.061    0.849\n",
       "300    0.683     0.668  0.563   0.408    0.850\n",
       "400    0.674     0.754  0.723   0.612    0.849\n",
       "500    0.660     0.765  0.753   0.684    0.851\n",
       "600    0.638     0.775  0.772   0.724    0.854\n",
       "700    0.607     0.775  0.779   0.755    0.857\n",
       "800    0.567     0.781  0.785   0.765    0.861\n",
       "900    0.520     0.786  0.792   0.776    0.866\n",
       "1000   0.471     0.807  0.812   0.796    0.872"
      ]
     },
     "execution_count": 44,
     "metadata": {},
     "output_type": "execute_result"
    }
   ],
   "source": [
    "df_scores"
   ]
  },
  {
   "cell_type": "code",
   "execution_count": 45,
   "id": "3508256b",
   "metadata": {},
   "outputs": [
    {
     "data": {
      "text/plain": [
       "<sklearn.metrics._plot.confusion_matrix.ConfusionMatrixDisplay at 0x2966fe700>"
      ]
     },
     "execution_count": 45,
     "metadata": {},
     "output_type": "execute_result"
    },
    {
     "data": {
      "image/png": "[encoded data removed]",
      "text/plain": [
       "<Figure size 640x480 with 2 Axes>"
      ]
     },
     "metadata": {},
     "output_type": "display_data"
    }
   ],
   "source": [
    "cm = metrics.confusion_matrix(true, pred)\n",
    "disp = metrics.ConfusionMatrixDisplay(confusion_matrix=cm)\n",
    "disp.plot()"
   ]
  },
  {
   "cell_type": "markdown",
   "id": "76996d3a",
   "metadata": {},
   "source": [
    "# Sauvegarde des résultats\n",
    "---"
   ]
  },
  {
   "cell_type": "markdown",
   "id": "fb7949bc",
   "metadata": {},
   "source": [
    "# Conclusions\n",
    "---"
   ]
  },
  {
   "cell_type": "markdown",
   "id": "bd360655",
   "metadata": {},
   "source": [
    "# Perfs CPU\n",
    "---"
   ]
  },
  {
   "cell_type": "code",
   "execution_count": null,
   "id": "dbffc877",
   "metadata": {},
   "outputs": [],
   "source": []
  },
  {
   "cell_type": "markdown",
   "id": "9888c503",
   "metadata": {},
   "source": [
    "### 3. Training loop - CPU"
   ]
  },
  {
   "cell_type": "code",
   "execution_count": null,
   "id": "9cd4e3c6",
   "metadata": {},
   "outputs": [],
   "source": [
    "device = torch.device('cpu')\n",
    "model = LRModel(n_features)\n",
    "model.to(device)\n",
    "\n",
    "X_train=X_train.to(device)\n",
    "X_test=X_test.to(device)\n",
    "y_train=y_train.to(device)\n",
    "y_test=y_test.to(device)"
   ]
  },
  {
   "cell_type": "code",
   "execution_count": null,
   "id": "928bdce3",
   "metadata": {},
   "outputs": [],
   "source": [
    "%%time\n",
    "scores=[]\n",
    "for epoch in tqdm(range(num_epochs)):\n",
    "    # Forward pass and loss\n",
    "    y_pred = model(X_train)\n",
    "    loss = criterion(y_pred, y_train)\n",
    "\n",
    "    # Backward pass and update\n",
    "    loss.backward()\n",
    "    optimizer.step()\n",
    "\n",
    "    # zero grad before new step\n",
    "    optimizer.zero_grad()\n",
    "\n",
    "    if (epoch+1) % 100 == 0:\n",
    "        with torch.no_grad():\n",
    "            y_predicted = model(X_test)\n",
    "            y_predicted_cls = y_predicted.round()\n",
    "            pred = y_predicted.to('cpu').T.numpy().round()[0]\n",
    "            proba = y_predicted.to('cpu').T.numpy()[0]\n",
    "            true = y_test.to('cpu').T.numpy()[0]\n",
    "\n",
    "            accuracy = metrics.accuracy_score(true,pred)\n",
    "            f1 = metrics.f1_score(true,pred)\n",
    "            recall = metrics.recall_score(true,pred)\n",
    "            roc_auc = metrics.roc_auc_score(true,proba)\n",
    "            scores.append({\n",
    "                'epoch': epoch+1,\n",
    "                'loss': float(loss),\n",
    "                'accuracy': accuracy,\n",
    "                'f1': f1,\n",
    "                'recall': recall,\n",
    "                'roc_auc': roc_auc,\n",
    "            })"
   ]
  }
 ],
 "metadata": {
  "kernelspec": {
   "display_name": "Python 3 (ipykernel)",
   "language": "python",
   "name": "python3"
  },
  "language_info": {
   "codemirror_mode": {
    "name": "ipython",
    "version": 3
   },
   "file_extension": ".py",
   "mimetype": "text/x-python",
   "name": "python",
   "nbconvert_exporter": "python",
   "pygments_lexer": "ipython3",
   "version": "3.9.16"
  }
 },
 "nbformat": 4,
 "nbformat_minor": 5
}
