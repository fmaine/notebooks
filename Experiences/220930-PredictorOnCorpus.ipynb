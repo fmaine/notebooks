{
 "cells": [
  {
   "cell_type": "markdown",
   "id": "e3ec4689",
   "metadata": {},
   "source": [
    "# Application prédicteurs sur corpus\n",
    "---"
   ]
  },
  {
   "cell_type": "code",
   "execution_count": 1,
   "id": "5d0de4d7",
   "metadata": {},
   "outputs": [
    {
     "name": "stdout",
     "output_type": "stream",
     "text": [
      "/Users/fm/Desktop/Work/Patat\n"
     ]
    }
   ],
   "source": [
    "cd ../.."
   ]
  },
  {
   "cell_type": "code",
   "execution_count": 2,
   "id": "32256b0d",
   "metadata": {},
   "outputs": [],
   "source": [
    "import pandas as pd"
   ]
  },
  {
   "cell_type": "markdown",
   "id": "de6dc21a",
   "metadata": {},
   "source": [
    "## Chargements \n",
    "---"
   ]
  },
  {
   "cell_type": "markdown",
   "id": "ee89f6e3",
   "metadata": {},
   "source": [
    "### Corpus"
   ]
  },
  {
   "cell_type": "code",
   "execution_count": 3,
   "id": "05cde00c",
   "metadata": {},
   "outputs": [],
   "source": [
    "corpus_filename = '220927-CorpusNews.csv'"
   ]
  },
  {
   "cell_type": "code",
   "execution_count": null,
   "id": "82c08337",
   "metadata": {},
   "outputs": [],
   "source": [
    "df_corpus = pd.read_csv(f'data/corpus/{corpus_filename}')"
   ]
  },
  {
   "cell_type": "code",
   "execution_count": null,
   "id": "fb4c729d",
   "metadata": {},
   "outputs": [],
   "source": [
    "df_corpus.loc[:,'text']=df_corpus['title']+'\\n'+df_corpus['article']"
   ]
  },
  {
   "cell_type": "code",
   "execution_count": null,
   "id": "3dc18163",
   "metadata": {},
   "outputs": [],
   "source": [
    "df_corpus=df_corpus[df_corpus['text'].notna()]"
   ]
  },
  {
   "cell_type": "markdown",
   "id": "99135e2e",
   "metadata": {},
   "source": [
    "### Prédicteur"
   ]
  },
  {
   "cell_type": "code",
   "execution_count": null,
   "id": "97ed3ff9",
   "metadata": {},
   "outputs": [],
   "source": [
    "import pickle"
   ]
  },
  {
   "cell_type": "code",
   "execution_count": null,
   "id": "2ce5e55f",
   "metadata": {},
   "outputs": [],
   "source": [
    "pred_filename = 'data/predictors/220930-cv_lr.pp'\n",
    "with open(pred_filename,'rb') as file:\n",
    "    predictor = pickle.load(file) "
   ]
  },
  {
   "cell_type": "code",
   "execution_count": null,
   "id": "8fb2194d",
   "metadata": {},
   "outputs": [],
   "source": [
    "predictor"
   ]
  },
  {
   "cell_type": "markdown",
   "id": "76996d3a",
   "metadata": {},
   "source": [
    "## Prédictions sur le corpus\n",
    "---"
   ]
  },
  {
   "cell_type": "code",
   "execution_count": null,
   "id": "0c41777a",
   "metadata": {},
   "outputs": [],
   "source": [
    "#df_predict = df_corpus[['url','title','text']].sample(50)\n",
    "#df_predict = df_corpus[['url','title','text']]\n",
    "df_predict = df_corpus"
   ]
  },
  {
   "cell_type": "code",
   "execution_count": null,
   "id": "0db7fb69",
   "metadata": {},
   "outputs": [],
   "source": [
    "df_predict[df_predict['text'].isna()]"
   ]
  },
  {
   "cell_type": "code",
   "execution_count": null,
   "id": "963d4c1b",
   "metadata": {},
   "outputs": [],
   "source": [
    "%%time\n",
    "X = predictor['descriptor'].transform(df_predict['text'])"
   ]
  },
  {
   "cell_type": "code",
   "execution_count": null,
   "id": "8aa59073",
   "metadata": {},
   "outputs": [],
   "source": [
    "%%time\n",
    "df_predict['y'] = predictor['classifier'].predict(X)\n",
    "df_predict.loc[:,'y_proba'] = predictor['classifier'].predict_proba(X)[:,1]\n"
   ]
  },
  {
   "cell_type": "code",
   "execution_count": null,
   "id": "186ad2bd",
   "metadata": {},
   "outputs": [],
   "source": [
    "df_predict"
   ]
  },
  {
   "cell_type": "code",
   "execution_count": null,
   "id": "c320269d",
   "metadata": {},
   "outputs": [],
   "source": [
    "filename = 'data/predictions/220930-PredCorpus.csv'\n",
    "df_predict['y_proba']=df_predict['y_proba'].round(decimals=2)\n",
    "df_predict.sort_values('y_proba',ascending=False).to_csv(filename)"
   ]
  },
  {
   "cell_type": "markdown",
   "id": "fb7949bc",
   "metadata": {},
   "source": [
    "## Bricolages\n",
    "---"
   ]
  },
  {
   "cell_type": "code",
   "execution_count": null,
   "id": "3c064ae4",
   "metadata": {},
   "outputs": [],
   "source": [
    "df_predict"
   ]
  },
  {
   "cell_type": "code",
   "execution_count": null,
   "id": "b32c86a7",
   "metadata": {},
   "outputs": [],
   "source": [
    "df_predict.sort_values('y_proba',ascending=False)"
   ]
  },
  {
   "cell_type": "code",
   "execution_count": null,
   "id": "695ea400",
   "metadata": {},
   "outputs": [],
   "source": [
    "df_predict[df_predict['y_proba']>0.7]['site'].value_counts()"
   ]
  },
  {
   "cell_type": "code",
   "execution_count": null,
   "id": "05d318be",
   "metadata": {},
   "outputs": [],
   "source": [
    "df_predict2=df_predict[['site','url','title','y_proba']].sort_values('y_proba',ascending=False)"
   ]
  },
  {
   "cell_type": "code",
   "execution_count": null,
   "id": "a8b9ba91",
   "metadata": {},
   "outputs": [],
   "source": [
    "df_predict2.to_csv('data/predictions/220930-PredCorpusLite.csv',index=False,decimal=',')"
   ]
  },
  {
   "cell_type": "code",
   "execution_count": null,
   "id": "7f177e40",
   "metadata": {},
   "outputs": [],
   "source": []
  },
  {
   "cell_type": "code",
   "execution_count": null,
   "id": "c8a9479e",
   "metadata": {},
   "outputs": [],
   "source": []
  }
 ],
 "metadata": {
  "kernelspec": {
   "display_name": "Python 3 (ipykernel)",
   "language": "python",
   "name": "python3"
  },
  "language_info": {
   "codemirror_mode": {
    "name": "ipython",
    "version": 3
   },
   "file_extension": ".py",
   "mimetype": "text/x-python",
   "name": "python",
   "nbconvert_exporter": "python",
   "pygments_lexer": "ipython3",
   "version": "3.9.13"
  }
 },
 "nbformat": 4,
 "nbformat_minor": 5
}
