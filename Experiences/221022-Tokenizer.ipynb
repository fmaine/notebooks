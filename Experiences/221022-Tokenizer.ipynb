{
 "cells": [
  {
   "cell_type": "markdown",
   "id": "e3ec4689",
   "metadata": {},
   "source": [
    "# Plateforme Agnostique de Traitement et d'Analyse des Textes\n",
    "### Carnet d'expérimentation\n",
    "---\n",
    "\n",
    "## Sujet : Tokenizer\n",
    "\n",
    "---"
   ]
  },
  {
   "cell_type": "markdown",
   "id": "2601e626",
   "metadata": {},
   "source": [
    "## Observations et environnement\n",
    "---"
   ]
  },
  {
   "cell_type": "code",
   "execution_count": 1,
   "id": "5d0de4d7",
   "metadata": {},
   "outputs": [
    {
     "name": "stdout",
     "output_type": "stream",
     "text": [
      "/Users/fm/Desktop/Work/Patat\n"
     ]
    }
   ],
   "source": [
    "cd ../.."
   ]
  },
  {
   "cell_type": "code",
   "execution_count": 2,
   "id": "32256b0d",
   "metadata": {},
   "outputs": [],
   "source": [
    "import importlib\n",
    "import pandas as pd\n",
    "import seaborn as sns"
   ]
  },
  {
   "cell_type": "markdown",
   "id": "29618668",
   "metadata": {},
   "source": [
    "### Chargement des données"
   ]
  },
  {
   "cell_type": "code",
   "execution_count": 3,
   "id": "2f80b2c0",
   "metadata": {},
   "outputs": [],
   "source": [
    "article_filename = ''"
   ]
  },
  {
   "cell_type": "code",
   "execution_count": 4,
   "id": "05cde00c",
   "metadata": {},
   "outputs": [
    {
     "data": {
      "text/html": [
       "<div>\n",
       "<style scoped>\n",
       "    .dataframe tbody tr th:only-of-type {\n",
       "        vertical-align: middle;\n",
       "    }\n",
       "\n",
       "    .dataframe tbody tr th {\n",
       "        vertical-align: top;\n",
       "    }\n",
       "\n",
       "    .dataframe thead th {\n",
       "        text-align: right;\n",
       "    }\n",
       "</style>\n",
       "<table border=\"1\" class=\"dataframe\">\n",
       "  <thead>\n",
       "    <tr style=\"text-align: right;\">\n",
       "      <th></th>\n",
       "      <th>url</th>\n",
       "      <th>title</th>\n",
       "      <th>article</th>\n",
       "      <th>site</th>\n",
       "      <th>author</th>\n",
       "      <th>date_iso</th>\n",
       "      <th>url_h</th>\n",
       "      <th>c_count</th>\n",
       "    </tr>\n",
       "  </thead>\n",
       "  <tbody>\n",
       "    <tr>\n",
       "      <th>0</th>\n",
       "      <td>https://reseauinternational.net/tous-les-jeune...</td>\n",
       "      <td>Tous les jeunes, portez la nouvelle (russe)</td>\n",
       "      <td>par Pepe Escobar.\\nL’OCS à Samarcande et l’Ass...</td>\n",
       "      <td>reseauinternational.net</td>\n",
       "      <td>NaN</td>\n",
       "      <td>2022-09-30T00:00:00</td>\n",
       "      <td>f95a294c94ff76cc9626ae06300a8b38067f89cf</td>\n",
       "      <td>10366.0</td>\n",
       "    </tr>\n",
       "    <tr>\n",
       "      <th>1</th>\n",
       "      <td>https://reseauinternational.net/adhesion-a-la-...</td>\n",
       "      <td>Adhésion à la Russie : 93% pour le « oui » dan...</td>\n",
       "      <td>Dans les régions de Zaporijia et de Kherson, 9...</td>\n",
       "      <td>reseauinternational.net</td>\n",
       "      <td>NaN</td>\n",
       "      <td>2022-09-30T00:00:00</td>\n",
       "      <td>c924dab7ded47578d81c3ae46f8be0964b3c50f1</td>\n",
       "      <td>1607.0</td>\n",
       "    </tr>\n",
       "    <tr>\n",
       "      <th>2</th>\n",
       "      <td>https://lemediaen442.fr/onu-le-premier-ministr...</td>\n",
       "      <td>ONU – Le Premier ministre de Nouvelle-Zélande ...</td>\n",
       "      <td>L’argument principal de la ministre est que le...</td>\n",
       "      <td>lemediaen442.fr</td>\n",
       "      <td>NaN</td>\n",
       "      <td>2022-09-29T00:00:00</td>\n",
       "      <td>3d47a59ef99274fd9ee96c209cc2ab41d6e1f6bb</td>\n",
       "      <td>1444.0</td>\n",
       "    </tr>\n",
       "    <tr>\n",
       "      <th>3</th>\n",
       "      <td>https://www.francesoir.fr/societe-environnemen...</td>\n",
       "      <td>Compostage humain: les “funérailles vertes” ga...</td>\n",
       "      <td>Aux États-Unis, les différents gouvernements r...</td>\n",
       "      <td>www.francesoir.fr</td>\n",
       "      <td>Auteur(s)\\nFranceSoir</td>\n",
       "      <td>2022-09-28T13:15:00</td>\n",
       "      <td>0c0341a1f5fae820ee307cb54024df6b06a93d85</td>\n",
       "      <td>4040.0</td>\n",
       "    </tr>\n",
       "    <tr>\n",
       "      <th>4</th>\n",
       "      <td>https://www.breizh-info.com/2022/09/27/208410/...</td>\n",
       "      <td>Donatello : génie de la Renaissance</td>\n",
       "      <td>Portrait du sculpteur Donatello (1386-1466), p...</td>\n",
       "      <td>www.breizh-info.com</td>\n",
       "      <td>NaN</td>\n",
       "      <td>2022-09-27T00:00:00</td>\n",
       "      <td>fcce819327d0302c4cf5e3a8a43b54327ffb8e63</td>\n",
       "      <td>1145.0</td>\n",
       "    </tr>\n",
       "    <tr>\n",
       "      <th>...</th>\n",
       "      <td>...</td>\n",
       "      <td>...</td>\n",
       "      <td>...</td>\n",
       "      <td>...</td>\n",
       "      <td>...</td>\n",
       "      <td>...</td>\n",
       "      <td>...</td>\n",
       "      <td>...</td>\n",
       "    </tr>\n",
       "    <tr>\n",
       "      <th>77906</th>\n",
       "      <td>https://www.lelibrepenseur.org/une-histoire-vi...</td>\n",
       "      <td>Une histoire vieille comme le monde !</td>\n",
       "      <td>Certains veulent des preuves ! Ils ont raison....</td>\n",
       "      <td>www.lelibrepenseur.org</td>\n",
       "      <td>Par\\nAdmin</td>\n",
       "      <td>2010-05-04T00:00:00</td>\n",
       "      <td>8c7a6ecf46d47da1912884a0c0a2837c69f7ad19</td>\n",
       "      <td>NaN</td>\n",
       "    </tr>\n",
       "    <tr>\n",
       "      <th>77907</th>\n",
       "      <td>https://www.lelibrepenseur.org/actus/</td>\n",
       "      <td>Actus</td>\n",
       "      <td>Dernière vidéo !\\nIl était temps, enfin ! Je v...</td>\n",
       "      <td>www.lelibrepenseur.org</td>\n",
       "      <td>Par\\nuser</td>\n",
       "      <td>2007-07-07T00:00:00</td>\n",
       "      <td>d4d5a37a8ff545664bea75664c8d8695e70d0941</td>\n",
       "      <td>NaN</td>\n",
       "    </tr>\n",
       "    <tr>\n",
       "      <th>77908</th>\n",
       "      <td>https://www.lelibrepenseur.org/affiche-des-dec...</td>\n",
       "      <td>Affiche des décès et malaises de sportifs de h...</td>\n",
       "      <td>Un nombre inquiétant de sportifs de haut nivea...</td>\n",
       "      <td>www.lelibrepenseur.org</td>\n",
       "      <td>NaN</td>\n",
       "      <td>NaN</td>\n",
       "      <td>a175027896cf79e76dfad6409694fafacf1919b3</td>\n",
       "      <td>NaN</td>\n",
       "    </tr>\n",
       "    <tr>\n",
       "      <th>77909</th>\n",
       "      <td>https://www.lelibrepenseur.org/communaute/</td>\n",
       "      <td>Communauté</td>\n",
       "      <td>Notre Réseau Telegram et ses Groupes Secondair...</td>\n",
       "      <td>www.lelibrepenseur.org</td>\n",
       "      <td>NaN</td>\n",
       "      <td>NaN</td>\n",
       "      <td>6ba257c7b15dd68cadf7dc5d6d8c584db0f1792e</td>\n",
       "      <td>NaN</td>\n",
       "    </tr>\n",
       "    <tr>\n",
       "      <th>77910</th>\n",
       "      <td>https://www.lelibrepenseur.org/utilisation-des...</td>\n",
       "      <td>Utilisation des cookies sur notre site</td>\n",
       "      <td>Que sont les cookies ?\\n\\n\\nLes cookies sont d...</td>\n",
       "      <td>www.lelibrepenseur.org</td>\n",
       "      <td>NaN</td>\n",
       "      <td>NaN</td>\n",
       "      <td>7c725113f0c9a95c8269c8d7a271d253ae5ede99</td>\n",
       "      <td>NaN</td>\n",
       "    </tr>\n",
       "  </tbody>\n",
       "</table>\n",
       "<p>77911 rows × 8 columns</p>\n",
       "</div>"
      ],
      "text/plain": [
       "                                                     url  \\\n",
       "0      https://reseauinternational.net/tous-les-jeune...   \n",
       "1      https://reseauinternational.net/adhesion-a-la-...   \n",
       "2      https://lemediaen442.fr/onu-le-premier-ministr...   \n",
       "3      https://www.francesoir.fr/societe-environnemen...   \n",
       "4      https://www.breizh-info.com/2022/09/27/208410/...   \n",
       "...                                                  ...   \n",
       "77906  https://www.lelibrepenseur.org/une-histoire-vi...   \n",
       "77907              https://www.lelibrepenseur.org/actus/   \n",
       "77908  https://www.lelibrepenseur.org/affiche-des-dec...   \n",
       "77909         https://www.lelibrepenseur.org/communaute/   \n",
       "77910  https://www.lelibrepenseur.org/utilisation-des...   \n",
       "\n",
       "                                                   title  \\\n",
       "0            Tous les jeunes, portez la nouvelle (russe)   \n",
       "1      Adhésion à la Russie : 93% pour le « oui » dan...   \n",
       "2      ONU – Le Premier ministre de Nouvelle-Zélande ...   \n",
       "3      Compostage humain: les “funérailles vertes” ga...   \n",
       "4                    Donatello : génie de la Renaissance   \n",
       "...                                                  ...   \n",
       "77906              Une histoire vieille comme le monde !   \n",
       "77907                                              Actus   \n",
       "77908  Affiche des décès et malaises de sportifs de h...   \n",
       "77909                                         Communauté   \n",
       "77910             Utilisation des cookies sur notre site   \n",
       "\n",
       "                                                 article  \\\n",
       "0      par Pepe Escobar.\\nL’OCS à Samarcande et l’Ass...   \n",
       "1      Dans les régions de Zaporijia et de Kherson, 9...   \n",
       "2      L’argument principal de la ministre est que le...   \n",
       "3      Aux États-Unis, les différents gouvernements r...   \n",
       "4      Portrait du sculpteur Donatello (1386-1466), p...   \n",
       "...                                                  ...   \n",
       "77906  Certains veulent des preuves ! Ils ont raison....   \n",
       "77907  Dernière vidéo !\\nIl était temps, enfin ! Je v...   \n",
       "77908  Un nombre inquiétant de sportifs de haut nivea...   \n",
       "77909  Notre Réseau Telegram et ses Groupes Secondair...   \n",
       "77910  Que sont les cookies ?\\n\\n\\nLes cookies sont d...   \n",
       "\n",
       "                          site                 author             date_iso  \\\n",
       "0      reseauinternational.net                    NaN  2022-09-30T00:00:00   \n",
       "1      reseauinternational.net                    NaN  2022-09-30T00:00:00   \n",
       "2              lemediaen442.fr                    NaN  2022-09-29T00:00:00   \n",
       "3            www.francesoir.fr  Auteur(s)\\nFranceSoir  2022-09-28T13:15:00   \n",
       "4          www.breizh-info.com                    NaN  2022-09-27T00:00:00   \n",
       "...                        ...                    ...                  ...   \n",
       "77906   www.lelibrepenseur.org             Par\\nAdmin  2010-05-04T00:00:00   \n",
       "77907   www.lelibrepenseur.org              Par\\nuser  2007-07-07T00:00:00   \n",
       "77908   www.lelibrepenseur.org                    NaN                  NaN   \n",
       "77909   www.lelibrepenseur.org                    NaN                  NaN   \n",
       "77910   www.lelibrepenseur.org                    NaN                  NaN   \n",
       "\n",
       "                                          url_h  c_count  \n",
       "0      f95a294c94ff76cc9626ae06300a8b38067f89cf  10366.0  \n",
       "1      c924dab7ded47578d81c3ae46f8be0964b3c50f1   1607.0  \n",
       "2      3d47a59ef99274fd9ee96c209cc2ab41d6e1f6bb   1444.0  \n",
       "3      0c0341a1f5fae820ee307cb54024df6b06a93d85   4040.0  \n",
       "4      fcce819327d0302c4cf5e3a8a43b54327ffb8e63   1145.0  \n",
       "...                                         ...      ...  \n",
       "77906  8c7a6ecf46d47da1912884a0c0a2837c69f7ad19      NaN  \n",
       "77907  d4d5a37a8ff545664bea75664c8d8695e70d0941      NaN  \n",
       "77908  a175027896cf79e76dfad6409694fafacf1919b3      NaN  \n",
       "77909  6ba257c7b15dd68cadf7dc5d6d8c584db0f1792e      NaN  \n",
       "77910  7c725113f0c9a95c8269c8d7a271d253ae5ede99      NaN  \n",
       "\n",
       "[77911 rows x 8 columns]"
      ]
     },
     "execution_count": 4,
     "metadata": {},
     "output_type": "execute_result"
    }
   ],
   "source": [
    "import patat.db.article_db\n",
    "article_db = patat.db.article_db.ArticleDb(article_filename)\n",
    "article_db.df()"
   ]
  },
  {
   "cell_type": "markdown",
   "id": "26de4d29",
   "metadata": {},
   "source": [
    "## Expérience\n",
    "---"
   ]
  },
  {
   "cell_type": "markdown",
   "id": "f29d6c3a",
   "metadata": {},
   "source": [
    "### Réduction corpus"
   ]
  },
  {
   "cell_type": "code",
   "execution_count": 5,
   "id": "cbf49d63",
   "metadata": {},
   "outputs": [],
   "source": [
    "article_db._df['text'] = article_db._df['title'] + '\\n' + article_db._df['article']"
   ]
  },
  {
   "cell_type": "code",
   "execution_count": 6,
   "id": "09548045",
   "metadata": {},
   "outputs": [],
   "source": [
    "df_light = article_db.df().sample(10000, random_state=42)"
   ]
  },
  {
   "cell_type": "markdown",
   "id": "1a8c2438",
   "metadata": {},
   "source": [
    "### Filtrage Caractères Latin"
   ]
  },
  {
   "cell_type": "code",
   "execution_count": 7,
   "id": "150b6a86",
   "metadata": {},
   "outputs": [],
   "source": [
    "import re"
   ]
  },
  {
   "cell_type": "code",
   "execution_count": 8,
   "id": "32c1aad3",
   "metadata": {},
   "outputs": [],
   "source": [
    "latin_filter = r\"[\\u0000-\\u024F]+\"\n",
    "non_latin_filter = r\"[^\\u0000-\\u024F]+\""
   ]
  },
  {
   "cell_type": "code",
   "execution_count": 9,
   "id": "c1baedad",
   "metadata": {},
   "outputs": [],
   "source": [
    "text = 'الذي'"
   ]
  },
  {
   "cell_type": "code",
   "execution_count": 10,
   "id": "6f8e0be7",
   "metadata": {},
   "outputs": [],
   "source": [
    "text = 'dsqf qsdfdfs'"
   ]
  },
  {
   "cell_type": "code",
   "execution_count": 11,
   "id": "78e52664",
   "metadata": {},
   "outputs": [
    {
     "data": {
      "text/plain": [
       "'dsqf qsdfdfs'"
      ]
     },
     "execution_count": 11,
     "metadata": {},
     "output_type": "execute_result"
    }
   ],
   "source": [
    "re.sub(non_latin_filter,'',text)"
   ]
  },
  {
   "cell_type": "code",
   "execution_count": 12,
   "id": "0baaf7a6",
   "metadata": {},
   "outputs": [],
   "source": [
    "text = df_light['text'].iloc[0]"
   ]
  },
  {
   "cell_type": "markdown",
   "id": "3fff0827",
   "metadata": {},
   "source": [
    "### Tokenization regex"
   ]
  },
  {
   "cell_type": "code",
   "execution_count": null,
   "id": "9399cb04",
   "metadata": {},
   "outputs": [],
   "source": [
    "token_pattern = r'[^\\d\\W_][\\w][^\\d\\W_][\\w]+'"
   ]
  },
  {
   "cell_type": "markdown",
   "id": "9e247ef3",
   "metadata": {},
   "source": [
    "### nltk"
   ]
  },
  {
   "cell_type": "code",
   "execution_count": 62,
   "id": "f2a357c5",
   "metadata": {},
   "outputs": [],
   "source": [
    "from nltk.tokenize import word_tokenize, wordpunct_tokenize, sent_tokenize"
   ]
  },
  {
   "cell_type": "code",
   "execution_count": 38,
   "id": "76dc6f67",
   "metadata": {},
   "outputs": [
    {
     "data": {
      "text/plain": [
       "'Rana Plaza: des associations interpellent le quai d\\'Orsay après leur plainte contre Auchan\\nCinq ans après la catastrophe du Rana Plaza au Bangladesh, trois associations ont interpellé mardi le Quai d\\'Orsay lui réclamant des informations sur l\\'avancée de l\\'enquête après le dépôt de leur plainte contre Auchan pour \"pratiques commerciales trompeuses\".Le 10 juin 2015, les associations Sherpa, Peuples Solidaires et Collectif Ethique sur l’étiquette ont déposé une plainte devant le tribunal de grande instance de Lille contre ce géant de la distribution. \"Le juge d’instruction en charge du dossier a envoyé une commission rogatoire internationale demandant une enquête sur place, qui devait être transmise par la voie diplomatique au Bangladesh\", ont affirmé ces associations dans un communiqué. Mais \"cette volonté du juge d’avancer dans le dossier semble être bloquée au niveau du Ministère des affaires étrangères\", ont-elles avancé.Toutefois, selon le Quai d\\'Orsay, \"les autorités françaises coopèrent activement avec les autorités judiciaires et procèdent notamment aux transmissions requises par le magistrat instructeur\" afin de \"contribuer à la manifestation de la vérité après cet épouvantable drame\". \"La France doit donner l’exemple dans la lutte contre l’impunité des multinationales, et soutenir la justice dans la recherche de la vérité\", ont estimé les associations.Ces mêmes organisations avaient déjà déposé une plainte en avril 2014, qui a donné lieu à une enquête préliminaire, mais le dossier avait été classé sans suite en janvier 2015. Elles ont donc décidé de se constituer partie civile afin de porter l\\'affaire devant un juge d\\'instruction.L\\'effondrement du Rana Plaza, un immeuble abritant des ateliers de confection, situé à Dacca, au Bangladesh, avait provoqué la mort de 1.138 ouvriers textiles et blessé plus de 2.000 autres en 2013.Cette catastrophe avait mis en lumière les conditions de sécurité déplorables dans les ateliers.Après la tragédie, ONG et syndicats avaient dénoncé l\\'attitude de 29 chaînes de distribution, dont Auchan, soupçonnées d\\'avoir sous-traité leur production à un moment ou à un autre au Rana Plaza.'"
      ]
     },
     "execution_count": 38,
     "metadata": {},
     "output_type": "execute_result"
    }
   ],
   "source": [
    "text"
   ]
  },
  {
   "cell_type": "code",
   "execution_count": null,
   "id": "3b009665",
   "metadata": {},
   "outputs": [],
   "source": []
  },
  {
   "cell_type": "code",
   "execution_count": 64,
   "id": "cfbfc8f3",
   "metadata": {},
   "outputs": [],
   "source": [
    "text = 'M. François san'"
   ]
  },
  {
   "cell_type": "code",
   "execution_count": 68,
   "id": "e583e96a",
   "metadata": {},
   "outputs": [],
   "source": [
    "text = df_light['text'].iloc[0]"
   ]
  },
  {
   "cell_type": "code",
   "execution_count": 66,
   "id": "6657aa6f",
   "metadata": {},
   "outputs": [
    {
     "ename": "NameError",
     "evalue": "name 'Punkt_tokenize' is not defined",
     "output_type": "error",
     "traceback": [
      "\u001b[0;31m---------------------------------------------------------------------------\u001b[0m",
      "\u001b[0;31mNameError\u001b[0m                                 Traceback (most recent call last)",
      "Input \u001b[0;32mIn [66]\u001b[0m, in \u001b[0;36m<cell line: 1>\u001b[0;34m()\u001b[0m\n\u001b[0;32m----> 1\u001b[0m \u001b[43mPunkt_tokenize\u001b[49m(text)\n",
      "\u001b[0;31mNameError\u001b[0m: name 'Punkt_tokenize' is not defined"
     ]
    }
   ],
   "source": [
    "Punkt_tokenize(text)"
   ]
  },
  {
   "cell_type": "code",
   "execution_count": 77,
   "id": "c5825603",
   "metadata": {},
   "outputs": [],
   "source": [
    "words = word_tokenize(text.lower(),language='french')\n",
    "sents = sent_tokenize(text,language='french')\n",
    "wordpuncts = wordpunct_tokenize(text)"
   ]
  },
  {
   "cell_type": "code",
   "execution_count": 78,
   "id": "e4af9936",
   "metadata": {},
   "outputs": [
    {
     "data": {
      "text/plain": [
       "['rana',\n",
       " 'plaza',\n",
       " ':',\n",
       " 'des',\n",
       " 'associations',\n",
       " 'interpellent',\n",
       " 'le',\n",
       " 'quai',\n",
       " \"d'orsay\",\n",
       " 'après',\n",
       " 'leur',\n",
       " 'plainte',\n",
       " 'contre',\n",
       " 'auchan',\n",
       " 'cinq',\n",
       " 'ans',\n",
       " 'après',\n",
       " 'la',\n",
       " 'catastrophe',\n",
       " 'du',\n",
       " 'rana',\n",
       " 'plaza',\n",
       " 'au',\n",
       " 'bangladesh',\n",
       " ',',\n",
       " 'trois',\n",
       " 'associations',\n",
       " 'ont',\n",
       " 'interpellé',\n",
       " 'mardi',\n",
       " 'le',\n",
       " 'quai',\n",
       " \"d'orsay\",\n",
       " 'lui',\n",
       " 'réclamant',\n",
       " 'des',\n",
       " 'informations',\n",
       " 'sur',\n",
       " \"l'avancée\",\n",
       " 'de',\n",
       " \"l'enquête\",\n",
       " 'après',\n",
       " 'le',\n",
       " 'dépôt',\n",
       " 'de',\n",
       " 'leur',\n",
       " 'plainte',\n",
       " 'contre',\n",
       " 'auchan',\n",
       " 'pour',\n",
       " '``',\n",
       " 'pratiques',\n",
       " 'commerciales',\n",
       " 'trompeuses',\n",
       " \"''\",\n",
       " '.le',\n",
       " '10',\n",
       " 'juin',\n",
       " '2015',\n",
       " ',',\n",
       " 'les',\n",
       " 'associations',\n",
       " 'sherpa',\n",
       " ',',\n",
       " 'peuples',\n",
       " 'solidaires',\n",
       " 'et',\n",
       " 'collectif',\n",
       " 'ethique',\n",
       " 'sur',\n",
       " 'l',\n",
       " '’',\n",
       " 'étiquette',\n",
       " 'ont',\n",
       " 'déposé',\n",
       " 'une',\n",
       " 'plainte',\n",
       " 'devant',\n",
       " 'le',\n",
       " 'tribunal',\n",
       " 'de',\n",
       " 'grande',\n",
       " 'instance',\n",
       " 'de',\n",
       " 'lille',\n",
       " 'contre',\n",
       " 'ce',\n",
       " 'géant',\n",
       " 'de',\n",
       " 'la',\n",
       " 'distribution',\n",
       " '.',\n",
       " '``',\n",
       " 'le',\n",
       " 'juge',\n",
       " 'd',\n",
       " '’',\n",
       " 'instruction',\n",
       " 'en',\n",
       " 'charge',\n",
       " 'du',\n",
       " 'dossier',\n",
       " 'a',\n",
       " 'envoyé',\n",
       " 'une',\n",
       " 'commission',\n",
       " 'rogatoire',\n",
       " 'internationale',\n",
       " 'demandant',\n",
       " 'une',\n",
       " 'enquête',\n",
       " 'sur',\n",
       " 'place',\n",
       " ',',\n",
       " 'qui',\n",
       " 'devait',\n",
       " 'être',\n",
       " 'transmise',\n",
       " 'par',\n",
       " 'la',\n",
       " 'voie',\n",
       " 'diplomatique',\n",
       " 'au',\n",
       " 'bangladesh',\n",
       " \"''\",\n",
       " ',',\n",
       " 'ont',\n",
       " 'affirmé',\n",
       " 'ces',\n",
       " 'associations',\n",
       " 'dans',\n",
       " 'un',\n",
       " 'communiqué',\n",
       " '.',\n",
       " 'mais',\n",
       " '``',\n",
       " 'cette',\n",
       " 'volonté',\n",
       " 'du',\n",
       " 'juge',\n",
       " 'd',\n",
       " '’',\n",
       " 'avancer',\n",
       " 'dans',\n",
       " 'le',\n",
       " 'dossier',\n",
       " 'semble',\n",
       " 'être',\n",
       " 'bloquée',\n",
       " 'au',\n",
       " 'niveau',\n",
       " 'du',\n",
       " 'ministère',\n",
       " 'des',\n",
       " 'affaires',\n",
       " 'étrangères',\n",
       " \"''\",\n",
       " ',',\n",
       " 'ont-elles',\n",
       " 'avancé.toutefois',\n",
       " ',',\n",
       " 'selon',\n",
       " 'le',\n",
       " 'quai',\n",
       " \"d'orsay\",\n",
       " ',',\n",
       " '``',\n",
       " 'les',\n",
       " 'autorités',\n",
       " 'françaises',\n",
       " 'coopèrent',\n",
       " 'activement',\n",
       " 'avec',\n",
       " 'les',\n",
       " 'autorités',\n",
       " 'judiciaires',\n",
       " 'et',\n",
       " 'procèdent',\n",
       " 'notamment',\n",
       " 'aux',\n",
       " 'transmissions',\n",
       " 'requises',\n",
       " 'par',\n",
       " 'le',\n",
       " 'magistrat',\n",
       " 'instructeur',\n",
       " \"''\",\n",
       " 'afin',\n",
       " 'de',\n",
       " '``',\n",
       " 'contribuer',\n",
       " 'à',\n",
       " 'la',\n",
       " 'manifestation',\n",
       " 'de',\n",
       " 'la',\n",
       " 'vérité',\n",
       " 'après',\n",
       " 'cet',\n",
       " 'épouvantable',\n",
       " 'drame',\n",
       " \"''\",\n",
       " '.',\n",
       " '``',\n",
       " 'la',\n",
       " 'france',\n",
       " 'doit',\n",
       " 'donner',\n",
       " 'l',\n",
       " '’',\n",
       " 'exemple',\n",
       " 'dans',\n",
       " 'la',\n",
       " 'lutte',\n",
       " 'contre',\n",
       " 'l',\n",
       " '’',\n",
       " 'impunité',\n",
       " 'des',\n",
       " 'multinationales',\n",
       " ',',\n",
       " 'et',\n",
       " 'soutenir',\n",
       " 'la',\n",
       " 'justice',\n",
       " 'dans',\n",
       " 'la',\n",
       " 'recherche',\n",
       " 'de',\n",
       " 'la',\n",
       " 'vérité',\n",
       " \"''\",\n",
       " ',',\n",
       " 'ont',\n",
       " 'estimé',\n",
       " 'les',\n",
       " 'associations.ces',\n",
       " 'mêmes',\n",
       " 'organisations',\n",
       " 'avaient',\n",
       " 'déjà',\n",
       " 'déposé',\n",
       " 'une',\n",
       " 'plainte',\n",
       " 'en',\n",
       " 'avril',\n",
       " '2014',\n",
       " ',',\n",
       " 'qui',\n",
       " 'a',\n",
       " 'donné',\n",
       " 'lieu',\n",
       " 'à',\n",
       " 'une',\n",
       " 'enquête',\n",
       " 'préliminaire',\n",
       " ',',\n",
       " 'mais',\n",
       " 'le',\n",
       " 'dossier',\n",
       " 'avait',\n",
       " 'été',\n",
       " 'classé',\n",
       " 'sans',\n",
       " 'suite',\n",
       " 'en',\n",
       " 'janvier',\n",
       " '2015.',\n",
       " 'elles',\n",
       " 'ont',\n",
       " 'donc',\n",
       " 'décidé',\n",
       " 'de',\n",
       " 'se',\n",
       " 'constituer',\n",
       " 'partie',\n",
       " 'civile',\n",
       " 'afin',\n",
       " 'de',\n",
       " 'porter',\n",
       " \"l'affaire\",\n",
       " 'devant',\n",
       " 'un',\n",
       " 'juge',\n",
       " \"d'instruction.l'effondrement\",\n",
       " 'du',\n",
       " 'rana',\n",
       " 'plaza',\n",
       " ',',\n",
       " 'un',\n",
       " 'immeuble',\n",
       " 'abritant',\n",
       " 'des',\n",
       " 'ateliers',\n",
       " 'de',\n",
       " 'confection',\n",
       " ',',\n",
       " 'situé',\n",
       " 'à',\n",
       " 'dacca',\n",
       " ',',\n",
       " 'au',\n",
       " 'bangladesh',\n",
       " ',',\n",
       " 'avait',\n",
       " 'provoqué',\n",
       " 'la',\n",
       " 'mort',\n",
       " 'de',\n",
       " '1.138',\n",
       " 'ouvriers',\n",
       " 'textiles',\n",
       " 'et',\n",
       " 'blessé',\n",
       " 'plus',\n",
       " 'de',\n",
       " '2.000',\n",
       " 'autres',\n",
       " 'en',\n",
       " '2013.cette',\n",
       " 'catastrophe',\n",
       " 'avait',\n",
       " 'mis',\n",
       " 'en',\n",
       " 'lumière',\n",
       " 'les',\n",
       " 'conditions',\n",
       " 'de',\n",
       " 'sécurité',\n",
       " 'déplorables',\n",
       " 'dans',\n",
       " 'les',\n",
       " 'ateliers.après',\n",
       " 'la',\n",
       " 'tragédie',\n",
       " ',',\n",
       " 'ong',\n",
       " 'et',\n",
       " 'syndicats',\n",
       " 'avaient',\n",
       " 'dénoncé',\n",
       " \"l'attitude\",\n",
       " 'de',\n",
       " '29',\n",
       " 'chaînes',\n",
       " 'de',\n",
       " 'distribution',\n",
       " ',',\n",
       " 'dont',\n",
       " 'auchan',\n",
       " ',',\n",
       " 'soupçonnées',\n",
       " \"d'avoir\",\n",
       " 'sous-traité',\n",
       " 'leur',\n",
       " 'production',\n",
       " 'à',\n",
       " 'un',\n",
       " 'moment',\n",
       " 'ou',\n",
       " 'à',\n",
       " 'un',\n",
       " 'autre',\n",
       " 'au',\n",
       " 'rana',\n",
       " 'plaza',\n",
       " '.']"
      ]
     },
     "execution_count": 78,
     "metadata": {},
     "output_type": "execute_result"
    }
   ],
   "source": [
    "words"
   ]
  },
  {
   "cell_type": "markdown",
   "id": "ba0834f1",
   "metadata": {},
   "source": [
    "## Mesure et observation des résultats\n",
    "---"
   ]
  },
  {
   "cell_type": "code",
   "execution_count": 23,
   "id": "2a4d001a",
   "metadata": {},
   "outputs": [],
   "source": [
    "import patat.util.text"
   ]
  },
  {
   "cell_type": "code",
   "execution_count": 29,
   "id": "b8432af8",
   "metadata": {},
   "outputs": [
    {
     "data": {
      "text/plain": [
       "<module 'patat.util.text' from '/Users/fm/Desktop/Work/Patat/patat/util/text.py'>"
      ]
     },
     "execution_count": 29,
     "metadata": {},
     "output_type": "execute_result"
    }
   ],
   "source": [
    "importlib.reload(patat.util.text)"
   ]
  },
  {
   "cell_type": "code",
   "execution_count": 30,
   "id": "bee49d50",
   "metadata": {},
   "outputs": [
    {
     "data": {
      "text/plain": [
       "' '"
      ]
     },
     "execution_count": 30,
     "metadata": {},
     "output_type": "execute_result"
    }
   ],
   "source": [
    "patat.util.text.get_latin('الذي')"
   ]
  },
  {
   "cell_type": "code",
   "execution_count": 32,
   "id": "0040c9bf",
   "metadata": {},
   "outputs": [
    {
     "data": {
      "text/plain": [
       "'Tous les jeunes, portez la nouvelle (russe)\\npar Pepe Escobar.\\nL OCS à Samarcande et l Assemblée générale des Nations unies ont démontré que la quasi-totalité des pays du Sud hors de l OTANistan, ne diabolisent pas la Russie.\\nLes plaques tectoniques géopolitiques se déplacent et se balancent, et le son est entendu dans le monde entier, alors que les petits oursons jumeaux, la RPD et la RPL, ainsi que Kherson et Zaporijia, votent pour leurs référendums. Fait irrémédiable : à la fin de la semaine prochaine, la Russie sera très certainement en passe d ajouter plus de 100 000 km2 et plus de 5 millions de personnes à la Fédération.\\nDenis Pouchiline, chef de la RPD, a résumé la situation : « Nous rentrons à la maison ». Les bébés ours rentrent chez Maman.\\nSi l on ajoute à cela la mobilisation partielle de près de 300 000 réservistes russes   qui n est sans doute qu une première phase   les conséquences de cette mobilisation sont immenses. Exit le précédent format souple de l opération militaire spéciale (OMS) : entrez dans une guerre cinétique sérieuse, et non hybride, contre tout acteur, vassal ou autre, qui ose attaquer le territoire russe.\\nIl n y a qu une très courte fenêtre de crise/opportunité provoquée par la Chine pour que l Occident collectif, ou l OTAN, négocie. Ils ne le feront pas. Même si toute personne ayant un QI supérieur à la température ambiante sait que la seule façon pour l Empire du chaos/du mensonge/du pillage de « gagner »   en dehors de la couverture de The Economist   serait de lancer une rafale d armes nucléaires tactiques en première frappe, ce qui entraînerait une réponse russe dévastatrice.\\nLe Kremlin le sait   le président Poutine y a publiquement fait allusion ; l état-major russe le sait ; les Chinois le savent (et ont appelé, également publiquement, à des négociations).\\nAu lieu de cela, nous avons une russophobie hystérique qui atteint un paroxysme. Et de la part des vassaux pris au dépourvu, une boue extra toxique de peur et de dégoût.\\nLes implications ont été traitées de manière pointue et rationnelle sur The Saker et par Andrei Martyanov. Dans le domaine de « l influence » sur les réseaux sociaux   un élément clé de la guerre hybride   un divertissement bon marché a été fourni par tout le monde, des eurocrates effrayés aux généraux américains à la retraite menaçant d une « frappe dévastatrice » contre la flotte de la mer Noire « si Vladimir Poutine utilise des armes nucléaires en Ukraine ».\\nL un de ces spécimens n est qu un simple agent de relations publiques pour un groupe de réflexion atlantiste. Le chef adjoint du Conseil de sécurité russe, Dmitri Medvedev, désormais totalement débranché, s est débarrassé de lui comme il se doit : « Les idiots retraités portant des galons de généraux n ont pas besoin de nous effrayer en parlant d une frappe de l OTAN sur la Crimée ».\\nOn s affole dans un rêve éveillé lunaire ? Oh oui. Des rêves humides sordides, dépourvus de l éclat de Bowie.\\nLa Maskirovka rencontre Sun Tzu\\nLa nouvelle stratégie de Moscou porte la maskirovka   masquer, feinter, tromper l ennemi   à un autre niveau, en laissant tomber le masque et les gants de velours. Maintenant, tout est clair : c est du Sun Tzu turbo-chargé (« Que vos plans soient sombres et impénétrables comme la nuit, et quand vous bougez, frappez comme l éclair »).\\nIl y aura beaucoup d éclairs sur le champ de bataille ukrainien. C est l aboutissement d un processus qui a débuté à Samarcande, lors du sommet de l OCS la semaine dernière. Selon des sources diplomatiques, Poutine et Xi Jinping ont eu une conversation très sérieuse. Xi a posé des questions difficiles   comme dans « vous devez en finir »   et Poutine a expliqué de manière argumentée comment les choses allaient passer au niveau supérieur.\\nYoda Patrouchev s est rendu en Chine immédiatement après   rencontrant son homologue Yang Jiechi, chef de la Commission des Affaires étrangères, et le secrétaire du Comité politique et juridique central, Guo Shengkun.\\nÀ la suite de Samarcande, Patrouchev a expliqué comment Moscou aidera militairement Pékin lorsque l Empire tentera un coup tordu sur le prochain champ de bataille : l Asie-Pacifique. Cela devrait se faire dans le cadre de l OCS. Il est important de noter que les réunions de Patrouchev ont été demandées par les Chinois.\\nLe partenariat stratégique entre la Russie et la Chine est donc sur le point d aboutir à une coopération à part entière avant que les choses ne se compliquent en mer de Chine méridionale. C est comme si la Russie et la Chine étaient sur le point de créer leur propre OTSC.\\nEt cela se produit alors même que les dirigeants chinois continuent d affirmer   principalement en privé   que la guerre dans les régions frontalières occidentales de la Russie est très mauvaise pour les affaires (BRI, UEE, OCS, BRICS+) et qu il faut y mettre fin dès que possible.\\nLe problème, c est qu il n est pas possible d y mettre un terme rapidement. Le ministre des Affaires étrangères Lavrov, à New York pour l Assemblée générale des Nations unies, a souligné :\\n« L Ukraine a fini par devenir une sorte d État totalitaire nazi »   soutenu inconditionnellement par l Occident collectif.\\nL OTANistan a, comme on pouvait s y attendre, intensifié sa tactique depuis l absence de réponse à la demande russe d une discussion sérieuse sur l indivisibilité de la sécurité, fin 2021 : il a continué de bombarder le Donbass.\\nCela ne pouvait plus être toléré par le Kremlin et l opinion publique russe. D où la mobilisation partielle   proposée avec force par les siloviki et le Conseil de sécurité depuis un certain temps déjà, avec en première ligne Kostyukov au GRU, Naryshkin au SVR et Bortnikov au FSB.\\nLe symbolisme est fort : après tant d années, Moscou s engage enfin pleinement à soutenir le Donbass jusqu à ce que les bébés ours viennent définitivement rejoindre leur maman.\\nDes rumeurs   non confirmées   circulent à Moscou selon lesquelles la décision a été accélérée parce que le GRU dispose d informations selon lesquelles les Américains transféreront bientôt à Kiev des missiles à longue portée capables de frapper les villes russes. Il s agit là d une ligne rouge pour le Kremlin, d où la déclaration expresse de Poutine selon laquelle toutes les armes disponibles dans le puissant arsenal russe seront utilisées pour protéger la patrie.\\nLa ligne rouge est encore plus pertinente que la contre-offensive totale de Kiev, tant annoncée, qui ne pourrait avoir lieu qu au printemps 2023. Avec la mobilisation partielle, la Russie peut compter sur un nouveau lot de troupes fraîches prêtes pour la guerre d ici la fin de l année. L avantage numérique ukrainien tant vanté sera bientôt réduit à néant.\\nDes esclaves fredonnant « Das Rheingold »\\nLe tableau général de l hiver dévoilera donc beaucoup moins de lenteur   la tactique dominante jusqu à présent   et beaucoup plus de manœuvres de guerre à grande échelle et de frappes dévastatrices contre les infrastructures ukrainiennes.\\nPendant ce temps, l Europe peut devenir sombre et glaciale, flirtant avec un retour au Moyen Âge, mais les seigneurs impériaux de la guerre refuseront toujours de négocier. Le Kremlin et le RGS s en moquent éperdument. Parce que l opinion publique russe comprend très majoritairement la situation dans son ensemble. L Ukraine n est qu un pion dans leur jeu   et ce qu « ils » veulent, c est détruire et piller la Russie.\\nLe ministre de la Défense Choïgu l a exprimé d une manière   factuelle   que même un enfant peut comprendre. La Russie combat l Occident collectif ; les centres de commandement occidentaux à Kiev dirigent le spectacle ; et toute la panoplie des satellites militaires et « civils » de l OTAN est mobilisée contre la Russie.\\nMaintenant, c est déjà clair. Si ces centres de commandement de l OTAN disent à Kiev de frapper le territoire russe après les référendums, nous aurons la décimation des « centres de décision » promise par Poutine. Et il en va de même pour les satellites.\\nC est peut-être ce que les RGS voulaient faire depuis le début. Maintenant, ils peuvent enfin le mettre en œuvre, grâce au soutien populaire sur le front intérieur. Ce facteur crucial est ce que les « renseignements » de l OTAN ne peuvent tout simplement pas comprendre et/ou sont incapables d évaluer de manière professionnelle.\\nL ancien conseiller du Pentagone pendant l administration Trump, le colonel Douglas Macgregor, une voix extrêmement rare de bon sens dans le Beltway, comprend totalement les enjeux : « La Russie contrôle déjà le territoire qui produit 95% du PIB ukrainien. Elle n a pas besoin de pousser plus à l ouest ». Le Donbass sera entièrement libéré et la prochaine étape sera Odessa. Moscou n est « pas pressé ». Les Russes ne sont rien d autre que méthodiques et délibérés. Les forces ukrainiennes se vident de leur sang en enchaînant contre-attaque sur contre-attaque. Pourquoi se précipiter ? »\\nL OCS à Samarcande et l Assemblée générale de l ONU ont amplement démontré comment la quasi-totalité des pays du Sud en dehors de l OTANistan ne diabolisent pas la Russie, comprennent la position de la Russie, et en profitent même, comme la Chine et l Inde qui achètent des tonnes de gaz et paient en roubles.\\nEt puis il y a le remaniement euro/dollar : pour sauver le dollar américain, l Empire brise l euro. C est sans doute le jeu de pouvoir du gouvernement américain et de la Fed pour couper l UE   surtout l Allemagne   de l énergie russe bon marché en organisant une démolition contrôlée de l économie européenne et de sa monnaie.\\nPourtant, les stupides eurocrates sont si cosmiquement incompétents qu ils n ont rien vu venir. Alors maintenant, ils feraient mieux de commencer à fredonner « Das Rheingold » jusqu à une renaissance du Moyen-Âge « hello darkness, my old friend ».\\nDans le registre des Monty Python, le sketch se déroulerait comme un Poutine maléfique dirigeant le naufrage de l économie et de l industrie européennes, obligeant ensuite les Européens à donner toutes leurs armes à l Ukraine, puis laissant l OTAN échouée dans le brouillard, hurlant des platitudes désespérées. À la fin, Poutine se débarrasse de son masque   après tout, il s agit de maskirovka   et révèle son véritable visage de suspect habituel.\\nTous les jeunes, portez la nouvelle (russe) : c est parti. C est le moment de frapper comme l éclair.\\nPepe Escobar\\nsource : Strategic Culture Foundation\\ntraduction Réseau International'"
      ]
     },
     "execution_count": 32,
     "metadata": {},
     "output_type": "execute_result"
    }
   ],
   "source": [
    "patat.util.text.get_latin(article_db.df()['text'].iloc[0])"
   ]
  },
  {
   "cell_type": "markdown",
   "id": "76996d3a",
   "metadata": {},
   "source": [
    "## Sauvegarde des résultats\n",
    "---"
   ]
  },
  {
   "cell_type": "code",
   "execution_count": null,
   "id": "827f60e3",
   "metadata": {},
   "outputs": [],
   "source": []
  },
  {
   "cell_type": "markdown",
   "id": "fb7949bc",
   "metadata": {},
   "source": [
    "## Conclusions\n",
    "---"
   ]
  },
  {
   "cell_type": "markdown",
   "id": "bd06b261",
   "metadata": {},
   "source": [
    "- Résultat : OK"
   ]
  },
  {
   "cell_type": "markdown",
   "id": "bd360655",
   "metadata": {},
   "source": [
    "## Bricolages\n",
    "---"
   ]
  },
  {
   "cell_type": "code",
   "execution_count": 34,
   "id": "3076f1c3",
   "metadata": {},
   "outputs": [],
   "source": [
    "import re"
   ]
  },
  {
   "cell_type": "code",
   "execution_count": 43,
   "id": "c0da52f3",
   "metadata": {},
   "outputs": [],
   "source": [
    "regex = r'[^\\d\\W][\\w]+'"
   ]
  },
  {
   "cell_type": "code",
   "execution_count": 44,
   "id": "155b1b61",
   "metadata": {},
   "outputs": [
    {
     "data": {
      "text/plain": [
       "<re.Match object; span=(0, 5), match='Hello'>"
      ]
     },
     "execution_count": 44,
     "metadata": {},
     "output_type": "execute_result"
    }
   ],
   "source": [
    "re.match(regex,'Hello')"
   ]
  },
  {
   "cell_type": "code",
   "execution_count": null,
   "id": "260888cb",
   "metadata": {},
   "outputs": [],
   "source": []
  }
 ],
 "metadata": {
  "kernelspec": {
   "display_name": "Python 3 (ipykernel)",
   "language": "python",
   "name": "python3"
  },
  "language_info": {
   "codemirror_mode": {
    "name": "ipython",
    "version": 3
   },
   "file_extension": ".py",
   "mimetype": "text/x-python",
   "name": "python",
   "nbconvert_exporter": "python",
   "pygments_lexer": "ipython3",
   "version": "3.9.13"
  }
 },
 "nbformat": 4,
 "nbformat_minor": 5
}
