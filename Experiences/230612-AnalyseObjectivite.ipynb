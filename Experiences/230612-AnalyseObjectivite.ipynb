{
 "cells": [
  {
   "cell_type": "markdown",
   "id": "e3ec4689",
   "metadata": {},
   "source": [
    "# Plateforme Agnostique de Traitement et d'Analyse des Textes\n",
    "### Carnet d'expérimentation\n",
    "---\n",
    "\n",
    "## Sujet : Analyse des tests d'objectivité\n",
    "\n",
    "---"
   ]
  },
  {
   "cell_type": "markdown",
   "id": "2601e626",
   "metadata": {},
   "source": [
    "# Initialisations"
   ]
  },
  {
   "cell_type": "code",
   "execution_count": 1,
   "id": "5d0de4d7",
   "metadata": {},
   "outputs": [
    {
     "name": "stdout",
     "output_type": "stream",
     "text": [
      "/Volumes/Geek/Work/Patat\n"
     ]
    }
   ],
   "source": [
    "cd ../.."
   ]
  },
  {
   "cell_type": "code",
   "execution_count": 2,
   "id": "32256b0d",
   "metadata": {},
   "outputs": [],
   "source": [
    "import importlib\n",
    "import pandas as pd\n",
    "import seaborn as sns"
   ]
  },
  {
   "cell_type": "markdown",
   "id": "560f3591",
   "metadata": {},
   "source": [
    "# Chargement compilation des tests"
   ]
  },
  {
   "cell_type": "code",
   "execution_count": 3,
   "id": "f0181696",
   "metadata": {},
   "outputs": [],
   "source": [
    "filename = 'data/tmp/230612-CompilationLabels.csv'"
   ]
  },
  {
   "cell_type": "code",
   "execution_count": 4,
   "id": "623bce80",
   "metadata": {},
   "outputs": [],
   "source": [
    "df_obs = pd.read_csv(filename,decimal=',')"
   ]
  },
  {
   "cell_type": "code",
   "execution_count": 5,
   "id": "4b338e59",
   "metadata": {},
   "outputs": [
    {
     "data": {
      "text/html": [
       "<div>\n",
       "<style scoped>\n",
       "    .dataframe tbody tr th:only-of-type {\n",
       "        vertical-align: middle;\n",
       "    }\n",
       "\n",
       "    .dataframe tbody tr th {\n",
       "        vertical-align: top;\n",
       "    }\n",
       "\n",
       "    .dataframe thead th {\n",
       "        text-align: right;\n",
       "    }\n",
       "</style>\n",
       "<table border=\"1\" class=\"dataframe\">\n",
       "  <thead>\n",
       "    <tr style=\"text-align: right;\">\n",
       "      <th></th>\n",
       "      <th>source</th>\n",
       "      <th>observateur</th>\n",
       "      <th>url</th>\n",
       "      <th>infox</th>\n",
       "      <th>entites_nommees</th>\n",
       "      <th>ouverture_esprit</th>\n",
       "      <th>faits</th>\n",
       "      <th>opinions</th>\n",
       "      <th>propos_raportes</th>\n",
       "      <th>sources_citees</th>\n",
       "      <th>fausse_nouvelle</th>\n",
       "      <th>insinuations</th>\n",
       "      <th>exageration</th>\n",
       "      <th>inverifiable</th>\n",
       "      <th>titre_decale</th>\n",
       "      <th>cherry_picking</th>\n",
       "      <th>justification infox</th>\n",
       "      <th>remarque observatoire</th>\n",
       "      <th>commentaire</th>\n",
       "      <th>remarque</th>\n",
       "    </tr>\n",
       "  </thead>\n",
       "  <tbody>\n",
       "  </tbody>\n",
       "</table>\n",
       "</div>"
      ],
      "text/plain": [
       "Empty DataFrame\n",
       "Columns: [source, observateur, url, infox, entites_nommees, ouverture_esprit, faits, opinions, propos_raportes, sources_citees, fausse_nouvelle, insinuations, exageration, inverifiable, titre_decale, cherry_picking, justification infox, remarque observatoire, commentaire, remarque]\n",
       "Index: []"
      ]
     },
     "execution_count": 5,
     "metadata": {},
     "output_type": "execute_result"
    }
   ],
   "source": [
    "df_obs[df_obs['infox'].isna()]"
   ]
  },
  {
   "cell_type": "markdown",
   "id": "15f31fa2",
   "metadata": {},
   "source": [
    "# Duplications (url,observateur)"
   ]
  },
  {
   "cell_type": "code",
   "execution_count": 33,
   "id": "f941dfdb",
   "metadata": {},
   "outputs": [],
   "source": [
    "df_dup = df_obs[df_obs.duplicated(subset=['url','observateur'],keep=False)].sort_values(['url','observateur'])\n",
    "df_dup.to_csv('data/tmp/230612-LabelsDupliques.csv',decimal=',')"
   ]
  },
  {
   "cell_type": "code",
   "execution_count": 7,
   "id": "79d93114",
   "metadata": {},
   "outputs": [
    {
     "data": {
      "text/plain": [
       "(22, 20)"
      ]
     },
     "execution_count": 7,
     "metadata": {},
     "output_type": "execute_result"
    }
   ],
   "source": [
    "df_dup.shape"
   ]
  },
  {
   "cell_type": "markdown",
   "id": "f32351c1",
   "metadata": {},
   "source": [
    "# Vue globale par observateur"
   ]
  },
  {
   "cell_type": "code",
   "execution_count": 8,
   "id": "e31ab19d",
   "metadata": {},
   "outputs": [],
   "source": [
    "df_fb = df_obs[df_obs['observateur']=='FB'][['source','url','infox']]"
   ]
  },
  {
   "cell_type": "code",
   "execution_count": 9,
   "id": "579224e4",
   "metadata": {},
   "outputs": [],
   "source": [
    "df_fb = df_fb.rename(columns={'infox':'infox_fb'})"
   ]
  },
  {
   "cell_type": "code",
   "execution_count": 10,
   "id": "75029644",
   "metadata": {},
   "outputs": [
    {
     "data": {
      "text/html": [
       "<div>\n",
       "<style scoped>\n",
       "    .dataframe tbody tr th:only-of-type {\n",
       "        vertical-align: middle;\n",
       "    }\n",
       "\n",
       "    .dataframe tbody tr th {\n",
       "        vertical-align: top;\n",
       "    }\n",
       "\n",
       "    .dataframe thead th {\n",
       "        text-align: right;\n",
       "    }\n",
       "</style>\n",
       "<table border=\"1\" class=\"dataframe\">\n",
       "  <thead>\n",
       "    <tr style=\"text-align: right;\">\n",
       "      <th></th>\n",
       "      <th>source</th>\n",
       "      <th>url</th>\n",
       "      <th>infox_fb</th>\n",
       "    </tr>\n",
       "  </thead>\n",
       "  <tbody>\n",
       "    <tr>\n",
       "      <th>0</th>\n",
       "      <td>Recueil</td>\n",
       "      <td>https://www.alnas.fr/actualite/communaute/lara...</td>\n",
       "      <td>0.0</td>\n",
       "    </tr>\n",
       "    <tr>\n",
       "      <th>1</th>\n",
       "      <td>Recueil</td>\n",
       "      <td>https://www.alnas.fr/actualite/en-vrac/quel-ar...</td>\n",
       "      <td>0.0</td>\n",
       "    </tr>\n",
       "    <tr>\n",
       "      <th>2</th>\n",
       "      <td>Recueil</td>\n",
       "      <td>https://www.alnas.fr/actualite/politique/laust...</td>\n",
       "      <td>0.0</td>\n",
       "    </tr>\n",
       "    <tr>\n",
       "      <th>3</th>\n",
       "      <td>Recueil</td>\n",
       "      <td>https://www.alnas.fr/actualite/communaute/nant...</td>\n",
       "      <td>0.0</td>\n",
       "    </tr>\n",
       "    <tr>\n",
       "      <th>4</th>\n",
       "      <td>Recueil</td>\n",
       "      <td>https://www.alnas.fr/actualite/en-vrac/la-fran...</td>\n",
       "      <td>0.0</td>\n",
       "    </tr>\n",
       "    <tr>\n",
       "      <th>...</th>\n",
       "      <td>...</td>\n",
       "      <td>...</td>\n",
       "      <td>...</td>\n",
       "    </tr>\n",
       "    <tr>\n",
       "      <th>1298</th>\n",
       "      <td>TestRecueil</td>\n",
       "      <td>https://reseauinternational.net/pourquoi-les-e...</td>\n",
       "      <td>0.0</td>\n",
       "    </tr>\n",
       "    <tr>\n",
       "      <th>1299</th>\n",
       "      <td>TestRecueil</td>\n",
       "      <td>https://ripostelaique.com/le-racisme-anti-blan...</td>\n",
       "      <td>0.0</td>\n",
       "    </tr>\n",
       "    <tr>\n",
       "      <th>1300</th>\n",
       "      <td>TestRecueil</td>\n",
       "      <td>https://www.voltairenet.org/article217542.html</td>\n",
       "      <td>0.0</td>\n",
       "    </tr>\n",
       "    <tr>\n",
       "      <th>1301</th>\n",
       "      <td>TestRecueil</td>\n",
       "      <td>https://www.voltairenet.org/article217568.html</td>\n",
       "      <td>0.0</td>\n",
       "    </tr>\n",
       "    <tr>\n",
       "      <th>1302</th>\n",
       "      <td>TestRecueil</td>\n",
       "      <td>https://www.voltairenet.org/article217636.html</td>\n",
       "      <td>0.0</td>\n",
       "    </tr>\n",
       "  </tbody>\n",
       "</table>\n",
       "<p>902 rows × 3 columns</p>\n",
       "</div>"
      ],
      "text/plain": [
       "           source                                                url  infox_fb\n",
       "0         Recueil  https://www.alnas.fr/actualite/communaute/lara...       0.0\n",
       "1         Recueil  https://www.alnas.fr/actualite/en-vrac/quel-ar...       0.0\n",
       "2         Recueil  https://www.alnas.fr/actualite/politique/laust...       0.0\n",
       "3         Recueil  https://www.alnas.fr/actualite/communaute/nant...       0.0\n",
       "4         Recueil  https://www.alnas.fr/actualite/en-vrac/la-fran...       0.0\n",
       "...           ...                                                ...       ...\n",
       "1298  TestRecueil  https://reseauinternational.net/pourquoi-les-e...       0.0\n",
       "1299  TestRecueil  https://ripostelaique.com/le-racisme-anti-blan...       0.0\n",
       "1300  TestRecueil     https://www.voltairenet.org/article217542.html       0.0\n",
       "1301  TestRecueil     https://www.voltairenet.org/article217568.html       0.0\n",
       "1302  TestRecueil     https://www.voltairenet.org/article217636.html       0.0\n",
       "\n",
       "[902 rows x 3 columns]"
      ]
     },
     "execution_count": 10,
     "metadata": {},
     "output_type": "execute_result"
    }
   ],
   "source": [
    "df_fb"
   ]
  },
  {
   "cell_type": "code",
   "execution_count": 11,
   "id": "4a5f9ea1",
   "metadata": {},
   "outputs": [],
   "source": [
    "df_gp = df_obs[df_obs['observateur']=='GP'][['source','url','infox']]"
   ]
  },
  {
   "cell_type": "code",
   "execution_count": 12,
   "id": "5146302d",
   "metadata": {},
   "outputs": [],
   "source": [
    "df_gp = df_gp.rename(columns={'infox':'infox_gp'})"
   ]
  },
  {
   "cell_type": "code",
   "execution_count": 13,
   "id": "6ad75058",
   "metadata": {},
   "outputs": [
    {
     "data": {
      "text/html": [
       "<div>\n",
       "<style scoped>\n",
       "    .dataframe tbody tr th:only-of-type {\n",
       "        vertical-align: middle;\n",
       "    }\n",
       "\n",
       "    .dataframe tbody tr th {\n",
       "        vertical-align: top;\n",
       "    }\n",
       "\n",
       "    .dataframe thead th {\n",
       "        text-align: right;\n",
       "    }\n",
       "</style>\n",
       "<table border=\"1\" class=\"dataframe\">\n",
       "  <thead>\n",
       "    <tr style=\"text-align: right;\">\n",
       "      <th></th>\n",
       "      <th>source</th>\n",
       "      <th>url</th>\n",
       "      <th>infox_gp</th>\n",
       "    </tr>\n",
       "  </thead>\n",
       "  <tbody>\n",
       "    <tr>\n",
       "      <th>101</th>\n",
       "      <td>Recueil</td>\n",
       "      <td>https://www.fdesouche.com/2022/07/07/paris-arm...</td>\n",
       "      <td>0.0</td>\n",
       "    </tr>\n",
       "    <tr>\n",
       "      <th>161</th>\n",
       "      <td>Recueil</td>\n",
       "      <td>https://www.francesoir.fr/opinions-editos/de-l...</td>\n",
       "      <td>0.0</td>\n",
       "    </tr>\n",
       "    <tr>\n",
       "      <th>206</th>\n",
       "      <td>Recueil</td>\n",
       "      <td>https://www.francesoir.fr/opinions-entretiens/...</td>\n",
       "      <td>1.0</td>\n",
       "    </tr>\n",
       "    <tr>\n",
       "      <th>222</th>\n",
       "      <td>Recueil</td>\n",
       "      <td>https://infodujour.fr/societe/55967-covid-19-l...</td>\n",
       "      <td>1.0</td>\n",
       "    </tr>\n",
       "    <tr>\n",
       "      <th>223</th>\n",
       "      <td>Recueil</td>\n",
       "      <td>https://infodujour.fr/sante/58524-covid-19-les...</td>\n",
       "      <td>1.0</td>\n",
       "    </tr>\n",
       "    <tr>\n",
       "      <th>...</th>\n",
       "      <td>...</td>\n",
       "      <td>...</td>\n",
       "      <td>...</td>\n",
       "    </tr>\n",
       "    <tr>\n",
       "      <th>1347</th>\n",
       "      <td>TestRecueil</td>\n",
       "      <td>https://www.wikistrike.com/2022/06/irak-decouv...</td>\n",
       "      <td>0.0</td>\n",
       "    </tr>\n",
       "    <tr>\n",
       "      <th>1348</th>\n",
       "      <td>TestRecueil</td>\n",
       "      <td>https://www.wikistrike.com/2022/07/n-ecrasez-p...</td>\n",
       "      <td>0.0</td>\n",
       "    </tr>\n",
       "    <tr>\n",
       "      <th>1349</th>\n",
       "      <td>TestRecueil</td>\n",
       "      <td>https://www.wikistrike.com/2022/09/les-command...</td>\n",
       "      <td>1.0</td>\n",
       "    </tr>\n",
       "    <tr>\n",
       "      <th>1350</th>\n",
       "      <td>TestRecueil</td>\n",
       "      <td>https://www.wikistrike.com/2022/10/la-pologne-...</td>\n",
       "      <td>1.0</td>\n",
       "    </tr>\n",
       "    <tr>\n",
       "      <th>1351</th>\n",
       "      <td>TestRecueil</td>\n",
       "      <td>https://www.wikistrike.com/2023/01/le-chef-du-...</td>\n",
       "      <td>1.0</td>\n",
       "    </tr>\n",
       "  </tbody>\n",
       "</table>\n",
       "<p>321 rows × 3 columns</p>\n",
       "</div>"
      ],
      "text/plain": [
       "           source                                                url  infox_gp\n",
       "101       Recueil  https://www.fdesouche.com/2022/07/07/paris-arm...       0.0\n",
       "161       Recueil  https://www.francesoir.fr/opinions-editos/de-l...       0.0\n",
       "206       Recueil  https://www.francesoir.fr/opinions-entretiens/...       1.0\n",
       "222       Recueil  https://infodujour.fr/societe/55967-covid-19-l...       1.0\n",
       "223       Recueil  https://infodujour.fr/sante/58524-covid-19-les...       1.0\n",
       "...           ...                                                ...       ...\n",
       "1347  TestRecueil  https://www.wikistrike.com/2022/06/irak-decouv...       0.0\n",
       "1348  TestRecueil  https://www.wikistrike.com/2022/07/n-ecrasez-p...       0.0\n",
       "1349  TestRecueil  https://www.wikistrike.com/2022/09/les-command...       1.0\n",
       "1350  TestRecueil  https://www.wikistrike.com/2022/10/la-pologne-...       1.0\n",
       "1351  TestRecueil  https://www.wikistrike.com/2023/01/le-chef-du-...       1.0\n",
       "\n",
       "[321 rows x 3 columns]"
      ]
     },
     "execution_count": 13,
     "metadata": {},
     "output_type": "execute_result"
    }
   ],
   "source": [
    "df_gp"
   ]
  },
  {
   "cell_type": "code",
   "execution_count": 14,
   "id": "7bdd16d4",
   "metadata": {},
   "outputs": [],
   "source": [
    "df_ll = df_obs[df_obs['observateur']=='LL'][['source','url','infox']]"
   ]
  },
  {
   "cell_type": "code",
   "execution_count": 15,
   "id": "2f17749c",
   "metadata": {},
   "outputs": [],
   "source": [
    "df_ll = df_ll.rename(columns={'infox':'infox_ll'})"
   ]
  },
  {
   "cell_type": "code",
   "execution_count": 16,
   "id": "6044d3a1",
   "metadata": {},
   "outputs": [
    {
     "data": {
      "text/html": [
       "<div>\n",
       "<style scoped>\n",
       "    .dataframe tbody tr th:only-of-type {\n",
       "        vertical-align: middle;\n",
       "    }\n",
       "\n",
       "    .dataframe tbody tr th {\n",
       "        vertical-align: top;\n",
       "    }\n",
       "\n",
       "    .dataframe thead th {\n",
       "        text-align: right;\n",
       "    }\n",
       "</style>\n",
       "<table border=\"1\" class=\"dataframe\">\n",
       "  <thead>\n",
       "    <tr style=\"text-align: right;\">\n",
       "      <th></th>\n",
       "      <th>source</th>\n",
       "      <th>url</th>\n",
       "      <th>infox_ll</th>\n",
       "    </tr>\n",
       "  </thead>\n",
       "  <tbody>\n",
       "    <tr>\n",
       "      <th>718</th>\n",
       "      <td>WorkshopObs</td>\n",
       "      <td>https://fr.sott.net/article/39277-Les-embaumeu...</td>\n",
       "      <td>1.0</td>\n",
       "    </tr>\n",
       "    <tr>\n",
       "      <th>915</th>\n",
       "      <td>Test2</td>\n",
       "      <td>https://www.lelibrepenseur.org/effondrement-de...</td>\n",
       "      <td>1.0</td>\n",
       "    </tr>\n",
       "    <tr>\n",
       "      <th>918</th>\n",
       "      <td>Test2</td>\n",
       "      <td>https://lemediaen442.fr/ivan-rioufol-castex-no...</td>\n",
       "      <td>0.0</td>\n",
       "    </tr>\n",
       "    <tr>\n",
       "      <th>921</th>\n",
       "      <td>Test2</td>\n",
       "      <td>https://www.francetvinfo.fr/les-jeux-olympique...</td>\n",
       "      <td>0.0</td>\n",
       "    </tr>\n",
       "    <tr>\n",
       "      <th>924</th>\n",
       "      <td>Test2</td>\n",
       "      <td>https://www.francetvinfo.fr/replay-radio/expli...</td>\n",
       "      <td>0.0</td>\n",
       "    </tr>\n",
       "    <tr>\n",
       "      <th>...</th>\n",
       "      <td>...</td>\n",
       "      <td>...</td>\n",
       "      <td>...</td>\n",
       "    </tr>\n",
       "    <tr>\n",
       "      <th>1217</th>\n",
       "      <td>WorkshopObs</td>\n",
       "      <td>https://www.francesoir.fr/politique-france/rev...</td>\n",
       "      <td>0.0</td>\n",
       "    </tr>\n",
       "    <tr>\n",
       "      <th>1220</th>\n",
       "      <td>WorkshopObs</td>\n",
       "      <td>https://fr.sott.net/article/39818-Les-racines-...</td>\n",
       "      <td>1.0</td>\n",
       "    </tr>\n",
       "    <tr>\n",
       "      <th>1223</th>\n",
       "      <td>WorkshopObs</td>\n",
       "      <td>https://www.profession-gendarme.com/avertissem...</td>\n",
       "      <td>1.0</td>\n",
       "    </tr>\n",
       "    <tr>\n",
       "      <th>1226</th>\n",
       "      <td>WorkshopObs</td>\n",
       "      <td>https://www.profession-gendarme.com/australie-...</td>\n",
       "      <td>0.0</td>\n",
       "    </tr>\n",
       "    <tr>\n",
       "      <th>1229</th>\n",
       "      <td>WorkshopObs</td>\n",
       "      <td>https://www.wikistrike.com/2021/12/une-base-us...</td>\n",
       "      <td>0.0</td>\n",
       "    </tr>\n",
       "  </tbody>\n",
       "</table>\n",
       "<p>107 rows × 3 columns</p>\n",
       "</div>"
      ],
      "text/plain": [
       "           source                                                url  infox_ll\n",
       "718   WorkshopObs  https://fr.sott.net/article/39277-Les-embaumeu...       1.0\n",
       "915         Test2  https://www.lelibrepenseur.org/effondrement-de...       1.0\n",
       "918         Test2  https://lemediaen442.fr/ivan-rioufol-castex-no...       0.0\n",
       "921         Test2  https://www.francetvinfo.fr/les-jeux-olympique...       0.0\n",
       "924         Test2  https://www.francetvinfo.fr/replay-radio/expli...       0.0\n",
       "...           ...                                                ...       ...\n",
       "1217  WorkshopObs  https://www.francesoir.fr/politique-france/rev...       0.0\n",
       "1220  WorkshopObs  https://fr.sott.net/article/39818-Les-racines-...       1.0\n",
       "1223  WorkshopObs  https://www.profession-gendarme.com/avertissem...       1.0\n",
       "1226  WorkshopObs  https://www.profession-gendarme.com/australie-...       0.0\n",
       "1229  WorkshopObs  https://www.wikistrike.com/2021/12/une-base-us...       0.0\n",
       "\n",
       "[107 rows x 3 columns]"
      ]
     },
     "execution_count": 16,
     "metadata": {},
     "output_type": "execute_result"
    }
   ],
   "source": [
    "df_ll"
   ]
  },
  {
   "cell_type": "code",
   "execution_count": 17,
   "id": "082c448f",
   "metadata": {},
   "outputs": [
    {
     "data": {
      "text/html": [
       "<div>\n",
       "<style scoped>\n",
       "    .dataframe tbody tr th:only-of-type {\n",
       "        vertical-align: middle;\n",
       "    }\n",
       "\n",
       "    .dataframe tbody tr th {\n",
       "        vertical-align: top;\n",
       "    }\n",
       "\n",
       "    .dataframe thead th {\n",
       "        text-align: right;\n",
       "    }\n",
       "</style>\n",
       "<table border=\"1\" class=\"dataframe\">\n",
       "  <thead>\n",
       "    <tr style=\"text-align: right;\">\n",
       "      <th></th>\n",
       "      <th>source_x</th>\n",
       "      <th>url</th>\n",
       "      <th>infox_fb</th>\n",
       "      <th>source_y</th>\n",
       "      <th>infox_gp</th>\n",
       "    </tr>\n",
       "  </thead>\n",
       "  <tbody>\n",
       "    <tr>\n",
       "      <th>0</th>\n",
       "      <td>Recueil</td>\n",
       "      <td>https://www.anguillesousroche.com/internet/rev...</td>\n",
       "      <td>1.0</td>\n",
       "      <td>TestRecueil</td>\n",
       "      <td>1.0</td>\n",
       "    </tr>\n",
       "    <tr>\n",
       "      <th>1</th>\n",
       "      <td>Recueil</td>\n",
       "      <td>https://www.breizh-info.com/2022/02/23/180457/...</td>\n",
       "      <td>1.0</td>\n",
       "      <td>TestRecueil</td>\n",
       "      <td>1.0</td>\n",
       "    </tr>\n",
       "    <tr>\n",
       "      <th>2</th>\n",
       "      <td>Recueil</td>\n",
       "      <td>https://www.breizh-info.com/2022/05/09/186196/...</td>\n",
       "      <td>0.0</td>\n",
       "      <td>TestRecueil</td>\n",
       "      <td>0.0</td>\n",
       "    </tr>\n",
       "    <tr>\n",
       "      <th>3</th>\n",
       "      <td>Recueil</td>\n",
       "      <td>https://www.breizh-info.com/2022/06/13/187989/...</td>\n",
       "      <td>1.0</td>\n",
       "      <td>TestRecueil</td>\n",
       "      <td>1.0</td>\n",
       "    </tr>\n",
       "    <tr>\n",
       "      <th>4</th>\n",
       "      <td>Recueil</td>\n",
       "      <td>https://www.breizh-info.com/2022/08/25/207089/...</td>\n",
       "      <td>0.0</td>\n",
       "      <td>TestRecueil</td>\n",
       "      <td>0.0</td>\n",
       "    </tr>\n",
       "    <tr>\n",
       "      <th>...</th>\n",
       "      <td>...</td>\n",
       "      <td>...</td>\n",
       "      <td>...</td>\n",
       "      <td>...</td>\n",
       "      <td>...</td>\n",
       "    </tr>\n",
       "    <tr>\n",
       "      <th>303</th>\n",
       "      <td>TestRecueil</td>\n",
       "      <td>https://reseauinternational.net/pourquoi-les-e...</td>\n",
       "      <td>0.0</td>\n",
       "      <td>Recueil</td>\n",
       "      <td>0.0</td>\n",
       "    </tr>\n",
       "    <tr>\n",
       "      <th>304</th>\n",
       "      <td>TestRecueil</td>\n",
       "      <td>https://ripostelaique.com/le-racisme-anti-blan...</td>\n",
       "      <td>0.0</td>\n",
       "      <td>Recueil</td>\n",
       "      <td>0.0</td>\n",
       "    </tr>\n",
       "    <tr>\n",
       "      <th>305</th>\n",
       "      <td>TestRecueil</td>\n",
       "      <td>https://www.voltairenet.org/article217542.html</td>\n",
       "      <td>0.0</td>\n",
       "      <td>Recueil</td>\n",
       "      <td>1.0</td>\n",
       "    </tr>\n",
       "    <tr>\n",
       "      <th>306</th>\n",
       "      <td>TestRecueil</td>\n",
       "      <td>https://www.voltairenet.org/article217568.html</td>\n",
       "      <td>0.0</td>\n",
       "      <td>Recueil</td>\n",
       "      <td>1.0</td>\n",
       "    </tr>\n",
       "    <tr>\n",
       "      <th>307</th>\n",
       "      <td>TestRecueil</td>\n",
       "      <td>https://www.voltairenet.org/article217636.html</td>\n",
       "      <td>0.0</td>\n",
       "      <td>Recueil</td>\n",
       "      <td>0.0</td>\n",
       "    </tr>\n",
       "  </tbody>\n",
       "</table>\n",
       "<p>308 rows × 5 columns</p>\n",
       "</div>"
      ],
      "text/plain": [
       "        source_x                                                url  infox_fb  \\\n",
       "0        Recueil  https://www.anguillesousroche.com/internet/rev...       1.0   \n",
       "1        Recueil  https://www.breizh-info.com/2022/02/23/180457/...       1.0   \n",
       "2        Recueil  https://www.breizh-info.com/2022/05/09/186196/...       0.0   \n",
       "3        Recueil  https://www.breizh-info.com/2022/06/13/187989/...       1.0   \n",
       "4        Recueil  https://www.breizh-info.com/2022/08/25/207089/...       0.0   \n",
       "..           ...                                                ...       ...   \n",
       "303  TestRecueil  https://reseauinternational.net/pourquoi-les-e...       0.0   \n",
       "304  TestRecueil  https://ripostelaique.com/le-racisme-anti-blan...       0.0   \n",
       "305  TestRecueil     https://www.voltairenet.org/article217542.html       0.0   \n",
       "306  TestRecueil     https://www.voltairenet.org/article217568.html       0.0   \n",
       "307  TestRecueil     https://www.voltairenet.org/article217636.html       0.0   \n",
       "\n",
       "        source_y  infox_gp  \n",
       "0    TestRecueil       1.0  \n",
       "1    TestRecueil       1.0  \n",
       "2    TestRecueil       0.0  \n",
       "3    TestRecueil       1.0  \n",
       "4    TestRecueil       0.0  \n",
       "..           ...       ...  \n",
       "303      Recueil       0.0  \n",
       "304      Recueil       0.0  \n",
       "305      Recueil       1.0  \n",
       "306      Recueil       1.0  \n",
       "307      Recueil       0.0  \n",
       "\n",
       "[308 rows x 5 columns]"
      ]
     },
     "execution_count": 17,
     "metadata": {},
     "output_type": "execute_result"
    }
   ],
   "source": [
    "df_fb_gp = df_fb.merge(df_gp,on='url',how='inner')\n",
    "df_fb_gp"
   ]
  },
  {
   "cell_type": "code",
   "execution_count": 18,
   "id": "be5f6b9e",
   "metadata": {},
   "outputs": [
    {
     "data": {
      "text/html": [
       "<div>\n",
       "<style scoped>\n",
       "    .dataframe tbody tr th:only-of-type {\n",
       "        vertical-align: middle;\n",
       "    }\n",
       "\n",
       "    .dataframe tbody tr th {\n",
       "        vertical-align: top;\n",
       "    }\n",
       "\n",
       "    .dataframe thead th {\n",
       "        text-align: right;\n",
       "    }\n",
       "</style>\n",
       "<table border=\"1\" class=\"dataframe\">\n",
       "  <thead>\n",
       "    <tr style=\"text-align: right;\">\n",
       "      <th></th>\n",
       "      <th>source_x</th>\n",
       "      <th>url</th>\n",
       "      <th>infox_fb</th>\n",
       "      <th>source_y</th>\n",
       "      <th>infox_ll</th>\n",
       "    </tr>\n",
       "  </thead>\n",
       "  <tbody>\n",
       "    <tr>\n",
       "      <th>0</th>\n",
       "      <td>Recueil</td>\n",
       "      <td>https://www.francesoir.fr/politique-france/rev...</td>\n",
       "      <td>1.0</td>\n",
       "      <td>WorkshopObs</td>\n",
       "      <td>0.0</td>\n",
       "    </tr>\n",
       "    <tr>\n",
       "      <th>1</th>\n",
       "      <td>WorkshopObs</td>\n",
       "      <td>https://www.francesoir.fr/politique-france/rev...</td>\n",
       "      <td>0.0</td>\n",
       "      <td>WorkshopObs</td>\n",
       "      <td>0.0</td>\n",
       "    </tr>\n",
       "    <tr>\n",
       "      <th>2</th>\n",
       "      <td>Recueil</td>\n",
       "      <td>https://www.francesoir.fr/societe-sante/nouvea...</td>\n",
       "      <td>0.0</td>\n",
       "      <td>Test2</td>\n",
       "      <td>1.0</td>\n",
       "    </tr>\n",
       "    <tr>\n",
       "      <th>3</th>\n",
       "      <td>Test2</td>\n",
       "      <td>https://www.francesoir.fr/societe-sante/nouvea...</td>\n",
       "      <td>1.0</td>\n",
       "      <td>Test2</td>\n",
       "      <td>1.0</td>\n",
       "    </tr>\n",
       "    <tr>\n",
       "      <th>4</th>\n",
       "      <td>Test1</td>\n",
       "      <td>https://fr.sott.net/article/39277-Les-embaumeu...</td>\n",
       "      <td>1.0</td>\n",
       "      <td>WorkshopObs</td>\n",
       "      <td>1.0</td>\n",
       "    </tr>\n",
       "    <tr>\n",
       "      <th>...</th>\n",
       "      <td>...</td>\n",
       "      <td>...</td>\n",
       "      <td>...</td>\n",
       "      <td>...</td>\n",
       "      <td>...</td>\n",
       "    </tr>\n",
       "    <tr>\n",
       "      <th>105</th>\n",
       "      <td>WorkshopObs</td>\n",
       "      <td>https://www.wikistrike.com/2021/12/angleterre-...</td>\n",
       "      <td>1.0</td>\n",
       "      <td>WorkshopObs</td>\n",
       "      <td>1.0</td>\n",
       "    </tr>\n",
       "    <tr>\n",
       "      <th>106</th>\n",
       "      <td>WorkshopObs</td>\n",
       "      <td>https://fr.sott.net/article/39818-Les-racines-...</td>\n",
       "      <td>1.0</td>\n",
       "      <td>WorkshopObs</td>\n",
       "      <td>1.0</td>\n",
       "    </tr>\n",
       "    <tr>\n",
       "      <th>107</th>\n",
       "      <td>WorkshopObs</td>\n",
       "      <td>https://www.profession-gendarme.com/avertissem...</td>\n",
       "      <td>1.0</td>\n",
       "      <td>WorkshopObs</td>\n",
       "      <td>1.0</td>\n",
       "    </tr>\n",
       "    <tr>\n",
       "      <th>108</th>\n",
       "      <td>WorkshopObs</td>\n",
       "      <td>https://www.profession-gendarme.com/australie-...</td>\n",
       "      <td>0.0</td>\n",
       "      <td>WorkshopObs</td>\n",
       "      <td>0.0</td>\n",
       "    </tr>\n",
       "    <tr>\n",
       "      <th>109</th>\n",
       "      <td>WorkshopObs</td>\n",
       "      <td>https://www.wikistrike.com/2021/12/une-base-us...</td>\n",
       "      <td>0.0</td>\n",
       "      <td>WorkshopObs</td>\n",
       "      <td>0.0</td>\n",
       "    </tr>\n",
       "  </tbody>\n",
       "</table>\n",
       "<p>110 rows × 5 columns</p>\n",
       "</div>"
      ],
      "text/plain": [
       "        source_x                                                url  infox_fb  \\\n",
       "0        Recueil  https://www.francesoir.fr/politique-france/rev...       1.0   \n",
       "1    WorkshopObs  https://www.francesoir.fr/politique-france/rev...       0.0   \n",
       "2        Recueil  https://www.francesoir.fr/societe-sante/nouvea...       0.0   \n",
       "3          Test2  https://www.francesoir.fr/societe-sante/nouvea...       1.0   \n",
       "4          Test1  https://fr.sott.net/article/39277-Les-embaumeu...       1.0   \n",
       "..           ...                                                ...       ...   \n",
       "105  WorkshopObs  https://www.wikistrike.com/2021/12/angleterre-...       1.0   \n",
       "106  WorkshopObs  https://fr.sott.net/article/39818-Les-racines-...       1.0   \n",
       "107  WorkshopObs  https://www.profession-gendarme.com/avertissem...       1.0   \n",
       "108  WorkshopObs  https://www.profession-gendarme.com/australie-...       0.0   \n",
       "109  WorkshopObs  https://www.wikistrike.com/2021/12/une-base-us...       0.0   \n",
       "\n",
       "        source_y  infox_ll  \n",
       "0    WorkshopObs       0.0  \n",
       "1    WorkshopObs       0.0  \n",
       "2          Test2       1.0  \n",
       "3          Test2       1.0  \n",
       "4    WorkshopObs       1.0  \n",
       "..           ...       ...  \n",
       "105  WorkshopObs       1.0  \n",
       "106  WorkshopObs       1.0  \n",
       "107  WorkshopObs       1.0  \n",
       "108  WorkshopObs       0.0  \n",
       "109  WorkshopObs       0.0  \n",
       "\n",
       "[110 rows x 5 columns]"
      ]
     },
     "execution_count": 18,
     "metadata": {},
     "output_type": "execute_result"
    }
   ],
   "source": [
    "df_fb_ll = df_fb.merge(df_ll,on='url',how='inner')\n",
    "df_fb_ll"
   ]
  },
  {
   "cell_type": "code",
   "execution_count": 19,
   "id": "0c66fe63",
   "metadata": {},
   "outputs": [
    {
     "data": {
      "text/html": [
       "<div>\n",
       "<style scoped>\n",
       "    .dataframe tbody tr th:only-of-type {\n",
       "        vertical-align: middle;\n",
       "    }\n",
       "\n",
       "    .dataframe tbody tr th {\n",
       "        vertical-align: top;\n",
       "    }\n",
       "\n",
       "    .dataframe thead th {\n",
       "        text-align: right;\n",
       "    }\n",
       "</style>\n",
       "<table border=\"1\" class=\"dataframe\">\n",
       "  <thead>\n",
       "    <tr style=\"text-align: right;\">\n",
       "      <th></th>\n",
       "      <th>source_x</th>\n",
       "      <th>url</th>\n",
       "      <th>infox_gp</th>\n",
       "      <th>source_y</th>\n",
       "      <th>infox_ll</th>\n",
       "    </tr>\n",
       "  </thead>\n",
       "  <tbody>\n",
       "    <tr>\n",
       "      <th>0</th>\n",
       "      <td>Test1</td>\n",
       "      <td>https://fr.sott.net/article/39277-Les-embaumeu...</td>\n",
       "      <td>1.0</td>\n",
       "      <td>WorkshopObs</td>\n",
       "      <td>1.0</td>\n",
       "    </tr>\n",
       "    <tr>\n",
       "      <th>1</th>\n",
       "      <td>WorkshopObs</td>\n",
       "      <td>https://fr.sott.net/article/39277-Les-embaumeu...</td>\n",
       "      <td>1.0</td>\n",
       "      <td>WorkshopObs</td>\n",
       "      <td>1.0</td>\n",
       "    </tr>\n",
       "    <tr>\n",
       "      <th>2</th>\n",
       "      <td>Test2</td>\n",
       "      <td>https://www.lelibrepenseur.org/effondrement-de...</td>\n",
       "      <td>1.0</td>\n",
       "      <td>Test2</td>\n",
       "      <td>1.0</td>\n",
       "    </tr>\n",
       "    <tr>\n",
       "      <th>3</th>\n",
       "      <td>Test2</td>\n",
       "      <td>https://lemediaen442.fr/ivan-rioufol-castex-no...</td>\n",
       "      <td>0.0</td>\n",
       "      <td>Test2</td>\n",
       "      <td>0.0</td>\n",
       "    </tr>\n",
       "    <tr>\n",
       "      <th>4</th>\n",
       "      <td>Test2</td>\n",
       "      <td>https://www.francetvinfo.fr/les-jeux-olympique...</td>\n",
       "      <td>0.0</td>\n",
       "      <td>Test2</td>\n",
       "      <td>0.0</td>\n",
       "    </tr>\n",
       "    <tr>\n",
       "      <th>...</th>\n",
       "      <td>...</td>\n",
       "      <td>...</td>\n",
       "      <td>...</td>\n",
       "      <td>...</td>\n",
       "      <td>...</td>\n",
       "    </tr>\n",
       "    <tr>\n",
       "      <th>102</th>\n",
       "      <td>WorkshopObs</td>\n",
       "      <td>https://www.wikistrike.com/2021/12/angleterre-...</td>\n",
       "      <td>1.0</td>\n",
       "      <td>WorkshopObs</td>\n",
       "      <td>1.0</td>\n",
       "    </tr>\n",
       "    <tr>\n",
       "      <th>103</th>\n",
       "      <td>WorkshopObs</td>\n",
       "      <td>https://fr.sott.net/article/39818-Les-racines-...</td>\n",
       "      <td>1.0</td>\n",
       "      <td>WorkshopObs</td>\n",
       "      <td>1.0</td>\n",
       "    </tr>\n",
       "    <tr>\n",
       "      <th>104</th>\n",
       "      <td>WorkshopObs</td>\n",
       "      <td>https://www.profession-gendarme.com/avertissem...</td>\n",
       "      <td>1.0</td>\n",
       "      <td>WorkshopObs</td>\n",
       "      <td>1.0</td>\n",
       "    </tr>\n",
       "    <tr>\n",
       "      <th>105</th>\n",
       "      <td>WorkshopObs</td>\n",
       "      <td>https://www.profession-gendarme.com/australie-...</td>\n",
       "      <td>0.0</td>\n",
       "      <td>WorkshopObs</td>\n",
       "      <td>0.0</td>\n",
       "    </tr>\n",
       "    <tr>\n",
       "      <th>106</th>\n",
       "      <td>WorkshopObs</td>\n",
       "      <td>https://www.wikistrike.com/2021/12/une-base-us...</td>\n",
       "      <td>0.0</td>\n",
       "      <td>WorkshopObs</td>\n",
       "      <td>0.0</td>\n",
       "    </tr>\n",
       "  </tbody>\n",
       "</table>\n",
       "<p>107 rows × 5 columns</p>\n",
       "</div>"
      ],
      "text/plain": [
       "        source_x                                                url  infox_gp  \\\n",
       "0          Test1  https://fr.sott.net/article/39277-Les-embaumeu...       1.0   \n",
       "1    WorkshopObs  https://fr.sott.net/article/39277-Les-embaumeu...       1.0   \n",
       "2          Test2  https://www.lelibrepenseur.org/effondrement-de...       1.0   \n",
       "3          Test2  https://lemediaen442.fr/ivan-rioufol-castex-no...       0.0   \n",
       "4          Test2  https://www.francetvinfo.fr/les-jeux-olympique...       0.0   \n",
       "..           ...                                                ...       ...   \n",
       "102  WorkshopObs  https://www.wikistrike.com/2021/12/angleterre-...       1.0   \n",
       "103  WorkshopObs  https://fr.sott.net/article/39818-Les-racines-...       1.0   \n",
       "104  WorkshopObs  https://www.profession-gendarme.com/avertissem...       1.0   \n",
       "105  WorkshopObs  https://www.profession-gendarme.com/australie-...       0.0   \n",
       "106  WorkshopObs  https://www.wikistrike.com/2021/12/une-base-us...       0.0   \n",
       "\n",
       "        source_y  infox_ll  \n",
       "0    WorkshopObs       1.0  \n",
       "1    WorkshopObs       1.0  \n",
       "2          Test2       1.0  \n",
       "3          Test2       0.0  \n",
       "4          Test2       0.0  \n",
       "..           ...       ...  \n",
       "102  WorkshopObs       1.0  \n",
       "103  WorkshopObs       1.0  \n",
       "104  WorkshopObs       1.0  \n",
       "105  WorkshopObs       0.0  \n",
       "106  WorkshopObs       0.0  \n",
       "\n",
       "[107 rows x 5 columns]"
      ]
     },
     "execution_count": 19,
     "metadata": {},
     "output_type": "execute_result"
    }
   ],
   "source": [
    "df_gp_ll = df_gp.merge(df_ll,on='url',how='inner')\n",
    "df_gp_ll"
   ]
  },
  {
   "cell_type": "markdown",
   "id": "f4cf1f62",
   "metadata": {},
   "source": [
    "# Metriques"
   ]
  },
  {
   "cell_type": "markdown",
   "id": "52fe6121",
   "metadata": {},
   "source": [
    "### Confusion matrix\n",
    "| |Real 0|Real 1|\n",
    "-|-|-\n",
    "|Predicted 0| **TN** True Negative | **FN** False Negative |\n",
    "|Predicted 1| **FP** False Positive| **TP** True Positive |\n"
   ]
  },
  {
   "cell_type": "markdown",
   "id": "d31617fe",
   "metadata": {},
   "source": [
    "### Statdard metrics\n",
    "\\begin{equation*} \\text{Accuracy} = \\frac{TP+TN}{Total} \\end{equation*}\n",
    "\n",
    "\\begin{equation*} \\text{Recall} = \\frac{TP}{TP+FN} \\end{equation*}\n",
    "\n",
    "\\begin{equation*} \\text{F1-score} = \\frac{TP}{TP+\\frac{1}{2}(FN+FP) } \\end{equation*}"
   ]
  },
  {
   "cell_type": "code",
   "execution_count": 20,
   "id": "4ade0a2f",
   "metadata": {},
   "outputs": [],
   "source": [
    "from sklearn import metrics"
   ]
  },
  {
   "cell_type": "code",
   "execution_count": 21,
   "id": "d9ca52fd",
   "metadata": {},
   "outputs": [
    {
     "data": {
      "text/plain": [
       "array([[0.64935065, 0.09415584],\n",
       "       [0.02597403, 0.23051948]])"
      ]
     },
     "execution_count": 21,
     "metadata": {},
     "output_type": "execute_result"
    }
   ],
   "source": [
    "results_fb_gp = {}\n",
    "results_fb_gp['accuracy']=metrics.accuracy_score(df_fb_gp['infox_fb'], df_fb_gp['infox_gp'])\n",
    "results_fb_gp['recall']=metrics.recall_score(df_fb_gp['infox_fb'], df_fb_gp['infox_gp'])\n",
    "results_fb_gp['f1']=metrics.f1_score(df_fb_gp['infox_fb'], df_fb_gp['infox_gp'])\n",
    "cnf_matrix = metrics.confusion_matrix(df_fb_gp['infox_fb'], df_fb_gp['infox_gp'],normalize='all')\n",
    "results_fb_gp['false_positive']=cnf_matrix[0,1]\n",
    "results_fb_gp['false_negative']=cnf_matrix[1,0]\n",
    "cnf_matrix"
   ]
  },
  {
   "cell_type": "code",
   "execution_count": 22,
   "id": "754b88c4",
   "metadata": {},
   "outputs": [
    {
     "data": {
      "text/plain": [
       "{'accuracy': 0.8798701298701299,\n",
       " 'recall': 0.8987341772151899,\n",
       " 'f1': 0.7932960893854749,\n",
       " 'false_positive': 0.09415584415584416,\n",
       " 'false_negative': 0.025974025974025976}"
      ]
     },
     "execution_count": 22,
     "metadata": {},
     "output_type": "execute_result"
    }
   ],
   "source": [
    "results_fb_gp"
   ]
  },
  {
   "cell_type": "code",
   "execution_count": 23,
   "id": "89a181c2",
   "metadata": {},
   "outputs": [
    {
     "data": {
      "text/plain": [
       "array([[0.75454545, 0.01818182],\n",
       "       [0.06363636, 0.16363636]])"
      ]
     },
     "execution_count": 23,
     "metadata": {},
     "output_type": "execute_result"
    }
   ],
   "source": [
    "results_fb_ll = {}\n",
    "results_fb_ll['accuracy']=metrics.accuracy_score(df_fb_ll['infox_fb'], df_fb_ll['infox_ll'])\n",
    "results_fb_ll['recall']=metrics.recall_score(df_fb_ll['infox_fb'], df_fb_ll['infox_ll'])\n",
    "results_fb_ll['f1']=metrics.f1_score(df_fb_ll['infox_fb'], df_fb_ll['infox_ll'])\n",
    "cnf_matrix = metrics.confusion_matrix(df_fb_ll['infox_fb'], df_fb_ll['infox_ll'],normalize='all')\n",
    "results_fb_ll['false_positive']=cnf_matrix[0,1]\n",
    "results_fb_ll['false_negative']=cnf_matrix[1,0]\n",
    "cnf_matrix"
   ]
  },
  {
   "cell_type": "code",
   "execution_count": 24,
   "id": "76805c74",
   "metadata": {},
   "outputs": [
    {
     "data": {
      "text/plain": [
       "{'accuracy': 0.9181818181818182,\n",
       " 'recall': 0.72,\n",
       " 'f1': 0.7999999999999999,\n",
       " 'false_positive': 0.01818181818181818,\n",
       " 'false_negative': 0.06363636363636363}"
      ]
     },
     "execution_count": 24,
     "metadata": {},
     "output_type": "execute_result"
    }
   ],
   "source": [
    "results_fb_ll"
   ]
  },
  {
   "cell_type": "code",
   "execution_count": 25,
   "id": "11631edb",
   "metadata": {},
   "outputs": [
    {
     "data": {
      "text/plain": [
       "array([[0.76635514, 0.02803738],\n",
       "       [0.05607477, 0.14953271]])"
      ]
     },
     "execution_count": 25,
     "metadata": {},
     "output_type": "execute_result"
    }
   ],
   "source": [
    "results_gp_ll = {}\n",
    "results_gp_ll['accuracy']=metrics.accuracy_score(df_gp_ll['infox_gp'], df_gp_ll['infox_ll'])\n",
    "results_gp_ll['recall']=metrics.recall_score(df_gp_ll['infox_gp'], df_gp_ll['infox_ll'])\n",
    "results_gp_ll['f1']=metrics.f1_score(df_gp_ll['infox_gp'], df_gp_ll['infox_ll'])\n",
    "cnf_matrix = metrics.confusion_matrix(df_gp_ll['infox_gp'], df_gp_ll['infox_ll'],normalize='all')\n",
    "results_gp_ll['false_positive']=cnf_matrix[0,1]\n",
    "results_gp_ll['false_negative']=cnf_matrix[1,0]\n",
    "cnf_matrix"
   ]
  },
  {
   "cell_type": "code",
   "execution_count": 26,
   "id": "fc8d0ce6",
   "metadata": {},
   "outputs": [
    {
     "data": {
      "text/plain": [
       "{'accuracy': 0.9158878504672897,\n",
       " 'recall': 0.7272727272727273,\n",
       " 'f1': 0.7804878048780488,\n",
       " 'false_positive': 0.028037383177570093,\n",
       " 'false_negative': 0.056074766355140186}"
      ]
     },
     "execution_count": 26,
     "metadata": {},
     "output_type": "execute_result"
    }
   ],
   "source": [
    "results_gp_ll"
   ]
  },
  {
   "cell_type": "code",
   "execution_count": 27,
   "id": "0855fb87",
   "metadata": {},
   "outputs": [],
   "source": [
    "pd.set_option('display.precision',3)"
   ]
  },
  {
   "cell_type": "code",
   "execution_count": 28,
   "id": "a259cb55",
   "metadata": {},
   "outputs": [
    {
     "data": {
      "text/html": [
       "<div>\n",
       "<style scoped>\n",
       "    .dataframe tbody tr th:only-of-type {\n",
       "        vertical-align: middle;\n",
       "    }\n",
       "\n",
       "    .dataframe tbody tr th {\n",
       "        vertical-align: top;\n",
       "    }\n",
       "\n",
       "    .dataframe thead th {\n",
       "        text-align: right;\n",
       "    }\n",
       "</style>\n",
       "<table border=\"1\" class=\"dataframe\">\n",
       "  <thead>\n",
       "    <tr style=\"text-align: right;\">\n",
       "      <th></th>\n",
       "      <th>accuracy</th>\n",
       "      <th>recall</th>\n",
       "      <th>f1</th>\n",
       "      <th>false_positive</th>\n",
       "      <th>false_negative</th>\n",
       "    </tr>\n",
       "  </thead>\n",
       "  <tbody>\n",
       "    <tr>\n",
       "      <th>fb-gp</th>\n",
       "      <td>0.880</td>\n",
       "      <td>0.899</td>\n",
       "      <td>0.793</td>\n",
       "      <td>0.094</td>\n",
       "      <td>0.026</td>\n",
       "    </tr>\n",
       "    <tr>\n",
       "      <th>fb-ll</th>\n",
       "      <td>0.918</td>\n",
       "      <td>0.720</td>\n",
       "      <td>0.800</td>\n",
       "      <td>0.018</td>\n",
       "      <td>0.064</td>\n",
       "    </tr>\n",
       "    <tr>\n",
       "      <th>gp-ll</th>\n",
       "      <td>0.916</td>\n",
       "      <td>0.727</td>\n",
       "      <td>0.780</td>\n",
       "      <td>0.028</td>\n",
       "      <td>0.056</td>\n",
       "    </tr>\n",
       "  </tbody>\n",
       "</table>\n",
       "</div>"
      ],
      "text/plain": [
       "       accuracy  recall     f1  false_positive  false_negative\n",
       "fb-gp     0.880   0.899  0.793           0.094           0.026\n",
       "fb-ll     0.918   0.720  0.800           0.018           0.064\n",
       "gp-ll     0.916   0.727  0.780           0.028           0.056"
      ]
     },
     "execution_count": 28,
     "metadata": {},
     "output_type": "execute_result"
    }
   ],
   "source": [
    "df_result = pd.DataFrame([results_fb_gp,results_fb_ll,results_gp_ll],index=['fb-gp','fb-ll','gp-ll'])\n",
    "df_result"
   ]
  },
  {
   "cell_type": "code",
   "execution_count": 32,
   "id": "f8576523",
   "metadata": {},
   "outputs": [
    {
     "name": "stderr",
     "output_type": "stream",
     "text": [
      "/var/folders/fr/mhrqmk5n1xs49b7jl3tgs2r00000gn/T/ipykernel_34394/3270522640.py:2: UserWarning: \n",
      "The markers list has fewer values (1) than needed (3) and will cycle, which may produce an uninterpretable plot.\n",
      "  sns.scatterplot(data=df_result[['accuracy','f1','recall']],s=20,markers='o')\n"
     ]
    },
    {
     "data": {
      "text/plain": [
       "<matplotlib.legend.Legend at 0x15c662a00>"
      ]
     },
     "execution_count": 32,
     "metadata": {},
     "output_type": "execute_result"
    },
    {
     "data": {
      "image/png": "[encoded data removed]",
      "text/plain": [
       "<Figure size 640x480 with 1 Axes>"
      ]
     },
     "metadata": {},
     "output_type": "display_data"
    }
   ],
   "source": [
    "import matplotlib.pyplot as plt\n",
    "sns.scatterplot(data=df_result[['accuracy','f1','recall']],s=20,markers='o')\n",
    "#plt.grid()\n",
    "plt.legend(markerscale=1.5)"
   ]
  },
  {
   "cell_type": "code",
   "execution_count": 30,
   "id": "d774932d",
   "metadata": {},
   "outputs": [
    {
     "data": {
      "text/plain": [
       "<matplotlib.legend.Legend at 0x15c54e820>"
      ]
     },
     "execution_count": 30,
     "metadata": {},
     "output_type": "execute_result"
    },
    {
     "data": {
      "image/png": "[encoded data removed]",
      "text/plain": [
       "<Figure size 640x480 with 1 Axes>"
      ]
     },
     "metadata": {},
     "output_type": "display_data"
    }
   ],
   "source": [
    "import matplotlib.pyplot as plt\n",
    "sns.scatterplot(data=df_result[['false_positive','false_negative']],s=200)\n",
    "plt.legend(markerscale=1.5)"
   ]
  },
  {
   "cell_type": "markdown",
   "id": "76996d3a",
   "metadata": {},
   "source": [
    "# Sauvegarde des résultats\n",
    "---"
   ]
  },
  {
   "cell_type": "markdown",
   "id": "fb7949bc",
   "metadata": {},
   "source": [
    "# Conclusions\n",
    "---"
   ]
  },
  {
   "cell_type": "markdown",
   "id": "bd360655",
   "metadata": {},
   "source": [
    "# Bricolages\n",
    "---"
   ]
  },
  {
   "cell_type": "code",
   "execution_count": null,
   "id": "97a4bb41",
   "metadata": {},
   "outputs": [],
   "source": []
  }
 ],
 "metadata": {
  "kernelspec": {
   "display_name": "Python 3 (ipykernel)",
   "language": "python",
   "name": "python3"
  },
  "language_info": {
   "codemirror_mode": {
    "name": "ipython",
    "version": 3
   },
   "file_extension": ".py",
   "mimetype": "text/x-python",
   "name": "python",
   "nbconvert_exporter": "python",
   "pygments_lexer": "ipython3",
   "version": "3.9.16"
  }
 },
 "nbformat": 4,
 "nbformat_minor": 5
}
