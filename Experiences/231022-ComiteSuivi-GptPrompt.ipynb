{
 "cells": [
  {
   "cell_type": "markdown",
   "id": "e3ec4689",
   "metadata": {},
   "source": [
    "# Plateforme d'Acquisition et de Traitement Automatisé des Textes\n",
    "### Carnet d'expérimentation\n",
    "---\n",
    "\n",
    "## Sujet : Expérience ObsInfo2307\n",
    "### Comparaison labelisation humaine et chatgpt\n",
    "\n",
    "---"
   ]
  },
  {
   "cell_type": "markdown",
   "id": "2601e626",
   "metadata": {},
   "source": [
    "# Imports"
   ]
  },
  {
   "cell_type": "code",
   "execution_count": 1,
   "id": "5d0de4d7",
   "metadata": {},
   "outputs": [
    {
     "name": "stdout",
     "output_type": "stream",
     "text": [
      "/Volumes/Geek/Work/Patat\n"
     ]
    }
   ],
   "source": [
    "cd ../.."
   ]
  },
  {
   "cell_type": "code",
   "execution_count": 2,
   "id": "32256b0d",
   "metadata": {},
   "outputs": [],
   "source": [
    "import importlib\n",
    "import pandas as pd\n",
    "import seaborn as sns\n",
    "from tqdm.notebook import tqdm\n",
    "tqdm.pandas()"
   ]
  },
  {
   "cell_type": "markdown",
   "id": "a4a05a2d",
   "metadata": {},
   "source": [
    "# Chargement Données"
   ]
  },
  {
   "cell_type": "markdown",
   "id": "6f41607b",
   "metadata": {},
   "source": [
    "### Annotations Manuelles"
   ]
  },
  {
   "cell_type": "code",
   "execution_count": 10,
   "id": "fabbb845",
   "metadata": {},
   "outputs": [],
   "source": [
    "import patat.util.gsheet\n",
    "\n",
    "gs = patat.util.gsheet.GoogleSheet()\n",
    "\n",
    "sheet_id = '1QSXfuWNr9Wpe7aAAluKGVRuI1CcN8erpmo0R90UTLT0'\n",
    "range_name = 'Data'\n",
    "\n",
    "df_obsinfo = gs.read_df(sheet_id,range_name)"
   ]
  },
  {
   "cell_type": "code",
   "execution_count": 11,
   "id": "9b49c880",
   "metadata": {},
   "outputs": [],
   "source": [
    "labels = [\n",
    "    'infox',\n",
    "    'lieux, dates et personnes',\n",
    "    'faits',\n",
    "    'opinions',\n",
    "    'subjectif',\n",
    "    'propos rapporté',\n",
    "    'sources citées',\n",
    "    'fausse nouvelle',\n",
    "    'insinuation',\n",
    "    'exagération',\n",
    "    'titre décalé',\n",
    "]"
   ]
  },
  {
   "cell_type": "code",
   "execution_count": 12,
   "id": "2b414c74",
   "metadata": {},
   "outputs": [],
   "source": [
    "import numpy as np"
   ]
  },
  {
   "cell_type": "code",
   "execution_count": 13,
   "id": "b89dd377",
   "metadata": {},
   "outputs": [],
   "source": [
    "def normalize(x):\n",
    "    if x == '0':\n",
    "        return 0.0\n",
    "    elif x== '1':\n",
    "        return 1.0\n",
    "    else:\n",
    "        return np.NaN"
   ]
  },
  {
   "cell_type": "code",
   "execution_count": 14,
   "id": "99bd4a0a",
   "metadata": {},
   "outputs": [],
   "source": [
    "for label in labels:\n",
    "    df_obsinfo[label]=df_obsinfo[label].apply(normalize)"
   ]
  },
  {
   "cell_type": "code",
   "execution_count": 15,
   "id": "26ba805f",
   "metadata": {},
   "outputs": [],
   "source": [
    "df_obsinfo['url_h'] = df_obsinfo['url_labelizer'].apply(lambda s: s[-40:])"
   ]
  },
  {
   "cell_type": "code",
   "execution_count": 16,
   "id": "1163a2f1",
   "metadata": {},
   "outputs": [
    {
     "data": {
      "text/html": [
       "<div>\n",
       "<style scoped>\n",
       "    .dataframe tbody tr th:only-of-type {\n",
       "        vertical-align: middle;\n",
       "    }\n",
       "\n",
       "    .dataframe tbody tr th {\n",
       "        vertical-align: top;\n",
       "    }\n",
       "\n",
       "    .dataframe thead th {\n",
       "        text-align: right;\n",
       "    }\n",
       "</style>\n",
       "<table border=\"1\" class=\"dataframe\">\n",
       "  <thead>\n",
       "    <tr style=\"text-align: right;\">\n",
       "      <th></th>\n",
       "      <th>url</th>\n",
       "      <th>url_labelizer</th>\n",
       "      <th>title</th>\n",
       "      <th>infox</th>\n",
       "      <th>lieux, dates et personnes</th>\n",
       "      <th>faits</th>\n",
       "      <th>opinions</th>\n",
       "      <th>subjectif</th>\n",
       "      <th>propos rapporté</th>\n",
       "      <th>sources citées</th>\n",
       "      <th>fausse nouvelle</th>\n",
       "      <th>insinuation</th>\n",
       "      <th>exagération</th>\n",
       "      <th>titre décalé</th>\n",
       "      <th>commentaires</th>\n",
       "      <th>observateur</th>\n",
       "      <th>rater</th>\n",
       "      <th>url_h</th>\n",
       "    </tr>\n",
       "  </thead>\n",
       "  <tbody>\n",
       "    <tr>\n",
       "      <th>0</th>\n",
       "      <td>https://lesakerfrancophone.fr/la-relation-entr...</td>\n",
       "      <td>https://app.observatoire.info/labelize?url_h=c...</td>\n",
       "      <td>La relation entre la technologie et la religion</td>\n",
       "      <td>0.0</td>\n",
       "      <td>1.0</td>\n",
       "      <td>1.0</td>\n",
       "      <td>1.0</td>\n",
       "      <td>1.0</td>\n",
       "      <td>0.0</td>\n",
       "      <td>1.0</td>\n",
       "      <td>0.0</td>\n",
       "      <td>0.0</td>\n",
       "      <td>0.0</td>\n",
       "      <td>0.0</td>\n",
       "      <td>vraiment indigeste pour commencer !</td>\n",
       "      <td>FB</td>\n",
       "      <td>rater1</td>\n",
       "      <td>c13175936764a345ec21bc398fe750a41496078e</td>\n",
       "    </tr>\n",
       "    <tr>\n",
       "      <th>1</th>\n",
       "      <td>https://www.breizh-info.com/2021/01/27/157958/...</td>\n",
       "      <td>https://app.observatoire.info/labelize?url_h=0...</td>\n",
       "      <td>Confinement. Les habitants de Brest, Morlaix e...</td>\n",
       "      <td>0.0</td>\n",
       "      <td>1.0</td>\n",
       "      <td>1.0</td>\n",
       "      <td>0.0</td>\n",
       "      <td>0.0</td>\n",
       "      <td>0.0</td>\n",
       "      <td>1.0</td>\n",
       "      <td>0.0</td>\n",
       "      <td>0.0</td>\n",
       "      <td>0.0</td>\n",
       "      <td>0.0</td>\n",
       "      <td></td>\n",
       "      <td>FB</td>\n",
       "      <td>rater1</td>\n",
       "      <td>0552561b3c46f64febfbc3a77c301f085a98b966</td>\n",
       "    </tr>\n",
       "    <tr>\n",
       "      <th>2</th>\n",
       "      <td>https://reseauinternational.net/la-chine-le-pr...</td>\n",
       "      <td>https://app.observatoire.info/labelize?url_h=3...</td>\n",
       "      <td>La Chine : Le premier marché mondial de Smartp...</td>\n",
       "      <td>0.0</td>\n",
       "      <td>1.0</td>\n",
       "      <td>1.0</td>\n",
       "      <td>0.0</td>\n",
       "      <td>0.0</td>\n",
       "      <td>0.0</td>\n",
       "      <td>1.0</td>\n",
       "      <td>0.0</td>\n",
       "      <td>0.0</td>\n",
       "      <td>0.0</td>\n",
       "      <td>0.0</td>\n",
       "      <td></td>\n",
       "      <td>FB</td>\n",
       "      <td>rater1</td>\n",
       "      <td>361a904687dd4b1abb189717de7341ce162d21c7</td>\n",
       "    </tr>\n",
       "    <tr>\n",
       "      <th>3</th>\n",
       "      <td>https://lezarceleurs.blogspot.com/2021/12/emma...</td>\n",
       "      <td>https://app.observatoire.info/labelize?url_h=4...</td>\n",
       "      <td>Emmanuel à Olivier : « Tiens bon, on les aura ...</td>\n",
       "      <td>1.0</td>\n",
       "      <td>1.0</td>\n",
       "      <td>1.0</td>\n",
       "      <td>1.0</td>\n",
       "      <td>1.0</td>\n",
       "      <td>0.0</td>\n",
       "      <td>0.0</td>\n",
       "      <td>1.0</td>\n",
       "      <td>0.0</td>\n",
       "      <td>1.0</td>\n",
       "      <td>0.0</td>\n",
       "      <td>Article dupliqué (je l'avais manqué)</td>\n",
       "      <td>FB</td>\n",
       "      <td>rater1</td>\n",
       "      <td>433b403d386d5eba5dff7d45044cdb0fe7862972</td>\n",
       "    </tr>\n",
       "    <tr>\n",
       "      <th>4</th>\n",
       "      <td>https://lesakerfrancophone.fr/selon-ubs-les-pr...</td>\n",
       "      <td>https://app.observatoire.info/labelize?url_h=3...</td>\n",
       "      <td>Selon UBS, les « propriétés d’assurance tant d...</td>\n",
       "      <td>0.0</td>\n",
       "      <td>1.0</td>\n",
       "      <td>1.0</td>\n",
       "      <td>1.0</td>\n",
       "      <td>1.0</td>\n",
       "      <td>0.0</td>\n",
       "      <td>1.0</td>\n",
       "      <td>0.0</td>\n",
       "      <td>0.0</td>\n",
       "      <td>0.0</td>\n",
       "      <td>0.0</td>\n",
       "      <td></td>\n",
       "      <td>FB</td>\n",
       "      <td>rater1</td>\n",
       "      <td>3494ad0901a73fc6ceb2f74ac4ac1930af42b363</td>\n",
       "    </tr>\n",
       "    <tr>\n",
       "      <th>...</th>\n",
       "      <td>...</td>\n",
       "      <td>...</td>\n",
       "      <td>...</td>\n",
       "      <td>...</td>\n",
       "      <td>...</td>\n",
       "      <td>...</td>\n",
       "      <td>...</td>\n",
       "      <td>...</td>\n",
       "      <td>...</td>\n",
       "      <td>...</td>\n",
       "      <td>...</td>\n",
       "      <td>...</td>\n",
       "      <td>...</td>\n",
       "      <td>...</td>\n",
       "      <td>...</td>\n",
       "      <td>...</td>\n",
       "      <td>...</td>\n",
       "      <td>...</td>\n",
       "    </tr>\n",
       "    <tr>\n",
       "      <th>795</th>\n",
       "      <td>https://lemediaen442.fr/loi-climat-le-gouverne...</td>\n",
       "      <td>https://app.observatoire.info/labelize?url_h=d...</td>\n",
       "      <td>Loi climat : le gouvernement va exempter Amazo...</td>\n",
       "      <td>0.0</td>\n",
       "      <td>1.0</td>\n",
       "      <td>1.0</td>\n",
       "      <td>0.0</td>\n",
       "      <td>0.0</td>\n",
       "      <td>0.0</td>\n",
       "      <td>0.0</td>\n",
       "      <td>0.0</td>\n",
       "      <td>1.0</td>\n",
       "      <td>1.0</td>\n",
       "      <td>0.0</td>\n",
       "      <td></td>\n",
       "      <td>MC</td>\n",
       "      <td>rater8</td>\n",
       "      <td>d04a526d60fa6d67f61c7abcaf45092b8217a24d</td>\n",
       "    </tr>\n",
       "    <tr>\n",
       "      <th>796</th>\n",
       "      <td>https://www.breizh-info.com/2017/11/10/81481/q...</td>\n",
       "      <td>https://app.observatoire.info/labelize?url_h=1...</td>\n",
       "      <td>Le QI peut-il être augmenté par l’éducation ? ...</td>\n",
       "      <td>0.0</td>\n",
       "      <td>1.0</td>\n",
       "      <td>1.0</td>\n",
       "      <td>0.0</td>\n",
       "      <td>0.0</td>\n",
       "      <td>0.0</td>\n",
       "      <td>1.0</td>\n",
       "      <td>0.0</td>\n",
       "      <td>0.0</td>\n",
       "      <td>0.0</td>\n",
       "      <td>0.0</td>\n",
       "      <td></td>\n",
       "      <td>MC</td>\n",
       "      <td>rater8</td>\n",
       "      <td>14ed4715949dc7767359674df1a076bb1e0e417b</td>\n",
       "    </tr>\n",
       "    <tr>\n",
       "      <th>797</th>\n",
       "      <td>https://lesmoutonsrebelles.com/secte-sexuelle-...</td>\n",
       "      <td>https://app.observatoire.info/labelize?url_h=2...</td>\n",
       "      <td>Secte sexuelle : l’ex-star de Smallville Aliso...</td>\n",
       "      <td>0.0</td>\n",
       "      <td>1.0</td>\n",
       "      <td>1.0</td>\n",
       "      <td>0.0</td>\n",
       "      <td>0.0</td>\n",
       "      <td>0.0</td>\n",
       "      <td>1.0</td>\n",
       "      <td>0.0</td>\n",
       "      <td>1.0</td>\n",
       "      <td>0.0</td>\n",
       "      <td>0.0</td>\n",
       "      <td></td>\n",
       "      <td>MC</td>\n",
       "      <td>rater8</td>\n",
       "      <td>2841a1db742a25419c20d4a56eb65d8c05d92f65</td>\n",
       "    </tr>\n",
       "    <tr>\n",
       "      <th>798</th>\n",
       "      <td>https://lesalonbeige.fr/sacre-de-charles-iii-p...</td>\n",
       "      <td>https://app.observatoire.info/labelize?url_h=7...</td>\n",
       "      <td>Sacre de Charles III par SAR le Prince Charles...</td>\n",
       "      <td>0.0</td>\n",
       "      <td>1.0</td>\n",
       "      <td>1.0</td>\n",
       "      <td>1.0</td>\n",
       "      <td>1.0</td>\n",
       "      <td>0.0</td>\n",
       "      <td>0.0</td>\n",
       "      <td>0.0</td>\n",
       "      <td>1.0</td>\n",
       "      <td>0.0</td>\n",
       "      <td>0.0</td>\n",
       "      <td></td>\n",
       "      <td>MC</td>\n",
       "      <td>rater8</td>\n",
       "      <td>7f8a6372ed4084fc88263c03e3b9186f082e2162</td>\n",
       "    </tr>\n",
       "    <tr>\n",
       "      <th>799</th>\n",
       "      <td>https://www.francesoir.fr/politique-france/bac...</td>\n",
       "      <td>https://app.observatoire.info/labelize?url_h=1...</td>\n",
       "      <td>Bac 2019: appel à poursuivre la grève jusqu'au...</td>\n",
       "      <td>0.0</td>\n",
       "      <td>1.0</td>\n",
       "      <td>1.0</td>\n",
       "      <td>0.0</td>\n",
       "      <td>0.0</td>\n",
       "      <td>0.0</td>\n",
       "      <td>1.0</td>\n",
       "      <td>0.0</td>\n",
       "      <td>0.0</td>\n",
       "      <td>0.0</td>\n",
       "      <td>0.0</td>\n",
       "      <td></td>\n",
       "      <td>MC</td>\n",
       "      <td>rater8</td>\n",
       "      <td>1c4c0f87d734ce85798487b6083220e7092b3ffe</td>\n",
       "    </tr>\n",
       "  </tbody>\n",
       "</table>\n",
       "<p>800 rows × 18 columns</p>\n",
       "</div>"
      ],
      "text/plain": [
       "                                                   url   \n",
       "0    https://lesakerfrancophone.fr/la-relation-entr...  \\\n",
       "1    https://www.breizh-info.com/2021/01/27/157958/...   \n",
       "2    https://reseauinternational.net/la-chine-le-pr...   \n",
       "3    https://lezarceleurs.blogspot.com/2021/12/emma...   \n",
       "4    https://lesakerfrancophone.fr/selon-ubs-les-pr...   \n",
       "..                                                 ...   \n",
       "795  https://lemediaen442.fr/loi-climat-le-gouverne...   \n",
       "796  https://www.breizh-info.com/2017/11/10/81481/q...   \n",
       "797  https://lesmoutonsrebelles.com/secte-sexuelle-...   \n",
       "798  https://lesalonbeige.fr/sacre-de-charles-iii-p...   \n",
       "799  https://www.francesoir.fr/politique-france/bac...   \n",
       "\n",
       "                                         url_labelizer   \n",
       "0    https://app.observatoire.info/labelize?url_h=c...  \\\n",
       "1    https://app.observatoire.info/labelize?url_h=0...   \n",
       "2    https://app.observatoire.info/labelize?url_h=3...   \n",
       "3    https://app.observatoire.info/labelize?url_h=4...   \n",
       "4    https://app.observatoire.info/labelize?url_h=3...   \n",
       "..                                                 ...   \n",
       "795  https://app.observatoire.info/labelize?url_h=d...   \n",
       "796  https://app.observatoire.info/labelize?url_h=1...   \n",
       "797  https://app.observatoire.info/labelize?url_h=2...   \n",
       "798  https://app.observatoire.info/labelize?url_h=7...   \n",
       "799  https://app.observatoire.info/labelize?url_h=1...   \n",
       "\n",
       "                                                 title  infox   \n",
       "0      La relation entre la technologie et la religion    0.0  \\\n",
       "1    Confinement. Les habitants de Brest, Morlaix e...    0.0   \n",
       "2    La Chine : Le premier marché mondial de Smartp...    0.0   \n",
       "3    Emmanuel à Olivier : « Tiens bon, on les aura ...    1.0   \n",
       "4    Selon UBS, les « propriétés d’assurance tant d...    0.0   \n",
       "..                                                 ...    ...   \n",
       "795  Loi climat : le gouvernement va exempter Amazo...    0.0   \n",
       "796  Le QI peut-il être augmenté par l’éducation ? ...    0.0   \n",
       "797  Secte sexuelle : l’ex-star de Smallville Aliso...    0.0   \n",
       "798  Sacre de Charles III par SAR le Prince Charles...    0.0   \n",
       "799  Bac 2019: appel à poursuivre la grève jusqu'au...    0.0   \n",
       "\n",
       "     lieux, dates et personnes  faits  opinions  subjectif  propos rapporté   \n",
       "0                          1.0    1.0       1.0        1.0              0.0  \\\n",
       "1                          1.0    1.0       0.0        0.0              0.0   \n",
       "2                          1.0    1.0       0.0        0.0              0.0   \n",
       "3                          1.0    1.0       1.0        1.0              0.0   \n",
       "4                          1.0    1.0       1.0        1.0              0.0   \n",
       "..                         ...    ...       ...        ...              ...   \n",
       "795                        1.0    1.0       0.0        0.0              0.0   \n",
       "796                        1.0    1.0       0.0        0.0              0.0   \n",
       "797                        1.0    1.0       0.0        0.0              0.0   \n",
       "798                        1.0    1.0       1.0        1.0              0.0   \n",
       "799                        1.0    1.0       0.0        0.0              0.0   \n",
       "\n",
       "     sources citées  fausse nouvelle  insinuation  exagération  titre décalé   \n",
       "0               1.0              0.0          0.0          0.0           0.0  \\\n",
       "1               1.0              0.0          0.0          0.0           0.0   \n",
       "2               1.0              0.0          0.0          0.0           0.0   \n",
       "3               0.0              1.0          0.0          1.0           0.0   \n",
       "4               1.0              0.0          0.0          0.0           0.0   \n",
       "..              ...              ...          ...          ...           ...   \n",
       "795             0.0              0.0          1.0          1.0           0.0   \n",
       "796             1.0              0.0          0.0          0.0           0.0   \n",
       "797             1.0              0.0          1.0          0.0           0.0   \n",
       "798             0.0              0.0          1.0          0.0           0.0   \n",
       "799             1.0              0.0          0.0          0.0           0.0   \n",
       "\n",
       "                             commentaires observateur   rater   \n",
       "0     vraiment indigeste pour commencer !          FB  rater1  \\\n",
       "1                                                  FB  rater1   \n",
       "2                                                  FB  rater1   \n",
       "3    Article dupliqué (je l'avais manqué)          FB  rater1   \n",
       "4                                                  FB  rater1   \n",
       "..                                    ...         ...     ...   \n",
       "795                                                MC  rater8   \n",
       "796                                                MC  rater8   \n",
       "797                                                MC  rater8   \n",
       "798                                                MC  rater8   \n",
       "799                                                MC  rater8   \n",
       "\n",
       "                                        url_h  \n",
       "0    c13175936764a345ec21bc398fe750a41496078e  \n",
       "1    0552561b3c46f64febfbc3a77c301f085a98b966  \n",
       "2    361a904687dd4b1abb189717de7341ce162d21c7  \n",
       "3    433b403d386d5eba5dff7d45044cdb0fe7862972  \n",
       "4    3494ad0901a73fc6ceb2f74ac4ac1930af42b363  \n",
       "..                                        ...  \n",
       "795  d04a526d60fa6d67f61c7abcaf45092b8217a24d  \n",
       "796  14ed4715949dc7767359674df1a076bb1e0e417b  \n",
       "797  2841a1db742a25419c20d4a56eb65d8c05d92f65  \n",
       "798  7f8a6372ed4084fc88263c03e3b9186f082e2162  \n",
       "799  1c4c0f87d734ce85798487b6083220e7092b3ffe  \n",
       "\n",
       "[800 rows x 18 columns]"
      ]
     },
     "execution_count": 16,
     "metadata": {},
     "output_type": "execute_result"
    }
   ],
   "source": [
    "df_obsinfo"
   ]
  },
  {
   "cell_type": "markdown",
   "id": "678bb535",
   "metadata": {},
   "source": [
    "### Annotations ChatGpt"
   ]
  },
  {
   "cell_type": "code",
   "execution_count": 17,
   "id": "2dc237e1",
   "metadata": {},
   "outputs": [],
   "source": [
    "import patat.util.gsheet\n",
    "\n",
    "gs = patat.util.gsheet.GoogleSheet()\n",
    "\n",
    "sheet_id = '1cfuBc61rK7BlNog19Aq7atqlau8GfV8a3B3b5QzH8Xs'\n",
    "range_name = 'Annotations'\n",
    "\n",
    "df_gpt = gs.read_df(sheet_id,range_name)"
   ]
  },
  {
   "cell_type": "code",
   "execution_count": 18,
   "id": "9fe5ba91",
   "metadata": {},
   "outputs": [],
   "source": [
    "for label in labels:\n",
    "    df_gpt[label]=df_gpt[label].apply(normalize)"
   ]
  },
  {
   "cell_type": "code",
   "execution_count": 19,
   "id": "a5409200",
   "metadata": {},
   "outputs": [],
   "source": [
    "df_gpt['url_h'] = df_gpt['url_labelizer'].apply(lambda s: s[-40:])"
   ]
  },
  {
   "cell_type": "markdown",
   "id": "3e8fb0cc",
   "metadata": {},
   "source": [
    "# Moyennes et accords"
   ]
  },
  {
   "cell_type": "code",
   "execution_count": 20,
   "id": "940beba0",
   "metadata": {},
   "outputs": [],
   "source": [
    "df_mean = df_obsinfo.pivot_table(index='url_h',values=labels,aggfunc='mean')"
   ]
  },
  {
   "cell_type": "code",
   "execution_count": 21,
   "id": "74f037b7",
   "metadata": {},
   "outputs": [],
   "source": [
    "df_accord = df_mean.apply(lambda x : abs(2*x-1))"
   ]
  },
  {
   "cell_type": "markdown",
   "id": "e6b16729",
   "metadata": {},
   "source": [
    "## Performances ChatGpt - Moyenne\n",
    "- On ne considère que les labels pour lesquels accord >= seuil_accord."
   ]
  },
  {
   "cell_type": "code",
   "execution_count": 36,
   "id": "fafd27c2",
   "metadata": {},
   "outputs": [],
   "source": [
    "#seuil_accord = 1 # 8/8 observateurs\n",
    "#seuil_accord = 0.75 # 7/8 observateurs\n",
    "#seuil_accord = 0.50 # 6/8 observateurs\n",
    "#seuil_accord = 0.25 # 5/8 observateurs\n",
    "seuil_accord = 0 # toutes observations prises en compte"
   ]
  },
  {
   "cell_type": "code",
   "execution_count": 37,
   "id": "8ae0b8d7",
   "metadata": {},
   "outputs": [],
   "source": [
    "gpt_score = []\n",
    "mean_pred = []\n",
    "for index,row in df_gpt.iterrows():\n",
    "    url_h=row['url_h']\n",
    "    score_item = {'url_h':url_h}\n",
    "    pred_item = {'url_h':url_h}\n",
    "    for label in labels:\n",
    "        if df_accord [label][index] >= seuil_accord:\n",
    "            score_item[label]=row[label]-df_mean[label][url_h]\n",
    "            pred_item[label] = round(df_mean[label][url_h])\n",
    "    gpt_score.append(score_item)\n",
    "    mean_pred.append(pred_item)\n",
    "        "
   ]
  },
  {
   "cell_type": "code",
   "execution_count": 38,
   "id": "53e575d6",
   "metadata": {},
   "outputs": [],
   "source": [
    "df_gpt_score = pd.DataFrame(gpt_score)\n",
    "df_mean_pred = pd.DataFrame(mean_pred)"
   ]
  },
  {
   "cell_type": "code",
   "execution_count": 39,
   "id": "afa7e677",
   "metadata": {},
   "outputs": [],
   "source": [
    "from sklearn import metrics"
   ]
  },
  {
   "cell_type": "code",
   "execution_count": 40,
   "id": "d97afdb7",
   "metadata": {},
   "outputs": [],
   "source": [
    "results = {}\n",
    "for label in labels:\n",
    "    indexes = df_mean_pred[label].notna()\n",
    "    y_test = df_mean_pred[label][indexes]\n",
    "    y_pred = df_gpt[label][indexes]  \n",
    "    results[label] = {}\n",
    "    results[label]['accuracy']=metrics.accuracy_score(y_test, y_pred)\n",
    "    results[label]['precision']=metrics.precision_score(y_test, y_pred)\n",
    "    results[label]['f1']=metrics.f1_score(y_test, y_pred)\n",
    "    results[label]['recall']=metrics.recall_score(y_test, y_pred)\n",
    "    cnf_matrix = metrics.confusion_matrix(y_test, y_pred,normalize='all')\n",
    "    results[label]['false_positive']=cnf_matrix[0,1]\n",
    "    results[label]['false_negative']=cnf_matrix[1,0]\n",
    "    results[label]['count']=len(y_test)\n"
   ]
  },
  {
   "cell_type": "code",
   "execution_count": 41,
   "id": "a1a6a32b",
   "metadata": {},
   "outputs": [],
   "source": [
    "pd.set_option('display.precision',3)"
   ]
  },
  {
   "cell_type": "code",
   "execution_count": 42,
   "id": "46c772f0",
   "metadata": {},
   "outputs": [
    {
     "data": {
      "text/html": [
       "<div>\n",
       "<style scoped>\n",
       "    .dataframe tbody tr th:only-of-type {\n",
       "        vertical-align: middle;\n",
       "    }\n",
       "\n",
       "    .dataframe tbody tr th {\n",
       "        vertical-align: top;\n",
       "    }\n",
       "\n",
       "    .dataframe thead th {\n",
       "        text-align: right;\n",
       "    }\n",
       "</style>\n",
       "<table border=\"1\" class=\"dataframe\">\n",
       "  <thead>\n",
       "    <tr style=\"text-align: right;\">\n",
       "      <th></th>\n",
       "      <th>accuracy</th>\n",
       "      <th>precision</th>\n",
       "      <th>f1</th>\n",
       "      <th>recall</th>\n",
       "      <th>false_positive</th>\n",
       "      <th>false_negative</th>\n",
       "      <th>count</th>\n",
       "    </tr>\n",
       "  </thead>\n",
       "  <tbody>\n",
       "    <tr>\n",
       "      <th>infox</th>\n",
       "      <td>0.77</td>\n",
       "      <td>0.900</td>\n",
       "      <td>0.439</td>\n",
       "      <td>0.290</td>\n",
       "      <td>0.01</td>\n",
       "      <td>0.22</td>\n",
       "      <td>100.0</td>\n",
       "    </tr>\n",
       "    <tr>\n",
       "      <th>lieux, dates et personnes</th>\n",
       "      <td>0.81</td>\n",
       "      <td>1.000</td>\n",
       "      <td>0.894</td>\n",
       "      <td>0.808</td>\n",
       "      <td>0.00</td>\n",
       "      <td>0.19</td>\n",
       "      <td>100.0</td>\n",
       "    </tr>\n",
       "    <tr>\n",
       "      <th>faits</th>\n",
       "      <td>0.95</td>\n",
       "      <td>0.989</td>\n",
       "      <td>0.974</td>\n",
       "      <td>0.959</td>\n",
       "      <td>0.01</td>\n",
       "      <td>0.04</td>\n",
       "      <td>100.0</td>\n",
       "    </tr>\n",
       "    <tr>\n",
       "      <th>opinions</th>\n",
       "      <td>0.81</td>\n",
       "      <td>0.963</td>\n",
       "      <td>0.846</td>\n",
       "      <td>0.754</td>\n",
       "      <td>0.02</td>\n",
       "      <td>0.17</td>\n",
       "      <td>100.0</td>\n",
       "    </tr>\n",
       "    <tr>\n",
       "      <th>subjectif</th>\n",
       "      <td>0.73</td>\n",
       "      <td>0.971</td>\n",
       "      <td>0.716</td>\n",
       "      <td>0.567</td>\n",
       "      <td>0.01</td>\n",
       "      <td>0.26</td>\n",
       "      <td>100.0</td>\n",
       "    </tr>\n",
       "    <tr>\n",
       "      <th>propos rapporté</th>\n",
       "      <td>0.79</td>\n",
       "      <td>0.111</td>\n",
       "      <td>0.087</td>\n",
       "      <td>0.071</td>\n",
       "      <td>0.08</td>\n",
       "      <td>0.13</td>\n",
       "      <td>100.0</td>\n",
       "    </tr>\n",
       "    <tr>\n",
       "      <th>sources citées</th>\n",
       "      <td>0.50</td>\n",
       "      <td>1.000</td>\n",
       "      <td>0.479</td>\n",
       "      <td>0.315</td>\n",
       "      <td>0.00</td>\n",
       "      <td>0.50</td>\n",
       "      <td>100.0</td>\n",
       "    </tr>\n",
       "    <tr>\n",
       "      <th>fausse nouvelle</th>\n",
       "      <td>0.88</td>\n",
       "      <td>1.000</td>\n",
       "      <td>0.250</td>\n",
       "      <td>0.143</td>\n",
       "      <td>0.00</td>\n",
       "      <td>0.12</td>\n",
       "      <td>100.0</td>\n",
       "    </tr>\n",
       "    <tr>\n",
       "      <th>insinuation</th>\n",
       "      <td>0.61</td>\n",
       "      <td>0.857</td>\n",
       "      <td>0.235</td>\n",
       "      <td>0.136</td>\n",
       "      <td>0.01</td>\n",
       "      <td>0.38</td>\n",
       "      <td>100.0</td>\n",
       "    </tr>\n",
       "    <tr>\n",
       "      <th>exagération</th>\n",
       "      <td>0.68</td>\n",
       "      <td>0.700</td>\n",
       "      <td>0.467</td>\n",
       "      <td>0.350</td>\n",
       "      <td>0.06</td>\n",
       "      <td>0.26</td>\n",
       "      <td>100.0</td>\n",
       "    </tr>\n",
       "    <tr>\n",
       "      <th>titre décalé</th>\n",
       "      <td>0.97</td>\n",
       "      <td>0.000</td>\n",
       "      <td>0.000</td>\n",
       "      <td>0.000</td>\n",
       "      <td>0.01</td>\n",
       "      <td>0.02</td>\n",
       "      <td>100.0</td>\n",
       "    </tr>\n",
       "  </tbody>\n",
       "</table>\n",
       "</div>"
      ],
      "text/plain": [
       "                           accuracy  precision     f1  recall  false_positive   \n",
       "infox                          0.77      0.900  0.439   0.290            0.01  \\\n",
       "lieux, dates et personnes      0.81      1.000  0.894   0.808            0.00   \n",
       "faits                          0.95      0.989  0.974   0.959            0.01   \n",
       "opinions                       0.81      0.963  0.846   0.754            0.02   \n",
       "subjectif                      0.73      0.971  0.716   0.567            0.01   \n",
       "propos rapporté                0.79      0.111  0.087   0.071            0.08   \n",
       "sources citées                 0.50      1.000  0.479   0.315            0.00   \n",
       "fausse nouvelle                0.88      1.000  0.250   0.143            0.00   \n",
       "insinuation                    0.61      0.857  0.235   0.136            0.01   \n",
       "exagération                    0.68      0.700  0.467   0.350            0.06   \n",
       "titre décalé                   0.97      0.000  0.000   0.000            0.01   \n",
       "\n",
       "                           false_negative  count  \n",
       "infox                                0.22  100.0  \n",
       "lieux, dates et personnes            0.19  100.0  \n",
       "faits                                0.04  100.0  \n",
       "opinions                             0.17  100.0  \n",
       "subjectif                            0.26  100.0  \n",
       "propos rapporté                      0.13  100.0  \n",
       "sources citées                       0.50  100.0  \n",
       "fausse nouvelle                      0.12  100.0  \n",
       "insinuation                          0.38  100.0  \n",
       "exagération                          0.26  100.0  \n",
       "titre décalé                         0.02  100.0  "
      ]
     },
     "execution_count": 42,
     "metadata": {},
     "output_type": "execute_result"
    }
   ],
   "source": [
    "df_results = pd.DataFrame(results).T\n",
    "df_results"
   ]
  },
  {
   "cell_type": "code",
   "execution_count": 43,
   "id": "60e58dec",
   "metadata": {},
   "outputs": [
    {
     "name": "stderr",
     "output_type": "stream",
     "text": [
      "/var/folders/fr/mhrqmk5n1xs49b7jl3tgs2r00000gn/T/ipykernel_7175/555305101.py:2: UserWarning: FixedFormatter should only be used together with FixedLocator\n",
      "  plot.set_xticklabels(plot.get_xticklabels(), rotation=90)\n"
     ]
    },
    {
     "data": {
      "text/plain": [
       "[Text(0, 0, 'infox'),\n",
       " Text(1, 0, 'lieux, dates et personnes'),\n",
       " Text(2, 0, 'faits'),\n",
       " Text(3, 0, 'opinions'),\n",
       " Text(4, 0, 'subjectif'),\n",
       " Text(5, 0, 'propos rapporté'),\n",
       " Text(6, 0, 'sources citées'),\n",
       " Text(7, 0, 'fausse nouvelle'),\n",
       " Text(8, 0, 'insinuation'),\n",
       " Text(9, 0, 'exagération'),\n",
       " Text(10, 0, 'titre décalé')]"
      ]
     },
     "execution_count": 43,
     "metadata": {},
     "output_type": "execute_result"
    },
    {
     "data": {
      "image/png": "[encoded data removed]",
      "text/plain": [
       "<Figure size 640x480 with 1 Axes>"
      ]
     },
     "metadata": {},
     "output_type": "display_data"
    }
   ],
   "source": [
    "plot = sns.scatterplot(df_results[['accuracy','f1']])\n",
    "plot.set_xticklabels(plot.get_xticklabels(), rotation=90)"
   ]
  },
  {
   "cell_type": "code",
   "execution_count": 44,
   "id": "5ee57d4a",
   "metadata": {},
   "outputs": [
    {
     "name": "stderr",
     "output_type": "stream",
     "text": [
      "/var/folders/fr/mhrqmk5n1xs49b7jl3tgs2r00000gn/T/ipykernel_7175/774940859.py:2: UserWarning: FixedFormatter should only be used together with FixedLocator\n",
      "  plot.set_xticklabels(plot.get_xticklabels(), rotation=90)\n"
     ]
    },
    {
     "data": {
      "text/plain": [
       "[Text(0, 0, 'infox'),\n",
       " Text(1, 0, 'lieux, dates et personnes'),\n",
       " Text(2, 0, 'faits'),\n",
       " Text(3, 0, 'opinions'),\n",
       " Text(4, 0, 'subjectif'),\n",
       " Text(5, 0, 'propos rapporté'),\n",
       " Text(6, 0, 'sources citées'),\n",
       " Text(7, 0, 'fausse nouvelle'),\n",
       " Text(8, 0, 'insinuation'),\n",
       " Text(9, 0, 'exagération'),\n",
       " Text(10, 0, 'titre décalé')]"
      ]
     },
     "execution_count": 44,
     "metadata": {},
     "output_type": "execute_result"
    },
    {
     "data": {
      "image/png": "[encoded data removed]",
      "text/plain": [
       "<Figure size 640x480 with 1 Axes>"
      ]
     },
     "metadata": {},
     "output_type": "display_data"
    }
   ],
   "source": [
    "plot = sns.scatterplot(df_results[['precision','recall']])\n",
    "plot.set_xticklabels(plot.get_xticklabels(), rotation=90)"
   ]
  },
  {
   "cell_type": "code",
   "execution_count": 45,
   "id": "f3fc5410",
   "metadata": {},
   "outputs": [
    {
     "name": "stderr",
     "output_type": "stream",
     "text": [
      "/var/folders/fr/mhrqmk5n1xs49b7jl3tgs2r00000gn/T/ipykernel_7175/2886839867.py:2: UserWarning: FixedFormatter should only be used together with FixedLocator\n",
      "  plot.set_xticklabels(plot.get_xticklabels(), rotation=90)\n"
     ]
    },
    {
     "data": {
      "text/plain": [
       "[Text(0, 0, 'infox'),\n",
       " Text(1, 0, 'lieux, dates et personnes'),\n",
       " Text(2, 0, 'faits'),\n",
       " Text(3, 0, 'opinions'),\n",
       " Text(4, 0, 'subjectif'),\n",
       " Text(5, 0, 'propos rapporté'),\n",
       " Text(6, 0, 'sources citées'),\n",
       " Text(7, 0, 'fausse nouvelle'),\n",
       " Text(8, 0, 'insinuation'),\n",
       " Text(9, 0, 'exagération'),\n",
       " Text(10, 0, 'titre décalé')]"
      ]
     },
     "execution_count": 45,
     "metadata": {},
     "output_type": "execute_result"
    },
    {
     "data": {
      "image/png": "[encoded data removed]",
      "text/plain": [
       "<Figure size 640x480 with 1 Axes>"
      ]
     },
     "metadata": {},
     "output_type": "display_data"
    }
   ],
   "source": [
    "plot = sns.scatterplot(df_results[['false_positive','false_negative']])\n",
    "plot.set_xticklabels(plot.get_xticklabels(), rotation=90)"
   ]
  },
  {
   "cell_type": "code",
   "execution_count": null,
   "id": "e016c0e7",
   "metadata": {},
   "outputs": [],
   "source": []
  },
  {
   "cell_type": "code",
   "execution_count": null,
   "id": "06ebe7f5",
   "metadata": {},
   "outputs": [],
   "source": []
  }
 ],
 "metadata": {
  "kernelspec": {
   "display_name": "Python 3 (ipykernel)",
   "language": "python",
   "name": "python3"
  },
  "language_info": {
   "codemirror_mode": {
    "name": "ipython",
    "version": 3
   },
   "file_extension": ".py",
   "mimetype": "text/x-python",
   "name": "python",
   "nbconvert_exporter": "python",
   "pygments_lexer": "ipython3",
   "version": "3.10.11"
  }
 },
 "nbformat": 4,
 "nbformat_minor": 5
}
