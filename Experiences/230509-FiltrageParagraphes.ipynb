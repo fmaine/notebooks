{
 "cells": [
  {
   "cell_type": "markdown",
   "id": "43dd967d",
   "metadata": {},
   "source": [
    "# Plateforme Agnostique de Traitement et d'Analyse des Textes\n",
    "### Carnet d'expérimentation\n",
    "---\n",
    "\n",
    "\n",
    "## Sujet : Filtrage Paragraphes\n",
    "\n",
    "\n",
    "---"
   ]
  },
  {
   "cell_type": "markdown",
   "id": "2601e626",
   "metadata": {},
   "source": [
    "# Observations et environnement\n",
    "---"
   ]
  },
  {
   "cell_type": "code",
   "execution_count": 1,
   "id": "e6fbd80c",
   "metadata": {},
   "outputs": [],
   "source": [
    "random_state = 42"
   ]
  },
  {
   "cell_type": "code",
   "execution_count": 2,
   "id": "5d0de4d7",
   "metadata": {},
   "outputs": [
    {
     "name": "stdout",
     "output_type": "stream",
     "text": [
      "/Volumes/Geek/Work/Patat\n"
     ]
    }
   ],
   "source": [
    "cd ../.."
   ]
  },
  {
   "cell_type": "code",
   "execution_count": 24,
   "id": "32256b0d",
   "metadata": {},
   "outputs": [],
   "source": [
    "import ast\n",
    "import importlib\n",
    "import pandas as pd\n",
    "import seaborn as sns\n",
    "from tqdm.notebook import tqdm\n",
    "tqdm.pandas()"
   ]
  },
  {
   "cell_type": "markdown",
   "id": "29618668",
   "metadata": {},
   "source": [
    "## Stats Recueil"
   ]
  },
  {
   "cell_type": "code",
   "execution_count": 25,
   "id": "2bec26c5",
   "metadata": {},
   "outputs": [],
   "source": [
    "df_recueil = pd.read_csv('data/prod/230507-Recueil.csv')"
   ]
  },
  {
   "cell_type": "code",
   "execution_count": 26,
   "id": "c30f7f63",
   "metadata": {},
   "outputs": [],
   "source": [
    "df_recueil['paragraphs'] = df_recueil['paragraphs'].apply(ast.literal_eval)"
   ]
  },
  {
   "cell_type": "code",
   "execution_count": 27,
   "id": "16cd3799",
   "metadata": {},
   "outputs": [
    {
     "data": {
      "text/plain": [
       "site\n",
       "www.francesoir.fr                    117\n",
       "www.breizh-info.com                   50\n",
       "lesmoutonsrebelles.com                44\n",
       "www.wikistrike.com                    43\n",
       "lezarceleurs.blogspot.com             36\n",
       "lesdeqodeurs.fr                       28\n",
       "lemediaen442.fr                       23\n",
       "www.dreuz.info                        19\n",
       "www.profession-gendarme.com           19\n",
       "fr.sott.net                           18\n",
       "www.polemia.com                       17\n",
       "www.mondialisation.ca                 17\n",
       "www.nouvelordremondial.cc             14\n",
       "www.lelibrepenseur.org                14\n",
       "reseauinternational.net               14\n",
       "www.voltairenet.org                   12\n",
       "www.lesalonbeige.fr                   10\n",
       "www.anguillesousroche.com              9\n",
       "lecourrier-du-soir.com                 9\n",
       "www.les-crises.fr                      8\n",
       "lesobservateurs.ch                     8\n",
       "www.preuvesduparanormal.fr             8\n",
       "www.medias-presse.info                 7\n",
       "www.alnas.fr                           7\n",
       "lesakerfrancophone.fr                  7\n",
       "www.bvoltaire.fr                       6\n",
       "fr.novopress.info                      6\n",
       "ripostelaique.com                      6\n",
       "infodujour.fr                          5\n",
       "www.cnews.fr                           4\n",
       "lalettrepatriote.com                   4\n",
       "lumieresurgaia.com                     4\n",
       "www.la-petite-souris-normande.com      3\n",
       "francais.rt.com                        3\n",
       "www.revue-elements.com                 3\n",
       "qactus.fr                              2\n",
       "lecourrierdesstrateges.fr              2\n",
       "www.fdesouche.com                      2\n",
       "www.epochtimes.fr                      2\n",
       "elucid.media                           2\n",
       "extime.fr                              2\n",
       "bonsens.info                           2\n",
       "planetes360.fr                         1\n",
       "dtype: int64"
      ]
     },
     "execution_count": 27,
     "metadata": {},
     "output_type": "execute_result"
    }
   ],
   "source": [
    "df_recueil.value_counts('site')"
   ]
  },
  {
   "cell_type": "markdown",
   "id": "44deec63",
   "metadata": {},
   "source": [
    "## Filtrage"
   ]
  },
  {
   "cell_type": "code",
   "execution_count": 28,
   "id": "0501ebd4",
   "metadata": {},
   "outputs": [],
   "source": [
    "import patat.imp.clean_params"
   ]
  },
  {
   "cell_type": "code",
   "execution_count": 48,
   "id": "e1a512f3",
   "metadata": {},
   "outputs": [
    {
     "data": {
      "text/plain": [
       "<module 'patat.imp.clean_params' from '/Volumes/Geek/Work/Patat/patat/imp/clean_params.py'>"
      ]
     },
     "execution_count": 48,
     "metadata": {},
     "output_type": "execute_result"
    }
   ],
   "source": [
    "importlib.reload(patat.imp.clean_params)"
   ]
  },
  {
   "cell_type": "code",
   "execution_count": 49,
   "id": "6f916ff4",
   "metadata": {},
   "outputs": [
    {
     "data": {
      "text/plain": [
       "{'www.francesoir.fr': ['Faites un don',\n",
       "  'La newsletter FranceSoir',\n",
       "  'En vous inscrivant, vous autorisez FranceSoir à vous contacter par e-mail.',\n",
       "  '> Le manifeste\\nLes «aimants» de l’information. De Théophraste Renaudot à Victor Hugo, en passant par Emile de Girardin et Pierre Lazareff, l’histoire de la presse française est jalonnée d’initiatives et de renoncements, de tâtonnements et de critiques, d’échecs et de grands succès. FranceSoir est un rendez-vous journalistique incontournable [...] Lire la suite'],\n",
       " 'www.breizh-info.com': ['[cc] Breizh-info.com, 2022, dépêches libres de copie et de diffusion sous réserve de mention et de lien vers la source d’origine'],\n",
       " 'lesmoutonsrebelles.com': ['Lire aussi : .*\\\\n'],\n",
       " 'www.wikistrike.com': [],\n",
       " 'lezarceleurs.blogspot.com': [],\n",
       " 'www.dreuz.info': ['Abonnez-vous sans tarder à notre chaîne Telegram, pour le cas où Dreuz soit censuré, ou son accès coupé. Cliquez ici : Dreuz.Info.Telegram.',\n",
       "  '*En achetant le livre avec ce lien, vous soutenez Dreuz qui reçoit une commission de 5%. Cette information est fournie pour assurer une parfaite transparence des conséquences de votre action, conformément à la recommandation 16 CFR § 255.5 de la Federal Trade Commission.',\n",
       "  'Reproduction autorisée avec la mention suivante : © Jean-Patrick Grumberg pour Dreuz.info.']}"
      ]
     },
     "execution_count": 49,
     "metadata": {},
     "output_type": "execute_result"
    }
   ],
   "source": [
    "patat.imp.clean_params.remove_paragraphs"
   ]
  },
  {
   "cell_type": "code",
   "execution_count": 50,
   "id": "fc2117ad",
   "metadata": {},
   "outputs": [],
   "source": [
    "def filter(parags,site):\n",
    "    result = []\n",
    "    for p in parags:\n",
    "        if p not in patat.imp.clean_params.remove_paragraphs.get(site,[]):\n",
    "            result.append(p)\n",
    "    return result"
   ]
  },
  {
   "cell_type": "code",
   "execution_count": 51,
   "id": "42f776da",
   "metadata": {},
   "outputs": [
    {
     "data": {
      "text/html": [
       "<div>\n",
       "<style scoped>\n",
       "    .dataframe tbody tr th:only-of-type {\n",
       "        vertical-align: middle;\n",
       "    }\n",
       "\n",
       "    .dataframe tbody tr th {\n",
       "        vertical-align: top;\n",
       "    }\n",
       "\n",
       "    .dataframe thead th {\n",
       "        text-align: right;\n",
       "    }\n",
       "</style>\n",
       "<table border=\"1\" class=\"dataframe\">\n",
       "  <thead>\n",
       "    <tr style=\"text-align: right;\">\n",
       "      <th></th>\n",
       "      <th>url</th>\n",
       "      <th>site</th>\n",
       "      <th>title</th>\n",
       "      <th>article</th>\n",
       "      <th>author</th>\n",
       "      <th>date</th>\n",
       "      <th>tags</th>\n",
       "      <th>paragraphs</th>\n",
       "      <th>date_iso</th>\n",
       "      <th>abstract</th>\n",
       "      <th>c_count</th>\n",
       "      <th>p_count</th>\n",
       "    </tr>\n",
       "  </thead>\n",
       "  <tbody>\n",
       "    <tr>\n",
       "      <th>78</th>\n",
       "      <td>https://www.dreuz.info/2022/04/attentats-crime...</td>\n",
       "      <td>www.dreuz.info</td>\n",
       "      <td>Attentats, crimes, tueries et autres atrocités...</td>\n",
       "      <td>Dreuz publie chaque année depuis 9 ans la list...</td>\n",
       "      <td>Publié par  Jean-Patrick Grumberg le 2 mai 2022</td>\n",
       "      <td>Publié par  Jean-Patrick Grumberg le 2 mai 2022</td>\n",
       "      <td>[]</td>\n",
       "      <td>[Nous ne sommes plus étonnés de constater qu’a...</td>\n",
       "      <td>2022-05-02T00:00:00</td>\n",
       "      <td>Dreuz publie chaque année depuis 9 ans la list...</td>\n",
       "      <td>109600</td>\n",
       "      <td>2</td>\n",
       "    </tr>\n",
       "    <tr>\n",
       "      <th>79</th>\n",
       "      <td>https://www.dreuz.info/2022/05/le-proces-du-fa...</td>\n",
       "      <td>www.dreuz.info</td>\n",
       "      <td>Procès sur l’origine du dossier russe : le FBI...</td>\n",
       "      <td>Enquêteur spécial John Durham\\nLe premier proc...</td>\n",
       "      <td>Publié par  Jean-Patrick Grumberg le 28 mai 2022</td>\n",
       "      <td>Publié par  Jean-Patrick Grumberg le 28 mai 2022</td>\n",
       "      <td>[]</td>\n",
       "      <td>[En septembre 2021, après de longs mois qui m'...</td>\n",
       "      <td>2022-05-28T00:00:00</td>\n",
       "      <td>1</td>\n",
       "      <td>49860</td>\n",
       "      <td>119</td>\n",
       "    </tr>\n",
       "    <tr>\n",
       "      <th>80</th>\n",
       "      <td>https://www.dreuz.info/2022/05/la-gauche-ameri...</td>\n",
       "      <td>www.dreuz.info</td>\n",
       "      <td>La gauche américaine a tué 19 enfants et deux ...</td>\n",
       "      <td>L’atroce tuerie perpétrée à Uvalde, Texas, voi...</td>\n",
       "      <td>Publié par  Guy Millière le 31 mai 2022</td>\n",
       "      <td>Publié par  Guy Millière le 31 mai 2022</td>\n",
       "      <td>[]</td>\n",
       "      <td>[La gauche américaine fait campagne sur ce thè...</td>\n",
       "      <td>2022-05-31T00:00:00</td>\n",
       "      <td>L’atroce tuerie perpétrée à Uvalde, Texas, voi...</td>\n",
       "      <td>12173</td>\n",
       "      <td>10</td>\n",
       "    </tr>\n",
       "    <tr>\n",
       "      <th>81</th>\n",
       "      <td>https://www.dreuz.info/2022/05/invasion-de-luk...</td>\n",
       "      <td>www.dreuz.info</td>\n",
       "      <td>Invasion de l’Ukraine : la Suisse neutre se ra...</td>\n",
       "      <td>Le statut de neutralité légendaire de la Suiss...</td>\n",
       "      <td>Publié par  Jean-Patrick Grumberg le 17 mai 2022</td>\n",
       "      <td>Publié par  Jean-Patrick Grumberg le 17 mai 2022</td>\n",
       "      <td>[]</td>\n",
       "      <td>[Le ministère suisse de la Défense élabore act...</td>\n",
       "      <td>2022-05-17T00:00:00</td>\n",
       "      <td>Le statut de neutralité légendaire de la Suiss...</td>\n",
       "      <td>8656</td>\n",
       "      <td>18</td>\n",
       "    </tr>\n",
       "    <tr>\n",
       "      <th>82</th>\n",
       "      <td>https://www.dreuz.info/2022/05/israel-augmente...</td>\n",
       "      <td>www.dreuz.info</td>\n",
       "      <td>Israël augmente sa production de gaz naturel p...</td>\n",
       "      <td>Israël a augmenté sa production de gaz naturel...</td>\n",
       "      <td>Publié par  Jean-Patrick Grumberg le 17 mai 2022</td>\n",
       "      <td>Publié par  Jean-Patrick Grumberg le 17 mai 2022</td>\n",
       "      <td>[]</td>\n",
       "      <td>[Comme je suis en ce moment en Israël, et bien...</td>\n",
       "      <td>2022-05-17T00:00:00</td>\n",
       "      <td>Israël a augmenté sa production de gaz naturel...</td>\n",
       "      <td>2042</td>\n",
       "      <td>8</td>\n",
       "    </tr>\n",
       "    <tr>\n",
       "      <th>83</th>\n",
       "      <td>https://www.dreuz.info/2022/05/pourquoi-la-chi...</td>\n",
       "      <td>www.dreuz.info</td>\n",
       "      <td>Pourquoi la Chine s’entête-t-elle avec sa stra...</td>\n",
       "      <td>Surprise ces derniers jours : l’Organisation m...</td>\n",
       "      <td>Publié par  H16 le 18 mai 2022</td>\n",
       "      <td>Publié par  H16 le 18 mai 2022</td>\n",
       "      <td>[]</td>\n",
       "      <td>[Eh oui : même pour une organisation qui a net...</td>\n",
       "      <td>2022-05-18T00:00:00</td>\n",
       "      <td>Surprise ces derniers jours : l’Organisation m...</td>\n",
       "      <td>6177</td>\n",
       "      <td>17</td>\n",
       "    </tr>\n",
       "    <tr>\n",
       "      <th>84</th>\n",
       "      <td>https://www.dreuz.info/2022/05/burkini-dans-le...</td>\n",
       "      <td>www.dreuz.info</td>\n",
       "      <td>Burkini dans les piscines municipales : Pour D...</td>\n",
       "      <td>Source : 20minutes\\nLe ministre de l’Intérieur...</td>\n",
       "      <td>Publié par  Mauricette le 18 mai 2022</td>\n",
       "      <td>Publié par  Mauricette le 18 mai 2022</td>\n",
       "      <td>[]</td>\n",
       "      <td>[Source : 20minutes, La polémique continue d’e...</td>\n",
       "      <td>2022-05-18T00:00:00</td>\n",
       "      <td>NaN</td>\n",
       "      <td>2621</td>\n",
       "      <td>7</td>\n",
       "    </tr>\n",
       "    <tr>\n",
       "      <th>85</th>\n",
       "      <td>https://www.dreuz.info/2022/05/un-centre-de-co...</td>\n",
       "      <td>www.dreuz.info</td>\n",
       "      <td>Un centre de compétences spatiales européen cr...</td>\n",
       "      <td>Source : Lematin\\nUn centre de compétences de ...</td>\n",
       "      <td>Publié par  Gertrude Lamy le 19 mai 2022</td>\n",
       "      <td>Publié par  Gertrude Lamy le 19 mai 2022</td>\n",
       "      <td>[]</td>\n",
       "      <td>[Source : Lematin, La Suisse et l’Agence spati...</td>\n",
       "      <td>2022-05-19T00:00:00</td>\n",
       "      <td>Un centre de compétences de l'Agence spatiale ...</td>\n",
       "      <td>2105</td>\n",
       "      <td>8</td>\n",
       "    </tr>\n",
       "    <tr>\n",
       "      <th>86</th>\n",
       "      <td>https://www.dreuz.info/2022/06/fraudes-conspir...</td>\n",
       "      <td>www.dreuz.info</td>\n",
       "      <td>Fraudes, conspirations et tribunal populaire d...</td>\n",
       "      <td>Très peu évoqué dans la presse américaine (et ...</td>\n",
       "      <td>Publié par  H16 le 6 juin 2022</td>\n",
       "      <td>Publié par  H16 le 6 juin 2022</td>\n",
       "      <td>[]</td>\n",
       "      <td>[Ce documentaire, baptisé « 2000 Mules » et ré...</td>\n",
       "      <td>2022-06-06T00:00:00</td>\n",
       "      <td>Très peu évoqué dans la presse américaine (et ...</td>\n",
       "      <td>9170</td>\n",
       "      <td>22</td>\n",
       "    </tr>\n",
       "    <tr>\n",
       "      <th>87</th>\n",
       "      <td>https://www.dreuz.info/2022/06/panique-sur-les...</td>\n",
       "      <td>www.dreuz.info</td>\n",
       "      <td>Panique sur les cryptos !</td>\n",
       "      <td>Depuis quelques semaines, les mauvaises nouvel...</td>\n",
       "      <td>Publié par  Drieu Godefridi le 15 juin 2022</td>\n",
       "      <td>Publié par  Drieu Godefridi le 15 juin 2022</td>\n",
       "      <td>[]</td>\n",
       "      <td>[D’aucuns n’y voient qu’une nouvelle occasion ...</td>\n",
       "      <td>2022-06-15T00:00:00</td>\n",
       "      <td>NaN</td>\n",
       "      <td>4633</td>\n",
       "      <td>12</td>\n",
       "    </tr>\n",
       "    <tr>\n",
       "      <th>88</th>\n",
       "      <td>https://www.dreuz.info/2022/09/lancien-premier...</td>\n",
       "      <td>www.dreuz.info</td>\n",
       "      <td>L’ancien Premier ministre Bernard Cazeneuve la...</td>\n",
       "      <td>Source : Lavoixdunord\\nDans un manifeste publi...</td>\n",
       "      <td>Publié par  Mauricette le 5 septembre 2022</td>\n",
       "      <td>Publié par  Mauricette le 5 septembre 2022</td>\n",
       "      <td>[]</td>\n",
       "      <td>[Source : Lavoixdunord, L’ancien Premier minis...</td>\n",
       "      <td>2022-09-05T00:00:00</td>\n",
       "      <td>NaN</td>\n",
       "      <td>2472</td>\n",
       "      <td>10</td>\n",
       "    </tr>\n",
       "    <tr>\n",
       "      <th>89</th>\n",
       "      <td>https://www.dreuz.info/2022/09/cest-la-rentree...</td>\n",
       "      <td>www.dreuz.info</td>\n",
       "      <td>C’est la rentrée, alors faites confiance au go...</td>\n",
       "      <td>Voilà, c’est dit ! Cet hiver sera rude : on va...</td>\n",
       "      <td>Publié par  H16 le 5 septembre 2022</td>\n",
       "      <td>Publié par  H16 le 5 septembre 2022</td>\n",
       "      <td>[]</td>\n",
       "      <td>[Bien sûr, pour le moment, certains conçoivent...</td>\n",
       "      <td>2022-09-05T00:00:00</td>\n",
       "      <td>Voilà, c’est dit ! Cet hiver sera rude : on va...</td>\n",
       "      <td>5724</td>\n",
       "      <td>19</td>\n",
       "    </tr>\n",
       "    <tr>\n",
       "      <th>90</th>\n",
       "      <td>https://www.dreuz.info/2022/09/qui-est-elle-an...</td>\n",
       "      <td>www.dreuz.info</td>\n",
       "      <td>Qui est-elle ? Anti-UE, pro-Otan, pro-Ukraine,...</td>\n",
       "      <td>Les journalistes ont le cerveau bloqué sur 193...</td>\n",
       "      <td>Publié par  Jean-Patrick Grumberg le 27 septem...</td>\n",
       "      <td>Publié par  Jean-Patrick Grumberg le 27 septem...</td>\n",
       "      <td>[]</td>\n",
       "      <td>[Donc. Une raciste, xénophobe et « extrémiste ...</td>\n",
       "      <td>2022-09-27T00:00:00</td>\n",
       "      <td>Les journalistes ont le cerveau bloqué sur 193...</td>\n",
       "      <td>14668</td>\n",
       "      <td>41</td>\n",
       "    </tr>\n",
       "    <tr>\n",
       "      <th>91</th>\n",
       "      <td>https://www.dreuz.info/2022/10/elections-de-mi...</td>\n",
       "      <td>www.dreuz.info</td>\n",
       "      <td>Elections américaines de mi-mandat : suivi quo...</td>\n",
       "      <td>Voici le suivi quotidien des élections des mid...</td>\n",
       "      <td>Publié par  Team 100 jours le 3 octobre 2022</td>\n",
       "      <td>Publié par  Team 100 jours le 3 octobre 2022</td>\n",
       "      <td>[]</td>\n",
       "      <td>[Dreuz a besoin de votre soutien financier. Po...</td>\n",
       "      <td>2022-10-03T00:00:00</td>\n",
       "      <td>Lundi 3 octobre</td>\n",
       "      <td>5847</td>\n",
       "      <td>9</td>\n",
       "    </tr>\n",
       "    <tr>\n",
       "      <th>92</th>\n",
       "      <td>https://www.dreuz.info/2022/10/lukraine-est-en...</td>\n",
       "      <td>www.dreuz.info</td>\n",
       "      <td>L’Ukraine est en train de gagner la guerre</td>\n",
       "      <td>On ne saura sans doute jamais exactement qui a...</td>\n",
       "      <td>Publié par  Guy Millière le 4 octobre 2022</td>\n",
       "      <td>Publié par  Guy Millière le 4 octobre 2022</td>\n",
       "      <td>[]</td>\n",
       "      <td>[Je ne partage pas du tout cette position. La ...</td>\n",
       "      <td>2022-10-04T00:00:00</td>\n",
       "      <td>On ne saura sans doute jamais exactement qui a...</td>\n",
       "      <td>9555</td>\n",
       "      <td>21</td>\n",
       "    </tr>\n",
       "    <tr>\n",
       "      <th>93</th>\n",
       "      <td>https://www.dreuz.info/2022/10/la-fda-va-publi...</td>\n",
       "      <td>www.dreuz.info</td>\n",
       "      <td>La FDA va publier une étude sur les effets ind...</td>\n",
       "      <td>Première réflexion : J’ai toujours été pro-cho...</td>\n",
       "      <td>Publié par  Jean-Patrick Grumberg le 6 octobre...</td>\n",
       "      <td>Publié par  Jean-Patrick Grumberg le 6 octobre...</td>\n",
       "      <td>[]</td>\n",
       "      <td>[Dreuz a besoin de votre soutien financier. Po...</td>\n",
       "      <td>2022-10-06T00:00:00</td>\n",
       "      <td>NaN</td>\n",
       "      <td>4137</td>\n",
       "      <td>12</td>\n",
       "    </tr>\n",
       "    <tr>\n",
       "      <th>94</th>\n",
       "      <td>https://www.dreuz.info/2022/10/binyamin-netany...</td>\n",
       "      <td>www.dreuz.info</td>\n",
       "      <td>Binyamin Netanyahou, homme d’Etat</td>\n",
       "      <td>L’ancien premier ministre israélien Binyamin N...</td>\n",
       "      <td>Publié par  Guy Millière le 24 octobre 2022</td>\n",
       "      <td>Publié par  Guy Millière le 24 octobre 2022</td>\n",
       "      <td>[]</td>\n",
       "      <td>[Binyamin Netanyahou commence par parler de sa...</td>\n",
       "      <td>2022-10-24T00:00:00</td>\n",
       "      <td>L’ancien premier ministre israélien Binyamin N...</td>\n",
       "      <td>9463</td>\n",
       "      <td>18</td>\n",
       "    </tr>\n",
       "    <tr>\n",
       "      <th>95</th>\n",
       "      <td>https://www.dreuz.info/2022/10/zfe-des-sanctio...</td>\n",
       "      <td>www.dreuz.info</td>\n",
       "      <td>ZFE : des sanctions automatiques et un objecti...</td>\n",
       "      <td>Comme le mentionnait un précédent billet d’il ...</td>\n",
       "      <td>Publié par  H16 le 31 octobre 2022</td>\n",
       "      <td>Publié par  H16 le 31 octobre 2022</td>\n",
       "      <td>[]</td>\n",
       "      <td>[Oui, vous avez bien lu : avec l’implantation ...</td>\n",
       "      <td>2022-10-31T00:00:00</td>\n",
       "      <td>Comme le mentionnait un précédent billet d’il ...</td>\n",
       "      <td>7550</td>\n",
       "      <td>22</td>\n",
       "    </tr>\n",
       "    <tr>\n",
       "      <th>96</th>\n",
       "      <td>https://www.dreuz.info/2022/11/midterms-non-do...</td>\n",
       "      <td>www.dreuz.info</td>\n",
       "      <td>Midterms : non, Donald Trump n’est pas respons...</td>\n",
       "      <td>Pendant sept ans, les experts des deux côtés d...</td>\n",
       "      <td>Publié par  Magali Marc le 11 novembre 2022</td>\n",
       "      <td>Publié par  Magali Marc le 11 novembre 2022</td>\n",
       "      <td>[]</td>\n",
       "      <td>[De l’annonce de sa candidature en 2015 à son ...</td>\n",
       "      <td>2022-11-11T00:00:00</td>\n",
       "      <td>Pendant sept ans, les experts des deux côtés d...</td>\n",
       "      <td>10066</td>\n",
       "      <td>28</td>\n",
       "    </tr>\n",
       "  </tbody>\n",
       "</table>\n",
       "</div>"
      ],
      "text/plain": [
       "                                                  url            site  \\\n",
       "78  https://www.dreuz.info/2022/04/attentats-crime...  www.dreuz.info   \n",
       "79  https://www.dreuz.info/2022/05/le-proces-du-fa...  www.dreuz.info   \n",
       "80  https://www.dreuz.info/2022/05/la-gauche-ameri...  www.dreuz.info   \n",
       "81  https://www.dreuz.info/2022/05/invasion-de-luk...  www.dreuz.info   \n",
       "82  https://www.dreuz.info/2022/05/israel-augmente...  www.dreuz.info   \n",
       "83  https://www.dreuz.info/2022/05/pourquoi-la-chi...  www.dreuz.info   \n",
       "84  https://www.dreuz.info/2022/05/burkini-dans-le...  www.dreuz.info   \n",
       "85  https://www.dreuz.info/2022/05/un-centre-de-co...  www.dreuz.info   \n",
       "86  https://www.dreuz.info/2022/06/fraudes-conspir...  www.dreuz.info   \n",
       "87  https://www.dreuz.info/2022/06/panique-sur-les...  www.dreuz.info   \n",
       "88  https://www.dreuz.info/2022/09/lancien-premier...  www.dreuz.info   \n",
       "89  https://www.dreuz.info/2022/09/cest-la-rentree...  www.dreuz.info   \n",
       "90  https://www.dreuz.info/2022/09/qui-est-elle-an...  www.dreuz.info   \n",
       "91  https://www.dreuz.info/2022/10/elections-de-mi...  www.dreuz.info   \n",
       "92  https://www.dreuz.info/2022/10/lukraine-est-en...  www.dreuz.info   \n",
       "93  https://www.dreuz.info/2022/10/la-fda-va-publi...  www.dreuz.info   \n",
       "94  https://www.dreuz.info/2022/10/binyamin-netany...  www.dreuz.info   \n",
       "95  https://www.dreuz.info/2022/10/zfe-des-sanctio...  www.dreuz.info   \n",
       "96  https://www.dreuz.info/2022/11/midterms-non-do...  www.dreuz.info   \n",
       "\n",
       "                                                title  \\\n",
       "78  Attentats, crimes, tueries et autres atrocités...   \n",
       "79  Procès sur l’origine du dossier russe : le FBI...   \n",
       "80  La gauche américaine a tué 19 enfants et deux ...   \n",
       "81  Invasion de l’Ukraine : la Suisse neutre se ra...   \n",
       "82  Israël augmente sa production de gaz naturel p...   \n",
       "83  Pourquoi la Chine s’entête-t-elle avec sa stra...   \n",
       "84  Burkini dans les piscines municipales : Pour D...   \n",
       "85  Un centre de compétences spatiales européen cr...   \n",
       "86  Fraudes, conspirations et tribunal populaire d...   \n",
       "87                          Panique sur les cryptos !   \n",
       "88  L’ancien Premier ministre Bernard Cazeneuve la...   \n",
       "89  C’est la rentrée, alors faites confiance au go...   \n",
       "90  Qui est-elle ? Anti-UE, pro-Otan, pro-Ukraine,...   \n",
       "91  Elections américaines de mi-mandat : suivi quo...   \n",
       "92         L’Ukraine est en train de gagner la guerre   \n",
       "93  La FDA va publier une étude sur les effets ind...   \n",
       "94                  Binyamin Netanyahou, homme d’Etat   \n",
       "95  ZFE : des sanctions automatiques et un objecti...   \n",
       "96  Midterms : non, Donald Trump n’est pas respons...   \n",
       "\n",
       "                                              article  \\\n",
       "78  Dreuz publie chaque année depuis 9 ans la list...   \n",
       "79  Enquêteur spécial John Durham\\nLe premier proc...   \n",
       "80  L’atroce tuerie perpétrée à Uvalde, Texas, voi...   \n",
       "81  Le statut de neutralité légendaire de la Suiss...   \n",
       "82  Israël a augmenté sa production de gaz naturel...   \n",
       "83  Surprise ces derniers jours : l’Organisation m...   \n",
       "84  Source : 20minutes\\nLe ministre de l’Intérieur...   \n",
       "85  Source : Lematin\\nUn centre de compétences de ...   \n",
       "86  Très peu évoqué dans la presse américaine (et ...   \n",
       "87  Depuis quelques semaines, les mauvaises nouvel...   \n",
       "88  Source : Lavoixdunord\\nDans un manifeste publi...   \n",
       "89  Voilà, c’est dit ! Cet hiver sera rude : on va...   \n",
       "90  Les journalistes ont le cerveau bloqué sur 193...   \n",
       "91  Voici le suivi quotidien des élections des mid...   \n",
       "92  On ne saura sans doute jamais exactement qui a...   \n",
       "93  Première réflexion : J’ai toujours été pro-cho...   \n",
       "94  L’ancien premier ministre israélien Binyamin N...   \n",
       "95  Comme le mentionnait un précédent billet d’il ...   \n",
       "96  Pendant sept ans, les experts des deux côtés d...   \n",
       "\n",
       "                                               author  \\\n",
       "78    Publié par  Jean-Patrick Grumberg le 2 mai 2022   \n",
       "79   Publié par  Jean-Patrick Grumberg le 28 mai 2022   \n",
       "80            Publié par  Guy Millière le 31 mai 2022   \n",
       "81   Publié par  Jean-Patrick Grumberg le 17 mai 2022   \n",
       "82   Publié par  Jean-Patrick Grumberg le 17 mai 2022   \n",
       "83                     Publié par  H16 le 18 mai 2022   \n",
       "84              Publié par  Mauricette le 18 mai 2022   \n",
       "85           Publié par  Gertrude Lamy le 19 mai 2022   \n",
       "86                     Publié par  H16 le 6 juin 2022   \n",
       "87        Publié par  Drieu Godefridi le 15 juin 2022   \n",
       "88         Publié par  Mauricette le 5 septembre 2022   \n",
       "89                Publié par  H16 le 5 septembre 2022   \n",
       "90  Publié par  Jean-Patrick Grumberg le 27 septem...   \n",
       "91       Publié par  Team 100 jours le 3 octobre 2022   \n",
       "92         Publié par  Guy Millière le 4 octobre 2022   \n",
       "93  Publié par  Jean-Patrick Grumberg le 6 octobre...   \n",
       "94        Publié par  Guy Millière le 24 octobre 2022   \n",
       "95                 Publié par  H16 le 31 octobre 2022   \n",
       "96        Publié par  Magali Marc le 11 novembre 2022   \n",
       "\n",
       "                                                 date tags  \\\n",
       "78    Publié par  Jean-Patrick Grumberg le 2 mai 2022   []   \n",
       "79   Publié par  Jean-Patrick Grumberg le 28 mai 2022   []   \n",
       "80            Publié par  Guy Millière le 31 mai 2022   []   \n",
       "81   Publié par  Jean-Patrick Grumberg le 17 mai 2022   []   \n",
       "82   Publié par  Jean-Patrick Grumberg le 17 mai 2022   []   \n",
       "83                     Publié par  H16 le 18 mai 2022   []   \n",
       "84              Publié par  Mauricette le 18 mai 2022   []   \n",
       "85           Publié par  Gertrude Lamy le 19 mai 2022   []   \n",
       "86                     Publié par  H16 le 6 juin 2022   []   \n",
       "87        Publié par  Drieu Godefridi le 15 juin 2022   []   \n",
       "88         Publié par  Mauricette le 5 septembre 2022   []   \n",
       "89                Publié par  H16 le 5 septembre 2022   []   \n",
       "90  Publié par  Jean-Patrick Grumberg le 27 septem...   []   \n",
       "91       Publié par  Team 100 jours le 3 octobre 2022   []   \n",
       "92         Publié par  Guy Millière le 4 octobre 2022   []   \n",
       "93  Publié par  Jean-Patrick Grumberg le 6 octobre...   []   \n",
       "94        Publié par  Guy Millière le 24 octobre 2022   []   \n",
       "95                 Publié par  H16 le 31 octobre 2022   []   \n",
       "96        Publié par  Magali Marc le 11 novembre 2022   []   \n",
       "\n",
       "                                           paragraphs             date_iso  \\\n",
       "78  [Nous ne sommes plus étonnés de constater qu’a...  2022-05-02T00:00:00   \n",
       "79  [En septembre 2021, après de longs mois qui m'...  2022-05-28T00:00:00   \n",
       "80  [La gauche américaine fait campagne sur ce thè...  2022-05-31T00:00:00   \n",
       "81  [Le ministère suisse de la Défense élabore act...  2022-05-17T00:00:00   \n",
       "82  [Comme je suis en ce moment en Israël, et bien...  2022-05-17T00:00:00   \n",
       "83  [Eh oui : même pour une organisation qui a net...  2022-05-18T00:00:00   \n",
       "84  [Source : 20minutes, La polémique continue d’e...  2022-05-18T00:00:00   \n",
       "85  [Source : Lematin, La Suisse et l’Agence spati...  2022-05-19T00:00:00   \n",
       "86  [Ce documentaire, baptisé « 2000 Mules » et ré...  2022-06-06T00:00:00   \n",
       "87  [D’aucuns n’y voient qu’une nouvelle occasion ...  2022-06-15T00:00:00   \n",
       "88  [Source : Lavoixdunord, L’ancien Premier minis...  2022-09-05T00:00:00   \n",
       "89  [Bien sûr, pour le moment, certains conçoivent...  2022-09-05T00:00:00   \n",
       "90  [Donc. Une raciste, xénophobe et « extrémiste ...  2022-09-27T00:00:00   \n",
       "91  [Dreuz a besoin de votre soutien financier. Po...  2022-10-03T00:00:00   \n",
       "92  [Je ne partage pas du tout cette position. La ...  2022-10-04T00:00:00   \n",
       "93  [Dreuz a besoin de votre soutien financier. Po...  2022-10-06T00:00:00   \n",
       "94  [Binyamin Netanyahou commence par parler de sa...  2022-10-24T00:00:00   \n",
       "95  [Oui, vous avez bien lu : avec l’implantation ...  2022-10-31T00:00:00   \n",
       "96  [De l’annonce de sa candidature en 2015 à son ...  2022-11-11T00:00:00   \n",
       "\n",
       "                                             abstract  c_count  p_count  \n",
       "78  Dreuz publie chaque année depuis 9 ans la list...   109600        2  \n",
       "79                                                  1    49860      119  \n",
       "80  L’atroce tuerie perpétrée à Uvalde, Texas, voi...    12173       10  \n",
       "81  Le statut de neutralité légendaire de la Suiss...     8656       18  \n",
       "82  Israël a augmenté sa production de gaz naturel...     2042        8  \n",
       "83  Surprise ces derniers jours : l’Organisation m...     6177       17  \n",
       "84                                                NaN     2621        7  \n",
       "85  Un centre de compétences de l'Agence spatiale ...     2105        8  \n",
       "86  Très peu évoqué dans la presse américaine (et ...     9170       22  \n",
       "87                                                NaN     4633       12  \n",
       "88                                                NaN     2472       10  \n",
       "89  Voilà, c’est dit ! Cet hiver sera rude : on va...     5724       19  \n",
       "90  Les journalistes ont le cerveau bloqué sur 193...    14668       41  \n",
       "91                                    Lundi 3 octobre     5847        9  \n",
       "92  On ne saura sans doute jamais exactement qui a...     9555       21  \n",
       "93                                                NaN     4137       12  \n",
       "94  L’ancien premier ministre israélien Binyamin N...     9463       18  \n",
       "95  Comme le mentionnait un précédent billet d’il ...     7550       22  \n",
       "96  Pendant sept ans, les experts des deux côtés d...    10066       28  "
      ]
     },
     "execution_count": 51,
     "metadata": {},
     "output_type": "execute_result"
    }
   ],
   "source": [
    "site ='www.dreuz.info'\n",
    "df_recueil[df_recueil['site']==site]"
   ]
  },
  {
   "cell_type": "code",
   "execution_count": 52,
   "id": "27f87b92",
   "metadata": {},
   "outputs": [
    {
     "data": {
      "text/plain": [
       "['Donc. Une raciste, xénophobe et «\\xa0extrémiste de droite\\xa0» (la vraie droite par opposition à la droite centre gauche ou carrément gauchiste) est devenue Première ministre de l’Italie. Ça fait beaucoup de tares, et croyez-moi, bien qu’ils ne savent strictement rien d’elle et de sa politique, il ne manque pas de gens qui se sont empressés de prendre pour argent comptant le portrait que les médias ont fait d’elle – ces mêmes personnes qui les yeux dans les yeux vous expliquent qu’ils sont assez malins pour ne pas faire confiance aux journalistes. Ca marche à tous les coups.',\n",
       " 'Meloni, qui siège à la Chambre des députés italienne depuis 2006, est une vraie conservatrice comme vous n’en n’avez pas en France, le mot conservateur étant un gros mot dans la bouche des médias si vous n’êtes pas un dictateur iranien.',\n",
       " 'Mère de famille de 45 ans et originaire de Rome, Meloni est profondément conservatrice et sainement et ouvertement contre les excès des militants LGBT. Elle conteste les unions entre personnes de même sexe, qui ont été légalisées en Italie en 2016. Elle a également qualifié l’avortement de «\\xa0tragédie\\xa0».',\n",
       " 'En fait, Giorgia Meloni a de quoi être détestée de beaucoup de monde.',\n",
       " 'Dreuz a besoin de votre soutien financier. Pour soutenir Dreuz.info, cliquez sur ce bouton :',\n",
       " 'Après la Suède, “l’extrême-droite” remporte une grande victoire en Italie. Cela signifie que si ces deux ballons d’essai sont couronnés de succès en matière d’immigration musulmane, c’est toute l’Europe qui va tousser.',\n",
       " 'Les premiers résultats de l’élection surprise de dimanche indiquent qu’une coalition de droite, dirigée par le parti dit d’extrême droite Fratelli d’Italia, a remporté la majorité des voix.',\n",
       " 'L’alliance :',\n",
       " 'Fratelli d’Italia (ou Frères d’Italie) a remporté 26,2 % des voix, ce qui oblige les médias à répéter vingt fois les mots «\\xa0extrême-droite\\xa0» par article. Il arrive loin devant ses partenaires de coalition, la Lega et Forza Italia, qui ont obtenu environ 9 % et 8 % des voix respectivement.',\n",
       " 'Le taux de participation a été plus faible qu’en 2018, avec 64 % contre 74 % en 2018, quand Fratelli d’Italia n’avait obtenu que 4,5 % des voix !',\n",
       " 'Le succès fulgurant de Fratelli d’Italia signifie que Giorgia Meloni est devenue Premier ministre, et la première femme à la tête du pays.',\n",
       " 'Lors de l’annonce des résultats, Giorgia Meloni a déclaré que son parti «\\xa0gouvernerait pour tout le monde\\xa0» et ne «\\xa0trahirait pas\\xa0» la confiance du pays. Elle a également parlé de la nécessité d’unir l’Italie et de rendre son peuple fier.',\n",
       " '«\\xa0Peuple fier\\xa0», c’est ce que Donald Trump martelait pendant sa campagne de 2016, et ce sont des mots qui restent en travers de la gorge des salles de rédaction : la gauche est nihiliste, et selon sa façon de voir le monde, l’homme blanc occidental doit se sentir coupable. Coupable du mal qu’il fait aux minorités, aux défavorisés, à la planète, aux LGB, donc à l’humanité tout entière, et il ne doit certainement pas être fier.',\n",
       " 'Pour les trotskystes, les socialistes, soit la quasi-totalité de la presse, fier = suprématie ; fier = esprit colonisateur ; fier = racisme.',\n",
       " 'Les semaines et les mois à venir détermineront «\\xa0quelle Meloni\\xa0» gouvernera. Elle a exprimé sa volonté de remettre en question les règles de l’UE, mais le fera-t-elle alors que l’Italie, à l’instar de la Hongrie, n’a pas la force économique de résister seule sur le marché mondial ?',\n",
       " 'La présidente de la Commission européenne, Ursula von der Leyen, a fait un caca nerveux en apprenant les résultats. Deux en deux semaines, c’est trop. Elle n’a pas encore commenté la seconde victoire d’une faction de droite en Europe, deux semaines seulement après les élections suédoises, mais elle a déjà menacé.',\n",
       " 'Elle a lancé un coup de semonce, et mis en garde l’Italie de ne pas la défier.',\n",
       " \"Lors d’une visite à l’université de Princeton, von der Leyen a déclaré que si les relations prenaient une «\\xa0direction difficile\\xa0», l’UE disposait d'\\xa0»outils\\xa0» pour faire face à de telles crises. Cela veut dire que l’Italie peut voir son financement européen réduit, comme elle l’a fait pour la Hongrie, si elle désobéissait et enfreignait les traités européens.\",\n",
       " 'Les analystes notent que Meloni a également cultivé une relation étroite avec le Premier ministre sortant Mario Draghi, qui a démissionné en juillet après avoir échoué à unir une coalition autour de lui.',\n",
       " 'Fratelli d’Italia a connu une montée fulgurante en popularité depuis sa fondation en 2012 : les Italiens, comme tous les Européens, sont préoccupés par l’immigration musulmane, l’économie européenne socialiste, l’emploi et le niveau de vie (en cas de doute, regardez où en est l’économie libérale du voisin suisse), et le parti s’est engagé à relever tous ces défis. On peut douter de sa capacité à y parvenir : Meloni n’a pas d’expérience, et sauf à se révéler être une nouvelle génie politique comme le fut Margaret Tatcher, la tâche sera dure, ne nous mentons pas.',\n",
       " 'Fratelli d’Italia et la Lega sont tous deux des partis souverainistes et eurosceptiques. Ils ont préconisé la sortie de l’euro, puis sont revenus en arrière – comme Le Pen.',\n",
       " 'Fratelli d’Italia, pour sa part, a une idée très saine de l’UE.',\n",
       " 'Elle veut une Union européenne allégée, avec moins de bureaucratie et de bureaucrates, et elle défend la primauté du droit italien dans les questions nationales.',\n",
       " 'Meloni a déclaré qu’elle chercherait à renégocier les fonds de relance Covid de l’Italie auprès de l’UE (environ 200 milliards d’euros, soit 193 milliards de dollars, en prêts et subventions), compte tenu de l’inflation galopante et de la flambée des factures d’énergie dans le sillage de la guerre déclenchée par la Russie.',\n",
       " 'Ettore Greco, vice-président exécutif de l’Istituto Affari Internazionali, confirme que Mme Meloni a adouci sa rhétorique anti-UE, mais il se demande si elle sera capable d’établir un bon rapport avec ses homologues européens.',\n",
       " 'Fratelli d’Italia est souverainiste : pro-Kyev, pro-sanctions contre la Russie, anti-Poutine, elle défend le respect d’un pays souverain contre une invasion militaire.',\n",
       " 'Elle diffère de ses partenaires de coalition sur la question de l’Ukraine. Alors que Berlusconi et Salvini ont tous deux déclaré qu’ils aimeraient revoir les sanctions contre la Russie en raison de leur impact sur l’économie italienne, Meloni a été ferme dans son soutien à la défense de l’Ukraine.',\n",
       " 'A l’inverse, Lega et Forza Italia sont ambivalents quant à la punition de Moscou.',\n",
       " 'Et Berlusconi, de Forza Italia, est allé la semaine dernière jusqu’à applaudir la guerre et féliciter le président russe de son invasion de l’Ukraine, affirmant, parce qu’il ne croit pas au concept nationaliste, que Poutine l’avait fait pour installer des «\\xa0personnes décentes\\xa0» à Kiev – et qu’il en a le droit.',\n",
       " 'Au cours d’un meeting de campagne, un militant LGBT en colère, Marco Marras, est monté sur la scène à Cagliari.',\n",
       " 'Au lieu de courir se mettre à l’abri, Meloni a affronté l’activiste, avec calme et respect. Ellui lui a parlé, et l’a aidé à comprendre que nombre des idées préconçues qu’il avait sur elle et ses politiques n’étaient pas fondées sur la réalité mais créées par les médias et la gauche, qui militent main dans la main pour tromper les gens.',\n",
       " 'L’interaction entre Meloni et Marras ne s’est pas arrêtée à cet incident.',\n",
       " 'Marras s’est exprimé sur les médias sociaux peu après et a remercié Meloni pour la façon dont elle l’a traité avec respect, et pour avoir pris le temps de lui parler. Il a également remercié la police d’avoir été bonne avec lui «\\xa0parce qu’ils ont compris quel genre de personne je suis, un garçon qui voulait juste exprimer son opinion. Je remercie tout le monde\\xa0», a déclaré l’activiste qui a interrompu la campagne de Meloni.',\n",
       " 'Et Meloni lui a répondu sur Facebook.',\n",
       " 'Elle a partagé l’histoire touchante de l’absence de son père et a écrit :',\n",
       " 'Meloni est ensuite entrée dans le détail, expliquant sa position sur les adoptions homosexuelles et racontant sa propre expérience familiale.',\n",
       " 'Voici ce que Meloni déclare sur la famille, et qui a plongé les gauchistes dans la panique.',\n",
       " 'Mme Von der Leyen s’était immiscée dans la campagne électorale en menaçant les Italiens que l’Europe avait «\\xa0les outils\\xa0» pour réagir si l’Italie prenait une «\\xa0direction difficile\\xa0», autrement dit, s’ils votaient pour Méloni.',\n",
       " 'Aucun homme politique de droite n’aurait pu ainsi violer la souveraineté avec une élection étrangère sans soulever des haut-le-cœur dans la presse mondiale. Elle, elle a le droit car nous ne vivons pas dans l’égalité des droits.',\n",
       " 'Von der Leyen a menacé les Italiens de les punir s’ils votaient mal. Ils lui ont donné une leçon d’humilité. Qu’elle n’entendra pas.',\n",
       " 'Reproduction autorisée avec la mention suivante : © Jean-Patrick Grumberg pour Dreuz.info.']"
      ]
     },
     "execution_count": 52,
     "metadata": {},
     "output_type": "execute_result"
    }
   ],
   "source": [
    "df_recueil['paragraphs'][90]"
   ]
  },
  {
   "cell_type": "code",
   "execution_count": 53,
   "id": "53faa1d4",
   "metadata": {},
   "outputs": [
    {
     "data": {
      "text/plain": [
       "['Donc. Une raciste, xénophobe et «\\xa0extrémiste de droite\\xa0» (la vraie droite par opposition à la droite centre gauche ou carrément gauchiste) est devenue Première ministre de l’Italie. Ça fait beaucoup de tares, et croyez-moi, bien qu’ils ne savent strictement rien d’elle et de sa politique, il ne manque pas de gens qui se sont empressés de prendre pour argent comptant le portrait que les médias ont fait d’elle – ces mêmes personnes qui les yeux dans les yeux vous expliquent qu’ils sont assez malins pour ne pas faire confiance aux journalistes. Ca marche à tous les coups.',\n",
       " 'Meloni, qui siège à la Chambre des députés italienne depuis 2006, est une vraie conservatrice comme vous n’en n’avez pas en France, le mot conservateur étant un gros mot dans la bouche des médias si vous n’êtes pas un dictateur iranien.',\n",
       " 'Mère de famille de 45 ans et originaire de Rome, Meloni est profondément conservatrice et sainement et ouvertement contre les excès des militants LGBT. Elle conteste les unions entre personnes de même sexe, qui ont été légalisées en Italie en 2016. Elle a également qualifié l’avortement de «\\xa0tragédie\\xa0».',\n",
       " 'En fait, Giorgia Meloni a de quoi être détestée de beaucoup de monde.',\n",
       " 'Dreuz a besoin de votre soutien financier. Pour soutenir Dreuz.info, cliquez sur ce bouton :',\n",
       " 'Après la Suède, “l’extrême-droite” remporte une grande victoire en Italie. Cela signifie que si ces deux ballons d’essai sont couronnés de succès en matière d’immigration musulmane, c’est toute l’Europe qui va tousser.',\n",
       " 'Les premiers résultats de l’élection surprise de dimanche indiquent qu’une coalition de droite, dirigée par le parti dit d’extrême droite Fratelli d’Italia, a remporté la majorité des voix.',\n",
       " 'L’alliance :',\n",
       " 'Fratelli d’Italia (ou Frères d’Italie) a remporté 26,2 % des voix, ce qui oblige les médias à répéter vingt fois les mots «\\xa0extrême-droite\\xa0» par article. Il arrive loin devant ses partenaires de coalition, la Lega et Forza Italia, qui ont obtenu environ 9 % et 8 % des voix respectivement.',\n",
       " 'Le taux de participation a été plus faible qu’en 2018, avec 64 % contre 74 % en 2018, quand Fratelli d’Italia n’avait obtenu que 4,5 % des voix !',\n",
       " 'Le succès fulgurant de Fratelli d’Italia signifie que Giorgia Meloni est devenue Premier ministre, et la première femme à la tête du pays.',\n",
       " 'Lors de l’annonce des résultats, Giorgia Meloni a déclaré que son parti «\\xa0gouvernerait pour tout le monde\\xa0» et ne «\\xa0trahirait pas\\xa0» la confiance du pays. Elle a également parlé de la nécessité d’unir l’Italie et de rendre son peuple fier.',\n",
       " '«\\xa0Peuple fier\\xa0», c’est ce que Donald Trump martelait pendant sa campagne de 2016, et ce sont des mots qui restent en travers de la gorge des salles de rédaction : la gauche est nihiliste, et selon sa façon de voir le monde, l’homme blanc occidental doit se sentir coupable. Coupable du mal qu’il fait aux minorités, aux défavorisés, à la planète, aux LGB, donc à l’humanité tout entière, et il ne doit certainement pas être fier.',\n",
       " 'Pour les trotskystes, les socialistes, soit la quasi-totalité de la presse, fier = suprématie ; fier = esprit colonisateur ; fier = racisme.',\n",
       " 'Les semaines et les mois à venir détermineront «\\xa0quelle Meloni\\xa0» gouvernera. Elle a exprimé sa volonté de remettre en question les règles de l’UE, mais le fera-t-elle alors que l’Italie, à l’instar de la Hongrie, n’a pas la force économique de résister seule sur le marché mondial ?',\n",
       " 'La présidente de la Commission européenne, Ursula von der Leyen, a fait un caca nerveux en apprenant les résultats. Deux en deux semaines, c’est trop. Elle n’a pas encore commenté la seconde victoire d’une faction de droite en Europe, deux semaines seulement après les élections suédoises, mais elle a déjà menacé.',\n",
       " 'Elle a lancé un coup de semonce, et mis en garde l’Italie de ne pas la défier.',\n",
       " \"Lors d’une visite à l’université de Princeton, von der Leyen a déclaré que si les relations prenaient une «\\xa0direction difficile\\xa0», l’UE disposait d'\\xa0»outils\\xa0» pour faire face à de telles crises. Cela veut dire que l’Italie peut voir son financement européen réduit, comme elle l’a fait pour la Hongrie, si elle désobéissait et enfreignait les traités européens.\",\n",
       " 'Les analystes notent que Meloni a également cultivé une relation étroite avec le Premier ministre sortant Mario Draghi, qui a démissionné en juillet après avoir échoué à unir une coalition autour de lui.',\n",
       " 'Fratelli d’Italia a connu une montée fulgurante en popularité depuis sa fondation en 2012 : les Italiens, comme tous les Européens, sont préoccupés par l’immigration musulmane, l’économie européenne socialiste, l’emploi et le niveau de vie (en cas de doute, regardez où en est l’économie libérale du voisin suisse), et le parti s’est engagé à relever tous ces défis. On peut douter de sa capacité à y parvenir : Meloni n’a pas d’expérience, et sauf à se révéler être une nouvelle génie politique comme le fut Margaret Tatcher, la tâche sera dure, ne nous mentons pas.',\n",
       " 'Fratelli d’Italia et la Lega sont tous deux des partis souverainistes et eurosceptiques. Ils ont préconisé la sortie de l’euro, puis sont revenus en arrière – comme Le Pen.',\n",
       " 'Fratelli d’Italia, pour sa part, a une idée très saine de l’UE.',\n",
       " 'Elle veut une Union européenne allégée, avec moins de bureaucratie et de bureaucrates, et elle défend la primauté du droit italien dans les questions nationales.',\n",
       " 'Meloni a déclaré qu’elle chercherait à renégocier les fonds de relance Covid de l’Italie auprès de l’UE (environ 200 milliards d’euros, soit 193 milliards de dollars, en prêts et subventions), compte tenu de l’inflation galopante et de la flambée des factures d’énergie dans le sillage de la guerre déclenchée par la Russie.',\n",
       " 'Ettore Greco, vice-président exécutif de l’Istituto Affari Internazionali, confirme que Mme Meloni a adouci sa rhétorique anti-UE, mais il se demande si elle sera capable d’établir un bon rapport avec ses homologues européens.',\n",
       " 'Fratelli d’Italia est souverainiste : pro-Kyev, pro-sanctions contre la Russie, anti-Poutine, elle défend le respect d’un pays souverain contre une invasion militaire.',\n",
       " 'Elle diffère de ses partenaires de coalition sur la question de l’Ukraine. Alors que Berlusconi et Salvini ont tous deux déclaré qu’ils aimeraient revoir les sanctions contre la Russie en raison de leur impact sur l’économie italienne, Meloni a été ferme dans son soutien à la défense de l’Ukraine.',\n",
       " 'A l’inverse, Lega et Forza Italia sont ambivalents quant à la punition de Moscou.',\n",
       " 'Et Berlusconi, de Forza Italia, est allé la semaine dernière jusqu’à applaudir la guerre et féliciter le président russe de son invasion de l’Ukraine, affirmant, parce qu’il ne croit pas au concept nationaliste, que Poutine l’avait fait pour installer des «\\xa0personnes décentes\\xa0» à Kiev – et qu’il en a le droit.',\n",
       " 'Au cours d’un meeting de campagne, un militant LGBT en colère, Marco Marras, est monté sur la scène à Cagliari.',\n",
       " 'Au lieu de courir se mettre à l’abri, Meloni a affronté l’activiste, avec calme et respect. Ellui lui a parlé, et l’a aidé à comprendre que nombre des idées préconçues qu’il avait sur elle et ses politiques n’étaient pas fondées sur la réalité mais créées par les médias et la gauche, qui militent main dans la main pour tromper les gens.',\n",
       " 'L’interaction entre Meloni et Marras ne s’est pas arrêtée à cet incident.',\n",
       " 'Marras s’est exprimé sur les médias sociaux peu après et a remercié Meloni pour la façon dont elle l’a traité avec respect, et pour avoir pris le temps de lui parler. Il a également remercié la police d’avoir été bonne avec lui «\\xa0parce qu’ils ont compris quel genre de personne je suis, un garçon qui voulait juste exprimer son opinion. Je remercie tout le monde\\xa0», a déclaré l’activiste qui a interrompu la campagne de Meloni.',\n",
       " 'Et Meloni lui a répondu sur Facebook.',\n",
       " 'Elle a partagé l’histoire touchante de l’absence de son père et a écrit :',\n",
       " 'Meloni est ensuite entrée dans le détail, expliquant sa position sur les adoptions homosexuelles et racontant sa propre expérience familiale.',\n",
       " 'Voici ce que Meloni déclare sur la famille, et qui a plongé les gauchistes dans la panique.',\n",
       " 'Mme Von der Leyen s’était immiscée dans la campagne électorale en menaçant les Italiens que l’Europe avait «\\xa0les outils\\xa0» pour réagir si l’Italie prenait une «\\xa0direction difficile\\xa0», autrement dit, s’ils votaient pour Méloni.',\n",
       " 'Aucun homme politique de droite n’aurait pu ainsi violer la souveraineté avec une élection étrangère sans soulever des haut-le-cœur dans la presse mondiale. Elle, elle a le droit car nous ne vivons pas dans l’égalité des droits.',\n",
       " 'Von der Leyen a menacé les Italiens de les punir s’ils votaient mal. Ils lui ont donné une leçon d’humilité. Qu’elle n’entendra pas.']"
      ]
     },
     "execution_count": 53,
     "metadata": {},
     "output_type": "execute_result"
    }
   ],
   "source": [
    "filter(df_recueil['paragraphs'][90],df_recueil['site'][90])"
   ]
  },
  {
   "cell_type": "markdown",
   "id": "0c9593e6",
   "metadata": {},
   "source": [
    "### Articles vides"
   ]
  },
  {
   "cell_type": "code",
   "execution_count": null,
   "id": "c0da5f21",
   "metadata": {},
   "outputs": [],
   "source": [
    "df_recueil[(df_recueil['c_count']==0)&(df_recueil['tds']==1)]"
   ]
  },
  {
   "cell_type": "code",
   "execution_count": null,
   "id": "26079061",
   "metadata": {},
   "outputs": [],
   "source": [
    "filter_indexes = df_recueil.loc[(df_recueil['c_count']==0)&(df_recueil['tds']==1)].index\n",
    "df_recueil.loc[filter_indexes,'tds']=0"
   ]
  },
  {
   "cell_type": "markdown",
   "id": "db0ac8da",
   "metadata": {},
   "source": [
    "### Traitement Paragraphes"
   ]
  },
  {
   "cell_type": "code",
   "execution_count": null,
   "id": "7fdcb1c8",
   "metadata": {},
   "outputs": [],
   "source": [
    "df_recueil[(df_recueil['p_count']==0)&(df_recueil['tds']==1)]"
   ]
  },
  {
   "cell_type": "code",
   "execution_count": null,
   "id": "aef78539",
   "metadata": {},
   "outputs": [],
   "source": [
    "filter_indexes = df_recueil.loc[(df_recueil['p_count']==0)&(df_recueil['tds']==1)].index\n",
    "df_recueil.loc[filter_indexes,'paragraphs']=df_recueil.loc[filter_indexes,'article'].apply(lambda s: s.split('\\n'))"
   ]
  },
  {
   "cell_type": "code",
   "execution_count": null,
   "id": "1703f70e",
   "metadata": {},
   "outputs": [],
   "source": [
    "df_recueil['p_count']=df_recueil['paragraphs'].apply(lambda s: len(s) if type(s)==list else 0)"
   ]
  },
  {
   "cell_type": "code",
   "execution_count": null,
   "id": "aed2e656",
   "metadata": {},
   "outputs": [],
   "source": [
    "df_recueil[(df_recueil['p_count']==0)&(df_recueil['tds']==1)]"
   ]
  },
  {
   "cell_type": "markdown",
   "id": "12b994e5",
   "metadata": {},
   "source": [
    "### Articles trop longs"
   ]
  },
  {
   "cell_type": "code",
   "execution_count": null,
   "id": "93143629",
   "metadata": {},
   "outputs": [],
   "source": [
    "c_count_max = 50_000\n",
    "filter_indexes = df_recueil.loc[(df_recueil['c_count']>c_count_max)&df_recueil['tds']].index\n",
    "df_recueil.loc[filter_indexes]"
   ]
  },
  {
   "cell_type": "code",
   "execution_count": null,
   "id": "29dba5f7",
   "metadata": {},
   "outputs": [],
   "source": [
    "df_recueil.loc[filter_indexes,'tds']=0"
   ]
  },
  {
   "cell_type": "code",
   "execution_count": null,
   "id": "c1c60c15",
   "metadata": {},
   "outputs": [],
   "source": [
    "df_recueil = df_recueil[df_recueil['c_count']<=c_count_max].copy()"
   ]
  },
  {
   "cell_type": "markdown",
   "id": "9216985e",
   "metadata": {},
   "source": [
    "### Taille et nombre de paragraphes"
   ]
  },
  {
   "cell_type": "code",
   "execution_count": null,
   "id": "5a83ae5b",
   "metadata": {},
   "outputs": [],
   "source": [
    "df_recueil['p_size']=df_recueil['c_count']/df_recueil['p_count']"
   ]
  },
  {
   "cell_type": "code",
   "execution_count": null,
   "id": "52df6696",
   "metadata": {},
   "outputs": [],
   "source": [
    "def print_parags(parags):\n",
    "    for p in parags:\n",
    "        print(p,'\\n')"
   ]
  },
  {
   "cell_type": "code",
   "execution_count": null,
   "id": "2f027850",
   "metadata": {},
   "outputs": [],
   "source": [
    "df_filtre = df_recueil[df_recueil['p_size']>2000].sort_values('p_size')\n",
    "for url in df_filtre['url']:\n",
    "    print(url)"
   ]
  },
  {
   "cell_type": "markdown",
   "id": "ba0834f1",
   "metadata": {},
   "source": [
    "# Mesure et observation des résultats\n",
    "---"
   ]
  },
  {
   "cell_type": "markdown",
   "id": "2ddd9baf",
   "metadata": {},
   "source": [
    "### Articles exclus du Dataset"
   ]
  },
  {
   "cell_type": "code",
   "execution_count": null,
   "id": "2a4d001a",
   "metadata": {},
   "outputs": [],
   "source": [
    "df_recueil[df_recueil['tds']==0]"
   ]
  },
  {
   "cell_type": "markdown",
   "id": "76996d3a",
   "metadata": {},
   "source": [
    "# Sauvegarde\n",
    "---"
   ]
  },
  {
   "cell_type": "code",
   "execution_count": null,
   "id": "88b3a711",
   "metadata": {},
   "outputs": [],
   "source": [
    "filename = 'data/tmp/230508-RecueilFiltre.csv'"
   ]
  },
  {
   "cell_type": "code",
   "execution_count": null,
   "id": "ec00d7cb",
   "metadata": {},
   "outputs": [],
   "source": [
    "df_recueil = df_recueil.drop(columns=['html'])"
   ]
  },
  {
   "cell_type": "code",
   "execution_count": null,
   "id": "19dae3d9",
   "metadata": {},
   "outputs": [],
   "source": [
    "df_recueil[df_recueil['tds']==1].to_csv(filename,index=False)"
   ]
  },
  {
   "cell_type": "markdown",
   "id": "fb7949bc",
   "metadata": {},
   "source": [
    "# Conclusions\n",
    "---"
   ]
  },
  {
   "cell_type": "markdown",
   "id": "bd06b261",
   "metadata": {},
   "source": [
    "- ..."
   ]
  },
  {
   "cell_type": "markdown",
   "id": "bd360655",
   "metadata": {},
   "source": [
    "# Bricolages\n",
    "---"
   ]
  }
 ],
 "metadata": {
  "kernelspec": {
   "display_name": "Python 3 (ipykernel)",
   "language": "python",
   "name": "python3"
  },
  "language_info": {
   "codemirror_mode": {
    "name": "ipython",
    "version": 3
   },
   "file_extension": ".py",
   "mimetype": "text/x-python",
   "name": "python",
   "nbconvert_exporter": "python",
   "pygments_lexer": "ipython3",
   "version": "3.10.11"
  }
 },
 "nbformat": 4,
 "nbformat_minor": 5
}
