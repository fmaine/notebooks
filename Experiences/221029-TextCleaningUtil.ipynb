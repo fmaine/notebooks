{
 "cells": [
  {
   "cell_type": "markdown",
   "id": "e3ec4689",
   "metadata": {},
   "source": [
    "# Plateforme Agnostique de Traitement et d'Analyse des Textes\n",
    "### Carnet d'expérimentation\n",
    "---\n",
    "\n",
    "## Sujet : Utilitaires de nettoyage de texte\n",
    "\n",
    "---"
   ]
  },
  {
   "cell_type": "markdown",
   "id": "2601e626",
   "metadata": {},
   "source": [
    "# Observations et environnement\n",
    "---"
   ]
  },
  {
   "cell_type": "code",
   "execution_count": 1,
   "id": "5d0de4d7",
   "metadata": {},
   "outputs": [
    {
     "name": "stdout",
     "output_type": "stream",
     "text": [
      "/Users/fm/Desktop/Work/Patat\n"
     ]
    }
   ],
   "source": [
    "cd ../.."
   ]
  },
  {
   "cell_type": "code",
   "execution_count": 2,
   "id": "32256b0d",
   "metadata": {},
   "outputs": [],
   "source": [
    "import importlib\n",
    "import pandas as pd\n",
    "import seaborn as sns"
   ]
  },
  {
   "cell_type": "markdown",
   "id": "29618668",
   "metadata": {},
   "source": [
    "## Labels et Articles"
   ]
  },
  {
   "cell_type": "code",
   "execution_count": 3,
   "id": "3b357704",
   "metadata": {},
   "outputs": [],
   "source": [
    "import patat.db.label_db"
   ]
  },
  {
   "cell_type": "code",
   "execution_count": 4,
   "id": "7c25908f",
   "metadata": {},
   "outputs": [
    {
     "data": {
      "text/html": [
       "<div>\n",
       "<style scoped>\n",
       "    .dataframe tbody tr th:only-of-type {\n",
       "        vertical-align: middle;\n",
       "    }\n",
       "\n",
       "    .dataframe tbody tr th {\n",
       "        vertical-align: top;\n",
       "    }\n",
       "\n",
       "    .dataframe thead th {\n",
       "        text-align: right;\n",
       "    }\n",
       "</style>\n",
       "<table border=\"1\" class=\"dataframe\">\n",
       "  <thead>\n",
       "    <tr style=\"text-align: right;\">\n",
       "      <th></th>\n",
       "      <th>url</th>\n",
       "      <th>value</th>\n",
       "      <th>label</th>\n",
       "      <th>owner</th>\n",
       "      <th>type</th>\n",
       "      <th>url_h</th>\n",
       "    </tr>\n",
       "  </thead>\n",
       "  <tbody>\n",
       "    <tr>\n",
       "      <th>0</th>\n",
       "      <td>https://www.breizh-info.com/2022/09/30/208531/...</td>\n",
       "      <td>0.002348</td>\n",
       "      <td>infox</td>\n",
       "      <td>221028-InfoxPipe</td>\n",
       "      <td>pred</td>\n",
       "      <td>7a183e0e5a2d7643350d9cb3fe655cb8e05d2892</td>\n",
       "    </tr>\n",
       "    <tr>\n",
       "      <th>1</th>\n",
       "      <td>https://www.breizh-info.com/2022/10/02/208574/...</td>\n",
       "      <td>0.024418</td>\n",
       "      <td>infox</td>\n",
       "      <td>221028-InfoxPipe</td>\n",
       "      <td>pred</td>\n",
       "      <td>242c9ea99be61b3e67d040b9a15423556b0a226c</td>\n",
       "    </tr>\n",
       "    <tr>\n",
       "      <th>2</th>\n",
       "      <td>https://www.dreuz.info/2022/10/elections-de-mi...</td>\n",
       "      <td>0.025664</td>\n",
       "      <td>infox</td>\n",
       "      <td>221028-InfoxPipe</td>\n",
       "      <td>pred</td>\n",
       "      <td>6294a8e958f020eb3d151176bdd437626d490b43</td>\n",
       "    </tr>\n",
       "    <tr>\n",
       "      <th>3</th>\n",
       "      <td>https://www.dreuz.info/2022/10/lukraine-est-en...</td>\n",
       "      <td>0.052985</td>\n",
       "      <td>infox</td>\n",
       "      <td>221028-InfoxPipe</td>\n",
       "      <td>pred</td>\n",
       "      <td>3f2abdc980e4fc88f3b62503e4cfccf2923686f5</td>\n",
       "    </tr>\n",
       "    <tr>\n",
       "      <th>4</th>\n",
       "      <td>https://www.dreuz.info/2022/10/la-fda-va-publi...</td>\n",
       "      <td>0.055427</td>\n",
       "      <td>infox</td>\n",
       "      <td>221028-InfoxPipe</td>\n",
       "      <td>pred</td>\n",
       "      <td>1f3dc0cd32405aadd908368395533886a5e13fe2</td>\n",
       "    </tr>\n",
       "    <tr>\n",
       "      <th>...</th>\n",
       "      <td>...</td>\n",
       "      <td>...</td>\n",
       "      <td>...</td>\n",
       "      <td>...</td>\n",
       "      <td>...</td>\n",
       "      <td>...</td>\n",
       "    </tr>\n",
       "    <tr>\n",
       "      <th>264236</th>\n",
       "      <td>https://www.profession-gendarme.com/zelensky-e...</td>\n",
       "      <td>0.556761</td>\n",
       "      <td>infox</td>\n",
       "      <td>220930-tf_lr.pp</td>\n",
       "      <td>pred</td>\n",
       "      <td>e346761c2a99d892b26c9388480e0ee6ad6b303b</td>\n",
       "    </tr>\n",
       "    <tr>\n",
       "      <th>264237</th>\n",
       "      <td>https://www.profession-gendarme.com/zelensky-l...</td>\n",
       "      <td>0.164531</td>\n",
       "      <td>infox</td>\n",
       "      <td>220930-tf_lr.pp</td>\n",
       "      <td>pred</td>\n",
       "      <td>77525354644316eadab53960efa8f5fd028c7f67</td>\n",
       "    </tr>\n",
       "    <tr>\n",
       "      <th>264238</th>\n",
       "      <td>https://www.profession-gendarme.com/zelensky-m...</td>\n",
       "      <td>0.673791</td>\n",
       "      <td>infox</td>\n",
       "      <td>220930-tf_lr.pp</td>\n",
       "      <td>pred</td>\n",
       "      <td>fc6a074da5c02032bc9fc3f35f1044bc4029042c</td>\n",
       "    </tr>\n",
       "    <tr>\n",
       "      <th>264239</th>\n",
       "      <td>https://www.profession-gendarme.com/zero-mort-...</td>\n",
       "      <td>0.103192</td>\n",
       "      <td>infox</td>\n",
       "      <td>220930-tf_lr.pp</td>\n",
       "      <td>pred</td>\n",
       "      <td>e4f0a8961d79c9a5f66c80d7aa4196cb679af2b0</td>\n",
       "    </tr>\n",
       "    <tr>\n",
       "      <th>264240</th>\n",
       "      <td>https://www.profession-gendarme.com/zoom-franc...</td>\n",
       "      <td>0.303205</td>\n",
       "      <td>infox</td>\n",
       "      <td>220930-tf_lr.pp</td>\n",
       "      <td>pred</td>\n",
       "      <td>36a0091795b15d56005a6b7b8963ada539f598eb</td>\n",
       "    </tr>\n",
       "  </tbody>\n",
       "</table>\n",
       "<p>264241 rows × 6 columns</p>\n",
       "</div>"
      ],
      "text/plain": [
       "                                                      url     value  label  \\\n",
       "0       https://www.breizh-info.com/2022/09/30/208531/...  0.002348  infox   \n",
       "1       https://www.breizh-info.com/2022/10/02/208574/...  0.024418  infox   \n",
       "2       https://www.dreuz.info/2022/10/elections-de-mi...  0.025664  infox   \n",
       "3       https://www.dreuz.info/2022/10/lukraine-est-en...  0.052985  infox   \n",
       "4       https://www.dreuz.info/2022/10/la-fda-va-publi...  0.055427  infox   \n",
       "...                                                   ...       ...    ...   \n",
       "264236  https://www.profession-gendarme.com/zelensky-e...  0.556761  infox   \n",
       "264237  https://www.profession-gendarme.com/zelensky-l...  0.164531  infox   \n",
       "264238  https://www.profession-gendarme.com/zelensky-m...  0.673791  infox   \n",
       "264239  https://www.profession-gendarme.com/zero-mort-...  0.103192  infox   \n",
       "264240  https://www.profession-gendarme.com/zoom-franc...  0.303205  infox   \n",
       "\n",
       "                   owner  type                                     url_h  \n",
       "0       221028-InfoxPipe  pred  7a183e0e5a2d7643350d9cb3fe655cb8e05d2892  \n",
       "1       221028-InfoxPipe  pred  242c9ea99be61b3e67d040b9a15423556b0a226c  \n",
       "2       221028-InfoxPipe  pred  6294a8e958f020eb3d151176bdd437626d490b43  \n",
       "3       221028-InfoxPipe  pred  3f2abdc980e4fc88f3b62503e4cfccf2923686f5  \n",
       "4       221028-InfoxPipe  pred  1f3dc0cd32405aadd908368395533886a5e13fe2  \n",
       "...                  ...   ...                                       ...  \n",
       "264236   220930-tf_lr.pp  pred  e346761c2a99d892b26c9388480e0ee6ad6b303b  \n",
       "264237   220930-tf_lr.pp  pred  77525354644316eadab53960efa8f5fd028c7f67  \n",
       "264238   220930-tf_lr.pp  pred  fc6a074da5c02032bc9fc3f35f1044bc4029042c  \n",
       "264239   220930-tf_lr.pp  pred  e4f0a8961d79c9a5f66c80d7aa4196cb679af2b0  \n",
       "264240   220930-tf_lr.pp  pred  36a0091795b15d56005a6b7b8963ada539f598eb  \n",
       "\n",
       "[264241 rows x 6 columns]"
      ]
     },
     "execution_count": 4,
     "metadata": {},
     "output_type": "execute_result"
    }
   ],
   "source": [
    "importlib.reload(patat.db.label_db)\n",
    "label_filename = ''\n",
    "\n",
    "label_db = patat.db.label_db.LabelDb(label_filename)\n",
    "label_db.df()"
   ]
  },
  {
   "cell_type": "code",
   "execution_count": 5,
   "id": "96710531",
   "metadata": {},
   "outputs": [],
   "source": [
    "import patat.db.article_db"
   ]
  },
  {
   "cell_type": "code",
   "execution_count": 6,
   "id": "c77ec74d",
   "metadata": {},
   "outputs": [
    {
     "data": {
      "text/html": [
       "<div>\n",
       "<style scoped>\n",
       "    .dataframe tbody tr th:only-of-type {\n",
       "        vertical-align: middle;\n",
       "    }\n",
       "\n",
       "    .dataframe tbody tr th {\n",
       "        vertical-align: top;\n",
       "    }\n",
       "\n",
       "    .dataframe thead th {\n",
       "        text-align: right;\n",
       "    }\n",
       "</style>\n",
       "<table border=\"1\" class=\"dataframe\">\n",
       "  <thead>\n",
       "    <tr style=\"text-align: right;\">\n",
       "      <th></th>\n",
       "      <th>url</th>\n",
       "      <th>site</th>\n",
       "      <th>title</th>\n",
       "      <th>article</th>\n",
       "      <th>abstract</th>\n",
       "      <th>author</th>\n",
       "      <th>date_iso</th>\n",
       "      <th>url_h</th>\n",
       "      <th>c_count</th>\n",
       "    </tr>\n",
       "  </thead>\n",
       "  <tbody>\n",
       "    <tr>\n",
       "      <th>0</th>\n",
       "      <td>https://www.breizh-info.com/2022/09/30/208531/...</td>\n",
       "      <td>www.breizh-info.com</td>\n",
       "      <td>Réunification. Les six « insoumis » de Bretagne</td>\n",
       "      <td>Dans l’opération que prépare Bretagne réunie, ...</td>\n",
       "      <td>NaN</td>\n",
       "      <td>NaN</td>\n",
       "      <td>2022-09-30T00:00:00</td>\n",
       "      <td>7a183e0e5a2d7643350d9cb3fe655cb8e05d2892</td>\n",
       "      <td>2292.0</td>\n",
       "    </tr>\n",
       "    <tr>\n",
       "      <th>1</th>\n",
       "      <td>https://www.breizh-info.com/2022/10/02/208574/...</td>\n",
       "      <td>www.breizh-info.com</td>\n",
       "      <td>Stonehenge, patrimoine africain ? Ben voyons…</td>\n",
       "      <td>Ces dernières années, l’Histoire toute entière...</td>\n",
       "      <td>NaN</td>\n",
       "      <td>NaN</td>\n",
       "      <td>2022-10-02T00:00:00</td>\n",
       "      <td>242c9ea99be61b3e67d040b9a15423556b0a226c</td>\n",
       "      <td>5111.0</td>\n",
       "    </tr>\n",
       "    <tr>\n",
       "      <th>2</th>\n",
       "      <td>https://www.dreuz.info/2022/10/elections-de-mi...</td>\n",
       "      <td>www.dreuz.info</td>\n",
       "      <td>Elections américaines de mi-mandat : suivi quo...</td>\n",
       "      <td>Voici le suivi quotidien des élections des mid...</td>\n",
       "      <td>NaN</td>\n",
       "      <td>Publié par  Team 100 jours le 3 octobre 2022</td>\n",
       "      <td>2022-10-03T00:00:00</td>\n",
       "      <td>6294a8e958f020eb3d151176bdd437626d490b43</td>\n",
       "      <td>5900.0</td>\n",
       "    </tr>\n",
       "    <tr>\n",
       "      <th>3</th>\n",
       "      <td>https://www.dreuz.info/2022/10/lukraine-est-en...</td>\n",
       "      <td>www.dreuz.info</td>\n",
       "      <td>L’Ukraine est en train de gagner la guerre</td>\n",
       "      <td>On ne saura sans doute jamais exactement qui a...</td>\n",
       "      <td>NaN</td>\n",
       "      <td>Publié par  Guy Millière le 4 octobre 2022</td>\n",
       "      <td>2022-10-04T00:00:00</td>\n",
       "      <td>3f2abdc980e4fc88f3b62503e4cfccf2923686f5</td>\n",
       "      <td>9598.0</td>\n",
       "    </tr>\n",
       "    <tr>\n",
       "      <th>4</th>\n",
       "      <td>https://www.dreuz.info/2022/10/la-fda-va-publi...</td>\n",
       "      <td>www.dreuz.info</td>\n",
       "      <td>La FDA va publier une étude sur les effets ind...</td>\n",
       "      <td>Première réflexion : J’ai toujours été pro-cho...</td>\n",
       "      <td>NaN</td>\n",
       "      <td>Publié par  Jean-Patrick Grumberg le 6 octobre...</td>\n",
       "      <td>2022-10-06T00:00:00</td>\n",
       "      <td>1f3dc0cd32405aadd908368395533886a5e13fe2</td>\n",
       "      <td>4264.0</td>\n",
       "    </tr>\n",
       "    <tr>\n",
       "      <th>...</th>\n",
       "      <td>...</td>\n",
       "      <td>...</td>\n",
       "      <td>...</td>\n",
       "      <td>...</td>\n",
       "      <td>...</td>\n",
       "      <td>...</td>\n",
       "      <td>...</td>\n",
       "      <td>...</td>\n",
       "      <td>...</td>\n",
       "    </tr>\n",
       "    <tr>\n",
       "      <th>77945</th>\n",
       "      <td>https://www.lelibrepenseur.org/une-histoire-vi...</td>\n",
       "      <td>www.lelibrepenseur.org</td>\n",
       "      <td>Une histoire vieille comme le monde !</td>\n",
       "      <td>Certains veulent des preuves ! Ils ont raison....</td>\n",
       "      <td>NaN</td>\n",
       "      <td>Par\\nAdmin</td>\n",
       "      <td>2010-05-04T00:00:00</td>\n",
       "      <td>8c7a6ecf46d47da1912884a0c0a2837c69f7ad19</td>\n",
       "      <td>7889.0</td>\n",
       "    </tr>\n",
       "    <tr>\n",
       "      <th>77946</th>\n",
       "      <td>https://www.lelibrepenseur.org/actus/</td>\n",
       "      <td>www.lelibrepenseur.org</td>\n",
       "      <td>Actus</td>\n",
       "      <td>Dernière vidéo !\\nIl était temps, enfin ! Je v...</td>\n",
       "      <td>NaN</td>\n",
       "      <td>Par\\nuser</td>\n",
       "      <td>2007-07-07T00:00:00</td>\n",
       "      <td>d4d5a37a8ff545664bea75664c8d8695e70d0941</td>\n",
       "      <td>2179.0</td>\n",
       "    </tr>\n",
       "    <tr>\n",
       "      <th>77947</th>\n",
       "      <td>https://www.lelibrepenseur.org/affiche-des-dec...</td>\n",
       "      <td>www.lelibrepenseur.org</td>\n",
       "      <td>Affiche des décès et malaises de sportifs de h...</td>\n",
       "      <td>Un nombre inquiétant de sportifs de haut nivea...</td>\n",
       "      <td>NaN</td>\n",
       "      <td>NaN</td>\n",
       "      <td>NaN</td>\n",
       "      <td>a175027896cf79e76dfad6409694fafacf1919b3</td>\n",
       "      <td>2250.0</td>\n",
       "    </tr>\n",
       "    <tr>\n",
       "      <th>77948</th>\n",
       "      <td>https://www.lelibrepenseur.org/communaute/</td>\n",
       "      <td>www.lelibrepenseur.org</td>\n",
       "      <td>Communauté</td>\n",
       "      <td>Notre Réseau Telegram et ses Groupes Secondair...</td>\n",
       "      <td>NaN</td>\n",
       "      <td>NaN</td>\n",
       "      <td>NaN</td>\n",
       "      <td>6ba257c7b15dd68cadf7dc5d6d8c584db0f1792e</td>\n",
       "      <td>2937.0</td>\n",
       "    </tr>\n",
       "    <tr>\n",
       "      <th>77949</th>\n",
       "      <td>https://www.lelibrepenseur.org/utilisation-des...</td>\n",
       "      <td>www.lelibrepenseur.org</td>\n",
       "      <td>Utilisation des cookies sur notre site</td>\n",
       "      <td>Que sont les cookies ?\\n\\n\\nLes cookies sont d...</td>\n",
       "      <td>NaN</td>\n",
       "      <td>NaN</td>\n",
       "      <td>NaN</td>\n",
       "      <td>7c725113f0c9a95c8269c8d7a271d253ae5ede99</td>\n",
       "      <td>7702.0</td>\n",
       "    </tr>\n",
       "  </tbody>\n",
       "</table>\n",
       "<p>77950 rows × 9 columns</p>\n",
       "</div>"
      ],
      "text/plain": [
       "                                                     url  \\\n",
       "0      https://www.breizh-info.com/2022/09/30/208531/...   \n",
       "1      https://www.breizh-info.com/2022/10/02/208574/...   \n",
       "2      https://www.dreuz.info/2022/10/elections-de-mi...   \n",
       "3      https://www.dreuz.info/2022/10/lukraine-est-en...   \n",
       "4      https://www.dreuz.info/2022/10/la-fda-va-publi...   \n",
       "...                                                  ...   \n",
       "77945  https://www.lelibrepenseur.org/une-histoire-vi...   \n",
       "77946              https://www.lelibrepenseur.org/actus/   \n",
       "77947  https://www.lelibrepenseur.org/affiche-des-dec...   \n",
       "77948         https://www.lelibrepenseur.org/communaute/   \n",
       "77949  https://www.lelibrepenseur.org/utilisation-des...   \n",
       "\n",
       "                         site  \\\n",
       "0         www.breizh-info.com   \n",
       "1         www.breizh-info.com   \n",
       "2              www.dreuz.info   \n",
       "3              www.dreuz.info   \n",
       "4              www.dreuz.info   \n",
       "...                       ...   \n",
       "77945  www.lelibrepenseur.org   \n",
       "77946  www.lelibrepenseur.org   \n",
       "77947  www.lelibrepenseur.org   \n",
       "77948  www.lelibrepenseur.org   \n",
       "77949  www.lelibrepenseur.org   \n",
       "\n",
       "                                                   title  \\\n",
       "0        Réunification. Les six « insoumis » de Bretagne   \n",
       "1          Stonehenge, patrimoine africain ? Ben voyons…   \n",
       "2      Elections américaines de mi-mandat : suivi quo...   \n",
       "3             L’Ukraine est en train de gagner la guerre   \n",
       "4      La FDA va publier une étude sur les effets ind...   \n",
       "...                                                  ...   \n",
       "77945              Une histoire vieille comme le monde !   \n",
       "77946                                              Actus   \n",
       "77947  Affiche des décès et malaises de sportifs de h...   \n",
       "77948                                         Communauté   \n",
       "77949             Utilisation des cookies sur notre site   \n",
       "\n",
       "                                                 article  abstract  \\\n",
       "0      Dans l’opération que prépare Bretagne réunie, ...       NaN   \n",
       "1      Ces dernières années, l’Histoire toute entière...       NaN   \n",
       "2      Voici le suivi quotidien des élections des mid...       NaN   \n",
       "3      On ne saura sans doute jamais exactement qui a...       NaN   \n",
       "4      Première réflexion : J’ai toujours été pro-cho...       NaN   \n",
       "...                                                  ...       ...   \n",
       "77945  Certains veulent des preuves ! Ils ont raison....       NaN   \n",
       "77946  Dernière vidéo !\\nIl était temps, enfin ! Je v...       NaN   \n",
       "77947  Un nombre inquiétant de sportifs de haut nivea...       NaN   \n",
       "77948  Notre Réseau Telegram et ses Groupes Secondair...       NaN   \n",
       "77949  Que sont les cookies ?\\n\\n\\nLes cookies sont d...       NaN   \n",
       "\n",
       "                                                  author             date_iso  \\\n",
       "0                                                    NaN  2022-09-30T00:00:00   \n",
       "1                                                    NaN  2022-10-02T00:00:00   \n",
       "2           Publié par  Team 100 jours le 3 octobre 2022  2022-10-03T00:00:00   \n",
       "3             Publié par  Guy Millière le 4 octobre 2022  2022-10-04T00:00:00   \n",
       "4      Publié par  Jean-Patrick Grumberg le 6 octobre...  2022-10-06T00:00:00   \n",
       "...                                                  ...                  ...   \n",
       "77945                                         Par\\nAdmin  2010-05-04T00:00:00   \n",
       "77946                                          Par\\nuser  2007-07-07T00:00:00   \n",
       "77947                                                NaN                  NaN   \n",
       "77948                                                NaN                  NaN   \n",
       "77949                                                NaN                  NaN   \n",
       "\n",
       "                                          url_h  c_count  \n",
       "0      7a183e0e5a2d7643350d9cb3fe655cb8e05d2892   2292.0  \n",
       "1      242c9ea99be61b3e67d040b9a15423556b0a226c   5111.0  \n",
       "2      6294a8e958f020eb3d151176bdd437626d490b43   5900.0  \n",
       "3      3f2abdc980e4fc88f3b62503e4cfccf2923686f5   9598.0  \n",
       "4      1f3dc0cd32405aadd908368395533886a5e13fe2   4264.0  \n",
       "...                                         ...      ...  \n",
       "77945  8c7a6ecf46d47da1912884a0c0a2837c69f7ad19   7889.0  \n",
       "77946  d4d5a37a8ff545664bea75664c8d8695e70d0941   2179.0  \n",
       "77947  a175027896cf79e76dfad6409694fafacf1919b3   2250.0  \n",
       "77948  6ba257c7b15dd68cadf7dc5d6d8c584db0f1792e   2937.0  \n",
       "77949  7c725113f0c9a95c8269c8d7a271d253ae5ede99   7702.0  \n",
       "\n",
       "[77950 rows x 9 columns]"
      ]
     },
     "execution_count": 6,
     "metadata": {},
     "output_type": "execute_result"
    }
   ],
   "source": [
    "importlib.reload(patat.db.article_db)\n",
    "article_filename = ''\n",
    "\n",
    "article_db = patat.db.article_db.ArticleDb(article_filename)\n",
    "article_db.df()"
   ]
  },
  {
   "cell_type": "markdown",
   "id": "f32351c1",
   "metadata": {},
   "source": [
    "# Experience\n",
    "---"
   ]
  },
  {
   "cell_type": "code",
   "execution_count": 26,
   "id": "e2828331",
   "metadata": {},
   "outputs": [],
   "source": [
    "import patat.util.text"
   ]
  },
  {
   "cell_type": "code",
   "execution_count": 42,
   "id": "5bd07f2e",
   "metadata": {},
   "outputs": [
    {
     "data": {
      "text/plain": [
       "<module 'patat.util.text' from '/Users/fm/Desktop/Work/Patat/patat/util/text.py'>"
      ]
     },
     "execution_count": 42,
     "metadata": {},
     "output_type": "execute_result"
    }
   ],
   "source": [
    "importlib.reload(patat.util.text)"
   ]
  },
  {
   "cell_type": "code",
   "execution_count": 38,
   "id": "bb7ab77e",
   "metadata": {},
   "outputs": [],
   "source": [
    "text = article_db.df()['article'].sample().iloc[0]"
   ]
  },
  {
   "cell_type": "code",
   "execution_count": 45,
   "id": "c49d6b2b",
   "metadata": {},
   "outputs": [],
   "source": [
    "text = 'Allez voir @FM à https://francois-michel.com/ <pub qsfqsdf qsdfq sdfqsdf >'"
   ]
  },
  {
   "cell_type": "code",
   "execution_count": 40,
   "id": "1f47e592",
   "metadata": {},
   "outputs": [
    {
     "data": {
      "text/plain": [
       "'Allez voir @FM à  </pub>'"
      ]
     },
     "execution_count": 40,
     "metadata": {},
     "output_type": "execute_result"
    }
   ],
   "source": [
    "patat.util.text.remove_url(text)"
   ]
  },
  {
   "cell_type": "code",
   "execution_count": 41,
   "id": "6d54ec1d",
   "metadata": {},
   "outputs": [
    {
     "data": {
      "text/plain": [
       "'Allez voir FM à httpsfrancoismichelcom pub'"
      ]
     },
     "execution_count": 41,
     "metadata": {},
     "output_type": "execute_result"
    }
   ],
   "source": [
    "patat.util.text.remove_punct(text)"
   ]
  },
  {
   "cell_type": "code",
   "execution_count": 46,
   "id": "0d685369",
   "metadata": {},
   "outputs": [
    {
     "data": {
      "text/plain": [
       "'Allez voir @FM à https://francois-michel.com/ pub qsfqsdf qsdfq sdfqsdf '"
      ]
     },
     "execution_count": 46,
     "metadata": {},
     "output_type": "execute_result"
    }
   ],
   "source": [
    "patat.util.text.remove_html_tags(text)"
   ]
  },
  {
   "cell_type": "markdown",
   "id": "ba0834f1",
   "metadata": {},
   "source": [
    "# Mesure et observation des résultats\n",
    "---"
   ]
  },
  {
   "cell_type": "code",
   "execution_count": null,
   "id": "2a4d001a",
   "metadata": {},
   "outputs": [],
   "source": []
  },
  {
   "cell_type": "markdown",
   "id": "76996d3a",
   "metadata": {},
   "source": [
    "# Sauvegarde des résultats\n",
    "---"
   ]
  },
  {
   "cell_type": "markdown",
   "id": "fb7949bc",
   "metadata": {},
   "source": [
    "# Conclusions\n",
    "---"
   ]
  },
  {
   "cell_type": "markdown",
   "id": "bd06b261",
   "metadata": {},
   "source": [
    "- ..."
   ]
  },
  {
   "cell_type": "markdown",
   "id": "bd360655",
   "metadata": {},
   "source": [
    "# Bricolages\n",
    "---"
   ]
  },
  {
   "cell_type": "code",
   "execution_count": null,
   "id": "97a4bb41",
   "metadata": {},
   "outputs": [],
   "source": []
  }
 ],
 "metadata": {
  "kernelspec": {
   "display_name": "Python 3 (ipykernel)",
   "language": "python",
   "name": "python3"
  },
  "language_info": {
   "codemirror_mode": {
    "name": "ipython",
    "version": 3
   },
   "file_extension": ".py",
   "mimetype": "text/x-python",
   "name": "python",
   "nbconvert_exporter": "python",
   "pygments_lexer": "ipython3",
   "version": "3.9.13"
  }
 },
 "nbformat": 4,
 "nbformat_minor": 5
}
