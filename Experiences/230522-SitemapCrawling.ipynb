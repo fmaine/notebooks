{
 "cells": [
  {
   "cell_type": "markdown",
   "id": "e3ec4689",
   "metadata": {},
   "source": [
    "# Plateforme Agnostique de Traitement et d'Analyse des Textes\n",
    "### Carnet d'expérimentation\n",
    "---\n",
    "\n",
    "## Sujet : \n",
    "\n",
    "---"
   ]
  },
  {
   "cell_type": "markdown",
   "id": "2601e626",
   "metadata": {},
   "source": [
    "# Observations et environnement\n",
    "---"
   ]
  },
  {
   "cell_type": "markdown",
   "id": "85c0f3b8",
   "metadata": {},
   "source": [
    "## Environnement"
   ]
  },
  {
   "cell_type": "code",
   "execution_count": 1,
   "id": "525fef74",
   "metadata": {},
   "outputs": [],
   "source": [
    "random_state = 42"
   ]
  },
  {
   "cell_type": "code",
   "execution_count": 2,
   "id": "5d0de4d7",
   "metadata": {},
   "outputs": [
    {
     "name": "stdout",
     "output_type": "stream",
     "text": [
      "/Volumes/Geek/Work/Patat\n"
     ]
    }
   ],
   "source": [
    "cd ../.."
   ]
  },
  {
   "cell_type": "code",
   "execution_count": 3,
   "id": "32256b0d",
   "metadata": {},
   "outputs": [],
   "source": [
    "import ast\n",
    "import importlib\n",
    "import pandas as pd\n",
    "import seaborn as sns\n",
    "from tqdm.notebook import tqdm\n",
    "tqdm.pandas()"
   ]
  },
  {
   "cell_type": "markdown",
   "id": "4b0b7201",
   "metadata": {},
   "source": [
    "## Données"
   ]
  },
  {
   "cell_type": "code",
   "execution_count": 4,
   "id": "d491fcb3",
   "metadata": {},
   "outputs": [],
   "source": [
    "import patat.util.file"
   ]
  },
  {
   "cell_type": "code",
   "execution_count": 5,
   "id": "f4cc8fc9",
   "metadata": {},
   "outputs": [],
   "source": [
    "sitemaps_xml = patat.util.file.pickle_load('data/tmp/sitemap_xml.pickle')"
   ]
  },
  {
   "cell_type": "markdown",
   "id": "838f3cf7",
   "metadata": {},
   "source": [
    "## Exploration Sitemaps"
   ]
  },
  {
   "cell_type": "code",
   "execution_count": 6,
   "id": "73feab00",
   "metadata": {},
   "outputs": [],
   "source": [
    "from bs4 import BeautifulSoup"
   ]
  },
  {
   "cell_type": "code",
   "execution_count": 8,
   "id": "427b47c1",
   "metadata": {},
   "outputs": [
    {
     "data": {
      "application/vnd.jupyter.widget-view+json": {
       "model_id": "a26f8ff2ee1b4a638123ca95f62a0bbb",
       "version_major": 2,
       "version_minor": 0
      },
      "text/plain": [
       "  0%|          | 0/433 [00:00<?, ?it/s]"
      ]
     },
     "metadata": {},
     "output_type": "display_data"
    },
    {
     "name": "stderr",
     "output_type": "stream",
     "text": [
      "/opt/homebrew/Caskroom/miniforge/base/envs/pt39/lib/python3.9/site-packages/bs4/builder/__init__.py:545: XMLParsedAsHTMLWarning: It looks like you're parsing an XML document using an HTML parser. If this really is an HTML document (maybe it's XHTML?), you can ignore or filter this warning. If it's XML, you should know that using an XML parser will be more reliable. To parse this document as XML, make sure you have the lxml package installed, and pass the keyword argument `features=\"xml\"` into the BeautifulSoup constructor.\n",
      "  warnings.warn(\n"
     ]
    }
   ],
   "source": [
    "sitemap_data = []\n",
    "for i in tqdm(range(0,len(sitemaps_xml))):\n",
    "    soup = BeautifulSoup(sitemaps_xml[i]['xml'],parser='xml')\n",
    "    for s_url in soup.select('url'):\n",
    "        urls = s_url.select('loc')\n",
    "        lastmods = s_url.select('lastmod')\n",
    "        if len(urls)>0:\n",
    "            url = urls[0].text\n",
    "        else:\n",
    "            url = ''\n",
    "        if len(lastmods)>0:\n",
    "            lastmod = lastmods[0].text\n",
    "        sitemap_data.append({\n",
    "            'url':url,\n",
    "            'lastmod':lastmod,\n",
    "        })\n"
   ]
  },
  {
   "cell_type": "code",
   "execution_count": 9,
   "id": "5e535748",
   "metadata": {},
   "outputs": [
    {
     "data": {
      "text/html": [
       "<div>\n",
       "<style scoped>\n",
       "    .dataframe tbody tr th:only-of-type {\n",
       "        vertical-align: middle;\n",
       "    }\n",
       "\n",
       "    .dataframe tbody tr th {\n",
       "        vertical-align: top;\n",
       "    }\n",
       "\n",
       "    .dataframe thead th {\n",
       "        text-align: right;\n",
       "    }\n",
       "</style>\n",
       "<table border=\"1\" class=\"dataframe\">\n",
       "  <thead>\n",
       "    <tr style=\"text-align: right;\">\n",
       "      <th></th>\n",
       "      <th>url</th>\n",
       "      <th>lastmod</th>\n",
       "    </tr>\n",
       "  </thead>\n",
       "  <tbody>\n",
       "    <tr>\n",
       "      <th>0</th>\n",
       "      <td>https://bonsens.info/tout-ce-que-lon-ne-nous-d...</td>\n",
       "      <td>2020-10-03T19:13:17+00:00</td>\n",
       "    </tr>\n",
       "    <tr>\n",
       "      <th>1</th>\n",
       "      <td>https://bonsens.info/naissance-de-bonsens/</td>\n",
       "      <td>2020-10-04T10:13:04+00:00</td>\n",
       "    </tr>\n",
       "    <tr>\n",
       "      <th>2</th>\n",
       "      <td>https://bonsens.info/evenements-bonsens/</td>\n",
       "      <td>2020-10-17T16:03:37+00:00</td>\n",
       "    </tr>\n",
       "    <tr>\n",
       "      <th>3</th>\n",
       "      <td>https://bonsens.info/communique-de-presse-n2-2...</td>\n",
       "      <td>2020-10-31T13:36:21+00:00</td>\n",
       "    </tr>\n",
       "    <tr>\n",
       "      <th>4</th>\n",
       "      <td>https://bonsens.info/communique-de-presse-n1-1...</td>\n",
       "      <td>2020-10-31T13:36:54+00:00</td>\n",
       "    </tr>\n",
       "    <tr>\n",
       "      <th>...</th>\n",
       "      <td>...</td>\n",
       "      <td>...</td>\n",
       "    </tr>\n",
       "    <tr>\n",
       "      <th>906608</th>\n",
       "      <td>https://www.bvoltaire.fr/rubrique/tribune/</td>\n",
       "      <td>2023-05-08T19:08:35+00:00</td>\n",
       "    </tr>\n",
       "    <tr>\n",
       "      <th>906609</th>\n",
       "      <td>https://www.bvoltaire.fr/rubrique/union-europe...</td>\n",
       "      <td>2023-05-06T07:02:37+00:00</td>\n",
       "    </tr>\n",
       "    <tr>\n",
       "      <th>906610</th>\n",
       "      <td>https://www.bvoltaire.fr/rubrique/videos/</td>\n",
       "      <td>2023-05-05T17:56:04+00:00</td>\n",
       "    </tr>\n",
       "    <tr>\n",
       "      <th>906611</th>\n",
       "      <td>https://www.bvoltaire.fr/rubrique/videos-exter...</td>\n",
       "      <td>2023-02-06T20:31:41+00:00</td>\n",
       "    </tr>\n",
       "    <tr>\n",
       "      <th>906612</th>\n",
       "      <td>https://www.bvoltaire.fr/rubrique/vivre-ensemble/</td>\n",
       "      <td>2023-01-02T17:38:02+00:00</td>\n",
       "    </tr>\n",
       "  </tbody>\n",
       "</table>\n",
       "<p>906613 rows × 2 columns</p>\n",
       "</div>"
      ],
      "text/plain": [
       "                                                      url   \n",
       "0       https://bonsens.info/tout-ce-que-lon-ne-nous-d...  \\\n",
       "1              https://bonsens.info/naissance-de-bonsens/   \n",
       "2                https://bonsens.info/evenements-bonsens/   \n",
       "3       https://bonsens.info/communique-de-presse-n2-2...   \n",
       "4       https://bonsens.info/communique-de-presse-n1-1...   \n",
       "...                                                   ...   \n",
       "906608         https://www.bvoltaire.fr/rubrique/tribune/   \n",
       "906609  https://www.bvoltaire.fr/rubrique/union-europe...   \n",
       "906610          https://www.bvoltaire.fr/rubrique/videos/   \n",
       "906611  https://www.bvoltaire.fr/rubrique/videos-exter...   \n",
       "906612  https://www.bvoltaire.fr/rubrique/vivre-ensemble/   \n",
       "\n",
       "                          lastmod  \n",
       "0       2020-10-03T19:13:17+00:00  \n",
       "1       2020-10-04T10:13:04+00:00  \n",
       "2       2020-10-17T16:03:37+00:00  \n",
       "3       2020-10-31T13:36:21+00:00  \n",
       "4       2020-10-31T13:36:54+00:00  \n",
       "...                           ...  \n",
       "906608  2023-05-08T19:08:35+00:00  \n",
       "906609  2023-05-06T07:02:37+00:00  \n",
       "906610  2023-05-05T17:56:04+00:00  \n",
       "906611  2023-02-06T20:31:41+00:00  \n",
       "906612  2023-01-02T17:38:02+00:00  \n",
       "\n",
       "[906613 rows x 2 columns]"
      ]
     },
     "execution_count": 9,
     "metadata": {},
     "output_type": "execute_result"
    }
   ],
   "source": [
    "df_sitemap = pd.DataFrame(sitemap_data)\n",
    "df_sitemap"
   ]
  },
  {
   "cell_type": "code",
   "execution_count": 10,
   "id": "d816a04e",
   "metadata": {},
   "outputs": [],
   "source": [
    "import patat.imp.importer\n",
    "imp = patat.imp.importer.Importer()"
   ]
  },
  {
   "cell_type": "code",
   "execution_count": 11,
   "id": "ea16ea33",
   "metadata": {},
   "outputs": [
    {
     "data": {
      "application/vnd.jupyter.widget-view+json": {
       "model_id": "d5fc8afee1c7457aa37ff7e470f88093",
       "version_major": 2,
       "version_minor": 0
      },
      "text/plain": [
       "  0%|          | 0/906613 [00:00<?, ?it/s]"
      ]
     },
     "metadata": {},
     "output_type": "display_data"
    }
   ],
   "source": [
    "df_sitemap['site']=df_sitemap['url'].progress_apply(imp.get_site)"
   ]
  },
  {
   "cell_type": "code",
   "execution_count": 12,
   "id": "9bd6eb01",
   "metadata": {},
   "outputs": [
    {
     "data": {
      "text/plain": [
       "site\n",
       "www.cnews.fr                         305621\n",
       "www.francesoir.fr                    154382\n",
       "francais.rt.com                       79043\n",
       "www.breizh-info.com                   74910\n",
       "www.lelibrepenseur.org                55977\n",
       "www.bvoltaire.fr                      48709\n",
       "planetes360.fr                        43750\n",
       "www.profession-gendarme.com           27609\n",
       "www.alnas.fr                          19611\n",
       "lecourrierdesstrateges.fr             16515\n",
       "                                      16351\n",
       "www.polemia.com                       13570\n",
       "www.les-crises.fr                     12181\n",
       "infodujour.fr                          8356\n",
       "lesmoutonsrebelles.com                 7370\n",
       "lalettrepatriote.com                   6993\n",
       "lemediaen442.fr                        5251\n",
       "lezarceleurs.blogspot.com              4559\n",
       "www.revue-elements.com                 2721\n",
       "www.la-petite-souris-normande.com      1520\n",
       "extime.fr                               813\n",
       "www.dreuz.info                          531\n",
       "bonsens.info                            270\n",
       "Name: count, dtype: int64"
      ]
     },
     "execution_count": 12,
     "metadata": {},
     "output_type": "execute_result"
    }
   ],
   "source": [
    "df_sitemap.value_counts('site')"
   ]
  },
  {
   "cell_type": "code",
   "execution_count": 13,
   "id": "e023e06d",
   "metadata": {},
   "outputs": [],
   "source": [
    "df_sitemap = df_sitemap[df_sitemap['url'].notna()]"
   ]
  },
  {
   "cell_type": "code",
   "execution_count": 14,
   "id": "c2edd75b",
   "metadata": {},
   "outputs": [
    {
     "data": {
      "text/plain": [
       "count                   906613\n",
       "unique                  524112\n",
       "top       2014-03-08T19:28:46Z\n",
       "freq                    130888\n",
       "Name: lastmod, dtype: object"
      ]
     },
     "execution_count": 14,
     "metadata": {},
     "output_type": "execute_result"
    }
   ],
   "source": [
    "df_sitemap['lastmod'].describe()"
   ]
  },
  {
   "cell_type": "code",
   "execution_count": 15,
   "id": "9e3e0f66",
   "metadata": {},
   "outputs": [],
   "source": [
    "df_sitemap['date']=pd.to_datetime(df_sitemap['lastmod'],format='mixed') "
   ]
  },
  {
   "cell_type": "code",
   "execution_count": 16,
   "id": "2bac1325",
   "metadata": {},
   "outputs": [],
   "source": [
    "import datetime"
   ]
  },
  {
   "cell_type": "code",
   "execution_count": 22,
   "id": "8c933337",
   "metadata": {},
   "outputs": [],
   "source": [
    "mask_2022 = (df_sitemap['lastmod']>=('2022-01-01')) & (df_sitemap['lastmod']<('2023-01-01'))"
   ]
  },
  {
   "cell_type": "code",
   "execution_count": 23,
   "id": "a674875e",
   "metadata": {},
   "outputs": [
    {
     "data": {
      "text/plain": [
       "site\n",
       "www.francesoir.fr                    152307\n",
       "www.profession-gendarme.com           27609\n",
       "www.cnews.fr                          26126\n",
       "planetes360.fr                        18570\n",
       "francais.rt.com                        5933\n",
       "www.bvoltaire.fr                       4626\n",
       "www.alnas.fr                           2439\n",
       "lemediaen442.fr                        2368\n",
       "lezarceleurs.blogspot.com              2275\n",
       "lalettrepatriote.com                   1748\n",
       "lesmoutonsrebelles.com                  923\n",
       "infodujour.fr                           884\n",
       "www.polemia.com                         708\n",
       "www.revue-elements.com                  486\n",
       "www.la-petite-souris-normande.com       373\n",
       "extime.fr                               186\n",
       "bonsens.info                            149\n",
       "www.dreuz.info                           26\n",
       "Name: count, dtype: int64"
      ]
     },
     "execution_count": 23,
     "metadata": {},
     "output_type": "execute_result"
    }
   ],
   "source": [
    "df_sitemap[mask_2022].value_counts('site')"
   ]
  },
  {
   "cell_type": "code",
   "execution_count": 24,
   "id": "df45106c",
   "metadata": {},
   "outputs": [],
   "source": [
    "site = 'www.dreuz.info'"
   ]
  },
  {
   "cell_type": "code",
   "execution_count": 25,
   "id": "c77f3dd8",
   "metadata": {},
   "outputs": [
    {
     "data": {
      "text/html": [
       "<div>\n",
       "<style scoped>\n",
       "    .dataframe tbody tr th:only-of-type {\n",
       "        vertical-align: middle;\n",
       "    }\n",
       "\n",
       "    .dataframe tbody tr th {\n",
       "        vertical-align: top;\n",
       "    }\n",
       "\n",
       "    .dataframe thead th {\n",
       "        text-align: right;\n",
       "    }\n",
       "</style>\n",
       "<table border=\"1\" class=\"dataframe\">\n",
       "  <thead>\n",
       "    <tr style=\"text-align: right;\">\n",
       "      <th></th>\n",
       "      <th>url</th>\n",
       "      <th>lastmod</th>\n",
       "      <th>site</th>\n",
       "      <th>date</th>\n",
       "    </tr>\n",
       "  </thead>\n",
       "  <tbody>\n",
       "    <tr>\n",
       "      <th>1577</th>\n",
       "      <td>https://www.dreuz.info/whatsapp-video-2022-01-...</td>\n",
       "      <td>2022-01-05T15:21:29Z</td>\n",
       "      <td>www.dreuz.info</td>\n",
       "      <td>2022-01-05 15:21:29+00:00</td>\n",
       "    </tr>\n",
       "    <tr>\n",
       "      <th>1578</th>\n",
       "      <td>https://www.dreuz.info/2022/01/le-couple-presi...</td>\n",
       "      <td>2022-01-08T21:18:57Z</td>\n",
       "      <td>www.dreuz.info</td>\n",
       "      <td>2022-01-08 21:18:57+00:00</td>\n",
       "    </tr>\n",
       "    <tr>\n",
       "      <th>1579</th>\n",
       "      <td>https://www.dreuz.info/2022/03/la-russie-decle...</td>\n",
       "      <td>2022-02-24T17:55:07Z</td>\n",
       "      <td>www.dreuz.info</td>\n",
       "      <td>2022-02-24 17:55:07+00:00</td>\n",
       "    </tr>\n",
       "    <tr>\n",
       "      <th>1580</th>\n",
       "      <td>https://www.dreuz.info/2022/03/operation-de-sa...</td>\n",
       "      <td>2022-03-14T08:30:29Z</td>\n",
       "      <td>www.dreuz.info</td>\n",
       "      <td>2022-03-14 08:30:29+00:00</td>\n",
       "    </tr>\n",
       "    <tr>\n",
       "      <th>1581</th>\n",
       "      <td>https://www.dreuz.info/2022/04/mort-de-jeremy-...</td>\n",
       "      <td>2022-04-06T08:06:37Z</td>\n",
       "      <td>www.dreuz.info</td>\n",
       "      <td>2022-04-06 08:06:37+00:00</td>\n",
       "    </tr>\n",
       "    <tr>\n",
       "      <th>1582</th>\n",
       "      <td>https://www.dreuz.info/2022/04/mort-de-jeremy-...</td>\n",
       "      <td>2022-04-06T09:49:24Z</td>\n",
       "      <td>www.dreuz.info</td>\n",
       "      <td>2022-04-06 09:49:24+00:00</td>\n",
       "    </tr>\n",
       "    <tr>\n",
       "      <th>1583</th>\n",
       "      <td>https://www.dreuz.info/2022/04/attentat-au-coe...</td>\n",
       "      <td>2022-04-07T18:48:52Z</td>\n",
       "      <td>www.dreuz.info</td>\n",
       "      <td>2022-04-07 18:48:52+00:00</td>\n",
       "    </tr>\n",
       "    <tr>\n",
       "      <th>1584</th>\n",
       "      <td>https://www.dreuz.info/2022/04/attentat-au-coe...</td>\n",
       "      <td>2022-04-07T18:48:53Z</td>\n",
       "      <td>www.dreuz.info</td>\n",
       "      <td>2022-04-07 18:48:53+00:00</td>\n",
       "    </tr>\n",
       "    <tr>\n",
       "      <th>1585</th>\n",
       "      <td>https://www.dreuz.info/2022/04/attentat-au-coe...</td>\n",
       "      <td>2022-04-07T18:55:15Z</td>\n",
       "      <td>www.dreuz.info</td>\n",
       "      <td>2022-04-07 18:55:15+00:00</td>\n",
       "    </tr>\n",
       "    <tr>\n",
       "      <th>1586</th>\n",
       "      <td>https://www.dreuz.info/2022/04/attentat-au-coe...</td>\n",
       "      <td>2022-04-07T18:55:15Z</td>\n",
       "      <td>www.dreuz.info</td>\n",
       "      <td>2022-04-07 18:55:15+00:00</td>\n",
       "    </tr>\n",
       "    <tr>\n",
       "      <th>1587</th>\n",
       "      <td>https://www.dreuz.info/2022/04/attentat-au-coe...</td>\n",
       "      <td>2022-04-07T19:43:05Z</td>\n",
       "      <td>www.dreuz.info</td>\n",
       "      <td>2022-04-07 19:43:05+00:00</td>\n",
       "    </tr>\n",
       "    <tr>\n",
       "      <th>1588</th>\n",
       "      <td>https://www.dreuz.info/2022/04/attentat-au-coe...</td>\n",
       "      <td>2022-04-07T19:43:05Z</td>\n",
       "      <td>www.dreuz.info</td>\n",
       "      <td>2022-04-07 19:43:05+00:00</td>\n",
       "    </tr>\n",
       "    <tr>\n",
       "      <th>1589</th>\n",
       "      <td>https://www.dreuz.info/2022/05/bouge-le-dos-ce...</td>\n",
       "      <td>2022-05-11T07:33:47Z</td>\n",
       "      <td>www.dreuz.info</td>\n",
       "      <td>2022-05-11 07:33:47+00:00</td>\n",
       "    </tr>\n",
       "    <tr>\n",
       "      <th>1590</th>\n",
       "      <td>https://www.dreuz.info/2022/05/bouge-le-dos-ce...</td>\n",
       "      <td>2022-05-11T07:33:47Z</td>\n",
       "      <td>www.dreuz.info</td>\n",
       "      <td>2022-05-11 07:33:47+00:00</td>\n",
       "    </tr>\n",
       "    <tr>\n",
       "      <th>1591</th>\n",
       "      <td>https://www.dreuz.info/2022/06/joe-biden-tombe...</td>\n",
       "      <td>2022-06-19T12:55:47Z</td>\n",
       "      <td>www.dreuz.info</td>\n",
       "      <td>2022-06-19 12:55:47+00:00</td>\n",
       "    </tr>\n",
       "    <tr>\n",
       "      <th>1592</th>\n",
       "      <td>https://www.dreuz.info/2022/06/joe-biden-tombe...</td>\n",
       "      <td>2022-06-19T12:55:48Z</td>\n",
       "      <td>www.dreuz.info</td>\n",
       "      <td>2022-06-19 12:55:48+00:00</td>\n",
       "    </tr>\n",
       "    <tr>\n",
       "      <th>1593</th>\n",
       "      <td>https://www.dreuz.info/zaniar-matapour</td>\n",
       "      <td>2022-06-25T13:41:44Z</td>\n",
       "      <td>www.dreuz.info</td>\n",
       "      <td>2022-06-25 13:41:44+00:00</td>\n",
       "    </tr>\n",
       "    <tr>\n",
       "      <th>1594</th>\n",
       "      <td>https://www.dreuz.info/2022/06/heureusement-ce...</td>\n",
       "      <td>2022-06-26T08:07:08Z</td>\n",
       "      <td>www.dreuz.info</td>\n",
       "      <td>2022-06-26 08:07:08+00:00</td>\n",
       "    </tr>\n",
       "    <tr>\n",
       "      <th>1595</th>\n",
       "      <td>https://www.dreuz.info/2022/07/saint-denis-une...</td>\n",
       "      <td>2022-07-29T08:11:00Z</td>\n",
       "      <td>www.dreuz.info</td>\n",
       "      <td>2022-07-29 08:11:00+00:00</td>\n",
       "    </tr>\n",
       "    <tr>\n",
       "      <th>1596</th>\n",
       "      <td>https://www.dreuz.info/2022/07/saint-denis-une...</td>\n",
       "      <td>2022-07-29T08:16:02Z</td>\n",
       "      <td>www.dreuz.info</td>\n",
       "      <td>2022-07-29 08:16:02+00:00</td>\n",
       "    </tr>\n",
       "    <tr>\n",
       "      <th>1597</th>\n",
       "      <td>https://www.dreuz.info/2022/07/saint-denis-une...</td>\n",
       "      <td>2022-07-29T08:16:02Z</td>\n",
       "      <td>www.dreuz.info</td>\n",
       "      <td>2022-07-29 08:16:02+00:00</td>\n",
       "    </tr>\n",
       "    <tr>\n",
       "      <th>1598</th>\n",
       "      <td>https://www.dreuz.info/2022/08/seul-limam-chal...</td>\n",
       "      <td>2022-08-02T07:42:11Z</td>\n",
       "      <td>www.dreuz.info</td>\n",
       "      <td>2022-08-02 07:42:11+00:00</td>\n",
       "    </tr>\n",
       "    <tr>\n",
       "      <th>1599</th>\n",
       "      <td>https://www.dreuz.info/2022/08/seul-limam-chal...</td>\n",
       "      <td>2022-08-02T07:42:12Z</td>\n",
       "      <td>www.dreuz.info</td>\n",
       "      <td>2022-08-02 07:42:12+00:00</td>\n",
       "    </tr>\n",
       "    <tr>\n",
       "      <th>1600</th>\n",
       "      <td>https://www.dreuz.info/2022/09/shana-tova-a-to...</td>\n",
       "      <td>2022-09-25T12:29:50Z</td>\n",
       "      <td>www.dreuz.info</td>\n",
       "      <td>2022-09-25 12:29:50+00:00</td>\n",
       "    </tr>\n",
       "    <tr>\n",
       "      <th>1601</th>\n",
       "      <td>https://www.dreuz.info/2022/09/shana-tova-a-to...</td>\n",
       "      <td>2022-09-25T12:29:51Z</td>\n",
       "      <td>www.dreuz.info</td>\n",
       "      <td>2022-09-25 12:29:51+00:00</td>\n",
       "    </tr>\n",
       "    <tr>\n",
       "      <th>1602</th>\n",
       "      <td>https://www.dreuz.info/2022/12/dreuz-souhaite-...</td>\n",
       "      <td>2022-12-31T13:59:31Z</td>\n",
       "      <td>www.dreuz.info</td>\n",
       "      <td>2022-12-31 13:59:31+00:00</td>\n",
       "    </tr>\n",
       "  </tbody>\n",
       "</table>\n",
       "</div>"
      ],
      "text/plain": [
       "                                                    url               lastmod   \n",
       "1577  https://www.dreuz.info/whatsapp-video-2022-01-...  2022-01-05T15:21:29Z  \\\n",
       "1578  https://www.dreuz.info/2022/01/le-couple-presi...  2022-01-08T21:18:57Z   \n",
       "1579  https://www.dreuz.info/2022/03/la-russie-decle...  2022-02-24T17:55:07Z   \n",
       "1580  https://www.dreuz.info/2022/03/operation-de-sa...  2022-03-14T08:30:29Z   \n",
       "1581  https://www.dreuz.info/2022/04/mort-de-jeremy-...  2022-04-06T08:06:37Z   \n",
       "1582  https://www.dreuz.info/2022/04/mort-de-jeremy-...  2022-04-06T09:49:24Z   \n",
       "1583  https://www.dreuz.info/2022/04/attentat-au-coe...  2022-04-07T18:48:52Z   \n",
       "1584  https://www.dreuz.info/2022/04/attentat-au-coe...  2022-04-07T18:48:53Z   \n",
       "1585  https://www.dreuz.info/2022/04/attentat-au-coe...  2022-04-07T18:55:15Z   \n",
       "1586  https://www.dreuz.info/2022/04/attentat-au-coe...  2022-04-07T18:55:15Z   \n",
       "1587  https://www.dreuz.info/2022/04/attentat-au-coe...  2022-04-07T19:43:05Z   \n",
       "1588  https://www.dreuz.info/2022/04/attentat-au-coe...  2022-04-07T19:43:05Z   \n",
       "1589  https://www.dreuz.info/2022/05/bouge-le-dos-ce...  2022-05-11T07:33:47Z   \n",
       "1590  https://www.dreuz.info/2022/05/bouge-le-dos-ce...  2022-05-11T07:33:47Z   \n",
       "1591  https://www.dreuz.info/2022/06/joe-biden-tombe...  2022-06-19T12:55:47Z   \n",
       "1592  https://www.dreuz.info/2022/06/joe-biden-tombe...  2022-06-19T12:55:48Z   \n",
       "1593             https://www.dreuz.info/zaniar-matapour  2022-06-25T13:41:44Z   \n",
       "1594  https://www.dreuz.info/2022/06/heureusement-ce...  2022-06-26T08:07:08Z   \n",
       "1595  https://www.dreuz.info/2022/07/saint-denis-une...  2022-07-29T08:11:00Z   \n",
       "1596  https://www.dreuz.info/2022/07/saint-denis-une...  2022-07-29T08:16:02Z   \n",
       "1597  https://www.dreuz.info/2022/07/saint-denis-une...  2022-07-29T08:16:02Z   \n",
       "1598  https://www.dreuz.info/2022/08/seul-limam-chal...  2022-08-02T07:42:11Z   \n",
       "1599  https://www.dreuz.info/2022/08/seul-limam-chal...  2022-08-02T07:42:12Z   \n",
       "1600  https://www.dreuz.info/2022/09/shana-tova-a-to...  2022-09-25T12:29:50Z   \n",
       "1601  https://www.dreuz.info/2022/09/shana-tova-a-to...  2022-09-25T12:29:51Z   \n",
       "1602  https://www.dreuz.info/2022/12/dreuz-souhaite-...  2022-12-31T13:59:31Z   \n",
       "\n",
       "                site                       date  \n",
       "1577  www.dreuz.info  2022-01-05 15:21:29+00:00  \n",
       "1578  www.dreuz.info  2022-01-08 21:18:57+00:00  \n",
       "1579  www.dreuz.info  2022-02-24 17:55:07+00:00  \n",
       "1580  www.dreuz.info  2022-03-14 08:30:29+00:00  \n",
       "1581  www.dreuz.info  2022-04-06 08:06:37+00:00  \n",
       "1582  www.dreuz.info  2022-04-06 09:49:24+00:00  \n",
       "1583  www.dreuz.info  2022-04-07 18:48:52+00:00  \n",
       "1584  www.dreuz.info  2022-04-07 18:48:53+00:00  \n",
       "1585  www.dreuz.info  2022-04-07 18:55:15+00:00  \n",
       "1586  www.dreuz.info  2022-04-07 18:55:15+00:00  \n",
       "1587  www.dreuz.info  2022-04-07 19:43:05+00:00  \n",
       "1588  www.dreuz.info  2022-04-07 19:43:05+00:00  \n",
       "1589  www.dreuz.info  2022-05-11 07:33:47+00:00  \n",
       "1590  www.dreuz.info  2022-05-11 07:33:47+00:00  \n",
       "1591  www.dreuz.info  2022-06-19 12:55:47+00:00  \n",
       "1592  www.dreuz.info  2022-06-19 12:55:48+00:00  \n",
       "1593  www.dreuz.info  2022-06-25 13:41:44+00:00  \n",
       "1594  www.dreuz.info  2022-06-26 08:07:08+00:00  \n",
       "1595  www.dreuz.info  2022-07-29 08:11:00+00:00  \n",
       "1596  www.dreuz.info  2022-07-29 08:16:02+00:00  \n",
       "1597  www.dreuz.info  2022-07-29 08:16:02+00:00  \n",
       "1598  www.dreuz.info  2022-08-02 07:42:11+00:00  \n",
       "1599  www.dreuz.info  2022-08-02 07:42:12+00:00  \n",
       "1600  www.dreuz.info  2022-09-25 12:29:50+00:00  \n",
       "1601  www.dreuz.info  2022-09-25 12:29:51+00:00  \n",
       "1602  www.dreuz.info  2022-12-31 13:59:31+00:00  "
      ]
     },
     "execution_count": 25,
     "metadata": {},
     "output_type": "execute_result"
    }
   ],
   "source": [
    "df_sitemap[mask_2022&(df_sitemap['site']==site)]"
   ]
  },
  {
   "cell_type": "markdown",
   "id": "6b548bc6",
   "metadata": {},
   "source": [
    "# Experience\n",
    "---"
   ]
  },
  {
   "cell_type": "markdown",
   "id": "a306ba37",
   "metadata": {},
   "source": [
    "## Etape 1"
   ]
  },
  {
   "cell_type": "code",
   "execution_count": null,
   "id": "99a0d671",
   "metadata": {},
   "outputs": [],
   "source": []
  },
  {
   "cell_type": "markdown",
   "id": "76996d3a",
   "metadata": {},
   "source": [
    "# Sauvegarde des résultats\n",
    "---"
   ]
  },
  {
   "cell_type": "code",
   "execution_count": null,
   "id": "f39f8729",
   "metadata": {},
   "outputs": [],
   "source": []
  },
  {
   "cell_type": "markdown",
   "id": "fb7949bc",
   "metadata": {},
   "source": [
    "# Conclusions\n",
    "---"
   ]
  },
  {
   "cell_type": "markdown",
   "id": "bd360655",
   "metadata": {},
   "source": [
    "# Bricolages\n",
    "---"
   ]
  },
  {
   "cell_type": "code",
   "execution_count": null,
   "id": "f9862890",
   "metadata": {},
   "outputs": [],
   "source": []
  }
 ],
 "metadata": {
  "kernelspec": {
   "display_name": "Python 3 (ipykernel)",
   "language": "python",
   "name": "python3"
  },
  "language_info": {
   "codemirror_mode": {
    "name": "ipython",
    "version": 3
   },
   "file_extension": ".py",
   "mimetype": "text/x-python",
   "name": "python",
   "nbconvert_exporter": "python",
   "pygments_lexer": "ipython3",
   "version": "3.9.16"
  }
 },
 "nbformat": 4,
 "nbformat_minor": 5
}
