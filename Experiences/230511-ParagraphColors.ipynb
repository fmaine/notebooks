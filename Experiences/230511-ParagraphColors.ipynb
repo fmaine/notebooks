{
 "cells": [
  {
   "cell_type": "markdown",
   "id": "e3ec4689",
   "metadata": {},
   "source": [
    "# Plateforme Agnostique de Traitement et d'Analyse des Textes\n",
    "### Carnet d'expérimentation\n",
    "---\n",
    "\n",
    "## Sujet : Pipeline classif infox supervisé dataset labels\n",
    "\n",
    "---"
   ]
  },
  {
   "cell_type": "markdown",
   "id": "2601e626",
   "metadata": {},
   "source": [
    "# Observations et environnement\n",
    "---"
   ]
  },
  {
   "cell_type": "markdown",
   "id": "60389b3d",
   "metadata": {},
   "source": [
    "## Environnement"
   ]
  },
  {
   "cell_type": "code",
   "execution_count": 1,
   "id": "525fef74",
   "metadata": {},
   "outputs": [],
   "source": [
    "random_state = 42"
   ]
  },
  {
   "cell_type": "code",
   "execution_count": 2,
   "id": "5d0de4d7",
   "metadata": {},
   "outputs": [
    {
     "name": "stdout",
     "output_type": "stream",
     "text": [
      "/Volumes/Geek/Work/Patat\n"
     ]
    }
   ],
   "source": [
    "cd ../.."
   ]
  },
  {
   "cell_type": "code",
   "execution_count": 3,
   "id": "32256b0d",
   "metadata": {},
   "outputs": [],
   "source": [
    "import ast\n",
    "import importlib\n",
    "import pandas as pd\n",
    "import seaborn as sns\n",
    "from tqdm.notebook import tqdm\n",
    "tqdm.pandas()"
   ]
  },
  {
   "cell_type": "markdown",
   "id": "60c2c9c4",
   "metadata": {},
   "source": [
    "## Données"
   ]
  },
  {
   "cell_type": "code",
   "execution_count": 4,
   "id": "d491fcb3",
   "metadata": {},
   "outputs": [],
   "source": [
    "filename = 'data/prod/230510-OIDS-Label.csv'"
   ]
  },
  {
   "cell_type": "code",
   "execution_count": 5,
   "id": "f4cc8fc9",
   "metadata": {},
   "outputs": [],
   "source": [
    "df_label = pd.read_csv(filename)\n",
    "df_label['paragraphs'] = df_label['paragraphs'].apply(ast.literal_eval)\n",
    "df_label['abstract'].fillna('',inplace=True)"
   ]
  },
  {
   "cell_type": "code",
   "execution_count": 6,
   "id": "73feab00",
   "metadata": {},
   "outputs": [
    {
     "data": {
      "text/plain": [
       "36"
      ]
     },
     "execution_count": 6,
     "metadata": {},
     "output_type": "execute_result"
    }
   ],
   "source": [
    "df_label['infox'].isna().sum()"
   ]
  },
  {
   "cell_type": "code",
   "execution_count": 7,
   "id": "5e535748",
   "metadata": {},
   "outputs": [],
   "source": [
    "df_label = df_label[df_label['infox'].notna()]"
   ]
  },
  {
   "cell_type": "markdown",
   "id": "61a52065",
   "metadata": {},
   "source": [
    "## Prédicteur"
   ]
  },
  {
   "cell_type": "code",
   "execution_count": 8,
   "id": "c4eb1e2d",
   "metadata": {},
   "outputs": [],
   "source": [
    "import patat.util.file\n",
    "#predfile = 'data/tmp/230425-PredInfox.pickle'\n",
    "predfile = 'data/prod/230510-LogRegInfox.pickle'\n",
    "predictor = patat.util.file.pickle_load(predfile)"
   ]
  },
  {
   "cell_type": "markdown",
   "id": "6b548bc6",
   "metadata": {},
   "source": [
    "# Experience\n",
    "---"
   ]
  },
  {
   "cell_type": "code",
   "execution_count": 10,
   "id": "ca545d96",
   "metadata": {},
   "outputs": [],
   "source": [
    "text = df_label.sample(1,random_state=random_state).iloc[0]['text']"
   ]
  },
  {
   "cell_type": "code",
   "execution_count": 11,
   "id": "ec582b83",
   "metadata": {},
   "outputs": [
    {
     "name": "stdout",
     "output_type": "stream",
     "text": [
      "Atteint de sclérose en plaques, Julien Védani tente de gravir le Kilimandjaro\n",
      "Julien Védani croit en son rêve. Aidé par la technologie mais aussi ses amis, l'homme, atteint de sclérose en plaques, veut relever un défi de taille : gravir le Kilimandjaro.\n",
      "Il dispose d'une volonté à toute épreuve. Atteint d'une sclérose en plaques, Julien Védani veut tout de même relever un objectif important. D'abord aidé par une technologie, c'est ensuite en s'appuyant sur une perche tenue par ses amis ainsi que sa béquille et la force de ses jambes qu'il tente de gravir le Kilimandjaro. Au fur et à mesure, l'équilibre devient de plus en plus précaire. Après quatre heures d'efforts, au bord de l'épuisement, il arrive finalement au camp.\n",
      "Le lendemain, une nouvelle journée d'ascension démarre pour Julien Védani et son équipe. Une fois le plateau à 3 300 mètres de haut atteint, une pause déjeuner s'impose. L'infirmière Vanessa Moralès teste le grimpeur sur sa réaction à l'altitude. Mais malgré l'aide des accompagnateurs, Julien Védani lutte pour avancer dans la matinée du troisième jour. Les premiers effets de l'altitude se font ressentir à 3 700 mètres. Lui qui voulait avancer denout jusqu'au sommet est alors installé dans une joëlette, à son grand regrett. Le voyage se poursuit sous les chants d'encouragement des porteurs tanzaniens, touché par sa détresse.\n",
      "\n"
     ]
    }
   ],
   "source": [
    "print(text)"
   ]
  },
  {
   "cell_type": "code",
   "execution_count": 12,
   "id": "613eac35",
   "metadata": {},
   "outputs": [],
   "source": [
    "import numpy as np"
   ]
  },
  {
   "cell_type": "code",
   "execution_count": 13,
   "id": "f9c0c2cf",
   "metadata": {},
   "outputs": [],
   "source": [
    "df_label['predict_infox']=np.round(predictor.predict_proba(df_label['text'])[:,1],3)"
   ]
  },
  {
   "cell_type": "code",
   "execution_count": 14,
   "id": "df7e2817",
   "metadata": {},
   "outputs": [
    {
     "data": {
      "text/plain": [
       "<seaborn.axisgrid.FacetGrid at 0x1606f72d0>"
      ]
     },
     "execution_count": 14,
     "metadata": {},
     "output_type": "execute_result"
    },
    {
     "data": {
      "image/png": "[encoded data removed]",
      "text/plain": [
       "<Figure size 500x500 with 1 Axes>"
      ]
     },
     "metadata": {},
     "output_type": "display_data"
    }
   ],
   "source": [
    "sns.displot(df_label,x='predict_infox')"
   ]
  },
  {
   "cell_type": "code",
   "execution_count": 15,
   "id": "1f559a15",
   "metadata": {},
   "outputs": [
    {
     "data": {
      "application/vnd.jupyter.widget-view+json": {
       "model_id": "ccd3a1fa3afa48cdae052b39475731ee",
       "version_major": 2,
       "version_minor": 0
      },
      "text/plain": [
       "  0%|          | 0/895 [00:00<?, ?it/s]"
      ]
     },
     "metadata": {},
     "output_type": "display_data"
    }
   ],
   "source": [
    "df_label['predict_parags']=df_label['paragraphs'].progress_apply(lambda ps: predictor.predict_proba(ps)[:,1])\n"
   ]
  },
  {
   "cell_type": "code",
   "execution_count": 16,
   "id": "b6fd4504",
   "metadata": {},
   "outputs": [],
   "source": [
    "\n",
    "def print_parags(index):\n",
    "    print(df_label['title'][index])\n",
    "    print(f'Infox level : {df_label[\"predict_infox\"][index]}\\n')\n",
    "    parags = df_label['paragraphs'][index]\n",
    "    for i in range(0,len(parags)):\n",
    "        proba = df_label['predict_parags'][index][i]\n",
    "        if proba < .3:\n",
    "            print (colored(parags[i], 'green'))\n",
    "        elif proba > .7:\n",
    "            print (colored(parags[i], 'red'))\n",
    "        else:\n",
    "            print(parags[i])\n",
    "        "
   ]
  },
  {
   "cell_type": "code",
   "execution_count": 17,
   "id": "0057c2eb",
   "metadata": {},
   "outputs": [
    {
     "name": "stdout",
     "output_type": "stream",
     "text": [
      "Révélé : des documents montrent comment le DHS complote pour contrôler la « désinformation » en ligne\n",
      "Infox level : 0.865\n",
      "\n",
      "Un grand nombre de documents et de communications du ministère de la Sécurité intérieure (DHS), obtenus par le biais de fuites, de demandes de liberté d’information (FOIA), de rapports publics et du procès en cours sur la collusion entre Biden et Big Tech en matière de censure, ont jeté un nouvel éclairage sur les efforts continus du DHS pour contrôler la « désinformation » en ligne.\n",
      "Les documents, qui ont été obtenus par The Intercept, révèlent l’existence d’un portail Facebook que le DHS et d’autres agences gouvernementales peuvent utiliser pour signaler des contenus au géant de la technologie, montrent des preuves que le DHS signale des contenus à Twitter, documentent les réunions bihebdomadaires de « désinformation liée aux élections » entre les géants de la technologie et le DHS, et plus encore.\n",
      "Un document montre que Facebook a créé un « système de demande de contenu » spécial pour le DHS et d’autres agences gouvernementales. Selon The Intercept, les responsables gouvernementaux peuvent utiliser ce portail pour signaler directement les contenus de Facebook et d’Instagram et demander qu’ils soient bridés ou supprimés. La page de connexion à ce système de demande de contenu était toujours en ligne au moment de la rédaction de cet article.\n"
     ]
    },
    {
     "ename": "NameError",
     "evalue": "name 'colored' is not defined",
     "output_type": "error",
     "traceback": [
      "\u001b[0;31m---------------------------------------------------------------------------\u001b[0m",
      "\u001b[0;31mNameError\u001b[0m                                 Traceback (most recent call last)",
      "Cell \u001b[0;32mIn[17], line 1\u001b[0m\n\u001b[0;32m----> 1\u001b[0m \u001b[43mprint_parags\u001b[49m\u001b[43m(\u001b[49m\u001b[38;5;241;43m10\u001b[39;49m\u001b[43m)\u001b[49m\n",
      "Cell \u001b[0;32mIn[16], line 8\u001b[0m, in \u001b[0;36mprint_parags\u001b[0;34m(index)\u001b[0m\n\u001b[1;32m      6\u001b[0m proba \u001b[38;5;241m=\u001b[39m df_label[\u001b[38;5;124m'\u001b[39m\u001b[38;5;124mpredict_parags\u001b[39m\u001b[38;5;124m'\u001b[39m][index][i]\n\u001b[1;32m      7\u001b[0m \u001b[38;5;28;01mif\u001b[39;00m proba \u001b[38;5;241m<\u001b[39m \u001b[38;5;241m.3\u001b[39m:\n\u001b[0;32m----> 8\u001b[0m     \u001b[38;5;28mprint\u001b[39m (\u001b[43mcolored\u001b[49m(parags[i], \u001b[38;5;124m'\u001b[39m\u001b[38;5;124mgreen\u001b[39m\u001b[38;5;124m'\u001b[39m))\n\u001b[1;32m      9\u001b[0m \u001b[38;5;28;01melif\u001b[39;00m proba \u001b[38;5;241m>\u001b[39m \u001b[38;5;241m.7\u001b[39m:\n\u001b[1;32m     10\u001b[0m     \u001b[38;5;28mprint\u001b[39m (colored(parags[i], \u001b[38;5;124m'\u001b[39m\u001b[38;5;124mred\u001b[39m\u001b[38;5;124m'\u001b[39m))\n",
      "\u001b[0;31mNameError\u001b[0m: name 'colored' is not defined"
     ]
    }
   ],
   "source": [
    "print_parags(10)"
   ]
  },
  {
   "cell_type": "markdown",
   "id": "e17f31be",
   "metadata": {},
   "source": [
    "## Prédictions sur le Corpus"
   ]
  },
  {
   "cell_type": "markdown",
   "id": "b2867828",
   "metadata": {},
   "source": [
    "### Chargement Corpus"
   ]
  },
  {
   "cell_type": "code",
   "execution_count": null,
   "id": "7690e85a",
   "metadata": {},
   "outputs": [],
   "source": [
    "df_label.reset_index(inplace=True)"
   ]
  },
  {
   "cell_type": "code",
   "execution_count": null,
   "id": "44d46464",
   "metadata": {},
   "outputs": [],
   "source": [
    "import patat.db.article_db"
   ]
  },
  {
   "cell_type": "code",
   "execution_count": null,
   "id": "c7a206fd",
   "metadata": {},
   "outputs": [],
   "source": [
    "df_corpus = patat.db.article_db.ArticleDb().df().copy()"
   ]
  },
  {
   "cell_type": "code",
   "execution_count": null,
   "id": "84b8d9f1",
   "metadata": {},
   "outputs": [],
   "source": [
    "df_corpus"
   ]
  },
  {
   "cell_type": "markdown",
   "id": "c9395109",
   "metadata": {},
   "source": [
    "### Calcul des textes"
   ]
  },
  {
   "cell_type": "code",
   "execution_count": null,
   "id": "ecb0f1c2",
   "metadata": {},
   "outputs": [],
   "source": [
    "import patat.imp.parser"
   ]
  },
  {
   "cell_type": "code",
   "execution_count": null,
   "id": "cd7a7459",
   "metadata": {},
   "outputs": [],
   "source": [
    "parser = patat.imp.parser.Parser()"
   ]
  },
  {
   "cell_type": "code",
   "execution_count": null,
   "id": "c48625a2",
   "metadata": {},
   "outputs": [],
   "source": [
    "df_corpus['text']=df_corpus.progress_apply(lambda row: parser.text_from_data(row['title'],row['abstract'],row['paragraphs']),axis=1)\n",
    "\n",
    "\n"
   ]
  },
  {
   "cell_type": "markdown",
   "id": "b34a72a8",
   "metadata": {},
   "source": [
    "### Prédiction infox"
   ]
  },
  {
   "cell_type": "code",
   "execution_count": null,
   "id": "dc19d943",
   "metadata": {},
   "outputs": [],
   "source": [
    "df_corpus['predict_infox']=np.round(predictor.predict_proba(df_corpus['text'])[:,1],3)"
   ]
  },
  {
   "cell_type": "code",
   "execution_count": null,
   "id": "be844b1f",
   "metadata": {},
   "outputs": [],
   "source": [
    "df_corpus['predict_parags']=df_corpus['paragraphs'].progress_apply(lambda ps: predictor.predict_proba(ps)[:,1])"
   ]
  },
  {
   "cell_type": "markdown",
   "id": "06230502",
   "metadata": {},
   "source": [
    "### Debug Patat"
   ]
  },
  {
   "cell_type": "code",
   "execution_count": null,
   "id": "c315f983",
   "metadata": {},
   "outputs": [],
   "source": [
    "importlib.reload(patat.db.article_db)\n",
    "\n",
    "article_db = patat.db.article_db.ArticleDb('data/prod/230510-OIDS-Corpus.csv')"
   ]
  },
  {
   "cell_type": "code",
   "execution_count": null,
   "id": "17f2d4ee",
   "metadata": {},
   "outputs": [],
   "source": [
    "article_db.get_corpus_data()"
   ]
  },
  {
   "cell_type": "markdown",
   "id": "76996d3a",
   "metadata": {},
   "source": [
    "# Sauvegarde des résultats\n",
    "---"
   ]
  },
  {
   "cell_type": "code",
   "execution_count": null,
   "id": "4a88846a",
   "metadata": {},
   "outputs": [],
   "source": [
    "df_corpus['predict_parags_json']=df_corpus['predict_parags'].apply(lambda x: json.dumps(list(x)))"
   ]
  },
  {
   "cell_type": "code",
   "execution_count": null,
   "id": "f085c4b9",
   "metadata": {},
   "outputs": [],
   "source": [
    "df_corpus = df_corpus.drop(columns=['text'])"
   ]
  },
  {
   "cell_type": "code",
   "execution_count": null,
   "id": "14dea9f2",
   "metadata": {},
   "outputs": [],
   "source": [
    "corpus_filename = 'data/prod/230510-OIDS-Corpus.csv'"
   ]
  },
  {
   "cell_type": "code",
   "execution_count": null,
   "id": "313ffa5d",
   "metadata": {},
   "outputs": [],
   "source": [
    "df_corpus.to_csv(corpus_filename)"
   ]
  },
  {
   "cell_type": "markdown",
   "id": "fb7949bc",
   "metadata": {},
   "source": [
    "# Conclusions\n",
    "---"
   ]
  },
  {
   "cell_type": "markdown",
   "id": "bd360655",
   "metadata": {},
   "source": [
    "# Bricolages\n",
    "---"
   ]
  },
  {
   "cell_type": "code",
   "execution_count": null,
   "id": "ec9d7877",
   "metadata": {},
   "outputs": [],
   "source": [
    "round(df_corpus['predict_infox'][0],3)"
   ]
  },
  {
   "cell_type": "code",
   "execution_count": null,
   "id": "52f8964a",
   "metadata": {},
   "outputs": [],
   "source": [
    "df_corpus"
   ]
  },
  {
   "cell_type": "code",
   "execution_count": null,
   "id": "0e8de0cf",
   "metadata": {},
   "outputs": [],
   "source": []
  }
 ],
 "metadata": {
  "kernelspec": {
   "display_name": "Python 3 (ipykernel)",
   "language": "python",
   "name": "python3"
  },
  "language_info": {
   "codemirror_mode": {
    "name": "ipython",
    "version": 3
   },
   "file_extension": ".py",
   "mimetype": "text/x-python",
   "name": "python",
   "nbconvert_exporter": "python",
   "pygments_lexer": "ipython3",
   "version": "3.11.0"
  }
 },
 "nbformat": 4,
 "nbformat_minor": 5
}
