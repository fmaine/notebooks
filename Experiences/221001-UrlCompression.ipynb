{
 "cells": [
  {
   "cell_type": "markdown",
   "id": "e3ec4689",
   "metadata": {},
   "source": [
    "# Compression d'url\n",
    "---"
   ]
  },
  {
   "cell_type": "code",
   "execution_count": 2,
   "id": "5d0de4d7",
   "metadata": {},
   "outputs": [
    {
     "name": "stdout",
     "output_type": "stream",
     "text": [
      "/Users/fm/Desktop/Work/Patat\n"
     ]
    }
   ],
   "source": [
    "cd ../.."
   ]
  },
  {
   "cell_type": "code",
   "execution_count": 3,
   "id": "32256b0d",
   "metadata": {},
   "outputs": [],
   "source": [
    "import pandas as pd\n",
    "import re\n",
    "import patat.util.text"
   ]
  },
  {
   "cell_type": "markdown",
   "id": "de6dc21a",
   "metadata": {},
   "source": [
    "## Chargement Corpus \n",
    "---"
   ]
  },
  {
   "cell_type": "code",
   "execution_count": 4,
   "id": "05cde00c",
   "metadata": {},
   "outputs": [],
   "source": [
    "corpus_filename = '220927-CorpusNews.csv'"
   ]
  },
  {
   "cell_type": "code",
   "execution_count": 5,
   "id": "82c08337",
   "metadata": {},
   "outputs": [
    {
     "name": "stderr",
     "output_type": "stream",
     "text": [
      "/var/folders/n0/92k02lss71s67fxfyc0qn84m0000gn/T/ipykernel_38914/533564688.py:1: DtypeWarning: Columns (8) have mixed types. Specify dtype option on import or set low_memory=False.\n",
      "  df_corpus = pd.read_csv(f'data/corpus/{corpus_filename}')\n"
     ]
    }
   ],
   "source": [
    "df_corpus = pd.read_csv(f'data/corpus/{corpus_filename}')"
   ]
  },
  {
   "cell_type": "markdown",
   "id": "26de4d29",
   "metadata": {},
   "source": [
    "## Url Compression\n",
    "---"
   ]
  },
  {
   "cell_type": "code",
   "execution_count": 6,
   "id": "43ca3c4e",
   "metadata": {},
   "outputs": [],
   "source": [
    "import hashlib"
   ]
  },
  {
   "cell_type": "code",
   "execution_count": 7,
   "id": "216a330e",
   "metadata": {},
   "outputs": [],
   "source": [
    "url = df_corpus.loc[1,'url']"
   ]
  },
  {
   "cell_type": "code",
   "execution_count": 8,
   "id": "20b9cfe8",
   "metadata": {},
   "outputs": [
    {
     "data": {
      "text/plain": [
       "'c4f57ab49b9e25d97c18b1f709b195532e294e35'"
      ]
     },
     "execution_count": 8,
     "metadata": {},
     "output_type": "execute_result"
    }
   ],
   "source": [
    "hashlib.sha1(url.encode('utf-8')).hexdigest()"
   ]
  },
  {
   "cell_type": "code",
   "execution_count": 9,
   "id": "3bd3528c",
   "metadata": {},
   "outputs": [],
   "source": [
    "urlchars = 'abcdefghijklmnopqrstuvwxyzABCDEFGHIJKLMNOPQRSTUVWXYZ0123456789-_.~!*\\'();:@&=+$,/?%#[]%'"
   ]
  },
  {
   "cell_type": "code",
   "execution_count": 10,
   "id": "9cdc1e94",
   "metadata": {},
   "outputs": [
    {
     "data": {
      "text/plain": [
       "86"
      ]
     },
     "execution_count": 10,
     "metadata": {},
     "output_type": "execute_result"
    }
   ],
   "source": [
    "len(urlchars)"
   ]
  },
  {
   "cell_type": "code",
   "execution_count": 11,
   "id": "061f6e32",
   "metadata": {},
   "outputs": [],
   "source": [
    "def compress_url(url):\n",
    "    return hashlib.sha1(url.encode('utf-8')).hexdigest()"
   ]
  },
  {
   "cell_type": "code",
   "execution_count": 12,
   "id": "793d3deb",
   "metadata": {},
   "outputs": [
    {
     "data": {
      "text/plain": [
       "'c4f57ab49b9e25d97c18b1f709b195532e294e35'"
      ]
     },
     "execution_count": 12,
     "metadata": {},
     "output_type": "execute_result"
    }
   ],
   "source": [
    "compress_url(url)"
   ]
  },
  {
   "cell_type": "code",
   "execution_count": 13,
   "id": "349cf88c",
   "metadata": {},
   "outputs": [],
   "source": [
    "df_corpus['url_hash']=df_corpus['url'].apply(compress_url)"
   ]
  },
  {
   "cell_type": "code",
   "execution_count": 14,
   "id": "fa21588d",
   "metadata": {},
   "outputs": [
    {
     "data": {
      "text/html": [
       "<div>\n",
       "<style scoped>\n",
       "    .dataframe tbody tr th:only-of-type {\n",
       "        vertical-align: middle;\n",
       "    }\n",
       "\n",
       "    .dataframe tbody tr th {\n",
       "        vertical-align: top;\n",
       "    }\n",
       "\n",
       "    .dataframe thead th {\n",
       "        text-align: right;\n",
       "    }\n",
       "</style>\n",
       "<table border=\"1\" class=\"dataframe\">\n",
       "  <thead>\n",
       "    <tr style=\"text-align: right;\">\n",
       "      <th></th>\n",
       "      <th>url</th>\n",
       "      <th>title</th>\n",
       "      <th>article</th>\n",
       "      <th>author</th>\n",
       "      <th>date</th>\n",
       "      <th>tag</th>\n",
       "      <th>abstract</th>\n",
       "      <th>date_iso</th>\n",
       "      <th>parse_method</th>\n",
       "      <th>site</th>\n",
       "      <th>url_hash</th>\n",
       "    </tr>\n",
       "  </thead>\n",
       "  <tbody>\n",
       "  </tbody>\n",
       "</table>\n",
       "</div>"
      ],
      "text/plain": [
       "Empty DataFrame\n",
       "Columns: [url, title, article, author, date, tag, abstract, date_iso, parse_method, site, url_hash]\n",
       "Index: []"
      ]
     },
     "execution_count": 14,
     "metadata": {},
     "output_type": "execute_result"
    }
   ],
   "source": [
    "df_corpus[df_corpus['url_hash'].duplicated()]"
   ]
  },
  {
   "cell_type": "markdown",
   "id": "99135e2e",
   "metadata": {},
   "source": [
    "### Code patat"
   ]
  },
  {
   "cell_type": "code",
   "execution_count": 17,
   "id": "2ce5e55f",
   "metadata": {},
   "outputs": [
    {
     "data": {
      "text/plain": [
       "'ae64150e04f82d5abeeaa73a3a5457143e710afa'"
      ]
     },
     "execution_count": 17,
     "metadata": {},
     "output_type": "execute_result"
    }
   ],
   "source": [
    "patat.util.text.compress(df_corpus['url'][0])"
   ]
  },
  {
   "cell_type": "code",
   "execution_count": 18,
   "id": "8506b932",
   "metadata": {},
   "outputs": [],
   "source": [
    "df_corpus['url_hash']=df_corpus['url'].apply(compress_url)"
   ]
  },
  {
   "cell_type": "markdown",
   "id": "ba0834f1",
   "metadata": {},
   "source": [
    "### Mesure des résultats"
   ]
  },
  {
   "cell_type": "code",
   "execution_count": 19,
   "id": "a80e8fca",
   "metadata": {},
   "outputs": [
    {
     "data": {
      "text/html": [
       "<div>\n",
       "<style scoped>\n",
       "    .dataframe tbody tr th:only-of-type {\n",
       "        vertical-align: middle;\n",
       "    }\n",
       "\n",
       "    .dataframe tbody tr th {\n",
       "        vertical-align: top;\n",
       "    }\n",
       "\n",
       "    .dataframe thead th {\n",
       "        text-align: right;\n",
       "    }\n",
       "</style>\n",
       "<table border=\"1\" class=\"dataframe\">\n",
       "  <thead>\n",
       "    <tr style=\"text-align: right;\">\n",
       "      <th></th>\n",
       "      <th>url</th>\n",
       "      <th>title</th>\n",
       "      <th>article</th>\n",
       "      <th>author</th>\n",
       "      <th>date</th>\n",
       "      <th>tag</th>\n",
       "      <th>abstract</th>\n",
       "      <th>date_iso</th>\n",
       "      <th>parse_method</th>\n",
       "      <th>site</th>\n",
       "      <th>url_hash</th>\n",
       "    </tr>\n",
       "  </thead>\n",
       "  <tbody>\n",
       "    <tr>\n",
       "      <th>0</th>\n",
       "      <td>https://www.lesalonbeige.fr/anges-et-demons-vi...</td>\n",
       "      <td>Anges et Démons – VII – saint Michel archange</td>\n",
       "      <td>NaN</td>\n",
       "      <td>Par Michel Janva</td>\n",
       "      <td>27 septembre 2022</td>\n",
       "      <td>[]</td>\n",
       "      <td>NaN</td>\n",
       "      <td>2022-09-27T00:00:00</td>\n",
       "      <td>parse</td>\n",
       "      <td>www.lesalonbeige.fr</td>\n",
       "      <td>ae64150e04f82d5abeeaa73a3a5457143e710afa</td>\n",
       "    </tr>\n",
       "    <tr>\n",
       "      <th>1</th>\n",
       "      <td>https://www.lesalonbeige.fr/si-je-pouvais-vivr...</td>\n",
       "      <td>Si je pouvais vivre à l’euro près comme Bruno ...</td>\n",
       "      <td>Le ministre de l’Economie Bruno Le Maire a dév...</td>\n",
       "      <td>Par Michel Janva</td>\n",
       "      <td>27 septembre 2022</td>\n",
       "      <td>[]</td>\n",
       "      <td>NaN</td>\n",
       "      <td>2022-09-27T00:00:00</td>\n",
       "      <td>parse</td>\n",
       "      <td>www.lesalonbeige.fr</td>\n",
       "      <td>c4f57ab49b9e25d97c18b1f709b195532e294e35</td>\n",
       "    </tr>\n",
       "    <tr>\n",
       "      <th>2</th>\n",
       "      <td>https://www.lesalonbeige.fr/qui-veut-dune-soci...</td>\n",
       "      <td>Qui veut d’une société meurtrière ?</td>\n",
       "      <td>Communiqué des AFC :\\nLe Comité Consultatif Na...</td>\n",
       "      <td>Par Michel Janva</td>\n",
       "      <td>15 septembre 2022</td>\n",
       "      <td>[]</td>\n",
       "      <td>NaN</td>\n",
       "      <td>2022-09-15T00:00:00</td>\n",
       "      <td>parse</td>\n",
       "      <td>www.lesalonbeige.fr</td>\n",
       "      <td>082a007a2d7cbbefe5b331d0e33c0367b49480dc</td>\n",
       "    </tr>\n",
       "    <tr>\n",
       "      <th>3</th>\n",
       "      <td>https://www.lesalonbeige.fr/delirant/</td>\n",
       "      <td>Délirant</td>\n",
       "      <td>Le Monde nous offre un festival d’amalgames :\\...</td>\n",
       "      <td>Par Michel Janva</td>\n",
       "      <td>26 septembre 2022</td>\n",
       "      <td>[]</td>\n",
       "      <td>NaN</td>\n",
       "      <td>2022-09-26T00:00:00</td>\n",
       "      <td>parse</td>\n",
       "      <td>www.lesalonbeige.fr</td>\n",
       "      <td>8fe977ae222ab63fd7acbf817324ac68aaeec7e4</td>\n",
       "    </tr>\n",
       "    <tr>\n",
       "      <th>4</th>\n",
       "      <td>https://www.lesalonbeige.fr/un-divorce-cest-to...</td>\n",
       "      <td>Un divorce c’est toujours triste</td>\n",
       "      <td>Toute la presse se gausse de la main courante ...</td>\n",
       "      <td>Par Michel Janva</td>\n",
       "      <td>14 septembre 2022</td>\n",
       "      <td>[]</td>\n",
       "      <td>NaN</td>\n",
       "      <td>2022-09-14T00:00:00</td>\n",
       "      <td>parse</td>\n",
       "      <td>www.lesalonbeige.fr</td>\n",
       "      <td>0a382372072d38d8e08c34acd73040791a22c1b6</td>\n",
       "    </tr>\n",
       "    <tr>\n",
       "      <th>...</th>\n",
       "      <td>...</td>\n",
       "      <td>...</td>\n",
       "      <td>...</td>\n",
       "      <td>...</td>\n",
       "      <td>...</td>\n",
       "      <td>...</td>\n",
       "      <td>...</td>\n",
       "      <td>...</td>\n",
       "      <td>...</td>\n",
       "      <td>...</td>\n",
       "      <td>...</td>\n",
       "    </tr>\n",
       "    <tr>\n",
       "      <th>85489</th>\n",
       "      <td>https://www.profession-gendarme.com/les-raison...</td>\n",
       "      <td>Les raisons cachées du désordre mondial, tome ...</td>\n",
       "      <td>Valérie Bugault, docteur en droit, se consacre...</td>\n",
       "      <td>NaN</td>\n",
       "      <td>NaN</td>\n",
       "      <td>['31 mai 2022 | \\n\\t\\t\\t\\t\\t\\t\\t\\tCatégorie: A...</td>\n",
       "      <td>NaN</td>\n",
       "      <td></td>\n",
       "      <td>NaN</td>\n",
       "      <td>www.profession-gendarme.com</td>\n",
       "      <td>78e762866a0c66a0fce57fa4155467d1f3011053</td>\n",
       "    </tr>\n",
       "    <tr>\n",
       "      <th>85490</th>\n",
       "      <td>https://www.profession-gendarme.com/test-pcr-o...</td>\n",
       "      <td>TEST PCR OU MOURIR ?!…..</td>\n",
       "      <td>Exemple caricatural de la lâcheté de certains ...</td>\n",
       "      <td>NaN</td>\n",
       "      <td>NaN</td>\n",
       "      <td>['15 août 2021 | \\n\\t\\t\\t\\t\\t\\t\\t\\tCatégorie: ...</td>\n",
       "      <td>NaN</td>\n",
       "      <td></td>\n",
       "      <td>NaN</td>\n",
       "      <td>www.profession-gendarme.com</td>\n",
       "      <td>bb863c8d48660419cfe291214a3b897c9157ab20</td>\n",
       "    </tr>\n",
       "    <tr>\n",
       "      <th>85491</th>\n",
       "      <td>https://www.profession-gendarme.com/chauffard-...</td>\n",
       "      <td>Chauffard tué dans le Gard : une gendarme mise...</td>\n",
       "      <td>La femme gendarme du groupement du Gard qui a ...</td>\n",
       "      <td>NaN</td>\n",
       "      <td>NaN</td>\n",
       "      <td>[\"3 septembre 2018 | \\n\\t\\t\\t\\t\\t\\t\\t\\tCatégor...</td>\n",
       "      <td>NaN</td>\n",
       "      <td></td>\n",
       "      <td>NaN</td>\n",
       "      <td>www.profession-gendarme.com</td>\n",
       "      <td>1a72f087f4e02c62aef41636f2bbcc891a970a85</td>\n",
       "    </tr>\n",
       "    <tr>\n",
       "      <th>85492</th>\n",
       "      <td>https://www.profession-gendarme.com/manifestat...</td>\n",
       "      <td>Manifestation de soutien à notre délégué Noam ...</td>\n",
       "      <td>Notre délégué Noam ANOUAR est une figure média...</td>\n",
       "      <td>NaN</td>\n",
       "      <td>NaN</td>\n",
       "      <td>[\"4 février 2020 | \\n\\t\\t\\t\\t\\t\\t\\t\\tCatégorie...</td>\n",
       "      <td>NaN</td>\n",
       "      <td></td>\n",
       "      <td>NaN</td>\n",
       "      <td>www.profession-gendarme.com</td>\n",
       "      <td>7b1a5e183d10e9fecc180ff75d552b06358c9464</td>\n",
       "    </tr>\n",
       "    <tr>\n",
       "      <th>85493</th>\n",
       "      <td>https://www.francetvinfo.fr/elections/sondages...</td>\n",
       "      <td>Infographie\\nSondages présidentielle 2022 : ex...</td>\n",
       "      <td>Toujours commentés, souvent critiqués, ils ryt...</td>\n",
       "      <td>NaN</td>\n",
       "      <td>NaN</td>\n",
       "      <td>[]</td>\n",
       "      <td>Retrouvez l’évolution des estimations de score...</td>\n",
       "      <td></td>\n",
       "      <td>NaN</td>\n",
       "      <td>www.francetvinfo.fr</td>\n",
       "      <td>f1e8f949423804934e6d3ceb5e524b0ea1d7f662</td>\n",
       "    </tr>\n",
       "  </tbody>\n",
       "</table>\n",
       "<p>85494 rows × 11 columns</p>\n",
       "</div>"
      ],
      "text/plain": [
       "                                                     url  \\\n",
       "0      https://www.lesalonbeige.fr/anges-et-demons-vi...   \n",
       "1      https://www.lesalonbeige.fr/si-je-pouvais-vivr...   \n",
       "2      https://www.lesalonbeige.fr/qui-veut-dune-soci...   \n",
       "3                  https://www.lesalonbeige.fr/delirant/   \n",
       "4      https://www.lesalonbeige.fr/un-divorce-cest-to...   \n",
       "...                                                  ...   \n",
       "85489  https://www.profession-gendarme.com/les-raison...   \n",
       "85490  https://www.profession-gendarme.com/test-pcr-o...   \n",
       "85491  https://www.profession-gendarme.com/chauffard-...   \n",
       "85492  https://www.profession-gendarme.com/manifestat...   \n",
       "85493  https://www.francetvinfo.fr/elections/sondages...   \n",
       "\n",
       "                                                   title  \\\n",
       "0          Anges et Démons – VII – saint Michel archange   \n",
       "1      Si je pouvais vivre à l’euro près comme Bruno ...   \n",
       "2                    Qui veut d’une société meurtrière ?   \n",
       "3                                               Délirant   \n",
       "4                       Un divorce c’est toujours triste   \n",
       "...                                                  ...   \n",
       "85489  Les raisons cachées du désordre mondial, tome ...   \n",
       "85490                           TEST PCR OU MOURIR ?!…..   \n",
       "85491  Chauffard tué dans le Gard : une gendarme mise...   \n",
       "85492  Manifestation de soutien à notre délégué Noam ...   \n",
       "85493  Infographie\\nSondages présidentielle 2022 : ex...   \n",
       "\n",
       "                                                 article            author  \\\n",
       "0                                                    NaN  Par Michel Janva   \n",
       "1      Le ministre de l’Economie Bruno Le Maire a dév...  Par Michel Janva   \n",
       "2      Communiqué des AFC :\\nLe Comité Consultatif Na...  Par Michel Janva   \n",
       "3      Le Monde nous offre un festival d’amalgames :\\...  Par Michel Janva   \n",
       "4      Toute la presse se gausse de la main courante ...  Par Michel Janva   \n",
       "...                                                  ...               ...   \n",
       "85489  Valérie Bugault, docteur en droit, se consacre...               NaN   \n",
       "85490  Exemple caricatural de la lâcheté de certains ...               NaN   \n",
       "85491  La femme gendarme du groupement du Gard qui a ...               NaN   \n",
       "85492  Notre délégué Noam ANOUAR est une figure média...               NaN   \n",
       "85493  Toujours commentés, souvent critiqués, ils ryt...               NaN   \n",
       "\n",
       "                    date                                                tag  \\\n",
       "0      27 septembre 2022                                                 []   \n",
       "1      27 septembre 2022                                                 []   \n",
       "2      15 septembre 2022                                                 []   \n",
       "3      26 septembre 2022                                                 []   \n",
       "4      14 septembre 2022                                                 []   \n",
       "...                  ...                                                ...   \n",
       "85489                NaN  ['31 mai 2022 | \\n\\t\\t\\t\\t\\t\\t\\t\\tCatégorie: A...   \n",
       "85490                NaN  ['15 août 2021 | \\n\\t\\t\\t\\t\\t\\t\\t\\tCatégorie: ...   \n",
       "85491                NaN  [\"3 septembre 2018 | \\n\\t\\t\\t\\t\\t\\t\\t\\tCatégor...   \n",
       "85492                NaN  [\"4 février 2020 | \\n\\t\\t\\t\\t\\t\\t\\t\\tCatégorie...   \n",
       "85493                NaN                                                 []   \n",
       "\n",
       "                                                abstract             date_iso  \\\n",
       "0                                                    NaN  2022-09-27T00:00:00   \n",
       "1                                                    NaN  2022-09-27T00:00:00   \n",
       "2                                                    NaN  2022-09-15T00:00:00   \n",
       "3                                                    NaN  2022-09-26T00:00:00   \n",
       "4                                                    NaN  2022-09-14T00:00:00   \n",
       "...                                                  ...                  ...   \n",
       "85489                                                NaN                        \n",
       "85490                                                NaN                        \n",
       "85491                                                NaN                        \n",
       "85492                                                NaN                        \n",
       "85493  Retrouvez l’évolution des estimations de score...                        \n",
       "\n",
       "      parse_method                         site  \\\n",
       "0            parse          www.lesalonbeige.fr   \n",
       "1            parse          www.lesalonbeige.fr   \n",
       "2            parse          www.lesalonbeige.fr   \n",
       "3            parse          www.lesalonbeige.fr   \n",
       "4            parse          www.lesalonbeige.fr   \n",
       "...            ...                          ...   \n",
       "85489          NaN  www.profession-gendarme.com   \n",
       "85490          NaN  www.profession-gendarme.com   \n",
       "85491          NaN  www.profession-gendarme.com   \n",
       "85492          NaN  www.profession-gendarme.com   \n",
       "85493          NaN          www.francetvinfo.fr   \n",
       "\n",
       "                                       url_hash  \n",
       "0      ae64150e04f82d5abeeaa73a3a5457143e710afa  \n",
       "1      c4f57ab49b9e25d97c18b1f709b195532e294e35  \n",
       "2      082a007a2d7cbbefe5b331d0e33c0367b49480dc  \n",
       "3      8fe977ae222ab63fd7acbf817324ac68aaeec7e4  \n",
       "4      0a382372072d38d8e08c34acd73040791a22c1b6  \n",
       "...                                         ...  \n",
       "85489  78e762866a0c66a0fce57fa4155467d1f3011053  \n",
       "85490  bb863c8d48660419cfe291214a3b897c9157ab20  \n",
       "85491  1a72f087f4e02c62aef41636f2bbcc891a970a85  \n",
       "85492  7b1a5e183d10e9fecc180ff75d552b06358c9464  \n",
       "85493  f1e8f949423804934e6d3ceb5e524b0ea1d7f662  \n",
       "\n",
       "[85494 rows x 11 columns]"
      ]
     },
     "execution_count": 19,
     "metadata": {},
     "output_type": "execute_result"
    }
   ],
   "source": [
    "df_corpus"
   ]
  },
  {
   "cell_type": "markdown",
   "id": "76996d3a",
   "metadata": {},
   "source": [
    "## Sauvegarde des predicteurs\n",
    "---"
   ]
  },
  {
   "cell_type": "markdown",
   "id": "fb7949bc",
   "metadata": {},
   "source": [
    "## Bricolages\n",
    "---"
   ]
  },
  {
   "cell_type": "code",
   "execution_count": null,
   "id": "05d318be",
   "metadata": {},
   "outputs": [],
   "source": []
  }
 ],
 "metadata": {
  "kernelspec": {
   "display_name": "Python 3 (ipykernel)",
   "language": "python",
   "name": "python3"
  },
  "language_info": {
   "codemirror_mode": {
    "name": "ipython",
    "version": 3
   },
   "file_extension": ".py",
   "mimetype": "text/x-python",
   "name": "python",
   "nbconvert_exporter": "python",
   "pygments_lexer": "ipython3",
   "version": "3.9.13"
  }
 },
 "nbformat": 4,
 "nbformat_minor": 5
}
