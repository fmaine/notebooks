{
 "cells": [
  {
   "cell_type": "markdown",
   "id": "e3ec4689",
   "metadata": {},
   "source": [
    "# Plateforme Agnostique de Traitement et d'Analyse des Textes\n",
    "### Carnet d'expérimentation\n",
    "---\n",
    "\n",
    "## Sujet : \n",
    "\n",
    "---"
   ]
  },
  {
   "cell_type": "markdown",
   "id": "2601e626",
   "metadata": {},
   "source": [
    "# Observations et environnement\n",
    "---"
   ]
  },
  {
   "cell_type": "markdown",
   "id": "85c0f3b8",
   "metadata": {},
   "source": [
    "## Environnement"
   ]
  },
  {
   "cell_type": "code",
   "execution_count": 1,
   "id": "525fef74",
   "metadata": {},
   "outputs": [],
   "source": [
    "random_state = 42"
   ]
  },
  {
   "cell_type": "code",
   "execution_count": 2,
   "id": "5d0de4d7",
   "metadata": {},
   "outputs": [
    {
     "name": "stdout",
     "output_type": "stream",
     "text": [
      "/Volumes/Geek/Work/Patat\n"
     ]
    }
   ],
   "source": [
    "cd ../.."
   ]
  },
  {
   "cell_type": "code",
   "execution_count": 3,
   "id": "32256b0d",
   "metadata": {},
   "outputs": [],
   "source": [
    "import ast\n",
    "import importlib\n",
    "import pandas as pd\n",
    "import seaborn as sns\n",
    "from tqdm.notebook import tqdm\n",
    "tqdm.pandas()"
   ]
  },
  {
   "cell_type": "code",
   "execution_count": 4,
   "id": "a9f5ebfd",
   "metadata": {},
   "outputs": [],
   "source": [
    "df_label = pd.read_pickle('data/prod/230517-OIDS-Label.pickle')"
   ]
  },
  {
   "cell_type": "code",
   "execution_count": 12,
   "id": "0aaa65cd",
   "metadata": {},
   "outputs": [
    {
     "data": {
      "text/html": [
       "<div>\n",
       "<style scoped>\n",
       "    .dataframe tbody tr th:only-of-type {\n",
       "        vertical-align: middle;\n",
       "    }\n",
       "\n",
       "    .dataframe tbody tr th {\n",
       "        vertical-align: top;\n",
       "    }\n",
       "\n",
       "    .dataframe thead th {\n",
       "        text-align: right;\n",
       "    }\n",
       "</style>\n",
       "<table border=\"1\" class=\"dataframe\">\n",
       "  <thead>\n",
       "    <tr style=\"text-align: right;\">\n",
       "      <th>infox</th>\n",
       "      <th>0.0</th>\n",
       "      <th>1.0</th>\n",
       "    </tr>\n",
       "    <tr>\n",
       "      <th>site</th>\n",
       "      <th></th>\n",
       "      <th></th>\n",
       "    </tr>\n",
       "  </thead>\n",
       "  <tbody>\n",
       "    <tr>\n",
       "      <th>theconversation.com</th>\n",
       "      <td>1.0</td>\n",
       "      <td>0.0</td>\n",
       "    </tr>\n",
       "    <tr>\n",
       "      <th>extime.fr</th>\n",
       "      <td>2.0</td>\n",
       "      <td>0.0</td>\n",
       "    </tr>\n",
       "    <tr>\n",
       "      <th>www.fdesouche.com</th>\n",
       "      <td>2.0</td>\n",
       "      <td>0.0</td>\n",
       "    </tr>\n",
       "    <tr>\n",
       "      <th>francais.rt.com</th>\n",
       "      <td>3.0</td>\n",
       "      <td>0.0</td>\n",
       "    </tr>\n",
       "    <tr>\n",
       "      <th>lumieresurgaia.com</th>\n",
       "      <td>4.0</td>\n",
       "      <td>0.0</td>\n",
       "    </tr>\n",
       "    <tr>\n",
       "      <th>fr.novopress.info</th>\n",
       "      <td>7.0</td>\n",
       "      <td>0.0</td>\n",
       "    </tr>\n",
       "    <tr>\n",
       "      <th>www.alnas.fr</th>\n",
       "      <td>7.0</td>\n",
       "      <td>0.0</td>\n",
       "    </tr>\n",
       "    <tr>\n",
       "      <th>www.cnews.fr</th>\n",
       "      <td>9.0</td>\n",
       "      <td>0.0</td>\n",
       "    </tr>\n",
       "    <tr>\n",
       "      <th>actu.fr</th>\n",
       "      <td>17.0</td>\n",
       "      <td>0.0</td>\n",
       "    </tr>\n",
       "    <tr>\n",
       "      <th>planetes360.fr</th>\n",
       "      <td>0.0</td>\n",
       "      <td>1.0</td>\n",
       "    </tr>\n",
       "    <tr>\n",
       "      <th>elucid.media</th>\n",
       "      <td>1.0</td>\n",
       "      <td>1.0</td>\n",
       "    </tr>\n",
       "    <tr>\n",
       "      <th>lecourrierdesstrateges.fr</th>\n",
       "      <td>1.0</td>\n",
       "      <td>1.0</td>\n",
       "    </tr>\n",
       "    <tr>\n",
       "      <th>qactus.fr</th>\n",
       "      <td>1.0</td>\n",
       "      <td>1.0</td>\n",
       "    </tr>\n",
       "    <tr>\n",
       "      <th>ripostelaique.com</th>\n",
       "      <td>4.0</td>\n",
       "      <td>1.0</td>\n",
       "    </tr>\n",
       "    <tr>\n",
       "      <th>www.bvoltaire.fr</th>\n",
       "      <td>5.0</td>\n",
       "      <td>1.0</td>\n",
       "    </tr>\n",
       "    <tr>\n",
       "      <th>www.les-crises.fr</th>\n",
       "      <td>7.0</td>\n",
       "      <td>1.0</td>\n",
       "    </tr>\n",
       "    <tr>\n",
       "      <th>www.francetvinfo.fr</th>\n",
       "      <td>90.0</td>\n",
       "      <td>1.0</td>\n",
       "    </tr>\n",
       "    <tr>\n",
       "      <th>bonsens.info</th>\n",
       "      <td>0.0</td>\n",
       "      <td>2.0</td>\n",
       "    </tr>\n",
       "    <tr>\n",
       "      <th>www.epochtimes.fr</th>\n",
       "      <td>0.0</td>\n",
       "      <td>2.0</td>\n",
       "    </tr>\n",
       "    <tr>\n",
       "      <th>www.la-petite-souris-normande.com</th>\n",
       "      <td>1.0</td>\n",
       "      <td>2.0</td>\n",
       "    </tr>\n",
       "    <tr>\n",
       "      <th>www.revue-elements.com</th>\n",
       "      <td>1.0</td>\n",
       "      <td>2.0</td>\n",
       "    </tr>\n",
       "    <tr>\n",
       "      <th>www.medias-presse.info</th>\n",
       "      <td>5.0</td>\n",
       "      <td>2.0</td>\n",
       "    </tr>\n",
       "    <tr>\n",
       "      <th>infodujour.fr</th>\n",
       "      <td>6.0</td>\n",
       "      <td>2.0</td>\n",
       "    </tr>\n",
       "    <tr>\n",
       "      <th>lalettrepatriote.com</th>\n",
       "      <td>1.0</td>\n",
       "      <td>3.0</td>\n",
       "    </tr>\n",
       "    <tr>\n",
       "      <th>lesobservateurs.ch</th>\n",
       "      <td>5.0</td>\n",
       "      <td>4.0</td>\n",
       "    </tr>\n",
       "    <tr>\n",
       "      <th>www.anguillesousroche.com</th>\n",
       "      <td>5.0</td>\n",
       "      <td>4.0</td>\n",
       "    </tr>\n",
       "    <tr>\n",
       "      <th>www.lesalonbeige.fr</th>\n",
       "      <td>9.0</td>\n",
       "      <td>4.0</td>\n",
       "    </tr>\n",
       "    <tr>\n",
       "      <th>reseauinternational.net</th>\n",
       "      <td>13.0</td>\n",
       "      <td>4.0</td>\n",
       "    </tr>\n",
       "    <tr>\n",
       "      <th>www.dreuz.info</th>\n",
       "      <td>20.0</td>\n",
       "      <td>5.0</td>\n",
       "    </tr>\n",
       "    <tr>\n",
       "      <th>www.preuvesduparanormal.fr</th>\n",
       "      <td>2.0</td>\n",
       "      <td>6.0</td>\n",
       "    </tr>\n",
       "    <tr>\n",
       "      <th>lecourrier-du-soir.com</th>\n",
       "      <td>3.0</td>\n",
       "      <td>6.0</td>\n",
       "    </tr>\n",
       "    <tr>\n",
       "      <th>www.nouvelordremondial.cc</th>\n",
       "      <td>6.0</td>\n",
       "      <td>8.0</td>\n",
       "    </tr>\n",
       "    <tr>\n",
       "      <th>www.voltairenet.org</th>\n",
       "      <td>3.0</td>\n",
       "      <td>9.0</td>\n",
       "    </tr>\n",
       "    <tr>\n",
       "      <th>lesakerfrancophone.fr</th>\n",
       "      <td>4.0</td>\n",
       "      <td>9.0</td>\n",
       "    </tr>\n",
       "    <tr>\n",
       "      <th>www.breizh-info.com</th>\n",
       "      <td>55.0</td>\n",
       "      <td>11.0</td>\n",
       "    </tr>\n",
       "    <tr>\n",
       "      <th>www.mondialisation.ca</th>\n",
       "      <td>4.0</td>\n",
       "      <td>12.0</td>\n",
       "    </tr>\n",
       "    <tr>\n",
       "      <th>www.polemia.com</th>\n",
       "      <td>7.0</td>\n",
       "      <td>12.0</td>\n",
       "    </tr>\n",
       "    <tr>\n",
       "      <th>www.lelibrepenseur.org</th>\n",
       "      <td>8.0</td>\n",
       "      <td>15.0</td>\n",
       "    </tr>\n",
       "    <tr>\n",
       "      <th>lemediaen442.fr</th>\n",
       "      <td>15.0</td>\n",
       "      <td>17.0</td>\n",
       "    </tr>\n",
       "    <tr>\n",
       "      <th>fr.sott.net</th>\n",
       "      <td>5.0</td>\n",
       "      <td>21.0</td>\n",
       "    </tr>\n",
       "    <tr>\n",
       "      <th>www.profession-gendarme.com</th>\n",
       "      <td>7.0</td>\n",
       "      <td>21.0</td>\n",
       "    </tr>\n",
       "    <tr>\n",
       "      <th>lesdeqodeurs.fr</th>\n",
       "      <td>4.0</td>\n",
       "      <td>24.0</td>\n",
       "    </tr>\n",
       "    <tr>\n",
       "      <th>lesmoutonsrebelles.com</th>\n",
       "      <td>19.0</td>\n",
       "      <td>28.0</td>\n",
       "    </tr>\n",
       "    <tr>\n",
       "      <th>www.wikistrike.com</th>\n",
       "      <td>28.0</td>\n",
       "      <td>34.0</td>\n",
       "    </tr>\n",
       "    <tr>\n",
       "      <th>www.francesoir.fr</th>\n",
       "      <td>123.0</td>\n",
       "      <td>46.0</td>\n",
       "    </tr>\n",
       "    <tr>\n",
       "      <th>lezarceleurs.blogspot.com</th>\n",
       "      <td>7.0</td>\n",
       "      <td>50.0</td>\n",
       "    </tr>\n",
       "  </tbody>\n",
       "</table>\n",
       "</div>"
      ],
      "text/plain": [
       "infox                                0.0   1.0\n",
       "site                                          \n",
       "theconversation.com                  1.0   0.0\n",
       "extime.fr                            2.0   0.0\n",
       "www.fdesouche.com                    2.0   0.0\n",
       "francais.rt.com                      3.0   0.0\n",
       "lumieresurgaia.com                   4.0   0.0\n",
       "fr.novopress.info                    7.0   0.0\n",
       "www.alnas.fr                         7.0   0.0\n",
       "www.cnews.fr                         9.0   0.0\n",
       "actu.fr                             17.0   0.0\n",
       "planetes360.fr                       0.0   1.0\n",
       "elucid.media                         1.0   1.0\n",
       "lecourrierdesstrateges.fr            1.0   1.0\n",
       "qactus.fr                            1.0   1.0\n",
       "ripostelaique.com                    4.0   1.0\n",
       "www.bvoltaire.fr                     5.0   1.0\n",
       "www.les-crises.fr                    7.0   1.0\n",
       "www.francetvinfo.fr                 90.0   1.0\n",
       "bonsens.info                         0.0   2.0\n",
       "www.epochtimes.fr                    0.0   2.0\n",
       "www.la-petite-souris-normande.com    1.0   2.0\n",
       "www.revue-elements.com               1.0   2.0\n",
       "www.medias-presse.info               5.0   2.0\n",
       "infodujour.fr                        6.0   2.0\n",
       "lalettrepatriote.com                 1.0   3.0\n",
       "lesobservateurs.ch                   5.0   4.0\n",
       "www.anguillesousroche.com            5.0   4.0\n",
       "www.lesalonbeige.fr                  9.0   4.0\n",
       "reseauinternational.net             13.0   4.0\n",
       "www.dreuz.info                      20.0   5.0\n",
       "www.preuvesduparanormal.fr           2.0   6.0\n",
       "lecourrier-du-soir.com               3.0   6.0\n",
       "www.nouvelordremondial.cc            6.0   8.0\n",
       "www.voltairenet.org                  3.0   9.0\n",
       "lesakerfrancophone.fr                4.0   9.0\n",
       "www.breizh-info.com                 55.0  11.0\n",
       "www.mondialisation.ca                4.0  12.0\n",
       "www.polemia.com                      7.0  12.0\n",
       "www.lelibrepenseur.org               8.0  15.0\n",
       "lemediaen442.fr                     15.0  17.0\n",
       "fr.sott.net                          5.0  21.0\n",
       "www.profession-gendarme.com          7.0  21.0\n",
       "lesdeqodeurs.fr                      4.0  24.0\n",
       "lesmoutonsrebelles.com              19.0  28.0\n",
       "www.wikistrike.com                  28.0  34.0\n",
       "www.francesoir.fr                  123.0  46.0\n",
       "lezarceleurs.blogspot.com            7.0  50.0"
      ]
     },
     "execution_count": 12,
     "metadata": {},
     "output_type": "execute_result"
    }
   ],
   "source": [
    "pd.pivot_table(df_label,columns=['infox'],index='site',values='url',aggfunc='count').fillna(0).sort_values([1.0,0.0])"
   ]
  },
  {
   "cell_type": "markdown",
   "id": "6b548bc6",
   "metadata": {},
   "source": [
    "# Experience\n",
    "---"
   ]
  },
  {
   "cell_type": "markdown",
   "id": "a306ba37",
   "metadata": {},
   "source": [
    "## Crawling Site"
   ]
  },
  {
   "cell_type": "code",
   "execution_count": 9,
   "id": "99a0d671",
   "metadata": {},
   "outputs": [],
   "source": [
    "site = 'lesalonbeige.fr'\n",
    "homepage = 'https://'+site+'/'"
   ]
  },
  {
   "cell_type": "code",
   "execution_count": 10,
   "id": "c808f1a5",
   "metadata": {},
   "outputs": [],
   "source": [
    "import patat.imp.importer\n",
    "import patat.imp.parser\n",
    "import patat.imp.crawler\n"
   ]
  },
  {
   "cell_type": "code",
   "execution_count": 11,
   "id": "c5d59440",
   "metadata": {},
   "outputs": [],
   "source": [
    "imp = patat.imp.importer.Importer()\n",
    "parser = patat.imp.parser.Parser()\n",
    "crawler = patat.imp.crawler.Crawler()"
   ]
  },
  {
   "cell_type": "code",
   "execution_count": 12,
   "id": "02b52494",
   "metadata": {},
   "outputs": [
    {
     "name": "stdout",
     "output_type": "stream",
     "text": [
      "Crawling : https://lesalonbeige.fr/page/1/\n",
      "Crawling : https://lesalonbeige.fr/page/2/\n",
      "Crawling : https://lesalonbeige.fr/page/3/\n",
      "Crawling : https://lesalonbeige.fr/page/4/\n",
      "Crawling : https://lesalonbeige.fr/page/5/\n",
      "Crawling : https://lesalonbeige.fr/page/6/\n",
      "Crawling : https://lesalonbeige.fr/page/7/\n",
      "Crawling : https://lesalonbeige.fr/page/8/\n",
      "Crawling : https://lesalonbeige.fr/page/9/\n",
      "Crawling : https://lesalonbeige.fr/page/10/\n"
     ]
    }
   ],
   "source": [
    "crawler.crawl_paged_lists(site,nb_pages=10)"
   ]
  },
  {
   "cell_type": "code",
   "execution_count": 13,
   "id": "e1817ab6",
   "metadata": {},
   "outputs": [
    {
     "data": {
      "text/plain": [
       "set()"
      ]
     },
     "execution_count": 13,
     "metadata": {},
     "output_type": "execute_result"
    }
   ],
   "source": [
    "crawler._crawl_map['article_links']"
   ]
  },
  {
   "cell_type": "code",
   "execution_count": null,
   "id": "5212c185",
   "metadata": {},
   "outputs": [],
   "source": [
    "for link in crawler._crawl_map['list_links']:\n",
    "    crawler.crawl_page(link,use_cache=False)"
   ]
  },
  {
   "cell_type": "code",
   "execution_count": null,
   "id": "2f78f018",
   "metadata": {},
   "outputs": [],
   "source": []
  },
  {
   "cell_type": "markdown",
   "id": "76996d3a",
   "metadata": {},
   "source": [
    "# Sauvegarde des résultats\n",
    "---"
   ]
  },
  {
   "cell_type": "code",
   "execution_count": null,
   "id": "f39f8729",
   "metadata": {},
   "outputs": [],
   "source": []
  },
  {
   "cell_type": "markdown",
   "id": "fb7949bc",
   "metadata": {},
   "source": [
    "# Conclusions\n",
    "---"
   ]
  },
  {
   "cell_type": "markdown",
   "id": "bd360655",
   "metadata": {},
   "source": [
    "# Bricolages\n",
    "---"
   ]
  },
  {
   "cell_type": "code",
   "execution_count": null,
   "id": "f9862890",
   "metadata": {},
   "outputs": [],
   "source": [
    "import requests"
   ]
  },
  {
   "cell_type": "code",
   "execution_count": null,
   "id": "69a4d6b5",
   "metadata": {},
   "outputs": [],
   "source": [
    "url = 'https://www.egaliteetreconciliation.fr/?page=ajax_suite_sommaire'"
   ]
  },
  {
   "cell_type": "code",
   "execution_count": null,
   "id": "76f9ed81",
   "metadata": {},
   "outputs": [],
   "source": [
    "payload = 'suitecol1=18&suitecol2=18&suitecol3=72&suite_debut=2'"
   ]
  },
  {
   "cell_type": "code",
   "execution_count": null,
   "id": "4f6c6f6a",
   "metadata": {},
   "outputs": [],
   "source": [
    "r = requests.post(url,data=payload)"
   ]
  },
  {
   "cell_type": "code",
   "execution_count": null,
   "id": "88e6ba9e",
   "metadata": {},
   "outputs": [],
   "source": [
    "r"
   ]
  },
  {
   "cell_type": "code",
   "execution_count": null,
   "id": "ed5655a9",
   "metadata": {},
   "outputs": [],
   "source": [
    "r.text"
   ]
  },
  {
   "cell_type": "code",
   "execution_count": null,
   "id": "30f76620",
   "metadata": {},
   "outputs": [],
   "source": [
    "from bs4"
   ]
  }
 ],
 "metadata": {
  "kernelspec": {
   "display_name": "Python 3 (ipykernel)",
   "language": "python",
   "name": "python3"
  },
  "language_info": {
   "codemirror_mode": {
    "name": "ipython",
    "version": 3
   },
   "file_extension": ".py",
   "mimetype": "text/x-python",
   "name": "python",
   "nbconvert_exporter": "python",
   "pygments_lexer": "ipython3",
   "version": "3.9.16"
  }
 },
 "nbformat": 4,
 "nbformat_minor": 5
}
