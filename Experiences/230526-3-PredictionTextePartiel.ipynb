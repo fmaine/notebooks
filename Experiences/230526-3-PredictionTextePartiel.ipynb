{
 "cells": [
  {
   "cell_type": "markdown",
   "id": "e3ec4689",
   "metadata": {},
   "source": [
    "# Plateforme Agnostique de Traitement et d'Analyse des Textes\n",
    "### Carnet d'expérimentation\n",
    "---\n",
    "\n",
    "## Sujet : Prediction texte partiel\n",
    "\n",
    "---"
   ]
  },
  {
   "cell_type": "markdown",
   "id": "2601e626",
   "metadata": {},
   "source": [
    "# Initialisations\n",
    "---"
   ]
  },
  {
   "cell_type": "code",
   "execution_count": 1,
   "id": "525fef74",
   "metadata": {},
   "outputs": [],
   "source": [
    "_rs = 42"
   ]
  },
  {
   "cell_type": "code",
   "execution_count": 2,
   "id": "5d0de4d7",
   "metadata": {},
   "outputs": [
    {
     "name": "stdout",
     "output_type": "stream",
     "text": [
      "/Volumes/Geek/Work/Patat\n"
     ]
    }
   ],
   "source": [
    "cd ../.."
   ]
  },
  {
   "cell_type": "code",
   "execution_count": 3,
   "id": "32256b0d",
   "metadata": {},
   "outputs": [],
   "source": [
    "import ast\n",
    "import importlib\n",
    "import pandas as pd\n",
    "import seaborn as sns\n",
    "from tqdm.notebook import tqdm\n",
    "tqdm.pandas()"
   ]
  },
  {
   "cell_type": "markdown",
   "id": "b9b13f54",
   "metadata": {},
   "source": [
    "# Préparation Données\n",
    "\n",
    "---"
   ]
  },
  {
   "cell_type": "markdown",
   "id": "18533365",
   "metadata": {},
   "source": [
    "## Chargement"
   ]
  },
  {
   "cell_type": "code",
   "execution_count": 4,
   "id": "b435d360",
   "metadata": {},
   "outputs": [],
   "source": [
    "filename = 'data/demo/230526-df_ml.pickle'\n",
    "df_ml = pd.read_pickle(filename)"
   ]
  },
  {
   "cell_type": "code",
   "execution_count": 5,
   "id": "547c62a0",
   "metadata": {},
   "outputs": [
    {
     "data": {
      "text/html": [
       "<div>\n",
       "<style scoped>\n",
       "    .dataframe tbody tr th:only-of-type {\n",
       "        vertical-align: middle;\n",
       "    }\n",
       "\n",
       "    .dataframe tbody tr th {\n",
       "        vertical-align: top;\n",
       "    }\n",
       "\n",
       "    .dataframe thead th {\n",
       "        text-align: right;\n",
       "    }\n",
       "</style>\n",
       "<table border=\"1\" class=\"dataframe\">\n",
       "  <thead>\n",
       "    <tr style=\"text-align: right;\">\n",
       "      <th></th>\n",
       "      <th>index</th>\n",
       "      <th>url</th>\n",
       "      <th>site</th>\n",
       "      <th>title</th>\n",
       "      <th>article</th>\n",
       "      <th>tags</th>\n",
       "      <th>paragraphs</th>\n",
       "      <th>date_iso</th>\n",
       "      <th>abstract</th>\n",
       "      <th>Auteur</th>\n",
       "      <th>...</th>\n",
       "      <th>inversion_preuve</th>\n",
       "      <th>denigrement</th>\n",
       "      <th>degre_infox</th>\n",
       "      <th>observateur</th>\n",
       "      <th>source</th>\n",
       "      <th>p_count</th>\n",
       "      <th>text</th>\n",
       "      <th>c_count</th>\n",
       "      <th>p_size</th>\n",
       "      <th>url_h</th>\n",
       "    </tr>\n",
       "  </thead>\n",
       "  <tbody>\n",
       "    <tr>\n",
       "      <th>609</th>\n",
       "      <td>610</td>\n",
       "      <td>https://www.francesoir.fr/politique-france/gue...</td>\n",
       "      <td>www.francesoir.fr</td>\n",
       "      <td>Guerre en Ukraine: Emmanuel Macron prévient le...</td>\n",
       "      <td>À l’occasion de la cérémonie pour le 78e anniv...</td>\n",
       "      <td>[Accueil, Politique]</td>\n",
       "      <td>[À l’occasion de la cérémonie pour le 78e anni...</td>\n",
       "      <td>2022-08-20T00:00:00</td>\n",
       "      <td></td>\n",
       "      <td></td>\n",
       "      <td>...</td>\n",
       "      <td>0.0</td>\n",
       "      <td>0.0</td>\n",
       "      <td></td>\n",
       "      <td>CN</td>\n",
       "      <td>Recueil</td>\n",
       "      <td>11</td>\n",
       "      <td>Guerre en Ukraine: Emmanuel Macron prévient le...</td>\n",
       "      <td>2629</td>\n",
       "      <td>239.000000</td>\n",
       "      <td>857bfacdd98e36dda26f1f92cf40c992904d6386</td>\n",
       "    </tr>\n",
       "    <tr>\n",
       "      <th>705</th>\n",
       "      <td>708</td>\n",
       "      <td>https://www.profession-gendarme.com/la-vaccina...</td>\n",
       "      <td>www.profession-gendarme.com</td>\n",
       "      <td>La vaccination Covid : un marquage de « type b...</td>\n",
       "      <td>De: Dr R Date: 16 avril 2022 à 08:17:22 ﻿bonjo...</td>\n",
       "      <td>[Actualités, Tribune]</td>\n",
       "      <td>[De: Dr R Date: 16 avril 2022 à 08:17:22 ﻿bonj...</td>\n",
       "      <td></td>\n",
       "      <td></td>\n",
       "      <td>NaN</td>\n",
       "      <td>...</td>\n",
       "      <td>NaN</td>\n",
       "      <td>NaN</td>\n",
       "      <td>NaN</td>\n",
       "      <td>NaN</td>\n",
       "      <td>Test1</td>\n",
       "      <td>17</td>\n",
       "      <td>La vaccination Covid : un marquage de « type b...</td>\n",
       "      <td>6252</td>\n",
       "      <td>367.764706</td>\n",
       "      <td>166d32300f4d7766a82fe39a1185f35bc347c05f</td>\n",
       "    </tr>\n",
       "    <tr>\n",
       "      <th>26</th>\n",
       "      <td>26</td>\n",
       "      <td>https://www.mondialisation.ca/colonialisme-ene...</td>\n",
       "      <td>www.mondialisation.ca</td>\n",
       "      <td>Colonialisme énergétique</td>\n",
       "      <td>Visite d’État du président de la République it...</td>\n",
       "      <td>[Moyen-Orient et Afrique du Nord, Guerre USA O...</td>\n",
       "      <td>[Visite d’État du président de la République i...</td>\n",
       "      <td>2022-07-09T00:00:00</td>\n",
       "      <td></td>\n",
       "      <td>Pangea Grandangolo</td>\n",
       "      <td>...</td>\n",
       "      <td>0.0</td>\n",
       "      <td>NaN</td>\n",
       "      <td></td>\n",
       "      <td>GP</td>\n",
       "      <td>Recueil</td>\n",
       "      <td>8</td>\n",
       "      <td>Colonialisme énergétique\\nVisite d’État du pré...</td>\n",
       "      <td>2794</td>\n",
       "      <td>349.250000</td>\n",
       "      <td>2a39a60fd5e2c6df0f6ec8ce9fedc2ee2eb4ab4d</td>\n",
       "    </tr>\n",
       "    <tr>\n",
       "      <th>565</th>\n",
       "      <td>566</td>\n",
       "      <td>https://www.francesoir.fr/opinions-editos/de-l...</td>\n",
       "      <td>www.francesoir.fr</td>\n",
       "      <td>De l’importance d’une Assemblée vraiment natio...</td>\n",
       "      <td>Depuis hier soir, ne serions-nous pas en train...</td>\n",
       "      <td>[Accueil, Opinions]</td>\n",
       "      <td>[Depuis hier soir, ne serions-nous pas en trai...</td>\n",
       "      <td>2022-06-20T19:46:00</td>\n",
       "      <td></td>\n",
       "      <td>Xavier Azalbert</td>\n",
       "      <td>...</td>\n",
       "      <td>0.0</td>\n",
       "      <td>NaN</td>\n",
       "      <td></td>\n",
       "      <td>GP</td>\n",
       "      <td>Recueil</td>\n",
       "      <td>16</td>\n",
       "      <td>De l’importance d’une Assemblée vraiment natio...</td>\n",
       "      <td>4582</td>\n",
       "      <td>286.375000</td>\n",
       "      <td>93b25370fea82c7039f7e2b00c0bd73151101af3</td>\n",
       "    </tr>\n",
       "    <tr>\n",
       "      <th>231</th>\n",
       "      <td>232</td>\n",
       "      <td>https://www.polemia.com/quelle-politique-migra...</td>\n",
       "      <td>www.polemia.com</td>\n",
       "      <td>Quelle politique migratoire pour la France ? –...</td>\n",
       "      <td>Par André-Victor Robert, haut fonctionnaire ♦ ...</td>\n",
       "      <td>[Accueil, Géopolitique, Afrique, analyse, Andr...</td>\n",
       "      <td>[Facebook, Twitter, LinkedIn, Print Friendly, ...</td>\n",
       "      <td></td>\n",
       "      <td>Par André-Victor Robert, haut fonctionnaire ♦ ...</td>\n",
       "      <td>André Victor Robert</td>\n",
       "      <td>...</td>\n",
       "      <td>0.0</td>\n",
       "      <td>0.0</td>\n",
       "      <td></td>\n",
       "      <td>FB</td>\n",
       "      <td>Recueil</td>\n",
       "      <td>31</td>\n",
       "      <td>Quelle politique migratoire pour la France ? –...</td>\n",
       "      <td>9123</td>\n",
       "      <td>294.290323</td>\n",
       "      <td>c12a81bb99810b5c13fba93abc5f9cea077a873d</td>\n",
       "    </tr>\n",
       "    <tr>\n",
       "      <th>...</th>\n",
       "      <td>...</td>\n",
       "      <td>...</td>\n",
       "      <td>...</td>\n",
       "      <td>...</td>\n",
       "      <td>...</td>\n",
       "      <td>...</td>\n",
       "      <td>...</td>\n",
       "      <td>...</td>\n",
       "      <td>...</td>\n",
       "      <td>...</td>\n",
       "      <td>...</td>\n",
       "      <td>...</td>\n",
       "      <td>...</td>\n",
       "      <td>...</td>\n",
       "      <td>...</td>\n",
       "      <td>...</td>\n",
       "      <td>...</td>\n",
       "      <td>...</td>\n",
       "      <td>...</td>\n",
       "      <td>...</td>\n",
       "      <td>...</td>\n",
       "    </tr>\n",
       "    <tr>\n",
       "      <th>112</th>\n",
       "      <td>112</td>\n",
       "      <td>https://lesdeqodeurs.fr/des-scientifiques-de-h...</td>\n",
       "      <td>lesdeqodeurs.fr</td>\n",
       "      <td>Des scientifiques de Harvard et de Johns Hopki...</td>\n",
       "      <td>Article original datant du 31/08/22 par SSRNCO...</td>\n",
       "      <td>[ARNm, COVID, effets secondaires, étude, Harva...</td>\n",
       "      <td>[Les étudiants des universités nord-américaine...</td>\n",
       "      <td>2022-09-23T00:00:00</td>\n",
       "      <td></td>\n",
       "      <td></td>\n",
       "      <td>...</td>\n",
       "      <td>0.0</td>\n",
       "      <td>0.0</td>\n",
       "      <td>1</td>\n",
       "      <td>FB</td>\n",
       "      <td>Recueil</td>\n",
       "      <td>5</td>\n",
       "      <td>Des scientifiques de Harvard et de Johns Hopki...</td>\n",
       "      <td>1803</td>\n",
       "      <td>360.600000</td>\n",
       "      <td>1f56ed5fa54de7c492154ac8ee0d8d10724f1aa4</td>\n",
       "    </tr>\n",
       "    <tr>\n",
       "      <th>157</th>\n",
       "      <td>158</td>\n",
       "      <td>https://www.voltairenet.org/article217546.html</td>\n",
       "      <td>www.voltairenet.org</td>\n",
       "      <td>L’armée russe achète des exemplaires d’armemen...</td>\n",
       "      <td>L’achat de deux canons automoteurs CAESAR fran...</td>\n",
       "      <td>[]</td>\n",
       "      <td>[L’achat de deux canons automoteurs CAESAR fra...</td>\n",
       "      <td>1900-01-01T00:00:00</td>\n",
       "      <td></td>\n",
       "      <td></td>\n",
       "      <td>...</td>\n",
       "      <td>1.0</td>\n",
       "      <td>NaN</td>\n",
       "      <td>1</td>\n",
       "      <td>FB</td>\n",
       "      <td>Recueil</td>\n",
       "      <td>3</td>\n",
       "      <td>L’armée russe achète des exemplaires d’armemen...</td>\n",
       "      <td>718</td>\n",
       "      <td>239.333333</td>\n",
       "      <td>b3153ba0ad9e32c02a8d49c99a6748e0764b20b5</td>\n",
       "    </tr>\n",
       "    <tr>\n",
       "      <th>522</th>\n",
       "      <td>523</td>\n",
       "      <td>https://lemediaen442.fr/onu-le-premier-ministr...</td>\n",
       "      <td>lemediaen442.fr</td>\n",
       "      <td>ONU – Le Premier ministre de Nouvelle-Zélande ...</td>\n",
       "      <td>L’argument principal de la ministre est que le...</td>\n",
       "      <td>[Politique, Vidéos, censure, jacinda ardern, ONU]</td>\n",
       "      <td>[L’argument principal de la ministre est que l...</td>\n",
       "      <td>2022-09-29T09:56:31+02:00</td>\n",
       "      <td>Le terrible discours de Jacinda Ardern, Premie...</td>\n",
       "      <td></td>\n",
       "      <td>...</td>\n",
       "      <td>0.0</td>\n",
       "      <td>0.0</td>\n",
       "      <td>1</td>\n",
       "      <td>FB</td>\n",
       "      <td>Recueil</td>\n",
       "      <td>7</td>\n",
       "      <td>ONU – Le Premier ministre de Nouvelle-Zélande ...</td>\n",
       "      <td>2420</td>\n",
       "      <td>345.714286</td>\n",
       "      <td>3d47a59ef99274fd9ee96c209cc2ab41d6e1f6bb</td>\n",
       "    </tr>\n",
       "    <tr>\n",
       "      <th>847</th>\n",
       "      <td>853</td>\n",
       "      <td>https://fr.sott.net/article/36258-Pandemie-ou-...</td>\n",
       "      <td>fr.sott.net</td>\n",
       "      <td>Pandémie ou le retour du grand Pan</td>\n",
       "      <td>Au cours des deux dernières décennies, les pub...</td>\n",
       "      <td>[La Science de l'Esprit]</td>\n",
       "      <td>[Au cours des deux dernières décennies, les pu...</td>\n",
       "      <td></td>\n",
       "      <td></td>\n",
       "      <td>NaN</td>\n",
       "      <td>...</td>\n",
       "      <td>NaN</td>\n",
       "      <td>NaN</td>\n",
       "      <td>NaN</td>\n",
       "      <td>NaN</td>\n",
       "      <td>Verif</td>\n",
       "      <td>59</td>\n",
       "      <td>Pandémie ou le retour du grand Pan\\nAu cours d...</td>\n",
       "      <td>19227</td>\n",
       "      <td>325.881356</td>\n",
       "      <td>fd203102bf61c0cfc0387c3db38685556dc9aa0e</td>\n",
       "    </tr>\n",
       "    <tr>\n",
       "      <th>151</th>\n",
       "      <td>152</td>\n",
       "      <td>https://lesdeqodeurs.fr/le-president-trump-dec...</td>\n",
       "      <td>lesdeqodeurs.fr</td>\n",
       "      <td>Le président Trump dénonce la corruption de la...</td>\n",
       "      <td>Article original datant du 28/04/22Donald Trum...</td>\n",
       "      <td>[2016, 2020, Barack Obama, CNN, Donald Trump, ...</td>\n",
       "      <td>[Article original datant du 28/04/22, Le prési...</td>\n",
       "      <td>2022-05-01T00:00:00</td>\n",
       "      <td></td>\n",
       "      <td></td>\n",
       "      <td>...</td>\n",
       "      <td>1.0</td>\n",
       "      <td>NaN</td>\n",
       "      <td>1</td>\n",
       "      <td>FB</td>\n",
       "      <td>Recueil</td>\n",
       "      <td>15</td>\n",
       "      <td>Le président Trump dénonce la corruption de la...</td>\n",
       "      <td>4512</td>\n",
       "      <td>300.800000</td>\n",
       "      <td>a118d6a98c00f504fad2544531bd63b2267f1244</td>\n",
       "    </tr>\n",
       "  </tbody>\n",
       "</table>\n",
       "<p>746 rows × 45 columns</p>\n",
       "</div>"
      ],
      "text/plain": [
       "     index                                                url   \n",
       "609    610  https://www.francesoir.fr/politique-france/gue...  \\\n",
       "705    708  https://www.profession-gendarme.com/la-vaccina...   \n",
       "26      26  https://www.mondialisation.ca/colonialisme-ene...   \n",
       "565    566  https://www.francesoir.fr/opinions-editos/de-l...   \n",
       "231    232  https://www.polemia.com/quelle-politique-migra...   \n",
       "..     ...                                                ...   \n",
       "112    112  https://lesdeqodeurs.fr/des-scientifiques-de-h...   \n",
       "157    158     https://www.voltairenet.org/article217546.html   \n",
       "522    523  https://lemediaen442.fr/onu-le-premier-ministr...   \n",
       "847    853  https://fr.sott.net/article/36258-Pandemie-ou-...   \n",
       "151    152  https://lesdeqodeurs.fr/le-president-trump-dec...   \n",
       "\n",
       "                            site   \n",
       "609            www.francesoir.fr  \\\n",
       "705  www.profession-gendarme.com   \n",
       "26         www.mondialisation.ca   \n",
       "565            www.francesoir.fr   \n",
       "231              www.polemia.com   \n",
       "..                           ...   \n",
       "112              lesdeqodeurs.fr   \n",
       "157          www.voltairenet.org   \n",
       "522              lemediaen442.fr   \n",
       "847                  fr.sott.net   \n",
       "151              lesdeqodeurs.fr   \n",
       "\n",
       "                                                 title   \n",
       "609  Guerre en Ukraine: Emmanuel Macron prévient le...  \\\n",
       "705  La vaccination Covid : un marquage de « type b...   \n",
       "26                            Colonialisme énergétique   \n",
       "565  De l’importance d’une Assemblée vraiment natio...   \n",
       "231  Quelle politique migratoire pour la France ? –...   \n",
       "..                                                 ...   \n",
       "112  Des scientifiques de Harvard et de Johns Hopki...   \n",
       "157  L’armée russe achète des exemplaires d’armemen...   \n",
       "522  ONU – Le Premier ministre de Nouvelle-Zélande ...   \n",
       "847                 Pandémie ou le retour du grand Pan   \n",
       "151  Le président Trump dénonce la corruption de la...   \n",
       "\n",
       "                                               article   \n",
       "609  À l’occasion de la cérémonie pour le 78e anniv...  \\\n",
       "705  De: Dr R Date: 16 avril 2022 à 08:17:22 ﻿bonjo...   \n",
       "26   Visite d’État du président de la République it...   \n",
       "565  Depuis hier soir, ne serions-nous pas en train...   \n",
       "231  Par André-Victor Robert, haut fonctionnaire ♦ ...   \n",
       "..                                                 ...   \n",
       "112  Article original datant du 31/08/22 par SSRNCO...   \n",
       "157  L’achat de deux canons automoteurs CAESAR fran...   \n",
       "522  L’argument principal de la ministre est que le...   \n",
       "847  Au cours des deux dernières décennies, les pub...   \n",
       "151  Article original datant du 28/04/22Donald Trum...   \n",
       "\n",
       "                                                  tags   \n",
       "609                               [Accueil, Politique]  \\\n",
       "705                              [Actualités, Tribune]   \n",
       "26   [Moyen-Orient et Afrique du Nord, Guerre USA O...   \n",
       "565                                [Accueil, Opinions]   \n",
       "231  [Accueil, Géopolitique, Afrique, analyse, Andr...   \n",
       "..                                                 ...   \n",
       "112  [ARNm, COVID, effets secondaires, étude, Harva...   \n",
       "157                                                 []   \n",
       "522  [Politique, Vidéos, censure, jacinda ardern, ONU]   \n",
       "847                           [La Science de l'Esprit]   \n",
       "151  [2016, 2020, Barack Obama, CNN, Donald Trump, ...   \n",
       "\n",
       "                                            paragraphs   \n",
       "609  [À l’occasion de la cérémonie pour le 78e anni...  \\\n",
       "705  [De: Dr R Date: 16 avril 2022 à 08:17:22 ﻿bonj...   \n",
       "26   [Visite d’État du président de la République i...   \n",
       "565  [Depuis hier soir, ne serions-nous pas en trai...   \n",
       "231  [Facebook, Twitter, LinkedIn, Print Friendly, ...   \n",
       "..                                                 ...   \n",
       "112  [Les étudiants des universités nord-américaine...   \n",
       "157  [L’achat de deux canons automoteurs CAESAR fra...   \n",
       "522  [L’argument principal de la ministre est que l...   \n",
       "847  [Au cours des deux dernières décennies, les pu...   \n",
       "151  [Article original datant du 28/04/22, Le prési...   \n",
       "\n",
       "                      date_iso   \n",
       "609        2022-08-20T00:00:00  \\\n",
       "705                              \n",
       "26         2022-07-09T00:00:00   \n",
       "565        2022-06-20T19:46:00   \n",
       "231                              \n",
       "..                         ...   \n",
       "112        2022-09-23T00:00:00   \n",
       "157        1900-01-01T00:00:00   \n",
       "522  2022-09-29T09:56:31+02:00   \n",
       "847                              \n",
       "151        2022-05-01T00:00:00   \n",
       "\n",
       "                                              abstract               Auteur   \n",
       "609                                                                          \\\n",
       "705                                                                     NaN   \n",
       "26                                                       Pangea Grandangolo   \n",
       "565                                                         Xavier Azalbert   \n",
       "231  Par André-Victor Robert, haut fonctionnaire ♦ ...  André Victor Robert   \n",
       "..                                                 ...                  ...   \n",
       "112                                                                           \n",
       "157                                                                           \n",
       "522  Le terrible discours de Jacinda Ardern, Premie...                        \n",
       "847                                                                     NaN   \n",
       "151                                                                           \n",
       "\n",
       "     ... inversion_preuve denigrement  degre_infox observateur   source   \n",
       "609  ...              0.0         0.0                       CN  Recueil  \\\n",
       "705  ...              NaN         NaN          NaN         NaN    Test1   \n",
       "26   ...              0.0         NaN                       GP  Recueil   \n",
       "565  ...              0.0         NaN                       GP  Recueil   \n",
       "231  ...              0.0         0.0                       FB  Recueil   \n",
       "..   ...              ...         ...          ...         ...      ...   \n",
       "112  ...              0.0         0.0            1          FB  Recueil   \n",
       "157  ...              1.0         NaN            1          FB  Recueil   \n",
       "522  ...              0.0         0.0            1          FB  Recueil   \n",
       "847  ...              NaN         NaN          NaN         NaN    Verif   \n",
       "151  ...              1.0         NaN            1          FB  Recueil   \n",
       "\n",
       "     p_count                                               text  c_count   \n",
       "609       11  Guerre en Ukraine: Emmanuel Macron prévient le...     2629  \\\n",
       "705       17  La vaccination Covid : un marquage de « type b...     6252   \n",
       "26         8  Colonialisme énergétique\\nVisite d’État du pré...     2794   \n",
       "565       16  De l’importance d’une Assemblée vraiment natio...     4582   \n",
       "231       31  Quelle politique migratoire pour la France ? –...     9123   \n",
       "..       ...                                                ...      ...   \n",
       "112        5  Des scientifiques de Harvard et de Johns Hopki...     1803   \n",
       "157        3  L’armée russe achète des exemplaires d’armemen...      718   \n",
       "522        7  ONU – Le Premier ministre de Nouvelle-Zélande ...     2420   \n",
       "847       59  Pandémie ou le retour du grand Pan\\nAu cours d...    19227   \n",
       "151       15  Le président Trump dénonce la corruption de la...     4512   \n",
       "\n",
       "         p_size                                     url_h  \n",
       "609  239.000000  857bfacdd98e36dda26f1f92cf40c992904d6386  \n",
       "705  367.764706  166d32300f4d7766a82fe39a1185f35bc347c05f  \n",
       "26   349.250000  2a39a60fd5e2c6df0f6ec8ce9fedc2ee2eb4ab4d  \n",
       "565  286.375000  93b25370fea82c7039f7e2b00c0bd73151101af3  \n",
       "231  294.290323  c12a81bb99810b5c13fba93abc5f9cea077a873d  \n",
       "..          ...                                       ...  \n",
       "112  360.600000  1f56ed5fa54de7c492154ac8ee0d8d10724f1aa4  \n",
       "157  239.333333  b3153ba0ad9e32c02a8d49c99a6748e0764b20b5  \n",
       "522  345.714286  3d47a59ef99274fd9ee96c209cc2ab41d6e1f6bb  \n",
       "847  325.881356  fd203102bf61c0cfc0387c3db38685556dc9aa0e  \n",
       "151  300.800000  a118d6a98c00f504fad2544531bd63b2267f1244  \n",
       "\n",
       "[746 rows x 45 columns]"
      ]
     },
     "execution_count": 5,
     "metadata": {},
     "output_type": "execute_result"
    }
   ],
   "source": [
    "df_ml"
   ]
  },
  {
   "cell_type": "markdown",
   "id": "418e89ed",
   "metadata": {},
   "source": [
    "# Experience\n",
    "---"
   ]
  },
  {
   "cell_type": "markdown",
   "id": "2e07aeac",
   "metadata": {},
   "source": [
    "## Paragraphes"
   ]
  },
  {
   "cell_type": "code",
   "execution_count": 6,
   "id": "3266354d",
   "metadata": {
    "scrolled": true
   },
   "outputs": [
    {
     "data": {
      "text/plain": [
       "count    746.000000\n",
       "mean      22.741287\n",
       "std       30.890347\n",
       "min        1.000000\n",
       "25%        8.000000\n",
       "50%       14.000000\n",
       "75%       26.000000\n",
       "max      512.000000\n",
       "Name: p_count, dtype: float64"
      ]
     },
     "execution_count": 6,
     "metadata": {},
     "output_type": "execute_result"
    }
   ],
   "source": [
    "df_ml['p_count'].describe()"
   ]
  },
  {
   "cell_type": "code",
   "execution_count": 7,
   "id": "b6e16fd2",
   "metadata": {},
   "outputs": [
    {
     "data": {
      "text/plain": [
       "<seaborn.axisgrid.FacetGrid at 0x10779aa60>"
      ]
     },
     "execution_count": 7,
     "metadata": {},
     "output_type": "execute_result"
    },
    {
     "data": {
      "image/png": "[encoded data removed]",
      "text/plain": [
       "<Figure size 500x500 with 1 Axes>"
      ]
     },
     "metadata": {},
     "output_type": "display_data"
    }
   ],
   "source": [
    "sns.displot(df_ml,x='p_count')"
   ]
  },
  {
   "cell_type": "markdown",
   "id": "1ddb93da",
   "metadata": {},
   "source": [
    "## Textes partiels"
   ]
  },
  {
   "cell_type": "code",
   "execution_count": 8,
   "id": "7d9a39d3",
   "metadata": {},
   "outputs": [],
   "source": [
    "def partial_texts(text,p_count):\n",
    "    parags = text.split('\\n')\n",
    "    result='\\n'.join(parags[:p_count])\n",
    "    return result"
   ]
  },
  {
   "cell_type": "code",
   "execution_count": 9,
   "id": "a15f1542",
   "metadata": {},
   "outputs": [],
   "source": [
    "text = df_ml.sample(1).iloc[0]['text']"
   ]
  },
  {
   "cell_type": "code",
   "execution_count": 10,
   "id": "ea7c8d11",
   "metadata": {},
   "outputs": [
    {
     "name": "stdout",
     "output_type": "stream",
     "text": [
      "De l’importance d’une Assemblée vraiment nationale\n",
      "Depuis hier soir, ne serions-nous pas en train d’assister au grand retour du peuple à l’Assemblée nationale ? Avec le succès de la Nupes, la poussée historique du Rassemblement national et une majorité moins que relative pour Emmanuel Macron, le président réélu n’a pas donc pas réussi son pari le plus important : obtenir une majorité absolue de 289 sièges.\n",
      "Ainsi va la vie. Lors du deuxième tour de l'élection présidentielle, Emmanuel Macron a été récemment réélu avec 58,5% des suffrages, devant Marine Le Pen avec un score de 41,5%. Cette « victoire » est intervenue suite à un appel à un barrage républicain soutenu par un tapage médiatique incessant, opéré de concert par tous les médias mainstream. Quant à Jean-Luc Mélenchon, au premier tour, il avait raté de peu la seconde marche du podium.\n",
      "Les législatives de ce dimanche furent dès lors le troisième tour de l’élection présidentielle. Et leur résultat est une gifle cinglante pour la majorité présidentielle.\n",
      "Face à cette défaite cuisante, malgré le sourire de façade adopté hier soir sur les plateaux télés, la macronie tout entière doit être en train de se questionner. Pour un président qui durant la semaine a demandé aux Français de lui donner une majorité absolue, il y a de quoi être furax. Et pour cause ! Emmanuel Macron va donc devoir composer. Or, qu’y a-t-il de plus complexe pour un homme nouvellement réélu en quête d’une majorité absolue et de toute puissance, que de devoir composer ?\n",
      "Alors qu’elle contrôlait tout ou presque, la macronie n’obtient que 42% des sièges. Ceci montre que la démocratie, même si elle ne tient plus qu’à un fil, quelque part fonctionne encore. C’est donc le retour du peuple à l’Assemblée nationale. Un grand nombre de Français (une majorité ?) attendait probablement cela depuis 1992, année du traité de Maastricht.\n",
      "Pourtant, une autre question s’impose subitement.\n",
      "Et si, finalement, l'impossibilité d'avoir un gouvernement validé par l'Assemblée nationale, était la meilleure façon pour Emmanuel Macron d’obtenir les pleins pouvoirs ?\n",
      "L'article 16 de la Constitution le prévoit expressément :\n",
      "« Lorsque les institutions de la République, l'indépendance de la nation, l'intégrité de son territoire ou l'exécution de ses engagements internationaux sont menacées d'une manière grave et immédiate et que le fonctionnement régulier des pouvoirs publics constitutionnels est interrompu, le président de la République prend les mesures exigées par ces circonstances, après consultation officielle du Premier ministre, des présidents des assemblées ainsi que du Conseil constitutionnel ».\n",
      "Et comme de fait aucun gouvernement ne pourra diriger le pays faute d’une majorité absolue à l’Assemblée nationale, malheureusement, « le fonctionnement régulier des pouvoirs constitutionnels est interrompu ».\n",
      "Et il n’est pas impossible d’envisager une « menace grave et immédiate » dans un contexte d’état d’urgence sanitaire instauré depuis maintenant deux années sur fond d’instabilité géopolitique dans notre pays pourtant jadis reconnu pour sa tradition de puissance d’équilibre (soutien unilatéral et inconditionnel au camp ukrainien dans le conflit russo-ukrainien).\n",
      "En effet, seule une coalition formée par deux des trois grandes forces politiques de la nouvelle Assemblée pourrait porter un gouvernement. Cependant, il parait invraisemblable que la Nupes et le Rassemblement national ne forment une coalition. Par ailleurs, la Nupes et le RN ont tellement fustigé la macronie (et inversement), que ni l’un ni l’autre ne semble en mesure de former une coalition avec les députés macronistes. Du moins pas sans que les Français prennent pleinement conscience, que le jeu de rôle des partis politiques en place depuis 40 ans, en réalité, n’est qu’une intrigue, dont ils sont perpétuellement les acteurs plus ou moins consentants.\n",
      "Et s'il se trouve qu'en fait, cela procède d'une stratégie qui été minutieusement réfléchie, fomentée, préparée et mise en place, ça me fera mal au cœur de le dire, mais, le cas échéant, je devrai leur tirer mon chapeau.\n",
      "Comme le disait Machiavel : « Quand la fourberie est élevée au rang d'art, on ne peut être qu'admiratif ».\n",
      "Faites un don\n",
      "> Le manifeste\n",
      "Les «aimants» de l’information. De Théophraste Renaudot à Victor Hugo, en passant par Emile de Girardin et Pierre Lazareff, l’histoire de la presse française est jalonnée d’initiatives et de renoncements, de tâtonnements et de critiques, d’échecs et de grands succès. FranceSoir est un rendez-vous journalistique incontournable [...] Lire la suite\n",
      "\n"
     ]
    }
   ],
   "source": [
    "print(text)"
   ]
  },
  {
   "cell_type": "code",
   "execution_count": 12,
   "id": "e90f1270",
   "metadata": {},
   "outputs": [
    {
     "name": "stdout",
     "output_type": "stream",
     "text": [
      "De l’importance d’une Assemblée vraiment nationale\n",
      "Depuis hier soir, ne serions-nous pas en train d’assister au grand retour du peuple à l’Assemblée nationale ? Avec le succès de la Nupes, la poussée historique du Rassemblement national et une majorité moins que relative pour Emmanuel Macron, le président réélu n’a pas donc pas réussi son pari le plus important : obtenir une majorité absolue de 289 sièges.\n",
      "Ainsi va la vie. Lors du deuxième tour de l'élection présidentielle, Emmanuel Macron a été récemment réélu avec 58,5% des suffrages, devant Marine Le Pen avec un score de 41,5%. Cette « victoire » est intervenue suite à un appel à un barrage républicain soutenu par un tapage médiatique incessant, opéré de concert par tous les médias mainstream. Quant à Jean-Luc Mélenchon, au premier tour, il avait raté de peu la seconde marche du podium.\n"
     ]
    }
   ],
   "source": [
    "pt = partial_texts(text,3)\n",
    "print(pt)"
   ]
  },
  {
   "cell_type": "markdown",
   "id": "3298b2bd",
   "metadata": {},
   "source": [
    "## Tests Entrainement"
   ]
  },
  {
   "cell_type": "code",
   "execution_count": 13,
   "id": "53283aad",
   "metadata": {},
   "outputs": [],
   "source": [
    "df_ml=df_ml.sample(frac=1,random_state=_rs)"
   ]
  },
  {
   "cell_type": "code",
   "execution_count": 14,
   "id": "63f0bbd4",
   "metadata": {},
   "outputs": [],
   "source": [
    "from sklearn.feature_extraction.text import CountVectorizer, TfidfVectorizer\n",
    "from sklearn.model_selection import cross_validate, train_test_split\n",
    "from sklearn.linear_model import LogisticRegression\n",
    "from sklearn.neural_network import MLPClassifier\n",
    "from sklearn.pipeline import Pipeline"
   ]
  },
  {
   "cell_type": "code",
   "execution_count": 15,
   "id": "9a43bbd4",
   "metadata": {},
   "outputs": [],
   "source": [
    "logreg = LogisticRegression(C=150, random_state=_rs, solver='lbfgs', multi_class='ovr', max_iter=1000)\n",
    "neuralnet = MLPClassifier(alpha=1, max_iter=1000, hidden_layer_sizes=(8,8), random_state=_rs)"
   ]
  },
  {
   "cell_type": "code",
   "execution_count": 16,
   "id": "d6ac45f9",
   "metadata": {},
   "outputs": [],
   "source": [
    "iw=None\n",
    "pipelineLR = Pipeline(steps = [\n",
    "    ('vectorizer',TfidfVectorizer(preprocessor=None, tokenizer=None, stop_words=iw)), \n",
    "    ('classifier',logreg)\n",
    "                  ])"
   ]
  },
  {
   "cell_type": "code",
   "execution_count": 17,
   "id": "902290cf",
   "metadata": {},
   "outputs": [],
   "source": [
    "def cut_text(text):\n",
    "    return partial_texts(text,nb_parags)"
   ]
  },
  {
   "cell_type": "code",
   "execution_count": 18,
   "id": "3733efdd",
   "metadata": {},
   "outputs": [
    {
     "name": "stdout",
     "output_type": "stream",
     "text": [
      "Crossvalidating nb_parags=1\n",
      "Crossvalidating nb_parags=2\n",
      "Crossvalidating nb_parags=3\n",
      "Crossvalidating nb_parags=5\n",
      "Crossvalidating nb_parags=8\n",
      "Crossvalidating nb_parags=13\n",
      "Crossvalidating nb_parags=21\n",
      "Crossvalidating nb_parags=34\n",
      "Crossvalidating nb_parags=55\n",
      "Crossvalidating nb_parags=89\n"
     ]
    }
   ],
   "source": [
    "df_means = {}\n",
    "for nb_parags in [1,2,3,5,8,13,21,34,55,89]:\n",
    "    \n",
    "    print(f'Crossvalidating nb_parags={nb_parags}')\n",
    "\n",
    "    X = df_ml['text'].apply(cut_text)\n",
    "    y = df_ml['infox']\n",
    "\n",
    "    #classifier = pipelineMLPC\n",
    "    classifier = pipelineLR\n",
    "    scores = cross_validate(classifier, X, y, cv=5,scoring=('roc_auc','f1','accuracy','precision','recall'))\n",
    "    df_scores=pd.DataFrame(scores)\n",
    "    df_means[nb_parags] = df_scores.describe().loc['mean']\n"
   ]
  },
  {
   "cell_type": "code",
   "execution_count": 19,
   "id": "5b48527e",
   "metadata": {
    "scrolled": true
   },
   "outputs": [
    {
     "data": {
      "text/html": [
       "<div>\n",
       "<style scoped>\n",
       "    .dataframe tbody tr th:only-of-type {\n",
       "        vertical-align: middle;\n",
       "    }\n",
       "\n",
       "    .dataframe tbody tr th {\n",
       "        vertical-align: top;\n",
       "    }\n",
       "\n",
       "    .dataframe thead th {\n",
       "        text-align: right;\n",
       "    }\n",
       "</style>\n",
       "<table border=\"1\" class=\"dataframe\">\n",
       "  <thead>\n",
       "    <tr style=\"text-align: right;\">\n",
       "      <th></th>\n",
       "      <th>1</th>\n",
       "      <th>2</th>\n",
       "      <th>3</th>\n",
       "      <th>5</th>\n",
       "      <th>8</th>\n",
       "      <th>13</th>\n",
       "      <th>21</th>\n",
       "      <th>34</th>\n",
       "      <th>55</th>\n",
       "      <th>89</th>\n",
       "    </tr>\n",
       "  </thead>\n",
       "  <tbody>\n",
       "    <tr>\n",
       "      <th>fit_time</th>\n",
       "      <td>0.028</td>\n",
       "      <td>0.063</td>\n",
       "      <td>0.093</td>\n",
       "      <td>0.148</td>\n",
       "      <td>0.219</td>\n",
       "      <td>0.292</td>\n",
       "      <td>0.379</td>\n",
       "      <td>0.439</td>\n",
       "      <td>0.506</td>\n",
       "      <td>0.530</td>\n",
       "    </tr>\n",
       "    <tr>\n",
       "      <th>score_time</th>\n",
       "      <td>0.005</td>\n",
       "      <td>0.010</td>\n",
       "      <td>0.016</td>\n",
       "      <td>0.026</td>\n",
       "      <td>0.038</td>\n",
       "      <td>0.055</td>\n",
       "      <td>0.071</td>\n",
       "      <td>0.089</td>\n",
       "      <td>0.096</td>\n",
       "      <td>0.101</td>\n",
       "    </tr>\n",
       "    <tr>\n",
       "      <th>test_roc_auc</th>\n",
       "      <td>0.679</td>\n",
       "      <td>0.802</td>\n",
       "      <td>0.791</td>\n",
       "      <td>0.825</td>\n",
       "      <td>0.834</td>\n",
       "      <td>0.846</td>\n",
       "      <td>0.849</td>\n",
       "      <td>0.851</td>\n",
       "      <td>0.855</td>\n",
       "      <td>0.853</td>\n",
       "    </tr>\n",
       "    <tr>\n",
       "      <th>test_f1</th>\n",
       "      <td>0.650</td>\n",
       "      <td>0.737</td>\n",
       "      <td>0.729</td>\n",
       "      <td>0.748</td>\n",
       "      <td>0.761</td>\n",
       "      <td>0.783</td>\n",
       "      <td>0.774</td>\n",
       "      <td>0.785</td>\n",
       "      <td>0.784</td>\n",
       "      <td>0.785</td>\n",
       "    </tr>\n",
       "    <tr>\n",
       "      <th>test_accuracy</th>\n",
       "      <td>0.637</td>\n",
       "      <td>0.732</td>\n",
       "      <td>0.725</td>\n",
       "      <td>0.747</td>\n",
       "      <td>0.756</td>\n",
       "      <td>0.781</td>\n",
       "      <td>0.771</td>\n",
       "      <td>0.783</td>\n",
       "      <td>0.783</td>\n",
       "      <td>0.784</td>\n",
       "    </tr>\n",
       "    <tr>\n",
       "      <th>test_precision</th>\n",
       "      <td>0.629</td>\n",
       "      <td>0.723</td>\n",
       "      <td>0.721</td>\n",
       "      <td>0.745</td>\n",
       "      <td>0.747</td>\n",
       "      <td>0.778</td>\n",
       "      <td>0.764</td>\n",
       "      <td>0.777</td>\n",
       "      <td>0.781</td>\n",
       "      <td>0.782</td>\n",
       "    </tr>\n",
       "    <tr>\n",
       "      <th>test_recall</th>\n",
       "      <td>0.675</td>\n",
       "      <td>0.753</td>\n",
       "      <td>0.737</td>\n",
       "      <td>0.754</td>\n",
       "      <td>0.778</td>\n",
       "      <td>0.788</td>\n",
       "      <td>0.786</td>\n",
       "      <td>0.794</td>\n",
       "      <td>0.788</td>\n",
       "      <td>0.788</td>\n",
       "    </tr>\n",
       "  </tbody>\n",
       "</table>\n",
       "</div>"
      ],
      "text/plain": [
       "                   1      2      3      5      8      13     21     34     55   \n",
       "fit_time        0.028  0.063  0.093  0.148  0.219  0.292  0.379  0.439  0.506  \\\n",
       "score_time      0.005  0.010  0.016  0.026  0.038  0.055  0.071  0.089  0.096   \n",
       "test_roc_auc    0.679  0.802  0.791  0.825  0.834  0.846  0.849  0.851  0.855   \n",
       "test_f1         0.650  0.737  0.729  0.748  0.761  0.783  0.774  0.785  0.784   \n",
       "test_accuracy   0.637  0.732  0.725  0.747  0.756  0.781  0.771  0.783  0.783   \n",
       "test_precision  0.629  0.723  0.721  0.745  0.747  0.778  0.764  0.777  0.781   \n",
       "test_recall     0.675  0.753  0.737  0.754  0.778  0.788  0.786  0.794  0.788   \n",
       "\n",
       "                   89  \n",
       "fit_time        0.530  \n",
       "score_time      0.101  \n",
       "test_roc_auc    0.853  \n",
       "test_f1         0.785  \n",
       "test_accuracy   0.784  \n",
       "test_precision  0.782  \n",
       "test_recall     0.788  "
      ]
     },
     "execution_count": 19,
     "metadata": {},
     "output_type": "execute_result"
    }
   ],
   "source": [
    "pd.set_option('display.precision',3)\n",
    "bench = pd.DataFrame(df_means)\n",
    "bench"
   ]
  },
  {
   "cell_type": "code",
   "execution_count": 20,
   "id": "6066c4dc",
   "metadata": {},
   "outputs": [
    {
     "data": {
      "text/plain": [
       "<Axes: >"
      ]
     },
     "execution_count": 20,
     "metadata": {},
     "output_type": "execute_result"
    },
    {
     "data": {
      "image/png": "[encoded data removed]",
      "text/plain": [
       "<Figure size 640x480 with 1 Axes>"
      ]
     },
     "metadata": {},
     "output_type": "display_data"
    }
   ],
   "source": [
    "sns.lineplot(data=bench.T[['test_accuracy','test_f1','test_recall']])"
   ]
  },
  {
   "cell_type": "code",
   "execution_count": 21,
   "id": "40c19e96",
   "metadata": {},
   "outputs": [
    {
     "data": {
      "text/plain": [
       "<Axes: >"
      ]
     },
     "execution_count": 21,
     "metadata": {},
     "output_type": "execute_result"
    },
    {
     "data": {
      "image/png": "[encoded data removed]",
      "text/plain": [
       "<Figure size 640x480 with 1 Axes>"
      ]
     },
     "metadata": {},
     "output_type": "display_data"
    }
   ],
   "source": [
    "sns.lineplot(data=bench[[1,2,3,5,8,13,21]].T[['test_accuracy','test_f1','test_recall']])"
   ]
  },
  {
   "cell_type": "code",
   "execution_count": 46,
   "id": "8b575c02",
   "metadata": {},
   "outputs": [
    {
     "data": {
      "text/plain": [
       "<Axes: xlabel='test_accuracy', ylabel='test_recall'>"
      ]
     },
     "execution_count": 46,
     "metadata": {},
     "output_type": "execute_result"
    },
    {
     "data": {
      "image/png": "[encoded data removed]",
      "text/plain": [
       "<Figure size 640x480 with 1 Axes>"
      ]
     },
     "metadata": {},
     "output_type": "display_data"
    }
   ],
   "source": [
    "sns.scatterplot(data=bench.T,x='test_accuracy',y='test_recall',hue=bench.T.index)"
   ]
  },
  {
   "cell_type": "markdown",
   "id": "fb7949bc",
   "metadata": {},
   "source": [
    "# Conclusions\n",
    "---"
   ]
  }
 ],
 "metadata": {
  "kernelspec": {
   "display_name": "Python 3 (ipykernel)",
   "language": "python",
   "name": "python3"
  },
  "language_info": {
   "codemirror_mode": {
    "name": "ipython",
    "version": 3
   },
   "file_extension": ".py",
   "mimetype": "text/x-python",
   "name": "python",
   "nbconvert_exporter": "python",
   "pygments_lexer": "ipython3",
   "version": "3.9.16"
  }
 },
 "nbformat": 4,
 "nbformat_minor": 5
}
