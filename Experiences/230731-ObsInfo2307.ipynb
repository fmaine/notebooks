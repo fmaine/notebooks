{
 "cells": [
  {
   "cell_type": "markdown",
   "id": "e3ec4689",
   "metadata": {},
   "source": [
    "# Plateforme Agnostique de Traitement et d'Analyse des Textes\n",
    "### Carnet d'expérimentation\n",
    "---\n",
    "\n",
    "## Sujet : Expérience ObsInfo2307\n",
    "\n",
    "---"
   ]
  },
  {
   "cell_type": "markdown",
   "id": "2601e626",
   "metadata": {},
   "source": [
    "# Imports"
   ]
  },
  {
   "cell_type": "code",
   "execution_count": 1,
   "id": "5d0de4d7",
   "metadata": {},
   "outputs": [
    {
     "name": "stdout",
     "output_type": "stream",
     "text": [
      "/Volumes/Geek/Work/Patat\n"
     ]
    }
   ],
   "source": [
    "cd ../.."
   ]
  },
  {
   "cell_type": "code",
   "execution_count": 2,
   "id": "32256b0d",
   "metadata": {},
   "outputs": [],
   "source": [
    "import importlib\n",
    "import pandas as pd\n",
    "import seaborn as sns\n",
    "from tqdm.notebook import tqdm\n",
    "tqdm.pandas()"
   ]
  },
  {
   "cell_type": "markdown",
   "id": "a4a05a2d",
   "metadata": {},
   "source": [
    "# Chargement Données"
   ]
  },
  {
   "cell_type": "code",
   "execution_count": 3,
   "id": "fabbb845",
   "metadata": {},
   "outputs": [],
   "source": [
    "import patat.util.gsheet\n",
    "\n",
    "gs = patat.util.gsheet.GoogleSheet()\n",
    "\n",
    "sheet_id = '1bEXdqyD7so-xm54_k-FMZchVVIcO8HjPSY1mA-wGW-w'\n",
    "range_name = 'Data'\n",
    "\n",
    "df_obsinfo = gs.read_df(sheet_id,range_name)"
   ]
  },
  {
   "cell_type": "code",
   "execution_count": 4,
   "id": "9b49c880",
   "metadata": {},
   "outputs": [],
   "source": [
    "labels = [\n",
    "    'infox',\n",
    "    'lieux, dates et personnes',\n",
    "    'faits',\n",
    "    'opinions',\n",
    "    'subjectif',\n",
    "    'propos rapporté',\n",
    "    'sources citées',\n",
    "    'fausse nouvelle',\n",
    "    'insinuation',\n",
    "    'exagération',\n",
    "    'titre décalé',\n",
    "]"
   ]
  },
  {
   "cell_type": "code",
   "execution_count": 5,
   "id": "2b414c74",
   "metadata": {},
   "outputs": [],
   "source": [
    "import numpy as np"
   ]
  },
  {
   "cell_type": "code",
   "execution_count": 6,
   "id": "b89dd377",
   "metadata": {},
   "outputs": [],
   "source": [
    "def normalize(x):\n",
    "    if x == '0':\n",
    "        return 0.0\n",
    "    elif x== '1':\n",
    "        return 1.0\n",
    "    else:\n",
    "        return np.NaN"
   ]
  },
  {
   "cell_type": "code",
   "execution_count": 7,
   "id": "99bd4a0a",
   "metadata": {},
   "outputs": [],
   "source": [
    "for label in labels:\n",
    "    df_obsinfo[label]=df_obsinfo[label].apply(normalize)"
   ]
  },
  {
   "cell_type": "code",
   "execution_count": 8,
   "id": "26ba805f",
   "metadata": {},
   "outputs": [],
   "source": [
    "df_obsinfo['url_h'] = df_obsinfo['url_labelizer'].apply(lambda s: s[-40:])"
   ]
  },
  {
   "cell_type": "code",
   "execution_count": 9,
   "id": "b1f51176",
   "metadata": {},
   "outputs": [
    {
     "data": {
      "text/plain": [
       "infox                        6\n",
       "lieux, dates et personnes    5\n",
       "faits                        4\n",
       "opinions                     4\n",
       "subjectif                    5\n",
       "propos rapporté              4\n",
       "sources citées               6\n",
       "fausse nouvelle              5\n",
       "insinuation                  5\n",
       "exagération                  6\n",
       "titre décalé                 5\n",
       "dtype: int64"
      ]
     },
     "execution_count": 9,
     "metadata": {},
     "output_type": "execute_result"
    }
   ],
   "source": [
    "df_obsinfo[labels].isna().sum()"
   ]
  },
  {
   "cell_type": "markdown",
   "id": "3c1058fe",
   "metadata": {},
   "source": [
    "### Constats\n",
    "- Entre 4 et 6 cellules vides par label"
   ]
  },
  {
   "cell_type": "markdown",
   "id": "3e8fb0cc",
   "metadata": {},
   "source": [
    "# Moyennes et accords"
   ]
  },
  {
   "cell_type": "code",
   "execution_count": 10,
   "id": "940beba0",
   "metadata": {},
   "outputs": [],
   "source": [
    "df_mean = df_obsinfo.pivot_table(index='title',values=labels,aggfunc='mean')"
   ]
  },
  {
   "cell_type": "code",
   "execution_count": 11,
   "id": "74f037b7",
   "metadata": {},
   "outputs": [],
   "source": [
    "df_accord = df_mean.apply(lambda x : abs(2*x-1))"
   ]
  },
  {
   "cell_type": "markdown",
   "id": "e6b16729",
   "metadata": {},
   "source": [
    "## Sommes des Moyennes"
   ]
  },
  {
   "cell_type": "code",
   "execution_count": 12,
   "id": "53e575d6",
   "metadata": {},
   "outputs": [
    {
     "data": {
      "text/html": [
       "<div>\n",
       "<style scoped>\n",
       "    .dataframe tbody tr th:only-of-type {\n",
       "        vertical-align: middle;\n",
       "    }\n",
       "\n",
       "    .dataframe tbody tr th {\n",
       "        vertical-align: top;\n",
       "    }\n",
       "\n",
       "    .dataframe thead th {\n",
       "        text-align: right;\n",
       "    }\n",
       "</style>\n",
       "<table border=\"1\" class=\"dataframe\">\n",
       "  <thead>\n",
       "    <tr style=\"text-align: right;\">\n",
       "      <th></th>\n",
       "      <th>mean</th>\n",
       "    </tr>\n",
       "  </thead>\n",
       "  <tbody>\n",
       "    <tr>\n",
       "      <th>titre décalé</th>\n",
       "      <td>10.660714</td>\n",
       "    </tr>\n",
       "    <tr>\n",
       "      <th>fausse nouvelle</th>\n",
       "      <td>23.357143</td>\n",
       "    </tr>\n",
       "    <tr>\n",
       "      <th>propos rapporté</th>\n",
       "      <td>30.964286</td>\n",
       "    </tr>\n",
       "    <tr>\n",
       "      <th>infox</th>\n",
       "      <td>37.767857</td>\n",
       "    </tr>\n",
       "    <tr>\n",
       "      <th>exagération</th>\n",
       "      <td>45.000000</td>\n",
       "    </tr>\n",
       "    <tr>\n",
       "      <th>insinuation</th>\n",
       "      <td>45.446429</td>\n",
       "    </tr>\n",
       "    <tr>\n",
       "      <th>subjectif</th>\n",
       "      <td>60.375000</td>\n",
       "    </tr>\n",
       "    <tr>\n",
       "      <th>sources citées</th>\n",
       "      <td>71.446429</td>\n",
       "    </tr>\n",
       "    <tr>\n",
       "      <th>opinions</th>\n",
       "      <td>72.982143</td>\n",
       "    </tr>\n",
       "    <tr>\n",
       "      <th>lieux, dates et personnes</th>\n",
       "      <td>94.107143</td>\n",
       "    </tr>\n",
       "    <tr>\n",
       "      <th>faits</th>\n",
       "      <td>95.928571</td>\n",
       "    </tr>\n",
       "  </tbody>\n",
       "</table>\n",
       "</div>"
      ],
      "text/plain": [
       "                                mean\n",
       "titre décalé               10.660714\n",
       "fausse nouvelle            23.357143\n",
       "propos rapporté            30.964286\n",
       "infox                      37.767857\n",
       "exagération                45.000000\n",
       "insinuation                45.446429\n",
       "subjectif                  60.375000\n",
       "sources citées             71.446429\n",
       "opinions                   72.982143\n",
       "lieux, dates et personnes  94.107143\n",
       "faits                      95.928571"
      ]
     },
     "execution_count": 12,
     "metadata": {},
     "output_type": "execute_result"
    }
   ],
   "source": [
    "mean_sum = pd.DataFrame(df_mean.sum(),columns=['mean']).sort_values('mean')\n",
    "mean_sum"
   ]
  },
  {
   "cell_type": "code",
   "execution_count": 13,
   "id": "40369220",
   "metadata": {},
   "outputs": [
    {
     "data": {
      "text/plain": [
       "<Axes: >"
      ]
     },
     "execution_count": 13,
     "metadata": {},
     "output_type": "execute_result"
    },
    {
     "data": {
      "image/png": "[encoded data removed]",
      "text/plain": [
       "<Figure size 640x480 with 1 Axes>"
      ]
     },
     "metadata": {},
     "output_type": "display_data"
    }
   ],
   "source": [
    "sns.barplot(mean_sum.T,orient=\"h\")"
   ]
  },
  {
   "cell_type": "markdown",
   "id": "ee68592a",
   "metadata": {},
   "source": [
    "### Constats\n",
    "- titre décalé : 10% de 1\n",
    "- fausse nouvelle : 23% de 1\n",
    "- Lieux dates et personnes : 94% de 1\n",
    "- faits : 95 %"
   ]
  },
  {
   "cell_type": "markdown",
   "id": "99540f3d",
   "metadata": {},
   "source": [
    "## Sommes des Accords"
   ]
  },
  {
   "cell_type": "code",
   "execution_count": 14,
   "id": "e51ff869",
   "metadata": {},
   "outputs": [
    {
     "data": {
      "text/html": [
       "<div>\n",
       "<style scoped>\n",
       "    .dataframe tbody tr th:only-of-type {\n",
       "        vertical-align: middle;\n",
       "    }\n",
       "\n",
       "    .dataframe tbody tr th {\n",
       "        vertical-align: top;\n",
       "    }\n",
       "\n",
       "    .dataframe thead th {\n",
       "        text-align: right;\n",
       "    }\n",
       "</style>\n",
       "<table border=\"1\" class=\"dataframe\">\n",
       "  <thead>\n",
       "    <tr style=\"text-align: right;\">\n",
       "      <th></th>\n",
       "      <th>sum</th>\n",
       "    </tr>\n",
       "  </thead>\n",
       "  <tbody>\n",
       "    <tr>\n",
       "      <th>insinuation</th>\n",
       "      <td>50.750000</td>\n",
       "    </tr>\n",
       "    <tr>\n",
       "      <th>propos rapporté</th>\n",
       "      <td>55.285714</td>\n",
       "    </tr>\n",
       "    <tr>\n",
       "      <th>sources citées</th>\n",
       "      <td>59.392857</td>\n",
       "    </tr>\n",
       "    <tr>\n",
       "      <th>infox</th>\n",
       "      <td>62.892857</td>\n",
       "    </tr>\n",
       "    <tr>\n",
       "      <th>exagération</th>\n",
       "      <td>63.000000</td>\n",
       "    </tr>\n",
       "    <tr>\n",
       "      <th>opinions</th>\n",
       "      <td>66.750000</td>\n",
       "    </tr>\n",
       "    <tr>\n",
       "      <th>fausse nouvelle</th>\n",
       "      <td>68.071429</td>\n",
       "    </tr>\n",
       "    <tr>\n",
       "      <th>subjectif</th>\n",
       "      <td>71.535714</td>\n",
       "    </tr>\n",
       "    <tr>\n",
       "      <th>titre décalé</th>\n",
       "      <td>79.964286</td>\n",
       "    </tr>\n",
       "    <tr>\n",
       "      <th>lieux, dates et personnes</th>\n",
       "      <td>88.214286</td>\n",
       "    </tr>\n",
       "    <tr>\n",
       "      <th>faits</th>\n",
       "      <td>91.857143</td>\n",
       "    </tr>\n",
       "  </tbody>\n",
       "</table>\n",
       "</div>"
      ],
      "text/plain": [
       "                                 sum\n",
       "insinuation                50.750000\n",
       "propos rapporté            55.285714\n",
       "sources citées             59.392857\n",
       "infox                      62.892857\n",
       "exagération                63.000000\n",
       "opinions                   66.750000\n",
       "fausse nouvelle            68.071429\n",
       "subjectif                  71.535714\n",
       "titre décalé               79.964286\n",
       "lieux, dates et personnes  88.214286\n",
       "faits                      91.857143"
      ]
     },
     "execution_count": 14,
     "metadata": {},
     "output_type": "execute_result"
    }
   ],
   "source": [
    "accord_sum = pd.DataFrame(df_accord.sum(),columns=['sum']).sort_values('sum')\n",
    "accord_sum"
   ]
  },
  {
   "cell_type": "code",
   "execution_count": 15,
   "id": "83dd7bb3",
   "metadata": {},
   "outputs": [
    {
     "data": {
      "text/plain": [
       "<Axes: >"
      ]
     },
     "execution_count": 15,
     "metadata": {},
     "output_type": "execute_result"
    },
    {
     "data": {
      "image/png": "[encoded data removed]",
      "text/plain": [
       "<Figure size 640x480 with 1 Axes>"
      ]
     },
     "metadata": {},
     "output_type": "display_data"
    }
   ],
   "source": [
    "sns.barplot(accord_sum.T,orient=\"h\")"
   ]
  },
  {
   "cell_type": "markdown",
   "id": "61c266d5",
   "metadata": {},
   "source": [
    "## Comptage accords > seuil"
   ]
  },
  {
   "cell_type": "code",
   "execution_count": 38,
   "id": "2b8ca95e",
   "metadata": {},
   "outputs": [],
   "source": [
    "threshold = 0.5"
   ]
  },
  {
   "cell_type": "code",
   "execution_count": 39,
   "id": "22c78095",
   "metadata": {},
   "outputs": [
    {
     "data": {
      "text/html": [
       "<div>\n",
       "<style scoped>\n",
       "    .dataframe tbody tr th:only-of-type {\n",
       "        vertical-align: middle;\n",
       "    }\n",
       "\n",
       "    .dataframe tbody tr th {\n",
       "        vertical-align: top;\n",
       "    }\n",
       "\n",
       "    .dataframe thead th {\n",
       "        text-align: right;\n",
       "    }\n",
       "</style>\n",
       "<table border=\"1\" class=\"dataframe\">\n",
       "  <thead>\n",
       "    <tr style=\"text-align: right;\">\n",
       "      <th></th>\n",
       "      <th>count</th>\n",
       "    </tr>\n",
       "  </thead>\n",
       "  <tbody>\n",
       "    <tr>\n",
       "      <th>insinuation</th>\n",
       "      <td>59</td>\n",
       "    </tr>\n",
       "    <tr>\n",
       "      <th>sources citées</th>\n",
       "      <td>68</td>\n",
       "    </tr>\n",
       "    <tr>\n",
       "      <th>infox</th>\n",
       "      <td>72</td>\n",
       "    </tr>\n",
       "    <tr>\n",
       "      <th>propos rapporté</th>\n",
       "      <td>72</td>\n",
       "    </tr>\n",
       "    <tr>\n",
       "      <th>exagération</th>\n",
       "      <td>73</td>\n",
       "    </tr>\n",
       "    <tr>\n",
       "      <th>opinions</th>\n",
       "      <td>78</td>\n",
       "    </tr>\n",
       "    <tr>\n",
       "      <th>fausse nouvelle</th>\n",
       "      <td>79</td>\n",
       "    </tr>\n",
       "    <tr>\n",
       "      <th>subjectif</th>\n",
       "      <td>79</td>\n",
       "    </tr>\n",
       "    <tr>\n",
       "      <th>titre décalé</th>\n",
       "      <td>90</td>\n",
       "    </tr>\n",
       "    <tr>\n",
       "      <th>lieux, dates et personnes</th>\n",
       "      <td>96</td>\n",
       "    </tr>\n",
       "    <tr>\n",
       "      <th>faits</th>\n",
       "      <td>97</td>\n",
       "    </tr>\n",
       "  </tbody>\n",
       "</table>\n",
       "</div>"
      ],
      "text/plain": [
       "                           count\n",
       "insinuation                   59\n",
       "sources citées                68\n",
       "infox                         72\n",
       "propos rapporté               72\n",
       "exagération                   73\n",
       "opinions                      78\n",
       "fausse nouvelle               79\n",
       "subjectif                     79\n",
       "titre décalé                  90\n",
       "lieux, dates et personnes     96\n",
       "faits                         97"
      ]
     },
     "execution_count": 39,
     "metadata": {},
     "output_type": "execute_result"
    }
   ],
   "source": [
    "accord_count = pd.DataFrame(df_accord.apply(lambda x: x>=threshold).sum(),columns=['count']).sort_values('count')\n",
    "accord_count"
   ]
  },
  {
   "cell_type": "code",
   "execution_count": 18,
   "id": "8406e755",
   "metadata": {},
   "outputs": [
    {
     "data": {
      "text/plain": [
       "<Axes: >"
      ]
     },
     "execution_count": 18,
     "metadata": {},
     "output_type": "execute_result"
    },
    {
     "data": {
      "image/png": "[encoded data removed]",
      "text/plain": [
       "<Figure size 640x480 with 1 Axes>"
      ]
     },
     "metadata": {},
     "output_type": "display_data"
    }
   ],
   "source": [
    "sns.barplot(accord_count.T,orient=\"h\")"
   ]
  },
  {
   "cell_type": "markdown",
   "id": "01afc872",
   "metadata": {},
   "source": [
    "## Polarité des accords"
   ]
  },
  {
   "cell_type": "code",
   "execution_count": 40,
   "id": "accb6aa2",
   "metadata": {},
   "outputs": [],
   "source": [
    "df_accord_filter = df_accord.apply(lambda x: x>=threshold)"
   ]
  },
  {
   "cell_type": "code",
   "execution_count": 41,
   "id": "42d20cec",
   "metadata": {},
   "outputs": [],
   "source": [
    "polarities_data = {}\n",
    "for index,row in df_accord_filter.iterrows():\n",
    "    for col in row.keys():\n",
    "        if row[col]:\n",
    "            data = polarities_data.get(col,[])\n",
    "            data.append(df_mean.loc[index,col])\n",
    "            polarities_data[col]=data"
   ]
  },
  {
   "cell_type": "code",
   "execution_count": 42,
   "id": "5559585a",
   "metadata": {},
   "outputs": [
    {
     "data": {
      "text/html": [
       "<div>\n",
       "<style scoped>\n",
       "    .dataframe tbody tr th:only-of-type {\n",
       "        vertical-align: middle;\n",
       "    }\n",
       "\n",
       "    .dataframe tbody tr th {\n",
       "        vertical-align: top;\n",
       "    }\n",
       "\n",
       "    .dataframe thead th {\n",
       "        text-align: right;\n",
       "    }\n",
       "</style>\n",
       "<table border=\"1\" class=\"dataframe\">\n",
       "  <thead>\n",
       "    <tr style=\"text-align: right;\">\n",
       "      <th></th>\n",
       "      <th>label</th>\n",
       "      <th>acc_count</th>\n",
       "      <th>acc_sum</th>\n",
       "      <th>total_mean</th>\n",
       "      <th>polarity</th>\n",
       "      <th>pol_bias</th>\n",
       "    </tr>\n",
       "  </thead>\n",
       "  <tbody>\n",
       "    <tr>\n",
       "      <th>0</th>\n",
       "      <td>exagération</td>\n",
       "      <td>73</td>\n",
       "      <td>30.732143</td>\n",
       "      <td>0.450000</td>\n",
       "      <td>0.420988</td>\n",
       "      <td>-0.029012</td>\n",
       "    </tr>\n",
       "    <tr>\n",
       "      <th>1</th>\n",
       "      <td>faits</td>\n",
       "      <td>97</td>\n",
       "      <td>94.214286</td>\n",
       "      <td>0.959286</td>\n",
       "      <td>0.971281</td>\n",
       "      <td>0.011996</td>\n",
       "    </tr>\n",
       "    <tr>\n",
       "      <th>2</th>\n",
       "      <td>fausse nouvelle</td>\n",
       "      <td>79</td>\n",
       "      <td>13.267857</td>\n",
       "      <td>0.233571</td>\n",
       "      <td>0.167948</td>\n",
       "      <td>-0.065624</td>\n",
       "    </tr>\n",
       "    <tr>\n",
       "      <th>3</th>\n",
       "      <td>infox</td>\n",
       "      <td>72</td>\n",
       "      <td>24.107143</td>\n",
       "      <td>0.377679</td>\n",
       "      <td>0.334821</td>\n",
       "      <td>-0.042857</td>\n",
       "    </tr>\n",
       "    <tr>\n",
       "      <th>4</th>\n",
       "      <td>lieux, dates et personnes</td>\n",
       "      <td>96</td>\n",
       "      <td>91.732143</td>\n",
       "      <td>0.941071</td>\n",
       "      <td>0.955543</td>\n",
       "      <td>0.014472</td>\n",
       "    </tr>\n",
       "    <tr>\n",
       "      <th>5</th>\n",
       "      <td>opinions</td>\n",
       "      <td>78</td>\n",
       "      <td>62.107143</td>\n",
       "      <td>0.729821</td>\n",
       "      <td>0.796245</td>\n",
       "      <td>0.066424</td>\n",
       "    </tr>\n",
       "    <tr>\n",
       "      <th>6</th>\n",
       "      <td>sources citées</td>\n",
       "      <td>68</td>\n",
       "      <td>54.464286</td>\n",
       "      <td>0.714464</td>\n",
       "      <td>0.800945</td>\n",
       "      <td>0.086481</td>\n",
       "    </tr>\n",
       "    <tr>\n",
       "      <th>7</th>\n",
       "      <td>subjectif</td>\n",
       "      <td>79</td>\n",
       "      <td>49.767857</td>\n",
       "      <td>0.603750</td>\n",
       "      <td>0.629973</td>\n",
       "      <td>0.026223</td>\n",
       "    </tr>\n",
       "    <tr>\n",
       "      <th>8</th>\n",
       "      <td>titre décalé</td>\n",
       "      <td>90</td>\n",
       "      <td>6.017857</td>\n",
       "      <td>0.106607</td>\n",
       "      <td>0.066865</td>\n",
       "      <td>-0.039742</td>\n",
       "    </tr>\n",
       "    <tr>\n",
       "      <th>9</th>\n",
       "      <td>insinuation</td>\n",
       "      <td>59</td>\n",
       "      <td>23.500000</td>\n",
       "      <td>0.454464</td>\n",
       "      <td>0.398305</td>\n",
       "      <td>-0.056159</td>\n",
       "    </tr>\n",
       "    <tr>\n",
       "      <th>10</th>\n",
       "      <td>propos rapporté</td>\n",
       "      <td>72</td>\n",
       "      <td>18.857143</td>\n",
       "      <td>0.309643</td>\n",
       "      <td>0.261905</td>\n",
       "      <td>-0.047738</td>\n",
       "    </tr>\n",
       "  </tbody>\n",
       "</table>\n",
       "</div>"
      ],
      "text/plain": [
       "                        label  acc_count    acc_sum  total_mean  polarity  \\\n",
       "0                 exagération         73  30.732143    0.450000  0.420988   \n",
       "1                       faits         97  94.214286    0.959286  0.971281   \n",
       "2             fausse nouvelle         79  13.267857    0.233571  0.167948   \n",
       "3                       infox         72  24.107143    0.377679  0.334821   \n",
       "4   lieux, dates et personnes         96  91.732143    0.941071  0.955543   \n",
       "5                    opinions         78  62.107143    0.729821  0.796245   \n",
       "6              sources citées         68  54.464286    0.714464  0.800945   \n",
       "7                   subjectif         79  49.767857    0.603750  0.629973   \n",
       "8                titre décalé         90   6.017857    0.106607  0.066865   \n",
       "9                 insinuation         59  23.500000    0.454464  0.398305   \n",
       "10            propos rapporté         72  18.857143    0.309643  0.261905   \n",
       "\n",
       "    pol_bias  \n",
       "0  -0.029012  \n",
       "1   0.011996  \n",
       "2  -0.065624  \n",
       "3  -0.042857  \n",
       "4   0.014472  \n",
       "5   0.066424  \n",
       "6   0.086481  \n",
       "7   0.026223  \n",
       "8  -0.039742  \n",
       "9  -0.056159  \n",
       "10 -0.047738  "
      ]
     },
     "execution_count": 42,
     "metadata": {},
     "output_type": "execute_result"
    }
   ],
   "source": [
    "polarities = []\n",
    "for label in polarities_data.keys():\n",
    "    polarities.append({\n",
    "        'label': label,\n",
    "        'acc_count': len(polarities_data[label]),\n",
    "        'acc_sum': sum(polarities_data[label]),\n",
    "        'total_mean': mean_sum.loc[label]['mean']/100,\n",
    "    })\n",
    "df_polarities = pd.DataFrame(polarities)\n",
    "df_polarities['polarity']=df_polarities['acc_sum']/df_polarities['acc_count']\n",
    "df_polarities['pol_bias']=df_polarities['polarity']-df_polarities['total_mean']\n",
    "df_polarities"
   ]
  },
  {
   "cell_type": "code",
   "execution_count": 43,
   "id": "89f4e230",
   "metadata": {},
   "outputs": [
    {
     "data": {
      "text/plain": [
       "<Axes: xlabel='pol_bias', ylabel='label'>"
      ]
     },
     "execution_count": 43,
     "metadata": {},
     "output_type": "execute_result"
    },
    {
     "data": {
      "image/png": "[encoded data removed]",
      "text/plain": [
       "<Figure size 640x480 with 1 Axes>"
      ]
     },
     "metadata": {},
     "output_type": "display_data"
    }
   ],
   "source": [
    "sns.barplot(df_polarities.sort_values('pol_bias'),y='label',x='pol_bias',)"
   ]
  },
  {
   "cell_type": "markdown",
   "id": "89046aa6",
   "metadata": {},
   "source": [
    "### Constats\n",
    "- Biais de polarité compris entre -0.14 et +0.17 \n",
    "- Corrélation entre somme des moyennes et polarité des accords"
   ]
  },
  {
   "cell_type": "markdown",
   "id": "6a64a0a3",
   "metadata": {},
   "source": [
    "### A calculer : Nombre d'accord par valeur 0/1, à comparer avec nombre moyen"
   ]
  },
  {
   "cell_type": "markdown",
   "id": "7cee6f6b",
   "metadata": {},
   "source": [
    "# Comparaisons observateurs"
   ]
  },
  {
   "cell_type": "code",
   "execution_count": 44,
   "id": "51a27655",
   "metadata": {},
   "outputs": [],
   "source": [
    "df_obs = df_obsinfo.pivot_table(index='observateur',aggfunc='sum')[labels]"
   ]
  },
  {
   "cell_type": "code",
   "execution_count": 45,
   "id": "17963e09",
   "metadata": {},
   "outputs": [],
   "source": [
    "df_obs = df_obs.reset_index()"
   ]
  },
  {
   "cell_type": "code",
   "execution_count": 46,
   "id": "780ce94a",
   "metadata": {},
   "outputs": [
    {
     "data": {
      "text/html": [
       "<div>\n",
       "<style scoped>\n",
       "    .dataframe tbody tr th:only-of-type {\n",
       "        vertical-align: middle;\n",
       "    }\n",
       "\n",
       "    .dataframe tbody tr th {\n",
       "        vertical-align: top;\n",
       "    }\n",
       "\n",
       "    .dataframe thead th {\n",
       "        text-align: right;\n",
       "    }\n",
       "</style>\n",
       "<table border=\"1\" class=\"dataframe\">\n",
       "  <thead>\n",
       "    <tr style=\"text-align: right;\">\n",
       "      <th></th>\n",
       "      <th>observateur</th>\n",
       "      <th>infox</th>\n",
       "      <th>lieux, dates et personnes</th>\n",
       "      <th>faits</th>\n",
       "      <th>opinions</th>\n",
       "      <th>subjectif</th>\n",
       "      <th>propos rapporté</th>\n",
       "      <th>sources citées</th>\n",
       "      <th>fausse nouvelle</th>\n",
       "      <th>insinuation</th>\n",
       "      <th>exagération</th>\n",
       "      <th>titre décalé</th>\n",
       "    </tr>\n",
       "  </thead>\n",
       "  <tbody>\n",
       "    <tr>\n",
       "      <th>0</th>\n",
       "      <td>BI</td>\n",
       "      <td>29.0</td>\n",
       "      <td>94.0</td>\n",
       "      <td>99.0</td>\n",
       "      <td>93.0</td>\n",
       "      <td>74.0</td>\n",
       "      <td>21.0</td>\n",
       "      <td>82.0</td>\n",
       "      <td>9.0</td>\n",
       "      <td>24.0</td>\n",
       "      <td>44.0</td>\n",
       "      <td>21.0</td>\n",
       "    </tr>\n",
       "    <tr>\n",
       "      <th>1</th>\n",
       "      <td>FB</td>\n",
       "      <td>20.0</td>\n",
       "      <td>88.0</td>\n",
       "      <td>91.0</td>\n",
       "      <td>78.0</td>\n",
       "      <td>69.0</td>\n",
       "      <td>14.0</td>\n",
       "      <td>73.0</td>\n",
       "      <td>8.0</td>\n",
       "      <td>21.0</td>\n",
       "      <td>36.0</td>\n",
       "      <td>3.0</td>\n",
       "    </tr>\n",
       "    <tr>\n",
       "      <th>2</th>\n",
       "      <td>FM</td>\n",
       "      <td>33.0</td>\n",
       "      <td>73.0</td>\n",
       "      <td>92.0</td>\n",
       "      <td>72.0</td>\n",
       "      <td>60.0</td>\n",
       "      <td>22.0</td>\n",
       "      <td>57.0</td>\n",
       "      <td>10.0</td>\n",
       "      <td>41.0</td>\n",
       "      <td>34.0</td>\n",
       "      <td>4.0</td>\n",
       "    </tr>\n",
       "    <tr>\n",
       "      <th>3</th>\n",
       "      <td>GA</td>\n",
       "      <td>34.0</td>\n",
       "      <td>100.0</td>\n",
       "      <td>100.0</td>\n",
       "      <td>87.0</td>\n",
       "      <td>52.0</td>\n",
       "      <td>22.0</td>\n",
       "      <td>87.0</td>\n",
       "      <td>32.0</td>\n",
       "      <td>54.0</td>\n",
       "      <td>42.0</td>\n",
       "      <td>16.0</td>\n",
       "    </tr>\n",
       "    <tr>\n",
       "      <th>4</th>\n",
       "      <td>GG</td>\n",
       "      <td>47.0</td>\n",
       "      <td>93.0</td>\n",
       "      <td>96.0</td>\n",
       "      <td>66.0</td>\n",
       "      <td>67.0</td>\n",
       "      <td>76.0</td>\n",
       "      <td>76.0</td>\n",
       "      <td>22.0</td>\n",
       "      <td>73.0</td>\n",
       "      <td>53.0</td>\n",
       "      <td>17.0</td>\n",
       "    </tr>\n",
       "    <tr>\n",
       "      <th>5</th>\n",
       "      <td>LL</td>\n",
       "      <td>29.0</td>\n",
       "      <td>100.0</td>\n",
       "      <td>91.0</td>\n",
       "      <td>45.0</td>\n",
       "      <td>47.0</td>\n",
       "      <td>66.0</td>\n",
       "      <td>78.0</td>\n",
       "      <td>24.0</td>\n",
       "      <td>43.0</td>\n",
       "      <td>35.0</td>\n",
       "      <td>1.0</td>\n",
       "    </tr>\n",
       "    <tr>\n",
       "      <th>6</th>\n",
       "      <td>MC</td>\n",
       "      <td>44.0</td>\n",
       "      <td>100.0</td>\n",
       "      <td>99.0</td>\n",
       "      <td>66.0</td>\n",
       "      <td>48.0</td>\n",
       "      <td>11.0</td>\n",
       "      <td>46.0</td>\n",
       "      <td>34.0</td>\n",
       "      <td>59.0</td>\n",
       "      <td>52.0</td>\n",
       "      <td>8.0</td>\n",
       "    </tr>\n",
       "    <tr>\n",
       "      <th>7</th>\n",
       "      <td>PE</td>\n",
       "      <td>64.0</td>\n",
       "      <td>100.0</td>\n",
       "      <td>96.0</td>\n",
       "      <td>74.0</td>\n",
       "      <td>63.0</td>\n",
       "      <td>14.0</td>\n",
       "      <td>68.0</td>\n",
       "      <td>46.0</td>\n",
       "      <td>46.0</td>\n",
       "      <td>61.0</td>\n",
       "      <td>14.0</td>\n",
       "    </tr>\n",
       "  </tbody>\n",
       "</table>\n",
       "</div>"
      ],
      "text/plain": [
       "  observateur  infox  lieux, dates et personnes  faits  opinions  subjectif  \\\n",
       "0          BI   29.0                       94.0   99.0      93.0       74.0   \n",
       "1          FB   20.0                       88.0   91.0      78.0       69.0   \n",
       "2          FM   33.0                       73.0   92.0      72.0       60.0   \n",
       "3          GA   34.0                      100.0  100.0      87.0       52.0   \n",
       "4          GG   47.0                       93.0   96.0      66.0       67.0   \n",
       "5          LL   29.0                      100.0   91.0      45.0       47.0   \n",
       "6          MC   44.0                      100.0   99.0      66.0       48.0   \n",
       "7          PE   64.0                      100.0   96.0      74.0       63.0   \n",
       "\n",
       "   propos rapporté  sources citées  fausse nouvelle  insinuation  exagération  \\\n",
       "0             21.0            82.0              9.0         24.0         44.0   \n",
       "1             14.0            73.0              8.0         21.0         36.0   \n",
       "2             22.0            57.0             10.0         41.0         34.0   \n",
       "3             22.0            87.0             32.0         54.0         42.0   \n",
       "4             76.0            76.0             22.0         73.0         53.0   \n",
       "5             66.0            78.0             24.0         43.0         35.0   \n",
       "6             11.0            46.0             34.0         59.0         52.0   \n",
       "7             14.0            68.0             46.0         46.0         61.0   \n",
       "\n",
       "   titre décalé  \n",
       "0          21.0  \n",
       "1           3.0  \n",
       "2           4.0  \n",
       "3          16.0  \n",
       "4          17.0  \n",
       "5           1.0  \n",
       "6           8.0  \n",
       "7          14.0  "
      ]
     },
     "execution_count": 46,
     "metadata": {},
     "output_type": "execute_result"
    }
   ],
   "source": [
    "df_obs"
   ]
  },
  {
   "cell_type": "code",
   "execution_count": 48,
   "id": "22787fae",
   "metadata": {},
   "outputs": [
    {
     "data": {
      "text/plain": [
       "<Axes: xlabel='observateur', ylabel='infox'>"
      ]
     },
     "execution_count": 48,
     "metadata": {},
     "output_type": "execute_result"
    },
    {
     "data": {
      "image/png": "[encoded data removed]",
      "text/plain": [
       "<Figure size 640x480 with 1 Axes>"
      ]
     },
     "metadata": {},
     "output_type": "display_data"
    }
   ],
   "source": [
    "sns.barplot(df_obs,x='observateur',y='infox')"
   ]
  },
  {
   "cell_type": "code",
   "execution_count": 50,
   "id": "0e7e35a2",
   "metadata": {},
   "outputs": [
    {
     "data": {
      "text/plain": [
       "<Axes: xlabel='observateur', ylabel='opinions'>"
      ]
     },
     "execution_count": 50,
     "metadata": {},
     "output_type": "execute_result"
    },
    {
     "data": {
      "image/png": "[encoded data removed]",
      "text/plain": [
       "<Figure size 640x480 with 1 Axes>"
      ]
     },
     "metadata": {},
     "output_type": "display_data"
    }
   ],
   "source": [
    "sns.barplot(df_obs,x='observateur',y='opinions')"
   ]
  },
  {
   "cell_type": "markdown",
   "id": "0dab48d8",
   "metadata": {},
   "source": [
    "## Ecarts par label"
   ]
  },
  {
   "cell_type": "code",
   "execution_count": 51,
   "id": "22803edb",
   "metadata": {},
   "outputs": [
    {
     "data": {
      "text/html": [
       "<div>\n",
       "<style scoped>\n",
       "    .dataframe tbody tr th:only-of-type {\n",
       "        vertical-align: middle;\n",
       "    }\n",
       "\n",
       "    .dataframe tbody tr th {\n",
       "        vertical-align: top;\n",
       "    }\n",
       "\n",
       "    .dataframe thead th {\n",
       "        text-align: right;\n",
       "    }\n",
       "</style>\n",
       "<table border=\"1\" class=\"dataframe\">\n",
       "  <thead>\n",
       "    <tr style=\"text-align: right;\">\n",
       "      <th></th>\n",
       "      <th>std</th>\n",
       "    </tr>\n",
       "  </thead>\n",
       "  <tbody>\n",
       "    <tr>\n",
       "      <th>faits</th>\n",
       "      <td>3.741657</td>\n",
       "    </tr>\n",
       "    <tr>\n",
       "      <th>titre décalé</th>\n",
       "      <td>7.464200</td>\n",
       "    </tr>\n",
       "    <tr>\n",
       "      <th>lieux, dates et personnes</th>\n",
       "      <td>9.411239</td>\n",
       "    </tr>\n",
       "    <tr>\n",
       "      <th>exagération</th>\n",
       "      <td>9.855202</td>\n",
       "    </tr>\n",
       "    <tr>\n",
       "      <th>subjectif</th>\n",
       "      <td>10.085350</td>\n",
       "    </tr>\n",
       "    <tr>\n",
       "      <th>sources citées</th>\n",
       "      <td>13.548194</td>\n",
       "    </tr>\n",
       "    <tr>\n",
       "      <th>infox</th>\n",
       "      <td>13.721724</td>\n",
       "    </tr>\n",
       "    <tr>\n",
       "      <th>fausse nouvelle</th>\n",
       "      <td>13.747078</td>\n",
       "    </tr>\n",
       "    <tr>\n",
       "      <th>opinions</th>\n",
       "      <td>14.657397</td>\n",
       "    </tr>\n",
       "    <tr>\n",
       "      <th>insinuation</th>\n",
       "      <td>17.315868</td>\n",
       "    </tr>\n",
       "    <tr>\n",
       "      <th>propos rapporté</th>\n",
       "      <td>25.325030</td>\n",
       "    </tr>\n",
       "  </tbody>\n",
       "</table>\n",
       "</div>"
      ],
      "text/plain": [
       "                                 std\n",
       "faits                       3.741657\n",
       "titre décalé                7.464200\n",
       "lieux, dates et personnes   9.411239\n",
       "exagération                 9.855202\n",
       "subjectif                  10.085350\n",
       "sources citées             13.548194\n",
       "infox                      13.721724\n",
       "fausse nouvelle            13.747078\n",
       "opinions                   14.657397\n",
       "insinuation                17.315868\n",
       "propos rapporté            25.325030"
      ]
     },
     "execution_count": 51,
     "metadata": {},
     "output_type": "execute_result"
    }
   ],
   "source": [
    "df_std = pd.DataFrame(df_obs[labels].std(),columns=['std']).sort_values('std')\n",
    "df_std"
   ]
  },
  {
   "cell_type": "code",
   "execution_count": 52,
   "id": "1d57293d",
   "metadata": {},
   "outputs": [
    {
     "data": {
      "text/plain": [
       "<Axes: >"
      ]
     },
     "execution_count": 52,
     "metadata": {},
     "output_type": "execute_result"
    },
    {
     "data": {
      "image/png": "[encoded data removed]",
      "text/plain": [
       "<Figure size 640x480 with 1 Axes>"
      ]
     },
     "metadata": {},
     "output_type": "display_data"
    }
   ],
   "source": [
    "sns.barplot(df_std.T,orient='h')"
   ]
  },
  {
   "cell_type": "markdown",
   "id": "fb7949bc",
   "metadata": {},
   "source": [
    "# Prochaines étapes\n",
    "---\n",
    "\n",
    "- Nombre d'accord par valeur 0/1, à comparer avec nombre moyen\n",
    "- Distance entre couples d'annotateurs\n",
    "- Kappa de Fleiss\n",
    "- Proposer un modele d'annotation de paragraphes"
   ]
  },
  {
   "cell_type": "markdown",
   "id": "bd06b261",
   "metadata": {},
   "source": []
  },
  {
   "cell_type": "markdown",
   "id": "bd360655",
   "metadata": {},
   "source": [
    "# Bricolages\n",
    "---"
   ]
  },
  {
   "cell_type": "code",
   "execution_count": null,
   "id": "e016c0e7",
   "metadata": {},
   "outputs": [],
   "source": []
  },
  {
   "cell_type": "code",
   "execution_count": null,
   "id": "06ebe7f5",
   "metadata": {},
   "outputs": [],
   "source": []
  }
 ],
 "metadata": {
  "kernelspec": {
   "display_name": "Python 3 (ipykernel)",
   "language": "python",
   "name": "python3"
  },
  "language_info": {
   "codemirror_mode": {
    "name": "ipython",
    "version": 3
   },
   "file_extension": ".py",
   "mimetype": "text/x-python",
   "name": "python",
   "nbconvert_exporter": "python",
   "pygments_lexer": "ipython3",
   "version": "3.9.16"
  }
 },
 "nbformat": 4,
 "nbformat_minor": 5
}
