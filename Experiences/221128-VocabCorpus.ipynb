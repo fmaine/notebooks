{
 "cells": [
  {
   "cell_type": "markdown",
   "id": "30a8b7b9",
   "metadata": {},
   "source": [
    "# Plateforme Agnostique de Traitement et d'Analyse des Textes\n",
    "### Carnet d'expérimentation\n",
    "---\n",
    "\n",
    "## Sujet : Identification des mots collés\n",
    "\n",
    "---\n"
   ]
  },
  {
   "cell_type": "markdown",
   "id": "2601e626",
   "metadata": {},
   "source": [
    "# Observations et environnement\n",
    "---"
   ]
  },
  {
   "cell_type": "code",
   "execution_count": 1,
   "id": "5d0de4d7",
   "metadata": {},
   "outputs": [
    {
     "name": "stdout",
     "output_type": "stream",
     "text": [
      "/Users/fm/Desktop/Work/Patat\n"
     ]
    }
   ],
   "source": [
    "cd ../.."
   ]
  },
  {
   "cell_type": "code",
   "execution_count": 2,
   "id": "32256b0d",
   "metadata": {},
   "outputs": [],
   "source": [
    "import importlib\n",
    "import pandas as pd\n",
    "import seaborn as sns"
   ]
  },
  {
   "cell_type": "markdown",
   "id": "a3925385",
   "metadata": {},
   "source": [
    "## Paramètres globaux"
   ]
  },
  {
   "cell_type": "code",
   "execution_count": 3,
   "id": "76da150d",
   "metadata": {},
   "outputs": [],
   "source": [
    "random_state = 42"
   ]
  },
  {
   "cell_type": "markdown",
   "id": "a37727b5",
   "metadata": {},
   "source": [
    "## Données "
   ]
  },
  {
   "cell_type": "code",
   "execution_count": 4,
   "id": "3921d9ec",
   "metadata": {},
   "outputs": [],
   "source": [
    "import patat.db.article_db"
   ]
  },
  {
   "cell_type": "code",
   "execution_count": 5,
   "id": "e18ee34d",
   "metadata": {},
   "outputs": [
    {
     "name": "stderr",
     "output_type": "stream",
     "text": [
      "/Users/fm/Desktop/Work/Patat/patat/db/article_db.py:35: DtypeWarning: Columns (4,5) have mixed types. Specify dtype option on import or set low_memory=False.\n",
      "  df = pd.read_csv(filename)\n"
     ]
    }
   ],
   "source": [
    "article_db = patat.db.article_db.ArticleDb()"
   ]
  },
  {
   "cell_type": "code",
   "execution_count": 6,
   "id": "2d2394da",
   "metadata": {},
   "outputs": [],
   "source": [
    "article_db._df['text'] = article_db._df['title']+'\\n'+article_db._df['article']"
   ]
  },
  {
   "cell_type": "code",
   "execution_count": 7,
   "id": "c0f81c1c",
   "metadata": {},
   "outputs": [],
   "source": [
    "df_texts = article_db._df"
   ]
  },
  {
   "cell_type": "code",
   "execution_count": 8,
   "id": "8df90ab4",
   "metadata": {},
   "outputs": [],
   "source": [
    "df_texts = df_texts[df_texts['text'].notna()]"
   ]
  },
  {
   "cell_type": "code",
   "execution_count": 9,
   "id": "79e26ad4",
   "metadata": {},
   "outputs": [
    {
     "data": {
      "text/plain": [
       "(86803, 11)"
      ]
     },
     "execution_count": 9,
     "metadata": {},
     "output_type": "execute_result"
    }
   ],
   "source": [
    "df_texts.shape"
   ]
  },
  {
   "cell_type": "code",
   "execution_count": 10,
   "id": "df4c5828",
   "metadata": {},
   "outputs": [],
   "source": [
    "df_texts = df_texts[df_texts['site']!='www.legorafi.fr']"
   ]
  },
  {
   "cell_type": "code",
   "execution_count": 11,
   "id": "36c5878f",
   "metadata": {},
   "outputs": [
    {
     "data": {
      "text/plain": [
       "(82315, 11)"
      ]
     },
     "execution_count": 11,
     "metadata": {},
     "output_type": "execute_result"
    }
   ],
   "source": [
    "df_texts.shape"
   ]
  },
  {
   "cell_type": "code",
   "execution_count": 12,
   "id": "ed2924b2",
   "metadata": {},
   "outputs": [],
   "source": [
    "### Preprocesor\n",
    "\n",
    "import patat.util.text\n",
    "\n",
    "preprocessor = patat.util.text.preprocess\n",
    "\n",
    "### Tokenizer\n",
    "\n",
    "from patat.ml.lex_analyser import LexAnalyser\n",
    "\n",
    "lex = LexAnalyser()\n",
    "\n",
    "tokenizer = lex.get_words\n",
    "#tokenizer = lex.get_lemmas_from_text"
   ]
  },
  {
   "cell_type": "code",
   "execution_count": 13,
   "id": "0a5c2153",
   "metadata": {},
   "outputs": [],
   "source": [
    "from sklearn.feature_extraction.text import CountVectorizer\n",
    "\n",
    "# df_texts['text']=df_texts['text'].apply(preprocessor)"
   ]
  },
  {
   "cell_type": "code",
   "execution_count": 14,
   "id": "f57a629c",
   "metadata": {},
   "outputs": [
    {
     "name": "stdout",
     "output_type": "stream",
     "text": [
      "CPU times: user 28.6 s, sys: 14.5 s, total: 43.1 s\n",
      "Wall time: 56.1 s\n"
     ]
    },
    {
     "data": {
      "text/plain": [
       "404196"
      ]
     },
     "execution_count": 14,
     "metadata": {},
     "output_type": "execute_result"
    }
   ],
   "source": [
    "%%time\n",
    "vectorizer = CountVectorizer(lowercase=True, preprocessor=preprocessor, tokenizer=tokenizer)\n",
    "count_matrix = vectorizer.fit_transform(df_texts['text'])\n",
    "\n",
    "count_array = count_matrix.toarray()\n",
    "df_count = pd.DataFrame(data=count_array,columns = vectorizer.get_feature_names_out())\n",
    "\n",
    "vocab_full = list(df_count.columns)\n",
    "\n",
    "len(vocab_full)"
   ]
  },
  {
   "cell_type": "code",
   "execution_count": 15,
   "id": "a106f6f0",
   "metadata": {},
   "outputs": [],
   "source": [
    "df_words = pd.DataFrame(vocab_full,columns=['word'])"
   ]
  },
  {
   "cell_type": "code",
   "execution_count": 16,
   "id": "65b94d94",
   "metadata": {},
   "outputs": [],
   "source": [
    "df_words['c_count']=df_words['word'].apply(len)"
   ]
  },
  {
   "cell_type": "code",
   "execution_count": 17,
   "id": "32136006",
   "metadata": {},
   "outputs": [
    {
     "data": {
      "text/html": [
       "<div>\n",
       "<style scoped>\n",
       "    .dataframe tbody tr th:only-of-type {\n",
       "        vertical-align: middle;\n",
       "    }\n",
       "\n",
       "    .dataframe tbody tr th {\n",
       "        vertical-align: top;\n",
       "    }\n",
       "\n",
       "    .dataframe thead th {\n",
       "        text-align: right;\n",
       "    }\n",
       "</style>\n",
       "<table border=\"1\" class=\"dataframe\">\n",
       "  <thead>\n",
       "    <tr style=\"text-align: right;\">\n",
       "      <th></th>\n",
       "      <th>word</th>\n",
       "      <th>c_count</th>\n",
       "    </tr>\n",
       "  </thead>\n",
       "  <tbody>\n",
       "    <tr>\n",
       "      <th>373153</th>\n",
       "      <td>unisindeindonésieirakiranirlandeislandeisraëli...</td>\n",
       "      <td>398</td>\n",
       "    </tr>\n",
       "    <tr>\n",
       "      <th>193305</th>\n",
       "      <td>jqyegayrqogbbgaaqaiaaiaigckaaiaadghabqqagaaaaa...</td>\n",
       "      <td>166</td>\n",
       "    </tr>\n",
       "    <tr>\n",
       "      <th>324064</th>\n",
       "      <td>saouditeargentinearméniearubaaustralieautriche...</td>\n",
       "      <td>142</td>\n",
       "    </tr>\n",
       "    <tr>\n",
       "      <th>186117</th>\n",
       "      <td>iqewgayiavaaogkaaaaoijbaaahcalaaaeaqaaaaccmaea...</td>\n",
       "      <td>140</td>\n",
       "    </tr>\n",
       "    <tr>\n",
       "      <th>119590</th>\n",
       "      <td>encéphaliteméningiteencéphalopathieconvulsions...</td>\n",
       "      <td>102</td>\n",
       "    </tr>\n",
       "    <tr>\n",
       "      <th>...</th>\n",
       "      <td>...</td>\n",
       "      <td>...</td>\n",
       "    </tr>\n",
       "    <tr>\n",
       "      <th>354820</th>\n",
       "      <td>tc</td>\n",
       "      <td>2</td>\n",
       "    </tr>\n",
       "    <tr>\n",
       "      <th>47701</th>\n",
       "      <td>br</td>\n",
       "      <td>2</td>\n",
       "    </tr>\n",
       "    <tr>\n",
       "      <th>47672</th>\n",
       "      <td>bq</td>\n",
       "      <td>2</td>\n",
       "    </tr>\n",
       "    <tr>\n",
       "      <th>354777</th>\n",
       "      <td>tb</td>\n",
       "      <td>2</td>\n",
       "    </tr>\n",
       "    <tr>\n",
       "      <th>0</th>\n",
       "      <td>aa</td>\n",
       "      <td>2</td>\n",
       "    </tr>\n",
       "  </tbody>\n",
       "</table>\n",
       "<p>404196 rows × 2 columns</p>\n",
       "</div>"
      ],
      "text/plain": [
       "                                                     word  c_count\n",
       "373153  unisindeindonésieirakiranirlandeislandeisraëli...      398\n",
       "193305  jqyegayrqogbbgaaqaiaaiaigckaaiaadghabqqagaaaaa...      166\n",
       "324064  saouditeargentinearméniearubaaustralieautriche...      142\n",
       "186117  iqewgayiavaaogkaaaaoijbaaahcalaaaeaqaaaaccmaea...      140\n",
       "119590  encéphaliteméningiteencéphalopathieconvulsions...      102\n",
       "...                                                   ...      ...\n",
       "354820                                                 tc        2\n",
       "47701                                                  br        2\n",
       "47672                                                  bq        2\n",
       "354777                                                 tb        2\n",
       "0                                                      aa        2\n",
       "\n",
       "[404196 rows x 2 columns]"
      ]
     },
     "execution_count": 17,
     "metadata": {},
     "output_type": "execute_result"
    }
   ],
   "source": [
    "df_words.sort_values('c_count',ascending=False)"
   ]
  },
  {
   "cell_type": "code",
   "execution_count": 18,
   "id": "e1874ea8",
   "metadata": {},
   "outputs": [],
   "source": [
    "word = df_words.loc[195889,'word']"
   ]
  },
  {
   "cell_type": "code",
   "execution_count": 19,
   "id": "70158b4f",
   "metadata": {},
   "outputs": [],
   "source": [
    "word='aaaaaaaaaaaaaaaaaaaaaaaaaaaaaah'"
   ]
  },
  {
   "cell_type": "code",
   "execution_count": 20,
   "id": "82b55343",
   "metadata": {},
   "outputs": [
    {
     "ename": "KeyError",
     "evalue": "'aaaaaaaaaaaaaaaaaaaaaaaaaaaaaah'",
     "output_type": "error",
     "traceback": [
      "\u001b[0;31m---------------------------------------------------------------------------\u001b[0m",
      "\u001b[0;31mKeyError\u001b[0m                                  Traceback (most recent call last)",
      "File \u001b[0;32m~/opt/anaconda3/lib/python3.9/site-packages/pandas/core/indexes/base.py:3629\u001b[0m, in \u001b[0;36mIndex.get_loc\u001b[0;34m(self, key, method, tolerance)\u001b[0m\n\u001b[1;32m   3628\u001b[0m \u001b[38;5;28;01mtry\u001b[39;00m:\n\u001b[0;32m-> 3629\u001b[0m     \u001b[38;5;28;01mreturn\u001b[39;00m \u001b[38;5;28;43mself\u001b[39;49m\u001b[38;5;241;43m.\u001b[39;49m\u001b[43m_engine\u001b[49m\u001b[38;5;241;43m.\u001b[39;49m\u001b[43mget_loc\u001b[49m\u001b[43m(\u001b[49m\u001b[43mcasted_key\u001b[49m\u001b[43m)\u001b[49m\n\u001b[1;32m   3630\u001b[0m \u001b[38;5;28;01mexcept\u001b[39;00m \u001b[38;5;167;01mKeyError\u001b[39;00m \u001b[38;5;28;01mas\u001b[39;00m err:\n",
      "File \u001b[0;32m~/opt/anaconda3/lib/python3.9/site-packages/pandas/_libs/index.pyx:136\u001b[0m, in \u001b[0;36mpandas._libs.index.IndexEngine.get_loc\u001b[0;34m()\u001b[0m\n",
      "File \u001b[0;32m~/opt/anaconda3/lib/python3.9/site-packages/pandas/_libs/index.pyx:163\u001b[0m, in \u001b[0;36mpandas._libs.index.IndexEngine.get_loc\u001b[0;34m()\u001b[0m\n",
      "File \u001b[0;32mpandas/_libs/hashtable_class_helper.pxi:5198\u001b[0m, in \u001b[0;36mpandas._libs.hashtable.PyObjectHashTable.get_item\u001b[0;34m()\u001b[0m\n",
      "File \u001b[0;32mpandas/_libs/hashtable_class_helper.pxi:5206\u001b[0m, in \u001b[0;36mpandas._libs.hashtable.PyObjectHashTable.get_item\u001b[0;34m()\u001b[0m\n",
      "\u001b[0;31mKeyError\u001b[0m: 'aaaaaaaaaaaaaaaaaaaaaaaaaaaaaah'",
      "\nThe above exception was the direct cause of the following exception:\n",
      "\u001b[0;31mKeyError\u001b[0m                                  Traceback (most recent call last)",
      "Cell \u001b[0;32mIn [20], line 1\u001b[0m\n\u001b[0;32m----> 1\u001b[0m df_count[\u001b[43mdf_count\u001b[49m\u001b[43m[\u001b[49m\u001b[43mword\u001b[49m\u001b[43m]\u001b[49m\u001b[38;5;241m!=\u001b[39m\u001b[38;5;241m0\u001b[39m][word]\n",
      "File \u001b[0;32m~/opt/anaconda3/lib/python3.9/site-packages/pandas/core/frame.py:3505\u001b[0m, in \u001b[0;36mDataFrame.__getitem__\u001b[0;34m(self, key)\u001b[0m\n\u001b[1;32m   3503\u001b[0m \u001b[38;5;28;01mif\u001b[39;00m \u001b[38;5;28mself\u001b[39m\u001b[38;5;241m.\u001b[39mcolumns\u001b[38;5;241m.\u001b[39mnlevels \u001b[38;5;241m>\u001b[39m \u001b[38;5;241m1\u001b[39m:\n\u001b[1;32m   3504\u001b[0m     \u001b[38;5;28;01mreturn\u001b[39;00m \u001b[38;5;28mself\u001b[39m\u001b[38;5;241m.\u001b[39m_getitem_multilevel(key)\n\u001b[0;32m-> 3505\u001b[0m indexer \u001b[38;5;241m=\u001b[39m \u001b[38;5;28;43mself\u001b[39;49m\u001b[38;5;241;43m.\u001b[39;49m\u001b[43mcolumns\u001b[49m\u001b[38;5;241;43m.\u001b[39;49m\u001b[43mget_loc\u001b[49m\u001b[43m(\u001b[49m\u001b[43mkey\u001b[49m\u001b[43m)\u001b[49m\n\u001b[1;32m   3506\u001b[0m \u001b[38;5;28;01mif\u001b[39;00m is_integer(indexer):\n\u001b[1;32m   3507\u001b[0m     indexer \u001b[38;5;241m=\u001b[39m [indexer]\n",
      "File \u001b[0;32m~/opt/anaconda3/lib/python3.9/site-packages/pandas/core/indexes/base.py:3631\u001b[0m, in \u001b[0;36mIndex.get_loc\u001b[0;34m(self, key, method, tolerance)\u001b[0m\n\u001b[1;32m   3629\u001b[0m     \u001b[38;5;28;01mreturn\u001b[39;00m \u001b[38;5;28mself\u001b[39m\u001b[38;5;241m.\u001b[39m_engine\u001b[38;5;241m.\u001b[39mget_loc(casted_key)\n\u001b[1;32m   3630\u001b[0m \u001b[38;5;28;01mexcept\u001b[39;00m \u001b[38;5;167;01mKeyError\u001b[39;00m \u001b[38;5;28;01mas\u001b[39;00m err:\n\u001b[0;32m-> 3631\u001b[0m     \u001b[38;5;28;01mraise\u001b[39;00m \u001b[38;5;167;01mKeyError\u001b[39;00m(key) \u001b[38;5;28;01mfrom\u001b[39;00m \u001b[38;5;21;01merr\u001b[39;00m\n\u001b[1;32m   3632\u001b[0m \u001b[38;5;28;01mexcept\u001b[39;00m \u001b[38;5;167;01mTypeError\u001b[39;00m:\n\u001b[1;32m   3633\u001b[0m     \u001b[38;5;66;03m# If we have a listlike key, _check_indexing_error will raise\u001b[39;00m\n\u001b[1;32m   3634\u001b[0m     \u001b[38;5;66;03m#  InvalidIndexError. Otherwise we fall through and re-raise\u001b[39;00m\n\u001b[1;32m   3635\u001b[0m     \u001b[38;5;66;03m#  the TypeError.\u001b[39;00m\n\u001b[1;32m   3636\u001b[0m     \u001b[38;5;28mself\u001b[39m\u001b[38;5;241m.\u001b[39m_check_indexing_error(key)\n",
      "\u001b[0;31mKeyError\u001b[0m: 'aaaaaaaaaaaaaaaaaaaaaaaaaaaaaah'"
     ]
    }
   ],
   "source": [
    "df_count[df_count[word]!=0][word]"
   ]
  },
  {
   "cell_type": "code",
   "execution_count": null,
   "id": "fb940445",
   "metadata": {},
   "outputs": [],
   "source": [
    "text = df_texts.loc[idx]['text']"
   ]
  },
  {
   "cell_type": "code",
   "execution_count": null,
   "id": "dd53bfff",
   "metadata": {},
   "outputs": [],
   "source": [
    "tokenizer(preprocessor(text))"
   ]
  },
  {
   "cell_type": "code",
   "execution_count": null,
   "id": "be869243",
   "metadata": {},
   "outputs": [],
   "source": [
    "def find_word(word):\n",
    "    return df_texts[df_texts['text'].str.contains(word)]"
   ]
  },
  {
   "cell_type": "code",
   "execution_count": null,
   "id": "911a4443",
   "metadata": {},
   "outputs": [],
   "source": [
    "df_words['c_count'].plot()"
   ]
  },
  {
   "cell_type": "code",
   "execution_count": null,
   "id": "d758803e",
   "metadata": {},
   "outputs": [],
   "source": [
    "df_words[df_words['c_count']<20]"
   ]
  },
  {
   "cell_type": "code",
   "execution_count": null,
   "id": "6468d37f",
   "metadata": {},
   "outputs": [],
   "source": [
    "find_word('aaaaaaaaaaaa')"
   ]
  },
  {
   "cell_type": "code",
   "execution_count": null,
   "id": "399d2e33",
   "metadata": {},
   "outputs": [],
   "source": [
    "df_texts.loc[50547]['text']"
   ]
  },
  {
   "cell_type": "code",
   "execution_count": null,
   "id": "d32409d3",
   "metadata": {},
   "outputs": [],
   "source": [
    "df_texts_recueil = pd.read_csv('data/demo/221123-TextInfox.csv')"
   ]
  },
  {
   "cell_type": "code",
   "execution_count": null,
   "id": "63370cd3",
   "metadata": {},
   "outputs": [],
   "source": [
    "df_texts_recueil"
   ]
  },
  {
   "cell_type": "code",
   "execution_count": null,
   "id": "58eac7b4",
   "metadata": {},
   "outputs": [],
   "source": [
    "df_texts_afp =  pd.read_csv('data/tmp/221118-TextsAfp.csv')"
   ]
  },
  {
   "cell_type": "code",
   "execution_count": null,
   "id": "7b3875f9",
   "metadata": {},
   "outputs": [],
   "source": [
    "df_texts_afp"
   ]
  },
  {
   "cell_type": "code",
   "execution_count": null,
   "id": "99478eff",
   "metadata": {},
   "outputs": [],
   "source": [
    "with open('data/tmp/221110-IgnoreLemmas.txt','r') as file:\n",
    "    ignore_words = file.read().split()"
   ]
  },
  {
   "cell_type": "code",
   "execution_count": null,
   "id": "d7d73714",
   "metadata": {},
   "outputs": [],
   "source": [
    "print(ignore_words[:100])\n",
    "print(len(ignore_words))"
   ]
  },
  {
   "cell_type": "code",
   "execution_count": null,
   "id": "f89c81ac",
   "metadata": {},
   "outputs": [],
   "source": [
    "df_words = pd.read_csv('data/prod/221125-InfoxWords.csv',index_col=0)"
   ]
  },
  {
   "cell_type": "code",
   "execution_count": null,
   "id": "08f10d8a",
   "metadata": {},
   "outputs": [],
   "source": [
    "df_words"
   ]
  },
  {
   "cell_type": "code",
   "execution_count": null,
   "id": "83874cc1",
   "metadata": {},
   "outputs": [],
   "source": [
    "ignore_words_small = list(df_words[df_words['common_80']].index)+list(df_words[df_words['rare_1']].index)\n",
    "ignore_words_medium = list(df_words[df_words['common_80']].index)+list(df_words[df_words['rare_2']].index)\n",
    "ignore_words_large = list(df_words[df_words['common_200']].index)+list(df_words[df_words['rare_5']].index)"
   ]
  },
  {
   "cell_type": "code",
   "execution_count": null,
   "id": "3a114df6",
   "metadata": {},
   "outputs": [],
   "source": [
    "common_80 = list(df_words[df_words['common_80']].index)\n",
    "common_200 = list(df_words[df_words['common_200']].index)"
   ]
  },
  {
   "cell_type": "code",
   "execution_count": null,
   "id": "a645ba40",
   "metadata": {},
   "outputs": [],
   "source": [
    "ignore_words_small.sort"
   ]
  },
  {
   "cell_type": "code",
   "execution_count": null,
   "id": "3ae8e78f",
   "metadata": {},
   "outputs": [],
   "source": [
    "len(ignore_words)"
   ]
  },
  {
   "cell_type": "markdown",
   "id": "f32351c1",
   "metadata": {},
   "source": [
    "# Experience\n",
    "---"
   ]
  },
  {
   "cell_type": "markdown",
   "id": "692002bb",
   "metadata": {},
   "source": [
    "## Feature Engineering"
   ]
  },
  {
   "cell_type": "markdown",
   "id": "cc4d845f",
   "metadata": {},
   "source": [
    "### Preprocessor"
   ]
  },
  {
   "cell_type": "code",
   "execution_count": null,
   "id": "2e6efc6d",
   "metadata": {},
   "outputs": [],
   "source": [
    "import patat.util.text\n",
    "\n",
    "importlib.reload(patat.util.text)\n",
    "preprocessor = patat.util.text.preprocess\n",
    "#preprocessor=None"
   ]
  },
  {
   "cell_type": "markdown",
   "id": "685b5cbb",
   "metadata": {},
   "source": [
    "### Tokenizer"
   ]
  },
  {
   "cell_type": "code",
   "execution_count": null,
   "id": "52367d50",
   "metadata": {},
   "outputs": [],
   "source": [
    "from patat.ml.lex_analyser import LexAnalyser\n",
    "\n",
    "lex = LexAnalyser()\n",
    "\n",
    "tokenizer = lex.get_lemmas_from_text"
   ]
  },
  {
   "cell_type": "markdown",
   "id": "414fb32f",
   "metadata": {},
   "source": [
    "### TfIdfVectorizer"
   ]
  },
  {
   "cell_type": "code",
   "execution_count": null,
   "id": "4f2e5c3b",
   "metadata": {},
   "outputs": [],
   "source": [
    "from sklearn.feature_extraction.text import CountVectorizer\n",
    "from sklearn.feature_extraction.text import TfidfVectorizer"
   ]
  },
  {
   "cell_type": "code",
   "execution_count": null,
   "id": "28886029",
   "metadata": {},
   "outputs": [],
   "source": [
    "#afp_size = 3000\n",
    "#afp_size = 120\n",
    "afp_size = 20\n",
    "#afp_size = 0\n",
    "df_ml = pd.concat([df_texts_recueil,df_texts_afp.sample(afp_size,random_state=random_state)])"
   ]
  },
  {
   "cell_type": "code",
   "execution_count": null,
   "id": "9c31a944",
   "metadata": {},
   "outputs": [],
   "source": [
    "%%time\n",
    "vectorizer = TfidfVectorizer(lowercase=True, preprocessor=preprocessor, tokenizer=tokenizer, stop_words=[])\n",
    "#vectorizer = CountVectorizer(lowercase=True, preprocessor=preprocessor, tokenizer=tokenizer, stop_words=ignore_words_small)\n",
    "count_matrix = vectorizer.fit_transform(df_ml['text'])\n",
    "count_array = count_matrix.toarray()\n",
    "df_tf = pd.DataFrame(data=count_array,columns = vectorizer.get_feature_names_out())\n",
    "df_tf.shape\n",
    "\n",
    "df_X = df_tf\n",
    "X = df_X\n",
    "\n",
    "len(df_X.keys())"
   ]
  },
  {
   "cell_type": "markdown",
   "id": "33f86f1f",
   "metadata": {},
   "source": [
    "### Dimension reduction"
   ]
  },
  {
   "cell_type": "raw",
   "id": "b3a1a224",
   "metadata": {},
   "source": [
    "from sklearn.decomposition import TruncatedSVD\n",
    "\n",
    "n_components=4096\n",
    "\n",
    "svd = TruncatedSVD(n_components=n_components, n_iter=7, random_state=random_state)\n",
    "svd.fit(df_X)\n",
    "#print(svd.explained_variance_ratio_)\n",
    "#print(svd.explained_variance_ratio_.sum())\n",
    "#print(svd.singular_values_)"
   ]
  },
  {
   "cell_type": "raw",
   "id": "2059d69d",
   "metadata": {},
   "source": [
    "X = svd.transform(df_X)"
   ]
  },
  {
   "cell_type": "markdown",
   "id": "0986e9dc",
   "metadata": {},
   "source": [
    "## Entrainement Sklearn"
   ]
  },
  {
   "cell_type": "code",
   "execution_count": null,
   "id": "1de04b32",
   "metadata": {},
   "outputs": [],
   "source": [
    "from sklearn.linear_model import LogisticRegression\n",
    "from sklearn.neural_network import MLPClassifier\n",
    "from sklearn.model_selection import train_test_split\n",
    "from sklearn.model_selection import cross_validate\n",
    "from sklearn import metrics"
   ]
  },
  {
   "cell_type": "code",
   "execution_count": null,
   "id": "0e295bab",
   "metadata": {},
   "outputs": [],
   "source": [
    "#X = df_X\n",
    "y=df_ml['infox']"
   ]
  },
  {
   "cell_type": "code",
   "execution_count": null,
   "id": "02acec77",
   "metadata": {},
   "outputs": [],
   "source": [
    "df_X.shape"
   ]
  },
  {
   "cell_type": "markdown",
   "id": "8ac7c3bd",
   "metadata": {},
   "source": [
    "### Initialisations"
   ]
  },
  {
   "cell_type": "code",
   "execution_count": null,
   "id": "bc1c23f7",
   "metadata": {},
   "outputs": [],
   "source": [
    "train_size=0.8\n",
    "X_train,X_test,y_train,y_test = train_test_split(X,y,random_state=random_state,train_size=train_size)"
   ]
  },
  {
   "cell_type": "code",
   "execution_count": null,
   "id": "4dcab8cc",
   "metadata": {},
   "outputs": [],
   "source": [
    "def print_metrics(y_train, y_test, y_pred):\n",
    "    print(f'Train size \\t{len(y_train)} = {int(len(y_train)-y_train.sum())} False + {int(y_train.sum())} True' )\n",
    "    print(f'Test size \\t{len(y_test)} = {int(len(y_test)-y_test.sum())} False + {int(y_test.sum())} True\\n' )\n",
    "    print(f'Accuracy score \\t{metrics.accuracy_score(y_test, y_pred)*100:.2f}%')\n",
    "    print(f'Recall score \\t{metrics.recall_score(y_test, y_pred)*100:.2f}%')\n",
    "    print(f'F1 score \\t{metrics.f1_score(y_test, y_pred)*100:.2f}%')\n",
    "    cnf_matrix = metrics.confusion_matrix(y_test, y_pred,normalize='all')\n",
    "    print(f'False Positive \\t{cnf_matrix[0,1]*100:.2f}%')\n",
    "    print(f'False Negative \\t{cnf_matrix[1,0]*100:.2f}%\\n')    "
   ]
  },
  {
   "cell_type": "markdown",
   "id": "d50cee43",
   "metadata": {},
   "source": [
    "### Dummy Classifier"
   ]
  },
  {
   "cell_type": "code",
   "execution_count": null,
   "id": "166f47ac",
   "metadata": {},
   "outputs": [],
   "source": [
    "from sklearn.dummy import DummyClassifier\n",
    "#strategies = ['most_frequent', 'prior', 'stratified', 'uniform']\n",
    "strategies = ['stratified', 'uniform']\n",
    "for strategy in strategies:\n",
    "    print('---------------')\n",
    "    print(f'Strategy : {strategy}\\n')\n",
    "    classifier = DummyClassifier(strategy=strategy, random_state=random_state)\n",
    "    classifier.fit(X_train, y_train)\n",
    "    y_pred = classifier.predict(X_test)\n",
    "    print_metrics(y_train, y_test, y_pred)"
   ]
  },
  {
   "cell_type": "markdown",
   "id": "df620150",
   "metadata": {},
   "source": [
    "### Confusion Matrix\n",
    "||Pred 0|Pred 1|\n",
    "|---|---|---|\n",
    "|**Test 0**|True Negative|False Positive|\n",
    "|**Test 1**|False Negative|True Positive|"
   ]
  },
  {
   "cell_type": "markdown",
   "id": "ec164f08",
   "metadata": {},
   "source": [
    "### LogisticRegression"
   ]
  },
  {
   "cell_type": "code",
   "execution_count": null,
   "id": "92db77d8",
   "metadata": {},
   "outputs": [],
   "source": [
    "max_iter=500\n",
    "#C=0.40\n",
    "C=100\n",
    "solver = 'lbfgs'"
   ]
  },
  {
   "cell_type": "code",
   "execution_count": null,
   "id": "9255fadb",
   "metadata": {},
   "outputs": [],
   "source": [
    "%%time\n",
    "classifier = LogisticRegression(C=C, random_state=random_state, solver=solver, max_iter=max_iter)\n",
    "classifier.fit(X_train, y_train)\n",
    "y_pred = classifier.predict(X_test)\n",
    "print(classifier)\n",
    "print()\n",
    "print_metrics(y_train, y_test, y_pred)"
   ]
  },
  {
   "cell_type": "code",
   "execution_count": null,
   "id": "c2b6af22",
   "metadata": {},
   "outputs": [],
   "source": [
    "# Cross validation\n",
    "max_iter=500\n",
    "#C=0.40\n",
    "C=1000\n",
    "solver = 'lbfgs'\n",
    "classifier = LogisticRegression(C=C, random_state=random_state, solver=solver, max_iter=max_iter)\n",
    "scoring = ['accuracy','recall','f1','roc_auc']\n",
    "scores = cross_validate(classifier, X, y, cv=5,scoring=scoring)\n",
    "for score in scores:\n",
    "    print(score)\n",
    "    print(scores[score])\n",
    "    print(f'Mean : {scores[score].mean()} - Deviation : {scores[score].std()}')\n",
    "#    print(f'Mean : {scores[score].mean()*100:.2f}%')\n",
    "#    print(f'Deviation : {scores[score].std()*100:.2f}%')\n"
   ]
  },
  {
   "cell_type": "markdown",
   "id": "ece468c8",
   "metadata": {},
   "source": [
    "### MLPClassifier"
   ]
  },
  {
   "cell_type": "code",
   "execution_count": null,
   "id": "7a890384",
   "metadata": {},
   "outputs": [],
   "source": [
    "alpha=1e-4\n",
    "hidden_layer_sizes=(8,8)\n",
    "solver = 'adam'\n",
    "solvers = ['lbfgs', 'sgd', 'adam']\n"
   ]
  },
  {
   "cell_type": "code",
   "execution_count": null,
   "id": "d024b101",
   "metadata": {},
   "outputs": [],
   "source": [
    "%%time\n",
    "\n",
    "classifier = MLPClassifier(solver=solver, alpha=alpha, hidden_layer_sizes=hidden_layer_sizes, random_state=random_state)\n",
    "classifier.fit(X_train, y_train)\n",
    "y_pred = classifier.predict(X_test)\n",
    "print(classifier)\n",
    "print()\n",
    "print_metrics(y_train, y_test, y_pred)"
   ]
  },
  {
   "cell_type": "code",
   "execution_count": null,
   "id": "354b44df",
   "metadata": {},
   "outputs": [],
   "source": [
    "%%time\n",
    "classifier = MLPClassifier(solver=solver, alpha=alpha, hidden_layer_sizes=hidden_layer_sizes, random_state=random_state)\n",
    "scoring = ['accuracy','recall','f1','roc_auc']\n",
    "scores = cross_validate(classifier, X, y, cv=5,scoring=scoring)\n",
    "for score in scores:\n",
    "    print(score)\n",
    "    print(scores[score])\n",
    "    print(f'Mean : {scores[score].mean()} - Deviation : {scores[score].std()}')\n",
    "#    print(f'Mean : {scores[score].mean()*100:.2f}%')\n",
    "#    print(f'Deviation : {scores[score].std()*100:.2f}%')"
   ]
  },
  {
   "cell_type": "markdown",
   "id": "dd719e8d",
   "metadata": {},
   "source": [
    "## Keras"
   ]
  },
  {
   "cell_type": "code",
   "execution_count": null,
   "id": "4d9fd796",
   "metadata": {},
   "outputs": [],
   "source": [
    "import tensorflow as tf\n",
    "tf.keras.utils.set_random_seed(random_state)"
   ]
  },
  {
   "cell_type": "code",
   "execution_count": null,
   "id": "39b18776",
   "metadata": {},
   "outputs": [],
   "source": [
    "learn_size=0.90\n",
    "X_learn,X_valid,y_learn,y_valid = train_test_split(X_train,y_train,random_state=random_state,train_size=learn_size)"
   ]
  },
  {
   "cell_type": "code",
   "execution_count": null,
   "id": "50633b24",
   "metadata": {},
   "outputs": [],
   "source": [
    "from tensorflow import keras\n",
    "from tensorflow.keras import layers\n",
    "\n",
    "model = keras.Sequential([\n",
    "    layers.Dense(256, activation='relu', input_shape=[X.shape[1]]),\n",
    "    layers.Dense(64, activation='relu'),    \n",
    "    layers.GaussianDropout(0.40, seed=random_state),\n",
    "    layers.Dense(1, activation='sigmoid'),\n",
    "])"
   ]
  },
  {
   "cell_type": "code",
   "execution_count": null,
   "id": "4b900774",
   "metadata": {},
   "outputs": [],
   "source": [
    "from tensorflow import keras\n",
    "from tensorflow.keras import layers\n",
    "\n",
    "model = keras.Sequential([\n",
    "    layers.Input(X.shape[1]),    \n",
    "    layers.Dropout(0.40, seed=random_state),\n",
    "    layers.Dense(8, activation='relu'),\n",
    "#    layers.Dense(8, activation='relu'),    \n",
    "    layers.Dropout(0.40, seed=random_state),\n",
    "#    layers.Dense(8, activation='relu'),\n",
    "#    layers.Dropout(0.40, seed=random_state),\n",
    "    layers.Dense(1, activation='sigmoid'),\n",
    "])"
   ]
  },
  {
   "cell_type": "code",
   "execution_count": null,
   "id": "c86bc6cd",
   "metadata": {},
   "outputs": [],
   "source": [
    "model.compile(\n",
    "    optimizer='adam',\n",
    "    loss='binary_crossentropy',\n",
    "#    metrics=['binary_accuracy'],\n",
    "    metrics=[tf.keras.metrics.AUC()],\n",
    "    \n",
    ")"
   ]
  },
  {
   "cell_type": "code",
   "execution_count": null,
   "id": "36c822ac",
   "metadata": {},
   "outputs": [],
   "source": [
    "%%time\n",
    "epoch = 10\n",
    "\n",
    "early_stopping = keras.callbacks.EarlyStopping(\n",
    "    patience=10,\n",
    "    min_delta=0.0001,\n",
    "    restore_best_weights=True,\n",
    ")\n",
    "\n",
    "history = model.fit(\n",
    "#    X_train.to_numpy(), y_train.to_numpy(),\n",
    "#    validation_split=0.2,\n",
    "    X_learn.to_numpy(), y_learn.to_numpy(),\n",
    "    validation_data=(X_valid.to_numpy(), y_valid.to_numpy()),\n",
    "    batch_size=24,\n",
    "    epochs=epoch,\n",
    "#    callbacks=[early_stopping],\n",
    "    shuffle=True,\n",
    ")"
   ]
  },
  {
   "cell_type": "code",
   "execution_count": null,
   "id": "68574b05",
   "metadata": {},
   "outputs": [],
   "source": [
    "history_df = pd.DataFrame(history.history)\n",
    "history_df.loc[:, ['loss', 'val_loss']].plot(title=\"Cross-entropy\")\n",
    "history_df.loc[:, ['auc_1', 'val_auc_1']].plot(title=\"AUC\")#history_df.loc[:, ['binary_accuracy', 'val_binary_accuracy']].plot(title=\"Accuracy\")\n",
    "#history_df.loc[:, ['binary_accuracy', 'val_binary_accuracy']].plot(title=\"Accuracy\")#history_df.loc[:, ['binary_accuracy', 'val_binary_accuracy']].plot(title=\"Accuracy\")\n",
    "\n",
    "\n",
    "\n",
    "\n",
    "\n",
    "\n"
   ]
  },
  {
   "cell_type": "code",
   "execution_count": null,
   "id": "8623933f",
   "metadata": {},
   "outputs": [],
   "source": [
    "history_df"
   ]
  },
  {
   "cell_type": "code",
   "execution_count": null,
   "id": "19ef7c75",
   "metadata": {},
   "outputs": [],
   "source": [
    "y_pred = model.predict(X_test.to_numpy())\n",
    "y_pred = y_pred.round()\n",
    "print(model)\n",
    "print()\n",
    "print_metrics(y_train, y_test, y_pred)"
   ]
  },
  {
   "cell_type": "code",
   "execution_count": null,
   "id": "2ffe972d",
   "metadata": {},
   "outputs": [],
   "source": [
    "model.summary()"
   ]
  },
  {
   "cell_type": "markdown",
   "id": "76996d3a",
   "metadata": {},
   "source": [
    "# Sauvegarde des résultats\n",
    "---"
   ]
  },
  {
   "cell_type": "markdown",
   "id": "fb7949bc",
   "metadata": {},
   "source": [
    "# Conclusions\n",
    "---"
   ]
  },
  {
   "cell_type": "markdown",
   "id": "bd06b261",
   "metadata": {},
   "source": [
    "- "
   ]
  },
  {
   "cell_type": "markdown",
   "id": "bd360655",
   "metadata": {},
   "source": [
    "# Bricolages\n",
    "---"
   ]
  },
  {
   "cell_type": "code",
   "execution_count": null,
   "id": "045b38e4",
   "metadata": {},
   "outputs": [],
   "source": [
    "print(\"Num GPUs Available: \", len(tf.config.experimental.list_physical_devices('GPU')))"
   ]
  },
  {
   "cell_type": "code",
   "execution_count": null,
   "id": "05d626d9",
   "metadata": {},
   "outputs": [],
   "source": [
    "tf.config.list_physical_devices()"
   ]
  },
  {
   "cell_type": "code",
   "execution_count": null,
   "id": "a5f101bd",
   "metadata": {},
   "outputs": [],
   "source": [
    "tf.device(\"/CPU:0\")"
   ]
  },
  {
   "cell_type": "code",
   "execution_count": null,
   "id": "6acae5b8",
   "metadata": {},
   "outputs": [],
   "source": [
    "tf.debugging.set_log_device_placement(True)\n",
    "\n",
    "# Place tensors on the CPU\n",
    "with tf.device('/GPU:0'):\n",
    "  a = tf.constant([[1.0, 2.0, 3.0], [4.0, 5.0, 6.0]])\n",
    "  b = tf.constant([[1.0, 2.0], [3.0, 4.0], [5.0, 6.0]])\n",
    "\n",
    "# Run on the GPU\n",
    "c = tf.matmul(a, b)\n",
    "print(c)"
   ]
  },
  {
   "cell_type": "code",
   "execution_count": null,
   "id": "90438ac7",
   "metadata": {},
   "outputs": [],
   "source": [
    "tf.debugging.set_log_device_placement(True)"
   ]
  },
  {
   "cell_type": "code",
   "execution_count": null,
   "id": "f5fbcdd6",
   "metadata": {},
   "outputs": [],
   "source": [
    "tf.config.list_physical_devices('GPU')"
   ]
  },
  {
   "cell_type": "code",
   "execution_count": null,
   "id": "b9d684f3",
   "metadata": {},
   "outputs": [],
   "source": [
    "df_words['word']=df_words.index"
   ]
  },
  {
   "cell_type": "code",
   "execution_count": null,
   "id": "c6d05249",
   "metadata": {},
   "outputs": [],
   "source": [
    "df_words['c_count']=df_words['word'].apply(len)"
   ]
  },
  {
   "cell_type": "code",
   "execution_count": null,
   "id": "ca9c58e8",
   "metadata": {},
   "outputs": [],
   "source": [
    "df_words.sort_values('c_count',ascending=False).head(30)"
   ]
  },
  {
   "cell_type": "code",
   "execution_count": null,
   "id": "7cd4a5a5",
   "metadata": {},
   "outputs": [],
   "source": [
    "df_"
   ]
  }
 ],
 "metadata": {
  "kernelspec": {
   "display_name": "Python 3 (ipykernel)",
   "language": "python",
   "name": "python3"
  },
  "language_info": {
   "codemirror_mode": {
    "name": "ipython",
    "version": 3
   },
   "file_extension": ".py",
   "mimetype": "text/x-python",
   "name": "python",
   "nbconvert_exporter": "python",
   "pygments_lexer": "ipython3",
   "version": "3.9.15"
  }
 },
 "nbformat": 4,
 "nbformat_minor": 5
}
