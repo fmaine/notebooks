{
 "cells": [
  {
   "cell_type": "markdown",
   "id": "e3ec4689",
   "metadata": {},
   "source": [
    "\n",
    "\n",
    "\n",
    "# Plateforme Automatisée de Traitement et d'Analyse des Textes\n",
    "### Carnet d'expérimentation\n",
    "---\n",
    "\n",
    "## Sujet : ObsInfo2309-Annotation niveau paragraphe\n",
    "\n",
    "---"
   ]
  },
  {
   "cell_type": "markdown",
   "id": "2601e626",
   "metadata": {},
   "source": [
    "# Observations et environnement\n",
    "---"
   ]
  },
  {
   "cell_type": "markdown",
   "id": "85c0f3b8",
   "metadata": {},
   "source": [
    "## Environnement"
   ]
  },
  {
   "cell_type": "code",
   "execution_count": null,
   "id": "525fef74",
   "metadata": {},
   "outputs": [],
   "source": [
    "_rs = 42"
   ]
  },
  {
   "cell_type": "code",
   "execution_count": null,
   "id": "5d0de4d7",
   "metadata": {},
   "outputs": [],
   "source": [
    "cd ../.."
   ]
  },
  {
   "cell_type": "code",
   "execution_count": null,
   "id": "32256b0d",
   "metadata": {},
   "outputs": [],
   "source": [
    "import ast\n",
    "import importlib\n",
    "import pandas as pd\n",
    "import seaborn as sns\n",
    "from tqdm.notebook import tqdm\n",
    "tqdm.pandas()"
   ]
  },
  {
   "cell_type": "markdown",
   "id": "4b0b7201",
   "metadata": {},
   "source": [
    "## Données"
   ]
  },
  {
   "cell_type": "code",
   "execution_count": null,
   "id": "361593c6",
   "metadata": {},
   "outputs": [],
   "source": [
    "import patat.util.gsheet\n",
    "\n",
    "gs = patat.util.gsheet.GoogleSheet()"
   ]
  },
  {
   "cell_type": "code",
   "execution_count": null,
   "id": "bd142643",
   "metadata": {},
   "outputs": [],
   "source": [
    "sheet_id = '1rVgAnv7FwFqWUUmjE72AP_YEmf9v6DaZ-_20jZ6MKTg'\n",
    "range_name = 'Sélection'\n",
    "\n",
    "df_obsinfo2307 = gs.read_df(sheet_id,range_name)\n",
    "df_obsinfo2307"
   ]
  },
  {
   "cell_type": "code",
   "execution_count": null,
   "id": "94420655",
   "metadata": {},
   "outputs": [],
   "source": [
    "import patat.util.file\n",
    "\n",
    "filename = 'data/prod/230713-Corpus.pickle'\n",
    "\n",
    "df_corpus = patat.util.file.pickle_load(filename)"
   ]
  },
  {
   "cell_type": "code",
   "execution_count": null,
   "id": "68ada2f1",
   "metadata": {},
   "outputs": [],
   "source": [
    "import patat.db.article_db\n",
    "article_db = patat.db.article_db.ArticleDb()\n",
    "df_corpus = article_db.df().copy()"
   ]
  },
  {
   "cell_type": "code",
   "execution_count": null,
   "id": "4e29789d",
   "metadata": {},
   "outputs": [],
   "source": [
    "import patat.util.text"
   ]
  },
  {
   "cell_type": "code",
   "execution_count": null,
   "id": "25ab3e4a",
   "metadata": {},
   "outputs": [],
   "source": [
    "article_db.get_article_data_h('3494ad0901a73fc6ceb2f74ac4ac1930af42b363')"
   ]
  },
  {
   "cell_type": "code",
   "execution_count": null,
   "id": "af21c786",
   "metadata": {},
   "outputs": [],
   "source": [
    "df_corpus[df_corpus['url_h']=='3494ad0901a73fc6ceb2f74ac4ac1930af42b363']"
   ]
  },
  {
   "cell_type": "code",
   "execution_count": null,
   "id": "da5a35ce",
   "metadata": {},
   "outputs": [],
   "source": [
    "df_obsinfo2307 = pd.merge(df_obsinfo2307['url_h'],df_corpus)"
   ]
  },
  {
   "cell_type": "code",
   "execution_count": null,
   "id": "8d4e2966",
   "metadata": {},
   "outputs": [],
   "source": [
    "df_obsinfo2307"
   ]
  },
  {
   "cell_type": "code",
   "execution_count": null,
   "id": "100d7c38",
   "metadata": {},
   "outputs": [],
   "source": [
    "df_obsinfo2307['num_article']=df_obsinfo2307.index"
   ]
  },
  {
   "cell_type": "code",
   "execution_count": null,
   "id": "a3e8fd54",
   "metadata": {},
   "outputs": [],
   "source": [
    "parags=[] \n",
    "for index,row in df_obsinfo2307.iterrows():\n",
    "    parags.append({\n",
    "        'url': row['url'],\n",
    "        'url_h': row['url_h'],        \n",
    "        'num_article': row['num_article'],\n",
    "        'num_parag': 0,\n",
    "        'paragraph': row['title'],\n",
    "    })\n",
    "    for i,p in enumerate(row['paragraphs']):\n",
    "        parags.append({\n",
    "            'url': row['url'],\n",
    "            'url_h': row['url_h'],        \n",
    "            'num_article': row['num_article'],\n",
    "            'num_parag': i+1,\n",
    "            'paragraph': p,\n",
    "        })"
   ]
  },
  {
   "cell_type": "code",
   "execution_count": null,
   "id": "62bd8f1b",
   "metadata": {},
   "outputs": [],
   "source": [
    "df_parag = pd.DataFrame(parags)"
   ]
  },
  {
   "cell_type": "code",
   "execution_count": null,
   "id": "24b714f6",
   "metadata": {},
   "outputs": [],
   "source": [
    "df_parag"
   ]
  },
  {
   "cell_type": "code",
   "execution_count": null,
   "id": "015a6ce4",
   "metadata": {},
   "outputs": [],
   "source": [
    "df_parag['c_count']=df_parag['paragraph'].apply(len)"
   ]
  },
  {
   "cell_type": "code",
   "execution_count": null,
   "id": "bb67e85b",
   "metadata": {},
   "outputs": [],
   "source": [
    "sns.displot(df_parag,x='c_count')"
   ]
  },
  {
   "cell_type": "code",
   "execution_count": null,
   "id": "acdebff2",
   "metadata": {},
   "outputs": [],
   "source": [
    "df_parag_shuffle = df_parag.sample(frac=1,random_state=_rs)"
   ]
  },
  {
   "cell_type": "code",
   "execution_count": null,
   "id": "d5985bb6",
   "metadata": {},
   "outputs": [],
   "source": [
    "df_parag_shuffle"
   ]
  },
  {
   "cell_type": "markdown",
   "id": "76996d3a",
   "metadata": {},
   "source": [
    "# Sauvegarde des résultats\n",
    "---"
   ]
  },
  {
   "cell_type": "code",
   "execution_count": null,
   "id": "7d2291d9",
   "metadata": {},
   "outputs": [],
   "source": [
    "df_parag.to_csv('data/tmp/230908-ObsInfo2309Prepa.csv',index=False)"
   ]
  },
  {
   "cell_type": "code",
   "execution_count": null,
   "id": "b9dd7c9f",
   "metadata": {},
   "outputs": [],
   "source": [
    "df_parag_shuffle.to_csv('data/tmp/230919-ObsInfo2309Shuffle.csv',index=False)"
   ]
  },
  {
   "cell_type": "code",
   "execution_count": null,
   "id": "f39f8729",
   "metadata": {},
   "outputs": [],
   "source": []
  },
  {
   "cell_type": "markdown",
   "id": "fb7949bc",
   "metadata": {},
   "source": [
    "# Conclusions\n",
    "---"
   ]
  },
  {
   "cell_type": "markdown",
   "id": "bd360655",
   "metadata": {},
   "source": [
    "# Bricolages\n",
    "---"
   ]
  },
  {
   "cell_type": "code",
   "execution_count": null,
   "id": "f9862890",
   "metadata": {},
   "outputs": [],
   "source": [
    "import os\n",
    "import openai"
   ]
  },
  {
   "cell_type": "code",
   "execution_count": null,
   "id": "6ab100d2",
   "metadata": {},
   "outputs": [],
   "source": [
    "openai.organization = os.getenv(\"OPENAI_ORG_ID\")\n",
    "openai.api_key = os.getenv(\"OPENAI_API_KEY\")\n"
   ]
  },
  {
   "cell_type": "code",
   "execution_count": null,
   "id": "6f056497",
   "metadata": {},
   "outputs": [],
   "source": [
    "model_list = openai.Model.list()"
   ]
  },
  {
   "cell_type": "code",
   "execution_count": null,
   "id": "838f2633",
   "metadata": {},
   "outputs": [],
   "source": [
    "[model['id'] for model in model_list['data']]"
   ]
  },
  {
   "cell_type": "code",
   "execution_count": null,
   "id": "3917c692",
   "metadata": {},
   "outputs": [],
   "source": []
  }
 ],
 "metadata": {
  "kernelspec": {
   "display_name": "Python 3 (ipykernel)",
   "language": "python",
   "name": "python3"
  },
  "language_info": {
   "codemirror_mode": {
    "name": "ipython",
    "version": 3
   },
   "file_extension": ".py",
   "mimetype": "text/x-python",
   "name": "python",
   "nbconvert_exporter": "python",
   "pygments_lexer": "ipython3",
   "version": "3.9.16"
  }
 },
 "nbformat": 4,
 "nbformat_minor": 5
}
