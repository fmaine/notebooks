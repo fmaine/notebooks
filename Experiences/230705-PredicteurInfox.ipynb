{
 "cells": [
  {
   "cell_type": "markdown",
   "id": "e3ec4689",
   "metadata": {},
   "source": [
    "# Plateforme Agnostique de Traitement et d'Analyse des Textes\n",
    "### Carnet d'expérimentation\n",
    "---\n",
    "\n",
    "## Sujet : Predicteur Infox\n",
    "\n",
    "\n",
    "---"
   ]
  },
  {
   "cell_type": "markdown",
   "id": "2601e626",
   "metadata": {},
   "source": [
    "# Initialisations\n",
    "---"
   ]
  },
  {
   "cell_type": "code",
   "execution_count": 1,
   "id": "525fef74",
   "metadata": {},
   "outputs": [],
   "source": [
    "_rs = 42"
   ]
  },
  {
   "cell_type": "code",
   "execution_count": 2,
   "id": "5d0de4d7",
   "metadata": {},
   "outputs": [
    {
     "name": "stdout",
     "output_type": "stream",
     "text": [
      "/Volumes/Geek/Work/Patat\n"
     ]
    }
   ],
   "source": [
    "cd ../.."
   ]
  },
  {
   "cell_type": "code",
   "execution_count": 3,
   "id": "32256b0d",
   "metadata": {},
   "outputs": [],
   "source": [
    "import ast\n",
    "import importlib\n",
    "import pandas as pd\n",
    "import seaborn as sns\n",
    "from tqdm.notebook import tqdm\n",
    "tqdm.pandas()"
   ]
  },
  {
   "cell_type": "markdown",
   "id": "b9b13f54",
   "metadata": {},
   "source": [
    "# Préparation Données\n",
    "\n",
    "---"
   ]
  },
  {
   "cell_type": "markdown",
   "id": "18533365",
   "metadata": {},
   "source": [
    "## Chargements"
   ]
  },
  {
   "cell_type": "code",
   "execution_count": 4,
   "id": "b435d360",
   "metadata": {},
   "outputs": [],
   "source": [
    "import patat.util.file\n",
    "\n",
    "filename = 'data/tmp/230603-df_ml.pickle'\n",
    "\n",
    "df_ml = patat.util.file.pickle_load(filename)"
   ]
  },
  {
   "cell_type": "code",
   "execution_count": 5,
   "id": "91f65374",
   "metadata": {},
   "outputs": [],
   "source": [
    "stopwords = patat.util.file.pickle_load('data/tmp/stopwords.pickle')"
   ]
  },
  {
   "cell_type": "code",
   "execution_count": 6,
   "id": "f88c9055",
   "metadata": {},
   "outputs": [
    {
     "data": {
      "text/html": [
       "<div>\n",
       "<style scoped>\n",
       "    .dataframe tbody tr th:only-of-type {\n",
       "        vertical-align: middle;\n",
       "    }\n",
       "\n",
       "    .dataframe tbody tr th {\n",
       "        vertical-align: top;\n",
       "    }\n",
       "\n",
       "    .dataframe thead th {\n",
       "        text-align: right;\n",
       "    }\n",
       "</style>\n",
       "<table border=\"1\" class=\"dataframe\">\n",
       "  <thead>\n",
       "    <tr style=\"text-align: right;\">\n",
       "      <th></th>\n",
       "      <th>text</th>\n",
       "      <th>infox</th>\n",
       "    </tr>\n",
       "  </thead>\n",
       "  <tbody>\n",
       "    <tr>\n",
       "      <th>609</th>\n",
       "      <td>Guerre en Ukraine: Emmanuel Macron prévient le...</td>\n",
       "      <td>0.0</td>\n",
       "    </tr>\n",
       "    <tr>\n",
       "      <th>705</th>\n",
       "      <td>La vaccination Covid : un marquage de « type b...</td>\n",
       "      <td>0.0</td>\n",
       "    </tr>\n",
       "    <tr>\n",
       "      <th>26</th>\n",
       "      <td>Colonialisme énergétique\\nVisite d’État du pré...</td>\n",
       "      <td>0.0</td>\n",
       "    </tr>\n",
       "    <tr>\n",
       "      <th>565</th>\n",
       "      <td>De l’importance d’une Assemblée vraiment natio...</td>\n",
       "      <td>0.0</td>\n",
       "    </tr>\n",
       "    <tr>\n",
       "      <th>231</th>\n",
       "      <td>Quelle politique migratoire pour la France ? –...</td>\n",
       "      <td>0.0</td>\n",
       "    </tr>\n",
       "    <tr>\n",
       "      <th>...</th>\n",
       "      <td>...</td>\n",
       "      <td>...</td>\n",
       "    </tr>\n",
       "    <tr>\n",
       "      <th>112</th>\n",
       "      <td>Des scientifiques de Harvard et de Johns Hopki...</td>\n",
       "      <td>1.0</td>\n",
       "    </tr>\n",
       "    <tr>\n",
       "      <th>157</th>\n",
       "      <td>L’armée russe achète des exemplaires d’armemen...</td>\n",
       "      <td>1.0</td>\n",
       "    </tr>\n",
       "    <tr>\n",
       "      <th>522</th>\n",
       "      <td>ONU – Le Premier ministre de Nouvelle-Zélande ...</td>\n",
       "      <td>1.0</td>\n",
       "    </tr>\n",
       "    <tr>\n",
       "      <th>847</th>\n",
       "      <td>Pandémie ou le retour du grand Pan\\nAu cours d...</td>\n",
       "      <td>1.0</td>\n",
       "    </tr>\n",
       "    <tr>\n",
       "      <th>151</th>\n",
       "      <td>Le président Trump dénonce la corruption de la...</td>\n",
       "      <td>1.0</td>\n",
       "    </tr>\n",
       "  </tbody>\n",
       "</table>\n",
       "<p>746 rows × 2 columns</p>\n",
       "</div>"
      ],
      "text/plain": [
       "                                                  text  infox\n",
       "609  Guerre en Ukraine: Emmanuel Macron prévient le...    0.0\n",
       "705  La vaccination Covid : un marquage de « type b...    0.0\n",
       "26   Colonialisme énergétique\\nVisite d’État du pré...    0.0\n",
       "565  De l’importance d’une Assemblée vraiment natio...    0.0\n",
       "231  Quelle politique migratoire pour la France ? –...    0.0\n",
       "..                                                 ...    ...\n",
       "112  Des scientifiques de Harvard et de Johns Hopki...    1.0\n",
       "157  L’armée russe achète des exemplaires d’armemen...    1.0\n",
       "522  ONU – Le Premier ministre de Nouvelle-Zélande ...    1.0\n",
       "847  Pandémie ou le retour du grand Pan\\nAu cours d...    1.0\n",
       "151  Le président Trump dénonce la corruption de la...    1.0\n",
       "\n",
       "[746 rows x 2 columns]"
      ]
     },
     "execution_count": 6,
     "metadata": {},
     "output_type": "execute_result"
    }
   ],
   "source": [
    "df_ml"
   ]
  },
  {
   "cell_type": "markdown",
   "id": "fb7949bc",
   "metadata": {},
   "source": [
    "# Entrainement prédicteur\n",
    "---"
   ]
  },
  {
   "cell_type": "markdown",
   "id": "24ef2e77",
   "metadata": {},
   "source": [
    "## Preprocessing"
   ]
  },
  {
   "cell_type": "code",
   "execution_count": 7,
   "id": "174864d6",
   "metadata": {},
   "outputs": [],
   "source": [
    "import patat.util.text"
   ]
  },
  {
   "cell_type": "code",
   "execution_count": 8,
   "id": "8324445b",
   "metadata": {},
   "outputs": [],
   "source": [
    "import re"
   ]
  },
  {
   "cell_type": "code",
   "execution_count": 9,
   "id": "02f6873b",
   "metadata": {},
   "outputs": [],
   "source": [
    "def preprocess(text):\n",
    "    text = patat.util.text.preprocess(text)\n",
    "    # Remove numbers\n",
    "    text = re.sub(r'\\d+','',text)\n",
    "    return text"
   ]
  },
  {
   "cell_type": "code",
   "execution_count": 10,
   "id": "d26882bb",
   "metadata": {},
   "outputs": [],
   "source": [
    "df_ml['text_p']=df_ml['text'].apply(preprocess)"
   ]
  },
  {
   "cell_type": "markdown",
   "id": "43dd4b13",
   "metadata": {},
   "source": [
    "## Reduction du nombre de paragraphes"
   ]
  },
  {
   "cell_type": "code",
   "execution_count": null,
   "id": "85a3f672",
   "metadata": {},
   "outputs": [],
   "source": [
    "nb_parags = 13\n",
    "def cut_text(text):\n",
    "    return '\\n'.join(text.split('\\n')[:nb_parags])"
   ]
  },
  {
   "cell_type": "code",
   "execution_count": null,
   "id": "0673f8d3",
   "metadata": {},
   "outputs": [],
   "source": [
    "df_ml['text_ml']=df_ml['text_p'].apply(cut_text)"
   ]
  },
  {
   "cell_type": "markdown",
   "id": "d09c1980",
   "metadata": {},
   "source": [
    "## Entrainement pipeline sur l'ensemble du corpus"
   ]
  },
  {
   "cell_type": "code",
   "execution_count": 11,
   "id": "cb645a88",
   "metadata": {},
   "outputs": [],
   "source": [
    "from sklearn.feature_extraction.text import TfidfVectorizer\n",
    "from sklearn.neural_network import MLPClassifier\n",
    "from sklearn.linear_model import LogisticRegression\n",
    "from sklearn.model_selection import cross_validate\n",
    "from sklearn import metrics\n",
    "from sklearn.pipeline import Pipeline, make_pipeline"
   ]
  },
  {
   "cell_type": "code",
   "execution_count": 12,
   "id": "c85bf030",
   "metadata": {},
   "outputs": [],
   "source": [
    "#classifier = LogisticRegression(C=150, random_state=_rs, solver='lbfgs', multi_class='ovr', max_iter=1000)\n",
    "classifier = LogisticRegression(C=150, random_state=_rs, max_iter=1000)\n",
    "#classifier = MLPClassifier()"
   ]
  },
  {
   "cell_type": "code",
   "execution_count": 13,
   "id": "920f7b40",
   "metadata": {},
   "outputs": [],
   "source": [
    "sw = stopwords[:120]\n",
    "#sw = stopwords"
   ]
  },
  {
   "cell_type": "code",
   "execution_count": 14,
   "id": "2994dc80",
   "metadata": {},
   "outputs": [],
   "source": [
    "#vectorizer = TfidfVectorizer(stop_words=sw,ngram_range=(2,3))\n",
    "vectorizer = TfidfVectorizer(stop_words=sw)"
   ]
  },
  {
   "cell_type": "code",
   "execution_count": 15,
   "id": "20e04a65",
   "metadata": {},
   "outputs": [],
   "source": [
    "pipe = make_pipeline(vectorizer, classifier)"
   ]
  },
  {
   "cell_type": "code",
   "execution_count": 16,
   "id": "8fbd525c",
   "metadata": {},
   "outputs": [],
   "source": [
    "df_ml = df_ml.sample(frac=1,random_state=_rs)"
   ]
  },
  {
   "cell_type": "code",
   "execution_count": 18,
   "id": "231fbd5f",
   "metadata": {},
   "outputs": [],
   "source": [
    "X = df_ml['text_p']\n",
    "y = df_ml['infox']"
   ]
  },
  {
   "cell_type": "markdown",
   "id": "a0df8ad3",
   "metadata": {},
   "source": [
    "## Crossvalidation"
   ]
  },
  {
   "cell_type": "code",
   "execution_count": 19,
   "id": "fa1630cf",
   "metadata": {},
   "outputs": [],
   "source": [
    "scores = cross_validate(pipe, X, y, cv=5,\n",
    "                        scoring=('accuracy','f1','recall','roc_auc'))"
   ]
  },
  {
   "cell_type": "code",
   "execution_count": 20,
   "id": "e8a6f75e",
   "metadata": {},
   "outputs": [
    {
     "data": {
      "text/html": [
       "<div>\n",
       "<style scoped>\n",
       "    .dataframe tbody tr th:only-of-type {\n",
       "        vertical-align: middle;\n",
       "    }\n",
       "\n",
       "    .dataframe tbody tr th {\n",
       "        vertical-align: top;\n",
       "    }\n",
       "\n",
       "    .dataframe thead th {\n",
       "        text-align: right;\n",
       "    }\n",
       "</style>\n",
       "<table border=\"1\" class=\"dataframe\">\n",
       "  <thead>\n",
       "    <tr style=\"text-align: right;\">\n",
       "      <th></th>\n",
       "      <th>fit_time</th>\n",
       "      <th>score_time</th>\n",
       "      <th>test_accuracy</th>\n",
       "      <th>test_f1</th>\n",
       "      <th>test_recall</th>\n",
       "      <th>test_roc_auc</th>\n",
       "    </tr>\n",
       "  </thead>\n",
       "  <tbody>\n",
       "    <tr>\n",
       "      <th>0</th>\n",
       "      <td>0.606859</td>\n",
       "      <td>0.099171</td>\n",
       "      <td>0.760000</td>\n",
       "      <td>0.760000</td>\n",
       "      <td>0.760000</td>\n",
       "      <td>0.839467</td>\n",
       "    </tr>\n",
       "    <tr>\n",
       "      <th>1</th>\n",
       "      <td>0.418433</td>\n",
       "      <td>0.118089</td>\n",
       "      <td>0.791946</td>\n",
       "      <td>0.791946</td>\n",
       "      <td>0.797297</td>\n",
       "      <td>0.849730</td>\n",
       "    </tr>\n",
       "    <tr>\n",
       "      <th>2</th>\n",
       "      <td>0.543932</td>\n",
       "      <td>0.094444</td>\n",
       "      <td>0.785235</td>\n",
       "      <td>0.780822</td>\n",
       "      <td>0.770270</td>\n",
       "      <td>0.880721</td>\n",
       "    </tr>\n",
       "    <tr>\n",
       "      <th>3</th>\n",
       "      <td>0.410953</td>\n",
       "      <td>0.101542</td>\n",
       "      <td>0.791946</td>\n",
       "      <td>0.797386</td>\n",
       "      <td>0.813333</td>\n",
       "      <td>0.865405</td>\n",
       "    </tr>\n",
       "    <tr>\n",
       "      <th>4</th>\n",
       "      <td>0.517160</td>\n",
       "      <td>0.103585</td>\n",
       "      <td>0.778523</td>\n",
       "      <td>0.772414</td>\n",
       "      <td>0.746667</td>\n",
       "      <td>0.843243</td>\n",
       "    </tr>\n",
       "  </tbody>\n",
       "</table>\n",
       "</div>"
      ],
      "text/plain": [
       "   fit_time  score_time  test_accuracy   test_f1  test_recall  test_roc_auc\n",
       "0  0.606859    0.099171       0.760000  0.760000     0.760000      0.839467\n",
       "1  0.418433    0.118089       0.791946  0.791946     0.797297      0.849730\n",
       "2  0.543932    0.094444       0.785235  0.780822     0.770270      0.880721\n",
       "3  0.410953    0.101542       0.791946  0.797386     0.813333      0.865405\n",
       "4  0.517160    0.103585       0.778523  0.772414     0.746667      0.843243"
      ]
     },
     "execution_count": 20,
     "metadata": {},
     "output_type": "execute_result"
    }
   ],
   "source": [
    "df_scores=pd.DataFrame(scores)\n",
    "df_scores"
   ]
  },
  {
   "cell_type": "code",
   "execution_count": 21,
   "id": "a8011ace",
   "metadata": {},
   "outputs": [
    {
     "data": {
      "text/plain": [
       "fit_time         0.499467\n",
       "score_time       0.103366\n",
       "test_accuracy    0.781530\n",
       "test_f1          0.780514\n",
       "test_recall      0.777514\n",
       "test_roc_auc     0.855713\n",
       "dtype: float64"
      ]
     },
     "execution_count": 21,
     "metadata": {},
     "output_type": "execute_result"
    }
   ],
   "source": [
    "df_scores.mean()"
   ]
  },
  {
   "cell_type": "code",
   "execution_count": 22,
   "id": "623e722e",
   "metadata": {},
   "outputs": [
    {
     "data": {
      "text/plain": [
       "<Figure size 800x600 with 0 Axes>"
      ]
     },
     "metadata": {},
     "output_type": "display_data"
    },
    {
     "data": {
      "image/png": "[encoded data removed]",
      "text/plain": [
       "<Figure size 500x500 with 1 Axes>"
      ]
     },
     "metadata": {},
     "output_type": "display_data"
    }
   ],
   "source": [
    "from matplotlib import pyplot as plt\n",
    "import seaborn as sns\n",
    "plt.figure(figsize=(8,6))\n",
    "ax = sns.catplot(data=df_scores[['test_accuracy','test_f1','test_recall','test_roc_auc']])"
   ]
  },
  {
   "cell_type": "markdown",
   "id": "627f3539",
   "metadata": {},
   "source": [
    "## Entrainement sur tout le dataset"
   ]
  },
  {
   "cell_type": "code",
   "execution_count": 23,
   "id": "dce2ba74",
   "metadata": {},
   "outputs": [
    {
     "data": {
      "text/plain": [
       "1.0"
      ]
     },
     "execution_count": 23,
     "metadata": {},
     "output_type": "execute_result"
    }
   ],
   "source": [
    "pipe.fit(X, y)\n",
    "pipe.score(X, y)"
   ]
  },
  {
   "cell_type": "markdown",
   "id": "dec71da1",
   "metadata": {},
   "source": [
    "## Sauvegarde"
   ]
  },
  {
   "cell_type": "code",
   "execution_count": 25,
   "id": "93ef14b7",
   "metadata": {},
   "outputs": [],
   "source": [
    "patat.util.file.pickle_save(pipe,'data/prod/230705-PredInfox.pkl')"
   ]
  },
  {
   "cell_type": "code",
   "execution_count": null,
   "id": "4a763973",
   "metadata": {},
   "outputs": [],
   "source": []
  }
 ],
 "metadata": {
  "kernelspec": {
   "display_name": "Python 3 (ipykernel)",
   "language": "python",
   "name": "python3"
  },
  "language_info": {
   "codemirror_mode": {
    "name": "ipython",
    "version": 3
   },
   "file_extension": ".py",
   "mimetype": "text/x-python",
   "name": "python",
   "nbconvert_exporter": "python",
   "pygments_lexer": "ipython3",
   "version": "3.9.16"
  }
 },
 "nbformat": 4,
 "nbformat_minor": 5
}
