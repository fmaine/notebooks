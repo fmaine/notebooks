{
 "cells": [
  {
   "cell_type": "markdown",
   "id": "e3ec4689",
   "metadata": {},
   "source": [
    "# Plateforme Agnostique de Traitement et d'Analyse des Textes\n",
    "### Carnet d'expérimentation\n",
    "---\n",
    "\n",
    "## Sujet : Comparaison TfIdf / CamemBERT\n",
    "\n",
    "\n",
    "---"
   ]
  },
  {
   "cell_type": "markdown",
   "id": "2601e626",
   "metadata": {},
   "source": [
    "# Initialisations\n",
    "---"
   ]
  },
  {
   "cell_type": "code",
   "execution_count": 1,
   "id": "525fef74",
   "metadata": {},
   "outputs": [],
   "source": [
    "_rs = 42"
   ]
  },
  {
   "cell_type": "code",
   "execution_count": 2,
   "id": "5d0de4d7",
   "metadata": {},
   "outputs": [
    {
     "name": "stdout",
     "output_type": "stream",
     "text": [
      "/Volumes/Geek/Work/Patat\n"
     ]
    }
   ],
   "source": [
    "cd ../.."
   ]
  },
  {
   "cell_type": "code",
   "execution_count": 3,
   "id": "32256b0d",
   "metadata": {},
   "outputs": [],
   "source": [
    "import ast\n",
    "import importlib\n",
    "import pandas as pd\n",
    "import seaborn as sns\n",
    "from tqdm.notebook import tqdm\n",
    "tqdm.pandas()"
   ]
  },
  {
   "cell_type": "markdown",
   "id": "b9b13f54",
   "metadata": {},
   "source": [
    "# Préparation Données\n",
    "\n",
    "---"
   ]
  },
  {
   "cell_type": "markdown",
   "id": "18533365",
   "metadata": {},
   "source": [
    "## Chargement"
   ]
  },
  {
   "cell_type": "code",
   "execution_count": 4,
   "id": "b435d360",
   "metadata": {},
   "outputs": [],
   "source": [
    "import patat.util.file\n",
    "\n",
    "filename = 'data/prod/230517-OIDS-Label.pickle'\n",
    "\n",
    "df_label = patat.util.file.pickle_load(filename)"
   ]
  },
  {
   "cell_type": "markdown",
   "id": "394eb154",
   "metadata": {},
   "source": [
    "## Labels ou textes Nuls"
   ]
  },
  {
   "cell_type": "code",
   "execution_count": 5,
   "id": "62f6f1ca",
   "metadata": {},
   "outputs": [
    {
     "data": {
      "text/plain": [
       "0"
      ]
     },
     "execution_count": 5,
     "metadata": {},
     "output_type": "execute_result"
    }
   ],
   "source": [
    "df_label['text'].isna().sum()"
   ]
  },
  {
   "cell_type": "code",
   "execution_count": 6,
   "id": "73feab00",
   "metadata": {},
   "outputs": [
    {
     "data": {
      "text/plain": [
       "4"
      ]
     },
     "execution_count": 6,
     "metadata": {},
     "output_type": "execute_result"
    }
   ],
   "source": [
    "df_label['infox'].isna().sum()"
   ]
  },
  {
   "cell_type": "code",
   "execution_count": 7,
   "id": "5e535748",
   "metadata": {},
   "outputs": [],
   "source": [
    "df_label = df_label[df_label['infox'].notna()]"
   ]
  },
  {
   "cell_type": "code",
   "execution_count": 8,
   "id": "11d454d1",
   "metadata": {},
   "outputs": [],
   "source": [
    "df_label.reset_index(inplace=True)"
   ]
  },
  {
   "cell_type": "markdown",
   "id": "06e71e98",
   "metadata": {},
   "source": [
    "## Données dupliquées"
   ]
  },
  {
   "cell_type": "code",
   "execution_count": 9,
   "id": "bc6b9499",
   "metadata": {},
   "outputs": [
    {
     "data": {
      "text/plain": [
       "0"
      ]
     },
     "execution_count": 9,
     "metadata": {},
     "output_type": "execute_result"
    }
   ],
   "source": [
    "df_label.duplicated(subset='text').sum()"
   ]
  },
  {
   "cell_type": "code",
   "execution_count": 10,
   "id": "d8c481ad",
   "metadata": {
    "scrolled": true
   },
   "outputs": [
    {
     "data": {
      "text/plain": [
       "0"
      ]
     },
     "execution_count": 10,
     "metadata": {},
     "output_type": "execute_result"
    }
   ],
   "source": [
    "df_label.duplicated(subset='url').sum()"
   ]
  },
  {
   "cell_type": "markdown",
   "id": "418e89ed",
   "metadata": {},
   "source": [
    "# Experience\n",
    "---"
   ]
  },
  {
   "cell_type": "markdown",
   "id": "03e56e6c",
   "metadata": {},
   "source": [
    "## Equilibrage Dataset"
   ]
  },
  {
   "cell_type": "code",
   "execution_count": 11,
   "id": "38c59b58",
   "metadata": {},
   "outputs": [
    {
     "data": {
      "text/plain": [
       "<Axes: xlabel='infox', ylabel='count'>"
      ]
     },
     "execution_count": 11,
     "metadata": {},
     "output_type": "execute_result"
    },
    {
     "data": {
      "image/png": "[encoded data removed]",
      "text/plain": [
       "<Figure size 640x480 with 1 Axes>"
      ]
     },
     "metadata": {},
     "output_type": "display_data"
    }
   ],
   "source": [
    "label_count = df_label['infox'].value_counts()\n",
    "sns.barplot(x=label_count.index, y=label_count)"
   ]
  },
  {
   "cell_type": "code",
   "execution_count": 12,
   "id": "babd8a09",
   "metadata": {},
   "outputs": [
    {
     "data": {
      "text/html": [
       "<div>\n",
       "<style scoped>\n",
       "    .dataframe tbody tr th:only-of-type {\n",
       "        vertical-align: middle;\n",
       "    }\n",
       "\n",
       "    .dataframe tbody tr th {\n",
       "        vertical-align: top;\n",
       "    }\n",
       "\n",
       "    .dataframe thead th {\n",
       "        text-align: right;\n",
       "    }\n",
       "</style>\n",
       "<table border=\"1\" class=\"dataframe\">\n",
       "  <thead>\n",
       "    <tr style=\"text-align: right;\">\n",
       "      <th></th>\n",
       "      <th>text</th>\n",
       "      <th>infox</th>\n",
       "    </tr>\n",
       "  </thead>\n",
       "  <tbody>\n",
       "    <tr>\n",
       "      <th>609</th>\n",
       "      <td>Guerre en Ukraine: Emmanuel Macron prévient le...</td>\n",
       "      <td>0.0</td>\n",
       "    </tr>\n",
       "    <tr>\n",
       "      <th>705</th>\n",
       "      <td>La vaccination Covid : un marquage de « type b...</td>\n",
       "      <td>0.0</td>\n",
       "    </tr>\n",
       "    <tr>\n",
       "      <th>26</th>\n",
       "      <td>Colonialisme énergétique\\nVisite d’État du pré...</td>\n",
       "      <td>0.0</td>\n",
       "    </tr>\n",
       "    <tr>\n",
       "      <th>565</th>\n",
       "      <td>De l’importance d’une Assemblée vraiment natio...</td>\n",
       "      <td>0.0</td>\n",
       "    </tr>\n",
       "    <tr>\n",
       "      <th>231</th>\n",
       "      <td>Quelle politique migratoire pour la France ? –...</td>\n",
       "      <td>0.0</td>\n",
       "    </tr>\n",
       "    <tr>\n",
       "      <th>...</th>\n",
       "      <td>...</td>\n",
       "      <td>...</td>\n",
       "    </tr>\n",
       "    <tr>\n",
       "      <th>112</th>\n",
       "      <td>Des scientifiques de Harvard et de Johns Hopki...</td>\n",
       "      <td>1.0</td>\n",
       "    </tr>\n",
       "    <tr>\n",
       "      <th>157</th>\n",
       "      <td>L’armée russe achète des exemplaires d’armemen...</td>\n",
       "      <td>1.0</td>\n",
       "    </tr>\n",
       "    <tr>\n",
       "      <th>522</th>\n",
       "      <td>ONU – Le Premier ministre de Nouvelle-Zélande ...</td>\n",
       "      <td>1.0</td>\n",
       "    </tr>\n",
       "    <tr>\n",
       "      <th>847</th>\n",
       "      <td>Pandémie ou le retour du grand Pan\\nAu cours d...</td>\n",
       "      <td>1.0</td>\n",
       "    </tr>\n",
       "    <tr>\n",
       "      <th>151</th>\n",
       "      <td>Le président Trump dénonce la corruption de la...</td>\n",
       "      <td>1.0</td>\n",
       "    </tr>\n",
       "  </tbody>\n",
       "</table>\n",
       "<p>746 rows × 2 columns</p>\n",
       "</div>"
      ],
      "text/plain": [
       "                                                  text  infox\n",
       "609  Guerre en Ukraine: Emmanuel Macron prévient le...    0.0\n",
       "705  La vaccination Covid : un marquage de « type b...    0.0\n",
       "26   Colonialisme énergétique\\nVisite d’État du pré...    0.0\n",
       "565  De l’importance d’une Assemblée vraiment natio...    0.0\n",
       "231  Quelle politique migratoire pour la France ? –...    0.0\n",
       "..                                                 ...    ...\n",
       "112  Des scientifiques de Harvard et de Johns Hopki...    1.0\n",
       "157  L’armée russe achète des exemplaires d’armemen...    1.0\n",
       "522  ONU – Le Premier ministre de Nouvelle-Zélande ...    1.0\n",
       "847  Pandémie ou le retour du grand Pan\\nAu cours d...    1.0\n",
       "151  Le président Trump dénonce la corruption de la...    1.0\n",
       "\n",
       "[746 rows x 2 columns]"
      ]
     },
     "execution_count": 12,
     "metadata": {},
     "output_type": "execute_result"
    }
   ],
   "source": [
    "df_0 = df_label[df_label['infox'] == 0]\n",
    "df_1 = df_label[df_label['infox'] == 1]\n",
    "\n",
    "min_sample = min(len(df_0),len(df_1))\n",
    "\n",
    "\n",
    "df_0=df_0.sample(min_sample,random_state=_rs)\n",
    "df_1=df_1.sample(min_sample,random_state=_rs)\n",
    "df_ml = pd.concat([df_0,df_1])[['text','infox']]\n",
    "\n",
    "df_ml"
   ]
  },
  {
   "cell_type": "code",
   "execution_count": 16,
   "id": "c735944d",
   "metadata": {},
   "outputs": [
    {
     "name": "stdout",
     "output_type": "stream",
     "text": [
      "Selon le Pr Perronne l’apparition de la variole du singe n’est pas naturelle\n",
      "La variole du singe est une maladie extrêmement rare et limitée à l’Afrique. Soudain, on nous annonce que des cas ont été enregistrés aux États-Unis, au Canada, au Royaume-Uni, en Australie, en Suède, aux Pays-Bas, en Belgique, en France, en Espagne, en Italie et en Allemagne, tous en même temps. Son nom est monkeypox ou variole du singe, et c’est la panique !\n",
      "ttention à celui qui risque de faire perdre des milliards. Les milliards que les laboratoires encaissent grâce à l’interdiction des traitements contre le covid-19 et à l’obligation vaccinale pour avoir le droit de travailler et de se déplacer. Il a tenu « des propos considérés comme indignes de la fonction qu’il exerce ». Qui est ce pelé, ce galeux ? Le Pr Perronne, bien sûr !\n",
      "Depuis que ses critiques sur la pseudo épidémie de covid ont été confirmées. Avec la variole du singe, le scénario catastrophe recommence et Perronne, ce complotiste invétéré, recommence à se faire traiter de tous les noms et à dire la vérité (voir vidéo ci-dessous) !\n",
      "﻿\n",
      "Nous aurions pu avoir droit à la variole du cheval ou de la vache ou même du chameau. C’est très facile à faire en laboratoire. Mais des scientifiques ont préféré la variole du singe. Il faut revenir à mars 2021, à la Conférence de Munich sur la sécurité. Une épidémie de variole du singe a été un exercice de simulation sur la réduction des menaces biologiques à haute probabilité. Voici le scénario : une épidémie de variole du singe débute le 15 mai 2022 (vous avez dit bizarre ?) et entraîne 3,2 milliards de cas et 271 millions de décès au 1er décembre 2023 (ça c’est à voir, toutes les prédictions des mauvaises fées ne se réalisent pas). Toujours dans cet exercice dystopique, le virus modifié de la variole du singe a été développé de manière illicite dans le principal institut de virologie du pays fictif d’Anica par des scientifiques de laboratoire travaillant aux côtés d’un groupe terroriste arnica. Ce groupe terroriste a ensuite libéré l’agent pathogène « hautement contagieux et mortel » dans une gare bondée du pays fictif voisin, Brinia. Le responsable du casting n’a pas eu l’élégance de distribuer le rôle du terroriste à Bill Gates, pour remercier de sa participation le Dr Chris Elias, président de la division du développement mondial de la Fondation Bill & Melinda Gates.\n",
      "Le Dr Malone que les médias qualifient de « controversé », « peu pertinent » et même, pour faire bonne mesure, de « messie de la complosphère ». estime, comme le Pr Perronne, que la variole du singe « à moins qu’il n’y ait eu une altération génétique, soit par l’évolution, soit par une manipulation génétique intentionnelle, ne constitue pas une menace biologique importante et n’a jamais été considérée comme un agent pathogène à haut risque dans le passé ».\n",
      "Pour le Pr Caumes, cette maladie est peu contagieuse dans sa forme africaine, mais il constate que, dans sa forme actuelle, elle est devenue plus contagieuse. En homme prudent, il n’en dira pas plus.\n",
      "Y aurait-il eu manipulation pour « gain de fonction » comme avec le coronavirus à Wuhan ? Si, à partir d’une maladie rare, limitée géographiquement et bénigne, nous assistons à une véritable épidémie mondiale, c’est qu’elle a été délibérément libérée d’un laboratoire. Une hypothèse bien entendu complotiste.\n",
      "Source  : Le Média en 4-4-2\n",
      "\n"
     ]
    }
   ],
   "source": [
    "print(df_ml['text'][15])"
   ]
  },
  {
   "cell_type": "markdown",
   "id": "04014933",
   "metadata": {},
   "source": [
    "# Experience\n",
    "---"
   ]
  },
  {
   "cell_type": "markdown",
   "id": "36585108",
   "metadata": {},
   "source": [
    "## Expérience de cross validation pour mesurer la performance des modeles\n",
    "\n",
    "\n",
    "`scores = cross_validate(classifier, X, y, cv=5, scoring = metriques)`\n",
    "\n",
    "- `classifier` : Classifier\n",
    "- `X` : Features\n",
    "- `y` : Label cible\n",
    "- `cv` : Nombre de cycle d'entrainement/test\n",
    "- `scoring` : Métriques\n",
    "\n",
    "\n",
    "\n"
   ]
  },
  {
   "cell_type": "code",
   "execution_count": 18,
   "id": "b4bb2d5f",
   "metadata": {},
   "outputs": [],
   "source": [
    "cv=5\n",
    "y = df_ml['infox']"
   ]
  },
  {
   "cell_type": "markdown",
   "id": "71bf729b",
   "metadata": {},
   "source": [
    "## Tfidf \n",
    "Features : `X_tfidf`"
   ]
  },
  {
   "cell_type": "code",
   "execution_count": 19,
   "id": "060b186e",
   "metadata": {},
   "outputs": [],
   "source": [
    "from sklearn.feature_extraction.text import TfidfVectorizer"
   ]
  },
  {
   "cell_type": "code",
   "execution_count": 20,
   "id": "eba70992",
   "metadata": {},
   "outputs": [],
   "source": [
    "vectorizer = TfidfVectorizer()"
   ]
  },
  {
   "cell_type": "code",
   "execution_count": 21,
   "id": "6ed7bf8c",
   "metadata": {},
   "outputs": [],
   "source": [
    "X_tfidf = vectorizer.fit_transform(df_ml['text'])"
   ]
  },
  {
   "cell_type": "markdown",
   "id": "014db9ab",
   "metadata": {},
   "source": [
    "## CamemBERT Embeddings \n",
    "Features : `X_embeddings`\n"
   ]
  },
  {
   "cell_type": "code",
   "execution_count": 24,
   "id": "998e7530",
   "metadata": {},
   "outputs": [
    {
     "name": "stdout",
     "output_type": "stream",
     "text": [
      "device : mps\n"
     ]
    },
    {
     "name": "stderr",
     "output_type": "stream",
     "text": [
      "Some weights of the model checkpoint at camembert-base were not used when initializing CamembertModel: ['lm_head.decoder.weight', 'lm_head.bias', 'lm_head.layer_norm.bias', 'lm_head.dense.weight', 'lm_head.dense.bias', 'lm_head.layer_norm.weight']\n",
      "- This IS expected if you are initializing CamembertModel from the checkpoint of a model trained on another task or with another architecture (e.g. initializing a BertForSequenceClassification model from a BertForPreTraining model).\n",
      "- This IS NOT expected if you are initializing CamembertModel from the checkpoint of a model that you expect to be exactly identical (initializing a BertForSequenceClassification model from a BertForSequenceClassification model).\n"
     ]
    }
   ],
   "source": [
    "import torch\n",
    "device = 'mps' if torch.backends.mps.is_available() else 'cpu'\n",
    "print(f'device : {device}')\n",
    "\n",
    "from transformers import AutoTokenizer, AutoModel\n",
    "\n",
    "tokenizer = AutoTokenizer.from_pretrained('camembert-base')\n",
    "model = AutoModel.from_pretrained('camembert-base').to(device)"
   ]
  },
  {
   "cell_type": "code",
   "execution_count": 25,
   "id": "9fa01a53",
   "metadata": {},
   "outputs": [],
   "source": [
    "## function to generate BERT embeddings\n",
    "def get_embeddings(text):\n",
    "    input_ids = tokenizer.encode(text,add_special_tokens=True,return_tensors='pt').to(device)\n",
    "    input_ids = input_ids[:,:512]\n",
    "    with torch.inference_mode():\n",
    "        last_hidden_state = model(input_ids)[0].to(device)\n",
    "        embeddings = torch.mean(last_hidden_state,dim=1).squeeze().to(device)\n",
    "        \n",
    "    return embeddings.cpu().numpy()"
   ]
  },
  {
   "cell_type": "code",
   "execution_count": 26,
   "id": "b4c91067",
   "metadata": {},
   "outputs": [
    {
     "data": {
      "application/vnd.jupyter.widget-view+json": {
       "model_id": "5c12711d6205413b8bc20405f954760f",
       "version_major": 2,
       "version_minor": 0
      },
      "text/plain": [
       "  0%|          | 0/746 [00:00<?, ?it/s]"
      ]
     },
     "metadata": {},
     "output_type": "display_data"
    },
    {
     "name": "stderr",
     "output_type": "stream",
     "text": [
      "Token indices sequence length is longer than the specified maximum sequence length for this model (605 > 512). Running this sequence through the model will result in indexing errors\n"
     ]
    },
    {
     "name": "stdout",
     "output_type": "stream",
     "text": [
      "CPU times: user 42.4 s, sys: 5.12 s, total: 47.5 s\n",
      "Wall time: 47.7 s\n"
     ]
    }
   ],
   "source": [
    "%%time\n",
    "import numpy as np\n",
    "## Generate embeddings for the text data using BERT\n",
    "X_embeddings = np.array([get_embeddings(text) for text in tqdm(df_ml['text'])])"
   ]
  },
  {
   "cell_type": "code",
   "execution_count": 27,
   "id": "79415c29",
   "metadata": {},
   "outputs": [
    {
     "data": {
      "text/plain": [
       "array([ 4.19769250e-02,  4.23454158e-02, -3.18763889e-02,  9.86878276e-02,\n",
       "        1.89667735e-02, -3.22453342e-02,  7.13314675e-03,  4.93381545e-02,\n",
       "       -2.53091604e-02,  9.77859050e-02, -1.01855271e-01,  3.22715677e-02,\n",
       "       -3.31885740e-02,  9.78013128e-02,  7.42584616e-02, -3.87406498e-02,\n",
       "        8.93924683e-02, -2.00664327e-02,  2.13762075e-02,  1.99409761e-02,\n",
       "        1.50038414e-02, -6.89888746e-02, -2.32275645e-03,  4.73537575e-03,\n",
       "       -2.94595420e-01, -6.61907941e-02, -6.67871237e-02, -1.31989680e-02,\n",
       "        2.82257050e-02, -3.03883050e-02,  8.74514878e-02,  5.94479516e-02,\n",
       "        6.62120208e-02,  1.63540877e-02, -3.10775340e-02,  8.12281072e-02,\n",
       "        5.12334257e-02, -1.68600753e-02,  1.07448548e-01, -8.83240402e-02,\n",
       "       -1.15260351e-02, -3.47485319e-02,  6.40644925e-04,  2.10466720e-02,\n",
       "       -7.69134164e-02,  8.88476670e-02,  2.84613632e-02,  4.05306518e-02,\n",
       "        2.65690200e-02, -4.25820425e-02, -2.90742870e-02, -2.35107802e-02,\n",
       "       -5.85930385e-02, -9.55080837e-02, -6.88407104e-03, -7.75087904e-03,\n",
       "       -9.65444930e-03,  2.01628625e-01, -1.64286629e-03,  1.52662094e-03,\n",
       "        1.16309263e-02, -4.06544432e-02,  3.73436809e-02, -2.08891965e-02,\n",
       "       -5.47380894e-02,  7.83732682e-02, -3.98116335e-02,  5.55287339e-02,\n",
       "        4.66201156e-02, -5.57835214e-03, -2.69234851e-02,  1.06342919e-01,\n",
       "        2.69192411e-03,  2.02550255e-02, -9.31993946e-02, -1.91659778e-02,\n",
       "        2.84758788e-02, -8.64965394e-02, -9.97078884e-03, -1.31258490e-02,\n",
       "        6.70884103e-02,  2.32079383e-02,  4.16515991e-02,  4.86058220e-02,\n",
       "       -1.37173608e-02,  3.41020152e-02,  6.71078917e-04,  1.63955063e-01,\n",
       "        6.00752141e-03,  9.94922668e-02, -1.26118690e-01, -8.40804726e-03,\n",
       "        4.26564291e-02, -1.18213873e-02, -1.12319589e-01,  7.56463259e-02,\n",
       "        6.16256520e-02, -1.52285462e-02,  8.66230279e-02,  1.09193057e-01,\n",
       "        1.49056278e-02,  8.55302662e-02, -7.28610903e-02,  6.34339750e-02,\n",
       "       -3.21044065e-02,  7.27998838e-02, -3.77536751e-02,  2.88268458e-02,\n",
       "       -4.14360873e-02, -8.05373341e-02,  6.90554082e-03,  4.49242331e-02,\n",
       "        8.95091966e-02,  1.14905715e-01,  1.43535018e-01,  5.16914874e-02,\n",
       "        5.32448813e-02, -3.12282927e-02, -5.15283123e-02,  2.04517953e-02,\n",
       "       -4.15311381e-02,  2.63573099e-02, -8.41276944e-02,  6.68383688e-02,\n",
       "        1.86977945e-02, -2.04512142e-02, -3.51495147e-02,  1.16035253e-01,\n",
       "       -6.38908073e-02,  1.23122349e-01, -3.57959084e-02, -6.31007701e-02,\n",
       "        6.66130632e-02,  6.30884394e-02,  5.90550341e-03, -1.22379009e-02,\n",
       "        3.63237299e-02, -5.49938828e-02,  6.40364438e-02, -5.94046107e-03,\n",
       "        9.48062241e-02,  3.34444419e-02, -3.91807109e-02, -1.00222798e-02,\n",
       "       -2.06523854e-02,  3.39193493e-02,  5.92296496e-02, -2.20706477e-03,\n",
       "        5.18648848e-02,  4.61539179e-02,  4.03945595e-02,  3.08182165e-02,\n",
       "       -4.70048115e-02, -1.38841830e-02, -1.32385995e-02, -7.99550712e-02,\n",
       "       -2.12601796e-02,  1.50515884e-01, -3.85565460e-02, -4.32339087e-02,\n",
       "       -5.04978700e-03, -3.23839277e-01,  3.75844352e-02,  1.00865960e-01,\n",
       "        9.61632505e-02,  3.73536162e-02, -4.10382599e-02, -6.02382310e-02,\n",
       "        2.93741114e-02, -2.66699679e-02,  5.57771772e-02,  3.12473997e-02,\n",
       "       -4.14538309e-02,  1.43014789e-02,  4.30943482e-02, -2.94587761e-02,\n",
       "        7.46681392e-02,  4.33489755e-02,  3.29385251e-02,  3.54276150e-02,\n",
       "        6.10364377e-02,  3.51647362e-02,  3.92626524e-02, -3.19879614e-02,\n",
       "        7.72899017e-02,  1.08097112e-02,  4.88316640e-02,  5.48711047e-02,\n",
       "        4.13975418e-02,  2.68781036e-02,  5.67439273e-02, -6.70408607e-02,\n",
       "       -2.53806598e-02, -6.92087263e-02,  8.10136944e-02,  8.34270194e-03,\n",
       "       -3.32009047e-03,  4.12760526e-02, -2.98191532e-02, -1.32751535e-04,\n",
       "       -7.91369844e-03,  9.84900724e-03,  1.02376655e-01, -4.11530957e-02,\n",
       "       -5.06441891e-02,  1.59919038e-02,  2.79524215e-02,  2.91200131e-02,\n",
       "       -1.98744480e-02,  5.10525107e-02,  4.78362143e-02, -1.30811958e-02,\n",
       "        9.15418118e-02, -8.34253579e-02,  1.42169595e-02, -5.18396571e-02,\n",
       "        5.08974344e-02,  1.52589865e-02, -2.44607795e-02, -2.08936282e-03,\n",
       "       -5.42665906e-02, -4.45529148e-02, -7.03139529e-02, -2.61274558e-02,\n",
       "       -5.28284013e-02,  2.17702221e-02,  4.76008952e-02,  2.29807757e-02,\n",
       "       -1.86613537e-02, -5.88930361e-02,  4.42851558e-02,  1.07454811e-03,\n",
       "        1.71476472e-02,  4.56575379e-02,  4.94609252e-02,  2.74262279e-02,\n",
       "        4.30469066e-02,  1.14150159e-01,  7.24243820e-02, -9.42175463e-03,\n",
       "       -3.06607317e-02,  1.62544325e-01,  7.65603334e-02,  4.23181169e-02,\n",
       "        2.33226735e-02,  4.38218517e-03, -2.57310849e-02, -3.86575283e-03,\n",
       "       -7.60908751e-03,  2.40895748e-02, -5.64570129e-02,  2.36512534e-02,\n",
       "        2.36333087e-02,  2.16831062e-02,  1.94086190e-02,  2.04285569e-02,\n",
       "        6.83902875e-02, -3.39058414e-03,  4.12785500e-01,  6.21984303e-02,\n",
       "       -1.06066130e-02, -5.56063429e-02,  7.66460374e-02, -4.52560484e-02,\n",
       "       -7.52724707e-02, -5.73990606e-02,  4.71519828e-02, -2.87284777e-02,\n",
       "       -4.12790030e-02, -6.65333774e-03,  5.84378764e-02, -9.34168138e-03,\n",
       "        3.40736985e-01,  4.16606702e-02,  5.81748426e-01,  3.43163125e-03,\n",
       "       -2.29105517e-01,  5.59058711e-02,  6.17697835e-02,  5.96900331e-03,\n",
       "        4.36750874e-02,  4.29260656e-02,  2.08426043e-02,  4.64259498e-02,\n",
       "        4.42111939e-02,  1.11218847e-01,  2.80864120e-01,  3.65694873e-02,\n",
       "       -6.26723915e-02,  3.68111245e-02, -1.48518994e-01,  3.37167904e-02,\n",
       "        5.64592332e-03, -1.24482047e-02,  1.13792829e-02,  9.55785811e-02,\n",
       "       -1.13573382e-02, -2.08735443e-03,  5.79233989e-02,  1.09283887e-02,\n",
       "        1.71235353e-02, -4.47799116e-02,  5.07833995e-02,  1.26906158e-02,\n",
       "       -7.22994190e-03,  7.84225166e-02, -1.43600311e-02, -6.64994568e-02,\n",
       "        2.57033333e-02,  8.96848559e-01,  7.28374273e-02, -5.88250458e-02,\n",
       "        4.35262211e-02, -5.15113734e-02,  5.38814291e-02,  6.70816824e-02,\n",
       "        6.25085384e-02,  3.59751061e-02,  5.79435900e-02, -5.18670231e-02,\n",
       "        1.88935716e-02,  6.18552640e-02,  3.08877286e-02,  1.02181710e-01,\n",
       "        2.09465418e-02,  1.53678572e-02, -5.73461456e-03, -8.84507671e-02,\n",
       "        1.15576148e-01,  3.93073889e-04,  4.44598421e-02,  3.84213068e-02,\n",
       "        3.62554491e-02,  4.28088978e-02,  2.25504674e-02,  2.01711021e-02,\n",
       "        1.12151913e-01,  5.92151433e-02,  1.99103747e-02,  1.98199898e-02,\n",
       "        8.70176181e-02, -4.20142859e-02,  6.39970452e-02,  2.89650001e-02,\n",
       "        2.92855985e-02, -1.09892646e-02,  7.45914653e-02, -4.29778993e-02,\n",
       "        1.74272843e-02,  3.11090779e-02,  4.48152609e-02,  5.98021522e-02,\n",
       "       -5.11963964e-02, -5.13533838e-02,  2.97091268e-02, -3.57157621e-03,\n",
       "       -7.11767748e-02, -9.16392580e-02, -2.34330185e-02, -5.08802757e-03,\n",
       "       -3.40729556e-03, -2.18549464e-03, -4.59794849e-02, -7.01980432e-04,\n",
       "       -1.30062681e-02,  5.86043447e-02, -7.33202845e-02, -1.42384637e-02,\n",
       "       -1.94034888e-03, -1.97169520e-02, -2.09724857e-03, -1.56705827e-02,\n",
       "        3.83724794e-02, -2.91293277e-03,  5.20714931e-02,  1.05413064e-01,\n",
       "        8.64461530e-03, -8.97361897e-03, -9.63620916e-02,  1.90315099e-04,\n",
       "       -7.40642846e-02,  4.03591506e-02,  1.13949319e-02, -1.01216584e-02,\n",
       "        6.84627146e-02, -1.01565108e-01,  3.04949470e-03,  2.16517150e-02,\n",
       "       -1.54593550e-02,  5.09152710e-02, -5.72061464e-02,  2.67528668e-02,\n",
       "        2.75467150e-02, -3.76425833e-02,  5.00567183e-02, -7.56196082e-02,\n",
       "       -1.79525912e-02,  3.07820155e-03,  2.93333828e-02, -5.00209746e-04,\n",
       "        8.89387131e-02,  5.73787689e-02,  7.76857436e-02,  9.42836553e-02,\n",
       "        1.12560987e-02,  1.03997076e-02, -5.68500340e-01,  2.45045274e-02,\n",
       "       -1.35910541e-01,  2.00597309e-02,  2.09985580e-02,  4.10691239e-02,\n",
       "        7.23395124e-02, -2.04502754e-02, -3.03105675e-02,  3.56943235e-02,\n",
       "       -2.52451282e-02, -1.86344236e-03,  7.81141818e-02,  5.23545891e-02,\n",
       "        1.88526567e-02,  1.12583553e-02, -4.08102423e-02,  8.89813825e-02,\n",
       "        5.08917794e-02, -1.26634501e-02,  1.74879469e-02, -9.90184024e-02,\n",
       "        7.26190349e-03,  2.69611292e-02,  2.29532793e-02,  4.29867730e-02,\n",
       "       -1.18121896e-02, -2.35102288e-02,  5.00815921e-02,  8.31096172e-02,\n",
       "        3.94012332e-02,  5.62080815e-02,  3.67245674e-02,  1.13162450e-01,\n",
       "        8.95794183e-02,  6.19594939e-03,  3.31294388e-02, -1.05630178e-02,\n",
       "        6.20537670e-03, -6.57826215e-02, -6.61633164e-02,  1.70917772e-02,\n",
       "        6.57523274e-02, -5.93484147e-03,  3.99265140e-02, -1.94972735e-02,\n",
       "       -1.51800383e-02,  1.18382443e-02,  1.97727066e-02,  7.87680149e-02,\n",
       "        4.11618240e-02,  1.35909498e-01,  1.46440910e-02, -5.63793361e-01,\n",
       "       -1.51005566e-01,  9.56023112e-03, -9.12983529e-03, -2.20906381e-02,\n",
       "       -5.01999557e-02, -2.89824396e-01, -7.19239414e-02, -2.62543336e-02,\n",
       "       -3.11452057e-03,  2.57806219e-02,  4.75324988e-02,  2.50006504e-02,\n",
       "        8.67934227e-02,  9.43030119e-02,  5.12541980e-02,  5.98918200e-02,\n",
       "       -1.14108637e-01,  3.35748121e-02,  4.56289165e-02, -5.34909815e-02,\n",
       "       -2.83760410e-02,  1.83003247e-02,  9.73285511e-02,  6.06354922e-02,\n",
       "        6.99690506e-02,  2.25653150e-03, -5.87006705e-03,  6.42318949e-02,\n",
       "        6.84175789e-02, -1.47304952e-01, -3.07797305e-02,  7.00112581e-02,\n",
       "       -3.70421968e-02,  5.27008846e-02, -1.93010494e-02,  8.86725169e-03,\n",
       "       -5.68109304e-02,  2.61889771e-02, -1.29993318e-03, -4.68549132e-03,\n",
       "       -5.47540113e-02,  3.74700874e-02,  8.67407545e-02,  3.85290869e-02,\n",
       "       -1.43107921e-02,  7.70876408e-02,  2.17039473e-02, -7.29647353e-02,\n",
       "       -1.33872358e-02, -2.77661867e-02,  1.93631425e-02,  1.11130103e-02,\n",
       "       -6.65604649e-03,  1.24267027e-01, -1.46959480e-02,  8.58165175e-02,\n",
       "       -1.25739221e-02, -1.35506941e-02, -2.29823380e-03,  3.30773778e-02,\n",
       "       -1.82390418e-02, -6.86623603e-02,  8.61394629e-02,  1.79254673e-02,\n",
       "        4.90847826e-02,  7.62595385e-02, -1.75450481e-02,  1.38966039e-01,\n",
       "       -2.65237391e-02, -1.73366033e-02,  3.01983859e-02,  1.59725621e-02,\n",
       "        7.04505574e-03, -5.06829098e-02,  7.97355995e-02, -1.22692557e-02,\n",
       "       -3.04373503e-01,  1.13677368e-01, -8.44067428e-03,  3.82831022e-02,\n",
       "        2.81215459e-02, -1.96532756e-02,  1.79973692e-02,  2.60634813e-02,\n",
       "        5.82206398e-02,  6.75140917e-02, -2.30445098e-02,  4.73291567e-03,\n",
       "       -4.28704247e-02,  1.04811922e-01, -2.41223291e-01,  3.35250199e-02,\n",
       "       -5.36753349e-02, -2.74865981e-02,  5.10259578e-03,  5.91598451e-02,\n",
       "       -1.14251617e-02,  7.73180574e-02, -3.32432240e-02,  1.44324750e-01,\n",
       "        3.20206806e-02,  6.80216104e-02,  2.86124945e-02, -7.63949454e-02,\n",
       "       -2.89893001e-02,  7.51867220e-02, -1.63536817e-02, -2.48226672e-02,\n",
       "        1.07627846e-01,  2.20561847e-02,  2.41434574e-03,  6.42495528e-02,\n",
       "        1.32047445e-01,  3.61961350e-02,  5.34967668e-02, -8.91110301e-03,\n",
       "        2.09589861e-02,  1.56215485e-02, -2.24635638e-02, -2.44006608e-02,\n",
       "        1.90769993e-02,  7.42640905e-03, -5.70030743e-03,  4.36787158e-02,\n",
       "        5.93937933e-02,  2.71345358e-02,  4.17932402e-03, -2.47414578e-02,\n",
       "        4.25887108e-02, -7.60209411e-02,  4.37493399e-02,  4.09993269e-02,\n",
       "        2.07310952e-02,  2.17056610e-02,  4.10270989e-02, -3.03734653e-02,\n",
       "        1.43690128e-02, -5.27484342e-02, -7.29255676e-02, -2.19034702e-02,\n",
       "       -8.41312334e-02, -1.40801091e-02, -2.29374859e-02,  6.32382482e-02,\n",
       "       -1.10361446e-02,  5.04214205e-02,  5.55999726e-02, -1.25332996e-01,\n",
       "        1.70610845e-02,  4.23339242e-03, -3.35270390e-02,  3.15577984e-02,\n",
       "       -3.02566234e-02,  9.02722627e-02, -1.86234377e-02, -2.25413218e-02,\n",
       "        1.48647688e-02, -1.45632714e-01,  2.90316921e-02, -4.18944983e-04,\n",
       "        3.45628113e-02, -3.14787999e-02, -4.31169197e-02,  1.17442003e-02,\n",
       "       -5.45691997e-02,  7.92934150e-02,  4.94039357e-02, -4.00690772e-02,\n",
       "       -1.14164129e-03,  3.12792957e-02,  5.89292943e-02,  6.39014468e-02,\n",
       "        1.35423690e-01,  2.13267431e-01,  1.65162105e-02, -3.51535864e-02,\n",
       "        6.83668256e-02, -1.29002584e-02,  6.46489905e-04,  7.57343918e-02,\n",
       "       -4.33251411e-02,  1.34592861e-01,  1.59211550e-02,  4.32033353e-02,\n",
       "        2.18154164e-04,  2.67301463e-02,  8.45179111e-02, -5.32786921e-02,\n",
       "       -1.45718828e-02, -1.93854515e-02,  1.34535462e-01,  9.80310962e-02,\n",
       "        2.64188624e-03,  1.60419364e-02,  1.88227706e-02,  7.94467181e-02,\n",
       "        3.72184790e-04, -2.25773063e-02,  4.36262675e-02,  7.75487125e-02,\n",
       "       -2.05995552e-02, -1.02554504e-02,  4.42810133e-02,  4.80557680e-02,\n",
       "       -5.31860813e-02, -2.00234037e-02, -4.81089689e-02,  5.59687577e-02,\n",
       "        5.54717928e-02, -3.60679179e-02,  3.04043479e-02,  1.23877982e-02,\n",
       "        3.47995944e-02,  8.92954320e-02, -7.23366439e-02,  2.45788023e-02,\n",
       "        1.48532391e-01,  1.07644368e-02, -2.49174871e-02, -6.38833363e-03,\n",
       "        4.78644408e-02, -1.03425030e-02,  6.47616386e-02, -2.73529619e-01,\n",
       "       -4.15285975e-02,  5.92237413e-02, -5.52575989e-03,  4.64272797e-02,\n",
       "        1.36009073e+00,  3.67791504e-02,  3.31743658e-02, -4.25399095e-02,\n",
       "        7.76158599e-03, -3.11848402e-01,  5.80980629e-02, -3.16052674e-03,\n",
       "       -3.14688049e-02, -2.16021892e-02, -2.40477305e-02,  7.66932145e-02,\n",
       "        7.57514387e-02, -7.99692124e-02, -1.23208329e-01,  1.66014768e-03,\n",
       "       -9.05345380e-02,  5.98098189e-02,  7.68769830e-02, -9.23039857e-03,\n",
       "       -8.45397636e-02, -1.90061815e-02,  4.06436361e-02, -7.01086521e-02,\n",
       "       -2.70728134e-02, -2.31017172e-02, -6.67256713e-02, -1.18114834e-03,\n",
       "       -1.35897771e-02, -3.11805122e-02,  9.45635587e-02,  2.04423293e-02,\n",
       "       -1.25284716e-02,  7.63058066e-02, -6.46168515e-02, -2.96294503e-02,\n",
       "       -4.15601283e-02,  6.05647713e-02,  4.03885581e-02, -6.95007294e-02,\n",
       "       -3.88713218e-02,  2.26775669e-02, -4.29148078e-02,  1.63174212e-01,\n",
       "        7.64916837e-02, -7.29741678e-02, -2.72884034e-03,  1.13528054e-02,\n",
       "       -1.14361569e-02,  5.82302213e-02,  4.38803211e-02, -1.38067137e-02,\n",
       "       -1.10700941e-02,  5.97516149e-02,  4.72443514e-02, -4.56212759e-02,\n",
       "       -3.10518667e-02, -1.96075416e-03, -4.88955341e-02, -2.76162028e-02,\n",
       "       -6.27464578e-02, -3.29148054e-01, -1.04403831e-02, -6.40555173e-02,\n",
       "       -5.91440424e-02, -5.44487387e-02,  4.54524010e-02, -1.25638425e-01,\n",
       "       -4.92303818e-02,  9.53463614e-02,  5.17730787e-02, -1.73470080e-02,\n",
       "        1.61005370e-02, -1.56803653e-01,  8.77933577e-02, -5.44144139e-02,\n",
       "       -3.10718175e-03, -3.63586918e-02,  2.70666759e-02,  7.04351515e-02],\n",
       "      dtype=float32)"
      ]
     },
     "execution_count": 27,
     "metadata": {},
     "output_type": "execute_result"
    }
   ],
   "source": [
    "X_embeddings[0]"
   ]
  },
  {
   "cell_type": "markdown",
   "id": "7c28c68b",
   "metadata": {},
   "source": [
    "## Comparaison sur SKLearn Logistic Regression"
   ]
  },
  {
   "cell_type": "code",
   "execution_count": 28,
   "id": "22c6c950",
   "metadata": {},
   "outputs": [],
   "source": [
    "from sklearn.model_selection import cross_validate\n",
    "from sklearn.linear_model import LogisticRegression\n",
    "from sklearn import metrics"
   ]
  },
  {
   "cell_type": "code",
   "execution_count": 29,
   "id": "ffcae336",
   "metadata": {},
   "outputs": [],
   "source": [
    "logreg = LogisticRegression(C=150, random_state=_rs, solver='lbfgs', multi_class='ovr', max_iter=1000)"
   ]
  },
  {
   "cell_type": "markdown",
   "id": "9728b9d5",
   "metadata": {},
   "source": [
    "### TfIdf"
   ]
  },
  {
   "cell_type": "code",
   "execution_count": 30,
   "id": "c5802189",
   "metadata": {},
   "outputs": [],
   "source": [
    "X = X_tfidf"
   ]
  },
  {
   "cell_type": "code",
   "execution_count": 31,
   "id": "46996ac8",
   "metadata": {},
   "outputs": [],
   "source": [
    "scores = cross_validate(logreg, X, y, cv=cv,\n",
    "                        scoring=('accuracy','f1','recall','roc_auc'))"
   ]
  },
  {
   "cell_type": "code",
   "execution_count": 32,
   "id": "5ef77ec1",
   "metadata": {},
   "outputs": [
    {
     "data": {
      "text/html": [
       "<div>\n",
       "<style scoped>\n",
       "    .dataframe tbody tr th:only-of-type {\n",
       "        vertical-align: middle;\n",
       "    }\n",
       "\n",
       "    .dataframe tbody tr th {\n",
       "        vertical-align: top;\n",
       "    }\n",
       "\n",
       "    .dataframe thead th {\n",
       "        text-align: right;\n",
       "    }\n",
       "</style>\n",
       "<table border=\"1\" class=\"dataframe\">\n",
       "  <thead>\n",
       "    <tr style=\"text-align: right;\">\n",
       "      <th></th>\n",
       "      <th>mean</th>\n",
       "    </tr>\n",
       "  </thead>\n",
       "  <tbody>\n",
       "    <tr>\n",
       "      <th>test_accuracy</th>\n",
       "      <td>0.782</td>\n",
       "    </tr>\n",
       "    <tr>\n",
       "      <th>test_f1</th>\n",
       "      <td>0.776</td>\n",
       "    </tr>\n",
       "    <tr>\n",
       "      <th>test_recall</th>\n",
       "      <td>0.756</td>\n",
       "    </tr>\n",
       "    <tr>\n",
       "      <th>test_roc_auc</th>\n",
       "      <td>0.853</td>\n",
       "    </tr>\n",
       "  </tbody>\n",
       "</table>\n",
       "</div>"
      ],
      "text/plain": [
       "                mean\n",
       "test_accuracy  0.782\n",
       "test_f1        0.776\n",
       "test_recall    0.756\n",
       "test_roc_auc   0.853"
      ]
     },
     "execution_count": 32,
     "metadata": {},
     "output_type": "execute_result"
    }
   ],
   "source": [
    "df_scores=pd.DataFrame(scores)\n",
    "df_means = pd.DataFrame(df_scores.describe().loc['mean'])\n",
    "\n",
    "pd.set_option('display.precision',3)\n",
    "df_results = df_means.T.drop(columns = ['fit_time','score_time'])\n",
    "df_results.T"
   ]
  },
  {
   "cell_type": "code",
   "execution_count": 33,
   "id": "4f21c869",
   "metadata": {},
   "outputs": [
    {
     "data": {
      "image/png": "[encoded data removed]",
      "text/plain": [
       "<Figure size 800x600 with 1 Axes>"
      ]
     },
     "metadata": {},
     "output_type": "display_data"
    }
   ],
   "source": [
    "from matplotlib import pyplot as plt\n",
    "import seaborn as sns\n",
    "plt.figure(figsize=(8,6))\n",
    "ax = sns.barplot(df_results)"
   ]
  },
  {
   "cell_type": "markdown",
   "id": "f59db0d9",
   "metadata": {},
   "source": [
    "### CamemBERT Embeddings"
   ]
  },
  {
   "cell_type": "code",
   "execution_count": 35,
   "id": "fd35083a",
   "metadata": {},
   "outputs": [],
   "source": [
    "X = X_embeddings"
   ]
  },
  {
   "cell_type": "code",
   "execution_count": 36,
   "id": "b1414c3e",
   "metadata": {},
   "outputs": [],
   "source": [
    "scores = cross_validate(logreg, X, y, cv=cv,\n",
    "                        scoring=('accuracy','f1','recall','roc_auc'))\n",
    "df_scores=pd.DataFrame(scores)\n",
    "df_means = pd.DataFrame(df_scores.describe().loc['mean'])"
   ]
  },
  {
   "cell_type": "code",
   "execution_count": 37,
   "id": "595c4e5a",
   "metadata": {},
   "outputs": [
    {
     "data": {
      "text/html": [
       "<div>\n",
       "<style scoped>\n",
       "    .dataframe tbody tr th:only-of-type {\n",
       "        vertical-align: middle;\n",
       "    }\n",
       "\n",
       "    .dataframe tbody tr th {\n",
       "        vertical-align: top;\n",
       "    }\n",
       "\n",
       "    .dataframe thead th {\n",
       "        text-align: right;\n",
       "    }\n",
       "</style>\n",
       "<table border=\"1\" class=\"dataframe\">\n",
       "  <thead>\n",
       "    <tr style=\"text-align: right;\">\n",
       "      <th></th>\n",
       "      <th>mean</th>\n",
       "    </tr>\n",
       "  </thead>\n",
       "  <tbody>\n",
       "    <tr>\n",
       "      <th>test_accuracy</th>\n",
       "      <td>0.751</td>\n",
       "    </tr>\n",
       "    <tr>\n",
       "      <th>test_f1</th>\n",
       "      <td>0.753</td>\n",
       "    </tr>\n",
       "    <tr>\n",
       "      <th>test_recall</th>\n",
       "      <td>0.766</td>\n",
       "    </tr>\n",
       "    <tr>\n",
       "      <th>test_roc_auc</th>\n",
       "      <td>0.834</td>\n",
       "    </tr>\n",
       "  </tbody>\n",
       "</table>\n",
       "</div>"
      ],
      "text/plain": [
       "                mean\n",
       "test_accuracy  0.751\n",
       "test_f1        0.753\n",
       "test_recall    0.766\n",
       "test_roc_auc   0.834"
      ]
     },
     "execution_count": 37,
     "metadata": {},
     "output_type": "execute_result"
    }
   ],
   "source": [
    "pd.set_option('display.precision',3)\n",
    "df_results = df_means.T.drop(columns = ['fit_time','score_time'])\n",
    "df_results.T"
   ]
  },
  {
   "cell_type": "code",
   "execution_count": 38,
   "id": "6bdbed61",
   "metadata": {},
   "outputs": [
    {
     "data": {
      "image/png": "[encoded data removed]",
      "text/plain": [
       "<Figure size 800x600 with 1 Axes>"
      ]
     },
     "metadata": {},
     "output_type": "display_data"
    }
   ],
   "source": [
    "from matplotlib import pyplot as plt\n",
    "import seaborn as sns\n",
    "plt.figure(figsize=(8,6))\n",
    "ax = sns.barplot(df_results)"
   ]
  },
  {
   "cell_type": "markdown",
   "id": "fb7949bc",
   "metadata": {},
   "source": [
    "# Conclusions\n",
    "---\n",
    "\n",
    "\n",
    "\n",
    "\n",
    "\n"
   ]
  },
  {
   "cell_type": "code",
   "execution_count": null,
   "id": "3508256b",
   "metadata": {},
   "outputs": [],
   "source": []
  }
 ],
 "metadata": {
  "kernelspec": {
   "display_name": "Python 3 (ipykernel)",
   "language": "python",
   "name": "python3"
  },
  "language_info": {
   "codemirror_mode": {
    "name": "ipython",
    "version": 3
   },
   "file_extension": ".py",
   "mimetype": "text/x-python",
   "name": "python",
   "nbconvert_exporter": "python",
   "pygments_lexer": "ipython3",
   "version": "3.9.16"
  }
 },
 "nbformat": 4,
 "nbformat_minor": 5
}
