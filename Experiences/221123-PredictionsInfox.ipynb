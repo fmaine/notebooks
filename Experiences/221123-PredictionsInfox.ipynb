{
 "cells": [
  {
   "cell_type": "markdown",
   "id": "30a8b7b9",
   "metadata": {},
   "source": [
    "# Plateforme Agnostique de Traitement et d'Analyse des Textes\n",
    "### Carnet d'expérimentation\n",
    "---\n",
    "\n",
    "## Sujet : Predictions Infox - Comparaison Bag of Words\n",
    "\n",
    "---\n",
    "\n",
    "### Conseils JW\n",
    "- Utiliser la courbe de ROC : superposition, et calcul de l'intégrale Area under curve = AUC\n",
    "- Faire varier le seuil pour accuracy/recall/f1. La courbe de ROC résume tout ça.\n",
    "- Essayer Naive Bayes avec distribution de Poisson\n",
    "- Refaire un benchmark\n",
    "- Faire des opérations de réduction de dimensions SVD sur le BoW `sklearn.decomposition.TruncatedSVD`\n",
    "- Réseau de neurones : faire petit, metrique AUC\n",
    "- Word Embedings : https://fasttext.cc/docs/en/crawl-vectors.html\n"
   ]
  },
  {
   "cell_type": "markdown",
   "id": "2601e626",
   "metadata": {},
   "source": [
    "# Observations et environnement\n",
    "---"
   ]
  },
  {
   "cell_type": "code",
   "execution_count": 1,
   "id": "5d0de4d7",
   "metadata": {},
   "outputs": [
    {
     "name": "stdout",
     "output_type": "stream",
     "text": [
      "/Users/fm/Desktop/Work/Patat\n"
     ]
    }
   ],
   "source": [
    "cd ../.."
   ]
  },
  {
   "cell_type": "code",
   "execution_count": 2,
   "id": "32256b0d",
   "metadata": {},
   "outputs": [],
   "source": [
    "import importlib\n",
    "import pandas as pd\n",
    "import seaborn as sns"
   ]
  },
  {
   "cell_type": "code",
   "execution_count": null,
   "id": "622e1642",
   "metadata": {},
   "outputs": [],
   "source": []
  },
  {
   "cell_type": "markdown",
   "id": "a3925385",
   "metadata": {},
   "source": [
    "## Paramètres globaux"
   ]
  },
  {
   "cell_type": "code",
   "execution_count": 3,
   "id": "76da150d",
   "metadata": {},
   "outputs": [],
   "source": [
    "random_state = 42"
   ]
  },
  {
   "cell_type": "markdown",
   "id": "a37727b5",
   "metadata": {},
   "source": [
    "## Données d'entrainement"
   ]
  },
  {
   "cell_type": "code",
   "execution_count": 4,
   "id": "d32409d3",
   "metadata": {},
   "outputs": [],
   "source": [
    "df_texts_recueil = pd.read_csv('data/demo/221123-TextInfox.csv')"
   ]
  },
  {
   "cell_type": "code",
   "execution_count": 6,
   "id": "63370cd3",
   "metadata": {},
   "outputs": [
    {
     "data": {
      "text/html": [
       "<div>\n",
       "<style scoped>\n",
       "    .dataframe tbody tr th:only-of-type {\n",
       "        vertical-align: middle;\n",
       "    }\n",
       "\n",
       "    .dataframe tbody tr th {\n",
       "        vertical-align: top;\n",
       "    }\n",
       "\n",
       "    .dataframe thead th {\n",
       "        text-align: right;\n",
       "    }\n",
       "</style>\n",
       "<table border=\"1\" class=\"dataframe\">\n",
       "  <thead>\n",
       "    <tr style=\"text-align: right;\">\n",
       "      <th></th>\n",
       "      <th>url</th>\n",
       "      <th>infox</th>\n",
       "      <th>title</th>\n",
       "      <th>article</th>\n",
       "      <th>text</th>\n",
       "    </tr>\n",
       "  </thead>\n",
       "  <tbody>\n",
       "    <tr>\n",
       "      <th>0</th>\n",
       "      <td>https://actu.fr/faits-divers/quatre-morts-dans...</td>\n",
       "      <td>0.0</td>\n",
       "      <td>Quatre morts dans un accident de la route sur ...</td>\n",
       "      <td>Quatre personnes sont décédées, et une autre a...</td>\n",
       "      <td>Quatre morts dans un accident de la route sur ...</td>\n",
       "    </tr>\n",
       "    <tr>\n",
       "      <th>1</th>\n",
       "      <td>https://www.francetvinfo.fr/economie/budget/co...</td>\n",
       "      <td>0.0</td>\n",
       "      <td>Consommation : les Français boudent les distri...</td>\n",
       "      <td>Les distributeurs de billets vont-ils un jour ...</td>\n",
       "      <td>Consommation : les Français boudent les distri...</td>\n",
       "    </tr>\n",
       "    <tr>\n",
       "      <th>2</th>\n",
       "      <td>https://www.francetvinfo.fr/sante/contraceptio...</td>\n",
       "      <td>0.0</td>\n",
       "      <td>Avortement : le choix des Irlandais</td>\n",
       "      <td>En Irlande, lors du référendum, les électeurs ...</td>\n",
       "      <td>Avortement : le choix des Irlandais\\nEn Irland...</td>\n",
       "    </tr>\n",
       "    <tr>\n",
       "      <th>3</th>\n",
       "      <td>https://www.francesoir.fr/culture-celebrites/u...</td>\n",
       "      <td>0.0</td>\n",
       "      <td>Une ex de Cristiano Ronaldo compare porno et t...</td>\n",
       "      <td>Elle avait mis un pied dans le monde de la tél...</td>\n",
       "      <td>Une ex de Cristiano Ronaldo compare porno et t...</td>\n",
       "    </tr>\n",
       "    <tr>\n",
       "      <th>4</th>\n",
       "      <td>https://www.francesoir.fr/afp-afp-france/levee...</td>\n",
       "      <td>0.0</td>\n",
       "      <td>Levée du statut de détenu signalé de Colonna, ...</td>\n",
       "      <td>Le Premier ministre Jean Castex a levé mardi l...</td>\n",
       "      <td>Levée du statut de détenu signalé de Colonna, ...</td>\n",
       "    </tr>\n",
       "    <tr>\n",
       "      <th>...</th>\n",
       "      <td>...</td>\n",
       "      <td>...</td>\n",
       "      <td>...</td>\n",
       "      <td>...</td>\n",
       "      <td>...</td>\n",
       "    </tr>\n",
       "    <tr>\n",
       "      <th>606</th>\n",
       "      <td>https://www.wikistrike.com/2022/09/11-septembr...</td>\n",
       "      <td>1.0</td>\n",
       "      <td>11 septembre 2001 : La théorie du « complot pi...</td>\n",
       "      <td>Le 11 septembre pour les nuls\\nEst-il vrai que...</td>\n",
       "      <td>11 septembre 2001 : La théorie du « complot pi...</td>\n",
       "    </tr>\n",
       "    <tr>\n",
       "      <th>607</th>\n",
       "      <td>https://www.wikistrike.com/2022/10/selon-un-an...</td>\n",
       "      <td>1.0</td>\n",
       "      <td>Selon un ancien conseiller du Pentagone, les É...</td>\n",
       "      <td>Selon un ancien conseiller du Pentagone, les c...</td>\n",
       "      <td>Selon un ancien conseiller du Pentagone, les É...</td>\n",
       "    </tr>\n",
       "    <tr>\n",
       "      <th>608</th>\n",
       "      <td>https://www.wikistrike.com/2022/10/la-pologne-...</td>\n",
       "      <td>1.0</td>\n",
       "      <td>La Pologne s’apprête à s’emparer du territoire...</td>\n",
       "      <td>La Pologne se prépare à s’emparer du territoir...</td>\n",
       "      <td>La Pologne s’apprête à s’emparer du territoire...</td>\n",
       "    </tr>\n",
       "    <tr>\n",
       "      <th>609</th>\n",
       "      <td>https://www.wikistrike.com/2022/11/exclusivite...</td>\n",
       "      <td>1.0</td>\n",
       "      <td>Exclusivité WikiStrike: un physicien en colère...</td>\n",
       "      <td>Crise énergétique battant son plein,  WikiStri...</td>\n",
       "      <td>Exclusivité WikiStrike: un physicien en colère...</td>\n",
       "    </tr>\n",
       "    <tr>\n",
       "      <th>610</th>\n",
       "      <td>https://www.dreuz.info/2021/08/les-republicain...</td>\n",
       "      <td>1.0</td>\n",
       "      <td>Les Républicains vont devoir se mobiliser afin...</td>\n",
       "      <td>Pour les lecteurs de Dreuz, particulièrement c...</td>\n",
       "      <td>Les Républicains vont devoir se mobiliser afin...</td>\n",
       "    </tr>\n",
       "  </tbody>\n",
       "</table>\n",
       "<p>611 rows × 5 columns</p>\n",
       "</div>"
      ],
      "text/plain": [
       "                                                   url  infox  \\\n",
       "0    https://actu.fr/faits-divers/quatre-morts-dans...    0.0   \n",
       "1    https://www.francetvinfo.fr/economie/budget/co...    0.0   \n",
       "2    https://www.francetvinfo.fr/sante/contraceptio...    0.0   \n",
       "3    https://www.francesoir.fr/culture-celebrites/u...    0.0   \n",
       "4    https://www.francesoir.fr/afp-afp-france/levee...    0.0   \n",
       "..                                                 ...    ...   \n",
       "606  https://www.wikistrike.com/2022/09/11-septembr...    1.0   \n",
       "607  https://www.wikistrike.com/2022/10/selon-un-an...    1.0   \n",
       "608  https://www.wikistrike.com/2022/10/la-pologne-...    1.0   \n",
       "609  https://www.wikistrike.com/2022/11/exclusivite...    1.0   \n",
       "610  https://www.dreuz.info/2021/08/les-republicain...    1.0   \n",
       "\n",
       "                                                 title  \\\n",
       "0    Quatre morts dans un accident de la route sur ...   \n",
       "1    Consommation : les Français boudent les distri...   \n",
       "2                  Avortement : le choix des Irlandais   \n",
       "3    Une ex de Cristiano Ronaldo compare porno et t...   \n",
       "4    Levée du statut de détenu signalé de Colonna, ...   \n",
       "..                                                 ...   \n",
       "606  11 septembre 2001 : La théorie du « complot pi...   \n",
       "607  Selon un ancien conseiller du Pentagone, les É...   \n",
       "608  La Pologne s’apprête à s’emparer du territoire...   \n",
       "609  Exclusivité WikiStrike: un physicien en colère...   \n",
       "610  Les Républicains vont devoir se mobiliser afin...   \n",
       "\n",
       "                                               article  \\\n",
       "0    Quatre personnes sont décédées, et une autre a...   \n",
       "1    Les distributeurs de billets vont-ils un jour ...   \n",
       "2    En Irlande, lors du référendum, les électeurs ...   \n",
       "3    Elle avait mis un pied dans le monde de la tél...   \n",
       "4    Le Premier ministre Jean Castex a levé mardi l...   \n",
       "..                                                 ...   \n",
       "606  Le 11 septembre pour les nuls\\nEst-il vrai que...   \n",
       "607  Selon un ancien conseiller du Pentagone, les c...   \n",
       "608  La Pologne se prépare à s’emparer du territoir...   \n",
       "609  Crise énergétique battant son plein,  WikiStri...   \n",
       "610  Pour les lecteurs de Dreuz, particulièrement c...   \n",
       "\n",
       "                                                  text  \n",
       "0    Quatre morts dans un accident de la route sur ...  \n",
       "1    Consommation : les Français boudent les distri...  \n",
       "2    Avortement : le choix des Irlandais\\nEn Irland...  \n",
       "3    Une ex de Cristiano Ronaldo compare porno et t...  \n",
       "4    Levée du statut de détenu signalé de Colonna, ...  \n",
       "..                                                 ...  \n",
       "606  11 septembre 2001 : La théorie du « complot pi...  \n",
       "607  Selon un ancien conseiller du Pentagone, les É...  \n",
       "608  La Pologne s’apprête à s’emparer du territoire...  \n",
       "609  Exclusivité WikiStrike: un physicien en colère...  \n",
       "610  Les Républicains vont devoir se mobiliser afin...  \n",
       "\n",
       "[611 rows x 5 columns]"
      ]
     },
     "execution_count": 6,
     "metadata": {},
     "output_type": "execute_result"
    }
   ],
   "source": [
    "df_texts_recueil"
   ]
  },
  {
   "cell_type": "code",
   "execution_count": 7,
   "id": "58eac7b4",
   "metadata": {},
   "outputs": [],
   "source": [
    "df_texts_afp =  pd.read_csv('data/tmp/221118-TextsAfp.csv')"
   ]
  },
  {
   "cell_type": "code",
   "execution_count": 8,
   "id": "7b3875f9",
   "metadata": {},
   "outputs": [
    {
     "data": {
      "text/html": [
       "<div>\n",
       "<style scoped>\n",
       "    .dataframe tbody tr th:only-of-type {\n",
       "        vertical-align: middle;\n",
       "    }\n",
       "\n",
       "    .dataframe tbody tr th {\n",
       "        vertical-align: top;\n",
       "    }\n",
       "\n",
       "    .dataframe thead th {\n",
       "        text-align: right;\n",
       "    }\n",
       "</style>\n",
       "<table border=\"1\" class=\"dataframe\">\n",
       "  <thead>\n",
       "    <tr style=\"text-align: right;\">\n",
       "      <th></th>\n",
       "      <th>url</th>\n",
       "      <th>text</th>\n",
       "      <th>infox</th>\n",
       "    </tr>\n",
       "  </thead>\n",
       "  <tbody>\n",
       "    <tr>\n",
       "      <th>0</th>\n",
       "      <td>https://www.francesoir.fr/politique-monde/pres...</td>\n",
       "      <td>Présidentielle au Brésil: Bolsonaro talonne Lu...</td>\n",
       "      <td>0.0</td>\n",
       "    </tr>\n",
       "    <tr>\n",
       "      <th>1</th>\n",
       "      <td>https://www.francesoir.fr/politique-france/la-...</td>\n",
       "      <td>La France lance un plan de sobriété énergétiqu...</td>\n",
       "      <td>0.0</td>\n",
       "    </tr>\n",
       "    <tr>\n",
       "      <th>2</th>\n",
       "      <td>https://www.francesoir.fr/politique-monde/mani...</td>\n",
       "      <td>Manifestations des femmes en Iran contre le po...</td>\n",
       "      <td>0.0</td>\n",
       "    </tr>\n",
       "    <tr>\n",
       "      <th>3</th>\n",
       "      <td>https://www.francesoir.fr/politique-france/aff...</td>\n",
       "      <td>Affaire Quatennens: LFI sous la pression de la...</td>\n",
       "      <td>0.0</td>\n",
       "    </tr>\n",
       "    <tr>\n",
       "      <th>4</th>\n",
       "      <td>https://www.francesoir.fr/politique-monde/covi...</td>\n",
       "      <td>Covid-19: pour Joe Biden, \"la pandémie est ter...</td>\n",
       "      <td>0.0</td>\n",
       "    </tr>\n",
       "    <tr>\n",
       "      <th>...</th>\n",
       "      <td>...</td>\n",
       "      <td>...</td>\n",
       "      <td>...</td>\n",
       "    </tr>\n",
       "    <tr>\n",
       "      <th>3232</th>\n",
       "      <td>https://www.francesoir.fr/lifestyle-gastronomi...</td>\n",
       "      <td>La deuxième vie des coquilles d'huîtres\\nLes h...</td>\n",
       "      <td>0.0</td>\n",
       "    </tr>\n",
       "    <tr>\n",
       "      <th>3233</th>\n",
       "      <td>https://www.francesoir.fr/lifestyle-gastronomi...</td>\n",
       "      <td>La truffe se fait rare\\nVictime du réchauffeme...</td>\n",
       "      <td>0.0</td>\n",
       "    </tr>\n",
       "    <tr>\n",
       "      <th>3234</th>\n",
       "      <td>https://www.francesoir.fr/lifestyle-gastronomi...</td>\n",
       "      <td>Rungis prépare un Noël opulent malgré les atte...</td>\n",
       "      <td>0.0</td>\n",
       "    </tr>\n",
       "    <tr>\n",
       "      <th>3235</th>\n",
       "      <td>https://www.francesoir.fr/lifestyle-gastronomi...</td>\n",
       "      <td>Gastronomie: le Franco-Suisse Benoît Violier m...</td>\n",
       "      <td>0.0</td>\n",
       "    </tr>\n",
       "    <tr>\n",
       "      <th>3236</th>\n",
       "      <td>https://www.francesoir.fr/lifestyle-gastronomi...</td>\n",
       "      <td>Paris: le \"doggy bag\" désormais proposé dans 1...</td>\n",
       "      <td>0.0</td>\n",
       "    </tr>\n",
       "  </tbody>\n",
       "</table>\n",
       "<p>3237 rows × 3 columns</p>\n",
       "</div>"
      ],
      "text/plain": [
       "                                                    url  \\\n",
       "0     https://www.francesoir.fr/politique-monde/pres...   \n",
       "1     https://www.francesoir.fr/politique-france/la-...   \n",
       "2     https://www.francesoir.fr/politique-monde/mani...   \n",
       "3     https://www.francesoir.fr/politique-france/aff...   \n",
       "4     https://www.francesoir.fr/politique-monde/covi...   \n",
       "...                                                 ...   \n",
       "3232  https://www.francesoir.fr/lifestyle-gastronomi...   \n",
       "3233  https://www.francesoir.fr/lifestyle-gastronomi...   \n",
       "3234  https://www.francesoir.fr/lifestyle-gastronomi...   \n",
       "3235  https://www.francesoir.fr/lifestyle-gastronomi...   \n",
       "3236  https://www.francesoir.fr/lifestyle-gastronomi...   \n",
       "\n",
       "                                                   text  infox  \n",
       "0     Présidentielle au Brésil: Bolsonaro talonne Lu...    0.0  \n",
       "1     La France lance un plan de sobriété énergétiqu...    0.0  \n",
       "2     Manifestations des femmes en Iran contre le po...    0.0  \n",
       "3     Affaire Quatennens: LFI sous la pression de la...    0.0  \n",
       "4     Covid-19: pour Joe Biden, \"la pandémie est ter...    0.0  \n",
       "...                                                 ...    ...  \n",
       "3232  La deuxième vie des coquilles d'huîtres\\nLes h...    0.0  \n",
       "3233  La truffe se fait rare\\nVictime du réchauffeme...    0.0  \n",
       "3234  Rungis prépare un Noël opulent malgré les atte...    0.0  \n",
       "3235  Gastronomie: le Franco-Suisse Benoît Violier m...    0.0  \n",
       "3236  Paris: le \"doggy bag\" désormais proposé dans 1...    0.0  \n",
       "\n",
       "[3237 rows x 3 columns]"
      ]
     },
     "execution_count": 8,
     "metadata": {},
     "output_type": "execute_result"
    }
   ],
   "source": [
    "df_texts_afp"
   ]
  },
  {
   "cell_type": "code",
   "execution_count": 9,
   "id": "99478eff",
   "metadata": {},
   "outputs": [],
   "source": [
    "with open('data/tmp/221110-IgnoreLemmas.txt','r') as file:\n",
    "    ignore_words = file.read().split()"
   ]
  },
  {
   "cell_type": "code",
   "execution_count": 10,
   "id": "d7d73714",
   "metadata": {},
   "outputs": [
    {
     "name": "stdout",
     "output_type": "stream",
     "text": [
      "['de', 'la', 'le', 'les', 'et', 'des', 'en', 'un', 'du', 'est', 'une', 'que', 'être', 'avoir', 'pour', 'dans', 'qui', 'il', 'par', 'sur', 'au', 'pas', 'ce', 'plaire', 'faire', 'ne', 'qu', 'pouvoir', 'se', 'avec', 'tout', 'ou', 'été', 'son', 'mais', 'aux', 'cette', 'on', 'nous', 'comme', 'elle', 'même', 'autre', 'devoir', 'ces', 'pays', 'leur', 'si', 'sa', 'ses', 'bien', 'état', 'contre', 'ils', 'vous', 'sans', 'voir', 'je', 'après', 'deux', 'depuis', 'mettre', 'russie', 'monde', 'entre', 'grand', 'an', 'dire', 'covid', 'invitant', 'guéguen', 'patiemment', 'méditation', 'eda', 'perdurer', 'inversement', 'guedj', 'penn', 'kang', 'officieux', 'jurisprudence', 'kant', 'hectare', 'islamisation', 'hebdo', 'guichard', 'entente', 'guihard', 'pepe', 'duel', 'haïr', 'naufrage', 'ironiquement', 'olivennes', 'juvénile', 'inégal', 'patois', 'justifiant', 'echos', 'jacky']\n",
      "15203\n"
     ]
    }
   ],
   "source": [
    "print(ignore_words[:100])\n",
    "print(len(ignore_words))"
   ]
  },
  {
   "cell_type": "code",
   "execution_count": 11,
   "id": "f89c81ac",
   "metadata": {},
   "outputs": [],
   "source": [
    "df_words = pd.read_csv('data/prod/221125-InfoxWords.csv')"
   ]
  },
  {
   "cell_type": "code",
   "execution_count": 12,
   "id": "08f10d8a",
   "metadata": {},
   "outputs": [
    {
     "data": {
      "text/html": [
       "<div>\n",
       "<style scoped>\n",
       "    .dataframe tbody tr th:only-of-type {\n",
       "        vertical-align: middle;\n",
       "    }\n",
       "\n",
       "    .dataframe tbody tr th {\n",
       "        vertical-align: top;\n",
       "    }\n",
       "\n",
       "    .dataframe thead th {\n",
       "        text-align: right;\n",
       "    }\n",
       "</style>\n",
       "<table border=\"1\" class=\"dataframe\">\n",
       "  <thead>\n",
       "    <tr style=\"text-align: right;\">\n",
       "      <th></th>\n",
       "      <th>Unnamed: 0</th>\n",
       "      <th>count_0</th>\n",
       "      <th>count_1</th>\n",
       "      <th>count</th>\n",
       "      <th>rare_1</th>\n",
       "      <th>rare_2</th>\n",
       "      <th>rare_3</th>\n",
       "      <th>rare_4</th>\n",
       "      <th>rare_5</th>\n",
       "      <th>rare_6</th>\n",
       "      <th>rare_7</th>\n",
       "      <th>common_50</th>\n",
       "      <th>common_80</th>\n",
       "      <th>common_120</th>\n",
       "      <th>common_200</th>\n",
       "      <th>common_500</th>\n",
       "    </tr>\n",
       "  </thead>\n",
       "  <tbody>\n",
       "    <tr>\n",
       "      <th>0</th>\n",
       "      <td>de</td>\n",
       "      <td>114412</td>\n",
       "      <td>23980</td>\n",
       "      <td>138392</td>\n",
       "      <td>False</td>\n",
       "      <td>False</td>\n",
       "      <td>False</td>\n",
       "      <td>False</td>\n",
       "      <td>False</td>\n",
       "      <td>False</td>\n",
       "      <td>False</td>\n",
       "      <td>True</td>\n",
       "      <td>True</td>\n",
       "      <td>True</td>\n",
       "      <td>True</td>\n",
       "      <td>True</td>\n",
       "    </tr>\n",
       "    <tr>\n",
       "      <th>1</th>\n",
       "      <td>la</td>\n",
       "      <td>63402</td>\n",
       "      <td>12901</td>\n",
       "      <td>76303</td>\n",
       "      <td>False</td>\n",
       "      <td>False</td>\n",
       "      <td>False</td>\n",
       "      <td>False</td>\n",
       "      <td>False</td>\n",
       "      <td>False</td>\n",
       "      <td>False</td>\n",
       "      <td>True</td>\n",
       "      <td>True</td>\n",
       "      <td>True</td>\n",
       "      <td>True</td>\n",
       "      <td>True</td>\n",
       "    </tr>\n",
       "    <tr>\n",
       "      <th>2</th>\n",
       "      <td>le</td>\n",
       "      <td>49361</td>\n",
       "      <td>9921</td>\n",
       "      <td>59282</td>\n",
       "      <td>False</td>\n",
       "      <td>False</td>\n",
       "      <td>False</td>\n",
       "      <td>False</td>\n",
       "      <td>False</td>\n",
       "      <td>False</td>\n",
       "      <td>False</td>\n",
       "      <td>True</td>\n",
       "      <td>True</td>\n",
       "      <td>True</td>\n",
       "      <td>True</td>\n",
       "      <td>True</td>\n",
       "    </tr>\n",
       "    <tr>\n",
       "      <th>3</th>\n",
       "      <td>et</td>\n",
       "      <td>38704</td>\n",
       "      <td>10142</td>\n",
       "      <td>48846</td>\n",
       "      <td>False</td>\n",
       "      <td>False</td>\n",
       "      <td>False</td>\n",
       "      <td>False</td>\n",
       "      <td>False</td>\n",
       "      <td>False</td>\n",
       "      <td>False</td>\n",
       "      <td>True</td>\n",
       "      <td>True</td>\n",
       "      <td>True</td>\n",
       "      <td>True</td>\n",
       "      <td>True</td>\n",
       "    </tr>\n",
       "    <tr>\n",
       "      <th>4</th>\n",
       "      <td>les</td>\n",
       "      <td>38053</td>\n",
       "      <td>10363</td>\n",
       "      <td>48416</td>\n",
       "      <td>False</td>\n",
       "      <td>False</td>\n",
       "      <td>False</td>\n",
       "      <td>False</td>\n",
       "      <td>False</td>\n",
       "      <td>False</td>\n",
       "      <td>False</td>\n",
       "      <td>True</td>\n",
       "      <td>True</td>\n",
       "      <td>True</td>\n",
       "      <td>True</td>\n",
       "      <td>True</td>\n",
       "    </tr>\n",
       "    <tr>\n",
       "      <th>...</th>\n",
       "      <td>...</td>\n",
       "      <td>...</td>\n",
       "      <td>...</td>\n",
       "      <td>...</td>\n",
       "      <td>...</td>\n",
       "      <td>...</td>\n",
       "      <td>...</td>\n",
       "      <td>...</td>\n",
       "      <td>...</td>\n",
       "      <td>...</td>\n",
       "      <td>...</td>\n",
       "      <td>...</td>\n",
       "      <td>...</td>\n",
       "      <td>...</td>\n",
       "      <td>...</td>\n",
       "      <td>...</td>\n",
       "    </tr>\n",
       "    <tr>\n",
       "      <th>54204</th>\n",
       "      <td>mayr</td>\n",
       "      <td>0</td>\n",
       "      <td>1</td>\n",
       "      <td>1</td>\n",
       "      <td>True</td>\n",
       "      <td>True</td>\n",
       "      <td>True</td>\n",
       "      <td>True</td>\n",
       "      <td>True</td>\n",
       "      <td>True</td>\n",
       "      <td>True</td>\n",
       "      <td>False</td>\n",
       "      <td>False</td>\n",
       "      <td>False</td>\n",
       "      <td>False</td>\n",
       "      <td>False</td>\n",
       "    </tr>\n",
       "    <tr>\n",
       "      <th>54205</th>\n",
       "      <td>mazari</td>\n",
       "      <td>0</td>\n",
       "      <td>1</td>\n",
       "      <td>1</td>\n",
       "      <td>True</td>\n",
       "      <td>True</td>\n",
       "      <td>True</td>\n",
       "      <td>True</td>\n",
       "      <td>True</td>\n",
       "      <td>True</td>\n",
       "      <td>True</td>\n",
       "      <td>False</td>\n",
       "      <td>False</td>\n",
       "      <td>False</td>\n",
       "      <td>False</td>\n",
       "      <td>False</td>\n",
       "    </tr>\n",
       "    <tr>\n",
       "      <th>54206</th>\n",
       "      <td>maçonnique</td>\n",
       "      <td>0</td>\n",
       "      <td>2</td>\n",
       "      <td>2</td>\n",
       "      <td>False</td>\n",
       "      <td>True</td>\n",
       "      <td>True</td>\n",
       "      <td>True</td>\n",
       "      <td>True</td>\n",
       "      <td>True</td>\n",
       "      <td>True</td>\n",
       "      <td>False</td>\n",
       "      <td>False</td>\n",
       "      <td>False</td>\n",
       "      <td>False</td>\n",
       "      <td>False</td>\n",
       "    </tr>\n",
       "    <tr>\n",
       "      <th>54207</th>\n",
       "      <td>maïté</td>\n",
       "      <td>0</td>\n",
       "      <td>1</td>\n",
       "      <td>1</td>\n",
       "      <td>True</td>\n",
       "      <td>True</td>\n",
       "      <td>True</td>\n",
       "      <td>True</td>\n",
       "      <td>True</td>\n",
       "      <td>True</td>\n",
       "      <td>True</td>\n",
       "      <td>False</td>\n",
       "      <td>False</td>\n",
       "      <td>False</td>\n",
       "      <td>False</td>\n",
       "      <td>False</td>\n",
       "    </tr>\n",
       "    <tr>\n",
       "      <th>54208</th>\n",
       "      <td>þórólfur</td>\n",
       "      <td>0</td>\n",
       "      <td>1</td>\n",
       "      <td>1</td>\n",
       "      <td>True</td>\n",
       "      <td>True</td>\n",
       "      <td>True</td>\n",
       "      <td>True</td>\n",
       "      <td>True</td>\n",
       "      <td>True</td>\n",
       "      <td>True</td>\n",
       "      <td>False</td>\n",
       "      <td>False</td>\n",
       "      <td>False</td>\n",
       "      <td>False</td>\n",
       "      <td>False</td>\n",
       "    </tr>\n",
       "  </tbody>\n",
       "</table>\n",
       "<p>54209 rows × 16 columns</p>\n",
       "</div>"
      ],
      "text/plain": [
       "       Unnamed: 0  count_0  count_1   count  rare_1  rare_2  rare_3  rare_4  \\\n",
       "0              de   114412    23980  138392   False   False   False   False   \n",
       "1              la    63402    12901   76303   False   False   False   False   \n",
       "2              le    49361     9921   59282   False   False   False   False   \n",
       "3              et    38704    10142   48846   False   False   False   False   \n",
       "4             les    38053    10363   48416   False   False   False   False   \n",
       "...           ...      ...      ...     ...     ...     ...     ...     ...   \n",
       "54204        mayr        0        1       1    True    True    True    True   \n",
       "54205      mazari        0        1       1    True    True    True    True   \n",
       "54206  maçonnique        0        2       2   False    True    True    True   \n",
       "54207       maïté        0        1       1    True    True    True    True   \n",
       "54208    þórólfur        0        1       1    True    True    True    True   \n",
       "\n",
       "       rare_5  rare_6  rare_7  common_50  common_80  common_120  common_200  \\\n",
       "0       False   False   False       True       True        True        True   \n",
       "1       False   False   False       True       True        True        True   \n",
       "2       False   False   False       True       True        True        True   \n",
       "3       False   False   False       True       True        True        True   \n",
       "4       False   False   False       True       True        True        True   \n",
       "...       ...     ...     ...        ...        ...         ...         ...   \n",
       "54204    True    True    True      False      False       False       False   \n",
       "54205    True    True    True      False      False       False       False   \n",
       "54206    True    True    True      False      False       False       False   \n",
       "54207    True    True    True      False      False       False       False   \n",
       "54208    True    True    True      False      False       False       False   \n",
       "\n",
       "       common_500  \n",
       "0            True  \n",
       "1            True  \n",
       "2            True  \n",
       "3            True  \n",
       "4            True  \n",
       "...           ...  \n",
       "54204       False  \n",
       "54205       False  \n",
       "54206       False  \n",
       "54207       False  \n",
       "54208       False  \n",
       "\n",
       "[54209 rows x 16 columns]"
      ]
     },
     "execution_count": 12,
     "metadata": {},
     "output_type": "execute_result"
    }
   ],
   "source": [
    "df_words"
   ]
  },
  {
   "cell_type": "code",
   "execution_count": 13,
   "id": "83874cc1",
   "metadata": {},
   "outputs": [],
   "source": [
    "ignore_words_small = list(df_words[df_words['rare_1']].index) + list(df_words[df_words['common_80']].index)\n",
    "ignore_words_medium = list(df_words[df_words['rare_2']].index) + list(df_words[df_words['common_80']].index)\n",
    "ignore_words_large = list(df_words[df_words['rare_5']].index) + list(df_words[df_words['common_200']].index)"
   ]
  },
  {
   "cell_type": "code",
   "execution_count": 14,
   "id": "3a114df6",
   "metadata": {},
   "outputs": [],
   "source": [
    "common_80 = list(df_words[df_words['common_80']].index)\n",
    "common_200 = list(df_words[df_words['common_200']].index)"
   ]
  },
  {
   "cell_type": "code",
   "execution_count": 15,
   "id": "3ae8e78f",
   "metadata": {},
   "outputs": [
    {
     "data": {
      "text/plain": [
       "15203"
      ]
     },
     "execution_count": 15,
     "metadata": {},
     "output_type": "execute_result"
    }
   ],
   "source": [
    "len(ignore_words)"
   ]
  },
  {
   "cell_type": "markdown",
   "id": "f32351c1",
   "metadata": {},
   "source": [
    "# Experience\n",
    "---"
   ]
  },
  {
   "cell_type": "markdown",
   "id": "692002bb",
   "metadata": {},
   "source": [
    "## Pipeline"
   ]
  },
  {
   "cell_type": "markdown",
   "id": "cc4d845f",
   "metadata": {},
   "source": [
    "### Preprocessor"
   ]
  },
  {
   "cell_type": "code",
   "execution_count": 16,
   "id": "2e6efc6d",
   "metadata": {},
   "outputs": [],
   "source": [
    "import patat.util.text\n",
    "\n",
    "importlib.reload(patat.util.text)\n",
    "preprocessor = patat.util.text.preprocess\n",
    "#preprocessor=None"
   ]
  },
  {
   "cell_type": "markdown",
   "id": "685b5cbb",
   "metadata": {},
   "source": [
    "### Tokenizer"
   ]
  },
  {
   "cell_type": "code",
   "execution_count": 17,
   "id": "52367d50",
   "metadata": {},
   "outputs": [],
   "source": [
    "from patat.ml.lex_analyser import LexAnalyser\n",
    "\n",
    "lex = LexAnalyser()\n",
    "\n",
    "tokenizer = lex.get_lemmas_from_text"
   ]
  },
  {
   "cell_type": "markdown",
   "id": "414fb32f",
   "metadata": {},
   "source": [
    "### TfIdfVectorizer"
   ]
  },
  {
   "cell_type": "code",
   "execution_count": 18,
   "id": "4f2e5c3b",
   "metadata": {},
   "outputs": [],
   "source": [
    "from sklearn.feature_extraction.text import CountVectorizer\n",
    "from sklearn.feature_extraction.text import TfidfVectorizer"
   ]
  },
  {
   "cell_type": "code",
   "execution_count": 19,
   "id": "28886029",
   "metadata": {},
   "outputs": [],
   "source": [
    "#afp_size = 3000\n",
    "#afp_size = 120\n",
    "afp_size = 20\n",
    "#afp_size = 0\n",
    "df_ml = pd.concat([df_texts_recueil,df_texts_afp.sample(afp_size,random_state=random_state)])"
   ]
  },
  {
   "cell_type": "code",
   "execution_count": 21,
   "id": "9c31a944",
   "metadata": {},
   "outputs": [
    {
     "name": "stderr",
     "output_type": "stream",
     "text": [
      "/Users/fm/opt/anaconda3/lib/python3.9/site-packages/sklearn/feature_extraction/text.py:404: UserWarning: Your stop_words may be inconsistent with your preprocessing. Tokenizing the stop words generated tokens ['aboutir', 'abrutir', 'ambitieux', 'anlaşmas', 'boeuf', 'bouillir', 'bursal', 'choeur', 'coeur', 'coordonner', 'croire', 'décombrer', 'démoraliser', 'déplaire', 'désoeuvrer', 'désordonner', 'florir', 'foetal', 'joindre', 'km', 'lacağ', 'liman', 'manoeuvre', 'matcher', 'maudire', 'menacer', 'mol', 'noeud', 'oeuf', 'oxygéner', 'personnaliser', 'presser', 'précieux', 'présumer', 'recroître', 'saisir', 'sald', 'satisfaire', 'sevkiyat', 'soeur', 'subventionner', 'tah', 'teindre', 'tracter', 'voeu', 'yap', 'yla', 'émerger', 'énoncer', 'équivaloir'] not in stop_words.\n",
      "  warnings.warn(\n"
     ]
    },
    {
     "name": "stdout",
     "output_type": "stream",
     "text": [
      "CPU times: user 485 ms, sys: 16.2 ms, total: 501 ms\n",
      "Wall time: 506 ms\n"
     ]
    },
    {
     "data": {
      "text/plain": [
       "13899"
      ]
     },
     "execution_count": 21,
     "metadata": {},
     "output_type": "execute_result"
    }
   ],
   "source": [
    "%%time\n",
    "vectorizer = TfidfVectorizer(lowercase=True, preprocessor=preprocessor, tokenizer=tokenizer, stop_words=ignore_words)\n",
    "#vectorizer = CountVectorizer(lowercase=True, preprocessor=preprocessor, tokenizer=tokenizer, stop_words=ignore_words_small)\n",
    "count_matrix = vectorizer.fit_transform(df_ml['text'])\n",
    "count_array = count_matrix.toarray()\n",
    "df_tf = pd.DataFrame(data=count_array,columns = vectorizer.get_feature_names_out())\n",
    "df_tf.shape\n",
    "\n",
    "df_X = df_tf\n",
    "\n",
    "len(df_X.keys())"
   ]
  },
  {
   "cell_type": "markdown",
   "id": "0986e9dc",
   "metadata": {},
   "source": [
    "## Entrainement sklearn"
   ]
  },
  {
   "cell_type": "code",
   "execution_count": 22,
   "id": "1de04b32",
   "metadata": {},
   "outputs": [],
   "source": [
    "from sklearn.linear_model import LogisticRegression\n",
    "from sklearn.neural_network import MLPClassifier\n",
    "from sklearn.model_selection import train_test_split\n",
    "from sklearn.model_selection import cross_val_score\n",
    "from sklearn import metrics"
   ]
  },
  {
   "cell_type": "code",
   "execution_count": 23,
   "id": "0e295bab",
   "metadata": {},
   "outputs": [],
   "source": [
    "X = df_X\n",
    "y=df_ml['infox']"
   ]
  },
  {
   "cell_type": "code",
   "execution_count": 24,
   "id": "02acec77",
   "metadata": {},
   "outputs": [
    {
     "data": {
      "text/plain": [
       "(631, 13899)"
      ]
     },
     "execution_count": 24,
     "metadata": {},
     "output_type": "execute_result"
    }
   ],
   "source": [
    "df_X.shape"
   ]
  },
  {
   "cell_type": "markdown",
   "id": "8ac7c3bd",
   "metadata": {},
   "source": [
    "### Initialisations"
   ]
  },
  {
   "cell_type": "code",
   "execution_count": 26,
   "id": "bc1c23f7",
   "metadata": {},
   "outputs": [],
   "source": [
    "train_size=0.8\n",
    "X_train,X_test,y_train,y_test = train_test_split(X,y,random_state=random_state,train_size=train_size)"
   ]
  },
  {
   "cell_type": "code",
   "execution_count": 27,
   "id": "4dcab8cc",
   "metadata": {},
   "outputs": [],
   "source": [
    "def print_metrics(y_train, y_test, y_pred):\n",
    "    print(f'Train size \\t{len(y_train)} = {int(len(y_train)-y_train.sum())} False + {int(y_train.sum())} True' )\n",
    "    print(f'Test size \\t{len(y_test)} = {int(len(y_test)-y_test.sum())} False + {int(y_test.sum())} True\\n' )\n",
    "    print(f'Accuracy score \\t{metrics.accuracy_score(y_test, y_pred)*100:.2f}%')\n",
    "    print(f'Recall score \\t{metrics.recall_score(y_test, y_pred)*100:.2f}%')\n",
    "    print(f'F1 score \\t{metrics.f1_score(y_test, y_pred)*100:.2f}%')\n",
    "    cnf_matrix = metrics.confusion_matrix(y_test, y_pred,normalize='all')\n",
    "    print(f'False Positive \\t{cnf_matrix[0,1]*100:.2f}%')\n",
    "    print(f'False Negative \\t{cnf_matrix[1,0]*100:.2f}%\\n')    "
   ]
  },
  {
   "cell_type": "markdown",
   "id": "d50cee43",
   "metadata": {},
   "source": [
    "### Dummy Classifier"
   ]
  },
  {
   "cell_type": "code",
   "execution_count": 28,
   "id": "166f47ac",
   "metadata": {},
   "outputs": [
    {
     "name": "stdout",
     "output_type": "stream",
     "text": [
      "---------------\n",
      "Strategy : stratified\n",
      "\n",
      "Train size \t504 = 262 False + 242 True\n",
      "Test size \t127 = 70 False + 57 True\n",
      "\n",
      "Accuracy score \t38.58%\n",
      "Recall score \t33.33%\n",
      "F1 score \t32.76%\n",
      "False Positive \t31.50%\n",
      "False Negative \t29.92%\n",
      "\n",
      "---------------\n",
      "Strategy : uniform\n",
      "\n",
      "Train size \t504 = 262 False + 242 True\n",
      "Test size \t127 = 70 False + 57 True\n",
      "\n",
      "Accuracy score \t45.67%\n",
      "Recall score \t54.39%\n",
      "F1 score \t47.33%\n",
      "False Positive \t33.86%\n",
      "False Negative \t20.47%\n",
      "\n"
     ]
    }
   ],
   "source": [
    "from sklearn.dummy import DummyClassifier\n",
    "#strategies = ['most_frequent', 'prior', 'stratified', 'uniform']\n",
    "strategies = ['stratified', 'uniform']\n",
    "for strategy in strategies:\n",
    "    print('---------------')\n",
    "    print(f'Strategy : {strategy}\\n')\n",
    "    classifier = DummyClassifier(strategy=strategy, random_state=random_state)\n",
    "    classifier.fit(X_train, y_train)\n",
    "    y_pred = classifier.predict(X_test)\n",
    "    print_metrics(y_train, y_test, y_pred)"
   ]
  },
  {
   "cell_type": "markdown",
   "id": "df620150",
   "metadata": {},
   "source": [
    "### Confusion Matrix\n",
    "||Pred 0|Pred 1|\n",
    "|---|---|---|\n",
    "|**Test 0**|True Negative|False Positive|\n",
    "|**Test 1**|False Negative|True Positive|"
   ]
  },
  {
   "cell_type": "markdown",
   "id": "ec164f08",
   "metadata": {},
   "source": [
    "### LogisticRegression"
   ]
  },
  {
   "cell_type": "code",
   "execution_count": 29,
   "id": "92db77d8",
   "metadata": {},
   "outputs": [],
   "source": [
    "max_iter=500\n",
    "#C=0.40\n",
    "C=100\n",
    "solver = 'lbfgs'"
   ]
  },
  {
   "cell_type": "code",
   "execution_count": 30,
   "id": "9255fadb",
   "metadata": {},
   "outputs": [
    {
     "name": "stdout",
     "output_type": "stream",
     "text": [
      "LogisticRegression(C=100, max_iter=500, random_state=42)\n",
      "\n",
      "Train size \t504 = 262 False + 242 True\n",
      "Test size \t127 = 70 False + 57 True\n",
      "\n",
      "Accuracy score \t76.38%\n",
      "Recall score \t75.44%\n",
      "F1 score \t74.14%\n",
      "False Positive \t12.60%\n",
      "False Negative \t11.02%\n",
      "\n",
      "CPU times: user 2.75 s, sys: 2.35 s, total: 5.1 s\n",
      "Wall time: 694 ms\n"
     ]
    }
   ],
   "source": [
    "%%time\n",
    "classifier = LogisticRegression(C=C, random_state=random_state, solver=solver, max_iter=max_iter)\n",
    "classifier.fit(X_train, y_train)\n",
    "y_pred = classifier.predict(X_test)\n",
    "print(classifier)\n",
    "print()\n",
    "print_metrics(y_train, y_test, y_pred)"
   ]
  },
  {
   "cell_type": "code",
   "execution_count": 31,
   "id": "c2b6af22",
   "metadata": {},
   "outputs": [
    {
     "name": "stdout",
     "output_type": "stream",
     "text": [
      "[0.76422764 0.6875     0.8030303  0.53211009 0.74074074]\n",
      "Mean Score : 70.55%\n",
      "Deviation Score : 9.44%\n"
     ]
    }
   ],
   "source": [
    "# Cross validation\n",
    "max_iter=500\n",
    "#C=0.40\n",
    "C=1000\n",
    "solver = 'lbfgs'\n",
    "classifier = LogisticRegression(C=C, random_state=random_state, solver=solver, max_iter=max_iter)\n",
    "scores = cross_val_score(classifier, X, y, cv=5,scoring='f1')\n",
    "print(scores)\n",
    "print(f'Mean Score : {scores.mean()*100:.2f}%')\n",
    "print(f'Deviation Score : {scores.std()*100:.2f}%')\n"
   ]
  },
  {
   "cell_type": "markdown",
   "id": "ece468c8",
   "metadata": {},
   "source": [
    "### MLPClassifier"
   ]
  },
  {
   "cell_type": "code",
   "execution_count": 124,
   "id": "7a890384",
   "metadata": {},
   "outputs": [],
   "source": [
    "alpha=1e-4\n",
    "hidden_layer_sizes=(8,8)\n",
    "solver = 'adam'\n",
    "solvers = ['lbfgs', 'sgd', 'adam']\n"
   ]
  },
  {
   "cell_type": "code",
   "execution_count": 126,
   "id": "d024b101",
   "metadata": {},
   "outputs": [
    {
     "name": "stdout",
     "output_type": "stream",
     "text": [
      "MLPClassifier(hidden_layer_sizes=(8, 8), random_state=42)\n",
      "\n",
      "Train size \t504 = 262 False + 242 True\n",
      "Test size \t127 = 70 False + 57 True\n",
      "\n",
      "Accuracy score \t81.89%\n",
      "Recall score \t85.96%\n",
      "F1 score \t80.99%\n",
      "False Positive \t11.81%\n",
      "False Negative \t6.30%\n",
      "\n",
      "CPU times: user 30.4 s, sys: 13.1 s, total: 43.6 s\n",
      "Wall time: 5.44 s\n"
     ]
    }
   ],
   "source": [
    "%%time\n",
    "\n",
    "classifier = MLPClassifier(solver=solver, alpha=alpha, hidden_layer_sizes=hidden_layer_sizes, random_state=random_state)\n",
    "classifier.fit(X_train, y_train)\n",
    "y_pred = classifier.predict(X_test)\n",
    "print(classifier)\n",
    "print()\n",
    "print_metrics(y_train, y_test, y_pred)"
   ]
  },
  {
   "cell_type": "raw",
   "id": "5680caaa",
   "metadata": {},
   "source": [
    "%%time\n",
    "cv = cross_val_score(classifier, X, y, cv=5)\n",
    "print(f'Mean CV Score : {cv.mean()*100:.2f}%')\n",
    "print(f'Deviation CV Score : {cv.std()*100:.2f}%')\n",
    "print(cv)"
   ]
  },
  {
   "cell_type": "markdown",
   "id": "dd719e8d",
   "metadata": {},
   "source": [
    "## Keras"
   ]
  },
  {
   "cell_type": "code",
   "execution_count": 115,
   "id": "4d9fd796",
   "metadata": {},
   "outputs": [],
   "source": [
    "import tensorflow as tf\n",
    "tf.keras.utils.set_random_seed(random_state)"
   ]
  },
  {
   "cell_type": "code",
   "execution_count": 116,
   "id": "39b18776",
   "metadata": {},
   "outputs": [],
   "source": [
    "learn_size=0.90\n",
    "X_learn,X_valid,y_learn,y_valid = train_test_split(X_train,y_train,random_state=random_state,train_size=learn_size)"
   ]
  },
  {
   "cell_type": "code",
   "execution_count": 117,
   "id": "50633b24",
   "metadata": {},
   "outputs": [],
   "source": [
    "from tensorflow import keras\n",
    "from tensorflow.keras import layers\n",
    "\n",
    "model = keras.Sequential([\n",
    "    layers.Dense(256, activation='relu', input_shape=[X.shape[1]]),\n",
    "    layers.Dense(64, activation='relu'),    \n",
    "    layers.GaussianDropout(0.40, seed=random_state),\n",
    "    layers.Dense(1, activation='sigmoid'),\n",
    "])"
   ]
  },
  {
   "cell_type": "code",
   "execution_count": 118,
   "id": "4b900774",
   "metadata": {},
   "outputs": [],
   "source": [
    "from tensorflow import keras\n",
    "from tensorflow.keras import layers\n",
    "\n",
    "model = keras.Sequential([\n",
    "    layers.Input(X.shape[1]),    \n",
    "    layers.Dropout(0.40, seed=random_state),\n",
    "    layers.Dense(8, activation='relu'),\n",
    "#    layers.Dense(8, activation='relu'),    \n",
    "    layers.Dropout(0.40, seed=random_state),\n",
    "#    layers.Dense(8, activation='relu'),\n",
    "#    layers.Dropout(0.40, seed=random_state),\n",
    "    layers.Dense(1, activation='sigmoid'),\n",
    "])"
   ]
  },
  {
   "cell_type": "code",
   "execution_count": 119,
   "id": "c86bc6cd",
   "metadata": {},
   "outputs": [],
   "source": [
    "model.compile(\n",
    "    optimizer='adam',\n",
    "    loss='binary_crossentropy',\n",
    "#    metrics=['binary_accuracy'],\n",
    "    metrics=[tf.keras.metrics.AUC()],\n",
    "    \n",
    ")"
   ]
  },
  {
   "cell_type": "code",
   "execution_count": 120,
   "id": "36c822ac",
   "metadata": {},
   "outputs": [
    {
     "name": "stdout",
     "output_type": "stream",
     "text": [
      "Epoch 1/10\n",
      " 1/19 [>.............................] - ETA: 7s - loss: 0.6971 - auc_3: 0.3392"
     ]
    },
    {
     "name": "stderr",
     "output_type": "stream",
     "text": [
      "2022-11-25 14:55:28.982143: I tensorflow/core/grappler/optimizers/custom_graph_optimizer_registry.cc:114] Plugin optimizer for device_type GPU is enabled.\n"
     ]
    },
    {
     "name": "stdout",
     "output_type": "stream",
     "text": [
      "19/19 [==============================] - 1s 32ms/step - loss: 0.6912 - auc_3: 0.5630 - val_loss: 0.6905 - val_auc_3: 0.6623\n",
      "Epoch 2/10\n",
      " 1/19 [>.............................] - ETA: 0s - loss: 0.6793 - auc_3: 0.8222"
     ]
    },
    {
     "name": "stderr",
     "output_type": "stream",
     "text": [
      "2022-11-25 14:55:29.602774: I tensorflow/core/grappler/optimizers/custom_graph_optimizer_registry.cc:114] Plugin optimizer for device_type GPU is enabled.\n"
     ]
    },
    {
     "name": "stdout",
     "output_type": "stream",
     "text": [
      "19/19 [==============================] - 0s 14ms/step - loss: 0.6721 - auc_3: 0.8726 - val_loss: 0.6823 - val_auc_3: 0.7337\n",
      "Epoch 3/10\n",
      "19/19 [==============================] - 0s 12ms/step - loss: 0.6453 - auc_3: 0.9052 - val_loss: 0.6739 - val_auc_3: 0.7430\n",
      "Epoch 4/10\n",
      "19/19 [==============================] - 0s 13ms/step - loss: 0.6052 - auc_3: 0.9604 - val_loss: 0.6650 - val_auc_3: 0.7391\n",
      "Epoch 5/10\n",
      "19/19 [==============================] - 0s 12ms/step - loss: 0.5706 - auc_3: 0.9680 - val_loss: 0.6556 - val_auc_3: 0.7570\n",
      "Epoch 6/10\n",
      "19/19 [==============================] - 0s 12ms/step - loss: 0.5386 - auc_3: 0.9659 - val_loss: 0.6470 - val_auc_3: 0.7578\n",
      "Epoch 7/10\n",
      "19/19 [==============================] - 0s 12ms/step - loss: 0.4987 - auc_3: 0.9780 - val_loss: 0.6398 - val_auc_3: 0.7585\n",
      "Epoch 8/10\n",
      "19/19 [==============================] - 0s 12ms/step - loss: 0.4643 - auc_3: 0.9851 - val_loss: 0.6338 - val_auc_3: 0.7624\n",
      "Epoch 9/10\n",
      "19/19 [==============================] - 0s 12ms/step - loss: 0.4431 - auc_3: 0.9852 - val_loss: 0.6244 - val_auc_3: 0.7624\n",
      "Epoch 10/10\n",
      "19/19 [==============================] - 0s 12ms/step - loss: 0.4136 - auc_3: 0.9874 - val_loss: 0.6167 - val_auc_3: 0.7632\n",
      "CPU times: user 2.94 s, sys: 1.06 s, total: 3.99 s\n",
      "Wall time: 3.2 s\n"
     ]
    }
   ],
   "source": [
    "%%time\n",
    "epoch = 10\n",
    "\n",
    "early_stopping = keras.callbacks.EarlyStopping(\n",
    "    patience=10,\n",
    "    min_delta=0.0001,\n",
    "    restore_best_weights=True,\n",
    ")\n",
    "\n",
    "history = model.fit(\n",
    "#    X_train.to_numpy(), y_train.to_numpy(),\n",
    "#    validation_split=0.2,\n",
    "    X_learn.to_numpy(), y_learn.to_numpy(),\n",
    "    validation_data=(X_valid.to_numpy(), y_valid.to_numpy()),\n",
    "    batch_size=24,\n",
    "    epochs=epoch,\n",
    "#    callbacks=[early_stopping],\n",
    "    shuffle=True,\n",
    ")"
   ]
  },
  {
   "cell_type": "code",
   "execution_count": 121,
   "id": "68574b05",
   "metadata": {},
   "outputs": [
    {
     "ename": "KeyError",
     "evalue": "\"None of [Index(['auc_1', 'val_auc_1'], dtype='object')] are in the [columns]\"",
     "output_type": "error",
     "traceback": [
      "\u001b[0;31m---------------------------------------------------------------------------\u001b[0m",
      "\u001b[0;31mKeyError\u001b[0m                                  Traceback (most recent call last)",
      "Cell \u001b[0;32mIn [121], line 3\u001b[0m\n\u001b[1;32m      1\u001b[0m history_df \u001b[38;5;241m=\u001b[39m pd\u001b[38;5;241m.\u001b[39mDataFrame(history\u001b[38;5;241m.\u001b[39mhistory)\n\u001b[1;32m      2\u001b[0m history_df\u001b[38;5;241m.\u001b[39mloc[:, [\u001b[38;5;124m'\u001b[39m\u001b[38;5;124mloss\u001b[39m\u001b[38;5;124m'\u001b[39m, \u001b[38;5;124m'\u001b[39m\u001b[38;5;124mval_loss\u001b[39m\u001b[38;5;124m'\u001b[39m]]\u001b[38;5;241m.\u001b[39mplot(title\u001b[38;5;241m=\u001b[39m\u001b[38;5;124m\"\u001b[39m\u001b[38;5;124mCross-entropy\u001b[39m\u001b[38;5;124m\"\u001b[39m)\n\u001b[0;32m----> 3\u001b[0m \u001b[43mhistory_df\u001b[49m\u001b[38;5;241;43m.\u001b[39;49m\u001b[43mloc\u001b[49m\u001b[43m[\u001b[49m\u001b[43m:\u001b[49m\u001b[43m,\u001b[49m\u001b[43m \u001b[49m\u001b[43m[\u001b[49m\u001b[38;5;124;43m'\u001b[39;49m\u001b[38;5;124;43mauc_1\u001b[39;49m\u001b[38;5;124;43m'\u001b[39;49m\u001b[43m,\u001b[49m\u001b[43m \u001b[49m\u001b[38;5;124;43m'\u001b[39;49m\u001b[38;5;124;43mval_auc_1\u001b[39;49m\u001b[38;5;124;43m'\u001b[39;49m\u001b[43m]\u001b[49m\u001b[43m]\u001b[49m\u001b[38;5;241m.\u001b[39mplot(title\u001b[38;5;241m=\u001b[39m\u001b[38;5;124m\"\u001b[39m\u001b[38;5;124mAUC\u001b[39m\u001b[38;5;124m\"\u001b[39m)\n",
      "File \u001b[0;32m~/opt/anaconda3/lib/python3.9/site-packages/pandas/core/indexing.py:961\u001b[0m, in \u001b[0;36m_LocationIndexer.__getitem__\u001b[0;34m(self, key)\u001b[0m\n\u001b[1;32m    959\u001b[0m     \u001b[38;5;28;01mif\u001b[39;00m \u001b[38;5;28mself\u001b[39m\u001b[38;5;241m.\u001b[39m_is_scalar_access(key):\n\u001b[1;32m    960\u001b[0m         \u001b[38;5;28;01mreturn\u001b[39;00m \u001b[38;5;28mself\u001b[39m\u001b[38;5;241m.\u001b[39mobj\u001b[38;5;241m.\u001b[39m_get_value(\u001b[38;5;241m*\u001b[39mkey, takeable\u001b[38;5;241m=\u001b[39m\u001b[38;5;28mself\u001b[39m\u001b[38;5;241m.\u001b[39m_takeable)\n\u001b[0;32m--> 961\u001b[0m     \u001b[38;5;28;01mreturn\u001b[39;00m \u001b[38;5;28;43mself\u001b[39;49m\u001b[38;5;241;43m.\u001b[39;49m\u001b[43m_getitem_tuple\u001b[49m\u001b[43m(\u001b[49m\u001b[43mkey\u001b[49m\u001b[43m)\u001b[49m\n\u001b[1;32m    962\u001b[0m \u001b[38;5;28;01melse\u001b[39;00m:\n\u001b[1;32m    963\u001b[0m     \u001b[38;5;66;03m# we by definition only have the 0th axis\u001b[39;00m\n\u001b[1;32m    964\u001b[0m     axis \u001b[38;5;241m=\u001b[39m \u001b[38;5;28mself\u001b[39m\u001b[38;5;241m.\u001b[39maxis \u001b[38;5;129;01mor\u001b[39;00m \u001b[38;5;241m0\u001b[39m\n",
      "File \u001b[0;32m~/opt/anaconda3/lib/python3.9/site-packages/pandas/core/indexing.py:1149\u001b[0m, in \u001b[0;36m_LocIndexer._getitem_tuple\u001b[0;34m(self, tup)\u001b[0m\n\u001b[1;32m   1146\u001b[0m \u001b[38;5;28;01mif\u001b[39;00m \u001b[38;5;28mself\u001b[39m\u001b[38;5;241m.\u001b[39m_multi_take_opportunity(tup):\n\u001b[1;32m   1147\u001b[0m     \u001b[38;5;28;01mreturn\u001b[39;00m \u001b[38;5;28mself\u001b[39m\u001b[38;5;241m.\u001b[39m_multi_take(tup)\n\u001b[0;32m-> 1149\u001b[0m \u001b[38;5;28;01mreturn\u001b[39;00m \u001b[38;5;28;43mself\u001b[39;49m\u001b[38;5;241;43m.\u001b[39;49m\u001b[43m_getitem_tuple_same_dim\u001b[49m\u001b[43m(\u001b[49m\u001b[43mtup\u001b[49m\u001b[43m)\u001b[49m\n",
      "File \u001b[0;32m~/opt/anaconda3/lib/python3.9/site-packages/pandas/core/indexing.py:827\u001b[0m, in \u001b[0;36m_LocationIndexer._getitem_tuple_same_dim\u001b[0;34m(self, tup)\u001b[0m\n\u001b[1;32m    824\u001b[0m \u001b[38;5;28;01mif\u001b[39;00m com\u001b[38;5;241m.\u001b[39mis_null_slice(key):\n\u001b[1;32m    825\u001b[0m     \u001b[38;5;28;01mcontinue\u001b[39;00m\n\u001b[0;32m--> 827\u001b[0m retval \u001b[38;5;241m=\u001b[39m \u001b[38;5;28;43mgetattr\u001b[39;49m\u001b[43m(\u001b[49m\u001b[43mretval\u001b[49m\u001b[43m,\u001b[49m\u001b[43m \u001b[49m\u001b[38;5;28;43mself\u001b[39;49m\u001b[38;5;241;43m.\u001b[39;49m\u001b[43mname\u001b[49m\u001b[43m)\u001b[49m\u001b[38;5;241;43m.\u001b[39;49m\u001b[43m_getitem_axis\u001b[49m\u001b[43m(\u001b[49m\u001b[43mkey\u001b[49m\u001b[43m,\u001b[49m\u001b[43m \u001b[49m\u001b[43maxis\u001b[49m\u001b[38;5;241;43m=\u001b[39;49m\u001b[43mi\u001b[49m\u001b[43m)\u001b[49m\n\u001b[1;32m    828\u001b[0m \u001b[38;5;66;03m# We should never have retval.ndim < self.ndim, as that should\u001b[39;00m\n\u001b[1;32m    829\u001b[0m \u001b[38;5;66;03m#  be handled by the _getitem_lowerdim call above.\u001b[39;00m\n\u001b[1;32m    830\u001b[0m \u001b[38;5;28;01massert\u001b[39;00m retval\u001b[38;5;241m.\u001b[39mndim \u001b[38;5;241m==\u001b[39m \u001b[38;5;28mself\u001b[39m\u001b[38;5;241m.\u001b[39mndim\n",
      "File \u001b[0;32m~/opt/anaconda3/lib/python3.9/site-packages/pandas/core/indexing.py:1194\u001b[0m, in \u001b[0;36m_LocIndexer._getitem_axis\u001b[0;34m(self, key, axis)\u001b[0m\n\u001b[1;32m   1191\u001b[0m     \u001b[38;5;28;01mif\u001b[39;00m \u001b[38;5;28mhasattr\u001b[39m(key, \u001b[38;5;124m\"\u001b[39m\u001b[38;5;124mndim\u001b[39m\u001b[38;5;124m\"\u001b[39m) \u001b[38;5;129;01mand\u001b[39;00m key\u001b[38;5;241m.\u001b[39mndim \u001b[38;5;241m>\u001b[39m \u001b[38;5;241m1\u001b[39m:\n\u001b[1;32m   1192\u001b[0m         \u001b[38;5;28;01mraise\u001b[39;00m \u001b[38;5;167;01mValueError\u001b[39;00m(\u001b[38;5;124m\"\u001b[39m\u001b[38;5;124mCannot index with multidimensional key\u001b[39m\u001b[38;5;124m\"\u001b[39m)\n\u001b[0;32m-> 1194\u001b[0m     \u001b[38;5;28;01mreturn\u001b[39;00m \u001b[38;5;28;43mself\u001b[39;49m\u001b[38;5;241;43m.\u001b[39;49m\u001b[43m_getitem_iterable\u001b[49m\u001b[43m(\u001b[49m\u001b[43mkey\u001b[49m\u001b[43m,\u001b[49m\u001b[43m \u001b[49m\u001b[43maxis\u001b[49m\u001b[38;5;241;43m=\u001b[39;49m\u001b[43maxis\u001b[49m\u001b[43m)\u001b[49m\n\u001b[1;32m   1196\u001b[0m \u001b[38;5;66;03m# nested tuple slicing\u001b[39;00m\n\u001b[1;32m   1197\u001b[0m \u001b[38;5;28;01mif\u001b[39;00m is_nested_tuple(key, labels):\n",
      "File \u001b[0;32m~/opt/anaconda3/lib/python3.9/site-packages/pandas/core/indexing.py:1132\u001b[0m, in \u001b[0;36m_LocIndexer._getitem_iterable\u001b[0;34m(self, key, axis)\u001b[0m\n\u001b[1;32m   1129\u001b[0m \u001b[38;5;28mself\u001b[39m\u001b[38;5;241m.\u001b[39m_validate_key(key, axis)\n\u001b[1;32m   1131\u001b[0m \u001b[38;5;66;03m# A collection of keys\u001b[39;00m\n\u001b[0;32m-> 1132\u001b[0m keyarr, indexer \u001b[38;5;241m=\u001b[39m \u001b[38;5;28;43mself\u001b[39;49m\u001b[38;5;241;43m.\u001b[39;49m\u001b[43m_get_listlike_indexer\u001b[49m\u001b[43m(\u001b[49m\u001b[43mkey\u001b[49m\u001b[43m,\u001b[49m\u001b[43m \u001b[49m\u001b[43maxis\u001b[49m\u001b[43m)\u001b[49m\n\u001b[1;32m   1133\u001b[0m \u001b[38;5;28;01mreturn\u001b[39;00m \u001b[38;5;28mself\u001b[39m\u001b[38;5;241m.\u001b[39mobj\u001b[38;5;241m.\u001b[39m_reindex_with_indexers(\n\u001b[1;32m   1134\u001b[0m     {axis: [keyarr, indexer]}, copy\u001b[38;5;241m=\u001b[39m\u001b[38;5;28;01mTrue\u001b[39;00m, allow_dups\u001b[38;5;241m=\u001b[39m\u001b[38;5;28;01mTrue\u001b[39;00m\n\u001b[1;32m   1135\u001b[0m )\n",
      "File \u001b[0;32m~/opt/anaconda3/lib/python3.9/site-packages/pandas/core/indexing.py:1330\u001b[0m, in \u001b[0;36m_LocIndexer._get_listlike_indexer\u001b[0;34m(self, key, axis)\u001b[0m\n\u001b[1;32m   1327\u001b[0m ax \u001b[38;5;241m=\u001b[39m \u001b[38;5;28mself\u001b[39m\u001b[38;5;241m.\u001b[39mobj\u001b[38;5;241m.\u001b[39m_get_axis(axis)\n\u001b[1;32m   1328\u001b[0m axis_name \u001b[38;5;241m=\u001b[39m \u001b[38;5;28mself\u001b[39m\u001b[38;5;241m.\u001b[39mobj\u001b[38;5;241m.\u001b[39m_get_axis_name(axis)\n\u001b[0;32m-> 1330\u001b[0m keyarr, indexer \u001b[38;5;241m=\u001b[39m \u001b[43max\u001b[49m\u001b[38;5;241;43m.\u001b[39;49m\u001b[43m_get_indexer_strict\u001b[49m\u001b[43m(\u001b[49m\u001b[43mkey\u001b[49m\u001b[43m,\u001b[49m\u001b[43m \u001b[49m\u001b[43maxis_name\u001b[49m\u001b[43m)\u001b[49m\n\u001b[1;32m   1332\u001b[0m \u001b[38;5;28;01mreturn\u001b[39;00m keyarr, indexer\n",
      "File \u001b[0;32m~/opt/anaconda3/lib/python3.9/site-packages/pandas/core/indexes/base.py:5796\u001b[0m, in \u001b[0;36mIndex._get_indexer_strict\u001b[0;34m(self, key, axis_name)\u001b[0m\n\u001b[1;32m   5793\u001b[0m \u001b[38;5;28;01melse\u001b[39;00m:\n\u001b[1;32m   5794\u001b[0m     keyarr, indexer, new_indexer \u001b[38;5;241m=\u001b[39m \u001b[38;5;28mself\u001b[39m\u001b[38;5;241m.\u001b[39m_reindex_non_unique(keyarr)\n\u001b[0;32m-> 5796\u001b[0m \u001b[38;5;28;43mself\u001b[39;49m\u001b[38;5;241;43m.\u001b[39;49m\u001b[43m_raise_if_missing\u001b[49m\u001b[43m(\u001b[49m\u001b[43mkeyarr\u001b[49m\u001b[43m,\u001b[49m\u001b[43m \u001b[49m\u001b[43mindexer\u001b[49m\u001b[43m,\u001b[49m\u001b[43m \u001b[49m\u001b[43maxis_name\u001b[49m\u001b[43m)\u001b[49m\n\u001b[1;32m   5798\u001b[0m keyarr \u001b[38;5;241m=\u001b[39m \u001b[38;5;28mself\u001b[39m\u001b[38;5;241m.\u001b[39mtake(indexer)\n\u001b[1;32m   5799\u001b[0m \u001b[38;5;28;01mif\u001b[39;00m \u001b[38;5;28misinstance\u001b[39m(key, Index):\n\u001b[1;32m   5800\u001b[0m     \u001b[38;5;66;03m# GH 42790 - Preserve name from an Index\u001b[39;00m\n",
      "File \u001b[0;32m~/opt/anaconda3/lib/python3.9/site-packages/pandas/core/indexes/base.py:5856\u001b[0m, in \u001b[0;36mIndex._raise_if_missing\u001b[0;34m(self, key, indexer, axis_name)\u001b[0m\n\u001b[1;32m   5854\u001b[0m     \u001b[38;5;28;01mif\u001b[39;00m use_interval_msg:\n\u001b[1;32m   5855\u001b[0m         key \u001b[38;5;241m=\u001b[39m \u001b[38;5;28mlist\u001b[39m(key)\n\u001b[0;32m-> 5856\u001b[0m     \u001b[38;5;28;01mraise\u001b[39;00m \u001b[38;5;167;01mKeyError\u001b[39;00m(\u001b[38;5;124mf\u001b[39m\u001b[38;5;124m\"\u001b[39m\u001b[38;5;124mNone of [\u001b[39m\u001b[38;5;132;01m{\u001b[39;00mkey\u001b[38;5;132;01m}\u001b[39;00m\u001b[38;5;124m] are in the [\u001b[39m\u001b[38;5;132;01m{\u001b[39;00maxis_name\u001b[38;5;132;01m}\u001b[39;00m\u001b[38;5;124m]\u001b[39m\u001b[38;5;124m\"\u001b[39m)\n\u001b[1;32m   5858\u001b[0m not_found \u001b[38;5;241m=\u001b[39m \u001b[38;5;28mlist\u001b[39m(ensure_index(key)[missing_mask\u001b[38;5;241m.\u001b[39mnonzero()[\u001b[38;5;241m0\u001b[39m]]\u001b[38;5;241m.\u001b[39munique())\n\u001b[1;32m   5859\u001b[0m \u001b[38;5;28;01mraise\u001b[39;00m \u001b[38;5;167;01mKeyError\u001b[39;00m(\u001b[38;5;124mf\u001b[39m\u001b[38;5;124m\"\u001b[39m\u001b[38;5;132;01m{\u001b[39;00mnot_found\u001b[38;5;132;01m}\u001b[39;00m\u001b[38;5;124m not in index\u001b[39m\u001b[38;5;124m\"\u001b[39m)\n",
      "\u001b[0;31mKeyError\u001b[0m: \"None of [Index(['auc_1', 'val_auc_1'], dtype='object')] are in the [columns]\""
     ]
    },
    {
     "data": {
      "image/png": "[encoded data removed]",
      "text/plain": [
       "<Figure size 640x480 with 1 Axes>"
      ]
     },
     "metadata": {},
     "output_type": "display_data"
    }
   ],
   "source": [
    "history_df = pd.DataFrame(history.history)\n",
    "history_df.loc[:, ['loss', 'val_loss']].plot(title=\"Cross-entropy\")\n",
    "history_df.loc[:, ['auc_1', 'val_auc_1']].plot(title=\"AUC\")#history_df.loc[:, ['binary_accuracy', 'val_binary_accuracy']].plot(title=\"Accuracy\")\n",
    "#history_df.loc[:, ['binary_accuracy', 'val_binary_accuracy']].plot(title=\"Accuracy\")#history_df.loc[:, ['binary_accuracy', 'val_binary_accuracy']].plot(title=\"Accuracy\")\n",
    "\n",
    "\n",
    "\n",
    "\n",
    "\n",
    "\n"
   ]
  },
  {
   "cell_type": "code",
   "execution_count": 122,
   "id": "8623933f",
   "metadata": {},
   "outputs": [
    {
     "data": {
      "text/html": [
       "<div>\n",
       "<style scoped>\n",
       "    .dataframe tbody tr th:only-of-type {\n",
       "        vertical-align: middle;\n",
       "    }\n",
       "\n",
       "    .dataframe tbody tr th {\n",
       "        vertical-align: top;\n",
       "    }\n",
       "\n",
       "    .dataframe thead th {\n",
       "        text-align: right;\n",
       "    }\n",
       "</style>\n",
       "<table border=\"1\" class=\"dataframe\">\n",
       "  <thead>\n",
       "    <tr style=\"text-align: right;\">\n",
       "      <th></th>\n",
       "      <th>loss</th>\n",
       "      <th>auc_3</th>\n",
       "      <th>val_loss</th>\n",
       "      <th>val_auc_3</th>\n",
       "    </tr>\n",
       "  </thead>\n",
       "  <tbody>\n",
       "    <tr>\n",
       "      <th>0</th>\n",
       "      <td>0.691163</td>\n",
       "      <td>0.563016</td>\n",
       "      <td>0.690491</td>\n",
       "      <td>0.662267</td>\n",
       "    </tr>\n",
       "    <tr>\n",
       "      <th>1</th>\n",
       "      <td>0.672113</td>\n",
       "      <td>0.872551</td>\n",
       "      <td>0.682341</td>\n",
       "      <td>0.733696</td>\n",
       "    </tr>\n",
       "    <tr>\n",
       "      <th>2</th>\n",
       "      <td>0.645252</td>\n",
       "      <td>0.905242</td>\n",
       "      <td>0.673869</td>\n",
       "      <td>0.743012</td>\n",
       "    </tr>\n",
       "    <tr>\n",
       "      <th>3</th>\n",
       "      <td>0.605224</td>\n",
       "      <td>0.960417</td>\n",
       "      <td>0.664998</td>\n",
       "      <td>0.739130</td>\n",
       "    </tr>\n",
       "    <tr>\n",
       "      <th>4</th>\n",
       "      <td>0.570596</td>\n",
       "      <td>0.967994</td>\n",
       "      <td>0.655639</td>\n",
       "      <td>0.756988</td>\n",
       "    </tr>\n",
       "    <tr>\n",
       "      <th>5</th>\n",
       "      <td>0.538551</td>\n",
       "      <td>0.965931</td>\n",
       "      <td>0.647039</td>\n",
       "      <td>0.757764</td>\n",
       "    </tr>\n",
       "    <tr>\n",
       "      <th>6</th>\n",
       "      <td>0.498688</td>\n",
       "      <td>0.978014</td>\n",
       "      <td>0.639767</td>\n",
       "      <td>0.758540</td>\n",
       "    </tr>\n",
       "    <tr>\n",
       "      <th>7</th>\n",
       "      <td>0.464262</td>\n",
       "      <td>0.985092</td>\n",
       "      <td>0.633781</td>\n",
       "      <td>0.762422</td>\n",
       "    </tr>\n",
       "    <tr>\n",
       "      <th>8</th>\n",
       "      <td>0.443133</td>\n",
       "      <td>0.985248</td>\n",
       "      <td>0.624415</td>\n",
       "      <td>0.762422</td>\n",
       "    </tr>\n",
       "    <tr>\n",
       "      <th>9</th>\n",
       "      <td>0.413561</td>\n",
       "      <td>0.987428</td>\n",
       "      <td>0.616656</td>\n",
       "      <td>0.763199</td>\n",
       "    </tr>\n",
       "  </tbody>\n",
       "</table>\n",
       "</div>"
      ],
      "text/plain": [
       "       loss     auc_3  val_loss  val_auc_3\n",
       "0  0.691163  0.563016  0.690491   0.662267\n",
       "1  0.672113  0.872551  0.682341   0.733696\n",
       "2  0.645252  0.905242  0.673869   0.743012\n",
       "3  0.605224  0.960417  0.664998   0.739130\n",
       "4  0.570596  0.967994  0.655639   0.756988\n",
       "5  0.538551  0.965931  0.647039   0.757764\n",
       "6  0.498688  0.978014  0.639767   0.758540\n",
       "7  0.464262  0.985092  0.633781   0.762422\n",
       "8  0.443133  0.985248  0.624415   0.762422\n",
       "9  0.413561  0.987428  0.616656   0.763199"
      ]
     },
     "execution_count": 122,
     "metadata": {},
     "output_type": "execute_result"
    }
   ],
   "source": [
    "history_df"
   ]
  },
  {
   "cell_type": "code",
   "execution_count": 123,
   "id": "19ef7c75",
   "metadata": {},
   "outputs": [
    {
     "name": "stdout",
     "output_type": "stream",
     "text": [
      "4/4 [==============================] - 0s 7ms/step\n",
      "<keras.engine.sequential.Sequential object at 0x3195bcee0>\n",
      "\n",
      "Train size \t504 = 262 False + 242 True\n",
      "Test size \t127 = 70 False + 57 True\n",
      "\n",
      "Accuracy score \t78.74%\n",
      "Recall score \t70.18%\n",
      "F1 score \t74.77%\n",
      "False Positive \t7.87%\n",
      "False Negative \t13.39%\n",
      "\n"
     ]
    },
    {
     "name": "stderr",
     "output_type": "stream",
     "text": [
      "2022-11-25 14:55:33.409540: I tensorflow/core/grappler/optimizers/custom_graph_optimizer_registry.cc:114] Plugin optimizer for device_type GPU is enabled.\n"
     ]
    }
   ],
   "source": [
    "y_pred = model.predict(X_test.to_numpy())\n",
    "y_pred = y_pred.round()\n",
    "print(model)\n",
    "print()\n",
    "print_metrics(y_train, y_test, y_pred)"
   ]
  },
  {
   "cell_type": "code",
   "execution_count": 67,
   "id": "2ffe972d",
   "metadata": {},
   "outputs": [
    {
     "name": "stdout",
     "output_type": "stream",
     "text": [
      "Model: \"sequential_5\"\n",
      "_________________________________________________________________\n",
      " Layer (type)                Output Shape              Param #   \n",
      "=================================================================\n",
      " dropout (Dropout)           (None, 13899)             0         \n",
      "                                                                 \n",
      " dense_15 (Dense)            (None, 8)                 111200    \n",
      "                                                                 \n",
      " dense_16 (Dense)            (None, 8)                 72        \n",
      "                                                                 \n",
      " dense_17 (Dense)            (None, 1)                 9         \n",
      "                                                                 \n",
      "=================================================================\n",
      "Total params: 111,281\n",
      "Trainable params: 111,281\n",
      "Non-trainable params: 0\n",
      "_________________________________________________________________\n"
     ]
    }
   ],
   "source": [
    "model.summary()"
   ]
  },
  {
   "cell_type": "markdown",
   "id": "76996d3a",
   "metadata": {},
   "source": [
    "# Sauvegarde des résultats\n",
    "---"
   ]
  },
  {
   "cell_type": "markdown",
   "id": "fb7949bc",
   "metadata": {},
   "source": [
    "# Conclusions\n",
    "---"
   ]
  },
  {
   "cell_type": "markdown",
   "id": "bd06b261",
   "metadata": {},
   "source": [
    "- "
   ]
  },
  {
   "cell_type": "markdown",
   "id": "bd360655",
   "metadata": {},
   "source": [
    "# Bricolages\n",
    "---"
   ]
  },
  {
   "cell_type": "code",
   "execution_count": null,
   "id": "045b38e4",
   "metadata": {},
   "outputs": [],
   "source": [
    "print(\"Num GPUs Available: \", len(tf.config.experimental.list_physical_devices('GPU')))"
   ]
  },
  {
   "cell_type": "code",
   "execution_count": null,
   "id": "05d626d9",
   "metadata": {},
   "outputs": [],
   "source": [
    "tf.config.list_physical_devices()"
   ]
  },
  {
   "cell_type": "code",
   "execution_count": null,
   "id": "a5f101bd",
   "metadata": {},
   "outputs": [],
   "source": [
    "tf.device(\"/CPU:0\")"
   ]
  },
  {
   "cell_type": "code",
   "execution_count": null,
   "id": "6acae5b8",
   "metadata": {},
   "outputs": [],
   "source": [
    "tf.debugging.set_log_device_placement(True)\n",
    "\n",
    "# Place tensors on the CPU\n",
    "with tf.device('/GPU:0'):\n",
    "  a = tf.constant([[1.0, 2.0, 3.0], [4.0, 5.0, 6.0]])\n",
    "  b = tf.constant([[1.0, 2.0], [3.0, 4.0], [5.0, 6.0]])\n",
    "\n",
    "# Run on the GPU\n",
    "c = tf.matmul(a, b)\n",
    "print(c)"
   ]
  },
  {
   "cell_type": "code",
   "execution_count": null,
   "id": "90438ac7",
   "metadata": {},
   "outputs": [],
   "source": [
    "tf.debugging.set_log_device_placement(True)"
   ]
  },
  {
   "cell_type": "code",
   "execution_count": null,
   "id": "f5fbcdd6",
   "metadata": {},
   "outputs": [],
   "source": [
    "tf.config.list_physical_devices('GPU')"
   ]
  },
  {
   "cell_type": "code",
   "execution_count": null,
   "id": "b9d684f3",
   "metadata": {},
   "outputs": [],
   "source": []
  }
 ],
 "metadata": {
  "kernelspec": {
   "display_name": "Python 3 (ipykernel)",
   "language": "python",
   "name": "python3"
  },
  "language_info": {
   "codemirror_mode": {
    "name": "ipython",
    "version": 3
   },
   "file_extension": ".py",
   "mimetype": "text/x-python",
   "name": "python",
   "nbconvert_exporter": "python",
   "pygments_lexer": "ipython3",
   "version": "3.9.15"
  }
 },
 "nbformat": 4,
 "nbformat_minor": 5
}
