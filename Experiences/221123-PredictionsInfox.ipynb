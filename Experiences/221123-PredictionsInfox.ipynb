{
 "cells": [
  {
   "cell_type": "markdown",
   "id": "30a8b7b9",
   "metadata": {},
   "source": [
    "# Plateforme Agnostique de Traitement et d'Analyse des Textes\n",
    "### Carnet d'expérimentation\n",
    "---\n",
    "\n",
    "## Sujet : Predictions Infox - Comparaison Bag of Words\n",
    "\n",
    "---"
   ]
  },
  {
   "cell_type": "markdown",
   "id": "2601e626",
   "metadata": {},
   "source": [
    "# Observations et environnement\n",
    "---"
   ]
  },
  {
   "cell_type": "code",
   "execution_count": 1,
   "id": "5d0de4d7",
   "metadata": {},
   "outputs": [
    {
     "name": "stdout",
     "output_type": "stream",
     "text": [
      "/Users/fm/Desktop/Work/Patat\n"
     ]
    }
   ],
   "source": [
    "cd ../.."
   ]
  },
  {
   "cell_type": "code",
   "execution_count": 2,
   "id": "32256b0d",
   "metadata": {},
   "outputs": [],
   "source": [
    "import importlib\n",
    "import pandas as pd\n",
    "import seaborn as sns"
   ]
  },
  {
   "cell_type": "code",
   "execution_count": null,
   "id": "622e1642",
   "metadata": {},
   "outputs": [],
   "source": []
  },
  {
   "cell_type": "markdown",
   "id": "a3925385",
   "metadata": {},
   "source": [
    "## Paramètres globaux"
   ]
  },
  {
   "cell_type": "code",
   "execution_count": 3,
   "id": "76da150d",
   "metadata": {},
   "outputs": [],
   "source": [
    "random_state = 42"
   ]
  },
  {
   "cell_type": "markdown",
   "id": "a37727b5",
   "metadata": {},
   "source": [
    "## Données d'entrainement"
   ]
  },
  {
   "cell_type": "code",
   "execution_count": 4,
   "id": "d32409d3",
   "metadata": {},
   "outputs": [],
   "source": [
    "df_texts_recueil = pd.read_csv('data/demo/221123-TextInfox.csv')"
   ]
  },
  {
   "cell_type": "code",
   "execution_count": 5,
   "id": "63370cd3",
   "metadata": {},
   "outputs": [
    {
     "data": {
      "text/plain": [
       "count    611.000000\n",
       "mean       0.489362\n",
       "std        0.500296\n",
       "min        0.000000\n",
       "25%        0.000000\n",
       "50%        0.000000\n",
       "75%        1.000000\n",
       "max        1.000000\n",
       "Name: infox, dtype: float64"
      ]
     },
     "execution_count": 5,
     "metadata": {},
     "output_type": "execute_result"
    }
   ],
   "source": [
    "df_texts_recueil['infox'].describe()"
   ]
  },
  {
   "cell_type": "code",
   "execution_count": 6,
   "id": "58eac7b4",
   "metadata": {},
   "outputs": [],
   "source": [
    "df_texts_afp =  pd.read_csv('data/tmp/221118-TextsAfp.csv')"
   ]
  },
  {
   "cell_type": "code",
   "execution_count": 7,
   "id": "7b3875f9",
   "metadata": {},
   "outputs": [
    {
     "data": {
      "text/html": [
       "<div>\n",
       "<style scoped>\n",
       "    .dataframe tbody tr th:only-of-type {\n",
       "        vertical-align: middle;\n",
       "    }\n",
       "\n",
       "    .dataframe tbody tr th {\n",
       "        vertical-align: top;\n",
       "    }\n",
       "\n",
       "    .dataframe thead th {\n",
       "        text-align: right;\n",
       "    }\n",
       "</style>\n",
       "<table border=\"1\" class=\"dataframe\">\n",
       "  <thead>\n",
       "    <tr style=\"text-align: right;\">\n",
       "      <th></th>\n",
       "      <th>url</th>\n",
       "      <th>text</th>\n",
       "      <th>infox</th>\n",
       "    </tr>\n",
       "  </thead>\n",
       "  <tbody>\n",
       "    <tr>\n",
       "      <th>0</th>\n",
       "      <td>https://www.francesoir.fr/politique-monde/pres...</td>\n",
       "      <td>Présidentielle au Brésil: Bolsonaro talonne Lu...</td>\n",
       "      <td>0.0</td>\n",
       "    </tr>\n",
       "    <tr>\n",
       "      <th>1</th>\n",
       "      <td>https://www.francesoir.fr/politique-france/la-...</td>\n",
       "      <td>La France lance un plan de sobriété énergétiqu...</td>\n",
       "      <td>0.0</td>\n",
       "    </tr>\n",
       "    <tr>\n",
       "      <th>2</th>\n",
       "      <td>https://www.francesoir.fr/politique-monde/mani...</td>\n",
       "      <td>Manifestations des femmes en Iran contre le po...</td>\n",
       "      <td>0.0</td>\n",
       "    </tr>\n",
       "    <tr>\n",
       "      <th>3</th>\n",
       "      <td>https://www.francesoir.fr/politique-france/aff...</td>\n",
       "      <td>Affaire Quatennens: LFI sous la pression de la...</td>\n",
       "      <td>0.0</td>\n",
       "    </tr>\n",
       "    <tr>\n",
       "      <th>4</th>\n",
       "      <td>https://www.francesoir.fr/politique-monde/covi...</td>\n",
       "      <td>Covid-19: pour Joe Biden, \"la pandémie est ter...</td>\n",
       "      <td>0.0</td>\n",
       "    </tr>\n",
       "    <tr>\n",
       "      <th>...</th>\n",
       "      <td>...</td>\n",
       "      <td>...</td>\n",
       "      <td>...</td>\n",
       "    </tr>\n",
       "    <tr>\n",
       "      <th>3232</th>\n",
       "      <td>https://www.francesoir.fr/lifestyle-gastronomi...</td>\n",
       "      <td>La deuxième vie des coquilles d'huîtres\\nLes h...</td>\n",
       "      <td>0.0</td>\n",
       "    </tr>\n",
       "    <tr>\n",
       "      <th>3233</th>\n",
       "      <td>https://www.francesoir.fr/lifestyle-gastronomi...</td>\n",
       "      <td>La truffe se fait rare\\nVictime du réchauffeme...</td>\n",
       "      <td>0.0</td>\n",
       "    </tr>\n",
       "    <tr>\n",
       "      <th>3234</th>\n",
       "      <td>https://www.francesoir.fr/lifestyle-gastronomi...</td>\n",
       "      <td>Rungis prépare un Noël opulent malgré les atte...</td>\n",
       "      <td>0.0</td>\n",
       "    </tr>\n",
       "    <tr>\n",
       "      <th>3235</th>\n",
       "      <td>https://www.francesoir.fr/lifestyle-gastronomi...</td>\n",
       "      <td>Gastronomie: le Franco-Suisse Benoît Violier m...</td>\n",
       "      <td>0.0</td>\n",
       "    </tr>\n",
       "    <tr>\n",
       "      <th>3236</th>\n",
       "      <td>https://www.francesoir.fr/lifestyle-gastronomi...</td>\n",
       "      <td>Paris: le \"doggy bag\" désormais proposé dans 1...</td>\n",
       "      <td>0.0</td>\n",
       "    </tr>\n",
       "  </tbody>\n",
       "</table>\n",
       "<p>3237 rows × 3 columns</p>\n",
       "</div>"
      ],
      "text/plain": [
       "                                                    url  \\\n",
       "0     https://www.francesoir.fr/politique-monde/pres...   \n",
       "1     https://www.francesoir.fr/politique-france/la-...   \n",
       "2     https://www.francesoir.fr/politique-monde/mani...   \n",
       "3     https://www.francesoir.fr/politique-france/aff...   \n",
       "4     https://www.francesoir.fr/politique-monde/covi...   \n",
       "...                                                 ...   \n",
       "3232  https://www.francesoir.fr/lifestyle-gastronomi...   \n",
       "3233  https://www.francesoir.fr/lifestyle-gastronomi...   \n",
       "3234  https://www.francesoir.fr/lifestyle-gastronomi...   \n",
       "3235  https://www.francesoir.fr/lifestyle-gastronomi...   \n",
       "3236  https://www.francesoir.fr/lifestyle-gastronomi...   \n",
       "\n",
       "                                                   text  infox  \n",
       "0     Présidentielle au Brésil: Bolsonaro talonne Lu...    0.0  \n",
       "1     La France lance un plan de sobriété énergétiqu...    0.0  \n",
       "2     Manifestations des femmes en Iran contre le po...    0.0  \n",
       "3     Affaire Quatennens: LFI sous la pression de la...    0.0  \n",
       "4     Covid-19: pour Joe Biden, \"la pandémie est ter...    0.0  \n",
       "...                                                 ...    ...  \n",
       "3232  La deuxième vie des coquilles d'huîtres\\nLes h...    0.0  \n",
       "3233  La truffe se fait rare\\nVictime du réchauffeme...    0.0  \n",
       "3234  Rungis prépare un Noël opulent malgré les atte...    0.0  \n",
       "3235  Gastronomie: le Franco-Suisse Benoît Violier m...    0.0  \n",
       "3236  Paris: le \"doggy bag\" désormais proposé dans 1...    0.0  \n",
       "\n",
       "[3237 rows x 3 columns]"
      ]
     },
     "execution_count": 7,
     "metadata": {},
     "output_type": "execute_result"
    }
   ],
   "source": [
    "df_texts_afp"
   ]
  },
  {
   "cell_type": "code",
   "execution_count": 8,
   "id": "99478eff",
   "metadata": {},
   "outputs": [],
   "source": [
    "with open('data/tmp/221110-IgnoreLemmas.txt','r') as file:\n",
    "    ignore_words = file.read().split()"
   ]
  },
  {
   "cell_type": "code",
   "execution_count": 9,
   "id": "d7d73714",
   "metadata": {},
   "outputs": [
    {
     "name": "stdout",
     "output_type": "stream",
     "text": [
      "['de', 'la', 'le', 'les', 'et', 'des', 'en', 'un', 'du', 'est', 'une', 'que', 'être', 'avoir', 'pour', 'dans', 'qui', 'il', 'par', 'sur', 'au', 'pas', 'ce', 'plaire', 'faire', 'ne', 'qu', 'pouvoir', 'se', 'avec', 'tout', 'ou', 'été', 'son', 'mais', 'aux', 'cette', 'on', 'nous', 'comme', 'elle', 'même', 'autre', 'devoir', 'ces', 'pays', 'leur', 'si', 'sa', 'ses', 'bien', 'état', 'contre', 'ils', 'vous', 'sans', 'voir', 'je', 'après', 'deux', 'depuis', 'mettre', 'russie', 'monde', 'entre', 'grand', 'an', 'dire', 'covid', 'invitant', 'guéguen', 'patiemment', 'méditation', 'eda', 'perdurer', 'inversement', 'guedj', 'penn', 'kang', 'officieux', 'jurisprudence', 'kant', 'hectare', 'islamisation', 'hebdo', 'guichard', 'entente', 'guihard', 'pepe', 'duel', 'haïr', 'naufrage', 'ironiquement', 'olivennes', 'juvénile', 'inégal', 'patois', 'justifiant', 'echos', 'jacky']\n",
      "15203\n"
     ]
    }
   ],
   "source": [
    "print(ignore_words[:100])\n",
    "print(len(ignore_words))"
   ]
  },
  {
   "cell_type": "markdown",
   "id": "f32351c1",
   "metadata": {},
   "source": [
    "# Experience\n",
    "---"
   ]
  },
  {
   "cell_type": "markdown",
   "id": "692002bb",
   "metadata": {},
   "source": [
    "## Pipeline"
   ]
  },
  {
   "cell_type": "markdown",
   "id": "cc4d845f",
   "metadata": {},
   "source": [
    "### Preprocessor"
   ]
  },
  {
   "cell_type": "code",
   "execution_count": 10,
   "id": "2e6efc6d",
   "metadata": {},
   "outputs": [],
   "source": [
    "import patat.util.text\n",
    "\n",
    "importlib.reload(patat.util.text)\n",
    "preprocessor = patat.util.text.preprocess\n",
    "#preprocessor=None"
   ]
  },
  {
   "cell_type": "markdown",
   "id": "685b5cbb",
   "metadata": {},
   "source": [
    "### Tokenizer"
   ]
  },
  {
   "cell_type": "code",
   "execution_count": 11,
   "id": "52367d50",
   "metadata": {},
   "outputs": [],
   "source": [
    "from patat.ml.lex_analyser import LexAnalyser\n",
    "\n",
    "lex = LexAnalyser()\n",
    "\n",
    "tokenizer = lex.get_lemmas_from_text"
   ]
  },
  {
   "cell_type": "markdown",
   "id": "414fb32f",
   "metadata": {},
   "source": [
    "### TfIdfVectorizer"
   ]
  },
  {
   "cell_type": "code",
   "execution_count": 12,
   "id": "4f2e5c3b",
   "metadata": {},
   "outputs": [],
   "source": [
    "from sklearn.feature_extraction.text import TfidfVectorizer"
   ]
  },
  {
   "cell_type": "code",
   "execution_count": 13,
   "id": "28886029",
   "metadata": {},
   "outputs": [],
   "source": [
    "afp_size = 3000\n",
    "#afp_size = 120\n",
    "#afp_size = 0\n",
    "df_ml = pd.concat([df_texts_recueil,df_texts_afp.sample(afp_size,random_state=random_state)])"
   ]
  },
  {
   "cell_type": "code",
   "execution_count": 14,
   "id": "9c31a944",
   "metadata": {},
   "outputs": [
    {
     "name": "stderr",
     "output_type": "stream",
     "text": [
      "/Users/fm/opt/anaconda3/lib/python3.9/site-packages/sklearn/feature_extraction/text.py:404: UserWarning: Your stop_words may be inconsistent with your preprocessing. Tokenizing the stop words generated tokens ['aboutir', 'abrutir', 'ambitieux', 'anlaşmas', 'boeuf', 'bouillir', 'bursal', 'choeur', 'coeur', 'coordonner', 'croire', 'décombrer', 'démoraliser', 'déplaire', 'désoeuvrer', 'désordonner', 'florir', 'foetal', 'joindre', 'km', 'lacağ', 'liman', 'manoeuvre', 'matcher', 'maudire', 'menacer', 'mol', 'noeud', 'oeuf', 'oxygéner', 'personnaliser', 'presser', 'précieux', 'présumer', 'recroître', 'saisir', 'sald', 'satisfaire', 'sevkiyat', 'soeur', 'subventionner', 'tah', 'teindre', 'tracter', 'voeu', 'yap', 'yla', 'émerger', 'énoncer', 'équivaloir'] not in stop_words.\n",
      "  warnings.warn(\n"
     ]
    },
    {
     "name": "stdout",
     "output_type": "stream",
     "text": [
      "CPU times: user 1.31 s, sys: 80.7 ms, total: 1.39 s\n",
      "Wall time: 1.39 s\n"
     ]
    },
    {
     "data": {
      "text/plain": [
       "37863"
      ]
     },
     "execution_count": 14,
     "metadata": {},
     "output_type": "execute_result"
    }
   ],
   "source": [
    "%%time\n",
    "vectorizer = TfidfVectorizer(lowercase=True, preprocessor=preprocessor, tokenizer=tokenizer, stop_words=ignore_words)\n",
    "#vectorizer = CountVectorizer(lowercase=True, preprocessor=preprocessor, tokenizer=tokenizer, stop_words=ignore_words)\n",
    "count_matrix = vectorizer.fit_transform(df_ml['text'])\n",
    "count_array = count_matrix.toarray()\n",
    "df_tf = pd.DataFrame(data=count_array,columns = vectorizer.get_feature_names_out())\n",
    "df_tf.shape\n",
    "\n",
    "df_X = df_tf\n",
    "\n",
    "len(df_X.keys())"
   ]
  },
  {
   "cell_type": "markdown",
   "id": "0986e9dc",
   "metadata": {},
   "source": [
    "## Entrainement sklearn"
   ]
  },
  {
   "cell_type": "code",
   "execution_count": null,
   "id": "1de04b32",
   "metadata": {},
   "outputs": [],
   "source": [
    "from sklearn.linear_model import LogisticRegression\n",
    "from sklearn.neural_network import MLPClassifier\n",
    "from sklearn.model_selection import train_test_split\n",
    "from sklearn.model_selection import cross_val_score\n",
    "from sklearn import metrics"
   ]
  },
  {
   "cell_type": "code",
   "execution_count": null,
   "id": "0e295bab",
   "metadata": {},
   "outputs": [],
   "source": [
    "X = df_X\n",
    "y=df_ml['infox']"
   ]
  },
  {
   "cell_type": "code",
   "execution_count": null,
   "id": "02acec77",
   "metadata": {},
   "outputs": [],
   "source": [
    "df_X.shape"
   ]
  },
  {
   "cell_type": "markdown",
   "id": "8ac7c3bd",
   "metadata": {},
   "source": [
    "### Initialisations"
   ]
  },
  {
   "cell_type": "code",
   "execution_count": null,
   "id": "bc1c23f7",
   "metadata": {},
   "outputs": [],
   "source": [
    "train_size=0.8\n",
    "X_train,X_test,y_train,y_test = train_test_split(X,y,random_state=random_state,train_size=train_size)"
   ]
  },
  {
   "cell_type": "code",
   "execution_count": null,
   "id": "4dcab8cc",
   "metadata": {},
   "outputs": [],
   "source": [
    "def print_metrics(y_train, y_test, y_pred):\n",
    "    print(f'Train size \\t{len(y_train)} = {int(len(y_train)-y_train.sum())} False + {int(y_train.sum())} True' )\n",
    "    print(f'Test size \\t{len(y_test)} = {int(len(y_test)-y_test.sum())} False + {int(y_test.sum())} True\\n' )\n",
    "    print(f'Accuracy score \\t{metrics.accuracy_score(y_test, y_pred)*100:.2f}%')\n",
    "    print(f'Recall score \\t{metrics.recall_score(y_test, y_pred)*100:.2f}%')\n",
    "    print(f'F1 score \\t{metrics.f1_score(y_test, y_pred)*100:.2f}%')\n",
    "    cnf_matrix = metrics.confusion_matrix(y_test, y_pred,normalize='all')\n",
    "    print(f'False Positive \\t{cnf_matrix[0,1]*100:.2f}%')\n",
    "    print(f'False Negative \\t{cnf_matrix[1,0]*100:.2f}%\\n')    "
   ]
  },
  {
   "cell_type": "markdown",
   "id": "d50cee43",
   "metadata": {},
   "source": [
    "### Dummy Classifier"
   ]
  },
  {
   "cell_type": "code",
   "execution_count": null,
   "id": "166f47ac",
   "metadata": {},
   "outputs": [],
   "source": [
    "from sklearn.dummy import DummyClassifier\n",
    "#strategies = ['most_frequent', 'prior', 'stratified', 'uniform']\n",
    "strategies = ['stratified', 'uniform']\n",
    "for strategy in strategies:\n",
    "    print('---------------')\n",
    "    print(f'Strategy : {strategy}\\n')\n",
    "    classifier = DummyClassifier(strategy=strategy, random_state=random_state)\n",
    "    classifier.fit(X_train, y_train)\n",
    "    y_pred = classifier.predict(X_test)\n",
    "    print_metrics(y_train, y_test, y_pred)"
   ]
  },
  {
   "cell_type": "markdown",
   "id": "df620150",
   "metadata": {},
   "source": [
    "### Confusion Matrix\n",
    "||Pred 0|Pred 1|\n",
    "|---|---|---|\n",
    "|**Test 0**|True Negative|False Positive|\n",
    "|**Test 1**|False Negative|True Positive|"
   ]
  },
  {
   "cell_type": "markdown",
   "id": "ec164f08",
   "metadata": {},
   "source": [
    "### LogisticRegression"
   ]
  },
  {
   "cell_type": "code",
   "execution_count": null,
   "id": "92db77d8",
   "metadata": {},
   "outputs": [],
   "source": [
    "max_iter=500\n",
    "#C=0.40\n",
    "C=100\n",
    "solver = 'lbfgs'"
   ]
  },
  {
   "cell_type": "code",
   "execution_count": null,
   "id": "9255fadb",
   "metadata": {},
   "outputs": [],
   "source": [
    "%%time\n",
    "classifier = LogisticRegression(C=C, random_state=random_state, solver=solver, max_iter=max_iter)\n",
    "classifier.fit(X_train, y_train)\n",
    "y_pred = classifier.predict(X_test)\n",
    "print(classifier)\n",
    "print()\n",
    "print_metrics(y_train, y_test, y_pred)"
   ]
  },
  {
   "cell_type": "code",
   "execution_count": null,
   "id": "c2b6af22",
   "metadata": {},
   "outputs": [],
   "source": [
    "# Cross validation\n",
    "max_iter=500\n",
    "#C=0.40\n",
    "C=1000\n",
    "solver = 'lbfgs'\n",
    "classifier = LogisticRegression(C=C, random_state=random_state, solver=solver, max_iter=max_iter)\n",
    "scores = cross_val_score(classifier, X, y, cv=5,scoring='f1')\n",
    "print(scores)\n",
    "print(f'Mean Score : {scores.mean()*100:.2f}%')\n",
    "print(f'Deviation Score : {scores.std()*100:.2f}%')\n"
   ]
  },
  {
   "cell_type": "markdown",
   "id": "ece468c8",
   "metadata": {},
   "source": [
    "### MLPClassifier"
   ]
  },
  {
   "cell_type": "code",
   "execution_count": null,
   "id": "7a890384",
   "metadata": {},
   "outputs": [],
   "source": [
    "alpha=1e-4\n",
    "hidden_layer_sizes=(256,64)\n",
    "solver = 'adam'\n",
    "solvers = ['lbfgs', 'sgd', 'adam']\n"
   ]
  },
  {
   "cell_type": "code",
   "execution_count": null,
   "id": "d024b101",
   "metadata": {},
   "outputs": [],
   "source": [
    "%%time\n",
    "\n",
    "classifier = MLPClassifier(solver=solver, alpha=alpha, hidden_layer_sizes=hidden_layer_sizes, random_state=random_state)\n",
    "classifier.fit(X_train, y_train)\n",
    "y_pred = classifier.predict(X_test)\n",
    "print(classifier)\n",
    "print()\n",
    "print_metrics(y_train, y_test, y_pred)"
   ]
  },
  {
   "cell_type": "raw",
   "id": "5680caaa",
   "metadata": {},
   "source": [
    "%%time\n",
    "cv = cross_val_score(classifier, X, y, cv=5)\n",
    "print(f'Mean CV Score : {cv.mean()*100:.2f}%')\n",
    "print(f'Deviation CV Score : {cv.std()*100:.2f}%')\n",
    "print(cv)"
   ]
  },
  {
   "cell_type": "markdown",
   "id": "dd719e8d",
   "metadata": {},
   "source": [
    "## Keras"
   ]
  },
  {
   "cell_type": "code",
   "execution_count": null,
   "id": "4d9fd796",
   "metadata": {},
   "outputs": [],
   "source": [
    "import tensorflow as tf\n",
    "tf.keras.utils.set_random_seed(random_state)"
   ]
  },
  {
   "cell_type": "code",
   "execution_count": null,
   "id": "39b18776",
   "metadata": {},
   "outputs": [],
   "source": [
    "learn_size=0.90\n",
    "X_learn,X_valid,y_learn,y_valid = train_test_split(X_train,y_train,random_state=random_state,train_size=learn_size)"
   ]
  },
  {
   "cell_type": "code",
   "execution_count": null,
   "id": "4b900774",
   "metadata": {},
   "outputs": [],
   "source": [
    "from tensorflow import keras\n",
    "from tensorflow.keras import layers\n",
    "\n",
    "model = keras.Sequential([\n",
    "    layers.Dense(256, activation='relu', input_shape=[X.shape[1]]),\n",
    "#    layers.Dropout(0.3),\n",
    "#    layers.GaussianDropout(0.3, seed=random_state),\n",
    "    layers.Dense(64, activation='relu'),    \n",
    "#    layers.Dropout(0.4),\n",
    "    layers.GaussianDropout(0.5, seed=random_state),\n",
    "    layers.Dense(1, activation='sigmoid'),\n",
    "])"
   ]
  },
  {
   "cell_type": "code",
   "execution_count": null,
   "id": "c86bc6cd",
   "metadata": {},
   "outputs": [],
   "source": [
    "model.compile(\n",
    "    optimizer='adam',\n",
    "    loss='binary_crossentropy',\n",
    "    metrics=['binary_accuracy'],\n",
    ")"
   ]
  },
  {
   "cell_type": "code",
   "execution_count": null,
   "id": "36c822ac",
   "metadata": {},
   "outputs": [],
   "source": [
    "%%time\n",
    "epoch = 15\n",
    "\n",
    "early_stopping = keras.callbacks.EarlyStopping(\n",
    "    patience=10,\n",
    "    min_delta=0.0001,\n",
    "    restore_best_weights=True,\n",
    ")\n",
    "\n",
    "history = model.fit(\n",
    "#    X_train.to_numpy(), y_train.to_numpy(),\n",
    "#    validation_split=0.2,\n",
    "    X_learn.to_numpy(), y_learn.to_numpy(),\n",
    "    validation_data=(X_valid.to_numpy(), y_valid.to_numpy()),\n",
    "    batch_size=24,\n",
    "    epochs=epoch,\n",
    "#    callbacks=[early_stopping],\n",
    "    shuffle=True,\n",
    ")"
   ]
  },
  {
   "cell_type": "code",
   "execution_count": null,
   "id": "68574b05",
   "metadata": {},
   "outputs": [],
   "source": [
    "history_df = pd.DataFrame(history.history)\n",
    "history_df.loc[:, ['loss', 'val_loss']].plot(title=\"Cross-entropy\")\n",
    "history_df.loc[:, ['binary_accuracy', 'val_binary_accuracy']].plot(title=\"Accuracy\")"
   ]
  },
  {
   "cell_type": "code",
   "execution_count": null,
   "id": "8623933f",
   "metadata": {},
   "outputs": [],
   "source": [
    "history_df"
   ]
  },
  {
   "cell_type": "code",
   "execution_count": null,
   "id": "19ef7c75",
   "metadata": {},
   "outputs": [],
   "source": [
    "y_pred = model.predict(X_test.to_numpy())\n",
    "y_pred = y_pred.round()\n",
    "print(model)\n",
    "print()\n",
    "print_metrics(y_train, y_test, y_pred)"
   ]
  },
  {
   "cell_type": "markdown",
   "id": "76996d3a",
   "metadata": {},
   "source": [
    "# Sauvegarde des résultats\n",
    "---"
   ]
  },
  {
   "cell_type": "markdown",
   "id": "fb7949bc",
   "metadata": {},
   "source": [
    "# Conclusions\n",
    "---"
   ]
  },
  {
   "cell_type": "markdown",
   "id": "bd06b261",
   "metadata": {},
   "source": [
    "- "
   ]
  },
  {
   "cell_type": "markdown",
   "id": "bd360655",
   "metadata": {},
   "source": [
    "# Bricolages\n",
    "---"
   ]
  },
  {
   "cell_type": "code",
   "execution_count": null,
   "id": "045b38e4",
   "metadata": {},
   "outputs": [],
   "source": [
    "print(\"Num GPUs Available: \", len(tf.config.experimental.list_physical_devices('GPU')))"
   ]
  },
  {
   "cell_type": "code",
   "execution_count": null,
   "id": "05d626d9",
   "metadata": {},
   "outputs": [],
   "source": [
    "tf.config.list_physical_devices()"
   ]
  },
  {
   "cell_type": "code",
   "execution_count": null,
   "id": "a5f101bd",
   "metadata": {},
   "outputs": [],
   "source": [
    "tf.device(\"/CPU:0\")"
   ]
  },
  {
   "cell_type": "code",
   "execution_count": null,
   "id": "6acae5b8",
   "metadata": {},
   "outputs": [],
   "source": [
    "tf.debugging.set_log_device_placement(True)\n",
    "\n",
    "# Place tensors on the CPU\n",
    "with tf.device('/GPU:0'):\n",
    "  a = tf.constant([[1.0, 2.0, 3.0], [4.0, 5.0, 6.0]])\n",
    "  b = tf.constant([[1.0, 2.0], [3.0, 4.0], [5.0, 6.0]])\n",
    "\n",
    "# Run on the GPU\n",
    "c = tf.matmul(a, b)\n",
    "print(c)"
   ]
  },
  {
   "cell_type": "code",
   "execution_count": null,
   "id": "90438ac7",
   "metadata": {},
   "outputs": [],
   "source": [
    "tf.debugging.set_log_device_placement(True)"
   ]
  },
  {
   "cell_type": "code",
   "execution_count": null,
   "id": "f5fbcdd6",
   "metadata": {},
   "outputs": [],
   "source": [
    "tf.config.list_physical_devices('GPU')"
   ]
  },
  {
   "cell_type": "code",
   "execution_count": null,
   "id": "b9d684f3",
   "metadata": {},
   "outputs": [],
   "source": []
  }
 ],
 "metadata": {
  "kernelspec": {
   "display_name": "Python 3 (ipykernel)",
   "language": "python",
   "name": "python3"
  },
  "language_info": {
   "codemirror_mode": {
    "name": "ipython",
    "version": 3
   },
   "file_extension": ".py",
   "mimetype": "text/x-python",
   "name": "python",
   "nbconvert_exporter": "python",
   "pygments_lexer": "ipython3",
   "version": "3.9.15"
  }
 },
 "nbformat": 4,
 "nbformat_minor": 5
}
