{
 "cells": [
  {
   "cell_type": "markdown",
   "id": "ca06de0a",
   "metadata": {},
   "source": [
    "# Plateforme Agnostique de Traitement et d'Analyse des Textes\n",
    "### Carnet d'expérimentation\n",
    "---\n",
    "\n",
    "## Sujet : CamemBERT\n",
    "\n",
    "---"
   ]
  },
  {
   "cell_type": "markdown",
   "id": "e020924a",
   "metadata": {},
   "source": [
    "# Environnement\n",
    "---"
   ]
  },
  {
   "cell_type": "code",
   "execution_count": 1,
   "id": "53aa23f4",
   "metadata": {},
   "outputs": [
    {
     "name": "stdout",
     "output_type": "stream",
     "text": [
      "/Volumes/Geek/Work/Patat\n"
     ]
    }
   ],
   "source": [
    "cd ../.."
   ]
  },
  {
   "cell_type": "code",
   "execution_count": 2,
   "id": "cde87f93",
   "metadata": {},
   "outputs": [],
   "source": [
    "import importlib\n",
    "import pandas as pd\n",
    "import seaborn as sns\n",
    "from tqdm.notebook import tqdm\n",
    "tqdm.pandas()"
   ]
  },
  {
   "cell_type": "markdown",
   "id": "3456a8f8",
   "metadata": {},
   "source": [
    "## Données"
   ]
  },
  {
   "cell_type": "code",
   "execution_count": 37,
   "id": "226312f8",
   "metadata": {},
   "outputs": [
    {
     "data": {
      "text/html": [
       "<div>\n",
       "<style scoped>\n",
       "    .dataframe tbody tr th:only-of-type {\n",
       "        vertical-align: middle;\n",
       "    }\n",
       "\n",
       "    .dataframe tbody tr th {\n",
       "        vertical-align: top;\n",
       "    }\n",
       "\n",
       "    .dataframe thead th {\n",
       "        text-align: right;\n",
       "    }\n",
       "</style>\n",
       "<table border=\"1\" class=\"dataframe\">\n",
       "  <thead>\n",
       "    <tr style=\"text-align: right;\">\n",
       "      <th></th>\n",
       "      <th>label</th>\n",
       "      <th>text</th>\n",
       "    </tr>\n",
       "  </thead>\n",
       "  <tbody>\n",
       "    <tr>\n",
       "      <th>0</th>\n",
       "      <td>0</td>\n",
       "      <td>Vendredi soir est la nuit de ma fête de la sem...</td>\n",
       "    </tr>\n",
       "    <tr>\n",
       "      <th>1</th>\n",
       "      <td>0</td>\n",
       "      <td>Chiffres. Un jour de congé demain et la prévis...</td>\n",
       "    </tr>\n",
       "    <tr>\n",
       "      <th>2</th>\n",
       "      <td>0</td>\n",
       "      <td>Alecyberspace quelque chose doit être fait !!</td>\n",
       "    </tr>\n",
       "    <tr>\n",
       "      <th>3</th>\n",
       "      <td>1</td>\n",
       "      <td>Je pense que nous devrions faire du spaghetti Sme</td>\n",
       "    </tr>\n",
       "    <tr>\n",
       "      <th>4</th>\n",
       "      <td>0</td>\n",
       "      <td>Sera un forum publicitaire de masse aujourd'hu...</td>\n",
       "    </tr>\n",
       "    <tr>\n",
       "      <th>...</th>\n",
       "      <td>...</td>\n",
       "      <td>...</td>\n",
       "    </tr>\n",
       "    <tr>\n",
       "      <th>4995</th>\n",
       "      <td>0</td>\n",
       "      <td>À la maison du travail ... woot! Bat la nuit d...</td>\n",
       "    </tr>\n",
       "    <tr>\n",
       "      <th>4996</th>\n",
       "      <td>1</td>\n",
       "      <td>Comment allez-vous faire cela?</td>\n",
       "    </tr>\n",
       "    <tr>\n",
       "      <th>4997</th>\n",
       "      <td>1</td>\n",
       "      <td>La musique sonne f-i-t cette veille ensoleillé...</td>\n",
       "    </tr>\n",
       "    <tr>\n",
       "      <th>4998</th>\n",
       "      <td>1</td>\n",
       "      <td>: 20somethin 'single</td>\n",
       "    </tr>\n",
       "    <tr>\n",
       "      <th>4999</th>\n",
       "      <td>0</td>\n",
       "      <td>J'espère! Mon sis arrive à choisir car elle a ...</td>\n",
       "    </tr>\n",
       "  </tbody>\n",
       "</table>\n",
       "<p>5000 rows × 2 columns</p>\n",
       "</div>"
      ],
      "text/plain": [
       "      label                                               text\n",
       "0         0  Vendredi soir est la nuit de ma fête de la sem...\n",
       "1         0  Chiffres. Un jour de congé demain et la prévis...\n",
       "2         0      Alecyberspace quelque chose doit être fait !!\n",
       "3         1  Je pense que nous devrions faire du spaghetti Sme\n",
       "4         0  Sera un forum publicitaire de masse aujourd'hu...\n",
       "...     ...                                                ...\n",
       "4995      0  À la maison du travail ... woot! Bat la nuit d...\n",
       "4996      1                     Comment allez-vous faire cela?\n",
       "4997      1  La musique sonne f-i-t cette veille ensoleillé...\n",
       "4998      1                               : 20somethin 'single\n",
       "4999      0  J'espère! Mon sis arrive à choisir car elle a ...\n",
       "\n",
       "[5000 rows x 2 columns]"
      ]
     },
     "execution_count": 37,
     "metadata": {},
     "output_type": "execute_result"
    }
   ],
   "source": [
    "filename = 'data/tmp/french_tweets.csv'\n",
    "df_tweets = pd.read_csv(filename).sample(5000).reset_index(drop=True)\n",
    "df_tweets"
   ]
  },
  {
   "cell_type": "markdown",
   "id": "8f22b0fd",
   "metadata": {},
   "source": [
    "## GPU Check"
   ]
  },
  {
   "cell_type": "code",
   "execution_count": 38,
   "id": "2b63c690",
   "metadata": {},
   "outputs": [
    {
     "name": "stdout",
     "output_type": "stream",
     "text": [
      "tensor([1.], device='mps:0')\n",
      "torch_device = mps \n"
     ]
    }
   ],
   "source": [
    "import torch\n",
    "\n",
    "torch_device='cpu'\n",
    "\n",
    "if torch.backends.mps.is_available():\n",
    "    torch_device='mps'\n",
    "    mps_device = torch.device(\"mps\")\n",
    "    x = torch.ones(1, device=mps_device)\n",
    "    print (x)\n",
    "else:\n",
    "    print (\"MPS device not found.\")\n",
    "\n",
    "print(f'torch_device = {torch_device} ')"
   ]
  },
  {
   "cell_type": "markdown",
   "id": "f0e4ec5d",
   "metadata": {},
   "source": [
    "# Python modules"
   ]
  },
  {
   "cell_type": "code",
   "execution_count": 39,
   "id": "1111f159",
   "metadata": {},
   "outputs": [],
   "source": [
    "import torch\n",
    "from torch.utils.data import TensorDataset, DataLoader, RandomSampler, SequentialSampler\n",
    "from transformers import BertTokenizer, BertForSequenceClassification\n",
    "from transformers import AutoTokenizer\n",
    "from sklearn.model_selection import train_test_split\n",
    "\n",
    "import pandas as pd\n",
    "import numpy as np\n",
    "\n",
    "from tabulate import tabulate\n",
    "from tqdm import trange, tqdm\n",
    "import random"
   ]
  },
  {
   "cell_type": "markdown",
   "id": "c191e34b",
   "metadata": {},
   "source": [
    "# Tokenization"
   ]
  },
  {
   "cell_type": "markdown",
   "id": "7006ee53",
   "metadata": {},
   "source": [
    "## CamemBERT tokenizer"
   ]
  },
  {
   "cell_type": "code",
   "execution_count": 40,
   "id": "3ea2c68f",
   "metadata": {},
   "outputs": [],
   "source": [
    "bert_tokenizer = AutoTokenizer.from_pretrained(\"camembert-base\")"
   ]
  },
  {
   "cell_type": "code",
   "execution_count": null,
   "id": "e41ad899",
   "metadata": {},
   "outputs": [],
   "source": []
  },
  {
   "cell_type": "code",
   "execution_count": 41,
   "id": "58cbecbd",
   "metadata": {},
   "outputs": [],
   "source": [
    "text = df_tweets.sample(1)['text'].iloc[0]"
   ]
  },
  {
   "cell_type": "code",
   "execution_count": 42,
   "id": "9e6f956f",
   "metadata": {},
   "outputs": [
    {
     "data": {
      "text/plain": [
       "39"
      ]
     },
     "execution_count": 42,
     "metadata": {},
     "output_type": "execute_result"
    }
   ],
   "source": [
    "len(bert_tokenizer.tokenize(text))"
   ]
  },
  {
   "cell_type": "code",
   "execution_count": 43,
   "id": "d1bbe01e",
   "metadata": {},
   "outputs": [
    {
     "data": {
      "application/vnd.jupyter.widget-view+json": {
       "model_id": "221c3e5ca55f42acaaa3c701943a9e1b",
       "version_major": 2,
       "version_minor": 0
      },
      "text/plain": [
       "  0%|          | 0/5000 [00:00<?, ?it/s]"
      ]
     },
     "metadata": {},
     "output_type": "display_data"
    }
   ],
   "source": [
    "df_tweets['bert_tokens']=df_tweets['text'].progress_apply(bert_tokenizer.tokenize)"
   ]
  },
  {
   "cell_type": "code",
   "execution_count": 44,
   "id": "23666b52",
   "metadata": {},
   "outputs": [
    {
     "data": {
      "text/plain": [
       "0       [▁Vendredi, ▁soir, ▁est, ▁la, ▁nuit, ▁de, ▁ma,...\n",
       "1       [▁Chiffre, s, ., ▁Un, ▁jour, ▁de, ▁congé, ▁dem...\n",
       "2       [▁A, le, cy, ber, space, ▁quelque, ▁chose, ▁do...\n",
       "3       [▁Je, ▁pense, ▁que, ▁nous, ▁devrions, ▁faire, ...\n",
       "4       [▁Ser, a, ▁un, ▁forum, ▁publicitaire, ▁de, ▁ma...\n",
       "                              ...                        \n",
       "4995    [▁À, ▁la, ▁maison, ▁du, ▁travail, ▁..., ▁wo, o...\n",
       "4996        [▁Comment, ▁allez, -, vous, ▁faire, ▁cela, ?]\n",
       "4997    [▁La, ▁musique, ▁sonne, ▁f, -, i, -, t, ▁cette...\n",
       "4998          [▁:, ▁20, s, ome, th, in, ▁, ', s, ing, le]\n",
       "4999    [▁J, ', espère, !, ▁Mon, ▁si, s, ▁arrive, ▁à, ...\n",
       "Name: bert_tokens, Length: 5000, dtype: object"
      ]
     },
     "execution_count": 44,
     "metadata": {},
     "output_type": "execute_result"
    }
   ],
   "source": [
    "df_tweets['bert_tokens']"
   ]
  },
  {
   "cell_type": "code",
   "execution_count": 45,
   "id": "6d243026",
   "metadata": {},
   "outputs": [],
   "source": [
    "df_tweets['btokens_count'] = df_tweets['bert_tokens'].apply(len)"
   ]
  },
  {
   "cell_type": "code",
   "execution_count": 46,
   "id": "69a9b403",
   "metadata": {},
   "outputs": [
    {
     "data": {
      "text/plain": [
       "(5000, 4)"
      ]
     },
     "execution_count": 46,
     "metadata": {},
     "output_type": "execute_result"
    }
   ],
   "source": [
    "df_tweets.shape"
   ]
  },
  {
   "cell_type": "code",
   "execution_count": 47,
   "id": "976afdaf",
   "metadata": {},
   "outputs": [
    {
     "data": {
      "text/plain": [
       "<seaborn.axisgrid.FacetGrid at 0x3bad92c40>"
      ]
     },
     "execution_count": 47,
     "metadata": {},
     "output_type": "execute_result"
    },
    {
     "data": {
      "image/png": "[encoded data removed]",
      "text/plain": [
       "<Figure size 500x500 with 1 Axes>"
      ]
     },
     "metadata": {},
     "output_type": "display_data"
    }
   ],
   "source": [
    "sns.displot(df_tweets,x='btokens_count',bins=30)"
   ]
  },
  {
   "cell_type": "code",
   "execution_count": 48,
   "id": "92a0f463",
   "metadata": {},
   "outputs": [],
   "source": [
    "text = df_tweets.sample(1)['text'].iloc[0]"
   ]
  },
  {
   "cell_type": "code",
   "execution_count": 49,
   "id": "1c44080b",
   "metadata": {},
   "outputs": [
    {
     "name": "stdout",
     "output_type": "stream",
     "text": [
      "╒═══════════╤═════════════╕\n",
      "│ Tokens    │   Token IDs │\n",
      "╞═══════════╪═════════════╡\n",
      "│ ▁Oh       │        4684 │\n",
      "├───────────┼─────────────┤\n",
      "│ ▁internet │         890 │\n",
      "├───────────┼─────────────┤\n",
      "│ ▁où       │         147 │\n",
      "├───────────┼─────────────┤\n",
      "│ ▁es       │        1252 │\n",
      "├───────────┼─────────────┤\n",
      "│ -         │          26 │\n",
      "├───────────┼─────────────┤\n",
      "│ tu        │         744 │\n",
      "├───────────┼─────────────┤\n",
      "│ ▁toute    │         194 │\n",
      "├───────────┼─────────────┤\n",
      "│ ▁ma       │         155 │\n",
      "├───────────┼─────────────┤\n",
      "│ ▁vie      │         157 │\n",
      "╘═══════════╧═════════════╛\n"
     ]
    }
   ],
   "source": [
    "table = np.array([bert_tokenizer.tokenize(text), \n",
    "                bert_tokenizer.convert_tokens_to_ids(bert_tokenizer.tokenize(text))]).T\n",
    "print(tabulate(table,\n",
    "         headers = ['Tokens', 'Token IDs'],\n",
    "         tablefmt = 'fancy_grid'))"
   ]
  },
  {
   "cell_type": "code",
   "execution_count": 28,
   "id": "2d3ee8b4",
   "metadata": {},
   "outputs": [],
   "source": [
    "texts = df_tweets['text']\n",
    "labels = df_tweets['label']"
   ]
  },
  {
   "cell_type": "code",
   "execution_count": 50,
   "id": "828e3229",
   "metadata": {},
   "outputs": [
    {
     "name": "stdout",
     "output_type": "stream",
     "text": [
      "╒═══════════╤═════════════╕\n",
      "│ Tokens    │   Token IDs │\n",
      "╞═══════════╪═════════════╡\n",
      "│ ▁Om       │       14236 │\n",
      "├───────────┼─────────────┤\n",
      "│ g         │         383 │\n",
      "├───────────┼─────────────┤\n",
      "│ ▁les      │          19 │\n",
      "├───────────┼─────────────┤\n",
      "│ ▁collines │       15680 │\n",
      "├───────────┼─────────────┤\n",
      "│ !         │         152 │\n",
      "├───────────┼─────────────┤\n",
      "│ ▁Alors    │         574 │\n",
      "├───────────┼─────────────┤\n",
      "│ ▁j        │          76 │\n",
      "├───────────┼─────────────┤\n",
      "│ '         │          11 │\n",
      "├───────────┼─────────────┤\n",
      "│ aime      │         660 │\n",
      "├───────────┼─────────────┤\n",
      "│ ▁l        │          17 │\n",
      "├───────────┼─────────────┤\n",
      "│ '         │          11 │\n",
      "├───────────┼─────────────┤\n",
      "│ argent    │        1042 │\n",
      "├───────────┼─────────────┤\n",
      "│ 2,        │        3502 │\n",
      "├───────────┼─────────────┤\n",
      "│ ▁a        │          33 │\n",
      "├───────────┼─────────────┤\n",
      "│ w         │         640 │\n",
      "├───────────┼─────────────┤\n",
      "│ w         │         640 │\n",
      "├───────────┼─────────────┤\n",
      "│ ▁je       │          50 │\n",
      "├───────────┼─────────────┤\n",
      "│ ▁pense    │         500 │\n",
      "├───────────┼─────────────┤\n",
      "│ ▁que      │          27 │\n",
      "├───────────┼─────────────┤\n",
      "│ ▁bec      │       12750 │\n",
      "├───────────┼─────────────┤\n",
      "│ ky        │        6177 │\n",
      "├───────────┼─────────────┤\n",
      "│ ▁bu       │        4175 │\n",
      "├───────────┼─────────────┤\n",
      "│ ck        │        1806 │\n",
      "├───────────┼─────────────┤\n",
      "│ wi        │        4672 │\n",
      "├───────────┼─────────────┤\n",
      "│ ld        │        8163 │\n",
      "├───────────┼─────────────┤\n",
      "│ ▁va       │         198 │\n",
      "╘═══════════╧═════════════╛\n"
     ]
    }
   ],
   "source": [
    "tokenizer = bert_tokenizer\n",
    "def print_rand_sentence():\n",
    "    '''Displays the tokens and respective IDs of a random text sample'''\n",
    "    index = random.randint(0, len(texts)-1)\n",
    "    table = np.array([tokenizer.tokenize(texts[index]), \n",
    "                    tokenizer.convert_tokens_to_ids(tokenizer.tokenize(texts[index]))]).T\n",
    "    print(tabulate(table,\n",
    "                 headers = ['Tokens', 'Token IDs'],\n",
    "                 tablefmt = 'fancy_grid'))\n",
    "\n",
    "print_rand_sentence()"
   ]
  },
  {
   "cell_type": "markdown",
   "id": "6c8fce76",
   "metadata": {},
   "source": [
    "# Sentence Encoding / Embeding"
   ]
  },
  {
   "cell_type": "code",
   "execution_count": 51,
   "id": "0d41ce6d",
   "metadata": {},
   "outputs": [
    {
     "name": "stderr",
     "output_type": "stream",
     "text": [
      "Truncation was not explicitly activated but `max_length` is provided a specific value, please use `truncation=True` to explicitly truncate examples to max length. Defaulting to 'longest_first' truncation strategy. If you encode pairs of sequences (GLUE-style) with the tokenizer you can select this strategy more precisely by providing a specific strategy to `truncation`.\n",
      "/opt/homebrew/Caskroom/miniforge/base/envs/gpu39/lib/python3.9/site-packages/transformers/tokenization_utils_base.py:2364: FutureWarning: The `pad_to_max_length` argument is deprecated and will be removed in a future version, use `padding=True` or `padding='longest'` to pad to the longest sequence in the batch, or use `padding='max_length'` to pad to a max length. In this case, you can give a specific length with `max_length` (e.g. `max_length=45`) or leave max_length to None to pad to the maximal input size of the model (e.g. 512 for Bert).\n",
      "  warnings.warn(\n",
      "/var/folders/fr/mhrqmk5n1xs49b7jl3tgs2r00000gn/T/ipykernel_28467/687045473.py:28: UserWarning: To copy construct from a tensor, it is recommended to use sourceTensor.clone().detach() or sourceTensor.clone().detach().requires_grad_(True), rather than torch.tensor(sourceTensor).\n",
      "  labels = torch.tensor(labels)\n"
     ]
    }
   ],
   "source": [
    "\n",
    "token_id = []\n",
    "attention_masks = []\n",
    "\n",
    "def preprocessing(input_text, tokenizer):\n",
    "    '''\n",
    "    Returns <class transformers.tokenization_utils_base.BatchEncoding> with the following fields:\n",
    "    - input_ids: list of token ids\n",
    "    - token_type_ids: list of token type ids\n",
    "    - attention_mask: list of indices (0,1) specifying which tokens should considered by the model (return_attention_mask = True).\n",
    "    '''\n",
    "    return tokenizer.encode_plus(\n",
    "                        input_text,\n",
    "                        add_special_tokens = True,\n",
    "                        max_length = 32,\n",
    "                        pad_to_max_length = True,\n",
    "                        return_attention_mask = True,\n",
    "                        return_tensors = 'pt'\n",
    "                   )\n",
    "\n",
    "for sample in texts:\n",
    "    encoding_dict = preprocessing(sample, tokenizer)\n",
    "    token_id.append(encoding_dict['input_ids']) \n",
    "    attention_masks.append(encoding_dict['attention_mask'])\n",
    "\n",
    "\n",
    "token_id = torch.cat(token_id, dim = 0)\n",
    "attention_masks = torch.cat(attention_masks, dim = 0)\n",
    "labels = torch.tensor(labels)"
   ]
  },
  {
   "cell_type": "code",
   "execution_count": 52,
   "id": "be03c31c",
   "metadata": {},
   "outputs": [
    {
     "name": "stdout",
     "output_type": "stream",
     "text": [
      "╒═════════════╤═════════════╤══════════════════╕\n",
      "│ Tokens      │   Token IDs │   Attention Mask │\n",
      "╞═════════════╪═════════════╪══════════════════╡\n",
      "│ <s>         │           5 │                1 │\n",
      "├─────────────┼─────────────┼──────────────────┤\n",
      "│ ▁J          │         121 │                1 │\n",
      "├─────────────┼─────────────┼──────────────────┤\n",
      "│ '           │          11 │                1 │\n",
      "├─────────────┼─────────────┼──────────────────┤\n",
      "│ ai          │          73 │                1 │\n",
      "├─────────────┼─────────────┼──────────────────┤\n",
      "│ ▁plongé     │       14950 │                1 │\n",
      "├─────────────┼─────────────┼──────────────────┤\n",
      "│ ▁plusieurs  │         247 │                1 │\n",
      "├─────────────┼─────────────┼──────────────────┤\n",
      "│ ▁fois       │         151 │                1 │\n",
      "├─────────────┼─────────────┼──────────────────┤\n",
      "│ ▁pour       │          24 │                1 │\n",
      "├─────────────┼─────────────┼──────────────────┤\n",
      "│ ▁la         │          13 │                1 │\n",
      "├─────────────┼─────────────┼──────────────────┤\n",
      "│ ▁balle      │        5417 │                1 │\n",
      "├─────────────┼─────────────┼──────────────────┤\n",
      "│ .           │           9 │                1 │\n",
      "├─────────────┼─────────────┼──────────────────┤\n",
      "│ ▁A          │         114 │                1 │\n",
      "├─────────────┼─────────────┼──────────────────┤\n",
      "│ ▁réussi     │        1522 │                1 │\n",
      "├─────────────┼─────────────┼──────────────────┤\n",
      "│ ▁à          │          15 │                1 │\n",
      "├─────────────┼─────────────┼──────────────────┤\n",
      "│ ▁économiser │       16524 │                1 │\n",
      "├─────────────┼─────────────┼──────────────────┤\n",
      "│ ▁50%        │        7651 │                1 │\n",
      "├─────────────┼─────────────┼──────────────────┤\n",
      "│ ▁le         │          16 │                1 │\n",
      "├─────────────┼─────────────┼──────────────────┤\n",
      "│ ▁reste      │         353 │                1 │\n",
      "├─────────────┼─────────────┼──────────────────┤\n",
      "│ ▁sort       │        1401 │                1 │\n",
      "├─────────────┼─────────────┼──────────────────┤\n",
      "│ ▁de         │           8 │                1 │\n",
      "├─────────────┼─────────────┼──────────────────┤\n",
      "│ ▁limites    │        3311 │                1 │\n",
      "├─────────────┼─────────────┼──────────────────┤\n",
      "│ </s>        │           6 │                1 │\n",
      "├─────────────┼─────────────┼──────────────────┤\n",
      "│ <pad>       │           1 │                0 │\n",
      "├─────────────┼─────────────┼──────────────────┤\n",
      "│ <pad>       │           1 │                0 │\n",
      "├─────────────┼─────────────┼──────────────────┤\n",
      "│ <pad>       │           1 │                0 │\n",
      "├─────────────┼─────────────┼──────────────────┤\n",
      "│ <pad>       │           1 │                0 │\n",
      "├─────────────┼─────────────┼──────────────────┤\n",
      "│ <pad>       │           1 │                0 │\n",
      "├─────────────┼─────────────┼──────────────────┤\n",
      "│ <pad>       │           1 │                0 │\n",
      "├─────────────┼─────────────┼──────────────────┤\n",
      "│ <pad>       │           1 │                0 │\n",
      "├─────────────┼─────────────┼──────────────────┤\n",
      "│ <pad>       │           1 │                0 │\n",
      "├─────────────┼─────────────┼──────────────────┤\n",
      "│ <pad>       │           1 │                0 │\n",
      "├─────────────┼─────────────┼──────────────────┤\n",
      "│ <pad>       │           1 │                0 │\n",
      "╘═════════════╧═════════════╧══════════════════╛\n"
     ]
    }
   ],
   "source": [
    "def print_rand_sentence_encoding():\n",
    "    '''Displays tokens, token IDs and attention mask of a random text sample'''\n",
    "    index = random.randint(0, len(texts) - 1)\n",
    "    tokens = tokenizer.tokenize(tokenizer.decode(token_id[index]))\n",
    "    token_ids = [i.numpy() for i in token_id[index]]\n",
    "    attention = [i.numpy() for i in attention_masks[index]]\n",
    "\n",
    "    table = np.array([tokens, token_ids, attention]).T\n",
    "    print(tabulate(table, \n",
    "                 headers = ['Tokens', 'Token IDs', 'Attention Mask'],\n",
    "                 tablefmt = 'fancy_grid'))\n",
    "\n",
    "print_rand_sentence_encoding()"
   ]
  },
  {
   "cell_type": "markdown",
   "id": "7024eaca",
   "metadata": {},
   "source": [
    "# Train / Test Split"
   ]
  },
  {
   "cell_type": "code",
   "execution_count": 53,
   "id": "c8c2077d",
   "metadata": {},
   "outputs": [],
   "source": [
    "val_ratio = 0.2\n",
    "# Recommended batch size: 16, 32. See: https://arxiv.org/pdf/1810.04805.pdf\n",
    "batch_size = 16\n",
    "\n",
    "# Indices of the train and validation splits stratified by labels\n",
    "train_idx, val_idx = train_test_split(\n",
    "    np.arange(len(labels)),\n",
    "    test_size = val_ratio,\n",
    "    shuffle = True,\n",
    "    stratify = labels)\n",
    "\n",
    "# Train and validation sets\n",
    "train_set = TensorDataset(token_id[train_idx], \n",
    "                          attention_masks[train_idx], \n",
    "                          labels[train_idx])\n",
    "\n",
    "val_set = TensorDataset(token_id[val_idx], \n",
    "                        attention_masks[val_idx], \n",
    "                        labels[val_idx])\n",
    "\n",
    "# Prepare DataLoader\n",
    "train_dataloader = DataLoader(\n",
    "            train_set,\n",
    "            sampler = RandomSampler(train_set),\n",
    "            batch_size = batch_size\n",
    "        )\n",
    "\n",
    "validation_dataloader = DataLoader(\n",
    "            val_set,\n",
    "            sampler = SequentialSampler(val_set),\n",
    "            batch_size = batch_size\n",
    "        )"
   ]
  },
  {
   "cell_type": "markdown",
   "id": "5ce68c47",
   "metadata": {},
   "source": [
    "# Metrics"
   ]
  },
  {
   "cell_type": "code",
   "execution_count": 55,
   "id": "01ebcbdd",
   "metadata": {},
   "outputs": [],
   "source": [
    "def b_tp(preds, labels):\n",
    "    '''Returns True Positives (TP): count of correct predictions of actual class 1'''\n",
    "    return sum([preds == labels and preds == 1 for preds, labels in zip(preds, labels)])\n",
    "\n",
    "def b_fp(preds, labels):\n",
    "    '''Returns False Positives (FP): count of wrong predictions of actual class 1'''\n",
    "    return sum([preds != labels and preds == 1 for preds, labels in zip(preds, labels)])\n",
    "\n",
    "def b_tn(preds, labels):\n",
    "    '''Returns True Negatives (TN): count of correct predictions of actual class 0'''\n",
    "    return sum([preds == labels and preds == 0 for preds, labels in zip(preds, labels)])\n",
    "\n",
    "def b_fn(preds, labels):\n",
    "    '''Returns False Negatives (FN): count of wrong predictions of actual class 0'''\n",
    "    return sum([preds != labels and preds == 0 for preds, labels in zip(preds, labels)])\n",
    "\n",
    "def b_metrics(preds, labels):\n",
    "    '''\n",
    "    Returns the following metrics:\n",
    "    - accuracy    = (TP + TN) / N\n",
    "    - precision   = TP / (TP + FP)\n",
    "    - recall      = TP / (TP + FN)\n",
    "    - specificity = TN / (TN + FP)\n",
    "    '''\n",
    "    preds = np.argmax(preds, axis = 1).flatten()\n",
    "    labels = labels.flatten()\n",
    "    tp = b_tp(preds, labels)\n",
    "    tn = b_tn(preds, labels)\n",
    "    fp = b_fp(preds, labels)\n",
    "    fn = b_fn(preds, labels)\n",
    "    b_accuracy = (tp + tn) / len(labels)\n",
    "    b_precision = tp / (tp + fp) if (tp + fp) > 0 else 'nan'\n",
    "    b_recall = tp / (tp + fn) if (tp + fn) > 0 else 'nan'\n",
    "    b_specificity = tn / (tn + fp) if (tn + fp) > 0 else 'nan'\n",
    "    return b_accuracy, b_precision, b_recall, b_specificity"
   ]
  },
  {
   "cell_type": "markdown",
   "id": "3db13c96",
   "metadata": {},
   "source": [
    "# Training"
   ]
  },
  {
   "cell_type": "code",
   "execution_count": 56,
   "id": "e9d8a2e3",
   "metadata": {},
   "outputs": [
    {
     "name": "stderr",
     "output_type": "stream",
     "text": [
      "Some weights of the model checkpoint at camembert-base were not used when initializing CamembertForSequenceClassification: ['roberta.pooler.dense.bias', 'lm_head.bias', 'lm_head.decoder.weight', 'lm_head.dense.bias', 'lm_head.layer_norm.bias', 'roberta.pooler.dense.weight', 'lm_head.layer_norm.weight', 'lm_head.dense.weight']\n",
      "- This IS expected if you are initializing CamembertForSequenceClassification from the checkpoint of a model trained on another task or with another architecture (e.g. initializing a BertForSequenceClassification model from a BertForPreTraining model).\n",
      "- This IS NOT expected if you are initializing CamembertForSequenceClassification from the checkpoint of a model that you expect to be exactly identical (initializing a BertForSequenceClassification model from a BertForSequenceClassification model).\n",
      "Some weights of CamembertForSequenceClassification were not initialized from the model checkpoint at camembert-base and are newly initialized: ['classifier.dense.weight', 'classifier.out_proj.weight', 'classifier.dense.bias', 'classifier.out_proj.bias']\n",
      "You should probably TRAIN this model on a down-stream task to be able to use it for predictions and inference.\n"
     ]
    },
    {
     "data": {
      "text/plain": [
       "CamembertForSequenceClassification(\n",
       "  (roberta): CamembertModel(\n",
       "    (embeddings): CamembertEmbeddings(\n",
       "      (word_embeddings): Embedding(32005, 768, padding_idx=1)\n",
       "      (position_embeddings): Embedding(514, 768, padding_idx=1)\n",
       "      (token_type_embeddings): Embedding(1, 768)\n",
       "      (LayerNorm): LayerNorm((768,), eps=1e-05, elementwise_affine=True)\n",
       "      (dropout): Dropout(p=0.1, inplace=False)\n",
       "    )\n",
       "    (encoder): CamembertEncoder(\n",
       "      (layer): ModuleList(\n",
       "        (0-11): 12 x CamembertLayer(\n",
       "          (attention): CamembertAttention(\n",
       "            (self): CamembertSelfAttention(\n",
       "              (query): Linear(in_features=768, out_features=768, bias=True)\n",
       "              (key): Linear(in_features=768, out_features=768, bias=True)\n",
       "              (value): Linear(in_features=768, out_features=768, bias=True)\n",
       "              (dropout): Dropout(p=0.1, inplace=False)\n",
       "            )\n",
       "            (output): CamembertSelfOutput(\n",
       "              (dense): Linear(in_features=768, out_features=768, bias=True)\n",
       "              (LayerNorm): LayerNorm((768,), eps=1e-05, elementwise_affine=True)\n",
       "              (dropout): Dropout(p=0.1, inplace=False)\n",
       "            )\n",
       "          )\n",
       "          (intermediate): CamembertIntermediate(\n",
       "            (dense): Linear(in_features=768, out_features=3072, bias=True)\n",
       "            (intermediate_act_fn): GELUActivation()\n",
       "          )\n",
       "          (output): CamembertOutput(\n",
       "            (dense): Linear(in_features=3072, out_features=768, bias=True)\n",
       "            (LayerNorm): LayerNorm((768,), eps=1e-05, elementwise_affine=True)\n",
       "            (dropout): Dropout(p=0.1, inplace=False)\n",
       "          )\n",
       "        )\n",
       "      )\n",
       "    )\n",
       "  )\n",
       "  (classifier): CamembertClassificationHead(\n",
       "    (dense): Linear(in_features=768, out_features=768, bias=True)\n",
       "    (dropout): Dropout(p=0.1, inplace=False)\n",
       "    (out_proj): Linear(in_features=768, out_features=1, bias=True)\n",
       "  )\n",
       ")"
      ]
     },
     "execution_count": 56,
     "metadata": {},
     "output_type": "execute_result"
    }
   ],
   "source": [
    "from transformers import AutoModelForSequenceClassification\n",
    "\n",
    "\n",
    "# Load the BertForSequenceClassification model\n",
    "model = AutoModelForSequenceClassification.from_pretrained(\n",
    "    'camembert-base',\n",
    "    num_labels = 1,\n",
    "    output_attentions = False,\n",
    "    output_hidden_states = False,\n",
    ")\n",
    "\n",
    "# Recommended learning rates (Adam): 5e-5, 3e-5, 2e-5. See: https://arxiv.org/pdf/1810.04805.pdf\n",
    "optimizer = torch.optim.AdamW(model.parameters(), \n",
    "                              lr = 5e-5,\n",
    "                              eps = 1e-08\n",
    "                              )\n",
    "\n",
    "# Run on GPU\n",
    "#model.cuda()\n",
    "#model.to('cpu')\n",
    "model.to(torch_device)"
   ]
  },
  {
   "cell_type": "code",
   "execution_count": null,
   "id": "effd7a68",
   "metadata": {},
   "outputs": [],
   "source": []
  },
  {
   "cell_type": "code",
   "execution_count": 59,
   "id": "9018ef8e",
   "metadata": {
    "scrolled": true
   },
   "outputs": [
    {
     "name": "stderr",
     "output_type": "stream",
     "text": [
      "Epoch:  50%|███████████████████████████████████████████                                           | 1/2 [00:07<00:07,  7.81s/it]"
     ]
    },
    {
     "name": "stdout",
     "output_type": "stream",
     "text": [
      "\n",
      "\t - Train loss: 0.0013\n",
      "\t - Validation Accuracy: 1.0000\n",
      "\t - Validation Precision: NaN\n",
      "\t - Validation Recall: NaN\n",
      "\t - Validation Specificity: 1.0000\n",
      "\n"
     ]
    },
    {
     "name": "stderr",
     "output_type": "stream",
     "text": [
      "Epoch: 100%|██████████████████████████████████████████████████████████████████████████████████████| 2/2 [00:14<00:00,  7.49s/it]"
     ]
    },
    {
     "name": "stdout",
     "output_type": "stream",
     "text": [
      "\n",
      "\t - Train loss: 0.0004\n",
      "\t - Validation Accuracy: 1.0000\n",
      "\t - Validation Precision: NaN\n",
      "\t - Validation Recall: NaN\n",
      "\t - Validation Specificity: 1.0000\n",
      "\n"
     ]
    },
    {
     "name": "stderr",
     "output_type": "stream",
     "text": [
      "\n"
     ]
    }
   ],
   "source": [
    "#%%time\n",
    "#device=torch.device('cpu')\n",
    "device=torch.device(torch_device)\n",
    "#device = torch.device('mps' if torch.backends.mps.is_available() else 'cpu')\n",
    "#device = torch.device('cuda' if torch.cuda.is_available() else 'cpu')\n",
    "\n",
    "# Recommended number of epochs: 2, 3, 4. See: https://arxiv.org/pdf/1810.04805.pdf\n",
    "epochs = 2\n",
    "for _ in trange(epochs, desc = 'Epoch'):\n",
    "    \n",
    "    # ========== Training ==========\n",
    "    # Set model to training mode\n",
    "    model.train()\n",
    "    \n",
    "    # Tracking variables\n",
    "    tr_loss = 0\n",
    "    nb_tr_examples, nb_tr_steps = 0, 0\n",
    "\n",
    "    for step, batch in enumerate(train_dataloader):\n",
    "        \n",
    "        batch = tuple(t.to(torch.float32).to(device) for t in batch)\n",
    "        b_input_ids, b_input_mask, b_labels = batch\n",
    "        optimizer.zero_grad()\n",
    "        # Forward pass\n",
    "        train_output = model(b_input_ids.to(torch.int), \n",
    "                             token_type_ids = None, \n",
    "                             attention_mask = b_input_mask, \n",
    "                             labels = b_labels)\n",
    "        # Backward pass\n",
    "        train_output.loss.backward()\n",
    "        optimizer.step()\n",
    "        # Update tracking variables\n",
    "        tr_loss += train_output.loss.item()\n",
    "        nb_tr_examples += b_input_ids.size(0)\n",
    "        nb_tr_steps += 1\n",
    "\n",
    "    # ========== Validation ==========\n",
    "\n",
    "    # Set model to evaluation mode\n",
    "    model.eval()\n",
    "\n",
    "    # Tracking variables \n",
    "    val_accuracy = []\n",
    "    val_precision = []\n",
    "    val_recall = []\n",
    "    val_specificity = []\n",
    "\n",
    "    for batch in validation_dataloader:\n",
    "        batch = tuple(t.to(torch.float32).to(device) for t in batch)\n",
    "        b_input_ids, b_input_mask, b_labels = batch\n",
    "        with torch.no_grad():\n",
    "          # Forward pass\n",
    "          eval_output = model(b_input_ids.to(torch.int), \n",
    "                              token_type_ids = None, \n",
    "                              attention_mask = b_input_mask)\n",
    "        logits = eval_output.logits.detach().cpu().numpy()\n",
    "        label_ids = b_labels.to('cpu').numpy()\n",
    "        # Calculate validation metrics\n",
    "        b_accuracy, b_precision, b_recall, b_specificity = b_metrics(logits, label_ids)\n",
    "        val_accuracy.append(b_accuracy)\n",
    "        # Update precision only when (tp + fp) !=0; ignore nan\n",
    "        if b_precision != 'nan': val_precision.append(b_precision)\n",
    "        # Update recall only when (tp + fn) !=0; ignore nan\n",
    "        if b_recall != 'nan': val_recall.append(b_recall)\n",
    "        # Update specificity only when (tn + fp) !=0; ignore nan\n",
    "        if b_specificity != 'nan': val_specificity.append(b_specificity)\n",
    "\n",
    "    print('\\n\\t - Train loss: {:.4f}'.format(tr_loss / nb_tr_steps))\n",
    "    print('\\t - Validation Accuracy: {:.4f}'.format(sum(val_accuracy)/len(val_accuracy)))\n",
    "    print('\\t - Validation Precision: {:.4f}'.format(sum(val_precision)/len(val_precision)) if len(val_precision)>0 else '\\t - Validation Precision: NaN')\n",
    "    print('\\t - Validation Recall: {:.4f}'.format(sum(val_recall)/len(val_recall)) if len(val_recall)>0 else '\\t - Validation Recall: NaN')\n",
    "    print('\\t - Validation Specificity: {:.4f}\\n'.format(sum(val_specificity)/len(val_specificity)) if len(val_specificity)>0 else '\\t - Validation Specificity: NaN')"
   ]
  },
  {
   "cell_type": "markdown",
   "id": "86782399",
   "metadata": {},
   "source": [
    "# Make Predictions"
   ]
  },
  {
   "cell_type": "code",
   "execution_count": 95,
   "id": "5ae894d0",
   "metadata": {},
   "outputs": [],
   "source": [
    "new_sentence = 'WINNER!! As a valued network customer you have been selected to receivea £900 prize reward! To claim call 09061701461. Claim code KL341. Valid 12 hours only.'"
   ]
  },
  {
   "cell_type": "code",
   "execution_count": 96,
   "id": "e5fc1907",
   "metadata": {},
   "outputs": [],
   "source": [
    "new_sentence = 'Please update your account data at https://dsfsdsq.ru/sd'"
   ]
  },
  {
   "cell_type": "code",
   "execution_count": 98,
   "id": "778c9f5e",
   "metadata": {},
   "outputs": [
    {
     "name": "stdout",
     "output_type": "stream",
     "text": [
      "Input Sentence:  Please update your account data at https://dsfsdsq.ru/sd\n",
      "Predicted Class:  Non Infox\n"
     ]
    }
   ],
   "source": [
    "# We need Token IDs and Attention Mask for inference on the new sentence\n",
    "test_ids = []\n",
    "test_attention_mask = []\n",
    "\n",
    "# Apply the tokenizer\n",
    "encoding = preprocessing(new_sentence, tokenizer)\n",
    "\n",
    "# Extract IDs and Attention Mask\n",
    "test_ids.append(encoding['input_ids'])\n",
    "test_attention_mask.append(encoding['attention_mask'])\n",
    "test_ids = torch.cat(test_ids, dim = 0)\n",
    "test_attention_mask = torch.cat(test_attention_mask, dim = 0)\n",
    "\n",
    "# Forward pass, calculate logit predictions\n",
    "with torch.no_grad():\n",
    "  output = model(test_ids.to(device), token_type_ids = None, attention_mask = test_attention_mask.to(device))\n",
    "\n",
    "prediction = 'Infox' if np.argmax(output.logits.cpu().numpy()).flatten().item() == 1 else 'Non Infox'\n",
    "\n",
    "print('Input Sentence: ', new_sentence)\n",
    "print('Predicted Class: ', prediction)"
   ]
  },
  {
   "cell_type": "markdown",
   "id": "4d1e37ad",
   "metadata": {},
   "source": [
    "# Data"
   ]
  },
  {
   "cell_type": "code",
   "execution_count": null,
   "id": "68265485",
   "metadata": {},
   "outputs": [],
   "source": [
    "#!wget 'https://archive.ics.uci.edu/ml/machine-learning-databases/00228/smsspamcollection.zip'"
   ]
  },
  {
   "cell_type": "code",
   "execution_count": null,
   "id": "755ed94b",
   "metadata": {},
   "outputs": [],
   "source": [
    "#!unzip -o smsspamcollection.zip"
   ]
  },
  {
   "cell_type": "code",
   "execution_count": null,
   "id": "fe93df1a",
   "metadata": {},
   "outputs": [],
   "source": [
    "cd ../.."
   ]
  },
  {
   "cell_type": "code",
   "execution_count": null,
   "id": "3a896b08",
   "metadata": {},
   "outputs": [],
   "source": [
    "import patat.util.pd"
   ]
  },
  {
   "cell_type": "code",
   "execution_count": null,
   "id": "f2b6f4fe",
   "metadata": {},
   "outputs": [],
   "source": [
    "filename = 'data/prod/230512-OIDS-Label.csv'\n",
    "df_label = patat.util.pd.df_from_csvjson(['tags','paragraphs'],filename)"
   ]
  },
  {
   "cell_type": "code",
   "execution_count": null,
   "id": "3075a707",
   "metadata": {},
   "outputs": [],
   "source": [
    "df_label = df_label.sample(frac=1)"
   ]
  },
  {
   "cell_type": "code",
   "execution_count": null,
   "id": "213c024a",
   "metadata": {},
   "outputs": [],
   "source": [
    "texts = df_label['title'].values\n",
    "labels = df_label['infox'].values"
   ]
  },
  {
   "cell_type": "code",
   "execution_count": null,
   "id": "2a8a70a3",
   "metadata": {},
   "outputs": [],
   "source": [
    "texts[:10]"
   ]
  },
  {
   "cell_type": "code",
   "execution_count": null,
   "id": "1196e31e",
   "metadata": {},
   "outputs": [],
   "source": [
    "labels[:10]"
   ]
  },
  {
   "cell_type": "markdown",
   "id": "ffcf3abf",
   "metadata": {},
   "source": [
    "# Install"
   ]
  },
  {
   "cell_type": "code",
   "execution_count": null,
   "id": "82344fce",
   "metadata": {
    "scrolled": true
   },
   "outputs": [],
   "source": [
    "!conda install transformers -y"
   ]
  },
  {
   "cell_type": "code",
   "execution_count": null,
   "id": "635e27a6",
   "metadata": {},
   "outputs": [],
   "source": [
    "!conda install scikit-learn -y"
   ]
  },
  {
   "cell_type": "code",
   "execution_count": null,
   "id": "e7b75c55",
   "metadata": {},
   "outputs": [],
   "source": [
    "!conda install tabulate -y"
   ]
  }
 ],
 "metadata": {
  "kernelspec": {
   "display_name": "Python 3 (ipykernel)",
   "language": "python",
   "name": "python3"
  },
  "language_info": {
   "codemirror_mode": {
    "name": "ipython",
    "version": 3
   },
   "file_extension": ".py",
   "mimetype": "text/x-python",
   "name": "python",
   "nbconvert_exporter": "python",
   "pygments_lexer": "ipython3",
   "version": "3.9.16"
  }
 },
 "nbformat": 4,
 "nbformat_minor": 5
}
