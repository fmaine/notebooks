{
 "cells": [
  {
   "cell_type": "markdown",
   "id": "e3ec4689",
   "metadata": {},
   "source": [
    "# Plateforme Agnostique de Traitement et d'Analyse des Textes\n",
    "### Carnet d'expérimentation\n",
    "---\n",
    "\n",
    "## Sujet : Nouveau prédicteur infox\n",
    "\n",
    "---"
   ]
  },
  {
   "cell_type": "markdown",
   "id": "2601e626",
   "metadata": {},
   "source": [
    "# Observations et environnement\n",
    "---"
   ]
  },
  {
   "cell_type": "code",
   "execution_count": 1,
   "id": "5d0de4d7",
   "metadata": {},
   "outputs": [
    {
     "name": "stdout",
     "output_type": "stream",
     "text": [
      "/Users/fm/Desktop/Work/Patat\n"
     ]
    }
   ],
   "source": [
    "cd ../.."
   ]
  },
  {
   "cell_type": "code",
   "execution_count": 2,
   "id": "32256b0d",
   "metadata": {},
   "outputs": [],
   "source": [
    "import importlib\n",
    "import pandas as pd\n",
    "import seaborn as sns"
   ]
  },
  {
   "cell_type": "markdown",
   "id": "29618668",
   "metadata": {},
   "source": [
    "## Labels et Articles"
   ]
  },
  {
   "cell_type": "code",
   "execution_count": 3,
   "id": "3b357704",
   "metadata": {},
   "outputs": [],
   "source": [
    "import patat.db.label_db"
   ]
  },
  {
   "cell_type": "code",
   "execution_count": 4,
   "id": "7c25908f",
   "metadata": {},
   "outputs": [
    {
     "data": {
      "text/html": [
       "<div>\n",
       "<style scoped>\n",
       "    .dataframe tbody tr th:only-of-type {\n",
       "        vertical-align: middle;\n",
       "    }\n",
       "\n",
       "    .dataframe tbody tr th {\n",
       "        vertical-align: top;\n",
       "    }\n",
       "\n",
       "    .dataframe thead th {\n",
       "        text-align: right;\n",
       "    }\n",
       "</style>\n",
       "<table border=\"1\" class=\"dataframe\">\n",
       "  <thead>\n",
       "    <tr style=\"text-align: right;\">\n",
       "      <th></th>\n",
       "      <th>url</th>\n",
       "      <th>value</th>\n",
       "      <th>label</th>\n",
       "      <th>owner</th>\n",
       "      <th>type</th>\n",
       "      <th>url_h</th>\n",
       "    </tr>\n",
       "  </thead>\n",
       "  <tbody>\n",
       "    <tr>\n",
       "      <th>0</th>\n",
       "      <td>https://www.breizh-info.com/2022/09/30/208531/...</td>\n",
       "      <td>0.002348</td>\n",
       "      <td>infox</td>\n",
       "      <td>221028-InfoxPipe</td>\n",
       "      <td>pred</td>\n",
       "      <td>7a183e0e5a2d7643350d9cb3fe655cb8e05d2892</td>\n",
       "    </tr>\n",
       "    <tr>\n",
       "      <th>1</th>\n",
       "      <td>https://www.breizh-info.com/2022/10/02/208574/...</td>\n",
       "      <td>0.024418</td>\n",
       "      <td>infox</td>\n",
       "      <td>221028-InfoxPipe</td>\n",
       "      <td>pred</td>\n",
       "      <td>242c9ea99be61b3e67d040b9a15423556b0a226c</td>\n",
       "    </tr>\n",
       "    <tr>\n",
       "      <th>2</th>\n",
       "      <td>https://www.dreuz.info/2022/10/elections-de-mi...</td>\n",
       "      <td>0.025664</td>\n",
       "      <td>infox</td>\n",
       "      <td>221028-InfoxPipe</td>\n",
       "      <td>pred</td>\n",
       "      <td>6294a8e958f020eb3d151176bdd437626d490b43</td>\n",
       "    </tr>\n",
       "    <tr>\n",
       "      <th>3</th>\n",
       "      <td>https://www.dreuz.info/2022/10/lukraine-est-en...</td>\n",
       "      <td>0.052985</td>\n",
       "      <td>infox</td>\n",
       "      <td>221028-InfoxPipe</td>\n",
       "      <td>pred</td>\n",
       "      <td>3f2abdc980e4fc88f3b62503e4cfccf2923686f5</td>\n",
       "    </tr>\n",
       "    <tr>\n",
       "      <th>4</th>\n",
       "      <td>https://www.dreuz.info/2022/10/la-fda-va-publi...</td>\n",
       "      <td>0.055427</td>\n",
       "      <td>infox</td>\n",
       "      <td>221028-InfoxPipe</td>\n",
       "      <td>pred</td>\n",
       "      <td>1f3dc0cd32405aadd908368395533886a5e13fe2</td>\n",
       "    </tr>\n",
       "    <tr>\n",
       "      <th>...</th>\n",
       "      <td>...</td>\n",
       "      <td>...</td>\n",
       "      <td>...</td>\n",
       "      <td>...</td>\n",
       "      <td>...</td>\n",
       "      <td>...</td>\n",
       "    </tr>\n",
       "    <tr>\n",
       "      <th>264236</th>\n",
       "      <td>https://www.profession-gendarme.com/zelensky-e...</td>\n",
       "      <td>0.556761</td>\n",
       "      <td>infox</td>\n",
       "      <td>220930-tf_lr.pp</td>\n",
       "      <td>pred</td>\n",
       "      <td>e346761c2a99d892b26c9388480e0ee6ad6b303b</td>\n",
       "    </tr>\n",
       "    <tr>\n",
       "      <th>264237</th>\n",
       "      <td>https://www.profession-gendarme.com/zelensky-l...</td>\n",
       "      <td>0.164531</td>\n",
       "      <td>infox</td>\n",
       "      <td>220930-tf_lr.pp</td>\n",
       "      <td>pred</td>\n",
       "      <td>77525354644316eadab53960efa8f5fd028c7f67</td>\n",
       "    </tr>\n",
       "    <tr>\n",
       "      <th>264238</th>\n",
       "      <td>https://www.profession-gendarme.com/zelensky-m...</td>\n",
       "      <td>0.673791</td>\n",
       "      <td>infox</td>\n",
       "      <td>220930-tf_lr.pp</td>\n",
       "      <td>pred</td>\n",
       "      <td>fc6a074da5c02032bc9fc3f35f1044bc4029042c</td>\n",
       "    </tr>\n",
       "    <tr>\n",
       "      <th>264239</th>\n",
       "      <td>https://www.profession-gendarme.com/zero-mort-...</td>\n",
       "      <td>0.103192</td>\n",
       "      <td>infox</td>\n",
       "      <td>220930-tf_lr.pp</td>\n",
       "      <td>pred</td>\n",
       "      <td>e4f0a8961d79c9a5f66c80d7aa4196cb679af2b0</td>\n",
       "    </tr>\n",
       "    <tr>\n",
       "      <th>264240</th>\n",
       "      <td>https://www.profession-gendarme.com/zoom-franc...</td>\n",
       "      <td>0.303205</td>\n",
       "      <td>infox</td>\n",
       "      <td>220930-tf_lr.pp</td>\n",
       "      <td>pred</td>\n",
       "      <td>36a0091795b15d56005a6b7b8963ada539f598eb</td>\n",
       "    </tr>\n",
       "  </tbody>\n",
       "</table>\n",
       "<p>264241 rows × 6 columns</p>\n",
       "</div>"
      ],
      "text/plain": [
       "                                                      url     value  label  \\\n",
       "0       https://www.breizh-info.com/2022/09/30/208531/...  0.002348  infox   \n",
       "1       https://www.breizh-info.com/2022/10/02/208574/...  0.024418  infox   \n",
       "2       https://www.dreuz.info/2022/10/elections-de-mi...  0.025664  infox   \n",
       "3       https://www.dreuz.info/2022/10/lukraine-est-en...  0.052985  infox   \n",
       "4       https://www.dreuz.info/2022/10/la-fda-va-publi...  0.055427  infox   \n",
       "...                                                   ...       ...    ...   \n",
       "264236  https://www.profession-gendarme.com/zelensky-e...  0.556761  infox   \n",
       "264237  https://www.profession-gendarme.com/zelensky-l...  0.164531  infox   \n",
       "264238  https://www.profession-gendarme.com/zelensky-m...  0.673791  infox   \n",
       "264239  https://www.profession-gendarme.com/zero-mort-...  0.103192  infox   \n",
       "264240  https://www.profession-gendarme.com/zoom-franc...  0.303205  infox   \n",
       "\n",
       "                   owner  type                                     url_h  \n",
       "0       221028-InfoxPipe  pred  7a183e0e5a2d7643350d9cb3fe655cb8e05d2892  \n",
       "1       221028-InfoxPipe  pred  242c9ea99be61b3e67d040b9a15423556b0a226c  \n",
       "2       221028-InfoxPipe  pred  6294a8e958f020eb3d151176bdd437626d490b43  \n",
       "3       221028-InfoxPipe  pred  3f2abdc980e4fc88f3b62503e4cfccf2923686f5  \n",
       "4       221028-InfoxPipe  pred  1f3dc0cd32405aadd908368395533886a5e13fe2  \n",
       "...                  ...   ...                                       ...  \n",
       "264236   220930-tf_lr.pp  pred  e346761c2a99d892b26c9388480e0ee6ad6b303b  \n",
       "264237   220930-tf_lr.pp  pred  77525354644316eadab53960efa8f5fd028c7f67  \n",
       "264238   220930-tf_lr.pp  pred  fc6a074da5c02032bc9fc3f35f1044bc4029042c  \n",
       "264239   220930-tf_lr.pp  pred  e4f0a8961d79c9a5f66c80d7aa4196cb679af2b0  \n",
       "264240   220930-tf_lr.pp  pred  36a0091795b15d56005a6b7b8963ada539f598eb  \n",
       "\n",
       "[264241 rows x 6 columns]"
      ]
     },
     "execution_count": 4,
     "metadata": {},
     "output_type": "execute_result"
    }
   ],
   "source": [
    "importlib.reload(patat.db.label_db)\n",
    "label_filename = ''\n",
    "\n",
    "label_db = patat.db.label_db.LabelDb(label_filename)\n",
    "label_db.df()"
   ]
  },
  {
   "cell_type": "code",
   "execution_count": 5,
   "id": "96710531",
   "metadata": {},
   "outputs": [],
   "source": [
    "import patat.db.article_db"
   ]
  },
  {
   "cell_type": "code",
   "execution_count": 6,
   "id": "c77ec74d",
   "metadata": {},
   "outputs": [
    {
     "data": {
      "text/html": [
       "<div>\n",
       "<style scoped>\n",
       "    .dataframe tbody tr th:only-of-type {\n",
       "        vertical-align: middle;\n",
       "    }\n",
       "\n",
       "    .dataframe tbody tr th {\n",
       "        vertical-align: top;\n",
       "    }\n",
       "\n",
       "    .dataframe thead th {\n",
       "        text-align: right;\n",
       "    }\n",
       "</style>\n",
       "<table border=\"1\" class=\"dataframe\">\n",
       "  <thead>\n",
       "    <tr style=\"text-align: right;\">\n",
       "      <th></th>\n",
       "      <th>url</th>\n",
       "      <th>site</th>\n",
       "      <th>title</th>\n",
       "      <th>article</th>\n",
       "      <th>abstract</th>\n",
       "      <th>author</th>\n",
       "      <th>date_iso</th>\n",
       "      <th>url_h</th>\n",
       "      <th>c_count</th>\n",
       "    </tr>\n",
       "  </thead>\n",
       "  <tbody>\n",
       "    <tr>\n",
       "      <th>0</th>\n",
       "      <td>https://www.breizh-info.com/2022/09/30/208531/...</td>\n",
       "      <td>www.breizh-info.com</td>\n",
       "      <td>Réunification. Les six « insoumis » de Bretagne</td>\n",
       "      <td>Dans l’opération que prépare Bretagne réunie, ...</td>\n",
       "      <td>NaN</td>\n",
       "      <td>NaN</td>\n",
       "      <td>2022-09-30T00:00:00</td>\n",
       "      <td>7a183e0e5a2d7643350d9cb3fe655cb8e05d2892</td>\n",
       "      <td>2292.0</td>\n",
       "    </tr>\n",
       "    <tr>\n",
       "      <th>1</th>\n",
       "      <td>https://www.breizh-info.com/2022/10/02/208574/...</td>\n",
       "      <td>www.breizh-info.com</td>\n",
       "      <td>Stonehenge, patrimoine africain ? Ben voyons…</td>\n",
       "      <td>Ces dernières années, l’Histoire toute entière...</td>\n",
       "      <td>NaN</td>\n",
       "      <td>NaN</td>\n",
       "      <td>2022-10-02T00:00:00</td>\n",
       "      <td>242c9ea99be61b3e67d040b9a15423556b0a226c</td>\n",
       "      <td>5111.0</td>\n",
       "    </tr>\n",
       "    <tr>\n",
       "      <th>2</th>\n",
       "      <td>https://www.dreuz.info/2022/10/elections-de-mi...</td>\n",
       "      <td>www.dreuz.info</td>\n",
       "      <td>Elections américaines de mi-mandat : suivi quo...</td>\n",
       "      <td>Voici le suivi quotidien des élections des mid...</td>\n",
       "      <td>NaN</td>\n",
       "      <td>Publié par  Team 100 jours le 3 octobre 2022</td>\n",
       "      <td>2022-10-03T00:00:00</td>\n",
       "      <td>6294a8e958f020eb3d151176bdd437626d490b43</td>\n",
       "      <td>5900.0</td>\n",
       "    </tr>\n",
       "    <tr>\n",
       "      <th>3</th>\n",
       "      <td>https://www.dreuz.info/2022/10/lukraine-est-en...</td>\n",
       "      <td>www.dreuz.info</td>\n",
       "      <td>L’Ukraine est en train de gagner la guerre</td>\n",
       "      <td>On ne saura sans doute jamais exactement qui a...</td>\n",
       "      <td>NaN</td>\n",
       "      <td>Publié par  Guy Millière le 4 octobre 2022</td>\n",
       "      <td>2022-10-04T00:00:00</td>\n",
       "      <td>3f2abdc980e4fc88f3b62503e4cfccf2923686f5</td>\n",
       "      <td>9598.0</td>\n",
       "    </tr>\n",
       "    <tr>\n",
       "      <th>4</th>\n",
       "      <td>https://www.dreuz.info/2022/10/la-fda-va-publi...</td>\n",
       "      <td>www.dreuz.info</td>\n",
       "      <td>La FDA va publier une étude sur les effets ind...</td>\n",
       "      <td>Première réflexion : J’ai toujours été pro-cho...</td>\n",
       "      <td>NaN</td>\n",
       "      <td>Publié par  Jean-Patrick Grumberg le 6 octobre...</td>\n",
       "      <td>2022-10-06T00:00:00</td>\n",
       "      <td>1f3dc0cd32405aadd908368395533886a5e13fe2</td>\n",
       "      <td>4264.0</td>\n",
       "    </tr>\n",
       "    <tr>\n",
       "      <th>...</th>\n",
       "      <td>...</td>\n",
       "      <td>...</td>\n",
       "      <td>...</td>\n",
       "      <td>...</td>\n",
       "      <td>...</td>\n",
       "      <td>...</td>\n",
       "      <td>...</td>\n",
       "      <td>...</td>\n",
       "      <td>...</td>\n",
       "    </tr>\n",
       "    <tr>\n",
       "      <th>77945</th>\n",
       "      <td>https://www.lelibrepenseur.org/une-histoire-vi...</td>\n",
       "      <td>www.lelibrepenseur.org</td>\n",
       "      <td>Une histoire vieille comme le monde !</td>\n",
       "      <td>Certains veulent des preuves ! Ils ont raison....</td>\n",
       "      <td>NaN</td>\n",
       "      <td>Par\\nAdmin</td>\n",
       "      <td>2010-05-04T00:00:00</td>\n",
       "      <td>8c7a6ecf46d47da1912884a0c0a2837c69f7ad19</td>\n",
       "      <td>7889.0</td>\n",
       "    </tr>\n",
       "    <tr>\n",
       "      <th>77946</th>\n",
       "      <td>https://www.lelibrepenseur.org/actus/</td>\n",
       "      <td>www.lelibrepenseur.org</td>\n",
       "      <td>Actus</td>\n",
       "      <td>Dernière vidéo !\\nIl était temps, enfin ! Je v...</td>\n",
       "      <td>NaN</td>\n",
       "      <td>Par\\nuser</td>\n",
       "      <td>2007-07-07T00:00:00</td>\n",
       "      <td>d4d5a37a8ff545664bea75664c8d8695e70d0941</td>\n",
       "      <td>2179.0</td>\n",
       "    </tr>\n",
       "    <tr>\n",
       "      <th>77947</th>\n",
       "      <td>https://www.lelibrepenseur.org/affiche-des-dec...</td>\n",
       "      <td>www.lelibrepenseur.org</td>\n",
       "      <td>Affiche des décès et malaises de sportifs de h...</td>\n",
       "      <td>Un nombre inquiétant de sportifs de haut nivea...</td>\n",
       "      <td>NaN</td>\n",
       "      <td>NaN</td>\n",
       "      <td>NaN</td>\n",
       "      <td>a175027896cf79e76dfad6409694fafacf1919b3</td>\n",
       "      <td>2250.0</td>\n",
       "    </tr>\n",
       "    <tr>\n",
       "      <th>77948</th>\n",
       "      <td>https://www.lelibrepenseur.org/communaute/</td>\n",
       "      <td>www.lelibrepenseur.org</td>\n",
       "      <td>Communauté</td>\n",
       "      <td>Notre Réseau Telegram et ses Groupes Secondair...</td>\n",
       "      <td>NaN</td>\n",
       "      <td>NaN</td>\n",
       "      <td>NaN</td>\n",
       "      <td>6ba257c7b15dd68cadf7dc5d6d8c584db0f1792e</td>\n",
       "      <td>2937.0</td>\n",
       "    </tr>\n",
       "    <tr>\n",
       "      <th>77949</th>\n",
       "      <td>https://www.lelibrepenseur.org/utilisation-des...</td>\n",
       "      <td>www.lelibrepenseur.org</td>\n",
       "      <td>Utilisation des cookies sur notre site</td>\n",
       "      <td>Que sont les cookies ?\\n\\n\\nLes cookies sont d...</td>\n",
       "      <td>NaN</td>\n",
       "      <td>NaN</td>\n",
       "      <td>NaN</td>\n",
       "      <td>7c725113f0c9a95c8269c8d7a271d253ae5ede99</td>\n",
       "      <td>7702.0</td>\n",
       "    </tr>\n",
       "  </tbody>\n",
       "</table>\n",
       "<p>77950 rows × 9 columns</p>\n",
       "</div>"
      ],
      "text/plain": [
       "                                                     url  \\\n",
       "0      https://www.breizh-info.com/2022/09/30/208531/...   \n",
       "1      https://www.breizh-info.com/2022/10/02/208574/...   \n",
       "2      https://www.dreuz.info/2022/10/elections-de-mi...   \n",
       "3      https://www.dreuz.info/2022/10/lukraine-est-en...   \n",
       "4      https://www.dreuz.info/2022/10/la-fda-va-publi...   \n",
       "...                                                  ...   \n",
       "77945  https://www.lelibrepenseur.org/une-histoire-vi...   \n",
       "77946              https://www.lelibrepenseur.org/actus/   \n",
       "77947  https://www.lelibrepenseur.org/affiche-des-dec...   \n",
       "77948         https://www.lelibrepenseur.org/communaute/   \n",
       "77949  https://www.lelibrepenseur.org/utilisation-des...   \n",
       "\n",
       "                         site  \\\n",
       "0         www.breizh-info.com   \n",
       "1         www.breizh-info.com   \n",
       "2              www.dreuz.info   \n",
       "3              www.dreuz.info   \n",
       "4              www.dreuz.info   \n",
       "...                       ...   \n",
       "77945  www.lelibrepenseur.org   \n",
       "77946  www.lelibrepenseur.org   \n",
       "77947  www.lelibrepenseur.org   \n",
       "77948  www.lelibrepenseur.org   \n",
       "77949  www.lelibrepenseur.org   \n",
       "\n",
       "                                                   title  \\\n",
       "0        Réunification. Les six « insoumis » de Bretagne   \n",
       "1          Stonehenge, patrimoine africain ? Ben voyons…   \n",
       "2      Elections américaines de mi-mandat : suivi quo...   \n",
       "3             L’Ukraine est en train de gagner la guerre   \n",
       "4      La FDA va publier une étude sur les effets ind...   \n",
       "...                                                  ...   \n",
       "77945              Une histoire vieille comme le monde !   \n",
       "77946                                              Actus   \n",
       "77947  Affiche des décès et malaises de sportifs de h...   \n",
       "77948                                         Communauté   \n",
       "77949             Utilisation des cookies sur notre site   \n",
       "\n",
       "                                                 article  abstract  \\\n",
       "0      Dans l’opération que prépare Bretagne réunie, ...       NaN   \n",
       "1      Ces dernières années, l’Histoire toute entière...       NaN   \n",
       "2      Voici le suivi quotidien des élections des mid...       NaN   \n",
       "3      On ne saura sans doute jamais exactement qui a...       NaN   \n",
       "4      Première réflexion : J’ai toujours été pro-cho...       NaN   \n",
       "...                                                  ...       ...   \n",
       "77945  Certains veulent des preuves ! Ils ont raison....       NaN   \n",
       "77946  Dernière vidéo !\\nIl était temps, enfin ! Je v...       NaN   \n",
       "77947  Un nombre inquiétant de sportifs de haut nivea...       NaN   \n",
       "77948  Notre Réseau Telegram et ses Groupes Secondair...       NaN   \n",
       "77949  Que sont les cookies ?\\n\\n\\nLes cookies sont d...       NaN   \n",
       "\n",
       "                                                  author             date_iso  \\\n",
       "0                                                    NaN  2022-09-30T00:00:00   \n",
       "1                                                    NaN  2022-10-02T00:00:00   \n",
       "2           Publié par  Team 100 jours le 3 octobre 2022  2022-10-03T00:00:00   \n",
       "3             Publié par  Guy Millière le 4 octobre 2022  2022-10-04T00:00:00   \n",
       "4      Publié par  Jean-Patrick Grumberg le 6 octobre...  2022-10-06T00:00:00   \n",
       "...                                                  ...                  ...   \n",
       "77945                                         Par\\nAdmin  2010-05-04T00:00:00   \n",
       "77946                                          Par\\nuser  2007-07-07T00:00:00   \n",
       "77947                                                NaN                  NaN   \n",
       "77948                                                NaN                  NaN   \n",
       "77949                                                NaN                  NaN   \n",
       "\n",
       "                                          url_h  c_count  \n",
       "0      7a183e0e5a2d7643350d9cb3fe655cb8e05d2892   2292.0  \n",
       "1      242c9ea99be61b3e67d040b9a15423556b0a226c   5111.0  \n",
       "2      6294a8e958f020eb3d151176bdd437626d490b43   5900.0  \n",
       "3      3f2abdc980e4fc88f3b62503e4cfccf2923686f5   9598.0  \n",
       "4      1f3dc0cd32405aadd908368395533886a5e13fe2   4264.0  \n",
       "...                                         ...      ...  \n",
       "77945  8c7a6ecf46d47da1912884a0c0a2837c69f7ad19   7889.0  \n",
       "77946  d4d5a37a8ff545664bea75664c8d8695e70d0941   2179.0  \n",
       "77947  a175027896cf79e76dfad6409694fafacf1919b3   2250.0  \n",
       "77948  6ba257c7b15dd68cadf7dc5d6d8c584db0f1792e   2937.0  \n",
       "77949  7c725113f0c9a95c8269c8d7a271d253ae5ede99   7702.0  \n",
       "\n",
       "[77950 rows x 9 columns]"
      ]
     },
     "execution_count": 6,
     "metadata": {},
     "output_type": "execute_result"
    }
   ],
   "source": [
    "importlib.reload(patat.db.article_db)\n",
    "article_filename = ''\n",
    "\n",
    "article_db = patat.db.article_db.ArticleDb(article_filename)\n",
    "article_db.df()"
   ]
  },
  {
   "cell_type": "markdown",
   "id": "f32351c1",
   "metadata": {},
   "source": [
    "# Experience\n",
    "---"
   ]
  },
  {
   "cell_type": "markdown",
   "id": "70ad9088",
   "metadata": {},
   "source": [
    "## Données d'entrainement"
   ]
  },
  {
   "cell_type": "code",
   "execution_count": 7,
   "id": "e1ade36f",
   "metadata": {},
   "outputs": [],
   "source": [
    "df_labels = label_db.df()"
   ]
  },
  {
   "cell_type": "code",
   "execution_count": 8,
   "id": "44e3f714",
   "metadata": {},
   "outputs": [],
   "source": [
    "df_labels = df_labels[df_labels['owner']=='recueil']"
   ]
  },
  {
   "cell_type": "code",
   "execution_count": 9,
   "id": "16ef028d",
   "metadata": {},
   "outputs": [],
   "source": [
    "df_labels = df_labels[df_labels['label']=='infox'][['url','value']]"
   ]
  },
  {
   "cell_type": "code",
   "execution_count": 10,
   "id": "4c45c214",
   "metadata": {},
   "outputs": [],
   "source": [
    "df_labels = df_labels.rename(columns={'value':'infox'})"
   ]
  },
  {
   "cell_type": "code",
   "execution_count": 11,
   "id": "faf9c558",
   "metadata": {},
   "outputs": [
    {
     "data": {
      "text/html": [
       "<div>\n",
       "<style scoped>\n",
       "    .dataframe tbody tr th:only-of-type {\n",
       "        vertical-align: middle;\n",
       "    }\n",
       "\n",
       "    .dataframe tbody tr th {\n",
       "        vertical-align: top;\n",
       "    }\n",
       "\n",
       "    .dataframe thead th {\n",
       "        text-align: right;\n",
       "    }\n",
       "</style>\n",
       "<table border=\"1\" class=\"dataframe\">\n",
       "  <thead>\n",
       "    <tr style=\"text-align: right;\">\n",
       "      <th></th>\n",
       "      <th>url</th>\n",
       "      <th>infox</th>\n",
       "    </tr>\n",
       "  </thead>\n",
       "  <tbody>\n",
       "    <tr>\n",
       "      <th>77950</th>\n",
       "      <td>https://www.anguillesousroche.com/actualite/ou...</td>\n",
       "      <td>0.0</td>\n",
       "    </tr>\n",
       "    <tr>\n",
       "      <th>77971</th>\n",
       "      <td>https://www.anguillesousroche.com/technologie/...</td>\n",
       "      <td>1.0</td>\n",
       "    </tr>\n",
       "    <tr>\n",
       "      <th>77992</th>\n",
       "      <td>https://www.anguillesousroche.com/actualite/ju...</td>\n",
       "      <td>0.0</td>\n",
       "    </tr>\n",
       "    <tr>\n",
       "      <th>78014</th>\n",
       "      <td>https://bonsens.info/essais-pfizer-sur-le-vacc...</td>\n",
       "      <td>1.0</td>\n",
       "    </tr>\n",
       "    <tr>\n",
       "      <th>78033</th>\n",
       "      <td>https://www.breizh-info.com/2022/02/23/180457/...</td>\n",
       "      <td>1.0</td>\n",
       "    </tr>\n",
       "    <tr>\n",
       "      <th>...</th>\n",
       "      <td>...</td>\n",
       "      <td>...</td>\n",
       "    </tr>\n",
       "    <tr>\n",
       "      <th>87754</th>\n",
       "      <td>https://www.wikistrike.com/2022/08/l-un-des-pl...</td>\n",
       "      <td>0.0</td>\n",
       "    </tr>\n",
       "    <tr>\n",
       "      <th>87775</th>\n",
       "      <td>https://www.wikistrike.com/2022/09/les-command...</td>\n",
       "      <td>1.0</td>\n",
       "    </tr>\n",
       "    <tr>\n",
       "      <th>87796</th>\n",
       "      <td>https://www.wikistrike.com/2022/09/coupures-el...</td>\n",
       "      <td>1.0</td>\n",
       "    </tr>\n",
       "    <tr>\n",
       "      <th>87817</th>\n",
       "      <td>https://www.wikistrike.com/2022/09/11-septembr...</td>\n",
       "      <td>1.0</td>\n",
       "    </tr>\n",
       "    <tr>\n",
       "      <th>87838</th>\n",
       "      <td>https://www.wikistrike.com/2022/10/selon-un-an...</td>\n",
       "      <td>1.0</td>\n",
       "    </tr>\n",
       "  </tbody>\n",
       "</table>\n",
       "<p>499 rows × 2 columns</p>\n",
       "</div>"
      ],
      "text/plain": [
       "                                                     url  infox\n",
       "77950  https://www.anguillesousroche.com/actualite/ou...    0.0\n",
       "77971  https://www.anguillesousroche.com/technologie/...    1.0\n",
       "77992  https://www.anguillesousroche.com/actualite/ju...    0.0\n",
       "78014  https://bonsens.info/essais-pfizer-sur-le-vacc...    1.0\n",
       "78033  https://www.breizh-info.com/2022/02/23/180457/...    1.0\n",
       "...                                                  ...    ...\n",
       "87754  https://www.wikistrike.com/2022/08/l-un-des-pl...    0.0\n",
       "87775  https://www.wikistrike.com/2022/09/les-command...    1.0\n",
       "87796  https://www.wikistrike.com/2022/09/coupures-el...    1.0\n",
       "87817  https://www.wikistrike.com/2022/09/11-septembr...    1.0\n",
       "87838  https://www.wikistrike.com/2022/10/selon-un-an...    1.0\n",
       "\n",
       "[499 rows x 2 columns]"
      ]
     },
     "execution_count": 11,
     "metadata": {},
     "output_type": "execute_result"
    }
   ],
   "source": [
    "df_labels"
   ]
  },
  {
   "cell_type": "code",
   "execution_count": 12,
   "id": "1d63d3bd",
   "metadata": {},
   "outputs": [],
   "source": [
    "df_corpus = article_db.df()"
   ]
  },
  {
   "cell_type": "code",
   "execution_count": 13,
   "id": "9930531a",
   "metadata": {},
   "outputs": [],
   "source": [
    "df_corpus['text'] = df_corpus['title']+'\\n'+df_corpus['article']"
   ]
  },
  {
   "cell_type": "code",
   "execution_count": 14,
   "id": "3147e883",
   "metadata": {},
   "outputs": [],
   "source": [
    "df_corpus=df_corpus[['url','text']]"
   ]
  },
  {
   "cell_type": "code",
   "execution_count": 15,
   "id": "1b9141bf",
   "metadata": {},
   "outputs": [],
   "source": [
    "df_texts = pd.merge(df_corpus,df_labels)"
   ]
  },
  {
   "cell_type": "markdown",
   "id": "692002bb",
   "metadata": {},
   "source": [
    "## Pipeline"
   ]
  },
  {
   "cell_type": "markdown",
   "id": "cc4d845f",
   "metadata": {},
   "source": [
    "### Preprocessor"
   ]
  },
  {
   "cell_type": "code",
   "execution_count": 16,
   "id": "2e6efc6d",
   "metadata": {},
   "outputs": [],
   "source": [
    "import patat.util.text\n",
    "\n",
    "importlib.reload(patat.util.text)\n",
    "preprocessor = patat.util.text.get_latin\n",
    "#preprocessor=None"
   ]
  },
  {
   "cell_type": "markdown",
   "id": "685b5cbb",
   "metadata": {},
   "source": [
    "### Tokenizer"
   ]
  },
  {
   "cell_type": "code",
   "execution_count": 17,
   "id": "52367d50",
   "metadata": {},
   "outputs": [],
   "source": [
    "from nltk.tokenize import word_tokenize, wordpunct_tokenize, sent_tokenize\n",
    "from patat.ml.lex_analyser import LexAnalyser\n",
    "\n",
    "lex = LexAnalyser()\n",
    "\n",
    "def toklematize(text):\n",
    "    tokens = lex.get_lemmas_from_text(text)\n",
    "    return tokens   \n",
    "\n",
    "\n",
    "tokenizer = lex.get_lemmas_from_text\n",
    "#tokenizer = toklematize\n",
    "#tokenizer = word_tokenize\n",
    "#tokenizer = lex.get_words"
   ]
  },
  {
   "cell_type": "markdown",
   "id": "f9f6fb12",
   "metadata": {},
   "source": [
    "### Ignore words"
   ]
  },
  {
   "cell_type": "code",
   "execution_count": 18,
   "id": "05445019",
   "metadata": {},
   "outputs": [],
   "source": [
    "from sklearn.feature_extraction.text import CountVectorizer"
   ]
  },
  {
   "cell_type": "code",
   "execution_count": 19,
   "id": "fcb08c83",
   "metadata": {},
   "outputs": [
    {
     "name": "stdout",
     "output_type": "stream",
     "text": [
      "CPU times: user 312 ms, sys: 16.4 ms, total: 329 ms\n",
      "Wall time: 326 ms\n"
     ]
    },
    {
     "data": {
      "text/plain": [
       "(23482, 3)"
      ]
     },
     "execution_count": 19,
     "metadata": {},
     "output_type": "execute_result"
    }
   ],
   "source": [
    "%%time\n",
    "vectorizer = CountVectorizer(lowercase=True, preprocessor=preprocessor, tokenizer=tokenizer)\n",
    "count_matrix = vectorizer.fit_transform(df_texts['text'])\n",
    "count_array = count_matrix.toarray()\n",
    "df_count = pd.DataFrame(data=count_array,columns = vectorizer.get_feature_names_out())\n",
    "df_words_0 = pd.DataFrame(df_count[df_texts['infox']==0].sum(),columns=['count_0']).sort_values('count_0',ascending=False)\n",
    "df_words_1 = pd.DataFrame(df_count[df_texts['infox']==1].sum(),columns=['count_1']).sort_values('count_1',ascending=False)\n",
    "df_words = pd.concat([df_words_0,df_words_1],axis=1).fillna(0)\n",
    "df_words['count']=df_words['count_0']+df_words['count_1']\n",
    "df_words.shape"
   ]
  },
  {
   "cell_type": "code",
   "execution_count": 20,
   "id": "746aa347",
   "metadata": {},
   "outputs": [
    {
     "data": {
      "text/plain": [
       "(15134, 4)"
      ]
     },
     "execution_count": 20,
     "metadata": {},
     "output_type": "execute_result"
    }
   ],
   "source": [
    "occ_rare = 2\n",
    "df_words['rare']=(df_words['count_0']<=occ_rare)&(df_words['count_1']<=occ_rare)\n",
    "df_words[df_words['rare']].shape"
   ]
  },
  {
   "cell_type": "code",
   "execution_count": 21,
   "id": "9c440ffb",
   "metadata": {},
   "outputs": [
    {
     "data": {
      "text/plain": [
       "(69, 5)"
      ]
     },
     "execution_count": 21,
     "metadata": {},
     "output_type": "execute_result"
    }
   ],
   "source": [
    "common_size = 80\n",
    "common_0 = df_words.sort_values('count_0',ascending=False).head(common_size).index\n",
    "common_1 = df_words.sort_values('count_1',ascending=False).head(common_size).index\n",
    "df_words['common']=(df_words.index.isin(common_0))&(df_words.index.isin(common_1))\n",
    "df_words[df_words['common']].shape"
   ]
  },
  {
   "cell_type": "code",
   "execution_count": 22,
   "id": "25063876",
   "metadata": {},
   "outputs": [],
   "source": [
    "ignore_words = list(df_words[df_words['common']].index)+list(df_words[df_words['rare']].index)"
   ]
  },
  {
   "cell_type": "markdown",
   "id": "414fb32f",
   "metadata": {},
   "source": [
    "### TfIdfVectorizer"
   ]
  },
  {
   "cell_type": "code",
   "execution_count": 23,
   "id": "4f2e5c3b",
   "metadata": {},
   "outputs": [],
   "source": [
    "from sklearn.feature_extraction.text import TfidfVectorizer"
   ]
  },
  {
   "cell_type": "code",
   "execution_count": 24,
   "id": "9c31a944",
   "metadata": {},
   "outputs": [
    {
     "name": "stderr",
     "output_type": "stream",
     "text": [
      "/Users/fm/Desktop/Work/Patat/patat-env/lib/python3.9/site-packages/sklearn/feature_extraction/text.py:404: UserWarning: Your stop_words may be inconsistent with your preprocessing. Tokenizing the stop words generated tokens ['aboutir', 'abrutir', 'ambitieux', 'bouillir', 'coordonner', 'croire', 'décombrer', 'démoraliser', 'déplaire', 'désordonner', 'florir', 'joindre', 'matcher', 'maudire', 'menacer', 'mol', 'oxygéner', 'personnaliser', 'presser', 'précieux', 'présumer', 'recroître', 'saisir', 'satisfaire', 'subventionner', 'teindre', 'tracter', 'émerger', 'énoncer', 'équivaloir'] not in stop_words.\n",
      "  warnings.warn(\n"
     ]
    },
    {
     "name": "stdout",
     "output_type": "stream",
     "text": [
      "CPU times: user 300 ms, sys: 5.04 ms, total: 305 ms\n",
      "Wall time: 304 ms\n"
     ]
    },
    {
     "data": {
      "text/html": [
       "<div>\n",
       "<style scoped>\n",
       "    .dataframe tbody tr th:only-of-type {\n",
       "        vertical-align: middle;\n",
       "    }\n",
       "\n",
       "    .dataframe tbody tr th {\n",
       "        vertical-align: top;\n",
       "    }\n",
       "\n",
       "    .dataframe thead th {\n",
       "        text-align: right;\n",
       "    }\n",
       "</style>\n",
       "<table border=\"1\" class=\"dataframe\">\n",
       "  <thead>\n",
       "    <tr style=\"text-align: right;\">\n",
       "      <th></th>\n",
       "      <th>aa</th>\n",
       "      <th>ab</th>\n",
       "      <th>abandon</th>\n",
       "      <th>abandonner</th>\n",
       "      <th>abattage</th>\n",
       "      <th>abattre</th>\n",
       "      <th>abbé</th>\n",
       "      <th>abdel</th>\n",
       "      <th>abdul</th>\n",
       "      <th>abjean</th>\n",
       "      <th>...</th>\n",
       "      <th>évoquer</th>\n",
       "      <th>évènement</th>\n",
       "      <th>événement</th>\n",
       "      <th>évêque</th>\n",
       "      <th>île</th>\n",
       "      <th>östlund</th>\n",
       "      <th>œil</th>\n",
       "      <th>œufs</th>\n",
       "      <th>œuvre</th>\n",
       "      <th>œuvres</th>\n",
       "    </tr>\n",
       "  </thead>\n",
       "  <tbody>\n",
       "    <tr>\n",
       "      <th>0</th>\n",
       "      <td>0.000000</td>\n",
       "      <td>0.0</td>\n",
       "      <td>0.000000</td>\n",
       "      <td>0.000000</td>\n",
       "      <td>0.0</td>\n",
       "      <td>0.0</td>\n",
       "      <td>0.0</td>\n",
       "      <td>0.0</td>\n",
       "      <td>0.0</td>\n",
       "      <td>0.0</td>\n",
       "      <td>...</td>\n",
       "      <td>0.0</td>\n",
       "      <td>0.0</td>\n",
       "      <td>0.000000</td>\n",
       "      <td>0.0</td>\n",
       "      <td>0.0</td>\n",
       "      <td>0.0</td>\n",
       "      <td>0.0</td>\n",
       "      <td>0.0</td>\n",
       "      <td>0.0</td>\n",
       "      <td>0.0</td>\n",
       "    </tr>\n",
       "    <tr>\n",
       "      <th>1</th>\n",
       "      <td>0.000000</td>\n",
       "      <td>0.0</td>\n",
       "      <td>0.000000</td>\n",
       "      <td>0.000000</td>\n",
       "      <td>0.0</td>\n",
       "      <td>0.0</td>\n",
       "      <td>0.0</td>\n",
       "      <td>0.0</td>\n",
       "      <td>0.0</td>\n",
       "      <td>0.0</td>\n",
       "      <td>...</td>\n",
       "      <td>0.0</td>\n",
       "      <td>0.0</td>\n",
       "      <td>0.000000</td>\n",
       "      <td>0.0</td>\n",
       "      <td>0.0</td>\n",
       "      <td>0.0</td>\n",
       "      <td>0.0</td>\n",
       "      <td>0.0</td>\n",
       "      <td>0.0</td>\n",
       "      <td>0.0</td>\n",
       "    </tr>\n",
       "    <tr>\n",
       "      <th>2</th>\n",
       "      <td>0.000000</td>\n",
       "      <td>0.0</td>\n",
       "      <td>0.000000</td>\n",
       "      <td>0.000000</td>\n",
       "      <td>0.0</td>\n",
       "      <td>0.0</td>\n",
       "      <td>0.0</td>\n",
       "      <td>0.0</td>\n",
       "      <td>0.0</td>\n",
       "      <td>0.0</td>\n",
       "      <td>...</td>\n",
       "      <td>0.0</td>\n",
       "      <td>0.0</td>\n",
       "      <td>0.000000</td>\n",
       "      <td>0.0</td>\n",
       "      <td>0.0</td>\n",
       "      <td>0.0</td>\n",
       "      <td>0.0</td>\n",
       "      <td>0.0</td>\n",
       "      <td>0.0</td>\n",
       "      <td>0.0</td>\n",
       "    </tr>\n",
       "    <tr>\n",
       "      <th>3</th>\n",
       "      <td>0.000000</td>\n",
       "      <td>0.0</td>\n",
       "      <td>0.027318</td>\n",
       "      <td>0.022281</td>\n",
       "      <td>0.0</td>\n",
       "      <td>0.0</td>\n",
       "      <td>0.0</td>\n",
       "      <td>0.0</td>\n",
       "      <td>0.0</td>\n",
       "      <td>0.0</td>\n",
       "      <td>...</td>\n",
       "      <td>0.0</td>\n",
       "      <td>0.0</td>\n",
       "      <td>0.000000</td>\n",
       "      <td>0.0</td>\n",
       "      <td>0.0</td>\n",
       "      <td>0.0</td>\n",
       "      <td>0.0</td>\n",
       "      <td>0.0</td>\n",
       "      <td>0.0</td>\n",
       "      <td>0.0</td>\n",
       "    </tr>\n",
       "    <tr>\n",
       "      <th>4</th>\n",
       "      <td>0.000000</td>\n",
       "      <td>0.0</td>\n",
       "      <td>0.000000</td>\n",
       "      <td>0.000000</td>\n",
       "      <td>0.0</td>\n",
       "      <td>0.0</td>\n",
       "      <td>0.0</td>\n",
       "      <td>0.0</td>\n",
       "      <td>0.0</td>\n",
       "      <td>0.0</td>\n",
       "      <td>...</td>\n",
       "      <td>0.0</td>\n",
       "      <td>0.0</td>\n",
       "      <td>0.064187</td>\n",
       "      <td>0.0</td>\n",
       "      <td>0.0</td>\n",
       "      <td>0.0</td>\n",
       "      <td>0.0</td>\n",
       "      <td>0.0</td>\n",
       "      <td>0.0</td>\n",
       "      <td>0.0</td>\n",
       "    </tr>\n",
       "    <tr>\n",
       "      <th>...</th>\n",
       "      <td>...</td>\n",
       "      <td>...</td>\n",
       "      <td>...</td>\n",
       "      <td>...</td>\n",
       "      <td>...</td>\n",
       "      <td>...</td>\n",
       "      <td>...</td>\n",
       "      <td>...</td>\n",
       "      <td>...</td>\n",
       "      <td>...</td>\n",
       "      <td>...</td>\n",
       "      <td>...</td>\n",
       "      <td>...</td>\n",
       "      <td>...</td>\n",
       "      <td>...</td>\n",
       "      <td>...</td>\n",
       "      <td>...</td>\n",
       "      <td>...</td>\n",
       "      <td>...</td>\n",
       "      <td>...</td>\n",
       "      <td>...</td>\n",
       "    </tr>\n",
       "    <tr>\n",
       "      <th>450</th>\n",
       "      <td>0.109953</td>\n",
       "      <td>0.0</td>\n",
       "      <td>0.000000</td>\n",
       "      <td>0.000000</td>\n",
       "      <td>0.0</td>\n",
       "      <td>0.0</td>\n",
       "      <td>0.0</td>\n",
       "      <td>0.0</td>\n",
       "      <td>0.0</td>\n",
       "      <td>0.0</td>\n",
       "      <td>...</td>\n",
       "      <td>0.0</td>\n",
       "      <td>0.0</td>\n",
       "      <td>0.052988</td>\n",
       "      <td>0.0</td>\n",
       "      <td>0.0</td>\n",
       "      <td>0.0</td>\n",
       "      <td>0.0</td>\n",
       "      <td>0.0</td>\n",
       "      <td>0.0</td>\n",
       "      <td>0.0</td>\n",
       "    </tr>\n",
       "    <tr>\n",
       "      <th>451</th>\n",
       "      <td>0.000000</td>\n",
       "      <td>0.0</td>\n",
       "      <td>0.000000</td>\n",
       "      <td>0.000000</td>\n",
       "      <td>0.0</td>\n",
       "      <td>0.0</td>\n",
       "      <td>0.0</td>\n",
       "      <td>0.0</td>\n",
       "      <td>0.0</td>\n",
       "      <td>0.0</td>\n",
       "      <td>...</td>\n",
       "      <td>0.0</td>\n",
       "      <td>0.0</td>\n",
       "      <td>0.000000</td>\n",
       "      <td>0.0</td>\n",
       "      <td>0.0</td>\n",
       "      <td>0.0</td>\n",
       "      <td>0.0</td>\n",
       "      <td>0.0</td>\n",
       "      <td>0.0</td>\n",
       "      <td>0.0</td>\n",
       "    </tr>\n",
       "    <tr>\n",
       "      <th>452</th>\n",
       "      <td>0.000000</td>\n",
       "      <td>0.0</td>\n",
       "      <td>0.000000</td>\n",
       "      <td>0.000000</td>\n",
       "      <td>0.0</td>\n",
       "      <td>0.0</td>\n",
       "      <td>0.0</td>\n",
       "      <td>0.0</td>\n",
       "      <td>0.0</td>\n",
       "      <td>0.0</td>\n",
       "      <td>...</td>\n",
       "      <td>0.0</td>\n",
       "      <td>0.0</td>\n",
       "      <td>0.000000</td>\n",
       "      <td>0.0</td>\n",
       "      <td>0.0</td>\n",
       "      <td>0.0</td>\n",
       "      <td>0.0</td>\n",
       "      <td>0.0</td>\n",
       "      <td>0.0</td>\n",
       "      <td>0.0</td>\n",
       "    </tr>\n",
       "    <tr>\n",
       "      <th>453</th>\n",
       "      <td>0.000000</td>\n",
       "      <td>0.0</td>\n",
       "      <td>0.000000</td>\n",
       "      <td>0.000000</td>\n",
       "      <td>0.0</td>\n",
       "      <td>0.0</td>\n",
       "      <td>0.0</td>\n",
       "      <td>0.0</td>\n",
       "      <td>0.0</td>\n",
       "      <td>0.0</td>\n",
       "      <td>...</td>\n",
       "      <td>0.0</td>\n",
       "      <td>0.0</td>\n",
       "      <td>0.000000</td>\n",
       "      <td>0.0</td>\n",
       "      <td>0.0</td>\n",
       "      <td>0.0</td>\n",
       "      <td>0.0</td>\n",
       "      <td>0.0</td>\n",
       "      <td>0.0</td>\n",
       "      <td>0.0</td>\n",
       "    </tr>\n",
       "    <tr>\n",
       "      <th>454</th>\n",
       "      <td>0.000000</td>\n",
       "      <td>0.0</td>\n",
       "      <td>0.000000</td>\n",
       "      <td>0.000000</td>\n",
       "      <td>0.0</td>\n",
       "      <td>0.0</td>\n",
       "      <td>0.0</td>\n",
       "      <td>0.0</td>\n",
       "      <td>0.0</td>\n",
       "      <td>0.0</td>\n",
       "      <td>...</td>\n",
       "      <td>0.0</td>\n",
       "      <td>0.0</td>\n",
       "      <td>0.000000</td>\n",
       "      <td>0.0</td>\n",
       "      <td>0.0</td>\n",
       "      <td>0.0</td>\n",
       "      <td>0.0</td>\n",
       "      <td>0.0</td>\n",
       "      <td>0.0</td>\n",
       "      <td>0.0</td>\n",
       "    </tr>\n",
       "  </tbody>\n",
       "</table>\n",
       "<p>455 rows × 8279 columns</p>\n",
       "</div>"
      ],
      "text/plain": [
       "           aa   ab   abandon  abandonner  abattage  abattre  abbé  abdel  \\\n",
       "0    0.000000  0.0  0.000000    0.000000       0.0      0.0   0.0    0.0   \n",
       "1    0.000000  0.0  0.000000    0.000000       0.0      0.0   0.0    0.0   \n",
       "2    0.000000  0.0  0.000000    0.000000       0.0      0.0   0.0    0.0   \n",
       "3    0.000000  0.0  0.027318    0.022281       0.0      0.0   0.0    0.0   \n",
       "4    0.000000  0.0  0.000000    0.000000       0.0      0.0   0.0    0.0   \n",
       "..        ...  ...       ...         ...       ...      ...   ...    ...   \n",
       "450  0.109953  0.0  0.000000    0.000000       0.0      0.0   0.0    0.0   \n",
       "451  0.000000  0.0  0.000000    0.000000       0.0      0.0   0.0    0.0   \n",
       "452  0.000000  0.0  0.000000    0.000000       0.0      0.0   0.0    0.0   \n",
       "453  0.000000  0.0  0.000000    0.000000       0.0      0.0   0.0    0.0   \n",
       "454  0.000000  0.0  0.000000    0.000000       0.0      0.0   0.0    0.0   \n",
       "\n",
       "     abdul  abjean  ...  évoquer  évènement  événement  évêque  île  östlund  \\\n",
       "0      0.0     0.0  ...      0.0        0.0   0.000000     0.0  0.0      0.0   \n",
       "1      0.0     0.0  ...      0.0        0.0   0.000000     0.0  0.0      0.0   \n",
       "2      0.0     0.0  ...      0.0        0.0   0.000000     0.0  0.0      0.0   \n",
       "3      0.0     0.0  ...      0.0        0.0   0.000000     0.0  0.0      0.0   \n",
       "4      0.0     0.0  ...      0.0        0.0   0.064187     0.0  0.0      0.0   \n",
       "..     ...     ...  ...      ...        ...        ...     ...  ...      ...   \n",
       "450    0.0     0.0  ...      0.0        0.0   0.052988     0.0  0.0      0.0   \n",
       "451    0.0     0.0  ...      0.0        0.0   0.000000     0.0  0.0      0.0   \n",
       "452    0.0     0.0  ...      0.0        0.0   0.000000     0.0  0.0      0.0   \n",
       "453    0.0     0.0  ...      0.0        0.0   0.000000     0.0  0.0      0.0   \n",
       "454    0.0     0.0  ...      0.0        0.0   0.000000     0.0  0.0      0.0   \n",
       "\n",
       "     œil  œufs  œuvre  œuvres  \n",
       "0    0.0   0.0    0.0     0.0  \n",
       "1    0.0   0.0    0.0     0.0  \n",
       "2    0.0   0.0    0.0     0.0  \n",
       "3    0.0   0.0    0.0     0.0  \n",
       "4    0.0   0.0    0.0     0.0  \n",
       "..   ...   ...    ...     ...  \n",
       "450  0.0   0.0    0.0     0.0  \n",
       "451  0.0   0.0    0.0     0.0  \n",
       "452  0.0   0.0    0.0     0.0  \n",
       "453  0.0   0.0    0.0     0.0  \n",
       "454  0.0   0.0    0.0     0.0  \n",
       "\n",
       "[455 rows x 8279 columns]"
      ]
     },
     "execution_count": 24,
     "metadata": {},
     "output_type": "execute_result"
    }
   ],
   "source": [
    "%%time\n",
    "vectorizer = TfidfVectorizer(lowercase=True, preprocessor=preprocessor, tokenizer=tokenizer, stop_words=ignore_words)\n",
    "count_matrix = vectorizer.fit_transform(df_texts['text'])\n",
    "count_array = count_matrix.toarray()\n",
    "df_tf = pd.DataFrame(data=count_array,columns = vectorizer.get_feature_names_out())\n",
    "df_tf.shape\n",
    "\n",
    "df_X = df_tf\n",
    "\n",
    "len(df_X.keys())\n",
    "\n",
    "df_X"
   ]
  },
  {
   "cell_type": "markdown",
   "id": "2eb57ac2",
   "metadata": {},
   "source": [
    "### Logistic Regression"
   ]
  },
  {
   "cell_type": "code",
   "execution_count": 25,
   "id": "fbb35c70",
   "metadata": {},
   "outputs": [],
   "source": [
    "from sklearn.linear_model import LogisticRegression\n",
    "from sklearn.model_selection import train_test_split\n",
    "from sklearn.model_selection import cross_val_score\n",
    "from sklearn import metrics"
   ]
  },
  {
   "cell_type": "code",
   "execution_count": 26,
   "id": "d6909025",
   "metadata": {},
   "outputs": [],
   "source": [
    "X=df_X\n",
    "y=df_texts['infox']"
   ]
  },
  {
   "cell_type": "code",
   "execution_count": 27,
   "id": "7b267287",
   "metadata": {},
   "outputs": [
    {
     "name": "stdout",
     "output_type": "stream",
     "text": [
      "Mean CV Score : 77.58%\n",
      "[0.78021978 0.8021978  0.72527473 0.82417582 0.74725275]\n"
     ]
    }
   ],
   "source": [
    "max_iter=500\n",
    "#C=0.40\n",
    "C=150\n",
    "solver = 'lbfgs'\n",
    "random_state = 42\n",
    "classifier = LogisticRegression(C=C, random_state=random_state, solver=solver, max_iter=max_iter)\n",
    "cvm = cross_val_score(classifier, X, y, cv=5).mean()\n",
    "print(f'Mean CV Score : {cvm*100:.2f}%')\n",
    "print(cross_val_score(classifier, X, y, cv=5))"
   ]
  },
  {
   "cell_type": "markdown",
   "id": "20198f03",
   "metadata": {},
   "source": [
    "### Pipeline"
   ]
  },
  {
   "cell_type": "code",
   "execution_count": 28,
   "id": "a798bb43",
   "metadata": {},
   "outputs": [],
   "source": [
    "X = df_texts['text']"
   ]
  },
  {
   "cell_type": "markdown",
   "id": "7c221444",
   "metadata": {},
   "source": [
    "#### Vérification pipeline"
   ]
  },
  {
   "cell_type": "code",
   "execution_count": 29,
   "id": "7f07bb48",
   "metadata": {},
   "outputs": [
    {
     "name": "stdout",
     "output_type": "stream",
     "text": [
      "Classifier :\tLogisticRegression(C=150, max_iter=500, random_state=42)\n",
      "Accuracy :\t79.12\n",
      "Recall :\t82.22\n"
     ]
    }
   ],
   "source": [
    "from sklearn.pipeline import Pipeline\n",
    "\n",
    "max_iter=500\n",
    "#C=0.40\n",
    "C=150\n",
    "solver = 'lbfgs'\n",
    "random_state = 42\n",
    "classifier = LogisticRegression(C=C, random_state=random_state, solver=solver, max_iter=max_iter)\n",
    "\n",
    "# Bundle preprocessing and modeling code in a pipeline\n",
    "pipe = Pipeline(steps=[('vectorizer', vectorizer),\n",
    "                              ('classifier', classifier)\n",
    "                             ])\n",
    "\n",
    "X_train,X_test,y_train,y_test = train_test_split(X,y,random_state=1,train_size=0.8)\n",
    "\n",
    "# Preprocessing of training data, fit model \n",
    "pipe.fit(X_train, y_train)\n",
    "\n",
    "# Preprocessing of validation data, get predictions\n",
    "y_pred = pipe.predict(X_test)\n",
    "\n",
    "print(f'Classifier :\\t{classifier}')\n",
    "print(f'Accuracy :\\t{metrics.accuracy_score(y_test, y_pred)*100:.2f}')\n",
    "print(f'Recall :\\t{metrics.recall_score(y_test, y_pred)*100:.2f}')"
   ]
  },
  {
   "cell_type": "markdown",
   "id": "6a2709fb",
   "metadata": {},
   "source": [
    "#### Entrainement sur tout le dataset"
   ]
  },
  {
   "cell_type": "code",
   "execution_count": 30,
   "id": "f2e5bf11",
   "metadata": {},
   "outputs": [
    {
     "name": "stdout",
     "output_type": "stream",
     "text": [
      "Pipeline(steps=[('vectorizer',\n",
      "                 TfidfVectorizer(preprocessor=<function get_latin at 0x127e2e0d0>,\n",
      "                                 stop_words=['de', 'la', 'le', 'les', 'et',\n",
      "                                             'des', 'en', 'un', 'du', 'est',\n",
      "                                             'une', 'que', 'être', 'avoir',\n",
      "                                             'pour', 'dans', 'qui', 'il', 'par',\n",
      "                                             'sur', 'au', 'pas', 'ce', 'plaire',\n",
      "                                             'faire', 'ne', 'qu', 'pouvoir',\n",
      "                                             'se', 'avec', ...],\n",
      "                                 tokenizer=<bound method LexAnalyser.get_lemmas_from_text of <patat.ml.lex_analyser.LexAnalyser object at 0x16e570cd0>>)),\n",
      "                ('classifier',\n",
      "                 LogisticRegression(C=150, max_iter=500, random_state=42))])\n"
     ]
    }
   ],
   "source": [
    "pipe.fit(X, y)\n",
    "print(pipe)"
   ]
  },
  {
   "cell_type": "markdown",
   "id": "cb498bc8",
   "metadata": {},
   "source": [
    "#### Prediction sur le corpus entier"
   ]
  },
  {
   "cell_type": "code",
   "execution_count": null,
   "id": "e0b04183",
   "metadata": {},
   "outputs": [],
   "source": [
    "%%time\n",
    "infox_pred = pipe.predict_proba(df_corpus['text'])"
   ]
  },
  {
   "cell_type": "code",
   "execution_count": null,
   "id": "bf1198ee",
   "metadata": {},
   "outputs": [],
   "source": [
    "df_corpus['infox_pred']=infox_pred.T[1]"
   ]
  },
  {
   "cell_type": "code",
   "execution_count": null,
   "id": "49f6212b",
   "metadata": {},
   "outputs": [],
   "source": [
    "sns.displot(df_corpus,x='infox_pred',bins=2)\n",
    "sns.displot(df_corpus,x='infox_pred',bins=50)"
   ]
  },
  {
   "cell_type": "markdown",
   "id": "76996d3a",
   "metadata": {},
   "source": [
    "# Sauvegarde des résultats\n",
    "---"
   ]
  },
  {
   "cell_type": "code",
   "execution_count": 31,
   "id": "1eb3a63c",
   "metadata": {},
   "outputs": [],
   "source": [
    "import patat.util.file"
   ]
  },
  {
   "cell_type": "code",
   "execution_count": 32,
   "id": "a683a990",
   "metadata": {},
   "outputs": [],
   "source": [
    "patat.util.file.pickle_save(pipe,'data/predictors/221028-InfoxPipe.pp')"
   ]
  },
  {
   "cell_type": "code",
   "execution_count": null,
   "id": "c0c8922d",
   "metadata": {},
   "outputs": [],
   "source": [
    "df_new_label=df_corpus[['url','infox_pred']]"
   ]
  },
  {
   "cell_type": "code",
   "execution_count": null,
   "id": "e83ba574",
   "metadata": {},
   "outputs": [],
   "source": [
    "df_new_label['label']='infox'"
   ]
  },
  {
   "cell_type": "code",
   "execution_count": null,
   "id": "5111c5d2",
   "metadata": {},
   "outputs": [],
   "source": [
    "df_new_label['owner']='221028-InfoxPipe'"
   ]
  },
  {
   "cell_type": "code",
   "execution_count": null,
   "id": "17c517a7",
   "metadata": {},
   "outputs": [],
   "source": [
    "df_new_label['type']='pred'"
   ]
  },
  {
   "cell_type": "code",
   "execution_count": null,
   "id": "fe980b3d",
   "metadata": {},
   "outputs": [],
   "source": [
    "df_new_label.rename(columns={'infox_pred':'value'},inplace=True)"
   ]
  },
  {
   "cell_type": "code",
   "execution_count": null,
   "id": "9988de92",
   "metadata": {},
   "outputs": [],
   "source": [
    "label_db.merge(df_new_label)"
   ]
  },
  {
   "cell_type": "code",
   "execution_count": null,
   "id": "5a48ec2c",
   "metadata": {},
   "outputs": [],
   "source": [
    "label_db.save_prod()"
   ]
  },
  {
   "cell_type": "markdown",
   "id": "fb7949bc",
   "metadata": {},
   "source": [
    "# Conclusions\n",
    "---"
   ]
  },
  {
   "cell_type": "markdown",
   "id": "bd06b261",
   "metadata": {},
   "source": [
    "- Entrainement nouveau prédicteur amélioré\n",
    "- Pipeline dans les regles"
   ]
  },
  {
   "cell_type": "markdown",
   "id": "bd360655",
   "metadata": {},
   "source": [
    "# Bricolages\n",
    "---"
   ]
  },
  {
   "cell_type": "code",
   "execution_count": null,
   "id": "97a4bb41",
   "metadata": {},
   "outputs": [],
   "source": [
    "df=pd.read_csv('data/prod/Article.csv',dtype={'date':str,'tag':object})"
   ]
  },
  {
   "cell_type": "code",
   "execution_count": null,
   "id": "e681ac67",
   "metadata": {},
   "outputs": [],
   "source": [
    "df=df.drop(columns=['date','tag'])"
   ]
  },
  {
   "cell_type": "code",
   "execution_count": null,
   "id": "25149707",
   "metadata": {},
   "outputs": [],
   "source": [
    "df.to_csv('data/prod/Article.csv',index=False)"
   ]
  },
  {
   "cell_type": "code",
   "execution_count": null,
   "id": "3704f204",
   "metadata": {},
   "outputs": [],
   "source": [
    "df"
   ]
  },
  {
   "cell_type": "code",
   "execution_count": null,
   "id": "eb4bd6ba",
   "metadata": {},
   "outputs": [],
   "source": [
    "toklematize('affilier')"
   ]
  },
  {
   "cell_type": "code",
   "execution_count": null,
   "id": "11f19073",
   "metadata": {},
   "outputs": [],
   "source": []
  }
 ],
 "metadata": {
  "kernelspec": {
   "display_name": "Python 3 (ipykernel)",
   "language": "python",
   "name": "python3"
  },
  "language_info": {
   "codemirror_mode": {
    "name": "ipython",
    "version": 3
   },
   "file_extension": ".py",
   "mimetype": "text/x-python",
   "name": "python",
   "nbconvert_exporter": "python",
   "pygments_lexer": "ipython3",
   "version": "3.9.13"
  }
 },
 "nbformat": 4,
 "nbformat_minor": 5
}
