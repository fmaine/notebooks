{
 "cells": [
  {
   "cell_type": "markdown",
   "id": "e3ec4689",
   "metadata": {},
   "source": [
    "# Plateforme Agnostique de Traitement et d'Analyse des Textes\n",
    "### Carnet d'expérimentation\n",
    "---\n",
    "\n",
    "## Sujet : Vocabulary\n",
    "\n",
    "---"
   ]
  },
  {
   "cell_type": "markdown",
   "id": "2601e626",
   "metadata": {},
   "source": [
    "# Observations et environnement\n",
    "---"
   ]
  },
  {
   "cell_type": "code",
   "execution_count": 2,
   "id": "5d0de4d7",
   "metadata": {},
   "outputs": [
    {
     "name": "stdout",
     "output_type": "stream",
     "text": [
      "/Users/fm/Desktop/Work/Patat\n"
     ]
    }
   ],
   "source": [
    "cd ../.."
   ]
  },
  {
   "cell_type": "code",
   "execution_count": 3,
   "id": "32256b0d",
   "metadata": {},
   "outputs": [],
   "source": [
    "import importlib\n",
    "import pandas as pd\n",
    "import seaborn as sns"
   ]
  },
  {
   "cell_type": "markdown",
   "id": "561edf6b",
   "metadata": {},
   "source": [
    "## Articles & Labels"
   ]
  },
  {
   "cell_type": "code",
   "execution_count": 4,
   "id": "e27c282d",
   "metadata": {},
   "outputs": [],
   "source": [
    "import patat.db.article_db"
   ]
  },
  {
   "cell_type": "code",
   "execution_count": 5,
   "id": "ff5c2314",
   "metadata": {},
   "outputs": [
    {
     "name": "stderr",
     "output_type": "stream",
     "text": [
      "/Users/fm/Desktop/Work/Patat/patat/db/article_db.py:37: DtypeWarning: Columns (4,5) have mixed types. Specify dtype option on import or set low_memory=False.\n",
      "  df = pd.read_csv(filename)\n"
     ]
    }
   ],
   "source": [
    "article_db = patat.db.article_db.ArticleDb()"
   ]
  },
  {
   "cell_type": "code",
   "execution_count": 29,
   "id": "e4f320f5",
   "metadata": {},
   "outputs": [],
   "source": [
    "df_corpus = article_db._df.copy()"
   ]
  },
  {
   "cell_type": "code",
   "execution_count": 30,
   "id": "4dcbedf8",
   "metadata": {},
   "outputs": [],
   "source": [
    "df_corpus['text'] = df_corpus['title'] + '\\n' + df_corpus['article']"
   ]
  },
  {
   "cell_type": "markdown",
   "id": "29618668",
   "metadata": {},
   "source": [
    "## Textes"
   ]
  },
  {
   "cell_type": "code",
   "execution_count": 9,
   "id": "149f73f1",
   "metadata": {},
   "outputs": [],
   "source": [
    "df_infox = pd.read_csv('data/tmp/221219-InfoxTexts')"
   ]
  },
  {
   "cell_type": "code",
   "execution_count": 10,
   "id": "43f0c1aa",
   "metadata": {},
   "outputs": [],
   "source": [
    "df_afp = pd.read_csv('data/tmp/221219-AfpTexts')"
   ]
  },
  {
   "cell_type": "markdown",
   "id": "2fdfb2e4",
   "metadata": {},
   "source": [
    "# Experience\n",
    "---"
   ]
  },
  {
   "cell_type": "markdown",
   "id": "cc4d845f",
   "metadata": {},
   "source": [
    "### Preprocessor"
   ]
  },
  {
   "cell_type": "code",
   "execution_count": 11,
   "id": "2e6efc6d",
   "metadata": {},
   "outputs": [],
   "source": [
    "import patat.util.text\n",
    "\n",
    "preprocessor = patat.util.text.preprocess\n"
   ]
  },
  {
   "cell_type": "markdown",
   "id": "685b5cbb",
   "metadata": {},
   "source": [
    "### Tokenizer"
   ]
  },
  {
   "cell_type": "code",
   "execution_count": 12,
   "id": "52367d50",
   "metadata": {},
   "outputs": [],
   "source": [
    "from patat.ml.lex_analyser import LexAnalyser\n",
    "\n",
    "lex = LexAnalyser()\n",
    "\n",
    "tokenizer = lex.get_lemmas_from_text"
   ]
  },
  {
   "cell_type": "markdown",
   "id": "f9f6fb12",
   "metadata": {},
   "source": [
    "### Vocabulary"
   ]
  },
  {
   "cell_type": "code",
   "execution_count": 13,
   "id": "9e142cdf",
   "metadata": {},
   "outputs": [],
   "source": [
    "df_texts = pd.concat([df_infox,df_afp])"
   ]
  },
  {
   "cell_type": "code",
   "execution_count": 20,
   "id": "71d2042f",
   "metadata": {},
   "outputs": [],
   "source": [
    "df_texts = df_texts.reset_index()"
   ]
  },
  {
   "cell_type": "code",
   "execution_count": 21,
   "id": "a12a2e4c",
   "metadata": {},
   "outputs": [],
   "source": [
    "texts = df_texts['text']"
   ]
  },
  {
   "cell_type": "code",
   "execution_count": 22,
   "id": "c56dc68d",
   "metadata": {},
   "outputs": [],
   "source": [
    "values = df_texts['infox'].astype(int)"
   ]
  },
  {
   "cell_type": "code",
   "execution_count": 23,
   "id": "01e2de19",
   "metadata": {},
   "outputs": [
    {
     "name": "stderr",
     "output_type": "stream",
     "text": [
      "/opt/homebrew/Caskroom/miniforge/base/envs/p311/lib/python3.11/site-packages/sklearn/feature_extraction/text.py:528: UserWarning: The parameter 'token_pattern' will not be used since 'tokenizer' is not None'\n",
      "  warnings.warn(\n"
     ]
    }
   ],
   "source": [
    "df_words = lex.get_df_words(texts, values, preprocessor, tokenizer)"
   ]
  },
  {
   "cell_type": "code",
   "execution_count": 24,
   "id": "a58790a6",
   "metadata": {},
   "outputs": [
    {
     "data": {
      "text/html": [
       "<div>\n",
       "<style scoped>\n",
       "    .dataframe tbody tr th:only-of-type {\n",
       "        vertical-align: middle;\n",
       "    }\n",
       "\n",
       "    .dataframe tbody tr th {\n",
       "        vertical-align: top;\n",
       "    }\n",
       "\n",
       "    .dataframe thead th {\n",
       "        text-align: right;\n",
       "    }\n",
       "</style>\n",
       "<table border=\"1\" class=\"dataframe\">\n",
       "  <thead>\n",
       "    <tr style=\"text-align: right;\">\n",
       "      <th></th>\n",
       "      <th>count_0</th>\n",
       "      <th>count_1</th>\n",
       "      <th>count</th>\n",
       "    </tr>\n",
       "  </thead>\n",
       "  <tbody>\n",
       "    <tr>\n",
       "      <th>de</th>\n",
       "      <td>115224</td>\n",
       "      <td>24646</td>\n",
       "      <td>139870</td>\n",
       "    </tr>\n",
       "    <tr>\n",
       "      <th>la</th>\n",
       "      <td>63847</td>\n",
       "      <td>13219</td>\n",
       "      <td>77066</td>\n",
       "    </tr>\n",
       "    <tr>\n",
       "      <th>le</th>\n",
       "      <td>49789</td>\n",
       "      <td>10182</td>\n",
       "      <td>59971</td>\n",
       "    </tr>\n",
       "    <tr>\n",
       "      <th>et</th>\n",
       "      <td>39056</td>\n",
       "      <td>10379</td>\n",
       "      <td>49435</td>\n",
       "    </tr>\n",
       "    <tr>\n",
       "      <th>les</th>\n",
       "      <td>38357</td>\n",
       "      <td>10599</td>\n",
       "      <td>48956</td>\n",
       "    </tr>\n",
       "    <tr>\n",
       "      <th>...</th>\n",
       "      <td>...</td>\n",
       "      <td>...</td>\n",
       "      <td>...</td>\n",
       "    </tr>\n",
       "    <tr>\n",
       "      <th>pharmacol</th>\n",
       "      <td>0</td>\n",
       "      <td>3</td>\n",
       "      <td>3</td>\n",
       "    </tr>\n",
       "    <tr>\n",
       "      <th>pharmacologique</th>\n",
       "      <td>0</td>\n",
       "      <td>6</td>\n",
       "      <td>6</td>\n",
       "    </tr>\n",
       "    <tr>\n",
       "      <th>pharmacologistes</th>\n",
       "      <td>0</td>\n",
       "      <td>1</td>\n",
       "      <td>1</td>\n",
       "    </tr>\n",
       "    <tr>\n",
       "      <th>pharmacologue</th>\n",
       "      <td>0</td>\n",
       "      <td>1</td>\n",
       "      <td>1</td>\n",
       "    </tr>\n",
       "    <tr>\n",
       "      <th>þórólfur</th>\n",
       "      <td>0</td>\n",
       "      <td>1</td>\n",
       "      <td>1</td>\n",
       "    </tr>\n",
       "  </tbody>\n",
       "</table>\n",
       "<p>54545 rows × 3 columns</p>\n",
       "</div>"
      ],
      "text/plain": [
       "                  count_0  count_1   count\n",
       "de                 115224    24646  139870\n",
       "la                  63847    13219   77066\n",
       "le                  49789    10182   59971\n",
       "et                  39056    10379   49435\n",
       "les                 38357    10599   48956\n",
       "...                   ...      ...     ...\n",
       "pharmacol               0        3       3\n",
       "pharmacologique         0        6       6\n",
       "pharmacologistes        0        1       1\n",
       "pharmacologue           0        1       1\n",
       "þórólfur                0        1       1\n",
       "\n",
       "[54545 rows x 3 columns]"
      ]
     },
     "execution_count": 24,
     "metadata": {},
     "output_type": "execute_result"
    }
   ],
   "source": [
    "df_words"
   ]
  },
  {
   "cell_type": "markdown",
   "id": "8c51e789",
   "metadata": {},
   "source": [
    "### Rare Words"
   ]
  },
  {
   "cell_type": "code",
   "execution_count": 25,
   "id": "ade4977e",
   "metadata": {},
   "outputs": [],
   "source": [
    "for occ_rare in [1,2,3,4,5,6,7]:\n",
    "    df_words['rare_'+str(occ_rare)]=(df_words['count_0']<=occ_rare)&(df_words['count_1']<=occ_rare)"
   ]
  },
  {
   "cell_type": "code",
   "execution_count": 26,
   "id": "51b5f8bf",
   "metadata": {},
   "outputs": [
    {
     "data": {
      "text/html": [
       "<div>\n",
       "<style scoped>\n",
       "    .dataframe tbody tr th:only-of-type {\n",
       "        vertical-align: middle;\n",
       "    }\n",
       "\n",
       "    .dataframe tbody tr th {\n",
       "        vertical-align: top;\n",
       "    }\n",
       "\n",
       "    .dataframe thead th {\n",
       "        text-align: right;\n",
       "    }\n",
       "</style>\n",
       "<table border=\"1\" class=\"dataframe\">\n",
       "  <thead>\n",
       "    <tr style=\"text-align: right;\">\n",
       "      <th></th>\n",
       "      <th>count_0</th>\n",
       "      <th>count_1</th>\n",
       "      <th>count</th>\n",
       "      <th>rare_1</th>\n",
       "      <th>rare_2</th>\n",
       "      <th>rare_3</th>\n",
       "      <th>rare_4</th>\n",
       "      <th>rare_5</th>\n",
       "      <th>rare_6</th>\n",
       "      <th>rare_7</th>\n",
       "    </tr>\n",
       "  </thead>\n",
       "  <tbody>\n",
       "    <tr>\n",
       "      <th>de</th>\n",
       "      <td>115224</td>\n",
       "      <td>24646</td>\n",
       "      <td>139870</td>\n",
       "      <td>False</td>\n",
       "      <td>False</td>\n",
       "      <td>False</td>\n",
       "      <td>False</td>\n",
       "      <td>False</td>\n",
       "      <td>False</td>\n",
       "      <td>False</td>\n",
       "    </tr>\n",
       "    <tr>\n",
       "      <th>la</th>\n",
       "      <td>63847</td>\n",
       "      <td>13219</td>\n",
       "      <td>77066</td>\n",
       "      <td>False</td>\n",
       "      <td>False</td>\n",
       "      <td>False</td>\n",
       "      <td>False</td>\n",
       "      <td>False</td>\n",
       "      <td>False</td>\n",
       "      <td>False</td>\n",
       "    </tr>\n",
       "    <tr>\n",
       "      <th>le</th>\n",
       "      <td>49789</td>\n",
       "      <td>10182</td>\n",
       "      <td>59971</td>\n",
       "      <td>False</td>\n",
       "      <td>False</td>\n",
       "      <td>False</td>\n",
       "      <td>False</td>\n",
       "      <td>False</td>\n",
       "      <td>False</td>\n",
       "      <td>False</td>\n",
       "    </tr>\n",
       "    <tr>\n",
       "      <th>et</th>\n",
       "      <td>39056</td>\n",
       "      <td>10379</td>\n",
       "      <td>49435</td>\n",
       "      <td>False</td>\n",
       "      <td>False</td>\n",
       "      <td>False</td>\n",
       "      <td>False</td>\n",
       "      <td>False</td>\n",
       "      <td>False</td>\n",
       "      <td>False</td>\n",
       "    </tr>\n",
       "    <tr>\n",
       "      <th>les</th>\n",
       "      <td>38357</td>\n",
       "      <td>10599</td>\n",
       "      <td>48956</td>\n",
       "      <td>False</td>\n",
       "      <td>False</td>\n",
       "      <td>False</td>\n",
       "      <td>False</td>\n",
       "      <td>False</td>\n",
       "      <td>False</td>\n",
       "      <td>False</td>\n",
       "    </tr>\n",
       "    <tr>\n",
       "      <th>...</th>\n",
       "      <td>...</td>\n",
       "      <td>...</td>\n",
       "      <td>...</td>\n",
       "      <td>...</td>\n",
       "      <td>...</td>\n",
       "      <td>...</td>\n",
       "      <td>...</td>\n",
       "      <td>...</td>\n",
       "      <td>...</td>\n",
       "      <td>...</td>\n",
       "    </tr>\n",
       "    <tr>\n",
       "      <th>pharmacol</th>\n",
       "      <td>0</td>\n",
       "      <td>3</td>\n",
       "      <td>3</td>\n",
       "      <td>False</td>\n",
       "      <td>False</td>\n",
       "      <td>True</td>\n",
       "      <td>True</td>\n",
       "      <td>True</td>\n",
       "      <td>True</td>\n",
       "      <td>True</td>\n",
       "    </tr>\n",
       "    <tr>\n",
       "      <th>pharmacologique</th>\n",
       "      <td>0</td>\n",
       "      <td>6</td>\n",
       "      <td>6</td>\n",
       "      <td>False</td>\n",
       "      <td>False</td>\n",
       "      <td>False</td>\n",
       "      <td>False</td>\n",
       "      <td>False</td>\n",
       "      <td>True</td>\n",
       "      <td>True</td>\n",
       "    </tr>\n",
       "    <tr>\n",
       "      <th>pharmacologistes</th>\n",
       "      <td>0</td>\n",
       "      <td>1</td>\n",
       "      <td>1</td>\n",
       "      <td>True</td>\n",
       "      <td>True</td>\n",
       "      <td>True</td>\n",
       "      <td>True</td>\n",
       "      <td>True</td>\n",
       "      <td>True</td>\n",
       "      <td>True</td>\n",
       "    </tr>\n",
       "    <tr>\n",
       "      <th>pharmacologue</th>\n",
       "      <td>0</td>\n",
       "      <td>1</td>\n",
       "      <td>1</td>\n",
       "      <td>True</td>\n",
       "      <td>True</td>\n",
       "      <td>True</td>\n",
       "      <td>True</td>\n",
       "      <td>True</td>\n",
       "      <td>True</td>\n",
       "      <td>True</td>\n",
       "    </tr>\n",
       "    <tr>\n",
       "      <th>þórólfur</th>\n",
       "      <td>0</td>\n",
       "      <td>1</td>\n",
       "      <td>1</td>\n",
       "      <td>True</td>\n",
       "      <td>True</td>\n",
       "      <td>True</td>\n",
       "      <td>True</td>\n",
       "      <td>True</td>\n",
       "      <td>True</td>\n",
       "      <td>True</td>\n",
       "    </tr>\n",
       "  </tbody>\n",
       "</table>\n",
       "<p>54545 rows × 10 columns</p>\n",
       "</div>"
      ],
      "text/plain": [
       "                  count_0  count_1   count  rare_1  rare_2  rare_3  rare_4  \\\n",
       "de                 115224    24646  139870   False   False   False   False   \n",
       "la                  63847    13219   77066   False   False   False   False   \n",
       "le                  49789    10182   59971   False   False   False   False   \n",
       "et                  39056    10379   49435   False   False   False   False   \n",
       "les                 38357    10599   48956   False   False   False   False   \n",
       "...                   ...      ...     ...     ...     ...     ...     ...   \n",
       "pharmacol               0        3       3   False   False    True    True   \n",
       "pharmacologique         0        6       6   False   False   False   False   \n",
       "pharmacologistes        0        1       1    True    True    True    True   \n",
       "pharmacologue           0        1       1    True    True    True    True   \n",
       "þórólfur                0        1       1    True    True    True    True   \n",
       "\n",
       "                  rare_5  rare_6  rare_7  \n",
       "de                 False   False   False  \n",
       "la                 False   False   False  \n",
       "le                 False   False   False  \n",
       "et                 False   False   False  \n",
       "les                False   False   False  \n",
       "...                  ...     ...     ...  \n",
       "pharmacol           True    True    True  \n",
       "pharmacologique    False    True    True  \n",
       "pharmacologistes    True    True    True  \n",
       "pharmacologue       True    True    True  \n",
       "þórólfur            True    True    True  \n",
       "\n",
       "[54545 rows x 10 columns]"
      ]
     },
     "execution_count": 26,
     "metadata": {},
     "output_type": "execute_result"
    }
   ],
   "source": [
    "df_words"
   ]
  },
  {
   "cell_type": "markdown",
   "id": "129efc0d",
   "metadata": {},
   "source": [
    "### Common words"
   ]
  },
  {
   "cell_type": "code",
   "execution_count": 27,
   "id": "9c440ffb",
   "metadata": {},
   "outputs": [],
   "source": [
    "for common_size in [50,80,120,200,500]:\n",
    "    common_0 = df_words.sort_values('count_0',ascending=False).head(common_size).index\n",
    "    common_1 = df_words.sort_values('count_1',ascending=False).head(common_size).index\n",
    "    df_words['common_'+str(common_size)]=(df_words.index.isin(common_0))&(df_words.index.isin(common_1))"
   ]
  },
  {
   "cell_type": "code",
   "execution_count": 28,
   "id": "048ffc88",
   "metadata": {},
   "outputs": [
    {
     "data": {
      "text/html": [
       "<div>\n",
       "<style scoped>\n",
       "    .dataframe tbody tr th:only-of-type {\n",
       "        vertical-align: middle;\n",
       "    }\n",
       "\n",
       "    .dataframe tbody tr th {\n",
       "        vertical-align: top;\n",
       "    }\n",
       "\n",
       "    .dataframe thead th {\n",
       "        text-align: right;\n",
       "    }\n",
       "</style>\n",
       "<table border=\"1\" class=\"dataframe\">\n",
       "  <thead>\n",
       "    <tr style=\"text-align: right;\">\n",
       "      <th></th>\n",
       "      <th>count_0</th>\n",
       "      <th>count_1</th>\n",
       "      <th>count</th>\n",
       "      <th>rare_1</th>\n",
       "      <th>rare_2</th>\n",
       "      <th>rare_3</th>\n",
       "      <th>rare_4</th>\n",
       "      <th>rare_5</th>\n",
       "      <th>rare_6</th>\n",
       "      <th>rare_7</th>\n",
       "      <th>common_50</th>\n",
       "      <th>common_80</th>\n",
       "      <th>common_120</th>\n",
       "      <th>common_200</th>\n",
       "      <th>common_500</th>\n",
       "    </tr>\n",
       "  </thead>\n",
       "  <tbody>\n",
       "    <tr>\n",
       "      <th>de</th>\n",
       "      <td>115224</td>\n",
       "      <td>24646</td>\n",
       "      <td>139870</td>\n",
       "      <td>False</td>\n",
       "      <td>False</td>\n",
       "      <td>False</td>\n",
       "      <td>False</td>\n",
       "      <td>False</td>\n",
       "      <td>False</td>\n",
       "      <td>False</td>\n",
       "      <td>True</td>\n",
       "      <td>True</td>\n",
       "      <td>True</td>\n",
       "      <td>True</td>\n",
       "      <td>True</td>\n",
       "    </tr>\n",
       "    <tr>\n",
       "      <th>la</th>\n",
       "      <td>63847</td>\n",
       "      <td>13219</td>\n",
       "      <td>77066</td>\n",
       "      <td>False</td>\n",
       "      <td>False</td>\n",
       "      <td>False</td>\n",
       "      <td>False</td>\n",
       "      <td>False</td>\n",
       "      <td>False</td>\n",
       "      <td>False</td>\n",
       "      <td>True</td>\n",
       "      <td>True</td>\n",
       "      <td>True</td>\n",
       "      <td>True</td>\n",
       "      <td>True</td>\n",
       "    </tr>\n",
       "    <tr>\n",
       "      <th>le</th>\n",
       "      <td>49789</td>\n",
       "      <td>10182</td>\n",
       "      <td>59971</td>\n",
       "      <td>False</td>\n",
       "      <td>False</td>\n",
       "      <td>False</td>\n",
       "      <td>False</td>\n",
       "      <td>False</td>\n",
       "      <td>False</td>\n",
       "      <td>False</td>\n",
       "      <td>True</td>\n",
       "      <td>True</td>\n",
       "      <td>True</td>\n",
       "      <td>True</td>\n",
       "      <td>True</td>\n",
       "    </tr>\n",
       "    <tr>\n",
       "      <th>et</th>\n",
       "      <td>39056</td>\n",
       "      <td>10379</td>\n",
       "      <td>49435</td>\n",
       "      <td>False</td>\n",
       "      <td>False</td>\n",
       "      <td>False</td>\n",
       "      <td>False</td>\n",
       "      <td>False</td>\n",
       "      <td>False</td>\n",
       "      <td>False</td>\n",
       "      <td>True</td>\n",
       "      <td>True</td>\n",
       "      <td>True</td>\n",
       "      <td>True</td>\n",
       "      <td>True</td>\n",
       "    </tr>\n",
       "    <tr>\n",
       "      <th>les</th>\n",
       "      <td>38357</td>\n",
       "      <td>10599</td>\n",
       "      <td>48956</td>\n",
       "      <td>False</td>\n",
       "      <td>False</td>\n",
       "      <td>False</td>\n",
       "      <td>False</td>\n",
       "      <td>False</td>\n",
       "      <td>False</td>\n",
       "      <td>False</td>\n",
       "      <td>True</td>\n",
       "      <td>True</td>\n",
       "      <td>True</td>\n",
       "      <td>True</td>\n",
       "      <td>True</td>\n",
       "    </tr>\n",
       "    <tr>\n",
       "      <th>...</th>\n",
       "      <td>...</td>\n",
       "      <td>...</td>\n",
       "      <td>...</td>\n",
       "      <td>...</td>\n",
       "      <td>...</td>\n",
       "      <td>...</td>\n",
       "      <td>...</td>\n",
       "      <td>...</td>\n",
       "      <td>...</td>\n",
       "      <td>...</td>\n",
       "      <td>...</td>\n",
       "      <td>...</td>\n",
       "      <td>...</td>\n",
       "      <td>...</td>\n",
       "      <td>...</td>\n",
       "    </tr>\n",
       "    <tr>\n",
       "      <th>pharmacol</th>\n",
       "      <td>0</td>\n",
       "      <td>3</td>\n",
       "      <td>3</td>\n",
       "      <td>False</td>\n",
       "      <td>False</td>\n",
       "      <td>True</td>\n",
       "      <td>True</td>\n",
       "      <td>True</td>\n",
       "      <td>True</td>\n",
       "      <td>True</td>\n",
       "      <td>False</td>\n",
       "      <td>False</td>\n",
       "      <td>False</td>\n",
       "      <td>False</td>\n",
       "      <td>False</td>\n",
       "    </tr>\n",
       "    <tr>\n",
       "      <th>pharmacologique</th>\n",
       "      <td>0</td>\n",
       "      <td>6</td>\n",
       "      <td>6</td>\n",
       "      <td>False</td>\n",
       "      <td>False</td>\n",
       "      <td>False</td>\n",
       "      <td>False</td>\n",
       "      <td>False</td>\n",
       "      <td>True</td>\n",
       "      <td>True</td>\n",
       "      <td>False</td>\n",
       "      <td>False</td>\n",
       "      <td>False</td>\n",
       "      <td>False</td>\n",
       "      <td>False</td>\n",
       "    </tr>\n",
       "    <tr>\n",
       "      <th>pharmacologistes</th>\n",
       "      <td>0</td>\n",
       "      <td>1</td>\n",
       "      <td>1</td>\n",
       "      <td>True</td>\n",
       "      <td>True</td>\n",
       "      <td>True</td>\n",
       "      <td>True</td>\n",
       "      <td>True</td>\n",
       "      <td>True</td>\n",
       "      <td>True</td>\n",
       "      <td>False</td>\n",
       "      <td>False</td>\n",
       "      <td>False</td>\n",
       "      <td>False</td>\n",
       "      <td>False</td>\n",
       "    </tr>\n",
       "    <tr>\n",
       "      <th>pharmacologue</th>\n",
       "      <td>0</td>\n",
       "      <td>1</td>\n",
       "      <td>1</td>\n",
       "      <td>True</td>\n",
       "      <td>True</td>\n",
       "      <td>True</td>\n",
       "      <td>True</td>\n",
       "      <td>True</td>\n",
       "      <td>True</td>\n",
       "      <td>True</td>\n",
       "      <td>False</td>\n",
       "      <td>False</td>\n",
       "      <td>False</td>\n",
       "      <td>False</td>\n",
       "      <td>False</td>\n",
       "    </tr>\n",
       "    <tr>\n",
       "      <th>þórólfur</th>\n",
       "      <td>0</td>\n",
       "      <td>1</td>\n",
       "      <td>1</td>\n",
       "      <td>True</td>\n",
       "      <td>True</td>\n",
       "      <td>True</td>\n",
       "      <td>True</td>\n",
       "      <td>True</td>\n",
       "      <td>True</td>\n",
       "      <td>True</td>\n",
       "      <td>False</td>\n",
       "      <td>False</td>\n",
       "      <td>False</td>\n",
       "      <td>False</td>\n",
       "      <td>False</td>\n",
       "    </tr>\n",
       "  </tbody>\n",
       "</table>\n",
       "<p>54545 rows × 15 columns</p>\n",
       "</div>"
      ],
      "text/plain": [
       "                  count_0  count_1   count  rare_1  rare_2  rare_3  rare_4  \\\n",
       "de                 115224    24646  139870   False   False   False   False   \n",
       "la                  63847    13219   77066   False   False   False   False   \n",
       "le                  49789    10182   59971   False   False   False   False   \n",
       "et                  39056    10379   49435   False   False   False   False   \n",
       "les                 38357    10599   48956   False   False   False   False   \n",
       "...                   ...      ...     ...     ...     ...     ...     ...   \n",
       "pharmacol               0        3       3   False   False    True    True   \n",
       "pharmacologique         0        6       6   False   False   False   False   \n",
       "pharmacologistes        0        1       1    True    True    True    True   \n",
       "pharmacologue           0        1       1    True    True    True    True   \n",
       "þórólfur                0        1       1    True    True    True    True   \n",
       "\n",
       "                  rare_5  rare_6  rare_7  common_50  common_80  common_120  \\\n",
       "de                 False   False   False       True       True        True   \n",
       "la                 False   False   False       True       True        True   \n",
       "le                 False   False   False       True       True        True   \n",
       "et                 False   False   False       True       True        True   \n",
       "les                False   False   False       True       True        True   \n",
       "...                  ...     ...     ...        ...        ...         ...   \n",
       "pharmacol           True    True    True      False      False       False   \n",
       "pharmacologique    False    True    True      False      False       False   \n",
       "pharmacologistes    True    True    True      False      False       False   \n",
       "pharmacologue       True    True    True      False      False       False   \n",
       "þórólfur            True    True    True      False      False       False   \n",
       "\n",
       "                  common_200  common_500  \n",
       "de                      True        True  \n",
       "la                      True        True  \n",
       "le                      True        True  \n",
       "et                      True        True  \n",
       "les                     True        True  \n",
       "...                      ...         ...  \n",
       "pharmacol              False       False  \n",
       "pharmacologique        False       False  \n",
       "pharmacologistes       False       False  \n",
       "pharmacologue          False       False  \n",
       "þórólfur               False       False  \n",
       "\n",
       "[54545 rows x 15 columns]"
      ]
     },
     "execution_count": 28,
     "metadata": {},
     "output_type": "execute_result"
    }
   ],
   "source": [
    "df_words"
   ]
  },
  {
   "cell_type": "markdown",
   "id": "de89a078",
   "metadata": {},
   "source": [
    "### Vocab & Ignore words"
   ]
  },
  {
   "cell_type": "code",
   "execution_count": 31,
   "id": "9a1c1a47",
   "metadata": {},
   "outputs": [],
   "source": [
    "ignore_words_small = list(df_words[df_words['rare_1']].index) + list(df_words[df_words['common_80']].index)"
   ]
  },
  {
   "cell_type": "code",
   "execution_count": 32,
   "id": "25063876",
   "metadata": {},
   "outputs": [],
   "source": [
    "ignore_words_medium = list(df_words[df_words['rare_2']].index) + list(df_words[df_words['common_80']].index)"
   ]
  },
  {
   "cell_type": "code",
   "execution_count": 33,
   "id": "4d1cdf95",
   "metadata": {},
   "outputs": [],
   "source": [
    "ignore_words_large = list(df_words[df_words['rare_5']].index) + list(df_words[df_words['common_200']].index)"
   ]
  },
  {
   "cell_type": "code",
   "execution_count": null,
   "id": "fce12ced",
   "metadata": {},
   "outputs": [],
   "source": []
  },
  {
   "cell_type": "markdown",
   "id": "fee97342",
   "metadata": {},
   "source": [
    "## Topoi"
   ]
  },
  {
   "cell_type": "code",
   "execution_count": 38,
   "id": "9463a1fd",
   "metadata": {},
   "outputs": [],
   "source": [
    "topos = 'officine'"
   ]
  },
  {
   "cell_type": "code",
   "execution_count": 39,
   "id": "74b6fc3c",
   "metadata": {},
   "outputs": [
    {
     "data": {
      "text/html": [
       "<div>\n",
       "<style scoped>\n",
       "    .dataframe tbody tr th:only-of-type {\n",
       "        vertical-align: middle;\n",
       "    }\n",
       "\n",
       "    .dataframe tbody tr th {\n",
       "        vertical-align: top;\n",
       "    }\n",
       "\n",
       "    .dataframe thead th {\n",
       "        text-align: right;\n",
       "    }\n",
       "</style>\n",
       "<table border=\"1\" class=\"dataframe\">\n",
       "  <thead>\n",
       "    <tr style=\"text-align: right;\">\n",
       "      <th></th>\n",
       "      <th>url</th>\n",
       "      <th>title</th>\n",
       "      <th>article</th>\n",
       "      <th>author</th>\n",
       "      <th>tag</th>\n",
       "      <th>abstract</th>\n",
       "      <th>site</th>\n",
       "      <th>date_iso</th>\n",
       "      <th>url_h</th>\n",
       "      <th>c_count</th>\n",
       "      <th>text</th>\n",
       "    </tr>\n",
       "  </thead>\n",
       "  <tbody>\n",
       "    <tr>\n",
       "      <th>13</th>\n",
       "      <td>https://www.francesoir.fr/societe/onde-de-choc...</td>\n",
       "      <td>Onde de choc au sein des réseaux du fact-check...</td>\n",
       "      <td>ENQUÊTE - Depuis plusieurs mois, FranceSoir en...</td>\n",
       "      <td>Auteur(s)\\nFranceSoir</td>\n",
       "      <td>[]</td>\n",
       "      <td>NaN</td>\n",
       "      <td>www.francesoir.fr</td>\n",
       "      <td>2022-11-28T06:30:00</td>\n",
       "      <td>64992bb518b0bbec3b45df023a0341b114132f83</td>\n",
       "      <td>NaN</td>\n",
       "      <td>Onde de choc au sein des réseaux du fact-check...</td>\n",
       "    </tr>\n",
       "    <tr>\n",
       "      <th>108</th>\n",
       "      <td>https://ripostelaique.com/de-linjection-pro-sp...</td>\n",
       "      <td>De l’injection pro-spike à l’injonction anti-P...</td>\n",
       "      <td>Les preuves s’amoncellent sur l’inutilité d’un...</td>\n",
       "      <td>Lucien Samir Oulahbib</td>\n",
       "      <td>['NOUVEL ORDRE MONDIAL, RIPOSTE LAIQUE']</td>\n",
       "      <td>NaN</td>\n",
       "      <td>ripostelaique.com</td>\n",
       "      <td>2022-10-10T00:00:00</td>\n",
       "      <td>3d4368915518ad433bfe06112f9518cc04af380e</td>\n",
       "      <td>4082.0</td>\n",
       "      <td>De l’injection pro-spike à l’injonction anti-P...</td>\n",
       "    </tr>\n",
       "    <tr>\n",
       "      <th>110</th>\n",
       "      <td>https://ripostelaique.com/lea-salame-na-t-elle...</td>\n",
       "      <td>Léa Salamé n’a-t-elle pas honte d’oser se prét...</td>\n",
       "      <td>Fourberie contre loyauté, mensonge contre sinc...</td>\n",
       "      <td>Josiane Filio</td>\n",
       "      <td>['MEDIAS']</td>\n",
       "      <td>NaN</td>\n",
       "      <td>ripostelaique.com</td>\n",
       "      <td>2022-10-27T00:00:00</td>\n",
       "      <td>5ab97f4d644694a2f22d1d53888de4468cc5c096</td>\n",
       "      <td>6981.0</td>\n",
       "      <td>Léa Salamé n’a-t-elle pas honte d’oser se prét...</td>\n",
       "    </tr>\n",
       "    <tr>\n",
       "      <th>146</th>\n",
       "      <td>https://ripostelaique.com/lamia-el-aaraje-port...</td>\n",
       "      <td>Lamia El Aaraje, porte-parole du PS, insulte c...</td>\n",
       "      <td>Lamia El Aaraje, porte-parole du PS, ce qui en...</td>\n",
       "      <td>Sophie Durand</td>\n",
       "      <td>['MEDIAS']</td>\n",
       "      <td>NaN</td>\n",
       "      <td>ripostelaique.com</td>\n",
       "      <td>2022-09-29T00:00:00</td>\n",
       "      <td>d143a21cb0540a72c73fa5d9180131575a437e8b</td>\n",
       "      <td>6229.0</td>\n",
       "      <td>Lamia El Aaraje, porte-parole du PS, insulte c...</td>\n",
       "    </tr>\n",
       "    <tr>\n",
       "      <th>193</th>\n",
       "      <td>https://ripostelaique.com/reactions-au-discour...</td>\n",
       "      <td>Réactions au discours de Poutine : misère de l...</td>\n",
       "      <td>Au-delà des vicissitudes concernant ce qui se ...</td>\n",
       "      <td>Lucien Samir Oulahbib</td>\n",
       "      <td>['MEDIAS']</td>\n",
       "      <td>NaN</td>\n",
       "      <td>ripostelaique.com</td>\n",
       "      <td>2022-10-02T00:00:00</td>\n",
       "      <td>8b70798cd259307e6b326495f15b37c1549b5a37</td>\n",
       "      <td>7585.0</td>\n",
       "      <td>Réactions au discours de Poutine : misère de l...</td>\n",
       "    </tr>\n",
       "    <tr>\n",
       "      <th>...</th>\n",
       "      <td>...</td>\n",
       "      <td>...</td>\n",
       "      <td>...</td>\n",
       "      <td>...</td>\n",
       "      <td>...</td>\n",
       "      <td>...</td>\n",
       "      <td>...</td>\n",
       "      <td>...</td>\n",
       "      <td>...</td>\n",
       "      <td>...</td>\n",
       "      <td>...</td>\n",
       "    </tr>\n",
       "    <tr>\n",
       "      <th>84982</th>\n",
       "      <td>https://www.lelibrepenseur.org/covidisme-le-mo...</td>\n",
       "      <td>Covidisme : le Molnupiravir a été écarté par l...</td>\n",
       "      <td>Encore une connerie réalisée par Véran dans l’...</td>\n",
       "      <td>Par\\nAdmin</td>\n",
       "      <td>NaN</td>\n",
       "      <td>NaN</td>\n",
       "      <td>www.lelibrepenseur.org</td>\n",
       "      <td>2021-12-10T00:00:00</td>\n",
       "      <td>ec303bc7678b96e543041f2b92c21a9985f01001</td>\n",
       "      <td>2380.0</td>\n",
       "      <td>Covidisme : le Molnupiravir a été écarté par l...</td>\n",
       "    </tr>\n",
       "    <tr>\n",
       "      <th>85248</th>\n",
       "      <td>https://www.lelibrepenseur.org/business-covid-...</td>\n",
       "      <td>Business Covid : une manne de 1,6 milliard pou...</td>\n",
       "      <td>C’est certainement une des raisons qui expliqu...</td>\n",
       "      <td>Par\\nAguellid</td>\n",
       "      <td>NaN</td>\n",
       "      <td>NaN</td>\n",
       "      <td>www.lelibrepenseur.org</td>\n",
       "      <td>2021-10-16T00:00:00</td>\n",
       "      <td>4793840d1807a1dd0a31dbab2af66eb0013e9344</td>\n",
       "      <td>1459.0</td>\n",
       "      <td>Business Covid : une manne de 1,6 milliard pou...</td>\n",
       "    </tr>\n",
       "    <tr>\n",
       "      <th>85927</th>\n",
       "      <td>https://www.lelibrepenseur.org/covidisme-et-ma...</td>\n",
       "      <td>Covidisme et maltraitance des enfants à l'école !</td>\n",
       "      <td>Vidéo d’une extrême violence qui démontre à qu...</td>\n",
       "      <td>Par\\nAdmin</td>\n",
       "      <td>NaN</td>\n",
       "      <td>NaN</td>\n",
       "      <td>www.lelibrepenseur.org</td>\n",
       "      <td>2021-06-11T00:00:00</td>\n",
       "      <td>c453f55c2ff44c0f9c6c16cca6ed98e235c7b636</td>\n",
       "      <td>537.0</td>\n",
       "      <td>Covidisme et maltraitance des enfants à l'écol...</td>\n",
       "    </tr>\n",
       "    <tr>\n",
       "      <th>86488</th>\n",
       "      <td>https://www.lelibrepenseur.org/libe-et-les-med...</td>\n",
       "      <td>Libé et les médias, font-ils encore de l’info ...</td>\n",
       "      <td>Article fort intéressant concernant le comport...</td>\n",
       "      <td>Par\\nAguellid</td>\n",
       "      <td>NaN</td>\n",
       "      <td>NaN</td>\n",
       "      <td>www.lelibrepenseur.org</td>\n",
       "      <td>2020-08-03T00:00:00</td>\n",
       "      <td>10891b77e1165a4d6ed5a5835e73faf92240e52d</td>\n",
       "      <td>27238.0</td>\n",
       "      <td>Libé et les médias, font-ils encore de l’info ...</td>\n",
       "    </tr>\n",
       "    <tr>\n",
       "      <th>86563</th>\n",
       "      <td>https://www.lelibrepenseur.org/jean-francois-l...</td>\n",
       "      <td>Jean-François Lemoine : « The Lancet a été pay...</td>\n",
       "      <td>Petite indiscrétion du milieu de la publicatio...</td>\n",
       "      <td>Par\\nAguellid</td>\n",
       "      <td>NaN</td>\n",
       "      <td>NaN</td>\n",
       "      <td>www.lelibrepenseur.org</td>\n",
       "      <td>2020-06-05T00:00:00</td>\n",
       "      <td>a019d15932bb2ddc127f874f8fbdd9e563ff49a3</td>\n",
       "      <td>3788.0</td>\n",
       "      <td>Jean-François Lemoine : « The Lancet a été pay...</td>\n",
       "    </tr>\n",
       "  </tbody>\n",
       "</table>\n",
       "<p>207 rows × 11 columns</p>\n",
       "</div>"
      ],
      "text/plain": [
       "                                                     url  \\\n",
       "13     https://www.francesoir.fr/societe/onde-de-choc...   \n",
       "108    https://ripostelaique.com/de-linjection-pro-sp...   \n",
       "110    https://ripostelaique.com/lea-salame-na-t-elle...   \n",
       "146    https://ripostelaique.com/lamia-el-aaraje-port...   \n",
       "193    https://ripostelaique.com/reactions-au-discour...   \n",
       "...                                                  ...   \n",
       "84982  https://www.lelibrepenseur.org/covidisme-le-mo...   \n",
       "85248  https://www.lelibrepenseur.org/business-covid-...   \n",
       "85927  https://www.lelibrepenseur.org/covidisme-et-ma...   \n",
       "86488  https://www.lelibrepenseur.org/libe-et-les-med...   \n",
       "86563  https://www.lelibrepenseur.org/jean-francois-l...   \n",
       "\n",
       "                                                   title  \\\n",
       "13     Onde de choc au sein des réseaux du fact-check...   \n",
       "108    De l’injection pro-spike à l’injonction anti-P...   \n",
       "110    Léa Salamé n’a-t-elle pas honte d’oser se prét...   \n",
       "146    Lamia El Aaraje, porte-parole du PS, insulte c...   \n",
       "193    Réactions au discours de Poutine : misère de l...   \n",
       "...                                                  ...   \n",
       "84982  Covidisme : le Molnupiravir a été écarté par l...   \n",
       "85248  Business Covid : une manne de 1,6 milliard pou...   \n",
       "85927  Covidisme et maltraitance des enfants à l'école !   \n",
       "86488  Libé et les médias, font-ils encore de l’info ...   \n",
       "86563  Jean-François Lemoine : « The Lancet a été pay...   \n",
       "\n",
       "                                                 article  \\\n",
       "13     ENQUÊTE - Depuis plusieurs mois, FranceSoir en...   \n",
       "108    Les preuves s’amoncellent sur l’inutilité d’un...   \n",
       "110    Fourberie contre loyauté, mensonge contre sinc...   \n",
       "146    Lamia El Aaraje, porte-parole du PS, ce qui en...   \n",
       "193    Au-delà des vicissitudes concernant ce qui se ...   \n",
       "...                                                  ...   \n",
       "84982  Encore une connerie réalisée par Véran dans l’...   \n",
       "85248  C’est certainement une des raisons qui expliqu...   \n",
       "85927  Vidéo d’une extrême violence qui démontre à qu...   \n",
       "86488  Article fort intéressant concernant le comport...   \n",
       "86563  Petite indiscrétion du milieu de la publicatio...   \n",
       "\n",
       "                      author                                       tag  \\\n",
       "13     Auteur(s)\\nFranceSoir                                        []   \n",
       "108    Lucien Samir Oulahbib  ['NOUVEL ORDRE MONDIAL, RIPOSTE LAIQUE']   \n",
       "110            Josiane Filio                                ['MEDIAS']   \n",
       "146            Sophie Durand                                ['MEDIAS']   \n",
       "193    Lucien Samir Oulahbib                                ['MEDIAS']   \n",
       "...                      ...                                       ...   \n",
       "84982             Par\\nAdmin                                       NaN   \n",
       "85248          Par\\nAguellid                                       NaN   \n",
       "85927             Par\\nAdmin                                       NaN   \n",
       "86488          Par\\nAguellid                                       NaN   \n",
       "86563          Par\\nAguellid                                       NaN   \n",
       "\n",
       "      abstract                    site             date_iso  \\\n",
       "13         NaN       www.francesoir.fr  2022-11-28T06:30:00   \n",
       "108        NaN       ripostelaique.com  2022-10-10T00:00:00   \n",
       "110        NaN       ripostelaique.com  2022-10-27T00:00:00   \n",
       "146        NaN       ripostelaique.com  2022-09-29T00:00:00   \n",
       "193        NaN       ripostelaique.com  2022-10-02T00:00:00   \n",
       "...        ...                     ...                  ...   \n",
       "84982      NaN  www.lelibrepenseur.org  2021-12-10T00:00:00   \n",
       "85248      NaN  www.lelibrepenseur.org  2021-10-16T00:00:00   \n",
       "85927      NaN  www.lelibrepenseur.org  2021-06-11T00:00:00   \n",
       "86488      NaN  www.lelibrepenseur.org  2020-08-03T00:00:00   \n",
       "86563      NaN  www.lelibrepenseur.org  2020-06-05T00:00:00   \n",
       "\n",
       "                                          url_h  c_count  \\\n",
       "13     64992bb518b0bbec3b45df023a0341b114132f83      NaN   \n",
       "108    3d4368915518ad433bfe06112f9518cc04af380e   4082.0   \n",
       "110    5ab97f4d644694a2f22d1d53888de4468cc5c096   6981.0   \n",
       "146    d143a21cb0540a72c73fa5d9180131575a437e8b   6229.0   \n",
       "193    8b70798cd259307e6b326495f15b37c1549b5a37   7585.0   \n",
       "...                                         ...      ...   \n",
       "84982  ec303bc7678b96e543041f2b92c21a9985f01001   2380.0   \n",
       "85248  4793840d1807a1dd0a31dbab2af66eb0013e9344   1459.0   \n",
       "85927  c453f55c2ff44c0f9c6c16cca6ed98e235c7b636    537.0   \n",
       "86488  10891b77e1165a4d6ed5a5835e73faf92240e52d  27238.0   \n",
       "86563  a019d15932bb2ddc127f874f8fbdd9e563ff49a3   3788.0   \n",
       "\n",
       "                                                    text  \n",
       "13     Onde de choc au sein des réseaux du fact-check...  \n",
       "108    De l’injection pro-spike à l’injonction anti-P...  \n",
       "110    Léa Salamé n’a-t-elle pas honte d’oser se prét...  \n",
       "146    Lamia El Aaraje, porte-parole du PS, insulte c...  \n",
       "193    Réactions au discours de Poutine : misère de l...  \n",
       "...                                                  ...  \n",
       "84982  Covidisme : le Molnupiravir a été écarté par l...  \n",
       "85248  Business Covid : une manne de 1,6 milliard pou...  \n",
       "85927  Covidisme et maltraitance des enfants à l'écol...  \n",
       "86488  Libé et les médias, font-ils encore de l’info ...  \n",
       "86563  Jean-François Lemoine : « The Lancet a été pay...  \n",
       "\n",
       "[207 rows x 11 columns]"
      ]
     },
     "execution_count": 39,
     "metadata": {},
     "output_type": "execute_result"
    }
   ],
   "source": [
    "df_corpus[df_corpus['text'].str.contains(topos,case=False)]"
   ]
  },
  {
   "cell_type": "markdown",
   "id": "76996d3a",
   "metadata": {},
   "source": [
    "# Sauvegarde des résultats\n",
    "---"
   ]
  },
  {
   "cell_type": "code",
   "execution_count": null,
   "id": "af442aa4",
   "metadata": {},
   "outputs": [],
   "source": [
    "df_words.to_csv('data/prod/221125-InfoxWords.csv')"
   ]
  },
  {
   "cell_type": "markdown",
   "id": "fb7949bc",
   "metadata": {},
   "source": [
    "# Conclusions\n",
    "---"
   ]
  },
  {
   "cell_type": "markdown",
   "id": "bd06b261",
   "metadata": {},
   "source": [
    "- Vocabulaire infox OK"
   ]
  },
  {
   "cell_type": "markdown",
   "id": "bd360655",
   "metadata": {},
   "source": [
    "# Bricolages\n",
    "---"
   ]
  },
  {
   "cell_type": "code",
   "execution_count": null,
   "id": "20025eef",
   "metadata": {},
   "outputs": [],
   "source": [
    "df_texts"
   ]
  },
  {
   "cell_type": "code",
   "execution_count": null,
   "id": "aae1c7c6",
   "metadata": {},
   "outputs": [],
   "source": [
    "df_texts=df_texts.reset_index()"
   ]
  },
  {
   "cell_type": "code",
   "execution_count": null,
   "id": "83286cb8",
   "metadata": {},
   "outputs": [],
   "source": [
    "texts = df_texts['text']"
   ]
  },
  {
   "cell_type": "code",
   "execution_count": null,
   "id": "5394aeb9",
   "metadata": {},
   "outputs": [],
   "source": [
    "values = df_texts['infox']"
   ]
  },
  {
   "cell_type": "code",
   "execution_count": null,
   "id": "70b287b8",
   "metadata": {},
   "outputs": [],
   "source": [
    "vectorizer = CountVectorizer(lowercase=True, preprocessor=preprocessor, tokenizer=tokenizer,token_pattern='')\n",
    "count_matrix = vectorizer.fit_transform(texts)"
   ]
  },
  {
   "cell_type": "code",
   "execution_count": null,
   "id": "9ee90342",
   "metadata": {},
   "outputs": [],
   "source": [
    "count_array = count_matrix.toarray()\n",
    "df_count = pd.DataFrame(data=count_array,columns = vectorizer.get_feature_names_out())"
   ]
  },
  {
   "cell_type": "code",
   "execution_count": null,
   "id": "7aaa0374",
   "metadata": {},
   "outputs": [],
   "source": [
    "df_words = pd.DataFrame()\n",
    "for value in values.unique():\n",
    "    df_words['count_'+str(value)] = pd.DataFrame(df_count[values==value].sum(),columns=['count_0']).sort_values('count_0',ascending=False)\n",
    "df_words['count']=df_count.sum(axis=0)\n",
    "\n",
    "df_words.shape"
   ]
  },
  {
   "cell_type": "code",
   "execution_count": null,
   "id": "ec258f0e",
   "metadata": {},
   "outputs": [],
   "source": [
    "df_words"
   ]
  },
  {
   "cell_type": "code",
   "execution_count": null,
   "id": "04c6d7b5",
   "metadata": {},
   "outputs": [],
   "source": [
    "importlib.reload(patat.ml.lex_analyser)"
   ]
  },
  {
   "cell_type": "code",
   "execution_count": null,
   "id": "840aa00b",
   "metadata": {},
   "outputs": [],
   "source": [
    "lex = patat.ml.lex_analyser.LexAnalyser()"
   ]
  },
  {
   "cell_type": "code",
   "execution_count": null,
   "id": "090b85ec",
   "metadata": {},
   "outputs": [],
   "source": [
    "lex.get_df_words(texts, values, preprocessor, tokenizer)"
   ]
  },
  {
   "cell_type": "code",
   "execution_count": null,
   "id": "2cbdc734",
   "metadata": {},
   "outputs": [],
   "source": [
    "import typing"
   ]
  },
  {
   "cell_type": "code",
   "execution_count": null,
   "id": "d7d19c61",
   "metadata": {},
   "outputs": [],
   "source": [
    "typing.reveal_type(tokenizer)"
   ]
  },
  {
   "cell_type": "code",
   "execution_count": null,
   "id": "af5f0bb3",
   "metadata": {},
   "outputs": [],
   "source": [
    "values.unique()"
   ]
  },
  {
   "cell_type": "code",
   "execution_count": null,
   "id": "7cde85f5",
   "metadata": {},
   "outputs": [],
   "source": [
    "pd.MultiIndex.from_product([['value_count'],[0,1]])"
   ]
  },
  {
   "cell_type": "code",
   "execution_count": 1,
   "id": "b32e8dd1",
   "metadata": {},
   "outputs": [],
   "source": [
    "from bs4 import BeautifulSoup"
   ]
  },
  {
   "cell_type": "code",
   "execution_count": 5,
   "id": "2c667b3b",
   "metadata": {},
   "outputs": [],
   "source": [
    "import requests"
   ]
  },
  {
   "cell_type": "code",
   "execution_count": 6,
   "id": "def53a80",
   "metadata": {},
   "outputs": [],
   "source": [
    "url = 'https://www.sudradio.fr/societe/sante-macron-annonce-un-plan-pour-sortir-dune-crise-sans-fin-a-lhopital-et-en-ville'"
   ]
  },
  {
   "cell_type": "code",
   "execution_count": 8,
   "id": "a61f5f70",
   "metadata": {},
   "outputs": [],
   "source": [
    "r = requests.get(url)"
   ]
  },
  {
   "cell_type": "code",
   "execution_count": 9,
   "id": "656693dc",
   "metadata": {},
   "outputs": [
    {
     "data": {
      "text/plain": [
       "<Response [200]>"
      ]
     },
     "execution_count": 9,
     "metadata": {},
     "output_type": "execute_result"
    }
   ],
   "source": [
    "r"
   ]
  },
  {
   "cell_type": "code",
   "execution_count": 12,
   "id": "6f8d7a30",
   "metadata": {},
   "outputs": [],
   "source": [
    "html = r.text"
   ]
  },
  {
   "cell_type": "code",
   "execution_count": 13,
   "id": "e64e8f8d",
   "metadata": {},
   "outputs": [],
   "source": [
    "soup = BeautifulSoup(html)"
   ]
  },
  {
   "cell_type": "code",
   "execution_count": 24,
   "id": "48f1deda",
   "metadata": {},
   "outputs": [
    {
     "data": {
      "text/plain": [
       "'\\n                                                vendredi 6 janvier 2023 à 13:43                                            '"
      ]
     },
     "execution_count": 24,
     "metadata": {},
     "output_type": "execute_result"
    }
   ],
   "source": [
    "soup.select('time')[0]."
   ]
  },
  {
   "cell_type": "code",
   "execution_count": null,
   "id": "4b18b77f",
   "metadata": {},
   "outputs": [],
   "source": []
  }
 ],
 "metadata": {
  "kernelspec": {
   "display_name": "Python 3 (ipykernel)",
   "language": "python",
   "name": "python3"
  },
  "language_info": {
   "codemirror_mode": {
    "name": "ipython",
    "version": 3
   },
   "file_extension": ".py",
   "mimetype": "text/x-python",
   "name": "python",
   "nbconvert_exporter": "python",
   "pygments_lexer": "ipython3",
   "version": "3.11.0"
  }
 },
 "nbformat": 4,
 "nbformat_minor": 5
}
