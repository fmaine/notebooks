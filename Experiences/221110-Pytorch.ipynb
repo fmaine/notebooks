{
 "cells": [
  {
   "cell_type": "markdown",
   "id": "e3ec4689",
   "metadata": {},
   "source": [
    "# Plateforme Agnostique de Traitement et d'Analyse des Textes\n",
    "### Carnet d'expérimentation\n",
    "---\n",
    "\n",
    "## Sujet : Pytorch\n",
    "\n",
    "---"
   ]
  },
  {
   "cell_type": "markdown",
   "id": "2601e626",
   "metadata": {},
   "source": [
    "# Observations et environnement\n",
    "---"
   ]
  },
  {
   "cell_type": "code",
   "execution_count": 1,
   "id": "5d0de4d7",
   "metadata": {},
   "outputs": [
    {
     "name": "stdout",
     "output_type": "stream",
     "text": [
      "/Users/fm/Desktop/Work/Patat\n"
     ]
    }
   ],
   "source": [
    "cd ../.."
   ]
  },
  {
   "cell_type": "code",
   "execution_count": 2,
   "id": "32256b0d",
   "metadata": {},
   "outputs": [],
   "source": [
    "import importlib\n",
    "import pandas as pd\n",
    "import seaborn as sns"
   ]
  },
  {
   "cell_type": "markdown",
   "id": "29618668",
   "metadata": {},
   "source": [
    "## Données"
   ]
  },
  {
   "cell_type": "code",
   "execution_count": 3,
   "id": "c77ec74d",
   "metadata": {},
   "outputs": [],
   "source": [
    "df_text = pd.read_csv('data/tmp/221110-TextsInfox.csv')"
   ]
  },
  {
   "cell_type": "code",
   "execution_count": 4,
   "id": "b8612894",
   "metadata": {},
   "outputs": [
    {
     "data": {
      "text/html": [
       "<div>\n",
       "<style scoped>\n",
       "    .dataframe tbody tr th:only-of-type {\n",
       "        vertical-align: middle;\n",
       "    }\n",
       "\n",
       "    .dataframe tbody tr th {\n",
       "        vertical-align: top;\n",
       "    }\n",
       "\n",
       "    .dataframe thead th {\n",
       "        text-align: right;\n",
       "    }\n",
       "</style>\n",
       "<table border=\"1\" class=\"dataframe\">\n",
       "  <thead>\n",
       "    <tr style=\"text-align: right;\">\n",
       "      <th></th>\n",
       "      <th>url</th>\n",
       "      <th>text</th>\n",
       "      <th>infox</th>\n",
       "    </tr>\n",
       "  </thead>\n",
       "  <tbody>\n",
       "    <tr>\n",
       "      <th>0</th>\n",
       "      <td>https://www.breizh-info.com/2022/09/30/208531/...</td>\n",
       "      <td>Réunification. Les six « insoumis » de Bretagn...</td>\n",
       "      <td>0.0</td>\n",
       "    </tr>\n",
       "    <tr>\n",
       "      <th>1</th>\n",
       "      <td>https://www.breizh-info.com/2022/10/02/208574/...</td>\n",
       "      <td>Stonehenge, patrimoine africain ? Ben voyons…\\...</td>\n",
       "      <td>0.0</td>\n",
       "    </tr>\n",
       "    <tr>\n",
       "      <th>2</th>\n",
       "      <td>https://www.dreuz.info/2022/10/elections-de-mi...</td>\n",
       "      <td>Elections américaines de mi-mandat : suivi quo...</td>\n",
       "      <td>0.0</td>\n",
       "    </tr>\n",
       "    <tr>\n",
       "      <th>3</th>\n",
       "      <td>https://www.dreuz.info/2022/10/lukraine-est-en...</td>\n",
       "      <td>L’Ukraine est en train de gagner la guerre\\nOn...</td>\n",
       "      <td>0.0</td>\n",
       "    </tr>\n",
       "    <tr>\n",
       "      <th>4</th>\n",
       "      <td>https://www.dreuz.info/2022/10/la-fda-va-publi...</td>\n",
       "      <td>La FDA va publier une étude sur les effets ind...</td>\n",
       "      <td>0.0</td>\n",
       "    </tr>\n",
       "    <tr>\n",
       "      <th>...</th>\n",
       "      <td>...</td>\n",
       "      <td>...</td>\n",
       "      <td>...</td>\n",
       "    </tr>\n",
       "    <tr>\n",
       "      <th>450</th>\n",
       "      <td>https://www.lelibrepenseur.org/sanna-marine-la...</td>\n",
       "      <td>Sanna Marin, la Première ministre finlandaise,...</td>\n",
       "      <td>0.0</td>\n",
       "    </tr>\n",
       "    <tr>\n",
       "      <th>451</th>\n",
       "      <td>https://www.lelibrepenseur.org/manifestations-...</td>\n",
       "      <td>Manifestations importantes d’agriculteurs aux ...</td>\n",
       "      <td>1.0</td>\n",
       "    </tr>\n",
       "    <tr>\n",
       "      <th>452</th>\n",
       "      <td>https://www.lelibrepenseur.org/les-deces-exces...</td>\n",
       "      <td>Les décès excessifs sont en augmentation mais ...</td>\n",
       "      <td>1.0</td>\n",
       "    </tr>\n",
       "    <tr>\n",
       "      <th>453</th>\n",
       "      <td>https://www.lelibrepenseur.org/1-milliard-de-c...</td>\n",
       "      <td>1 milliard de Chinois touchés par un piratage ...</td>\n",
       "      <td>1.0</td>\n",
       "    </tr>\n",
       "    <tr>\n",
       "      <th>454</th>\n",
       "      <td>https://www.lelibrepenseur.org/bill-gates-cont...</td>\n",
       "      <td>Bill Gates continue de manipuler l’OMS avec se...</td>\n",
       "      <td>1.0</td>\n",
       "    </tr>\n",
       "  </tbody>\n",
       "</table>\n",
       "<p>455 rows × 3 columns</p>\n",
       "</div>"
      ],
      "text/plain": [
       "                                                   url  \\\n",
       "0    https://www.breizh-info.com/2022/09/30/208531/...   \n",
       "1    https://www.breizh-info.com/2022/10/02/208574/...   \n",
       "2    https://www.dreuz.info/2022/10/elections-de-mi...   \n",
       "3    https://www.dreuz.info/2022/10/lukraine-est-en...   \n",
       "4    https://www.dreuz.info/2022/10/la-fda-va-publi...   \n",
       "..                                                 ...   \n",
       "450  https://www.lelibrepenseur.org/sanna-marine-la...   \n",
       "451  https://www.lelibrepenseur.org/manifestations-...   \n",
       "452  https://www.lelibrepenseur.org/les-deces-exces...   \n",
       "453  https://www.lelibrepenseur.org/1-milliard-de-c...   \n",
       "454  https://www.lelibrepenseur.org/bill-gates-cont...   \n",
       "\n",
       "                                                  text  infox  \n",
       "0    Réunification. Les six « insoumis » de Bretagn...    0.0  \n",
       "1    Stonehenge, patrimoine africain ? Ben voyons…\\...    0.0  \n",
       "2    Elections américaines de mi-mandat : suivi quo...    0.0  \n",
       "3    L’Ukraine est en train de gagner la guerre\\nOn...    0.0  \n",
       "4    La FDA va publier une étude sur les effets ind...    0.0  \n",
       "..                                                 ...    ...  \n",
       "450  Sanna Marin, la Première ministre finlandaise,...    0.0  \n",
       "451  Manifestations importantes d’agriculteurs aux ...    1.0  \n",
       "452  Les décès excessifs sont en augmentation mais ...    1.0  \n",
       "453  1 milliard de Chinois touchés par un piratage ...    1.0  \n",
       "454  Bill Gates continue de manipuler l’OMS avec se...    1.0  \n",
       "\n",
       "[455 rows x 3 columns]"
      ]
     },
     "execution_count": 4,
     "metadata": {},
     "output_type": "execute_result"
    }
   ],
   "source": [
    "df_text"
   ]
  },
  {
   "cell_type": "code",
   "execution_count": 5,
   "id": "c7b004f9",
   "metadata": {},
   "outputs": [],
   "source": [
    "with open('data/tmp/221110-IgnoreLemmas.txt','r') as file:\n",
    "    ignore_lemmas = file.read().split('\\n') "
   ]
  },
  {
   "cell_type": "code",
   "execution_count": 6,
   "id": "a8ea3675",
   "metadata": {},
   "outputs": [
    {
     "data": {
      "text/plain": [
       "15203"
      ]
     },
     "execution_count": 6,
     "metadata": {},
     "output_type": "execute_result"
    }
   ],
   "source": [
    "len(ignore_lemmas)"
   ]
  },
  {
   "cell_type": "markdown",
   "id": "f32351c1",
   "metadata": {},
   "source": [
    "# Experience\n",
    "---"
   ]
  },
  {
   "cell_type": "markdown",
   "id": "31a79aca",
   "metadata": {},
   "source": [
    "## Dataloader"
   ]
  },
  {
   "cell_type": "code",
   "execution_count": 7,
   "id": "32480e04",
   "metadata": {},
   "outputs": [
    {
     "data": {
      "text/plain": [
       "{'url': 'https://www.breizh-info.com/2022/09/30/208531/reunification-les-six-insoumis-de-bretagne/',\n",
       " 'text': 'Réunification. Les six «\\xa0insoumis\\xa0» de Bretagne\\nDans l’opération que prépare Bretagne réunie, il sera intéressant de suivre le comportement des 37 députés et des 19 sénateurs de Bretagne. A coup sûr, il faudra les assiéger et médiatiser leur attitude pour les contraindre à soutenir l’action de l’association. Un traitement particulier devra être réservé aux six LFI : Murielle Lepvraud (Guingamp), Frédéric Mathieu (Rennes Bruz), Mathilde Hignet (Redon), Andy Kerbrat (Nantes centre), Ségolène Amiot (Nantes-Saint-Herblain), Mathias Tavel (Saint-Nazaire). Leur patron et leur parti étant farouchement jacobins – donc hostiles dans les faits à la cause bretonne -, la logique veut qu’ils adoptent une attitude défavorable au projet de Bretagne réunie.\\n\\n\\nLe « lider maximo » commande et ses ouailles obéissent. « En retrait mais pas en retraite », répète-t-il à l’envi. Mais ces temps-ci, avec l’affaire Quatennens, « la statue de Mélenchon vacille » (Aujourd’hui en France, dimanche 25 septembre 2022).\\nQuand la question prendra un tour sérieux pourra-t-il refaire le coup de « la République c’est moi » ? Pourra-t-il encore tenir ses troupes en laisse avec son « petit noyau de dirigeants » – situation que dénonce Clémentine Autain ? Il y a aussi le cas de Pierre-Yves Cadalen qui rêvait de devenir député de Brest. Ayant échoué, il se propose de jouer un rôle de député bis. « J’ai envie de servir de relais entre ce que vivent les habitants et le groupe parlementaire. D’aider à ce que les problèmes identifié sur le territoire remontent et à discuter des solutions qu’on peut apporter », explique-t-il (Le Télégramme, Brest, samedi 17 septembre 2022). Voilà un « député » fantôme qu’il ne faudra pas oublier ; on se souvient de son hostilité à la proposition de loi sur les langues régionales que défendait Paul Molac. Les LFI bretons sont-ils capables de « désobéir » à Jean-Luc Mélenchon ? Sont-ils capables de défendre les intérêts de la Bretagne et d’oublier les consignes venues de Paris ? Ont-ils une force de caractère suffisante pour se comporter en authentiques « insoumis » et non pas en « insoumis » d’opérette ?\\n\\n\\nBernard Morvan\\nCrédit photo : DR\\n[cc] Breizh-info.com, 2022, dépêches libres de copie et de diffusion sous réserve de mention et de lien vers la source d’origine',\n",
       " 'infox': 0.0}"
      ]
     },
     "execution_count": 7,
     "metadata": {},
     "output_type": "execute_result"
    }
   ],
   "source": [
    "df_text.iloc[0].to_dict()"
   ]
  },
  {
   "cell_type": "code",
   "execution_count": 8,
   "id": "d5cac9e2",
   "metadata": {},
   "outputs": [],
   "source": [
    "import torch"
   ]
  },
  {
   "cell_type": "code",
   "execution_count": 9,
   "id": "cf289a07",
   "metadata": {},
   "outputs": [],
   "source": [
    "from torch.utils.data import Dataset, DataLoader"
   ]
  },
  {
   "cell_type": "code",
   "execution_count": 10,
   "id": "781215df",
   "metadata": {},
   "outputs": [],
   "source": [
    "class PatatDataset(Dataset):\n",
    "    \"\"\"Patat dataset.\"\"\"\n",
    "\n",
    "    def __init__(self, df, transform=None):\n",
    "        self._df = df\n",
    "        self._transform = transform\n",
    "\n",
    "    def __len__(self):\n",
    "        return len(self._df)\n",
    "\n",
    "    def __getitem__(self, idx):\n",
    "        if torch.is_tensor(idx):\n",
    "            idx = idx.tolist()\n",
    "        sample = self._df.iloc[idx].to_dict()\n",
    "\n",
    "        if self._transform:\n",
    "            sample = self._transform(sample)\n",
    "\n",
    "        return sample"
   ]
  },
  {
   "cell_type": "code",
   "execution_count": 11,
   "id": "4b6179ad",
   "metadata": {},
   "outputs": [],
   "source": [
    "ds = PatatDataset(df_text)"
   ]
  },
  {
   "cell_type": "code",
   "execution_count": 12,
   "id": "ff9280e8",
   "metadata": {},
   "outputs": [
    {
     "data": {
      "text/plain": [
       "{'url': {1: 'https://www.breizh-info.com/2022/10/02/208574/stonehenge-patrimoine-africain-ben-voyons/',\n",
       "  2: 'https://www.dreuz.info/2022/10/elections-de-mi-mandat-la-campagne-les-sondages-les-tendances-suivi-quotidien-272063.html',\n",
       "  3: 'https://www.dreuz.info/2022/10/lukraine-est-en-train-de-gagner-la-guerre-272348.html'},\n",
       " 'text': {1: 'Stonehenge, patrimoine africain ? Ben voyons…\\nCes dernières années, l’Histoire toute entière a subi un véritable assaut de la bien-pensance cosmopolite. Si la manœuvre n’est pas nouvelle, la mémoire ayant souvent été un instrument de légitimation aux mains des différents pouvoirs, on dénote un phénomène nouveau, qui a littéralement explosé avec l’arrivée de la cancel culture : le mensonge pur et dur. Un délire qui repose sur l’ignorance la plus crasse, quand ce n’est sur la mauvaise foi. Les faits historiques sont volontairement déformés, on fait dire à l’Histoire ce que l’on veut, ce dont on nécessite pour étayer sa thèse, aussi farfelue que cela puisse paraître.\\n\\n\\nEncore immergé dans les brumes des temps les plus reculés, relié à la mémoire la plus ancienne des Européens, Stonehenge ne pouvait échapper à ce procédé.\\nC’est ainsi, qu’à la suite d’une étude de la University College de Londres publiée en 2019, révélant que des squelettes prélevés aux alentours étaient de ces fameux chasseurs-cueilleurs provenant d’Anatolie ( En archéogénétique, Early European Farmers. Leur patrimoine génétique constitue la composante majeure du patrimoine génétique des Européens modernes) les bâtisseurs de la structure devenaient magiquement… turcs !\\n\\n\\n“Les bâtisseurs du site de Stonehenge en Angleterre étaient originaires de Turquie selon une récente étude”, “The builders of Stonehenge were descended from Turkish migrants, scientists claim”, “De l’Anatolie à la Britannie : l’ADN des peuples migrants à l’origine de Stonehenge” etc.. Une profusion d’articles de presse ont sciemment entretenu le flou, jouant sur la confusion qui pouvait être établie entre Anatolie et Turquie. Dommage que le site mégalithique ait été érigé entre -2800 et -1100 alors que les Seldjoukides ont conquis l’Anatolie au minimum 22 siècles plus tard ! \\nCela va encore plus loin, les Turcs étant sûrement encore trop blancs pour satisfaire les désirs des talibans du métissages à tout prix. Enfin, ça c’était avant. L’époque en est au racialisme à la sauce Black Lives Matter, au racisme assumé de la mouvance Woke. Seuls les Noirs africains relèvent de la vraie minorité, les autres se rapprochant encore trop de l’abominable patriarcat blanc. Noircissons, donc. Et faisons de Stonehenge une construction… africaine ! “Stonehenge a été bâti par les premiers habitants noirs de l’Angleterre. Ce sont les Noirs de la période néolithique en Angleterre, sous l’influence des Noirs de l’Égypte pharaonique qui ont bâti la première culture avancée de l’histoire de l’Europe.” \\nEt de citer, outre les résultats des recherches de la UCL, celle de l’ADN de “l’homme de Cheddar”, le squelette d’un chasseur-cueilleur du Mésolithique, qui aurait eu, nous dit-on, les yeux bleus et la peau noire. Une thèse hasardeuse puisque notre compréhension de la pigmentation de la peau en génétique est encore incomplète : on n’est actuellement pas capable d’établir la “nuance” d’une peau foncée chez les hommes préhistoriques. Mais, peu importe, vu qu’il faut choisir une couleur pour les reproductions, choisissons la plus sombre ! Dans aucun musée, vous ne verrez de petit astérix précisant “la couleur de peau n’engage à rien”, par contre toutes les nouvelles modélisations que vous admirerez seront noires ! Et comme on a joué sur la confusion Anatolie = Turcs, on fait de même : peau foncée = Africains.\\nOr, il suffira de se rendre dans le Sud de l’Europe en août pour se rendre compte que “peau sombre” n’est en aucun cas synonyme d’Africain. Mais une fois encore…. mystification oblige.\\nLa pigmentation humaine a évolué en fonction des conditions géographiques. La peau des premiers hominidés était très claire, car recouverte de poils. Perdant ces derniers, elle a ensuite foncé pour résister aux agressions solaires, pour de nouveau éclaircir chez les populations qui s’installeront dans les zones de l’hémisphère nord où seule une peau claire et fine permet de synthétiser la Vitamine D nécessaire à l’organisme. La peau des hommes préhistoriques a donc évolué en fonction des régions où nos ancêtres se sont déployés. Faire de la couleur de la peau un argument racial les concernant relève donc de la tromperie pure.\\nQue nos ancêtres aient été bronzés tel un Sicilien après deux mois de villégiature ou blancs comme un Suédois à l’ombre, n’a jamais représenté un quelconque enjeu idéologique…. jusqu’à ces dernières années.\\nLe but étant double : faire, d’une part, des mouvements de population une constante de l’histoire humaine rendant normale et justifiée les vagues migratoires qui se déversent actuellement l’Europe ; de l’autre, nier le génie des peuples européens : ils ne seraient à l’origine de rien (si ce n’est du racisme et du sexisme), tout leur viendrait d’ailleurs, d’Afrique ou d’Orient.\\nCes petites fourberies traduisent un fait pathologique : les antiracistes sont de véritables obsédés de la race, réalité biologique qu’ils s’efforcent pourtant de nier.\\nAudrey D’Aguanno\\nCrédit photo : DR\\n[cc] Breizh-info.com, 2022, dépêches libres de copie et de diffusion sous réserve de mention et de lien vers la source d’origine',\n",
       "  2: 'Elections américaines de mi-mandat : suivi quotidien\\nVoici le suivi quotidien des élections des midterms du 8 novembre. L’enjeu est important. Si le parti républicain parvient à reprendre la majorité dans les deux chambres du Congrès, les Démocrates progressistes, le très nuisible président Biden et sa clique de conseillers de gauche, qui détruisent l’Amérique et l’économie du monde entier, seront neutralisés jusqu’en 2024.\\nDreuz a besoin de votre soutien financier. Pour soutenir Dreuz.info, cliquez sur ce bouton :\\n\\nLundi 3 octobre\\nLes faits saillants de ce début de campagne\\nDu côté des Républicains\\nDonald Trump, contre l’avis de commentateurs conservateurs tels que Kurt Schlichter de Townhall, a accepté une entrevue avec Maggie Haberman, la correspondante à la Maison-Blanche du New York Times, une anti-Trump reconnue. Par la suite, il l’a vertement critiquée sur son site Truth Social.Samedi le 1er octobre, l’ex-Président a prononcé un discours énergique devant des milliers de partisans lors d’un rally MAGA tenu au Macomb County Community College Sports and Events Center, dans la ville de Warren dans le Michigan.Newt Gingrich qui a toujours appuyé Donald Trump, semble jouer le rôle de mandataire de ce dernier dans les coulisses afin de rallier tous les Républicains, les RINO comme les MAGA.Il est clair qu’il a convaincu le leader des Républicains à la Chambre des Représentants, Kevin McCarthy de reproduire son «\\u2009Contrat avec l’Amérique\\u2009» de 1994 qu’il avait écrit alors qu’il était le leader des Républicains à la Chambre.Ce «\\u2009Contrat\\u2009», signé par presque tous les Républicains, avait permis au GOP de gagner 54 sièges à la Chambre et 9 sièges au Sénat lors des Midterms du président Bill Clinton en 1994, obligeant ce dernier à traiter avec lui.Lors d’une interview avec Laura Ingraham de Fox News, la semaine dernière, M. Gingrich a avoué qu’il était en pourparlers avec le personnel du Sénateur Mitch McConnell afin de le convaincre d’appuyer l’initiative de M. McCarthy.Kevin McCarthy continue de défendre le programme: «\\u2009Engagement pour l’Amérique\\u2009» destiné à motiver le vote des électeurs républicains sans faire référence à Donald Trump.Le Gouverneur de la Floride, Ron DeSantis en a plein les bras avec les dégâts considérables causés par l’Ouragan Ian et doit composer avec l’Administration Biden dont il cherche à obtenir de l’aide, tout en faisant campagne pour être réélu le 8 novembre.\\nDu côté des RINOS\\nJohn Durham, le conseiller spécial nommé par Bill Barr pour enquêter sur l’Affaire “Crossfire Hurricane” (espionnage de Donald Trump) a annoncé que son investigation est terminée. Même s’il a conclu qu’Igor Danchenko a bel et bien menti au FBI, M. Danchenko, (qui est le bouc émissaire des Démocrates), le seul à subir un procès, a de bonnes chances d’en sortir indemne.Le traitement honteux réservé à Donald Trump par Barack Obama, le FBI, le ministère de la Justice (DOJ), la CIA, et le ministère des Affaires étrangères (State Department) n’aura pas de suite et personne d’autre de fera face à des accusations ou ne sera traîné en cour.Les directeurs du FBI Comey, Mueller et Wray n’ont rien à craindre, même s’ils ont essayé de faire tomber un président en exercice, dûment élu. Même chose pour les menteurs avérés et co-conspirateurs Andrew McCabe, Peter Strzok et Lisa Page.John Brennan et James Clapper de la CIA, bien qu’ayant fait la promotion de toutes les rumeurs, faussetés et calomnies possibles contre le président Trump, sont sans doute occupés à programmer leurs prochaines émissions de télévision bien rémunérées.Tous les politiciens Démocrates, leurs donateurs milliardaires, les grandes entreprises technologiques et les médias de gauche malveillants n’ont pas le moindre souci à se faire. Ils ont conspiré pour éliminer l’un des présidents les plus efficaces de l’histoire des États-Unis et ils savent qu’ils s’en sont sortis.Les RINOs comme Mitch McConnell, William Barr, Mitt Romney, Mike Pence, n’ont rien à dire à ce sujet.Donc John Durham ne fera rien pour nuire aux Démocrates pendant les Midterms.\\nDu côté des Démocrates\\nJoe Biden a donné le ton à la campagne en accusant les Républicains MAGA d’être des semi-fascistes.\\nDésormais, comme Les Démocrates ne peuvent pas défendre le bilan désastreux de Joe et qu’ils ne peuvent pas le destituer parce qu’ils ne veulent pas mettre Kamala Harris dans le bureau Ovale, il ne leur reste qu’à dénigrer Donald Trump, et celui qui pourrait devenir son successeur ou son rival, Ron DeSantis, le gouverneur de la Floride.\\nIls bénéficient aussi de «\\u2009l’aide\\u2009» du FBI, qui continue de harceler les alliés conservateurs du GOP en faisant des perquisitions chez eux, ou en confisquant leur téléphone cellulaire comme pour Mike Lindell le «\\u2009Pillow Guy\\u2009».\\n\\n\\n\\nConclusion\\nLes Démocrates misent sur le sentiment anti-Trump chez les gauchistes, et sur la défense de l’avortement chez les femmes et les jeunes. Sauf que les jeunes ont tendance à ne pas se déranger pour aller voter, et les femmes ne sont pas nécessairement toutes en faveur de l’avortement n’importe quand, même à la naissance.\\nManque de pot, certains agents en ont assez de la politisation du FBI, et ont décidé de devenir des dénonciateurs anonymes (whistleblowers).\\nDu côté des Républicains, il semble que Donald Trump, Newt Gingrich, Kevin McCarthy et probablement Ron DeSantis, se sont entendus en douce pour faire campagne séparément. MM.Gingrich, McCarthy et DeSantis, en multipliant les apparitions dans les médias conservateurs (Breitbart, Newsmax TV, Fox News) pendant que Donald Trump stimule le mouvement MAGA du GOP avec ses réunions qui attirent des milliers de partisans.\\nC’est une stratégie pour faire échec aux Démocrates qui s’efforcent de faire croire que le GOP est divisé.\\nIl faudrait que Mitch McConnell se rallie au tandem Gingrich/McCarthy, s’il ne veut pas être laissé pour compte après le 8 novembre.\\nPages: 1 2 3',\n",
       "  3: 'L’Ukraine est en train de gagner la guerre\\nOn ne saura sans doute jamais exactement qui a détruit les gazoducs Nord Stream 1 et 2. Un politicien polonais, Radek Sikorski, a remercié les Etats-Unis de manière hâtive et, tout en étant un ennemi de la Russie, a repris le discours russe, tout comme l’ensemble de ceux qui idolâtrent aveuglement le dictateur criminel russe en Europe. Les commentateurs américains, très minoritaires (Tucker Carlson, Douglas McGregor, Steve Turley), qui penchent eux aussi du côté du dictateur criminel russe accusant eux aussi les Etats-Unis, ce qui leur vaut d’être cités élogieusement sur la télévision d’Etat russe.\\n Je ne partage pas du tout cette position. La destruction des gazoducs va nettement accentuer les problèmes énergétiques de l’Europe occidentale au cours de l’hiver qui vient et tout particulièrement ceux de l’Allemagne. Un régime et un seul a intérêt à accentuer les problèmes énergétiques de l’Europe occidentale, et tout particulièrement ceux de l’Allemagne, la Russie de Vladimir Poutine.\\nDreuz a besoin de votre soutien financier. Pour soutenir Dreuz.info, cliquez sur ce bouton :\\n\\nVladimir Poutine est dans une situation désespérée. L’un des seuls fragments d’espoir qui lui restent est que l’Europe fléchisse, et quel meilleur moyen de faire fléchir l’Europe que de la plonger dans une crise très grave ?\\nL’administration Biden, elle, n’a aucun intérêt à ce que l’Europe fléchisse et soit dans une crise très grave, strictement aucun. Ceux qui disent que la Russie ne détruirait pas ses propres gazoducs et aurait pu espérer les réouvrir ultérieurement refusent de voir que Poutine mène une politique de la terre brûlée et semble aujourd’hui prêt à tout.  Ils refusent de voir aussi que les gazoducs sont, à hauteur de cinquante pour cent, la propriété d’entreprises occidentales.\\n\\n\\n\\nLa fuite en avant dans laquelle Poutine s’est lancé le conduit à envoyer sur le front ukrainien des hommes souvent âgés, réduits au statut de chair à canon: des gens qui n’ont aucune formation militaire, savent à peine tenir un fusil et à qui on donne des armes rouillées et inutilisables parce qu’il n’y en a pas d’autres à leur donner, des gens qui ne veulent pas du tout aller à la guerre et qui savent tout à la fois que la guerre est perdue et que c’est une guerre menée sur la base des mensonges de Poutine et qui savent qu’il n’y a aucun “nazi” en Ukraine. Environ 300.000 hommes russes ont réussi à quitter la Russie pour éviter d’aller à la guerre, et sont allés partout où cela leur a été possible, par avion vers Istanbul et Dubaï, en voiture vers la Géorgie, la Finlande, le Kazakhstan et même vers la Mongolie.\\nL’armée russe continue à reculer dans une atmosphère de débâcle et vient d’abandonner Lyman, dans l’oblast de Donesk, abandon qui coupe de manière quasiment totale l’approvisionnement des troupes russes encore présentes dans l’oblast. Les crimes de guerre découverts s’ajoutent aux crimes de guerre découverts. Le père Patrick Desbois, qui a fait un travail remarquable et important sur la shoah par balles, recourt à des volontaires pour recueillir des données sur les crimes de guerre commis par l’armée russe.\\n\\n\\nLes pseudo référendums d’annexion ont eu lieu et ont donné des résultats dignes de ceux des élections en Union soviétique sous Brejnev, n’ont été en aucun cas des référendums et ne seront reconnus par personne, sauf, peut-être par la Corée du Nord, la Syrie, l’Iran des mollahs et le Zimbabwe. Poutine, comme dans les temps soviétiques a organisé une grande cérémonie au Kremlin pour rendre les annexions officielles et tous les dignitaires du régime ont été convoqués pour remplir la salle et applaudir. Ils ont fait ce qu’on leur demandait de faire, mais ils avaient des mines d’enterrement : aucun d’eux n’ignore la réalité de la situation. Des Russes ont été amenés par autocars entiers sur la place Rouge et ont choisi librement : la place Rouge ou la prison. Ils ont choisi la place Rouge.\\nPoutine a prononcé un discours disant que les régions d’Ukraine qu’il prend avoir annexées seront russes “pour toujours” : il ne peut ignorer lui-même que le “toujours” en question durera tout au plus quelques mois.  Il a ajouté des diatribes contre l’Occident, qu’il a décrit comme “satanique”, contre “l’impérialisme américain”, contre le colonialisme occidental : il veut tenter de trouver des soutiens dans le tiers-monde anti-occidental et au sein des extrêmes droites européennes. Il ne trouvera de soutien dans aucun des pays du tiers monde qui comptent et qui auraient les moyens de l’aider. La Chine continue de le soutenir comme la corde soutient le pendu, et l’Inde garde ses distances et achète des ressources énergétiques russes à bas prix. Certaines extrêmes droites européennes le soutiendront verbalement, ce qui ne changera rien à la situation. Il a montré qu’il se considérait en guerre contre le monde occidental : cela lui permettra de dire quand il sera vaincu qu’il n’a pas été vaincu par l’Ukraine, mais par le monde occidental entier et par l’OTAN. Il niera jusqu’au bout les qualités, immenses, de l’armée ukrainienne et le rôle, majeur, de Volodymyr Zelensky.\\nL’économie russe subit de plus en plus nettement l’effet des sanctions occidentales. Le contrat politique que Poutine avait passé avec la population russe est désormais rompu : il prétendait protéger les Russes et accroitre leur niveau de vie pourvu qu’ils se taisent. Envoyer des Russes à la mort pour rien est le contraire d’une protection. Le niveau de vie russe baisse. Le faux tsar Poutine est nu. Les Russes voient sa nudité. Les propagandistes de la télévision russe commencent à critiquer le régime et parlent de défaite, ce qui montre qu’ils n’obéissent plus à leur maitre. Et ce n’est pas bon signe pour celui-ci.\\nPoutine a parlé de cessez le feu et a demandé à négocier. Zelensky a refusé un cessez le feu qui figerait la situation : l’armée ukrainienne est en train de l’emporter, et Zelensky n’offrira aucun répit à Poutine. Zelensky n’acceptera aucune négociation, et veut juste une reddition de Poutine : la restitution à l’Ukraine de tous les territoires ukrainiens occupés par la Russie, le paiement de dommages de guerre à l’Ukraine par la Russie, et l’addition dépasse 700 milliards de dollars. Il demande aussi une punition de Poutine à l’échelle internationale pour les crimes de guerre commis.  Il vient de demander une adhésion accélérée de l’Ukraine à l’OTAN. Il ne l’obtiendra pas dans l’immédiat, et pas avant que la guerre soit achevée, mais ensuite, il l’obtiendra sans doute, et l’Ukraine a toute sa place dans l’OTAN et dans le monde libre.\\n\\n\\nNul ne peut savoir comment la guerre s’achèvera, mais il sera difficile pour Poutine de survivre à la défaite. Je l’ai déjà dit, un dictateur vaincu finit, en général, très mal. Poutine le sait. Il lui reste à faire peur aux Européens et à espérer qu’ils auront très froid lors de l’hiver qui vient et que, disais-je, les dirigeants européens fléchissent. C’est un mince espoir.\\nPoutine, comme tant de dictateurs avant lui, a commis l’erreur de trop. Il comptait sur la faiblesse complice de Biden et ne s’attendait pas à ce que l’Ukraine résiste, a ce que Zelensky se conduise en homme d’Etat, et à ce que Biden fasse un virage a cent quatre-vingts degrés. Il se rêvait successeur de Pierre le Grand et de Joseph Staline. Il pourrait finir comme Lavrentiy Pavlovich Beria. Il imaginait redonner de la grandeur à la Russie. Il pourrait être son fossoyeur.\\nIl a largement détruit l’armée russe et il l’a conduite vers l’humiliation et l’ignominie. Qui pourra encore imaginer qu’elle est la deuxième armée du monde ? Qui pourra oublier les atrocités commises à Bucha et ailleurs en Ukraine ?\\nIl a gravement détérioré l’économie russe et lui a fait perdre les marchés occidentaux.  Il est devenu infréquentable pour la quasi-totalité des dirigeants du monde civilisé, et meme pour nombre d’autres dictateurs.\\nIl lui reste Kim Jong-un, Ebrahim Raissi, Bachar al-Assad, Emmerson Mnangagwa.\\nLes chefs militaires russes ont toutes les raisons de lui en vouloir, tout au moins ceux qui n’ont pas été tués en Ukraine. Jusqu’à quand lui resteront-ils fidèles ? De nombreux oligarques ont aussi toutes les raisons de s’éloigner de lui. Pourront-ils tous finir “suicidés” ? Les mois à venir pourraient être dangereux pour lui. Il a tant détruit et tué que s’il lui arrivait malheur, très peu de gens le pleureraient. Vraiment très peu de gens.\\n\\n\\nLe pape supplie Poutine d’arrêter. Si Poutine s’arrête, il tombe immédiatement. Il ne s’arrêtera que s’il est renversé. Le pape demande à Zelensky d’être ouvert à des propositions de paix. Zelensky a énoncé ses propositions de paix. Elles sont inacceptables pour Poutine, et seront peut-être acceptables par son successeur, si Poutine est renversé.\\nPoutine est sur un siège éjectable et sera vraisemblablement éjecté. Il veut tenir jusqu’à l’hiver et voudrait reprendre l’offensive au printemps. Mais il n’aura, au printemps, pas d’armes modernes et pas de soldats prêts à combattre. Il n’utilisera pas d’arme atomique stratégique, et s’il utilise une arme nucléaire tactique, toute la flotte russe de la mer Noire sera détruite par les forces de l’OTAN quelques minutes plus tard. Poutine veut-il que toute la flotte russe de la mer Noire soit détruite ?  On le saura bientôt.\\nL’Ukraine est en train de gagner la guerre, et Poutine a commencé à la perdre dès le 24 février 2022. L’armée ukrainienne était prête. Zelensky aussi.\\n © Guy Millière pour Dreuz.info. Toute reproduction interdite sans l’autorisation écrite de l’auteur.'},\n",
       " 'infox': {1: 0.0, 2: 0.0, 3: 0.0}}"
      ]
     },
     "execution_count": 12,
     "metadata": {},
     "output_type": "execute_result"
    }
   ],
   "source": [
    "ds[[1,2,3]]"
   ]
  },
  {
   "cell_type": "code",
   "execution_count": 87,
   "id": "c90bda83",
   "metadata": {},
   "outputs": [],
   "source": [
    "dataloader = DataLoader(ds, batch_size=4,\n",
    "                        shuffle=True, num_workers=0)"
   ]
  },
  {
   "cell_type": "code",
   "execution_count": 98,
   "id": "2b451411",
   "metadata": {},
   "outputs": [
    {
     "data": {
      "text/plain": [
       "<torch.utils.data.sampler.BatchSampler at 0x287645580>"
      ]
     },
     "execution_count": 98,
     "metadata": {},
     "output_type": "execute_result"
    }
   ],
   "source": []
  },
  {
   "cell_type": "code",
   "execution_count": 69,
   "id": "8019ca40",
   "metadata": {},
   "outputs": [
    {
     "name": "stdout",
     "output_type": "stream",
     "text": [
      "0 ['https://lezarceleurs.blogspot.com/2022/07/leurope-occidentale-na-pas-besoin-de.html', 'https://www.breizh-info.com/2022/04/19/185260/covid-19-une-epidemie-quasiment-terminee-avant-lete-au-niveau-mondial/', 'https://www.francesoir.fr/societe-emploi/sncf-culotte-menstruelle-manque-toilettes', 'https://www.francesoir.fr/culture/jean-jacques-sempe-dessinateur-du-petit-nicolas-est-mort-l-age-de-89-ans'] tensor([1., 1., 0., 0.], dtype=torch.float64)\n",
      "1 ['https://www.profession-gendarme.com/le-bureau-de-lacademie-de-medecine-expose-sa-complicite-dempoisonnement-en-bande-organisee/', 'https://www.lelibrepenseur.org/demonstration-factuelle-que-les-injections-darn-messager-sont-une-arnaque-qui-na-rien-de-scientifique/', 'https://www.francesoir.fr/culture-medias/diplomes-obligatoires-pour-les-influenceurs-chinois-sur-tiktok', 'https://www.breizh-info.com/2022/07/01/188975/residences-secondaires-le-collectif-dispach-reclame-un-statut-de-resident-en-bretagne-et-un-droit-au-logement-pour-tous-les-migrants/'] tensor([1., 1., 0., 0.], dtype=torch.float64)\n",
      "2 ['https://www.francesoir.fr/culture-art-expo/renee-gailhoustet-l-architecte-des-hlm-royal-academy-arts', 'https://www.francesoir.fr/politique-monde/la-tracabilite-des-fonds-vers-l-ukraine-se-perd', 'https://www.wikistrike.com/2022/07/jour-du-depassement-a-partir-de-ce-jeudi-28-juillet-l-humanite-vit-a-credit.html', 'https://www.wikistrike.com/2022/08/le-masque-reduit-les-infections-covid-de-0-06.html'] tensor([0., 1., 0., 1.], dtype=torch.float64)\n",
      "3 ['https://www.voltairenet.org/article217206.html', 'https://lezarceleurs.blogspot.com/2022/07/les-convulsions-post-vaccinales-des.html', 'https://www.francesoir.fr/societe-faits-divers/mort-brutale-de-stephane-eimer-pdg-des-laboratoires-biogroup', 'https://lesobservateurs.ch/2022/07/08/le-11-juillet-a-versailles-macron-deroule-le-tapis-rouge-a-un-ancien-groupe-darmement-nazi/'] tensor([1., 1., 0., 0.], dtype=torch.float64)\n",
      "4 ['https://lezarceleurs.blogspot.com/2022/05/la-fortune-amassee-par-volodymyr.html', 'https://lesmoutonsrebelles.com/poutine-coule-le-titanic-europeen/', 'https://www.francesoir.fr/societe-economie/allianz-entreprises-revoltes', 'https://www.voltairenet.org/article217636.html'] tensor([1., 1., 0., 0.], dtype=torch.float64)\n",
      "5 ['https://lesmoutonsrebelles.com/no-comment-zelensky-appelle-lotan-a-porter-des-frappes-preventives-contre-la-russie/', 'https://www.profession-gendarme.com/blackrock-gate-comment-larry-fink-sest-paye-macron/', 'https://www.profession-gendarme.com/leuthanasie-des-personnes-en-maison-de-retraite-en-2020/', 'https://lesmoutonsrebelles.com/le-passe-sanitaire-revient-pour-les-vacances-non-vaccines-et-retifs-aux-tests-seront-bien-emmerdes/'] tensor([0., 1., 1., 0.], dtype=torch.float64)\n",
      "6 ['https://www.les-crises.fr/pour-combattre-l-inflation-la-fed-declare-la-guerre-aux-travailleurs/', 'https://www.lesalonbeige.fr/italie-aux-portes-du-pouvoir-meloni-ne-cede-rien-sur-lavortement/', 'https://www.voltairenet.org/article217568.html', 'https://www.dreuz.info/2022/09/lancien-premier-ministre-bernard-cazeneuve-lance-un-manifeste-pour-une-autre-gauche-271200.html'] tensor([0., 0., 1., 0.], dtype=torch.float64)\n",
      "7 ['https://www.polemia.com/une-guerre-civile-menee-contre-les-peuples-indigenes-deurope/', 'https://www.francesoir.fr/opinions-editos/vous-avez-la-parole-grace-francesoir', 'https://lezarceleurs.blogspot.com/2022/09/lenergie-verte-nest-certainement-pas-la.html', 'https://fr.sott.net/article/40917-Les-Etats-Unis-declarent-la-guerre-a-la-Russie-l-Allemagne-les-Pays-Bas-et-la-France'] tensor([1., 0., 0., 1.], dtype=torch.float64)\n",
      "8 ['https://www.francesoir.fr/opinions-tribunes/dire-non-a-la-guerre', 'https://www.wikistrike.com/2022/06/la-surveillance-de-masse-de-la-nsa-pulverise-les-records.html', 'https://www.francesoir.fr/societe-sante/vaccins-anti-covid-une-etude-allemande-rapporte-des-effets-inquietants-sur-le-sang', 'https://www.francesoir.fr/opinions-tribunes/figaro-macron-rassuriste'] tensor([1., 1., 1., 0.], dtype=torch.float64)\n",
      "9 ['https://www.wikistrike.com/2022/07/pfizer-vient-d-etre-condamne-a-75-millions-dollars-pour-avoir-escroque-le-gouvernement-britannique.html', 'https://lezarceleurs.blogspot.com/2022/05/experiences-americaines-dinfection.html', 'https://www.polemia.com/les-j-o-2024-en-seine-saint-denis-une-folie-criminelle/', 'https://www.breizh-info.com/2022/08/07/206226/docteur-celine-guerre/'] tensor([0., 1., 1., 0.], dtype=torch.float64)\n",
      "10 ['https://lesmoutonsrebelles.com/un-stock-de-45-000-tonnes-de-munitions-de-lotan-detruit-par-larmee-russe/', 'https://www.polemia.com/jean-francois-carenco-a-loutre-mer-mensonge-et-repression-au-programme/', 'https://www.francesoir.fr/politique-france/legislatives-2022-deuxieme-tour', 'https://www.francesoir.fr/politique-monde/fauci-demissionne-bilan-controverse'] tensor([1., 1., 0., 1.], dtype=torch.float64)\n",
      "11 ['https://www.wikistrike.com/2022/05/le-chu-de-bordeaux-en-mode-degrade-les-patients-seront-accueillis-par-des-benevoles.html', 'https://www.francesoir.fr/politique-france/biometrie-dans-lespace-public-rapport-senat', 'https://lesakerfrancophone.fr/ukraine-un-cataclysme-au-regard-de-lhistoire', 'https://www.dreuz.info/2022/10/elections-de-mi-mandat-la-campagne-les-sondages-les-tendances-suivi-quotidien-272063.html'] tensor([0., 0., 0., 0.], dtype=torch.float64)\n",
      "12 ['https://www.francesoir.fr/afp-afp/france-le-gouvernement-ance-un-vaste-plan-de-controle-des-7500-ehpad-en-deux-ans', 'https://www.francesoir.fr/societe-sante/covid-19-la-strategie-de-linfectiologue-david-uip-encense-par-la-presse-mais-critiques', 'https://www.francesoir.fr/lifestyle-vie-quotidienne/france-connect-arnaque-vols-identifiants', 'https://www.francesoir.fr/politique-monde/l-association-de-robert-kennedy-jr-censuree-par-facebook-et-instagram'] tensor([0., 1., 0., 1.], dtype=torch.float64)\n",
      "13 ['https://www.francesoir.fr/politique-france/manifestation-hopital-montauban', 'https://www.polemia.com/le-defile-du-14-juillet-une-histoire-du-lien-national/', 'https://lezarceleurs.blogspot.com/2022/05/une-organisation-israelienne-accuse-le.html', 'https://lesdeqodeurs.fr/fusillade-de-buffalo-ces-drapeaux-ne-se-falsifient-pas-tout-seuls/'] tensor([0., 1., 1., 1.], dtype=torch.float64)\n",
      "14 ['https://lesmoutonsrebelles.com/la-russie-frappe-le-port-dodessa-au-lendemain-de-laccord-sur-lexportation-des-cereales/', 'https://www.francesoir.fr/science-tech/amazon-va-donner-alexa-la-capacite-de-reproduire-les-voix-humaines', 'https://lesmoutonsrebelles.com/victoire-historique-aux-etats-unis-northshore-paiera-10-337-500-pour-indemniser-les-soignants-suspendus/', 'https://reseauinternational.net/education-nationale-la-grande-desertion/'] tensor([0., 0., 0., 0.], dtype=torch.float64)\n",
      "15 ['https://www.francesoir.fr/opinions-tribunes/xavier-gorce-quand-na-que-la-haine', 'https://www.breizh-info.com/2022/07/05/192015/apres-les-elections-legislatives-ludb-passe-a-la-caisse/', 'https://www.breizh-info.com/2022/05/19/186767/lampedusa-sicile-mai-2022/', 'https://www.cnews.fr/france/2022-08-23/mayotte-des-centres-de-redressement-pour-les-mineurs-delinquants-1256876'] tensor([0., 0., 0., 0.], dtype=torch.float64)\n",
      "16 ['https://lesmoutonsrebelles.com/wikipedia-est-il-une-encyclopedie-ouverte-ou-une-operation-secrete-de-desinformation/', 'https://lezarceleurs.blogspot.com/2022/07/enfants-vaccines-de-8100-30200-plus-de.html', 'https://www.breizh-info.com/2022/05/18/186653/laurent-gaudeau-reconquete-44/', 'https://www.wikistrike.com/2022/10/selon-un-ancien-conseiller-du-pentagone-les-etats-unis-auraient-attaque-les-gazoducs-nord-stream-pour-isoler-l-allemagne.html'] tensor([1., 1., 0., 1.], dtype=torch.float64)\n",
      "17 ['https://lezarceleurs.blogspot.com/2022/05/laffaire-jean-michel-macron-trogneux-un.html', 'https://www.francesoir.fr/politique-france/rothschild-gate-ou-est-passe-le-patrimoine-de-macron', 'https://lesmoutonsrebelles.com/les-vers-ronds-comment-sen-debarrasser/', 'https://lesmoutonsrebelles.com/un-rapport-du-pentagone-affirme-que-les-extraterrestres-ont-donne-des-grossesses-inexpliquees/'] tensor([1., 1., 0., 1.], dtype=torch.float64)\n",
      "18 ['https://www.dreuz.info/2022/05/burkini-dans-les-piscines-municipales-pour-darmanin-le-choix-fait-a-grenoble-est-une-inacceptable-provocation-communautaire-264514.html', 'https://lesobservateurs.ch/2022/09/09/le-canada-est-devenu-lapogee-du-schema-directeur-liberal-lavortement-peut-etre-pratique-meme-sur-les-vivants-et-est-meme-recommande-18/', 'https://www.wikistrike.com/2022/06/irak-decouverte-d-une-cite-antique-vieille-de-3-400-ans.html', 'https://www.francesoir.fr/opinions-editos/de-limportance-de-langle'] tensor([0., 1., 0., 0.], dtype=torch.float64)\n",
      "19 ['https://www.francesoir.fr/politique-monde/militaires-ukrainiens-azovstahl-reddition-evacuation', 'https://www.profession-gendarme.com/alerte-vaccins-covid-un-scientifique-britannique-revele-une-analyse-de-donnees-explosives-sur-des-lots-de-pfizer-moderna-et-janssen-et-decouvre-que-certains-l/', 'https://www.breizh-info.com/2022/05/23/186975/boites-noires-mai-role/', 'https://www.francesoir.fr/societe-sante/roland-garros-epidemie-covid-alize-cornet'] tensor([0., 1., 0., 0.], dtype=torch.float64)\n",
      "20 ['https://www.profession-gendarme.com/delitement-decadence-ecroulement-fin/', 'https://www.polemia.com/derriere-papy-biden-letat-profond-americain-a-la-manoeuvre/', 'https://www.wikistrike.com/2022/09/les-commandos-ukrainiens-qui-ont-attaque-la-centrale-de-zaporojie-auraient-ete-entraines-par-londres.html', 'https://www.wikistrike.com/2022/06/les-10-plans-les-plus-diaboliques-du-forum-economique-mondial-pour-l-humanite.html'] tensor([0., 1., 1., 1.], dtype=torch.float64)\n",
      "21 ['https://www.francesoir.fr/societe-sante/nouveaux-vaccins-de-rappels-automne-la-folle-course-en-avant', 'https://reseauinternational.net/crimee-comment-la-turquie-appelle-a-la-capitulation-de-la-russie/', 'https://www.les-crises.fr/la-grande-desillusion-reves-liberaux-et-realites-internationales-john-mearsheimer/', 'https://www.breizh-info.com/2022/07/06/192133/vallaud-belkacem-mission-daccueil/'] tensor([0., 0., 0., 0.], dtype=torch.float64)\n",
      "22 ['https://www.francesoir.fr/opinions-tribune/ursula-von-der-leyen-la-nouvelle-victoria-nuland', 'https://www.francesoir.fr/politique-france/la-guerre-va-durer-macron-prepare-les-francais-contraintes-de-sobriete', 'https://www.dreuz.info/2022/05/le-proces-du-faux-dossier-russe-monte-par-clinton-contre-trump-commence-dreuz-vous-rapportera-chaque-jour-ses-moments-forts-264558.html', 'https://lesmoutonsrebelles.com/george-soros-force-les-grandes-entreprises-a-boycotter-twitter-pour-contrer-elon-musk/'] tensor([1., 0., 1., 1.], dtype=torch.float64)\n",
      "23 ['https://www.francesoir.fr/politique-france/emmanuel-macron-va-se-rendre-en-algerie-pour-poursuivre-le-travail-d-apaisement', 'https://www.polemia.com/la-droite-face-a-limperatif-culturel/', 'https://reseauinternational.net/la-fin-de-la-pax-americana-de-la-chute-dun-empire/', 'https://lesmoutonsrebelles.com/biden-utilise-cyniquement-lukraine-pour-couvrir-le-sabotage-alimentaire/'] tensor([0., 0., 0., 1.], dtype=torch.float64)\n",
      "24 ['https://www.wikistrike.com/2022/08/les-vaccines-infectes-au-covid-restent-contagieux-plus-longtemps-que-les-non-vaccines-selon-une-etude.html', 'https://lesobservateurs.ch/2022/08/23/les-soldats-britanniques-doivent-se-preparer-a-la-guerre-avec-la-russie-et-prevenir-leurs-proches/', 'https://www.francesoir.fr/politique-monde/finlande-et-suede-adhesion-otan', 'https://reseauinternational.net/la-contre-offensive-nest-pas-ukro-elle-est-otan-et-donc-differente/'] tensor([1., 0., 0., 0.], dtype=torch.float64)\n",
      "25 ['https://lesdeqodeurs.fr/des-scientifiques-de-harvard-et-de-johns-hopkins-ont-decouvert-que-les-vaccins-contre-le-virus-covid-19-etaient-98-fois-pires-que-le-virus/', 'https://lesdeqodeurs.fr/vous-pensez-que-nous-nous-sommes-trompes-voici-une-liste-de-controle-pratique-pour-savoir-comment-vous-pouvez-nous-mettre-sur-la-bonne-voie/', 'https://www.breizh-info.com/2022/06/29/188814/melanie-thomin-nupes-ps-doit-beaucoup-aux-electeurs-du-rn/', 'https://www.wikistrike.com/2022/08/l-un-des-plus-grands-complexes-megalithiques-du-monde-decouvert-en-espagne.html'] tensor([1., 1., 0., 0.], dtype=torch.float64)\n",
      "26 ['https://lesobservateurs.ch/2022/07/09/pourquoi-lonu-pense-t-elle-quun-massacre-de-musulmans-est-pire-que-dinnombrables-meurtres-de-chretiens/', 'https://www.francesoir.fr/societe-transport/un-avion-revolutionnaire-hydrogene', 'https://www.francesoir.fr/afp-afp/france-leurope-des-solutions-pour-devenir-independante-du-gaz-russe-affirme-bruno-le-maire', 'https://www.voltairenet.org/article217739.html'] tensor([0., 0., 0., 0.], dtype=torch.float64)\n",
      "27 ['https://www.dreuz.info/2022/10/lukraine-est-en-train-de-gagner-la-guerre-272348.html', 'https://www.breizh-info.com/2022/05/14/186359/open-de-linternational-2022/', 'https://www.francesoir.fr/politique-france/elisabeth-borne-nommee-premiere-ministre-macron-choisi-une-femme-pour-matig', 'https://fr.sott.net/article/40423-Toutes-les-decisions-de-la-politique-sanitaire-d-Emmanuel-Macron-ont-coute-plus-de-600-milliards-pour-quel-resultat'] tensor([0., 0., 0., 1.], dtype=torch.float64)\n",
      "28 ['https://lesmoutonsrebelles.com/les-reseaux-sociaux-coupes-volontairement-que-sest-il-passe/', 'https://www.cnews.fr/faits-divers/2022-08-23/saone-et-loire-un-forcene-retranche-dans-un-hotel-de-montceau-les-mines', 'https://www.les-crises.fr/une-unite-sas-a-elimine-des-detenus-afghans-et-ce-a-plusieurs-reprises-selon-la-bbc/', 'https://www.les-crises.fr/les-lobbys-contre-la-sante-l-incroyable-histoire-du-nutri-score-serge-hercberg/'] tensor([1., 0., 1., 0.], dtype=torch.float64)\n",
      "29 ['https://www.francesoir.fr/politique-france/le-gouvernement-va-lancer-une-application-didentite-numerique', 'https://lesmoutonsrebelles.com/emmanuel-macron-est-un-psychopathe-amoral-selon-le-psychiatre-italien-adriano-segatori/', 'https://www.francesoir.fr/culture-cinema/un-autre-monde-vincent-lindon-captivant', 'https://lesdeqodeurs.fr/piratage-du-systeme-de-vote-informatise-de-lamerique/'] tensor([1., 1., 0., 1.], dtype=torch.float64)\n",
      "30 ['https://www.breizh-info.com/2022/02/23/180457/tests-vaccins-pass-fabrique-de-la-panique-braquage-des-comptes-publics/', 'https://www.dreuz.info/2022/05/la-gauche-americaine-a-tue-19-enfants-et-deux-enseignants-a-uvalde-texas-265825.html', 'https://www.francesoir.fr/politique-monde/presidentielle-au-bresil-bolsonaro-talonne-lula-2e-tour-tendu-en-vue', 'https://reseauinternational.net/pourquoi-les-etats-unis-ont-tant-besoin-de-destabiliser-le-continent-europeen/'] tensor([1., 1., 0., 0.], dtype=torch.float64)\n",
      "31 ['https://lesmoutonsrebelles.com/quand-la-propagande-de-guerre-occidentale-finit-par-admettre-le-reel/', 'https://www.francesoir.fr/vie-quotidienne/japon-cafe-teletravail-deadline', 'https://www.breizh-info.com/2022/09/30/208531/reunification-les-six-insoumis-de-bretagne/', 'https://www.francesoir.fr/opinions-tribunes/du-covid-la-guerre-en-ukraine-les-memes-techniques-de-manipulation'] tensor([1., 0., 0., 1.], dtype=torch.float64)\n",
      "32 ['https://lezarceleurs.blogspot.com/2022/05/un-demi-million-dallemands-ont-subi-de.html', 'https://www.profession-gendarme.com/un-rapport-du-gouvernement-britannique-admet-que-189-millions-de-personnes-ne-sont-toujours-pas-vaccinees-en-angleterre-et-que-50-du-pays-a-refuse-le-rappel/', 'https://www.nouvelordremondial.cc/2022/08/24/les-employes-dapple-forment-une-resistance-contre-les-plans-de-retour-au-bureau-de-la-societe/', 'https://lesdeqodeurs.fr/quelle-est-la-principale-cause-de-deces-en-alberta-en-2021/'] tensor([1., 1., 1., 1.], dtype=torch.float64)\n",
      "33 ['https://www.polemia.com/disparition-de-francois-bernard-huyghe-un-phare-en-pleine-tempete/', 'https://lesmoutonsrebelles.com/le-president-ukrainien-zelensky-sadresse-au-festival-de-cannes-depuis-kiev/', 'https://fr.sott.net/article/40291-L-etau-se-resserre-autour-de-la-Chine', 'https://reseauinternational.net/grande-bretagne-le-titanic-heurte-liceberg/'] tensor([0., 0., 1., 0.], dtype=torch.float64)\n",
      "34 ['https://www.breizh-info.com/2022/05/19/186704/la-plus-ancienne-statue-de-saint-yves-se-trouve-a-plouegat-guerrand-14eme-siecle/', 'https://www.francesoir.fr/politique-monde/israel-et-la-turquie-se-reconcilient-apres-12-annees-de-rapports-houleux', 'https://fr.sott.net/article/40039-Effet-domino-de-la-reddition-des-soldats-ukrainiens-a-Azovstal-sur-le-reste-des-troupes-ukrainiennes-dans-le-Donbass', 'https://www.wikistrike.com/2022/08/washington-enverrait-des-mercenaires-afghans-combattre-en-ukraine.html'] tensor([0., 0., 1., 1.], dtype=torch.float64)\n",
      "35 ['https://www.francesoir.fr/politique-france/un-doctothon-ce-16-avril-centre-exclusivement-sur-les-effets-secondaires-du-vaccin', 'https://www.lesalonbeige.fr/que-vont-devenir-les-armes-livrees-a-lukraine/', 'https://www.breizh-info.com/2022/07/25/193461/tyrannie-sanitaire-450-personnes-a-la-conference-donnee-par-louis-fouche-reinfocovid-en-bretagne-reportage/', 'https://www.francesoir.fr/politique-monde/le-declin-demographique-de-la-chine'] tensor([1., 1., 0., 0.], dtype=torch.float64)\n",
      "36 ['https://www.francesoir.fr/politique-monde/vatican-nft-metaverse-realite-virtuelle', 'https://www.wikistrike.com/2022/05/la-russie-rearme-kaliningrad.html', 'https://lezarceleurs.blogspot.com/2022/05/les-codes-bluetooth-emis-par-les.html', 'https://www.francesoir.fr/societe-economie/smartphones-reconditionnes-attention-aux-fraudes'] tensor([0., 0., 1., 0.], dtype=torch.float64)\n",
      "37 ['https://www.francesoir.fr/societe-faits-divers/capes-de-moins-en-moins-de-candidats', 'https://lezarceleurs.blogspot.com/2022/07/des-senateurs-refusent-des-informations.html', 'https://www.francesoir.fr/opinions-editos/google-desinformateur-criminel-ou-informateur-d-utilite-publique', 'https://www.breizh-info.com/2022/07/13/192441/politique-portuaire-bretagne/'] tensor([0., 0., 0., 0.], dtype=torch.float64)\n",
      "38 ['https://www.breizh-info.com/2022/05/06/186234/3-conseils-pour-estimer-son-bien-immobilier/', 'https://www.francesoir.fr/societe-science-tech/realite-parallele-aeroports', 'https://www.wikistrike.com/2022/07/l-afnor-prouve-que-le-masque-grand-public-recommande-par-le-gouvernement-est-une-veritable-escroquerie.html', 'https://lezarceleurs.blogspot.com/2022/05/le-dr-zelenko-raconte-comment-le-msm.html'] tensor([0., 0., 1., 1.], dtype=torch.float64)\n",
      "39 ['https://www.francesoir.fr/afp-afp-france/visite-surprise-delizabeth-ii-pour-inaugurer-une-ligne-de-metro-portant-son-nom', 'https://lezarceleurs.blogspot.com/2021/09/le-reseau-covid-montre-les-relations.html', 'https://lesakerfrancophone.fr/les-sanctions-du-paradis', 'https://www.francesoir.fr/opinions-entretiens/defense-medecins-convoques-me-joseph'] tensor([0., 1., 1., 1.], dtype=torch.float64)\n",
      "40 ['https://www.voltairenet.org/article217011.html', 'https://lesmoutonsrebelles.com/elon-musk-rachete-le-reseau-social-twitter-pour-44-milliards-de-dollars/', 'https://www.nouvelordremondial.cc/2022/07/12/une-entree-sombre-de-70-metres-decouverte-dans-un-cratere-lunaire-sur-google-moon-29-juin-2022/', 'https://lesmoutonsrebelles.com/une-etrange-structure-cubique-photographiee-sur-la-face-cachee-de-la-lune/'] tensor([1., 0., 1., 1.], dtype=torch.float64)\n",
      "41 ['https://lezarceleurs.blogspot.com/2022/07/reduction-de-la-mortalite-covid-de-92.html', 'https://lezarceleurs.blogspot.com/2022/05/la-fraude-massive-de-pfizer-lors-des.html', 'https://www.cnews.fr/france/2022-08-23/kohlantess-responsabilite-selection-des-participants-que-contient-le-rapport-du', 'https://lemediaen442.fr/onu-le-premier-ministre-de-nouvelle-zelande-demande-aux-dirigeants-du-monde-dabolir-la-liberte-dexpression-cest-une-arme-de-guerre/'] tensor([1., 1., 0., 1.], dtype=torch.float64)\n",
      "42 ['https://lemediaen442.fr/pendant-la-penurie-de-cereales-les-affaires-continuent/', 'https://lesmoutonsrebelles.com/les-sanctions-contre-la-russie-provoquent-leffondrement-de-leuro-le-ministre-bruno-le-maire-sest-totalement-trompe/', 'https://www.breizh-info.com/2022/09/17/208038/un-autre-ordre-mondial-en-gestation/', 'https://www.wikistrike.com/2022/07/donbass-deux-nouveaux-laboratoires-militaires-decouverts.html'] tensor([1., 1., 0., 1.], dtype=torch.float64)\n",
      "43 ['https://www.francesoir.fr/politique-monde/confinement-centaines-chinois-ont-fui-lusine-de-quanta', 'https://www.profession-gendarme.com/lettre-ouverte-a-la-france-et-aux-nations/', 'https://www.breizh-info.com/2022/06/26/188613/saisonniers-internats/', 'https://www.dreuz.info/2022/05/un-centre-de-competences-spatiales-europeen-cree-en-suisse-264621.html'] tensor([0., 1., 0., 0.], dtype=torch.float64)\n",
      "44 ['https://www.breizh-info.com/2021/12/20/176485/qi-races-differences-intelligence-delinquance-wokisme-tour-dhorizon-du-negationnisme-biologique/', 'https://www.breizh-info.com/2022/07/28/193530/radars-double-face-telephone/', 'https://www.breizh-info.com/2022/10/02/208574/stonehenge-patrimoine-africain-ben-voyons/', 'https://www.francesoir.fr/societe-science-tech/une-nouvelle-ia-predit-les-crimes'] tensor([1., 0., 0., 1.], dtype=torch.float64)\n",
      "45 ['https://www.profession-gendarme.com/les-laboratoires-du-pentagone-et-la-depopulation/', 'https://lesmoutonsrebelles.com/echange-virulent-elon-musk-propose-des-referendums-dans-le-donbass-et-en-crimee-kiev-sinsurge/', 'https://www.francesoir.fr/politique-monde/gouverneur-floride-7-novembre-journee-victimes-communisme', 'https://lemediaen442.fr/le-referendum-sur-ladhesion-a-la-russie-a-commence-a-donetsk-malgre-les-bombardements-ukrainiens-qui-ont-tue-six-civils/'] tensor([1., 0., 0., 0.], dtype=torch.float64)\n",
      "46 ['https://www.profession-gendarme.com/leffet-kiss-coll-de-la-guerre/', 'https://lesdeqodeurs.fr/le-chef-des-forces-de-defense-radiologique-russe-declare-la-covid-19-comme-etant-dorigine-ukrainienne-les-mondialistes-du-comite-national-democrate-ont-cree-la-covid/', 'https://www.francesoir.fr/politique-monde/la-france-va-fournir-lallemagne-en-gaz', 'https://reseauinternational.net/adhesion-a-la-russie-93-pour-le-oui-dans-la-region-de-zaporijia-87-dans-celle-de-kherson/'] tensor([1., 1., 0., 0.], dtype=torch.float64)\n",
      "47 ['https://www.francesoir.fr/politique-monde/l-antonov-ecrase-en-grece-avait-stationne-marseille-et-paris', 'https://lesmoutonsrebelles.com/9-exemples-de-desinformation-des-autorites-de-la-sante-sur-la-covid/', 'https://www.breizh-info.com/2022/08/31/207295/christine-kelly-soif-liberte-entretien/', 'https://www.breizh-info.com/2022/05/10/186309/legislatives-en-bretagne-le-parti-breton-presente-34-candidats/'] tensor([0., 1., 0., 0.], dtype=torch.float64)\n",
      "48 ['https://www.profession-gendarme.com/tour-de-france-abandon-de-victor-lafay-on-est-tous-negatifs-aux-tests-covid-il-y-a-autre-chose-car-on-a-tous-les-poumons-niques/', 'https://www.francesoir.fr/afp-afp/france-yvan-colonna-les-deputes-prevoient-dauditionner-des-cadres-de-la-penitentiaire', 'https://lesdeqodeurs.fr/des-preuves-de-paiements-de-biden-en-provenance-de-chine-soutiennent-tony-bobulinski-et-montrent-que-les-biden-ont-gagne-des-millions-en-escroquant-lamerique/', 'https://www.breizh-info.com/2022/05/17/186771/melenchon-a-nantes-ce-17-mai-leau-manque-les-socialistes-aussi/'] tensor([1., 0., 1., 0.], dtype=torch.float64)\n",
      "49 ['https://www.francesoir.fr/opinions-editos/de-limportance-de-la-libre-pensee', 'https://lesakerfrancophone.fr/nous-sommes-z', 'https://lezarceleurs.blogspot.com/2021/07/les-vaccins-covid-de-pfizer-detruisent.html', 'https://lalettrepatriote.com/tous-les-vitraux-de-nos-eglises-et-cathedrales-menaces-par-lunion-europeenne/'] tensor([0., 1., 1., 1.], dtype=torch.float64)\n",
      "50 ['https://fr.sott.net/article/39999-Otan-apres-la-Finlande-la-Suede-va-officialiser-sa-candidature', 'https://www.francesoir.fr/politique-france/crepuscule-de-la-diplomatie', 'https://www.breizh-info.com/2022/08/30/207251/limmigration-clandestine-a-destination-de-leurope-toujours-plus-nombreuse/', 'https://lemediaen442.fr/les-sanctions-contre-la-russie-provoquent-leffondrement-de-leuro-le-ministre-bruno-le-maire-sest-totalement-trompe/'] tensor([0., 0., 0., 1.], dtype=torch.float64)\n",
      "51 ['https://www.francesoir.fr/opinions-tribunes/ils-veulent-la-guerre-totale-a-la-facon-des-laches', 'https://www.francesoir.fr/societe/liberation-renfloue-hauteur-de-15-millions-d-euros-par-le-milliardaire-tcheque-kretinsky', 'https://www.wikistrike.com/2022/08/compteur-linky-les-personnes-electrosensibles-gagnent-leur-proces-contre-enedis.html', 'https://www.francesoir.fr/lifestyle-bien-etre/charge-mentale-femmes'] tensor([1., 0., 0., 0.], dtype=torch.float64)\n",
      "52 ['https://www.francesoir.fr/politique-france/adriano-segatori-macron-psycopathe', 'https://www.francesoir.fr/culture-art-expo/macron-attali-fresque-murale-polemique', 'https://www.lesalonbeige.fr/combat-politique-ou-combat-religieux/', 'https://www.francesoir.fr/politique-monde/hong-kong-les-personnes-testees-positives-au-covid-19-devront-porter-un-bracelet'] tensor([1., 0., 0., 0.], dtype=torch.float64)\n",
      "53 ['https://www.francesoir.fr/opinions-editos/s-interroger-est-il-encore-possible-fausses-verites-contre-vrais-mensonges', 'https://www.dreuz.info/2022/05/israel-augmente-sa-production-de-gaz-naturel-pour-leurope-qui-seloigne-du-gaz-russe-264490.html', 'https://lemediaen442.fr/le-passe-sanitaire-revient-pour-les-vacances-non-vaccines-et-retifs-aux-tests-seront-bien-emmerdes/', 'https://lalettrepatriote.com/la-france-insoumise-me-parait-plus-toxique-aujourdhui-que-le-rassemblement-national/'] tensor([0., 0., 0., 1.], dtype=torch.float64)\n",
      "54 ['https://fr.sott.net/article/39998-Le-Pentag', 'https://www.breizh-info.com/2022/09/10/207720/excuse-minorite/', 'https://lesakerfrancophone.fr/quand-les-mechants-essaient-de-se-defiler', 'https://www.dreuz.info/2022/10/la-fda-va-publier-une-etude-sur-les-effets-indesirables-potentiels-du-vaccin-covid-chez-les-personnes-agees-il-etait-temps-272406.html'] tensor([1., 0., 1., 0.], dtype=torch.float64)\n",
      "55 ['https://fr.sott.net/article/40404-Propagande-operations-psychologiques-et-guerre-cognitive-Les-actions-de-l-OTAN-pour-le-controle-de-l-opinion-publique', 'https://www.francesoir.fr/societe-sante/champignons-magiques-depression', 'https://lesmoutonsrebelles.com/pour-marine-le-pen-un-elargissement-de-lotan-ne-favoriserait-pas-la-paix/', 'https://www.francesoir.fr/politique-monde/mbs-visite-europe'] tensor([1., 0., 0., 0.], dtype=torch.float64)\n",
      "56 ['https://lemediaen442.fr/le-president-ukrainien-zelensky-se-cache-dans-lambassade-des-etats-unis-en-pologne-selon-un-depute-dukraine/', 'https://reseauinternational.net/pourquoi-la-russie-tente-leurope-avec-la-reparation-des-conduites-nord-stream/', 'https://lesmoutonsrebelles.com/des-milliers-de-personnes-disent-non-a-lotan-a-madrid-ville-hote-de-son-prochain-sommet/', 'https://lezarceleurs.blogspot.com/2022/05/la-veritable-raison-de-la-volonte-de.html'] tensor([1., 1., 0., 1.], dtype=torch.float64)\n",
      "57 ['https://lesdeqodeurs.fr/le-gouvernement-francais-va-recruter-3-000-policiers-verts-pour-lutter-contre-le-changement-climatique/', 'https://www.breizh-info.com/2022/05/12/186460/le-president-du-conseil-departemental-22-christian-coail-se-met-en-retrait-du-ps/', 'https://lemediaen442.fr/dictature-acte-1-vote-de-la-loi-de-veille-sanitaire-a-lassemblee/', 'https://www.dreuz.info/2022/09/cest-la-rentree-alors-faites-confiance-au-gouvernement-271204.html'] tensor([0., 0., 0., 0.], dtype=torch.float64)\n",
      "58 ['https://www.francesoir.fr/politique-france/burkini-dans-les-piscines-le-conseil-municipal-de-grenoble-donne-son-feu-vert', 'https://www.francesoir.fr/dernier-hommage-sempe-grand-poete-du-dessin-d-humour-l-eglise-de-saint-germain-des-pres', 'https://www.francesoir.fr/societe-sante/variole-du-singe-les-premiers-cas-contacts-ont-ete-vaccines-en-france-vendredi', 'https://lezarceleurs.blogspot.com/2022/06/augmentation-de-2000-des-lesions.html'] tensor([0., 0., 0., 1.], dtype=torch.float64)\n",
      "59 ['https://www.breizh-info.com/2022/05/09/186196/laffiche-de-campagne-polemique-de-ludmf-democrates-musulmans/', 'https://www.dreuz.info/2022/05/pourquoi-la-chine-sentete-t-elle-avec-sa-strategie-zero-covid-264527.html', 'https://www.breizh-info.com/2022/07/15/192636/telford-racisme/', 'https://infodujour.fr/culture/cinema/57892-coupez-vous-ny-couperez-pas'] tensor([0., 0., 1., 0.], dtype=torch.float64)\n",
      "60 ['https://lezarceleurs.blogspot.com/2022/09/marion-gruber-et-sa-signature-letale.html', 'https://lesdeqodeurs.fr/le-procureur-nomme-par-trump-david-weiss-envisage-dinculper-hunter-biden/', 'https://www.wikistrike.com/2022/05/decouverte-d-un-gouffre-geant-abritant-une-foret-primitive-en-chine.html', 'https://www.breizh-info.com/2022/05/19/186742/bill-gates-dose-rappel-mai-2022/'] tensor([1., 1., 0., 0.], dtype=torch.float64)\n",
      "61 ['https://www.francesoir.fr/societe-sante/milliers-de-navigants-et-scientifiques-se-regroupent-au-niveau-mondial', 'https://www.francesoir.fr/politique-monde/oms-variole-du-singe-ne-pas-sinquieter', 'https://www.breizh-info.com/2022/06/16/188202/2eme-tour-des-legislatives-en-bretagne-37-circonscriptions-37-duels-zero-triangulaire/', 'https://www.francesoir.fr/politique-monde/l-espagne-se-rebelle-face-aux-exigences-de-reduction-de-consommation-de-gaz'] tensor([1., 0., 0., 0.], dtype=torch.float64)\n",
      "62 ['https://lesmoutonsrebelles.com/pandemie-et-cartel-organise-la-cartographie-du-reseau-qui-se-cache-derriere-la-politique-sanitaire-mondiale/', 'https://lezarceleurs.blogspot.com/2022/05/azovstal-les-otages-du-bataillon.html', 'https://fr.novopress.info/227410/un-president-reelu-et-apres-par-philippe-bilger/', 'https://www.wikistrike.com/2022/08/le-forum-economique-mondial-estime-qu-il-existe-des-raisons-solides-et-rationnelles-de-micropucer-les-enfants.html'] tensor([1., 1., 0., 1.], dtype=torch.float64)\n",
      "63 ['https://fr.novopress.info/227381/lalgerie-un-pays-jeune-gouverne-par-des-vieillards-par-bernard-lugan/', 'https://www.lelibrepenseur.org/manifestations-importantes-dagriculteurs-aux-pays-bas-la-police-tire-sur-les-manifestants/', 'https://www.breizh-info.com/2022/02/20/180182/covid-19-la-pandemie-et-les-vaccins-pour-mieux-justifier-un-coup-detat-mondial/', 'https://lemediaen442.fr/portugal-la-chaine-dinformation-tvi-annonce-une-inquietante-augmentation-de-20-de-la-mortalite-chez-les-jeunes/'] tensor([0., 1., 1., 0.], dtype=torch.float64)\n",
      "64 ['https://www.polemia.com/italie-vers-un-prochain-blocus-a-limmigration-clandestine/', 'https://www.breizh-info.com/2022/05/15/186647/afrique-du-sud-lafrikaans-le-khoi-et-le-san-reconnus-comme-langues-indigenes/', 'https://www.profession-gendarme.com/la-maladie-des-ondes-radio-lhistoire-de-lelectrohypersensibilite/', 'https://www.breizh-info.com/2022/07/22/193266/lincendie-des-monts-darree-maitrise-quels-impacts-sur-lenvironnement/'] tensor([0., 0., 1., 0.], dtype=torch.float64)\n",
      "65 ['https://www.francesoir.fr/politique-france/un-president-de-la-republique-qui-rend-honneur-petain-mathilde-panot', 'https://www.francesoir.fr/societe-sante/omicron-le-concurrent-redoute-par-bill-gates', 'https://lezarceleurs.blogspot.com/2021/12/morts-par-vaccin-pfizer-la-fda-le.html', 'https://lesdeqodeurs.fr/voici-tout-ce-que-les-medias-ne-vous-diront-pas-sur-nina-jankowicz-la-nouvelle-ministre-de-la-verite-de-biden/'] tensor([0., 1., 1., 1.], dtype=torch.float64)\n",
      "66 ['https://www.francesoir.fr/politique-monde/joe-biden-inaugure-un-comite-gouvernemental-de-la-desinformation', 'https://www.francesoir.fr/videos-pause-interview/melodie-ou-est-mon-cycle', 'https://www.voltairenet.org/article217546.html', 'https://www.nouvelordremondial.cc/2022/08/24/cnn-est-en-train-de-se-faire-eventrer-parce-que-les-medias-gauchistes-ne-sont-pas-aussi-attrayants-quils-le-pensent/'] tensor([1., 1., 1., 1.], dtype=torch.float64)\n",
      "67 ['https://www.francesoir.fr/politique-monde/turquie-petrole-russe', 'https://www.francesoir.fr/politique-monde/lavortement-jusqua-neuf-mois-sans-conditions-preconise-par-loms', 'https://www.lelibrepenseur.org/7e-art-selon-le-cnc-les-salles-ont-enregistre-a-peine-74-millions-dentrees-en-france-en-septembre-2022/', 'https://lezarceleurs.blogspot.com/2022/09/blog-post.html'] tensor([0., 1., 0., 1.], dtype=torch.float64)\n",
      "68 ['https://www.dreuz.info/2022/06/fraudes-conspirations-et-tribunal-populaire-des-medias-266681.html', 'https://www.wikistrike.com/2022/06/des-scientifiques-transforment-par-erreur-des-hamsters-en-monstres-agressifs.html', 'https://lemediaen442.fr/pays-bas-le-gouvernement-veut-reduire-le-cheptel-dun-tiers-le-pays-est-au-bord-de-la-paralysie-complete/', 'https://lesmoutonsrebelles.com/un-ingenieur-de-google-pretend-quune-intelligence-artificielle-est-devenue-consciente/'] tensor([1., 1., 0., 1.], dtype=torch.float64)\n",
      "69 ['https://fr.sott.net/article/40192-La-tyrannie-digitale-et-le-code-QR-prof-Michel-Chossudovsky-et-Peter-Koenig', 'https://www.francesoir.fr/societe-sante/covid-19-problemes-cardiaques-israel-vaccination', 'https://www.wikistrike.com/2022/07/l-italie-se-revolte-contre-l-union-europeenne-et-refuse-de-reduire-sa-consommation-de-gaz-de-15.html', 'https://www.nouvelordremondial.cc/2022/07/12/et-maintenant-une-epidemie-du-virus-de-marburg-a-commence/'] tensor([1., 0., 0., 0.], dtype=torch.float64)\n",
      "70 ['https://www.lesalonbeige.fr/laissant-lhopital-mourir-de-sa-belle-mort-nos-gouvernants-vont-y-faire-rentrer-la-mort-a-titre-de-soin-medical/', 'https://lesmoutonsrebelles.com/selon-le-pr-perronne-lapparition-de-la-variole-du-singe-nest-pas-naturelle/', 'https://fr.novopress.info/actualite-politique-internationale-culture-sport-depeches/a-la-une/', 'https://lesmoutonsrebelles.com/trump-revient-en-force-je-suis-pour-les-armes-dieu-et-le-petrole/'] tensor([1., 1., 0., 0.], dtype=torch.float64)\n",
      "71 ['https://www.polemia.com/callac-laboratoire-du-peuplement-de-la-france-profonde-par-limmigration/', 'https://www.breizh-info.com/2022/07/02/190528/carhaix-un-menhir-erige-par-stonebreizh-dimanche-3-juillet-plus-de-200-volontaires-sollicites/', 'https://www.francesoir.fr/politique-monde/chine-des-ecoliers-surveilles-stylos-connectes', 'https://fr.sott.net/article/40491-Chaos-factuel-a-l-OMS-Dr-Tedros-L-epidemie-de-variole-du-singe-se-concentre-parmi-les-hommes-qui-ont-des-rapports-sexuels-avec-des-hommes-L-estimation-douteuse-de-99'] tensor([1., 0., 0., 1.], dtype=torch.float64)\n",
      "72 ['https://www.francesoir.fr/societe-environnement/eclipse-lunaire-16-mai-rouge', 'https://www.wikistrike.com/2022/07/un-sosie-de-poutine-a-t-il-ete-envoye-en-iran.html', 'https://www.lesalonbeige.fr/plusieurs-francais-ont-ete-poignardes-sans-que-cela-emeuve-beaucoup-les-medias/', 'https://www.lelibrepenseur.org/cannibales-et-ecolo-voici-le-premier-burger-vegan-gout-viande-humaine/'] tensor([0., 1., 0., 0.], dtype=torch.float64)\n",
      "73 ['https://www.polemia.com/elisabeth-borne-et-lecole-cynisme-et-deconstruction/', 'https://lesmoutonsrebelles.com/la-fin-irresistible-dun-empire-predateur/', 'https://lesmoutonsrebelles.com/ursula-von-der-leyen-menace-litalie-de-sanctions-si-giorgia-meloni-devait-gagner-aux-elections/', 'https://www.francesoir.fr/opinions-tribunes/bmj-gate-interpretation-manipulee-des-donnees-statistiques'] tensor([1., 1., 1., 1.], dtype=torch.float64)\n",
      "74 ['https://www.francesoir.fr/societe-sante/sabatier-2', 'https://lesmoutonsrebelles.com/un-sondage-defavorable-pour-emmanuel-macron-supprime-par-rtl/', 'https://www.lesalonbeige.fr/chapitre-7-nous-notons-depuis-une-vingtaine-dannee-une-augmentation-des-phenomenes-climatiques-info-ou-intox/', 'https://reseauinternational.net/la-russie-gagne-un-soutien-international-alors-que-les-crimes-occidentaux-sont-reveles-en-ukraine/'] tensor([1., 1., 1., 1.], dtype=torch.float64)\n",
      "75 ['https://www.nouvelordremondial.cc/2022/09/01/la-theorie-de-la-fuite-en-laboratoire-et-ce-que-nous-savons-de-la-dissimulation/', 'https://www.lelibrepenseur.org/les-deces-excessifs-sont-en-augmentation-mais-attention-pas-a-cause-de-covid/', 'https://www.wikistrike.com/2022/08/etude-22-des-moins-de-50-ans-diagnostiques-avec-une-nouvelle-maladie-post-vaccination.html', 'https://www.polemia.com/pap-ndiaye-a-leducation-nationale-deconstruction-et-hypocrisie/'] tensor([1., 1., 1., 1.], dtype=torch.float64)\n",
      "76 ['https://www.wikistrike.com/2022/09/coupures-electriques-imminentes-en-france.html', 'https://www.voltairenet.org/article217256.html', 'https://lesakerfrancophone.fr/des-chats-dans-une-piece-sombre-et-encombree', 'https://www.breizh-info.com/2022/07/12/192482/immigration-frontex-alerte-lue-sur-des-vagues-de-migrants-a-venir-en-raison-de-la-crise-alimentaire/'] tensor([1., 1., 1., 0.], dtype=torch.float64)\n",
      "77 ['https://www.francesoir.fr/politique-monde/nous-marchons-vers-la-guerre-comme-des-somnambules-henri-guaino', 'https://www.wikistrike.com/2022/08/fresne-cette-prison-ou-les-condagggmnes-finissent-sur-un-kart.html', 'https://lezarceleurs.blogspot.com/2022/07/ukraine-les-buchers-de-la-haine-par.html', 'https://www.breizh-info.com/2022/05/18/186607/publicite-le-grand-effacement-des-blancs/'] tensor([0., 0., 1., 1.], dtype=torch.float64)\n",
      "78 ['https://fr.sott.net/article/40371-L-OMS-recommande-un-nouveau-vaccin-contre-la-polio-finance-par-Gates-pour-faire-face-a-l-epidemie-de-polio-derivee-du-vaccin-au-Royaume-Uni', 'https://www.dreuz.info/2022/04/attentats-crimes-tueries-et-autres-atrocites-pendant-le-mois-de-ramadan-2022-262109.html', 'https://www.lelibrepenseur.org/quand-darmanin-dinait-avec-limam-iquioussen-quil-veut-a-present-expulser/', 'https://www.profession-gendarme.com/chers-amis-desolee-dancer-un-genocide-naomi-wolf-sur-le-rapport-confidentiel-de-pfizer/'] tensor([1., 1., 1., 1.], dtype=torch.float64)\n",
      "79 ['https://www.wikistrike.com/2022/05/coree-du-nord-kim-jong-un-decrete-un-confinement-dans-le-confinement-suite-a-l-apparition-d-un-premier-cas-de-covid.html', 'https://www.francesoir.fr/entretien-essentiel/francois-belliot', 'https://www.wikistrike.com/2022/07/bhl-condamne-par-la-justice-pour-avoir-touche-9-millions-d-euros-du-qatar-pour-soutenir-la-guerre-en-libye.html', 'https://www.francesoir.fr/societe-sante/projet-de-loi-covid-passe-vaccinal'] tensor([0., 0., 1., 0.], dtype=torch.float64)\n",
      "80 ['https://www.francesoir.fr/politique-monde/le-tribunal-de-l-UE-confirme-la-suspension-de-rt-france', 'https://www.lelibrepenseur.org/1-milliard-de-chinois-touches-par-un-vol-de-donnees-personnelles/', 'https://lezarceleurs.blogspot.com/2022/08/l-australie-triste-championne-de-la.html', 'https://www.breizh-info.com/2022/06/15/188159/the-quiet-girl-un-film-en-langue-gaelique-bat-des-records-au-box-office-en-irlande-et-au-royaume-uni/'] tensor([0., 1., 1., 0.], dtype=torch.float64)\n",
      "81 ['https://fr.sott.net/article/40793-Ecolo-nazisme-et-mise-en-place-du-plan-Morgenthau-en-Allemagne', 'https://www.francesoir.fr/opinions-tribunes/vaccinolatres-et-ukrainolatres-la-meme-technique-de-desinformation-totalitaire', 'https://lesdeqodeurs.fr/fact-checker-les-fact-checkers/', 'https://www.francesoir.fr/societe-sante/imbecilisation-de-l-espece-le-passage-l-idiocene'] tensor([1., 0., 1., 1.], dtype=torch.float64)\n",
      "82 ['https://www.wikistrike.com/2022/07/moutarde-huile-l-arnaque-a-la-penurie.html', 'https://www.francesoir.fr/opinions-editos/de-l-importance-d-une-assemblee-vraiment-nationale', 'https://lezarceleurs.blogspot.com/2022/07/vaccins-covid-19-et-escrocs-associes.html', 'https://www.cnews.fr/france/2022-08-23/kohlantess-un-participant-avait-ete-condamne-pour-viol-1256849'] tensor([1., 0., 1., 0.], dtype=torch.float64)\n",
      "83 ['https://lemediaen442.fr/zelensky-menace-de-bombarder-la-centrale-nucleaire-de-zaporijia-tout-incident-radioactif-peut-porter-un-coup-aux-pays-de-lunion-europeenne/', 'https://www.wikistrike.com/2022/05/elisabeth-borne-nommee-premiere-ministre.html', 'https://www.nouvelordremondial.cc/2022/07/05/les-etats-unis-financent-un-logiciel-permettant-aux-russes-dacceder-a-des-sites-web-interdits/', 'https://lesmoutonsrebelles.com/la-finlande-favorable-a-une-adhesion-a-lotan-sans-delai-malgre-les-mises-en-garde-de-moscou/'] tensor([1., 0., 1., 0.], dtype=torch.float64)\n",
      "84 ['https://lemediaen442.fr/le-president-ukrainien-zelensky-appelle-au-genocide-de-la-population-russe-vous-serez-tues-un-par-un-comme-des-boucs-emissaires/', 'https://lesdeqodeurs.fr/le-prince-charles-a-t-il-ignore-les-signaux-dalarme-indiquant-que-son-ami-jimmy-savile-etait-un-agresseur-ou-ses-assistants-ne-lui-ont-ils-jamais-dit/', 'https://fr.sott.net/article/40035-La-Chine-augmente-ses-importations-d-energie-en-provenance-de-Russie', 'https://lesmoutonsrebelles.com/la-russie-demande-la-levee-des-sanctions-pour-eviter-une-crise-alimentaire-mondiale/'] tensor([1., 1., 0., 0.], dtype=torch.float64)\n",
      "85 ['https://lesmoutonsrebelles.com/igor-kirillov-general-russe-les-etats-unis-et-lotan-preparent-une-attaque-chimique-ou-nucleaire-pour-accuser-la-russie/', 'https://lesdeqodeurs.fr/les-marxistes-cherchent-a-destabiliser-la-societe-americaine-par-la-sexualisation-des-jeunes/', 'https://www.profession-gendarme.com/il-ny-a-pas-de-crise-climatique-dans-le-monde/', 'https://www.nouvelordremondial.cc/2022/08/24/alors-que-singapour-autorise-les-relations-homosexuelles-voici-le-statut-juridique-de-lhomosexualite-dans-le-monde/'] tensor([1., 1., 1., 0.], dtype=torch.float64)\n",
      "86 ['https://www.wikistrike.com/2022/07/n-ecrasez-plus-les-insectes.ils-ressentent-la-douleur.html', 'https://fr.novopress.info/227346/immigration-clandestine-repartir-ou-renvoyer-les-migrants-lheure-des-choix/', 'https://lesdeqodeurs.fr/la-censure-gouvernementale-devrait-nous-effrayer-tout-autant-que-le-covid-autrefois/', 'https://lemediaen442.fr/mathilde-panot-accusee-dantisemitisme-pour-avoir-prononce-le-mot-rescapee/'] tensor([0., 0., 1., 0.], dtype=torch.float64)\n",
      "87 ['https://www.francesoir.fr/politique-monde/discours-de-politique-generale-huee-elisabeth-borne-appelle-au-compromis', 'https://www.wikistrike.com/2022/05/la-turquie-bloque-les-pourparlers-d-adhesion-de-la-suede-et-de-la-finlande-a-l-otan-et-presente-une-liste-d-exigences.html', 'https://lesmoutonsrebelles.com/la-finlande-a-officiellement-decide-dadherer-a-lotan-mais-la-croatie-et-la-turquie-sy-opposent/', 'https://www.francesoir.fr/politique-france/la-france-lance-un-plan-de-sobriete-energetique-tous-azimuts-pour-affronter-l'] tensor([0., 0., 0., 0.], dtype=torch.float64)\n",
      "88 ['https://www.profession-gendarme.com/aujourdhui-4-documents-tres-courts-pour-vous-garder-eveilles-et-occuper-votre-dimanche/', 'https://lalettrepatriote.com/augmentation-suspectes-des-prix-lukraine-a-bon-dos-dit-michel-edouard-leclerc/', 'https://lesdeqodeurs.fr/ces-personnes-meritent-le-blame-pour-la-mort-de-pres-dun-million-damericains/', 'https://lesmoutonsrebelles.com/huile-de-cbd-bio-les-bienfaits-dun-produit-naturel-qui-se-democratise/'] tensor([1., 0., 1., 0.], dtype=torch.float64)\n",
      "89 ['https://lezarceleurs.blogspot.com/2022/07/mais-quont-ils-fait-les-peuples-pour.html', 'https://www.francesoir.fr/politique-france/marioupol-lettre-francis-lalanne-chef-detat-major', 'https://www.breizh-info.com/2022/09/11/207779/le-projet-horizon-a-callac-un-projet-pervers-et-demoniaque-et-une-menace-pour-le-peuple-breton/', 'https://lezarceleurs.blogspot.com/2022/04/la-pologne-profiterait-de-la-guerre.html'] tensor([1., 1., 0., 1.], dtype=torch.float64)\n",
      "90 ['https://www.francesoir.fr/afp-afp-france/toulouse-un-telepherique-connecte-au-metro', 'https://www.francesoir.fr/societe-economie/le-secteur-aerien-peine-redecoller', 'https://www.francesoir.fr/politique-monde/la-russie-expulse-85-diplomates-europeens', 'https://lezarceleurs.blogspot.com/2022/05/enquete-5g-sur-les-sabotages-dantennes.html'] tensor([0., 0., 0., 0.], dtype=torch.float64)\n",
      "91 ['https://www.francesoir.fr/societe-sante/etude-efficacite-antidepresseurs', 'https://lezarceleurs.blogspot.com/2022/04/ue-lhecatombe-post-vaccinale-au-23.html', 'https://www.francesoir.fr/societe-environnement/eoliennes-surveillance-chauve-souris', 'https://www.francesoir.fr/societe-environnement/compostage-humain-les-funerailles-vertes-gagnent-du-terrain-aux-etats-unis'] tensor([1., 1., 0., 0.], dtype=torch.float64)\n",
      "92 ['https://www.breizh-info.com/2022/05/17/186594/baccalaureat-2022-conseils-stress/', 'https://lesmoutonsrebelles.com/surmortalite-post-vaccinale-des-scientifiques-allemands-sondent-les-statistiques-officielles/', 'https://www.polemia.com/pouvoir-dachat-la-grande-arnaque-par-jean-yves-le-gallou/', 'https://www.wikistrike.com/2022/07/variole-du-singe-comme-si-le-monde-etait-menace-l-oms-declenche-son-plus-haut-niveau-d-alerte.html'] tensor([0., 1., 1., 1.], dtype=torch.float64)\n",
      "93 ['https://www.dreuz.info/2022/06/panique-sur-les-cryptos-267826.html', 'https://lezarceleurs.blogspot.com/2022/09/ursula-von-der-leyen-complice-de-bill.html', 'https://infodujour.fr/societe/55967-covid-19-la-vaccination-nest-pas-sans-risques', 'https://www.francesoir.fr/opinions-editos/24-heures-dans-la-peau-dune-femme'] tensor([0., 1., 1., 0.], dtype=torch.float64)\n",
      "94 ['https://www.francesoir.fr/culture-celebrites/cannes-2022-fin-dun-festival-politise-ruben-ostlund-rafle-la-palme-dor', 'https://fr.sott.net/article/40820-Leur-propagande-vient-de-loin-et-nous-le-savons', 'https://lemediaen442.fr/le-ministere-de-la-sante-allemand-annonce-1-effet-secondaire-grave-suspecte-toutes-les-5-000-doses-de-vaccin/', 'https://www.voltairenet.org/article217542.html'] tensor([0., 0., 1., 1.], dtype=torch.float64)\n",
      "95 ['https://www.nouvelordremondial.cc/2022/07/12/apres-le-crash-de-lovni-a-roswell-en-1947-les-militaires-ont-cherche-des-cercueils-de-la-taille-dun-enfant/', 'https://www.breizh-info.com/2021/11/02/173738/faut-il-vous-metisser-comme-le-suggere-la-presse-mainstream/', 'https://www.les-crises.fr/limites-planetaires-l-onu-met-en-garde-contre-un-effondrement-de-la-societe/', 'https://www.profession-gendarme.com/le-mari-de-vonderleyen-travaille-pour-pfizer-son-fils-aussi-avec-les-mckinsey/'] tensor([1., 1., 0., 1.], dtype=torch.float64)\n",
      "96 ['https://www.dreuz.info/2022/09/qui-est-elle-anti-ue-pro-otan-pro-ukraine-pro-israel-anti-immigration-voici-giorgia-meloni-271978.html', 'https://www.francesoir.fr/opinions-editos/cest-celui-qui-dit-qui-l-est', 'https://lemediaen442.fr/cest-la-rentree-pour-les-vaccins-contre-le-covid-19/', 'https://lemediaen442.fr/la-terroriste-natalia-vovk-a-sejourne-en-france-comme-refugiee-avant-dassassiner-daria-douguine/'] tensor([0., 0., 1., 1.], dtype=torch.float64)\n",
      "97 ['https://lesdeqodeurs.fr/un-club-de-milliardaires-pour-tenter-denrayer-la-surpopulation/', 'https://lesdeqodeurs.fr/biden-signe-le-projet-de-loi-sur-lukraine-demande-une-aide-de-40-milliards-de-dollars-dans-la-replique-de-poutine/', 'https://lemediaen442.fr/linfluenceur-aux-millions-de-vues-nicolas-scuderi-a-des-problemes-de-sante-suite-a-sa-2e-dose-de-vaccin-je-nai-plus-dimmunite/', 'https://www.lelibrepenseur.org/sanna-marine-la-premiere-ministre-finlandaise-chiale-telle-une-collegienne/'] tensor([1., 0., 1., 0.], dtype=torch.float64)\n",
      "98 ['https://lesmoutonsrebelles.com/ukraine-emmanuel-macron-promet-a-volodymyr-zelensky-dintensifier-les-livraisons-darmes/', 'https://www.lelibrepenseur.org/suede-fin-de-la-recommandation-sur-la-vaccination-universelle-contre-le-covid-19-pour-les-enfants-de-12-a-17-ans/', 'https://www.lelibrepenseur.org/meteo-le-froid-sempare-de-la-france-faut-il-salarmer-dun-refroidissement-climatique/', 'https://reseauinternational.net/tous-les-jeunes-portez-la-nouvelle-russe/'] tensor([0., 0., 0., 0.], dtype=torch.float64)\n",
      "99 ['https://lesmoutonsrebelles.com/une-liste-de-33-choses-que-nous-savons-sur-les-penuries-alimentaires-a-venir/', 'https://www.breizh-info.com/2022/05/19/186903/viktor-orban-les-medias-occidentaux-modernes-sont-alignes-sur-lopinion-de-gauche/', 'https://infodujour.fr/sante/58524-covid-19-les-effets-secondaires-camoufles', 'https://www.breizh-info.com/2022/05/15/186521/geopolitique-une-analyse-pro-russe-de-la-strategie-militaire-en-ukraine/'] tensor([1., 0., 1., 1.], dtype=torch.float64)\n",
      "100 ['https://www.francesoir.fr/opinions-editos/vrais-mensonges-et-fausses-verites-les-nouveaux-standards-de-la-propagande-1', 'https://infodujour.fr/business/des-entreprises/57882-hausse-des-prix-des-materiaux-qui-en-paye-la-note', 'https://www.breizh-info.com/2022/05/20/186968/deces-de-deux-adultes-et-dun-enfant-emportes-par-une-vague-a-pors-loubous-plogoff-29/', 'https://www.dreuz.info/2022/05/invasion-de-lukraine-la-suisse-neutre-se-rapproche-de-lotan-264475.html'] tensor([1., 0., 0., 0.], dtype=torch.float64)\n",
      "101 ['https://www.francesoir.fr/opinions-entretiens/jean-marc-sabatier-partie-3', 'https://www.francesoir.fr/opinions-tribunes/chronique-93', 'https://lemediaen442.fr/le-bras-droit-du-president-macron-alexis-kohler-mis-en-examen-pour-prise-illegale-dinterets/', 'https://www.breizh-info.com/2020/05/16/143858/rennes-vols-commerciaux-aeroport/'] tensor([1., 1., 0., 0.], dtype=torch.float64)\n",
      "102 ['https://www.wikistrike.com/2022/07/ursula-von-der-leyen-ne-retrouve-plus-ses-sms-adresses-a-bourla-patron-de-pfizer.html', 'https://www.wikistrike.com/2022/08/la-cabale-mondialiste-promeut-un-regime-a-base-d-insectes-et-de-cannibalisme.html', 'https://fr.sott.net/article/40046-OTAN-quand-la-Finlande-declare-la-guerre', 'https://lesdeqodeurs.fr/les-6-armes-du-controle-generalise/'] tensor([1., 1., 1., 1.], dtype=torch.float64)\n",
      "103 ['https://www.francesoir.fr/politique-monde/vaccination-covid-largentine-indemnise-victimes-effets-indesirables', 'https://www.francesoir.fr/politique-france/revolution-francaise-tot-ou-tard-chercheur-chinois', 'https://lesdeqodeurs.fr/a-propos-de-ces-comptes-bot-twitter/', 'https://lesdeqodeurs.fr/quest-ce-que-mongodb-et-comment-est-il-entre-en-jeu-dans-la-revelation-lors-de-levenement-organise-par-true-the-vote/'] tensor([0., 1., 1., 1.], dtype=torch.float64)\n",
      "104 ['https://www.breizh-info.com/2022/08/25/207089/zemmour-ruffin-police-medef-a-part-ca-tout-va-bien/', 'https://www.francesoir.fr/politique-france/course-karting-prison-fresnes-moretti-ordonne-enquete', 'https://lemediaen442.fr/vladimir-poutine-annonce-que-leconomie-de-la-russie-sameliore-avec-un-chomage-historiquement-bas-a-39/', 'https://www.wikistrike.com/2022/04/un-groupe-secret-finance-par-soros-travaille-en-coulisses-avec-l-administration-biden-sur-la-politique-selon-des-documents.html'] tensor([0., 0., 0., 1.], dtype=torch.float64)\n",
      "105 ['https://lesdeqodeurs.fr/le-code-derreur-de-dominion-est-decouvert-dans-97-des-comtes-de-georgie/', 'https://www.francesoir.fr/societe-sante/le-maire-de-cholet-demissionne-du-conseil-de-surveillance-de-l-hopital-public', 'https://reseauinternational.net/enedis-autorise-a-couper-des-ballons-deau-chaude-a-certaines-heures-via-linky/', 'https://lesmoutonsrebelles.com/piers-corbyn-astrophysicien-et-meteorologue-affirme-que-les-fanatiques-du-climat-sont-des-acharnes-en-quete-dargent/'] tensor([1., 0., 0., 1.], dtype=torch.float64)\n",
      "106 ['https://www.francesoir.fr/insecurite-agressions-des-francais-quittent-hexagone-par-depit', 'https://www.francesoir.fr/opinions-tribunes/pourquoi-travailler-pour-francesoir-laurence-beneux', 'https://www.lelibrepenseur.org/bill-gates-continue-de-manipuler-loms-avec-ses-milliards/', 'https://lezarceleurs.blogspot.com/2022/09/mort-32-ans-on-pense-au-vaccin.html'] tensor([1., 0., 1., 1.], dtype=torch.float64)\n",
      "107 ['https://www.lesalonbeige.fr/ils-voient-dun-mauvais-oeil-cette-invasion-des-blancs/', 'https://lemediaen442.fr/marcel-d-vous-explique-en-4-4-2-qui-est-reellement-vladimir-poutine/', 'https://www.francesoir.fr/politique-france/guerre-ukraine-macron-previent-les-francais-vont-payer-prix-liberte', 'https://fr.sott.net/article/40029-Guerre-en-Ukraine-les-seize-preuves-de-l-entiere-responsabilite-de-l-Amerique'] tensor([0., 1., 0., 1.], dtype=torch.float64)\n",
      "108 ['https://lesmoutonsrebelles.com/la-variole-du-singe-trompe-moi-deux-fois-honte-a-moi/', 'https://www.wikistrike.com/2022/06/les-deux-deputes-de-lfi-raquel-garrido-et-alexis-corbiere-emploient-une-femme-de-menage-sans-titre-de-sejour-et-soumise-a-des-cadences-infernales.html', 'https://lemediaen442.fr/la-russie-nest-pas-isolee-un-important-sommet-sest-tenu-en-presence-de-poutine-avec-raissi-iran-et-erdogan-turquie/', 'https://www.francesoir.fr/societe-environnement/le-costa-rica-exemple-en-matiere-de-reforestation'] tensor([1., 1., 0., 0.], dtype=torch.float64)\n",
      "109 ['https://www.breizh-info.com/2022/04/15/184984/piscine-voile-ramadan-scenes-de-la-vie-ordinaire-dans-un-prestigieux-lycee-breton/', 'https://www.francesoir.fr/politique-france/ukraine-la-chaine-americaine-cbs-censure-son-documentaire', 'https://lesdeqodeurs.fr/la-space-force-prend-en-charge-toutes-les-communications-militaires-par-satellite/', 'https://www.lesalonbeige.fr/fin-de-labondance-ou-ruine-deliberee%e2%80%89/'] tensor([1., 0., 0., 0.], dtype=torch.float64)\n",
      "110 ['https://www.wikistrike.com/2022/05/burkini-dans-les-piscines-le-pavillon-islamique-hisse.html', 'https://www.nouvelordremondial.cc/2022/09/16/immortalite-quantique-je-suis-morte-mais-je-me-suis-reveillee-dans-une-realite-differente/', 'https://lesmoutonsrebelles.com/quest-ce-que-le-grand-reset-et-que-veulent-reellement-les-globalistes/', 'https://www.wikistrike.com/2022/09/11-septembre-2001-la-theorie-du-complot-pirate.html'] tensor([0., 1., 1., 1.], dtype=torch.float64)\n",
      "111 ['https://lesdeqodeurs.fr/une-nouvelle-etude-montre-que-presque-tout-le-monde-subit-des-dommages-cardiaques-a-cause-des-vaccins-covid/', 'https://www.nouvelordremondial.cc/2022/09/29/les-ventes-de-fausse-viande-chutent-en-raison-de-la-hausse-des-prix-et-des-messages-wokistes/', 'https://www.breizh-info.com/2022/06/13/187989/covid-origines-virus-se-precisent-wuhan/', 'https://lesdeqodeurs.fr/le-president-trump-dece-la-corruption-de-la-machine-obama/'] tensor([1., 0., 1., 1.], dtype=torch.float64)\n",
      "112 ['https://www.lesalonbeige.fr/la-relation-malaisee-et-contrainte-que-le-president-de-la-republique-entretient-avec-le-peuple/', 'https://lesobservateurs.ch/2022/07/09/lavrov-si-loccident-ne-saccommode-pas-dune-defaite-en-ukraine-il-na-rien-a-negocier-avec-la-russie/', 'https://www.voltairenet.org/article217398.html', 'https://www.francesoir.fr/opinions-entretiens/jean-pierre-joseph-enquete-sur-le-graphene-dans-les-masques'] tensor([0., 1., 1., 1.], dtype=torch.float64)\n",
      "113 ['https://lezarceleurs.blogspot.com/2022/05/controler-la-planete-travers-loms-le.html', 'https://www.wikistrike.com/2022/06/une-mission-archeologique-egyptienne-met-au-jour-le-plus-grand-ensemble-de-statues-de-bronze-jamais-trouve-a-saqqarah.html', 'https://www.wikistrike.com/2022/05/l-echec-avere-des-vaccins-covid.html'] tensor([1., 0., 1.], dtype=torch.float64)\n"
     ]
    }
   ],
   "source": [
    "for i_batch, sample_batched in enumerate(dataloader):\n",
    "    print(i_batch, sample_batched['url'],\n",
    "          sample_batched['infox'])"
   ]
  },
  {
   "cell_type": "code",
   "execution_count": 15,
   "id": "da3406bd",
   "metadata": {},
   "outputs": [],
   "source": []
  },
  {
   "cell_type": "code",
   "execution_count": 16,
   "id": "8269dc60",
   "metadata": {},
   "outputs": [],
   "source": [
    "import patat.ml.lex_analyser\n",
    "lex = patat.ml.lex_analyser.LexAnalyser()"
   ]
  },
  {
   "cell_type": "code",
   "execution_count": 52,
   "id": "ae7a742d",
   "metadata": {},
   "outputs": [],
   "source": [
    "from torchtext.data.utils import get_tokenizer\n",
    "from torchtext.vocab import build_vocab_from_iterator\n",
    "\n",
    "def tokignore(text):\n",
    "    result = []\n",
    "    lemmas = lex.get_lemmas_from_text(text)\n",
    "    for lemma in lemmas:\n",
    "        if lemma not in ignore_lemmas:\n",
    "            result.append(lemma)\n",
    "    return result\n",
    "\n",
    "tokenizer = tokignore\n",
    "#tokenizer = lex.get_lemmas_from_text\n",
    "\n",
    "def yield_tokens(data_iter):\n",
    "    for row in data_iter:\n",
    "        yield tokenizer(row['text'])"
   ]
  },
  {
   "cell_type": "code",
   "execution_count": 53,
   "id": "a3c47a61",
   "metadata": {},
   "outputs": [],
   "source": [
    "corpus_iter = iter(ds)"
   ]
  },
  {
   "cell_type": "code",
   "execution_count": 54,
   "id": "7c8a73fe",
   "metadata": {},
   "outputs": [],
   "source": [
    "vocab = build_vocab_from_iterator(yield_tokens(corpus_iter), specials=[\"<unk>\"])\n",
    "vocab.set_default_index(vocab[\"<unk>\"])"
   ]
  },
  {
   "cell_type": "code",
   "execution_count": 55,
   "id": "49010a9d",
   "metadata": {},
   "outputs": [],
   "source": [
    "#vocab = build_vocab_from_iterator(yield_tokens(corpus_iter))"
   ]
  },
  {
   "cell_type": "code",
   "execution_count": 56,
   "id": "14cb5943",
   "metadata": {},
   "outputs": [
    {
     "data": {
      "text/plain": [
       "8340"
      ]
     },
     "execution_count": 56,
     "metadata": {},
     "output_type": "execute_result"
    }
   ],
   "source": [
    "len(vocab)"
   ]
  },
  {
   "cell_type": "code",
   "execution_count": 57,
   "id": "5dc9e8b5",
   "metadata": {},
   "outputs": [],
   "source": [
    "def text_pipeline(text):\n",
    "    return vocab(tokenizer(text))"
   ]
  },
  {
   "cell_type": "code",
   "execution_count": 58,
   "id": "a5763f39",
   "metadata": {},
   "outputs": [],
   "source": [
    "def label_pipeline(x):\n",
    "    return int(x) - 1"
   ]
  },
  {
   "cell_type": "code",
   "execution_count": 60,
   "id": "9b2f1d21",
   "metadata": {},
   "outputs": [
    {
     "data": {
      "text/plain": [
       "[616, 30, 600]"
      ]
     },
     "execution_count": 60,
     "metadata": {},
     "output_type": "execute_result"
    }
   ],
   "source": [
    "text_pipeline('ET voici encore un autre essai')"
   ]
  },
  {
   "cell_type": "code",
   "execution_count": 61,
   "id": "d3668ee2",
   "metadata": {},
   "outputs": [],
   "source": [
    "from torch import nn\n",
    "\n",
    "class TextClassificationModel(nn.Module):\n",
    "\n",
    "    def __init__(self, vocab_size, embed_dim, num_class):\n",
    "        super(TextClassificationModel, self).__init__()\n",
    "        self.embedding = nn.EmbeddingBag(vocab_size, embed_dim, sparse=True)\n",
    "        self.fc = nn.Linear(embed_dim, num_class)\n",
    "        self.init_weights()\n",
    "\n",
    "    def init_weights(self):\n",
    "        initrange = 0.5\n",
    "        self.embedding.weight.data.uniform_(-initrange, initrange)\n",
    "        self.fc.weight.data.uniform_(-initrange, initrange)\n",
    "        self.fc.bias.data.zero_()\n",
    "\n",
    "    def forward(self, text, offsets):\n",
    "        embedded = self.embedding(text, offsets)\n",
    "        return self.fc(embedded)"
   ]
  },
  {
   "cell_type": "code",
   "execution_count": 62,
   "id": "1b794a97",
   "metadata": {},
   "outputs": [],
   "source": [
    "device = torch.device(\"cuda\" if torch.cuda.is_available() else \"cpu\")\n",
    "train_iter = corpus_iter\n",
    "#num_class = len(set([label for (label, text) in train_iter]))\n",
    "num_class = 1\n",
    "vocab_size = len(vocab)\n",
    "emsize = 64\n",
    "model = TextClassificationModel(vocab_size, emsize, num_class).to(device)"
   ]
  },
  {
   "cell_type": "code",
   "execution_count": 63,
   "id": "f1a628ca",
   "metadata": {},
   "outputs": [],
   "source": [
    "def collate_batch(batch):\n",
    "    label_list, text_list, offsets = [], [], [0]\n",
    "    for (_label, _text) in batch:\n",
    "         label_list.append(label_pipeline(_label))\n",
    "         processed_text = torch.tensor(text_pipeline(_text), dtype=torch.int64)\n",
    "         text_list.append(processed_text)\n",
    "         offsets.append(processed_text.size(0))\n",
    "    label_list = torch.tensor(label_list, dtype=torch.int64)\n",
    "    offsets = torch.tensor(offsets[:-1]).cumsum(dim=0)\n",
    "    text_list = torch.cat(text_list)\n",
    "    return label_list.to(device), text_list.to(device), offsets.to(device)\n",
    "\n",
    "train_iter = iter(ds[:350])\n",
    "dataloader = DataLoader(train_iter, batch_size=8, shuffle=False, collate_fn=collate_batch)"
   ]
  },
  {
   "cell_type": "code",
   "execution_count": 82,
   "id": "700dc1c4",
   "metadata": {},
   "outputs": [],
   "source": [
    "import time\n",
    "\n",
    "def train(dataloader):\n",
    "    model.train()\n",
    "    total_acc = 0\n",
    "    total_count = 0\n",
    "    log_interval = 500\n",
    "    start_time = time.time()\n",
    "\n",
    "    for idx, (label, text, offsets) in enumerate(dataloader):\n",
    "        optimizer.zero_grad()\n",
    "        predicted_label = model(text, offsets)\n",
    "        loss = criterion(predicted_label, label)\n",
    "        loss.backward()\n",
    "        torch.nn.utils.clip_grad_norm_(model.parameters(), 0.1)\n",
    "        optimizer.step()\n",
    "        total_acc += (predicted_label.argmax(1) == label).sum().item()\n",
    "        total_count += label.size(0)\n",
    "        if idx % log_interval == 0 and idx > 0:\n",
    "            elapsed = time.time() - start_time\n",
    "            print('| epoch {:3d} | {:5d}/{:5d} batches '\n",
    "                  '| accuracy {:8.3f}'.format(epoch, idx, len(dataloader),\n",
    "                                              total_acc/total_count))\n",
    "            total_acc, total_count = 0, 0\n",
    "            start_time = time.time()\n",
    "\n",
    "def evaluate(dataloader):\n",
    "    model.eval()\n",
    "    total_acc, total_count = 0, 0\n",
    "\n",
    "    with torch.no_grad():\n",
    "        for idx, (label, text, offsets) in enumerate(dataloader):\n",
    "            predicted_label = model(text, offsets)\n",
    "            loss = criterion(predicted_label, label)\n",
    "            total_acc += (predicted_label.argmax(1) == label).sum().item()\n",
    "            total_count += label.size(0)\n",
    "    return total_acc/total_count"
   ]
  },
  {
   "cell_type": "code",
   "execution_count": 83,
   "id": "f98c5ef6",
   "metadata": {},
   "outputs": [],
   "source": [
    "train_iter = iter(ds[:350])\n",
    "test_iter = iter(ds[351:])\n",
    "train_dataset = to_map_style_dataset(train_iter)\n",
    "test_dataset = to_map_style_dataset(test_iter)\n",
    "num_train = int(len(train_dataset) * 0.95)\n",
    "split_train_, split_valid_ = random_split(train_dataset, [num_train, len(train_dataset) - num_train])"
   ]
  },
  {
   "cell_type": "code",
   "execution_count": 84,
   "id": "b8562f3e",
   "metadata": {},
   "outputs": [
    {
     "ename": "TypeError",
     "evalue": "forward() missing 1 required positional argument: 'offsets'",
     "output_type": "error",
     "traceback": [
      "\u001b[0;31m---------------------------------------------------------------------------\u001b[0m",
      "\u001b[0;31mTypeError\u001b[0m                                 Traceback (most recent call last)",
      "Input \u001b[0;32mIn [84]\u001b[0m, in \u001b[0;36m<cell line: 29>\u001b[0;34m()\u001b[0m\n\u001b[1;32m     29\u001b[0m \u001b[38;5;28;01mfor\u001b[39;00m epoch \u001b[38;5;129;01min\u001b[39;00m \u001b[38;5;28mrange\u001b[39m(\u001b[38;5;241m1\u001b[39m, EPOCHS \u001b[38;5;241m+\u001b[39m \u001b[38;5;241m1\u001b[39m):\n\u001b[1;32m     30\u001b[0m     epoch_start_time \u001b[38;5;241m=\u001b[39m time\u001b[38;5;241m.\u001b[39mtime()\n\u001b[0;32m---> 31\u001b[0m     \u001b[43mtrain\u001b[49m\u001b[43m(\u001b[49m\u001b[43mtrain_dataloader\u001b[49m\u001b[43m)\u001b[49m\n\u001b[1;32m     32\u001b[0m     accu_val \u001b[38;5;241m=\u001b[39m evaluate(valid_dataloader)\n\u001b[1;32m     33\u001b[0m     \u001b[38;5;28;01mif\u001b[39;00m total_accu \u001b[38;5;129;01mis\u001b[39;00m \u001b[38;5;129;01mnot\u001b[39;00m \u001b[38;5;28;01mNone\u001b[39;00m \u001b[38;5;129;01mand\u001b[39;00m total_accu \u001b[38;5;241m>\u001b[39m accu_val:\n",
      "Input \u001b[0;32mIn [82]\u001b[0m, in \u001b[0;36mtrain\u001b[0;34m(dataloader)\u001b[0m\n\u001b[1;32m     10\u001b[0m \u001b[38;5;28;01mfor\u001b[39;00m idx, (label, text) \u001b[38;5;129;01min\u001b[39;00m \u001b[38;5;28menumerate\u001b[39m(dataloader):\n\u001b[1;32m     11\u001b[0m     optimizer\u001b[38;5;241m.\u001b[39mzero_grad()\n\u001b[0;32m---> 12\u001b[0m     predicted_label \u001b[38;5;241m=\u001b[39m \u001b[43mmodel\u001b[49m\u001b[43m(\u001b[49m\u001b[43mtext\u001b[49m\u001b[43m)\u001b[49m\n\u001b[1;32m     13\u001b[0m     loss \u001b[38;5;241m=\u001b[39m criterion(predicted_label, label)\n\u001b[1;32m     14\u001b[0m     loss\u001b[38;5;241m.\u001b[39mbackward()\n",
      "File \u001b[0;32m~/Desktop/Work/Patat/patat-env/lib/python3.9/site-packages/torch/nn/modules/module.py:1190\u001b[0m, in \u001b[0;36mModule._call_impl\u001b[0;34m(self, *input, **kwargs)\u001b[0m\n\u001b[1;32m   1186\u001b[0m \u001b[38;5;66;03m# If we don't have any hooks, we want to skip the rest of the logic in\u001b[39;00m\n\u001b[1;32m   1187\u001b[0m \u001b[38;5;66;03m# this function, and just call forward.\u001b[39;00m\n\u001b[1;32m   1188\u001b[0m \u001b[38;5;28;01mif\u001b[39;00m \u001b[38;5;129;01mnot\u001b[39;00m (\u001b[38;5;28mself\u001b[39m\u001b[38;5;241m.\u001b[39m_backward_hooks \u001b[38;5;129;01mor\u001b[39;00m \u001b[38;5;28mself\u001b[39m\u001b[38;5;241m.\u001b[39m_forward_hooks \u001b[38;5;129;01mor\u001b[39;00m \u001b[38;5;28mself\u001b[39m\u001b[38;5;241m.\u001b[39m_forward_pre_hooks \u001b[38;5;129;01mor\u001b[39;00m _global_backward_hooks\n\u001b[1;32m   1189\u001b[0m         \u001b[38;5;129;01mor\u001b[39;00m _global_forward_hooks \u001b[38;5;129;01mor\u001b[39;00m _global_forward_pre_hooks):\n\u001b[0;32m-> 1190\u001b[0m     \u001b[38;5;28;01mreturn\u001b[39;00m \u001b[43mforward_call\u001b[49m\u001b[43m(\u001b[49m\u001b[38;5;241;43m*\u001b[39;49m\u001b[38;5;28;43minput\u001b[39;49m\u001b[43m,\u001b[49m\u001b[43m \u001b[49m\u001b[38;5;241;43m*\u001b[39;49m\u001b[38;5;241;43m*\u001b[39;49m\u001b[43mkwargs\u001b[49m\u001b[43m)\u001b[49m\n\u001b[1;32m   1191\u001b[0m \u001b[38;5;66;03m# Do not call functions when jit is used\u001b[39;00m\n\u001b[1;32m   1192\u001b[0m full_backward_hooks, non_full_backward_hooks \u001b[38;5;241m=\u001b[39m [], []\n",
      "\u001b[0;31mTypeError\u001b[0m: forward() missing 1 required positional argument: 'offsets'"
     ]
    }
   ],
   "source": [
    "from torch.utils.data.dataset import random_split\n",
    "from torchtext.data.functional import to_map_style_dataset\n",
    "# Hyperparameters\n",
    "EPOCHS = 10 # epoch\n",
    "LR = 5  # learning rate\n",
    "BATCH_SIZE = 64 # batch size for training\n",
    "\n",
    "criterion = torch.nn.CrossEntropyLoss()\n",
    "optimizer = torch.optim.SGD(model.parameters(), lr=LR)\n",
    "scheduler = torch.optim.lr_scheduler.StepLR(optimizer, 1.0, gamma=0.1)\n",
    "total_accu = None\n",
    "#train_iter, test_iter = iter(ds)\n",
    "split_train_\n",
    "split_valid_\n",
    "\n",
    "train_iter = iter(ds[:350])\n",
    "test_iter = iter(ds[351:])\n",
    "train_dataset = to_map_style_dataset(train_iter)\n",
    "test_dataset = to_map_style_dataset(test_iter)\n",
    "num_train = int(len(train_dataset) * 0.95)\n",
    "split_train_, split_valid_ = random_split(train_dataset, [num_train, len(train_dataset) - num_train])\n",
    "\n",
    "\n",
    "#train_dataloader = DataLoader(split_train_, batch_size=BATCH_SIZE,shuffle=True, collate_fn=collate_batch)\n",
    "train_dataloader = DataLoader(split_train_, batch_size=BATCH_SIZE,shuffle=True)\n",
    "valid_dataloader = DataLoader(split_valid_, batch_size=BATCH_SIZE,shuffle=True)\n",
    "test_dataloader = DataLoader(test_dataset, batch_size=BATCH_SIZE,shuffle=True)\n",
    "\n",
    "for epoch in range(1, EPOCHS + 1):\n",
    "    epoch_start_time = time.time()\n",
    "    train(train_dataloader)\n",
    "    accu_val = evaluate(valid_dataloader)\n",
    "    if total_accu is not None and total_accu > accu_val:\n",
    "      scheduler.step()\n",
    "    else:\n",
    "       total_accu = accu_val\n",
    "    print('-' * 59)\n",
    "    print('| end of epoch {:3d} | time: {:5.2f}s | '\n",
    "          'valid accuracy {:8.3f} '.format(epoch,\n",
    "                                           time.time() - epoch_start_time,\n",
    "                                           accu_val))\n",
    "    print('-' * 59)"
   ]
  },
  {
   "cell_type": "markdown",
   "id": "ba0834f1",
   "metadata": {},
   "source": [
    "# Mesure et observation des résultats\n",
    "---"
   ]
  },
  {
   "cell_type": "code",
   "execution_count": null,
   "id": "2a4d001a",
   "metadata": {},
   "outputs": [],
   "source": []
  },
  {
   "cell_type": "markdown",
   "id": "76996d3a",
   "metadata": {},
   "source": [
    "# Sauvegarde des résultats\n",
    "---"
   ]
  },
  {
   "cell_type": "markdown",
   "id": "fb7949bc",
   "metadata": {},
   "source": [
    "# Conclusions\n",
    "---"
   ]
  },
  {
   "cell_type": "markdown",
   "id": "bd06b261",
   "metadata": {},
   "source": [
    "- ..."
   ]
  },
  {
   "cell_type": "markdown",
   "id": "bd360655",
   "metadata": {},
   "source": [
    "# Bricolages\n",
    "---"
   ]
  },
  {
   "cell_type": "code",
   "execution_count": 86,
   "id": "97a4bb41",
   "metadata": {},
   "outputs": [
    {
     "name": "stdout",
     "output_type": "stream",
     "text": [
      "0 a\n",
      "1 b\n",
      "2 c\n"
     ]
    }
   ],
   "source": [
    "values = ['a','b','c']\n",
    "for i,val in enumerate(values):\n",
    "    print(i,val)"
   ]
  },
  {
   "cell_type": "code",
   "execution_count": null,
   "id": "238a0342",
   "metadata": {},
   "outputs": [],
   "source": []
  }
 ],
 "metadata": {
  "kernelspec": {
   "display_name": "Python 3 (ipykernel)",
   "language": "python",
   "name": "python3"
  },
  "language_info": {
   "codemirror_mode": {
    "name": "ipython",
    "version": 3
   },
   "file_extension": ".py",
   "mimetype": "text/x-python",
   "name": "python",
   "nbconvert_exporter": "python",
   "pygments_lexer": "ipython3",
   "version": "3.9.13"
  }
 },
 "nbformat": 4,
 "nbformat_minor": 5
}
