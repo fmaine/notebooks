{
 "cells": [
  {
   "cell_type": "markdown",
   "id": "e3ec4689",
   "metadata": {},
   "source": [
    "# Plateforme Agnostique de Traitement et d'Analyse des Textes\n",
    "### Carnet d'expérimentation\n",
    "---\n",
    "\n",
    "## Sujet : Theme  : Recherche de lemmes clefs\n",
    "\n",
    "\n",
    "---"
   ]
  },
  {
   "cell_type": "markdown",
   "id": "2601e626",
   "metadata": {},
   "source": [
    "## Observations et environnement\n",
    "---"
   ]
  },
  {
   "cell_type": "code",
   "execution_count": 1,
   "id": "5d0de4d7",
   "metadata": {},
   "outputs": [
    {
     "name": "stdout",
     "output_type": "stream",
     "text": [
      "/Users/fm/Desktop/Work/Patat\n"
     ]
    }
   ],
   "source": [
    "cd ../.."
   ]
  },
  {
   "cell_type": "code",
   "execution_count": 2,
   "id": "32256b0d",
   "metadata": {},
   "outputs": [],
   "source": [
    "import importlib\n",
    "import pandas as pd\n",
    "import seaborn as sns"
   ]
  },
  {
   "cell_type": "markdown",
   "id": "29618668",
   "metadata": {},
   "source": [
    "### Chargement des données"
   ]
  },
  {
   "cell_type": "code",
   "execution_count": 3,
   "id": "2f80b2c0",
   "metadata": {},
   "outputs": [],
   "source": [
    "article_filename = ''"
   ]
  },
  {
   "cell_type": "code",
   "execution_count": 4,
   "id": "05cde00c",
   "metadata": {},
   "outputs": [
    {
     "data": {
      "text/html": [
       "<div>\n",
       "<style scoped>\n",
       "    .dataframe tbody tr th:only-of-type {\n",
       "        vertical-align: middle;\n",
       "    }\n",
       "\n",
       "    .dataframe tbody tr th {\n",
       "        vertical-align: top;\n",
       "    }\n",
       "\n",
       "    .dataframe thead th {\n",
       "        text-align: right;\n",
       "    }\n",
       "</style>\n",
       "<table border=\"1\" class=\"dataframe\">\n",
       "  <thead>\n",
       "    <tr style=\"text-align: right;\">\n",
       "      <th></th>\n",
       "      <th>url</th>\n",
       "      <th>title</th>\n",
       "      <th>article</th>\n",
       "      <th>site</th>\n",
       "      <th>author</th>\n",
       "      <th>date_iso</th>\n",
       "      <th>url_h</th>\n",
       "      <th>c_count</th>\n",
       "    </tr>\n",
       "  </thead>\n",
       "  <tbody>\n",
       "    <tr>\n",
       "      <th>0</th>\n",
       "      <td>https://reseauinternational.net/tous-les-jeune...</td>\n",
       "      <td>Tous les jeunes, portez la nouvelle (russe)</td>\n",
       "      <td>par Pepe Escobar.\\nL’OCS à Samarcande et l’Ass...</td>\n",
       "      <td>reseauinternational.net</td>\n",
       "      <td>NaN</td>\n",
       "      <td>2022-09-30T00:00:00</td>\n",
       "      <td>f95a294c94ff76cc9626ae06300a8b38067f89cf</td>\n",
       "      <td>10366.0</td>\n",
       "    </tr>\n",
       "    <tr>\n",
       "      <th>1</th>\n",
       "      <td>https://reseauinternational.net/adhesion-a-la-...</td>\n",
       "      <td>Adhésion à la Russie : 93% pour le « oui » dan...</td>\n",
       "      <td>Dans les régions de Zaporijia et de Kherson, 9...</td>\n",
       "      <td>reseauinternational.net</td>\n",
       "      <td>NaN</td>\n",
       "      <td>2022-09-30T00:00:00</td>\n",
       "      <td>c924dab7ded47578d81c3ae46f8be0964b3c50f1</td>\n",
       "      <td>1607.0</td>\n",
       "    </tr>\n",
       "    <tr>\n",
       "      <th>2</th>\n",
       "      <td>https://lemediaen442.fr/onu-le-premier-ministr...</td>\n",
       "      <td>ONU – Le Premier ministre de Nouvelle-Zélande ...</td>\n",
       "      <td>L’argument principal de la ministre est que le...</td>\n",
       "      <td>lemediaen442.fr</td>\n",
       "      <td>NaN</td>\n",
       "      <td>2022-09-29T00:00:00</td>\n",
       "      <td>3d47a59ef99274fd9ee96c209cc2ab41d6e1f6bb</td>\n",
       "      <td>1444.0</td>\n",
       "    </tr>\n",
       "    <tr>\n",
       "      <th>3</th>\n",
       "      <td>https://www.francesoir.fr/societe-environnemen...</td>\n",
       "      <td>Compostage humain: les “funérailles vertes” ga...</td>\n",
       "      <td>Aux États-Unis, les différents gouvernements r...</td>\n",
       "      <td>www.francesoir.fr</td>\n",
       "      <td>Auteur(s)\\nFranceSoir</td>\n",
       "      <td>2022-09-28T13:15:00</td>\n",
       "      <td>0c0341a1f5fae820ee307cb54024df6b06a93d85</td>\n",
       "      <td>4040.0</td>\n",
       "    </tr>\n",
       "    <tr>\n",
       "      <th>4</th>\n",
       "      <td>https://www.breizh-info.com/2022/09/27/208410/...</td>\n",
       "      <td>Donatello : génie de la Renaissance</td>\n",
       "      <td>Portrait du sculpteur Donatello (1386-1466), p...</td>\n",
       "      <td>www.breizh-info.com</td>\n",
       "      <td>NaN</td>\n",
       "      <td>2022-09-27T00:00:00</td>\n",
       "      <td>fcce819327d0302c4cf5e3a8a43b54327ffb8e63</td>\n",
       "      <td>1145.0</td>\n",
       "    </tr>\n",
       "    <tr>\n",
       "      <th>...</th>\n",
       "      <td>...</td>\n",
       "      <td>...</td>\n",
       "      <td>...</td>\n",
       "      <td>...</td>\n",
       "      <td>...</td>\n",
       "      <td>...</td>\n",
       "      <td>...</td>\n",
       "      <td>...</td>\n",
       "    </tr>\n",
       "    <tr>\n",
       "      <th>77906</th>\n",
       "      <td>https://www.lelibrepenseur.org/une-histoire-vi...</td>\n",
       "      <td>Une histoire vieille comme le monde !</td>\n",
       "      <td>Certains veulent des preuves ! Ils ont raison....</td>\n",
       "      <td>www.lelibrepenseur.org</td>\n",
       "      <td>Par\\nAdmin</td>\n",
       "      <td>2010-05-04T00:00:00</td>\n",
       "      <td>8c7a6ecf46d47da1912884a0c0a2837c69f7ad19</td>\n",
       "      <td>NaN</td>\n",
       "    </tr>\n",
       "    <tr>\n",
       "      <th>77907</th>\n",
       "      <td>https://www.lelibrepenseur.org/actus/</td>\n",
       "      <td>Actus</td>\n",
       "      <td>Dernière vidéo !\\nIl était temps, enfin ! Je v...</td>\n",
       "      <td>www.lelibrepenseur.org</td>\n",
       "      <td>Par\\nuser</td>\n",
       "      <td>2007-07-07T00:00:00</td>\n",
       "      <td>d4d5a37a8ff545664bea75664c8d8695e70d0941</td>\n",
       "      <td>NaN</td>\n",
       "    </tr>\n",
       "    <tr>\n",
       "      <th>77908</th>\n",
       "      <td>https://www.lelibrepenseur.org/affiche-des-dec...</td>\n",
       "      <td>Affiche des décès et malaises de sportifs de h...</td>\n",
       "      <td>Un nombre inquiétant de sportifs de haut nivea...</td>\n",
       "      <td>www.lelibrepenseur.org</td>\n",
       "      <td>NaN</td>\n",
       "      <td>NaN</td>\n",
       "      <td>a175027896cf79e76dfad6409694fafacf1919b3</td>\n",
       "      <td>NaN</td>\n",
       "    </tr>\n",
       "    <tr>\n",
       "      <th>77909</th>\n",
       "      <td>https://www.lelibrepenseur.org/communaute/</td>\n",
       "      <td>Communauté</td>\n",
       "      <td>Notre Réseau Telegram et ses Groupes Secondair...</td>\n",
       "      <td>www.lelibrepenseur.org</td>\n",
       "      <td>NaN</td>\n",
       "      <td>NaN</td>\n",
       "      <td>6ba257c7b15dd68cadf7dc5d6d8c584db0f1792e</td>\n",
       "      <td>NaN</td>\n",
       "    </tr>\n",
       "    <tr>\n",
       "      <th>77910</th>\n",
       "      <td>https://www.lelibrepenseur.org/utilisation-des...</td>\n",
       "      <td>Utilisation des cookies sur notre site</td>\n",
       "      <td>Que sont les cookies ?\\n\\n\\nLes cookies sont d...</td>\n",
       "      <td>www.lelibrepenseur.org</td>\n",
       "      <td>NaN</td>\n",
       "      <td>NaN</td>\n",
       "      <td>7c725113f0c9a95c8269c8d7a271d253ae5ede99</td>\n",
       "      <td>NaN</td>\n",
       "    </tr>\n",
       "  </tbody>\n",
       "</table>\n",
       "<p>77911 rows × 8 columns</p>\n",
       "</div>"
      ],
      "text/plain": [
       "                                                     url  \\\n",
       "0      https://reseauinternational.net/tous-les-jeune...   \n",
       "1      https://reseauinternational.net/adhesion-a-la-...   \n",
       "2      https://lemediaen442.fr/onu-le-premier-ministr...   \n",
       "3      https://www.francesoir.fr/societe-environnemen...   \n",
       "4      https://www.breizh-info.com/2022/09/27/208410/...   \n",
       "...                                                  ...   \n",
       "77906  https://www.lelibrepenseur.org/une-histoire-vi...   \n",
       "77907              https://www.lelibrepenseur.org/actus/   \n",
       "77908  https://www.lelibrepenseur.org/affiche-des-dec...   \n",
       "77909         https://www.lelibrepenseur.org/communaute/   \n",
       "77910  https://www.lelibrepenseur.org/utilisation-des...   \n",
       "\n",
       "                                                   title  \\\n",
       "0            Tous les jeunes, portez la nouvelle (russe)   \n",
       "1      Adhésion à la Russie : 93% pour le « oui » dan...   \n",
       "2      ONU – Le Premier ministre de Nouvelle-Zélande ...   \n",
       "3      Compostage humain: les “funérailles vertes” ga...   \n",
       "4                    Donatello : génie de la Renaissance   \n",
       "...                                                  ...   \n",
       "77906              Une histoire vieille comme le monde !   \n",
       "77907                                              Actus   \n",
       "77908  Affiche des décès et malaises de sportifs de h...   \n",
       "77909                                         Communauté   \n",
       "77910             Utilisation des cookies sur notre site   \n",
       "\n",
       "                                                 article  \\\n",
       "0      par Pepe Escobar.\\nL’OCS à Samarcande et l’Ass...   \n",
       "1      Dans les régions de Zaporijia et de Kherson, 9...   \n",
       "2      L’argument principal de la ministre est que le...   \n",
       "3      Aux États-Unis, les différents gouvernements r...   \n",
       "4      Portrait du sculpteur Donatello (1386-1466), p...   \n",
       "...                                                  ...   \n",
       "77906  Certains veulent des preuves ! Ils ont raison....   \n",
       "77907  Dernière vidéo !\\nIl était temps, enfin ! Je v...   \n",
       "77908  Un nombre inquiétant de sportifs de haut nivea...   \n",
       "77909  Notre Réseau Telegram et ses Groupes Secondair...   \n",
       "77910  Que sont les cookies ?\\n\\n\\nLes cookies sont d...   \n",
       "\n",
       "                          site                 author             date_iso  \\\n",
       "0      reseauinternational.net                    NaN  2022-09-30T00:00:00   \n",
       "1      reseauinternational.net                    NaN  2022-09-30T00:00:00   \n",
       "2              lemediaen442.fr                    NaN  2022-09-29T00:00:00   \n",
       "3            www.francesoir.fr  Auteur(s)\\nFranceSoir  2022-09-28T13:15:00   \n",
       "4          www.breizh-info.com                    NaN  2022-09-27T00:00:00   \n",
       "...                        ...                    ...                  ...   \n",
       "77906   www.lelibrepenseur.org             Par\\nAdmin  2010-05-04T00:00:00   \n",
       "77907   www.lelibrepenseur.org              Par\\nuser  2007-07-07T00:00:00   \n",
       "77908   www.lelibrepenseur.org                    NaN                  NaN   \n",
       "77909   www.lelibrepenseur.org                    NaN                  NaN   \n",
       "77910   www.lelibrepenseur.org                    NaN                  NaN   \n",
       "\n",
       "                                          url_h  c_count  \n",
       "0      f95a294c94ff76cc9626ae06300a8b38067f89cf  10366.0  \n",
       "1      c924dab7ded47578d81c3ae46f8be0964b3c50f1   1607.0  \n",
       "2      3d47a59ef99274fd9ee96c209cc2ab41d6e1f6bb   1444.0  \n",
       "3      0c0341a1f5fae820ee307cb54024df6b06a93d85   4040.0  \n",
       "4      fcce819327d0302c4cf5e3a8a43b54327ffb8e63   1145.0  \n",
       "...                                         ...      ...  \n",
       "77906  8c7a6ecf46d47da1912884a0c0a2837c69f7ad19      NaN  \n",
       "77907  d4d5a37a8ff545664bea75664c8d8695e70d0941      NaN  \n",
       "77908  a175027896cf79e76dfad6409694fafacf1919b3      NaN  \n",
       "77909  6ba257c7b15dd68cadf7dc5d6d8c584db0f1792e      NaN  \n",
       "77910  7c725113f0c9a95c8269c8d7a271d253ae5ede99      NaN  \n",
       "\n",
       "[77911 rows x 8 columns]"
      ]
     },
     "execution_count": 4,
     "metadata": {},
     "output_type": "execute_result"
    }
   ],
   "source": [
    "import patat.db.article_db\n",
    "article_db = patat.db.article_db.ArticleDb(article_filename)\n",
    "article_db.df()"
   ]
  },
  {
   "cell_type": "markdown",
   "id": "26de4d29",
   "metadata": {},
   "source": [
    "## Expérience\n",
    "---"
   ]
  },
  {
   "cell_type": "code",
   "execution_count": 5,
   "id": "3300fd3b",
   "metadata": {},
   "outputs": [],
   "source": [
    "df_corpus =article_db.df().copy()"
   ]
  },
  {
   "cell_type": "markdown",
   "id": "e7356678",
   "metadata": {},
   "source": [
    "### texte = titre + article en minuscules"
   ]
  },
  {
   "cell_type": "code",
   "execution_count": 6,
   "id": "5b09fef1",
   "metadata": {},
   "outputs": [],
   "source": [
    "df_corpus['text'] = df_corpus['title'] + '\\n' + df_corpus['article']"
   ]
  },
  {
   "cell_type": "code",
   "execution_count": 7,
   "id": "4175568c",
   "metadata": {},
   "outputs": [],
   "source": [
    "df_corpus['text'] = df_corpus['text'].apply(str.lower)"
   ]
  },
  {
   "cell_type": "markdown",
   "id": "ded65672",
   "metadata": {},
   "source": [
    "### Suppression Articles courts et longs"
   ]
  },
  {
   "cell_type": "code",
   "execution_count": 8,
   "id": "90ef3ff4",
   "metadata": {},
   "outputs": [],
   "source": [
    "df_corpus['c_count'] = df_corpus['text'].apply(len)"
   ]
  },
  {
   "cell_type": "code",
   "execution_count": 9,
   "id": "0221bdbc",
   "metadata": {},
   "outputs": [],
   "source": [
    "df_corpus = df_corpus[df_corpus['c_count']<20000]"
   ]
  },
  {
   "cell_type": "code",
   "execution_count": 10,
   "id": "d31f92f2",
   "metadata": {},
   "outputs": [],
   "source": [
    "df_corpus = df_corpus[df_corpus['c_count']>=500]"
   ]
  },
  {
   "cell_type": "code",
   "execution_count": 11,
   "id": "b0e38c29",
   "metadata": {},
   "outputs": [
    {
     "data": {
      "text/plain": [
       "<seaborn.axisgrid.FacetGrid at 0x10729cbe0>"
      ]
     },
     "execution_count": 11,
     "metadata": {},
     "output_type": "execute_result"
    },
    {
     "data": {
      "image/png": "[encoded data removed]",
      "text/plain": [
       "<Figure size 360x360 with 1 Axes>"
      ]
     },
     "metadata": {
      "needs_background": "light"
     },
     "output_type": "display_data"
    }
   ],
   "source": [
    "sns.displot(df_corpus,x='c_count')"
   ]
  },
  {
   "cell_type": "code",
   "execution_count": 12,
   "id": "8b7f6874",
   "metadata": {},
   "outputs": [
    {
     "data": {
      "text/plain": [
       "(76602, 9)"
      ]
     },
     "execution_count": 12,
     "metadata": {},
     "output_type": "execute_result"
    }
   ],
   "source": [
    "df_corpus.shape"
   ]
  },
  {
   "cell_type": "markdown",
   "id": "44e86d30",
   "metadata": {},
   "source": [
    "### Lemmatization Corpus"
   ]
  },
  {
   "cell_type": "code",
   "execution_count": 13,
   "id": "cd8553ce",
   "metadata": {},
   "outputs": [],
   "source": [
    "from patat.ml.lex_analyser import LexAnalyser"
   ]
  },
  {
   "cell_type": "code",
   "execution_count": 14,
   "id": "b4acf8ca",
   "metadata": {},
   "outputs": [],
   "source": [
    "lex = LexAnalyser()"
   ]
  },
  {
   "cell_type": "code",
   "execution_count": 15,
   "id": "19e42b4e",
   "metadata": {},
   "outputs": [],
   "source": [
    "df_corpus['w_list'] = df_corpus['text'].apply(lex.get_words).copy()"
   ]
  },
  {
   "cell_type": "code",
   "execution_count": 16,
   "id": "3762b515",
   "metadata": {},
   "outputs": [],
   "source": [
    "df_corpus['l_list'] = df_corpus['w_list'].apply(lex.get_lemmas).copy()"
   ]
  },
  {
   "cell_type": "code",
   "execution_count": 17,
   "id": "6627e2a1",
   "metadata": {},
   "outputs": [],
   "source": [
    "df_corpus['w_count'] = df_corpus['w_list'].apply(len) "
   ]
  },
  {
   "cell_type": "code",
   "execution_count": 18,
   "id": "77f22de7",
   "metadata": {},
   "outputs": [
    {
     "data": {
      "text/plain": [
       "<seaborn.axisgrid.FacetGrid at 0x16973a820>"
      ]
     },
     "execution_count": 18,
     "metadata": {},
     "output_type": "execute_result"
    },
    {
     "data": {
      "image/png": "[encoded data removed]",
      "text/plain": [
       "<Figure size 500x500 with 1 Axes>"
      ]
     },
     "metadata": {},
     "output_type": "display_data"
    }
   ],
   "source": [
    "sns.displot(df_corpus,x='w_count')"
   ]
  },
  {
   "cell_type": "markdown",
   "id": "b4c3f644",
   "metadata": {},
   "source": [
    "### Choix du thème et des mots associés"
   ]
  },
  {
   "cell_type": "markdown",
   "id": "664e53fd",
   "metadata": {},
   "source": [
    "#### Covid"
   ]
  },
  {
   "cell_type": "code",
   "execution_count": 19,
   "id": "c4b42a41",
   "metadata": {},
   "outputs": [],
   "source": [
    "theme_lemmas = lex.get_lemmas(['covid','vaccin','vaccination'])"
   ]
  },
  {
   "cell_type": "code",
   "execution_count": 20,
   "id": "a8464d37",
   "metadata": {},
   "outputs": [
    {
     "data": {
      "text/plain": [
       "['covid', 'vaccin', 'vaccination']"
      ]
     },
     "execution_count": 20,
     "metadata": {},
     "output_type": "execute_result"
    }
   ],
   "source": [
    "theme_lemmas"
   ]
  },
  {
   "cell_type": "markdown",
   "id": "f29d6c3a",
   "metadata": {},
   "source": [
    "### theme_score"
   ]
  },
  {
   "cell_type": "code",
   "execution_count": 21,
   "id": "178399f0",
   "metadata": {},
   "outputs": [],
   "source": [
    "def theme_score(lemmas: list):\n",
    "    score = 0\n",
    "    for lemma in theme_lemmas:\n",
    "        score = score + lemmas.count(lemma)\n",
    "    return score"
   ]
  },
  {
   "cell_type": "code",
   "execution_count": 22,
   "id": "b73b9df6",
   "metadata": {},
   "outputs": [],
   "source": [
    "df_corpus['theme_score'] = df_corpus['l_list'].apply(theme_score)"
   ]
  },
  {
   "cell_type": "code",
   "execution_count": 23,
   "id": "f3a6afac",
   "metadata": {},
   "outputs": [
    {
     "data": {
      "text/html": [
       "<div>\n",
       "<style scoped>\n",
       "    .dataframe tbody tr th:only-of-type {\n",
       "        vertical-align: middle;\n",
       "    }\n",
       "\n",
       "    .dataframe tbody tr th {\n",
       "        vertical-align: top;\n",
       "    }\n",
       "\n",
       "    .dataframe thead th {\n",
       "        text-align: right;\n",
       "    }\n",
       "</style>\n",
       "<table border=\"1\" class=\"dataframe\">\n",
       "  <thead>\n",
       "    <tr style=\"text-align: right;\">\n",
       "      <th></th>\n",
       "      <th>url</th>\n",
       "      <th>title</th>\n",
       "      <th>article</th>\n",
       "      <th>site</th>\n",
       "      <th>author</th>\n",
       "      <th>date_iso</th>\n",
       "      <th>url_h</th>\n",
       "      <th>c_count</th>\n",
       "      <th>text</th>\n",
       "      <th>w_list</th>\n",
       "      <th>l_list</th>\n",
       "      <th>w_count</th>\n",
       "      <th>theme_score</th>\n",
       "    </tr>\n",
       "  </thead>\n",
       "  <tbody>\n",
       "    <tr>\n",
       "      <th>55598</th>\n",
       "      <td>https://fr.sott.net/article/37739-Les-deces-as...</td>\n",
       "      <td>Les décès associés aux vaccins anti-Covid sont...</td>\n",
       "      <td>Note LHK : Nous avions déjà partagé un texte d...</td>\n",
       "      <td>fr.sott.net</td>\n",
       "      <td>NaN</td>\n",
       "      <td>NaN</td>\n",
       "      <td>a2833bf86e48591ae1118a1196c4423799a2aac1</td>\n",
       "      <td>18992</td>\n",
       "      <td>les décès associés aux vaccins anti-covid sont...</td>\n",
       "      <td>[les, décès, associés, aux, vaccins, anti, cov...</td>\n",
       "      <td>[les, décès, associer, aux, vaccin, anti, covi...</td>\n",
       "      <td>2705</td>\n",
       "      <td>133</td>\n",
       "    </tr>\n",
       "    <tr>\n",
       "      <th>55959</th>\n",
       "      <td>https://fr.sott.net/article/39231-C-est-une-bo...</td>\n",
       "      <td>C'est une bombe à retardement !!! Les données ...</td>\n",
       "      <td>Une enquête approfondie sur 5 mois de données ...</td>\n",
       "      <td>fr.sott.net</td>\n",
       "      <td>NaN</td>\n",
       "      <td>NaN</td>\n",
       "      <td>7476fef92d4c7335dad03b40c34b53133c7b7c68</td>\n",
       "      <td>16842</td>\n",
       "      <td>c'est une bombe à retardement !!! les données ...</td>\n",
       "      <td>[est, une, bombe, retardement, les, données, o...</td>\n",
       "      <td>[est, une, bombe, retardement, les, donner, of...</td>\n",
       "      <td>2466</td>\n",
       "      <td>105</td>\n",
       "    </tr>\n",
       "    <tr>\n",
       "      <th>59640</th>\n",
       "      <td>https://lezarceleurs.blogspot.com/2021/04/le-c...</td>\n",
       "      <td>Le COVID au fil des jours  de Le Media en 4-4-2</td>\n",
       "      <td>https://lemediaen442.fr/covid-19-et-vaccins/FI...</td>\n",
       "      <td>lezarceleurs.blogspot.com</td>\n",
       "      <td>NaN</td>\n",
       "      <td>NaN</td>\n",
       "      <td>a752351b84aff6b1f2dc16a9f8b1b9890670f0fb</td>\n",
       "      <td>11431</td>\n",
       "      <td>le covid au fil des jours  de le media en 4-4-...</td>\n",
       "      <td>[le, covid, au, fil, des, jours, de, le, media...</td>\n",
       "      <td>[le, covid, au, fil, des, jour, de, le, media,...</td>\n",
       "      <td>1467</td>\n",
       "      <td>103</td>\n",
       "    </tr>\n",
       "    <tr>\n",
       "      <th>69288</th>\n",
       "      <td>https://www.francesoir.fr/politique-monde/ques...</td>\n",
       "      <td>Questions brûlantes que le Parlement européen ...</td>\n",
       "      <td>Nous reproduisons un article de Senta Depuydt ...</td>\n",
       "      <td>www.francesoir.fr</td>\n",
       "      <td>NaN</td>\n",
       "      <td>NaN</td>\n",
       "      <td>6149bbd74a5c842e240fc18bf06d435c6aa78aba</td>\n",
       "      <td>18079</td>\n",
       "      <td>questions brûlantes que le parlement européen ...</td>\n",
       "      <td>[questions, brûlantes, que, le, parlement, eur...</td>\n",
       "      <td>[question, brûlant, que, le, parlement, europé...</td>\n",
       "      <td>2689</td>\n",
       "      <td>100</td>\n",
       "    </tr>\n",
       "    <tr>\n",
       "      <th>60669</th>\n",
       "      <td>https://lezarceleurs.blogspot.com/2022/05/la-s...</td>\n",
       "      <td>La sécurité des vaccins COVID de Pfizer varie ...</td>\n",
       "      <td>De : https://www.theepochtimes.com/pfizer-covi...</td>\n",
       "      <td>lezarceleurs.blogspot.com</td>\n",
       "      <td>NaN</td>\n",
       "      <td>NaN</td>\n",
       "      <td>cab357767492dacc70ac82ee073bf35d5fbcb27c</td>\n",
       "      <td>16826</td>\n",
       "      <td>la sécurité des vaccins covid de pfizer varie ...</td>\n",
       "      <td>[la, sécurité, des, vaccins, covid, de, pfizer...</td>\n",
       "      <td>[la, sécurité, des, vaccin, covid, de, pfizer,...</td>\n",
       "      <td>2507</td>\n",
       "      <td>94</td>\n",
       "    </tr>\n",
       "  </tbody>\n",
       "</table>\n",
       "</div>"
      ],
      "text/plain": [
       "                                                     url  \\\n",
       "55598  https://fr.sott.net/article/37739-Les-deces-as...   \n",
       "55959  https://fr.sott.net/article/39231-C-est-une-bo...   \n",
       "59640  https://lezarceleurs.blogspot.com/2021/04/le-c...   \n",
       "69288  https://www.francesoir.fr/politique-monde/ques...   \n",
       "60669  https://lezarceleurs.blogspot.com/2022/05/la-s...   \n",
       "\n",
       "                                                   title  \\\n",
       "55598  Les décès associés aux vaccins anti-Covid sont...   \n",
       "55959  C'est une bombe à retardement !!! Les données ...   \n",
       "59640    Le COVID au fil des jours  de Le Media en 4-4-2   \n",
       "69288  Questions brûlantes que le Parlement européen ...   \n",
       "60669  La sécurité des vaccins COVID de Pfizer varie ...   \n",
       "\n",
       "                                                 article  \\\n",
       "55598  Note LHK : Nous avions déjà partagé un texte d...   \n",
       "55959  Une enquête approfondie sur 5 mois de données ...   \n",
       "59640  https://lemediaen442.fr/covid-19-et-vaccins/FI...   \n",
       "69288  Nous reproduisons un article de Senta Depuydt ...   \n",
       "60669  De : https://www.theepochtimes.com/pfizer-covi...   \n",
       "\n",
       "                            site author date_iso  \\\n",
       "55598                fr.sott.net    NaN      NaN   \n",
       "55959                fr.sott.net    NaN      NaN   \n",
       "59640  lezarceleurs.blogspot.com    NaN      NaN   \n",
       "69288          www.francesoir.fr    NaN      NaN   \n",
       "60669  lezarceleurs.blogspot.com    NaN      NaN   \n",
       "\n",
       "                                          url_h  c_count  \\\n",
       "55598  a2833bf86e48591ae1118a1196c4423799a2aac1    18992   \n",
       "55959  7476fef92d4c7335dad03b40c34b53133c7b7c68    16842   \n",
       "59640  a752351b84aff6b1f2dc16a9f8b1b9890670f0fb    11431   \n",
       "69288  6149bbd74a5c842e240fc18bf06d435c6aa78aba    18079   \n",
       "60669  cab357767492dacc70ac82ee073bf35d5fbcb27c    16826   \n",
       "\n",
       "                                                    text  \\\n",
       "55598  les décès associés aux vaccins anti-covid sont...   \n",
       "55959  c'est une bombe à retardement !!! les données ...   \n",
       "59640  le covid au fil des jours  de le media en 4-4-...   \n",
       "69288  questions brûlantes que le parlement européen ...   \n",
       "60669  la sécurité des vaccins covid de pfizer varie ...   \n",
       "\n",
       "                                                  w_list  \\\n",
       "55598  [les, décès, associés, aux, vaccins, anti, cov...   \n",
       "55959  [est, une, bombe, retardement, les, données, o...   \n",
       "59640  [le, covid, au, fil, des, jours, de, le, media...   \n",
       "69288  [questions, brûlantes, que, le, parlement, eur...   \n",
       "60669  [la, sécurité, des, vaccins, covid, de, pfizer...   \n",
       "\n",
       "                                                  l_list  w_count  theme_score  \n",
       "55598  [les, décès, associer, aux, vaccin, anti, covi...     2705          133  \n",
       "55959  [est, une, bombe, retardement, les, donner, of...     2466          105  \n",
       "59640  [le, covid, au, fil, des, jour, de, le, media,...     1467          103  \n",
       "69288  [question, brûlant, que, le, parlement, europé...     2689          100  \n",
       "60669  [la, sécurité, des, vaccin, covid, de, pfizer,...     2507           94  "
      ]
     },
     "execution_count": 23,
     "metadata": {},
     "output_type": "execute_result"
    }
   ],
   "source": [
    "df_corpus.sort_values('theme_score',ascending=False).head()"
   ]
  },
  {
   "cell_type": "code",
   "execution_count": 24,
   "id": "44cbc187",
   "metadata": {},
   "outputs": [
    {
     "data": {
      "text/plain": [
       "<seaborn.axisgrid.FacetGrid at 0x2d86a1700>"
      ]
     },
     "execution_count": 24,
     "metadata": {},
     "output_type": "execute_result"
    },
    {
     "data": {
      "image/png": "[encoded data removed]",
      "text/plain": [
       "<Figure size 500x500 with 1 Axes>"
      ]
     },
     "metadata": {},
     "output_type": "display_data"
    }
   ],
   "source": [
    "sns.displot(df_corpus,x='theme_score')"
   ]
  },
  {
   "cell_type": "code",
   "execution_count": 35,
   "id": "cea3e7ab",
   "metadata": {},
   "outputs": [
    {
     "data": {
      "text/plain": [
       "<seaborn.axisgrid.FacetGrid at 0x1271cc400>"
      ]
     },
     "execution_count": 35,
     "metadata": {},
     "output_type": "execute_result"
    },
    {
     "data": {
      "image/png": "[encoded data removed]",
      "text/plain": [
       "<Figure size 500x500 with 1 Axes>"
      ]
     },
     "metadata": {},
     "output_type": "display_data"
    }
   ],
   "source": [
    "sns.displot(df_corpus[df_corpus['theme_score']<10],x='theme_score')"
   ]
  },
  {
   "cell_type": "code",
   "execution_count": 33,
   "id": "a86979eb",
   "metadata": {},
   "outputs": [],
   "source": [
    "# Seuil à partir duquel on considère que l'article est dans le thème\n",
    "#score_threshold = 1\n",
    "score_threshold = 2"
   ]
  },
  {
   "cell_type": "code",
   "execution_count": 36,
   "id": "4740fe1e",
   "metadata": {},
   "outputs": [],
   "source": [
    "df_corpus['theme']=df_corpus['theme_score'].apply(lambda s : 1 if s>=score_threshold else 0)"
   ]
  },
  {
   "cell_type": "markdown",
   "id": "aaf0a7bf",
   "metadata": {},
   "source": [
    "### Recherche de Lemmes Communs"
   ]
  },
  {
   "cell_type": "code",
   "execution_count": 28,
   "id": "d27f3887",
   "metadata": {},
   "outputs": [
    {
     "name": "stdout",
     "output_type": "stream",
     "text": [
      "CPU times: user 1.04 s, sys: 41.4 ms, total: 1.09 s\n",
      "Wall time: 725 ms\n"
     ]
    }
   ],
   "source": [
    "%%time\n",
    "df_corpus['l_text'] = df_corpus['l_list'].apply(' '.join)"
   ]
  },
  {
   "cell_type": "code",
   "execution_count": null,
   "id": "40fb61f9",
   "metadata": {},
   "outputs": [],
   "source": [
    "df_corpus.memory_usage(deep=True)"
   ]
  },
  {
   "cell_type": "code",
   "execution_count": null,
   "id": "dbc48bd4",
   "metadata": {},
   "outputs": [],
   "source": [
    "from sklearn.feature_extraction.text import CountVectorizer"
   ]
  },
  {
   "cell_type": "code",
   "execution_count": null,
   "id": "b6b6da7b",
   "metadata": {},
   "outputs": [],
   "source": [
    "%%time\n",
    "vectorizer = CountVectorizer(token_pattern=r'[^\\d\\W]+')\n",
    "X = vectorizer.fit_transform(df_corpus['article'])\n",
    "vectorizer.get_feature_names_out()"
   ]
  },
  {
   "cell_type": "code",
   "execution_count": null,
   "id": "89762025",
   "metadata": {},
   "outputs": [],
   "source": [
    "X.shape"
   ]
  },
  {
   "cell_type": "code",
   "execution_count": null,
   "id": "82be5a33",
   "metadata": {},
   "outputs": [],
   "source": [
    "df_X = pd.DataFrame(X.toarray())"
   ]
  },
  {
   "cell_type": "code",
   "execution_count": null,
   "id": "65fc16f0",
   "metadata": {},
   "outputs": [],
   "source": [
    "names = vectorizer.get_feature_names_out()\n",
    "col_names={}\n",
    "for i in range(0,len(names)):\n",
    "    col_names[i]=names[i]\n"
   ]
  },
  {
   "cell_type": "code",
   "execution_count": null,
   "id": "0189f4f8",
   "metadata": {},
   "outputs": [],
   "source": [
    "df_X.rename"
   ]
  },
  {
   "cell_type": "code",
   "execution_count": null,
   "id": "f38955b3",
   "metadata": {},
   "outputs": [],
   "source": [
    "%%time\n",
    "lemmas_0 = []\n",
    "lemmas_1 = []\n",
    "for index,row in df_corpus.head(10000).iterrows():\n",
    "    if row['theme']>0 :\n",
    "        lemmas_1 = lemmas_1 + row['l_list']\n",
    "    else:\n",
    "        lemmas_0 = lemmas_0 + row['l_list']        "
   ]
  },
  {
   "cell_type": "code",
   "execution_count": null,
   "id": "8321c7a8",
   "metadata": {},
   "outputs": [],
   "source": [
    "%%time\n",
    "#lemmas_0 = df_corpus[df_corpus['theme']==0]['l_list'].sum()"
   ]
  },
  {
   "cell_type": "code",
   "execution_count": null,
   "id": "80b1468b",
   "metadata": {},
   "outputs": [],
   "source": [
    "%%time\n",
    "#lemmas_1 = df_corpus[df_corpus['theme']==1]['l_list'].sum()"
   ]
  },
  {
   "cell_type": "code",
   "execution_count": null,
   "id": "9895616b",
   "metadata": {},
   "outputs": [],
   "source": [
    "common_words = lex.get_common_words(lemmas_0, lemmas_1, common_size=200)\n",
    "common_words"
   ]
  },
  {
   "cell_type": "code",
   "execution_count": null,
   "id": "3b88cd0a",
   "metadata": {},
   "outputs": [],
   "source": [
    "from wordcloud import WordCloud\n",
    "import matplotlib.pyplot as plt\n",
    "import numpy as np\n",
    "from PIL import Image"
   ]
  },
  {
   "cell_type": "code",
   "execution_count": null,
   "id": "769d9628",
   "metadata": {},
   "outputs": [],
   "source": [
    "def display_wc(text,commonwords):\n",
    "    wordcloud = WordCloud(background_color = 'white', stopwords = commonwords, max_words = 50, regexp=r\"\\w\\w+\").generate(text)\n",
    "    plt.imshow(wordcloud)\n",
    "    plt.axis(\"off\")\n",
    "    plt.show();"
   ]
  },
  {
   "cell_type": "code",
   "execution_count": null,
   "id": "127624a5",
   "metadata": {},
   "outputs": [],
   "source": [
    "display_wc('\\n'.join(df_corpus[df_corpus['covid']==1]['lemma_text']),common_words)"
   ]
  },
  {
   "cell_type": "code",
   "execution_count": null,
   "id": "58625897",
   "metadata": {},
   "outputs": [],
   "source": [
    "display_wc('\\n'.join(df_corpus[df_corpus['covid']==0]['lemma_text']),common_words)"
   ]
  },
  {
   "cell_type": "code",
   "execution_count": null,
   "id": "bf26c1d2",
   "metadata": {},
   "outputs": [],
   "source": [
    "df_count  = pd.DataFrame.from_dict(counter, orient='index')"
   ]
  },
  {
   "cell_type": "code",
   "execution_count": null,
   "id": "922910fd",
   "metadata": {},
   "outputs": [],
   "source": [
    "df_count = df_count.rename(columns={0:'count'})"
   ]
  },
  {
   "cell_type": "code",
   "execution_count": null,
   "id": "7e5c2c36",
   "metadata": {},
   "outputs": [],
   "source": [
    "df_count.shape"
   ]
  },
  {
   "cell_type": "code",
   "execution_count": null,
   "id": "12dd488c",
   "metadata": {},
   "outputs": [],
   "source": [
    "common_words = list(df_count.sort_values('count',ascending=False).head(500).index)"
   ]
  },
  {
   "cell_type": "code",
   "execution_count": null,
   "id": "f2662cdf",
   "metadata": {},
   "outputs": [],
   "source": [
    "common_words"
   ]
  },
  {
   "cell_type": "code",
   "execution_count": null,
   "id": "1ab8bd77",
   "metadata": {},
   "outputs": [],
   "source": []
  },
  {
   "cell_type": "code",
   "execution_count": null,
   "id": "abf19719",
   "metadata": {},
   "outputs": [],
   "source": []
  },
  {
   "cell_type": "markdown",
   "id": "ba0834f1",
   "metadata": {},
   "source": [
    "## Mesure et observation des résultats\n",
    "---"
   ]
  },
  {
   "cell_type": "code",
   "execution_count": null,
   "id": "2a4d001a",
   "metadata": {},
   "outputs": [],
   "source": []
  },
  {
   "cell_type": "markdown",
   "id": "76996d3a",
   "metadata": {},
   "source": [
    "## Sauvegarde des résultats\n",
    "---"
   ]
  },
  {
   "cell_type": "code",
   "execution_count": null,
   "id": "827f60e3",
   "metadata": {},
   "outputs": [],
   "source": []
  },
  {
   "cell_type": "markdown",
   "id": "fb7949bc",
   "metadata": {},
   "source": [
    "## Conclusions\n",
    "---"
   ]
  },
  {
   "cell_type": "markdown",
   "id": "bd06b261",
   "metadata": {},
   "source": [
    "- Résultat : OK"
   ]
  },
  {
   "cell_type": "markdown",
   "id": "bd360655",
   "metadata": {},
   "source": [
    "## Bricolages\n",
    "---"
   ]
  },
  {
   "cell_type": "code",
   "execution_count": 29,
   "id": "cfbfa2a2",
   "metadata": {},
   "outputs": [],
   "source": [
    "df = df_corpus.sample(10000, random_state=42).copy()"
   ]
  },
  {
   "cell_type": "code",
   "execution_count": 30,
   "id": "060b5590",
   "metadata": {},
   "outputs": [
    {
     "name": "stdout",
     "output_type": "stream",
     "text": [
      "CPU times: user 22.2 s, sys: 51.9 s, total: 1min 14s\n",
      "Wall time: 1min 14s\n"
     ]
    }
   ],
   "source": [
    "%%time\n",
    "text = df['l_text'].sum()"
   ]
  },
  {
   "cell_type": "code",
   "execution_count": 37,
   "id": "c29db0e4",
   "metadata": {},
   "outputs": [],
   "source": [
    "df_1 = df_corpus[df_corpus['theme']==1]"
   ]
  },
  {
   "cell_type": "code",
   "execution_count": 38,
   "id": "07cd9da4",
   "metadata": {},
   "outputs": [
    {
     "data": {
      "text/plain": [
       "(8290, 15)"
      ]
     },
     "execution_count": 38,
     "metadata": {},
     "output_type": "execute_result"
    }
   ],
   "source": [
    "df_1.shape"
   ]
  },
  {
   "cell_type": "code",
   "execution_count": 39,
   "id": "cef47450",
   "metadata": {},
   "outputs": [
    {
     "name": "stdout",
     "output_type": "stream",
     "text": [
      "CPU times: user 24.3 s, sys: 1min 4s, total: 1min 29s\n",
      "Wall time: 1min 29s\n"
     ]
    }
   ],
   "source": [
    "%%time\n",
    "text = df_1['l_text'].sum()"
   ]
  },
  {
   "cell_type": "code",
   "execution_count": 41,
   "id": "898aa70e",
   "metadata": {},
   "outputs": [],
   "source": [
    "text_1 = text"
   ]
  },
  {
   "cell_type": "code",
   "execution_count": 40,
   "id": "c01075fa",
   "metadata": {},
   "outputs": [],
   "source": [
    "df_0 = df_corpus[df_corpus['theme']==0].sample(8000, random_state=42)"
   ]
  },
  {
   "cell_type": "code",
   "execution_count": 42,
   "id": "c66e3847",
   "metadata": {},
   "outputs": [
    {
     "name": "stdout",
     "output_type": "stream",
     "text": [
      "CPU times: user 14.6 s, sys: 36.6 s, total: 51.1 s\n",
      "Wall time: 51.1 s\n"
     ]
    }
   ],
   "source": [
    "%%time\n",
    "text_0 = df_0['l_text'].sum()"
   ]
  },
  {
   "cell_type": "code",
   "execution_count": 43,
   "id": "bde8e0b2",
   "metadata": {},
   "outputs": [
    {
     "data": {
      "text/plain": [
       "<patat.ml.lex_analyser.LexAnalyser at 0x2d86ac070>"
      ]
     },
     "execution_count": 43,
     "metadata": {},
     "output_type": "execute_result"
    }
   ],
   "source": []
  },
  {
   "cell_type": "code",
   "execution_count": 44,
   "id": "384e04c9",
   "metadata": {},
   "outputs": [],
   "source": [
    "lemmas_0 = lex.get_words(text_0)"
   ]
  },
  {
   "cell_type": "code",
   "execution_count": 45,
   "id": "d0d38db0",
   "metadata": {},
   "outputs": [],
   "source": [
    "lemmas_1 = lex.get_words(text_1)"
   ]
  },
  {
   "cell_type": "code",
   "execution_count": 46,
   "id": "41a9f4bf",
   "metadata": {},
   "outputs": [],
   "source": [
    "ignore_words = lex.get_ignore_words(lemmas_0,lemmas_1)"
   ]
  },
  {
   "cell_type": "code",
   "execution_count": 48,
   "id": "7b375812",
   "metadata": {},
   "outputs": [
    {
     "data": {
      "text/plain": [
       "94408"
      ]
     },
     "execution_count": 48,
     "metadata": {},
     "output_type": "execute_result"
    }
   ],
   "source": [
    "len(ignore_words)"
   ]
  },
  {
   "cell_type": "code",
   "execution_count": 53,
   "id": "f7d40fa6",
   "metadata": {},
   "outputs": [
    {
     "data": {
      "text/plain": [
       "['parcé',\n",
       " 'kerhor',\n",
       " 'ilun',\n",
       " 'rétinal',\n",
       " 'rétiniens',\n",
       " 'torsader',\n",
       " 'icifive',\n",
       " 'pinnacle',\n",
       " 'departed',\n",
       " 'deploying',\n",
       " 'hobnail',\n",
       " 'poetic',\n",
       " 'creatively',\n",
       " 'linguistics',\n",
       " 'hollands',\n",
       " 'fuelled',\n",
       " 'naustdalslid',\n",
       " 'dictionary',\n",
       " 'ludicrously',\n",
       " 'speculations',\n",
       " 'guesses',\n",
       " 'shakespearean',\n",
       " 'contemporaries',\n",
       " 'linguist',\n",
       " 'denoting',\n",
       " 'thou',\n",
       " 'usurp',\n",
       " 'reflects',\n",
       " 'jonson',\n",
       " 'jealous',\n",
       " 'snooty',\n",
       " 'playwrights',\n",
       " 'guardamagna',\n",
       " 'greatersaint',\n",
       " 'tamanrasset',\n",
       " 'insalah',\n",
       " 'biskra',\n",
       " 'béatifier',\n",
       " 'dissolu',\n",
       " 'sénoussis',\n",
       " 'herodoteligue',\n",
       " 'tokad',\n",
       " 'akomod',\n",
       " 'bennozh',\n",
       " 'huchal',\n",
       " 'aduerien',\n",
       " 'avel',\n",
       " 'treiñ',\n",
       " 'vretoned',\n",
       " 'houlzadoù',\n",
       " 'olympiakos',\n",
       " 'hres',\n",
       " 'qarabağ',\n",
       " 'dañjerusañ',\n",
       " 'ganaried',\n",
       " 'dañjer',\n",
       " 'klub',\n",
       " 'feyenoord',\n",
       " 'betis',\n",
       " 'sévilla',\n",
       " 'trugarez',\n",
       " 'fcn',\n",
       " 'frap',\n",
       " 'origineirak',\n",
       " 'geologist',\n",
       " 'pottery',\n",
       " 'arar',\n",
       " 'kqymh',\n",
       " 'ucjk',\n",
       " 'cunéiforme',\n",
       " 'ishtar',\n",
       " 'mésopotamien',\n",
       " 'ileana',\n",
       " 'ovalle',\n",
       " 'pshhxegqop',\n",
       " 'ofowkqz',\n",
       " 'exempleoscar',\n",
       " 'marlee',\n",
       " 'matlin',\n",
       " 'kostur',\n",
       " 'entendants',\n",
       " 'richeles',\n",
       " 'anticoncurrentielles',\n",
       " 'decidé',\n",
       " 'comptedes',\n",
       " 'gettyles',\n",
       " 'subrahmanyan',\n",
       " 'chandrasekhar',\n",
       " 'ecp',\n",
       " 'accrétant',\n",
       " 'supermassifs',\n",
       " 'surdensités',\n",
       " 'sublunaire',\n",
       " 'kavli',\n",
       " 'minitrous',\n",
       " 'kagra',\n",
       " 'géniteurtempête',\n",
       " 'vico',\n",
       " 'balagne',\n",
       " 'cammilliard',\n",
       " 'nommee',\n",
       " 'htmlhunter',\n",
       " 'бурісма',\n",
       " 'холдингс',\n",
       " 'zlochevsky',\n",
       " 'brociti',\n",
       " 'бросіті',\n",
       " 'інвестментс',\n",
       " 'лімітед',\n",
       " 'esko',\n",
       " 'pivnich',\n",
       " 'persha',\n",
       " 'ukrainska',\n",
       " 'naftogazova',\n",
       " 'kompaniya',\n",
       " 'naftogaz',\n",
       " 'kub',\n",
       " 'astroinvest',\n",
       " 'vidéosaint',\n",
       " 'pénitentiairedire',\n",
       " 'partagéles',\n",
       " 'françaisconsommation',\n",
       " 'chappoteau',\n",
       " 'alltricks',\n",
       " 'fractionnés',\n",
       " 'inscrireconfirmation',\n",
       " 'ukrainelouis',\n",
       " 'hzdrc',\n",
       " 'bellatar',\n",
       " 'belattar',\n",
       " 'nocibé',\n",
       " 'bizeul',\n",
       " 'hdespros',\n",
       " 'xwtovaptsx',\n",
       " 'musulmanfaute',\n",
       " 'macroche',\n",
       " 'balconbac',\n",
       " 'heuresen',\n",
       " 'hypokhâgne',\n",
       " 'olympe_pro',\n",
       " 'asrclz',\n",
       " 'peinemetz',\n",
       " 'bousch',\n",
       " 'lagleize',\n",
       " 'dichroïques',\n",
       " 'perrat',\n",
       " 'clinchamp',\n",
       " 'lixheim',\n",
       " 'dissay',\n",
       " 'cathèdre',\n",
       " 'œuvreront',\n",
       " 'bissière',\n",
       " 'jaumont',\n",
       " 'lagleizela',\n",
       " 'cuellar',\n",
       " 'concentreraient',\n",
       " 'americanthinkersur',\n",
       " 'coolidge',\n",
       " 'mondale',\n",
       " 'gouvernons',\n",
       " 'criseils',\n",
       " 'funniestout',\n",
       " 'questionsces',\n",
       " 'contrôlebras',\n",
       " 'sentiratteindre',\n",
       " 'âgeon',\n",
       " 'petraeus',\n",
       " 'waziristân',\n",
       " 'buner',\n",
       " 'immino',\n",
       " 'nucléarisée',\n",
       " 'infonicolas',\n",
       " 'crissement',\n",
       " 'vrombissement',\n",
       " 'tempsdéconfinement',\n",
       " 'geoportail',\n",
       " 'prochainjustice',\n",
       " 'gouvernementalaccord',\n",
       " 'courirbravo',\n",
       " 'kinga',\n",
       " 'igloi',\n",
       " 'meneurconférence',\n",
       " 'olsson',\n",
       " 'witte',\n",
       " 'mojmír',\n",
       " 'babáček',\n",
       " 'lambremont',\n",
       " 'webre',\n",
       " 'delegate',\n",
       " 'vritschan',\n",
       " 'mercx',\n",
       " 'beata',\n",
       " 'zalewska',\n",
       " 'česky',\n",
       " 'unsubscribe',\n",
       " 'roesselstraat',\n",
       " 'hoogerheide',\n",
       " 'ticinonline',\n",
       " 'tessinoise',\n",
       " 'kathya',\n",
       " 'bonatti',\n",
       " 'barazzone',\n",
       " 'lausannoise',\n",
       " 'germond',\n",
       " 'denantou',\n",
       " 'vevey',\n",
       " 'ballif',\n",
       " 'buffat',\n",
       " 'naturisme',\n",
       " 'exhibitionniste',\n",
       " 'voyeurismes',\n",
       " 'stauffacher',\n",
       " 'sexualisées',\n",
       " 'sourcechiffre',\n",
       " 'supprimeront',\n",
       " 'suiteil',\n",
       " 'cotrel',\n",
       " 'neufgrâce',\n",
       " 'tgcom',\n",
       " 'leursemmanuel',\n",
       " 'télégrammecapri',\n",
       " 'caprifdj',\n",
       " 'ligneimpôt',\n",
       " 'remplissagele',\n",
       " 'préremplis',\n",
       " 'reprendredès',\n",
       " 'impôtaux',\n",
       " 'moonrise',\n",
       " 'grounded',\n",
       " 'guimauve',\n",
       " 'browserthe',\n",
       " 'érébor',\n",
       " 'accusationsd',\n",
       " 'erebor',\n",
       " 'fondcombe',\n",
       " 'gondor',\n",
       " 'youtubedes',\n",
       " 'qesem',\n",
       " 'prémolaire',\n",
       " 'multicritères',\n",
       " 'anque',\n",
       " 'sicknick',\n",
       " 'liebengood',\n",
       " 'boyland',\n",
       " 'greeson',\n",
       " 'ashly',\n",
       " 'babbit',\n",
       " 'shirkey',\n",
       " 'véritéeurozapping',\n",
       " 'taragon',\n",
       " 'mondeau',\n",
       " 'mentalmafia',\n",
       " 'criminalités',\n",
       " 'fincen',\n",
       " 'cschm',\n",
       " 'salomesaque',\n",
       " 'septembertribunal',\n",
       " 'bolée',\n",
       " 'originevladimir',\n",
       " 'defcon',\n",
       " 'zammo',\n",
       " 'rothrock',\n",
       " 'kevinrothrock',\n",
       " 'wikistrikearticle',\n",
       " 'wikistrikequelques',\n",
       " 'rosja',\n",
       " 'kolejne',\n",
       " 'wideo',\n",
       " 'ukrainerussiawar',\n",
       " 'kqmbtx',\n",
       " 'brandrd_',\n",
       " 'brandoondhd',\n",
       " 'februaryun',\n",
       " 'autorégulent',\n",
       " 'raréfierne',\n",
       " 'dracénie',\n",
       " 'autrevif',\n",
       " 'empaler',\n",
       " 'photogrand',\n",
       " 'ghr',\n",
       " 'girerd',\n",
       " 'iciintempérie',\n",
       " 'juinprocès',\n",
       " 'affaiblijonathann',\n",
       " 'rebondissementsle',\n",
       " 'portejoieavocat',\n",
       " 'victimele',\n",
       " 'forcesexercice',\n",
       " 'parachèvement',\n",
       " 'kermanshah',\n",
       " 'mohsen',\n",
       " 'fakhrizadeh',\n",
       " 'hetz',\n",
       " 'razoux',\n",
       " 'fmes',\n",
       " 'dekel',\n",
       " 'bazak',\n",
       " 'inss',\n",
       " 'cdem',\n",
       " 'dems',\n",
       " 'oren',\n",
       " 'éditionemmanuel',\n",
       " 'huiléeau',\n",
       " 'ululerlégislatif',\n",
       " 'gony',\n",
       " 'kouloulhoumnjibou',\n",
       " 'photoaccord',\n",
       " 'sourcedécès',\n",
       " 'heubner',\n",
       " 'hanning',\n",
       " 'walther',\n",
       " 'bedzin',\n",
       " 'silésie',\n",
       " 'communiquercinquante',\n",
       " 'reconnaissanceplaire',\n",
       " 'njord',\n",
       " 'norsar',\n",
       " 'equinor',\n",
       " 'strommen',\n",
       " 'lycke',\n",
       " 'tsunamisviolence',\n",
       " 'bénefices',\n",
       " 'luiil',\n",
       " 'chaleco',\n",
       " 'toréador',\n",
       " 'flagelle',\n",
       " 'colonisaient',\n",
       " 'islams',\n",
       " 'gérontocratique',\n",
       " 'moudjahid',\n",
       " 'arabnews',\n",
       " 'rhhhhoooo',\n",
       " 'metzger',\n",
       " 'guéville',\n",
       " 'nave',\n",
       " 'bekhti',\n",
       " 'popineaugeorge',\n",
       " 'glastonbury',\n",
       " 'marsnantes',\n",
       " 'mangin',\n",
       " 'origineavoir',\n",
       " 'agirgrenoble',\n",
       " 'grognement',\n",
       " 'canis',\n",
       " 'agresseuraprès',\n",
       " 'rédactionque',\n",
       " 'cosmopolitique',\n",
       " 'néoplatoniciens',\n",
       " 'théopolitiques',\n",
       " 'theoria',\n",
       " 'symballein',\n",
       " 'evola',\n",
       " 'eurasistes',\n",
       " 'géosophique',\n",
       " 'métapolitiques',\n",
       " 'traditionnalistes',\n",
       " 'suprarationelle',\n",
       " 'apophatique',\n",
       " 'suprasensible',\n",
       " 'murissait',\n",
       " 'révérer',\n",
       " 'platonisme',\n",
       " 'guelievitch',\n",
       " 'viktorovna',\n",
       " 'strategikatour',\n",
       " 'arenberg',\n",
       " 'hoorn',\n",
       " 'boassen',\n",
       " 'luxée',\n",
       " 'binche',\n",
       " 'chiers',\n",
       " 'pulventeux',\n",
       " 'jauneun',\n",
       " 'hadjaj',\n",
       " 'hadjdaj',\n",
       " 'zorah',\n",
       " 'bitan',\n",
       " 'hikind',\n",
       " 'jewishjournal',\n",
       " 'franceun',\n",
       " 'zdewey',\n",
       " 'iosuvmx',\n",
       " 'ozonation',\n",
       " 'nanoplastiquesviolence',\n",
       " 'bapstiste',\n",
       " 'existertunnel',\n",
       " 'dorey',\n",
       " 'originedémission',\n",
       " 'présentéisme',\n",
       " 'effrénélyon',\n",
       " 'futon',\n",
       " 'piccato',\n",
       " 'canut',\n",
       " 'joung',\n",
       " 'lnd',\n",
       " 'lyonunion',\n",
       " 'shella',\n",
       " 'contribuablebesoin',\n",
       " 'portemonnaies',\n",
       " 'trojanisés',\n",
       " 'recompilées',\n",
       " 'jaxx',\n",
       " 'origineinterdiction',\n",
       " 'ouchakov',\n",
       " 'shehbaz',\n",
       " 'occidentalhidalgo',\n",
       " 'annéeanne',\n",
       " 'ravensbourne',\n",
       " 'gacilly',\n",
       " 'acrylique',\n",
       " 'saniaitre',\n",
       " 'hjgwiboqs',\n",
       " 'sourcenuit',\n",
       " 'plantagenêt',\n",
       " 'skertzò',\n",
       " 'mordrelle',\n",
       " 'enluminure',\n",
       " 'polychromie',\n",
       " 'étéindustrie',\n",
       " 'tréguennec',\n",
       " 'vosgesmalgré',\n",
       " 'belgesuper',\n",
       " 'kalanick',\n",
       " 'gurley',\n",
       " 'vikander',\n",
       " 'feuillade',\n",
       " 'macaigne',\n",
       " 'costumier',\n",
       " 'vellani',\n",
       " 'cillian',\n",
       " 'alfie',\n",
       " 'solomons',\n",
       " 'mosley',\n",
       " 'clafin',\n",
       " 'mccrory',\n",
       " 'convoient',\n",
       " 'hargreeves',\n",
       " 'fei',\n",
       " 'britne',\n",
       " 'oldford',\n",
       " 'cornwell',\n",
       " 'micmac',\n",
       " 'lyonne',\n",
       " 'renfrew',\n",
       " 'bibendum',\n",
       " 'fransokyo',\n",
       " 'heist',\n",
       " 'westword',\n",
       " 'disneygirond',\n",
       " 'tuzan',\n",
       " 'mazoyer',\n",
       " 'télévisionaéroport',\n",
       " 'funiculaire',\n",
       " 'laboureix',\n",
       " 'elpro',\n",
       " 'skishop',\n",
       " 'laslaz',\n",
       " 'charbonnel',\n",
       " 'sosmontagne',\n",
       " 'comenergie',\n",
       " 'contentieuses',\n",
       " 'bashaut',\n",
       " 'sercus',\n",
       " 'policeen',\n",
       " 'università',\n",
       " 'cattolica',\n",
       " 'cuore',\n",
       " 'acculeront',\n",
       " 'ramelli',\n",
       " 'pedenovi',\n",
       " 'originevieux',\n",
       " 'tréhorel',\n",
       " 'kerampuil',\n",
       " 'festivalles',\n",
       " 'nvgdj',\n",
       " 'cjxd',\n",
       " 'georgio',\n",
       " 'equipés',\n",
       " 'disqueuse',\n",
       " 'enchainés',\n",
       " 'frigorifier',\n",
       " 'nace',\n",
       " 'arretes',\n",
       " 'leprfirst',\n",
       " 'miike',\n",
       " 'yazukas',\n",
       " 'problèmeetats',\n",
       " 'sawaya',\n",
       " 'septembrecongé',\n",
       " 'desbonnets',\n",
       " 'priverles',\n",
       " 'yteulaire',\n",
       " 'loufoquerie',\n",
       " 'blanrue',\n",
       " 'correspondantrémi',\n",
       " 'goubil',\n",
       " 'delcourtsuisse',\n",
       " 'devisée',\n",
       " 'neuchâteloise',\n",
       " 'déprédation']"
      ]
     },
     "execution_count": 53,
     "metadata": {},
     "output_type": "execute_result"
    }
   ],
   "source": [
    "ignore_words[-500:]"
   ]
  },
  {
   "cell_type": "code",
   "execution_count": 70,
   "id": "8425bebf",
   "metadata": {},
   "outputs": [
    {
     "data": {
      "text/html": [
       "<div>\n",
       "<style scoped>\n",
       "    .dataframe tbody tr th:only-of-type {\n",
       "        vertical-align: middle;\n",
       "    }\n",
       "\n",
       "    .dataframe tbody tr th {\n",
       "        vertical-align: top;\n",
       "    }\n",
       "\n",
       "    .dataframe thead th {\n",
       "        text-align: right;\n",
       "    }\n",
       "</style>\n",
       "<table border=\"1\" class=\"dataframe\">\n",
       "  <thead>\n",
       "    <tr style=\"text-align: right;\">\n",
       "      <th></th>\n",
       "      <th>url</th>\n",
       "      <th>title</th>\n",
       "      <th>article</th>\n",
       "      <th>site</th>\n",
       "      <th>author</th>\n",
       "      <th>date_iso</th>\n",
       "      <th>url_h</th>\n",
       "      <th>c_count</th>\n",
       "      <th>text</th>\n",
       "      <th>w_list</th>\n",
       "      <th>l_list</th>\n",
       "      <th>w_count</th>\n",
       "      <th>theme_score</th>\n",
       "      <th>theme</th>\n",
       "      <th>l_text</th>\n",
       "    </tr>\n",
       "  </thead>\n",
       "  <tbody>\n",
       "    <tr>\n",
       "      <th>100</th>\n",
       "      <td>https://reseauinternational.net/pays-bas-myste...</td>\n",
       "      <td>Pays-Bas : Mystérieux excès de mortalité en 2022</td>\n",
       "      <td>par Covidémence.\\nIl se passe quelque chose de...</td>\n",
       "      <td>reseauinternational.net</td>\n",
       "      <td>NaN</td>\n",
       "      <td>2022-09-26T00:00:00</td>\n",
       "      <td>a983ce277eeb70584af67a3296ebbddd450ae596</td>\n",
       "      <td>3400</td>\n",
       "      <td>pays-bas : mystérieux excès de mortalité en 20...</td>\n",
       "      <td>[pays, bas, mystérieux, excès, de, mortalité, ...</td>\n",
       "      <td>[pays, bas, mystérieux, excès, de, mortalité, ...</td>\n",
       "      <td>529</td>\n",
       "      <td>3</td>\n",
       "      <td>1</td>\n",
       "      <td>pays bas mystérieux excès de mortalité en par ...</td>\n",
       "    </tr>\n",
       "    <tr>\n",
       "      <th>72485</th>\n",
       "      <td>https://www.profession-gendarme.com/ca-restera...</td>\n",
       "      <td>« Ça restera dans les anales. » Épisode 9, 23 ...</td>\n",
       "      <td>Coccyx Grue 613 abonnés « Ça restera dans les ...</td>\n",
       "      <td>www.profession-gendarme.com</td>\n",
       "      <td>NaN</td>\n",
       "      <td>NaN</td>\n",
       "      <td>eb9dcad0b17d15dbf04502320c2c28c80fd92390</td>\n",
       "      <td>623</td>\n",
       "      <td>« ça restera dans les anales. » épisode 9, 23 ...</td>\n",
       "      <td>[ça, restera, dans, les, anales, épisode, avri...</td>\n",
       "      <td>[ça, rester, dans, les, anal, épisode, avril, ...</td>\n",
       "      <td>83</td>\n",
       "      <td>0</td>\n",
       "      <td>0</td>\n",
       "      <td>ça rester dans les anal épisode avril la minut...</td>\n",
       "    </tr>\n",
       "    <tr>\n",
       "      <th>72995</th>\n",
       "      <td>https://www.profession-gendarme.com/epidemie-d...</td>\n",
       "      <td>Epidémie de problèmes cardiaques chez des spor...</td>\n",
       "      <td>Publié le 15 octobre 2021 par Olivier Demeulen...</td>\n",
       "      <td>www.profession-gendarme.com</td>\n",
       "      <td>NaN</td>\n",
       "      <td>NaN</td>\n",
       "      <td>7b0461c617b52f02978bf933d096788609ccf2ba</td>\n",
       "      <td>2064</td>\n",
       "      <td>epidémie de problèmes cardiaques chez des spor...</td>\n",
       "      <td>[epidémie, de, problèmes, cardiaques, chez, de...</td>\n",
       "      <td>[epidémie, de, problème, cardiaque, chez, des,...</td>\n",
       "      <td>321</td>\n",
       "      <td>1</td>\n",
       "      <td>0</td>\n",
       "      <td>epidémie de problème cardiaque chez des sporti...</td>\n",
       "    </tr>\n",
       "    <tr>\n",
       "      <th>73274</th>\n",
       "      <td>https://www.profession-gendarme.com/il-faut-fa...</td>\n",
       "      <td>« Il faut faire barrage à l’extrême droite, et...</td>\n",
       "      <td>Macron vs Le Pen : La Peste ou l’Eczéma ?\\n« O...</td>\n",
       "      <td>www.profession-gendarme.com</td>\n",
       "      <td>NaN</td>\n",
       "      <td>NaN</td>\n",
       "      <td>583c7f7e29d6474ffc8460c155ea5c51a747cd7d</td>\n",
       "      <td>18679</td>\n",
       "      <td>« il faut faire barrage à l’extrême droite, et...</td>\n",
       "      <td>[il, faut, faire, barrage, extrême, droite, et...</td>\n",
       "      <td>[il, falloir, faire, barrage, extrême, droit, ...</td>\n",
       "      <td>2998</td>\n",
       "      <td>4</td>\n",
       "      <td>1</td>\n",
       "      <td>il falloir faire barrage extrême droit et extr...</td>\n",
       "    </tr>\n",
       "    <tr>\n",
       "      <th>73438</th>\n",
       "      <td>https://www.profession-gendarme.com/la-confian...</td>\n",
       "      <td>La confiance n’exclut pas le contrôle, mais le...</td>\n",
       "      <td>Résultats du 2e tour de la présidentielle et c...</td>\n",
       "      <td>www.profession-gendarme.com</td>\n",
       "      <td>NaN</td>\n",
       "      <td>NaN</td>\n",
       "      <td>304cc1440efc9d38b2cec01186dec56d0e230e80</td>\n",
       "      <td>17249</td>\n",
       "      <td>la confiance n’exclut pas le contrôle, mais le...</td>\n",
       "      <td>[la, confiance, exclut, pas, le, contrôle, mai...</td>\n",
       "      <td>[la, confiance, exclure, pas, le, contrôle, ma...</td>\n",
       "      <td>2753</td>\n",
       "      <td>0</td>\n",
       "      <td>0</td>\n",
       "      <td>la confiance exclure pas le contrôle mais le c...</td>\n",
       "    </tr>\n",
       "    <tr>\n",
       "      <th>74378</th>\n",
       "      <td>https://www.profession-gendarme.com/passe-vaxi...</td>\n",
       "      <td>« Passe vaxinal » : comment les nationaux-covi...</td>\n",
       "      <td>Pécron, Macresse, Hidalcresse, Taubicron, Jacr...</td>\n",
       "      <td>www.profession-gendarme.com</td>\n",
       "      <td>NaN</td>\n",
       "      <td>NaN</td>\n",
       "      <td>2a18ddb3a3050f2d5175ff64c080c4ae4a43314f</td>\n",
       "      <td>10897</td>\n",
       "      <td>« passe vaxinal » : comment les nationaux-covi...</td>\n",
       "      <td>[passe, vaxinal, comment, les, nationaux, covi...</td>\n",
       "      <td>[passe, vaxinal, comment, les, national, covid...</td>\n",
       "      <td>1702</td>\n",
       "      <td>2</td>\n",
       "      <td>1</td>\n",
       "      <td>passe vaxinal comment les national covidistes ...</td>\n",
       "    </tr>\n",
       "  </tbody>\n",
       "</table>\n",
       "</div>"
      ],
      "text/plain": [
       "                                                     url  \\\n",
       "100    https://reseauinternational.net/pays-bas-myste...   \n",
       "72485  https://www.profession-gendarme.com/ca-restera...   \n",
       "72995  https://www.profession-gendarme.com/epidemie-d...   \n",
       "73274  https://www.profession-gendarme.com/il-faut-fa...   \n",
       "73438  https://www.profession-gendarme.com/la-confian...   \n",
       "74378  https://www.profession-gendarme.com/passe-vaxi...   \n",
       "\n",
       "                                                   title  \\\n",
       "100     Pays-Bas : Mystérieux excès de mortalité en 2022   \n",
       "72485  « Ça restera dans les anales. » Épisode 9, 23 ...   \n",
       "72995  Epidémie de problèmes cardiaques chez des spor...   \n",
       "73274  « Il faut faire barrage à l’extrême droite, et...   \n",
       "73438  La confiance n’exclut pas le contrôle, mais le...   \n",
       "74378  « Passe vaxinal » : comment les nationaux-covi...   \n",
       "\n",
       "                                                 article  \\\n",
       "100    par Covidémence.\\nIl se passe quelque chose de...   \n",
       "72485  Coccyx Grue 613 abonnés « Ça restera dans les ...   \n",
       "72995  Publié le 15 octobre 2021 par Olivier Demeulen...   \n",
       "73274  Macron vs Le Pen : La Peste ou l’Eczéma ?\\n« O...   \n",
       "73438  Résultats du 2e tour de la présidentielle et c...   \n",
       "74378  Pécron, Macresse, Hidalcresse, Taubicron, Jacr...   \n",
       "\n",
       "                              site author             date_iso  \\\n",
       "100        reseauinternational.net    NaN  2022-09-26T00:00:00   \n",
       "72485  www.profession-gendarme.com    NaN                  NaN   \n",
       "72995  www.profession-gendarme.com    NaN                  NaN   \n",
       "73274  www.profession-gendarme.com    NaN                  NaN   \n",
       "73438  www.profession-gendarme.com    NaN                  NaN   \n",
       "74378  www.profession-gendarme.com    NaN                  NaN   \n",
       "\n",
       "                                          url_h  c_count  \\\n",
       "100    a983ce277eeb70584af67a3296ebbddd450ae596     3400   \n",
       "72485  eb9dcad0b17d15dbf04502320c2c28c80fd92390      623   \n",
       "72995  7b0461c617b52f02978bf933d096788609ccf2ba     2064   \n",
       "73274  583c7f7e29d6474ffc8460c155ea5c51a747cd7d    18679   \n",
       "73438  304cc1440efc9d38b2cec01186dec56d0e230e80    17249   \n",
       "74378  2a18ddb3a3050f2d5175ff64c080c4ae4a43314f    10897   \n",
       "\n",
       "                                                    text  \\\n",
       "100    pays-bas : mystérieux excès de mortalité en 20...   \n",
       "72485  « ça restera dans les anales. » épisode 9, 23 ...   \n",
       "72995  epidémie de problèmes cardiaques chez des spor...   \n",
       "73274  « il faut faire barrage à l’extrême droite, et...   \n",
       "73438  la confiance n’exclut pas le contrôle, mais le...   \n",
       "74378  « passe vaxinal » : comment les nationaux-covi...   \n",
       "\n",
       "                                                  w_list  \\\n",
       "100    [pays, bas, mystérieux, excès, de, mortalité, ...   \n",
       "72485  [ça, restera, dans, les, anales, épisode, avri...   \n",
       "72995  [epidémie, de, problèmes, cardiaques, chez, de...   \n",
       "73274  [il, faut, faire, barrage, extrême, droite, et...   \n",
       "73438  [la, confiance, exclut, pas, le, contrôle, mai...   \n",
       "74378  [passe, vaxinal, comment, les, nationaux, covi...   \n",
       "\n",
       "                                                  l_list  w_count  \\\n",
       "100    [pays, bas, mystérieux, excès, de, mortalité, ...      529   \n",
       "72485  [ça, rester, dans, les, anal, épisode, avril, ...       83   \n",
       "72995  [epidémie, de, problème, cardiaque, chez, des,...      321   \n",
       "73274  [il, falloir, faire, barrage, extrême, droit, ...     2998   \n",
       "73438  [la, confiance, exclure, pas, le, contrôle, ma...     2753   \n",
       "74378  [passe, vaxinal, comment, les, national, covid...     1702   \n",
       "\n",
       "       theme_score  theme                                             l_text  \n",
       "100              3      1  pays bas mystérieux excès de mortalité en par ...  \n",
       "72485            0      0  ça rester dans les anal épisode avril la minut...  \n",
       "72995            1      0  epidémie de problème cardiaque chez des sporti...  \n",
       "73274            4      1  il falloir faire barrage extrême droit et extr...  \n",
       "73438            0      0  la confiance exclure pas le contrôle mais le c...  \n",
       "74378            2      1  passe vaxinal comment les national covidistes ...  "
      ]
     },
     "execution_count": 70,
     "metadata": {},
     "output_type": "execute_result"
    }
   ],
   "source": [
    "df_corpus[df_corpus['text'].str.contains(r\"drouâte\")]"
   ]
  },
  {
   "cell_type": "code",
   "execution_count": 71,
   "id": "302b1aba",
   "metadata": {},
   "outputs": [
    {
     "data": {
      "text/plain": [
       "'« ça restera dans les anales. » épisode 9, 23 avril 2022. la minute nécessaire de jean-brichèle.\\ncoccyx grue 613 abonnés « ça restera dans les anales. » « pas une voix pour l’« extrême drouâteuh » ! la minute nécessaire de jean-brichèle, première iel en direct de l’élysée (montmartre). épisode 9, 23 avril 2022 caméra / réalisation / montage : mimi makrell merci à françois pour le générique troupier http://www.altersexualite.com/spip.ph… perruques jaunes : https://t.me/perruquesjaunes mensonges à l’élysée : http://pressibus.org/gen/trogneux/ind… luís de camões : http://www.altersexualite.com/spip.ph…\\nsource : youtube'"
      ]
     },
     "execution_count": 71,
     "metadata": {},
     "output_type": "execute_result"
    }
   ],
   "source": [
    "df_corpus['text'][72485]"
   ]
  },
  {
   "cell_type": "code",
   "execution_count": 67,
   "id": "b6c60806",
   "metadata": {},
   "outputs": [],
   "source": [
    "import patat.util.file"
   ]
  },
  {
   "cell_type": "code",
   "execution_count": 69,
   "id": "104fb433",
   "metadata": {},
   "outputs": [],
   "source": [
    "patat.util.file.text_save('\\n'.join(ignore_words),'data/tmp/221018-IgnoreWords.csv')"
   ]
  },
  {
   "cell_type": "code",
   "execution_count": null,
   "id": "2488ebb8",
   "metadata": {},
   "outputs": [],
   "source": []
  }
 ],
 "metadata": {
  "kernelspec": {
   "display_name": "Python 3 (ipykernel)",
   "language": "python",
   "name": "python3"
  },
  "language_info": {
   "codemirror_mode": {
    "name": "ipython",
    "version": 3
   },
   "file_extension": ".py",
   "mimetype": "text/x-python",
   "name": "python",
   "nbconvert_exporter": "python",
   "pygments_lexer": "ipython3",
   "version": "3.9.13"
  }
 },
 "nbformat": 4,
 "nbformat_minor": 5
}
