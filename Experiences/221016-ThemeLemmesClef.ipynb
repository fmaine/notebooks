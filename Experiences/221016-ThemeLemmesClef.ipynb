{
 "cells": [
  {
   "cell_type": "markdown",
   "id": "e3ec4689",
   "metadata": {},
   "source": [
    "# Plateforme Agnostique de Traitement et d'Analyse des Textes\n",
    "### Carnet d'expérimentation\n",
    "---\n",
    "\n",
    "## Sujet : Theme  : Recherche de lemmes clefs\n",
    "\n",
    "\n",
    "---"
   ]
  },
  {
   "cell_type": "markdown",
   "id": "2601e626",
   "metadata": {},
   "source": [
    "## Observations et environnement\n",
    "---"
   ]
  },
  {
   "cell_type": "code",
   "execution_count": 1,
   "id": "5d0de4d7",
   "metadata": {},
   "outputs": [
    {
     "name": "stdout",
     "output_type": "stream",
     "text": [
      "/Users/fm/Desktop/Work/Patat\n"
     ]
    }
   ],
   "source": [
    "cd ../.."
   ]
  },
  {
   "cell_type": "code",
   "execution_count": 2,
   "id": "32256b0d",
   "metadata": {},
   "outputs": [],
   "source": [
    "import importlib\n",
    "import pandas as pd\n",
    "import seaborn as sns"
   ]
  },
  {
   "cell_type": "markdown",
   "id": "29618668",
   "metadata": {},
   "source": [
    "### Chargement des données"
   ]
  },
  {
   "cell_type": "code",
   "execution_count": 3,
   "id": "2f80b2c0",
   "metadata": {},
   "outputs": [],
   "source": [
    "article_filename = ''"
   ]
  },
  {
   "cell_type": "code",
   "execution_count": 4,
   "id": "05cde00c",
   "metadata": {},
   "outputs": [
    {
     "data": {
      "text/html": [
       "<div>\n",
       "<style scoped>\n",
       "    .dataframe tbody tr th:only-of-type {\n",
       "        vertical-align: middle;\n",
       "    }\n",
       "\n",
       "    .dataframe tbody tr th {\n",
       "        vertical-align: top;\n",
       "    }\n",
       "\n",
       "    .dataframe thead th {\n",
       "        text-align: right;\n",
       "    }\n",
       "</style>\n",
       "<table border=\"1\" class=\"dataframe\">\n",
       "  <thead>\n",
       "    <tr style=\"text-align: right;\">\n",
       "      <th></th>\n",
       "      <th>url</th>\n",
       "      <th>title</th>\n",
       "      <th>article</th>\n",
       "      <th>site</th>\n",
       "      <th>author</th>\n",
       "      <th>date_iso</th>\n",
       "      <th>url_h</th>\n",
       "      <th>c_count</th>\n",
       "    </tr>\n",
       "  </thead>\n",
       "  <tbody>\n",
       "    <tr>\n",
       "      <th>0</th>\n",
       "      <td>https://reseauinternational.net/tous-les-jeune...</td>\n",
       "      <td>Tous les jeunes, portez la nouvelle (russe)</td>\n",
       "      <td>par Pepe Escobar.\\nL’OCS à Samarcande et l’Ass...</td>\n",
       "      <td>reseauinternational.net</td>\n",
       "      <td>NaN</td>\n",
       "      <td>2022-09-30T00:00:00</td>\n",
       "      <td>f95a294c94ff76cc9626ae06300a8b38067f89cf</td>\n",
       "      <td>10366.0</td>\n",
       "    </tr>\n",
       "    <tr>\n",
       "      <th>1</th>\n",
       "      <td>https://reseauinternational.net/adhesion-a-la-...</td>\n",
       "      <td>Adhésion à la Russie : 93% pour le « oui » dan...</td>\n",
       "      <td>Dans les régions de Zaporijia et de Kherson, 9...</td>\n",
       "      <td>reseauinternational.net</td>\n",
       "      <td>NaN</td>\n",
       "      <td>2022-09-30T00:00:00</td>\n",
       "      <td>c924dab7ded47578d81c3ae46f8be0964b3c50f1</td>\n",
       "      <td>1607.0</td>\n",
       "    </tr>\n",
       "    <tr>\n",
       "      <th>2</th>\n",
       "      <td>https://lemediaen442.fr/onu-le-premier-ministr...</td>\n",
       "      <td>ONU – Le Premier ministre de Nouvelle-Zélande ...</td>\n",
       "      <td>L’argument principal de la ministre est que le...</td>\n",
       "      <td>lemediaen442.fr</td>\n",
       "      <td>NaN</td>\n",
       "      <td>2022-09-29T00:00:00</td>\n",
       "      <td>3d47a59ef99274fd9ee96c209cc2ab41d6e1f6bb</td>\n",
       "      <td>1444.0</td>\n",
       "    </tr>\n",
       "    <tr>\n",
       "      <th>3</th>\n",
       "      <td>https://www.francesoir.fr/societe-environnemen...</td>\n",
       "      <td>Compostage humain: les “funérailles vertes” ga...</td>\n",
       "      <td>Aux États-Unis, les différents gouvernements r...</td>\n",
       "      <td>www.francesoir.fr</td>\n",
       "      <td>Auteur(s)\\nFranceSoir</td>\n",
       "      <td>2022-09-28T13:15:00</td>\n",
       "      <td>0c0341a1f5fae820ee307cb54024df6b06a93d85</td>\n",
       "      <td>4040.0</td>\n",
       "    </tr>\n",
       "    <tr>\n",
       "      <th>4</th>\n",
       "      <td>https://www.breizh-info.com/2022/09/27/208410/...</td>\n",
       "      <td>Donatello : génie de la Renaissance</td>\n",
       "      <td>Portrait du sculpteur Donatello (1386-1466), p...</td>\n",
       "      <td>www.breizh-info.com</td>\n",
       "      <td>NaN</td>\n",
       "      <td>2022-09-27T00:00:00</td>\n",
       "      <td>fcce819327d0302c4cf5e3a8a43b54327ffb8e63</td>\n",
       "      <td>1145.0</td>\n",
       "    </tr>\n",
       "    <tr>\n",
       "      <th>...</th>\n",
       "      <td>...</td>\n",
       "      <td>...</td>\n",
       "      <td>...</td>\n",
       "      <td>...</td>\n",
       "      <td>...</td>\n",
       "      <td>...</td>\n",
       "      <td>...</td>\n",
       "      <td>...</td>\n",
       "    </tr>\n",
       "    <tr>\n",
       "      <th>77906</th>\n",
       "      <td>https://www.lelibrepenseur.org/une-histoire-vi...</td>\n",
       "      <td>Une histoire vieille comme le monde !</td>\n",
       "      <td>Certains veulent des preuves ! Ils ont raison....</td>\n",
       "      <td>www.lelibrepenseur.org</td>\n",
       "      <td>Par\\nAdmin</td>\n",
       "      <td>2010-05-04T00:00:00</td>\n",
       "      <td>8c7a6ecf46d47da1912884a0c0a2837c69f7ad19</td>\n",
       "      <td>NaN</td>\n",
       "    </tr>\n",
       "    <tr>\n",
       "      <th>77907</th>\n",
       "      <td>https://www.lelibrepenseur.org/actus/</td>\n",
       "      <td>Actus</td>\n",
       "      <td>Dernière vidéo !\\nIl était temps, enfin ! Je v...</td>\n",
       "      <td>www.lelibrepenseur.org</td>\n",
       "      <td>Par\\nuser</td>\n",
       "      <td>2007-07-07T00:00:00</td>\n",
       "      <td>d4d5a37a8ff545664bea75664c8d8695e70d0941</td>\n",
       "      <td>NaN</td>\n",
       "    </tr>\n",
       "    <tr>\n",
       "      <th>77908</th>\n",
       "      <td>https://www.lelibrepenseur.org/affiche-des-dec...</td>\n",
       "      <td>Affiche des décès et malaises de sportifs de h...</td>\n",
       "      <td>Un nombre inquiétant de sportifs de haut nivea...</td>\n",
       "      <td>www.lelibrepenseur.org</td>\n",
       "      <td>NaN</td>\n",
       "      <td>NaN</td>\n",
       "      <td>a175027896cf79e76dfad6409694fafacf1919b3</td>\n",
       "      <td>NaN</td>\n",
       "    </tr>\n",
       "    <tr>\n",
       "      <th>77909</th>\n",
       "      <td>https://www.lelibrepenseur.org/communaute/</td>\n",
       "      <td>Communauté</td>\n",
       "      <td>Notre Réseau Telegram et ses Groupes Secondair...</td>\n",
       "      <td>www.lelibrepenseur.org</td>\n",
       "      <td>NaN</td>\n",
       "      <td>NaN</td>\n",
       "      <td>6ba257c7b15dd68cadf7dc5d6d8c584db0f1792e</td>\n",
       "      <td>NaN</td>\n",
       "    </tr>\n",
       "    <tr>\n",
       "      <th>77910</th>\n",
       "      <td>https://www.lelibrepenseur.org/utilisation-des...</td>\n",
       "      <td>Utilisation des cookies sur notre site</td>\n",
       "      <td>Que sont les cookies ?\\n\\n\\nLes cookies sont d...</td>\n",
       "      <td>www.lelibrepenseur.org</td>\n",
       "      <td>NaN</td>\n",
       "      <td>NaN</td>\n",
       "      <td>7c725113f0c9a95c8269c8d7a271d253ae5ede99</td>\n",
       "      <td>NaN</td>\n",
       "    </tr>\n",
       "  </tbody>\n",
       "</table>\n",
       "<p>77911 rows × 8 columns</p>\n",
       "</div>"
      ],
      "text/plain": [
       "                                                     url  \\\n",
       "0      https://reseauinternational.net/tous-les-jeune...   \n",
       "1      https://reseauinternational.net/adhesion-a-la-...   \n",
       "2      https://lemediaen442.fr/onu-le-premier-ministr...   \n",
       "3      https://www.francesoir.fr/societe-environnemen...   \n",
       "4      https://www.breizh-info.com/2022/09/27/208410/...   \n",
       "...                                                  ...   \n",
       "77906  https://www.lelibrepenseur.org/une-histoire-vi...   \n",
       "77907              https://www.lelibrepenseur.org/actus/   \n",
       "77908  https://www.lelibrepenseur.org/affiche-des-dec...   \n",
       "77909         https://www.lelibrepenseur.org/communaute/   \n",
       "77910  https://www.lelibrepenseur.org/utilisation-des...   \n",
       "\n",
       "                                                   title  \\\n",
       "0            Tous les jeunes, portez la nouvelle (russe)   \n",
       "1      Adhésion à la Russie : 93% pour le « oui » dan...   \n",
       "2      ONU – Le Premier ministre de Nouvelle-Zélande ...   \n",
       "3      Compostage humain: les “funérailles vertes” ga...   \n",
       "4                    Donatello : génie de la Renaissance   \n",
       "...                                                  ...   \n",
       "77906              Une histoire vieille comme le monde !   \n",
       "77907                                              Actus   \n",
       "77908  Affiche des décès et malaises de sportifs de h...   \n",
       "77909                                         Communauté   \n",
       "77910             Utilisation des cookies sur notre site   \n",
       "\n",
       "                                                 article  \\\n",
       "0      par Pepe Escobar.\\nL’OCS à Samarcande et l’Ass...   \n",
       "1      Dans les régions de Zaporijia et de Kherson, 9...   \n",
       "2      L’argument principal de la ministre est que le...   \n",
       "3      Aux États-Unis, les différents gouvernements r...   \n",
       "4      Portrait du sculpteur Donatello (1386-1466), p...   \n",
       "...                                                  ...   \n",
       "77906  Certains veulent des preuves ! Ils ont raison....   \n",
       "77907  Dernière vidéo !\\nIl était temps, enfin ! Je v...   \n",
       "77908  Un nombre inquiétant de sportifs de haut nivea...   \n",
       "77909  Notre Réseau Telegram et ses Groupes Secondair...   \n",
       "77910  Que sont les cookies ?\\n\\n\\nLes cookies sont d...   \n",
       "\n",
       "                          site                 author             date_iso  \\\n",
       "0      reseauinternational.net                    NaN  2022-09-30T00:00:00   \n",
       "1      reseauinternational.net                    NaN  2022-09-30T00:00:00   \n",
       "2              lemediaen442.fr                    NaN  2022-09-29T00:00:00   \n",
       "3            www.francesoir.fr  Auteur(s)\\nFranceSoir  2022-09-28T13:15:00   \n",
       "4          www.breizh-info.com                    NaN  2022-09-27T00:00:00   \n",
       "...                        ...                    ...                  ...   \n",
       "77906   www.lelibrepenseur.org             Par\\nAdmin  2010-05-04T00:00:00   \n",
       "77907   www.lelibrepenseur.org              Par\\nuser  2007-07-07T00:00:00   \n",
       "77908   www.lelibrepenseur.org                    NaN                  NaN   \n",
       "77909   www.lelibrepenseur.org                    NaN                  NaN   \n",
       "77910   www.lelibrepenseur.org                    NaN                  NaN   \n",
       "\n",
       "                                          url_h  c_count  \n",
       "0      f95a294c94ff76cc9626ae06300a8b38067f89cf  10366.0  \n",
       "1      c924dab7ded47578d81c3ae46f8be0964b3c50f1   1607.0  \n",
       "2      3d47a59ef99274fd9ee96c209cc2ab41d6e1f6bb   1444.0  \n",
       "3      0c0341a1f5fae820ee307cb54024df6b06a93d85   4040.0  \n",
       "4      fcce819327d0302c4cf5e3a8a43b54327ffb8e63   1145.0  \n",
       "...                                         ...      ...  \n",
       "77906  8c7a6ecf46d47da1912884a0c0a2837c69f7ad19      NaN  \n",
       "77907  d4d5a37a8ff545664bea75664c8d8695e70d0941      NaN  \n",
       "77908  a175027896cf79e76dfad6409694fafacf1919b3      NaN  \n",
       "77909  6ba257c7b15dd68cadf7dc5d6d8c584db0f1792e      NaN  \n",
       "77910  7c725113f0c9a95c8269c8d7a271d253ae5ede99      NaN  \n",
       "\n",
       "[77911 rows x 8 columns]"
      ]
     },
     "execution_count": 4,
     "metadata": {},
     "output_type": "execute_result"
    }
   ],
   "source": [
    "import patat.db.article_db\n",
    "article_db = patat.db.article_db.ArticleDb(article_filename)\n",
    "article_db.df()"
   ]
  },
  {
   "cell_type": "markdown",
   "id": "26de4d29",
   "metadata": {},
   "source": [
    "## Expérience\n",
    "---"
   ]
  },
  {
   "cell_type": "code",
   "execution_count": 5,
   "id": "3300fd3b",
   "metadata": {},
   "outputs": [],
   "source": [
    "df_corpus =article_db.df().copy()"
   ]
  },
  {
   "cell_type": "markdown",
   "id": "e7356678",
   "metadata": {},
   "source": [
    "### texte = titre + article en minuscules"
   ]
  },
  {
   "cell_type": "code",
   "execution_count": 6,
   "id": "5b09fef1",
   "metadata": {},
   "outputs": [],
   "source": [
    "df_corpus['text'] = df_corpus['title'] + '\\n' + df_corpus['article']"
   ]
  },
  {
   "cell_type": "code",
   "execution_count": 7,
   "id": "4175568c",
   "metadata": {},
   "outputs": [],
   "source": [
    "df_corpus['text'] = df_corpus['text'].apply(str.lower)"
   ]
  },
  {
   "cell_type": "markdown",
   "id": "ded65672",
   "metadata": {},
   "source": [
    "### Suppression Articles courts et longs"
   ]
  },
  {
   "cell_type": "code",
   "execution_count": 8,
   "id": "90ef3ff4",
   "metadata": {},
   "outputs": [],
   "source": [
    "df_corpus['c_count'] = df_corpus['text'].apply(len)"
   ]
  },
  {
   "cell_type": "code",
   "execution_count": 9,
   "id": "0221bdbc",
   "metadata": {},
   "outputs": [],
   "source": [
    "df_corpus = df_corpus[df_corpus['c_count']<20000]"
   ]
  },
  {
   "cell_type": "code",
   "execution_count": 10,
   "id": "d31f92f2",
   "metadata": {},
   "outputs": [],
   "source": [
    "df_corpus = df_corpus[df_corpus['c_count']>=500]"
   ]
  },
  {
   "cell_type": "code",
   "execution_count": 11,
   "id": "b0e38c29",
   "metadata": {},
   "outputs": [
    {
     "data": {
      "text/plain": [
       "<seaborn.axisgrid.FacetGrid at 0x150059730>"
      ]
     },
     "execution_count": 11,
     "metadata": {},
     "output_type": "execute_result"
    },
    {
     "data": {
      "image/png": "[encoded data removed]",
      "text/plain": [
       "<Figure size 360x360 with 1 Axes>"
      ]
     },
     "metadata": {
      "needs_background": "light"
     },
     "output_type": "display_data"
    }
   ],
   "source": [
    "sns.displot(df_corpus,x='c_count')"
   ]
  },
  {
   "cell_type": "code",
   "execution_count": 12,
   "id": "8b7f6874",
   "metadata": {},
   "outputs": [
    {
     "data": {
      "text/plain": [
       "(76602, 9)"
      ]
     },
     "execution_count": 12,
     "metadata": {},
     "output_type": "execute_result"
    }
   ],
   "source": [
    "df_corpus.shape"
   ]
  },
  {
   "cell_type": "markdown",
   "id": "44e86d30",
   "metadata": {},
   "source": [
    "### Lemmatization Corpus"
   ]
  },
  {
   "cell_type": "code",
   "execution_count": 13,
   "id": "cd8553ce",
   "metadata": {},
   "outputs": [],
   "source": [
    "from patat.ml.lex_analyser import LexAnalyser"
   ]
  },
  {
   "cell_type": "code",
   "execution_count": 14,
   "id": "b4acf8ca",
   "metadata": {},
   "outputs": [],
   "source": [
    "lex = LexAnalyser()"
   ]
  },
  {
   "cell_type": "code",
   "execution_count": 15,
   "id": "19e42b4e",
   "metadata": {},
   "outputs": [],
   "source": [
    "df_corpus['w_list'] = df_corpus['text'].apply(lex.get_words).copy()"
   ]
  },
  {
   "cell_type": "code",
   "execution_count": 16,
   "id": "3762b515",
   "metadata": {},
   "outputs": [],
   "source": [
    "df_corpus['l_list'] = df_corpus['w_list'].apply(lex.get_lemmas).copy()"
   ]
  },
  {
   "cell_type": "code",
   "execution_count": 17,
   "id": "6627e2a1",
   "metadata": {},
   "outputs": [],
   "source": [
    "df_corpus['w_count'] = df_corpus['w_list'].apply(len) "
   ]
  },
  {
   "cell_type": "code",
   "execution_count": 18,
   "id": "77f22de7",
   "metadata": {},
   "outputs": [
    {
     "data": {
      "text/plain": [
       "<seaborn.axisgrid.FacetGrid at 0x2d4c23460>"
      ]
     },
     "execution_count": 18,
     "metadata": {},
     "output_type": "execute_result"
    },
    {
     "data": {
      "image/png": "[encoded data removed]",
      "text/plain": [
       "<Figure size 500x500 with 1 Axes>"
      ]
     },
     "metadata": {},
     "output_type": "display_data"
    }
   ],
   "source": [
    "sns.displot(df_corpus,x='w_count')"
   ]
  },
  {
   "cell_type": "markdown",
   "id": "b4c3f644",
   "metadata": {},
   "source": [
    "### Choix du thème et des mots associés"
   ]
  },
  {
   "cell_type": "markdown",
   "id": "664e53fd",
   "metadata": {},
   "source": [
    "#### Covid"
   ]
  },
  {
   "cell_type": "code",
   "execution_count": null,
   "id": "c4b42a41",
   "metadata": {},
   "outputs": [],
   "source": [
    "theme_lemmas = lex.get_lemmas(['covid','vaccin','vaccination'])"
   ]
  },
  {
   "cell_type": "code",
   "execution_count": 58,
   "id": "10b4ba11",
   "metadata": {},
   "outputs": [],
   "source": [
    "theme_lemmas = lex.get_lemmas(['ukraine','ukrainien','russie','russe','poutine','guerre','otan'])"
   ]
  },
  {
   "cell_type": "code",
   "execution_count": 59,
   "id": "a8464d37",
   "metadata": {},
   "outputs": [
    {
     "data": {
      "text/plain": [
       "['ukraine', 'ukrainien', 'russie', 'russe', 'poutine', 'guerre', 'otan']"
      ]
     },
     "execution_count": 59,
     "metadata": {},
     "output_type": "execute_result"
    }
   ],
   "source": [
    "theme_lemmas"
   ]
  },
  {
   "cell_type": "markdown",
   "id": "f29d6c3a",
   "metadata": {},
   "source": [
    "### theme_score"
   ]
  },
  {
   "cell_type": "code",
   "execution_count": 60,
   "id": "178399f0",
   "metadata": {},
   "outputs": [],
   "source": [
    "def theme_score(lemmas: list):\n",
    "    score = 0\n",
    "    for lemma in theme_lemmas:\n",
    "        score = score + lemmas.count(lemma)\n",
    "    return score"
   ]
  },
  {
   "cell_type": "code",
   "execution_count": 61,
   "id": "b73b9df6",
   "metadata": {},
   "outputs": [],
   "source": [
    "df_corpus['theme_score'] = df_corpus['l_list'].apply(theme_score)"
   ]
  },
  {
   "cell_type": "code",
   "execution_count": 62,
   "id": "f3a6afac",
   "metadata": {},
   "outputs": [
    {
     "data": {
      "text/html": [
       "<div>\n",
       "<style scoped>\n",
       "    .dataframe tbody tr th:only-of-type {\n",
       "        vertical-align: middle;\n",
       "    }\n",
       "\n",
       "    .dataframe tbody tr th {\n",
       "        vertical-align: top;\n",
       "    }\n",
       "\n",
       "    .dataframe thead th {\n",
       "        text-align: right;\n",
       "    }\n",
       "</style>\n",
       "<table border=\"1\" class=\"dataframe\">\n",
       "  <thead>\n",
       "    <tr style=\"text-align: right;\">\n",
       "      <th></th>\n",
       "      <th>url</th>\n",
       "      <th>title</th>\n",
       "      <th>article</th>\n",
       "      <th>site</th>\n",
       "      <th>author</th>\n",
       "      <th>date_iso</th>\n",
       "      <th>url_h</th>\n",
       "      <th>c_count</th>\n",
       "      <th>text</th>\n",
       "      <th>w_list</th>\n",
       "      <th>l_list</th>\n",
       "      <th>w_count</th>\n",
       "      <th>theme_score</th>\n",
       "      <th>theme</th>\n",
       "    </tr>\n",
       "  </thead>\n",
       "  <tbody>\n",
       "    <tr>\n",
       "      <th>17619</th>\n",
       "      <td>https://www.wikistrike.com/2022/02/breaking-ne...</td>\n",
       "      <td>Guerre en Ukraine, le grand live du jour où le...</td>\n",
       "      <td>LIVE\\nGuerre en Ukraine \\n\\n22 H 38\\nL'Ukraine...</td>\n",
       "      <td>www.wikistrike.com</td>\n",
       "      <td>NaN</td>\n",
       "      <td>2022-02-24T00:00:00</td>\n",
       "      <td>6260be74171e9bfd9ec0795efb1ecf0bfc721a5b</td>\n",
       "      <td>17741</td>\n",
       "      <td>guerre en ukraine, le grand live du jour où le...</td>\n",
       "      <td>[guerre, en, ukraine, le, grand, live, du, jou...</td>\n",
       "      <td>[guerre, en, ukraine, le, grand, live, du, jou...</td>\n",
       "      <td>2370</td>\n",
       "      <td>173</td>\n",
       "      <td>1</td>\n",
       "    </tr>\n",
       "    <tr>\n",
       "      <th>56307</th>\n",
       "      <td>https://fr.sott.net/article/40029-Guerre-en-Uk...</td>\n",
       "      <td>Guerre en Ukraine: les seize preuves de l'enti...</td>\n",
       "      <td>Afin de développer un politique de classe prol...</td>\n",
       "      <td>fr.sott.net</td>\n",
       "      <td>NaN</td>\n",
       "      <td>NaN</td>\n",
       "      <td>1479391f947cdbe4a741d0c3129154c3df9e5135</td>\n",
       "      <td>14843</td>\n",
       "      <td>guerre en ukraine: les seize preuves de l'enti...</td>\n",
       "      <td>[guerre, en, ukraine, les, seize, preuves, de,...</td>\n",
       "      <td>[guerre, en, ukraine, les, seize, preuve, de, ...</td>\n",
       "      <td>2208</td>\n",
       "      <td>147</td>\n",
       "      <td>1</td>\n",
       "    </tr>\n",
       "    <tr>\n",
       "      <th>11794</th>\n",
       "      <td>https://www.wikistrike.com/2022/05/livraison-d...</td>\n",
       "      <td>Livraison d’armes à l’Ukraine: Qu’est-ce qui s...</td>\n",
       "      <td>Pourquoi l’Allemagne envoie-t-elle des armes à...</td>\n",
       "      <td>www.wikistrike.com</td>\n",
       "      <td>NaN</td>\n",
       "      <td>2022-05-22T00:00:00</td>\n",
       "      <td>788494ef1f4c1d74ad40c37b7d38144115c50635</td>\n",
       "      <td>18626</td>\n",
       "      <td>livraison d’armes à l’ukraine: qu’est-ce qui s...</td>\n",
       "      <td>[livraison, armes, ukraine, qu, est, ce, qui, ...</td>\n",
       "      <td>[livraison, arme, ukraine, qu, est, ce, qui, s...</td>\n",
       "      <td>2828</td>\n",
       "      <td>144</td>\n",
       "      <td>1</td>\n",
       "    </tr>\n",
       "    <tr>\n",
       "      <th>56310</th>\n",
       "      <td>https://fr.sott.net/article/40032-C-est-quoi-l...</td>\n",
       "      <td>C'est quoi le problème avec l'Allemagne ?</td>\n",
       "      <td>Pourquoi l'Allemagne envoie-t-elle des armes à...</td>\n",
       "      <td>fr.sott.net</td>\n",
       "      <td>NaN</td>\n",
       "      <td>NaN</td>\n",
       "      <td>156b20782830aa2ac601c6a92c8f7a69f93ca228</td>\n",
       "      <td>18468</td>\n",
       "      <td>c'est quoi le problème avec l'allemagne ?\\npou...</td>\n",
       "      <td>[est, quoi, le, problème, avec, allemagne, pou...</td>\n",
       "      <td>[est, quoi, le, problème, avec, allemagne, pou...</td>\n",
       "      <td>2786</td>\n",
       "      <td>143</td>\n",
       "      <td>1</td>\n",
       "    </tr>\n",
       "    <tr>\n",
       "      <th>5516</th>\n",
       "      <td>https://theconversation.com/comment-la-guerre-...</td>\n",
       "      <td>Comment la guerre menace le riche patrimoine a...</td>\n",
       "      <td>La guerre menée depuis le 24 févier 2022 par M...</td>\n",
       "      <td>theconversation.com</td>\n",
       "      <td>Thibaut Castelli</td>\n",
       "      <td>2022-08-17T19:45:00</td>\n",
       "      <td>7ad30bb7d1307533a857ab4cb5a00e6ceab11181</td>\n",
       "      <td>19253</td>\n",
       "      <td>comment la guerre menace le riche patrimoine a...</td>\n",
       "      <td>[comment, la, guerre, menace, le, riche, patri...</td>\n",
       "      <td>[comment, la, guerre, menace, le, riche, patri...</td>\n",
       "      <td>2897</td>\n",
       "      <td>138</td>\n",
       "      <td>1</td>\n",
       "    </tr>\n",
       "  </tbody>\n",
       "</table>\n",
       "</div>"
      ],
      "text/plain": [
       "                                                     url  \\\n",
       "17619  https://www.wikistrike.com/2022/02/breaking-ne...   \n",
       "56307  https://fr.sott.net/article/40029-Guerre-en-Uk...   \n",
       "11794  https://www.wikistrike.com/2022/05/livraison-d...   \n",
       "56310  https://fr.sott.net/article/40032-C-est-quoi-l...   \n",
       "5516   https://theconversation.com/comment-la-guerre-...   \n",
       "\n",
       "                                                   title  \\\n",
       "17619  Guerre en Ukraine, le grand live du jour où le...   \n",
       "56307  Guerre en Ukraine: les seize preuves de l'enti...   \n",
       "11794  Livraison d’armes à l’Ukraine: Qu’est-ce qui s...   \n",
       "56310          C'est quoi le problème avec l'Allemagne ?   \n",
       "5516   Comment la guerre menace le riche patrimoine a...   \n",
       "\n",
       "                                                 article                 site  \\\n",
       "17619  LIVE\\nGuerre en Ukraine \\n\\n22 H 38\\nL'Ukraine...   www.wikistrike.com   \n",
       "56307  Afin de développer un politique de classe prol...          fr.sott.net   \n",
       "11794  Pourquoi l’Allemagne envoie-t-elle des armes à...   www.wikistrike.com   \n",
       "56310  Pourquoi l'Allemagne envoie-t-elle des armes à...          fr.sott.net   \n",
       "5516   La guerre menée depuis le 24 févier 2022 par M...  theconversation.com   \n",
       "\n",
       "                 author             date_iso  \\\n",
       "17619               NaN  2022-02-24T00:00:00   \n",
       "56307               NaN                  NaN   \n",
       "11794               NaN  2022-05-22T00:00:00   \n",
       "56310               NaN                  NaN   \n",
       "5516   Thibaut Castelli  2022-08-17T19:45:00   \n",
       "\n",
       "                                          url_h  c_count  \\\n",
       "17619  6260be74171e9bfd9ec0795efb1ecf0bfc721a5b    17741   \n",
       "56307  1479391f947cdbe4a741d0c3129154c3df9e5135    14843   \n",
       "11794  788494ef1f4c1d74ad40c37b7d38144115c50635    18626   \n",
       "56310  156b20782830aa2ac601c6a92c8f7a69f93ca228    18468   \n",
       "5516   7ad30bb7d1307533a857ab4cb5a00e6ceab11181    19253   \n",
       "\n",
       "                                                    text  \\\n",
       "17619  guerre en ukraine, le grand live du jour où le...   \n",
       "56307  guerre en ukraine: les seize preuves de l'enti...   \n",
       "11794  livraison d’armes à l’ukraine: qu’est-ce qui s...   \n",
       "56310  c'est quoi le problème avec l'allemagne ?\\npou...   \n",
       "5516   comment la guerre menace le riche patrimoine a...   \n",
       "\n",
       "                                                  w_list  \\\n",
       "17619  [guerre, en, ukraine, le, grand, live, du, jou...   \n",
       "56307  [guerre, en, ukraine, les, seize, preuves, de,...   \n",
       "11794  [livraison, armes, ukraine, qu, est, ce, qui, ...   \n",
       "56310  [est, quoi, le, problème, avec, allemagne, pou...   \n",
       "5516   [comment, la, guerre, menace, le, riche, patri...   \n",
       "\n",
       "                                                  l_list  w_count  \\\n",
       "17619  [guerre, en, ukraine, le, grand, live, du, jou...     2370   \n",
       "56307  [guerre, en, ukraine, les, seize, preuve, de, ...     2208   \n",
       "11794  [livraison, arme, ukraine, qu, est, ce, qui, s...     2828   \n",
       "56310  [est, quoi, le, problème, avec, allemagne, pou...     2786   \n",
       "5516   [comment, la, guerre, menace, le, riche, patri...     2897   \n",
       "\n",
       "       theme_score  theme  \n",
       "17619          173      1  \n",
       "56307          147      1  \n",
       "11794          144      1  \n",
       "56310          143      1  \n",
       "5516           138      1  "
      ]
     },
     "execution_count": 62,
     "metadata": {},
     "output_type": "execute_result"
    }
   ],
   "source": [
    "df_corpus.sort_values('theme_score',ascending=False).head()"
   ]
  },
  {
   "cell_type": "code",
   "execution_count": 63,
   "id": "44cbc187",
   "metadata": {},
   "outputs": [
    {
     "data": {
      "text/plain": [
       "<seaborn.axisgrid.FacetGrid at 0x411c6c8e0>"
      ]
     },
     "execution_count": 63,
     "metadata": {},
     "output_type": "execute_result"
    },
    {
     "data": {
      "image/png": "[encoded data removed]",
      "text/plain": [
       "<Figure size 500x500 with 1 Axes>"
      ]
     },
     "metadata": {},
     "output_type": "display_data"
    }
   ],
   "source": [
    "sns.displot(df_corpus,x='theme_score')"
   ]
  },
  {
   "cell_type": "code",
   "execution_count": 64,
   "id": "cea3e7ab",
   "metadata": {},
   "outputs": [
    {
     "data": {
      "text/plain": [
       "<seaborn.axisgrid.FacetGrid at 0x3e54feac0>"
      ]
     },
     "execution_count": 64,
     "metadata": {},
     "output_type": "execute_result"
    },
    {
     "data": {
      "image/png": "[encoded data removed]",
      "text/plain": [
       "<Figure size 500x500 with 1 Axes>"
      ]
     },
     "metadata": {},
     "output_type": "display_data"
    }
   ],
   "source": [
    "sns.displot(df_corpus[df_corpus['theme_score']<10],x='theme_score')"
   ]
  },
  {
   "cell_type": "code",
   "execution_count": 65,
   "id": "a86979eb",
   "metadata": {},
   "outputs": [],
   "source": [
    "# Seuil à partir duquel on considère que l'article est dans le thème\n",
    "score_threshold = 1\n",
    "#score_threshold = 2"
   ]
  },
  {
   "cell_type": "code",
   "execution_count": 66,
   "id": "4740fe1e",
   "metadata": {},
   "outputs": [],
   "source": [
    "df_corpus['theme']=df_corpus['theme_score'].apply(lambda s : 1 if s>=score_threshold else 0)"
   ]
  },
  {
   "cell_type": "markdown",
   "id": "2a557627",
   "metadata": {},
   "source": [
    "### Reduction corpus"
   ]
  },
  {
   "cell_type": "code",
   "execution_count": 67,
   "id": "fc9fa124",
   "metadata": {},
   "outputs": [],
   "source": [
    "df_0 = df_corpus[df_corpus['theme']==0].sample(3000, random_state=42)\n",
    "df_1 = df_corpus[df_corpus['theme']==1].sample(3000, random_state=42)\n",
    "df_light = pd.concat([df_0,df_1]).copy()"
   ]
  },
  {
   "cell_type": "markdown",
   "id": "aaf0a7bf",
   "metadata": {},
   "source": [
    "### Recherche de Lemmes Communs"
   ]
  },
  {
   "cell_type": "code",
   "execution_count": 68,
   "id": "d27f3887",
   "metadata": {},
   "outputs": [
    {
     "name": "stdout",
     "output_type": "stream",
     "text": [
      "CPU times: user 102 ms, sys: 4.88 ms, total: 107 ms\n",
      "Wall time: 108 ms\n"
     ]
    }
   ],
   "source": [
    "%%time\n",
    "df_light['l_text'] = df_light['l_list'].apply(' '.join)"
   ]
  },
  {
   "cell_type": "code",
   "execution_count": 69,
   "id": "f38955b3",
   "metadata": {},
   "outputs": [
    {
     "name": "stdout",
     "output_type": "stream",
     "text": [
      "CPU times: user 19.4 s, sys: 3.11 s, total: 22.5 s\n",
      "Wall time: 22.6 s\n"
     ]
    }
   ],
   "source": [
    "%%time\n",
    "lemmas_0 = []\n",
    "lemmas_1 = []\n",
    "for index,row in df_light.iterrows():\n",
    "    if row['theme']>0 :\n",
    "        lemmas_1 = lemmas_1 + row['l_list']\n",
    "    else:\n",
    "        lemmas_0 = lemmas_0 + row['l_list']        "
   ]
  },
  {
   "cell_type": "code",
   "execution_count": 70,
   "id": "8321c7a8",
   "metadata": {},
   "outputs": [
    {
     "name": "stdout",
     "output_type": "stream",
     "text": [
      "CPU times: user 19 s, sys: 3.03 s, total: 22 s\n",
      "Wall time: 22 s\n"
     ]
    }
   ],
   "source": [
    "%%time\n",
    "lemmas_0 = df_light[df_light['theme']==0]['l_list'].sum()\n",
    "lemmas_1 = df_light[df_light['theme']==1]['l_list'].sum()"
   ]
  },
  {
   "cell_type": "code",
   "execution_count": 71,
   "id": "85a2365d",
   "metadata": {},
   "outputs": [
    {
     "data": {
      "text/plain": [
       "47433"
      ]
     },
     "execution_count": 71,
     "metadata": {},
     "output_type": "execute_result"
    }
   ],
   "source": [
    "ignore_words = lex.get_ignore_words(lemmas_0, lemmas_1, common_size=200)\n",
    "len(ignore_words)"
   ]
  },
  {
   "cell_type": "code",
   "execution_count": 72,
   "id": "9895616b",
   "metadata": {},
   "outputs": [
    {
     "data": {
      "text/plain": [
       "['de',\n",
       " 'la',\n",
       " 'le',\n",
       " 'les',\n",
       " 'et',\n",
       " 'des',\n",
       " 'en',\n",
       " 'un',\n",
       " 'est',\n",
       " 'une',\n",
       " 'du',\n",
       " 'avoir',\n",
       " 'être',\n",
       " 'pour',\n",
       " 'que',\n",
       " 'dans',\n",
       " 'il',\n",
       " 'qui',\n",
       " 'sur',\n",
       " 'par',\n",
       " 'au',\n",
       " 'pas',\n",
       " 'ce',\n",
       " 'plaire',\n",
       " 'faire',\n",
       " 'qu',\n",
       " 'pouvoir',\n",
       " 'ne',\n",
       " 'se',\n",
       " 'avec',\n",
       " 'on',\n",
       " 'son',\n",
       " 'été',\n",
       " 'mais',\n",
       " 'ou',\n",
       " 'tout',\n",
       " 'aux',\n",
       " 'cette',\n",
       " 'nous',\n",
       " 'vous',\n",
       " 'elle',\n",
       " 'comme',\n",
       " 'an',\n",
       " 'même',\n",
       " 'ces',\n",
       " 'sa',\n",
       " 'aussi',\n",
       " 'france',\n",
       " 'autre',\n",
       " 'ils',\n",
       " 'je',\n",
       " 'leur',\n",
       " 'ses',\n",
       " 'devoir',\n",
       " 'si',\n",
       " 'premier',\n",
       " 'deux',\n",
       " 'après',\n",
       " 'aller',\n",
       " 'nouveau',\n",
       " 'mettre',\n",
       " 'dire',\n",
       " 'personne',\n",
       " 'voir',\n",
       " 'bien',\n",
       " 'grand',\n",
       " 'depuis',\n",
       " 'the',\n",
       " 'sans',\n",
       " 'très',\n",
       " 'prendre',\n",
       " 'selon',\n",
       " 'entre',\n",
       " 'dernier',\n",
       " 'français',\n",
       " 'lui',\n",
       " 'contre',\n",
       " 'année',\n",
       " 'jour',\n",
       " 'alors',\n",
       " 'tous',\n",
       " 'encore',\n",
       " 'où',\n",
       " 'certain',\n",
       " 'donc',\n",
       " 'donner',\n",
       " 'non',\n",
       " 'monde',\n",
       " 'avant',\n",
       " 'leurs',\n",
       " 'moins',\n",
       " 'sou',\n",
       " 'pays',\n",
       " 'dont',\n",
       " 'cela',\n",
       " 'public',\n",
       " 'falloir',\n",
       " 'fois',\n",
       " 'venir',\n",
       " 'homme',\n",
       " 'ainsi',\n",
       " 'notre',\n",
       " 'état',\n",
       " 'vouloir',\n",
       " 'expliquer',\n",
       " 'peu',\n",
       " 'savoir',\n",
       " 'droit',\n",
       " 'également',\n",
       " 'plusieurs',\n",
       " 'mois',\n",
       " 'permettre',\n",
       " 'temps',\n",
       " 'com',\n",
       " 'politique',\n",
       " 'cas',\n",
       " 'ministre',\n",
       " 'présider',\n",
       " 'vie',\n",
       " 'déjà',\n",
       " 'national',\n",
       " 'million',\n",
       " 'source',\n",
       " 'effet',\n",
       " 'gouvernement',\n",
       " 'soit',\n",
       " 'trouver',\n",
       " 'déclarer',\n",
       " 'bon',\n",
       " 'toujours',\n",
       " 'trois',\n",
       " 'place',\n",
       " 'passer',\n",
       " 'quelques',\n",
       " 'fin',\n",
       " 'lors',\n",
       " 'question',\n",
       " 'européen',\n",
       " 'quand',\n",
       " 'nos',\n",
       " 'produire',\n",
       " 'car',\n",
       " 'jusqu',\n",
       " 'macron',\n",
       " 'rendre',\n",
       " 'seul',\n",
       " 'elles',\n",
       " 'nombreux',\n",
       " 'vers',\n",
       " 'partie',\n",
       " 'groupe',\n",
       " 'hui',\n",
       " 'aujourd',\n",
       " 'penser',\n",
       " 'mort',\n",
       " 'beaucoup',\n",
       " 'cet',\n",
       " 'comprendre',\n",
       " 'utiliser']"
      ]
     },
     "execution_count": 72,
     "metadata": {},
     "output_type": "execute_result"
    }
   ],
   "source": [
    "common_words = lex.get_common_words(lemmas_0, lemmas_1, common_size=200)\n",
    "common_words"
   ]
  },
  {
   "cell_type": "code",
   "execution_count": 73,
   "id": "3b88cd0a",
   "metadata": {},
   "outputs": [],
   "source": [
    "from wordcloud import WordCloud\n",
    "import matplotlib.pyplot as plt\n",
    "import numpy as np\n",
    "from PIL import Image"
   ]
  },
  {
   "cell_type": "code",
   "execution_count": 74,
   "id": "769d9628",
   "metadata": {},
   "outputs": [],
   "source": [
    "def display_wc(text,commonwords):\n",
    "    wordcloud = WordCloud(background_color = 'white', stopwords = commonwords, max_words = 50, regexp=r\"\\w\\w+\").generate(text)\n",
    "    plt.imshow(wordcloud)\n",
    "    plt.axis(\"off\")\n",
    "    plt.show();"
   ]
  },
  {
   "cell_type": "code",
   "execution_count": 75,
   "id": "127624a5",
   "metadata": {},
   "outputs": [
    {
     "data": {
      "image/png": "[encoded data removed]",
      "text/plain": [
       "<Figure size 640x480 with 1 Axes>"
      ]
     },
     "metadata": {},
     "output_type": "display_data"
    }
   ],
   "source": [
    "display_wc('\\n'.join(df_light[df_light['theme']==1]['l_text']),ignore_words+theme_lemmas)"
   ]
  },
  {
   "cell_type": "code",
   "execution_count": 76,
   "id": "58625897",
   "metadata": {},
   "outputs": [
    {
     "data": {
      "image/png": "[encoded data removed]",
      "text/plain": [
       "<Figure size 640x480 with 1 Axes>"
      ]
     },
     "metadata": {},
     "output_type": "display_data"
    }
   ],
   "source": [
    "display_wc('\\n'.join(df_light[df_light['theme']==0]['l_text']),ignore_words)"
   ]
  },
  {
   "cell_type": "code",
   "execution_count": 77,
   "id": "845c8122",
   "metadata": {},
   "outputs": [],
   "source": [
    "df_agg = df_light.pivot_table(values='l_text',columns='theme',aggfunc=sum)"
   ]
  },
  {
   "cell_type": "code",
   "execution_count": 78,
   "id": "643d3d45",
   "metadata": {},
   "outputs": [],
   "source": [
    "from collections import Counter"
   ]
  },
  {
   "cell_type": "code",
   "execution_count": 79,
   "id": "8906371b",
   "metadata": {},
   "outputs": [],
   "source": [
    "count_0 = Counter(lex.get_lemmas_from_text(df_agg[0][0]))"
   ]
  },
  {
   "cell_type": "code",
   "execution_count": 80,
   "id": "427081db",
   "metadata": {},
   "outputs": [],
   "source": [
    "count_1 = Counter(lex.get_lemmas_from_text(df_agg[1][0]))"
   ]
  },
  {
   "cell_type": "code",
   "execution_count": 81,
   "id": "2a3c08bd",
   "metadata": {},
   "outputs": [],
   "source": [
    "df_count = pd.concat([pd.DataFrame.from_dict(count_0, orient='index'),pd.DataFrame.from_dict(count_1, orient='index', columns=[1])],axis=1)"
   ]
  },
  {
   "cell_type": "code",
   "execution_count": 82,
   "id": "3bde041c",
   "metadata": {},
   "outputs": [],
   "source": [
    "# drop common words\n",
    "df_count = df_count.drop(index=common_words)"
   ]
  },
  {
   "cell_type": "code",
   "execution_count": 83,
   "id": "7f8cbfc4",
   "metadata": {},
   "outputs": [],
   "source": [
    "df_count = df_count.fillna(0)"
   ]
  },
  {
   "cell_type": "code",
   "execution_count": 84,
   "id": "4de2a7f9",
   "metadata": {},
   "outputs": [],
   "source": [
    "df_count = df_count[(df_count[0]>3)&(df_count[1]>3)]"
   ]
  },
  {
   "cell_type": "code",
   "execution_count": 85,
   "id": "1ab8bd77",
   "metadata": {},
   "outputs": [
    {
     "data": {
      "text/html": [
       "<div>\n",
       "<style scoped>\n",
       "    .dataframe tbody tr th:only-of-type {\n",
       "        vertical-align: middle;\n",
       "    }\n",
       "\n",
       "    .dataframe tbody tr th {\n",
       "        vertical-align: top;\n",
       "    }\n",
       "\n",
       "    .dataframe thead th {\n",
       "        text-align: right;\n",
       "    }\n",
       "</style>\n",
       "<table border=\"1\" class=\"dataframe\">\n",
       "  <thead>\n",
       "    <tr style=\"text-align: right;\">\n",
       "      <th></th>\n",
       "      <th>0</th>\n",
       "      <th>1</th>\n",
       "    </tr>\n",
       "  </thead>\n",
       "  <tbody>\n",
       "    <tr>\n",
       "      <th>américain</th>\n",
       "      <td>638.0</td>\n",
       "      <td>3712.0</td>\n",
       "    </tr>\n",
       "    <tr>\n",
       "      <th>uni</th>\n",
       "      <td>607.0</td>\n",
       "      <td>3635.0</td>\n",
       "    </tr>\n",
       "    <tr>\n",
       "      <th>militaire</th>\n",
       "      <td>186.0</td>\n",
       "      <td>2435.0</td>\n",
       "    </tr>\n",
       "    <tr>\n",
       "      <th>armer</th>\n",
       "      <td>181.0</td>\n",
       "      <td>2264.0</td>\n",
       "    </tr>\n",
       "    <tr>\n",
       "      <th>europe</th>\n",
       "      <td>480.0</td>\n",
       "      <td>2233.0</td>\n",
       "    </tr>\n",
       "    <tr>\n",
       "      <th>force</th>\n",
       "      <td>445.0</td>\n",
       "      <td>2224.0</td>\n",
       "    </tr>\n",
       "    <tr>\n",
       "      <th>mondial</th>\n",
       "      <td>389.0</td>\n",
       "      <td>1965.0</td>\n",
       "    </tr>\n",
       "    <tr>\n",
       "      <th>devenir</th>\n",
       "      <td>682.0</td>\n",
       "      <td>1716.0</td>\n",
       "    </tr>\n",
       "    <tr>\n",
       "      <th>occidental</th>\n",
       "      <td>79.0</td>\n",
       "      <td>1656.0</td>\n",
       "    </tr>\n",
       "    <tr>\n",
       "      <th>arme</th>\n",
       "      <td>191.0</td>\n",
       "      <td>1635.0</td>\n",
       "    </tr>\n",
       "    <tr>\n",
       "      <th>international</th>\n",
       "      <td>385.0</td>\n",
       "      <td>1578.0</td>\n",
       "    </tr>\n",
       "    <tr>\n",
       "      <th>chine</th>\n",
       "      <td>226.0</td>\n",
       "      <td>1559.0</td>\n",
       "    </tr>\n",
       "    <tr>\n",
       "      <th>agir</th>\n",
       "      <td>659.0</td>\n",
       "      <td>1457.0</td>\n",
       "    </tr>\n",
       "    <tr>\n",
       "      <th>ceux</th>\n",
       "      <td>671.0</td>\n",
       "      <td>1451.0</td>\n",
       "    </tr>\n",
       "    <tr>\n",
       "      <th>média</th>\n",
       "      <td>469.0</td>\n",
       "      <td>1443.0</td>\n",
       "    </tr>\n",
       "    <tr>\n",
       "      <th>histoire</th>\n",
       "      <td>527.0</td>\n",
       "      <td>1430.0</td>\n",
       "    </tr>\n",
       "    <tr>\n",
       "      <th>prix</th>\n",
       "      <td>406.0</td>\n",
       "      <td>1418.0</td>\n",
       "    </tr>\n",
       "    <tr>\n",
       "      <th>pendant</th>\n",
       "      <td>667.0</td>\n",
       "      <td>1384.0</td>\n",
       "    </tr>\n",
       "    <tr>\n",
       "      <th>biden</th>\n",
       "      <td>116.0</td>\n",
       "      <td>1363.0</td>\n",
       "    </tr>\n",
       "    <tr>\n",
       "      <th>courir</th>\n",
       "      <td>724.0</td>\n",
       "      <td>1357.0</td>\n",
       "    </tr>\n",
       "    <tr>\n",
       "      <th>poindre</th>\n",
       "      <td>652.0</td>\n",
       "      <td>1354.0</td>\n",
       "    </tr>\n",
       "    <tr>\n",
       "      <th>jamais</th>\n",
       "      <td>659.0</td>\n",
       "      <td>1349.0</td>\n",
       "    </tr>\n",
       "    <tr>\n",
       "      <th>système</th>\n",
       "      <td>502.0</td>\n",
       "      <td>1349.0</td>\n",
       "    </tr>\n",
       "    <tr>\n",
       "      <th>général</th>\n",
       "      <td>553.0</td>\n",
       "      <td>1332.0</td>\n",
       "    </tr>\n",
       "    <tr>\n",
       "      <th>économique</th>\n",
       "      <td>267.0</td>\n",
       "      <td>1317.0</td>\n",
       "    </tr>\n",
       "    <tr>\n",
       "      <th>rien</th>\n",
       "      <td>620.0</td>\n",
       "      <td>1311.0</td>\n",
       "    </tr>\n",
       "    <tr>\n",
       "      <th>peuple</th>\n",
       "      <td>241.0</td>\n",
       "      <td>1293.0</td>\n",
       "    </tr>\n",
       "    <tr>\n",
       "      <th>étranger</th>\n",
       "      <td>287.0</td>\n",
       "      <td>1283.0</td>\n",
       "    </tr>\n",
       "    <tr>\n",
       "      <th>crise</th>\n",
       "      <td>498.0</td>\n",
       "      <td>1278.0</td>\n",
       "    </tr>\n",
       "    <tr>\n",
       "      <th>chose</th>\n",
       "      <td>577.0</td>\n",
       "      <td>1259.0</td>\n",
       "    </tr>\n",
       "  </tbody>\n",
       "</table>\n",
       "</div>"
      ],
      "text/plain": [
       "                   0       1\n",
       "américain      638.0  3712.0\n",
       "uni            607.0  3635.0\n",
       "militaire      186.0  2435.0\n",
       "armer          181.0  2264.0\n",
       "europe         480.0  2233.0\n",
       "force          445.0  2224.0\n",
       "mondial        389.0  1965.0\n",
       "devenir        682.0  1716.0\n",
       "occidental      79.0  1656.0\n",
       "arme           191.0  1635.0\n",
       "international  385.0  1578.0\n",
       "chine          226.0  1559.0\n",
       "agir           659.0  1457.0\n",
       "ceux           671.0  1451.0\n",
       "média          469.0  1443.0\n",
       "histoire       527.0  1430.0\n",
       "prix           406.0  1418.0\n",
       "pendant        667.0  1384.0\n",
       "biden          116.0  1363.0\n",
       "courir         724.0  1357.0\n",
       "poindre        652.0  1354.0\n",
       "jamais         659.0  1349.0\n",
       "système        502.0  1349.0\n",
       "général        553.0  1332.0\n",
       "économique     267.0  1317.0\n",
       "rien           620.0  1311.0\n",
       "peuple         241.0  1293.0\n",
       "étranger       287.0  1283.0\n",
       "crise          498.0  1278.0\n",
       "chose          577.0  1259.0"
      ]
     },
     "execution_count": 85,
     "metadata": {},
     "output_type": "execute_result"
    }
   ],
   "source": [
    "df_count.sort_values(1,ascending=False).head(30)"
   ]
  },
  {
   "cell_type": "markdown",
   "id": "ba0834f1",
   "metadata": {},
   "source": [
    "## Mesure et observation des résultats\n",
    "---"
   ]
  },
  {
   "cell_type": "code",
   "execution_count": 86,
   "id": "2a4d001a",
   "metadata": {},
   "outputs": [
    {
     "data": {
      "text/html": [
       "<div>\n",
       "<style scoped>\n",
       "    .dataframe tbody tr th:only-of-type {\n",
       "        vertical-align: middle;\n",
       "    }\n",
       "\n",
       "    .dataframe tbody tr th {\n",
       "        vertical-align: top;\n",
       "    }\n",
       "\n",
       "    .dataframe thead th {\n",
       "        text-align: right;\n",
       "    }\n",
       "</style>\n",
       "<table border=\"1\" class=\"dataframe\">\n",
       "  <thead>\n",
       "    <tr style=\"text-align: right;\">\n",
       "      <th></th>\n",
       "      <th>url</th>\n",
       "      <th>title</th>\n",
       "      <th>article</th>\n",
       "      <th>site</th>\n",
       "      <th>author</th>\n",
       "      <th>date_iso</th>\n",
       "      <th>url_h</th>\n",
       "      <th>c_count</th>\n",
       "      <th>text</th>\n",
       "      <th>w_list</th>\n",
       "      <th>l_list</th>\n",
       "      <th>w_count</th>\n",
       "      <th>theme_score</th>\n",
       "      <th>theme</th>\n",
       "      <th>l_text</th>\n",
       "    </tr>\n",
       "  </thead>\n",
       "  <tbody>\n",
       "    <tr>\n",
       "      <th>61126</th>\n",
       "      <td>https://lezarceleurs.blogspot.com/2022/09/la-r...</td>\n",
       "      <td>La Russie menace de détruire les satellites St...</td>\n",
       "      <td>De : https://www.naturalnews.com/2022-09-25-sp...</td>\n",
       "      <td>lezarceleurs.blogspot.com</td>\n",
       "      <td>NaN</td>\n",
       "      <td>NaN</td>\n",
       "      <td>8cdbab7c5de3c8779c792d44e3668a2b8be31c7a</td>\n",
       "      <td>5393</td>\n",
       "      <td>la russie menace de détruire les satellites st...</td>\n",
       "      <td>[la, russie, menace, de, détruire, les, satell...</td>\n",
       "      <td>[la, russie, menace, de, détruire, les, satell...</td>\n",
       "      <td>767</td>\n",
       "      <td>36</td>\n",
       "      <td>1</td>\n",
       "      <td>la russie menace de détruire les satellite sta...</td>\n",
       "    </tr>\n",
       "    <tr>\n",
       "      <th>36168</th>\n",
       "      <td>https://www.francetvinfo.fr/replay-radio/nouve...</td>\n",
       "      <td>Nouveau monde. Google accusé de piller des con...</td>\n",
       "      <td>Google est accusé par un site de paroles de ch...</td>\n",
       "      <td>www.francetvinfo.fr</td>\n",
       "      <td>franceinfo - Jérôme Colombain</td>\n",
       "      <td>2019-06-25T16:25:00</td>\n",
       "      <td>dd132a29305fc57bf6fb623dcadc727ea8301a36</td>\n",
       "      <td>4532</td>\n",
       "      <td>nouveau monde. google accusé de piller des con...</td>\n",
       "      <td>[nouveau, monde, google, accusé, de, piller, d...</td>\n",
       "      <td>[nouveau, monde, google, accuser, de, piller, ...</td>\n",
       "      <td>713</td>\n",
       "      <td>1</td>\n",
       "      <td>1</td>\n",
       "      <td>nouveau monde google accuser de piller des con...</td>\n",
       "    </tr>\n",
       "    <tr>\n",
       "      <th>71690</th>\n",
       "      <td>https://www.polemia.com/goldman-sachs-crise-ec...</td>\n",
       "      <td>Selon Goldman Sachs, la crise économique est i...</td>\n",
       "      <td>Par Olivier Piacentini, essayiste ♦ Dans une r...</td>\n",
       "      <td>www.polemia.com</td>\n",
       "      <td>NaN</td>\n",
       "      <td>NaN</td>\n",
       "      <td>0a296acf4a5d88a38cf6dbe79417a655a1db6e0a</td>\n",
       "      <td>7276</td>\n",
       "      <td>selon goldman sachs, la crise économique est i...</td>\n",
       "      <td>[selon, goldman, sachs, la, crise, économique,...</td>\n",
       "      <td>[selon, goldman, sachs, la, crise, économique,...</td>\n",
       "      <td>1095</td>\n",
       "      <td>4</td>\n",
       "      <td>1</td>\n",
       "      <td>selon goldman sachs la crise économique est im...</td>\n",
       "    </tr>\n",
       "    <tr>\n",
       "      <th>46283</th>\n",
       "      <td>https://www.wikistrike.com/2015/10/exclusivite...</td>\n",
       "      <td>Egypte - Vidéo de l'attentat sur l'A321 russe ...</td>\n",
       "      <td>Vidéo exclusive de l'Airbus A321-231 (EI-ETJ) ...</td>\n",
       "      <td>www.wikistrike.com</td>\n",
       "      <td>NaN</td>\n",
       "      <td>2015-10-31T00:00:00</td>\n",
       "      <td>ef122acf341b7cd1c5a2af244a912f029d445697</td>\n",
       "      <td>1523</td>\n",
       "      <td>egypte - vidéo de l'attentat sur l'a321 russe ...</td>\n",
       "      <td>[egypte, vidéo, de, attentat, sur, russe, par,...</td>\n",
       "      <td>[egypte, vidéo, de, attentat, sur, russe, par,...</td>\n",
       "      <td>235</td>\n",
       "      <td>6</td>\n",
       "      <td>1</td>\n",
       "      <td>egypte vidéo de attentat sur russe par etat is...</td>\n",
       "    </tr>\n",
       "    <tr>\n",
       "      <th>69333</th>\n",
       "      <td>https://www.francesoir.fr/politique-monde/un-c...</td>\n",
       "      <td>Un couple illégitime à la Maison-Blanche ?</td>\n",
       "      <td>Connu pour ses bafouilles, Joe Robinette Biden...</td>\n",
       "      <td>www.francesoir.fr</td>\n",
       "      <td>NaN</td>\n",
       "      <td>NaN</td>\n",
       "      <td>222eedcb5bcbc783d618a4b8051e04238e2426a5</td>\n",
       "      <td>14463</td>\n",
       "      <td>un couple illégitime à la maison-blanche ?\\nco...</td>\n",
       "      <td>[un, couple, illégitime, la, maison, blanche, ...</td>\n",
       "      <td>[un, couple, illégitime, la, maison, blanc, co...</td>\n",
       "      <td>2202</td>\n",
       "      <td>5</td>\n",
       "      <td>1</td>\n",
       "      <td>un couple illégitime la maison blanc connaître...</td>\n",
       "    </tr>\n",
       "    <tr>\n",
       "      <th>...</th>\n",
       "      <td>...</td>\n",
       "      <td>...</td>\n",
       "      <td>...</td>\n",
       "      <td>...</td>\n",
       "      <td>...</td>\n",
       "      <td>...</td>\n",
       "      <td>...</td>\n",
       "      <td>...</td>\n",
       "      <td>...</td>\n",
       "      <td>...</td>\n",
       "      <td>...</td>\n",
       "      <td>...</td>\n",
       "      <td>...</td>\n",
       "      <td>...</td>\n",
       "      <td>...</td>\n",
       "    </tr>\n",
       "    <tr>\n",
       "      <th>74128</th>\n",
       "      <td>https://www.profession-gendarme.com/militaire-...</td>\n",
       "      <td>Militaire soupçonné de trahison : « Nous avons...</td>\n",
       "      <td>Florence Parly, la ministre des Armées, était ...</td>\n",
       "      <td>www.profession-gendarme.com</td>\n",
       "      <td>NaN</td>\n",
       "      <td>NaN</td>\n",
       "      <td>7d70385b4cafd6e2c9f1f61a838ce403bfb31bf4</td>\n",
       "      <td>1100</td>\n",
       "      <td>militaire soupçonné de trahison : « nous avons...</td>\n",
       "      <td>[militaire, soupçonné, de, trahison, nous, avo...</td>\n",
       "      <td>[militaire, soupçonner, de, trahison, nous, av...</td>\n",
       "      <td>157</td>\n",
       "      <td>3</td>\n",
       "      <td>1</td>\n",
       "      <td>militaire soupçonner de trahison nous avoir pr...</td>\n",
       "    </tr>\n",
       "    <tr>\n",
       "      <th>4707</th>\n",
       "      <td>https://www.breizh-info.com/2022/08/25/206992/...</td>\n",
       "      <td>Communisme. Goulag – Une histoire soviétique</td>\n",
       "      <td>Le Goulag est le système concentrationnaire de...</td>\n",
       "      <td>www.breizh-info.com</td>\n",
       "      <td>NaN</td>\n",
       "      <td>2022-08-25T00:00:00</td>\n",
       "      <td>43a1d415d7d6c9bf39f8cd799e0a71048a5e0f07</td>\n",
       "      <td>6836</td>\n",
       "      <td>communisme. goulag – une histoire soviétique\\n...</td>\n",
       "      <td>[communisme, goulag, une, histoire, soviétique...</td>\n",
       "      <td>[communisme, goulag, une, histoire, soviétique...</td>\n",
       "      <td>979</td>\n",
       "      <td>9</td>\n",
       "      <td>1</td>\n",
       "      <td>communisme goulag une histoire soviétique le g...</td>\n",
       "    </tr>\n",
       "    <tr>\n",
       "      <th>30721</th>\n",
       "      <td>https://www.dreuz.info/2020/12/projet-daide-au...</td>\n",
       "      <td>« Projet d’aide aux Américains touchés par le ...</td>\n",
       "      <td>Après avoir rejeté pendant des mois un projet ...</td>\n",
       "      <td>www.dreuz.info</td>\n",
       "      <td>Publié par  Pierre Rehov le  23 décembre 2020</td>\n",
       "      <td>2020-12-23T00:00:00</td>\n",
       "      <td>23946d6e0e988946b2d2434edf79f70bbedb7e4b</td>\n",
       "      <td>4706</td>\n",
       "      <td>« projet d’aide aux américains touchés par le ...</td>\n",
       "      <td>[projet, aide, aux, américains, touchés, par, ...</td>\n",
       "      <td>[projet, aide, aux, américain, toucher, par, l...</td>\n",
       "      <td>713</td>\n",
       "      <td>1</td>\n",
       "      <td>1</td>\n",
       "      <td>projet aide aux américain toucher par le covid...</td>\n",
       "    </tr>\n",
       "    <tr>\n",
       "      <th>67819</th>\n",
       "      <td>https://www.francesoir.fr/opinions-tribunes/le...</td>\n",
       "      <td>Le discours courageux du professeur Peyromaure</td>\n",
       "      <td>En un temps où il est si commode pour trop de ...</td>\n",
       "      <td>www.francesoir.fr</td>\n",
       "      <td>NaN</td>\n",
       "      <td>NaN</td>\n",
       "      <td>6ca7f0f192eaaba1b1b5a26b88fc4e77197d31eb</td>\n",
       "      <td>4996</td>\n",
       "      <td>le discours courageux du professeur peyromaure...</td>\n",
       "      <td>[le, discours, courageux, du, professeur, peyr...</td>\n",
       "      <td>[le, discourir, courageux, du, professeur, pey...</td>\n",
       "      <td>786</td>\n",
       "      <td>2</td>\n",
       "      <td>1</td>\n",
       "      <td>le discourir courageux du professeur peyromaur...</td>\n",
       "    </tr>\n",
       "    <tr>\n",
       "      <th>31451</th>\n",
       "      <td>https://www.breizh-info.com/2020/10/25/152636/...</td>\n",
       "      <td>Traverser l’Europe… avec les trains de nuit</td>\n",
       "      <td>Peu de Français le savent, mais la nuit, il es...</td>\n",
       "      <td>www.breizh-info.com</td>\n",
       "      <td>NaN</td>\n",
       "      <td>2020-10-25T00:00:00</td>\n",
       "      <td>f00aa74eb4ecaefd2b65b16346390aca66f9f42b</td>\n",
       "      <td>4880</td>\n",
       "      <td>traverser l’europe… avec les trains de nuit\\np...</td>\n",
       "      <td>[traverser, europe, avec, les, trains, de, nui...</td>\n",
       "      <td>[traverser, europe, avec, les, train, de, nuir...</td>\n",
       "      <td>751</td>\n",
       "      <td>1</td>\n",
       "      <td>1</td>\n",
       "      <td>traverser europe avec les train de nuire peu d...</td>\n",
       "    </tr>\n",
       "  </tbody>\n",
       "</table>\n",
       "<p>3000 rows × 15 columns</p>\n",
       "</div>"
      ],
      "text/plain": [
       "                                                     url  \\\n",
       "61126  https://lezarceleurs.blogspot.com/2022/09/la-r...   \n",
       "36168  https://www.francetvinfo.fr/replay-radio/nouve...   \n",
       "71690  https://www.polemia.com/goldman-sachs-crise-ec...   \n",
       "46283  https://www.wikistrike.com/2015/10/exclusivite...   \n",
       "69333  https://www.francesoir.fr/politique-monde/un-c...   \n",
       "...                                                  ...   \n",
       "74128  https://www.profession-gendarme.com/militaire-...   \n",
       "4707   https://www.breizh-info.com/2022/08/25/206992/...   \n",
       "30721  https://www.dreuz.info/2020/12/projet-daide-au...   \n",
       "67819  https://www.francesoir.fr/opinions-tribunes/le...   \n",
       "31451  https://www.breizh-info.com/2020/10/25/152636/...   \n",
       "\n",
       "                                                   title  \\\n",
       "61126  La Russie menace de détruire les satellites St...   \n",
       "36168  Nouveau monde. Google accusé de piller des con...   \n",
       "71690  Selon Goldman Sachs, la crise économique est i...   \n",
       "46283  Egypte - Vidéo de l'attentat sur l'A321 russe ...   \n",
       "69333         Un couple illégitime à la Maison-Blanche ?   \n",
       "...                                                  ...   \n",
       "74128  Militaire soupçonné de trahison : « Nous avons...   \n",
       "4707        Communisme. Goulag – Une histoire soviétique   \n",
       "30721  « Projet d’aide aux Américains touchés par le ...   \n",
       "67819     Le discours courageux du professeur Peyromaure   \n",
       "31451        Traverser l’Europe… avec les trains de nuit   \n",
       "\n",
       "                                                 article  \\\n",
       "61126  De : https://www.naturalnews.com/2022-09-25-sp...   \n",
       "36168  Google est accusé par un site de paroles de ch...   \n",
       "71690  Par Olivier Piacentini, essayiste ♦ Dans une r...   \n",
       "46283  Vidéo exclusive de l'Airbus A321-231 (EI-ETJ) ...   \n",
       "69333  Connu pour ses bafouilles, Joe Robinette Biden...   \n",
       "...                                                  ...   \n",
       "74128  Florence Parly, la ministre des Armées, était ...   \n",
       "4707   Le Goulag est le système concentrationnaire de...   \n",
       "30721  Après avoir rejeté pendant des mois un projet ...   \n",
       "67819  En un temps où il est si commode pour trop de ...   \n",
       "31451  Peu de Français le savent, mais la nuit, il es...   \n",
       "\n",
       "                              site  \\\n",
       "61126    lezarceleurs.blogspot.com   \n",
       "36168          www.francetvinfo.fr   \n",
       "71690              www.polemia.com   \n",
       "46283           www.wikistrike.com   \n",
       "69333            www.francesoir.fr   \n",
       "...                            ...   \n",
       "74128  www.profession-gendarme.com   \n",
       "4707           www.breizh-info.com   \n",
       "30721               www.dreuz.info   \n",
       "67819            www.francesoir.fr   \n",
       "31451          www.breizh-info.com   \n",
       "\n",
       "                                              author             date_iso  \\\n",
       "61126                                            NaN                  NaN   \n",
       "36168                  franceinfo - Jérôme Colombain  2019-06-25T16:25:00   \n",
       "71690                                            NaN                  NaN   \n",
       "46283                                            NaN  2015-10-31T00:00:00   \n",
       "69333                                            NaN                  NaN   \n",
       "...                                              ...                  ...   \n",
       "74128                                            NaN                  NaN   \n",
       "4707                                             NaN  2022-08-25T00:00:00   \n",
       "30721  Publié par  Pierre Rehov le  23 décembre 2020  2020-12-23T00:00:00   \n",
       "67819                                            NaN                  NaN   \n",
       "31451                                            NaN  2020-10-25T00:00:00   \n",
       "\n",
       "                                          url_h  c_count  \\\n",
       "61126  8cdbab7c5de3c8779c792d44e3668a2b8be31c7a     5393   \n",
       "36168  dd132a29305fc57bf6fb623dcadc727ea8301a36     4532   \n",
       "71690  0a296acf4a5d88a38cf6dbe79417a655a1db6e0a     7276   \n",
       "46283  ef122acf341b7cd1c5a2af244a912f029d445697     1523   \n",
       "69333  222eedcb5bcbc783d618a4b8051e04238e2426a5    14463   \n",
       "...                                         ...      ...   \n",
       "74128  7d70385b4cafd6e2c9f1f61a838ce403bfb31bf4     1100   \n",
       "4707   43a1d415d7d6c9bf39f8cd799e0a71048a5e0f07     6836   \n",
       "30721  23946d6e0e988946b2d2434edf79f70bbedb7e4b     4706   \n",
       "67819  6ca7f0f192eaaba1b1b5a26b88fc4e77197d31eb     4996   \n",
       "31451  f00aa74eb4ecaefd2b65b16346390aca66f9f42b     4880   \n",
       "\n",
       "                                                    text  \\\n",
       "61126  la russie menace de détruire les satellites st...   \n",
       "36168  nouveau monde. google accusé de piller des con...   \n",
       "71690  selon goldman sachs, la crise économique est i...   \n",
       "46283  egypte - vidéo de l'attentat sur l'a321 russe ...   \n",
       "69333  un couple illégitime à la maison-blanche ?\\nco...   \n",
       "...                                                  ...   \n",
       "74128  militaire soupçonné de trahison : « nous avons...   \n",
       "4707   communisme. goulag – une histoire soviétique\\n...   \n",
       "30721  « projet d’aide aux américains touchés par le ...   \n",
       "67819  le discours courageux du professeur peyromaure...   \n",
       "31451  traverser l’europe… avec les trains de nuit\\np...   \n",
       "\n",
       "                                                  w_list  \\\n",
       "61126  [la, russie, menace, de, détruire, les, satell...   \n",
       "36168  [nouveau, monde, google, accusé, de, piller, d...   \n",
       "71690  [selon, goldman, sachs, la, crise, économique,...   \n",
       "46283  [egypte, vidéo, de, attentat, sur, russe, par,...   \n",
       "69333  [un, couple, illégitime, la, maison, blanche, ...   \n",
       "...                                                  ...   \n",
       "74128  [militaire, soupçonné, de, trahison, nous, avo...   \n",
       "4707   [communisme, goulag, une, histoire, soviétique...   \n",
       "30721  [projet, aide, aux, américains, touchés, par, ...   \n",
       "67819  [le, discours, courageux, du, professeur, peyr...   \n",
       "31451  [traverser, europe, avec, les, trains, de, nui...   \n",
       "\n",
       "                                                  l_list  w_count  \\\n",
       "61126  [la, russie, menace, de, détruire, les, satell...      767   \n",
       "36168  [nouveau, monde, google, accuser, de, piller, ...      713   \n",
       "71690  [selon, goldman, sachs, la, crise, économique,...     1095   \n",
       "46283  [egypte, vidéo, de, attentat, sur, russe, par,...      235   \n",
       "69333  [un, couple, illégitime, la, maison, blanc, co...     2202   \n",
       "...                                                  ...      ...   \n",
       "74128  [militaire, soupçonner, de, trahison, nous, av...      157   \n",
       "4707   [communisme, goulag, une, histoire, soviétique...      979   \n",
       "30721  [projet, aide, aux, américain, toucher, par, l...      713   \n",
       "67819  [le, discourir, courageux, du, professeur, pey...      786   \n",
       "31451  [traverser, europe, avec, les, train, de, nuir...      751   \n",
       "\n",
       "       theme_score  theme                                             l_text  \n",
       "61126           36      1  la russie menace de détruire les satellite sta...  \n",
       "36168            1      1  nouveau monde google accuser de piller des con...  \n",
       "71690            4      1  selon goldman sachs la crise économique est im...  \n",
       "46283            6      1  egypte vidéo de attentat sur russe par etat is...  \n",
       "69333            5      1  un couple illégitime la maison blanc connaître...  \n",
       "...            ...    ...                                                ...  \n",
       "74128            3      1  militaire soupçonner de trahison nous avoir pr...  \n",
       "4707             9      1  communisme goulag une histoire soviétique le g...  \n",
       "30721            1      1  projet aide aux américain toucher par le covid...  \n",
       "67819            2      1  le discourir courageux du professeur peyromaur...  \n",
       "31451            1      1  traverser europe avec les train de nuire peu d...  \n",
       "\n",
       "[3000 rows x 15 columns]"
      ]
     },
     "execution_count": 86,
     "metadata": {},
     "output_type": "execute_result"
    }
   ],
   "source": [
    "df_light[df_light['theme']==1]"
   ]
  },
  {
   "cell_type": "markdown",
   "id": "76996d3a",
   "metadata": {},
   "source": [
    "## Sauvegarde des résultats\n",
    "---"
   ]
  },
  {
   "cell_type": "code",
   "execution_count": null,
   "id": "827f60e3",
   "metadata": {},
   "outputs": [],
   "source": []
  },
  {
   "cell_type": "markdown",
   "id": "fb7949bc",
   "metadata": {},
   "source": [
    "## Conclusions\n",
    "---"
   ]
  },
  {
   "cell_type": "markdown",
   "id": "bd06b261",
   "metadata": {},
   "source": [
    "- Résultat : OK"
   ]
  },
  {
   "cell_type": "markdown",
   "id": "bd360655",
   "metadata": {},
   "source": [
    "## Bricolages\n",
    "---"
   ]
  },
  {
   "cell_type": "code",
   "execution_count": null,
   "id": "cfbfa2a2",
   "metadata": {},
   "outputs": [],
   "source": [
    "df = df_corpus.sample(10000, random_state=42).copy()"
   ]
  },
  {
   "cell_type": "code",
   "execution_count": null,
   "id": "060b5590",
   "metadata": {},
   "outputs": [],
   "source": [
    "%%time\n",
    "text = df['l_text'].sum()"
   ]
  },
  {
   "cell_type": "code",
   "execution_count": null,
   "id": "c29db0e4",
   "metadata": {},
   "outputs": [],
   "source": [
    "df_1 = df_corpus[df_corpus['theme']==1]"
   ]
  },
  {
   "cell_type": "code",
   "execution_count": null,
   "id": "07cd9da4",
   "metadata": {},
   "outputs": [],
   "source": [
    "df_1.shape"
   ]
  },
  {
   "cell_type": "code",
   "execution_count": null,
   "id": "cef47450",
   "metadata": {},
   "outputs": [],
   "source": [
    "%%time\n",
    "text = df_1['l_text'].sum()"
   ]
  },
  {
   "cell_type": "code",
   "execution_count": null,
   "id": "898aa70e",
   "metadata": {},
   "outputs": [],
   "source": [
    "text_1 = text"
   ]
  },
  {
   "cell_type": "code",
   "execution_count": null,
   "id": "c01075fa",
   "metadata": {},
   "outputs": [],
   "source": [
    "df_0 = df_corpus[df_corpus['theme']==0].sample(8000, random_state=42)"
   ]
  },
  {
   "cell_type": "code",
   "execution_count": null,
   "id": "c66e3847",
   "metadata": {},
   "outputs": [],
   "source": [
    "%%time\n",
    "text_0 = df_0['l_text'].sum()"
   ]
  },
  {
   "cell_type": "code",
   "execution_count": null,
   "id": "bde8e0b2",
   "metadata": {},
   "outputs": [],
   "source": []
  },
  {
   "cell_type": "code",
   "execution_count": null,
   "id": "384e04c9",
   "metadata": {},
   "outputs": [],
   "source": [
    "lemmas_0 = lex.get_words(text_0)"
   ]
  },
  {
   "cell_type": "code",
   "execution_count": null,
   "id": "d0d38db0",
   "metadata": {},
   "outputs": [],
   "source": [
    "lemmas_1 = lex.get_words(text_1)"
   ]
  },
  {
   "cell_type": "code",
   "execution_count": null,
   "id": "41a9f4bf",
   "metadata": {},
   "outputs": [],
   "source": [
    "ignore_words = lex.get_ignore_words(lemmas_0,lemmas_1)"
   ]
  },
  {
   "cell_type": "code",
   "execution_count": null,
   "id": "7b375812",
   "metadata": {},
   "outputs": [],
   "source": [
    "len(ignore_words)"
   ]
  },
  {
   "cell_type": "code",
   "execution_count": null,
   "id": "f7d40fa6",
   "metadata": {},
   "outputs": [],
   "source": [
    "ignore_words[-500:]"
   ]
  },
  {
   "cell_type": "code",
   "execution_count": null,
   "id": "8425bebf",
   "metadata": {},
   "outputs": [],
   "source": [
    "df_corpus[df_corpus['text'].str.contains(r\"drouâte\")]"
   ]
  },
  {
   "cell_type": "code",
   "execution_count": null,
   "id": "302b1aba",
   "metadata": {},
   "outputs": [],
   "source": [
    "df_corpus['text'][72485]"
   ]
  },
  {
   "cell_type": "code",
   "execution_count": null,
   "id": "b6c60806",
   "metadata": {},
   "outputs": [],
   "source": [
    "import patat.util.file"
   ]
  },
  {
   "cell_type": "code",
   "execution_count": null,
   "id": "104fb433",
   "metadata": {},
   "outputs": [],
   "source": [
    "patat.util.file.text_save('\\n'.join(ignore_words),'data/tmp/221018-IgnoreWords.csv')"
   ]
  },
  {
   "cell_type": "code",
   "execution_count": null,
   "id": "2488ebb8",
   "metadata": {},
   "outputs": [],
   "source": [
    "%%time\n",
    "all_text = df_corpus['text'].sum()"
   ]
  },
  {
   "cell_type": "code",
   "execution_count": null,
   "id": "5c8720e5",
   "metadata": {},
   "outputs": [],
   "source": []
  }
 ],
 "metadata": {
  "kernelspec": {
   "display_name": "Python 3 (ipykernel)",
   "language": "python",
   "name": "python3"
  },
  "language_info": {
   "codemirror_mode": {
    "name": "ipython",
    "version": 3
   },
   "file_extension": ".py",
   "mimetype": "text/x-python",
   "name": "python",
   "nbconvert_exporter": "python",
   "pygments_lexer": "ipython3",
   "version": "3.9.13"
  }
 },
 "nbformat": 4,
 "nbformat_minor": 5
}
