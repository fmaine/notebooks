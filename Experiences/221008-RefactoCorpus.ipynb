{
 "cells": [
  {
   "cell_type": "markdown",
   "id": "e3ec4689",
   "metadata": {},
   "source": [
    "# Plateforme Agnostique de Traitement et d'Analyse des Textes\n",
    "### Paillasse d'expérimentation\n",
    "---\n",
    "\n",
    "## Sujet : Refactoring Corpus\n",
    "Séparation des articles et des labels\n",
    "AAMMJJ-ArticleXxxxx.csv : Textes et Metadata articles\n",
    "AAMMJJ-LabelXxxxx.csv : Base de labels\n",
    "\n",
    "---\n"
   ]
  },
  {
   "cell_type": "code",
   "execution_count": 23,
   "id": "32256b0d",
   "metadata": {},
   "outputs": [],
   "source": [
    "import importlib\n",
    "import pandas as pd"
   ]
  },
  {
   "cell_type": "markdown",
   "id": "de6dc21a",
   "metadata": {},
   "source": [
    "## Observations et environnement\n",
    "---"
   ]
  },
  {
   "cell_type": "markdown",
   "id": "26de4d29",
   "metadata": {},
   "source": [
    "## Expérience\n",
    "---"
   ]
  },
  {
   "cell_type": "markdown",
   "id": "aa5eedd5",
   "metadata": {},
   "source": [
    "### LabelDb"
   ]
  },
  {
   "cell_type": "code",
   "execution_count": 2,
   "id": "4fb5f509",
   "metadata": {},
   "outputs": [
    {
     "name": "stdout",
     "output_type": "stream",
     "text": [
      "/Users/fm/Desktop/Work/Patat\n"
     ]
    }
   ],
   "source": [
    "cd ../.."
   ]
  },
  {
   "cell_type": "code",
   "execution_count": 24,
   "id": "338cd61c",
   "metadata": {},
   "outputs": [],
   "source": [
    "import patat.db.label_db"
   ]
  },
  {
   "cell_type": "code",
   "execution_count": 40,
   "id": "89decd9f",
   "metadata": {},
   "outputs": [
    {
     "data": {
      "text/plain": [
       "<module 'patat.db.label_db' from '/Users/fm/Desktop/Work/Patat/patat/db/label_db.py'>"
      ]
     },
     "execution_count": 40,
     "metadata": {},
     "output_type": "execute_result"
    }
   ],
   "source": [
    "importlib.reload(patat.db.label_db)"
   ]
  },
  {
   "cell_type": "code",
   "execution_count": 48,
   "id": "4475e9d3",
   "metadata": {},
   "outputs": [],
   "source": [
    "label_db = patat.db.label_db.LabelDb()"
   ]
  },
  {
   "cell_type": "code",
   "execution_count": 49,
   "id": "b3eac907",
   "metadata": {},
   "outputs": [
    {
     "data": {
      "text/html": [
       "<div>\n",
       "<style scoped>\n",
       "    .dataframe tbody tr th:only-of-type {\n",
       "        vertical-align: middle;\n",
       "    }\n",
       "\n",
       "    .dataframe tbody tr th {\n",
       "        vertical-align: top;\n",
       "    }\n",
       "\n",
       "    .dataframe thead th {\n",
       "        text-align: right;\n",
       "    }\n",
       "</style>\n",
       "<table border=\"1\" class=\"dataframe\">\n",
       "  <thead>\n",
       "    <tr style=\"text-align: right;\">\n",
       "      <th></th>\n",
       "      <th>url</th>\n",
       "      <th>label</th>\n",
       "      <th>value</th>\n",
       "      <th>owner</th>\n",
       "      <th>url_h</th>\n",
       "    </tr>\n",
       "  </thead>\n",
       "  <tbody>\n",
       "    <tr>\n",
       "      <th>0</th>\n",
       "      <td>url_qsdfds</td>\n",
       "      <td>label_sdfqsdf</td>\n",
       "      <td>1.000000</td>\n",
       "      <td>toto</td>\n",
       "      <td>88dc4e5ae0f602e8a076b85ea243826483741a18</td>\n",
       "    </tr>\n",
       "    <tr>\n",
       "      <th>1</th>\n",
       "      <td>url_qsdfds</td>\n",
       "      <td>label_sdfqsdf</td>\n",
       "      <td>1.000000</td>\n",
       "      <td>FM</td>\n",
       "      <td>88dc4e5ae0f602e8a076b85ea243826483741a18</td>\n",
       "    </tr>\n",
       "    <tr>\n",
       "      <th>2</th>\n",
       "      <td>https://www.anguillesousroche.com/actualite/ou...</td>\n",
       "      <td>infox</td>\n",
       "      <td>0.000000</td>\n",
       "      <td>recueil</td>\n",
       "      <td>365862d336e45b4bfa5d4010536ca7c04f26f780</td>\n",
       "    </tr>\n",
       "    <tr>\n",
       "      <th>3</th>\n",
       "      <td>https://www.anguillesousroche.com/actualite/ou...</td>\n",
       "      <td>signe</td>\n",
       "      <td>0.000000</td>\n",
       "      <td>recueil</td>\n",
       "      <td>365862d336e45b4bfa5d4010536ca7c04f26f780</td>\n",
       "    </tr>\n",
       "    <tr>\n",
       "      <th>4</th>\n",
       "      <td>https://www.anguillesousroche.com/actualite/ou...</td>\n",
       "      <td>entites_nommees</td>\n",
       "      <td>1.000000</td>\n",
       "      <td>recueil</td>\n",
       "      <td>365862d336e45b4bfa5d4010536ca7c04f26f780</td>\n",
       "    </tr>\n",
       "    <tr>\n",
       "      <th>...</th>\n",
       "      <td>...</td>\n",
       "      <td>...</td>\n",
       "      <td>...</td>\n",
       "      <td>...</td>\n",
       "      <td>...</td>\n",
       "    </tr>\n",
       "    <tr>\n",
       "      <th>98972</th>\n",
       "      <td>https://www.profession-gendarme.com/zelensky-e...</td>\n",
       "      <td>infox</td>\n",
       "      <td>0.556761</td>\n",
       "      <td>220930-tf_lr.pp</td>\n",
       "      <td>e346761c2a99d892b26c9388480e0ee6ad6b303b</td>\n",
       "    </tr>\n",
       "    <tr>\n",
       "      <th>98973</th>\n",
       "      <td>https://www.profession-gendarme.com/zelensky-l...</td>\n",
       "      <td>infox</td>\n",
       "      <td>0.164531</td>\n",
       "      <td>220930-tf_lr.pp</td>\n",
       "      <td>77525354644316eadab53960efa8f5fd028c7f67</td>\n",
       "    </tr>\n",
       "    <tr>\n",
       "      <th>98974</th>\n",
       "      <td>https://www.profession-gendarme.com/zelensky-m...</td>\n",
       "      <td>infox</td>\n",
       "      <td>0.673791</td>\n",
       "      <td>220930-tf_lr.pp</td>\n",
       "      <td>fc6a074da5c02032bc9fc3f35f1044bc4029042c</td>\n",
       "    </tr>\n",
       "    <tr>\n",
       "      <th>98975</th>\n",
       "      <td>https://www.profession-gendarme.com/zero-mort-...</td>\n",
       "      <td>infox</td>\n",
       "      <td>0.103192</td>\n",
       "      <td>220930-tf_lr.pp</td>\n",
       "      <td>e4f0a8961d79c9a5f66c80d7aa4196cb679af2b0</td>\n",
       "    </tr>\n",
       "    <tr>\n",
       "      <th>98976</th>\n",
       "      <td>https://www.profession-gendarme.com/zoom-franc...</td>\n",
       "      <td>infox</td>\n",
       "      <td>0.303205</td>\n",
       "      <td>220930-tf_lr.pp</td>\n",
       "      <td>36a0091795b15d56005a6b7b8963ada539f598eb</td>\n",
       "    </tr>\n",
       "  </tbody>\n",
       "</table>\n",
       "<p>98977 rows × 5 columns</p>\n",
       "</div>"
      ],
      "text/plain": [
       "                                                     url            label  \\\n",
       "0                                             url_qsdfds    label_sdfqsdf   \n",
       "1                                             url_qsdfds    label_sdfqsdf   \n",
       "2      https://www.anguillesousroche.com/actualite/ou...            infox   \n",
       "3      https://www.anguillesousroche.com/actualite/ou...            signe   \n",
       "4      https://www.anguillesousroche.com/actualite/ou...  entites_nommees   \n",
       "...                                                  ...              ...   \n",
       "98972  https://www.profession-gendarme.com/zelensky-e...            infox   \n",
       "98973  https://www.profession-gendarme.com/zelensky-l...            infox   \n",
       "98974  https://www.profession-gendarme.com/zelensky-m...            infox   \n",
       "98975  https://www.profession-gendarme.com/zero-mort-...            infox   \n",
       "98976  https://www.profession-gendarme.com/zoom-franc...            infox   \n",
       "\n",
       "          value            owner                                     url_h  \n",
       "0      1.000000             toto  88dc4e5ae0f602e8a076b85ea243826483741a18  \n",
       "1      1.000000               FM  88dc4e5ae0f602e8a076b85ea243826483741a18  \n",
       "2      0.000000          recueil  365862d336e45b4bfa5d4010536ca7c04f26f780  \n",
       "3      0.000000          recueil  365862d336e45b4bfa5d4010536ca7c04f26f780  \n",
       "4      1.000000          recueil  365862d336e45b4bfa5d4010536ca7c04f26f780  \n",
       "...         ...              ...                                       ...  \n",
       "98972  0.556761  220930-tf_lr.pp  e346761c2a99d892b26c9388480e0ee6ad6b303b  \n",
       "98973  0.164531  220930-tf_lr.pp  77525354644316eadab53960efa8f5fd028c7f67  \n",
       "98974  0.673791  220930-tf_lr.pp  fc6a074da5c02032bc9fc3f35f1044bc4029042c  \n",
       "98975  0.103192  220930-tf_lr.pp  e4f0a8961d79c9a5f66c80d7aa4196cb679af2b0  \n",
       "98976  0.303205  220930-tf_lr.pp  36a0091795b15d56005a6b7b8963ada539f598eb  \n",
       "\n",
       "[98977 rows x 5 columns]"
      ]
     },
     "execution_count": 49,
     "metadata": {},
     "output_type": "execute_result"
    }
   ],
   "source": [
    "label_db._df"
   ]
  },
  {
   "cell_type": "code",
   "execution_count": 43,
   "id": "73cd239c",
   "metadata": {},
   "outputs": [],
   "source": [
    "label_db.import_recueil('data/imports/221007-RecueilBrut.csv')"
   ]
  },
  {
   "cell_type": "code",
   "execution_count": 44,
   "id": "02c011ce",
   "metadata": {},
   "outputs": [],
   "source": [
    "label_db.add_label('url_qsdfds','label_sdfqsdf',1.0,'FM')\n",
    "label_db.add_label('url_qsdfds','label_sdfqsdf',1.0,'toto')"
   ]
  },
  {
   "cell_type": "code",
   "execution_count": 45,
   "id": "16314356",
   "metadata": {},
   "outputs": [
    {
     "data": {
      "text/html": [
       "<div>\n",
       "<style scoped>\n",
       "    .dataframe tbody tr th:only-of-type {\n",
       "        vertical-align: middle;\n",
       "    }\n",
       "\n",
       "    .dataframe tbody tr th {\n",
       "        vertical-align: top;\n",
       "    }\n",
       "\n",
       "    .dataframe thead th {\n",
       "        text-align: right;\n",
       "    }\n",
       "</style>\n",
       "<table border=\"1\" class=\"dataframe\">\n",
       "  <thead>\n",
       "    <tr style=\"text-align: right;\">\n",
       "      <th></th>\n",
       "      <th>url</th>\n",
       "      <th>label</th>\n",
       "      <th>value</th>\n",
       "      <th>owner</th>\n",
       "      <th>url_h</th>\n",
       "    </tr>\n",
       "  </thead>\n",
       "  <tbody>\n",
       "    <tr>\n",
       "      <th>0</th>\n",
       "      <td>url_qsdfds</td>\n",
       "      <td>label_sdfqsdf</td>\n",
       "      <td>1.000000</td>\n",
       "      <td>toto</td>\n",
       "      <td>88dc4e5ae0f602e8a076b85ea243826483741a18</td>\n",
       "    </tr>\n",
       "    <tr>\n",
       "      <th>1</th>\n",
       "      <td>url_qsdfds</td>\n",
       "      <td>label_sdfqsdf</td>\n",
       "      <td>1.000000</td>\n",
       "      <td>FM</td>\n",
       "      <td>88dc4e5ae0f602e8a076b85ea243826483741a18</td>\n",
       "    </tr>\n",
       "    <tr>\n",
       "      <th>2</th>\n",
       "      <td>https://www.anguillesousroche.com/actualite/ou...</td>\n",
       "      <td>infox</td>\n",
       "      <td>0.000000</td>\n",
       "      <td>recueil</td>\n",
       "      <td>365862d336e45b4bfa5d4010536ca7c04f26f780</td>\n",
       "    </tr>\n",
       "    <tr>\n",
       "      <th>3</th>\n",
       "      <td>https://www.anguillesousroche.com/actualite/ou...</td>\n",
       "      <td>signe</td>\n",
       "      <td>0.000000</td>\n",
       "      <td>recueil</td>\n",
       "      <td>365862d336e45b4bfa5d4010536ca7c04f26f780</td>\n",
       "    </tr>\n",
       "    <tr>\n",
       "      <th>4</th>\n",
       "      <td>https://www.anguillesousroche.com/actualite/ou...</td>\n",
       "      <td>entites_nommees</td>\n",
       "      <td>1.000000</td>\n",
       "      <td>recueil</td>\n",
       "      <td>365862d336e45b4bfa5d4010536ca7c04f26f780</td>\n",
       "    </tr>\n",
       "    <tr>\n",
       "      <th>...</th>\n",
       "      <td>...</td>\n",
       "      <td>...</td>\n",
       "      <td>...</td>\n",
       "      <td>...</td>\n",
       "      <td>...</td>\n",
       "    </tr>\n",
       "    <tr>\n",
       "      <th>98972</th>\n",
       "      <td>https://www.profession-gendarme.com/zelensky-e...</td>\n",
       "      <td>infox</td>\n",
       "      <td>0.556761</td>\n",
       "      <td>220930-tf_lr.pp</td>\n",
       "      <td>e346761c2a99d892b26c9388480e0ee6ad6b303b</td>\n",
       "    </tr>\n",
       "    <tr>\n",
       "      <th>98973</th>\n",
       "      <td>https://www.profession-gendarme.com/zelensky-l...</td>\n",
       "      <td>infox</td>\n",
       "      <td>0.164531</td>\n",
       "      <td>220930-tf_lr.pp</td>\n",
       "      <td>77525354644316eadab53960efa8f5fd028c7f67</td>\n",
       "    </tr>\n",
       "    <tr>\n",
       "      <th>98974</th>\n",
       "      <td>https://www.profession-gendarme.com/zelensky-m...</td>\n",
       "      <td>infox</td>\n",
       "      <td>0.673791</td>\n",
       "      <td>220930-tf_lr.pp</td>\n",
       "      <td>fc6a074da5c02032bc9fc3f35f1044bc4029042c</td>\n",
       "    </tr>\n",
       "    <tr>\n",
       "      <th>98975</th>\n",
       "      <td>https://www.profession-gendarme.com/zero-mort-...</td>\n",
       "      <td>infox</td>\n",
       "      <td>0.103192</td>\n",
       "      <td>220930-tf_lr.pp</td>\n",
       "      <td>e4f0a8961d79c9a5f66c80d7aa4196cb679af2b0</td>\n",
       "    </tr>\n",
       "    <tr>\n",
       "      <th>98976</th>\n",
       "      <td>https://www.profession-gendarme.com/zoom-franc...</td>\n",
       "      <td>infox</td>\n",
       "      <td>0.303205</td>\n",
       "      <td>220930-tf_lr.pp</td>\n",
       "      <td>36a0091795b15d56005a6b7b8963ada539f598eb</td>\n",
       "    </tr>\n",
       "  </tbody>\n",
       "</table>\n",
       "<p>98977 rows × 5 columns</p>\n",
       "</div>"
      ],
      "text/plain": [
       "                                                     url            label  \\\n",
       "0                                             url_qsdfds    label_sdfqsdf   \n",
       "1                                             url_qsdfds    label_sdfqsdf   \n",
       "2      https://www.anguillesousroche.com/actualite/ou...            infox   \n",
       "3      https://www.anguillesousroche.com/actualite/ou...            signe   \n",
       "4      https://www.anguillesousroche.com/actualite/ou...  entites_nommees   \n",
       "...                                                  ...              ...   \n",
       "98972  https://www.profession-gendarme.com/zelensky-e...            infox   \n",
       "98973  https://www.profession-gendarme.com/zelensky-l...            infox   \n",
       "98974  https://www.profession-gendarme.com/zelensky-m...            infox   \n",
       "98975  https://www.profession-gendarme.com/zero-mort-...            infox   \n",
       "98976  https://www.profession-gendarme.com/zoom-franc...            infox   \n",
       "\n",
       "          value            owner                                     url_h  \n",
       "0      1.000000             toto  88dc4e5ae0f602e8a076b85ea243826483741a18  \n",
       "1      1.000000               FM  88dc4e5ae0f602e8a076b85ea243826483741a18  \n",
       "2      0.000000          recueil  365862d336e45b4bfa5d4010536ca7c04f26f780  \n",
       "3      0.000000          recueil  365862d336e45b4bfa5d4010536ca7c04f26f780  \n",
       "4      1.000000          recueil  365862d336e45b4bfa5d4010536ca7c04f26f780  \n",
       "...         ...              ...                                       ...  \n",
       "98972  0.556761  220930-tf_lr.pp  e346761c2a99d892b26c9388480e0ee6ad6b303b  \n",
       "98973  0.164531  220930-tf_lr.pp  77525354644316eadab53960efa8f5fd028c7f67  \n",
       "98974  0.673791  220930-tf_lr.pp  fc6a074da5c02032bc9fc3f35f1044bc4029042c  \n",
       "98975  0.103192  220930-tf_lr.pp  e4f0a8961d79c9a5f66c80d7aa4196cb679af2b0  \n",
       "98976  0.303205  220930-tf_lr.pp  36a0091795b15d56005a6b7b8963ada539f598eb  \n",
       "\n",
       "[98977 rows x 5 columns]"
      ]
     },
     "execution_count": 45,
     "metadata": {},
     "output_type": "execute_result"
    }
   ],
   "source": [
    "label_db._df"
   ]
  },
  {
   "cell_type": "code",
   "execution_count": 46,
   "id": "e57c5508",
   "metadata": {},
   "outputs": [
    {
     "data": {
      "text/plain": [
       "[{'owner': 'toto', 'label': 'label_sdfqsdf', 'value': 1.0}]"
      ]
     },
     "execution_count": 46,
     "metadata": {},
     "output_type": "execute_result"
    }
   ],
   "source": [
    "label_db.get_label_data_h('88dc4e5ae0f602e8a076b85ea243826483741a18',owner='toto')"
   ]
  },
  {
   "cell_type": "code",
   "execution_count": 47,
   "id": "09ee4c0c",
   "metadata": {},
   "outputs": [],
   "source": [
    "label_db.save_prod()"
   ]
  },
  {
   "cell_type": "code",
   "execution_count": null,
   "id": "ab687ed4",
   "metadata": {},
   "outputs": [],
   "source": []
  },
  {
   "cell_type": "markdown",
   "id": "ba0834f1",
   "metadata": {},
   "source": [
    "## Mesure et observation des résultats\n",
    "---"
   ]
  },
  {
   "cell_type": "markdown",
   "id": "76996d3a",
   "metadata": {},
   "source": [
    "## Sauvegarde des résultats\n",
    "---"
   ]
  },
  {
   "cell_type": "code",
   "execution_count": null,
   "id": "827f60e3",
   "metadata": {},
   "outputs": [],
   "source": [
    "df_article.to_csv('data/corpus/221008-ArticleCorpus.csv'L)"
   ]
  },
  {
   "cell_type": "markdown",
   "id": "fb7949bc",
   "metadata": {},
   "source": [
    "## Conclusions\n",
    "---"
   ]
  },
  {
   "cell_type": "markdown",
   "id": "bd06b261",
   "metadata": {},
   "source": [
    "- Format Labl.csv : OK"
   ]
  },
  {
   "cell_type": "markdown",
   "id": "bd360655",
   "metadata": {},
   "source": [
    "## Bricolages\n",
    "---"
   ]
  },
  {
   "cell_type": "code",
   "execution_count": null,
   "id": "7de4fa6e",
   "metadata": {},
   "outputs": [],
   "source": [
    "df_article=df_article.drop(columns=['infox','y_proba'])"
   ]
  },
  {
   "cell_type": "code",
   "execution_count": null,
   "id": "d300015c",
   "metadata": {},
   "outputs": [],
   "source": [
    "new_urls = []\n",
    "for url in list(df_brut['url']):\n",
    "    if url not in list(df_article['url']):\n",
    "        new_urls.append(url)"
   ]
  },
  {
   "cell_type": "code",
   "execution_count": null,
   "id": "a748af6a",
   "metadata": {},
   "outputs": [],
   "source": [
    "len(new_urls)"
   ]
  },
  {
   "cell_type": "code",
   "execution_count": null,
   "id": "b4aa665d",
   "metadata": {},
   "outputs": [],
   "source": [
    "import patat.imp.importer\n",
    "import patat.imp.parser"
   ]
  },
  {
   "cell_type": "code",
   "execution_count": null,
   "id": "af3b5d3a",
   "metadata": {},
   "outputs": [],
   "source": [
    "imp = patat.imp.importer.Importer()\n",
    "parser = patat.imp.parser.Parser()"
   ]
  },
  {
   "cell_type": "code",
   "execution_count": null,
   "id": "80c1ec09",
   "metadata": {},
   "outputs": [],
   "source": [
    "articles = []\n",
    "for url in new_urls:\n",
    "    html = imp.get_webpage(url)\n",
    "    site = imp.get_site(url)\n",
    "    article = parser.parse_article(url,html,site)\n",
    "    articles.append(article)\n"
   ]
  },
  {
   "cell_type": "code",
   "execution_count": null,
   "id": "adbe2c38",
   "metadata": {},
   "outputs": [],
   "source": [
    "df_articles=pd.DataFrame(articles)"
   ]
  },
  {
   "cell_type": "code",
   "execution_count": null,
   "id": "0aa55cfd",
   "metadata": {},
   "outputs": [],
   "source": [
    "df_articles[df_articles['title'].isna()].value_counts('site')"
   ]
  },
  {
   "cell_type": "code",
   "execution_count": null,
   "id": "78cae158",
   "metadata": {},
   "outputs": [],
   "source": []
  }
 ],
 "metadata": {
  "kernelspec": {
   "display_name": "Python 3 (ipykernel)",
   "language": "python",
   "name": "python3"
  },
  "language_info": {
   "codemirror_mode": {
    "name": "ipython",
    "version": 3
   },
   "file_extension": ".py",
   "mimetype": "text/x-python",
   "name": "python",
   "nbconvert_exporter": "python",
   "pygments_lexer": "ipython3",
   "version": "3.9.13"
  }
 },
 "nbformat": 4,
 "nbformat_minor": 5
}
