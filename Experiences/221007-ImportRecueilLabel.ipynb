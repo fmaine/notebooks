{
 "cells": [
  {
   "cell_type": "markdown",
   "id": "e3ec4689",
   "metadata": {},
   "source": [
    "# Plateforme Agnostique de Traitement et d'Analyse des Textes\n",
    "### Paillasse d'expérimentation\n",
    "---\n",
    "\n",
    "## Sujet : Import RecueilLabel\n",
    "\n",
    "---\n"
   ]
  },
  {
   "cell_type": "markdown",
   "id": "ad77a9d6",
   "metadata": {},
   "source": [
    "## Initialisation de la paillasse \n",
    "---"
   ]
  },
  {
   "cell_type": "code",
   "execution_count": 1,
   "id": "5d0de4d7",
   "metadata": {},
   "outputs": [
    {
     "name": "stdout",
     "output_type": "stream",
     "text": [
      "/Volumes/Geek/Work/Patat\n"
     ]
    }
   ],
   "source": [
    "cd ../.."
   ]
  },
  {
   "cell_type": "code",
   "execution_count": 2,
   "id": "32256b0d",
   "metadata": {},
   "outputs": [],
   "source": [
    "import importlib\n",
    "import pandas as pd"
   ]
  },
  {
   "cell_type": "markdown",
   "id": "de6dc21a",
   "metadata": {},
   "source": [
    "## Observations et environnement\n",
    "---"
   ]
  },
  {
   "cell_type": "markdown",
   "id": "29618668",
   "metadata": {},
   "source": [
    "### Chargement du Recueil Brut"
   ]
  },
  {
   "cell_type": "code",
   "execution_count": 3,
   "id": "05cde00c",
   "metadata": {},
   "outputs": [],
   "source": [
    "filename = 'imports/221007-RecueilBrut.csv'"
   ]
  },
  {
   "cell_type": "code",
   "execution_count": 4,
   "id": "82c08337",
   "metadata": {
    "scrolled": true
   },
   "outputs": [
    {
     "ename": "FileNotFoundError",
     "evalue": "[Errno 2] No such file or directory: 'data/imports/221007-RecueilBrut.csv'",
     "output_type": "error",
     "traceback": [
      "\u001b[0;31m---------------------------------------------------------------------------\u001b[0m",
      "\u001b[0;31mFileNotFoundError\u001b[0m                         Traceback (most recent call last)",
      "Cell \u001b[0;32mIn[4], line 1\u001b[0m\n\u001b[0;32m----> 1\u001b[0m df_brut \u001b[38;5;241m=\u001b[39m \u001b[43mpd\u001b[49m\u001b[38;5;241;43m.\u001b[39;49m\u001b[43mread_csv\u001b[49m\u001b[43m(\u001b[49m\u001b[38;5;124;43mf\u001b[39;49m\u001b[38;5;124;43m'\u001b[39;49m\u001b[38;5;124;43mdata/\u001b[39;49m\u001b[38;5;132;43;01m{\u001b[39;49;00m\u001b[43mfilename\u001b[49m\u001b[38;5;132;43;01m}\u001b[39;49;00m\u001b[38;5;124;43m'\u001b[39;49m\u001b[43m)\u001b[49m\n",
      "File \u001b[0;32m/opt/homebrew/Caskroom/miniforge/base/envs/p311/lib/python3.11/site-packages/pandas/util/_decorators.py:211\u001b[0m, in \u001b[0;36mdeprecate_kwarg.<locals>._deprecate_kwarg.<locals>.wrapper\u001b[0;34m(*args, **kwargs)\u001b[0m\n\u001b[1;32m    209\u001b[0m     \u001b[38;5;28;01melse\u001b[39;00m:\n\u001b[1;32m    210\u001b[0m         kwargs[new_arg_name] \u001b[38;5;241m=\u001b[39m new_arg_value\n\u001b[0;32m--> 211\u001b[0m \u001b[38;5;28;01mreturn\u001b[39;00m \u001b[43mfunc\u001b[49m\u001b[43m(\u001b[49m\u001b[38;5;241;43m*\u001b[39;49m\u001b[43margs\u001b[49m\u001b[43m,\u001b[49m\u001b[43m \u001b[49m\u001b[38;5;241;43m*\u001b[39;49m\u001b[38;5;241;43m*\u001b[39;49m\u001b[43mkwargs\u001b[49m\u001b[43m)\u001b[49m\n",
      "File \u001b[0;32m/opt/homebrew/Caskroom/miniforge/base/envs/p311/lib/python3.11/site-packages/pandas/util/_decorators.py:331\u001b[0m, in \u001b[0;36mdeprecate_nonkeyword_arguments.<locals>.decorate.<locals>.wrapper\u001b[0;34m(*args, **kwargs)\u001b[0m\n\u001b[1;32m    325\u001b[0m \u001b[38;5;28;01mif\u001b[39;00m \u001b[38;5;28mlen\u001b[39m(args) \u001b[38;5;241m>\u001b[39m num_allow_args:\n\u001b[1;32m    326\u001b[0m     warnings\u001b[38;5;241m.\u001b[39mwarn(\n\u001b[1;32m    327\u001b[0m         msg\u001b[38;5;241m.\u001b[39mformat(arguments\u001b[38;5;241m=\u001b[39m_format_argument_list(allow_args)),\n\u001b[1;32m    328\u001b[0m         \u001b[38;5;167;01mFutureWarning\u001b[39;00m,\n\u001b[1;32m    329\u001b[0m         stacklevel\u001b[38;5;241m=\u001b[39mfind_stack_level(),\n\u001b[1;32m    330\u001b[0m     )\n\u001b[0;32m--> 331\u001b[0m \u001b[38;5;28;01mreturn\u001b[39;00m \u001b[43mfunc\u001b[49m\u001b[43m(\u001b[49m\u001b[38;5;241;43m*\u001b[39;49m\u001b[43margs\u001b[49m\u001b[43m,\u001b[49m\u001b[43m \u001b[49m\u001b[38;5;241;43m*\u001b[39;49m\u001b[38;5;241;43m*\u001b[39;49m\u001b[43mkwargs\u001b[49m\u001b[43m)\u001b[49m\n",
      "File \u001b[0;32m/opt/homebrew/Caskroom/miniforge/base/envs/p311/lib/python3.11/site-packages/pandas/io/parsers/readers.py:950\u001b[0m, in \u001b[0;36mread_csv\u001b[0;34m(filepath_or_buffer, sep, delimiter, header, names, index_col, usecols, squeeze, prefix, mangle_dupe_cols, dtype, engine, converters, true_values, false_values, skipinitialspace, skiprows, skipfooter, nrows, na_values, keep_default_na, na_filter, verbose, skip_blank_lines, parse_dates, infer_datetime_format, keep_date_col, date_parser, dayfirst, cache_dates, iterator, chunksize, compression, thousands, decimal, lineterminator, quotechar, quoting, doublequote, escapechar, comment, encoding, encoding_errors, dialect, error_bad_lines, warn_bad_lines, on_bad_lines, delim_whitespace, low_memory, memory_map, float_precision, storage_options)\u001b[0m\n\u001b[1;32m    935\u001b[0m kwds_defaults \u001b[38;5;241m=\u001b[39m _refine_defaults_read(\n\u001b[1;32m    936\u001b[0m     dialect,\n\u001b[1;32m    937\u001b[0m     delimiter,\n\u001b[0;32m   (...)\u001b[0m\n\u001b[1;32m    946\u001b[0m     defaults\u001b[38;5;241m=\u001b[39m{\u001b[38;5;124m\"\u001b[39m\u001b[38;5;124mdelimiter\u001b[39m\u001b[38;5;124m\"\u001b[39m: \u001b[38;5;124m\"\u001b[39m\u001b[38;5;124m,\u001b[39m\u001b[38;5;124m\"\u001b[39m},\n\u001b[1;32m    947\u001b[0m )\n\u001b[1;32m    948\u001b[0m kwds\u001b[38;5;241m.\u001b[39mupdate(kwds_defaults)\n\u001b[0;32m--> 950\u001b[0m \u001b[38;5;28;01mreturn\u001b[39;00m \u001b[43m_read\u001b[49m\u001b[43m(\u001b[49m\u001b[43mfilepath_or_buffer\u001b[49m\u001b[43m,\u001b[49m\u001b[43m \u001b[49m\u001b[43mkwds\u001b[49m\u001b[43m)\u001b[49m\n",
      "File \u001b[0;32m/opt/homebrew/Caskroom/miniforge/base/envs/p311/lib/python3.11/site-packages/pandas/io/parsers/readers.py:605\u001b[0m, in \u001b[0;36m_read\u001b[0;34m(filepath_or_buffer, kwds)\u001b[0m\n\u001b[1;32m    602\u001b[0m _validate_names(kwds\u001b[38;5;241m.\u001b[39mget(\u001b[38;5;124m\"\u001b[39m\u001b[38;5;124mnames\u001b[39m\u001b[38;5;124m\"\u001b[39m, \u001b[38;5;28;01mNone\u001b[39;00m))\n\u001b[1;32m    604\u001b[0m \u001b[38;5;66;03m# Create the parser.\u001b[39;00m\n\u001b[0;32m--> 605\u001b[0m parser \u001b[38;5;241m=\u001b[39m \u001b[43mTextFileReader\u001b[49m\u001b[43m(\u001b[49m\u001b[43mfilepath_or_buffer\u001b[49m\u001b[43m,\u001b[49m\u001b[43m \u001b[49m\u001b[38;5;241;43m*\u001b[39;49m\u001b[38;5;241;43m*\u001b[39;49m\u001b[43mkwds\u001b[49m\u001b[43m)\u001b[49m\n\u001b[1;32m    607\u001b[0m \u001b[38;5;28;01mif\u001b[39;00m chunksize \u001b[38;5;129;01mor\u001b[39;00m iterator:\n\u001b[1;32m    608\u001b[0m     \u001b[38;5;28;01mreturn\u001b[39;00m parser\n",
      "File \u001b[0;32m/opt/homebrew/Caskroom/miniforge/base/envs/p311/lib/python3.11/site-packages/pandas/io/parsers/readers.py:1442\u001b[0m, in \u001b[0;36mTextFileReader.__init__\u001b[0;34m(self, f, engine, **kwds)\u001b[0m\n\u001b[1;32m   1439\u001b[0m     \u001b[38;5;28mself\u001b[39m\u001b[38;5;241m.\u001b[39moptions[\u001b[38;5;124m\"\u001b[39m\u001b[38;5;124mhas_index_names\u001b[39m\u001b[38;5;124m\"\u001b[39m] \u001b[38;5;241m=\u001b[39m kwds[\u001b[38;5;124m\"\u001b[39m\u001b[38;5;124mhas_index_names\u001b[39m\u001b[38;5;124m\"\u001b[39m]\n\u001b[1;32m   1441\u001b[0m \u001b[38;5;28mself\u001b[39m\u001b[38;5;241m.\u001b[39mhandles: IOHandles \u001b[38;5;241m|\u001b[39m \u001b[38;5;28;01mNone\u001b[39;00m \u001b[38;5;241m=\u001b[39m \u001b[38;5;28;01mNone\u001b[39;00m\n\u001b[0;32m-> 1442\u001b[0m \u001b[38;5;28mself\u001b[39m\u001b[38;5;241m.\u001b[39m_engine \u001b[38;5;241m=\u001b[39m \u001b[38;5;28;43mself\u001b[39;49m\u001b[38;5;241;43m.\u001b[39;49m\u001b[43m_make_engine\u001b[49m\u001b[43m(\u001b[49m\u001b[43mf\u001b[49m\u001b[43m,\u001b[49m\u001b[43m \u001b[49m\u001b[38;5;28;43mself\u001b[39;49m\u001b[38;5;241;43m.\u001b[39;49m\u001b[43mengine\u001b[49m\u001b[43m)\u001b[49m\n",
      "File \u001b[0;32m/opt/homebrew/Caskroom/miniforge/base/envs/p311/lib/python3.11/site-packages/pandas/io/parsers/readers.py:1735\u001b[0m, in \u001b[0;36mTextFileReader._make_engine\u001b[0;34m(self, f, engine)\u001b[0m\n\u001b[1;32m   1733\u001b[0m     \u001b[38;5;28;01mif\u001b[39;00m \u001b[38;5;124m\"\u001b[39m\u001b[38;5;124mb\u001b[39m\u001b[38;5;124m\"\u001b[39m \u001b[38;5;129;01mnot\u001b[39;00m \u001b[38;5;129;01min\u001b[39;00m mode:\n\u001b[1;32m   1734\u001b[0m         mode \u001b[38;5;241m+\u001b[39m\u001b[38;5;241m=\u001b[39m \u001b[38;5;124m\"\u001b[39m\u001b[38;5;124mb\u001b[39m\u001b[38;5;124m\"\u001b[39m\n\u001b[0;32m-> 1735\u001b[0m \u001b[38;5;28mself\u001b[39m\u001b[38;5;241m.\u001b[39mhandles \u001b[38;5;241m=\u001b[39m \u001b[43mget_handle\u001b[49m\u001b[43m(\u001b[49m\n\u001b[1;32m   1736\u001b[0m \u001b[43m    \u001b[49m\u001b[43mf\u001b[49m\u001b[43m,\u001b[49m\n\u001b[1;32m   1737\u001b[0m \u001b[43m    \u001b[49m\u001b[43mmode\u001b[49m\u001b[43m,\u001b[49m\n\u001b[1;32m   1738\u001b[0m \u001b[43m    \u001b[49m\u001b[43mencoding\u001b[49m\u001b[38;5;241;43m=\u001b[39;49m\u001b[38;5;28;43mself\u001b[39;49m\u001b[38;5;241;43m.\u001b[39;49m\u001b[43moptions\u001b[49m\u001b[38;5;241;43m.\u001b[39;49m\u001b[43mget\u001b[49m\u001b[43m(\u001b[49m\u001b[38;5;124;43m\"\u001b[39;49m\u001b[38;5;124;43mencoding\u001b[39;49m\u001b[38;5;124;43m\"\u001b[39;49m\u001b[43m,\u001b[49m\u001b[43m \u001b[49m\u001b[38;5;28;43;01mNone\u001b[39;49;00m\u001b[43m)\u001b[49m\u001b[43m,\u001b[49m\n\u001b[1;32m   1739\u001b[0m \u001b[43m    \u001b[49m\u001b[43mcompression\u001b[49m\u001b[38;5;241;43m=\u001b[39;49m\u001b[38;5;28;43mself\u001b[39;49m\u001b[38;5;241;43m.\u001b[39;49m\u001b[43moptions\u001b[49m\u001b[38;5;241;43m.\u001b[39;49m\u001b[43mget\u001b[49m\u001b[43m(\u001b[49m\u001b[38;5;124;43m\"\u001b[39;49m\u001b[38;5;124;43mcompression\u001b[39;49m\u001b[38;5;124;43m\"\u001b[39;49m\u001b[43m,\u001b[49m\u001b[43m \u001b[49m\u001b[38;5;28;43;01mNone\u001b[39;49;00m\u001b[43m)\u001b[49m\u001b[43m,\u001b[49m\n\u001b[1;32m   1740\u001b[0m \u001b[43m    \u001b[49m\u001b[43mmemory_map\u001b[49m\u001b[38;5;241;43m=\u001b[39;49m\u001b[38;5;28;43mself\u001b[39;49m\u001b[38;5;241;43m.\u001b[39;49m\u001b[43moptions\u001b[49m\u001b[38;5;241;43m.\u001b[39;49m\u001b[43mget\u001b[49m\u001b[43m(\u001b[49m\u001b[38;5;124;43m\"\u001b[39;49m\u001b[38;5;124;43mmemory_map\u001b[39;49m\u001b[38;5;124;43m\"\u001b[39;49m\u001b[43m,\u001b[49m\u001b[43m \u001b[49m\u001b[38;5;28;43;01mFalse\u001b[39;49;00m\u001b[43m)\u001b[49m\u001b[43m,\u001b[49m\n\u001b[1;32m   1741\u001b[0m \u001b[43m    \u001b[49m\u001b[43mis_text\u001b[49m\u001b[38;5;241;43m=\u001b[39;49m\u001b[43mis_text\u001b[49m\u001b[43m,\u001b[49m\n\u001b[1;32m   1742\u001b[0m \u001b[43m    \u001b[49m\u001b[43merrors\u001b[49m\u001b[38;5;241;43m=\u001b[39;49m\u001b[38;5;28;43mself\u001b[39;49m\u001b[38;5;241;43m.\u001b[39;49m\u001b[43moptions\u001b[49m\u001b[38;5;241;43m.\u001b[39;49m\u001b[43mget\u001b[49m\u001b[43m(\u001b[49m\u001b[38;5;124;43m\"\u001b[39;49m\u001b[38;5;124;43mencoding_errors\u001b[39;49m\u001b[38;5;124;43m\"\u001b[39;49m\u001b[43m,\u001b[49m\u001b[43m \u001b[49m\u001b[38;5;124;43m\"\u001b[39;49m\u001b[38;5;124;43mstrict\u001b[39;49m\u001b[38;5;124;43m\"\u001b[39;49m\u001b[43m)\u001b[49m\u001b[43m,\u001b[49m\n\u001b[1;32m   1743\u001b[0m \u001b[43m    \u001b[49m\u001b[43mstorage_options\u001b[49m\u001b[38;5;241;43m=\u001b[39;49m\u001b[38;5;28;43mself\u001b[39;49m\u001b[38;5;241;43m.\u001b[39;49m\u001b[43moptions\u001b[49m\u001b[38;5;241;43m.\u001b[39;49m\u001b[43mget\u001b[49m\u001b[43m(\u001b[49m\u001b[38;5;124;43m\"\u001b[39;49m\u001b[38;5;124;43mstorage_options\u001b[39;49m\u001b[38;5;124;43m\"\u001b[39;49m\u001b[43m,\u001b[49m\u001b[43m \u001b[49m\u001b[38;5;28;43;01mNone\u001b[39;49;00m\u001b[43m)\u001b[49m\u001b[43m,\u001b[49m\n\u001b[1;32m   1744\u001b[0m \u001b[43m\u001b[49m\u001b[43m)\u001b[49m\n\u001b[1;32m   1745\u001b[0m \u001b[38;5;28;01massert\u001b[39;00m \u001b[38;5;28mself\u001b[39m\u001b[38;5;241m.\u001b[39mhandles \u001b[38;5;129;01mis\u001b[39;00m \u001b[38;5;129;01mnot\u001b[39;00m \u001b[38;5;28;01mNone\u001b[39;00m\n\u001b[1;32m   1746\u001b[0m f \u001b[38;5;241m=\u001b[39m \u001b[38;5;28mself\u001b[39m\u001b[38;5;241m.\u001b[39mhandles\u001b[38;5;241m.\u001b[39mhandle\n",
      "File \u001b[0;32m/opt/homebrew/Caskroom/miniforge/base/envs/p311/lib/python3.11/site-packages/pandas/io/common.py:856\u001b[0m, in \u001b[0;36mget_handle\u001b[0;34m(path_or_buf, mode, encoding, compression, memory_map, is_text, errors, storage_options)\u001b[0m\n\u001b[1;32m    851\u001b[0m \u001b[38;5;28;01melif\u001b[39;00m \u001b[38;5;28misinstance\u001b[39m(handle, \u001b[38;5;28mstr\u001b[39m):\n\u001b[1;32m    852\u001b[0m     \u001b[38;5;66;03m# Check whether the filename is to be opened in binary mode.\u001b[39;00m\n\u001b[1;32m    853\u001b[0m     \u001b[38;5;66;03m# Binary mode does not support 'encoding' and 'newline'.\u001b[39;00m\n\u001b[1;32m    854\u001b[0m     \u001b[38;5;28;01mif\u001b[39;00m ioargs\u001b[38;5;241m.\u001b[39mencoding \u001b[38;5;129;01mand\u001b[39;00m \u001b[38;5;124m\"\u001b[39m\u001b[38;5;124mb\u001b[39m\u001b[38;5;124m\"\u001b[39m \u001b[38;5;129;01mnot\u001b[39;00m \u001b[38;5;129;01min\u001b[39;00m ioargs\u001b[38;5;241m.\u001b[39mmode:\n\u001b[1;32m    855\u001b[0m         \u001b[38;5;66;03m# Encoding\u001b[39;00m\n\u001b[0;32m--> 856\u001b[0m         handle \u001b[38;5;241m=\u001b[39m \u001b[38;5;28;43mopen\u001b[39;49m\u001b[43m(\u001b[49m\n\u001b[1;32m    857\u001b[0m \u001b[43m            \u001b[49m\u001b[43mhandle\u001b[49m\u001b[43m,\u001b[49m\n\u001b[1;32m    858\u001b[0m \u001b[43m            \u001b[49m\u001b[43mioargs\u001b[49m\u001b[38;5;241;43m.\u001b[39;49m\u001b[43mmode\u001b[49m\u001b[43m,\u001b[49m\n\u001b[1;32m    859\u001b[0m \u001b[43m            \u001b[49m\u001b[43mencoding\u001b[49m\u001b[38;5;241;43m=\u001b[39;49m\u001b[43mioargs\u001b[49m\u001b[38;5;241;43m.\u001b[39;49m\u001b[43mencoding\u001b[49m\u001b[43m,\u001b[49m\n\u001b[1;32m    860\u001b[0m \u001b[43m            \u001b[49m\u001b[43merrors\u001b[49m\u001b[38;5;241;43m=\u001b[39;49m\u001b[43merrors\u001b[49m\u001b[43m,\u001b[49m\n\u001b[1;32m    861\u001b[0m \u001b[43m            \u001b[49m\u001b[43mnewline\u001b[49m\u001b[38;5;241;43m=\u001b[39;49m\u001b[38;5;124;43m\"\u001b[39;49m\u001b[38;5;124;43m\"\u001b[39;49m\u001b[43m,\u001b[49m\n\u001b[1;32m    862\u001b[0m \u001b[43m        \u001b[49m\u001b[43m)\u001b[49m\n\u001b[1;32m    863\u001b[0m     \u001b[38;5;28;01melse\u001b[39;00m:\n\u001b[1;32m    864\u001b[0m         \u001b[38;5;66;03m# Binary mode\u001b[39;00m\n\u001b[1;32m    865\u001b[0m         handle \u001b[38;5;241m=\u001b[39m \u001b[38;5;28mopen\u001b[39m(handle, ioargs\u001b[38;5;241m.\u001b[39mmode)\n",
      "\u001b[0;31mFileNotFoundError\u001b[0m: [Errno 2] No such file or directory: 'data/imports/221007-RecueilBrut.csv'"
     ]
    }
   ],
   "source": [
    "df_brut = pd.read_csv(f'data/{filename}')"
   ]
  },
  {
   "cell_type": "code",
   "execution_count": null,
   "id": "fb4c729d",
   "metadata": {},
   "outputs": [],
   "source": [
    "df_brut"
   ]
  },
  {
   "cell_type": "markdown",
   "id": "ba245be5",
   "metadata": {},
   "source": [
    "### Chargement Labels"
   ]
  },
  {
   "cell_type": "code",
   "execution_count": null,
   "id": "69d28bad",
   "metadata": {},
   "outputs": [],
   "source": [
    "df_label_corpus = pd.read_csv('data/corpus/221007-LabelCorpus.csv')"
   ]
  },
  {
   "cell_type": "code",
   "execution_count": null,
   "id": "08ebd013",
   "metadata": {},
   "outputs": [],
   "source": [
    "#df_labels.drop(columns='Unnamed: 0').to_csv('data/corpus/221007-Label.csv',index=False)"
   ]
  },
  {
   "cell_type": "code",
   "execution_count": null,
   "id": "2b274ca4",
   "metadata": {},
   "outputs": [],
   "source": [
    "df_label_corpus"
   ]
  },
  {
   "cell_type": "markdown",
   "id": "26de4d29",
   "metadata": {},
   "source": [
    "## Expérience\n",
    "---"
   ]
  },
  {
   "cell_type": "markdown",
   "id": "701ce75c",
   "metadata": {},
   "source": [
    "### Renommage Labels"
   ]
  },
  {
   "cell_type": "code",
   "execution_count": null,
   "id": "e815a0e9",
   "metadata": {},
   "outputs": [],
   "source": [
    "import patat.imp.labels\n",
    "importlib.reload(patat.imp.labels)\n",
    "patat.imp.labels.label_short_names\n",
    "df_brut = df_brut.rename(columns = patat.imp.labels.label_short_names)"
   ]
  },
  {
   "cell_type": "code",
   "execution_count": null,
   "id": "f64564a2",
   "metadata": {},
   "outputs": [],
   "source": [
    "df_brut"
   ]
  },
  {
   "cell_type": "code",
   "execution_count": null,
   "id": "a3304a77",
   "metadata": {},
   "outputs": [],
   "source": [
    "### Normalisation des labels\n",
    "\n",
    "import patat.imp.labels\n",
    "\n",
    "label_names = patat.imp.labels.labels\n",
    "\n",
    "for label in label_names:\n",
    "    print(label,df_brut[label].isna().sum())"
   ]
  },
  {
   "cell_type": "code",
   "execution_count": null,
   "id": "f68152dc",
   "metadata": {},
   "outputs": [],
   "source": [
    "import numpy as np\n",
    "\n",
    "def normalize_label(value):\n",
    "    if type(value) != str:\n",
    "        return np.NaN\n",
    "    elif value == 'oui':\n",
    "        return 1\n",
    "    elif value =='non' :\n",
    "        return 0\n",
    "    else:\n",
    "        return np.NaN"
   ]
  },
  {
   "cell_type": "code",
   "execution_count": null,
   "id": "b171f0f5",
   "metadata": {},
   "outputs": [],
   "source": [
    "for label in label_names:\n",
    "    df_brut[label]=df_brut[label].apply(normalize_label)\n",
    "\n",
    "df_brut = df_brut.convert_dtypes()\n",
    "\n",
    "for label in label_names:\n",
    "    print(label,df_brut[label].isna().sum())"
   ]
  },
  {
   "cell_type": "code",
   "execution_count": null,
   "id": "5063bac4",
   "metadata": {},
   "outputs": [],
   "source": [
    "df_brut"
   ]
  },
  {
   "cell_type": "markdown",
   "id": "cadbaf22",
   "metadata": {},
   "source": [
    "### Récupération labels du corpus"
   ]
  },
  {
   "cell_type": "code",
   "execution_count": null,
   "id": "e10bd720",
   "metadata": {},
   "outputs": [],
   "source": [
    "from patat.imp.labels import labels"
   ]
  },
  {
   "cell_type": "code",
   "execution_count": null,
   "id": "d508f468",
   "metadata": {},
   "outputs": [],
   "source": [
    "labels"
   ]
  },
  {
   "cell_type": "code",
   "execution_count": null,
   "id": "6e030f6e",
   "metadata": {},
   "outputs": [],
   "source": [
    "label_values = []\n",
    "for index,row in df_brut.iterrows():\n",
    "    for label in labels:\n",
    "        if pd.notna(row[label]):\n",
    "            lvalue = {\n",
    "                'url' : row['url'],\n",
    "                'label' : label,\n",
    "                'value' : row[label],\n",
    "                'owner' : 'recueil',\n",
    "            }\n",
    "            label_values.append(lvalue)"
   ]
  },
  {
   "cell_type": "code",
   "execution_count": null,
   "id": "5739089a",
   "metadata": {},
   "outputs": [],
   "source": [
    "label_values"
   ]
  },
  {
   "cell_type": "code",
   "execution_count": null,
   "id": "cde9f06b",
   "metadata": {},
   "outputs": [],
   "source": [
    "df_label_recueil = pd.DataFrame(label_values)"
   ]
  },
  {
   "cell_type": "code",
   "execution_count": null,
   "id": "c87f7d0d",
   "metadata": {},
   "outputs": [],
   "source": [
    "df_label_recueil.to_csv('data/corpus/221007-LabelRecueil.csv',index=False)"
   ]
  },
  {
   "cell_type": "code",
   "execution_count": null,
   "id": "33a29edb",
   "metadata": {},
   "outputs": [],
   "source": [
    "df_label_recueil"
   ]
  },
  {
   "cell_type": "markdown",
   "id": "16e314af",
   "metadata": {},
   "source": [
    "### Merge avec LabelCorpus"
   ]
  },
  {
   "cell_type": "code",
   "execution_count": null,
   "id": "05ac9210",
   "metadata": {},
   "outputs": [],
   "source": [
    "# A écrire..."
   ]
  },
  {
   "cell_type": "code",
   "execution_count": null,
   "id": "d7785b33",
   "metadata": {},
   "outputs": [],
   "source": [
    "df_label_recueil.to_csv('data/corpus/221007-LabelCorpus.csv',index=False)"
   ]
  },
  {
   "cell_type": "markdown",
   "id": "ba0834f1",
   "metadata": {},
   "source": [
    "## Mesure et observation des résultats\n",
    "---"
   ]
  },
  {
   "cell_type": "markdown",
   "id": "76996d3a",
   "metadata": {},
   "source": [
    "## Sauvegarde des résultats\n",
    "---"
   ]
  },
  {
   "cell_type": "code",
   "execution_count": null,
   "id": "827f60e3",
   "metadata": {},
   "outputs": [],
   "source": []
  },
  {
   "cell_type": "markdown",
   "id": "fb7949bc",
   "metadata": {},
   "source": [
    "## Conclusions\n",
    "---"
   ]
  },
  {
   "cell_type": "markdown",
   "id": "bd06b261",
   "metadata": {},
   "source": [
    "- Format Labl.csv : OK"
   ]
  },
  {
   "cell_type": "markdown",
   "id": "bd360655",
   "metadata": {},
   "source": [
    "## Bricolages\n",
    "---"
   ]
  },
  {
   "cell_type": "code",
   "execution_count": null,
   "id": "199d7c76",
   "metadata": {},
   "outputs": [],
   "source": [
    "df_app = pd.read_csv('data/corpus/221003-CorpusApp.csv')"
   ]
  },
  {
   "cell_type": "code",
   "execution_count": null,
   "id": "ba2bd0c6",
   "metadata": {},
   "outputs": [],
   "source": [
    "df_app.keys()"
   ]
  },
  {
   "cell_type": "code",
   "execution_count": null,
   "id": "4e24d38d",
   "metadata": {},
   "outputs": [],
   "source": [
    "predictor_name = '220930-tf_lr.pp'"
   ]
  },
  {
   "cell_type": "code",
   "execution_count": null,
   "id": "b5732f08",
   "metadata": {},
   "outputs": [],
   "source": [
    "df_label_pred = df_app[['url','y_proba']].copy()"
   ]
  },
  {
   "cell_type": "code",
   "execution_count": null,
   "id": "9e8fe9d1",
   "metadata": {},
   "outputs": [],
   "source": [
    "df_label_pred = df_label_pred.rename(columns={\"y_proba\": \"value\"})"
   ]
  },
  {
   "cell_type": "code",
   "execution_count": null,
   "id": "312fbbd2",
   "metadata": {},
   "outputs": [],
   "source": [
    "df_label_pred['label']='infox'\n",
    "df_label_pred['owner']=predictor_name\n",
    "\n",
    "df_label_pred"
   ]
  },
  {
   "cell_type": "markdown",
   "id": "ca671b96",
   "metadata": {},
   "source": [
    "### Merge"
   ]
  },
  {
   "cell_type": "code",
   "execution_count": null,
   "id": "b2c06865",
   "metadata": {},
   "outputs": [],
   "source": [
    "df_label_merge = pd.concat([df_label_recueil, df_label_pred],ignore_index=True)"
   ]
  },
  {
   "cell_type": "code",
   "execution_count": null,
   "id": "ebe5eea5",
   "metadata": {},
   "outputs": [],
   "source": [
    "df_label_merge"
   ]
  },
  {
   "cell_type": "code",
   "execution_count": null,
   "id": "26bd6d68",
   "metadata": {},
   "outputs": [],
   "source": [
    "df_label_merge.to_csv('data/corpus/221007-LabelCorpus.csv')"
   ]
  },
  {
   "cell_type": "markdown",
   "id": "4a9c6715",
   "metadata": {},
   "source": [
    "### ArticleCorpus"
   ]
  },
  {
   "cell_type": "code",
   "execution_count": null,
   "id": "183b65ef",
   "metadata": {},
   "outputs": [],
   "source": [
    "df_article=df_app[df_app['article'].notna()].copy()"
   ]
  },
  {
   "cell_type": "code",
   "execution_count": null,
   "id": "e480e37e",
   "metadata": {},
   "outputs": [],
   "source": [
    "df_article=df_article[df_article['title'].notna()]"
   ]
  },
  {
   "cell_type": "code",
   "execution_count": null,
   "id": "7de4fa6e",
   "metadata": {},
   "outputs": [],
   "source": [
    "df_article=df_article.drop(columns=['infox','y_proba'])"
   ]
  },
  {
   "cell_type": "code",
   "execution_count": null,
   "id": "d300015c",
   "metadata": {},
   "outputs": [],
   "source": [
    "new_urls = []\n",
    "for url in list(df_brut['url']):\n",
    "    if url not in list(df_article['url']):\n",
    "        new_urls.append(url)"
   ]
  },
  {
   "cell_type": "code",
   "execution_count": null,
   "id": "a748af6a",
   "metadata": {},
   "outputs": [],
   "source": [
    "len(new_urls)"
   ]
  },
  {
   "cell_type": "code",
   "execution_count": null,
   "id": "b4aa665d",
   "metadata": {},
   "outputs": [],
   "source": [
    "import patat.imp.importer\n",
    "import patat.imp.parser"
   ]
  },
  {
   "cell_type": "code",
   "execution_count": null,
   "id": "af3b5d3a",
   "metadata": {},
   "outputs": [],
   "source": [
    "imp = patat.imp.importer.Importer()\n",
    "parser = patat.imp.parser.Parser()"
   ]
  },
  {
   "cell_type": "code",
   "execution_count": null,
   "id": "80c1ec09",
   "metadata": {},
   "outputs": [],
   "source": [
    "articles = []\n",
    "for url in new_urls:\n",
    "    html = imp.get_webpage(url)\n",
    "    site = imp.get_site(url)\n",
    "    article = parser.parse_article(url,html,site)\n",
    "    articles.append(article)\n"
   ]
  },
  {
   "cell_type": "code",
   "execution_count": null,
   "id": "adbe2c38",
   "metadata": {},
   "outputs": [],
   "source": [
    "df_articles=pd.DataFrame(articles)"
   ]
  },
  {
   "cell_type": "code",
   "execution_count": null,
   "id": "0aa55cfd",
   "metadata": {},
   "outputs": [],
   "source": [
    "df_articles[df_articles['title'].isna()].value_counts('site')"
   ]
  },
  {
   "cell_type": "code",
   "execution_count": null,
   "id": "78cae158",
   "metadata": {},
   "outputs": [],
   "source": []
  }
 ],
 "metadata": {
  "kernelspec": {
   "display_name": "Python 3 (ipykernel)",
   "language": "python",
   "name": "python3"
  },
  "language_info": {
   "codemirror_mode": {
    "name": "ipython",
    "version": 3
   },
   "file_extension": ".py",
   "mimetype": "text/x-python",
   "name": "python",
   "nbconvert_exporter": "python",
   "pygments_lexer": "ipython3",
   "version": "3.11.0"
  }
 },
 "nbformat": 4,
 "nbformat_minor": 5
}
