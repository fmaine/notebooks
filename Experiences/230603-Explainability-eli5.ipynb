{
 "cells": [
  {
   "cell_type": "markdown",
   "id": "e3ec4689",
   "metadata": {},
   "source": [
    "# Plateforme Agnostique de Traitement et d'Analyse des Textes\n",
    "### Carnet d'expérimentation\n",
    "---\n",
    "\n",
    "## Sujet : Explainability with eli5\n",
    "\n",
    "\n",
    "---"
   ]
  },
  {
   "cell_type": "markdown",
   "id": "2601e626",
   "metadata": {},
   "source": [
    "# Initialisations\n",
    "---"
   ]
  },
  {
   "cell_type": "code",
   "execution_count": 1,
   "id": "525fef74",
   "metadata": {},
   "outputs": [],
   "source": [
    "_rs = 42"
   ]
  },
  {
   "cell_type": "code",
   "execution_count": 2,
   "id": "5d0de4d7",
   "metadata": {},
   "outputs": [
    {
     "name": "stdout",
     "output_type": "stream",
     "text": [
      "/Volumes/Geek/Work/Patat\n"
     ]
    }
   ],
   "source": [
    "cd ../.."
   ]
  },
  {
   "cell_type": "code",
   "execution_count": 3,
   "id": "32256b0d",
   "metadata": {},
   "outputs": [],
   "source": [
    "import ast\n",
    "import importlib\n",
    "import pandas as pd\n",
    "import seaborn as sns\n",
    "from tqdm.notebook import tqdm\n",
    "tqdm.pandas()"
   ]
  },
  {
   "cell_type": "markdown",
   "id": "b9b13f54",
   "metadata": {},
   "source": [
    "# Préparation Données\n",
    "\n",
    "---"
   ]
  },
  {
   "cell_type": "markdown",
   "id": "18533365",
   "metadata": {},
   "source": [
    "## Chargements"
   ]
  },
  {
   "cell_type": "code",
   "execution_count": 4,
   "id": "b435d360",
   "metadata": {},
   "outputs": [],
   "source": [
    "import patat.util.file\n",
    "\n",
    "filename = 'data/tmp/230603-df_ml.pickle'\n",
    "\n",
    "df_ml = patat.util.file.pickle_load(filename)"
   ]
  },
  {
   "cell_type": "code",
   "execution_count": 5,
   "id": "91f65374",
   "metadata": {},
   "outputs": [],
   "source": [
    "stopwords = patat.util.file.pickle_load('data/tmp/stopwords.pickle')"
   ]
  },
  {
   "cell_type": "markdown",
   "id": "fb7949bc",
   "metadata": {},
   "source": [
    "# eli5 Text Explainer\n",
    "---"
   ]
  },
  {
   "cell_type": "markdown",
   "id": "24ef2e77",
   "metadata": {},
   "source": [
    "## Preprocessing"
   ]
  },
  {
   "cell_type": "code",
   "execution_count": 6,
   "id": "174864d6",
   "metadata": {},
   "outputs": [],
   "source": [
    "import patat.util.text"
   ]
  },
  {
   "cell_type": "code",
   "execution_count": 7,
   "id": "8324445b",
   "metadata": {},
   "outputs": [],
   "source": [
    "import re"
   ]
  },
  {
   "cell_type": "code",
   "execution_count": 8,
   "id": "02f6873b",
   "metadata": {},
   "outputs": [],
   "source": [
    "def preprocess(text):\n",
    "    text = patat.util.text.preprocess(text)\n",
    "    # Remove numbers\n",
    "    text = re.sub(r'\\d+','',text)\n",
    "    return text"
   ]
  },
  {
   "cell_type": "code",
   "execution_count": 9,
   "id": "d26882bb",
   "metadata": {},
   "outputs": [],
   "source": [
    "df_ml['text_p']=df_ml['text'].apply(preprocess)"
   ]
  },
  {
   "cell_type": "markdown",
   "id": "43dd4b13",
   "metadata": {},
   "source": [
    "## Reduction du nombre de paragraphes"
   ]
  },
  {
   "cell_type": "code",
   "execution_count": 10,
   "id": "85a3f672",
   "metadata": {},
   "outputs": [],
   "source": [
    "nb_parags = 13\n",
    "def cut_text(text):\n",
    "    return '\\n'.join(text.split('\\n')[:nb_parags])"
   ]
  },
  {
   "cell_type": "code",
   "execution_count": 11,
   "id": "0673f8d3",
   "metadata": {},
   "outputs": [],
   "source": [
    "df_ml['text_ml']=df_ml['text_p'].apply(cut_text)"
   ]
  },
  {
   "cell_type": "markdown",
   "id": "d09c1980",
   "metadata": {},
   "source": [
    "## Entrainement pipeline sur l'ensemble du corpus"
   ]
  },
  {
   "cell_type": "code",
   "execution_count": 96,
   "id": "cb645a88",
   "metadata": {},
   "outputs": [],
   "source": [
    "from sklearn.feature_extraction.text import TfidfVectorizer\n",
    "from sklearn.neural_network import MLPClassifier\n",
    "from sklearn.linear_model import LogisticRegression\n",
    "from sklearn.model_selection import cross_validate\n",
    "from sklearn import metrics\n",
    "from sklearn.pipeline import Pipeline, make_pipeline"
   ]
  },
  {
   "cell_type": "code",
   "execution_count": 97,
   "id": "c85bf030",
   "metadata": {},
   "outputs": [],
   "source": [
    "#classifier = LogisticRegression(C=150, random_state=_rs, solver='lbfgs', multi_class='ovr', max_iter=1000)\n",
    "#classifier = LogisticRegression(C=150, random_state=_rs, max_iter=1000)\n",
    "classifier = MLPClassifier()"
   ]
  },
  {
   "cell_type": "code",
   "execution_count": 98,
   "id": "920f7b40",
   "metadata": {},
   "outputs": [],
   "source": [
    "sw = stopwords[:120]\n",
    "#sw = stopwords"
   ]
  },
  {
   "cell_type": "code",
   "execution_count": 99,
   "id": "2994dc80",
   "metadata": {},
   "outputs": [],
   "source": [
    "#vectorizer = TfidfVectorizer(stop_words=sw,ngram_range=(2,3))\n",
    "vectorizer = TfidfVectorizer(stop_words=sw)"
   ]
  },
  {
   "cell_type": "code",
   "execution_count": 100,
   "id": "20e04a65",
   "metadata": {},
   "outputs": [],
   "source": [
    "pipe = make_pipeline(vectorizer, classifier)"
   ]
  },
  {
   "cell_type": "code",
   "execution_count": 101,
   "id": "231fbd5f",
   "metadata": {},
   "outputs": [],
   "source": [
    "X = df_ml['text']\n",
    "y = df_ml['infox']"
   ]
  },
  {
   "cell_type": "markdown",
   "id": "a0df8ad3",
   "metadata": {},
   "source": [
    "## Crossvalidation"
   ]
  },
  {
   "cell_type": "code",
   "execution_count": 102,
   "id": "fa1630cf",
   "metadata": {},
   "outputs": [],
   "source": [
    "scores = cross_validate(pipe, X, y, cv=5,\n",
    "                        scoring=('accuracy','f1','recall','roc_auc'))"
   ]
  },
  {
   "cell_type": "code",
   "execution_count": 103,
   "id": "e8a6f75e",
   "metadata": {},
   "outputs": [
    {
     "data": {
      "text/html": [
       "<div>\n",
       "<style scoped>\n",
       "    .dataframe tbody tr th:only-of-type {\n",
       "        vertical-align: middle;\n",
       "    }\n",
       "\n",
       "    .dataframe tbody tr th {\n",
       "        vertical-align: top;\n",
       "    }\n",
       "\n",
       "    .dataframe thead th {\n",
       "        text-align: right;\n",
       "    }\n",
       "</style>\n",
       "<table border=\"1\" class=\"dataframe\">\n",
       "  <thead>\n",
       "    <tr style=\"text-align: right;\">\n",
       "      <th></th>\n",
       "      <th>fit_time</th>\n",
       "      <th>score_time</th>\n",
       "      <th>test_accuracy</th>\n",
       "      <th>test_f1</th>\n",
       "      <th>test_recall</th>\n",
       "      <th>test_roc_auc</th>\n",
       "    </tr>\n",
       "  </thead>\n",
       "  <tbody>\n",
       "    <tr>\n",
       "      <th>0</th>\n",
       "      <td>0.575722</td>\n",
       "      <td>0.112214</td>\n",
       "      <td>0.746667</td>\n",
       "      <td>0.753247</td>\n",
       "      <td>0.773333</td>\n",
       "      <td>0.839289</td>\n",
       "    </tr>\n",
       "    <tr>\n",
       "      <th>1</th>\n",
       "      <td>0.503734</td>\n",
       "      <td>0.096569</td>\n",
       "      <td>0.785235</td>\n",
       "      <td>0.780822</td>\n",
       "      <td>0.770270</td>\n",
       "      <td>0.878378</td>\n",
       "    </tr>\n",
       "    <tr>\n",
       "      <th>2</th>\n",
       "      <td>0.782908</td>\n",
       "      <td>0.134691</td>\n",
       "      <td>0.751678</td>\n",
       "      <td>0.744828</td>\n",
       "      <td>0.729730</td>\n",
       "      <td>0.829550</td>\n",
       "    </tr>\n",
       "    <tr>\n",
       "      <th>3</th>\n",
       "      <td>0.439728</td>\n",
       "      <td>0.105822</td>\n",
       "      <td>0.812081</td>\n",
       "      <td>0.818182</td>\n",
       "      <td>0.840000</td>\n",
       "      <td>0.868468</td>\n",
       "    </tr>\n",
       "    <tr>\n",
       "      <th>4</th>\n",
       "      <td>0.503242</td>\n",
       "      <td>0.093836</td>\n",
       "      <td>0.852349</td>\n",
       "      <td>0.853333</td>\n",
       "      <td>0.853333</td>\n",
       "      <td>0.909910</td>\n",
       "    </tr>\n",
       "  </tbody>\n",
       "</table>\n",
       "</div>"
      ],
      "text/plain": [
       "   fit_time  score_time  test_accuracy   test_f1  test_recall  test_roc_auc\n",
       "0  0.575722    0.112214       0.746667  0.753247     0.773333      0.839289\n",
       "1  0.503734    0.096569       0.785235  0.780822     0.770270      0.878378\n",
       "2  0.782908    0.134691       0.751678  0.744828     0.729730      0.829550\n",
       "3  0.439728    0.105822       0.812081  0.818182     0.840000      0.868468\n",
       "4  0.503242    0.093836       0.852349  0.853333     0.853333      0.909910"
      ]
     },
     "execution_count": 103,
     "metadata": {},
     "output_type": "execute_result"
    }
   ],
   "source": [
    "df_scores=pd.DataFrame(scores)\n",
    "df_scores"
   ]
  },
  {
   "cell_type": "code",
   "execution_count": 104,
   "id": "a8011ace",
   "metadata": {},
   "outputs": [
    {
     "data": {
      "text/plain": [
       "fit_time         0.561067\n",
       "score_time       0.108626\n",
       "test_accuracy    0.789602\n",
       "test_f1          0.790082\n",
       "test_recall      0.793333\n",
       "test_roc_auc     0.865119\n",
       "dtype: float64"
      ]
     },
     "execution_count": 104,
     "metadata": {},
     "output_type": "execute_result"
    }
   ],
   "source": [
    "df_scores.mean()"
   ]
  },
  {
   "cell_type": "code",
   "execution_count": 105,
   "id": "623e722e",
   "metadata": {},
   "outputs": [
    {
     "data": {
      "text/plain": [
       "<Figure size 800x600 with 0 Axes>"
      ]
     },
     "metadata": {},
     "output_type": "display_data"
    },
    {
     "data": {
      "image/png": "[encoded data removed]",
      "text/plain": [
       "<Figure size 500x500 with 1 Axes>"
      ]
     },
     "metadata": {},
     "output_type": "display_data"
    }
   ],
   "source": [
    "from matplotlib import pyplot as plt\n",
    "import seaborn as sns\n",
    "plt.figure(figsize=(8,6))\n",
    "ax = sns.catplot(df_scores[['test_accuracy','test_f1','test_recall','test_roc_auc']])"
   ]
  },
  {
   "cell_type": "markdown",
   "id": "627f3539",
   "metadata": {},
   "source": [
    "## Entrainement sur tout le dataset"
   ]
  },
  {
   "cell_type": "code",
   "execution_count": 85,
   "id": "dce2ba74",
   "metadata": {},
   "outputs": [
    {
     "data": {
      "text/plain": [
       "1.0"
      ]
     },
     "execution_count": 85,
     "metadata": {},
     "output_type": "execute_result"
    }
   ],
   "source": [
    "pipe.fit(X, y)\n",
    "pipe.score(X, y)"
   ]
  },
  {
   "cell_type": "code",
   "execution_count": 86,
   "id": "e5d66f25",
   "metadata": {},
   "outputs": [],
   "source": [
    "import eli5\n",
    "from eli5.lime import TextExplainer"
   ]
  },
  {
   "cell_type": "code",
   "execution_count": 87,
   "id": "0101edc4",
   "metadata": {},
   "outputs": [],
   "source": [
    "df_weights = eli5.format_as_dataframe(eli5.explain_weights(logreg, vec=vectorizer, top=2000,\n",
    "                   feature_names=vectorizer.get_feature_names_out()))"
   ]
  },
  {
   "cell_type": "code",
   "execution_count": 88,
   "id": "f4dc3d60",
   "metadata": {},
   "outputs": [
    {
     "data": {
      "text/html": [
       "<div>\n",
       "<style scoped>\n",
       "    .dataframe tbody tr th:only-of-type {\n",
       "        vertical-align: middle;\n",
       "    }\n",
       "\n",
       "    .dataframe tbody tr th {\n",
       "        vertical-align: top;\n",
       "    }\n",
       "\n",
       "    .dataframe thead th {\n",
       "        text-align: right;\n",
       "    }\n",
       "</style>\n",
       "<table border=\"1\" class=\"dataframe\">\n",
       "  <thead>\n",
       "    <tr style=\"text-align: right;\">\n",
       "      <th></th>\n",
       "      <th>target</th>\n",
       "      <th>feature</th>\n",
       "      <th>weight</th>\n",
       "    </tr>\n",
       "  </thead>\n",
       "  <tbody>\n",
       "    <tr>\n",
       "      <th>0</th>\n",
       "      <td>1.0</td>\n",
       "      <td>000</td>\n",
       "      <td>5.209218</td>\n",
       "    </tr>\n",
       "    <tr>\n",
       "      <th>1</th>\n",
       "      <td>1.0</td>\n",
       "      <td>2021</td>\n",
       "      <td>4.829856</td>\n",
       "    </tr>\n",
       "    <tr>\n",
       "      <th>2</th>\n",
       "      <td>1.0</td>\n",
       "      <td>incl</td>\n",
       "      <td>4.599506</td>\n",
       "    </tr>\n",
       "    <tr>\n",
       "      <th>3</th>\n",
       "      <td>1.0</td>\n",
       "      <td>vaccination</td>\n",
       "      <td>4.430577</td>\n",
       "    </tr>\n",
       "    <tr>\n",
       "      <th>4</th>\n",
       "      <td>1.0</td>\n",
       "      <td>pologne</td>\n",
       "      <td>4.401078</td>\n",
       "    </tr>\n",
       "    <tr>\n",
       "      <th>...</th>\n",
       "      <td>...</td>\n",
       "      <td>...</td>\n",
       "      <td>...</td>\n",
       "    </tr>\n",
       "    <tr>\n",
       "      <th>96</th>\n",
       "      <td>1.0</td>\n",
       "      <td>pfizer</td>\n",
       "      <td>2.440561</td>\n",
       "    </tr>\n",
       "    <tr>\n",
       "      <th>97</th>\n",
       "      <td>1.0</td>\n",
       "      <td>climat</td>\n",
       "      <td>2.424830</td>\n",
       "    </tr>\n",
       "    <tr>\n",
       "      <th>98</th>\n",
       "      <td>1.0</td>\n",
       "      <td>azov</td>\n",
       "      <td>2.414398</td>\n",
       "    </tr>\n",
       "    <tr>\n",
       "      <th>99</th>\n",
       "      <td>1.0</td>\n",
       "      <td>lequel</td>\n",
       "      <td>2.414386</td>\n",
       "    </tr>\n",
       "    <tr>\n",
       "      <th>100</th>\n",
       "      <td>1.0</td>\n",
       "      <td>ursula</td>\n",
       "      <td>2.403962</td>\n",
       "    </tr>\n",
       "  </tbody>\n",
       "</table>\n",
       "<p>101 rows × 3 columns</p>\n",
       "</div>"
      ],
      "text/plain": [
       "     target      feature    weight\n",
       "0       1.0          000  5.209218\n",
       "1       1.0         2021  4.829856\n",
       "2       1.0         incl  4.599506\n",
       "3       1.0  vaccination  4.430577\n",
       "4       1.0      pologne  4.401078\n",
       "..      ...          ...       ...\n",
       "96      1.0       pfizer  2.440561\n",
       "97      1.0       climat  2.424830\n",
       "98      1.0         azov  2.414398\n",
       "99      1.0       lequel  2.414386\n",
       "100     1.0       ursula  2.403962\n",
       "\n",
       "[101 rows x 3 columns]"
      ]
     },
     "execution_count": 88,
     "metadata": {},
     "output_type": "execute_result"
    }
   ],
   "source": [
    "df_weights.loc[:100]"
   ]
  },
  {
   "cell_type": "code",
   "execution_count": 89,
   "id": "b250e8fb",
   "metadata": {},
   "outputs": [
    {
     "name": "stdout",
     "output_type": "stream",
     "text": [
      "Score infox : [0.06091307]\n",
      "Oui, la Russie va faire tomber cette Europe pourrie !\n",
      "Evgeny Fedorov, député de « Russie Unie » (le parti soutenant Vladimir Poutine ») a déclaré hier:\n",
      "« Nous ne vaincrons pas l’Ukraine sur le champ de bataille. Nous perdrons cette guerre si nous ne bombardons pas les États-Unis. »\n",
      "Discours d’un fou isolé? Non! De plus en plus de responsables Russes pensent que, pour gagner la guerre que l’Occident nous a déclaré, mieux vaut attaquer directement les donneurs d’ordre plutôt que de perdre son temps en Ukraine où l’on ne traite finalement que les pantins!\n",
      "Car enfin, cela fait une vingtaine d’années que l’Occident tente de nous imposer ses valeurs putrides à coups de discours moralisateurs et à coups de condamnations par des « cours internationales », cela fait une vingtaine d’années que l’Occident nous regarde et nous traite avec mépris pour avoir élu, ré-élu et ré-élu encore et encore un Patriote qui refuse la voie tracée par les mondialistes. Plus grave, durant ces années l’Occident a fourbi ses plans pour couler la Russie! Les tentatives de « révolutions orange » ayant échoué malgré les millions de dollars dépensés pour financer des criminels dans une « opposition à Vladimir Poutine », l’Ukraine a été lentement mais surement « préparée » pour être le fer de lance de l’offensive générale: C’est un secret de Polichinelle qu’elle devait attaquer le Donbass et la Crimée en mars dernier.\n",
      "Ceci, je l’ai déjà dit plusieurs fois mais il est important de le préciser une fois encore pour expliquer la montée d’un ras-le-bol général en Russie envers cet Occident et ces Occidentaux prétentieux, imbus d’eux-mêmes, voulant régenter le monde et éliminer ceux qui leur résistent! Et ce ne sont pas seulement les élus, mais c’est une grande majorité des citoyens de ces pays occidentaux qui, par soumission pour certains et par lâcheté pour les autres, soutiennent ces gouvernements qui, aujourd’hui, tuent soldats et civils Russes par ukrainiens interposés.\n",
      "C’est simple: L’Occident vend et donne des armes à l’Ukraine. Ces armes sont servies par des opérateurs ukrainiens mais aussi par des opérateurs français, allemands, anglais, américains etc. Et ces armes tuent chaque jour sur le champ de bataille mais aussi au coeur des villes du Donbass et du sud de la Russie.\n",
      "Combien de temps pensez-vous que nous allons supporter ça? Combien de temps va t’il falloir pour que nous lancions quelques missiles sur vos centres de commandement en Allemagne, Italie, France et Etats-Unis? Pour le moment nous nous contentons de détruire les armes sur le sol ukrainien, nos « spotters » font un remarquable travail. Mais ceci a un coût en vies humaines, tout le monde comprend que plus les combats durent et plus le nombre de victimes augmente des 2 côtés.\n",
      "Des 2 côtés, mais pas du côté des donneurs d’ordre! Les quelques dizaines d’officiers français, anglais, allemands et américains que nos forces ont liquidé à Marioupol (et ailleurs, mais c’est classifié) ne sont rien à côté de ce qui DOIT être fait: Ce sont les donneurs d’ordre que nous devons liquider, qu’ils se cachent au Bundestag, à l’Elysée, à Downing Street ou à la Maison Blanche! Car ce sont eux les responsables!\n",
      "Nous pouvons détruire l’Europe en quelques minutes. Nous pouvons détruire les grands centres américains en quelques minutes. Je titre cet article « Topol et Sarmat » mais nous avons d’autres armes dont personne n’a idée, tout aussi redoutables et qui ont l’avantage de ne pas rendre les territoires frappés inhabitables.\n",
      "Vladimir Poutine, malgré tout ce que les ordures occidentales disent de lui, est un homme pondéré. Il préfère pour le moment du moins utiliser d’autres armes, ce sont les armes économiques. En retournant simplement les « sanctions » économiques mises en place contre la Russie, contre les pays qui les ont instaurées! Ceci comprend entre autres la limitation de vente de nos ressources énergétiques aux pays occidentaux.\n",
      "OUI la Russie « utilise l’arme du gaz » comme glapissent les responsables européens! Oui, ET ALORS? Ces pourritures qui ont tout simplement volé les biens que les simples citoyens Russes vivant en Europe et aux Etats-Unis possédaient, ces pourritures qui pensent qu’elles peuvent nous asservir en coupant les livraisons d’iphone, en fermant les Starbuks et Macdo, les Nike et Adidas, etc etc, ces pourritures osent piailler que nous « utilisons l’arme du gaz » en riposte? Que ces salopards se réjouissent au contraire que ce soit Vladimir Poutine à la manoeuvre et non pas un de ceux qui sont prêts à prendre la relève et qui n’auront pas la même modération!\n",
      "OUI nous devons faire tomber l’Europe, et OUI nous allons faire tomber l’Europe! Voyez déjà la chute de l’Euro qui aujourd’hui vaut environ 1 dollar et même moins sur certains marchés. Voyez la panique des responsables occidentaux au sujet du manque d’énergie qui s’annonce! C’est la canicule chez vous? Ne vous plaignez pas car vous grelotterez bientot, faute de gaz et pétrole pour alimenter vos chauffages! Vos industries s’arrêteront, faute d’énergie ou ne pouvant plus la payer! Chomage. Misère. Faim. Et … REVOLTES en Europe, n’ayons pas peur de le dire, voici le but poursuivi!\n",
      "Une fois encore les responsables occidentaux n’ont pas compris que si leurs citoyens ne peuvent pas supporter moins 5 degrés sans se plaindre, nous pouvons vivre par moins 20 sans problème. Avez-vous entendu parler du siège de Leningrad? Nous n’avons pas plié pendant 872 jours! Froid. Famine. Maladie. Rien n’y a fait, nous avons tenu car nous savions que nous avions raison.\n",
      "C’est pareil aujourd’hui. Nous pouvons et allons cesser de fournir gaz et pétrole à ceux qui assassinent nos hommes, femmes et enfants par ukrainiens interposés. Simplement car nous n’avons pas d’autre option, car c’est la survie de la Russie qui se joue.\n",
      "Depuis 2014 que l’Ukraine bombarde le Donbass, beaucoup en Russie se disaient « Mais enfin qu’attendons-nous pour intervenir? » C’est simple; Nous n’étions pas prêts, militairement. Quand nous l’avons été, nous sommes intervenus.\n",
      "C’est la même chose pour nos ressources énergétiques: Depuis mars et les vols de nos réserves de devises, beaucoup en Russie se disaient « Mais enfin nous leur vendons encore pétrole et gaz malgré ce qu’ils nous font? ». L’explication est simple; Nous avions besoin d’argent pour remplir nos caisses, bien au delà des milliards que vous nous avez volé! Aujourd’hui, nous avons suffisament d’argent pour décider de fermer les robinets.\n",
      "Jusqu’à ce que l’Europe tombe.\n",
      "Je vous invite à vous abonner à ma chaîne Telegram (en cliquant sur la bannière ci-dessous), qui diffuse des informations et des vidéos qui ne sont pas toujours reprises ici ni sur mon blog pour des raisons d’efficacité.\n",
      "Il est évident que tous les occidentaux ne sont pas des pourritures, mais il est tout aussi évident que la majorité d’entre eux l’est, que ce soit par conviction, par bêtise ou par lâcheté. Nous allons faire réagir ce troupeau de moutons en le poussant à bout! Quand leurs frigos seront vides, quand leurs enfants auront faim, alors le troupeau donnera des ruades et renversera enfin les fauteurs de guerre! Le moment sera alors venu de discuter avec eux sur des bases saines! Car comment voulez-vous discuter valablement avec des pourritures comme Macron qui vient faire des risettes à Vladimir Poutine alors que dans le même temps il fournit du matériel lourd utilisé pour bombarder nos villes?\n",
      "Cela suffit! Cette méthode est un moindre mal car si elle devait ne pas fontionner alors les « conseils » d’Evgeny Fedorov cités en début de cet article deviendraient la seule et unique voie de sortie. Envers les Etats-Unis, et envers l’Europe bien entendu!\n",
      "Je l’ai dit et redit et redit encore ici, VOUS patriotes francais, italiens, etc, avez le pouvoir de renverser les pourritures qui vous conduisent a l’abattoir! Qu’attendez-vous donc?\n",
      "J’ai honte pour vous, lâches Occidentaux…\n",
      "Je vous ai informé de l’état d’esprit du peuple Russe dont la patience s’émousse envers vous, occidentaux!\n",
      "L’Occident est en train de pousser à bout le Peuple Russe\n",
      "Ne comprenez-vous pas que plus le temps passe et plus les méthodes utilisées pour en terminer vont se durcir? Attendrez-vous que vos enfants n’aient plus rien à manger pour, enfin, réagir?\n",
      "Nous allons vous pousser à vous réveiller!\n",
      "Boris Guennadevitch Karpov https://boriskarpov.tvs24.ru\n",
      " \n",
      " \n",
      "Regardez tous le nombre de pouces levés !!! à comparer avec le nombre 5 en bas …\n",
      "Pour répondre à certains, comme JPP, non, personne ici, pas même l’auteur de l’article, ne souhaite en arriver à vitrifier le pays France …\n",
      "Seulement, pour la plupart, nous savons que les commanditaires sont l’état profond, les USA, qui sont bien évidemment derrière l’OTAN !!\n",
      "Vous voulez un exemple de comment l’encxxx à l’Elysée nous « adore », et nous « veut du bien » ?\n",
      "l’Encxxx vient de faire commander pour plusieurs dizaines de millions d’euros de véhicules blindées (gendarmerie) et à commandé… Z E R O canadair !! Là, on peut constater où sont les priorités …\n",
      "Si ça, ça ne vous fait pas réfléchir …\n",
      "Vous avez pu constater que les racailles, importées, sont de plus en plus nombreuses, et les agressions, VIOLS & MEURTRES…EXPLOSENT littéralement !!!\n",
      "Boris, je le réécris : je souhaite de tout coeur que le gouvernement russe fasse des révélation sur l’encxxx à l’Elysée !!\n",
      "Que cela le fasse tomber politiquement, et qu’il finisse PENDU sur la Place de la Bastille !!\n",
      "J’espère bien que les sanctions économiques vont faire que la majorité des français, complètement intoxiqués par la propagande, souffre ; triste à écrire, mais on apprend rien dans le bien !!\n",
      "Personnellement, quand ça va chixx, je défendrai ma famille, et si, par extraordinaire, nos amis russes venaient faire le ménage en france, je suis volontaire !!!\n",
      "Et pas seulement avec un clavier !!\n",
      "Exact !.. Il est plus que temps de tous les vitrifier en les atomisant tous ces pays qui sont sous l’emprise totale de SATAN via ses suppôts que sont ces Biden, Johnson, Macron, von der Leyen, Steinmeier, Zelensky…etc…\n",
      "Il ne fallait pas attendre 2022 pour intervenir. La libération de Marioupol, camp retranché des milices sous contrôle du NATO, l’avancée vers Odessa et Karkov auraient été bien plus faciles. Néanmoins, V Poutine va reprendre les provinces de l’est et du sud. Le traité de Minsk, violé par Zelenski et ses prédécesseurs, à la demande des US, sera sans doute appliqué… voire dépassé, selon l’avancée Russe. Les US et le NATO, organisaient massivement les milices néofascistes dans les provinces russophones. Ainsi, depuis 2014, des milliers de civils pro-russes ont été assassinés, sans que l’AFP-macron ne s’en émeuvent.\n",
      "Il y aura sans doute un compromis qui aboutira à un cessez le feu. Mais le fantoche placé à la tête de l’Ukraine ne cédera pas. Il encouragera ceux qui l’ont élu, à se faire tuer pour maintenir l’Ukraine dans le giron des US. Il doit bien posséder quelques biens habitables hors de l’Ukraine!\n",
      "Sortons de cette enfer européens nous français aimons la Russie,stop guerre et vive la paix,que les dirigeant occidentaux nous laissent vivres dignement et stop aux injections vaccins toxiques,mortifères.stop aux conflits d intérêts et en prison les nazis collabos\n",
      "Vladimir est un homme intelligent. Il sait bien que s’en prendre aux peuples Européens est un mauvais calcul. Les États Unis vassalisent et rackettent les Européens depuis plus de 20 ans grâce à l’extra territorialité de leurs Lois. Ils nous volent, nos entreprises comme nos technologies et notre matière grise. La Russie veut donc s’en prendre aux victimes du clan anglo-américain ? C’est vrai que c’est moins risqué que de s’en prendre directement à Washington. Les entreprises françaises sont déjà victimes de la prédation américaine. Alors ???? Cherchez un autre moyen de régler vos comptes. Cherchez qui sont vos véritables ennemis. Ça n’est ni la France ni les 4 autres pays latins et catholiques du sud. Ne touchez pas à ceux qui sont au delà du Rhin.\n",
      "Vivement que Poutine en finisse avec Zélanski !\n",
      "Ce qui se passe en Ukarine n’est pas du tout ce que beaucoup croient. Nos correspondants (indépendants de toutes chaines d’infos) nous indiquent que Mr Poutine est en train de nettoyer le marais nazi et qu’il ne commencera les choses sérieuses (réduire à zéro la suprématie de l’otan et autres dirigeants occidentaux, y compris l’UE) que quand Mr Trump sera à nouveau président, ce qui ne tardera plus trop maintenant. Après cela, chacun croit ce qu’il veut croire et aucun n’est condamnable de croire ce qu’il pense être la vérité. Nous, nous avons la chance d’avoir des infos en direct et sans aucun filtre.\n",
      "OTAN ➡️ Organisation Tyrannique Anti-nation Entité mercenaires de la mafia mondialistes parasitaires satanique …\n",
      "Je partage entièrement le discours de Boris. Il faut détruire la maison blanche , ,l’Elysée , Downing street et le Bundestag mais quand ces quatre salopards de décideurs seront présents . Quel bonheur cela serai!\n",
      "Ce député a visiblement été chargé de secouer le cocotier à destination des Occidentaux. Heureusement que les Russes et leurs armes imparables (et seulement celles qui sont connues) ont des nerfs d’acier… Je pense que les services de renseignement russes, héritiers sophistiqués du GRU et du KGB qui savaient fomenter des révolutions dans les pays ciblés connaissent très bien les chiffres réels et les proportions de qui les déteste, qui les aime, qui leur est indifférent, qui attend de voir qui va prendre le pas, qui est prêt à passer à l’action et à être utilement encadré en cas de troubles. Le très informé et voyageur Christian Combaz, à travers ses dialogues destinés aux oreilles fines, envisage l’intervention des Russes pour contribuer au nettoyage des écuries européennes d’Augias après l’effondrement économique général et ses conséquences. Vers la fin de la vidéo hebdomadaire https://odysee.com/@campagnoltvl:2/pompei:8\n",
      "Ce matin sur Cnews un ancien général français a remis à sa place un  « franco-russe » étudiant à Sciences Po, dénommé Amoursky, qui a avoué que l’objectif était en réalité de changer le « régime Poutine ». Le général lui a fait remarquer que les armes qu’il réclamait tant de la part des Usa allait tuer aussi des soldats russes qui sont censés être ses compatriotes… Je pense que pas mal d’occidentaux, sans remettre en cause la responsabilité du gvt russe, réalisent que du côté « ukrainien » il y a aussi de sales gens peu avares de la vie des ukrainiens et russes pour des motifs qui sont loin d’être purs.\n",
      "Des alliés encombrants : https://www.youtube.com/watch?v=oJUmGQqTYPw Bon débarras ! « La crise politique italienne intervient alors que le pays est confronté à de sérieux défis économiques, de l’inflation galopante (8% sur un an en juin) à sa dépendance au gaz russe, mise en lumière par la guerre en Ukraine. » https://www.francetvinfo.fr/monde/italie/italie-on-vous-explique-la-crise-politique-qui-a-conduit-a-la-demission-du-premier-ministre-mario-draghi_5269540.html https://www.lemonde.fr/idees/article/2022/07/21/la-fin-de-l-ere-de-draghi-en-italie-un-choc-pour-toute-l-europe_6135623_3232.html https://www.lefigaro.fr/vox/monde/stefano-pilotto-quelles-sont-les-causes-du-depart-de-mario-draghi-20220721\n",
      "Si Mr Poutine attends trop de temps, il finira par être doublé sur sa droite par un radicale de l’état major Russe. A ce jour nous en sommes à craindre le pire c’est à dire les compromis de « bon sens » qui ne servent qu’à reculer pour « mieux sauter » et qui finalement déservent la cause puisque l’ennemi décode les actes de civisme comme une faiblesse! L’UE et les USA ne reculeront que devant la menace nucléaire! Ils s’en tapent des admonestations et autres gesticulations sentimentales! Staline qui n’était pas un tendre disait concernant le Vatican à son conseiller (le Vatican.. combien de division?)) L’UE prends comme les Ukrainiens les population en otages! C’est tout! Il faut viser toutes les instances de décisions de l’UE! Ils ne bougeront pas ce sont des lâches!\n",
      "Mon cher Monsieur, les Français n’attendent qu’une chose, c’est que Poutine sonne la fin de la partie au sujet de l’UE et USA !!! La population autochtone est ruiné et a été conditionné par la télévision puis l’éducation nationale. Si la Russie décidait de balancer un Sarmat sur la capitale sodomite de Paris on s’en fou totalement! La population émancipé n’attends que çà! Nous sommes en guerre socio-économique puis martyrisés par une oligarchie apatride anti-blanche et notre pérénité est mise en danger par le remplacement de population du continent Africain! Les Français sont chassés dans tous les domaines et la moindre incartade vous finissez clochard, vos gosses vous sont retirés et placés dans des centres ethniques où ils seront détruits definitivement! Le peuple Européen n’attends que cela et nous sommes déjà équipés pour nombres d’entre nous de capsules d’iode! Croyez moi, les Européens éveillés une n’attendent que cela!\n",
      "Je plussoie +++++++, D’autre part,  en réponse aux collègues ci-dessus, il y a missile et missile (plus ciblé, circoncis et localisé).\n",
      "J’attend la guerre avec impatience pour mater les français et virer la racaille. Ensuite un parti patriote et d’échéance de nationalité et on repart sur de bonnes nouvelles bases..\n",
      "Qu’attendent les vrais Gilets Jaunes, je ne parle pas des opportunistes, pour faire des manifestations monstres et exiger que L’U.E ne nous entraîne pas dans ce conflit qui ne nous concerne pas ? C’est tout de même étrange, peut-être préfèrent-ils traverser la France, ou l’Europe pour payer le carburant à 2,15€/litre et ne protestent pas parce qu’ils prennent la route des vacances; comme c’est étonnant ! Comment s’en sortir honorablement dans ces conditions, dites-moi ? C’est ce que tente de faire comprendre Monsieur Putin quand il parle d’hiver long et rigoureux et que l’auteur ici tente d’inculquer aux suiveurs de la pensée mondialiste qui se font abuser par leurs maîtres et de toutes leurs succursales de propagande. Il y a vraiment un non-sens inouï, l’occident va au précipice. Quand la boîte de cassoulet se négociera à 40€ et que les hommes déconstruits verront leur épouse se donner pour nourrir les gosses, peut-être réagiront-ils ?\n",
      "Mr Karpov, même si vos propos ont quelque chose  d’excessif, vous n’avez pas tort ! Les peuples européens sont prisonniers de l’UE et seule une minorité en est bien consciente. Seule la Russie peut nous aider à nous débarasser de Bruxelles et des gouvernements inféodés à l’UE. Vous n’aurez pas besoin d’armes terribles: il vous suffira de faire exploser l’euro et tout le reste s’effondrera comme un chateau de cartes pour notre plus grand bien,  malgré les  grandes souffrances que nous ne pourrons éviter…\n",
      "Les journalistes fronzais reprochent aux russes de procéder à des remplacements de population dans les territoires nouvellement occupés par eux en Ukraine afin d’obtenir un résultat positif aux référendums de rattachement de ces territoires à la Russie. Mais n’est ce pas ce que font aussi les dirigeants mondialistes européens en important par dizaines de millions en Europe des maghrébins, noirs africains, moyen orientaux et asiatiques du sud-est afin d’obtenir un électorat qui votera pour eux ?\n",
      "je comprends votre exaspération Boris ; les pays européens sont de fait les complices et les alliés des Kieviens ; mais bon nombre d’européens ne sont pas d’accord avec les gouvernements et ne sont pas influencés par la propagande amerlock relayée par les vassaux européens ; il faut que vous frappiez plus fort aux provocations que sont les livraisons de matériel lourd avec instructeurs étrangers , effectivement ; je fais confiance à Vlad pour qu’il adapte sa stratégie et qu’il provoque à terme l’effondrement de l’UE et de L’otan , car à mon avis la victoire de la Russie va complètement décrédibiliser ces deux bazards . tenez bon .on se charge d’exciter nos moutons contre le système avec la crise qui a commencée .\n",
      "Selon mes informations, le peuple russe est en train de mourir de faim, il se passe des choses extrêmement graves en Russie. Pourquoi Karpov n’en parle-t-il pas?\n",
      "Avec ce commentaire vous faites honneur à votre pseudo Bécassine 😆😆😆😆😆\n",
      "Vous faites diversion, ce n’est pas mon pseudo qui est important ici, ce qui est important c’est que le peuple russe meurt de faim, que les Russes manquent de ressources alimentaires, technologiques et militaires et qu’en 2023, la Russie va craquer et va se rendre à l’Otan. À la signature de l’armistice, elle va plier bagage et perdre la Crimée et devra payer pour la reconstruction de l’Ukraine. Karpov et Contributeur rigoleront un peu moins ce jour-là.\n",
      "Je ne sais pas pour Karpov mais moi je suis déjà plié de rire. Vous sortez de l’asile, ou vous êtes en train d’y aller? 🤡🤡🤡\n",
      "Mort de rires Contributeur2 :-)))\n",
      "Vous êtes sans aucun doute biberonné à BFMerde et autres immondes journaux !!\n",
      "Ceux qui vont prendre, et très cher, ce sont les européens, d’abord les pauvres !! il n’est qu’à voir les prix de l’alimentaire et de l’énergie …\n",
      "Si c’est pour écrire de pareils âneries, restez « chez vous » !!\n",
      "Et c’est vous qui risquez bien de « plier bagage » mais avant, c’est moi, et Boris KARPOV sans doute, enfin dès qu’il aura lu votre commentaire, qui suis d’ores et déjà plié… de rires !!\n",
      "ça fait 20ans que le boxon a effectivement commencé et non depuis l’aspect militaire au Donbass depuis 2014 ; ça a commencé quand bhl a osé piétiner le sol sacré Ukrainien en 2004 pour lancer sa énième « révolution orange » dans l’espoir de lancer sa guerre, celle de bhl, aipac, zelenski et compagnie, cette guerre n’ayant jamais été lancée par personne d’autre que ceux du camp cités.\n",
      "Quand je pense à ces cons de français qui votent depuis des années comme des abrutis et qui gémissent après… Etre patriote c’est aimer son pays, c’est avoir des convictions, avoir de l’honneur. Mais les bobosoja préfèrent critiquer les agriculteurs qui les nourrissent, ils préfèrent soutenir ces chances pour la france et voir leurs femmes et leurs filles se faire démonter par des mecs, des vrais, qui ont de la testostérone et non des pantalon-rouge-barbe-sandales- petite chemise. On sacrifie une amitié franco-russe de longue date pour favoriser des lgbtqxywz aux cheveux mauves, symboles du nouvel occident… Les patriotes existent dans tous les pays et ne pas se rendre compte de ce qui va arriver relève de la fainéantise. Qu’ils disparaissent !\n",
      "« VOUS patriotes francais, italiens, etc, avez le pouvoir de renverser les pourritures qui vous conduisent a l’abattoir! Qu’attendez-vous donc? »\n",
      "Des armes, M. Karpov et des conseillers pour choisr nos cibles (politichiens , journaputes, décisionnaires économiques) et les liquider ! Qui ne se ferait pas un chti plaisir en balançant des grenades dans la tronche à macrondelle, Draghi, Schwab ,Troudeau ,Gates, Soros père et fils,Vonderlayette…ou un missile antichar dans leurs véhicules . Croyez-moi, vous trouveriez beaucoup de gens en France / Europe heureux d’ accomplir uine telle mission . Une fois le chaos de la révolte installé suite aux restrictions de tous ordres, le processus ira tout seul 😁\n",
      "l’occident n’a pas fait le même cirque quand les USA sont allés se mêler des affaires du moyen orient en y mettant un chaos indescriptible qui a ouvert la voie au terrorisme : ni sanctions, ni condamnations quelle honte\n",
      "Oui, la Russie va faire tomber cette Europe pourrie ! Et le plus vite possible sera le mieux. Vive sergei LAVROV, MEDVEDEV, face la pourriture occidentale LGBT,du wokisme, de la pédérastie etc….\n",
      "regardez les petits journaleux de LCI,ils sont tristes,les russes sont méchants ils se moquent des francais….wouinnnnnnnn, A voir.\n",
      "– http://pauvrefrance.eklablog.com/\n",
      "Monsieur Karpov, je suis plus que d’accord avec vous mais comment voulez vous que nous fassions. Nous sommes ultra minoritaires, comme vous le dites vous-même. Si la Russie, qui en a les moyens, décidait de monter une opération de nettoyage en Europe, bien des patriotes européens vous rallieraient, moi le premier avec mes 70 ans. Déjà sur la petite île où je vis en Europe et qui compte environ 800 maisons, j’ai souvent l’impression que nous sommes 3 à être encore capables de penser. Nous avons besoin de l’aide de la Russie! J’ai écrit à Poutine, aux Ambassades russes ici et en France pour leur dire la même chose. Nous devons nous associer. Les résistants français en 39/45 étaient minoritaires et ont eu, eux aussi, besoin d’une aide extérieure.\n",
      "Excellent !!!!! Vivement que Poutine en effet vienne les massacrer ……..et qu’il n’oublie pas les autres satanistes à travers le monde !!!\n",
      "Il faut prendre de la hauteur comme disait le poète pour comprendre ce qui se trame dans le monde en ce moment. L’occident dont l’Europe de l’Ouest représente Babylone la Grande, Sodome et Gomorrhe et la tour de Babel à la fois. Voir en Apocalypse 18 versets 4 à 9. A noter que le pape a consacré au mois de Mars dernier l’Ukraine et la Russie au cœur immaculé de Marie.\n",
      "https://www.youtube.com/watch?v=enlHlghQ15o\n",
      "Vous vous perdez dans des analyses de confort faisant appel au bon sens litteraire sociologique! Vous enfilez les perles. Vous devrez à un certain moment sotir de votre confort politique!\n",
      "Vous enfilez des parles, confort politique, etc…Pourriez-vous être plus claire SVP? Je n’ai rien compris à votre intervention.\n",
      "il faut reconnaitre que ce Russe dit des vérités, je ne suis pas gaulliste(ancien d’AFN) mais le président DEGAULLE n’aurait pas entrainé la France dans cette merde. même le sénile des USA n’aurait pas bouger, mais hélas le baratineur de l’Elysée n’a rien dans la tête et ni dans la culotte .ce n’est pas un homme d’état juste un petit politicard\n",
      "Que l’empire du mensonge s’écroule le plus vite possible. Notez que l’occident est déjà en décomposition avancée avec son nouvel ordre mondial, sa propagande lgbt-truc, son idôlatrie du veau d’or, ses guerres préventives, etc…\n",
      "Il y a plusieurs choses essentielles qu’il ne faut pas oublier : -Les Européens de l ‘OUEST, ne sont pas les RUSSES – LES Français notamment ne vont pas sur les sites de réinformation et ne savent rien de ce que vous dites Mr KARPOV – La majorité , si ce n’est plus, en France ne croit que dans la TV et les grands médias. En Europe de l ‘OUEST, l’individualisme est tel que l’idée d’une révolte de masse est absolument impossible. Les gens se soumettront à tout ce que les zotaurités leur diront via la TV. Si émeutes, il y a, elles ne seront que le fait des populations allogènes de la périphérie des villes, si elles n’ont plus la possibilité de se livrer à leurs traffics habituels.\n",
      "Il faut donc rediffuser les articles comme celui-ci un peu partout…\n",
      "Un article de qualité, plus vite V Poutine appliquera son projet, plus vite la guerre sera terminée, plus vite nous serons libérés de nos pourritures dirigeantes ! Plus de chefs d’état corrompus donc plus d’Europe ! C’est sûre que le président Russe doit avoir les moyens, les renseignements et la technologie pour faire de la chirurgie sur les bâtiments officiels quand les intéressés sont dedans…\n",
      "Exactement frappé au heures de pointe c’est une exelente tactique !..se serais aussi hipper jouissif !🤗🤭 😅😂🤣😂😅😂🤣\n",
      "Un truc sur l’elysée,la city et le pentagone serait bon pour la planète.\n",
      "Et le T de la Haye!\n",
      "Je pense aussi Que les États Unis sont les commanditaires, mais attaquer les rifains c est du suicide planétaire.  Même les américains n osent pas attaquer de front.  Ils préfèrent envoyer les européens au casse pipe.  Ils ( les américains) pourraient commencer à attaquer au Kamtchaska il sont à 80 km l un de l autre,  mais il leur faudrait trouver un mobile !\n",
      "Méfiez vous M. Karpov, Macron à des régiments entiers de flottes et d’hommes déconstruits, sans compter des pilotes de chars de la gay-pride expérimentés. Je ne parle même pas des bataillons d’hommasses goudous de tendance trosko-maoïstes qui font peur rien qu’en apparaissant.\n",
      "👍🏻🤣😂\n",
      "Selon des sources bien informées au plus haut niveau de l’état, la France va créer un Régiment « sodo » d’où les gens normaux (les hétérosexuels) seront bannis. Les candidatures affluent…\n",
      "Exelent Allah l’clébard  🤗🤭😅😂🤣\n",
      "Personne ne remarque que dans plusieurs pays d’Afrique d’Asie et d’Amérique latine les peuples se réveillent enfin. Il n’y a qu’en Europe qu’ils se masturbent discrètement en pleurnichant… Il fait en effet leur botter le cul pour les faire bouger !\n",
      "Nous vivons en Europe dans un monde anormal depuis une quarantaine d’années. Cela fait beaucoup dans une vie humaine. Pour retrouver notre mode de vie d’avant les années 80 il faudra effectivement sortir de cette Europe devenue folle car dirigée par des fous soumis à des barbares venus d’ailleurs. Alors V. Poutine est peut-être bien la solution à nos problèmes et à notre malheur. Mais il ne faudrait pas trop attendre car pendant ce temps les autres essayent de rattraper leur retard sur l’armement et tout deviendra plus difficile avec le temps qui passe.\n",
      "EXACT! + + + + +\n",
      "Poutine, comme chaque russe, est prêt à mourir pour la Mère Patrie dans l’instant… La France telle qu’elle est aujourd’hui, avilie par les pleutres de la politique ( gauche et droite) n’a que peu de de gens prêts à se battre pour conserver son identité et sa civilisation… Donc, Poutine, très justement n’a rien à foutre de Macron et de l’Europe. L’Ukraine dans l’Otan est une réelle menace pour la Russie… La Russie se défend. Elle fait ce que la France ne sait plus faire, se préserver de l’infestation étrangère, d’où qu’elle vienne…  !! La France doit sortir de l’Otan, rétablir des liens étroits avec la Russie et donner beaucoup plus de moyens matériels à son armée.\n",
      "Tout à fait d’accord avec t’a prose .. une chose quand-même évité de m’être les crimes de la ripoublique messianique talmudique franc-mac luciférienne soit-disante française sur le dos de sa première victime Depuis 1789 a savoir ‘LA FRANCE’\n",
      "Bravo Mr Karpov. je trouve les russes bien patients face à cet Occident donneur de leçons en pleine dégénérescence. Je ne reconnais plus mon pays et suis consterné de voir mes concitoyens lâches , pleutres, gémir dès qu’il fait chaud, ou froid, avec cette culture des pseudos victimes.  Venez vite ou faites tout pour rendre la situation intenable à nos dirigeants à la légitimité plus que douteuse\n",
      "« Nous pouvons détruire l’Europe en quelques minutes » Eh bien calme-toi, Boris ! Et vas cracher ta haine de l’Europe ailleurs. L’Europe ce n’est pas seulement une minorité de dégénérés corrompus, c’est aussi et avant tout une majorité silencieuse, comme on dit, qui subit autant que toi les conneries de ses « élites » dépravées. En effet, nous sommes nombreux à penser que la guerre en Ukraine a été voulue par les USA et qu’elle est entretenue par ses guignols européens, mais pour autant tes délires belliqueux contre l’Europe -et donc ses habitants- fais de facto de toi un ennemi de la France.\n",
      "JJP, bien d’accord avec vous. Vous avez tout dit!\n",
      "La majorité silencieuse se branle sur son clavier et ne fait d’acte citoyen que pour ré élire les mêmes pourritures, justement. Boris a raison et il n’est pas ennemi de la France, simplement du troupeau d’abrutis que sont la majorité silencieuse. Essayez de comprendre l’article avant de commenter.\n",
      "@ Contributeur2 : « De branleurs sur leur clavier », vous et votre Boris en faites visiblement partie aussi ! Un type qui appelle à la destruction de la France, qu’il soit lui-même Français, russe ou n’importe quoi d’autre se fait de facto ennemi de cette France et de son vrai peuple. Si vous vous sentez des envies d’auto-destruction, auto-détruisez-vous tout seul et n’entrainez pas les braves gens dans votre délire. Et s’il vous venait à l’idée d’aller prendre d’assaut l’Elysée, surtout ne vous gênez pas, Mr le branleur de clavier.\n",
      "A lire les commentaires ici la réalité est inversée : une minorité de trous du cul comme vous et une majorité de gens sensés. Continuez à insulter et glapir au lieu d’aller défendre votre pays. Boris lui passe plus de temps sur le terrain que sur son clavier, ça se voit d’ailleurs à la rareté de ses articles ..\n",
      "« une minorité de trous du cul comme vous » VS « Continuez à insulter » = Contributeur2. Voilà là bien une preuve de votre impuissance d’argumentaire. Tout comme le reste de votre commentaire qui n’est que contradictions. Quant au fait de mesurer l’action sur le terrain à la fréquence des articles…\n",
      "Mais je confirme, ceux qui soutiennent l’action de la France dans ce dossier dont des trous du cul. Et si vous connaissiez Karpov vous vous tairiez au sujet de ses action concrètes.\n",
      "@Contributeur2 : il y a une ENORME différence entre soutenir l’action de la France (dont je ne suis pas), ou plutôt l’action d’une coterie de dégénérés à la tête de la France, et souhaiter qu’elle se fasse réduire en cendres. Vous déraisonnez complètement et j’ai bien peur que d’autres vous rejoignent dans cette folie auto-destructrice.\n",
      "Qui parle de réduire en cendres ? Vous avez ce désir refoulé ? Justement Karpov précise qu’il vaut mieux des mesures économiques pour réveiller le troupeau ! Rien à voir avec des cendres ! Puis à lire les réactions, la plupart à part les trolls habituels non seulement comprennent ça, mais aussi l’approuvent!\n",
      "Désolé mais je suis un guerrier spartiate d’occident (patriotes-natios) si la sainte Russie devais entreprendre des action de représailles en France contre la ripoublique messianique talmudique franc-maçonneluciférienne…j’espère de tout cœur que c’est missiles hipersonique Réduiront en un tas de « CENDRE »…,l’élysée, l’hotel matignon,l’assemblée anti-national des traîtres parasites …. et toute autres antité-anti-nation d’occupations présente à Paris…. Mr Poutine si vous pouvais nettoyer est désinfecté paris de toute la pourriture purulente mondialistes..n’ésité surtout pas .. Sinon 5 mégatonne feront l’affaire !🤗🤭\n",
      "@Contributeur2 : « Qui parle de réduire en cendres ? » = Réponse : votre ami Karpov = « Combien de temps va t’il falloir pour que nous lancions quelques missiles sur vos centres de commandement en France ». Pardon, mais recevoir des missiles sur la tronche, je ne vois pas ce que cela peut faire d’autre que de la cendre. On peut avoir de la sympathie pour Poutine et comprendre que les dirigeants maçonniques des USA sont les véritables méchants (c’est mon avis) et ne pas souhaiter que son pays (en tout cas le mien !), c’est à dire la France, se fasse pilonner par des bombes. Un type qui vient chez moi me menacer du feu de ses missiles devient mon ennemi, d’où qu’il soit, d’où qu’il vienne. Vous pigez ça ou non ?!\n",
      "JJP, dis-moi, qu’est que tu ne comprends pas dans la phrase de Boris :  » pour que nous lancions quelques missiles sur vos centres de commandement en France  »\n",
      "Manifestement, tu n’as aucune connaissance tactique, ni même un esprit d’analyse des mots, des phrases !!\n",
      "Vu le type d’armement que possèdent les Russes, ils peuvent effectuer des frappes très très ciblées, contrairement aux américains, américains qui ont, par exemple, lancer des tapis de bombes au Viet-Nam, en Irak, ou encore en Serbie …\n",
      "Elle est « belle » la méthode américaine !!\n",
      "Je suis pour réveiller les moutons et autres lâches, mais je pense que la révélation de la vérité sur le µ (ce ne sera pas très difficile au vu des casseroles de cet encxxx) !!\n",
      "Tu n’en as pas marre de voir notre pays s’effondrer, et nazislamisé ?\n",
      "Ben non!…pour la simple raison que tu ne pourras jamais combattre et détruire la mafia mondialiste parasitaires satanique d’occupation des nation occidentale sans cassé des œufs…les amerloques n’ont t’ils pas bombarder la France pour la (soit-disant) libéré de l’occupation nazi?🤗🤭\n",
      "@BobbyFR94 : qu’est-ce que tu ne comprends pas dans mon poste ? « Quelques (sic!) missiles » sur les points stratégiques du commandement de l’Armée ne flinguera pas la pourriture qui dirige la France mais des militaires et des civils qui n’ont rien à voir avec les délires de dégénérés. Le pays qui lancera des frappes « très ciblées » sur la France deviendra de fait mon ennemi, et toi, un collaborateur de cet ennemi. La Russie peut bien avoir toutes les meilleures raisons du monde d’attaquer l’Ukraine que si elle venait à bombarder la France, ce que Poutine qui est bien plus intelligent que toi ne fera pas, elle en serait à bombarder mon pays, ma patrie.\n",
      "Va falloir apprendre à lire les commentaires !!!\n",
      "Une frappe ciblée sur le bâtiment dans lequel toutes ces merdes de politicards en France, ne provoquera pas un déluge de larmes de la part de la population !!\n",
      "Parce que tu crois que la dictature française veut ton bien !! dis-moi, tu es né « comme ça » ou c’est à force de regarder BFMerde et autres saloperies du même genre !!\n",
      "NON !! cette dictature veut…TES BIENS !!!\n",
      "Et oui, le moment venu, je COMBATTRAI les ennemis de mon pays, et ce ne sont surement pas les Russes !!\n",
      "Autre chose, qui menace la Russie, et depuis longtemps ? Hein ?\n",
      "Tu devrais réfléchir à tout ca avant d’écrire n’importe quoi …\n",
      "La moitié des électeurs ne vont pas voter, et ceux qui votent élisent Macron, une carpette pathologique de l’OTAN et des Etats-Unis qui enfonce la France dans une cobelligérance de fait. Que cette « majorité silencieuse » (bien trop silencieuse en effet) ne vienne pas pleurnicher ensuite si cela lui retombe sur le nez.\n",
      "Pitoyable votre réaction, et tout à fait contre-productive, si elle n’était pas surréaliste ! Vous perdez votre sang-froid de façon ridicule parce qu’un Russe prend la peine de dire ce qui risque d’arriver si la guerre meurtrière menée contre son pays se poursuit. Jusqu’à présent, la haine est de notre côté compte tenu que 80% de la population approuve les sanctions et la livraison d’armes létales contre la Russie. Ne vous déplaise, à la place de la Russie, vous feriez comme elle, du moins je l’espère. A moins que vous soyez un patriote prêt à accepter la mort de sa patrie au nom de « vous n’aurez pas ma haine ».\n",
      "Qui perd son sang froid sinon celui qui appelle à la destruction de l’Europe ? « La haine est de notre côté » = Parlez pour vous, elle n’est pas du mien en tout cas : ni la haine des russes ni celle des ukrainiens, juste celle de la connerie, particulièrement quand cette connerie plaide pour la destruction de l’Europe ! « 80% de la population approuve les sanctions et la livraison d’armes » ??? D’où sortez-vous ce chiffre ? Dans mon entourage, ne vous en déplaise, figurez-vous qu’on désapprouve totalement ces sanctions débiles ainsi que ces livraisons d’armes. « à la place de la Russie, vous feriez comme elle » = certainement, mais pour l’instant je suis à la place de la France et donc permettez-moi de ne pas être tout à fait d’accord avec cet appel à la détruire. Boris ou pas Boris.\n",
      "Je vais demander aux administrateurs de permettre les + ou – sur les commentaires, je vous aurais plusse plusieurs fois sur celui-ci 👏\n",
      "80%? vraiment?…un sondage sous la ripoublique n’est pas autre choses que de la propagande merdiatique mondialistes parasitaires subventionné ….pour le reste de t’a prose je suis en parfait accord avec toi!🤗\n",
      "En Biélorussie, sur le marché de Grodno, les commentaires qu’on entendait le 25 février étaient exactement semblables : « Enfin ! Voilà déjà huit ans qu’on aurait dû leur rentrer dans le lard ! L’Ukraine n’a pas une minute fait même semblant d’appliquer les accords de Minsk ! Et les Occidentaux garants de ces accords n’ont rien fait ! Les Occidentaux n’ont pas de parole ! etc. » Quant à la faculté de résistance des Russes : mes beaux-parents biélorusses ont vécu les trois années d’occupation allemande dans un abri enterré au fond des forêts (землянка) vivant de champignons, de baies, de pignons de pin ou de cèdre, et de quelques légumes dans des parcelles cultivées, minuscules pour ne pas être repérées par les avions. Si les Occidentaux ramollis s’imaginent qu’ils vont vaincre ces peuples rudes et fiers, ils se trompent !\n",
      "Je constate un durcissement du propos de Karpov qui doit reproduire l’ambiance du Kremlin actuelle. Les patriotes minoritaires en France n’ont aucune responsabilité dans la montée en puissance du conflit mais morflerons comme tout le monde si ça devait arriver. Allons-nous trouver des gens suffisamment raisonnables pour trouver un compromis qui mette un terme définitif à ce conflit ?\n",
      "Mon pauvre ANDRE, si un compromis était possible, il y a longtemps qu’il aurait été trouvé. Mais nos dirigeants, notamment Macron, veulent à tout prix la guerre totale contre la Russie, comptant que si l’Ours s’énerve, ils échapperont à son courroux et que les pauvres types pâtiront, voire crèveront, cela fera toujours ça de moins sur la planète. Ils jouent avec le feu en nous enfumant, avec la complicité des medias, réduits à la condition d’humbles gamelards malgré leur verbe haut de larbins serviles. Eh oui, nous morflerons, patriotes comme pro-mondialistes. Mais ce n’est pas le problème des Russes, le leur est vital. Chacun sa merde comme dit l’adage.\n",
      "Pas de compromis avec la mafia mondialiste parasitaires satanique !…..guerre totale le seul objectif acceptable leurs extermination !…point barre! Y compris par des frappe thermonucléaire s’y nécessaire La mort est milles fois plus préférable que l’esclavage\n",
      "Ce qu’il manque aux francais pour bouger, ce sont des couilles.. Le francais vit au dessus de ses moyens et à crédit.. Il bougera, quand il n’aura plus rien dans le frigo, et qu’il n’aura plus de vacances..\n",
      "C’est un fait: tout le monde en a marre de tout, de la déglingue générale … mais très peu de gens sont conscientes de ce qui est en train d’arriver. Exemple: les nouvelles constructions avec le TOUT électrique alors que la presse ne parle que des coupures d’électricité!  En effet ce ne sera que quand ils auront faim et froid qu’ils se poseront des questions – ça nous fait encore quelques mois de patience…\n",
      "Il est incompréhensible que les gens ne soient pas près à entrevoir le fait fait de se retourner contre nos dictateurs.  Le confort et l’abrutissement incitent les gens à penser que quelqu’un d’autre va le faire à leur place. Les quelques personnes qui manifestent pensent que le simple fait de manifester suffit pour faire impacter le systeme. Mais les gens du système corrompu s’en foutent. D’ailleurs les petites gens ne sont elles pas corrompues ? Corrompues par la douceur de vivre sans effort, Netflix, les infos qu’ils ingurgites sans réfléchir de la télé, les boulots de merde de fonctionnaires, le smic ,… « On prend ce qu’il y a aussi longtemps que l’on peut ». Cet adage est appliqué aussi bien par les gens du peuple que les oligarques. Et ce manque de courage va se payer cher, d’une manière ou d’une autre.\n",
      "abonné sur télégram à Boris, qu’il sache que beaucoup d’Européen sont avec la Russie malheureusement, oui beaucoup de pantin, beaucoup trop … oui Klaus schwab veut affamer la planète faut aller bombarder les états unis, y en a ras le bol de ce merdié Américains et tant pis va falloir y passer, c’est eux ou nous … psychologiquement je m’y prépare depuis des années, bientôt à la retraite (ces pourritures me disent le 14juin, vu le 10juillet car j’étais en vacance, que je suis en retraite le 01 juillet prévu depuis 1 an au 01/10/2022) je pars me réfugier à la campagne, jardin arbres fruitiers et je graisse mon 12 …vive la RUSSIE avec un vrai président …\n",
      "Si la Russie bombarde l’Amérique, il faut savoir comment? La réplique de l’Amérique sera immédiate, ils anéantiront la Russie et les bases des missiles Kenjals, si elles ne sont pas enfouies quelque part ou repérées par satellites.  Parmi tous ces oligarques, certains doivent être agents doubles et connaître les « spots ».\n",
      "Je suis Boris Karpov sur son site\n",
      "Je suis tout à fait d’accord avec vous Boris et j’espère vivre encore assez de temps pour voir cette UE et les pourritures de bobos françaises s’effondrer !\n",
      "j’ai 73 ans et j’espere, comme vous vivre assez longtemps, pour voir la chute de l’europe, du N.O.M. et des ricains qui sont aux commandes..\n",
      "moi aussi j’ai 73 ans et tout comme vous j’aimerais bien voir la chute de cette infâme « europe » de merde ainsi que l Organisation Terroriste de l’Atlantique Nord ! j’ai nommé l’O T A N .\n",
      "Boris, les russes Dees capitales doivent se préparer a être résilientes, les chinois peuvent remplacer l Europe de l ouest Il faut seulement faire plier l allemagne. Les autres suivront Les autres sont en faillite…la Russie doit attirer la Turquie dans le,  BRICIST la Syrie peut lui vendre son pétrole  et son gaz en échange de la reconstruction et une protection  contre l otan\n",
      "L’Allemagne certes, mais la France a une carte à jouer, à prendre à revers, souvenez vous la parole de DG: l’Europe de l’Atlantique à l’Oural…L’Amérique doit être prise à revers.  » Les capitales doivent être résilientes » mais pas que : il faut s’en prendre aux bases de l’OTAN.  Résilientes° : un grand bordel, soulèvements, tribulations, …\n",
      "cessez de confondre ue et Europe. l’Ue est justement la négation de l’Europe !\n",
      "Si c’était vrai, nous n’aurions pas les gouvernants mondialistes au pouvoir depuis des décennies, élus par les moutons européens.\n",
      "Élu?….vraiment ? Tu en est certain ? Non parceque un système complètement corrompue qui nous ment h24 365jours/ans sur tous les sujets à grand remfort de pseudo-experts et autres spécialistes auto-proclamé de tout sur tout soudainement nous dirais la vérité sur les résultats electoral ?…🤗🤭 Ils en sont  (la mafia mondialiste parasitaires satanique) jusqu’à allé provoquer une des plus grandes puissance thermonucléaire pour imposer leurs tyrannie dans le monde …est ils n’oserais pas Trichet sur les résultats electoral ?….ou tu est un naïf😳 ou tu a un sérieux problème de QI🤪…a moin que sa te soit plus facile et surtout beaucoup moins dangereux de craché sur le peuple français soit-disant mal votant…donc un lâche!….pour m’a part je me méfie toujours des soit-disant « patriotes-natios »qui crache (comme la dernière crevure gauchiasse) sur le peuple qu’ils prétende défendre !😩…🤗🤭\n",
      "😢 Oui Nous allons vous pousser à vous réveiller! OUI , Boris Guennadevitch Karpov a raison. C’est extrêmement triste. C’est terrible de constater cette réalité 😢 L’imposture – dictature s’est (presque entièrement) mondialisée, la période des Bisounours se termine avec leur euthanasie insidieuse, tous doivent se rendre compte que des fous très dangereux ont créés une communauté qui a pris illégalement le pouvoir des grands pays de la planète (sauf en Russie), la fraude et l’imposture (et le mensonge) sont devenus la règle, assortis à présent de l’assassinat et l’extermination programmée de la population. Soit « quelqu’un » réagit, soit notre extermination aboutit…   Le « Plan » prévoit de ne « conserver » que 6,25 % de la population humaine initiale, vous allez laisser faire et approuver ?\n",
      "Boris je espère que c’est de la manipulation de la part de Federov\n",
      "Ce genre de propos ne fera qu aggraver les choses pour la Russie Laisse l’ OTAN se pendre elle même, il faut seulement les pousser au suicide.D abord conduire l’ Europe a sa perte….laquelle a volé 300 billones d euros la Russie doit d abord leur voler. Cette somme , j espère que c’ est déjà le cas, ensuite leur couper le gaz, le pétrole, le blé et autres matières provocant une hausse des prix avec la complicité des BRIICS….il faut isoler Bruxelles Ne pas oublier que les peuples de européen n’ ont rien contre les russes\n",
      "Excellente analyse Fran 👌👍🏻\n",
      "La Russie  est trop moelle  face à  ses ennemis. LeßTusses auraien\n",
      "les peuples « européens » n’ont effectivement rien contre la grande Russie . sauf , bien entendu la vermine biberonnée aux mensonges de la « pensée unique » .\n",
      "Mon avis personnel est que Fedorov (un gars très bien d’ailleurs…) a fait exprès de secouer le cocotier… Pour faire réagir.\n",
      "Laisser l’OTAN se pendre elle-même, impossible, ces serpents seront toujours à la manœuvre.\n",
      "Exelente fran prose tout est dit rien à ajouter 🤗👍👌\n",
      "C’est pourtant bien eux qui vont payer la note, crever la dalle, et crever de froid…\n",
      "M.Karpov avez vous plus de détails sur ´´ l’accident ´´ de l’AN 12  ukrainien en Grèce  ? M.Navis a écrit un excellent article sur ce curieux crash .\n",
      "Vous êtes bien agressif, Monsieur Boris Guennadevitch Karpov.\n",
      "Lucie @Allez sur dreuz.info si ça  vous  plaît pas ,la propagrande anti-russe est leur marque de fabrique. Et foutez nous la paix, vous n’ êtes  qu ‘une pauvre misérable.\n",
      "tout à fait rien à ajouter .\n",
      "En effet il y a en ce moment sur Dreuz.info un article à charge sur sur V. Poutine intitulé « L’ignoble monstruosité de Vladimir Poutine ». C’est pas triste.\n",
      "article écrit par millière, un bidéniste forcené et borné\n",
      "Ce n’est pas si simple ! Millière est un adversaire résolu de Biden, comme toute l’équipe de dreuz. Il est aussi un opposant au vaccin, en quoi il se démarque de ses confrères dreuziens. Mais il est un russophobe forcené, adversaire de Poutine et admirateur de Zelensky…\n",
      "Milliere est tout simplement un pauvre type qui s’est toujours trompé dans ses pronostics.\n",
      "Aujourd’hui, tout ce qui vient des usa pue la merde. Et d’ou que ça vienne et de n’importe-qui. Même les plus acharnés contre le biden réalisent l’union maudite contre la Russie. Remarquez que ce sont les mêmes qui ont pris parti à 100% pour pfizer et ses injections mortelles. Un « esprit » de mensonge s’est introduit dans ce monde. Tous ceux qui ont pris plaisir à cet esprit du NOM sont irrécupérables. Il nous est impossible à nous français de faire tomber les dictateurs du gouvernement. Ceux ci s’équipent de matériel de guerre pour écrabouiller toute réaction. https://resistancerepublicaine.com/2022/07/19/le-nouveau-blinde-de-la-gendarmerie-est-une-arme-de-guerre-macron-craint-il-une-revolution/\n",
      "Pourquoi cette hargne contre une personne qui ne fait que constater l’agressivité évidente de ce Karpov ?! « Foutez-nous la paix » dites-vous ? Quelle belle parole, sauf qu’à l’évidence vous vous trompez d’interlocuteur(trice) : l’adresser à Mr Karpov, celui qui promet le feu sur la France, me paraitrait plus logique…\n",
      "JPP vous n’avez aucun argument à opposer à Karpov à part des invectives. Un petit rosier hargneux qui finit par prendre un coup de pied … Karpov n’est pas agressif, il vous explique avec une grande sollicitude ce qui vous pend au nez, et explique pourquoi. Vous devriez en tenir compte, votre divan risque de ne pas suffire pour vous cacher quand ce sera l’heure.\n",
      "Cher « Contributeur » : D’argument à opposer à votre ami j’en ai un, et de taille : je ne veux pas que l’Europe soit réduite en cendres. Si vous avez des envies masochistes de vous faire cramer le cul par les russes, ça vous regarde. Vous avez raison sur un point : la France est gouvernée par des dégénérés, et cela depuis longtemps, mais le troupeau de veau n’est pas toujours pas ceux que l’on pense; un exemple : les Français approuvent l’avortement à plus de 90%, dont vous je suppose (?), en ce cas vous feriez partie de ces veaux abrutis.\n",
      "J’ai répondu déjà, j’ajoute que je suis CONTRE l’avortement. Encore loupé….\n",
      "Contributeur2 : vous êtes contre l’avortement ? Bravo ! Je vous en félicite, c’est assez rare de nos jour. Peut-être êtes-vous catholique. En ce cas je ne comprends pas pourquoi tant d’engouement pour un texte, et un type, qui visiblement aspire à la destruction de l’Europe, donc de la France, donc des Français ? Le grand remplacement en quelque sorte par les bombes. Eh bien moi je ne suis pour aucun grand remplacement, sinon celui de la connerie régnante par l’intelligence et le discernement.\n",
      "{{{Eh bien moi je ne suis pour aucun grand remplacement, sinon celui de la connerie régnante par l’intelligence et le discernement.}}} Vous enfilez les perles Monsieur! Vous l’aurez de toutes façons la guerre! Soit par la milice de la république qui nous buttera à la 12-7mm en chantant plus jamais ça, ou par la main salvatrice de la Sainte Russie avec ses dégâts collatéraux « hélas » Mais je choisis la guerre chaude à la destruction froide programmée! C’est à dire piqousé dans le local poubelles d’un hôpital a demi désaffecté et rivotrilé par un Gabonais en surpoids armé de lunettes à montures dorées au son de jdumbé de la ripoublique fronçaise!\n",
      "@ JJP Un vie à venir n’agresse personne. Être catholique ne signifie pas tendre la joue gauche comme l’entendent les Chrétiens. Du point de vue spirituel, le premier devoir d’un croyant est d’adorer Dieu, son second devoir est prendre soin de lui-même, son troisième devoir est ses obligations envers son/sa epoux(se), ensuite ses enfants. Ainsi, vous comprendrez bien qu’il faut défendre sa vie et celle des siens. Malheureusement, n’ayant pas des pouvoirs magiques, il faut bien faire parler les armes. macron se prépare contre VP et accessoirement contre les civils armés ou désarmés en révolte contre lesquels il n’hésitera pas le cas échéant à donner l’ordre de tirer. Et des militaires collabos n’auront aucun état d’âme à exécuter les ordres d’un psychopathe. À nous d’être plus rusés et meilleurs stratèges.\n",
      "D’accord avec vous Monique\n",
      "Bien taclé 🤗👌👍 Vive Mr Poutine le plus grand homme d’état du 21ème siècle Vive la sainte Russie fer de lance contre la tyrannie mortifère de la mafia mondialiste parasitaires satanique otanesque !\n",
      "Monique, je reste ici, ne vous en déplaise. Et oui, je trouve les propos de Boris Karpov agressifs. Je ne suis absolument pas antirusse et je n’ai nul besoin de vos conseils de lecture, et n’ai que faire de vos insultes.\n",
      "Ben! Je propose à tout les intervenants d’ignorer.. Lucie-fer….\n",
      "Monique, calmez-vous et prenez vos gouttes.\n",
      "Madame, allez ramasser les cadavres d’enfants tués par les canons que cette pourriture de MACRON vient de fournir aux UKRONAZIS. Si ça pète un petit conseil pour MACRON et sa clique ripoux bons à rien, planquez vous au fond d’une mine.\n",
      "foutriquet et les pourris de l’U E  comme N A T O sont de la même veine ! des ordures .\n",
      "Foutriquet est remisé dans le bunker de la chancellerie à 30 m sous le palais qui appartient aux français. Mais les Russes le trouveront, où qu’il se planque.\n",
      "Macron aurait l’air d’une tantouze en détresse, si cela se produisait.\n",
      "« les canons que cette pourriture de MACRON vient de fournir »….quoi, vous voulez nous faire croire que des canons Français tuent des gens, des enfants ??? je serais surpris, ils sont faits pour nous défendre, nous, nos valeurs (lol) et le camp du Bien en général…                            lol\n",
      "je le trouve plutot pondéré  !\n",
      "Tout à fait, au vu de la situation il pourrait être plus hargneux. Mais c’est comme Poutine, toujours calme… Ce qui ne l’empêche pas de frapper fort! Soutien total!\n",
      "quand ses frères sont bombardés, tués, alors être agressif avec des mots me parait bien pondéré\n",
      "Lucie , faites vous partie de ce genre de personne bien de son époque , pour qui dire crument la vérité est de l’agression ???\n",
      "Ben! elle devrais s’installer dans une zone de droit chariatisé….la! elle verrais la véritable agressivité Encore une pouffe qui se croient faire partie de l’élite auto-proclamé de la bien pensence…genre j’en fait partie MOA!….\n",
      "Vous êtes bien zombifié par bfm.wc….luciférienne 🤗🤭\n",
      "Et vous Lucie bien aveugle.\n",
      "Il a pas du lire le suicide français sinon il n’ attendrait pas une réaction des pleutres masqués\n",
      "Poutine et Nouvel Ordre Mondial Changerait ‘on de personnes pour le même asservissement ?\n",
      "Non, pas du tout, les Russe ont besoins de personnes. Ils veulent juste vivre… Sans qu’on les emmerdes.\n",
      "\n"
     ]
    }
   ],
   "source": [
    "text = df_ml.sample(1).iloc[0]['text']\n",
    "print(f'Score infox : {pipe.predict_proba([text])[:,1]}\\n{text}')"
   ]
  },
  {
   "cell_type": "code",
   "execution_count": null,
   "id": "3508256b",
   "metadata": {},
   "outputs": [],
   "source": [
    "eli5.show_prediction(logreg, text,\n",
    "                     vec=vectorizer,\n",
    "                     feature_names=vectorizer.get_feature_names_out(),\n",
    "                     target_names=['non_infox','infox'])"
   ]
  },
  {
   "cell_type": "code",
   "execution_count": 95,
   "id": "86421cea",
   "metadata": {},
   "outputs": [
    {
     "data": {
      "text/html": [
       "<div>\n",
       "<style scoped>\n",
       "    .dataframe tbody tr th:only-of-type {\n",
       "        vertical-align: middle;\n",
       "    }\n",
       "\n",
       "    .dataframe tbody tr th {\n",
       "        vertical-align: top;\n",
       "    }\n",
       "\n",
       "    .dataframe thead th {\n",
       "        text-align: right;\n",
       "    }\n",
       "</style>\n",
       "<table border=\"1\" class=\"dataframe\">\n",
       "  <thead>\n",
       "    <tr style=\"text-align: right;\">\n",
       "      <th></th>\n",
       "      <th>text</th>\n",
       "      <th>infox</th>\n",
       "      <th>text_p</th>\n",
       "      <th>text_ml</th>\n",
       "    </tr>\n",
       "  </thead>\n",
       "  <tbody>\n",
       "    <tr>\n",
       "      <th>609</th>\n",
       "      <td>Guerre en Ukraine: Emmanuel Macron prévient le...</td>\n",
       "      <td>0.0</td>\n",
       "      <td>guerre en ukraine: emmanuel macron prévient le...</td>\n",
       "      <td>guerre en ukraine: emmanuel macron prévient le...</td>\n",
       "    </tr>\n",
       "    <tr>\n",
       "      <th>565</th>\n",
       "      <td>De l’importance d’une Assemblée vraiment natio...</td>\n",
       "      <td>0.0</td>\n",
       "      <td>de l importance d une assemblée vraiment natio...</td>\n",
       "      <td>de l importance d une assemblée vraiment natio...</td>\n",
       "    </tr>\n",
       "    <tr>\n",
       "      <th>596</th>\n",
       "      <td>Chine: après les puces électroniques et les ca...</td>\n",
       "      <td>0.0</td>\n",
       "      <td>chine: après les puces électroniques et les ca...</td>\n",
       "      <td>chine: après les puces électroniques et les ca...</td>\n",
       "    </tr>\n",
       "    <tr>\n",
       "      <th>863</th>\n",
       "      <td>Coppola travaille sur \"Megalopolis\", son proje...</td>\n",
       "      <td>0.0</td>\n",
       "      <td>coppola travaille sur \"megalopolis\", son proje...</td>\n",
       "      <td>coppola travaille sur \"megalopolis\", son proje...</td>\n",
       "    </tr>\n",
       "    <tr>\n",
       "      <th>583</th>\n",
       "      <td>Décision de la CPPAP de retirer son agrément à...</td>\n",
       "      <td>0.0</td>\n",
       "      <td>décision de la cppap de retirer son agrément à...</td>\n",
       "      <td>décision de la cppap de retirer son agrément à...</td>\n",
       "    </tr>\n",
       "    <tr>\n",
       "      <th>...</th>\n",
       "      <td>...</td>\n",
       "      <td>...</td>\n",
       "      <td>...</td>\n",
       "      <td>...</td>\n",
       "    </tr>\n",
       "    <tr>\n",
       "      <th>603</th>\n",
       "      <td>Dire NON à la guerre !\\nTRIBUNE - La guerre en...</td>\n",
       "      <td>1.0</td>\n",
       "      <td>dire non à la guerre !\\ntribune - la guerre en...</td>\n",
       "      <td>dire non à la guerre !\\ntribune - la guerre en...</td>\n",
       "    </tr>\n",
       "    <tr>\n",
       "      <th>316</th>\n",
       "      <td>Un Doctothon ce 16 avril centré exclusivement ...</td>\n",
       "      <td>1.0</td>\n",
       "      <td>un doctothon ce  avril centré exclusivement su...</td>\n",
       "      <td>un doctothon ce  avril centré exclusivement su...</td>\n",
       "    </tr>\n",
       "    <tr>\n",
       "      <th>320</th>\n",
       "      <td>\"Il faut prendre conscience urgemment des prob...</td>\n",
       "      <td>1.0</td>\n",
       "      <td>\"il faut prendre conscience urgemment des prob...</td>\n",
       "      <td>\"il faut prendre conscience urgemment des prob...</td>\n",
       "    </tr>\n",
       "    <tr>\n",
       "      <th>595</th>\n",
       "      <td>Anthony Fauci : d'une gestion de crise controv...</td>\n",
       "      <td>1.0</td>\n",
       "      <td>anthony fauci : d'une gestion de crise controv...</td>\n",
       "      <td>anthony fauci : d'une gestion de crise controv...</td>\n",
       "    </tr>\n",
       "    <tr>\n",
       "      <th>879</th>\n",
       "      <td>Censurer le projet de loi pour le passe vaccin...</td>\n",
       "      <td>1.0</td>\n",
       "      <td>censurer le projet de loi pour le passe vaccin...</td>\n",
       "      <td>censurer le projet de loi pour le passe vaccin...</td>\n",
       "    </tr>\n",
       "  </tbody>\n",
       "</table>\n",
       "<p>105 rows × 4 columns</p>\n",
       "</div>"
      ],
      "text/plain": [
       "                                                  text  infox  \\\n",
       "609  Guerre en Ukraine: Emmanuel Macron prévient le...    0.0   \n",
       "565  De l’importance d’une Assemblée vraiment natio...    0.0   \n",
       "596  Chine: après les puces électroniques et les ca...    0.0   \n",
       "863  Coppola travaille sur \"Megalopolis\", son proje...    0.0   \n",
       "583  Décision de la CPPAP de retirer son agrément à...    0.0   \n",
       "..                                                 ...    ...   \n",
       "603  Dire NON à la guerre !\\nTRIBUNE - La guerre en...    1.0   \n",
       "316  Un Doctothon ce 16 avril centré exclusivement ...    1.0   \n",
       "320  \"Il faut prendre conscience urgemment des prob...    1.0   \n",
       "595  Anthony Fauci : d'une gestion de crise controv...    1.0   \n",
       "879  Censurer le projet de loi pour le passe vaccin...    1.0   \n",
       "\n",
       "                                                text_p  \\\n",
       "609  guerre en ukraine: emmanuel macron prévient le...   \n",
       "565  de l importance d une assemblée vraiment natio...   \n",
       "596  chine: après les puces électroniques et les ca...   \n",
       "863  coppola travaille sur \"megalopolis\", son proje...   \n",
       "583  décision de la cppap de retirer son agrément à...   \n",
       "..                                                 ...   \n",
       "603  dire non à la guerre !\\ntribune - la guerre en...   \n",
       "316  un doctothon ce  avril centré exclusivement su...   \n",
       "320  \"il faut prendre conscience urgemment des prob...   \n",
       "595  anthony fauci : d'une gestion de crise controv...   \n",
       "879  censurer le projet de loi pour le passe vaccin...   \n",
       "\n",
       "                                               text_ml  \n",
       "609  guerre en ukraine: emmanuel macron prévient le...  \n",
       "565  de l importance d une assemblée vraiment natio...  \n",
       "596  chine: après les puces électroniques et les ca...  \n",
       "863  coppola travaille sur \"megalopolis\", son proje...  \n",
       "583  décision de la cppap de retirer son agrément à...  \n",
       "..                                                 ...  \n",
       "603  dire non à la guerre !\\ntribune - la guerre en...  \n",
       "316  un doctothon ce  avril centré exclusivement su...  \n",
       "320  \"il faut prendre conscience urgemment des prob...  \n",
       "595  anthony fauci : d'une gestion de crise controv...  \n",
       "879  censurer le projet de loi pour le passe vaccin...  \n",
       "\n",
       "[105 rows x 4 columns]"
      ]
     },
     "execution_count": 95,
     "metadata": {},
     "output_type": "execute_result"
    }
   ],
   "source": [
    "df_ml[df_ml['text_p'].str.contains(r'francesoir')]"
   ]
  },
  {
   "cell_type": "code",
   "execution_count": 92,
   "id": "2fa32139",
   "metadata": {},
   "outputs": [],
   "source": [
    "df_weights.to_csv('data/tmp/infox_words.csv')"
   ]
  },
  {
   "cell_type": "code",
   "execution_count": null,
   "id": "f0b2040f",
   "metadata": {},
   "outputs": [],
   "source": []
  },
  {
   "cell_type": "code",
   "execution_count": null,
   "id": "6f1b5f92",
   "metadata": {},
   "outputs": [],
   "source": []
  }
 ],
 "metadata": {
  "kernelspec": {
   "display_name": "Python 3 (ipykernel)",
   "language": "python",
   "name": "python3"
  },
  "language_info": {
   "codemirror_mode": {
    "name": "ipython",
    "version": 3
   },
   "file_extension": ".py",
   "mimetype": "text/x-python",
   "name": "python",
   "nbconvert_exporter": "python",
   "pygments_lexer": "ipython3",
   "version": "3.9.16"
  }
 },
 "nbformat": 4,
 "nbformat_minor": 5
}
