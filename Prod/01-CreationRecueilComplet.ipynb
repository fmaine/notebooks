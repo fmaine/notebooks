{
 "cells": [
  {
   "cell_type": "markdown",
   "id": "54f104b4",
   "metadata": {},
   "source": [
    "# Patat : Plateforme Agnostique de Traitement et d'Analyse des Textes\n",
    "\n",
    "### Notebook 1 : Création du Recueil Complet\n",
    "En partant du Recueil Brut issu de la google spreadsheet observateurs\n",
    "\n",
    "### Synopsis\n",
    "- Chargement et Nettoyage du Recueil\n",
    "- Importation et Parsing des articles\n",
    "- Nettoyage et Sauvegarde du Recueil Complet\n",
    "\n",
    "### To do\n",
    "- Moins de NaN dans le recueil\n",
    "- Meilleure prise en compte des NaN dans la suite\n",
    "\n",
    "# 0 - Préliminaires"
   ]
  },
  {
   "cell_type": "code",
   "execution_count": null,
   "id": "72a0b78e",
   "metadata": {},
   "outputs": [],
   "source": [
    "import datetime\n",
    "now = datetime.datetime.now()\n",
    "file_date = now.strftime(\"%y%m%d\")\n",
    "#file_date='220919'\n",
    "recueil_filename = f'data/corpus-work/{file_date}-RecueilBrut.csv'\n",
    "recueil_complet_filename = f'data/corpus/{file_date}-RecueilComplet.csv'\n",
    "print(recueil_filename)\n",
    "print(recueil_complet_filename)"
   ]
  },
  {
   "cell_type": "code",
   "execution_count": null,
   "id": "438d307d",
   "metadata": {},
   "outputs": [],
   "source": [
    "cd .."
   ]
  },
  {
   "cell_type": "code",
   "execution_count": null,
   "id": "0732d50f",
   "metadata": {},
   "outputs": [],
   "source": [
    "import importlib\n",
    "import pandas as pd"
   ]
  },
  {
   "cell_type": "code",
   "execution_count": null,
   "id": "38aa5188",
   "metadata": {},
   "outputs": [],
   "source": [
    "import patat.imp.importer"
   ]
  },
  {
   "cell_type": "markdown",
   "id": "258f38ae",
   "metadata": {},
   "source": [
    "## 1 - Chargement recueil\n",
    "Le recueil a été exporté en csv de googlesheet.\n",
    "\n",
    "Nom de fichier : **AAMMJJ-RecueilBrut.csv**"
   ]
  },
  {
   "cell_type": "code",
   "execution_count": null,
   "id": "dc1a2ef3",
   "metadata": {},
   "outputs": [],
   "source": [
    "df_brut = pd.read_csv(recueil_filename)"
   ]
  },
  {
   "cell_type": "code",
   "execution_count": null,
   "id": "c8a991ef",
   "metadata": {},
   "outputs": [],
   "source": [
    "df_brut"
   ]
  },
  {
   "cell_type": "code",
   "execution_count": null,
   "id": "2d6e79a7",
   "metadata": {},
   "outputs": [],
   "source": [
    "# Suppression des urls vides\n",
    "df_brut = df_brut[df_brut['url'].notna()]"
   ]
  },
  {
   "cell_type": "code",
   "execution_count": null,
   "id": "ec2c6240",
   "metadata": {},
   "outputs": [],
   "source": []
  },
  {
   "cell_type": "code",
   "execution_count": null,
   "id": "e94113b1",
   "metadata": {},
   "outputs": [],
   "source": [
    "df_brut.keys()"
   ]
  },
  {
   "cell_type": "code",
   "execution_count": null,
   "id": "01b2b053",
   "metadata": {},
   "outputs": [],
   "source": [
    "labels = [\n",
    "    'infox', 'signé',\n",
    "    'lieux, dates et personnes ', 'lieux, dates et personnes cohérentes',\n",
    "    'points de vue différents présentés', 'écriture de qualité',\n",
    "    'faits', 'opinions', 'fausse nouvelle', 'insinuations',\n",
    "    'scientifique sulfureux', 'des pages et des pages',\n",
    "    'des chiffres et des tableaux', 'sophisme', 'inversion de la preuve',\n",
    "    'invérifiable', 'propos rapporté', 'sources citées', 'titre décalé',\n",
    "]"
   ]
  },
  {
   "cell_type": "code",
   "execution_count": null,
   "id": "53cb01a8",
   "metadata": {},
   "outputs": [],
   "source": [
    "def normalize_label(l):\n",
    "    if l=='oui':\n",
    "        return 1.0\n",
    "#    elif l=='non':\n",
    "#        return 0.0\n",
    "    else:\n",
    "        return 0.0"
   ]
  },
  {
   "cell_type": "code",
   "execution_count": null,
   "id": "38e76011",
   "metadata": {},
   "outputs": [],
   "source": [
    "for label in labels:\n",
    "    df_brut.loc[:,label]=df_brut[label].apply(normalize_label)"
   ]
  },
  {
   "cell_type": "code",
   "execution_count": null,
   "id": "603f181e",
   "metadata": {},
   "outputs": [],
   "source": [
    "for label in labels:\n",
    "    df_brut = df_brut[df_brut[label].notna()]"
   ]
  },
  {
   "cell_type": "code",
   "execution_count": null,
   "id": "8c5a5e9b",
   "metadata": {},
   "outputs": [],
   "source": [
    "for label in labels:\n",
    "    print(label,df_brut[df_brut[label].isna()].shape)"
   ]
  },
  {
   "cell_type": "markdown",
   "id": "beb69aea",
   "metadata": {},
   "source": [
    "### Extraction des sites"
   ]
  },
  {
   "cell_type": "code",
   "execution_count": null,
   "id": "8314bebc",
   "metadata": {},
   "outputs": [],
   "source": [
    "import urllib\n",
    "def get_site(url):\n",
    "    if type(url)==str:\n",
    "        return urllib.parse.urlsplit(url).netloc"
   ]
  },
  {
   "cell_type": "code",
   "execution_count": null,
   "id": "bb0e8a43",
   "metadata": {},
   "outputs": [],
   "source": [
    "df_brut.loc[:,'site'] = df_brut['url'].apply(get_site)"
   ]
  },
  {
   "cell_type": "code",
   "execution_count": null,
   "id": "f18aee8f",
   "metadata": {},
   "outputs": [],
   "source": [
    "df_brut"
   ]
  },
  {
   "cell_type": "markdown",
   "id": "2d6ac789",
   "metadata": {},
   "source": [
    "## 2 - Acquisition et Parsing Articles"
   ]
  },
  {
   "cell_type": "code",
   "execution_count": null,
   "id": "65a43d68",
   "metadata": {},
   "outputs": [],
   "source": [
    "importlib.reload(patat.imp.importer)\n",
    "imp = patat.imp.importer.Importer()"
   ]
  },
  {
   "cell_type": "code",
   "execution_count": null,
   "id": "7e30563b",
   "metadata": {},
   "outputs": [],
   "source": [
    "df_brut"
   ]
  },
  {
   "cell_type": "code",
   "execution_count": null,
   "id": "a1dc9295",
   "metadata": {},
   "outputs": [],
   "source": [
    "df_crawl = df_brut"
   ]
  },
  {
   "cell_type": "code",
   "execution_count": null,
   "id": "c562cef5",
   "metadata": {},
   "outputs": [],
   "source": [
    "def crawl_item(url):\n",
    "    html = ''\n",
    "    print(url)\n",
    "    try:\n",
    "        html = imp.get_webpage(url, use_cache=True)\n",
    "    except:\n",
    "        print('Exception :' + str(url))\n",
    "    return html"
   ]
  },
  {
   "cell_type": "code",
   "execution_count": null,
   "id": "ccb15f8f",
   "metadata": {
    "scrolled": true
   },
   "outputs": [],
   "source": [
    "df_crawl['html']=df_crawl['url'].apply(crawl_item)"
   ]
  },
  {
   "cell_type": "code",
   "execution_count": null,
   "id": "9048c7f3",
   "metadata": {},
   "outputs": [],
   "source": [
    "import patat.imp.parser_params\n",
    "import patat.imp.parser"
   ]
  },
  {
   "cell_type": "code",
   "execution_count": null,
   "id": "1f211b9e",
   "metadata": {},
   "outputs": [],
   "source": [
    "importlib.reload(patat.imp.parser_params)\n",
    "importlib.reload(patat.imp.parser)\n",
    "parser = patat.imp.parser.Parser()"
   ]
  },
  {
   "cell_type": "code",
   "execution_count": null,
   "id": "52ea60ef",
   "metadata": {},
   "outputs": [],
   "source": [
    "def parse_article(url,html,site):\n",
    "    record = {'url':url,'title':'','article':'','words':0}\n",
    "    if html:\n",
    "        if parser.is_known_site(url):\n",
    "            record = parser.parse_article(url,html,site)\n",
    "            record['parse_method']='parse'\n",
    "        else:\n",
    "            record = parser.parse_raw_article(url,html)\n",
    "            record['parse_method']='raw'\n",
    "    \n",
    "    return record"
   ]
  },
  {
   "cell_type": "code",
   "execution_count": null,
   "id": "d91ac182",
   "metadata": {},
   "outputs": [],
   "source": [
    "%%time\n",
    "# Attention ! Le parsing peut prendre du temps\n",
    "parsed = df_crawl.apply(lambda row: parse_article(row['url'], row['html'], row['site']), axis=1)"
   ]
  },
  {
   "cell_type": "code",
   "execution_count": null,
   "id": "2eda84c9",
   "metadata": {},
   "outputs": [],
   "source": [
    "df_parsed = pd.DataFrame(list(parsed))"
   ]
  },
  {
   "cell_type": "markdown",
   "id": "634e974e",
   "metadata": {},
   "source": [
    "## 3 - Vérification du dataframe parsé"
   ]
  },
  {
   "cell_type": "code",
   "execution_count": null,
   "id": "6501c155",
   "metadata": {},
   "outputs": [],
   "source": [
    "len(df_parsed)"
   ]
  },
  {
   "cell_type": "markdown",
   "id": "6e7b2075",
   "metadata": {},
   "source": [
    "## 4 - Création Recueil Complet\n",
    "Le recueil complet est exporté en csv.\n",
    "\n",
    "Nom de fichier : **AAMMJJ-RecueilComplet.csv**"
   ]
  },
  {
   "cell_type": "code",
   "execution_count": null,
   "id": "0709bd3b",
   "metadata": {},
   "outputs": [],
   "source": [
    "df_parsed[df_parsed['article'].isna()]"
   ]
  },
  {
   "cell_type": "code",
   "execution_count": null,
   "id": "ffeca2d8",
   "metadata": {},
   "outputs": [],
   "source": [
    "#df_complet = pd.merge(df_parsed,df_brut,on='url')"
   ]
  },
  {
   "cell_type": "code",
   "execution_count": null,
   "id": "dfe6bfc5",
   "metadata": {},
   "outputs": [],
   "source": [
    "df_complet = pd.concat([df_parsed,df_brut[labels],df_brut['site']],axis=1)"
   ]
  },
  {
   "cell_type": "code",
   "execution_count": null,
   "id": "c97bbab6",
   "metadata": {},
   "outputs": [],
   "source": [
    "len(df_complet)"
   ]
  },
  {
   "cell_type": "code",
   "execution_count": null,
   "id": "dfbfcc9a",
   "metadata": {},
   "outputs": [],
   "source": [
    "df_complet['url'].to_csv('complet.csv')\n",
    "df_parsed['url'].to_csv('parsed.csv')\n",
    "df_brut['url'].to_csv('brut.csv')"
   ]
  },
  {
   "cell_type": "code",
   "execution_count": null,
   "id": "0683cc79",
   "metadata": {},
   "outputs": [],
   "source": [
    "df_complet[df_complet['url'].isna()]"
   ]
  },
  {
   "cell_type": "code",
   "execution_count": null,
   "id": "97ea45dd",
   "metadata": {},
   "outputs": [],
   "source": [
    "#df_parsed=df_parsed.rename(columns={'url':'url_parsed'})\n",
    "#df_complet=pd.concat([df_parsed,df_brut],axis=1)"
   ]
  },
  {
   "cell_type": "code",
   "execution_count": null,
   "id": "5f9e250a",
   "metadata": {},
   "outputs": [],
   "source": [
    "#df_complet['url_parsed']"
   ]
  },
  {
   "cell_type": "code",
   "execution_count": null,
   "id": "12d10398",
   "metadata": {},
   "outputs": [],
   "source": [
    "#df_complet[df_complet['url']!=df_complet['url_parsed']]"
   ]
  },
  {
   "cell_type": "code",
   "execution_count": null,
   "id": "78e7ca1d",
   "metadata": {},
   "outputs": [],
   "source": [
    "# Articles vides\n",
    "df_complet[df_complet['article']=='']"
   ]
  },
  {
   "cell_type": "code",
   "execution_count": null,
   "id": "123423ea",
   "metadata": {},
   "outputs": [],
   "source": [
    "# Suppression des articles vides\n",
    "df_complet = df_complet[df_complet['article']!='']"
   ]
  },
  {
   "cell_type": "code",
   "execution_count": null,
   "id": "c874aad8",
   "metadata": {},
   "outputs": [],
   "source": [
    "# Titres vides\n",
    "df_complet[df_complet['title']=='']"
   ]
  },
  {
   "cell_type": "code",
   "execution_count": null,
   "id": "04684188",
   "metadata": {},
   "outputs": [],
   "source": []
  },
  {
   "cell_type": "code",
   "execution_count": null,
   "id": "a1e612e9",
   "metadata": {},
   "outputs": [],
   "source": [
    "# Suppression des titres vides\n",
    "df_complet = df_complet[df_complet['title']!='']"
   ]
  },
  {
   "cell_type": "code",
   "execution_count": null,
   "id": "b31f60a8",
   "metadata": {},
   "outputs": [],
   "source": [
    "#df_complet.drop('html',axis=1,inplace=True)"
   ]
  },
  {
   "cell_type": "code",
   "execution_count": null,
   "id": "ced0b494",
   "metadata": {},
   "outputs": [],
   "source": [
    "# Concaténation Titre Abstract Article\n",
    "df_complet.loc[:,'text'] = df_complet['title']+'\\n'+df_complet['article']"
   ]
  },
  {
   "cell_type": "code",
   "execution_count": null,
   "id": "d413d412",
   "metadata": {},
   "outputs": [],
   "source": [
    "df_complet.to_csv(recueil_complet_filename,index=False)"
   ]
  },
  {
   "cell_type": "markdown",
   "id": "5da885ed",
   "metadata": {},
   "source": [
    "# Bricolages"
   ]
  },
  {
   "cell_type": "code",
   "execution_count": null,
   "id": "ee63a61a",
   "metadata": {},
   "outputs": [],
   "source": [
    "df_complet.loc[440:]"
   ]
  },
  {
   "cell_type": "code",
   "execution_count": null,
   "id": "66e75a97",
   "metadata": {},
   "outputs": [],
   "source": [
    "df_parsed.loc[:,'url']=df_parsed['url_parsed']"
   ]
  },
  {
   "cell_type": "code",
   "execution_count": null,
   "id": "d8cadabc",
   "metadata": {},
   "outputs": [],
   "source": [
    "pd.merge(df_parsed,df_brut)\n",
    "#df_parsed.join(df_b,on='url')"
   ]
  },
  {
   "cell_type": "code",
   "execution_count": null,
   "id": "74c24095",
   "metadata": {},
   "outputs": [],
   "source": [
    "df_brut.keys()"
   ]
  },
  {
   "cell_type": "code",
   "execution_count": null,
   "id": "1aa01cc5",
   "metadata": {},
   "outputs": [],
   "source": [
    "df_b = df_brut.loc[:,['url','explication', 'infox', 'signé',\n",
    "       'lieux, dates et personnes ', 'lieux, dates et personnes cohérentes',\n",
    "       'points de vue différents présentés', 'écriture de qualité',\n",
    "       'intention', 'faits', 'opinions', 'fausse nouvelle', 'insinuations',\n",
    "       'exagération', 'scientifique sulfureux', 'des pages et des pages',\n",
    "       'des chiffres et des tableaux', 'sophisme', 'inversion de la preuve',\n",
    "       'invérifiable', 'propos rapporté', 'sources citées', 'titre décalé',\n",
    "       'dénigrement', 'degré infox', 'observateur', 'thème (abandonné)',\n",
    "       'type infox (abandonné)', 'Date de collection (abandonné)']]"
   ]
  },
  {
   "cell_type": "code",
   "execution_count": null,
   "id": "6588f081",
   "metadata": {},
   "outputs": [],
   "source": []
  },
  {
   "cell_type": "code",
   "execution_count": null,
   "id": "df94098e",
   "metadata": {},
   "outputs": [],
   "source": []
  },
  {
   "cell_type": "code",
   "execution_count": null,
   "id": "81791279",
   "metadata": {},
   "outputs": [],
   "source": [
    "import patat.app.df_viewer"
   ]
  },
  {
   "cell_type": "code",
   "execution_count": null,
   "id": "e346f15d",
   "metadata": {},
   "outputs": [],
   "source": [
    "viewer = patat.app.df_viewer.DfViewer()"
   ]
  },
  {
   "cell_type": "code",
   "execution_count": null,
   "id": "acd2baec",
   "metadata": {},
   "outputs": [],
   "source": [
    "tree = viewer.get_tree_page()"
   ]
  },
  {
   "cell_type": "code",
   "execution_count": null,
   "id": "fdcda833",
   "metadata": {},
   "outputs": [],
   "source": [
    "tree['tree'][1]"
   ]
  },
  {
   "cell_type": "code",
   "execution_count": null,
   "id": "b48de53a",
   "metadata": {},
   "outputs": [],
   "source": [
    "df_complet"
   ]
  },
  {
   "cell_type": "code",
   "execution_count": null,
   "id": "c5de4add",
   "metadata": {},
   "outputs": [],
   "source": [
    "df_parsed['url'] = df_parsed['url_parsed']"
   ]
  },
  {
   "cell_type": "code",
   "execution_count": null,
   "id": "8203703d",
   "metadata": {},
   "outputs": [],
   "source": [
    "df_brut['url']"
   ]
  },
  {
   "cell_type": "code",
   "execution_count": null,
   "id": "4297291f",
   "metadata": {},
   "outputs": [],
   "source": [
    "df_complet['article'][1]"
   ]
  },
  {
   "cell_type": "code",
   "execution_count": null,
   "id": "cb17f094",
   "metadata": {},
   "outputs": [],
   "source": [
    "parser.clean_article(df_complet['article'][1])"
   ]
  },
  {
   "cell_type": "code",
   "execution_count": null,
   "id": "15ba0bc5",
   "metadata": {},
   "outputs": [],
   "source": []
  }
 ],
 "metadata": {
  "kernelspec": {
   "display_name": "Python 3 (ipykernel)",
   "language": "python",
   "name": "python3"
  },
  "language_info": {
   "codemirror_mode": {
    "name": "ipython",
    "version": 3
   },
   "file_extension": ".py",
   "mimetype": "text/x-python",
   "name": "python",
   "nbconvert_exporter": "python",
   "pygments_lexer": "ipython3",
   "version": "3.10.11"
  }
 },
 "nbformat": 4,
 "nbformat_minor": 5
}
