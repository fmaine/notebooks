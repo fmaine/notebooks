{
 "cells": [
  {
   "cell_type": "markdown",
   "id": "e3ec4689",
   "metadata": {},
   "source": [
    "# Plateforme Agnostique de Traitement et d'Analyse des Textes\n",
    "### Carnet d'expérimentation\n",
    "---\n",
    "\n",
    "## Sujet : Comptage Lemmes\n",
    "\n",
    "---"
   ]
  },
  {
   "cell_type": "markdown",
   "id": "2601e626",
   "metadata": {},
   "source": [
    "## Observations et environnement\n",
    "---"
   ]
  },
  {
   "cell_type": "code",
   "execution_count": 1,
   "id": "5d0de4d7",
   "metadata": {},
   "outputs": [
    {
     "name": "stdout",
     "output_type": "stream",
     "text": [
      "/Users/fm/Desktop/Work/Patat\n"
     ]
    }
   ],
   "source": [
    "cd ../.."
   ]
  },
  {
   "cell_type": "code",
   "execution_count": null,
   "id": "32256b0d",
   "metadata": {},
   "outputs": [],
   "source": [
    "import importlib\n",
    "import pandas as pd"
   ]
  },
  {
   "cell_type": "markdown",
   "id": "29618668",
   "metadata": {},
   "source": [
    "### Chargement des données"
   ]
  },
  {
   "cell_type": "code",
   "execution_count": null,
   "id": "05cde00c",
   "metadata": {},
   "outputs": [],
   "source": [
    "import patat.db.article_db\n",
    "article_db = patat.db.article_db.ArticleDb()\n",
    "article_db.df()"
   ]
  },
  {
   "cell_type": "code",
   "execution_count": null,
   "id": "99ed176d",
   "metadata": {},
   "outputs": [],
   "source": [
    "import patat.db.label_db\n",
    "label_db = patat.db.label_db.LabelDb()\n",
    "label_db.df()"
   ]
  },
  {
   "cell_type": "markdown",
   "id": "26de4d29",
   "metadata": {},
   "source": [
    "## Expérience\n",
    "---"
   ]
  },
  {
   "cell_type": "markdown",
   "id": "f29d6c3a",
   "metadata": {},
   "source": [
    "### Counting Lemmas"
   ]
  },
  {
   "cell_type": "code",
   "execution_count": null,
   "id": "e6a2fe9e",
   "metadata": {},
   "outputs": [],
   "source": [
    "df_article = article_db.df().copy()"
   ]
  },
  {
   "cell_type": "code",
   "execution_count": null,
   "id": "d1533205",
   "metadata": {},
   "outputs": [],
   "source": [
    "df_article['text'] = df_article['title'] + '\\n' + df_article['article']"
   ]
  },
  {
   "cell_type": "code",
   "execution_count": null,
   "id": "7d1e313c",
   "metadata": {},
   "outputs": [],
   "source": [
    "#finding urls"
   ]
  },
  {
   "cell_type": "code",
   "execution_count": null,
   "id": "48b4427b",
   "metadata": {},
   "outputs": [],
   "source": [
    "df_label = label_db.df()"
   ]
  },
  {
   "cell_type": "code",
   "execution_count": null,
   "id": "d2200573",
   "metadata": {},
   "outputs": [],
   "source": [
    "df_recueil_infox = df_label[(df_label['type']=='obs') & (df_label['label']=='infox')]"
   ]
  },
  {
   "cell_type": "code",
   "execution_count": null,
   "id": "881f3ed4",
   "metadata": {},
   "outputs": [],
   "source": [
    "urls_0 = df_recueil_infox[df_recueil_infox['value']==0]['url']\n",
    "urls_1 = df_recueil_infox[df_recueil_infox['value']==1]['url']"
   ]
  },
  {
   "cell_type": "code",
   "execution_count": null,
   "id": "ad4b67e1",
   "metadata": {},
   "outputs": [],
   "source": [
    "text_0 = '\\n'.join(df_article[df_article['url'].isin(urls_0)]['text'])"
   ]
  },
  {
   "cell_type": "code",
   "execution_count": null,
   "id": "5b799e45",
   "metadata": {},
   "outputs": [],
   "source": [
    "text_1 = '\\n'.join(df_article[df_article['url'].isin(urls_1)]['text'])"
   ]
  },
  {
   "cell_type": "code",
   "execution_count": null,
   "id": "8ba7f4c7",
   "metadata": {},
   "outputs": [],
   "source": [
    "len(text_0)"
   ]
  },
  {
   "cell_type": "code",
   "execution_count": null,
   "id": "846a5250",
   "metadata": {},
   "outputs": [],
   "source": [
    "import patat.ml.lex_analyser"
   ]
  },
  {
   "cell_type": "code",
   "execution_count": null,
   "id": "011ae879",
   "metadata": {},
   "outputs": [],
   "source": [
    "importlib.reload(patat.ml.lex_analyser)"
   ]
  },
  {
   "cell_type": "code",
   "execution_count": null,
   "id": "5435651d",
   "metadata": {},
   "outputs": [],
   "source": [
    "lex = patat.ml.lex_analyser.LexAnalyser()"
   ]
  },
  {
   "cell_type": "code",
   "execution_count": null,
   "id": "36db5eb6",
   "metadata": {},
   "outputs": [],
   "source": [
    "words_0 = lex.get_words(text_0)"
   ]
  },
  {
   "cell_type": "code",
   "execution_count": null,
   "id": "d68e8755",
   "metadata": {},
   "outputs": [],
   "source": [
    "lemmas_0 = lex.get_lemmas(words_0)"
   ]
  },
  {
   "cell_type": "code",
   "execution_count": null,
   "id": "bea2e1d8",
   "metadata": {},
   "outputs": [],
   "source": [
    "words_1 = lex.get_words(text_1)\n",
    "lemmas_1 = lex.get_lemmas(words_1)"
   ]
  },
  {
   "cell_type": "code",
   "execution_count": null,
   "id": "73cd3fc8",
   "metadata": {},
   "outputs": [],
   "source": [
    "lemmas_1"
   ]
  },
  {
   "cell_type": "code",
   "execution_count": null,
   "id": "fc9249d8",
   "metadata": {},
   "outputs": [],
   "source": [
    "ignore_words = lex.get_ignore_words(lemmas_0,lemmas_1)"
   ]
  },
  {
   "cell_type": "code",
   "execution_count": null,
   "id": "215f8083",
   "metadata": {},
   "outputs": [],
   "source": [
    "len(ignore_words)"
   ]
  },
  {
   "cell_type": "code",
   "execution_count": null,
   "id": "a48aeecd",
   "metadata": {},
   "outputs": [],
   "source": [
    "from collections import Counter"
   ]
  },
  {
   "cell_type": "code",
   "execution_count": null,
   "id": "e45133b1",
   "metadata": {},
   "outputs": [],
   "source": [
    "count_1 = Counter(lemmas_1)"
   ]
  },
  {
   "cell_type": "code",
   "execution_count": null,
   "id": "13a2793a",
   "metadata": {},
   "outputs": [],
   "source": [
    "count_0 = Counter(lemmas_0)"
   ]
  },
  {
   "cell_type": "code",
   "execution_count": null,
   "id": "8497443b",
   "metadata": {},
   "outputs": [],
   "source": [
    "df_0  = pd.DataFrame.from_dict(count_0, orient='index')\n",
    "df_1  = pd.DataFrame.from_dict(count_1, orient='index')\n",
    "df_1= df_1.rename(columns={0:1})\n"
   ]
  },
  {
   "cell_type": "code",
   "execution_count": null,
   "id": "c4bae441",
   "metadata": {},
   "outputs": [],
   "source": [
    "df_1"
   ]
  },
  {
   "cell_type": "code",
   "execution_count": null,
   "id": "65c2135a",
   "metadata": {},
   "outputs": [],
   "source": [
    "df_count = pd.concat([df_1, df_0], axis=1).fillna(0)"
   ]
  },
  {
   "cell_type": "code",
   "execution_count": null,
   "id": "da7785e2",
   "metadata": {},
   "outputs": [],
   "source": [
    "df_count"
   ]
  },
  {
   "cell_type": "code",
   "execution_count": null,
   "id": "6d232ef8",
   "metadata": {},
   "outputs": [],
   "source": [
    "occ_rare = 3\n",
    "df_rare = df_count[(df_count[1]<occ_rare) & (df_count[0]<occ_rare)]\n",
    "rare_words = list(df_rare.index)"
   ]
  },
  {
   "cell_type": "code",
   "execution_count": null,
   "id": "78b9ebf6",
   "metadata": {},
   "outputs": [],
   "source": [
    "common_size = 100\n",
    "top_0 = df_count.sort_values(by=0,ascending=False)[0:common_size].index\n",
    "top_1 = df_count.sort_values(by=1,ascending=False)[0:common_size].index"
   ]
  },
  {
   "cell_type": "code",
   "execution_count": null,
   "id": "7196973c",
   "metadata": {},
   "outputs": [],
   "source": [
    "common_words = list(top_0.intersection(top_1))\n",
    "len(common_words)"
   ]
  },
  {
   "cell_type": "code",
   "execution_count": null,
   "id": "7e8ff688",
   "metadata": {},
   "outputs": [],
   "source": [
    "ignore_words = common_words + rare_words"
   ]
  },
  {
   "cell_type": "code",
   "execution_count": null,
   "id": "35be259f",
   "metadata": {},
   "outputs": [],
   "source": [
    "len(ignore_words)"
   ]
  },
  {
   "cell_type": "markdown",
   "id": "ba0834f1",
   "metadata": {},
   "source": [
    "## Mesure et observation des résultats\n",
    "---"
   ]
  },
  {
   "cell_type": "code",
   "execution_count": 2,
   "id": "974035ee",
   "metadata": {},
   "outputs": [],
   "source": [
    "import patat.db.article_db\n",
    "import patat.db.label_db\n",
    "import patat.ml.lex_analyser"
   ]
  },
  {
   "cell_type": "code",
   "execution_count": null,
   "id": "a17f9fff",
   "metadata": {},
   "outputs": [],
   "source": [
    "importlib.reload(patat.db.article_db)\n",
    "importlib.reload(patat.db.label_db)\n",
    "importlib.reload(patat.ml.lex_analyser)"
   ]
  },
  {
   "cell_type": "code",
   "execution_count": 3,
   "id": "2a4d001a",
   "metadata": {},
   "outputs": [],
   "source": [
    "article_db = patat.db.article_db.ArticleDb()\n",
    "label_db = patat.db.label_db.LabelDb()\n",
    "lex = patat.ml.lex_analyser.LexAnalyser()"
   ]
  },
  {
   "cell_type": "code",
   "execution_count": 4,
   "id": "6999c3df",
   "metadata": {},
   "outputs": [],
   "source": [
    "urls_0, urls_1 = label_db.get_obs_urls('infox')"
   ]
  },
  {
   "cell_type": "code",
   "execution_count": 5,
   "id": "8294ef77",
   "metadata": {},
   "outputs": [],
   "source": [
    "text_0,text_1 = article_db.get_texts(urls_0, urls_1)"
   ]
  },
  {
   "cell_type": "code",
   "execution_count": 6,
   "id": "e38dbce8",
   "metadata": {},
   "outputs": [],
   "source": [
    "lemmas_0 = lex.get_lemmas_from_text(text_0)\n",
    "lemmas_1 = lex.get_lemmas_from_text(text_1)"
   ]
  },
  {
   "cell_type": "code",
   "execution_count": 7,
   "id": "70e53e53",
   "metadata": {},
   "outputs": [],
   "source": [
    "ignore_words = lex.get_ignore_words(lemmas_0,lemmas_1)"
   ]
  },
  {
   "cell_type": "code",
   "execution_count": 12,
   "id": "3d297797",
   "metadata": {},
   "outputs": [
    {
     "data": {
      "text/plain": [
       "['onu',\n",
       " 'le',\n",
       " 'premier',\n",
       " 'ministre',\n",
       " 'de',\n",
       " 'nouveau',\n",
       " 'zélande',\n",
       " 'demande',\n",
       " 'aux',\n",
       " 'dirigeant',\n",
       " 'du',\n",
       " 'monde',\n",
       " 'abolir',\n",
       " 'la',\n",
       " 'liberté',\n",
       " 'expression',\n",
       " 'est',\n",
       " 'une',\n",
       " 'arme',\n",
       " 'de',\n",
       " 'guerre',\n",
       " 'argument',\n",
       " 'principal',\n",
       " 'de',\n",
       " 'la',\n",
       " 'ministre',\n",
       " 'est',\n",
       " 'que',\n",
       " 'les',\n",
       " 'gouvernement',\n",
       " 'ne',\n",
       " 'pouvoir',\n",
       " 'pas',\n",
       " 'progresser',\n",
       " 'sur',\n",
       " 'des',\n",
       " 'question',\n",
       " 'majeur',\n",
       " 'telles',\n",
       " 'que',\n",
       " 'le',\n",
       " 'changement',\n",
       " 'climatique',\n",
       " 'moins',\n",
       " 'que',\n",
       " 'le',\n",
       " 'public',\n",
       " 'ne',\n",
       " 'soit',\n",
       " 'empêcher',\n",
       " 'entendre',\n",
       " 'des',\n",
       " 'point',\n",
       " 'de',\n",
       " 'voir',\n",
       " 'opposer',\n",
       " 'pour',\n",
       " 'jacinda',\n",
       " 'ardern',\n",
       " 'la',\n",
       " 'liberté',\n",
       " 'expression',\n",
       " 'devenir',\n",
       " 'une',\n",
       " 'arme',\n",
       " 'de',\n",
       " 'guerre',\n",
       " 'même',\n",
       " 'les',\n",
       " 'approche',\n",
       " 'les',\n",
       " 'plaire',\n",
       " 'léger',\n",
       " 'de',\n",
       " 'la',\n",
       " 'désinformation',\n",
       " 'pouvoir',\n",
       " 'être',\n",
       " 'mal',\n",
       " 'interpréter',\n",
       " 'nous',\n",
       " 'avoir',\n",
       " 'ici',\n",
       " 'occasion',\n",
       " 'de',\n",
       " 'nous',\n",
       " 'assurer',\n",
       " 'que',\n",
       " 'ces',\n",
       " 'arme',\n",
       " 'de',\n",
       " 'guerre',\n",
       " 'particulier',\n",
       " 'ne',\n",
       " 'devenir',\n",
       " 'pas',\n",
       " 'une',\n",
       " 'partie',\n",
       " 'intégrant',\n",
       " 'de',\n",
       " 'la',\n",
       " 'guerre',\n",
       " 'pour',\n",
       " 'elle',\n",
       " 'la',\n",
       " 'pandémie',\n",
       " 'de',\n",
       " 'covid',\n",
       " 'et',\n",
       " 'ses',\n",
       " 'restriction',\n",
       " 'avoir',\n",
       " 'permettre',\n",
       " 'éduquer',\n",
       " 'humanité',\n",
       " 'sur',\n",
       " 'importance',\n",
       " 'de',\n",
       " 'action',\n",
       " 'collectif',\n",
       " 'car',\n",
       " 'cela',\n",
       " 'forcer',\n",
       " 'les',\n",
       " 'gens',\n",
       " 'reconnaître',\n",
       " 'quel',\n",
       " 'poindre',\n",
       " 'nous',\n",
       " 'somme',\n",
       " 'interconnectés',\n",
       " 'et',\n",
       " 'donc',\n",
       " 'quel',\n",
       " 'poindre',\n",
       " 'nous',\n",
       " 'dépendre',\n",
       " 'les',\n",
       " 'uns',\n",
       " 'des',\n",
       " 'autre',\n",
       " 'est',\n",
       " 'donc',\n",
       " 'par',\n",
       " 'la',\n",
       " 'force',\n",
       " 'intimidation',\n",
       " 'les',\n",
       " 'restriction',\n",
       " 'qu',\n",
       " 'il',\n",
       " 'falloir',\n",
       " 'éduquer',\n",
       " 'les',\n",
       " 'population',\n",
       " 'du',\n",
       " 'monde',\n",
       " 'mais',\n",
       " 'cela',\n",
       " 'devoir',\n",
       " 'passer',\n",
       " 'par',\n",
       " 'abolition',\n",
       " 'de',\n",
       " 'la',\n",
       " 'liberté',\n",
       " 'expression',\n",
       " 'sur',\n",
       " 'internet',\n",
       " 'après',\n",
       " 'tout',\n",
       " 'comment',\n",
       " 'réussir',\n",
       " 'vous',\n",
       " 'mettre',\n",
       " 'fin',\n",
       " 'une',\n",
       " 'guerre',\n",
       " 'si',\n",
       " 'les',\n",
       " 'gens',\n",
       " 'être',\n",
       " 'amener',\n",
       " 'croire',\n",
       " 'que',\n",
       " 'la',\n",
       " 'raison',\n",
       " 'de',\n",
       " 'son',\n",
       " 'existence',\n",
       " 'est',\n",
       " 'non',\n",
       " 'seulement',\n",
       " 'légal',\n",
       " 'mais',\n",
       " 'noble',\n",
       " 'elle',\n",
       " 'demander',\n",
       " 'faire',\n",
       " 'référence']"
      ]
     },
     "execution_count": 12,
     "metadata": {},
     "output_type": "execute_result"
    }
   ],
   "source": [
    "lemmas_1[0:200]\n"
   ]
  },
  {
   "cell_type": "code",
   "execution_count": 8,
   "id": "a9154d28",
   "metadata": {},
   "outputs": [
    {
     "data": {
      "text/plain": [
       "16820"
      ]
     },
     "execution_count": 8,
     "metadata": {},
     "output_type": "execute_result"
    }
   ],
   "source": [
    "len(ignore_words)"
   ]
  },
  {
   "cell_type": "markdown",
   "id": "76996d3a",
   "metadata": {},
   "source": [
    "## Sauvegarde des résultats\n",
    "---"
   ]
  },
  {
   "cell_type": "code",
   "execution_count": null,
   "id": "827f60e3",
   "metadata": {},
   "outputs": [],
   "source": []
  },
  {
   "cell_type": "markdown",
   "id": "fb7949bc",
   "metadata": {},
   "source": [
    "## Conclusions\n",
    "---"
   ]
  },
  {
   "cell_type": "markdown",
   "id": "bd06b261",
   "metadata": {},
   "source": [
    "- Résultat : OK"
   ]
  },
  {
   "cell_type": "markdown",
   "id": "bd360655",
   "metadata": {},
   "source": [
    "## Bricolages\n",
    "---"
   ]
  },
  {
   "cell_type": "code",
   "execution_count": null,
   "id": "3076f1c3",
   "metadata": {},
   "outputs": [],
   "source": []
  }
 ],
 "metadata": {
  "kernelspec": {
   "display_name": "Python 3 (ipykernel)",
   "language": "python",
   "name": "python3"
  },
  "language_info": {
   "codemirror_mode": {
    "name": "ipython",
    "version": 3
   },
   "file_extension": ".py",
   "mimetype": "text/x-python",
   "name": "python",
   "nbconvert_exporter": "python",
   "pygments_lexer": "ipython3",
   "version": "3.9.13"
  }
 },
 "nbformat": 4,
 "nbformat_minor": 5
}
