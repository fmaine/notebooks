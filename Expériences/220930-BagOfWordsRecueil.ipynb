{
 "cells": [
  {
   "cell_type": "markdown",
   "id": "4644e0f8",
   "metadata": {},
   "source": [
    "# Bag Of Words sur le Recueil"
   ]
  },
  {
   "cell_type": "code",
   "execution_count": 1,
   "id": "5d0de4d7",
   "metadata": {},
   "outputs": [
    {
     "name": "stdout",
     "output_type": "stream",
     "text": [
      "/Users/fm/Desktop/Work/Patat\n"
     ]
    }
   ],
   "source": [
    "cd ../.."
   ]
  },
  {
   "cell_type": "code",
   "execution_count": 2,
   "id": "32256b0d",
   "metadata": {},
   "outputs": [],
   "source": [
    "import pandas as pd"
   ]
  },
  {
   "cell_type": "markdown",
   "id": "de6dc21a",
   "metadata": {},
   "source": [
    "## Chargement Corpus \n",
    "---"
   ]
  },
  {
   "cell_type": "code",
   "execution_count": 3,
   "id": "05cde00c",
   "metadata": {},
   "outputs": [],
   "source": [
    "corpus_filename = '220930-RecueilComplet.csv'"
   ]
  },
  {
   "cell_type": "code",
   "execution_count": 4,
   "id": "82c08337",
   "metadata": {},
   "outputs": [],
   "source": [
    "df_corpus = pd.read_csv(f'data/corpus/{corpus_filename}')"
   ]
  },
  {
   "cell_type": "code",
   "execution_count": 5,
   "id": "8fd91e32",
   "metadata": {},
   "outputs": [],
   "source": [
    "df_corpus = df_corpus[df_corpus['parse_method']=='parse']"
   ]
  },
  {
   "cell_type": "code",
   "execution_count": 6,
   "id": "fb4c729d",
   "metadata": {},
   "outputs": [
    {
     "data": {
      "text/html": [
       "<div>\n",
       "<style scoped>\n",
       "    .dataframe tbody tr th:only-of-type {\n",
       "        vertical-align: middle;\n",
       "    }\n",
       "\n",
       "    .dataframe tbody tr th {\n",
       "        vertical-align: top;\n",
       "    }\n",
       "\n",
       "    .dataframe thead th {\n",
       "        text-align: right;\n",
       "    }\n",
       "</style>\n",
       "<table border=\"1\" class=\"dataframe\">\n",
       "  <thead>\n",
       "    <tr style=\"text-align: right;\">\n",
       "      <th></th>\n",
       "      <th>url</th>\n",
       "      <th>title</th>\n",
       "      <th>article</th>\n",
       "      <th>parse_method</th>\n",
       "      <th>date</th>\n",
       "      <th>tag</th>\n",
       "      <th>abstract</th>\n",
       "      <th>author</th>\n",
       "      <th>date_iso</th>\n",
       "      <th>words</th>\n",
       "      <th>...</th>\n",
       "      <th>des pages et des pages</th>\n",
       "      <th>des chiffres et des tableaux</th>\n",
       "      <th>sophisme</th>\n",
       "      <th>inversion de la preuve</th>\n",
       "      <th>invérifiable</th>\n",
       "      <th>propos rapporté</th>\n",
       "      <th>sources citées</th>\n",
       "      <th>titre décalé</th>\n",
       "      <th>site</th>\n",
       "      <th>text</th>\n",
       "    </tr>\n",
       "  </thead>\n",
       "  <tbody>\n",
       "    <tr>\n",
       "      <th>2</th>\n",
       "      <td>https://www.breizh-info.com/2022/02/23/180457/...</td>\n",
       "      <td>Tests – vaccins – pass : fabrique de la paniqu...</td>\n",
       "      <td>Cela fait 2 ans que la crise du coronavirus a ...</td>\n",
       "      <td>parse</td>\n",
       "      <td>Le \\n\\t\\t\\t\\t\\t\\t\\t\\t\\t\\t23 février 2022</td>\n",
       "      <td>['Santé', 'covid', 'crise', \"décoder l'éco\", '...</td>\n",
       "      <td>NaN</td>\n",
       "      <td>NaN</td>\n",
       "      <td>2022-02-23T00:00:00</td>\n",
       "      <td>NaN</td>\n",
       "      <td>...</td>\n",
       "      <td>0.0</td>\n",
       "      <td>0.0</td>\n",
       "      <td>1.0</td>\n",
       "      <td>0.0</td>\n",
       "      <td>1.0</td>\n",
       "      <td>0.0</td>\n",
       "      <td>0.0</td>\n",
       "      <td>1.0</td>\n",
       "      <td>www.breizh-info.com</td>\n",
       "      <td>Tests – vaccins – pass : fabrique de la paniqu...</td>\n",
       "    </tr>\n",
       "    <tr>\n",
       "      <th>3</th>\n",
       "      <td>https://www.breizh-info.com/2022/02/20/180182/...</td>\n",
       "      <td>Covid-19. La pandémie et les vaccins, pour mie...</td>\n",
       "      <td>Ces dernières semaines, le monde entier a prêt...</td>\n",
       "      <td>parse</td>\n",
       "      <td>Le \\n\\t\\t\\t\\t\\t\\t\\t\\t\\t\\t20 février 2022</td>\n",
       "      <td>['A La Une', 'Santé', \"coup d'etat mondial\", '...</td>\n",
       "      <td>NaN</td>\n",
       "      <td>NaN</td>\n",
       "      <td>2022-02-20T00:00:00</td>\n",
       "      <td>NaN</td>\n",
       "      <td>...</td>\n",
       "      <td>0.0</td>\n",
       "      <td>0.0</td>\n",
       "      <td>1.0</td>\n",
       "      <td>0.0</td>\n",
       "      <td>1.0</td>\n",
       "      <td>1.0</td>\n",
       "      <td>0.0</td>\n",
       "      <td>0.0</td>\n",
       "      <td>www.breizh-info.com</td>\n",
       "      <td>Covid-19. La pandémie et les vaccins, pour mie...</td>\n",
       "    </tr>\n",
       "    <tr>\n",
       "      <th>4</th>\n",
       "      <td>https://www.breizh-info.com/2022/04/19/185260/...</td>\n",
       "      <td>Covid-19. Une épidémie quasiment terminée avan...</td>\n",
       "      <td>Voici mon avant dernier bulletin de situation ...</td>\n",
       "      <td>parse</td>\n",
       "      <td>Le \\n\\t\\t\\t\\t\\t\\t\\t\\t\\t\\t19 avril 2022</td>\n",
       "      <td>['A La Une', 'Santé', 'COVID-19', 'epidemie', ...</td>\n",
       "      <td>NaN</td>\n",
       "      <td>NaN</td>\n",
       "      <td>2022-04-19T00:00:00</td>\n",
       "      <td>NaN</td>\n",
       "      <td>...</td>\n",
       "      <td>1.0</td>\n",
       "      <td>1.0</td>\n",
       "      <td>1.0</td>\n",
       "      <td>0.0</td>\n",
       "      <td>1.0</td>\n",
       "      <td>1.0</td>\n",
       "      <td>0.0</td>\n",
       "      <td>0.0</td>\n",
       "      <td>www.breizh-info.com</td>\n",
       "      <td>Covid-19. Une épidémie quasiment terminée avan...</td>\n",
       "    </tr>\n",
       "    <tr>\n",
       "      <th>5</th>\n",
       "      <td>https://www.breizh-info.com/2022/04/15/184984/...</td>\n",
       "      <td>Piscine, voile, ramadan : scènes de la vie ord...</td>\n",
       "      <td>On a beaucoup parlé du Grand remplacement dura...</td>\n",
       "      <td>parse</td>\n",
       "      <td>Le \\n\\t\\t\\t\\t\\t\\t\\t\\t\\t\\t15 avril 2022</td>\n",
       "      <td>['Education', 'Société', 'burkini', 'hallal', ...</td>\n",
       "      <td>NaN</td>\n",
       "      <td>NaN</td>\n",
       "      <td>2022-04-15T00:00:00</td>\n",
       "      <td>NaN</td>\n",
       "      <td>...</td>\n",
       "      <td>0.0</td>\n",
       "      <td>0.0</td>\n",
       "      <td>0.0</td>\n",
       "      <td>0.0</td>\n",
       "      <td>1.0</td>\n",
       "      <td>1.0</td>\n",
       "      <td>0.0</td>\n",
       "      <td>0.0</td>\n",
       "      <td>www.breizh-info.com</td>\n",
       "      <td>Piscine, voile, ramadan : scènes de la vie ord...</td>\n",
       "    </tr>\n",
       "    <tr>\n",
       "      <th>6</th>\n",
       "      <td>https://www.breizh-info.com/2021/11/02/173738/...</td>\n",
       "      <td>Faut-il vous métisser comme le suggère la pres...</td>\n",
       "      <td>Comme nous le verrons dans l’ensemble des étud...</td>\n",
       "      <td>parse</td>\n",
       "      <td>Le \\n\\t\\t\\t\\t\\t\\t\\t\\t\\t\\t2 novembre 2021</td>\n",
       "      <td>['Sciences', 'métis', 'metissage', 'race']</td>\n",
       "      <td>NaN</td>\n",
       "      <td>NaN</td>\n",
       "      <td>2021-11-02T00:00:00</td>\n",
       "      <td>NaN</td>\n",
       "      <td>...</td>\n",
       "      <td>1.0</td>\n",
       "      <td>1.0</td>\n",
       "      <td>1.0</td>\n",
       "      <td>0.0</td>\n",
       "      <td>0.0</td>\n",
       "      <td>0.0</td>\n",
       "      <td>1.0</td>\n",
       "      <td>0.0</td>\n",
       "      <td>www.breizh-info.com</td>\n",
       "      <td>Faut-il vous métisser comme le suggère la pres...</td>\n",
       "    </tr>\n",
       "    <tr>\n",
       "      <th>...</th>\n",
       "      <td>...</td>\n",
       "      <td>...</td>\n",
       "      <td>...</td>\n",
       "      <td>...</td>\n",
       "      <td>...</td>\n",
       "      <td>...</td>\n",
       "      <td>...</td>\n",
       "      <td>...</td>\n",
       "      <td>...</td>\n",
       "      <td>...</td>\n",
       "      <td>...</td>\n",
       "      <td>...</td>\n",
       "      <td>...</td>\n",
       "      <td>...</td>\n",
       "      <td>...</td>\n",
       "      <td>...</td>\n",
       "      <td>...</td>\n",
       "      <td>...</td>\n",
       "      <td>...</td>\n",
       "      <td>...</td>\n",
       "      <td>...</td>\n",
       "    </tr>\n",
       "    <tr>\n",
       "      <th>463</th>\n",
       "      <td>https://www.wikistrike.com/2022/08/fresne-cett...</td>\n",
       "      <td>Fresnes: cette prison où les condamnés finisse...</td>\n",
       "      <td>Cette photo est une erreur \\n\\nEt nul n'est au...</td>\n",
       "      <td>parse</td>\n",
       "      <td>Publié par wikistrike.com\\n                   ...</td>\n",
       "      <td>[]</td>\n",
       "      <td>NaN</td>\n",
       "      <td>NaN</td>\n",
       "      <td>2022-08-21T00:00:00</td>\n",
       "      <td>NaN</td>\n",
       "      <td>...</td>\n",
       "      <td>0.0</td>\n",
       "      <td>0.0</td>\n",
       "      <td>0.0</td>\n",
       "      <td>0.0</td>\n",
       "      <td>0.0</td>\n",
       "      <td>1.0</td>\n",
       "      <td>1.0</td>\n",
       "      <td>0.0</td>\n",
       "      <td>www.wikistrike.com</td>\n",
       "      <td>Fresnes: cette prison où les condamnés finisse...</td>\n",
       "    </tr>\n",
       "    <tr>\n",
       "      <th>464</th>\n",
       "      <td>https://www.wikistrike.com/2022/08/le-forum-ec...</td>\n",
       "      <td>Le Forum économique mondial estime qu’il exist...</td>\n",
       "      <td>Ne trahissant pas sa réputation de méchant d’u...</td>\n",
       "      <td>parse</td>\n",
       "      <td>Publié par wikistrike.com\\n                   ...</td>\n",
       "      <td>[]</td>\n",
       "      <td>NaN</td>\n",
       "      <td>NaN</td>\n",
       "      <td>2022-08-23T00:00:00</td>\n",
       "      <td>NaN</td>\n",
       "      <td>...</td>\n",
       "      <td>0.0</td>\n",
       "      <td>0.0</td>\n",
       "      <td>0.0</td>\n",
       "      <td>0.0</td>\n",
       "      <td>0.0</td>\n",
       "      <td>1.0</td>\n",
       "      <td>1.0</td>\n",
       "      <td>0.0</td>\n",
       "      <td>www.wikistrike.com</td>\n",
       "      <td>Le Forum économique mondial estime qu’il exist...</td>\n",
       "    </tr>\n",
       "    <tr>\n",
       "      <th>465</th>\n",
       "      <td>https://www.wikistrike.com/2022/08/le-masque-r...</td>\n",
       "      <td>Le masque réduit les infections COVID de 0,06%</td>\n",
       "      <td>par Collectif Reinfocovid.\\nCet article illust...</td>\n",
       "      <td>parse</td>\n",
       "      <td>Publié par wikistrike.com\\n                   ...</td>\n",
       "      <td>[]</td>\n",
       "      <td>NaN</td>\n",
       "      <td>NaN</td>\n",
       "      <td>2022-08-24T00:00:00</td>\n",
       "      <td>NaN</td>\n",
       "      <td>...</td>\n",
       "      <td>0.0</td>\n",
       "      <td>1.0</td>\n",
       "      <td>0.0</td>\n",
       "      <td>0.0</td>\n",
       "      <td>0.0</td>\n",
       "      <td>0.0</td>\n",
       "      <td>0.0</td>\n",
       "      <td>0.0</td>\n",
       "      <td>www.wikistrike.com</td>\n",
       "      <td>Le masque réduit les infections COVID de 0,06%...</td>\n",
       "    </tr>\n",
       "    <tr>\n",
       "      <th>466</th>\n",
       "      <td>https://www.wikistrike.com/2022/08/l-un-des-pl...</td>\n",
       "      <td>L’un des plus grands complexes mégalithiques d...</td>\n",
       "      <td>En Espagne, le site d’une future plantation d’...</td>\n",
       "      <td>parse</td>\n",
       "      <td>Publié par wikistrike.com\\n                   ...</td>\n",
       "      <td>[]</td>\n",
       "      <td>NaN</td>\n",
       "      <td>NaN</td>\n",
       "      <td>2022-08-24T00:00:00</td>\n",
       "      <td>NaN</td>\n",
       "      <td>...</td>\n",
       "      <td>0.0</td>\n",
       "      <td>0.0</td>\n",
       "      <td>0.0</td>\n",
       "      <td>0.0</td>\n",
       "      <td>0.0</td>\n",
       "      <td>0.0</td>\n",
       "      <td>1.0</td>\n",
       "      <td>0.0</td>\n",
       "      <td>www.wikistrike.com</td>\n",
       "      <td>L’un des plus grands complexes mégalithiques d...</td>\n",
       "    </tr>\n",
       "    <tr>\n",
       "      <th>467</th>\n",
       "      <td>https://www.wikistrike.com/2022/09/les-command...</td>\n",
       "      <td>Les commandos ukrainiens qui ont attaqué la ce...</td>\n",
       "      <td>(!) Source russe \\n\\n\\nLes quelques unités de ...</td>\n",
       "      <td>parse</td>\n",
       "      <td>Publié par wikistrike.com\\n                   ...</td>\n",
       "      <td>[]</td>\n",
       "      <td>NaN</td>\n",
       "      <td>NaN</td>\n",
       "      <td>2022-09-02T00:00:00</td>\n",
       "      <td>NaN</td>\n",
       "      <td>...</td>\n",
       "      <td>0.0</td>\n",
       "      <td>0.0</td>\n",
       "      <td>0.0</td>\n",
       "      <td>1.0</td>\n",
       "      <td>1.0</td>\n",
       "      <td>1.0</td>\n",
       "      <td>1.0</td>\n",
       "      <td>0.0</td>\n",
       "      <td>www.wikistrike.com</td>\n",
       "      <td>Les commandos ukrainiens qui ont attaqué la ce...</td>\n",
       "    </tr>\n",
       "  </tbody>\n",
       "</table>\n",
       "<p>443 rows × 31 columns</p>\n",
       "</div>"
      ],
      "text/plain": [
       "                                                   url  \\\n",
       "2    https://www.breizh-info.com/2022/02/23/180457/...   \n",
       "3    https://www.breizh-info.com/2022/02/20/180182/...   \n",
       "4    https://www.breizh-info.com/2022/04/19/185260/...   \n",
       "5    https://www.breizh-info.com/2022/04/15/184984/...   \n",
       "6    https://www.breizh-info.com/2021/11/02/173738/...   \n",
       "..                                                 ...   \n",
       "463  https://www.wikistrike.com/2022/08/fresne-cett...   \n",
       "464  https://www.wikistrike.com/2022/08/le-forum-ec...   \n",
       "465  https://www.wikistrike.com/2022/08/le-masque-r...   \n",
       "466  https://www.wikistrike.com/2022/08/l-un-des-pl...   \n",
       "467  https://www.wikistrike.com/2022/09/les-command...   \n",
       "\n",
       "                                                 title  \\\n",
       "2    Tests – vaccins – pass : fabrique de la paniqu...   \n",
       "3    Covid-19. La pandémie et les vaccins, pour mie...   \n",
       "4    Covid-19. Une épidémie quasiment terminée avan...   \n",
       "5    Piscine, voile, ramadan : scènes de la vie ord...   \n",
       "6    Faut-il vous métisser comme le suggère la pres...   \n",
       "..                                                 ...   \n",
       "463  Fresnes: cette prison où les condamnés finisse...   \n",
       "464  Le Forum économique mondial estime qu’il exist...   \n",
       "465     Le masque réduit les infections COVID de 0,06%   \n",
       "466  L’un des plus grands complexes mégalithiques d...   \n",
       "467  Les commandos ukrainiens qui ont attaqué la ce...   \n",
       "\n",
       "                                               article parse_method  \\\n",
       "2    Cela fait 2 ans que la crise du coronavirus a ...        parse   \n",
       "3    Ces dernières semaines, le monde entier a prêt...        parse   \n",
       "4    Voici mon avant dernier bulletin de situation ...        parse   \n",
       "5    On a beaucoup parlé du Grand remplacement dura...        parse   \n",
       "6    Comme nous le verrons dans l’ensemble des étud...        parse   \n",
       "..                                                 ...          ...   \n",
       "463  Cette photo est une erreur \\n\\nEt nul n'est au...        parse   \n",
       "464  Ne trahissant pas sa réputation de méchant d’u...        parse   \n",
       "465  par Collectif Reinfocovid.\\nCet article illust...        parse   \n",
       "466  En Espagne, le site d’une future plantation d’...        parse   \n",
       "467  (!) Source russe \\n\\n\\nLes quelques unités de ...        parse   \n",
       "\n",
       "                                                  date  \\\n",
       "2             Le \\n\\t\\t\\t\\t\\t\\t\\t\\t\\t\\t23 février 2022   \n",
       "3             Le \\n\\t\\t\\t\\t\\t\\t\\t\\t\\t\\t20 février 2022   \n",
       "4               Le \\n\\t\\t\\t\\t\\t\\t\\t\\t\\t\\t19 avril 2022   \n",
       "5               Le \\n\\t\\t\\t\\t\\t\\t\\t\\t\\t\\t15 avril 2022   \n",
       "6             Le \\n\\t\\t\\t\\t\\t\\t\\t\\t\\t\\t2 novembre 2021   \n",
       "..                                                 ...   \n",
       "463  Publié par wikistrike.com\\n                   ...   \n",
       "464  Publié par wikistrike.com\\n                   ...   \n",
       "465  Publié par wikistrike.com\\n                   ...   \n",
       "466  Publié par wikistrike.com\\n                   ...   \n",
       "467  Publié par wikistrike.com\\n                   ...   \n",
       "\n",
       "                                                   tag abstract author  \\\n",
       "2    ['Santé', 'covid', 'crise', \"décoder l'éco\", '...      NaN    NaN   \n",
       "3    ['A La Une', 'Santé', \"coup d'etat mondial\", '...      NaN    NaN   \n",
       "4    ['A La Une', 'Santé', 'COVID-19', 'epidemie', ...      NaN    NaN   \n",
       "5    ['Education', 'Société', 'burkini', 'hallal', ...      NaN    NaN   \n",
       "6           ['Sciences', 'métis', 'metissage', 'race']      NaN    NaN   \n",
       "..                                                 ...      ...    ...   \n",
       "463                                                 []      NaN    NaN   \n",
       "464                                                 []      NaN    NaN   \n",
       "465                                                 []      NaN    NaN   \n",
       "466                                                 []      NaN    NaN   \n",
       "467                                                 []      NaN    NaN   \n",
       "\n",
       "                date_iso  words  ...  des pages et des pages  \\\n",
       "2    2022-02-23T00:00:00    NaN  ...                     0.0   \n",
       "3    2022-02-20T00:00:00    NaN  ...                     0.0   \n",
       "4    2022-04-19T00:00:00    NaN  ...                     1.0   \n",
       "5    2022-04-15T00:00:00    NaN  ...                     0.0   \n",
       "6    2021-11-02T00:00:00    NaN  ...                     1.0   \n",
       "..                   ...    ...  ...                     ...   \n",
       "463  2022-08-21T00:00:00    NaN  ...                     0.0   \n",
       "464  2022-08-23T00:00:00    NaN  ...                     0.0   \n",
       "465  2022-08-24T00:00:00    NaN  ...                     0.0   \n",
       "466  2022-08-24T00:00:00    NaN  ...                     0.0   \n",
       "467  2022-09-02T00:00:00    NaN  ...                     0.0   \n",
       "\n",
       "     des chiffres et des tableaux  sophisme  inversion de la preuve  \\\n",
       "2                             0.0       1.0                     0.0   \n",
       "3                             0.0       1.0                     0.0   \n",
       "4                             1.0       1.0                     0.0   \n",
       "5                             0.0       0.0                     0.0   \n",
       "6                             1.0       1.0                     0.0   \n",
       "..                            ...       ...                     ...   \n",
       "463                           0.0       0.0                     0.0   \n",
       "464                           0.0       0.0                     0.0   \n",
       "465                           1.0       0.0                     0.0   \n",
       "466                           0.0       0.0                     0.0   \n",
       "467                           0.0       0.0                     1.0   \n",
       "\n",
       "     invérifiable  propos rapporté  sources citées  titre décalé  \\\n",
       "2             1.0              0.0             0.0           1.0   \n",
       "3             1.0              1.0             0.0           0.0   \n",
       "4             1.0              1.0             0.0           0.0   \n",
       "5             1.0              1.0             0.0           0.0   \n",
       "6             0.0              0.0             1.0           0.0   \n",
       "..            ...              ...             ...           ...   \n",
       "463           0.0              1.0             1.0           0.0   \n",
       "464           0.0              1.0             1.0           0.0   \n",
       "465           0.0              0.0             0.0           0.0   \n",
       "466           0.0              0.0             1.0           0.0   \n",
       "467           1.0              1.0             1.0           0.0   \n",
       "\n",
       "                    site                                               text  \n",
       "2    www.breizh-info.com  Tests – vaccins – pass : fabrique de la paniqu...  \n",
       "3    www.breizh-info.com  Covid-19. La pandémie et les vaccins, pour mie...  \n",
       "4    www.breizh-info.com  Covid-19. Une épidémie quasiment terminée avan...  \n",
       "5    www.breizh-info.com  Piscine, voile, ramadan : scènes de la vie ord...  \n",
       "6    www.breizh-info.com  Faut-il vous métisser comme le suggère la pres...  \n",
       "..                   ...                                                ...  \n",
       "463   www.wikistrike.com  Fresnes: cette prison où les condamnés finisse...  \n",
       "464   www.wikistrike.com  Le Forum économique mondial estime qu’il exist...  \n",
       "465   www.wikistrike.com  Le masque réduit les infections COVID de 0,06%...  \n",
       "466   www.wikistrike.com  L’un des plus grands complexes mégalithiques d...  \n",
       "467   www.wikistrike.com  Les commandos ukrainiens qui ont attaqué la ce...  \n",
       "\n",
       "[443 rows x 31 columns]"
      ]
     },
     "execution_count": 6,
     "metadata": {},
     "output_type": "execute_result"
    }
   ],
   "source": [
    "df_corpus"
   ]
  },
  {
   "cell_type": "markdown",
   "id": "26de4d29",
   "metadata": {},
   "source": [
    "## Mots non signifiants\n",
    "---"
   ]
  },
  {
   "cell_type": "code",
   "execution_count": 7,
   "id": "2086060b",
   "metadata": {},
   "outputs": [],
   "source": [
    "import patat.ml.lex_analyser\n",
    "\n",
    "lex = patat.ml.lex_analyser.LexAnalyser()\n",
    "\n",
    "def merge_texts(texts):\n",
    "    result = ''\n",
    "    for text in texts:\n",
    "        result = result + text + '\\n'\n",
    "    return result\n",
    "\n",
    "def count_words_label(df,label):\n",
    "    df_texts = pd.pivot_table(df, values='text', index=None, columns=label, aggfunc=merge_texts)\n",
    "    wc = {}\n",
    "    word_analysis = {}\n",
    "    for key in df_texts.keys():\n",
    "        text = df_texts[key]['text']\n",
    "        count_colname = label+'_'+str(key)\n",
    "        wc[key] = lex.count_tokens(lex.get_words(text))\n",
    "        for word in wc[key]:\n",
    "            word_dic = word_analysis.get(word,{})\n",
    "            word_dic[count_colname]=wc[key][word]\n",
    "            word_analysis[word]=word_dic\n",
    "    return word_analysis"
   ]
  },
  {
   "cell_type": "code",
   "execution_count": 8,
   "id": "3e6b0a8a",
   "metadata": {},
   "outputs": [],
   "source": [
    "df_count = pd.DataFrame(count_words_label(df_corpus,'infox')).T\n",
    "df_count = df_count.fillna(0)"
   ]
  },
  {
   "cell_type": "code",
   "execution_count": 9,
   "id": "c1ac0f3e",
   "metadata": {},
   "outputs": [
    {
     "data": {
      "text/plain": [
       "(34238, 2)"
      ]
     },
     "execution_count": 9,
     "metadata": {},
     "output_type": "execute_result"
    }
   ],
   "source": [
    "df_count.shape"
   ]
  },
  {
   "cell_type": "code",
   "execution_count": 10,
   "id": "8a1f7329",
   "metadata": {},
   "outputs": [
    {
     "data": {
      "text/html": [
       "<div>\n",
       "<style scoped>\n",
       "    .dataframe tbody tr th:only-of-type {\n",
       "        vertical-align: middle;\n",
       "    }\n",
       "\n",
       "    .dataframe tbody tr th {\n",
       "        vertical-align: top;\n",
       "    }\n",
       "\n",
       "    .dataframe thead th {\n",
       "        text-align: right;\n",
       "    }\n",
       "</style>\n",
       "<table border=\"1\" class=\"dataframe\">\n",
       "  <thead>\n",
       "    <tr style=\"text-align: right;\">\n",
       "      <th></th>\n",
       "      <th>infox_0.0</th>\n",
       "      <th>infox_1.0</th>\n",
       "    </tr>\n",
       "  </thead>\n",
       "  <tbody>\n",
       "    <tr>\n",
       "      <th>rennes</th>\n",
       "      <td>24.0</td>\n",
       "      <td>6.0</td>\n",
       "    </tr>\n",
       "    <tr>\n",
       "      <th>reprise</th>\n",
       "      <td>10.0</td>\n",
       "      <td>8.0</td>\n",
       "    </tr>\n",
       "    <tr>\n",
       "      <th>des</th>\n",
       "      <td>3173.0</td>\n",
       "      <td>6186.0</td>\n",
       "    </tr>\n",
       "    <tr>\n",
       "      <th>vols</th>\n",
       "      <td>17.0</td>\n",
       "      <td>13.0</td>\n",
       "    </tr>\n",
       "    <tr>\n",
       "      <th>commerciaux</th>\n",
       "      <td>12.0</td>\n",
       "      <td>7.0</td>\n",
       "    </tr>\n",
       "    <tr>\n",
       "      <th>...</th>\n",
       "      <td>...</td>\n",
       "      <td>...</td>\n",
       "    </tr>\n",
       "    <tr>\n",
       "      <th>rogov</th>\n",
       "      <td>0.0</td>\n",
       "      <td>1.0</td>\n",
       "    </tr>\n",
       "    <tr>\n",
       "      <th>dniepropietrovsk</th>\n",
       "      <td>0.0</td>\n",
       "      <td>1.0</td>\n",
       "    </tr>\n",
       "    <tr>\n",
       "      <th>energodar</th>\n",
       "      <td>0.0</td>\n",
       "      <td>1.0</td>\n",
       "    </tr>\n",
       "    <tr>\n",
       "      <th>barges</th>\n",
       "      <td>0.0</td>\n",
       "      <td>1.0</td>\n",
       "    </tr>\n",
       "    <tr>\n",
       "      <th>coulées</th>\n",
       "      <td>0.0</td>\n",
       "      <td>1.0</td>\n",
       "    </tr>\n",
       "  </tbody>\n",
       "</table>\n",
       "<p>34238 rows × 2 columns</p>\n",
       "</div>"
      ],
      "text/plain": [
       "                  infox_0.0  infox_1.0\n",
       "rennes                 24.0        6.0\n",
       "reprise                10.0        8.0\n",
       "des                  3173.0     6186.0\n",
       "vols                   17.0       13.0\n",
       "commerciaux            12.0        7.0\n",
       "...                     ...        ...\n",
       "rogov                   0.0        1.0\n",
       "dniepropietrovsk        0.0        1.0\n",
       "energodar               0.0        1.0\n",
       "barges                  0.0        1.0\n",
       "coulées                 0.0        1.0\n",
       "\n",
       "[34238 rows x 2 columns]"
      ]
     },
     "execution_count": 10,
     "metadata": {},
     "output_type": "execute_result"
    }
   ],
   "source": [
    "df_count"
   ]
  },
  {
   "cell_type": "markdown",
   "id": "2a66b3c3",
   "metadata": {},
   "source": [
    "### Identification des mots rares"
   ]
  },
  {
   "cell_type": "code",
   "execution_count": 11,
   "id": "fb72e261",
   "metadata": {},
   "outputs": [],
   "source": [
    "occ_rare = 3\n",
    "def is_rare(row):\n",
    "    return row['infox_0.0'] < occ_rare and row['infox_1.0'] < occ_rare\n",
    "\n",
    "df_rare = df_count[df_count.apply(is_rare,axis=1)]"
   ]
  },
  {
   "cell_type": "code",
   "execution_count": 12,
   "id": "d5a415ac",
   "metadata": {},
   "outputs": [
    {
     "data": {
      "text/plain": [
       "22646"
      ]
     },
     "execution_count": 12,
     "metadata": {},
     "output_type": "execute_result"
    }
   ],
   "source": [
    "rare_words = list(df_rare.index)\n",
    "len(rare_words)"
   ]
  },
  {
   "cell_type": "markdown",
   "id": "694bb762",
   "metadata": {},
   "source": [
    "### Identification des mots communs"
   ]
  },
  {
   "cell_type": "code",
   "execution_count": 13,
   "id": "2038daa8",
   "metadata": {},
   "outputs": [
    {
     "data": {
      "text/plain": [
       "88"
      ]
     },
     "execution_count": 13,
     "metadata": {},
     "output_type": "execute_result"
    }
   ],
   "source": [
    "common_size = 100\n",
    "top_0 = df_count.sort_values('infox_0.0',ascending=False).head(common_size).index\n",
    "top_1 = df_count.sort_values('infox_1.0',ascending=False).head(common_size).index\n",
    "common_words = []\n",
    "for word in top_0:\n",
    "    if word in top_1:\n",
    "        common_words.append(word)\n",
    "len(common_words)"
   ]
  },
  {
   "cell_type": "code",
   "execution_count": 14,
   "id": "ba193d35",
   "metadata": {},
   "outputs": [
    {
     "data": {
      "text/plain": [
       "['de',\n",
       " 'la',\n",
       " 'le',\n",
       " 'les',\n",
       " 'et',\n",
       " 'des',\n",
       " 'en',\n",
       " 'un',\n",
       " 'du',\n",
       " 'est',\n",
       " 'une',\n",
       " 'que',\n",
       " 'pour',\n",
       " 'dans',\n",
       " 'qui',\n",
       " 'il',\n",
       " 'par',\n",
       " 'sur',\n",
       " 'au',\n",
       " 'pas',\n",
       " 'plus',\n",
       " 'ce',\n",
       " 'ne',\n",
       " 'qu',\n",
       " 'se',\n",
       " 'ont',\n",
       " 'avec',\n",
       " 'sont',\n",
       " 'ou',\n",
       " 'son',\n",
       " 'été',\n",
       " 'nous',\n",
       " 'aux',\n",
       " 'mais',\n",
       " 'comme',\n",
       " 'cette',\n",
       " 'on',\n",
       " 'pays',\n",
       " 'elle',\n",
       " 'fait',\n",
       " 'être',\n",
       " 'tout',\n",
       " 'ces',\n",
       " 'même',\n",
       " 'leur',\n",
       " 'aussi',\n",
       " 'sa',\n",
       " 'si',\n",
       " 'monde',\n",
       " 'ses',\n",
       " 'contre',\n",
       " 'sans',\n",
       " 'bien',\n",
       " 'vous',\n",
       " 'ils',\n",
       " 'faire',\n",
       " 'depuis',\n",
       " 'je',\n",
       " 'russie',\n",
       " 'deux',\n",
       " 'après',\n",
       " 'entre',\n",
       " 'avait',\n",
       " 'guerre',\n",
       " 'non',\n",
       " 'ukraine',\n",
       " 'autres',\n",
       " 'peut',\n",
       " 'covid',\n",
       " 'était',\n",
       " 'selon',\n",
       " 'avoir',\n",
       " 'ans',\n",
       " 'tous',\n",
       " 'cela',\n",
       " 'où',\n",
       " 'alors',\n",
       " 'leurs',\n",
       " 'encore',\n",
       " 'très',\n",
       " 'moins',\n",
       " 'dont',\n",
       " 'états',\n",
       " 'autre',\n",
       " 'également',\n",
       " 'état',\n",
       " 'cas',\n",
       " 'soit']"
      ]
     },
     "execution_count": 14,
     "metadata": {},
     "output_type": "execute_result"
    }
   ],
   "source": [
    "common_words"
   ]
  },
  {
   "cell_type": "code",
   "execution_count": 15,
   "id": "5c1746d0",
   "metadata": {},
   "outputs": [],
   "source": [
    "ignore_words = common_words + rare_words"
   ]
  },
  {
   "cell_type": "markdown",
   "id": "d6d6bc36",
   "metadata": {},
   "source": [
    "## Count Vectorizer\n",
    "---"
   ]
  },
  {
   "cell_type": "code",
   "execution_count": 16,
   "id": "3760bef4",
   "metadata": {},
   "outputs": [],
   "source": [
    "from sklearn.feature_extraction.text import CountVectorizer"
   ]
  },
  {
   "cell_type": "code",
   "execution_count": 17,
   "id": "311313c0",
   "metadata": {},
   "outputs": [],
   "source": [
    "count_vectorizer = CountVectorizer(stop_words=ignore_words)\n",
    "#count_vectorizer = CountVectorizer()"
   ]
  },
  {
   "cell_type": "code",
   "execution_count": 18,
   "id": "fd1b853b",
   "metadata": {},
   "outputs": [],
   "source": [
    "corpus = df_corpus['text']\n",
    "X = count_vectorizer.fit_transform(corpus)\n",
    "y = df_corpus['infox']"
   ]
  },
  {
   "cell_type": "markdown",
   "id": "00f480cd",
   "metadata": {},
   "source": [
    "### Construction des Datasets d'entrainement et de test"
   ]
  },
  {
   "cell_type": "code",
   "execution_count": 44,
   "id": "29c1a7cb",
   "metadata": {},
   "outputs": [],
   "source": [
    "import sklearn.model_selection\n",
    "\n",
    "#X_train,X_test,y_train,y_test = sklearn.model_selection.train_test_split(X,y,train_size=0.8,shuffle=True)\n",
    "X_train,X_test,y_train,y_test = sklearn.model_selection.train_test_split(X,y)"
   ]
  },
  {
   "cell_type": "code",
   "execution_count": 45,
   "id": "9afd44ae",
   "metadata": {},
   "outputs": [
    {
     "data": {
      "text/plain": [
       "332"
      ]
     },
     "execution_count": 45,
     "metadata": {},
     "output_type": "execute_result"
    }
   ],
   "source": [
    "X_train.shape[0]"
   ]
  },
  {
   "cell_type": "markdown",
   "id": "8df9935c",
   "metadata": {},
   "source": [
    "### Entrainement du modele"
   ]
  },
  {
   "cell_type": "code",
   "execution_count": 49,
   "id": "a34e9e64",
   "metadata": {},
   "outputs": [
    {
     "data": {
      "text/html": [
       "<style>#sk-container-id-7 {color: black;background-color: white;}#sk-container-id-7 pre{padding: 0;}#sk-container-id-7 div.sk-toggleable {background-color: white;}#sk-container-id-7 label.sk-toggleable__label {cursor: pointer;display: block;width: 100%;margin-bottom: 0;padding: 0.3em;box-sizing: border-box;text-align: center;}#sk-container-id-7 label.sk-toggleable__label-arrow:before {content: \"▸\";float: left;margin-right: 0.25em;color: #696969;}#sk-container-id-7 label.sk-toggleable__label-arrow:hover:before {color: black;}#sk-container-id-7 div.sk-estimator:hover label.sk-toggleable__label-arrow:before {color: black;}#sk-container-id-7 div.sk-toggleable__content {max-height: 0;max-width: 0;overflow: hidden;text-align: left;background-color: #f0f8ff;}#sk-container-id-7 div.sk-toggleable__content pre {margin: 0.2em;color: black;border-radius: 0.25em;background-color: #f0f8ff;}#sk-container-id-7 input.sk-toggleable__control:checked~div.sk-toggleable__content {max-height: 200px;max-width: 100%;overflow: auto;}#sk-container-id-7 input.sk-toggleable__control:checked~label.sk-toggleable__label-arrow:before {content: \"▾\";}#sk-container-id-7 div.sk-estimator input.sk-toggleable__control:checked~label.sk-toggleable__label {background-color: #d4ebff;}#sk-container-id-7 div.sk-label input.sk-toggleable__control:checked~label.sk-toggleable__label {background-color: #d4ebff;}#sk-container-id-7 input.sk-hidden--visually {border: 0;clip: rect(1px 1px 1px 1px);clip: rect(1px, 1px, 1px, 1px);height: 1px;margin: -1px;overflow: hidden;padding: 0;position: absolute;width: 1px;}#sk-container-id-7 div.sk-estimator {font-family: monospace;background-color: #f0f8ff;border: 1px dotted black;border-radius: 0.25em;box-sizing: border-box;margin-bottom: 0.5em;}#sk-container-id-7 div.sk-estimator:hover {background-color: #d4ebff;}#sk-container-id-7 div.sk-parallel-item::after {content: \"\";width: 100%;border-bottom: 1px solid gray;flex-grow: 1;}#sk-container-id-7 div.sk-label:hover label.sk-toggleable__label {background-color: #d4ebff;}#sk-container-id-7 div.sk-serial::before {content: \"\";position: absolute;border-left: 1px solid gray;box-sizing: border-box;top: 0;bottom: 0;left: 50%;z-index: 0;}#sk-container-id-7 div.sk-serial {display: flex;flex-direction: column;align-items: center;background-color: white;padding-right: 0.2em;padding-left: 0.2em;position: relative;}#sk-container-id-7 div.sk-item {position: relative;z-index: 1;}#sk-container-id-7 div.sk-parallel {display: flex;align-items: stretch;justify-content: center;background-color: white;position: relative;}#sk-container-id-7 div.sk-item::before, #sk-container-id-7 div.sk-parallel-item::before {content: \"\";position: absolute;border-left: 1px solid gray;box-sizing: border-box;top: 0;bottom: 0;left: 50%;z-index: -1;}#sk-container-id-7 div.sk-parallel-item {display: flex;flex-direction: column;z-index: 1;position: relative;background-color: white;}#sk-container-id-7 div.sk-parallel-item:first-child::after {align-self: flex-end;width: 50%;}#sk-container-id-7 div.sk-parallel-item:last-child::after {align-self: flex-start;width: 50%;}#sk-container-id-7 div.sk-parallel-item:only-child::after {width: 0;}#sk-container-id-7 div.sk-dashed-wrapped {border: 1px dashed gray;margin: 0 0.4em 0.5em 0.4em;box-sizing: border-box;padding-bottom: 0.4em;background-color: white;}#sk-container-id-7 div.sk-label label {font-family: monospace;font-weight: bold;display: inline-block;line-height: 1.2em;}#sk-container-id-7 div.sk-label-container {text-align: center;}#sk-container-id-7 div.sk-container {/* jupyter's `normalize.less` sets `[hidden] { display: none; }` but bootstrap.min.css set `[hidden] { display: none !important; }` so we also need the `!important` here to be able to override the default hidden behavior on the sphinx rendered scikit-learn.org. See: https://github.com/scikit-learn/scikit-learn/issues/21755 */display: inline-block !important;position: relative;}#sk-container-id-7 div.sk-text-repr-fallback {display: none;}</style><div id=\"sk-container-id-7\" class=\"sk-top-container\"><div class=\"sk-text-repr-fallback\"><pre>LogisticRegression(max_iter=1000)</pre><b>In a Jupyter environment, please rerun this cell to show the HTML representation or trust the notebook. <br />On GitHub, the HTML representation is unable to render, please try loading this page with nbviewer.org.</b></div><div class=\"sk-container\" hidden><div class=\"sk-item\"><div class=\"sk-estimator sk-toggleable\"><input class=\"sk-toggleable__control sk-hidden--visually\" id=\"sk-estimator-id-7\" type=\"checkbox\" checked><label for=\"sk-estimator-id-7\" class=\"sk-toggleable__label sk-toggleable__label-arrow\">LogisticRegression</label><div class=\"sk-toggleable__content\"><pre>LogisticRegression(max_iter=1000)</pre></div></div></div></div></div>"
      ],
      "text/plain": [
       "LogisticRegression(max_iter=1000)"
      ]
     },
     "execution_count": 49,
     "metadata": {},
     "output_type": "execute_result"
    }
   ],
   "source": [
    "from sklearn.linear_model import LogisticRegression\n",
    "from sklearn import metrics\n",
    "\n",
    "#lr = LogisticRegression(C=100.0, random_state=1, solver='lbfgs', multi_class='ovr', max_iter=1000)\n",
    "cv_lr = LogisticRegression(max_iter=1000)\n",
    "\n",
    "# Fit the model\n",
    "cv_lr.fit(X_train, y_train)\n"
   ]
  },
  {
   "cell_type": "markdown",
   "id": "88c12d7c",
   "metadata": {},
   "source": [
    "### Prédictions"
   ]
  },
  {
   "cell_type": "code",
   "execution_count": 50,
   "id": "9ed43f60",
   "metadata": {},
   "outputs": [],
   "source": [
    "y_pred = cv_lr.predict(X_test)"
   ]
  },
  {
   "cell_type": "markdown",
   "id": "6fe3f290",
   "metadata": {},
   "source": [
    "### Mesure performances"
   ]
  },
  {
   "cell_type": "code",
   "execution_count": 51,
   "id": "559a97ae",
   "metadata": {},
   "outputs": [
    {
     "name": "stdout",
     "output_type": "stream",
     "text": [
      "Matrice de confusion\n",
      "[[44 11]\n",
      " [15 41]]\n",
      "Accuracy score 76.58%\n",
      "Recall score 73.21%\n"
     ]
    }
   ],
   "source": [
    "from sklearn import metrics\n",
    "cnf_matrix = metrics.confusion_matrix(y_test, y_pred)\n",
    "print('Matrice de confusion')\n",
    "print(cnf_matrix)\n",
    "print(f'Accuracy score {metrics.accuracy_score(y_test, y_pred)*100:.2f}%')\n",
    "print(f'Recall score {metrics.recall_score(y_test, y_pred)*100:.2f}%')"
   ]
  },
  {
   "cell_type": "markdown",
   "id": "e956753b",
   "metadata": {},
   "source": [
    "## Tf/Idf Vectorizer\n",
    "---"
   ]
  },
  {
   "cell_type": "code",
   "execution_count": 34,
   "id": "af3509dc",
   "metadata": {},
   "outputs": [
    {
     "data": {
      "text/plain": [
       "<443x35703 sparse matrix of type '<class 'numpy.float64'>'\n",
       "\twith 197956 stored elements in Compressed Sparse Row format>"
      ]
     },
     "execution_count": 34,
     "metadata": {},
     "output_type": "execute_result"
    }
   ],
   "source": [
    "from sklearn.feature_extraction.text import TfidfVectorizer\n",
    "#tfidf_vectorizer = TfidfVectorizer(stop_words=ignore_words)\n",
    "tfidf_vectorizer = TfidfVectorizer()\n",
    "tfidf_vectorizer.fit_transform(corpus)"
   ]
  },
  {
   "cell_type": "code",
   "execution_count": 35,
   "id": "fc5ffcd5",
   "metadata": {},
   "outputs": [],
   "source": [
    "corpus = df_corpus['text']\n",
    "X = count_vectorizer.fit_transform(corpus)\n",
    "y = df_corpus['infox']"
   ]
  },
  {
   "cell_type": "code",
   "execution_count": 40,
   "id": "b4ee3888",
   "metadata": {},
   "outputs": [
    {
     "data": {
      "text/plain": [
       "0.7494356659142212"
      ]
     },
     "execution_count": 40,
     "metadata": {},
     "output_type": "execute_result"
    }
   ],
   "source": [
    "### Construction des Datasets d'entrainement et de test\n",
    "\n",
    "import sklearn.model_selection\n",
    "\n",
    "#X_train,X_test,y_train,y_test = sklearn.model_selection.train_test_split(X,y,train_size=0.6,shuffle=True)\n",
    "X_train,X_test,y_train,y_test = sklearn.model_selection.train_test_split(X,y)\n",
    "\n",
    "X_train.shape[0]/X.shape[0]"
   ]
  },
  {
   "cell_type": "code",
   "execution_count": 53,
   "id": "07d3ff9e",
   "metadata": {},
   "outputs": [
    {
     "data": {
      "text/html": [
       "<style>#sk-container-id-9 {color: black;background-color: white;}#sk-container-id-9 pre{padding: 0;}#sk-container-id-9 div.sk-toggleable {background-color: white;}#sk-container-id-9 label.sk-toggleable__label {cursor: pointer;display: block;width: 100%;margin-bottom: 0;padding: 0.3em;box-sizing: border-box;text-align: center;}#sk-container-id-9 label.sk-toggleable__label-arrow:before {content: \"▸\";float: left;margin-right: 0.25em;color: #696969;}#sk-container-id-9 label.sk-toggleable__label-arrow:hover:before {color: black;}#sk-container-id-9 div.sk-estimator:hover label.sk-toggleable__label-arrow:before {color: black;}#sk-container-id-9 div.sk-toggleable__content {max-height: 0;max-width: 0;overflow: hidden;text-align: left;background-color: #f0f8ff;}#sk-container-id-9 div.sk-toggleable__content pre {margin: 0.2em;color: black;border-radius: 0.25em;background-color: #f0f8ff;}#sk-container-id-9 input.sk-toggleable__control:checked~div.sk-toggleable__content {max-height: 200px;max-width: 100%;overflow: auto;}#sk-container-id-9 input.sk-toggleable__control:checked~label.sk-toggleable__label-arrow:before {content: \"▾\";}#sk-container-id-9 div.sk-estimator input.sk-toggleable__control:checked~label.sk-toggleable__label {background-color: #d4ebff;}#sk-container-id-9 div.sk-label input.sk-toggleable__control:checked~label.sk-toggleable__label {background-color: #d4ebff;}#sk-container-id-9 input.sk-hidden--visually {border: 0;clip: rect(1px 1px 1px 1px);clip: rect(1px, 1px, 1px, 1px);height: 1px;margin: -1px;overflow: hidden;padding: 0;position: absolute;width: 1px;}#sk-container-id-9 div.sk-estimator {font-family: monospace;background-color: #f0f8ff;border: 1px dotted black;border-radius: 0.25em;box-sizing: border-box;margin-bottom: 0.5em;}#sk-container-id-9 div.sk-estimator:hover {background-color: #d4ebff;}#sk-container-id-9 div.sk-parallel-item::after {content: \"\";width: 100%;border-bottom: 1px solid gray;flex-grow: 1;}#sk-container-id-9 div.sk-label:hover label.sk-toggleable__label {background-color: #d4ebff;}#sk-container-id-9 div.sk-serial::before {content: \"\";position: absolute;border-left: 1px solid gray;box-sizing: border-box;top: 0;bottom: 0;left: 50%;z-index: 0;}#sk-container-id-9 div.sk-serial {display: flex;flex-direction: column;align-items: center;background-color: white;padding-right: 0.2em;padding-left: 0.2em;position: relative;}#sk-container-id-9 div.sk-item {position: relative;z-index: 1;}#sk-container-id-9 div.sk-parallel {display: flex;align-items: stretch;justify-content: center;background-color: white;position: relative;}#sk-container-id-9 div.sk-item::before, #sk-container-id-9 div.sk-parallel-item::before {content: \"\";position: absolute;border-left: 1px solid gray;box-sizing: border-box;top: 0;bottom: 0;left: 50%;z-index: -1;}#sk-container-id-9 div.sk-parallel-item {display: flex;flex-direction: column;z-index: 1;position: relative;background-color: white;}#sk-container-id-9 div.sk-parallel-item:first-child::after {align-self: flex-end;width: 50%;}#sk-container-id-9 div.sk-parallel-item:last-child::after {align-self: flex-start;width: 50%;}#sk-container-id-9 div.sk-parallel-item:only-child::after {width: 0;}#sk-container-id-9 div.sk-dashed-wrapped {border: 1px dashed gray;margin: 0 0.4em 0.5em 0.4em;box-sizing: border-box;padding-bottom: 0.4em;background-color: white;}#sk-container-id-9 div.sk-label label {font-family: monospace;font-weight: bold;display: inline-block;line-height: 1.2em;}#sk-container-id-9 div.sk-label-container {text-align: center;}#sk-container-id-9 div.sk-container {/* jupyter's `normalize.less` sets `[hidden] { display: none; }` but bootstrap.min.css set `[hidden] { display: none !important; }` so we also need the `!important` here to be able to override the default hidden behavior on the sphinx rendered scikit-learn.org. See: https://github.com/scikit-learn/scikit-learn/issues/21755 */display: inline-block !important;position: relative;}#sk-container-id-9 div.sk-text-repr-fallback {display: none;}</style><div id=\"sk-container-id-9\" class=\"sk-top-container\"><div class=\"sk-text-repr-fallback\"><pre>LogisticRegression(max_iter=1000)</pre><b>In a Jupyter environment, please rerun this cell to show the HTML representation or trust the notebook. <br />On GitHub, the HTML representation is unable to render, please try loading this page with nbviewer.org.</b></div><div class=\"sk-container\" hidden><div class=\"sk-item\"><div class=\"sk-estimator sk-toggleable\"><input class=\"sk-toggleable__control sk-hidden--visually\" id=\"sk-estimator-id-9\" type=\"checkbox\" checked><label for=\"sk-estimator-id-9\" class=\"sk-toggleable__label sk-toggleable__label-arrow\">LogisticRegression</label><div class=\"sk-toggleable__content\"><pre>LogisticRegression(max_iter=1000)</pre></div></div></div></div></div>"
      ],
      "text/plain": [
       "LogisticRegression(max_iter=1000)"
      ]
     },
     "execution_count": 53,
     "metadata": {},
     "output_type": "execute_result"
    }
   ],
   "source": [
    "\n",
    "#lr = LogisticRegression(C=100.0, random_state=1, solver='lbfgs', multi_class='ovr', max_iter=1000)\n",
    "tf_lr = LogisticRegression(max_iter=1000)\n",
    "\n",
    "# Fit the model\n",
    "tf_lr.fit(X_train, y_train)"
   ]
  },
  {
   "cell_type": "markdown",
   "id": "99135e2e",
   "metadata": {},
   "source": [
    "### Prédictions"
   ]
  },
  {
   "cell_type": "code",
   "execution_count": 54,
   "id": "2ce5e55f",
   "metadata": {},
   "outputs": [],
   "source": [
    "y_pred = tf_lr.predict(X_test)"
   ]
  },
  {
   "cell_type": "markdown",
   "id": "ba0834f1",
   "metadata": {},
   "source": [
    "### Mesure des résultats"
   ]
  },
  {
   "cell_type": "code",
   "execution_count": 55,
   "id": "a80e8fca",
   "metadata": {},
   "outputs": [
    {
     "name": "stdout",
     "output_type": "stream",
     "text": [
      "Matrice de confusion\n",
      "[[44 11]\n",
      " [15 41]]\n",
      "Accuracy score 76.58%\n",
      "Recall score 73.21%\n"
     ]
    }
   ],
   "source": [
    "cnf_matrix = metrics.confusion_matrix(y_test, y_pred)\n",
    "print('Matrice de confusion')\n",
    "print(cnf_matrix)\n",
    "print(f'Accuracy score {metrics.accuracy_score(y_test, y_pred)*100:.2f}%')\n",
    "print(f'Recall score {metrics.recall_score(y_test, y_pred)*100:.2f}%')"
   ]
  },
  {
   "cell_type": "markdown",
   "id": "76996d3a",
   "metadata": {},
   "source": [
    "## Sauvegarde des predicteurs\n",
    "---"
   ]
  },
  {
   "cell_type": "code",
   "execution_count": 61,
   "id": "18224d80",
   "metadata": {},
   "outputs": [],
   "source": [
    "import time\n",
    "import pickle"
   ]
  },
  {
   "cell_type": "code",
   "execution_count": 68,
   "id": "afa9994e",
   "metadata": {},
   "outputs": [],
   "source": [
    "def save_predictor(descriptor,classifier,data='',filename=''):\n",
    "    predictor = {\n",
    "        'descriptor' : descriptor,\n",
    "        'classifier' : classifier,\n",
    "        'data' : data\n",
    "    }\n",
    "    if filename == '':\n",
    "        filename = f'data/predictors/{str(int(time.time()))}.pp'\n",
    "    with open(filename, 'wb') as file:\n",
    "        pickle.dump(predictor, file)"
   ]
  },
  {
   "cell_type": "code",
   "execution_count": 69,
   "id": "353a7527",
   "metadata": {},
   "outputs": [],
   "source": [
    "save_predictor(tfidf_vectorizer,tf_lr,filename='data/predictors/220930-tf_lr.pp')"
   ]
  },
  {
   "cell_type": "code",
   "execution_count": 70,
   "id": "d563e1a4",
   "metadata": {},
   "outputs": [],
   "source": [
    "save_predictor(count_vectorizer,cv_lr,filename='data/predictors/220930-cv_lr.pp')"
   ]
  },
  {
   "cell_type": "markdown",
   "id": "fb7949bc",
   "metadata": {},
   "source": [
    "## Bricolages\n",
    "---"
   ]
  },
  {
   "cell_type": "code",
   "execution_count": 57,
   "id": "695ea400",
   "metadata": {},
   "outputs": [
    {
     "data": {
      "text/plain": [
       "sklearn.linear_model._logistic.LogisticRegression"
      ]
     },
     "execution_count": 57,
     "metadata": {},
     "output_type": "execute_result"
    }
   ],
   "source": [
    "type(tf_lr)"
   ]
  },
  {
   "cell_type": "code",
   "execution_count": 58,
   "id": "c581f286",
   "metadata": {},
   "outputs": [],
   "source": [
    "import time"
   ]
  },
  {
   "cell_type": "code",
   "execution_count": 60,
   "id": "a4cd50d6",
   "metadata": {},
   "outputs": [
    {
     "data": {
      "text/plain": [
       "1664570915"
      ]
     },
     "execution_count": 60,
     "metadata": {},
     "output_type": "execute_result"
    }
   ],
   "source": [
    "int(time.time())"
   ]
  },
  {
   "cell_type": "code",
   "execution_count": null,
   "id": "05d318be",
   "metadata": {},
   "outputs": [],
   "source": []
  }
 ],
 "metadata": {
  "kernelspec": {
   "display_name": "Python 3 (ipykernel)",
   "language": "python",
   "name": "python3"
  },
  "language_info": {
   "codemirror_mode": {
    "name": "ipython",
    "version": 3
   },
   "file_extension": ".py",
   "mimetype": "text/x-python",
   "name": "python",
   "nbconvert_exporter": "python",
   "pygments_lexer": "ipython3",
   "version": "3.9.13"
  }
 },
 "nbformat": 4,
 "nbformat_minor": 5
}
