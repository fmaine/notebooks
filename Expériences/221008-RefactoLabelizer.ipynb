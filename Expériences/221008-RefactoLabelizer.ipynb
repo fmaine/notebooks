{
 "cells": [
  {
   "cell_type": "markdown",
   "id": "e3ec4689",
   "metadata": {},
   "source": [
    "# Plateforme Agnostique de Traitement et d'Analyse des Textes\n",
    "### Paillasse d'expérimentation\n",
    "---\n",
    "\n",
    "## Sujet : Refactoring Labelizer\n",
    "\n",
    "---\n"
   ]
  },
  {
   "cell_type": "code",
   "execution_count": 1,
   "id": "32256b0d",
   "metadata": {},
   "outputs": [],
   "source": [
    "import importlib\n",
    "import pandas as pd"
   ]
  },
  {
   "cell_type": "markdown",
   "id": "de6dc21a",
   "metadata": {},
   "source": [
    "## Observations et environnement\n",
    "---"
   ]
  },
  {
   "cell_type": "markdown",
   "id": "26de4d29",
   "metadata": {},
   "source": [
    "## Expérience\n",
    "---"
   ]
  },
  {
   "cell_type": "code",
   "execution_count": 2,
   "id": "65195482",
   "metadata": {},
   "outputs": [
    {
     "name": "stdout",
     "output_type": "stream",
     "text": [
      "/Users/fm/Desktop/Work/Patat\n"
     ]
    }
   ],
   "source": [
    "cd ../.."
   ]
  },
  {
   "cell_type": "code",
   "execution_count": 3,
   "id": "18c4b2c5",
   "metadata": {},
   "outputs": [],
   "source": [
    "import patat.app.label_manager"
   ]
  },
  {
   "cell_type": "code",
   "execution_count": null,
   "id": "8a811aaa",
   "metadata": {},
   "outputs": [],
   "source": [
    "import patat.app.corpus_viewer"
   ]
  },
  {
   "cell_type": "code",
   "execution_count": 18,
   "id": "8251a2f9",
   "metadata": {},
   "outputs": [
    {
     "data": {
      "text/plain": [
       "<module 'patat.app.label_manager' from '/Users/fm/Desktop/Work/Patat/patat/app/label_manager.py'>"
      ]
     },
     "execution_count": 18,
     "metadata": {},
     "output_type": "execute_result"
    }
   ],
   "source": [
    "importlib.reload(patat.app.label_manager)"
   ]
  },
  {
   "cell_type": "code",
   "execution_count": 19,
   "id": "4c684ab7",
   "metadata": {},
   "outputs": [],
   "source": [
    "cw = patat.app.corpus_viewer.CorpusViewer()"
   ]
  },
  {
   "cell_type": "code",
   "execution_count": 20,
   "id": "c9f0277f",
   "metadata": {},
   "outputs": [],
   "source": [
    "lm = patat.app.label_manager.LabelManager(cw)"
   ]
  },
  {
   "cell_type": "code",
   "execution_count": 21,
   "id": "ac2405d8",
   "metadata": {},
   "outputs": [
    {
     "ename": "AttributeError",
     "evalue": "'LabelManager' object has no attribute '_LabelManager__label_db'",
     "output_type": "error",
     "traceback": [
      "\u001b[0;31m---------------------------------------------------------------------------\u001b[0m",
      "\u001b[0;31mAttributeError\u001b[0m                            Traceback (most recent call last)",
      "Input \u001b[0;32mIn [21]\u001b[0m, in \u001b[0;36m<cell line: 1>\u001b[0;34m()\u001b[0m\n\u001b[0;32m----> 1\u001b[0m \u001b[43mlm\u001b[49m\u001b[38;5;241;43m.\u001b[39;49m\u001b[43mload_label_db\u001b[49m\u001b[43m(\u001b[49m\u001b[38;5;124;43m'\u001b[39;49m\u001b[38;5;124;43mdata/corpus/221007-LabelCorpus.csv\u001b[39;49m\u001b[38;5;124;43m'\u001b[39;49m\u001b[43m)\u001b[49m\n",
      "File \u001b[0;32m~/Desktop/Work/Patat/patat/app/label_manager.py:36\u001b[0m, in \u001b[0;36mLabelManager.load_label_db\u001b[0;34m(self, filename)\u001b[0m\n\u001b[1;32m     35\u001b[0m \u001b[38;5;28;01mdef\u001b[39;00m \u001b[38;5;21mload_label_db\u001b[39m(\u001b[38;5;28mself\u001b[39m,filename):\n\u001b[0;32m---> 36\u001b[0m     \u001b[38;5;28;43mself\u001b[39;49m\u001b[38;5;241;43m.\u001b[39;49m\u001b[43m__label_db\u001b[49m\u001b[38;5;241m.\u001b[39msave(filename)\n",
      "\u001b[0;31mAttributeError\u001b[0m: 'LabelManager' object has no attribute '_LabelManager__label_db'"
     ]
    }
   ],
   "source": [
    "lm.load_label_db('data/corpus/221007-LabelCorpus.csv')"
   ]
  },
  {
   "cell_type": "code",
   "execution_count": 17,
   "id": "53dd83e1",
   "metadata": {},
   "outputs": [
    {
     "ename": "AttributeError",
     "evalue": "'LabelManager' object has no attribute '_label_db'",
     "output_type": "error",
     "traceback": [
      "\u001b[0;31m---------------------------------------------------------------------------\u001b[0m",
      "\u001b[0;31mAttributeError\u001b[0m                            Traceback (most recent call last)",
      "Input \u001b[0;32mIn [17]\u001b[0m, in \u001b[0;36m<cell line: 1>\u001b[0;34m()\u001b[0m\n\u001b[0;32m----> 1\u001b[0m \u001b[43mlm\u001b[49m\u001b[38;5;241;43m.\u001b[39;49m\u001b[43m_label_db\u001b[49m\n",
      "\u001b[0;31mAttributeError\u001b[0m: 'LabelManager' object has no attribute '_label_db'"
     ]
    }
   ],
   "source": [
    "lm._label_db"
   ]
  },
  {
   "cell_type": "code",
   "execution_count": null,
   "id": "b2e29a84",
   "metadata": {},
   "outputs": [],
   "source": [
    "cw.get_corpus_index()"
   ]
  },
  {
   "cell_type": "code",
   "execution_count": null,
   "id": "4e59c05a",
   "metadata": {},
   "outputs": [],
   "source": [
    "import patat.db."
   ]
  },
  {
   "cell_type": "markdown",
   "id": "be03f6c3",
   "metadata": {},
   "source": [
    "### Corpus Articles"
   ]
  },
  {
   "cell_type": "code",
   "execution_count": null,
   "id": "2c7436f2",
   "metadata": {},
   "outputs": [],
   "source": [
    "df_corpus = df_corpus[df_corpus['title'].notna()]"
   ]
  },
  {
   "cell_type": "code",
   "execution_count": null,
   "id": "f4f61096",
   "metadata": {},
   "outputs": [],
   "source": [
    "df_corpus = df_corpus[df_corpus['article'].notna()]"
   ]
  },
  {
   "cell_type": "code",
   "execution_count": null,
   "id": "aae45b5b",
   "metadata": {},
   "outputs": [],
   "source": [
    "df_article = df_corpus.copy()"
   ]
  },
  {
   "cell_type": "code",
   "execution_count": null,
   "id": "56cd05c2",
   "metadata": {},
   "outputs": [],
   "source": [
    "df_article = df_article[['url','title','article','site','author','date_iso']]"
   ]
  },
  {
   "cell_type": "code",
   "execution_count": null,
   "id": "53fb7950",
   "metadata": {},
   "outputs": [],
   "source": [
    "df_article"
   ]
  },
  {
   "cell_type": "markdown",
   "id": "ba0834f1",
   "metadata": {},
   "source": [
    "## Mesure et observation des résultats\n",
    "---"
   ]
  },
  {
   "cell_type": "markdown",
   "id": "76996d3a",
   "metadata": {},
   "source": [
    "## Sauvegarde des résultats\n",
    "---"
   ]
  },
  {
   "cell_type": "code",
   "execution_count": null,
   "id": "827f60e3",
   "metadata": {},
   "outputs": [],
   "source": [
    "df_article.to_csv('data/corpus/221008-ArticleCorpus.csv'L)"
   ]
  },
  {
   "cell_type": "markdown",
   "id": "fb7949bc",
   "metadata": {},
   "source": [
    "## Conclusions\n",
    "---"
   ]
  },
  {
   "cell_type": "markdown",
   "id": "bd06b261",
   "metadata": {},
   "source": [
    "- Format Labl.csv : OK"
   ]
  },
  {
   "cell_type": "markdown",
   "id": "bd360655",
   "metadata": {},
   "source": [
    "## Bricolages\n",
    "---"
   ]
  },
  {
   "cell_type": "code",
   "execution_count": null,
   "id": "7de4fa6e",
   "metadata": {},
   "outputs": [],
   "source": [
    "df_article=df_article.drop(columns=['infox','y_proba'])"
   ]
  },
  {
   "cell_type": "code",
   "execution_count": null,
   "id": "d300015c",
   "metadata": {},
   "outputs": [],
   "source": [
    "new_urls = []\n",
    "for url in list(df_brut['url']):\n",
    "    if url not in list(df_article['url']):\n",
    "        new_urls.append(url)"
   ]
  },
  {
   "cell_type": "code",
   "execution_count": null,
   "id": "a748af6a",
   "metadata": {},
   "outputs": [],
   "source": [
    "len(new_urls)"
   ]
  },
  {
   "cell_type": "code",
   "execution_count": null,
   "id": "b4aa665d",
   "metadata": {},
   "outputs": [],
   "source": [
    "import patat.imp.importer\n",
    "import patat.imp.parser"
   ]
  },
  {
   "cell_type": "code",
   "execution_count": null,
   "id": "af3b5d3a",
   "metadata": {},
   "outputs": [],
   "source": [
    "imp = patat.imp.importer.Importer()\n",
    "parser = patat.imp.parser.Parser()"
   ]
  },
  {
   "cell_type": "code",
   "execution_count": null,
   "id": "80c1ec09",
   "metadata": {},
   "outputs": [],
   "source": [
    "articles = []\n",
    "for url in new_urls:\n",
    "    html = imp.get_webpage(url)\n",
    "    site = imp.get_site(url)\n",
    "    article = parser.parse_article(url,html,site)\n",
    "    articles.append(article)\n"
   ]
  },
  {
   "cell_type": "code",
   "execution_count": null,
   "id": "adbe2c38",
   "metadata": {},
   "outputs": [],
   "source": [
    "df_articles=pd.DataFrame(articles)"
   ]
  },
  {
   "cell_type": "code",
   "execution_count": null,
   "id": "0aa55cfd",
   "metadata": {},
   "outputs": [],
   "source": [
    "df_articles[df_articles['title'].isna()].value_counts('site')"
   ]
  },
  {
   "cell_type": "code",
   "execution_count": null,
   "id": "78cae158",
   "metadata": {},
   "outputs": [],
   "source": []
  }
 ],
 "metadata": {
  "kernelspec": {
   "display_name": "Python 3 (ipykernel)",
   "language": "python",
   "name": "python3"
  },
  "language_info": {
   "codemirror_mode": {
    "name": "ipython",
    "version": 3
   },
   "file_extension": ".py",
   "mimetype": "text/x-python",
   "name": "python",
   "nbconvert_exporter": "python",
   "pygments_lexer": "ipython3",
   "version": "3.9.13"
  }
 },
 "nbformat": 4,
 "nbformat_minor": 5
}
