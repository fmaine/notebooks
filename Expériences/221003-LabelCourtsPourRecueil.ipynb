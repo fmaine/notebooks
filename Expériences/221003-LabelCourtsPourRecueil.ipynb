{
 "cells": [
  {
   "cell_type": "markdown",
   "id": "e3ec4689",
   "metadata": {},
   "source": [
    "\n",
    "# Plateforme Agnostique de Traitement et d'Analyse des Textes\n",
    "### Paillasse d'expérimentation\n",
    "---\n",
    "\n",
    "## Sujet : Utilisation de labels courts sur le recueil\n",
    "\n",
    "---\n"
   ]
  },
  {
   "cell_type": "markdown",
   "id": "ad77a9d6",
   "metadata": {},
   "source": [
    "## Initialisation de la paillasse \n",
    "---"
   ]
  },
  {
   "cell_type": "code",
   "execution_count": 1,
   "id": "5d0de4d7",
   "metadata": {},
   "outputs": [
    {
     "name": "stdout",
     "output_type": "stream",
     "text": [
      "/Users/fm/Desktop/Work/Patat\n"
     ]
    }
   ],
   "source": [
    "cd ../.."
   ]
  },
  {
   "cell_type": "code",
   "execution_count": 2,
   "id": "32256b0d",
   "metadata": {},
   "outputs": [],
   "source": [
    "import importlib\n",
    "import pandas as pd"
   ]
  },
  {
   "cell_type": "markdown",
   "id": "de6dc21a",
   "metadata": {},
   "source": [
    "## Observations et environnement\n",
    "---"
   ]
  },
  {
   "cell_type": "markdown",
   "id": "29618668",
   "metadata": {},
   "source": [
    "### Chargement du recueil brut"
   ]
  },
  {
   "cell_type": "code",
   "execution_count": 3,
   "id": "05cde00c",
   "metadata": {},
   "outputs": [],
   "source": [
    "corpus_filename = 'imports/221003-RecueilBrut.csv'"
   ]
  },
  {
   "cell_type": "code",
   "execution_count": 4,
   "id": "82c08337",
   "metadata": {
    "scrolled": true
   },
   "outputs": [],
   "source": [
    "df_recueil = pd.read_csv(f'data/{corpus_filename}')\n",
    "df_recueil = df_recueil.convert_dtypes()"
   ]
  },
  {
   "cell_type": "code",
   "execution_count": 5,
   "id": "c019a449",
   "metadata": {},
   "outputs": [
    {
     "data": {
      "text/plain": [
       "(481, 37)"
      ]
     },
     "execution_count": 5,
     "metadata": {},
     "output_type": "execute_result"
    }
   ],
   "source": [
    "df_recueil.shape"
   ]
  },
  {
   "cell_type": "code",
   "execution_count": 6,
   "id": "5d69f9f5",
   "metadata": {},
   "outputs": [
    {
     "data": {
      "text/html": [
       "<div>\n",
       "<style scoped>\n",
       "    .dataframe tbody tr th:only-of-type {\n",
       "        vertical-align: middle;\n",
       "    }\n",
       "\n",
       "    .dataframe tbody tr th {\n",
       "        vertical-align: top;\n",
       "    }\n",
       "\n",
       "    .dataframe thead th {\n",
       "        text-align: right;\n",
       "    }\n",
       "</style>\n",
       "<table border=\"1\" class=\"dataframe\">\n",
       "  <thead>\n",
       "    <tr style=\"text-align: right;\">\n",
       "      <th></th>\n",
       "      <th># site</th>\n",
       "      <th># article</th>\n",
       "      <th>Site</th>\n",
       "      <th>url</th>\n",
       "      <th>Auteur/trice</th>\n",
       "      <th>Date</th>\n",
       "      <th>Date de publication</th>\n",
       "      <th>Titre</th>\n",
       "      <th>explication</th>\n",
       "      <th>infox</th>\n",
       "      <th>...</th>\n",
       "      <th>propos rapporté</th>\n",
       "      <th>sources citées</th>\n",
       "      <th>titre décalé</th>\n",
       "      <th>dénigrement</th>\n",
       "      <th>cherry picking</th>\n",
       "      <th>degré infox</th>\n",
       "      <th>observateur</th>\n",
       "      <th>thème (abandonné)</th>\n",
       "      <th>type infox (abandonné)</th>\n",
       "      <th>Date de collection (abandonné)</th>\n",
       "    </tr>\n",
       "  </thead>\n",
       "  <tbody>\n",
       "  </tbody>\n",
       "</table>\n",
       "<p>0 rows × 37 columns</p>\n",
       "</div>"
      ],
      "text/plain": [
       "Empty DataFrame\n",
       "Columns: [# site, # article, Site, url, Auteur/trice, Date, Date de publication, Titre, explication, infox, signé, lieux, dates et personnes , lieux, dates et personnes cohérentes, points de vue différents présentés, écriture de qualité, intention, faits, opinions, fausse nouvelle, insinuations, exagération, scientifique sulfureux, des pages et des pages, des chiffres et des tableaux, sophisme, inversion de la preuve, invérifiable, propos rapporté, sources citées, titre décalé, dénigrement, cherry picking, degré infox, observateur, thème (abandonné), type infox (abandonné), Date de collection (abandonné)]\n",
       "Index: []\n",
       "\n",
       "[0 rows x 37 columns]"
      ]
     },
     "execution_count": 6,
     "metadata": {},
     "output_type": "execute_result"
    }
   ],
   "source": [
    "df_recueil[df_recueil['url'].isna()]"
   ]
  },
  {
   "cell_type": "code",
   "execution_count": 7,
   "id": "a454cb8a",
   "metadata": {},
   "outputs": [
    {
     "data": {
      "text/html": [
       "<div>\n",
       "<style scoped>\n",
       "    .dataframe tbody tr th:only-of-type {\n",
       "        vertical-align: middle;\n",
       "    }\n",
       "\n",
       "    .dataframe tbody tr th {\n",
       "        vertical-align: top;\n",
       "    }\n",
       "\n",
       "    .dataframe thead th {\n",
       "        text-align: right;\n",
       "    }\n",
       "</style>\n",
       "<table border=\"1\" class=\"dataframe\">\n",
       "  <thead>\n",
       "    <tr style=\"text-align: right;\">\n",
       "      <th></th>\n",
       "      <th># site</th>\n",
       "      <th># article</th>\n",
       "      <th>Site</th>\n",
       "      <th>url</th>\n",
       "      <th>Auteur/trice</th>\n",
       "      <th>Date</th>\n",
       "      <th>Date de publication</th>\n",
       "      <th>Titre</th>\n",
       "      <th>explication</th>\n",
       "      <th>infox</th>\n",
       "      <th>...</th>\n",
       "      <th>propos rapporté</th>\n",
       "      <th>sources citées</th>\n",
       "      <th>titre décalé</th>\n",
       "      <th>dénigrement</th>\n",
       "      <th>cherry picking</th>\n",
       "      <th>degré infox</th>\n",
       "      <th>observateur</th>\n",
       "      <th>thème (abandonné)</th>\n",
       "      <th>type infox (abandonné)</th>\n",
       "      <th>Date de collection (abandonné)</th>\n",
       "    </tr>\n",
       "  </thead>\n",
       "  <tbody>\n",
       "    <tr>\n",
       "      <th>470</th>\n",
       "      <td>39</td>\n",
       "      <td>470</td>\n",
       "      <td>Wikistrike</td>\n",
       "      <td>https://www.wikistrike.com/2022/08/la-cabale-m...</td>\n",
       "      <td>&lt;NA&gt;</td>\n",
       "      <td>07/08/2022</td>\n",
       "      <td>7 août 22</td>\n",
       "      <td>La cabale mondialiste promeut un régime à base...</td>\n",
       "      <td>superbe article complotiste : Davos prépare la...</td>\n",
       "      <td>oui</td>\n",
       "      <td>...</td>\n",
       "      <td>non</td>\n",
       "      <td>non</td>\n",
       "      <td>oui</td>\n",
       "      <td>&lt;NA&gt;</td>\n",
       "      <td>&lt;NA&gt;</td>\n",
       "      <td>*</td>\n",
       "      <td>FB</td>\n",
       "      <td>&lt;NA&gt;</td>\n",
       "      <td>&lt;NA&gt;</td>\n",
       "      <td>&lt;NA&gt;</td>\n",
       "    </tr>\n",
       "    <tr>\n",
       "      <th>471</th>\n",
       "      <td>39</td>\n",
       "      <td>471</td>\n",
       "      <td>Wikistrike</td>\n",
       "      <td>https://www.wikistrike.com/2022/08/compteur-li...</td>\n",
       "      <td>&lt;NA&gt;</td>\n",
       "      <td>17/08/2022</td>\n",
       "      <td>17 août 22</td>\n",
       "      <td>Compteur Linky : les personnes électrosensible...</td>\n",
       "      <td>je suppose que c'est vrai (mais je n'en suis p...</td>\n",
       "      <td>non</td>\n",
       "      <td>...</td>\n",
       "      <td>non</td>\n",
       "      <td>non</td>\n",
       "      <td>non</td>\n",
       "      <td>non</td>\n",
       "      <td>&lt;NA&gt;</td>\n",
       "      <td>&lt;NA&gt;</td>\n",
       "      <td>FB</td>\n",
       "      <td>&lt;NA&gt;</td>\n",
       "      <td>&lt;NA&gt;</td>\n",
       "      <td>&lt;NA&gt;</td>\n",
       "    </tr>\n",
       "    <tr>\n",
       "      <th>472</th>\n",
       "      <td>39</td>\n",
       "      <td>472</td>\n",
       "      <td>Wikistrike</td>\n",
       "      <td>https://www.wikistrike.com/2022/08/washington-...</td>\n",
       "      <td>&lt;NA&gt;</td>\n",
       "      <td>20/08/2022</td>\n",
       "      <td>20 août 22</td>\n",
       "      <td>Washington enverrait des mercenaires afghans c...</td>\n",
       "      <td>Si il y avais un once de preuve que les Etats ...</td>\n",
       "      <td>oui</td>\n",
       "      <td>...</td>\n",
       "      <td>oui</td>\n",
       "      <td>non</td>\n",
       "      <td>non</td>\n",
       "      <td>non</td>\n",
       "      <td>&lt;NA&gt;</td>\n",
       "      <td>**</td>\n",
       "      <td>CN</td>\n",
       "      <td>&lt;NA&gt;</td>\n",
       "      <td>&lt;NA&gt;</td>\n",
       "      <td>&lt;NA&gt;</td>\n",
       "    </tr>\n",
       "    <tr>\n",
       "      <th>473</th>\n",
       "      <td>39</td>\n",
       "      <td>473</td>\n",
       "      <td>Wikistrike</td>\n",
       "      <td>https://www.wikistrike.com/2022/08/les-vaccine...</td>\n",
       "      <td>&lt;NA&gt;</td>\n",
       "      <td>20/08/2022</td>\n",
       "      <td>20 août 22</td>\n",
       "      <td>Les vaccinés infectés au Covid restent contagi...</td>\n",
       "      <td>L'article arrive a cette conclusion en utilisa...</td>\n",
       "      <td>oui</td>\n",
       "      <td>...</td>\n",
       "      <td>oui</td>\n",
       "      <td>oui</td>\n",
       "      <td>non</td>\n",
       "      <td>oui</td>\n",
       "      <td>&lt;NA&gt;</td>\n",
       "      <td>**</td>\n",
       "      <td>CN</td>\n",
       "      <td>&lt;NA&gt;</td>\n",
       "      <td>&lt;NA&gt;</td>\n",
       "      <td>&lt;NA&gt;</td>\n",
       "    </tr>\n",
       "    <tr>\n",
       "      <th>474</th>\n",
       "      <td>39</td>\n",
       "      <td>474</td>\n",
       "      <td>Wikistrike</td>\n",
       "      <td>https://www.wikistrike.com/2022/08/fresne-cett...</td>\n",
       "      <td>&lt;NA&gt;</td>\n",
       "      <td>21/08/2022</td>\n",
       "      <td>21 août 22</td>\n",
       "      <td>Fresnes: cette prison où les condamnés finisse...</td>\n",
       "      <td>&lt;NA&gt;</td>\n",
       "      <td>non</td>\n",
       "      <td>...</td>\n",
       "      <td>oui</td>\n",
       "      <td>oui</td>\n",
       "      <td>non</td>\n",
       "      <td>non</td>\n",
       "      <td>&lt;NA&gt;</td>\n",
       "      <td>&lt;NA&gt;</td>\n",
       "      <td>CN</td>\n",
       "      <td>&lt;NA&gt;</td>\n",
       "      <td>&lt;NA&gt;</td>\n",
       "      <td>&lt;NA&gt;</td>\n",
       "    </tr>\n",
       "    <tr>\n",
       "      <th>475</th>\n",
       "      <td>39</td>\n",
       "      <td>475</td>\n",
       "      <td>Wikistrike</td>\n",
       "      <td>https://www.wikistrike.com/2022/08/le-forum-ec...</td>\n",
       "      <td>&lt;NA&gt;</td>\n",
       "      <td>23/08/2022</td>\n",
       "      <td>23 août 22</td>\n",
       "      <td>Le Forum économique mondial estime qu’il exist...</td>\n",
       "      <td>Convaincre que le Forum economique mondial veu...</td>\n",
       "      <td>oui</td>\n",
       "      <td>...</td>\n",
       "      <td>oui</td>\n",
       "      <td>oui</td>\n",
       "      <td>non</td>\n",
       "      <td>oui</td>\n",
       "      <td>&lt;NA&gt;</td>\n",
       "      <td>*</td>\n",
       "      <td>CN</td>\n",
       "      <td>&lt;NA&gt;</td>\n",
       "      <td>&lt;NA&gt;</td>\n",
       "      <td>&lt;NA&gt;</td>\n",
       "    </tr>\n",
       "    <tr>\n",
       "      <th>476</th>\n",
       "      <td>39</td>\n",
       "      <td>476</td>\n",
       "      <td>Wikistrike</td>\n",
       "      <td>https://www.wikistrike.com/2022/08/le-masque-r...</td>\n",
       "      <td>&lt;NA&gt;</td>\n",
       "      <td>24/08/2022</td>\n",
       "      <td>24 août 22</td>\n",
       "      <td>Le masque réduit les infections COVID de 0,06%</td>\n",
       "      <td>L'article prend une etude qui est loin d'etre ...</td>\n",
       "      <td>oui</td>\n",
       "      <td>...</td>\n",
       "      <td>non</td>\n",
       "      <td>non</td>\n",
       "      <td>non</td>\n",
       "      <td>non</td>\n",
       "      <td>&lt;NA&gt;</td>\n",
       "      <td>**</td>\n",
       "      <td>CN</td>\n",
       "      <td>&lt;NA&gt;</td>\n",
       "      <td>&lt;NA&gt;</td>\n",
       "      <td>&lt;NA&gt;</td>\n",
       "    </tr>\n",
       "    <tr>\n",
       "      <th>477</th>\n",
       "      <td>39</td>\n",
       "      <td>477</td>\n",
       "      <td>Wikistrike</td>\n",
       "      <td>https://www.wikistrike.com/2022/08/l-un-des-pl...</td>\n",
       "      <td>&lt;NA&gt;</td>\n",
       "      <td>24/08/2022</td>\n",
       "      <td>24 août 22</td>\n",
       "      <td>L’un des plus grands complexes mégalithiques d...</td>\n",
       "      <td>&lt;NA&gt;</td>\n",
       "      <td>non</td>\n",
       "      <td>...</td>\n",
       "      <td>non</td>\n",
       "      <td>oui</td>\n",
       "      <td>non</td>\n",
       "      <td>non</td>\n",
       "      <td>&lt;NA&gt;</td>\n",
       "      <td>&lt;NA&gt;</td>\n",
       "      <td>CN</td>\n",
       "      <td>&lt;NA&gt;</td>\n",
       "      <td>&lt;NA&gt;</td>\n",
       "      <td>&lt;NA&gt;</td>\n",
       "    </tr>\n",
       "    <tr>\n",
       "      <th>478</th>\n",
       "      <td>39</td>\n",
       "      <td>478</td>\n",
       "      <td>Wikistrike</td>\n",
       "      <td>https://www.wikistrike.com/2022/09/les-command...</td>\n",
       "      <td>&lt;NA&gt;</td>\n",
       "      <td>02/09/2022</td>\n",
       "      <td>2 septembre 22</td>\n",
       "      <td>Les commandos ukrainiens qui ont attaqué la ce...</td>\n",
       "      <td>les Ukrainiens ont essayé de faire échouer la ...</td>\n",
       "      <td>oui</td>\n",
       "      <td>...</td>\n",
       "      <td>oui</td>\n",
       "      <td>oui</td>\n",
       "      <td>non</td>\n",
       "      <td>oui</td>\n",
       "      <td>&lt;NA&gt;</td>\n",
       "      <td>*</td>\n",
       "      <td>FB</td>\n",
       "      <td>&lt;NA&gt;</td>\n",
       "      <td>&lt;NA&gt;</td>\n",
       "      <td>&lt;NA&gt;</td>\n",
       "    </tr>\n",
       "    <tr>\n",
       "      <th>479</th>\n",
       "      <td>39</td>\n",
       "      <td>479</td>\n",
       "      <td>Wikistrike</td>\n",
       "      <td>https://www.wikistrike.com/2022/09/coupures-el...</td>\n",
       "      <td>&lt;NA&gt;</td>\n",
       "      <td>29/09/2022</td>\n",
       "      <td>&lt;NA&gt;</td>\n",
       "      <td>Coupures électriques imminentes en France</td>\n",
       "      <td>l'article de Reuters ne dit pas ça, il dit que...</td>\n",
       "      <td>oui</td>\n",
       "      <td>...</td>\n",
       "      <td>oui</td>\n",
       "      <td>non</td>\n",
       "      <td>oui</td>\n",
       "      <td>non</td>\n",
       "      <td>&lt;NA&gt;</td>\n",
       "      <td>*</td>\n",
       "      <td>FB</td>\n",
       "      <td>&lt;NA&gt;</td>\n",
       "      <td>&lt;NA&gt;</td>\n",
       "      <td>&lt;NA&gt;</td>\n",
       "    </tr>\n",
       "    <tr>\n",
       "      <th>480</th>\n",
       "      <td>39</td>\n",
       "      <td>480</td>\n",
       "      <td>Wikistrike</td>\n",
       "      <td>https://www.wikistrike.com/2022/09/11-septembr...</td>\n",
       "      <td>&lt;NA&gt;</td>\n",
       "      <td>29/09/2022</td>\n",
       "      <td>&lt;NA&gt;</td>\n",
       "      <td>11 septembre 2001 : La théorie du « complot pi...</td>\n",
       "      <td>les gens qui disent que 9/11 était un complot ...</td>\n",
       "      <td>oui</td>\n",
       "      <td>...</td>\n",
       "      <td>oui</td>\n",
       "      <td>non</td>\n",
       "      <td>non</td>\n",
       "      <td>non</td>\n",
       "      <td>&lt;NA&gt;</td>\n",
       "      <td>**</td>\n",
       "      <td>FB</td>\n",
       "      <td>&lt;NA&gt;</td>\n",
       "      <td>&lt;NA&gt;</td>\n",
       "      <td>&lt;NA&gt;</td>\n",
       "    </tr>\n",
       "  </tbody>\n",
       "</table>\n",
       "<p>11 rows × 37 columns</p>\n",
       "</div>"
      ],
      "text/plain": [
       "     # site  # article        Site  \\\n",
       "470      39        470  Wikistrike   \n",
       "471      39        471  Wikistrike   \n",
       "472      39        472  Wikistrike   \n",
       "473      39        473  Wikistrike   \n",
       "474      39        474  Wikistrike   \n",
       "475      39        475  Wikistrike   \n",
       "476      39        476  Wikistrike   \n",
       "477      39        477  Wikistrike   \n",
       "478      39        478  Wikistrike   \n",
       "479      39        479  Wikistrike   \n",
       "480      39        480  Wikistrike   \n",
       "\n",
       "                                                   url Auteur/trice  \\\n",
       "470  https://www.wikistrike.com/2022/08/la-cabale-m...         <NA>   \n",
       "471  https://www.wikistrike.com/2022/08/compteur-li...         <NA>   \n",
       "472  https://www.wikistrike.com/2022/08/washington-...         <NA>   \n",
       "473  https://www.wikistrike.com/2022/08/les-vaccine...         <NA>   \n",
       "474  https://www.wikistrike.com/2022/08/fresne-cett...         <NA>   \n",
       "475  https://www.wikistrike.com/2022/08/le-forum-ec...         <NA>   \n",
       "476  https://www.wikistrike.com/2022/08/le-masque-r...         <NA>   \n",
       "477  https://www.wikistrike.com/2022/08/l-un-des-pl...         <NA>   \n",
       "478  https://www.wikistrike.com/2022/09/les-command...         <NA>   \n",
       "479  https://www.wikistrike.com/2022/09/coupures-el...         <NA>   \n",
       "480  https://www.wikistrike.com/2022/09/11-septembr...         <NA>   \n",
       "\n",
       "           Date Date de publication  \\\n",
       "470  07/08/2022           7 août 22   \n",
       "471  17/08/2022          17 août 22   \n",
       "472  20/08/2022          20 août 22   \n",
       "473  20/08/2022          20 août 22   \n",
       "474  21/08/2022          21 août 22   \n",
       "475  23/08/2022          23 août 22   \n",
       "476  24/08/2022          24 août 22   \n",
       "477  24/08/2022          24 août 22   \n",
       "478  02/09/2022      2 septembre 22   \n",
       "479  29/09/2022                <NA>   \n",
       "480  29/09/2022                <NA>   \n",
       "\n",
       "                                                 Titre  \\\n",
       "470  La cabale mondialiste promeut un régime à base...   \n",
       "471  Compteur Linky : les personnes électrosensible...   \n",
       "472  Washington enverrait des mercenaires afghans c...   \n",
       "473  Les vaccinés infectés au Covid restent contagi...   \n",
       "474  Fresnes: cette prison où les condamnés finisse...   \n",
       "475  Le Forum économique mondial estime qu’il exist...   \n",
       "476     Le masque réduit les infections COVID de 0,06%   \n",
       "477  L’un des plus grands complexes mégalithiques d...   \n",
       "478  Les commandos ukrainiens qui ont attaqué la ce...   \n",
       "479          Coupures électriques imminentes en France   \n",
       "480  11 septembre 2001 : La théorie du « complot pi...   \n",
       "\n",
       "                                           explication infox  ...  \\\n",
       "470  superbe article complotiste : Davos prépare la...   oui  ...   \n",
       "471  je suppose que c'est vrai (mais je n'en suis p...   non  ...   \n",
       "472  Si il y avais un once de preuve que les Etats ...   oui  ...   \n",
       "473  L'article arrive a cette conclusion en utilisa...   oui  ...   \n",
       "474                                               <NA>   non  ...   \n",
       "475  Convaincre que le Forum economique mondial veu...   oui  ...   \n",
       "476  L'article prend une etude qui est loin d'etre ...   oui  ...   \n",
       "477                                               <NA>   non  ...   \n",
       "478  les Ukrainiens ont essayé de faire échouer la ...   oui  ...   \n",
       "479  l'article de Reuters ne dit pas ça, il dit que...   oui  ...   \n",
       "480  les gens qui disent que 9/11 était un complot ...   oui  ...   \n",
       "\n",
       "    propos rapporté sources citées titre décalé dénigrement cherry picking  \\\n",
       "470             non            non          oui        <NA>           <NA>   \n",
       "471             non            non          non         non           <NA>   \n",
       "472             oui            non          non         non           <NA>   \n",
       "473             oui            oui          non         oui           <NA>   \n",
       "474             oui            oui          non         non           <NA>   \n",
       "475             oui            oui          non         oui           <NA>   \n",
       "476             non            non          non         non           <NA>   \n",
       "477             non            oui          non         non           <NA>   \n",
       "478             oui            oui          non         oui           <NA>   \n",
       "479             oui            non          oui         non           <NA>   \n",
       "480             oui            non          non         non           <NA>   \n",
       "\n",
       "    degré infox observateur thème (abandonné) type infox (abandonné)  \\\n",
       "470           *          FB              <NA>                   <NA>   \n",
       "471        <NA>          FB              <NA>                   <NA>   \n",
       "472          **          CN              <NA>                   <NA>   \n",
       "473          **          CN              <NA>                   <NA>   \n",
       "474        <NA>          CN              <NA>                   <NA>   \n",
       "475           *          CN              <NA>                   <NA>   \n",
       "476          **          CN              <NA>                   <NA>   \n",
       "477        <NA>          CN              <NA>                   <NA>   \n",
       "478           *          FB              <NA>                   <NA>   \n",
       "479           *          FB              <NA>                   <NA>   \n",
       "480          **          FB              <NA>                   <NA>   \n",
       "\n",
       "    Date de collection (abandonné)  \n",
       "470                           <NA>  \n",
       "471                           <NA>  \n",
       "472                           <NA>  \n",
       "473                           <NA>  \n",
       "474                           <NA>  \n",
       "475                           <NA>  \n",
       "476                           <NA>  \n",
       "477                           <NA>  \n",
       "478                           <NA>  \n",
       "479                           <NA>  \n",
       "480                           <NA>  \n",
       "\n",
       "[11 rows x 37 columns]"
      ]
     },
     "execution_count": 7,
     "metadata": {},
     "output_type": "execute_result"
    }
   ],
   "source": [
    "df_recueil.loc[470:]"
   ]
  },
  {
   "cell_type": "markdown",
   "id": "26de4d29",
   "metadata": {},
   "source": [
    "## Expérience\n",
    "---"
   ]
  },
  {
   "cell_type": "markdown",
   "id": "f29d6c3a",
   "metadata": {},
   "source": [
    "### Renommage des labels"
   ]
  },
  {
   "cell_type": "code",
   "execution_count": 8,
   "id": "36fb2d1f",
   "metadata": {},
   "outputs": [],
   "source": [
    "import patat.imp.labels"
   ]
  },
  {
   "cell_type": "code",
   "execution_count": 3,
   "id": "d98d576c",
   "metadata": {},
   "outputs": [
    {
     "ename": "NameError",
     "evalue": "name 'patat' is not defined",
     "output_type": "error",
     "traceback": [
      "\u001b[0;31m---------------------------------------------------------------------------\u001b[0m",
      "\u001b[0;31mNameError\u001b[0m                                 Traceback (most recent call last)",
      "Input \u001b[0;32mIn [3]\u001b[0m, in \u001b[0;36m<cell line: 1>\u001b[0;34m()\u001b[0m\n\u001b[0;32m----> 1\u001b[0m importlib\u001b[38;5;241m.\u001b[39mreload(\u001b[43mpatat\u001b[49m\u001b[38;5;241m.\u001b[39mimp\u001b[38;5;241m.\u001b[39mlabels)\n",
      "\u001b[0;31mNameError\u001b[0m: name 'patat' is not defined"
     ]
    }
   ],
   "source": [
    "importlib.reload(patat.imp.labels)"
   ]
  },
  {
   "cell_type": "code",
   "execution_count": 10,
   "id": "2adf2688",
   "metadata": {},
   "outputs": [
    {
     "data": {
      "text/plain": [
       "{'infox': 'infox',\n",
       " 'signé': 'signe',\n",
       " 'lieux, dates et personnes ': 'entites_nommees',\n",
       " 'lieux, dates et personnes cohérentes': 'entites_coherentes',\n",
       " 'points de vue différents présentés': 'ouverture_esprit',\n",
       " 'écriture de qualité': 'qualite_ecriture',\n",
       " 'intention': 'intention',\n",
       " 'faits': 'faits',\n",
       " 'opinions': 'opinions',\n",
       " 'fausse nouvelle': 'fausse_nouvelle',\n",
       " 'insinuations': 'insinuations',\n",
       " 'exagération': 'exageration',\n",
       " 'scientifique sulfureux': 'scientifique_sulfureux',\n",
       " 'des pages et des pages': 'trop_mots',\n",
       " 'des chiffres et des tableaux': 'trop_chiffres',\n",
       " 'sophisme': 'sophisme',\n",
       " 'inversion de la preuve': 'inversion_preuve',\n",
       " 'invérifiable': 'inverifiable',\n",
       " 'propos rapporté': 'propos_raportes',\n",
       " 'sources citées': 'sources_citees',\n",
       " 'titre décalé': 'titre_decale',\n",
       " 'dénigrement': 'denigrement',\n",
       " 'cherry picking': 'cherry_picking',\n",
       " 'degré infox': 'degre_infox'}"
      ]
     },
     "execution_count": 10,
     "metadata": {},
     "output_type": "execute_result"
    }
   ],
   "source": [
    "patat.imp.labels.label_short_names"
   ]
  },
  {
   "cell_type": "code",
   "execution_count": 11,
   "id": "a9813604",
   "metadata": {},
   "outputs": [],
   "source": [
    "df_rename = df_recueil.rename(columns = patat.imp.labels.label_short_names)"
   ]
  },
  {
   "cell_type": "code",
   "execution_count": 12,
   "id": "3f13ed20",
   "metadata": {
    "scrolled": true
   },
   "outputs": [
    {
     "data": {
      "text/plain": [
       "Index(['# site', '# article', 'Site', 'url', 'Auteur/trice', 'Date',\n",
       "       'Date de publication', 'Titre', 'explication', 'infox', 'signe',\n",
       "       'entites_nommees', 'entites_coherentes', 'ouverture_esprit',\n",
       "       'qualite_ecriture', 'intention', 'faits', 'opinions', 'fausse_nouvelle',\n",
       "       'insinuations', 'exageration', 'scientifique_sulfureux', 'trop_mots',\n",
       "       'trop_chiffres', 'sophisme', 'inversion_preuve', 'inverifiable',\n",
       "       'propos_raportes', 'sources_citees', 'titre_decale', 'denigrement',\n",
       "       'cherry_picking', 'degre_infox', 'observateur', 'thème (abandonné)',\n",
       "       'type infox (abandonné)', 'Date de collection (abandonné)'],\n",
       "      dtype='object')"
      ]
     },
     "execution_count": 12,
     "metadata": {},
     "output_type": "execute_result"
    }
   ],
   "source": [
    "df_rename.keys()"
   ]
  },
  {
   "cell_type": "code",
   "execution_count": 13,
   "id": "2d7108ea",
   "metadata": {},
   "outputs": [],
   "source": [
    "labels = [\n",
    "'infox', 'signe',\n",
    "       'entites_nommees', 'entites_coherentes', 'ouverture_esprit',\n",
    "       'qualite_ecriture',  'faits', 'opinions', 'fausse_nouvelle',\n",
    "       'insinuations', 'exageration', 'scientifique_sulfureux', 'trop_mots',\n",
    "       'trop_chiffres', 'sophisme', 'inversion_preuve', 'inverifiable',\n",
    "       'propos_raportes', 'sources_citees', 'titre_decale', 'denigrement',\n",
    "       'cherry_picking', \n",
    "]"
   ]
  },
  {
   "cell_type": "code",
   "execution_count": 14,
   "id": "6ae8dac5",
   "metadata": {},
   "outputs": [],
   "source": [
    "multi_labels = [\n",
    "    'degre_infox',\n",
    "    'intention',\n",
    "]"
   ]
  },
  {
   "cell_type": "markdown",
   "id": "b02e2987",
   "metadata": {},
   "source": [
    "### Normalisation des labels"
   ]
  },
  {
   "cell_type": "code",
   "execution_count": null,
   "id": "e734b9b3",
   "metadata": {},
   "outputs": [],
   "source": []
  },
  {
   "cell_type": "markdown",
   "id": "ba0834f1",
   "metadata": {},
   "source": [
    "## Mesure et observation des résultats\n",
    "---"
   ]
  },
  {
   "cell_type": "code",
   "execution_count": 15,
   "id": "564fb94f",
   "metadata": {},
   "outputs": [
    {
     "data": {
      "text/plain": [
       "Index(['# site', '# article', 'Site', 'url', 'Auteur/trice', 'Date',\n",
       "       'Date de publication', 'Titre', 'explication', 'infox', 'signe',\n",
       "       'entites_nommees', 'entites_coherentes', 'ouverture_esprit',\n",
       "       'qualite_ecriture', 'intention', 'faits', 'opinions', 'fausse_nouvelle',\n",
       "       'insinuations', 'exageration', 'scientifique_sulfureux', 'trop_mots',\n",
       "       'trop_chiffres', 'sophisme', 'inversion_preuve', 'inverifiable',\n",
       "       'propos_raportes', 'sources_citees', 'titre_decale', 'denigrement',\n",
       "       'cherry_picking', 'degre_infox', 'observateur', 'thème (abandonné)',\n",
       "       'type infox (abandonné)', 'Date de collection (abandonné)'],\n",
       "      dtype='object')"
      ]
     },
     "execution_count": 15,
     "metadata": {},
     "output_type": "execute_result"
    }
   ],
   "source": [
    "df_rename.keys()"
   ]
  },
  {
   "cell_type": "markdown",
   "id": "76996d3a",
   "metadata": {},
   "source": [
    "## Sauvegarde des résultats\n",
    "---"
   ]
  },
  {
   "cell_type": "code",
   "execution_count": 16,
   "id": "827f60e3",
   "metadata": {},
   "outputs": [],
   "source": [
    "df_rename.to_csv('data/tmp/221003-RecueilRename.csv',index=False)"
   ]
  },
  {
   "cell_type": "markdown",
   "id": "fb7949bc",
   "metadata": {},
   "source": [
    "## Conclusions\n",
    "---"
   ]
  },
  {
   "cell_type": "markdown",
   "id": "bd06b261",
   "metadata": {},
   "source": [
    "- Renommage des labels à la source : OK"
   ]
  },
  {
   "cell_type": "markdown",
   "id": "bd360655",
   "metadata": {},
   "source": [
    "## Bricolages\n",
    "---"
   ]
  },
  {
   "cell_type": "code",
   "execution_count": null,
   "id": "39697b37",
   "metadata": {},
   "outputs": [],
   "source": [
    "df_pred"
   ]
  },
  {
   "cell_type": "code",
   "execution_count": null,
   "id": "199d7c76",
   "metadata": {},
   "outputs": [],
   "source": []
  }
 ],
 "metadata": {
  "kernelspec": {
   "display_name": "Python 3 (ipykernel)",
   "language": "python",
   "name": "python3"
  },
  "language_info": {
   "codemirror_mode": {
    "name": "ipython",
    "version": 3
   },
   "file_extension": ".py",
   "mimetype": "text/x-python",
   "name": "python",
   "nbconvert_exporter": "python",
   "pygments_lexer": "ipython3",
   "version": "3.10.2"
  }
 },
 "nbformat": 4,
 "nbformat_minor": 5
}
