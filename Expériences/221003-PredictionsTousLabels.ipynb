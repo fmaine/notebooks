{
 "cells": [
  {
   "cell_type": "markdown",
   "id": "e3ec4689",
   "metadata": {},
   "source": [
    "# Plateforme Agnostique de Traitement et d'Analyse des Textes\n",
    "### Paillasse d'expérimentation\n",
    "---\n",
    "\n",
    "## Sujet : Prédiction BoW/RL pour tous les labels\n",
    "\n",
    "---\n"
   ]
  },
  {
   "cell_type": "markdown",
   "id": "ad77a9d6",
   "metadata": {},
   "source": [
    "## Initialisation de la paillasse \n",
    "---"
   ]
  },
  {
   "cell_type": "code",
   "execution_count": 2,
   "id": "5d0de4d7",
   "metadata": {},
   "outputs": [
    {
     "name": "stdout",
     "output_type": "stream",
     "text": [
      "/Users/fm/Desktop/Work/Patat\n"
     ]
    }
   ],
   "source": [
    "cd ../.."
   ]
  },
  {
   "cell_type": "code",
   "execution_count": 3,
   "id": "32256b0d",
   "metadata": {},
   "outputs": [],
   "source": [
    "import importlib\n",
    "import pandas as pd"
   ]
  },
  {
   "cell_type": "markdown",
   "id": "de6dc21a",
   "metadata": {},
   "source": [
    "## Observations et environnement\n",
    "---"
   ]
  },
  {
   "cell_type": "markdown",
   "id": "29618668",
   "metadata": {},
   "source": [
    "### Chargement du corpus"
   ]
  },
  {
   "cell_type": "code",
   "execution_count": 4,
   "id": "05cde00c",
   "metadata": {},
   "outputs": [],
   "source": [
    "corpus_filename = 'tmp/221003-CorpusLabel.csv'"
   ]
  },
  {
   "cell_type": "code",
   "execution_count": 5,
   "id": "82c08337",
   "metadata": {
    "scrolled": true
   },
   "outputs": [
    {
     "name": "stderr",
     "output_type": "stream",
     "text": [
      "/var/folders/n0/92k02lss71s67fxfyc0qn84m0000gn/T/ipykernel_49467/3410691136.py:1: DtypeWarning: Columns (4,12) have mixed types. Specify dtype option on import or set low_memory=False.\n",
      "  df_corpus = pd.read_csv(f'data/{corpus_filename}')\n"
     ]
    }
   ],
   "source": [
    "df_corpus = pd.read_csv(f'data/{corpus_filename}')\n",
    "df_corpus = df_corpus.convert_dtypes()"
   ]
  },
  {
   "cell_type": "code",
   "execution_count": 7,
   "id": "fb4c729d",
   "metadata": {},
   "outputs": [
    {
     "data": {
      "text/html": [
       "<div>\n",
       "<style scoped>\n",
       "    .dataframe tbody tr th:only-of-type {\n",
       "        vertical-align: middle;\n",
       "    }\n",
       "\n",
       "    .dataframe tbody tr th {\n",
       "        vertical-align: top;\n",
       "    }\n",
       "\n",
       "    .dataframe thead th {\n",
       "        text-align: right;\n",
       "    }\n",
       "</style>\n",
       "<table border=\"1\" class=\"dataframe\">\n",
       "  <thead>\n",
       "    <tr style=\"text-align: right;\">\n",
       "      <th></th>\n",
       "      <th>url</th>\n",
       "      <th>title</th>\n",
       "      <th>article</th>\n",
       "      <th>tag</th>\n",
       "      <th>abstract</th>\n",
       "      <th>author</th>\n",
       "      <th>date</th>\n",
       "      <th>date_iso</th>\n",
       "      <th>site</th>\n",
       "      <th>text</th>\n",
       "      <th>...</th>\n",
       "      <th>trop_mots</th>\n",
       "      <th>trop_chiffres</th>\n",
       "      <th>sophisme</th>\n",
       "      <th>inversion_preuve</th>\n",
       "      <th>inverifiable</th>\n",
       "      <th>propos_raportes</th>\n",
       "      <th>sources_citees</th>\n",
       "      <th>titre_decale</th>\n",
       "      <th>denigrement</th>\n",
       "      <th>cherry_picking</th>\n",
       "    </tr>\n",
       "  </thead>\n",
       "  <tbody>\n",
       "  </tbody>\n",
       "</table>\n",
       "<p>0 rows × 36 columns</p>\n",
       "</div>"
      ],
      "text/plain": [
       "Empty DataFrame\n",
       "Columns: [url, title, article, tag, abstract, author, date, date_iso, site, text, y, y_proba, parse_method, words, infox, signe, entites_nommees, entites_coherentes, ouverture_esprit, qualite_ecriture, faits, opinions, fausse_nouvelle, insinuations, exageration, scientifique_sulfureux, trop_mots, trop_chiffres, sophisme, inversion_preuve, inverifiable, propos_raportes, sources_citees, titre_decale, denigrement, cherry_picking]\n",
       "Index: []\n",
       "\n",
       "[0 rows x 36 columns]"
      ]
     },
     "execution_count": 7,
     "metadata": {},
     "output_type": "execute_result"
    }
   ],
   "source": [
    "df_corpus[df_corpus['url'].isna()]"
   ]
  },
  {
   "cell_type": "code",
   "execution_count": 27,
   "id": "5d69f9f5",
   "metadata": {},
   "outputs": [
    {
     "data": {
      "text/html": [
       "<div>\n",
       "<style scoped>\n",
       "    .dataframe tbody tr th:only-of-type {\n",
       "        vertical-align: middle;\n",
       "    }\n",
       "\n",
       "    .dataframe tbody tr th {\n",
       "        vertical-align: top;\n",
       "    }\n",
       "\n",
       "    .dataframe thead th {\n",
       "        text-align: right;\n",
       "    }\n",
       "</style>\n",
       "<table border=\"1\" class=\"dataframe\">\n",
       "  <thead>\n",
       "    <tr style=\"text-align: right;\">\n",
       "      <th></th>\n",
       "      <th>url</th>\n",
       "      <th>title</th>\n",
       "      <th>article</th>\n",
       "      <th>tag</th>\n",
       "      <th>abstract</th>\n",
       "      <th>author</th>\n",
       "      <th>date</th>\n",
       "      <th>date_iso</th>\n",
       "      <th>site</th>\n",
       "      <th>text</th>\n",
       "      <th>...</th>\n",
       "      <th>trop_mots</th>\n",
       "      <th>trop_chiffres</th>\n",
       "      <th>sophisme</th>\n",
       "      <th>inversion_preuve</th>\n",
       "      <th>inverifiable</th>\n",
       "      <th>propos_raportes</th>\n",
       "      <th>sources_citees</th>\n",
       "      <th>titre_decale</th>\n",
       "      <th>denigrement</th>\n",
       "      <th>cherry_picking</th>\n",
       "    </tr>\n",
       "  </thead>\n",
       "  <tbody>\n",
       "    <tr>\n",
       "      <th>3273</th>\n",
       "      <td>https://fr.novopress.info/227346/immigration-c...</td>\n",
       "      <td>Immigration clandestine : répartir ou renvoyer...</td>\n",
       "      <td>Comment faire face à l’immigration clandestine...</td>\n",
       "      <td>['Étiquettes crise alimentaire, immigration cl...</td>\n",
       "      <td>&lt;NA&gt;</td>\n",
       "      <td>Novopress</td>\n",
       "      <td>1 juillet 2022</td>\n",
       "      <td>2022-07-01T00:00:00</td>\n",
       "      <td>fr.novopress.info</td>\n",
       "      <td>Immigration clandestine : répartir ou renvoyer...</td>\n",
       "      <td>...</td>\n",
       "      <td>0</td>\n",
       "      <td>0</td>\n",
       "      <td>0</td>\n",
       "      <td>0</td>\n",
       "      <td>0</td>\n",
       "      <td>0</td>\n",
       "      <td>1</td>\n",
       "      <td>0</td>\n",
       "      <td>&lt;NA&gt;</td>\n",
       "      <td>&lt;NA&gt;</td>\n",
       "    </tr>\n",
       "    <tr>\n",
       "      <th>3283</th>\n",
       "      <td>https://fr.novopress.info/227381/lalgerie-un-p...</td>\n",
       "      <td>L’Algérie, un pays jeune gouverné par des viei...</td>\n",
       "      <td>L’Algérie (46 millions d’habitants en 2022), e...</td>\n",
       "      <td>['Étiquettes Algérie, Bernard Lugan']</td>\n",
       "      <td>&lt;NA&gt;</td>\n",
       "      <td>Novopress</td>\n",
       "      <td>6 juillet 2022</td>\n",
       "      <td>2022-07-06T00:00:00</td>\n",
       "      <td>fr.novopress.info</td>\n",
       "      <td>L’Algérie, un pays jeune gouverné par des viei...</td>\n",
       "      <td>...</td>\n",
       "      <td>0</td>\n",
       "      <td>0</td>\n",
       "      <td>0</td>\n",
       "      <td>0</td>\n",
       "      <td>0</td>\n",
       "      <td>0</td>\n",
       "      <td>0</td>\n",
       "      <td>0</td>\n",
       "      <td>&lt;NA&gt;</td>\n",
       "      <td>&lt;NA&gt;</td>\n",
       "    </tr>\n",
       "    <tr>\n",
       "      <th>3289</th>\n",
       "      <td>https://fr.novopress.info/227410/un-president-...</td>\n",
       "      <td>Un président réélu : et après ?, par Philippe ...</td>\n",
       "      <td>On ne peut pas s’empêcher de penser qu’avec ce...</td>\n",
       "      <td>['Étiquettes Emmanuel Macron, Philippe Bilger,...</td>\n",
       "      <td>&lt;NA&gt;</td>\n",
       "      <td>Novopress</td>\n",
       "      <td>7 juillet 2022</td>\n",
       "      <td>2022-07-07T00:00:00</td>\n",
       "      <td>fr.novopress.info</td>\n",
       "      <td>Un président réélu : et après ?, par Philippe ...</td>\n",
       "      <td>...</td>\n",
       "      <td>0</td>\n",
       "      <td>0</td>\n",
       "      <td>0</td>\n",
       "      <td>0</td>\n",
       "      <td>0</td>\n",
       "      <td>0</td>\n",
       "      <td>0</td>\n",
       "      <td>0</td>\n",
       "      <td>&lt;NA&gt;</td>\n",
       "      <td>&lt;NA&gt;</td>\n",
       "    </tr>\n",
       "    <tr>\n",
       "      <th>3641</th>\n",
       "      <td>https://fr.novopress.info/actualite-politique-...</td>\n",
       "      <td>Qui est Alexandre Douguine? Anatomie d’une pen...</td>\n",
       "      <td>L’assassinat de Daria Douguine a conduit de no...</td>\n",
       "      <td>['Étiquettes Alexandre Douguine, Revue Elément...</td>\n",
       "      <td>&lt;NA&gt;</td>\n",
       "      <td>Novopress</td>\n",
       "      <td>29 août 2022</td>\n",
       "      <td>2022-08-29T00:00:00</td>\n",
       "      <td>fr.novopress.info</td>\n",
       "      <td>Qui est Alexandre Douguine? Anatomie d’une pen...</td>\n",
       "      <td>...</td>\n",
       "      <td>0</td>\n",
       "      <td>0</td>\n",
       "      <td>0</td>\n",
       "      <td>0</td>\n",
       "      <td>0</td>\n",
       "      <td>0</td>\n",
       "      <td>0</td>\n",
       "      <td>0</td>\n",
       "      <td>0</td>\n",
       "      <td>&lt;NA&gt;</td>\n",
       "    </tr>\n",
       "    <tr>\n",
       "      <th>5951</th>\n",
       "      <td>https://fr.sott.net/article/39998-Le-Pentag</td>\n",
       "      <td>Le Pentagone organise la victoire de l'Ukraine...</td>\n",
       "      <td>Le festival de l'Eurovision 2022 s'est tenu à ...</td>\n",
       "      <td>[]</td>\n",
       "      <td>&lt;NA&gt;</td>\n",
       "      <td>&lt;NA&gt;</td>\n",
       "      <td>&lt;NA&gt;</td>\n",
       "      <td>&lt;NA&gt;</td>\n",
       "      <td>fr.sott.net</td>\n",
       "      <td>Le Pentagone organise la victoire de l'Ukraine...</td>\n",
       "      <td>...</td>\n",
       "      <td>0</td>\n",
       "      <td>0</td>\n",
       "      <td>0</td>\n",
       "      <td>0</td>\n",
       "      <td>1</td>\n",
       "      <td>0</td>\n",
       "      <td>0</td>\n",
       "      <td>1</td>\n",
       "      <td>&lt;NA&gt;</td>\n",
       "      <td>&lt;NA&gt;</td>\n",
       "    </tr>\n",
       "    <tr>\n",
       "      <th>...</th>\n",
       "      <td>...</td>\n",
       "      <td>...</td>\n",
       "      <td>...</td>\n",
       "      <td>...</td>\n",
       "      <td>...</td>\n",
       "      <td>...</td>\n",
       "      <td>...</td>\n",
       "      <td>...</td>\n",
       "      <td>...</td>\n",
       "      <td>...</td>\n",
       "      <td>...</td>\n",
       "      <td>...</td>\n",
       "      <td>...</td>\n",
       "      <td>...</td>\n",
       "      <td>...</td>\n",
       "      <td>...</td>\n",
       "      <td>...</td>\n",
       "      <td>...</td>\n",
       "      <td>...</td>\n",
       "      <td>...</td>\n",
       "      <td>...</td>\n",
       "    </tr>\n",
       "    <tr>\n",
       "      <th>88172</th>\n",
       "      <td>https://www.wikistrike.com/2022/08/les-vaccine...</td>\n",
       "      <td>Les vaccinés infectés au Covid restent contagi...</td>\n",
       "      <td>Une étude publiée le 21 juin 2022 par le New E...</td>\n",
       "      <td>[]</td>\n",
       "      <td>&lt;NA&gt;</td>\n",
       "      <td>&lt;NA&gt;</td>\n",
       "      <td>Publié par wikistrike.com\n",
       "                    ...</td>\n",
       "      <td>2022-08-20T00:00:00</td>\n",
       "      <td>www.wikistrike.com</td>\n",
       "      <td>Les vaccinés infectés au Covid restent contagi...</td>\n",
       "      <td>...</td>\n",
       "      <td>0</td>\n",
       "      <td>1</td>\n",
       "      <td>0</td>\n",
       "      <td>0</td>\n",
       "      <td>0</td>\n",
       "      <td>1</td>\n",
       "      <td>1</td>\n",
       "      <td>0</td>\n",
       "      <td>1</td>\n",
       "      <td>&lt;NA&gt;</td>\n",
       "    </tr>\n",
       "    <tr>\n",
       "      <th>88198</th>\n",
       "      <td>https://www.wikistrike.com/2022/08/washington-...</td>\n",
       "      <td>Washington enverrait des mercenaires afghans c...</td>\n",
       "      <td>Des spécialistes originaires d'Afghanistan par...</td>\n",
       "      <td>[]</td>\n",
       "      <td>&lt;NA&gt;</td>\n",
       "      <td>&lt;NA&gt;</td>\n",
       "      <td>Publié par wikistrike.com\n",
       "                    ...</td>\n",
       "      <td>2022-08-20T00:00:00</td>\n",
       "      <td>www.wikistrike.com</td>\n",
       "      <td>Washington enverrait des mercenaires afghans c...</td>\n",
       "      <td>...</td>\n",
       "      <td>0</td>\n",
       "      <td>0</td>\n",
       "      <td>0</td>\n",
       "      <td>1</td>\n",
       "      <td>1</td>\n",
       "      <td>1</td>\n",
       "      <td>0</td>\n",
       "      <td>0</td>\n",
       "      <td>0</td>\n",
       "      <td>&lt;NA&gt;</td>\n",
       "    </tr>\n",
       "    <tr>\n",
       "      <th>88206</th>\n",
       "      <td>https://www.wikistrike.com/2022/09/11-septembr...</td>\n",
       "      <td>11 septembre 2001 : La théorie du « complot pi...</td>\n",
       "      <td>Le 11 septembre pour les nuls\n",
       "Est-il vrai que ...</td>\n",
       "      <td>[]</td>\n",
       "      <td>&lt;NA&gt;</td>\n",
       "      <td>&lt;NA&gt;</td>\n",
       "      <td>Publié par wikistrike.com\n",
       "                    ...</td>\n",
       "      <td>2022-09-29T00:00:00</td>\n",
       "      <td>&lt;NA&gt;</td>\n",
       "      <td>&lt;NA&gt;</td>\n",
       "      <td>...</td>\n",
       "      <td>1</td>\n",
       "      <td>0</td>\n",
       "      <td>0</td>\n",
       "      <td>0</td>\n",
       "      <td>0</td>\n",
       "      <td>1</td>\n",
       "      <td>0</td>\n",
       "      <td>0</td>\n",
       "      <td>0</td>\n",
       "      <td>&lt;NA&gt;</td>\n",
       "    </tr>\n",
       "    <tr>\n",
       "      <th>88211</th>\n",
       "      <td>https://www.wikistrike.com/2022/09/coupures-el...</td>\n",
       "      <td>Coupures électriques imminentes en France</td>\n",
       "      <td>Selon Reuters, le gouvernement français s'appr...</td>\n",
       "      <td>[]</td>\n",
       "      <td>&lt;NA&gt;</td>\n",
       "      <td>&lt;NA&gt;</td>\n",
       "      <td>Publié par wikistrike.com\n",
       "                    ...</td>\n",
       "      <td>2022-09-29T00:00:00</td>\n",
       "      <td>&lt;NA&gt;</td>\n",
       "      <td>&lt;NA&gt;</td>\n",
       "      <td>...</td>\n",
       "      <td>0</td>\n",
       "      <td>0</td>\n",
       "      <td>0</td>\n",
       "      <td>0</td>\n",
       "      <td>0</td>\n",
       "      <td>1</td>\n",
       "      <td>0</td>\n",
       "      <td>1</td>\n",
       "      <td>0</td>\n",
       "      <td>&lt;NA&gt;</td>\n",
       "    </tr>\n",
       "    <tr>\n",
       "      <th>88248</th>\n",
       "      <td>https://www.wikistrike.com/2022/09/les-command...</td>\n",
       "      <td>Les commandos ukrainiens qui ont attaqué la ce...</td>\n",
       "      <td>(!) Source russe \n",
       "\n",
       "\n",
       "Les quelques unités de l’a...</td>\n",
       "      <td>[]</td>\n",
       "      <td>&lt;NA&gt;</td>\n",
       "      <td>&lt;NA&gt;</td>\n",
       "      <td>Publié par wikistrike.com\n",
       "                    ...</td>\n",
       "      <td>2022-09-02T00:00:00</td>\n",
       "      <td>www.wikistrike.com</td>\n",
       "      <td>Les commandos ukrainiens qui ont attaqué la ce...</td>\n",
       "      <td>...</td>\n",
       "      <td>0</td>\n",
       "      <td>0</td>\n",
       "      <td>0</td>\n",
       "      <td>1</td>\n",
       "      <td>1</td>\n",
       "      <td>1</td>\n",
       "      <td>1</td>\n",
       "      <td>0</td>\n",
       "      <td>1</td>\n",
       "      <td>&lt;NA&gt;</td>\n",
       "    </tr>\n",
       "  </tbody>\n",
       "</table>\n",
       "<p>464 rows × 36 columns</p>\n",
       "</div>"
      ],
      "text/plain": [
       "                                                     url  \\\n",
       "3273   https://fr.novopress.info/227346/immigration-c...   \n",
       "3283   https://fr.novopress.info/227381/lalgerie-un-p...   \n",
       "3289   https://fr.novopress.info/227410/un-president-...   \n",
       "3641   https://fr.novopress.info/actualite-politique-...   \n",
       "5951         https://fr.sott.net/article/39998-Le-Pentag   \n",
       "...                                                  ...   \n",
       "88172  https://www.wikistrike.com/2022/08/les-vaccine...   \n",
       "88198  https://www.wikistrike.com/2022/08/washington-...   \n",
       "88206  https://www.wikistrike.com/2022/09/11-septembr...   \n",
       "88211  https://www.wikistrike.com/2022/09/coupures-el...   \n",
       "88248  https://www.wikistrike.com/2022/09/les-command...   \n",
       "\n",
       "                                                   title  \\\n",
       "3273   Immigration clandestine : répartir ou renvoyer...   \n",
       "3283   L’Algérie, un pays jeune gouverné par des viei...   \n",
       "3289   Un président réélu : et après ?, par Philippe ...   \n",
       "3641   Qui est Alexandre Douguine? Anatomie d’une pen...   \n",
       "5951   Le Pentagone organise la victoire de l'Ukraine...   \n",
       "...                                                  ...   \n",
       "88172  Les vaccinés infectés au Covid restent contagi...   \n",
       "88198  Washington enverrait des mercenaires afghans c...   \n",
       "88206  11 septembre 2001 : La théorie du « complot pi...   \n",
       "88211          Coupures électriques imminentes en France   \n",
       "88248  Les commandos ukrainiens qui ont attaqué la ce...   \n",
       "\n",
       "                                                 article  \\\n",
       "3273   Comment faire face à l’immigration clandestine...   \n",
       "3283   L’Algérie (46 millions d’habitants en 2022), e...   \n",
       "3289   On ne peut pas s’empêcher de penser qu’avec ce...   \n",
       "3641   L’assassinat de Daria Douguine a conduit de no...   \n",
       "5951   Le festival de l'Eurovision 2022 s'est tenu à ...   \n",
       "...                                                  ...   \n",
       "88172  Une étude publiée le 21 juin 2022 par le New E...   \n",
       "88198  Des spécialistes originaires d'Afghanistan par...   \n",
       "88206  Le 11 septembre pour les nuls\n",
       "Est-il vrai que ...   \n",
       "88211  Selon Reuters, le gouvernement français s'appr...   \n",
       "88248  (!) Source russe \n",
       "\n",
       "\n",
       "Les quelques unités de l’a...   \n",
       "\n",
       "                                                     tag abstract     author  \\\n",
       "3273   ['Étiquettes crise alimentaire, immigration cl...     <NA>  Novopress   \n",
       "3283               ['Étiquettes Algérie, Bernard Lugan']     <NA>  Novopress   \n",
       "3289   ['Étiquettes Emmanuel Macron, Philippe Bilger,...     <NA>  Novopress   \n",
       "3641   ['Étiquettes Alexandre Douguine, Revue Elément...     <NA>  Novopress   \n",
       "5951                                                  []     <NA>       <NA>   \n",
       "...                                                  ...      ...        ...   \n",
       "88172                                                 []     <NA>       <NA>   \n",
       "88198                                                 []     <NA>       <NA>   \n",
       "88206                                                 []     <NA>       <NA>   \n",
       "88211                                                 []     <NA>       <NA>   \n",
       "88248                                                 []     <NA>       <NA>   \n",
       "\n",
       "                                                    date             date_iso  \\\n",
       "3273                                      1 juillet 2022  2022-07-01T00:00:00   \n",
       "3283                                      6 juillet 2022  2022-07-06T00:00:00   \n",
       "3289                                      7 juillet 2022  2022-07-07T00:00:00   \n",
       "3641                                        29 août 2022  2022-08-29T00:00:00   \n",
       "5951                                                <NA>                 <NA>   \n",
       "...                                                  ...                  ...   \n",
       "88172  Publié par wikistrike.com\n",
       "                    ...  2022-08-20T00:00:00   \n",
       "88198  Publié par wikistrike.com\n",
       "                    ...  2022-08-20T00:00:00   \n",
       "88206  Publié par wikistrike.com\n",
       "                    ...  2022-09-29T00:00:00   \n",
       "88211  Publié par wikistrike.com\n",
       "                    ...  2022-09-29T00:00:00   \n",
       "88248  Publié par wikistrike.com\n",
       "                    ...  2022-09-02T00:00:00   \n",
       "\n",
       "                     site                                               text  \\\n",
       "3273    fr.novopress.info  Immigration clandestine : répartir ou renvoyer...   \n",
       "3283    fr.novopress.info  L’Algérie, un pays jeune gouverné par des viei...   \n",
       "3289    fr.novopress.info  Un président réélu : et après ?, par Philippe ...   \n",
       "3641    fr.novopress.info  Qui est Alexandre Douguine? Anatomie d’une pen...   \n",
       "5951          fr.sott.net  Le Pentagone organise la victoire de l'Ukraine...   \n",
       "...                   ...                                                ...   \n",
       "88172  www.wikistrike.com  Les vaccinés infectés au Covid restent contagi...   \n",
       "88198  www.wikistrike.com  Washington enverrait des mercenaires afghans c...   \n",
       "88206                <NA>                                               <NA>   \n",
       "88211                <NA>                                               <NA>   \n",
       "88248  www.wikistrike.com  Les commandos ukrainiens qui ont attaqué la ce...   \n",
       "\n",
       "       ...  trop_mots  trop_chiffres sophisme  inversion_preuve  inverifiable  \\\n",
       "3273   ...          0              0        0                 0             0   \n",
       "3283   ...          0              0        0                 0             0   \n",
       "3289   ...          0              0        0                 0             0   \n",
       "3641   ...          0              0        0                 0             0   \n",
       "5951   ...          0              0        0                 0             1   \n",
       "...    ...        ...            ...      ...               ...           ...   \n",
       "88172  ...          0              1        0                 0             0   \n",
       "88198  ...          0              0        0                 1             1   \n",
       "88206  ...          1              0        0                 0             0   \n",
       "88211  ...          0              0        0                 0             0   \n",
       "88248  ...          0              0        0                 1             1   \n",
       "\n",
       "       propos_raportes  sources_citees  titre_decale  denigrement  \\\n",
       "3273                 0               1             0         <NA>   \n",
       "3283                 0               0             0         <NA>   \n",
       "3289                 0               0             0         <NA>   \n",
       "3641                 0               0             0            0   \n",
       "5951                 0               0             1         <NA>   \n",
       "...                ...             ...           ...          ...   \n",
       "88172                1               1             0            1   \n",
       "88198                1               0             0            0   \n",
       "88206                1               0             0            0   \n",
       "88211                1               0             1            0   \n",
       "88248                1               1             0            1   \n",
       "\n",
       "       cherry_picking  \n",
       "3273             <NA>  \n",
       "3283             <NA>  \n",
       "3289             <NA>  \n",
       "3641             <NA>  \n",
       "5951             <NA>  \n",
       "...               ...  \n",
       "88172            <NA>  \n",
       "88198            <NA>  \n",
       "88206            <NA>  \n",
       "88211            <NA>  \n",
       "88248            <NA>  \n",
       "\n",
       "[464 rows x 36 columns]"
      ]
     },
     "execution_count": 27,
     "metadata": {},
     "output_type": "execute_result"
    }
   ],
   "source": [
    "df_corpus[df_corpus['infox'].notna()]"
   ]
  },
  {
   "cell_type": "markdown",
   "id": "26de4d29",
   "metadata": {},
   "source": [
    "## Expérience\n",
    "---"
   ]
  },
  {
   "cell_type": "markdown",
   "id": "f29d6c3a",
   "metadata": {},
   "source": [
    "### Céation bags of Words"
   ]
  },
  {
   "cell_type": "markdown",
   "id": "885a9aa4",
   "metadata": {},
   "source": [
    "#### Mots non signifiants"
   ]
  },
  {
   "cell_type": "code",
   "execution_count": 22,
   "id": "b8466ebb",
   "metadata": {},
   "outputs": [],
   "source": [
    "import patat.ml.lex_analyser\n",
    "\n",
    "lex = patat.ml.lex_analyser.LexAnalyser()\n",
    "\n",
    "def merge_texts(texts):\n",
    "    result = ''\n",
    "    for text in texts:\n",
    "        result = result + text + '\\n'\n",
    "    return result\n",
    "\n",
    "def count_words_label(df,label):\n",
    "    df = df[df[label].notna()]\n",
    "    df_texts = pd.pivot_table(df, values='text', index=None, columns=label, aggfunc=merge_texts)\n",
    "    wc = {}\n",
    "    word_analysis = {}\n",
    "    for key in df_texts.keys():\n",
    "        text = df_texts[key]['text']\n",
    "        count_colname = label+'_'+str(key)\n",
    "        wc[key] = lex.count_tokens(lex.get_words(text))\n",
    "        for word in wc[key]:\n",
    "            word_dic = word_analysis.get(word,{})\n",
    "            word_dic[count_colname]=wc[key][word]\n",
    "            word_analysis[word]=word_dic\n",
    "    return word_analysis"
   ]
  },
  {
   "cell_type": "code",
   "execution_count": 23,
   "id": "0cc3ad55",
   "metadata": {},
   "outputs": [],
   "source": [
    "import patat.imp.labels"
   ]
  },
  {
   "cell_type": "code",
   "execution_count": 24,
   "id": "5be7315f",
   "metadata": {},
   "outputs": [],
   "source": [
    "label_names = patat.imp.labels.labels"
   ]
  },
  {
   "cell_type": "code",
   "execution_count": 25,
   "id": "5f07d3b7",
   "metadata": {},
   "outputs": [
    {
     "data": {
      "text/plain": [
       "{}"
      ]
     },
     "execution_count": 25,
     "metadata": {},
     "output_type": "execute_result"
    }
   ],
   "source": [
    "count_words_label(df_corpus,'infox')"
   ]
  },
  {
   "cell_type": "code",
   "execution_count": 26,
   "id": "e8944b9c",
   "metadata": {},
   "outputs": [
    {
     "data": {
      "text/html": [
       "<div>\n",
       "<style scoped>\n",
       "    .dataframe tbody tr th:only-of-type {\n",
       "        vertical-align: middle;\n",
       "    }\n",
       "\n",
       "    .dataframe tbody tr th {\n",
       "        vertical-align: top;\n",
       "    }\n",
       "\n",
       "    .dataframe thead th {\n",
       "        text-align: right;\n",
       "    }\n",
       "</style>\n",
       "<table border=\"1\" class=\"dataframe\">\n",
       "  <thead>\n",
       "    <tr style=\"text-align: right;\">\n",
       "      <th>signe</th>\n",
       "    </tr>\n",
       "  </thead>\n",
       "  <tbody>\n",
       "    <tr>\n",
       "      <th>text</th>\n",
       "    </tr>\n",
       "  </tbody>\n",
       "</table>\n",
       "</div>"
      ],
      "text/plain": [
       "Empty DataFrame\n",
       "Columns: []\n",
       "Index: [text]"
      ]
     },
     "execution_count": 26,
     "metadata": {},
     "output_type": "execute_result"
    }
   ],
   "source": [
    "pd.pivot_table(df_corpus, values='text', index=None, columns='signe', aggfunc=merge_texts)"
   ]
  },
  {
   "cell_type": "code",
   "execution_count": 9,
   "id": "78e674ca",
   "metadata": {},
   "outputs": [],
   "source": [
    "df_count = pd.DataFrame(count_words_label(df_corpus,'infox')).T\n",
    "df_count = df_count.fillna(0)"
   ]
  },
  {
   "cell_type": "code",
   "execution_count": 10,
   "id": "f6a88e04",
   "metadata": {},
   "outputs": [
    {
     "data": {
      "text/plain": [
       "(0, 0)"
      ]
     },
     "execution_count": 10,
     "metadata": {},
     "output_type": "execute_result"
    }
   ],
   "source": [
    "df_count.shape"
   ]
  },
  {
   "cell_type": "code",
   "execution_count": 11,
   "id": "207f707d",
   "metadata": {},
   "outputs": [
    {
     "data": {
      "text/html": [
       "<div>\n",
       "<style scoped>\n",
       "    .dataframe tbody tr th:only-of-type {\n",
       "        vertical-align: middle;\n",
       "    }\n",
       "\n",
       "    .dataframe tbody tr th {\n",
       "        vertical-align: top;\n",
       "    }\n",
       "\n",
       "    .dataframe thead th {\n",
       "        text-align: right;\n",
       "    }\n",
       "</style>\n",
       "<table border=\"1\" class=\"dataframe\">\n",
       "  <thead>\n",
       "    <tr style=\"text-align: right;\">\n",
       "      <th></th>\n",
       "    </tr>\n",
       "  </thead>\n",
       "  <tbody>\n",
       "  </tbody>\n",
       "</table>\n",
       "</div>"
      ],
      "text/plain": [
       "Empty DataFrame\n",
       "Columns: []\n",
       "Index: []"
      ]
     },
     "execution_count": 11,
     "metadata": {},
     "output_type": "execute_result"
    }
   ],
   "source": [
    "df_count"
   ]
  },
  {
   "cell_type": "markdown",
   "id": "75f6f8ae",
   "metadata": {},
   "source": [
    "#### Identification des mots rares"
   ]
  },
  {
   "cell_type": "code",
   "execution_count": null,
   "id": "22d03cca",
   "metadata": {},
   "outputs": [],
   "source": [
    "occ_rare = 3\n",
    "def is_rare(row):\n",
    "    return row['infox_0.0'] < occ_rare and row['infox_1.0'] < occ_rare\n",
    "\n",
    "df_rare = df_count[df_count.apply(is_rare,axis=1)]\n",
    "\n",
    "rare_words = list(df_rare.index)\n",
    "len(rare_words)\n",
    "\n",
    "### Identification des mots communs\n",
    "\n",
    "common_size = 100\n",
    "top_0 = df_count.sort_values('infox_0.0',ascending=False).head(common_size).index\n",
    "top_1 = df_count.sort_values('infox_1.0',ascending=False).head(common_size).index\n",
    "common_words = []\n",
    "for word in top_0:\n",
    "    if word in top_1:\n",
    "        common_words.append(word)\n",
    "len(common_words)\n",
    "\n",
    "common_words\n",
    "\n",
    "ignore_words = common_words + rare_words"
   ]
  },
  {
   "cell_type": "code",
   "execution_count": null,
   "id": "3f224e47",
   "metadata": {},
   "outputs": [],
   "source": [
    "common_words"
   ]
  },
  {
   "cell_type": "markdown",
   "id": "08e54064",
   "metadata": {},
   "source": [
    "#### Vectorizer"
   ]
  },
  {
   "cell_type": "code",
   "execution_count": null,
   "id": "3760bef4",
   "metadata": {},
   "outputs": [],
   "source": [
    "from sklearn.feature_extraction.text import CountVectorizer"
   ]
  },
  {
   "cell_type": "code",
   "execution_count": null,
   "id": "311313c0",
   "metadata": {},
   "outputs": [],
   "source": [
    "count_vectorizer = CountVectorizer(stop_words=ignore_words)\n",
    "#count_vectorizer = CountVectorizer()"
   ]
  },
  {
   "cell_type": "code",
   "execution_count": null,
   "id": "fd1b853b",
   "metadata": {},
   "outputs": [],
   "source": [
    "corpus = df_corpus['text']\n",
    "X = count_vectorizer.fit_transform(corpus)\n",
    "y = df_corpus['infox']"
   ]
  },
  {
   "cell_type": "markdown",
   "id": "00f480cd",
   "metadata": {},
   "source": [
    "### Construction des Datasets d'entrainement et de test"
   ]
  },
  {
   "cell_type": "code",
   "execution_count": null,
   "id": "9afd44ae",
   "metadata": {},
   "outputs": [],
   "source": [
    "df_train = df_corpus[df_corpus['infox'].notna()]\n",
    "X_train = X[df_train.index]\n",
    "y_train = df_train['infox']"
   ]
  },
  {
   "cell_type": "code",
   "execution_count": null,
   "id": "835402d4",
   "metadata": {},
   "outputs": [],
   "source": [
    "X_train.shape"
   ]
  },
  {
   "cell_type": "markdown",
   "id": "8df9935c",
   "metadata": {},
   "source": [
    "### Entrainement du modele"
   ]
  },
  {
   "cell_type": "code",
   "execution_count": null,
   "id": "a34e9e64",
   "metadata": {},
   "outputs": [],
   "source": [
    "from sklearn.linear_model import LogisticRegression\n",
    "from sklearn import metrics\n",
    "\n",
    "#lr = LogisticRegression(C=100.0, random_state=1, solver='lbfgs', multi_class='ovr', max_iter=1000)\n",
    "classifier = LogisticRegression(max_iter=1000)\n",
    "\n",
    "# Fit the model\n",
    "classifier.fit(X_train, y_train)\n"
   ]
  },
  {
   "cell_type": "markdown",
   "id": "99135e2e",
   "metadata": {},
   "source": [
    "### Prédictions sur le corpus"
   ]
  },
  {
   "cell_type": "code",
   "execution_count": null,
   "id": "33eb3dcc",
   "metadata": {},
   "outputs": [],
   "source": [
    "df_pred = df_corpus"
   ]
  },
  {
   "cell_type": "code",
   "execution_count": null,
   "id": "df9c33a1",
   "metadata": {},
   "outputs": [],
   "source": [
    "vectorizer = predictor['descriptor']\n",
    "classifier = predictor['classifier']"
   ]
  },
  {
   "cell_type": "code",
   "execution_count": null,
   "id": "1bd37d3b",
   "metadata": {},
   "outputs": [],
   "source": [
    "%%time\n",
    "X = vectorizer.transform(df_pred['text'])"
   ]
  },
  {
   "cell_type": "code",
   "execution_count": null,
   "id": "042105e1",
   "metadata": {},
   "outputs": [],
   "source": [
    "%%time\n",
    "y = classifier.predict(X)\n",
    "y_proba = classifier.predict_proba(X)[:,1]\n",
    "\n",
    "\n"
   ]
  },
  {
   "cell_type": "code",
   "execution_count": null,
   "id": "7c037744",
   "metadata": {},
   "outputs": [],
   "source": [
    "df_pred.loc[:,'y'] = y\n",
    "df_pred.loc[:,'y_proba'] = y_proba"
   ]
  },
  {
   "cell_type": "code",
   "execution_count": null,
   "id": "362af487",
   "metadata": {},
   "outputs": [],
   "source": [
    "df_pred"
   ]
  },
  {
   "cell_type": "code",
   "execution_count": null,
   "id": "36fb2d1f",
   "metadata": {},
   "outputs": [],
   "source": []
  },
  {
   "cell_type": "markdown",
   "id": "ba0834f1",
   "metadata": {},
   "source": [
    "### Mesure et observation des résultats"
   ]
  },
  {
   "cell_type": "code",
   "execution_count": null,
   "id": "037fa3e9",
   "metadata": {},
   "outputs": [],
   "source": [
    "import numpy as np"
   ]
  },
  {
   "cell_type": "code",
   "execution_count": null,
   "id": "87e170bb",
   "metadata": {},
   "outputs": [],
   "source": [
    "# Import seaborn\n",
    "import seaborn as sns\n",
    "\n",
    "# Apply the default theme\n",
    "sns.set_theme()"
   ]
  },
  {
   "cell_type": "code",
   "execution_count": null,
   "id": "e6a98cef",
   "metadata": {},
   "outputs": [],
   "source": [
    "sns.displot(df_pred[\"y_proba\"], binwidth=0.01)"
   ]
  },
  {
   "cell_type": "code",
   "execution_count": null,
   "id": "e705352c",
   "metadata": {},
   "outputs": [],
   "source": [
    "df_recueil = df_corpus[df_corpus['infox'].notna()]\n",
    "y_test = df_recueil['infox']\n",
    "y_pred = df_recueil['y']"
   ]
  },
  {
   "cell_type": "code",
   "execution_count": null,
   "id": "cd28e023",
   "metadata": {},
   "outputs": [],
   "source": [
    "from sklearn import metrics\n",
    "cnf_matrix = metrics.confusion_matrix(y_test, y_pred)\n",
    "print('Matrice de confusion')\n",
    "print(cnf_matrix)\n",
    "print(f'Accuracy score {metrics.accuracy_score(y_test, y_pred)*100:.2f}%')\n",
    "print(f'Recall score {metrics.recall_score(y_test, y_pred)*100:.2f}%')"
   ]
  },
  {
   "cell_type": "code",
   "execution_count": null,
   "id": "6832a28a",
   "metadata": {},
   "outputs": [],
   "source": [
    "def size(y):\n",
    "    return 'S' if y<=0.25 else 'L' if y>=0.75 else 'M'"
   ]
  },
  {
   "cell_type": "code",
   "execution_count": null,
   "id": "bd7ad5c8",
   "metadata": {},
   "outputs": [],
   "source": []
  },
  {
   "cell_type": "code",
   "execution_count": null,
   "id": "54f1e789",
   "metadata": {},
   "outputs": [],
   "source": [
    "df_pred['y_bin']=df_pred['y_proba'].apply(size)"
   ]
  },
  {
   "cell_type": "code",
   "execution_count": null,
   "id": "f9bf9904",
   "metadata": {},
   "outputs": [],
   "source": [
    "df_pivot_sites = pd.pivot_table(df_pred[['site','y_bin']],index='site',columns='y_bin',aggfunc=np.count_nonzero)"
   ]
  },
  {
   "cell_type": "code",
   "execution_count": null,
   "id": "f0f11b97",
   "metadata": {},
   "outputs": [],
   "source": [
    "df_pivot_sites.fillna(0,inplace=True)"
   ]
  },
  {
   "cell_type": "code",
   "execution_count": null,
   "id": "ad5eea7f",
   "metadata": {},
   "outputs": [],
   "source": [
    "df_pivot_sites['total']=df_pivot_sites['S']+df_pivot_sites['M']+df_pivot_sites['L']"
   ]
  },
  {
   "cell_type": "code",
   "execution_count": null,
   "id": "3446dfbc",
   "metadata": {},
   "outputs": [],
   "source": []
  },
  {
   "cell_type": "code",
   "execution_count": null,
   "id": "a55230bf",
   "metadata": {},
   "outputs": [],
   "source": [
    "df_pivot_sites['S_freq']=df_pivot_sites['S']/df_pivot_sites['total']\n",
    "df_pivot_sites['L_freq']=df_pivot_sites['L']/df_pivot_sites['total']"
   ]
  },
  {
   "cell_type": "code",
   "execution_count": null,
   "id": "77ea6ec0",
   "metadata": {},
   "outputs": [],
   "source": [
    "df_pivot_sites"
   ]
  },
  {
   "cell_type": "markdown",
   "id": "76996d3a",
   "metadata": {},
   "source": [
    "## Sauvegarde des résultats\n",
    "---"
   ]
  },
  {
   "cell_type": "code",
   "execution_count": null,
   "id": "827f60e3",
   "metadata": {},
   "outputs": [],
   "source": [
    "predict_filename = '221002-CorpusNewsLabelPred.csv'\n",
    "df_pred.to_csv(f'data/corpus/{predict_filename}',index=False)"
   ]
  },
  {
   "cell_type": "markdown",
   "id": "fb7949bc",
   "metadata": {},
   "source": [
    "## Conclusions\n",
    "---"
   ]
  },
  {
   "cell_type": "markdown",
   "id": "bd06b261",
   "metadata": {},
   "source": [
    "- Production Corpus Labelisé avec prédictions : OK"
   ]
  },
  {
   "cell_type": "markdown",
   "id": "bd360655",
   "metadata": {},
   "source": [
    "## Bricolages\n",
    "---"
   ]
  },
  {
   "cell_type": "code",
   "execution_count": null,
   "id": "39697b37",
   "metadata": {},
   "outputs": [],
   "source": [
    "df_pred"
   ]
  },
  {
   "cell_type": "code",
   "execution_count": null,
   "id": "199d7c76",
   "metadata": {},
   "outputs": [],
   "source": []
  }
 ],
 "metadata": {
  "kernelspec": {
   "display_name": "Python 3 (ipykernel)",
   "language": "python",
   "name": "python3"
  },
  "language_info": {
   "codemirror_mode": {
    "name": "ipython",
    "version": 3
   },
   "file_extension": ".py",
   "mimetype": "text/x-python",
   "name": "python",
   "nbconvert_exporter": "python",
   "pygments_lexer": "ipython3",
   "version": "3.9.13"
  }
 },
 "nbformat": 4,
 "nbformat_minor": 5
}
