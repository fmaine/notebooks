{
 "cells": [
  {
   "cell_type": "markdown",
   "id": "e3ec4689",
   "metadata": {},
   "source": [
    "# Plateforme Agnostique de Traitement et d'Analyse des Textes\n",
    "### Paillasse d'expérimentation\n",
    "---\n",
    "\n",
    "## Sujet : Prédiction BoW/RL pour tous les labels\n",
    "\n",
    "---\n"
   ]
  },
  {
   "cell_type": "markdown",
   "id": "ad77a9d6",
   "metadata": {},
   "source": [
    "## Initialisation de la paillasse \n",
    "---"
   ]
  },
  {
   "cell_type": "code",
   "execution_count": 3,
   "id": "5d0de4d7",
   "metadata": {},
   "outputs": [
    {
     "name": "stdout",
     "output_type": "stream",
     "text": [
      "/Users/fm/Desktop/Work/Patat\n"
     ]
    }
   ],
   "source": [
    "cd ../.."
   ]
  },
  {
   "cell_type": "code",
   "execution_count": 4,
   "id": "32256b0d",
   "metadata": {},
   "outputs": [],
   "source": [
    "import importlib\n",
    "import pandas as pd"
   ]
  },
  {
   "cell_type": "markdown",
   "id": "de6dc21a",
   "metadata": {},
   "source": [
    "## Observations et environnement\n",
    "---"
   ]
  },
  {
   "cell_type": "markdown",
   "id": "29618668",
   "metadata": {},
   "source": [
    "### Chargement du corpus"
   ]
  },
  {
   "cell_type": "code",
   "execution_count": 5,
   "id": "05cde00c",
   "metadata": {},
   "outputs": [],
   "source": [
    "corpus_filename = 'corpus/221003-CorpusApp.csv'"
   ]
  },
  {
   "cell_type": "code",
   "execution_count": 7,
   "id": "82c08337",
   "metadata": {
    "scrolled": true
   },
   "outputs": [],
   "source": [
    "dtypes = {'date_iso' : str}\n",
    "df_corpus = pd.read_csv(f'data/{corpus_filename}', dtype = dtypes)\n",
    "df_corpus = df_corpus.convert_dtypes()"
   ]
  },
  {
   "cell_type": "code",
   "execution_count": 8,
   "id": "fb4c729d",
   "metadata": {},
   "outputs": [
    {
     "data": {
      "text/html": [
       "<div>\n",
       "<style scoped>\n",
       "    .dataframe tbody tr th:only-of-type {\n",
       "        vertical-align: middle;\n",
       "    }\n",
       "\n",
       "    .dataframe tbody tr th {\n",
       "        vertical-align: top;\n",
       "    }\n",
       "\n",
       "    .dataframe thead th {\n",
       "        text-align: right;\n",
       "    }\n",
       "</style>\n",
       "<table border=\"1\" class=\"dataframe\">\n",
       "  <thead>\n",
       "    <tr style=\"text-align: right;\">\n",
       "      <th></th>\n",
       "      <th>url</th>\n",
       "      <th>title</th>\n",
       "      <th>article</th>\n",
       "      <th>author</th>\n",
       "      <th>date_iso</th>\n",
       "      <th>site</th>\n",
       "      <th>infox</th>\n",
       "      <th>y_proba</th>\n",
       "    </tr>\n",
       "  </thead>\n",
       "  <tbody>\n",
       "  </tbody>\n",
       "</table>\n",
       "</div>"
      ],
      "text/plain": [
       "Empty DataFrame\n",
       "Columns: [url, title, article, author, date_iso, site, infox, y_proba]\n",
       "Index: []"
      ]
     },
     "execution_count": 8,
     "metadata": {},
     "output_type": "execute_result"
    }
   ],
   "source": [
    "df_corpus[df_corpus['url'].isna()]"
   ]
  },
  {
   "cell_type": "code",
   "execution_count": 9,
   "id": "5d69f9f5",
   "metadata": {},
   "outputs": [
    {
     "data": {
      "text/html": [
       "<div>\n",
       "<style scoped>\n",
       "    .dataframe tbody tr th:only-of-type {\n",
       "        vertical-align: middle;\n",
       "    }\n",
       "\n",
       "    .dataframe tbody tr th {\n",
       "        vertical-align: top;\n",
       "    }\n",
       "\n",
       "    .dataframe thead th {\n",
       "        text-align: right;\n",
       "    }\n",
       "</style>\n",
       "<table border=\"1\" class=\"dataframe\">\n",
       "  <thead>\n",
       "    <tr style=\"text-align: right;\">\n",
       "      <th></th>\n",
       "      <th>url</th>\n",
       "      <th>title</th>\n",
       "      <th>article</th>\n",
       "      <th>author</th>\n",
       "      <th>date_iso</th>\n",
       "      <th>site</th>\n",
       "      <th>infox</th>\n",
       "      <th>y_proba</th>\n",
       "    </tr>\n",
       "  </thead>\n",
       "  <tbody>\n",
       "    <tr>\n",
       "      <th>0</th>\n",
       "      <td>https://reseauinternational.net/tous-les-jeune...</td>\n",
       "      <td>Tous les jeunes, portez la nouvelle (russe)</td>\n",
       "      <td>par Pepe Escobar.\n",
       "L’OCS à Samarcande et l’Asse...</td>\n",
       "      <td>&lt;NA&gt;</td>\n",
       "      <td>2022-09-30T00:00:00</td>\n",
       "      <td>reseauinternational.net</td>\n",
       "      <td>0</td>\n",
       "      <td>0.002944</td>\n",
       "    </tr>\n",
       "    <tr>\n",
       "      <th>1</th>\n",
       "      <td>https://reseauinternational.net/adhesion-a-la-...</td>\n",
       "      <td>Adhésion à la Russie : 93% pour le « oui » dan...</td>\n",
       "      <td>Dans les régions de Zaporijia et de Kherson, 9...</td>\n",
       "      <td>&lt;NA&gt;</td>\n",
       "      <td>2022-09-30T00:00:00</td>\n",
       "      <td>reseauinternational.net</td>\n",
       "      <td>0</td>\n",
       "      <td>0.01263</td>\n",
       "    </tr>\n",
       "    <tr>\n",
       "      <th>2</th>\n",
       "      <td>https://lemediaen442.fr/onu-le-premier-ministr...</td>\n",
       "      <td>ONU – Le Premier ministre de Nouvelle-Zélande ...</td>\n",
       "      <td>L’argument principal de la ministre est que le...</td>\n",
       "      <td>&lt;NA&gt;</td>\n",
       "      <td>2022-09-29T00:00:00</td>\n",
       "      <td>lemediaen442.fr</td>\n",
       "      <td>1</td>\n",
       "      <td>0.963768</td>\n",
       "    </tr>\n",
       "    <tr>\n",
       "      <th>3</th>\n",
       "      <td>https://www.francesoir.fr/societe-environnemen...</td>\n",
       "      <td>Compostage humain: les “funérailles vertes” ga...</td>\n",
       "      <td>Aux États-Unis, les différents gouvernements r...</td>\n",
       "      <td>Auteur(s)\n",
       "FranceSoir</td>\n",
       "      <td>2022-09-28T13:15:00</td>\n",
       "      <td>www.francesoir.fr</td>\n",
       "      <td>0</td>\n",
       "      <td>0.007914</td>\n",
       "    </tr>\n",
       "    <tr>\n",
       "      <th>18</th>\n",
       "      <td>https://www.dreuz.info/2022/09/qui-est-elle-an...</td>\n",
       "      <td>Qui est-elle ? Anti-UE, pro-Otan, pro-Ukraine,...</td>\n",
       "      <td>Les journalistes ont le cerveau bloqué sur 193...</td>\n",
       "      <td>Publié par  Jean-Patrick Grumberg le 27 septem...</td>\n",
       "      <td>2022-09-27T00:00:00</td>\n",
       "      <td>www.dreuz.info</td>\n",
       "      <td>0</td>\n",
       "      <td>0.002912</td>\n",
       "    </tr>\n",
       "    <tr>\n",
       "      <th>...</th>\n",
       "      <td>...</td>\n",
       "      <td>...</td>\n",
       "      <td>...</td>\n",
       "      <td>...</td>\n",
       "      <td>...</td>\n",
       "      <td>...</td>\n",
       "      <td>...</td>\n",
       "      <td>...</td>\n",
       "    </tr>\n",
       "    <tr>\n",
       "      <th>87372</th>\n",
       "      <td>https://www.profession-gendarme.com/leffet-kis...</td>\n",
       "      <td>L’effet Kiss Coll de la guerre</td>\n",
       "      <td>Par WD\n",
       "\n",
       "\n",
       "Nous sommes imbriqués dans l’Otan. Ce...</td>\n",
       "      <td>&lt;NA&gt;</td>\n",
       "      <td>&lt;NA&gt;</td>\n",
       "      <td>www.profession-gendarme.com</td>\n",
       "      <td>1</td>\n",
       "      <td>0.986896</td>\n",
       "    </tr>\n",
       "    <tr>\n",
       "      <th>87438</th>\n",
       "      <td>https://www.profession-gendarme.com/les-labora...</td>\n",
       "      <td>Les laboratoires du Pentagone et la dépopulation</td>\n",
       "      <td>par Dragomir Bojkov.\n",
       "La vice-présidente de la ...</td>\n",
       "      <td>&lt;NA&gt;</td>\n",
       "      <td>&lt;NA&gt;</td>\n",
       "      <td>www.profession-gendarme.com</td>\n",
       "      <td>1</td>\n",
       "      <td>0.692176</td>\n",
       "    </tr>\n",
       "    <tr>\n",
       "      <th>87510</th>\n",
       "      <td>https://www.profession-gendarme.com/lettre-ouv...</td>\n",
       "      <td>« LETTRE OUVERTE A LA FRANCE ET AUX NATIONS »</td>\n",
       "      <td>L’un de nos lecteurs (ou l’une de nos lectrice...</td>\n",
       "      <td>&lt;NA&gt;</td>\n",
       "      <td>&lt;NA&gt;</td>\n",
       "      <td>www.profession-gendarme.com</td>\n",
       "      <td>1</td>\n",
       "      <td>0.99413</td>\n",
       "    </tr>\n",
       "    <tr>\n",
       "      <th>88737</th>\n",
       "      <td>https://www.profession-gendarme.com/tour-de-fr...</td>\n",
       "      <td>Tour de France – Abandon de Victor Lafay :« On...</td>\n",
       "      <td>Un mal étrange traverse le peloton du tour de ...</td>\n",
       "      <td>&lt;NA&gt;</td>\n",
       "      <td>&lt;NA&gt;</td>\n",
       "      <td>www.profession-gendarme.com</td>\n",
       "      <td>1</td>\n",
       "      <td>0.133346</td>\n",
       "    </tr>\n",
       "    <tr>\n",
       "      <th>88933</th>\n",
       "      <td>https://www.profession-gendarme.com/un-rapport...</td>\n",
       "      <td>Un rapport du gouvernement britannique admet q...</td>\n",
       "      <td>Source : ns217.wordpress.com – 17 juillet 2022...</td>\n",
       "      <td>&lt;NA&gt;</td>\n",
       "      <td>&lt;NA&gt;</td>\n",
       "      <td>www.profession-gendarme.com</td>\n",
       "      <td>1</td>\n",
       "      <td>0.999509</td>\n",
       "    </tr>\n",
       "  </tbody>\n",
       "</table>\n",
       "<p>445 rows × 8 columns</p>\n",
       "</div>"
      ],
      "text/plain": [
       "                                                     url  \\\n",
       "0      https://reseauinternational.net/tous-les-jeune...   \n",
       "1      https://reseauinternational.net/adhesion-a-la-...   \n",
       "2      https://lemediaen442.fr/onu-le-premier-ministr...   \n",
       "3      https://www.francesoir.fr/societe-environnemen...   \n",
       "18     https://www.dreuz.info/2022/09/qui-est-elle-an...   \n",
       "...                                                  ...   \n",
       "87372  https://www.profession-gendarme.com/leffet-kis...   \n",
       "87438  https://www.profession-gendarme.com/les-labora...   \n",
       "87510  https://www.profession-gendarme.com/lettre-ouv...   \n",
       "88737  https://www.profession-gendarme.com/tour-de-fr...   \n",
       "88933  https://www.profession-gendarme.com/un-rapport...   \n",
       "\n",
       "                                                   title  \\\n",
       "0            Tous les jeunes, portez la nouvelle (russe)   \n",
       "1      Adhésion à la Russie : 93% pour le « oui » dan...   \n",
       "2      ONU – Le Premier ministre de Nouvelle-Zélande ...   \n",
       "3      Compostage humain: les “funérailles vertes” ga...   \n",
       "18     Qui est-elle ? Anti-UE, pro-Otan, pro-Ukraine,...   \n",
       "...                                                  ...   \n",
       "87372                     L’effet Kiss Coll de la guerre   \n",
       "87438   Les laboratoires du Pentagone et la dépopulation   \n",
       "87510      « LETTRE OUVERTE A LA FRANCE ET AUX NATIONS »   \n",
       "88737  Tour de France – Abandon de Victor Lafay :« On...   \n",
       "88933  Un rapport du gouvernement britannique admet q...   \n",
       "\n",
       "                                                 article  \\\n",
       "0      par Pepe Escobar.\n",
       "L’OCS à Samarcande et l’Asse...   \n",
       "1      Dans les régions de Zaporijia et de Kherson, 9...   \n",
       "2      L’argument principal de la ministre est que le...   \n",
       "3      Aux États-Unis, les différents gouvernements r...   \n",
       "18     Les journalistes ont le cerveau bloqué sur 193...   \n",
       "...                                                  ...   \n",
       "87372  Par WD\n",
       "\n",
       "\n",
       "Nous sommes imbriqués dans l’Otan. Ce...   \n",
       "87438  par Dragomir Bojkov.\n",
       "La vice-présidente de la ...   \n",
       "87510  L’un de nos lecteurs (ou l’une de nos lectrice...   \n",
       "88737  Un mal étrange traverse le peloton du tour de ...   \n",
       "88933  Source : ns217.wordpress.com – 17 juillet 2022...   \n",
       "\n",
       "                                                  author             date_iso  \\\n",
       "0                                                   <NA>  2022-09-30T00:00:00   \n",
       "1                                                   <NA>  2022-09-30T00:00:00   \n",
       "2                                                   <NA>  2022-09-29T00:00:00   \n",
       "3                                   Auteur(s)\n",
       "FranceSoir  2022-09-28T13:15:00   \n",
       "18     Publié par  Jean-Patrick Grumberg le 27 septem...  2022-09-27T00:00:00   \n",
       "...                                                  ...                  ...   \n",
       "87372                                               <NA>                 <NA>   \n",
       "87438                                               <NA>                 <NA>   \n",
       "87510                                               <NA>                 <NA>   \n",
       "88737                                               <NA>                 <NA>   \n",
       "88933                                               <NA>                 <NA>   \n",
       "\n",
       "                              site  infox   y_proba  \n",
       "0          reseauinternational.net      0  0.002944  \n",
       "1          reseauinternational.net      0   0.01263  \n",
       "2                  lemediaen442.fr      1  0.963768  \n",
       "3                www.francesoir.fr      0  0.007914  \n",
       "18                  www.dreuz.info      0  0.002912  \n",
       "...                            ...    ...       ...  \n",
       "87372  www.profession-gendarme.com      1  0.986896  \n",
       "87438  www.profession-gendarme.com      1  0.692176  \n",
       "87510  www.profession-gendarme.com      1   0.99413  \n",
       "88737  www.profession-gendarme.com      1  0.133346  \n",
       "88933  www.profession-gendarme.com      1  0.999509  \n",
       "\n",
       "[445 rows x 8 columns]"
      ]
     },
     "execution_count": 9,
     "metadata": {},
     "output_type": "execute_result"
    }
   ],
   "source": [
    "df_corpus[df_corpus['infox'].notna()]"
   ]
  },
  {
   "cell_type": "markdown",
   "id": "26de4d29",
   "metadata": {},
   "source": [
    "## Expérience\n",
    "---"
   ]
  },
  {
   "cell_type": "markdown",
   "id": "f29d6c3a",
   "metadata": {},
   "source": [
    "### Céation bags of Words"
   ]
  },
  {
   "cell_type": "markdown",
   "id": "885a9aa4",
   "metadata": {},
   "source": [
    "#### Mots non signifiants"
   ]
  },
  {
   "cell_type": "code",
   "execution_count": 22,
   "id": "b8466ebb",
   "metadata": {},
   "outputs": [],
   "source": [
    "import patat.ml.lex_analyser\n",
    "\n",
    "lex = patat.ml.lex_analyser.LexAnalyser()\n",
    "\n",
    "def merge_texts(texts):\n",
    "    result = ''\n",
    "    for text in texts:\n",
    "        result = result + text + '\\n'\n",
    "    return result\n",
    "\n",
    "def count_words_label(df,label):\n",
    "    df = df[df[label].notna()]\n",
    "    df_texts = pd.pivot_table(df, values='text', index=None, columns=label, aggfunc=merge_texts)\n",
    "    wc = {}\n",
    "    word_analysis = {}\n",
    "    for key in df_texts.keys():\n",
    "        text = df_texts[key]['text']\n",
    "        count_colname = label+'_'+str(key)\n",
    "        wc[key] = lex.count_tokens(lex.get_words(text))\n",
    "        for word in wc[key]:\n",
    "            word_dic = word_analysis.get(word,{})\n",
    "            word_dic[count_colname]=wc[key][word]\n",
    "            word_analysis[word]=word_dic\n",
    "    return word_analysis"
   ]
  },
  {
   "cell_type": "code",
   "execution_count": 23,
   "id": "0cc3ad55",
   "metadata": {},
   "outputs": [],
   "source": [
    "import patat.imp.labels"
   ]
  },
  {
   "cell_type": "code",
   "execution_count": 24,
   "id": "5be7315f",
   "metadata": {},
   "outputs": [],
   "source": [
    "label_names = patat.imp.labels.labels"
   ]
  },
  {
   "cell_type": "code",
   "execution_count": 25,
   "id": "5f07d3b7",
   "metadata": {},
   "outputs": [
    {
     "data": {
      "text/plain": [
       "{}"
      ]
     },
     "execution_count": 25,
     "metadata": {},
     "output_type": "execute_result"
    }
   ],
   "source": [
    "count_words_label(df_corpus,'infox')"
   ]
  },
  {
   "cell_type": "code",
   "execution_count": 26,
   "id": "e8944b9c",
   "metadata": {},
   "outputs": [
    {
     "data": {
      "text/html": [
       "<div>\n",
       "<style scoped>\n",
       "    .dataframe tbody tr th:only-of-type {\n",
       "        vertical-align: middle;\n",
       "    }\n",
       "\n",
       "    .dataframe tbody tr th {\n",
       "        vertical-align: top;\n",
       "    }\n",
       "\n",
       "    .dataframe thead th {\n",
       "        text-align: right;\n",
       "    }\n",
       "</style>\n",
       "<table border=\"1\" class=\"dataframe\">\n",
       "  <thead>\n",
       "    <tr style=\"text-align: right;\">\n",
       "      <th>signe</th>\n",
       "    </tr>\n",
       "  </thead>\n",
       "  <tbody>\n",
       "    <tr>\n",
       "      <th>text</th>\n",
       "    </tr>\n",
       "  </tbody>\n",
       "</table>\n",
       "</div>"
      ],
      "text/plain": [
       "Empty DataFrame\n",
       "Columns: []\n",
       "Index: [text]"
      ]
     },
     "execution_count": 26,
     "metadata": {},
     "output_type": "execute_result"
    }
   ],
   "source": [
    "pd.pivot_table(df_corpus, values='text', index=None, columns='signe', aggfunc=merge_texts)"
   ]
  },
  {
   "cell_type": "code",
   "execution_count": 9,
   "id": "78e674ca",
   "metadata": {},
   "outputs": [],
   "source": [
    "df_count = pd.DataFrame(count_words_label(df_corpus,'infox')).T\n",
    "df_count = df_count.fillna(0)"
   ]
  },
  {
   "cell_type": "code",
   "execution_count": 10,
   "id": "f6a88e04",
   "metadata": {},
   "outputs": [
    {
     "data": {
      "text/plain": [
       "(0, 0)"
      ]
     },
     "execution_count": 10,
     "metadata": {},
     "output_type": "execute_result"
    }
   ],
   "source": [
    "df_count.shape"
   ]
  },
  {
   "cell_type": "code",
   "execution_count": 11,
   "id": "207f707d",
   "metadata": {},
   "outputs": [
    {
     "data": {
      "text/html": [
       "<div>\n",
       "<style scoped>\n",
       "    .dataframe tbody tr th:only-of-type {\n",
       "        vertical-align: middle;\n",
       "    }\n",
       "\n",
       "    .dataframe tbody tr th {\n",
       "        vertical-align: top;\n",
       "    }\n",
       "\n",
       "    .dataframe thead th {\n",
       "        text-align: right;\n",
       "    }\n",
       "</style>\n",
       "<table border=\"1\" class=\"dataframe\">\n",
       "  <thead>\n",
       "    <tr style=\"text-align: right;\">\n",
       "      <th></th>\n",
       "    </tr>\n",
       "  </thead>\n",
       "  <tbody>\n",
       "  </tbody>\n",
       "</table>\n",
       "</div>"
      ],
      "text/plain": [
       "Empty DataFrame\n",
       "Columns: []\n",
       "Index: []"
      ]
     },
     "execution_count": 11,
     "metadata": {},
     "output_type": "execute_result"
    }
   ],
   "source": [
    "df_count"
   ]
  },
  {
   "cell_type": "markdown",
   "id": "75f6f8ae",
   "metadata": {},
   "source": [
    "#### Identification des mots rares"
   ]
  },
  {
   "cell_type": "code",
   "execution_count": null,
   "id": "22d03cca",
   "metadata": {},
   "outputs": [],
   "source": [
    "occ_rare = 3\n",
    "def is_rare(row):\n",
    "    return row['infox_0.0'] < occ_rare and row['infox_1.0'] < occ_rare\n",
    "\n",
    "df_rare = df_count[df_count.apply(is_rare,axis=1)]\n",
    "\n",
    "rare_words = list(df_rare.index)\n",
    "len(rare_words)\n",
    "\n",
    "### Identification des mots communs\n",
    "\n",
    "common_size = 100\n",
    "top_0 = df_count.sort_values('infox_0.0',ascending=False).head(common_size).index\n",
    "top_1 = df_count.sort_values('infox_1.0',ascending=False).head(common_size).index\n",
    "common_words = []\n",
    "for word in top_0:\n",
    "    if word in top_1:\n",
    "        common_words.append(word)\n",
    "len(common_words)\n",
    "\n",
    "common_words\n",
    "\n",
    "ignore_words = common_words + rare_words"
   ]
  },
  {
   "cell_type": "code",
   "execution_count": null,
   "id": "3f224e47",
   "metadata": {},
   "outputs": [],
   "source": [
    "common_words"
   ]
  },
  {
   "cell_type": "markdown",
   "id": "08e54064",
   "metadata": {},
   "source": [
    "#### Vectorizer"
   ]
  },
  {
   "cell_type": "code",
   "execution_count": null,
   "id": "3760bef4",
   "metadata": {},
   "outputs": [],
   "source": [
    "from sklearn.feature_extraction.text import CountVectorizer"
   ]
  },
  {
   "cell_type": "code",
   "execution_count": null,
   "id": "311313c0",
   "metadata": {},
   "outputs": [],
   "source": [
    "count_vectorizer = CountVectorizer(stop_words=ignore_words)\n",
    "#count_vectorizer = CountVectorizer()"
   ]
  },
  {
   "cell_type": "code",
   "execution_count": null,
   "id": "fd1b853b",
   "metadata": {},
   "outputs": [],
   "source": [
    "corpus = df_corpus['text']\n",
    "X = count_vectorizer.fit_transform(corpus)\n",
    "y = df_corpus['infox']"
   ]
  },
  {
   "cell_type": "markdown",
   "id": "00f480cd",
   "metadata": {},
   "source": [
    "### Construction des Datasets d'entrainement et de test"
   ]
  },
  {
   "cell_type": "code",
   "execution_count": null,
   "id": "9afd44ae",
   "metadata": {},
   "outputs": [],
   "source": [
    "df_train = df_corpus[df_corpus['infox'].notna()]\n",
    "X_train = X[df_train.index]\n",
    "y_train = df_train['infox']"
   ]
  },
  {
   "cell_type": "code",
   "execution_count": null,
   "id": "835402d4",
   "metadata": {},
   "outputs": [],
   "source": [
    "X_train.shape"
   ]
  },
  {
   "cell_type": "markdown",
   "id": "8df9935c",
   "metadata": {},
   "source": [
    "### Entrainement du modele"
   ]
  },
  {
   "cell_type": "code",
   "execution_count": null,
   "id": "a34e9e64",
   "metadata": {},
   "outputs": [],
   "source": [
    "from sklearn.linear_model import LogisticRegression\n",
    "from sklearn import metrics\n",
    "\n",
    "#lr = LogisticRegression(C=100.0, random_state=1, solver='lbfgs', multi_class='ovr', max_iter=1000)\n",
    "classifier = LogisticRegression(max_iter=1000)\n",
    "\n",
    "# Fit the model\n",
    "classifier.fit(X_train, y_train)\n"
   ]
  },
  {
   "cell_type": "markdown",
   "id": "99135e2e",
   "metadata": {},
   "source": [
    "### Prédictions sur le corpus"
   ]
  },
  {
   "cell_type": "code",
   "execution_count": null,
   "id": "33eb3dcc",
   "metadata": {},
   "outputs": [],
   "source": [
    "df_pred = df_corpus"
   ]
  },
  {
   "cell_type": "code",
   "execution_count": null,
   "id": "df9c33a1",
   "metadata": {},
   "outputs": [],
   "source": [
    "vectorizer = predictor['descriptor']\n",
    "classifier = predictor['classifier']"
   ]
  },
  {
   "cell_type": "code",
   "execution_count": null,
   "id": "1bd37d3b",
   "metadata": {},
   "outputs": [],
   "source": [
    "%%time\n",
    "X = vectorizer.transform(df_pred['text'])"
   ]
  },
  {
   "cell_type": "code",
   "execution_count": null,
   "id": "042105e1",
   "metadata": {},
   "outputs": [],
   "source": [
    "%%time\n",
    "y = classifier.predict(X)\n",
    "y_proba = classifier.predict_proba(X)[:,1]\n",
    "\n",
    "\n"
   ]
  },
  {
   "cell_type": "code",
   "execution_count": null,
   "id": "7c037744",
   "metadata": {},
   "outputs": [],
   "source": [
    "df_pred.loc[:,'y'] = y\n",
    "df_pred.loc[:,'y_proba'] = y_proba"
   ]
  },
  {
   "cell_type": "code",
   "execution_count": null,
   "id": "362af487",
   "metadata": {},
   "outputs": [],
   "source": [
    "df_pred"
   ]
  },
  {
   "cell_type": "code",
   "execution_count": null,
   "id": "36fb2d1f",
   "metadata": {},
   "outputs": [],
   "source": []
  },
  {
   "cell_type": "markdown",
   "id": "ba0834f1",
   "metadata": {},
   "source": [
    "### Mesure et observation des résultats"
   ]
  },
  {
   "cell_type": "code",
   "execution_count": null,
   "id": "037fa3e9",
   "metadata": {},
   "outputs": [],
   "source": [
    "import numpy as np"
   ]
  },
  {
   "cell_type": "code",
   "execution_count": null,
   "id": "87e170bb",
   "metadata": {},
   "outputs": [],
   "source": [
    "# Import seaborn\n",
    "import seaborn as sns\n",
    "\n",
    "# Apply the default theme\n",
    "sns.set_theme()"
   ]
  },
  {
   "cell_type": "code",
   "execution_count": null,
   "id": "e6a98cef",
   "metadata": {},
   "outputs": [],
   "source": [
    "sns.displot(df_pred[\"y_proba\"], binwidth=0.01)"
   ]
  },
  {
   "cell_type": "code",
   "execution_count": null,
   "id": "e705352c",
   "metadata": {},
   "outputs": [],
   "source": [
    "df_recueil = df_corpus[df_corpus['infox'].notna()]\n",
    "y_test = df_recueil['infox']\n",
    "y_pred = df_recueil['y']"
   ]
  },
  {
   "cell_type": "code",
   "execution_count": null,
   "id": "cd28e023",
   "metadata": {},
   "outputs": [],
   "source": [
    "from sklearn import metrics\n",
    "cnf_matrix = metrics.confusion_matrix(y_test, y_pred)\n",
    "print('Matrice de confusion')\n",
    "print(cnf_matrix)\n",
    "print(f'Accuracy score {metrics.accuracy_score(y_test, y_pred)*100:.2f}%')\n",
    "print(f'Recall score {metrics.recall_score(y_test, y_pred)*100:.2f}%')"
   ]
  },
  {
   "cell_type": "code",
   "execution_count": null,
   "id": "6832a28a",
   "metadata": {},
   "outputs": [],
   "source": [
    "def size(y):\n",
    "    return 'S' if y<=0.25 else 'L' if y>=0.75 else 'M'"
   ]
  },
  {
   "cell_type": "code",
   "execution_count": null,
   "id": "bd7ad5c8",
   "metadata": {},
   "outputs": [],
   "source": []
  },
  {
   "cell_type": "code",
   "execution_count": null,
   "id": "54f1e789",
   "metadata": {},
   "outputs": [],
   "source": [
    "df_pred['y_bin']=df_pred['y_proba'].apply(size)"
   ]
  },
  {
   "cell_type": "code",
   "execution_count": null,
   "id": "f9bf9904",
   "metadata": {},
   "outputs": [],
   "source": [
    "df_pivot_sites = pd.pivot_table(df_pred[['site','y_bin']],index='site',columns='y_bin',aggfunc=np.count_nonzero)"
   ]
  },
  {
   "cell_type": "code",
   "execution_count": null,
   "id": "f0f11b97",
   "metadata": {},
   "outputs": [],
   "source": [
    "df_pivot_sites.fillna(0,inplace=True)"
   ]
  },
  {
   "cell_type": "code",
   "execution_count": null,
   "id": "ad5eea7f",
   "metadata": {},
   "outputs": [],
   "source": [
    "df_pivot_sites['total']=df_pivot_sites['S']+df_pivot_sites['M']+df_pivot_sites['L']"
   ]
  },
  {
   "cell_type": "code",
   "execution_count": null,
   "id": "3446dfbc",
   "metadata": {},
   "outputs": [],
   "source": []
  },
  {
   "cell_type": "code",
   "execution_count": null,
   "id": "a55230bf",
   "metadata": {},
   "outputs": [],
   "source": [
    "df_pivot_sites['S_freq']=df_pivot_sites['S']/df_pivot_sites['total']\n",
    "df_pivot_sites['L_freq']=df_pivot_sites['L']/df_pivot_sites['total']"
   ]
  },
  {
   "cell_type": "code",
   "execution_count": null,
   "id": "77ea6ec0",
   "metadata": {},
   "outputs": [],
   "source": [
    "df_pivot_sites"
   ]
  },
  {
   "cell_type": "markdown",
   "id": "76996d3a",
   "metadata": {},
   "source": [
    "## Sauvegarde des résultats\n",
    "---"
   ]
  },
  {
   "cell_type": "code",
   "execution_count": null,
   "id": "827f60e3",
   "metadata": {},
   "outputs": [],
   "source": [
    "predict_filename = '221002-CorpusNewsLabelPred.csv'\n",
    "df_pred.to_csv(f'data/corpus/{predict_filename}',index=False)"
   ]
  },
  {
   "cell_type": "markdown",
   "id": "fb7949bc",
   "metadata": {},
   "source": [
    "## Conclusions\n",
    "---"
   ]
  },
  {
   "cell_type": "markdown",
   "id": "bd06b261",
   "metadata": {},
   "source": [
    "- Production Corpus Labelisé avec prédictions : OK"
   ]
  },
  {
   "cell_type": "markdown",
   "id": "bd360655",
   "metadata": {},
   "source": [
    "## Bricolages\n",
    "---"
   ]
  },
  {
   "cell_type": "code",
   "execution_count": null,
   "id": "39697b37",
   "metadata": {},
   "outputs": [],
   "source": [
    "df_pred"
   ]
  },
  {
   "cell_type": "code",
   "execution_count": null,
   "id": "199d7c76",
   "metadata": {},
   "outputs": [],
   "source": []
  }
 ],
 "metadata": {
  "kernelspec": {
   "display_name": "Python 3 (ipykernel)",
   "language": "python",
   "name": "python3"
  },
  "language_info": {
   "codemirror_mode": {
    "name": "ipython",
    "version": 3
   },
   "file_extension": ".py",
   "mimetype": "text/x-python",
   "name": "python",
   "nbconvert_exporter": "python",
   "pygments_lexer": "ipython3",
   "version": "3.10.2"
  }
 },
 "nbformat": 4,
 "nbformat_minor": 5
}
