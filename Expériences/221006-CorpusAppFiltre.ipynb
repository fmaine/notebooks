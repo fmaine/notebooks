{
 "cells": [
  {
   "cell_type": "markdown",
   "id": "e3ec4689",
   "metadata": {},
   "source": [
    "# Plateforme Agnostique de Traitement et d'Analyse des Textes\n",
    "### Paillasse d'expérimentation\n",
    "---\n",
    "\n",
    "## Sujet : Filtrage Corpus App\n",
    "\n",
    "---\n"
   ]
  },
  {
   "cell_type": "markdown",
   "id": "ad77a9d6",
   "metadata": {},
   "source": [
    "## Initialisation de la paillasse \n",
    "---"
   ]
  },
  {
   "cell_type": "code",
   "execution_count": 1,
   "id": "5d0de4d7",
   "metadata": {},
   "outputs": [
    {
     "name": "stdout",
     "output_type": "stream",
     "text": [
      "/Users/fm/Desktop/Work/Patat\n"
     ]
    }
   ],
   "source": [
    "cd ../.."
   ]
  },
  {
   "cell_type": "code",
   "execution_count": 2,
   "id": "32256b0d",
   "metadata": {},
   "outputs": [],
   "source": [
    "import importlib\n",
    "import pandas as pd"
   ]
  },
  {
   "cell_type": "markdown",
   "id": "de6dc21a",
   "metadata": {},
   "source": [
    "## Observations et environnement\n",
    "---"
   ]
  },
  {
   "cell_type": "markdown",
   "id": "29618668",
   "metadata": {},
   "source": [
    "### Chargement du corpus"
   ]
  },
  {
   "cell_type": "code",
   "execution_count": 3,
   "id": "05cde00c",
   "metadata": {},
   "outputs": [],
   "source": [
    "corpus_filename = 'corpus/221003-CorpusApp.csv'"
   ]
  },
  {
   "cell_type": "code",
   "execution_count": 4,
   "id": "82c08337",
   "metadata": {
    "scrolled": true
   },
   "outputs": [
    {
     "name": "stderr",
     "output_type": "stream",
     "text": [
      "/var/folders/n0/92k02lss71s67fxfyc0qn84m0000gn/T/ipykernel_24674/3410691136.py:1: DtypeWarning: Columns (4) have mixed types. Specify dtype option on import or set low_memory=False.\n",
      "  df_corpus = pd.read_csv(f'data/{corpus_filename}')\n"
     ]
    }
   ],
   "source": [
    "df_corpus = pd.read_csv(f'data/{corpus_filename}')\n",
    "df_corpus = df_corpus.convert_dtypes()"
   ]
  },
  {
   "cell_type": "code",
   "execution_count": 5,
   "id": "32f791a9",
   "metadata": {},
   "outputs": [
    {
     "data": {
      "text/html": [
       "<div>\n",
       "<style scoped>\n",
       "    .dataframe tbody tr th:only-of-type {\n",
       "        vertical-align: middle;\n",
       "    }\n",
       "\n",
       "    .dataframe tbody tr th {\n",
       "        vertical-align: top;\n",
       "    }\n",
       "\n",
       "    .dataframe thead th {\n",
       "        text-align: right;\n",
       "    }\n",
       "</style>\n",
       "<table border=\"1\" class=\"dataframe\">\n",
       "  <thead>\n",
       "    <tr style=\"text-align: right;\">\n",
       "      <th></th>\n",
       "      <th>url</th>\n",
       "      <th>title</th>\n",
       "      <th>article</th>\n",
       "      <th>author</th>\n",
       "      <th>date_iso</th>\n",
       "      <th>site</th>\n",
       "      <th>infox</th>\n",
       "      <th>y_proba</th>\n",
       "    </tr>\n",
       "  </thead>\n",
       "  <tbody>\n",
       "    <tr>\n",
       "      <th>0</th>\n",
       "      <td>https://reseauinternational.net/tous-les-jeune...</td>\n",
       "      <td>Tous les jeunes, portez la nouvelle (russe)</td>\n",
       "      <td>par Pepe Escobar.\n",
       "L’OCS à Samarcande et l’Asse...</td>\n",
       "      <td>&lt;NA&gt;</td>\n",
       "      <td>2022-09-30T00:00:00</td>\n",
       "      <td>reseauinternational.net</td>\n",
       "      <td>0</td>\n",
       "      <td>0.002944</td>\n",
       "    </tr>\n",
       "    <tr>\n",
       "      <th>1</th>\n",
       "      <td>https://reseauinternational.net/adhesion-a-la-...</td>\n",
       "      <td>Adhésion à la Russie : 93% pour le « oui » dan...</td>\n",
       "      <td>Dans les régions de Zaporijia et de Kherson, 9...</td>\n",
       "      <td>&lt;NA&gt;</td>\n",
       "      <td>2022-09-30T00:00:00</td>\n",
       "      <td>reseauinternational.net</td>\n",
       "      <td>0</td>\n",
       "      <td>0.01263</td>\n",
       "    </tr>\n",
       "    <tr>\n",
       "      <th>2</th>\n",
       "      <td>https://lemediaen442.fr/onu-le-premier-ministr...</td>\n",
       "      <td>ONU – Le Premier ministre de Nouvelle-Zélande ...</td>\n",
       "      <td>L’argument principal de la ministre est que le...</td>\n",
       "      <td>&lt;NA&gt;</td>\n",
       "      <td>2022-09-29T00:00:00</td>\n",
       "      <td>lemediaen442.fr</td>\n",
       "      <td>1</td>\n",
       "      <td>0.963768</td>\n",
       "    </tr>\n",
       "    <tr>\n",
       "      <th>3</th>\n",
       "      <td>https://www.francesoir.fr/societe-environnemen...</td>\n",
       "      <td>Compostage humain: les “funérailles vertes” ga...</td>\n",
       "      <td>Aux États-Unis, les différents gouvernements r...</td>\n",
       "      <td>Auteur(s)\n",
       "FranceSoir</td>\n",
       "      <td>2022-09-28T13:15:00</td>\n",
       "      <td>www.francesoir.fr</td>\n",
       "      <td>0</td>\n",
       "      <td>0.007914</td>\n",
       "    </tr>\n",
       "    <tr>\n",
       "      <th>4</th>\n",
       "      <td>https://www.breizh-info.com/2022/09/27/208410/...</td>\n",
       "      <td>Donatello : génie de la Renaissance</td>\n",
       "      <td>Portrait du sculpteur Donatello (1386-1466), p...</td>\n",
       "      <td>&lt;NA&gt;</td>\n",
       "      <td>2022-09-27T00:00:00</td>\n",
       "      <td>www.breizh-info.com</td>\n",
       "      <td>&lt;NA&gt;</td>\n",
       "      <td>0.075435</td>\n",
       "    </tr>\n",
       "    <tr>\n",
       "      <th>...</th>\n",
       "      <td>...</td>\n",
       "      <td>...</td>\n",
       "      <td>...</td>\n",
       "      <td>...</td>\n",
       "      <td>...</td>\n",
       "      <td>...</td>\n",
       "      <td>...</td>\n",
       "      <td>...</td>\n",
       "    </tr>\n",
       "    <tr>\n",
       "      <th>89157</th>\n",
       "      <td>https://www.profession-gendarme.com/zelensky-e...</td>\n",
       "      <td>Zelensky est « une marionnette qui fait inutil...</td>\n",
       "      <td>Encore un journaliste surpris qu’un colonel am...</td>\n",
       "      <td>&lt;NA&gt;</td>\n",
       "      <td>&lt;NA&gt;</td>\n",
       "      <td>www.profession-gendarme.com</td>\n",
       "      <td>&lt;NA&gt;</td>\n",
       "      <td>0.556761</td>\n",
       "    </tr>\n",
       "    <tr>\n",
       "      <th>89158</th>\n",
       "      <td>https://www.profession-gendarme.com/zelensky-l...</td>\n",
       "      <td>Zélensky : l’arnaque de la contre-offensive uk...</td>\n",
       "      <td>Le président Zelensky et ses alliés de l’Otan ...</td>\n",
       "      <td>&lt;NA&gt;</td>\n",
       "      <td>&lt;NA&gt;</td>\n",
       "      <td>www.profession-gendarme.com</td>\n",
       "      <td>&lt;NA&gt;</td>\n",
       "      <td>0.164531</td>\n",
       "    </tr>\n",
       "    <tr>\n",
       "      <th>89159</th>\n",
       "      <td>https://www.profession-gendarme.com/zelensky-m...</td>\n",
       "      <td>Zelensky massacre maintenant des citoyens ukra...</td>\n",
       "      <td>ZELENSKY A ORDONNÉ QUE TOUTES LES PERSONNES FU...</td>\n",
       "      <td>&lt;NA&gt;</td>\n",
       "      <td>&lt;NA&gt;</td>\n",
       "      <td>www.profession-gendarme.com</td>\n",
       "      <td>&lt;NA&gt;</td>\n",
       "      <td>0.673791</td>\n",
       "    </tr>\n",
       "    <tr>\n",
       "      <th>89160</th>\n",
       "      <td>https://www.profession-gendarme.com/zero-mort-...</td>\n",
       "      <td>Zéro mort du coronavirus : comment expliquer l...</td>\n",
       "      <td>Le Vietnam est une exception dans le monde : a...</td>\n",
       "      <td>&lt;NA&gt;</td>\n",
       "      <td>&lt;NA&gt;</td>\n",
       "      <td>www.profession-gendarme.com</td>\n",
       "      <td>&lt;NA&gt;</td>\n",
       "      <td>0.103192</td>\n",
       "    </tr>\n",
       "    <tr>\n",
       "      <th>89161</th>\n",
       "      <td>https://www.profession-gendarme.com/zoom-franc...</td>\n",
       "      <td>Zoom – Francis Cousin : « La grande explosion ...</td>\n",
       "      <td>Francis Cousin, docteur en philosophie, annonc...</td>\n",
       "      <td>&lt;NA&gt;</td>\n",
       "      <td>&lt;NA&gt;</td>\n",
       "      <td>www.profession-gendarme.com</td>\n",
       "      <td>&lt;NA&gt;</td>\n",
       "      <td>0.303205</td>\n",
       "    </tr>\n",
       "  </tbody>\n",
       "</table>\n",
       "<p>89162 rows × 8 columns</p>\n",
       "</div>"
      ],
      "text/plain": [
       "                                                     url  \\\n",
       "0      https://reseauinternational.net/tous-les-jeune...   \n",
       "1      https://reseauinternational.net/adhesion-a-la-...   \n",
       "2      https://lemediaen442.fr/onu-le-premier-ministr...   \n",
       "3      https://www.francesoir.fr/societe-environnemen...   \n",
       "4      https://www.breizh-info.com/2022/09/27/208410/...   \n",
       "...                                                  ...   \n",
       "89157  https://www.profession-gendarme.com/zelensky-e...   \n",
       "89158  https://www.profession-gendarme.com/zelensky-l...   \n",
       "89159  https://www.profession-gendarme.com/zelensky-m...   \n",
       "89160  https://www.profession-gendarme.com/zero-mort-...   \n",
       "89161  https://www.profession-gendarme.com/zoom-franc...   \n",
       "\n",
       "                                                   title  \\\n",
       "0            Tous les jeunes, portez la nouvelle (russe)   \n",
       "1      Adhésion à la Russie : 93% pour le « oui » dan...   \n",
       "2      ONU – Le Premier ministre de Nouvelle-Zélande ...   \n",
       "3      Compostage humain: les “funérailles vertes” ga...   \n",
       "4                    Donatello : génie de la Renaissance   \n",
       "...                                                  ...   \n",
       "89157  Zelensky est « une marionnette qui fait inutil...   \n",
       "89158  Zélensky : l’arnaque de la contre-offensive uk...   \n",
       "89159  Zelensky massacre maintenant des citoyens ukra...   \n",
       "89160  Zéro mort du coronavirus : comment expliquer l...   \n",
       "89161  Zoom – Francis Cousin : « La grande explosion ...   \n",
       "\n",
       "                                                 article  \\\n",
       "0      par Pepe Escobar.\n",
       "L’OCS à Samarcande et l’Asse...   \n",
       "1      Dans les régions de Zaporijia et de Kherson, 9...   \n",
       "2      L’argument principal de la ministre est que le...   \n",
       "3      Aux États-Unis, les différents gouvernements r...   \n",
       "4      Portrait du sculpteur Donatello (1386-1466), p...   \n",
       "...                                                  ...   \n",
       "89157  Encore un journaliste surpris qu’un colonel am...   \n",
       "89158  Le président Zelensky et ses alliés de l’Otan ...   \n",
       "89159  ZELENSKY A ORDONNÉ QUE TOUTES LES PERSONNES FU...   \n",
       "89160  Le Vietnam est une exception dans le monde : a...   \n",
       "89161  Francis Cousin, docteur en philosophie, annonc...   \n",
       "\n",
       "                     author             date_iso                         site  \\\n",
       "0                      <NA>  2022-09-30T00:00:00      reseauinternational.net   \n",
       "1                      <NA>  2022-09-30T00:00:00      reseauinternational.net   \n",
       "2                      <NA>  2022-09-29T00:00:00              lemediaen442.fr   \n",
       "3      Auteur(s)\n",
       "FranceSoir  2022-09-28T13:15:00            www.francesoir.fr   \n",
       "4                      <NA>  2022-09-27T00:00:00          www.breizh-info.com   \n",
       "...                     ...                  ...                          ...   \n",
       "89157                  <NA>                 <NA>  www.profession-gendarme.com   \n",
       "89158                  <NA>                 <NA>  www.profession-gendarme.com   \n",
       "89159                  <NA>                 <NA>  www.profession-gendarme.com   \n",
       "89160                  <NA>                 <NA>  www.profession-gendarme.com   \n",
       "89161                  <NA>                 <NA>  www.profession-gendarme.com   \n",
       "\n",
       "       infox   y_proba  \n",
       "0          0  0.002944  \n",
       "1          0   0.01263  \n",
       "2          1  0.963768  \n",
       "3          0  0.007914  \n",
       "4       <NA>  0.075435  \n",
       "...      ...       ...  \n",
       "89157   <NA>  0.556761  \n",
       "89158   <NA>  0.164531  \n",
       "89159   <NA>  0.673791  \n",
       "89160   <NA>  0.103192  \n",
       "89161   <NA>  0.303205  \n",
       "\n",
       "[89162 rows x 8 columns]"
      ]
     },
     "execution_count": 5,
     "metadata": {},
     "output_type": "execute_result"
    }
   ],
   "source": [
    "df_corpus"
   ]
  },
  {
   "cell_type": "markdown",
   "id": "26de4d29",
   "metadata": {},
   "source": [
    "## Expérience\n",
    "---"
   ]
  },
  {
   "cell_type": "markdown",
   "id": "e2829392",
   "metadata": {},
   "source": [
    "### Enlever Articles Vides ou trop courts"
   ]
  },
  {
   "cell_type": "code",
   "execution_count": 6,
   "id": "96da3035",
   "metadata": {},
   "outputs": [],
   "source": [
    "df_corpus = df_corpus[df_corpus['article'].notna()]"
   ]
  },
  {
   "cell_type": "code",
   "execution_count": 7,
   "id": "935d05b1",
   "metadata": {},
   "outputs": [],
   "source": [
    "def trop_court(article):\n",
    "    return len(article)<10"
   ]
  },
  {
   "cell_type": "code",
   "execution_count": 8,
   "id": "b5ef224a",
   "metadata": {},
   "outputs": [],
   "source": [
    "df_corpus = df_corpus[df_corpus['article'].apply(trop_court)==False]"
   ]
  },
  {
   "cell_type": "code",
   "execution_count": 9,
   "id": "73eb6c90",
   "metadata": {},
   "outputs": [
    {
     "data": {
      "text/html": [
       "<div>\n",
       "<style scoped>\n",
       "    .dataframe tbody tr th:only-of-type {\n",
       "        vertical-align: middle;\n",
       "    }\n",
       "\n",
       "    .dataframe tbody tr th {\n",
       "        vertical-align: top;\n",
       "    }\n",
       "\n",
       "    .dataframe thead th {\n",
       "        text-align: right;\n",
       "    }\n",
       "</style>\n",
       "<table border=\"1\" class=\"dataframe\">\n",
       "  <thead>\n",
       "    <tr style=\"text-align: right;\">\n",
       "      <th></th>\n",
       "      <th>url</th>\n",
       "      <th>title</th>\n",
       "      <th>article</th>\n",
       "      <th>author</th>\n",
       "      <th>date_iso</th>\n",
       "      <th>site</th>\n",
       "      <th>infox</th>\n",
       "      <th>y_proba</th>\n",
       "    </tr>\n",
       "  </thead>\n",
       "  <tbody>\n",
       "    <tr>\n",
       "      <th>0</th>\n",
       "      <td>https://reseauinternational.net/tous-les-jeune...</td>\n",
       "      <td>Tous les jeunes, portez la nouvelle (russe)</td>\n",
       "      <td>par Pepe Escobar.\n",
       "L’OCS à Samarcande et l’Asse...</td>\n",
       "      <td>&lt;NA&gt;</td>\n",
       "      <td>2022-09-30T00:00:00</td>\n",
       "      <td>reseauinternational.net</td>\n",
       "      <td>0</td>\n",
       "      <td>0.002944</td>\n",
       "    </tr>\n",
       "    <tr>\n",
       "      <th>1</th>\n",
       "      <td>https://reseauinternational.net/adhesion-a-la-...</td>\n",
       "      <td>Adhésion à la Russie : 93% pour le « oui » dan...</td>\n",
       "      <td>Dans les régions de Zaporijia et de Kherson, 9...</td>\n",
       "      <td>&lt;NA&gt;</td>\n",
       "      <td>2022-09-30T00:00:00</td>\n",
       "      <td>reseauinternational.net</td>\n",
       "      <td>0</td>\n",
       "      <td>0.01263</td>\n",
       "    </tr>\n",
       "    <tr>\n",
       "      <th>2</th>\n",
       "      <td>https://lemediaen442.fr/onu-le-premier-ministr...</td>\n",
       "      <td>ONU – Le Premier ministre de Nouvelle-Zélande ...</td>\n",
       "      <td>L’argument principal de la ministre est que le...</td>\n",
       "      <td>&lt;NA&gt;</td>\n",
       "      <td>2022-09-29T00:00:00</td>\n",
       "      <td>lemediaen442.fr</td>\n",
       "      <td>1</td>\n",
       "      <td>0.963768</td>\n",
       "    </tr>\n",
       "    <tr>\n",
       "      <th>3</th>\n",
       "      <td>https://www.francesoir.fr/societe-environnemen...</td>\n",
       "      <td>Compostage humain: les “funérailles vertes” ga...</td>\n",
       "      <td>Aux États-Unis, les différents gouvernements r...</td>\n",
       "      <td>Auteur(s)\n",
       "FranceSoir</td>\n",
       "      <td>2022-09-28T13:15:00</td>\n",
       "      <td>www.francesoir.fr</td>\n",
       "      <td>0</td>\n",
       "      <td>0.007914</td>\n",
       "    </tr>\n",
       "    <tr>\n",
       "      <th>4</th>\n",
       "      <td>https://www.breizh-info.com/2022/09/27/208410/...</td>\n",
       "      <td>Donatello : génie de la Renaissance</td>\n",
       "      <td>Portrait du sculpteur Donatello (1386-1466), p...</td>\n",
       "      <td>&lt;NA&gt;</td>\n",
       "      <td>2022-09-27T00:00:00</td>\n",
       "      <td>www.breizh-info.com</td>\n",
       "      <td>&lt;NA&gt;</td>\n",
       "      <td>0.075435</td>\n",
       "    </tr>\n",
       "    <tr>\n",
       "      <th>...</th>\n",
       "      <td>...</td>\n",
       "      <td>...</td>\n",
       "      <td>...</td>\n",
       "      <td>...</td>\n",
       "      <td>...</td>\n",
       "      <td>...</td>\n",
       "      <td>...</td>\n",
       "      <td>...</td>\n",
       "    </tr>\n",
       "    <tr>\n",
       "      <th>89157</th>\n",
       "      <td>https://www.profession-gendarme.com/zelensky-e...</td>\n",
       "      <td>Zelensky est « une marionnette qui fait inutil...</td>\n",
       "      <td>Encore un journaliste surpris qu’un colonel am...</td>\n",
       "      <td>&lt;NA&gt;</td>\n",
       "      <td>&lt;NA&gt;</td>\n",
       "      <td>www.profession-gendarme.com</td>\n",
       "      <td>&lt;NA&gt;</td>\n",
       "      <td>0.556761</td>\n",
       "    </tr>\n",
       "    <tr>\n",
       "      <th>89158</th>\n",
       "      <td>https://www.profession-gendarme.com/zelensky-l...</td>\n",
       "      <td>Zélensky : l’arnaque de la contre-offensive uk...</td>\n",
       "      <td>Le président Zelensky et ses alliés de l’Otan ...</td>\n",
       "      <td>&lt;NA&gt;</td>\n",
       "      <td>&lt;NA&gt;</td>\n",
       "      <td>www.profession-gendarme.com</td>\n",
       "      <td>&lt;NA&gt;</td>\n",
       "      <td>0.164531</td>\n",
       "    </tr>\n",
       "    <tr>\n",
       "      <th>89159</th>\n",
       "      <td>https://www.profession-gendarme.com/zelensky-m...</td>\n",
       "      <td>Zelensky massacre maintenant des citoyens ukra...</td>\n",
       "      <td>ZELENSKY A ORDONNÉ QUE TOUTES LES PERSONNES FU...</td>\n",
       "      <td>&lt;NA&gt;</td>\n",
       "      <td>&lt;NA&gt;</td>\n",
       "      <td>www.profession-gendarme.com</td>\n",
       "      <td>&lt;NA&gt;</td>\n",
       "      <td>0.673791</td>\n",
       "    </tr>\n",
       "    <tr>\n",
       "      <th>89160</th>\n",
       "      <td>https://www.profession-gendarme.com/zero-mort-...</td>\n",
       "      <td>Zéro mort du coronavirus : comment expliquer l...</td>\n",
       "      <td>Le Vietnam est une exception dans le monde : a...</td>\n",
       "      <td>&lt;NA&gt;</td>\n",
       "      <td>&lt;NA&gt;</td>\n",
       "      <td>www.profession-gendarme.com</td>\n",
       "      <td>&lt;NA&gt;</td>\n",
       "      <td>0.103192</td>\n",
       "    </tr>\n",
       "    <tr>\n",
       "      <th>89161</th>\n",
       "      <td>https://www.profession-gendarme.com/zoom-franc...</td>\n",
       "      <td>Zoom – Francis Cousin : « La grande explosion ...</td>\n",
       "      <td>Francis Cousin, docteur en philosophie, annonc...</td>\n",
       "      <td>&lt;NA&gt;</td>\n",
       "      <td>&lt;NA&gt;</td>\n",
       "      <td>www.profession-gendarme.com</td>\n",
       "      <td>&lt;NA&gt;</td>\n",
       "      <td>0.303205</td>\n",
       "    </tr>\n",
       "  </tbody>\n",
       "</table>\n",
       "<p>87129 rows × 8 columns</p>\n",
       "</div>"
      ],
      "text/plain": [
       "                                                     url  \\\n",
       "0      https://reseauinternational.net/tous-les-jeune...   \n",
       "1      https://reseauinternational.net/adhesion-a-la-...   \n",
       "2      https://lemediaen442.fr/onu-le-premier-ministr...   \n",
       "3      https://www.francesoir.fr/societe-environnemen...   \n",
       "4      https://www.breizh-info.com/2022/09/27/208410/...   \n",
       "...                                                  ...   \n",
       "89157  https://www.profession-gendarme.com/zelensky-e...   \n",
       "89158  https://www.profession-gendarme.com/zelensky-l...   \n",
       "89159  https://www.profession-gendarme.com/zelensky-m...   \n",
       "89160  https://www.profession-gendarme.com/zero-mort-...   \n",
       "89161  https://www.profession-gendarme.com/zoom-franc...   \n",
       "\n",
       "                                                   title  \\\n",
       "0            Tous les jeunes, portez la nouvelle (russe)   \n",
       "1      Adhésion à la Russie : 93% pour le « oui » dan...   \n",
       "2      ONU – Le Premier ministre de Nouvelle-Zélande ...   \n",
       "3      Compostage humain: les “funérailles vertes” ga...   \n",
       "4                    Donatello : génie de la Renaissance   \n",
       "...                                                  ...   \n",
       "89157  Zelensky est « une marionnette qui fait inutil...   \n",
       "89158  Zélensky : l’arnaque de la contre-offensive uk...   \n",
       "89159  Zelensky massacre maintenant des citoyens ukra...   \n",
       "89160  Zéro mort du coronavirus : comment expliquer l...   \n",
       "89161  Zoom – Francis Cousin : « La grande explosion ...   \n",
       "\n",
       "                                                 article  \\\n",
       "0      par Pepe Escobar.\n",
       "L’OCS à Samarcande et l’Asse...   \n",
       "1      Dans les régions de Zaporijia et de Kherson, 9...   \n",
       "2      L’argument principal de la ministre est que le...   \n",
       "3      Aux États-Unis, les différents gouvernements r...   \n",
       "4      Portrait du sculpteur Donatello (1386-1466), p...   \n",
       "...                                                  ...   \n",
       "89157  Encore un journaliste surpris qu’un colonel am...   \n",
       "89158  Le président Zelensky et ses alliés de l’Otan ...   \n",
       "89159  ZELENSKY A ORDONNÉ QUE TOUTES LES PERSONNES FU...   \n",
       "89160  Le Vietnam est une exception dans le monde : a...   \n",
       "89161  Francis Cousin, docteur en philosophie, annonc...   \n",
       "\n",
       "                     author             date_iso                         site  \\\n",
       "0                      <NA>  2022-09-30T00:00:00      reseauinternational.net   \n",
       "1                      <NA>  2022-09-30T00:00:00      reseauinternational.net   \n",
       "2                      <NA>  2022-09-29T00:00:00              lemediaen442.fr   \n",
       "3      Auteur(s)\n",
       "FranceSoir  2022-09-28T13:15:00            www.francesoir.fr   \n",
       "4                      <NA>  2022-09-27T00:00:00          www.breizh-info.com   \n",
       "...                     ...                  ...                          ...   \n",
       "89157                  <NA>                 <NA>  www.profession-gendarme.com   \n",
       "89158                  <NA>                 <NA>  www.profession-gendarme.com   \n",
       "89159                  <NA>                 <NA>  www.profession-gendarme.com   \n",
       "89160                  <NA>                 <NA>  www.profession-gendarme.com   \n",
       "89161                  <NA>                 <NA>  www.profession-gendarme.com   \n",
       "\n",
       "       infox   y_proba  \n",
       "0          0  0.002944  \n",
       "1          0   0.01263  \n",
       "2          1  0.963768  \n",
       "3          0  0.007914  \n",
       "4       <NA>  0.075435  \n",
       "...      ...       ...  \n",
       "89157   <NA>  0.556761  \n",
       "89158   <NA>  0.164531  \n",
       "89159   <NA>  0.673791  \n",
       "89160   <NA>  0.103192  \n",
       "89161   <NA>  0.303205  \n",
       "\n",
       "[87129 rows x 8 columns]"
      ]
     },
     "execution_count": 9,
     "metadata": {},
     "output_type": "execute_result"
    }
   ],
   "source": [
    "df_corpus"
   ]
  },
  {
   "cell_type": "markdown",
   "id": "13ff0ffb",
   "metadata": {},
   "source": [
    "### Forte proba d'infox"
   ]
  },
  {
   "cell_type": "code",
   "execution_count": 10,
   "id": "36fb2d1f",
   "metadata": {},
   "outputs": [],
   "source": [
    "df_filtre = df_corpus[df_corpus['y_proba']>0.8]"
   ]
  },
  {
   "cell_type": "code",
   "execution_count": 11,
   "id": "c9a7075f",
   "metadata": {},
   "outputs": [],
   "source": [
    "# Gorafi\n",
    "df_filtre = df_filtre[df_filtre['site']!='www.legorafi.fr']"
   ]
  },
  {
   "cell_type": "code",
   "execution_count": 12,
   "id": "23572bc4",
   "metadata": {},
   "outputs": [
    {
     "data": {
      "text/plain": [
       "(7794, 8)"
      ]
     },
     "execution_count": 12,
     "metadata": {},
     "output_type": "execute_result"
    }
   ],
   "source": [
    "df_filtre.shape"
   ]
  },
  {
   "cell_type": "code",
   "execution_count": null,
   "id": "2dc6f5c0",
   "metadata": {},
   "outputs": [],
   "source": []
  },
  {
   "cell_type": "markdown",
   "id": "ba0834f1",
   "metadata": {},
   "source": [
    "## Mesure et observation des résultats\n",
    "---"
   ]
  },
  {
   "cell_type": "code",
   "execution_count": 13,
   "id": "037fa3e9",
   "metadata": {},
   "outputs": [],
   "source": [
    "import numpy as np"
   ]
  },
  {
   "cell_type": "code",
   "execution_count": 14,
   "id": "87e170bb",
   "metadata": {},
   "outputs": [],
   "source": [
    "# Import seaborn\n",
    "import seaborn as sns\n",
    "\n",
    "# Apply the default theme\n",
    "sns.set_theme()"
   ]
  },
  {
   "cell_type": "code",
   "execution_count": 15,
   "id": "e6a98cef",
   "metadata": {},
   "outputs": [
    {
     "data": {
      "text/plain": [
       "<seaborn.axisgrid.FacetGrid at 0x103eabc10>"
      ]
     },
     "execution_count": 15,
     "metadata": {},
     "output_type": "execute_result"
    },
    {
     "data": {
      "image/png": "[encoded data removed]",
      "text/plain": [
       "<Figure size 360x360 with 1 Axes>"
      ]
     },
     "metadata": {
      "needs_background": "light"
     },
     "output_type": "display_data"
    }
   ],
   "source": [
    "sns.displot(df_filtre[\"y_proba\"], binwidth=0.01)"
   ]
  },
  {
   "cell_type": "markdown",
   "id": "76996d3a",
   "metadata": {},
   "source": [
    "## Sauvegarde des résultats\n",
    "---"
   ]
  },
  {
   "cell_type": "code",
   "execution_count": 16,
   "id": "827f60e3",
   "metadata": {},
   "outputs": [],
   "source": [
    "filename = '221006-CorpusAppFiltre.csv'\n",
    "df_filtre.to_csv(f'data/corpus/{filename}',index=False)"
   ]
  },
  {
   "cell_type": "markdown",
   "id": "fb7949bc",
   "metadata": {},
   "source": [
    "## Conclusions\n",
    "---"
   ]
  },
  {
   "cell_type": "markdown",
   "id": "bd06b261",
   "metadata": {},
   "source": [
    "- Filtrage du Corpus App pour observateurs : OK"
   ]
  },
  {
   "cell_type": "markdown",
   "id": "bd360655",
   "metadata": {},
   "source": [
    "## Bricolages\n",
    "---"
   ]
  },
  {
   "cell_type": "code",
   "execution_count": 17,
   "id": "0fdf32ff",
   "metadata": {},
   "outputs": [],
   "source": [
    "import numpy as np"
   ]
  },
  {
   "cell_type": "code",
   "execution_count": 25,
   "id": "199d7c76",
   "metadata": {},
   "outputs": [
    {
     "data": {
      "text/html": [
       "<div>\n",
       "<style scoped>\n",
       "    .dataframe tbody tr th:only-of-type {\n",
       "        vertical-align: middle;\n",
       "    }\n",
       "\n",
       "    .dataframe tbody tr th {\n",
       "        vertical-align: top;\n",
       "    }\n",
       "\n",
       "    .dataframe thead th {\n",
       "        text-align: right;\n",
       "    }\n",
       "</style>\n",
       "<table border=\"1\" class=\"dataframe\">\n",
       "  <thead>\n",
       "    <tr style=\"text-align: right;\">\n",
       "      <th>y</th>\n",
       "      <th>False</th>\n",
       "      <th>True</th>\n",
       "    </tr>\n",
       "    <tr>\n",
       "      <th>site</th>\n",
       "      <th></th>\n",
       "      <th></th>\n",
       "    </tr>\n",
       "  </thead>\n",
       "  <tbody>\n",
       "    <tr>\n",
       "      <th>actu.fr</th>\n",
       "      <td>2655</td>\n",
       "      <td>225</td>\n",
       "    </tr>\n",
       "    <tr>\n",
       "      <th>fr.novopress.info</th>\n",
       "      <td>629</td>\n",
       "      <td>133</td>\n",
       "    </tr>\n",
       "    <tr>\n",
       "      <th>fr.sott.net</th>\n",
       "      <td>1880</td>\n",
       "      <td>1013</td>\n",
       "    </tr>\n",
       "    <tr>\n",
       "      <th>infodujour.fr</th>\n",
       "      <td>398</td>\n",
       "      <td>108</td>\n",
       "    </tr>\n",
       "    <tr>\n",
       "      <th>lalettrepatriote.com</th>\n",
       "      <td>5</td>\n",
       "      <td>1</td>\n",
       "    </tr>\n",
       "    <tr>\n",
       "      <th>lemediaen442.fr</th>\n",
       "      <td>1353</td>\n",
       "      <td>961</td>\n",
       "    </tr>\n",
       "    <tr>\n",
       "      <th>lesakerfrancophone.fr</th>\n",
       "      <td>304</td>\n",
       "      <td>573</td>\n",
       "    </tr>\n",
       "    <tr>\n",
       "      <th>lesdeqodeurs.fr</th>\n",
       "      <td>28</td>\n",
       "      <td>60</td>\n",
       "    </tr>\n",
       "    <tr>\n",
       "      <th>lesmoutonsrebelles.com</th>\n",
       "      <td>1607</td>\n",
       "      <td>732</td>\n",
       "    </tr>\n",
       "    <tr>\n",
       "      <th>lesobservateurs.ch</th>\n",
       "      <td>335</td>\n",
       "      <td>109</td>\n",
       "    </tr>\n",
       "    <tr>\n",
       "      <th>lezarceleurs.blogspot.com</th>\n",
       "      <td>779</td>\n",
       "      <td>1687</td>\n",
       "    </tr>\n",
       "    <tr>\n",
       "      <th>reseauinternational.net</th>\n",
       "      <td>674</td>\n",
       "      <td>555</td>\n",
       "    </tr>\n",
       "    <tr>\n",
       "      <th>theconversation.com</th>\n",
       "      <td>865</td>\n",
       "      <td>186</td>\n",
       "    </tr>\n",
       "    <tr>\n",
       "      <th>www.breizh-info.com</th>\n",
       "      <td>6220</td>\n",
       "      <td>215</td>\n",
       "    </tr>\n",
       "    <tr>\n",
       "      <th>www.cnews.fr</th>\n",
       "      <td>1386</td>\n",
       "      <td>165</td>\n",
       "    </tr>\n",
       "    <tr>\n",
       "      <th>www.dreuz.info</th>\n",
       "      <td>4172</td>\n",
       "      <td>1210</td>\n",
       "    </tr>\n",
       "    <tr>\n",
       "      <th>www.francesoir.fr</th>\n",
       "      <td>19687</td>\n",
       "      <td>3368</td>\n",
       "    </tr>\n",
       "    <tr>\n",
       "      <th>www.francetvinfo.fr</th>\n",
       "      <td>13342</td>\n",
       "      <td>1346</td>\n",
       "    </tr>\n",
       "    <tr>\n",
       "      <th>www.legorafi.fr</th>\n",
       "      <td>4075</td>\n",
       "      <td>482</td>\n",
       "    </tr>\n",
       "    <tr>\n",
       "      <th>www.lelibrepenseur.org</th>\n",
       "      <td>1797</td>\n",
       "      <td>1555</td>\n",
       "    </tr>\n",
       "    <tr>\n",
       "      <th>www.les-crises.fr</th>\n",
       "      <td>3</td>\n",
       "      <td>2</td>\n",
       "    </tr>\n",
       "    <tr>\n",
       "      <th>www.lesalonbeige.fr</th>\n",
       "      <td>1538</td>\n",
       "      <td>150</td>\n",
       "    </tr>\n",
       "    <tr>\n",
       "      <th>www.mondialisation.ca</th>\n",
       "      <td>3</td>\n",
       "      <td>10</td>\n",
       "    </tr>\n",
       "    <tr>\n",
       "      <th>www.nouvelordremondial.cc</th>\n",
       "      <td>55</td>\n",
       "      <td>42</td>\n",
       "    </tr>\n",
       "    <tr>\n",
       "      <th>www.polemia.com</th>\n",
       "      <td>413</td>\n",
       "      <td>216</td>\n",
       "    </tr>\n",
       "    <tr>\n",
       "      <th>www.profession-gendarme.com</th>\n",
       "      <td>2699</td>\n",
       "      <td>1088</td>\n",
       "    </tr>\n",
       "    <tr>\n",
       "      <th>www.voltairenet.org</th>\n",
       "      <td>2</td>\n",
       "      <td>7</td>\n",
       "    </tr>\n",
       "    <tr>\n",
       "      <th>www.wikistrike.com</th>\n",
       "      <td>2627</td>\n",
       "      <td>1399</td>\n",
       "    </tr>\n",
       "  </tbody>\n",
       "</table>\n",
       "</div>"
      ],
      "text/plain": [
       "y                            False  True \n",
       "site                                     \n",
       "actu.fr                       2655    225\n",
       "fr.novopress.info              629    133\n",
       "fr.sott.net                   1880   1013\n",
       "infodujour.fr                  398    108\n",
       "lalettrepatriote.com             5      1\n",
       "lemediaen442.fr               1353    961\n",
       "lesakerfrancophone.fr          304    573\n",
       "lesdeqodeurs.fr                 28     60\n",
       "lesmoutonsrebelles.com        1607    732\n",
       "lesobservateurs.ch             335    109\n",
       "lezarceleurs.blogspot.com      779   1687\n",
       "reseauinternational.net        674    555\n",
       "theconversation.com            865    186\n",
       "www.breizh-info.com           6220    215\n",
       "www.cnews.fr                  1386    165\n",
       "www.dreuz.info                4172   1210\n",
       "www.francesoir.fr            19687   3368\n",
       "www.francetvinfo.fr          13342   1346\n",
       "www.legorafi.fr               4075    482\n",
       "www.lelibrepenseur.org        1797   1555\n",
       "www.les-crises.fr                3      2\n",
       "www.lesalonbeige.fr           1538    150\n",
       "www.mondialisation.ca            3     10\n",
       "www.nouvelordremondial.cc       55     42\n",
       "www.polemia.com                413    216\n",
       "www.profession-gendarme.com   2699   1088\n",
       "www.voltairenet.org              2      7\n",
       "www.wikistrike.com            2627   1399"
      ]
     },
     "execution_count": 25,
     "metadata": {},
     "output_type": "execute_result"
    }
   ],
   "source": [
    "pd.pivot_table(df_corpus,values='url',index='site',columns='y',aggfunc='count')"
   ]
  },
  {
   "cell_type": "code",
   "execution_count": 19,
   "id": "13e3f40e",
   "metadata": {},
   "outputs": [
    {
     "ename": "KeyError",
     "evalue": "'y'",
     "output_type": "error",
     "traceback": [
      "\u001b[0;31m---------------------------------------------------------------------------\u001b[0m",
      "\u001b[0;31mKeyError\u001b[0m                                  Traceback (most recent call last)",
      "File \u001b[0;32m~/Desktop/Work/Patat/patat-env/lib/python3.9/site-packages/pandas/core/indexes/base.py:3621\u001b[0m, in \u001b[0;36mIndex.get_loc\u001b[0;34m(self, key, method, tolerance)\u001b[0m\n\u001b[1;32m   3620\u001b[0m \u001b[38;5;28;01mtry\u001b[39;00m:\n\u001b[0;32m-> 3621\u001b[0m     \u001b[38;5;28;01mreturn\u001b[39;00m \u001b[38;5;28;43mself\u001b[39;49m\u001b[38;5;241;43m.\u001b[39;49m\u001b[43m_engine\u001b[49m\u001b[38;5;241;43m.\u001b[39;49m\u001b[43mget_loc\u001b[49m\u001b[43m(\u001b[49m\u001b[43mcasted_key\u001b[49m\u001b[43m)\u001b[49m\n\u001b[1;32m   3622\u001b[0m \u001b[38;5;28;01mexcept\u001b[39;00m \u001b[38;5;167;01mKeyError\u001b[39;00m \u001b[38;5;28;01mas\u001b[39;00m err:\n",
      "File \u001b[0;32mpandas/_libs/index.pyx:136\u001b[0m, in \u001b[0;36mpandas._libs.index.IndexEngine.get_loc\u001b[0;34m()\u001b[0m\n",
      "File \u001b[0;32mpandas/_libs/index.pyx:163\u001b[0m, in \u001b[0;36mpandas._libs.index.IndexEngine.get_loc\u001b[0;34m()\u001b[0m\n",
      "File \u001b[0;32mpandas/_libs/hashtable_class_helper.pxi:5198\u001b[0m, in \u001b[0;36mpandas._libs.hashtable.PyObjectHashTable.get_item\u001b[0;34m()\u001b[0m\n",
      "File \u001b[0;32mpandas/_libs/hashtable_class_helper.pxi:5206\u001b[0m, in \u001b[0;36mpandas._libs.hashtable.PyObjectHashTable.get_item\u001b[0;34m()\u001b[0m\n",
      "\u001b[0;31mKeyError\u001b[0m: 'y'",
      "\nThe above exception was the direct cause of the following exception:\n",
      "\u001b[0;31mKeyError\u001b[0m                                  Traceback (most recent call last)",
      "Input \u001b[0;32mIn [19]\u001b[0m, in \u001b[0;36m<cell line: 1>\u001b[0;34m()\u001b[0m\n\u001b[0;32m----> 1\u001b[0m t1 \u001b[38;5;241m=\u001b[39m df_corpus[\u001b[43mdf_corpus\u001b[49m\u001b[43m[\u001b[49m\u001b[38;5;124;43m'\u001b[39;49m\u001b[38;5;124;43my\u001b[39;49m\u001b[38;5;124;43m'\u001b[39;49m\u001b[43m]\u001b[49m\u001b[38;5;241m==\u001b[39m\u001b[38;5;241m1\u001b[39m]\u001b[38;5;241m.\u001b[39mvalue_counts(\u001b[38;5;124m'\u001b[39m\u001b[38;5;124msite\u001b[39m\u001b[38;5;124m'\u001b[39m)\n",
      "File \u001b[0;32m~/Desktop/Work/Patat/patat-env/lib/python3.9/site-packages/pandas/core/frame.py:3505\u001b[0m, in \u001b[0;36mDataFrame.__getitem__\u001b[0;34m(self, key)\u001b[0m\n\u001b[1;32m   3503\u001b[0m \u001b[38;5;28;01mif\u001b[39;00m \u001b[38;5;28mself\u001b[39m\u001b[38;5;241m.\u001b[39mcolumns\u001b[38;5;241m.\u001b[39mnlevels \u001b[38;5;241m>\u001b[39m \u001b[38;5;241m1\u001b[39m:\n\u001b[1;32m   3504\u001b[0m     \u001b[38;5;28;01mreturn\u001b[39;00m \u001b[38;5;28mself\u001b[39m\u001b[38;5;241m.\u001b[39m_getitem_multilevel(key)\n\u001b[0;32m-> 3505\u001b[0m indexer \u001b[38;5;241m=\u001b[39m \u001b[38;5;28;43mself\u001b[39;49m\u001b[38;5;241;43m.\u001b[39;49m\u001b[43mcolumns\u001b[49m\u001b[38;5;241;43m.\u001b[39;49m\u001b[43mget_loc\u001b[49m\u001b[43m(\u001b[49m\u001b[43mkey\u001b[49m\u001b[43m)\u001b[49m\n\u001b[1;32m   3506\u001b[0m \u001b[38;5;28;01mif\u001b[39;00m is_integer(indexer):\n\u001b[1;32m   3507\u001b[0m     indexer \u001b[38;5;241m=\u001b[39m [indexer]\n",
      "File \u001b[0;32m~/Desktop/Work/Patat/patat-env/lib/python3.9/site-packages/pandas/core/indexes/base.py:3623\u001b[0m, in \u001b[0;36mIndex.get_loc\u001b[0;34m(self, key, method, tolerance)\u001b[0m\n\u001b[1;32m   3621\u001b[0m     \u001b[38;5;28;01mreturn\u001b[39;00m \u001b[38;5;28mself\u001b[39m\u001b[38;5;241m.\u001b[39m_engine\u001b[38;5;241m.\u001b[39mget_loc(casted_key)\n\u001b[1;32m   3622\u001b[0m \u001b[38;5;28;01mexcept\u001b[39;00m \u001b[38;5;167;01mKeyError\u001b[39;00m \u001b[38;5;28;01mas\u001b[39;00m err:\n\u001b[0;32m-> 3623\u001b[0m     \u001b[38;5;28;01mraise\u001b[39;00m \u001b[38;5;167;01mKeyError\u001b[39;00m(key) \u001b[38;5;28;01mfrom\u001b[39;00m \u001b[38;5;21;01merr\u001b[39;00m\n\u001b[1;32m   3624\u001b[0m \u001b[38;5;28;01mexcept\u001b[39;00m \u001b[38;5;167;01mTypeError\u001b[39;00m:\n\u001b[1;32m   3625\u001b[0m     \u001b[38;5;66;03m# If we have a listlike key, _check_indexing_error will raise\u001b[39;00m\n\u001b[1;32m   3626\u001b[0m     \u001b[38;5;66;03m#  InvalidIndexError. Otherwise we fall through and re-raise\u001b[39;00m\n\u001b[1;32m   3627\u001b[0m     \u001b[38;5;66;03m#  the TypeError.\u001b[39;00m\n\u001b[1;32m   3628\u001b[0m     \u001b[38;5;28mself\u001b[39m\u001b[38;5;241m.\u001b[39m_check_indexing_error(key)\n",
      "\u001b[0;31mKeyError\u001b[0m: 'y'"
     ]
    }
   ],
   "source": [
    "t1 = df_corpus[df_corpus['y']==1].value_counts('site')"
   ]
  },
  {
   "cell_type": "code",
   "execution_count": null,
   "id": "e4be6119",
   "metadata": {},
   "outputs": [],
   "source": [
    "t2 = df_corpus[df_corpus['y']==0].value_counts('site')"
   ]
  },
  {
   "cell_type": "code",
   "execution_count": 20,
   "id": "dfcbd6f0",
   "metadata": {},
   "outputs": [
    {
     "ename": "NameError",
     "evalue": "name 't2' is not defined",
     "output_type": "error",
     "traceback": [
      "\u001b[0;31m---------------------------------------------------------------------------\u001b[0m",
      "\u001b[0;31mNameError\u001b[0m                                 Traceback (most recent call last)",
      "Input \u001b[0;32mIn [20]\u001b[0m, in \u001b[0;36m<cell line: 1>\u001b[0;34m()\u001b[0m\n\u001b[0;32m----> 1\u001b[0m pd\u001b[38;5;241m.\u001b[39mDataFrame([\u001b[43mt2\u001b[49m,t1])\u001b[38;5;241m.\u001b[39mT\u001b[38;5;241m.\u001b[39mto_csv(\u001b[38;5;124m'\u001b[39m\u001b[38;5;124mdata/analysis/221006-DistribInfoxSites.csv\u001b[39m\u001b[38;5;124m'\u001b[39m)\n",
      "\u001b[0;31mNameError\u001b[0m: name 't2' is not defined"
     ]
    }
   ],
   "source": [
    "pd.DataFrame([t2,t1]).T.to_csv('data/analysis/221006-DistribInfoxSites.csv')"
   ]
  },
  {
   "cell_type": "code",
   "execution_count": 21,
   "id": "6aa57d92",
   "metadata": {},
   "outputs": [
    {
     "data": {
      "text/plain": [
       "Index(['url', 'title', 'article', 'author', 'date_iso', 'site', 'infox',\n",
       "       'y_proba'],\n",
       "      dtype='object')"
      ]
     },
     "execution_count": 21,
     "metadata": {},
     "output_type": "execute_result"
    }
   ],
   "source": [
    "df_corpus.keys()"
   ]
  },
  {
   "cell_type": "code",
   "execution_count": 24,
   "id": "99041319",
   "metadata": {},
   "outputs": [],
   "source": [
    "df_corpus['y']=df_corpus['y_proba']>0.5"
   ]
  },
  {
   "cell_type": "code",
   "execution_count": 23,
   "id": "706ec262",
   "metadata": {},
   "outputs": [
    {
     "ename": "AttributeError",
     "evalue": "module 'pandas' has no attribute 'piv'",
     "output_type": "error",
     "traceback": [
      "\u001b[0;31m---------------------------------------------------------------------------\u001b[0m",
      "\u001b[0;31mAttributeError\u001b[0m                            Traceback (most recent call last)",
      "Input \u001b[0;32mIn [23]\u001b[0m, in \u001b[0;36m<cell line: 1>\u001b[0;34m()\u001b[0m\n\u001b[0;32m----> 1\u001b[0m \u001b[43mpd\u001b[49m\u001b[38;5;241;43m.\u001b[39;49m\u001b[43mpiv\u001b[49m\n",
      "File \u001b[0;32m~/Desktop/Work/Patat/patat-env/lib/python3.9/site-packages/pandas/__init__.py:261\u001b[0m, in \u001b[0;36m__getattr__\u001b[0;34m(name)\u001b[0m\n\u001b[1;32m    257\u001b[0m     \u001b[38;5;28;01mfrom\u001b[39;00m \u001b[38;5;21;01mpandas\u001b[39;00m\u001b[38;5;21;01m.\u001b[39;00m\u001b[38;5;21;01mcore\u001b[39;00m\u001b[38;5;21;01m.\u001b[39;00m\u001b[38;5;21;01marrays\u001b[39;00m\u001b[38;5;21;01m.\u001b[39;00m\u001b[38;5;21;01msparse\u001b[39;00m \u001b[38;5;28;01mimport\u001b[39;00m SparseArray \u001b[38;5;28;01mas\u001b[39;00m _SparseArray\n\u001b[1;32m    259\u001b[0m     \u001b[38;5;28;01mreturn\u001b[39;00m _SparseArray\n\u001b[0;32m--> 261\u001b[0m \u001b[38;5;28;01mraise\u001b[39;00m \u001b[38;5;167;01mAttributeError\u001b[39;00m(\u001b[38;5;124mf\u001b[39m\u001b[38;5;124m\"\u001b[39m\u001b[38;5;124mmodule \u001b[39m\u001b[38;5;124m'\u001b[39m\u001b[38;5;124mpandas\u001b[39m\u001b[38;5;124m'\u001b[39m\u001b[38;5;124m has no attribute \u001b[39m\u001b[38;5;124m'\u001b[39m\u001b[38;5;132;01m{\u001b[39;00mname\u001b[38;5;132;01m}\u001b[39;00m\u001b[38;5;124m'\u001b[39m\u001b[38;5;124m\"\u001b[39m)\n",
      "\u001b[0;31mAttributeError\u001b[0m: module 'pandas' has no attribute 'piv'"
     ]
    }
   ],
   "source": [
    "pd.piv"
   ]
  },
  {
   "cell_type": "code",
   "execution_count": null,
   "id": "a91bd233",
   "metadata": {},
   "outputs": [],
   "source": []
  },
  {
   "cell_type": "code",
   "execution_count": null,
   "id": "f87460dc",
   "metadata": {},
   "outputs": [],
   "source": []
  }
 ],
 "metadata": {
  "kernelspec": {
   "display_name": "Python 3 (ipykernel)",
   "language": "python",
   "name": "python3"
  },
  "language_info": {
   "codemirror_mode": {
    "name": "ipython",
    "version": 3
   },
   "file_extension": ".py",
   "mimetype": "text/x-python",
   "name": "python",
   "nbconvert_exporter": "python",
   "pygments_lexer": "ipython3",
   "version": "3.9.13"
  }
 },
 "nbformat": 4,
 "nbformat_minor": 5
}
